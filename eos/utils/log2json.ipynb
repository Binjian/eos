{
 "cells": [
  {
   "cell_type": "code",
   "execution_count": 1,
   "outputs": [],
   "source": [
    "import json\n",
    "from datetime import datetime\n",
    "from pathlib import Path\n",
    "import os\n",
    "\n",
    "from IPython.core.interactiveshell import InteractiveShell\n",
    "\n",
    "InteractiveShell.ast_node_interactivity = \"all\""
   ],
   "metadata": {
    "collapsed": false,
    "ExecuteTime": {
     "end_time": "2023-06-26T08:21:37.440575948Z",
     "start_time": "2023-06-26T08:21:37.440115957Z"
    }
   }
  },
  {
   "cell_type": "code",
   "execution_count": null,
   "outputs": [],
   "source": [
    "# argument parser\n",
    "# folder = Path('/dpt/veos/eos_jiangyin/HMZABAAHXNF005658−changlong-li/py_logs')\n",
    "# folder = Path('/dpt/veos/eos_jiangyin/HMZABAAH1MF011055−wangcheng/py_logs')\n",
    "# folder = Path('/dpt/veos/eos_jiangyin/HMZABAAH8NF005657−hongmei-chen/py_logs')\n",
    "folder = Path('/dpt/veos/eos_jiangyin/HMZABAAHXMF011054−wangcheng/py_logs')"
   ],
   "metadata": {
    "collapsed": false
   }
  },
  {
   "cell_type": "code",
   "execution_count": null,
   "outputs": [],
   "source": [
    "# files = glob.glob(str(folder) + \"/*.log\")\n",
    "files = folder.glob(\"*.log\")\n",
    "try:\n",
    "    os.mkdir(folder / \"converted\")\n",
    "except FileExistsError:\n",
    "    print('Folder already exists')\n",
    "\n",
    "\n",
    "for file in files:\n",
    "    converted_target_file = (\n",
    "        (file.resolve().parent / \"converted\" / file.name)\n",
    "        .with_stem(f'{file.stem}_from_log')\n",
    "        .with_suffix(\".json\")\n",
    "    )\n",
    "    # print(converted_target_file)\n",
    "\n",
    "    with open(file) as f:\n",
    "        # line by line\n",
    "        lines = f.readlines()\n",
    "        json_lines = []\n",
    "        for l in lines:\n",
    "            # remove \\n\n",
    "            l = l.strip(\"\\n\")\n",
    "            # string to dict\n",
    "            l = json.loads(l)\n",
    "            created = datetime.fromisoformat(l[\"asctime\"].replace(\",\", \".\"))\n",
    "            l[\"created\"] = created.timestamp()\n",
    "            # append dict\n",
    "            json_lines.append(l)\n",
    "    with open(converted_target_file, 'w') as f:\n",
    "        f.write(json.dumps(json_lines))\n",
    "    print(f'Converted {file} to {converted_target_file}')\n",
    "    # jsonFileName = file.split(\".\")\n",
    "    # print(jsonFileName)"
   ],
   "metadata": {
    "collapsed": false
   }
  },
  {
   "cell_type": "markdown",
   "source": [
    "# Analyze error and warnings in the json files"
   ],
   "metadata": {
    "collapsed": false
   }
  },
  {
   "cell_type": "code",
   "execution_count": 2,
   "outputs": [],
   "source": [
    "import pandas as pd\n"
   ],
   "metadata": {
    "collapsed": false,
    "ExecuteTime": {
     "end_time": "2023-06-26T08:21:38.774172028Z",
     "start_time": "2023-06-26T08:21:37.440369407Z"
    }
   }
  },
  {
   "cell_type": "code",
   "execution_count": 51,
   "outputs": [],
   "source": [
    "# def get_tuple_from_name_lineno(x):\n",
    "#     name = x[\"name\"]\n",
    "#     lineno = x[\"lineno\"]\n",
    "#     x['report_location'] = x['name'] + '_' + x['lineno'].astype(str)\n",
    "#     return x\n",
    "\n"
   ],
   "metadata": {
    "collapsed": false,
    "ExecuteTime": {
     "end_time": "2023-06-26T08:14:22.495009354Z",
     "start_time": "2023-06-26T08:14:22.444657991Z"
    }
   }
  },
  {
   "cell_type": "markdown",
   "source": [],
   "metadata": {
    "collapsed": false
   }
  },
  {
   "cell_type": "code",
   "execution_count": 22,
   "outputs": [
    {
     "name": "stderr",
     "output_type": "stream",
     "text": [
      "/tmp/ipykernel_1556145/2954595795.py:45: SettingWithCopyWarning: \n",
      "A value is trying to be set on a copy of a slice from a DataFrame.\n",
      "Try using .loc[row_indexer,col_indexer] = value instead\n",
      "\n",
      "See the caveats in the documentation: https://pandas.pydata.org/pandas-docs/stable/user_guide/indexing.html#returning-a-view-versus-a-copy\n",
      "  failures.loc[:, 'report_location'] = (\n",
      "/tmp/ipykernel_1556145/2954595795.py:45: SettingWithCopyWarning: \n",
      "A value is trying to be set on a copy of a slice from a DataFrame.\n",
      "Try using .loc[row_indexer,col_indexer] = value instead\n",
      "\n",
      "See the caveats in the documentation: https://pandas.pydata.org/pandas-docs/stable/user_guide/indexing.html#returning-a-view-versus-a-copy\n",
      "  failures.loc[:, 'report_location'] = (\n",
      "/tmp/ipykernel_1556145/2954595795.py:45: SettingWithCopyWarning: \n",
      "A value is trying to be set on a copy of a slice from a DataFrame.\n",
      "Try using .loc[row_indexer,col_indexer] = value instead\n",
      "\n",
      "See the caveats in the documentation: https://pandas.pydata.org/pandas-docs/stable/user_guide/indexing.html#returning-a-view-versus-a-copy\n",
      "  failures.loc[:, 'report_location'] = (\n"
     ]
    },
    {
     "name": "stdout",
     "output_type": "stream",
     "text": [
      "1\n",
      "2\n",
      "3\n"
     ]
    },
    {
     "name": "stderr",
     "output_type": "stream",
     "text": [
      "/tmp/ipykernel_1556145/2954595795.py:45: SettingWithCopyWarning: \n",
      "A value is trying to be set on a copy of a slice from a DataFrame.\n",
      "Try using .loc[row_indexer,col_indexer] = value instead\n",
      "\n",
      "See the caveats in the documentation: https://pandas.pydata.org/pandas-docs/stable/user_guide/indexing.html#returning-a-view-versus-a-copy\n",
      "  failures.loc[:, 'report_location'] = (\n"
     ]
    },
    {
     "name": "stdout",
     "output_type": "stream",
     "text": [
      "4\n"
     ]
    },
    {
     "name": "stderr",
     "output_type": "stream",
     "text": [
      "/tmp/ipykernel_1556145/2954595795.py:45: SettingWithCopyWarning: \n",
      "A value is trying to be set on a copy of a slice from a DataFrame.\n",
      "Try using .loc[row_indexer,col_indexer] = value instead\n",
      "\n",
      "See the caveats in the documentation: https://pandas.pydata.org/pandas-docs/stable/user_guide/indexing.html#returning-a-view-versus-a-copy\n",
      "  failures.loc[:, 'report_location'] = (\n",
      "/tmp/ipykernel_1556145/2954595795.py:45: SettingWithCopyWarning: \n",
      "A value is trying to be set on a copy of a slice from a DataFrame.\n",
      "Try using .loc[row_indexer,col_indexer] = value instead\n",
      "\n",
      "See the caveats in the documentation: https://pandas.pydata.org/pandas-docs/stable/user_guide/indexing.html#returning-a-view-versus-a-copy\n",
      "  failures.loc[:, 'report_location'] = (\n"
     ]
    },
    {
     "name": "stdout",
     "output_type": "stream",
     "text": [
      "5\n",
      "6\n"
     ]
    },
    {
     "name": "stderr",
     "output_type": "stream",
     "text": [
      "/tmp/ipykernel_1556145/2954595795.py:45: SettingWithCopyWarning: \n",
      "A value is trying to be set on a copy of a slice from a DataFrame.\n",
      "Try using .loc[row_indexer,col_indexer] = value instead\n",
      "\n",
      "See the caveats in the documentation: https://pandas.pydata.org/pandas-docs/stable/user_guide/indexing.html#returning-a-view-versus-a-copy\n",
      "  failures.loc[:, 'report_location'] = (\n"
     ]
    },
    {
     "name": "stdout",
     "output_type": "stream",
     "text": [
      "7\n"
     ]
    },
    {
     "name": "stderr",
     "output_type": "stream",
     "text": [
      "/tmp/ipykernel_1556145/2954595795.py:45: SettingWithCopyWarning: \n",
      "A value is trying to be set on a copy of a slice from a DataFrame.\n",
      "Try using .loc[row_indexer,col_indexer] = value instead\n",
      "\n",
      "See the caveats in the documentation: https://pandas.pydata.org/pandas-docs/stable/user_guide/indexing.html#returning-a-view-versus-a-copy\n",
      "  failures.loc[:, 'report_location'] = (\n"
     ]
    },
    {
     "name": "stdout",
     "output_type": "stream",
     "text": [
      "8\n"
     ]
    },
    {
     "name": "stderr",
     "output_type": "stream",
     "text": [
      "/tmp/ipykernel_1556145/2954595795.py:45: SettingWithCopyWarning: \n",
      "A value is trying to be set on a copy of a slice from a DataFrame.\n",
      "Try using .loc[row_indexer,col_indexer] = value instead\n",
      "\n",
      "See the caveats in the documentation: https://pandas.pydata.org/pandas-docs/stable/user_guide/indexing.html#returning-a-view-versus-a-copy\n",
      "  failures.loc[:, 'report_location'] = (\n",
      "/tmp/ipykernel_1556145/2954595795.py:45: SettingWithCopyWarning: \n",
      "A value is trying to be set on a copy of a slice from a DataFrame.\n",
      "Try using .loc[row_indexer,col_indexer] = value instead\n",
      "\n",
      "See the caveats in the documentation: https://pandas.pydata.org/pandas-docs/stable/user_guide/indexing.html#returning-a-view-versus-a-copy\n",
      "  failures.loc[:, 'report_location'] = (\n",
      "/tmp/ipykernel_1556145/2954595795.py:45: SettingWithCopyWarning: \n",
      "A value is trying to be set on a copy of a slice from a DataFrame.\n",
      "Try using .loc[row_indexer,col_indexer] = value instead\n",
      "\n",
      "See the caveats in the documentation: https://pandas.pydata.org/pandas-docs/stable/user_guide/indexing.html#returning-a-view-versus-a-copy\n",
      "  failures.loc[:, 'report_location'] = (\n"
     ]
    },
    {
     "name": "stdout",
     "output_type": "stream",
     "text": [
      "9\n",
      "10\n",
      "11\n"
     ]
    },
    {
     "name": "stderr",
     "output_type": "stream",
     "text": [
      "/tmp/ipykernel_1556145/2954595795.py:45: SettingWithCopyWarning: \n",
      "A value is trying to be set on a copy of a slice from a DataFrame.\n",
      "Try using .loc[row_indexer,col_indexer] = value instead\n",
      "\n",
      "See the caveats in the documentation: https://pandas.pydata.org/pandas-docs/stable/user_guide/indexing.html#returning-a-view-versus-a-copy\n",
      "  failures.loc[:, 'report_location'] = (\n"
     ]
    },
    {
     "name": "stdout",
     "output_type": "stream",
     "text": [
      "12\n"
     ]
    },
    {
     "name": "stderr",
     "output_type": "stream",
     "text": [
      "/tmp/ipykernel_1556145/2954595795.py:45: SettingWithCopyWarning: \n",
      "A value is trying to be set on a copy of a slice from a DataFrame.\n",
      "Try using .loc[row_indexer,col_indexer] = value instead\n",
      "\n",
      "See the caveats in the documentation: https://pandas.pydata.org/pandas-docs/stable/user_guide/indexing.html#returning-a-view-versus-a-copy\n",
      "  failures.loc[:, 'report_location'] = (\n"
     ]
    },
    {
     "name": "stdout",
     "output_type": "stream",
     "text": [
      "13\n"
     ]
    },
    {
     "name": "stderr",
     "output_type": "stream",
     "text": [
      "/tmp/ipykernel_1556145/2954595795.py:45: SettingWithCopyWarning: \n",
      "A value is trying to be set on a copy of a slice from a DataFrame.\n",
      "Try using .loc[row_indexer,col_indexer] = value instead\n",
      "\n",
      "See the caveats in the documentation: https://pandas.pydata.org/pandas-docs/stable/user_guide/indexing.html#returning-a-view-versus-a-copy\n",
      "  failures.loc[:, 'report_location'] = (\n"
     ]
    },
    {
     "name": "stdout",
     "output_type": "stream",
     "text": [
      "14\n"
     ]
    },
    {
     "name": "stderr",
     "output_type": "stream",
     "text": [
      "/tmp/ipykernel_1556145/2954595795.py:45: SettingWithCopyWarning: \n",
      "A value is trying to be set on a copy of a slice from a DataFrame.\n",
      "Try using .loc[row_indexer,col_indexer] = value instead\n",
      "\n",
      "See the caveats in the documentation: https://pandas.pydata.org/pandas-docs/stable/user_guide/indexing.html#returning-a-view-versus-a-copy\n",
      "  failures.loc[:, 'report_location'] = (\n"
     ]
    },
    {
     "name": "stdout",
     "output_type": "stream",
     "text": [
      "15\n"
     ]
    },
    {
     "name": "stderr",
     "output_type": "stream",
     "text": [
      "/tmp/ipykernel_1556145/2954595795.py:45: SettingWithCopyWarning: \n",
      "A value is trying to be set on a copy of a slice from a DataFrame.\n",
      "Try using .loc[row_indexer,col_indexer] = value instead\n",
      "\n",
      "See the caveats in the documentation: https://pandas.pydata.org/pandas-docs/stable/user_guide/indexing.html#returning-a-view-versus-a-copy\n",
      "  failures.loc[:, 'report_location'] = (\n",
      "/tmp/ipykernel_1556145/2954595795.py:45: SettingWithCopyWarning: \n",
      "A value is trying to be set on a copy of a slice from a DataFrame.\n",
      "Try using .loc[row_indexer,col_indexer] = value instead\n",
      "\n",
      "See the caveats in the documentation: https://pandas.pydata.org/pandas-docs/stable/user_guide/indexing.html#returning-a-view-versus-a-copy\n",
      "  failures.loc[:, 'report_location'] = (\n"
     ]
    },
    {
     "name": "stdout",
     "output_type": "stream",
     "text": [
      "16\n",
      "17\n"
     ]
    },
    {
     "name": "stderr",
     "output_type": "stream",
     "text": [
      "/tmp/ipykernel_1556145/2954595795.py:45: SettingWithCopyWarning: \n",
      "A value is trying to be set on a copy of a slice from a DataFrame.\n",
      "Try using .loc[row_indexer,col_indexer] = value instead\n",
      "\n",
      "See the caveats in the documentation: https://pandas.pydata.org/pandas-docs/stable/user_guide/indexing.html#returning-a-view-versus-a-copy\n",
      "  failures.loc[:, 'report_location'] = (\n"
     ]
    },
    {
     "name": "stdout",
     "output_type": "stream",
     "text": [
      "18\n"
     ]
    },
    {
     "name": "stderr",
     "output_type": "stream",
     "text": [
      "/tmp/ipykernel_1556145/2954595795.py:45: SettingWithCopyWarning: \n",
      "A value is trying to be set on a copy of a slice from a DataFrame.\n",
      "Try using .loc[row_indexer,col_indexer] = value instead\n",
      "\n",
      "See the caveats in the documentation: https://pandas.pydata.org/pandas-docs/stable/user_guide/indexing.html#returning-a-view-versus-a-copy\n",
      "  failures.loc[:, 'report_location'] = (\n"
     ]
    },
    {
     "name": "stdout",
     "output_type": "stream",
     "text": [
      "19\n"
     ]
    },
    {
     "name": "stderr",
     "output_type": "stream",
     "text": [
      "/tmp/ipykernel_1556145/2954595795.py:45: SettingWithCopyWarning: \n",
      "A value is trying to be set on a copy of a slice from a DataFrame.\n",
      "Try using .loc[row_indexer,col_indexer] = value instead\n",
      "\n",
      "See the caveats in the documentation: https://pandas.pydata.org/pandas-docs/stable/user_guide/indexing.html#returning-a-view-versus-a-copy\n",
      "  failures.loc[:, 'report_location'] = (\n"
     ]
    },
    {
     "name": "stdout",
     "output_type": "stream",
     "text": [
      "20\n"
     ]
    },
    {
     "name": "stderr",
     "output_type": "stream",
     "text": [
      "/tmp/ipykernel_1556145/2954595795.py:45: SettingWithCopyWarning: \n",
      "A value is trying to be set on a copy of a slice from a DataFrame.\n",
      "Try using .loc[row_indexer,col_indexer] = value instead\n",
      "\n",
      "See the caveats in the documentation: https://pandas.pydata.org/pandas-docs/stable/user_guide/indexing.html#returning-a-view-versus-a-copy\n",
      "  failures.loc[:, 'report_location'] = (\n"
     ]
    },
    {
     "name": "stdout",
     "output_type": "stream",
     "text": [
      "21\n"
     ]
    },
    {
     "name": "stderr",
     "output_type": "stream",
     "text": [
      "/tmp/ipykernel_1556145/2954595795.py:45: SettingWithCopyWarning: \n",
      "A value is trying to be set on a copy of a slice from a DataFrame.\n",
      "Try using .loc[row_indexer,col_indexer] = value instead\n",
      "\n",
      "See the caveats in the documentation: https://pandas.pydata.org/pandas-docs/stable/user_guide/indexing.html#returning-a-view-versus-a-copy\n",
      "  failures.loc[:, 'report_location'] = (\n"
     ]
    },
    {
     "name": "stdout",
     "output_type": "stream",
     "text": [
      "22\n"
     ]
    },
    {
     "name": "stderr",
     "output_type": "stream",
     "text": [
      "/tmp/ipykernel_1556145/2954595795.py:45: SettingWithCopyWarning: \n",
      "A value is trying to be set on a copy of a slice from a DataFrame.\n",
      "Try using .loc[row_indexer,col_indexer] = value instead\n",
      "\n",
      "See the caveats in the documentation: https://pandas.pydata.org/pandas-docs/stable/user_guide/indexing.html#returning-a-view-versus-a-copy\n",
      "  failures.loc[:, 'report_location'] = (\n",
      "/tmp/ipykernel_1556145/2954595795.py:45: SettingWithCopyWarning: \n",
      "A value is trying to be set on a copy of a slice from a DataFrame.\n",
      "Try using .loc[row_indexer,col_indexer] = value instead\n",
      "\n",
      "See the caveats in the documentation: https://pandas.pydata.org/pandas-docs/stable/user_guide/indexing.html#returning-a-view-versus-a-copy\n",
      "  failures.loc[:, 'report_location'] = (\n"
     ]
    },
    {
     "name": "stdout",
     "output_type": "stream",
     "text": [
      "23\n",
      "24\n"
     ]
    },
    {
     "name": "stderr",
     "output_type": "stream",
     "text": [
      "/tmp/ipykernel_1556145/2954595795.py:45: SettingWithCopyWarning: \n",
      "A value is trying to be set on a copy of a slice from a DataFrame.\n",
      "Try using .loc[row_indexer,col_indexer] = value instead\n",
      "\n",
      "See the caveats in the documentation: https://pandas.pydata.org/pandas-docs/stable/user_guide/indexing.html#returning-a-view-versus-a-copy\n",
      "  failures.loc[:, 'report_location'] = (\n"
     ]
    },
    {
     "name": "stdout",
     "output_type": "stream",
     "text": [
      "25\n"
     ]
    },
    {
     "name": "stderr",
     "output_type": "stream",
     "text": [
      "/tmp/ipykernel_1556145/2954595795.py:45: SettingWithCopyWarning: \n",
      "A value is trying to be set on a copy of a slice from a DataFrame.\n",
      "Try using .loc[row_indexer,col_indexer] = value instead\n",
      "\n",
      "See the caveats in the documentation: https://pandas.pydata.org/pandas-docs/stable/user_guide/indexing.html#returning-a-view-versus-a-copy\n",
      "  failures.loc[:, 'report_location'] = (\n"
     ]
    },
    {
     "name": "stdout",
     "output_type": "stream",
     "text": [
      "26\n"
     ]
    },
    {
     "name": "stderr",
     "output_type": "stream",
     "text": [
      "/tmp/ipykernel_1556145/2954595795.py:45: SettingWithCopyWarning: \n",
      "A value is trying to be set on a copy of a slice from a DataFrame.\n",
      "Try using .loc[row_indexer,col_indexer] = value instead\n",
      "\n",
      "See the caveats in the documentation: https://pandas.pydata.org/pandas-docs/stable/user_guide/indexing.html#returning-a-view-versus-a-copy\n",
      "  failures.loc[:, 'report_location'] = (\n"
     ]
    },
    {
     "name": "stdout",
     "output_type": "stream",
     "text": [
      "27\n"
     ]
    },
    {
     "name": "stderr",
     "output_type": "stream",
     "text": [
      "/tmp/ipykernel_1556145/2954595795.py:45: SettingWithCopyWarning: \n",
      "A value is trying to be set on a copy of a slice from a DataFrame.\n",
      "Try using .loc[row_indexer,col_indexer] = value instead\n",
      "\n",
      "See the caveats in the documentation: https://pandas.pydata.org/pandas-docs/stable/user_guide/indexing.html#returning-a-view-versus-a-copy\n",
      "  failures.loc[:, 'report_location'] = (\n"
     ]
    },
    {
     "name": "stdout",
     "output_type": "stream",
     "text": [
      "28\n"
     ]
    },
    {
     "name": "stderr",
     "output_type": "stream",
     "text": [
      "/tmp/ipykernel_1556145/2954595795.py:45: SettingWithCopyWarning: \n",
      "A value is trying to be set on a copy of a slice from a DataFrame.\n",
      "Try using .loc[row_indexer,col_indexer] = value instead\n",
      "\n",
      "See the caveats in the documentation: https://pandas.pydata.org/pandas-docs/stable/user_guide/indexing.html#returning-a-view-versus-a-copy\n",
      "  failures.loc[:, 'report_location'] = (\n",
      "/tmp/ipykernel_1556145/2954595795.py:45: SettingWithCopyWarning: \n",
      "A value is trying to be set on a copy of a slice from a DataFrame.\n",
      "Try using .loc[row_indexer,col_indexer] = value instead\n",
      "\n",
      "See the caveats in the documentation: https://pandas.pydata.org/pandas-docs/stable/user_guide/indexing.html#returning-a-view-versus-a-copy\n",
      "  failures.loc[:, 'report_location'] = (\n"
     ]
    },
    {
     "name": "stdout",
     "output_type": "stream",
     "text": [
      "29\n",
      "30\n"
     ]
    },
    {
     "name": "stderr",
     "output_type": "stream",
     "text": [
      "/tmp/ipykernel_1556145/2954595795.py:45: SettingWithCopyWarning: \n",
      "A value is trying to be set on a copy of a slice from a DataFrame.\n",
      "Try using .loc[row_indexer,col_indexer] = value instead\n",
      "\n",
      "See the caveats in the documentation: https://pandas.pydata.org/pandas-docs/stable/user_guide/indexing.html#returning-a-view-versus-a-copy\n",
      "  failures.loc[:, 'report_location'] = (\n"
     ]
    },
    {
     "name": "stdout",
     "output_type": "stream",
     "text": [
      "31\n"
     ]
    },
    {
     "name": "stderr",
     "output_type": "stream",
     "text": [
      "/tmp/ipykernel_1556145/2954595795.py:45: SettingWithCopyWarning: \n",
      "A value is trying to be set on a copy of a slice from a DataFrame.\n",
      "Try using .loc[row_indexer,col_indexer] = value instead\n",
      "\n",
      "See the caveats in the documentation: https://pandas.pydata.org/pandas-docs/stable/user_guide/indexing.html#returning-a-view-versus-a-copy\n",
      "  failures.loc[:, 'report_location'] = (\n",
      "/tmp/ipykernel_1556145/2954595795.py:45: SettingWithCopyWarning: \n",
      "A value is trying to be set on a copy of a slice from a DataFrame.\n",
      "Try using .loc[row_indexer,col_indexer] = value instead\n",
      "\n",
      "See the caveats in the documentation: https://pandas.pydata.org/pandas-docs/stable/user_guide/indexing.html#returning-a-view-versus-a-copy\n",
      "  failures.loc[:, 'report_location'] = (\n"
     ]
    },
    {
     "name": "stdout",
     "output_type": "stream",
     "text": [
      "32\n",
      "33\n"
     ]
    },
    {
     "name": "stderr",
     "output_type": "stream",
     "text": [
      "/tmp/ipykernel_1556145/2954595795.py:45: SettingWithCopyWarning: \n",
      "A value is trying to be set on a copy of a slice from a DataFrame.\n",
      "Try using .loc[row_indexer,col_indexer] = value instead\n",
      "\n",
      "See the caveats in the documentation: https://pandas.pydata.org/pandas-docs/stable/user_guide/indexing.html#returning-a-view-versus-a-copy\n",
      "  failures.loc[:, 'report_location'] = (\n",
      "/tmp/ipykernel_1556145/2954595795.py:45: SettingWithCopyWarning: \n",
      "A value is trying to be set on a copy of a slice from a DataFrame.\n",
      "Try using .loc[row_indexer,col_indexer] = value instead\n",
      "\n",
      "See the caveats in the documentation: https://pandas.pydata.org/pandas-docs/stable/user_guide/indexing.html#returning-a-view-versus-a-copy\n",
      "  failures.loc[:, 'report_location'] = (\n"
     ]
    },
    {
     "name": "stdout",
     "output_type": "stream",
     "text": [
      "34\n",
      "35\n"
     ]
    },
    {
     "name": "stderr",
     "output_type": "stream",
     "text": [
      "/tmp/ipykernel_1556145/2954595795.py:45: SettingWithCopyWarning: \n",
      "A value is trying to be set on a copy of a slice from a DataFrame.\n",
      "Try using .loc[row_indexer,col_indexer] = value instead\n",
      "\n",
      "See the caveats in the documentation: https://pandas.pydata.org/pandas-docs/stable/user_guide/indexing.html#returning-a-view-versus-a-copy\n",
      "  failures.loc[:, 'report_location'] = (\n"
     ]
    },
    {
     "name": "stdout",
     "output_type": "stream",
     "text": [
      "36\n",
      "37\n"
     ]
    },
    {
     "name": "stderr",
     "output_type": "stream",
     "text": [
      "/tmp/ipykernel_1556145/2954595795.py:45: SettingWithCopyWarning: \n",
      "A value is trying to be set on a copy of a slice from a DataFrame.\n",
      "Try using .loc[row_indexer,col_indexer] = value instead\n",
      "\n",
      "See the caveats in the documentation: https://pandas.pydata.org/pandas-docs/stable/user_guide/indexing.html#returning-a-view-versus-a-copy\n",
      "  failures.loc[:, 'report_location'] = (\n",
      "/tmp/ipykernel_1556145/2954595795.py:45: SettingWithCopyWarning: \n",
      "A value is trying to be set on a copy of a slice from a DataFrame.\n",
      "Try using .loc[row_indexer,col_indexer] = value instead\n",
      "\n",
      "See the caveats in the documentation: https://pandas.pydata.org/pandas-docs/stable/user_guide/indexing.html#returning-a-view-versus-a-copy\n",
      "  failures.loc[:, 'report_location'] = (\n"
     ]
    },
    {
     "name": "stdout",
     "output_type": "stream",
     "text": [
      "38\n"
     ]
    },
    {
     "name": "stderr",
     "output_type": "stream",
     "text": [
      "/tmp/ipykernel_1556145/2954595795.py:45: SettingWithCopyWarning: \n",
      "A value is trying to be set on a copy of a slice from a DataFrame.\n",
      "Try using .loc[row_indexer,col_indexer] = value instead\n",
      "\n",
      "See the caveats in the documentation: https://pandas.pydata.org/pandas-docs/stable/user_guide/indexing.html#returning-a-view-versus-a-copy\n",
      "  failures.loc[:, 'report_location'] = (\n"
     ]
    },
    {
     "name": "stdout",
     "output_type": "stream",
     "text": [
      "39\n"
     ]
    },
    {
     "name": "stderr",
     "output_type": "stream",
     "text": [
      "/tmp/ipykernel_1556145/2954595795.py:45: SettingWithCopyWarning: \n",
      "A value is trying to be set on a copy of a slice from a DataFrame.\n",
      "Try using .loc[row_indexer,col_indexer] = value instead\n",
      "\n",
      "See the caveats in the documentation: https://pandas.pydata.org/pandas-docs/stable/user_guide/indexing.html#returning-a-view-versus-a-copy\n",
      "  failures.loc[:, 'report_location'] = (\n",
      "/tmp/ipykernel_1556145/2954595795.py:45: SettingWithCopyWarning: \n",
      "A value is trying to be set on a copy of a slice from a DataFrame.\n",
      "Try using .loc[row_indexer,col_indexer] = value instead\n",
      "\n",
      "See the caveats in the documentation: https://pandas.pydata.org/pandas-docs/stable/user_guide/indexing.html#returning-a-view-versus-a-copy\n",
      "  failures.loc[:, 'report_location'] = (\n",
      "/tmp/ipykernel_1556145/2954595795.py:45: SettingWithCopyWarning: \n",
      "A value is trying to be set on a copy of a slice from a DataFrame.\n",
      "Try using .loc[row_indexer,col_indexer] = value instead\n",
      "\n",
      "See the caveats in the documentation: https://pandas.pydata.org/pandas-docs/stable/user_guide/indexing.html#returning-a-view-versus-a-copy\n",
      "  failures.loc[:, 'report_location'] = (\n",
      "/tmp/ipykernel_1556145/2954595795.py:45: SettingWithCopyWarning: \n",
      "A value is trying to be set on a copy of a slice from a DataFrame.\n",
      "Try using .loc[row_indexer,col_indexer] = value instead\n",
      "\n",
      "See the caveats in the documentation: https://pandas.pydata.org/pandas-docs/stable/user_guide/indexing.html#returning-a-view-versus-a-copy\n",
      "  failures.loc[:, 'report_location'] = (\n"
     ]
    },
    {
     "name": "stdout",
     "output_type": "stream",
     "text": [
      "40\n",
      "41\n",
      "42\n",
      "43\n"
     ]
    },
    {
     "name": "stderr",
     "output_type": "stream",
     "text": [
      "/tmp/ipykernel_1556145/2954595795.py:45: SettingWithCopyWarning: \n",
      "A value is trying to be set on a copy of a slice from a DataFrame.\n",
      "Try using .loc[row_indexer,col_indexer] = value instead\n",
      "\n",
      "See the caveats in the documentation: https://pandas.pydata.org/pandas-docs/stable/user_guide/indexing.html#returning-a-view-versus-a-copy\n",
      "  failures.loc[:, 'report_location'] = (\n",
      "/tmp/ipykernel_1556145/2954595795.py:45: SettingWithCopyWarning: \n",
      "A value is trying to be set on a copy of a slice from a DataFrame.\n",
      "Try using .loc[row_indexer,col_indexer] = value instead\n",
      "\n",
      "See the caveats in the documentation: https://pandas.pydata.org/pandas-docs/stable/user_guide/indexing.html#returning-a-view-versus-a-copy\n",
      "  failures.loc[:, 'report_location'] = (\n"
     ]
    },
    {
     "name": "stdout",
     "output_type": "stream",
     "text": [
      "44\n",
      "45\n"
     ]
    },
    {
     "name": "stderr",
     "output_type": "stream",
     "text": [
      "/tmp/ipykernel_1556145/2954595795.py:45: SettingWithCopyWarning: \n",
      "A value is trying to be set on a copy of a slice from a DataFrame.\n",
      "Try using .loc[row_indexer,col_indexer] = value instead\n",
      "\n",
      "See the caveats in the documentation: https://pandas.pydata.org/pandas-docs/stable/user_guide/indexing.html#returning-a-view-versus-a-copy\n",
      "  failures.loc[:, 'report_location'] = (\n",
      "/tmp/ipykernel_1556145/2954595795.py:45: SettingWithCopyWarning: \n",
      "A value is trying to be set on a copy of a slice from a DataFrame.\n",
      "Try using .loc[row_indexer,col_indexer] = value instead\n",
      "\n",
      "See the caveats in the documentation: https://pandas.pydata.org/pandas-docs/stable/user_guide/indexing.html#returning-a-view-versus-a-copy\n",
      "  failures.loc[:, 'report_location'] = (\n",
      "/tmp/ipykernel_1556145/2954595795.py:45: SettingWithCopyWarning: \n",
      "A value is trying to be set on a copy of a slice from a DataFrame.\n",
      "Try using .loc[row_indexer,col_indexer] = value instead\n",
      "\n",
      "See the caveats in the documentation: https://pandas.pydata.org/pandas-docs/stable/user_guide/indexing.html#returning-a-view-versus-a-copy\n",
      "  failures.loc[:, 'report_location'] = (\n",
      "/tmp/ipykernel_1556145/2954595795.py:45: SettingWithCopyWarning: \n",
      "A value is trying to be set on a copy of a slice from a DataFrame.\n",
      "Try using .loc[row_indexer,col_indexer] = value instead\n",
      "\n",
      "See the caveats in the documentation: https://pandas.pydata.org/pandas-docs/stable/user_guide/indexing.html#returning-a-view-versus-a-copy\n",
      "  failures.loc[:, 'report_location'] = (\n"
     ]
    },
    {
     "name": "stdout",
     "output_type": "stream",
     "text": [
      "46\n",
      "47\n",
      "48\n",
      "49\n"
     ]
    },
    {
     "name": "stderr",
     "output_type": "stream",
     "text": [
      "/tmp/ipykernel_1556145/2954595795.py:45: SettingWithCopyWarning: \n",
      "A value is trying to be set on a copy of a slice from a DataFrame.\n",
      "Try using .loc[row_indexer,col_indexer] = value instead\n",
      "\n",
      "See the caveats in the documentation: https://pandas.pydata.org/pandas-docs/stable/user_guide/indexing.html#returning-a-view-versus-a-copy\n",
      "  failures.loc[:, 'report_location'] = (\n"
     ]
    },
    {
     "name": "stdout",
     "output_type": "stream",
     "text": [
      "50\n"
     ]
    },
    {
     "name": "stderr",
     "output_type": "stream",
     "text": [
      "/tmp/ipykernel_1556145/2954595795.py:45: SettingWithCopyWarning: \n",
      "A value is trying to be set on a copy of a slice from a DataFrame.\n",
      "Try using .loc[row_indexer,col_indexer] = value instead\n",
      "\n",
      "See the caveats in the documentation: https://pandas.pydata.org/pandas-docs/stable/user_guide/indexing.html#returning-a-view-versus-a-copy\n",
      "  failures.loc[:, 'report_location'] = (\n",
      "/tmp/ipykernel_1556145/2954595795.py:45: SettingWithCopyWarning: \n",
      "A value is trying to be set on a copy of a slice from a DataFrame.\n",
      "Try using .loc[row_indexer,col_indexer] = value instead\n",
      "\n",
      "See the caveats in the documentation: https://pandas.pydata.org/pandas-docs/stable/user_guide/indexing.html#returning-a-view-versus-a-copy\n",
      "  failures.loc[:, 'report_location'] = (\n"
     ]
    },
    {
     "name": "stdout",
     "output_type": "stream",
     "text": [
      "51\n",
      "52\n"
     ]
    },
    {
     "name": "stderr",
     "output_type": "stream",
     "text": [
      "/tmp/ipykernel_1556145/2954595795.py:45: SettingWithCopyWarning: \n",
      "A value is trying to be set on a copy of a slice from a DataFrame.\n",
      "Try using .loc[row_indexer,col_indexer] = value instead\n",
      "\n",
      "See the caveats in the documentation: https://pandas.pydata.org/pandas-docs/stable/user_guide/indexing.html#returning-a-view-versus-a-copy\n",
      "  failures.loc[:, 'report_location'] = (\n",
      "/tmp/ipykernel_1556145/2954595795.py:45: SettingWithCopyWarning: \n",
      "A value is trying to be set on a copy of a slice from a DataFrame.\n",
      "Try using .loc[row_indexer,col_indexer] = value instead\n",
      "\n",
      "See the caveats in the documentation: https://pandas.pydata.org/pandas-docs/stable/user_guide/indexing.html#returning-a-view-versus-a-copy\n",
      "  failures.loc[:, 'report_location'] = (\n"
     ]
    },
    {
     "name": "stdout",
     "output_type": "stream",
     "text": [
      "53\n",
      "54\n"
     ]
    },
    {
     "name": "stderr",
     "output_type": "stream",
     "text": [
      "/tmp/ipykernel_1556145/2954595795.py:45: SettingWithCopyWarning: \n",
      "A value is trying to be set on a copy of a slice from a DataFrame.\n",
      "Try using .loc[row_indexer,col_indexer] = value instead\n",
      "\n",
      "See the caveats in the documentation: https://pandas.pydata.org/pandas-docs/stable/user_guide/indexing.html#returning-a-view-versus-a-copy\n",
      "  failures.loc[:, 'report_location'] = (\n",
      "/tmp/ipykernel_1556145/2954595795.py:45: SettingWithCopyWarning: \n",
      "A value is trying to be set on a copy of a slice from a DataFrame.\n",
      "Try using .loc[row_indexer,col_indexer] = value instead\n",
      "\n",
      "See the caveats in the documentation: https://pandas.pydata.org/pandas-docs/stable/user_guide/indexing.html#returning-a-view-versus-a-copy\n",
      "  failures.loc[:, 'report_location'] = (\n"
     ]
    },
    {
     "name": "stdout",
     "output_type": "stream",
     "text": [
      "55\n",
      "56\n"
     ]
    },
    {
     "name": "stderr",
     "output_type": "stream",
     "text": [
      "/tmp/ipykernel_1556145/2954595795.py:45: SettingWithCopyWarning: \n",
      "A value is trying to be set on a copy of a slice from a DataFrame.\n",
      "Try using .loc[row_indexer,col_indexer] = value instead\n",
      "\n",
      "See the caveats in the documentation: https://pandas.pydata.org/pandas-docs/stable/user_guide/indexing.html#returning-a-view-versus-a-copy\n",
      "  failures.loc[:, 'report_location'] = (\n"
     ]
    },
    {
     "name": "stdout",
     "output_type": "stream",
     "text": [
      "57\n"
     ]
    },
    {
     "name": "stderr",
     "output_type": "stream",
     "text": [
      "/tmp/ipykernel_1556145/2954595795.py:45: SettingWithCopyWarning: \n",
      "A value is trying to be set on a copy of a slice from a DataFrame.\n",
      "Try using .loc[row_indexer,col_indexer] = value instead\n",
      "\n",
      "See the caveats in the documentation: https://pandas.pydata.org/pandas-docs/stable/user_guide/indexing.html#returning-a-view-versus-a-copy\n",
      "  failures.loc[:, 'report_location'] = (\n"
     ]
    },
    {
     "name": "stdout",
     "output_type": "stream",
     "text": [
      "58\n"
     ]
    },
    {
     "name": "stderr",
     "output_type": "stream",
     "text": [
      "/tmp/ipykernel_1556145/2954595795.py:45: SettingWithCopyWarning: \n",
      "A value is trying to be set on a copy of a slice from a DataFrame.\n",
      "Try using .loc[row_indexer,col_indexer] = value instead\n",
      "\n",
      "See the caveats in the documentation: https://pandas.pydata.org/pandas-docs/stable/user_guide/indexing.html#returning-a-view-versus-a-copy\n",
      "  failures.loc[:, 'report_location'] = (\n"
     ]
    },
    {
     "name": "stdout",
     "output_type": "stream",
     "text": [
      "59\n"
     ]
    },
    {
     "name": "stderr",
     "output_type": "stream",
     "text": [
      "/tmp/ipykernel_1556145/2954595795.py:45: SettingWithCopyWarning: \n",
      "A value is trying to be set on a copy of a slice from a DataFrame.\n",
      "Try using .loc[row_indexer,col_indexer] = value instead\n",
      "\n",
      "See the caveats in the documentation: https://pandas.pydata.org/pandas-docs/stable/user_guide/indexing.html#returning-a-view-versus-a-copy\n",
      "  failures.loc[:, 'report_location'] = (\n",
      "/tmp/ipykernel_1556145/2954595795.py:45: SettingWithCopyWarning: \n",
      "A value is trying to be set on a copy of a slice from a DataFrame.\n",
      "Try using .loc[row_indexer,col_indexer] = value instead\n",
      "\n",
      "See the caveats in the documentation: https://pandas.pydata.org/pandas-docs/stable/user_guide/indexing.html#returning-a-view-versus-a-copy\n",
      "  failures.loc[:, 'report_location'] = (\n",
      "/tmp/ipykernel_1556145/2954595795.py:45: SettingWithCopyWarning: \n",
      "A value is trying to be set on a copy of a slice from a DataFrame.\n",
      "Try using .loc[row_indexer,col_indexer] = value instead\n",
      "\n",
      "See the caveats in the documentation: https://pandas.pydata.org/pandas-docs/stable/user_guide/indexing.html#returning-a-view-versus-a-copy\n",
      "  failures.loc[:, 'report_location'] = (\n",
      "/tmp/ipykernel_1556145/2954595795.py:45: SettingWithCopyWarning: \n",
      "A value is trying to be set on a copy of a slice from a DataFrame.\n",
      "Try using .loc[row_indexer,col_indexer] = value instead\n",
      "\n",
      "See the caveats in the documentation: https://pandas.pydata.org/pandas-docs/stable/user_guide/indexing.html#returning-a-view-versus-a-copy\n",
      "  failures.loc[:, 'report_location'] = (\n",
      "/tmp/ipykernel_1556145/2954595795.py:45: SettingWithCopyWarning: \n",
      "A value is trying to be set on a copy of a slice from a DataFrame.\n",
      "Try using .loc[row_indexer,col_indexer] = value instead\n",
      "\n",
      "See the caveats in the documentation: https://pandas.pydata.org/pandas-docs/stable/user_guide/indexing.html#returning-a-view-versus-a-copy\n",
      "  failures.loc[:, 'report_location'] = (\n"
     ]
    },
    {
     "name": "stdout",
     "output_type": "stream",
     "text": [
      "60\n",
      "61\n",
      "62\n",
      "63\n",
      "64\n"
     ]
    },
    {
     "name": "stderr",
     "output_type": "stream",
     "text": [
      "/tmp/ipykernel_1556145/2954595795.py:45: SettingWithCopyWarning: \n",
      "A value is trying to be set on a copy of a slice from a DataFrame.\n",
      "Try using .loc[row_indexer,col_indexer] = value instead\n",
      "\n",
      "See the caveats in the documentation: https://pandas.pydata.org/pandas-docs/stable/user_guide/indexing.html#returning-a-view-versus-a-copy\n",
      "  failures.loc[:, 'report_location'] = (\n",
      "/tmp/ipykernel_1556145/2954595795.py:45: SettingWithCopyWarning: \n",
      "A value is trying to be set on a copy of a slice from a DataFrame.\n",
      "Try using .loc[row_indexer,col_indexer] = value instead\n",
      "\n",
      "See the caveats in the documentation: https://pandas.pydata.org/pandas-docs/stable/user_guide/indexing.html#returning-a-view-versus-a-copy\n",
      "  failures.loc[:, 'report_location'] = (\n"
     ]
    },
    {
     "name": "stdout",
     "output_type": "stream",
     "text": [
      "65\n",
      "66\n"
     ]
    },
    {
     "name": "stderr",
     "output_type": "stream",
     "text": [
      "/tmp/ipykernel_1556145/2954595795.py:45: SettingWithCopyWarning: \n",
      "A value is trying to be set on a copy of a slice from a DataFrame.\n",
      "Try using .loc[row_indexer,col_indexer] = value instead\n",
      "\n",
      "See the caveats in the documentation: https://pandas.pydata.org/pandas-docs/stable/user_guide/indexing.html#returning-a-view-versus-a-copy\n",
      "  failures.loc[:, 'report_location'] = (\n",
      "/tmp/ipykernel_1556145/2954595795.py:45: SettingWithCopyWarning: \n",
      "A value is trying to be set on a copy of a slice from a DataFrame.\n",
      "Try using .loc[row_indexer,col_indexer] = value instead\n",
      "\n",
      "See the caveats in the documentation: https://pandas.pydata.org/pandas-docs/stable/user_guide/indexing.html#returning-a-view-versus-a-copy\n",
      "  failures.loc[:, 'report_location'] = (\n",
      "/tmp/ipykernel_1556145/2954595795.py:45: SettingWithCopyWarning: \n",
      "A value is trying to be set on a copy of a slice from a DataFrame.\n",
      "Try using .loc[row_indexer,col_indexer] = value instead\n",
      "\n",
      "See the caveats in the documentation: https://pandas.pydata.org/pandas-docs/stable/user_guide/indexing.html#returning-a-view-versus-a-copy\n",
      "  failures.loc[:, 'report_location'] = (\n"
     ]
    },
    {
     "name": "stdout",
     "output_type": "stream",
     "text": [
      "67\n",
      "68\n",
      "69\n"
     ]
    },
    {
     "name": "stderr",
     "output_type": "stream",
     "text": [
      "/tmp/ipykernel_1556145/2954595795.py:45: SettingWithCopyWarning: \n",
      "A value is trying to be set on a copy of a slice from a DataFrame.\n",
      "Try using .loc[row_indexer,col_indexer] = value instead\n",
      "\n",
      "See the caveats in the documentation: https://pandas.pydata.org/pandas-docs/stable/user_guide/indexing.html#returning-a-view-versus-a-copy\n",
      "  failures.loc[:, 'report_location'] = (\n",
      "/tmp/ipykernel_1556145/2954595795.py:45: SettingWithCopyWarning: \n",
      "A value is trying to be set on a copy of a slice from a DataFrame.\n",
      "Try using .loc[row_indexer,col_indexer] = value instead\n",
      "\n",
      "See the caveats in the documentation: https://pandas.pydata.org/pandas-docs/stable/user_guide/indexing.html#returning-a-view-versus-a-copy\n",
      "  failures.loc[:, 'report_location'] = (\n",
      "/tmp/ipykernel_1556145/2954595795.py:45: SettingWithCopyWarning: \n",
      "A value is trying to be set on a copy of a slice from a DataFrame.\n",
      "Try using .loc[row_indexer,col_indexer] = value instead\n",
      "\n",
      "See the caveats in the documentation: https://pandas.pydata.org/pandas-docs/stable/user_guide/indexing.html#returning-a-view-versus-a-copy\n",
      "  failures.loc[:, 'report_location'] = (\n"
     ]
    },
    {
     "name": "stdout",
     "output_type": "stream",
     "text": [
      "70\n",
      "71\n",
      "72\n"
     ]
    },
    {
     "name": "stderr",
     "output_type": "stream",
     "text": [
      "/tmp/ipykernel_1556145/2954595795.py:45: SettingWithCopyWarning: \n",
      "A value is trying to be set on a copy of a slice from a DataFrame.\n",
      "Try using .loc[row_indexer,col_indexer] = value instead\n",
      "\n",
      "See the caveats in the documentation: https://pandas.pydata.org/pandas-docs/stable/user_guide/indexing.html#returning-a-view-versus-a-copy\n",
      "  failures.loc[:, 'report_location'] = (\n",
      "/tmp/ipykernel_1556145/2954595795.py:45: SettingWithCopyWarning: \n",
      "A value is trying to be set on a copy of a slice from a DataFrame.\n",
      "Try using .loc[row_indexer,col_indexer] = value instead\n",
      "\n",
      "See the caveats in the documentation: https://pandas.pydata.org/pandas-docs/stable/user_guide/indexing.html#returning-a-view-versus-a-copy\n",
      "  failures.loc[:, 'report_location'] = (\n",
      "/tmp/ipykernel_1556145/2954595795.py:45: SettingWithCopyWarning: \n",
      "A value is trying to be set on a copy of a slice from a DataFrame.\n",
      "Try using .loc[row_indexer,col_indexer] = value instead\n",
      "\n",
      "See the caveats in the documentation: https://pandas.pydata.org/pandas-docs/stable/user_guide/indexing.html#returning-a-view-versus-a-copy\n",
      "  failures.loc[:, 'report_location'] = (\n",
      "/tmp/ipykernel_1556145/2954595795.py:45: SettingWithCopyWarning: \n",
      "A value is trying to be set on a copy of a slice from a DataFrame.\n",
      "Try using .loc[row_indexer,col_indexer] = value instead\n",
      "\n",
      "See the caveats in the documentation: https://pandas.pydata.org/pandas-docs/stable/user_guide/indexing.html#returning-a-view-versus-a-copy\n",
      "  failures.loc[:, 'report_location'] = (\n"
     ]
    },
    {
     "name": "stdout",
     "output_type": "stream",
     "text": [
      "73\n",
      "74\n",
      "75\n",
      "76\n"
     ]
    },
    {
     "name": "stderr",
     "output_type": "stream",
     "text": [
      "/tmp/ipykernel_1556145/2954595795.py:45: SettingWithCopyWarning: \n",
      "A value is trying to be set on a copy of a slice from a DataFrame.\n",
      "Try using .loc[row_indexer,col_indexer] = value instead\n",
      "\n",
      "See the caveats in the documentation: https://pandas.pydata.org/pandas-docs/stable/user_guide/indexing.html#returning-a-view-versus-a-copy\n",
      "  failures.loc[:, 'report_location'] = (\n",
      "/tmp/ipykernel_1556145/2954595795.py:45: SettingWithCopyWarning: \n",
      "A value is trying to be set on a copy of a slice from a DataFrame.\n",
      "Try using .loc[row_indexer,col_indexer] = value instead\n",
      "\n",
      "See the caveats in the documentation: https://pandas.pydata.org/pandas-docs/stable/user_guide/indexing.html#returning-a-view-versus-a-copy\n",
      "  failures.loc[:, 'report_location'] = (\n",
      "/tmp/ipykernel_1556145/2954595795.py:45: SettingWithCopyWarning: \n",
      "A value is trying to be set on a copy of a slice from a DataFrame.\n",
      "Try using .loc[row_indexer,col_indexer] = value instead\n",
      "\n",
      "See the caveats in the documentation: https://pandas.pydata.org/pandas-docs/stable/user_guide/indexing.html#returning-a-view-versus-a-copy\n",
      "  failures.loc[:, 'report_location'] = (\n"
     ]
    },
    {
     "name": "stdout",
     "output_type": "stream",
     "text": [
      "77\n",
      "78\n",
      "79\n"
     ]
    },
    {
     "name": "stderr",
     "output_type": "stream",
     "text": [
      "/tmp/ipykernel_1556145/2954595795.py:45: SettingWithCopyWarning: \n",
      "A value is trying to be set on a copy of a slice from a DataFrame.\n",
      "Try using .loc[row_indexer,col_indexer] = value instead\n",
      "\n",
      "See the caveats in the documentation: https://pandas.pydata.org/pandas-docs/stable/user_guide/indexing.html#returning-a-view-versus-a-copy\n",
      "  failures.loc[:, 'report_location'] = (\n",
      "/tmp/ipykernel_1556145/2954595795.py:45: SettingWithCopyWarning: \n",
      "A value is trying to be set on a copy of a slice from a DataFrame.\n",
      "Try using .loc[row_indexer,col_indexer] = value instead\n",
      "\n",
      "See the caveats in the documentation: https://pandas.pydata.org/pandas-docs/stable/user_guide/indexing.html#returning-a-view-versus-a-copy\n",
      "  failures.loc[:, 'report_location'] = (\n",
      "/tmp/ipykernel_1556145/2954595795.py:45: SettingWithCopyWarning: \n",
      "A value is trying to be set on a copy of a slice from a DataFrame.\n",
      "Try using .loc[row_indexer,col_indexer] = value instead\n",
      "\n",
      "See the caveats in the documentation: https://pandas.pydata.org/pandas-docs/stable/user_guide/indexing.html#returning-a-view-versus-a-copy\n",
      "  failures.loc[:, 'report_location'] = (\n"
     ]
    },
    {
     "name": "stdout",
     "output_type": "stream",
     "text": [
      "80\n",
      "81\n",
      "82\n"
     ]
    },
    {
     "name": "stderr",
     "output_type": "stream",
     "text": [
      "/tmp/ipykernel_1556145/2954595795.py:45: SettingWithCopyWarning: \n",
      "A value is trying to be set on a copy of a slice from a DataFrame.\n",
      "Try using .loc[row_indexer,col_indexer] = value instead\n",
      "\n",
      "See the caveats in the documentation: https://pandas.pydata.org/pandas-docs/stable/user_guide/indexing.html#returning-a-view-versus-a-copy\n",
      "  failures.loc[:, 'report_location'] = (\n",
      "/tmp/ipykernel_1556145/2954595795.py:45: SettingWithCopyWarning: \n",
      "A value is trying to be set on a copy of a slice from a DataFrame.\n",
      "Try using .loc[row_indexer,col_indexer] = value instead\n",
      "\n",
      "See the caveats in the documentation: https://pandas.pydata.org/pandas-docs/stable/user_guide/indexing.html#returning-a-view-versus-a-copy\n",
      "  failures.loc[:, 'report_location'] = (\n"
     ]
    },
    {
     "name": "stdout",
     "output_type": "stream",
     "text": [
      "83\n",
      "84\n"
     ]
    },
    {
     "name": "stderr",
     "output_type": "stream",
     "text": [
      "/tmp/ipykernel_1556145/2954595795.py:45: SettingWithCopyWarning: \n",
      "A value is trying to be set on a copy of a slice from a DataFrame.\n",
      "Try using .loc[row_indexer,col_indexer] = value instead\n",
      "\n",
      "See the caveats in the documentation: https://pandas.pydata.org/pandas-docs/stable/user_guide/indexing.html#returning-a-view-versus-a-copy\n",
      "  failures.loc[:, 'report_location'] = (\n"
     ]
    },
    {
     "name": "stdout",
     "output_type": "stream",
     "text": [
      "85\n"
     ]
    },
    {
     "name": "stderr",
     "output_type": "stream",
     "text": [
      "/tmp/ipykernel_1556145/2954595795.py:45: SettingWithCopyWarning: \n",
      "A value is trying to be set on a copy of a slice from a DataFrame.\n",
      "Try using .loc[row_indexer,col_indexer] = value instead\n",
      "\n",
      "See the caveats in the documentation: https://pandas.pydata.org/pandas-docs/stable/user_guide/indexing.html#returning-a-view-versus-a-copy\n",
      "  failures.loc[:, 'report_location'] = (\n",
      "/tmp/ipykernel_1556145/2954595795.py:45: SettingWithCopyWarning: \n",
      "A value is trying to be set on a copy of a slice from a DataFrame.\n",
      "Try using .loc[row_indexer,col_indexer] = value instead\n",
      "\n",
      "See the caveats in the documentation: https://pandas.pydata.org/pandas-docs/stable/user_guide/indexing.html#returning-a-view-versus-a-copy\n",
      "  failures.loc[:, 'report_location'] = (\n"
     ]
    },
    {
     "name": "stdout",
     "output_type": "stream",
     "text": [
      "86\n",
      "87\n"
     ]
    },
    {
     "name": "stderr",
     "output_type": "stream",
     "text": [
      "/tmp/ipykernel_1556145/2954595795.py:45: SettingWithCopyWarning: \n",
      "A value is trying to be set on a copy of a slice from a DataFrame.\n",
      "Try using .loc[row_indexer,col_indexer] = value instead\n",
      "\n",
      "See the caveats in the documentation: https://pandas.pydata.org/pandas-docs/stable/user_guide/indexing.html#returning-a-view-versus-a-copy\n",
      "  failures.loc[:, 'report_location'] = (\n",
      "/tmp/ipykernel_1556145/2954595795.py:45: SettingWithCopyWarning: \n",
      "A value is trying to be set on a copy of a slice from a DataFrame.\n",
      "Try using .loc[row_indexer,col_indexer] = value instead\n",
      "\n",
      "See the caveats in the documentation: https://pandas.pydata.org/pandas-docs/stable/user_guide/indexing.html#returning-a-view-versus-a-copy\n",
      "  failures.loc[:, 'report_location'] = (\n",
      "/tmp/ipykernel_1556145/2954595795.py:45: SettingWithCopyWarning: \n",
      "A value is trying to be set on a copy of a slice from a DataFrame.\n",
      "Try using .loc[row_indexer,col_indexer] = value instead\n",
      "\n",
      "See the caveats in the documentation: https://pandas.pydata.org/pandas-docs/stable/user_guide/indexing.html#returning-a-view-versus-a-copy\n",
      "  failures.loc[:, 'report_location'] = (\n"
     ]
    },
    {
     "name": "stdout",
     "output_type": "stream",
     "text": [
      "88\n",
      "89\n",
      "90\n"
     ]
    },
    {
     "name": "stderr",
     "output_type": "stream",
     "text": [
      "/tmp/ipykernel_1556145/2954595795.py:45: SettingWithCopyWarning: \n",
      "A value is trying to be set on a copy of a slice from a DataFrame.\n",
      "Try using .loc[row_indexer,col_indexer] = value instead\n",
      "\n",
      "See the caveats in the documentation: https://pandas.pydata.org/pandas-docs/stable/user_guide/indexing.html#returning-a-view-versus-a-copy\n",
      "  failures.loc[:, 'report_location'] = (\n",
      "/tmp/ipykernel_1556145/2954595795.py:45: SettingWithCopyWarning: \n",
      "A value is trying to be set on a copy of a slice from a DataFrame.\n",
      "Try using .loc[row_indexer,col_indexer] = value instead\n",
      "\n",
      "See the caveats in the documentation: https://pandas.pydata.org/pandas-docs/stable/user_guide/indexing.html#returning-a-view-versus-a-copy\n",
      "  failures.loc[:, 'report_location'] = (\n"
     ]
    },
    {
     "name": "stdout",
     "output_type": "stream",
     "text": [
      "91\n",
      "92\n"
     ]
    },
    {
     "name": "stderr",
     "output_type": "stream",
     "text": [
      "/tmp/ipykernel_1556145/2954595795.py:45: SettingWithCopyWarning: \n",
      "A value is trying to be set on a copy of a slice from a DataFrame.\n",
      "Try using .loc[row_indexer,col_indexer] = value instead\n",
      "\n",
      "See the caveats in the documentation: https://pandas.pydata.org/pandas-docs/stable/user_guide/indexing.html#returning-a-view-versus-a-copy\n",
      "  failures.loc[:, 'report_location'] = (\n"
     ]
    },
    {
     "name": "stdout",
     "output_type": "stream",
     "text": [
      "93\n"
     ]
    },
    {
     "name": "stderr",
     "output_type": "stream",
     "text": [
      "/tmp/ipykernel_1556145/2954595795.py:45: SettingWithCopyWarning: \n",
      "A value is trying to be set on a copy of a slice from a DataFrame.\n",
      "Try using .loc[row_indexer,col_indexer] = value instead\n",
      "\n",
      "See the caveats in the documentation: https://pandas.pydata.org/pandas-docs/stable/user_guide/indexing.html#returning-a-view-versus-a-copy\n",
      "  failures.loc[:, 'report_location'] = (\n"
     ]
    },
    {
     "name": "stdout",
     "output_type": "stream",
     "text": [
      "94\n"
     ]
    },
    {
     "name": "stderr",
     "output_type": "stream",
     "text": [
      "/tmp/ipykernel_1556145/2954595795.py:45: SettingWithCopyWarning: \n",
      "A value is trying to be set on a copy of a slice from a DataFrame.\n",
      "Try using .loc[row_indexer,col_indexer] = value instead\n",
      "\n",
      "See the caveats in the documentation: https://pandas.pydata.org/pandas-docs/stable/user_guide/indexing.html#returning-a-view-versus-a-copy\n",
      "  failures.loc[:, 'report_location'] = (\n",
      "/tmp/ipykernel_1556145/2954595795.py:45: SettingWithCopyWarning: \n",
      "A value is trying to be set on a copy of a slice from a DataFrame.\n",
      "Try using .loc[row_indexer,col_indexer] = value instead\n",
      "\n",
      "See the caveats in the documentation: https://pandas.pydata.org/pandas-docs/stable/user_guide/indexing.html#returning-a-view-versus-a-copy\n",
      "  failures.loc[:, 'report_location'] = (\n",
      "/tmp/ipykernel_1556145/2954595795.py:45: SettingWithCopyWarning: \n",
      "A value is trying to be set on a copy of a slice from a DataFrame.\n",
      "Try using .loc[row_indexer,col_indexer] = value instead\n",
      "\n",
      "See the caveats in the documentation: https://pandas.pydata.org/pandas-docs/stable/user_guide/indexing.html#returning-a-view-versus-a-copy\n",
      "  failures.loc[:, 'report_location'] = (\n"
     ]
    },
    {
     "name": "stdout",
     "output_type": "stream",
     "text": [
      "95\n",
      "96\n",
      "97\n"
     ]
    },
    {
     "name": "stderr",
     "output_type": "stream",
     "text": [
      "/tmp/ipykernel_1556145/2954595795.py:45: SettingWithCopyWarning: \n",
      "A value is trying to be set on a copy of a slice from a DataFrame.\n",
      "Try using .loc[row_indexer,col_indexer] = value instead\n",
      "\n",
      "See the caveats in the documentation: https://pandas.pydata.org/pandas-docs/stable/user_guide/indexing.html#returning-a-view-versus-a-copy\n",
      "  failures.loc[:, 'report_location'] = (\n",
      "/tmp/ipykernel_1556145/2954595795.py:45: SettingWithCopyWarning: \n",
      "A value is trying to be set on a copy of a slice from a DataFrame.\n",
      "Try using .loc[row_indexer,col_indexer] = value instead\n",
      "\n",
      "See the caveats in the documentation: https://pandas.pydata.org/pandas-docs/stable/user_guide/indexing.html#returning-a-view-versus-a-copy\n",
      "  failures.loc[:, 'report_location'] = (\n",
      "/tmp/ipykernel_1556145/2954595795.py:45: SettingWithCopyWarning: \n",
      "A value is trying to be set on a copy of a slice from a DataFrame.\n",
      "Try using .loc[row_indexer,col_indexer] = value instead\n",
      "\n",
      "See the caveats in the documentation: https://pandas.pydata.org/pandas-docs/stable/user_guide/indexing.html#returning-a-view-versus-a-copy\n",
      "  failures.loc[:, 'report_location'] = (\n"
     ]
    },
    {
     "name": "stdout",
     "output_type": "stream",
     "text": [
      "98\n",
      "99\n",
      "100\n"
     ]
    },
    {
     "name": "stderr",
     "output_type": "stream",
     "text": [
      "/tmp/ipykernel_1556145/2954595795.py:45: SettingWithCopyWarning: \n",
      "A value is trying to be set on a copy of a slice from a DataFrame.\n",
      "Try using .loc[row_indexer,col_indexer] = value instead\n",
      "\n",
      "See the caveats in the documentation: https://pandas.pydata.org/pandas-docs/stable/user_guide/indexing.html#returning-a-view-versus-a-copy\n",
      "  failures.loc[:, 'report_location'] = (\n",
      "/tmp/ipykernel_1556145/2954595795.py:45: SettingWithCopyWarning: \n",
      "A value is trying to be set on a copy of a slice from a DataFrame.\n",
      "Try using .loc[row_indexer,col_indexer] = value instead\n",
      "\n",
      "See the caveats in the documentation: https://pandas.pydata.org/pandas-docs/stable/user_guide/indexing.html#returning-a-view-versus-a-copy\n",
      "  failures.loc[:, 'report_location'] = (\n"
     ]
    },
    {
     "name": "stdout",
     "output_type": "stream",
     "text": [
      "101\n",
      "102\n"
     ]
    },
    {
     "name": "stderr",
     "output_type": "stream",
     "text": [
      "/tmp/ipykernel_1556145/2954595795.py:45: SettingWithCopyWarning: \n",
      "A value is trying to be set on a copy of a slice from a DataFrame.\n",
      "Try using .loc[row_indexer,col_indexer] = value instead\n",
      "\n",
      "See the caveats in the documentation: https://pandas.pydata.org/pandas-docs/stable/user_guide/indexing.html#returning-a-view-versus-a-copy\n",
      "  failures.loc[:, 'report_location'] = (\n",
      "/tmp/ipykernel_1556145/2954595795.py:45: SettingWithCopyWarning: \n",
      "A value is trying to be set on a copy of a slice from a DataFrame.\n",
      "Try using .loc[row_indexer,col_indexer] = value instead\n",
      "\n",
      "See the caveats in the documentation: https://pandas.pydata.org/pandas-docs/stable/user_guide/indexing.html#returning-a-view-versus-a-copy\n",
      "  failures.loc[:, 'report_location'] = (\n"
     ]
    },
    {
     "name": "stdout",
     "output_type": "stream",
     "text": [
      "103\n",
      "104\n"
     ]
    },
    {
     "name": "stderr",
     "output_type": "stream",
     "text": [
      "/tmp/ipykernel_1556145/2954595795.py:45: SettingWithCopyWarning: \n",
      "A value is trying to be set on a copy of a slice from a DataFrame.\n",
      "Try using .loc[row_indexer,col_indexer] = value instead\n",
      "\n",
      "See the caveats in the documentation: https://pandas.pydata.org/pandas-docs/stable/user_guide/indexing.html#returning-a-view-versus-a-copy\n",
      "  failures.loc[:, 'report_location'] = (\n"
     ]
    },
    {
     "name": "stdout",
     "output_type": "stream",
     "text": [
      "105\n"
     ]
    },
    {
     "name": "stderr",
     "output_type": "stream",
     "text": [
      "/tmp/ipykernel_1556145/2954595795.py:45: SettingWithCopyWarning: \n",
      "A value is trying to be set on a copy of a slice from a DataFrame.\n",
      "Try using .loc[row_indexer,col_indexer] = value instead\n",
      "\n",
      "See the caveats in the documentation: https://pandas.pydata.org/pandas-docs/stable/user_guide/indexing.html#returning-a-view-versus-a-copy\n",
      "  failures.loc[:, 'report_location'] = (\n",
      "/tmp/ipykernel_1556145/2954595795.py:45: SettingWithCopyWarning: \n",
      "A value is trying to be set on a copy of a slice from a DataFrame.\n",
      "Try using .loc[row_indexer,col_indexer] = value instead\n",
      "\n",
      "See the caveats in the documentation: https://pandas.pydata.org/pandas-docs/stable/user_guide/indexing.html#returning-a-view-versus-a-copy\n",
      "  failures.loc[:, 'report_location'] = (\n"
     ]
    },
    {
     "name": "stdout",
     "output_type": "stream",
     "text": [
      "106\n",
      "107\n"
     ]
    },
    {
     "name": "stderr",
     "output_type": "stream",
     "text": [
      "/tmp/ipykernel_1556145/2954595795.py:45: SettingWithCopyWarning: \n",
      "A value is trying to be set on a copy of a slice from a DataFrame.\n",
      "Try using .loc[row_indexer,col_indexer] = value instead\n",
      "\n",
      "See the caveats in the documentation: https://pandas.pydata.org/pandas-docs/stable/user_guide/indexing.html#returning-a-view-versus-a-copy\n",
      "  failures.loc[:, 'report_location'] = (\n",
      "/tmp/ipykernel_1556145/2954595795.py:45: SettingWithCopyWarning: \n",
      "A value is trying to be set on a copy of a slice from a DataFrame.\n",
      "Try using .loc[row_indexer,col_indexer] = value instead\n",
      "\n",
      "See the caveats in the documentation: https://pandas.pydata.org/pandas-docs/stable/user_guide/indexing.html#returning-a-view-versus-a-copy\n",
      "  failures.loc[:, 'report_location'] = (\n"
     ]
    },
    {
     "name": "stdout",
     "output_type": "stream",
     "text": [
      "108\n",
      "109\n"
     ]
    },
    {
     "name": "stderr",
     "output_type": "stream",
     "text": [
      "/tmp/ipykernel_1556145/2954595795.py:45: SettingWithCopyWarning: \n",
      "A value is trying to be set on a copy of a slice from a DataFrame.\n",
      "Try using .loc[row_indexer,col_indexer] = value instead\n",
      "\n",
      "See the caveats in the documentation: https://pandas.pydata.org/pandas-docs/stable/user_guide/indexing.html#returning-a-view-versus-a-copy\n",
      "  failures.loc[:, 'report_location'] = (\n",
      "/tmp/ipykernel_1556145/2954595795.py:45: SettingWithCopyWarning: \n",
      "A value is trying to be set on a copy of a slice from a DataFrame.\n",
      "Try using .loc[row_indexer,col_indexer] = value instead\n",
      "\n",
      "See the caveats in the documentation: https://pandas.pydata.org/pandas-docs/stable/user_guide/indexing.html#returning-a-view-versus-a-copy\n",
      "  failures.loc[:, 'report_location'] = (\n",
      "/tmp/ipykernel_1556145/2954595795.py:45: SettingWithCopyWarning: \n",
      "A value is trying to be set on a copy of a slice from a DataFrame.\n",
      "Try using .loc[row_indexer,col_indexer] = value instead\n",
      "\n",
      "See the caveats in the documentation: https://pandas.pydata.org/pandas-docs/stable/user_guide/indexing.html#returning-a-view-versus-a-copy\n",
      "  failures.loc[:, 'report_location'] = (\n"
     ]
    },
    {
     "name": "stdout",
     "output_type": "stream",
     "text": [
      "110\n",
      "111\n",
      "112\n"
     ]
    },
    {
     "name": "stderr",
     "output_type": "stream",
     "text": [
      "/tmp/ipykernel_1556145/2954595795.py:45: SettingWithCopyWarning: \n",
      "A value is trying to be set on a copy of a slice from a DataFrame.\n",
      "Try using .loc[row_indexer,col_indexer] = value instead\n",
      "\n",
      "See the caveats in the documentation: https://pandas.pydata.org/pandas-docs/stable/user_guide/indexing.html#returning-a-view-versus-a-copy\n",
      "  failures.loc[:, 'report_location'] = (\n"
     ]
    },
    {
     "name": "stdout",
     "output_type": "stream",
     "text": [
      "113\n"
     ]
    },
    {
     "name": "stderr",
     "output_type": "stream",
     "text": [
      "/tmp/ipykernel_1556145/2954595795.py:45: SettingWithCopyWarning: \n",
      "A value is trying to be set on a copy of a slice from a DataFrame.\n",
      "Try using .loc[row_indexer,col_indexer] = value instead\n",
      "\n",
      "See the caveats in the documentation: https://pandas.pydata.org/pandas-docs/stable/user_guide/indexing.html#returning-a-view-versus-a-copy\n",
      "  failures.loc[:, 'report_location'] = (\n",
      "/tmp/ipykernel_1556145/2954595795.py:45: SettingWithCopyWarning: \n",
      "A value is trying to be set on a copy of a slice from a DataFrame.\n",
      "Try using .loc[row_indexer,col_indexer] = value instead\n",
      "\n",
      "See the caveats in the documentation: https://pandas.pydata.org/pandas-docs/stable/user_guide/indexing.html#returning-a-view-versus-a-copy\n",
      "  failures.loc[:, 'report_location'] = (\n"
     ]
    },
    {
     "name": "stdout",
     "output_type": "stream",
     "text": [
      "114\n",
      "115\n"
     ]
    },
    {
     "name": "stderr",
     "output_type": "stream",
     "text": [
      "/tmp/ipykernel_1556145/2954595795.py:45: SettingWithCopyWarning: \n",
      "A value is trying to be set on a copy of a slice from a DataFrame.\n",
      "Try using .loc[row_indexer,col_indexer] = value instead\n",
      "\n",
      "See the caveats in the documentation: https://pandas.pydata.org/pandas-docs/stable/user_guide/indexing.html#returning-a-view-versus-a-copy\n",
      "  failures.loc[:, 'report_location'] = (\n",
      "/tmp/ipykernel_1556145/2954595795.py:45: SettingWithCopyWarning: \n",
      "A value is trying to be set on a copy of a slice from a DataFrame.\n",
      "Try using .loc[row_indexer,col_indexer] = value instead\n",
      "\n",
      "See the caveats in the documentation: https://pandas.pydata.org/pandas-docs/stable/user_guide/indexing.html#returning-a-view-versus-a-copy\n",
      "  failures.loc[:, 'report_location'] = (\n"
     ]
    },
    {
     "name": "stdout",
     "output_type": "stream",
     "text": [
      "116\n",
      "117\n"
     ]
    },
    {
     "name": "stderr",
     "output_type": "stream",
     "text": [
      "/tmp/ipykernel_1556145/2954595795.py:45: SettingWithCopyWarning: \n",
      "A value is trying to be set on a copy of a slice from a DataFrame.\n",
      "Try using .loc[row_indexer,col_indexer] = value instead\n",
      "\n",
      "See the caveats in the documentation: https://pandas.pydata.org/pandas-docs/stable/user_guide/indexing.html#returning-a-view-versus-a-copy\n",
      "  failures.loc[:, 'report_location'] = (\n",
      "/tmp/ipykernel_1556145/2954595795.py:45: SettingWithCopyWarning: \n",
      "A value is trying to be set on a copy of a slice from a DataFrame.\n",
      "Try using .loc[row_indexer,col_indexer] = value instead\n",
      "\n",
      "See the caveats in the documentation: https://pandas.pydata.org/pandas-docs/stable/user_guide/indexing.html#returning-a-view-versus-a-copy\n",
      "  failures.loc[:, 'report_location'] = (\n"
     ]
    },
    {
     "name": "stdout",
     "output_type": "stream",
     "text": [
      "118\n",
      "119\n"
     ]
    },
    {
     "name": "stderr",
     "output_type": "stream",
     "text": [
      "/tmp/ipykernel_1556145/2954595795.py:45: SettingWithCopyWarning: \n",
      "A value is trying to be set on a copy of a slice from a DataFrame.\n",
      "Try using .loc[row_indexer,col_indexer] = value instead\n",
      "\n",
      "See the caveats in the documentation: https://pandas.pydata.org/pandas-docs/stable/user_guide/indexing.html#returning-a-view-versus-a-copy\n",
      "  failures.loc[:, 'report_location'] = (\n"
     ]
    },
    {
     "name": "stdout",
     "output_type": "stream",
     "text": [
      "120\n"
     ]
    },
    {
     "name": "stderr",
     "output_type": "stream",
     "text": [
      "/tmp/ipykernel_1556145/2954595795.py:45: SettingWithCopyWarning: \n",
      "A value is trying to be set on a copy of a slice from a DataFrame.\n",
      "Try using .loc[row_indexer,col_indexer] = value instead\n",
      "\n",
      "See the caveats in the documentation: https://pandas.pydata.org/pandas-docs/stable/user_guide/indexing.html#returning-a-view-versus-a-copy\n",
      "  failures.loc[:, 'report_location'] = (\n",
      "/tmp/ipykernel_1556145/2954595795.py:45: SettingWithCopyWarning: \n",
      "A value is trying to be set on a copy of a slice from a DataFrame.\n",
      "Try using .loc[row_indexer,col_indexer] = value instead\n",
      "\n",
      "See the caveats in the documentation: https://pandas.pydata.org/pandas-docs/stable/user_guide/indexing.html#returning-a-view-versus-a-copy\n",
      "  failures.loc[:, 'report_location'] = (\n",
      "/tmp/ipykernel_1556145/2954595795.py:45: SettingWithCopyWarning: \n",
      "A value is trying to be set on a copy of a slice from a DataFrame.\n",
      "Try using .loc[row_indexer,col_indexer] = value instead\n",
      "\n",
      "See the caveats in the documentation: https://pandas.pydata.org/pandas-docs/stable/user_guide/indexing.html#returning-a-view-versus-a-copy\n",
      "  failures.loc[:, 'report_location'] = (\n",
      "/tmp/ipykernel_1556145/2954595795.py:45: SettingWithCopyWarning: \n",
      "A value is trying to be set on a copy of a slice from a DataFrame.\n",
      "Try using .loc[row_indexer,col_indexer] = value instead\n",
      "\n",
      "See the caveats in the documentation: https://pandas.pydata.org/pandas-docs/stable/user_guide/indexing.html#returning-a-view-versus-a-copy\n",
      "  failures.loc[:, 'report_location'] = (\n",
      "/tmp/ipykernel_1556145/2954595795.py:45: SettingWithCopyWarning: \n",
      "A value is trying to be set on a copy of a slice from a DataFrame.\n",
      "Try using .loc[row_indexer,col_indexer] = value instead\n",
      "\n",
      "See the caveats in the documentation: https://pandas.pydata.org/pandas-docs/stable/user_guide/indexing.html#returning-a-view-versus-a-copy\n",
      "  failures.loc[:, 'report_location'] = (\n"
     ]
    },
    {
     "name": "stdout",
     "output_type": "stream",
     "text": [
      "121\n",
      "122\n",
      "123\n",
      "124\n",
      "125\n"
     ]
    },
    {
     "name": "stderr",
     "output_type": "stream",
     "text": [
      "/tmp/ipykernel_1556145/2954595795.py:45: SettingWithCopyWarning: \n",
      "A value is trying to be set on a copy of a slice from a DataFrame.\n",
      "Try using .loc[row_indexer,col_indexer] = value instead\n",
      "\n",
      "See the caveats in the documentation: https://pandas.pydata.org/pandas-docs/stable/user_guide/indexing.html#returning-a-view-versus-a-copy\n",
      "  failures.loc[:, 'report_location'] = (\n",
      "/tmp/ipykernel_1556145/2954595795.py:45: SettingWithCopyWarning: \n",
      "A value is trying to be set on a copy of a slice from a DataFrame.\n",
      "Try using .loc[row_indexer,col_indexer] = value instead\n",
      "\n",
      "See the caveats in the documentation: https://pandas.pydata.org/pandas-docs/stable/user_guide/indexing.html#returning-a-view-versus-a-copy\n",
      "  failures.loc[:, 'report_location'] = (\n",
      "/tmp/ipykernel_1556145/2954595795.py:45: SettingWithCopyWarning: \n",
      "A value is trying to be set on a copy of a slice from a DataFrame.\n",
      "Try using .loc[row_indexer,col_indexer] = value instead\n",
      "\n",
      "See the caveats in the documentation: https://pandas.pydata.org/pandas-docs/stable/user_guide/indexing.html#returning-a-view-versus-a-copy\n",
      "  failures.loc[:, 'report_location'] = (\n",
      "/tmp/ipykernel_1556145/2954595795.py:45: SettingWithCopyWarning: \n",
      "A value is trying to be set on a copy of a slice from a DataFrame.\n",
      "Try using .loc[row_indexer,col_indexer] = value instead\n",
      "\n",
      "See the caveats in the documentation: https://pandas.pydata.org/pandas-docs/stable/user_guide/indexing.html#returning-a-view-versus-a-copy\n",
      "  failures.loc[:, 'report_location'] = (\n"
     ]
    },
    {
     "name": "stdout",
     "output_type": "stream",
     "text": [
      "126\n",
      "127\n",
      "128\n",
      "129\n"
     ]
    },
    {
     "name": "stderr",
     "output_type": "stream",
     "text": [
      "/tmp/ipykernel_1556145/2954595795.py:45: SettingWithCopyWarning: \n",
      "A value is trying to be set on a copy of a slice from a DataFrame.\n",
      "Try using .loc[row_indexer,col_indexer] = value instead\n",
      "\n",
      "See the caveats in the documentation: https://pandas.pydata.org/pandas-docs/stable/user_guide/indexing.html#returning-a-view-versus-a-copy\n",
      "  failures.loc[:, 'report_location'] = (\n",
      "/tmp/ipykernel_1556145/2954595795.py:45: SettingWithCopyWarning: \n",
      "A value is trying to be set on a copy of a slice from a DataFrame.\n",
      "Try using .loc[row_indexer,col_indexer] = value instead\n",
      "\n",
      "See the caveats in the documentation: https://pandas.pydata.org/pandas-docs/stable/user_guide/indexing.html#returning-a-view-versus-a-copy\n",
      "  failures.loc[:, 'report_location'] = (\n",
      "/tmp/ipykernel_1556145/2954595795.py:45: SettingWithCopyWarning: \n",
      "A value is trying to be set on a copy of a slice from a DataFrame.\n",
      "Try using .loc[row_indexer,col_indexer] = value instead\n",
      "\n",
      "See the caveats in the documentation: https://pandas.pydata.org/pandas-docs/stable/user_guide/indexing.html#returning-a-view-versus-a-copy\n",
      "  failures.loc[:, 'report_location'] = (\n",
      "/tmp/ipykernel_1556145/2954595795.py:45: SettingWithCopyWarning: \n",
      "A value is trying to be set on a copy of a slice from a DataFrame.\n",
      "Try using .loc[row_indexer,col_indexer] = value instead\n",
      "\n",
      "See the caveats in the documentation: https://pandas.pydata.org/pandas-docs/stable/user_guide/indexing.html#returning-a-view-versus-a-copy\n",
      "  failures.loc[:, 'report_location'] = (\n",
      "/tmp/ipykernel_1556145/2954595795.py:45: SettingWithCopyWarning: \n",
      "A value is trying to be set on a copy of a slice from a DataFrame.\n",
      "Try using .loc[row_indexer,col_indexer] = value instead\n",
      "\n",
      "See the caveats in the documentation: https://pandas.pydata.org/pandas-docs/stable/user_guide/indexing.html#returning-a-view-versus-a-copy\n",
      "  failures.loc[:, 'report_location'] = (\n"
     ]
    },
    {
     "name": "stdout",
     "output_type": "stream",
     "text": [
      "130\n",
      "131\n",
      "132\n",
      "133\n",
      "134\n"
     ]
    },
    {
     "name": "stderr",
     "output_type": "stream",
     "text": [
      "/tmp/ipykernel_1556145/2954595795.py:45: SettingWithCopyWarning: \n",
      "A value is trying to be set on a copy of a slice from a DataFrame.\n",
      "Try using .loc[row_indexer,col_indexer] = value instead\n",
      "\n",
      "See the caveats in the documentation: https://pandas.pydata.org/pandas-docs/stable/user_guide/indexing.html#returning-a-view-versus-a-copy\n",
      "  failures.loc[:, 'report_location'] = (\n"
     ]
    },
    {
     "name": "stdout",
     "output_type": "stream",
     "text": [
      "135\n"
     ]
    },
    {
     "name": "stderr",
     "output_type": "stream",
     "text": [
      "/tmp/ipykernel_1556145/2954595795.py:45: SettingWithCopyWarning: \n",
      "A value is trying to be set on a copy of a slice from a DataFrame.\n",
      "Try using .loc[row_indexer,col_indexer] = value instead\n",
      "\n",
      "See the caveats in the documentation: https://pandas.pydata.org/pandas-docs/stable/user_guide/indexing.html#returning-a-view-versus-a-copy\n",
      "  failures.loc[:, 'report_location'] = (\n"
     ]
    },
    {
     "name": "stdout",
     "output_type": "stream",
     "text": [
      "136\n"
     ]
    },
    {
     "name": "stderr",
     "output_type": "stream",
     "text": [
      "/tmp/ipykernel_1556145/2954595795.py:45: SettingWithCopyWarning: \n",
      "A value is trying to be set on a copy of a slice from a DataFrame.\n",
      "Try using .loc[row_indexer,col_indexer] = value instead\n",
      "\n",
      "See the caveats in the documentation: https://pandas.pydata.org/pandas-docs/stable/user_guide/indexing.html#returning-a-view-versus-a-copy\n",
      "  failures.loc[:, 'report_location'] = (\n"
     ]
    },
    {
     "name": "stdout",
     "output_type": "stream",
     "text": [
      "137\n"
     ]
    },
    {
     "name": "stderr",
     "output_type": "stream",
     "text": [
      "/tmp/ipykernel_1556145/2954595795.py:45: SettingWithCopyWarning: \n",
      "A value is trying to be set on a copy of a slice from a DataFrame.\n",
      "Try using .loc[row_indexer,col_indexer] = value instead\n",
      "\n",
      "See the caveats in the documentation: https://pandas.pydata.org/pandas-docs/stable/user_guide/indexing.html#returning-a-view-versus-a-copy\n",
      "  failures.loc[:, 'report_location'] = (\n"
     ]
    },
    {
     "name": "stdout",
     "output_type": "stream",
     "text": [
      "138\n"
     ]
    },
    {
     "name": "stderr",
     "output_type": "stream",
     "text": [
      "/tmp/ipykernel_1556145/2954595795.py:45: SettingWithCopyWarning: \n",
      "A value is trying to be set on a copy of a slice from a DataFrame.\n",
      "Try using .loc[row_indexer,col_indexer] = value instead\n",
      "\n",
      "See the caveats in the documentation: https://pandas.pydata.org/pandas-docs/stable/user_guide/indexing.html#returning-a-view-versus-a-copy\n",
      "  failures.loc[:, 'report_location'] = (\n"
     ]
    },
    {
     "name": "stdout",
     "output_type": "stream",
     "text": [
      "139\n"
     ]
    },
    {
     "name": "stderr",
     "output_type": "stream",
     "text": [
      "/tmp/ipykernel_1556145/2954595795.py:45: SettingWithCopyWarning: \n",
      "A value is trying to be set on a copy of a slice from a DataFrame.\n",
      "Try using .loc[row_indexer,col_indexer] = value instead\n",
      "\n",
      "See the caveats in the documentation: https://pandas.pydata.org/pandas-docs/stable/user_guide/indexing.html#returning-a-view-versus-a-copy\n",
      "  failures.loc[:, 'report_location'] = (\n"
     ]
    },
    {
     "name": "stdout",
     "output_type": "stream",
     "text": [
      "140\n"
     ]
    },
    {
     "name": "stderr",
     "output_type": "stream",
     "text": [
      "/tmp/ipykernel_1556145/2954595795.py:45: SettingWithCopyWarning: \n",
      "A value is trying to be set on a copy of a slice from a DataFrame.\n",
      "Try using .loc[row_indexer,col_indexer] = value instead\n",
      "\n",
      "See the caveats in the documentation: https://pandas.pydata.org/pandas-docs/stable/user_guide/indexing.html#returning-a-view-versus-a-copy\n",
      "  failures.loc[:, 'report_location'] = (\n",
      "/tmp/ipykernel_1556145/2954595795.py:45: SettingWithCopyWarning: \n",
      "A value is trying to be set on a copy of a slice from a DataFrame.\n",
      "Try using .loc[row_indexer,col_indexer] = value instead\n",
      "\n",
      "See the caveats in the documentation: https://pandas.pydata.org/pandas-docs/stable/user_guide/indexing.html#returning-a-view-versus-a-copy\n",
      "  failures.loc[:, 'report_location'] = (\n"
     ]
    },
    {
     "name": "stdout",
     "output_type": "stream",
     "text": [
      "141\n",
      "142\n"
     ]
    },
    {
     "name": "stderr",
     "output_type": "stream",
     "text": [
      "/tmp/ipykernel_1556145/2954595795.py:45: SettingWithCopyWarning: \n",
      "A value is trying to be set on a copy of a slice from a DataFrame.\n",
      "Try using .loc[row_indexer,col_indexer] = value instead\n",
      "\n",
      "See the caveats in the documentation: https://pandas.pydata.org/pandas-docs/stable/user_guide/indexing.html#returning-a-view-versus-a-copy\n",
      "  failures.loc[:, 'report_location'] = (\n"
     ]
    },
    {
     "name": "stdout",
     "output_type": "stream",
     "text": [
      "143\n"
     ]
    },
    {
     "name": "stderr",
     "output_type": "stream",
     "text": [
      "/tmp/ipykernel_1556145/2954595795.py:45: SettingWithCopyWarning: \n",
      "A value is trying to be set on a copy of a slice from a DataFrame.\n",
      "Try using .loc[row_indexer,col_indexer] = value instead\n",
      "\n",
      "See the caveats in the documentation: https://pandas.pydata.org/pandas-docs/stable/user_guide/indexing.html#returning-a-view-versus-a-copy\n",
      "  failures.loc[:, 'report_location'] = (\n"
     ]
    },
    {
     "name": "stdout",
     "output_type": "stream",
     "text": [
      "144\n"
     ]
    },
    {
     "name": "stderr",
     "output_type": "stream",
     "text": [
      "/tmp/ipykernel_1556145/2954595795.py:45: SettingWithCopyWarning: \n",
      "A value is trying to be set on a copy of a slice from a DataFrame.\n",
      "Try using .loc[row_indexer,col_indexer] = value instead\n",
      "\n",
      "See the caveats in the documentation: https://pandas.pydata.org/pandas-docs/stable/user_guide/indexing.html#returning-a-view-versus-a-copy\n",
      "  failures.loc[:, 'report_location'] = (\n",
      "/tmp/ipykernel_1556145/2954595795.py:45: SettingWithCopyWarning: \n",
      "A value is trying to be set on a copy of a slice from a DataFrame.\n",
      "Try using .loc[row_indexer,col_indexer] = value instead\n",
      "\n",
      "See the caveats in the documentation: https://pandas.pydata.org/pandas-docs/stable/user_guide/indexing.html#returning-a-view-versus-a-copy\n",
      "  failures.loc[:, 'report_location'] = (\n"
     ]
    },
    {
     "name": "stdout",
     "output_type": "stream",
     "text": [
      "145\n",
      "146\n"
     ]
    },
    {
     "name": "stderr",
     "output_type": "stream",
     "text": [
      "/tmp/ipykernel_1556145/2954595795.py:45: SettingWithCopyWarning: \n",
      "A value is trying to be set on a copy of a slice from a DataFrame.\n",
      "Try using .loc[row_indexer,col_indexer] = value instead\n",
      "\n",
      "See the caveats in the documentation: https://pandas.pydata.org/pandas-docs/stable/user_guide/indexing.html#returning-a-view-versus-a-copy\n",
      "  failures.loc[:, 'report_location'] = (\n",
      "/tmp/ipykernel_1556145/2954595795.py:45: SettingWithCopyWarning: \n",
      "A value is trying to be set on a copy of a slice from a DataFrame.\n",
      "Try using .loc[row_indexer,col_indexer] = value instead\n",
      "\n",
      "See the caveats in the documentation: https://pandas.pydata.org/pandas-docs/stable/user_guide/indexing.html#returning-a-view-versus-a-copy\n",
      "  failures.loc[:, 'report_location'] = (\n"
     ]
    },
    {
     "name": "stdout",
     "output_type": "stream",
     "text": [
      "147\n",
      "148\n"
     ]
    },
    {
     "name": "stderr",
     "output_type": "stream",
     "text": [
      "/tmp/ipykernel_1556145/2954595795.py:45: SettingWithCopyWarning: \n",
      "A value is trying to be set on a copy of a slice from a DataFrame.\n",
      "Try using .loc[row_indexer,col_indexer] = value instead\n",
      "\n",
      "See the caveats in the documentation: https://pandas.pydata.org/pandas-docs/stable/user_guide/indexing.html#returning-a-view-versus-a-copy\n",
      "  failures.loc[:, 'report_location'] = (\n"
     ]
    },
    {
     "name": "stdout",
     "output_type": "stream",
     "text": [
      "149\n"
     ]
    },
    {
     "name": "stderr",
     "output_type": "stream",
     "text": [
      "/tmp/ipykernel_1556145/2954595795.py:45: SettingWithCopyWarning: \n",
      "A value is trying to be set on a copy of a slice from a DataFrame.\n",
      "Try using .loc[row_indexer,col_indexer] = value instead\n",
      "\n",
      "See the caveats in the documentation: https://pandas.pydata.org/pandas-docs/stable/user_guide/indexing.html#returning-a-view-versus-a-copy\n",
      "  failures.loc[:, 'report_location'] = (\n"
     ]
    },
    {
     "name": "stdout",
     "output_type": "stream",
     "text": [
      "150\n"
     ]
    },
    {
     "name": "stderr",
     "output_type": "stream",
     "text": [
      "/tmp/ipykernel_1556145/2954595795.py:45: SettingWithCopyWarning: \n",
      "A value is trying to be set on a copy of a slice from a DataFrame.\n",
      "Try using .loc[row_indexer,col_indexer] = value instead\n",
      "\n",
      "See the caveats in the documentation: https://pandas.pydata.org/pandas-docs/stable/user_guide/indexing.html#returning-a-view-versus-a-copy\n",
      "  failures.loc[:, 'report_location'] = (\n",
      "/tmp/ipykernel_1556145/2954595795.py:45: SettingWithCopyWarning: \n",
      "A value is trying to be set on a copy of a slice from a DataFrame.\n",
      "Try using .loc[row_indexer,col_indexer] = value instead\n",
      "\n",
      "See the caveats in the documentation: https://pandas.pydata.org/pandas-docs/stable/user_guide/indexing.html#returning-a-view-versus-a-copy\n",
      "  failures.loc[:, 'report_location'] = (\n"
     ]
    },
    {
     "name": "stdout",
     "output_type": "stream",
     "text": [
      "151\n",
      "152\n"
     ]
    },
    {
     "name": "stderr",
     "output_type": "stream",
     "text": [
      "/tmp/ipykernel_1556145/2954595795.py:45: SettingWithCopyWarning: \n",
      "A value is trying to be set on a copy of a slice from a DataFrame.\n",
      "Try using .loc[row_indexer,col_indexer] = value instead\n",
      "\n",
      "See the caveats in the documentation: https://pandas.pydata.org/pandas-docs/stable/user_guide/indexing.html#returning-a-view-versus-a-copy\n",
      "  failures.loc[:, 'report_location'] = (\n"
     ]
    },
    {
     "name": "stdout",
     "output_type": "stream",
     "text": [
      "153\n"
     ]
    },
    {
     "name": "stderr",
     "output_type": "stream",
     "text": [
      "/tmp/ipykernel_1556145/2954595795.py:45: SettingWithCopyWarning: \n",
      "A value is trying to be set on a copy of a slice from a DataFrame.\n",
      "Try using .loc[row_indexer,col_indexer] = value instead\n",
      "\n",
      "See the caveats in the documentation: https://pandas.pydata.org/pandas-docs/stable/user_guide/indexing.html#returning-a-view-versus-a-copy\n",
      "  failures.loc[:, 'report_location'] = (\n",
      "/tmp/ipykernel_1556145/2954595795.py:45: SettingWithCopyWarning: \n",
      "A value is trying to be set on a copy of a slice from a DataFrame.\n",
      "Try using .loc[row_indexer,col_indexer] = value instead\n",
      "\n",
      "See the caveats in the documentation: https://pandas.pydata.org/pandas-docs/stable/user_guide/indexing.html#returning-a-view-versus-a-copy\n",
      "  failures.loc[:, 'report_location'] = (\n"
     ]
    },
    {
     "name": "stdout",
     "output_type": "stream",
     "text": [
      "154\n",
      "155\n"
     ]
    },
    {
     "name": "stderr",
     "output_type": "stream",
     "text": [
      "/tmp/ipykernel_1556145/2954595795.py:45: SettingWithCopyWarning: \n",
      "A value is trying to be set on a copy of a slice from a DataFrame.\n",
      "Try using .loc[row_indexer,col_indexer] = value instead\n",
      "\n",
      "See the caveats in the documentation: https://pandas.pydata.org/pandas-docs/stable/user_guide/indexing.html#returning-a-view-versus-a-copy\n",
      "  failures.loc[:, 'report_location'] = (\n"
     ]
    },
    {
     "name": "stdout",
     "output_type": "stream",
     "text": [
      "156\n"
     ]
    },
    {
     "name": "stderr",
     "output_type": "stream",
     "text": [
      "/tmp/ipykernel_1556145/2954595795.py:45: SettingWithCopyWarning: \n",
      "A value is trying to be set on a copy of a slice from a DataFrame.\n",
      "Try using .loc[row_indexer,col_indexer] = value instead\n",
      "\n",
      "See the caveats in the documentation: https://pandas.pydata.org/pandas-docs/stable/user_guide/indexing.html#returning-a-view-versus-a-copy\n",
      "  failures.loc[:, 'report_location'] = (\n"
     ]
    },
    {
     "name": "stdout",
     "output_type": "stream",
     "text": [
      "157\n"
     ]
    },
    {
     "name": "stderr",
     "output_type": "stream",
     "text": [
      "/tmp/ipykernel_1556145/2954595795.py:45: SettingWithCopyWarning: \n",
      "A value is trying to be set on a copy of a slice from a DataFrame.\n",
      "Try using .loc[row_indexer,col_indexer] = value instead\n",
      "\n",
      "See the caveats in the documentation: https://pandas.pydata.org/pandas-docs/stable/user_guide/indexing.html#returning-a-view-versus-a-copy\n",
      "  failures.loc[:, 'report_location'] = (\n",
      "/tmp/ipykernel_1556145/2954595795.py:45: SettingWithCopyWarning: \n",
      "A value is trying to be set on a copy of a slice from a DataFrame.\n",
      "Try using .loc[row_indexer,col_indexer] = value instead\n",
      "\n",
      "See the caveats in the documentation: https://pandas.pydata.org/pandas-docs/stable/user_guide/indexing.html#returning-a-view-versus-a-copy\n",
      "  failures.loc[:, 'report_location'] = (\n",
      "/tmp/ipykernel_1556145/2954595795.py:45: SettingWithCopyWarning: \n",
      "A value is trying to be set on a copy of a slice from a DataFrame.\n",
      "Try using .loc[row_indexer,col_indexer] = value instead\n",
      "\n",
      "See the caveats in the documentation: https://pandas.pydata.org/pandas-docs/stable/user_guide/indexing.html#returning-a-view-versus-a-copy\n",
      "  failures.loc[:, 'report_location'] = (\n",
      "/tmp/ipykernel_1556145/2954595795.py:45: SettingWithCopyWarning: \n",
      "A value is trying to be set on a copy of a slice from a DataFrame.\n",
      "Try using .loc[row_indexer,col_indexer] = value instead\n",
      "\n",
      "See the caveats in the documentation: https://pandas.pydata.org/pandas-docs/stable/user_guide/indexing.html#returning-a-view-versus-a-copy\n",
      "  failures.loc[:, 'report_location'] = (\n"
     ]
    },
    {
     "name": "stdout",
     "output_type": "stream",
     "text": [
      "158\n",
      "159\n",
      "160\n",
      "161\n"
     ]
    },
    {
     "name": "stderr",
     "output_type": "stream",
     "text": [
      "/tmp/ipykernel_1556145/2954595795.py:45: SettingWithCopyWarning: \n",
      "A value is trying to be set on a copy of a slice from a DataFrame.\n",
      "Try using .loc[row_indexer,col_indexer] = value instead\n",
      "\n",
      "See the caveats in the documentation: https://pandas.pydata.org/pandas-docs/stable/user_guide/indexing.html#returning-a-view-versus-a-copy\n",
      "  failures.loc[:, 'report_location'] = (\n",
      "/tmp/ipykernel_1556145/2954595795.py:45: SettingWithCopyWarning: \n",
      "A value is trying to be set on a copy of a slice from a DataFrame.\n",
      "Try using .loc[row_indexer,col_indexer] = value instead\n",
      "\n",
      "See the caveats in the documentation: https://pandas.pydata.org/pandas-docs/stable/user_guide/indexing.html#returning-a-view-versus-a-copy\n",
      "  failures.loc[:, 'report_location'] = (\n",
      "/tmp/ipykernel_1556145/2954595795.py:45: SettingWithCopyWarning: \n",
      "A value is trying to be set on a copy of a slice from a DataFrame.\n",
      "Try using .loc[row_indexer,col_indexer] = value instead\n",
      "\n",
      "See the caveats in the documentation: https://pandas.pydata.org/pandas-docs/stable/user_guide/indexing.html#returning-a-view-versus-a-copy\n",
      "  failures.loc[:, 'report_location'] = (\n",
      "/tmp/ipykernel_1556145/2954595795.py:45: SettingWithCopyWarning: \n",
      "A value is trying to be set on a copy of a slice from a DataFrame.\n",
      "Try using .loc[row_indexer,col_indexer] = value instead\n",
      "\n",
      "See the caveats in the documentation: https://pandas.pydata.org/pandas-docs/stable/user_guide/indexing.html#returning-a-view-versus-a-copy\n",
      "  failures.loc[:, 'report_location'] = (\n"
     ]
    },
    {
     "name": "stdout",
     "output_type": "stream",
     "text": [
      "162\n",
      "163\n",
      "164\n",
      "165\n"
     ]
    },
    {
     "name": "stderr",
     "output_type": "stream",
     "text": [
      "/tmp/ipykernel_1556145/2954595795.py:45: SettingWithCopyWarning: \n",
      "A value is trying to be set on a copy of a slice from a DataFrame.\n",
      "Try using .loc[row_indexer,col_indexer] = value instead\n",
      "\n",
      "See the caveats in the documentation: https://pandas.pydata.org/pandas-docs/stable/user_guide/indexing.html#returning-a-view-versus-a-copy\n",
      "  failures.loc[:, 'report_location'] = (\n",
      "/tmp/ipykernel_1556145/2954595795.py:45: SettingWithCopyWarning: \n",
      "A value is trying to be set on a copy of a slice from a DataFrame.\n",
      "Try using .loc[row_indexer,col_indexer] = value instead\n",
      "\n",
      "See the caveats in the documentation: https://pandas.pydata.org/pandas-docs/stable/user_guide/indexing.html#returning-a-view-versus-a-copy\n",
      "  failures.loc[:, 'report_location'] = (\n"
     ]
    },
    {
     "name": "stdout",
     "output_type": "stream",
     "text": [
      "166\n",
      "167\n"
     ]
    },
    {
     "name": "stderr",
     "output_type": "stream",
     "text": [
      "/tmp/ipykernel_1556145/2954595795.py:45: SettingWithCopyWarning: \n",
      "A value is trying to be set on a copy of a slice from a DataFrame.\n",
      "Try using .loc[row_indexer,col_indexer] = value instead\n",
      "\n",
      "See the caveats in the documentation: https://pandas.pydata.org/pandas-docs/stable/user_guide/indexing.html#returning-a-view-versus-a-copy\n",
      "  failures.loc[:, 'report_location'] = (\n",
      "/tmp/ipykernel_1556145/2954595795.py:45: SettingWithCopyWarning: \n",
      "A value is trying to be set on a copy of a slice from a DataFrame.\n",
      "Try using .loc[row_indexer,col_indexer] = value instead\n",
      "\n",
      "See the caveats in the documentation: https://pandas.pydata.org/pandas-docs/stable/user_guide/indexing.html#returning-a-view-versus-a-copy\n",
      "  failures.loc[:, 'report_location'] = (\n"
     ]
    },
    {
     "name": "stdout",
     "output_type": "stream",
     "text": [
      "168\n",
      "169\n"
     ]
    },
    {
     "name": "stderr",
     "output_type": "stream",
     "text": [
      "/tmp/ipykernel_1556145/2954595795.py:45: SettingWithCopyWarning: \n",
      "A value is trying to be set on a copy of a slice from a DataFrame.\n",
      "Try using .loc[row_indexer,col_indexer] = value instead\n",
      "\n",
      "See the caveats in the documentation: https://pandas.pydata.org/pandas-docs/stable/user_guide/indexing.html#returning-a-view-versus-a-copy\n",
      "  failures.loc[:, 'report_location'] = (\n"
     ]
    },
    {
     "name": "stdout",
     "output_type": "stream",
     "text": [
      "170\n"
     ]
    },
    {
     "name": "stderr",
     "output_type": "stream",
     "text": [
      "/tmp/ipykernel_1556145/2954595795.py:45: SettingWithCopyWarning: \n",
      "A value is trying to be set on a copy of a slice from a DataFrame.\n",
      "Try using .loc[row_indexer,col_indexer] = value instead\n",
      "\n",
      "See the caveats in the documentation: https://pandas.pydata.org/pandas-docs/stable/user_guide/indexing.html#returning-a-view-versus-a-copy\n",
      "  failures.loc[:, 'report_location'] = (\n"
     ]
    },
    {
     "name": "stdout",
     "output_type": "stream",
     "text": [
      "171\n",
      "172\n"
     ]
    },
    {
     "name": "stderr",
     "output_type": "stream",
     "text": [
      "/tmp/ipykernel_1556145/2954595795.py:45: SettingWithCopyWarning: \n",
      "A value is trying to be set on a copy of a slice from a DataFrame.\n",
      "Try using .loc[row_indexer,col_indexer] = value instead\n",
      "\n",
      "See the caveats in the documentation: https://pandas.pydata.org/pandas-docs/stable/user_guide/indexing.html#returning-a-view-versus-a-copy\n",
      "  failures.loc[:, 'report_location'] = (\n",
      "/tmp/ipykernel_1556145/2954595795.py:45: SettingWithCopyWarning: \n",
      "A value is trying to be set on a copy of a slice from a DataFrame.\n",
      "Try using .loc[row_indexer,col_indexer] = value instead\n",
      "\n",
      "See the caveats in the documentation: https://pandas.pydata.org/pandas-docs/stable/user_guide/indexing.html#returning-a-view-versus-a-copy\n",
      "  failures.loc[:, 'report_location'] = (\n"
     ]
    },
    {
     "name": "stdout",
     "output_type": "stream",
     "text": [
      "173\n"
     ]
    },
    {
     "name": "stderr",
     "output_type": "stream",
     "text": [
      "/tmp/ipykernel_1556145/2954595795.py:45: SettingWithCopyWarning: \n",
      "A value is trying to be set on a copy of a slice from a DataFrame.\n",
      "Try using .loc[row_indexer,col_indexer] = value instead\n",
      "\n",
      "See the caveats in the documentation: https://pandas.pydata.org/pandas-docs/stable/user_guide/indexing.html#returning-a-view-versus-a-copy\n",
      "  failures.loc[:, 'report_location'] = (\n"
     ]
    },
    {
     "name": "stdout",
     "output_type": "stream",
     "text": [
      "174\n"
     ]
    },
    {
     "name": "stderr",
     "output_type": "stream",
     "text": [
      "/tmp/ipykernel_1556145/2954595795.py:45: SettingWithCopyWarning: \n",
      "A value is trying to be set on a copy of a slice from a DataFrame.\n",
      "Try using .loc[row_indexer,col_indexer] = value instead\n",
      "\n",
      "See the caveats in the documentation: https://pandas.pydata.org/pandas-docs/stable/user_guide/indexing.html#returning-a-view-versus-a-copy\n",
      "  failures.loc[:, 'report_location'] = (\n",
      "/tmp/ipykernel_1556145/2954595795.py:45: SettingWithCopyWarning: \n",
      "A value is trying to be set on a copy of a slice from a DataFrame.\n",
      "Try using .loc[row_indexer,col_indexer] = value instead\n",
      "\n",
      "See the caveats in the documentation: https://pandas.pydata.org/pandas-docs/stable/user_guide/indexing.html#returning-a-view-versus-a-copy\n",
      "  failures.loc[:, 'report_location'] = (\n"
     ]
    },
    {
     "name": "stdout",
     "output_type": "stream",
     "text": [
      "175\n",
      "176\n"
     ]
    },
    {
     "name": "stderr",
     "output_type": "stream",
     "text": [
      "/tmp/ipykernel_1556145/2954595795.py:45: SettingWithCopyWarning: \n",
      "A value is trying to be set on a copy of a slice from a DataFrame.\n",
      "Try using .loc[row_indexer,col_indexer] = value instead\n",
      "\n",
      "See the caveats in the documentation: https://pandas.pydata.org/pandas-docs/stable/user_guide/indexing.html#returning-a-view-versus-a-copy\n",
      "  failures.loc[:, 'report_location'] = (\n",
      "/tmp/ipykernel_1556145/2954595795.py:45: SettingWithCopyWarning: \n",
      "A value is trying to be set on a copy of a slice from a DataFrame.\n",
      "Try using .loc[row_indexer,col_indexer] = value instead\n",
      "\n",
      "See the caveats in the documentation: https://pandas.pydata.org/pandas-docs/stable/user_guide/indexing.html#returning-a-view-versus-a-copy\n",
      "  failures.loc[:, 'report_location'] = (\n",
      "/tmp/ipykernel_1556145/2954595795.py:45: SettingWithCopyWarning: \n",
      "A value is trying to be set on a copy of a slice from a DataFrame.\n",
      "Try using .loc[row_indexer,col_indexer] = value instead\n",
      "\n",
      "See the caveats in the documentation: https://pandas.pydata.org/pandas-docs/stable/user_guide/indexing.html#returning-a-view-versus-a-copy\n",
      "  failures.loc[:, 'report_location'] = (\n"
     ]
    },
    {
     "name": "stdout",
     "output_type": "stream",
     "text": [
      "177\n",
      "178\n",
      "179\n"
     ]
    },
    {
     "name": "stderr",
     "output_type": "stream",
     "text": [
      "/tmp/ipykernel_1556145/2954595795.py:45: SettingWithCopyWarning: \n",
      "A value is trying to be set on a copy of a slice from a DataFrame.\n",
      "Try using .loc[row_indexer,col_indexer] = value instead\n",
      "\n",
      "See the caveats in the documentation: https://pandas.pydata.org/pandas-docs/stable/user_guide/indexing.html#returning-a-view-versus-a-copy\n",
      "  failures.loc[:, 'report_location'] = (\n"
     ]
    },
    {
     "name": "stdout",
     "output_type": "stream",
     "text": [
      "180\n"
     ]
    },
    {
     "name": "stderr",
     "output_type": "stream",
     "text": [
      "/tmp/ipykernel_1556145/2954595795.py:45: SettingWithCopyWarning: \n",
      "A value is trying to be set on a copy of a slice from a DataFrame.\n",
      "Try using .loc[row_indexer,col_indexer] = value instead\n",
      "\n",
      "See the caveats in the documentation: https://pandas.pydata.org/pandas-docs/stable/user_guide/indexing.html#returning-a-view-versus-a-copy\n",
      "  failures.loc[:, 'report_location'] = (\n"
     ]
    },
    {
     "name": "stdout",
     "output_type": "stream",
     "text": [
      "181\n"
     ]
    },
    {
     "name": "stderr",
     "output_type": "stream",
     "text": [
      "/tmp/ipykernel_1556145/2954595795.py:45: SettingWithCopyWarning: \n",
      "A value is trying to be set on a copy of a slice from a DataFrame.\n",
      "Try using .loc[row_indexer,col_indexer] = value instead\n",
      "\n",
      "See the caveats in the documentation: https://pandas.pydata.org/pandas-docs/stable/user_guide/indexing.html#returning-a-view-versus-a-copy\n",
      "  failures.loc[:, 'report_location'] = (\n",
      "/tmp/ipykernel_1556145/2954595795.py:45: SettingWithCopyWarning: \n",
      "A value is trying to be set on a copy of a slice from a DataFrame.\n",
      "Try using .loc[row_indexer,col_indexer] = value instead\n",
      "\n",
      "See the caveats in the documentation: https://pandas.pydata.org/pandas-docs/stable/user_guide/indexing.html#returning-a-view-versus-a-copy\n",
      "  failures.loc[:, 'report_location'] = (\n"
     ]
    },
    {
     "name": "stdout",
     "output_type": "stream",
     "text": [
      "182\n",
      "183\n"
     ]
    },
    {
     "name": "stderr",
     "output_type": "stream",
     "text": [
      "/tmp/ipykernel_1556145/2954595795.py:45: SettingWithCopyWarning: \n",
      "A value is trying to be set on a copy of a slice from a DataFrame.\n",
      "Try using .loc[row_indexer,col_indexer] = value instead\n",
      "\n",
      "See the caveats in the documentation: https://pandas.pydata.org/pandas-docs/stable/user_guide/indexing.html#returning-a-view-versus-a-copy\n",
      "  failures.loc[:, 'report_location'] = (\n",
      "/tmp/ipykernel_1556145/2954595795.py:45: SettingWithCopyWarning: \n",
      "A value is trying to be set on a copy of a slice from a DataFrame.\n",
      "Try using .loc[row_indexer,col_indexer] = value instead\n",
      "\n",
      "See the caveats in the documentation: https://pandas.pydata.org/pandas-docs/stable/user_guide/indexing.html#returning-a-view-versus-a-copy\n",
      "  failures.loc[:, 'report_location'] = (\n"
     ]
    },
    {
     "name": "stdout",
     "output_type": "stream",
     "text": [
      "184\n",
      "185\n"
     ]
    },
    {
     "name": "stderr",
     "output_type": "stream",
     "text": [
      "/tmp/ipykernel_1556145/2954595795.py:45: SettingWithCopyWarning: \n",
      "A value is trying to be set on a copy of a slice from a DataFrame.\n",
      "Try using .loc[row_indexer,col_indexer] = value instead\n",
      "\n",
      "See the caveats in the documentation: https://pandas.pydata.org/pandas-docs/stable/user_guide/indexing.html#returning-a-view-versus-a-copy\n",
      "  failures.loc[:, 'report_location'] = (\n"
     ]
    },
    {
     "name": "stdout",
     "output_type": "stream",
     "text": [
      "186\n"
     ]
    },
    {
     "name": "stderr",
     "output_type": "stream",
     "text": [
      "/tmp/ipykernel_1556145/2954595795.py:45: SettingWithCopyWarning: \n",
      "A value is trying to be set on a copy of a slice from a DataFrame.\n",
      "Try using .loc[row_indexer,col_indexer] = value instead\n",
      "\n",
      "See the caveats in the documentation: https://pandas.pydata.org/pandas-docs/stable/user_guide/indexing.html#returning-a-view-versus-a-copy\n",
      "  failures.loc[:, 'report_location'] = (\n"
     ]
    },
    {
     "name": "stdout",
     "output_type": "stream",
     "text": [
      "187\n"
     ]
    },
    {
     "name": "stderr",
     "output_type": "stream",
     "text": [
      "/tmp/ipykernel_1556145/2954595795.py:45: SettingWithCopyWarning: \n",
      "A value is trying to be set on a copy of a slice from a DataFrame.\n",
      "Try using .loc[row_indexer,col_indexer] = value instead\n",
      "\n",
      "See the caveats in the documentation: https://pandas.pydata.org/pandas-docs/stable/user_guide/indexing.html#returning-a-view-versus-a-copy\n",
      "  failures.loc[:, 'report_location'] = (\n",
      "/tmp/ipykernel_1556145/2954595795.py:45: SettingWithCopyWarning: \n",
      "A value is trying to be set on a copy of a slice from a DataFrame.\n",
      "Try using .loc[row_indexer,col_indexer] = value instead\n",
      "\n",
      "See the caveats in the documentation: https://pandas.pydata.org/pandas-docs/stable/user_guide/indexing.html#returning-a-view-versus-a-copy\n",
      "  failures.loc[:, 'report_location'] = (\n",
      "/tmp/ipykernel_1556145/2954595795.py:45: SettingWithCopyWarning: \n",
      "A value is trying to be set on a copy of a slice from a DataFrame.\n",
      "Try using .loc[row_indexer,col_indexer] = value instead\n",
      "\n",
      "See the caveats in the documentation: https://pandas.pydata.org/pandas-docs/stable/user_guide/indexing.html#returning-a-view-versus-a-copy\n",
      "  failures.loc[:, 'report_location'] = (\n"
     ]
    },
    {
     "name": "stdout",
     "output_type": "stream",
     "text": [
      "188\n",
      "189\n",
      "190\n"
     ]
    },
    {
     "name": "stderr",
     "output_type": "stream",
     "text": [
      "/tmp/ipykernel_1556145/2954595795.py:45: SettingWithCopyWarning: \n",
      "A value is trying to be set on a copy of a slice from a DataFrame.\n",
      "Try using .loc[row_indexer,col_indexer] = value instead\n",
      "\n",
      "See the caveats in the documentation: https://pandas.pydata.org/pandas-docs/stable/user_guide/indexing.html#returning-a-view-versus-a-copy\n",
      "  failures.loc[:, 'report_location'] = (\n"
     ]
    },
    {
     "name": "stdout",
     "output_type": "stream",
     "text": [
      "191\n"
     ]
    },
    {
     "name": "stderr",
     "output_type": "stream",
     "text": [
      "/tmp/ipykernel_1556145/2954595795.py:45: SettingWithCopyWarning: \n",
      "A value is trying to be set on a copy of a slice from a DataFrame.\n",
      "Try using .loc[row_indexer,col_indexer] = value instead\n",
      "\n",
      "See the caveats in the documentation: https://pandas.pydata.org/pandas-docs/stable/user_guide/indexing.html#returning-a-view-versus-a-copy\n",
      "  failures.loc[:, 'report_location'] = (\n"
     ]
    },
    {
     "name": "stdout",
     "output_type": "stream",
     "text": [
      "192\n"
     ]
    },
    {
     "name": "stderr",
     "output_type": "stream",
     "text": [
      "/tmp/ipykernel_1556145/2954595795.py:45: SettingWithCopyWarning: \n",
      "A value is trying to be set on a copy of a slice from a DataFrame.\n",
      "Try using .loc[row_indexer,col_indexer] = value instead\n",
      "\n",
      "See the caveats in the documentation: https://pandas.pydata.org/pandas-docs/stable/user_guide/indexing.html#returning-a-view-versus-a-copy\n",
      "  failures.loc[:, 'report_location'] = (\n"
     ]
    },
    {
     "name": "stdout",
     "output_type": "stream",
     "text": [
      "193\n"
     ]
    },
    {
     "name": "stderr",
     "output_type": "stream",
     "text": [
      "/tmp/ipykernel_1556145/2954595795.py:45: SettingWithCopyWarning: \n",
      "A value is trying to be set on a copy of a slice from a DataFrame.\n",
      "Try using .loc[row_indexer,col_indexer] = value instead\n",
      "\n",
      "See the caveats in the documentation: https://pandas.pydata.org/pandas-docs/stable/user_guide/indexing.html#returning-a-view-versus-a-copy\n",
      "  failures.loc[:, 'report_location'] = (\n"
     ]
    },
    {
     "name": "stdout",
     "output_type": "stream",
     "text": [
      "194\n"
     ]
    },
    {
     "name": "stderr",
     "output_type": "stream",
     "text": [
      "/tmp/ipykernel_1556145/2954595795.py:45: SettingWithCopyWarning: \n",
      "A value is trying to be set on a copy of a slice from a DataFrame.\n",
      "Try using .loc[row_indexer,col_indexer] = value instead\n",
      "\n",
      "See the caveats in the documentation: https://pandas.pydata.org/pandas-docs/stable/user_guide/indexing.html#returning-a-view-versus-a-copy\n",
      "  failures.loc[:, 'report_location'] = (\n",
      "/tmp/ipykernel_1556145/2954595795.py:45: SettingWithCopyWarning: \n",
      "A value is trying to be set on a copy of a slice from a DataFrame.\n",
      "Try using .loc[row_indexer,col_indexer] = value instead\n",
      "\n",
      "See the caveats in the documentation: https://pandas.pydata.org/pandas-docs/stable/user_guide/indexing.html#returning-a-view-versus-a-copy\n",
      "  failures.loc[:, 'report_location'] = (\n"
     ]
    },
    {
     "name": "stdout",
     "output_type": "stream",
     "text": [
      "195\n",
      "196\n"
     ]
    },
    {
     "name": "stderr",
     "output_type": "stream",
     "text": [
      "/tmp/ipykernel_1556145/2954595795.py:45: SettingWithCopyWarning: \n",
      "A value is trying to be set on a copy of a slice from a DataFrame.\n",
      "Try using .loc[row_indexer,col_indexer] = value instead\n",
      "\n",
      "See the caveats in the documentation: https://pandas.pydata.org/pandas-docs/stable/user_guide/indexing.html#returning-a-view-versus-a-copy\n",
      "  failures.loc[:, 'report_location'] = (\n",
      "/tmp/ipykernel_1556145/2954595795.py:45: SettingWithCopyWarning: \n",
      "A value is trying to be set on a copy of a slice from a DataFrame.\n",
      "Try using .loc[row_indexer,col_indexer] = value instead\n",
      "\n",
      "See the caveats in the documentation: https://pandas.pydata.org/pandas-docs/stable/user_guide/indexing.html#returning-a-view-versus-a-copy\n",
      "  failures.loc[:, 'report_location'] = (\n",
      "/tmp/ipykernel_1556145/2954595795.py:45: SettingWithCopyWarning: \n",
      "A value is trying to be set on a copy of a slice from a DataFrame.\n",
      "Try using .loc[row_indexer,col_indexer] = value instead\n",
      "\n",
      "See the caveats in the documentation: https://pandas.pydata.org/pandas-docs/stable/user_guide/indexing.html#returning-a-view-versus-a-copy\n",
      "  failures.loc[:, 'report_location'] = (\n"
     ]
    },
    {
     "name": "stdout",
     "output_type": "stream",
     "text": [
      "197\n",
      "198\n",
      "199\n"
     ]
    },
    {
     "name": "stderr",
     "output_type": "stream",
     "text": [
      "/tmp/ipykernel_1556145/2954595795.py:45: SettingWithCopyWarning: \n",
      "A value is trying to be set on a copy of a slice from a DataFrame.\n",
      "Try using .loc[row_indexer,col_indexer] = value instead\n",
      "\n",
      "See the caveats in the documentation: https://pandas.pydata.org/pandas-docs/stable/user_guide/indexing.html#returning-a-view-versus-a-copy\n",
      "  failures.loc[:, 'report_location'] = (\n",
      "/tmp/ipykernel_1556145/2954595795.py:45: SettingWithCopyWarning: \n",
      "A value is trying to be set on a copy of a slice from a DataFrame.\n",
      "Try using .loc[row_indexer,col_indexer] = value instead\n",
      "\n",
      "See the caveats in the documentation: https://pandas.pydata.org/pandas-docs/stable/user_guide/indexing.html#returning-a-view-versus-a-copy\n",
      "  failures.loc[:, 'report_location'] = (\n",
      "/tmp/ipykernel_1556145/2954595795.py:45: SettingWithCopyWarning: \n",
      "A value is trying to be set on a copy of a slice from a DataFrame.\n",
      "Try using .loc[row_indexer,col_indexer] = value instead\n",
      "\n",
      "See the caveats in the documentation: https://pandas.pydata.org/pandas-docs/stable/user_guide/indexing.html#returning-a-view-versus-a-copy\n",
      "  failures.loc[:, 'report_location'] = (\n"
     ]
    },
    {
     "name": "stdout",
     "output_type": "stream",
     "text": [
      "200\n",
      "201\n",
      "202\n"
     ]
    },
    {
     "name": "stderr",
     "output_type": "stream",
     "text": [
      "/tmp/ipykernel_1556145/2954595795.py:45: SettingWithCopyWarning: \n",
      "A value is trying to be set on a copy of a slice from a DataFrame.\n",
      "Try using .loc[row_indexer,col_indexer] = value instead\n",
      "\n",
      "See the caveats in the documentation: https://pandas.pydata.org/pandas-docs/stable/user_guide/indexing.html#returning-a-view-versus-a-copy\n",
      "  failures.loc[:, 'report_location'] = (\n"
     ]
    },
    {
     "name": "stdout",
     "output_type": "stream",
     "text": [
      "203\n",
      "204\n",
      "Found 204 unique report locations\n"
     ]
    },
    {
     "name": "stderr",
     "output_type": "stream",
     "text": [
      "/tmp/ipykernel_1556145/2954595795.py:45: SettingWithCopyWarning: \n",
      "A value is trying to be set on a copy of a slice from a DataFrame.\n",
      "Try using .loc[row_indexer,col_indexer] = value instead\n",
      "\n",
      "See the caveats in the documentation: https://pandas.pydata.org/pandas-docs/stable/user_guide/indexing.html#returning-a-view-versus-a-copy\n",
      "  failures.loc[:, 'report_location'] = (\n"
     ]
    },
    {
     "data": {
      "text/plain": "[{'realtime_train_infer_ddpg_1157',\n  'realtime_train_infer_ddpg_1374',\n  'realtime_train_infer_ddpg_1379',\n  'remote_can_client_304',\n  'remote_can_client_332'},\n {'realtime_train_infer_ddpg_1157',\n  'realtime_train_infer_ddpg_1374',\n  'realtime_train_infer_ddpg_1379',\n  'remote_can_client_304',\n  'remote_can_client_332'},\n {'realtime_train_infer_ddpg_2009', 'remote_can_client_228'},\n {'realtime_train_infer_ddpg_1164',\n  'realtime_train_infer_ddpg_1387',\n  'realtime_train_infer_ddpg_2011',\n  'remote_can_client_333'},\n {'realtime_train_infer_ddpg_1164',\n  'realtime_train_infer_ddpg_1387',\n  'remote_can_client_333'},\n {'realtime_train_infer_ddpg_1164',\n  'realtime_train_infer_ddpg_1387',\n  'remote_can_client_230',\n  'remote_can_client_305'},\n {'realtime_train_infer_ddpg_1164',\n  'realtime_train_infer_ddpg_1387',\n  'remote_can_client_230',\n  'remote_can_client_305',\n  'remote_can_client_333'},\n {'realtime_train_infer_ddpg_1164',\n  'realtime_train_infer_ddpg_1387',\n  'realtime_train_infer_ddpg_2011',\n  'remote_can_client_333'},\n {'realtime_train_infer_ddpg_1164',\n  'realtime_train_infer_ddpg_1387',\n  'realtime_train_infer_ddpg_2011',\n  'remote_can_client_230',\n  'remote_can_client_305',\n  'remote_can_client_333'},\n {'realtime_train_infer_ddpg_1164',\n  'realtime_train_infer_ddpg_1387',\n  'realtime_train_infer_ddpg_2011',\n  'remote_can_client_333'},\n {'realtime_train_infer_ddpg_1164',\n  'realtime_train_infer_ddpg_1387',\n  'remote_can_client_333'},\n {'realtime_train_infer_ddpg_1164',\n  'realtime_train_infer_ddpg_1387',\n  'realtime_train_infer_ddpg_2011',\n  'remote_can_client_333'},\n {'realtime_train_infer_ddpg_1157',\n  'realtime_train_infer_ddpg_1379',\n  'realtime_train_infer_ddpg_2009',\n  'remote_can_client_230',\n  'remote_can_client_305',\n  'remote_can_client_333'},\n {'realtime_train_infer_ddpg_1164',\n  'realtime_train_infer_ddpg_1387',\n  'remote_can_client_333'},\n {'realtime_train_infer_ddpg_1164',\n  'realtime_train_infer_ddpg_1387',\n  'realtime_train_infer_ddpg_2011',\n  'remote_can_client_333'},\n {'realtime_train_infer_ddpg_1164',\n  'realtime_train_infer_ddpg_1387',\n  'realtime_train_infer_ddpg_2011',\n  'remote_can_client_333'},\n {'realtime_train_infer_ddpg_1164',\n  'realtime_train_infer_ddpg_1387',\n  'remote_can_client_273',\n  'remote_can_client_305',\n  'remote_can_client_333'},\n {'realtime_train_infer_ddpg_1164',\n  'realtime_train_infer_ddpg_1387',\n  'realtime_train_infer_ddpg_2011',\n  'remote_can_client_333'},\n {'realtime_train_infer_ddpg_1164',\n  'realtime_train_infer_ddpg_1387',\n  'realtime_train_infer_ddpg_2011',\n  'remote_can_client_230',\n  'remote_can_client_305',\n  'remote_can_client_333'},\n {'realtime_train_infer_ddpg_1164',\n  'realtime_train_infer_ddpg_1387',\n  'realtime_train_infer_ddpg_2011',\n  'remote_can_client_333'},\n {'realtime_train_infer_ddpg_1164',\n  'realtime_train_infer_ddpg_1387',\n  'realtime_train_infer_ddpg_2011',\n  'remote_can_client_333'},\n {'realtime_train_infer_ddpg_1164',\n  'realtime_train_infer_ddpg_1387',\n  'realtime_train_infer_ddpg_2011',\n  'remote_can_client_333'},\n {'realtime_train_infer_ddpg_1164',\n  'realtime_train_infer_ddpg_1387',\n  'realtime_train_infer_ddpg_2011',\n  'remote_can_client_333'},\n {'realtime_train_infer_ddpg_1164',\n  'realtime_train_infer_ddpg_1387',\n  'realtime_train_infer_ddpg_2011',\n  'remote_can_client_230',\n  'remote_can_client_305'},\n {'realtime_train_infer_ddpg_1164',\n  'realtime_train_infer_ddpg_1387',\n  'realtime_train_infer_ddpg_2011',\n  'remote_can_client_333'},\n {'realtime_train_infer_ddpg_1164',\n  'realtime_train_infer_ddpg_1387',\n  'realtime_train_infer_ddpg_2011',\n  'remote_can_client_305',\n  'remote_can_client_333'},\n {'realtime_train_infer_ddpg_1164',\n  'realtime_train_infer_ddpg_1387',\n  'realtime_train_infer_ddpg_2011',\n  'remote_can_client_230',\n  'remote_can_client_305',\n  'remote_can_client_333'},\n {'realtime_train_infer_ddpg_1164',\n  'realtime_train_infer_ddpg_1387',\n  'realtime_train_infer_ddpg_2011',\n  'remote_can_client_333'},\n {'realtime_train_infer_ddpg_1157',\n  'realtime_train_infer_ddpg_1379',\n  'realtime_train_infer_ddpg_2009',\n  'remote_can_client_230',\n  'remote_can_client_305',\n  'remote_can_client_333'},\n {'realtime_train_infer_ddpg_1138',\n  'realtime_train_infer_ddpg_1359',\n  'remote_can_client_315'},\n {'realtime_train_infer_ddpg_2475'},\n {'realtime_train_infer_ddpg_1148',\n  'realtime_train_infer_ddpg_1370',\n  'remote_can_client_305',\n  'remote_can_client_333'},\n {'realtime_train_infer_ddpg_1157',\n  'realtime_train_infer_ddpg_1379',\n  'remote_can_client_304'},\n {'realtime_train_infer_ddpg_1148',\n  'realtime_train_infer_ddpg_1365',\n  'realtime_train_infer_ddpg_1370',\n  'realtime_train_infer_ddpg_2000',\n  'remote_can_client_228',\n  'remote_can_client_304',\n  'remote_can_client_315',\n  'remote_can_client_332'},\n {'realtime_train_infer_ddpg_2578'},\n {'realtime_train_infer_ddpg_1157',\n  'realtime_train_infer_ddpg_1374',\n  'realtime_train_infer_ddpg_1379',\n  'remote_can_client_304',\n  'remote_can_client_332'},\n {'realtime_train_infer_ddpg_2578'},\n {'realtime_train_infer_ddpg_1148',\n  'realtime_train_infer_ddpg_1370',\n  'remote_can_client_305',\n  'remote_can_client_333'},\n {'realtime_train_infer_ddpg_1157',\n  'realtime_train_infer_ddpg_1374',\n  'realtime_train_infer_ddpg_1379',\n  'remote_can_client_304',\n  'remote_can_client_332'},\n {'realtime_train_infer_ddpg_1148',\n  'realtime_train_infer_ddpg_1370',\n  'realtime_train_infer_ddpg_2000',\n  'remote_can_client_230',\n  'remote_can_client_305',\n  'remote_can_client_333'},\n {'realtime_train_infer_ddpg_2578'},\n {'realtime_train_infer_ddpg_1138',\n  'realtime_train_infer_ddpg_1359',\n  'remote_can_client_315',\n  'remote_can_client_332'},\n {'realtime_train_infer_ddpg_2578'},\n {'realtime_train_infer_ddpg_1157',\n  'realtime_train_infer_ddpg_1374',\n  'realtime_train_infer_ddpg_1379',\n  'remote_can_client_304',\n  'remote_can_client_315',\n  'remote_can_client_332'},\n {'realtime_train_infer_ddpg_1157',\n  'realtime_train_infer_ddpg_1379',\n  'remote_can_client_304',\n  'remote_can_client_332'},\n {'realtime_train_infer_ddpg_1157',\n  'realtime_train_infer_ddpg_1374',\n  'realtime_train_infer_ddpg_1379',\n  'remote_can_client_304'},\n {'realtime_train_infer_ddpg_1148',\n  'realtime_train_infer_ddpg_1370',\n  'remote_can_client_305',\n  'remote_can_client_333'},\n {'realtime_train_infer_ddpg_2578'},\n {'realtime_train_infer_ddpg_1148',\n  'realtime_train_infer_ddpg_1370',\n  'remote_can_client_304',\n  'remote_can_client_332'},\n {'realtime_train_infer_ddpg_1148',\n  'realtime_train_infer_ddpg_1370',\n  'realtime_train_infer_ddpg_2000',\n  'remote_can_client_230',\n  'remote_can_client_305',\n  'remote_can_client_333'},\n {'realtime_train_infer_ddpg_1157',\n  'realtime_train_infer_ddpg_1379',\n  'remote_can_client_304',\n  'remote_can_client_315',\n  'remote_can_client_332'},\n {'realtime_train_infer_ddpg_2578'},\n {'realtime_train_infer_ddpg_1148',\n  'realtime_train_infer_ddpg_1370',\n  'remote_can_client_304',\n  'remote_can_client_315',\n  'remote_can_client_332'},\n {'realtime_train_infer_ddpg_2578'},\n {'realtime_train_infer_ddpg_1148',\n  'realtime_train_infer_ddpg_1370',\n  'realtime_train_infer_ddpg_2000',\n  'remote_can_client_230',\n  'remote_can_client_305',\n  'remote_can_client_333'},\n {'realtime_train_infer_ddpg_2578'},\n {'realtime_train_infer_ddpg_2009', 'remote_can_client_228'},\n {'realtime_train_infer_ddpg_1157',\n  'realtime_train_infer_ddpg_1374',\n  'realtime_train_infer_ddpg_1379',\n  'realtime_train_infer_ddpg_2009',\n  'remote_can_client_228',\n  'remote_can_client_304',\n  'remote_can_client_332'},\n {'realtime_train_infer_ddpg_2009', 'remote_can_client_228'},\n {'realtime_train_infer_ddpg_1148',\n  'realtime_train_infer_ddpg_1370',\n  'realtime_train_infer_ddpg_2000',\n  'remote_can_client_305',\n  'remote_can_client_333'},\n {'realtime_train_infer_ddpg_1148',\n  'realtime_train_infer_ddpg_1370',\n  'remote_can_client_305'},\n {'realtime_train_infer_ddpg_1148',\n  'realtime_train_infer_ddpg_1370',\n  'remote_can_client_305',\n  'remote_can_client_333'},\n {'realtime_train_infer_ddpg_2578'},\n {'realtime_train_infer_ddpg_1157',\n  'realtime_train_infer_ddpg_1379',\n  'remote_can_client_304',\n  'remote_can_client_332'},\n {'realtime_train_infer_ddpg_1148',\n  'realtime_train_infer_ddpg_1370',\n  'realtime_train_infer_ddpg_2000',\n  'remote_can_client_230',\n  'remote_can_client_305',\n  'remote_can_client_333'},\n {'realtime_train_infer_ddpg_2578'},\n {'realtime_train_infer_ddpg_1148',\n  'realtime_train_infer_ddpg_1370',\n  'realtime_train_infer_ddpg_2000',\n  'remote_can_client_230',\n  'remote_can_client_305',\n  'remote_can_client_333'},\n {'realtime_train_infer_ddpg_1148',\n  'realtime_train_infer_ddpg_1370',\n  'remote_can_client_304',\n  'remote_can_client_332'},\n {'realtime_train_infer_ddpg_2578'},\n {'realtime_train_infer_ddpg_1148',\n  'realtime_train_infer_ddpg_1365',\n  'realtime_train_infer_ddpg_1370',\n  'realtime_train_infer_ddpg_2000',\n  'remote_can_client_241',\n  'remote_can_client_304',\n  'remote_can_client_315',\n  'remote_can_client_332'},\n {'realtime_train_infer_ddpg_2578'},\n {'realtime_train_infer_ddpg_2578'},\n {'realtime_train_infer_ddpg_1148',\n  'realtime_train_infer_ddpg_1370',\n  'realtime_train_infer_ddpg_2000',\n  'remote_can_client_305',\n  'remote_can_client_333'},\n {'realtime_train_infer_ddpg_1148',\n  'realtime_train_infer_ddpg_1370',\n  'remote_can_client_241',\n  'remote_can_client_304',\n  'remote_can_client_315'},\n {'realtime_train_infer_ddpg_2578'},\n {'realtime_train_infer_ddpg_2578'},\n {'realtime_train_infer_ddpg_1148',\n  'realtime_train_infer_ddpg_1370',\n  'realtime_train_infer_ddpg_2000',\n  'remote_can_client_230',\n  'remote_can_client_305',\n  'remote_can_client_333'},\n {'realtime_train_infer_ddpg_1157',\n  'realtime_train_infer_ddpg_1379',\n  'remote_can_client_304',\n  'remote_can_client_332'},\n {'realtime_train_infer_ddpg_1157',\n  'realtime_train_infer_ddpg_1379',\n  'remote_can_client_304',\n  'remote_can_client_332'},\n {'realtime_train_infer_ddpg_1148',\n  'realtime_train_infer_ddpg_1370',\n  'realtime_train_infer_ddpg_2000',\n  'remote_can_client_243',\n  'remote_can_client_305',\n  'remote_can_client_316',\n  'remote_can_client_333'},\n {'realtime_train_infer_ddpg_2578'},\n {'realtime_train_infer_ddpg_2578'},\n {'realtime_train_infer_ddpg_1148',\n  'realtime_train_infer_ddpg_1365',\n  'realtime_train_infer_ddpg_1370',\n  'realtime_train_infer_ddpg_2000',\n  'remote_can_client_230',\n  'remote_can_client_305',\n  'remote_can_client_333'},\n {'realtime_train_infer_ddpg_1148',\n  'realtime_train_infer_ddpg_1370',\n  'realtime_train_infer_ddpg_2000',\n  'remote_can_client_230',\n  'remote_can_client_305',\n  'remote_can_client_333'},\n {'realtime_train_infer_ddpg_1148',\n  'realtime_train_infer_ddpg_1370',\n  'remote_can_client_305',\n  'remote_can_client_333'},\n {'realtime_train_infer_ddpg_1157',\n  'realtime_train_infer_ddpg_1379',\n  'realtime_train_infer_ddpg_2009',\n  'remote_can_client_228',\n  'remote_can_client_304',\n  'remote_can_client_332'},\n {'realtime_train_infer_ddpg_2475'},\n {'realtime_train_infer_ddpg_2578'},\n {'realtime_train_infer_ddpg_1148',\n  'realtime_train_infer_ddpg_1370',\n  'remote_can_client_243',\n  'remote_can_client_305',\n  'remote_can_client_316',\n  'remote_can_client_333'},\n {'realtime_train_infer_ddpg_1157',\n  'realtime_train_infer_ddpg_1379',\n  'remote_can_client_304'},\n {'realtime_train_infer_ddpg_1157',\n  'realtime_train_infer_ddpg_1379',\n  'remote_can_client_304'},\n {'realtime_train_infer_ddpg_1157',\n  'realtime_train_infer_ddpg_1374',\n  'realtime_train_infer_ddpg_1379',\n  'remote_can_client_304'},\n {'realtime_train_infer_ddpg_1138', 'realtime_train_infer_ddpg_1359'},\n {'realtime_train_infer_ddpg_1157',\n  'realtime_train_infer_ddpg_1374',\n  'realtime_train_infer_ddpg_1379',\n  'remote_can_client_304',\n  'remote_can_client_332'},\n {'realtime_train_infer_ddpg_1148',\n  'realtime_train_infer_ddpg_1370',\n  'realtime_train_infer_ddpg_2000',\n  'remote_can_client_305',\n  'remote_can_client_333'},\n {'realtime_train_infer_ddpg_1135',\n  'realtime_train_infer_ddpg_1349',\n  'realtime_train_infer_ddpg_1354'},\n {'realtime_train_infer_ddpg_2475'},\n {'realtime_train_infer_ddpg_1148',\n  'realtime_train_infer_ddpg_1370',\n  'remote_can_client_305',\n  'remote_can_client_333'},\n {'realtime_train_infer_ddpg_2578'},\n {'realtime_train_infer_ddpg_2578'},\n {'realtime_train_infer_ddpg_1148',\n  'realtime_train_infer_ddpg_1370',\n  'realtime_train_infer_ddpg_2000',\n  'remote_can_client_230',\n  'remote_can_client_305',\n  'remote_can_client_333'},\n {'realtime_train_infer_ddpg_1148',\n  'realtime_train_infer_ddpg_1370',\n  'remote_can_client_230',\n  'remote_can_client_305',\n  'remote_can_client_333'},\n {'realtime_train_infer_ddpg_1148',\n  'realtime_train_infer_ddpg_1365',\n  'realtime_train_infer_ddpg_1370',\n  'realtime_train_infer_ddpg_2000',\n  'remote_can_client_241',\n  'remote_can_client_304',\n  'remote_can_client_315',\n  'remote_can_client_332'},\n {'realtime_train_infer_ddpg_2009'},\n {'realtime_train_infer_ddpg_2578'},\n {'realtime_train_infer_ddpg_1157',\n  'realtime_train_infer_ddpg_1374',\n  'realtime_train_infer_ddpg_1379',\n  'realtime_train_infer_ddpg_2009',\n  'remote_can_client_228',\n  'remote_can_client_304',\n  'remote_can_client_332'},\n {'realtime_train_infer_ddpg_2475'},\n {'realtime_train_infer_ddpg_2009', 'remote_can_client_228'},\n {'realtime_train_infer_ddpg_2578'},\n {'realtime_train_infer_ddpg_1148',\n  'realtime_train_infer_ddpg_1370',\n  'remote_can_client_305',\n  'remote_can_client_316',\n  'remote_can_client_333'},\n {'realtime_train_infer_ddpg_2578'},\n {'realtime_train_infer_ddpg_2578'},\n {'realtime_train_infer_ddpg_1157',\n  'realtime_train_infer_ddpg_1379',\n  'remote_can_client_304',\n  'remote_can_client_332'},\n {'realtime_train_infer_ddpg_1148',\n  'realtime_train_infer_ddpg_1370',\n  'remote_can_client_305',\n  'remote_can_client_333'},\n {'realtime_train_infer_ddpg_2578'},\n {'realtime_train_infer_ddpg_1157',\n  'realtime_train_infer_ddpg_1379',\n  'realtime_train_infer_ddpg_2009',\n  'remote_can_client_304',\n  'remote_can_client_332'},\n {'realtime_train_infer_ddpg_1157',\n  'realtime_train_infer_ddpg_1379',\n  'remote_can_client_332'},\n {'realtime_train_infer_ddpg_1148',\n  'realtime_train_infer_ddpg_1365',\n  'realtime_train_infer_ddpg_1370',\n  'realtime_train_infer_ddpg_2000',\n  'remote_can_client_241',\n  'remote_can_client_304',\n  'remote_can_client_315',\n  'remote_can_client_332'},\n {'realtime_train_infer_ddpg_1157',\n  'realtime_train_infer_ddpg_1379',\n  'remote_can_client_304'},\n {'realtime_train_infer_ddpg_1148',\n  'realtime_train_infer_ddpg_1370',\n  'realtime_train_infer_ddpg_2000',\n  'remote_can_client_305',\n  'remote_can_client_333'},\n {'realtime_train_infer_ddpg_1148',\n  'realtime_train_infer_ddpg_1365',\n  'realtime_train_infer_ddpg_1370',\n  'realtime_train_infer_ddpg_2000',\n  'remote_can_client_228',\n  'remote_can_client_304',\n  'remote_can_client_315',\n  'remote_can_client_332'},\n {'realtime_train_infer_ddpg_2578'},\n {'realtime_train_infer_ddpg_1148',\n  'realtime_train_infer_ddpg_1370',\n  'remote_can_client_315'},\n {'realtime_train_infer_ddpg_2475'},\n {'realtime_train_infer_ddpg_1148',\n  'realtime_train_infer_ddpg_1370',\n  'remote_can_client_315'},\n {'realtime_train_infer_ddpg_1148',\n  'realtime_train_infer_ddpg_1370',\n  'remote_can_client_241',\n  'remote_can_client_304',\n  'remote_can_client_315'},\n {'realtime_train_infer_ddpg_1157',\n  'realtime_train_infer_ddpg_1379',\n  'remote_can_client_304'},\n {'realtime_train_infer_ddpg_1157',\n  'realtime_train_infer_ddpg_1374',\n  'realtime_train_infer_ddpg_1379',\n  'remote_can_client_304',\n  'remote_can_client_332'},\n {'realtime_train_infer_ddpg_1148',\n  'realtime_train_infer_ddpg_1370',\n  'remote_can_client_333'},\n {'realtime_train_infer_ddpg_1374'},\n {'realtime_train_infer_ddpg_1157',\n  'realtime_train_infer_ddpg_1379',\n  'remote_can_client_332'},\n {'realtime_train_infer_ddpg_2475'},\n {'realtime_train_infer_ddpg_2578'},\n {'realtime_train_infer_ddpg_2475'},\n {'realtime_train_infer_ddpg_1148',\n  'realtime_train_infer_ddpg_1365',\n  'realtime_train_infer_ddpg_1370',\n  'realtime_train_infer_ddpg_2000',\n  'remote_can_client_230',\n  'remote_can_client_305',\n  'remote_can_client_333'},\n {'realtime_train_infer_ddpg_1148',\n  'realtime_train_infer_ddpg_1370',\n  'remote_can_client_305',\n  'remote_can_client_333'},\n {'realtime_train_infer_ddpg_1148',\n  'realtime_train_infer_ddpg_1365',\n  'realtime_train_infer_ddpg_1370',\n  'realtime_train_infer_ddpg_2000',\n  'remote_can_client_230',\n  'remote_can_client_305',\n  'remote_can_client_333'},\n {'realtime_train_infer_ddpg_1148',\n  'realtime_train_infer_ddpg_1370',\n  'realtime_train_infer_ddpg_2000',\n  'remote_can_client_230',\n  'remote_can_client_305',\n  'remote_can_client_333'},\n {'realtime_train_infer_ddpg_1157',\n  'realtime_train_infer_ddpg_1379',\n  'remote_can_client_304'},\n {'realtime_train_infer_ddpg_1148',\n  'realtime_train_infer_ddpg_1370',\n  'realtime_train_infer_ddpg_2000',\n  'remote_can_client_230',\n  'remote_can_client_305',\n  'remote_can_client_333'},\n {'realtime_train_infer_ddpg_1148',\n  'realtime_train_infer_ddpg_1365',\n  'realtime_train_infer_ddpg_1370',\n  'realtime_train_infer_ddpg_2000',\n  'remote_can_client_304',\n  'remote_can_client_332'},\n {'realtime_train_infer_ddpg_1157',\n  'realtime_train_infer_ddpg_1379',\n  'remote_can_client_332'},\n {'realtime_train_infer_ddpg_1148',\n  'realtime_train_infer_ddpg_1365',\n  'realtime_train_infer_ddpg_1370',\n  'realtime_train_infer_ddpg_2000',\n  'remote_can_client_230',\n  'remote_can_client_305',\n  'remote_can_client_333'},\n {'realtime_train_infer_ddpg_1148',\n  'realtime_train_infer_ddpg_1365',\n  'realtime_train_infer_ddpg_1370',\n  'realtime_train_infer_ddpg_2000',\n  'remote_can_client_230',\n  'remote_can_client_305',\n  'remote_can_client_333'},\n {'realtime_train_infer_ddpg_1349'},\n {'realtime_train_infer_ddpg_2475'},\n {'realtime_train_infer_ddpg_1148',\n  'realtime_train_infer_ddpg_1370',\n  'realtime_train_infer_ddpg_2000',\n  'remote_can_client_230',\n  'remote_can_client_305',\n  'remote_can_client_333'},\n {'realtime_train_infer_ddpg_2578'},\n {'realtime_train_infer_ddpg_1148',\n  'realtime_train_infer_ddpg_1370',\n  'realtime_train_infer_ddpg_2000',\n  'remote_can_client_305',\n  'remote_can_client_333'},\n {'realtime_train_infer_ddpg_1157',\n  'realtime_train_infer_ddpg_1379',\n  'remote_can_client_304',\n  'remote_can_client_315',\n  'remote_can_client_332'},\n {'realtime_train_infer_ddpg_2578'},\n {'realtime_train_infer_ddpg_2578'},\n {'realtime_train_infer_ddpg_1157',\n  'realtime_train_infer_ddpg_1374',\n  'realtime_train_infer_ddpg_1379',\n  'realtime_train_infer_ddpg_2009',\n  'remote_can_client_304',\n  'remote_can_client_332'},\n {'realtime_train_infer_ddpg_1148',\n  'realtime_train_infer_ddpg_1370',\n  'remote_can_client_304',\n  'remote_can_client_315'},\n {'realtime_train_infer_ddpg_2475'},\n {'realtime_train_infer_ddpg_1157',\n  'realtime_train_infer_ddpg_1374',\n  'realtime_train_infer_ddpg_1379',\n  'realtime_train_infer_ddpg_2009',\n  'remote_can_client_304',\n  'remote_can_client_332'},\n {'realtime_train_infer_ddpg_1148',\n  'realtime_train_infer_ddpg_1370',\n  'remote_can_client_333'},\n {'realtime_train_infer_ddpg_1148',\n  'realtime_train_infer_ddpg_1370',\n  'realtime_train_infer_ddpg_2000',\n  'remote_can_client_230',\n  'remote_can_client_305',\n  'remote_can_client_333'},\n {'realtime_train_infer_ddpg_1148',\n  'realtime_train_infer_ddpg_1370',\n  'remote_can_client_304',\n  'remote_can_client_332'},\n {'realtime_train_infer_ddpg_2578'},\n {'realtime_train_infer_ddpg_1148',\n  'realtime_train_infer_ddpg_1370',\n  'remote_can_client_305'},\n {'realtime_train_infer_ddpg_1157',\n  'realtime_train_infer_ddpg_1379',\n  'remote_can_client_304',\n  'remote_can_client_315',\n  'remote_can_client_332'},\n {'realtime_train_infer_ddpg_1157',\n  'realtime_train_infer_ddpg_1379',\n  'remote_can_client_304'},\n {'realtime_train_infer_ddpg_1148',\n  'realtime_train_infer_ddpg_1370',\n  'remote_can_client_305',\n  'remote_can_client_333'},\n {'realtime_train_infer_ddpg_1148',\n  'realtime_train_infer_ddpg_1370',\n  'remote_can_client_305'},\n {'realtime_train_infer_ddpg_1157',\n  'realtime_train_infer_ddpg_1374',\n  'realtime_train_infer_ddpg_1379',\n  'realtime_train_infer_ddpg_2009',\n  'remote_can_client_230',\n  'remote_can_client_305',\n  'remote_can_client_333'},\n {'realtime_train_infer_ddpg_1164',\n  'realtime_train_infer_ddpg_1387',\n  'remote_can_client_333'},\n {'realtime_train_infer_ddpg_1164',\n  'realtime_train_infer_ddpg_1387',\n  'realtime_train_infer_ddpg_2011',\n  'remote_can_client_230',\n  'remote_can_client_305',\n  'remote_can_client_333'},\n {'realtime_train_infer_ddpg_1157',\n  'realtime_train_infer_ddpg_1379',\n  'realtime_train_infer_ddpg_2009',\n  'remote_can_client_333'},\n {'realtime_train_infer_ddpg_1157',\n  'realtime_train_infer_ddpg_1379',\n  'realtime_train_infer_ddpg_2009',\n  'remote_can_client_333'},\n {'realtime_train_infer_ddpg_1164',\n  'realtime_train_infer_ddpg_1387',\n  'realtime_train_infer_ddpg_2011',\n  'remote_can_client_333'},\n {'realtime_train_infer_ddpg_2635'},\n {'realtime_train_infer_ddpg_1164',\n  'realtime_train_infer_ddpg_1387',\n  'realtime_train_infer_ddpg_2011',\n  'remote_can_client_333'},\n {'realtime_train_infer_ddpg_1164',\n  'realtime_train_infer_ddpg_1387',\n  'realtime_train_infer_ddpg_2011',\n  'remote_can_client_333'},\n {'realtime_train_infer_ddpg_1164',\n  'realtime_train_infer_ddpg_1387',\n  'remote_can_client_333'},\n {'realtime_train_infer_ddpg_2635'},\n {'realtime_train_infer_ddpg_1164',\n  'realtime_train_infer_ddpg_1387',\n  'realtime_train_infer_ddpg_2011',\n  'remote_can_client_333'},\n {'realtime_train_infer_ddpg_2635'},\n {'realtime_train_infer_ddpg_1157',\n  'realtime_train_infer_ddpg_1379',\n  'remote_can_client_261',\n  'remote_can_client_333'},\n {'realtime_train_infer_ddpg_1157',\n  'realtime_train_infer_ddpg_1379',\n  'remote_can_client_243',\n  'remote_can_client_305'},\n {'realtime_train_infer_ddpg_1164',\n  'realtime_train_infer_ddpg_1387',\n  'remote_can_client_305',\n  'remote_can_client_316',\n  'remote_can_client_333'},\n {'realtime_train_infer_ddpg_1164',\n  'realtime_train_infer_ddpg_1387',\n  'realtime_train_infer_ddpg_2011',\n  'remote_can_client_333'},\n {'realtime_train_infer_ddpg_1157',\n  'realtime_train_infer_ddpg_1379',\n  'remote_can_client_243',\n  'remote_can_client_316'},\n {'realtime_train_infer_ddpg_1164',\n  'realtime_train_infer_ddpg_1387',\n  'realtime_train_infer_ddpg_2011',\n  'remote_can_client_333'},\n {'realtime_train_infer_ddpg_1157',\n  'realtime_train_infer_ddpg_1379',\n  'remote_can_client_243',\n  'remote_can_client_316'},\n {'realtime_train_infer_ddpg_1164',\n  'realtime_train_infer_ddpg_1387',\n  'realtime_train_infer_ddpg_2011',\n  'remote_can_client_333'},\n {'realtime_train_infer_ddpg_1164',\n  'realtime_train_infer_ddpg_1387',\n  'realtime_train_infer_ddpg_2011',\n  'remote_can_client_230',\n  'remote_can_client_305'},\n {'realtime_train_infer_ddpg_1164',\n  'realtime_train_infer_ddpg_1387',\n  'realtime_train_infer_ddpg_2011',\n  'remote_can_client_333'},\n {'realtime_train_infer_ddpg_2635'},\n {'realtime_train_infer_ddpg_1164',\n  'realtime_train_infer_ddpg_1387',\n  'realtime_train_infer_ddpg_2011',\n  'remote_can_client_333'},\n {'realtime_train_infer_ddpg_1157',\n  'realtime_train_infer_ddpg_1379',\n  'realtime_train_infer_ddpg_2009',\n  'remote_can_client_230',\n  'remote_can_client_305',\n  'remote_can_client_333'},\n {'realtime_train_infer_ddpg_1164',\n  'realtime_train_infer_ddpg_1387',\n  'remote_can_client_305',\n  'remote_can_client_333'},\n {'realtime_train_infer_ddpg_1164',\n  'realtime_train_infer_ddpg_1387',\n  'realtime_train_infer_ddpg_2011',\n  'remote_can_client_333'},\n {'realtime_train_infer_ddpg_1164',\n  'realtime_train_infer_ddpg_1387',\n  'realtime_train_infer_ddpg_2011',\n  'remote_can_client_305',\n  'remote_can_client_333'},\n {'realtime_train_infer_ddpg_1164',\n  'realtime_train_infer_ddpg_1387',\n  'realtime_train_infer_ddpg_2011',\n  'remote_can_client_305',\n  'remote_can_client_333'},\n {'realtime_train_infer_ddpg_2635'},\n {'realtime_train_infer_ddpg_1164',\n  'realtime_train_infer_ddpg_1387',\n  'realtime_train_infer_ddpg_2011',\n  'remote_can_client_333'},\n {'realtime_train_infer_ddpg_1164',\n  'realtime_train_infer_ddpg_1387',\n  'remote_can_client_333'},\n {'realtime_train_infer_ddpg_2635'},\n {'realtime_train_infer_ddpg_1164',\n  'realtime_train_infer_ddpg_1387',\n  'realtime_train_infer_ddpg_2011',\n  'remote_can_client_333'},\n {'realtime_train_infer_ddpg_1164',\n  'realtime_train_infer_ddpg_1387',\n  'realtime_train_infer_ddpg_2011',\n  'remote_can_client_230',\n  'remote_can_client_305'},\n {'realtime_train_infer_ddpg_1164',\n  'realtime_train_infer_ddpg_1387',\n  'remote_can_client_230',\n  'remote_can_client_305',\n  'remote_can_client_333'},\n {'realtime_train_infer_ddpg_1157',\n  'realtime_train_infer_ddpg_1379',\n  'remote_can_client_243',\n  'remote_can_client_305'},\n {'realtime_train_infer_ddpg_1164',\n  'realtime_train_infer_ddpg_1387',\n  'realtime_train_infer_ddpg_2011',\n  'remote_can_client_333'}]"
     },
     "execution_count": 22,
     "metadata": {},
     "output_type": "execute_result"
    }
   ],
   "source": [
    "# files = glob.glob(str(folder) + \"/*.log\")\n",
    "folders = [\n",
    "    Path('/dpt/veos/eos_jiangyin/HMZABAAHXMF011054−wangcheng/py_logs'),\n",
    "    Path('/dpt/veos/eos_jiangyin/HMZABAAHXNF005658−changlong-li/py_logs'),\n",
    "    Path('/dpt/veos/eos_jiangyin/HMZABAAH1MF011055−wangcheng/py_logs'),\n",
    "    Path('/dpt/veos/eos_jiangyin/HMZABAAH8NF005657−hongmei-chen/py_logs'),\n",
    "]\n",
    "report_loc_set = []\n",
    "# folder = Path('/dpt/veos/eos_jiangyin/HMZABAAHXMF011054−wangcheng/py_logs')\n",
    "# folder = Path('/dpt/veos/eos_jiangyin/HMZABAAHXNF005658−changlong-li/py_logs')\n",
    "# folder = Path('/dpt/veos/eos_jiangyin/HMZABAAH1MF011055−wangcheng/py_logs')\n",
    "# folder = Path('/dpt/veos/eos_jiangyin/HMZABAAH8NF005657−hongmei-chen/py_logs')\n",
    "for folder in folders:\n",
    "    files = folder.glob(\"*.json\")\n",
    "    try:\n",
    "        os.mkdir(folder / \"debug\")\n",
    "    except FileExistsError:\n",
    "        # print('Folder already exists')\n",
    "        pass\n",
    "\n",
    "    for file in files:\n",
    "        converted_target_file = (\n",
    "            (file.resolve().parent / \"debug\" / file.name)\n",
    "            .with_stem(f'{file.stem}_describe')\n",
    "            .with_suffix(\".json\")\n",
    "        )\n",
    "        # print(converted_target_file)\n",
    "\n",
    "        with open(file) as f:\n",
    "            # line by line\n",
    "            try:\n",
    "                logs = pd.read_json(f, lines=True)\n",
    "            except ValueError as e:\n",
    "                print(f'Error in {file}: {e}')\n",
    "\n",
    "        failures = logs[logs['levelname'].isin(['ERROR', 'WARNING'])]\n",
    "        if len(failures) == 0:\n",
    "            continue\n",
    "        failures.set_index('asctime', inplace=True)\n",
    "        # failures.to_json(converted_target_file)\n",
    "        # failures['message'].values\n",
    "        # failures[['name', 'levelname', 'lineno', 'message']].to_csv(\n",
    "        #     converted_target_file.with_suffix('.csv')\n",
    "        # )\n",
    "        failures_loc = (\n",
    "            failures.loc[:, 'module'] + '_' + failures.loc[:, 'lineno'].astype(str)\n",
    "        )\n",
    "        # failure_location = failures.groupby('name').apply(get_tuple_from_name_lineno)\n",
    "        report_loc_set.append(set(failures_loc.unique().tolist()))\n",
    "        print(len(report_loc_set))\n",
    "        # if len(report_loc_set) % 10 == 0:\n",
    "        #     print(report_loc_set)\n",
    "\n",
    "        # failures = logs[\n",
    "        #     (logs['levelname'] == 'ERROR') | (logs['levelname'] == 'WARNING'), ['message']\n",
    "        # ]\n",
    "        # failures.to_json(converted_target_file)\n",
    "        # logs.shape\n",
    "\n",
    "        # with open(converted_target_file, 'w') as f:\n",
    "        #     f.write(json.dumps(json_lines))\n",
    "        # print(f'Analysis of {file} in {converted_target_file}')\n",
    "print(f'Found {len(report_loc_set)} unique report locations')\n",
    "report_loc_set\n"
   ],
   "metadata": {
    "collapsed": false,
    "ExecuteTime": {
     "end_time": "2023-06-26T09:28:08.381432477Z",
     "start_time": "2023-06-26T09:24:47.857266219Z"
    }
   }
  },
  {
   "cell_type": "code",
   "execution_count": 25,
   "outputs": [
    {
     "data": {
      "text/plain": "23662"
     },
     "execution_count": 25,
     "metadata": {},
     "output_type": "execute_result"
    }
   ],
   "source": [
    "import csv\n",
    "\n",
    "folder = Path('/dpt/veos/eos_jiangyin/report_locations.csv')\n",
    "with open(folder, 'w') as f:\n",
    "    writer = csv.writer(f)\n",
    "    writer.writerow(report_loc_set)\n"
   ],
   "metadata": {
    "collapsed": false,
    "ExecuteTime": {
     "end_time": "2023-06-26T09:30:07.432736749Z",
     "start_time": "2023-06-26T09:30:07.389009071Z"
    }
   }
  },
  {
   "cell_type": "code",
   "execution_count": 23,
   "outputs": [
    {
     "data": {
      "text/plain": "{'realtime_train_infer_ddpg_1157',\n 'realtime_train_infer_ddpg_1374',\n 'realtime_train_infer_ddpg_1379',\n 'remote_can_client_304',\n 'remote_can_client_332'}"
     },
     "execution_count": 23,
     "metadata": {},
     "output_type": "execute_result"
    },
    {
     "data": {
      "text/plain": "{'realtime_train_infer_ddpg_1148',\n 'realtime_train_infer_ddpg_1370',\n 'realtime_train_infer_ddpg_2000',\n 'remote_can_client_230',\n 'remote_can_client_305',\n 'remote_can_client_333'}"
     },
     "execution_count": 23,
     "metadata": {},
     "output_type": "execute_result"
    },
    {
     "data": {
      "text/plain": "{'realtime_train_infer_ddpg_1148',\n 'realtime_train_infer_ddpg_1157',\n 'realtime_train_infer_ddpg_1370',\n 'realtime_train_infer_ddpg_1374',\n 'realtime_train_infer_ddpg_1379',\n 'realtime_train_infer_ddpg_2000',\n 'remote_can_client_230',\n 'remote_can_client_304',\n 'remote_can_client_305',\n 'remote_can_client_332',\n 'remote_can_client_333'}"
     },
     "execution_count": 23,
     "metadata": {},
     "output_type": "execute_result"
    }
   ],
   "source": [
    "report_loc_set[0]\n",
    "report_loc_set[100]\n",
    "report_loc_set[0] | report_loc_set[100]"
   ],
   "metadata": {
    "collapsed": false,
    "ExecuteTime": {
     "end_time": "2023-06-26T09:29:36.688798274Z",
     "start_time": "2023-06-26T09:29:36.640569244Z"
    }
   }
  },
  {
   "cell_type": "code",
   "execution_count": null,
   "outputs": [],
   "source": [],
   "metadata": {
    "collapsed": false
   }
  },
  {
   "cell_type": "code",
   "execution_count": 26,
   "outputs": [
    {
     "data": {
      "text/plain": "{'realtime_train_infer_ddpg_1135',\n 'realtime_train_infer_ddpg_1138',\n 'realtime_train_infer_ddpg_1148',\n 'realtime_train_infer_ddpg_1157',\n 'realtime_train_infer_ddpg_1164',\n 'realtime_train_infer_ddpg_1349',\n 'realtime_train_infer_ddpg_1354',\n 'realtime_train_infer_ddpg_1359',\n 'realtime_train_infer_ddpg_1365',\n 'realtime_train_infer_ddpg_1370',\n 'realtime_train_infer_ddpg_1374',\n 'realtime_train_infer_ddpg_1379',\n 'realtime_train_infer_ddpg_1387',\n 'realtime_train_infer_ddpg_2000',\n 'realtime_train_infer_ddpg_2009',\n 'realtime_train_infer_ddpg_2011',\n 'realtime_train_infer_ddpg_2475',\n 'realtime_train_infer_ddpg_2578',\n 'realtime_train_infer_ddpg_2635',\n 'remote_can_client_228',\n 'remote_can_client_230',\n 'remote_can_client_241',\n 'remote_can_client_243',\n 'remote_can_client_261',\n 'remote_can_client_273',\n 'remote_can_client_304',\n 'remote_can_client_305',\n 'remote_can_client_315',\n 'remote_can_client_316',\n 'remote_can_client_332',\n 'remote_can_client_333'}"
     },
     "execution_count": 26,
     "metadata": {},
     "output_type": "execute_result"
    },
    {
     "data": {
      "text/plain": "854"
     },
     "execution_count": 26,
     "metadata": {},
     "output_type": "execute_result"
    },
    {
     "data": {
      "text/plain": "23662"
     },
     "execution_count": 26,
     "metadata": {},
     "output_type": "execute_result"
    }
   ],
   "source": [
    "all_locations = set()\n",
    "for location in report_loc_set:\n",
    "    all_locations |= location\n",
    "\n",
    "all_locations\n",
    "with open(folder, 'w') as f:\n",
    "    writer = csv.writer(f)\n",
    "    writer.writerow(all_locations)\n",
    "    writer.writerow(report_loc_set)\n"
   ],
   "metadata": {
    "collapsed": false,
    "ExecuteTime": {
     "end_time": "2023-06-26T09:30:13.335563536Z",
     "start_time": "2023-06-26T09:30:13.261812315Z"
    }
   }
  }
 ],
 "metadata": {
  "jupytext": {
   "cell_metadata_filter": "-all",
   "main_language": "python",
   "notebook_metadata_filter": "-all"
  },
  "kernelspec": {
   "name": "python3",
   "language": "python",
   "display_name": "Python 3 (ipykernel)"
  }
 },
 "nbformat": 4,
 "nbformat_minor": 5
}
