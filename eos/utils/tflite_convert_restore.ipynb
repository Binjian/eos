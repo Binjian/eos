{
    "cells": [
        {
            "cell_type": "code",
            "execution_count": 1,
            "metadata": {"collapsed": true},
            "outputs": [
                {
                    "name": "stderr",
                    "output_type": "stream",
                    "text": [
                        "2023-04-12 14:18:00.511233: I tensorflow/core/platform/cpu_feature_guard.cc:193] This TensorFlow binary is optimized with oneAPI Deep Neural Network Library (oneDNN) to use the following CPU instructions in performance-critical operations:  SSE4.1 SSE4.2 AVX AVX2 FMA\n",
                        "To enable them in other operations, rebuild TensorFlow with the appropriate compiler flags.\n",
                    ],
                },
                {
                    "name": "stdout",
                    "output_type": "stream",
                    "text": [
                        "/dpt/mambaforge/envs/meos/lib/python3.10/site-packages/tensorflow/__init__.py\n",
                        "2.11.0\n",
                    ],
                },
            ],
            "source": [
                "import os\n",
                "import tensorflow as tf\n",
                "\n",
                "print(tf.__file__)\n",
                "print(tf.__version__)\n",
            ],
        },
        {
            "cell_type": "code",
            "execution_count": 2,
            "outputs": [],
            "source": [
                "os.chdir(\n",
                "    '/home/n/devel/anting_remote/eos/data/HMZABAAH7MF011058−longfei/baseline/tf_ckpts-ddpg/vb_rl-ddpg_actor'\n",
                ")",
            ],
            "metadata": {"collapsed": false},
        },
        {
            "cell_type": "code",
            "execution_count": 3,
            "outputs": [
                {
                    "data": {
                        "text/plain": "'/home/n/devel/anting_remote/eos/data/HMZABAAH7MF011058−longfei/baseline/tf_ckpts-ddpg/vb_rl-ddpg_actor'"
                    },
                    "execution_count": 3,
                    "metadata": {},
                    "output_type": "execute_result",
                }
            ],
            "source": ["os.getcwd()"],
            "metadata": {"collapsed": false},
        },
        {
            "cell_type": "code",
            "execution_count": 4,
            "outputs": [
                {
                    "data": {
                        "text/plain": "['ckpt-3.index',\n 'ckpt-3.data-00000-of-00001',\n 'ckpt-2.data-00000-of-00001',\n 'ckpt-1.index',\n 'checkpoint',\n 'ckpt-1.data-00000-of-00001',\n 'ckpt-2.index']"
                    },
                    "execution_count": 4,
                    "metadata": {},
                    "output_type": "execute_result",
                }
            ],
            "source": ["os.listdir('.')"],
            "metadata": {"collapsed": false},
        },
        {
            "cell_type": "code",
            "execution_count": 5,
            "outputs": [
                {
                    "name": "stdout",
                    "output_type": "stream",
                    "text": [
                        "Pool.__init_subclass__(): ~DBItemT; Concrete Class: (eos.comm.remote.remote_can_client.pool.Pool[~DBItemT],)\n",
                        "Pool.__init_subclass__(): <class 'eos.config.db_config.RecordPlain'>; Concrete Class: (eos.comm.remote.remote_can_client.pool.Pool[eos.config.db_config.RecordPlain],)\n",
                    ],
                }
            ],
            "source": [
                "from keras import layers\n",
                "from eos import DDPG\n",
                "from eos.config import trucks_by_id, Plot\n",
                "from eos.utils import logger, dictLogger\n",
            ],
            "metadata": {"collapsed": false},
        },
        {
            "cell_type": "code",
            "execution_count": 6,
            "outputs": [
                {
                    "name": "stdout",
                    "output_type": "stream",
                    "text": [
                        "cls: <class 'eos.comm.remote.remote_can_client.db_pool.DBPool'>\n",
                        "typing insp generic class: (eos.comm.remote.remote_can_client.pool.Pool[~DBItemT],)\n",
                        "typing insp origin: None\n",
                        "runtime class info: (eos.comm.remote.remote_can_client.pool.Pool[~DBItemT],)\n",
                        "object dict info: {'location': ':@127.0.0.1:27017', '_type_T': None, 'query': {'vehicle_id': 'VB7', 'driver_id': 'longfei', 'dt_start': None, 'dt_end': None}, 'client': MongoClient(host=['127.0.0.1:27017'], document_class=dict, tz_aware=False, connect=True), 'db_config': DB_CONFIG(SRVName='mongo_local', DatabaseName='eos', RecCollName='record5', EpiCollName='episode5', Host='127.0.0.1', Port='27017', Username='', Password='', Proxy=''), 'db': (None,), 'coll_name': (None,), 'collection': (None,), 'codec_options': (CodecOptions(document_class=dict, tz_aware=True, uuid_representation=UuidRepresentation.UNSPECIFIED, unicode_decode_error_handler='strict', tzinfo=None, type_registry=TypeRegistry(type_codecs=[], fallback_encoder=None), datetime_conversion=DatetimeConversion.DATETIME),), 'logger': <Logger eos.remote_pool (WARNING)>, 'dictLogger': {'user': '<module>'}, '_finalizer': <finalize object at 0x7fa90d9d6560; for 'DBPool' at 0x7fa90da76c80>}\n",
                        "object _orig_class_ info: None, ()\n",
                    ],
                },
                {
                    "ename": "AttributeError",
                    "evalue": "'TypeVar' object has no attribute 'keys'",
                    "output_type": "error",
                    "traceback": [
                        "\u001B[0;31m---------------------------------------------------------------------------\u001B[0m",
                        "\u001B[0;31mAttributeError\u001B[0m                            Traceback (most recent call last)",
                        "Cell \u001B[0;32mIn[6], line 1\u001B[0m\n\u001B[0;32m----> 1\u001B[0m ddpg \u001B[38;5;241m=\u001B[39m \u001B[43mDDPG\u001B[49m\u001B[43m(\u001B[49m\n\u001B[1;32m      2\u001B[0m \u001B[43m    \u001B[49m\u001B[43m_buffer\u001B[49m\u001B[38;5;241;43m=\u001B[39;49m\u001B[38;5;28;43;01mNone\u001B[39;49;00m\u001B[43m,\u001B[49m\n\u001B[1;32m      3\u001B[0m \u001B[43m    \u001B[49m\u001B[43m_plot\u001B[49m\u001B[38;5;241;43m=\u001B[39;49m\u001B[38;5;28;43;01mNone\u001B[39;49;00m\u001B[43m,\u001B[49m\n\u001B[1;32m      4\u001B[0m \u001B[43m    \u001B[49m\u001B[43m_truck\u001B[49m\u001B[38;5;241;43m=\u001B[39;49m\u001B[43mtrucks_by_id\u001B[49m\u001B[38;5;241;43m.\u001B[39;49m\u001B[43mget\u001B[49m\u001B[43m(\u001B[49m\u001B[38;5;124;43m'\u001B[39;49m\u001B[38;5;124;43mVB7\u001B[39;49m\u001B[38;5;124;43m'\u001B[39;49m\u001B[43m)\u001B[49m\u001B[43m,\u001B[49m\n\u001B[1;32m      5\u001B[0m \u001B[43m    \u001B[49m\u001B[43m_driver\u001B[49m\u001B[38;5;241;43m=\u001B[39;49m\u001B[38;5;124;43m'\u001B[39;49m\u001B[38;5;124;43mlongfei\u001B[39;49m\u001B[38;5;124;43m'\u001B[39;49m\u001B[43m,\u001B[49m\n\u001B[1;32m      6\u001B[0m \u001B[43m    \u001B[49m\u001B[43m_num_states\u001B[49m\u001B[38;5;241;43m=\u001B[39;49m\u001B[38;5;241;43m600\u001B[39;49m\u001B[43m,\u001B[49m\n\u001B[1;32m      7\u001B[0m \u001B[43m    \u001B[49m\u001B[43m_num_actions\u001B[49m\u001B[38;5;241;43m=\u001B[39;49m\u001B[38;5;241;43m68\u001B[39;49m\u001B[43m,\u001B[49m\n\u001B[1;32m      8\u001B[0m \u001B[43m    \u001B[49m\u001B[43m_buffer_capacity\u001B[49m\u001B[38;5;241;43m=\u001B[39;49m\u001B[38;5;241;43m300000\u001B[39;49m\u001B[43m,\u001B[49m\n\u001B[1;32m      9\u001B[0m \u001B[43m    \u001B[49m\u001B[43m_batch_size\u001B[49m\u001B[38;5;241;43m=\u001B[39;49m\u001B[38;5;241;43m4\u001B[39;49m\u001B[43m,\u001B[49m\n\u001B[1;32m     10\u001B[0m \u001B[43m    \u001B[49m\u001B[43m_hidden_units_ac\u001B[49m\u001B[38;5;241;43m=\u001B[39;49m\u001B[43m(\u001B[49m\u001B[38;5;241;43m256\u001B[39;49m\u001B[43m,\u001B[49m\u001B[43m \u001B[49m\u001B[38;5;241;43m16\u001B[39;49m\u001B[43m,\u001B[49m\u001B[43m \u001B[49m\u001B[38;5;241;43m32\u001B[39;49m\u001B[43m)\u001B[49m\u001B[43m,\u001B[49m\n\u001B[1;32m     11\u001B[0m \u001B[43m    \u001B[49m\u001B[43m_action_bias\u001B[49m\u001B[38;5;241;43m=\u001B[39;49m\u001B[38;5;241;43m0\u001B[39;49m\u001B[43m,\u001B[49m\n\u001B[1;32m     12\u001B[0m \u001B[43m    \u001B[49m\u001B[43m_n_layers_ac\u001B[49m\u001B[38;5;241;43m=\u001B[39;49m\u001B[43m(\u001B[49m\u001B[38;5;241;43m2\u001B[39;49m\u001B[43m,\u001B[49m\u001B[43m \u001B[49m\u001B[38;5;241;43m2\u001B[39;49m\u001B[43m)\u001B[49m\u001B[43m,\u001B[49m\n\u001B[1;32m     13\u001B[0m \u001B[43m    \u001B[49m\u001B[43m_padding_value\u001B[49m\u001B[38;5;241;43m=\u001B[39;49m\u001B[38;5;241;43m-\u001B[39;49m\u001B[38;5;241;43m10000\u001B[39;49m\u001B[43m,\u001B[49m\n\u001B[1;32m     14\u001B[0m \u001B[43m    \u001B[49m\u001B[43m_gamma\u001B[49m\u001B[38;5;241;43m=\u001B[39;49m\u001B[38;5;241;43m0.99\u001B[39;49m\u001B[43m,\u001B[49m\n\u001B[1;32m     15\u001B[0m \u001B[43m    \u001B[49m\u001B[43m_tau_ac\u001B[49m\u001B[38;5;241;43m=\u001B[39;49m\u001B[43m(\u001B[49m\u001B[38;5;241;43m0.005\u001B[39;49m\u001B[43m,\u001B[49m\u001B[43m \u001B[49m\u001B[38;5;241;43m0.005\u001B[39;49m\u001B[43m)\u001B[49m\u001B[43m,\u001B[49m\n\u001B[1;32m     16\u001B[0m \u001B[43m    \u001B[49m\u001B[43m_lr_ac\u001B[49m\u001B[38;5;241;43m=\u001B[39;49m\u001B[43m(\u001B[49m\u001B[38;5;241;43m0.001\u001B[39;49m\u001B[43m,\u001B[49m\u001B[43m \u001B[49m\u001B[38;5;241;43m0.002\u001B[39;49m\u001B[43m)\u001B[49m\u001B[43m,\u001B[49m\n\u001B[1;32m     17\u001B[0m \u001B[43m    \u001B[49m\u001B[43m_data_folder\u001B[49m\u001B[38;5;241;43m=\u001B[39;49m\u001B[38;5;124;43m'\u001B[39;49m\u001B[38;5;124;43m/home/n/devel/anting_remote/eos/data/HMZABAAH7MF011058−longfei/baseline\u001B[39;49m\u001B[38;5;124;43m'\u001B[39;49m\u001B[43m,\u001B[49m\n\u001B[1;32m     18\u001B[0m \u001B[43m    \u001B[49m\u001B[43m_ckpt_interval\u001B[49m\u001B[38;5;241;43m=\u001B[39;49m\u001B[38;5;241;43m5\u001B[39;49m\u001B[43m,\u001B[49m\n\u001B[1;32m     19\u001B[0m \u001B[43m    \u001B[49m\u001B[43m_infer_mode\u001B[49m\u001B[38;5;241;43m=\u001B[39;49m\u001B[38;5;28;43;01mTrue\u001B[39;49;00m\u001B[43m,\u001B[49m\n\u001B[1;32m     20\u001B[0m \u001B[43m)\u001B[49m\n",
                        "File \u001B[0;32m<string>:35\u001B[0m, in \u001B[0;36m__init__\u001B[0;34m(self, _buffer, _plot, _episode_start_dt, _truck, _driver, _num_states, _num_actions, _buffer_capacity, _batch_size, _hidden_units_ac, _action_bias, _n_layers_ac, _padding_value, _gamma, _tau_ac, _lr_ac, _data_folder, _ckpt_interval, _db_key, _resume, _infer_mode, logger, _actor_model, _critic_model, _target_actor_model, _target_critic_model, manager_critic, ckpt_critic, manager_actor, ckpt_actor, actor_saved_model_path, critic_saved_model_path)\u001B[0m\n",
                        "File \u001B[0;32m~/devel/anting_remote/eos/eos/algo/ddpg/ddpg.py:152\u001B[0m, in \u001B[0;36mDDPG.__post_init__\u001B[0;34m(self)\u001B[0m\n\u001B[1;32m    149\u001B[0m \u001B[38;5;28mself\u001B[39m\u001B[38;5;241m.\u001B[39mlogger\u001B[38;5;241m.\u001B[39mpropagate \u001B[38;5;241m=\u001B[39m \u001B[38;5;28;01mTrue\u001B[39;00m\n\u001B[1;32m    150\u001B[0m \u001B[38;5;28mself\u001B[39m\u001B[38;5;241m.\u001B[39mdictLogger \u001B[38;5;241m=\u001B[39m dictLogger\n\u001B[0;32m--> 152\u001B[0m \u001B[38;5;28mself\u001B[39m\u001B[38;5;241m.\u001B[39mbuffer \u001B[38;5;241m=\u001B[39m \u001B[43mDBBuffer\u001B[49m\u001B[43m[\u001B[49m\u001B[43mRecord\u001B[49m\u001B[43m]\u001B[49m\u001B[43m(\u001B[49m\n\u001B[1;32m    153\u001B[0m \u001B[43m    \u001B[49m\u001B[43mdb_key\u001B[49m\u001B[38;5;241;43m=\u001B[39;49m\u001B[38;5;28;43mself\u001B[39;49m\u001B[38;5;241;43m.\u001B[39;49m\u001B[43mdb_key\u001B[49m\u001B[43m,\u001B[49m\n\u001B[1;32m    154\u001B[0m \u001B[43m    \u001B[49m\u001B[43mtruck\u001B[49m\u001B[38;5;241;43m=\u001B[39;49m\u001B[38;5;28;43mself\u001B[39;49m\u001B[38;5;241;43m.\u001B[39;49m\u001B[43mtruck\u001B[49m\u001B[43m,\u001B[49m\n\u001B[1;32m    155\u001B[0m \u001B[43m    \u001B[49m\u001B[43mdriver\u001B[49m\u001B[38;5;241;43m=\u001B[39;49m\u001B[38;5;28;43mself\u001B[39;49m\u001B[38;5;241;43m.\u001B[39;49m\u001B[43mdriver\u001B[49m\u001B[43m,\u001B[49m\n\u001B[1;32m    156\u001B[0m \u001B[43m    \u001B[49m\u001B[43mbatch_size\u001B[49m\u001B[38;5;241;43m=\u001B[39;49m\u001B[38;5;28;43mself\u001B[39;49m\u001B[38;5;241;43m.\u001B[39;49m\u001B[43mbatch_size\u001B[49m\u001B[43m,\u001B[49m\n\u001B[1;32m    157\u001B[0m \u001B[43m\u001B[49m\u001B[43m)\u001B[49m\n\u001B[1;32m    158\u001B[0m \u001B[38;5;28mprint\u001B[39m(\u001B[38;5;124mf\u001B[39m\u001B[38;5;124m\"\u001B[39m\u001B[38;5;124mIn DDPG buffer is \u001B[39m\u001B[38;5;132;01m{\u001B[39;00m\u001B[38;5;28mself\u001B[39m\u001B[38;5;241m.\u001B[39mbuffer\u001B[38;5;132;01m}\u001B[39;00m\u001B[38;5;124m!\u001B[39m\u001B[38;5;124m\"\u001B[39m)\n\u001B[1;32m    159\u001B[0m \u001B[38;5;66;03m# Initialize networks\u001B[39;00m\n",
                        "File \u001B[0;32m/dpt/mambaforge/envs/meos/lib/python3.10/typing.py:957\u001B[0m, in \u001B[0;36m_BaseGenericAlias.__call__\u001B[0;34m(self, *args, **kwargs)\u001B[0m\n\u001B[1;32m    954\u001B[0m \u001B[38;5;28;01mif\u001B[39;00m \u001B[38;5;129;01mnot\u001B[39;00m \u001B[38;5;28mself\u001B[39m\u001B[38;5;241m.\u001B[39m_inst:\n\u001B[1;32m    955\u001B[0m     \u001B[38;5;28;01mraise\u001B[39;00m \u001B[38;5;167;01mTypeError\u001B[39;00m(\u001B[38;5;124mf\u001B[39m\u001B[38;5;124m\"\u001B[39m\u001B[38;5;124mType \u001B[39m\u001B[38;5;132;01m{\u001B[39;00m\u001B[38;5;28mself\u001B[39m\u001B[38;5;241m.\u001B[39m_name\u001B[38;5;132;01m}\u001B[39;00m\u001B[38;5;124m cannot be instantiated; \u001B[39m\u001B[38;5;124m\"\u001B[39m\n\u001B[1;32m    956\u001B[0m                     \u001B[38;5;124mf\u001B[39m\u001B[38;5;124m\"\u001B[39m\u001B[38;5;124muse \u001B[39m\u001B[38;5;132;01m{\u001B[39;00m\u001B[38;5;28mself\u001B[39m\u001B[38;5;241m.\u001B[39m__origin__\u001B[38;5;241m.\u001B[39m\u001B[38;5;18m__name__\u001B[39m\u001B[38;5;132;01m}\u001B[39;00m\u001B[38;5;124m() instead\u001B[39m\u001B[38;5;124m\"\u001B[39m)\n\u001B[0;32m--> 957\u001B[0m result \u001B[38;5;241m=\u001B[39m \u001B[38;5;28;43mself\u001B[39;49m\u001B[38;5;241;43m.\u001B[39;49m\u001B[43m__origin__\u001B[49m\u001B[43m(\u001B[49m\u001B[38;5;241;43m*\u001B[39;49m\u001B[43margs\u001B[49m\u001B[43m,\u001B[49m\u001B[43m \u001B[49m\u001B[38;5;241;43m*\u001B[39;49m\u001B[38;5;241;43m*\u001B[39;49m\u001B[43mkwargs\u001B[49m\u001B[43m)\u001B[49m\n\u001B[1;32m    958\u001B[0m \u001B[38;5;28;01mtry\u001B[39;00m:\n\u001B[1;32m    959\u001B[0m     result\u001B[38;5;241m.\u001B[39m__orig_class__ \u001B[38;5;241m=\u001B[39m \u001B[38;5;28mself\u001B[39m\n",
                        "File \u001B[0;32m<string>:16\u001B[0m, in \u001B[0;36m__init__\u001B[0;34m(self, db_key, truck, driver, batch_size, padding_value, data_folder, db_config, num_states, num_actions, buffer_capacity, buffer_count, pool, query)\u001B[0m\n",
                        "File \u001B[0;32m~/devel/anting_remote/eos/eos/algo/db_buffer.py:55\u001B[0m, in \u001B[0;36mDBBuffer.__post_init__\u001B[0;34m(self)\u001B[0m\n\u001B[1;32m     53\u001B[0m \u001B[38;5;28mself\u001B[39m\u001B[38;5;241m.\u001B[39mlogger\u001B[38;5;241m.\u001B[39mpropagate \u001B[38;5;241m=\u001B[39m \u001B[38;5;28;01mTrue\u001B[39;00m\n\u001B[1;32m     54\u001B[0m \u001B[38;5;28msuper\u001B[39m()\u001B[38;5;241m.\u001B[39m__post_init__()\n\u001B[0;32m---> 55\u001B[0m \u001B[38;5;28;43mself\u001B[39;49m\u001B[38;5;241;43m.\u001B[39;49m\u001B[43mload\u001B[49m\u001B[43m(\u001B[49m\u001B[43m)\u001B[49m\n",
                        "File \u001B[0;32m~/devel/anting_remote/eos/eos/algo/db_buffer.py:75\u001B[0m, in \u001B[0;36mDBBuffer.load\u001B[0;34m(self)\u001B[0m\n\u001B[1;32m     60\u001B[0m url \u001B[38;5;241m=\u001B[39m (\n\u001B[1;32m     61\u001B[0m     \u001B[38;5;28mself\u001B[39m\u001B[38;5;241m.\u001B[39mdb_config\u001B[38;5;241m.\u001B[39mUsername\n\u001B[1;32m     62\u001B[0m     \u001B[38;5;241m+\u001B[39m \u001B[38;5;124m'\u001B[39m\u001B[38;5;124m:\u001B[39m\u001B[38;5;124m'\u001B[39m\n\u001B[0;32m   (...)\u001B[0m\n\u001B[1;32m     67\u001B[0m     \u001B[38;5;241m+\u001B[39m \u001B[38;5;28mself\u001B[39m\u001B[38;5;241m.\u001B[39mdb_config\u001B[38;5;241m.\u001B[39mPort\n\u001B[1;32m     68\u001B[0m )\n\u001B[1;32m     69\u001B[0m \u001B[38;5;28mself\u001B[39m\u001B[38;5;241m.\u001B[39mquery \u001B[38;5;241m=\u001B[39m {\n\u001B[1;32m     70\u001B[0m     \u001B[38;5;124m'\u001B[39m\u001B[38;5;124mvehicle_id\u001B[39m\u001B[38;5;124m'\u001B[39m: \u001B[38;5;28mself\u001B[39m\u001B[38;5;241m.\u001B[39mtruck\u001B[38;5;241m.\u001B[39mTruckName,\n\u001B[1;32m     71\u001B[0m     \u001B[38;5;124m'\u001B[39m\u001B[38;5;124mdriver_id\u001B[39m\u001B[38;5;124m'\u001B[39m: \u001B[38;5;28mself\u001B[39m\u001B[38;5;241m.\u001B[39mdriver,\n\u001B[1;32m     72\u001B[0m     \u001B[38;5;124m'\u001B[39m\u001B[38;5;124mdt_start\u001B[39m\u001B[38;5;124m'\u001B[39m: \u001B[38;5;28;01mNone\u001B[39;00m,\n\u001B[1;32m     73\u001B[0m     \u001B[38;5;124m'\u001B[39m\u001B[38;5;124mdt_end\u001B[39m\u001B[38;5;124m'\u001B[39m: \u001B[38;5;28;01mNone\u001B[39;00m,\n\u001B[1;32m     74\u001B[0m }\n\u001B[0;32m---> 75\u001B[0m \u001B[38;5;28mself\u001B[39m\u001B[38;5;241m.\u001B[39mpool \u001B[38;5;241m=\u001B[39m \u001B[43mDBPool\u001B[49m\u001B[43m[\u001B[49m\u001B[43mDBItemT\u001B[49m\u001B[43m]\u001B[49m\u001B[43m(\u001B[49m\n\u001B[1;32m     76\u001B[0m \u001B[43m    \u001B[49m\u001B[43mlocation\u001B[49m\u001B[38;5;241;43m=\u001B[39;49m\u001B[43murl\u001B[49m\u001B[43m,\u001B[49m\n\u001B[1;32m     77\u001B[0m \u001B[43m    \u001B[49m\u001B[43mquery\u001B[49m\u001B[38;5;241;43m=\u001B[39;49m\u001B[38;5;28;43mself\u001B[39;49m\u001B[38;5;241;43m.\u001B[39;49m\u001B[43mquery\u001B[49m\u001B[43m,\u001B[49m\n\u001B[1;32m     78\u001B[0m \u001B[43m\u001B[49m\u001B[43m)\u001B[49m\n\u001B[1;32m     79\u001B[0m \u001B[38;5;28mself\u001B[39m\u001B[38;5;241m.\u001B[39mbuffer_count \u001B[38;5;241m=\u001B[39m \u001B[38;5;28mself\u001B[39m\u001B[38;5;241m.\u001B[39mpool\u001B[38;5;241m.\u001B[39mcount()\n\u001B[1;32m     80\u001B[0m \u001B[38;5;66;03m# check plot with input vehicle and driver\u001B[39;00m\n",
                        "File \u001B[0;32m/dpt/mambaforge/envs/meos/lib/python3.10/typing.py:957\u001B[0m, in \u001B[0;36m_BaseGenericAlias.__call__\u001B[0;34m(self, *args, **kwargs)\u001B[0m\n\u001B[1;32m    954\u001B[0m \u001B[38;5;28;01mif\u001B[39;00m \u001B[38;5;129;01mnot\u001B[39;00m \u001B[38;5;28mself\u001B[39m\u001B[38;5;241m.\u001B[39m_inst:\n\u001B[1;32m    955\u001B[0m     \u001B[38;5;28;01mraise\u001B[39;00m \u001B[38;5;167;01mTypeError\u001B[39;00m(\u001B[38;5;124mf\u001B[39m\u001B[38;5;124m\"\u001B[39m\u001B[38;5;124mType \u001B[39m\u001B[38;5;132;01m{\u001B[39;00m\u001B[38;5;28mself\u001B[39m\u001B[38;5;241m.\u001B[39m_name\u001B[38;5;132;01m}\u001B[39;00m\u001B[38;5;124m cannot be instantiated; \u001B[39m\u001B[38;5;124m\"\u001B[39m\n\u001B[1;32m    956\u001B[0m                     \u001B[38;5;124mf\u001B[39m\u001B[38;5;124m\"\u001B[39m\u001B[38;5;124muse \u001B[39m\u001B[38;5;132;01m{\u001B[39;00m\u001B[38;5;28mself\u001B[39m\u001B[38;5;241m.\u001B[39m__origin__\u001B[38;5;241m.\u001B[39m\u001B[38;5;18m__name__\u001B[39m\u001B[38;5;132;01m}\u001B[39;00m\u001B[38;5;124m() instead\u001B[39m\u001B[38;5;124m\"\u001B[39m)\n\u001B[0;32m--> 957\u001B[0m result \u001B[38;5;241m=\u001B[39m \u001B[38;5;28;43mself\u001B[39;49m\u001B[38;5;241;43m.\u001B[39;49m\u001B[43m__origin__\u001B[49m\u001B[43m(\u001B[49m\u001B[38;5;241;43m*\u001B[39;49m\u001B[43margs\u001B[49m\u001B[43m,\u001B[49m\u001B[43m \u001B[49m\u001B[38;5;241;43m*\u001B[39;49m\u001B[38;5;241;43m*\u001B[39;49m\u001B[43mkwargs\u001B[49m\u001B[43m)\u001B[49m\n\u001B[1;32m    958\u001B[0m \u001B[38;5;28;01mtry\u001B[39;00m:\n\u001B[1;32m    959\u001B[0m     result\u001B[38;5;241m.\u001B[39m__orig_class__ \u001B[38;5;241m=\u001B[39m \u001B[38;5;28mself\u001B[39m\n",
                        "File \u001B[0;32m<string>:12\u001B[0m, in \u001B[0;36m__init__\u001B[0;34m(self, location, _type_T, query, client, db_config, db, coll_name, collection, codec_options)\u001B[0m\n",
                        "File \u001B[0;32m~/devel/anting_remote/eos/eos/comm/remote/remote_can_client/db_pool.py:54\u001B[0m, in \u001B[0;36mDBPool.__post_init__\u001B[0;34m(self)\u001B[0m\n\u001B[1;32m     52\u001B[0m \u001B[38;5;28msuper\u001B[39m()\u001B[38;5;241m.\u001B[39m__post_init__()\n\u001B[1;32m     53\u001B[0m \u001B[38;5;28mself\u001B[39m\u001B[38;5;241m.\u001B[39mdb_config \u001B[38;5;241m=\u001B[39m get_db_config(\u001B[38;5;28mself\u001B[39m\u001B[38;5;241m.\u001B[39mlocation)\n\u001B[0;32m---> 54\u001B[0m \u001B[38;5;28;43mself\u001B[39;49m\u001B[38;5;241;43m.\u001B[39;49m\u001B[43mload\u001B[49m\u001B[43m(\u001B[49m\u001B[43m)\u001B[49m\n",
                        "File \u001B[0;32m~/devel/anting_remote/eos/eos/comm/remote/remote_can_client/db_pool.py:86\u001B[0m, in \u001B[0;36mDBPool.load\u001B[0;34m(self)\u001B[0m\n\u001B[1;32m     82\u001B[0m \u001B[38;5;66;03m# print(f\"self.__orig_class__: {self.__orig_class__}\")\u001B[39;00m\n\u001B[1;32m     83\u001B[0m \u001B[38;5;28mprint\u001B[39m(\n\u001B[1;32m     84\u001B[0m     \u001B[38;5;124mf\u001B[39m\u001B[38;5;124m\"\u001B[39m\u001B[38;5;124mobject _orig_class_ info: \u001B[39m\u001B[38;5;132;01m{\u001B[39;00mget_origin(\u001B[38;5;28mself\u001B[39m\u001B[38;5;241m.\u001B[39m\u001B[38;5;18m__class__\u001B[39m)\u001B[38;5;132;01m}\u001B[39;00m\u001B[38;5;124m, \u001B[39m\u001B[38;5;132;01m{\u001B[39;00mget_args(\u001B[38;5;28mself\u001B[39m\u001B[38;5;241m.\u001B[39m\u001B[38;5;18m__class__\u001B[39m)\u001B[38;5;132;01m}\u001B[39;00m\u001B[38;5;124m\"\u001B[39m\n\u001B[1;32m     85\u001B[0m )\n\u001B[0;32m---> 86\u001B[0m \u001B[38;5;28;01massert\u001B[39;00m \u001B[38;5;124m'\u001B[39m\u001B[38;5;124mtimestamp\u001B[39m\u001B[38;5;124m'\u001B[39m \u001B[38;5;129;01min\u001B[39;00m \u001B[43mDBItemT\u001B[49m\u001B[38;5;241;43m.\u001B[39;49m\u001B[43mkeys\u001B[49m(), \u001B[38;5;124mf\u001B[39m\u001B[38;5;124m'\u001B[39m\u001B[38;5;124mtimestamp not in \u001B[39m\u001B[38;5;132;01m{\u001B[39;00mDBItemT\u001B[38;5;241m.\u001B[39mkeys()\u001B[38;5;132;01m}\u001B[39;00m\u001B[38;5;124m!\u001B[39m\u001B[38;5;124m'\u001B[39m\n\u001B[1;32m     87\u001B[0m \u001B[38;5;28;01massert\u001B[39;00m \u001B[38;5;124m'\u001B[39m\u001B[38;5;124mplot\u001B[39m\u001B[38;5;124m'\u001B[39m \u001B[38;5;129;01min\u001B[39;00m DBItemT\u001B[38;5;241m.\u001B[39mkeys(), \u001B[38;5;124mf\u001B[39m\u001B[38;5;124m'\u001B[39m\u001B[38;5;124mplot not in \u001B[39m\u001B[38;5;132;01m{\u001B[39;00mDBItemT\u001B[38;5;241m.\u001B[39mkeys()\u001B[38;5;132;01m}\u001B[39;00m\u001B[38;5;124m!\u001B[39m\u001B[38;5;124m'\u001B[39m\n\u001B[1;32m     88\u001B[0m \u001B[38;5;28mself\u001B[39m\u001B[38;5;241m.\u001B[39mlogger\u001B[38;5;241m.\u001B[39minfo(\u001B[38;5;124mf\u001B[39m\u001B[38;5;124m'\u001B[39m\u001B[38;5;132;01m{\u001B[39;00m\u001B[38;5;28mself\u001B[39m\u001B[38;5;241m.\u001B[39mdb_config\u001B[38;5;241m.\u001B[39mDatabaseName\u001B[38;5;132;01m}\u001B[39;00m\u001B[38;5;124m exists.\u001B[39m\u001B[38;5;124m'\u001B[39m)\n",
                        "\u001B[0;31mAttributeError\u001B[0m: 'TypeVar' object has no attribute 'keys'",
                    ],
                },
            ],
            "source": [
                "ddpg = DDPG(\n",
                "    _buffer=None,\n",
                "    _plot=None,\n",
                "    _truck=trucks_by_id.get('VB7'),\n",
                "    _driver='longfei',\n",
                "    _num_states=600,\n",
                "    _num_actions=68,\n",
                "    _buffer_capacity=300000,\n",
                "    _batch_size=4,\n",
                "    _hidden_units_ac=(256, 16, 32),\n",
                "    _action_bias=0,\n",
                "    _n_layers_ac=(2, 2),\n",
                "    _padding_value=-10000,\n",
                "    _gamma=0.99,\n",
                "    _tau_ac=(0.005, 0.005),\n",
                "    _lr_ac=(0.001, 0.002),\n",
                "    _data_folder='/home/n/devel/anting_remote/eos/data/HMZABAAH7MF011058−longfei/baseline',\n",
                "    _ckpt_interval=5,\n",
                "    _infer_mode=True,\n",
                ")\n",
            ],
            "metadata": {"collapsed": false},
        },
        {
            "cell_type": "code",
            "execution_count": null,
            "outputs": [],
            "source": ["print(ddpg.plot)"],
            "metadata": {"collapsed": false},
        },
        {
            "cell_type": "code",
            "execution_count": null,
            "outputs": [],
            "source": ["lg = DDPG.logger\n", "print(ddpg.actor_model.summary())\n"],
            "metadata": {"collapsed": false},
        },
    ],
    "metadata": {
        "kernelspec": {
            "display_name": "Python 3",
            "language": "python",
            "name": "python3",
        },
        "language_info": {
            "codemirror_mode": {"name": "ipython", "version": 2},
            "file_extension": ".py",
            "mimetype": "text/x-python",
            "name": "python",
            "nbconvert_exporter": "python",
            "pygments_lexer": "ipython2",
            "version": "2.7.6",
        },
    },
    "nbformat": 4,
    "nbformat_minor": 0,
}
