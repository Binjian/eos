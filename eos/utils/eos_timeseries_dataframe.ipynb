{
 "cells": [
  {
   "cell_type": "code",
   "execution_count": 1,
   "outputs": [],
   "source": [
    "from IPython.core.interactiveshell import InteractiveShell\n",
    "\n",
    "InteractiveShell.ast_node_interactivity = \"all\"\n",
    "\n",
    "\n",
    "class display(object):\n",
    "    \"\"\"Display HTML representation of multiple objects\"\"\"\n",
    "\n",
    "    template = \"\"\"<div style=\"float: left; padding: 10px;\">\n",
    "    <p style='font-family:\"Courier New\", Courier, monospace'>{0}</p>{1}\n",
    "    </div>\"\"\"\n",
    "\n",
    "    def __init__(self, *args):\n",
    "        self.args = args\n",
    "\n",
    "    def _repr_html_(self):\n",
    "        return '\\n'.join(\n",
    "            self.template.format(a, eval(a)._repr_html_()) for a in self.args\n",
    "        )\n",
    "\n",
    "    def __repr__(self):\n",
    "        return '\\n\\n'.join(a + '\\n' + repr(eval(a)) for a in self.args)\n",
    "\n"
   ],
   "metadata": {
    "collapsed": false,
    "ExecuteTime": {
     "end_time": "2023-06-12T09:03:02.636108967Z",
     "start_time": "2023-06-12T09:03:01.714607485Z"
    }
   }
  },
  {
   "cell_type": "code",
   "execution_count": 2,
   "outputs": [
    {
     "data": {
      "text/plain": "array([[1, 2, 3],\n       [4, 5, 6]])"
     },
     "execution_count": 2,
     "metadata": {},
     "output_type": "execute_result"
    },
    {
     "data": {
      "text/plain": "array([1, 2, 3, 4, 5, 6])"
     },
     "execution_count": 2,
     "metadata": {},
     "output_type": "execute_result"
    },
    {
     "data": {
      "text/plain": "array([1, 4, 2, 5, 3, 6])"
     },
     "execution_count": 2,
     "metadata": {},
     "output_type": "execute_result"
    }
   ],
   "source": [
    "import numpy as np\n",
    "\n",
    "a = np.array([[1, 2, 3], [4, 5, 6]])\n",
    "a\n",
    "\n",
    "b = a.flatten()\n",
    "b\n",
    "c = a.flatten('F')\n",
    "c"
   ],
   "metadata": {
    "collapsed": false,
    "ExecuteTime": {
     "end_time": "2023-06-12T09:03:02.769490377Z",
     "start_time": "2023-06-12T09:03:01.722653333Z"
    }
   }
  },
  {
   "cell_type": "code",
   "execution_count": 3,
   "outputs": [
    {
     "name": "stdout",
     "output_type": "stream",
     "text": [
      "Pool.__init_subclass__(): ~DocItemT; Concrete Class: (eos.data_io.pool.pool.Pool[~DocItemT], typing.Generic[~DocItemT])\n",
      "Pool.__init_subclass__(): <class 'eos.data_io.struct.eos_data.RecordDoc'>; Concrete Class: (eos.data_io.pool.pool.Pool[eos.data_io.struct.eos_data.RecordDoc],)\n",
      "Pool.__init_subclass__(): ~DocItemT; Concrete Class: (eos.data_io.pool.pool.Pool[~DocItemT], typing.Generic[~DocItemT])\n",
      "Pool.__init_subclass__(): ~DocItemT; Concrete Class: (eos.data_io.pool.pool.Pool[~DocItemT], typing.Generic[~DocItemT])\n",
      "Pool.__init_subclass__(): ~DocItemT; Concrete Class: (eos.data_io.buffer.buffer.Buffer[~DocItemT], typing.Generic[~DocItemT])\n",
      "Pool.__init_subclass__(): ~DocItemT; Concrete Class: (eos.data_io.buffer.buffer.Buffer[~DocItemT], typing.Generic[~DocItemT])\n"
     ]
    },
    {
     "name": "stderr",
     "output_type": "stream",
     "text": [
      "2023-06-12 17:03:02.445859: I tensorflow/core/platform/cpu_feature_guard.cc:193] This TensorFlow binary is optimized with oneAPI Deep Neural Network Library (oneDNN) to use the following CPU instructions in performance-critical operations:  SSE4.1 SSE4.2 AVX AVX2 FMA\n",
      "To enable them in other operations, rebuild TensorFlow with the appropriate compiler flags.\n"
     ]
    }
   ],
   "source": [
    "from dataclasses import dataclass, field\n",
    "from typing import Optional\n",
    "import pandas as pd\n",
    "import numpy as np\n",
    "from ordered_set import OrderedSet\n",
    "from eos.data_io.config import drivers, trucks_by_name, drivers_by_id\n",
    "\n",
    "# DriverSet = OrderedSet(\n",
    "#     [\n",
    "#         'wang-cheng',\n",
    "#         'li-changlong',\n",
    "#         'chen-hongmei',\n",
    "#         'zheng-longfei',\n",
    "#     ]\n",
    "# )\n",
    "# DriverSet[0]\n",
    "# DriverSet.get_loc('wang-cheng')\n",
    "# DriverSet\n"
   ],
   "metadata": {
    "collapsed": false,
    "ExecuteTime": {
     "end_time": "2023-06-12T09:03:04.150401027Z",
     "start_time": "2023-06-12T09:03:01.821701655Z"
    }
   }
  },
  {
   "cell_type": "code",
   "execution_count": 4,
   "outputs": [
    {
     "data": {
      "text/plain": "DatetimeIndex(['2023-06-12 17:03:03.583607', '2023-06-12 18:03:03.583607'], dtype='datetime64[ns]', freq=None)"
     },
     "execution_count": 4,
     "metadata": {},
     "output_type": "execute_result"
    },
    {
     "data": {
      "text/plain": "                            c1  c2  c3\n2023-06-12 17:03:03.583607   1   2   3\n2023-06-12 18:03:03.583607   4   5   6",
      "text/html": "<div>\n<style scoped>\n    .dataframe tbody tr th:only-of-type {\n        vertical-align: middle;\n    }\n\n    .dataframe tbody tr th {\n        vertical-align: top;\n    }\n\n    .dataframe thead th {\n        text-align: right;\n    }\n</style>\n<table border=\"1\" class=\"dataframe\">\n  <thead>\n    <tr style=\"text-align: right;\">\n      <th></th>\n      <th>c1</th>\n      <th>c2</th>\n      <th>c3</th>\n    </tr>\n  </thead>\n  <tbody>\n    <tr>\n      <th>2023-06-12 17:03:03.583607</th>\n      <td>1</td>\n      <td>2</td>\n      <td>3</td>\n    </tr>\n    <tr>\n      <th>2023-06-12 18:03:03.583607</th>\n      <td>4</td>\n      <td>5</td>\n      <td>6</td>\n    </tr>\n  </tbody>\n</table>\n</div>"
     },
     "execution_count": 4,
     "metadata": {},
     "output_type": "execute_result"
    },
    {
     "data": {
      "text/plain": "Timestamp('2023-06-12 17:03:03.583607')"
     },
     "execution_count": 4,
     "metadata": {},
     "output_type": "execute_result"
    }
   ],
   "source": [
    "import pandas as pd\n",
    "import numpy as np\n",
    "from datetime import datetime\n",
    "\n",
    "ts = pd.to_datetime(datetime.now())\n",
    "ts_ind = ts + pd.to_timedelta(np.arange(2), 'H')\n",
    "ts_ind\n",
    "df = pd.DataFrame(a, index=ts_ind, columns=['c1', 'c2', 'c3'])\n",
    "df\n",
    "df.index[0]\n"
   ],
   "metadata": {
    "collapsed": false,
    "ExecuteTime": {
     "end_time": "2023-06-12T09:03:04.150714253Z",
     "start_time": "2023-06-12T09:03:03.586322122Z"
    }
   }
  },
  {
   "cell_type": "code",
   "execution_count": 5,
   "outputs": [
    {
     "data": {
      "text/plain": "                   timestamp\n0 2023-06-12 17:03:03.583607",
      "text/html": "<div>\n<style scoped>\n    .dataframe tbody tr th:only-of-type {\n        vertical-align: middle;\n    }\n\n    .dataframe tbody tr th {\n        vertical-align: top;\n    }\n\n    .dataframe thead th {\n        text-align: right;\n    }\n</style>\n<table border=\"1\" class=\"dataframe\">\n  <thead>\n    <tr style=\"text-align: right;\">\n      <th></th>\n      <th>timestamp</th>\n    </tr>\n  </thead>\n  <tbody>\n    <tr>\n      <th>0</th>\n      <td>2023-06-12 17:03:03.583607</td>\n    </tr>\n  </tbody>\n</table>\n</div>"
     },
     "execution_count": 5,
     "metadata": {},
     "output_type": "execute_result"
    }
   ],
   "source": [
    "df_ts = pd.DataFrame(np.array([ts]), columns=['timestamp'])\n",
    "df_ts"
   ],
   "metadata": {
    "collapsed": false,
    "ExecuteTime": {
     "end_time": "2023-06-12T09:03:04.150802147Z",
     "start_time": "2023-06-12T09:03:03.594111510Z"
    }
   }
  },
  {
   "cell_type": "code",
   "execution_count": 6,
   "outputs": [
    {
     "data": {
      "text/plain": "array([0, 1, 2, 3, 4, 5, 6, 7, 8, 9])"
     },
     "execution_count": 6,
     "metadata": {},
     "output_type": "execute_result"
    }
   ],
   "source": [
    "s = np.arange(10)\n",
    "s"
   ],
   "metadata": {
    "collapsed": false,
    "ExecuteTime": {
     "end_time": "2023-06-12T09:03:04.150881997Z",
     "start_time": "2023-06-12T09:03:03.637063071Z"
    }
   }
  },
  {
   "cell_type": "markdown",
   "source": [
    "### Generate state"
   ],
   "metadata": {
    "collapsed": false
   }
  },
  {
   "cell_type": "code",
   "execution_count": 7,
   "outputs": [
    {
     "data": {
      "text/plain": "[[0, 1, 2, 3], [4, 5, 6, 7], [8, 9, 10, 11]]"
     },
     "execution_count": 7,
     "metadata": {},
     "output_type": "execute_result"
    },
    {
     "data": {
      "text/plain": "   t  v   p   b\n0  0  1   2   3\n1  4  5   6   7\n2  8  9  10  11",
      "text/html": "<div>\n<style scoped>\n    .dataframe tbody tr th:only-of-type {\n        vertical-align: middle;\n    }\n\n    .dataframe tbody tr th {\n        vertical-align: top;\n    }\n\n    .dataframe thead th {\n        text-align: right;\n    }\n</style>\n<table border=\"1\" class=\"dataframe\">\n  <thead>\n    <tr style=\"text-align: right;\">\n      <th></th>\n      <th>t</th>\n      <th>v</th>\n      <th>p</th>\n      <th>b</th>\n    </tr>\n  </thead>\n  <tbody>\n    <tr>\n      <th>0</th>\n      <td>0</td>\n      <td>1</td>\n      <td>2</td>\n      <td>3</td>\n    </tr>\n    <tr>\n      <th>1</th>\n      <td>4</td>\n      <td>5</td>\n      <td>6</td>\n      <td>7</td>\n    </tr>\n    <tr>\n      <th>2</th>\n      <td>8</td>\n      <td>9</td>\n      <td>10</td>\n      <td>11</td>\n    </tr>\n  </tbody>\n</table>\n</div>"
     },
     "execution_count": 7,
     "metadata": {},
     "output_type": "execute_result"
    }
   ],
   "source": [
    "ss = np.arange(12)\n",
    "a1 = ss[:4].tolist()\n",
    "a2 = ss[4:8].tolist()\n",
    "a3 = ss[8:].tolist()\n",
    "ss = [a1, a2, a3]\n",
    "ss\n",
    "df_s = pd.DataFrame(ss, columns=['t', 'v', 'p', 'b'])  # .set_index('t')\n",
    "df_s"
   ],
   "metadata": {
    "collapsed": false,
    "ExecuteTime": {
     "end_time": "2023-06-12T09:03:04.150989668Z",
     "start_time": "2023-06-12T09:03:03.637188796Z"
    }
   }
  },
  {
   "cell_type": "code",
   "execution_count": 8,
   "outputs": [
    {
     "data": {
      "text/plain": "array([ 0, 20, 40, 60])"
     },
     "execution_count": 8,
     "metadata": {},
     "output_type": "execute_result"
    }
   ],
   "source": [
    "np.arange(0, 4 * 20, 20)"
   ],
   "metadata": {
    "collapsed": false,
    "ExecuteTime": {
     "end_time": "2023-06-12T09:03:04.151068336Z",
     "start_time": "2023-06-12T09:03:03.637269437Z"
    }
   }
  },
  {
   "cell_type": "code",
   "execution_count": 31,
   "outputs": [
    {
     "data": {
      "text/plain": "DatetimeIndex(['2023-06-12 17:03:03.583607', '2023-06-12 17:03:03.603607',\n               '2023-06-12 17:03:03.623607', '2023-06-12 17:03:03.643607'],\n              dtype='datetime64[ns]', freq=None)"
     },
     "execution_count": 31,
     "metadata": {},
     "output_type": "execute_result"
    },
    {
     "data": {
      "text/plain": "tuple                       velocity  thrust  brake\ntimestep                                           \n2023-06-12 17:03:03.583607         0       4      8\n2023-06-12 17:03:03.603607         1       5      9\n2023-06-12 17:03:03.623607         2       6     10\n2023-06-12 17:03:03.643607         3       7     11",
      "text/html": "<div>\n<style scoped>\n    .dataframe tbody tr th:only-of-type {\n        vertical-align: middle;\n    }\n\n    .dataframe tbody tr th {\n        vertical-align: top;\n    }\n\n    .dataframe thead th {\n        text-align: right;\n    }\n</style>\n<table border=\"1\" class=\"dataframe\">\n  <thead>\n    <tr style=\"text-align: right;\">\n      <th>tuple</th>\n      <th>velocity</th>\n      <th>thrust</th>\n      <th>brake</th>\n    </tr>\n    <tr>\n      <th>timestep</th>\n      <th></th>\n      <th></th>\n      <th></th>\n    </tr>\n  </thead>\n  <tbody>\n    <tr>\n      <th>2023-06-12 17:03:03.583607</th>\n      <td>0</td>\n      <td>4</td>\n      <td>8</td>\n    </tr>\n    <tr>\n      <th>2023-06-12 17:03:03.603607</th>\n      <td>1</td>\n      <td>5</td>\n      <td>9</td>\n    </tr>\n    <tr>\n      <th>2023-06-12 17:03:03.623607</th>\n      <td>2</td>\n      <td>6</td>\n      <td>10</td>\n    </tr>\n    <tr>\n      <th>2023-06-12 17:03:03.643607</th>\n      <td>3</td>\n      <td>7</td>\n      <td>11</td>\n    </tr>\n  </tbody>\n</table>\n</div>"
     },
     "execution_count": 31,
     "metadata": {},
     "output_type": "execute_result"
    }
   ],
   "source": [
    "ts_ind = ts + pd.to_timedelta(np.arange(0, 4 * 20, 20), 'ms')\n",
    "ts_ind\n",
    "ss = np.arange(12)\n",
    "a1 = ss[:4]\n",
    "a2 = ss[4:8]\n",
    "a3 = ss[8:]\n",
    "df_ss = pd.DataFrame(\n",
    "    {'timestep': ts_ind, 'velocity': a1, 'thrust': a2, 'brake': a3}\n",
    ").set_index('timestep')\n",
    "df_ss.columns.name = 'tuple'\n",
    "df_ss\n"
   ],
   "metadata": {
    "collapsed": false,
    "ExecuteTime": {
     "end_time": "2023-06-12T09:13:06.064344664Z",
     "start_time": "2023-06-12T09:13:06.032578762Z"
    }
   }
  },
  {
   "cell_type": "code",
   "execution_count": 32,
   "outputs": [
    {
     "data": {
      "text/plain": "tuple     timestep                  \nbrake     2023-06-12 17:03:03.583607     8\n          2023-06-12 17:03:03.603607     9\n          2023-06-12 17:03:03.623607    10\n          2023-06-12 17:03:03.643607    11\nthrust    2023-06-12 17:03:03.583607     4\n          2023-06-12 17:03:03.603607     5\n          2023-06-12 17:03:03.623607     6\n          2023-06-12 17:03:03.643607     7\nvelocity  2023-06-12 17:03:03.583607     0\n          2023-06-12 17:03:03.603607     1\n          2023-06-12 17:03:03.623607     2\n          2023-06-12 17:03:03.643607     3\nName: state, dtype: int64"
     },
     "execution_count": 32,
     "metadata": {},
     "output_type": "execute_result"
    }
   ],
   "source": [
    "state = df_ss.stack().swaplevel(0, 1)\n",
    "state.name = 'state'\n",
    "state.sort_index(inplace=True)\n",
    "state"
   ],
   "metadata": {
    "collapsed": false,
    "ExecuteTime": {
     "end_time": "2023-06-12T09:13:20.378170213Z",
     "start_time": "2023-06-12T09:13:20.362543322Z"
    }
   }
  },
  {
   "cell_type": "code",
   "execution_count": 11,
   "outputs": [],
   "source": [
    "# from functools import reduce\n",
    "#\n",
    "#\n",
    "# velocity = pd.Series(ss[:4], name='velocity')\n",
    "# thrust = pd.Series(ss[4:8], name='thrust')\n",
    "# brake = pd.Series(ss[8:], name='brake')\n",
    "# series = [velocity, thrust, brake]\n",
    "# state = reduce(\n",
    "#     lambda x, y: pd.merge(x, y, how='outer', left_index=True, right_index=True), series\n",
    "# )\n",
    "# state = state.stack().swaplevel(0, 1).sort_index()\n",
    "# state.name = 'state'\n",
    "# state\n",
    "# len(state)\n"
   ],
   "metadata": {
    "collapsed": false,
    "ExecuteTime": {
     "end_time": "2023-06-12T09:03:04.151322261Z",
     "start_time": "2023-06-12T09:03:03.637524214Z"
    }
   }
  },
  {
   "cell_type": "code",
   "execution_count": 12,
   "outputs": [],
   "source": [
    "# from functools import reduce\n",
    "#\n",
    "#\n",
    "# velocity = pd.Series(s[:4], name='velocity')\n",
    "# thrust = pd.Series(s[4:7], name='thrust')\n",
    "# brake = pd.Series(s[7:], name='brake')\n",
    "# series = [velocity, thrust, brake]\n",
    "# state = reduce(\n",
    "#     lambda x, y: pd.merge(x, y, how='outer', left_index=True, right_index=True), series\n",
    "# )\n",
    "# state = state.stack().swaplevel(0, 1).sort_index()\n",
    "# state.name = 'state'\n",
    "# state\n",
    "# len(state)\n",
    "#\n",
    "#"
   ],
   "metadata": {
    "collapsed": false,
    "ExecuteTime": {
     "end_time": "2023-06-12T09:03:04.151369339Z",
     "start_time": "2023-06-12T09:03:03.637573156Z"
    }
   }
  },
  {
   "cell_type": "code",
   "execution_count": 33,
   "outputs": [
    {
     "data": {
      "text/plain": "Index([50, 60, 70], dtype='object')"
     },
     "execution_count": 33,
     "metadata": {},
     "output_type": "execute_result"
    },
    {
     "data": {
      "text/plain": "nominalspeed  timestep                    pedal\n50            2023-06-12 17:03:03.683607  0.00     12.0\n                                          0.25     13.0\n                                          0.50     14.0\n                                          0.75     15.0\n                                          1.00     16.0\n60            2023-06-12 17:03:03.703607  0.00     17.0\n                                          0.25     18.0\n                                          0.50     19.0\n                                          0.75     20.0\n                                          1.00     21.0\n70            2023-06-12 17:03:03.723607  0.00     22.0\n                                          0.25     23.0\n                                          0.50     24.0\n                                          0.75     25.0\n                                          1.00     26.0\nName: action, dtype: float64"
     },
     "execution_count": 33,
     "metadata": {},
     "output_type": "execute_result"
    }
   ],
   "source": [
    "row_ind = np.arange(50, 80, 10)\n",
    "# row_ind\n",
    "ts_ind = ts + pd.to_timedelta(np.arange(5 * 20, 8 * 20, 20), 'ms')\n",
    "pedal_ind = np.linspace(0, 1.0, 5)\n",
    "# pedal_ind\n",
    "# action_ind = pd.MultiIndex.from_product([row_ind, ts_ind], names=['row', 'timestamp'])\n",
    "a = len(state) + np.arange(15)\n",
    "# a\n",
    "action = (\n",
    "    pd.DataFrame(\n",
    "        {\n",
    "            'pedal': pedal_ind,\n",
    "            row_ind[0]: a[:5],\n",
    "            row_ind[1]: a[5:10],\n",
    "            row_ind[2]: a[10:],\n",
    "        }\n",
    "    ).set_index('pedal')\n",
    "    # .stack()\n",
    "    # .swaplevel(0, 1)\n",
    "    .sort_index()\n",
    ")\n",
    "action.columns\n",
    "action.columns = pd.MultiIndex.from_arrays(\n",
    "    [action.columns, ts_ind], names=['nominalspeed', 'timestep']\n",
    ")\n",
    "action = action.stack([0, 1]).swaplevel(0, 1).swaplevel(1, 2).sort_index()\n",
    "action.name = 'action'\n",
    "# action.index.names = ['nominalspeed', 'timestamp']\n",
    "# action.index\n",
    "action"
   ],
   "metadata": {
    "collapsed": false,
    "ExecuteTime": {
     "end_time": "2023-06-12T09:13:27.885241932Z",
     "start_time": "2023-06-12T09:13:27.854403668Z"
    }
   }
  },
  {
   "cell_type": "code",
   "execution_count": 14,
   "outputs": [],
   "source": [
    "# a = len(state) + np.arange(6)\n",
    "# ar0 = pd.Series(a[:2], name='row0')\n",
    "# ar1 = pd.Series(a[2:4], name='row1')\n",
    "# ar2 = pd.Series(a[4:], name='row2')\n",
    "# series = [ar0, ar1, ar2]\n",
    "# action = reduce(\n",
    "#     lambda x, y: pd.merge(x, y, how='outer', left_index=True, right_index=True), series\n",
    "# )\n",
    "# action = action.stack().swaplevel(0, 1).sort_index()\n",
    "# action.name = 'action'\n",
    "# action\n",
    "# len(action) + len(state)"
   ],
   "metadata": {
    "collapsed": false,
    "ExecuteTime": {
     "end_time": "2023-06-12T09:03:04.151536963Z",
     "start_time": "2023-06-12T09:03:03.685172093Z"
    }
   }
  },
  {
   "cell_type": "code",
   "execution_count": 15,
   "outputs": [],
   "source": [
    "reward = pd.Series([len(state) + len(action)], name='reward')\n",
    "# reward.name = 'reward'"
   ],
   "metadata": {
    "collapsed": false,
    "ExecuteTime": {
     "end_time": "2023-06-12T09:03:04.151587688Z",
     "start_time": "2023-06-12T09:03:03.685222968Z"
    }
   }
  },
  {
   "cell_type": "code",
   "execution_count": 34,
   "outputs": [
    {
     "data": {
      "text/plain": "DatetimeIndex(['2023-06-12 17:03:08.583607', '2023-06-12 17:03:08.603607',\n               '2023-06-12 17:03:08.623607', '2023-06-12 17:03:08.643607'],\n              dtype='datetime64[ns]', freq=None)"
     },
     "execution_count": 34,
     "metadata": {},
     "output_type": "execute_result"
    },
    {
     "data": {
      "text/plain": "12"
     },
     "execution_count": 34,
     "metadata": {},
     "output_type": "execute_result"
    },
    {
     "data": {
      "text/plain": "tuple     timestep                  \nbrake     2023-06-12 17:03:08.583607    36\n          2023-06-12 17:03:08.603607    37\n          2023-06-12 17:03:08.623607    38\n          2023-06-12 17:03:08.643607    39\nthrust    2023-06-12 17:03:08.583607    32\n          2023-06-12 17:03:08.603607    33\n          2023-06-12 17:03:08.623607    34\n          2023-06-12 17:03:08.643607    35\nvelocity  2023-06-12 17:03:08.583607    28\n          2023-06-12 17:03:08.603607    29\n          2023-06-12 17:03:08.623607    30\n          2023-06-12 17:03:08.643607    31\nName: nstate, dtype: int64"
     },
     "execution_count": 34,
     "metadata": {},
     "output_type": "execute_result"
    }
   ],
   "source": [
    "# velocity = pd.Series(len(state) + len(action) + len(reward) + s[:4], name='velocity')\n",
    "# thrust = pd.Series(len(state) + len(action) + len(reward) + s[4:7], name='thrust')\n",
    "# brake = pd.Series(len(state) + len(action) + len(reward) + s[7:], name='brake')\n",
    "# series = [velocity, thrust, brake]\n",
    "# nstate = reduce(\n",
    "#     lambda x, y: pd.merge(x, y, how='outer', left_index=True, right_index=True), series\n",
    "# )\n",
    "# nstate = nstate.stack().swaplevel(0, 1).sort_index()\n",
    "# nstate.name = 'nstate'\n",
    "# nstate\n",
    "# len(nstate)\n",
    "ts_ind = ts + pd.to_timedelta(5, 's') + pd.to_timedelta(np.arange(0, 4 * 20, 20), 'ms')\n",
    "ts_ind\n",
    "ss = np.arange(12) + len(state) + len(action) + len(reward)\n",
    "a1 = ss[:4]\n",
    "a2 = ss[4:8]\n",
    "a3 = ss[8:]\n",
    "nstate = (\n",
    "    pd.DataFrame({'timestamp': ts_ind, 'velocity': a1, 'thrust': a2, 'brake': a3})\n",
    "    .set_index('timestamp')\n",
    "    .stack()\n",
    "    .swaplevel(0, 1)\n",
    "    .sort_index()\n",
    ")\n",
    "nstate.name = 'nstate'\n",
    "nstate.index.names = ['tuple', 'timestep']\n",
    "len(nstate)\n",
    "nstate"
   ],
   "metadata": {
    "collapsed": false,
    "ExecuteTime": {
     "end_time": "2023-06-12T09:13:47.409376320Z",
     "start_time": "2023-06-12T09:13:47.362973819Z"
    }
   }
  },
  {
   "cell_type": "code",
   "execution_count": 35,
   "outputs": [
    {
     "data": {
      "text/plain": "RangeIndex(start=0, stop=1, step=1)"
     },
     "execution_count": 35,
     "metadata": {},
     "output_type": "execute_result"
    },
    {
     "data": {
      "text/plain": "MultiIndex([(   'brake', '2023-06-12 17:03:03.583607'),\n            (   'brake', '2023-06-12 17:03:03.603607'),\n            (   'brake', '2023-06-12 17:03:03.623607'),\n            (   'brake', '2023-06-12 17:03:03.643607'),\n            (  'thrust', '2023-06-12 17:03:03.583607'),\n            (  'thrust', '2023-06-12 17:03:03.603607'),\n            (  'thrust', '2023-06-12 17:03:03.623607'),\n            (  'thrust', '2023-06-12 17:03:03.643607'),\n            ('velocity', '2023-06-12 17:03:03.583607'),\n            ('velocity', '2023-06-12 17:03:03.603607'),\n            ('velocity', '2023-06-12 17:03:03.623607'),\n            ('velocity', '2023-06-12 17:03:03.643607')],\n           names=['tuple', 'timestep'])"
     },
     "execution_count": 35,
     "metadata": {},
     "output_type": "execute_result"
    },
    {
     "data": {
      "text/plain": "MultiIndex([(50, '2023-06-12 17:03:03.683607',  0.0),\n            (50, '2023-06-12 17:03:03.683607', 0.25),\n            (50, '2023-06-12 17:03:03.683607',  0.5),\n            (50, '2023-06-12 17:03:03.683607', 0.75),\n            (50, '2023-06-12 17:03:03.683607',  1.0),\n            (60, '2023-06-12 17:03:03.703607',  0.0),\n            (60, '2023-06-12 17:03:03.703607', 0.25),\n            (60, '2023-06-12 17:03:03.703607',  0.5),\n            (60, '2023-06-12 17:03:03.703607', 0.75),\n            (60, '2023-06-12 17:03:03.703607',  1.0),\n            (70, '2023-06-12 17:03:03.723607',  0.0),\n            (70, '2023-06-12 17:03:03.723607', 0.25),\n            (70, '2023-06-12 17:03:03.723607',  0.5),\n            (70, '2023-06-12 17:03:03.723607', 0.75),\n            (70, '2023-06-12 17:03:03.723607',  1.0)],\n           names=['nominalspeed', 'timestep', 'pedal'])"
     },
     "execution_count": 35,
     "metadata": {},
     "output_type": "execute_result"
    },
    {
     "data": {
      "text/plain": "RangeIndex(start=0, stop=1, step=1)"
     },
     "execution_count": 35,
     "metadata": {},
     "output_type": "execute_result"
    },
    {
     "data": {
      "text/plain": "MultiIndex([(   'brake', '2023-06-12 17:03:08.583607'),\n            (   'brake', '2023-06-12 17:03:08.603607'),\n            (   'brake', '2023-06-12 17:03:08.623607'),\n            (   'brake', '2023-06-12 17:03:08.643607'),\n            (  'thrust', '2023-06-12 17:03:08.583607'),\n            (  'thrust', '2023-06-12 17:03:08.603607'),\n            (  'thrust', '2023-06-12 17:03:08.623607'),\n            (  'thrust', '2023-06-12 17:03:08.643607'),\n            ('velocity', '2023-06-12 17:03:08.583607'),\n            ('velocity', '2023-06-12 17:03:08.603607'),\n            ('velocity', '2023-06-12 17:03:08.623607'),\n            ('velocity', '2023-06-12 17:03:08.643607')],\n           names=['tuple', 'timestep'])"
     },
     "execution_count": 35,
     "metadata": {},
     "output_type": "execute_result"
    }
   ],
   "source": [
    "timestamp = pd.Series([ts], name='timestamp')\n",
    "timestamp.index\n",
    "state.index\n",
    "action.index\n",
    "reward.index\n",
    "nstate.index"
   ],
   "metadata": {
    "collapsed": false,
    "ExecuteTime": {
     "end_time": "2023-06-12T09:13:51.496911332Z",
     "start_time": "2023-06-12T09:13:51.467863794Z"
    }
   }
  },
  {
   "cell_type": "code",
   "execution_count": 36,
   "outputs": [
    {
     "data": {
      "text/plain": "('timestamp', '', 0, '')"
     },
     "execution_count": 36,
     "metadata": {},
     "output_type": "execute_result"
    },
    {
     "data": {
      "text/plain": "[('state', 'brake', Timestamp('2023-06-12 17:03:03.583607'), ''),\n ('state', 'brake', Timestamp('2023-06-12 17:03:03.603607'), ''),\n ('state', 'brake', Timestamp('2023-06-12 17:03:03.623607'), ''),\n ('state', 'brake', Timestamp('2023-06-12 17:03:03.643607'), ''),\n ('state', 'thrust', Timestamp('2023-06-12 17:03:03.583607'), ''),\n ('state', 'thrust', Timestamp('2023-06-12 17:03:03.603607'), ''),\n ('state', 'thrust', Timestamp('2023-06-12 17:03:03.623607'), ''),\n ('state', 'thrust', Timestamp('2023-06-12 17:03:03.643607'), ''),\n ('state', 'velocity', Timestamp('2023-06-12 17:03:03.583607'), ''),\n ('state', 'velocity', Timestamp('2023-06-12 17:03:03.603607'), ''),\n ('state', 'velocity', Timestamp('2023-06-12 17:03:03.623607'), ''),\n ('state', 'velocity', Timestamp('2023-06-12 17:03:03.643607'), '')]"
     },
     "execution_count": 36,
     "metadata": {},
     "output_type": "execute_result"
    },
    {
     "data": {
      "text/plain": "('reward', '', 0, '')"
     },
     "execution_count": 36,
     "metadata": {},
     "output_type": "execute_result"
    },
    {
     "data": {
      "text/plain": "[('action', 50, Timestamp('2023-06-12 17:03:03.683607'), 0.0),\n ('action', 50, Timestamp('2023-06-12 17:03:03.683607'), 0.25),\n ('action', 50, Timestamp('2023-06-12 17:03:03.683607'), 0.5),\n ('action', 50, Timestamp('2023-06-12 17:03:03.683607'), 0.75),\n ('action', 50, Timestamp('2023-06-12 17:03:03.683607'), 1.0),\n ('action', 60, Timestamp('2023-06-12 17:03:03.703607'), 0.0),\n ('action', 60, Timestamp('2023-06-12 17:03:03.703607'), 0.25),\n ('action', 60, Timestamp('2023-06-12 17:03:03.703607'), 0.5),\n ('action', 60, Timestamp('2023-06-12 17:03:03.703607'), 0.75),\n ('action', 60, Timestamp('2023-06-12 17:03:03.703607'), 1.0),\n ('action', 70, Timestamp('2023-06-12 17:03:03.723607'), 0.0),\n ('action', 70, Timestamp('2023-06-12 17:03:03.723607'), 0.25),\n ('action', 70, Timestamp('2023-06-12 17:03:03.723607'), 0.5),\n ('action', 70, Timestamp('2023-06-12 17:03:03.723607'), 0.75),\n ('action', 70, Timestamp('2023-06-12 17:03:03.723607'), 1.0)]"
     },
     "execution_count": 36,
     "metadata": {},
     "output_type": "execute_result"
    },
    {
     "data": {
      "text/plain": "[('nstate', 'brake', Timestamp('2023-06-12 17:03:08.583607'), ''),\n ('nstate', 'brake', Timestamp('2023-06-12 17:03:08.603607'), ''),\n ('nstate', 'brake', Timestamp('2023-06-12 17:03:08.623607'), ''),\n ('nstate', 'brake', Timestamp('2023-06-12 17:03:08.643607'), ''),\n ('nstate', 'thrust', Timestamp('2023-06-12 17:03:08.583607'), ''),\n ('nstate', 'thrust', Timestamp('2023-06-12 17:03:08.603607'), ''),\n ('nstate', 'thrust', Timestamp('2023-06-12 17:03:08.623607'), ''),\n ('nstate', 'thrust', Timestamp('2023-06-12 17:03:08.643607'), ''),\n ('nstate', 'velocity', Timestamp('2023-06-12 17:03:08.583607'), ''),\n ('nstate', 'velocity', Timestamp('2023-06-12 17:03:08.603607'), ''),\n ('nstate', 'velocity', Timestamp('2023-06-12 17:03:08.623607'), ''),\n ('nstate', 'velocity', Timestamp('2023-06-12 17:03:08.643607'), '')]"
     },
     "execution_count": 36,
     "metadata": {},
     "output_type": "execute_result"
    },
    {
     "data": {
      "text/plain": "MultiIndex([('timestamp',         '',                          0,   ''),\n            (    'state',    'brake', 2023-06-12 17:03:03.583607,   ''),\n            (    'state',    'brake', 2023-06-12 17:03:03.603607,   ''),\n            (    'state',    'brake', 2023-06-12 17:03:03.623607,   ''),\n            (    'state',    'brake', 2023-06-12 17:03:03.643607,   ''),\n            (    'state',   'thrust', 2023-06-12 17:03:03.583607,   ''),\n            (    'state',   'thrust', 2023-06-12 17:03:03.603607,   ''),\n            (    'state',   'thrust', 2023-06-12 17:03:03.623607,   ''),\n            (    'state',   'thrust', 2023-06-12 17:03:03.643607,   ''),\n            (    'state', 'velocity', 2023-06-12 17:03:03.583607,   ''),\n            (    'state', 'velocity', 2023-06-12 17:03:03.603607,   ''),\n            (    'state', 'velocity', 2023-06-12 17:03:03.623607,   ''),\n            (    'state', 'velocity', 2023-06-12 17:03:03.643607,   ''),\n            (   'reward',         '',                          0,   ''),\n            (   'action',         50, 2023-06-12 17:03:03.683607,  0.0),\n            (   'action',         50, 2023-06-12 17:03:03.683607, 0.25),\n            (   'action',         50, 2023-06-12 17:03:03.683607,  0.5),\n            (   'action',         50, 2023-06-12 17:03:03.683607, 0.75),\n            (   'action',         50, 2023-06-12 17:03:03.683607,  1.0),\n            (   'action',         60, 2023-06-12 17:03:03.703607,  0.0),\n            (   'action',         60, 2023-06-12 17:03:03.703607, 0.25),\n            (   'action',         60, 2023-06-12 17:03:03.703607,  0.5),\n            (   'action',         60, 2023-06-12 17:03:03.703607, 0.75),\n            (   'action',         60, 2023-06-12 17:03:03.703607,  1.0),\n            (   'action',         70, 2023-06-12 17:03:03.723607,  0.0),\n            (   'action',         70, 2023-06-12 17:03:03.723607, 0.25),\n            (   'action',         70, 2023-06-12 17:03:03.723607,  0.5),\n            (   'action',         70, 2023-06-12 17:03:03.723607, 0.75),\n            (   'action',         70, 2023-06-12 17:03:03.723607,  1.0),\n            (   'nstate',    'brake', 2023-06-12 17:03:08.583607,   ''),\n            (   'nstate',    'brake', 2023-06-12 17:03:08.603607,   ''),\n            (   'nstate',    'brake', 2023-06-12 17:03:08.623607,   ''),\n            (   'nstate',    'brake', 2023-06-12 17:03:08.643607,   ''),\n            (   'nstate',   'thrust', 2023-06-12 17:03:08.583607,   ''),\n            (   'nstate',   'thrust', 2023-06-12 17:03:08.603607,   ''),\n            (   'nstate',   'thrust', 2023-06-12 17:03:08.623607,   ''),\n            (   'nstate',   'thrust', 2023-06-12 17:03:08.643607,   ''),\n            (   'nstate', 'velocity', 2023-06-12 17:03:08.583607,   ''),\n            (   'nstate', 'velocity', 2023-06-12 17:03:08.603607,   ''),\n            (   'nstate', 'velocity', 2023-06-12 17:03:08.623607,   ''),\n            (   'nstate', 'velocity', 2023-06-12 17:03:08.643607,   '')],\n           )"
     },
     "execution_count": 36,
     "metadata": {},
     "output_type": "execute_result"
    }
   ],
   "source": [
    "timestamp_index = (timestamp.name, '', 0, '')\n",
    "timestamp_index\n",
    "state_index = [(state.name, *i, '') for i in state.index]\n",
    "state_index\n",
    "reward_index = (reward.name, '', 0, '')\n",
    "reward_index\n",
    "action_index = [(action.name, *i) for i in action.index]\n",
    "action_index\n",
    "nstate_index = [(nstate.name, *i, '') for i in nstate.index]\n",
    "nstate_index\n",
    "\n",
    "multiindex = pd.MultiIndex.from_tuples(\n",
    "    [timestamp_index, *state_index, reward_index, *action_index, *nstate_index]\n",
    ")\n",
    "multiindex\n"
   ],
   "metadata": {
    "collapsed": false,
    "ExecuteTime": {
     "end_time": "2023-06-12T09:13:56.417157141Z",
     "start_time": "2023-06-12T09:13:56.380596839Z"
    }
   }
  },
  {
   "cell_type": "code",
   "execution_count": 37,
   "outputs": [
    {
     "data": {
      "text/plain": "timestamp            0                                   2023-06-12 17:03:03.583607\nstate      brake     2023-06-12 17:03:03.583607                                   8\n                     2023-06-12 17:03:03.603607                                   9\n                     2023-06-12 17:03:03.623607                                  10\n                     2023-06-12 17:03:03.643607                                  11\n           thrust    2023-06-12 17:03:03.583607                                   4\n                     2023-06-12 17:03:03.603607                                   5\n                     2023-06-12 17:03:03.623607                                   6\n                     2023-06-12 17:03:03.643607                                   7\n           velocity  2023-06-12 17:03:03.583607                                   0\n                     2023-06-12 17:03:03.603607                                   1\n                     2023-06-12 17:03:03.623607                                   2\n                     2023-06-12 17:03:03.643607                                   3\nreward               0                                                         12.0\naction     50        2023-06-12 17:03:03.683607  0.0                           13.0\n                                                 0.25                          14.0\n                                                 0.5                           15.0\n                                                 0.75                          16.0\n                                                 1.0                           17.0\n           60        2023-06-12 17:03:03.703607  0.0                           18.0\n                                                 0.25                          19.0\n                                                 0.5                           20.0\n                                                 0.75                          21.0\n                                                 1.0                           22.0\n           70        2023-06-12 17:03:03.723607  0.0                           23.0\n                                                 0.25                          24.0\n                                                 0.5                           25.0\n                                                 0.75                          26.0\n                                                 1.0                             27\nnstate     brake     2023-06-12 17:03:08.583607                                  36\n                     2023-06-12 17:03:08.603607                                  37\n                     2023-06-12 17:03:08.623607                                  38\n                     2023-06-12 17:03:08.643607                                  39\n           thrust    2023-06-12 17:03:08.583607                                  32\n                     2023-06-12 17:03:08.603607                                  33\n                     2023-06-12 17:03:08.623607                                  34\n                     2023-06-12 17:03:08.643607                                  35\n           velocity  2023-06-12 17:03:08.583607                                  28\n                     2023-06-12 17:03:08.603607                                  29\n                     2023-06-12 17:03:08.623607                                  30\n                     2023-06-12 17:03:08.643607                                  31\ndtype: object"
     },
     "execution_count": 37,
     "metadata": {},
     "output_type": "execute_result"
    },
    {
     "data": {
      "text/plain": "dtype('O')"
     },
     "execution_count": 37,
     "metadata": {},
     "output_type": "execute_result"
    }
   ],
   "source": [
    "observation_list = [timestamp, state, action, reward, nstate]\n",
    "observation = pd.concat(observation_list)\n",
    "observation.index = multiindex\n",
    "observation\n",
    "observation.dtype"
   ],
   "metadata": {
    "collapsed": false,
    "ExecuteTime": {
     "end_time": "2023-06-12T09:14:04.441277576Z",
     "start_time": "2023-06-12T09:14:04.397055262Z"
    }
   }
  },
  {
   "cell_type": "code",
   "execution_count": 38,
   "outputs": [],
   "source": [
    "\n",
    "observation0 = observation.copy()\n",
    "observation0.loc['timestamp', '', 0, ''] = ts + pd.Timedelta(1, 'h')\n",
    "observation1 = observation.copy()\n",
    "observation1.loc['timestamp', '', 0, ''] = ts + pd.Timedelta(2, 'h')\n",
    "observation2 = observation.copy()\n",
    "observation2.loc['timestamp', '', 0, ''] = ts + pd.Timedelta(3, 'h')\n",
    "observation3 = observation.copy()\n",
    "observation3.loc['timestamp', '', 0, ''] = ts + pd.Timedelta(4, 'h')\n",
    "observation4 = observation.copy()\n",
    "observation4.loc['timestamp', '', 0, ''] = ts + pd.Timedelta(5, 'h')\n",
    "observation_list = [\n",
    "    observation0,\n",
    "    observation1,\n",
    "    observation2,\n",
    "    observation3,\n",
    "    observation4,\n",
    "]\n"
   ],
   "metadata": {
    "collapsed": false,
    "ExecuteTime": {
     "end_time": "2023-06-12T09:14:17.885940101Z",
     "start_time": "2023-06-12T09:14:17.876357738Z"
    }
   }
  },
  {
   "cell_type": "code",
   "execution_count": 41,
   "outputs": [
    {
     "data": {
      "text/plain": "MultiIndex([('timestamp',         '',                          0,   ''),\n            (    'state',    'brake', 2023-06-12 17:03:03.583607,   ''),\n            (    'state',    'brake', 2023-06-12 17:03:03.603607,   ''),\n            (    'state',    'brake', 2023-06-12 17:03:03.623607,   ''),\n            (    'state',    'brake', 2023-06-12 17:03:03.643607,   ''),\n            (    'state',   'thrust', 2023-06-12 17:03:03.583607,   ''),\n            (    'state',   'thrust', 2023-06-12 17:03:03.603607,   ''),\n            (    'state',   'thrust', 2023-06-12 17:03:03.623607,   ''),\n            (    'state',   'thrust', 2023-06-12 17:03:03.643607,   ''),\n            (    'state', 'velocity', 2023-06-12 17:03:03.583607,   ''),\n            (    'state', 'velocity', 2023-06-12 17:03:03.603607,   ''),\n            (    'state', 'velocity', 2023-06-12 17:03:03.623607,   ''),\n            (    'state', 'velocity', 2023-06-12 17:03:03.643607,   ''),\n            (   'reward',         '',                          0,   ''),\n            (   'action',         50, 2023-06-12 17:03:03.683607,  0.0),\n            (   'action',         50, 2023-06-12 17:03:03.683607, 0.25),\n            (   'action',         50, 2023-06-12 17:03:03.683607,  0.5),\n            (   'action',         50, 2023-06-12 17:03:03.683607, 0.75),\n            (   'action',         50, 2023-06-12 17:03:03.683607,  1.0),\n            (   'action',         60, 2023-06-12 17:03:03.703607,  0.0),\n            (   'action',         60, 2023-06-12 17:03:03.703607, 0.25),\n            (   'action',         60, 2023-06-12 17:03:03.703607,  0.5),\n            (   'action',         60, 2023-06-12 17:03:03.703607, 0.75),\n            (   'action',         60, 2023-06-12 17:03:03.703607,  1.0),\n            (   'action',         70, 2023-06-12 17:03:03.723607,  0.0),\n            (   'action',         70, 2023-06-12 17:03:03.723607, 0.25),\n            (   'action',         70, 2023-06-12 17:03:03.723607,  0.5),\n            (   'action',         70, 2023-06-12 17:03:03.723607, 0.75),\n            (   'action',         70, 2023-06-12 17:03:03.723607,  1.0),\n            (   'nstate',    'brake', 2023-06-12 17:03:08.583607,   ''),\n            (   'nstate',    'brake', 2023-06-12 17:03:08.603607,   ''),\n            (   'nstate',    'brake', 2023-06-12 17:03:08.623607,   ''),\n            (   'nstate',    'brake', 2023-06-12 17:03:08.643607,   ''),\n            (   'nstate',   'thrust', 2023-06-12 17:03:08.583607,   ''),\n            (   'nstate',   'thrust', 2023-06-12 17:03:08.603607,   ''),\n            (   'nstate',   'thrust', 2023-06-12 17:03:08.623607,   ''),\n            (   'nstate',   'thrust', 2023-06-12 17:03:08.643607,   ''),\n            (   'nstate', 'velocity', 2023-06-12 17:03:08.583607,   ''),\n            (   'nstate', 'velocity', 2023-06-12 17:03:08.603607,   ''),\n            (   'nstate', 'velocity', 2023-06-12 17:03:08.623607,   ''),\n            (   'nstate', 'velocity', 2023-06-12 17:03:08.643607,   '')],\n           names=['tuple', 'measurement', 'timestep', 'extra'])"
     },
     "execution_count": 41,
     "metadata": {},
     "output_type": "execute_result"
    },
    {
     "data": {
      "text/plain": "dfs_epi\ntuple                        timestamp                      state   \nmeasurement                                                 brake   \ntimestep                             0 2023-06-12 17:03:03.583607   \nextra                                                               \n0           2023-06-12 18:03:03.583607                          8  \\\n1           2023-06-12 19:03:03.583607                          8   \n2           2023-06-12 20:03:03.583607                          8   \n3           2023-06-12 21:03:03.583607                          8   \n4           2023-06-12 22:03:03.583607                          8   \n\ntuple                                                               \nmeasurement                                                         \ntimestep    2023-06-12 17:03:03.603607 2023-06-12 17:03:03.623607   \nextra                                                               \n0                                    9                         10  \\\n1                                    9                         10   \n2                                    9                         10   \n3                                    9                         10   \n4                                    9                         10   \n\ntuple                                                               \nmeasurement                                                thrust   \ntimestep    2023-06-12 17:03:03.643607 2023-06-12 17:03:03.583607   \nextra                                                               \n0                                   11                          4  \\\n1                                   11                          4   \n2                                   11                          4   \n3                                   11                          4   \n4                                   11                          4   \n\ntuple                                                               \nmeasurement                                                         \ntimestep    2023-06-12 17:03:03.603607 2023-06-12 17:03:03.623607   \nextra                                                               \n0                                    5                          6  \\\n1                                    5                          6   \n2                                    5                          6   \n3                                    5                          6   \n4                                    5                          6   \n\ntuple                                                              ...   \nmeasurement                                              velocity  ...   \ntimestep    2023-06-12 17:03:03.643607 2023-06-12 17:03:03.583607  ...   \nextra                                                              ...   \n0                                    7                          0  ...  \\\n1                                    7                          0  ...   \n2                                    7                          0  ...   \n3                                    7                          0  ...   \n4                                    7                          0  ...   \n\ntuple                           nstate                              \nmeasurement                      brake                              \ntimestep    2023-06-12 17:03:08.623607 2023-06-12 17:03:08.643607   \nextra                                                               \n0                                   38                         39  \\\n1                                   38                         39   \n2                                   38                         39   \n3                                   38                         39   \n4                                   38                         39   \n\ntuple                                                               \nmeasurement                     thrust                              \ntimestep    2023-06-12 17:03:08.583607 2023-06-12 17:03:08.603607   \nextra                                                               \n0                                   32                         33  \\\n1                                   32                         33   \n2                                   32                         33   \n3                                   32                         33   \n4                                   32                         33   \n\ntuple                                                               \nmeasurement                                                         \ntimestep    2023-06-12 17:03:08.623607 2023-06-12 17:03:08.643607   \nextra                                                               \n0                                   34                         35  \\\n1                                   34                         35   \n2                                   34                         35   \n3                                   34                         35   \n4                                   34                         35   \n\ntuple                                                               \nmeasurement                   velocity                              \ntimestep    2023-06-12 17:03:08.583607 2023-06-12 17:03:08.603607   \nextra                                                               \n0                                   28                         29  \\\n1                                   28                         29   \n2                                   28                         29   \n3                                   28                         29   \n4                                   28                         29   \n\ntuple                                                              \nmeasurement                                                        \ntimestep    2023-06-12 17:03:08.623607 2023-06-12 17:03:08.643607  \nextra                                                              \n0                                   30                         31  \n1                                   30                         31  \n2                                   30                         31  \n3                                   30                         31  \n4                                   30                         31  \n\n[5 rows x 41 columns]",
      "text/html": "<div style=\"float: left; padding: 10px;\">\n    <p style='font-family:\"Courier New\", Courier, monospace'>dfs_epi</p><div>\n<style scoped>\n    .dataframe tbody tr th:only-of-type {\n        vertical-align: middle;\n    }\n\n    .dataframe tbody tr th {\n        vertical-align: top;\n    }\n\n    .dataframe thead tr th {\n        text-align: left;\n    }\n</style>\n<table border=\"1\" class=\"dataframe\">\n  <thead>\n    <tr>\n      <th>tuple</th>\n      <th>timestamp</th>\n      <th colspan=\"9\" halign=\"left\">state</th>\n      <th>...</th>\n      <th colspan=\"10\" halign=\"left\">nstate</th>\n    </tr>\n    <tr>\n      <th>measurement</th>\n      <th></th>\n      <th colspan=\"4\" halign=\"left\">brake</th>\n      <th colspan=\"4\" halign=\"left\">thrust</th>\n      <th>velocity</th>\n      <th>...</th>\n      <th colspan=\"2\" halign=\"left\">brake</th>\n      <th colspan=\"4\" halign=\"left\">thrust</th>\n      <th colspan=\"4\" halign=\"left\">velocity</th>\n    </tr>\n    <tr>\n      <th>timestep</th>\n      <th>0</th>\n      <th>2023-06-12 17:03:03.583607</th>\n      <th>2023-06-12 17:03:03.603607</th>\n      <th>2023-06-12 17:03:03.623607</th>\n      <th>2023-06-12 17:03:03.643607</th>\n      <th>2023-06-12 17:03:03.583607</th>\n      <th>2023-06-12 17:03:03.603607</th>\n      <th>2023-06-12 17:03:03.623607</th>\n      <th>2023-06-12 17:03:03.643607</th>\n      <th>2023-06-12 17:03:03.583607</th>\n      <th>...</th>\n      <th>2023-06-12 17:03:08.623607</th>\n      <th>2023-06-12 17:03:08.643607</th>\n      <th>2023-06-12 17:03:08.583607</th>\n      <th>2023-06-12 17:03:08.603607</th>\n      <th>2023-06-12 17:03:08.623607</th>\n      <th>2023-06-12 17:03:08.643607</th>\n      <th>2023-06-12 17:03:08.583607</th>\n      <th>2023-06-12 17:03:08.603607</th>\n      <th>2023-06-12 17:03:08.623607</th>\n      <th>2023-06-12 17:03:08.643607</th>\n    </tr>\n    <tr>\n      <th>extra</th>\n      <th></th>\n      <th></th>\n      <th></th>\n      <th></th>\n      <th></th>\n      <th></th>\n      <th></th>\n      <th></th>\n      <th></th>\n      <th></th>\n      <th>...</th>\n      <th></th>\n      <th></th>\n      <th></th>\n      <th></th>\n      <th></th>\n      <th></th>\n      <th></th>\n      <th></th>\n      <th></th>\n      <th></th>\n    </tr>\n  </thead>\n  <tbody>\n    <tr>\n      <th>0</th>\n      <td>2023-06-12 18:03:03.583607</td>\n      <td>8</td>\n      <td>9</td>\n      <td>10</td>\n      <td>11</td>\n      <td>4</td>\n      <td>5</td>\n      <td>6</td>\n      <td>7</td>\n      <td>0</td>\n      <td>...</td>\n      <td>38</td>\n      <td>39</td>\n      <td>32</td>\n      <td>33</td>\n      <td>34</td>\n      <td>35</td>\n      <td>28</td>\n      <td>29</td>\n      <td>30</td>\n      <td>31</td>\n    </tr>\n    <tr>\n      <th>1</th>\n      <td>2023-06-12 19:03:03.583607</td>\n      <td>8</td>\n      <td>9</td>\n      <td>10</td>\n      <td>11</td>\n      <td>4</td>\n      <td>5</td>\n      <td>6</td>\n      <td>7</td>\n      <td>0</td>\n      <td>...</td>\n      <td>38</td>\n      <td>39</td>\n      <td>32</td>\n      <td>33</td>\n      <td>34</td>\n      <td>35</td>\n      <td>28</td>\n      <td>29</td>\n      <td>30</td>\n      <td>31</td>\n    </tr>\n    <tr>\n      <th>2</th>\n      <td>2023-06-12 20:03:03.583607</td>\n      <td>8</td>\n      <td>9</td>\n      <td>10</td>\n      <td>11</td>\n      <td>4</td>\n      <td>5</td>\n      <td>6</td>\n      <td>7</td>\n      <td>0</td>\n      <td>...</td>\n      <td>38</td>\n      <td>39</td>\n      <td>32</td>\n      <td>33</td>\n      <td>34</td>\n      <td>35</td>\n      <td>28</td>\n      <td>29</td>\n      <td>30</td>\n      <td>31</td>\n    </tr>\n    <tr>\n      <th>3</th>\n      <td>2023-06-12 21:03:03.583607</td>\n      <td>8</td>\n      <td>9</td>\n      <td>10</td>\n      <td>11</td>\n      <td>4</td>\n      <td>5</td>\n      <td>6</td>\n      <td>7</td>\n      <td>0</td>\n      <td>...</td>\n      <td>38</td>\n      <td>39</td>\n      <td>32</td>\n      <td>33</td>\n      <td>34</td>\n      <td>35</td>\n      <td>28</td>\n      <td>29</td>\n      <td>30</td>\n      <td>31</td>\n    </tr>\n    <tr>\n      <th>4</th>\n      <td>2023-06-12 22:03:03.583607</td>\n      <td>8</td>\n      <td>9</td>\n      <td>10</td>\n      <td>11</td>\n      <td>4</td>\n      <td>5</td>\n      <td>6</td>\n      <td>7</td>\n      <td>0</td>\n      <td>...</td>\n      <td>38</td>\n      <td>39</td>\n      <td>32</td>\n      <td>33</td>\n      <td>34</td>\n      <td>35</td>\n      <td>28</td>\n      <td>29</td>\n      <td>30</td>\n      <td>31</td>\n    </tr>\n  </tbody>\n</table>\n<p>5 rows × 41 columns</p>\n</div>\n    </div>"
     },
     "execution_count": 41,
     "metadata": {},
     "output_type": "execute_result"
    }
   ],
   "source": [
    "\n",
    "dfs_epi = pd.concat(observation_list, axis=1).transpose()\n",
    "dfs_epi.columns.names = ['tuple', 'measurement', 'timestep', 'extra']\n",
    "dfs_epi.columns\n",
    "display('dfs_epi')\n"
   ],
   "metadata": {
    "collapsed": false,
    "ExecuteTime": {
     "end_time": "2023-06-12T09:15:08.439131361Z",
     "start_time": "2023-06-12T09:15:08.412166351Z"
    }
   }
  },
  {
   "cell_type": "code",
   "execution_count": 42,
   "outputs": [
    {
     "data": {
      "text/plain": "tuple                                          action                           \nmeasurement                                        50                           \ntimestep                   2023-06-12 17:03:03.683607                           \nextra                                             0.0  0.25   0.5  0.75   1.0   \ntimestamp                                                                       \n2023-06-12 18:03:03.583607                       13.0  14.0  15.0  16.0  17.0  \\\n2023-06-12 19:03:03.583607                       13.0  14.0  15.0  16.0  17.0   \n2023-06-12 20:03:03.583607                       13.0  14.0  15.0  16.0  17.0   \n2023-06-12 21:03:03.583607                       13.0  14.0  15.0  16.0  17.0   \n2023-06-12 22:03:03.583607                       13.0  14.0  15.0  16.0  17.0   \n\ntuple                                                                           \nmeasurement                                        60                           \ntimestep                   2023-06-12 17:03:03.703607                           \nextra                                             0.0  0.25   0.5  0.75   1.0   \ntimestamp                                                                       \n2023-06-12 18:03:03.583607                       18.0  19.0  20.0  21.0  22.0  \\\n2023-06-12 19:03:03.583607                       18.0  19.0  20.0  21.0  22.0   \n2023-06-12 20:03:03.583607                       18.0  19.0  20.0  21.0  22.0   \n2023-06-12 21:03:03.583607                       18.0  19.0  20.0  21.0  22.0   \n2023-06-12 22:03:03.583607                       18.0  19.0  20.0  21.0  22.0   \n\ntuple                       ...                      state   \nmeasurement                 ...                      brake   \ntimestep                    ... 2023-06-12 17:03:03.623607   \nextra                       ...                              \ntimestamp                   ...                              \n2023-06-12 18:03:03.583607  ...                         10  \\\n2023-06-12 19:03:03.583607  ...                         10   \n2023-06-12 20:03:03.583607  ...                         10   \n2023-06-12 21:03:03.583607  ...                         10   \n2023-06-12 22:03:03.583607  ...                         10   \n\ntuple                                                   \nmeasurement                                             \ntimestep                   2023-06-12 17:03:03.643607   \nextra                                                   \ntimestamp                                               \n2023-06-12 18:03:03.583607                         11  \\\n2023-06-12 19:03:03.583607                         11   \n2023-06-12 20:03:03.583607                         11   \n2023-06-12 21:03:03.583607                         11   \n2023-06-12 22:03:03.583607                         11   \n\ntuple                                                   \nmeasurement                                    thrust   \ntimestep                   2023-06-12 17:03:03.583607   \nextra                                                   \ntimestamp                                               \n2023-06-12 18:03:03.583607                          4  \\\n2023-06-12 19:03:03.583607                          4   \n2023-06-12 20:03:03.583607                          4   \n2023-06-12 21:03:03.583607                          4   \n2023-06-12 22:03:03.583607                          4   \n\ntuple                                                   \nmeasurement                                             \ntimestep                   2023-06-12 17:03:03.603607   \nextra                                                   \ntimestamp                                               \n2023-06-12 18:03:03.583607                          5  \\\n2023-06-12 19:03:03.583607                          5   \n2023-06-12 20:03:03.583607                          5   \n2023-06-12 21:03:03.583607                          5   \n2023-06-12 22:03:03.583607                          5   \n\ntuple                                                   \nmeasurement                                             \ntimestep                   2023-06-12 17:03:03.623607   \nextra                                                   \ntimestamp                                               \n2023-06-12 18:03:03.583607                          6  \\\n2023-06-12 19:03:03.583607                          6   \n2023-06-12 20:03:03.583607                          6   \n2023-06-12 21:03:03.583607                          6   \n2023-06-12 22:03:03.583607                          6   \n\ntuple                                                   \nmeasurement                                             \ntimestep                   2023-06-12 17:03:03.643607   \nextra                                                   \ntimestamp                                               \n2023-06-12 18:03:03.583607                          7  \\\n2023-06-12 19:03:03.583607                          7   \n2023-06-12 20:03:03.583607                          7   \n2023-06-12 21:03:03.583607                          7   \n2023-06-12 22:03:03.583607                          7   \n\ntuple                                                   \nmeasurement                                  velocity   \ntimestep                   2023-06-12 17:03:03.583607   \nextra                                                   \ntimestamp                                               \n2023-06-12 18:03:03.583607                          0  \\\n2023-06-12 19:03:03.583607                          0   \n2023-06-12 20:03:03.583607                          0   \n2023-06-12 21:03:03.583607                          0   \n2023-06-12 22:03:03.583607                          0   \n\ntuple                                                   \nmeasurement                                             \ntimestep                   2023-06-12 17:03:03.603607   \nextra                                                   \ntimestamp                                               \n2023-06-12 18:03:03.583607                          1  \\\n2023-06-12 19:03:03.583607                          1   \n2023-06-12 20:03:03.583607                          1   \n2023-06-12 21:03:03.583607                          1   \n2023-06-12 22:03:03.583607                          1   \n\ntuple                                                   \nmeasurement                                             \ntimestep                   2023-06-12 17:03:03.623607   \nextra                                                   \ntimestamp                                               \n2023-06-12 18:03:03.583607                          2  \\\n2023-06-12 19:03:03.583607                          2   \n2023-06-12 20:03:03.583607                          2   \n2023-06-12 21:03:03.583607                          2   \n2023-06-12 22:03:03.583607                          2   \n\ntuple                                                  \nmeasurement                                            \ntimestep                   2023-06-12 17:03:03.643607  \nextra                                                  \ntimestamp                                              \n2023-06-12 18:03:03.583607                          3  \n2023-06-12 19:03:03.583607                          3  \n2023-06-12 20:03:03.583607                          3  \n2023-06-12 21:03:03.583607                          3  \n2023-06-12 22:03:03.583607                          3  \n\n[5 rows x 40 columns]",
      "text/html": "<div>\n<style scoped>\n    .dataframe tbody tr th:only-of-type {\n        vertical-align: middle;\n    }\n\n    .dataframe tbody tr th {\n        vertical-align: top;\n    }\n\n    .dataframe thead tr th {\n        text-align: left;\n    }\n\n    .dataframe thead tr:last-of-type th {\n        text-align: right;\n    }\n</style>\n<table border=\"1\" class=\"dataframe\">\n  <thead>\n    <tr>\n      <th>tuple</th>\n      <th colspan=\"10\" halign=\"left\">action</th>\n      <th>...</th>\n      <th colspan=\"10\" halign=\"left\">state</th>\n    </tr>\n    <tr>\n      <th>measurement</th>\n      <th colspan=\"5\" halign=\"left\">50</th>\n      <th colspan=\"5\" halign=\"left\">60</th>\n      <th>...</th>\n      <th colspan=\"2\" halign=\"left\">brake</th>\n      <th colspan=\"4\" halign=\"left\">thrust</th>\n      <th colspan=\"4\" halign=\"left\">velocity</th>\n    </tr>\n    <tr>\n      <th>timestep</th>\n      <th colspan=\"5\" halign=\"left\">2023-06-12 17:03:03.683607</th>\n      <th colspan=\"5\" halign=\"left\">2023-06-12 17:03:03.703607</th>\n      <th>...</th>\n      <th>2023-06-12 17:03:03.623607</th>\n      <th>2023-06-12 17:03:03.643607</th>\n      <th>2023-06-12 17:03:03.583607</th>\n      <th>2023-06-12 17:03:03.603607</th>\n      <th>2023-06-12 17:03:03.623607</th>\n      <th>2023-06-12 17:03:03.643607</th>\n      <th>2023-06-12 17:03:03.583607</th>\n      <th>2023-06-12 17:03:03.603607</th>\n      <th>2023-06-12 17:03:03.623607</th>\n      <th>2023-06-12 17:03:03.643607</th>\n    </tr>\n    <tr>\n      <th>extra</th>\n      <th>0.0</th>\n      <th>0.25</th>\n      <th>0.5</th>\n      <th>0.75</th>\n      <th>1.0</th>\n      <th>0.0</th>\n      <th>0.25</th>\n      <th>0.5</th>\n      <th>0.75</th>\n      <th>1.0</th>\n      <th>...</th>\n      <th></th>\n      <th></th>\n      <th></th>\n      <th></th>\n      <th></th>\n      <th></th>\n      <th></th>\n      <th></th>\n      <th></th>\n      <th></th>\n    </tr>\n    <tr>\n      <th>timestamp</th>\n      <th></th>\n      <th></th>\n      <th></th>\n      <th></th>\n      <th></th>\n      <th></th>\n      <th></th>\n      <th></th>\n      <th></th>\n      <th></th>\n      <th></th>\n      <th></th>\n      <th></th>\n      <th></th>\n      <th></th>\n      <th></th>\n      <th></th>\n      <th></th>\n      <th></th>\n      <th></th>\n      <th></th>\n    </tr>\n  </thead>\n  <tbody>\n    <tr>\n      <th>2023-06-12 18:03:03.583607</th>\n      <td>13.0</td>\n      <td>14.0</td>\n      <td>15.0</td>\n      <td>16.0</td>\n      <td>17.0</td>\n      <td>18.0</td>\n      <td>19.0</td>\n      <td>20.0</td>\n      <td>21.0</td>\n      <td>22.0</td>\n      <td>...</td>\n      <td>10</td>\n      <td>11</td>\n      <td>4</td>\n      <td>5</td>\n      <td>6</td>\n      <td>7</td>\n      <td>0</td>\n      <td>1</td>\n      <td>2</td>\n      <td>3</td>\n    </tr>\n    <tr>\n      <th>2023-06-12 19:03:03.583607</th>\n      <td>13.0</td>\n      <td>14.0</td>\n      <td>15.0</td>\n      <td>16.0</td>\n      <td>17.0</td>\n      <td>18.0</td>\n      <td>19.0</td>\n      <td>20.0</td>\n      <td>21.0</td>\n      <td>22.0</td>\n      <td>...</td>\n      <td>10</td>\n      <td>11</td>\n      <td>4</td>\n      <td>5</td>\n      <td>6</td>\n      <td>7</td>\n      <td>0</td>\n      <td>1</td>\n      <td>2</td>\n      <td>3</td>\n    </tr>\n    <tr>\n      <th>2023-06-12 20:03:03.583607</th>\n      <td>13.0</td>\n      <td>14.0</td>\n      <td>15.0</td>\n      <td>16.0</td>\n      <td>17.0</td>\n      <td>18.0</td>\n      <td>19.0</td>\n      <td>20.0</td>\n      <td>21.0</td>\n      <td>22.0</td>\n      <td>...</td>\n      <td>10</td>\n      <td>11</td>\n      <td>4</td>\n      <td>5</td>\n      <td>6</td>\n      <td>7</td>\n      <td>0</td>\n      <td>1</td>\n      <td>2</td>\n      <td>3</td>\n    </tr>\n    <tr>\n      <th>2023-06-12 21:03:03.583607</th>\n      <td>13.0</td>\n      <td>14.0</td>\n      <td>15.0</td>\n      <td>16.0</td>\n      <td>17.0</td>\n      <td>18.0</td>\n      <td>19.0</td>\n      <td>20.0</td>\n      <td>21.0</td>\n      <td>22.0</td>\n      <td>...</td>\n      <td>10</td>\n      <td>11</td>\n      <td>4</td>\n      <td>5</td>\n      <td>6</td>\n      <td>7</td>\n      <td>0</td>\n      <td>1</td>\n      <td>2</td>\n      <td>3</td>\n    </tr>\n    <tr>\n      <th>2023-06-12 22:03:03.583607</th>\n      <td>13.0</td>\n      <td>14.0</td>\n      <td>15.0</td>\n      <td>16.0</td>\n      <td>17.0</td>\n      <td>18.0</td>\n      <td>19.0</td>\n      <td>20.0</td>\n      <td>21.0</td>\n      <td>22.0</td>\n      <td>...</td>\n      <td>10</td>\n      <td>11</td>\n      <td>4</td>\n      <td>5</td>\n      <td>6</td>\n      <td>7</td>\n      <td>0</td>\n      <td>1</td>\n      <td>2</td>\n      <td>3</td>\n    </tr>\n  </tbody>\n</table>\n<p>5 rows × 40 columns</p>\n</div>"
     },
     "execution_count": 42,
     "metadata": {},
     "output_type": "execute_result"
    }
   ],
   "source": [
    "dfs_episode1 = dfs_epi.copy().sort_index(axis=1)\n",
    "dfs_episode1.set_index(('timestamp', '', 0, ''), inplace=True)\n",
    "dfs_episode1.index.name = 'timestamp'\n",
    "idx = pd.IndexSlice\n",
    "dfs_episode1"
   ],
   "metadata": {
    "collapsed": false,
    "ExecuteTime": {
     "end_time": "2023-06-12T09:15:19.411878898Z",
     "start_time": "2023-06-12T09:15:19.393648992Z"
    }
   }
  },
  {
   "cell_type": "code",
   "execution_count": 43,
   "outputs": [
    {
     "data": {
      "text/plain": "tuple                                          action                     \nmeasurement                                        50                     \ntimestep                   2023-06-12 17:03:03.683607                     \nextra                                             0.0 0.25 0.5 0.75 1.0   \ntimestamp                                                                 \n2023-06-12 18:03:03.583607                         13   14  15   16  17  \\\n2023-06-12 19:03:03.583607                         13   14  15   16  17   \n2023-06-12 20:03:03.583607                         13   14  15   16  17   \n2023-06-12 21:03:03.583607                         13   14  15   16  17   \n2023-06-12 22:03:03.583607                         13   14  15   16  17   \n\ntuple                                                                    ...   \nmeasurement                                        60                    ...   \ntimestep                   2023-06-12 17:03:03.703607                    ...   \nextra                                             0.0 0.25 0.5 0.75 1.0  ...   \ntimestamp                                                                ...   \n2023-06-12 18:03:03.583607                         18   19  20   21  22  ...  \\\n2023-06-12 19:03:03.583607                         18   19  20   21  22  ...   \n2023-06-12 20:03:03.583607                         18   19  20   21  22  ...   \n2023-06-12 21:03:03.583607                         18   19  20   21  22  ...   \n2023-06-12 22:03:03.583607                         18   19  20   21  22  ...   \n\ntuple                                           state   \nmeasurement                                     brake   \ntimestep                   2023-06-12 17:03:03.623607   \nextra                                                   \ntimestamp                                               \n2023-06-12 18:03:03.583607                         10  \\\n2023-06-12 19:03:03.583607                         10   \n2023-06-12 20:03:03.583607                         10   \n2023-06-12 21:03:03.583607                         10   \n2023-06-12 22:03:03.583607                         10   \n\ntuple                                                   \nmeasurement                                             \ntimestep                   2023-06-12 17:03:03.643607   \nextra                                                   \ntimestamp                                               \n2023-06-12 18:03:03.583607                         11  \\\n2023-06-12 19:03:03.583607                         11   \n2023-06-12 20:03:03.583607                         11   \n2023-06-12 21:03:03.583607                         11   \n2023-06-12 22:03:03.583607                         11   \n\ntuple                                                   \nmeasurement                                    thrust   \ntimestep                   2023-06-12 17:03:03.583607   \nextra                                                   \ntimestamp                                               \n2023-06-12 18:03:03.583607                          4  \\\n2023-06-12 19:03:03.583607                          4   \n2023-06-12 20:03:03.583607                          4   \n2023-06-12 21:03:03.583607                          4   \n2023-06-12 22:03:03.583607                          4   \n\ntuple                                                   \nmeasurement                                             \ntimestep                   2023-06-12 17:03:03.603607   \nextra                                                   \ntimestamp                                               \n2023-06-12 18:03:03.583607                          5  \\\n2023-06-12 19:03:03.583607                          5   \n2023-06-12 20:03:03.583607                          5   \n2023-06-12 21:03:03.583607                          5   \n2023-06-12 22:03:03.583607                          5   \n\ntuple                                                   \nmeasurement                                             \ntimestep                   2023-06-12 17:03:03.623607   \nextra                                                   \ntimestamp                                               \n2023-06-12 18:03:03.583607                          6  \\\n2023-06-12 19:03:03.583607                          6   \n2023-06-12 20:03:03.583607                          6   \n2023-06-12 21:03:03.583607                          6   \n2023-06-12 22:03:03.583607                          6   \n\ntuple                                                   \nmeasurement                                             \ntimestep                   2023-06-12 17:03:03.643607   \nextra                                                   \ntimestamp                                               \n2023-06-12 18:03:03.583607                          7  \\\n2023-06-12 19:03:03.583607                          7   \n2023-06-12 20:03:03.583607                          7   \n2023-06-12 21:03:03.583607                          7   \n2023-06-12 22:03:03.583607                          7   \n\ntuple                                                   \nmeasurement                                  velocity   \ntimestep                   2023-06-12 17:03:03.583607   \nextra                                                   \ntimestamp                                               \n2023-06-12 18:03:03.583607                          0  \\\n2023-06-12 19:03:03.583607                          0   \n2023-06-12 20:03:03.583607                          0   \n2023-06-12 21:03:03.583607                          0   \n2023-06-12 22:03:03.583607                          0   \n\ntuple                                                   \nmeasurement                                             \ntimestep                   2023-06-12 17:03:03.603607   \nextra                                                   \ntimestamp                                               \n2023-06-12 18:03:03.583607                          1  \\\n2023-06-12 19:03:03.583607                          1   \n2023-06-12 20:03:03.583607                          1   \n2023-06-12 21:03:03.583607                          1   \n2023-06-12 22:03:03.583607                          1   \n\ntuple                                                   \nmeasurement                                             \ntimestep                   2023-06-12 17:03:03.623607   \nextra                                                   \ntimestamp                                               \n2023-06-12 18:03:03.583607                          2  \\\n2023-06-12 19:03:03.583607                          2   \n2023-06-12 20:03:03.583607                          2   \n2023-06-12 21:03:03.583607                          2   \n2023-06-12 22:03:03.583607                          2   \n\ntuple                                                  \nmeasurement                                            \ntimestep                   2023-06-12 17:03:03.643607  \nextra                                                  \ntimestamp                                              \n2023-06-12 18:03:03.583607                          3  \n2023-06-12 19:03:03.583607                          3  \n2023-06-12 20:03:03.583607                          3  \n2023-06-12 21:03:03.583607                          3  \n2023-06-12 22:03:03.583607                          3  \n\n[5 rows x 40 columns]",
      "text/html": "<div>\n<style scoped>\n    .dataframe tbody tr th:only-of-type {\n        vertical-align: middle;\n    }\n\n    .dataframe tbody tr th {\n        vertical-align: top;\n    }\n\n    .dataframe thead tr th {\n        text-align: left;\n    }\n\n    .dataframe thead tr:last-of-type th {\n        text-align: right;\n    }\n</style>\n<table border=\"1\" class=\"dataframe\">\n  <thead>\n    <tr>\n      <th>tuple</th>\n      <th colspan=\"10\" halign=\"left\">action</th>\n      <th>...</th>\n      <th colspan=\"10\" halign=\"left\">state</th>\n    </tr>\n    <tr>\n      <th>measurement</th>\n      <th colspan=\"5\" halign=\"left\">50</th>\n      <th colspan=\"5\" halign=\"left\">60</th>\n      <th>...</th>\n      <th colspan=\"2\" halign=\"left\">brake</th>\n      <th colspan=\"4\" halign=\"left\">thrust</th>\n      <th colspan=\"4\" halign=\"left\">velocity</th>\n    </tr>\n    <tr>\n      <th>timestep</th>\n      <th colspan=\"5\" halign=\"left\">2023-06-12 17:03:03.683607</th>\n      <th colspan=\"5\" halign=\"left\">2023-06-12 17:03:03.703607</th>\n      <th>...</th>\n      <th>2023-06-12 17:03:03.623607</th>\n      <th>2023-06-12 17:03:03.643607</th>\n      <th>2023-06-12 17:03:03.583607</th>\n      <th>2023-06-12 17:03:03.603607</th>\n      <th>2023-06-12 17:03:03.623607</th>\n      <th>2023-06-12 17:03:03.643607</th>\n      <th>2023-06-12 17:03:03.583607</th>\n      <th>2023-06-12 17:03:03.603607</th>\n      <th>2023-06-12 17:03:03.623607</th>\n      <th>2023-06-12 17:03:03.643607</th>\n    </tr>\n    <tr>\n      <th>extra</th>\n      <th>0.0</th>\n      <th>0.25</th>\n      <th>0.5</th>\n      <th>0.75</th>\n      <th>1.0</th>\n      <th>0.0</th>\n      <th>0.25</th>\n      <th>0.5</th>\n      <th>0.75</th>\n      <th>1.0</th>\n      <th>...</th>\n      <th></th>\n      <th></th>\n      <th></th>\n      <th></th>\n      <th></th>\n      <th></th>\n      <th></th>\n      <th></th>\n      <th></th>\n      <th></th>\n    </tr>\n    <tr>\n      <th>timestamp</th>\n      <th></th>\n      <th></th>\n      <th></th>\n      <th></th>\n      <th></th>\n      <th></th>\n      <th></th>\n      <th></th>\n      <th></th>\n      <th></th>\n      <th></th>\n      <th></th>\n      <th></th>\n      <th></th>\n      <th></th>\n      <th></th>\n      <th></th>\n      <th></th>\n      <th></th>\n      <th></th>\n      <th></th>\n    </tr>\n  </thead>\n  <tbody>\n    <tr>\n      <th>2023-06-12 18:03:03.583607</th>\n      <td>13</td>\n      <td>14</td>\n      <td>15</td>\n      <td>16</td>\n      <td>17</td>\n      <td>18</td>\n      <td>19</td>\n      <td>20</td>\n      <td>21</td>\n      <td>22</td>\n      <td>...</td>\n      <td>10</td>\n      <td>11</td>\n      <td>4</td>\n      <td>5</td>\n      <td>6</td>\n      <td>7</td>\n      <td>0</td>\n      <td>1</td>\n      <td>2</td>\n      <td>3</td>\n    </tr>\n    <tr>\n      <th>2023-06-12 19:03:03.583607</th>\n      <td>13</td>\n      <td>14</td>\n      <td>15</td>\n      <td>16</td>\n      <td>17</td>\n      <td>18</td>\n      <td>19</td>\n      <td>20</td>\n      <td>21</td>\n      <td>22</td>\n      <td>...</td>\n      <td>10</td>\n      <td>11</td>\n      <td>4</td>\n      <td>5</td>\n      <td>6</td>\n      <td>7</td>\n      <td>0</td>\n      <td>1</td>\n      <td>2</td>\n      <td>3</td>\n    </tr>\n    <tr>\n      <th>2023-06-12 20:03:03.583607</th>\n      <td>13</td>\n      <td>14</td>\n      <td>15</td>\n      <td>16</td>\n      <td>17</td>\n      <td>18</td>\n      <td>19</td>\n      <td>20</td>\n      <td>21</td>\n      <td>22</td>\n      <td>...</td>\n      <td>10</td>\n      <td>11</td>\n      <td>4</td>\n      <td>5</td>\n      <td>6</td>\n      <td>7</td>\n      <td>0</td>\n      <td>1</td>\n      <td>2</td>\n      <td>3</td>\n    </tr>\n    <tr>\n      <th>2023-06-12 21:03:03.583607</th>\n      <td>13</td>\n      <td>14</td>\n      <td>15</td>\n      <td>16</td>\n      <td>17</td>\n      <td>18</td>\n      <td>19</td>\n      <td>20</td>\n      <td>21</td>\n      <td>22</td>\n      <td>...</td>\n      <td>10</td>\n      <td>11</td>\n      <td>4</td>\n      <td>5</td>\n      <td>6</td>\n      <td>7</td>\n      <td>0</td>\n      <td>1</td>\n      <td>2</td>\n      <td>3</td>\n    </tr>\n    <tr>\n      <th>2023-06-12 22:03:03.583607</th>\n      <td>13</td>\n      <td>14</td>\n      <td>15</td>\n      <td>16</td>\n      <td>17</td>\n      <td>18</td>\n      <td>19</td>\n      <td>20</td>\n      <td>21</td>\n      <td>22</td>\n      <td>...</td>\n      <td>10</td>\n      <td>11</td>\n      <td>4</td>\n      <td>5</td>\n      <td>6</td>\n      <td>7</td>\n      <td>0</td>\n      <td>1</td>\n      <td>2</td>\n      <td>3</td>\n    </tr>\n  </tbody>\n</table>\n<p>5 rows × 40 columns</p>\n</div>"
     },
     "execution_count": 43,
     "metadata": {},
     "output_type": "execute_result"
    },
    {
     "data": {
      "text/plain": "tuple   measurement  timestep                    extra\naction  50           2023-06-12 17:03:03.683607  0.0      object\n                                                 0.25     object\n                                                 0.5      object\n                                                 0.75     object\n                                                 1.0      object\n        60           2023-06-12 17:03:03.703607  0.0      object\n                                                 0.25     object\n                                                 0.5      object\n                                                 0.75     object\n                                                 1.0      object\n        70           2023-06-12 17:03:03.723607  0.0      object\n                                                 0.25     object\n                                                 0.5      object\n                                                 0.75     object\n                                                 1.0      object\nnstate  brake        2023-06-12 17:03:08.583607           object\n                     2023-06-12 17:03:08.603607           object\n                     2023-06-12 17:03:08.623607           object\n                     2023-06-12 17:03:08.643607           object\n        thrust       2023-06-12 17:03:08.583607           object\n                     2023-06-12 17:03:08.603607           object\n                     2023-06-12 17:03:08.623607           object\n                     2023-06-12 17:03:08.643607           object\n        velocity     2023-06-12 17:03:08.583607           object\n                     2023-06-12 17:03:08.603607           object\n                     2023-06-12 17:03:08.623607           object\n                     2023-06-12 17:03:08.643607           object\nreward               0                                    object\nstate   brake        2023-06-12 17:03:03.583607           object\n                     2023-06-12 17:03:03.603607           object\n                     2023-06-12 17:03:03.623607           object\n                     2023-06-12 17:03:03.643607           object\n        thrust       2023-06-12 17:03:03.583607           object\n                     2023-06-12 17:03:03.603607           object\n                     2023-06-12 17:03:03.623607           object\n                     2023-06-12 17:03:03.643607           object\n        velocity     2023-06-12 17:03:03.583607           object\n                     2023-06-12 17:03:03.603607           object\n                     2023-06-12 17:03:03.623607           object\n                     2023-06-12 17:03:03.643607           object\ndtype: object"
     },
     "execution_count": 43,
     "metadata": {},
     "output_type": "execute_result"
    },
    {
     "data": {
      "text/plain": "MultiIndex([('action',         50, 2023-06-12 17:03:03.683607,  0.0),\n            ('action',         50, 2023-06-12 17:03:03.683607, 0.25),\n            ('action',         50, 2023-06-12 17:03:03.683607,  0.5),\n            ('action',         50, 2023-06-12 17:03:03.683607, 0.75),\n            ('action',         50, 2023-06-12 17:03:03.683607,  1.0),\n            ('action',         60, 2023-06-12 17:03:03.703607,  0.0),\n            ('action',         60, 2023-06-12 17:03:03.703607, 0.25),\n            ('action',         60, 2023-06-12 17:03:03.703607,  0.5),\n            ('action',         60, 2023-06-12 17:03:03.703607, 0.75),\n            ('action',         60, 2023-06-12 17:03:03.703607,  1.0),\n            ('action',         70, 2023-06-12 17:03:03.723607,  0.0),\n            ('action',         70, 2023-06-12 17:03:03.723607, 0.25),\n            ('action',         70, 2023-06-12 17:03:03.723607,  0.5),\n            ('action',         70, 2023-06-12 17:03:03.723607, 0.75),\n            ('action',         70, 2023-06-12 17:03:03.723607,  1.0),\n            ('nstate',    'brake', 2023-06-12 17:03:08.583607,   ''),\n            ('nstate',    'brake', 2023-06-12 17:03:08.603607,   ''),\n            ('nstate',    'brake', 2023-06-12 17:03:08.623607,   ''),\n            ('nstate',    'brake', 2023-06-12 17:03:08.643607,   ''),\n            ('nstate',   'thrust', 2023-06-12 17:03:08.583607,   ''),\n            ('nstate',   'thrust', 2023-06-12 17:03:08.603607,   ''),\n            ('nstate',   'thrust', 2023-06-12 17:03:08.623607,   ''),\n            ('nstate',   'thrust', 2023-06-12 17:03:08.643607,   ''),\n            ('nstate', 'velocity', 2023-06-12 17:03:08.583607,   ''),\n            ('nstate', 'velocity', 2023-06-12 17:03:08.603607,   ''),\n            ('nstate', 'velocity', 2023-06-12 17:03:08.623607,   ''),\n            ('nstate', 'velocity', 2023-06-12 17:03:08.643607,   ''),\n            ('reward',         '',                          0,   ''),\n            ( 'state',    'brake', 2023-06-12 17:03:03.583607,   ''),\n            ( 'state',    'brake', 2023-06-12 17:03:03.603607,   ''),\n            ( 'state',    'brake', 2023-06-12 17:03:03.623607,   ''),\n            ( 'state',    'brake', 2023-06-12 17:03:03.643607,   ''),\n            ( 'state',   'thrust', 2023-06-12 17:03:03.583607,   ''),\n            ( 'state',   'thrust', 2023-06-12 17:03:03.603607,   ''),\n            ( 'state',   'thrust', 2023-06-12 17:03:03.623607,   ''),\n            ( 'state',   'thrust', 2023-06-12 17:03:03.643607,   ''),\n            ( 'state', 'velocity', 2023-06-12 17:03:03.583607,   ''),\n            ( 'state', 'velocity', 2023-06-12 17:03:03.603607,   ''),\n            ( 'state', 'velocity', 2023-06-12 17:03:03.623607,   ''),\n            ( 'state', 'velocity', 2023-06-12 17:03:03.643607,   '')],\n           names=['tuple', 'measurement', 'timestep', 'extra'])"
     },
     "execution_count": 43,
     "metadata": {},
     "output_type": "execute_result"
    }
   ],
   "source": [
    "dfs_episode1.loc[:, idx['action':'state', :, :, :]] = dfs_episode1.loc[\n",
    "    :, idx['action':'state', :, :, :]\n",
    "].astype('int')\n",
    "dfs_episode1\n",
    "dfs_episode1.dtypes\n",
    "dfs_episode1.columns"
   ],
   "metadata": {
    "collapsed": false,
    "ExecuteTime": {
     "end_time": "2023-06-12T09:16:16.101166397Z",
     "start_time": "2023-06-12T09:16:16.039881202Z"
    }
   }
  },
  {
   "cell_type": "code",
   "execution_count": 44,
   "outputs": [
    {
     "data": {
      "text/plain": "tuple                                           state   \nmeasurement                                     brake   \ntimestep                   2023-06-12 17:03:03.583607   \nextra                                                   \ntimestamp                                               \n2023-06-12 18:03:03.583607                        8.0  \\\n2023-06-12 19:03:03.583607                        8.0   \n2023-06-12 20:03:03.583607                        8.0   \n2023-06-12 21:03:03.583607                        8.0   \n2023-06-12 22:03:03.583607                        8.0   \n\ntuple                                                   \nmeasurement                                             \ntimestep                   2023-06-12 17:03:03.603607   \nextra                                                   \ntimestamp                                               \n2023-06-12 18:03:03.583607                        9.0  \\\n2023-06-12 19:03:03.583607                        9.0   \n2023-06-12 20:03:03.583607                        9.0   \n2023-06-12 21:03:03.583607                        9.0   \n2023-06-12 22:03:03.583607                        9.0   \n\ntuple                                                   \nmeasurement                                             \ntimestep                   2023-06-12 17:03:03.623607   \nextra                                                   \ntimestamp                                               \n2023-06-12 18:03:03.583607                       10.0  \\\n2023-06-12 19:03:03.583607                       10.0   \n2023-06-12 20:03:03.583607                       10.0   \n2023-06-12 21:03:03.583607                       10.0   \n2023-06-12 22:03:03.583607                       10.0   \n\ntuple                                                   \nmeasurement                                             \ntimestep                   2023-06-12 17:03:03.643607   \nextra                                                   \ntimestamp                                               \n2023-06-12 18:03:03.583607                       11.0  \\\n2023-06-12 19:03:03.583607                       11.0   \n2023-06-12 20:03:03.583607                       11.0   \n2023-06-12 21:03:03.583607                       11.0   \n2023-06-12 22:03:03.583607                       11.0   \n\ntuple                                                   \nmeasurement                                    thrust   \ntimestep                   2023-06-12 17:03:03.583607   \nextra                                                   \ntimestamp                                               \n2023-06-12 18:03:03.583607                        4.0  \\\n2023-06-12 19:03:03.583607                        4.0   \n2023-06-12 20:03:03.583607                        4.0   \n2023-06-12 21:03:03.583607                        4.0   \n2023-06-12 22:03:03.583607                        4.0   \n\ntuple                                                   \nmeasurement                                             \ntimestep                   2023-06-12 17:03:03.603607   \nextra                                                   \ntimestamp                                               \n2023-06-12 18:03:03.583607                        5.0  \\\n2023-06-12 19:03:03.583607                        5.0   \n2023-06-12 20:03:03.583607                        5.0   \n2023-06-12 21:03:03.583607                        5.0   \n2023-06-12 22:03:03.583607                        5.0   \n\ntuple                                                   \nmeasurement                                             \ntimestep                   2023-06-12 17:03:03.623607   \nextra                                                   \ntimestamp                                               \n2023-06-12 18:03:03.583607                        6.0  \\\n2023-06-12 19:03:03.583607                        6.0   \n2023-06-12 20:03:03.583607                        6.0   \n2023-06-12 21:03:03.583607                        6.0   \n2023-06-12 22:03:03.583607                        6.0   \n\ntuple                                                   \nmeasurement                                             \ntimestep                   2023-06-12 17:03:03.643607   \nextra                                                   \ntimestamp                                               \n2023-06-12 18:03:03.583607                        7.0  \\\n2023-06-12 19:03:03.583607                        7.0   \n2023-06-12 20:03:03.583607                        7.0   \n2023-06-12 21:03:03.583607                        7.0   \n2023-06-12 22:03:03.583607                        7.0   \n\ntuple                                                   \nmeasurement                                  velocity   \ntimestep                   2023-06-12 17:03:03.583607   \nextra                                                   \ntimestamp                                               \n2023-06-12 18:03:03.583607                        0.0  \\\n2023-06-12 19:03:03.583607                        0.0   \n2023-06-12 20:03:03.583607                        0.0   \n2023-06-12 21:03:03.583607                        0.0   \n2023-06-12 22:03:03.583607                        0.0   \n\ntuple                                                  ...   \nmeasurement                                            ...   \ntimestep                   2023-06-12 17:03:03.603607  ...   \nextra                                                  ...   \ntimestamp                                              ...   \n2023-06-12 18:03:03.583607                        1.0  ...  \\\n2023-06-12 19:03:03.583607                        1.0  ...   \n2023-06-12 20:03:03.583607                        1.0  ...   \n2023-06-12 21:03:03.583607                        1.0  ...   \n2023-06-12 22:03:03.583607                        1.0  ...   \n\ntuple                                          nstate   \nmeasurement                                     brake   \ntimestep                   2023-06-12 17:03:08.623607   \nextra                                                   \ntimestamp                                               \n2023-06-12 18:03:03.583607                       38.0  \\\n2023-06-12 19:03:03.583607                       38.0   \n2023-06-12 20:03:03.583607                       38.0   \n2023-06-12 21:03:03.583607                       38.0   \n2023-06-12 22:03:03.583607                       38.0   \n\ntuple                                                   \nmeasurement                                             \ntimestep                   2023-06-12 17:03:08.643607   \nextra                                                   \ntimestamp                                               \n2023-06-12 18:03:03.583607                       39.0  \\\n2023-06-12 19:03:03.583607                       39.0   \n2023-06-12 20:03:03.583607                       39.0   \n2023-06-12 21:03:03.583607                       39.0   \n2023-06-12 22:03:03.583607                       39.0   \n\ntuple                                                   \nmeasurement                                    thrust   \ntimestep                   2023-06-12 17:03:08.583607   \nextra                                                   \ntimestamp                                               \n2023-06-12 18:03:03.583607                       32.0  \\\n2023-06-12 19:03:03.583607                       32.0   \n2023-06-12 20:03:03.583607                       32.0   \n2023-06-12 21:03:03.583607                       32.0   \n2023-06-12 22:03:03.583607                       32.0   \n\ntuple                                                   \nmeasurement                                             \ntimestep                   2023-06-12 17:03:08.603607   \nextra                                                   \ntimestamp                                               \n2023-06-12 18:03:03.583607                       33.0  \\\n2023-06-12 19:03:03.583607                       33.0   \n2023-06-12 20:03:03.583607                       33.0   \n2023-06-12 21:03:03.583607                       33.0   \n2023-06-12 22:03:03.583607                       33.0   \n\ntuple                                                   \nmeasurement                                             \ntimestep                   2023-06-12 17:03:08.623607   \nextra                                                   \ntimestamp                                               \n2023-06-12 18:03:03.583607                       34.0  \\\n2023-06-12 19:03:03.583607                       34.0   \n2023-06-12 20:03:03.583607                       34.0   \n2023-06-12 21:03:03.583607                       34.0   \n2023-06-12 22:03:03.583607                       34.0   \n\ntuple                                                   \nmeasurement                                             \ntimestep                   2023-06-12 17:03:08.643607   \nextra                                                   \ntimestamp                                               \n2023-06-12 18:03:03.583607                       35.0  \\\n2023-06-12 19:03:03.583607                       35.0   \n2023-06-12 20:03:03.583607                       35.0   \n2023-06-12 21:03:03.583607                       35.0   \n2023-06-12 22:03:03.583607                       35.0   \n\ntuple                                                   \nmeasurement                                  velocity   \ntimestep                   2023-06-12 17:03:08.583607   \nextra                                                   \ntimestamp                                               \n2023-06-12 18:03:03.583607                       28.0  \\\n2023-06-12 19:03:03.583607                       28.0   \n2023-06-12 20:03:03.583607                       28.0   \n2023-06-12 21:03:03.583607                       28.0   \n2023-06-12 22:03:03.583607                       28.0   \n\ntuple                                                   \nmeasurement                                             \ntimestep                   2023-06-12 17:03:08.603607   \nextra                                                   \ntimestamp                                               \n2023-06-12 18:03:03.583607                       29.0  \\\n2023-06-12 19:03:03.583607                       29.0   \n2023-06-12 20:03:03.583607                       29.0   \n2023-06-12 21:03:03.583607                       29.0   \n2023-06-12 22:03:03.583607                       29.0   \n\ntuple                                                   \nmeasurement                                             \ntimestep                   2023-06-12 17:03:08.623607   \nextra                                                   \ntimestamp                                               \n2023-06-12 18:03:03.583607                       30.0  \\\n2023-06-12 19:03:03.583607                       30.0   \n2023-06-12 20:03:03.583607                       30.0   \n2023-06-12 21:03:03.583607                       30.0   \n2023-06-12 22:03:03.583607                       30.0   \n\ntuple                                                  \nmeasurement                                            \ntimestep                   2023-06-12 17:03:08.643607  \nextra                                                  \ntimestamp                                              \n2023-06-12 18:03:03.583607                       31.0  \n2023-06-12 19:03:03.583607                       31.0  \n2023-06-12 20:03:03.583607                       31.0  \n2023-06-12 21:03:03.583607                       31.0  \n2023-06-12 22:03:03.583607                       31.0  \n\n[5 rows x 40 columns]",
      "text/html": "<div>\n<style scoped>\n    .dataframe tbody tr th:only-of-type {\n        vertical-align: middle;\n    }\n\n    .dataframe tbody tr th {\n        vertical-align: top;\n    }\n\n    .dataframe thead tr th {\n        text-align: left;\n    }\n\n    .dataframe thead tr:last-of-type th {\n        text-align: right;\n    }\n</style>\n<table border=\"1\" class=\"dataframe\">\n  <thead>\n    <tr>\n      <th>tuple</th>\n      <th colspan=\"10\" halign=\"left\">state</th>\n      <th>...</th>\n      <th colspan=\"10\" halign=\"left\">nstate</th>\n    </tr>\n    <tr>\n      <th>measurement</th>\n      <th colspan=\"4\" halign=\"left\">brake</th>\n      <th colspan=\"4\" halign=\"left\">thrust</th>\n      <th colspan=\"2\" halign=\"left\">velocity</th>\n      <th>...</th>\n      <th colspan=\"2\" halign=\"left\">brake</th>\n      <th colspan=\"4\" halign=\"left\">thrust</th>\n      <th colspan=\"4\" halign=\"left\">velocity</th>\n    </tr>\n    <tr>\n      <th>timestep</th>\n      <th>2023-06-12 17:03:03.583607</th>\n      <th>2023-06-12 17:03:03.603607</th>\n      <th>2023-06-12 17:03:03.623607</th>\n      <th>2023-06-12 17:03:03.643607</th>\n      <th>2023-06-12 17:03:03.583607</th>\n      <th>2023-06-12 17:03:03.603607</th>\n      <th>2023-06-12 17:03:03.623607</th>\n      <th>2023-06-12 17:03:03.643607</th>\n      <th>2023-06-12 17:03:03.583607</th>\n      <th>2023-06-12 17:03:03.603607</th>\n      <th>...</th>\n      <th>2023-06-12 17:03:08.623607</th>\n      <th>2023-06-12 17:03:08.643607</th>\n      <th>2023-06-12 17:03:08.583607</th>\n      <th>2023-06-12 17:03:08.603607</th>\n      <th>2023-06-12 17:03:08.623607</th>\n      <th>2023-06-12 17:03:08.643607</th>\n      <th>2023-06-12 17:03:08.583607</th>\n      <th>2023-06-12 17:03:08.603607</th>\n      <th>2023-06-12 17:03:08.623607</th>\n      <th>2023-06-12 17:03:08.643607</th>\n    </tr>\n    <tr>\n      <th>extra</th>\n      <th></th>\n      <th></th>\n      <th></th>\n      <th></th>\n      <th></th>\n      <th></th>\n      <th></th>\n      <th></th>\n      <th></th>\n      <th></th>\n      <th>...</th>\n      <th></th>\n      <th></th>\n      <th></th>\n      <th></th>\n      <th></th>\n      <th></th>\n      <th></th>\n      <th></th>\n      <th></th>\n      <th></th>\n    </tr>\n    <tr>\n      <th>timestamp</th>\n      <th></th>\n      <th></th>\n      <th></th>\n      <th></th>\n      <th></th>\n      <th></th>\n      <th></th>\n      <th></th>\n      <th></th>\n      <th></th>\n      <th></th>\n      <th></th>\n      <th></th>\n      <th></th>\n      <th></th>\n      <th></th>\n      <th></th>\n      <th></th>\n      <th></th>\n      <th></th>\n      <th></th>\n    </tr>\n  </thead>\n  <tbody>\n    <tr>\n      <th>2023-06-12 18:03:03.583607</th>\n      <td>8.0</td>\n      <td>9.0</td>\n      <td>10.0</td>\n      <td>11.0</td>\n      <td>4.0</td>\n      <td>5.0</td>\n      <td>6.0</td>\n      <td>7.0</td>\n      <td>0.0</td>\n      <td>1.0</td>\n      <td>...</td>\n      <td>38.0</td>\n      <td>39.0</td>\n      <td>32.0</td>\n      <td>33.0</td>\n      <td>34.0</td>\n      <td>35.0</td>\n      <td>28.0</td>\n      <td>29.0</td>\n      <td>30.0</td>\n      <td>31.0</td>\n    </tr>\n    <tr>\n      <th>2023-06-12 19:03:03.583607</th>\n      <td>8.0</td>\n      <td>9.0</td>\n      <td>10.0</td>\n      <td>11.0</td>\n      <td>4.0</td>\n      <td>5.0</td>\n      <td>6.0</td>\n      <td>7.0</td>\n      <td>0.0</td>\n      <td>1.0</td>\n      <td>...</td>\n      <td>38.0</td>\n      <td>39.0</td>\n      <td>32.0</td>\n      <td>33.0</td>\n      <td>34.0</td>\n      <td>35.0</td>\n      <td>28.0</td>\n      <td>29.0</td>\n      <td>30.0</td>\n      <td>31.0</td>\n    </tr>\n    <tr>\n      <th>2023-06-12 20:03:03.583607</th>\n      <td>8.0</td>\n      <td>9.0</td>\n      <td>10.0</td>\n      <td>11.0</td>\n      <td>4.0</td>\n      <td>5.0</td>\n      <td>6.0</td>\n      <td>7.0</td>\n      <td>0.0</td>\n      <td>1.0</td>\n      <td>...</td>\n      <td>38.0</td>\n      <td>39.0</td>\n      <td>32.0</td>\n      <td>33.0</td>\n      <td>34.0</td>\n      <td>35.0</td>\n      <td>28.0</td>\n      <td>29.0</td>\n      <td>30.0</td>\n      <td>31.0</td>\n    </tr>\n    <tr>\n      <th>2023-06-12 21:03:03.583607</th>\n      <td>8.0</td>\n      <td>9.0</td>\n      <td>10.0</td>\n      <td>11.0</td>\n      <td>4.0</td>\n      <td>5.0</td>\n      <td>6.0</td>\n      <td>7.0</td>\n      <td>0.0</td>\n      <td>1.0</td>\n      <td>...</td>\n      <td>38.0</td>\n      <td>39.0</td>\n      <td>32.0</td>\n      <td>33.0</td>\n      <td>34.0</td>\n      <td>35.0</td>\n      <td>28.0</td>\n      <td>29.0</td>\n      <td>30.0</td>\n      <td>31.0</td>\n    </tr>\n    <tr>\n      <th>2023-06-12 22:03:03.583607</th>\n      <td>8.0</td>\n      <td>9.0</td>\n      <td>10.0</td>\n      <td>11.0</td>\n      <td>4.0</td>\n      <td>5.0</td>\n      <td>6.0</td>\n      <td>7.0</td>\n      <td>0.0</td>\n      <td>1.0</td>\n      <td>...</td>\n      <td>38.0</td>\n      <td>39.0</td>\n      <td>32.0</td>\n      <td>33.0</td>\n      <td>34.0</td>\n      <td>35.0</td>\n      <td>28.0</td>\n      <td>29.0</td>\n      <td>30.0</td>\n      <td>31.0</td>\n    </tr>\n  </tbody>\n</table>\n<p>5 rows × 40 columns</p>\n</div>"
     },
     "execution_count": 44,
     "metadata": {},
     "output_type": "execute_result"
    },
    {
     "data": {
      "text/plain": "tuple   measurement  timestep                    extra\nstate   brake        2023-06-12 17:03:03.583607           float64\n                     2023-06-12 17:03:03.603607           float64\n                     2023-06-12 17:03:03.623607           float64\n                     2023-06-12 17:03:03.643607           float64\n        thrust       2023-06-12 17:03:03.583607           float64\n                     2023-06-12 17:03:03.603607           float64\n                     2023-06-12 17:03:03.623607           float64\n                     2023-06-12 17:03:03.643607           float64\n        velocity     2023-06-12 17:03:03.583607           float64\n                     2023-06-12 17:03:03.603607           float64\n                     2023-06-12 17:03:03.623607           float64\n                     2023-06-12 17:03:03.643607           float64\nreward               0                                    float64\naction  50           2023-06-12 17:03:03.683607  0.0      float64\n                                                 0.25     float64\n                                                 0.5      float64\n                                                 0.75     float64\n                                                 1.0      float64\n        60           2023-06-12 17:03:03.703607  0.0      float64\n                                                 0.25     float64\n                                                 0.5      float64\n                                                 0.75     float64\n                                                 1.0      float64\n        70           2023-06-12 17:03:03.723607  0.0      float64\n                                                 0.25     float64\n                                                 0.5      float64\n                                                 0.75     float64\n                                                 1.0      float64\nnstate  brake        2023-06-12 17:03:08.583607           float64\n                     2023-06-12 17:03:08.603607           float64\n                     2023-06-12 17:03:08.623607           float64\n                     2023-06-12 17:03:08.643607           float64\n        thrust       2023-06-12 17:03:08.583607           float64\n                     2023-06-12 17:03:08.603607           float64\n                     2023-06-12 17:03:08.623607           float64\n                     2023-06-12 17:03:08.643607           float64\n        velocity     2023-06-12 17:03:08.583607           float64\n                     2023-06-12 17:03:08.603607           float64\n                     2023-06-12 17:03:08.623607           float64\n                     2023-06-12 17:03:08.643607           float64\ndtype: object"
     },
     "execution_count": 44,
     "metadata": {},
     "output_type": "execute_result"
    }
   ],
   "source": [
    "dfs_episode = dfs_epi.copy()\n",
    "dfs_episode.set_index(('timestamp', '', 0, ''), inplace=True)\n",
    "dfs_episode.index.name = 'timestamp'\n",
    "idx = pd.IndexSlice\n",
    "\n",
    "# dfs_episode = dfs_episode.astype({idx['state', 'velocity', :]: 'int'})  # Error unhashable type: 'slice' for dictionary\n",
    "# sorted_idx = **(idx['state', :, :]:'int')\n",
    "# sorted_idx\n",
    "dfs_episode['state'] = dfs_episode['state'].astype(\n",
    "    'float'\n",
    ")  # float16 not allowed in parquet\n",
    "dfs_episode['action'] = dfs_episode['action'].astype('float')\n",
    "dfs_episode['reward'] = dfs_episode['reward'].astype('float')\n",
    "dfs_episode['nstate'] = dfs_episode['nstate'].astype('float')\n",
    "dfs_episode\n",
    "dfs_episode.dtypes\n",
    "# dfs_episode.columns\n",
    "# dfs_epi\n",
    "# dfs_episode\n"
   ],
   "metadata": {
    "collapsed": false,
    "ExecuteTime": {
     "end_time": "2023-06-12T09:16:48.938700300Z",
     "start_time": "2023-06-12T09:16:48.888690250Z"
    }
   }
  },
  {
   "cell_type": "markdown",
   "source": [
    "## prepend two levels of index \"vehicle\" and \"driver\" to the DataFrame object"
   ],
   "metadata": {
    "collapsed": false
   }
  },
  {
   "cell_type": "code",
   "execution_count": 45,
   "outputs": [],
   "source": [
    "dfs_episode = pd.concat(\n",
    "    [dfs_episode], keys=[drivers_by_id['wang-cheng'].pid], names=['driver']\n",
    ")\n",
    "dfs_episode = pd.concat(\n",
    "    [dfs_episode], keys=[trucks_by_name['VB7'].vid], names=['vehicle']\n",
    ")"
   ],
   "metadata": {
    "collapsed": false,
    "ExecuteTime": {
     "end_time": "2023-06-12T09:17:02.544678707Z",
     "start_time": "2023-06-12T09:17:02.492314291Z"
    }
   }
  },
  {
   "cell_type": "code",
   "execution_count": 46,
   "outputs": [
    {
     "data": {
      "text/plain": "tuple                                                              state   \nmeasurement                                                        brake   \ntimestep                                      2023-06-12 17:03:03.583607   \nextra                                                                      \nvehicle driver     timestamp                                               \nVB7     wang-cheng 2023-06-12 18:03:03.583607                        8.0  \\\n                   2023-06-12 19:03:03.583607                        8.0   \n                   2023-06-12 20:03:03.583607                        8.0   \n                   2023-06-12 21:03:03.583607                        8.0   \n                   2023-06-12 22:03:03.583607                        8.0   \n\ntuple                                                                      \nmeasurement                                                                \ntimestep                                      2023-06-12 17:03:03.603607   \nextra                                                                      \nvehicle driver     timestamp                                               \nVB7     wang-cheng 2023-06-12 18:03:03.583607                        9.0  \\\n                   2023-06-12 19:03:03.583607                        9.0   \n                   2023-06-12 20:03:03.583607                        9.0   \n                   2023-06-12 21:03:03.583607                        9.0   \n                   2023-06-12 22:03:03.583607                        9.0   \n\ntuple                                                                      \nmeasurement                                                                \ntimestep                                      2023-06-12 17:03:03.623607   \nextra                                                                      \nvehicle driver     timestamp                                               \nVB7     wang-cheng 2023-06-12 18:03:03.583607                       10.0  \\\n                   2023-06-12 19:03:03.583607                       10.0   \n                   2023-06-12 20:03:03.583607                       10.0   \n                   2023-06-12 21:03:03.583607                       10.0   \n                   2023-06-12 22:03:03.583607                       10.0   \n\ntuple                                                                      \nmeasurement                                                                \ntimestep                                      2023-06-12 17:03:03.643607   \nextra                                                                      \nvehicle driver     timestamp                                               \nVB7     wang-cheng 2023-06-12 18:03:03.583607                       11.0  \\\n                   2023-06-12 19:03:03.583607                       11.0   \n                   2023-06-12 20:03:03.583607                       11.0   \n                   2023-06-12 21:03:03.583607                       11.0   \n                   2023-06-12 22:03:03.583607                       11.0   \n\ntuple                                                                      \nmeasurement                                                       thrust   \ntimestep                                      2023-06-12 17:03:03.583607   \nextra                                                                      \nvehicle driver     timestamp                                               \nVB7     wang-cheng 2023-06-12 18:03:03.583607                        4.0  \\\n                   2023-06-12 19:03:03.583607                        4.0   \n                   2023-06-12 20:03:03.583607                        4.0   \n                   2023-06-12 21:03:03.583607                        4.0   \n                   2023-06-12 22:03:03.583607                        4.0   \n\ntuple                                                                      \nmeasurement                                                                \ntimestep                                      2023-06-12 17:03:03.603607   \nextra                                                                      \nvehicle driver     timestamp                                               \nVB7     wang-cheng 2023-06-12 18:03:03.583607                        5.0  \\\n                   2023-06-12 19:03:03.583607                        5.0   \n                   2023-06-12 20:03:03.583607                        5.0   \n                   2023-06-12 21:03:03.583607                        5.0   \n                   2023-06-12 22:03:03.583607                        5.0   \n\ntuple                                                                      \nmeasurement                                                                \ntimestep                                      2023-06-12 17:03:03.623607   \nextra                                                                      \nvehicle driver     timestamp                                               \nVB7     wang-cheng 2023-06-12 18:03:03.583607                        6.0  \\\n                   2023-06-12 19:03:03.583607                        6.0   \n                   2023-06-12 20:03:03.583607                        6.0   \n                   2023-06-12 21:03:03.583607                        6.0   \n                   2023-06-12 22:03:03.583607                        6.0   \n\ntuple                                                                      \nmeasurement                                                                \ntimestep                                      2023-06-12 17:03:03.643607   \nextra                                                                      \nvehicle driver     timestamp                                               \nVB7     wang-cheng 2023-06-12 18:03:03.583607                        7.0  \\\n                   2023-06-12 19:03:03.583607                        7.0   \n                   2023-06-12 20:03:03.583607                        7.0   \n                   2023-06-12 21:03:03.583607                        7.0   \n                   2023-06-12 22:03:03.583607                        7.0   \n\ntuple                                                                      \nmeasurement                                                     velocity   \ntimestep                                      2023-06-12 17:03:03.583607   \nextra                                                                      \nvehicle driver     timestamp                                               \nVB7     wang-cheng 2023-06-12 18:03:03.583607                        0.0  \\\n                   2023-06-12 19:03:03.583607                        0.0   \n                   2023-06-12 20:03:03.583607                        0.0   \n                   2023-06-12 21:03:03.583607                        0.0   \n                   2023-06-12 22:03:03.583607                        0.0   \n\ntuple                                                                     ...   \nmeasurement                                                               ...   \ntimestep                                      2023-06-12 17:03:03.603607  ...   \nextra                                                                     ...   \nvehicle driver     timestamp                                              ...   \nVB7     wang-cheng 2023-06-12 18:03:03.583607                        1.0  ...  \\\n                   2023-06-12 19:03:03.583607                        1.0  ...   \n                   2023-06-12 20:03:03.583607                        1.0  ...   \n                   2023-06-12 21:03:03.583607                        1.0  ...   \n                   2023-06-12 22:03:03.583607                        1.0  ...   \n\ntuple                                                             nstate   \nmeasurement                                                        brake   \ntimestep                                      2023-06-12 17:03:08.623607   \nextra                                                                      \nvehicle driver     timestamp                                               \nVB7     wang-cheng 2023-06-12 18:03:03.583607                       38.0  \\\n                   2023-06-12 19:03:03.583607                       38.0   \n                   2023-06-12 20:03:03.583607                       38.0   \n                   2023-06-12 21:03:03.583607                       38.0   \n                   2023-06-12 22:03:03.583607                       38.0   \n\ntuple                                                                      \nmeasurement                                                                \ntimestep                                      2023-06-12 17:03:08.643607   \nextra                                                                      \nvehicle driver     timestamp                                               \nVB7     wang-cheng 2023-06-12 18:03:03.583607                       39.0  \\\n                   2023-06-12 19:03:03.583607                       39.0   \n                   2023-06-12 20:03:03.583607                       39.0   \n                   2023-06-12 21:03:03.583607                       39.0   \n                   2023-06-12 22:03:03.583607                       39.0   \n\ntuple                                                                      \nmeasurement                                                       thrust   \ntimestep                                      2023-06-12 17:03:08.583607   \nextra                                                                      \nvehicle driver     timestamp                                               \nVB7     wang-cheng 2023-06-12 18:03:03.583607                       32.0  \\\n                   2023-06-12 19:03:03.583607                       32.0   \n                   2023-06-12 20:03:03.583607                       32.0   \n                   2023-06-12 21:03:03.583607                       32.0   \n                   2023-06-12 22:03:03.583607                       32.0   \n\ntuple                                                                      \nmeasurement                                                                \ntimestep                                      2023-06-12 17:03:08.603607   \nextra                                                                      \nvehicle driver     timestamp                                               \nVB7     wang-cheng 2023-06-12 18:03:03.583607                       33.0  \\\n                   2023-06-12 19:03:03.583607                       33.0   \n                   2023-06-12 20:03:03.583607                       33.0   \n                   2023-06-12 21:03:03.583607                       33.0   \n                   2023-06-12 22:03:03.583607                       33.0   \n\ntuple                                                                      \nmeasurement                                                                \ntimestep                                      2023-06-12 17:03:08.623607   \nextra                                                                      \nvehicle driver     timestamp                                               \nVB7     wang-cheng 2023-06-12 18:03:03.583607                       34.0  \\\n                   2023-06-12 19:03:03.583607                       34.0   \n                   2023-06-12 20:03:03.583607                       34.0   \n                   2023-06-12 21:03:03.583607                       34.0   \n                   2023-06-12 22:03:03.583607                       34.0   \n\ntuple                                                                      \nmeasurement                                                                \ntimestep                                      2023-06-12 17:03:08.643607   \nextra                                                                      \nvehicle driver     timestamp                                               \nVB7     wang-cheng 2023-06-12 18:03:03.583607                       35.0  \\\n                   2023-06-12 19:03:03.583607                       35.0   \n                   2023-06-12 20:03:03.583607                       35.0   \n                   2023-06-12 21:03:03.583607                       35.0   \n                   2023-06-12 22:03:03.583607                       35.0   \n\ntuple                                                                      \nmeasurement                                                     velocity   \ntimestep                                      2023-06-12 17:03:08.583607   \nextra                                                                      \nvehicle driver     timestamp                                               \nVB7     wang-cheng 2023-06-12 18:03:03.583607                       28.0  \\\n                   2023-06-12 19:03:03.583607                       28.0   \n                   2023-06-12 20:03:03.583607                       28.0   \n                   2023-06-12 21:03:03.583607                       28.0   \n                   2023-06-12 22:03:03.583607                       28.0   \n\ntuple                                                                      \nmeasurement                                                                \ntimestep                                      2023-06-12 17:03:08.603607   \nextra                                                                      \nvehicle driver     timestamp                                               \nVB7     wang-cheng 2023-06-12 18:03:03.583607                       29.0  \\\n                   2023-06-12 19:03:03.583607                       29.0   \n                   2023-06-12 20:03:03.583607                       29.0   \n                   2023-06-12 21:03:03.583607                       29.0   \n                   2023-06-12 22:03:03.583607                       29.0   \n\ntuple                                                                      \nmeasurement                                                                \ntimestep                                      2023-06-12 17:03:08.623607   \nextra                                                                      \nvehicle driver     timestamp                                               \nVB7     wang-cheng 2023-06-12 18:03:03.583607                       30.0  \\\n                   2023-06-12 19:03:03.583607                       30.0   \n                   2023-06-12 20:03:03.583607                       30.0   \n                   2023-06-12 21:03:03.583607                       30.0   \n                   2023-06-12 22:03:03.583607                       30.0   \n\ntuple                                                                     \nmeasurement                                                               \ntimestep                                      2023-06-12 17:03:08.643607  \nextra                                                                     \nvehicle driver     timestamp                                              \nVB7     wang-cheng 2023-06-12 18:03:03.583607                       31.0  \n                   2023-06-12 19:03:03.583607                       31.0  \n                   2023-06-12 20:03:03.583607                       31.0  \n                   2023-06-12 21:03:03.583607                       31.0  \n                   2023-06-12 22:03:03.583607                       31.0  \n\n[5 rows x 40 columns]",
      "text/html": "<div>\n<style scoped>\n    .dataframe tbody tr th:only-of-type {\n        vertical-align: middle;\n    }\n\n    .dataframe tbody tr th {\n        vertical-align: top;\n    }\n\n    .dataframe thead tr th {\n        text-align: left;\n    }\n\n    .dataframe thead tr:last-of-type th {\n        text-align: right;\n    }\n</style>\n<table border=\"1\" class=\"dataframe\">\n  <thead>\n    <tr>\n      <th></th>\n      <th></th>\n      <th>tuple</th>\n      <th colspan=\"10\" halign=\"left\">state</th>\n      <th>...</th>\n      <th colspan=\"10\" halign=\"left\">nstate</th>\n    </tr>\n    <tr>\n      <th></th>\n      <th></th>\n      <th>measurement</th>\n      <th colspan=\"4\" halign=\"left\">brake</th>\n      <th colspan=\"4\" halign=\"left\">thrust</th>\n      <th colspan=\"2\" halign=\"left\">velocity</th>\n      <th>...</th>\n      <th colspan=\"2\" halign=\"left\">brake</th>\n      <th colspan=\"4\" halign=\"left\">thrust</th>\n      <th colspan=\"4\" halign=\"left\">velocity</th>\n    </tr>\n    <tr>\n      <th></th>\n      <th></th>\n      <th>timestep</th>\n      <th>2023-06-12 17:03:03.583607</th>\n      <th>2023-06-12 17:03:03.603607</th>\n      <th>2023-06-12 17:03:03.623607</th>\n      <th>2023-06-12 17:03:03.643607</th>\n      <th>2023-06-12 17:03:03.583607</th>\n      <th>2023-06-12 17:03:03.603607</th>\n      <th>2023-06-12 17:03:03.623607</th>\n      <th>2023-06-12 17:03:03.643607</th>\n      <th>2023-06-12 17:03:03.583607</th>\n      <th>2023-06-12 17:03:03.603607</th>\n      <th>...</th>\n      <th>2023-06-12 17:03:08.623607</th>\n      <th>2023-06-12 17:03:08.643607</th>\n      <th>2023-06-12 17:03:08.583607</th>\n      <th>2023-06-12 17:03:08.603607</th>\n      <th>2023-06-12 17:03:08.623607</th>\n      <th>2023-06-12 17:03:08.643607</th>\n      <th>2023-06-12 17:03:08.583607</th>\n      <th>2023-06-12 17:03:08.603607</th>\n      <th>2023-06-12 17:03:08.623607</th>\n      <th>2023-06-12 17:03:08.643607</th>\n    </tr>\n    <tr>\n      <th></th>\n      <th></th>\n      <th>extra</th>\n      <th></th>\n      <th></th>\n      <th></th>\n      <th></th>\n      <th></th>\n      <th></th>\n      <th></th>\n      <th></th>\n      <th></th>\n      <th></th>\n      <th>...</th>\n      <th></th>\n      <th></th>\n      <th></th>\n      <th></th>\n      <th></th>\n      <th></th>\n      <th></th>\n      <th></th>\n      <th></th>\n      <th></th>\n    </tr>\n    <tr>\n      <th>vehicle</th>\n      <th>driver</th>\n      <th>timestamp</th>\n      <th></th>\n      <th></th>\n      <th></th>\n      <th></th>\n      <th></th>\n      <th></th>\n      <th></th>\n      <th></th>\n      <th></th>\n      <th></th>\n      <th></th>\n      <th></th>\n      <th></th>\n      <th></th>\n      <th></th>\n      <th></th>\n      <th></th>\n      <th></th>\n      <th></th>\n      <th></th>\n      <th></th>\n    </tr>\n  </thead>\n  <tbody>\n    <tr>\n      <th rowspan=\"5\" valign=\"top\">VB7</th>\n      <th rowspan=\"5\" valign=\"top\">wang-cheng</th>\n      <th>2023-06-12 18:03:03.583607</th>\n      <td>8.0</td>\n      <td>9.0</td>\n      <td>10.0</td>\n      <td>11.0</td>\n      <td>4.0</td>\n      <td>5.0</td>\n      <td>6.0</td>\n      <td>7.0</td>\n      <td>0.0</td>\n      <td>1.0</td>\n      <td>...</td>\n      <td>38.0</td>\n      <td>39.0</td>\n      <td>32.0</td>\n      <td>33.0</td>\n      <td>34.0</td>\n      <td>35.0</td>\n      <td>28.0</td>\n      <td>29.0</td>\n      <td>30.0</td>\n      <td>31.0</td>\n    </tr>\n    <tr>\n      <th>2023-06-12 19:03:03.583607</th>\n      <td>8.0</td>\n      <td>9.0</td>\n      <td>10.0</td>\n      <td>11.0</td>\n      <td>4.0</td>\n      <td>5.0</td>\n      <td>6.0</td>\n      <td>7.0</td>\n      <td>0.0</td>\n      <td>1.0</td>\n      <td>...</td>\n      <td>38.0</td>\n      <td>39.0</td>\n      <td>32.0</td>\n      <td>33.0</td>\n      <td>34.0</td>\n      <td>35.0</td>\n      <td>28.0</td>\n      <td>29.0</td>\n      <td>30.0</td>\n      <td>31.0</td>\n    </tr>\n    <tr>\n      <th>2023-06-12 20:03:03.583607</th>\n      <td>8.0</td>\n      <td>9.0</td>\n      <td>10.0</td>\n      <td>11.0</td>\n      <td>4.0</td>\n      <td>5.0</td>\n      <td>6.0</td>\n      <td>7.0</td>\n      <td>0.0</td>\n      <td>1.0</td>\n      <td>...</td>\n      <td>38.0</td>\n      <td>39.0</td>\n      <td>32.0</td>\n      <td>33.0</td>\n      <td>34.0</td>\n      <td>35.0</td>\n      <td>28.0</td>\n      <td>29.0</td>\n      <td>30.0</td>\n      <td>31.0</td>\n    </tr>\n    <tr>\n      <th>2023-06-12 21:03:03.583607</th>\n      <td>8.0</td>\n      <td>9.0</td>\n      <td>10.0</td>\n      <td>11.0</td>\n      <td>4.0</td>\n      <td>5.0</td>\n      <td>6.0</td>\n      <td>7.0</td>\n      <td>0.0</td>\n      <td>1.0</td>\n      <td>...</td>\n      <td>38.0</td>\n      <td>39.0</td>\n      <td>32.0</td>\n      <td>33.0</td>\n      <td>34.0</td>\n      <td>35.0</td>\n      <td>28.0</td>\n      <td>29.0</td>\n      <td>30.0</td>\n      <td>31.0</td>\n    </tr>\n    <tr>\n      <th>2023-06-12 22:03:03.583607</th>\n      <td>8.0</td>\n      <td>9.0</td>\n      <td>10.0</td>\n      <td>11.0</td>\n      <td>4.0</td>\n      <td>5.0</td>\n      <td>6.0</td>\n      <td>7.0</td>\n      <td>0.0</td>\n      <td>1.0</td>\n      <td>...</td>\n      <td>38.0</td>\n      <td>39.0</td>\n      <td>32.0</td>\n      <td>33.0</td>\n      <td>34.0</td>\n      <td>35.0</td>\n      <td>28.0</td>\n      <td>29.0</td>\n      <td>30.0</td>\n      <td>31.0</td>\n    </tr>\n  </tbody>\n</table>\n<p>5 rows × 40 columns</p>\n</div>"
     },
     "execution_count": 46,
     "metadata": {},
     "output_type": "execute_result"
    },
    {
     "data": {
      "text/plain": "tuple   measurement  timestep                    extra\nstate   brake        2023-06-12 17:03:03.583607           float64\n                     2023-06-12 17:03:03.603607           float64\n                     2023-06-12 17:03:03.623607           float64\n                     2023-06-12 17:03:03.643607           float64\n        thrust       2023-06-12 17:03:03.583607           float64\n                     2023-06-12 17:03:03.603607           float64\n                     2023-06-12 17:03:03.623607           float64\n                     2023-06-12 17:03:03.643607           float64\n        velocity     2023-06-12 17:03:03.583607           float64\n                     2023-06-12 17:03:03.603607           float64\n                     2023-06-12 17:03:03.623607           float64\n                     2023-06-12 17:03:03.643607           float64\nreward               0                                    float64\naction  50           2023-06-12 17:03:03.683607  0.0      float64\n                                                 0.25     float64\n                                                 0.5      float64\n                                                 0.75     float64\n                                                 1.0      float64\n        60           2023-06-12 17:03:03.703607  0.0      float64\n                                                 0.25     float64\n                                                 0.5      float64\n                                                 0.75     float64\n                                                 1.0      float64\n        70           2023-06-12 17:03:03.723607  0.0      float64\n                                                 0.25     float64\n                                                 0.5      float64\n                                                 0.75     float64\n                                                 1.0      float64\nnstate  brake        2023-06-12 17:03:08.583607           float64\n                     2023-06-12 17:03:08.603607           float64\n                     2023-06-12 17:03:08.623607           float64\n                     2023-06-12 17:03:08.643607           float64\n        thrust       2023-06-12 17:03:08.583607           float64\n                     2023-06-12 17:03:08.603607           float64\n                     2023-06-12 17:03:08.623607           float64\n                     2023-06-12 17:03:08.643607           float64\n        velocity     2023-06-12 17:03:08.583607           float64\n                     2023-06-12 17:03:08.603607           float64\n                     2023-06-12 17:03:08.623607           float64\n                     2023-06-12 17:03:08.643607           float64\ndtype: object"
     },
     "execution_count": 46,
     "metadata": {},
     "output_type": "execute_result"
    }
   ],
   "source": [
    "\n",
    "dfs_episode.columns.set_names(\n",
    "    ['tuple', 'measurement', 'timestep', 'extra'], level=[0, 1, 2, 3], inplace=True\n",
    ")\n",
    "dfs_episode\n",
    "dfs_episode.dtypes\n"
   ],
   "metadata": {
    "collapsed": false,
    "ExecuteTime": {
     "end_time": "2023-06-12T09:17:04.963485713Z",
     "start_time": "2023-06-12T09:17:04.917585236Z"
    }
   }
  },
  {
   "cell_type": "markdown",
   "source": [],
   "metadata": {
    "collapsed": false
   }
  },
  {
   "cell_type": "markdown",
   "source": [
    "### Convert columns types to int and float16"
   ],
   "metadata": {
    "collapsed": false
   }
  },
  {
   "cell_type": "code",
   "execution_count": 27,
   "outputs": [],
   "source": [
    "# idx = pd.IndexSlice\n",
    "# dfs_episode.loc[:, idx['state', :, :]] = dfs_episode.loc[:, idx['state', :, :]].astype(\n",
    "#     'int'\n",
    "# )\n",
    "# dfs_episode.loc[:, idx['action', :, :]] = dfs_episode.loc[\n",
    "#     :, idx['action', :, :]\n",
    "# ].astype('float16')\n",
    "# dfs_episode.loc[:, idx['reward', :, :]] = dfs_episode.loc[\n",
    "#     :, idx['reward', :, :]\n",
    "# ].astype('float16')\n",
    "# dfs_episode.loc[:, idx['nstate', :, :]] = dfs_episode.loc[\n",
    "#     :, idx['nstate', :, :]\n",
    "# ].astype('float16')\n",
    "#\n",
    "# vel_1 = dfs_episode[[('state', 'velocity', 1)]]\n",
    "# vel_1.dtypes\n",
    "# vel_1.index\n",
    "# vel_1.values\n",
    "# # type(vel_1)\n",
    "# vel_1.iloc[0]\n",
    "# type(vel_1.iloc[0])\n",
    "# type(vel_1.iloc[0].values[0])"
   ],
   "metadata": {
    "collapsed": false,
    "ExecuteTime": {
     "end_time": "2023-06-12T09:03:04.153245240Z",
     "start_time": "2023-06-12T09:03:03.945592367Z"
    }
   }
  },
  {
   "cell_type": "markdown",
   "source": [
    "## Add a level of index for episode"
   ],
   "metadata": {
    "collapsed": false
   }
  },
  {
   "cell_type": "code",
   "execution_count": 47,
   "outputs": [
    {
     "data": {
      "text/plain": "MultiIndex([('2023-06-12 17:03:03.583607', 'VB7', 'wang-cheng', ...),\n            ('2023-06-12 17:03:03.583607', 'VB7', 'wang-cheng', ...),\n            ('2023-06-12 17:03:03.583607', 'VB7', 'wang-cheng', ...),\n            ('2023-06-12 17:03:03.583607', 'VB7', 'wang-cheng', ...),\n            ('2023-06-12 17:03:03.583607', 'VB7', 'wang-cheng', ...)],\n           names=['episodestart', 'vehicle', 'driver', 'timestamp'])"
     },
     "execution_count": 47,
     "metadata": {},
     "output_type": "execute_result"
    },
    {
     "data": {
      "text/plain": "MultiIndex([( 'state',    'brake', 2023-06-12 17:03:03.583607,   ''),\n            ( 'state',    'brake', 2023-06-12 17:03:03.603607,   ''),\n            ( 'state',    'brake', 2023-06-12 17:03:03.623607,   ''),\n            ( 'state',    'brake', 2023-06-12 17:03:03.643607,   ''),\n            ( 'state',   'thrust', 2023-06-12 17:03:03.583607,   ''),\n            ( 'state',   'thrust', 2023-06-12 17:03:03.603607,   ''),\n            ( 'state',   'thrust', 2023-06-12 17:03:03.623607,   ''),\n            ( 'state',   'thrust', 2023-06-12 17:03:03.643607,   ''),\n            ( 'state', 'velocity', 2023-06-12 17:03:03.583607,   ''),\n            ( 'state', 'velocity', 2023-06-12 17:03:03.603607,   ''),\n            ( 'state', 'velocity', 2023-06-12 17:03:03.623607,   ''),\n            ( 'state', 'velocity', 2023-06-12 17:03:03.643607,   ''),\n            ('reward',         '',                          0,   ''),\n            ('action',         50, 2023-06-12 17:03:03.683607,  0.0),\n            ('action',         50, 2023-06-12 17:03:03.683607, 0.25),\n            ('action',         50, 2023-06-12 17:03:03.683607,  0.5),\n            ('action',         50, 2023-06-12 17:03:03.683607, 0.75),\n            ('action',         50, 2023-06-12 17:03:03.683607,  1.0),\n            ('action',         60, 2023-06-12 17:03:03.703607,  0.0),\n            ('action',         60, 2023-06-12 17:03:03.703607, 0.25),\n            ('action',         60, 2023-06-12 17:03:03.703607,  0.5),\n            ('action',         60, 2023-06-12 17:03:03.703607, 0.75),\n            ('action',         60, 2023-06-12 17:03:03.703607,  1.0),\n            ('action',         70, 2023-06-12 17:03:03.723607,  0.0),\n            ('action',         70, 2023-06-12 17:03:03.723607, 0.25),\n            ('action',         70, 2023-06-12 17:03:03.723607,  0.5),\n            ('action',         70, 2023-06-12 17:03:03.723607, 0.75),\n            ('action',         70, 2023-06-12 17:03:03.723607,  1.0),\n            ('nstate',    'brake', 2023-06-12 17:03:08.583607,   ''),\n            ('nstate',    'brake', 2023-06-12 17:03:08.603607,   ''),\n            ('nstate',    'brake', 2023-06-12 17:03:08.623607,   ''),\n            ('nstate',    'brake', 2023-06-12 17:03:08.643607,   ''),\n            ('nstate',   'thrust', 2023-06-12 17:03:08.583607,   ''),\n            ('nstate',   'thrust', 2023-06-12 17:03:08.603607,   ''),\n            ('nstate',   'thrust', 2023-06-12 17:03:08.623607,   ''),\n            ('nstate',   'thrust', 2023-06-12 17:03:08.643607,   ''),\n            ('nstate', 'velocity', 2023-06-12 17:03:08.583607,   ''),\n            ('nstate', 'velocity', 2023-06-12 17:03:08.603607,   ''),\n            ('nstate', 'velocity', 2023-06-12 17:03:08.623607,   ''),\n            ('nstate', 'velocity', 2023-06-12 17:03:08.643607,   '')],\n           names=['tuple', 'measurement', 'timestep', 'extra'])"
     },
     "execution_count": 47,
     "metadata": {},
     "output_type": "execute_result"
    },
    {
     "data": {
      "text/plain": "tuple                                                                                         state   \nmeasurement                                                                                   brake   \ntimestep                                                                 2023-06-12 17:03:03.583607   \nextra                                                                                                 \nepisodestart               vehicle driver     timestamp                                               \n2023-06-12 17:03:03.583607 VB7     wang-cheng 2023-06-12 18:03:03.583607                        8.0  \\\n                                              2023-06-12 19:03:03.583607                        8.0   \n                                              2023-06-12 20:03:03.583607                        8.0   \n                                              2023-06-12 21:03:03.583607                        8.0   \n                                              2023-06-12 22:03:03.583607                        8.0   \n\ntuple                                                                                                 \nmeasurement                                                                                           \ntimestep                                                                 2023-06-12 17:03:03.603607   \nextra                                                                                                 \nepisodestart               vehicle driver     timestamp                                               \n2023-06-12 17:03:03.583607 VB7     wang-cheng 2023-06-12 18:03:03.583607                        9.0  \\\n                                              2023-06-12 19:03:03.583607                        9.0   \n                                              2023-06-12 20:03:03.583607                        9.0   \n                                              2023-06-12 21:03:03.583607                        9.0   \n                                              2023-06-12 22:03:03.583607                        9.0   \n\ntuple                                                                                                 \nmeasurement                                                                                           \ntimestep                                                                 2023-06-12 17:03:03.623607   \nextra                                                                                                 \nepisodestart               vehicle driver     timestamp                                               \n2023-06-12 17:03:03.583607 VB7     wang-cheng 2023-06-12 18:03:03.583607                       10.0  \\\n                                              2023-06-12 19:03:03.583607                       10.0   \n                                              2023-06-12 20:03:03.583607                       10.0   \n                                              2023-06-12 21:03:03.583607                       10.0   \n                                              2023-06-12 22:03:03.583607                       10.0   \n\ntuple                                                                                                 \nmeasurement                                                                                           \ntimestep                                                                 2023-06-12 17:03:03.643607   \nextra                                                                                                 \nepisodestart               vehicle driver     timestamp                                               \n2023-06-12 17:03:03.583607 VB7     wang-cheng 2023-06-12 18:03:03.583607                       11.0  \\\n                                              2023-06-12 19:03:03.583607                       11.0   \n                                              2023-06-12 20:03:03.583607                       11.0   \n                                              2023-06-12 21:03:03.583607                       11.0   \n                                              2023-06-12 22:03:03.583607                       11.0   \n\ntuple                                                                                                 \nmeasurement                                                                                  thrust   \ntimestep                                                                 2023-06-12 17:03:03.583607   \nextra                                                                                                 \nepisodestart               vehicle driver     timestamp                                               \n2023-06-12 17:03:03.583607 VB7     wang-cheng 2023-06-12 18:03:03.583607                        4.0  \\\n                                              2023-06-12 19:03:03.583607                        4.0   \n                                              2023-06-12 20:03:03.583607                        4.0   \n                                              2023-06-12 21:03:03.583607                        4.0   \n                                              2023-06-12 22:03:03.583607                        4.0   \n\ntuple                                                                                                 \nmeasurement                                                                                           \ntimestep                                                                 2023-06-12 17:03:03.603607   \nextra                                                                                                 \nepisodestart               vehicle driver     timestamp                                               \n2023-06-12 17:03:03.583607 VB7     wang-cheng 2023-06-12 18:03:03.583607                        5.0  \\\n                                              2023-06-12 19:03:03.583607                        5.0   \n                                              2023-06-12 20:03:03.583607                        5.0   \n                                              2023-06-12 21:03:03.583607                        5.0   \n                                              2023-06-12 22:03:03.583607                        5.0   \n\ntuple                                                                                                 \nmeasurement                                                                                           \ntimestep                                                                 2023-06-12 17:03:03.623607   \nextra                                                                                                 \nepisodestart               vehicle driver     timestamp                                               \n2023-06-12 17:03:03.583607 VB7     wang-cheng 2023-06-12 18:03:03.583607                        6.0  \\\n                                              2023-06-12 19:03:03.583607                        6.0   \n                                              2023-06-12 20:03:03.583607                        6.0   \n                                              2023-06-12 21:03:03.583607                        6.0   \n                                              2023-06-12 22:03:03.583607                        6.0   \n\ntuple                                                                                                 \nmeasurement                                                                                           \ntimestep                                                                 2023-06-12 17:03:03.643607   \nextra                                                                                                 \nepisodestart               vehicle driver     timestamp                                               \n2023-06-12 17:03:03.583607 VB7     wang-cheng 2023-06-12 18:03:03.583607                        7.0  \\\n                                              2023-06-12 19:03:03.583607                        7.0   \n                                              2023-06-12 20:03:03.583607                        7.0   \n                                              2023-06-12 21:03:03.583607                        7.0   \n                                              2023-06-12 22:03:03.583607                        7.0   \n\ntuple                                                                                                 \nmeasurement                                                                                velocity   \ntimestep                                                                 2023-06-12 17:03:03.583607   \nextra                                                                                                 \nepisodestart               vehicle driver     timestamp                                               \n2023-06-12 17:03:03.583607 VB7     wang-cheng 2023-06-12 18:03:03.583607                        0.0  \\\n                                              2023-06-12 19:03:03.583607                        0.0   \n                                              2023-06-12 20:03:03.583607                        0.0   \n                                              2023-06-12 21:03:03.583607                        0.0   \n                                              2023-06-12 22:03:03.583607                        0.0   \n\ntuple                                                                                                 \nmeasurement                                                                                           \ntimestep                                                                 2023-06-12 17:03:03.603607   \nextra                                                                                                 \nepisodestart               vehicle driver     timestamp                                               \n2023-06-12 17:03:03.583607 VB7     wang-cheng 2023-06-12 18:03:03.583607                        1.0  \\\n                                              2023-06-12 19:03:03.583607                        1.0   \n                                              2023-06-12 20:03:03.583607                        1.0   \n                                              2023-06-12 21:03:03.583607                        1.0   \n                                              2023-06-12 22:03:03.583607                        1.0   \n\ntuple                                                                     ...   \nmeasurement                                                               ...   \ntimestep                                                                  ...   \nextra                                                                     ...   \nepisodestart               vehicle driver     timestamp                   ...   \n2023-06-12 17:03:03.583607 VB7     wang-cheng 2023-06-12 18:03:03.583607  ...  \\\n                                              2023-06-12 19:03:03.583607  ...   \n                                              2023-06-12 20:03:03.583607  ...   \n                                              2023-06-12 21:03:03.583607  ...   \n                                              2023-06-12 22:03:03.583607  ...   \n\ntuple                                                                                        nstate   \nmeasurement                                                                                   brake   \ntimestep                                                                 2023-06-12 17:03:08.623607   \nextra                                                                                                 \nepisodestart               vehicle driver     timestamp                                               \n2023-06-12 17:03:03.583607 VB7     wang-cheng 2023-06-12 18:03:03.583607                       38.0  \\\n                                              2023-06-12 19:03:03.583607                       38.0   \n                                              2023-06-12 20:03:03.583607                       38.0   \n                                              2023-06-12 21:03:03.583607                       38.0   \n                                              2023-06-12 22:03:03.583607                       38.0   \n\ntuple                                                                                                 \nmeasurement                                                                                           \ntimestep                                                                 2023-06-12 17:03:08.643607   \nextra                                                                                                 \nepisodestart               vehicle driver     timestamp                                               \n2023-06-12 17:03:03.583607 VB7     wang-cheng 2023-06-12 18:03:03.583607                       39.0  \\\n                                              2023-06-12 19:03:03.583607                       39.0   \n                                              2023-06-12 20:03:03.583607                       39.0   \n                                              2023-06-12 21:03:03.583607                       39.0   \n                                              2023-06-12 22:03:03.583607                       39.0   \n\ntuple                                                                                                 \nmeasurement                                                                                  thrust   \ntimestep                                                                 2023-06-12 17:03:08.583607   \nextra                                                                                                 \nepisodestart               vehicle driver     timestamp                                               \n2023-06-12 17:03:03.583607 VB7     wang-cheng 2023-06-12 18:03:03.583607                       32.0  \\\n                                              2023-06-12 19:03:03.583607                       32.0   \n                                              2023-06-12 20:03:03.583607                       32.0   \n                                              2023-06-12 21:03:03.583607                       32.0   \n                                              2023-06-12 22:03:03.583607                       32.0   \n\ntuple                                                                                                 \nmeasurement                                                                                           \ntimestep                                                                 2023-06-12 17:03:08.603607   \nextra                                                                                                 \nepisodestart               vehicle driver     timestamp                                               \n2023-06-12 17:03:03.583607 VB7     wang-cheng 2023-06-12 18:03:03.583607                       33.0  \\\n                                              2023-06-12 19:03:03.583607                       33.0   \n                                              2023-06-12 20:03:03.583607                       33.0   \n                                              2023-06-12 21:03:03.583607                       33.0   \n                                              2023-06-12 22:03:03.583607                       33.0   \n\ntuple                                                                                                 \nmeasurement                                                                                           \ntimestep                                                                 2023-06-12 17:03:08.623607   \nextra                                                                                                 \nepisodestart               vehicle driver     timestamp                                               \n2023-06-12 17:03:03.583607 VB7     wang-cheng 2023-06-12 18:03:03.583607                       34.0  \\\n                                              2023-06-12 19:03:03.583607                       34.0   \n                                              2023-06-12 20:03:03.583607                       34.0   \n                                              2023-06-12 21:03:03.583607                       34.0   \n                                              2023-06-12 22:03:03.583607                       34.0   \n\ntuple                                                                                                 \nmeasurement                                                                                           \ntimestep                                                                 2023-06-12 17:03:08.643607   \nextra                                                                                                 \nepisodestart               vehicle driver     timestamp                                               \n2023-06-12 17:03:03.583607 VB7     wang-cheng 2023-06-12 18:03:03.583607                       35.0  \\\n                                              2023-06-12 19:03:03.583607                       35.0   \n                                              2023-06-12 20:03:03.583607                       35.0   \n                                              2023-06-12 21:03:03.583607                       35.0   \n                                              2023-06-12 22:03:03.583607                       35.0   \n\ntuple                                                                                                 \nmeasurement                                                                                velocity   \ntimestep                                                                 2023-06-12 17:03:08.583607   \nextra                                                                                                 \nepisodestart               vehicle driver     timestamp                                               \n2023-06-12 17:03:03.583607 VB7     wang-cheng 2023-06-12 18:03:03.583607                       28.0  \\\n                                              2023-06-12 19:03:03.583607                       28.0   \n                                              2023-06-12 20:03:03.583607                       28.0   \n                                              2023-06-12 21:03:03.583607                       28.0   \n                                              2023-06-12 22:03:03.583607                       28.0   \n\ntuple                                                                                                 \nmeasurement                                                                                           \ntimestep                                                                 2023-06-12 17:03:08.603607   \nextra                                                                                                 \nepisodestart               vehicle driver     timestamp                                               \n2023-06-12 17:03:03.583607 VB7     wang-cheng 2023-06-12 18:03:03.583607                       29.0  \\\n                                              2023-06-12 19:03:03.583607                       29.0   \n                                              2023-06-12 20:03:03.583607                       29.0   \n                                              2023-06-12 21:03:03.583607                       29.0   \n                                              2023-06-12 22:03:03.583607                       29.0   \n\ntuple                                                                                                 \nmeasurement                                                                                           \ntimestep                                                                 2023-06-12 17:03:08.623607   \nextra                                                                                                 \nepisodestart               vehicle driver     timestamp                                               \n2023-06-12 17:03:03.583607 VB7     wang-cheng 2023-06-12 18:03:03.583607                       30.0  \\\n                                              2023-06-12 19:03:03.583607                       30.0   \n                                              2023-06-12 20:03:03.583607                       30.0   \n                                              2023-06-12 21:03:03.583607                       30.0   \n                                              2023-06-12 22:03:03.583607                       30.0   \n\ntuple                                                                                                \nmeasurement                                                                                          \ntimestep                                                                 2023-06-12 17:03:08.643607  \nextra                                                                                                \nepisodestart               vehicle driver     timestamp                                              \n2023-06-12 17:03:03.583607 VB7     wang-cheng 2023-06-12 18:03:03.583607                       31.0  \n                                              2023-06-12 19:03:03.583607                       31.0  \n                                              2023-06-12 20:03:03.583607                       31.0  \n                                              2023-06-12 21:03:03.583607                       31.0  \n                                              2023-06-12 22:03:03.583607                       31.0  \n\n[5 rows x 40 columns]",
      "text/html": "<div>\n<style scoped>\n    .dataframe tbody tr th:only-of-type {\n        vertical-align: middle;\n    }\n\n    .dataframe tbody tr th {\n        vertical-align: top;\n    }\n\n    .dataframe thead tr th {\n        text-align: left;\n    }\n\n    .dataframe thead tr:last-of-type th {\n        text-align: right;\n    }\n</style>\n<table border=\"1\" class=\"dataframe\">\n  <thead>\n    <tr>\n      <th></th>\n      <th></th>\n      <th></th>\n      <th>tuple</th>\n      <th colspan=\"10\" halign=\"left\">state</th>\n      <th>...</th>\n      <th colspan=\"10\" halign=\"left\">nstate</th>\n    </tr>\n    <tr>\n      <th></th>\n      <th></th>\n      <th></th>\n      <th>measurement</th>\n      <th colspan=\"4\" halign=\"left\">brake</th>\n      <th colspan=\"4\" halign=\"left\">thrust</th>\n      <th colspan=\"2\" halign=\"left\">velocity</th>\n      <th>...</th>\n      <th colspan=\"2\" halign=\"left\">brake</th>\n      <th colspan=\"4\" halign=\"left\">thrust</th>\n      <th colspan=\"4\" halign=\"left\">velocity</th>\n    </tr>\n    <tr>\n      <th></th>\n      <th></th>\n      <th></th>\n      <th>timestep</th>\n      <th>2023-06-12 17:03:03.583607</th>\n      <th>2023-06-12 17:03:03.603607</th>\n      <th>2023-06-12 17:03:03.623607</th>\n      <th>2023-06-12 17:03:03.643607</th>\n      <th>2023-06-12 17:03:03.583607</th>\n      <th>2023-06-12 17:03:03.603607</th>\n      <th>2023-06-12 17:03:03.623607</th>\n      <th>2023-06-12 17:03:03.643607</th>\n      <th>2023-06-12 17:03:03.583607</th>\n      <th>2023-06-12 17:03:03.603607</th>\n      <th>...</th>\n      <th>2023-06-12 17:03:08.623607</th>\n      <th>2023-06-12 17:03:08.643607</th>\n      <th>2023-06-12 17:03:08.583607</th>\n      <th>2023-06-12 17:03:08.603607</th>\n      <th>2023-06-12 17:03:08.623607</th>\n      <th>2023-06-12 17:03:08.643607</th>\n      <th>2023-06-12 17:03:08.583607</th>\n      <th>2023-06-12 17:03:08.603607</th>\n      <th>2023-06-12 17:03:08.623607</th>\n      <th>2023-06-12 17:03:08.643607</th>\n    </tr>\n    <tr>\n      <th></th>\n      <th></th>\n      <th></th>\n      <th>extra</th>\n      <th></th>\n      <th></th>\n      <th></th>\n      <th></th>\n      <th></th>\n      <th></th>\n      <th></th>\n      <th></th>\n      <th></th>\n      <th></th>\n      <th>...</th>\n      <th></th>\n      <th></th>\n      <th></th>\n      <th></th>\n      <th></th>\n      <th></th>\n      <th></th>\n      <th></th>\n      <th></th>\n      <th></th>\n    </tr>\n    <tr>\n      <th>episodestart</th>\n      <th>vehicle</th>\n      <th>driver</th>\n      <th>timestamp</th>\n      <th></th>\n      <th></th>\n      <th></th>\n      <th></th>\n      <th></th>\n      <th></th>\n      <th></th>\n      <th></th>\n      <th></th>\n      <th></th>\n      <th></th>\n      <th></th>\n      <th></th>\n      <th></th>\n      <th></th>\n      <th></th>\n      <th></th>\n      <th></th>\n      <th></th>\n      <th></th>\n      <th></th>\n    </tr>\n  </thead>\n  <tbody>\n    <tr>\n      <th rowspan=\"5\" valign=\"top\">2023-06-12 17:03:03.583607</th>\n      <th rowspan=\"5\" valign=\"top\">VB7</th>\n      <th rowspan=\"5\" valign=\"top\">wang-cheng</th>\n      <th>2023-06-12 18:03:03.583607</th>\n      <td>8.0</td>\n      <td>9.0</td>\n      <td>10.0</td>\n      <td>11.0</td>\n      <td>4.0</td>\n      <td>5.0</td>\n      <td>6.0</td>\n      <td>7.0</td>\n      <td>0.0</td>\n      <td>1.0</td>\n      <td>...</td>\n      <td>38.0</td>\n      <td>39.0</td>\n      <td>32.0</td>\n      <td>33.0</td>\n      <td>34.0</td>\n      <td>35.0</td>\n      <td>28.0</td>\n      <td>29.0</td>\n      <td>30.0</td>\n      <td>31.0</td>\n    </tr>\n    <tr>\n      <th>2023-06-12 19:03:03.583607</th>\n      <td>8.0</td>\n      <td>9.0</td>\n      <td>10.0</td>\n      <td>11.0</td>\n      <td>4.0</td>\n      <td>5.0</td>\n      <td>6.0</td>\n      <td>7.0</td>\n      <td>0.0</td>\n      <td>1.0</td>\n      <td>...</td>\n      <td>38.0</td>\n      <td>39.0</td>\n      <td>32.0</td>\n      <td>33.0</td>\n      <td>34.0</td>\n      <td>35.0</td>\n      <td>28.0</td>\n      <td>29.0</td>\n      <td>30.0</td>\n      <td>31.0</td>\n    </tr>\n    <tr>\n      <th>2023-06-12 20:03:03.583607</th>\n      <td>8.0</td>\n      <td>9.0</td>\n      <td>10.0</td>\n      <td>11.0</td>\n      <td>4.0</td>\n      <td>5.0</td>\n      <td>6.0</td>\n      <td>7.0</td>\n      <td>0.0</td>\n      <td>1.0</td>\n      <td>...</td>\n      <td>38.0</td>\n      <td>39.0</td>\n      <td>32.0</td>\n      <td>33.0</td>\n      <td>34.0</td>\n      <td>35.0</td>\n      <td>28.0</td>\n      <td>29.0</td>\n      <td>30.0</td>\n      <td>31.0</td>\n    </tr>\n    <tr>\n      <th>2023-06-12 21:03:03.583607</th>\n      <td>8.0</td>\n      <td>9.0</td>\n      <td>10.0</td>\n      <td>11.0</td>\n      <td>4.0</td>\n      <td>5.0</td>\n      <td>6.0</td>\n      <td>7.0</td>\n      <td>0.0</td>\n      <td>1.0</td>\n      <td>...</td>\n      <td>38.0</td>\n      <td>39.0</td>\n      <td>32.0</td>\n      <td>33.0</td>\n      <td>34.0</td>\n      <td>35.0</td>\n      <td>28.0</td>\n      <td>29.0</td>\n      <td>30.0</td>\n      <td>31.0</td>\n    </tr>\n    <tr>\n      <th>2023-06-12 22:03:03.583607</th>\n      <td>8.0</td>\n      <td>9.0</td>\n      <td>10.0</td>\n      <td>11.0</td>\n      <td>4.0</td>\n      <td>5.0</td>\n      <td>6.0</td>\n      <td>7.0</td>\n      <td>0.0</td>\n      <td>1.0</td>\n      <td>...</td>\n      <td>38.0</td>\n      <td>39.0</td>\n      <td>32.0</td>\n      <td>33.0</td>\n      <td>34.0</td>\n      <td>35.0</td>\n      <td>28.0</td>\n      <td>29.0</td>\n      <td>30.0</td>\n      <td>31.0</td>\n    </tr>\n  </tbody>\n</table>\n<p>5 rows × 40 columns</p>\n</div>"
     },
     "execution_count": 47,
     "metadata": {},
     "output_type": "execute_result"
    }
   ],
   "source": [
    "episodestart = ts - pd.Timedelta(1, 'h')\n",
    "dfs_episode = pd.concat([dfs_episode], keys=[ts], names=['episodestart'])\n",
    "dfs_episode.sort_index(inplace=True)\n",
    "dfs_episode.index\n",
    "dfs_episode.columns\n",
    "dfs_episode"
   ],
   "metadata": {
    "collapsed": false,
    "ExecuteTime": {
     "end_time": "2023-06-12T09:17:48.849345732Z",
     "start_time": "2023-06-12T09:17:48.283488855Z"
    }
   }
  },
  {
   "cell_type": "code",
   "execution_count": 48,
   "outputs": [
    {
     "data": {
      "text/plain": "Timestamp('2023-06-12 17:17:48.322380')"
     },
     "execution_count": 48,
     "metadata": {},
     "output_type": "execute_result"
    },
    {
     "data": {
      "text/plain": "Timestamp('2023-06-10 17:17:48.322380')"
     },
     "execution_count": 48,
     "metadata": {},
     "output_type": "execute_result"
    },
    {
     "ename": "NameError",
     "evalue": "name 'trucks' is not defined",
     "output_type": "error",
     "traceback": [
      "\u001B[0;31m---------------------------------------------------------------------------\u001B[0m",
      "\u001B[0;31mNameError\u001B[0m                                 Traceback (most recent call last)",
      "Cell \u001B[0;32mIn[48], line 9\u001B[0m\n\u001B[1;32m      6\u001B[0m dfs_episode0 \u001B[38;5;241m=\u001B[39m dfs_episode\u001B[38;5;241m.\u001B[39mcopy()\n\u001B[1;32m      7\u001B[0m dfs_episode0\u001B[38;5;241m.\u001B[39mindex \u001B[38;5;241m=\u001B[39m dfs_episode0\u001B[38;5;241m.\u001B[39mindex\u001B[38;5;241m.\u001B[39mset_levels([episodestart], level\u001B[38;5;241m=\u001B[39m\u001B[38;5;124m'\u001B[39m\u001B[38;5;124mepisodestart\u001B[39m\u001B[38;5;124m'\u001B[39m)\n\u001B[1;32m      8\u001B[0m dfs_episode0\u001B[38;5;241m.\u001B[39mindex \u001B[38;5;241m=\u001B[39m dfs_episode0\u001B[38;5;241m.\u001B[39mindex\u001B[38;5;241m.\u001B[39mset_levels(\n\u001B[0;32m----> 9\u001B[0m     [[\u001B[43mtrucks\u001B[49m[\u001B[38;5;241m0\u001B[39m]\u001B[38;5;241m.\u001B[39mvid], [drivers[\u001B[38;5;241m1\u001B[39m]\u001B[38;5;241m.\u001B[39mpid]],\n\u001B[1;32m     10\u001B[0m     level\u001B[38;5;241m=\u001B[39m[\u001B[38;5;124m'\u001B[39m\u001B[38;5;124mvehicle\u001B[39m\u001B[38;5;124m'\u001B[39m, \u001B[38;5;124m'\u001B[39m\u001B[38;5;124mdriver\u001B[39m\u001B[38;5;124m'\u001B[39m],\n\u001B[1;32m     11\u001B[0m     verify_integrity\u001B[38;5;241m=\u001B[39m\u001B[38;5;28;01mFalse\u001B[39;00m,\n\u001B[1;32m     12\u001B[0m )\n\u001B[1;32m     13\u001B[0m dfs_episode1 \u001B[38;5;241m=\u001B[39m dfs_episode\u001B[38;5;241m.\u001B[39mcopy()\n\u001B[1;32m     14\u001B[0m dfs_episode1\u001B[38;5;241m.\u001B[39mindex \u001B[38;5;241m=\u001B[39m dfs_episode1\u001B[38;5;241m.\u001B[39mindex\u001B[38;5;241m.\u001B[39mset_levels(\n\u001B[1;32m     15\u001B[0m     [episodestart \u001B[38;5;241m-\u001B[39m pd\u001B[38;5;241m.\u001B[39mTimedelta(\u001B[38;5;241m3\u001B[39m, \u001B[38;5;124m'\u001B[39m\u001B[38;5;124md\u001B[39m\u001B[38;5;124m'\u001B[39m)], level\u001B[38;5;241m=\u001B[39m\u001B[38;5;124m'\u001B[39m\u001B[38;5;124mepisodestart\u001B[39m\u001B[38;5;124m'\u001B[39m\n\u001B[1;32m     16\u001B[0m )\n",
      "\u001B[0;31mNameError\u001B[0m: name 'trucks' is not defined"
     ]
    }
   ],
   "source": [
    "\n",
    "ts_new = pd.to_datetime((datetime.now()))\n",
    "ts_new\n",
    "episodestart = ts_new - pd.Timedelta(2, 'd')\n",
    "episodestart\n",
    "\n",
    "dfs_episode0 = dfs_episode.copy()\n",
    "dfs_episode0.index = dfs_episode0.index.set_levels([episodestart], level='episodestart')\n",
    "dfs_episode0.index = dfs_episode0.index.set_levels(\n",
    "    [[trucks[0].vid], [drivers[1].pid]],\n",
    "    level=['vehicle', 'driver'],\n",
    "    verify_integrity=False,\n",
    ")\n",
    "dfs_episode1 = dfs_episode.copy()\n",
    "dfs_episode1.index = dfs_episode1.index.set_levels(\n",
    "    [episodestart - pd.Timedelta(3, 'd')], level='episodestart'\n",
    ")\n",
    "dfs_episode1.index = dfs_episode1.index.set_levels(\n",
    "    [[trucks[1].vid], [drivers[0].pid]],\n",
    "    level=['vehicle', 'driver'],\n",
    "    verify_integrity=False,\n",
    ")\n",
    "dfs_episode2 = dfs_episode.copy()\n",
    "dfs_episode2.index = dfs_episode2.index.set_levels(\n",
    "    [episodestart - pd.Timedelta(4, 'd')], level='episodestart'\n",
    ")\n",
    "dfs_episode2.index = dfs_episode2.index.set_levels(\n",
    "    [[trucks[0].vid], [drivers[0].pid]],\n",
    "    level=['vehicle', 'driver'],\n",
    "    verify_integrity=False,\n",
    ")\n",
    "dfs_episode3 = dfs_episode.copy()\n",
    "dfs_episode3.index = dfs_episode3.index.set_levels(\n",
    "    [episodestart - pd.Timedelta(5, 'd')], level='episodestart'\n",
    ")\n",
    "dfs_episode3.index = dfs_episode3.index.set_levels(\n",
    "    [[trucks[0].vid], [drivers[1].pid]],\n",
    "    level=['vehicle', 'driver'],\n",
    "    verify_integrity=False,\n",
    ")\n",
    "dfs_episode0\n",
    "\n"
   ],
   "metadata": {
    "collapsed": false,
    "ExecuteTime": {
     "end_time": "2023-06-12T09:17:48.880076550Z",
     "start_time": "2023-06-12T09:17:48.336602577Z"
    }
   }
  },
  {
   "cell_type": "code",
   "execution_count": null,
   "outputs": [],
   "source": [
    "# dfs_episode_concat = pd.concat([dfs_episode, dfs_episode0], axis=0)\n",
    "# display('dfs_episode_concat')\n",
    "# dfs_episode_concat.index\n",
    "# dfs_episode_concat.columns"
   ],
   "metadata": {
    "collapsed": false,
    "ExecuteTime": {
     "start_time": "2023-06-12T09:17:48.352209570Z"
    }
   }
  },
  {
   "cell_type": "code",
   "execution_count": null,
   "outputs": [],
   "source": [
    "episodes = [dfs_episode, dfs_episode0, dfs_episode1, dfs_episode2, dfs_episode3]\n",
    "try:\n",
    "    dfs_episode_all = reduce(\n",
    "        lambda left, right,: pd.concat([left, right], axis=0), episodes\n",
    "    )\n",
    "except Exception as e:\n",
    "    print(e)\n",
    "# dfs_episode_all.sort_index(inplace=True)\n",
    "dfs_episode_all = dfs_episode_all.swaplevel(1, 0, axis=0)\n",
    "dfs_episode_all = dfs_episode_all.swaplevel(1, 2, axis=0)\n",
    "dfs_episode_all.sort_index(inplace=True)\n",
    "dfs_episode_all = dfs_episode_all[['state', 'action', 'reward', 'nstate']]\n",
    "display('dfs_episode_all')\n",
    "dfs_episode_all.index\n",
    "dfs_episode_all.columns"
   ],
   "metadata": {
    "collapsed": false,
    "ExecuteTime": {
     "start_time": "2023-06-12T09:17:48.352424312Z"
    }
   }
  },
  {
   "cell_type": "markdown",
   "source": [
    "## Make MultiIndex to Rows by adding levels of \"Vehicle\" and \"Driver\""
   ],
   "metadata": {
    "collapsed": false
   }
  },
  {
   "cell_type": "markdown",
   "source": [
    "###  reset index to move vehicle and driver to columns, preprocessing for dask manipulation"
   ],
   "metadata": {
    "collapsed": false
   }
  },
  {
   "cell_type": "code",
   "execution_count": null,
   "outputs": [],
   "source": [
    "dfs_episodes = dfs_episode_all.reset_index(\n",
    "    level=['vehicle', 'driver']\n",
    ")  # unstack vehicle and driver to columns in level 0 with default '' in level 1\n",
    "# # dfs_episodes.columns\n",
    "# # dfs_episode0.index = dfs_episode0.index.set_levels([[trucks[0].vid],[drivers[1].pid]], level=['vehicle', 'driver'], verify_integrity=False)\n",
    "# old_columns = dfs_episodes.columns\n",
    "# # old_columns[0]= (old_columns[0][0],0)\n",
    "# new_columns_tuples = [(old_columns[0][0],0), (old_columns[1][0],0)] + old_columns[2:].to_list()\n",
    "# prepend_columns = pd.MultiIndex.from_tuples(new_columns_tuples, names=old_columns.names)\n",
    "# # prepend_columns\n",
    "\n",
    "# dfs_episodes.columns = prepend_columns\n",
    "dfs_episodes\n",
    "# dfs_episodes.columns\n",
    "# dfs_episodes.dtypes\n",
    "# dfs_episode_all"
   ],
   "metadata": {
    "collapsed": false,
    "ExecuteTime": {
     "start_time": "2023-06-12T09:17:48.352632723Z"
    }
   }
  },
  {
   "cell_type": "code",
   "execution_count": null,
   "outputs": [],
   "source": [
    "dfs_episodes.dtypes"
   ],
   "metadata": {
    "collapsed": false,
    "ExecuteTime": {
     "start_time": "2023-06-12T09:17:48.352841324Z"
    }
   }
  },
  {
   "cell_type": "code",
   "execution_count": null,
   "outputs": [],
   "source": [
    "dfs_episodes.columns"
   ],
   "metadata": {
    "collapsed": false,
    "ExecuteTime": {
     "start_time": "2023-06-12T09:17:48.353655942Z"
    }
   }
  },
  {
   "cell_type": "code",
   "execution_count": null,
   "outputs": [],
   "source": [
    "\n",
    "dfs_episodes['vehicle'] = dfs_episodes['vehicle'].astype(\"category\")\n",
    "dfs_episodes['driver'] = dfs_episodes['driver'].astype(\"category\")\n",
    "# dfs_episodes.dtypes\n",
    "# dfs_episodes.columns\n",
    "# dfs_episodes[['vehicle','driver']].dtypes\n",
    "# dfs_episodes[['vehicle','driver']]\n",
    "# dfs_episodes[['vehicle','driver']].iloc[:3].dtypes\n",
    "# sliced = dfs_episodes[['vehicle']].iloc[:3].stack(level=[-1,-2])\n",
    "# type(sliced)\n",
    "# sliced.index\n",
    "# sliced.values\n",
    "\n",
    "dfs_episodes_sorted = dfs_episodes.sort_index(\n",
    "    axis=1, level=[0, 1, 2], ascending=[True, True, True]\n",
    ")\n",
    "dfs_episodes_sorted.sort_index(axis=0, inplace=True)\n",
    "# dfs_episodes_sorted = dfs_episodes.sort_index(axis=1, level=[0,1], ascending=[True, True])\n",
    "# dfs_episodes_sorted = dfs_episodes.sort_index(axis=0, level=[0,1], ascending=[True, True])\n",
    "# dfs_episodes_sorted.sort_index(axis=1,inplace=True)\n",
    "dfs_episodes_sorted\n",
    "dfs_episodes_sorted.columns\n",
    "\n",
    "# dfs_episodes[['driver'], ['vehicle']] = dfs_episodes[['driver', 'vehicle']].apply(lambda x: x.cat.codes)"
   ],
   "metadata": {
    "collapsed": false,
    "ExecuteTime": {
     "start_time": "2023-06-12T09:17:48.368752265Z"
    }
   }
  },
  {
   "cell_type": "markdown",
   "source": [
    "## dataframe slicing"
   ],
   "metadata": {
    "collapsed": false
   }
  },
  {
   "cell_type": "code",
   "execution_count": 49,
   "outputs": [
    {
     "data": {
      "text/plain": "Timestamp('2023-06-12 17:03:03.583607')"
     },
     "execution_count": 49,
     "metadata": {},
     "output_type": "execute_result"
    },
    {
     "data": {
      "text/plain": "Timestamp('2023-06-03 17:03:03.583607')"
     },
     "execution_count": 49,
     "metadata": {},
     "output_type": "execute_result"
    },
    {
     "data": {
      "text/plain": "DatetimeIndex(['2023-06-03 17:03:03.583607', '2023-06-04 17:03:03.583607',\n               '2023-06-05 17:03:03.583607', '2023-06-06 17:03:03.583607',\n               '2023-06-07 17:03:03.583607', '2023-06-08 17:03:03.583607'],\n              dtype='datetime64[ns]', freq='D')"
     },
     "execution_count": 49,
     "metadata": {},
     "output_type": "execute_result"
    }
   ],
   "source": [
    "ts\n",
    "ep_start = ts - pd.Timedelta(9, 'D')\n",
    "ep_start\n",
    "# time_slice\n",
    "episode_slice = pd.date_range(ep_start, periods=6, freq='D')\n",
    "episode_slice"
   ],
   "metadata": {
    "collapsed": false,
    "ExecuteTime": {
     "end_time": "2023-06-12T09:17:49.202608266Z",
     "start_time": "2023-06-12T09:17:48.368959454Z"
    }
   }
  },
  {
   "cell_type": "code",
   "execution_count": 50,
   "outputs": [
    {
     "data": {
      "text/plain": "DatetimeIndex(['2023-06-12 17:13:03.583607', '2023-06-12 18:13:03.583607',\n               '2023-06-12 19:13:03.583607'],\n              dtype='datetime64[ns]', freq='H')"
     },
     "execution_count": 50,
     "metadata": {},
     "output_type": "execute_result"
    }
   ],
   "source": [
    "timestamp_slice = pd.date_range(ts, periods=3, freq='H') + pd.Timedelta(10, 'min')\n",
    "timestamp_slice"
   ],
   "metadata": {
    "collapsed": false,
    "ExecuteTime": {
     "end_time": "2023-06-12T09:17:49.221260616Z",
     "start_time": "2023-06-12T09:17:48.369169868Z"
    }
   }
  },
  {
   "cell_type": "code",
   "execution_count": 51,
   "outputs": [
    {
     "ename": "NameError",
     "evalue": "name 'dfs_episodes_sorted' is not defined",
     "output_type": "error",
     "traceback": [
      "\u001B[0;31m---------------------------------------------------------------------------\u001B[0m",
      "\u001B[0;31mNameError\u001B[0m                                 Traceback (most recent call last)",
      "Cell \u001B[0;32mIn[51], line 1\u001B[0m\n\u001B[0;32m----> 1\u001B[0m \u001B[43mdfs_episodes_sorted\u001B[49m\n",
      "\u001B[0;31mNameError\u001B[0m: name 'dfs_episodes_sorted' is not defined"
     ]
    }
   ],
   "source": [
    "dfs_episodes_sorted"
   ],
   "metadata": {
    "collapsed": false,
    "ExecuteTime": {
     "start_time": "2023-06-12T09:17:48.383829142Z"
    }
   }
  },
  {
   "cell_type": "code",
   "execution_count": null,
   "outputs": [],
   "source": [
    "dfs_episodes_sorted.index\n",
    "dfs_episodes_sorted.columns"
   ],
   "metadata": {
    "collapsed": false,
    "ExecuteTime": {
     "start_time": "2023-06-12T09:17:48.398609305Z"
    }
   }
  },
  {
   "cell_type": "code",
   "execution_count": null,
   "outputs": [],
   "source": [
    "# dfs_episode_all.loc['VB7', 'zheng-longfei', episode_slice[0]:episode_slice[3]]\n",
    "# dfs_selected_episodes = dfs_episodes_sorted.loc[trucks[0].vid, drivers[1].pid, episode_slice[0]:episode_slice[3], timestamp_slice[0]:timestamp_slice[2]]\n",
    "idx = pd.IndexSlice\n",
    "dfs_selected_episodes = dfs_episodes_sorted.loc[\n",
    "    idx[episode_slice[0] : episode_slice[5], timestamp_slice[0] : timestamp_slice[2]],\n",
    "    idx['action':'driver'],\n",
    "]\n",
    "dfs_selected_episodes\n",
    "# dfs_selected_episodes[['action', 'reward']]"
   ],
   "metadata": {
    "collapsed": false,
    "ExecuteTime": {
     "start_time": "2023-06-12T09:17:48.398806524Z"
    }
   }
  },
  {
   "cell_type": "code",
   "execution_count": null,
   "outputs": [],
   "source": [
    "# dfs_selected_episodes_columns = dfs_episode_all.loc['VB7', 'zheng-longfei', episode_slice[0]:episode_slice[3], timestamp_slice[0]:timestamp_slice[2]][['action', 'reward']]\n",
    "# dfs_selected_episodes_columns"
   ],
   "metadata": {
    "collapsed": false,
    "ExecuteTime": {
     "start_time": "2023-06-12T09:17:48.398997092Z"
    }
   }
  },
  {
   "cell_type": "code",
   "execution_count": null,
   "outputs": [],
   "source": [
    "# dfs_episode_all_sorted = dfs_episode_all.sort_index(axis=1)\n",
    "# dfs_episode_all_sorted = dfs_episode_all_sorted.sort_index(axis=0)\n",
    "# dfs_episode_all_sorted"
   ],
   "metadata": {
    "collapsed": false,
    "ExecuteTime": {
     "start_time": "2023-06-12T09:17:48.399149828Z"
    }
   }
  },
  {
   "cell_type": "code",
   "execution_count": null,
   "outputs": [],
   "source": [
    "\n",
    "# dfs_selected_episodes_columns = dfs_episode_all_sorted.loc[(slice('VB6'), slice('wang-cheng'), slice(None), slice(None)),:]\n",
    "# idx = pd.IndexSlice\n",
    "# dfs_episode_all_sorted.loc[(idx['VB6'], idx['wang-cheng','zheng-longfei'], slice(None), slice(None)),:]\n",
    "# dfs_selected_episodes_columns = dfs_episode_all_sorted.loc[(idx['VB7'], idx['zheng-longfei'], slice(None), slice(None)),['state','n_state']]\n",
    "# dfs_selected_episodes_columns = dfs_episodes_sorted.loc[(idx['VB7'], idx['zheng-longfei'], slice(None), slice(None)),['state','n_state']]\n",
    "# dfs_selected_episodes_columns"
   ],
   "metadata": {
    "collapsed": false,
    "ExecuteTime": {
     "start_time": "2023-06-12T09:17:48.399306622Z"
    }
   }
  },
  {
   "cell_type": "code",
   "execution_count": null,
   "outputs": [],
   "source": [
    "\n",
    "ts_new = pd.to_datetime((datetime.now()))\n",
    "episodestart = ts_new - pd.Timedelta(10, 'd') - pd.Timedelta(6, 'h')\n",
    "episodestart\n",
    "episode_slice = pd.date_range(episodestart, periods=20, freq='d') + pd.Timedelta(\n",
    "    10, 'min'\n",
    ")\n",
    "episode_slice\n",
    "ts\n",
    "time_slice = pd.date_range(ts, periods=6, freq='h') - pd.Timedelta(10, 'min')\n",
    "time_slice\n"
   ],
   "metadata": {
    "collapsed": false,
    "ExecuteTime": {
     "start_time": "2023-06-12T09:17:48.399471812Z"
    }
   }
  },
  {
   "cell_type": "code",
   "execution_count": null,
   "outputs": [],
   "source": [
    "\n",
    "episode_slice[4]: episode_slice[8]\n",
    "idx[episode_slice[4] : episode_slice[8]]\n",
    "idx[episode_slice[4] : episode_slice[8], slice(None)]"
   ],
   "metadata": {
    "collapsed": false,
    "ExecuteTime": {
     "start_time": "2023-06-12T09:17:48.400086665Z"
    }
   }
  },
  {
   "cell_type": "code",
   "execution_count": null,
   "outputs": [],
   "source": [
    "episode_slice[4]\n",
    "episode_slice[11]\n",
    "# dfs_selected_episodes = dfs_episodes_sorted.loc[idx['VB7'], slice(None), episode_slice[4]:episode_slice[11]]\n",
    "# dfs_selected_episodes\n",
    "# dfs_selected_episodes = dfs_episodes_sorted.loc[slice(None), idx['zheng-longfei'], episode_slice[4]:episode_slice[11]]\n",
    "# dfs_selected_episodes\n",
    "# dfs_selected_episodes = dfs_episode_all.loc[slice(None), idx['zheng-longfei'], episode_slice[4]:episode_slice[11], time_slice[0]:time_slice[3]]\n",
    "# dfs_selected_episodes\n",
    "# epislice = idx(episode_slice[4]:episode_slice[11])\n",
    "\n",
    "# dfs_selected_episodes = dfs_episodes_sorted.loc[idx[episode_slice[4]:episode_slice[11],slice(None)], idx[dfs_episodes_sorted['driver']==drivers[0].pid]]\n",
    "dfs_selected_episodes1 = dfs_episodes_sorted.loc[\n",
    "    dfs_episodes_sorted['driver'] == drivers[0].pid\n",
    "]\n",
    "dfs_selected_episodes1\n",
    "dfs_selected_episodes2 = dfs_episodes_sorted.loc[\n",
    "    dfs_episodes_sorted['driver'] == drivers[0].pid\n",
    "].loc[idx[episode_slice[4] : episode_slice[8]]]\n",
    "dfs_selected_episodes2\n",
    "dfs_selected_episodes3 = dfs_episodes_sorted.loc[\n",
    "    (dfs_episodes_sorted['driver'] == drivers[0].pid)\n",
    "    & (dfs_episodes_sorted['vehicle'] == trucks[0].vid)\n",
    "].loc[idx[episode_slice[4] : episode_slice[8]]]\n",
    "dfs_selected_episodes3\n",
    "# dfs_selected_episodes31 = dfs_episodes_sorted.loc[idx[episode_slice[4]:episode_slice[8],slice(None)]].loc[ (dfs_episodes_sorted['driver']==drivers[0].pid) & (dfs_episodes_sorted['vehicle']==trucks[0].vid)]\n",
    "# dfs_selected_episodes31 = dfs_episodes_sorted.loc[ (dfs_episodes_sorted['driver']==drivers[0].pid) & (dfs_episodes_sorted['vehicle']==trucks[0].vid) & (idx[episode_slice[4]:episode_slice[8],slice(None)])]\n",
    "# dfs_selected_episodes31\n",
    "# dfs_selected_episodes3.index\n",
    "# dfs_selected_episodes3.columns\n",
    "# dfs_selected_episodes = dfs_episodes_sorted.loc[slice(None), idx['zheng-longfei'], episode_slice[4]:episode_slice[11]]\n",
    "# dfs_selected_episodes\n",
    "# dfs_selected_episodes = dfs_episode_all.loc[slice(None), idx['zheng-longfei'], episode_slice[4]:episode_slice[11], time_slice[0]:time_slice[3]]\n",
    "# dfs_selected_episodes\n"
   ],
   "metadata": {
    "collapsed": false,
    "ExecuteTime": {
     "start_time": "2023-06-12T09:17:48.414237515Z"
    }
   }
  },
  {
   "cell_type": "code",
   "execution_count": null,
   "outputs": [],
   "source": [
    "idx[time_slice[0] : time_slice[3]]"
   ],
   "metadata": {
    "collapsed": false,
    "ExecuteTime": {
     "start_time": "2023-06-12T09:17:48.414411071Z"
    }
   }
  },
  {
   "cell_type": "code",
   "execution_count": null,
   "outputs": [],
   "source": [
    "\n",
    "dfs_selected_episodes3.loc[:, idx[:, :, 0:2]]\n",
    "# dfs_selected_episodes3.loc[idx[:,time_slice[0]:time_slice[2]],:]\n",
    "dfs_selected_episodes3.loc[idx[:, time_slice[0] : time_slice[3]], :]"
   ],
   "metadata": {
    "collapsed": false,
    "ExecuteTime": {
     "start_time": "2023-06-12T09:17:48.414557125Z"
    }
   }
  },
  {
   "cell_type": "code",
   "execution_count": null,
   "outputs": [],
   "source": [
    "dfs_selected_episodes3.index\n",
    "# dfs_selected_episodes3.columns\n",
    "time_slice[0]\n",
    "time_slice[3]\n",
    "idx[:, time_slice[0] : time_slice[3]]\n",
    "dfs_selected_episodes4 = dfs_selected_episodes3.loc[\n",
    "    idx[:, time_slice[0] : time_slice[3]], :\n",
    "]\n",
    "# dfs_selected_episodes4 = dfs_selected_episodes3.loc[idx[:,time_slice[0]:time_slice[3],:],:]\n",
    "\n",
    "dfs_selected_episodes4\n",
    "dfs_selected_episodes41 = dfs_selected_episodes3.loc[\n",
    "    idx[:, time_slice[0] : time_slice[3]], 'action':'driver'\n",
    "]\n",
    "dfs_selected_episodes41\n",
    "# dfs_selected_episodes4 = dfs_episodes_sorted.loc[ (dfs_episodes_sorted['driver']==drivers[0].pid) & (dfs_episodes_sorted['vehicle']==trucks[0].vid)].loc[idx[episode_slice[4]:episode_slice[8],time_slice[0]:time_slice[3]]]\n",
    "# dfs_selected_episodes4"
   ],
   "metadata": {
    "collapsed": false,
    "ExecuteTime": {
     "start_time": "2023-06-12T09:17:48.414710492Z"
    }
   }
  },
  {
   "cell_type": "code",
   "execution_count": null,
   "outputs": [],
   "source": [
    "\n",
    "# dfs_selected_episodes = dfs_episode_all.loc['VB7', 'zheng-longfei', episode_slice[0]:episode_slice[3], timestamp_slice[0]:timestamp_slice[2]]\n",
    "# dfs_selected_episodes_columns = dfs_episode_all_sorted.loc[(idx['VB7'], idx['zheng-longfei'], slice(None), slice(None)),['state','n_state']]\n",
    "# dfs_selected_episodes_columns\n"
   ],
   "metadata": {
    "collapsed": false,
    "ExecuteTime": {
     "start_time": "2023-06-12T09:17:48.414863589Z"
    }
   }
  },
  {
   "cell_type": "code",
   "execution_count": null,
   "outputs": [],
   "source": [
    "dfs_episodes_sorted\n",
    "# dfs_episode.loc[:,'state']\n",
    "dfs_slice = dfs_episodes_sorted.loc[\n",
    "    dfs_episodes_sorted['vehicle'] == 'MP73', ['vehicle', 'driver', 'state', 'reward']\n",
    "]\n",
    "dfs_slice"
   ],
   "metadata": {
    "collapsed": false,
    "ExecuteTime": {
     "start_time": "2023-06-12T09:17:48.415040581Z"
    }
   }
  },
  {
   "cell_type": "markdown",
   "source": [
    "# Saved episodes as parquet in multi-level folders \"vehicle/driver/episode.parquet\""
   ],
   "metadata": {
    "collapsed": false
   }
  },
  {
   "cell_type": "code",
   "execution_count": null,
   "outputs": [],
   "source": [
    "import os\n",
    "import dask.dataframe as dd\n",
    "from dask.diagnostics import ProgressBar\n",
    "import numpy as np\n",
    "import pandas as pd\n",
    "from datetime import datetime\n",
    "\n",
    "import pyarrow as pa\n",
    "import pyarrow.parquet as pq\n",
    "import platform\n",
    "\n",
    "print('Python: ', platform.python_version())\n",
    "print('pandas: ', pd.__version__)\n",
    "print('pyarrow: ', pa.__version__)\n"
   ],
   "metadata": {
    "collapsed": false,
    "ExecuteTime": {
     "start_time": "2023-06-12T09:17:48.415225568Z"
    }
   }
  },
  {
   "cell_type": "code",
   "execution_count": null,
   "outputs": [],
   "source": [
    "os.chdir('../../data')"
   ],
   "metadata": {
    "collapsed": false,
    "ExecuteTime": {
     "start_time": "2023-06-12T09:17:48.415381971Z"
    }
   }
  },
  {
   "cell_type": "code",
   "execution_count": null,
   "outputs": [],
   "source": [
    "\n",
    "os.getcwd()"
   ],
   "metadata": {
    "collapsed": false,
    "ExecuteTime": {
     "start_time": "2023-06-12T09:17:48.415587637Z"
    }
   }
  },
  {
   "cell_type": "markdown",
   "source": [
    "## create parquet files"
   ],
   "metadata": {
    "collapsed": false
   }
  },
  {
   "cell_type": "code",
   "execution_count": null,
   "outputs": [],
   "source": [
    "dfs_episodes_sorted\n",
    "dfs_episodes_sorted.index\n",
    "dfs_episodes_sorted.columns\n",
    "dfs_episodes_sorted.dtypes"
   ],
   "metadata": {
    "collapsed": false,
    "ExecuteTime": {
     "start_time": "2023-06-12T09:17:48.415753357Z"
    }
   }
  },
  {
   "cell_type": "code",
   "execution_count": null,
   "outputs": [],
   "source": [
    "# dfs_episode4dask = dfs_episode_all_sorted.swaplevel(0,-1, axis=0).swaplevel(1,3, axis=0).swaplevel(2,3, axis=0).unstack()\n",
    "# dfs_episode4dask = dfs_episode4dask.swaplevel(0,-1, axis=1).swaplevel(-2,-1, axis=1)\n",
    "# dfs_episode4dask\n",
    "# # dfs_episode4dask = dfs_episode4dask.swaplevel(0,-1, axis=1).swaplevel(-2,-1, axis=1)\n",
    "# # dfs_episode4dask.index\n",
    "# # dfs_episode4dask.index\n",
    "# # dfs_episode4dask.columns\n",
    "# # dfs_episode4dask\n",
    "# # dfs_episode_all_stack = dfs_episode_all.unstack(level=[-1,-2,-3,])\n",
    "# # dfs_episode_all_stack"
   ],
   "metadata": {
    "collapsed": false,
    "ExecuteTime": {
     "start_time": "2023-06-12T09:17:48.415906875Z"
    }
   }
  },
  {
   "cell_type": "code",
   "execution_count": null,
   "outputs": [],
   "source": [
    "# dfs_episode4dask1 = dfs_episode4dask.unstack().swaplevel(-2,-1, axis=1).swaplevel(-2,-3,axis=1).swaplevel(-3,-4,axis=1)\n",
    "# # dfs_episode4dask1\n",
    "# dfs_episode4dask2 = dfs_episode4dask1.unstack().swaplevel(-2,-1, axis=1).swaplevel(-2,-3,axis=1).swaplevel(-3,-4,axis=1).swaplevel(-4,-5,axis=1)\n",
    "# dfs_episode4dask2.sort_index(axis=1, inplace=True)\n",
    "# dfs_episode4dask2\n"
   ],
   "metadata": {
    "collapsed": false,
    "ExecuteTime": {
     "start_time": "2023-06-12T09:17:48.416066705Z"
    }
   }
  },
  {
   "cell_type": "markdown",
   "source": [
    "### decoding multiindex dataframe to flat index for Dask datframe"
   ],
   "metadata": {
    "collapsed": false
   }
  },
  {
   "cell_type": "code",
   "execution_count": null,
   "outputs": [],
   "source": [
    "dfs_episodes_sorted.columns\n",
    "cols = dfs_episodes_sorted.columns.to_flat_index()\n",
    "cols\n",
    "\n",
    "cols_str = [\n",
    "    f'{x[0]}_{x[1]}_{x[2]}'\n",
    "    if (x[1] != '')\n",
    "    else f'{x[0]}__{x[2]}'\n",
    "    if (x[2] != '')\n",
    "    else f'{x[0]}'\n",
    "    for x in cols\n",
    "]\n",
    "cols_str"
   ],
   "metadata": {
    "collapsed": false,
    "ExecuteTime": {
     "start_time": "2023-06-12T09:17:48.416211526Z"
    }
   }
  },
  {
   "cell_type": "code",
   "execution_count": null,
   "outputs": [],
   "source": [
    "dfs_episodes_sorted_flat_col = dfs_episodes_sorted.copy()\n",
    "cols = dfs_episodes_sorted.columns.to_flat_index()\n",
    "dfs_episodes_sorted_flat_col.columns = [\n",
    "    f'{x[0]}_{x[1]}_{x[2]}'\n",
    "    if (x[1] != '')\n",
    "    else f'{x[0]}__{x[2]}'  # !!! Very Important!!! dunder means the next of the next level! but str.splitt('_'), you get the '' in between for free!\n",
    "    if (x[2] != '')\n",
    "    else f'{x[0]}'\n",
    "    for x in cols\n",
    "]\n",
    "dfs_episodes_sorted_flat_ind = dfs_episodes_sorted.copy()\n",
    "idx = dfs_episodes_sorted.index.to_flat_index()\n",
    "dfs_episodes_sorted_flat_ind.index = [\n",
    "    f'{x[0]}_{x[1]}' if x[1] != '' else f'x{0}' for x in idx\n",
    "]\n",
    "# dfs_episodes_sorted_flat_ind\n",
    "dfs_episodes_sorted_flat = dfs_episodes_sorted.copy()\n",
    "dfs_episodes_sorted_flat.columns = [\n",
    "    f'{x[0]}_{x[1]}_{x[2]}'\n",
    "    if (x[1] != '')\n",
    "    else f'{x[0]}__{x[2]}'\n",
    "    if (x[2] != '')\n",
    "    else f'{x[0]}'\n",
    "    for x in cols\n",
    "]\n",
    "dfs_episodes_sorted_flat.index = [\n",
    "    f'{idx[0]}_{idx[1]}' if idx[1] != '' else f'{idx[0]}'\n",
    "    for idx in dfs_episodes_sorted.index.to_flat_index()\n",
    "]\n",
    "dfs_episodes_sorted_flat\n",
    "\n"
   ],
   "metadata": {
    "collapsed": false,
    "ExecuteTime": {
     "start_time": "2023-06-12T09:17:48.428959818Z"
    }
   }
  },
  {
   "cell_type": "code",
   "execution_count": null,
   "outputs": [],
   "source": [
    "dfs_episodes_sorted_flat_ind\n",
    "dfs_episodes_sorted_flat_col\n",
    "dfs_episodes_sorted_flat\n",
    "dfs_episodes_sorted_flat.dtypes"
   ],
   "metadata": {
    "collapsed": false,
    "ExecuteTime": {
     "start_time": "2023-06-12T09:17:48.429146227Z"
    }
   }
  },
  {
   "cell_type": "code",
   "execution_count": null,
   "outputs": [],
   "source": [
    "dfs_episodes_sorted_flat['action_row0_0'].iloc[0:2].values.dtype"
   ],
   "metadata": {
    "collapsed": false,
    "ExecuteTime": {
     "start_time": "2023-06-12T09:17:48.429311187Z"
    }
   }
  },
  {
   "cell_type": "code",
   "execution_count": null,
   "outputs": [],
   "source": [
    "try:\n",
    "    ddf_episodes = dd.from_pandas(dfs_episodes_sorted_flat, npartitions=1)\n",
    "except Exception as e:\n",
    "    print(e)\n",
    "\n",
    "try:\n",
    "    ddf_episodes.index\n",
    "    ddf_episodes.columns\n",
    "except Exception as e:\n",
    "    print(e)\n",
    "\n",
    "ddf_episodes"
   ],
   "metadata": {
    "collapsed": false,
    "ExecuteTime": {
     "start_time": "2023-06-12T09:17:48.429465606Z"
    }
   }
  },
  {
   "cell_type": "code",
   "execution_count": null,
   "outputs": [],
   "source": [
    "\n",
    "custom_metadata = {\n",
    "    b'eos': b'{\"length\":[3, 600, 5],\"timezeone\":\"sh\",\"units\":[\"kph\",\"pct\",\"pct\"],\"data_propensity\":[50, 1, 4],\"Dataset Description\": \"MP vehicle from TBox\"}'\n",
    "}\n",
    "custom_metadata"
   ],
   "metadata": {
    "collapsed": false,
    "ExecuteTime": {
     "start_time": "2023-06-12T09:17:48.429618363Z"
    }
   }
  },
  {
   "cell_type": "code",
   "execution_count": null,
   "outputs": [],
   "source": [
    "try:\n",
    "    with ProgressBar():\n",
    "        ddf_episodes.to_parquet(\n",
    "            'eos_episodes',\n",
    "            engine='pyarrow',\n",
    "            compression='snappy',\n",
    "            partition_on=['vehicle', 'driver'],\n",
    "            write_metadata_file=True,\n",
    "            custom_metadata=custom_metadata,\n",
    "        )\n",
    "except Exception as e:\n",
    "    print(e)"
   ],
   "metadata": {
    "collapsed": false,
    "ExecuteTime": {
     "start_time": "2023-06-12T09:17:48.429770989Z"
    }
   }
  },
  {
   "cell_type": "markdown",
   "source": [
    "### Read saved parquet file"
   ],
   "metadata": {
    "collapsed": false
   }
  },
  {
   "cell_type": "code",
   "execution_count": 52,
   "outputs": [
    {
     "ename": "NameError",
     "evalue": "name 'dd' is not defined",
     "output_type": "error",
     "traceback": [
      "\u001B[0;31m---------------------------------------------------------------------------\u001B[0m",
      "\u001B[0;31mNameError\u001B[0m                                 Traceback (most recent call last)",
      "Cell \u001B[0;32mIn[52], line 1\u001B[0m\n\u001B[0;32m----> 1\u001B[0m ddf \u001B[38;5;241m=\u001B[39m \u001B[43mdd\u001B[49m\u001B[38;5;241m.\u001B[39mread_parquet(\n\u001B[1;32m      2\u001B[0m     \u001B[38;5;124m'\u001B[39m\u001B[38;5;124meos_episodes\u001B[39m\u001B[38;5;124m'\u001B[39m,\n\u001B[1;32m      3\u001B[0m     engine\u001B[38;5;241m=\u001B[39m\u001B[38;5;124m'\u001B[39m\u001B[38;5;124mpyarrow\u001B[39m\u001B[38;5;124m'\u001B[39m,\n\u001B[1;32m      4\u001B[0m     compression\u001B[38;5;241m=\u001B[39m\u001B[38;5;124m'\u001B[39m\u001B[38;5;124msnappy\u001B[39m\u001B[38;5;124m'\u001B[39m,\n\u001B[1;32m      5\u001B[0m     ignore_metadata_file\u001B[38;5;241m=\u001B[39m\u001B[38;5;28;01mFalse\u001B[39;00m,\n\u001B[1;32m      6\u001B[0m     infer_divisions\u001B[38;5;241m=\u001B[39m\u001B[38;5;28;01mTrue\u001B[39;00m,\n\u001B[1;32m      7\u001B[0m )\n\u001B[1;32m      8\u001B[0m ddf\u001B[38;5;241m.\u001B[39mhead(\u001B[38;5;241m5\u001B[39m)\n\u001B[1;32m      9\u001B[0m ddf\u001B[38;5;241m.\u001B[39mdtypes\n",
      "\u001B[0;31mNameError\u001B[0m: name 'dd' is not defined"
     ]
    }
   ],
   "source": [
    "ddf = dd.read_parquet(\n",
    "    'eos_episodes',\n",
    "    engine='pyarrow',\n",
    "    compression='snappy',\n",
    "    ignore_metadata_file=False,\n",
    "    infer_divisions=True,\n",
    ")\n",
    "ddf.head(5)\n",
    "ddf.dtypes\n",
    "ddf.npartitions\n",
    "ddf.divisions\n",
    "ddf._meta"
   ],
   "metadata": {
    "collapsed": false,
    "ExecuteTime": {
     "start_time": "2023-06-12T09:17:48.429914358Z"
    }
   }
  },
  {
   "cell_type": "markdown",
   "source": [
    "### Get customized metadata with pyarrow"
   ],
   "metadata": {
    "collapsed": false
   }
  },
  {
   "cell_type": "code",
   "execution_count": null,
   "outputs": [],
   "source": [
    "\n",
    "import pyarrow as pa\n",
    "import pyarrow.parquet as pq\n",
    "import json\n",
    "\n",
    "# print('pyarrow: ', pa.__version__)\n",
    "\n",
    "# table = pq.read_table('ddf_episodes')\n",
    "# table_meta = table.schema.metadata[b'eos']\n",
    "# print(table_meta)\n",
    "# # custom_metadata_info = json.loads(table.schema.metadata[b'eos'])\n",
    "# # print(custom_metadata_info)\n",
    "# try:\n",
    "#     custom_meta_info = json.loads(table_meta)\n",
    "# except Exception as e:\n",
    "#     print(f'Exception: {e}')\n",
    "\n",
    "# print(custom_meta_info)\n",
    "\n",
    "# # Print formatted output of the dichtionary custom_meta_info:\n",
    "# for key, val in custom_meta_info.items():\n",
    "#     print('{:15}: {}'.format(key, val))\n",
    "\n",
    "# ALTERNATE:\n",
    "\n",
    "table_meta = pq.read_metadata('eos_episodes/_common_metadata')\n",
    "# print(table_meta)\n",
    "# print(table_meta.metadata[b'eos'])\n",
    "custom_meta_info = table_meta.metadata[b'eos']\n",
    "custom_meta_info = json.loads(custom_meta_info)\n",
    "# custom_meta_info\n",
    "\n",
    "for key, val in custom_meta_info.items():\n",
    "    print(f'{key}: {val}')\n",
    "\n",
    "# table_meta = pq.read_metadata('ddf_episodes/_metadata')\n",
    "# # print(table_meta)\n",
    "# # print(table_meta.metadata[b'eos'])\n",
    "# custom_meta_info = table_meta.metadata[b'eos']\n",
    "# custom_meta_info = json.loads(custom_meta_info)\n",
    "# custom_meta_info"
   ],
   "metadata": {
    "collapsed": false,
    "ExecuteTime": {
     "start_time": "2023-06-12T09:17:48.444055652Z"
    }
   }
  },
  {
   "cell_type": "markdown",
   "source": [
    "### encoding flat_index of dask dataframe to multiindex"
   ],
   "metadata": {
    "collapsed": false
   }
  },
  {
   "cell_type": "code",
   "execution_count": 53,
   "outputs": [
    {
     "ename": "NameError",
     "evalue": "name 'ddf' is not defined",
     "output_type": "error",
     "traceback": [
      "\u001B[0;31m---------------------------------------------------------------------------\u001B[0m",
      "\u001B[0;31mNameError\u001B[0m                                 Traceback (most recent call last)",
      "Cell \u001B[0;32mIn[53], line 1\u001B[0m\n\u001B[0;32m----> 1\u001B[0m df_episodes_read \u001B[38;5;241m=\u001B[39m \u001B[43mddf\u001B[49m\u001B[38;5;241m.\u001B[39mcompute()\n\u001B[1;32m      2\u001B[0m df_episodes_read\n",
      "\u001B[0;31mNameError\u001B[0m: name 'ddf' is not defined"
     ]
    }
   ],
   "source": [
    "df_episodes_read = ddf.compute()\n",
    "df_episodes_read"
   ],
   "metadata": {
    "collapsed": false,
    "ExecuteTime": {
     "start_time": "2023-06-12T09:17:48.455619322Z"
    }
   }
  },
  {
   "cell_type": "code",
   "execution_count": null,
   "outputs": [],
   "source": [
    "multi_cols = [tuple(col.split('_')) for col in df_episodes_read.columns]\n",
    "multi_cols\n",
    "# multi_cols = [(col[0], int(col[1])) if len(col)==2 else col for col in multi_cols]\n",
    "# multi_cols\n",
    "df_episodes_read_multicol = df_episodes_read.copy()\n",
    "multi_idx = pd.MultiIndex.from_tuples(multi_cols)\n",
    "# multi_idx\n",
    "multi_idx.names = ['tuple', 'measurement', 'step']\n",
    "driver_vehicle = [idx for idx in multi_idx if idx[0] == 'driver' or idx[0] == 'vehicle']\n",
    "driver_vehicle\n",
    "# multi_idx = multi_idx.set_levels([multi_idx.levels[0], multi_idx.levels[1].astype(int)])\n",
    "# multi_idx"
   ],
   "metadata": {
    "collapsed": false,
    "ExecuteTime": {
     "start_time": "2023-06-12T09:17:48.477431629Z"
    }
   }
  },
  {
   "cell_type": "code",
   "execution_count": null,
   "outputs": [],
   "source": [
    "# pd.Series([1, np.nan,2,None])\n",
    "# pd.Series([1,np.nan,2,None,pd.NA])"
   ],
   "metadata": {
    "collapsed": false,
    "ExecuteTime": {
     "start_time": "2023-06-12T09:17:48.477624110Z"
    }
   }
  },
  {
   "cell_type": "code",
   "execution_count": null,
   "outputs": [],
   "source": [
    "multi_tpl = [tuple(col.split('_')) for col in df_episodes_read.columns]\n",
    "# multi_tpl\n",
    "# multi_cols = [(col[0], int(col[1])) if len(col)==2 else col for col in multi_cols]\n",
    "# multi_cols\n",
    "df_episodes_read_multicol = df_episodes_read.copy()\n",
    "multi_col = pd.MultiIndex.from_tuples(multi_tpl)\n",
    "# multi_idx\n",
    "# multi_col\n",
    "i1 = multi_col.get_level_values(0)\n",
    "i1 = [\n",
    "    '' if str(idx) in (str(pd.NA), 'nan', '') else idx for idx in i1\n",
    "]  # convert index of level 2 type to int and '' if NA\n",
    "i1\n",
    "# i2 = multi_col.get_level_values(1).fillna('') # must be null string instead of the default pd.NA or np.nan\n",
    "# i2 = [idx if isinstance(idx, int) else '' for idx in i2]\n",
    "i2 = multi_col.get_level_values(\n",
    "    1\n",
    ")  # must be null string instead of the default pd.NA or np.nan\n",
    "i2 = [\n",
    "    '' if str(idx) in (str(pd.NA), 'nan', '') else idx for idx in i2\n",
    "]  # convert index of level 2 type to int and '' if NA\n",
    "i2\n",
    "# i2 = [idx if isinstance(idx, str) else '' for idx in i2]\n",
    "# i2.astype('int')\n",
    "i3 = multi_col.get_level_values(\n",
    "    2\n",
    ")  # must be null string instead of the default pd.NA or np.nan\n",
    "i3 = [\n",
    "    '' if str(idx) in (str(pd.NA), 'nan', '') else int(idx) for idx in i3\n",
    "]  # convert index of level 2 type to int and '' if NA\n",
    "i3\n",
    "\n",
    "multi_col = pd.MultiIndex.from_arrays([i1, i2, i3])\n",
    "multi_col.names = ['tuple', 'measurement', 'step']\n",
    "multi_col\n",
    "\n",
    "\n",
    "# i2[-1]\n",
    "# i2.dropna()\n",
    "# i2\n",
    "# l2 = ['' if i==nan else i  for i in i2]\n",
    "# l2\n",
    "# i2= i2[:-2].astype('int')\n",
    "# i2 = i2.append(pd.Index(['','']))\n",
    "# l2 = [''] + list(l2.values[:-1])\n",
    "# print(l2)\n",
    "# arrays = [ for i2 in l2 for i1 in l1]\n",
    "# l2 = l2[:-2].astype('int') + ['', '']\n",
    "# multi_col.set_levels(ll, level=['tuple','step'])\n",
    "# driver_vehicle = [idx for idx in multi_idx if idx[0]=='driver' or idx[0]=='vehicle']\n",
    "# multi_tpl =  [(col[0],)  if col[0]=='driver' or col[0]=='vehicle' else (col[0],int(col[1])) for col in multi_col]\n",
    "# multi_idx1 = pd.MultiIndex.from_tuples(multi_idx1)\n",
    "# multi_idx = multi_idx.set_levels([multi_idx.levels[0], multi_idx.levels[1].astype(int)])\n",
    "# multi_col = pd.MultiIndex.from_tuples(multi_tpl)\n",
    "# multi_col"
   ],
   "metadata": {
    "collapsed": false,
    "ExecuteTime": {
     "start_time": "2023-06-12T09:17:48.477783649Z"
    }
   }
  },
  {
   "cell_type": "code",
   "execution_count": null,
   "outputs": [],
   "source": [
    "multi_idx = [tuple(idx.split('_')) for idx in df_episodes_read.index]\n",
    "# multi_idx\n",
    "df_episodes_read_multiidx = df_episodes_read.copy()\n",
    "multi_idx = pd.MultiIndex.from_tuples(multi_idx)\n",
    "multi_idx.names = ['episodestart', 'timestamp']\n",
    "multi_idx\n",
    "# len(multi_idx)"
   ],
   "metadata": {
    "collapsed": false,
    "ExecuteTime": {
     "start_time": "2023-06-12T09:17:48.477939712Z"
    }
   }
  },
  {
   "cell_type": "code",
   "execution_count": null,
   "outputs": [],
   "source": [
    "df_episodes_read_multi = df_episodes_read.copy()\n",
    "df_episodes_read_multi.columns = multi_col\n",
    "df_episodes_read_multi.index = multi_idx\n",
    "df_episodes_read_multi\n",
    "df_episodes_read_multi.columns\n",
    "df_episodes_read_multi.index\n",
    "df_episodes_read_multi.dtypes"
   ],
   "metadata": {
    "collapsed": false,
    "ExecuteTime": {
     "start_time": "2023-06-12T09:17:48.478095714Z"
    }
   }
  },
  {
   "cell_type": "markdown",
   "source": [
    "### recover deep multiindex from columns ['vehicle','driver']"
   ],
   "metadata": {
    "collapsed": false
   }
  },
  {
   "cell_type": "code",
   "execution_count": null,
   "outputs": [],
   "source": [
    "df_episodes_read_multi_setindex = df_episodes_read_multi.set_index(\n",
    "    ['vehicle', 'driver', df_episodes_read_multi.index]\n",
    ")\n",
    "df_episodes_read_multi_setindex.index\n",
    "df_episodes_read_multi_setindex.columns\n",
    "df_episodes_read_multi_setindex"
   ],
   "metadata": {
    "collapsed": false,
    "ExecuteTime": {
     "start_time": "2023-06-12T09:17:48.478256115Z"
    }
   }
  },
  {
   "cell_type": "markdown",
   "source": [
    "## append new episode to the specific parquet file"
   ],
   "metadata": {
    "collapsed": false
   }
  },
  {
   "cell_type": "code",
   "execution_count": 54,
   "outputs": [
    {
     "ename": "NameError",
     "evalue": "name 'dfs_episode3' is not defined",
     "output_type": "error",
     "traceback": [
      "\u001B[0;31m---------------------------------------------------------------------------\u001B[0m",
      "\u001B[0;31mNameError\u001B[0m                                 Traceback (most recent call last)",
      "Cell \u001B[0;32mIn[54], line 2\u001B[0m\n\u001B[1;32m      1\u001B[0m dfs_episode4 \u001B[38;5;241m=\u001B[39m dfs_episode\u001B[38;5;241m.\u001B[39mcopy()\n\u001B[0;32m----> 2\u001B[0m dfs_episode4\u001B[38;5;241m.\u001B[39mindex \u001B[38;5;241m=\u001B[39m \u001B[43mdfs_episode3\u001B[49m\u001B[38;5;241m.\u001B[39mindex\u001B[38;5;241m.\u001B[39mset_levels(\n\u001B[1;32m      3\u001B[0m     [episodestart \u001B[38;5;241m-\u001B[39m pd\u001B[38;5;241m.\u001B[39mTimedelta(\u001B[38;5;241m8\u001B[39m, \u001B[38;5;124m'\u001B[39m\u001B[38;5;124md\u001B[39m\u001B[38;5;124m'\u001B[39m)], level\u001B[38;5;241m=\u001B[39m\u001B[38;5;124m'\u001B[39m\u001B[38;5;124mepisodestart\u001B[39m\u001B[38;5;124m'\u001B[39m\n\u001B[1;32m      4\u001B[0m )\n\u001B[1;32m      5\u001B[0m dfs_episode4\u001B[38;5;241m.\u001B[39mindex \u001B[38;5;241m=\u001B[39m dfs_episode3\u001B[38;5;241m.\u001B[39mindex\u001B[38;5;241m.\u001B[39mset_levels(\n\u001B[1;32m      6\u001B[0m     [[trucks[\u001B[38;5;241m1\u001B[39m]\u001B[38;5;241m.\u001B[39mvid], [drivers[\u001B[38;5;241m1\u001B[39m]\u001B[38;5;241m.\u001B[39mpid]],\n\u001B[1;32m      7\u001B[0m     level\u001B[38;5;241m=\u001B[39m[\u001B[38;5;124m'\u001B[39m\u001B[38;5;124mvehicle\u001B[39m\u001B[38;5;124m'\u001B[39m, \u001B[38;5;124m'\u001B[39m\u001B[38;5;124mdriver\u001B[39m\u001B[38;5;124m'\u001B[39m],\n\u001B[1;32m      8\u001B[0m     verify_integrity\u001B[38;5;241m=\u001B[39m\u001B[38;5;28;01mFalse\u001B[39;00m,\n\u001B[1;32m      9\u001B[0m )\n\u001B[1;32m     10\u001B[0m dfs_episode4 \u001B[38;5;241m=\u001B[39m dfs_episode4\u001B[38;5;241m.\u001B[39mswaplevel(\u001B[38;5;241m0\u001B[39m, \u001B[38;5;241m1\u001B[39m, axis\u001B[38;5;241m=\u001B[39m\u001B[38;5;241m0\u001B[39m)\u001B[38;5;241m.\u001B[39mswaplevel(\u001B[38;5;241m1\u001B[39m, \u001B[38;5;241m2\u001B[39m, axis\u001B[38;5;241m=\u001B[39m\u001B[38;5;241m0\u001B[39m)\n",
      "\u001B[0;31mNameError\u001B[0m: name 'dfs_episode3' is not defined"
     ]
    }
   ],
   "source": [
    "dfs_episode4 = dfs_episode.copy()\n",
    "dfs_episode4.index = dfs_episode3.index.set_levels(\n",
    "    [episodestart - pd.Timedelta(8, 'd')], level='episodestart'\n",
    ")\n",
    "dfs_episode4.index = dfs_episode3.index.set_levels(\n",
    "    [[trucks[1].vid], [drivers[1].pid]],\n",
    "    level=['vehicle', 'driver'],\n",
    "    verify_integrity=False,\n",
    ")\n",
    "dfs_episode4 = dfs_episode4.swaplevel(0, 1, axis=0).swaplevel(1, 2, axis=0)\n",
    "dfs_episode4.columns\n",
    "\n",
    "# dfs_episode5 = dfs_episode.copy()\n",
    "# dfs_episode5.index = dfs_episode3.index.set_levels([episodestart-pd.Timedelta(9,'d')], level='episode')\n",
    "df_episodes_read_multi_setindex.columns"
   ],
   "metadata": {
    "collapsed": false,
    "ExecuteTime": {
     "start_time": "2023-06-12T09:17:48.478627792Z"
    }
   }
  },
  {
   "cell_type": "code",
   "execution_count": null,
   "outputs": [],
   "source": [
    "dfs_episodes_new = pd.concat([df_episodes_read_multi_setindex, dfs_episode4], axis=0)\n",
    "dfs_episodes_new\n",
    "# dfs_episodes_new.columns\n",
    "# dfs_episodes_new.index"
   ],
   "metadata": {
    "collapsed": false,
    "ExecuteTime": {
     "start_time": "2023-06-12T09:17:48.508686948Z"
    }
   }
  },
  {
   "cell_type": "markdown",
   "source": [
    "#### save new dataframe back to parquet"
   ],
   "metadata": {
    "collapsed": false
   }
  },
  {
   "cell_type": "code",
   "execution_count": null,
   "outputs": [],
   "source": [
    "\n",
    "os.getcwd()"
   ],
   "metadata": {
    "collapsed": false,
    "ExecuteTime": {
     "start_time": "2023-06-12T09:17:48.508882405Z"
    }
   }
  },
  {
   "cell_type": "code",
   "execution_count": null,
   "outputs": [],
   "source": [
    "dfs_episodes_new_flat = dfs_episodes_new.copy()\n",
    "dfs_episodes_new_flat = dfs_episodes_new_flat.reset_index(level=['vehicle', 'driver'])\n",
    "dfs_episodes_new_flat.columns"
   ],
   "metadata": {
    "collapsed": false,
    "ExecuteTime": {
     "start_time": "2023-06-12T09:17:48.509044699Z"
    }
   }
  },
  {
   "cell_type": "code",
   "execution_count": null,
   "outputs": [],
   "source": [
    "dfs_episodes_new_flat.index = [\n",
    "    f'{idx[0]}_{idx[1]}' if idx[1] != '' else f'{idx[0]}'\n",
    "    for idx in dfs_episodes_new_flat.index.to_flat_index()\n",
    "]\n",
    "dfs_episodes_new_flat.columns = [\n",
    "    f'{x[0]}_{x[1]}_{x[2]}'\n",
    "    if (x[1] != '')\n",
    "    else f'{x[0]}__{x[2]}'  # !!! dunder!!!\n",
    "    if (x[2] != '')\n",
    "    else f'{x[0]}'\n",
    "    for x in dfs_episodes_new_flat.columns.to_flat_index()\n",
    "]\n",
    "# dfs_episodes_new_flat['vehicle'] = dfs_episodes_new_flat['vehicle'].astype(\"category\")\n",
    "# dfs_episodes_new_flat['driver'] = dfs_episodes_new_flat['driver'].astype(\"category\")\n",
    "\n",
    "dfs_episodes_new_flat.index.name = 'episodestart_timestamp'\n",
    "dfs_episodes_new_flat.index\n",
    "dfs_episodes_new_flat.dtypes\n",
    "dfs_episodes_new_flat.columns\n",
    "dfs_episodes_new_flat\n"
   ],
   "metadata": {
    "collapsed": false,
    "ExecuteTime": {
     "start_time": "2023-06-12T09:17:48.509205130Z"
    }
   }
  },
  {
   "cell_type": "code",
   "execution_count": null,
   "outputs": [],
   "source": [
    "try:\n",
    "    ddf_episodes_new = dd.from_pandas(dfs_episodes_new_flat, npartitions=1)\n",
    "except Exception as e:\n",
    "    print(e)\n",
    "\n",
    "# dfs_episodes_new_flat\n"
   ],
   "metadata": {
    "collapsed": false,
    "ExecuteTime": {
     "start_time": "2023-06-12T09:17:48.509366493Z"
    }
   }
  },
  {
   "cell_type": "code",
   "execution_count": null,
   "outputs": [],
   "source": [
    "os.getcwd()\n",
    "custom_metadata = {\n",
    "    b'eos': b'{\"length\":[6, 600, 5],\"timezeone\":\"sh\",\"units\":[\"kph\",\"pct\",\"pct\"],\"data_propensity\":[50, 1, 4],\"Dataset Description\": \"MP vehicle from TBox\"}'\n",
    "}\n",
    "\n",
    "try:\n",
    "    with ProgressBar():\n",
    "        ddf_episodes_new.to_parquet(\n",
    "            'eos_episodes',\n",
    "            engine='pyarrow',\n",
    "            compression='snappy',\n",
    "            partition_on=['vehicle', 'driver'],\n",
    "            write_metadata_file=True,\n",
    "            custom_metadata=custom_metadata,\n",
    "        )\n",
    "except Exception as e:\n",
    "    print(e)"
   ],
   "metadata": {
    "collapsed": false,
    "ExecuteTime": {
     "start_time": "2023-06-12T09:17:48.509533686Z"
    }
   }
  },
  {
   "cell_type": "code",
   "execution_count": null,
   "outputs": [],
   "source": [
    "ddf = dd.read_parquet(\n",
    "    'eos_episodes',\n",
    "    engine='pyarrow',\n",
    "    compression='snappy',\n",
    "    ignore_metadata_file=False,\n",
    "    infer_divisions=True,\n",
    ")\n",
    "pq_meta = pq.read_metadata('eos_episodes/_common_metadata')\n",
    "custom_meta_info = pq_meta.metadata[b'eos']\n",
    "custom_meta_info = json.loads(custom_meta_info)\n",
    "for key, val in custom_meta_info.items():\n",
    "    print(f'{key}: {val}')\n",
    "\n",
    "df = ddf.compute()\n",
    "\n",
    "multi_tpl = [tuple(col.split('_')) for col in df.columns]\n",
    "multi_col = pd.MultiIndex.from_tuples(multi_tpl)\n",
    "i1 = multi_col.get_level_values(0)\n",
    "i2 = multi_col.get_level_values(\n",
    "    1\n",
    ")  # must be null string instead of the default pd.NA or np.nan\n",
    "i2 = [\n",
    "    '' if str(idx) in (str(pd.NA), 'nan', '') else idx for idx in i2\n",
    "]  # convert index of level 2 type to int and '' if NA\n",
    "i3 = multi_col.get_level_values(\n",
    "    2\n",
    ")  # must be null string instead of the default pd.NA or np.nan\n",
    "i3 = [\n",
    "    '' if str(idx) in (str(pd.NA), 'nan', '') else int(idx) for idx in i3\n",
    "]  # convert index of level 2 type to int and '' if NA\n",
    "\n",
    "\n",
    "multi_col = pd.MultiIndex.from_arrays([i1, i2, i3])\n",
    "multi_col.names = ['tuple', 'measurement', 'step']\n",
    "multi_col\n",
    "\n",
    "multi_idx = [tuple(idx.split('_')) for idx in df.index]\n",
    "multi_idx = pd.MultiIndex.from_tuples(multi_idx)\n",
    "multi_idx.names = ['episodestart', 'timestamp']\n",
    "multi_idx\n",
    "df.columns = multi_col\n",
    "df.index = multi_idx\n",
    "\n",
    "df = df.set_index(['vehicle', 'driver', df.index])\n",
    "df\n",
    "# len(multi_idx)"
   ],
   "metadata": {
    "collapsed": false,
    "ExecuteTime": {
     "start_time": "2023-06-12T09:17:48.509678127Z"
    }
   }
  },
  {
   "cell_type": "markdown",
   "source": [
    "### add rows to a partition"
   ],
   "metadata": {
    "collapsed": false
   }
  },
  {
   "cell_type": "code",
   "execution_count": 55,
   "outputs": [
    {
     "ename": "NameError",
     "evalue": "name 'dd' is not defined",
     "output_type": "error",
     "traceback": [
      "\u001B[0;31m---------------------------------------------------------------------------\u001B[0m",
      "\u001B[0;31mNameError\u001B[0m                                 Traceback (most recent call last)",
      "Cell \u001B[0;32mIn[55], line 1\u001B[0m\n\u001B[0;32m----> 1\u001B[0m ddf \u001B[38;5;241m=\u001B[39m \u001B[43mdd\u001B[49m\u001B[38;5;241m.\u001B[39mread_parquet(\n\u001B[1;32m      2\u001B[0m     \u001B[38;5;124m'\u001B[39m\u001B[38;5;124meos_episodes\u001B[39m\u001B[38;5;124m'\u001B[39m,\n\u001B[1;32m      3\u001B[0m     engine\u001B[38;5;241m=\u001B[39m\u001B[38;5;124m'\u001B[39m\u001B[38;5;124mpyarrow\u001B[39m\u001B[38;5;124m'\u001B[39m,\n\u001B[1;32m      4\u001B[0m     compression\u001B[38;5;241m=\u001B[39m\u001B[38;5;124m'\u001B[39m\u001B[38;5;124msnappy\u001B[39m\u001B[38;5;124m'\u001B[39m,\n\u001B[1;32m      5\u001B[0m     ignore_metadata_file\u001B[38;5;241m=\u001B[39m\u001B[38;5;28;01mFalse\u001B[39;00m,\n\u001B[1;32m      6\u001B[0m     infer_divisions\u001B[38;5;241m=\u001B[39m\u001B[38;5;28;01mTrue\u001B[39;00m,\n\u001B[1;32m      7\u001B[0m )\n\u001B[1;32m      8\u001B[0m ddf\u001B[38;5;241m.\u001B[39mindex\n\u001B[1;32m      9\u001B[0m ddf\u001B[38;5;241m.\u001B[39mnpartitions\n",
      "\u001B[0;31mNameError\u001B[0m: name 'dd' is not defined"
     ]
    }
   ],
   "source": [
    "\n",
    "ddf = dd.read_parquet(\n",
    "    'eos_episodes',\n",
    "    engine='pyarrow',\n",
    "    compression='snappy',\n",
    "    ignore_metadata_file=False,\n",
    "    infer_divisions=True,\n",
    ")\n",
    "ddf.index\n",
    "ddf.npartitions\n",
    "ddf.divisions\n",
    "ddf.compute()"
   ],
   "metadata": {
    "collapsed": false,
    "ExecuteTime": {
     "start_time": "2023-06-12T09:17:48.515296111Z"
    }
   }
  },
  {
   "cell_type": "code",
   "execution_count": null,
   "outputs": [],
   "source": [
    "dfs_episode5 = dfs_episode.copy()\n",
    "dfs_episode5.index = dfs_episode4.index.set_levels(\n",
    "    [episodestart - pd.Timedelta(9, 'd')], level='episodestart'\n",
    ")\n",
    "dfs_episode5.index = dfs_episode4.index.set_levels(\n",
    "    [[trucks[1].vid], [drivers[0].pid]],\n",
    "    level=['vehicle', 'driver'],\n",
    "    verify_integrity=False,\n",
    ")\n",
    "# dfs_episode5 = dfs_episode5.swaplevel(0,1, axis=0).swaplevel(1,2,axis=0)\n",
    "dfs_episode5 = dfs_episode5.reset_index(level=['vehicle', 'driver'])\n",
    "\n",
    "dfs_episode5['vehicle'] = dfs_episode5['vehicle'].astype('category')\n",
    "dfs_episode5['driver'] = dfs_episode5['driver'].astype('category')\n",
    "dfs_episode5"
   ],
   "metadata": {
    "collapsed": false,
    "ExecuteTime": {
     "start_time": "2023-06-12T09:17:48.527090544Z"
    }
   }
  },
  {
   "cell_type": "markdown",
   "source": [
    "#### decoding single dataframe of multiindex into dask single index dataframe"
   ],
   "metadata": {
    "collapsed": false
   }
  },
  {
   "cell_type": "code",
   "execution_count": 56,
   "outputs": [
    {
     "ename": "NameError",
     "evalue": "name 'dfs_episode5' is not defined",
     "output_type": "error",
     "traceback": [
      "\u001B[0;31m---------------------------------------------------------------------------\u001B[0m",
      "\u001B[0;31mNameError\u001B[0m                                 Traceback (most recent call last)",
      "Cell \u001B[0;32mIn[56], line 1\u001B[0m\n\u001B[0;32m----> 1\u001B[0m df_episode_new \u001B[38;5;241m=\u001B[39m \u001B[43mdfs_episode5\u001B[49m\u001B[38;5;241m.\u001B[39mcopy()\n\u001B[1;32m      2\u001B[0m df_episode_new\u001B[38;5;241m.\u001B[39mcolumns \u001B[38;5;241m=\u001B[39m [\n\u001B[1;32m      3\u001B[0m     \u001B[38;5;124mf\u001B[39m\u001B[38;5;124m'\u001B[39m\u001B[38;5;132;01m{\u001B[39;00mx[\u001B[38;5;241m0\u001B[39m]\u001B[38;5;132;01m}\u001B[39;00m\u001B[38;5;124m_\u001B[39m\u001B[38;5;132;01m{\u001B[39;00mx[\u001B[38;5;241m1\u001B[39m]\u001B[38;5;132;01m}\u001B[39;00m\u001B[38;5;124m_\u001B[39m\u001B[38;5;132;01m{\u001B[39;00mx[\u001B[38;5;241m2\u001B[39m]\u001B[38;5;132;01m}\u001B[39;00m\u001B[38;5;124m'\u001B[39m\n\u001B[1;32m      4\u001B[0m     \u001B[38;5;28;01mif\u001B[39;00m (x[\u001B[38;5;241m1\u001B[39m] \u001B[38;5;241m!=\u001B[39m \u001B[38;5;124m'\u001B[39m\u001B[38;5;124m'\u001B[39m)\n\u001B[0;32m   (...)\u001B[0m\n\u001B[1;32m      8\u001B[0m     \u001B[38;5;28;01mfor\u001B[39;00m x \u001B[38;5;129;01min\u001B[39;00m dfs_episode5\u001B[38;5;241m.\u001B[39mcolumns\u001B[38;5;241m.\u001B[39mto_flat_index()\n\u001B[1;32m      9\u001B[0m ]\n\u001B[1;32m     10\u001B[0m df_episode_new\u001B[38;5;241m.\u001B[39mindex \u001B[38;5;241m=\u001B[39m [\n\u001B[1;32m     11\u001B[0m     \u001B[38;5;124mf\u001B[39m\u001B[38;5;124m'\u001B[39m\u001B[38;5;132;01m{\u001B[39;00mx[\u001B[38;5;241m0\u001B[39m]\u001B[38;5;132;01m}\u001B[39;00m\u001B[38;5;124m_\u001B[39m\u001B[38;5;132;01m{\u001B[39;00mx[\u001B[38;5;241m1\u001B[39m]\u001B[38;5;132;01m}\u001B[39;00m\u001B[38;5;124m'\u001B[39m \u001B[38;5;28;01mif\u001B[39;00m x[\u001B[38;5;241m1\u001B[39m] \u001B[38;5;241m!=\u001B[39m \u001B[38;5;124m'\u001B[39m\u001B[38;5;124m'\u001B[39m \u001B[38;5;28;01melse\u001B[39;00m \u001B[38;5;124mf\u001B[39m\u001B[38;5;124m'\u001B[39m\u001B[38;5;124mx\u001B[39m\u001B[38;5;132;01m{\u001B[39;00m\u001B[38;5;241m0\u001B[39m\u001B[38;5;132;01m}\u001B[39;00m\u001B[38;5;124m'\u001B[39m\n\u001B[1;32m     12\u001B[0m     \u001B[38;5;28;01mfor\u001B[39;00m x \u001B[38;5;129;01min\u001B[39;00m dfs_episode5\u001B[38;5;241m.\u001B[39mindex\u001B[38;5;241m.\u001B[39mto_flat_index()\n\u001B[1;32m     13\u001B[0m ]\n",
      "\u001B[0;31mNameError\u001B[0m: name 'dfs_episode5' is not defined"
     ]
    }
   ],
   "source": [
    "df_episode_new = dfs_episode5.copy()\n",
    "df_episode_new.columns = [\n",
    "    f'{x[0]}_{x[1]}_{x[2]}'\n",
    "    if (x[1] != '')\n",
    "    else f'{x[0]}__{x[2]}'  # !!! dunder!!!\n",
    "    if (x[2] != '')\n",
    "    else f'{x[0]}'\n",
    "    for x in dfs_episode5.columns.to_flat_index()\n",
    "]\n",
    "df_episode_new.index = [\n",
    "    f'{x[0]}_{x[1]}' if x[1] != '' else f'x{0}'\n",
    "    for x in dfs_episode5.index.to_flat_index()\n",
    "]\n",
    "# df_episode_new.dtypes\n",
    "df_episode_new"
   ],
   "metadata": {
    "collapsed": false,
    "ExecuteTime": {
     "start_time": "2023-06-12T09:17:48.528350737Z"
    }
   }
  },
  {
   "cell_type": "code",
   "execution_count": null,
   "outputs": [],
   "source": [
    "\n",
    "ddf = dd.read_parquet(\n",
    "    'eos_episodes',\n",
    "    engine='pyarrow',\n",
    "    compression='snappy',\n",
    "    ignore_metadata_file=False,\n",
    "    infer_divisions=True,\n",
    ")\n",
    "df = ddf.compute()\n",
    "df.dtypes"
   ],
   "metadata": {
    "collapsed": false,
    "ExecuteTime": {
     "start_time": "2023-06-12T09:17:48.581189123Z"
    }
   }
  },
  {
   "cell_type": "code",
   "execution_count": null,
   "outputs": [],
   "source": [
    "df_list = []\n",
    "for n in range(ddf.npartitions):\n",
    "    df_list.append(ddf.partitions[n])\n",
    "len(df_list)"
   ],
   "metadata": {
    "collapsed": false,
    "ExecuteTime": {
     "start_time": "2023-06-12T09:17:48.581444252Z"
    }
   }
  },
  {
   "cell_type": "code",
   "execution_count": null,
   "outputs": [],
   "source": [
    "for i, ddf in enumerate(df_list):\n",
    "    # if dfs_episode_new['vehicle']\n",
    "    print(f\"{i}\")\n",
    "    # df = ddf.compute()\n",
    "    # ddf.columns\n",
    "    # ddf.dtypes\n",
    "    vehicle = ddf['vehicle'].compute()[0]\n",
    "    driver = ddf['driver'].compute()[0]\n",
    "    # df_episode_new = df_episode_new.append(ddf)\n",
    "    if (\n",
    "        df_episode_new['vehicle'][0] == vehicle\n",
    "        and df_episode_new['driver'][0] == driver\n",
    "    ):\n",
    "        print(\n",
    "            f'hit {i}{\"st\" if i==1 else \"nd\" if i==2 else \"rd\" if i==3 else \"th\"} partition'\n",
    "        )\n",
    "        df_list[i] = dd.concat([ddf, df_episode_new], axis=0)\n",
    "        # append ddf to dfs_episode_new\n",
    "\n",
    "    #     c_ep = df_episode_new['ep\n",
    "    #     dfs_episode_new = dfs_episode_newappend(ddf)\n",
    "    # print(f\"splicing dfs_episode_new {c_ep} with\n"
   ],
   "metadata": {
    "collapsed": false,
    "ExecuteTime": {
     "start_time": "2023-06-12T09:17:48.581613940Z"
    }
   }
  },
  {
   "cell_type": "code",
   "execution_count": null,
   "outputs": [],
   "source": [
    "\n",
    "ddf_all = dd.concat(df_list, axis=0, join='outer')\n",
    "# ddf_all.compute()os.getcwd()\n",
    "custom_metadata = {\n",
    "    b'eos': b'{\"length\":[8, 800, 8],\"timezeone\":\"sh\",\"units\":[\"kph\",\"pct\",\"pct\"],\"data_propensity\":[50, 1, 4],\"Dataset Description\": \"MP vehicle from TBox\"}'\n",
    "}\n",
    "\n",
    "try:\n",
    "    with ProgressBar():\n",
    "        ddf_all.to_parquet(\n",
    "            'eos_episodes',\n",
    "            engine='pyarrow',\n",
    "            compression='snappy',\n",
    "            partition_on=['vehicle', 'driver'],\n",
    "            write_metadata_file=True,\n",
    "            custom_metadata=custom_metadata,\n",
    "        )\n",
    "except Exception as e:\n",
    "    print(e)\n"
   ],
   "metadata": {
    "collapsed": false,
    "ExecuteTime": {
     "start_time": "2023-06-12T09:17:48.581781103Z"
    }
   }
  },
  {
   "cell_type": "code",
   "execution_count": null,
   "outputs": [],
   "source": [
    "# ddf_all.compute()\n",
    "ddf = dd.read_parquet(\n",
    "    'eos_episodes',\n",
    "    engine='pyarrow',\n",
    "    compression='snappy',\n",
    "    ignore_metadata_file=False,\n",
    "    infer_divisions=True,\n",
    ")\n",
    "pq_meta = pq.read_metadata('ddf_episodes/_common_metadata')\n",
    "# print(table_meta)\n",
    "# print(table_meta.metadata[b'eos'])\n",
    "custom_meta_info = pq_meta.metadata[b'eos']\n",
    "custom_meta_info = json.loads(custom_meta_info)\n",
    "# custom_meta_info\n",
    "\n",
    "for key, val in custom_meta_info.items():\n",
    "    print(f'{key}: {val}')\n",
    "\n",
    "df = ddf.compute()\n",
    "\n",
    "multi_tpl = [tuple(col.split('_')) for col in ddf.columns]\n",
    "multi_col = pd.MultiIndex.from_tuples(multi_tpl)\n",
    "i1 = multi_col.get_level_values(0)\n",
    "i2 = multi_col.get_level_values(\n",
    "    1\n",
    ")  # must be null string instead of the default pd.NA or np.nan\n",
    "i2 = [\n",
    "    '' if str(idx) in (str(pd.NA), 'nan', '') else idx for idx in i2\n",
    "]  # convert index of level 2 type to int and '' if NA\n",
    "i3 = multi_col.get_level_values(\n",
    "    2\n",
    ")  # must be null string instead of the default pd.NA or np.nan\n",
    "i3 = [\n",
    "    '' if str(idx) in (str(pd.NA), 'nan', '') else int(idx) for idx in i3\n",
    "]  # convert index of level 2 type to int and '' if NA\n",
    "\n",
    "multi_col = pd.MultiIndex.from_arrays([i1, i2, i3])\n",
    "multi_col.names = ['tuple', 'measurement', 'step']\n",
    "df.columns = multi_col\n",
    "\n",
    "multi_idx = [tuple(idx.split('_')) for idx in ddf.index]\n",
    "df_episodes_read_multiidx = df_episodes_read.copy()\n",
    "multi_idx = pd.MultiIndex.from_tuples(multi_idx)\n",
    "multi_idx.names = ['episodestart', 'timestamp']\n",
    "df.index = multi_idx\n",
    "df = df.set_index(['vehicle', 'driver', df.index])\n",
    "df\n",
    "df.columns\n",
    "df.index\n",
    "# len(multi_idx)\n"
   ],
   "metadata": {
    "collapsed": false,
    "ExecuteTime": {
     "start_time": "2023-06-12T09:17:48.581988712Z"
    }
   }
  },
  {
   "cell_type": "code",
   "execution_count": null,
   "metadata": {
    "ExecuteTime": {
     "start_time": "2023-06-12T09:17:48.582144925Z"
    }
   },
   "outputs": [],
   "source": [
    "df = df.sort_index()\n",
    "df"
   ]
  },
  {
   "cell_type": "code",
   "execution_count": null,
   "metadata": {
    "ExecuteTime": {
     "start_time": "2023-06-12T09:17:48.582291220Z"
    }
   },
   "outputs": [],
   "source": []
  }
 ],
 "metadata": {
  "kernelspec": {
   "display_name": "datascience-dask",
   "language": "python",
   "name": "python3"
  },
  "language_info": {
   "codemirror_mode": {
    "name": "ipython",
    "version": 3
   },
   "file_extension": ".py",
   "mimetype": "text/x-python",
   "name": "python",
   "nbconvert_exporter": "python",
   "pygments_lexer": "ipython3",
   "version": "3.10.11"
  },
  "orig_nbformat": 4
 },
 "nbformat": 4,
 "nbformat_minor": 2
}
