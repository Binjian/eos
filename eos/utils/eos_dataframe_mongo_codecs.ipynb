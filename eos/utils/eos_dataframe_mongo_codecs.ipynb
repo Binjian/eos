{
 "cells": [
  {
   "cell_type": "code",
   "execution_count": 1,
   "outputs": [],
   "source": [
    "from IPython.core.interactiveshell import InteractiveShell\n",
    "\n",
    "InteractiveShell.ast_node_interactivity = \"all\"\n",
    "\n",
    "\n",
    "class display(object):\n",
    "    \"\"\"Display HTML representation of multiple objects\"\"\"\n",
    "\n",
    "    template = \"\"\"<div style=\"float: left; padding: 10px;\">\n",
    "    <p style='font-family:\"Courier New\", Courier, monospace'>{0}</p>{1}\n",
    "    </div>\"\"\"\n",
    "\n",
    "    def __init__(self, *args):\n",
    "        self.args = args\n",
    "\n",
    "    def _repr_html_(self):\n",
    "        return '\\n'.join(\n",
    "            self.template.format(a, eval(a)._repr_html_()) for a in self.args\n",
    "        )\n",
    "\n",
    "    def __repr__(self):\n",
    "        return '\\n\\n'.join(a + '\\n' + repr(eval(a)) for a in self.args)\n",
    "\n"
   ],
   "metadata": {
    "collapsed": false,
    "ExecuteTime": {
     "end_time": "2023-06-21T04:30:09.444542173Z",
     "start_time": "2023-06-21T04:30:09.177676332Z"
    }
   }
  },
  {
   "cell_type": "code",
   "execution_count": 2,
   "outputs": [
    {
     "data": {
      "text/plain": "array([[1, 2, 3],\n       [4, 5, 6]])"
     },
     "execution_count": 2,
     "metadata": {},
     "output_type": "execute_result"
    },
    {
     "data": {
      "text/plain": "array([1, 2, 3, 4, 5, 6])"
     },
     "execution_count": 2,
     "metadata": {},
     "output_type": "execute_result"
    },
    {
     "data": {
      "text/plain": "array([1, 4, 2, 5, 3, 6])"
     },
     "execution_count": 2,
     "metadata": {},
     "output_type": "execute_result"
    }
   ],
   "source": [
    "import numpy as np\n",
    "\n",
    "a = np.array([[1, 2, 3], [4, 5, 6]])\n",
    "a\n",
    "\n",
    "b = a.flatten()\n",
    "b\n",
    "c = a.flatten('F')\n",
    "c"
   ],
   "metadata": {
    "collapsed": false,
    "ExecuteTime": {
     "end_time": "2023-06-21T04:30:10.080842516Z",
     "start_time": "2023-06-21T04:30:09.181194246Z"
    }
   }
  },
  {
   "cell_type": "code",
   "execution_count": 3,
   "outputs": [
    {
     "name": "stdout",
     "output_type": "stream",
     "text": [
      "Pool.__init_subclass__(): ~DocItemT; Concrete Class: (eos.data_io.pool.pool.Pool[~DocItemT], typing.Generic[~DocItemT])\n",
      "Pool.__init_subclass__(): <class 'pandas.core.frame.DataFrame'>; Concrete Class: (eos.data_io.pool.pool.Pool[pandas.core.frame.DataFrame],)\n",
      "Pool.__init_subclass__(): <class 'eos.data_io.struct.eos_data.RecordDoc'>; Concrete Class: (eos.data_io.pool.pool.Pool[eos.data_io.struct.eos_data.RecordDoc],)\n",
      "Pool.__init_subclass__(): <class 'pandas.core.frame.DataFrame'>; Concrete Class: (eos.data_io.pool.pool.Pool[pandas.core.frame.DataFrame],)\n",
      "Pool.__init_subclass__(): ~DocItemT; Concrete Class: (eos.data_io.pool.pool.Pool[~DocItemT], typing.Generic[~DocItemT])\n",
      "Pool.__init_subclass__(): ~DocItemT; Concrete Class: (eos.data_io.buffer.buffer.Buffer[~DocItemT], typing.Generic[~DocItemT])\n",
      "Pool.__init_subclass__(): <class 'pandas.core.frame.DataFrame'>; Concrete Class: (eos.data_io.buffer.buffer.Buffer[pandas.core.frame.DataFrame],)\n",
      "Pool.__init_subclass__(): <class 'pandas.core.frame.DataFrame'>; Concrete Class: (eos.data_io.buffer.buffer.Buffer[pandas.core.frame.DataFrame],)\n"
     ]
    },
    {
     "name": "stderr",
     "output_type": "stream",
     "text": [
      "2023-06-21 12:30:10.227144: I tensorflow/core/platform/cpu_feature_guard.cc:193] This TensorFlow binary is optimized with oneAPI Deep Neural Network Library (oneDNN) to use the following CPU instructions in performance-critical operations:  SSE4.1 SSE4.2 AVX AVX2 FMA\n",
      "To enable them in other operations, rebuild TensorFlow with the appropriate compiler flags.\n"
     ]
    }
   ],
   "source": [
    "from dataclasses import dataclass, field\n",
    "from typing import Optional\n",
    "import pandas as pd\n",
    "import numpy as np\n",
    "from ordered_set import OrderedSet\n",
    "from eos.data_io.config import drivers, trucks_by_id, drivers_by_id\n",
    "\n",
    "# DriverSet = OrderedSet(\n",
    "#     [\n",
    "#         'wang-cheng',\n",
    "#         'li-changlong',\n",
    "#         'chen-hongmei',\n",
    "#         'zheng-longfei',\n",
    "#     ]\n",
    "# )\n",
    "# DriverSet[0]\n",
    "# DriverSet.get_loc('wang-cheng')\n",
    "# DriverSet\n"
   ],
   "metadata": {
    "collapsed": false,
    "ExecuteTime": {
     "end_time": "2023-06-21T04:30:11.722607918Z",
     "start_time": "2023-06-21T04:30:09.291080366Z"
    }
   }
  },
  {
   "cell_type": "code",
   "execution_count": 4,
   "outputs": [
    {
     "data": {
      "text/plain": "DatetimeIndex(['2023-06-21 12:30:11.688103', '2023-06-21 13:30:11.688103'], dtype='datetime64[ns]', freq=None)"
     },
     "execution_count": 4,
     "metadata": {},
     "output_type": "execute_result"
    },
    {
     "data": {
      "text/plain": "                            c1  c2  c3\n2023-06-21 12:30:11.688103   1   2   3\n2023-06-21 13:30:11.688103   4   5   6",
      "text/html": "<div>\n<style scoped>\n    .dataframe tbody tr th:only-of-type {\n        vertical-align: middle;\n    }\n\n    .dataframe tbody tr th {\n        vertical-align: top;\n    }\n\n    .dataframe thead th {\n        text-align: right;\n    }\n</style>\n<table border=\"1\" class=\"dataframe\">\n  <thead>\n    <tr style=\"text-align: right;\">\n      <th></th>\n      <th>c1</th>\n      <th>c2</th>\n      <th>c3</th>\n    </tr>\n  </thead>\n  <tbody>\n    <tr>\n      <th>2023-06-21 12:30:11.688103</th>\n      <td>1</td>\n      <td>2</td>\n      <td>3</td>\n    </tr>\n    <tr>\n      <th>2023-06-21 13:30:11.688103</th>\n      <td>4</td>\n      <td>5</td>\n      <td>6</td>\n    </tr>\n  </tbody>\n</table>\n</div>"
     },
     "execution_count": 4,
     "metadata": {},
     "output_type": "execute_result"
    },
    {
     "data": {
      "text/plain": "Timestamp('2023-06-21 12:30:11.688103')"
     },
     "execution_count": 4,
     "metadata": {},
     "output_type": "execute_result"
    }
   ],
   "source": [
    "import pandas as pd\n",
    "import numpy as np\n",
    "from datetime import datetime\n",
    "\n",
    "ts = pd.to_datetime(datetime.now())\n",
    "ts_ind = ts + pd.to_timedelta(np.arange(2), 'H')\n",
    "ts_ind\n",
    "df = pd.DataFrame(a, index=ts_ind, columns=['c1', 'c2', 'c3'])\n",
    "df\n",
    "df.index[0]\n"
   ],
   "metadata": {
    "collapsed": false,
    "ExecuteTime": {
     "end_time": "2023-06-21T04:30:11.846289652Z",
     "start_time": "2023-06-21T04:30:11.720439485Z"
    }
   }
  },
  {
   "cell_type": "code",
   "execution_count": 5,
   "outputs": [
    {
     "data": {
      "text/plain": "Timestamp('2023-06-21 12:30:11.688103')"
     },
     "execution_count": 5,
     "metadata": {},
     "output_type": "execute_result"
    },
    {
     "data": {
      "text/plain": "Timestamp('2023-06-21 12:30:11.712794')"
     },
     "execution_count": 5,
     "metadata": {},
     "output_type": "execute_result"
    },
    {
     "data": {
      "text/plain": "Timedelta('0 days 00:00:00.024691')"
     },
     "execution_count": 5,
     "metadata": {},
     "output_type": "execute_result"
    },
    {
     "data": {
      "text/plain": "Timedelta('0 days 00:00:00.006172750')"
     },
     "execution_count": 5,
     "metadata": {},
     "output_type": "execute_result"
    },
    {
     "data": {
      "text/plain": "array([0., 1., 2., 3., 4.])"
     },
     "execution_count": 5,
     "metadata": {},
     "output_type": "execute_result"
    },
    {
     "data": {
      "text/plain": "DatetimeIndex(['2023-06-21 12:30:11.694275750',\n               '2023-06-21 12:30:11.700448500',\n               '2023-06-21 12:30:11.706621250',\n                  '2023-06-21 12:30:11.712794'],\n              dtype='datetime64[ns]', freq=None)"
     },
     "execution_count": 5,
     "metadata": {},
     "output_type": "execute_result"
    }
   ],
   "source": [
    "ts\n",
    "ts_end = pd.to_datetime(datetime.now())\n",
    "ts_end\n",
    "span = ts_end - ts\n",
    "span\n",
    "span_each_row = span / 4\n",
    "span_each_row\n",
    "np.linspace(0, 4, 5)\n",
    "ts_ser = ts + pd.to_timedelta(np.linspace(1, 4, 4) * span_each_row, unit='s')\n",
    "ts_ser\n"
   ],
   "metadata": {
    "collapsed": false,
    "ExecuteTime": {
     "end_time": "2023-06-21T04:30:12.015397195Z",
     "start_time": "2023-06-21T04:30:11.723087361Z"
    }
   }
  },
  {
   "cell_type": "code",
   "execution_count": 6,
   "outputs": [
    {
     "data": {
      "text/plain": "                   timestamp\n0 2023-06-21 12:30:11.688103",
      "text/html": "<div>\n<style scoped>\n    .dataframe tbody tr th:only-of-type {\n        vertical-align: middle;\n    }\n\n    .dataframe tbody tr th {\n        vertical-align: top;\n    }\n\n    .dataframe thead th {\n        text-align: right;\n    }\n</style>\n<table border=\"1\" class=\"dataframe\">\n  <thead>\n    <tr style=\"text-align: right;\">\n      <th></th>\n      <th>timestamp</th>\n    </tr>\n  </thead>\n  <tbody>\n    <tr>\n      <th>0</th>\n      <td>2023-06-21 12:30:11.688103</td>\n    </tr>\n  </tbody>\n</table>\n</div>"
     },
     "execution_count": 6,
     "metadata": {},
     "output_type": "execute_result"
    }
   ],
   "source": [
    "df_ts = pd.DataFrame(np.array([ts]), columns=['timestamp'])\n",
    "df_ts"
   ],
   "metadata": {
    "collapsed": false,
    "ExecuteTime": {
     "end_time": "2023-06-21T04:30:12.015954064Z",
     "start_time": "2023-06-21T04:30:11.765179353Z"
    }
   }
  },
  {
   "cell_type": "code",
   "execution_count": 7,
   "outputs": [
    {
     "data": {
      "text/plain": "array([0, 1, 2, 3, 4, 5, 6, 7, 8, 9])"
     },
     "execution_count": 7,
     "metadata": {},
     "output_type": "execute_result"
    }
   ],
   "source": [
    "s = np.arange(10)\n",
    "s"
   ],
   "metadata": {
    "collapsed": false,
    "ExecuteTime": {
     "end_time": "2023-06-21T04:30:12.016359307Z",
     "start_time": "2023-06-21T04:30:11.765692619Z"
    }
   }
  },
  {
   "cell_type": "markdown",
   "source": [
    "### Generate state"
   ],
   "metadata": {
    "collapsed": false
   }
  },
  {
   "cell_type": "code",
   "execution_count": 8,
   "outputs": [
    {
     "data": {
      "text/plain": "[[0, 1, 2, 3], [4, 5, 6, 7], [8, 9, 10, 11]]"
     },
     "execution_count": 8,
     "metadata": {},
     "output_type": "execute_result"
    },
    {
     "data": {
      "text/plain": "   t  v   p   b\n0  0  1   2   3\n1  4  5   6   7\n2  8  9  10  11",
      "text/html": "<div>\n<style scoped>\n    .dataframe tbody tr th:only-of-type {\n        vertical-align: middle;\n    }\n\n    .dataframe tbody tr th {\n        vertical-align: top;\n    }\n\n    .dataframe thead th {\n        text-align: right;\n    }\n</style>\n<table border=\"1\" class=\"dataframe\">\n  <thead>\n    <tr style=\"text-align: right;\">\n      <th></th>\n      <th>t</th>\n      <th>v</th>\n      <th>p</th>\n      <th>b</th>\n    </tr>\n  </thead>\n  <tbody>\n    <tr>\n      <th>0</th>\n      <td>0</td>\n      <td>1</td>\n      <td>2</td>\n      <td>3</td>\n    </tr>\n    <tr>\n      <th>1</th>\n      <td>4</td>\n      <td>5</td>\n      <td>6</td>\n      <td>7</td>\n    </tr>\n    <tr>\n      <th>2</th>\n      <td>8</td>\n      <td>9</td>\n      <td>10</td>\n      <td>11</td>\n    </tr>\n  </tbody>\n</table>\n</div>"
     },
     "execution_count": 8,
     "metadata": {},
     "output_type": "execute_result"
    }
   ],
   "source": [
    "ss = np.arange(12)\n",
    "a1 = ss[:4].tolist()\n",
    "a2 = ss[4:8].tolist()\n",
    "a3 = ss[8:].tolist()\n",
    "ss = [a1, a2, a3]\n",
    "ss\n",
    "df_s = pd.DataFrame(ss, columns=['t', 'v', 'p', 'b'])  # .set_index('t')\n",
    "df_s"
   ],
   "metadata": {
    "collapsed": false,
    "ExecuteTime": {
     "end_time": "2023-06-21T04:30:12.016859759Z",
     "start_time": "2023-06-21T04:30:11.766455505Z"
    }
   }
  },
  {
   "cell_type": "code",
   "execution_count": 9,
   "outputs": [
    {
     "data": {
      "text/plain": "array([ 0, 20, 40, 60])"
     },
     "execution_count": 9,
     "metadata": {},
     "output_type": "execute_result"
    }
   ],
   "source": [
    "np.arange(0, 4 * 20, 20)"
   ],
   "metadata": {
    "collapsed": false,
    "ExecuteTime": {
     "end_time": "2023-06-21T04:30:12.017277927Z",
     "start_time": "2023-06-21T04:30:11.766838376Z"
    }
   }
  },
  {
   "cell_type": "code",
   "execution_count": 10,
   "outputs": [
    {
     "data": {
      "text/plain": "DatetimeIndex(['2023-06-21 12:30:11.688103', '2023-06-21 12:30:11.708103',\n               '2023-06-21 12:30:11.728103', '2023-06-21 12:30:11.748103'],\n              dtype='datetime64[ns]', freq=None)"
     },
     "execution_count": 10,
     "metadata": {},
     "output_type": "execute_result"
    },
    {
     "data": {
      "text/plain": "tuple                   timestep  velocity  thrust  brake\n0     2023-06-21 12:30:11.688103         0       4      8\n1     2023-06-21 12:30:11.708103         1       5      9\n2     2023-06-21 12:30:11.728103         2       6     10\n3     2023-06-21 12:30:11.748103         3       7     11",
      "text/html": "<div>\n<style scoped>\n    .dataframe tbody tr th:only-of-type {\n        vertical-align: middle;\n    }\n\n    .dataframe tbody tr th {\n        vertical-align: top;\n    }\n\n    .dataframe thead th {\n        text-align: right;\n    }\n</style>\n<table border=\"1\" class=\"dataframe\">\n  <thead>\n    <tr style=\"text-align: right;\">\n      <th>tuple</th>\n      <th>timestep</th>\n      <th>velocity</th>\n      <th>thrust</th>\n      <th>brake</th>\n    </tr>\n  </thead>\n  <tbody>\n    <tr>\n      <th>0</th>\n      <td>2023-06-21 12:30:11.688103</td>\n      <td>0</td>\n      <td>4</td>\n      <td>8</td>\n    </tr>\n    <tr>\n      <th>1</th>\n      <td>2023-06-21 12:30:11.708103</td>\n      <td>1</td>\n      <td>5</td>\n      <td>9</td>\n    </tr>\n    <tr>\n      <th>2</th>\n      <td>2023-06-21 12:30:11.728103</td>\n      <td>2</td>\n      <td>6</td>\n      <td>10</td>\n    </tr>\n    <tr>\n      <th>3</th>\n      <td>2023-06-21 12:30:11.748103</td>\n      <td>3</td>\n      <td>7</td>\n      <td>11</td>\n    </tr>\n  </tbody>\n</table>\n</div>"
     },
     "execution_count": 10,
     "metadata": {},
     "output_type": "execute_result"
    },
    {
     "data": {
      "text/plain": "tuple  velocity  thrust  brake\n0             0       4      8\n1             1       5      9\n2             2       6     10\n3             3       7     11",
      "text/html": "<div>\n<style scoped>\n    .dataframe tbody tr th:only-of-type {\n        vertical-align: middle;\n    }\n\n    .dataframe tbody tr th {\n        vertical-align: top;\n    }\n\n    .dataframe thead th {\n        text-align: right;\n    }\n</style>\n<table border=\"1\" class=\"dataframe\">\n  <thead>\n    <tr style=\"text-align: right;\">\n      <th>tuple</th>\n      <th>velocity</th>\n      <th>thrust</th>\n      <th>brake</th>\n    </tr>\n  </thead>\n  <tbody>\n    <tr>\n      <th>0</th>\n      <td>0</td>\n      <td>4</td>\n      <td>8</td>\n    </tr>\n    <tr>\n      <th>1</th>\n      <td>1</td>\n      <td>5</td>\n      <td>9</td>\n    </tr>\n    <tr>\n      <th>2</th>\n      <td>2</td>\n      <td>6</td>\n      <td>10</td>\n    </tr>\n    <tr>\n      <th>3</th>\n      <td>3</td>\n      <td>7</td>\n      <td>11</td>\n    </tr>\n  </tbody>\n</table>\n</div>"
     },
     "execution_count": 10,
     "metadata": {},
     "output_type": "execute_result"
    }
   ],
   "source": [
    "ts_ind = ts + pd.to_timedelta(np.arange(0, 4 * 20, 20), 'ms')\n",
    "ts_ind\n",
    "ss = np.arange(12)\n",
    "a1 = ss[:4]\n",
    "a2 = ss[4:8]\n",
    "a3 = ss[8:]\n",
    "df_ss = pd.DataFrame(\n",
    "    {'timestep': ts_ind, 'velocity': a1, 'thrust': a2, 'brake': a3}\n",
    ")  # .set_index('timestep')\n",
    "df_ss.columns.name = 'tuple'\n",
    "df_ss\n",
    "df_ss[['velocity', 'thrust', 'brake']]"
   ],
   "metadata": {
    "collapsed": false,
    "ExecuteTime": {
     "end_time": "2023-06-21T04:30:12.098371544Z",
     "start_time": "2023-06-21T04:30:11.767928909Z"
    }
   }
  },
  {
   "cell_type": "code",
   "execution_count": 11,
   "outputs": [
    {
     "data": {
      "text/plain": "array([ 0,  4,  8,  1,  5,  9,  2,  6, 10,  3,  7, 11])"
     },
     "execution_count": 11,
     "metadata": {},
     "output_type": "execute_result"
    }
   ],
   "source": [
    "npa_ss_flatten = df_ss[['velocity', 'thrust', 'brake']].to_numpy().flatten()\n",
    "npa_ss_flatten"
   ],
   "metadata": {
    "collapsed": false,
    "ExecuteTime": {
     "end_time": "2023-06-21T04:30:12.128172555Z",
     "start_time": "2023-06-21T04:30:11.808259626Z"
    }
   }
  },
  {
   "cell_type": "code",
   "execution_count": 12,
   "outputs": [
    {
     "data": {
      "text/plain": "tuple  velocity  thrust\n0             0       4\n1             1       5\n2             2       6\n3             3       7",
      "text/html": "<div>\n<style scoped>\n    .dataframe tbody tr th:only-of-type {\n        vertical-align: middle;\n    }\n\n    .dataframe tbody tr th {\n        vertical-align: top;\n    }\n\n    .dataframe thead th {\n        text-align: right;\n    }\n</style>\n<table border=\"1\" class=\"dataframe\">\n  <thead>\n    <tr style=\"text-align: right;\">\n      <th>tuple</th>\n      <th>velocity</th>\n      <th>thrust</th>\n    </tr>\n  </thead>\n  <tbody>\n    <tr>\n      <th>0</th>\n      <td>0</td>\n      <td>4</td>\n    </tr>\n    <tr>\n      <th>1</th>\n      <td>1</td>\n      <td>5</td>\n    </tr>\n    <tr>\n      <th>2</th>\n      <td>2</td>\n      <td>6</td>\n    </tr>\n    <tr>\n      <th>3</th>\n      <td>3</td>\n      <td>7</td>\n    </tr>\n  </tbody>\n</table>\n</div>"
     },
     "execution_count": 12,
     "metadata": {},
     "output_type": "execute_result"
    },
    {
     "data": {
      "text/plain": "0     0\n1     5\n2    12\n3    21\ndtype: int64"
     },
     "execution_count": 12,
     "metadata": {},
     "output_type": "execute_result"
    },
    {
     "data": {
      "text/plain": "38"
     },
     "execution_count": 12,
     "metadata": {},
     "output_type": "execute_result"
    }
   ],
   "source": [
    "ui_t = df_ss.loc[:, ['velocity', 'thrust']]\n",
    "ui_t\n",
    "power_t = ui_t.prod(axis=1)\n",
    "power_t\n",
    "power_t.sum()"
   ],
   "metadata": {
    "collapsed": false,
    "ExecuteTime": {
     "end_time": "2023-06-21T04:30:12.181726068Z",
     "start_time": "2023-06-21T04:30:11.808620325Z"
    }
   }
  },
  {
   "cell_type": "code",
   "execution_count": 13,
   "outputs": [
    {
     "data": {
      "text/plain": "rows      idx\nbrake     0                               8\n          1                               9\n          2                              10\n          3                              11\nthrust    0                               4\n          1                               5\n          2                               6\n          3                               7\ntimestep  0      2023-06-21 12:30:11.688103\n          1      2023-06-21 12:30:11.708103\n          2      2023-06-21 12:30:11.728103\n          3      2023-06-21 12:30:11.748103\nvelocity  0                               0\n          1                               1\n          2                               2\n          3                               3\nName: state, dtype: object"
     },
     "execution_count": 13,
     "metadata": {},
     "output_type": "execute_result"
    }
   ],
   "source": [
    "state = df_ss.stack().swaplevel(0, 1)\n",
    "state.name = 'state'\n",
    "state.index.names = ['rows', 'idx']\n",
    "state.sort_index(inplace=True)\n",
    "state"
   ],
   "metadata": {
    "collapsed": false,
    "ExecuteTime": {
     "end_time": "2023-06-21T04:30:12.232860787Z",
     "start_time": "2023-06-21T04:30:11.808918567Z"
    }
   }
  },
  {
   "cell_type": "code",
   "execution_count": 14,
   "outputs": [],
   "source": [
    "# from functools import reduce\n",
    "#\n",
    "#\n",
    "# velocity = pd.Series(ss[:4], name='velocity')\n",
    "# thrust = pd.Series(ss[4:8], name='thrust')\n",
    "# brake = pd.Series(ss[8:], name='brake')\n",
    "# series = [velocity, thrust, brake]\n",
    "# state = reduce(\n",
    "#     lambda x, y: pd.merge(x, y, how='outer', left_index=True, right_index=True), series\n",
    "# )\n",
    "# state = state.stack().swaplevel(0, 1).sort_index()\n",
    "# state.name = 'state'\n",
    "# state\n",
    "# len(state)\n"
   ],
   "metadata": {
    "collapsed": false,
    "ExecuteTime": {
     "end_time": "2023-06-21T04:30:12.245660076Z",
     "start_time": "2023-06-21T04:30:11.959996304Z"
    }
   }
  },
  {
   "cell_type": "code",
   "execution_count": 15,
   "outputs": [],
   "source": [
    "# from functools import reduce\n",
    "#\n",
    "#\n",
    "# velocity = pd.Series(s[:4], name='velocity')\n",
    "# thrust = pd.Series(s[4:7], name='thrust')\n",
    "# brake = pd.Series(s[7:], name='brake')\n",
    "# series = [velocity, thrust, brake]\n",
    "# state = reduce(\n",
    "#     lambda x, y: pd.merge(x, y, how='outer', left_index=True, right_index=True), series\n",
    "# )\n",
    "# state = state.stack().swaplevel(0, 1).sort_index()\n",
    "# state.name = 'state'\n",
    "# state\n",
    "# len(state)\n",
    "#\n",
    "#"
   ],
   "metadata": {
    "collapsed": false,
    "ExecuteTime": {
     "end_time": "2023-06-21T04:30:12.281660899Z",
     "start_time": "2023-06-21T04:30:12.007066741Z"
    }
   }
  },
  {
   "cell_type": "markdown",
   "source": [
    "### generate action"
   ],
   "metadata": {
    "collapsed": false
   }
  },
  {
   "cell_type": "code",
   "execution_count": 16,
   "outputs": [
    {
     "data": {
      "text/plain": "{'r0': array([12, 13, 14, 15, 16]),\n 'r1': array([17, 18, 19, 20, 21]),\n 'r2': array([22, 23, 24, 25, 26])}"
     },
     "execution_count": 16,
     "metadata": {},
     "output_type": "execute_result"
    },
    {
     "data": {
      "text/plain": "array([[12, 17, 22],\n       [13, 18, 23],\n       [14, 19, 24],\n       [15, 20, 25],\n       [16, 21, 26]])"
     },
     "execution_count": 16,
     "metadata": {},
     "output_type": "execute_result"
    },
    {
     "data": {
      "text/plain": "   r0  r1  r2\n0  12  17  22\n1  13  18  23\n2  14  19  24\n3  15  20  25\n4  16  21  26",
      "text/html": "<div>\n<style scoped>\n    .dataframe tbody tr th:only-of-type {\n        vertical-align: middle;\n    }\n\n    .dataframe tbody tr th {\n        vertical-align: top;\n    }\n\n    .dataframe thead th {\n        text-align: right;\n    }\n</style>\n<table border=\"1\" class=\"dataframe\">\n  <thead>\n    <tr style=\"text-align: right;\">\n      <th></th>\n      <th>r0</th>\n      <th>r1</th>\n      <th>r2</th>\n    </tr>\n  </thead>\n  <tbody>\n    <tr>\n      <th>0</th>\n      <td>12</td>\n      <td>17</td>\n      <td>22</td>\n    </tr>\n    <tr>\n      <th>1</th>\n      <td>13</td>\n      <td>18</td>\n      <td>23</td>\n    </tr>\n    <tr>\n      <th>2</th>\n      <td>14</td>\n      <td>19</td>\n      <td>24</td>\n    </tr>\n    <tr>\n      <th>3</th>\n      <td>15</td>\n      <td>20</td>\n      <td>25</td>\n    </tr>\n    <tr>\n      <th>4</th>\n      <td>16</td>\n      <td>21</td>\n      <td>26</td>\n    </tr>\n  </tbody>\n</table>\n</div>"
     },
     "execution_count": 16,
     "metadata": {},
     "output_type": "execute_result"
    }
   ],
   "source": [
    "from functools import reduce\n",
    "\n",
    "a = len(ss) + np.arange(15)\n",
    "speed_ser = pd.Series(np.linspace(40, 60, 3), name='speed')\n",
    "# row_ser\n",
    "row_dict = {f'r{i}': a[i * 5 : i * 5 + 5] for i in np.arange(3)}\n",
    "row_dict\n",
    "row_array = a.reshape(3, 5).transpose()\n",
    "row_array\n",
    "rows_df = pd.DataFrame(row_array)\n",
    "rows_df.columns = [f'r{i}' for i in np.arange(3)]\n",
    "rows_df\n"
   ],
   "metadata": {
    "collapsed": false,
    "ExecuteTime": {
     "end_time": "2023-06-21T04:30:12.365571040Z",
     "start_time": "2023-06-21T04:30:12.007375272Z"
    }
   }
  },
  {
   "cell_type": "code",
   "execution_count": 17,
   "outputs": [
    {
     "data": {
      "text/plain": "MultiIndex([(      'r0', 0),\n            (      'r0', 1),\n            (      'r0', 2),\n            (      'r0', 3),\n            (      'r0', 4),\n            (      'r1', 0),\n            (      'r1', 1),\n            (      'r1', 2),\n            (      'r1', 3),\n            (      'r1', 4),\n            (      'r2', 0),\n            (      'r2', 1),\n            (      'r2', 2),\n            (      'r2', 3),\n            (      'r2', 4),\n            (   'speed', 0),\n            (   'speed', 1),\n            (   'speed', 2),\n            ('throttle', 0),\n            ('throttle', 1),\n            ('throttle', 2),\n            ('throttle', 3),\n            ('throttle', 4),\n            ('timestep', 0),\n            ('timestep', 1),\n            ('timestep', 2)],\n           names=['rows', 'idx'])"
     },
     "execution_count": 17,
     "metadata": {},
     "output_type": "execute_result"
    },
    {
     "data": {
      "text/plain": "rows      idx\nr0        0                              12\n          1                              13\n          2                              14\n          3                              15\n          4                              16\nr1        0                              17\n          1                              18\n          2                              19\n          3                              20\n          4                              21\nr2        0                              22\n          1                              23\n          2                              24\n          3                              25\n          4                              26\nspeed     0                            40.0\n          1                            50.0\n          2                            60.0\nthrottle  0                             0.0\n          1                            0.25\n          2                             0.5\n          3                            0.75\n          4                             1.0\ntimestep  0      2023-06-21 12:30:11.788103\n          1      2023-06-21 12:30:11.808103\n          2      2023-06-21 12:30:11.828103\nName: action, dtype: object"
     },
     "execution_count": 17,
     "metadata": {},
     "output_type": "execute_result"
    }
   ],
   "source": [
    "\n",
    "ts_ind = ts + pd.to_timedelta(np.arange(5 * 20, 8 * 20, 20), 'ms')\n",
    "ts_ser = pd.Series(ts_ind, name='timestep')\n",
    "throttle_ser = pd.Series(np.linspace(0, 1.0, 5), name='throttle')\n",
    "# throttle_ser\n",
    "dfs = [rows_df, ts_ser, speed_ser, throttle_ser]\n",
    "action = (\n",
    "    reduce(\n",
    "        lambda left, right: pd.merge(\n",
    "            left, right, how='outer', left_index=True, right_index=True\n",
    "        ),\n",
    "        dfs,\n",
    "    )\n",
    "    .stack()\n",
    "    .swaplevel(0, 1)\n",
    "    .sort_index()\n",
    ")\n",
    "\n",
    "action.name = 'action'\n",
    "action.index.names = ['rows', 'idx']\n",
    "action.index\n",
    "action\n",
    "# action = pd.concat([df.DataFrame(row_dict),df.Series(row_ind),df.Series(ts_ind),df.Series(pedal_ind)],axis=1)\n",
    "# action\n",
    "# pedal_ind\n",
    "# action_ind = pd.MultiIndex.from_product([row_ind, ts_ind], names=['row', 'timestamp'])\n",
    "# a\n",
    "# speed_row, row_name = *row_dict\n",
    "# action = (\n",
    "#     pd.DataFrame(\n",
    "#         {\n",
    "#             **row_dict,\n",
    "#             'throttle': pedal_ind,\n",
    "#             'speed': [r[1] for r in row_ind],\n",
    "#         }\n",
    "#     )  # .set_index('pedal')\n",
    "#     # .stack()\n",
    "#     # .swaplevel(0, 1)\n",
    "#     .sort_index()\n",
    "# )\n",
    "# action\n",
    "# action.columns\n",
    "# action.columns = pd.MultiIndex.from_arrays(\n",
    "#     [action.columns, ts_ind], names=['nominalspeed', 'timestep']\n",
    "# )\n",
    "# action = action.stack([0, 1]).swaplevel(0, 1).swaplevel(1, 2).sort_index()\n",
    "# action.name = 'action'\n",
    "# # action.index.names = ['nominalspeed', 'timestamp']\n",
    "# # action.index\n",
    "# action"
   ],
   "metadata": {
    "collapsed": false,
    "ExecuteTime": {
     "end_time": "2023-06-21T04:30:12.390558417Z",
     "start_time": "2023-06-21T04:30:12.007660018Z"
    }
   }
  },
  {
   "cell_type": "code",
   "execution_count": 18,
   "outputs": [],
   "source": [
    "# a = len(state) + np.arange(6)\n",
    "# ar0 = pd.Series(a[:2], name='row0')\n",
    "# ar1 = pd.Series(a[2:4], name='row1')\n",
    "# ar2 = pd.Series(a[4:], name='row2')\n",
    "# series = [ar0, ar1, ar2]\n",
    "# action = reduce(\n",
    "#     lambda x, y: pd.merge(x, y, how='outer', left_index=True, right_index=True), series\n",
    "# )\n",
    "# action = action.stack().swaplevel(0, 1).sort_index()\n",
    "# action.name = 'action'\n",
    "# action\n",
    "# len(action) + len(state)"
   ],
   "metadata": {
    "collapsed": false,
    "ExecuteTime": {
     "end_time": "2023-06-21T04:30:12.554818013Z",
     "start_time": "2023-06-21T04:30:12.008021519Z"
    }
   }
  },
  {
   "cell_type": "code",
   "execution_count": 19,
   "outputs": [
    {
     "data": {
      "text/plain": "MultiIndex([('timestep', 0),\n            (    'work', 0)],\n           names=['rows', 'idx'])"
     },
     "execution_count": 19,
     "metadata": {},
     "output_type": "execute_result"
    },
    {
     "data": {
      "text/plain": "rows      idx\ntimestep  0      2023-06-21 12:30:11.788103\nwork      0                              27\nName: reward, dtype: object"
     },
     "execution_count": 19,
     "metadata": {},
     "output_type": "execute_result"
    }
   ],
   "source": [
    "reward = (\n",
    "    pd.DataFrame({'work': len(ss) + len(a), 'timestep': ts_ind[0]}, index=[0])\n",
    "    .stack()\n",
    "    .swaplevel(0, 1)\n",
    "    .sort_index()\n",
    ")\n",
    "# reward_index = (reward.name,  ts_ind[0], 0)\n",
    "reward.index.names = ['rows', 'idx']\n",
    "reward.name = 'reward'\n",
    "reward.index\n",
    "reward\n",
    "# reward.name = 'reward'"
   ],
   "metadata": {
    "collapsed": false,
    "ExecuteTime": {
     "end_time": "2023-06-21T04:30:12.625763493Z",
     "start_time": "2023-06-21T04:30:12.063095625Z"
    }
   }
  },
  {
   "cell_type": "code",
   "execution_count": 20,
   "outputs": [
    {
     "data": {
      "text/plain": "27"
     },
     "execution_count": 20,
     "metadata": {},
     "output_type": "execute_result"
    },
    {
     "data": {
      "text/plain": "27"
     },
     "execution_count": 20,
     "metadata": {},
     "output_type": "execute_result"
    }
   ],
   "source": [
    "reward['work'][0]\n",
    "reward.loc[('work', 0)]"
   ],
   "metadata": {
    "collapsed": false,
    "ExecuteTime": {
     "end_time": "2023-06-21T04:30:12.626943815Z",
     "start_time": "2023-06-21T04:30:12.063499726Z"
    }
   }
  },
  {
   "cell_type": "code",
   "execution_count": 20,
   "outputs": [],
   "source": [],
   "metadata": {
    "collapsed": false,
    "ExecuteTime": {
     "end_time": "2023-06-21T04:30:12.627856023Z",
     "start_time": "2023-06-21T04:30:12.063737103Z"
    }
   }
  },
  {
   "cell_type": "code",
   "execution_count": 21,
   "outputs": [
    {
     "data": {
      "text/plain": "DatetimeIndex(['2023-06-21 12:30:16.688103', '2023-06-21 12:30:16.708103',\n               '2023-06-21 12:30:16.728103', '2023-06-21 12:30:16.748103'],\n              dtype='datetime64[ns]', freq=None)"
     },
     "execution_count": 21,
     "metadata": {},
     "output_type": "execute_result"
    },
    {
     "data": {
      "text/plain": "16"
     },
     "execution_count": 21,
     "metadata": {},
     "output_type": "execute_result"
    },
    {
     "data": {
      "text/plain": "rows      idx\nbrake     0                              37\n          1                              38\n          2                              39\n          3                              40\nthrust    0                              33\n          1                              34\n          2                              35\n          3                              36\ntimestep  0      2023-06-21 12:30:16.688103\n          1      2023-06-21 12:30:16.708103\n          2      2023-06-21 12:30:16.728103\n          3      2023-06-21 12:30:16.748103\nvelocity  0                              29\n          1                              30\n          2                              31\n          3                              32\nName: nstate, dtype: object"
     },
     "execution_count": 21,
     "metadata": {},
     "output_type": "execute_result"
    }
   ],
   "source": [
    "# velocity = pd.Series(len(state) + len(action) + len(reward) + s[:4], name='velocity')\n",
    "# thrust = pd.Series(len(state) + len(action) + len(reward) + s[4:7], name='thrust')\n",
    "# brake = pd.Series(len(state) + len(action) + len(reward) + s[7:], name='brake')\n",
    "# series = [velocity, thrust, brake]\n",
    "# nstate = reduce(\n",
    "#     lambda x, y: pd.merge(x, y, how='outer', left_index=True, right_index=True), series\n",
    "# )\n",
    "# nstate = nstate.stack().swaplevel(0, 1).sort_index()\n",
    "# nstate.name = 'nstate'\n",
    "# nstate\n",
    "# len(nstate)\n",
    "ts_ind = ts + pd.to_timedelta(5, 's') + pd.to_timedelta(np.arange(0, 4 * 20, 20), 'ms')\n",
    "ts_ind\n",
    "ss = np.arange(12) + len(ss) + len(a) + len(reward)\n",
    "a1 = ss[:4]\n",
    "a2 = ss[4:8]\n",
    "a3 = ss[8:]\n",
    "nstate = (\n",
    "    pd.DataFrame({'timestep': ts_ind, 'velocity': a1, 'thrust': a2, 'brake': a3})\n",
    "    # .set_index('timestamp')\n",
    "    .stack()\n",
    "    .swaplevel(0, 1)\n",
    "    .sort_index()\n",
    ")\n",
    "nstate.name = 'nstate'\n",
    "nstate.index.names = ['rows', 'idx']\n",
    "len(nstate)\n",
    "nstate"
   ],
   "metadata": {
    "collapsed": false,
    "ExecuteTime": {
     "end_time": "2023-06-21T04:30:12.628445262Z",
     "start_time": "2023-06-21T04:30:12.063902344Z"
    }
   }
  },
  {
   "cell_type": "code",
   "execution_count": 22,
   "outputs": [
    {
     "data": {
      "text/plain": "MultiIndex([(0, 0)],\n           names=['rows', 'idx'])"
     },
     "execution_count": 22,
     "metadata": {},
     "output_type": "execute_result"
    },
    {
     "data": {
      "text/plain": "MultiIndex([(   'brake', 0),\n            (   'brake', 1),\n            (   'brake', 2),\n            (   'brake', 3),\n            (  'thrust', 0),\n            (  'thrust', 1),\n            (  'thrust', 2),\n            (  'thrust', 3),\n            ('timestep', 0),\n            ('timestep', 1),\n            ('timestep', 2),\n            ('timestep', 3),\n            ('velocity', 0),\n            ('velocity', 1),\n            ('velocity', 2),\n            ('velocity', 3)],\n           names=['rows', 'idx'])"
     },
     "execution_count": 22,
     "metadata": {},
     "output_type": "execute_result"
    },
    {
     "data": {
      "text/plain": "MultiIndex([(      'r0', 0),\n            (      'r0', 1),\n            (      'r0', 2),\n            (      'r0', 3),\n            (      'r0', 4),\n            (      'r1', 0),\n            (      'r1', 1),\n            (      'r1', 2),\n            (      'r1', 3),\n            (      'r1', 4),\n            (      'r2', 0),\n            (      'r2', 1),\n            (      'r2', 2),\n            (      'r2', 3),\n            (      'r2', 4),\n            (   'speed', 0),\n            (   'speed', 1),\n            (   'speed', 2),\n            ('throttle', 0),\n            ('throttle', 1),\n            ('throttle', 2),\n            ('throttle', 3),\n            ('throttle', 4),\n            ('timestep', 0),\n            ('timestep', 1),\n            ('timestep', 2)],\n           names=['rows', 'idx'])"
     },
     "execution_count": 22,
     "metadata": {},
     "output_type": "execute_result"
    },
    {
     "data": {
      "text/plain": "MultiIndex([('timestep', 0),\n            (    'work', 0)],\n           names=['rows', 'idx'])"
     },
     "execution_count": 22,
     "metadata": {},
     "output_type": "execute_result"
    },
    {
     "data": {
      "text/plain": "MultiIndex([(   'brake', 0),\n            (   'brake', 1),\n            (   'brake', 2),\n            (   'brake', 3),\n            (  'thrust', 0),\n            (  'thrust', 1),\n            (  'thrust', 2),\n            (  'thrust', 3),\n            ('timestep', 0),\n            ('timestep', 1),\n            ('timestep', 2),\n            ('timestep', 3),\n            ('velocity', 0),\n            ('velocity', 1),\n            ('velocity', 2),\n            ('velocity', 3)],\n           names=['rows', 'idx'])"
     },
     "execution_count": 22,
     "metadata": {},
     "output_type": "execute_result"
    }
   ],
   "source": [
    "timestamp = pd.Series([ts], name='timestamp')\n",
    "timestamp.index = pd.MultiIndex.from_product(\n",
    "    [timestamp.index, [0]], names=['rows', 'idx']\n",
    ")\n",
    "timestamp.index\n",
    "state.index\n",
    "action.index\n",
    "reward.index\n",
    "nstate.index"
   ],
   "metadata": {
    "collapsed": false,
    "ExecuteTime": {
     "end_time": "2023-06-21T04:30:12.629309188Z",
     "start_time": "2023-06-21T04:30:12.064504848Z"
    }
   }
  },
  {
   "cell_type": "code",
   "execution_count": 23,
   "outputs": [
    {
     "data": {
      "text/plain": "MultiIndex([('timestamp',         '', 0),\n            (    'state',    'brake', 0),\n            (    'state',    'brake', 1),\n            (    'state',    'brake', 2),\n            (    'state',    'brake', 3),\n            (    'state',   'thrust', 0),\n            (    'state',   'thrust', 1),\n            (    'state',   'thrust', 2),\n            (    'state',   'thrust', 3),\n            (    'state', 'timestep', 0),\n            (    'state', 'timestep', 1),\n            (    'state', 'timestep', 2),\n            (    'state', 'timestep', 3),\n            (    'state', 'velocity', 0),\n            (    'state', 'velocity', 1),\n            (    'state', 'velocity', 2),\n            (    'state', 'velocity', 3),\n            (   'action',       'r0', 0),\n            (   'action',       'r0', 1),\n            (   'action',       'r0', 2),\n            (   'action',       'r0', 3),\n            (   'action',       'r0', 4),\n            (   'action',       'r1', 0),\n            (   'action',       'r1', 1),\n            (   'action',       'r1', 2),\n            (   'action',       'r1', 3),\n            (   'action',       'r1', 4),\n            (   'action',       'r2', 0),\n            (   'action',       'r2', 1),\n            (   'action',       'r2', 2),\n            (   'action',       'r2', 3),\n            (   'action',       'r2', 4),\n            (   'action',    'speed', 0),\n            (   'action',    'speed', 1),\n            (   'action',    'speed', 2),\n            (   'action', 'throttle', 0),\n            (   'action', 'throttle', 1),\n            (   'action', 'throttle', 2),\n            (   'action', 'throttle', 3),\n            (   'action', 'throttle', 4),\n            (   'action', 'timestep', 0),\n            (   'action', 'timestep', 1),\n            (   'action', 'timestep', 2),\n            (   'reward', 'timestep', 0),\n            (   'reward',     'work', 0),\n            (   'nstate',    'brake', 0),\n            (   'nstate',    'brake', 1),\n            (   'nstate',    'brake', 2),\n            (   'nstate',    'brake', 3),\n            (   'nstate',   'thrust', 0),\n            (   'nstate',   'thrust', 1),\n            (   'nstate',   'thrust', 2),\n            (   'nstate',   'thrust', 3),\n            (   'nstate', 'timestep', 0),\n            (   'nstate', 'timestep', 1),\n            (   'nstate', 'timestep', 2),\n            (   'nstate', 'timestep', 3),\n            (   'nstate', 'velocity', 0),\n            (   'nstate', 'velocity', 1),\n            (   'nstate', 'velocity', 2),\n            (   'nstate', 'velocity', 3)],\n           )"
     },
     "execution_count": 23,
     "metadata": {},
     "output_type": "execute_result"
    }
   ],
   "source": [
    "timestamp_index = (timestamp.name, '', 0)\n",
    "# timestamp_index\n",
    "state_index = [(state.name, *i) for i in state.index]\n",
    "# state_index\n",
    "reward_index = [(reward.name, *i) for i in reward.index]\n",
    "# reward_index\n",
    "action_index = [(action.name, *i) for i in action.index]\n",
    "# action_index\n",
    "nstate_index = [(nstate.name, *i) for i in nstate.index]\n",
    "# nstate_index\n",
    "\n",
    "multiindex = pd.MultiIndex.from_tuples(\n",
    "    [timestamp_index, *state_index, *action_index, *reward_index, *nstate_index]\n",
    ")\n",
    "multiindex\n"
   ],
   "metadata": {
    "collapsed": false,
    "ExecuteTime": {
     "end_time": "2023-06-21T04:30:12.629842442Z",
     "start_time": "2023-06-21T04:30:12.098916129Z"
    }
   }
  },
  {
   "cell_type": "code",
   "execution_count": 24,
   "outputs": [
    {
     "data": {
      "text/plain": "timestamp            0    2023-06-21 12:30:11.688103\nstate      brake     0                             8\n                     1                             9\n                     2                            10\n                     3                            11\n                                     ...            \nnstate     timestep  3    2023-06-21 12:30:16.748103\n           velocity  0                            29\n                     1                            30\n                     2                            31\n                     3                            32\nLength: 61, dtype: object"
     },
     "execution_count": 24,
     "metadata": {},
     "output_type": "execute_result"
    }
   ],
   "source": [
    "observation_list = [timestamp, state, action, reward, nstate]\n",
    "observation = pd.concat(observation_list)\n",
    "observation.index = multiindex\n",
    "observation\n",
    "# observation.dtype"
   ],
   "metadata": {
    "collapsed": false,
    "ExecuteTime": {
     "end_time": "2023-06-21T04:30:12.636844597Z",
     "start_time": "2023-06-21T04:30:12.099180627Z"
    }
   }
  },
  {
   "cell_type": "code",
   "execution_count": 25,
   "outputs": [],
   "source": [
    "\n",
    "observation0 = observation.copy()\n",
    "observation0.loc['timestamp', '', 0] = ts + pd.Timedelta(1, 'h')\n",
    "observation1 = observation.copy()\n",
    "observation1.loc['timestamp', '', 0] = ts + pd.Timedelta(2, 'h')\n",
    "observation2 = observation.copy()\n",
    "observation2.loc['timestamp', '', 0] = ts + pd.Timedelta(3, 'h')\n",
    "observation3 = observation.copy()\n",
    "observation3.loc['timestamp', '', 0] = ts + pd.Timedelta(4, 'h')\n",
    "observation4 = observation.copy()\n",
    "observation4.loc['timestamp', '', 0] = ts + pd.Timedelta(5, 'h')\n",
    "observation_list = [\n",
    "    observation0,\n",
    "    observation1,\n",
    "    observation2,\n",
    "    observation3,\n",
    "    observation4,\n",
    "]\n"
   ],
   "metadata": {
    "collapsed": false,
    "ExecuteTime": {
     "end_time": "2023-06-21T04:30:12.646050680Z",
     "start_time": "2023-06-21T04:30:12.111556048Z"
    }
   }
  },
  {
   "cell_type": "code",
   "execution_count": 26,
   "outputs": [
    {
     "data": {
      "text/plain": "MultiIndex([('timestamp',         '', 0),\n            (    'state',    'brake', 0),\n            (    'state',    'brake', 1),\n            (    'state',    'brake', 2),\n            (    'state',    'brake', 3),\n            (    'state',   'thrust', 0),\n            (    'state',   'thrust', 1),\n            (    'state',   'thrust', 2),\n            (    'state',   'thrust', 3),\n            (    'state', 'timestep', 0),\n            (    'state', 'timestep', 1),\n            (    'state', 'timestep', 2),\n            (    'state', 'timestep', 3),\n            (    'state', 'velocity', 0),\n            (    'state', 'velocity', 1),\n            (    'state', 'velocity', 2),\n            (    'state', 'velocity', 3),\n            (   'action',       'r0', 0),\n            (   'action',       'r0', 1),\n            (   'action',       'r0', 2),\n            (   'action',       'r0', 3),\n            (   'action',       'r0', 4),\n            (   'action',       'r1', 0),\n            (   'action',       'r1', 1),\n            (   'action',       'r1', 2),\n            (   'action',       'r1', 3),\n            (   'action',       'r1', 4),\n            (   'action',       'r2', 0),\n            (   'action',       'r2', 1),\n            (   'action',       'r2', 2),\n            (   'action',       'r2', 3),\n            (   'action',       'r2', 4),\n            (   'action',    'speed', 0),\n            (   'action',    'speed', 1),\n            (   'action',    'speed', 2),\n            (   'action', 'throttle', 0),\n            (   'action', 'throttle', 1),\n            (   'action', 'throttle', 2),\n            (   'action', 'throttle', 3),\n            (   'action', 'throttle', 4),\n            (   'action', 'timestep', 0),\n            (   'action', 'timestep', 1),\n            (   'action', 'timestep', 2),\n            (   'reward', 'timestep', 0),\n            (   'reward',     'work', 0),\n            (   'nstate',    'brake', 0),\n            (   'nstate',    'brake', 1),\n            (   'nstate',    'brake', 2),\n            (   'nstate',    'brake', 3),\n            (   'nstate',   'thrust', 0),\n            (   'nstate',   'thrust', 1),\n            (   'nstate',   'thrust', 2),\n            (   'nstate',   'thrust', 3),\n            (   'nstate', 'timestep', 0),\n            (   'nstate', 'timestep', 1),\n            (   'nstate', 'timestep', 2),\n            (   'nstate', 'timestep', 3),\n            (   'nstate', 'velocity', 0),\n            (   'nstate', 'velocity', 1),\n            (   'nstate', 'velocity', 2),\n            (   'nstate', 'velocity', 3)],\n           names=['tuple', 'rows', 'idx'])"
     },
     "execution_count": 26,
     "metadata": {},
     "output_type": "execute_result"
    },
    {
     "data": {
      "text/plain": "tuple                  timestamp state                             \\\nrows                             brake            thrust            \nidx                            0     0  1   2   3      0  1  2  3   \n0     2023-06-21 13:30:11.688103     8  9  10  11      4  5  6  7   \n1     2023-06-21 14:30:11.688103     8  9  10  11      4  5  6  7   \n2     2023-06-21 15:30:11.688103     8  9  10  11      4  5  6  7   \n3     2023-06-21 16:30:11.688103     8  9  10  11      4  5  6  7   \n4     2023-06-21 17:30:11.688103     8  9  10  11      4  5  6  7   \n\ntuple                             ... nstate                                 \\\nrows                    timestep  ... thrust                       timestep   \nidx                            0  ...      2   3                          0   \n0     2023-06-21 12:30:11.688103  ...     35  36 2023-06-21 12:30:16.688103   \n1     2023-06-21 12:30:11.688103  ...     35  36 2023-06-21 12:30:16.688103   \n2     2023-06-21 12:30:11.688103  ...     35  36 2023-06-21 12:30:16.688103   \n3     2023-06-21 12:30:11.688103  ...     35  36 2023-06-21 12:30:16.688103   \n4     2023-06-21 12:30:11.688103  ...     35  36 2023-06-21 12:30:16.688103   \n\ntuple                                                        \\\nrows                                                          \nidx                            1                          2   \n0     2023-06-21 12:30:16.708103 2023-06-21 12:30:16.728103   \n1     2023-06-21 12:30:16.708103 2023-06-21 12:30:16.728103   \n2     2023-06-21 12:30:16.708103 2023-06-21 12:30:16.728103   \n3     2023-06-21 12:30:16.708103 2023-06-21 12:30:16.728103   \n4     2023-06-21 12:30:16.708103 2023-06-21 12:30:16.728103   \n\ntuple                                                  \nrows                             velocity              \nidx                            3        0   1   2   3  \n0     2023-06-21 12:30:16.748103       29  30  31  32  \n1     2023-06-21 12:30:16.748103       29  30  31  32  \n2     2023-06-21 12:30:16.748103       29  30  31  32  \n3     2023-06-21 12:30:16.748103       29  30  31  32  \n4     2023-06-21 12:30:16.748103       29  30  31  32  \n\n[5 rows x 61 columns]",
      "text/html": "<div>\n<style scoped>\n    .dataframe tbody tr th:only-of-type {\n        vertical-align: middle;\n    }\n\n    .dataframe tbody tr th {\n        vertical-align: top;\n    }\n\n    .dataframe thead tr th {\n        text-align: left;\n    }\n</style>\n<table border=\"1\" class=\"dataframe\">\n  <thead>\n    <tr>\n      <th>tuple</th>\n      <th>timestamp</th>\n      <th colspan=\"9\" halign=\"left\">state</th>\n      <th>...</th>\n      <th colspan=\"10\" halign=\"left\">nstate</th>\n    </tr>\n    <tr>\n      <th>rows</th>\n      <th></th>\n      <th colspan=\"4\" halign=\"left\">brake</th>\n      <th colspan=\"4\" halign=\"left\">thrust</th>\n      <th>timestep</th>\n      <th>...</th>\n      <th colspan=\"2\" halign=\"left\">thrust</th>\n      <th colspan=\"4\" halign=\"left\">timestep</th>\n      <th colspan=\"4\" halign=\"left\">velocity</th>\n    </tr>\n    <tr>\n      <th>idx</th>\n      <th>0</th>\n      <th>0</th>\n      <th>1</th>\n      <th>2</th>\n      <th>3</th>\n      <th>0</th>\n      <th>1</th>\n      <th>2</th>\n      <th>3</th>\n      <th>0</th>\n      <th>...</th>\n      <th>2</th>\n      <th>3</th>\n      <th>0</th>\n      <th>1</th>\n      <th>2</th>\n      <th>3</th>\n      <th>0</th>\n      <th>1</th>\n      <th>2</th>\n      <th>3</th>\n    </tr>\n  </thead>\n  <tbody>\n    <tr>\n      <th>0</th>\n      <td>2023-06-21 13:30:11.688103</td>\n      <td>8</td>\n      <td>9</td>\n      <td>10</td>\n      <td>11</td>\n      <td>4</td>\n      <td>5</td>\n      <td>6</td>\n      <td>7</td>\n      <td>2023-06-21 12:30:11.688103</td>\n      <td>...</td>\n      <td>35</td>\n      <td>36</td>\n      <td>2023-06-21 12:30:16.688103</td>\n      <td>2023-06-21 12:30:16.708103</td>\n      <td>2023-06-21 12:30:16.728103</td>\n      <td>2023-06-21 12:30:16.748103</td>\n      <td>29</td>\n      <td>30</td>\n      <td>31</td>\n      <td>32</td>\n    </tr>\n    <tr>\n      <th>1</th>\n      <td>2023-06-21 14:30:11.688103</td>\n      <td>8</td>\n      <td>9</td>\n      <td>10</td>\n      <td>11</td>\n      <td>4</td>\n      <td>5</td>\n      <td>6</td>\n      <td>7</td>\n      <td>2023-06-21 12:30:11.688103</td>\n      <td>...</td>\n      <td>35</td>\n      <td>36</td>\n      <td>2023-06-21 12:30:16.688103</td>\n      <td>2023-06-21 12:30:16.708103</td>\n      <td>2023-06-21 12:30:16.728103</td>\n      <td>2023-06-21 12:30:16.748103</td>\n      <td>29</td>\n      <td>30</td>\n      <td>31</td>\n      <td>32</td>\n    </tr>\n    <tr>\n      <th>2</th>\n      <td>2023-06-21 15:30:11.688103</td>\n      <td>8</td>\n      <td>9</td>\n      <td>10</td>\n      <td>11</td>\n      <td>4</td>\n      <td>5</td>\n      <td>6</td>\n      <td>7</td>\n      <td>2023-06-21 12:30:11.688103</td>\n      <td>...</td>\n      <td>35</td>\n      <td>36</td>\n      <td>2023-06-21 12:30:16.688103</td>\n      <td>2023-06-21 12:30:16.708103</td>\n      <td>2023-06-21 12:30:16.728103</td>\n      <td>2023-06-21 12:30:16.748103</td>\n      <td>29</td>\n      <td>30</td>\n      <td>31</td>\n      <td>32</td>\n    </tr>\n    <tr>\n      <th>3</th>\n      <td>2023-06-21 16:30:11.688103</td>\n      <td>8</td>\n      <td>9</td>\n      <td>10</td>\n      <td>11</td>\n      <td>4</td>\n      <td>5</td>\n      <td>6</td>\n      <td>7</td>\n      <td>2023-06-21 12:30:11.688103</td>\n      <td>...</td>\n      <td>35</td>\n      <td>36</td>\n      <td>2023-06-21 12:30:16.688103</td>\n      <td>2023-06-21 12:30:16.708103</td>\n      <td>2023-06-21 12:30:16.728103</td>\n      <td>2023-06-21 12:30:16.748103</td>\n      <td>29</td>\n      <td>30</td>\n      <td>31</td>\n      <td>32</td>\n    </tr>\n    <tr>\n      <th>4</th>\n      <td>2023-06-21 17:30:11.688103</td>\n      <td>8</td>\n      <td>9</td>\n      <td>10</td>\n      <td>11</td>\n      <td>4</td>\n      <td>5</td>\n      <td>6</td>\n      <td>7</td>\n      <td>2023-06-21 12:30:11.688103</td>\n      <td>...</td>\n      <td>35</td>\n      <td>36</td>\n      <td>2023-06-21 12:30:16.688103</td>\n      <td>2023-06-21 12:30:16.708103</td>\n      <td>2023-06-21 12:30:16.728103</td>\n      <td>2023-06-21 12:30:16.748103</td>\n      <td>29</td>\n      <td>30</td>\n      <td>31</td>\n      <td>32</td>\n    </tr>\n  </tbody>\n</table>\n<p>5 rows × 61 columns</p>\n</div>"
     },
     "execution_count": 26,
     "metadata": {},
     "output_type": "execute_result"
    }
   ],
   "source": [
    "\n",
    "dfs_epi = pd.concat(observation_list, axis=1).transpose()\n",
    "dfs_epi.columns.names = ['tuple', 'rows', 'idx']\n",
    "dfs_epi.columns\n",
    "dfs_epi\n"
   ],
   "metadata": {
    "collapsed": false,
    "ExecuteTime": {
     "end_time": "2023-06-21T04:30:12.700881017Z",
     "start_time": "2023-06-21T04:30:12.111992750Z"
    }
   }
  },
  {
   "cell_type": "code",
   "execution_count": 27,
   "outputs": [
    {
     "data": {
      "text/plain": "tuple                      action                                      ...  \\\nrows                           r0                  r1                  ...   \nidx                             0   1   2   3   4   0   1   2   3   4  ...   \ntimestamp                                                              ...   \n2023-06-21 13:30:11.688103     12  13  14  15  16  17  18  19  20  21  ...   \n2023-06-21 14:30:11.688103     12  13  14  15  16  17  18  19  20  21  ...   \n2023-06-21 15:30:11.688103     12  13  14  15  16  17  18  19  20  21  ...   \n2023-06-21 16:30:11.688103     12  13  14  15  16  17  18  19  20  21  ...   \n2023-06-21 17:30:11.688103     12  13  14  15  16  17  18  19  20  21  ...   \n\ntuple                       state                                \\\nrows                       thrust                      timestep   \nidx                             2  3                          0   \ntimestamp                                                         \n2023-06-21 13:30:11.688103      6  7 2023-06-21 12:30:11.688103   \n2023-06-21 14:30:11.688103      6  7 2023-06-21 12:30:11.688103   \n2023-06-21 15:30:11.688103      6  7 2023-06-21 12:30:11.688103   \n2023-06-21 16:30:11.688103      6  7 2023-06-21 12:30:11.688103   \n2023-06-21 17:30:11.688103      6  7 2023-06-21 12:30:11.688103   \n\ntuple                                                  \\\nrows                                                    \nidx                                                 1   \ntimestamp                                               \n2023-06-21 13:30:11.688103 2023-06-21 12:30:11.708103   \n2023-06-21 14:30:11.688103 2023-06-21 12:30:11.708103   \n2023-06-21 15:30:11.688103 2023-06-21 12:30:11.708103   \n2023-06-21 16:30:11.688103 2023-06-21 12:30:11.708103   \n2023-06-21 17:30:11.688103 2023-06-21 12:30:11.708103   \n\ntuple                                                  \\\nrows                                                    \nidx                                                 2   \ntimestamp                                               \n2023-06-21 13:30:11.688103 2023-06-21 12:30:11.728103   \n2023-06-21 14:30:11.688103 2023-06-21 12:30:11.728103   \n2023-06-21 15:30:11.688103 2023-06-21 12:30:11.728103   \n2023-06-21 16:30:11.688103 2023-06-21 12:30:11.728103   \n2023-06-21 17:30:11.688103 2023-06-21 12:30:11.728103   \n\ntuple                                                                    \nrows                                                  velocity           \nidx                                                 3        0  1  2  3  \ntimestamp                                                                \n2023-06-21 13:30:11.688103 2023-06-21 12:30:11.748103        0  1  2  3  \n2023-06-21 14:30:11.688103 2023-06-21 12:30:11.748103        0  1  2  3  \n2023-06-21 15:30:11.688103 2023-06-21 12:30:11.748103        0  1  2  3  \n2023-06-21 16:30:11.688103 2023-06-21 12:30:11.748103        0  1  2  3  \n2023-06-21 17:30:11.688103 2023-06-21 12:30:11.748103        0  1  2  3  \n\n[5 rows x 60 columns]",
      "text/html": "<div>\n<style scoped>\n    .dataframe tbody tr th:only-of-type {\n        vertical-align: middle;\n    }\n\n    .dataframe tbody tr th {\n        vertical-align: top;\n    }\n\n    .dataframe thead tr th {\n        text-align: left;\n    }\n\n    .dataframe thead tr:last-of-type th {\n        text-align: right;\n    }\n</style>\n<table border=\"1\" class=\"dataframe\">\n  <thead>\n    <tr>\n      <th>tuple</th>\n      <th colspan=\"10\" halign=\"left\">action</th>\n      <th>...</th>\n      <th colspan=\"10\" halign=\"left\">state</th>\n    </tr>\n    <tr>\n      <th>rows</th>\n      <th colspan=\"5\" halign=\"left\">r0</th>\n      <th colspan=\"5\" halign=\"left\">r1</th>\n      <th>...</th>\n      <th colspan=\"2\" halign=\"left\">thrust</th>\n      <th colspan=\"4\" halign=\"left\">timestep</th>\n      <th colspan=\"4\" halign=\"left\">velocity</th>\n    </tr>\n    <tr>\n      <th>idx</th>\n      <th>0</th>\n      <th>1</th>\n      <th>2</th>\n      <th>3</th>\n      <th>4</th>\n      <th>0</th>\n      <th>1</th>\n      <th>2</th>\n      <th>3</th>\n      <th>4</th>\n      <th>...</th>\n      <th>2</th>\n      <th>3</th>\n      <th>0</th>\n      <th>1</th>\n      <th>2</th>\n      <th>3</th>\n      <th>0</th>\n      <th>1</th>\n      <th>2</th>\n      <th>3</th>\n    </tr>\n    <tr>\n      <th>timestamp</th>\n      <th></th>\n      <th></th>\n      <th></th>\n      <th></th>\n      <th></th>\n      <th></th>\n      <th></th>\n      <th></th>\n      <th></th>\n      <th></th>\n      <th></th>\n      <th></th>\n      <th></th>\n      <th></th>\n      <th></th>\n      <th></th>\n      <th></th>\n      <th></th>\n      <th></th>\n      <th></th>\n      <th></th>\n    </tr>\n  </thead>\n  <tbody>\n    <tr>\n      <th>2023-06-21 13:30:11.688103</th>\n      <td>12</td>\n      <td>13</td>\n      <td>14</td>\n      <td>15</td>\n      <td>16</td>\n      <td>17</td>\n      <td>18</td>\n      <td>19</td>\n      <td>20</td>\n      <td>21</td>\n      <td>...</td>\n      <td>6</td>\n      <td>7</td>\n      <td>2023-06-21 12:30:11.688103</td>\n      <td>2023-06-21 12:30:11.708103</td>\n      <td>2023-06-21 12:30:11.728103</td>\n      <td>2023-06-21 12:30:11.748103</td>\n      <td>0</td>\n      <td>1</td>\n      <td>2</td>\n      <td>3</td>\n    </tr>\n    <tr>\n      <th>2023-06-21 14:30:11.688103</th>\n      <td>12</td>\n      <td>13</td>\n      <td>14</td>\n      <td>15</td>\n      <td>16</td>\n      <td>17</td>\n      <td>18</td>\n      <td>19</td>\n      <td>20</td>\n      <td>21</td>\n      <td>...</td>\n      <td>6</td>\n      <td>7</td>\n      <td>2023-06-21 12:30:11.688103</td>\n      <td>2023-06-21 12:30:11.708103</td>\n      <td>2023-06-21 12:30:11.728103</td>\n      <td>2023-06-21 12:30:11.748103</td>\n      <td>0</td>\n      <td>1</td>\n      <td>2</td>\n      <td>3</td>\n    </tr>\n    <tr>\n      <th>2023-06-21 15:30:11.688103</th>\n      <td>12</td>\n      <td>13</td>\n      <td>14</td>\n      <td>15</td>\n      <td>16</td>\n      <td>17</td>\n      <td>18</td>\n      <td>19</td>\n      <td>20</td>\n      <td>21</td>\n      <td>...</td>\n      <td>6</td>\n      <td>7</td>\n      <td>2023-06-21 12:30:11.688103</td>\n      <td>2023-06-21 12:30:11.708103</td>\n      <td>2023-06-21 12:30:11.728103</td>\n      <td>2023-06-21 12:30:11.748103</td>\n      <td>0</td>\n      <td>1</td>\n      <td>2</td>\n      <td>3</td>\n    </tr>\n    <tr>\n      <th>2023-06-21 16:30:11.688103</th>\n      <td>12</td>\n      <td>13</td>\n      <td>14</td>\n      <td>15</td>\n      <td>16</td>\n      <td>17</td>\n      <td>18</td>\n      <td>19</td>\n      <td>20</td>\n      <td>21</td>\n      <td>...</td>\n      <td>6</td>\n      <td>7</td>\n      <td>2023-06-21 12:30:11.688103</td>\n      <td>2023-06-21 12:30:11.708103</td>\n      <td>2023-06-21 12:30:11.728103</td>\n      <td>2023-06-21 12:30:11.748103</td>\n      <td>0</td>\n      <td>1</td>\n      <td>2</td>\n      <td>3</td>\n    </tr>\n    <tr>\n      <th>2023-06-21 17:30:11.688103</th>\n      <td>12</td>\n      <td>13</td>\n      <td>14</td>\n      <td>15</td>\n      <td>16</td>\n      <td>17</td>\n      <td>18</td>\n      <td>19</td>\n      <td>20</td>\n      <td>21</td>\n      <td>...</td>\n      <td>6</td>\n      <td>7</td>\n      <td>2023-06-21 12:30:11.688103</td>\n      <td>2023-06-21 12:30:11.708103</td>\n      <td>2023-06-21 12:30:11.728103</td>\n      <td>2023-06-21 12:30:11.748103</td>\n      <td>0</td>\n      <td>1</td>\n      <td>2</td>\n      <td>3</td>\n    </tr>\n  </tbody>\n</table>\n<p>5 rows × 60 columns</p>\n</div>"
     },
     "execution_count": 27,
     "metadata": {},
     "output_type": "execute_result"
    }
   ],
   "source": [
    "dfs_episode1 = dfs_epi.copy().sort_index(axis=1)\n",
    "dfs_episode1.set_index(('timestamp', '', 0), inplace=True)\n",
    "dfs_episode1.index.name = 'timestamp'\n",
    "idx = pd.IndexSlice\n",
    "dfs_episode1"
   ],
   "metadata": {
    "collapsed": false,
    "ExecuteTime": {
     "end_time": "2023-06-21T04:30:12.717472838Z",
     "start_time": "2023-06-21T04:30:12.128512635Z"
    }
   }
  },
  {
   "cell_type": "code",
   "execution_count": 28,
   "outputs": [
    {
     "data": {
      "text/plain": "tuple                      action                                      ...  \\\nrows                           r0                  r1                  ...   \nidx                             0   1   2   3   4   0   1   2   3   4  ...   \ntimestamp                                                              ...   \n2023-06-21 13:30:11.688103     12  13  14  15  16  17  18  19  20  21  ...   \n2023-06-21 14:30:11.688103     12  13  14  15  16  17  18  19  20  21  ...   \n2023-06-21 15:30:11.688103     12  13  14  15  16  17  18  19  20  21  ...   \n2023-06-21 16:30:11.688103     12  13  14  15  16  17  18  19  20  21  ...   \n2023-06-21 17:30:11.688103     12  13  14  15  16  17  18  19  20  21  ...   \n\ntuple                       state                          \\\nrows                       thrust                timestep   \nidx                             2  3                    0   \ntimestamp                                                   \n2023-06-21 13:30:11.688103      6  7  1687350611688103000   \n2023-06-21 14:30:11.688103      6  7  1687350611688103000   \n2023-06-21 15:30:11.688103      6  7  1687350611688103000   \n2023-06-21 16:30:11.688103      6  7  1687350611688103000   \n2023-06-21 17:30:11.688103      6  7  1687350611688103000   \n\ntuple                                                                 \\\nrows                                                                   \nidx                                           1                    2   \ntimestamp                                                              \n2023-06-21 13:30:11.688103  1687350611708103000  1687350611728103000   \n2023-06-21 14:30:11.688103  1687350611708103000  1687350611728103000   \n2023-06-21 15:30:11.688103  1687350611708103000  1687350611728103000   \n2023-06-21 16:30:11.688103  1687350611708103000  1687350611728103000   \n2023-06-21 17:30:11.688103  1687350611708103000  1687350611728103000   \n\ntuple                                                              \nrows                                            velocity           \nidx                                           3        0  1  2  3  \ntimestamp                                                          \n2023-06-21 13:30:11.688103  1687350611748103000        0  1  2  3  \n2023-06-21 14:30:11.688103  1687350611748103000        0  1  2  3  \n2023-06-21 15:30:11.688103  1687350611748103000        0  1  2  3  \n2023-06-21 16:30:11.688103  1687350611748103000        0  1  2  3  \n2023-06-21 17:30:11.688103  1687350611748103000        0  1  2  3  \n\n[5 rows x 60 columns]",
      "text/html": "<div>\n<style scoped>\n    .dataframe tbody tr th:only-of-type {\n        vertical-align: middle;\n    }\n\n    .dataframe tbody tr th {\n        vertical-align: top;\n    }\n\n    .dataframe thead tr th {\n        text-align: left;\n    }\n\n    .dataframe thead tr:last-of-type th {\n        text-align: right;\n    }\n</style>\n<table border=\"1\" class=\"dataframe\">\n  <thead>\n    <tr>\n      <th>tuple</th>\n      <th colspan=\"10\" halign=\"left\">action</th>\n      <th>...</th>\n      <th colspan=\"10\" halign=\"left\">state</th>\n    </tr>\n    <tr>\n      <th>rows</th>\n      <th colspan=\"5\" halign=\"left\">r0</th>\n      <th colspan=\"5\" halign=\"left\">r1</th>\n      <th>...</th>\n      <th colspan=\"2\" halign=\"left\">thrust</th>\n      <th colspan=\"4\" halign=\"left\">timestep</th>\n      <th colspan=\"4\" halign=\"left\">velocity</th>\n    </tr>\n    <tr>\n      <th>idx</th>\n      <th>0</th>\n      <th>1</th>\n      <th>2</th>\n      <th>3</th>\n      <th>4</th>\n      <th>0</th>\n      <th>1</th>\n      <th>2</th>\n      <th>3</th>\n      <th>4</th>\n      <th>...</th>\n      <th>2</th>\n      <th>3</th>\n      <th>0</th>\n      <th>1</th>\n      <th>2</th>\n      <th>3</th>\n      <th>0</th>\n      <th>1</th>\n      <th>2</th>\n      <th>3</th>\n    </tr>\n    <tr>\n      <th>timestamp</th>\n      <th></th>\n      <th></th>\n      <th></th>\n      <th></th>\n      <th></th>\n      <th></th>\n      <th></th>\n      <th></th>\n      <th></th>\n      <th></th>\n      <th></th>\n      <th></th>\n      <th></th>\n      <th></th>\n      <th></th>\n      <th></th>\n      <th></th>\n      <th></th>\n      <th></th>\n      <th></th>\n      <th></th>\n    </tr>\n  </thead>\n  <tbody>\n    <tr>\n      <th>2023-06-21 13:30:11.688103</th>\n      <td>12</td>\n      <td>13</td>\n      <td>14</td>\n      <td>15</td>\n      <td>16</td>\n      <td>17</td>\n      <td>18</td>\n      <td>19</td>\n      <td>20</td>\n      <td>21</td>\n      <td>...</td>\n      <td>6</td>\n      <td>7</td>\n      <td>1687350611688103000</td>\n      <td>1687350611708103000</td>\n      <td>1687350611728103000</td>\n      <td>1687350611748103000</td>\n      <td>0</td>\n      <td>1</td>\n      <td>2</td>\n      <td>3</td>\n    </tr>\n    <tr>\n      <th>2023-06-21 14:30:11.688103</th>\n      <td>12</td>\n      <td>13</td>\n      <td>14</td>\n      <td>15</td>\n      <td>16</td>\n      <td>17</td>\n      <td>18</td>\n      <td>19</td>\n      <td>20</td>\n      <td>21</td>\n      <td>...</td>\n      <td>6</td>\n      <td>7</td>\n      <td>1687350611688103000</td>\n      <td>1687350611708103000</td>\n      <td>1687350611728103000</td>\n      <td>1687350611748103000</td>\n      <td>0</td>\n      <td>1</td>\n      <td>2</td>\n      <td>3</td>\n    </tr>\n    <tr>\n      <th>2023-06-21 15:30:11.688103</th>\n      <td>12</td>\n      <td>13</td>\n      <td>14</td>\n      <td>15</td>\n      <td>16</td>\n      <td>17</td>\n      <td>18</td>\n      <td>19</td>\n      <td>20</td>\n      <td>21</td>\n      <td>...</td>\n      <td>6</td>\n      <td>7</td>\n      <td>1687350611688103000</td>\n      <td>1687350611708103000</td>\n      <td>1687350611728103000</td>\n      <td>1687350611748103000</td>\n      <td>0</td>\n      <td>1</td>\n      <td>2</td>\n      <td>3</td>\n    </tr>\n    <tr>\n      <th>2023-06-21 16:30:11.688103</th>\n      <td>12</td>\n      <td>13</td>\n      <td>14</td>\n      <td>15</td>\n      <td>16</td>\n      <td>17</td>\n      <td>18</td>\n      <td>19</td>\n      <td>20</td>\n      <td>21</td>\n      <td>...</td>\n      <td>6</td>\n      <td>7</td>\n      <td>1687350611688103000</td>\n      <td>1687350611708103000</td>\n      <td>1687350611728103000</td>\n      <td>1687350611748103000</td>\n      <td>0</td>\n      <td>1</td>\n      <td>2</td>\n      <td>3</td>\n    </tr>\n    <tr>\n      <th>2023-06-21 17:30:11.688103</th>\n      <td>12</td>\n      <td>13</td>\n      <td>14</td>\n      <td>15</td>\n      <td>16</td>\n      <td>17</td>\n      <td>18</td>\n      <td>19</td>\n      <td>20</td>\n      <td>21</td>\n      <td>...</td>\n      <td>6</td>\n      <td>7</td>\n      <td>1687350611688103000</td>\n      <td>1687350611708103000</td>\n      <td>1687350611728103000</td>\n      <td>1687350611748103000</td>\n      <td>0</td>\n      <td>1</td>\n      <td>2</td>\n      <td>3</td>\n    </tr>\n  </tbody>\n</table>\n<p>5 rows × 60 columns</p>\n</div>"
     },
     "execution_count": 28,
     "metadata": {},
     "output_type": "execute_result"
    },
    {
     "data": {
      "text/plain": "tuple   rows      idx\naction  r0        0      object\n                  1      object\n                  2      object\n                  3      object\n                  4      object\n        r1        0      object\n                  1      object\n                  2      object\n                  3      object\n                  4      object\n        r2        0      object\n                  1      object\n                  2      object\n                  3      object\n                  4      object\n        speed     0      object\n                  1      object\n                  2      object\n        throttle  0      object\n                  1      object\n                  2      object\n                  3      object\n                  4      object\n        timestep  0       int64\n                  1       int64\n                  2       int64\nnstate  brake     0      object\n                  1      object\n                  2      object\n                  3      object\n        thrust    0      object\n                  1      object\n                  2      object\n                  3      object\n        timestep  0       int64\n                  1       int64\n                  2       int64\n                  3       int64\n        velocity  0      object\n                  1      object\n                  2      object\n                  3      object\nreward  timestep  0       int64\n        work      0      object\nstate   brake     0      object\n                  1      object\n                  2      object\n                  3      object\n        thrust    0      object\n                  1      object\n                  2      object\n                  3      object\n        timestep  0       int64\n                  1       int64\n                  2       int64\n                  3       int64\n        velocity  0      object\n                  1      object\n                  2      object\n                  3      object\ndtype: object"
     },
     "execution_count": 28,
     "metadata": {},
     "output_type": "execute_result"
    },
    {
     "data": {
      "text/plain": "MultiIndex([('action',       'r0', 0),\n            ('action',       'r0', 1),\n            ('action',       'r0', 2),\n            ('action',       'r0', 3),\n            ('action',       'r0', 4),\n            ('action',       'r1', 0),\n            ('action',       'r1', 1),\n            ('action',       'r1', 2),\n            ('action',       'r1', 3),\n            ('action',       'r1', 4),\n            ('action',       'r2', 0),\n            ('action',       'r2', 1),\n            ('action',       'r2', 2),\n            ('action',       'r2', 3),\n            ('action',       'r2', 4),\n            ('action',    'speed', 0),\n            ('action',    'speed', 1),\n            ('action',    'speed', 2),\n            ('action', 'throttle', 0),\n            ('action', 'throttle', 1),\n            ('action', 'throttle', 2),\n            ('action', 'throttle', 3),\n            ('action', 'throttle', 4),\n            ('action', 'timestep', 0),\n            ('action', 'timestep', 1),\n            ('action', 'timestep', 2),\n            ('nstate',    'brake', 0),\n            ('nstate',    'brake', 1),\n            ('nstate',    'brake', 2),\n            ('nstate',    'brake', 3),\n            ('nstate',   'thrust', 0),\n            ('nstate',   'thrust', 1),\n            ('nstate',   'thrust', 2),\n            ('nstate',   'thrust', 3),\n            ('nstate', 'timestep', 0),\n            ('nstate', 'timestep', 1),\n            ('nstate', 'timestep', 2),\n            ('nstate', 'timestep', 3),\n            ('nstate', 'velocity', 0),\n            ('nstate', 'velocity', 1),\n            ('nstate', 'velocity', 2),\n            ('nstate', 'velocity', 3),\n            ('reward', 'timestep', 0),\n            ('reward',     'work', 0),\n            ( 'state',    'brake', 0),\n            ( 'state',    'brake', 1),\n            ( 'state',    'brake', 2),\n            ( 'state',    'brake', 3),\n            ( 'state',   'thrust', 0),\n            ( 'state',   'thrust', 1),\n            ( 'state',   'thrust', 2),\n            ( 'state',   'thrust', 3),\n            ( 'state', 'timestep', 0),\n            ( 'state', 'timestep', 1),\n            ( 'state', 'timestep', 2),\n            ( 'state', 'timestep', 3),\n            ( 'state', 'velocity', 0),\n            ( 'state', 'velocity', 1),\n            ( 'state', 'velocity', 2),\n            ( 'state', 'velocity', 3)],\n           names=['tuple', 'rows', 'idx'])"
     },
     "execution_count": 28,
     "metadata": {},
     "output_type": "execute_result"
    }
   ],
   "source": [
    "dfs_episode1.loc[:, idx['action':'state', :, :, :]] = dfs_episode1.loc[\n",
    "    :, idx['action':'state', :, :, :]\n",
    "].astype('int')\n",
    "dfs_episode1\n",
    "dfs_episode1.dtypes\n",
    "dfs_episode1.columns"
   ],
   "metadata": {
    "collapsed": false,
    "ExecuteTime": {
     "end_time": "2023-06-21T04:30:12.743051959Z",
     "start_time": "2023-06-21T04:30:12.141574759Z"
    }
   }
  },
  {
   "cell_type": "markdown",
   "source": [
    "### Convert columns types to float"
   ],
   "metadata": {
    "collapsed": false
   }
  },
  {
   "cell_type": "code",
   "execution_count": 29,
   "outputs": [
    {
     "data": {
      "text/plain": "tuple                  timestamp state                             \\\nrows                             brake            thrust            \nidx                            0     0  1   2   3      0  1  2  3   \n0     2023-06-21 13:30:11.688103     8  9  10  11      4  5  6  7   \n1     2023-06-21 14:30:11.688103     8  9  10  11      4  5  6  7   \n2     2023-06-21 15:30:11.688103     8  9  10  11      4  5  6  7   \n3     2023-06-21 16:30:11.688103     8  9  10  11      4  5  6  7   \n4     2023-06-21 17:30:11.688103     8  9  10  11      4  5  6  7   \n\ntuple                             ... nstate                                 \\\nrows                    timestep  ... thrust                       timestep   \nidx                            0  ...      2   3                          0   \n0     2023-06-21 12:30:11.688103  ...     35  36 2023-06-21 12:30:16.688103   \n1     2023-06-21 12:30:11.688103  ...     35  36 2023-06-21 12:30:16.688103   \n2     2023-06-21 12:30:11.688103  ...     35  36 2023-06-21 12:30:16.688103   \n3     2023-06-21 12:30:11.688103  ...     35  36 2023-06-21 12:30:16.688103   \n4     2023-06-21 12:30:11.688103  ...     35  36 2023-06-21 12:30:16.688103   \n\ntuple                                                        \\\nrows                                                          \nidx                            1                          2   \n0     2023-06-21 12:30:16.708103 2023-06-21 12:30:16.728103   \n1     2023-06-21 12:30:16.708103 2023-06-21 12:30:16.728103   \n2     2023-06-21 12:30:16.708103 2023-06-21 12:30:16.728103   \n3     2023-06-21 12:30:16.708103 2023-06-21 12:30:16.728103   \n4     2023-06-21 12:30:16.708103 2023-06-21 12:30:16.728103   \n\ntuple                                                  \nrows                             velocity              \nidx                            3        0   1   2   3  \n0     2023-06-21 12:30:16.748103       29  30  31  32  \n1     2023-06-21 12:30:16.748103       29  30  31  32  \n2     2023-06-21 12:30:16.748103       29  30  31  32  \n3     2023-06-21 12:30:16.748103       29  30  31  32  \n4     2023-06-21 12:30:16.748103       29  30  31  32  \n\n[5 rows x 61 columns]",
      "text/html": "<div>\n<style scoped>\n    .dataframe tbody tr th:only-of-type {\n        vertical-align: middle;\n    }\n\n    .dataframe tbody tr th {\n        vertical-align: top;\n    }\n\n    .dataframe thead tr th {\n        text-align: left;\n    }\n</style>\n<table border=\"1\" class=\"dataframe\">\n  <thead>\n    <tr>\n      <th>tuple</th>\n      <th>timestamp</th>\n      <th colspan=\"9\" halign=\"left\">state</th>\n      <th>...</th>\n      <th colspan=\"10\" halign=\"left\">nstate</th>\n    </tr>\n    <tr>\n      <th>rows</th>\n      <th></th>\n      <th colspan=\"4\" halign=\"left\">brake</th>\n      <th colspan=\"4\" halign=\"left\">thrust</th>\n      <th>timestep</th>\n      <th>...</th>\n      <th colspan=\"2\" halign=\"left\">thrust</th>\n      <th colspan=\"4\" halign=\"left\">timestep</th>\n      <th colspan=\"4\" halign=\"left\">velocity</th>\n    </tr>\n    <tr>\n      <th>idx</th>\n      <th>0</th>\n      <th>0</th>\n      <th>1</th>\n      <th>2</th>\n      <th>3</th>\n      <th>0</th>\n      <th>1</th>\n      <th>2</th>\n      <th>3</th>\n      <th>0</th>\n      <th>...</th>\n      <th>2</th>\n      <th>3</th>\n      <th>0</th>\n      <th>1</th>\n      <th>2</th>\n      <th>3</th>\n      <th>0</th>\n      <th>1</th>\n      <th>2</th>\n      <th>3</th>\n    </tr>\n  </thead>\n  <tbody>\n    <tr>\n      <th>0</th>\n      <td>2023-06-21 13:30:11.688103</td>\n      <td>8</td>\n      <td>9</td>\n      <td>10</td>\n      <td>11</td>\n      <td>4</td>\n      <td>5</td>\n      <td>6</td>\n      <td>7</td>\n      <td>2023-06-21 12:30:11.688103</td>\n      <td>...</td>\n      <td>35</td>\n      <td>36</td>\n      <td>2023-06-21 12:30:16.688103</td>\n      <td>2023-06-21 12:30:16.708103</td>\n      <td>2023-06-21 12:30:16.728103</td>\n      <td>2023-06-21 12:30:16.748103</td>\n      <td>29</td>\n      <td>30</td>\n      <td>31</td>\n      <td>32</td>\n    </tr>\n    <tr>\n      <th>1</th>\n      <td>2023-06-21 14:30:11.688103</td>\n      <td>8</td>\n      <td>9</td>\n      <td>10</td>\n      <td>11</td>\n      <td>4</td>\n      <td>5</td>\n      <td>6</td>\n      <td>7</td>\n      <td>2023-06-21 12:30:11.688103</td>\n      <td>...</td>\n      <td>35</td>\n      <td>36</td>\n      <td>2023-06-21 12:30:16.688103</td>\n      <td>2023-06-21 12:30:16.708103</td>\n      <td>2023-06-21 12:30:16.728103</td>\n      <td>2023-06-21 12:30:16.748103</td>\n      <td>29</td>\n      <td>30</td>\n      <td>31</td>\n      <td>32</td>\n    </tr>\n    <tr>\n      <th>2</th>\n      <td>2023-06-21 15:30:11.688103</td>\n      <td>8</td>\n      <td>9</td>\n      <td>10</td>\n      <td>11</td>\n      <td>4</td>\n      <td>5</td>\n      <td>6</td>\n      <td>7</td>\n      <td>2023-06-21 12:30:11.688103</td>\n      <td>...</td>\n      <td>35</td>\n      <td>36</td>\n      <td>2023-06-21 12:30:16.688103</td>\n      <td>2023-06-21 12:30:16.708103</td>\n      <td>2023-06-21 12:30:16.728103</td>\n      <td>2023-06-21 12:30:16.748103</td>\n      <td>29</td>\n      <td>30</td>\n      <td>31</td>\n      <td>32</td>\n    </tr>\n    <tr>\n      <th>3</th>\n      <td>2023-06-21 16:30:11.688103</td>\n      <td>8</td>\n      <td>9</td>\n      <td>10</td>\n      <td>11</td>\n      <td>4</td>\n      <td>5</td>\n      <td>6</td>\n      <td>7</td>\n      <td>2023-06-21 12:30:11.688103</td>\n      <td>...</td>\n      <td>35</td>\n      <td>36</td>\n      <td>2023-06-21 12:30:16.688103</td>\n      <td>2023-06-21 12:30:16.708103</td>\n      <td>2023-06-21 12:30:16.728103</td>\n      <td>2023-06-21 12:30:16.748103</td>\n      <td>29</td>\n      <td>30</td>\n      <td>31</td>\n      <td>32</td>\n    </tr>\n    <tr>\n      <th>4</th>\n      <td>2023-06-21 17:30:11.688103</td>\n      <td>8</td>\n      <td>9</td>\n      <td>10</td>\n      <td>11</td>\n      <td>4</td>\n      <td>5</td>\n      <td>6</td>\n      <td>7</td>\n      <td>2023-06-21 12:30:11.688103</td>\n      <td>...</td>\n      <td>35</td>\n      <td>36</td>\n      <td>2023-06-21 12:30:16.688103</td>\n      <td>2023-06-21 12:30:16.708103</td>\n      <td>2023-06-21 12:30:16.728103</td>\n      <td>2023-06-21 12:30:16.748103</td>\n      <td>29</td>\n      <td>30</td>\n      <td>31</td>\n      <td>32</td>\n    </tr>\n  </tbody>\n</table>\n<p>5 rows × 61 columns</p>\n</div>"
     },
     "execution_count": 29,
     "metadata": {},
     "output_type": "execute_result"
    },
    {
     "data": {
      "text/plain": "RangeIndex(start=0, stop=5, step=1)"
     },
     "execution_count": 29,
     "metadata": {},
     "output_type": "execute_result"
    },
    {
     "data": {
      "text/plain": "DatetimeIndex(['2023-06-21 13:30:11.688103', '2023-06-21 14:30:11.688103',\n               '2023-06-21 15:30:11.688103', '2023-06-21 16:30:11.688103',\n               '2023-06-21 17:30:11.688103'],\n              dtype='datetime64[ns]', name=('timestamp', '', 0), freq=None)"
     },
     "execution_count": 29,
     "metadata": {},
     "output_type": "execute_result"
    },
    {
     "data": {
      "text/plain": "tuple                      action                                      ...  \\\nrows                           r0                  r1                  ...   \nidx                             0   1   2   3   4   0   1   2   3   4  ...   \n(timestamp, , 0)                                                       ...   \n2023-06-21 13:30:11.688103     12  13  14  15  16  17  18  19  20  21  ...   \n2023-06-21 14:30:11.688103     12  13  14  15  16  17  18  19  20  21  ...   \n2023-06-21 15:30:11.688103     12  13  14  15  16  17  18  19  20  21  ...   \n2023-06-21 16:30:11.688103     12  13  14  15  16  17  18  19  20  21  ...   \n2023-06-21 17:30:11.688103     12  13  14  15  16  17  18  19  20  21  ...   \n\ntuple                       state                                \\\nrows                       thrust                      timestep   \nidx                             2  3                          0   \n(timestamp, , 0)                                                  \n2023-06-21 13:30:11.688103      6  7 2023-06-21 12:30:11.688103   \n2023-06-21 14:30:11.688103      6  7 2023-06-21 12:30:11.688103   \n2023-06-21 15:30:11.688103      6  7 2023-06-21 12:30:11.688103   \n2023-06-21 16:30:11.688103      6  7 2023-06-21 12:30:11.688103   \n2023-06-21 17:30:11.688103      6  7 2023-06-21 12:30:11.688103   \n\ntuple                                                  \\\nrows                                                    \nidx                                                 1   \n(timestamp, , 0)                                        \n2023-06-21 13:30:11.688103 2023-06-21 12:30:11.708103   \n2023-06-21 14:30:11.688103 2023-06-21 12:30:11.708103   \n2023-06-21 15:30:11.688103 2023-06-21 12:30:11.708103   \n2023-06-21 16:30:11.688103 2023-06-21 12:30:11.708103   \n2023-06-21 17:30:11.688103 2023-06-21 12:30:11.708103   \n\ntuple                                                  \\\nrows                                                    \nidx                                                 2   \n(timestamp, , 0)                                        \n2023-06-21 13:30:11.688103 2023-06-21 12:30:11.728103   \n2023-06-21 14:30:11.688103 2023-06-21 12:30:11.728103   \n2023-06-21 15:30:11.688103 2023-06-21 12:30:11.728103   \n2023-06-21 16:30:11.688103 2023-06-21 12:30:11.728103   \n2023-06-21 17:30:11.688103 2023-06-21 12:30:11.728103   \n\ntuple                                                                    \nrows                                                  velocity           \nidx                                                 3        0  1  2  3  \n(timestamp, , 0)                                                         \n2023-06-21 13:30:11.688103 2023-06-21 12:30:11.748103        0  1  2  3  \n2023-06-21 14:30:11.688103 2023-06-21 12:30:11.748103        0  1  2  3  \n2023-06-21 15:30:11.688103 2023-06-21 12:30:11.748103        0  1  2  3  \n2023-06-21 16:30:11.688103 2023-06-21 12:30:11.748103        0  1  2  3  \n2023-06-21 17:30:11.688103 2023-06-21 12:30:11.748103        0  1  2  3  \n\n[5 rows x 60 columns]",
      "text/html": "<div>\n<style scoped>\n    .dataframe tbody tr th:only-of-type {\n        vertical-align: middle;\n    }\n\n    .dataframe tbody tr th {\n        vertical-align: top;\n    }\n\n    .dataframe thead tr th {\n        text-align: left;\n    }\n\n    .dataframe thead tr:last-of-type th {\n        text-align: right;\n    }\n</style>\n<table border=\"1\" class=\"dataframe\">\n  <thead>\n    <tr>\n      <th>tuple</th>\n      <th colspan=\"10\" halign=\"left\">action</th>\n      <th>...</th>\n      <th colspan=\"10\" halign=\"left\">state</th>\n    </tr>\n    <tr>\n      <th>rows</th>\n      <th colspan=\"5\" halign=\"left\">r0</th>\n      <th colspan=\"5\" halign=\"left\">r1</th>\n      <th>...</th>\n      <th colspan=\"2\" halign=\"left\">thrust</th>\n      <th colspan=\"4\" halign=\"left\">timestep</th>\n      <th colspan=\"4\" halign=\"left\">velocity</th>\n    </tr>\n    <tr>\n      <th>idx</th>\n      <th>0</th>\n      <th>1</th>\n      <th>2</th>\n      <th>3</th>\n      <th>4</th>\n      <th>0</th>\n      <th>1</th>\n      <th>2</th>\n      <th>3</th>\n      <th>4</th>\n      <th>...</th>\n      <th>2</th>\n      <th>3</th>\n      <th>0</th>\n      <th>1</th>\n      <th>2</th>\n      <th>3</th>\n      <th>0</th>\n      <th>1</th>\n      <th>2</th>\n      <th>3</th>\n    </tr>\n    <tr>\n      <th>(timestamp, , 0)</th>\n      <th></th>\n      <th></th>\n      <th></th>\n      <th></th>\n      <th></th>\n      <th></th>\n      <th></th>\n      <th></th>\n      <th></th>\n      <th></th>\n      <th></th>\n      <th></th>\n      <th></th>\n      <th></th>\n      <th></th>\n      <th></th>\n      <th></th>\n      <th></th>\n      <th></th>\n      <th></th>\n      <th></th>\n    </tr>\n  </thead>\n  <tbody>\n    <tr>\n      <th>2023-06-21 13:30:11.688103</th>\n      <td>12</td>\n      <td>13</td>\n      <td>14</td>\n      <td>15</td>\n      <td>16</td>\n      <td>17</td>\n      <td>18</td>\n      <td>19</td>\n      <td>20</td>\n      <td>21</td>\n      <td>...</td>\n      <td>6</td>\n      <td>7</td>\n      <td>2023-06-21 12:30:11.688103</td>\n      <td>2023-06-21 12:30:11.708103</td>\n      <td>2023-06-21 12:30:11.728103</td>\n      <td>2023-06-21 12:30:11.748103</td>\n      <td>0</td>\n      <td>1</td>\n      <td>2</td>\n      <td>3</td>\n    </tr>\n    <tr>\n      <th>2023-06-21 14:30:11.688103</th>\n      <td>12</td>\n      <td>13</td>\n      <td>14</td>\n      <td>15</td>\n      <td>16</td>\n      <td>17</td>\n      <td>18</td>\n      <td>19</td>\n      <td>20</td>\n      <td>21</td>\n      <td>...</td>\n      <td>6</td>\n      <td>7</td>\n      <td>2023-06-21 12:30:11.688103</td>\n      <td>2023-06-21 12:30:11.708103</td>\n      <td>2023-06-21 12:30:11.728103</td>\n      <td>2023-06-21 12:30:11.748103</td>\n      <td>0</td>\n      <td>1</td>\n      <td>2</td>\n      <td>3</td>\n    </tr>\n    <tr>\n      <th>2023-06-21 15:30:11.688103</th>\n      <td>12</td>\n      <td>13</td>\n      <td>14</td>\n      <td>15</td>\n      <td>16</td>\n      <td>17</td>\n      <td>18</td>\n      <td>19</td>\n      <td>20</td>\n      <td>21</td>\n      <td>...</td>\n      <td>6</td>\n      <td>7</td>\n      <td>2023-06-21 12:30:11.688103</td>\n      <td>2023-06-21 12:30:11.708103</td>\n      <td>2023-06-21 12:30:11.728103</td>\n      <td>2023-06-21 12:30:11.748103</td>\n      <td>0</td>\n      <td>1</td>\n      <td>2</td>\n      <td>3</td>\n    </tr>\n    <tr>\n      <th>2023-06-21 16:30:11.688103</th>\n      <td>12</td>\n      <td>13</td>\n      <td>14</td>\n      <td>15</td>\n      <td>16</td>\n      <td>17</td>\n      <td>18</td>\n      <td>19</td>\n      <td>20</td>\n      <td>21</td>\n      <td>...</td>\n      <td>6</td>\n      <td>7</td>\n      <td>2023-06-21 12:30:11.688103</td>\n      <td>2023-06-21 12:30:11.708103</td>\n      <td>2023-06-21 12:30:11.728103</td>\n      <td>2023-06-21 12:30:11.748103</td>\n      <td>0</td>\n      <td>1</td>\n      <td>2</td>\n      <td>3</td>\n    </tr>\n    <tr>\n      <th>2023-06-21 17:30:11.688103</th>\n      <td>12</td>\n      <td>13</td>\n      <td>14</td>\n      <td>15</td>\n      <td>16</td>\n      <td>17</td>\n      <td>18</td>\n      <td>19</td>\n      <td>20</td>\n      <td>21</td>\n      <td>...</td>\n      <td>6</td>\n      <td>7</td>\n      <td>2023-06-21 12:30:11.688103</td>\n      <td>2023-06-21 12:30:11.708103</td>\n      <td>2023-06-21 12:30:11.728103</td>\n      <td>2023-06-21 12:30:11.748103</td>\n      <td>0</td>\n      <td>1</td>\n      <td>2</td>\n      <td>3</td>\n    </tr>\n  </tbody>\n</table>\n<p>5 rows × 60 columns</p>\n</div>"
     },
     "execution_count": 29,
     "metadata": {},
     "output_type": "execute_result"
    }
   ],
   "source": [
    "dfs_epi\n",
    "dfs_episode = dfs_epi.copy()\n",
    "dfs_episode.index\n",
    "dfs_episode.set_index(('timestamp', '', 0), inplace=True)\n",
    "dfs_episode.sort_index(axis=1, inplace=True)\n",
    "dfs_episode.index\n",
    "dfs_episode\n"
   ],
   "metadata": {
    "collapsed": false,
    "ExecuteTime": {
     "end_time": "2023-06-21T04:30:12.854038120Z",
     "start_time": "2023-06-21T04:30:12.182032735Z"
    }
   }
  },
  {
   "cell_type": "code",
   "execution_count": 30,
   "outputs": [
    {
     "data": {
      "text/plain": "tuple                      action                                            \\\nrows                           r0                            r1               \nidx                             0     1     2     3     4     0     1     2   \ntimestamp                                                                     \n2023-06-21 13:30:11.688103   12.0  13.0  14.0  15.0  16.0  17.0  18.0  19.0   \n2023-06-21 14:30:11.688103   12.0  13.0  14.0  15.0  16.0  17.0  18.0  19.0   \n2023-06-21 15:30:11.688103   12.0  13.0  14.0  15.0  16.0  17.0  18.0  19.0   \n2023-06-21 16:30:11.688103   12.0  13.0  14.0  15.0  16.0  17.0  18.0  19.0   \n2023-06-21 17:30:11.688103   12.0  13.0  14.0  15.0  16.0  17.0  18.0  19.0   \n\ntuple                                   ...  state       \\\nrows                                    ... thrust        \nidx                            3     4  ...      2    3   \ntimestamp                               ...               \n2023-06-21 13:30:11.688103  20.0  21.0  ...    6.0  7.0   \n2023-06-21 14:30:11.688103  20.0  21.0  ...    6.0  7.0   \n2023-06-21 15:30:11.688103  20.0  21.0  ...    6.0  7.0   \n2023-06-21 16:30:11.688103  20.0  21.0  ...    6.0  7.0   \n2023-06-21 17:30:11.688103  20.0  21.0  ...    6.0  7.0   \n\ntuple                                                  \\\nrows                                         timestep   \nidx                                                 0   \ntimestamp                                               \n2023-06-21 13:30:11.688103 2023-06-21 12:30:11.688103   \n2023-06-21 14:30:11.688103 2023-06-21 12:30:11.688103   \n2023-06-21 15:30:11.688103 2023-06-21 12:30:11.688103   \n2023-06-21 16:30:11.688103 2023-06-21 12:30:11.688103   \n2023-06-21 17:30:11.688103 2023-06-21 12:30:11.688103   \n\ntuple                                                  \\\nrows                                                    \nidx                                                 1   \ntimestamp                                               \n2023-06-21 13:30:11.688103 2023-06-21 12:30:11.708103   \n2023-06-21 14:30:11.688103 2023-06-21 12:30:11.708103   \n2023-06-21 15:30:11.688103 2023-06-21 12:30:11.708103   \n2023-06-21 16:30:11.688103 2023-06-21 12:30:11.708103   \n2023-06-21 17:30:11.688103 2023-06-21 12:30:11.708103   \n\ntuple                                                  \\\nrows                                                    \nidx                                                 2   \ntimestamp                                               \n2023-06-21 13:30:11.688103 2023-06-21 12:30:11.728103   \n2023-06-21 14:30:11.688103 2023-06-21 12:30:11.728103   \n2023-06-21 15:30:11.688103 2023-06-21 12:30:11.728103   \n2023-06-21 16:30:11.688103 2023-06-21 12:30:11.728103   \n2023-06-21 17:30:11.688103 2023-06-21 12:30:11.728103   \n\ntuple                                                                          \nrows                                                  velocity                 \nidx                                                 3        0    1    2    3  \ntimestamp                                                                      \n2023-06-21 13:30:11.688103 2023-06-21 12:30:11.748103      0.0  1.0  2.0  3.0  \n2023-06-21 14:30:11.688103 2023-06-21 12:30:11.748103      0.0  1.0  2.0  3.0  \n2023-06-21 15:30:11.688103 2023-06-21 12:30:11.748103      0.0  1.0  2.0  3.0  \n2023-06-21 16:30:11.688103 2023-06-21 12:30:11.748103      0.0  1.0  2.0  3.0  \n2023-06-21 17:30:11.688103 2023-06-21 12:30:11.748103      0.0  1.0  2.0  3.0  \n\n[5 rows x 60 columns]",
      "text/html": "<div>\n<style scoped>\n    .dataframe tbody tr th:only-of-type {\n        vertical-align: middle;\n    }\n\n    .dataframe tbody tr th {\n        vertical-align: top;\n    }\n\n    .dataframe thead tr th {\n        text-align: left;\n    }\n\n    .dataframe thead tr:last-of-type th {\n        text-align: right;\n    }\n</style>\n<table border=\"1\" class=\"dataframe\">\n  <thead>\n    <tr>\n      <th>tuple</th>\n      <th colspan=\"10\" halign=\"left\">action</th>\n      <th>...</th>\n      <th colspan=\"10\" halign=\"left\">state</th>\n    </tr>\n    <tr>\n      <th>rows</th>\n      <th colspan=\"5\" halign=\"left\">r0</th>\n      <th colspan=\"5\" halign=\"left\">r1</th>\n      <th>...</th>\n      <th colspan=\"2\" halign=\"left\">thrust</th>\n      <th colspan=\"4\" halign=\"left\">timestep</th>\n      <th colspan=\"4\" halign=\"left\">velocity</th>\n    </tr>\n    <tr>\n      <th>idx</th>\n      <th>0</th>\n      <th>1</th>\n      <th>2</th>\n      <th>3</th>\n      <th>4</th>\n      <th>0</th>\n      <th>1</th>\n      <th>2</th>\n      <th>3</th>\n      <th>4</th>\n      <th>...</th>\n      <th>2</th>\n      <th>3</th>\n      <th>0</th>\n      <th>1</th>\n      <th>2</th>\n      <th>3</th>\n      <th>0</th>\n      <th>1</th>\n      <th>2</th>\n      <th>3</th>\n    </tr>\n    <tr>\n      <th>timestamp</th>\n      <th></th>\n      <th></th>\n      <th></th>\n      <th></th>\n      <th></th>\n      <th></th>\n      <th></th>\n      <th></th>\n      <th></th>\n      <th></th>\n      <th></th>\n      <th></th>\n      <th></th>\n      <th></th>\n      <th></th>\n      <th></th>\n      <th></th>\n      <th></th>\n      <th></th>\n      <th></th>\n      <th></th>\n    </tr>\n  </thead>\n  <tbody>\n    <tr>\n      <th>2023-06-21 13:30:11.688103</th>\n      <td>12.0</td>\n      <td>13.0</td>\n      <td>14.0</td>\n      <td>15.0</td>\n      <td>16.0</td>\n      <td>17.0</td>\n      <td>18.0</td>\n      <td>19.0</td>\n      <td>20.0</td>\n      <td>21.0</td>\n      <td>...</td>\n      <td>6.0</td>\n      <td>7.0</td>\n      <td>2023-06-21 12:30:11.688103</td>\n      <td>2023-06-21 12:30:11.708103</td>\n      <td>2023-06-21 12:30:11.728103</td>\n      <td>2023-06-21 12:30:11.748103</td>\n      <td>0.0</td>\n      <td>1.0</td>\n      <td>2.0</td>\n      <td>3.0</td>\n    </tr>\n    <tr>\n      <th>2023-06-21 14:30:11.688103</th>\n      <td>12.0</td>\n      <td>13.0</td>\n      <td>14.0</td>\n      <td>15.0</td>\n      <td>16.0</td>\n      <td>17.0</td>\n      <td>18.0</td>\n      <td>19.0</td>\n      <td>20.0</td>\n      <td>21.0</td>\n      <td>...</td>\n      <td>6.0</td>\n      <td>7.0</td>\n      <td>2023-06-21 12:30:11.688103</td>\n      <td>2023-06-21 12:30:11.708103</td>\n      <td>2023-06-21 12:30:11.728103</td>\n      <td>2023-06-21 12:30:11.748103</td>\n      <td>0.0</td>\n      <td>1.0</td>\n      <td>2.0</td>\n      <td>3.0</td>\n    </tr>\n    <tr>\n      <th>2023-06-21 15:30:11.688103</th>\n      <td>12.0</td>\n      <td>13.0</td>\n      <td>14.0</td>\n      <td>15.0</td>\n      <td>16.0</td>\n      <td>17.0</td>\n      <td>18.0</td>\n      <td>19.0</td>\n      <td>20.0</td>\n      <td>21.0</td>\n      <td>...</td>\n      <td>6.0</td>\n      <td>7.0</td>\n      <td>2023-06-21 12:30:11.688103</td>\n      <td>2023-06-21 12:30:11.708103</td>\n      <td>2023-06-21 12:30:11.728103</td>\n      <td>2023-06-21 12:30:11.748103</td>\n      <td>0.0</td>\n      <td>1.0</td>\n      <td>2.0</td>\n      <td>3.0</td>\n    </tr>\n    <tr>\n      <th>2023-06-21 16:30:11.688103</th>\n      <td>12.0</td>\n      <td>13.0</td>\n      <td>14.0</td>\n      <td>15.0</td>\n      <td>16.0</td>\n      <td>17.0</td>\n      <td>18.0</td>\n      <td>19.0</td>\n      <td>20.0</td>\n      <td>21.0</td>\n      <td>...</td>\n      <td>6.0</td>\n      <td>7.0</td>\n      <td>2023-06-21 12:30:11.688103</td>\n      <td>2023-06-21 12:30:11.708103</td>\n      <td>2023-06-21 12:30:11.728103</td>\n      <td>2023-06-21 12:30:11.748103</td>\n      <td>0.0</td>\n      <td>1.0</td>\n      <td>2.0</td>\n      <td>3.0</td>\n    </tr>\n    <tr>\n      <th>2023-06-21 17:30:11.688103</th>\n      <td>12.0</td>\n      <td>13.0</td>\n      <td>14.0</td>\n      <td>15.0</td>\n      <td>16.0</td>\n      <td>17.0</td>\n      <td>18.0</td>\n      <td>19.0</td>\n      <td>20.0</td>\n      <td>21.0</td>\n      <td>...</td>\n      <td>6.0</td>\n      <td>7.0</td>\n      <td>2023-06-21 12:30:11.688103</td>\n      <td>2023-06-21 12:30:11.708103</td>\n      <td>2023-06-21 12:30:11.728103</td>\n      <td>2023-06-21 12:30:11.748103</td>\n      <td>0.0</td>\n      <td>1.0</td>\n      <td>2.0</td>\n      <td>3.0</td>\n    </tr>\n  </tbody>\n</table>\n<p>5 rows × 60 columns</p>\n</div>"
     },
     "execution_count": 30,
     "metadata": {},
     "output_type": "execute_result"
    },
    {
     "data": {
      "text/plain": "tuple   rows      idx\naction  r0        0             float64\n                  1             float64\n                  2             float64\n                  3             float64\n                  4             float64\n        r1        0             float64\n                  1             float64\n                  2             float64\n                  3             float64\n                  4             float64\n        r2        0             float64\n                  1             float64\n                  2             float64\n                  3             float64\n                  4             float64\n        speed     0             float64\n                  1             float64\n                  2             float64\n        throttle  0             float64\n                  1             float64\n                  2             float64\n                  3             float64\n                  4             float64\n        timestep  0      datetime64[ns]\n                  1      datetime64[ns]\n                  2      datetime64[ns]\nnstate  brake     0             float64\n                  1             float64\n                  2             float64\n                  3             float64\n        thrust    0             float64\n                  1             float64\n                  2             float64\n                  3             float64\n        timestep  0      datetime64[ns]\n                  1      datetime64[ns]\n                  2      datetime64[ns]\n                  3      datetime64[ns]\n        velocity  0             float64\n                  1             float64\n                  2             float64\n                  3             float64\nreward  timestep  0      datetime64[ns]\n        work      0             float64\nstate   brake     0             float64\n                  1             float64\n                  2             float64\n                  3             float64\n        thrust    0             float64\n                  1             float64\n                  2             float64\n                  3             float64\n        timestep  0      datetime64[ns]\n                  1      datetime64[ns]\n                  2      datetime64[ns]\n                  3      datetime64[ns]\n        velocity  0             float64\n                  1             float64\n                  2             float64\n                  3             float64\ndtype: object"
     },
     "execution_count": 30,
     "metadata": {},
     "output_type": "execute_result"
    }
   ],
   "source": [
    "dfs_episode.index.name = 'timestamp'\n",
    "idx = pd.IndexSlice\n",
    "\n",
    "# # dfs_episode = dfs_episode.astype({idx['state', 'velocity', :]: 'int'})  # Error unhashable type: 'slice' for dictionary\n",
    "# # sorted_idx = **(idx['state', :, :]:'int')\n",
    "# # sorted_idx\n",
    "# dfs_episode.loc[:, idx['state', ['brake', 'thrust', 'velocity'], :]] = dfs_episode.loc[\n",
    "#     :, idx['state', ['brake', 'thrust', 'velocity'], :]\n",
    "# ].astype(\n",
    "#     'float'\n",
    "# )  # float16 not allowed in parquet\n",
    "#\n",
    "# dfs_episode.loc[:, idx['action', ['r0', 'r1', 'r2'], :]] = dfs_episode.loc[\n",
    "#     :, idx['action', ['r0', 'r1', 'r2'], :]\n",
    "# ].astype(\n",
    "#     'float'\n",
    "# )  # float16 not allowed in parquet\n",
    "# # dfs_episode['action'] = dfs_episode['action'].astype('float')\n",
    "# # dfs_episode['reward'] = dfs_episode['reward'].astype('float')\n",
    "# dfs_episode.loc[:, idx['reward', 'work', 0]] = dfs_episode.loc[\n",
    "#     :, idx['reward', 'work', 0]\n",
    "# ].astype(\n",
    "#     'float'\n",
    "# )  # float16 not allowed in parquet\n",
    "#\n",
    "# # dfs_episode['nstate'] = dfs_episode['nstate'].astype('float')\n",
    "# dfs_episode.loc[:, idx['nstate', ['brake', 'thrust', 'velocity'], :]] = dfs_episode.loc[\n",
    "#     :, idx['nstate', ['brake', 'thrust', 'velocity'], :]\n",
    "# ].astype(\n",
    "#     'float'\n",
    "# )  # float16 not allowed in parquet\n",
    "state_cols_float = [('state', col) for col in ['brake', 'thrust', 'velocity']]\n",
    "action_cols_float = [('action', col) for col in ['r0', 'r1', 'r2', 'speed', 'throttle']]\n",
    "reward_cols_float = [('reward', 'work')]\n",
    "nstate_cols_float = [('nstate', col) for col in ['brake', 'thrust', 'velocity']]\n",
    "for col in action_cols_float + state_cols_float + reward_cols_float + nstate_cols_float:\n",
    "    dfs_episode[col[0], col[1]] = dfs_episode[col[0], col[1]].astype(\n",
    "        'float'\n",
    "    )  # float16 not allowed in parquet\n",
    "dfs_episode\n",
    "dfs_episode.dtypes\n",
    "# dfs_episode.columns\n",
    "# dfs_epi\n",
    "# dfs_episode\n"
   ],
   "metadata": {
    "collapsed": false,
    "ExecuteTime": {
     "end_time": "2023-06-21T04:30:12.910440826Z",
     "start_time": "2023-06-21T04:30:12.223179378Z"
    }
   }
  },
  {
   "cell_type": "markdown",
   "source": [
    "## prepend two levels of index \"vehicle\" and \"driver\" to the DataFrame object"
   ],
   "metadata": {
    "collapsed": false
   }
  },
  {
   "cell_type": "code",
   "execution_count": 31,
   "outputs": [],
   "source": [
    "dfs_episode = pd.concat(\n",
    "    [dfs_episode], keys=[drivers_by_id['wang-cheng'].pid], names=['driver']\n",
    ")\n",
    "dfs_episode = pd.concat(\n",
    "    [dfs_episode], keys=[trucks_by_id['VB7'].vid], names=['vehicle']\n",
    ")"
   ],
   "metadata": {
    "collapsed": false,
    "ExecuteTime": {
     "end_time": "2023-06-21T04:30:12.948818536Z",
     "start_time": "2023-06-21T04:30:12.271081530Z"
    }
   }
  },
  {
   "cell_type": "code",
   "execution_count": 32,
   "outputs": [
    {
     "data": {
      "text/plain": "MultiIndex([('VB7', 'wang-cheng', '2023-06-21 13:30:11.688103'),\n            ('VB7', 'wang-cheng', '2023-06-21 14:30:11.688103'),\n            ('VB7', 'wang-cheng', '2023-06-21 15:30:11.688103'),\n            ('VB7', 'wang-cheng', '2023-06-21 16:30:11.688103'),\n            ('VB7', 'wang-cheng', '2023-06-21 17:30:11.688103')],\n           names=['vehicle', 'driver', 'timestamp'])"
     },
     "execution_count": 32,
     "metadata": {},
     "output_type": "execute_result"
    },
    {
     "data": {
      "text/plain": "MultiIndex([('action',       'r0', 0),\n            ('action',       'r0', 1),\n            ('action',       'r0', 2),\n            ('action',       'r0', 3),\n            ('action',       'r0', 4),\n            ('action',       'r1', 0),\n            ('action',       'r1', 1),\n            ('action',       'r1', 2),\n            ('action',       'r1', 3),\n            ('action',       'r1', 4),\n            ('action',       'r2', 0),\n            ('action',       'r2', 1),\n            ('action',       'r2', 2),\n            ('action',       'r2', 3),\n            ('action',       'r2', 4),\n            ('action',    'speed', 0),\n            ('action',    'speed', 1),\n            ('action',    'speed', 2),\n            ('action', 'throttle', 0),\n            ('action', 'throttle', 1),\n            ('action', 'throttle', 2),\n            ('action', 'throttle', 3),\n            ('action', 'throttle', 4),\n            ('action', 'timestep', 0),\n            ('action', 'timestep', 1),\n            ('action', 'timestep', 2),\n            ('nstate',    'brake', 0),\n            ('nstate',    'brake', 1),\n            ('nstate',    'brake', 2),\n            ('nstate',    'brake', 3),\n            ('nstate',   'thrust', 0),\n            ('nstate',   'thrust', 1),\n            ('nstate',   'thrust', 2),\n            ('nstate',   'thrust', 3),\n            ('nstate', 'timestep', 0),\n            ('nstate', 'timestep', 1),\n            ('nstate', 'timestep', 2),\n            ('nstate', 'timestep', 3),\n            ('nstate', 'velocity', 0),\n            ('nstate', 'velocity', 1),\n            ('nstate', 'velocity', 2),\n            ('nstate', 'velocity', 3),\n            ('reward', 'timestep', 0),\n            ('reward',     'work', 0),\n            ( 'state',    'brake', 0),\n            ( 'state',    'brake', 1),\n            ( 'state',    'brake', 2),\n            ( 'state',    'brake', 3),\n            ( 'state',   'thrust', 0),\n            ( 'state',   'thrust', 1),\n            ( 'state',   'thrust', 2),\n            ( 'state',   'thrust', 3),\n            ( 'state', 'timestep', 0),\n            ( 'state', 'timestep', 1),\n            ( 'state', 'timestep', 2),\n            ( 'state', 'timestep', 3),\n            ( 'state', 'velocity', 0),\n            ( 'state', 'velocity', 1),\n            ( 'state', 'velocity', 2),\n            ( 'state', 'velocity', 3)],\n           names=['tuple', 'rows', 'idx'])"
     },
     "execution_count": 32,
     "metadata": {},
     "output_type": "execute_result"
    }
   ],
   "source": [
    "dfs_episode.index\n",
    "dfs_episode.columns"
   ],
   "metadata": {
    "collapsed": false,
    "ExecuteTime": {
     "end_time": "2023-06-21T04:30:12.987853673Z",
     "start_time": "2023-06-21T04:30:12.271400791Z"
    }
   }
  },
  {
   "cell_type": "code",
   "execution_count": 33,
   "outputs": [
    {
     "data": {
      "text/plain": "tuple                                         action                          \\\nrows                                              r0                           \nidx                                                0     1     2     3     4   \nvehicle driver     timestamp                                                   \nVB7     wang-cheng 2023-06-21 13:30:11.688103   12.0  13.0  14.0  15.0  16.0   \n                   2023-06-21 14:30:11.688103   12.0  13.0  14.0  15.0  16.0   \n                   2023-06-21 15:30:11.688103   12.0  13.0  14.0  15.0  16.0   \n                   2023-06-21 16:30:11.688103   12.0  13.0  14.0  15.0  16.0   \n                   2023-06-21 17:30:11.688103   12.0  13.0  14.0  15.0  16.0   \n\ntuple                                                                        \\\nrows                                             r1                           \nidx                                               0     1     2     3     4   \nvehicle driver     timestamp                                                  \nVB7     wang-cheng 2023-06-21 13:30:11.688103  17.0  18.0  19.0  20.0  21.0   \n                   2023-06-21 14:30:11.688103  17.0  18.0  19.0  20.0  21.0   \n                   2023-06-21 15:30:11.688103  17.0  18.0  19.0  20.0  21.0   \n                   2023-06-21 16:30:11.688103  17.0  18.0  19.0  20.0  21.0   \n                   2023-06-21 17:30:11.688103  17.0  18.0  19.0  20.0  21.0   \n\ntuple                                          ...  state       \\\nrows                                           ... thrust        \nidx                                            ...      2    3   \nvehicle driver     timestamp                   ...               \nVB7     wang-cheng 2023-06-21 13:30:11.688103  ...    6.0  7.0   \n                   2023-06-21 14:30:11.688103  ...    6.0  7.0   \n                   2023-06-21 15:30:11.688103  ...    6.0  7.0   \n                   2023-06-21 16:30:11.688103  ...    6.0  7.0   \n                   2023-06-21 17:30:11.688103  ...    6.0  7.0   \n\ntuple                                                                     \\\nrows                                                            timestep   \nidx                                                                    0   \nvehicle driver     timestamp                                               \nVB7     wang-cheng 2023-06-21 13:30:11.688103 2023-06-21 12:30:11.688103   \n                   2023-06-21 14:30:11.688103 2023-06-21 12:30:11.688103   \n                   2023-06-21 15:30:11.688103 2023-06-21 12:30:11.688103   \n                   2023-06-21 16:30:11.688103 2023-06-21 12:30:11.688103   \n                   2023-06-21 17:30:11.688103 2023-06-21 12:30:11.688103   \n\ntuple                                                                     \\\nrows                                                                       \nidx                                                                    1   \nvehicle driver     timestamp                                               \nVB7     wang-cheng 2023-06-21 13:30:11.688103 2023-06-21 12:30:11.708103   \n                   2023-06-21 14:30:11.688103 2023-06-21 12:30:11.708103   \n                   2023-06-21 15:30:11.688103 2023-06-21 12:30:11.708103   \n                   2023-06-21 16:30:11.688103 2023-06-21 12:30:11.708103   \n                   2023-06-21 17:30:11.688103 2023-06-21 12:30:11.708103   \n\ntuple                                                                     \\\nrows                                                                       \nidx                                                                    2   \nvehicle driver     timestamp                                               \nVB7     wang-cheng 2023-06-21 13:30:11.688103 2023-06-21 12:30:11.728103   \n                   2023-06-21 14:30:11.688103 2023-06-21 12:30:11.728103   \n                   2023-06-21 15:30:11.688103 2023-06-21 12:30:11.728103   \n                   2023-06-21 16:30:11.688103 2023-06-21 12:30:11.728103   \n                   2023-06-21 17:30:11.688103 2023-06-21 12:30:11.728103   \n\ntuple                                                                     \\\nrows                                                                       \nidx                                                                    3   \nvehicle driver     timestamp                                               \nVB7     wang-cheng 2023-06-21 13:30:11.688103 2023-06-21 12:30:11.748103   \n                   2023-06-21 14:30:11.688103 2023-06-21 12:30:11.748103   \n                   2023-06-21 15:30:11.688103 2023-06-21 12:30:11.748103   \n                   2023-06-21 16:30:11.688103 2023-06-21 12:30:11.748103   \n                   2023-06-21 17:30:11.688103 2023-06-21 12:30:11.748103   \n\ntuple                                                                  \nrows                                          velocity                 \nidx                                                  0    1    2    3  \nvehicle driver     timestamp                                           \nVB7     wang-cheng 2023-06-21 13:30:11.688103      0.0  1.0  2.0  3.0  \n                   2023-06-21 14:30:11.688103      0.0  1.0  2.0  3.0  \n                   2023-06-21 15:30:11.688103      0.0  1.0  2.0  3.0  \n                   2023-06-21 16:30:11.688103      0.0  1.0  2.0  3.0  \n                   2023-06-21 17:30:11.688103      0.0  1.0  2.0  3.0  \n\n[5 rows x 60 columns]",
      "text/html": "<div>\n<style scoped>\n    .dataframe tbody tr th:only-of-type {\n        vertical-align: middle;\n    }\n\n    .dataframe tbody tr th {\n        vertical-align: top;\n    }\n\n    .dataframe thead tr th {\n        text-align: left;\n    }\n\n    .dataframe thead tr:last-of-type th {\n        text-align: right;\n    }\n</style>\n<table border=\"1\" class=\"dataframe\">\n  <thead>\n    <tr>\n      <th></th>\n      <th></th>\n      <th>tuple</th>\n      <th colspan=\"10\" halign=\"left\">action</th>\n      <th>...</th>\n      <th colspan=\"10\" halign=\"left\">state</th>\n    </tr>\n    <tr>\n      <th></th>\n      <th></th>\n      <th>rows</th>\n      <th colspan=\"5\" halign=\"left\">r0</th>\n      <th colspan=\"5\" halign=\"left\">r1</th>\n      <th>...</th>\n      <th colspan=\"2\" halign=\"left\">thrust</th>\n      <th colspan=\"4\" halign=\"left\">timestep</th>\n      <th colspan=\"4\" halign=\"left\">velocity</th>\n    </tr>\n    <tr>\n      <th></th>\n      <th></th>\n      <th>idx</th>\n      <th>0</th>\n      <th>1</th>\n      <th>2</th>\n      <th>3</th>\n      <th>4</th>\n      <th>0</th>\n      <th>1</th>\n      <th>2</th>\n      <th>3</th>\n      <th>4</th>\n      <th>...</th>\n      <th>2</th>\n      <th>3</th>\n      <th>0</th>\n      <th>1</th>\n      <th>2</th>\n      <th>3</th>\n      <th>0</th>\n      <th>1</th>\n      <th>2</th>\n      <th>3</th>\n    </tr>\n    <tr>\n      <th>vehicle</th>\n      <th>driver</th>\n      <th>timestamp</th>\n      <th></th>\n      <th></th>\n      <th></th>\n      <th></th>\n      <th></th>\n      <th></th>\n      <th></th>\n      <th></th>\n      <th></th>\n      <th></th>\n      <th></th>\n      <th></th>\n      <th></th>\n      <th></th>\n      <th></th>\n      <th></th>\n      <th></th>\n      <th></th>\n      <th></th>\n      <th></th>\n      <th></th>\n    </tr>\n  </thead>\n  <tbody>\n    <tr>\n      <th rowspan=\"5\" valign=\"top\">VB7</th>\n      <th rowspan=\"5\" valign=\"top\">wang-cheng</th>\n      <th>2023-06-21 13:30:11.688103</th>\n      <td>12.0</td>\n      <td>13.0</td>\n      <td>14.0</td>\n      <td>15.0</td>\n      <td>16.0</td>\n      <td>17.0</td>\n      <td>18.0</td>\n      <td>19.0</td>\n      <td>20.0</td>\n      <td>21.0</td>\n      <td>...</td>\n      <td>6.0</td>\n      <td>7.0</td>\n      <td>2023-06-21 12:30:11.688103</td>\n      <td>2023-06-21 12:30:11.708103</td>\n      <td>2023-06-21 12:30:11.728103</td>\n      <td>2023-06-21 12:30:11.748103</td>\n      <td>0.0</td>\n      <td>1.0</td>\n      <td>2.0</td>\n      <td>3.0</td>\n    </tr>\n    <tr>\n      <th>2023-06-21 14:30:11.688103</th>\n      <td>12.0</td>\n      <td>13.0</td>\n      <td>14.0</td>\n      <td>15.0</td>\n      <td>16.0</td>\n      <td>17.0</td>\n      <td>18.0</td>\n      <td>19.0</td>\n      <td>20.0</td>\n      <td>21.0</td>\n      <td>...</td>\n      <td>6.0</td>\n      <td>7.0</td>\n      <td>2023-06-21 12:30:11.688103</td>\n      <td>2023-06-21 12:30:11.708103</td>\n      <td>2023-06-21 12:30:11.728103</td>\n      <td>2023-06-21 12:30:11.748103</td>\n      <td>0.0</td>\n      <td>1.0</td>\n      <td>2.0</td>\n      <td>3.0</td>\n    </tr>\n    <tr>\n      <th>2023-06-21 15:30:11.688103</th>\n      <td>12.0</td>\n      <td>13.0</td>\n      <td>14.0</td>\n      <td>15.0</td>\n      <td>16.0</td>\n      <td>17.0</td>\n      <td>18.0</td>\n      <td>19.0</td>\n      <td>20.0</td>\n      <td>21.0</td>\n      <td>...</td>\n      <td>6.0</td>\n      <td>7.0</td>\n      <td>2023-06-21 12:30:11.688103</td>\n      <td>2023-06-21 12:30:11.708103</td>\n      <td>2023-06-21 12:30:11.728103</td>\n      <td>2023-06-21 12:30:11.748103</td>\n      <td>0.0</td>\n      <td>1.0</td>\n      <td>2.0</td>\n      <td>3.0</td>\n    </tr>\n    <tr>\n      <th>2023-06-21 16:30:11.688103</th>\n      <td>12.0</td>\n      <td>13.0</td>\n      <td>14.0</td>\n      <td>15.0</td>\n      <td>16.0</td>\n      <td>17.0</td>\n      <td>18.0</td>\n      <td>19.0</td>\n      <td>20.0</td>\n      <td>21.0</td>\n      <td>...</td>\n      <td>6.0</td>\n      <td>7.0</td>\n      <td>2023-06-21 12:30:11.688103</td>\n      <td>2023-06-21 12:30:11.708103</td>\n      <td>2023-06-21 12:30:11.728103</td>\n      <td>2023-06-21 12:30:11.748103</td>\n      <td>0.0</td>\n      <td>1.0</td>\n      <td>2.0</td>\n      <td>3.0</td>\n    </tr>\n    <tr>\n      <th>2023-06-21 17:30:11.688103</th>\n      <td>12.0</td>\n      <td>13.0</td>\n      <td>14.0</td>\n      <td>15.0</td>\n      <td>16.0</td>\n      <td>17.0</td>\n      <td>18.0</td>\n      <td>19.0</td>\n      <td>20.0</td>\n      <td>21.0</td>\n      <td>...</td>\n      <td>6.0</td>\n      <td>7.0</td>\n      <td>2023-06-21 12:30:11.688103</td>\n      <td>2023-06-21 12:30:11.708103</td>\n      <td>2023-06-21 12:30:11.728103</td>\n      <td>2023-06-21 12:30:11.748103</td>\n      <td>0.0</td>\n      <td>1.0</td>\n      <td>2.0</td>\n      <td>3.0</td>\n    </tr>\n  </tbody>\n</table>\n<p>5 rows × 60 columns</p>\n</div>"
     },
     "execution_count": 33,
     "metadata": {},
     "output_type": "execute_result"
    },
    {
     "data": {
      "text/plain": "tuple   rows      idx\naction  r0        0             float64\n                  1             float64\n                  2             float64\n                  3             float64\n                  4             float64\n        r1        0             float64\n                  1             float64\n                  2             float64\n                  3             float64\n                  4             float64\n        r2        0             float64\n                  1             float64\n                  2             float64\n                  3             float64\n                  4             float64\n        speed     0             float64\n                  1             float64\n                  2             float64\n        throttle  0             float64\n                  1             float64\n                  2             float64\n                  3             float64\n                  4             float64\n        timestep  0      datetime64[ns]\n                  1      datetime64[ns]\n                  2      datetime64[ns]\nnstate  brake     0             float64\n                  1             float64\n                  2             float64\n                  3             float64\n        thrust    0             float64\n                  1             float64\n                  2             float64\n                  3             float64\n        timestep  0      datetime64[ns]\n                  1      datetime64[ns]\n                  2      datetime64[ns]\n                  3      datetime64[ns]\n        velocity  0             float64\n                  1             float64\n                  2             float64\n                  3             float64\nreward  timestep  0      datetime64[ns]\n        work      0             float64\nstate   brake     0             float64\n                  1             float64\n                  2             float64\n                  3             float64\n        thrust    0             float64\n                  1             float64\n                  2             float64\n                  3             float64\n        timestep  0      datetime64[ns]\n                  1      datetime64[ns]\n                  2      datetime64[ns]\n                  3      datetime64[ns]\n        velocity  0             float64\n                  1             float64\n                  2             float64\n                  3             float64\ndtype: object"
     },
     "execution_count": 33,
     "metadata": {},
     "output_type": "execute_result"
    }
   ],
   "source": [
    "\n",
    "# dfs_episode.columns.set_names(\n",
    "#     [\n",
    "#         'tuple',\n",
    "#         'rows',\n",
    "#         'idx',\n",
    "#     ],\n",
    "#     level=[0, 1, 2],\n",
    "#     inplace=True,\n",
    "# )\n",
    "dfs_episode\n",
    "dfs_episode.dtypes\n"
   ],
   "metadata": {
    "collapsed": false,
    "ExecuteTime": {
     "end_time": "2023-06-21T04:30:13.027766804Z",
     "start_time": "2023-06-21T04:30:12.281899078Z"
    }
   }
  },
  {
   "cell_type": "code",
   "execution_count": 34,
   "outputs": [],
   "source": [
    "# dfs_episode['state', 'thrust'] = dfs_episode['state', 'thrust'].astype('float')\n",
    "# # dfs_episode.loc[:, idx['state', ['brake', 'thrust', 'velocity'], :]] = dfs_episode.loc[\n",
    "# #     :, idx['state', ['brake', 'thrust', 'velocity'], :]\n",
    "# # ].astype(\n",
    "# #     'float'\n",
    "# # )  # float16 not allowed in parquet\n",
    "# dfs_episode.loc[:, ('state', ['brake', 'thrust', 'velocity'])] = dfs_episode.loc[\n",
    "#     :, ('state', ['brake', 'thrust', 'velocity'])\n",
    "# ].astype(\n",
    "#     'float'\n",
    "# )  # float16 not allowed in parquet\n",
    "# dfs_episode['action', 'r0'] = dfs_episode['action', 'r0'].astype(\n",
    "#     'float'\n",
    "# )  # float16 not allowed in parquet\n",
    "#\n",
    "# dfs_episode.dtypes"
   ],
   "metadata": {
    "collapsed": false,
    "ExecuteTime": {
     "end_time": "2023-06-21T04:30:13.041113102Z",
     "start_time": "2023-06-21T04:30:12.319354692Z"
    }
   }
  },
  {
   "cell_type": "markdown",
   "source": [],
   "metadata": {
    "collapsed": false
   }
  },
  {
   "cell_type": "code",
   "execution_count": 35,
   "outputs": [],
   "source": [
    "# idx = pd.IndexSlice\n",
    "# dfs_episode.loc[:, idx['state', :, :]] = dfs_episode.loc[:, idx['state', :, :]].astype(\n",
    "#     'int'\n",
    "# )\n",
    "# dfs_episode.loc[:, idx['action', :, :]] = dfs_episode.loc[\n",
    "#     :, idx['action', :, :]\n",
    "# ].astype('float16')\n",
    "# dfs_episode.loc[:, idx['reward', :, :]] = dfs_episode.loc[\n",
    "#     :, idx['reward', :, :]\n",
    "# ].astype('float16')\n",
    "# dfs_episode.loc[:, idx['nstate', :, :]] = dfs_episode.loc[\n",
    "#     :, idx['nstate', :, :]\n",
    "# ].astype('float16')\n",
    "#\n",
    "# vel_1 = dfs_episode[[('state', 'velocity', 1)]]\n",
    "# vel_1.dtypes\n",
    "# vel_1.index\n",
    "# vel_1.values\n",
    "# # type(vel_1)\n",
    "# vel_1.iloc[0]\n",
    "# type(vel_1.iloc[0])\n",
    "# type(vel_1.iloc[0].values[0])"
   ],
   "metadata": {
    "collapsed": false,
    "ExecuteTime": {
     "end_time": "2023-06-21T04:30:13.054091530Z",
     "start_time": "2023-06-21T04:30:12.319694061Z"
    }
   }
  },
  {
   "cell_type": "markdown",
   "source": [
    "## Add a level of index for episode"
   ],
   "metadata": {
    "collapsed": false
   }
  },
  {
   "cell_type": "code",
   "execution_count": 36,
   "outputs": [
    {
     "data": {
      "text/plain": "MultiIndex([('VB7', 'wang-cheng', '2023-06-21 12:30:11.688103', ...),\n            ('VB7', 'wang-cheng', '2023-06-21 12:30:11.688103', ...),\n            ('VB7', 'wang-cheng', '2023-06-21 12:30:11.688103', ...),\n            ('VB7', 'wang-cheng', '2023-06-21 12:30:11.688103', ...),\n            ('VB7', 'wang-cheng', '2023-06-21 12:30:11.688103', ...)],\n           names=['vehicle', 'driver', 'episodestart', 'timestamp'])"
     },
     "execution_count": 36,
     "metadata": {},
     "output_type": "execute_result"
    },
    {
     "data": {
      "text/plain": "MultiIndex([('action',       'r0', 0),\n            ('action',       'r0', 1),\n            ('action',       'r0', 2),\n            ('action',       'r0', 3),\n            ('action',       'r0', 4),\n            ('action',       'r1', 0),\n            ('action',       'r1', 1),\n            ('action',       'r1', 2),\n            ('action',       'r1', 3),\n            ('action',       'r1', 4),\n            ('action',       'r2', 0),\n            ('action',       'r2', 1),\n            ('action',       'r2', 2),\n            ('action',       'r2', 3),\n            ('action',       'r2', 4),\n            ('action',    'speed', 0),\n            ('action',    'speed', 1),\n            ('action',    'speed', 2),\n            ('action', 'throttle', 0),\n            ('action', 'throttle', 1),\n            ('action', 'throttle', 2),\n            ('action', 'throttle', 3),\n            ('action', 'throttle', 4),\n            ('action', 'timestep', 0),\n            ('action', 'timestep', 1),\n            ('action', 'timestep', 2),\n            ('nstate',    'brake', 0),\n            ('nstate',    'brake', 1),\n            ('nstate',    'brake', 2),\n            ('nstate',    'brake', 3),\n            ('nstate',   'thrust', 0),\n            ('nstate',   'thrust', 1),\n            ('nstate',   'thrust', 2),\n            ('nstate',   'thrust', 3),\n            ('nstate', 'timestep', 0),\n            ('nstate', 'timestep', 1),\n            ('nstate', 'timestep', 2),\n            ('nstate', 'timestep', 3),\n            ('nstate', 'velocity', 0),\n            ('nstate', 'velocity', 1),\n            ('nstate', 'velocity', 2),\n            ('nstate', 'velocity', 3),\n            ('reward', 'timestep', 0),\n            ('reward',     'work', 0),\n            ( 'state',    'brake', 0),\n            ( 'state',    'brake', 1),\n            ( 'state',    'brake', 2),\n            ( 'state',    'brake', 3),\n            ( 'state',   'thrust', 0),\n            ( 'state',   'thrust', 1),\n            ( 'state',   'thrust', 2),\n            ( 'state',   'thrust', 3),\n            ( 'state', 'timestep', 0),\n            ( 'state', 'timestep', 1),\n            ( 'state', 'timestep', 2),\n            ( 'state', 'timestep', 3),\n            ( 'state', 'velocity', 0),\n            ( 'state', 'velocity', 1),\n            ( 'state', 'velocity', 2),\n            ( 'state', 'velocity', 3)],\n           names=['tuple', 'rows', 'idx'])"
     },
     "execution_count": 36,
     "metadata": {},
     "output_type": "execute_result"
    },
    {
     "data": {
      "text/plain": "tuple                                                                    action  \\\nrows                                                                         r0   \nidx                                                                           0   \nvehicle driver     episodestart               timestamp                           \nVB7     wang-cheng 2023-06-21 12:30:11.688103 2023-06-21 13:30:11.688103   12.0   \n                                              2023-06-21 14:30:11.688103   12.0   \n                                              2023-06-21 15:30:11.688103   12.0   \n                                              2023-06-21 16:30:11.688103   12.0   \n                                              2023-06-21 17:30:11.688103   12.0   \n\ntuple                                                                           \\\nrows                                                                             \nidx                                                                          1   \nvehicle driver     episodestart               timestamp                          \nVB7     wang-cheng 2023-06-21 12:30:11.688103 2023-06-21 13:30:11.688103  13.0   \n                                              2023-06-21 14:30:11.688103  13.0   \n                                              2023-06-21 15:30:11.688103  13.0   \n                                              2023-06-21 16:30:11.688103  13.0   \n                                              2023-06-21 17:30:11.688103  13.0   \n\ntuple                                                                           \\\nrows                                                                             \nidx                                                                          2   \nvehicle driver     episodestart               timestamp                          \nVB7     wang-cheng 2023-06-21 12:30:11.688103 2023-06-21 13:30:11.688103  14.0   \n                                              2023-06-21 14:30:11.688103  14.0   \n                                              2023-06-21 15:30:11.688103  14.0   \n                                              2023-06-21 16:30:11.688103  14.0   \n                                              2023-06-21 17:30:11.688103  14.0   \n\ntuple                                                                           \\\nrows                                                                             \nidx                                                                          3   \nvehicle driver     episodestart               timestamp                          \nVB7     wang-cheng 2023-06-21 12:30:11.688103 2023-06-21 13:30:11.688103  15.0   \n                                              2023-06-21 14:30:11.688103  15.0   \n                                              2023-06-21 15:30:11.688103  15.0   \n                                              2023-06-21 16:30:11.688103  15.0   \n                                              2023-06-21 17:30:11.688103  15.0   \n\ntuple                                                                           \\\nrows                                                                             \nidx                                                                          4   \nvehicle driver     episodestart               timestamp                          \nVB7     wang-cheng 2023-06-21 12:30:11.688103 2023-06-21 13:30:11.688103  16.0   \n                                              2023-06-21 14:30:11.688103  16.0   \n                                              2023-06-21 15:30:11.688103  16.0   \n                                              2023-06-21 16:30:11.688103  16.0   \n                                              2023-06-21 17:30:11.688103  16.0   \n\ntuple                                                                           \\\nrows                                                                        r1   \nidx                                                                          0   \nvehicle driver     episodestart               timestamp                          \nVB7     wang-cheng 2023-06-21 12:30:11.688103 2023-06-21 13:30:11.688103  17.0   \n                                              2023-06-21 14:30:11.688103  17.0   \n                                              2023-06-21 15:30:11.688103  17.0   \n                                              2023-06-21 16:30:11.688103  17.0   \n                                              2023-06-21 17:30:11.688103  17.0   \n\ntuple                                                                           \\\nrows                                                                             \nidx                                                                          1   \nvehicle driver     episodestart               timestamp                          \nVB7     wang-cheng 2023-06-21 12:30:11.688103 2023-06-21 13:30:11.688103  18.0   \n                                              2023-06-21 14:30:11.688103  18.0   \n                                              2023-06-21 15:30:11.688103  18.0   \n                                              2023-06-21 16:30:11.688103  18.0   \n                                              2023-06-21 17:30:11.688103  18.0   \n\ntuple                                                                           \\\nrows                                                                             \nidx                                                                          2   \nvehicle driver     episodestart               timestamp                          \nVB7     wang-cheng 2023-06-21 12:30:11.688103 2023-06-21 13:30:11.688103  19.0   \n                                              2023-06-21 14:30:11.688103  19.0   \n                                              2023-06-21 15:30:11.688103  19.0   \n                                              2023-06-21 16:30:11.688103  19.0   \n                                              2023-06-21 17:30:11.688103  19.0   \n\ntuple                                                                           \\\nrows                                                                             \nidx                                                                          3   \nvehicle driver     episodestart               timestamp                          \nVB7     wang-cheng 2023-06-21 12:30:11.688103 2023-06-21 13:30:11.688103  20.0   \n                                              2023-06-21 14:30:11.688103  20.0   \n                                              2023-06-21 15:30:11.688103  20.0   \n                                              2023-06-21 16:30:11.688103  20.0   \n                                              2023-06-21 17:30:11.688103  20.0   \n\ntuple                                                                           \\\nrows                                                                             \nidx                                                                          4   \nvehicle driver     episodestart               timestamp                          \nVB7     wang-cheng 2023-06-21 12:30:11.688103 2023-06-21 13:30:11.688103  21.0   \n                                              2023-06-21 14:30:11.688103  21.0   \n                                              2023-06-21 15:30:11.688103  21.0   \n                                              2023-06-21 16:30:11.688103  21.0   \n                                              2023-06-21 17:30:11.688103  21.0   \n\ntuple                                                                     ...  \\\nrows                                                                      ...   \nidx                                                                       ...   \nvehicle driver     episodestart               timestamp                   ...   \nVB7     wang-cheng 2023-06-21 12:30:11.688103 2023-06-21 13:30:11.688103  ...   \n                                              2023-06-21 14:30:11.688103  ...   \n                                              2023-06-21 15:30:11.688103  ...   \n                                              2023-06-21 16:30:11.688103  ...   \n                                              2023-06-21 17:30:11.688103  ...   \n\ntuple                                                                     state  \\\nrows                                                                     thrust   \nidx                                                                           2   \nvehicle driver     episodestart               timestamp                           \nVB7     wang-cheng 2023-06-21 12:30:11.688103 2023-06-21 13:30:11.688103    6.0   \n                                              2023-06-21 14:30:11.688103    6.0   \n                                              2023-06-21 15:30:11.688103    6.0   \n                                              2023-06-21 16:30:11.688103    6.0   \n                                              2023-06-21 17:30:11.688103    6.0   \n\ntuple                                                                          \\\nrows                                                                            \nidx                                                                         3   \nvehicle driver     episodestart               timestamp                         \nVB7     wang-cheng 2023-06-21 12:30:11.688103 2023-06-21 13:30:11.688103  7.0   \n                                              2023-06-21 14:30:11.688103  7.0   \n                                              2023-06-21 15:30:11.688103  7.0   \n                                              2023-06-21 16:30:11.688103  7.0   \n                                              2023-06-21 17:30:11.688103  7.0   \n\ntuple                                                                                                \\\nrows                                                                                       timestep   \nidx                                                                                               0   \nvehicle driver     episodestart               timestamp                                               \nVB7     wang-cheng 2023-06-21 12:30:11.688103 2023-06-21 13:30:11.688103 2023-06-21 12:30:11.688103   \n                                              2023-06-21 14:30:11.688103 2023-06-21 12:30:11.688103   \n                                              2023-06-21 15:30:11.688103 2023-06-21 12:30:11.688103   \n                                              2023-06-21 16:30:11.688103 2023-06-21 12:30:11.688103   \n                                              2023-06-21 17:30:11.688103 2023-06-21 12:30:11.688103   \n\ntuple                                                                                                \\\nrows                                                                                                  \nidx                                                                                               1   \nvehicle driver     episodestart               timestamp                                               \nVB7     wang-cheng 2023-06-21 12:30:11.688103 2023-06-21 13:30:11.688103 2023-06-21 12:30:11.708103   \n                                              2023-06-21 14:30:11.688103 2023-06-21 12:30:11.708103   \n                                              2023-06-21 15:30:11.688103 2023-06-21 12:30:11.708103   \n                                              2023-06-21 16:30:11.688103 2023-06-21 12:30:11.708103   \n                                              2023-06-21 17:30:11.688103 2023-06-21 12:30:11.708103   \n\ntuple                                                                                                \\\nrows                                                                                                  \nidx                                                                                               2   \nvehicle driver     episodestart               timestamp                                               \nVB7     wang-cheng 2023-06-21 12:30:11.688103 2023-06-21 13:30:11.688103 2023-06-21 12:30:11.728103   \n                                              2023-06-21 14:30:11.688103 2023-06-21 12:30:11.728103   \n                                              2023-06-21 15:30:11.688103 2023-06-21 12:30:11.728103   \n                                              2023-06-21 16:30:11.688103 2023-06-21 12:30:11.728103   \n                                              2023-06-21 17:30:11.688103 2023-06-21 12:30:11.728103   \n\ntuple                                                                                                \\\nrows                                                                                                  \nidx                                                                                               3   \nvehicle driver     episodestart               timestamp                                               \nVB7     wang-cheng 2023-06-21 12:30:11.688103 2023-06-21 13:30:11.688103 2023-06-21 12:30:11.748103   \n                                              2023-06-21 14:30:11.688103 2023-06-21 12:30:11.748103   \n                                              2023-06-21 15:30:11.688103 2023-06-21 12:30:11.748103   \n                                              2023-06-21 16:30:11.688103 2023-06-21 12:30:11.748103   \n                                              2023-06-21 17:30:11.688103 2023-06-21 12:30:11.748103   \n\ntuple                                                                              \\\nrows                                                                     velocity   \nidx                                                                             0   \nvehicle driver     episodestart               timestamp                             \nVB7     wang-cheng 2023-06-21 12:30:11.688103 2023-06-21 13:30:11.688103      0.0   \n                                              2023-06-21 14:30:11.688103      0.0   \n                                              2023-06-21 15:30:11.688103      0.0   \n                                              2023-06-21 16:30:11.688103      0.0   \n                                              2023-06-21 17:30:11.688103      0.0   \n\ntuple                                                                          \\\nrows                                                                            \nidx                                                                         1   \nvehicle driver     episodestart               timestamp                         \nVB7     wang-cheng 2023-06-21 12:30:11.688103 2023-06-21 13:30:11.688103  1.0   \n                                              2023-06-21 14:30:11.688103  1.0   \n                                              2023-06-21 15:30:11.688103  1.0   \n                                              2023-06-21 16:30:11.688103  1.0   \n                                              2023-06-21 17:30:11.688103  1.0   \n\ntuple                                                                          \\\nrows                                                                            \nidx                                                                         2   \nvehicle driver     episodestart               timestamp                         \nVB7     wang-cheng 2023-06-21 12:30:11.688103 2023-06-21 13:30:11.688103  2.0   \n                                              2023-06-21 14:30:11.688103  2.0   \n                                              2023-06-21 15:30:11.688103  2.0   \n                                              2023-06-21 16:30:11.688103  2.0   \n                                              2023-06-21 17:30:11.688103  2.0   \n\ntuple                                                                          \nrows                                                                           \nidx                                                                         3  \nvehicle driver     episodestart               timestamp                        \nVB7     wang-cheng 2023-06-21 12:30:11.688103 2023-06-21 13:30:11.688103  3.0  \n                                              2023-06-21 14:30:11.688103  3.0  \n                                              2023-06-21 15:30:11.688103  3.0  \n                                              2023-06-21 16:30:11.688103  3.0  \n                                              2023-06-21 17:30:11.688103  3.0  \n\n[5 rows x 60 columns]",
      "text/html": "<div>\n<style scoped>\n    .dataframe tbody tr th:only-of-type {\n        vertical-align: middle;\n    }\n\n    .dataframe tbody tr th {\n        vertical-align: top;\n    }\n\n    .dataframe thead tr th {\n        text-align: left;\n    }\n\n    .dataframe thead tr:last-of-type th {\n        text-align: right;\n    }\n</style>\n<table border=\"1\" class=\"dataframe\">\n  <thead>\n    <tr>\n      <th></th>\n      <th></th>\n      <th></th>\n      <th>tuple</th>\n      <th colspan=\"10\" halign=\"left\">action</th>\n      <th>...</th>\n      <th colspan=\"10\" halign=\"left\">state</th>\n    </tr>\n    <tr>\n      <th></th>\n      <th></th>\n      <th></th>\n      <th>rows</th>\n      <th colspan=\"5\" halign=\"left\">r0</th>\n      <th colspan=\"5\" halign=\"left\">r1</th>\n      <th>...</th>\n      <th colspan=\"2\" halign=\"left\">thrust</th>\n      <th colspan=\"4\" halign=\"left\">timestep</th>\n      <th colspan=\"4\" halign=\"left\">velocity</th>\n    </tr>\n    <tr>\n      <th></th>\n      <th></th>\n      <th></th>\n      <th>idx</th>\n      <th>0</th>\n      <th>1</th>\n      <th>2</th>\n      <th>3</th>\n      <th>4</th>\n      <th>0</th>\n      <th>1</th>\n      <th>2</th>\n      <th>3</th>\n      <th>4</th>\n      <th>...</th>\n      <th>2</th>\n      <th>3</th>\n      <th>0</th>\n      <th>1</th>\n      <th>2</th>\n      <th>3</th>\n      <th>0</th>\n      <th>1</th>\n      <th>2</th>\n      <th>3</th>\n    </tr>\n    <tr>\n      <th>vehicle</th>\n      <th>driver</th>\n      <th>episodestart</th>\n      <th>timestamp</th>\n      <th></th>\n      <th></th>\n      <th></th>\n      <th></th>\n      <th></th>\n      <th></th>\n      <th></th>\n      <th></th>\n      <th></th>\n      <th></th>\n      <th></th>\n      <th></th>\n      <th></th>\n      <th></th>\n      <th></th>\n      <th></th>\n      <th></th>\n      <th></th>\n      <th></th>\n      <th></th>\n      <th></th>\n    </tr>\n  </thead>\n  <tbody>\n    <tr>\n      <th rowspan=\"5\" valign=\"top\">VB7</th>\n      <th rowspan=\"5\" valign=\"top\">wang-cheng</th>\n      <th rowspan=\"5\" valign=\"top\">2023-06-21 12:30:11.688103</th>\n      <th>2023-06-21 13:30:11.688103</th>\n      <td>12.0</td>\n      <td>13.0</td>\n      <td>14.0</td>\n      <td>15.0</td>\n      <td>16.0</td>\n      <td>17.0</td>\n      <td>18.0</td>\n      <td>19.0</td>\n      <td>20.0</td>\n      <td>21.0</td>\n      <td>...</td>\n      <td>6.0</td>\n      <td>7.0</td>\n      <td>2023-06-21 12:30:11.688103</td>\n      <td>2023-06-21 12:30:11.708103</td>\n      <td>2023-06-21 12:30:11.728103</td>\n      <td>2023-06-21 12:30:11.748103</td>\n      <td>0.0</td>\n      <td>1.0</td>\n      <td>2.0</td>\n      <td>3.0</td>\n    </tr>\n    <tr>\n      <th>2023-06-21 14:30:11.688103</th>\n      <td>12.0</td>\n      <td>13.0</td>\n      <td>14.0</td>\n      <td>15.0</td>\n      <td>16.0</td>\n      <td>17.0</td>\n      <td>18.0</td>\n      <td>19.0</td>\n      <td>20.0</td>\n      <td>21.0</td>\n      <td>...</td>\n      <td>6.0</td>\n      <td>7.0</td>\n      <td>2023-06-21 12:30:11.688103</td>\n      <td>2023-06-21 12:30:11.708103</td>\n      <td>2023-06-21 12:30:11.728103</td>\n      <td>2023-06-21 12:30:11.748103</td>\n      <td>0.0</td>\n      <td>1.0</td>\n      <td>2.0</td>\n      <td>3.0</td>\n    </tr>\n    <tr>\n      <th>2023-06-21 15:30:11.688103</th>\n      <td>12.0</td>\n      <td>13.0</td>\n      <td>14.0</td>\n      <td>15.0</td>\n      <td>16.0</td>\n      <td>17.0</td>\n      <td>18.0</td>\n      <td>19.0</td>\n      <td>20.0</td>\n      <td>21.0</td>\n      <td>...</td>\n      <td>6.0</td>\n      <td>7.0</td>\n      <td>2023-06-21 12:30:11.688103</td>\n      <td>2023-06-21 12:30:11.708103</td>\n      <td>2023-06-21 12:30:11.728103</td>\n      <td>2023-06-21 12:30:11.748103</td>\n      <td>0.0</td>\n      <td>1.0</td>\n      <td>2.0</td>\n      <td>3.0</td>\n    </tr>\n    <tr>\n      <th>2023-06-21 16:30:11.688103</th>\n      <td>12.0</td>\n      <td>13.0</td>\n      <td>14.0</td>\n      <td>15.0</td>\n      <td>16.0</td>\n      <td>17.0</td>\n      <td>18.0</td>\n      <td>19.0</td>\n      <td>20.0</td>\n      <td>21.0</td>\n      <td>...</td>\n      <td>6.0</td>\n      <td>7.0</td>\n      <td>2023-06-21 12:30:11.688103</td>\n      <td>2023-06-21 12:30:11.708103</td>\n      <td>2023-06-21 12:30:11.728103</td>\n      <td>2023-06-21 12:30:11.748103</td>\n      <td>0.0</td>\n      <td>1.0</td>\n      <td>2.0</td>\n      <td>3.0</td>\n    </tr>\n    <tr>\n      <th>2023-06-21 17:30:11.688103</th>\n      <td>12.0</td>\n      <td>13.0</td>\n      <td>14.0</td>\n      <td>15.0</td>\n      <td>16.0</td>\n      <td>17.0</td>\n      <td>18.0</td>\n      <td>19.0</td>\n      <td>20.0</td>\n      <td>21.0</td>\n      <td>...</td>\n      <td>6.0</td>\n      <td>7.0</td>\n      <td>2023-06-21 12:30:11.688103</td>\n      <td>2023-06-21 12:30:11.708103</td>\n      <td>2023-06-21 12:30:11.728103</td>\n      <td>2023-06-21 12:30:11.748103</td>\n      <td>0.0</td>\n      <td>1.0</td>\n      <td>2.0</td>\n      <td>3.0</td>\n    </tr>\n  </tbody>\n</table>\n<p>5 rows × 60 columns</p>\n</div>"
     },
     "execution_count": 36,
     "metadata": {},
     "output_type": "execute_result"
    }
   ],
   "source": [
    "episodestart = ts - pd.Timedelta(1, 'h')\n",
    "dfs_episode = pd.concat([dfs_episode], keys=[ts], names=['episodestart'])\n",
    "dfs_episode = dfs_episode.swaplevel(1, 0, axis=0)\n",
    "dfs_episode = dfs_episode.swaplevel(1, 2, axis=0)\n",
    "dfs_episode.sort_index(inplace=True)\n",
    "dfs_episode.index\n",
    "dfs_episode.columns\n",
    "dfs_episode"
   ],
   "metadata": {
    "collapsed": false,
    "ExecuteTime": {
     "end_time": "2023-06-21T04:30:13.060029349Z",
     "start_time": "2023-06-21T04:30:12.319852559Z"
    }
   }
  },
  {
   "cell_type": "code",
   "execution_count": 37,
   "outputs": [
    {
     "data": {
      "text/plain": "tuple   rows      idx\naction  r0        0             float64\n                  1             float64\n                  2             float64\n                  3             float64\n                  4             float64\n        r1        0             float64\n                  1             float64\n                  2             float64\n                  3             float64\n                  4             float64\n        r2        0             float64\n                  1             float64\n                  2             float64\n                  3             float64\n                  4             float64\n        speed     0             float64\n                  1             float64\n                  2             float64\n        throttle  0             float64\n                  1             float64\n                  2             float64\n                  3             float64\n                  4             float64\n        timestep  0      datetime64[ns]\n                  1      datetime64[ns]\n                  2      datetime64[ns]\nnstate  brake     0             float64\n                  1             float64\n                  2             float64\n                  3             float64\n        thrust    0             float64\n                  1             float64\n                  2             float64\n                  3             float64\n        timestep  0      datetime64[ns]\n                  1      datetime64[ns]\n                  2      datetime64[ns]\n                  3      datetime64[ns]\n        velocity  0             float64\n                  1             float64\n                  2             float64\n                  3             float64\nreward  timestep  0      datetime64[ns]\n        work      0             float64\nstate   brake     0             float64\n                  1             float64\n                  2             float64\n                  3             float64\n        thrust    0             float64\n                  1             float64\n                  2             float64\n                  3             float64\n        timestep  0      datetime64[ns]\n                  1      datetime64[ns]\n                  2      datetime64[ns]\n                  3      datetime64[ns]\n        velocity  0             float64\n                  1             float64\n                  2             float64\n                  3             float64\ndtype: object"
     },
     "execution_count": 37,
     "metadata": {},
     "output_type": "execute_result"
    }
   ],
   "source": [
    "dfs_episode.dtypes"
   ],
   "metadata": {
    "collapsed": false,
    "ExecuteTime": {
     "end_time": "2023-06-21T04:30:13.068542397Z",
     "start_time": "2023-06-21T04:30:12.350623045Z"
    }
   }
  },
  {
   "cell_type": "code",
   "execution_count": 38,
   "outputs": [],
   "source": [
    "vb7 = trucks_by_id['VB7']"
   ],
   "metadata": {
    "collapsed": false,
    "ExecuteTime": {
     "end_time": "2023-06-21T04:30:13.080514519Z",
     "start_time": "2023-06-21T04:30:12.351185904Z"
    }
   }
  },
  {
   "cell_type": "markdown",
   "source": [
    "### Decoding MultiIndexed DataFrame to MongoDB dict"
   ],
   "metadata": {
    "collapsed": false
   }
  },
  {
   "cell_type": "code",
   "execution_count": 39,
   "outputs": [],
   "source": [
    "from eos.data_io.struct import ObservationMeta, StateSpecs, StateUnitCodes, ActionSpecs\n",
    "\n",
    "meta = ObservationMeta(\n",
    "    state_specs=StateSpecs(\n",
    "        state_unit_codes=StateUnitCodes(\n",
    "            velocity_unit_code='kph',\n",
    "            thrust_unit_code='pct',\n",
    "            brake_unit_code='pct',\n",
    "        ),\n",
    "        unit_number=trucks_by_id['VB7'].cloud_unit_number,  # 4\n",
    "        unit_duration=trucks_by_id['VB7'].cloud_unit_duration,  # 1s\n",
    "        frequency=trucks_by_id['VB7'].cloud_signal_frequency,  # 50 hz\n",
    "    ),\n",
    "    action_specs=ActionSpecs(\n",
    "        action_unit_code='nm',\n",
    "        action_row_number=trucks_by_id['VB7'].action_flashrow,\n",
    "        action_column_number=len(trucks_by_id['VB7'].pedal_scale),\n",
    "    ),\n",
    "    reward_specs={\n",
    "        'reward_unit': 'wh',\n",
    "    },\n",
    "    site=trucks_by_id['VB7'].site,\n",
    ")"
   ],
   "metadata": {
    "collapsed": false,
    "ExecuteTime": {
     "end_time": "2023-06-21T04:30:13.081119738Z",
     "start_time": "2023-06-21T04:30:12.366340258Z"
    }
   }
  },
  {
   "cell_type": "code",
   "execution_count": 40,
   "outputs": [],
   "source": [
    "# dfs_episode\n",
    "#\n",
    "# records = dfs_episode.to_dict('records')\n",
    "# # records\n",
    "# record_nested = [[{key: value} for key, value in record.items()] for record in records]\n",
    "# record_nested\n",
    "# ser = dfs_episode.to_dict('split')\n",
    "# ser"
   ],
   "metadata": {
    "collapsed": false,
    "ExecuteTime": {
     "end_time": "2023-06-21T04:30:13.081254392Z",
     "start_time": "2023-06-21T04:30:12.366913127Z"
    }
   }
  },
  {
   "cell_type": "markdown",
   "source": [],
   "metadata": {
    "collapsed": false
   }
  },
  {
   "cell_type": "code",
   "execution_count": 197,
   "outputs": [
    {
     "data": {
      "text/plain": "{('VB7',\n  'wang-cheng',\n  Timestamp('2023-06-21 12:30:11.688103'),\n  Timestamp('2023-06-21 13:30:11.688103')): {'action': {'r0': {0: 12.0,\n    1: 13.0,\n    2: 14.0,\n    3: 15.0,\n    4: 16.0},\n   'r1': {0: 17.0, 1: 18.0, 2: 19.0, 3: 20.0, 4: 21.0},\n   'r2': {0: 22.0, 1: 23.0, 2: 24.0, 3: 25.0, 4: 26.0},\n   'speed': {0: 40.0, 1: 50.0, 2: 60.0},\n   'throttle': {0: 0.0, 1: 0.25, 2: 0.5, 3: 0.75, 4: 1.0},\n   'timestep': {0: Timestamp('2023-06-21 12:30:11.788103'),\n    1: Timestamp('2023-06-21 12:30:11.808103'),\n    2: Timestamp('2023-06-21 12:30:11.828103')}},\n  'nstate': {'brake': {0: 37.0, 1: 38.0, 2: 39.0, 3: 40.0},\n   'thrust': {0: 33.0, 1: 34.0, 2: 35.0, 3: 36.0},\n   'timestep': {0: Timestamp('2023-06-21 12:30:16.688103'),\n    1: Timestamp('2023-06-21 12:30:16.708103'),\n    2: Timestamp('2023-06-21 12:30:16.728103'),\n    3: Timestamp('2023-06-21 12:30:16.748103')},\n   'velocity': {0: 29.0, 1: 30.0, 2: 31.0, 3: 32.0}},\n  'reward': {'timestep': {0: Timestamp('2023-06-21 12:30:11.788103')},\n   'work': {0: 27.0}},\n  'state': {'brake': {0: 8.0, 1: 9.0, 2: 10.0, 3: 11.0},\n   'thrust': {0: 4.0, 1: 5.0, 2: 6.0, 3: 7.0},\n   'timestep': {0: Timestamp('2023-06-21 12:30:11.688103'),\n    1: Timestamp('2023-06-21 12:30:11.708103'),\n    2: Timestamp('2023-06-21 12:30:11.728103'),\n    3: Timestamp('2023-06-21 12:30:11.748103')},\n   'velocity': {0: 0.0, 1: 1.0, 2: 2.0, 3: 3.0}}},\n ('VB7',\n  'wang-cheng',\n  Timestamp('2023-06-21 12:30:11.688103'),\n  Timestamp('2023-06-21 14:30:11.688103')): {'action': {'r0': {0: 12.0,\n    1: 13.0,\n    2: 14.0,\n    3: 15.0,\n    4: 16.0},\n   'r1': {0: 17.0, 1: 18.0, 2: 19.0, 3: 20.0, 4: 21.0},\n   'r2': {0: 22.0, 1: 23.0, 2: 24.0, 3: 25.0, 4: 26.0},\n   'speed': {0: 40.0, 1: 50.0, 2: 60.0},\n   'throttle': {0: 0.0, 1: 0.25, 2: 0.5, 3: 0.75, 4: 1.0},\n   'timestep': {0: Timestamp('2023-06-21 12:30:11.788103'),\n    1: Timestamp('2023-06-21 12:30:11.808103'),\n    2: Timestamp('2023-06-21 12:30:11.828103')}},\n  'nstate': {'brake': {0: 37.0, 1: 38.0, 2: 39.0, 3: 40.0},\n   'thrust': {0: 33.0, 1: 34.0, 2: 35.0, 3: 36.0},\n   'timestep': {0: Timestamp('2023-06-21 12:30:16.688103'),\n    1: Timestamp('2023-06-21 12:30:16.708103'),\n    2: Timestamp('2023-06-21 12:30:16.728103'),\n    3: Timestamp('2023-06-21 12:30:16.748103')},\n   'velocity': {0: 29.0, 1: 30.0, 2: 31.0, 3: 32.0}},\n  'reward': {'timestep': {0: Timestamp('2023-06-21 12:30:11.788103')},\n   'work': {0: 27.0}},\n  'state': {'brake': {0: 8.0, 1: 9.0, 2: 10.0, 3: 11.0},\n   'thrust': {0: 4.0, 1: 5.0, 2: 6.0, 3: 7.0},\n   'timestep': {0: Timestamp('2023-06-21 12:30:11.688103'),\n    1: Timestamp('2023-06-21 12:30:11.708103'),\n    2: Timestamp('2023-06-21 12:30:11.728103'),\n    3: Timestamp('2023-06-21 12:30:11.748103')},\n   'velocity': {0: 0.0, 1: 1.0, 2: 2.0, 3: 3.0}}},\n ('VB7',\n  'wang-cheng',\n  Timestamp('2023-06-21 12:30:11.688103'),\n  Timestamp('2023-06-21 15:30:11.688103')): {'action': {'r0': {0: 12.0,\n    1: 13.0,\n    2: 14.0,\n    3: 15.0,\n    4: 16.0},\n   'r1': {0: 17.0, 1: 18.0, 2: 19.0, 3: 20.0, 4: 21.0},\n   'r2': {0: 22.0, 1: 23.0, 2: 24.0, 3: 25.0, 4: 26.0},\n   'speed': {0: 40.0, 1: 50.0, 2: 60.0},\n   'throttle': {0: 0.0, 1: 0.25, 2: 0.5, 3: 0.75, 4: 1.0},\n   'timestep': {0: Timestamp('2023-06-21 12:30:11.788103'),\n    1: Timestamp('2023-06-21 12:30:11.808103'),\n    2: Timestamp('2023-06-21 12:30:11.828103')}},\n  'nstate': {'brake': {0: 37.0, 1: 38.0, 2: 39.0, 3: 40.0},\n   'thrust': {0: 33.0, 1: 34.0, 2: 35.0, 3: 36.0},\n   'timestep': {0: Timestamp('2023-06-21 12:30:16.688103'),\n    1: Timestamp('2023-06-21 12:30:16.708103'),\n    2: Timestamp('2023-06-21 12:30:16.728103'),\n    3: Timestamp('2023-06-21 12:30:16.748103')},\n   'velocity': {0: 29.0, 1: 30.0, 2: 31.0, 3: 32.0}},\n  'reward': {'timestep': {0: Timestamp('2023-06-21 12:30:11.788103')},\n   'work': {0: 27.0}},\n  'state': {'brake': {0: 8.0, 1: 9.0, 2: 10.0, 3: 11.0},\n   'thrust': {0: 4.0, 1: 5.0, 2: 6.0, 3: 7.0},\n   'timestep': {0: Timestamp('2023-06-21 12:30:11.688103'),\n    1: Timestamp('2023-06-21 12:30:11.708103'),\n    2: Timestamp('2023-06-21 12:30:11.728103'),\n    3: Timestamp('2023-06-21 12:30:11.748103')},\n   'velocity': {0: 0.0, 1: 1.0, 2: 2.0, 3: 3.0}}},\n ('VB7',\n  'wang-cheng',\n  Timestamp('2023-06-21 12:30:11.688103'),\n  Timestamp('2023-06-21 16:30:11.688103')): {'action': {'r0': {0: 12.0,\n    1: 13.0,\n    2: 14.0,\n    3: 15.0,\n    4: 16.0},\n   'r1': {0: 17.0, 1: 18.0, 2: 19.0, 3: 20.0, 4: 21.0},\n   'r2': {0: 22.0, 1: 23.0, 2: 24.0, 3: 25.0, 4: 26.0},\n   'speed': {0: 40.0, 1: 50.0, 2: 60.0},\n   'throttle': {0: 0.0, 1: 0.25, 2: 0.5, 3: 0.75, 4: 1.0},\n   'timestep': {0: Timestamp('2023-06-21 12:30:11.788103'),\n    1: Timestamp('2023-06-21 12:30:11.808103'),\n    2: Timestamp('2023-06-21 12:30:11.828103')}},\n  'nstate': {'brake': {0: 37.0, 1: 38.0, 2: 39.0, 3: 40.0},\n   'thrust': {0: 33.0, 1: 34.0, 2: 35.0, 3: 36.0},\n   'timestep': {0: Timestamp('2023-06-21 12:30:16.688103'),\n    1: Timestamp('2023-06-21 12:30:16.708103'),\n    2: Timestamp('2023-06-21 12:30:16.728103'),\n    3: Timestamp('2023-06-21 12:30:16.748103')},\n   'velocity': {0: 29.0, 1: 30.0, 2: 31.0, 3: 32.0}},\n  'reward': {'timestep': {0: Timestamp('2023-06-21 12:30:11.788103')},\n   'work': {0: 27.0}},\n  'state': {'brake': {0: 8.0, 1: 9.0, 2: 10.0, 3: 11.0},\n   'thrust': {0: 4.0, 1: 5.0, 2: 6.0, 3: 7.0},\n   'timestep': {0: Timestamp('2023-06-21 12:30:11.688103'),\n    1: Timestamp('2023-06-21 12:30:11.708103'),\n    2: Timestamp('2023-06-21 12:30:11.728103'),\n    3: Timestamp('2023-06-21 12:30:11.748103')},\n   'velocity': {0: 0.0, 1: 1.0, 2: 2.0, 3: 3.0}}},\n ('VB7',\n  'wang-cheng',\n  Timestamp('2023-06-21 12:30:11.688103'),\n  Timestamp('2023-06-21 17:30:11.688103')): {'action': {'r0': {0: 12.0,\n    1: 13.0,\n    2: 14.0,\n    3: 15.0,\n    4: 16.0},\n   'r1': {0: 17.0, 1: 18.0, 2: 19.0, 3: 20.0, 4: 21.0},\n   'r2': {0: 22.0, 1: 23.0, 2: 24.0, 3: 25.0, 4: 26.0},\n   'speed': {0: 40.0, 1: 50.0, 2: 60.0},\n   'throttle': {0: 0.0, 1: 0.25, 2: 0.5, 3: 0.75, 4: 1.0},\n   'timestep': {0: Timestamp('2023-06-21 12:30:11.788103'),\n    1: Timestamp('2023-06-21 12:30:11.808103'),\n    2: Timestamp('2023-06-21 12:30:11.828103')}},\n  'nstate': {'brake': {0: 37.0, 1: 38.0, 2: 39.0, 3: 40.0},\n   'thrust': {0: 33.0, 1: 34.0, 2: 35.0, 3: 36.0},\n   'timestep': {0: Timestamp('2023-06-21 12:30:16.688103'),\n    1: Timestamp('2023-06-21 12:30:16.708103'),\n    2: Timestamp('2023-06-21 12:30:16.728103'),\n    3: Timestamp('2023-06-21 12:30:16.748103')},\n   'velocity': {0: 29.0, 1: 30.0, 2: 31.0, 3: 32.0}},\n  'reward': {'timestep': {0: Timestamp('2023-06-21 12:30:11.788103')},\n   'work': {0: 27.0}},\n  'state': {'brake': {0: 8.0, 1: 9.0, 2: 10.0, 3: 11.0},\n   'thrust': {0: 4.0, 1: 5.0, 2: 6.0, 3: 7.0},\n   'timestep': {0: Timestamp('2023-06-21 12:30:11.688103'),\n    1: Timestamp('2023-06-21 12:30:11.708103'),\n    2: Timestamp('2023-06-21 12:30:11.728103'),\n    3: Timestamp('2023-06-21 12:30:11.748103')},\n   'velocity': {0: 0.0, 1: 1.0, 2: 2.0, 3: 3.0}}}}"
     },
     "execution_count": 197,
     "metadata": {},
     "output_type": "execute_result"
    },
    {
     "data": {
      "text/plain": "{('VB7',\n  'wang-cheng',\n  Timestamp('2023-06-21 12:30:11.688103'),\n  Timestamp('2023-06-21 13:30:11.688103')): {'action': {'r0': {0: 12.0,\n    1: 13.0,\n    2: 14.0,\n    3: 15.0,\n    4: 16.0},\n   'r1': {0: 17.0, 1: 18.0, 2: 19.0, 3: 20.0, 4: 21.0},\n   'r2': {0: 22.0, 1: 23.0, 2: 24.0, 3: 25.0, 4: 26.0},\n   'speed': {0: 40.0, 1: 50.0, 2: 60.0},\n   'throttle': {0: 0.0, 1: 0.25, 2: 0.5, 3: 0.75, 4: 1.0},\n   'timestep': {0: Timestamp('2023-06-21 12:30:11.788103'),\n    1: Timestamp('2023-06-21 12:30:11.808103'),\n    2: Timestamp('2023-06-21 12:30:11.828103')}},\n  'nstate': {'brake': {0: 37.0, 1: 38.0, 2: 39.0, 3: 40.0},\n   'thrust': {0: 33.0, 1: 34.0, 2: 35.0, 3: 36.0},\n   'timestep': {0: Timestamp('2023-06-21 12:30:16.688103'),\n    1: Timestamp('2023-06-21 12:30:16.708103'),\n    2: Timestamp('2023-06-21 12:30:16.728103'),\n    3: Timestamp('2023-06-21 12:30:16.748103')},\n   'velocity': {0: 29.0, 1: 30.0, 2: 31.0, 3: 32.0}},\n  'reward': {'timestep': {0: Timestamp('2023-06-21 12:30:11.788103')},\n   'work': {0: 27.0}},\n  'state': {'brake': {0: 8.0, 1: 9.0, 2: 10.0, 3: 11.0},\n   'thrust': {0: 4.0, 1: 5.0, 2: 6.0, 3: 7.0},\n   'timestep': {0: Timestamp('2023-06-21 12:30:11.688103'),\n    1: Timestamp('2023-06-21 12:30:11.708103'),\n    2: Timestamp('2023-06-21 12:30:11.728103'),\n    3: Timestamp('2023-06-21 12:30:11.748103')},\n   'velocity': {0: 0.0, 1: 1.0, 2: 2.0, 3: 3.0}}},\n ('VB7',\n  'wang-cheng',\n  Timestamp('2023-06-21 12:30:11.688103'),\n  Timestamp('2023-06-21 14:30:11.688103')): {'action': {'r0': {0: 12.0,\n    1: 13.0,\n    2: 14.0,\n    3: 15.0,\n    4: 16.0},\n   'r1': {0: 17.0, 1: 18.0, 2: 19.0, 3: 20.0, 4: 21.0},\n   'r2': {0: 22.0, 1: 23.0, 2: 24.0, 3: 25.0, 4: 26.0},\n   'speed': {0: 40.0, 1: 50.0, 2: 60.0},\n   'throttle': {0: 0.0, 1: 0.25, 2: 0.5, 3: 0.75, 4: 1.0},\n   'timestep': {0: Timestamp('2023-06-21 12:30:11.788103'),\n    1: Timestamp('2023-06-21 12:30:11.808103'),\n    2: Timestamp('2023-06-21 12:30:11.828103')}},\n  'nstate': {'brake': {0: 37.0, 1: 38.0, 2: 39.0, 3: 40.0},\n   'thrust': {0: 33.0, 1: 34.0, 2: 35.0, 3: 36.0},\n   'timestep': {0: Timestamp('2023-06-21 12:30:16.688103'),\n    1: Timestamp('2023-06-21 12:30:16.708103'),\n    2: Timestamp('2023-06-21 12:30:16.728103'),\n    3: Timestamp('2023-06-21 12:30:16.748103')},\n   'velocity': {0: 29.0, 1: 30.0, 2: 31.0, 3: 32.0}},\n  'reward': {'timestep': {0: Timestamp('2023-06-21 12:30:11.788103')},\n   'work': {0: 27.0}},\n  'state': {'brake': {0: 8.0, 1: 9.0, 2: 10.0, 3: 11.0},\n   'thrust': {0: 4.0, 1: 5.0, 2: 6.0, 3: 7.0},\n   'timestep': {0: Timestamp('2023-06-21 12:30:11.688103'),\n    1: Timestamp('2023-06-21 12:30:11.708103'),\n    2: Timestamp('2023-06-21 12:30:11.728103'),\n    3: Timestamp('2023-06-21 12:30:11.748103')},\n   'velocity': {0: 0.0, 1: 1.0, 2: 2.0, 3: 3.0}}},\n ('VB7',\n  'wang-cheng',\n  Timestamp('2023-06-21 12:30:11.688103'),\n  Timestamp('2023-06-21 15:30:11.688103')): {'action': {'r0': {0: 12.0,\n    1: 13.0,\n    2: 14.0,\n    3: 15.0,\n    4: 16.0},\n   'r1': {0: 17.0, 1: 18.0, 2: 19.0, 3: 20.0, 4: 21.0},\n   'r2': {0: 22.0, 1: 23.0, 2: 24.0, 3: 25.0, 4: 26.0},\n   'speed': {0: 40.0, 1: 50.0, 2: 60.0},\n   'throttle': {0: 0.0, 1: 0.25, 2: 0.5, 3: 0.75, 4: 1.0},\n   'timestep': {0: Timestamp('2023-06-21 12:30:11.788103'),\n    1: Timestamp('2023-06-21 12:30:11.808103'),\n    2: Timestamp('2023-06-21 12:30:11.828103')}},\n  'nstate': {'brake': {0: 37.0, 1: 38.0, 2: 39.0, 3: 40.0},\n   'thrust': {0: 33.0, 1: 34.0, 2: 35.0, 3: 36.0},\n   'timestep': {0: Timestamp('2023-06-21 12:30:16.688103'),\n    1: Timestamp('2023-06-21 12:30:16.708103'),\n    2: Timestamp('2023-06-21 12:30:16.728103'),\n    3: Timestamp('2023-06-21 12:30:16.748103')},\n   'velocity': {0: 29.0, 1: 30.0, 2: 31.0, 3: 32.0}},\n  'reward': {'timestep': {0: Timestamp('2023-06-21 12:30:11.788103')},\n   'work': {0: 27.0}},\n  'state': {'brake': {0: 8.0, 1: 9.0, 2: 10.0, 3: 11.0},\n   'thrust': {0: 4.0, 1: 5.0, 2: 6.0, 3: 7.0},\n   'timestep': {0: Timestamp('2023-06-21 12:30:11.688103'),\n    1: Timestamp('2023-06-21 12:30:11.708103'),\n    2: Timestamp('2023-06-21 12:30:11.728103'),\n    3: Timestamp('2023-06-21 12:30:11.748103')},\n   'velocity': {0: 0.0, 1: 1.0, 2: 2.0, 3: 3.0}}},\n ('VB7',\n  'wang-cheng',\n  Timestamp('2023-06-21 12:30:11.688103'),\n  Timestamp('2023-06-21 16:30:11.688103')): {'action': {'r0': {0: 12.0,\n    1: 13.0,\n    2: 14.0,\n    3: 15.0,\n    4: 16.0},\n   'r1': {0: 17.0, 1: 18.0, 2: 19.0, 3: 20.0, 4: 21.0},\n   'r2': {0: 22.0, 1: 23.0, 2: 24.0, 3: 25.0, 4: 26.0},\n   'speed': {0: 40.0, 1: 50.0, 2: 60.0},\n   'throttle': {0: 0.0, 1: 0.25, 2: 0.5, 3: 0.75, 4: 1.0},\n   'timestep': {0: Timestamp('2023-06-21 12:30:11.788103'),\n    1: Timestamp('2023-06-21 12:30:11.808103'),\n    2: Timestamp('2023-06-21 12:30:11.828103')}},\n  'nstate': {'brake': {0: 37.0, 1: 38.0, 2: 39.0, 3: 40.0},\n   'thrust': {0: 33.0, 1: 34.0, 2: 35.0, 3: 36.0},\n   'timestep': {0: Timestamp('2023-06-21 12:30:16.688103'),\n    1: Timestamp('2023-06-21 12:30:16.708103'),\n    2: Timestamp('2023-06-21 12:30:16.728103'),\n    3: Timestamp('2023-06-21 12:30:16.748103')},\n   'velocity': {0: 29.0, 1: 30.0, 2: 31.0, 3: 32.0}},\n  'reward': {'timestep': {0: Timestamp('2023-06-21 12:30:11.788103')},\n   'work': {0: 27.0}},\n  'state': {'brake': {0: 8.0, 1: 9.0, 2: 10.0, 3: 11.0},\n   'thrust': {0: 4.0, 1: 5.0, 2: 6.0, 3: 7.0},\n   'timestep': {0: Timestamp('2023-06-21 12:30:11.688103'),\n    1: Timestamp('2023-06-21 12:30:11.708103'),\n    2: Timestamp('2023-06-21 12:30:11.728103'),\n    3: Timestamp('2023-06-21 12:30:11.748103')},\n   'velocity': {0: 0.0, 1: 1.0, 2: 2.0, 3: 3.0}}},\n ('VB7',\n  'wang-cheng',\n  Timestamp('2023-06-21 12:30:11.688103'),\n  Timestamp('2023-06-21 17:30:11.688103')): {'action': {'r0': {0: 12.0,\n    1: 13.0,\n    2: 14.0,\n    3: 15.0,\n    4: 16.0},\n   'r1': {0: 17.0, 1: 18.0, 2: 19.0, 3: 20.0, 4: 21.0},\n   'r2': {0: 22.0, 1: 23.0, 2: 24.0, 3: 25.0, 4: 26.0},\n   'speed': {0: 40.0, 1: 50.0, 2: 60.0},\n   'throttle': {0: 0.0, 1: 0.25, 2: 0.5, 3: 0.75, 4: 1.0},\n   'timestep': {0: Timestamp('2023-06-21 12:30:11.788103'),\n    1: Timestamp('2023-06-21 12:30:11.808103'),\n    2: Timestamp('2023-06-21 12:30:11.828103')}},\n  'nstate': {'brake': {0: 37.0, 1: 38.0, 2: 39.0, 3: 40.0},\n   'thrust': {0: 33.0, 1: 34.0, 2: 35.0, 3: 36.0},\n   'timestep': {0: Timestamp('2023-06-21 12:30:16.688103'),\n    1: Timestamp('2023-06-21 12:30:16.708103'),\n    2: Timestamp('2023-06-21 12:30:16.728103'),\n    3: Timestamp('2023-06-21 12:30:16.748103')},\n   'velocity': {0: 29.0, 1: 30.0, 2: 31.0, 3: 32.0}},\n  'reward': {'timestep': {0: Timestamp('2023-06-21 12:30:11.788103')},\n   'work': {0: 27.0}},\n  'state': {'brake': {0: 8.0, 1: 9.0, 2: 10.0, 3: 11.0},\n   'thrust': {0: 4.0, 1: 5.0, 2: 6.0, 3: 7.0},\n   'timestep': {0: Timestamp('2023-06-21 12:30:11.688103'),\n    1: Timestamp('2023-06-21 12:30:11.708103'),\n    2: Timestamp('2023-06-21 12:30:11.728103'),\n    3: Timestamp('2023-06-21 12:30:11.748103')},\n   'velocity': {0: 0.0, 1: 1.0, 2: 2.0, 3: 3.0}}}}"
     },
     "execution_count": 197,
     "metadata": {},
     "output_type": "execute_result"
    }
   ],
   "source": [
    "# dict_nested = [{i: dfs_episode.xs(i).to_dict('index') for i in level} for level in dfs_episode.index.levels]\n",
    "# dfs_index = dfs_episode.to_dict('index')\n",
    "# dfs_index\n",
    "\n",
    "\n",
    "def nest(d: dict) -> dict:\n",
    "    result = {}\n",
    "    for key, value in d.items():\n",
    "        target = result\n",
    "        for k in key[:-1]:\n",
    "            target = target.setdefault(k, {})\n",
    "        target[key[-1]] = value\n",
    "    return result\n",
    "\n",
    "\n",
    "def df_to_nested_dict(df_multi_indexed_col: pd.DataFrame) -> dict:\n",
    "    d = df_multi_indexed_col.to_dict('index')\n",
    "    return {k: nest(v) for k, v in d.items()}\n",
    "\n",
    "\n",
    "# dfs_episode\n",
    "# dfs_episode.columns\n",
    "\n",
    "dict1 = {key: nest(value) for key, value in dfs_episode.to_dict('index').items()}\n",
    "dict1\n",
    "\n",
    "dict_nested = df_to_nested_dict(dfs_episode)\n",
    "dict_nested\n",
    "# dict_nested = {level:\n",
    "#                    {i: dfs_episode.xs(i).to_dict('index') for i in level }\n",
    "#                for level in dfs_episode.index.levels}\n",
    "# dict_nested = {level: dfs_episode.xs(level).to_dict('index')\n",
    "#                for level in dfs_episode.columns.levels[0]}\n",
    "# dict_nested"
   ],
   "metadata": {
    "collapsed": false,
    "ExecuteTime": {
     "end_time": "2023-06-21T08:25:11.263340429Z",
     "start_time": "2023-06-21T08:25:11.222662110Z"
    }
   }
  },
  {
   "cell_type": "code",
   "execution_count": 42,
   "outputs": [],
   "source": [
    "# dict_df_xs = {level: dfs_episode.xs(level) for level in dfs_episode.index.levels[0]}\n",
    "# dict_df_xs['VB7']"
   ],
   "metadata": {
    "collapsed": false,
    "ExecuteTime": {
     "end_time": "2023-06-21T04:30:13.117749487Z",
     "start_time": "2023-06-21T04:30:12.385462493Z"
    }
   }
  },
  {
   "cell_type": "code",
   "execution_count": 43,
   "outputs": [
    {
     "data": {
      "text/plain": "FrozenList(['vehicle', 'driver', 'episodestart', 'timestamp'])"
     },
     "execution_count": 43,
     "metadata": {},
     "output_type": "execute_result"
    },
    {
     "data": {
      "text/plain": "MultiIndex([('VB7', 'wang-cheng', '2023-06-21 12:30:11.688103', ...),\n            ('VB7', 'wang-cheng', '2023-06-21 12:30:11.688103', ...),\n            ('VB7', 'wang-cheng', '2023-06-21 12:30:11.688103', ...),\n            ('VB7', 'wang-cheng', '2023-06-21 12:30:11.688103', ...),\n            ('VB7', 'wang-cheng', '2023-06-21 12:30:11.688103', ...)],\n           names=['vehicle', 'driver', 'episodestart', 'timestamp'])"
     },
     "execution_count": 43,
     "metadata": {},
     "output_type": "execute_result"
    },
    {
     "data": {
      "text/plain": "[{'vehicle': 'VB7',\n  'driver': 'wang-cheng',\n  'episodestart': Timestamp('2023-06-21 12:30:11.688103'),\n  'timestamp': Timestamp('2023-06-21 13:30:11.688103')},\n {'vehicle': 'VB7',\n  'driver': 'wang-cheng',\n  'episodestart': Timestamp('2023-06-21 12:30:11.688103'),\n  'timestamp': Timestamp('2023-06-21 14:30:11.688103')},\n {'vehicle': 'VB7',\n  'driver': 'wang-cheng',\n  'episodestart': Timestamp('2023-06-21 12:30:11.688103'),\n  'timestamp': Timestamp('2023-06-21 15:30:11.688103')},\n {'vehicle': 'VB7',\n  'driver': 'wang-cheng',\n  'episodestart': Timestamp('2023-06-21 12:30:11.688103'),\n  'timestamp': Timestamp('2023-06-21 16:30:11.688103')},\n {'vehicle': 'VB7',\n  'driver': 'wang-cheng',\n  'episodestart': Timestamp('2023-06-21 12:30:11.688103'),\n  'timestamp': Timestamp('2023-06-21 17:30:11.688103')}]"
     },
     "execution_count": 43,
     "metadata": {},
     "output_type": "execute_result"
    }
   ],
   "source": [
    "\n",
    "indices = dfs_episode.index\n",
    "indices.name\n",
    "indices.names\n",
    "indices\n",
    "indices_dict = [\n",
    "    {indices.names[i]: level for i, level in enumerate(levels)} for levels in indices\n",
    "]\n",
    "indices_dict"
   ],
   "metadata": {
    "collapsed": false,
    "ExecuteTime": {
     "end_time": "2023-06-21T04:30:13.203766373Z",
     "start_time": "2023-06-21T04:30:12.430850Z"
    }
   }
  },
  {
   "cell_type": "code",
   "execution_count": 44,
   "outputs": [],
   "source": [
    "# from dataclasses import asdict\n",
    "#\n",
    "# rows_multi = [\n",
    "#     {\n",
    "#         'timestamp': idx['timestamp'],\n",
    "#         'meta': {**idx, **(asdict(meta))},\n",
    "#         'observation': {key: value for key, value in record.items()},\n",
    "#     }\n",
    "#     for (idx, record) in zip(indices_dict, records)\n",
    "# ]\n",
    "# rows_multi\n"
   ],
   "metadata": {
    "collapsed": false,
    "ExecuteTime": {
     "end_time": "2023-06-21T04:30:13.204078901Z",
     "start_time": "2023-06-21T04:30:12.431129246Z"
    }
   }
  },
  {
   "cell_type": "code",
   "execution_count": 45,
   "outputs": [
    {
     "data": {
      "text/plain": "[{'timestamp': Timestamp('2023-06-21 13:30:11.688103'),\n  'meta': {'vehicle': 'VB7',\n   'driver': 'wang-cheng',\n   'episodestart': Timestamp('2023-06-21 12:30:11.688103'),\n   'timestamp': Timestamp('2023-06-21 13:30:11.688103'),\n   'state_specs': {'state_unit_codes': {'velocity_unit_code': 'kph',\n     'thrust_unit_code': 'pct',\n     'brake_unit_code': 'pct'},\n    'unit_number': 4,\n    'unit_duration': 1,\n    'frequency': 50},\n   'action_specs': {'action_unit_code': 'nm',\n    'action_row_number': 4,\n    'action_column_number': 17},\n   'reward_specs': {'reward_unit': 'wh'},\n   'site': 'anting'},\n  'observation': {'action': {'r0': {0: 12.0,\n     1: 13.0,\n     2: 14.0,\n     3: 15.0,\n     4: 16.0},\n    'r1': {0: 17.0, 1: 18.0, 2: 19.0, 3: 20.0, 4: 21.0},\n    'r2': {0: 22.0, 1: 23.0, 2: 24.0, 3: 25.0, 4: 26.0},\n    'speed': {0: 40.0, 1: 50.0, 2: 60.0},\n    'throttle': {0: 0.0, 1: 0.25, 2: 0.5, 3: 0.75, 4: 1.0},\n    'timestep': {0: Timestamp('2023-06-21 12:30:11.788103'),\n     1: Timestamp('2023-06-21 12:30:11.808103'),\n     2: Timestamp('2023-06-21 12:30:11.828103')}},\n   'nstate': {'brake': {0: 37.0, 1: 38.0, 2: 39.0, 3: 40.0},\n    'thrust': {0: 33.0, 1: 34.0, 2: 35.0, 3: 36.0},\n    'timestep': {0: Timestamp('2023-06-21 12:30:16.688103'),\n     1: Timestamp('2023-06-21 12:30:16.708103'),\n     2: Timestamp('2023-06-21 12:30:16.728103'),\n     3: Timestamp('2023-06-21 12:30:16.748103')},\n    'velocity': {0: 29.0, 1: 30.0, 2: 31.0, 3: 32.0}},\n   'reward': {'timestep': {0: Timestamp('2023-06-21 12:30:11.788103')},\n    'work': {0: 27.0}},\n   'state': {'brake': {0: 8.0, 1: 9.0, 2: 10.0, 3: 11.0},\n    'thrust': {0: 4.0, 1: 5.0, 2: 6.0, 3: 7.0},\n    'timestep': {0: Timestamp('2023-06-21 12:30:11.688103'),\n     1: Timestamp('2023-06-21 12:30:11.708103'),\n     2: Timestamp('2023-06-21 12:30:11.728103'),\n     3: Timestamp('2023-06-21 12:30:11.748103')},\n    'velocity': {0: 0.0, 1: 1.0, 2: 2.0, 3: 3.0}}}},\n {'timestamp': Timestamp('2023-06-21 14:30:11.688103'),\n  'meta': {'vehicle': 'VB7',\n   'driver': 'wang-cheng',\n   'episodestart': Timestamp('2023-06-21 12:30:11.688103'),\n   'timestamp': Timestamp('2023-06-21 14:30:11.688103'),\n   'state_specs': {'state_unit_codes': {'velocity_unit_code': 'kph',\n     'thrust_unit_code': 'pct',\n     'brake_unit_code': 'pct'},\n    'unit_number': 4,\n    'unit_duration': 1,\n    'frequency': 50},\n   'action_specs': {'action_unit_code': 'nm',\n    'action_row_number': 4,\n    'action_column_number': 17},\n   'reward_specs': {'reward_unit': 'wh'},\n   'site': 'anting'},\n  'observation': {'action': {'r0': {0: 12.0,\n     1: 13.0,\n     2: 14.0,\n     3: 15.0,\n     4: 16.0},\n    'r1': {0: 17.0, 1: 18.0, 2: 19.0, 3: 20.0, 4: 21.0},\n    'r2': {0: 22.0, 1: 23.0, 2: 24.0, 3: 25.0, 4: 26.0},\n    'speed': {0: 40.0, 1: 50.0, 2: 60.0},\n    'throttle': {0: 0.0, 1: 0.25, 2: 0.5, 3: 0.75, 4: 1.0},\n    'timestep': {0: Timestamp('2023-06-21 12:30:11.788103'),\n     1: Timestamp('2023-06-21 12:30:11.808103'),\n     2: Timestamp('2023-06-21 12:30:11.828103')}},\n   'nstate': {'brake': {0: 37.0, 1: 38.0, 2: 39.0, 3: 40.0},\n    'thrust': {0: 33.0, 1: 34.0, 2: 35.0, 3: 36.0},\n    'timestep': {0: Timestamp('2023-06-21 12:30:16.688103'),\n     1: Timestamp('2023-06-21 12:30:16.708103'),\n     2: Timestamp('2023-06-21 12:30:16.728103'),\n     3: Timestamp('2023-06-21 12:30:16.748103')},\n    'velocity': {0: 29.0, 1: 30.0, 2: 31.0, 3: 32.0}},\n   'reward': {'timestep': {0: Timestamp('2023-06-21 12:30:11.788103')},\n    'work': {0: 27.0}},\n   'state': {'brake': {0: 8.0, 1: 9.0, 2: 10.0, 3: 11.0},\n    'thrust': {0: 4.0, 1: 5.0, 2: 6.0, 3: 7.0},\n    'timestep': {0: Timestamp('2023-06-21 12:30:11.688103'),\n     1: Timestamp('2023-06-21 12:30:11.708103'),\n     2: Timestamp('2023-06-21 12:30:11.728103'),\n     3: Timestamp('2023-06-21 12:30:11.748103')},\n    'velocity': {0: 0.0, 1: 1.0, 2: 2.0, 3: 3.0}}}},\n {'timestamp': Timestamp('2023-06-21 15:30:11.688103'),\n  'meta': {'vehicle': 'VB7',\n   'driver': 'wang-cheng',\n   'episodestart': Timestamp('2023-06-21 12:30:11.688103'),\n   'timestamp': Timestamp('2023-06-21 15:30:11.688103'),\n   'state_specs': {'state_unit_codes': {'velocity_unit_code': 'kph',\n     'thrust_unit_code': 'pct',\n     'brake_unit_code': 'pct'},\n    'unit_number': 4,\n    'unit_duration': 1,\n    'frequency': 50},\n   'action_specs': {'action_unit_code': 'nm',\n    'action_row_number': 4,\n    'action_column_number': 17},\n   'reward_specs': {'reward_unit': 'wh'},\n   'site': 'anting'},\n  'observation': {'action': {'r0': {0: 12.0,\n     1: 13.0,\n     2: 14.0,\n     3: 15.0,\n     4: 16.0},\n    'r1': {0: 17.0, 1: 18.0, 2: 19.0, 3: 20.0, 4: 21.0},\n    'r2': {0: 22.0, 1: 23.0, 2: 24.0, 3: 25.0, 4: 26.0},\n    'speed': {0: 40.0, 1: 50.0, 2: 60.0},\n    'throttle': {0: 0.0, 1: 0.25, 2: 0.5, 3: 0.75, 4: 1.0},\n    'timestep': {0: Timestamp('2023-06-21 12:30:11.788103'),\n     1: Timestamp('2023-06-21 12:30:11.808103'),\n     2: Timestamp('2023-06-21 12:30:11.828103')}},\n   'nstate': {'brake': {0: 37.0, 1: 38.0, 2: 39.0, 3: 40.0},\n    'thrust': {0: 33.0, 1: 34.0, 2: 35.0, 3: 36.0},\n    'timestep': {0: Timestamp('2023-06-21 12:30:16.688103'),\n     1: Timestamp('2023-06-21 12:30:16.708103'),\n     2: Timestamp('2023-06-21 12:30:16.728103'),\n     3: Timestamp('2023-06-21 12:30:16.748103')},\n    'velocity': {0: 29.0, 1: 30.0, 2: 31.0, 3: 32.0}},\n   'reward': {'timestep': {0: Timestamp('2023-06-21 12:30:11.788103')},\n    'work': {0: 27.0}},\n   'state': {'brake': {0: 8.0, 1: 9.0, 2: 10.0, 3: 11.0},\n    'thrust': {0: 4.0, 1: 5.0, 2: 6.0, 3: 7.0},\n    'timestep': {0: Timestamp('2023-06-21 12:30:11.688103'),\n     1: Timestamp('2023-06-21 12:30:11.708103'),\n     2: Timestamp('2023-06-21 12:30:11.728103'),\n     3: Timestamp('2023-06-21 12:30:11.748103')},\n    'velocity': {0: 0.0, 1: 1.0, 2: 2.0, 3: 3.0}}}},\n {'timestamp': Timestamp('2023-06-21 16:30:11.688103'),\n  'meta': {'vehicle': 'VB7',\n   'driver': 'wang-cheng',\n   'episodestart': Timestamp('2023-06-21 12:30:11.688103'),\n   'timestamp': Timestamp('2023-06-21 16:30:11.688103'),\n   'state_specs': {'state_unit_codes': {'velocity_unit_code': 'kph',\n     'thrust_unit_code': 'pct',\n     'brake_unit_code': 'pct'},\n    'unit_number': 4,\n    'unit_duration': 1,\n    'frequency': 50},\n   'action_specs': {'action_unit_code': 'nm',\n    'action_row_number': 4,\n    'action_column_number': 17},\n   'reward_specs': {'reward_unit': 'wh'},\n   'site': 'anting'},\n  'observation': {'action': {'r0': {0: 12.0,\n     1: 13.0,\n     2: 14.0,\n     3: 15.0,\n     4: 16.0},\n    'r1': {0: 17.0, 1: 18.0, 2: 19.0, 3: 20.0, 4: 21.0},\n    'r2': {0: 22.0, 1: 23.0, 2: 24.0, 3: 25.0, 4: 26.0},\n    'speed': {0: 40.0, 1: 50.0, 2: 60.0},\n    'throttle': {0: 0.0, 1: 0.25, 2: 0.5, 3: 0.75, 4: 1.0},\n    'timestep': {0: Timestamp('2023-06-21 12:30:11.788103'),\n     1: Timestamp('2023-06-21 12:30:11.808103'),\n     2: Timestamp('2023-06-21 12:30:11.828103')}},\n   'nstate': {'brake': {0: 37.0, 1: 38.0, 2: 39.0, 3: 40.0},\n    'thrust': {0: 33.0, 1: 34.0, 2: 35.0, 3: 36.0},\n    'timestep': {0: Timestamp('2023-06-21 12:30:16.688103'),\n     1: Timestamp('2023-06-21 12:30:16.708103'),\n     2: Timestamp('2023-06-21 12:30:16.728103'),\n     3: Timestamp('2023-06-21 12:30:16.748103')},\n    'velocity': {0: 29.0, 1: 30.0, 2: 31.0, 3: 32.0}},\n   'reward': {'timestep': {0: Timestamp('2023-06-21 12:30:11.788103')},\n    'work': {0: 27.0}},\n   'state': {'brake': {0: 8.0, 1: 9.0, 2: 10.0, 3: 11.0},\n    'thrust': {0: 4.0, 1: 5.0, 2: 6.0, 3: 7.0},\n    'timestep': {0: Timestamp('2023-06-21 12:30:11.688103'),\n     1: Timestamp('2023-06-21 12:30:11.708103'),\n     2: Timestamp('2023-06-21 12:30:11.728103'),\n     3: Timestamp('2023-06-21 12:30:11.748103')},\n    'velocity': {0: 0.0, 1: 1.0, 2: 2.0, 3: 3.0}}}},\n {'timestamp': Timestamp('2023-06-21 17:30:11.688103'),\n  'meta': {'vehicle': 'VB7',\n   'driver': 'wang-cheng',\n   'episodestart': Timestamp('2023-06-21 12:30:11.688103'),\n   'timestamp': Timestamp('2023-06-21 17:30:11.688103'),\n   'state_specs': {'state_unit_codes': {'velocity_unit_code': 'kph',\n     'thrust_unit_code': 'pct',\n     'brake_unit_code': 'pct'},\n    'unit_number': 4,\n    'unit_duration': 1,\n    'frequency': 50},\n   'action_specs': {'action_unit_code': 'nm',\n    'action_row_number': 4,\n    'action_column_number': 17},\n   'reward_specs': {'reward_unit': 'wh'},\n   'site': 'anting'},\n  'observation': {'action': {'r0': {0: 12.0,\n     1: 13.0,\n     2: 14.0,\n     3: 15.0,\n     4: 16.0},\n    'r1': {0: 17.0, 1: 18.0, 2: 19.0, 3: 20.0, 4: 21.0},\n    'r2': {0: 22.0, 1: 23.0, 2: 24.0, 3: 25.0, 4: 26.0},\n    'speed': {0: 40.0, 1: 50.0, 2: 60.0},\n    'throttle': {0: 0.0, 1: 0.25, 2: 0.5, 3: 0.75, 4: 1.0},\n    'timestep': {0: Timestamp('2023-06-21 12:30:11.788103'),\n     1: Timestamp('2023-06-21 12:30:11.808103'),\n     2: Timestamp('2023-06-21 12:30:11.828103')}},\n   'nstate': {'brake': {0: 37.0, 1: 38.0, 2: 39.0, 3: 40.0},\n    'thrust': {0: 33.0, 1: 34.0, 2: 35.0, 3: 36.0},\n    'timestep': {0: Timestamp('2023-06-21 12:30:16.688103'),\n     1: Timestamp('2023-06-21 12:30:16.708103'),\n     2: Timestamp('2023-06-21 12:30:16.728103'),\n     3: Timestamp('2023-06-21 12:30:16.748103')},\n    'velocity': {0: 29.0, 1: 30.0, 2: 31.0, 3: 32.0}},\n   'reward': {'timestep': {0: Timestamp('2023-06-21 12:30:11.788103')},\n    'work': {0: 27.0}},\n   'state': {'brake': {0: 8.0, 1: 9.0, 2: 10.0, 3: 11.0},\n    'thrust': {0: 4.0, 1: 5.0, 2: 6.0, 3: 7.0},\n    'timestep': {0: Timestamp('2023-06-21 12:30:11.688103'),\n     1: Timestamp('2023-06-21 12:30:11.708103'),\n     2: Timestamp('2023-06-21 12:30:11.728103'),\n     3: Timestamp('2023-06-21 12:30:11.748103')},\n    'velocity': {0: 0.0, 1: 1.0, 2: 2.0, 3: 3.0}}}}]"
     },
     "execution_count": 45,
     "metadata": {},
     "output_type": "execute_result"
    }
   ],
   "source": [
    "from dataclasses import asdict\n",
    "\n",
    "rows = [\n",
    "    {\n",
    "        'timestamp': idx['timestamp'],\n",
    "        'meta': {**idx, **(asdict(meta))},\n",
    "        'observation': dict_nested[key],\n",
    "    }\n",
    "    for (idx, key) in zip(indices_dict, dict_nested)\n",
    "]\n",
    "rows"
   ],
   "metadata": {
    "collapsed": false,
    "ExecuteTime": {
     "end_time": "2023-06-21T04:30:13.222901803Z",
     "start_time": "2023-06-21T04:30:12.431316578Z"
    }
   }
  },
  {
   "cell_type": "markdown",
   "source": [
    "## Decoding MongoDB dict to MultiIndexed DataFrame"
   ],
   "metadata": {
    "collapsed": false
   }
  },
  {
   "cell_type": "code",
   "execution_count": 95,
   "outputs": [
    {
     "data": {
      "text/plain": "                   timestamp  \\\n0 2023-06-21 13:30:11.688103   \n1 2023-06-21 14:30:11.688103   \n2 2023-06-21 15:30:11.688103   \n3 2023-06-21 16:30:11.688103   \n4 2023-06-21 17:30:11.688103   \n\n                                                meta  \\\n0  {'vehicle': 'VB7', 'driver': 'wang-cheng', 'ep...   \n1  {'vehicle': 'VB7', 'driver': 'wang-cheng', 'ep...   \n2  {'vehicle': 'VB7', 'driver': 'wang-cheng', 'ep...   \n3  {'vehicle': 'VB7', 'driver': 'wang-cheng', 'ep...   \n4  {'vehicle': 'VB7', 'driver': 'wang-cheng', 'ep...   \n\n                                         observation  \n0  {'action': {'r0': {0: 12.0, 1: 13.0, 2: 14.0, ...  \n1  {'action': {'r0': {0: 12.0, 1: 13.0, 2: 14.0, ...  \n2  {'action': {'r0': {0: 12.0, 1: 13.0, 2: 14.0, ...  \n3  {'action': {'r0': {0: 12.0, 1: 13.0, 2: 14.0, ...  \n4  {'action': {'r0': {0: 12.0, 1: 13.0, 2: 14.0, ...  ",
      "text/html": "<div>\n<style scoped>\n    .dataframe tbody tr th:only-of-type {\n        vertical-align: middle;\n    }\n\n    .dataframe tbody tr th {\n        vertical-align: top;\n    }\n\n    .dataframe thead th {\n        text-align: right;\n    }\n</style>\n<table border=\"1\" class=\"dataframe\">\n  <thead>\n    <tr style=\"text-align: right;\">\n      <th></th>\n      <th>timestamp</th>\n      <th>meta</th>\n      <th>observation</th>\n    </tr>\n  </thead>\n  <tbody>\n    <tr>\n      <th>0</th>\n      <td>2023-06-21 13:30:11.688103</td>\n      <td>{'vehicle': 'VB7', 'driver': 'wang-cheng', 'ep...</td>\n      <td>{'action': {'r0': {0: 12.0, 1: 13.0, 2: 14.0, ...</td>\n    </tr>\n    <tr>\n      <th>1</th>\n      <td>2023-06-21 14:30:11.688103</td>\n      <td>{'vehicle': 'VB7', 'driver': 'wang-cheng', 'ep...</td>\n      <td>{'action': {'r0': {0: 12.0, 1: 13.0, 2: 14.0, ...</td>\n    </tr>\n    <tr>\n      <th>2</th>\n      <td>2023-06-21 15:30:11.688103</td>\n      <td>{'vehicle': 'VB7', 'driver': 'wang-cheng', 'ep...</td>\n      <td>{'action': {'r0': {0: 12.0, 1: 13.0, 2: 14.0, ...</td>\n    </tr>\n    <tr>\n      <th>3</th>\n      <td>2023-06-21 16:30:11.688103</td>\n      <td>{'vehicle': 'VB7', 'driver': 'wang-cheng', 'ep...</td>\n      <td>{'action': {'r0': {0: 12.0, 1: 13.0, 2: 14.0, ...</td>\n    </tr>\n    <tr>\n      <th>4</th>\n      <td>2023-06-21 17:30:11.688103</td>\n      <td>{'vehicle': 'VB7', 'driver': 'wang-cheng', 'ep...</td>\n      <td>{'action': {'r0': {0: 12.0, 1: 13.0, 2: 14.0, ...</td>\n    </tr>\n  </tbody>\n</table>\n</div>"
     },
     "execution_count": 95,
     "metadata": {},
     "output_type": "execute_result"
    },
    {
     "data": {
      "text/plain": "{'action': {'r0': {0: 12.0, 1: 13.0, 2: 14.0, 3: 15.0, 4: 16.0},\n  'r1': {0: 17.0, 1: 18.0, 2: 19.0, 3: 20.0, 4: 21.0},\n  'r2': {0: 22.0, 1: 23.0, 2: 24.0, 3: 25.0, 4: 26.0},\n  'speed': {0: 40.0, 1: 50.0, 2: 60.0},\n  'throttle': {0: 0.0, 1: 0.25, 2: 0.5, 3: 0.75, 4: 1.0},\n  'timestep': {0: Timestamp('2023-06-21 12:30:11.788103'),\n   1: Timestamp('2023-06-21 12:30:11.808103'),\n   2: Timestamp('2023-06-21 12:30:11.828103')}},\n 'nstate': {'brake': {0: 37.0, 1: 38.0, 2: 39.0, 3: 40.0},\n  'thrust': {0: 33.0, 1: 34.0, 2: 35.0, 3: 36.0},\n  'timestep': {0: Timestamp('2023-06-21 12:30:16.688103'),\n   1: Timestamp('2023-06-21 12:30:16.708103'),\n   2: Timestamp('2023-06-21 12:30:16.728103'),\n   3: Timestamp('2023-06-21 12:30:16.748103')},\n  'velocity': {0: 29.0, 1: 30.0, 2: 31.0, 3: 32.0}},\n 'reward': {'timestep': {0: Timestamp('2023-06-21 12:30:11.788103')},\n  'work': {0: 27.0}},\n 'state': {'brake': {0: 8.0, 1: 9.0, 2: 10.0, 3: 11.0},\n  'thrust': {0: 4.0, 1: 5.0, 2: 6.0, 3: 7.0},\n  'timestep': {0: Timestamp('2023-06-21 12:30:11.688103'),\n   1: Timestamp('2023-06-21 12:30:11.708103'),\n   2: Timestamp('2023-06-21 12:30:11.728103'),\n   3: Timestamp('2023-06-21 12:30:11.748103')},\n  'velocity': {0: 0.0, 1: 1.0, 2: 2.0, 3: 3.0}}}"
     },
     "execution_count": 95,
     "metadata": {},
     "output_type": "execute_result"
    }
   ],
   "source": [
    "df_rows = pd.DataFrame(rows)\n",
    "df_rows\n",
    "df_rows['observation'][0]"
   ],
   "metadata": {
    "collapsed": false,
    "ExecuteTime": {
     "end_time": "2023-06-21T06:21:25.471279515Z",
     "start_time": "2023-06-21T06:21:25.409687573Z"
    }
   }
  },
  {
   "cell_type": "code",
   "execution_count": 99,
   "outputs": [
    {
     "data": {
      "text/plain": "[{'action': {'r0': {0: 12.0, 1: 13.0, 2: 14.0, 3: 15.0, 4: 16.0},\n   'r1': {0: 17.0, 1: 18.0, 2: 19.0, 3: 20.0, 4: 21.0},\n   'r2': {0: 22.0, 1: 23.0, 2: 24.0, 3: 25.0, 4: 26.0},\n   'speed': {0: 40.0, 1: 50.0, 2: 60.0},\n   'throttle': {0: 0.0, 1: 0.25, 2: 0.5, 3: 0.75, 4: 1.0},\n   'timestep': {0: Timestamp('2023-06-21 12:30:11.788103'),\n    1: Timestamp('2023-06-21 12:30:11.808103'),\n    2: Timestamp('2023-06-21 12:30:11.828103')}},\n  'nstate': {'brake': {0: 37.0, 1: 38.0, 2: 39.0, 3: 40.0},\n   'thrust': {0: 33.0, 1: 34.0, 2: 35.0, 3: 36.0},\n   'timestep': {0: Timestamp('2023-06-21 12:30:16.688103'),\n    1: Timestamp('2023-06-21 12:30:16.708103'),\n    2: Timestamp('2023-06-21 12:30:16.728103'),\n    3: Timestamp('2023-06-21 12:30:16.748103')},\n   'velocity': {0: 29.0, 1: 30.0, 2: 31.0, 3: 32.0}},\n  'reward': {'timestep': {0: Timestamp('2023-06-21 12:30:11.788103')},\n   'work': {0: 27.0}},\n  'state': {'brake': {0: 8.0, 1: 9.0, 2: 10.0, 3: 11.0},\n   'thrust': {0: 4.0, 1: 5.0, 2: 6.0, 3: 7.0},\n   'timestep': {0: Timestamp('2023-06-21 12:30:11.688103'),\n    1: Timestamp('2023-06-21 12:30:11.708103'),\n    2: Timestamp('2023-06-21 12:30:11.728103'),\n    3: Timestamp('2023-06-21 12:30:11.748103')},\n   'velocity': {0: 0.0, 1: 1.0, 2: 2.0, 3: 3.0}}},\n {'action': {'r0': {0: 12.0, 1: 13.0, 2: 14.0, 3: 15.0, 4: 16.0},\n   'r1': {0: 17.0, 1: 18.0, 2: 19.0, 3: 20.0, 4: 21.0},\n   'r2': {0: 22.0, 1: 23.0, 2: 24.0, 3: 25.0, 4: 26.0},\n   'speed': {0: 40.0, 1: 50.0, 2: 60.0},\n   'throttle': {0: 0.0, 1: 0.25, 2: 0.5, 3: 0.75, 4: 1.0},\n   'timestep': {0: Timestamp('2023-06-21 12:30:11.788103'),\n    1: Timestamp('2023-06-21 12:30:11.808103'),\n    2: Timestamp('2023-06-21 12:30:11.828103')}},\n  'nstate': {'brake': {0: 37.0, 1: 38.0, 2: 39.0, 3: 40.0},\n   'thrust': {0: 33.0, 1: 34.0, 2: 35.0, 3: 36.0},\n   'timestep': {0: Timestamp('2023-06-21 12:30:16.688103'),\n    1: Timestamp('2023-06-21 12:30:16.708103'),\n    2: Timestamp('2023-06-21 12:30:16.728103'),\n    3: Timestamp('2023-06-21 12:30:16.748103')},\n   'velocity': {0: 29.0, 1: 30.0, 2: 31.0, 3: 32.0}},\n  'reward': {'timestep': {0: Timestamp('2023-06-21 12:30:11.788103')},\n   'work': {0: 27.0}},\n  'state': {'brake': {0: 8.0, 1: 9.0, 2: 10.0, 3: 11.0},\n   'thrust': {0: 4.0, 1: 5.0, 2: 6.0, 3: 7.0},\n   'timestep': {0: Timestamp('2023-06-21 12:30:11.688103'),\n    1: Timestamp('2023-06-21 12:30:11.708103'),\n    2: Timestamp('2023-06-21 12:30:11.728103'),\n    3: Timestamp('2023-06-21 12:30:11.748103')},\n   'velocity': {0: 0.0, 1: 1.0, 2: 2.0, 3: 3.0}}},\n {'action': {'r0': {0: 12.0, 1: 13.0, 2: 14.0, 3: 15.0, 4: 16.0},\n   'r1': {0: 17.0, 1: 18.0, 2: 19.0, 3: 20.0, 4: 21.0},\n   'r2': {0: 22.0, 1: 23.0, 2: 24.0, 3: 25.0, 4: 26.0},\n   'speed': {0: 40.0, 1: 50.0, 2: 60.0},\n   'throttle': {0: 0.0, 1: 0.25, 2: 0.5, 3: 0.75, 4: 1.0},\n   'timestep': {0: Timestamp('2023-06-21 12:30:11.788103'),\n    1: Timestamp('2023-06-21 12:30:11.808103'),\n    2: Timestamp('2023-06-21 12:30:11.828103')}},\n  'nstate': {'brake': {0: 37.0, 1: 38.0, 2: 39.0, 3: 40.0},\n   'thrust': {0: 33.0, 1: 34.0, 2: 35.0, 3: 36.0},\n   'timestep': {0: Timestamp('2023-06-21 12:30:16.688103'),\n    1: Timestamp('2023-06-21 12:30:16.708103'),\n    2: Timestamp('2023-06-21 12:30:16.728103'),\n    3: Timestamp('2023-06-21 12:30:16.748103')},\n   'velocity': {0: 29.0, 1: 30.0, 2: 31.0, 3: 32.0}},\n  'reward': {'timestep': {0: Timestamp('2023-06-21 12:30:11.788103')},\n   'work': {0: 27.0}},\n  'state': {'brake': {0: 8.0, 1: 9.0, 2: 10.0, 3: 11.0},\n   'thrust': {0: 4.0, 1: 5.0, 2: 6.0, 3: 7.0},\n   'timestep': {0: Timestamp('2023-06-21 12:30:11.688103'),\n    1: Timestamp('2023-06-21 12:30:11.708103'),\n    2: Timestamp('2023-06-21 12:30:11.728103'),\n    3: Timestamp('2023-06-21 12:30:11.748103')},\n   'velocity': {0: 0.0, 1: 1.0, 2: 2.0, 3: 3.0}}},\n {'action': {'r0': {0: 12.0, 1: 13.0, 2: 14.0, 3: 15.0, 4: 16.0},\n   'r1': {0: 17.0, 1: 18.0, 2: 19.0, 3: 20.0, 4: 21.0},\n   'r2': {0: 22.0, 1: 23.0, 2: 24.0, 3: 25.0, 4: 26.0},\n   'speed': {0: 40.0, 1: 50.0, 2: 60.0},\n   'throttle': {0: 0.0, 1: 0.25, 2: 0.5, 3: 0.75, 4: 1.0},\n   'timestep': {0: Timestamp('2023-06-21 12:30:11.788103'),\n    1: Timestamp('2023-06-21 12:30:11.808103'),\n    2: Timestamp('2023-06-21 12:30:11.828103')}},\n  'nstate': {'brake': {0: 37.0, 1: 38.0, 2: 39.0, 3: 40.0},\n   'thrust': {0: 33.0, 1: 34.0, 2: 35.0, 3: 36.0},\n   'timestep': {0: Timestamp('2023-06-21 12:30:16.688103'),\n    1: Timestamp('2023-06-21 12:30:16.708103'),\n    2: Timestamp('2023-06-21 12:30:16.728103'),\n    3: Timestamp('2023-06-21 12:30:16.748103')},\n   'velocity': {0: 29.0, 1: 30.0, 2: 31.0, 3: 32.0}},\n  'reward': {'timestep': {0: Timestamp('2023-06-21 12:30:11.788103')},\n   'work': {0: 27.0}},\n  'state': {'brake': {0: 8.0, 1: 9.0, 2: 10.0, 3: 11.0},\n   'thrust': {0: 4.0, 1: 5.0, 2: 6.0, 3: 7.0},\n   'timestep': {0: Timestamp('2023-06-21 12:30:11.688103'),\n    1: Timestamp('2023-06-21 12:30:11.708103'),\n    2: Timestamp('2023-06-21 12:30:11.728103'),\n    3: Timestamp('2023-06-21 12:30:11.748103')},\n   'velocity': {0: 0.0, 1: 1.0, 2: 2.0, 3: 3.0}}},\n {'action': {'r0': {0: 12.0, 1: 13.0, 2: 14.0, 3: 15.0, 4: 16.0},\n   'r1': {0: 17.0, 1: 18.0, 2: 19.0, 3: 20.0, 4: 21.0},\n   'r2': {0: 22.0, 1: 23.0, 2: 24.0, 3: 25.0, 4: 26.0},\n   'speed': {0: 40.0, 1: 50.0, 2: 60.0},\n   'throttle': {0: 0.0, 1: 0.25, 2: 0.5, 3: 0.75, 4: 1.0},\n   'timestep': {0: Timestamp('2023-06-21 12:30:11.788103'),\n    1: Timestamp('2023-06-21 12:30:11.808103'),\n    2: Timestamp('2023-06-21 12:30:11.828103')}},\n  'nstate': {'brake': {0: 37.0, 1: 38.0, 2: 39.0, 3: 40.0},\n   'thrust': {0: 33.0, 1: 34.0, 2: 35.0, 3: 36.0},\n   'timestep': {0: Timestamp('2023-06-21 12:30:16.688103'),\n    1: Timestamp('2023-06-21 12:30:16.708103'),\n    2: Timestamp('2023-06-21 12:30:16.728103'),\n    3: Timestamp('2023-06-21 12:30:16.748103')},\n   'velocity': {0: 29.0, 1: 30.0, 2: 31.0, 3: 32.0}},\n  'reward': {'timestep': {0: Timestamp('2023-06-21 12:30:11.788103')},\n   'work': {0: 27.0}},\n  'state': {'brake': {0: 8.0, 1: 9.0, 2: 10.0, 3: 11.0},\n   'thrust': {0: 4.0, 1: 5.0, 2: 6.0, 3: 7.0},\n   'timestep': {0: Timestamp('2023-06-21 12:30:11.688103'),\n    1: Timestamp('2023-06-21 12:30:11.708103'),\n    2: Timestamp('2023-06-21 12:30:11.728103'),\n    3: Timestamp('2023-06-21 12:30:11.748103')},\n   'velocity': {0: 0.0, 1: 1.0, 2: 2.0, 3: 3.0}}}]"
     },
     "execution_count": 99,
     "metadata": {},
     "output_type": "execute_result"
    }
   ],
   "source": [
    "dict_observations = [\n",
    "    {key: value for key, value in row.items()} for row in df_rows['observation']\n",
    "]\n",
    "dict_observations"
   ],
   "metadata": {
    "collapsed": false,
    "ExecuteTime": {
     "end_time": "2023-06-21T06:25:42.793336648Z",
     "start_time": "2023-06-21T06:25:42.750381802Z"
    }
   }
  },
  {
   "cell_type": "code",
   "execution_count": 190,
   "outputs": [
    {
     "data": {
      "text/plain": "tuple                                  action                             \\\nrows                                       r0                         r1   \nspeed                                    40.0                       50.0   \ntimestep           2023-06-21 12:30:11.788103 2023-06-21 12:30:11.808103   \n(action, throttle)                                                         \n0.0                                      12.0                       17.0   \n0.25                                     13.0                       18.0   \n0.5                                      14.0                       19.0   \n0.75                                     15.0                       20.0   \n1.0                                      16.0                       21.0   \n\ntuple                                          \nrows                                       r2  \nspeed                                    60.0  \ntimestep           2023-06-21 12:30:11.828103  \n(action, throttle)                             \n0.0                                      22.0  \n0.25                                     23.0  \n0.5                                      24.0  \n0.75                                     25.0  \n1.0                                      26.0  ",
      "text/html": "<div>\n<style scoped>\n    .dataframe tbody tr th:only-of-type {\n        vertical-align: middle;\n    }\n\n    .dataframe tbody tr th {\n        vertical-align: top;\n    }\n\n    .dataframe thead tr th {\n        text-align: left;\n    }\n\n    .dataframe thead tr:last-of-type th {\n        text-align: right;\n    }\n</style>\n<table border=\"1\" class=\"dataframe\">\n  <thead>\n    <tr>\n      <th>tuple</th>\n      <th colspan=\"3\" halign=\"left\">action</th>\n    </tr>\n    <tr>\n      <th>rows</th>\n      <th>r0</th>\n      <th>r1</th>\n      <th>r2</th>\n    </tr>\n    <tr>\n      <th>speed</th>\n      <th>40.0</th>\n      <th>50.0</th>\n      <th>60.0</th>\n    </tr>\n    <tr>\n      <th>timestep</th>\n      <th>2023-06-21 12:30:11.788103</th>\n      <th>2023-06-21 12:30:11.808103</th>\n      <th>2023-06-21 12:30:11.828103</th>\n    </tr>\n    <tr>\n      <th>(action, throttle)</th>\n      <th></th>\n      <th></th>\n      <th></th>\n    </tr>\n  </thead>\n  <tbody>\n    <tr>\n      <th>0.0</th>\n      <td>12.0</td>\n      <td>17.0</td>\n      <td>22.0</td>\n    </tr>\n    <tr>\n      <th>0.25</th>\n      <td>13.0</td>\n      <td>18.0</td>\n      <td>23.0</td>\n    </tr>\n    <tr>\n      <th>0.5</th>\n      <td>14.0</td>\n      <td>19.0</td>\n      <td>24.0</td>\n    </tr>\n    <tr>\n      <th>0.75</th>\n      <td>15.0</td>\n      <td>20.0</td>\n      <td>25.0</td>\n    </tr>\n    <tr>\n      <th>1.0</th>\n      <td>16.0</td>\n      <td>21.0</td>\n      <td>26.0</td>\n    </tr>\n  </tbody>\n</table>\n</div>"
     },
     "execution_count": 190,
     "metadata": {},
     "output_type": "execute_result"
    },
    {
     "data": {
      "text/plain": "array([12.0, 17.0, 22.0, 13.0, 18.0, 23.0, 14.0, 19.0, 24.0, 15.0, 20.0,\n       25.0, 16.0, 21.0, 26.0], dtype=object)"
     },
     "execution_count": 190,
     "metadata": {},
     "output_type": "execute_result"
    },
    {
     "data": {
      "text/plain": "                           state                \n                           brake thrust velocity\n(state, timestep)                               \n2023-06-21 12:30:11.688103   8.0    4.0      0.0\n2023-06-21 12:30:11.708103   9.0    5.0      1.0\n2023-06-21 12:30:11.728103  10.0    6.0      2.0\n2023-06-21 12:30:11.748103  11.0    7.0      3.0",
      "text/html": "<div>\n<style scoped>\n    .dataframe tbody tr th:only-of-type {\n        vertical-align: middle;\n    }\n\n    .dataframe tbody tr th {\n        vertical-align: top;\n    }\n\n    .dataframe thead tr th {\n        text-align: left;\n    }\n\n    .dataframe thead tr:last-of-type th {\n        text-align: right;\n    }\n</style>\n<table border=\"1\" class=\"dataframe\">\n  <thead>\n    <tr>\n      <th></th>\n      <th colspan=\"3\" halign=\"left\">state</th>\n    </tr>\n    <tr>\n      <th></th>\n      <th>brake</th>\n      <th>thrust</th>\n      <th>velocity</th>\n    </tr>\n    <tr>\n      <th>(state, timestep)</th>\n      <th></th>\n      <th></th>\n      <th></th>\n    </tr>\n  </thead>\n  <tbody>\n    <tr>\n      <th>2023-06-21 12:30:11.688103</th>\n      <td>8.0</td>\n      <td>4.0</td>\n      <td>0.0</td>\n    </tr>\n    <tr>\n      <th>2023-06-21 12:30:11.708103</th>\n      <td>9.0</td>\n      <td>5.0</td>\n      <td>1.0</td>\n    </tr>\n    <tr>\n      <th>2023-06-21 12:30:11.728103</th>\n      <td>10.0</td>\n      <td>6.0</td>\n      <td>2.0</td>\n    </tr>\n    <tr>\n      <th>2023-06-21 12:30:11.748103</th>\n      <td>11.0</td>\n      <td>7.0</td>\n      <td>3.0</td>\n    </tr>\n  </tbody>\n</table>\n</div>"
     },
     "execution_count": 190,
     "metadata": {},
     "output_type": "execute_result"
    },
    {
     "data": {
      "text/plain": "array([[8.0, 4.0, 0.0],\n       [9.0, 5.0, 1.0],\n       [10.0, 6.0, 2.0],\n       [11.0, 7.0, 3.0]], dtype=object)"
     },
     "execution_count": 190,
     "metadata": {},
     "output_type": "execute_result"
    },
    {
     "data": {
      "text/plain": "                           nstate                \n                            brake thrust velocity\n(nstate, timestep)                               \n2023-06-21 12:30:16.688103   37.0   33.0     29.0\n2023-06-21 12:30:16.708103   38.0   34.0     30.0\n2023-06-21 12:30:16.728103   39.0   35.0     31.0\n2023-06-21 12:30:16.748103   40.0   36.0     32.0",
      "text/html": "<div>\n<style scoped>\n    .dataframe tbody tr th:only-of-type {\n        vertical-align: middle;\n    }\n\n    .dataframe tbody tr th {\n        vertical-align: top;\n    }\n\n    .dataframe thead tr th {\n        text-align: left;\n    }\n\n    .dataframe thead tr:last-of-type th {\n        text-align: right;\n    }\n</style>\n<table border=\"1\" class=\"dataframe\">\n  <thead>\n    <tr>\n      <th></th>\n      <th colspan=\"3\" halign=\"left\">nstate</th>\n    </tr>\n    <tr>\n      <th></th>\n      <th>brake</th>\n      <th>thrust</th>\n      <th>velocity</th>\n    </tr>\n    <tr>\n      <th>(nstate, timestep)</th>\n      <th></th>\n      <th></th>\n      <th></th>\n    </tr>\n  </thead>\n  <tbody>\n    <tr>\n      <th>2023-06-21 12:30:16.688103</th>\n      <td>37.0</td>\n      <td>33.0</td>\n      <td>29.0</td>\n    </tr>\n    <tr>\n      <th>2023-06-21 12:30:16.708103</th>\n      <td>38.0</td>\n      <td>34.0</td>\n      <td>30.0</td>\n    </tr>\n    <tr>\n      <th>2023-06-21 12:30:16.728103</th>\n      <td>39.0</td>\n      <td>35.0</td>\n      <td>31.0</td>\n    </tr>\n    <tr>\n      <th>2023-06-21 12:30:16.748103</th>\n      <td>40.0</td>\n      <td>36.0</td>\n      <td>32.0</td>\n    </tr>\n  </tbody>\n</table>\n</div>"
     },
     "execution_count": 190,
     "metadata": {},
     "output_type": "execute_result"
    },
    {
     "data": {
      "text/plain": "2023-06-21 12:30:11.788103    27.0\nName: work, dtype: float64"
     },
     "execution_count": 190,
     "metadata": {},
     "output_type": "execute_result"
    }
   ],
   "source": [
    "dict_observations = {\n",
    "    (key1, key2, key3): value\n",
    "    for row in df_rows['observation']\n",
    "    for key1, row1 in row.items()\n",
    "    for key2, row2 in row1.items()\n",
    "    for key3, value in row2.items()\n",
    "}\n",
    "\n",
    "ser_decoded = pd.Series(dict_observations)\n",
    "ser_action = ser_decoded.loc[('action', ['r0', 'r1', 'r2', 'throttle'])]\n",
    "df_action = ser_action.unstack(level=[0, 1]).set_index(('action', 'throttle'))\n",
    "action_timestep = ser_decoded.loc[('action', 'timestep')]\n",
    "action_speed = ser_decoded.loc[('action', 'speed')]\n",
    "\n",
    "action_multicol = [\n",
    "    (*column, speed, timestep)\n",
    "    for column, timestep, speed in zip(df_action.columns, action_timestep, action_speed)\n",
    "]\n",
    "df_action.columns = pd.MultiIndex.from_tuples(\n",
    "    action_multicol, names=['tuple', 'rows', 'speed', 'timestep']\n",
    ")\n",
    "df_action\n",
    "df_action.values.flatten()\n",
    "\n",
    "ser_state = ser_decoded.loc[('state', ['brake', 'thrust', 'velocity', 'timestep'])]\n",
    "# ser_state\n",
    "df_state = ser_state.unstack(level=[0, 1]).set_index(('state', 'timestep'))\n",
    "df_state\n",
    "\n",
    "df_state.values\n",
    "\n",
    "ser_nstate = ser_decoded.loc[('nstate', ['brake', 'thrust', 'velocity', 'timestep'])]\n",
    "# ser_state\n",
    "df_nstate = ser_nstate.unstack(level=[0, 1]).set_index(('nstate', 'timestep'))\n",
    "df_nstate\n",
    "\n",
    "ser_reward = ser_decoded.loc[('reward', ['work', 'timestep'])]\n",
    "ser_reward = pd.Series(\n",
    "    data=[ser_reward[('reward', 'work', 0)]],\n",
    "    index=[ser_reward[('reward', 'timestep', 0)]],\n",
    "    name='work',\n",
    ")\n",
    "ser_reward\n"
   ],
   "metadata": {
    "collapsed": false,
    "ExecuteTime": {
     "end_time": "2023-06-21T07:49:57.879098488Z",
     "start_time": "2023-06-21T07:49:57.836809569Z"
    }
   }
  },
  {
   "cell_type": "code",
   "execution_count": 199,
   "outputs": [
    {
     "data": {
      "text/plain": "27.0"
     },
     "execution_count": 199,
     "metadata": {},
     "output_type": "execute_result"
    }
   ],
   "source": [
    "ser_reward.values[0]\n"
   ],
   "metadata": {
    "collapsed": false,
    "ExecuteTime": {
     "end_time": "2023-06-21T09:05:09.950891722Z",
     "start_time": "2023-06-21T09:05:09.908433146Z"
    }
   }
  }
 ],
 "metadata": {
  "kernelspec": {
   "display_name": "datascience-dask",
   "language": "python",
   "name": "python3"
  },
  "language_info": {
   "codemirror_mode": {
    "name": "ipython",
    "version": 3
   },
   "file_extension": ".py",
   "mimetype": "text/x-python",
   "name": "python",
   "nbconvert_exporter": "python",
   "pygments_lexer": "ipython3",
   "version": "3.10.11"
  },
  "orig_nbformat": 4
 },
 "nbformat": 4,
 "nbformat_minor": 2
}
