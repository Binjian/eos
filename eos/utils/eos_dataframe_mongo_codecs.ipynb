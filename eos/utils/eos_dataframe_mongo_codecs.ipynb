{
 "cells": [
  {
   "cell_type": "code",
   "execution_count": 1,
   "metadata": {
    "ExecuteTime": {
     "end_time": "2023-08-04T03:23:01.475689922Z",
     "start_time": "2023-08-04T03:22:46.258365360Z"
    }
   },
   "outputs": [],
   "source": [
    "\n",
    "from IPython.core.interactiveshell import InteractiveShell\n",
    "\n",
    "InteractiveShell.ast_node_interactivity = \"all\"\n",
    "\n",
    "\n",
    "class display(object):\n",
    "    \"\"\"Display HTML representation of multiple objects\"\"\"\n",
    "\n",
    "    template = \"\"\"<div style=\"float: left; padding: 10px;\">\n",
    "    <p style='font-family:\"Courier New\", Courier, monospace'>{0}</p>{1}\n",
    "    </div>\"\"\"\n",
    "\n",
    "    def __init__(self, *args):\n",
    "        self.args = args\n",
    "\n",
    "    def _repr_html_(self):\n",
    "        return '\\n'.join(\n",
    "            self.template.format(a, eval(a)._repr_html_()) for a in self.args\n",
    "        )\n",
    "\n",
    "    def __repr__(self):\n",
    "        return '\\n\\n'.join(a + '\\n' + repr(eval(a)) for a in self.args)\n",
    "\n"
   ]
  },
  {
   "cell_type": "code",
   "execution_count": 2,
   "metadata": {
    "ExecuteTime": {
     "end_time": "2023-08-04T03:23:01.481340797Z",
     "start_time": "2023-08-04T03:22:46.260977739Z"
    }
   },
   "outputs": [
    {
     "data": {
      "text/plain": "array([[1, 2, 3],\n       [4, 5, 6]])"
     },
     "execution_count": 2,
     "metadata": {},
     "output_type": "execute_result"
    },
    {
     "data": {
      "text/plain": "array([1, 2, 3, 4, 5, 6])"
     },
     "execution_count": 2,
     "metadata": {},
     "output_type": "execute_result"
    },
    {
     "data": {
      "text/plain": "array([1, 4, 2, 5, 3, 6])"
     },
     "execution_count": 2,
     "metadata": {},
     "output_type": "execute_result"
    }
   ],
   "source": [
    "import numpy as np\n",
    "\n",
    "a = np.array([[1, 2, 3], [4, 5, 6]])\n",
    "a\n",
    "\n",
    "b = a.flatten()\n",
    "b\n",
    "c = a.flatten('F')\n",
    "c"
   ]
  },
  {
   "cell_type": "code",
   "execution_count": 3,
   "metadata": {
    "ExecuteTime": {
     "end_time": "2023-08-04T03:23:01.652846454Z",
     "start_time": "2023-08-04T03:22:46.333390313Z"
    }
   },
   "outputs": [
    {
     "name": "stderr",
     "output_type": "stream",
     "text": [
      "2023-08-04 11:22:47.008628: I tensorflow/tsl/cuda/cudart_stub.cc:28] Could not find cuda drivers on your machine, GPU will not be used.\n",
      "2023-08-04 11:22:47.044332: I tensorflow/tsl/cuda/cudart_stub.cc:28] Could not find cuda drivers on your machine, GPU will not be used.\n",
      "2023-08-04 11:22:47.045042: I tensorflow/core/platform/cpu_feature_guard.cc:182] This TensorFlow binary is optimized to use available CPU instructions in performance-critical operations.\n",
      "To enable the following instructions: AVX2 FMA, in other operations, rebuild TensorFlow with the appropriate compiler flags.\n"
     ]
    }
   ],
   "source": [
    "# from dataclasses import dataclass, field\n",
    "# from typing import Optional\n",
    "# import pandas as pd\n",
    "# import numpy as np\n",
    "# from ordered_set import OrderedSet\n",
    "from eos.data_io.config import drivers, trucks_by_id, drivers_by_id\n",
    "\n",
    "# DriverSet = OrderedSet(\n",
    "#     [\n",
    "#         'wang-cheng',\n",
    "#         'li-changlong',\n",
    "#         'chen-hongmei',\n",
    "#         'zheng-longfei',\n",
    "#     ]\n",
    "# )\n",
    "# DriverSet[0]\n",
    "# DriverSet.get_loc('wang-cheng')\n",
    "# DriverSet\n"
   ]
  },
  {
   "cell_type": "code",
   "execution_count": 4,
   "outputs": [],
   "source": [
    "from eos.data_io.struct import StateSpecsCloud, StateSpecsField\n"
   ],
   "metadata": {
    "collapsed": false,
    "ExecuteTime": {
     "end_time": "2023-08-04T03:23:01.653030620Z",
     "start_time": "2023-08-04T03:22:49.003662105Z"
    }
   }
  },
  {
   "cell_type": "code",
   "execution_count": 5,
   "outputs": [
    {
     "name": "stdout",
     "output_type": "stream",
     "text": [
      "{'state_unit_codes': StateUnitCodes(velocity_unit_code='kph', thrust_unit_code='pct', brake_unit_code='pct'), 'state_number': 3, 'unit_number_per_state': 200, 'unit_duration': 4, 'frequency': 50, 'cloud_interface': CloudMixin(cloud_signal_frequency=50, cloud_gear_frequency=2, cloud_unit_duration=1, cloud_unit_number=4)}\n",
      "{'state_unit_codes': StateUnitCodes(velocity_unit_code='kph', thrust_unit_code='pct', brake_unit_code='pct'), 'state_number': 3, 'unit_number_per_state': 30, 'unit_duration': 1.5, 'frequency': 20, 'field_interface': FieldMixin(field_observation_number=30, field_observation_frequency=20, field_countdown=3)}\n"
     ]
    }
   ],
   "source": [
    "from dataclasses import asdict\n",
    "state_specs = StateSpecsCloud()\n",
    "print(asdict(state_specs))\n",
    "\n",
    "state_specs = StateSpecsField()\n",
    "print(asdict(state_specs))\n",
    "\n"
   ],
   "metadata": {
    "collapsed": false,
    "ExecuteTime": {
     "end_time": "2023-08-04T03:23:01.653305877Z",
     "start_time": "2023-08-04T03:22:49.006885210Z"
    }
   }
  },
  {
   "cell_type": "code",
   "execution_count": 6,
   "metadata": {
    "ExecuteTime": {
     "end_time": "2023-08-04T03:23:01.653885146Z",
     "start_time": "2023-08-04T03:22:49.014203439Z"
    }
   },
   "outputs": [
    {
     "data": {
      "text/plain": "DatetimeIndex(['2023-08-04 11:22:49.017377', '2023-08-04 12:22:49.017377'], dtype='datetime64[ns]', freq=None)"
     },
     "execution_count": 6,
     "metadata": {},
     "output_type": "execute_result"
    },
    {
     "data": {
      "text/plain": "                            c1  c2  c3\n2023-08-04 11:22:49.017377   1   2   3\n2023-08-04 12:22:49.017377   4   5   6",
      "text/html": "<div>\n<style scoped>\n    .dataframe tbody tr th:only-of-type {\n        vertical-align: middle;\n    }\n\n    .dataframe tbody tr th {\n        vertical-align: top;\n    }\n\n    .dataframe thead th {\n        text-align: right;\n    }\n</style>\n<table border=\"1\" class=\"dataframe\">\n  <thead>\n    <tr style=\"text-align: right;\">\n      <th></th>\n      <th>c1</th>\n      <th>c2</th>\n      <th>c3</th>\n    </tr>\n  </thead>\n  <tbody>\n    <tr>\n      <th>2023-08-04 11:22:49.017377</th>\n      <td>1</td>\n      <td>2</td>\n      <td>3</td>\n    </tr>\n    <tr>\n      <th>2023-08-04 12:22:49.017377</th>\n      <td>4</td>\n      <td>5</td>\n      <td>6</td>\n    </tr>\n  </tbody>\n</table>\n</div>"
     },
     "execution_count": 6,
     "metadata": {},
     "output_type": "execute_result"
    },
    {
     "data": {
      "text/plain": "Timestamp('2023-08-04 11:22:49.017377')"
     },
     "execution_count": 6,
     "metadata": {},
     "output_type": "execute_result"
    }
   ],
   "source": [
    "import pandas as pd\n",
    "import numpy as np\n",
    "from datetime import datetime\n",
    "\n",
    "ts = pd.to_datetime(datetime.now())\n",
    "ts_ind = ts + pd.to_timedelta(np.arange(2), 'H')\n",
    "ts_ind\n",
    "df = pd.DataFrame(a, index=ts_ind, columns=['c1', 'c2', 'c3'])\n",
    "df\n",
    "df.index[0]\n"
   ]
  },
  {
   "cell_type": "code",
   "execution_count": 7,
   "metadata": {
    "ExecuteTime": {
     "end_time": "2023-08-04T03:23:01.654677474Z",
     "start_time": "2023-08-04T03:22:49.027164552Z"
    }
   },
   "outputs": [
    {
     "data": {
      "text/plain": "Timestamp('2023-08-04 11:22:49.017377')"
     },
     "execution_count": 7,
     "metadata": {},
     "output_type": "execute_result"
    },
    {
     "data": {
      "text/plain": "Timestamp('2023-08-04 11:22:49.029354')"
     },
     "execution_count": 7,
     "metadata": {},
     "output_type": "execute_result"
    },
    {
     "data": {
      "text/plain": "Timedelta('0 days 00:00:00.011977')"
     },
     "execution_count": 7,
     "metadata": {},
     "output_type": "execute_result"
    },
    {
     "data": {
      "text/plain": "Timedelta('0 days 00:00:00.002994250')"
     },
     "execution_count": 7,
     "metadata": {},
     "output_type": "execute_result"
    },
    {
     "data": {
      "text/plain": "array([0., 1., 2., 3., 4.])"
     },
     "execution_count": 7,
     "metadata": {},
     "output_type": "execute_result"
    },
    {
     "data": {
      "text/plain": "DatetimeIndex(['2023-08-04 11:22:49.020371250',\n               '2023-08-04 11:22:49.023365500',\n               '2023-08-04 11:22:49.026359750',\n                  '2023-08-04 11:22:49.029354'],\n              dtype='datetime64[ns]', freq=None)"
     },
     "execution_count": 7,
     "metadata": {},
     "output_type": "execute_result"
    }
   ],
   "source": [
    "ts\n",
    "ts_end = pd.to_datetime(datetime.now())\n",
    "ts_end\n",
    "span = ts_end - ts\n",
    "span\n",
    "span_each_row = span / 4\n",
    "span_each_row\n",
    "np.linspace(0, 4, 5)\n",
    "ts_ser = ts + pd.to_timedelta(np.linspace(1, 4, 4) * span_each_row, unit='s')\n",
    "ts_ser\n"
   ]
  },
  {
   "cell_type": "code",
   "execution_count": 8,
   "metadata": {
    "ExecuteTime": {
     "end_time": "2023-08-04T03:23:01.655003587Z",
     "start_time": "2023-08-04T03:22:49.068825195Z"
    }
   },
   "outputs": [
    {
     "data": {
      "text/plain": "                   timestamp\n0 2023-08-04 11:22:49.017377",
      "text/html": "<div>\n<style scoped>\n    .dataframe tbody tr th:only-of-type {\n        vertical-align: middle;\n    }\n\n    .dataframe tbody tr th {\n        vertical-align: top;\n    }\n\n    .dataframe thead th {\n        text-align: right;\n    }\n</style>\n<table border=\"1\" class=\"dataframe\">\n  <thead>\n    <tr style=\"text-align: right;\">\n      <th></th>\n      <th>timestamp</th>\n    </tr>\n  </thead>\n  <tbody>\n    <tr>\n      <th>0</th>\n      <td>2023-08-04 11:22:49.017377</td>\n    </tr>\n  </tbody>\n</table>\n</div>"
     },
     "execution_count": 8,
     "metadata": {},
     "output_type": "execute_result"
    }
   ],
   "source": [
    "df_ts = pd.DataFrame(np.array([ts]), columns=['timestamp'])\n",
    "df_ts"
   ]
  },
  {
   "cell_type": "code",
   "execution_count": 9,
   "metadata": {
    "ExecuteTime": {
     "end_time": "2023-08-04T03:23:01.655315413Z",
     "start_time": "2023-08-04T03:22:49.068989294Z"
    }
   },
   "outputs": [
    {
     "data": {
      "text/plain": "array([0, 1, 2, 3, 4, 5, 6, 7, 8, 9])"
     },
     "execution_count": 9,
     "metadata": {},
     "output_type": "execute_result"
    }
   ],
   "source": [
    "s = np.arange(10)\n",
    "s"
   ]
  },
  {
   "cell_type": "markdown",
   "metadata": {},
   "source": [
    "### Generate state"
   ]
  },
  {
   "cell_type": "code",
   "execution_count": 10,
   "metadata": {
    "ExecuteTime": {
     "end_time": "2023-08-04T03:23:01.655747064Z",
     "start_time": "2023-08-04T03:22:49.069100202Z"
    }
   },
   "outputs": [
    {
     "data": {
      "text/plain": "[[0, 1, 2, 3], [4, 5, 6, 7], [8, 9, 10, 11]]"
     },
     "execution_count": 10,
     "metadata": {},
     "output_type": "execute_result"
    },
    {
     "data": {
      "text/plain": "   t  v   p   b\n0  0  1   2   3\n1  4  5   6   7\n2  8  9  10  11",
      "text/html": "<div>\n<style scoped>\n    .dataframe tbody tr th:only-of-type {\n        vertical-align: middle;\n    }\n\n    .dataframe tbody tr th {\n        vertical-align: top;\n    }\n\n    .dataframe thead th {\n        text-align: right;\n    }\n</style>\n<table border=\"1\" class=\"dataframe\">\n  <thead>\n    <tr style=\"text-align: right;\">\n      <th></th>\n      <th>t</th>\n      <th>v</th>\n      <th>p</th>\n      <th>b</th>\n    </tr>\n  </thead>\n  <tbody>\n    <tr>\n      <th>0</th>\n      <td>0</td>\n      <td>1</td>\n      <td>2</td>\n      <td>3</td>\n    </tr>\n    <tr>\n      <th>1</th>\n      <td>4</td>\n      <td>5</td>\n      <td>6</td>\n      <td>7</td>\n    </tr>\n    <tr>\n      <th>2</th>\n      <td>8</td>\n      <td>9</td>\n      <td>10</td>\n      <td>11</td>\n    </tr>\n  </tbody>\n</table>\n</div>"
     },
     "execution_count": 10,
     "metadata": {},
     "output_type": "execute_result"
    }
   ],
   "source": [
    "ss = np.arange(12)\n",
    "a1 = ss[:4].tolist()\n",
    "a2 = ss[4:8].tolist()\n",
    "a3 = ss[8:].tolist()\n",
    "ss = [a1, a2, a3]\n",
    "ss\n",
    "df_s = pd.DataFrame(ss, columns=['t', 'v', 'p', 'b'])  # .set_index('t')\n",
    "df_s"
   ]
  },
  {
   "cell_type": "code",
   "execution_count": 11,
   "metadata": {
    "ExecuteTime": {
     "end_time": "2023-08-04T03:23:01.655994238Z",
     "start_time": "2023-08-04T03:22:49.069302292Z"
    }
   },
   "outputs": [
    {
     "data": {
      "text/plain": "array([ 0, 20, 40, 60])"
     },
     "execution_count": 11,
     "metadata": {},
     "output_type": "execute_result"
    }
   ],
   "source": [
    "np.arange(0, 4 * 20, 20)"
   ]
  },
  {
   "cell_type": "code",
   "execution_count": 12,
   "metadata": {
    "ExecuteTime": {
     "end_time": "2023-08-04T03:23:01.656570301Z",
     "start_time": "2023-08-04T03:22:49.112729957Z"
    }
   },
   "outputs": [
    {
     "data": {
      "text/plain": "DatetimeIndex(['2023-08-04 11:22:49.017377', '2023-08-04 11:22:49.037377',\n               '2023-08-04 11:22:49.057377', '2023-08-04 11:22:49.077377'],\n              dtype='datetime64[ns]', freq=None)"
     },
     "execution_count": 12,
     "metadata": {},
     "output_type": "execute_result"
    },
    {
     "data": {
      "text/plain": "qtuple                   timestep  velocity  thrust  brake\n0      2023-08-04 11:22:49.017377         0       4      8\n1      2023-08-04 11:22:49.037377         1       5      9\n2      2023-08-04 11:22:49.057377         2       6     10\n3      2023-08-04 11:22:49.077377         3       7     11",
      "text/html": "<div>\n<style scoped>\n    .dataframe tbody tr th:only-of-type {\n        vertical-align: middle;\n    }\n\n    .dataframe tbody tr th {\n        vertical-align: top;\n    }\n\n    .dataframe thead th {\n        text-align: right;\n    }\n</style>\n<table border=\"1\" class=\"dataframe\">\n  <thead>\n    <tr style=\"text-align: right;\">\n      <th>qtuple</th>\n      <th>timestep</th>\n      <th>velocity</th>\n      <th>thrust</th>\n      <th>brake</th>\n    </tr>\n  </thead>\n  <tbody>\n    <tr>\n      <th>0</th>\n      <td>2023-08-04 11:22:49.017377</td>\n      <td>0</td>\n      <td>4</td>\n      <td>8</td>\n    </tr>\n    <tr>\n      <th>1</th>\n      <td>2023-08-04 11:22:49.037377</td>\n      <td>1</td>\n      <td>5</td>\n      <td>9</td>\n    </tr>\n    <tr>\n      <th>2</th>\n      <td>2023-08-04 11:22:49.057377</td>\n      <td>2</td>\n      <td>6</td>\n      <td>10</td>\n    </tr>\n    <tr>\n      <th>3</th>\n      <td>2023-08-04 11:22:49.077377</td>\n      <td>3</td>\n      <td>7</td>\n      <td>11</td>\n    </tr>\n  </tbody>\n</table>\n</div>"
     },
     "execution_count": 12,
     "metadata": {},
     "output_type": "execute_result"
    },
    {
     "data": {
      "text/plain": "qtuple  velocity  thrust  brake\n0              0       4      8\n1              1       5      9\n2              2       6     10\n3              3       7     11",
      "text/html": "<div>\n<style scoped>\n    .dataframe tbody tr th:only-of-type {\n        vertical-align: middle;\n    }\n\n    .dataframe tbody tr th {\n        vertical-align: top;\n    }\n\n    .dataframe thead th {\n        text-align: right;\n    }\n</style>\n<table border=\"1\" class=\"dataframe\">\n  <thead>\n    <tr style=\"text-align: right;\">\n      <th>qtuple</th>\n      <th>velocity</th>\n      <th>thrust</th>\n      <th>brake</th>\n    </tr>\n  </thead>\n  <tbody>\n    <tr>\n      <th>0</th>\n      <td>0</td>\n      <td>4</td>\n      <td>8</td>\n    </tr>\n    <tr>\n      <th>1</th>\n      <td>1</td>\n      <td>5</td>\n      <td>9</td>\n    </tr>\n    <tr>\n      <th>2</th>\n      <td>2</td>\n      <td>6</td>\n      <td>10</td>\n    </tr>\n    <tr>\n      <th>3</th>\n      <td>3</td>\n      <td>7</td>\n      <td>11</td>\n    </tr>\n  </tbody>\n</table>\n</div>"
     },
     "execution_count": 12,
     "metadata": {},
     "output_type": "execute_result"
    }
   ],
   "source": [
    "ts_ind = ts + pd.to_timedelta(np.arange(0, 4 * 20, 20), 'ms')\n",
    "ts_ind\n",
    "ss = np.arange(12)\n",
    "a1 = ss[:4]\n",
    "a2 = ss[4:8]\n",
    "a3 = ss[8:]\n",
    "df_ss = pd.DataFrame(\n",
    "    {'timestep': ts_ind, 'velocity': a1, 'thrust': a2, 'brake': a3}\n",
    ")  # .set_index('timestep')\n",
    "df_ss.columns.name = 'qtuple'\n",
    "df_ss\n",
    "df_ss[['velocity', 'thrust', 'brake']]"
   ]
  },
  {
   "cell_type": "code",
   "execution_count": 13,
   "metadata": {
    "ExecuteTime": {
     "end_time": "2023-08-04T03:23:01.656855296Z",
     "start_time": "2023-08-04T03:22:49.112936295Z"
    }
   },
   "outputs": [
    {
     "data": {
      "text/plain": "array([ 0,  4,  8,  1,  5,  9,  2,  6, 10,  3,  7, 11])"
     },
     "execution_count": 13,
     "metadata": {},
     "output_type": "execute_result"
    }
   ],
   "source": [
    "npa_ss_flatten = df_ss[['velocity', 'thrust', 'brake']].to_numpy().flatten()\n",
    "npa_ss_flatten"
   ]
  },
  {
   "cell_type": "code",
   "execution_count": 14,
   "metadata": {
    "ExecuteTime": {
     "end_time": "2023-08-04T03:23:01.680545136Z",
     "start_time": "2023-08-04T03:22:49.113051942Z"
    }
   },
   "outputs": [
    {
     "data": {
      "text/plain": "qtuple  velocity  thrust\n0              0       4\n1              1       5\n2              2       6\n3              3       7",
      "text/html": "<div>\n<style scoped>\n    .dataframe tbody tr th:only-of-type {\n        vertical-align: middle;\n    }\n\n    .dataframe tbody tr th {\n        vertical-align: top;\n    }\n\n    .dataframe thead th {\n        text-align: right;\n    }\n</style>\n<table border=\"1\" class=\"dataframe\">\n  <thead>\n    <tr style=\"text-align: right;\">\n      <th>qtuple</th>\n      <th>velocity</th>\n      <th>thrust</th>\n    </tr>\n  </thead>\n  <tbody>\n    <tr>\n      <th>0</th>\n      <td>0</td>\n      <td>4</td>\n    </tr>\n    <tr>\n      <th>1</th>\n      <td>1</td>\n      <td>5</td>\n    </tr>\n    <tr>\n      <th>2</th>\n      <td>2</td>\n      <td>6</td>\n    </tr>\n    <tr>\n      <th>3</th>\n      <td>3</td>\n      <td>7</td>\n    </tr>\n  </tbody>\n</table>\n</div>"
     },
     "execution_count": 14,
     "metadata": {},
     "output_type": "execute_result"
    },
    {
     "data": {
      "text/plain": "0     0\n1     5\n2    12\n3    21\ndtype: int64"
     },
     "execution_count": 14,
     "metadata": {},
     "output_type": "execute_result"
    },
    {
     "data": {
      "text/plain": "38"
     },
     "execution_count": 14,
     "metadata": {},
     "output_type": "execute_result"
    }
   ],
   "source": [
    "ui_t = df_ss.loc[:, ['velocity', 'thrust']]\n",
    "ui_t\n",
    "power_t = ui_t.prod(axis=1)\n",
    "power_t\n",
    "power_t.sum()"
   ]
  },
  {
   "cell_type": "code",
   "execution_count": 15,
   "metadata": {
    "ExecuteTime": {
     "end_time": "2023-08-04T03:23:01.680851351Z",
     "start_time": "2023-08-04T03:22:49.113237190Z"
    }
   },
   "outputs": [
    {
     "data": {
      "text/plain": "rows      idx\nbrake     0                               8\n          1                               9\n          2                              10\n          3                              11\nthrust    0                               4\n          1                               5\n          2                               6\n          3                               7\ntimestep  0      2023-08-04 11:22:49.017377\n          1      2023-08-04 11:22:49.037377\n          2      2023-08-04 11:22:49.057377\n          3      2023-08-04 11:22:49.077377\nvelocity  0                               0\n          1                               1\n          2                               2\n          3                               3\nName: state, dtype: object"
     },
     "execution_count": 15,
     "metadata": {},
     "output_type": "execute_result"
    }
   ],
   "source": [
    "state = df_ss.stack().swaplevel(0, 1)\n",
    "state.name = 'state'\n",
    "state.index.names = ['rows', 'idx']\n",
    "state.sort_index(inplace=True)\n",
    "state"
   ]
  },
  {
   "cell_type": "code",
   "execution_count": 16,
   "metadata": {
    "ExecuteTime": {
     "end_time": "2023-08-04T03:23:01.681110678Z",
     "start_time": "2023-08-04T03:22:49.113357056Z"
    }
   },
   "outputs": [
    {
     "data": {
      "text/plain": "rows      idx\nvelocity  0       0\n          1       1\n          2       2\n          3       3\nthrust    0       4\n          1       5\n          2       6\n          3       7\nbrake     0       8\n          1       9\n          2      10\n          3      11\nName: state, dtype: object"
     },
     "execution_count": 16,
     "metadata": {},
     "output_type": "execute_result"
    }
   ],
   "source": [
    "state[['velocity', 'thrust', 'brake']]"
   ]
  },
  {
   "cell_type": "code",
   "execution_count": 17,
   "metadata": {
    "ExecuteTime": {
     "end_time": "2023-08-04T03:23:01.681263045Z",
     "start_time": "2023-08-04T03:22:49.156790201Z"
    }
   },
   "outputs": [],
   "source": [
    "# from functools import reduce\n",
    "#\n",
    "#\n",
    "# velocity = pd.Series(ss[:4], name='velocity')\n",
    "# thrust = pd.Series(ss[4:8], name='thrust')\n",
    "# brake = pd.Series(ss[8:], name='brake')\n",
    "# series = [velocity, thrust, brake]\n",
    "# state = reduce(\n",
    "#     lambda x, y: pd.merge(x, y, how='outer', left_index=True, right_index=True), series\n",
    "# )\n",
    "# state = state.stack().swaplevel(0, 1).sort_index()\n",
    "# state.name = 'state'\n",
    "# state\n",
    "# len(state)\n"
   ]
  },
  {
   "cell_type": "code",
   "execution_count": 18,
   "metadata": {
    "ExecuteTime": {
     "end_time": "2023-08-04T03:23:01.681426502Z",
     "start_time": "2023-08-04T03:22:49.156942267Z"
    }
   },
   "outputs": [],
   "source": [
    "# from functools import reduce\n",
    "#\n",
    "#\n",
    "# velocity = pd.Series(s[:4], name='velocity')\n",
    "# thrust = pd.Series(s[4:7], name='thrust')\n",
    "# brake = pd.Series(s[7:], name='brake')\n",
    "# series = [velocity, thrust, brake]\n",
    "# state = reduce(\n",
    "#     lambda x, y: pd.merge(x, y, how='outer', left_index=True, right_index=True), series\n",
    "# )\n",
    "# state = state.stack().swaplevel(0, 1).sort_index()\n",
    "# state.name = 'state'\n",
    "# state\n",
    "# len(state)\n",
    "#\n",
    "#"
   ]
  },
  {
   "cell_type": "markdown",
   "metadata": {},
   "source": [
    "### generate action"
   ]
  },
  {
   "cell_type": "code",
   "execution_count": 19,
   "metadata": {
    "ExecuteTime": {
     "end_time": "2023-08-04T03:23:01.682076784Z",
     "start_time": "2023-08-04T03:22:49.157045731Z"
    }
   },
   "outputs": [
    {
     "data": {
      "text/plain": "{'r0': array([12, 13, 14, 15, 16]),\n 'r1': array([17, 18, 19, 20, 21]),\n 'r2': array([22, 23, 24, 25, 26])}"
     },
     "execution_count": 19,
     "metadata": {},
     "output_type": "execute_result"
    },
    {
     "data": {
      "text/plain": "array([[12, 17, 22],\n       [13, 18, 23],\n       [14, 19, 24],\n       [15, 20, 25],\n       [16, 21, 26]])"
     },
     "execution_count": 19,
     "metadata": {},
     "output_type": "execute_result"
    },
    {
     "data": {
      "text/plain": "   r0  r1  r2\n0  12  17  22\n1  13  18  23\n2  14  19  24\n3  15  20  25\n4  16  21  26",
      "text/html": "<div>\n<style scoped>\n    .dataframe tbody tr th:only-of-type {\n        vertical-align: middle;\n    }\n\n    .dataframe tbody tr th {\n        vertical-align: top;\n    }\n\n    .dataframe thead th {\n        text-align: right;\n    }\n</style>\n<table border=\"1\" class=\"dataframe\">\n  <thead>\n    <tr style=\"text-align: right;\">\n      <th></th>\n      <th>r0</th>\n      <th>r1</th>\n      <th>r2</th>\n    </tr>\n  </thead>\n  <tbody>\n    <tr>\n      <th>0</th>\n      <td>12</td>\n      <td>17</td>\n      <td>22</td>\n    </tr>\n    <tr>\n      <th>1</th>\n      <td>13</td>\n      <td>18</td>\n      <td>23</td>\n    </tr>\n    <tr>\n      <th>2</th>\n      <td>14</td>\n      <td>19</td>\n      <td>24</td>\n    </tr>\n    <tr>\n      <th>3</th>\n      <td>15</td>\n      <td>20</td>\n      <td>25</td>\n    </tr>\n    <tr>\n      <th>4</th>\n      <td>16</td>\n      <td>21</td>\n      <td>26</td>\n    </tr>\n  </tbody>\n</table>\n</div>"
     },
     "execution_count": 19,
     "metadata": {},
     "output_type": "execute_result"
    },
    {
     "data": {
      "text/plain": "['r0', 'r1', 'r2']"
     },
     "execution_count": 19,
     "metadata": {},
     "output_type": "execute_result"
    }
   ],
   "source": [
    "from functools import reduce\n",
    "\n",
    "a = len(ss) + np.arange(15)\n",
    "speed_ser = pd.Series(np.linspace(40, 60, 3), name='speed')\n",
    "# row_ser\n",
    "row_dict = {f'r{i}': a[i * 5 : i * 5 + 5] for i in np.arange(3)}\n",
    "row_dict\n",
    "row_array = a.reshape(3, 5).transpose()\n",
    "row_array\n",
    "rows_df = pd.DataFrame(row_array)\n",
    "rows_df.columns = [f'r{i}' for i in np.arange(3)]\n",
    "rows_df\n",
    "\n",
    "action_row_names = [f'r{i}' for i in np.arange(3)]\n",
    "action_row_names"
   ]
  },
  {
   "cell_type": "code",
   "execution_count": 20,
   "metadata": {
    "ExecuteTime": {
     "end_time": "2023-08-04T03:23:01.682479711Z",
     "start_time": "2023-08-04T03:22:49.157201363Z"
    }
   },
   "outputs": [
    {
     "data": {
      "text/plain": "MultiIndex([(      'r0', 0),\n            (      'r0', 1),\n            (      'r0', 2),\n            (      'r0', 3),\n            (      'r0', 4),\n            (      'r1', 0),\n            (      'r1', 1),\n            (      'r1', 2),\n            (      'r1', 3),\n            (      'r1', 4),\n            (      'r2', 0),\n            (      'r2', 1),\n            (      'r2', 2),\n            (      'r2', 3),\n            (      'r2', 4),\n            (   'speed', 0),\n            (   'speed', 1),\n            (   'speed', 2),\n            ('throttle', 0),\n            ('throttle', 1),\n            ('throttle', 2),\n            ('throttle', 3),\n            ('throttle', 4),\n            ('timestep', 0),\n            ('timestep', 1),\n            ('timestep', 2)],\n           names=['rows', 'idx'])"
     },
     "execution_count": 20,
     "metadata": {},
     "output_type": "execute_result"
    },
    {
     "data": {
      "text/plain": "rows      idx\nr0        0                              12\n          1                              13\n          2                              14\n          3                              15\n          4                              16\nr1        0                              17\n          1                              18\n          2                              19\n          3                              20\n          4                              21\nr2        0                              22\n          1                              23\n          2                              24\n          3                              25\n          4                              26\nspeed     0                            40.0\n          1                            50.0\n          2                            60.0\nthrottle  0                             0.0\n          1                            0.25\n          2                             0.5\n          3                            0.75\n          4                             1.0\ntimestep  0      2023-08-04 11:22:49.117377\n          1      2023-08-04 11:22:49.137377\n          2      2023-08-04 11:22:49.157377\nName: action, dtype: object"
     },
     "execution_count": 20,
     "metadata": {},
     "output_type": "execute_result"
    }
   ],
   "source": [
    "\n",
    "ts_ind = ts + pd.to_timedelta(np.arange(5 * 20, 8 * 20, 20), 'ms')\n",
    "ts_ser = pd.Series(ts_ind, name='timestep')\n",
    "throttle_ser = pd.Series(np.linspace(0, 1.0, 5), name='throttle')\n",
    "# throttle_ser\n",
    "dfs = [rows_df, ts_ser, speed_ser, throttle_ser]\n",
    "action = (\n",
    "    reduce(\n",
    "        lambda left, right: pd.merge(\n",
    "            left, right, how='outer', left_index=True, right_index=True\n",
    "        ),\n",
    "        dfs,\n",
    "    )\n",
    "    .stack()\n",
    "    .swaplevel(0, 1)\n",
    "    .sort_index()\n",
    ")\n",
    "\n",
    "action.name = 'action'\n",
    "action.index.names = ['rows', 'idx']\n",
    "action.index\n",
    "action\n",
    "# action = pd.concat([df.DataFrame(row_dict),df.Series(row_ind),df.Series(ts_ind),df.Series(pedal_ind)],axis=1)\n",
    "# action\n",
    "# pedal_ind\n",
    "# action_ind = pd.MultiIndex.from_product([row_ind, ts_ind], names=['row', 'timestamp'])\n",
    "# a\n",
    "# speed_row, row_name = *row_dict\n",
    "# action = (\n",
    "#     pd.DataFrame(\n",
    "#         {\n",
    "#             **row_dict,\n",
    "#             'throttle': pedal_ind,\n",
    "#             'speed': [r[1] for r in row_ind],\n",
    "#         }\n",
    "#     )  # .set_index('pedal')\n",
    "#     # .stack()\n",
    "#     # .swaplevel(0, 1)\n",
    "#     .sort_index()\n",
    "# )\n",
    "# action\n",
    "# action.columns\n",
    "# action.columns = pd.MultiIndex.from_arrays(\n",
    "#     [action.columns, ts_ind], names=['nominalspeed', 'timestep']\n",
    "# )\n",
    "# action = action.stack([0, 1]).swaplevel(0, 1).swaplevel(1, 2).sort_index()\n",
    "# action.name = 'action'\n",
    "# # action.index.names = ['nominalspeed', 'timestamp']\n",
    "# # action.index\n",
    "# action"
   ]
  },
  {
   "cell_type": "code",
   "execution_count": 21,
   "metadata": {
    "ExecuteTime": {
     "end_time": "2023-08-04T03:23:01.682785405Z",
     "start_time": "2023-08-04T03:22:49.157472523Z"
    }
   },
   "outputs": [
    {
     "data": {
      "text/plain": "rows  idx\nr0    0      12\n      1      13\n      2      14\n      3      15\n      4      16\nr1    0      17\n      1      18\n      2      19\n      3      20\n      4      21\nr2    0      22\n      1      23\n      2      24\n      3      25\n      4      26\nName: action, dtype: object"
     },
     "execution_count": 21,
     "metadata": {},
     "output_type": "execute_result"
    }
   ],
   "source": [
    "action[['r0', 'r1', 'r2']]"
   ]
  },
  {
   "cell_type": "code",
   "execution_count": 22,
   "metadata": {
    "ExecuteTime": {
     "end_time": "2023-08-04T03:23:01.682921932Z",
     "start_time": "2023-08-04T03:22:49.165668822Z"
    }
   },
   "outputs": [],
   "source": [
    "# a = len(state) + np.arange(6)\n",
    "# ar0 = pd.Series(a[:2], name='row0')\n",
    "# ar1 = pd.Series(a[2:4], name='row1')\n",
    "# ar2 = pd.Series(a[4:], name='row2')\n",
    "# series = [ar0, ar1, ar2]\n",
    "# action = reduce(\n",
    "#     lambda x, y: pd.merge(x, y, how='outer', left_index=True, right_index=True), series\n",
    "# )\n",
    "# action = action.stack().swaplevel(0, 1).sort_index()\n",
    "# action.name = 'action'\n",
    "# action\n",
    "# len(action) + len(state)"
   ]
  },
  {
   "cell_type": "code",
   "execution_count": 22,
   "metadata": {
    "ExecuteTime": {
     "end_time": "2023-08-04T03:23:01.683053188Z",
     "start_time": "2023-08-04T03:22:49.208791344Z"
    }
   },
   "outputs": [],
   "source": []
  },
  {
   "cell_type": "code",
   "execution_count": 23,
   "metadata": {
    "ExecuteTime": {
     "end_time": "2023-08-04T03:23:01.683396934Z",
     "start_time": "2023-08-04T03:22:49.208953639Z"
    }
   },
   "outputs": [
    {
     "data": {
      "text/plain": "MultiIndex([('timestep', 0),\n            (    'work', 0)],\n           names=['rows', 'idx'])"
     },
     "execution_count": 23,
     "metadata": {},
     "output_type": "execute_result"
    },
    {
     "data": {
      "text/plain": "rows      idx\ntimestep  0      2023-08-04 11:22:49.117377\nwork      0                              27\nName: reward, dtype: object"
     },
     "execution_count": 23,
     "metadata": {},
     "output_type": "execute_result"
    }
   ],
   "source": [
    "reward = (\n",
    "    pd.DataFrame({'work': len(ss) + len(a), 'timestep': ts_ind[0]}, index=[0])\n",
    "    .stack()\n",
    "    .swaplevel(0, 1)\n",
    "    .sort_index()\n",
    ")\n",
    "# reward_index = (reward.name,  ts_ind[0], 0)\n",
    "reward.index.names = ['rows', 'idx']\n",
    "reward.name = 'reward'\n",
    "reward.index\n",
    "reward\n",
    "# reward.name = 'reward'"
   ]
  },
  {
   "cell_type": "code",
   "execution_count": 24,
   "metadata": {
    "ExecuteTime": {
     "end_time": "2023-08-04T03:23:01.683737764Z",
     "start_time": "2023-08-04T03:22:49.209086658Z"
    }
   },
   "outputs": [
    {
     "data": {
      "text/plain": "27"
     },
     "execution_count": 24,
     "metadata": {},
     "output_type": "execute_result"
    },
    {
     "data": {
      "text/plain": "27"
     },
     "execution_count": 24,
     "metadata": {},
     "output_type": "execute_result"
    }
   ],
   "source": [
    "reward['work'][0]\n",
    "reward.loc[('work', 0)]"
   ]
  },
  {
   "cell_type": "code",
   "execution_count": 24,
   "metadata": {
    "ExecuteTime": {
     "end_time": "2023-08-04T03:23:01.683869442Z",
     "start_time": "2023-08-04T03:22:49.209217194Z"
    }
   },
   "outputs": [],
   "source": []
  },
  {
   "cell_type": "code",
   "execution_count": 25,
   "metadata": {
    "ExecuteTime": {
     "end_time": "2023-08-04T03:23:01.684329617Z",
     "start_time": "2023-08-04T03:22:49.209357668Z"
    }
   },
   "outputs": [
    {
     "data": {
      "text/plain": "DatetimeIndex(['2023-08-04 11:22:54.017377', '2023-08-04 11:22:54.037377',\n               '2023-08-04 11:22:54.057377', '2023-08-04 11:22:54.077377'],\n              dtype='datetime64[ns]', freq=None)"
     },
     "execution_count": 25,
     "metadata": {},
     "output_type": "execute_result"
    },
    {
     "data": {
      "text/plain": "16"
     },
     "execution_count": 25,
     "metadata": {},
     "output_type": "execute_result"
    },
    {
     "data": {
      "text/plain": "rows      idx\nbrake     0                              37\n          1                              38\n          2                              39\n          3                              40\nthrust    0                              33\n          1                              34\n          2                              35\n          3                              36\ntimestep  0      2023-08-04 11:22:54.017377\n          1      2023-08-04 11:22:54.037377\n          2      2023-08-04 11:22:54.057377\n          3      2023-08-04 11:22:54.077377\nvelocity  0                              29\n          1                              30\n          2                              31\n          3                              32\nName: nstate, dtype: object"
     },
     "execution_count": 25,
     "metadata": {},
     "output_type": "execute_result"
    }
   ],
   "source": [
    "# velocity = pd.Series(len(state) + len(action) + len(reward) + s[:4], name='velocity')\n",
    "# thrust = pd.Series(len(state) + len(action) + len(reward) + s[4:7], name='thrust')\n",
    "# brake = pd.Series(len(state) + len(action) + len(reward) + s[7:], name='brake')\n",
    "# series = [velocity, thrust, brake]\n",
    "# nstate = reduce(\n",
    "#     lambda x, y: pd.merge(x, y, how='outer', left_index=True, right_index=True), series\n",
    "# )\n",
    "# nstate = nstate.stack().swaplevel(0, 1).sort_index()\n",
    "# nstate.name = 'nstate'\n",
    "# nstate\n",
    "# len(nstate)\n",
    "ts_ind = ts + pd.to_timedelta(5, 's') + pd.to_timedelta(np.arange(0, 4 * 20, 20), 'ms')\n",
    "ts_ind\n",
    "ss = np.arange(12) + len(ss) + len(a) + len(reward)\n",
    "a1 = ss[:4]\n",
    "a2 = ss[4:8]\n",
    "a3 = ss[8:]\n",
    "nstate = (\n",
    "    pd.DataFrame({'timestep': ts_ind, 'velocity': a1, 'thrust': a2, 'brake': a3})\n",
    "    # .set_index('timestamp')\n",
    "    .stack()\n",
    "    .swaplevel(0, 1)\n",
    "    .sort_index()\n",
    ")\n",
    "nstate.name = 'nstate'\n",
    "nstate.index.names = ['rows', 'idx']\n",
    "len(nstate)\n",
    "nstate"
   ]
  },
  {
   "cell_type": "code",
   "execution_count": 26,
   "metadata": {
    "ExecuteTime": {
     "end_time": "2023-08-04T03:23:01.703231440Z",
     "start_time": "2023-08-04T03:22:49.252758330Z"
    }
   },
   "outputs": [
    {
     "data": {
      "text/plain": "MultiIndex([(0, 0)],\n           names=['rows', 'idx'])"
     },
     "execution_count": 26,
     "metadata": {},
     "output_type": "execute_result"
    },
    {
     "data": {
      "text/plain": "MultiIndex([(   'brake', 0),\n            (   'brake', 1),\n            (   'brake', 2),\n            (   'brake', 3),\n            (  'thrust', 0),\n            (  'thrust', 1),\n            (  'thrust', 2),\n            (  'thrust', 3),\n            ('timestep', 0),\n            ('timestep', 1),\n            ('timestep', 2),\n            ('timestep', 3),\n            ('velocity', 0),\n            ('velocity', 1),\n            ('velocity', 2),\n            ('velocity', 3)],\n           names=['rows', 'idx'])"
     },
     "execution_count": 26,
     "metadata": {},
     "output_type": "execute_result"
    },
    {
     "data": {
      "text/plain": "MultiIndex([(      'r0', 0),\n            (      'r0', 1),\n            (      'r0', 2),\n            (      'r0', 3),\n            (      'r0', 4),\n            (      'r1', 0),\n            (      'r1', 1),\n            (      'r1', 2),\n            (      'r1', 3),\n            (      'r1', 4),\n            (      'r2', 0),\n            (      'r2', 1),\n            (      'r2', 2),\n            (      'r2', 3),\n            (      'r2', 4),\n            (   'speed', 0),\n            (   'speed', 1),\n            (   'speed', 2),\n            ('throttle', 0),\n            ('throttle', 1),\n            ('throttle', 2),\n            ('throttle', 3),\n            ('throttle', 4),\n            ('timestep', 0),\n            ('timestep', 1),\n            ('timestep', 2)],\n           names=['rows', 'idx'])"
     },
     "execution_count": 26,
     "metadata": {},
     "output_type": "execute_result"
    },
    {
     "data": {
      "text/plain": "MultiIndex([('timestep', 0),\n            (    'work', 0)],\n           names=['rows', 'idx'])"
     },
     "execution_count": 26,
     "metadata": {},
     "output_type": "execute_result"
    },
    {
     "data": {
      "text/plain": "MultiIndex([(   'brake', 0),\n            (   'brake', 1),\n            (   'brake', 2),\n            (   'brake', 3),\n            (  'thrust', 0),\n            (  'thrust', 1),\n            (  'thrust', 2),\n            (  'thrust', 3),\n            ('timestep', 0),\n            ('timestep', 1),\n            ('timestep', 2),\n            ('timestep', 3),\n            ('velocity', 0),\n            ('velocity', 1),\n            ('velocity', 2),\n            ('velocity', 3)],\n           names=['rows', 'idx'])"
     },
     "execution_count": 26,
     "metadata": {},
     "output_type": "execute_result"
    }
   ],
   "source": [
    "timestamp = pd.Series([ts], name='timestamp')\n",
    "timestamp.index = pd.MultiIndex.from_product(\n",
    "    [timestamp.index, [0]], names=['rows', 'idx']\n",
    ")\n",
    "timestamp.index\n",
    "state.index\n",
    "action.index\n",
    "reward.index\n",
    "nstate.index"
   ]
  },
  {
   "cell_type": "code",
   "execution_count": 27,
   "metadata": {
    "ExecuteTime": {
     "end_time": "2023-08-04T03:23:01.703569375Z",
     "start_time": "2023-08-04T03:22:49.253000505Z"
    }
   },
   "outputs": [
    {
     "data": {
      "text/plain": "MultiIndex([('timestamp',         '', 0),\n            (    'state',    'brake', 0),\n            (    'state',    'brake', 1),\n            (    'state',    'brake', 2),\n            (    'state',    'brake', 3),\n            (    'state',   'thrust', 0),\n            (    'state',   'thrust', 1),\n            (    'state',   'thrust', 2),\n            (    'state',   'thrust', 3),\n            (    'state', 'timestep', 0),\n            (    'state', 'timestep', 1),\n            (    'state', 'timestep', 2),\n            (    'state', 'timestep', 3),\n            (    'state', 'velocity', 0),\n            (    'state', 'velocity', 1),\n            (    'state', 'velocity', 2),\n            (    'state', 'velocity', 3),\n            (   'action',       'r0', 0),\n            (   'action',       'r0', 1),\n            (   'action',       'r0', 2),\n            (   'action',       'r0', 3),\n            (   'action',       'r0', 4),\n            (   'action',       'r1', 0),\n            (   'action',       'r1', 1),\n            (   'action',       'r1', 2),\n            (   'action',       'r1', 3),\n            (   'action',       'r1', 4),\n            (   'action',       'r2', 0),\n            (   'action',       'r2', 1),\n            (   'action',       'r2', 2),\n            (   'action',       'r2', 3),\n            (   'action',       'r2', 4),\n            (   'action',    'speed', 0),\n            (   'action',    'speed', 1),\n            (   'action',    'speed', 2),\n            (   'action', 'throttle', 0),\n            (   'action', 'throttle', 1),\n            (   'action', 'throttle', 2),\n            (   'action', 'throttle', 3),\n            (   'action', 'throttle', 4),\n            (   'action', 'timestep', 0),\n            (   'action', 'timestep', 1),\n            (   'action', 'timestep', 2),\n            (   'reward', 'timestep', 0),\n            (   'reward',     'work', 0),\n            (   'nstate',    'brake', 0),\n            (   'nstate',    'brake', 1),\n            (   'nstate',    'brake', 2),\n            (   'nstate',    'brake', 3),\n            (   'nstate',   'thrust', 0),\n            (   'nstate',   'thrust', 1),\n            (   'nstate',   'thrust', 2),\n            (   'nstate',   'thrust', 3),\n            (   'nstate', 'timestep', 0),\n            (   'nstate', 'timestep', 1),\n            (   'nstate', 'timestep', 2),\n            (   'nstate', 'timestep', 3),\n            (   'nstate', 'velocity', 0),\n            (   'nstate', 'velocity', 1),\n            (   'nstate', 'velocity', 2),\n            (   'nstate', 'velocity', 3)],\n           )"
     },
     "execution_count": 27,
     "metadata": {},
     "output_type": "execute_result"
    }
   ],
   "source": [
    "timestamp_index = (timestamp.name, '', 0)\n",
    "# timestamp_index\n",
    "state_index = [(state.name, *i) for i in state.index]\n",
    "# state_index\n",
    "reward_index = [(reward.name, *i) for i in reward.index]\n",
    "# reward_index\n",
    "action_index = [(action.name, *i) for i in action.index]\n",
    "# action_index\n",
    "nstate_index = [(nstate.name, *i) for i in nstate.index]\n",
    "# nstate_index\n",
    "\n",
    "multiindex = pd.MultiIndex.from_tuples(\n",
    "    [timestamp_index, *state_index, *action_index, *reward_index, *nstate_index]\n",
    ")\n",
    "multiindex\n"
   ]
  },
  {
   "cell_type": "code",
   "execution_count": 28,
   "outputs": [
    {
     "data": {
      "text/plain": "MultiIndex([(0, 0)],\n           names=['rows', 'idx'])"
     },
     "execution_count": 28,
     "metadata": {},
     "output_type": "execute_result"
    },
    {
     "data": {
      "text/plain": "array(['2023-08-04T11:22:49.017377000'], dtype='datetime64[ns]')"
     },
     "execution_count": 28,
     "metadata": {},
     "output_type": "execute_result"
    },
    {
     "data": {
      "text/plain": "rows  idx\n0     0     2023-08-04 11:22:49.017377\nName: timestamp, dtype: datetime64[ns]"
     },
     "execution_count": 28,
     "metadata": {},
     "output_type": "execute_result"
    }
   ],
   "source": [
    "timestamp.index\n",
    "timestamp.values\n",
    "timestamp"
   ],
   "metadata": {
    "collapsed": false,
    "ExecuteTime": {
     "end_time": "2023-08-04T03:23:01.703994984Z",
     "start_time": "2023-08-04T03:22:49.253139837Z"
    }
   }
  },
  {
   "cell_type": "code",
   "execution_count": 29,
   "metadata": {
    "ExecuteTime": {
     "end_time": "2023-08-04T03:23:01.704276614Z",
     "start_time": "2023-08-04T03:22:49.253314806Z"
    }
   },
   "outputs": [
    {
     "data": {
      "text/plain": "timestamp            0    2023-08-04 11:22:49.017377\nstate      brake     0                             8\n                     1                             9\n                     2                            10\n                     3                            11\n                                     ...            \nnstate     timestep  3    2023-08-04 11:22:54.077377\n           velocity  0                            29\n                     1                            30\n                     2                            31\n                     3                            32\nLength: 61, dtype: object"
     },
     "execution_count": 29,
     "metadata": {},
     "output_type": "execute_result"
    }
   ],
   "source": [
    "observation_list = [timestamp, state, action, reward, nstate]\n",
    "observation = pd.concat(observation_list)\n",
    "observation.index = multiindex\n",
    "observation\n",
    "# observation.dtype"
   ]
  },
  {
   "cell_type": "code",
   "execution_count": 30,
   "outputs": [
    {
     "data": {
      "text/plain": "array([12., 13., 14., 15., 16., 17., 18., 19., 20., 21., 22., 23., 24.,\n       25., 26.], dtype=float32)"
     },
     "execution_count": 30,
     "metadata": {},
     "output_type": "execute_result"
    },
    {
     "data": {
      "text/plain": "dtype('float32')"
     },
     "execution_count": 30,
     "metadata": {},
     "output_type": "execute_result"
    }
   ],
   "source": [
    "idx = pd.IndexSlice\n",
    "# observation_sorted = observation.sort_index()\n",
    "actions = observation.sort_index().loc[idx['action', action_row_names, :]].values.astype(np.float32)\n",
    "actions\n",
    "actions.dtype"
   ],
   "metadata": {
    "collapsed": false,
    "ExecuteTime": {
     "end_time": "2023-08-04T03:23:01.704683658Z",
     "start_time": "2023-08-04T03:22:49.296717555Z"
    }
   }
  },
  {
   "cell_type": "code",
   "execution_count": 31,
   "outputs": [
    {
     "data": {
      "text/plain": "array([12., 13., 14., 15., 16., 17., 18., 19., 20., 21., 22., 23., 24.,\n       25., 26.], dtype=float32)"
     },
     "execution_count": 31,
     "metadata": {},
     "output_type": "execute_result"
    },
    {
     "name": "stderr",
     "output_type": "stream",
     "text": [
      "2023-08-04 11:22:49.300797: I tensorflow/compiler/xla/stream_executor/cuda/cuda_gpu_executor.cc:995] successful NUMA node read from SysFS had negative value (-1), but there must be at least one NUMA node, so returning NUMA node zero. See more at https://github.com/torvalds/linux/blob/v6.0/Documentation/ABI/testing/sysfs-bus-pci#L344-L355\n",
      "2023-08-04 11:22:49.303827: W tensorflow/core/common_runtime/gpu/gpu_device.cc:1960] Cannot dlopen some GPU libraries. Please make sure the missing libraries mentioned above are installed properly if you would like to use GPU. Follow the guide at https://www.tensorflow.org/install/gpu for how to download and setup the required libraries for your platform.\n",
      "Skipping registering GPU devices...\n"
     ]
    },
    {
     "data": {
      "text/plain": "<tf.Tensor: shape=(1, 1, 15), dtype=float32, numpy=\narray([[[12., 13., 14., 15., 16., 17., 18., 19., 20., 21., 22., 23.,\n         24., 25., 26.]]], dtype=float32)>"
     },
     "execution_count": 31,
     "metadata": {},
     "output_type": "execute_result"
    }
   ],
   "source": [
    "import tensorflow as tf\n",
    "# actions = tf.convert_to_tensor(actions, dtype=tf.float32)\n",
    "actions\n",
    "last_actions = tf.expand_dims(tf.expand_dims(actions, axis=0), axis=0)\n",
    "last_actions"
   ],
   "metadata": {
    "collapsed": false,
    "ExecuteTime": {
     "end_time": "2023-08-04T03:23:01.705153571Z",
     "start_time": "2023-08-04T03:22:49.296881402Z"
    }
   }
  },
  {
   "cell_type": "code",
   "execution_count": 32,
   "outputs": [
    {
     "data": {
      "text/plain": "<tf.Tensor: shape=(1, 1, 12), dtype=float32, numpy=\narray([[[ 0.,  1.,  2.,  3.,  4.,  5.,  6.,  7.,  8.,  9., 10., 11.]]],\n      dtype=float32)>"
     },
     "execution_count": 32,
     "metadata": {},
     "output_type": "execute_result"
    }
   ],
   "source": [
    "states = observation.sort_index().loc[idx['state', ['velocity', 'thrust', 'brake'] ,:]].values.astype(np.float32)\n",
    "states = tf.expand_dims(tf.expand_dims(tf.convert_to_tensor(states, dtype=tf.float32), axis=0),axis=0)\n",
    "states"
   ],
   "metadata": {
    "collapsed": false,
    "ExecuteTime": {
     "end_time": "2023-08-04T03:23:01.705413680Z",
     "start_time": "2023-08-04T03:22:49.325698836Z"
    }
   }
  },
  {
   "cell_type": "code",
   "execution_count": 33,
   "metadata": {
    "ExecuteTime": {
     "end_time": "2023-08-04T03:23:01.705743540Z",
     "start_time": "2023-08-04T03:22:49.334683227Z"
    }
   },
   "outputs": [
    {
     "data": {
      "text/plain": "MultiIndex([('timestamp',         '', 0),\n            (    'state',    'brake', 0),\n            (    'state',    'brake', 1),\n            (    'state',    'brake', 2),\n            (    'state',    'brake', 3),\n            (    'state',   'thrust', 0),\n            (    'state',   'thrust', 1),\n            (    'state',   'thrust', 2),\n            (    'state',   'thrust', 3),\n            (    'state', 'timestep', 0),\n            (    'state', 'timestep', 1),\n            (    'state', 'timestep', 2),\n            (    'state', 'timestep', 3),\n            (    'state', 'velocity', 0),\n            (    'state', 'velocity', 1),\n            (    'state', 'velocity', 2),\n            (    'state', 'velocity', 3),\n            (   'action',       'r0', 0),\n            (   'action',       'r0', 1),\n            (   'action',       'r0', 2),\n            (   'action',       'r0', 3),\n            (   'action',       'r0', 4),\n            (   'action',       'r1', 0),\n            (   'action',       'r1', 1),\n            (   'action',       'r1', 2),\n            (   'action',       'r1', 3),\n            (   'action',       'r1', 4),\n            (   'action',       'r2', 0),\n            (   'action',       'r2', 1),\n            (   'action',       'r2', 2),\n            (   'action',       'r2', 3),\n            (   'action',       'r2', 4),\n            (   'action',    'speed', 0),\n            (   'action',    'speed', 1),\n            (   'action',    'speed', 2),\n            (   'action', 'throttle', 0),\n            (   'action', 'throttle', 1),\n            (   'action', 'throttle', 2),\n            (   'action', 'throttle', 3),\n            (   'action', 'throttle', 4),\n            (   'action', 'timestep', 0),\n            (   'action', 'timestep', 1),\n            (   'action', 'timestep', 2),\n            (   'reward', 'timestep', 0),\n            (   'reward',     'work', 0),\n            (   'nstate',    'brake', 0),\n            (   'nstate',    'brake', 1),\n            (   'nstate',    'brake', 2),\n            (   'nstate',    'brake', 3),\n            (   'nstate',   'thrust', 0),\n            (   'nstate',   'thrust', 1),\n            (   'nstate',   'thrust', 2),\n            (   'nstate',   'thrust', 3),\n            (   'nstate', 'timestep', 0),\n            (   'nstate', 'timestep', 1),\n            (   'nstate', 'timestep', 2),\n            (   'nstate', 'timestep', 3),\n            (   'nstate', 'velocity', 0),\n            (   'nstate', 'velocity', 1),\n            (   'nstate', 'velocity', 2),\n            (   'nstate', 'velocity', 3)],\n           )"
     },
     "execution_count": 33,
     "metadata": {},
     "output_type": "execute_result"
    }
   ],
   "source": [
    "observation.index"
   ]
  },
  {
   "cell_type": "code",
   "execution_count": 34,
   "metadata": {
    "ExecuteTime": {
     "end_time": "2023-08-04T03:23:01.705875868Z",
     "start_time": "2023-08-04T03:22:49.339574828Z"
    }
   },
   "outputs": [],
   "source": [
    "\n",
    "observation0 = observation.copy()\n",
    "observation0.loc['timestamp', '', 0] = ts + pd.Timedelta(1, 'h')\n",
    "observation1 = observation.copy()\n",
    "observation1.loc['timestamp', '', 0] = ts + pd.Timedelta(2, 'h')\n",
    "observation2 = observation.copy()\n",
    "observation2.loc['timestamp', '', 0] = ts + pd.Timedelta(3, 'h')\n",
    "observation3 = observation.copy()\n",
    "observation3.loc['timestamp', '', 0] = ts + pd.Timedelta(4, 'h')\n",
    "observation4 = observation.copy()\n",
    "observation4.loc['timestamp', '', 0] = ts + pd.Timedelta(5, 'h')\n",
    "observation_list = [\n",
    "    observation0,\n",
    "    observation1,\n",
    "    observation2,\n",
    "    observation3,\n",
    "    observation4,\n",
    "]\n"
   ]
  },
  {
   "cell_type": "code",
   "execution_count": 35,
   "metadata": {
    "ExecuteTime": {
     "end_time": "2023-08-04T03:23:01.706572217Z",
     "start_time": "2023-08-04T03:22:49.380839217Z"
    }
   },
   "outputs": [
    {
     "data": {
      "text/plain": "MultiIndex([('timestamp',         '', 0),\n            (    'state',    'brake', 0),\n            (    'state',    'brake', 1),\n            (    'state',    'brake', 2),\n            (    'state',    'brake', 3),\n            (    'state',   'thrust', 0),\n            (    'state',   'thrust', 1),\n            (    'state',   'thrust', 2),\n            (    'state',   'thrust', 3),\n            (    'state', 'timestep', 0),\n            (    'state', 'timestep', 1),\n            (    'state', 'timestep', 2),\n            (    'state', 'timestep', 3),\n            (    'state', 'velocity', 0),\n            (    'state', 'velocity', 1),\n            (    'state', 'velocity', 2),\n            (    'state', 'velocity', 3),\n            (   'action',       'r0', 0),\n            (   'action',       'r0', 1),\n            (   'action',       'r0', 2),\n            (   'action',       'r0', 3),\n            (   'action',       'r0', 4),\n            (   'action',       'r1', 0),\n            (   'action',       'r1', 1),\n            (   'action',       'r1', 2),\n            (   'action',       'r1', 3),\n            (   'action',       'r1', 4),\n            (   'action',       'r2', 0),\n            (   'action',       'r2', 1),\n            (   'action',       'r2', 2),\n            (   'action',       'r2', 3),\n            (   'action',       'r2', 4),\n            (   'action',    'speed', 0),\n            (   'action',    'speed', 1),\n            (   'action',    'speed', 2),\n            (   'action', 'throttle', 0),\n            (   'action', 'throttle', 1),\n            (   'action', 'throttle', 2),\n            (   'action', 'throttle', 3),\n            (   'action', 'throttle', 4),\n            (   'action', 'timestep', 0),\n            (   'action', 'timestep', 1),\n            (   'action', 'timestep', 2),\n            (   'reward', 'timestep', 0),\n            (   'reward',     'work', 0),\n            (   'nstate',    'brake', 0),\n            (   'nstate',    'brake', 1),\n            (   'nstate',    'brake', 2),\n            (   'nstate',    'brake', 3),\n            (   'nstate',   'thrust', 0),\n            (   'nstate',   'thrust', 1),\n            (   'nstate',   'thrust', 2),\n            (   'nstate',   'thrust', 3),\n            (   'nstate', 'timestep', 0),\n            (   'nstate', 'timestep', 1),\n            (   'nstate', 'timestep', 2),\n            (   'nstate', 'timestep', 3),\n            (   'nstate', 'velocity', 0),\n            (   'nstate', 'velocity', 1),\n            (   'nstate', 'velocity', 2),\n            (   'nstate', 'velocity', 3)],\n           names=['qtuple', 'rows', 'idx'])"
     },
     "execution_count": 35,
     "metadata": {},
     "output_type": "execute_result"
    },
    {
     "data": {
      "text/plain": "qtuple                  timestamp state                             \\\nrows                              brake            thrust            \nidx                             0     0  1   2   3      0  1  2  3   \n0      2023-08-04 12:22:49.017377     8  9  10  11      4  5  6  7   \n1      2023-08-04 13:22:49.017377     8  9  10  11      4  5  6  7   \n2      2023-08-04 14:22:49.017377     8  9  10  11      4  5  6  7   \n3      2023-08-04 15:22:49.017377     8  9  10  11      4  5  6  7   \n4      2023-08-04 16:22:49.017377     8  9  10  11      4  5  6  7   \n\nqtuple                             ... nstate                                 \\\nrows                     timestep  ... thrust                       timestep   \nidx                             0  ...      2   3                          0   \n0      2023-08-04 11:22:49.017377  ...     35  36 2023-08-04 11:22:54.017377   \n1      2023-08-04 11:22:49.017377  ...     35  36 2023-08-04 11:22:54.017377   \n2      2023-08-04 11:22:49.017377  ...     35  36 2023-08-04 11:22:54.017377   \n3      2023-08-04 11:22:49.017377  ...     35  36 2023-08-04 11:22:54.017377   \n4      2023-08-04 11:22:49.017377  ...     35  36 2023-08-04 11:22:54.017377   \n\nqtuple                                                        \\\nrows                                                           \nidx                             1                          2   \n0      2023-08-04 11:22:54.037377 2023-08-04 11:22:54.057377   \n1      2023-08-04 11:22:54.037377 2023-08-04 11:22:54.057377   \n2      2023-08-04 11:22:54.037377 2023-08-04 11:22:54.057377   \n3      2023-08-04 11:22:54.037377 2023-08-04 11:22:54.057377   \n4      2023-08-04 11:22:54.037377 2023-08-04 11:22:54.057377   \n\nqtuple                                                  \nrows                              velocity              \nidx                             3        0   1   2   3  \n0      2023-08-04 11:22:54.077377       29  30  31  32  \n1      2023-08-04 11:22:54.077377       29  30  31  32  \n2      2023-08-04 11:22:54.077377       29  30  31  32  \n3      2023-08-04 11:22:54.077377       29  30  31  32  \n4      2023-08-04 11:22:54.077377       29  30  31  32  \n\n[5 rows x 61 columns]",
      "text/html": "<div>\n<style scoped>\n    .dataframe tbody tr th:only-of-type {\n        vertical-align: middle;\n    }\n\n    .dataframe tbody tr th {\n        vertical-align: top;\n    }\n\n    .dataframe thead tr th {\n        text-align: left;\n    }\n</style>\n<table border=\"1\" class=\"dataframe\">\n  <thead>\n    <tr>\n      <th>qtuple</th>\n      <th>timestamp</th>\n      <th colspan=\"9\" halign=\"left\">state</th>\n      <th>...</th>\n      <th colspan=\"10\" halign=\"left\">nstate</th>\n    </tr>\n    <tr>\n      <th>rows</th>\n      <th></th>\n      <th colspan=\"4\" halign=\"left\">brake</th>\n      <th colspan=\"4\" halign=\"left\">thrust</th>\n      <th>timestep</th>\n      <th>...</th>\n      <th colspan=\"2\" halign=\"left\">thrust</th>\n      <th colspan=\"4\" halign=\"left\">timestep</th>\n      <th colspan=\"4\" halign=\"left\">velocity</th>\n    </tr>\n    <tr>\n      <th>idx</th>\n      <th>0</th>\n      <th>0</th>\n      <th>1</th>\n      <th>2</th>\n      <th>3</th>\n      <th>0</th>\n      <th>1</th>\n      <th>2</th>\n      <th>3</th>\n      <th>0</th>\n      <th>...</th>\n      <th>2</th>\n      <th>3</th>\n      <th>0</th>\n      <th>1</th>\n      <th>2</th>\n      <th>3</th>\n      <th>0</th>\n      <th>1</th>\n      <th>2</th>\n      <th>3</th>\n    </tr>\n  </thead>\n  <tbody>\n    <tr>\n      <th>0</th>\n      <td>2023-08-04 12:22:49.017377</td>\n      <td>8</td>\n      <td>9</td>\n      <td>10</td>\n      <td>11</td>\n      <td>4</td>\n      <td>5</td>\n      <td>6</td>\n      <td>7</td>\n      <td>2023-08-04 11:22:49.017377</td>\n      <td>...</td>\n      <td>35</td>\n      <td>36</td>\n      <td>2023-08-04 11:22:54.017377</td>\n      <td>2023-08-04 11:22:54.037377</td>\n      <td>2023-08-04 11:22:54.057377</td>\n      <td>2023-08-04 11:22:54.077377</td>\n      <td>29</td>\n      <td>30</td>\n      <td>31</td>\n      <td>32</td>\n    </tr>\n    <tr>\n      <th>1</th>\n      <td>2023-08-04 13:22:49.017377</td>\n      <td>8</td>\n      <td>9</td>\n      <td>10</td>\n      <td>11</td>\n      <td>4</td>\n      <td>5</td>\n      <td>6</td>\n      <td>7</td>\n      <td>2023-08-04 11:22:49.017377</td>\n      <td>...</td>\n      <td>35</td>\n      <td>36</td>\n      <td>2023-08-04 11:22:54.017377</td>\n      <td>2023-08-04 11:22:54.037377</td>\n      <td>2023-08-04 11:22:54.057377</td>\n      <td>2023-08-04 11:22:54.077377</td>\n      <td>29</td>\n      <td>30</td>\n      <td>31</td>\n      <td>32</td>\n    </tr>\n    <tr>\n      <th>2</th>\n      <td>2023-08-04 14:22:49.017377</td>\n      <td>8</td>\n      <td>9</td>\n      <td>10</td>\n      <td>11</td>\n      <td>4</td>\n      <td>5</td>\n      <td>6</td>\n      <td>7</td>\n      <td>2023-08-04 11:22:49.017377</td>\n      <td>...</td>\n      <td>35</td>\n      <td>36</td>\n      <td>2023-08-04 11:22:54.017377</td>\n      <td>2023-08-04 11:22:54.037377</td>\n      <td>2023-08-04 11:22:54.057377</td>\n      <td>2023-08-04 11:22:54.077377</td>\n      <td>29</td>\n      <td>30</td>\n      <td>31</td>\n      <td>32</td>\n    </tr>\n    <tr>\n      <th>3</th>\n      <td>2023-08-04 15:22:49.017377</td>\n      <td>8</td>\n      <td>9</td>\n      <td>10</td>\n      <td>11</td>\n      <td>4</td>\n      <td>5</td>\n      <td>6</td>\n      <td>7</td>\n      <td>2023-08-04 11:22:49.017377</td>\n      <td>...</td>\n      <td>35</td>\n      <td>36</td>\n      <td>2023-08-04 11:22:54.017377</td>\n      <td>2023-08-04 11:22:54.037377</td>\n      <td>2023-08-04 11:22:54.057377</td>\n      <td>2023-08-04 11:22:54.077377</td>\n      <td>29</td>\n      <td>30</td>\n      <td>31</td>\n      <td>32</td>\n    </tr>\n    <tr>\n      <th>4</th>\n      <td>2023-08-04 16:22:49.017377</td>\n      <td>8</td>\n      <td>9</td>\n      <td>10</td>\n      <td>11</td>\n      <td>4</td>\n      <td>5</td>\n      <td>6</td>\n      <td>7</td>\n      <td>2023-08-04 11:22:49.017377</td>\n      <td>...</td>\n      <td>35</td>\n      <td>36</td>\n      <td>2023-08-04 11:22:54.017377</td>\n      <td>2023-08-04 11:22:54.037377</td>\n      <td>2023-08-04 11:22:54.057377</td>\n      <td>2023-08-04 11:22:54.077377</td>\n      <td>29</td>\n      <td>30</td>\n      <td>31</td>\n      <td>32</td>\n    </tr>\n  </tbody>\n</table>\n<p>5 rows × 61 columns</p>\n</div>"
     },
     "execution_count": 35,
     "metadata": {},
     "output_type": "execute_result"
    }
   ],
   "source": [
    "\n",
    "dfs_epi = pd.concat(observation_list, axis=1).transpose()\n",
    "dfs_epi.columns.names = ['qtuple', 'rows', 'idx']\n",
    "dfs_epi.columns\n",
    "dfs_epi\n"
   ]
  },
  {
   "cell_type": "code",
   "execution_count": 36,
   "metadata": {
    "ExecuteTime": {
     "end_time": "2023-08-04T03:23:01.707074621Z",
     "start_time": "2023-08-04T03:22:49.428757560Z"
    }
   },
   "outputs": [
    {
     "data": {
      "text/plain": "qtuple                     action                                      ...  \\\nrows                           r0                  r1                  ...   \nidx                             0   1   2   3   4   0   1   2   3   4  ...   \ntimestamp                                                              ...   \n2023-08-04 12:22:49.017377     12  13  14  15  16  17  18  19  20  21  ...   \n2023-08-04 13:22:49.017377     12  13  14  15  16  17  18  19  20  21  ...   \n2023-08-04 14:22:49.017377     12  13  14  15  16  17  18  19  20  21  ...   \n2023-08-04 15:22:49.017377     12  13  14  15  16  17  18  19  20  21  ...   \n2023-08-04 16:22:49.017377     12  13  14  15  16  17  18  19  20  21  ...   \n\nqtuple                      state                                \\\nrows                       thrust                      timestep   \nidx                             2  3                          0   \ntimestamp                                                         \n2023-08-04 12:22:49.017377      6  7 2023-08-04 11:22:49.017377   \n2023-08-04 13:22:49.017377      6  7 2023-08-04 11:22:49.017377   \n2023-08-04 14:22:49.017377      6  7 2023-08-04 11:22:49.017377   \n2023-08-04 15:22:49.017377      6  7 2023-08-04 11:22:49.017377   \n2023-08-04 16:22:49.017377      6  7 2023-08-04 11:22:49.017377   \n\nqtuple                                                 \\\nrows                                                    \nidx                                                 1   \ntimestamp                                               \n2023-08-04 12:22:49.017377 2023-08-04 11:22:49.037377   \n2023-08-04 13:22:49.017377 2023-08-04 11:22:49.037377   \n2023-08-04 14:22:49.017377 2023-08-04 11:22:49.037377   \n2023-08-04 15:22:49.017377 2023-08-04 11:22:49.037377   \n2023-08-04 16:22:49.017377 2023-08-04 11:22:49.037377   \n\nqtuple                                                 \\\nrows                                                    \nidx                                                 2   \ntimestamp                                               \n2023-08-04 12:22:49.017377 2023-08-04 11:22:49.057377   \n2023-08-04 13:22:49.017377 2023-08-04 11:22:49.057377   \n2023-08-04 14:22:49.017377 2023-08-04 11:22:49.057377   \n2023-08-04 15:22:49.017377 2023-08-04 11:22:49.057377   \n2023-08-04 16:22:49.017377 2023-08-04 11:22:49.057377   \n\nqtuple                                                                   \nrows                                                  velocity           \nidx                                                 3        0  1  2  3  \ntimestamp                                                                \n2023-08-04 12:22:49.017377 2023-08-04 11:22:49.077377        0  1  2  3  \n2023-08-04 13:22:49.017377 2023-08-04 11:22:49.077377        0  1  2  3  \n2023-08-04 14:22:49.017377 2023-08-04 11:22:49.077377        0  1  2  3  \n2023-08-04 15:22:49.017377 2023-08-04 11:22:49.077377        0  1  2  3  \n2023-08-04 16:22:49.017377 2023-08-04 11:22:49.077377        0  1  2  3  \n\n[5 rows x 60 columns]",
      "text/html": "<div>\n<style scoped>\n    .dataframe tbody tr th:only-of-type {\n        vertical-align: middle;\n    }\n\n    .dataframe tbody tr th {\n        vertical-align: top;\n    }\n\n    .dataframe thead tr th {\n        text-align: left;\n    }\n\n    .dataframe thead tr:last-of-type th {\n        text-align: right;\n    }\n</style>\n<table border=\"1\" class=\"dataframe\">\n  <thead>\n    <tr>\n      <th>qtuple</th>\n      <th colspan=\"10\" halign=\"left\">action</th>\n      <th>...</th>\n      <th colspan=\"10\" halign=\"left\">state</th>\n    </tr>\n    <tr>\n      <th>rows</th>\n      <th colspan=\"5\" halign=\"left\">r0</th>\n      <th colspan=\"5\" halign=\"left\">r1</th>\n      <th>...</th>\n      <th colspan=\"2\" halign=\"left\">thrust</th>\n      <th colspan=\"4\" halign=\"left\">timestep</th>\n      <th colspan=\"4\" halign=\"left\">velocity</th>\n    </tr>\n    <tr>\n      <th>idx</th>\n      <th>0</th>\n      <th>1</th>\n      <th>2</th>\n      <th>3</th>\n      <th>4</th>\n      <th>0</th>\n      <th>1</th>\n      <th>2</th>\n      <th>3</th>\n      <th>4</th>\n      <th>...</th>\n      <th>2</th>\n      <th>3</th>\n      <th>0</th>\n      <th>1</th>\n      <th>2</th>\n      <th>3</th>\n      <th>0</th>\n      <th>1</th>\n      <th>2</th>\n      <th>3</th>\n    </tr>\n    <tr>\n      <th>timestamp</th>\n      <th></th>\n      <th></th>\n      <th></th>\n      <th></th>\n      <th></th>\n      <th></th>\n      <th></th>\n      <th></th>\n      <th></th>\n      <th></th>\n      <th></th>\n      <th></th>\n      <th></th>\n      <th></th>\n      <th></th>\n      <th></th>\n      <th></th>\n      <th></th>\n      <th></th>\n      <th></th>\n      <th></th>\n    </tr>\n  </thead>\n  <tbody>\n    <tr>\n      <th>2023-08-04 12:22:49.017377</th>\n      <td>12</td>\n      <td>13</td>\n      <td>14</td>\n      <td>15</td>\n      <td>16</td>\n      <td>17</td>\n      <td>18</td>\n      <td>19</td>\n      <td>20</td>\n      <td>21</td>\n      <td>...</td>\n      <td>6</td>\n      <td>7</td>\n      <td>2023-08-04 11:22:49.017377</td>\n      <td>2023-08-04 11:22:49.037377</td>\n      <td>2023-08-04 11:22:49.057377</td>\n      <td>2023-08-04 11:22:49.077377</td>\n      <td>0</td>\n      <td>1</td>\n      <td>2</td>\n      <td>3</td>\n    </tr>\n    <tr>\n      <th>2023-08-04 13:22:49.017377</th>\n      <td>12</td>\n      <td>13</td>\n      <td>14</td>\n      <td>15</td>\n      <td>16</td>\n      <td>17</td>\n      <td>18</td>\n      <td>19</td>\n      <td>20</td>\n      <td>21</td>\n      <td>...</td>\n      <td>6</td>\n      <td>7</td>\n      <td>2023-08-04 11:22:49.017377</td>\n      <td>2023-08-04 11:22:49.037377</td>\n      <td>2023-08-04 11:22:49.057377</td>\n      <td>2023-08-04 11:22:49.077377</td>\n      <td>0</td>\n      <td>1</td>\n      <td>2</td>\n      <td>3</td>\n    </tr>\n    <tr>\n      <th>2023-08-04 14:22:49.017377</th>\n      <td>12</td>\n      <td>13</td>\n      <td>14</td>\n      <td>15</td>\n      <td>16</td>\n      <td>17</td>\n      <td>18</td>\n      <td>19</td>\n      <td>20</td>\n      <td>21</td>\n      <td>...</td>\n      <td>6</td>\n      <td>7</td>\n      <td>2023-08-04 11:22:49.017377</td>\n      <td>2023-08-04 11:22:49.037377</td>\n      <td>2023-08-04 11:22:49.057377</td>\n      <td>2023-08-04 11:22:49.077377</td>\n      <td>0</td>\n      <td>1</td>\n      <td>2</td>\n      <td>3</td>\n    </tr>\n    <tr>\n      <th>2023-08-04 15:22:49.017377</th>\n      <td>12</td>\n      <td>13</td>\n      <td>14</td>\n      <td>15</td>\n      <td>16</td>\n      <td>17</td>\n      <td>18</td>\n      <td>19</td>\n      <td>20</td>\n      <td>21</td>\n      <td>...</td>\n      <td>6</td>\n      <td>7</td>\n      <td>2023-08-04 11:22:49.017377</td>\n      <td>2023-08-04 11:22:49.037377</td>\n      <td>2023-08-04 11:22:49.057377</td>\n      <td>2023-08-04 11:22:49.077377</td>\n      <td>0</td>\n      <td>1</td>\n      <td>2</td>\n      <td>3</td>\n    </tr>\n    <tr>\n      <th>2023-08-04 16:22:49.017377</th>\n      <td>12</td>\n      <td>13</td>\n      <td>14</td>\n      <td>15</td>\n      <td>16</td>\n      <td>17</td>\n      <td>18</td>\n      <td>19</td>\n      <td>20</td>\n      <td>21</td>\n      <td>...</td>\n      <td>6</td>\n      <td>7</td>\n      <td>2023-08-04 11:22:49.017377</td>\n      <td>2023-08-04 11:22:49.037377</td>\n      <td>2023-08-04 11:22:49.057377</td>\n      <td>2023-08-04 11:22:49.077377</td>\n      <td>0</td>\n      <td>1</td>\n      <td>2</td>\n      <td>3</td>\n    </tr>\n  </tbody>\n</table>\n<p>5 rows × 60 columns</p>\n</div>"
     },
     "execution_count": 36,
     "metadata": {},
     "output_type": "execute_result"
    }
   ],
   "source": [
    "dfs_episode1 = dfs_epi.copy().sort_index(axis=1)\n",
    "dfs_episode1.set_index(('timestamp', '', 0), inplace=True)\n",
    "dfs_episode1.index.name = 'timestamp'\n",
    "idx = pd.IndexSlice\n",
    "dfs_episode1"
   ]
  },
  {
   "cell_type": "code",
   "execution_count": 37,
   "metadata": {
    "ExecuteTime": {
     "end_time": "2023-08-04T03:23:01.730733001Z",
     "start_time": "2023-08-04T03:22:49.429077912Z"
    }
   },
   "outputs": [
    {
     "data": {
      "text/plain": "qtuple                     action                                      ...  \\\nrows                           r0                  r1                  ...   \nidx                             0   1   2   3   4   0   1   2   3   4  ...   \ntimestamp                                                              ...   \n2023-08-04 12:22:49.017377     12  13  14  15  16  17  18  19  20  21  ...   \n2023-08-04 13:22:49.017377     12  13  14  15  16  17  18  19  20  21  ...   \n2023-08-04 14:22:49.017377     12  13  14  15  16  17  18  19  20  21  ...   \n2023-08-04 15:22:49.017377     12  13  14  15  16  17  18  19  20  21  ...   \n2023-08-04 16:22:49.017377     12  13  14  15  16  17  18  19  20  21  ...   \n\nqtuple                      state                          \\\nrows                       thrust                timestep   \nidx                             2  3                    0   \ntimestamp                                                   \n2023-08-04 12:22:49.017377      6  7  1691148169017377000   \n2023-08-04 13:22:49.017377      6  7  1691148169017377000   \n2023-08-04 14:22:49.017377      6  7  1691148169017377000   \n2023-08-04 15:22:49.017377      6  7  1691148169017377000   \n2023-08-04 16:22:49.017377      6  7  1691148169017377000   \n\nqtuple                                                                \\\nrows                                                                   \nidx                                           1                    2   \ntimestamp                                                              \n2023-08-04 12:22:49.017377  1691148169037377000  1691148169057377000   \n2023-08-04 13:22:49.017377  1691148169037377000  1691148169057377000   \n2023-08-04 14:22:49.017377  1691148169037377000  1691148169057377000   \n2023-08-04 15:22:49.017377  1691148169037377000  1691148169057377000   \n2023-08-04 16:22:49.017377  1691148169037377000  1691148169057377000   \n\nqtuple                                                             \nrows                                            velocity           \nidx                                           3        0  1  2  3  \ntimestamp                                                          \n2023-08-04 12:22:49.017377  1691148169077377000        0  1  2  3  \n2023-08-04 13:22:49.017377  1691148169077377000        0  1  2  3  \n2023-08-04 14:22:49.017377  1691148169077377000        0  1  2  3  \n2023-08-04 15:22:49.017377  1691148169077377000        0  1  2  3  \n2023-08-04 16:22:49.017377  1691148169077377000        0  1  2  3  \n\n[5 rows x 60 columns]",
      "text/html": "<div>\n<style scoped>\n    .dataframe tbody tr th:only-of-type {\n        vertical-align: middle;\n    }\n\n    .dataframe tbody tr th {\n        vertical-align: top;\n    }\n\n    .dataframe thead tr th {\n        text-align: left;\n    }\n\n    .dataframe thead tr:last-of-type th {\n        text-align: right;\n    }\n</style>\n<table border=\"1\" class=\"dataframe\">\n  <thead>\n    <tr>\n      <th>qtuple</th>\n      <th colspan=\"10\" halign=\"left\">action</th>\n      <th>...</th>\n      <th colspan=\"10\" halign=\"left\">state</th>\n    </tr>\n    <tr>\n      <th>rows</th>\n      <th colspan=\"5\" halign=\"left\">r0</th>\n      <th colspan=\"5\" halign=\"left\">r1</th>\n      <th>...</th>\n      <th colspan=\"2\" halign=\"left\">thrust</th>\n      <th colspan=\"4\" halign=\"left\">timestep</th>\n      <th colspan=\"4\" halign=\"left\">velocity</th>\n    </tr>\n    <tr>\n      <th>idx</th>\n      <th>0</th>\n      <th>1</th>\n      <th>2</th>\n      <th>3</th>\n      <th>4</th>\n      <th>0</th>\n      <th>1</th>\n      <th>2</th>\n      <th>3</th>\n      <th>4</th>\n      <th>...</th>\n      <th>2</th>\n      <th>3</th>\n      <th>0</th>\n      <th>1</th>\n      <th>2</th>\n      <th>3</th>\n      <th>0</th>\n      <th>1</th>\n      <th>2</th>\n      <th>3</th>\n    </tr>\n    <tr>\n      <th>timestamp</th>\n      <th></th>\n      <th></th>\n      <th></th>\n      <th></th>\n      <th></th>\n      <th></th>\n      <th></th>\n      <th></th>\n      <th></th>\n      <th></th>\n      <th></th>\n      <th></th>\n      <th></th>\n      <th></th>\n      <th></th>\n      <th></th>\n      <th></th>\n      <th></th>\n      <th></th>\n      <th></th>\n      <th></th>\n    </tr>\n  </thead>\n  <tbody>\n    <tr>\n      <th>2023-08-04 12:22:49.017377</th>\n      <td>12</td>\n      <td>13</td>\n      <td>14</td>\n      <td>15</td>\n      <td>16</td>\n      <td>17</td>\n      <td>18</td>\n      <td>19</td>\n      <td>20</td>\n      <td>21</td>\n      <td>...</td>\n      <td>6</td>\n      <td>7</td>\n      <td>1691148169017377000</td>\n      <td>1691148169037377000</td>\n      <td>1691148169057377000</td>\n      <td>1691148169077377000</td>\n      <td>0</td>\n      <td>1</td>\n      <td>2</td>\n      <td>3</td>\n    </tr>\n    <tr>\n      <th>2023-08-04 13:22:49.017377</th>\n      <td>12</td>\n      <td>13</td>\n      <td>14</td>\n      <td>15</td>\n      <td>16</td>\n      <td>17</td>\n      <td>18</td>\n      <td>19</td>\n      <td>20</td>\n      <td>21</td>\n      <td>...</td>\n      <td>6</td>\n      <td>7</td>\n      <td>1691148169017377000</td>\n      <td>1691148169037377000</td>\n      <td>1691148169057377000</td>\n      <td>1691148169077377000</td>\n      <td>0</td>\n      <td>1</td>\n      <td>2</td>\n      <td>3</td>\n    </tr>\n    <tr>\n      <th>2023-08-04 14:22:49.017377</th>\n      <td>12</td>\n      <td>13</td>\n      <td>14</td>\n      <td>15</td>\n      <td>16</td>\n      <td>17</td>\n      <td>18</td>\n      <td>19</td>\n      <td>20</td>\n      <td>21</td>\n      <td>...</td>\n      <td>6</td>\n      <td>7</td>\n      <td>1691148169017377000</td>\n      <td>1691148169037377000</td>\n      <td>1691148169057377000</td>\n      <td>1691148169077377000</td>\n      <td>0</td>\n      <td>1</td>\n      <td>2</td>\n      <td>3</td>\n    </tr>\n    <tr>\n      <th>2023-08-04 15:22:49.017377</th>\n      <td>12</td>\n      <td>13</td>\n      <td>14</td>\n      <td>15</td>\n      <td>16</td>\n      <td>17</td>\n      <td>18</td>\n      <td>19</td>\n      <td>20</td>\n      <td>21</td>\n      <td>...</td>\n      <td>6</td>\n      <td>7</td>\n      <td>1691148169017377000</td>\n      <td>1691148169037377000</td>\n      <td>1691148169057377000</td>\n      <td>1691148169077377000</td>\n      <td>0</td>\n      <td>1</td>\n      <td>2</td>\n      <td>3</td>\n    </tr>\n    <tr>\n      <th>2023-08-04 16:22:49.017377</th>\n      <td>12</td>\n      <td>13</td>\n      <td>14</td>\n      <td>15</td>\n      <td>16</td>\n      <td>17</td>\n      <td>18</td>\n      <td>19</td>\n      <td>20</td>\n      <td>21</td>\n      <td>...</td>\n      <td>6</td>\n      <td>7</td>\n      <td>1691148169017377000</td>\n      <td>1691148169037377000</td>\n      <td>1691148169057377000</td>\n      <td>1691148169077377000</td>\n      <td>0</td>\n      <td>1</td>\n      <td>2</td>\n      <td>3</td>\n    </tr>\n  </tbody>\n</table>\n<p>5 rows × 60 columns</p>\n</div>"
     },
     "execution_count": 37,
     "metadata": {},
     "output_type": "execute_result"
    },
    {
     "data": {
      "text/plain": "qtuple  rows      idx\naction  r0        0      object\n                  1      object\n                  2      object\n                  3      object\n                  4      object\n        r1        0      object\n                  1      object\n                  2      object\n                  3      object\n                  4      object\n        r2        0      object\n                  1      object\n                  2      object\n                  3      object\n                  4      object\n        speed     0      object\n                  1      object\n                  2      object\n        throttle  0      object\n                  1      object\n                  2      object\n                  3      object\n                  4      object\n        timestep  0       int64\n                  1       int64\n                  2       int64\nnstate  brake     0      object\n                  1      object\n                  2      object\n                  3      object\n        thrust    0      object\n                  1      object\n                  2      object\n                  3      object\n        timestep  0       int64\n                  1       int64\n                  2       int64\n                  3       int64\n        velocity  0      object\n                  1      object\n                  2      object\n                  3      object\nreward  timestep  0       int64\n        work      0      object\nstate   brake     0      object\n                  1      object\n                  2      object\n                  3      object\n        thrust    0      object\n                  1      object\n                  2      object\n                  3      object\n        timestep  0       int64\n                  1       int64\n                  2       int64\n                  3       int64\n        velocity  0      object\n                  1      object\n                  2      object\n                  3      object\ndtype: object"
     },
     "execution_count": 37,
     "metadata": {},
     "output_type": "execute_result"
    },
    {
     "data": {
      "text/plain": "MultiIndex([('action',       'r0', 0),\n            ('action',       'r0', 1),\n            ('action',       'r0', 2),\n            ('action',       'r0', 3),\n            ('action',       'r0', 4),\n            ('action',       'r1', 0),\n            ('action',       'r1', 1),\n            ('action',       'r1', 2),\n            ('action',       'r1', 3),\n            ('action',       'r1', 4),\n            ('action',       'r2', 0),\n            ('action',       'r2', 1),\n            ('action',       'r2', 2),\n            ('action',       'r2', 3),\n            ('action',       'r2', 4),\n            ('action',    'speed', 0),\n            ('action',    'speed', 1),\n            ('action',    'speed', 2),\n            ('action', 'throttle', 0),\n            ('action', 'throttle', 1),\n            ('action', 'throttle', 2),\n            ('action', 'throttle', 3),\n            ('action', 'throttle', 4),\n            ('action', 'timestep', 0),\n            ('action', 'timestep', 1),\n            ('action', 'timestep', 2),\n            ('nstate',    'brake', 0),\n            ('nstate',    'brake', 1),\n            ('nstate',    'brake', 2),\n            ('nstate',    'brake', 3),\n            ('nstate',   'thrust', 0),\n            ('nstate',   'thrust', 1),\n            ('nstate',   'thrust', 2),\n            ('nstate',   'thrust', 3),\n            ('nstate', 'timestep', 0),\n            ('nstate', 'timestep', 1),\n            ('nstate', 'timestep', 2),\n            ('nstate', 'timestep', 3),\n            ('nstate', 'velocity', 0),\n            ('nstate', 'velocity', 1),\n            ('nstate', 'velocity', 2),\n            ('nstate', 'velocity', 3),\n            ('reward', 'timestep', 0),\n            ('reward',     'work', 0),\n            ( 'state',    'brake', 0),\n            ( 'state',    'brake', 1),\n            ( 'state',    'brake', 2),\n            ( 'state',    'brake', 3),\n            ( 'state',   'thrust', 0),\n            ( 'state',   'thrust', 1),\n            ( 'state',   'thrust', 2),\n            ( 'state',   'thrust', 3),\n            ( 'state', 'timestep', 0),\n            ( 'state', 'timestep', 1),\n            ( 'state', 'timestep', 2),\n            ( 'state', 'timestep', 3),\n            ( 'state', 'velocity', 0),\n            ( 'state', 'velocity', 1),\n            ( 'state', 'velocity', 2),\n            ( 'state', 'velocity', 3)],\n           names=['qtuple', 'rows', 'idx'])"
     },
     "execution_count": 37,
     "metadata": {},
     "output_type": "execute_result"
    }
   ],
   "source": [
    "dfs_episode1.loc[:, idx['action':'state', :, :, :]] = dfs_episode1.loc[\n",
    "    :, idx['action':'state', :, :, :]\n",
    "].astype('int')\n",
    "dfs_episode1\n",
    "dfs_episode1.dtypes\n",
    "dfs_episode1.columns"
   ]
  },
  {
   "cell_type": "markdown",
   "metadata": {},
   "source": [
    "### Convert columns types to float"
   ]
  },
  {
   "cell_type": "code",
   "execution_count": 38,
   "metadata": {
    "ExecuteTime": {
     "end_time": "2023-08-04T03:23:01.732587405Z",
     "start_time": "2023-08-04T03:22:49.453792687Z"
    }
   },
   "outputs": [
    {
     "data": {
      "text/plain": "qtuple                  timestamp state                             \\\nrows                              brake            thrust            \nidx                             0     0  1   2   3      0  1  2  3   \n0      2023-08-04 12:22:49.017377     8  9  10  11      4  5  6  7   \n1      2023-08-04 13:22:49.017377     8  9  10  11      4  5  6  7   \n2      2023-08-04 14:22:49.017377     8  9  10  11      4  5  6  7   \n3      2023-08-04 15:22:49.017377     8  9  10  11      4  5  6  7   \n4      2023-08-04 16:22:49.017377     8  9  10  11      4  5  6  7   \n\nqtuple                             ... nstate                                 \\\nrows                     timestep  ... thrust                       timestep   \nidx                             0  ...      2   3                          0   \n0      2023-08-04 11:22:49.017377  ...     35  36 2023-08-04 11:22:54.017377   \n1      2023-08-04 11:22:49.017377  ...     35  36 2023-08-04 11:22:54.017377   \n2      2023-08-04 11:22:49.017377  ...     35  36 2023-08-04 11:22:54.017377   \n3      2023-08-04 11:22:49.017377  ...     35  36 2023-08-04 11:22:54.017377   \n4      2023-08-04 11:22:49.017377  ...     35  36 2023-08-04 11:22:54.017377   \n\nqtuple                                                        \\\nrows                                                           \nidx                             1                          2   \n0      2023-08-04 11:22:54.037377 2023-08-04 11:22:54.057377   \n1      2023-08-04 11:22:54.037377 2023-08-04 11:22:54.057377   \n2      2023-08-04 11:22:54.037377 2023-08-04 11:22:54.057377   \n3      2023-08-04 11:22:54.037377 2023-08-04 11:22:54.057377   \n4      2023-08-04 11:22:54.037377 2023-08-04 11:22:54.057377   \n\nqtuple                                                  \nrows                              velocity              \nidx                             3        0   1   2   3  \n0      2023-08-04 11:22:54.077377       29  30  31  32  \n1      2023-08-04 11:22:54.077377       29  30  31  32  \n2      2023-08-04 11:22:54.077377       29  30  31  32  \n3      2023-08-04 11:22:54.077377       29  30  31  32  \n4      2023-08-04 11:22:54.077377       29  30  31  32  \n\n[5 rows x 61 columns]",
      "text/html": "<div>\n<style scoped>\n    .dataframe tbody tr th:only-of-type {\n        vertical-align: middle;\n    }\n\n    .dataframe tbody tr th {\n        vertical-align: top;\n    }\n\n    .dataframe thead tr th {\n        text-align: left;\n    }\n</style>\n<table border=\"1\" class=\"dataframe\">\n  <thead>\n    <tr>\n      <th>qtuple</th>\n      <th>timestamp</th>\n      <th colspan=\"9\" halign=\"left\">state</th>\n      <th>...</th>\n      <th colspan=\"10\" halign=\"left\">nstate</th>\n    </tr>\n    <tr>\n      <th>rows</th>\n      <th></th>\n      <th colspan=\"4\" halign=\"left\">brake</th>\n      <th colspan=\"4\" halign=\"left\">thrust</th>\n      <th>timestep</th>\n      <th>...</th>\n      <th colspan=\"2\" halign=\"left\">thrust</th>\n      <th colspan=\"4\" halign=\"left\">timestep</th>\n      <th colspan=\"4\" halign=\"left\">velocity</th>\n    </tr>\n    <tr>\n      <th>idx</th>\n      <th>0</th>\n      <th>0</th>\n      <th>1</th>\n      <th>2</th>\n      <th>3</th>\n      <th>0</th>\n      <th>1</th>\n      <th>2</th>\n      <th>3</th>\n      <th>0</th>\n      <th>...</th>\n      <th>2</th>\n      <th>3</th>\n      <th>0</th>\n      <th>1</th>\n      <th>2</th>\n      <th>3</th>\n      <th>0</th>\n      <th>1</th>\n      <th>2</th>\n      <th>3</th>\n    </tr>\n  </thead>\n  <tbody>\n    <tr>\n      <th>0</th>\n      <td>2023-08-04 12:22:49.017377</td>\n      <td>8</td>\n      <td>9</td>\n      <td>10</td>\n      <td>11</td>\n      <td>4</td>\n      <td>5</td>\n      <td>6</td>\n      <td>7</td>\n      <td>2023-08-04 11:22:49.017377</td>\n      <td>...</td>\n      <td>35</td>\n      <td>36</td>\n      <td>2023-08-04 11:22:54.017377</td>\n      <td>2023-08-04 11:22:54.037377</td>\n      <td>2023-08-04 11:22:54.057377</td>\n      <td>2023-08-04 11:22:54.077377</td>\n      <td>29</td>\n      <td>30</td>\n      <td>31</td>\n      <td>32</td>\n    </tr>\n    <tr>\n      <th>1</th>\n      <td>2023-08-04 13:22:49.017377</td>\n      <td>8</td>\n      <td>9</td>\n      <td>10</td>\n      <td>11</td>\n      <td>4</td>\n      <td>5</td>\n      <td>6</td>\n      <td>7</td>\n      <td>2023-08-04 11:22:49.017377</td>\n      <td>...</td>\n      <td>35</td>\n      <td>36</td>\n      <td>2023-08-04 11:22:54.017377</td>\n      <td>2023-08-04 11:22:54.037377</td>\n      <td>2023-08-04 11:22:54.057377</td>\n      <td>2023-08-04 11:22:54.077377</td>\n      <td>29</td>\n      <td>30</td>\n      <td>31</td>\n      <td>32</td>\n    </tr>\n    <tr>\n      <th>2</th>\n      <td>2023-08-04 14:22:49.017377</td>\n      <td>8</td>\n      <td>9</td>\n      <td>10</td>\n      <td>11</td>\n      <td>4</td>\n      <td>5</td>\n      <td>6</td>\n      <td>7</td>\n      <td>2023-08-04 11:22:49.017377</td>\n      <td>...</td>\n      <td>35</td>\n      <td>36</td>\n      <td>2023-08-04 11:22:54.017377</td>\n      <td>2023-08-04 11:22:54.037377</td>\n      <td>2023-08-04 11:22:54.057377</td>\n      <td>2023-08-04 11:22:54.077377</td>\n      <td>29</td>\n      <td>30</td>\n      <td>31</td>\n      <td>32</td>\n    </tr>\n    <tr>\n      <th>3</th>\n      <td>2023-08-04 15:22:49.017377</td>\n      <td>8</td>\n      <td>9</td>\n      <td>10</td>\n      <td>11</td>\n      <td>4</td>\n      <td>5</td>\n      <td>6</td>\n      <td>7</td>\n      <td>2023-08-04 11:22:49.017377</td>\n      <td>...</td>\n      <td>35</td>\n      <td>36</td>\n      <td>2023-08-04 11:22:54.017377</td>\n      <td>2023-08-04 11:22:54.037377</td>\n      <td>2023-08-04 11:22:54.057377</td>\n      <td>2023-08-04 11:22:54.077377</td>\n      <td>29</td>\n      <td>30</td>\n      <td>31</td>\n      <td>32</td>\n    </tr>\n    <tr>\n      <th>4</th>\n      <td>2023-08-04 16:22:49.017377</td>\n      <td>8</td>\n      <td>9</td>\n      <td>10</td>\n      <td>11</td>\n      <td>4</td>\n      <td>5</td>\n      <td>6</td>\n      <td>7</td>\n      <td>2023-08-04 11:22:49.017377</td>\n      <td>...</td>\n      <td>35</td>\n      <td>36</td>\n      <td>2023-08-04 11:22:54.017377</td>\n      <td>2023-08-04 11:22:54.037377</td>\n      <td>2023-08-04 11:22:54.057377</td>\n      <td>2023-08-04 11:22:54.077377</td>\n      <td>29</td>\n      <td>30</td>\n      <td>31</td>\n      <td>32</td>\n    </tr>\n  </tbody>\n</table>\n<p>5 rows × 61 columns</p>\n</div>"
     },
     "execution_count": 38,
     "metadata": {},
     "output_type": "execute_result"
    },
    {
     "data": {
      "text/plain": "RangeIndex(start=0, stop=5, step=1)"
     },
     "execution_count": 38,
     "metadata": {},
     "output_type": "execute_result"
    },
    {
     "data": {
      "text/plain": "DatetimeIndex(['2023-08-04 12:22:49.017377', '2023-08-04 13:22:49.017377',\n               '2023-08-04 14:22:49.017377', '2023-08-04 15:22:49.017377',\n               '2023-08-04 16:22:49.017377'],\n              dtype='datetime64[ns]', name=('timestamp', '', 0), freq=None)"
     },
     "execution_count": 38,
     "metadata": {},
     "output_type": "execute_result"
    },
    {
     "data": {
      "text/plain": "qtuple                     action                                      ...  \\\nrows                           r0                  r1                  ...   \nidx                             0   1   2   3   4   0   1   2   3   4  ...   \n(timestamp, , 0)                                                       ...   \n2023-08-04 12:22:49.017377     12  13  14  15  16  17  18  19  20  21  ...   \n2023-08-04 13:22:49.017377     12  13  14  15  16  17  18  19  20  21  ...   \n2023-08-04 14:22:49.017377     12  13  14  15  16  17  18  19  20  21  ...   \n2023-08-04 15:22:49.017377     12  13  14  15  16  17  18  19  20  21  ...   \n2023-08-04 16:22:49.017377     12  13  14  15  16  17  18  19  20  21  ...   \n\nqtuple                      state                                \\\nrows                       thrust                      timestep   \nidx                             2  3                          0   \n(timestamp, , 0)                                                  \n2023-08-04 12:22:49.017377      6  7 2023-08-04 11:22:49.017377   \n2023-08-04 13:22:49.017377      6  7 2023-08-04 11:22:49.017377   \n2023-08-04 14:22:49.017377      6  7 2023-08-04 11:22:49.017377   \n2023-08-04 15:22:49.017377      6  7 2023-08-04 11:22:49.017377   \n2023-08-04 16:22:49.017377      6  7 2023-08-04 11:22:49.017377   \n\nqtuple                                                 \\\nrows                                                    \nidx                                                 1   \n(timestamp, , 0)                                        \n2023-08-04 12:22:49.017377 2023-08-04 11:22:49.037377   \n2023-08-04 13:22:49.017377 2023-08-04 11:22:49.037377   \n2023-08-04 14:22:49.017377 2023-08-04 11:22:49.037377   \n2023-08-04 15:22:49.017377 2023-08-04 11:22:49.037377   \n2023-08-04 16:22:49.017377 2023-08-04 11:22:49.037377   \n\nqtuple                                                 \\\nrows                                                    \nidx                                                 2   \n(timestamp, , 0)                                        \n2023-08-04 12:22:49.017377 2023-08-04 11:22:49.057377   \n2023-08-04 13:22:49.017377 2023-08-04 11:22:49.057377   \n2023-08-04 14:22:49.017377 2023-08-04 11:22:49.057377   \n2023-08-04 15:22:49.017377 2023-08-04 11:22:49.057377   \n2023-08-04 16:22:49.017377 2023-08-04 11:22:49.057377   \n\nqtuple                                                                   \nrows                                                  velocity           \nidx                                                 3        0  1  2  3  \n(timestamp, , 0)                                                         \n2023-08-04 12:22:49.017377 2023-08-04 11:22:49.077377        0  1  2  3  \n2023-08-04 13:22:49.017377 2023-08-04 11:22:49.077377        0  1  2  3  \n2023-08-04 14:22:49.017377 2023-08-04 11:22:49.077377        0  1  2  3  \n2023-08-04 15:22:49.017377 2023-08-04 11:22:49.077377        0  1  2  3  \n2023-08-04 16:22:49.017377 2023-08-04 11:22:49.077377        0  1  2  3  \n\n[5 rows x 60 columns]",
      "text/html": "<div>\n<style scoped>\n    .dataframe tbody tr th:only-of-type {\n        vertical-align: middle;\n    }\n\n    .dataframe tbody tr th {\n        vertical-align: top;\n    }\n\n    .dataframe thead tr th {\n        text-align: left;\n    }\n\n    .dataframe thead tr:last-of-type th {\n        text-align: right;\n    }\n</style>\n<table border=\"1\" class=\"dataframe\">\n  <thead>\n    <tr>\n      <th>qtuple</th>\n      <th colspan=\"10\" halign=\"left\">action</th>\n      <th>...</th>\n      <th colspan=\"10\" halign=\"left\">state</th>\n    </tr>\n    <tr>\n      <th>rows</th>\n      <th colspan=\"5\" halign=\"left\">r0</th>\n      <th colspan=\"5\" halign=\"left\">r1</th>\n      <th>...</th>\n      <th colspan=\"2\" halign=\"left\">thrust</th>\n      <th colspan=\"4\" halign=\"left\">timestep</th>\n      <th colspan=\"4\" halign=\"left\">velocity</th>\n    </tr>\n    <tr>\n      <th>idx</th>\n      <th>0</th>\n      <th>1</th>\n      <th>2</th>\n      <th>3</th>\n      <th>4</th>\n      <th>0</th>\n      <th>1</th>\n      <th>2</th>\n      <th>3</th>\n      <th>4</th>\n      <th>...</th>\n      <th>2</th>\n      <th>3</th>\n      <th>0</th>\n      <th>1</th>\n      <th>2</th>\n      <th>3</th>\n      <th>0</th>\n      <th>1</th>\n      <th>2</th>\n      <th>3</th>\n    </tr>\n    <tr>\n      <th>(timestamp, , 0)</th>\n      <th></th>\n      <th></th>\n      <th></th>\n      <th></th>\n      <th></th>\n      <th></th>\n      <th></th>\n      <th></th>\n      <th></th>\n      <th></th>\n      <th></th>\n      <th></th>\n      <th></th>\n      <th></th>\n      <th></th>\n      <th></th>\n      <th></th>\n      <th></th>\n      <th></th>\n      <th></th>\n      <th></th>\n    </tr>\n  </thead>\n  <tbody>\n    <tr>\n      <th>2023-08-04 12:22:49.017377</th>\n      <td>12</td>\n      <td>13</td>\n      <td>14</td>\n      <td>15</td>\n      <td>16</td>\n      <td>17</td>\n      <td>18</td>\n      <td>19</td>\n      <td>20</td>\n      <td>21</td>\n      <td>...</td>\n      <td>6</td>\n      <td>7</td>\n      <td>2023-08-04 11:22:49.017377</td>\n      <td>2023-08-04 11:22:49.037377</td>\n      <td>2023-08-04 11:22:49.057377</td>\n      <td>2023-08-04 11:22:49.077377</td>\n      <td>0</td>\n      <td>1</td>\n      <td>2</td>\n      <td>3</td>\n    </tr>\n    <tr>\n      <th>2023-08-04 13:22:49.017377</th>\n      <td>12</td>\n      <td>13</td>\n      <td>14</td>\n      <td>15</td>\n      <td>16</td>\n      <td>17</td>\n      <td>18</td>\n      <td>19</td>\n      <td>20</td>\n      <td>21</td>\n      <td>...</td>\n      <td>6</td>\n      <td>7</td>\n      <td>2023-08-04 11:22:49.017377</td>\n      <td>2023-08-04 11:22:49.037377</td>\n      <td>2023-08-04 11:22:49.057377</td>\n      <td>2023-08-04 11:22:49.077377</td>\n      <td>0</td>\n      <td>1</td>\n      <td>2</td>\n      <td>3</td>\n    </tr>\n    <tr>\n      <th>2023-08-04 14:22:49.017377</th>\n      <td>12</td>\n      <td>13</td>\n      <td>14</td>\n      <td>15</td>\n      <td>16</td>\n      <td>17</td>\n      <td>18</td>\n      <td>19</td>\n      <td>20</td>\n      <td>21</td>\n      <td>...</td>\n      <td>6</td>\n      <td>7</td>\n      <td>2023-08-04 11:22:49.017377</td>\n      <td>2023-08-04 11:22:49.037377</td>\n      <td>2023-08-04 11:22:49.057377</td>\n      <td>2023-08-04 11:22:49.077377</td>\n      <td>0</td>\n      <td>1</td>\n      <td>2</td>\n      <td>3</td>\n    </tr>\n    <tr>\n      <th>2023-08-04 15:22:49.017377</th>\n      <td>12</td>\n      <td>13</td>\n      <td>14</td>\n      <td>15</td>\n      <td>16</td>\n      <td>17</td>\n      <td>18</td>\n      <td>19</td>\n      <td>20</td>\n      <td>21</td>\n      <td>...</td>\n      <td>6</td>\n      <td>7</td>\n      <td>2023-08-04 11:22:49.017377</td>\n      <td>2023-08-04 11:22:49.037377</td>\n      <td>2023-08-04 11:22:49.057377</td>\n      <td>2023-08-04 11:22:49.077377</td>\n      <td>0</td>\n      <td>1</td>\n      <td>2</td>\n      <td>3</td>\n    </tr>\n    <tr>\n      <th>2023-08-04 16:22:49.017377</th>\n      <td>12</td>\n      <td>13</td>\n      <td>14</td>\n      <td>15</td>\n      <td>16</td>\n      <td>17</td>\n      <td>18</td>\n      <td>19</td>\n      <td>20</td>\n      <td>21</td>\n      <td>...</td>\n      <td>6</td>\n      <td>7</td>\n      <td>2023-08-04 11:22:49.017377</td>\n      <td>2023-08-04 11:22:49.037377</td>\n      <td>2023-08-04 11:22:49.057377</td>\n      <td>2023-08-04 11:22:49.077377</td>\n      <td>0</td>\n      <td>1</td>\n      <td>2</td>\n      <td>3</td>\n    </tr>\n  </tbody>\n</table>\n<p>5 rows × 60 columns</p>\n</div>"
     },
     "execution_count": 38,
     "metadata": {},
     "output_type": "execute_result"
    }
   ],
   "source": [
    "dfs_epi\n",
    "dfs_episode = dfs_epi.copy()\n",
    "dfs_episode.index\n",
    "dfs_episode.set_index(('timestamp', '', 0), inplace=True)\n",
    "dfs_episode.sort_index(axis=1, inplace=True)\n",
    "dfs_episode.index\n",
    "dfs_episode\n"
   ]
  },
  {
   "cell_type": "code",
   "execution_count": 39,
   "metadata": {
    "ExecuteTime": {
     "end_time": "2023-08-04T03:23:01.733178095Z",
     "start_time": "2023-08-04T03:22:49.500867453Z"
    }
   },
   "outputs": [
    {
     "data": {
      "text/plain": "qtuple                     action                                            \\\nrows                           r0                            r1               \nidx                             0     1     2     3     4     0     1     2   \ntimestamp                                                                     \n2023-08-04 12:22:49.017377   12.0  13.0  14.0  15.0  16.0  17.0  18.0  19.0   \n2023-08-04 13:22:49.017377   12.0  13.0  14.0  15.0  16.0  17.0  18.0  19.0   \n2023-08-04 14:22:49.017377   12.0  13.0  14.0  15.0  16.0  17.0  18.0  19.0   \n2023-08-04 15:22:49.017377   12.0  13.0  14.0  15.0  16.0  17.0  18.0  19.0   \n2023-08-04 16:22:49.017377   12.0  13.0  14.0  15.0  16.0  17.0  18.0  19.0   \n\nqtuple                                  ...  state       \\\nrows                                    ... thrust        \nidx                            3     4  ...      2    3   \ntimestamp                               ...               \n2023-08-04 12:22:49.017377  20.0  21.0  ...    6.0  7.0   \n2023-08-04 13:22:49.017377  20.0  21.0  ...    6.0  7.0   \n2023-08-04 14:22:49.017377  20.0  21.0  ...    6.0  7.0   \n2023-08-04 15:22:49.017377  20.0  21.0  ...    6.0  7.0   \n2023-08-04 16:22:49.017377  20.0  21.0  ...    6.0  7.0   \n\nqtuple                                                 \\\nrows                                         timestep   \nidx                                                 0   \ntimestamp                                               \n2023-08-04 12:22:49.017377 2023-08-04 11:22:49.017377   \n2023-08-04 13:22:49.017377 2023-08-04 11:22:49.017377   \n2023-08-04 14:22:49.017377 2023-08-04 11:22:49.017377   \n2023-08-04 15:22:49.017377 2023-08-04 11:22:49.017377   \n2023-08-04 16:22:49.017377 2023-08-04 11:22:49.017377   \n\nqtuple                                                 \\\nrows                                                    \nidx                                                 1   \ntimestamp                                               \n2023-08-04 12:22:49.017377 2023-08-04 11:22:49.037377   \n2023-08-04 13:22:49.017377 2023-08-04 11:22:49.037377   \n2023-08-04 14:22:49.017377 2023-08-04 11:22:49.037377   \n2023-08-04 15:22:49.017377 2023-08-04 11:22:49.037377   \n2023-08-04 16:22:49.017377 2023-08-04 11:22:49.037377   \n\nqtuple                                                 \\\nrows                                                    \nidx                                                 2   \ntimestamp                                               \n2023-08-04 12:22:49.017377 2023-08-04 11:22:49.057377   \n2023-08-04 13:22:49.017377 2023-08-04 11:22:49.057377   \n2023-08-04 14:22:49.017377 2023-08-04 11:22:49.057377   \n2023-08-04 15:22:49.017377 2023-08-04 11:22:49.057377   \n2023-08-04 16:22:49.017377 2023-08-04 11:22:49.057377   \n\nqtuple                                                                         \nrows                                                  velocity                 \nidx                                                 3        0    1    2    3  \ntimestamp                                                                      \n2023-08-04 12:22:49.017377 2023-08-04 11:22:49.077377      0.0  1.0  2.0  3.0  \n2023-08-04 13:22:49.017377 2023-08-04 11:22:49.077377      0.0  1.0  2.0  3.0  \n2023-08-04 14:22:49.017377 2023-08-04 11:22:49.077377      0.0  1.0  2.0  3.0  \n2023-08-04 15:22:49.017377 2023-08-04 11:22:49.077377      0.0  1.0  2.0  3.0  \n2023-08-04 16:22:49.017377 2023-08-04 11:22:49.077377      0.0  1.0  2.0  3.0  \n\n[5 rows x 60 columns]",
      "text/html": "<div>\n<style scoped>\n    .dataframe tbody tr th:only-of-type {\n        vertical-align: middle;\n    }\n\n    .dataframe tbody tr th {\n        vertical-align: top;\n    }\n\n    .dataframe thead tr th {\n        text-align: left;\n    }\n\n    .dataframe thead tr:last-of-type th {\n        text-align: right;\n    }\n</style>\n<table border=\"1\" class=\"dataframe\">\n  <thead>\n    <tr>\n      <th>qtuple</th>\n      <th colspan=\"10\" halign=\"left\">action</th>\n      <th>...</th>\n      <th colspan=\"10\" halign=\"left\">state</th>\n    </tr>\n    <tr>\n      <th>rows</th>\n      <th colspan=\"5\" halign=\"left\">r0</th>\n      <th colspan=\"5\" halign=\"left\">r1</th>\n      <th>...</th>\n      <th colspan=\"2\" halign=\"left\">thrust</th>\n      <th colspan=\"4\" halign=\"left\">timestep</th>\n      <th colspan=\"4\" halign=\"left\">velocity</th>\n    </tr>\n    <tr>\n      <th>idx</th>\n      <th>0</th>\n      <th>1</th>\n      <th>2</th>\n      <th>3</th>\n      <th>4</th>\n      <th>0</th>\n      <th>1</th>\n      <th>2</th>\n      <th>3</th>\n      <th>4</th>\n      <th>...</th>\n      <th>2</th>\n      <th>3</th>\n      <th>0</th>\n      <th>1</th>\n      <th>2</th>\n      <th>3</th>\n      <th>0</th>\n      <th>1</th>\n      <th>2</th>\n      <th>3</th>\n    </tr>\n    <tr>\n      <th>timestamp</th>\n      <th></th>\n      <th></th>\n      <th></th>\n      <th></th>\n      <th></th>\n      <th></th>\n      <th></th>\n      <th></th>\n      <th></th>\n      <th></th>\n      <th></th>\n      <th></th>\n      <th></th>\n      <th></th>\n      <th></th>\n      <th></th>\n      <th></th>\n      <th></th>\n      <th></th>\n      <th></th>\n      <th></th>\n    </tr>\n  </thead>\n  <tbody>\n    <tr>\n      <th>2023-08-04 12:22:49.017377</th>\n      <td>12.0</td>\n      <td>13.0</td>\n      <td>14.0</td>\n      <td>15.0</td>\n      <td>16.0</td>\n      <td>17.0</td>\n      <td>18.0</td>\n      <td>19.0</td>\n      <td>20.0</td>\n      <td>21.0</td>\n      <td>...</td>\n      <td>6.0</td>\n      <td>7.0</td>\n      <td>2023-08-04 11:22:49.017377</td>\n      <td>2023-08-04 11:22:49.037377</td>\n      <td>2023-08-04 11:22:49.057377</td>\n      <td>2023-08-04 11:22:49.077377</td>\n      <td>0.0</td>\n      <td>1.0</td>\n      <td>2.0</td>\n      <td>3.0</td>\n    </tr>\n    <tr>\n      <th>2023-08-04 13:22:49.017377</th>\n      <td>12.0</td>\n      <td>13.0</td>\n      <td>14.0</td>\n      <td>15.0</td>\n      <td>16.0</td>\n      <td>17.0</td>\n      <td>18.0</td>\n      <td>19.0</td>\n      <td>20.0</td>\n      <td>21.0</td>\n      <td>...</td>\n      <td>6.0</td>\n      <td>7.0</td>\n      <td>2023-08-04 11:22:49.017377</td>\n      <td>2023-08-04 11:22:49.037377</td>\n      <td>2023-08-04 11:22:49.057377</td>\n      <td>2023-08-04 11:22:49.077377</td>\n      <td>0.0</td>\n      <td>1.0</td>\n      <td>2.0</td>\n      <td>3.0</td>\n    </tr>\n    <tr>\n      <th>2023-08-04 14:22:49.017377</th>\n      <td>12.0</td>\n      <td>13.0</td>\n      <td>14.0</td>\n      <td>15.0</td>\n      <td>16.0</td>\n      <td>17.0</td>\n      <td>18.0</td>\n      <td>19.0</td>\n      <td>20.0</td>\n      <td>21.0</td>\n      <td>...</td>\n      <td>6.0</td>\n      <td>7.0</td>\n      <td>2023-08-04 11:22:49.017377</td>\n      <td>2023-08-04 11:22:49.037377</td>\n      <td>2023-08-04 11:22:49.057377</td>\n      <td>2023-08-04 11:22:49.077377</td>\n      <td>0.0</td>\n      <td>1.0</td>\n      <td>2.0</td>\n      <td>3.0</td>\n    </tr>\n    <tr>\n      <th>2023-08-04 15:22:49.017377</th>\n      <td>12.0</td>\n      <td>13.0</td>\n      <td>14.0</td>\n      <td>15.0</td>\n      <td>16.0</td>\n      <td>17.0</td>\n      <td>18.0</td>\n      <td>19.0</td>\n      <td>20.0</td>\n      <td>21.0</td>\n      <td>...</td>\n      <td>6.0</td>\n      <td>7.0</td>\n      <td>2023-08-04 11:22:49.017377</td>\n      <td>2023-08-04 11:22:49.037377</td>\n      <td>2023-08-04 11:22:49.057377</td>\n      <td>2023-08-04 11:22:49.077377</td>\n      <td>0.0</td>\n      <td>1.0</td>\n      <td>2.0</td>\n      <td>3.0</td>\n    </tr>\n    <tr>\n      <th>2023-08-04 16:22:49.017377</th>\n      <td>12.0</td>\n      <td>13.0</td>\n      <td>14.0</td>\n      <td>15.0</td>\n      <td>16.0</td>\n      <td>17.0</td>\n      <td>18.0</td>\n      <td>19.0</td>\n      <td>20.0</td>\n      <td>21.0</td>\n      <td>...</td>\n      <td>6.0</td>\n      <td>7.0</td>\n      <td>2023-08-04 11:22:49.017377</td>\n      <td>2023-08-04 11:22:49.037377</td>\n      <td>2023-08-04 11:22:49.057377</td>\n      <td>2023-08-04 11:22:49.077377</td>\n      <td>0.0</td>\n      <td>1.0</td>\n      <td>2.0</td>\n      <td>3.0</td>\n    </tr>\n  </tbody>\n</table>\n<p>5 rows × 60 columns</p>\n</div>"
     },
     "execution_count": 39,
     "metadata": {},
     "output_type": "execute_result"
    },
    {
     "data": {
      "text/plain": "qtuple  rows      idx\naction  r0        0             float64\n                  1             float64\n                  2             float64\n                  3             float64\n                  4             float64\n        r1        0             float64\n                  1             float64\n                  2             float64\n                  3             float64\n                  4             float64\n        r2        0             float64\n                  1             float64\n                  2             float64\n                  3             float64\n                  4             float64\n        speed     0             float64\n                  1             float64\n                  2             float64\n        throttle  0             float64\n                  1             float64\n                  2             float64\n                  3             float64\n                  4             float64\n        timestep  0      datetime64[ns]\n                  1      datetime64[ns]\n                  2      datetime64[ns]\nnstate  brake     0             float64\n                  1             float64\n                  2             float64\n                  3             float64\n        thrust    0             float64\n                  1             float64\n                  2             float64\n                  3             float64\n        timestep  0      datetime64[ns]\n                  1      datetime64[ns]\n                  2      datetime64[ns]\n                  3      datetime64[ns]\n        velocity  0             float64\n                  1             float64\n                  2             float64\n                  3             float64\nreward  timestep  0      datetime64[ns]\n        work      0             float64\nstate   brake     0             float64\n                  1             float64\n                  2             float64\n                  3             float64\n        thrust    0             float64\n                  1             float64\n                  2             float64\n                  3             float64\n        timestep  0      datetime64[ns]\n                  1      datetime64[ns]\n                  2      datetime64[ns]\n                  3      datetime64[ns]\n        velocity  0             float64\n                  1             float64\n                  2             float64\n                  3             float64\ndtype: object"
     },
     "execution_count": 39,
     "metadata": {},
     "output_type": "execute_result"
    }
   ],
   "source": [
    "dfs_episode.index.name = 'timestamp'\n",
    "idx = pd.IndexSlice\n",
    "\n",
    "# # dfs_episode = dfs_episode.astype({idx['state', 'velocity', :]: 'int'})  # Error unhashable type: 'slice' for dictionary\n",
    "# # sorted_idx = **(idx['state', :, :]:'int')\n",
    "# # sorted_idx\n",
    "# dfs_episode.loc[:, idx['state', ['brake', 'thrust', 'velocity'], :]] = dfs_episode.loc[\n",
    "#     :, idx['state', ['brake', 'thrust', 'velocity'], :]\n",
    "# ].astype(\n",
    "#     'float'\n",
    "# )  # float16 not allowed in parquet\n",
    "#\n",
    "# dfs_episode.loc[:, idx['action', ['r0', 'r1', 'r2'], :]] = dfs_episode.loc[\n",
    "#     :, idx['action', ['r0', 'r1', 'r2'], :]\n",
    "# ].astype(\n",
    "#     'float'\n",
    "# )  # float16 not allowed in parquet\n",
    "# # dfs_episode['action'] = dfs_episode['action'].astype('float')\n",
    "# # dfs_episode['reward'] = dfs_episode['reward'].astype('float')\n",
    "# dfs_episode.loc[:, idx['reward', 'work', 0]] = dfs_episode.loc[\n",
    "#     :, idx['reward', 'work', 0]\n",
    "# ].astype(\n",
    "#     'float'\n",
    "# )  # float16 not allowed in parquet\n",
    "#\n",
    "# # dfs_episode['nstate'] = dfs_episode['nstate'].astype('float')\n",
    "# dfs_episode.loc[:, idx['nstate', ['brake', 'thrust', 'velocity'], :]] = dfs_episode.loc[\n",
    "#     :, idx['nstate', ['brake', 'thrust', 'velocity'], :]\n",
    "# ].astype(\n",
    "#     'float'\n",
    "# )  # float16 not allowed in parquet\n",
    "state_cols_float = [('state', col) for col in ['brake', 'thrust', 'velocity']]\n",
    "action_cols_float = [('action', col) for col in ['r0', 'r1', 'r2', 'speed', 'throttle']]\n",
    "reward_cols_float = [('reward', 'work')]\n",
    "nstate_cols_float = [('nstate', col) for col in ['brake', 'thrust', 'velocity']]\n",
    "for col in action_cols_float + state_cols_float + reward_cols_float + nstate_cols_float:\n",
    "    dfs_episode[col[0], col[1]] = dfs_episode[col[0], col[1]].astype(\n",
    "        'float'\n",
    "    )  # float16 not allowed in parquet\n",
    "dfs_episode\n",
    "dfs_episode.dtypes\n",
    "# dfs_episode.columns\n",
    "# dfs_epi\n",
    "# dfs_episode\n"
   ]
  },
  {
   "cell_type": "markdown",
   "metadata": {},
   "source": [
    "## prepend two levels of index \"vehicle\" and \"driver\" to the DataFrame object"
   ]
  },
  {
   "cell_type": "code",
   "execution_count": 40,
   "metadata": {
    "ExecuteTime": {
     "end_time": "2023-08-04T03:23:01.733310003Z",
     "start_time": "2023-08-04T03:22:49.544930242Z"
    }
   },
   "outputs": [],
   "source": [
    "dfs_episode = pd.concat(\n",
    "    [dfs_episode], keys=[drivers_by_id['wang-cheng'].pid], names=['driver']\n",
    ")\n",
    "dfs_episode = pd.concat(\n",
    "    [dfs_episode], keys=[trucks_by_id['VB7'].vid], names=['vehicle']\n",
    ")"
   ]
  },
  {
   "cell_type": "code",
   "execution_count": 41,
   "metadata": {
    "ExecuteTime": {
     "end_time": "2023-08-04T03:23:01.733734020Z",
     "start_time": "2023-08-04T03:22:49.545174030Z"
    }
   },
   "outputs": [
    {
     "data": {
      "text/plain": "MultiIndex([('VB7', 'wang-cheng', '2023-08-04 12:22:49.017377'),\n            ('VB7', 'wang-cheng', '2023-08-04 13:22:49.017377'),\n            ('VB7', 'wang-cheng', '2023-08-04 14:22:49.017377'),\n            ('VB7', 'wang-cheng', '2023-08-04 15:22:49.017377'),\n            ('VB7', 'wang-cheng', '2023-08-04 16:22:49.017377')],\n           names=['vehicle', 'driver', 'timestamp'])"
     },
     "execution_count": 41,
     "metadata": {},
     "output_type": "execute_result"
    },
    {
     "data": {
      "text/plain": "MultiIndex([('action',       'r0', 0),\n            ('action',       'r0', 1),\n            ('action',       'r0', 2),\n            ('action',       'r0', 3),\n            ('action',       'r0', 4),\n            ('action',       'r1', 0),\n            ('action',       'r1', 1),\n            ('action',       'r1', 2),\n            ('action',       'r1', 3),\n            ('action',       'r1', 4),\n            ('action',       'r2', 0),\n            ('action',       'r2', 1),\n            ('action',       'r2', 2),\n            ('action',       'r2', 3),\n            ('action',       'r2', 4),\n            ('action',    'speed', 0),\n            ('action',    'speed', 1),\n            ('action',    'speed', 2),\n            ('action', 'throttle', 0),\n            ('action', 'throttle', 1),\n            ('action', 'throttle', 2),\n            ('action', 'throttle', 3),\n            ('action', 'throttle', 4),\n            ('action', 'timestep', 0),\n            ('action', 'timestep', 1),\n            ('action', 'timestep', 2),\n            ('nstate',    'brake', 0),\n            ('nstate',    'brake', 1),\n            ('nstate',    'brake', 2),\n            ('nstate',    'brake', 3),\n            ('nstate',   'thrust', 0),\n            ('nstate',   'thrust', 1),\n            ('nstate',   'thrust', 2),\n            ('nstate',   'thrust', 3),\n            ('nstate', 'timestep', 0),\n            ('nstate', 'timestep', 1),\n            ('nstate', 'timestep', 2),\n            ('nstate', 'timestep', 3),\n            ('nstate', 'velocity', 0),\n            ('nstate', 'velocity', 1),\n            ('nstate', 'velocity', 2),\n            ('nstate', 'velocity', 3),\n            ('reward', 'timestep', 0),\n            ('reward',     'work', 0),\n            ( 'state',    'brake', 0),\n            ( 'state',    'brake', 1),\n            ( 'state',    'brake', 2),\n            ( 'state',    'brake', 3),\n            ( 'state',   'thrust', 0),\n            ( 'state',   'thrust', 1),\n            ( 'state',   'thrust', 2),\n            ( 'state',   'thrust', 3),\n            ( 'state', 'timestep', 0),\n            ( 'state', 'timestep', 1),\n            ( 'state', 'timestep', 2),\n            ( 'state', 'timestep', 3),\n            ( 'state', 'velocity', 0),\n            ( 'state', 'velocity', 1),\n            ( 'state', 'velocity', 2),\n            ( 'state', 'velocity', 3)],\n           names=['qtuple', 'rows', 'idx'])"
     },
     "execution_count": 41,
     "metadata": {},
     "output_type": "execute_result"
    }
   ],
   "source": [
    "dfs_episode.index\n",
    "dfs_episode.columns"
   ]
  },
  {
   "cell_type": "code",
   "execution_count": 42,
   "metadata": {
    "ExecuteTime": {
     "end_time": "2023-08-04T03:23:01.734307948Z",
     "start_time": "2023-08-04T03:22:49.551688580Z"
    }
   },
   "outputs": [
    {
     "data": {
      "text/plain": "qtuple                                        action                          \\\nrows                                              r0                           \nidx                                                0     1     2     3     4   \nvehicle driver     timestamp                                                   \nVB7     wang-cheng 2023-08-04 12:22:49.017377   12.0  13.0  14.0  15.0  16.0   \n                   2023-08-04 13:22:49.017377   12.0  13.0  14.0  15.0  16.0   \n                   2023-08-04 14:22:49.017377   12.0  13.0  14.0  15.0  16.0   \n                   2023-08-04 15:22:49.017377   12.0  13.0  14.0  15.0  16.0   \n                   2023-08-04 16:22:49.017377   12.0  13.0  14.0  15.0  16.0   \n\nqtuple                                                                       \\\nrows                                             r1                           \nidx                                               0     1     2     3     4   \nvehicle driver     timestamp                                                  \nVB7     wang-cheng 2023-08-04 12:22:49.017377  17.0  18.0  19.0  20.0  21.0   \n                   2023-08-04 13:22:49.017377  17.0  18.0  19.0  20.0  21.0   \n                   2023-08-04 14:22:49.017377  17.0  18.0  19.0  20.0  21.0   \n                   2023-08-04 15:22:49.017377  17.0  18.0  19.0  20.0  21.0   \n                   2023-08-04 16:22:49.017377  17.0  18.0  19.0  20.0  21.0   \n\nqtuple                                         ...  state       \\\nrows                                           ... thrust        \nidx                                            ...      2    3   \nvehicle driver     timestamp                   ...               \nVB7     wang-cheng 2023-08-04 12:22:49.017377  ...    6.0  7.0   \n                   2023-08-04 13:22:49.017377  ...    6.0  7.0   \n                   2023-08-04 14:22:49.017377  ...    6.0  7.0   \n                   2023-08-04 15:22:49.017377  ...    6.0  7.0   \n                   2023-08-04 16:22:49.017377  ...    6.0  7.0   \n\nqtuple                                                                    \\\nrows                                                            timestep   \nidx                                                                    0   \nvehicle driver     timestamp                                               \nVB7     wang-cheng 2023-08-04 12:22:49.017377 2023-08-04 11:22:49.017377   \n                   2023-08-04 13:22:49.017377 2023-08-04 11:22:49.017377   \n                   2023-08-04 14:22:49.017377 2023-08-04 11:22:49.017377   \n                   2023-08-04 15:22:49.017377 2023-08-04 11:22:49.017377   \n                   2023-08-04 16:22:49.017377 2023-08-04 11:22:49.017377   \n\nqtuple                                                                    \\\nrows                                                                       \nidx                                                                    1   \nvehicle driver     timestamp                                               \nVB7     wang-cheng 2023-08-04 12:22:49.017377 2023-08-04 11:22:49.037377   \n                   2023-08-04 13:22:49.017377 2023-08-04 11:22:49.037377   \n                   2023-08-04 14:22:49.017377 2023-08-04 11:22:49.037377   \n                   2023-08-04 15:22:49.017377 2023-08-04 11:22:49.037377   \n                   2023-08-04 16:22:49.017377 2023-08-04 11:22:49.037377   \n\nqtuple                                                                    \\\nrows                                                                       \nidx                                                                    2   \nvehicle driver     timestamp                                               \nVB7     wang-cheng 2023-08-04 12:22:49.017377 2023-08-04 11:22:49.057377   \n                   2023-08-04 13:22:49.017377 2023-08-04 11:22:49.057377   \n                   2023-08-04 14:22:49.017377 2023-08-04 11:22:49.057377   \n                   2023-08-04 15:22:49.017377 2023-08-04 11:22:49.057377   \n                   2023-08-04 16:22:49.017377 2023-08-04 11:22:49.057377   \n\nqtuple                                                                    \\\nrows                                                                       \nidx                                                                    3   \nvehicle driver     timestamp                                               \nVB7     wang-cheng 2023-08-04 12:22:49.017377 2023-08-04 11:22:49.077377   \n                   2023-08-04 13:22:49.017377 2023-08-04 11:22:49.077377   \n                   2023-08-04 14:22:49.017377 2023-08-04 11:22:49.077377   \n                   2023-08-04 15:22:49.017377 2023-08-04 11:22:49.077377   \n                   2023-08-04 16:22:49.017377 2023-08-04 11:22:49.077377   \n\nqtuple                                                                 \nrows                                          velocity                 \nidx                                                  0    1    2    3  \nvehicle driver     timestamp                                           \nVB7     wang-cheng 2023-08-04 12:22:49.017377      0.0  1.0  2.0  3.0  \n                   2023-08-04 13:22:49.017377      0.0  1.0  2.0  3.0  \n                   2023-08-04 14:22:49.017377      0.0  1.0  2.0  3.0  \n                   2023-08-04 15:22:49.017377      0.0  1.0  2.0  3.0  \n                   2023-08-04 16:22:49.017377      0.0  1.0  2.0  3.0  \n\n[5 rows x 60 columns]",
      "text/html": "<div>\n<style scoped>\n    .dataframe tbody tr th:only-of-type {\n        vertical-align: middle;\n    }\n\n    .dataframe tbody tr th {\n        vertical-align: top;\n    }\n\n    .dataframe thead tr th {\n        text-align: left;\n    }\n\n    .dataframe thead tr:last-of-type th {\n        text-align: right;\n    }\n</style>\n<table border=\"1\" class=\"dataframe\">\n  <thead>\n    <tr>\n      <th></th>\n      <th></th>\n      <th>qtuple</th>\n      <th colspan=\"10\" halign=\"left\">action</th>\n      <th>...</th>\n      <th colspan=\"10\" halign=\"left\">state</th>\n    </tr>\n    <tr>\n      <th></th>\n      <th></th>\n      <th>rows</th>\n      <th colspan=\"5\" halign=\"left\">r0</th>\n      <th colspan=\"5\" halign=\"left\">r1</th>\n      <th>...</th>\n      <th colspan=\"2\" halign=\"left\">thrust</th>\n      <th colspan=\"4\" halign=\"left\">timestep</th>\n      <th colspan=\"4\" halign=\"left\">velocity</th>\n    </tr>\n    <tr>\n      <th></th>\n      <th></th>\n      <th>idx</th>\n      <th>0</th>\n      <th>1</th>\n      <th>2</th>\n      <th>3</th>\n      <th>4</th>\n      <th>0</th>\n      <th>1</th>\n      <th>2</th>\n      <th>3</th>\n      <th>4</th>\n      <th>...</th>\n      <th>2</th>\n      <th>3</th>\n      <th>0</th>\n      <th>1</th>\n      <th>2</th>\n      <th>3</th>\n      <th>0</th>\n      <th>1</th>\n      <th>2</th>\n      <th>3</th>\n    </tr>\n    <tr>\n      <th>vehicle</th>\n      <th>driver</th>\n      <th>timestamp</th>\n      <th></th>\n      <th></th>\n      <th></th>\n      <th></th>\n      <th></th>\n      <th></th>\n      <th></th>\n      <th></th>\n      <th></th>\n      <th></th>\n      <th></th>\n      <th></th>\n      <th></th>\n      <th></th>\n      <th></th>\n      <th></th>\n      <th></th>\n      <th></th>\n      <th></th>\n      <th></th>\n      <th></th>\n    </tr>\n  </thead>\n  <tbody>\n    <tr>\n      <th rowspan=\"5\" valign=\"top\">VB7</th>\n      <th rowspan=\"5\" valign=\"top\">wang-cheng</th>\n      <th>2023-08-04 12:22:49.017377</th>\n      <td>12.0</td>\n      <td>13.0</td>\n      <td>14.0</td>\n      <td>15.0</td>\n      <td>16.0</td>\n      <td>17.0</td>\n      <td>18.0</td>\n      <td>19.0</td>\n      <td>20.0</td>\n      <td>21.0</td>\n      <td>...</td>\n      <td>6.0</td>\n      <td>7.0</td>\n      <td>2023-08-04 11:22:49.017377</td>\n      <td>2023-08-04 11:22:49.037377</td>\n      <td>2023-08-04 11:22:49.057377</td>\n      <td>2023-08-04 11:22:49.077377</td>\n      <td>0.0</td>\n      <td>1.0</td>\n      <td>2.0</td>\n      <td>3.0</td>\n    </tr>\n    <tr>\n      <th>2023-08-04 13:22:49.017377</th>\n      <td>12.0</td>\n      <td>13.0</td>\n      <td>14.0</td>\n      <td>15.0</td>\n      <td>16.0</td>\n      <td>17.0</td>\n      <td>18.0</td>\n      <td>19.0</td>\n      <td>20.0</td>\n      <td>21.0</td>\n      <td>...</td>\n      <td>6.0</td>\n      <td>7.0</td>\n      <td>2023-08-04 11:22:49.017377</td>\n      <td>2023-08-04 11:22:49.037377</td>\n      <td>2023-08-04 11:22:49.057377</td>\n      <td>2023-08-04 11:22:49.077377</td>\n      <td>0.0</td>\n      <td>1.0</td>\n      <td>2.0</td>\n      <td>3.0</td>\n    </tr>\n    <tr>\n      <th>2023-08-04 14:22:49.017377</th>\n      <td>12.0</td>\n      <td>13.0</td>\n      <td>14.0</td>\n      <td>15.0</td>\n      <td>16.0</td>\n      <td>17.0</td>\n      <td>18.0</td>\n      <td>19.0</td>\n      <td>20.0</td>\n      <td>21.0</td>\n      <td>...</td>\n      <td>6.0</td>\n      <td>7.0</td>\n      <td>2023-08-04 11:22:49.017377</td>\n      <td>2023-08-04 11:22:49.037377</td>\n      <td>2023-08-04 11:22:49.057377</td>\n      <td>2023-08-04 11:22:49.077377</td>\n      <td>0.0</td>\n      <td>1.0</td>\n      <td>2.0</td>\n      <td>3.0</td>\n    </tr>\n    <tr>\n      <th>2023-08-04 15:22:49.017377</th>\n      <td>12.0</td>\n      <td>13.0</td>\n      <td>14.0</td>\n      <td>15.0</td>\n      <td>16.0</td>\n      <td>17.0</td>\n      <td>18.0</td>\n      <td>19.0</td>\n      <td>20.0</td>\n      <td>21.0</td>\n      <td>...</td>\n      <td>6.0</td>\n      <td>7.0</td>\n      <td>2023-08-04 11:22:49.017377</td>\n      <td>2023-08-04 11:22:49.037377</td>\n      <td>2023-08-04 11:22:49.057377</td>\n      <td>2023-08-04 11:22:49.077377</td>\n      <td>0.0</td>\n      <td>1.0</td>\n      <td>2.0</td>\n      <td>3.0</td>\n    </tr>\n    <tr>\n      <th>2023-08-04 16:22:49.017377</th>\n      <td>12.0</td>\n      <td>13.0</td>\n      <td>14.0</td>\n      <td>15.0</td>\n      <td>16.0</td>\n      <td>17.0</td>\n      <td>18.0</td>\n      <td>19.0</td>\n      <td>20.0</td>\n      <td>21.0</td>\n      <td>...</td>\n      <td>6.0</td>\n      <td>7.0</td>\n      <td>2023-08-04 11:22:49.017377</td>\n      <td>2023-08-04 11:22:49.037377</td>\n      <td>2023-08-04 11:22:49.057377</td>\n      <td>2023-08-04 11:22:49.077377</td>\n      <td>0.0</td>\n      <td>1.0</td>\n      <td>2.0</td>\n      <td>3.0</td>\n    </tr>\n  </tbody>\n</table>\n<p>5 rows × 60 columns</p>\n</div>"
     },
     "execution_count": 42,
     "metadata": {},
     "output_type": "execute_result"
    },
    {
     "data": {
      "text/plain": "qtuple  rows      idx\naction  r0        0             float64\n                  1             float64\n                  2             float64\n                  3             float64\n                  4             float64\n        r1        0             float64\n                  1             float64\n                  2             float64\n                  3             float64\n                  4             float64\n        r2        0             float64\n                  1             float64\n                  2             float64\n                  3             float64\n                  4             float64\n        speed     0             float64\n                  1             float64\n                  2             float64\n        throttle  0             float64\n                  1             float64\n                  2             float64\n                  3             float64\n                  4             float64\n        timestep  0      datetime64[ns]\n                  1      datetime64[ns]\n                  2      datetime64[ns]\nnstate  brake     0             float64\n                  1             float64\n                  2             float64\n                  3             float64\n        thrust    0             float64\n                  1             float64\n                  2             float64\n                  3             float64\n        timestep  0      datetime64[ns]\n                  1      datetime64[ns]\n                  2      datetime64[ns]\n                  3      datetime64[ns]\n        velocity  0             float64\n                  1             float64\n                  2             float64\n                  3             float64\nreward  timestep  0      datetime64[ns]\n        work      0             float64\nstate   brake     0             float64\n                  1             float64\n                  2             float64\n                  3             float64\n        thrust    0             float64\n                  1             float64\n                  2             float64\n                  3             float64\n        timestep  0      datetime64[ns]\n                  1      datetime64[ns]\n                  2      datetime64[ns]\n                  3      datetime64[ns]\n        velocity  0             float64\n                  1             float64\n                  2             float64\n                  3             float64\ndtype: object"
     },
     "execution_count": 42,
     "metadata": {},
     "output_type": "execute_result"
    }
   ],
   "source": [
    "\n",
    "# dfs_episode.columns.set_names(\n",
    "#     [\n",
    "#         'qtuple',\n",
    "#         'rows',\n",
    "#         'idx',\n",
    "#     ],\n",
    "#     level=[0, 1, 2],\n",
    "#     inplace=True,\n",
    "# )\n",
    "dfs_episode\n",
    "dfs_episode.dtypes\n"
   ]
  },
  {
   "cell_type": "code",
   "execution_count": 43,
   "metadata": {
    "ExecuteTime": {
     "end_time": "2023-08-04T03:23:01.734443022Z",
     "start_time": "2023-08-04T03:22:49.583476245Z"
    }
   },
   "outputs": [],
   "source": [
    "# dfs_episode['state', 'thrust'] = dfs_episode['state', 'thrust'].astype('float')\n",
    "# # dfs_episode.loc[:, idx['state', ['brake', 'thrust', 'velocity'], :]] = dfs_episode.loc[\n",
    "# #     :, idx['state', ['brake', 'thrust', 'velocity'], :]\n",
    "# # ].astype(\n",
    "# #     'float'\n",
    "# # )  # float16 not allowed in parquet\n",
    "# dfs_episode.loc[:, ('state', ['brake', 'thrust', 'velocity'])] = dfs_episode.loc[\n",
    "#     :, ('state', ['brake', 'thrust', 'velocity'])\n",
    "# ].astype(\n",
    "#     'float'\n",
    "# )  # float16 not allowed in parquet\n",
    "# dfs_episode['action', 'r0'] = dfs_episode['action', 'r0'].astype(\n",
    "#     'float'\n",
    "# )  # float16 not allowed in parquet\n",
    "#\n",
    "# dfs_episode.dtypes"
   ]
  },
  {
   "cell_type": "markdown",
   "metadata": {},
   "source": []
  },
  {
   "cell_type": "code",
   "execution_count": 44,
   "metadata": {
    "ExecuteTime": {
     "end_time": "2023-08-04T03:23:01.734570882Z",
     "start_time": "2023-08-04T03:22:49.624766002Z"
    }
   },
   "outputs": [],
   "source": [
    "# idx = pd.IndexSlice\n",
    "# dfs_episode.loc[:, idx['state', :, :]] = dfs_episode.loc[:, idx['state', :, :]].astype(\n",
    "#     'int'\n",
    "# )\n",
    "# dfs_episode.loc[:, idx['action', :, :]] = dfs_episode.loc[\n",
    "#     :, idx['action', :, :]\n",
    "# ].astype('float16')\n",
    "# dfs_episode.loc[:, idx['reward', :, :]] = dfs_episode.loc[\n",
    "#     :, idx['reward', :, :]\n",
    "# ].astype('float16')\n",
    "# dfs_episode.loc[:, idx['nstate', :, :]] = dfs_episode.loc[\n",
    "#     :, idx['nstate', :, :]\n",
    "# ].astype('float16')\n",
    "#\n",
    "# vel_1 = dfs_episode[[('state', 'velocity', 1)]]\n",
    "# vel_1.dtypes\n",
    "# vel_1.index\n",
    "# vel_1.values\n",
    "# # type(vel_1)\n",
    "# vel_1.iloc[0]\n",
    "# type(vel_1.iloc[0])\n",
    "# type(vel_1.iloc[0].values[0])"
   ]
  },
  {
   "cell_type": "markdown",
   "metadata": {},
   "source": [
    "## Add a level of index for episode"
   ]
  },
  {
   "cell_type": "code",
   "execution_count": 45,
   "metadata": {
    "ExecuteTime": {
     "end_time": "2023-08-04T03:23:01.737345245Z",
     "start_time": "2023-08-04T03:22:49.624917777Z"
    }
   },
   "outputs": [
    {
     "data": {
      "text/plain": "MultiIndex([('VB7', 'wang-cheng', '2023-08-04 11:22:49.017377', ...),\n            ('VB7', 'wang-cheng', '2023-08-04 11:22:49.017377', ...),\n            ('VB7', 'wang-cheng', '2023-08-04 11:22:49.017377', ...),\n            ('VB7', 'wang-cheng', '2023-08-04 11:22:49.017377', ...),\n            ('VB7', 'wang-cheng', '2023-08-04 11:22:49.017377', ...)],\n           names=['vehicle', 'driver', 'episodestart', 'timestamp'])"
     },
     "execution_count": 45,
     "metadata": {},
     "output_type": "execute_result"
    },
    {
     "data": {
      "text/plain": "MultiIndex([('action',       'r0', 0),\n            ('action',       'r0', 1),\n            ('action',       'r0', 2),\n            ('action',       'r0', 3),\n            ('action',       'r0', 4),\n            ('action',       'r1', 0),\n            ('action',       'r1', 1),\n            ('action',       'r1', 2),\n            ('action',       'r1', 3),\n            ('action',       'r1', 4),\n            ('action',       'r2', 0),\n            ('action',       'r2', 1),\n            ('action',       'r2', 2),\n            ('action',       'r2', 3),\n            ('action',       'r2', 4),\n            ('action',    'speed', 0),\n            ('action',    'speed', 1),\n            ('action',    'speed', 2),\n            ('action', 'throttle', 0),\n            ('action', 'throttle', 1),\n            ('action', 'throttle', 2),\n            ('action', 'throttle', 3),\n            ('action', 'throttle', 4),\n            ('action', 'timestep', 0),\n            ('action', 'timestep', 1),\n            ('action', 'timestep', 2),\n            ('nstate',    'brake', 0),\n            ('nstate',    'brake', 1),\n            ('nstate',    'brake', 2),\n            ('nstate',    'brake', 3),\n            ('nstate',   'thrust', 0),\n            ('nstate',   'thrust', 1),\n            ('nstate',   'thrust', 2),\n            ('nstate',   'thrust', 3),\n            ('nstate', 'timestep', 0),\n            ('nstate', 'timestep', 1),\n            ('nstate', 'timestep', 2),\n            ('nstate', 'timestep', 3),\n            ('nstate', 'velocity', 0),\n            ('nstate', 'velocity', 1),\n            ('nstate', 'velocity', 2),\n            ('nstate', 'velocity', 3),\n            ('reward', 'timestep', 0),\n            ('reward',     'work', 0),\n            ( 'state',    'brake', 0),\n            ( 'state',    'brake', 1),\n            ( 'state',    'brake', 2),\n            ( 'state',    'brake', 3),\n            ( 'state',   'thrust', 0),\n            ( 'state',   'thrust', 1),\n            ( 'state',   'thrust', 2),\n            ( 'state',   'thrust', 3),\n            ( 'state', 'timestep', 0),\n            ( 'state', 'timestep', 1),\n            ( 'state', 'timestep', 2),\n            ( 'state', 'timestep', 3),\n            ( 'state', 'velocity', 0),\n            ( 'state', 'velocity', 1),\n            ( 'state', 'velocity', 2),\n            ( 'state', 'velocity', 3)],\n           names=['qtuple', 'rows', 'idx'])"
     },
     "execution_count": 45,
     "metadata": {},
     "output_type": "execute_result"
    },
    {
     "data": {
      "text/plain": "qtuple                                                                   action  \\\nrows                                                                         r0   \nidx                                                                           0   \nvehicle driver     episodestart               timestamp                           \nVB7     wang-cheng 2023-08-04 11:22:49.017377 2023-08-04 12:22:49.017377   12.0   \n                                              2023-08-04 13:22:49.017377   12.0   \n                                              2023-08-04 14:22:49.017377   12.0   \n                                              2023-08-04 15:22:49.017377   12.0   \n                                              2023-08-04 16:22:49.017377   12.0   \n\nqtuple                                                                          \\\nrows                                                                             \nidx                                                                          1   \nvehicle driver     episodestart               timestamp                          \nVB7     wang-cheng 2023-08-04 11:22:49.017377 2023-08-04 12:22:49.017377  13.0   \n                                              2023-08-04 13:22:49.017377  13.0   \n                                              2023-08-04 14:22:49.017377  13.0   \n                                              2023-08-04 15:22:49.017377  13.0   \n                                              2023-08-04 16:22:49.017377  13.0   \n\nqtuple                                                                          \\\nrows                                                                             \nidx                                                                          2   \nvehicle driver     episodestart               timestamp                          \nVB7     wang-cheng 2023-08-04 11:22:49.017377 2023-08-04 12:22:49.017377  14.0   \n                                              2023-08-04 13:22:49.017377  14.0   \n                                              2023-08-04 14:22:49.017377  14.0   \n                                              2023-08-04 15:22:49.017377  14.0   \n                                              2023-08-04 16:22:49.017377  14.0   \n\nqtuple                                                                          \\\nrows                                                                             \nidx                                                                          3   \nvehicle driver     episodestart               timestamp                          \nVB7     wang-cheng 2023-08-04 11:22:49.017377 2023-08-04 12:22:49.017377  15.0   \n                                              2023-08-04 13:22:49.017377  15.0   \n                                              2023-08-04 14:22:49.017377  15.0   \n                                              2023-08-04 15:22:49.017377  15.0   \n                                              2023-08-04 16:22:49.017377  15.0   \n\nqtuple                                                                          \\\nrows                                                                             \nidx                                                                          4   \nvehicle driver     episodestart               timestamp                          \nVB7     wang-cheng 2023-08-04 11:22:49.017377 2023-08-04 12:22:49.017377  16.0   \n                                              2023-08-04 13:22:49.017377  16.0   \n                                              2023-08-04 14:22:49.017377  16.0   \n                                              2023-08-04 15:22:49.017377  16.0   \n                                              2023-08-04 16:22:49.017377  16.0   \n\nqtuple                                                                          \\\nrows                                                                        r1   \nidx                                                                          0   \nvehicle driver     episodestart               timestamp                          \nVB7     wang-cheng 2023-08-04 11:22:49.017377 2023-08-04 12:22:49.017377  17.0   \n                                              2023-08-04 13:22:49.017377  17.0   \n                                              2023-08-04 14:22:49.017377  17.0   \n                                              2023-08-04 15:22:49.017377  17.0   \n                                              2023-08-04 16:22:49.017377  17.0   \n\nqtuple                                                                          \\\nrows                                                                             \nidx                                                                          1   \nvehicle driver     episodestart               timestamp                          \nVB7     wang-cheng 2023-08-04 11:22:49.017377 2023-08-04 12:22:49.017377  18.0   \n                                              2023-08-04 13:22:49.017377  18.0   \n                                              2023-08-04 14:22:49.017377  18.0   \n                                              2023-08-04 15:22:49.017377  18.0   \n                                              2023-08-04 16:22:49.017377  18.0   \n\nqtuple                                                                          \\\nrows                                                                             \nidx                                                                          2   \nvehicle driver     episodestart               timestamp                          \nVB7     wang-cheng 2023-08-04 11:22:49.017377 2023-08-04 12:22:49.017377  19.0   \n                                              2023-08-04 13:22:49.017377  19.0   \n                                              2023-08-04 14:22:49.017377  19.0   \n                                              2023-08-04 15:22:49.017377  19.0   \n                                              2023-08-04 16:22:49.017377  19.0   \n\nqtuple                                                                          \\\nrows                                                                             \nidx                                                                          3   \nvehicle driver     episodestart               timestamp                          \nVB7     wang-cheng 2023-08-04 11:22:49.017377 2023-08-04 12:22:49.017377  20.0   \n                                              2023-08-04 13:22:49.017377  20.0   \n                                              2023-08-04 14:22:49.017377  20.0   \n                                              2023-08-04 15:22:49.017377  20.0   \n                                              2023-08-04 16:22:49.017377  20.0   \n\nqtuple                                                                          \\\nrows                                                                             \nidx                                                                          4   \nvehicle driver     episodestart               timestamp                          \nVB7     wang-cheng 2023-08-04 11:22:49.017377 2023-08-04 12:22:49.017377  21.0   \n                                              2023-08-04 13:22:49.017377  21.0   \n                                              2023-08-04 14:22:49.017377  21.0   \n                                              2023-08-04 15:22:49.017377  21.0   \n                                              2023-08-04 16:22:49.017377  21.0   \n\nqtuple                                                                    ...  \\\nrows                                                                      ...   \nidx                                                                       ...   \nvehicle driver     episodestart               timestamp                   ...   \nVB7     wang-cheng 2023-08-04 11:22:49.017377 2023-08-04 12:22:49.017377  ...   \n                                              2023-08-04 13:22:49.017377  ...   \n                                              2023-08-04 14:22:49.017377  ...   \n                                              2023-08-04 15:22:49.017377  ...   \n                                              2023-08-04 16:22:49.017377  ...   \n\nqtuple                                                                    state  \\\nrows                                                                     thrust   \nidx                                                                           2   \nvehicle driver     episodestart               timestamp                           \nVB7     wang-cheng 2023-08-04 11:22:49.017377 2023-08-04 12:22:49.017377    6.0   \n                                              2023-08-04 13:22:49.017377    6.0   \n                                              2023-08-04 14:22:49.017377    6.0   \n                                              2023-08-04 15:22:49.017377    6.0   \n                                              2023-08-04 16:22:49.017377    6.0   \n\nqtuple                                                                         \\\nrows                                                                            \nidx                                                                         3   \nvehicle driver     episodestart               timestamp                         \nVB7     wang-cheng 2023-08-04 11:22:49.017377 2023-08-04 12:22:49.017377  7.0   \n                                              2023-08-04 13:22:49.017377  7.0   \n                                              2023-08-04 14:22:49.017377  7.0   \n                                              2023-08-04 15:22:49.017377  7.0   \n                                              2023-08-04 16:22:49.017377  7.0   \n\nqtuple                                                                                               \\\nrows                                                                                       timestep   \nidx                                                                                               0   \nvehicle driver     episodestart               timestamp                                               \nVB7     wang-cheng 2023-08-04 11:22:49.017377 2023-08-04 12:22:49.017377 2023-08-04 11:22:49.017377   \n                                              2023-08-04 13:22:49.017377 2023-08-04 11:22:49.017377   \n                                              2023-08-04 14:22:49.017377 2023-08-04 11:22:49.017377   \n                                              2023-08-04 15:22:49.017377 2023-08-04 11:22:49.017377   \n                                              2023-08-04 16:22:49.017377 2023-08-04 11:22:49.017377   \n\nqtuple                                                                                               \\\nrows                                                                                                  \nidx                                                                                               1   \nvehicle driver     episodestart               timestamp                                               \nVB7     wang-cheng 2023-08-04 11:22:49.017377 2023-08-04 12:22:49.017377 2023-08-04 11:22:49.037377   \n                                              2023-08-04 13:22:49.017377 2023-08-04 11:22:49.037377   \n                                              2023-08-04 14:22:49.017377 2023-08-04 11:22:49.037377   \n                                              2023-08-04 15:22:49.017377 2023-08-04 11:22:49.037377   \n                                              2023-08-04 16:22:49.017377 2023-08-04 11:22:49.037377   \n\nqtuple                                                                                               \\\nrows                                                                                                  \nidx                                                                                               2   \nvehicle driver     episodestart               timestamp                                               \nVB7     wang-cheng 2023-08-04 11:22:49.017377 2023-08-04 12:22:49.017377 2023-08-04 11:22:49.057377   \n                                              2023-08-04 13:22:49.017377 2023-08-04 11:22:49.057377   \n                                              2023-08-04 14:22:49.017377 2023-08-04 11:22:49.057377   \n                                              2023-08-04 15:22:49.017377 2023-08-04 11:22:49.057377   \n                                              2023-08-04 16:22:49.017377 2023-08-04 11:22:49.057377   \n\nqtuple                                                                                               \\\nrows                                                                                                  \nidx                                                                                               3   \nvehicle driver     episodestart               timestamp                                               \nVB7     wang-cheng 2023-08-04 11:22:49.017377 2023-08-04 12:22:49.017377 2023-08-04 11:22:49.077377   \n                                              2023-08-04 13:22:49.017377 2023-08-04 11:22:49.077377   \n                                              2023-08-04 14:22:49.017377 2023-08-04 11:22:49.077377   \n                                              2023-08-04 15:22:49.017377 2023-08-04 11:22:49.077377   \n                                              2023-08-04 16:22:49.017377 2023-08-04 11:22:49.077377   \n\nqtuple                                                                             \\\nrows                                                                     velocity   \nidx                                                                             0   \nvehicle driver     episodestart               timestamp                             \nVB7     wang-cheng 2023-08-04 11:22:49.017377 2023-08-04 12:22:49.017377      0.0   \n                                              2023-08-04 13:22:49.017377      0.0   \n                                              2023-08-04 14:22:49.017377      0.0   \n                                              2023-08-04 15:22:49.017377      0.0   \n                                              2023-08-04 16:22:49.017377      0.0   \n\nqtuple                                                                         \\\nrows                                                                            \nidx                                                                         1   \nvehicle driver     episodestart               timestamp                         \nVB7     wang-cheng 2023-08-04 11:22:49.017377 2023-08-04 12:22:49.017377  1.0   \n                                              2023-08-04 13:22:49.017377  1.0   \n                                              2023-08-04 14:22:49.017377  1.0   \n                                              2023-08-04 15:22:49.017377  1.0   \n                                              2023-08-04 16:22:49.017377  1.0   \n\nqtuple                                                                         \\\nrows                                                                            \nidx                                                                         2   \nvehicle driver     episodestart               timestamp                         \nVB7     wang-cheng 2023-08-04 11:22:49.017377 2023-08-04 12:22:49.017377  2.0   \n                                              2023-08-04 13:22:49.017377  2.0   \n                                              2023-08-04 14:22:49.017377  2.0   \n                                              2023-08-04 15:22:49.017377  2.0   \n                                              2023-08-04 16:22:49.017377  2.0   \n\nqtuple                                                                         \nrows                                                                           \nidx                                                                         3  \nvehicle driver     episodestart               timestamp                        \nVB7     wang-cheng 2023-08-04 11:22:49.017377 2023-08-04 12:22:49.017377  3.0  \n                                              2023-08-04 13:22:49.017377  3.0  \n                                              2023-08-04 14:22:49.017377  3.0  \n                                              2023-08-04 15:22:49.017377  3.0  \n                                              2023-08-04 16:22:49.017377  3.0  \n\n[5 rows x 60 columns]",
      "text/html": "<div>\n<style scoped>\n    .dataframe tbody tr th:only-of-type {\n        vertical-align: middle;\n    }\n\n    .dataframe tbody tr th {\n        vertical-align: top;\n    }\n\n    .dataframe thead tr th {\n        text-align: left;\n    }\n\n    .dataframe thead tr:last-of-type th {\n        text-align: right;\n    }\n</style>\n<table border=\"1\" class=\"dataframe\">\n  <thead>\n    <tr>\n      <th></th>\n      <th></th>\n      <th></th>\n      <th>qtuple</th>\n      <th colspan=\"10\" halign=\"left\">action</th>\n      <th>...</th>\n      <th colspan=\"10\" halign=\"left\">state</th>\n    </tr>\n    <tr>\n      <th></th>\n      <th></th>\n      <th></th>\n      <th>rows</th>\n      <th colspan=\"5\" halign=\"left\">r0</th>\n      <th colspan=\"5\" halign=\"left\">r1</th>\n      <th>...</th>\n      <th colspan=\"2\" halign=\"left\">thrust</th>\n      <th colspan=\"4\" halign=\"left\">timestep</th>\n      <th colspan=\"4\" halign=\"left\">velocity</th>\n    </tr>\n    <tr>\n      <th></th>\n      <th></th>\n      <th></th>\n      <th>idx</th>\n      <th>0</th>\n      <th>1</th>\n      <th>2</th>\n      <th>3</th>\n      <th>4</th>\n      <th>0</th>\n      <th>1</th>\n      <th>2</th>\n      <th>3</th>\n      <th>4</th>\n      <th>...</th>\n      <th>2</th>\n      <th>3</th>\n      <th>0</th>\n      <th>1</th>\n      <th>2</th>\n      <th>3</th>\n      <th>0</th>\n      <th>1</th>\n      <th>2</th>\n      <th>3</th>\n    </tr>\n    <tr>\n      <th>vehicle</th>\n      <th>driver</th>\n      <th>episodestart</th>\n      <th>timestamp</th>\n      <th></th>\n      <th></th>\n      <th></th>\n      <th></th>\n      <th></th>\n      <th></th>\n      <th></th>\n      <th></th>\n      <th></th>\n      <th></th>\n      <th></th>\n      <th></th>\n      <th></th>\n      <th></th>\n      <th></th>\n      <th></th>\n      <th></th>\n      <th></th>\n      <th></th>\n      <th></th>\n      <th></th>\n    </tr>\n  </thead>\n  <tbody>\n    <tr>\n      <th rowspan=\"5\" valign=\"top\">VB7</th>\n      <th rowspan=\"5\" valign=\"top\">wang-cheng</th>\n      <th rowspan=\"5\" valign=\"top\">2023-08-04 11:22:49.017377</th>\n      <th>2023-08-04 12:22:49.017377</th>\n      <td>12.0</td>\n      <td>13.0</td>\n      <td>14.0</td>\n      <td>15.0</td>\n      <td>16.0</td>\n      <td>17.0</td>\n      <td>18.0</td>\n      <td>19.0</td>\n      <td>20.0</td>\n      <td>21.0</td>\n      <td>...</td>\n      <td>6.0</td>\n      <td>7.0</td>\n      <td>2023-08-04 11:22:49.017377</td>\n      <td>2023-08-04 11:22:49.037377</td>\n      <td>2023-08-04 11:22:49.057377</td>\n      <td>2023-08-04 11:22:49.077377</td>\n      <td>0.0</td>\n      <td>1.0</td>\n      <td>2.0</td>\n      <td>3.0</td>\n    </tr>\n    <tr>\n      <th>2023-08-04 13:22:49.017377</th>\n      <td>12.0</td>\n      <td>13.0</td>\n      <td>14.0</td>\n      <td>15.0</td>\n      <td>16.0</td>\n      <td>17.0</td>\n      <td>18.0</td>\n      <td>19.0</td>\n      <td>20.0</td>\n      <td>21.0</td>\n      <td>...</td>\n      <td>6.0</td>\n      <td>7.0</td>\n      <td>2023-08-04 11:22:49.017377</td>\n      <td>2023-08-04 11:22:49.037377</td>\n      <td>2023-08-04 11:22:49.057377</td>\n      <td>2023-08-04 11:22:49.077377</td>\n      <td>0.0</td>\n      <td>1.0</td>\n      <td>2.0</td>\n      <td>3.0</td>\n    </tr>\n    <tr>\n      <th>2023-08-04 14:22:49.017377</th>\n      <td>12.0</td>\n      <td>13.0</td>\n      <td>14.0</td>\n      <td>15.0</td>\n      <td>16.0</td>\n      <td>17.0</td>\n      <td>18.0</td>\n      <td>19.0</td>\n      <td>20.0</td>\n      <td>21.0</td>\n      <td>...</td>\n      <td>6.0</td>\n      <td>7.0</td>\n      <td>2023-08-04 11:22:49.017377</td>\n      <td>2023-08-04 11:22:49.037377</td>\n      <td>2023-08-04 11:22:49.057377</td>\n      <td>2023-08-04 11:22:49.077377</td>\n      <td>0.0</td>\n      <td>1.0</td>\n      <td>2.0</td>\n      <td>3.0</td>\n    </tr>\n    <tr>\n      <th>2023-08-04 15:22:49.017377</th>\n      <td>12.0</td>\n      <td>13.0</td>\n      <td>14.0</td>\n      <td>15.0</td>\n      <td>16.0</td>\n      <td>17.0</td>\n      <td>18.0</td>\n      <td>19.0</td>\n      <td>20.0</td>\n      <td>21.0</td>\n      <td>...</td>\n      <td>6.0</td>\n      <td>7.0</td>\n      <td>2023-08-04 11:22:49.017377</td>\n      <td>2023-08-04 11:22:49.037377</td>\n      <td>2023-08-04 11:22:49.057377</td>\n      <td>2023-08-04 11:22:49.077377</td>\n      <td>0.0</td>\n      <td>1.0</td>\n      <td>2.0</td>\n      <td>3.0</td>\n    </tr>\n    <tr>\n      <th>2023-08-04 16:22:49.017377</th>\n      <td>12.0</td>\n      <td>13.0</td>\n      <td>14.0</td>\n      <td>15.0</td>\n      <td>16.0</td>\n      <td>17.0</td>\n      <td>18.0</td>\n      <td>19.0</td>\n      <td>20.0</td>\n      <td>21.0</td>\n      <td>...</td>\n      <td>6.0</td>\n      <td>7.0</td>\n      <td>2023-08-04 11:22:49.017377</td>\n      <td>2023-08-04 11:22:49.037377</td>\n      <td>2023-08-04 11:22:49.057377</td>\n      <td>2023-08-04 11:22:49.077377</td>\n      <td>0.0</td>\n      <td>1.0</td>\n      <td>2.0</td>\n      <td>3.0</td>\n    </tr>\n  </tbody>\n</table>\n<p>5 rows × 60 columns</p>\n</div>"
     },
     "execution_count": 45,
     "metadata": {},
     "output_type": "execute_result"
    }
   ],
   "source": [
    "episodestart = ts - pd.Timedelta(1, 'h')\n",
    "dfs_episode = pd.concat([dfs_episode], keys=[ts], names=['episodestart'])\n",
    "dfs_episode = dfs_episode.swaplevel(1, 0, axis=0)\n",
    "dfs_episode = dfs_episode.swaplevel(1, 2, axis=0)\n",
    "dfs_episode.sort_index(inplace=True)\n",
    "dfs_episode.index\n",
    "dfs_episode.columns\n",
    "dfs_episode"
   ]
  },
  {
   "cell_type": "code",
   "execution_count": 46,
   "metadata": {
    "ExecuteTime": {
     "end_time": "2023-08-04T03:23:01.737768060Z",
     "start_time": "2023-08-04T03:22:49.636780486Z"
    }
   },
   "outputs": [
    {
     "data": {
      "text/plain": "qtuple  rows      idx\naction  r0        0             float64\n                  1             float64\n                  2             float64\n                  3             float64\n                  4             float64\n        r1        0             float64\n                  1             float64\n                  2             float64\n                  3             float64\n                  4             float64\n        r2        0             float64\n                  1             float64\n                  2             float64\n                  3             float64\n                  4             float64\n        speed     0             float64\n                  1             float64\n                  2             float64\n        throttle  0             float64\n                  1             float64\n                  2             float64\n                  3             float64\n                  4             float64\n        timestep  0      datetime64[ns]\n                  1      datetime64[ns]\n                  2      datetime64[ns]\nnstate  brake     0             float64\n                  1             float64\n                  2             float64\n                  3             float64\n        thrust    0             float64\n                  1             float64\n                  2             float64\n                  3             float64\n        timestep  0      datetime64[ns]\n                  1      datetime64[ns]\n                  2      datetime64[ns]\n                  3      datetime64[ns]\n        velocity  0             float64\n                  1             float64\n                  2             float64\n                  3             float64\nreward  timestep  0      datetime64[ns]\n        work      0             float64\nstate   brake     0             float64\n                  1             float64\n                  2             float64\n                  3             float64\n        thrust    0             float64\n                  1             float64\n                  2             float64\n                  3             float64\n        timestep  0      datetime64[ns]\n                  1      datetime64[ns]\n                  2      datetime64[ns]\n                  3      datetime64[ns]\n        velocity  0             float64\n                  1             float64\n                  2             float64\n                  3             float64\ndtype: object"
     },
     "execution_count": 46,
     "metadata": {},
     "output_type": "execute_result"
    }
   ],
   "source": [
    "dfs_episode.dtypes"
   ]
  },
  {
   "cell_type": "code",
   "execution_count": 47,
   "metadata": {
    "ExecuteTime": {
     "end_time": "2023-08-04T03:23:01.737915877Z",
     "start_time": "2023-08-04T03:22:49.636907184Z"
    }
   },
   "outputs": [],
   "source": [
    "vb7 = trucks_by_id['VB7']"
   ]
  },
  {
   "cell_type": "markdown",
   "metadata": {},
   "source": [
    "### Encoding MultiIndexed DataFrame to documents array of MongoDB record type (nested dictionary)"
   ]
  },
  {
   "cell_type": "code",
   "execution_count": 48,
   "metadata": {
    "ExecuteTime": {
     "end_time": "2023-08-04T03:23:01.774199830Z",
     "start_time": "2023-08-04T03:22:49.641006266Z"
    }
   },
   "outputs": [
    {
     "data": {
      "text/plain": "ObservationMetaCloud(state_specs=StateSpecsCloud(state_unit_codes=StateUnitCodes(velocity_unit_code='kph', thrust_unit_code='pct', brake_unit_code='pct'), state_number=3, unit_number_per_state=200, unit_duration=4, frequency=50, cloud_interface=CloudMixin(cloud_signal_frequency=50, cloud_gear_frequency=2, cloud_unit_duration=1, cloud_unit_number=4)), action_specs=ActionSpecs(action_unit_code='nm', action_row_number=4, action_column_number=17), reward_specs=RewardSpecs(reward_unit_code='wh', reward_number=1), site='anting')"
     },
     "execution_count": 48,
     "metadata": {},
     "output_type": "execute_result"
    },
    {
     "data": {
      "text/plain": "{'state_specs': {'state_unit_codes': {'velocity_unit_code': 'kph',\n   'thrust_unit_code': 'pct',\n   'brake_unit_code': 'pct'},\n  'state_number': 3,\n  'unit_number_per_state': 200,\n  'unit_duration': 4,\n  'frequency': 50,\n  'cloud_interface': {'cloud_signal_frequency': 50,\n   'cloud_gear_frequency': 2,\n   'cloud_unit_duration': 1,\n   'cloud_unit_number': 4}},\n 'action_specs': {'action_unit_code': 'nm',\n  'action_row_number': 4,\n  'action_column_number': 17},\n 'reward_specs': {'reward_unit_code': 'wh', 'reward_number': 1},\n 'site': 'anting'}"
     },
     "execution_count": 48,
     "metadata": {},
     "output_type": "execute_result"
    }
   ],
   "source": [
    "from eos.data_io.struct import ObservationMetaCloud, StateSpecs, StateUnitCodes, ActionSpecs, RewardSpecs\n",
    "\n",
    "observation_meta = ObservationMetaCloud()\n",
    "#     state_specs=StateSpecs(\n",
    "#         interface='cloud',\n",
    "#         state_unit_codes=StateUnitCodes(\n",
    "#             state_unit_code='kph',\n",
    "#             thrust_unit_code='pct',\n",
    "#             brake_unit_code='pct',\n",
    "#         ),\n",
    "#         state_number =3,\n",
    "#         unit_number_per_state = vb7.state_number_per_state,\n",
    "#     ),\n",
    "#     action_specs=ActionSpecs(\n",
    "#         action_unit_code='nm',\n",
    "#         action_row_number=trucks_by_id['VB7'].torque_table_row_num_flash,\n",
    "#         action_column_number=len(trucks_by_id['VB7'].pedal_scale),\n",
    "#     ),\n",
    "#     reward_specs=RewardSpecs(\n",
    "#         reward_unit_code='wh',\n",
    "#         reward_number=1\n",
    "#     ),\n",
    "#     site=trucks_by_id['VB7'].site,\n",
    "# )\n",
    "observation_meta\n",
    "observation_meta.model_dump()"
   ]
  },
  {
   "cell_type": "code",
   "execution_count": 49,
   "metadata": {
    "ExecuteTime": {
     "end_time": "2023-08-04T03:23:01.795208492Z",
     "start_time": "2023-08-04T03:22:49.650446372Z"
    }
   },
   "outputs": [],
   "source": [
    "# dfs_episode\n",
    "#\n",
    "# records = dfs_episode.to_dict('records')\n",
    "# # records\n",
    "# record_nested = [[{key: value} for key, value in record.items()] for record in records]\n",
    "# record_nested\n",
    "# ser = dfs_episode.to_dict('split')\n",
    "# ser"
   ]
  },
  {
   "cell_type": "markdown",
   "metadata": {},
   "source": []
  },
  {
   "cell_type": "code",
   "execution_count": 50,
   "metadata": {
    "ExecuteTime": {
     "end_time": "2023-08-04T03:23:01.824714660Z",
     "start_time": "2023-08-04T03:22:49.692801211Z"
    }
   },
   "outputs": [
    {
     "data": {
      "text/plain": "{Timestamp('2023-08-04 12:22:49.017377'): {'action': {'r0': {0: 12.0,\n    1: 13.0,\n    2: 14.0,\n    3: 15.0,\n    4: 16.0},\n   'r1': {0: 17.0, 1: 18.0, 2: 19.0, 3: 20.0, 4: 21.0},\n   'r2': {0: 22.0, 1: 23.0, 2: 24.0, 3: 25.0, 4: 26.0},\n   'speed': {0: 40.0, 1: 50.0, 2: 60.0},\n   'throttle': {0: 0.0, 1: 0.25, 2: 0.5, 3: 0.75, 4: 1.0},\n   'timestep': {0: Timestamp('2023-08-04 11:22:49.117377'),\n    1: Timestamp('2023-08-04 11:22:49.137377'),\n    2: Timestamp('2023-08-04 11:22:49.157377')}},\n  'nstate': {'brake': {0: 37.0, 1: 38.0, 2: 39.0, 3: 40.0},\n   'thrust': {0: 33.0, 1: 34.0, 2: 35.0, 3: 36.0},\n   'timestep': {0: Timestamp('2023-08-04 11:22:54.017377'),\n    1: Timestamp('2023-08-04 11:22:54.037377'),\n    2: Timestamp('2023-08-04 11:22:54.057377'),\n    3: Timestamp('2023-08-04 11:22:54.077377')},\n   'velocity': {0: 29.0, 1: 30.0, 2: 31.0, 3: 32.0}},\n  'reward': {'timestep': {0: Timestamp('2023-08-04 11:22:49.117377')},\n   'work': {0: 27.0}},\n  'state': {'brake': {0: 8.0, 1: 9.0, 2: 10.0, 3: 11.0},\n   'thrust': {0: 4.0, 1: 5.0, 2: 6.0, 3: 7.0},\n   'timestep': {0: Timestamp('2023-08-04 11:22:49.017377'),\n    1: Timestamp('2023-08-04 11:22:49.037377'),\n    2: Timestamp('2023-08-04 11:22:49.057377'),\n    3: Timestamp('2023-08-04 11:22:49.077377')},\n   'velocity': {0: 0.0, 1: 1.0, 2: 2.0, 3: 3.0}}},\n Timestamp('2023-08-04 13:22:49.017377'): {'action': {'r0': {0: 12.0,\n    1: 13.0,\n    2: 14.0,\n    3: 15.0,\n    4: 16.0},\n   'r1': {0: 17.0, 1: 18.0, 2: 19.0, 3: 20.0, 4: 21.0},\n   'r2': {0: 22.0, 1: 23.0, 2: 24.0, 3: 25.0, 4: 26.0},\n   'speed': {0: 40.0, 1: 50.0, 2: 60.0},\n   'throttle': {0: 0.0, 1: 0.25, 2: 0.5, 3: 0.75, 4: 1.0},\n   'timestep': {0: Timestamp('2023-08-04 11:22:49.117377'),\n    1: Timestamp('2023-08-04 11:22:49.137377'),\n    2: Timestamp('2023-08-04 11:22:49.157377')}},\n  'nstate': {'brake': {0: 37.0, 1: 38.0, 2: 39.0, 3: 40.0},\n   'thrust': {0: 33.0, 1: 34.0, 2: 35.0, 3: 36.0},\n   'timestep': {0: Timestamp('2023-08-04 11:22:54.017377'),\n    1: Timestamp('2023-08-04 11:22:54.037377'),\n    2: Timestamp('2023-08-04 11:22:54.057377'),\n    3: Timestamp('2023-08-04 11:22:54.077377')},\n   'velocity': {0: 29.0, 1: 30.0, 2: 31.0, 3: 32.0}},\n  'reward': {'timestep': {0: Timestamp('2023-08-04 11:22:49.117377')},\n   'work': {0: 27.0}},\n  'state': {'brake': {0: 8.0, 1: 9.0, 2: 10.0, 3: 11.0},\n   'thrust': {0: 4.0, 1: 5.0, 2: 6.0, 3: 7.0},\n   'timestep': {0: Timestamp('2023-08-04 11:22:49.017377'),\n    1: Timestamp('2023-08-04 11:22:49.037377'),\n    2: Timestamp('2023-08-04 11:22:49.057377'),\n    3: Timestamp('2023-08-04 11:22:49.077377')},\n   'velocity': {0: 0.0, 1: 1.0, 2: 2.0, 3: 3.0}}},\n Timestamp('2023-08-04 14:22:49.017377'): {'action': {'r0': {0: 12.0,\n    1: 13.0,\n    2: 14.0,\n    3: 15.0,\n    4: 16.0},\n   'r1': {0: 17.0, 1: 18.0, 2: 19.0, 3: 20.0, 4: 21.0},\n   'r2': {0: 22.0, 1: 23.0, 2: 24.0, 3: 25.0, 4: 26.0},\n   'speed': {0: 40.0, 1: 50.0, 2: 60.0},\n   'throttle': {0: 0.0, 1: 0.25, 2: 0.5, 3: 0.75, 4: 1.0},\n   'timestep': {0: Timestamp('2023-08-04 11:22:49.117377'),\n    1: Timestamp('2023-08-04 11:22:49.137377'),\n    2: Timestamp('2023-08-04 11:22:49.157377')}},\n  'nstate': {'brake': {0: 37.0, 1: 38.0, 2: 39.0, 3: 40.0},\n   'thrust': {0: 33.0, 1: 34.0, 2: 35.0, 3: 36.0},\n   'timestep': {0: Timestamp('2023-08-04 11:22:54.017377'),\n    1: Timestamp('2023-08-04 11:22:54.037377'),\n    2: Timestamp('2023-08-04 11:22:54.057377'),\n    3: Timestamp('2023-08-04 11:22:54.077377')},\n   'velocity': {0: 29.0, 1: 30.0, 2: 31.0, 3: 32.0}},\n  'reward': {'timestep': {0: Timestamp('2023-08-04 11:22:49.117377')},\n   'work': {0: 27.0}},\n  'state': {'brake': {0: 8.0, 1: 9.0, 2: 10.0, 3: 11.0},\n   'thrust': {0: 4.0, 1: 5.0, 2: 6.0, 3: 7.0},\n   'timestep': {0: Timestamp('2023-08-04 11:22:49.017377'),\n    1: Timestamp('2023-08-04 11:22:49.037377'),\n    2: Timestamp('2023-08-04 11:22:49.057377'),\n    3: Timestamp('2023-08-04 11:22:49.077377')},\n   'velocity': {0: 0.0, 1: 1.0, 2: 2.0, 3: 3.0}}},\n Timestamp('2023-08-04 15:22:49.017377'): {'action': {'r0': {0: 12.0,\n    1: 13.0,\n    2: 14.0,\n    3: 15.0,\n    4: 16.0},\n   'r1': {0: 17.0, 1: 18.0, 2: 19.0, 3: 20.0, 4: 21.0},\n   'r2': {0: 22.0, 1: 23.0, 2: 24.0, 3: 25.0, 4: 26.0},\n   'speed': {0: 40.0, 1: 50.0, 2: 60.0},\n   'throttle': {0: 0.0, 1: 0.25, 2: 0.5, 3: 0.75, 4: 1.0},\n   'timestep': {0: Timestamp('2023-08-04 11:22:49.117377'),\n    1: Timestamp('2023-08-04 11:22:49.137377'),\n    2: Timestamp('2023-08-04 11:22:49.157377')}},\n  'nstate': {'brake': {0: 37.0, 1: 38.0, 2: 39.0, 3: 40.0},\n   'thrust': {0: 33.0, 1: 34.0, 2: 35.0, 3: 36.0},\n   'timestep': {0: Timestamp('2023-08-04 11:22:54.017377'),\n    1: Timestamp('2023-08-04 11:22:54.037377'),\n    2: Timestamp('2023-08-04 11:22:54.057377'),\n    3: Timestamp('2023-08-04 11:22:54.077377')},\n   'velocity': {0: 29.0, 1: 30.0, 2: 31.0, 3: 32.0}},\n  'reward': {'timestep': {0: Timestamp('2023-08-04 11:22:49.117377')},\n   'work': {0: 27.0}},\n  'state': {'brake': {0: 8.0, 1: 9.0, 2: 10.0, 3: 11.0},\n   'thrust': {0: 4.0, 1: 5.0, 2: 6.0, 3: 7.0},\n   'timestep': {0: Timestamp('2023-08-04 11:22:49.017377'),\n    1: Timestamp('2023-08-04 11:22:49.037377'),\n    2: Timestamp('2023-08-04 11:22:49.057377'),\n    3: Timestamp('2023-08-04 11:22:49.077377')},\n   'velocity': {0: 0.0, 1: 1.0, 2: 2.0, 3: 3.0}}},\n Timestamp('2023-08-04 16:22:49.017377'): {'action': {'r0': {0: 12.0,\n    1: 13.0,\n    2: 14.0,\n    3: 15.0,\n    4: 16.0},\n   'r1': {0: 17.0, 1: 18.0, 2: 19.0, 3: 20.0, 4: 21.0},\n   'r2': {0: 22.0, 1: 23.0, 2: 24.0, 3: 25.0, 4: 26.0},\n   'speed': {0: 40.0, 1: 50.0, 2: 60.0},\n   'throttle': {0: 0.0, 1: 0.25, 2: 0.5, 3: 0.75, 4: 1.0},\n   'timestep': {0: Timestamp('2023-08-04 11:22:49.117377'),\n    1: Timestamp('2023-08-04 11:22:49.137377'),\n    2: Timestamp('2023-08-04 11:22:49.157377')}},\n  'nstate': {'brake': {0: 37.0, 1: 38.0, 2: 39.0, 3: 40.0},\n   'thrust': {0: 33.0, 1: 34.0, 2: 35.0, 3: 36.0},\n   'timestep': {0: Timestamp('2023-08-04 11:22:54.017377'),\n    1: Timestamp('2023-08-04 11:22:54.037377'),\n    2: Timestamp('2023-08-04 11:22:54.057377'),\n    3: Timestamp('2023-08-04 11:22:54.077377')},\n   'velocity': {0: 29.0, 1: 30.0, 2: 31.0, 3: 32.0}},\n  'reward': {'timestep': {0: Timestamp('2023-08-04 11:22:49.117377')},\n   'work': {0: 27.0}},\n  'state': {'brake': {0: 8.0, 1: 9.0, 2: 10.0, 3: 11.0},\n   'thrust': {0: 4.0, 1: 5.0, 2: 6.0, 3: 7.0},\n   'timestep': {0: Timestamp('2023-08-04 11:22:49.017377'),\n    1: Timestamp('2023-08-04 11:22:49.037377'),\n    2: Timestamp('2023-08-04 11:22:49.057377'),\n    3: Timestamp('2023-08-04 11:22:49.077377')},\n   'velocity': {0: 0.0, 1: 1.0, 2: 2.0, 3: 3.0}}}}"
     },
     "execution_count": 50,
     "metadata": {},
     "output_type": "execute_result"
    },
    {
     "data": {
      "text/plain": "5"
     },
     "execution_count": 50,
     "metadata": {},
     "output_type": "execute_result"
    }
   ],
   "source": [
    "# dict_nested = [{i: dfs_episode.xs(i).to_dict('index') for i in level} for level in dfs_episode.index.levels]\n",
    "# dfs_index = dfs_episode.to_dict('index')\n",
    "# dfs_index\n",
    "\n",
    "\n",
    "def nest(d: dict) -> dict:\n",
    "    result = {}\n",
    "    for key, value in d.items():\n",
    "        target = result\n",
    "        for k in key[:-1]:\n",
    "            target = target.setdefault(k, {})\n",
    "        target[key[-1]] = value\n",
    "    return result\n",
    "\n",
    "\n",
    "def df_to_nested_dict(df_multi_indexed_col: pd.DataFrame) -> dict:\n",
    "    d = df_multi_indexed_col.to_dict('index')\n",
    "    return {k: nest(v) for k, v in d.items()}\n",
    "\n",
    "def eos_df_to_nested_dict(episode: pd.DataFrame) -> dict:\n",
    "    \"\"\"\n",
    "    Convert a eos dataframe with multi-indexed columns to a nested dictionary\n",
    "    Remove all the levels of the multi-indexed columns except for 'timestamp'\n",
    "    Keep only the timestamp as the single key for the nested dictionary\n",
    "    \"\"\"\n",
    "    dict_nested = df_to_nested_dict(\n",
    "        episode\n",
    "    )  # for multi-indexed dataframe, the index in the first level of the dictionary is still a tuple!\n",
    "    indices_dict = [\n",
    "        {episode.index.names[i]: level for i, level in enumerate(levels)}\n",
    "        for levels in episode.index\n",
    "    ]  # all elements in the array should have the same vehicle, driver, episodestart\n",
    "    single_key_dict = {\n",
    "        idx['timestamp']: dict_nested[key]\n",
    "        for idx, key in zip(indices_dict, dict_nested)\n",
    "    }\n",
    "\n",
    "    return single_key_dict\n",
    "# dfs_episode\n",
    "# dfs_episode.columns\n",
    "\n",
    "# dict1 = {key: nest(value) for key, value in dfs_episode.to_dict('index').items()}\n",
    "# dict1\n",
    "\n",
    "dict_nested = eos_df_to_nested_dict(dfs_episode)\n",
    "dict_nested\n",
    "# dict_nested = {level:\n",
    "#                    {i: dfs_episode.xs(i).to_dict('index') for i in level }\n",
    "#                for level in dfs_episode.index.levels}\n",
    "# dict_nested = {level: dfs_episode.xs(level).to_dict('index')\n",
    "#                for level in dfs_episode.columns.levels[0]}\n",
    "# dict_nested\n",
    "len(dict_nested)"
   ]
  },
  {
   "cell_type": "code",
   "execution_count": 51,
   "metadata": {
    "ExecuteTime": {
     "end_time": "2023-08-04T03:23:01.825625171Z",
     "start_time": "2023-08-04T03:22:49.692971361Z"
    }
   },
   "outputs": [
    {
     "data": {
      "text/plain": "5"
     },
     "execution_count": 51,
     "metadata": {},
     "output_type": "execute_result"
    },
    {
     "data": {
      "text/plain": "qtuple                                                                   action  \\\nrows                                                                         r0   \nidx                                                                           0   \nvehicle driver     episodestart               timestamp                           \nVB7     wang-cheng 2023-08-04 11:22:49.017377 2023-08-04 12:22:49.017377   12.0   \n                                              2023-08-04 13:22:49.017377   12.0   \n                                              2023-08-04 14:22:49.017377   12.0   \n                                              2023-08-04 15:22:49.017377   12.0   \n                                              2023-08-04 16:22:49.017377   12.0   \n\nqtuple                                                                          \\\nrows                                                                             \nidx                                                                          1   \nvehicle driver     episodestart               timestamp                          \nVB7     wang-cheng 2023-08-04 11:22:49.017377 2023-08-04 12:22:49.017377  13.0   \n                                              2023-08-04 13:22:49.017377  13.0   \n                                              2023-08-04 14:22:49.017377  13.0   \n                                              2023-08-04 15:22:49.017377  13.0   \n                                              2023-08-04 16:22:49.017377  13.0   \n\nqtuple                                                                          \\\nrows                                                                             \nidx                                                                          2   \nvehicle driver     episodestart               timestamp                          \nVB7     wang-cheng 2023-08-04 11:22:49.017377 2023-08-04 12:22:49.017377  14.0   \n                                              2023-08-04 13:22:49.017377  14.0   \n                                              2023-08-04 14:22:49.017377  14.0   \n                                              2023-08-04 15:22:49.017377  14.0   \n                                              2023-08-04 16:22:49.017377  14.0   \n\nqtuple                                                                          \\\nrows                                                                             \nidx                                                                          3   \nvehicle driver     episodestart               timestamp                          \nVB7     wang-cheng 2023-08-04 11:22:49.017377 2023-08-04 12:22:49.017377  15.0   \n                                              2023-08-04 13:22:49.017377  15.0   \n                                              2023-08-04 14:22:49.017377  15.0   \n                                              2023-08-04 15:22:49.017377  15.0   \n                                              2023-08-04 16:22:49.017377  15.0   \n\nqtuple                                                                          \\\nrows                                                                             \nidx                                                                          4   \nvehicle driver     episodestart               timestamp                          \nVB7     wang-cheng 2023-08-04 11:22:49.017377 2023-08-04 12:22:49.017377  16.0   \n                                              2023-08-04 13:22:49.017377  16.0   \n                                              2023-08-04 14:22:49.017377  16.0   \n                                              2023-08-04 15:22:49.017377  16.0   \n                                              2023-08-04 16:22:49.017377  16.0   \n\nqtuple                                                                          \\\nrows                                                                        r1   \nidx                                                                          0   \nvehicle driver     episodestart               timestamp                          \nVB7     wang-cheng 2023-08-04 11:22:49.017377 2023-08-04 12:22:49.017377  17.0   \n                                              2023-08-04 13:22:49.017377  17.0   \n                                              2023-08-04 14:22:49.017377  17.0   \n                                              2023-08-04 15:22:49.017377  17.0   \n                                              2023-08-04 16:22:49.017377  17.0   \n\nqtuple                                                                          \\\nrows                                                                             \nidx                                                                          1   \nvehicle driver     episodestart               timestamp                          \nVB7     wang-cheng 2023-08-04 11:22:49.017377 2023-08-04 12:22:49.017377  18.0   \n                                              2023-08-04 13:22:49.017377  18.0   \n                                              2023-08-04 14:22:49.017377  18.0   \n                                              2023-08-04 15:22:49.017377  18.0   \n                                              2023-08-04 16:22:49.017377  18.0   \n\nqtuple                                                                          \\\nrows                                                                             \nidx                                                                          2   \nvehicle driver     episodestart               timestamp                          \nVB7     wang-cheng 2023-08-04 11:22:49.017377 2023-08-04 12:22:49.017377  19.0   \n                                              2023-08-04 13:22:49.017377  19.0   \n                                              2023-08-04 14:22:49.017377  19.0   \n                                              2023-08-04 15:22:49.017377  19.0   \n                                              2023-08-04 16:22:49.017377  19.0   \n\nqtuple                                                                          \\\nrows                                                                             \nidx                                                                          3   \nvehicle driver     episodestart               timestamp                          \nVB7     wang-cheng 2023-08-04 11:22:49.017377 2023-08-04 12:22:49.017377  20.0   \n                                              2023-08-04 13:22:49.017377  20.0   \n                                              2023-08-04 14:22:49.017377  20.0   \n                                              2023-08-04 15:22:49.017377  20.0   \n                                              2023-08-04 16:22:49.017377  20.0   \n\nqtuple                                                                          \\\nrows                                                                             \nidx                                                                          4   \nvehicle driver     episodestart               timestamp                          \nVB7     wang-cheng 2023-08-04 11:22:49.017377 2023-08-04 12:22:49.017377  21.0   \n                                              2023-08-04 13:22:49.017377  21.0   \n                                              2023-08-04 14:22:49.017377  21.0   \n                                              2023-08-04 15:22:49.017377  21.0   \n                                              2023-08-04 16:22:49.017377  21.0   \n\nqtuple                                                                    ...  \\\nrows                                                                      ...   \nidx                                                                       ...   \nvehicle driver     episodestart               timestamp                   ...   \nVB7     wang-cheng 2023-08-04 11:22:49.017377 2023-08-04 12:22:49.017377  ...   \n                                              2023-08-04 13:22:49.017377  ...   \n                                              2023-08-04 14:22:49.017377  ...   \n                                              2023-08-04 15:22:49.017377  ...   \n                                              2023-08-04 16:22:49.017377  ...   \n\nqtuple                                                                    state  \\\nrows                                                                     thrust   \nidx                                                                           2   \nvehicle driver     episodestart               timestamp                           \nVB7     wang-cheng 2023-08-04 11:22:49.017377 2023-08-04 12:22:49.017377    6.0   \n                                              2023-08-04 13:22:49.017377    6.0   \n                                              2023-08-04 14:22:49.017377    6.0   \n                                              2023-08-04 15:22:49.017377    6.0   \n                                              2023-08-04 16:22:49.017377    6.0   \n\nqtuple                                                                         \\\nrows                                                                            \nidx                                                                         3   \nvehicle driver     episodestart               timestamp                         \nVB7     wang-cheng 2023-08-04 11:22:49.017377 2023-08-04 12:22:49.017377  7.0   \n                                              2023-08-04 13:22:49.017377  7.0   \n                                              2023-08-04 14:22:49.017377  7.0   \n                                              2023-08-04 15:22:49.017377  7.0   \n                                              2023-08-04 16:22:49.017377  7.0   \n\nqtuple                                                                                               \\\nrows                                                                                       timestep   \nidx                                                                                               0   \nvehicle driver     episodestart               timestamp                                               \nVB7     wang-cheng 2023-08-04 11:22:49.017377 2023-08-04 12:22:49.017377 2023-08-04 11:22:49.017377   \n                                              2023-08-04 13:22:49.017377 2023-08-04 11:22:49.017377   \n                                              2023-08-04 14:22:49.017377 2023-08-04 11:22:49.017377   \n                                              2023-08-04 15:22:49.017377 2023-08-04 11:22:49.017377   \n                                              2023-08-04 16:22:49.017377 2023-08-04 11:22:49.017377   \n\nqtuple                                                                                               \\\nrows                                                                                                  \nidx                                                                                               1   \nvehicle driver     episodestart               timestamp                                               \nVB7     wang-cheng 2023-08-04 11:22:49.017377 2023-08-04 12:22:49.017377 2023-08-04 11:22:49.037377   \n                                              2023-08-04 13:22:49.017377 2023-08-04 11:22:49.037377   \n                                              2023-08-04 14:22:49.017377 2023-08-04 11:22:49.037377   \n                                              2023-08-04 15:22:49.017377 2023-08-04 11:22:49.037377   \n                                              2023-08-04 16:22:49.017377 2023-08-04 11:22:49.037377   \n\nqtuple                                                                                               \\\nrows                                                                                                  \nidx                                                                                               2   \nvehicle driver     episodestart               timestamp                                               \nVB7     wang-cheng 2023-08-04 11:22:49.017377 2023-08-04 12:22:49.017377 2023-08-04 11:22:49.057377   \n                                              2023-08-04 13:22:49.017377 2023-08-04 11:22:49.057377   \n                                              2023-08-04 14:22:49.017377 2023-08-04 11:22:49.057377   \n                                              2023-08-04 15:22:49.017377 2023-08-04 11:22:49.057377   \n                                              2023-08-04 16:22:49.017377 2023-08-04 11:22:49.057377   \n\nqtuple                                                                                               \\\nrows                                                                                                  \nidx                                                                                               3   \nvehicle driver     episodestart               timestamp                                               \nVB7     wang-cheng 2023-08-04 11:22:49.017377 2023-08-04 12:22:49.017377 2023-08-04 11:22:49.077377   \n                                              2023-08-04 13:22:49.017377 2023-08-04 11:22:49.077377   \n                                              2023-08-04 14:22:49.017377 2023-08-04 11:22:49.077377   \n                                              2023-08-04 15:22:49.017377 2023-08-04 11:22:49.077377   \n                                              2023-08-04 16:22:49.017377 2023-08-04 11:22:49.077377   \n\nqtuple                                                                             \\\nrows                                                                     velocity   \nidx                                                                             0   \nvehicle driver     episodestart               timestamp                             \nVB7     wang-cheng 2023-08-04 11:22:49.017377 2023-08-04 12:22:49.017377      0.0   \n                                              2023-08-04 13:22:49.017377      0.0   \n                                              2023-08-04 14:22:49.017377      0.0   \n                                              2023-08-04 15:22:49.017377      0.0   \n                                              2023-08-04 16:22:49.017377      0.0   \n\nqtuple                                                                         \\\nrows                                                                            \nidx                                                                         1   \nvehicle driver     episodestart               timestamp                         \nVB7     wang-cheng 2023-08-04 11:22:49.017377 2023-08-04 12:22:49.017377  1.0   \n                                              2023-08-04 13:22:49.017377  1.0   \n                                              2023-08-04 14:22:49.017377  1.0   \n                                              2023-08-04 15:22:49.017377  1.0   \n                                              2023-08-04 16:22:49.017377  1.0   \n\nqtuple                                                                         \\\nrows                                                                            \nidx                                                                         2   \nvehicle driver     episodestart               timestamp                         \nVB7     wang-cheng 2023-08-04 11:22:49.017377 2023-08-04 12:22:49.017377  2.0   \n                                              2023-08-04 13:22:49.017377  2.0   \n                                              2023-08-04 14:22:49.017377  2.0   \n                                              2023-08-04 15:22:49.017377  2.0   \n                                              2023-08-04 16:22:49.017377  2.0   \n\nqtuple                                                                         \nrows                                                                           \nidx                                                                         3  \nvehicle driver     episodestart               timestamp                        \nVB7     wang-cheng 2023-08-04 11:22:49.017377 2023-08-04 12:22:49.017377  3.0  \n                                              2023-08-04 13:22:49.017377  3.0  \n                                              2023-08-04 14:22:49.017377  3.0  \n                                              2023-08-04 15:22:49.017377  3.0  \n                                              2023-08-04 16:22:49.017377  3.0  \n\n[5 rows x 60 columns]",
      "text/html": "<div>\n<style scoped>\n    .dataframe tbody tr th:only-of-type {\n        vertical-align: middle;\n    }\n\n    .dataframe tbody tr th {\n        vertical-align: top;\n    }\n\n    .dataframe thead tr th {\n        text-align: left;\n    }\n\n    .dataframe thead tr:last-of-type th {\n        text-align: right;\n    }\n</style>\n<table border=\"1\" class=\"dataframe\">\n  <thead>\n    <tr>\n      <th></th>\n      <th></th>\n      <th></th>\n      <th>qtuple</th>\n      <th colspan=\"10\" halign=\"left\">action</th>\n      <th>...</th>\n      <th colspan=\"10\" halign=\"left\">state</th>\n    </tr>\n    <tr>\n      <th></th>\n      <th></th>\n      <th></th>\n      <th>rows</th>\n      <th colspan=\"5\" halign=\"left\">r0</th>\n      <th colspan=\"5\" halign=\"left\">r1</th>\n      <th>...</th>\n      <th colspan=\"2\" halign=\"left\">thrust</th>\n      <th colspan=\"4\" halign=\"left\">timestep</th>\n      <th colspan=\"4\" halign=\"left\">velocity</th>\n    </tr>\n    <tr>\n      <th></th>\n      <th></th>\n      <th></th>\n      <th>idx</th>\n      <th>0</th>\n      <th>1</th>\n      <th>2</th>\n      <th>3</th>\n      <th>4</th>\n      <th>0</th>\n      <th>1</th>\n      <th>2</th>\n      <th>3</th>\n      <th>4</th>\n      <th>...</th>\n      <th>2</th>\n      <th>3</th>\n      <th>0</th>\n      <th>1</th>\n      <th>2</th>\n      <th>3</th>\n      <th>0</th>\n      <th>1</th>\n      <th>2</th>\n      <th>3</th>\n    </tr>\n    <tr>\n      <th>vehicle</th>\n      <th>driver</th>\n      <th>episodestart</th>\n      <th>timestamp</th>\n      <th></th>\n      <th></th>\n      <th></th>\n      <th></th>\n      <th></th>\n      <th></th>\n      <th></th>\n      <th></th>\n      <th></th>\n      <th></th>\n      <th></th>\n      <th></th>\n      <th></th>\n      <th></th>\n      <th></th>\n      <th></th>\n      <th></th>\n      <th></th>\n      <th></th>\n      <th></th>\n      <th></th>\n    </tr>\n  </thead>\n  <tbody>\n    <tr>\n      <th rowspan=\"5\" valign=\"top\">VB7</th>\n      <th rowspan=\"5\" valign=\"top\">wang-cheng</th>\n      <th rowspan=\"5\" valign=\"top\">2023-08-04 11:22:49.017377</th>\n      <th>2023-08-04 12:22:49.017377</th>\n      <td>12.0</td>\n      <td>13.0</td>\n      <td>14.0</td>\n      <td>15.0</td>\n      <td>16.0</td>\n      <td>17.0</td>\n      <td>18.0</td>\n      <td>19.0</td>\n      <td>20.0</td>\n      <td>21.0</td>\n      <td>...</td>\n      <td>6.0</td>\n      <td>7.0</td>\n      <td>2023-08-04 11:22:49.017377</td>\n      <td>2023-08-04 11:22:49.037377</td>\n      <td>2023-08-04 11:22:49.057377</td>\n      <td>2023-08-04 11:22:49.077377</td>\n      <td>0.0</td>\n      <td>1.0</td>\n      <td>2.0</td>\n      <td>3.0</td>\n    </tr>\n    <tr>\n      <th>2023-08-04 13:22:49.017377</th>\n      <td>12.0</td>\n      <td>13.0</td>\n      <td>14.0</td>\n      <td>15.0</td>\n      <td>16.0</td>\n      <td>17.0</td>\n      <td>18.0</td>\n      <td>19.0</td>\n      <td>20.0</td>\n      <td>21.0</td>\n      <td>...</td>\n      <td>6.0</td>\n      <td>7.0</td>\n      <td>2023-08-04 11:22:49.017377</td>\n      <td>2023-08-04 11:22:49.037377</td>\n      <td>2023-08-04 11:22:49.057377</td>\n      <td>2023-08-04 11:22:49.077377</td>\n      <td>0.0</td>\n      <td>1.0</td>\n      <td>2.0</td>\n      <td>3.0</td>\n    </tr>\n    <tr>\n      <th>2023-08-04 14:22:49.017377</th>\n      <td>12.0</td>\n      <td>13.0</td>\n      <td>14.0</td>\n      <td>15.0</td>\n      <td>16.0</td>\n      <td>17.0</td>\n      <td>18.0</td>\n      <td>19.0</td>\n      <td>20.0</td>\n      <td>21.0</td>\n      <td>...</td>\n      <td>6.0</td>\n      <td>7.0</td>\n      <td>2023-08-04 11:22:49.017377</td>\n      <td>2023-08-04 11:22:49.037377</td>\n      <td>2023-08-04 11:22:49.057377</td>\n      <td>2023-08-04 11:22:49.077377</td>\n      <td>0.0</td>\n      <td>1.0</td>\n      <td>2.0</td>\n      <td>3.0</td>\n    </tr>\n    <tr>\n      <th>2023-08-04 15:22:49.017377</th>\n      <td>12.0</td>\n      <td>13.0</td>\n      <td>14.0</td>\n      <td>15.0</td>\n      <td>16.0</td>\n      <td>17.0</td>\n      <td>18.0</td>\n      <td>19.0</td>\n      <td>20.0</td>\n      <td>21.0</td>\n      <td>...</td>\n      <td>6.0</td>\n      <td>7.0</td>\n      <td>2023-08-04 11:22:49.017377</td>\n      <td>2023-08-04 11:22:49.037377</td>\n      <td>2023-08-04 11:22:49.057377</td>\n      <td>2023-08-04 11:22:49.077377</td>\n      <td>0.0</td>\n      <td>1.0</td>\n      <td>2.0</td>\n      <td>3.0</td>\n    </tr>\n    <tr>\n      <th>2023-08-04 16:22:49.017377</th>\n      <td>12.0</td>\n      <td>13.0</td>\n      <td>14.0</td>\n      <td>15.0</td>\n      <td>16.0</td>\n      <td>17.0</td>\n      <td>18.0</td>\n      <td>19.0</td>\n      <td>20.0</td>\n      <td>21.0</td>\n      <td>...</td>\n      <td>6.0</td>\n      <td>7.0</td>\n      <td>2023-08-04 11:22:49.017377</td>\n      <td>2023-08-04 11:22:49.037377</td>\n      <td>2023-08-04 11:22:49.057377</td>\n      <td>2023-08-04 11:22:49.077377</td>\n      <td>0.0</td>\n      <td>1.0</td>\n      <td>2.0</td>\n      <td>3.0</td>\n    </tr>\n  </tbody>\n</table>\n<p>5 rows × 60 columns</p>\n</div>"
     },
     "execution_count": 51,
     "metadata": {},
     "output_type": "execute_result"
    },
    {
     "data": {
      "text/plain": "{Timestamp('2023-08-04 12:22:49.017377'): {'action': {'r0': {0: 12.0,\n    1: 13.0,\n    2: 14.0,\n    3: 15.0,\n    4: 16.0},\n   'r1': {0: 17.0, 1: 18.0, 2: 19.0, 3: 20.0, 4: 21.0},\n   'r2': {0: 22.0, 1: 23.0, 2: 24.0, 3: 25.0, 4: 26.0},\n   'speed': {0: 40.0, 1: 50.0, 2: 60.0},\n   'throttle': {0: 0.0, 1: 0.25, 2: 0.5, 3: 0.75, 4: 1.0},\n   'timestep': {0: Timestamp('2023-08-04 11:22:49.117377'),\n    1: Timestamp('2023-08-04 11:22:49.137377'),\n    2: Timestamp('2023-08-04 11:22:49.157377')}},\n  'nstate': {'brake': {0: 37.0, 1: 38.0, 2: 39.0, 3: 40.0},\n   'thrust': {0: 33.0, 1: 34.0, 2: 35.0, 3: 36.0},\n   'timestep': {0: Timestamp('2023-08-04 11:22:54.017377'),\n    1: Timestamp('2023-08-04 11:22:54.037377'),\n    2: Timestamp('2023-08-04 11:22:54.057377'),\n    3: Timestamp('2023-08-04 11:22:54.077377')},\n   'velocity': {0: 29.0, 1: 30.0, 2: 31.0, 3: 32.0}},\n  'reward': {'timestep': {0: Timestamp('2023-08-04 11:22:49.117377')},\n   'work': {0: 27.0}},\n  'state': {'brake': {0: 8.0, 1: 9.0, 2: 10.0, 3: 11.0},\n   'thrust': {0: 4.0, 1: 5.0, 2: 6.0, 3: 7.0},\n   'timestep': {0: Timestamp('2023-08-04 11:22:49.017377'),\n    1: Timestamp('2023-08-04 11:22:49.037377'),\n    2: Timestamp('2023-08-04 11:22:49.057377'),\n    3: Timestamp('2023-08-04 11:22:49.077377')},\n   'velocity': {0: 0.0, 1: 1.0, 2: 2.0, 3: 3.0}}},\n Timestamp('2023-08-04 13:22:49.017377'): {'action': {'r0': {0: 12.0,\n    1: 13.0,\n    2: 14.0,\n    3: 15.0,\n    4: 16.0},\n   'r1': {0: 17.0, 1: 18.0, 2: 19.0, 3: 20.0, 4: 21.0},\n   'r2': {0: 22.0, 1: 23.0, 2: 24.0, 3: 25.0, 4: 26.0},\n   'speed': {0: 40.0, 1: 50.0, 2: 60.0},\n   'throttle': {0: 0.0, 1: 0.25, 2: 0.5, 3: 0.75, 4: 1.0},\n   'timestep': {0: Timestamp('2023-08-04 11:22:49.117377'),\n    1: Timestamp('2023-08-04 11:22:49.137377'),\n    2: Timestamp('2023-08-04 11:22:49.157377')}},\n  'nstate': {'brake': {0: 37.0, 1: 38.0, 2: 39.0, 3: 40.0},\n   'thrust': {0: 33.0, 1: 34.0, 2: 35.0, 3: 36.0},\n   'timestep': {0: Timestamp('2023-08-04 11:22:54.017377'),\n    1: Timestamp('2023-08-04 11:22:54.037377'),\n    2: Timestamp('2023-08-04 11:22:54.057377'),\n    3: Timestamp('2023-08-04 11:22:54.077377')},\n   'velocity': {0: 29.0, 1: 30.0, 2: 31.0, 3: 32.0}},\n  'reward': {'timestep': {0: Timestamp('2023-08-04 11:22:49.117377')},\n   'work': {0: 27.0}},\n  'state': {'brake': {0: 8.0, 1: 9.0, 2: 10.0, 3: 11.0},\n   'thrust': {0: 4.0, 1: 5.0, 2: 6.0, 3: 7.0},\n   'timestep': {0: Timestamp('2023-08-04 11:22:49.017377'),\n    1: Timestamp('2023-08-04 11:22:49.037377'),\n    2: Timestamp('2023-08-04 11:22:49.057377'),\n    3: Timestamp('2023-08-04 11:22:49.077377')},\n   'velocity': {0: 0.0, 1: 1.0, 2: 2.0, 3: 3.0}}},\n Timestamp('2023-08-04 14:22:49.017377'): {'action': {'r0': {0: 12.0,\n    1: 13.0,\n    2: 14.0,\n    3: 15.0,\n    4: 16.0},\n   'r1': {0: 17.0, 1: 18.0, 2: 19.0, 3: 20.0, 4: 21.0},\n   'r2': {0: 22.0, 1: 23.0, 2: 24.0, 3: 25.0, 4: 26.0},\n   'speed': {0: 40.0, 1: 50.0, 2: 60.0},\n   'throttle': {0: 0.0, 1: 0.25, 2: 0.5, 3: 0.75, 4: 1.0},\n   'timestep': {0: Timestamp('2023-08-04 11:22:49.117377'),\n    1: Timestamp('2023-08-04 11:22:49.137377'),\n    2: Timestamp('2023-08-04 11:22:49.157377')}},\n  'nstate': {'brake': {0: 37.0, 1: 38.0, 2: 39.0, 3: 40.0},\n   'thrust': {0: 33.0, 1: 34.0, 2: 35.0, 3: 36.0},\n   'timestep': {0: Timestamp('2023-08-04 11:22:54.017377'),\n    1: Timestamp('2023-08-04 11:22:54.037377'),\n    2: Timestamp('2023-08-04 11:22:54.057377'),\n    3: Timestamp('2023-08-04 11:22:54.077377')},\n   'velocity': {0: 29.0, 1: 30.0, 2: 31.0, 3: 32.0}},\n  'reward': {'timestep': {0: Timestamp('2023-08-04 11:22:49.117377')},\n   'work': {0: 27.0}},\n  'state': {'brake': {0: 8.0, 1: 9.0, 2: 10.0, 3: 11.0},\n   'thrust': {0: 4.0, 1: 5.0, 2: 6.0, 3: 7.0},\n   'timestep': {0: Timestamp('2023-08-04 11:22:49.017377'),\n    1: Timestamp('2023-08-04 11:22:49.037377'),\n    2: Timestamp('2023-08-04 11:22:49.057377'),\n    3: Timestamp('2023-08-04 11:22:49.077377')},\n   'velocity': {0: 0.0, 1: 1.0, 2: 2.0, 3: 3.0}}},\n Timestamp('2023-08-04 15:22:49.017377'): {'action': {'r0': {0: 12.0,\n    1: 13.0,\n    2: 14.0,\n    3: 15.0,\n    4: 16.0},\n   'r1': {0: 17.0, 1: 18.0, 2: 19.0, 3: 20.0, 4: 21.0},\n   'r2': {0: 22.0, 1: 23.0, 2: 24.0, 3: 25.0, 4: 26.0},\n   'speed': {0: 40.0, 1: 50.0, 2: 60.0},\n   'throttle': {0: 0.0, 1: 0.25, 2: 0.5, 3: 0.75, 4: 1.0},\n   'timestep': {0: Timestamp('2023-08-04 11:22:49.117377'),\n    1: Timestamp('2023-08-04 11:22:49.137377'),\n    2: Timestamp('2023-08-04 11:22:49.157377')}},\n  'nstate': {'brake': {0: 37.0, 1: 38.0, 2: 39.0, 3: 40.0},\n   'thrust': {0: 33.0, 1: 34.0, 2: 35.0, 3: 36.0},\n   'timestep': {0: Timestamp('2023-08-04 11:22:54.017377'),\n    1: Timestamp('2023-08-04 11:22:54.037377'),\n    2: Timestamp('2023-08-04 11:22:54.057377'),\n    3: Timestamp('2023-08-04 11:22:54.077377')},\n   'velocity': {0: 29.0, 1: 30.0, 2: 31.0, 3: 32.0}},\n  'reward': {'timestep': {0: Timestamp('2023-08-04 11:22:49.117377')},\n   'work': {0: 27.0}},\n  'state': {'brake': {0: 8.0, 1: 9.0, 2: 10.0, 3: 11.0},\n   'thrust': {0: 4.0, 1: 5.0, 2: 6.0, 3: 7.0},\n   'timestep': {0: Timestamp('2023-08-04 11:22:49.017377'),\n    1: Timestamp('2023-08-04 11:22:49.037377'),\n    2: Timestamp('2023-08-04 11:22:49.057377'),\n    3: Timestamp('2023-08-04 11:22:49.077377')},\n   'velocity': {0: 0.0, 1: 1.0, 2: 2.0, 3: 3.0}}},\n Timestamp('2023-08-04 16:22:49.017377'): {'action': {'r0': {0: 12.0,\n    1: 13.0,\n    2: 14.0,\n    3: 15.0,\n    4: 16.0},\n   'r1': {0: 17.0, 1: 18.0, 2: 19.0, 3: 20.0, 4: 21.0},\n   'r2': {0: 22.0, 1: 23.0, 2: 24.0, 3: 25.0, 4: 26.0},\n   'speed': {0: 40.0, 1: 50.0, 2: 60.0},\n   'throttle': {0: 0.0, 1: 0.25, 2: 0.5, 3: 0.75, 4: 1.0},\n   'timestep': {0: Timestamp('2023-08-04 11:22:49.117377'),\n    1: Timestamp('2023-08-04 11:22:49.137377'),\n    2: Timestamp('2023-08-04 11:22:49.157377')}},\n  'nstate': {'brake': {0: 37.0, 1: 38.0, 2: 39.0, 3: 40.0},\n   'thrust': {0: 33.0, 1: 34.0, 2: 35.0, 3: 36.0},\n   'timestep': {0: Timestamp('2023-08-04 11:22:54.017377'),\n    1: Timestamp('2023-08-04 11:22:54.037377'),\n    2: Timestamp('2023-08-04 11:22:54.057377'),\n    3: Timestamp('2023-08-04 11:22:54.077377')},\n   'velocity': {0: 29.0, 1: 30.0, 2: 31.0, 3: 32.0}},\n  'reward': {'timestep': {0: Timestamp('2023-08-04 11:22:49.117377')},\n   'work': {0: 27.0}},\n  'state': {'brake': {0: 8.0, 1: 9.0, 2: 10.0, 3: 11.0},\n   'thrust': {0: 4.0, 1: 5.0, 2: 6.0, 3: 7.0},\n   'timestep': {0: Timestamp('2023-08-04 11:22:49.017377'),\n    1: Timestamp('2023-08-04 11:22:49.037377'),\n    2: Timestamp('2023-08-04 11:22:49.057377'),\n    3: Timestamp('2023-08-04 11:22:49.077377')},\n   'velocity': {0: 0.0, 1: 1.0, 2: 2.0, 3: 3.0}}}}"
     },
     "execution_count": 51,
     "metadata": {},
     "output_type": "execute_result"
    }
   ],
   "source": [
    "# dict_df_xs = {level: dfs_episode.xs(level) for level in dfs_episode.index.levels[0]}\n",
    "# dict_df_xs['VB7']\n",
    "len(dict_nested)\n",
    "dfs_episode\n",
    "dict_nested"
   ]
  },
  {
   "cell_type": "code",
   "execution_count": 52,
   "metadata": {
    "ExecuteTime": {
     "end_time": "2023-08-04T03:23:01.826195442Z",
     "start_time": "2023-08-04T03:22:49.717627736Z"
    }
   },
   "outputs": [
    {
     "data": {
      "text/plain": "FrozenList(['vehicle', 'driver', 'episodestart', 'timestamp'])"
     },
     "execution_count": 52,
     "metadata": {},
     "output_type": "execute_result"
    },
    {
     "data": {
      "text/plain": "MultiIndex([('VB7', 'wang-cheng', '2023-08-04 11:22:49.017377', ...),\n            ('VB7', 'wang-cheng', '2023-08-04 11:22:49.017377', ...),\n            ('VB7', 'wang-cheng', '2023-08-04 11:22:49.017377', ...),\n            ('VB7', 'wang-cheng', '2023-08-04 11:22:49.017377', ...),\n            ('VB7', 'wang-cheng', '2023-08-04 11:22:49.017377', ...)],\n           names=['vehicle', 'driver', 'episodestart', 'timestamp'])"
     },
     "execution_count": 52,
     "metadata": {},
     "output_type": "execute_result"
    },
    {
     "data": {
      "text/plain": "[{'vehicle': 'VB7',\n  'driver': 'wang-cheng',\n  'episodestart': Timestamp('2023-08-04 11:22:49.017377'),\n  'timestamp': Timestamp('2023-08-04 12:22:49.017377')},\n {'vehicle': 'VB7',\n  'driver': 'wang-cheng',\n  'episodestart': Timestamp('2023-08-04 11:22:49.017377'),\n  'timestamp': Timestamp('2023-08-04 13:22:49.017377')},\n {'vehicle': 'VB7',\n  'driver': 'wang-cheng',\n  'episodestart': Timestamp('2023-08-04 11:22:49.017377'),\n  'timestamp': Timestamp('2023-08-04 14:22:49.017377')},\n {'vehicle': 'VB7',\n  'driver': 'wang-cheng',\n  'episodestart': Timestamp('2023-08-04 11:22:49.017377'),\n  'timestamp': Timestamp('2023-08-04 15:22:49.017377')},\n {'vehicle': 'VB7',\n  'driver': 'wang-cheng',\n  'episodestart': Timestamp('2023-08-04 11:22:49.017377'),\n  'timestamp': Timestamp('2023-08-04 16:22:49.017377')}]"
     },
     "execution_count": 52,
     "metadata": {},
     "output_type": "execute_result"
    },
    {
     "data": {
      "text/plain": "5"
     },
     "execution_count": 52,
     "metadata": {},
     "output_type": "execute_result"
    }
   ],
   "source": [
    "\n",
    "indices = dfs_episode.index\n",
    "indices.name\n",
    "indices.names\n",
    "indices\n",
    "indices_dict = [\n",
    "    {indices.names[i]: level for i, level in enumerate(levels)} for levels in indices\n",
    "]\n",
    "indices_dict\n",
    "len(indices_dict)"
   ]
  },
  {
   "cell_type": "code",
   "execution_count": 53,
   "outputs": [
    {
     "data": {
      "text/plain": "(Timestamp('2023-08-04 15:22:49.017377'),\n {'action': {'r0': {0: 12.0, 1: 13.0, 2: 14.0, 3: 15.0, 4: 16.0},\n   'r1': {0: 17.0, 1: 18.0, 2: 19.0, 3: 20.0, 4: 21.0},\n   'r2': {0: 22.0, 1: 23.0, 2: 24.0, 3: 25.0, 4: 26.0},\n   'speed': {0: 40.0, 1: 50.0, 2: 60.0},\n   'throttle': {0: 0.0, 1: 0.25, 2: 0.5, 3: 0.75, 4: 1.0},\n   'timestep': {0: Timestamp('2023-08-04 11:22:49.117377'),\n    1: Timestamp('2023-08-04 11:22:49.137377'),\n    2: Timestamp('2023-08-04 11:22:49.157377')}},\n  'nstate': {'brake': {0: 37.0, 1: 38.0, 2: 39.0, 3: 40.0},\n   'thrust': {0: 33.0, 1: 34.0, 2: 35.0, 3: 36.0},\n   'timestep': {0: Timestamp('2023-08-04 11:22:54.017377'),\n    1: Timestamp('2023-08-04 11:22:54.037377'),\n    2: Timestamp('2023-08-04 11:22:54.057377'),\n    3: Timestamp('2023-08-04 11:22:54.077377')},\n   'velocity': {0: 29.0, 1: 30.0, 2: 31.0, 3: 32.0}},\n  'reward': {'timestep': {0: Timestamp('2023-08-04 11:22:49.117377')},\n   'work': {0: 27.0}},\n  'state': {'brake': {0: 8.0, 1: 9.0, 2: 10.0, 3: 11.0},\n   'thrust': {0: 4.0, 1: 5.0, 2: 6.0, 3: 7.0},\n   'timestep': {0: Timestamp('2023-08-04 11:22:49.017377'),\n    1: Timestamp('2023-08-04 11:22:49.037377'),\n    2: Timestamp('2023-08-04 11:22:49.057377'),\n    3: Timestamp('2023-08-04 11:22:49.077377')},\n   'velocity': {0: 0.0, 1: 1.0, 2: 2.0, 3: 3.0}}})"
     },
     "execution_count": 53,
     "metadata": {},
     "output_type": "execute_result"
    },
    {
     "data": {
      "text/plain": "5"
     },
     "execution_count": 53,
     "metadata": {},
     "output_type": "execute_result"
    }
   ],
   "source": [
    "single_key_dict = [(idx['timestamp'], dict_nested[key]) for idx, key in zip(indices_dict, dict_nested)]\n",
    "single_key_dict[3]\n",
    "len(single_key_dict)\n"
   ],
   "metadata": {
    "collapsed": false,
    "ExecuteTime": {
     "end_time": "2023-08-04T03:23:01.826582249Z",
     "start_time": "2023-08-04T03:22:49.726578294Z"
    }
   }
  },
  {
   "cell_type": "markdown",
   "source": [
    "### Decode episode into one document of mongo episode type (nested dictionaries)\n"
   ],
   "metadata": {
    "collapsed": false
   }
  },
  {
   "cell_type": "code",
   "execution_count": 54,
   "outputs": [
    {
     "data": {
      "text/plain": "Timestamp('2023-08-04 12:22:49.017377')"
     },
     "execution_count": 54,
     "metadata": {},
     "output_type": "execute_result"
    },
    {
     "name": "stdout",
     "output_type": "stream",
     "text": [
      "{'vehicle': 'VB7', 'driver': 'wang-cheng', 'episodestart': Timestamp('2023-08-04 11:22:49.017377'), 'seq_len': 5}\n"
     ]
    },
    {
     "data": {
      "text/plain": "{'state_specs': {'state_unit_codes': {'velocity_unit_code': 'kph',\n   'thrust_unit_code': 'pct',\n   'brake_unit_code': 'pct'},\n  'state_number': 3,\n  'unit_number_per_state': 200,\n  'unit_duration': 4,\n  'frequency': 50,\n  'cloud_interface': {'cloud_signal_frequency': 50,\n   'cloud_gear_frequency': 2,\n   'cloud_unit_duration': 1,\n   'cloud_unit_number': 4}},\n 'action_specs': {'action_unit_code': 'nm',\n  'action_row_number': 4,\n  'action_column_number': 17},\n 'reward_specs': {'reward_unit_code': 'wh', 'reward_number': 1},\n 'site': 'anting',\n 'vehicle': 'VB7',\n 'driver': 'wang-cheng',\n 'episodestart': Timestamp('2023-08-04 11:22:49.017377'),\n 'seq_len': 5}"
     },
     "execution_count": 54,
     "metadata": {},
     "output_type": "execute_result"
    }
   ],
   "source": [
    "from dataclasses import asdict\n",
    "episode_meta = indices_dict[0].copy()\n",
    "try:\n",
    "    episode_meta.pop('timestamp')\n",
    "except KeyError:\n",
    "    print(f\"Key 'timestamp' not found\")\n",
    "\n",
    "episode_meta['seq_len'] = len(single_key_dict)\n",
    "print(episode_meta)\n",
    "meta = {**(observation_meta.model_dump()), **episode_meta}\n",
    "meta\n",
    "\n",
    "\n"
   ],
   "metadata": {
    "collapsed": false,
    "ExecuteTime": {
     "end_time": "2023-08-04T03:23:01.827019691Z",
     "start_time": "2023-08-04T03:22:49.732209003Z"
    }
   }
  },
  {
   "cell_type": "code",
   "execution_count": 55,
   "outputs": [],
   "source": [
    "single_key_dict = {idx['timestamp']: dict_nested[key] for idx, key in zip(indices_dict, dict_nested)}"
   ],
   "metadata": {
    "collapsed": false,
    "ExecuteTime": {
     "end_time": "2023-08-04T03:23:01.827173340Z",
     "start_time": "2023-08-04T03:22:49.739307441Z"
    }
   }
  },
  {
   "cell_type": "code",
   "execution_count": 56,
   "outputs": [
    {
     "data": {
      "text/plain": "{'timestamp': Timestamp('2023-08-04 11:22:49.017377'),\n 'meta': {'state_specs': {'state_unit_codes': {'velocity_unit_code': 'kph',\n    'thrust_unit_code': 'pct',\n    'brake_unit_code': 'pct'},\n   'state_number': 3,\n   'unit_number_per_state': 200,\n   'unit_duration': 4,\n   'frequency': 50,\n   'cloud_interface': {'cloud_signal_frequency': 50,\n    'cloud_gear_frequency': 2,\n    'cloud_unit_duration': 1,\n    'cloud_unit_number': 4}},\n  'action_specs': {'action_unit_code': 'nm',\n   'action_row_number': 4,\n   'action_column_number': 17},\n  'reward_specs': {'reward_unit_code': 'wh', 'reward_number': 1},\n  'site': 'anting',\n  'vehicle': 'VB7',\n  'driver': 'wang-cheng',\n  'episodestart': Timestamp('2023-08-04 11:22:49.017377'),\n  'seq_len': 5},\n 'observation': {Timestamp('2023-08-04 12:22:49.017377'): {'action': {'r0': {0: 12.0,\n     1: 13.0,\n     2: 14.0,\n     3: 15.0,\n     4: 16.0},\n    'r1': {0: 17.0, 1: 18.0, 2: 19.0, 3: 20.0, 4: 21.0},\n    'r2': {0: 22.0, 1: 23.0, 2: 24.0, 3: 25.0, 4: 26.0},\n    'speed': {0: 40.0, 1: 50.0, 2: 60.0},\n    'throttle': {0: 0.0, 1: 0.25, 2: 0.5, 3: 0.75, 4: 1.0},\n    'timestep': {0: Timestamp('2023-08-04 11:22:49.117377'),\n     1: Timestamp('2023-08-04 11:22:49.137377'),\n     2: Timestamp('2023-08-04 11:22:49.157377')}},\n   'nstate': {'brake': {0: 37.0, 1: 38.0, 2: 39.0, 3: 40.0},\n    'thrust': {0: 33.0, 1: 34.0, 2: 35.0, 3: 36.0},\n    'timestep': {0: Timestamp('2023-08-04 11:22:54.017377'),\n     1: Timestamp('2023-08-04 11:22:54.037377'),\n     2: Timestamp('2023-08-04 11:22:54.057377'),\n     3: Timestamp('2023-08-04 11:22:54.077377')},\n    'velocity': {0: 29.0, 1: 30.0, 2: 31.0, 3: 32.0}},\n   'reward': {'timestep': {0: Timestamp('2023-08-04 11:22:49.117377')},\n    'work': {0: 27.0}},\n   'state': {'brake': {0: 8.0, 1: 9.0, 2: 10.0, 3: 11.0},\n    'thrust': {0: 4.0, 1: 5.0, 2: 6.0, 3: 7.0},\n    'timestep': {0: Timestamp('2023-08-04 11:22:49.017377'),\n     1: Timestamp('2023-08-04 11:22:49.037377'),\n     2: Timestamp('2023-08-04 11:22:49.057377'),\n     3: Timestamp('2023-08-04 11:22:49.077377')},\n    'velocity': {0: 0.0, 1: 1.0, 2: 2.0, 3: 3.0}}},\n  Timestamp('2023-08-04 13:22:49.017377'): {'action': {'r0': {0: 12.0,\n     1: 13.0,\n     2: 14.0,\n     3: 15.0,\n     4: 16.0},\n    'r1': {0: 17.0, 1: 18.0, 2: 19.0, 3: 20.0, 4: 21.0},\n    'r2': {0: 22.0, 1: 23.0, 2: 24.0, 3: 25.0, 4: 26.0},\n    'speed': {0: 40.0, 1: 50.0, 2: 60.0},\n    'throttle': {0: 0.0, 1: 0.25, 2: 0.5, 3: 0.75, 4: 1.0},\n    'timestep': {0: Timestamp('2023-08-04 11:22:49.117377'),\n     1: Timestamp('2023-08-04 11:22:49.137377'),\n     2: Timestamp('2023-08-04 11:22:49.157377')}},\n   'nstate': {'brake': {0: 37.0, 1: 38.0, 2: 39.0, 3: 40.0},\n    'thrust': {0: 33.0, 1: 34.0, 2: 35.0, 3: 36.0},\n    'timestep': {0: Timestamp('2023-08-04 11:22:54.017377'),\n     1: Timestamp('2023-08-04 11:22:54.037377'),\n     2: Timestamp('2023-08-04 11:22:54.057377'),\n     3: Timestamp('2023-08-04 11:22:54.077377')},\n    'velocity': {0: 29.0, 1: 30.0, 2: 31.0, 3: 32.0}},\n   'reward': {'timestep': {0: Timestamp('2023-08-04 11:22:49.117377')},\n    'work': {0: 27.0}},\n   'state': {'brake': {0: 8.0, 1: 9.0, 2: 10.0, 3: 11.0},\n    'thrust': {0: 4.0, 1: 5.0, 2: 6.0, 3: 7.0},\n    'timestep': {0: Timestamp('2023-08-04 11:22:49.017377'),\n     1: Timestamp('2023-08-04 11:22:49.037377'),\n     2: Timestamp('2023-08-04 11:22:49.057377'),\n     3: Timestamp('2023-08-04 11:22:49.077377')},\n    'velocity': {0: 0.0, 1: 1.0, 2: 2.0, 3: 3.0}}},\n  Timestamp('2023-08-04 14:22:49.017377'): {'action': {'r0': {0: 12.0,\n     1: 13.0,\n     2: 14.0,\n     3: 15.0,\n     4: 16.0},\n    'r1': {0: 17.0, 1: 18.0, 2: 19.0, 3: 20.0, 4: 21.0},\n    'r2': {0: 22.0, 1: 23.0, 2: 24.0, 3: 25.0, 4: 26.0},\n    'speed': {0: 40.0, 1: 50.0, 2: 60.0},\n    'throttle': {0: 0.0, 1: 0.25, 2: 0.5, 3: 0.75, 4: 1.0},\n    'timestep': {0: Timestamp('2023-08-04 11:22:49.117377'),\n     1: Timestamp('2023-08-04 11:22:49.137377'),\n     2: Timestamp('2023-08-04 11:22:49.157377')}},\n   'nstate': {'brake': {0: 37.0, 1: 38.0, 2: 39.0, 3: 40.0},\n    'thrust': {0: 33.0, 1: 34.0, 2: 35.0, 3: 36.0},\n    'timestep': {0: Timestamp('2023-08-04 11:22:54.017377'),\n     1: Timestamp('2023-08-04 11:22:54.037377'),\n     2: Timestamp('2023-08-04 11:22:54.057377'),\n     3: Timestamp('2023-08-04 11:22:54.077377')},\n    'velocity': {0: 29.0, 1: 30.0, 2: 31.0, 3: 32.0}},\n   'reward': {'timestep': {0: Timestamp('2023-08-04 11:22:49.117377')},\n    'work': {0: 27.0}},\n   'state': {'brake': {0: 8.0, 1: 9.0, 2: 10.0, 3: 11.0},\n    'thrust': {0: 4.0, 1: 5.0, 2: 6.0, 3: 7.0},\n    'timestep': {0: Timestamp('2023-08-04 11:22:49.017377'),\n     1: Timestamp('2023-08-04 11:22:49.037377'),\n     2: Timestamp('2023-08-04 11:22:49.057377'),\n     3: Timestamp('2023-08-04 11:22:49.077377')},\n    'velocity': {0: 0.0, 1: 1.0, 2: 2.0, 3: 3.0}}},\n  Timestamp('2023-08-04 15:22:49.017377'): {'action': {'r0': {0: 12.0,\n     1: 13.0,\n     2: 14.0,\n     3: 15.0,\n     4: 16.0},\n    'r1': {0: 17.0, 1: 18.0, 2: 19.0, 3: 20.0, 4: 21.0},\n    'r2': {0: 22.0, 1: 23.0, 2: 24.0, 3: 25.0, 4: 26.0},\n    'speed': {0: 40.0, 1: 50.0, 2: 60.0},\n    'throttle': {0: 0.0, 1: 0.25, 2: 0.5, 3: 0.75, 4: 1.0},\n    'timestep': {0: Timestamp('2023-08-04 11:22:49.117377'),\n     1: Timestamp('2023-08-04 11:22:49.137377'),\n     2: Timestamp('2023-08-04 11:22:49.157377')}},\n   'nstate': {'brake': {0: 37.0, 1: 38.0, 2: 39.0, 3: 40.0},\n    'thrust': {0: 33.0, 1: 34.0, 2: 35.0, 3: 36.0},\n    'timestep': {0: Timestamp('2023-08-04 11:22:54.017377'),\n     1: Timestamp('2023-08-04 11:22:54.037377'),\n     2: Timestamp('2023-08-04 11:22:54.057377'),\n     3: Timestamp('2023-08-04 11:22:54.077377')},\n    'velocity': {0: 29.0, 1: 30.0, 2: 31.0, 3: 32.0}},\n   'reward': {'timestep': {0: Timestamp('2023-08-04 11:22:49.117377')},\n    'work': {0: 27.0}},\n   'state': {'brake': {0: 8.0, 1: 9.0, 2: 10.0, 3: 11.0},\n    'thrust': {0: 4.0, 1: 5.0, 2: 6.0, 3: 7.0},\n    'timestep': {0: Timestamp('2023-08-04 11:22:49.017377'),\n     1: Timestamp('2023-08-04 11:22:49.037377'),\n     2: Timestamp('2023-08-04 11:22:49.057377'),\n     3: Timestamp('2023-08-04 11:22:49.077377')},\n    'velocity': {0: 0.0, 1: 1.0, 2: 2.0, 3: 3.0}}},\n  Timestamp('2023-08-04 16:22:49.017377'): {'action': {'r0': {0: 12.0,\n     1: 13.0,\n     2: 14.0,\n     3: 15.0,\n     4: 16.0},\n    'r1': {0: 17.0, 1: 18.0, 2: 19.0, 3: 20.0, 4: 21.0},\n    'r2': {0: 22.0, 1: 23.0, 2: 24.0, 3: 25.0, 4: 26.0},\n    'speed': {0: 40.0, 1: 50.0, 2: 60.0},\n    'throttle': {0: 0.0, 1: 0.25, 2: 0.5, 3: 0.75, 4: 1.0},\n    'timestep': {0: Timestamp('2023-08-04 11:22:49.117377'),\n     1: Timestamp('2023-08-04 11:22:49.137377'),\n     2: Timestamp('2023-08-04 11:22:49.157377')}},\n   'nstate': {'brake': {0: 37.0, 1: 38.0, 2: 39.0, 3: 40.0},\n    'thrust': {0: 33.0, 1: 34.0, 2: 35.0, 3: 36.0},\n    'timestep': {0: Timestamp('2023-08-04 11:22:54.017377'),\n     1: Timestamp('2023-08-04 11:22:54.037377'),\n     2: Timestamp('2023-08-04 11:22:54.057377'),\n     3: Timestamp('2023-08-04 11:22:54.077377')},\n    'velocity': {0: 29.0, 1: 30.0, 2: 31.0, 3: 32.0}},\n   'reward': {'timestep': {0: Timestamp('2023-08-04 11:22:49.117377')},\n    'work': {0: 27.0}},\n   'state': {'brake': {0: 8.0, 1: 9.0, 2: 10.0, 3: 11.0},\n    'thrust': {0: 4.0, 1: 5.0, 2: 6.0, 3: 7.0},\n    'timestep': {0: Timestamp('2023-08-04 11:22:49.017377'),\n     1: Timestamp('2023-08-04 11:22:49.037377'),\n     2: Timestamp('2023-08-04 11:22:49.057377'),\n     3: Timestamp('2023-08-04 11:22:49.077377')},\n    'velocity': {0: 0.0, 1: 1.0, 2: 2.0, 3: 3.0}}}}}"
     },
     "execution_count": 56,
     "metadata": {},
     "output_type": "execute_result"
    }
   ],
   "source": [
    "from eos.data_io.struct import DataFrameDoc\n",
    "\n",
    "doc = DataFrameDoc(\n",
    "    timestamp=meta['episodestart'],\n",
    "    meta=meta,\n",
    "    observation=single_key_dict,\n",
    ")\n",
    "doc"
   ],
   "metadata": {
    "collapsed": false,
    "ExecuteTime": {
     "end_time": "2023-08-04T03:23:01.827719726Z",
     "start_time": "2023-08-04T03:22:49.742993365Z"
    }
   }
  },
  {
   "cell_type": "code",
   "execution_count": 57,
   "outputs": [
    {
     "data": {
      "text/plain": "{'vehicle': 'VB7',\n 'driver': 'wang-cheng',\n 'episodestart': Timestamp('2023-08-04 11:22:49.017377'),\n 'timestamp': Timestamp('2023-08-04 12:22:49.017377')}"
     },
     "execution_count": 57,
     "metadata": {},
     "output_type": "execute_result"
    }
   ],
   "source": [
    "indices_dict[0]"
   ],
   "metadata": {
    "collapsed": false,
    "ExecuteTime": {
     "end_time": "2023-08-04T03:23:01.827985115Z",
     "start_time": "2023-08-04T03:22:49.759396905Z"
    }
   }
  },
  {
   "cell_type": "code",
   "execution_count": 58,
   "metadata": {
    "ExecuteTime": {
     "end_time": "2023-08-04T03:23:01.828115740Z",
     "start_time": "2023-08-04T03:22:49.764688848Z"
    }
   },
   "outputs": [],
   "source": [
    "# from dataclasses import asdict\n",
    "#\n",
    "# rows_multi = [\n",
    "#     {\n",
    "#         'timestamp': idx['timestamp'],\n",
    "#         'meta': {**idx, **(asdict(meta))},\n",
    "#         'observation': {key: value for key, value in record.items()},\n",
    "#     }\n",
    "#     for (idx, record) in zip(indices_dict, records)\n",
    "# ]\n",
    "# rows_multi\n"
   ]
  },
  {
   "cell_type": "markdown",
   "source": [
    "### Encode the records of an episode into rows of nested dictionaries"
   ],
   "metadata": {
    "collapsed": false
   }
  },
  {
   "cell_type": "code",
   "execution_count": 59,
   "metadata": {
    "ExecuteTime": {
     "end_time": "2023-08-04T03:23:01.828645746Z",
     "start_time": "2023-08-04T03:22:49.808794165Z"
    }
   },
   "outputs": [
    {
     "data": {
      "text/plain": "[{'timestamp': Timestamp('2023-08-04 12:22:49.017377'),\n  'meta': {'vehicle': 'VB7',\n   'driver': 'wang-cheng',\n   'episodestart': Timestamp('2023-08-04 11:22:49.017377'),\n   'timestamp': Timestamp('2023-08-04 12:22:49.017377'),\n   'state_specs': {'state_unit_codes': {'velocity_unit_code': 'kph',\n     'thrust_unit_code': 'pct',\n     'brake_unit_code': 'pct'},\n    'state_number': 3,\n    'unit_number_per_state': 200,\n    'unit_duration': 4,\n    'frequency': 50,\n    'cloud_interface': {'cloud_signal_frequency': 50,\n     'cloud_gear_frequency': 2,\n     'cloud_unit_duration': 1,\n     'cloud_unit_number': 4}},\n   'action_specs': {'action_unit_code': 'nm',\n    'action_row_number': 4,\n    'action_column_number': 17},\n   'reward_specs': {'reward_unit_code': 'wh', 'reward_number': 1},\n   'site': 'anting'},\n  'observation': {'action': {'r0': {0: 12.0,\n     1: 13.0,\n     2: 14.0,\n     3: 15.0,\n     4: 16.0},\n    'r1': {0: 17.0, 1: 18.0, 2: 19.0, 3: 20.0, 4: 21.0},\n    'r2': {0: 22.0, 1: 23.0, 2: 24.0, 3: 25.0, 4: 26.0},\n    'speed': {0: 40.0, 1: 50.0, 2: 60.0},\n    'throttle': {0: 0.0, 1: 0.25, 2: 0.5, 3: 0.75, 4: 1.0},\n    'timestep': {0: Timestamp('2023-08-04 11:22:49.117377'),\n     1: Timestamp('2023-08-04 11:22:49.137377'),\n     2: Timestamp('2023-08-04 11:22:49.157377')}},\n   'nstate': {'brake': {0: 37.0, 1: 38.0, 2: 39.0, 3: 40.0},\n    'thrust': {0: 33.0, 1: 34.0, 2: 35.0, 3: 36.0},\n    'timestep': {0: Timestamp('2023-08-04 11:22:54.017377'),\n     1: Timestamp('2023-08-04 11:22:54.037377'),\n     2: Timestamp('2023-08-04 11:22:54.057377'),\n     3: Timestamp('2023-08-04 11:22:54.077377')},\n    'velocity': {0: 29.0, 1: 30.0, 2: 31.0, 3: 32.0}},\n   'reward': {'timestep': {0: Timestamp('2023-08-04 11:22:49.117377')},\n    'work': {0: 27.0}},\n   'state': {'brake': {0: 8.0, 1: 9.0, 2: 10.0, 3: 11.0},\n    'thrust': {0: 4.0, 1: 5.0, 2: 6.0, 3: 7.0},\n    'timestep': {0: Timestamp('2023-08-04 11:22:49.017377'),\n     1: Timestamp('2023-08-04 11:22:49.037377'),\n     2: Timestamp('2023-08-04 11:22:49.057377'),\n     3: Timestamp('2023-08-04 11:22:49.077377')},\n    'velocity': {0: 0.0, 1: 1.0, 2: 2.0, 3: 3.0}}}},\n {'timestamp': Timestamp('2023-08-04 13:22:49.017377'),\n  'meta': {'vehicle': 'VB7',\n   'driver': 'wang-cheng',\n   'episodestart': Timestamp('2023-08-04 11:22:49.017377'),\n   'timestamp': Timestamp('2023-08-04 13:22:49.017377'),\n   'state_specs': {'state_unit_codes': {'velocity_unit_code': 'kph',\n     'thrust_unit_code': 'pct',\n     'brake_unit_code': 'pct'},\n    'state_number': 3,\n    'unit_number_per_state': 200,\n    'unit_duration': 4,\n    'frequency': 50,\n    'cloud_interface': {'cloud_signal_frequency': 50,\n     'cloud_gear_frequency': 2,\n     'cloud_unit_duration': 1,\n     'cloud_unit_number': 4}},\n   'action_specs': {'action_unit_code': 'nm',\n    'action_row_number': 4,\n    'action_column_number': 17},\n   'reward_specs': {'reward_unit_code': 'wh', 'reward_number': 1},\n   'site': 'anting'},\n  'observation': {'action': {'r0': {0: 12.0,\n     1: 13.0,\n     2: 14.0,\n     3: 15.0,\n     4: 16.0},\n    'r1': {0: 17.0, 1: 18.0, 2: 19.0, 3: 20.0, 4: 21.0},\n    'r2': {0: 22.0, 1: 23.0, 2: 24.0, 3: 25.0, 4: 26.0},\n    'speed': {0: 40.0, 1: 50.0, 2: 60.0},\n    'throttle': {0: 0.0, 1: 0.25, 2: 0.5, 3: 0.75, 4: 1.0},\n    'timestep': {0: Timestamp('2023-08-04 11:22:49.117377'),\n     1: Timestamp('2023-08-04 11:22:49.137377'),\n     2: Timestamp('2023-08-04 11:22:49.157377')}},\n   'nstate': {'brake': {0: 37.0, 1: 38.0, 2: 39.0, 3: 40.0},\n    'thrust': {0: 33.0, 1: 34.0, 2: 35.0, 3: 36.0},\n    'timestep': {0: Timestamp('2023-08-04 11:22:54.017377'),\n     1: Timestamp('2023-08-04 11:22:54.037377'),\n     2: Timestamp('2023-08-04 11:22:54.057377'),\n     3: Timestamp('2023-08-04 11:22:54.077377')},\n    'velocity': {0: 29.0, 1: 30.0, 2: 31.0, 3: 32.0}},\n   'reward': {'timestep': {0: Timestamp('2023-08-04 11:22:49.117377')},\n    'work': {0: 27.0}},\n   'state': {'brake': {0: 8.0, 1: 9.0, 2: 10.0, 3: 11.0},\n    'thrust': {0: 4.0, 1: 5.0, 2: 6.0, 3: 7.0},\n    'timestep': {0: Timestamp('2023-08-04 11:22:49.017377'),\n     1: Timestamp('2023-08-04 11:22:49.037377'),\n     2: Timestamp('2023-08-04 11:22:49.057377'),\n     3: Timestamp('2023-08-04 11:22:49.077377')},\n    'velocity': {0: 0.0, 1: 1.0, 2: 2.0, 3: 3.0}}}},\n {'timestamp': Timestamp('2023-08-04 14:22:49.017377'),\n  'meta': {'vehicle': 'VB7',\n   'driver': 'wang-cheng',\n   'episodestart': Timestamp('2023-08-04 11:22:49.017377'),\n   'timestamp': Timestamp('2023-08-04 14:22:49.017377'),\n   'state_specs': {'state_unit_codes': {'velocity_unit_code': 'kph',\n     'thrust_unit_code': 'pct',\n     'brake_unit_code': 'pct'},\n    'state_number': 3,\n    'unit_number_per_state': 200,\n    'unit_duration': 4,\n    'frequency': 50,\n    'cloud_interface': {'cloud_signal_frequency': 50,\n     'cloud_gear_frequency': 2,\n     'cloud_unit_duration': 1,\n     'cloud_unit_number': 4}},\n   'action_specs': {'action_unit_code': 'nm',\n    'action_row_number': 4,\n    'action_column_number': 17},\n   'reward_specs': {'reward_unit_code': 'wh', 'reward_number': 1},\n   'site': 'anting'},\n  'observation': {'action': {'r0': {0: 12.0,\n     1: 13.0,\n     2: 14.0,\n     3: 15.0,\n     4: 16.0},\n    'r1': {0: 17.0, 1: 18.0, 2: 19.0, 3: 20.0, 4: 21.0},\n    'r2': {0: 22.0, 1: 23.0, 2: 24.0, 3: 25.0, 4: 26.0},\n    'speed': {0: 40.0, 1: 50.0, 2: 60.0},\n    'throttle': {0: 0.0, 1: 0.25, 2: 0.5, 3: 0.75, 4: 1.0},\n    'timestep': {0: Timestamp('2023-08-04 11:22:49.117377'),\n     1: Timestamp('2023-08-04 11:22:49.137377'),\n     2: Timestamp('2023-08-04 11:22:49.157377')}},\n   'nstate': {'brake': {0: 37.0, 1: 38.0, 2: 39.0, 3: 40.0},\n    'thrust': {0: 33.0, 1: 34.0, 2: 35.0, 3: 36.0},\n    'timestep': {0: Timestamp('2023-08-04 11:22:54.017377'),\n     1: Timestamp('2023-08-04 11:22:54.037377'),\n     2: Timestamp('2023-08-04 11:22:54.057377'),\n     3: Timestamp('2023-08-04 11:22:54.077377')},\n    'velocity': {0: 29.0, 1: 30.0, 2: 31.0, 3: 32.0}},\n   'reward': {'timestep': {0: Timestamp('2023-08-04 11:22:49.117377')},\n    'work': {0: 27.0}},\n   'state': {'brake': {0: 8.0, 1: 9.0, 2: 10.0, 3: 11.0},\n    'thrust': {0: 4.0, 1: 5.0, 2: 6.0, 3: 7.0},\n    'timestep': {0: Timestamp('2023-08-04 11:22:49.017377'),\n     1: Timestamp('2023-08-04 11:22:49.037377'),\n     2: Timestamp('2023-08-04 11:22:49.057377'),\n     3: Timestamp('2023-08-04 11:22:49.077377')},\n    'velocity': {0: 0.0, 1: 1.0, 2: 2.0, 3: 3.0}}}},\n {'timestamp': Timestamp('2023-08-04 15:22:49.017377'),\n  'meta': {'vehicle': 'VB7',\n   'driver': 'wang-cheng',\n   'episodestart': Timestamp('2023-08-04 11:22:49.017377'),\n   'timestamp': Timestamp('2023-08-04 15:22:49.017377'),\n   'state_specs': {'state_unit_codes': {'velocity_unit_code': 'kph',\n     'thrust_unit_code': 'pct',\n     'brake_unit_code': 'pct'},\n    'state_number': 3,\n    'unit_number_per_state': 200,\n    'unit_duration': 4,\n    'frequency': 50,\n    'cloud_interface': {'cloud_signal_frequency': 50,\n     'cloud_gear_frequency': 2,\n     'cloud_unit_duration': 1,\n     'cloud_unit_number': 4}},\n   'action_specs': {'action_unit_code': 'nm',\n    'action_row_number': 4,\n    'action_column_number': 17},\n   'reward_specs': {'reward_unit_code': 'wh', 'reward_number': 1},\n   'site': 'anting'},\n  'observation': {'action': {'r0': {0: 12.0,\n     1: 13.0,\n     2: 14.0,\n     3: 15.0,\n     4: 16.0},\n    'r1': {0: 17.0, 1: 18.0, 2: 19.0, 3: 20.0, 4: 21.0},\n    'r2': {0: 22.0, 1: 23.0, 2: 24.0, 3: 25.0, 4: 26.0},\n    'speed': {0: 40.0, 1: 50.0, 2: 60.0},\n    'throttle': {0: 0.0, 1: 0.25, 2: 0.5, 3: 0.75, 4: 1.0},\n    'timestep': {0: Timestamp('2023-08-04 11:22:49.117377'),\n     1: Timestamp('2023-08-04 11:22:49.137377'),\n     2: Timestamp('2023-08-04 11:22:49.157377')}},\n   'nstate': {'brake': {0: 37.0, 1: 38.0, 2: 39.0, 3: 40.0},\n    'thrust': {0: 33.0, 1: 34.0, 2: 35.0, 3: 36.0},\n    'timestep': {0: Timestamp('2023-08-04 11:22:54.017377'),\n     1: Timestamp('2023-08-04 11:22:54.037377'),\n     2: Timestamp('2023-08-04 11:22:54.057377'),\n     3: Timestamp('2023-08-04 11:22:54.077377')},\n    'velocity': {0: 29.0, 1: 30.0, 2: 31.0, 3: 32.0}},\n   'reward': {'timestep': {0: Timestamp('2023-08-04 11:22:49.117377')},\n    'work': {0: 27.0}},\n   'state': {'brake': {0: 8.0, 1: 9.0, 2: 10.0, 3: 11.0},\n    'thrust': {0: 4.0, 1: 5.0, 2: 6.0, 3: 7.0},\n    'timestep': {0: Timestamp('2023-08-04 11:22:49.017377'),\n     1: Timestamp('2023-08-04 11:22:49.037377'),\n     2: Timestamp('2023-08-04 11:22:49.057377'),\n     3: Timestamp('2023-08-04 11:22:49.077377')},\n    'velocity': {0: 0.0, 1: 1.0, 2: 2.0, 3: 3.0}}}},\n {'timestamp': Timestamp('2023-08-04 16:22:49.017377'),\n  'meta': {'vehicle': 'VB7',\n   'driver': 'wang-cheng',\n   'episodestart': Timestamp('2023-08-04 11:22:49.017377'),\n   'timestamp': Timestamp('2023-08-04 16:22:49.017377'),\n   'state_specs': {'state_unit_codes': {'velocity_unit_code': 'kph',\n     'thrust_unit_code': 'pct',\n     'brake_unit_code': 'pct'},\n    'state_number': 3,\n    'unit_number_per_state': 200,\n    'unit_duration': 4,\n    'frequency': 50,\n    'cloud_interface': {'cloud_signal_frequency': 50,\n     'cloud_gear_frequency': 2,\n     'cloud_unit_duration': 1,\n     'cloud_unit_number': 4}},\n   'action_specs': {'action_unit_code': 'nm',\n    'action_row_number': 4,\n    'action_column_number': 17},\n   'reward_specs': {'reward_unit_code': 'wh', 'reward_number': 1},\n   'site': 'anting'},\n  'observation': {'action': {'r0': {0: 12.0,\n     1: 13.0,\n     2: 14.0,\n     3: 15.0,\n     4: 16.0},\n    'r1': {0: 17.0, 1: 18.0, 2: 19.0, 3: 20.0, 4: 21.0},\n    'r2': {0: 22.0, 1: 23.0, 2: 24.0, 3: 25.0, 4: 26.0},\n    'speed': {0: 40.0, 1: 50.0, 2: 60.0},\n    'throttle': {0: 0.0, 1: 0.25, 2: 0.5, 3: 0.75, 4: 1.0},\n    'timestep': {0: Timestamp('2023-08-04 11:22:49.117377'),\n     1: Timestamp('2023-08-04 11:22:49.137377'),\n     2: Timestamp('2023-08-04 11:22:49.157377')}},\n   'nstate': {'brake': {0: 37.0, 1: 38.0, 2: 39.0, 3: 40.0},\n    'thrust': {0: 33.0, 1: 34.0, 2: 35.0, 3: 36.0},\n    'timestep': {0: Timestamp('2023-08-04 11:22:54.017377'),\n     1: Timestamp('2023-08-04 11:22:54.037377'),\n     2: Timestamp('2023-08-04 11:22:54.057377'),\n     3: Timestamp('2023-08-04 11:22:54.077377')},\n    'velocity': {0: 29.0, 1: 30.0, 2: 31.0, 3: 32.0}},\n   'reward': {'timestep': {0: Timestamp('2023-08-04 11:22:49.117377')},\n    'work': {0: 27.0}},\n   'state': {'brake': {0: 8.0, 1: 9.0, 2: 10.0, 3: 11.0},\n    'thrust': {0: 4.0, 1: 5.0, 2: 6.0, 3: 7.0},\n    'timestep': {0: Timestamp('2023-08-04 11:22:49.017377'),\n     1: Timestamp('2023-08-04 11:22:49.037377'),\n     2: Timestamp('2023-08-04 11:22:49.057377'),\n     3: Timestamp('2023-08-04 11:22:49.077377')},\n    'velocity': {0: 0.0, 1: 1.0, 2: 2.0, 3: 3.0}}}}]"
     },
     "execution_count": 59,
     "metadata": {},
     "output_type": "execute_result"
    },
    {
     "data": {
      "text/plain": "5"
     },
     "execution_count": 59,
     "metadata": {},
     "output_type": "execute_result"
    }
   ],
   "source": [
    "from dataclasses import asdict\n",
    "\n",
    "rows = [\n",
    "    {\n",
    "        'timestamp': idx['timestamp'],\n",
    "        'meta': {**idx, **(observation_meta.model_dump())},\n",
    "        'observation': dict_nested[key],\n",
    "    }\n",
    "    for (idx, key) in zip(indices_dict, dict_nested)\n",
    "]\n",
    "rows\n",
    "len(rows)"
   ]
  },
  {
   "cell_type": "markdown",
   "metadata": {},
   "source": [
    "## Decoding MongoDB dict to MultiIndexed DataFrame"
   ]
  },
  {
   "cell_type": "code",
   "execution_count": 60,
   "metadata": {
    "ExecuteTime": {
     "end_time": "2023-08-04T03:23:01.829105520Z",
     "start_time": "2023-08-04T03:22:49.809035348Z"
    }
   },
   "outputs": [
    {
     "data": {
      "text/plain": "                   timestamp  \\\n0 2023-08-04 12:22:49.017377   \n1 2023-08-04 13:22:49.017377   \n2 2023-08-04 14:22:49.017377   \n3 2023-08-04 15:22:49.017377   \n4 2023-08-04 16:22:49.017377   \n\n                                                meta  \\\n0  {'vehicle': 'VB7', 'driver': 'wang-cheng', 'ep...   \n1  {'vehicle': 'VB7', 'driver': 'wang-cheng', 'ep...   \n2  {'vehicle': 'VB7', 'driver': 'wang-cheng', 'ep...   \n3  {'vehicle': 'VB7', 'driver': 'wang-cheng', 'ep...   \n4  {'vehicle': 'VB7', 'driver': 'wang-cheng', 'ep...   \n\n                                         observation  \n0  {'action': {'r0': {0: 12.0, 1: 13.0, 2: 14.0, ...  \n1  {'action': {'r0': {0: 12.0, 1: 13.0, 2: 14.0, ...  \n2  {'action': {'r0': {0: 12.0, 1: 13.0, 2: 14.0, ...  \n3  {'action': {'r0': {0: 12.0, 1: 13.0, 2: 14.0, ...  \n4  {'action': {'r0': {0: 12.0, 1: 13.0, 2: 14.0, ...  ",
      "text/html": "<div>\n<style scoped>\n    .dataframe tbody tr th:only-of-type {\n        vertical-align: middle;\n    }\n\n    .dataframe tbody tr th {\n        vertical-align: top;\n    }\n\n    .dataframe thead th {\n        text-align: right;\n    }\n</style>\n<table border=\"1\" class=\"dataframe\">\n  <thead>\n    <tr style=\"text-align: right;\">\n      <th></th>\n      <th>timestamp</th>\n      <th>meta</th>\n      <th>observation</th>\n    </tr>\n  </thead>\n  <tbody>\n    <tr>\n      <th>0</th>\n      <td>2023-08-04 12:22:49.017377</td>\n      <td>{'vehicle': 'VB7', 'driver': 'wang-cheng', 'ep...</td>\n      <td>{'action': {'r0': {0: 12.0, 1: 13.0, 2: 14.0, ...</td>\n    </tr>\n    <tr>\n      <th>1</th>\n      <td>2023-08-04 13:22:49.017377</td>\n      <td>{'vehicle': 'VB7', 'driver': 'wang-cheng', 'ep...</td>\n      <td>{'action': {'r0': {0: 12.0, 1: 13.0, 2: 14.0, ...</td>\n    </tr>\n    <tr>\n      <th>2</th>\n      <td>2023-08-04 14:22:49.017377</td>\n      <td>{'vehicle': 'VB7', 'driver': 'wang-cheng', 'ep...</td>\n      <td>{'action': {'r0': {0: 12.0, 1: 13.0, 2: 14.0, ...</td>\n    </tr>\n    <tr>\n      <th>3</th>\n      <td>2023-08-04 15:22:49.017377</td>\n      <td>{'vehicle': 'VB7', 'driver': 'wang-cheng', 'ep...</td>\n      <td>{'action': {'r0': {0: 12.0, 1: 13.0, 2: 14.0, ...</td>\n    </tr>\n    <tr>\n      <th>4</th>\n      <td>2023-08-04 16:22:49.017377</td>\n      <td>{'vehicle': 'VB7', 'driver': 'wang-cheng', 'ep...</td>\n      <td>{'action': {'r0': {0: 12.0, 1: 13.0, 2: 14.0, ...</td>\n    </tr>\n  </tbody>\n</table>\n</div>"
     },
     "execution_count": 60,
     "metadata": {},
     "output_type": "execute_result"
    },
    {
     "data": {
      "text/plain": "{'action': {'r0': {0: 12.0, 1: 13.0, 2: 14.0, 3: 15.0, 4: 16.0},\n  'r1': {0: 17.0, 1: 18.0, 2: 19.0, 3: 20.0, 4: 21.0},\n  'r2': {0: 22.0, 1: 23.0, 2: 24.0, 3: 25.0, 4: 26.0},\n  'speed': {0: 40.0, 1: 50.0, 2: 60.0},\n  'throttle': {0: 0.0, 1: 0.25, 2: 0.5, 3: 0.75, 4: 1.0},\n  'timestep': {0: Timestamp('2023-08-04 11:22:49.117377'),\n   1: Timestamp('2023-08-04 11:22:49.137377'),\n   2: Timestamp('2023-08-04 11:22:49.157377')}},\n 'nstate': {'brake': {0: 37.0, 1: 38.0, 2: 39.0, 3: 40.0},\n  'thrust': {0: 33.0, 1: 34.0, 2: 35.0, 3: 36.0},\n  'timestep': {0: Timestamp('2023-08-04 11:22:54.017377'),\n   1: Timestamp('2023-08-04 11:22:54.037377'),\n   2: Timestamp('2023-08-04 11:22:54.057377'),\n   3: Timestamp('2023-08-04 11:22:54.077377')},\n  'velocity': {0: 29.0, 1: 30.0, 2: 31.0, 3: 32.0}},\n 'reward': {'timestep': {0: Timestamp('2023-08-04 11:22:49.117377')},\n  'work': {0: 27.0}},\n 'state': {'brake': {0: 8.0, 1: 9.0, 2: 10.0, 3: 11.0},\n  'thrust': {0: 4.0, 1: 5.0, 2: 6.0, 3: 7.0},\n  'timestep': {0: Timestamp('2023-08-04 11:22:49.017377'),\n   1: Timestamp('2023-08-04 11:22:49.037377'),\n   2: Timestamp('2023-08-04 11:22:49.057377'),\n   3: Timestamp('2023-08-04 11:22:49.077377')},\n  'velocity': {0: 0.0, 1: 1.0, 2: 2.0, 3: 3.0}}}"
     },
     "execution_count": 60,
     "metadata": {},
     "output_type": "execute_result"
    }
   ],
   "source": [
    "df_rows = pd.DataFrame(rows)\n",
    "df_rows\n",
    "df_rows['observation'][0]"
   ]
  },
  {
   "cell_type": "code",
   "execution_count": 61,
   "metadata": {
    "ExecuteTime": {
     "end_time": "2023-08-04T03:23:01.831521059Z",
     "start_time": "2023-08-04T03:22:49.852802061Z"
    }
   },
   "outputs": [
    {
     "data": {
      "text/plain": "[{'action': {'r0': {0: 12.0, 1: 13.0, 2: 14.0, 3: 15.0, 4: 16.0},\n   'r1': {0: 17.0, 1: 18.0, 2: 19.0, 3: 20.0, 4: 21.0},\n   'r2': {0: 22.0, 1: 23.0, 2: 24.0, 3: 25.0, 4: 26.0},\n   'speed': {0: 40.0, 1: 50.0, 2: 60.0},\n   'throttle': {0: 0.0, 1: 0.25, 2: 0.5, 3: 0.75, 4: 1.0},\n   'timestep': {0: Timestamp('2023-08-04 11:22:49.117377'),\n    1: Timestamp('2023-08-04 11:22:49.137377'),\n    2: Timestamp('2023-08-04 11:22:49.157377')}},\n  'nstate': {'brake': {0: 37.0, 1: 38.0, 2: 39.0, 3: 40.0},\n   'thrust': {0: 33.0, 1: 34.0, 2: 35.0, 3: 36.0},\n   'timestep': {0: Timestamp('2023-08-04 11:22:54.017377'),\n    1: Timestamp('2023-08-04 11:22:54.037377'),\n    2: Timestamp('2023-08-04 11:22:54.057377'),\n    3: Timestamp('2023-08-04 11:22:54.077377')},\n   'velocity': {0: 29.0, 1: 30.0, 2: 31.0, 3: 32.0}},\n  'reward': {'timestep': {0: Timestamp('2023-08-04 11:22:49.117377')},\n   'work': {0: 27.0}},\n  'state': {'brake': {0: 8.0, 1: 9.0, 2: 10.0, 3: 11.0},\n   'thrust': {0: 4.0, 1: 5.0, 2: 6.0, 3: 7.0},\n   'timestep': {0: Timestamp('2023-08-04 11:22:49.017377'),\n    1: Timestamp('2023-08-04 11:22:49.037377'),\n    2: Timestamp('2023-08-04 11:22:49.057377'),\n    3: Timestamp('2023-08-04 11:22:49.077377')},\n   'velocity': {0: 0.0, 1: 1.0, 2: 2.0, 3: 3.0}}},\n {'action': {'r0': {0: 12.0, 1: 13.0, 2: 14.0, 3: 15.0, 4: 16.0},\n   'r1': {0: 17.0, 1: 18.0, 2: 19.0, 3: 20.0, 4: 21.0},\n   'r2': {0: 22.0, 1: 23.0, 2: 24.0, 3: 25.0, 4: 26.0},\n   'speed': {0: 40.0, 1: 50.0, 2: 60.0},\n   'throttle': {0: 0.0, 1: 0.25, 2: 0.5, 3: 0.75, 4: 1.0},\n   'timestep': {0: Timestamp('2023-08-04 11:22:49.117377'),\n    1: Timestamp('2023-08-04 11:22:49.137377'),\n    2: Timestamp('2023-08-04 11:22:49.157377')}},\n  'nstate': {'brake': {0: 37.0, 1: 38.0, 2: 39.0, 3: 40.0},\n   'thrust': {0: 33.0, 1: 34.0, 2: 35.0, 3: 36.0},\n   'timestep': {0: Timestamp('2023-08-04 11:22:54.017377'),\n    1: Timestamp('2023-08-04 11:22:54.037377'),\n    2: Timestamp('2023-08-04 11:22:54.057377'),\n    3: Timestamp('2023-08-04 11:22:54.077377')},\n   'velocity': {0: 29.0, 1: 30.0, 2: 31.0, 3: 32.0}},\n  'reward': {'timestep': {0: Timestamp('2023-08-04 11:22:49.117377')},\n   'work': {0: 27.0}},\n  'state': {'brake': {0: 8.0, 1: 9.0, 2: 10.0, 3: 11.0},\n   'thrust': {0: 4.0, 1: 5.0, 2: 6.0, 3: 7.0},\n   'timestep': {0: Timestamp('2023-08-04 11:22:49.017377'),\n    1: Timestamp('2023-08-04 11:22:49.037377'),\n    2: Timestamp('2023-08-04 11:22:49.057377'),\n    3: Timestamp('2023-08-04 11:22:49.077377')},\n   'velocity': {0: 0.0, 1: 1.0, 2: 2.0, 3: 3.0}}},\n {'action': {'r0': {0: 12.0, 1: 13.0, 2: 14.0, 3: 15.0, 4: 16.0},\n   'r1': {0: 17.0, 1: 18.0, 2: 19.0, 3: 20.0, 4: 21.0},\n   'r2': {0: 22.0, 1: 23.0, 2: 24.0, 3: 25.0, 4: 26.0},\n   'speed': {0: 40.0, 1: 50.0, 2: 60.0},\n   'throttle': {0: 0.0, 1: 0.25, 2: 0.5, 3: 0.75, 4: 1.0},\n   'timestep': {0: Timestamp('2023-08-04 11:22:49.117377'),\n    1: Timestamp('2023-08-04 11:22:49.137377'),\n    2: Timestamp('2023-08-04 11:22:49.157377')}},\n  'nstate': {'brake': {0: 37.0, 1: 38.0, 2: 39.0, 3: 40.0},\n   'thrust': {0: 33.0, 1: 34.0, 2: 35.0, 3: 36.0},\n   'timestep': {0: Timestamp('2023-08-04 11:22:54.017377'),\n    1: Timestamp('2023-08-04 11:22:54.037377'),\n    2: Timestamp('2023-08-04 11:22:54.057377'),\n    3: Timestamp('2023-08-04 11:22:54.077377')},\n   'velocity': {0: 29.0, 1: 30.0, 2: 31.0, 3: 32.0}},\n  'reward': {'timestep': {0: Timestamp('2023-08-04 11:22:49.117377')},\n   'work': {0: 27.0}},\n  'state': {'brake': {0: 8.0, 1: 9.0, 2: 10.0, 3: 11.0},\n   'thrust': {0: 4.0, 1: 5.0, 2: 6.0, 3: 7.0},\n   'timestep': {0: Timestamp('2023-08-04 11:22:49.017377'),\n    1: Timestamp('2023-08-04 11:22:49.037377'),\n    2: Timestamp('2023-08-04 11:22:49.057377'),\n    3: Timestamp('2023-08-04 11:22:49.077377')},\n   'velocity': {0: 0.0, 1: 1.0, 2: 2.0, 3: 3.0}}},\n {'action': {'r0': {0: 12.0, 1: 13.0, 2: 14.0, 3: 15.0, 4: 16.0},\n   'r1': {0: 17.0, 1: 18.0, 2: 19.0, 3: 20.0, 4: 21.0},\n   'r2': {0: 22.0, 1: 23.0, 2: 24.0, 3: 25.0, 4: 26.0},\n   'speed': {0: 40.0, 1: 50.0, 2: 60.0},\n   'throttle': {0: 0.0, 1: 0.25, 2: 0.5, 3: 0.75, 4: 1.0},\n   'timestep': {0: Timestamp('2023-08-04 11:22:49.117377'),\n    1: Timestamp('2023-08-04 11:22:49.137377'),\n    2: Timestamp('2023-08-04 11:22:49.157377')}},\n  'nstate': {'brake': {0: 37.0, 1: 38.0, 2: 39.0, 3: 40.0},\n   'thrust': {0: 33.0, 1: 34.0, 2: 35.0, 3: 36.0},\n   'timestep': {0: Timestamp('2023-08-04 11:22:54.017377'),\n    1: Timestamp('2023-08-04 11:22:54.037377'),\n    2: Timestamp('2023-08-04 11:22:54.057377'),\n    3: Timestamp('2023-08-04 11:22:54.077377')},\n   'velocity': {0: 29.0, 1: 30.0, 2: 31.0, 3: 32.0}},\n  'reward': {'timestep': {0: Timestamp('2023-08-04 11:22:49.117377')},\n   'work': {0: 27.0}},\n  'state': {'brake': {0: 8.0, 1: 9.0, 2: 10.0, 3: 11.0},\n   'thrust': {0: 4.0, 1: 5.0, 2: 6.0, 3: 7.0},\n   'timestep': {0: Timestamp('2023-08-04 11:22:49.017377'),\n    1: Timestamp('2023-08-04 11:22:49.037377'),\n    2: Timestamp('2023-08-04 11:22:49.057377'),\n    3: Timestamp('2023-08-04 11:22:49.077377')},\n   'velocity': {0: 0.0, 1: 1.0, 2: 2.0, 3: 3.0}}},\n {'action': {'r0': {0: 12.0, 1: 13.0, 2: 14.0, 3: 15.0, 4: 16.0},\n   'r1': {0: 17.0, 1: 18.0, 2: 19.0, 3: 20.0, 4: 21.0},\n   'r2': {0: 22.0, 1: 23.0, 2: 24.0, 3: 25.0, 4: 26.0},\n   'speed': {0: 40.0, 1: 50.0, 2: 60.0},\n   'throttle': {0: 0.0, 1: 0.25, 2: 0.5, 3: 0.75, 4: 1.0},\n   'timestep': {0: Timestamp('2023-08-04 11:22:49.117377'),\n    1: Timestamp('2023-08-04 11:22:49.137377'),\n    2: Timestamp('2023-08-04 11:22:49.157377')}},\n  'nstate': {'brake': {0: 37.0, 1: 38.0, 2: 39.0, 3: 40.0},\n   'thrust': {0: 33.0, 1: 34.0, 2: 35.0, 3: 36.0},\n   'timestep': {0: Timestamp('2023-08-04 11:22:54.017377'),\n    1: Timestamp('2023-08-04 11:22:54.037377'),\n    2: Timestamp('2023-08-04 11:22:54.057377'),\n    3: Timestamp('2023-08-04 11:22:54.077377')},\n   'velocity': {0: 29.0, 1: 30.0, 2: 31.0, 3: 32.0}},\n  'reward': {'timestep': {0: Timestamp('2023-08-04 11:22:49.117377')},\n   'work': {0: 27.0}},\n  'state': {'brake': {0: 8.0, 1: 9.0, 2: 10.0, 3: 11.0},\n   'thrust': {0: 4.0, 1: 5.0, 2: 6.0, 3: 7.0},\n   'timestep': {0: Timestamp('2023-08-04 11:22:49.017377'),\n    1: Timestamp('2023-08-04 11:22:49.037377'),\n    2: Timestamp('2023-08-04 11:22:49.057377'),\n    3: Timestamp('2023-08-04 11:22:49.077377')},\n   'velocity': {0: 0.0, 1: 1.0, 2: 2.0, 3: 3.0}}}]"
     },
     "execution_count": 61,
     "metadata": {},
     "output_type": "execute_result"
    }
   ],
   "source": [
    "dict_observations = [\n",
    "    {key: value for key, value in row.items()} for row in df_rows['observation']\n",
    "]\n",
    "dict_observations"
   ]
  },
  {
   "cell_type": "markdown",
   "metadata": {},
   "source": [
    "### Decoding MongoDB dict to MultiIndexed DataFrame\n",
    "first get the multiindex as tuple from nested keys"
   ]
  },
  {
   "cell_type": "code",
   "execution_count": 62,
   "metadata": {
    "ExecuteTime": {
     "end_time": "2023-08-04T03:23:01.878180195Z",
     "start_time": "2023-08-04T03:22:49.853015331Z"
    }
   },
   "outputs": [
    {
     "data": {
      "text/plain": "{(Timestamp('2023-08-04 11:22:49.017377'),\n  'VB7',\n  'wang-cheng',\n  Timestamp('2023-08-04 12:22:49.017377'),\n  'action',\n  'r0',\n  0): 12.0,\n (Timestamp('2023-08-04 11:22:49.017377'),\n  'VB7',\n  'wang-cheng',\n  Timestamp('2023-08-04 12:22:49.017377'),\n  'action',\n  'r0',\n  1): 13.0,\n (Timestamp('2023-08-04 11:22:49.017377'),\n  'VB7',\n  'wang-cheng',\n  Timestamp('2023-08-04 12:22:49.017377'),\n  'action',\n  'r0',\n  2): 14.0,\n (Timestamp('2023-08-04 11:22:49.017377'),\n  'VB7',\n  'wang-cheng',\n  Timestamp('2023-08-04 12:22:49.017377'),\n  'action',\n  'r0',\n  3): 15.0,\n (Timestamp('2023-08-04 11:22:49.017377'),\n  'VB7',\n  'wang-cheng',\n  Timestamp('2023-08-04 12:22:49.017377'),\n  'action',\n  'r0',\n  4): 16.0,\n (Timestamp('2023-08-04 11:22:49.017377'),\n  'VB7',\n  'wang-cheng',\n  Timestamp('2023-08-04 12:22:49.017377'),\n  'action',\n  'r1',\n  0): 17.0,\n (Timestamp('2023-08-04 11:22:49.017377'),\n  'VB7',\n  'wang-cheng',\n  Timestamp('2023-08-04 12:22:49.017377'),\n  'action',\n  'r1',\n  1): 18.0,\n (Timestamp('2023-08-04 11:22:49.017377'),\n  'VB7',\n  'wang-cheng',\n  Timestamp('2023-08-04 12:22:49.017377'),\n  'action',\n  'r1',\n  2): 19.0,\n (Timestamp('2023-08-04 11:22:49.017377'),\n  'VB7',\n  'wang-cheng',\n  Timestamp('2023-08-04 12:22:49.017377'),\n  'action',\n  'r1',\n  3): 20.0,\n (Timestamp('2023-08-04 11:22:49.017377'),\n  'VB7',\n  'wang-cheng',\n  Timestamp('2023-08-04 12:22:49.017377'),\n  'action',\n  'r1',\n  4): 21.0,\n (Timestamp('2023-08-04 11:22:49.017377'),\n  'VB7',\n  'wang-cheng',\n  Timestamp('2023-08-04 12:22:49.017377'),\n  'action',\n  'r2',\n  0): 22.0,\n (Timestamp('2023-08-04 11:22:49.017377'),\n  'VB7',\n  'wang-cheng',\n  Timestamp('2023-08-04 12:22:49.017377'),\n  'action',\n  'r2',\n  1): 23.0,\n (Timestamp('2023-08-04 11:22:49.017377'),\n  'VB7',\n  'wang-cheng',\n  Timestamp('2023-08-04 12:22:49.017377'),\n  'action',\n  'r2',\n  2): 24.0,\n (Timestamp('2023-08-04 11:22:49.017377'),\n  'VB7',\n  'wang-cheng',\n  Timestamp('2023-08-04 12:22:49.017377'),\n  'action',\n  'r2',\n  3): 25.0,\n (Timestamp('2023-08-04 11:22:49.017377'),\n  'VB7',\n  'wang-cheng',\n  Timestamp('2023-08-04 12:22:49.017377'),\n  'action',\n  'r2',\n  4): 26.0,\n (Timestamp('2023-08-04 11:22:49.017377'),\n  'VB7',\n  'wang-cheng',\n  Timestamp('2023-08-04 12:22:49.017377'),\n  'action',\n  'speed',\n  0): 40.0,\n (Timestamp('2023-08-04 11:22:49.017377'),\n  'VB7',\n  'wang-cheng',\n  Timestamp('2023-08-04 12:22:49.017377'),\n  'action',\n  'speed',\n  1): 50.0,\n (Timestamp('2023-08-04 11:22:49.017377'),\n  'VB7',\n  'wang-cheng',\n  Timestamp('2023-08-04 12:22:49.017377'),\n  'action',\n  'speed',\n  2): 60.0,\n (Timestamp('2023-08-04 11:22:49.017377'),\n  'VB7',\n  'wang-cheng',\n  Timestamp('2023-08-04 12:22:49.017377'),\n  'action',\n  'throttle',\n  0): 0.0,\n (Timestamp('2023-08-04 11:22:49.017377'),\n  'VB7',\n  'wang-cheng',\n  Timestamp('2023-08-04 12:22:49.017377'),\n  'action',\n  'throttle',\n  1): 0.25,\n (Timestamp('2023-08-04 11:22:49.017377'),\n  'VB7',\n  'wang-cheng',\n  Timestamp('2023-08-04 12:22:49.017377'),\n  'action',\n  'throttle',\n  2): 0.5,\n (Timestamp('2023-08-04 11:22:49.017377'),\n  'VB7',\n  'wang-cheng',\n  Timestamp('2023-08-04 12:22:49.017377'),\n  'action',\n  'throttle',\n  3): 0.75,\n (Timestamp('2023-08-04 11:22:49.017377'),\n  'VB7',\n  'wang-cheng',\n  Timestamp('2023-08-04 12:22:49.017377'),\n  'action',\n  'throttle',\n  4): 1.0,\n (Timestamp('2023-08-04 11:22:49.017377'),\n  'VB7',\n  'wang-cheng',\n  Timestamp('2023-08-04 12:22:49.017377'),\n  'action',\n  'timestep',\n  0): Timestamp('2023-08-04 11:22:49.117377'),\n (Timestamp('2023-08-04 11:22:49.017377'),\n  'VB7',\n  'wang-cheng',\n  Timestamp('2023-08-04 12:22:49.017377'),\n  'action',\n  'timestep',\n  1): Timestamp('2023-08-04 11:22:49.137377'),\n (Timestamp('2023-08-04 11:22:49.017377'),\n  'VB7',\n  'wang-cheng',\n  Timestamp('2023-08-04 12:22:49.017377'),\n  'action',\n  'timestep',\n  2): Timestamp('2023-08-04 11:22:49.157377'),\n (Timestamp('2023-08-04 11:22:49.017377'),\n  'VB7',\n  'wang-cheng',\n  Timestamp('2023-08-04 12:22:49.017377'),\n  'nstate',\n  'brake',\n  0): 37.0,\n (Timestamp('2023-08-04 11:22:49.017377'),\n  'VB7',\n  'wang-cheng',\n  Timestamp('2023-08-04 12:22:49.017377'),\n  'nstate',\n  'brake',\n  1): 38.0,\n (Timestamp('2023-08-04 11:22:49.017377'),\n  'VB7',\n  'wang-cheng',\n  Timestamp('2023-08-04 12:22:49.017377'),\n  'nstate',\n  'brake',\n  2): 39.0,\n (Timestamp('2023-08-04 11:22:49.017377'),\n  'VB7',\n  'wang-cheng',\n  Timestamp('2023-08-04 12:22:49.017377'),\n  'nstate',\n  'brake',\n  3): 40.0,\n (Timestamp('2023-08-04 11:22:49.017377'),\n  'VB7',\n  'wang-cheng',\n  Timestamp('2023-08-04 12:22:49.017377'),\n  'nstate',\n  'thrust',\n  0): 33.0,\n (Timestamp('2023-08-04 11:22:49.017377'),\n  'VB7',\n  'wang-cheng',\n  Timestamp('2023-08-04 12:22:49.017377'),\n  'nstate',\n  'thrust',\n  1): 34.0,\n (Timestamp('2023-08-04 11:22:49.017377'),\n  'VB7',\n  'wang-cheng',\n  Timestamp('2023-08-04 12:22:49.017377'),\n  'nstate',\n  'thrust',\n  2): 35.0,\n (Timestamp('2023-08-04 11:22:49.017377'),\n  'VB7',\n  'wang-cheng',\n  Timestamp('2023-08-04 12:22:49.017377'),\n  'nstate',\n  'thrust',\n  3): 36.0,\n (Timestamp('2023-08-04 11:22:49.017377'),\n  'VB7',\n  'wang-cheng',\n  Timestamp('2023-08-04 12:22:49.017377'),\n  'nstate',\n  'timestep',\n  0): Timestamp('2023-08-04 11:22:54.017377'),\n (Timestamp('2023-08-04 11:22:49.017377'),\n  'VB7',\n  'wang-cheng',\n  Timestamp('2023-08-04 12:22:49.017377'),\n  'nstate',\n  'timestep',\n  1): Timestamp('2023-08-04 11:22:54.037377'),\n (Timestamp('2023-08-04 11:22:49.017377'),\n  'VB7',\n  'wang-cheng',\n  Timestamp('2023-08-04 12:22:49.017377'),\n  'nstate',\n  'timestep',\n  2): Timestamp('2023-08-04 11:22:54.057377'),\n (Timestamp('2023-08-04 11:22:49.017377'),\n  'VB7',\n  'wang-cheng',\n  Timestamp('2023-08-04 12:22:49.017377'),\n  'nstate',\n  'timestep',\n  3): Timestamp('2023-08-04 11:22:54.077377'),\n (Timestamp('2023-08-04 11:22:49.017377'),\n  'VB7',\n  'wang-cheng',\n  Timestamp('2023-08-04 12:22:49.017377'),\n  'nstate',\n  'velocity',\n  0): 29.0,\n (Timestamp('2023-08-04 11:22:49.017377'),\n  'VB7',\n  'wang-cheng',\n  Timestamp('2023-08-04 12:22:49.017377'),\n  'nstate',\n  'velocity',\n  1): 30.0,\n (Timestamp('2023-08-04 11:22:49.017377'),\n  'VB7',\n  'wang-cheng',\n  Timestamp('2023-08-04 12:22:49.017377'),\n  'nstate',\n  'velocity',\n  2): 31.0,\n (Timestamp('2023-08-04 11:22:49.017377'),\n  'VB7',\n  'wang-cheng',\n  Timestamp('2023-08-04 12:22:49.017377'),\n  'nstate',\n  'velocity',\n  3): 32.0,\n (Timestamp('2023-08-04 11:22:49.017377'),\n  'VB7',\n  'wang-cheng',\n  Timestamp('2023-08-04 12:22:49.017377'),\n  'reward',\n  'timestep',\n  0): Timestamp('2023-08-04 11:22:49.117377'),\n (Timestamp('2023-08-04 11:22:49.017377'),\n  'VB7',\n  'wang-cheng',\n  Timestamp('2023-08-04 12:22:49.017377'),\n  'reward',\n  'work',\n  0): 27.0,\n (Timestamp('2023-08-04 11:22:49.017377'),\n  'VB7',\n  'wang-cheng',\n  Timestamp('2023-08-04 12:22:49.017377'),\n  'state',\n  'brake',\n  0): 8.0,\n (Timestamp('2023-08-04 11:22:49.017377'),\n  'VB7',\n  'wang-cheng',\n  Timestamp('2023-08-04 12:22:49.017377'),\n  'state',\n  'brake',\n  1): 9.0,\n (Timestamp('2023-08-04 11:22:49.017377'),\n  'VB7',\n  'wang-cheng',\n  Timestamp('2023-08-04 12:22:49.017377'),\n  'state',\n  'brake',\n  2): 10.0,\n (Timestamp('2023-08-04 11:22:49.017377'),\n  'VB7',\n  'wang-cheng',\n  Timestamp('2023-08-04 12:22:49.017377'),\n  'state',\n  'brake',\n  3): 11.0,\n (Timestamp('2023-08-04 11:22:49.017377'),\n  'VB7',\n  'wang-cheng',\n  Timestamp('2023-08-04 12:22:49.017377'),\n  'state',\n  'thrust',\n  0): 4.0,\n (Timestamp('2023-08-04 11:22:49.017377'),\n  'VB7',\n  'wang-cheng',\n  Timestamp('2023-08-04 12:22:49.017377'),\n  'state',\n  'thrust',\n  1): 5.0,\n (Timestamp('2023-08-04 11:22:49.017377'),\n  'VB7',\n  'wang-cheng',\n  Timestamp('2023-08-04 12:22:49.017377'),\n  'state',\n  'thrust',\n  2): 6.0,\n (Timestamp('2023-08-04 11:22:49.017377'),\n  'VB7',\n  'wang-cheng',\n  Timestamp('2023-08-04 12:22:49.017377'),\n  'state',\n  'thrust',\n  3): 7.0,\n (Timestamp('2023-08-04 11:22:49.017377'),\n  'VB7',\n  'wang-cheng',\n  Timestamp('2023-08-04 12:22:49.017377'),\n  'state',\n  'timestep',\n  0): Timestamp('2023-08-04 11:22:49.017377'),\n (Timestamp('2023-08-04 11:22:49.017377'),\n  'VB7',\n  'wang-cheng',\n  Timestamp('2023-08-04 12:22:49.017377'),\n  'state',\n  'timestep',\n  1): Timestamp('2023-08-04 11:22:49.037377'),\n (Timestamp('2023-08-04 11:22:49.017377'),\n  'VB7',\n  'wang-cheng',\n  Timestamp('2023-08-04 12:22:49.017377'),\n  'state',\n  'timestep',\n  2): Timestamp('2023-08-04 11:22:49.057377'),\n (Timestamp('2023-08-04 11:22:49.017377'),\n  'VB7',\n  'wang-cheng',\n  Timestamp('2023-08-04 12:22:49.017377'),\n  'state',\n  'timestep',\n  3): Timestamp('2023-08-04 11:22:49.077377'),\n (Timestamp('2023-08-04 11:22:49.017377'),\n  'VB7',\n  'wang-cheng',\n  Timestamp('2023-08-04 12:22:49.017377'),\n  'state',\n  'velocity',\n  0): 0.0,\n (Timestamp('2023-08-04 11:22:49.017377'),\n  'VB7',\n  'wang-cheng',\n  Timestamp('2023-08-04 12:22:49.017377'),\n  'state',\n  'velocity',\n  1): 1.0,\n (Timestamp('2023-08-04 11:22:49.017377'),\n  'VB7',\n  'wang-cheng',\n  Timestamp('2023-08-04 12:22:49.017377'),\n  'state',\n  'velocity',\n  2): 2.0,\n (Timestamp('2023-08-04 11:22:49.017377'),\n  'VB7',\n  'wang-cheng',\n  Timestamp('2023-08-04 12:22:49.017377'),\n  'state',\n  'velocity',\n  3): 3.0,\n (Timestamp('2023-08-04 11:22:49.017377'),\n  'VB7',\n  'wang-cheng',\n  Timestamp('2023-08-04 13:22:49.017377'),\n  'action',\n  'r0',\n  0): 12.0,\n (Timestamp('2023-08-04 11:22:49.017377'),\n  'VB7',\n  'wang-cheng',\n  Timestamp('2023-08-04 13:22:49.017377'),\n  'action',\n  'r0',\n  1): 13.0,\n (Timestamp('2023-08-04 11:22:49.017377'),\n  'VB7',\n  'wang-cheng',\n  Timestamp('2023-08-04 13:22:49.017377'),\n  'action',\n  'r0',\n  2): 14.0,\n (Timestamp('2023-08-04 11:22:49.017377'),\n  'VB7',\n  'wang-cheng',\n  Timestamp('2023-08-04 13:22:49.017377'),\n  'action',\n  'r0',\n  3): 15.0,\n (Timestamp('2023-08-04 11:22:49.017377'),\n  'VB7',\n  'wang-cheng',\n  Timestamp('2023-08-04 13:22:49.017377'),\n  'action',\n  'r0',\n  4): 16.0,\n (Timestamp('2023-08-04 11:22:49.017377'),\n  'VB7',\n  'wang-cheng',\n  Timestamp('2023-08-04 13:22:49.017377'),\n  'action',\n  'r1',\n  0): 17.0,\n (Timestamp('2023-08-04 11:22:49.017377'),\n  'VB7',\n  'wang-cheng',\n  Timestamp('2023-08-04 13:22:49.017377'),\n  'action',\n  'r1',\n  1): 18.0,\n (Timestamp('2023-08-04 11:22:49.017377'),\n  'VB7',\n  'wang-cheng',\n  Timestamp('2023-08-04 13:22:49.017377'),\n  'action',\n  'r1',\n  2): 19.0,\n (Timestamp('2023-08-04 11:22:49.017377'),\n  'VB7',\n  'wang-cheng',\n  Timestamp('2023-08-04 13:22:49.017377'),\n  'action',\n  'r1',\n  3): 20.0,\n (Timestamp('2023-08-04 11:22:49.017377'),\n  'VB7',\n  'wang-cheng',\n  Timestamp('2023-08-04 13:22:49.017377'),\n  'action',\n  'r1',\n  4): 21.0,\n (Timestamp('2023-08-04 11:22:49.017377'),\n  'VB7',\n  'wang-cheng',\n  Timestamp('2023-08-04 13:22:49.017377'),\n  'action',\n  'r2',\n  0): 22.0,\n (Timestamp('2023-08-04 11:22:49.017377'),\n  'VB7',\n  'wang-cheng',\n  Timestamp('2023-08-04 13:22:49.017377'),\n  'action',\n  'r2',\n  1): 23.0,\n (Timestamp('2023-08-04 11:22:49.017377'),\n  'VB7',\n  'wang-cheng',\n  Timestamp('2023-08-04 13:22:49.017377'),\n  'action',\n  'r2',\n  2): 24.0,\n (Timestamp('2023-08-04 11:22:49.017377'),\n  'VB7',\n  'wang-cheng',\n  Timestamp('2023-08-04 13:22:49.017377'),\n  'action',\n  'r2',\n  3): 25.0,\n (Timestamp('2023-08-04 11:22:49.017377'),\n  'VB7',\n  'wang-cheng',\n  Timestamp('2023-08-04 13:22:49.017377'),\n  'action',\n  'r2',\n  4): 26.0,\n (Timestamp('2023-08-04 11:22:49.017377'),\n  'VB7',\n  'wang-cheng',\n  Timestamp('2023-08-04 13:22:49.017377'),\n  'action',\n  'speed',\n  0): 40.0,\n (Timestamp('2023-08-04 11:22:49.017377'),\n  'VB7',\n  'wang-cheng',\n  Timestamp('2023-08-04 13:22:49.017377'),\n  'action',\n  'speed',\n  1): 50.0,\n (Timestamp('2023-08-04 11:22:49.017377'),\n  'VB7',\n  'wang-cheng',\n  Timestamp('2023-08-04 13:22:49.017377'),\n  'action',\n  'speed',\n  2): 60.0,\n (Timestamp('2023-08-04 11:22:49.017377'),\n  'VB7',\n  'wang-cheng',\n  Timestamp('2023-08-04 13:22:49.017377'),\n  'action',\n  'throttle',\n  0): 0.0,\n (Timestamp('2023-08-04 11:22:49.017377'),\n  'VB7',\n  'wang-cheng',\n  Timestamp('2023-08-04 13:22:49.017377'),\n  'action',\n  'throttle',\n  1): 0.25,\n (Timestamp('2023-08-04 11:22:49.017377'),\n  'VB7',\n  'wang-cheng',\n  Timestamp('2023-08-04 13:22:49.017377'),\n  'action',\n  'throttle',\n  2): 0.5,\n (Timestamp('2023-08-04 11:22:49.017377'),\n  'VB7',\n  'wang-cheng',\n  Timestamp('2023-08-04 13:22:49.017377'),\n  'action',\n  'throttle',\n  3): 0.75,\n (Timestamp('2023-08-04 11:22:49.017377'),\n  'VB7',\n  'wang-cheng',\n  Timestamp('2023-08-04 13:22:49.017377'),\n  'action',\n  'throttle',\n  4): 1.0,\n (Timestamp('2023-08-04 11:22:49.017377'),\n  'VB7',\n  'wang-cheng',\n  Timestamp('2023-08-04 13:22:49.017377'),\n  'action',\n  'timestep',\n  0): Timestamp('2023-08-04 11:22:49.117377'),\n (Timestamp('2023-08-04 11:22:49.017377'),\n  'VB7',\n  'wang-cheng',\n  Timestamp('2023-08-04 13:22:49.017377'),\n  'action',\n  'timestep',\n  1): Timestamp('2023-08-04 11:22:49.137377'),\n (Timestamp('2023-08-04 11:22:49.017377'),\n  'VB7',\n  'wang-cheng',\n  Timestamp('2023-08-04 13:22:49.017377'),\n  'action',\n  'timestep',\n  2): Timestamp('2023-08-04 11:22:49.157377'),\n (Timestamp('2023-08-04 11:22:49.017377'),\n  'VB7',\n  'wang-cheng',\n  Timestamp('2023-08-04 13:22:49.017377'),\n  'nstate',\n  'brake',\n  0): 37.0,\n (Timestamp('2023-08-04 11:22:49.017377'),\n  'VB7',\n  'wang-cheng',\n  Timestamp('2023-08-04 13:22:49.017377'),\n  'nstate',\n  'brake',\n  1): 38.0,\n (Timestamp('2023-08-04 11:22:49.017377'),\n  'VB7',\n  'wang-cheng',\n  Timestamp('2023-08-04 13:22:49.017377'),\n  'nstate',\n  'brake',\n  2): 39.0,\n (Timestamp('2023-08-04 11:22:49.017377'),\n  'VB7',\n  'wang-cheng',\n  Timestamp('2023-08-04 13:22:49.017377'),\n  'nstate',\n  'brake',\n  3): 40.0,\n (Timestamp('2023-08-04 11:22:49.017377'),\n  'VB7',\n  'wang-cheng',\n  Timestamp('2023-08-04 13:22:49.017377'),\n  'nstate',\n  'thrust',\n  0): 33.0,\n (Timestamp('2023-08-04 11:22:49.017377'),\n  'VB7',\n  'wang-cheng',\n  Timestamp('2023-08-04 13:22:49.017377'),\n  'nstate',\n  'thrust',\n  1): 34.0,\n (Timestamp('2023-08-04 11:22:49.017377'),\n  'VB7',\n  'wang-cheng',\n  Timestamp('2023-08-04 13:22:49.017377'),\n  'nstate',\n  'thrust',\n  2): 35.0,\n (Timestamp('2023-08-04 11:22:49.017377'),\n  'VB7',\n  'wang-cheng',\n  Timestamp('2023-08-04 13:22:49.017377'),\n  'nstate',\n  'thrust',\n  3): 36.0,\n (Timestamp('2023-08-04 11:22:49.017377'),\n  'VB7',\n  'wang-cheng',\n  Timestamp('2023-08-04 13:22:49.017377'),\n  'nstate',\n  'timestep',\n  0): Timestamp('2023-08-04 11:22:54.017377'),\n (Timestamp('2023-08-04 11:22:49.017377'),\n  'VB7',\n  'wang-cheng',\n  Timestamp('2023-08-04 13:22:49.017377'),\n  'nstate',\n  'timestep',\n  1): Timestamp('2023-08-04 11:22:54.037377'),\n (Timestamp('2023-08-04 11:22:49.017377'),\n  'VB7',\n  'wang-cheng',\n  Timestamp('2023-08-04 13:22:49.017377'),\n  'nstate',\n  'timestep',\n  2): Timestamp('2023-08-04 11:22:54.057377'),\n (Timestamp('2023-08-04 11:22:49.017377'),\n  'VB7',\n  'wang-cheng',\n  Timestamp('2023-08-04 13:22:49.017377'),\n  'nstate',\n  'timestep',\n  3): Timestamp('2023-08-04 11:22:54.077377'),\n (Timestamp('2023-08-04 11:22:49.017377'),\n  'VB7',\n  'wang-cheng',\n  Timestamp('2023-08-04 13:22:49.017377'),\n  'nstate',\n  'velocity',\n  0): 29.0,\n (Timestamp('2023-08-04 11:22:49.017377'),\n  'VB7',\n  'wang-cheng',\n  Timestamp('2023-08-04 13:22:49.017377'),\n  'nstate',\n  'velocity',\n  1): 30.0,\n (Timestamp('2023-08-04 11:22:49.017377'),\n  'VB7',\n  'wang-cheng',\n  Timestamp('2023-08-04 13:22:49.017377'),\n  'nstate',\n  'velocity',\n  2): 31.0,\n (Timestamp('2023-08-04 11:22:49.017377'),\n  'VB7',\n  'wang-cheng',\n  Timestamp('2023-08-04 13:22:49.017377'),\n  'nstate',\n  'velocity',\n  3): 32.0,\n (Timestamp('2023-08-04 11:22:49.017377'),\n  'VB7',\n  'wang-cheng',\n  Timestamp('2023-08-04 13:22:49.017377'),\n  'reward',\n  'timestep',\n  0): Timestamp('2023-08-04 11:22:49.117377'),\n (Timestamp('2023-08-04 11:22:49.017377'),\n  'VB7',\n  'wang-cheng',\n  Timestamp('2023-08-04 13:22:49.017377'),\n  'reward',\n  'work',\n  0): 27.0,\n (Timestamp('2023-08-04 11:22:49.017377'),\n  'VB7',\n  'wang-cheng',\n  Timestamp('2023-08-04 13:22:49.017377'),\n  'state',\n  'brake',\n  0): 8.0,\n (Timestamp('2023-08-04 11:22:49.017377'),\n  'VB7',\n  'wang-cheng',\n  Timestamp('2023-08-04 13:22:49.017377'),\n  'state',\n  'brake',\n  1): 9.0,\n (Timestamp('2023-08-04 11:22:49.017377'),\n  'VB7',\n  'wang-cheng',\n  Timestamp('2023-08-04 13:22:49.017377'),\n  'state',\n  'brake',\n  2): 10.0,\n (Timestamp('2023-08-04 11:22:49.017377'),\n  'VB7',\n  'wang-cheng',\n  Timestamp('2023-08-04 13:22:49.017377'),\n  'state',\n  'brake',\n  3): 11.0,\n (Timestamp('2023-08-04 11:22:49.017377'),\n  'VB7',\n  'wang-cheng',\n  Timestamp('2023-08-04 13:22:49.017377'),\n  'state',\n  'thrust',\n  0): 4.0,\n (Timestamp('2023-08-04 11:22:49.017377'),\n  'VB7',\n  'wang-cheng',\n  Timestamp('2023-08-04 13:22:49.017377'),\n  'state',\n  'thrust',\n  1): 5.0,\n (Timestamp('2023-08-04 11:22:49.017377'),\n  'VB7',\n  'wang-cheng',\n  Timestamp('2023-08-04 13:22:49.017377'),\n  'state',\n  'thrust',\n  2): 6.0,\n (Timestamp('2023-08-04 11:22:49.017377'),\n  'VB7',\n  'wang-cheng',\n  Timestamp('2023-08-04 13:22:49.017377'),\n  'state',\n  'thrust',\n  3): 7.0,\n (Timestamp('2023-08-04 11:22:49.017377'),\n  'VB7',\n  'wang-cheng',\n  Timestamp('2023-08-04 13:22:49.017377'),\n  'state',\n  'timestep',\n  0): Timestamp('2023-08-04 11:22:49.017377'),\n (Timestamp('2023-08-04 11:22:49.017377'),\n  'VB7',\n  'wang-cheng',\n  Timestamp('2023-08-04 13:22:49.017377'),\n  'state',\n  'timestep',\n  1): Timestamp('2023-08-04 11:22:49.037377'),\n (Timestamp('2023-08-04 11:22:49.017377'),\n  'VB7',\n  'wang-cheng',\n  Timestamp('2023-08-04 13:22:49.017377'),\n  'state',\n  'timestep',\n  2): Timestamp('2023-08-04 11:22:49.057377'),\n (Timestamp('2023-08-04 11:22:49.017377'),\n  'VB7',\n  'wang-cheng',\n  Timestamp('2023-08-04 13:22:49.017377'),\n  'state',\n  'timestep',\n  3): Timestamp('2023-08-04 11:22:49.077377'),\n (Timestamp('2023-08-04 11:22:49.017377'),\n  'VB7',\n  'wang-cheng',\n  Timestamp('2023-08-04 13:22:49.017377'),\n  'state',\n  'velocity',\n  0): 0.0,\n (Timestamp('2023-08-04 11:22:49.017377'),\n  'VB7',\n  'wang-cheng',\n  Timestamp('2023-08-04 13:22:49.017377'),\n  'state',\n  'velocity',\n  1): 1.0,\n (Timestamp('2023-08-04 11:22:49.017377'),\n  'VB7',\n  'wang-cheng',\n  Timestamp('2023-08-04 13:22:49.017377'),\n  'state',\n  'velocity',\n  2): 2.0,\n (Timestamp('2023-08-04 11:22:49.017377'),\n  'VB7',\n  'wang-cheng',\n  Timestamp('2023-08-04 13:22:49.017377'),\n  'state',\n  'velocity',\n  3): 3.0,\n (Timestamp('2023-08-04 11:22:49.017377'),\n  'VB7',\n  'wang-cheng',\n  Timestamp('2023-08-04 14:22:49.017377'),\n  'action',\n  'r0',\n  0): 12.0,\n (Timestamp('2023-08-04 11:22:49.017377'),\n  'VB7',\n  'wang-cheng',\n  Timestamp('2023-08-04 14:22:49.017377'),\n  'action',\n  'r0',\n  1): 13.0,\n (Timestamp('2023-08-04 11:22:49.017377'),\n  'VB7',\n  'wang-cheng',\n  Timestamp('2023-08-04 14:22:49.017377'),\n  'action',\n  'r0',\n  2): 14.0,\n (Timestamp('2023-08-04 11:22:49.017377'),\n  'VB7',\n  'wang-cheng',\n  Timestamp('2023-08-04 14:22:49.017377'),\n  'action',\n  'r0',\n  3): 15.0,\n (Timestamp('2023-08-04 11:22:49.017377'),\n  'VB7',\n  'wang-cheng',\n  Timestamp('2023-08-04 14:22:49.017377'),\n  'action',\n  'r0',\n  4): 16.0,\n (Timestamp('2023-08-04 11:22:49.017377'),\n  'VB7',\n  'wang-cheng',\n  Timestamp('2023-08-04 14:22:49.017377'),\n  'action',\n  'r1',\n  0): 17.0,\n (Timestamp('2023-08-04 11:22:49.017377'),\n  'VB7',\n  'wang-cheng',\n  Timestamp('2023-08-04 14:22:49.017377'),\n  'action',\n  'r1',\n  1): 18.0,\n (Timestamp('2023-08-04 11:22:49.017377'),\n  'VB7',\n  'wang-cheng',\n  Timestamp('2023-08-04 14:22:49.017377'),\n  'action',\n  'r1',\n  2): 19.0,\n (Timestamp('2023-08-04 11:22:49.017377'),\n  'VB7',\n  'wang-cheng',\n  Timestamp('2023-08-04 14:22:49.017377'),\n  'action',\n  'r1',\n  3): 20.0,\n (Timestamp('2023-08-04 11:22:49.017377'),\n  'VB7',\n  'wang-cheng',\n  Timestamp('2023-08-04 14:22:49.017377'),\n  'action',\n  'r1',\n  4): 21.0,\n (Timestamp('2023-08-04 11:22:49.017377'),\n  'VB7',\n  'wang-cheng',\n  Timestamp('2023-08-04 14:22:49.017377'),\n  'action',\n  'r2',\n  0): 22.0,\n (Timestamp('2023-08-04 11:22:49.017377'),\n  'VB7',\n  'wang-cheng',\n  Timestamp('2023-08-04 14:22:49.017377'),\n  'action',\n  'r2',\n  1): 23.0,\n (Timestamp('2023-08-04 11:22:49.017377'),\n  'VB7',\n  'wang-cheng',\n  Timestamp('2023-08-04 14:22:49.017377'),\n  'action',\n  'r2',\n  2): 24.0,\n (Timestamp('2023-08-04 11:22:49.017377'),\n  'VB7',\n  'wang-cheng',\n  Timestamp('2023-08-04 14:22:49.017377'),\n  'action',\n  'r2',\n  3): 25.0,\n (Timestamp('2023-08-04 11:22:49.017377'),\n  'VB7',\n  'wang-cheng',\n  Timestamp('2023-08-04 14:22:49.017377'),\n  'action',\n  'r2',\n  4): 26.0,\n (Timestamp('2023-08-04 11:22:49.017377'),\n  'VB7',\n  'wang-cheng',\n  Timestamp('2023-08-04 14:22:49.017377'),\n  'action',\n  'speed',\n  0): 40.0,\n (Timestamp('2023-08-04 11:22:49.017377'),\n  'VB7',\n  'wang-cheng',\n  Timestamp('2023-08-04 14:22:49.017377'),\n  'action',\n  'speed',\n  1): 50.0,\n (Timestamp('2023-08-04 11:22:49.017377'),\n  'VB7',\n  'wang-cheng',\n  Timestamp('2023-08-04 14:22:49.017377'),\n  'action',\n  'speed',\n  2): 60.0,\n (Timestamp('2023-08-04 11:22:49.017377'),\n  'VB7',\n  'wang-cheng',\n  Timestamp('2023-08-04 14:22:49.017377'),\n  'action',\n  'throttle',\n  0): 0.0,\n (Timestamp('2023-08-04 11:22:49.017377'),\n  'VB7',\n  'wang-cheng',\n  Timestamp('2023-08-04 14:22:49.017377'),\n  'action',\n  'throttle',\n  1): 0.25,\n (Timestamp('2023-08-04 11:22:49.017377'),\n  'VB7',\n  'wang-cheng',\n  Timestamp('2023-08-04 14:22:49.017377'),\n  'action',\n  'throttle',\n  2): 0.5,\n (Timestamp('2023-08-04 11:22:49.017377'),\n  'VB7',\n  'wang-cheng',\n  Timestamp('2023-08-04 14:22:49.017377'),\n  'action',\n  'throttle',\n  3): 0.75,\n (Timestamp('2023-08-04 11:22:49.017377'),\n  'VB7',\n  'wang-cheng',\n  Timestamp('2023-08-04 14:22:49.017377'),\n  'action',\n  'throttle',\n  4): 1.0,\n (Timestamp('2023-08-04 11:22:49.017377'),\n  'VB7',\n  'wang-cheng',\n  Timestamp('2023-08-04 14:22:49.017377'),\n  'action',\n  'timestep',\n  0): Timestamp('2023-08-04 11:22:49.117377'),\n (Timestamp('2023-08-04 11:22:49.017377'),\n  'VB7',\n  'wang-cheng',\n  Timestamp('2023-08-04 14:22:49.017377'),\n  'action',\n  'timestep',\n  1): Timestamp('2023-08-04 11:22:49.137377'),\n (Timestamp('2023-08-04 11:22:49.017377'),\n  'VB7',\n  'wang-cheng',\n  Timestamp('2023-08-04 14:22:49.017377'),\n  'action',\n  'timestep',\n  2): Timestamp('2023-08-04 11:22:49.157377'),\n (Timestamp('2023-08-04 11:22:49.017377'),\n  'VB7',\n  'wang-cheng',\n  Timestamp('2023-08-04 14:22:49.017377'),\n  'nstate',\n  'brake',\n  0): 37.0,\n (Timestamp('2023-08-04 11:22:49.017377'),\n  'VB7',\n  'wang-cheng',\n  Timestamp('2023-08-04 14:22:49.017377'),\n  'nstate',\n  'brake',\n  1): 38.0,\n (Timestamp('2023-08-04 11:22:49.017377'),\n  'VB7',\n  'wang-cheng',\n  Timestamp('2023-08-04 14:22:49.017377'),\n  'nstate',\n  'brake',\n  2): 39.0,\n (Timestamp('2023-08-04 11:22:49.017377'),\n  'VB7',\n  'wang-cheng',\n  Timestamp('2023-08-04 14:22:49.017377'),\n  'nstate',\n  'brake',\n  3): 40.0,\n (Timestamp('2023-08-04 11:22:49.017377'),\n  'VB7',\n  'wang-cheng',\n  Timestamp('2023-08-04 14:22:49.017377'),\n  'nstate',\n  'thrust',\n  0): 33.0,\n (Timestamp('2023-08-04 11:22:49.017377'),\n  'VB7',\n  'wang-cheng',\n  Timestamp('2023-08-04 14:22:49.017377'),\n  'nstate',\n  'thrust',\n  1): 34.0,\n (Timestamp('2023-08-04 11:22:49.017377'),\n  'VB7',\n  'wang-cheng',\n  Timestamp('2023-08-04 14:22:49.017377'),\n  'nstate',\n  'thrust',\n  2): 35.0,\n (Timestamp('2023-08-04 11:22:49.017377'),\n  'VB7',\n  'wang-cheng',\n  Timestamp('2023-08-04 14:22:49.017377'),\n  'nstate',\n  'thrust',\n  3): 36.0,\n (Timestamp('2023-08-04 11:22:49.017377'),\n  'VB7',\n  'wang-cheng',\n  Timestamp('2023-08-04 14:22:49.017377'),\n  'nstate',\n  'timestep',\n  0): Timestamp('2023-08-04 11:22:54.017377'),\n (Timestamp('2023-08-04 11:22:49.017377'),\n  'VB7',\n  'wang-cheng',\n  Timestamp('2023-08-04 14:22:49.017377'),\n  'nstate',\n  'timestep',\n  1): Timestamp('2023-08-04 11:22:54.037377'),\n (Timestamp('2023-08-04 11:22:49.017377'),\n  'VB7',\n  'wang-cheng',\n  Timestamp('2023-08-04 14:22:49.017377'),\n  'nstate',\n  'timestep',\n  2): Timestamp('2023-08-04 11:22:54.057377'),\n (Timestamp('2023-08-04 11:22:49.017377'),\n  'VB7',\n  'wang-cheng',\n  Timestamp('2023-08-04 14:22:49.017377'),\n  'nstate',\n  'timestep',\n  3): Timestamp('2023-08-04 11:22:54.077377'),\n (Timestamp('2023-08-04 11:22:49.017377'),\n  'VB7',\n  'wang-cheng',\n  Timestamp('2023-08-04 14:22:49.017377'),\n  'nstate',\n  'velocity',\n  0): 29.0,\n (Timestamp('2023-08-04 11:22:49.017377'),\n  'VB7',\n  'wang-cheng',\n  Timestamp('2023-08-04 14:22:49.017377'),\n  'nstate',\n  'velocity',\n  1): 30.0,\n (Timestamp('2023-08-04 11:22:49.017377'),\n  'VB7',\n  'wang-cheng',\n  Timestamp('2023-08-04 14:22:49.017377'),\n  'nstate',\n  'velocity',\n  2): 31.0,\n (Timestamp('2023-08-04 11:22:49.017377'),\n  'VB7',\n  'wang-cheng',\n  Timestamp('2023-08-04 14:22:49.017377'),\n  'nstate',\n  'velocity',\n  3): 32.0,\n (Timestamp('2023-08-04 11:22:49.017377'),\n  'VB7',\n  'wang-cheng',\n  Timestamp('2023-08-04 14:22:49.017377'),\n  'reward',\n  'timestep',\n  0): Timestamp('2023-08-04 11:22:49.117377'),\n (Timestamp('2023-08-04 11:22:49.017377'),\n  'VB7',\n  'wang-cheng',\n  Timestamp('2023-08-04 14:22:49.017377'),\n  'reward',\n  'work',\n  0): 27.0,\n (Timestamp('2023-08-04 11:22:49.017377'),\n  'VB7',\n  'wang-cheng',\n  Timestamp('2023-08-04 14:22:49.017377'),\n  'state',\n  'brake',\n  0): 8.0,\n (Timestamp('2023-08-04 11:22:49.017377'),\n  'VB7',\n  'wang-cheng',\n  Timestamp('2023-08-04 14:22:49.017377'),\n  'state',\n  'brake',\n  1): 9.0,\n (Timestamp('2023-08-04 11:22:49.017377'),\n  'VB7',\n  'wang-cheng',\n  Timestamp('2023-08-04 14:22:49.017377'),\n  'state',\n  'brake',\n  2): 10.0,\n (Timestamp('2023-08-04 11:22:49.017377'),\n  'VB7',\n  'wang-cheng',\n  Timestamp('2023-08-04 14:22:49.017377'),\n  'state',\n  'brake',\n  3): 11.0,\n (Timestamp('2023-08-04 11:22:49.017377'),\n  'VB7',\n  'wang-cheng',\n  Timestamp('2023-08-04 14:22:49.017377'),\n  'state',\n  'thrust',\n  0): 4.0,\n (Timestamp('2023-08-04 11:22:49.017377'),\n  'VB7',\n  'wang-cheng',\n  Timestamp('2023-08-04 14:22:49.017377'),\n  'state',\n  'thrust',\n  1): 5.0,\n (Timestamp('2023-08-04 11:22:49.017377'),\n  'VB7',\n  'wang-cheng',\n  Timestamp('2023-08-04 14:22:49.017377'),\n  'state',\n  'thrust',\n  2): 6.0,\n (Timestamp('2023-08-04 11:22:49.017377'),\n  'VB7',\n  'wang-cheng',\n  Timestamp('2023-08-04 14:22:49.017377'),\n  'state',\n  'thrust',\n  3): 7.0,\n (Timestamp('2023-08-04 11:22:49.017377'),\n  'VB7',\n  'wang-cheng',\n  Timestamp('2023-08-04 14:22:49.017377'),\n  'state',\n  'timestep',\n  0): Timestamp('2023-08-04 11:22:49.017377'),\n (Timestamp('2023-08-04 11:22:49.017377'),\n  'VB7',\n  'wang-cheng',\n  Timestamp('2023-08-04 14:22:49.017377'),\n  'state',\n  'timestep',\n  1): Timestamp('2023-08-04 11:22:49.037377'),\n (Timestamp('2023-08-04 11:22:49.017377'),\n  'VB7',\n  'wang-cheng',\n  Timestamp('2023-08-04 14:22:49.017377'),\n  'state',\n  'timestep',\n  2): Timestamp('2023-08-04 11:22:49.057377'),\n (Timestamp('2023-08-04 11:22:49.017377'),\n  'VB7',\n  'wang-cheng',\n  Timestamp('2023-08-04 14:22:49.017377'),\n  'state',\n  'timestep',\n  3): Timestamp('2023-08-04 11:22:49.077377'),\n (Timestamp('2023-08-04 11:22:49.017377'),\n  'VB7',\n  'wang-cheng',\n  Timestamp('2023-08-04 14:22:49.017377'),\n  'state',\n  'velocity',\n  0): 0.0,\n (Timestamp('2023-08-04 11:22:49.017377'),\n  'VB7',\n  'wang-cheng',\n  Timestamp('2023-08-04 14:22:49.017377'),\n  'state',\n  'velocity',\n  1): 1.0,\n (Timestamp('2023-08-04 11:22:49.017377'),\n  'VB7',\n  'wang-cheng',\n  Timestamp('2023-08-04 14:22:49.017377'),\n  'state',\n  'velocity',\n  2): 2.0,\n (Timestamp('2023-08-04 11:22:49.017377'),\n  'VB7',\n  'wang-cheng',\n  Timestamp('2023-08-04 14:22:49.017377'),\n  'state',\n  'velocity',\n  3): 3.0,\n (Timestamp('2023-08-04 11:22:49.017377'),\n  'VB7',\n  'wang-cheng',\n  Timestamp('2023-08-04 15:22:49.017377'),\n  'action',\n  'r0',\n  0): 12.0,\n (Timestamp('2023-08-04 11:22:49.017377'),\n  'VB7',\n  'wang-cheng',\n  Timestamp('2023-08-04 15:22:49.017377'),\n  'action',\n  'r0',\n  1): 13.0,\n (Timestamp('2023-08-04 11:22:49.017377'),\n  'VB7',\n  'wang-cheng',\n  Timestamp('2023-08-04 15:22:49.017377'),\n  'action',\n  'r0',\n  2): 14.0,\n (Timestamp('2023-08-04 11:22:49.017377'),\n  'VB7',\n  'wang-cheng',\n  Timestamp('2023-08-04 15:22:49.017377'),\n  'action',\n  'r0',\n  3): 15.0,\n (Timestamp('2023-08-04 11:22:49.017377'),\n  'VB7',\n  'wang-cheng',\n  Timestamp('2023-08-04 15:22:49.017377'),\n  'action',\n  'r0',\n  4): 16.0,\n (Timestamp('2023-08-04 11:22:49.017377'),\n  'VB7',\n  'wang-cheng',\n  Timestamp('2023-08-04 15:22:49.017377'),\n  'action',\n  'r1',\n  0): 17.0,\n (Timestamp('2023-08-04 11:22:49.017377'),\n  'VB7',\n  'wang-cheng',\n  Timestamp('2023-08-04 15:22:49.017377'),\n  'action',\n  'r1',\n  1): 18.0,\n (Timestamp('2023-08-04 11:22:49.017377'),\n  'VB7',\n  'wang-cheng',\n  Timestamp('2023-08-04 15:22:49.017377'),\n  'action',\n  'r1',\n  2): 19.0,\n (Timestamp('2023-08-04 11:22:49.017377'),\n  'VB7',\n  'wang-cheng',\n  Timestamp('2023-08-04 15:22:49.017377'),\n  'action',\n  'r1',\n  3): 20.0,\n (Timestamp('2023-08-04 11:22:49.017377'),\n  'VB7',\n  'wang-cheng',\n  Timestamp('2023-08-04 15:22:49.017377'),\n  'action',\n  'r1',\n  4): 21.0,\n (Timestamp('2023-08-04 11:22:49.017377'),\n  'VB7',\n  'wang-cheng',\n  Timestamp('2023-08-04 15:22:49.017377'),\n  'action',\n  'r2',\n  0): 22.0,\n (Timestamp('2023-08-04 11:22:49.017377'),\n  'VB7',\n  'wang-cheng',\n  Timestamp('2023-08-04 15:22:49.017377'),\n  'action',\n  'r2',\n  1): 23.0,\n (Timestamp('2023-08-04 11:22:49.017377'),\n  'VB7',\n  'wang-cheng',\n  Timestamp('2023-08-04 15:22:49.017377'),\n  'action',\n  'r2',\n  2): 24.0,\n (Timestamp('2023-08-04 11:22:49.017377'),\n  'VB7',\n  'wang-cheng',\n  Timestamp('2023-08-04 15:22:49.017377'),\n  'action',\n  'r2',\n  3): 25.0,\n (Timestamp('2023-08-04 11:22:49.017377'),\n  'VB7',\n  'wang-cheng',\n  Timestamp('2023-08-04 15:22:49.017377'),\n  'action',\n  'r2',\n  4): 26.0,\n (Timestamp('2023-08-04 11:22:49.017377'),\n  'VB7',\n  'wang-cheng',\n  Timestamp('2023-08-04 15:22:49.017377'),\n  'action',\n  'speed',\n  0): 40.0,\n (Timestamp('2023-08-04 11:22:49.017377'),\n  'VB7',\n  'wang-cheng',\n  Timestamp('2023-08-04 15:22:49.017377'),\n  'action',\n  'speed',\n  1): 50.0,\n (Timestamp('2023-08-04 11:22:49.017377'),\n  'VB7',\n  'wang-cheng',\n  Timestamp('2023-08-04 15:22:49.017377'),\n  'action',\n  'speed',\n  2): 60.0,\n (Timestamp('2023-08-04 11:22:49.017377'),\n  'VB7',\n  'wang-cheng',\n  Timestamp('2023-08-04 15:22:49.017377'),\n  'action',\n  'throttle',\n  0): 0.0,\n (Timestamp('2023-08-04 11:22:49.017377'),\n  'VB7',\n  'wang-cheng',\n  Timestamp('2023-08-04 15:22:49.017377'),\n  'action',\n  'throttle',\n  1): 0.25,\n (Timestamp('2023-08-04 11:22:49.017377'),\n  'VB7',\n  'wang-cheng',\n  Timestamp('2023-08-04 15:22:49.017377'),\n  'action',\n  'throttle',\n  2): 0.5,\n (Timestamp('2023-08-04 11:22:49.017377'),\n  'VB7',\n  'wang-cheng',\n  Timestamp('2023-08-04 15:22:49.017377'),\n  'action',\n  'throttle',\n  3): 0.75,\n (Timestamp('2023-08-04 11:22:49.017377'),\n  'VB7',\n  'wang-cheng',\n  Timestamp('2023-08-04 15:22:49.017377'),\n  'action',\n  'throttle',\n  4): 1.0,\n (Timestamp('2023-08-04 11:22:49.017377'),\n  'VB7',\n  'wang-cheng',\n  Timestamp('2023-08-04 15:22:49.017377'),\n  'action',\n  'timestep',\n  0): Timestamp('2023-08-04 11:22:49.117377'),\n (Timestamp('2023-08-04 11:22:49.017377'),\n  'VB7',\n  'wang-cheng',\n  Timestamp('2023-08-04 15:22:49.017377'),\n  'action',\n  'timestep',\n  1): Timestamp('2023-08-04 11:22:49.137377'),\n (Timestamp('2023-08-04 11:22:49.017377'),\n  'VB7',\n  'wang-cheng',\n  Timestamp('2023-08-04 15:22:49.017377'),\n  'action',\n  'timestep',\n  2): Timestamp('2023-08-04 11:22:49.157377'),\n (Timestamp('2023-08-04 11:22:49.017377'),\n  'VB7',\n  'wang-cheng',\n  Timestamp('2023-08-04 15:22:49.017377'),\n  'nstate',\n  'brake',\n  0): 37.0,\n (Timestamp('2023-08-04 11:22:49.017377'),\n  'VB7',\n  'wang-cheng',\n  Timestamp('2023-08-04 15:22:49.017377'),\n  'nstate',\n  'brake',\n  1): 38.0,\n (Timestamp('2023-08-04 11:22:49.017377'),\n  'VB7',\n  'wang-cheng',\n  Timestamp('2023-08-04 15:22:49.017377'),\n  'nstate',\n  'brake',\n  2): 39.0,\n (Timestamp('2023-08-04 11:22:49.017377'),\n  'VB7',\n  'wang-cheng',\n  Timestamp('2023-08-04 15:22:49.017377'),\n  'nstate',\n  'brake',\n  3): 40.0,\n (Timestamp('2023-08-04 11:22:49.017377'),\n  'VB7',\n  'wang-cheng',\n  Timestamp('2023-08-04 15:22:49.017377'),\n  'nstate',\n  'thrust',\n  0): 33.0,\n (Timestamp('2023-08-04 11:22:49.017377'),\n  'VB7',\n  'wang-cheng',\n  Timestamp('2023-08-04 15:22:49.017377'),\n  'nstate',\n  'thrust',\n  1): 34.0,\n (Timestamp('2023-08-04 11:22:49.017377'),\n  'VB7',\n  'wang-cheng',\n  Timestamp('2023-08-04 15:22:49.017377'),\n  'nstate',\n  'thrust',\n  2): 35.0,\n (Timestamp('2023-08-04 11:22:49.017377'),\n  'VB7',\n  'wang-cheng',\n  Timestamp('2023-08-04 15:22:49.017377'),\n  'nstate',\n  'thrust',\n  3): 36.0,\n (Timestamp('2023-08-04 11:22:49.017377'),\n  'VB7',\n  'wang-cheng',\n  Timestamp('2023-08-04 15:22:49.017377'),\n  'nstate',\n  'timestep',\n  0): Timestamp('2023-08-04 11:22:54.017377'),\n (Timestamp('2023-08-04 11:22:49.017377'),\n  'VB7',\n  'wang-cheng',\n  Timestamp('2023-08-04 15:22:49.017377'),\n  'nstate',\n  'timestep',\n  1): Timestamp('2023-08-04 11:22:54.037377'),\n (Timestamp('2023-08-04 11:22:49.017377'),\n  'VB7',\n  'wang-cheng',\n  Timestamp('2023-08-04 15:22:49.017377'),\n  'nstate',\n  'timestep',\n  2): Timestamp('2023-08-04 11:22:54.057377'),\n (Timestamp('2023-08-04 11:22:49.017377'),\n  'VB7',\n  'wang-cheng',\n  Timestamp('2023-08-04 15:22:49.017377'),\n  'nstate',\n  'timestep',\n  3): Timestamp('2023-08-04 11:22:54.077377'),\n (Timestamp('2023-08-04 11:22:49.017377'),\n  'VB7',\n  'wang-cheng',\n  Timestamp('2023-08-04 15:22:49.017377'),\n  'nstate',\n  'velocity',\n  0): 29.0,\n (Timestamp('2023-08-04 11:22:49.017377'),\n  'VB7',\n  'wang-cheng',\n  Timestamp('2023-08-04 15:22:49.017377'),\n  'nstate',\n  'velocity',\n  1): 30.0,\n (Timestamp('2023-08-04 11:22:49.017377'),\n  'VB7',\n  'wang-cheng',\n  Timestamp('2023-08-04 15:22:49.017377'),\n  'nstate',\n  'velocity',\n  2): 31.0,\n (Timestamp('2023-08-04 11:22:49.017377'),\n  'VB7',\n  'wang-cheng',\n  Timestamp('2023-08-04 15:22:49.017377'),\n  'nstate',\n  'velocity',\n  3): 32.0,\n (Timestamp('2023-08-04 11:22:49.017377'),\n  'VB7',\n  'wang-cheng',\n  Timestamp('2023-08-04 15:22:49.017377'),\n  'reward',\n  'timestep',\n  0): Timestamp('2023-08-04 11:22:49.117377'),\n (Timestamp('2023-08-04 11:22:49.017377'),\n  'VB7',\n  'wang-cheng',\n  Timestamp('2023-08-04 15:22:49.017377'),\n  'reward',\n  'work',\n  0): 27.0,\n (Timestamp('2023-08-04 11:22:49.017377'),\n  'VB7',\n  'wang-cheng',\n  Timestamp('2023-08-04 15:22:49.017377'),\n  'state',\n  'brake',\n  0): 8.0,\n (Timestamp('2023-08-04 11:22:49.017377'),\n  'VB7',\n  'wang-cheng',\n  Timestamp('2023-08-04 15:22:49.017377'),\n  'state',\n  'brake',\n  1): 9.0,\n (Timestamp('2023-08-04 11:22:49.017377'),\n  'VB7',\n  'wang-cheng',\n  Timestamp('2023-08-04 15:22:49.017377'),\n  'state',\n  'brake',\n  2): 10.0,\n (Timestamp('2023-08-04 11:22:49.017377'),\n  'VB7',\n  'wang-cheng',\n  Timestamp('2023-08-04 15:22:49.017377'),\n  'state',\n  'brake',\n  3): 11.0,\n (Timestamp('2023-08-04 11:22:49.017377'),\n  'VB7',\n  'wang-cheng',\n  Timestamp('2023-08-04 15:22:49.017377'),\n  'state',\n  'thrust',\n  0): 4.0,\n (Timestamp('2023-08-04 11:22:49.017377'),\n  'VB7',\n  'wang-cheng',\n  Timestamp('2023-08-04 15:22:49.017377'),\n  'state',\n  'thrust',\n  1): 5.0,\n (Timestamp('2023-08-04 11:22:49.017377'),\n  'VB7',\n  'wang-cheng',\n  Timestamp('2023-08-04 15:22:49.017377'),\n  'state',\n  'thrust',\n  2): 6.0,\n (Timestamp('2023-08-04 11:22:49.017377'),\n  'VB7',\n  'wang-cheng',\n  Timestamp('2023-08-04 15:22:49.017377'),\n  'state',\n  'thrust',\n  3): 7.0,\n (Timestamp('2023-08-04 11:22:49.017377'),\n  'VB7',\n  'wang-cheng',\n  Timestamp('2023-08-04 15:22:49.017377'),\n  'state',\n  'timestep',\n  0): Timestamp('2023-08-04 11:22:49.017377'),\n (Timestamp('2023-08-04 11:22:49.017377'),\n  'VB7',\n  'wang-cheng',\n  Timestamp('2023-08-04 15:22:49.017377'),\n  'state',\n  'timestep',\n  1): Timestamp('2023-08-04 11:22:49.037377'),\n (Timestamp('2023-08-04 11:22:49.017377'),\n  'VB7',\n  'wang-cheng',\n  Timestamp('2023-08-04 15:22:49.017377'),\n  'state',\n  'timestep',\n  2): Timestamp('2023-08-04 11:22:49.057377'),\n (Timestamp('2023-08-04 11:22:49.017377'),\n  'VB7',\n  'wang-cheng',\n  Timestamp('2023-08-04 15:22:49.017377'),\n  'state',\n  'timestep',\n  3): Timestamp('2023-08-04 11:22:49.077377'),\n (Timestamp('2023-08-04 11:22:49.017377'),\n  'VB7',\n  'wang-cheng',\n  Timestamp('2023-08-04 15:22:49.017377'),\n  'state',\n  'velocity',\n  0): 0.0,\n (Timestamp('2023-08-04 11:22:49.017377'),\n  'VB7',\n  'wang-cheng',\n  Timestamp('2023-08-04 15:22:49.017377'),\n  'state',\n  'velocity',\n  1): 1.0,\n (Timestamp('2023-08-04 11:22:49.017377'),\n  'VB7',\n  'wang-cheng',\n  Timestamp('2023-08-04 15:22:49.017377'),\n  'state',\n  'velocity',\n  2): 2.0,\n (Timestamp('2023-08-04 11:22:49.017377'),\n  'VB7',\n  'wang-cheng',\n  Timestamp('2023-08-04 15:22:49.017377'),\n  'state',\n  'velocity',\n  3): 3.0,\n (Timestamp('2023-08-04 11:22:49.017377'),\n  'VB7',\n  'wang-cheng',\n  Timestamp('2023-08-04 16:22:49.017377'),\n  'action',\n  'r0',\n  0): 12.0,\n (Timestamp('2023-08-04 11:22:49.017377'),\n  'VB7',\n  'wang-cheng',\n  Timestamp('2023-08-04 16:22:49.017377'),\n  'action',\n  'r0',\n  1): 13.0,\n (Timestamp('2023-08-04 11:22:49.017377'),\n  'VB7',\n  'wang-cheng',\n  Timestamp('2023-08-04 16:22:49.017377'),\n  'action',\n  'r0',\n  2): 14.0,\n (Timestamp('2023-08-04 11:22:49.017377'),\n  'VB7',\n  'wang-cheng',\n  Timestamp('2023-08-04 16:22:49.017377'),\n  'action',\n  'r0',\n  3): 15.0,\n (Timestamp('2023-08-04 11:22:49.017377'),\n  'VB7',\n  'wang-cheng',\n  Timestamp('2023-08-04 16:22:49.017377'),\n  'action',\n  'r0',\n  4): 16.0,\n (Timestamp('2023-08-04 11:22:49.017377'),\n  'VB7',\n  'wang-cheng',\n  Timestamp('2023-08-04 16:22:49.017377'),\n  'action',\n  'r1',\n  0): 17.0,\n (Timestamp('2023-08-04 11:22:49.017377'),\n  'VB7',\n  'wang-cheng',\n  Timestamp('2023-08-04 16:22:49.017377'),\n  'action',\n  'r1',\n  1): 18.0,\n (Timestamp('2023-08-04 11:22:49.017377'),\n  'VB7',\n  'wang-cheng',\n  Timestamp('2023-08-04 16:22:49.017377'),\n  'action',\n  'r1',\n  2): 19.0,\n (Timestamp('2023-08-04 11:22:49.017377'),\n  'VB7',\n  'wang-cheng',\n  Timestamp('2023-08-04 16:22:49.017377'),\n  'action',\n  'r1',\n  3): 20.0,\n (Timestamp('2023-08-04 11:22:49.017377'),\n  'VB7',\n  'wang-cheng',\n  Timestamp('2023-08-04 16:22:49.017377'),\n  'action',\n  'r1',\n  4): 21.0,\n (Timestamp('2023-08-04 11:22:49.017377'),\n  'VB7',\n  'wang-cheng',\n  Timestamp('2023-08-04 16:22:49.017377'),\n  'action',\n  'r2',\n  0): 22.0,\n (Timestamp('2023-08-04 11:22:49.017377'),\n  'VB7',\n  'wang-cheng',\n  Timestamp('2023-08-04 16:22:49.017377'),\n  'action',\n  'r2',\n  1): 23.0,\n (Timestamp('2023-08-04 11:22:49.017377'),\n  'VB7',\n  'wang-cheng',\n  Timestamp('2023-08-04 16:22:49.017377'),\n  'action',\n  'r2',\n  2): 24.0,\n (Timestamp('2023-08-04 11:22:49.017377'),\n  'VB7',\n  'wang-cheng',\n  Timestamp('2023-08-04 16:22:49.017377'),\n  'action',\n  'r2',\n  3): 25.0,\n (Timestamp('2023-08-04 11:22:49.017377'),\n  'VB7',\n  'wang-cheng',\n  Timestamp('2023-08-04 16:22:49.017377'),\n  'action',\n  'r2',\n  4): 26.0,\n (Timestamp('2023-08-04 11:22:49.017377'),\n  'VB7',\n  'wang-cheng',\n  Timestamp('2023-08-04 16:22:49.017377'),\n  'action',\n  'speed',\n  0): 40.0,\n (Timestamp('2023-08-04 11:22:49.017377'),\n  'VB7',\n  'wang-cheng',\n  Timestamp('2023-08-04 16:22:49.017377'),\n  'action',\n  'speed',\n  1): 50.0,\n (Timestamp('2023-08-04 11:22:49.017377'),\n  'VB7',\n  'wang-cheng',\n  Timestamp('2023-08-04 16:22:49.017377'),\n  'action',\n  'speed',\n  2): 60.0,\n (Timestamp('2023-08-04 11:22:49.017377'),\n  'VB7',\n  'wang-cheng',\n  Timestamp('2023-08-04 16:22:49.017377'),\n  'action',\n  'throttle',\n  0): 0.0,\n (Timestamp('2023-08-04 11:22:49.017377'),\n  'VB7',\n  'wang-cheng',\n  Timestamp('2023-08-04 16:22:49.017377'),\n  'action',\n  'throttle',\n  1): 0.25,\n (Timestamp('2023-08-04 11:22:49.017377'),\n  'VB7',\n  'wang-cheng',\n  Timestamp('2023-08-04 16:22:49.017377'),\n  'action',\n  'throttle',\n  2): 0.5,\n (Timestamp('2023-08-04 11:22:49.017377'),\n  'VB7',\n  'wang-cheng',\n  Timestamp('2023-08-04 16:22:49.017377'),\n  'action',\n  'throttle',\n  3): 0.75,\n (Timestamp('2023-08-04 11:22:49.017377'),\n  'VB7',\n  'wang-cheng',\n  Timestamp('2023-08-04 16:22:49.017377'),\n  'action',\n  'throttle',\n  4): 1.0,\n (Timestamp('2023-08-04 11:22:49.017377'),\n  'VB7',\n  'wang-cheng',\n  Timestamp('2023-08-04 16:22:49.017377'),\n  'action',\n  'timestep',\n  0): Timestamp('2023-08-04 11:22:49.117377'),\n (Timestamp('2023-08-04 11:22:49.017377'),\n  'VB7',\n  'wang-cheng',\n  Timestamp('2023-08-04 16:22:49.017377'),\n  'action',\n  'timestep',\n  1): Timestamp('2023-08-04 11:22:49.137377'),\n (Timestamp('2023-08-04 11:22:49.017377'),\n  'VB7',\n  'wang-cheng',\n  Timestamp('2023-08-04 16:22:49.017377'),\n  'action',\n  'timestep',\n  2): Timestamp('2023-08-04 11:22:49.157377'),\n (Timestamp('2023-08-04 11:22:49.017377'),\n  'VB7',\n  'wang-cheng',\n  Timestamp('2023-08-04 16:22:49.017377'),\n  'nstate',\n  'brake',\n  0): 37.0,\n (Timestamp('2023-08-04 11:22:49.017377'),\n  'VB7',\n  'wang-cheng',\n  Timestamp('2023-08-04 16:22:49.017377'),\n  'nstate',\n  'brake',\n  1): 38.0,\n (Timestamp('2023-08-04 11:22:49.017377'),\n  'VB7',\n  'wang-cheng',\n  Timestamp('2023-08-04 16:22:49.017377'),\n  'nstate',\n  'brake',\n  2): 39.0,\n (Timestamp('2023-08-04 11:22:49.017377'),\n  'VB7',\n  'wang-cheng',\n  Timestamp('2023-08-04 16:22:49.017377'),\n  'nstate',\n  'brake',\n  3): 40.0,\n (Timestamp('2023-08-04 11:22:49.017377'),\n  'VB7',\n  'wang-cheng',\n  Timestamp('2023-08-04 16:22:49.017377'),\n  'nstate',\n  'thrust',\n  0): 33.0,\n (Timestamp('2023-08-04 11:22:49.017377'),\n  'VB7',\n  'wang-cheng',\n  Timestamp('2023-08-04 16:22:49.017377'),\n  'nstate',\n  'thrust',\n  1): 34.0,\n (Timestamp('2023-08-04 11:22:49.017377'),\n  'VB7',\n  'wang-cheng',\n  Timestamp('2023-08-04 16:22:49.017377'),\n  'nstate',\n  'thrust',\n  2): 35.0,\n (Timestamp('2023-08-04 11:22:49.017377'),\n  'VB7',\n  'wang-cheng',\n  Timestamp('2023-08-04 16:22:49.017377'),\n  'nstate',\n  'thrust',\n  3): 36.0,\n (Timestamp('2023-08-04 11:22:49.017377'),\n  'VB7',\n  'wang-cheng',\n  Timestamp('2023-08-04 16:22:49.017377'),\n  'nstate',\n  'timestep',\n  0): Timestamp('2023-08-04 11:22:54.017377'),\n (Timestamp('2023-08-04 11:22:49.017377'),\n  'VB7',\n  'wang-cheng',\n  Timestamp('2023-08-04 16:22:49.017377'),\n  'nstate',\n  'timestep',\n  1): Timestamp('2023-08-04 11:22:54.037377'),\n (Timestamp('2023-08-04 11:22:49.017377'),\n  'VB7',\n  'wang-cheng',\n  Timestamp('2023-08-04 16:22:49.017377'),\n  'nstate',\n  'timestep',\n  2): Timestamp('2023-08-04 11:22:54.057377'),\n (Timestamp('2023-08-04 11:22:49.017377'),\n  'VB7',\n  'wang-cheng',\n  Timestamp('2023-08-04 16:22:49.017377'),\n  'nstate',\n  'timestep',\n  3): Timestamp('2023-08-04 11:22:54.077377'),\n (Timestamp('2023-08-04 11:22:49.017377'),\n  'VB7',\n  'wang-cheng',\n  Timestamp('2023-08-04 16:22:49.017377'),\n  'nstate',\n  'velocity',\n  0): 29.0,\n (Timestamp('2023-08-04 11:22:49.017377'),\n  'VB7',\n  'wang-cheng',\n  Timestamp('2023-08-04 16:22:49.017377'),\n  'nstate',\n  'velocity',\n  1): 30.0,\n (Timestamp('2023-08-04 11:22:49.017377'),\n  'VB7',\n  'wang-cheng',\n  Timestamp('2023-08-04 16:22:49.017377'),\n  'nstate',\n  'velocity',\n  2): 31.0,\n (Timestamp('2023-08-04 11:22:49.017377'),\n  'VB7',\n  'wang-cheng',\n  Timestamp('2023-08-04 16:22:49.017377'),\n  'nstate',\n  'velocity',\n  3): 32.0,\n (Timestamp('2023-08-04 11:22:49.017377'),\n  'VB7',\n  'wang-cheng',\n  Timestamp('2023-08-04 16:22:49.017377'),\n  'reward',\n  'timestep',\n  0): Timestamp('2023-08-04 11:22:49.117377'),\n (Timestamp('2023-08-04 11:22:49.017377'),\n  'VB7',\n  'wang-cheng',\n  Timestamp('2023-08-04 16:22:49.017377'),\n  'reward',\n  'work',\n  0): 27.0,\n (Timestamp('2023-08-04 11:22:49.017377'),\n  'VB7',\n  'wang-cheng',\n  Timestamp('2023-08-04 16:22:49.017377'),\n  'state',\n  'brake',\n  0): 8.0,\n (Timestamp('2023-08-04 11:22:49.017377'),\n  'VB7',\n  'wang-cheng',\n  Timestamp('2023-08-04 16:22:49.017377'),\n  'state',\n  'brake',\n  1): 9.0,\n (Timestamp('2023-08-04 11:22:49.017377'),\n  'VB7',\n  'wang-cheng',\n  Timestamp('2023-08-04 16:22:49.017377'),\n  'state',\n  'brake',\n  2): 10.0,\n (Timestamp('2023-08-04 11:22:49.017377'),\n  'VB7',\n  'wang-cheng',\n  Timestamp('2023-08-04 16:22:49.017377'),\n  'state',\n  'brake',\n  3): 11.0,\n (Timestamp('2023-08-04 11:22:49.017377'),\n  'VB7',\n  'wang-cheng',\n  Timestamp('2023-08-04 16:22:49.017377'),\n  'state',\n  'thrust',\n  0): 4.0,\n (Timestamp('2023-08-04 11:22:49.017377'),\n  'VB7',\n  'wang-cheng',\n  Timestamp('2023-08-04 16:22:49.017377'),\n  'state',\n  'thrust',\n  1): 5.0,\n (Timestamp('2023-08-04 11:22:49.017377'),\n  'VB7',\n  'wang-cheng',\n  Timestamp('2023-08-04 16:22:49.017377'),\n  'state',\n  'thrust',\n  2): 6.0,\n (Timestamp('2023-08-04 11:22:49.017377'),\n  'VB7',\n  'wang-cheng',\n  Timestamp('2023-08-04 16:22:49.017377'),\n  'state',\n  'thrust',\n  3): 7.0,\n (Timestamp('2023-08-04 11:22:49.017377'),\n  'VB7',\n  'wang-cheng',\n  Timestamp('2023-08-04 16:22:49.017377'),\n  'state',\n  'timestep',\n  0): Timestamp('2023-08-04 11:22:49.017377'),\n (Timestamp('2023-08-04 11:22:49.017377'),\n  'VB7',\n  'wang-cheng',\n  Timestamp('2023-08-04 16:22:49.017377'),\n  'state',\n  'timestep',\n  1): Timestamp('2023-08-04 11:22:49.037377'),\n (Timestamp('2023-08-04 11:22:49.017377'),\n  'VB7',\n  'wang-cheng',\n  Timestamp('2023-08-04 16:22:49.017377'),\n  'state',\n  'timestep',\n  2): Timestamp('2023-08-04 11:22:49.057377'),\n (Timestamp('2023-08-04 11:22:49.017377'),\n  'VB7',\n  'wang-cheng',\n  Timestamp('2023-08-04 16:22:49.017377'),\n  'state',\n  'timestep',\n  3): Timestamp('2023-08-04 11:22:49.077377'),\n (Timestamp('2023-08-04 11:22:49.017377'),\n  'VB7',\n  'wang-cheng',\n  Timestamp('2023-08-04 16:22:49.017377'),\n  'state',\n  'velocity',\n  0): 0.0,\n (Timestamp('2023-08-04 11:22:49.017377'),\n  'VB7',\n  'wang-cheng',\n  Timestamp('2023-08-04 16:22:49.017377'),\n  'state',\n  'velocity',\n  1): 1.0,\n (Timestamp('2023-08-04 11:22:49.017377'),\n  'VB7',\n  'wang-cheng',\n  Timestamp('2023-08-04 16:22:49.017377'),\n  'state',\n  'velocity',\n  2): 2.0,\n (Timestamp('2023-08-04 11:22:49.017377'),\n  'VB7',\n  'wang-cheng',\n  Timestamp('2023-08-04 16:22:49.017377'),\n  'state',\n  'velocity',\n  3): 3.0}"
     },
     "execution_count": 62,
     "metadata": {},
     "output_type": "execute_result"
    },
    {
     "data": {
      "text/plain": "300"
     },
     "execution_count": 62,
     "metadata": {},
     "output_type": "execute_result"
    }
   ],
   "source": [
    "\n",
    "dict_observations = {(meta['episodestart'], meta['vehicle'], meta['driver'], meta['timestamp'], key1, key2, key3): value\n",
    "                        for meta, obs in zip(df_rows['meta'],df_rows['observation'])\n",
    "                        for key1, obs1 in obs.items()\n",
    "                        for key2, obs2 in obs1.items()\n",
    "                        for key3, value in obs2.items()}\n",
    "\n",
    "dict_observations\n",
    "len(dict_observations)"
   ]
  },
  {
   "cell_type": "code",
   "execution_count": 63,
   "metadata": {
    "ExecuteTime": {
     "end_time": "2023-08-04T03:23:01.878552975Z",
     "start_time": "2023-08-04T03:22:49.893658635Z"
    }
   },
   "outputs": [
    {
     "data": {
      "text/plain": "episodestart                vehicle  driver      timestamp                   qtuple  rows      idx\n2023-08-04 11:22:49.017377  VB7      wang-cheng  2023-08-04 12:22:49.017377  action  r0        0                            12.0\n                                                                                               1                            13.0\n                                                                                               2                            14.0\n                                                                                               3                            15.0\n                                                                                               4                            16.0\n                                                                                                                 ...            \n                                                 2023-08-04 16:22:49.017377  state   timestep  3      2023-08-04 11:22:49.077377\n                                                                                     velocity  0                             0.0\n                                                                                               1                             1.0\n                                                                                               2                             2.0\n                                                                                               3                             3.0\nLength: 300, dtype: object"
     },
     "execution_count": 63,
     "metadata": {},
     "output_type": "execute_result"
    }
   ],
   "source": [
    "ser_decoded = pd.Series(dict_observations)\n",
    "ser_decoded.index.names = ['episodestart', 'vehicle', 'driver', 'timestamp', 'qtuple', 'rows', 'idx']\n",
    "ser_decoded"
   ]
  },
  {
   "cell_type": "code",
   "execution_count": 64,
   "metadata": {
    "ExecuteTime": {
     "end_time": "2023-08-04T03:23:01.879196664Z",
     "start_time": "2023-08-04T03:22:49.934393449Z"
    }
   },
   "outputs": [
    {
     "data": {
      "text/plain": "qtuple                                                                   action  \\\nrows                                                                         r0   \nidx                                                                           0   \nepisodestart               vehicle driver     timestamp                           \n2023-08-04 11:22:49.017377 VB7     wang-cheng 2023-08-04 12:22:49.017377   12.0   \n                                              2023-08-04 13:22:49.017377   12.0   \n                                              2023-08-04 14:22:49.017377   12.0   \n                                              2023-08-04 15:22:49.017377   12.0   \n                                              2023-08-04 16:22:49.017377   12.0   \n\nqtuple                                                                          \\\nrows                                                                             \nidx                                                                          1   \nepisodestart               vehicle driver     timestamp                          \n2023-08-04 11:22:49.017377 VB7     wang-cheng 2023-08-04 12:22:49.017377  13.0   \n                                              2023-08-04 13:22:49.017377  13.0   \n                                              2023-08-04 14:22:49.017377  13.0   \n                                              2023-08-04 15:22:49.017377  13.0   \n                                              2023-08-04 16:22:49.017377  13.0   \n\nqtuple                                                                          \\\nrows                                                                             \nidx                                                                          2   \nepisodestart               vehicle driver     timestamp                          \n2023-08-04 11:22:49.017377 VB7     wang-cheng 2023-08-04 12:22:49.017377  14.0   \n                                              2023-08-04 13:22:49.017377  14.0   \n                                              2023-08-04 14:22:49.017377  14.0   \n                                              2023-08-04 15:22:49.017377  14.0   \n                                              2023-08-04 16:22:49.017377  14.0   \n\nqtuple                                                                          \\\nrows                                                                             \nidx                                                                          3   \nepisodestart               vehicle driver     timestamp                          \n2023-08-04 11:22:49.017377 VB7     wang-cheng 2023-08-04 12:22:49.017377  15.0   \n                                              2023-08-04 13:22:49.017377  15.0   \n                                              2023-08-04 14:22:49.017377  15.0   \n                                              2023-08-04 15:22:49.017377  15.0   \n                                              2023-08-04 16:22:49.017377  15.0   \n\nqtuple                                                                          \\\nrows                                                                             \nidx                                                                          4   \nepisodestart               vehicle driver     timestamp                          \n2023-08-04 11:22:49.017377 VB7     wang-cheng 2023-08-04 12:22:49.017377  16.0   \n                                              2023-08-04 13:22:49.017377  16.0   \n                                              2023-08-04 14:22:49.017377  16.0   \n                                              2023-08-04 15:22:49.017377  16.0   \n                                              2023-08-04 16:22:49.017377  16.0   \n\nqtuple                                                                          \\\nrows                                                                        r1   \nidx                                                                          0   \nepisodestart               vehicle driver     timestamp                          \n2023-08-04 11:22:49.017377 VB7     wang-cheng 2023-08-04 12:22:49.017377  17.0   \n                                              2023-08-04 13:22:49.017377  17.0   \n                                              2023-08-04 14:22:49.017377  17.0   \n                                              2023-08-04 15:22:49.017377  17.0   \n                                              2023-08-04 16:22:49.017377  17.0   \n\nqtuple                                                                          \\\nrows                                                                             \nidx                                                                          1   \nepisodestart               vehicle driver     timestamp                          \n2023-08-04 11:22:49.017377 VB7     wang-cheng 2023-08-04 12:22:49.017377  18.0   \n                                              2023-08-04 13:22:49.017377  18.0   \n                                              2023-08-04 14:22:49.017377  18.0   \n                                              2023-08-04 15:22:49.017377  18.0   \n                                              2023-08-04 16:22:49.017377  18.0   \n\nqtuple                                                                          \\\nrows                                                                             \nidx                                                                          2   \nepisodestart               vehicle driver     timestamp                          \n2023-08-04 11:22:49.017377 VB7     wang-cheng 2023-08-04 12:22:49.017377  19.0   \n                                              2023-08-04 13:22:49.017377  19.0   \n                                              2023-08-04 14:22:49.017377  19.0   \n                                              2023-08-04 15:22:49.017377  19.0   \n                                              2023-08-04 16:22:49.017377  19.0   \n\nqtuple                                                                          \\\nrows                                                                             \nidx                                                                          3   \nepisodestart               vehicle driver     timestamp                          \n2023-08-04 11:22:49.017377 VB7     wang-cheng 2023-08-04 12:22:49.017377  20.0   \n                                              2023-08-04 13:22:49.017377  20.0   \n                                              2023-08-04 14:22:49.017377  20.0   \n                                              2023-08-04 15:22:49.017377  20.0   \n                                              2023-08-04 16:22:49.017377  20.0   \n\nqtuple                                                                          \\\nrows                                                                             \nidx                                                                          4   \nepisodestart               vehicle driver     timestamp                          \n2023-08-04 11:22:49.017377 VB7     wang-cheng 2023-08-04 12:22:49.017377  21.0   \n                                              2023-08-04 13:22:49.017377  21.0   \n                                              2023-08-04 14:22:49.017377  21.0   \n                                              2023-08-04 15:22:49.017377  21.0   \n                                              2023-08-04 16:22:49.017377  21.0   \n\nqtuple                                                                    ...  \\\nrows                                                                      ...   \nidx                                                                       ...   \nepisodestart               vehicle driver     timestamp                   ...   \n2023-08-04 11:22:49.017377 VB7     wang-cheng 2023-08-04 12:22:49.017377  ...   \n                                              2023-08-04 13:22:49.017377  ...   \n                                              2023-08-04 14:22:49.017377  ...   \n                                              2023-08-04 15:22:49.017377  ...   \n                                              2023-08-04 16:22:49.017377  ...   \n\nqtuple                                                                    state  \\\nrows                                                                     thrust   \nidx                                                                           2   \nepisodestart               vehicle driver     timestamp                           \n2023-08-04 11:22:49.017377 VB7     wang-cheng 2023-08-04 12:22:49.017377    6.0   \n                                              2023-08-04 13:22:49.017377    6.0   \n                                              2023-08-04 14:22:49.017377    6.0   \n                                              2023-08-04 15:22:49.017377    6.0   \n                                              2023-08-04 16:22:49.017377    6.0   \n\nqtuple                                                                         \\\nrows                                                                            \nidx                                                                         3   \nepisodestart               vehicle driver     timestamp                         \n2023-08-04 11:22:49.017377 VB7     wang-cheng 2023-08-04 12:22:49.017377  7.0   \n                                              2023-08-04 13:22:49.017377  7.0   \n                                              2023-08-04 14:22:49.017377  7.0   \n                                              2023-08-04 15:22:49.017377  7.0   \n                                              2023-08-04 16:22:49.017377  7.0   \n\nqtuple                                                                                                \\\nrows                                                                                        timestep   \nidx                                                                                                0   \nepisodestart               vehicle driver     timestamp                                                \n2023-08-04 11:22:49.017377 VB7     wang-cheng 2023-08-04 12:22:49.017377  2023-08-04 11:22:49.017377   \n                                              2023-08-04 13:22:49.017377  2023-08-04 11:22:49.017377   \n                                              2023-08-04 14:22:49.017377  2023-08-04 11:22:49.017377   \n                                              2023-08-04 15:22:49.017377  2023-08-04 11:22:49.017377   \n                                              2023-08-04 16:22:49.017377  2023-08-04 11:22:49.017377   \n\nqtuple                                                                                                \\\nrows                                                                                                   \nidx                                                                                                1   \nepisodestart               vehicle driver     timestamp                                                \n2023-08-04 11:22:49.017377 VB7     wang-cheng 2023-08-04 12:22:49.017377  2023-08-04 11:22:49.037377   \n                                              2023-08-04 13:22:49.017377  2023-08-04 11:22:49.037377   \n                                              2023-08-04 14:22:49.017377  2023-08-04 11:22:49.037377   \n                                              2023-08-04 15:22:49.017377  2023-08-04 11:22:49.037377   \n                                              2023-08-04 16:22:49.017377  2023-08-04 11:22:49.037377   \n\nqtuple                                                                                                \\\nrows                                                                                                   \nidx                                                                                                2   \nepisodestart               vehicle driver     timestamp                                                \n2023-08-04 11:22:49.017377 VB7     wang-cheng 2023-08-04 12:22:49.017377  2023-08-04 11:22:49.057377   \n                                              2023-08-04 13:22:49.017377  2023-08-04 11:22:49.057377   \n                                              2023-08-04 14:22:49.017377  2023-08-04 11:22:49.057377   \n                                              2023-08-04 15:22:49.017377  2023-08-04 11:22:49.057377   \n                                              2023-08-04 16:22:49.017377  2023-08-04 11:22:49.057377   \n\nqtuple                                                                                                \\\nrows                                                                                                   \nidx                                                                                                3   \nepisodestart               vehicle driver     timestamp                                                \n2023-08-04 11:22:49.017377 VB7     wang-cheng 2023-08-04 12:22:49.017377  2023-08-04 11:22:49.077377   \n                                              2023-08-04 13:22:49.017377  2023-08-04 11:22:49.077377   \n                                              2023-08-04 14:22:49.017377  2023-08-04 11:22:49.077377   \n                                              2023-08-04 15:22:49.017377  2023-08-04 11:22:49.077377   \n                                              2023-08-04 16:22:49.017377  2023-08-04 11:22:49.077377   \n\nqtuple                                                                             \\\nrows                                                                     velocity   \nidx                                                                             0   \nepisodestart               vehicle driver     timestamp                             \n2023-08-04 11:22:49.017377 VB7     wang-cheng 2023-08-04 12:22:49.017377      0.0   \n                                              2023-08-04 13:22:49.017377      0.0   \n                                              2023-08-04 14:22:49.017377      0.0   \n                                              2023-08-04 15:22:49.017377      0.0   \n                                              2023-08-04 16:22:49.017377      0.0   \n\nqtuple                                                                         \\\nrows                                                                            \nidx                                                                         1   \nepisodestart               vehicle driver     timestamp                         \n2023-08-04 11:22:49.017377 VB7     wang-cheng 2023-08-04 12:22:49.017377  1.0   \n                                              2023-08-04 13:22:49.017377  1.0   \n                                              2023-08-04 14:22:49.017377  1.0   \n                                              2023-08-04 15:22:49.017377  1.0   \n                                              2023-08-04 16:22:49.017377  1.0   \n\nqtuple                                                                         \\\nrows                                                                            \nidx                                                                         2   \nepisodestart               vehicle driver     timestamp                         \n2023-08-04 11:22:49.017377 VB7     wang-cheng 2023-08-04 12:22:49.017377  2.0   \n                                              2023-08-04 13:22:49.017377  2.0   \n                                              2023-08-04 14:22:49.017377  2.0   \n                                              2023-08-04 15:22:49.017377  2.0   \n                                              2023-08-04 16:22:49.017377  2.0   \n\nqtuple                                                                         \nrows                                                                           \nidx                                                                         3  \nepisodestart               vehicle driver     timestamp                        \n2023-08-04 11:22:49.017377 VB7     wang-cheng 2023-08-04 12:22:49.017377  3.0  \n                                              2023-08-04 13:22:49.017377  3.0  \n                                              2023-08-04 14:22:49.017377  3.0  \n                                              2023-08-04 15:22:49.017377  3.0  \n                                              2023-08-04 16:22:49.017377  3.0  \n\n[5 rows x 60 columns]",
      "text/html": "<div>\n<style scoped>\n    .dataframe tbody tr th:only-of-type {\n        vertical-align: middle;\n    }\n\n    .dataframe tbody tr th {\n        vertical-align: top;\n    }\n\n    .dataframe thead tr th {\n        text-align: left;\n    }\n\n    .dataframe thead tr:last-of-type th {\n        text-align: right;\n    }\n</style>\n<table border=\"1\" class=\"dataframe\">\n  <thead>\n    <tr>\n      <th></th>\n      <th></th>\n      <th></th>\n      <th>qtuple</th>\n      <th colspan=\"10\" halign=\"left\">action</th>\n      <th>...</th>\n      <th colspan=\"10\" halign=\"left\">state</th>\n    </tr>\n    <tr>\n      <th></th>\n      <th></th>\n      <th></th>\n      <th>rows</th>\n      <th colspan=\"5\" halign=\"left\">r0</th>\n      <th colspan=\"5\" halign=\"left\">r1</th>\n      <th>...</th>\n      <th colspan=\"2\" halign=\"left\">thrust</th>\n      <th colspan=\"4\" halign=\"left\">timestep</th>\n      <th colspan=\"4\" halign=\"left\">velocity</th>\n    </tr>\n    <tr>\n      <th></th>\n      <th></th>\n      <th></th>\n      <th>idx</th>\n      <th>0</th>\n      <th>1</th>\n      <th>2</th>\n      <th>3</th>\n      <th>4</th>\n      <th>0</th>\n      <th>1</th>\n      <th>2</th>\n      <th>3</th>\n      <th>4</th>\n      <th>...</th>\n      <th>2</th>\n      <th>3</th>\n      <th>0</th>\n      <th>1</th>\n      <th>2</th>\n      <th>3</th>\n      <th>0</th>\n      <th>1</th>\n      <th>2</th>\n      <th>3</th>\n    </tr>\n    <tr>\n      <th>episodestart</th>\n      <th>vehicle</th>\n      <th>driver</th>\n      <th>timestamp</th>\n      <th></th>\n      <th></th>\n      <th></th>\n      <th></th>\n      <th></th>\n      <th></th>\n      <th></th>\n      <th></th>\n      <th></th>\n      <th></th>\n      <th></th>\n      <th></th>\n      <th></th>\n      <th></th>\n      <th></th>\n      <th></th>\n      <th></th>\n      <th></th>\n      <th></th>\n      <th></th>\n      <th></th>\n    </tr>\n  </thead>\n  <tbody>\n    <tr>\n      <th rowspan=\"5\" valign=\"top\">2023-08-04 11:22:49.017377</th>\n      <th rowspan=\"5\" valign=\"top\">VB7</th>\n      <th rowspan=\"5\" valign=\"top\">wang-cheng</th>\n      <th>2023-08-04 12:22:49.017377</th>\n      <td>12.0</td>\n      <td>13.0</td>\n      <td>14.0</td>\n      <td>15.0</td>\n      <td>16.0</td>\n      <td>17.0</td>\n      <td>18.0</td>\n      <td>19.0</td>\n      <td>20.0</td>\n      <td>21.0</td>\n      <td>...</td>\n      <td>6.0</td>\n      <td>7.0</td>\n      <td>2023-08-04 11:22:49.017377</td>\n      <td>2023-08-04 11:22:49.037377</td>\n      <td>2023-08-04 11:22:49.057377</td>\n      <td>2023-08-04 11:22:49.077377</td>\n      <td>0.0</td>\n      <td>1.0</td>\n      <td>2.0</td>\n      <td>3.0</td>\n    </tr>\n    <tr>\n      <th>2023-08-04 13:22:49.017377</th>\n      <td>12.0</td>\n      <td>13.0</td>\n      <td>14.0</td>\n      <td>15.0</td>\n      <td>16.0</td>\n      <td>17.0</td>\n      <td>18.0</td>\n      <td>19.0</td>\n      <td>20.0</td>\n      <td>21.0</td>\n      <td>...</td>\n      <td>6.0</td>\n      <td>7.0</td>\n      <td>2023-08-04 11:22:49.017377</td>\n      <td>2023-08-04 11:22:49.037377</td>\n      <td>2023-08-04 11:22:49.057377</td>\n      <td>2023-08-04 11:22:49.077377</td>\n      <td>0.0</td>\n      <td>1.0</td>\n      <td>2.0</td>\n      <td>3.0</td>\n    </tr>\n    <tr>\n      <th>2023-08-04 14:22:49.017377</th>\n      <td>12.0</td>\n      <td>13.0</td>\n      <td>14.0</td>\n      <td>15.0</td>\n      <td>16.0</td>\n      <td>17.0</td>\n      <td>18.0</td>\n      <td>19.0</td>\n      <td>20.0</td>\n      <td>21.0</td>\n      <td>...</td>\n      <td>6.0</td>\n      <td>7.0</td>\n      <td>2023-08-04 11:22:49.017377</td>\n      <td>2023-08-04 11:22:49.037377</td>\n      <td>2023-08-04 11:22:49.057377</td>\n      <td>2023-08-04 11:22:49.077377</td>\n      <td>0.0</td>\n      <td>1.0</td>\n      <td>2.0</td>\n      <td>3.0</td>\n    </tr>\n    <tr>\n      <th>2023-08-04 15:22:49.017377</th>\n      <td>12.0</td>\n      <td>13.0</td>\n      <td>14.0</td>\n      <td>15.0</td>\n      <td>16.0</td>\n      <td>17.0</td>\n      <td>18.0</td>\n      <td>19.0</td>\n      <td>20.0</td>\n      <td>21.0</td>\n      <td>...</td>\n      <td>6.0</td>\n      <td>7.0</td>\n      <td>2023-08-04 11:22:49.017377</td>\n      <td>2023-08-04 11:22:49.037377</td>\n      <td>2023-08-04 11:22:49.057377</td>\n      <td>2023-08-04 11:22:49.077377</td>\n      <td>0.0</td>\n      <td>1.0</td>\n      <td>2.0</td>\n      <td>3.0</td>\n    </tr>\n    <tr>\n      <th>2023-08-04 16:22:49.017377</th>\n      <td>12.0</td>\n      <td>13.0</td>\n      <td>14.0</td>\n      <td>15.0</td>\n      <td>16.0</td>\n      <td>17.0</td>\n      <td>18.0</td>\n      <td>19.0</td>\n      <td>20.0</td>\n      <td>21.0</td>\n      <td>...</td>\n      <td>6.0</td>\n      <td>7.0</td>\n      <td>2023-08-04 11:22:49.017377</td>\n      <td>2023-08-04 11:22:49.037377</td>\n      <td>2023-08-04 11:22:49.057377</td>\n      <td>2023-08-04 11:22:49.077377</td>\n      <td>0.0</td>\n      <td>1.0</td>\n      <td>2.0</td>\n      <td>3.0</td>\n    </tr>\n  </tbody>\n</table>\n<p>5 rows × 60 columns</p>\n</div>"
     },
     "execution_count": 64,
     "metadata": {},
     "output_type": "execute_result"
    },
    {
     "data": {
      "text/plain": "MultiIndex([('action',       'r0', 0),\n            ('action',       'r0', 1),\n            ('action',       'r0', 2),\n            ('action',       'r0', 3),\n            ('action',       'r0', 4),\n            ('action',       'r1', 0),\n            ('action',       'r1', 1),\n            ('action',       'r1', 2),\n            ('action',       'r1', 3),\n            ('action',       'r1', 4),\n            ('action',       'r2', 0),\n            ('action',       'r2', 1),\n            ('action',       'r2', 2),\n            ('action',       'r2', 3),\n            ('action',       'r2', 4),\n            ('action',    'speed', 0),\n            ('action',    'speed', 1),\n            ('action',    'speed', 2),\n            ('action', 'throttle', 0),\n            ('action', 'throttle', 1),\n            ('action', 'throttle', 2),\n            ('action', 'throttle', 3),\n            ('action', 'throttle', 4),\n            ('action', 'timestep', 0),\n            ('action', 'timestep', 1),\n            ('action', 'timestep', 2),\n            ('nstate',    'brake', 0),\n            ('nstate',    'brake', 1),\n            ('nstate',    'brake', 2),\n            ('nstate',    'brake', 3),\n            ('nstate',   'thrust', 0),\n            ('nstate',   'thrust', 1),\n            ('nstate',   'thrust', 2),\n            ('nstate',   'thrust', 3),\n            ('nstate', 'timestep', 0),\n            ('nstate', 'timestep', 1),\n            ('nstate', 'timestep', 2),\n            ('nstate', 'timestep', 3),\n            ('nstate', 'velocity', 0),\n            ('nstate', 'velocity', 1),\n            ('nstate', 'velocity', 2),\n            ('nstate', 'velocity', 3),\n            ('reward', 'timestep', 0),\n            ('reward',     'work', 0),\n            ( 'state',    'brake', 0),\n            ( 'state',    'brake', 1),\n            ( 'state',    'brake', 2),\n            ( 'state',    'brake', 3),\n            ( 'state',   'thrust', 0),\n            ( 'state',   'thrust', 1),\n            ( 'state',   'thrust', 2),\n            ( 'state',   'thrust', 3),\n            ( 'state', 'timestep', 0),\n            ( 'state', 'timestep', 1),\n            ( 'state', 'timestep', 2),\n            ( 'state', 'timestep', 3),\n            ( 'state', 'velocity', 0),\n            ( 'state', 'velocity', 1),\n            ( 'state', 'velocity', 2),\n            ( 'state', 'velocity', 3)],\n           names=['qtuple', 'rows', 'idx'])"
     },
     "execution_count": 64,
     "metadata": {},
     "output_type": "execute_result"
    }
   ],
   "source": [
    "df_decoded = ser_decoded.unstack(level=['qtuple', 'rows', 'idx'])\n",
    "df_decoded\n",
    "df_decoded.columns\n",
    "# df_decoded.reset_index()"
   ]
  },
  {
   "cell_type": "code",
   "execution_count": 65,
   "metadata": {
    "ExecuteTime": {
     "end_time": "2023-08-04T03:23:01.879326809Z",
     "start_time": "2023-08-04T03:22:49.934912184Z"
    }
   },
   "outputs": [],
   "source": [
    "# df_decoded.reset_index()\n",
    "# df_decoded"
   ]
  },
  {
   "cell_type": "code",
   "execution_count": 66,
   "metadata": {
    "ExecuteTime": {
     "end_time": "2023-08-04T03:23:01.880754370Z",
     "start_time": "2023-08-04T03:22:49.937414545Z"
    }
   },
   "outputs": [
    {
     "data": {
      "text/plain": "qtuple                                                                   action  \\\nrows                                                                         r0   \nidx                                                                           0   \nepisodestart               vehicle driver     timestamp                           \n2023-08-04 11:22:49.017377 VB7     wang-cheng 2023-08-04 12:22:49.017377   12.0   \n                                              2023-08-04 13:22:49.017377   12.0   \n                                              2023-08-04 14:22:49.017377   12.0   \n                                              2023-08-04 15:22:49.017377   12.0   \n                                              2023-08-04 16:22:49.017377   12.0   \n\nqtuple                                                                          \\\nrows                                                                             \nidx                                                                          1   \nepisodestart               vehicle driver     timestamp                          \n2023-08-04 11:22:49.017377 VB7     wang-cheng 2023-08-04 12:22:49.017377  13.0   \n                                              2023-08-04 13:22:49.017377  13.0   \n                                              2023-08-04 14:22:49.017377  13.0   \n                                              2023-08-04 15:22:49.017377  13.0   \n                                              2023-08-04 16:22:49.017377  13.0   \n\nqtuple                                                                          \\\nrows                                                                             \nidx                                                                          2   \nepisodestart               vehicle driver     timestamp                          \n2023-08-04 11:22:49.017377 VB7     wang-cheng 2023-08-04 12:22:49.017377  14.0   \n                                              2023-08-04 13:22:49.017377  14.0   \n                                              2023-08-04 14:22:49.017377  14.0   \n                                              2023-08-04 15:22:49.017377  14.0   \n                                              2023-08-04 16:22:49.017377  14.0   \n\nqtuple                                                                          \\\nrows                                                                             \nidx                                                                          3   \nepisodestart               vehicle driver     timestamp                          \n2023-08-04 11:22:49.017377 VB7     wang-cheng 2023-08-04 12:22:49.017377  15.0   \n                                              2023-08-04 13:22:49.017377  15.0   \n                                              2023-08-04 14:22:49.017377  15.0   \n                                              2023-08-04 15:22:49.017377  15.0   \n                                              2023-08-04 16:22:49.017377  15.0   \n\nqtuple                                                                          \\\nrows                                                                             \nidx                                                                          4   \nepisodestart               vehicle driver     timestamp                          \n2023-08-04 11:22:49.017377 VB7     wang-cheng 2023-08-04 12:22:49.017377  16.0   \n                                              2023-08-04 13:22:49.017377  16.0   \n                                              2023-08-04 14:22:49.017377  16.0   \n                                              2023-08-04 15:22:49.017377  16.0   \n                                              2023-08-04 16:22:49.017377  16.0   \n\nqtuple                                                                          \\\nrows                                                                        r1   \nidx                                                                          0   \nepisodestart               vehicle driver     timestamp                          \n2023-08-04 11:22:49.017377 VB7     wang-cheng 2023-08-04 12:22:49.017377  17.0   \n                                              2023-08-04 13:22:49.017377  17.0   \n                                              2023-08-04 14:22:49.017377  17.0   \n                                              2023-08-04 15:22:49.017377  17.0   \n                                              2023-08-04 16:22:49.017377  17.0   \n\nqtuple                                                                          \\\nrows                                                                             \nidx                                                                          1   \nepisodestart               vehicle driver     timestamp                          \n2023-08-04 11:22:49.017377 VB7     wang-cheng 2023-08-04 12:22:49.017377  18.0   \n                                              2023-08-04 13:22:49.017377  18.0   \n                                              2023-08-04 14:22:49.017377  18.0   \n                                              2023-08-04 15:22:49.017377  18.0   \n                                              2023-08-04 16:22:49.017377  18.0   \n\nqtuple                                                                          \\\nrows                                                                             \nidx                                                                          2   \nepisodestart               vehicle driver     timestamp                          \n2023-08-04 11:22:49.017377 VB7     wang-cheng 2023-08-04 12:22:49.017377  19.0   \n                                              2023-08-04 13:22:49.017377  19.0   \n                                              2023-08-04 14:22:49.017377  19.0   \n                                              2023-08-04 15:22:49.017377  19.0   \n                                              2023-08-04 16:22:49.017377  19.0   \n\nqtuple                                                                          \\\nrows                                                                             \nidx                                                                          3   \nepisodestart               vehicle driver     timestamp                          \n2023-08-04 11:22:49.017377 VB7     wang-cheng 2023-08-04 12:22:49.017377  20.0   \n                                              2023-08-04 13:22:49.017377  20.0   \n                                              2023-08-04 14:22:49.017377  20.0   \n                                              2023-08-04 15:22:49.017377  20.0   \n                                              2023-08-04 16:22:49.017377  20.0   \n\nqtuple                                                                          \\\nrows                                                                             \nidx                                                                          4   \nepisodestart               vehicle driver     timestamp                          \n2023-08-04 11:22:49.017377 VB7     wang-cheng 2023-08-04 12:22:49.017377  21.0   \n                                              2023-08-04 13:22:49.017377  21.0   \n                                              2023-08-04 14:22:49.017377  21.0   \n                                              2023-08-04 15:22:49.017377  21.0   \n                                              2023-08-04 16:22:49.017377  21.0   \n\nqtuple                                                                          \\\nrows                                                                        r2   \nidx                                                                          0   \nepisodestart               vehicle driver     timestamp                          \n2023-08-04 11:22:49.017377 VB7     wang-cheng 2023-08-04 12:22:49.017377  22.0   \n                                              2023-08-04 13:22:49.017377  22.0   \n                                              2023-08-04 14:22:49.017377  22.0   \n                                              2023-08-04 15:22:49.017377  22.0   \n                                              2023-08-04 16:22:49.017377  22.0   \n\nqtuple                                                                          \\\nrows                                                                             \nidx                                                                          1   \nepisodestart               vehicle driver     timestamp                          \n2023-08-04 11:22:49.017377 VB7     wang-cheng 2023-08-04 12:22:49.017377  23.0   \n                                              2023-08-04 13:22:49.017377  23.0   \n                                              2023-08-04 14:22:49.017377  23.0   \n                                              2023-08-04 15:22:49.017377  23.0   \n                                              2023-08-04 16:22:49.017377  23.0   \n\nqtuple                                                                          \\\nrows                                                                             \nidx                                                                          2   \nepisodestart               vehicle driver     timestamp                          \n2023-08-04 11:22:49.017377 VB7     wang-cheng 2023-08-04 12:22:49.017377  24.0   \n                                              2023-08-04 13:22:49.017377  24.0   \n                                              2023-08-04 14:22:49.017377  24.0   \n                                              2023-08-04 15:22:49.017377  24.0   \n                                              2023-08-04 16:22:49.017377  24.0   \n\nqtuple                                                                          \\\nrows                                                                             \nidx                                                                          3   \nepisodestart               vehicle driver     timestamp                          \n2023-08-04 11:22:49.017377 VB7     wang-cheng 2023-08-04 12:22:49.017377  25.0   \n                                              2023-08-04 13:22:49.017377  25.0   \n                                              2023-08-04 14:22:49.017377  25.0   \n                                              2023-08-04 15:22:49.017377  25.0   \n                                              2023-08-04 16:22:49.017377  25.0   \n\nqtuple                                                                          \\\nrows                                                                             \nidx                                                                          4   \nepisodestart               vehicle driver     timestamp                          \n2023-08-04 11:22:49.017377 VB7     wang-cheng 2023-08-04 12:22:49.017377  26.0   \n                                              2023-08-04 13:22:49.017377  26.0   \n                                              2023-08-04 14:22:49.017377  26.0   \n                                              2023-08-04 15:22:49.017377  26.0   \n                                              2023-08-04 16:22:49.017377  26.0   \n\nqtuple                                                                             \\\nrows                                                                     throttle   \nidx                                                                             0   \nepisodestart               vehicle driver     timestamp                             \n2023-08-04 11:22:49.017377 VB7     wang-cheng 2023-08-04 12:22:49.017377      0.0   \n                                              2023-08-04 13:22:49.017377      0.0   \n                                              2023-08-04 14:22:49.017377      0.0   \n                                              2023-08-04 15:22:49.017377      0.0   \n                                              2023-08-04 16:22:49.017377      0.0   \n\nqtuple                                                                          \\\nrows                                                                             \nidx                                                                          1   \nepisodestart               vehicle driver     timestamp                          \n2023-08-04 11:22:49.017377 VB7     wang-cheng 2023-08-04 12:22:49.017377  0.25   \n                                              2023-08-04 13:22:49.017377  0.25   \n                                              2023-08-04 14:22:49.017377  0.25   \n                                              2023-08-04 15:22:49.017377  0.25   \n                                              2023-08-04 16:22:49.017377  0.25   \n\nqtuple                                                                         \\\nrows                                                                            \nidx                                                                         2   \nepisodestart               vehicle driver     timestamp                         \n2023-08-04 11:22:49.017377 VB7     wang-cheng 2023-08-04 12:22:49.017377  0.5   \n                                              2023-08-04 13:22:49.017377  0.5   \n                                              2023-08-04 14:22:49.017377  0.5   \n                                              2023-08-04 15:22:49.017377  0.5   \n                                              2023-08-04 16:22:49.017377  0.5   \n\nqtuple                                                                          \\\nrows                                                                             \nidx                                                                          3   \nepisodestart               vehicle driver     timestamp                          \n2023-08-04 11:22:49.017377 VB7     wang-cheng 2023-08-04 12:22:49.017377  0.75   \n                                              2023-08-04 13:22:49.017377  0.75   \n                                              2023-08-04 14:22:49.017377  0.75   \n                                              2023-08-04 15:22:49.017377  0.75   \n                                              2023-08-04 16:22:49.017377  0.75   \n\nqtuple                                                                         \nrows                                                                           \nidx                                                                         4  \nepisodestart               vehicle driver     timestamp                        \n2023-08-04 11:22:49.017377 VB7     wang-cheng 2023-08-04 12:22:49.017377  1.0  \n                                              2023-08-04 13:22:49.017377  1.0  \n                                              2023-08-04 14:22:49.017377  1.0  \n                                              2023-08-04 15:22:49.017377  1.0  \n                                              2023-08-04 16:22:49.017377  1.0  ",
      "text/html": "<div>\n<style scoped>\n    .dataframe tbody tr th:only-of-type {\n        vertical-align: middle;\n    }\n\n    .dataframe tbody tr th {\n        vertical-align: top;\n    }\n\n    .dataframe thead tr th {\n        text-align: left;\n    }\n\n    .dataframe thead tr:last-of-type th {\n        text-align: right;\n    }\n</style>\n<table border=\"1\" class=\"dataframe\">\n  <thead>\n    <tr>\n      <th></th>\n      <th></th>\n      <th></th>\n      <th>qtuple</th>\n      <th colspan=\"20\" halign=\"left\">action</th>\n    </tr>\n    <tr>\n      <th></th>\n      <th></th>\n      <th></th>\n      <th>rows</th>\n      <th colspan=\"5\" halign=\"left\">r0</th>\n      <th colspan=\"5\" halign=\"left\">r1</th>\n      <th colspan=\"5\" halign=\"left\">r2</th>\n      <th colspan=\"5\" halign=\"left\">throttle</th>\n    </tr>\n    <tr>\n      <th></th>\n      <th></th>\n      <th></th>\n      <th>idx</th>\n      <th>0</th>\n      <th>1</th>\n      <th>2</th>\n      <th>3</th>\n      <th>4</th>\n      <th>0</th>\n      <th>1</th>\n      <th>2</th>\n      <th>3</th>\n      <th>4</th>\n      <th>0</th>\n      <th>1</th>\n      <th>2</th>\n      <th>3</th>\n      <th>4</th>\n      <th>0</th>\n      <th>1</th>\n      <th>2</th>\n      <th>3</th>\n      <th>4</th>\n    </tr>\n    <tr>\n      <th>episodestart</th>\n      <th>vehicle</th>\n      <th>driver</th>\n      <th>timestamp</th>\n      <th></th>\n      <th></th>\n      <th></th>\n      <th></th>\n      <th></th>\n      <th></th>\n      <th></th>\n      <th></th>\n      <th></th>\n      <th></th>\n      <th></th>\n      <th></th>\n      <th></th>\n      <th></th>\n      <th></th>\n      <th></th>\n      <th></th>\n      <th></th>\n      <th></th>\n      <th></th>\n    </tr>\n  </thead>\n  <tbody>\n    <tr>\n      <th rowspan=\"5\" valign=\"top\">2023-08-04 11:22:49.017377</th>\n      <th rowspan=\"5\" valign=\"top\">VB7</th>\n      <th rowspan=\"5\" valign=\"top\">wang-cheng</th>\n      <th>2023-08-04 12:22:49.017377</th>\n      <td>12.0</td>\n      <td>13.0</td>\n      <td>14.0</td>\n      <td>15.0</td>\n      <td>16.0</td>\n      <td>17.0</td>\n      <td>18.0</td>\n      <td>19.0</td>\n      <td>20.0</td>\n      <td>21.0</td>\n      <td>22.0</td>\n      <td>23.0</td>\n      <td>24.0</td>\n      <td>25.0</td>\n      <td>26.0</td>\n      <td>0.0</td>\n      <td>0.25</td>\n      <td>0.5</td>\n      <td>0.75</td>\n      <td>1.0</td>\n    </tr>\n    <tr>\n      <th>2023-08-04 13:22:49.017377</th>\n      <td>12.0</td>\n      <td>13.0</td>\n      <td>14.0</td>\n      <td>15.0</td>\n      <td>16.0</td>\n      <td>17.0</td>\n      <td>18.0</td>\n      <td>19.0</td>\n      <td>20.0</td>\n      <td>21.0</td>\n      <td>22.0</td>\n      <td>23.0</td>\n      <td>24.0</td>\n      <td>25.0</td>\n      <td>26.0</td>\n      <td>0.0</td>\n      <td>0.25</td>\n      <td>0.5</td>\n      <td>0.75</td>\n      <td>1.0</td>\n    </tr>\n    <tr>\n      <th>2023-08-04 14:22:49.017377</th>\n      <td>12.0</td>\n      <td>13.0</td>\n      <td>14.0</td>\n      <td>15.0</td>\n      <td>16.0</td>\n      <td>17.0</td>\n      <td>18.0</td>\n      <td>19.0</td>\n      <td>20.0</td>\n      <td>21.0</td>\n      <td>22.0</td>\n      <td>23.0</td>\n      <td>24.0</td>\n      <td>25.0</td>\n      <td>26.0</td>\n      <td>0.0</td>\n      <td>0.25</td>\n      <td>0.5</td>\n      <td>0.75</td>\n      <td>1.0</td>\n    </tr>\n    <tr>\n      <th>2023-08-04 15:22:49.017377</th>\n      <td>12.0</td>\n      <td>13.0</td>\n      <td>14.0</td>\n      <td>15.0</td>\n      <td>16.0</td>\n      <td>17.0</td>\n      <td>18.0</td>\n      <td>19.0</td>\n      <td>20.0</td>\n      <td>21.0</td>\n      <td>22.0</td>\n      <td>23.0</td>\n      <td>24.0</td>\n      <td>25.0</td>\n      <td>26.0</td>\n      <td>0.0</td>\n      <td>0.25</td>\n      <td>0.5</td>\n      <td>0.75</td>\n      <td>1.0</td>\n    </tr>\n    <tr>\n      <th>2023-08-04 16:22:49.017377</th>\n      <td>12.0</td>\n      <td>13.0</td>\n      <td>14.0</td>\n      <td>15.0</td>\n      <td>16.0</td>\n      <td>17.0</td>\n      <td>18.0</td>\n      <td>19.0</td>\n      <td>20.0</td>\n      <td>21.0</td>\n      <td>22.0</td>\n      <td>23.0</td>\n      <td>24.0</td>\n      <td>25.0</td>\n      <td>26.0</td>\n      <td>0.0</td>\n      <td>0.25</td>\n      <td>0.5</td>\n      <td>0.75</td>\n      <td>1.0</td>\n    </tr>\n  </tbody>\n</table>\n</div>"
     },
     "execution_count": 66,
     "metadata": {},
     "output_type": "execute_result"
    }
   ],
   "source": [
    "\n",
    "# ser_action = ser_decoded.loc[('action', ['r0', 'r1', 'r2', 'throttle'])]\n",
    "# df_action = ser_action.unstack(level=[4, 5])\n",
    "idx = pd.IndexSlice\n",
    "df_action = df_decoded.loc[:, idx['action', ['r0', 'r1', 'r2', 'throttle']]]\n",
    "df_action\n",
    "# df_action.set_index(('action', 'throttle'))5369@"
   ]
  },
  {
   "cell_type": "markdown",
   "metadata": {},
   "source": [
    "### Decoding MongoDB dict to MultiIndexed fully described DataFrame"
   ]
  },
  {
   "cell_type": "code",
   "execution_count": 67,
   "metadata": {
    "ExecuteTime": {
     "end_time": "2023-08-04T03:23:01.881261624Z",
     "start_time": "2023-08-04T03:22:49.968602243Z"
    }
   },
   "outputs": [
    {
     "data": {
      "text/plain": "{(Timestamp('2023-08-04 11:22:49.017377'),\n  'VB7',\n  'wang-cheng',\n  Timestamp('2023-08-04 12:22:49.017377'),\n  'action',\n  'r0',\n  0): 12.0,\n (Timestamp('2023-08-04 11:22:49.017377'),\n  'VB7',\n  'wang-cheng',\n  Timestamp('2023-08-04 12:22:49.017377'),\n  'action',\n  'r0',\n  1): 13.0,\n (Timestamp('2023-08-04 11:22:49.017377'),\n  'VB7',\n  'wang-cheng',\n  Timestamp('2023-08-04 12:22:49.017377'),\n  'action',\n  'r0',\n  2): 14.0,\n (Timestamp('2023-08-04 11:22:49.017377'),\n  'VB7',\n  'wang-cheng',\n  Timestamp('2023-08-04 12:22:49.017377'),\n  'action',\n  'r0',\n  3): 15.0,\n (Timestamp('2023-08-04 11:22:49.017377'),\n  'VB7',\n  'wang-cheng',\n  Timestamp('2023-08-04 12:22:49.017377'),\n  'action',\n  'r0',\n  4): 16.0,\n (Timestamp('2023-08-04 11:22:49.017377'),\n  'VB7',\n  'wang-cheng',\n  Timestamp('2023-08-04 12:22:49.017377'),\n  'action',\n  'r1',\n  0): 17.0,\n (Timestamp('2023-08-04 11:22:49.017377'),\n  'VB7',\n  'wang-cheng',\n  Timestamp('2023-08-04 12:22:49.017377'),\n  'action',\n  'r1',\n  1): 18.0,\n (Timestamp('2023-08-04 11:22:49.017377'),\n  'VB7',\n  'wang-cheng',\n  Timestamp('2023-08-04 12:22:49.017377'),\n  'action',\n  'r1',\n  2): 19.0,\n (Timestamp('2023-08-04 11:22:49.017377'),\n  'VB7',\n  'wang-cheng',\n  Timestamp('2023-08-04 12:22:49.017377'),\n  'action',\n  'r1',\n  3): 20.0,\n (Timestamp('2023-08-04 11:22:49.017377'),\n  'VB7',\n  'wang-cheng',\n  Timestamp('2023-08-04 12:22:49.017377'),\n  'action',\n  'r1',\n  4): 21.0,\n (Timestamp('2023-08-04 11:22:49.017377'),\n  'VB7',\n  'wang-cheng',\n  Timestamp('2023-08-04 12:22:49.017377'),\n  'action',\n  'r2',\n  0): 22.0,\n (Timestamp('2023-08-04 11:22:49.017377'),\n  'VB7',\n  'wang-cheng',\n  Timestamp('2023-08-04 12:22:49.017377'),\n  'action',\n  'r2',\n  1): 23.0,\n (Timestamp('2023-08-04 11:22:49.017377'),\n  'VB7',\n  'wang-cheng',\n  Timestamp('2023-08-04 12:22:49.017377'),\n  'action',\n  'r2',\n  2): 24.0,\n (Timestamp('2023-08-04 11:22:49.017377'),\n  'VB7',\n  'wang-cheng',\n  Timestamp('2023-08-04 12:22:49.017377'),\n  'action',\n  'r2',\n  3): 25.0,\n (Timestamp('2023-08-04 11:22:49.017377'),\n  'VB7',\n  'wang-cheng',\n  Timestamp('2023-08-04 12:22:49.017377'),\n  'action',\n  'r2',\n  4): 26.0,\n (Timestamp('2023-08-04 11:22:49.017377'),\n  'VB7',\n  'wang-cheng',\n  Timestamp('2023-08-04 12:22:49.017377'),\n  'action',\n  'speed',\n  0): 40.0,\n (Timestamp('2023-08-04 11:22:49.017377'),\n  'VB7',\n  'wang-cheng',\n  Timestamp('2023-08-04 12:22:49.017377'),\n  'action',\n  'speed',\n  1): 50.0,\n (Timestamp('2023-08-04 11:22:49.017377'),\n  'VB7',\n  'wang-cheng',\n  Timestamp('2023-08-04 12:22:49.017377'),\n  'action',\n  'speed',\n  2): 60.0,\n (Timestamp('2023-08-04 11:22:49.017377'),\n  'VB7',\n  'wang-cheng',\n  Timestamp('2023-08-04 12:22:49.017377'),\n  'action',\n  'throttle',\n  0): 0.0,\n (Timestamp('2023-08-04 11:22:49.017377'),\n  'VB7',\n  'wang-cheng',\n  Timestamp('2023-08-04 12:22:49.017377'),\n  'action',\n  'throttle',\n  1): 0.25,\n (Timestamp('2023-08-04 11:22:49.017377'),\n  'VB7',\n  'wang-cheng',\n  Timestamp('2023-08-04 12:22:49.017377'),\n  'action',\n  'throttle',\n  2): 0.5,\n (Timestamp('2023-08-04 11:22:49.017377'),\n  'VB7',\n  'wang-cheng',\n  Timestamp('2023-08-04 12:22:49.017377'),\n  'action',\n  'throttle',\n  3): 0.75,\n (Timestamp('2023-08-04 11:22:49.017377'),\n  'VB7',\n  'wang-cheng',\n  Timestamp('2023-08-04 12:22:49.017377'),\n  'action',\n  'throttle',\n  4): 1.0,\n (Timestamp('2023-08-04 11:22:49.017377'),\n  'VB7',\n  'wang-cheng',\n  Timestamp('2023-08-04 12:22:49.017377'),\n  'action',\n  'timestep',\n  0): Timestamp('2023-08-04 11:22:49.117377'),\n (Timestamp('2023-08-04 11:22:49.017377'),\n  'VB7',\n  'wang-cheng',\n  Timestamp('2023-08-04 12:22:49.017377'),\n  'action',\n  'timestep',\n  1): Timestamp('2023-08-04 11:22:49.137377'),\n (Timestamp('2023-08-04 11:22:49.017377'),\n  'VB7',\n  'wang-cheng',\n  Timestamp('2023-08-04 12:22:49.017377'),\n  'action',\n  'timestep',\n  2): Timestamp('2023-08-04 11:22:49.157377'),\n (Timestamp('2023-08-04 11:22:49.017377'),\n  'VB7',\n  'wang-cheng',\n  Timestamp('2023-08-04 12:22:49.017377'),\n  'nstate',\n  'brake',\n  0): 37.0,\n (Timestamp('2023-08-04 11:22:49.017377'),\n  'VB7',\n  'wang-cheng',\n  Timestamp('2023-08-04 12:22:49.017377'),\n  'nstate',\n  'brake',\n  1): 38.0,\n (Timestamp('2023-08-04 11:22:49.017377'),\n  'VB7',\n  'wang-cheng',\n  Timestamp('2023-08-04 12:22:49.017377'),\n  'nstate',\n  'brake',\n  2): 39.0,\n (Timestamp('2023-08-04 11:22:49.017377'),\n  'VB7',\n  'wang-cheng',\n  Timestamp('2023-08-04 12:22:49.017377'),\n  'nstate',\n  'brake',\n  3): 40.0,\n (Timestamp('2023-08-04 11:22:49.017377'),\n  'VB7',\n  'wang-cheng',\n  Timestamp('2023-08-04 12:22:49.017377'),\n  'nstate',\n  'thrust',\n  0): 33.0,\n (Timestamp('2023-08-04 11:22:49.017377'),\n  'VB7',\n  'wang-cheng',\n  Timestamp('2023-08-04 12:22:49.017377'),\n  'nstate',\n  'thrust',\n  1): 34.0,\n (Timestamp('2023-08-04 11:22:49.017377'),\n  'VB7',\n  'wang-cheng',\n  Timestamp('2023-08-04 12:22:49.017377'),\n  'nstate',\n  'thrust',\n  2): 35.0,\n (Timestamp('2023-08-04 11:22:49.017377'),\n  'VB7',\n  'wang-cheng',\n  Timestamp('2023-08-04 12:22:49.017377'),\n  'nstate',\n  'thrust',\n  3): 36.0,\n (Timestamp('2023-08-04 11:22:49.017377'),\n  'VB7',\n  'wang-cheng',\n  Timestamp('2023-08-04 12:22:49.017377'),\n  'nstate',\n  'timestep',\n  0): Timestamp('2023-08-04 11:22:54.017377'),\n (Timestamp('2023-08-04 11:22:49.017377'),\n  'VB7',\n  'wang-cheng',\n  Timestamp('2023-08-04 12:22:49.017377'),\n  'nstate',\n  'timestep',\n  1): Timestamp('2023-08-04 11:22:54.037377'),\n (Timestamp('2023-08-04 11:22:49.017377'),\n  'VB7',\n  'wang-cheng',\n  Timestamp('2023-08-04 12:22:49.017377'),\n  'nstate',\n  'timestep',\n  2): Timestamp('2023-08-04 11:22:54.057377'),\n (Timestamp('2023-08-04 11:22:49.017377'),\n  'VB7',\n  'wang-cheng',\n  Timestamp('2023-08-04 12:22:49.017377'),\n  'nstate',\n  'timestep',\n  3): Timestamp('2023-08-04 11:22:54.077377'),\n (Timestamp('2023-08-04 11:22:49.017377'),\n  'VB7',\n  'wang-cheng',\n  Timestamp('2023-08-04 12:22:49.017377'),\n  'nstate',\n  'velocity',\n  0): 29.0,\n (Timestamp('2023-08-04 11:22:49.017377'),\n  'VB7',\n  'wang-cheng',\n  Timestamp('2023-08-04 12:22:49.017377'),\n  'nstate',\n  'velocity',\n  1): 30.0,\n (Timestamp('2023-08-04 11:22:49.017377'),\n  'VB7',\n  'wang-cheng',\n  Timestamp('2023-08-04 12:22:49.017377'),\n  'nstate',\n  'velocity',\n  2): 31.0,\n (Timestamp('2023-08-04 11:22:49.017377'),\n  'VB7',\n  'wang-cheng',\n  Timestamp('2023-08-04 12:22:49.017377'),\n  'nstate',\n  'velocity',\n  3): 32.0,\n (Timestamp('2023-08-04 11:22:49.017377'),\n  'VB7',\n  'wang-cheng',\n  Timestamp('2023-08-04 12:22:49.017377'),\n  'reward',\n  'timestep',\n  0): Timestamp('2023-08-04 11:22:49.117377'),\n (Timestamp('2023-08-04 11:22:49.017377'),\n  'VB7',\n  'wang-cheng',\n  Timestamp('2023-08-04 12:22:49.017377'),\n  'reward',\n  'work',\n  0): 27.0,\n (Timestamp('2023-08-04 11:22:49.017377'),\n  'VB7',\n  'wang-cheng',\n  Timestamp('2023-08-04 12:22:49.017377'),\n  'state',\n  'brake',\n  0): 8.0,\n (Timestamp('2023-08-04 11:22:49.017377'),\n  'VB7',\n  'wang-cheng',\n  Timestamp('2023-08-04 12:22:49.017377'),\n  'state',\n  'brake',\n  1): 9.0,\n (Timestamp('2023-08-04 11:22:49.017377'),\n  'VB7',\n  'wang-cheng',\n  Timestamp('2023-08-04 12:22:49.017377'),\n  'state',\n  'brake',\n  2): 10.0,\n (Timestamp('2023-08-04 11:22:49.017377'),\n  'VB7',\n  'wang-cheng',\n  Timestamp('2023-08-04 12:22:49.017377'),\n  'state',\n  'brake',\n  3): 11.0,\n (Timestamp('2023-08-04 11:22:49.017377'),\n  'VB7',\n  'wang-cheng',\n  Timestamp('2023-08-04 12:22:49.017377'),\n  'state',\n  'thrust',\n  0): 4.0,\n (Timestamp('2023-08-04 11:22:49.017377'),\n  'VB7',\n  'wang-cheng',\n  Timestamp('2023-08-04 12:22:49.017377'),\n  'state',\n  'thrust',\n  1): 5.0,\n (Timestamp('2023-08-04 11:22:49.017377'),\n  'VB7',\n  'wang-cheng',\n  Timestamp('2023-08-04 12:22:49.017377'),\n  'state',\n  'thrust',\n  2): 6.0,\n (Timestamp('2023-08-04 11:22:49.017377'),\n  'VB7',\n  'wang-cheng',\n  Timestamp('2023-08-04 12:22:49.017377'),\n  'state',\n  'thrust',\n  3): 7.0,\n (Timestamp('2023-08-04 11:22:49.017377'),\n  'VB7',\n  'wang-cheng',\n  Timestamp('2023-08-04 12:22:49.017377'),\n  'state',\n  'timestep',\n  0): Timestamp('2023-08-04 11:22:49.017377'),\n (Timestamp('2023-08-04 11:22:49.017377'),\n  'VB7',\n  'wang-cheng',\n  Timestamp('2023-08-04 12:22:49.017377'),\n  'state',\n  'timestep',\n  1): Timestamp('2023-08-04 11:22:49.037377'),\n (Timestamp('2023-08-04 11:22:49.017377'),\n  'VB7',\n  'wang-cheng',\n  Timestamp('2023-08-04 12:22:49.017377'),\n  'state',\n  'timestep',\n  2): Timestamp('2023-08-04 11:22:49.057377'),\n (Timestamp('2023-08-04 11:22:49.017377'),\n  'VB7',\n  'wang-cheng',\n  Timestamp('2023-08-04 12:22:49.017377'),\n  'state',\n  'timestep',\n  3): Timestamp('2023-08-04 11:22:49.077377'),\n (Timestamp('2023-08-04 11:22:49.017377'),\n  'VB7',\n  'wang-cheng',\n  Timestamp('2023-08-04 12:22:49.017377'),\n  'state',\n  'velocity',\n  0): 0.0,\n (Timestamp('2023-08-04 11:22:49.017377'),\n  'VB7',\n  'wang-cheng',\n  Timestamp('2023-08-04 12:22:49.017377'),\n  'state',\n  'velocity',\n  1): 1.0,\n (Timestamp('2023-08-04 11:22:49.017377'),\n  'VB7',\n  'wang-cheng',\n  Timestamp('2023-08-04 12:22:49.017377'),\n  'state',\n  'velocity',\n  2): 2.0,\n (Timestamp('2023-08-04 11:22:49.017377'),\n  'VB7',\n  'wang-cheng',\n  Timestamp('2023-08-04 12:22:49.017377'),\n  'state',\n  'velocity',\n  3): 3.0}"
     },
     "execution_count": 67,
     "metadata": {},
     "output_type": "execute_result"
    },
    {
     "data": {
      "text/plain": "5"
     },
     "execution_count": 67,
     "metadata": {},
     "output_type": "execute_result"
    }
   ],
   "source": [
    "\n",
    "dict_observations_list = [\n",
    "    {\n",
    "        (meta['episodestart'], meta['vehicle'], meta['driver'], meta['timestamp'], key1, key2, key3): value\n",
    "        for key1, obs1 in obs.items()\n",
    "        for key2, obs2 in obs1.items()\n",
    "        for key3, value in obs2.items()\n",
    "    }\n",
    "    for meta, obs in zip(df_rows['meta'],df_rows['observation'])\n",
    "]\n",
    "\n",
    "dict_observations_list[0]\n",
    "len(dict_observations_list)"
   ]
  },
  {
   "cell_type": "code",
   "execution_count": 68,
   "metadata": {
    "ExecuteTime": {
     "end_time": "2023-08-04T03:23:01.881786840Z",
     "start_time": "2023-08-04T03:22:49.973083102Z"
    }
   },
   "outputs": [
    {
     "data": {
      "text/plain": "(Timestamp('2023-08-04 11:22:49.017377'),\n 'VB7',\n 'wang-cheng',\n Timestamp('2023-08-04 12:22:49.017377'),\n 'action',\n 'throttle')"
     },
     "execution_count": 68,
     "metadata": {},
     "output_type": "execute_result"
    },
    {
     "data": {
      "text/plain": "episodestart                                       2023-08-04 11:22:49.017377  \\\nvehicle                                                                   VB7   \ndriver                                                             wang-cheng   \ntimestamp                                          2023-08-04 12:22:49.017377   \nqtuple                                                                 action   \nrows                                                                       r0   \n(2023-08-04 11:22:49.017377, VB7, wang-cheng, 2...                              \n0.0                                                                      12.0   \n0.25                                                                     13.0   \n0.5                                                                      14.0   \n0.75                                                                     15.0   \n1.0                                                                      16.0   \n\nepisodestart                                                    \nvehicle                                                         \ndriver                                                          \ntimestamp                                                       \nqtuple                                                          \nrows                                                  r1    r2  \n(2023-08-04 11:22:49.017377, VB7, wang-cheng, 2...              \n0.0                                                 17.0  22.0  \n0.25                                                18.0  23.0  \n0.5                                                 19.0  24.0  \n0.75                                                20.0  25.0  \n1.0                                                 21.0  26.0  ",
      "text/html": "<div>\n<style scoped>\n    .dataframe tbody tr th:only-of-type {\n        vertical-align: middle;\n    }\n\n    .dataframe tbody tr th {\n        vertical-align: top;\n    }\n\n    .dataframe thead tr th {\n        text-align: left;\n    }\n\n    .dataframe thead tr:last-of-type th {\n        text-align: right;\n    }\n</style>\n<table border=\"1\" class=\"dataframe\">\n  <thead>\n    <tr>\n      <th>episodestart</th>\n      <th colspan=\"3\" halign=\"left\">2023-08-04 11:22:49.017377</th>\n    </tr>\n    <tr>\n      <th>vehicle</th>\n      <th colspan=\"3\" halign=\"left\">VB7</th>\n    </tr>\n    <tr>\n      <th>driver</th>\n      <th colspan=\"3\" halign=\"left\">wang-cheng</th>\n    </tr>\n    <tr>\n      <th>timestamp</th>\n      <th colspan=\"3\" halign=\"left\">2023-08-04 12:22:49.017377</th>\n    </tr>\n    <tr>\n      <th>qtuple</th>\n      <th colspan=\"3\" halign=\"left\">action</th>\n    </tr>\n    <tr>\n      <th>rows</th>\n      <th>r0</th>\n      <th>r1</th>\n      <th>r2</th>\n    </tr>\n    <tr>\n      <th>(2023-08-04 11:22:49.017377, VB7, wang-cheng, 2023-08-04 12:22:49.017377, action, throttle)</th>\n      <th></th>\n      <th></th>\n      <th></th>\n    </tr>\n  </thead>\n  <tbody>\n    <tr>\n      <th>0.0</th>\n      <td>12.0</td>\n      <td>17.0</td>\n      <td>22.0</td>\n    </tr>\n    <tr>\n      <th>0.25</th>\n      <td>13.0</td>\n      <td>18.0</td>\n      <td>23.0</td>\n    </tr>\n    <tr>\n      <th>0.5</th>\n      <td>14.0</td>\n      <td>19.0</td>\n      <td>24.0</td>\n    </tr>\n    <tr>\n      <th>0.75</th>\n      <td>15.0</td>\n      <td>20.0</td>\n      <td>25.0</td>\n    </tr>\n    <tr>\n      <th>1.0</th>\n      <td>16.0</td>\n      <td>21.0</td>\n      <td>26.0</td>\n    </tr>\n  </tbody>\n</table>\n</div>"
     },
     "execution_count": 68,
     "metadata": {},
     "output_type": "execute_result"
    },
    {
     "data": {
      "text/plain": "MultiIndex([('2023-08-04 11:22:49.017377', 'VB7', 'wang-cheng', ...),\n            ('2023-08-04 11:22:49.017377', 'VB7', 'wang-cheng', ...),\n            ('2023-08-04 11:22:49.017377', 'VB7', 'wang-cheng', ...)],\n           names=['episodestart', 'vehicle', 'driver', 'timestamp', 'qtuple', 'rows'])"
     },
     "execution_count": 68,
     "metadata": {},
     "output_type": "execute_result"
    }
   ],
   "source": [
    "idx = pd.IndexSlice\n",
    "ser_decoded = pd.Series(dict_observations_list[0])\n",
    "ser_decoded.index.names =[ 'episodestart', 'vehicle', 'driver', 'timestamp', 'qtuple', 'rows', 'idx']\n",
    "# ser_decoded\n",
    "# ser_decoded.index\n",
    "ser_action = ser_decoded.loc[idx[:, :, :, :, 'action', ['r0', 'r1', 'r2', 'throttle']]]\n",
    "# ser_action.index\n",
    "df_action = ser_action.unstack([0,1,2,3,4,5])\n",
    "# df_action.index\n",
    "# df_action.columns\n",
    "multiindex = df_action.columns\n",
    "# multiindex[0]\n",
    "multiindex[-1]\n",
    "# df_action.index.names\n",
    "# multiindex = (*df_action.index.names,('action', 'throttle'))\n",
    "# multiindex\n",
    "df_action.set_index(multiindex[-1], inplace=True)\n",
    "df_action\n",
    "df_action.columns\n",
    "# df_action.set_index(idx[:, :, :, :, 'action', 'throttle'], inplace=True)\n",
    "# df_action = pd.concat([df_action], keys=[('action','throttle')], names=['qtuple', 'rows']).set\n",
    "# multiindex = (df_action.index,'action', 'throttle'))\n",
    "# df_action.set_index(multiindex, inplace=True)\n",
    "# df_action"
   ]
  },
  {
   "cell_type": "code",
   "execution_count": 69,
   "metadata": {
    "ExecuteTime": {
     "end_time": "2023-08-04T03:23:01.905658954Z",
     "start_time": "2023-08-04T03:22:50.016856928Z"
    }
   },
   "outputs": [
    {
     "data": {
      "text/plain": "episodestart                vehicle  driver      timestamp                   idx\n2023-08-04 11:22:49.017377  VB7      wang-cheng  2023-08-04 12:22:49.017377  0      2023-08-04 11:22:49.117377\n                                                                             1      2023-08-04 11:22:49.137377\n                                                                             2      2023-08-04 11:22:49.157377\ndtype: object"
     },
     "execution_count": 69,
     "metadata": {},
     "output_type": "execute_result"
    },
    {
     "data": {
      "text/plain": "episodestart                vehicle  driver      timestamp                   idx\n2023-08-04 11:22:49.017377  VB7      wang-cheng  2023-08-04 12:22:49.017377  0      40.0\n                                                                             1      50.0\n                                                                             2      60.0\ndtype: object"
     },
     "execution_count": 69,
     "metadata": {},
     "output_type": "execute_result"
    },
    {
     "data": {
      "text/plain": "[(Timestamp('2023-08-04 11:22:49.017377'),\n  'VB7',\n  'wang-cheng',\n  Timestamp('2023-08-04 12:22:49.017377'),\n  'action',\n  'r0',\n  40.0,\n  Timestamp('2023-08-04 11:22:49.117377')),\n (Timestamp('2023-08-04 11:22:49.017377'),\n  'VB7',\n  'wang-cheng',\n  Timestamp('2023-08-04 12:22:49.017377'),\n  'action',\n  'r1',\n  50.0,\n  Timestamp('2023-08-04 11:22:49.137377')),\n (Timestamp('2023-08-04 11:22:49.017377'),\n  'VB7',\n  'wang-cheng',\n  Timestamp('2023-08-04 12:22:49.017377'),\n  'action',\n  'r2',\n  60.0,\n  Timestamp('2023-08-04 11:22:49.157377'))]"
     },
     "execution_count": 69,
     "metadata": {},
     "output_type": "execute_result"
    },
    {
     "data": {
      "text/plain": "episodestart                                       2023-08-04 11:22:49.017377  \\\nvehicle                                                                   VB7   \ndriver                                                             wang-cheng   \ntimestamp                                          2023-08-04 12:22:49.017377   \nqtuple                                                                 action   \nrows                                                                       r0   \nspeed                                                                    40.0   \ntimestep                                           2023-08-04 11:22:49.117377   \n(2023-08-04 11:22:49.017377, VB7, wang-cheng, 2...                              \n0.0                                                                      12.0   \n0.25                                                                     13.0   \n0.5                                                                      14.0   \n0.75                                                                     15.0   \n1.0                                                                      16.0   \n\nepisodestart                                                                   \\\nvehicle                                                                         \ndriver                                                                          \ntimestamp                                                                       \nqtuple                                                                          \nrows                                                                       r1   \nspeed                                                                    50.0   \ntimestep                                           2023-08-04 11:22:49.137377   \n(2023-08-04 11:22:49.017377, VB7, wang-cheng, 2...                              \n0.0                                                                      17.0   \n0.25                                                                     18.0   \n0.5                                                                      19.0   \n0.75                                                                     20.0   \n1.0                                                                      21.0   \n\nepisodestart                                                                   \nvehicle                                                                        \ndriver                                                                         \ntimestamp                                                                      \nqtuple                                                                         \nrows                                                                       r2  \nspeed                                                                    60.0  \ntimestep                                           2023-08-04 11:22:49.157377  \n(2023-08-04 11:22:49.017377, VB7, wang-cheng, 2...                             \n0.0                                                                      22.0  \n0.25                                                                     23.0  \n0.5                                                                      24.0  \n0.75                                                                     25.0  \n1.0                                                                      26.0  ",
      "text/html": "<div>\n<style scoped>\n    .dataframe tbody tr th:only-of-type {\n        vertical-align: middle;\n    }\n\n    .dataframe tbody tr th {\n        vertical-align: top;\n    }\n\n    .dataframe thead tr th {\n        text-align: left;\n    }\n\n    .dataframe thead tr:last-of-type th {\n        text-align: right;\n    }\n</style>\n<table border=\"1\" class=\"dataframe\">\n  <thead>\n    <tr>\n      <th>episodestart</th>\n      <th colspan=\"3\" halign=\"left\">2023-08-04 11:22:49.017377</th>\n    </tr>\n    <tr>\n      <th>vehicle</th>\n      <th colspan=\"3\" halign=\"left\">VB7</th>\n    </tr>\n    <tr>\n      <th>driver</th>\n      <th colspan=\"3\" halign=\"left\">wang-cheng</th>\n    </tr>\n    <tr>\n      <th>timestamp</th>\n      <th colspan=\"3\" halign=\"left\">2023-08-04 12:22:49.017377</th>\n    </tr>\n    <tr>\n      <th>qtuple</th>\n      <th colspan=\"3\" halign=\"left\">action</th>\n    </tr>\n    <tr>\n      <th>rows</th>\n      <th>r0</th>\n      <th>r1</th>\n      <th>r2</th>\n    </tr>\n    <tr>\n      <th>speed</th>\n      <th>40.0</th>\n      <th>50.0</th>\n      <th>60.0</th>\n    </tr>\n    <tr>\n      <th>timestep</th>\n      <th>2023-08-04 11:22:49.117377</th>\n      <th>2023-08-04 11:22:49.137377</th>\n      <th>2023-08-04 11:22:49.157377</th>\n    </tr>\n    <tr>\n      <th>(2023-08-04 11:22:49.017377, VB7, wang-cheng, 2023-08-04 12:22:49.017377, action, throttle)</th>\n      <th></th>\n      <th></th>\n      <th></th>\n    </tr>\n  </thead>\n  <tbody>\n    <tr>\n      <th>0.0</th>\n      <td>12.0</td>\n      <td>17.0</td>\n      <td>22.0</td>\n    </tr>\n    <tr>\n      <th>0.25</th>\n      <td>13.0</td>\n      <td>18.0</td>\n      <td>23.0</td>\n    </tr>\n    <tr>\n      <th>0.5</th>\n      <td>14.0</td>\n      <td>19.0</td>\n      <td>24.0</td>\n    </tr>\n    <tr>\n      <th>0.75</th>\n      <td>15.0</td>\n      <td>20.0</td>\n      <td>25.0</td>\n    </tr>\n    <tr>\n      <th>1.0</th>\n      <td>16.0</td>\n      <td>21.0</td>\n      <td>26.0</td>\n    </tr>\n  </tbody>\n</table>\n</div>"
     },
     "execution_count": 69,
     "metadata": {},
     "output_type": "execute_result"
    },
    {
     "data": {
      "text/plain": "array([12.0, 17.0, 22.0, 13.0, 18.0, 23.0, 14.0, 19.0, 24.0, 15.0, 20.0,\n       25.0, 16.0, 21.0, 26.0], dtype=object)"
     },
     "execution_count": 69,
     "metadata": {},
     "output_type": "execute_result"
    }
   ],
   "source": [
    "action_timestep = ser_decoded.loc[idx[:,:,:,:,'action', 'timestep']]\n",
    "action_timestep\n",
    "action_speed = ser_decoded.loc[idx[:,:,:,:,'action', 'speed']]\n",
    "action_speed\n",
    "action_multicol = [\n",
    "    (*column, speed, timestep)\n",
    "    for column, timestep, speed in zip(df_action.columns, action_timestep, action_speed)\n",
    "]\n",
    "action_multicol\n",
    "\n",
    "df_action.columns = pd.MultiIndex.from_tuples(\n",
    "    action_multicol, names=['episodestart','vehicle','driver','timestamp','qtuple', 'rows', 'speed', 'timestep']\n",
    ")\n",
    "df_action\n",
    "df_action.values.flatten()"
   ]
  },
  {
   "cell_type": "code",
   "execution_count": 70,
   "metadata": {
    "ExecuteTime": {
     "end_time": "2023-08-04T03:23:01.906131441Z",
     "start_time": "2023-08-04T03:22:50.060870592Z"
    }
   },
   "outputs": [
    {
     "data": {
      "text/plain": "(Timestamp('2023-08-04 11:22:49.017377'),\n 'VB7',\n 'wang-cheng',\n Timestamp('2023-08-04 12:22:49.017377'),\n 'state',\n 'timestep')"
     },
     "execution_count": 70,
     "metadata": {},
     "output_type": "execute_result"
    },
    {
     "data": {
      "text/plain": "episodestart                                       2023-08-04 11:22:49.017377  \\\nvehicle                                                                   VB7   \ndriver                                                             wang-cheng   \ntimestamp                                          2023-08-04 12:22:49.017377   \nqtuple                                                                  state   \nrows                                                                    brake   \n(2023-08-04 11:22:49.017377, VB7, wang-cheng, 2...                              \n2023-08-04 11:22:49.017377                                                8.0   \n2023-08-04 11:22:49.037377                                                9.0   \n2023-08-04 11:22:49.057377                                               10.0   \n2023-08-04 11:22:49.077377                                               11.0   \n\nepisodestart                                                        \nvehicle                                                             \ndriver                                                              \ntimestamp                                                           \nqtuple                                                              \nrows                                               thrust velocity  \n(2023-08-04 11:22:49.017377, VB7, wang-cheng, 2...                  \n2023-08-04 11:22:49.017377                            4.0      0.0  \n2023-08-04 11:22:49.037377                            5.0      1.0  \n2023-08-04 11:22:49.057377                            6.0      2.0  \n2023-08-04 11:22:49.077377                            7.0      3.0  ",
      "text/html": "<div>\n<style scoped>\n    .dataframe tbody tr th:only-of-type {\n        vertical-align: middle;\n    }\n\n    .dataframe tbody tr th {\n        vertical-align: top;\n    }\n\n    .dataframe thead tr th {\n        text-align: left;\n    }\n\n    .dataframe thead tr:last-of-type th {\n        text-align: right;\n    }\n</style>\n<table border=\"1\" class=\"dataframe\">\n  <thead>\n    <tr>\n      <th>episodestart</th>\n      <th colspan=\"3\" halign=\"left\">2023-08-04 11:22:49.017377</th>\n    </tr>\n    <tr>\n      <th>vehicle</th>\n      <th colspan=\"3\" halign=\"left\">VB7</th>\n    </tr>\n    <tr>\n      <th>driver</th>\n      <th colspan=\"3\" halign=\"left\">wang-cheng</th>\n    </tr>\n    <tr>\n      <th>timestamp</th>\n      <th colspan=\"3\" halign=\"left\">2023-08-04 12:22:49.017377</th>\n    </tr>\n    <tr>\n      <th>qtuple</th>\n      <th colspan=\"3\" halign=\"left\">state</th>\n    </tr>\n    <tr>\n      <th>rows</th>\n      <th>brake</th>\n      <th>thrust</th>\n      <th>velocity</th>\n    </tr>\n    <tr>\n      <th>(2023-08-04 11:22:49.017377, VB7, wang-cheng, 2023-08-04 12:22:49.017377, state, timestep)</th>\n      <th></th>\n      <th></th>\n      <th></th>\n    </tr>\n  </thead>\n  <tbody>\n    <tr>\n      <th>2023-08-04 11:22:49.017377</th>\n      <td>8.0</td>\n      <td>4.0</td>\n      <td>0.0</td>\n    </tr>\n    <tr>\n      <th>2023-08-04 11:22:49.037377</th>\n      <td>9.0</td>\n      <td>5.0</td>\n      <td>1.0</td>\n    </tr>\n    <tr>\n      <th>2023-08-04 11:22:49.057377</th>\n      <td>10.0</td>\n      <td>6.0</td>\n      <td>2.0</td>\n    </tr>\n    <tr>\n      <th>2023-08-04 11:22:49.077377</th>\n      <td>11.0</td>\n      <td>7.0</td>\n      <td>3.0</td>\n    </tr>\n  </tbody>\n</table>\n</div>"
     },
     "execution_count": 70,
     "metadata": {},
     "output_type": "execute_result"
    }
   ],
   "source": [
    "ser_state = ser_decoded.loc[idx[:,:,:,:,'state', ['brake', 'thrust', 'velocity', 'timestep']]]\n",
    "# ser_state\n",
    "df_state = ser_state.unstack([0,1,2,3,4,5])\n",
    "# df_state = ser_state.unstack(level=[0, 1]).set_index(('state', 'timestep'))\n",
    "# df_state\n",
    "multiindex = df_state.columns\n",
    "multiindex[-1]\n",
    "df_state.set_index(multiindex[-1], inplace=True)\n",
    "# multiindex[idx[:,:,:,:,:,'timestep']]\n",
    "# df_state.set_index(multiindex[idx[:,:,:,:,:,'timestep']], inplace=True)\n",
    "df_state\n",
    "# df_state.values\n"
   ]
  },
  {
   "cell_type": "code",
   "execution_count": 71,
   "metadata": {
    "ExecuteTime": {
     "end_time": "2023-08-04T03:23:01.906852446Z",
     "start_time": "2023-08-04T03:22:50.061113248Z"
    }
   },
   "outputs": [
    {
     "data": {
      "text/plain": "episodestart                                       2023-08-04 11:22:49.017377  \\\nvehicle                                                                   VB7   \ndriver                                                             wang-cheng   \ntimestamp                                          2023-08-04 12:22:49.017377   \nqtuple                                                                 action   \nrows                                                                       r0   \nspeed                                                                    40.0   \ntimestep                                           2023-08-04 11:22:49.117377   \n(2023-08-04 11:22:49.017377, VB7, wang-cheng, 2...                              \n0.0                                                                      12.0   \n0.25                                                                     13.0   \n0.5                                                                      14.0   \n0.75                                                                     15.0   \n1.0                                                                      16.0   \n\nepisodestart                                                                   \\\nvehicle                                                                         \ndriver                                                                          \ntimestamp                                                                       \nqtuple                                                                          \nrows                                                                       r1   \nspeed                                                                    50.0   \ntimestep                                           2023-08-04 11:22:49.137377   \n(2023-08-04 11:22:49.017377, VB7, wang-cheng, 2...                              \n0.0                                                                      17.0   \n0.25                                                                     18.0   \n0.5                                                                      19.0   \n0.75                                                                     20.0   \n1.0                                                                      21.0   \n\nepisodestart                                                                   \nvehicle                                                                        \ndriver                                                                         \ntimestamp                                                                      \nqtuple                                                                         \nrows                                                                       r2  \nspeed                                                                    60.0  \ntimestep                                           2023-08-04 11:22:49.157377  \n(2023-08-04 11:22:49.017377, VB7, wang-cheng, 2...                             \n0.0                                                                      22.0  \n0.25                                                                     23.0  \n0.5                                                                      24.0  \n0.75                                                                     25.0  \n1.0                                                                      26.0  ",
      "text/html": "<div>\n<style scoped>\n    .dataframe tbody tr th:only-of-type {\n        vertical-align: middle;\n    }\n\n    .dataframe tbody tr th {\n        vertical-align: top;\n    }\n\n    .dataframe thead tr th {\n        text-align: left;\n    }\n\n    .dataframe thead tr:last-of-type th {\n        text-align: right;\n    }\n</style>\n<table border=\"1\" class=\"dataframe\">\n  <thead>\n    <tr>\n      <th>episodestart</th>\n      <th colspan=\"3\" halign=\"left\">2023-08-04 11:22:49.017377</th>\n    </tr>\n    <tr>\n      <th>vehicle</th>\n      <th colspan=\"3\" halign=\"left\">VB7</th>\n    </tr>\n    <tr>\n      <th>driver</th>\n      <th colspan=\"3\" halign=\"left\">wang-cheng</th>\n    </tr>\n    <tr>\n      <th>timestamp</th>\n      <th colspan=\"3\" halign=\"left\">2023-08-04 12:22:49.017377</th>\n    </tr>\n    <tr>\n      <th>qtuple</th>\n      <th colspan=\"3\" halign=\"left\">action</th>\n    </tr>\n    <tr>\n      <th>rows</th>\n      <th>r0</th>\n      <th>r1</th>\n      <th>r2</th>\n    </tr>\n    <tr>\n      <th>speed</th>\n      <th>40.0</th>\n      <th>50.0</th>\n      <th>60.0</th>\n    </tr>\n    <tr>\n      <th>timestep</th>\n      <th>2023-08-04 11:22:49.117377</th>\n      <th>2023-08-04 11:22:49.137377</th>\n      <th>2023-08-04 11:22:49.157377</th>\n    </tr>\n    <tr>\n      <th>(2023-08-04 11:22:49.017377, VB7, wang-cheng, 2023-08-04 12:22:49.017377, action, throttle)</th>\n      <th></th>\n      <th></th>\n      <th></th>\n    </tr>\n  </thead>\n  <tbody>\n    <tr>\n      <th>0.0</th>\n      <td>12.0</td>\n      <td>17.0</td>\n      <td>22.0</td>\n    </tr>\n    <tr>\n      <th>0.25</th>\n      <td>13.0</td>\n      <td>18.0</td>\n      <td>23.0</td>\n    </tr>\n    <tr>\n      <th>0.5</th>\n      <td>14.0</td>\n      <td>19.0</td>\n      <td>24.0</td>\n    </tr>\n    <tr>\n      <th>0.75</th>\n      <td>15.0</td>\n      <td>20.0</td>\n      <td>25.0</td>\n    </tr>\n    <tr>\n      <th>1.0</th>\n      <td>16.0</td>\n      <td>21.0</td>\n      <td>26.0</td>\n    </tr>\n  </tbody>\n</table>\n</div>"
     },
     "execution_count": 71,
     "metadata": {},
     "output_type": "execute_result"
    },
    {
     "data": {
      "text/plain": "episodestart                                       2023-08-04 11:22:49.017377  \\\nvehicle                                                                   VB7   \ndriver                                                             wang-cheng   \ntimestamp                                          2023-08-04 12:22:49.017377   \nqtuple                                                                  state   \nrows                                                                    brake   \n(2023-08-04 11:22:49.017377, VB7, wang-cheng, 2...                              \n2023-08-04 11:22:49.017377                                                8.0   \n2023-08-04 11:22:49.037377                                                9.0   \n2023-08-04 11:22:49.057377                                               10.0   \n2023-08-04 11:22:49.077377                                               11.0   \n\nepisodestart                                                        \nvehicle                                                             \ndriver                                                              \ntimestamp                                                           \nqtuple                                                              \nrows                                               thrust velocity  \n(2023-08-04 11:22:49.017377, VB7, wang-cheng, 2...                  \n2023-08-04 11:22:49.017377                            4.0      0.0  \n2023-08-04 11:22:49.037377                            5.0      1.0  \n2023-08-04 11:22:49.057377                            6.0      2.0  \n2023-08-04 11:22:49.077377                            7.0      3.0  ",
      "text/html": "<div>\n<style scoped>\n    .dataframe tbody tr th:only-of-type {\n        vertical-align: middle;\n    }\n\n    .dataframe tbody tr th {\n        vertical-align: top;\n    }\n\n    .dataframe thead tr th {\n        text-align: left;\n    }\n\n    .dataframe thead tr:last-of-type th {\n        text-align: right;\n    }\n</style>\n<table border=\"1\" class=\"dataframe\">\n  <thead>\n    <tr>\n      <th>episodestart</th>\n      <th colspan=\"3\" halign=\"left\">2023-08-04 11:22:49.017377</th>\n    </tr>\n    <tr>\n      <th>vehicle</th>\n      <th colspan=\"3\" halign=\"left\">VB7</th>\n    </tr>\n    <tr>\n      <th>driver</th>\n      <th colspan=\"3\" halign=\"left\">wang-cheng</th>\n    </tr>\n    <tr>\n      <th>timestamp</th>\n      <th colspan=\"3\" halign=\"left\">2023-08-04 12:22:49.017377</th>\n    </tr>\n    <tr>\n      <th>qtuple</th>\n      <th colspan=\"3\" halign=\"left\">state</th>\n    </tr>\n    <tr>\n      <th>rows</th>\n      <th>brake</th>\n      <th>thrust</th>\n      <th>velocity</th>\n    </tr>\n    <tr>\n      <th>(2023-08-04 11:22:49.017377, VB7, wang-cheng, 2023-08-04 12:22:49.017377, state, timestep)</th>\n      <th></th>\n      <th></th>\n      <th></th>\n    </tr>\n  </thead>\n  <tbody>\n    <tr>\n      <th>2023-08-04 11:22:49.017377</th>\n      <td>8.0</td>\n      <td>4.0</td>\n      <td>0.0</td>\n    </tr>\n    <tr>\n      <th>2023-08-04 11:22:49.037377</th>\n      <td>9.0</td>\n      <td>5.0</td>\n      <td>1.0</td>\n    </tr>\n    <tr>\n      <th>2023-08-04 11:22:49.057377</th>\n      <td>10.0</td>\n      <td>6.0</td>\n      <td>2.0</td>\n    </tr>\n    <tr>\n      <th>2023-08-04 11:22:49.077377</th>\n      <td>11.0</td>\n      <td>7.0</td>\n      <td>3.0</td>\n    </tr>\n  </tbody>\n</table>\n</div>"
     },
     "execution_count": 71,
     "metadata": {},
     "output_type": "execute_result"
    },
    {
     "data": {
      "text/plain": "episodestart                                       2023-08-04 11:22:49.017377  \\\nvehicle                                                                   VB7   \ndriver                                                             wang-cheng   \ntimestamp                                          2023-08-04 12:22:49.017377   \nqtuple                                                                 nstate   \nrows                                                                    brake   \n(2023-08-04 11:22:49.017377, VB7, wang-cheng, 2...                              \n2023-08-04 11:22:54.017377                                               37.0   \n2023-08-04 11:22:54.037377                                               38.0   \n2023-08-04 11:22:54.057377                                               39.0   \n2023-08-04 11:22:54.077377                                               40.0   \n\nepisodestart                                                        \nvehicle                                                             \ndriver                                                              \ntimestamp                                                           \nqtuple                                                              \nrows                                               thrust velocity  \n(2023-08-04 11:22:49.017377, VB7, wang-cheng, 2...                  \n2023-08-04 11:22:54.017377                           33.0     29.0  \n2023-08-04 11:22:54.037377                           34.0     30.0  \n2023-08-04 11:22:54.057377                           35.0     31.0  \n2023-08-04 11:22:54.077377                           36.0     32.0  ",
      "text/html": "<div>\n<style scoped>\n    .dataframe tbody tr th:only-of-type {\n        vertical-align: middle;\n    }\n\n    .dataframe tbody tr th {\n        vertical-align: top;\n    }\n\n    .dataframe thead tr th {\n        text-align: left;\n    }\n\n    .dataframe thead tr:last-of-type th {\n        text-align: right;\n    }\n</style>\n<table border=\"1\" class=\"dataframe\">\n  <thead>\n    <tr>\n      <th>episodestart</th>\n      <th colspan=\"3\" halign=\"left\">2023-08-04 11:22:49.017377</th>\n    </tr>\n    <tr>\n      <th>vehicle</th>\n      <th colspan=\"3\" halign=\"left\">VB7</th>\n    </tr>\n    <tr>\n      <th>driver</th>\n      <th colspan=\"3\" halign=\"left\">wang-cheng</th>\n    </tr>\n    <tr>\n      <th>timestamp</th>\n      <th colspan=\"3\" halign=\"left\">2023-08-04 12:22:49.017377</th>\n    </tr>\n    <tr>\n      <th>qtuple</th>\n      <th colspan=\"3\" halign=\"left\">nstate</th>\n    </tr>\n    <tr>\n      <th>rows</th>\n      <th>brake</th>\n      <th>thrust</th>\n      <th>velocity</th>\n    </tr>\n    <tr>\n      <th>(2023-08-04 11:22:49.017377, VB7, wang-cheng, 2023-08-04 12:22:49.017377, nstate, timestep)</th>\n      <th></th>\n      <th></th>\n      <th></th>\n    </tr>\n  </thead>\n  <tbody>\n    <tr>\n      <th>2023-08-04 11:22:54.017377</th>\n      <td>37.0</td>\n      <td>33.0</td>\n      <td>29.0</td>\n    </tr>\n    <tr>\n      <th>2023-08-04 11:22:54.037377</th>\n      <td>38.0</td>\n      <td>34.0</td>\n      <td>30.0</td>\n    </tr>\n    <tr>\n      <th>2023-08-04 11:22:54.057377</th>\n      <td>39.0</td>\n      <td>35.0</td>\n      <td>31.0</td>\n    </tr>\n    <tr>\n      <th>2023-08-04 11:22:54.077377</th>\n      <td>40.0</td>\n      <td>36.0</td>\n      <td>32.0</td>\n    </tr>\n  </tbody>\n</table>\n</div>"
     },
     "execution_count": 71,
     "metadata": {},
     "output_type": "execute_result"
    }
   ],
   "source": [
    "idx = pd.IndexSlice\n",
    "ser_decoded = pd.Series(dict_observations_list[0])\n",
    "ser_decoded.index.names =[ 'episodestart', 'vehicle', 'driver', 'timestamp', 'qtuple', 'rows', 'idx']\n",
    "ser_action = ser_decoded.loc[idx[:, :, :, :, 'action', ['r0', 'r1', 'r2', 'throttle']]]\n",
    "df_action = ser_action.unstack([0,1,2,3,4,5])\n",
    "multiindex = df_action.columns\n",
    "df_action.set_index(multiindex[-1], inplace=True)\n",
    "\n",
    "action_timestep = ser_decoded.loc[idx[:,:,:,:,'action', 'timestep']]\n",
    "action_speed = ser_decoded.loc[idx[:,:,:,:,'action', 'speed']]\n",
    "action_multicol = [\n",
    "    (*column, speed, timestep)\n",
    "    for column, timestep, speed in zip(df_action.columns, action_timestep, action_speed)\n",
    "]\n",
    "df_action.columns = pd.MultiIndex.from_tuples(\n",
    "    action_multicol, names=['episodestart','vehicle','driver','timestamp','qtuple', 'rows', 'speed', 'timestep']\n",
    ")\n",
    "df_action\n",
    "\n",
    "\n",
    "ser_state = ser_decoded.loc[idx[:,:,:,:,'state', ['brake', 'thrust', 'velocity', 'timestep']]]\n",
    "df_state = ser_state.unstack([0,1,2,3,4,5])\n",
    "multiindex = df_state.columns\n",
    "df_state.set_index(multiindex[-1], inplace=True)\n",
    "df_state\n",
    "\n",
    "\n",
    "ser_nstate = ser_decoded.loc[idx[:,:,:,:,'nstate', ['brake', 'thrust', 'velocity', 'timestep']]]\n",
    "df_nstate = ser_nstate.unstack([0,1,2,3,4,5])\n",
    "multiindex = df_nstate.columns\n",
    "df_nstate.set_index(multiindex[-1], inplace=True)\n",
    "df_nstate\n",
    "\n"
   ]
  },
  {
   "cell_type": "code",
   "execution_count": 72,
   "metadata": {
    "ExecuteTime": {
     "end_time": "2023-08-04T03:23:01.907189789Z",
     "start_time": "2023-08-04T03:22:50.104895109Z"
    }
   },
   "outputs": [
    {
     "data": {
      "text/plain": "episodestart                                       2023-08-04 11:22:49.017377\nvehicle                                                                   VB7\ndriver                                                             wang-cheng\ntimestamp                                          2023-08-04 12:22:49.017377\nqtuple                                                                 reward\nrows                                                                     work\n(2023-08-04 11:22:49.017377, VB7, wang-cheng, 2...                           \n2023-08-04 11:22:49.117377                                               27.0",
      "text/html": "<div>\n<style scoped>\n    .dataframe tbody tr th:only-of-type {\n        vertical-align: middle;\n    }\n\n    .dataframe tbody tr th {\n        vertical-align: top;\n    }\n\n    .dataframe thead tr th {\n        text-align: left;\n    }\n\n    .dataframe thead tr:last-of-type th {\n        text-align: right;\n    }\n</style>\n<table border=\"1\" class=\"dataframe\">\n  <thead>\n    <tr>\n      <th>episodestart</th>\n      <th>2023-08-04 11:22:49.017377</th>\n    </tr>\n    <tr>\n      <th>vehicle</th>\n      <th>VB7</th>\n    </tr>\n    <tr>\n      <th>driver</th>\n      <th>wang-cheng</th>\n    </tr>\n    <tr>\n      <th>timestamp</th>\n      <th>2023-08-04 12:22:49.017377</th>\n    </tr>\n    <tr>\n      <th>qtuple</th>\n      <th>reward</th>\n    </tr>\n    <tr>\n      <th>rows</th>\n      <th>work</th>\n    </tr>\n    <tr>\n      <th>(2023-08-04 11:22:49.017377, VB7, wang-cheng, 2023-08-04 12:22:49.017377, reward, timestep)</th>\n      <th></th>\n    </tr>\n  </thead>\n  <tbody>\n    <tr>\n      <th>2023-08-04 11:22:49.117377</th>\n      <td>27.0</td>\n    </tr>\n  </tbody>\n</table>\n</div>"
     },
     "execution_count": 72,
     "metadata": {},
     "output_type": "execute_result"
    }
   ],
   "source": [
    "ser_reward = ser_decoded.loc[idx[:,:,:,:,'reward', ['work', 'timestep']]]\n",
    "# ser_reward = pd.Series(\n",
    "#     data=[ser_reward[('reward', 'work', 0)]],\n",
    "#     index=[ser_reward[('reward', 'timestep', 0)]],\n",
    "#     name='work',\n",
    "# )\n",
    "ser_reward = ser_reward.unstack([0,1,2,3,4,5])\n",
    "multiindex = ser_reward.columns\n",
    "ser_reward.set_index(multiindex[-1], inplace=True)\n",
    "ser_reward"
   ]
  },
  {
   "cell_type": "code",
   "execution_count": 73,
   "metadata": {
    "ExecuteTime": {
     "end_time": "2023-08-04T03:23:01.907326817Z",
     "start_time": "2023-08-04T03:22:50.105136292Z"
    }
   },
   "outputs": [],
   "source": [
    "# ser_reward = ser_decoded.loc[idx[:,:,:,:,'reward', ['work', 'timestep']]]\n",
    "# ser_reward = pd.Series(\n",
    "#     data=[ser_reward[multiindex[0]]],\n",
    "#     index=[ser_reward[multiindex[1]]],\n",
    "#     name='work',\n",
    "# )\n",
    "# ser_reward"
   ]
  },
  {
   "cell_type": "code",
   "execution_count": 74,
   "metadata": {
    "ExecuteTime": {
     "end_time": "2023-08-04T03:23:01.907478962Z",
     "start_time": "2023-08-04T03:22:50.148723987Z"
    }
   },
   "outputs": [],
   "source": [
    "df_actions = []\n",
    "df_states = []\n",
    "df_nstates = []\n",
    "ser_rewards = []\n",
    "\n",
    "for dict_observations in dict_observations_list:\n",
    "    idx = pd.IndexSlice\n",
    "    ser_decoded = pd.Series(dict_observations)\n",
    "    ser_decoded.index.names =[ 'episodestart', 'vehicle', 'driver', 'timestamp', 'qtuple', 'rows', 'idx']\n",
    "\n",
    "    ser_action = ser_decoded.loc[idx[:, :, :, :, 'action', ['r0', 'r1', 'r2', 'throttle']]]\n",
    "    df_action = ser_action.unstack([0,1,2,3,4,5])\n",
    "    multiindex = df_action.columns\n",
    "    df_action.set_index(multiindex[-1], inplace=True)\n",
    "\n",
    "    action_timestep = ser_decoded.loc[idx[:,:,:,:,'action', 'timestep']]\n",
    "    action_speed = ser_decoded.loc[idx[:,:,:,:,'action', 'speed']]\n",
    "    action_multicol = [\n",
    "        (*column, speed, timestep)\n",
    "        for column, timestep, speed in zip(df_action.columns, action_timestep, action_speed)\n",
    "    ]\n",
    "    df_action.columns = pd.MultiIndex.from_tuples(\n",
    "        action_multicol, names=['episodestart','vehicle','driver','timestamp','qtuple', 'rows', 'speed', 'timestep']\n",
    "    )\n",
    "    # df_action\n",
    "    df_actions.append(df_action)\n",
    "\n",
    "\n",
    "    ser_state = ser_decoded.loc[idx[:,:,:,:,'state', ['brake', 'thrust', 'velocity', 'timestep']]]\n",
    "    df_state = ser_state.unstack([0,1,2,3,4,5])\n",
    "    multiindex = df_state.columns\n",
    "    df_state.set_index(multiindex[-1], inplace=True)\n",
    "    # df_state\n",
    "    df_states.append(df_state)\n",
    "\n",
    "\n",
    "    ser_nstate = ser_decoded.loc[idx[:,:,:,:,'nstate', ['brake', 'thrust', 'velocity', 'timestep']]]\n",
    "    df_nstate = ser_nstate.unstack([0,1,2,3,4,5])\n",
    "    multiindex = df_nstate.columns\n",
    "    df_nstate.set_index(multiindex[-1], inplace=True)\n",
    "    # df_nstate\n",
    "    df_nstates.append(df_nstate)\n",
    "\n",
    "    ser_reward = ser_decoded.loc[idx[:,:,:,:,'reward', ['work', 'timestep']]]\n",
    "    ser_reward = ser_reward.unstack([0,1,2,3,4,5])\n",
    "    multiindex = ser_reward.columns\n",
    "    ser_reward.set_index(multiindex[-1], inplace=True)\n",
    "    # ser_reward\n",
    "    ser_rewards.append(ser_reward)\n"
   ]
  },
  {
   "cell_type": "markdown",
   "metadata": {},
   "source": [
    "### simply concatenate the pandas dataframes leads to confusion\n",
    "please see the following.\n"
   ]
  },
  {
   "cell_type": "code",
   "execution_count": 75,
   "metadata": {
    "ExecuteTime": {
     "end_time": "2023-08-04T03:23:01.908514077Z",
     "start_time": "2023-08-04T03:22:50.181657234Z"
    }
   },
   "outputs": [
    {
     "data": {
      "text/plain": "episodestart 2023-08-04 11:22:49.017377                             \\\nvehicle                             VB7                              \ndriver                       wang-cheng                              \ntimestamp    2023-08-04 12:22:49.017377                              \nqtuple                           action                              \nrows                                 r0                         r1   \nspeed                              40.0                       50.0   \ntimestep     2023-08-04 11:22:49.117377 2023-08-04 11:22:49.137377   \n0.00                               12.0                       17.0   \n0.25                               13.0                       18.0   \n0.50                               14.0                       19.0   \n0.75                               15.0                       20.0   \n1.00                               16.0                       21.0   \n0.00                                NaN                        NaN   \n0.25                                NaN                        NaN   \n0.50                                NaN                        NaN   \n0.75                                NaN                        NaN   \n1.00                                NaN                        NaN   \n0.00                                NaN                        NaN   \n0.25                                NaN                        NaN   \n0.50                                NaN                        NaN   \n0.75                                NaN                        NaN   \n1.00                                NaN                        NaN   \n0.00                                NaN                        NaN   \n0.25                                NaN                        NaN   \n0.50                                NaN                        NaN   \n0.75                                NaN                        NaN   \n1.00                                NaN                        NaN   \n0.00                                NaN                        NaN   \n0.25                                NaN                        NaN   \n0.50                                NaN                        NaN   \n0.75                                NaN                        NaN   \n1.00                                NaN                        NaN   \n\nepisodestart                                                        \\\nvehicle                                                              \ndriver                                                               \ntimestamp                               2023-08-04 13:22:49.017377   \nqtuple                                                      action   \nrows                                 r2                         r0   \nspeed                              60.0                       40.0   \ntimestep     2023-08-04 11:22:49.157377 2023-08-04 11:22:49.117377   \n0.00                               22.0                        NaN   \n0.25                               23.0                        NaN   \n0.50                               24.0                        NaN   \n0.75                               25.0                        NaN   \n1.00                               26.0                        NaN   \n0.00                                NaN                       12.0   \n0.25                                NaN                       13.0   \n0.50                                NaN                       14.0   \n0.75                                NaN                       15.0   \n1.00                                NaN                       16.0   \n0.00                                NaN                        NaN   \n0.25                                NaN                        NaN   \n0.50                                NaN                        NaN   \n0.75                                NaN                        NaN   \n1.00                                NaN                        NaN   \n0.00                                NaN                        NaN   \n0.25                                NaN                        NaN   \n0.50                                NaN                        NaN   \n0.75                                NaN                        NaN   \n1.00                                NaN                        NaN   \n0.00                                NaN                        NaN   \n0.25                                NaN                        NaN   \n0.50                                NaN                        NaN   \n0.75                                NaN                        NaN   \n1.00                                NaN                        NaN   \n\nepisodestart                                                        \\\nvehicle                                                              \ndriver                                                               \ntimestamp                                                            \nqtuple                                                               \nrows                                 r1                         r2   \nspeed                              50.0                       60.0   \ntimestep     2023-08-04 11:22:49.137377 2023-08-04 11:22:49.157377   \n0.00                                NaN                        NaN   \n0.25                                NaN                        NaN   \n0.50                                NaN                        NaN   \n0.75                                NaN                        NaN   \n1.00                                NaN                        NaN   \n0.00                               17.0                       22.0   \n0.25                               18.0                       23.0   \n0.50                               19.0                       24.0   \n0.75                               20.0                       25.0   \n1.00                               21.0                       26.0   \n0.00                                NaN                        NaN   \n0.25                                NaN                        NaN   \n0.50                                NaN                        NaN   \n0.75                                NaN                        NaN   \n1.00                                NaN                        NaN   \n0.00                                NaN                        NaN   \n0.25                                NaN                        NaN   \n0.50                                NaN                        NaN   \n0.75                                NaN                        NaN   \n1.00                                NaN                        NaN   \n0.00                                NaN                        NaN   \n0.25                                NaN                        NaN   \n0.50                                NaN                        NaN   \n0.75                                NaN                        NaN   \n1.00                                NaN                        NaN   \n\nepisodestart                                                        \\\nvehicle                                                              \ndriver                                                               \ntimestamp    2023-08-04 14:22:49.017377                              \nqtuple                           action                              \nrows                                 r0                         r1   \nspeed                              40.0                       50.0   \ntimestep     2023-08-04 11:22:49.117377 2023-08-04 11:22:49.137377   \n0.00                                NaN                        NaN   \n0.25                                NaN                        NaN   \n0.50                                NaN                        NaN   \n0.75                                NaN                        NaN   \n1.00                                NaN                        NaN   \n0.00                                NaN                        NaN   \n0.25                                NaN                        NaN   \n0.50                                NaN                        NaN   \n0.75                                NaN                        NaN   \n1.00                                NaN                        NaN   \n0.00                               12.0                       17.0   \n0.25                               13.0                       18.0   \n0.50                               14.0                       19.0   \n0.75                               15.0                       20.0   \n1.00                               16.0                       21.0   \n0.00                                NaN                        NaN   \n0.25                                NaN                        NaN   \n0.50                                NaN                        NaN   \n0.75                                NaN                        NaN   \n1.00                                NaN                        NaN   \n0.00                                NaN                        NaN   \n0.25                                NaN                        NaN   \n0.50                                NaN                        NaN   \n0.75                                NaN                        NaN   \n1.00                                NaN                        NaN   \n\nepisodestart                                                        \\\nvehicle                                                              \ndriver                                                               \ntimestamp                               2023-08-04 15:22:49.017377   \nqtuple                                                      action   \nrows                                 r2                         r0   \nspeed                              60.0                       40.0   \ntimestep     2023-08-04 11:22:49.157377 2023-08-04 11:22:49.117377   \n0.00                                NaN                        NaN   \n0.25                                NaN                        NaN   \n0.50                                NaN                        NaN   \n0.75                                NaN                        NaN   \n1.00                                NaN                        NaN   \n0.00                                NaN                        NaN   \n0.25                                NaN                        NaN   \n0.50                                NaN                        NaN   \n0.75                                NaN                        NaN   \n1.00                                NaN                        NaN   \n0.00                               22.0                        NaN   \n0.25                               23.0                        NaN   \n0.50                               24.0                        NaN   \n0.75                               25.0                        NaN   \n1.00                               26.0                        NaN   \n0.00                                NaN                       12.0   \n0.25                                NaN                       13.0   \n0.50                                NaN                       14.0   \n0.75                                NaN                       15.0   \n1.00                                NaN                       16.0   \n0.00                                NaN                        NaN   \n0.25                                NaN                        NaN   \n0.50                                NaN                        NaN   \n0.75                                NaN                        NaN   \n1.00                                NaN                        NaN   \n\nepisodestart                                                        \\\nvehicle                                                              \ndriver                                                               \ntimestamp                                                            \nqtuple                                                               \nrows                                 r1                         r2   \nspeed                              50.0                       60.0   \ntimestep     2023-08-04 11:22:49.137377 2023-08-04 11:22:49.157377   \n0.00                                NaN                        NaN   \n0.25                                NaN                        NaN   \n0.50                                NaN                        NaN   \n0.75                                NaN                        NaN   \n1.00                                NaN                        NaN   \n0.00                                NaN                        NaN   \n0.25                                NaN                        NaN   \n0.50                                NaN                        NaN   \n0.75                                NaN                        NaN   \n1.00                                NaN                        NaN   \n0.00                                NaN                        NaN   \n0.25                                NaN                        NaN   \n0.50                                NaN                        NaN   \n0.75                                NaN                        NaN   \n1.00                                NaN                        NaN   \n0.00                               17.0                       22.0   \n0.25                               18.0                       23.0   \n0.50                               19.0                       24.0   \n0.75                               20.0                       25.0   \n1.00                               21.0                       26.0   \n0.00                                NaN                        NaN   \n0.25                                NaN                        NaN   \n0.50                                NaN                        NaN   \n0.75                                NaN                        NaN   \n1.00                                NaN                        NaN   \n\nepisodestart                                                        \\\nvehicle                                                              \ndriver                                                               \ntimestamp    2023-08-04 16:22:49.017377                              \nqtuple                           action                              \nrows                                 r0                         r1   \nspeed                              40.0                       50.0   \ntimestep     2023-08-04 11:22:49.117377 2023-08-04 11:22:49.137377   \n0.00                                NaN                        NaN   \n0.25                                NaN                        NaN   \n0.50                                NaN                        NaN   \n0.75                                NaN                        NaN   \n1.00                                NaN                        NaN   \n0.00                                NaN                        NaN   \n0.25                                NaN                        NaN   \n0.50                                NaN                        NaN   \n0.75                                NaN                        NaN   \n1.00                                NaN                        NaN   \n0.00                                NaN                        NaN   \n0.25                                NaN                        NaN   \n0.50                                NaN                        NaN   \n0.75                                NaN                        NaN   \n1.00                                NaN                        NaN   \n0.00                                NaN                        NaN   \n0.25                                NaN                        NaN   \n0.50                                NaN                        NaN   \n0.75                                NaN                        NaN   \n1.00                                NaN                        NaN   \n0.00                               12.0                       17.0   \n0.25                               13.0                       18.0   \n0.50                               14.0                       19.0   \n0.75                               15.0                       20.0   \n1.00                               16.0                       21.0   \n\nepisodestart                             \nvehicle                                  \ndriver                                   \ntimestamp                                \nqtuple                                   \nrows                                 r2  \nspeed                              60.0  \ntimestep     2023-08-04 11:22:49.157377  \n0.00                                NaN  \n0.25                                NaN  \n0.50                                NaN  \n0.75                                NaN  \n1.00                                NaN  \n0.00                                NaN  \n0.25                                NaN  \n0.50                                NaN  \n0.75                                NaN  \n1.00                                NaN  \n0.00                                NaN  \n0.25                                NaN  \n0.50                                NaN  \n0.75                                NaN  \n1.00                                NaN  \n0.00                                NaN  \n0.25                                NaN  \n0.50                                NaN  \n0.75                                NaN  \n1.00                                NaN  \n0.00                               22.0  \n0.25                               23.0  \n0.50                               24.0  \n0.75                               25.0  \n1.00                               26.0  ",
      "text/html": "<div>\n<style scoped>\n    .dataframe tbody tr th:only-of-type {\n        vertical-align: middle;\n    }\n\n    .dataframe tbody tr th {\n        vertical-align: top;\n    }\n\n    .dataframe thead tr th {\n        text-align: left;\n    }\n</style>\n<table border=\"1\" class=\"dataframe\">\n  <thead>\n    <tr>\n      <th>episodestart</th>\n      <th colspan=\"15\" halign=\"left\">2023-08-04 11:22:49.017377</th>\n    </tr>\n    <tr>\n      <th>vehicle</th>\n      <th colspan=\"15\" halign=\"left\">VB7</th>\n    </tr>\n    <tr>\n      <th>driver</th>\n      <th colspan=\"15\" halign=\"left\">wang-cheng</th>\n    </tr>\n    <tr>\n      <th>timestamp</th>\n      <th colspan=\"3\" halign=\"left\">2023-08-04 12:22:49.017377</th>\n      <th colspan=\"3\" halign=\"left\">2023-08-04 13:22:49.017377</th>\n      <th colspan=\"3\" halign=\"left\">2023-08-04 14:22:49.017377</th>\n      <th colspan=\"3\" halign=\"left\">2023-08-04 15:22:49.017377</th>\n      <th colspan=\"3\" halign=\"left\">2023-08-04 16:22:49.017377</th>\n    </tr>\n    <tr>\n      <th>qtuple</th>\n      <th colspan=\"3\" halign=\"left\">action</th>\n      <th colspan=\"3\" halign=\"left\">action</th>\n      <th colspan=\"3\" halign=\"left\">action</th>\n      <th colspan=\"3\" halign=\"left\">action</th>\n      <th colspan=\"3\" halign=\"left\">action</th>\n    </tr>\n    <tr>\n      <th>rows</th>\n      <th>r0</th>\n      <th>r1</th>\n      <th>r2</th>\n      <th>r0</th>\n      <th>r1</th>\n      <th>r2</th>\n      <th>r0</th>\n      <th>r1</th>\n      <th>r2</th>\n      <th>r0</th>\n      <th>r1</th>\n      <th>r2</th>\n      <th>r0</th>\n      <th>r1</th>\n      <th>r2</th>\n    </tr>\n    <tr>\n      <th>speed</th>\n      <th>40.0</th>\n      <th>50.0</th>\n      <th>60.0</th>\n      <th>40.0</th>\n      <th>50.0</th>\n      <th>60.0</th>\n      <th>40.0</th>\n      <th>50.0</th>\n      <th>60.0</th>\n      <th>40.0</th>\n      <th>50.0</th>\n      <th>60.0</th>\n      <th>40.0</th>\n      <th>50.0</th>\n      <th>60.0</th>\n    </tr>\n    <tr>\n      <th>timestep</th>\n      <th>2023-08-04 11:22:49.117377</th>\n      <th>2023-08-04 11:22:49.137377</th>\n      <th>2023-08-04 11:22:49.157377</th>\n      <th>2023-08-04 11:22:49.117377</th>\n      <th>2023-08-04 11:22:49.137377</th>\n      <th>2023-08-04 11:22:49.157377</th>\n      <th>2023-08-04 11:22:49.117377</th>\n      <th>2023-08-04 11:22:49.137377</th>\n      <th>2023-08-04 11:22:49.157377</th>\n      <th>2023-08-04 11:22:49.117377</th>\n      <th>2023-08-04 11:22:49.137377</th>\n      <th>2023-08-04 11:22:49.157377</th>\n      <th>2023-08-04 11:22:49.117377</th>\n      <th>2023-08-04 11:22:49.137377</th>\n      <th>2023-08-04 11:22:49.157377</th>\n    </tr>\n  </thead>\n  <tbody>\n    <tr>\n      <th>0.00</th>\n      <td>12.0</td>\n      <td>17.0</td>\n      <td>22.0</td>\n      <td>NaN</td>\n      <td>NaN</td>\n      <td>NaN</td>\n      <td>NaN</td>\n      <td>NaN</td>\n      <td>NaN</td>\n      <td>NaN</td>\n      <td>NaN</td>\n      <td>NaN</td>\n      <td>NaN</td>\n      <td>NaN</td>\n      <td>NaN</td>\n    </tr>\n    <tr>\n      <th>0.25</th>\n      <td>13.0</td>\n      <td>18.0</td>\n      <td>23.0</td>\n      <td>NaN</td>\n      <td>NaN</td>\n      <td>NaN</td>\n      <td>NaN</td>\n      <td>NaN</td>\n      <td>NaN</td>\n      <td>NaN</td>\n      <td>NaN</td>\n      <td>NaN</td>\n      <td>NaN</td>\n      <td>NaN</td>\n      <td>NaN</td>\n    </tr>\n    <tr>\n      <th>0.50</th>\n      <td>14.0</td>\n      <td>19.0</td>\n      <td>24.0</td>\n      <td>NaN</td>\n      <td>NaN</td>\n      <td>NaN</td>\n      <td>NaN</td>\n      <td>NaN</td>\n      <td>NaN</td>\n      <td>NaN</td>\n      <td>NaN</td>\n      <td>NaN</td>\n      <td>NaN</td>\n      <td>NaN</td>\n      <td>NaN</td>\n    </tr>\n    <tr>\n      <th>0.75</th>\n      <td>15.0</td>\n      <td>20.0</td>\n      <td>25.0</td>\n      <td>NaN</td>\n      <td>NaN</td>\n      <td>NaN</td>\n      <td>NaN</td>\n      <td>NaN</td>\n      <td>NaN</td>\n      <td>NaN</td>\n      <td>NaN</td>\n      <td>NaN</td>\n      <td>NaN</td>\n      <td>NaN</td>\n      <td>NaN</td>\n    </tr>\n    <tr>\n      <th>1.00</th>\n      <td>16.0</td>\n      <td>21.0</td>\n      <td>26.0</td>\n      <td>NaN</td>\n      <td>NaN</td>\n      <td>NaN</td>\n      <td>NaN</td>\n      <td>NaN</td>\n      <td>NaN</td>\n      <td>NaN</td>\n      <td>NaN</td>\n      <td>NaN</td>\n      <td>NaN</td>\n      <td>NaN</td>\n      <td>NaN</td>\n    </tr>\n    <tr>\n      <th>0.00</th>\n      <td>NaN</td>\n      <td>NaN</td>\n      <td>NaN</td>\n      <td>12.0</td>\n      <td>17.0</td>\n      <td>22.0</td>\n      <td>NaN</td>\n      <td>NaN</td>\n      <td>NaN</td>\n      <td>NaN</td>\n      <td>NaN</td>\n      <td>NaN</td>\n      <td>NaN</td>\n      <td>NaN</td>\n      <td>NaN</td>\n    </tr>\n    <tr>\n      <th>0.25</th>\n      <td>NaN</td>\n      <td>NaN</td>\n      <td>NaN</td>\n      <td>13.0</td>\n      <td>18.0</td>\n      <td>23.0</td>\n      <td>NaN</td>\n      <td>NaN</td>\n      <td>NaN</td>\n      <td>NaN</td>\n      <td>NaN</td>\n      <td>NaN</td>\n      <td>NaN</td>\n      <td>NaN</td>\n      <td>NaN</td>\n    </tr>\n    <tr>\n      <th>0.50</th>\n      <td>NaN</td>\n      <td>NaN</td>\n      <td>NaN</td>\n      <td>14.0</td>\n      <td>19.0</td>\n      <td>24.0</td>\n      <td>NaN</td>\n      <td>NaN</td>\n      <td>NaN</td>\n      <td>NaN</td>\n      <td>NaN</td>\n      <td>NaN</td>\n      <td>NaN</td>\n      <td>NaN</td>\n      <td>NaN</td>\n    </tr>\n    <tr>\n      <th>0.75</th>\n      <td>NaN</td>\n      <td>NaN</td>\n      <td>NaN</td>\n      <td>15.0</td>\n      <td>20.0</td>\n      <td>25.0</td>\n      <td>NaN</td>\n      <td>NaN</td>\n      <td>NaN</td>\n      <td>NaN</td>\n      <td>NaN</td>\n      <td>NaN</td>\n      <td>NaN</td>\n      <td>NaN</td>\n      <td>NaN</td>\n    </tr>\n    <tr>\n      <th>1.00</th>\n      <td>NaN</td>\n      <td>NaN</td>\n      <td>NaN</td>\n      <td>16.0</td>\n      <td>21.0</td>\n      <td>26.0</td>\n      <td>NaN</td>\n      <td>NaN</td>\n      <td>NaN</td>\n      <td>NaN</td>\n      <td>NaN</td>\n      <td>NaN</td>\n      <td>NaN</td>\n      <td>NaN</td>\n      <td>NaN</td>\n    </tr>\n    <tr>\n      <th>0.00</th>\n      <td>NaN</td>\n      <td>NaN</td>\n      <td>NaN</td>\n      <td>NaN</td>\n      <td>NaN</td>\n      <td>NaN</td>\n      <td>12.0</td>\n      <td>17.0</td>\n      <td>22.0</td>\n      <td>NaN</td>\n      <td>NaN</td>\n      <td>NaN</td>\n      <td>NaN</td>\n      <td>NaN</td>\n      <td>NaN</td>\n    </tr>\n    <tr>\n      <th>0.25</th>\n      <td>NaN</td>\n      <td>NaN</td>\n      <td>NaN</td>\n      <td>NaN</td>\n      <td>NaN</td>\n      <td>NaN</td>\n      <td>13.0</td>\n      <td>18.0</td>\n      <td>23.0</td>\n      <td>NaN</td>\n      <td>NaN</td>\n      <td>NaN</td>\n      <td>NaN</td>\n      <td>NaN</td>\n      <td>NaN</td>\n    </tr>\n    <tr>\n      <th>0.50</th>\n      <td>NaN</td>\n      <td>NaN</td>\n      <td>NaN</td>\n      <td>NaN</td>\n      <td>NaN</td>\n      <td>NaN</td>\n      <td>14.0</td>\n      <td>19.0</td>\n      <td>24.0</td>\n      <td>NaN</td>\n      <td>NaN</td>\n      <td>NaN</td>\n      <td>NaN</td>\n      <td>NaN</td>\n      <td>NaN</td>\n    </tr>\n    <tr>\n      <th>0.75</th>\n      <td>NaN</td>\n      <td>NaN</td>\n      <td>NaN</td>\n      <td>NaN</td>\n      <td>NaN</td>\n      <td>NaN</td>\n      <td>15.0</td>\n      <td>20.0</td>\n      <td>25.0</td>\n      <td>NaN</td>\n      <td>NaN</td>\n      <td>NaN</td>\n      <td>NaN</td>\n      <td>NaN</td>\n      <td>NaN</td>\n    </tr>\n    <tr>\n      <th>1.00</th>\n      <td>NaN</td>\n      <td>NaN</td>\n      <td>NaN</td>\n      <td>NaN</td>\n      <td>NaN</td>\n      <td>NaN</td>\n      <td>16.0</td>\n      <td>21.0</td>\n      <td>26.0</td>\n      <td>NaN</td>\n      <td>NaN</td>\n      <td>NaN</td>\n      <td>NaN</td>\n      <td>NaN</td>\n      <td>NaN</td>\n    </tr>\n    <tr>\n      <th>0.00</th>\n      <td>NaN</td>\n      <td>NaN</td>\n      <td>NaN</td>\n      <td>NaN</td>\n      <td>NaN</td>\n      <td>NaN</td>\n      <td>NaN</td>\n      <td>NaN</td>\n      <td>NaN</td>\n      <td>12.0</td>\n      <td>17.0</td>\n      <td>22.0</td>\n      <td>NaN</td>\n      <td>NaN</td>\n      <td>NaN</td>\n    </tr>\n    <tr>\n      <th>0.25</th>\n      <td>NaN</td>\n      <td>NaN</td>\n      <td>NaN</td>\n      <td>NaN</td>\n      <td>NaN</td>\n      <td>NaN</td>\n      <td>NaN</td>\n      <td>NaN</td>\n      <td>NaN</td>\n      <td>13.0</td>\n      <td>18.0</td>\n      <td>23.0</td>\n      <td>NaN</td>\n      <td>NaN</td>\n      <td>NaN</td>\n    </tr>\n    <tr>\n      <th>0.50</th>\n      <td>NaN</td>\n      <td>NaN</td>\n      <td>NaN</td>\n      <td>NaN</td>\n      <td>NaN</td>\n      <td>NaN</td>\n      <td>NaN</td>\n      <td>NaN</td>\n      <td>NaN</td>\n      <td>14.0</td>\n      <td>19.0</td>\n      <td>24.0</td>\n      <td>NaN</td>\n      <td>NaN</td>\n      <td>NaN</td>\n    </tr>\n    <tr>\n      <th>0.75</th>\n      <td>NaN</td>\n      <td>NaN</td>\n      <td>NaN</td>\n      <td>NaN</td>\n      <td>NaN</td>\n      <td>NaN</td>\n      <td>NaN</td>\n      <td>NaN</td>\n      <td>NaN</td>\n      <td>15.0</td>\n      <td>20.0</td>\n      <td>25.0</td>\n      <td>NaN</td>\n      <td>NaN</td>\n      <td>NaN</td>\n    </tr>\n    <tr>\n      <th>1.00</th>\n      <td>NaN</td>\n      <td>NaN</td>\n      <td>NaN</td>\n      <td>NaN</td>\n      <td>NaN</td>\n      <td>NaN</td>\n      <td>NaN</td>\n      <td>NaN</td>\n      <td>NaN</td>\n      <td>16.0</td>\n      <td>21.0</td>\n      <td>26.0</td>\n      <td>NaN</td>\n      <td>NaN</td>\n      <td>NaN</td>\n    </tr>\n    <tr>\n      <th>0.00</th>\n      <td>NaN</td>\n      <td>NaN</td>\n      <td>NaN</td>\n      <td>NaN</td>\n      <td>NaN</td>\n      <td>NaN</td>\n      <td>NaN</td>\n      <td>NaN</td>\n      <td>NaN</td>\n      <td>NaN</td>\n      <td>NaN</td>\n      <td>NaN</td>\n      <td>12.0</td>\n      <td>17.0</td>\n      <td>22.0</td>\n    </tr>\n    <tr>\n      <th>0.25</th>\n      <td>NaN</td>\n      <td>NaN</td>\n      <td>NaN</td>\n      <td>NaN</td>\n      <td>NaN</td>\n      <td>NaN</td>\n      <td>NaN</td>\n      <td>NaN</td>\n      <td>NaN</td>\n      <td>NaN</td>\n      <td>NaN</td>\n      <td>NaN</td>\n      <td>13.0</td>\n      <td>18.0</td>\n      <td>23.0</td>\n    </tr>\n    <tr>\n      <th>0.50</th>\n      <td>NaN</td>\n      <td>NaN</td>\n      <td>NaN</td>\n      <td>NaN</td>\n      <td>NaN</td>\n      <td>NaN</td>\n      <td>NaN</td>\n      <td>NaN</td>\n      <td>NaN</td>\n      <td>NaN</td>\n      <td>NaN</td>\n      <td>NaN</td>\n      <td>14.0</td>\n      <td>19.0</td>\n      <td>24.0</td>\n    </tr>\n    <tr>\n      <th>0.75</th>\n      <td>NaN</td>\n      <td>NaN</td>\n      <td>NaN</td>\n      <td>NaN</td>\n      <td>NaN</td>\n      <td>NaN</td>\n      <td>NaN</td>\n      <td>NaN</td>\n      <td>NaN</td>\n      <td>NaN</td>\n      <td>NaN</td>\n      <td>NaN</td>\n      <td>15.0</td>\n      <td>20.0</td>\n      <td>25.0</td>\n    </tr>\n    <tr>\n      <th>1.00</th>\n      <td>NaN</td>\n      <td>NaN</td>\n      <td>NaN</td>\n      <td>NaN</td>\n      <td>NaN</td>\n      <td>NaN</td>\n      <td>NaN</td>\n      <td>NaN</td>\n      <td>NaN</td>\n      <td>NaN</td>\n      <td>NaN</td>\n      <td>NaN</td>\n      <td>16.0</td>\n      <td>21.0</td>\n      <td>26.0</td>\n    </tr>\n  </tbody>\n</table>\n</div>"
     },
     "execution_count": 75,
     "metadata": {},
     "output_type": "execute_result"
    }
   ],
   "source": [
    "df_actions_all = pd.concat(df_actions)\n",
    "df_actions_all"
   ]
  },
  {
   "cell_type": "markdown",
   "metadata": {},
   "source": [
    "### the following is the correct way to extract columns, index and values from the pandas dataframes\n",
    "\n",
    "and stack them into numpy arrays for further analysis"
   ]
  },
  {
   "cell_type": "code",
   "execution_count": 76,
   "metadata": {
    "ExecuteTime": {
     "end_time": "2023-08-04T03:23:01.908666453Z",
     "start_time": "2023-08-04T03:22:50.234712346Z"
    }
   },
   "outputs": [],
   "source": [
    "npa_action_columns_list = [df_action.columns for df_action in df_actions]\n",
    "# npa_action_columns_list\n",
    "npa_action_indices_list = [df_action.index for df_action in df_actions]\n",
    "# npa_action_indices_list\n",
    "npa_state_columns_list = [df_state.columns for df_state in df_states]\n",
    "npa_state_indices_list = [df_state.index for df_state in df_states]\n",
    "npa_nstate_columns_list = [df_nstate.columns for df_nstate in df_nstates]\n",
    "npa_nstate_indices_list = [df_nstate.index for df_nstate in df_nstates]\n",
    "npa_reward_columns_list = [ser_reward.columns for ser_reward in ser_rewards]\n",
    "npa_reward_indices_list = [ser_reward.index for ser_reward in ser_rewards]"
   ]
  },
  {
   "cell_type": "code",
   "execution_count": 77,
   "metadata": {
    "ExecuteTime": {
     "end_time": "2023-08-04T03:23:01.909334078Z",
     "start_time": "2023-08-04T03:22:50.237326388Z"
    }
   },
   "outputs": [
    {
     "data": {
      "text/plain": "MultiIndex([('2023-08-04 11:22:49.017377', 'VB7', 'wang-cheng', ...),\n            ('2023-08-04 11:22:49.017377', 'VB7', 'wang-cheng', ...),\n            ('2023-08-04 11:22:49.017377', 'VB7', 'wang-cheng', ...)],\n           names=['episodestart', 'vehicle', 'driver', 'timestamp', 'qtuple', 'rows', 'speed', 'timestep'])"
     },
     "execution_count": 77,
     "metadata": {},
     "output_type": "execute_result"
    },
    {
     "data": {
      "text/plain": "Index([0.0, 0.25, 0.5, 0.75, 1.0], dtype='object', name=(2023-08-04 11:22:49.017377, 'VB7', 'wang-cheng', 2023-08-04 12:22:49.017377, 'action', 'throttle'))"
     },
     "execution_count": 77,
     "metadata": {},
     "output_type": "execute_result"
    },
    {
     "data": {
      "text/plain": "                           0                          1  \\\n0 2023-08-04 11:22:49.117377 2023-08-04 11:22:49.117377   \n1 2023-08-04 11:22:49.137377 2023-08-04 11:22:49.137377   \n2 2023-08-04 11:22:49.157377 2023-08-04 11:22:49.157377   \n\n                           2                          3  \\\n0 2023-08-04 11:22:49.117377 2023-08-04 11:22:49.117377   \n1 2023-08-04 11:22:49.137377 2023-08-04 11:22:49.137377   \n2 2023-08-04 11:22:49.157377 2023-08-04 11:22:49.157377   \n\n                           4  \n0 2023-08-04 11:22:49.117377  \n1 2023-08-04 11:22:49.137377  \n2 2023-08-04 11:22:49.157377  ",
      "text/html": "<div>\n<style scoped>\n    .dataframe tbody tr th:only-of-type {\n        vertical-align: middle;\n    }\n\n    .dataframe tbody tr th {\n        vertical-align: top;\n    }\n\n    .dataframe thead th {\n        text-align: right;\n    }\n</style>\n<table border=\"1\" class=\"dataframe\">\n  <thead>\n    <tr style=\"text-align: right;\">\n      <th></th>\n      <th>0</th>\n      <th>1</th>\n      <th>2</th>\n      <th>3</th>\n      <th>4</th>\n    </tr>\n  </thead>\n  <tbody>\n    <tr>\n      <th>0</th>\n      <td>2023-08-04 11:22:49.117377</td>\n      <td>2023-08-04 11:22:49.117377</td>\n      <td>2023-08-04 11:22:49.117377</td>\n      <td>2023-08-04 11:22:49.117377</td>\n      <td>2023-08-04 11:22:49.117377</td>\n    </tr>\n    <tr>\n      <th>1</th>\n      <td>2023-08-04 11:22:49.137377</td>\n      <td>2023-08-04 11:22:49.137377</td>\n      <td>2023-08-04 11:22:49.137377</td>\n      <td>2023-08-04 11:22:49.137377</td>\n      <td>2023-08-04 11:22:49.137377</td>\n    </tr>\n    <tr>\n      <th>2</th>\n      <td>2023-08-04 11:22:49.157377</td>\n      <td>2023-08-04 11:22:49.157377</td>\n      <td>2023-08-04 11:22:49.157377</td>\n      <td>2023-08-04 11:22:49.157377</td>\n      <td>2023-08-04 11:22:49.157377</td>\n    </tr>\n  </tbody>\n</table>\n</div>"
     },
     "execution_count": 77,
     "metadata": {},
     "output_type": "execute_result"
    },
    {
     "data": {
      "text/plain": "                                   0                              1  \\\ncount                              3                              3   \nmean   2023-08-04 11:22:49.137377024  2023-08-04 11:22:49.137377024   \nmin       2023-08-04 11:22:49.117377     2023-08-04 11:22:49.117377   \n25%    2023-08-04 11:22:49.127376896  2023-08-04 11:22:49.127376896   \n50%    2023-08-04 11:22:49.137377024  2023-08-04 11:22:49.137377024   \n75%    2023-08-04 11:22:49.147377152  2023-08-04 11:22:49.147377152   \nmax       2023-08-04 11:22:49.157377     2023-08-04 11:22:49.157377   \n\n                                   2                              3  \\\ncount                              3                              3   \nmean   2023-08-04 11:22:49.137377024  2023-08-04 11:22:49.137377024   \nmin       2023-08-04 11:22:49.117377     2023-08-04 11:22:49.117377   \n25%    2023-08-04 11:22:49.127376896  2023-08-04 11:22:49.127376896   \n50%    2023-08-04 11:22:49.137377024  2023-08-04 11:22:49.137377024   \n75%    2023-08-04 11:22:49.147377152  2023-08-04 11:22:49.147377152   \nmax       2023-08-04 11:22:49.157377     2023-08-04 11:22:49.157377   \n\n                                   4  \ncount                              3  \nmean   2023-08-04 11:22:49.137377024  \nmin       2023-08-04 11:22:49.117377  \n25%    2023-08-04 11:22:49.127376896  \n50%    2023-08-04 11:22:49.137377024  \n75%    2023-08-04 11:22:49.147377152  \nmax       2023-08-04 11:22:49.157377  ",
      "text/html": "<div>\n<style scoped>\n    .dataframe tbody tr th:only-of-type {\n        vertical-align: middle;\n    }\n\n    .dataframe tbody tr th {\n        vertical-align: top;\n    }\n\n    .dataframe thead th {\n        text-align: right;\n    }\n</style>\n<table border=\"1\" class=\"dataframe\">\n  <thead>\n    <tr style=\"text-align: right;\">\n      <th></th>\n      <th>0</th>\n      <th>1</th>\n      <th>2</th>\n      <th>3</th>\n      <th>4</th>\n    </tr>\n  </thead>\n  <tbody>\n    <tr>\n      <th>count</th>\n      <td>3</td>\n      <td>3</td>\n      <td>3</td>\n      <td>3</td>\n      <td>3</td>\n    </tr>\n    <tr>\n      <th>mean</th>\n      <td>2023-08-04 11:22:49.137377024</td>\n      <td>2023-08-04 11:22:49.137377024</td>\n      <td>2023-08-04 11:22:49.137377024</td>\n      <td>2023-08-04 11:22:49.137377024</td>\n      <td>2023-08-04 11:22:49.137377024</td>\n    </tr>\n    <tr>\n      <th>min</th>\n      <td>2023-08-04 11:22:49.117377</td>\n      <td>2023-08-04 11:22:49.117377</td>\n      <td>2023-08-04 11:22:49.117377</td>\n      <td>2023-08-04 11:22:49.117377</td>\n      <td>2023-08-04 11:22:49.117377</td>\n    </tr>\n    <tr>\n      <th>25%</th>\n      <td>2023-08-04 11:22:49.127376896</td>\n      <td>2023-08-04 11:22:49.127376896</td>\n      <td>2023-08-04 11:22:49.127376896</td>\n      <td>2023-08-04 11:22:49.127376896</td>\n      <td>2023-08-04 11:22:49.127376896</td>\n    </tr>\n    <tr>\n      <th>50%</th>\n      <td>2023-08-04 11:22:49.137377024</td>\n      <td>2023-08-04 11:22:49.137377024</td>\n      <td>2023-08-04 11:22:49.137377024</td>\n      <td>2023-08-04 11:22:49.137377024</td>\n      <td>2023-08-04 11:22:49.137377024</td>\n    </tr>\n    <tr>\n      <th>75%</th>\n      <td>2023-08-04 11:22:49.147377152</td>\n      <td>2023-08-04 11:22:49.147377152</td>\n      <td>2023-08-04 11:22:49.147377152</td>\n      <td>2023-08-04 11:22:49.147377152</td>\n      <td>2023-08-04 11:22:49.147377152</td>\n    </tr>\n    <tr>\n      <th>max</th>\n      <td>2023-08-04 11:22:49.157377</td>\n      <td>2023-08-04 11:22:49.157377</td>\n      <td>2023-08-04 11:22:49.157377</td>\n      <td>2023-08-04 11:22:49.157377</td>\n      <td>2023-08-04 11:22:49.157377</td>\n    </tr>\n  </tbody>\n</table>\n</div>"
     },
     "execution_count": 77,
     "metadata": {},
     "output_type": "execute_result"
    }
   ],
   "source": [
    "npa_action_columns_list[0]\n",
    "npa_action_indices_list[0]\n",
    "ts_array = []\n",
    "for columns in npa_action_columns_list:\n",
    "    timestep = columns.get_level_values('timestep')\n",
    "    ts_array.append(timestep)\n",
    "    # print(timestep)\n",
    "    # print(npa_action_columns_list[0].loc[idx[:,:,:,timestep,:,:], :])\n",
    "    # print(npa_action_indices_list[0].loc[idx[:,:,:,timestep,:,:], :])\n",
    "\n",
    "ts_array = pd.DataFrame(np.stack(ts_array).T)\n",
    "ts_array\n",
    "ts_array.describe()\n",
    "# ts_array.average()"
   ]
  },
  {
   "cell_type": "code",
   "execution_count": 78,
   "metadata": {
    "ExecuteTime": {
     "end_time": "2023-08-04T03:23:01.909663406Z",
     "start_time": "2023-08-04T03:22:50.280866695Z"
    }
   },
   "outputs": [
    {
     "data": {
      "text/plain": "MultiIndex([('2023-08-04 11:22:49.017377', 'VB7', 'wang-cheng', ...)],\n           names=['episodestart', 'vehicle', 'driver', 'timestamp', 'qtuple', 'rows'])"
     },
     "execution_count": 78,
     "metadata": {},
     "output_type": "execute_result"
    },
    {
     "data": {
      "text/plain": "DatetimeIndex(['2023-08-04 11:22:49.117377'], dtype='datetime64[ns]', name=(2023-08-04 11:22:49.017377, 'VB7', 'wang-cheng', 2023-08-04 12:22:49.017377, 'reward', 'timestep'), freq=None)"
     },
     "execution_count": 78,
     "metadata": {},
     "output_type": "execute_result"
    }
   ],
   "source": [
    "npa_reward_columns_list[0]\n",
    "npa_reward_indices_list[0]"
   ]
  },
  {
   "cell_type": "code",
   "execution_count": 79,
   "metadata": {
    "ExecuteTime": {
     "end_time": "2023-08-04T03:23:01.910840037Z",
     "start_time": "2023-08-04T03:22:50.281014984Z"
    }
   },
   "outputs": [
    {
     "data": {
      "text/plain": "episodestart                                       2023-08-04 11:22:49.017377  \\\nvehicle                                                                   VB7   \ndriver                                                             wang-cheng   \ntimestamp                                          2023-08-04 12:22:49.017377   \nqtuple                                                                  state   \nrows                                                                    brake   \n(2023-08-04 11:22:49.017377, VB7, wang-cheng, 2...                              \n2023-08-04 11:22:49.017377                                                8.0   \n2023-08-04 11:22:49.037377                                                9.0   \n2023-08-04 11:22:49.057377                                               10.0   \n2023-08-04 11:22:49.077377                                               11.0   \n\nepisodestart                                                        \nvehicle                                                             \ndriver                                                              \ntimestamp                                                           \nqtuple                                                              \nrows                                               thrust velocity  \n(2023-08-04 11:22:49.017377, VB7, wang-cheng, 2...                  \n2023-08-04 11:22:49.017377                            4.0      0.0  \n2023-08-04 11:22:49.037377                            5.0      1.0  \n2023-08-04 11:22:49.057377                            6.0      2.0  \n2023-08-04 11:22:49.077377                            7.0      3.0  ",
      "text/html": "<div>\n<style scoped>\n    .dataframe tbody tr th:only-of-type {\n        vertical-align: middle;\n    }\n\n    .dataframe tbody tr th {\n        vertical-align: top;\n    }\n\n    .dataframe thead tr th {\n        text-align: left;\n    }\n\n    .dataframe thead tr:last-of-type th {\n        text-align: right;\n    }\n</style>\n<table border=\"1\" class=\"dataframe\">\n  <thead>\n    <tr>\n      <th>episodestart</th>\n      <th colspan=\"3\" halign=\"left\">2023-08-04 11:22:49.017377</th>\n    </tr>\n    <tr>\n      <th>vehicle</th>\n      <th colspan=\"3\" halign=\"left\">VB7</th>\n    </tr>\n    <tr>\n      <th>driver</th>\n      <th colspan=\"3\" halign=\"left\">wang-cheng</th>\n    </tr>\n    <tr>\n      <th>timestamp</th>\n      <th colspan=\"3\" halign=\"left\">2023-08-04 12:22:49.017377</th>\n    </tr>\n    <tr>\n      <th>qtuple</th>\n      <th colspan=\"3\" halign=\"left\">state</th>\n    </tr>\n    <tr>\n      <th>rows</th>\n      <th>brake</th>\n      <th>thrust</th>\n      <th>velocity</th>\n    </tr>\n    <tr>\n      <th>(2023-08-04 11:22:49.017377, VB7, wang-cheng, 2023-08-04 12:22:49.017377, state, timestep)</th>\n      <th></th>\n      <th></th>\n      <th></th>\n    </tr>\n  </thead>\n  <tbody>\n    <tr>\n      <th>2023-08-04 11:22:49.017377</th>\n      <td>8.0</td>\n      <td>4.0</td>\n      <td>0.0</td>\n    </tr>\n    <tr>\n      <th>2023-08-04 11:22:49.037377</th>\n      <td>9.0</td>\n      <td>5.0</td>\n      <td>1.0</td>\n    </tr>\n    <tr>\n      <th>2023-08-04 11:22:49.057377</th>\n      <td>10.0</td>\n      <td>6.0</td>\n      <td>2.0</td>\n    </tr>\n    <tr>\n      <th>2023-08-04 11:22:49.077377</th>\n      <td>11.0</td>\n      <td>7.0</td>\n      <td>3.0</td>\n    </tr>\n  </tbody>\n</table>\n</div>"
     },
     "execution_count": 79,
     "metadata": {},
     "output_type": "execute_result"
    },
    {
     "data": {
      "text/plain": "array([8.0, 4.0, 0.0, 9.0, 5.0, 1.0, 10.0, 6.0, 2.0, 11.0, 7.0, 3.0],\n      dtype=object)"
     },
     "execution_count": 79,
     "metadata": {},
     "output_type": "execute_result"
    },
    {
     "data": {
      "text/plain": "episodestart                                       2023-08-04 11:22:49.017377  \\\nvehicle                                                                   VB7   \ndriver                                                             wang-cheng   \ntimestamp                                          2023-08-04 12:22:49.017377   \nqtuple                                                                  state   \nrows                                                                 velocity   \n(2023-08-04 11:22:49.017377, VB7, wang-cheng, 2...                              \n2023-08-04 11:22:49.017377                                                0.0   \n2023-08-04 11:22:49.037377                                                1.0   \n2023-08-04 11:22:49.057377                                                2.0   \n2023-08-04 11:22:49.077377                                                3.0   \n\nepisodestart                                                     \nvehicle                                                          \ndriver                                                           \ntimestamp                                                        \nqtuple                                                           \nrows                                               thrust brake  \n(2023-08-04 11:22:49.017377, VB7, wang-cheng, 2...               \n2023-08-04 11:22:49.017377                            4.0   8.0  \n2023-08-04 11:22:49.037377                            5.0   9.0  \n2023-08-04 11:22:49.057377                            6.0  10.0  \n2023-08-04 11:22:49.077377                            7.0  11.0  ",
      "text/html": "<div>\n<style scoped>\n    .dataframe tbody tr th:only-of-type {\n        vertical-align: middle;\n    }\n\n    .dataframe tbody tr th {\n        vertical-align: top;\n    }\n\n    .dataframe thead tr th {\n        text-align: left;\n    }\n\n    .dataframe thead tr:last-of-type th {\n        text-align: right;\n    }\n</style>\n<table border=\"1\" class=\"dataframe\">\n  <thead>\n    <tr>\n      <th>episodestart</th>\n      <th colspan=\"3\" halign=\"left\">2023-08-04 11:22:49.017377</th>\n    </tr>\n    <tr>\n      <th>vehicle</th>\n      <th colspan=\"3\" halign=\"left\">VB7</th>\n    </tr>\n    <tr>\n      <th>driver</th>\n      <th colspan=\"3\" halign=\"left\">wang-cheng</th>\n    </tr>\n    <tr>\n      <th>timestamp</th>\n      <th colspan=\"3\" halign=\"left\">2023-08-04 12:22:49.017377</th>\n    </tr>\n    <tr>\n      <th>qtuple</th>\n      <th colspan=\"3\" halign=\"left\">state</th>\n    </tr>\n    <tr>\n      <th>rows</th>\n      <th>velocity</th>\n      <th>thrust</th>\n      <th>brake</th>\n    </tr>\n    <tr>\n      <th>(2023-08-04 11:22:49.017377, VB7, wang-cheng, 2023-08-04 12:22:49.017377, state, timestep)</th>\n      <th></th>\n      <th></th>\n      <th></th>\n    </tr>\n  </thead>\n  <tbody>\n    <tr>\n      <th>2023-08-04 11:22:49.017377</th>\n      <td>0.0</td>\n      <td>4.0</td>\n      <td>8.0</td>\n    </tr>\n    <tr>\n      <th>2023-08-04 11:22:49.037377</th>\n      <td>1.0</td>\n      <td>5.0</td>\n      <td>9.0</td>\n    </tr>\n    <tr>\n      <th>2023-08-04 11:22:49.057377</th>\n      <td>2.0</td>\n      <td>6.0</td>\n      <td>10.0</td>\n    </tr>\n    <tr>\n      <th>2023-08-04 11:22:49.077377</th>\n      <td>3.0</td>\n      <td>7.0</td>\n      <td>11.0</td>\n    </tr>\n  </tbody>\n</table>\n</div>"
     },
     "execution_count": 79,
     "metadata": {},
     "output_type": "execute_result"
    },
    {
     "data": {
      "text/plain": "array([0.0, 4.0, 8.0, 1.0, 5.0, 9.0, 2.0, 6.0, 10.0, 3.0, 7.0, 11.0],\n      dtype=object)"
     },
     "execution_count": 79,
     "metadata": {},
     "output_type": "execute_result"
    }
   ],
   "source": [
    "df_states[0]\n",
    "df_states[0].values.flatten()\n",
    "df_states[0].loc[:, idx[:,:,:,:,'state',['velocity','thrust','brake']]] ## keep the order of input\n",
    "df_states[0].loc[:, idx[:,:,:,:,'state',['velocity','thrust','brake']]].values.flatten()\n",
    "# df_actions[0]\n",
    "# df_actions[0].values.flatten()"
   ]
  },
  {
   "cell_type": "code",
   "execution_count": 80,
   "metadata": {
    "ExecuteTime": {
     "end_time": "2023-08-04T03:23:01.911361277Z",
     "start_time": "2023-08-04T03:22:50.324888425Z"
    }
   },
   "outputs": [
    {
     "data": {
      "text/plain": "array([[ 0.,  1.,  2.,  3.,  4.,  5.,  6.,  7.,  8.,  9., 10., 11.],\n       [ 0.,  1.,  2.,  3.,  4.,  5.,  6.,  7.,  8.,  9., 10., 11.],\n       [ 0.,  1.,  2.,  3.,  4.,  5.,  6.,  7.,  8.,  9., 10., 11.],\n       [ 0.,  1.,  2.,  3.,  4.,  5.,  6.,  7.,  8.,  9., 10., 11.],\n       [ 0.,  1.,  2.,  3.,  4.,  5.,  6.,  7.,  8.,  9., 10., 11.]])"
     },
     "execution_count": 80,
     "metadata": {},
     "output_type": "execute_result"
    },
    {
     "data": {
      "text/plain": "array([[12., 13., 14., 15., 16., 17., 18., 19., 20., 21., 22., 23., 24.,\n        25., 26.],\n       [12., 13., 14., 15., 16., 17., 18., 19., 20., 21., 22., 23., 24.,\n        25., 26.],\n       [12., 13., 14., 15., 16., 17., 18., 19., 20., 21., 22., 23., 24.,\n        25., 26.],\n       [12., 13., 14., 15., 16., 17., 18., 19., 20., 21., 22., 23., 24.,\n        25., 26.],\n       [12., 13., 14., 15., 16., 17., 18., 19., 20., 21., 22., 23., 24.,\n        25., 26.]])"
     },
     "execution_count": 80,
     "metadata": {},
     "output_type": "execute_result"
    },
    {
     "data": {
      "text/plain": "array([[27.],\n       [27.],\n       [27.],\n       [27.],\n       [27.]])"
     },
     "execution_count": 80,
     "metadata": {},
     "output_type": "execute_result"
    },
    {
     "data": {
      "text/plain": "array([[29., 30., 31., 32., 33., 34., 35., 36., 37., 38., 39., 40.],\n       [29., 30., 31., 32., 33., 34., 35., 36., 37., 38., 39., 40.],\n       [29., 30., 31., 32., 33., 34., 35., 36., 37., 38., 39., 40.],\n       [29., 30., 31., 32., 33., 34., 35., 36., 37., 38., 39., 40.],\n       [29., 30., 31., 32., 33., 34., 35., 36., 37., 38., 39., 40.]])"
     },
     "execution_count": 80,
     "metadata": {},
     "output_type": "execute_result"
    }
   ],
   "source": [
    "npa_states_list = [df_state.loc[:,idx[:,:,:,:,'state',['velocity', 'thrust', 'brake']]].values.T.flatten() for df_state in df_states]  # transpose T is necessary for column-wise stacking and flatten\n",
    "npa_states = np.stack(npa_states_list).astype('float')\n",
    "npa_states\n",
    "\n",
    "\n",
    "npa_actions_list = [df_action.loc[:, idx[:,:,:,:,'action',['r0', 'r1', 'r2']]].values.T.flatten() for df_action in df_actions]\n",
    "npa_actions = np.stack(npa_actions_list).astype('float')\n",
    "npa_actions\n",
    "\n",
    "npa_rewards_list = [ser_reward.values.T.flatten() for ser_reward in ser_rewards]\n",
    "npa_rewards = np.stack(npa_rewards_list).astype('float')\n",
    "npa_rewards\n",
    "\n",
    "npa_nstates_list = [df_nstate.loc[:,idx[:,:,:,:,'nstate', ['velocity', 'thrust', 'brake']]].values.T.flatten() for df_nstate in df_nstates]\n",
    "npa_nstates = np.stack(npa_nstates_list).astype('float')\n",
    "npa_nstates\n",
    "\n",
    "# np.concatenate(df_actions.values)"
   ]
  },
  {
   "cell_type": "code",
   "execution_count": 81,
   "outputs": [
    {
     "data": {
      "text/plain": "numpy.ndarray"
     },
     "execution_count": 81,
     "metadata": {},
     "output_type": "execute_result"
    },
    {
     "data": {
      "text/plain": "array([[ 0.,  1.,  2.,  3.,  4.,  5.,  6.,  7.,  8.,  9., 10., 11.],\n       [ 0.,  1.,  2.,  3.,  4.,  5.,  6.,  7.,  8.,  9., 10., 11.],\n       [ 0.,  1.,  2.,  3.,  4.,  5.,  6.,  7.,  8.,  9., 10., 11.],\n       [ 0.,  1.,  2.,  3.,  4.,  5.,  6.,  7.,  8.,  9., 10., 11.],\n       [ 0.,  1.,  2.,  3.,  4.,  5.,  6.,  7.,  8.,  9., 10., 11.]])"
     },
     "execution_count": 81,
     "metadata": {},
     "output_type": "execute_result"
    }
   ],
   "source": [
    "type(npa_states)\n",
    "npa_states\n"
   ],
   "metadata": {
    "collapsed": false,
    "ExecuteTime": {
     "end_time": "2023-08-04T03:23:01.911699833Z",
     "start_time": "2023-08-04T03:22:50.337688054Z"
    }
   }
  },
  {
   "cell_type": "code",
   "execution_count": 82,
   "metadata": {
    "ExecuteTime": {
     "end_time": "2023-08-04T03:23:01.911978396Z",
     "start_time": "2023-08-04T03:22:50.380844319Z"
    }
   },
   "outputs": [
    {
     "data": {
      "text/plain": "array([[12., 13., 14., 15., 16., 17., 18., 19., 20., 21., 22., 23., 24.,\n        25., 26.],\n       [12., 13., 14., 15., 16., 17., 18., 19., 20., 21., 22., 23., 24.,\n        25., 26.],\n       [12., 13., 14., 15., 16., 17., 18., 19., 20., 21., 22., 23., 24.,\n        25., 26.],\n       [12., 13., 14., 15., 16., 17., 18., 19., 20., 21., 22., 23., 24.,\n        25., 26.],\n       [12., 13., 14., 15., 16., 17., 18., 19., 20., 21., 22., 23., 24.,\n        25., 26.]])"
     },
     "execution_count": 82,
     "metadata": {},
     "output_type": "execute_result"
    }
   ],
   "source": [
    "npa_actions"
   ]
  },
  {
   "cell_type": "code",
   "execution_count": 83,
   "outputs": [
    {
     "data": {
      "text/plain": "array([[29., 30., 31., 32., 33., 34., 35., 36., 37., 38., 39., 40.],\n       [29., 30., 31., 32., 33., 34., 35., 36., 37., 38., 39., 40.],\n       [29., 30., 31., 32., 33., 34., 35., 36., 37., 38., 39., 40.],\n       [29., 30., 31., 32., 33., 34., 35., 36., 37., 38., 39., 40.],\n       [29., 30., 31., 32., 33., 34., 35., 36., 37., 38., 39., 40.]])"
     },
     "execution_count": 83,
     "metadata": {},
     "output_type": "execute_result"
    }
   ],
   "source": [
    "npa_nstates"
   ],
   "metadata": {
    "collapsed": false,
    "ExecuteTime": {
     "end_time": "2023-08-04T03:23:01.912231011Z",
     "start_time": "2023-08-04T03:22:50.381019709Z"
    }
   }
  },
  {
   "cell_type": "code",
   "execution_count": 84,
   "outputs": [
    {
     "data": {
      "text/plain": "array([[27.],\n       [27.],\n       [27.],\n       [27.],\n       [27.]])"
     },
     "execution_count": 84,
     "metadata": {},
     "output_type": "execute_result"
    }
   ],
   "source": [
    "npa_rewards"
   ],
   "metadata": {
    "collapsed": false,
    "ExecuteTime": {
     "end_time": "2023-08-04T03:23:01.912473056Z",
     "start_time": "2023-08-04T03:22:50.381118134Z"
    }
   }
  },
  {
   "cell_type": "code",
   "execution_count": 85,
   "metadata": {
    "ExecuteTime": {
     "end_time": "2023-08-04T03:23:01.912611816Z",
     "start_time": "2023-08-04T03:22:50.381217050Z"
    }
   },
   "outputs": [],
   "source": [
    "# df_action = ser_action.unstack(level=[0, 1]).set_index(('action', 'throttle'))\n",
    "# action_timestep = ser_decoded.loc[('action', 'timestep')]\n",
    "# action_speed = ser_decoded.loc[('action', 'speed')]\n",
    "#\n",
    "# action_multicol = [\n",
    "#     (*column, speed, timestep)\n",
    "#     for column, timestep, speed in zip(df_action.columns, action_timestep, action_speed)\n",
    "# ]\n",
    "# df_action.columns = pd.MultiIndex.from_tuples(\n",
    "#     action_multicol, names=['qtuple', 'rows', 'speed', 'timestep']\n",
    "# )\n",
    "# df_action\n",
    "# df_action.values.flatten()\n",
    "#\n",
    "# ser_state = ser_decoded.loc[:, idx['state', ['brake', 'thrust', 'velocity', 'timestep']]]\n",
    "# # ser_state\n",
    "# df_state = ser_state.unstack(level=[0, 1]).set_index(('state', 'timestep'))\n",
    "# df_state\n",
    "#\n",
    "# df_state.values\n",
    "#\n",
    "# ser_nstate = ser_decoded.loc[:, idx['nstate', ['brake', 'thrust', 'velocity', 'timestep']]]\n",
    "# # ser_state\n",
    "# df_nstate = ser_nstate.unstack(level=[0, 1]).set_index(('nstate', 'timestep'))\n",
    "# df_nstate\n",
    "#\n",
    "# ser_reward = ser_decoded.loc[:, idx['reward', ['work', 'timestep']]]\n",
    "# ser_reward = pd.Series(\n",
    "#     data=[ser_reward[('reward', 'work', 0)]],\n",
    "#     index=[ser_reward[('reward', 'timestep', 0)]],\n",
    "#     name='work',\n",
    "# )\n",
    "# ser_reward"
   ]
  },
  {
   "cell_type": "code",
   "execution_count": 86,
   "metadata": {
    "ExecuteTime": {
     "end_time": "2023-08-04T03:23:01.912741480Z",
     "start_time": "2023-08-04T03:22:50.381366691Z"
    }
   },
   "outputs": [],
   "source": [
    "\n",
    "\n",
    "# ser_decoded = pd.Series(dict_observations)\n",
    "# ser_action = ser_decoded.loc[('action', ['r0', 'r1', 'r2', 'throttle'])]\n",
    "# df_action = ser_action.unstack(level=[0, 1]).set_index(('action', 'throttle'))\n",
    "# action_timestep = ser_decoded.loc[('action', 'timestep')]\n",
    "# action_speed = ser_decoded.loc[('action', 'speed')]\n",
    "#\n",
    "# action_multicol = [\n",
    "#     (*column, speed, timestep)\n",
    "#     for column, timestep, speed in zip(df_action.columns, action_timestep, action_speed)\n",
    "# ]\n",
    "# df_action.columns = pd.MultiIndex.from_tuples(\n",
    "#     action_multicol, names=['qtuple', 'rows', 'speed', 'timestep']\n",
    "# )\n",
    "# df_action\n",
    "# df_action.values.flatten()\n",
    "#\n",
    "# ser_state = ser_decoded.loc[('state', ['brake', 'thrust', 'velocity', 'timestep'])]\n",
    "# # ser_state\n",
    "# df_state = ser_state.unstack(level=[0, 1]).set_index(('state', 'timestep'))\n",
    "# df_state\n",
    "#\n",
    "# df_state.values\n",
    "#\n",
    "# ser_nstate = ser_decoded.loc[('nstate', ['brake', 'thrust', 'velocity', 'timestep'])]\n",
    "# # ser_state\n",
    "# df_nstate = ser_nstate.unstack(level=[0, 1]).set_index(('nstate', 'timestep'))\n",
    "# df_nstate\n",
    "#\n",
    "# ser_reward = ser_decoded.loc[('reward', ['work', 'timestep'])]\n",
    "# ser_reward = pd.Series(\n",
    "#     data=[ser_reward[('reward', 'work', 0)]],\n",
    "#     index=[ser_reward[('reward', 'timestep', 0)]],\n",
    "#     name='work',\n",
    "# )\n",
    "# ser_reward\n"
   ]
  },
  {
   "cell_type": "markdown",
   "source": [
    "## Encoding sampled multiple episodes from Mongo episode documents to multiindexed DataFrame"
   ],
   "metadata": {
    "collapsed": false
   }
  },
  {
   "cell_type": "markdown",
   "source": [
    "### generate mutliple episodes of mongo episode docs"
   ],
   "metadata": {
    "collapsed": false
   }
  },
  {
   "cell_type": "code",
   "execution_count": 87,
   "outputs": [
    {
     "data": {
      "text/plain": "qtuple                                                                   action  \\\nrows                                                                         r0   \nidx                                                                           0   \nvehicle driver     episodestart               timestamp                           \nVB7     wang-cheng 2023-08-04 11:22:49.017377 2023-08-04 12:22:49.017377   12.0   \n                                              2023-08-04 13:22:49.017377   12.0   \n                                              2023-08-04 14:22:49.017377   12.0   \n                                              2023-08-04 15:22:49.017377   12.0   \n                                              2023-08-04 16:22:49.017377   12.0   \n\nqtuple                                                                          \\\nrows                                                                             \nidx                                                                          1   \nvehicle driver     episodestart               timestamp                          \nVB7     wang-cheng 2023-08-04 11:22:49.017377 2023-08-04 12:22:49.017377  13.0   \n                                              2023-08-04 13:22:49.017377  13.0   \n                                              2023-08-04 14:22:49.017377  13.0   \n                                              2023-08-04 15:22:49.017377  13.0   \n                                              2023-08-04 16:22:49.017377  13.0   \n\nqtuple                                                                          \\\nrows                                                                             \nidx                                                                          2   \nvehicle driver     episodestart               timestamp                          \nVB7     wang-cheng 2023-08-04 11:22:49.017377 2023-08-04 12:22:49.017377  14.0   \n                                              2023-08-04 13:22:49.017377  14.0   \n                                              2023-08-04 14:22:49.017377  14.0   \n                                              2023-08-04 15:22:49.017377  14.0   \n                                              2023-08-04 16:22:49.017377  14.0   \n\nqtuple                                                                          \\\nrows                                                                             \nidx                                                                          3   \nvehicle driver     episodestart               timestamp                          \nVB7     wang-cheng 2023-08-04 11:22:49.017377 2023-08-04 12:22:49.017377  15.0   \n                                              2023-08-04 13:22:49.017377  15.0   \n                                              2023-08-04 14:22:49.017377  15.0   \n                                              2023-08-04 15:22:49.017377  15.0   \n                                              2023-08-04 16:22:49.017377  15.0   \n\nqtuple                                                                          \\\nrows                                                                             \nidx                                                                          4   \nvehicle driver     episodestart               timestamp                          \nVB7     wang-cheng 2023-08-04 11:22:49.017377 2023-08-04 12:22:49.017377  16.0   \n                                              2023-08-04 13:22:49.017377  16.0   \n                                              2023-08-04 14:22:49.017377  16.0   \n                                              2023-08-04 15:22:49.017377  16.0   \n                                              2023-08-04 16:22:49.017377  16.0   \n\nqtuple                                                                          \\\nrows                                                                        r1   \nidx                                                                          0   \nvehicle driver     episodestart               timestamp                          \nVB7     wang-cheng 2023-08-04 11:22:49.017377 2023-08-04 12:22:49.017377  17.0   \n                                              2023-08-04 13:22:49.017377  17.0   \n                                              2023-08-04 14:22:49.017377  17.0   \n                                              2023-08-04 15:22:49.017377  17.0   \n                                              2023-08-04 16:22:49.017377  17.0   \n\nqtuple                                                                          \\\nrows                                                                             \nidx                                                                          1   \nvehicle driver     episodestart               timestamp                          \nVB7     wang-cheng 2023-08-04 11:22:49.017377 2023-08-04 12:22:49.017377  18.0   \n                                              2023-08-04 13:22:49.017377  18.0   \n                                              2023-08-04 14:22:49.017377  18.0   \n                                              2023-08-04 15:22:49.017377  18.0   \n                                              2023-08-04 16:22:49.017377  18.0   \n\nqtuple                                                                          \\\nrows                                                                             \nidx                                                                          2   \nvehicle driver     episodestart               timestamp                          \nVB7     wang-cheng 2023-08-04 11:22:49.017377 2023-08-04 12:22:49.017377  19.0   \n                                              2023-08-04 13:22:49.017377  19.0   \n                                              2023-08-04 14:22:49.017377  19.0   \n                                              2023-08-04 15:22:49.017377  19.0   \n                                              2023-08-04 16:22:49.017377  19.0   \n\nqtuple                                                                          \\\nrows                                                                             \nidx                                                                          3   \nvehicle driver     episodestart               timestamp                          \nVB7     wang-cheng 2023-08-04 11:22:49.017377 2023-08-04 12:22:49.017377  20.0   \n                                              2023-08-04 13:22:49.017377  20.0   \n                                              2023-08-04 14:22:49.017377  20.0   \n                                              2023-08-04 15:22:49.017377  20.0   \n                                              2023-08-04 16:22:49.017377  20.0   \n\nqtuple                                                                          \\\nrows                                                                             \nidx                                                                          4   \nvehicle driver     episodestart               timestamp                          \nVB7     wang-cheng 2023-08-04 11:22:49.017377 2023-08-04 12:22:49.017377  21.0   \n                                              2023-08-04 13:22:49.017377  21.0   \n                                              2023-08-04 14:22:49.017377  21.0   \n                                              2023-08-04 15:22:49.017377  21.0   \n                                              2023-08-04 16:22:49.017377  21.0   \n\nqtuple                                                                    ...  \\\nrows                                                                      ...   \nidx                                                                       ...   \nvehicle driver     episodestart               timestamp                   ...   \nVB7     wang-cheng 2023-08-04 11:22:49.017377 2023-08-04 12:22:49.017377  ...   \n                                              2023-08-04 13:22:49.017377  ...   \n                                              2023-08-04 14:22:49.017377  ...   \n                                              2023-08-04 15:22:49.017377  ...   \n                                              2023-08-04 16:22:49.017377  ...   \n\nqtuple                                                                    state  \\\nrows                                                                     thrust   \nidx                                                                           2   \nvehicle driver     episodestart               timestamp                           \nVB7     wang-cheng 2023-08-04 11:22:49.017377 2023-08-04 12:22:49.017377    6.0   \n                                              2023-08-04 13:22:49.017377    6.0   \n                                              2023-08-04 14:22:49.017377    6.0   \n                                              2023-08-04 15:22:49.017377    6.0   \n                                              2023-08-04 16:22:49.017377    6.0   \n\nqtuple                                                                         \\\nrows                                                                            \nidx                                                                         3   \nvehicle driver     episodestart               timestamp                         \nVB7     wang-cheng 2023-08-04 11:22:49.017377 2023-08-04 12:22:49.017377  7.0   \n                                              2023-08-04 13:22:49.017377  7.0   \n                                              2023-08-04 14:22:49.017377  7.0   \n                                              2023-08-04 15:22:49.017377  7.0   \n                                              2023-08-04 16:22:49.017377  7.0   \n\nqtuple                                                                                               \\\nrows                                                                                       timestep   \nidx                                                                                               0   \nvehicle driver     episodestart               timestamp                                               \nVB7     wang-cheng 2023-08-04 11:22:49.017377 2023-08-04 12:22:49.017377 2023-08-04 11:22:49.017377   \n                                              2023-08-04 13:22:49.017377 2023-08-04 11:22:49.017377   \n                                              2023-08-04 14:22:49.017377 2023-08-04 11:22:49.017377   \n                                              2023-08-04 15:22:49.017377 2023-08-04 11:22:49.017377   \n                                              2023-08-04 16:22:49.017377 2023-08-04 11:22:49.017377   \n\nqtuple                                                                                               \\\nrows                                                                                                  \nidx                                                                                               1   \nvehicle driver     episodestart               timestamp                                               \nVB7     wang-cheng 2023-08-04 11:22:49.017377 2023-08-04 12:22:49.017377 2023-08-04 11:22:49.037377   \n                                              2023-08-04 13:22:49.017377 2023-08-04 11:22:49.037377   \n                                              2023-08-04 14:22:49.017377 2023-08-04 11:22:49.037377   \n                                              2023-08-04 15:22:49.017377 2023-08-04 11:22:49.037377   \n                                              2023-08-04 16:22:49.017377 2023-08-04 11:22:49.037377   \n\nqtuple                                                                                               \\\nrows                                                                                                  \nidx                                                                                               2   \nvehicle driver     episodestart               timestamp                                               \nVB7     wang-cheng 2023-08-04 11:22:49.017377 2023-08-04 12:22:49.017377 2023-08-04 11:22:49.057377   \n                                              2023-08-04 13:22:49.017377 2023-08-04 11:22:49.057377   \n                                              2023-08-04 14:22:49.017377 2023-08-04 11:22:49.057377   \n                                              2023-08-04 15:22:49.017377 2023-08-04 11:22:49.057377   \n                                              2023-08-04 16:22:49.017377 2023-08-04 11:22:49.057377   \n\nqtuple                                                                                               \\\nrows                                                                                                  \nidx                                                                                               3   \nvehicle driver     episodestart               timestamp                                               \nVB7     wang-cheng 2023-08-04 11:22:49.017377 2023-08-04 12:22:49.017377 2023-08-04 11:22:49.077377   \n                                              2023-08-04 13:22:49.017377 2023-08-04 11:22:49.077377   \n                                              2023-08-04 14:22:49.017377 2023-08-04 11:22:49.077377   \n                                              2023-08-04 15:22:49.017377 2023-08-04 11:22:49.077377   \n                                              2023-08-04 16:22:49.017377 2023-08-04 11:22:49.077377   \n\nqtuple                                                                             \\\nrows                                                                     velocity   \nidx                                                                             0   \nvehicle driver     episodestart               timestamp                             \nVB7     wang-cheng 2023-08-04 11:22:49.017377 2023-08-04 12:22:49.017377      0.0   \n                                              2023-08-04 13:22:49.017377      0.0   \n                                              2023-08-04 14:22:49.017377      0.0   \n                                              2023-08-04 15:22:49.017377      0.0   \n                                              2023-08-04 16:22:49.017377      0.0   \n\nqtuple                                                                         \\\nrows                                                                            \nidx                                                                         1   \nvehicle driver     episodestart               timestamp                         \nVB7     wang-cheng 2023-08-04 11:22:49.017377 2023-08-04 12:22:49.017377  1.0   \n                                              2023-08-04 13:22:49.017377  1.0   \n                                              2023-08-04 14:22:49.017377  1.0   \n                                              2023-08-04 15:22:49.017377  1.0   \n                                              2023-08-04 16:22:49.017377  1.0   \n\nqtuple                                                                         \\\nrows                                                                            \nidx                                                                         2   \nvehicle driver     episodestart               timestamp                         \nVB7     wang-cheng 2023-08-04 11:22:49.017377 2023-08-04 12:22:49.017377  2.0   \n                                              2023-08-04 13:22:49.017377  2.0   \n                                              2023-08-04 14:22:49.017377  2.0   \n                                              2023-08-04 15:22:49.017377  2.0   \n                                              2023-08-04 16:22:49.017377  2.0   \n\nqtuple                                                                         \nrows                                                                           \nidx                                                                         3  \nvehicle driver     episodestart               timestamp                        \nVB7     wang-cheng 2023-08-04 11:22:49.017377 2023-08-04 12:22:49.017377  3.0  \n                                              2023-08-04 13:22:49.017377  3.0  \n                                              2023-08-04 14:22:49.017377  3.0  \n                                              2023-08-04 15:22:49.017377  3.0  \n                                              2023-08-04 16:22:49.017377  3.0  \n\n[5 rows x 60 columns]",
      "text/html": "<div>\n<style scoped>\n    .dataframe tbody tr th:only-of-type {\n        vertical-align: middle;\n    }\n\n    .dataframe tbody tr th {\n        vertical-align: top;\n    }\n\n    .dataframe thead tr th {\n        text-align: left;\n    }\n\n    .dataframe thead tr:last-of-type th {\n        text-align: right;\n    }\n</style>\n<table border=\"1\" class=\"dataframe\">\n  <thead>\n    <tr>\n      <th></th>\n      <th></th>\n      <th></th>\n      <th>qtuple</th>\n      <th colspan=\"10\" halign=\"left\">action</th>\n      <th>...</th>\n      <th colspan=\"10\" halign=\"left\">state</th>\n    </tr>\n    <tr>\n      <th></th>\n      <th></th>\n      <th></th>\n      <th>rows</th>\n      <th colspan=\"5\" halign=\"left\">r0</th>\n      <th colspan=\"5\" halign=\"left\">r1</th>\n      <th>...</th>\n      <th colspan=\"2\" halign=\"left\">thrust</th>\n      <th colspan=\"4\" halign=\"left\">timestep</th>\n      <th colspan=\"4\" halign=\"left\">velocity</th>\n    </tr>\n    <tr>\n      <th></th>\n      <th></th>\n      <th></th>\n      <th>idx</th>\n      <th>0</th>\n      <th>1</th>\n      <th>2</th>\n      <th>3</th>\n      <th>4</th>\n      <th>0</th>\n      <th>1</th>\n      <th>2</th>\n      <th>3</th>\n      <th>4</th>\n      <th>...</th>\n      <th>2</th>\n      <th>3</th>\n      <th>0</th>\n      <th>1</th>\n      <th>2</th>\n      <th>3</th>\n      <th>0</th>\n      <th>1</th>\n      <th>2</th>\n      <th>3</th>\n    </tr>\n    <tr>\n      <th>vehicle</th>\n      <th>driver</th>\n      <th>episodestart</th>\n      <th>timestamp</th>\n      <th></th>\n      <th></th>\n      <th></th>\n      <th></th>\n      <th></th>\n      <th></th>\n      <th></th>\n      <th></th>\n      <th></th>\n      <th></th>\n      <th></th>\n      <th></th>\n      <th></th>\n      <th></th>\n      <th></th>\n      <th></th>\n      <th></th>\n      <th></th>\n      <th></th>\n      <th></th>\n      <th></th>\n    </tr>\n  </thead>\n  <tbody>\n    <tr>\n      <th rowspan=\"5\" valign=\"top\">VB7</th>\n      <th rowspan=\"5\" valign=\"top\">wang-cheng</th>\n      <th rowspan=\"5\" valign=\"top\">2023-08-04 11:22:49.017377</th>\n      <th>2023-08-04 12:22:49.017377</th>\n      <td>12.0</td>\n      <td>13.0</td>\n      <td>14.0</td>\n      <td>15.0</td>\n      <td>16.0</td>\n      <td>17.0</td>\n      <td>18.0</td>\n      <td>19.0</td>\n      <td>20.0</td>\n      <td>21.0</td>\n      <td>...</td>\n      <td>6.0</td>\n      <td>7.0</td>\n      <td>2023-08-04 11:22:49.017377</td>\n      <td>2023-08-04 11:22:49.037377</td>\n      <td>2023-08-04 11:22:49.057377</td>\n      <td>2023-08-04 11:22:49.077377</td>\n      <td>0.0</td>\n      <td>1.0</td>\n      <td>2.0</td>\n      <td>3.0</td>\n    </tr>\n    <tr>\n      <th>2023-08-04 13:22:49.017377</th>\n      <td>12.0</td>\n      <td>13.0</td>\n      <td>14.0</td>\n      <td>15.0</td>\n      <td>16.0</td>\n      <td>17.0</td>\n      <td>18.0</td>\n      <td>19.0</td>\n      <td>20.0</td>\n      <td>21.0</td>\n      <td>...</td>\n      <td>6.0</td>\n      <td>7.0</td>\n      <td>2023-08-04 11:22:49.017377</td>\n      <td>2023-08-04 11:22:49.037377</td>\n      <td>2023-08-04 11:22:49.057377</td>\n      <td>2023-08-04 11:22:49.077377</td>\n      <td>0.0</td>\n      <td>1.0</td>\n      <td>2.0</td>\n      <td>3.0</td>\n    </tr>\n    <tr>\n      <th>2023-08-04 14:22:49.017377</th>\n      <td>12.0</td>\n      <td>13.0</td>\n      <td>14.0</td>\n      <td>15.0</td>\n      <td>16.0</td>\n      <td>17.0</td>\n      <td>18.0</td>\n      <td>19.0</td>\n      <td>20.0</td>\n      <td>21.0</td>\n      <td>...</td>\n      <td>6.0</td>\n      <td>7.0</td>\n      <td>2023-08-04 11:22:49.017377</td>\n      <td>2023-08-04 11:22:49.037377</td>\n      <td>2023-08-04 11:22:49.057377</td>\n      <td>2023-08-04 11:22:49.077377</td>\n      <td>0.0</td>\n      <td>1.0</td>\n      <td>2.0</td>\n      <td>3.0</td>\n    </tr>\n    <tr>\n      <th>2023-08-04 15:22:49.017377</th>\n      <td>12.0</td>\n      <td>13.0</td>\n      <td>14.0</td>\n      <td>15.0</td>\n      <td>16.0</td>\n      <td>17.0</td>\n      <td>18.0</td>\n      <td>19.0</td>\n      <td>20.0</td>\n      <td>21.0</td>\n      <td>...</td>\n      <td>6.0</td>\n      <td>7.0</td>\n      <td>2023-08-04 11:22:49.017377</td>\n      <td>2023-08-04 11:22:49.037377</td>\n      <td>2023-08-04 11:22:49.057377</td>\n      <td>2023-08-04 11:22:49.077377</td>\n      <td>0.0</td>\n      <td>1.0</td>\n      <td>2.0</td>\n      <td>3.0</td>\n    </tr>\n    <tr>\n      <th>2023-08-04 16:22:49.017377</th>\n      <td>12.0</td>\n      <td>13.0</td>\n      <td>14.0</td>\n      <td>15.0</td>\n      <td>16.0</td>\n      <td>17.0</td>\n      <td>18.0</td>\n      <td>19.0</td>\n      <td>20.0</td>\n      <td>21.0</td>\n      <td>...</td>\n      <td>6.0</td>\n      <td>7.0</td>\n      <td>2023-08-04 11:22:49.017377</td>\n      <td>2023-08-04 11:22:49.037377</td>\n      <td>2023-08-04 11:22:49.057377</td>\n      <td>2023-08-04 11:22:49.077377</td>\n      <td>0.0</td>\n      <td>1.0</td>\n      <td>2.0</td>\n      <td>3.0</td>\n    </tr>\n  </tbody>\n</table>\n<p>5 rows × 60 columns</p>\n</div>"
     },
     "execution_count": 87,
     "metadata": {},
     "output_type": "execute_result"
    }
   ],
   "source": [
    "dfs_episode"
   ],
   "metadata": {
    "collapsed": false,
    "ExecuteTime": {
     "end_time": "2023-08-04T03:23:01.913307824Z",
     "start_time": "2023-08-04T03:22:50.381460427Z"
    }
   }
  },
  {
   "cell_type": "markdown",
   "source": [
    "## create epsiode with different lengths"
   ],
   "metadata": {
    "collapsed": false
   }
  },
  {
   "cell_type": "code",
   "execution_count": 88,
   "outputs": [
    {
     "data": {
      "text/plain": "qtuple                                                                     action  \\\nrows                                                                           r0   \nidx                                                                             0   \nvehicle driver       episodestart               timestamp                           \nVB4     li-changlong 2023-08-04 10:22:49.017377 2023-08-04 12:22:49.017377   12.0   \n                                                2023-08-04 13:22:49.017377   12.0   \n                                                2023-08-04 14:22:49.017377   12.0   \n                                                2023-08-04 15:22:49.017377   12.0   \n                                                2023-08-04 16:22:49.017377   12.0   \n\nqtuple                                                                            \\\nrows                                                                               \nidx                                                                            1   \nvehicle driver       episodestart               timestamp                          \nVB4     li-changlong 2023-08-04 10:22:49.017377 2023-08-04 12:22:49.017377  13.0   \n                                                2023-08-04 13:22:49.017377  13.0   \n                                                2023-08-04 14:22:49.017377  13.0   \n                                                2023-08-04 15:22:49.017377  13.0   \n                                                2023-08-04 16:22:49.017377  13.0   \n\nqtuple                                                                            \\\nrows                                                                               \nidx                                                                            2   \nvehicle driver       episodestart               timestamp                          \nVB4     li-changlong 2023-08-04 10:22:49.017377 2023-08-04 12:22:49.017377  14.0   \n                                                2023-08-04 13:22:49.017377  14.0   \n                                                2023-08-04 14:22:49.017377  14.0   \n                                                2023-08-04 15:22:49.017377  14.0   \n                                                2023-08-04 16:22:49.017377  14.0   \n\nqtuple                                                                            \\\nrows                                                                               \nidx                                                                            3   \nvehicle driver       episodestart               timestamp                          \nVB4     li-changlong 2023-08-04 10:22:49.017377 2023-08-04 12:22:49.017377  15.0   \n                                                2023-08-04 13:22:49.017377  15.0   \n                                                2023-08-04 14:22:49.017377  15.0   \n                                                2023-08-04 15:22:49.017377  15.0   \n                                                2023-08-04 16:22:49.017377  15.0   \n\nqtuple                                                                            \\\nrows                                                                               \nidx                                                                            4   \nvehicle driver       episodestart               timestamp                          \nVB4     li-changlong 2023-08-04 10:22:49.017377 2023-08-04 12:22:49.017377  16.0   \n                                                2023-08-04 13:22:49.017377  16.0   \n                                                2023-08-04 14:22:49.017377  16.0   \n                                                2023-08-04 15:22:49.017377  16.0   \n                                                2023-08-04 16:22:49.017377  16.0   \n\nqtuple                                                                            \\\nrows                                                                          r1   \nidx                                                                            0   \nvehicle driver       episodestart               timestamp                          \nVB4     li-changlong 2023-08-04 10:22:49.017377 2023-08-04 12:22:49.017377  17.0   \n                                                2023-08-04 13:22:49.017377  17.0   \n                                                2023-08-04 14:22:49.017377  17.0   \n                                                2023-08-04 15:22:49.017377  17.0   \n                                                2023-08-04 16:22:49.017377  17.0   \n\nqtuple                                                                            \\\nrows                                                                               \nidx                                                                            1   \nvehicle driver       episodestart               timestamp                          \nVB4     li-changlong 2023-08-04 10:22:49.017377 2023-08-04 12:22:49.017377  18.0   \n                                                2023-08-04 13:22:49.017377  18.0   \n                                                2023-08-04 14:22:49.017377  18.0   \n                                                2023-08-04 15:22:49.017377  18.0   \n                                                2023-08-04 16:22:49.017377  18.0   \n\nqtuple                                                                            \\\nrows                                                                               \nidx                                                                            2   \nvehicle driver       episodestart               timestamp                          \nVB4     li-changlong 2023-08-04 10:22:49.017377 2023-08-04 12:22:49.017377  19.0   \n                                                2023-08-04 13:22:49.017377  19.0   \n                                                2023-08-04 14:22:49.017377  19.0   \n                                                2023-08-04 15:22:49.017377  19.0   \n                                                2023-08-04 16:22:49.017377  19.0   \n\nqtuple                                                                            \\\nrows                                                                               \nidx                                                                            3   \nvehicle driver       episodestart               timestamp                          \nVB4     li-changlong 2023-08-04 10:22:49.017377 2023-08-04 12:22:49.017377  20.0   \n                                                2023-08-04 13:22:49.017377  20.0   \n                                                2023-08-04 14:22:49.017377  20.0   \n                                                2023-08-04 15:22:49.017377  20.0   \n                                                2023-08-04 16:22:49.017377  20.0   \n\nqtuple                                                                            \\\nrows                                                                               \nidx                                                                            4   \nvehicle driver       episodestart               timestamp                          \nVB4     li-changlong 2023-08-04 10:22:49.017377 2023-08-04 12:22:49.017377  21.0   \n                                                2023-08-04 13:22:49.017377  21.0   \n                                                2023-08-04 14:22:49.017377  21.0   \n                                                2023-08-04 15:22:49.017377  21.0   \n                                                2023-08-04 16:22:49.017377  21.0   \n\nqtuple                                                                      ...  \\\nrows                                                                        ...   \nidx                                                                         ...   \nvehicle driver       episodestart               timestamp                   ...   \nVB4     li-changlong 2023-08-04 10:22:49.017377 2023-08-04 12:22:49.017377  ...   \n                                                2023-08-04 13:22:49.017377  ...   \n                                                2023-08-04 14:22:49.017377  ...   \n                                                2023-08-04 15:22:49.017377  ...   \n                                                2023-08-04 16:22:49.017377  ...   \n\nqtuple                                                                      state  \\\nrows                                                                       thrust   \nidx                                                                             2   \nvehicle driver       episodestart               timestamp                           \nVB4     li-changlong 2023-08-04 10:22:49.017377 2023-08-04 12:22:49.017377    6.0   \n                                                2023-08-04 13:22:49.017377    6.0   \n                                                2023-08-04 14:22:49.017377    6.0   \n                                                2023-08-04 15:22:49.017377    6.0   \n                                                2023-08-04 16:22:49.017377    6.0   \n\nqtuple                                                                           \\\nrows                                                                              \nidx                                                                           3   \nvehicle driver       episodestart               timestamp                         \nVB4     li-changlong 2023-08-04 10:22:49.017377 2023-08-04 12:22:49.017377  7.0   \n                                                2023-08-04 13:22:49.017377  7.0   \n                                                2023-08-04 14:22:49.017377  7.0   \n                                                2023-08-04 15:22:49.017377  7.0   \n                                                2023-08-04 16:22:49.017377  7.0   \n\nqtuple                                                                                                 \\\nrows                                                                                         timestep   \nidx                                                                                                 0   \nvehicle driver       episodestart               timestamp                                               \nVB4     li-changlong 2023-08-04 10:22:49.017377 2023-08-04 12:22:49.017377 2023-08-04 11:22:49.017377   \n                                                2023-08-04 13:22:49.017377 2023-08-04 11:22:49.017377   \n                                                2023-08-04 14:22:49.017377 2023-08-04 11:22:49.017377   \n                                                2023-08-04 15:22:49.017377 2023-08-04 11:22:49.017377   \n                                                2023-08-04 16:22:49.017377 2023-08-04 11:22:49.017377   \n\nqtuple                                                                                                 \\\nrows                                                                                                    \nidx                                                                                                 1   \nvehicle driver       episodestart               timestamp                                               \nVB4     li-changlong 2023-08-04 10:22:49.017377 2023-08-04 12:22:49.017377 2023-08-04 11:22:49.037377   \n                                                2023-08-04 13:22:49.017377 2023-08-04 11:22:49.037377   \n                                                2023-08-04 14:22:49.017377 2023-08-04 11:22:49.037377   \n                                                2023-08-04 15:22:49.017377 2023-08-04 11:22:49.037377   \n                                                2023-08-04 16:22:49.017377 2023-08-04 11:22:49.037377   \n\nqtuple                                                                                                 \\\nrows                                                                                                    \nidx                                                                                                 2   \nvehicle driver       episodestart               timestamp                                               \nVB4     li-changlong 2023-08-04 10:22:49.017377 2023-08-04 12:22:49.017377 2023-08-04 11:22:49.057377   \n                                                2023-08-04 13:22:49.017377 2023-08-04 11:22:49.057377   \n                                                2023-08-04 14:22:49.017377 2023-08-04 11:22:49.057377   \n                                                2023-08-04 15:22:49.017377 2023-08-04 11:22:49.057377   \n                                                2023-08-04 16:22:49.017377 2023-08-04 11:22:49.057377   \n\nqtuple                                                                                                 \\\nrows                                                                                                    \nidx                                                                                                 3   \nvehicle driver       episodestart               timestamp                                               \nVB4     li-changlong 2023-08-04 10:22:49.017377 2023-08-04 12:22:49.017377 2023-08-04 11:22:49.077377   \n                                                2023-08-04 13:22:49.017377 2023-08-04 11:22:49.077377   \n                                                2023-08-04 14:22:49.017377 2023-08-04 11:22:49.077377   \n                                                2023-08-04 15:22:49.017377 2023-08-04 11:22:49.077377   \n                                                2023-08-04 16:22:49.017377 2023-08-04 11:22:49.077377   \n\nqtuple                                                                               \\\nrows                                                                       velocity   \nidx                                                                               0   \nvehicle driver       episodestart               timestamp                             \nVB4     li-changlong 2023-08-04 10:22:49.017377 2023-08-04 12:22:49.017377      0.0   \n                                                2023-08-04 13:22:49.017377      0.0   \n                                                2023-08-04 14:22:49.017377      0.0   \n                                                2023-08-04 15:22:49.017377      0.0   \n                                                2023-08-04 16:22:49.017377      0.0   \n\nqtuple                                                                           \\\nrows                                                                              \nidx                                                                           1   \nvehicle driver       episodestart               timestamp                         \nVB4     li-changlong 2023-08-04 10:22:49.017377 2023-08-04 12:22:49.017377  1.0   \n                                                2023-08-04 13:22:49.017377  1.0   \n                                                2023-08-04 14:22:49.017377  1.0   \n                                                2023-08-04 15:22:49.017377  1.0   \n                                                2023-08-04 16:22:49.017377  1.0   \n\nqtuple                                                                           \\\nrows                                                                              \nidx                                                                           2   \nvehicle driver       episodestart               timestamp                         \nVB4     li-changlong 2023-08-04 10:22:49.017377 2023-08-04 12:22:49.017377  2.0   \n                                                2023-08-04 13:22:49.017377  2.0   \n                                                2023-08-04 14:22:49.017377  2.0   \n                                                2023-08-04 15:22:49.017377  2.0   \n                                                2023-08-04 16:22:49.017377  2.0   \n\nqtuple                                                                           \nrows                                                                             \nidx                                                                           3  \nvehicle driver       episodestart               timestamp                        \nVB4     li-changlong 2023-08-04 10:22:49.017377 2023-08-04 12:22:49.017377  3.0  \n                                                2023-08-04 13:22:49.017377  3.0  \n                                                2023-08-04 14:22:49.017377  3.0  \n                                                2023-08-04 15:22:49.017377  3.0  \n                                                2023-08-04 16:22:49.017377  3.0  \n\n[5 rows x 60 columns]",
      "text/html": "<div>\n<style scoped>\n    .dataframe tbody tr th:only-of-type {\n        vertical-align: middle;\n    }\n\n    .dataframe tbody tr th {\n        vertical-align: top;\n    }\n\n    .dataframe thead tr th {\n        text-align: left;\n    }\n\n    .dataframe thead tr:last-of-type th {\n        text-align: right;\n    }\n</style>\n<table border=\"1\" class=\"dataframe\">\n  <thead>\n    <tr>\n      <th></th>\n      <th></th>\n      <th></th>\n      <th>qtuple</th>\n      <th colspan=\"10\" halign=\"left\">action</th>\n      <th>...</th>\n      <th colspan=\"10\" halign=\"left\">state</th>\n    </tr>\n    <tr>\n      <th></th>\n      <th></th>\n      <th></th>\n      <th>rows</th>\n      <th colspan=\"5\" halign=\"left\">r0</th>\n      <th colspan=\"5\" halign=\"left\">r1</th>\n      <th>...</th>\n      <th colspan=\"2\" halign=\"left\">thrust</th>\n      <th colspan=\"4\" halign=\"left\">timestep</th>\n      <th colspan=\"4\" halign=\"left\">velocity</th>\n    </tr>\n    <tr>\n      <th></th>\n      <th></th>\n      <th></th>\n      <th>idx</th>\n      <th>0</th>\n      <th>1</th>\n      <th>2</th>\n      <th>3</th>\n      <th>4</th>\n      <th>0</th>\n      <th>1</th>\n      <th>2</th>\n      <th>3</th>\n      <th>4</th>\n      <th>...</th>\n      <th>2</th>\n      <th>3</th>\n      <th>0</th>\n      <th>1</th>\n      <th>2</th>\n      <th>3</th>\n      <th>0</th>\n      <th>1</th>\n      <th>2</th>\n      <th>3</th>\n    </tr>\n    <tr>\n      <th>vehicle</th>\n      <th>driver</th>\n      <th>episodestart</th>\n      <th>timestamp</th>\n      <th></th>\n      <th></th>\n      <th></th>\n      <th></th>\n      <th></th>\n      <th></th>\n      <th></th>\n      <th></th>\n      <th></th>\n      <th></th>\n      <th></th>\n      <th></th>\n      <th></th>\n      <th></th>\n      <th></th>\n      <th></th>\n      <th></th>\n      <th></th>\n      <th></th>\n      <th></th>\n      <th></th>\n    </tr>\n  </thead>\n  <tbody>\n    <tr>\n      <th rowspan=\"5\" valign=\"top\">VB4</th>\n      <th rowspan=\"5\" valign=\"top\">li-changlong</th>\n      <th rowspan=\"5\" valign=\"top\">2023-08-04 10:22:49.017377</th>\n      <th>2023-08-04 12:22:49.017377</th>\n      <td>12.0</td>\n      <td>13.0</td>\n      <td>14.0</td>\n      <td>15.0</td>\n      <td>16.0</td>\n      <td>17.0</td>\n      <td>18.0</td>\n      <td>19.0</td>\n      <td>20.0</td>\n      <td>21.0</td>\n      <td>...</td>\n      <td>6.0</td>\n      <td>7.0</td>\n      <td>2023-08-04 11:22:49.017377</td>\n      <td>2023-08-04 11:22:49.037377</td>\n      <td>2023-08-04 11:22:49.057377</td>\n      <td>2023-08-04 11:22:49.077377</td>\n      <td>0.0</td>\n      <td>1.0</td>\n      <td>2.0</td>\n      <td>3.0</td>\n    </tr>\n    <tr>\n      <th>2023-08-04 13:22:49.017377</th>\n      <td>12.0</td>\n      <td>13.0</td>\n      <td>14.0</td>\n      <td>15.0</td>\n      <td>16.0</td>\n      <td>17.0</td>\n      <td>18.0</td>\n      <td>19.0</td>\n      <td>20.0</td>\n      <td>21.0</td>\n      <td>...</td>\n      <td>6.0</td>\n      <td>7.0</td>\n      <td>2023-08-04 11:22:49.017377</td>\n      <td>2023-08-04 11:22:49.037377</td>\n      <td>2023-08-04 11:22:49.057377</td>\n      <td>2023-08-04 11:22:49.077377</td>\n      <td>0.0</td>\n      <td>1.0</td>\n      <td>2.0</td>\n      <td>3.0</td>\n    </tr>\n    <tr>\n      <th>2023-08-04 14:22:49.017377</th>\n      <td>12.0</td>\n      <td>13.0</td>\n      <td>14.0</td>\n      <td>15.0</td>\n      <td>16.0</td>\n      <td>17.0</td>\n      <td>18.0</td>\n      <td>19.0</td>\n      <td>20.0</td>\n      <td>21.0</td>\n      <td>...</td>\n      <td>6.0</td>\n      <td>7.0</td>\n      <td>2023-08-04 11:22:49.017377</td>\n      <td>2023-08-04 11:22:49.037377</td>\n      <td>2023-08-04 11:22:49.057377</td>\n      <td>2023-08-04 11:22:49.077377</td>\n      <td>0.0</td>\n      <td>1.0</td>\n      <td>2.0</td>\n      <td>3.0</td>\n    </tr>\n    <tr>\n      <th>2023-08-04 15:22:49.017377</th>\n      <td>12.0</td>\n      <td>13.0</td>\n      <td>14.0</td>\n      <td>15.0</td>\n      <td>16.0</td>\n      <td>17.0</td>\n      <td>18.0</td>\n      <td>19.0</td>\n      <td>20.0</td>\n      <td>21.0</td>\n      <td>...</td>\n      <td>6.0</td>\n      <td>7.0</td>\n      <td>2023-08-04 11:22:49.017377</td>\n      <td>2023-08-04 11:22:49.037377</td>\n      <td>2023-08-04 11:22:49.057377</td>\n      <td>2023-08-04 11:22:49.077377</td>\n      <td>0.0</td>\n      <td>1.0</td>\n      <td>2.0</td>\n      <td>3.0</td>\n    </tr>\n    <tr>\n      <th>2023-08-04 16:22:49.017377</th>\n      <td>12.0</td>\n      <td>13.0</td>\n      <td>14.0</td>\n      <td>15.0</td>\n      <td>16.0</td>\n      <td>17.0</td>\n      <td>18.0</td>\n      <td>19.0</td>\n      <td>20.0</td>\n      <td>21.0</td>\n      <td>...</td>\n      <td>6.0</td>\n      <td>7.0</td>\n      <td>2023-08-04 11:22:49.017377</td>\n      <td>2023-08-04 11:22:49.037377</td>\n      <td>2023-08-04 11:22:49.057377</td>\n      <td>2023-08-04 11:22:49.077377</td>\n      <td>0.0</td>\n      <td>1.0</td>\n      <td>2.0</td>\n      <td>3.0</td>\n    </tr>\n  </tbody>\n</table>\n<p>5 rows × 60 columns</p>\n</div>"
     },
     "execution_count": 88,
     "metadata": {},
     "output_type": "execute_result"
    },
    {
     "data": {
      "text/plain": "array(['2023-08-04T14:22:49.017377000', '2023-08-04T16:22:49.017377000'],\n      dtype='datetime64[ns]')"
     },
     "execution_count": 88,
     "metadata": {},
     "output_type": "execute_result"
    },
    {
     "data": {
      "text/plain": "qtuple                                                                     action  \\\nrows                                                                           r0   \nidx                                                                             0   \nvehicle driver       episodestart               timestamp                           \nVB4     li-changlong 2023-08-04 10:22:49.017377 2023-08-04 12:22:49.017377   12.0   \n                                                2023-08-04 13:22:49.017377   12.0   \n                                                2023-08-04 15:22:49.017377   12.0   \n\nqtuple                                                                            \\\nrows                                                                               \nidx                                                                            1   \nvehicle driver       episodestart               timestamp                          \nVB4     li-changlong 2023-08-04 10:22:49.017377 2023-08-04 12:22:49.017377  13.0   \n                                                2023-08-04 13:22:49.017377  13.0   \n                                                2023-08-04 15:22:49.017377  13.0   \n\nqtuple                                                                            \\\nrows                                                                               \nidx                                                                            2   \nvehicle driver       episodestart               timestamp                          \nVB4     li-changlong 2023-08-04 10:22:49.017377 2023-08-04 12:22:49.017377  14.0   \n                                                2023-08-04 13:22:49.017377  14.0   \n                                                2023-08-04 15:22:49.017377  14.0   \n\nqtuple                                                                            \\\nrows                                                                               \nidx                                                                            3   \nvehicle driver       episodestart               timestamp                          \nVB4     li-changlong 2023-08-04 10:22:49.017377 2023-08-04 12:22:49.017377  15.0   \n                                                2023-08-04 13:22:49.017377  15.0   \n                                                2023-08-04 15:22:49.017377  15.0   \n\nqtuple                                                                            \\\nrows                                                                               \nidx                                                                            4   \nvehicle driver       episodestart               timestamp                          \nVB4     li-changlong 2023-08-04 10:22:49.017377 2023-08-04 12:22:49.017377  16.0   \n                                                2023-08-04 13:22:49.017377  16.0   \n                                                2023-08-04 15:22:49.017377  16.0   \n\nqtuple                                                                            \\\nrows                                                                          r1   \nidx                                                                            0   \nvehicle driver       episodestart               timestamp                          \nVB4     li-changlong 2023-08-04 10:22:49.017377 2023-08-04 12:22:49.017377  17.0   \n                                                2023-08-04 13:22:49.017377  17.0   \n                                                2023-08-04 15:22:49.017377  17.0   \n\nqtuple                                                                            \\\nrows                                                                               \nidx                                                                            1   \nvehicle driver       episodestart               timestamp                          \nVB4     li-changlong 2023-08-04 10:22:49.017377 2023-08-04 12:22:49.017377  18.0   \n                                                2023-08-04 13:22:49.017377  18.0   \n                                                2023-08-04 15:22:49.017377  18.0   \n\nqtuple                                                                            \\\nrows                                                                               \nidx                                                                            2   \nvehicle driver       episodestart               timestamp                          \nVB4     li-changlong 2023-08-04 10:22:49.017377 2023-08-04 12:22:49.017377  19.0   \n                                                2023-08-04 13:22:49.017377  19.0   \n                                                2023-08-04 15:22:49.017377  19.0   \n\nqtuple                                                                            \\\nrows                                                                               \nidx                                                                            3   \nvehicle driver       episodestart               timestamp                          \nVB4     li-changlong 2023-08-04 10:22:49.017377 2023-08-04 12:22:49.017377  20.0   \n                                                2023-08-04 13:22:49.017377  20.0   \n                                                2023-08-04 15:22:49.017377  20.0   \n\nqtuple                                                                            \\\nrows                                                                               \nidx                                                                            4   \nvehicle driver       episodestart               timestamp                          \nVB4     li-changlong 2023-08-04 10:22:49.017377 2023-08-04 12:22:49.017377  21.0   \n                                                2023-08-04 13:22:49.017377  21.0   \n                                                2023-08-04 15:22:49.017377  21.0   \n\nqtuple                                                                      ...  \\\nrows                                                                        ...   \nidx                                                                         ...   \nvehicle driver       episodestart               timestamp                   ...   \nVB4     li-changlong 2023-08-04 10:22:49.017377 2023-08-04 12:22:49.017377  ...   \n                                                2023-08-04 13:22:49.017377  ...   \n                                                2023-08-04 15:22:49.017377  ...   \n\nqtuple                                                                      state  \\\nrows                                                                       thrust   \nidx                                                                             2   \nvehicle driver       episodestart               timestamp                           \nVB4     li-changlong 2023-08-04 10:22:49.017377 2023-08-04 12:22:49.017377    6.0   \n                                                2023-08-04 13:22:49.017377    6.0   \n                                                2023-08-04 15:22:49.017377    6.0   \n\nqtuple                                                                           \\\nrows                                                                              \nidx                                                                           3   \nvehicle driver       episodestart               timestamp                         \nVB4     li-changlong 2023-08-04 10:22:49.017377 2023-08-04 12:22:49.017377  7.0   \n                                                2023-08-04 13:22:49.017377  7.0   \n                                                2023-08-04 15:22:49.017377  7.0   \n\nqtuple                                                                                                 \\\nrows                                                                                         timestep   \nidx                                                                                                 0   \nvehicle driver       episodestart               timestamp                                               \nVB4     li-changlong 2023-08-04 10:22:49.017377 2023-08-04 12:22:49.017377 2023-08-04 11:22:49.017377   \n                                                2023-08-04 13:22:49.017377 2023-08-04 11:22:49.017377   \n                                                2023-08-04 15:22:49.017377 2023-08-04 11:22:49.017377   \n\nqtuple                                                                                                 \\\nrows                                                                                                    \nidx                                                                                                 1   \nvehicle driver       episodestart               timestamp                                               \nVB4     li-changlong 2023-08-04 10:22:49.017377 2023-08-04 12:22:49.017377 2023-08-04 11:22:49.037377   \n                                                2023-08-04 13:22:49.017377 2023-08-04 11:22:49.037377   \n                                                2023-08-04 15:22:49.017377 2023-08-04 11:22:49.037377   \n\nqtuple                                                                                                 \\\nrows                                                                                                    \nidx                                                                                                 2   \nvehicle driver       episodestart               timestamp                                               \nVB4     li-changlong 2023-08-04 10:22:49.017377 2023-08-04 12:22:49.017377 2023-08-04 11:22:49.057377   \n                                                2023-08-04 13:22:49.017377 2023-08-04 11:22:49.057377   \n                                                2023-08-04 15:22:49.017377 2023-08-04 11:22:49.057377   \n\nqtuple                                                                                                 \\\nrows                                                                                                    \nidx                                                                                                 3   \nvehicle driver       episodestart               timestamp                                               \nVB4     li-changlong 2023-08-04 10:22:49.017377 2023-08-04 12:22:49.017377 2023-08-04 11:22:49.077377   \n                                                2023-08-04 13:22:49.017377 2023-08-04 11:22:49.077377   \n                                                2023-08-04 15:22:49.017377 2023-08-04 11:22:49.077377   \n\nqtuple                                                                               \\\nrows                                                                       velocity   \nidx                                                                               0   \nvehicle driver       episodestart               timestamp                             \nVB4     li-changlong 2023-08-04 10:22:49.017377 2023-08-04 12:22:49.017377      0.0   \n                                                2023-08-04 13:22:49.017377      0.0   \n                                                2023-08-04 15:22:49.017377      0.0   \n\nqtuple                                                                           \\\nrows                                                                              \nidx                                                                           1   \nvehicle driver       episodestart               timestamp                         \nVB4     li-changlong 2023-08-04 10:22:49.017377 2023-08-04 12:22:49.017377  1.0   \n                                                2023-08-04 13:22:49.017377  1.0   \n                                                2023-08-04 15:22:49.017377  1.0   \n\nqtuple                                                                           \\\nrows                                                                              \nidx                                                                           2   \nvehicle driver       episodestart               timestamp                         \nVB4     li-changlong 2023-08-04 10:22:49.017377 2023-08-04 12:22:49.017377  2.0   \n                                                2023-08-04 13:22:49.017377  2.0   \n                                                2023-08-04 15:22:49.017377  2.0   \n\nqtuple                                                                           \nrows                                                                             \nidx                                                                           3  \nvehicle driver       episodestart               timestamp                        \nVB4     li-changlong 2023-08-04 10:22:49.017377 2023-08-04 12:22:49.017377  3.0  \n                                                2023-08-04 13:22:49.017377  3.0  \n                                                2023-08-04 15:22:49.017377  3.0  \n\n[3 rows x 60 columns]",
      "text/html": "<div>\n<style scoped>\n    .dataframe tbody tr th:only-of-type {\n        vertical-align: middle;\n    }\n\n    .dataframe tbody tr th {\n        vertical-align: top;\n    }\n\n    .dataframe thead tr th {\n        text-align: left;\n    }\n\n    .dataframe thead tr:last-of-type th {\n        text-align: right;\n    }\n</style>\n<table border=\"1\" class=\"dataframe\">\n  <thead>\n    <tr>\n      <th></th>\n      <th></th>\n      <th></th>\n      <th>qtuple</th>\n      <th colspan=\"10\" halign=\"left\">action</th>\n      <th>...</th>\n      <th colspan=\"10\" halign=\"left\">state</th>\n    </tr>\n    <tr>\n      <th></th>\n      <th></th>\n      <th></th>\n      <th>rows</th>\n      <th colspan=\"5\" halign=\"left\">r0</th>\n      <th colspan=\"5\" halign=\"left\">r1</th>\n      <th>...</th>\n      <th colspan=\"2\" halign=\"left\">thrust</th>\n      <th colspan=\"4\" halign=\"left\">timestep</th>\n      <th colspan=\"4\" halign=\"left\">velocity</th>\n    </tr>\n    <tr>\n      <th></th>\n      <th></th>\n      <th></th>\n      <th>idx</th>\n      <th>0</th>\n      <th>1</th>\n      <th>2</th>\n      <th>3</th>\n      <th>4</th>\n      <th>0</th>\n      <th>1</th>\n      <th>2</th>\n      <th>3</th>\n      <th>4</th>\n      <th>...</th>\n      <th>2</th>\n      <th>3</th>\n      <th>0</th>\n      <th>1</th>\n      <th>2</th>\n      <th>3</th>\n      <th>0</th>\n      <th>1</th>\n      <th>2</th>\n      <th>3</th>\n    </tr>\n    <tr>\n      <th>vehicle</th>\n      <th>driver</th>\n      <th>episodestart</th>\n      <th>timestamp</th>\n      <th></th>\n      <th></th>\n      <th></th>\n      <th></th>\n      <th></th>\n      <th></th>\n      <th></th>\n      <th></th>\n      <th></th>\n      <th></th>\n      <th></th>\n      <th></th>\n      <th></th>\n      <th></th>\n      <th></th>\n      <th></th>\n      <th></th>\n      <th></th>\n      <th></th>\n      <th></th>\n      <th></th>\n    </tr>\n  </thead>\n  <tbody>\n    <tr>\n      <th rowspan=\"3\" valign=\"top\">VB4</th>\n      <th rowspan=\"3\" valign=\"top\">li-changlong</th>\n      <th rowspan=\"3\" valign=\"top\">2023-08-04 10:22:49.017377</th>\n      <th>2023-08-04 12:22:49.017377</th>\n      <td>12.0</td>\n      <td>13.0</td>\n      <td>14.0</td>\n      <td>15.0</td>\n      <td>16.0</td>\n      <td>17.0</td>\n      <td>18.0</td>\n      <td>19.0</td>\n      <td>20.0</td>\n      <td>21.0</td>\n      <td>...</td>\n      <td>6.0</td>\n      <td>7.0</td>\n      <td>2023-08-04 11:22:49.017377</td>\n      <td>2023-08-04 11:22:49.037377</td>\n      <td>2023-08-04 11:22:49.057377</td>\n      <td>2023-08-04 11:22:49.077377</td>\n      <td>0.0</td>\n      <td>1.0</td>\n      <td>2.0</td>\n      <td>3.0</td>\n    </tr>\n    <tr>\n      <th>2023-08-04 13:22:49.017377</th>\n      <td>12.0</td>\n      <td>13.0</td>\n      <td>14.0</td>\n      <td>15.0</td>\n      <td>16.0</td>\n      <td>17.0</td>\n      <td>18.0</td>\n      <td>19.0</td>\n      <td>20.0</td>\n      <td>21.0</td>\n      <td>...</td>\n      <td>6.0</td>\n      <td>7.0</td>\n      <td>2023-08-04 11:22:49.017377</td>\n      <td>2023-08-04 11:22:49.037377</td>\n      <td>2023-08-04 11:22:49.057377</td>\n      <td>2023-08-04 11:22:49.077377</td>\n      <td>0.0</td>\n      <td>1.0</td>\n      <td>2.0</td>\n      <td>3.0</td>\n    </tr>\n    <tr>\n      <th>2023-08-04 15:22:49.017377</th>\n      <td>12.0</td>\n      <td>13.0</td>\n      <td>14.0</td>\n      <td>15.0</td>\n      <td>16.0</td>\n      <td>17.0</td>\n      <td>18.0</td>\n      <td>19.0</td>\n      <td>20.0</td>\n      <td>21.0</td>\n      <td>...</td>\n      <td>6.0</td>\n      <td>7.0</td>\n      <td>2023-08-04 11:22:49.017377</td>\n      <td>2023-08-04 11:22:49.037377</td>\n      <td>2023-08-04 11:22:49.057377</td>\n      <td>2023-08-04 11:22:49.077377</td>\n      <td>0.0</td>\n      <td>1.0</td>\n      <td>2.0</td>\n      <td>3.0</td>\n    </tr>\n  </tbody>\n</table>\n<p>3 rows × 60 columns</p>\n</div>"
     },
     "execution_count": 88,
     "metadata": {},
     "output_type": "execute_result"
    }
   ],
   "source": [
    "\n",
    "dfs_episodex = dfs_episode.copy()\n",
    "dfs_episodex.index = dfs_episodex.index.set_levels([episodestart], level='episodestart')\n",
    "dfs_episodex.index = dfs_episodex.index.set_levels(\n",
    "    [[trucks_by_id['VB4'].vid], [drivers_by_id['li-changlong'].pid]],\n",
    "    level=['vehicle', 'driver'],\n",
    "    verify_integrity=False,\n",
    ")\n",
    "dfs_episodex\n",
    "ts_index = dfs_episodex.index.unique(level='timestamp')\n",
    "\n",
    "idx_num = len(ts_index)\n",
    "drop_num = np.random.randint(low=1, high=idx_num-1)\n",
    "ts_index_to_drop = np.random.choice(ts_index, drop_num,replace=False)\n",
    "ts_index_to_drop\n",
    "dfs_zigzag =dfs_episodex.drop(index=ts_index_to_drop, level='timestamp')\n",
    "dfs_zigzag"
   ],
   "metadata": {
    "collapsed": false,
    "ExecuteTime": {
     "end_time": "2023-08-04T03:23:01.914164484Z",
     "start_time": "2023-08-04T03:22:50.428857218Z"
    }
   }
  },
  {
   "cell_type": "code",
   "execution_count": 88,
   "outputs": [],
   "source": [],
   "metadata": {
    "collapsed": false,
    "ExecuteTime": {
     "end_time": "2023-08-04T03:23:01.914302303Z",
     "start_time": "2023-08-04T03:22:50.458881019Z"
    }
   }
  },
  {
   "cell_type": "code",
   "execution_count": 89,
   "outputs": [
    {
     "data": {
      "text/plain": "Timestamp('2023-08-04 11:22:50.468113')"
     },
     "execution_count": 89,
     "metadata": {},
     "output_type": "execute_result"
    },
    {
     "data": {
      "text/plain": "Timestamp('2023-08-02 11:22:50.468113')"
     },
     "execution_count": 89,
     "metadata": {},
     "output_type": "execute_result"
    },
    {
     "data": {
      "text/plain": "qtuple                                                                      action  \\\nrows                                                                            r0   \nidx                                                                              0   \nvehicle driver        episodestart               timestamp                           \nMP73    zheng-longfei 2023-07-28 11:22:50.468113 2023-08-04 14:22:49.017377   12.0   \n                                                 2023-08-04 16:22:49.017377   12.0   \n\nqtuple                                                                             \\\nrows                                                                                \nidx                                                                             1   \nvehicle driver        episodestart               timestamp                          \nMP73    zheng-longfei 2023-07-28 11:22:50.468113 2023-08-04 14:22:49.017377  13.0   \n                                                 2023-08-04 16:22:49.017377  13.0   \n\nqtuple                                                                             \\\nrows                                                                                \nidx                                                                             2   \nvehicle driver        episodestart               timestamp                          \nMP73    zheng-longfei 2023-07-28 11:22:50.468113 2023-08-04 14:22:49.017377  14.0   \n                                                 2023-08-04 16:22:49.017377  14.0   \n\nqtuple                                                                             \\\nrows                                                                                \nidx                                                                             3   \nvehicle driver        episodestart               timestamp                          \nMP73    zheng-longfei 2023-07-28 11:22:50.468113 2023-08-04 14:22:49.017377  15.0   \n                                                 2023-08-04 16:22:49.017377  15.0   \n\nqtuple                                                                             \\\nrows                                                                                \nidx                                                                             4   \nvehicle driver        episodestart               timestamp                          \nMP73    zheng-longfei 2023-07-28 11:22:50.468113 2023-08-04 14:22:49.017377  16.0   \n                                                 2023-08-04 16:22:49.017377  16.0   \n\nqtuple                                                                             \\\nrows                                                                           r1   \nidx                                                                             0   \nvehicle driver        episodestart               timestamp                          \nMP73    zheng-longfei 2023-07-28 11:22:50.468113 2023-08-04 14:22:49.017377  17.0   \n                                                 2023-08-04 16:22:49.017377  17.0   \n\nqtuple                                                                             \\\nrows                                                                                \nidx                                                                             1   \nvehicle driver        episodestart               timestamp                          \nMP73    zheng-longfei 2023-07-28 11:22:50.468113 2023-08-04 14:22:49.017377  18.0   \n                                                 2023-08-04 16:22:49.017377  18.0   \n\nqtuple                                                                             \\\nrows                                                                                \nidx                                                                             2   \nvehicle driver        episodestart               timestamp                          \nMP73    zheng-longfei 2023-07-28 11:22:50.468113 2023-08-04 14:22:49.017377  19.0   \n                                                 2023-08-04 16:22:49.017377  19.0   \n\nqtuple                                                                             \\\nrows                                                                                \nidx                                                                             3   \nvehicle driver        episodestart               timestamp                          \nMP73    zheng-longfei 2023-07-28 11:22:50.468113 2023-08-04 14:22:49.017377  20.0   \n                                                 2023-08-04 16:22:49.017377  20.0   \n\nqtuple                                                                             \\\nrows                                                                                \nidx                                                                             4   \nvehicle driver        episodestart               timestamp                          \nMP73    zheng-longfei 2023-07-28 11:22:50.468113 2023-08-04 14:22:49.017377  21.0   \n                                                 2023-08-04 16:22:49.017377  21.0   \n\nqtuple                                                                       ...  \\\nrows                                                                         ...   \nidx                                                                          ...   \nvehicle driver        episodestart               timestamp                   ...   \nMP73    zheng-longfei 2023-07-28 11:22:50.468113 2023-08-04 14:22:49.017377  ...   \n                                                 2023-08-04 16:22:49.017377  ...   \n\nqtuple                                                                       state  \\\nrows                                                                        thrust   \nidx                                                                              2   \nvehicle driver        episodestart               timestamp                           \nMP73    zheng-longfei 2023-07-28 11:22:50.468113 2023-08-04 14:22:49.017377    6.0   \n                                                 2023-08-04 16:22:49.017377    6.0   \n\nqtuple                                                                            \\\nrows                                                                               \nidx                                                                            3   \nvehicle driver        episodestart               timestamp                         \nMP73    zheng-longfei 2023-07-28 11:22:50.468113 2023-08-04 14:22:49.017377  7.0   \n                                                 2023-08-04 16:22:49.017377  7.0   \n\nqtuple                                                                                                  \\\nrows                                                                                          timestep   \nidx                                                                                                  0   \nvehicle driver        episodestart               timestamp                                               \nMP73    zheng-longfei 2023-07-28 11:22:50.468113 2023-08-04 14:22:49.017377 2023-08-04 11:22:49.017377   \n                                                 2023-08-04 16:22:49.017377 2023-08-04 11:22:49.017377   \n\nqtuple                                                                                                  \\\nrows                                                                                                     \nidx                                                                                                  1   \nvehicle driver        episodestart               timestamp                                               \nMP73    zheng-longfei 2023-07-28 11:22:50.468113 2023-08-04 14:22:49.017377 2023-08-04 11:22:49.037377   \n                                                 2023-08-04 16:22:49.017377 2023-08-04 11:22:49.037377   \n\nqtuple                                                                                                  \\\nrows                                                                                                     \nidx                                                                                                  2   \nvehicle driver        episodestart               timestamp                                               \nMP73    zheng-longfei 2023-07-28 11:22:50.468113 2023-08-04 14:22:49.017377 2023-08-04 11:22:49.057377   \n                                                 2023-08-04 16:22:49.017377 2023-08-04 11:22:49.057377   \n\nqtuple                                                                                                  \\\nrows                                                                                                     \nidx                                                                                                  3   \nvehicle driver        episodestart               timestamp                                               \nMP73    zheng-longfei 2023-07-28 11:22:50.468113 2023-08-04 14:22:49.017377 2023-08-04 11:22:49.077377   \n                                                 2023-08-04 16:22:49.017377 2023-08-04 11:22:49.077377   \n\nqtuple                                                                                \\\nrows                                                                        velocity   \nidx                                                                                0   \nvehicle driver        episodestart               timestamp                             \nMP73    zheng-longfei 2023-07-28 11:22:50.468113 2023-08-04 14:22:49.017377      0.0   \n                                                 2023-08-04 16:22:49.017377      0.0   \n\nqtuple                                                                            \\\nrows                                                                               \nidx                                                                            1   \nvehicle driver        episodestart               timestamp                         \nMP73    zheng-longfei 2023-07-28 11:22:50.468113 2023-08-04 14:22:49.017377  1.0   \n                                                 2023-08-04 16:22:49.017377  1.0   \n\nqtuple                                                                            \\\nrows                                                                               \nidx                                                                            2   \nvehicle driver        episodestart               timestamp                         \nMP73    zheng-longfei 2023-07-28 11:22:50.468113 2023-08-04 14:22:49.017377  2.0   \n                                                 2023-08-04 16:22:49.017377  2.0   \n\nqtuple                                                                            \nrows                                                                              \nidx                                                                            3  \nvehicle driver        episodestart               timestamp                        \nMP73    zheng-longfei 2023-07-28 11:22:50.468113 2023-08-04 14:22:49.017377  3.0  \n                                                 2023-08-04 16:22:49.017377  3.0  \n\n[2 rows x 60 columns]",
      "text/html": "<div>\n<style scoped>\n    .dataframe tbody tr th:only-of-type {\n        vertical-align: middle;\n    }\n\n    .dataframe tbody tr th {\n        vertical-align: top;\n    }\n\n    .dataframe thead tr th {\n        text-align: left;\n    }\n\n    .dataframe thead tr:last-of-type th {\n        text-align: right;\n    }\n</style>\n<table border=\"1\" class=\"dataframe\">\n  <thead>\n    <tr>\n      <th></th>\n      <th></th>\n      <th></th>\n      <th>qtuple</th>\n      <th colspan=\"10\" halign=\"left\">action</th>\n      <th>...</th>\n      <th colspan=\"10\" halign=\"left\">state</th>\n    </tr>\n    <tr>\n      <th></th>\n      <th></th>\n      <th></th>\n      <th>rows</th>\n      <th colspan=\"5\" halign=\"left\">r0</th>\n      <th colspan=\"5\" halign=\"left\">r1</th>\n      <th>...</th>\n      <th colspan=\"2\" halign=\"left\">thrust</th>\n      <th colspan=\"4\" halign=\"left\">timestep</th>\n      <th colspan=\"4\" halign=\"left\">velocity</th>\n    </tr>\n    <tr>\n      <th></th>\n      <th></th>\n      <th></th>\n      <th>idx</th>\n      <th>0</th>\n      <th>1</th>\n      <th>2</th>\n      <th>3</th>\n      <th>4</th>\n      <th>0</th>\n      <th>1</th>\n      <th>2</th>\n      <th>3</th>\n      <th>4</th>\n      <th>...</th>\n      <th>2</th>\n      <th>3</th>\n      <th>0</th>\n      <th>1</th>\n      <th>2</th>\n      <th>3</th>\n      <th>0</th>\n      <th>1</th>\n      <th>2</th>\n      <th>3</th>\n    </tr>\n    <tr>\n      <th>vehicle</th>\n      <th>driver</th>\n      <th>episodestart</th>\n      <th>timestamp</th>\n      <th></th>\n      <th></th>\n      <th></th>\n      <th></th>\n      <th></th>\n      <th></th>\n      <th></th>\n      <th></th>\n      <th></th>\n      <th></th>\n      <th></th>\n      <th></th>\n      <th></th>\n      <th></th>\n      <th></th>\n      <th></th>\n      <th></th>\n      <th></th>\n      <th></th>\n      <th></th>\n      <th></th>\n    </tr>\n  </thead>\n  <tbody>\n    <tr>\n      <th rowspan=\"2\" valign=\"top\">MP73</th>\n      <th rowspan=\"2\" valign=\"top\">zheng-longfei</th>\n      <th rowspan=\"2\" valign=\"top\">2023-07-28 11:22:50.468113</th>\n      <th>2023-08-04 14:22:49.017377</th>\n      <td>12.0</td>\n      <td>13.0</td>\n      <td>14.0</td>\n      <td>15.0</td>\n      <td>16.0</td>\n      <td>17.0</td>\n      <td>18.0</td>\n      <td>19.0</td>\n      <td>20.0</td>\n      <td>21.0</td>\n      <td>...</td>\n      <td>6.0</td>\n      <td>7.0</td>\n      <td>2023-08-04 11:22:49.017377</td>\n      <td>2023-08-04 11:22:49.037377</td>\n      <td>2023-08-04 11:22:49.057377</td>\n      <td>2023-08-04 11:22:49.077377</td>\n      <td>0.0</td>\n      <td>1.0</td>\n      <td>2.0</td>\n      <td>3.0</td>\n    </tr>\n    <tr>\n      <th>2023-08-04 16:22:49.017377</th>\n      <td>12.0</td>\n      <td>13.0</td>\n      <td>14.0</td>\n      <td>15.0</td>\n      <td>16.0</td>\n      <td>17.0</td>\n      <td>18.0</td>\n      <td>19.0</td>\n      <td>20.0</td>\n      <td>21.0</td>\n      <td>...</td>\n      <td>6.0</td>\n      <td>7.0</td>\n      <td>2023-08-04 11:22:49.017377</td>\n      <td>2023-08-04 11:22:49.037377</td>\n      <td>2023-08-04 11:22:49.057377</td>\n      <td>2023-08-04 11:22:49.077377</td>\n      <td>0.0</td>\n      <td>1.0</td>\n      <td>2.0</td>\n      <td>3.0</td>\n    </tr>\n  </tbody>\n</table>\n<p>2 rows × 60 columns</p>\n</div>"
     },
     "execution_count": 89,
     "metadata": {},
     "output_type": "execute_result"
    }
   ],
   "source": [
    "ts_new = pd.to_datetime((datetime.now()))\n",
    "ts_new\n",
    "episodestart = ts_new - pd.Timedelta(2, 'd')\n",
    "episodestart\n",
    "\n",
    "dfs_episode0 = dfs_episode.copy()\n",
    "dfs_episode0.index = dfs_episode0.index.set_levels([episodestart], level='episodestart')\n",
    "dfs_episode0.index = dfs_episode0.index.set_levels(\n",
    "    [[trucks_by_id['VB7'].vid], [drivers_by_id['zheng-longfei'].pid]],\n",
    "    level=['vehicle', 'driver'],\n",
    "    verify_integrity=False,\n",
    ")\n",
    "ts_index = dfs_episode0.index.unique(level='timestamp')\n",
    "idx_num = len(ts_index)\n",
    "drop_num = np.random.randint(low=1, high=idx_num-1)\n",
    "ts_index_to_drop = np.random.choice(ts_index, drop_num,replace=False)\n",
    "dfs_episode0 =dfs_episode0.drop(index=ts_index_to_drop, level='timestamp')\n",
    "\n",
    "dfs_episode1 = dfs_episode.copy()\n",
    "dfs_episode1.index = dfs_episode1.index.set_levels(\n",
    "    [episodestart - pd.Timedelta(3, 'd')], level='episodestart'\n",
    ")\n",
    "dfs_episode1.index = dfs_episode1.index.set_levels(\n",
    "    [[trucks_by_id['MP73'].vid], [drivers_by_id['wang-cheng'].pid]],\n",
    "    level=['vehicle', 'driver'],\n",
    "    verify_integrity=False,\n",
    ")\n",
    "ts_index = dfs_episode1.index.unique(level='timestamp')\n",
    "idx_num = len(ts_index)\n",
    "drop_num = np.random.randint(low=1, high=idx_num-1)\n",
    "ts_index_to_drop = np.random.choice(ts_index, drop_num,replace=False)\n",
    "dfs_episode1 =dfs_episode1.drop(index=ts_index_to_drop, level='timestamp')\n",
    "\n",
    "dfs_episode2 = dfs_episode.copy()\n",
    "dfs_episode2.index = dfs_episode2.index.set_levels(\n",
    "    [episodestart - pd.Timedelta(4, 'd')], level='episodestart'\n",
    ")\n",
    "dfs_episode2.index = dfs_episode2.index.set_levels(\n",
    "    [[trucks_by_id['VB7'].vid], [drivers_by_id['wang-cheng'].pid]],\n",
    "    level=['vehicle', 'driver'],\n",
    "    verify_integrity=False,\n",
    ")\n",
    "ts_index = dfs_episode2.index.unique(level='timestamp')\n",
    "idx_num = len(ts_index)\n",
    "drop_num = np.random.randint(low=1, high=idx_num-1)\n",
    "ts_index_to_drop = np.random.choice(ts_index, drop_num,replace=False)\n",
    "dfs_episode2 =dfs_episode2.drop(index=ts_index_to_drop, level='timestamp')\n",
    "\n",
    "dfs_episode3 = dfs_episode.copy()\n",
    "dfs_episode3.index = dfs_episode3.index.set_levels(\n",
    "    [episodestart - pd.Timedelta(5, 'd')], level='episodestart'\n",
    ")\n",
    "dfs_episode3.index = dfs_episode3.index.set_levels(\n",
    "    [[trucks_by_id['MP73'].vid], [drivers_by_id['zheng-longfei'].pid]],\n",
    "    level=['vehicle', 'driver'],\n",
    "    verify_integrity=False,\n",
    ")\n",
    "\n",
    "ts_index = dfs_episode3.index.unique(level='timestamp')\n",
    "idx_num = len(ts_index)\n",
    "drop_num = np.random.randint(low=1, high=idx_num-1)\n",
    "ts_index_to_drop = np.random.choice(ts_index, drop_num,replace=False)\n",
    "dfs_episode3 =dfs_episode3.drop(index=ts_index_to_drop, level='timestamp')\n",
    "dfs_episode3"
   ],
   "metadata": {
    "collapsed": false,
    "ExecuteTime": {
     "end_time": "2023-08-04T03:23:01.916037162Z",
     "start_time": "2023-08-04T03:22:50.471886084Z"
    }
   }
  },
  {
   "cell_type": "code",
   "execution_count": 90,
   "outputs": [
    {
     "data": {
      "text/plain": "dfs_episode_all\nqtuple                                                                      state  \\\nrows                                                                        brake   \nidx                                                                             0   \nvehicle driver        episodestart               timestamp                          \nMP73    wang-cheng    2023-07-30 11:22:50.468113 2023-08-04 12:22:49.017377   8.0   \n                                                 2023-08-04 13:22:49.017377   8.0   \n                                                 2023-08-04 14:22:49.017377   8.0   \n                                                 2023-08-04 16:22:49.017377   8.0   \n        zheng-longfei 2023-07-28 11:22:50.468113 2023-08-04 14:22:49.017377   8.0   \n                                                 2023-08-04 16:22:49.017377   8.0   \nVB7     wang-cheng    2023-07-29 11:22:50.468113 2023-08-04 15:22:49.017377   8.0   \n                                                 2023-08-04 16:22:49.017377   8.0   \n                      2023-08-04 11:22:49.017377 2023-08-04 12:22:49.017377   8.0   \n                                                 2023-08-04 13:22:49.017377   8.0   \n                                                 2023-08-04 14:22:49.017377   8.0   \n                                                 2023-08-04 15:22:49.017377   8.0   \n                                                 2023-08-04 16:22:49.017377   8.0   \n        zheng-longfei 2023-08-02 11:22:50.468113 2023-08-04 12:22:49.017377   8.0   \n                                                 2023-08-04 13:22:49.017377   8.0   \n                                                 2023-08-04 16:22:49.017377   8.0   \n\nqtuple                                                                            \\\nrows                                                                               \nidx                                                                            1   \nvehicle driver        episodestart               timestamp                         \nMP73    wang-cheng    2023-07-30 11:22:50.468113 2023-08-04 12:22:49.017377  9.0   \n                                                 2023-08-04 13:22:49.017377  9.0   \n                                                 2023-08-04 14:22:49.017377  9.0   \n                                                 2023-08-04 16:22:49.017377  9.0   \n        zheng-longfei 2023-07-28 11:22:50.468113 2023-08-04 14:22:49.017377  9.0   \n                                                 2023-08-04 16:22:49.017377  9.0   \nVB7     wang-cheng    2023-07-29 11:22:50.468113 2023-08-04 15:22:49.017377  9.0   \n                                                 2023-08-04 16:22:49.017377  9.0   \n                      2023-08-04 11:22:49.017377 2023-08-04 12:22:49.017377  9.0   \n                                                 2023-08-04 13:22:49.017377  9.0   \n                                                 2023-08-04 14:22:49.017377  9.0   \n                                                 2023-08-04 15:22:49.017377  9.0   \n                                                 2023-08-04 16:22:49.017377  9.0   \n        zheng-longfei 2023-08-02 11:22:50.468113 2023-08-04 12:22:49.017377  9.0   \n                                                 2023-08-04 13:22:49.017377  9.0   \n                                                 2023-08-04 16:22:49.017377  9.0   \n\nqtuple                                                                             \\\nrows                                                                                \nidx                                                                             2   \nvehicle driver        episodestart               timestamp                          \nMP73    wang-cheng    2023-07-30 11:22:50.468113 2023-08-04 12:22:49.017377  10.0   \n                                                 2023-08-04 13:22:49.017377  10.0   \n                                                 2023-08-04 14:22:49.017377  10.0   \n                                                 2023-08-04 16:22:49.017377  10.0   \n        zheng-longfei 2023-07-28 11:22:50.468113 2023-08-04 14:22:49.017377  10.0   \n                                                 2023-08-04 16:22:49.017377  10.0   \nVB7     wang-cheng    2023-07-29 11:22:50.468113 2023-08-04 15:22:49.017377  10.0   \n                                                 2023-08-04 16:22:49.017377  10.0   \n                      2023-08-04 11:22:49.017377 2023-08-04 12:22:49.017377  10.0   \n                                                 2023-08-04 13:22:49.017377  10.0   \n                                                 2023-08-04 14:22:49.017377  10.0   \n                                                 2023-08-04 15:22:49.017377  10.0   \n                                                 2023-08-04 16:22:49.017377  10.0   \n        zheng-longfei 2023-08-02 11:22:50.468113 2023-08-04 12:22:49.017377  10.0   \n                                                 2023-08-04 13:22:49.017377  10.0   \n                                                 2023-08-04 16:22:49.017377  10.0   \n\nqtuple                                                                             \\\nrows                                                                                \nidx                                                                             3   \nvehicle driver        episodestart               timestamp                          \nMP73    wang-cheng    2023-07-30 11:22:50.468113 2023-08-04 12:22:49.017377  11.0   \n                                                 2023-08-04 13:22:49.017377  11.0   \n                                                 2023-08-04 14:22:49.017377  11.0   \n                                                 2023-08-04 16:22:49.017377  11.0   \n        zheng-longfei 2023-07-28 11:22:50.468113 2023-08-04 14:22:49.017377  11.0   \n                                                 2023-08-04 16:22:49.017377  11.0   \nVB7     wang-cheng    2023-07-29 11:22:50.468113 2023-08-04 15:22:49.017377  11.0   \n                                                 2023-08-04 16:22:49.017377  11.0   \n                      2023-08-04 11:22:49.017377 2023-08-04 12:22:49.017377  11.0   \n                                                 2023-08-04 13:22:49.017377  11.0   \n                                                 2023-08-04 14:22:49.017377  11.0   \n                                                 2023-08-04 15:22:49.017377  11.0   \n                                                 2023-08-04 16:22:49.017377  11.0   \n        zheng-longfei 2023-08-02 11:22:50.468113 2023-08-04 12:22:49.017377  11.0   \n                                                 2023-08-04 13:22:49.017377  11.0   \n                                                 2023-08-04 16:22:49.017377  11.0   \n\nqtuple                                                                              \\\nrows                                                                        thrust   \nidx                                                                              0   \nvehicle driver        episodestart               timestamp                           \nMP73    wang-cheng    2023-07-30 11:22:50.468113 2023-08-04 12:22:49.017377    4.0   \n                                                 2023-08-04 13:22:49.017377    4.0   \n                                                 2023-08-04 14:22:49.017377    4.0   \n                                                 2023-08-04 16:22:49.017377    4.0   \n        zheng-longfei 2023-07-28 11:22:50.468113 2023-08-04 14:22:49.017377    4.0   \n                                                 2023-08-04 16:22:49.017377    4.0   \nVB7     wang-cheng    2023-07-29 11:22:50.468113 2023-08-04 15:22:49.017377    4.0   \n                                                 2023-08-04 16:22:49.017377    4.0   \n                      2023-08-04 11:22:49.017377 2023-08-04 12:22:49.017377    4.0   \n                                                 2023-08-04 13:22:49.017377    4.0   \n                                                 2023-08-04 14:22:49.017377    4.0   \n                                                 2023-08-04 15:22:49.017377    4.0   \n                                                 2023-08-04 16:22:49.017377    4.0   \n        zheng-longfei 2023-08-02 11:22:50.468113 2023-08-04 12:22:49.017377    4.0   \n                                                 2023-08-04 13:22:49.017377    4.0   \n                                                 2023-08-04 16:22:49.017377    4.0   \n\nqtuple                                                                            \\\nrows                                                                               \nidx                                                                            1   \nvehicle driver        episodestart               timestamp                         \nMP73    wang-cheng    2023-07-30 11:22:50.468113 2023-08-04 12:22:49.017377  5.0   \n                                                 2023-08-04 13:22:49.017377  5.0   \n                                                 2023-08-04 14:22:49.017377  5.0   \n                                                 2023-08-04 16:22:49.017377  5.0   \n        zheng-longfei 2023-07-28 11:22:50.468113 2023-08-04 14:22:49.017377  5.0   \n                                                 2023-08-04 16:22:49.017377  5.0   \nVB7     wang-cheng    2023-07-29 11:22:50.468113 2023-08-04 15:22:49.017377  5.0   \n                                                 2023-08-04 16:22:49.017377  5.0   \n                      2023-08-04 11:22:49.017377 2023-08-04 12:22:49.017377  5.0   \n                                                 2023-08-04 13:22:49.017377  5.0   \n                                                 2023-08-04 14:22:49.017377  5.0   \n                                                 2023-08-04 15:22:49.017377  5.0   \n                                                 2023-08-04 16:22:49.017377  5.0   \n        zheng-longfei 2023-08-02 11:22:50.468113 2023-08-04 12:22:49.017377  5.0   \n                                                 2023-08-04 13:22:49.017377  5.0   \n                                                 2023-08-04 16:22:49.017377  5.0   \n\nqtuple                                                                            \\\nrows                                                                               \nidx                                                                            2   \nvehicle driver        episodestart               timestamp                         \nMP73    wang-cheng    2023-07-30 11:22:50.468113 2023-08-04 12:22:49.017377  6.0   \n                                                 2023-08-04 13:22:49.017377  6.0   \n                                                 2023-08-04 14:22:49.017377  6.0   \n                                                 2023-08-04 16:22:49.017377  6.0   \n        zheng-longfei 2023-07-28 11:22:50.468113 2023-08-04 14:22:49.017377  6.0   \n                                                 2023-08-04 16:22:49.017377  6.0   \nVB7     wang-cheng    2023-07-29 11:22:50.468113 2023-08-04 15:22:49.017377  6.0   \n                                                 2023-08-04 16:22:49.017377  6.0   \n                      2023-08-04 11:22:49.017377 2023-08-04 12:22:49.017377  6.0   \n                                                 2023-08-04 13:22:49.017377  6.0   \n                                                 2023-08-04 14:22:49.017377  6.0   \n                                                 2023-08-04 15:22:49.017377  6.0   \n                                                 2023-08-04 16:22:49.017377  6.0   \n        zheng-longfei 2023-08-02 11:22:50.468113 2023-08-04 12:22:49.017377  6.0   \n                                                 2023-08-04 13:22:49.017377  6.0   \n                                                 2023-08-04 16:22:49.017377  6.0   \n\nqtuple                                                                            \\\nrows                                                                               \nidx                                                                            3   \nvehicle driver        episodestart               timestamp                         \nMP73    wang-cheng    2023-07-30 11:22:50.468113 2023-08-04 12:22:49.017377  7.0   \n                                                 2023-08-04 13:22:49.017377  7.0   \n                                                 2023-08-04 14:22:49.017377  7.0   \n                                                 2023-08-04 16:22:49.017377  7.0   \n        zheng-longfei 2023-07-28 11:22:50.468113 2023-08-04 14:22:49.017377  7.0   \n                                                 2023-08-04 16:22:49.017377  7.0   \nVB7     wang-cheng    2023-07-29 11:22:50.468113 2023-08-04 15:22:49.017377  7.0   \n                                                 2023-08-04 16:22:49.017377  7.0   \n                      2023-08-04 11:22:49.017377 2023-08-04 12:22:49.017377  7.0   \n                                                 2023-08-04 13:22:49.017377  7.0   \n                                                 2023-08-04 14:22:49.017377  7.0   \n                                                 2023-08-04 15:22:49.017377  7.0   \n                                                 2023-08-04 16:22:49.017377  7.0   \n        zheng-longfei 2023-08-02 11:22:50.468113 2023-08-04 12:22:49.017377  7.0   \n                                                 2023-08-04 13:22:49.017377  7.0   \n                                                 2023-08-04 16:22:49.017377  7.0   \n\nqtuple                                                                                                  \\\nrows                                                                                          timestep   \nidx                                                                                                  0   \nvehicle driver        episodestart               timestamp                                               \nMP73    wang-cheng    2023-07-30 11:22:50.468113 2023-08-04 12:22:49.017377 2023-08-04 11:22:49.017377   \n                                                 2023-08-04 13:22:49.017377 2023-08-04 11:22:49.017377   \n                                                 2023-08-04 14:22:49.017377 2023-08-04 11:22:49.017377   \n                                                 2023-08-04 16:22:49.017377 2023-08-04 11:22:49.017377   \n        zheng-longfei 2023-07-28 11:22:50.468113 2023-08-04 14:22:49.017377 2023-08-04 11:22:49.017377   \n                                                 2023-08-04 16:22:49.017377 2023-08-04 11:22:49.017377   \nVB7     wang-cheng    2023-07-29 11:22:50.468113 2023-08-04 15:22:49.017377 2023-08-04 11:22:49.017377   \n                                                 2023-08-04 16:22:49.017377 2023-08-04 11:22:49.017377   \n                      2023-08-04 11:22:49.017377 2023-08-04 12:22:49.017377 2023-08-04 11:22:49.017377   \n                                                 2023-08-04 13:22:49.017377 2023-08-04 11:22:49.017377   \n                                                 2023-08-04 14:22:49.017377 2023-08-04 11:22:49.017377   \n                                                 2023-08-04 15:22:49.017377 2023-08-04 11:22:49.017377   \n                                                 2023-08-04 16:22:49.017377 2023-08-04 11:22:49.017377   \n        zheng-longfei 2023-08-02 11:22:50.468113 2023-08-04 12:22:49.017377 2023-08-04 11:22:49.017377   \n                                                 2023-08-04 13:22:49.017377 2023-08-04 11:22:49.017377   \n                                                 2023-08-04 16:22:49.017377 2023-08-04 11:22:49.017377   \n\nqtuple                                                                                                  \\\nrows                                                                                                     \nidx                                                                                                  1   \nvehicle driver        episodestart               timestamp                                               \nMP73    wang-cheng    2023-07-30 11:22:50.468113 2023-08-04 12:22:49.017377 2023-08-04 11:22:49.037377   \n                                                 2023-08-04 13:22:49.017377 2023-08-04 11:22:49.037377   \n                                                 2023-08-04 14:22:49.017377 2023-08-04 11:22:49.037377   \n                                                 2023-08-04 16:22:49.017377 2023-08-04 11:22:49.037377   \n        zheng-longfei 2023-07-28 11:22:50.468113 2023-08-04 14:22:49.017377 2023-08-04 11:22:49.037377   \n                                                 2023-08-04 16:22:49.017377 2023-08-04 11:22:49.037377   \nVB7     wang-cheng    2023-07-29 11:22:50.468113 2023-08-04 15:22:49.017377 2023-08-04 11:22:49.037377   \n                                                 2023-08-04 16:22:49.017377 2023-08-04 11:22:49.037377   \n                      2023-08-04 11:22:49.017377 2023-08-04 12:22:49.017377 2023-08-04 11:22:49.037377   \n                                                 2023-08-04 13:22:49.017377 2023-08-04 11:22:49.037377   \n                                                 2023-08-04 14:22:49.017377 2023-08-04 11:22:49.037377   \n                                                 2023-08-04 15:22:49.017377 2023-08-04 11:22:49.037377   \n                                                 2023-08-04 16:22:49.017377 2023-08-04 11:22:49.037377   \n        zheng-longfei 2023-08-02 11:22:50.468113 2023-08-04 12:22:49.017377 2023-08-04 11:22:49.037377   \n                                                 2023-08-04 13:22:49.017377 2023-08-04 11:22:49.037377   \n                                                 2023-08-04 16:22:49.017377 2023-08-04 11:22:49.037377   \n\nqtuple                                                                       ...  \\\nrows                                                                         ...   \nidx                                                                          ...   \nvehicle driver        episodestart               timestamp                   ...   \nMP73    wang-cheng    2023-07-30 11:22:50.468113 2023-08-04 12:22:49.017377  ...   \n                                                 2023-08-04 13:22:49.017377  ...   \n                                                 2023-08-04 14:22:49.017377  ...   \n                                                 2023-08-04 16:22:49.017377  ...   \n        zheng-longfei 2023-07-28 11:22:50.468113 2023-08-04 14:22:49.017377  ...   \n                                                 2023-08-04 16:22:49.017377  ...   \nVB7     wang-cheng    2023-07-29 11:22:50.468113 2023-08-04 15:22:49.017377  ...   \n                                                 2023-08-04 16:22:49.017377  ...   \n                      2023-08-04 11:22:49.017377 2023-08-04 12:22:49.017377  ...   \n                                                 2023-08-04 13:22:49.017377  ...   \n                                                 2023-08-04 14:22:49.017377  ...   \n                                                 2023-08-04 15:22:49.017377  ...   \n                                                 2023-08-04 16:22:49.017377  ...   \n        zheng-longfei 2023-08-02 11:22:50.468113 2023-08-04 12:22:49.017377  ...   \n                                                 2023-08-04 13:22:49.017377  ...   \n                                                 2023-08-04 16:22:49.017377  ...   \n\nqtuple                                                                      nstate  \\\nrows                                                                        thrust   \nidx                                                                              2   \nvehicle driver        episodestart               timestamp                           \nMP73    wang-cheng    2023-07-30 11:22:50.468113 2023-08-04 12:22:49.017377   35.0   \n                                                 2023-08-04 13:22:49.017377   35.0   \n                                                 2023-08-04 14:22:49.017377   35.0   \n                                                 2023-08-04 16:22:49.017377   35.0   \n        zheng-longfei 2023-07-28 11:22:50.468113 2023-08-04 14:22:49.017377   35.0   \n                                                 2023-08-04 16:22:49.017377   35.0   \nVB7     wang-cheng    2023-07-29 11:22:50.468113 2023-08-04 15:22:49.017377   35.0   \n                                                 2023-08-04 16:22:49.017377   35.0   \n                      2023-08-04 11:22:49.017377 2023-08-04 12:22:49.017377   35.0   \n                                                 2023-08-04 13:22:49.017377   35.0   \n                                                 2023-08-04 14:22:49.017377   35.0   \n                                                 2023-08-04 15:22:49.017377   35.0   \n                                                 2023-08-04 16:22:49.017377   35.0   \n        zheng-longfei 2023-08-02 11:22:50.468113 2023-08-04 12:22:49.017377   35.0   \n                                                 2023-08-04 13:22:49.017377   35.0   \n                                                 2023-08-04 16:22:49.017377   35.0   \n\nqtuple                                                                             \\\nrows                                                                                \nidx                                                                             3   \nvehicle driver        episodestart               timestamp                          \nMP73    wang-cheng    2023-07-30 11:22:50.468113 2023-08-04 12:22:49.017377  36.0   \n                                                 2023-08-04 13:22:49.017377  36.0   \n                                                 2023-08-04 14:22:49.017377  36.0   \n                                                 2023-08-04 16:22:49.017377  36.0   \n        zheng-longfei 2023-07-28 11:22:50.468113 2023-08-04 14:22:49.017377  36.0   \n                                                 2023-08-04 16:22:49.017377  36.0   \nVB7     wang-cheng    2023-07-29 11:22:50.468113 2023-08-04 15:22:49.017377  36.0   \n                                                 2023-08-04 16:22:49.017377  36.0   \n                      2023-08-04 11:22:49.017377 2023-08-04 12:22:49.017377  36.0   \n                                                 2023-08-04 13:22:49.017377  36.0   \n                                                 2023-08-04 14:22:49.017377  36.0   \n                                                 2023-08-04 15:22:49.017377  36.0   \n                                                 2023-08-04 16:22:49.017377  36.0   \n        zheng-longfei 2023-08-02 11:22:50.468113 2023-08-04 12:22:49.017377  36.0   \n                                                 2023-08-04 13:22:49.017377  36.0   \n                                                 2023-08-04 16:22:49.017377  36.0   \n\nqtuple                                                                                                  \\\nrows                                                                                          timestep   \nidx                                                                                                  0   \nvehicle driver        episodestart               timestamp                                               \nMP73    wang-cheng    2023-07-30 11:22:50.468113 2023-08-04 12:22:49.017377 2023-08-04 11:22:54.017377   \n                                                 2023-08-04 13:22:49.017377 2023-08-04 11:22:54.017377   \n                                                 2023-08-04 14:22:49.017377 2023-08-04 11:22:54.017377   \n                                                 2023-08-04 16:22:49.017377 2023-08-04 11:22:54.017377   \n        zheng-longfei 2023-07-28 11:22:50.468113 2023-08-04 14:22:49.017377 2023-08-04 11:22:54.017377   \n                                                 2023-08-04 16:22:49.017377 2023-08-04 11:22:54.017377   \nVB7     wang-cheng    2023-07-29 11:22:50.468113 2023-08-04 15:22:49.017377 2023-08-04 11:22:54.017377   \n                                                 2023-08-04 16:22:49.017377 2023-08-04 11:22:54.017377   \n                      2023-08-04 11:22:49.017377 2023-08-04 12:22:49.017377 2023-08-04 11:22:54.017377   \n                                                 2023-08-04 13:22:49.017377 2023-08-04 11:22:54.017377   \n                                                 2023-08-04 14:22:49.017377 2023-08-04 11:22:54.017377   \n                                                 2023-08-04 15:22:49.017377 2023-08-04 11:22:54.017377   \n                                                 2023-08-04 16:22:49.017377 2023-08-04 11:22:54.017377   \n        zheng-longfei 2023-08-02 11:22:50.468113 2023-08-04 12:22:49.017377 2023-08-04 11:22:54.017377   \n                                                 2023-08-04 13:22:49.017377 2023-08-04 11:22:54.017377   \n                                                 2023-08-04 16:22:49.017377 2023-08-04 11:22:54.017377   \n\nqtuple                                                                                                  \\\nrows                                                                                                     \nidx                                                                                                  1   \nvehicle driver        episodestart               timestamp                                               \nMP73    wang-cheng    2023-07-30 11:22:50.468113 2023-08-04 12:22:49.017377 2023-08-04 11:22:54.037377   \n                                                 2023-08-04 13:22:49.017377 2023-08-04 11:22:54.037377   \n                                                 2023-08-04 14:22:49.017377 2023-08-04 11:22:54.037377   \n                                                 2023-08-04 16:22:49.017377 2023-08-04 11:22:54.037377   \n        zheng-longfei 2023-07-28 11:22:50.468113 2023-08-04 14:22:49.017377 2023-08-04 11:22:54.037377   \n                                                 2023-08-04 16:22:49.017377 2023-08-04 11:22:54.037377   \nVB7     wang-cheng    2023-07-29 11:22:50.468113 2023-08-04 15:22:49.017377 2023-08-04 11:22:54.037377   \n                                                 2023-08-04 16:22:49.017377 2023-08-04 11:22:54.037377   \n                      2023-08-04 11:22:49.017377 2023-08-04 12:22:49.017377 2023-08-04 11:22:54.037377   \n                                                 2023-08-04 13:22:49.017377 2023-08-04 11:22:54.037377   \n                                                 2023-08-04 14:22:49.017377 2023-08-04 11:22:54.037377   \n                                                 2023-08-04 15:22:49.017377 2023-08-04 11:22:54.037377   \n                                                 2023-08-04 16:22:49.017377 2023-08-04 11:22:54.037377   \n        zheng-longfei 2023-08-02 11:22:50.468113 2023-08-04 12:22:49.017377 2023-08-04 11:22:54.037377   \n                                                 2023-08-04 13:22:49.017377 2023-08-04 11:22:54.037377   \n                                                 2023-08-04 16:22:49.017377 2023-08-04 11:22:54.037377   \n\nqtuple                                                                                                  \\\nrows                                                                                                     \nidx                                                                                                  2   \nvehicle driver        episodestart               timestamp                                               \nMP73    wang-cheng    2023-07-30 11:22:50.468113 2023-08-04 12:22:49.017377 2023-08-04 11:22:54.057377   \n                                                 2023-08-04 13:22:49.017377 2023-08-04 11:22:54.057377   \n                                                 2023-08-04 14:22:49.017377 2023-08-04 11:22:54.057377   \n                                                 2023-08-04 16:22:49.017377 2023-08-04 11:22:54.057377   \n        zheng-longfei 2023-07-28 11:22:50.468113 2023-08-04 14:22:49.017377 2023-08-04 11:22:54.057377   \n                                                 2023-08-04 16:22:49.017377 2023-08-04 11:22:54.057377   \nVB7     wang-cheng    2023-07-29 11:22:50.468113 2023-08-04 15:22:49.017377 2023-08-04 11:22:54.057377   \n                                                 2023-08-04 16:22:49.017377 2023-08-04 11:22:54.057377   \n                      2023-08-04 11:22:49.017377 2023-08-04 12:22:49.017377 2023-08-04 11:22:54.057377   \n                                                 2023-08-04 13:22:49.017377 2023-08-04 11:22:54.057377   \n                                                 2023-08-04 14:22:49.017377 2023-08-04 11:22:54.057377   \n                                                 2023-08-04 15:22:49.017377 2023-08-04 11:22:54.057377   \n                                                 2023-08-04 16:22:49.017377 2023-08-04 11:22:54.057377   \n        zheng-longfei 2023-08-02 11:22:50.468113 2023-08-04 12:22:49.017377 2023-08-04 11:22:54.057377   \n                                                 2023-08-04 13:22:49.017377 2023-08-04 11:22:54.057377   \n                                                 2023-08-04 16:22:49.017377 2023-08-04 11:22:54.057377   \n\nqtuple                                                                                                  \\\nrows                                                                                                     \nidx                                                                                                  3   \nvehicle driver        episodestart               timestamp                                               \nMP73    wang-cheng    2023-07-30 11:22:50.468113 2023-08-04 12:22:49.017377 2023-08-04 11:22:54.077377   \n                                                 2023-08-04 13:22:49.017377 2023-08-04 11:22:54.077377   \n                                                 2023-08-04 14:22:49.017377 2023-08-04 11:22:54.077377   \n                                                 2023-08-04 16:22:49.017377 2023-08-04 11:22:54.077377   \n        zheng-longfei 2023-07-28 11:22:50.468113 2023-08-04 14:22:49.017377 2023-08-04 11:22:54.077377   \n                                                 2023-08-04 16:22:49.017377 2023-08-04 11:22:54.077377   \nVB7     wang-cheng    2023-07-29 11:22:50.468113 2023-08-04 15:22:49.017377 2023-08-04 11:22:54.077377   \n                                                 2023-08-04 16:22:49.017377 2023-08-04 11:22:54.077377   \n                      2023-08-04 11:22:49.017377 2023-08-04 12:22:49.017377 2023-08-04 11:22:54.077377   \n                                                 2023-08-04 13:22:49.017377 2023-08-04 11:22:54.077377   \n                                                 2023-08-04 14:22:49.017377 2023-08-04 11:22:54.077377   \n                                                 2023-08-04 15:22:49.017377 2023-08-04 11:22:54.077377   \n                                                 2023-08-04 16:22:49.017377 2023-08-04 11:22:54.077377   \n        zheng-longfei 2023-08-02 11:22:50.468113 2023-08-04 12:22:49.017377 2023-08-04 11:22:54.077377   \n                                                 2023-08-04 13:22:49.017377 2023-08-04 11:22:54.077377   \n                                                 2023-08-04 16:22:49.017377 2023-08-04 11:22:54.077377   \n\nqtuple                                                                                \\\nrows                                                                        velocity   \nidx                                                                                0   \nvehicle driver        episodestart               timestamp                             \nMP73    wang-cheng    2023-07-30 11:22:50.468113 2023-08-04 12:22:49.017377     29.0   \n                                                 2023-08-04 13:22:49.017377     29.0   \n                                                 2023-08-04 14:22:49.017377     29.0   \n                                                 2023-08-04 16:22:49.017377     29.0   \n        zheng-longfei 2023-07-28 11:22:50.468113 2023-08-04 14:22:49.017377     29.0   \n                                                 2023-08-04 16:22:49.017377     29.0   \nVB7     wang-cheng    2023-07-29 11:22:50.468113 2023-08-04 15:22:49.017377     29.0   \n                                                 2023-08-04 16:22:49.017377     29.0   \n                      2023-08-04 11:22:49.017377 2023-08-04 12:22:49.017377     29.0   \n                                                 2023-08-04 13:22:49.017377     29.0   \n                                                 2023-08-04 14:22:49.017377     29.0   \n                                                 2023-08-04 15:22:49.017377     29.0   \n                                                 2023-08-04 16:22:49.017377     29.0   \n        zheng-longfei 2023-08-02 11:22:50.468113 2023-08-04 12:22:49.017377     29.0   \n                                                 2023-08-04 13:22:49.017377     29.0   \n                                                 2023-08-04 16:22:49.017377     29.0   \n\nqtuple                                                                             \\\nrows                                                                                \nidx                                                                             1   \nvehicle driver        episodestart               timestamp                          \nMP73    wang-cheng    2023-07-30 11:22:50.468113 2023-08-04 12:22:49.017377  30.0   \n                                                 2023-08-04 13:22:49.017377  30.0   \n                                                 2023-08-04 14:22:49.017377  30.0   \n                                                 2023-08-04 16:22:49.017377  30.0   \n        zheng-longfei 2023-07-28 11:22:50.468113 2023-08-04 14:22:49.017377  30.0   \n                                                 2023-08-04 16:22:49.017377  30.0   \nVB7     wang-cheng    2023-07-29 11:22:50.468113 2023-08-04 15:22:49.017377  30.0   \n                                                 2023-08-04 16:22:49.017377  30.0   \n                      2023-08-04 11:22:49.017377 2023-08-04 12:22:49.017377  30.0   \n                                                 2023-08-04 13:22:49.017377  30.0   \n                                                 2023-08-04 14:22:49.017377  30.0   \n                                                 2023-08-04 15:22:49.017377  30.0   \n                                                 2023-08-04 16:22:49.017377  30.0   \n        zheng-longfei 2023-08-02 11:22:50.468113 2023-08-04 12:22:49.017377  30.0   \n                                                 2023-08-04 13:22:49.017377  30.0   \n                                                 2023-08-04 16:22:49.017377  30.0   \n\nqtuple                                                                             \\\nrows                                                                                \nidx                                                                             2   \nvehicle driver        episodestart               timestamp                          \nMP73    wang-cheng    2023-07-30 11:22:50.468113 2023-08-04 12:22:49.017377  31.0   \n                                                 2023-08-04 13:22:49.017377  31.0   \n                                                 2023-08-04 14:22:49.017377  31.0   \n                                                 2023-08-04 16:22:49.017377  31.0   \n        zheng-longfei 2023-07-28 11:22:50.468113 2023-08-04 14:22:49.017377  31.0   \n                                                 2023-08-04 16:22:49.017377  31.0   \nVB7     wang-cheng    2023-07-29 11:22:50.468113 2023-08-04 15:22:49.017377  31.0   \n                                                 2023-08-04 16:22:49.017377  31.0   \n                      2023-08-04 11:22:49.017377 2023-08-04 12:22:49.017377  31.0   \n                                                 2023-08-04 13:22:49.017377  31.0   \n                                                 2023-08-04 14:22:49.017377  31.0   \n                                                 2023-08-04 15:22:49.017377  31.0   \n                                                 2023-08-04 16:22:49.017377  31.0   \n        zheng-longfei 2023-08-02 11:22:50.468113 2023-08-04 12:22:49.017377  31.0   \n                                                 2023-08-04 13:22:49.017377  31.0   \n                                                 2023-08-04 16:22:49.017377  31.0   \n\nqtuple                                                                             \nrows                                                                               \nidx                                                                             3  \nvehicle driver        episodestart               timestamp                         \nMP73    wang-cheng    2023-07-30 11:22:50.468113 2023-08-04 12:22:49.017377  32.0  \n                                                 2023-08-04 13:22:49.017377  32.0  \n                                                 2023-08-04 14:22:49.017377  32.0  \n                                                 2023-08-04 16:22:49.017377  32.0  \n        zheng-longfei 2023-07-28 11:22:50.468113 2023-08-04 14:22:49.017377  32.0  \n                                                 2023-08-04 16:22:49.017377  32.0  \nVB7     wang-cheng    2023-07-29 11:22:50.468113 2023-08-04 15:22:49.017377  32.0  \n                                                 2023-08-04 16:22:49.017377  32.0  \n                      2023-08-04 11:22:49.017377 2023-08-04 12:22:49.017377  32.0  \n                                                 2023-08-04 13:22:49.017377  32.0  \n                                                 2023-08-04 14:22:49.017377  32.0  \n                                                 2023-08-04 15:22:49.017377  32.0  \n                                                 2023-08-04 16:22:49.017377  32.0  \n        zheng-longfei 2023-08-02 11:22:50.468113 2023-08-04 12:22:49.017377  32.0  \n                                                 2023-08-04 13:22:49.017377  32.0  \n                                                 2023-08-04 16:22:49.017377  32.0  \n\n[16 rows x 60 columns]",
      "text/html": "<div style=\"float: left; padding: 10px;\">\n    <p style='font-family:\"Courier New\", Courier, monospace'>dfs_episode_all</p><div>\n<style scoped>\n    .dataframe tbody tr th:only-of-type {\n        vertical-align: middle;\n    }\n\n    .dataframe tbody tr th {\n        vertical-align: top;\n    }\n\n    .dataframe thead tr th {\n        text-align: left;\n    }\n\n    .dataframe thead tr:last-of-type th {\n        text-align: right;\n    }\n</style>\n<table border=\"1\" class=\"dataframe\">\n  <thead>\n    <tr>\n      <th></th>\n      <th></th>\n      <th></th>\n      <th>qtuple</th>\n      <th colspan=\"10\" halign=\"left\">state</th>\n      <th>...</th>\n      <th colspan=\"10\" halign=\"left\">nstate</th>\n    </tr>\n    <tr>\n      <th></th>\n      <th></th>\n      <th></th>\n      <th>rows</th>\n      <th colspan=\"4\" halign=\"left\">brake</th>\n      <th colspan=\"4\" halign=\"left\">thrust</th>\n      <th colspan=\"2\" halign=\"left\">timestep</th>\n      <th>...</th>\n      <th colspan=\"2\" halign=\"left\">thrust</th>\n      <th colspan=\"4\" halign=\"left\">timestep</th>\n      <th colspan=\"4\" halign=\"left\">velocity</th>\n    </tr>\n    <tr>\n      <th></th>\n      <th></th>\n      <th></th>\n      <th>idx</th>\n      <th>0</th>\n      <th>1</th>\n      <th>2</th>\n      <th>3</th>\n      <th>0</th>\n      <th>1</th>\n      <th>2</th>\n      <th>3</th>\n      <th>0</th>\n      <th>1</th>\n      <th>...</th>\n      <th>2</th>\n      <th>3</th>\n      <th>0</th>\n      <th>1</th>\n      <th>2</th>\n      <th>3</th>\n      <th>0</th>\n      <th>1</th>\n      <th>2</th>\n      <th>3</th>\n    </tr>\n    <tr>\n      <th>vehicle</th>\n      <th>driver</th>\n      <th>episodestart</th>\n      <th>timestamp</th>\n      <th></th>\n      <th></th>\n      <th></th>\n      <th></th>\n      <th></th>\n      <th></th>\n      <th></th>\n      <th></th>\n      <th></th>\n      <th></th>\n      <th></th>\n      <th></th>\n      <th></th>\n      <th></th>\n      <th></th>\n      <th></th>\n      <th></th>\n      <th></th>\n      <th></th>\n      <th></th>\n      <th></th>\n    </tr>\n  </thead>\n  <tbody>\n    <tr>\n      <th rowspan=\"6\" valign=\"top\">MP73</th>\n      <th rowspan=\"4\" valign=\"top\">wang-cheng</th>\n      <th rowspan=\"4\" valign=\"top\">2023-07-30 11:22:50.468113</th>\n      <th>2023-08-04 12:22:49.017377</th>\n      <td>8.0</td>\n      <td>9.0</td>\n      <td>10.0</td>\n      <td>11.0</td>\n      <td>4.0</td>\n      <td>5.0</td>\n      <td>6.0</td>\n      <td>7.0</td>\n      <td>2023-08-04 11:22:49.017377</td>\n      <td>2023-08-04 11:22:49.037377</td>\n      <td>...</td>\n      <td>35.0</td>\n      <td>36.0</td>\n      <td>2023-08-04 11:22:54.017377</td>\n      <td>2023-08-04 11:22:54.037377</td>\n      <td>2023-08-04 11:22:54.057377</td>\n      <td>2023-08-04 11:22:54.077377</td>\n      <td>29.0</td>\n      <td>30.0</td>\n      <td>31.0</td>\n      <td>32.0</td>\n    </tr>\n    <tr>\n      <th>2023-08-04 13:22:49.017377</th>\n      <td>8.0</td>\n      <td>9.0</td>\n      <td>10.0</td>\n      <td>11.0</td>\n      <td>4.0</td>\n      <td>5.0</td>\n      <td>6.0</td>\n      <td>7.0</td>\n      <td>2023-08-04 11:22:49.017377</td>\n      <td>2023-08-04 11:22:49.037377</td>\n      <td>...</td>\n      <td>35.0</td>\n      <td>36.0</td>\n      <td>2023-08-04 11:22:54.017377</td>\n      <td>2023-08-04 11:22:54.037377</td>\n      <td>2023-08-04 11:22:54.057377</td>\n      <td>2023-08-04 11:22:54.077377</td>\n      <td>29.0</td>\n      <td>30.0</td>\n      <td>31.0</td>\n      <td>32.0</td>\n    </tr>\n    <tr>\n      <th>2023-08-04 14:22:49.017377</th>\n      <td>8.0</td>\n      <td>9.0</td>\n      <td>10.0</td>\n      <td>11.0</td>\n      <td>4.0</td>\n      <td>5.0</td>\n      <td>6.0</td>\n      <td>7.0</td>\n      <td>2023-08-04 11:22:49.017377</td>\n      <td>2023-08-04 11:22:49.037377</td>\n      <td>...</td>\n      <td>35.0</td>\n      <td>36.0</td>\n      <td>2023-08-04 11:22:54.017377</td>\n      <td>2023-08-04 11:22:54.037377</td>\n      <td>2023-08-04 11:22:54.057377</td>\n      <td>2023-08-04 11:22:54.077377</td>\n      <td>29.0</td>\n      <td>30.0</td>\n      <td>31.0</td>\n      <td>32.0</td>\n    </tr>\n    <tr>\n      <th>2023-08-04 16:22:49.017377</th>\n      <td>8.0</td>\n      <td>9.0</td>\n      <td>10.0</td>\n      <td>11.0</td>\n      <td>4.0</td>\n      <td>5.0</td>\n      <td>6.0</td>\n      <td>7.0</td>\n      <td>2023-08-04 11:22:49.017377</td>\n      <td>2023-08-04 11:22:49.037377</td>\n      <td>...</td>\n      <td>35.0</td>\n      <td>36.0</td>\n      <td>2023-08-04 11:22:54.017377</td>\n      <td>2023-08-04 11:22:54.037377</td>\n      <td>2023-08-04 11:22:54.057377</td>\n      <td>2023-08-04 11:22:54.077377</td>\n      <td>29.0</td>\n      <td>30.0</td>\n      <td>31.0</td>\n      <td>32.0</td>\n    </tr>\n    <tr>\n      <th rowspan=\"2\" valign=\"top\">zheng-longfei</th>\n      <th rowspan=\"2\" valign=\"top\">2023-07-28 11:22:50.468113</th>\n      <th>2023-08-04 14:22:49.017377</th>\n      <td>8.0</td>\n      <td>9.0</td>\n      <td>10.0</td>\n      <td>11.0</td>\n      <td>4.0</td>\n      <td>5.0</td>\n      <td>6.0</td>\n      <td>7.0</td>\n      <td>2023-08-04 11:22:49.017377</td>\n      <td>2023-08-04 11:22:49.037377</td>\n      <td>...</td>\n      <td>35.0</td>\n      <td>36.0</td>\n      <td>2023-08-04 11:22:54.017377</td>\n      <td>2023-08-04 11:22:54.037377</td>\n      <td>2023-08-04 11:22:54.057377</td>\n      <td>2023-08-04 11:22:54.077377</td>\n      <td>29.0</td>\n      <td>30.0</td>\n      <td>31.0</td>\n      <td>32.0</td>\n    </tr>\n    <tr>\n      <th>2023-08-04 16:22:49.017377</th>\n      <td>8.0</td>\n      <td>9.0</td>\n      <td>10.0</td>\n      <td>11.0</td>\n      <td>4.0</td>\n      <td>5.0</td>\n      <td>6.0</td>\n      <td>7.0</td>\n      <td>2023-08-04 11:22:49.017377</td>\n      <td>2023-08-04 11:22:49.037377</td>\n      <td>...</td>\n      <td>35.0</td>\n      <td>36.0</td>\n      <td>2023-08-04 11:22:54.017377</td>\n      <td>2023-08-04 11:22:54.037377</td>\n      <td>2023-08-04 11:22:54.057377</td>\n      <td>2023-08-04 11:22:54.077377</td>\n      <td>29.0</td>\n      <td>30.0</td>\n      <td>31.0</td>\n      <td>32.0</td>\n    </tr>\n    <tr>\n      <th rowspan=\"10\" valign=\"top\">VB7</th>\n      <th rowspan=\"7\" valign=\"top\">wang-cheng</th>\n      <th rowspan=\"2\" valign=\"top\">2023-07-29 11:22:50.468113</th>\n      <th>2023-08-04 15:22:49.017377</th>\n      <td>8.0</td>\n      <td>9.0</td>\n      <td>10.0</td>\n      <td>11.0</td>\n      <td>4.0</td>\n      <td>5.0</td>\n      <td>6.0</td>\n      <td>7.0</td>\n      <td>2023-08-04 11:22:49.017377</td>\n      <td>2023-08-04 11:22:49.037377</td>\n      <td>...</td>\n      <td>35.0</td>\n      <td>36.0</td>\n      <td>2023-08-04 11:22:54.017377</td>\n      <td>2023-08-04 11:22:54.037377</td>\n      <td>2023-08-04 11:22:54.057377</td>\n      <td>2023-08-04 11:22:54.077377</td>\n      <td>29.0</td>\n      <td>30.0</td>\n      <td>31.0</td>\n      <td>32.0</td>\n    </tr>\n    <tr>\n      <th>2023-08-04 16:22:49.017377</th>\n      <td>8.0</td>\n      <td>9.0</td>\n      <td>10.0</td>\n      <td>11.0</td>\n      <td>4.0</td>\n      <td>5.0</td>\n      <td>6.0</td>\n      <td>7.0</td>\n      <td>2023-08-04 11:22:49.017377</td>\n      <td>2023-08-04 11:22:49.037377</td>\n      <td>...</td>\n      <td>35.0</td>\n      <td>36.0</td>\n      <td>2023-08-04 11:22:54.017377</td>\n      <td>2023-08-04 11:22:54.037377</td>\n      <td>2023-08-04 11:22:54.057377</td>\n      <td>2023-08-04 11:22:54.077377</td>\n      <td>29.0</td>\n      <td>30.0</td>\n      <td>31.0</td>\n      <td>32.0</td>\n    </tr>\n    <tr>\n      <th rowspan=\"5\" valign=\"top\">2023-08-04 11:22:49.017377</th>\n      <th>2023-08-04 12:22:49.017377</th>\n      <td>8.0</td>\n      <td>9.0</td>\n      <td>10.0</td>\n      <td>11.0</td>\n      <td>4.0</td>\n      <td>5.0</td>\n      <td>6.0</td>\n      <td>7.0</td>\n      <td>2023-08-04 11:22:49.017377</td>\n      <td>2023-08-04 11:22:49.037377</td>\n      <td>...</td>\n      <td>35.0</td>\n      <td>36.0</td>\n      <td>2023-08-04 11:22:54.017377</td>\n      <td>2023-08-04 11:22:54.037377</td>\n      <td>2023-08-04 11:22:54.057377</td>\n      <td>2023-08-04 11:22:54.077377</td>\n      <td>29.0</td>\n      <td>30.0</td>\n      <td>31.0</td>\n      <td>32.0</td>\n    </tr>\n    <tr>\n      <th>2023-08-04 13:22:49.017377</th>\n      <td>8.0</td>\n      <td>9.0</td>\n      <td>10.0</td>\n      <td>11.0</td>\n      <td>4.0</td>\n      <td>5.0</td>\n      <td>6.0</td>\n      <td>7.0</td>\n      <td>2023-08-04 11:22:49.017377</td>\n      <td>2023-08-04 11:22:49.037377</td>\n      <td>...</td>\n      <td>35.0</td>\n      <td>36.0</td>\n      <td>2023-08-04 11:22:54.017377</td>\n      <td>2023-08-04 11:22:54.037377</td>\n      <td>2023-08-04 11:22:54.057377</td>\n      <td>2023-08-04 11:22:54.077377</td>\n      <td>29.0</td>\n      <td>30.0</td>\n      <td>31.0</td>\n      <td>32.0</td>\n    </tr>\n    <tr>\n      <th>2023-08-04 14:22:49.017377</th>\n      <td>8.0</td>\n      <td>9.0</td>\n      <td>10.0</td>\n      <td>11.0</td>\n      <td>4.0</td>\n      <td>5.0</td>\n      <td>6.0</td>\n      <td>7.0</td>\n      <td>2023-08-04 11:22:49.017377</td>\n      <td>2023-08-04 11:22:49.037377</td>\n      <td>...</td>\n      <td>35.0</td>\n      <td>36.0</td>\n      <td>2023-08-04 11:22:54.017377</td>\n      <td>2023-08-04 11:22:54.037377</td>\n      <td>2023-08-04 11:22:54.057377</td>\n      <td>2023-08-04 11:22:54.077377</td>\n      <td>29.0</td>\n      <td>30.0</td>\n      <td>31.0</td>\n      <td>32.0</td>\n    </tr>\n    <tr>\n      <th>2023-08-04 15:22:49.017377</th>\n      <td>8.0</td>\n      <td>9.0</td>\n      <td>10.0</td>\n      <td>11.0</td>\n      <td>4.0</td>\n      <td>5.0</td>\n      <td>6.0</td>\n      <td>7.0</td>\n      <td>2023-08-04 11:22:49.017377</td>\n      <td>2023-08-04 11:22:49.037377</td>\n      <td>...</td>\n      <td>35.0</td>\n      <td>36.0</td>\n      <td>2023-08-04 11:22:54.017377</td>\n      <td>2023-08-04 11:22:54.037377</td>\n      <td>2023-08-04 11:22:54.057377</td>\n      <td>2023-08-04 11:22:54.077377</td>\n      <td>29.0</td>\n      <td>30.0</td>\n      <td>31.0</td>\n      <td>32.0</td>\n    </tr>\n    <tr>\n      <th>2023-08-04 16:22:49.017377</th>\n      <td>8.0</td>\n      <td>9.0</td>\n      <td>10.0</td>\n      <td>11.0</td>\n      <td>4.0</td>\n      <td>5.0</td>\n      <td>6.0</td>\n      <td>7.0</td>\n      <td>2023-08-04 11:22:49.017377</td>\n      <td>2023-08-04 11:22:49.037377</td>\n      <td>...</td>\n      <td>35.0</td>\n      <td>36.0</td>\n      <td>2023-08-04 11:22:54.017377</td>\n      <td>2023-08-04 11:22:54.037377</td>\n      <td>2023-08-04 11:22:54.057377</td>\n      <td>2023-08-04 11:22:54.077377</td>\n      <td>29.0</td>\n      <td>30.0</td>\n      <td>31.0</td>\n      <td>32.0</td>\n    </tr>\n    <tr>\n      <th rowspan=\"3\" valign=\"top\">zheng-longfei</th>\n      <th rowspan=\"3\" valign=\"top\">2023-08-02 11:22:50.468113</th>\n      <th>2023-08-04 12:22:49.017377</th>\n      <td>8.0</td>\n      <td>9.0</td>\n      <td>10.0</td>\n      <td>11.0</td>\n      <td>4.0</td>\n      <td>5.0</td>\n      <td>6.0</td>\n      <td>7.0</td>\n      <td>2023-08-04 11:22:49.017377</td>\n      <td>2023-08-04 11:22:49.037377</td>\n      <td>...</td>\n      <td>35.0</td>\n      <td>36.0</td>\n      <td>2023-08-04 11:22:54.017377</td>\n      <td>2023-08-04 11:22:54.037377</td>\n      <td>2023-08-04 11:22:54.057377</td>\n      <td>2023-08-04 11:22:54.077377</td>\n      <td>29.0</td>\n      <td>30.0</td>\n      <td>31.0</td>\n      <td>32.0</td>\n    </tr>\n    <tr>\n      <th>2023-08-04 13:22:49.017377</th>\n      <td>8.0</td>\n      <td>9.0</td>\n      <td>10.0</td>\n      <td>11.0</td>\n      <td>4.0</td>\n      <td>5.0</td>\n      <td>6.0</td>\n      <td>7.0</td>\n      <td>2023-08-04 11:22:49.017377</td>\n      <td>2023-08-04 11:22:49.037377</td>\n      <td>...</td>\n      <td>35.0</td>\n      <td>36.0</td>\n      <td>2023-08-04 11:22:54.017377</td>\n      <td>2023-08-04 11:22:54.037377</td>\n      <td>2023-08-04 11:22:54.057377</td>\n      <td>2023-08-04 11:22:54.077377</td>\n      <td>29.0</td>\n      <td>30.0</td>\n      <td>31.0</td>\n      <td>32.0</td>\n    </tr>\n    <tr>\n      <th>2023-08-04 16:22:49.017377</th>\n      <td>8.0</td>\n      <td>9.0</td>\n      <td>10.0</td>\n      <td>11.0</td>\n      <td>4.0</td>\n      <td>5.0</td>\n      <td>6.0</td>\n      <td>7.0</td>\n      <td>2023-08-04 11:22:49.017377</td>\n      <td>2023-08-04 11:22:49.037377</td>\n      <td>...</td>\n      <td>35.0</td>\n      <td>36.0</td>\n      <td>2023-08-04 11:22:54.017377</td>\n      <td>2023-08-04 11:22:54.037377</td>\n      <td>2023-08-04 11:22:54.057377</td>\n      <td>2023-08-04 11:22:54.077377</td>\n      <td>29.0</td>\n      <td>30.0</td>\n      <td>31.0</td>\n      <td>32.0</td>\n    </tr>\n  </tbody>\n</table>\n<p>16 rows × 60 columns</p>\n</div>\n    </div>"
     },
     "execution_count": 90,
     "metadata": {},
     "output_type": "execute_result"
    },
    {
     "data": {
      "text/plain": "MultiIndex([('MP73',    'wang-cheng', '2023-07-30 11:22:50.468113', ...),\n            ('MP73',    'wang-cheng', '2023-07-30 11:22:50.468113', ...),\n            ('MP73',    'wang-cheng', '2023-07-30 11:22:50.468113', ...),\n            ('MP73',    'wang-cheng', '2023-07-30 11:22:50.468113', ...),\n            ('MP73', 'zheng-longfei', '2023-07-28 11:22:50.468113', ...),\n            ('MP73', 'zheng-longfei', '2023-07-28 11:22:50.468113', ...),\n            ( 'VB7',    'wang-cheng', '2023-07-29 11:22:50.468113', ...),\n            ( 'VB7',    'wang-cheng', '2023-07-29 11:22:50.468113', ...),\n            ( 'VB7',    'wang-cheng', '2023-08-04 11:22:49.017377', ...),\n            ( 'VB7',    'wang-cheng', '2023-08-04 11:22:49.017377', ...),\n            ( 'VB7',    'wang-cheng', '2023-08-04 11:22:49.017377', ...),\n            ( 'VB7',    'wang-cheng', '2023-08-04 11:22:49.017377', ...),\n            ( 'VB7',    'wang-cheng', '2023-08-04 11:22:49.017377', ...),\n            ( 'VB7', 'zheng-longfei', '2023-08-02 11:22:50.468113', ...),\n            ( 'VB7', 'zheng-longfei', '2023-08-02 11:22:50.468113', ...),\n            ( 'VB7', 'zheng-longfei', '2023-08-02 11:22:50.468113', ...)],\n           names=['vehicle', 'driver', 'episodestart', 'timestamp'])"
     },
     "execution_count": 90,
     "metadata": {},
     "output_type": "execute_result"
    },
    {
     "data": {
      "text/plain": "MultiIndex([( 'state',    'brake', 0),\n            ( 'state',    'brake', 1),\n            ( 'state',    'brake', 2),\n            ( 'state',    'brake', 3),\n            ( 'state',   'thrust', 0),\n            ( 'state',   'thrust', 1),\n            ( 'state',   'thrust', 2),\n            ( 'state',   'thrust', 3),\n            ( 'state', 'timestep', 0),\n            ( 'state', 'timestep', 1),\n            ( 'state', 'timestep', 2),\n            ( 'state', 'timestep', 3),\n            ( 'state', 'velocity', 0),\n            ( 'state', 'velocity', 1),\n            ( 'state', 'velocity', 2),\n            ( 'state', 'velocity', 3),\n            ('action',       'r0', 0),\n            ('action',       'r0', 1),\n            ('action',       'r0', 2),\n            ('action',       'r0', 3),\n            ('action',       'r0', 4),\n            ('action',       'r1', 0),\n            ('action',       'r1', 1),\n            ('action',       'r1', 2),\n            ('action',       'r1', 3),\n            ('action',       'r1', 4),\n            ('action',       'r2', 0),\n            ('action',       'r2', 1),\n            ('action',       'r2', 2),\n            ('action',       'r2', 3),\n            ('action',       'r2', 4),\n            ('action',    'speed', 0),\n            ('action',    'speed', 1),\n            ('action',    'speed', 2),\n            ('action', 'throttle', 0),\n            ('action', 'throttle', 1),\n            ('action', 'throttle', 2),\n            ('action', 'throttle', 3),\n            ('action', 'throttle', 4),\n            ('action', 'timestep', 0),\n            ('action', 'timestep', 1),\n            ('action', 'timestep', 2),\n            ('reward', 'timestep', 0),\n            ('reward',     'work', 0),\n            ('nstate',    'brake', 0),\n            ('nstate',    'brake', 1),\n            ('nstate',    'brake', 2),\n            ('nstate',    'brake', 3),\n            ('nstate',   'thrust', 0),\n            ('nstate',   'thrust', 1),\n            ('nstate',   'thrust', 2),\n            ('nstate',   'thrust', 3),\n            ('nstate', 'timestep', 0),\n            ('nstate', 'timestep', 1),\n            ('nstate', 'timestep', 2),\n            ('nstate', 'timestep', 3),\n            ('nstate', 'velocity', 0),\n            ('nstate', 'velocity', 1),\n            ('nstate', 'velocity', 2),\n            ('nstate', 'velocity', 3)],\n           names=['qtuple', 'rows', 'idx'])"
     },
     "execution_count": 90,
     "metadata": {},
     "output_type": "execute_result"
    }
   ],
   "source": [
    "from functools import reduce\n",
    "\n",
    "episodes = [dfs_episode, dfs_episode0, dfs_episode1, dfs_episode2, dfs_episode3]\n",
    "try:\n",
    "    dfs_episode_all = reduce(\n",
    "        lambda left, right,: pd.concat([left, right], axis=0), episodes\n",
    "    )\n",
    "except Exception as e:\n",
    "    print(e)\n",
    "# dfs_episode_all.sort_index(inplace=True)\n",
    "# dfs_episode_all = dfs_episode_all.swaplevel(1, 0, axis=0)\n",
    "# dfs_episode_all = dfs_episode_all.swaplevel(1, 2, axis=0)\n",
    "dfs_episode_all.sort_index(inplace=True)\n",
    "dfs_episode_all = dfs_episode_all[['state', 'action', 'reward', 'nstate']]\n",
    "display('dfs_episode_all')\n",
    "dfs_episode_all.index\n",
    "dfs_episode_all.columns"
   ],
   "metadata": {
    "collapsed": false,
    "ExecuteTime": {
     "end_time": "2023-08-04T03:23:01.918166052Z",
     "start_time": "2023-08-04T03:22:50.548948283Z"
    }
   }
  },
  {
   "cell_type": "code",
   "execution_count": 91,
   "outputs": [
    {
     "data": {
      "text/plain": "Timestamp('2023-08-04 12:22:49.017377')"
     },
     "execution_count": 91,
     "metadata": {},
     "output_type": "execute_result"
    },
    {
     "data": {
      "text/plain": "Timestamp('2023-08-04 12:22:49.017377')"
     },
     "execution_count": 91,
     "metadata": {},
     "output_type": "execute_result"
    },
    {
     "data": {
      "text/plain": "Timestamp('2023-08-04 12:22:49.017377')"
     },
     "execution_count": 91,
     "metadata": {},
     "output_type": "execute_result"
    },
    {
     "data": {
      "text/plain": "Timestamp('2023-08-04 15:22:49.017377')"
     },
     "execution_count": 91,
     "metadata": {},
     "output_type": "execute_result"
    },
    {
     "data": {
      "text/plain": "Timestamp('2023-08-04 14:22:49.017377')"
     },
     "execution_count": 91,
     "metadata": {},
     "output_type": "execute_result"
    },
    {
     "data": {
      "text/plain": "[{'timestamp': Timestamp('2023-08-04 11:22:49.017377'),\n  'meta': {'state_specs': {'state_unit_codes': {'velocity_unit_code': 'kph',\n     'thrust_unit_code': 'pct',\n     'brake_unit_code': 'pct'},\n    'state_number': 3,\n    'unit_number_per_state': 200,\n    'unit_duration': 4,\n    'frequency': 50,\n    'cloud_interface': {'cloud_signal_frequency': 50,\n     'cloud_gear_frequency': 2,\n     'cloud_unit_duration': 1,\n     'cloud_unit_number': 4}},\n   'action_specs': {'action_unit_code': 'nm',\n    'action_row_number': 4,\n    'action_column_number': 17},\n   'reward_specs': {'reward_unit_code': 'wh', 'reward_number': 1},\n   'site': 'anting',\n   'vehicle': 'VB7',\n   'driver': 'wang-cheng',\n   'episodestart': Timestamp('2023-08-04 11:22:49.017377'),\n   'seq_len': 5},\n  'observation': {Timestamp('2023-08-04 12:22:49.017377'): {'action': {'r0': {0: 12.0,\n      1: 13.0,\n      2: 14.0,\n      3: 15.0,\n      4: 16.0},\n     'r1': {0: 17.0, 1: 18.0, 2: 19.0, 3: 20.0, 4: 21.0},\n     'r2': {0: 22.0, 1: 23.0, 2: 24.0, 3: 25.0, 4: 26.0},\n     'speed': {0: 40.0, 1: 50.0, 2: 60.0},\n     'throttle': {0: 0.0, 1: 0.25, 2: 0.5, 3: 0.75, 4: 1.0},\n     'timestep': {0: Timestamp('2023-08-04 11:22:49.117377'),\n      1: Timestamp('2023-08-04 11:22:49.137377'),\n      2: Timestamp('2023-08-04 11:22:49.157377')}},\n    'nstate': {'brake': {0: 37.0, 1: 38.0, 2: 39.0, 3: 40.0},\n     'thrust': {0: 33.0, 1: 34.0, 2: 35.0, 3: 36.0},\n     'timestep': {0: Timestamp('2023-08-04 11:22:54.017377'),\n      1: Timestamp('2023-08-04 11:22:54.037377'),\n      2: Timestamp('2023-08-04 11:22:54.057377'),\n      3: Timestamp('2023-08-04 11:22:54.077377')},\n     'velocity': {0: 29.0, 1: 30.0, 2: 31.0, 3: 32.0}},\n    'reward': {'timestep': {0: Timestamp('2023-08-04 11:22:49.117377')},\n     'work': {0: 27.0}},\n    'state': {'brake': {0: 8.0, 1: 9.0, 2: 10.0, 3: 11.0},\n     'thrust': {0: 4.0, 1: 5.0, 2: 6.0, 3: 7.0},\n     'timestep': {0: Timestamp('2023-08-04 11:22:49.017377'),\n      1: Timestamp('2023-08-04 11:22:49.037377'),\n      2: Timestamp('2023-08-04 11:22:49.057377'),\n      3: Timestamp('2023-08-04 11:22:49.077377')},\n     'velocity': {0: 0.0, 1: 1.0, 2: 2.0, 3: 3.0}}},\n   Timestamp('2023-08-04 13:22:49.017377'): {'action': {'r0': {0: 12.0,\n      1: 13.0,\n      2: 14.0,\n      3: 15.0,\n      4: 16.0},\n     'r1': {0: 17.0, 1: 18.0, 2: 19.0, 3: 20.0, 4: 21.0},\n     'r2': {0: 22.0, 1: 23.0, 2: 24.0, 3: 25.0, 4: 26.0},\n     'speed': {0: 40.0, 1: 50.0, 2: 60.0},\n     'throttle': {0: 0.0, 1: 0.25, 2: 0.5, 3: 0.75, 4: 1.0},\n     'timestep': {0: Timestamp('2023-08-04 11:22:49.117377'),\n      1: Timestamp('2023-08-04 11:22:49.137377'),\n      2: Timestamp('2023-08-04 11:22:49.157377')}},\n    'nstate': {'brake': {0: 37.0, 1: 38.0, 2: 39.0, 3: 40.0},\n     'thrust': {0: 33.0, 1: 34.0, 2: 35.0, 3: 36.0},\n     'timestep': {0: Timestamp('2023-08-04 11:22:54.017377'),\n      1: Timestamp('2023-08-04 11:22:54.037377'),\n      2: Timestamp('2023-08-04 11:22:54.057377'),\n      3: Timestamp('2023-08-04 11:22:54.077377')},\n     'velocity': {0: 29.0, 1: 30.0, 2: 31.0, 3: 32.0}},\n    'reward': {'timestep': {0: Timestamp('2023-08-04 11:22:49.117377')},\n     'work': {0: 27.0}},\n    'state': {'brake': {0: 8.0, 1: 9.0, 2: 10.0, 3: 11.0},\n     'thrust': {0: 4.0, 1: 5.0, 2: 6.0, 3: 7.0},\n     'timestep': {0: Timestamp('2023-08-04 11:22:49.017377'),\n      1: Timestamp('2023-08-04 11:22:49.037377'),\n      2: Timestamp('2023-08-04 11:22:49.057377'),\n      3: Timestamp('2023-08-04 11:22:49.077377')},\n     'velocity': {0: 0.0, 1: 1.0, 2: 2.0, 3: 3.0}}},\n   Timestamp('2023-08-04 14:22:49.017377'): {'action': {'r0': {0: 12.0,\n      1: 13.0,\n      2: 14.0,\n      3: 15.0,\n      4: 16.0},\n     'r1': {0: 17.0, 1: 18.0, 2: 19.0, 3: 20.0, 4: 21.0},\n     'r2': {0: 22.0, 1: 23.0, 2: 24.0, 3: 25.0, 4: 26.0},\n     'speed': {0: 40.0, 1: 50.0, 2: 60.0},\n     'throttle': {0: 0.0, 1: 0.25, 2: 0.5, 3: 0.75, 4: 1.0},\n     'timestep': {0: Timestamp('2023-08-04 11:22:49.117377'),\n      1: Timestamp('2023-08-04 11:22:49.137377'),\n      2: Timestamp('2023-08-04 11:22:49.157377')}},\n    'nstate': {'brake': {0: 37.0, 1: 38.0, 2: 39.0, 3: 40.0},\n     'thrust': {0: 33.0, 1: 34.0, 2: 35.0, 3: 36.0},\n     'timestep': {0: Timestamp('2023-08-04 11:22:54.017377'),\n      1: Timestamp('2023-08-04 11:22:54.037377'),\n      2: Timestamp('2023-08-04 11:22:54.057377'),\n      3: Timestamp('2023-08-04 11:22:54.077377')},\n     'velocity': {0: 29.0, 1: 30.0, 2: 31.0, 3: 32.0}},\n    'reward': {'timestep': {0: Timestamp('2023-08-04 11:22:49.117377')},\n     'work': {0: 27.0}},\n    'state': {'brake': {0: 8.0, 1: 9.0, 2: 10.0, 3: 11.0},\n     'thrust': {0: 4.0, 1: 5.0, 2: 6.0, 3: 7.0},\n     'timestep': {0: Timestamp('2023-08-04 11:22:49.017377'),\n      1: Timestamp('2023-08-04 11:22:49.037377'),\n      2: Timestamp('2023-08-04 11:22:49.057377'),\n      3: Timestamp('2023-08-04 11:22:49.077377')},\n     'velocity': {0: 0.0, 1: 1.0, 2: 2.0, 3: 3.0}}},\n   Timestamp('2023-08-04 15:22:49.017377'): {'action': {'r0': {0: 12.0,\n      1: 13.0,\n      2: 14.0,\n      3: 15.0,\n      4: 16.0},\n     'r1': {0: 17.0, 1: 18.0, 2: 19.0, 3: 20.0, 4: 21.0},\n     'r2': {0: 22.0, 1: 23.0, 2: 24.0, 3: 25.0, 4: 26.0},\n     'speed': {0: 40.0, 1: 50.0, 2: 60.0},\n     'throttle': {0: 0.0, 1: 0.25, 2: 0.5, 3: 0.75, 4: 1.0},\n     'timestep': {0: Timestamp('2023-08-04 11:22:49.117377'),\n      1: Timestamp('2023-08-04 11:22:49.137377'),\n      2: Timestamp('2023-08-04 11:22:49.157377')}},\n    'nstate': {'brake': {0: 37.0, 1: 38.0, 2: 39.0, 3: 40.0},\n     'thrust': {0: 33.0, 1: 34.0, 2: 35.0, 3: 36.0},\n     'timestep': {0: Timestamp('2023-08-04 11:22:54.017377'),\n      1: Timestamp('2023-08-04 11:22:54.037377'),\n      2: Timestamp('2023-08-04 11:22:54.057377'),\n      3: Timestamp('2023-08-04 11:22:54.077377')},\n     'velocity': {0: 29.0, 1: 30.0, 2: 31.0, 3: 32.0}},\n    'reward': {'timestep': {0: Timestamp('2023-08-04 11:22:49.117377')},\n     'work': {0: 27.0}},\n    'state': {'brake': {0: 8.0, 1: 9.0, 2: 10.0, 3: 11.0},\n     'thrust': {0: 4.0, 1: 5.0, 2: 6.0, 3: 7.0},\n     'timestep': {0: Timestamp('2023-08-04 11:22:49.017377'),\n      1: Timestamp('2023-08-04 11:22:49.037377'),\n      2: Timestamp('2023-08-04 11:22:49.057377'),\n      3: Timestamp('2023-08-04 11:22:49.077377')},\n     'velocity': {0: 0.0, 1: 1.0, 2: 2.0, 3: 3.0}}},\n   Timestamp('2023-08-04 16:22:49.017377'): {'action': {'r0': {0: 12.0,\n      1: 13.0,\n      2: 14.0,\n      3: 15.0,\n      4: 16.0},\n     'r1': {0: 17.0, 1: 18.0, 2: 19.0, 3: 20.0, 4: 21.0},\n     'r2': {0: 22.0, 1: 23.0, 2: 24.0, 3: 25.0, 4: 26.0},\n     'speed': {0: 40.0, 1: 50.0, 2: 60.0},\n     'throttle': {0: 0.0, 1: 0.25, 2: 0.5, 3: 0.75, 4: 1.0},\n     'timestep': {0: Timestamp('2023-08-04 11:22:49.117377'),\n      1: Timestamp('2023-08-04 11:22:49.137377'),\n      2: Timestamp('2023-08-04 11:22:49.157377')}},\n    'nstate': {'brake': {0: 37.0, 1: 38.0, 2: 39.0, 3: 40.0},\n     'thrust': {0: 33.0, 1: 34.0, 2: 35.0, 3: 36.0},\n     'timestep': {0: Timestamp('2023-08-04 11:22:54.017377'),\n      1: Timestamp('2023-08-04 11:22:54.037377'),\n      2: Timestamp('2023-08-04 11:22:54.057377'),\n      3: Timestamp('2023-08-04 11:22:54.077377')},\n     'velocity': {0: 29.0, 1: 30.0, 2: 31.0, 3: 32.0}},\n    'reward': {'timestep': {0: Timestamp('2023-08-04 11:22:49.117377')},\n     'work': {0: 27.0}},\n    'state': {'brake': {0: 8.0, 1: 9.0, 2: 10.0, 3: 11.0},\n     'thrust': {0: 4.0, 1: 5.0, 2: 6.0, 3: 7.0},\n     'timestep': {0: Timestamp('2023-08-04 11:22:49.017377'),\n      1: Timestamp('2023-08-04 11:22:49.037377'),\n      2: Timestamp('2023-08-04 11:22:49.057377'),\n      3: Timestamp('2023-08-04 11:22:49.077377')},\n     'velocity': {0: 0.0, 1: 1.0, 2: 2.0, 3: 3.0}}}}},\n {'timestamp': Timestamp('2023-08-02 11:22:50.468113'),\n  'meta': {'state_specs': {'state_unit_codes': {'velocity_unit_code': 'kph',\n     'thrust_unit_code': 'pct',\n     'brake_unit_code': 'pct'},\n    'state_number': 3,\n    'unit_number_per_state': 200,\n    'unit_duration': 4,\n    'frequency': 50,\n    'cloud_interface': {'cloud_signal_frequency': 50,\n     'cloud_gear_frequency': 2,\n     'cloud_unit_duration': 1,\n     'cloud_unit_number': 4}},\n   'action_specs': {'action_unit_code': 'nm',\n    'action_row_number': 4,\n    'action_column_number': 17},\n   'reward_specs': {'reward_unit_code': 'wh', 'reward_number': 1},\n   'site': 'anting',\n   'vehicle': 'VB7',\n   'driver': 'zheng-longfei',\n   'episodestart': Timestamp('2023-08-02 11:22:50.468113'),\n   'seq_len': 3},\n  'observation': {Timestamp('2023-08-04 12:22:49.017377'): {'action': {'r0': {0: 12.0,\n      1: 13.0,\n      2: 14.0,\n      3: 15.0,\n      4: 16.0},\n     'r1': {0: 17.0, 1: 18.0, 2: 19.0, 3: 20.0, 4: 21.0},\n     'r2': {0: 22.0, 1: 23.0, 2: 24.0, 3: 25.0, 4: 26.0},\n     'speed': {0: 40.0, 1: 50.0, 2: 60.0},\n     'throttle': {0: 0.0, 1: 0.25, 2: 0.5, 3: 0.75, 4: 1.0},\n     'timestep': {0: Timestamp('2023-08-04 11:22:49.117377'),\n      1: Timestamp('2023-08-04 11:22:49.137377'),\n      2: Timestamp('2023-08-04 11:22:49.157377')}},\n    'nstate': {'brake': {0: 37.0, 1: 38.0, 2: 39.0, 3: 40.0},\n     'thrust': {0: 33.0, 1: 34.0, 2: 35.0, 3: 36.0},\n     'timestep': {0: Timestamp('2023-08-04 11:22:54.017377'),\n      1: Timestamp('2023-08-04 11:22:54.037377'),\n      2: Timestamp('2023-08-04 11:22:54.057377'),\n      3: Timestamp('2023-08-04 11:22:54.077377')},\n     'velocity': {0: 29.0, 1: 30.0, 2: 31.0, 3: 32.0}},\n    'reward': {'timestep': {0: Timestamp('2023-08-04 11:22:49.117377')},\n     'work': {0: 27.0}},\n    'state': {'brake': {0: 8.0, 1: 9.0, 2: 10.0, 3: 11.0},\n     'thrust': {0: 4.0, 1: 5.0, 2: 6.0, 3: 7.0},\n     'timestep': {0: Timestamp('2023-08-04 11:22:49.017377'),\n      1: Timestamp('2023-08-04 11:22:49.037377'),\n      2: Timestamp('2023-08-04 11:22:49.057377'),\n      3: Timestamp('2023-08-04 11:22:49.077377')},\n     'velocity': {0: 0.0, 1: 1.0, 2: 2.0, 3: 3.0}}},\n   Timestamp('2023-08-04 13:22:49.017377'): {'action': {'r0': {0: 12.0,\n      1: 13.0,\n      2: 14.0,\n      3: 15.0,\n      4: 16.0},\n     'r1': {0: 17.0, 1: 18.0, 2: 19.0, 3: 20.0, 4: 21.0},\n     'r2': {0: 22.0, 1: 23.0, 2: 24.0, 3: 25.0, 4: 26.0},\n     'speed': {0: 40.0, 1: 50.0, 2: 60.0},\n     'throttle': {0: 0.0, 1: 0.25, 2: 0.5, 3: 0.75, 4: 1.0},\n     'timestep': {0: Timestamp('2023-08-04 11:22:49.117377'),\n      1: Timestamp('2023-08-04 11:22:49.137377'),\n      2: Timestamp('2023-08-04 11:22:49.157377')}},\n    'nstate': {'brake': {0: 37.0, 1: 38.0, 2: 39.0, 3: 40.0},\n     'thrust': {0: 33.0, 1: 34.0, 2: 35.0, 3: 36.0},\n     'timestep': {0: Timestamp('2023-08-04 11:22:54.017377'),\n      1: Timestamp('2023-08-04 11:22:54.037377'),\n      2: Timestamp('2023-08-04 11:22:54.057377'),\n      3: Timestamp('2023-08-04 11:22:54.077377')},\n     'velocity': {0: 29.0, 1: 30.0, 2: 31.0, 3: 32.0}},\n    'reward': {'timestep': {0: Timestamp('2023-08-04 11:22:49.117377')},\n     'work': {0: 27.0}},\n    'state': {'brake': {0: 8.0, 1: 9.0, 2: 10.0, 3: 11.0},\n     'thrust': {0: 4.0, 1: 5.0, 2: 6.0, 3: 7.0},\n     'timestep': {0: Timestamp('2023-08-04 11:22:49.017377'),\n      1: Timestamp('2023-08-04 11:22:49.037377'),\n      2: Timestamp('2023-08-04 11:22:49.057377'),\n      3: Timestamp('2023-08-04 11:22:49.077377')},\n     'velocity': {0: 0.0, 1: 1.0, 2: 2.0, 3: 3.0}}},\n   Timestamp('2023-08-04 16:22:49.017377'): {'action': {'r0': {0: 12.0,\n      1: 13.0,\n      2: 14.0,\n      3: 15.0,\n      4: 16.0},\n     'r1': {0: 17.0, 1: 18.0, 2: 19.0, 3: 20.0, 4: 21.0},\n     'r2': {0: 22.0, 1: 23.0, 2: 24.0, 3: 25.0, 4: 26.0},\n     'speed': {0: 40.0, 1: 50.0, 2: 60.0},\n     'throttle': {0: 0.0, 1: 0.25, 2: 0.5, 3: 0.75, 4: 1.0},\n     'timestep': {0: Timestamp('2023-08-04 11:22:49.117377'),\n      1: Timestamp('2023-08-04 11:22:49.137377'),\n      2: Timestamp('2023-08-04 11:22:49.157377')}},\n    'nstate': {'brake': {0: 37.0, 1: 38.0, 2: 39.0, 3: 40.0},\n     'thrust': {0: 33.0, 1: 34.0, 2: 35.0, 3: 36.0},\n     'timestep': {0: Timestamp('2023-08-04 11:22:54.017377'),\n      1: Timestamp('2023-08-04 11:22:54.037377'),\n      2: Timestamp('2023-08-04 11:22:54.057377'),\n      3: Timestamp('2023-08-04 11:22:54.077377')},\n     'velocity': {0: 29.0, 1: 30.0, 2: 31.0, 3: 32.0}},\n    'reward': {'timestep': {0: Timestamp('2023-08-04 11:22:49.117377')},\n     'work': {0: 27.0}},\n    'state': {'brake': {0: 8.0, 1: 9.0, 2: 10.0, 3: 11.0},\n     'thrust': {0: 4.0, 1: 5.0, 2: 6.0, 3: 7.0},\n     'timestep': {0: Timestamp('2023-08-04 11:22:49.017377'),\n      1: Timestamp('2023-08-04 11:22:49.037377'),\n      2: Timestamp('2023-08-04 11:22:49.057377'),\n      3: Timestamp('2023-08-04 11:22:49.077377')},\n     'velocity': {0: 0.0, 1: 1.0, 2: 2.0, 3: 3.0}}}}},\n {'timestamp': Timestamp('2023-07-30 11:22:50.468113'),\n  'meta': {'state_specs': {'state_unit_codes': {'velocity_unit_code': 'kph',\n     'thrust_unit_code': 'pct',\n     'brake_unit_code': 'pct'},\n    'state_number': 3,\n    'unit_number_per_state': 200,\n    'unit_duration': 4,\n    'frequency': 50,\n    'cloud_interface': {'cloud_signal_frequency': 50,\n     'cloud_gear_frequency': 2,\n     'cloud_unit_duration': 1,\n     'cloud_unit_number': 4}},\n   'action_specs': {'action_unit_code': 'nm',\n    'action_row_number': 4,\n    'action_column_number': 17},\n   'reward_specs': {'reward_unit_code': 'wh', 'reward_number': 1},\n   'site': 'anting',\n   'vehicle': 'MP73',\n   'driver': 'wang-cheng',\n   'episodestart': Timestamp('2023-07-30 11:22:50.468113'),\n   'seq_len': 4},\n  'observation': {Timestamp('2023-08-04 12:22:49.017377'): {'action': {'r0': {0: 12.0,\n      1: 13.0,\n      2: 14.0,\n      3: 15.0,\n      4: 16.0},\n     'r1': {0: 17.0, 1: 18.0, 2: 19.0, 3: 20.0, 4: 21.0},\n     'r2': {0: 22.0, 1: 23.0, 2: 24.0, 3: 25.0, 4: 26.0},\n     'speed': {0: 40.0, 1: 50.0, 2: 60.0},\n     'throttle': {0: 0.0, 1: 0.25, 2: 0.5, 3: 0.75, 4: 1.0},\n     'timestep': {0: Timestamp('2023-08-04 11:22:49.117377'),\n      1: Timestamp('2023-08-04 11:22:49.137377'),\n      2: Timestamp('2023-08-04 11:22:49.157377')}},\n    'nstate': {'brake': {0: 37.0, 1: 38.0, 2: 39.0, 3: 40.0},\n     'thrust': {0: 33.0, 1: 34.0, 2: 35.0, 3: 36.0},\n     'timestep': {0: Timestamp('2023-08-04 11:22:54.017377'),\n      1: Timestamp('2023-08-04 11:22:54.037377'),\n      2: Timestamp('2023-08-04 11:22:54.057377'),\n      3: Timestamp('2023-08-04 11:22:54.077377')},\n     'velocity': {0: 29.0, 1: 30.0, 2: 31.0, 3: 32.0}},\n    'reward': {'timestep': {0: Timestamp('2023-08-04 11:22:49.117377')},\n     'work': {0: 27.0}},\n    'state': {'brake': {0: 8.0, 1: 9.0, 2: 10.0, 3: 11.0},\n     'thrust': {0: 4.0, 1: 5.0, 2: 6.0, 3: 7.0},\n     'timestep': {0: Timestamp('2023-08-04 11:22:49.017377'),\n      1: Timestamp('2023-08-04 11:22:49.037377'),\n      2: Timestamp('2023-08-04 11:22:49.057377'),\n      3: Timestamp('2023-08-04 11:22:49.077377')},\n     'velocity': {0: 0.0, 1: 1.0, 2: 2.0, 3: 3.0}}},\n   Timestamp('2023-08-04 13:22:49.017377'): {'action': {'r0': {0: 12.0,\n      1: 13.0,\n      2: 14.0,\n      3: 15.0,\n      4: 16.0},\n     'r1': {0: 17.0, 1: 18.0, 2: 19.0, 3: 20.0, 4: 21.0},\n     'r2': {0: 22.0, 1: 23.0, 2: 24.0, 3: 25.0, 4: 26.0},\n     'speed': {0: 40.0, 1: 50.0, 2: 60.0},\n     'throttle': {0: 0.0, 1: 0.25, 2: 0.5, 3: 0.75, 4: 1.0},\n     'timestep': {0: Timestamp('2023-08-04 11:22:49.117377'),\n      1: Timestamp('2023-08-04 11:22:49.137377'),\n      2: Timestamp('2023-08-04 11:22:49.157377')}},\n    'nstate': {'brake': {0: 37.0, 1: 38.0, 2: 39.0, 3: 40.0},\n     'thrust': {0: 33.0, 1: 34.0, 2: 35.0, 3: 36.0},\n     'timestep': {0: Timestamp('2023-08-04 11:22:54.017377'),\n      1: Timestamp('2023-08-04 11:22:54.037377'),\n      2: Timestamp('2023-08-04 11:22:54.057377'),\n      3: Timestamp('2023-08-04 11:22:54.077377')},\n     'velocity': {0: 29.0, 1: 30.0, 2: 31.0, 3: 32.0}},\n    'reward': {'timestep': {0: Timestamp('2023-08-04 11:22:49.117377')},\n     'work': {0: 27.0}},\n    'state': {'brake': {0: 8.0, 1: 9.0, 2: 10.0, 3: 11.0},\n     'thrust': {0: 4.0, 1: 5.0, 2: 6.0, 3: 7.0},\n     'timestep': {0: Timestamp('2023-08-04 11:22:49.017377'),\n      1: Timestamp('2023-08-04 11:22:49.037377'),\n      2: Timestamp('2023-08-04 11:22:49.057377'),\n      3: Timestamp('2023-08-04 11:22:49.077377')},\n     'velocity': {0: 0.0, 1: 1.0, 2: 2.0, 3: 3.0}}},\n   Timestamp('2023-08-04 14:22:49.017377'): {'action': {'r0': {0: 12.0,\n      1: 13.0,\n      2: 14.0,\n      3: 15.0,\n      4: 16.0},\n     'r1': {0: 17.0, 1: 18.0, 2: 19.0, 3: 20.0, 4: 21.0},\n     'r2': {0: 22.0, 1: 23.0, 2: 24.0, 3: 25.0, 4: 26.0},\n     'speed': {0: 40.0, 1: 50.0, 2: 60.0},\n     'throttle': {0: 0.0, 1: 0.25, 2: 0.5, 3: 0.75, 4: 1.0},\n     'timestep': {0: Timestamp('2023-08-04 11:22:49.117377'),\n      1: Timestamp('2023-08-04 11:22:49.137377'),\n      2: Timestamp('2023-08-04 11:22:49.157377')}},\n    'nstate': {'brake': {0: 37.0, 1: 38.0, 2: 39.0, 3: 40.0},\n     'thrust': {0: 33.0, 1: 34.0, 2: 35.0, 3: 36.0},\n     'timestep': {0: Timestamp('2023-08-04 11:22:54.017377'),\n      1: Timestamp('2023-08-04 11:22:54.037377'),\n      2: Timestamp('2023-08-04 11:22:54.057377'),\n      3: Timestamp('2023-08-04 11:22:54.077377')},\n     'velocity': {0: 29.0, 1: 30.0, 2: 31.0, 3: 32.0}},\n    'reward': {'timestep': {0: Timestamp('2023-08-04 11:22:49.117377')},\n     'work': {0: 27.0}},\n    'state': {'brake': {0: 8.0, 1: 9.0, 2: 10.0, 3: 11.0},\n     'thrust': {0: 4.0, 1: 5.0, 2: 6.0, 3: 7.0},\n     'timestep': {0: Timestamp('2023-08-04 11:22:49.017377'),\n      1: Timestamp('2023-08-04 11:22:49.037377'),\n      2: Timestamp('2023-08-04 11:22:49.057377'),\n      3: Timestamp('2023-08-04 11:22:49.077377')},\n     'velocity': {0: 0.0, 1: 1.0, 2: 2.0, 3: 3.0}}},\n   Timestamp('2023-08-04 16:22:49.017377'): {'action': {'r0': {0: 12.0,\n      1: 13.0,\n      2: 14.0,\n      3: 15.0,\n      4: 16.0},\n     'r1': {0: 17.0, 1: 18.0, 2: 19.0, 3: 20.0, 4: 21.0},\n     'r2': {0: 22.0, 1: 23.0, 2: 24.0, 3: 25.0, 4: 26.0},\n     'speed': {0: 40.0, 1: 50.0, 2: 60.0},\n     'throttle': {0: 0.0, 1: 0.25, 2: 0.5, 3: 0.75, 4: 1.0},\n     'timestep': {0: Timestamp('2023-08-04 11:22:49.117377'),\n      1: Timestamp('2023-08-04 11:22:49.137377'),\n      2: Timestamp('2023-08-04 11:22:49.157377')}},\n    'nstate': {'brake': {0: 37.0, 1: 38.0, 2: 39.0, 3: 40.0},\n     'thrust': {0: 33.0, 1: 34.0, 2: 35.0, 3: 36.0},\n     'timestep': {0: Timestamp('2023-08-04 11:22:54.017377'),\n      1: Timestamp('2023-08-04 11:22:54.037377'),\n      2: Timestamp('2023-08-04 11:22:54.057377'),\n      3: Timestamp('2023-08-04 11:22:54.077377')},\n     'velocity': {0: 29.0, 1: 30.0, 2: 31.0, 3: 32.0}},\n    'reward': {'timestep': {0: Timestamp('2023-08-04 11:22:49.117377')},\n     'work': {0: 27.0}},\n    'state': {'brake': {0: 8.0, 1: 9.0, 2: 10.0, 3: 11.0},\n     'thrust': {0: 4.0, 1: 5.0, 2: 6.0, 3: 7.0},\n     'timestep': {0: Timestamp('2023-08-04 11:22:49.017377'),\n      1: Timestamp('2023-08-04 11:22:49.037377'),\n      2: Timestamp('2023-08-04 11:22:49.057377'),\n      3: Timestamp('2023-08-04 11:22:49.077377')},\n     'velocity': {0: 0.0, 1: 1.0, 2: 2.0, 3: 3.0}}}}},\n {'timestamp': Timestamp('2023-07-29 11:22:50.468113'),\n  'meta': {'state_specs': {'state_unit_codes': {'velocity_unit_code': 'kph',\n     'thrust_unit_code': 'pct',\n     'brake_unit_code': 'pct'},\n    'state_number': 3,\n    'unit_number_per_state': 200,\n    'unit_duration': 4,\n    'frequency': 50,\n    'cloud_interface': {'cloud_signal_frequency': 50,\n     'cloud_gear_frequency': 2,\n     'cloud_unit_duration': 1,\n     'cloud_unit_number': 4}},\n   'action_specs': {'action_unit_code': 'nm',\n    'action_row_number': 4,\n    'action_column_number': 17},\n   'reward_specs': {'reward_unit_code': 'wh', 'reward_number': 1},\n   'site': 'anting',\n   'vehicle': 'VB7',\n   'driver': 'wang-cheng',\n   'episodestart': Timestamp('2023-07-29 11:22:50.468113'),\n   'seq_len': 2},\n  'observation': {Timestamp('2023-08-04 15:22:49.017377'): {'action': {'r0': {0: 12.0,\n      1: 13.0,\n      2: 14.0,\n      3: 15.0,\n      4: 16.0},\n     'r1': {0: 17.0, 1: 18.0, 2: 19.0, 3: 20.0, 4: 21.0},\n     'r2': {0: 22.0, 1: 23.0, 2: 24.0, 3: 25.0, 4: 26.0},\n     'speed': {0: 40.0, 1: 50.0, 2: 60.0},\n     'throttle': {0: 0.0, 1: 0.25, 2: 0.5, 3: 0.75, 4: 1.0},\n     'timestep': {0: Timestamp('2023-08-04 11:22:49.117377'),\n      1: Timestamp('2023-08-04 11:22:49.137377'),\n      2: Timestamp('2023-08-04 11:22:49.157377')}},\n    'nstate': {'brake': {0: 37.0, 1: 38.0, 2: 39.0, 3: 40.0},\n     'thrust': {0: 33.0, 1: 34.0, 2: 35.0, 3: 36.0},\n     'timestep': {0: Timestamp('2023-08-04 11:22:54.017377'),\n      1: Timestamp('2023-08-04 11:22:54.037377'),\n      2: Timestamp('2023-08-04 11:22:54.057377'),\n      3: Timestamp('2023-08-04 11:22:54.077377')},\n     'velocity': {0: 29.0, 1: 30.0, 2: 31.0, 3: 32.0}},\n    'reward': {'timestep': {0: Timestamp('2023-08-04 11:22:49.117377')},\n     'work': {0: 27.0}},\n    'state': {'brake': {0: 8.0, 1: 9.0, 2: 10.0, 3: 11.0},\n     'thrust': {0: 4.0, 1: 5.0, 2: 6.0, 3: 7.0},\n     'timestep': {0: Timestamp('2023-08-04 11:22:49.017377'),\n      1: Timestamp('2023-08-04 11:22:49.037377'),\n      2: Timestamp('2023-08-04 11:22:49.057377'),\n      3: Timestamp('2023-08-04 11:22:49.077377')},\n     'velocity': {0: 0.0, 1: 1.0, 2: 2.0, 3: 3.0}}},\n   Timestamp('2023-08-04 16:22:49.017377'): {'action': {'r0': {0: 12.0,\n      1: 13.0,\n      2: 14.0,\n      3: 15.0,\n      4: 16.0},\n     'r1': {0: 17.0, 1: 18.0, 2: 19.0, 3: 20.0, 4: 21.0},\n     'r2': {0: 22.0, 1: 23.0, 2: 24.0, 3: 25.0, 4: 26.0},\n     'speed': {0: 40.0, 1: 50.0, 2: 60.0},\n     'throttle': {0: 0.0, 1: 0.25, 2: 0.5, 3: 0.75, 4: 1.0},\n     'timestep': {0: Timestamp('2023-08-04 11:22:49.117377'),\n      1: Timestamp('2023-08-04 11:22:49.137377'),\n      2: Timestamp('2023-08-04 11:22:49.157377')}},\n    'nstate': {'brake': {0: 37.0, 1: 38.0, 2: 39.0, 3: 40.0},\n     'thrust': {0: 33.0, 1: 34.0, 2: 35.0, 3: 36.0},\n     'timestep': {0: Timestamp('2023-08-04 11:22:54.017377'),\n      1: Timestamp('2023-08-04 11:22:54.037377'),\n      2: Timestamp('2023-08-04 11:22:54.057377'),\n      3: Timestamp('2023-08-04 11:22:54.077377')},\n     'velocity': {0: 29.0, 1: 30.0, 2: 31.0, 3: 32.0}},\n    'reward': {'timestep': {0: Timestamp('2023-08-04 11:22:49.117377')},\n     'work': {0: 27.0}},\n    'state': {'brake': {0: 8.0, 1: 9.0, 2: 10.0, 3: 11.0},\n     'thrust': {0: 4.0, 1: 5.0, 2: 6.0, 3: 7.0},\n     'timestep': {0: Timestamp('2023-08-04 11:22:49.017377'),\n      1: Timestamp('2023-08-04 11:22:49.037377'),\n      2: Timestamp('2023-08-04 11:22:49.057377'),\n      3: Timestamp('2023-08-04 11:22:49.077377')},\n     'velocity': {0: 0.0, 1: 1.0, 2: 2.0, 3: 3.0}}}}},\n {'timestamp': Timestamp('2023-07-28 11:22:50.468113'),\n  'meta': {'state_specs': {'state_unit_codes': {'velocity_unit_code': 'kph',\n     'thrust_unit_code': 'pct',\n     'brake_unit_code': 'pct'},\n    'state_number': 3,\n    'unit_number_per_state': 200,\n    'unit_duration': 4,\n    'frequency': 50,\n    'cloud_interface': {'cloud_signal_frequency': 50,\n     'cloud_gear_frequency': 2,\n     'cloud_unit_duration': 1,\n     'cloud_unit_number': 4}},\n   'action_specs': {'action_unit_code': 'nm',\n    'action_row_number': 4,\n    'action_column_number': 17},\n   'reward_specs': {'reward_unit_code': 'wh', 'reward_number': 1},\n   'site': 'anting',\n   'vehicle': 'MP73',\n   'driver': 'zheng-longfei',\n   'episodestart': Timestamp('2023-07-28 11:22:50.468113'),\n   'seq_len': 2},\n  'observation': {Timestamp('2023-08-04 14:22:49.017377'): {'action': {'r0': {0: 12.0,\n      1: 13.0,\n      2: 14.0,\n      3: 15.0,\n      4: 16.0},\n     'r1': {0: 17.0, 1: 18.0, 2: 19.0, 3: 20.0, 4: 21.0},\n     'r2': {0: 22.0, 1: 23.0, 2: 24.0, 3: 25.0, 4: 26.0},\n     'speed': {0: 40.0, 1: 50.0, 2: 60.0},\n     'throttle': {0: 0.0, 1: 0.25, 2: 0.5, 3: 0.75, 4: 1.0},\n     'timestep': {0: Timestamp('2023-08-04 11:22:49.117377'),\n      1: Timestamp('2023-08-04 11:22:49.137377'),\n      2: Timestamp('2023-08-04 11:22:49.157377')}},\n    'nstate': {'brake': {0: 37.0, 1: 38.0, 2: 39.0, 3: 40.0},\n     'thrust': {0: 33.0, 1: 34.0, 2: 35.0, 3: 36.0},\n     'timestep': {0: Timestamp('2023-08-04 11:22:54.017377'),\n      1: Timestamp('2023-08-04 11:22:54.037377'),\n      2: Timestamp('2023-08-04 11:22:54.057377'),\n      3: Timestamp('2023-08-04 11:22:54.077377')},\n     'velocity': {0: 29.0, 1: 30.0, 2: 31.0, 3: 32.0}},\n    'reward': {'timestep': {0: Timestamp('2023-08-04 11:22:49.117377')},\n     'work': {0: 27.0}},\n    'state': {'brake': {0: 8.0, 1: 9.0, 2: 10.0, 3: 11.0},\n     'thrust': {0: 4.0, 1: 5.0, 2: 6.0, 3: 7.0},\n     'timestep': {0: Timestamp('2023-08-04 11:22:49.017377'),\n      1: Timestamp('2023-08-04 11:22:49.037377'),\n      2: Timestamp('2023-08-04 11:22:49.057377'),\n      3: Timestamp('2023-08-04 11:22:49.077377')},\n     'velocity': {0: 0.0, 1: 1.0, 2: 2.0, 3: 3.0}}},\n   Timestamp('2023-08-04 16:22:49.017377'): {'action': {'r0': {0: 12.0,\n      1: 13.0,\n      2: 14.0,\n      3: 15.0,\n      4: 16.0},\n     'r1': {0: 17.0, 1: 18.0, 2: 19.0, 3: 20.0, 4: 21.0},\n     'r2': {0: 22.0, 1: 23.0, 2: 24.0, 3: 25.0, 4: 26.0},\n     'speed': {0: 40.0, 1: 50.0, 2: 60.0},\n     'throttle': {0: 0.0, 1: 0.25, 2: 0.5, 3: 0.75, 4: 1.0},\n     'timestep': {0: Timestamp('2023-08-04 11:22:49.117377'),\n      1: Timestamp('2023-08-04 11:22:49.137377'),\n      2: Timestamp('2023-08-04 11:22:49.157377')}},\n    'nstate': {'brake': {0: 37.0, 1: 38.0, 2: 39.0, 3: 40.0},\n     'thrust': {0: 33.0, 1: 34.0, 2: 35.0, 3: 36.0},\n     'timestep': {0: Timestamp('2023-08-04 11:22:54.017377'),\n      1: Timestamp('2023-08-04 11:22:54.037377'),\n      2: Timestamp('2023-08-04 11:22:54.057377'),\n      3: Timestamp('2023-08-04 11:22:54.077377')},\n     'velocity': {0: 29.0, 1: 30.0, 2: 31.0, 3: 32.0}},\n    'reward': {'timestep': {0: Timestamp('2023-08-04 11:22:49.117377')},\n     'work': {0: 27.0}},\n    'state': {'brake': {0: 8.0, 1: 9.0, 2: 10.0, 3: 11.0},\n     'thrust': {0: 4.0, 1: 5.0, 2: 6.0, 3: 7.0},\n     'timestep': {0: Timestamp('2023-08-04 11:22:49.017377'),\n      1: Timestamp('2023-08-04 11:22:49.037377'),\n      2: Timestamp('2023-08-04 11:22:49.057377'),\n      3: Timestamp('2023-08-04 11:22:49.077377')},\n     'velocity': {0: 0.0, 1: 1.0, 2: 2.0, 3: 3.0}}}}}]"
     },
     "execution_count": 91,
     "metadata": {},
     "output_type": "execute_result"
    }
   ],
   "source": [
    "docs = []\n",
    "for episode in episodes:\n",
    "    dict_nested = eos_df_to_nested_dict(episode)\n",
    "    indices_dict = [\n",
    "        {indices.names[i]: level for i, level in enumerate(levels)} for levels in episode.index\n",
    "    ]\n",
    "    single_key_dict = {idx['timestamp']: dict_nested[key] for idx, key in zip(indices_dict, dict_nested)}\n",
    "\n",
    "    episode_meta = indices_dict[0].copy()\n",
    "    try:\n",
    "        episode_meta.pop('timestamp')\n",
    "    except KeyError:\n",
    "        print(f\"Key 'timestamp' not found\")\n",
    "\n",
    "    episode_meta['seq_len'] = len(single_key_dict)\n",
    "\n",
    "    meta = {**(observation_meta.model_dump()), **episode_meta}\n",
    "\n",
    "    doc = DataFrameDoc(timestamp=meta['episodestart'], meta=meta, observation=single_key_dict,)\n",
    "    docs.append(doc)\n",
    "\n",
    "docs"
   ],
   "metadata": {
    "collapsed": false,
    "ExecuteTime": {
     "end_time": "2023-08-04T03:23:01.920484569Z",
     "start_time": "2023-08-04T03:22:50.586391103Z"
    }
   }
  },
  {
   "cell_type": "markdown",
   "source": [
    "### encode multiple episodes of mongo documents to DataFrames"
   ],
   "metadata": {
    "collapsed": false
   }
  },
  {
   "cell_type": "code",
   "execution_count": 92,
   "outputs": [
    {
     "data": {
      "text/plain": "                   timestamp  \\\n0 2023-08-04 11:22:49.017377   \n1 2023-08-02 11:22:50.468113   \n2 2023-07-30 11:22:50.468113   \n3 2023-07-29 11:22:50.468113   \n4 2023-07-28 11:22:50.468113   \n\n                                                meta  \\\n0  {'state_specs': {'state_unit_codes': {'velocit...   \n1  {'state_specs': {'state_unit_codes': {'velocit...   \n2  {'state_specs': {'state_unit_codes': {'velocit...   \n3  {'state_specs': {'state_unit_codes': {'velocit...   \n4  {'state_specs': {'state_unit_codes': {'velocit...   \n\n                                         observation  \n0  {2023-08-04 12:22:49.017377: {'action': {'r0':...  \n1  {2023-08-04 12:22:49.017377: {'action': {'r0':...  \n2  {2023-08-04 12:22:49.017377: {'action': {'r0':...  \n3  {2023-08-04 15:22:49.017377: {'action': {'r0':...  \n4  {2023-08-04 14:22:49.017377: {'action': {'r0':...  ",
      "text/html": "<div>\n<style scoped>\n    .dataframe tbody tr th:only-of-type {\n        vertical-align: middle;\n    }\n\n    .dataframe tbody tr th {\n        vertical-align: top;\n    }\n\n    .dataframe thead th {\n        text-align: right;\n    }\n</style>\n<table border=\"1\" class=\"dataframe\">\n  <thead>\n    <tr style=\"text-align: right;\">\n      <th></th>\n      <th>timestamp</th>\n      <th>meta</th>\n      <th>observation</th>\n    </tr>\n  </thead>\n  <tbody>\n    <tr>\n      <th>0</th>\n      <td>2023-08-04 11:22:49.017377</td>\n      <td>{'state_specs': {'state_unit_codes': {'velocit...</td>\n      <td>{2023-08-04 12:22:49.017377: {'action': {'r0':...</td>\n    </tr>\n    <tr>\n      <th>1</th>\n      <td>2023-08-02 11:22:50.468113</td>\n      <td>{'state_specs': {'state_unit_codes': {'velocit...</td>\n      <td>{2023-08-04 12:22:49.017377: {'action': {'r0':...</td>\n    </tr>\n    <tr>\n      <th>2</th>\n      <td>2023-07-30 11:22:50.468113</td>\n      <td>{'state_specs': {'state_unit_codes': {'velocit...</td>\n      <td>{2023-08-04 12:22:49.017377: {'action': {'r0':...</td>\n    </tr>\n    <tr>\n      <th>3</th>\n      <td>2023-07-29 11:22:50.468113</td>\n      <td>{'state_specs': {'state_unit_codes': {'velocit...</td>\n      <td>{2023-08-04 15:22:49.017377: {'action': {'r0':...</td>\n    </tr>\n    <tr>\n      <th>4</th>\n      <td>2023-07-28 11:22:50.468113</td>\n      <td>{'state_specs': {'state_unit_codes': {'velocit...</td>\n      <td>{2023-08-04 14:22:49.017377: {'action': {'r0':...</td>\n    </tr>\n  </tbody>\n</table>\n</div>"
     },
     "execution_count": 92,
     "metadata": {},
     "output_type": "execute_result"
    }
   ],
   "source": [
    "df_docs = pd.DataFrame(docs)\n",
    "df_docs"
   ],
   "metadata": {
    "collapsed": false,
    "ExecuteTime": {
     "end_time": "2023-08-04T03:23:01.921204010Z",
     "start_time": "2023-08-04T03:22:50.692972734Z"
    }
   }
  },
  {
   "cell_type": "code",
   "execution_count": 93,
   "outputs": [
    {
     "data": {
      "text/plain": "[{Timestamp('2023-08-04 12:22:49.017377'): {'action': {'r0': {0: 12.0,\n     1: 13.0,\n     2: 14.0,\n     3: 15.0,\n     4: 16.0},\n    'r1': {0: 17.0, 1: 18.0, 2: 19.0, 3: 20.0, 4: 21.0},\n    'r2': {0: 22.0, 1: 23.0, 2: 24.0, 3: 25.0, 4: 26.0},\n    'speed': {0: 40.0, 1: 50.0, 2: 60.0},\n    'throttle': {0: 0.0, 1: 0.25, 2: 0.5, 3: 0.75, 4: 1.0},\n    'timestep': {0: Timestamp('2023-08-04 11:22:49.117377'),\n     1: Timestamp('2023-08-04 11:22:49.137377'),\n     2: Timestamp('2023-08-04 11:22:49.157377')}},\n   'nstate': {'brake': {0: 37.0, 1: 38.0, 2: 39.0, 3: 40.0},\n    'thrust': {0: 33.0, 1: 34.0, 2: 35.0, 3: 36.0},\n    'timestep': {0: Timestamp('2023-08-04 11:22:54.017377'),\n     1: Timestamp('2023-08-04 11:22:54.037377'),\n     2: Timestamp('2023-08-04 11:22:54.057377'),\n     3: Timestamp('2023-08-04 11:22:54.077377')},\n    'velocity': {0: 29.0, 1: 30.0, 2: 31.0, 3: 32.0}},\n   'reward': {'timestep': {0: Timestamp('2023-08-04 11:22:49.117377')},\n    'work': {0: 27.0}},\n   'state': {'brake': {0: 8.0, 1: 9.0, 2: 10.0, 3: 11.0},\n    'thrust': {0: 4.0, 1: 5.0, 2: 6.0, 3: 7.0},\n    'timestep': {0: Timestamp('2023-08-04 11:22:49.017377'),\n     1: Timestamp('2023-08-04 11:22:49.037377'),\n     2: Timestamp('2023-08-04 11:22:49.057377'),\n     3: Timestamp('2023-08-04 11:22:49.077377')},\n    'velocity': {0: 0.0, 1: 1.0, 2: 2.0, 3: 3.0}}},\n  Timestamp('2023-08-04 13:22:49.017377'): {'action': {'r0': {0: 12.0,\n     1: 13.0,\n     2: 14.0,\n     3: 15.0,\n     4: 16.0},\n    'r1': {0: 17.0, 1: 18.0, 2: 19.0, 3: 20.0, 4: 21.0},\n    'r2': {0: 22.0, 1: 23.0, 2: 24.0, 3: 25.0, 4: 26.0},\n    'speed': {0: 40.0, 1: 50.0, 2: 60.0},\n    'throttle': {0: 0.0, 1: 0.25, 2: 0.5, 3: 0.75, 4: 1.0},\n    'timestep': {0: Timestamp('2023-08-04 11:22:49.117377'),\n     1: Timestamp('2023-08-04 11:22:49.137377'),\n     2: Timestamp('2023-08-04 11:22:49.157377')}},\n   'nstate': {'brake': {0: 37.0, 1: 38.0, 2: 39.0, 3: 40.0},\n    'thrust': {0: 33.0, 1: 34.0, 2: 35.0, 3: 36.0},\n    'timestep': {0: Timestamp('2023-08-04 11:22:54.017377'),\n     1: Timestamp('2023-08-04 11:22:54.037377'),\n     2: Timestamp('2023-08-04 11:22:54.057377'),\n     3: Timestamp('2023-08-04 11:22:54.077377')},\n    'velocity': {0: 29.0, 1: 30.0, 2: 31.0, 3: 32.0}},\n   'reward': {'timestep': {0: Timestamp('2023-08-04 11:22:49.117377')},\n    'work': {0: 27.0}},\n   'state': {'brake': {0: 8.0, 1: 9.0, 2: 10.0, 3: 11.0},\n    'thrust': {0: 4.0, 1: 5.0, 2: 6.0, 3: 7.0},\n    'timestep': {0: Timestamp('2023-08-04 11:22:49.017377'),\n     1: Timestamp('2023-08-04 11:22:49.037377'),\n     2: Timestamp('2023-08-04 11:22:49.057377'),\n     3: Timestamp('2023-08-04 11:22:49.077377')},\n    'velocity': {0: 0.0, 1: 1.0, 2: 2.0, 3: 3.0}}},\n  Timestamp('2023-08-04 14:22:49.017377'): {'action': {'r0': {0: 12.0,\n     1: 13.0,\n     2: 14.0,\n     3: 15.0,\n     4: 16.0},\n    'r1': {0: 17.0, 1: 18.0, 2: 19.0, 3: 20.0, 4: 21.0},\n    'r2': {0: 22.0, 1: 23.0, 2: 24.0, 3: 25.0, 4: 26.0},\n    'speed': {0: 40.0, 1: 50.0, 2: 60.0},\n    'throttle': {0: 0.0, 1: 0.25, 2: 0.5, 3: 0.75, 4: 1.0},\n    'timestep': {0: Timestamp('2023-08-04 11:22:49.117377'),\n     1: Timestamp('2023-08-04 11:22:49.137377'),\n     2: Timestamp('2023-08-04 11:22:49.157377')}},\n   'nstate': {'brake': {0: 37.0, 1: 38.0, 2: 39.0, 3: 40.0},\n    'thrust': {0: 33.0, 1: 34.0, 2: 35.0, 3: 36.0},\n    'timestep': {0: Timestamp('2023-08-04 11:22:54.017377'),\n     1: Timestamp('2023-08-04 11:22:54.037377'),\n     2: Timestamp('2023-08-04 11:22:54.057377'),\n     3: Timestamp('2023-08-04 11:22:54.077377')},\n    'velocity': {0: 29.0, 1: 30.0, 2: 31.0, 3: 32.0}},\n   'reward': {'timestep': {0: Timestamp('2023-08-04 11:22:49.117377')},\n    'work': {0: 27.0}},\n   'state': {'brake': {0: 8.0, 1: 9.0, 2: 10.0, 3: 11.0},\n    'thrust': {0: 4.0, 1: 5.0, 2: 6.0, 3: 7.0},\n    'timestep': {0: Timestamp('2023-08-04 11:22:49.017377'),\n     1: Timestamp('2023-08-04 11:22:49.037377'),\n     2: Timestamp('2023-08-04 11:22:49.057377'),\n     3: Timestamp('2023-08-04 11:22:49.077377')},\n    'velocity': {0: 0.0, 1: 1.0, 2: 2.0, 3: 3.0}}},\n  Timestamp('2023-08-04 15:22:49.017377'): {'action': {'r0': {0: 12.0,\n     1: 13.0,\n     2: 14.0,\n     3: 15.0,\n     4: 16.0},\n    'r1': {0: 17.0, 1: 18.0, 2: 19.0, 3: 20.0, 4: 21.0},\n    'r2': {0: 22.0, 1: 23.0, 2: 24.0, 3: 25.0, 4: 26.0},\n    'speed': {0: 40.0, 1: 50.0, 2: 60.0},\n    'throttle': {0: 0.0, 1: 0.25, 2: 0.5, 3: 0.75, 4: 1.0},\n    'timestep': {0: Timestamp('2023-08-04 11:22:49.117377'),\n     1: Timestamp('2023-08-04 11:22:49.137377'),\n     2: Timestamp('2023-08-04 11:22:49.157377')}},\n   'nstate': {'brake': {0: 37.0, 1: 38.0, 2: 39.0, 3: 40.0},\n    'thrust': {0: 33.0, 1: 34.0, 2: 35.0, 3: 36.0},\n    'timestep': {0: Timestamp('2023-08-04 11:22:54.017377'),\n     1: Timestamp('2023-08-04 11:22:54.037377'),\n     2: Timestamp('2023-08-04 11:22:54.057377'),\n     3: Timestamp('2023-08-04 11:22:54.077377')},\n    'velocity': {0: 29.0, 1: 30.0, 2: 31.0, 3: 32.0}},\n   'reward': {'timestep': {0: Timestamp('2023-08-04 11:22:49.117377')},\n    'work': {0: 27.0}},\n   'state': {'brake': {0: 8.0, 1: 9.0, 2: 10.0, 3: 11.0},\n    'thrust': {0: 4.0, 1: 5.0, 2: 6.0, 3: 7.0},\n    'timestep': {0: Timestamp('2023-08-04 11:22:49.017377'),\n     1: Timestamp('2023-08-04 11:22:49.037377'),\n     2: Timestamp('2023-08-04 11:22:49.057377'),\n     3: Timestamp('2023-08-04 11:22:49.077377')},\n    'velocity': {0: 0.0, 1: 1.0, 2: 2.0, 3: 3.0}}},\n  Timestamp('2023-08-04 16:22:49.017377'): {'action': {'r0': {0: 12.0,\n     1: 13.0,\n     2: 14.0,\n     3: 15.0,\n     4: 16.0},\n    'r1': {0: 17.0, 1: 18.0, 2: 19.0, 3: 20.0, 4: 21.0},\n    'r2': {0: 22.0, 1: 23.0, 2: 24.0, 3: 25.0, 4: 26.0},\n    'speed': {0: 40.0, 1: 50.0, 2: 60.0},\n    'throttle': {0: 0.0, 1: 0.25, 2: 0.5, 3: 0.75, 4: 1.0},\n    'timestep': {0: Timestamp('2023-08-04 11:22:49.117377'),\n     1: Timestamp('2023-08-04 11:22:49.137377'),\n     2: Timestamp('2023-08-04 11:22:49.157377')}},\n   'nstate': {'brake': {0: 37.0, 1: 38.0, 2: 39.0, 3: 40.0},\n    'thrust': {0: 33.0, 1: 34.0, 2: 35.0, 3: 36.0},\n    'timestep': {0: Timestamp('2023-08-04 11:22:54.017377'),\n     1: Timestamp('2023-08-04 11:22:54.037377'),\n     2: Timestamp('2023-08-04 11:22:54.057377'),\n     3: Timestamp('2023-08-04 11:22:54.077377')},\n    'velocity': {0: 29.0, 1: 30.0, 2: 31.0, 3: 32.0}},\n   'reward': {'timestep': {0: Timestamp('2023-08-04 11:22:49.117377')},\n    'work': {0: 27.0}},\n   'state': {'brake': {0: 8.0, 1: 9.0, 2: 10.0, 3: 11.0},\n    'thrust': {0: 4.0, 1: 5.0, 2: 6.0, 3: 7.0},\n    'timestep': {0: Timestamp('2023-08-04 11:22:49.017377'),\n     1: Timestamp('2023-08-04 11:22:49.037377'),\n     2: Timestamp('2023-08-04 11:22:49.057377'),\n     3: Timestamp('2023-08-04 11:22:49.077377')},\n    'velocity': {0: 0.0, 1: 1.0, 2: 2.0, 3: 3.0}}}},\n {Timestamp('2023-08-04 12:22:49.017377'): {'action': {'r0': {0: 12.0,\n     1: 13.0,\n     2: 14.0,\n     3: 15.0,\n     4: 16.0},\n    'r1': {0: 17.0, 1: 18.0, 2: 19.0, 3: 20.0, 4: 21.0},\n    'r2': {0: 22.0, 1: 23.0, 2: 24.0, 3: 25.0, 4: 26.0},\n    'speed': {0: 40.0, 1: 50.0, 2: 60.0},\n    'throttle': {0: 0.0, 1: 0.25, 2: 0.5, 3: 0.75, 4: 1.0},\n    'timestep': {0: Timestamp('2023-08-04 11:22:49.117377'),\n     1: Timestamp('2023-08-04 11:22:49.137377'),\n     2: Timestamp('2023-08-04 11:22:49.157377')}},\n   'nstate': {'brake': {0: 37.0, 1: 38.0, 2: 39.0, 3: 40.0},\n    'thrust': {0: 33.0, 1: 34.0, 2: 35.0, 3: 36.0},\n    'timestep': {0: Timestamp('2023-08-04 11:22:54.017377'),\n     1: Timestamp('2023-08-04 11:22:54.037377'),\n     2: Timestamp('2023-08-04 11:22:54.057377'),\n     3: Timestamp('2023-08-04 11:22:54.077377')},\n    'velocity': {0: 29.0, 1: 30.0, 2: 31.0, 3: 32.0}},\n   'reward': {'timestep': {0: Timestamp('2023-08-04 11:22:49.117377')},\n    'work': {0: 27.0}},\n   'state': {'brake': {0: 8.0, 1: 9.0, 2: 10.0, 3: 11.0},\n    'thrust': {0: 4.0, 1: 5.0, 2: 6.0, 3: 7.0},\n    'timestep': {0: Timestamp('2023-08-04 11:22:49.017377'),\n     1: Timestamp('2023-08-04 11:22:49.037377'),\n     2: Timestamp('2023-08-04 11:22:49.057377'),\n     3: Timestamp('2023-08-04 11:22:49.077377')},\n    'velocity': {0: 0.0, 1: 1.0, 2: 2.0, 3: 3.0}}},\n  Timestamp('2023-08-04 13:22:49.017377'): {'action': {'r0': {0: 12.0,\n     1: 13.0,\n     2: 14.0,\n     3: 15.0,\n     4: 16.0},\n    'r1': {0: 17.0, 1: 18.0, 2: 19.0, 3: 20.0, 4: 21.0},\n    'r2': {0: 22.0, 1: 23.0, 2: 24.0, 3: 25.0, 4: 26.0},\n    'speed': {0: 40.0, 1: 50.0, 2: 60.0},\n    'throttle': {0: 0.0, 1: 0.25, 2: 0.5, 3: 0.75, 4: 1.0},\n    'timestep': {0: Timestamp('2023-08-04 11:22:49.117377'),\n     1: Timestamp('2023-08-04 11:22:49.137377'),\n     2: Timestamp('2023-08-04 11:22:49.157377')}},\n   'nstate': {'brake': {0: 37.0, 1: 38.0, 2: 39.0, 3: 40.0},\n    'thrust': {0: 33.0, 1: 34.0, 2: 35.0, 3: 36.0},\n    'timestep': {0: Timestamp('2023-08-04 11:22:54.017377'),\n     1: Timestamp('2023-08-04 11:22:54.037377'),\n     2: Timestamp('2023-08-04 11:22:54.057377'),\n     3: Timestamp('2023-08-04 11:22:54.077377')},\n    'velocity': {0: 29.0, 1: 30.0, 2: 31.0, 3: 32.0}},\n   'reward': {'timestep': {0: Timestamp('2023-08-04 11:22:49.117377')},\n    'work': {0: 27.0}},\n   'state': {'brake': {0: 8.0, 1: 9.0, 2: 10.0, 3: 11.0},\n    'thrust': {0: 4.0, 1: 5.0, 2: 6.0, 3: 7.0},\n    'timestep': {0: Timestamp('2023-08-04 11:22:49.017377'),\n     1: Timestamp('2023-08-04 11:22:49.037377'),\n     2: Timestamp('2023-08-04 11:22:49.057377'),\n     3: Timestamp('2023-08-04 11:22:49.077377')},\n    'velocity': {0: 0.0, 1: 1.0, 2: 2.0, 3: 3.0}}},\n  Timestamp('2023-08-04 16:22:49.017377'): {'action': {'r0': {0: 12.0,\n     1: 13.0,\n     2: 14.0,\n     3: 15.0,\n     4: 16.0},\n    'r1': {0: 17.0, 1: 18.0, 2: 19.0, 3: 20.0, 4: 21.0},\n    'r2': {0: 22.0, 1: 23.0, 2: 24.0, 3: 25.0, 4: 26.0},\n    'speed': {0: 40.0, 1: 50.0, 2: 60.0},\n    'throttle': {0: 0.0, 1: 0.25, 2: 0.5, 3: 0.75, 4: 1.0},\n    'timestep': {0: Timestamp('2023-08-04 11:22:49.117377'),\n     1: Timestamp('2023-08-04 11:22:49.137377'),\n     2: Timestamp('2023-08-04 11:22:49.157377')}},\n   'nstate': {'brake': {0: 37.0, 1: 38.0, 2: 39.0, 3: 40.0},\n    'thrust': {0: 33.0, 1: 34.0, 2: 35.0, 3: 36.0},\n    'timestep': {0: Timestamp('2023-08-04 11:22:54.017377'),\n     1: Timestamp('2023-08-04 11:22:54.037377'),\n     2: Timestamp('2023-08-04 11:22:54.057377'),\n     3: Timestamp('2023-08-04 11:22:54.077377')},\n    'velocity': {0: 29.0, 1: 30.0, 2: 31.0, 3: 32.0}},\n   'reward': {'timestep': {0: Timestamp('2023-08-04 11:22:49.117377')},\n    'work': {0: 27.0}},\n   'state': {'brake': {0: 8.0, 1: 9.0, 2: 10.0, 3: 11.0},\n    'thrust': {0: 4.0, 1: 5.0, 2: 6.0, 3: 7.0},\n    'timestep': {0: Timestamp('2023-08-04 11:22:49.017377'),\n     1: Timestamp('2023-08-04 11:22:49.037377'),\n     2: Timestamp('2023-08-04 11:22:49.057377'),\n     3: Timestamp('2023-08-04 11:22:49.077377')},\n    'velocity': {0: 0.0, 1: 1.0, 2: 2.0, 3: 3.0}}}},\n {Timestamp('2023-08-04 12:22:49.017377'): {'action': {'r0': {0: 12.0,\n     1: 13.0,\n     2: 14.0,\n     3: 15.0,\n     4: 16.0},\n    'r1': {0: 17.0, 1: 18.0, 2: 19.0, 3: 20.0, 4: 21.0},\n    'r2': {0: 22.0, 1: 23.0, 2: 24.0, 3: 25.0, 4: 26.0},\n    'speed': {0: 40.0, 1: 50.0, 2: 60.0},\n    'throttle': {0: 0.0, 1: 0.25, 2: 0.5, 3: 0.75, 4: 1.0},\n    'timestep': {0: Timestamp('2023-08-04 11:22:49.117377'),\n     1: Timestamp('2023-08-04 11:22:49.137377'),\n     2: Timestamp('2023-08-04 11:22:49.157377')}},\n   'nstate': {'brake': {0: 37.0, 1: 38.0, 2: 39.0, 3: 40.0},\n    'thrust': {0: 33.0, 1: 34.0, 2: 35.0, 3: 36.0},\n    'timestep': {0: Timestamp('2023-08-04 11:22:54.017377'),\n     1: Timestamp('2023-08-04 11:22:54.037377'),\n     2: Timestamp('2023-08-04 11:22:54.057377'),\n     3: Timestamp('2023-08-04 11:22:54.077377')},\n    'velocity': {0: 29.0, 1: 30.0, 2: 31.0, 3: 32.0}},\n   'reward': {'timestep': {0: Timestamp('2023-08-04 11:22:49.117377')},\n    'work': {0: 27.0}},\n   'state': {'brake': {0: 8.0, 1: 9.0, 2: 10.0, 3: 11.0},\n    'thrust': {0: 4.0, 1: 5.0, 2: 6.0, 3: 7.0},\n    'timestep': {0: Timestamp('2023-08-04 11:22:49.017377'),\n     1: Timestamp('2023-08-04 11:22:49.037377'),\n     2: Timestamp('2023-08-04 11:22:49.057377'),\n     3: Timestamp('2023-08-04 11:22:49.077377')},\n    'velocity': {0: 0.0, 1: 1.0, 2: 2.0, 3: 3.0}}},\n  Timestamp('2023-08-04 13:22:49.017377'): {'action': {'r0': {0: 12.0,\n     1: 13.0,\n     2: 14.0,\n     3: 15.0,\n     4: 16.0},\n    'r1': {0: 17.0, 1: 18.0, 2: 19.0, 3: 20.0, 4: 21.0},\n    'r2': {0: 22.0, 1: 23.0, 2: 24.0, 3: 25.0, 4: 26.0},\n    'speed': {0: 40.0, 1: 50.0, 2: 60.0},\n    'throttle': {0: 0.0, 1: 0.25, 2: 0.5, 3: 0.75, 4: 1.0},\n    'timestep': {0: Timestamp('2023-08-04 11:22:49.117377'),\n     1: Timestamp('2023-08-04 11:22:49.137377'),\n     2: Timestamp('2023-08-04 11:22:49.157377')}},\n   'nstate': {'brake': {0: 37.0, 1: 38.0, 2: 39.0, 3: 40.0},\n    'thrust': {0: 33.0, 1: 34.0, 2: 35.0, 3: 36.0},\n    'timestep': {0: Timestamp('2023-08-04 11:22:54.017377'),\n     1: Timestamp('2023-08-04 11:22:54.037377'),\n     2: Timestamp('2023-08-04 11:22:54.057377'),\n     3: Timestamp('2023-08-04 11:22:54.077377')},\n    'velocity': {0: 29.0, 1: 30.0, 2: 31.0, 3: 32.0}},\n   'reward': {'timestep': {0: Timestamp('2023-08-04 11:22:49.117377')},\n    'work': {0: 27.0}},\n   'state': {'brake': {0: 8.0, 1: 9.0, 2: 10.0, 3: 11.0},\n    'thrust': {0: 4.0, 1: 5.0, 2: 6.0, 3: 7.0},\n    'timestep': {0: Timestamp('2023-08-04 11:22:49.017377'),\n     1: Timestamp('2023-08-04 11:22:49.037377'),\n     2: Timestamp('2023-08-04 11:22:49.057377'),\n     3: Timestamp('2023-08-04 11:22:49.077377')},\n    'velocity': {0: 0.0, 1: 1.0, 2: 2.0, 3: 3.0}}},\n  Timestamp('2023-08-04 14:22:49.017377'): {'action': {'r0': {0: 12.0,\n     1: 13.0,\n     2: 14.0,\n     3: 15.0,\n     4: 16.0},\n    'r1': {0: 17.0, 1: 18.0, 2: 19.0, 3: 20.0, 4: 21.0},\n    'r2': {0: 22.0, 1: 23.0, 2: 24.0, 3: 25.0, 4: 26.0},\n    'speed': {0: 40.0, 1: 50.0, 2: 60.0},\n    'throttle': {0: 0.0, 1: 0.25, 2: 0.5, 3: 0.75, 4: 1.0},\n    'timestep': {0: Timestamp('2023-08-04 11:22:49.117377'),\n     1: Timestamp('2023-08-04 11:22:49.137377'),\n     2: Timestamp('2023-08-04 11:22:49.157377')}},\n   'nstate': {'brake': {0: 37.0, 1: 38.0, 2: 39.0, 3: 40.0},\n    'thrust': {0: 33.0, 1: 34.0, 2: 35.0, 3: 36.0},\n    'timestep': {0: Timestamp('2023-08-04 11:22:54.017377'),\n     1: Timestamp('2023-08-04 11:22:54.037377'),\n     2: Timestamp('2023-08-04 11:22:54.057377'),\n     3: Timestamp('2023-08-04 11:22:54.077377')},\n    'velocity': {0: 29.0, 1: 30.0, 2: 31.0, 3: 32.0}},\n   'reward': {'timestep': {0: Timestamp('2023-08-04 11:22:49.117377')},\n    'work': {0: 27.0}},\n   'state': {'brake': {0: 8.0, 1: 9.0, 2: 10.0, 3: 11.0},\n    'thrust': {0: 4.0, 1: 5.0, 2: 6.0, 3: 7.0},\n    'timestep': {0: Timestamp('2023-08-04 11:22:49.017377'),\n     1: Timestamp('2023-08-04 11:22:49.037377'),\n     2: Timestamp('2023-08-04 11:22:49.057377'),\n     3: Timestamp('2023-08-04 11:22:49.077377')},\n    'velocity': {0: 0.0, 1: 1.0, 2: 2.0, 3: 3.0}}},\n  Timestamp('2023-08-04 16:22:49.017377'): {'action': {'r0': {0: 12.0,\n     1: 13.0,\n     2: 14.0,\n     3: 15.0,\n     4: 16.0},\n    'r1': {0: 17.0, 1: 18.0, 2: 19.0, 3: 20.0, 4: 21.0},\n    'r2': {0: 22.0, 1: 23.0, 2: 24.0, 3: 25.0, 4: 26.0},\n    'speed': {0: 40.0, 1: 50.0, 2: 60.0},\n    'throttle': {0: 0.0, 1: 0.25, 2: 0.5, 3: 0.75, 4: 1.0},\n    'timestep': {0: Timestamp('2023-08-04 11:22:49.117377'),\n     1: Timestamp('2023-08-04 11:22:49.137377'),\n     2: Timestamp('2023-08-04 11:22:49.157377')}},\n   'nstate': {'brake': {0: 37.0, 1: 38.0, 2: 39.0, 3: 40.0},\n    'thrust': {0: 33.0, 1: 34.0, 2: 35.0, 3: 36.0},\n    'timestep': {0: Timestamp('2023-08-04 11:22:54.017377'),\n     1: Timestamp('2023-08-04 11:22:54.037377'),\n     2: Timestamp('2023-08-04 11:22:54.057377'),\n     3: Timestamp('2023-08-04 11:22:54.077377')},\n    'velocity': {0: 29.0, 1: 30.0, 2: 31.0, 3: 32.0}},\n   'reward': {'timestep': {0: Timestamp('2023-08-04 11:22:49.117377')},\n    'work': {0: 27.0}},\n   'state': {'brake': {0: 8.0, 1: 9.0, 2: 10.0, 3: 11.0},\n    'thrust': {0: 4.0, 1: 5.0, 2: 6.0, 3: 7.0},\n    'timestep': {0: Timestamp('2023-08-04 11:22:49.017377'),\n     1: Timestamp('2023-08-04 11:22:49.037377'),\n     2: Timestamp('2023-08-04 11:22:49.057377'),\n     3: Timestamp('2023-08-04 11:22:49.077377')},\n    'velocity': {0: 0.0, 1: 1.0, 2: 2.0, 3: 3.0}}}},\n {Timestamp('2023-08-04 15:22:49.017377'): {'action': {'r0': {0: 12.0,\n     1: 13.0,\n     2: 14.0,\n     3: 15.0,\n     4: 16.0},\n    'r1': {0: 17.0, 1: 18.0, 2: 19.0, 3: 20.0, 4: 21.0},\n    'r2': {0: 22.0, 1: 23.0, 2: 24.0, 3: 25.0, 4: 26.0},\n    'speed': {0: 40.0, 1: 50.0, 2: 60.0},\n    'throttle': {0: 0.0, 1: 0.25, 2: 0.5, 3: 0.75, 4: 1.0},\n    'timestep': {0: Timestamp('2023-08-04 11:22:49.117377'),\n     1: Timestamp('2023-08-04 11:22:49.137377'),\n     2: Timestamp('2023-08-04 11:22:49.157377')}},\n   'nstate': {'brake': {0: 37.0, 1: 38.0, 2: 39.0, 3: 40.0},\n    'thrust': {0: 33.0, 1: 34.0, 2: 35.0, 3: 36.0},\n    'timestep': {0: Timestamp('2023-08-04 11:22:54.017377'),\n     1: Timestamp('2023-08-04 11:22:54.037377'),\n     2: Timestamp('2023-08-04 11:22:54.057377'),\n     3: Timestamp('2023-08-04 11:22:54.077377')},\n    'velocity': {0: 29.0, 1: 30.0, 2: 31.0, 3: 32.0}},\n   'reward': {'timestep': {0: Timestamp('2023-08-04 11:22:49.117377')},\n    'work': {0: 27.0}},\n   'state': {'brake': {0: 8.0, 1: 9.0, 2: 10.0, 3: 11.0},\n    'thrust': {0: 4.0, 1: 5.0, 2: 6.0, 3: 7.0},\n    'timestep': {0: Timestamp('2023-08-04 11:22:49.017377'),\n     1: Timestamp('2023-08-04 11:22:49.037377'),\n     2: Timestamp('2023-08-04 11:22:49.057377'),\n     3: Timestamp('2023-08-04 11:22:49.077377')},\n    'velocity': {0: 0.0, 1: 1.0, 2: 2.0, 3: 3.0}}},\n  Timestamp('2023-08-04 16:22:49.017377'): {'action': {'r0': {0: 12.0,\n     1: 13.0,\n     2: 14.0,\n     3: 15.0,\n     4: 16.0},\n    'r1': {0: 17.0, 1: 18.0, 2: 19.0, 3: 20.0, 4: 21.0},\n    'r2': {0: 22.0, 1: 23.0, 2: 24.0, 3: 25.0, 4: 26.0},\n    'speed': {0: 40.0, 1: 50.0, 2: 60.0},\n    'throttle': {0: 0.0, 1: 0.25, 2: 0.5, 3: 0.75, 4: 1.0},\n    'timestep': {0: Timestamp('2023-08-04 11:22:49.117377'),\n     1: Timestamp('2023-08-04 11:22:49.137377'),\n     2: Timestamp('2023-08-04 11:22:49.157377')}},\n   'nstate': {'brake': {0: 37.0, 1: 38.0, 2: 39.0, 3: 40.0},\n    'thrust': {0: 33.0, 1: 34.0, 2: 35.0, 3: 36.0},\n    'timestep': {0: Timestamp('2023-08-04 11:22:54.017377'),\n     1: Timestamp('2023-08-04 11:22:54.037377'),\n     2: Timestamp('2023-08-04 11:22:54.057377'),\n     3: Timestamp('2023-08-04 11:22:54.077377')},\n    'velocity': {0: 29.0, 1: 30.0, 2: 31.0, 3: 32.0}},\n   'reward': {'timestep': {0: Timestamp('2023-08-04 11:22:49.117377')},\n    'work': {0: 27.0}},\n   'state': {'brake': {0: 8.0, 1: 9.0, 2: 10.0, 3: 11.0},\n    'thrust': {0: 4.0, 1: 5.0, 2: 6.0, 3: 7.0},\n    'timestep': {0: Timestamp('2023-08-04 11:22:49.017377'),\n     1: Timestamp('2023-08-04 11:22:49.037377'),\n     2: Timestamp('2023-08-04 11:22:49.057377'),\n     3: Timestamp('2023-08-04 11:22:49.077377')},\n    'velocity': {0: 0.0, 1: 1.0, 2: 2.0, 3: 3.0}}}},\n {Timestamp('2023-08-04 14:22:49.017377'): {'action': {'r0': {0: 12.0,\n     1: 13.0,\n     2: 14.0,\n     3: 15.0,\n     4: 16.0},\n    'r1': {0: 17.0, 1: 18.0, 2: 19.0, 3: 20.0, 4: 21.0},\n    'r2': {0: 22.0, 1: 23.0, 2: 24.0, 3: 25.0, 4: 26.0},\n    'speed': {0: 40.0, 1: 50.0, 2: 60.0},\n    'throttle': {0: 0.0, 1: 0.25, 2: 0.5, 3: 0.75, 4: 1.0},\n    'timestep': {0: Timestamp('2023-08-04 11:22:49.117377'),\n     1: Timestamp('2023-08-04 11:22:49.137377'),\n     2: Timestamp('2023-08-04 11:22:49.157377')}},\n   'nstate': {'brake': {0: 37.0, 1: 38.0, 2: 39.0, 3: 40.0},\n    'thrust': {0: 33.0, 1: 34.0, 2: 35.0, 3: 36.0},\n    'timestep': {0: Timestamp('2023-08-04 11:22:54.017377'),\n     1: Timestamp('2023-08-04 11:22:54.037377'),\n     2: Timestamp('2023-08-04 11:22:54.057377'),\n     3: Timestamp('2023-08-04 11:22:54.077377')},\n    'velocity': {0: 29.0, 1: 30.0, 2: 31.0, 3: 32.0}},\n   'reward': {'timestep': {0: Timestamp('2023-08-04 11:22:49.117377')},\n    'work': {0: 27.0}},\n   'state': {'brake': {0: 8.0, 1: 9.0, 2: 10.0, 3: 11.0},\n    'thrust': {0: 4.0, 1: 5.0, 2: 6.0, 3: 7.0},\n    'timestep': {0: Timestamp('2023-08-04 11:22:49.017377'),\n     1: Timestamp('2023-08-04 11:22:49.037377'),\n     2: Timestamp('2023-08-04 11:22:49.057377'),\n     3: Timestamp('2023-08-04 11:22:49.077377')},\n    'velocity': {0: 0.0, 1: 1.0, 2: 2.0, 3: 3.0}}},\n  Timestamp('2023-08-04 16:22:49.017377'): {'action': {'r0': {0: 12.0,\n     1: 13.0,\n     2: 14.0,\n     3: 15.0,\n     4: 16.0},\n    'r1': {0: 17.0, 1: 18.0, 2: 19.0, 3: 20.0, 4: 21.0},\n    'r2': {0: 22.0, 1: 23.0, 2: 24.0, 3: 25.0, 4: 26.0},\n    'speed': {0: 40.0, 1: 50.0, 2: 60.0},\n    'throttle': {0: 0.0, 1: 0.25, 2: 0.5, 3: 0.75, 4: 1.0},\n    'timestep': {0: Timestamp('2023-08-04 11:22:49.117377'),\n     1: Timestamp('2023-08-04 11:22:49.137377'),\n     2: Timestamp('2023-08-04 11:22:49.157377')}},\n   'nstate': {'brake': {0: 37.0, 1: 38.0, 2: 39.0, 3: 40.0},\n    'thrust': {0: 33.0, 1: 34.0, 2: 35.0, 3: 36.0},\n    'timestep': {0: Timestamp('2023-08-04 11:22:54.017377'),\n     1: Timestamp('2023-08-04 11:22:54.037377'),\n     2: Timestamp('2023-08-04 11:22:54.057377'),\n     3: Timestamp('2023-08-04 11:22:54.077377')},\n    'velocity': {0: 29.0, 1: 30.0, 2: 31.0, 3: 32.0}},\n   'reward': {'timestep': {0: Timestamp('2023-08-04 11:22:49.117377')},\n    'work': {0: 27.0}},\n   'state': {'brake': {0: 8.0, 1: 9.0, 2: 10.0, 3: 11.0},\n    'thrust': {0: 4.0, 1: 5.0, 2: 6.0, 3: 7.0},\n    'timestep': {0: Timestamp('2023-08-04 11:22:49.017377'),\n     1: Timestamp('2023-08-04 11:22:49.037377'),\n     2: Timestamp('2023-08-04 11:22:49.057377'),\n     3: Timestamp('2023-08-04 11:22:49.077377')},\n    'velocity': {0: 0.0, 1: 1.0, 2: 2.0, 3: 3.0}}}}]"
     },
     "execution_count": 93,
     "metadata": {},
     "output_type": "execute_result"
    }
   ],
   "source": [
    "dict_observations = [\n",
    "    {key: value for key, value in row.items()} for row in df_docs['observation']\n",
    "]\n",
    "dict_observations"
   ],
   "metadata": {
    "collapsed": false,
    "ExecuteTime": {
     "end_time": "2023-08-04T03:23:01.922332521Z",
     "start_time": "2023-08-04T03:22:50.740817349Z"
    }
   }
  },
  {
   "cell_type": "markdown",
   "source": [
    "### decoding observations (episodes)"
   ],
   "metadata": {
    "collapsed": false
   }
  },
  {
   "cell_type": "code",
   "execution_count": 94,
   "outputs": [
    {
     "data": {
      "text/plain": "{('VB7',\n  'wang-cheng',\n  Timestamp('2023-08-04 11:22:49.017377'),\n  Timestamp('2023-08-04 12:22:49.017377'),\n  'action',\n  'r0',\n  0): 12.0,\n ('VB7',\n  'wang-cheng',\n  Timestamp('2023-08-04 11:22:49.017377'),\n  Timestamp('2023-08-04 12:22:49.017377'),\n  'action',\n  'r0',\n  1): 13.0,\n ('VB7',\n  'wang-cheng',\n  Timestamp('2023-08-04 11:22:49.017377'),\n  Timestamp('2023-08-04 12:22:49.017377'),\n  'action',\n  'r0',\n  2): 14.0,\n ('VB7',\n  'wang-cheng',\n  Timestamp('2023-08-04 11:22:49.017377'),\n  Timestamp('2023-08-04 12:22:49.017377'),\n  'action',\n  'r0',\n  3): 15.0,\n ('VB7',\n  'wang-cheng',\n  Timestamp('2023-08-04 11:22:49.017377'),\n  Timestamp('2023-08-04 12:22:49.017377'),\n  'action',\n  'r0',\n  4): 16.0,\n ('VB7',\n  'wang-cheng',\n  Timestamp('2023-08-04 11:22:49.017377'),\n  Timestamp('2023-08-04 12:22:49.017377'),\n  'action',\n  'r1',\n  0): 17.0,\n ('VB7',\n  'wang-cheng',\n  Timestamp('2023-08-04 11:22:49.017377'),\n  Timestamp('2023-08-04 12:22:49.017377'),\n  'action',\n  'r1',\n  1): 18.0,\n ('VB7',\n  'wang-cheng',\n  Timestamp('2023-08-04 11:22:49.017377'),\n  Timestamp('2023-08-04 12:22:49.017377'),\n  'action',\n  'r1',\n  2): 19.0,\n ('VB7',\n  'wang-cheng',\n  Timestamp('2023-08-04 11:22:49.017377'),\n  Timestamp('2023-08-04 12:22:49.017377'),\n  'action',\n  'r1',\n  3): 20.0,\n ('VB7',\n  'wang-cheng',\n  Timestamp('2023-08-04 11:22:49.017377'),\n  Timestamp('2023-08-04 12:22:49.017377'),\n  'action',\n  'r1',\n  4): 21.0,\n ('VB7',\n  'wang-cheng',\n  Timestamp('2023-08-04 11:22:49.017377'),\n  Timestamp('2023-08-04 12:22:49.017377'),\n  'action',\n  'r2',\n  0): 22.0,\n ('VB7',\n  'wang-cheng',\n  Timestamp('2023-08-04 11:22:49.017377'),\n  Timestamp('2023-08-04 12:22:49.017377'),\n  'action',\n  'r2',\n  1): 23.0,\n ('VB7',\n  'wang-cheng',\n  Timestamp('2023-08-04 11:22:49.017377'),\n  Timestamp('2023-08-04 12:22:49.017377'),\n  'action',\n  'r2',\n  2): 24.0,\n ('VB7',\n  'wang-cheng',\n  Timestamp('2023-08-04 11:22:49.017377'),\n  Timestamp('2023-08-04 12:22:49.017377'),\n  'action',\n  'r2',\n  3): 25.0,\n ('VB7',\n  'wang-cheng',\n  Timestamp('2023-08-04 11:22:49.017377'),\n  Timestamp('2023-08-04 12:22:49.017377'),\n  'action',\n  'r2',\n  4): 26.0,\n ('VB7',\n  'wang-cheng',\n  Timestamp('2023-08-04 11:22:49.017377'),\n  Timestamp('2023-08-04 12:22:49.017377'),\n  'action',\n  'speed',\n  0): 40.0,\n ('VB7',\n  'wang-cheng',\n  Timestamp('2023-08-04 11:22:49.017377'),\n  Timestamp('2023-08-04 12:22:49.017377'),\n  'action',\n  'speed',\n  1): 50.0,\n ('VB7',\n  'wang-cheng',\n  Timestamp('2023-08-04 11:22:49.017377'),\n  Timestamp('2023-08-04 12:22:49.017377'),\n  'action',\n  'speed',\n  2): 60.0,\n ('VB7',\n  'wang-cheng',\n  Timestamp('2023-08-04 11:22:49.017377'),\n  Timestamp('2023-08-04 12:22:49.017377'),\n  'action',\n  'throttle',\n  0): 0.0,\n ('VB7',\n  'wang-cheng',\n  Timestamp('2023-08-04 11:22:49.017377'),\n  Timestamp('2023-08-04 12:22:49.017377'),\n  'action',\n  'throttle',\n  1): 0.25,\n ('VB7',\n  'wang-cheng',\n  Timestamp('2023-08-04 11:22:49.017377'),\n  Timestamp('2023-08-04 12:22:49.017377'),\n  'action',\n  'throttle',\n  2): 0.5,\n ('VB7',\n  'wang-cheng',\n  Timestamp('2023-08-04 11:22:49.017377'),\n  Timestamp('2023-08-04 12:22:49.017377'),\n  'action',\n  'throttle',\n  3): 0.75,\n ('VB7',\n  'wang-cheng',\n  Timestamp('2023-08-04 11:22:49.017377'),\n  Timestamp('2023-08-04 12:22:49.017377'),\n  'action',\n  'throttle',\n  4): 1.0,\n ('VB7',\n  'wang-cheng',\n  Timestamp('2023-08-04 11:22:49.017377'),\n  Timestamp('2023-08-04 12:22:49.017377'),\n  'action',\n  'timestep',\n  0): Timestamp('2023-08-04 11:22:49.117377'),\n ('VB7',\n  'wang-cheng',\n  Timestamp('2023-08-04 11:22:49.017377'),\n  Timestamp('2023-08-04 12:22:49.017377'),\n  'action',\n  'timestep',\n  1): Timestamp('2023-08-04 11:22:49.137377'),\n ('VB7',\n  'wang-cheng',\n  Timestamp('2023-08-04 11:22:49.017377'),\n  Timestamp('2023-08-04 12:22:49.017377'),\n  'action',\n  'timestep',\n  2): Timestamp('2023-08-04 11:22:49.157377'),\n ('VB7',\n  'wang-cheng',\n  Timestamp('2023-08-04 11:22:49.017377'),\n  Timestamp('2023-08-04 12:22:49.017377'),\n  'nstate',\n  'brake',\n  0): 37.0,\n ('VB7',\n  'wang-cheng',\n  Timestamp('2023-08-04 11:22:49.017377'),\n  Timestamp('2023-08-04 12:22:49.017377'),\n  'nstate',\n  'brake',\n  1): 38.0,\n ('VB7',\n  'wang-cheng',\n  Timestamp('2023-08-04 11:22:49.017377'),\n  Timestamp('2023-08-04 12:22:49.017377'),\n  'nstate',\n  'brake',\n  2): 39.0,\n ('VB7',\n  'wang-cheng',\n  Timestamp('2023-08-04 11:22:49.017377'),\n  Timestamp('2023-08-04 12:22:49.017377'),\n  'nstate',\n  'brake',\n  3): 40.0,\n ('VB7',\n  'wang-cheng',\n  Timestamp('2023-08-04 11:22:49.017377'),\n  Timestamp('2023-08-04 12:22:49.017377'),\n  'nstate',\n  'thrust',\n  0): 33.0,\n ('VB7',\n  'wang-cheng',\n  Timestamp('2023-08-04 11:22:49.017377'),\n  Timestamp('2023-08-04 12:22:49.017377'),\n  'nstate',\n  'thrust',\n  1): 34.0,\n ('VB7',\n  'wang-cheng',\n  Timestamp('2023-08-04 11:22:49.017377'),\n  Timestamp('2023-08-04 12:22:49.017377'),\n  'nstate',\n  'thrust',\n  2): 35.0,\n ('VB7',\n  'wang-cheng',\n  Timestamp('2023-08-04 11:22:49.017377'),\n  Timestamp('2023-08-04 12:22:49.017377'),\n  'nstate',\n  'thrust',\n  3): 36.0,\n ('VB7',\n  'wang-cheng',\n  Timestamp('2023-08-04 11:22:49.017377'),\n  Timestamp('2023-08-04 12:22:49.017377'),\n  'nstate',\n  'timestep',\n  0): Timestamp('2023-08-04 11:22:54.017377'),\n ('VB7',\n  'wang-cheng',\n  Timestamp('2023-08-04 11:22:49.017377'),\n  Timestamp('2023-08-04 12:22:49.017377'),\n  'nstate',\n  'timestep',\n  1): Timestamp('2023-08-04 11:22:54.037377'),\n ('VB7',\n  'wang-cheng',\n  Timestamp('2023-08-04 11:22:49.017377'),\n  Timestamp('2023-08-04 12:22:49.017377'),\n  'nstate',\n  'timestep',\n  2): Timestamp('2023-08-04 11:22:54.057377'),\n ('VB7',\n  'wang-cheng',\n  Timestamp('2023-08-04 11:22:49.017377'),\n  Timestamp('2023-08-04 12:22:49.017377'),\n  'nstate',\n  'timestep',\n  3): Timestamp('2023-08-04 11:22:54.077377'),\n ('VB7',\n  'wang-cheng',\n  Timestamp('2023-08-04 11:22:49.017377'),\n  Timestamp('2023-08-04 12:22:49.017377'),\n  'nstate',\n  'velocity',\n  0): 29.0,\n ('VB7',\n  'wang-cheng',\n  Timestamp('2023-08-04 11:22:49.017377'),\n  Timestamp('2023-08-04 12:22:49.017377'),\n  'nstate',\n  'velocity',\n  1): 30.0,\n ('VB7',\n  'wang-cheng',\n  Timestamp('2023-08-04 11:22:49.017377'),\n  Timestamp('2023-08-04 12:22:49.017377'),\n  'nstate',\n  'velocity',\n  2): 31.0,\n ('VB7',\n  'wang-cheng',\n  Timestamp('2023-08-04 11:22:49.017377'),\n  Timestamp('2023-08-04 12:22:49.017377'),\n  'nstate',\n  'velocity',\n  3): 32.0,\n ('VB7',\n  'wang-cheng',\n  Timestamp('2023-08-04 11:22:49.017377'),\n  Timestamp('2023-08-04 12:22:49.017377'),\n  'reward',\n  'timestep',\n  0): Timestamp('2023-08-04 11:22:49.117377'),\n ('VB7',\n  'wang-cheng',\n  Timestamp('2023-08-04 11:22:49.017377'),\n  Timestamp('2023-08-04 12:22:49.017377'),\n  'reward',\n  'work',\n  0): 27.0,\n ('VB7',\n  'wang-cheng',\n  Timestamp('2023-08-04 11:22:49.017377'),\n  Timestamp('2023-08-04 12:22:49.017377'),\n  'state',\n  'brake',\n  0): 8.0,\n ('VB7',\n  'wang-cheng',\n  Timestamp('2023-08-04 11:22:49.017377'),\n  Timestamp('2023-08-04 12:22:49.017377'),\n  'state',\n  'brake',\n  1): 9.0,\n ('VB7',\n  'wang-cheng',\n  Timestamp('2023-08-04 11:22:49.017377'),\n  Timestamp('2023-08-04 12:22:49.017377'),\n  'state',\n  'brake',\n  2): 10.0,\n ('VB7',\n  'wang-cheng',\n  Timestamp('2023-08-04 11:22:49.017377'),\n  Timestamp('2023-08-04 12:22:49.017377'),\n  'state',\n  'brake',\n  3): 11.0,\n ('VB7',\n  'wang-cheng',\n  Timestamp('2023-08-04 11:22:49.017377'),\n  Timestamp('2023-08-04 12:22:49.017377'),\n  'state',\n  'thrust',\n  0): 4.0,\n ('VB7',\n  'wang-cheng',\n  Timestamp('2023-08-04 11:22:49.017377'),\n  Timestamp('2023-08-04 12:22:49.017377'),\n  'state',\n  'thrust',\n  1): 5.0,\n ('VB7',\n  'wang-cheng',\n  Timestamp('2023-08-04 11:22:49.017377'),\n  Timestamp('2023-08-04 12:22:49.017377'),\n  'state',\n  'thrust',\n  2): 6.0,\n ('VB7',\n  'wang-cheng',\n  Timestamp('2023-08-04 11:22:49.017377'),\n  Timestamp('2023-08-04 12:22:49.017377'),\n  'state',\n  'thrust',\n  3): 7.0,\n ('VB7',\n  'wang-cheng',\n  Timestamp('2023-08-04 11:22:49.017377'),\n  Timestamp('2023-08-04 12:22:49.017377'),\n  'state',\n  'timestep',\n  0): Timestamp('2023-08-04 11:22:49.017377'),\n ('VB7',\n  'wang-cheng',\n  Timestamp('2023-08-04 11:22:49.017377'),\n  Timestamp('2023-08-04 12:22:49.017377'),\n  'state',\n  'timestep',\n  1): Timestamp('2023-08-04 11:22:49.037377'),\n ('VB7',\n  'wang-cheng',\n  Timestamp('2023-08-04 11:22:49.017377'),\n  Timestamp('2023-08-04 12:22:49.017377'),\n  'state',\n  'timestep',\n  2): Timestamp('2023-08-04 11:22:49.057377'),\n ('VB7',\n  'wang-cheng',\n  Timestamp('2023-08-04 11:22:49.017377'),\n  Timestamp('2023-08-04 12:22:49.017377'),\n  'state',\n  'timestep',\n  3): Timestamp('2023-08-04 11:22:49.077377'),\n ('VB7',\n  'wang-cheng',\n  Timestamp('2023-08-04 11:22:49.017377'),\n  Timestamp('2023-08-04 12:22:49.017377'),\n  'state',\n  'velocity',\n  0): 0.0,\n ('VB7',\n  'wang-cheng',\n  Timestamp('2023-08-04 11:22:49.017377'),\n  Timestamp('2023-08-04 12:22:49.017377'),\n  'state',\n  'velocity',\n  1): 1.0,\n ('VB7',\n  'wang-cheng',\n  Timestamp('2023-08-04 11:22:49.017377'),\n  Timestamp('2023-08-04 12:22:49.017377'),\n  'state',\n  'velocity',\n  2): 2.0,\n ('VB7',\n  'wang-cheng',\n  Timestamp('2023-08-04 11:22:49.017377'),\n  Timestamp('2023-08-04 12:22:49.017377'),\n  'state',\n  'velocity',\n  3): 3.0,\n ('VB7',\n  'wang-cheng',\n  Timestamp('2023-08-04 11:22:49.017377'),\n  Timestamp('2023-08-04 13:22:49.017377'),\n  'action',\n  'r0',\n  0): 12.0,\n ('VB7',\n  'wang-cheng',\n  Timestamp('2023-08-04 11:22:49.017377'),\n  Timestamp('2023-08-04 13:22:49.017377'),\n  'action',\n  'r0',\n  1): 13.0,\n ('VB7',\n  'wang-cheng',\n  Timestamp('2023-08-04 11:22:49.017377'),\n  Timestamp('2023-08-04 13:22:49.017377'),\n  'action',\n  'r0',\n  2): 14.0,\n ('VB7',\n  'wang-cheng',\n  Timestamp('2023-08-04 11:22:49.017377'),\n  Timestamp('2023-08-04 13:22:49.017377'),\n  'action',\n  'r0',\n  3): 15.0,\n ('VB7',\n  'wang-cheng',\n  Timestamp('2023-08-04 11:22:49.017377'),\n  Timestamp('2023-08-04 13:22:49.017377'),\n  'action',\n  'r0',\n  4): 16.0,\n ('VB7',\n  'wang-cheng',\n  Timestamp('2023-08-04 11:22:49.017377'),\n  Timestamp('2023-08-04 13:22:49.017377'),\n  'action',\n  'r1',\n  0): 17.0,\n ('VB7',\n  'wang-cheng',\n  Timestamp('2023-08-04 11:22:49.017377'),\n  Timestamp('2023-08-04 13:22:49.017377'),\n  'action',\n  'r1',\n  1): 18.0,\n ('VB7',\n  'wang-cheng',\n  Timestamp('2023-08-04 11:22:49.017377'),\n  Timestamp('2023-08-04 13:22:49.017377'),\n  'action',\n  'r1',\n  2): 19.0,\n ('VB7',\n  'wang-cheng',\n  Timestamp('2023-08-04 11:22:49.017377'),\n  Timestamp('2023-08-04 13:22:49.017377'),\n  'action',\n  'r1',\n  3): 20.0,\n ('VB7',\n  'wang-cheng',\n  Timestamp('2023-08-04 11:22:49.017377'),\n  Timestamp('2023-08-04 13:22:49.017377'),\n  'action',\n  'r1',\n  4): 21.0,\n ('VB7',\n  'wang-cheng',\n  Timestamp('2023-08-04 11:22:49.017377'),\n  Timestamp('2023-08-04 13:22:49.017377'),\n  'action',\n  'r2',\n  0): 22.0,\n ('VB7',\n  'wang-cheng',\n  Timestamp('2023-08-04 11:22:49.017377'),\n  Timestamp('2023-08-04 13:22:49.017377'),\n  'action',\n  'r2',\n  1): 23.0,\n ('VB7',\n  'wang-cheng',\n  Timestamp('2023-08-04 11:22:49.017377'),\n  Timestamp('2023-08-04 13:22:49.017377'),\n  'action',\n  'r2',\n  2): 24.0,\n ('VB7',\n  'wang-cheng',\n  Timestamp('2023-08-04 11:22:49.017377'),\n  Timestamp('2023-08-04 13:22:49.017377'),\n  'action',\n  'r2',\n  3): 25.0,\n ('VB7',\n  'wang-cheng',\n  Timestamp('2023-08-04 11:22:49.017377'),\n  Timestamp('2023-08-04 13:22:49.017377'),\n  'action',\n  'r2',\n  4): 26.0,\n ('VB7',\n  'wang-cheng',\n  Timestamp('2023-08-04 11:22:49.017377'),\n  Timestamp('2023-08-04 13:22:49.017377'),\n  'action',\n  'speed',\n  0): 40.0,\n ('VB7',\n  'wang-cheng',\n  Timestamp('2023-08-04 11:22:49.017377'),\n  Timestamp('2023-08-04 13:22:49.017377'),\n  'action',\n  'speed',\n  1): 50.0,\n ('VB7',\n  'wang-cheng',\n  Timestamp('2023-08-04 11:22:49.017377'),\n  Timestamp('2023-08-04 13:22:49.017377'),\n  'action',\n  'speed',\n  2): 60.0,\n ('VB7',\n  'wang-cheng',\n  Timestamp('2023-08-04 11:22:49.017377'),\n  Timestamp('2023-08-04 13:22:49.017377'),\n  'action',\n  'throttle',\n  0): 0.0,\n ('VB7',\n  'wang-cheng',\n  Timestamp('2023-08-04 11:22:49.017377'),\n  Timestamp('2023-08-04 13:22:49.017377'),\n  'action',\n  'throttle',\n  1): 0.25,\n ('VB7',\n  'wang-cheng',\n  Timestamp('2023-08-04 11:22:49.017377'),\n  Timestamp('2023-08-04 13:22:49.017377'),\n  'action',\n  'throttle',\n  2): 0.5,\n ('VB7',\n  'wang-cheng',\n  Timestamp('2023-08-04 11:22:49.017377'),\n  Timestamp('2023-08-04 13:22:49.017377'),\n  'action',\n  'throttle',\n  3): 0.75,\n ('VB7',\n  'wang-cheng',\n  Timestamp('2023-08-04 11:22:49.017377'),\n  Timestamp('2023-08-04 13:22:49.017377'),\n  'action',\n  'throttle',\n  4): 1.0,\n ('VB7',\n  'wang-cheng',\n  Timestamp('2023-08-04 11:22:49.017377'),\n  Timestamp('2023-08-04 13:22:49.017377'),\n  'action',\n  'timestep',\n  0): Timestamp('2023-08-04 11:22:49.117377'),\n ('VB7',\n  'wang-cheng',\n  Timestamp('2023-08-04 11:22:49.017377'),\n  Timestamp('2023-08-04 13:22:49.017377'),\n  'action',\n  'timestep',\n  1): Timestamp('2023-08-04 11:22:49.137377'),\n ('VB7',\n  'wang-cheng',\n  Timestamp('2023-08-04 11:22:49.017377'),\n  Timestamp('2023-08-04 13:22:49.017377'),\n  'action',\n  'timestep',\n  2): Timestamp('2023-08-04 11:22:49.157377'),\n ('VB7',\n  'wang-cheng',\n  Timestamp('2023-08-04 11:22:49.017377'),\n  Timestamp('2023-08-04 13:22:49.017377'),\n  'nstate',\n  'brake',\n  0): 37.0,\n ('VB7',\n  'wang-cheng',\n  Timestamp('2023-08-04 11:22:49.017377'),\n  Timestamp('2023-08-04 13:22:49.017377'),\n  'nstate',\n  'brake',\n  1): 38.0,\n ('VB7',\n  'wang-cheng',\n  Timestamp('2023-08-04 11:22:49.017377'),\n  Timestamp('2023-08-04 13:22:49.017377'),\n  'nstate',\n  'brake',\n  2): 39.0,\n ('VB7',\n  'wang-cheng',\n  Timestamp('2023-08-04 11:22:49.017377'),\n  Timestamp('2023-08-04 13:22:49.017377'),\n  'nstate',\n  'brake',\n  3): 40.0,\n ('VB7',\n  'wang-cheng',\n  Timestamp('2023-08-04 11:22:49.017377'),\n  Timestamp('2023-08-04 13:22:49.017377'),\n  'nstate',\n  'thrust',\n  0): 33.0,\n ('VB7',\n  'wang-cheng',\n  Timestamp('2023-08-04 11:22:49.017377'),\n  Timestamp('2023-08-04 13:22:49.017377'),\n  'nstate',\n  'thrust',\n  1): 34.0,\n ('VB7',\n  'wang-cheng',\n  Timestamp('2023-08-04 11:22:49.017377'),\n  Timestamp('2023-08-04 13:22:49.017377'),\n  'nstate',\n  'thrust',\n  2): 35.0,\n ('VB7',\n  'wang-cheng',\n  Timestamp('2023-08-04 11:22:49.017377'),\n  Timestamp('2023-08-04 13:22:49.017377'),\n  'nstate',\n  'thrust',\n  3): 36.0,\n ('VB7',\n  'wang-cheng',\n  Timestamp('2023-08-04 11:22:49.017377'),\n  Timestamp('2023-08-04 13:22:49.017377'),\n  'nstate',\n  'timestep',\n  0): Timestamp('2023-08-04 11:22:54.017377'),\n ('VB7',\n  'wang-cheng',\n  Timestamp('2023-08-04 11:22:49.017377'),\n  Timestamp('2023-08-04 13:22:49.017377'),\n  'nstate',\n  'timestep',\n  1): Timestamp('2023-08-04 11:22:54.037377'),\n ('VB7',\n  'wang-cheng',\n  Timestamp('2023-08-04 11:22:49.017377'),\n  Timestamp('2023-08-04 13:22:49.017377'),\n  'nstate',\n  'timestep',\n  2): Timestamp('2023-08-04 11:22:54.057377'),\n ('VB7',\n  'wang-cheng',\n  Timestamp('2023-08-04 11:22:49.017377'),\n  Timestamp('2023-08-04 13:22:49.017377'),\n  'nstate',\n  'timestep',\n  3): Timestamp('2023-08-04 11:22:54.077377'),\n ('VB7',\n  'wang-cheng',\n  Timestamp('2023-08-04 11:22:49.017377'),\n  Timestamp('2023-08-04 13:22:49.017377'),\n  'nstate',\n  'velocity',\n  0): 29.0,\n ('VB7',\n  'wang-cheng',\n  Timestamp('2023-08-04 11:22:49.017377'),\n  Timestamp('2023-08-04 13:22:49.017377'),\n  'nstate',\n  'velocity',\n  1): 30.0,\n ('VB7',\n  'wang-cheng',\n  Timestamp('2023-08-04 11:22:49.017377'),\n  Timestamp('2023-08-04 13:22:49.017377'),\n  'nstate',\n  'velocity',\n  2): 31.0,\n ('VB7',\n  'wang-cheng',\n  Timestamp('2023-08-04 11:22:49.017377'),\n  Timestamp('2023-08-04 13:22:49.017377'),\n  'nstate',\n  'velocity',\n  3): 32.0,\n ('VB7',\n  'wang-cheng',\n  Timestamp('2023-08-04 11:22:49.017377'),\n  Timestamp('2023-08-04 13:22:49.017377'),\n  'reward',\n  'timestep',\n  0): Timestamp('2023-08-04 11:22:49.117377'),\n ('VB7',\n  'wang-cheng',\n  Timestamp('2023-08-04 11:22:49.017377'),\n  Timestamp('2023-08-04 13:22:49.017377'),\n  'reward',\n  'work',\n  0): 27.0,\n ('VB7',\n  'wang-cheng',\n  Timestamp('2023-08-04 11:22:49.017377'),\n  Timestamp('2023-08-04 13:22:49.017377'),\n  'state',\n  'brake',\n  0): 8.0,\n ('VB7',\n  'wang-cheng',\n  Timestamp('2023-08-04 11:22:49.017377'),\n  Timestamp('2023-08-04 13:22:49.017377'),\n  'state',\n  'brake',\n  1): 9.0,\n ('VB7',\n  'wang-cheng',\n  Timestamp('2023-08-04 11:22:49.017377'),\n  Timestamp('2023-08-04 13:22:49.017377'),\n  'state',\n  'brake',\n  2): 10.0,\n ('VB7',\n  'wang-cheng',\n  Timestamp('2023-08-04 11:22:49.017377'),\n  Timestamp('2023-08-04 13:22:49.017377'),\n  'state',\n  'brake',\n  3): 11.0,\n ('VB7',\n  'wang-cheng',\n  Timestamp('2023-08-04 11:22:49.017377'),\n  Timestamp('2023-08-04 13:22:49.017377'),\n  'state',\n  'thrust',\n  0): 4.0,\n ('VB7',\n  'wang-cheng',\n  Timestamp('2023-08-04 11:22:49.017377'),\n  Timestamp('2023-08-04 13:22:49.017377'),\n  'state',\n  'thrust',\n  1): 5.0,\n ('VB7',\n  'wang-cheng',\n  Timestamp('2023-08-04 11:22:49.017377'),\n  Timestamp('2023-08-04 13:22:49.017377'),\n  'state',\n  'thrust',\n  2): 6.0,\n ('VB7',\n  'wang-cheng',\n  Timestamp('2023-08-04 11:22:49.017377'),\n  Timestamp('2023-08-04 13:22:49.017377'),\n  'state',\n  'thrust',\n  3): 7.0,\n ('VB7',\n  'wang-cheng',\n  Timestamp('2023-08-04 11:22:49.017377'),\n  Timestamp('2023-08-04 13:22:49.017377'),\n  'state',\n  'timestep',\n  0): Timestamp('2023-08-04 11:22:49.017377'),\n ('VB7',\n  'wang-cheng',\n  Timestamp('2023-08-04 11:22:49.017377'),\n  Timestamp('2023-08-04 13:22:49.017377'),\n  'state',\n  'timestep',\n  1): Timestamp('2023-08-04 11:22:49.037377'),\n ('VB7',\n  'wang-cheng',\n  Timestamp('2023-08-04 11:22:49.017377'),\n  Timestamp('2023-08-04 13:22:49.017377'),\n  'state',\n  'timestep',\n  2): Timestamp('2023-08-04 11:22:49.057377'),\n ('VB7',\n  'wang-cheng',\n  Timestamp('2023-08-04 11:22:49.017377'),\n  Timestamp('2023-08-04 13:22:49.017377'),\n  'state',\n  'timestep',\n  3): Timestamp('2023-08-04 11:22:49.077377'),\n ('VB7',\n  'wang-cheng',\n  Timestamp('2023-08-04 11:22:49.017377'),\n  Timestamp('2023-08-04 13:22:49.017377'),\n  'state',\n  'velocity',\n  0): 0.0,\n ('VB7',\n  'wang-cheng',\n  Timestamp('2023-08-04 11:22:49.017377'),\n  Timestamp('2023-08-04 13:22:49.017377'),\n  'state',\n  'velocity',\n  1): 1.0,\n ('VB7',\n  'wang-cheng',\n  Timestamp('2023-08-04 11:22:49.017377'),\n  Timestamp('2023-08-04 13:22:49.017377'),\n  'state',\n  'velocity',\n  2): 2.0,\n ('VB7',\n  'wang-cheng',\n  Timestamp('2023-08-04 11:22:49.017377'),\n  Timestamp('2023-08-04 13:22:49.017377'),\n  'state',\n  'velocity',\n  3): 3.0,\n ('VB7',\n  'wang-cheng',\n  Timestamp('2023-08-04 11:22:49.017377'),\n  Timestamp('2023-08-04 14:22:49.017377'),\n  'action',\n  'r0',\n  0): 12.0,\n ('VB7',\n  'wang-cheng',\n  Timestamp('2023-08-04 11:22:49.017377'),\n  Timestamp('2023-08-04 14:22:49.017377'),\n  'action',\n  'r0',\n  1): 13.0,\n ('VB7',\n  'wang-cheng',\n  Timestamp('2023-08-04 11:22:49.017377'),\n  Timestamp('2023-08-04 14:22:49.017377'),\n  'action',\n  'r0',\n  2): 14.0,\n ('VB7',\n  'wang-cheng',\n  Timestamp('2023-08-04 11:22:49.017377'),\n  Timestamp('2023-08-04 14:22:49.017377'),\n  'action',\n  'r0',\n  3): 15.0,\n ('VB7',\n  'wang-cheng',\n  Timestamp('2023-08-04 11:22:49.017377'),\n  Timestamp('2023-08-04 14:22:49.017377'),\n  'action',\n  'r0',\n  4): 16.0,\n ('VB7',\n  'wang-cheng',\n  Timestamp('2023-08-04 11:22:49.017377'),\n  Timestamp('2023-08-04 14:22:49.017377'),\n  'action',\n  'r1',\n  0): 17.0,\n ('VB7',\n  'wang-cheng',\n  Timestamp('2023-08-04 11:22:49.017377'),\n  Timestamp('2023-08-04 14:22:49.017377'),\n  'action',\n  'r1',\n  1): 18.0,\n ('VB7',\n  'wang-cheng',\n  Timestamp('2023-08-04 11:22:49.017377'),\n  Timestamp('2023-08-04 14:22:49.017377'),\n  'action',\n  'r1',\n  2): 19.0,\n ('VB7',\n  'wang-cheng',\n  Timestamp('2023-08-04 11:22:49.017377'),\n  Timestamp('2023-08-04 14:22:49.017377'),\n  'action',\n  'r1',\n  3): 20.0,\n ('VB7',\n  'wang-cheng',\n  Timestamp('2023-08-04 11:22:49.017377'),\n  Timestamp('2023-08-04 14:22:49.017377'),\n  'action',\n  'r1',\n  4): 21.0,\n ('VB7',\n  'wang-cheng',\n  Timestamp('2023-08-04 11:22:49.017377'),\n  Timestamp('2023-08-04 14:22:49.017377'),\n  'action',\n  'r2',\n  0): 22.0,\n ('VB7',\n  'wang-cheng',\n  Timestamp('2023-08-04 11:22:49.017377'),\n  Timestamp('2023-08-04 14:22:49.017377'),\n  'action',\n  'r2',\n  1): 23.0,\n ('VB7',\n  'wang-cheng',\n  Timestamp('2023-08-04 11:22:49.017377'),\n  Timestamp('2023-08-04 14:22:49.017377'),\n  'action',\n  'r2',\n  2): 24.0,\n ('VB7',\n  'wang-cheng',\n  Timestamp('2023-08-04 11:22:49.017377'),\n  Timestamp('2023-08-04 14:22:49.017377'),\n  'action',\n  'r2',\n  3): 25.0,\n ('VB7',\n  'wang-cheng',\n  Timestamp('2023-08-04 11:22:49.017377'),\n  Timestamp('2023-08-04 14:22:49.017377'),\n  'action',\n  'r2',\n  4): 26.0,\n ('VB7',\n  'wang-cheng',\n  Timestamp('2023-08-04 11:22:49.017377'),\n  Timestamp('2023-08-04 14:22:49.017377'),\n  'action',\n  'speed',\n  0): 40.0,\n ('VB7',\n  'wang-cheng',\n  Timestamp('2023-08-04 11:22:49.017377'),\n  Timestamp('2023-08-04 14:22:49.017377'),\n  'action',\n  'speed',\n  1): 50.0,\n ('VB7',\n  'wang-cheng',\n  Timestamp('2023-08-04 11:22:49.017377'),\n  Timestamp('2023-08-04 14:22:49.017377'),\n  'action',\n  'speed',\n  2): 60.0,\n ('VB7',\n  'wang-cheng',\n  Timestamp('2023-08-04 11:22:49.017377'),\n  Timestamp('2023-08-04 14:22:49.017377'),\n  'action',\n  'throttle',\n  0): 0.0,\n ('VB7',\n  'wang-cheng',\n  Timestamp('2023-08-04 11:22:49.017377'),\n  Timestamp('2023-08-04 14:22:49.017377'),\n  'action',\n  'throttle',\n  1): 0.25,\n ('VB7',\n  'wang-cheng',\n  Timestamp('2023-08-04 11:22:49.017377'),\n  Timestamp('2023-08-04 14:22:49.017377'),\n  'action',\n  'throttle',\n  2): 0.5,\n ('VB7',\n  'wang-cheng',\n  Timestamp('2023-08-04 11:22:49.017377'),\n  Timestamp('2023-08-04 14:22:49.017377'),\n  'action',\n  'throttle',\n  3): 0.75,\n ('VB7',\n  'wang-cheng',\n  Timestamp('2023-08-04 11:22:49.017377'),\n  Timestamp('2023-08-04 14:22:49.017377'),\n  'action',\n  'throttle',\n  4): 1.0,\n ('VB7',\n  'wang-cheng',\n  Timestamp('2023-08-04 11:22:49.017377'),\n  Timestamp('2023-08-04 14:22:49.017377'),\n  'action',\n  'timestep',\n  0): Timestamp('2023-08-04 11:22:49.117377'),\n ('VB7',\n  'wang-cheng',\n  Timestamp('2023-08-04 11:22:49.017377'),\n  Timestamp('2023-08-04 14:22:49.017377'),\n  'action',\n  'timestep',\n  1): Timestamp('2023-08-04 11:22:49.137377'),\n ('VB7',\n  'wang-cheng',\n  Timestamp('2023-08-04 11:22:49.017377'),\n  Timestamp('2023-08-04 14:22:49.017377'),\n  'action',\n  'timestep',\n  2): Timestamp('2023-08-04 11:22:49.157377'),\n ('VB7',\n  'wang-cheng',\n  Timestamp('2023-08-04 11:22:49.017377'),\n  Timestamp('2023-08-04 14:22:49.017377'),\n  'nstate',\n  'brake',\n  0): 37.0,\n ('VB7',\n  'wang-cheng',\n  Timestamp('2023-08-04 11:22:49.017377'),\n  Timestamp('2023-08-04 14:22:49.017377'),\n  'nstate',\n  'brake',\n  1): 38.0,\n ('VB7',\n  'wang-cheng',\n  Timestamp('2023-08-04 11:22:49.017377'),\n  Timestamp('2023-08-04 14:22:49.017377'),\n  'nstate',\n  'brake',\n  2): 39.0,\n ('VB7',\n  'wang-cheng',\n  Timestamp('2023-08-04 11:22:49.017377'),\n  Timestamp('2023-08-04 14:22:49.017377'),\n  'nstate',\n  'brake',\n  3): 40.0,\n ('VB7',\n  'wang-cheng',\n  Timestamp('2023-08-04 11:22:49.017377'),\n  Timestamp('2023-08-04 14:22:49.017377'),\n  'nstate',\n  'thrust',\n  0): 33.0,\n ('VB7',\n  'wang-cheng',\n  Timestamp('2023-08-04 11:22:49.017377'),\n  Timestamp('2023-08-04 14:22:49.017377'),\n  'nstate',\n  'thrust',\n  1): 34.0,\n ('VB7',\n  'wang-cheng',\n  Timestamp('2023-08-04 11:22:49.017377'),\n  Timestamp('2023-08-04 14:22:49.017377'),\n  'nstate',\n  'thrust',\n  2): 35.0,\n ('VB7',\n  'wang-cheng',\n  Timestamp('2023-08-04 11:22:49.017377'),\n  Timestamp('2023-08-04 14:22:49.017377'),\n  'nstate',\n  'thrust',\n  3): 36.0,\n ('VB7',\n  'wang-cheng',\n  Timestamp('2023-08-04 11:22:49.017377'),\n  Timestamp('2023-08-04 14:22:49.017377'),\n  'nstate',\n  'timestep',\n  0): Timestamp('2023-08-04 11:22:54.017377'),\n ('VB7',\n  'wang-cheng',\n  Timestamp('2023-08-04 11:22:49.017377'),\n  Timestamp('2023-08-04 14:22:49.017377'),\n  'nstate',\n  'timestep',\n  1): Timestamp('2023-08-04 11:22:54.037377'),\n ('VB7',\n  'wang-cheng',\n  Timestamp('2023-08-04 11:22:49.017377'),\n  Timestamp('2023-08-04 14:22:49.017377'),\n  'nstate',\n  'timestep',\n  2): Timestamp('2023-08-04 11:22:54.057377'),\n ('VB7',\n  'wang-cheng',\n  Timestamp('2023-08-04 11:22:49.017377'),\n  Timestamp('2023-08-04 14:22:49.017377'),\n  'nstate',\n  'timestep',\n  3): Timestamp('2023-08-04 11:22:54.077377'),\n ('VB7',\n  'wang-cheng',\n  Timestamp('2023-08-04 11:22:49.017377'),\n  Timestamp('2023-08-04 14:22:49.017377'),\n  'nstate',\n  'velocity',\n  0): 29.0,\n ('VB7',\n  'wang-cheng',\n  Timestamp('2023-08-04 11:22:49.017377'),\n  Timestamp('2023-08-04 14:22:49.017377'),\n  'nstate',\n  'velocity',\n  1): 30.0,\n ('VB7',\n  'wang-cheng',\n  Timestamp('2023-08-04 11:22:49.017377'),\n  Timestamp('2023-08-04 14:22:49.017377'),\n  'nstate',\n  'velocity',\n  2): 31.0,\n ('VB7',\n  'wang-cheng',\n  Timestamp('2023-08-04 11:22:49.017377'),\n  Timestamp('2023-08-04 14:22:49.017377'),\n  'nstate',\n  'velocity',\n  3): 32.0,\n ('VB7',\n  'wang-cheng',\n  Timestamp('2023-08-04 11:22:49.017377'),\n  Timestamp('2023-08-04 14:22:49.017377'),\n  'reward',\n  'timestep',\n  0): Timestamp('2023-08-04 11:22:49.117377'),\n ('VB7',\n  'wang-cheng',\n  Timestamp('2023-08-04 11:22:49.017377'),\n  Timestamp('2023-08-04 14:22:49.017377'),\n  'reward',\n  'work',\n  0): 27.0,\n ('VB7',\n  'wang-cheng',\n  Timestamp('2023-08-04 11:22:49.017377'),\n  Timestamp('2023-08-04 14:22:49.017377'),\n  'state',\n  'brake',\n  0): 8.0,\n ('VB7',\n  'wang-cheng',\n  Timestamp('2023-08-04 11:22:49.017377'),\n  Timestamp('2023-08-04 14:22:49.017377'),\n  'state',\n  'brake',\n  1): 9.0,\n ('VB7',\n  'wang-cheng',\n  Timestamp('2023-08-04 11:22:49.017377'),\n  Timestamp('2023-08-04 14:22:49.017377'),\n  'state',\n  'brake',\n  2): 10.0,\n ('VB7',\n  'wang-cheng',\n  Timestamp('2023-08-04 11:22:49.017377'),\n  Timestamp('2023-08-04 14:22:49.017377'),\n  'state',\n  'brake',\n  3): 11.0,\n ('VB7',\n  'wang-cheng',\n  Timestamp('2023-08-04 11:22:49.017377'),\n  Timestamp('2023-08-04 14:22:49.017377'),\n  'state',\n  'thrust',\n  0): 4.0,\n ('VB7',\n  'wang-cheng',\n  Timestamp('2023-08-04 11:22:49.017377'),\n  Timestamp('2023-08-04 14:22:49.017377'),\n  'state',\n  'thrust',\n  1): 5.0,\n ('VB7',\n  'wang-cheng',\n  Timestamp('2023-08-04 11:22:49.017377'),\n  Timestamp('2023-08-04 14:22:49.017377'),\n  'state',\n  'thrust',\n  2): 6.0,\n ('VB7',\n  'wang-cheng',\n  Timestamp('2023-08-04 11:22:49.017377'),\n  Timestamp('2023-08-04 14:22:49.017377'),\n  'state',\n  'thrust',\n  3): 7.0,\n ('VB7',\n  'wang-cheng',\n  Timestamp('2023-08-04 11:22:49.017377'),\n  Timestamp('2023-08-04 14:22:49.017377'),\n  'state',\n  'timestep',\n  0): Timestamp('2023-08-04 11:22:49.017377'),\n ('VB7',\n  'wang-cheng',\n  Timestamp('2023-08-04 11:22:49.017377'),\n  Timestamp('2023-08-04 14:22:49.017377'),\n  'state',\n  'timestep',\n  1): Timestamp('2023-08-04 11:22:49.037377'),\n ('VB7',\n  'wang-cheng',\n  Timestamp('2023-08-04 11:22:49.017377'),\n  Timestamp('2023-08-04 14:22:49.017377'),\n  'state',\n  'timestep',\n  2): Timestamp('2023-08-04 11:22:49.057377'),\n ('VB7',\n  'wang-cheng',\n  Timestamp('2023-08-04 11:22:49.017377'),\n  Timestamp('2023-08-04 14:22:49.017377'),\n  'state',\n  'timestep',\n  3): Timestamp('2023-08-04 11:22:49.077377'),\n ('VB7',\n  'wang-cheng',\n  Timestamp('2023-08-04 11:22:49.017377'),\n  Timestamp('2023-08-04 14:22:49.017377'),\n  'state',\n  'velocity',\n  0): 0.0,\n ('VB7',\n  'wang-cheng',\n  Timestamp('2023-08-04 11:22:49.017377'),\n  Timestamp('2023-08-04 14:22:49.017377'),\n  'state',\n  'velocity',\n  1): 1.0,\n ('VB7',\n  'wang-cheng',\n  Timestamp('2023-08-04 11:22:49.017377'),\n  Timestamp('2023-08-04 14:22:49.017377'),\n  'state',\n  'velocity',\n  2): 2.0,\n ('VB7',\n  'wang-cheng',\n  Timestamp('2023-08-04 11:22:49.017377'),\n  Timestamp('2023-08-04 14:22:49.017377'),\n  'state',\n  'velocity',\n  3): 3.0,\n ('VB7',\n  'wang-cheng',\n  Timestamp('2023-08-04 11:22:49.017377'),\n  Timestamp('2023-08-04 15:22:49.017377'),\n  'action',\n  'r0',\n  0): 12.0,\n ('VB7',\n  'wang-cheng',\n  Timestamp('2023-08-04 11:22:49.017377'),\n  Timestamp('2023-08-04 15:22:49.017377'),\n  'action',\n  'r0',\n  1): 13.0,\n ('VB7',\n  'wang-cheng',\n  Timestamp('2023-08-04 11:22:49.017377'),\n  Timestamp('2023-08-04 15:22:49.017377'),\n  'action',\n  'r0',\n  2): 14.0,\n ('VB7',\n  'wang-cheng',\n  Timestamp('2023-08-04 11:22:49.017377'),\n  Timestamp('2023-08-04 15:22:49.017377'),\n  'action',\n  'r0',\n  3): 15.0,\n ('VB7',\n  'wang-cheng',\n  Timestamp('2023-08-04 11:22:49.017377'),\n  Timestamp('2023-08-04 15:22:49.017377'),\n  'action',\n  'r0',\n  4): 16.0,\n ('VB7',\n  'wang-cheng',\n  Timestamp('2023-08-04 11:22:49.017377'),\n  Timestamp('2023-08-04 15:22:49.017377'),\n  'action',\n  'r1',\n  0): 17.0,\n ('VB7',\n  'wang-cheng',\n  Timestamp('2023-08-04 11:22:49.017377'),\n  Timestamp('2023-08-04 15:22:49.017377'),\n  'action',\n  'r1',\n  1): 18.0,\n ('VB7',\n  'wang-cheng',\n  Timestamp('2023-08-04 11:22:49.017377'),\n  Timestamp('2023-08-04 15:22:49.017377'),\n  'action',\n  'r1',\n  2): 19.0,\n ('VB7',\n  'wang-cheng',\n  Timestamp('2023-08-04 11:22:49.017377'),\n  Timestamp('2023-08-04 15:22:49.017377'),\n  'action',\n  'r1',\n  3): 20.0,\n ('VB7',\n  'wang-cheng',\n  Timestamp('2023-08-04 11:22:49.017377'),\n  Timestamp('2023-08-04 15:22:49.017377'),\n  'action',\n  'r1',\n  4): 21.0,\n ('VB7',\n  'wang-cheng',\n  Timestamp('2023-08-04 11:22:49.017377'),\n  Timestamp('2023-08-04 15:22:49.017377'),\n  'action',\n  'r2',\n  0): 22.0,\n ('VB7',\n  'wang-cheng',\n  Timestamp('2023-08-04 11:22:49.017377'),\n  Timestamp('2023-08-04 15:22:49.017377'),\n  'action',\n  'r2',\n  1): 23.0,\n ('VB7',\n  'wang-cheng',\n  Timestamp('2023-08-04 11:22:49.017377'),\n  Timestamp('2023-08-04 15:22:49.017377'),\n  'action',\n  'r2',\n  2): 24.0,\n ('VB7',\n  'wang-cheng',\n  Timestamp('2023-08-04 11:22:49.017377'),\n  Timestamp('2023-08-04 15:22:49.017377'),\n  'action',\n  'r2',\n  3): 25.0,\n ('VB7',\n  'wang-cheng',\n  Timestamp('2023-08-04 11:22:49.017377'),\n  Timestamp('2023-08-04 15:22:49.017377'),\n  'action',\n  'r2',\n  4): 26.0,\n ('VB7',\n  'wang-cheng',\n  Timestamp('2023-08-04 11:22:49.017377'),\n  Timestamp('2023-08-04 15:22:49.017377'),\n  'action',\n  'speed',\n  0): 40.0,\n ('VB7',\n  'wang-cheng',\n  Timestamp('2023-08-04 11:22:49.017377'),\n  Timestamp('2023-08-04 15:22:49.017377'),\n  'action',\n  'speed',\n  1): 50.0,\n ('VB7',\n  'wang-cheng',\n  Timestamp('2023-08-04 11:22:49.017377'),\n  Timestamp('2023-08-04 15:22:49.017377'),\n  'action',\n  'speed',\n  2): 60.0,\n ('VB7',\n  'wang-cheng',\n  Timestamp('2023-08-04 11:22:49.017377'),\n  Timestamp('2023-08-04 15:22:49.017377'),\n  'action',\n  'throttle',\n  0): 0.0,\n ('VB7',\n  'wang-cheng',\n  Timestamp('2023-08-04 11:22:49.017377'),\n  Timestamp('2023-08-04 15:22:49.017377'),\n  'action',\n  'throttle',\n  1): 0.25,\n ('VB7',\n  'wang-cheng',\n  Timestamp('2023-08-04 11:22:49.017377'),\n  Timestamp('2023-08-04 15:22:49.017377'),\n  'action',\n  'throttle',\n  2): 0.5,\n ('VB7',\n  'wang-cheng',\n  Timestamp('2023-08-04 11:22:49.017377'),\n  Timestamp('2023-08-04 15:22:49.017377'),\n  'action',\n  'throttle',\n  3): 0.75,\n ('VB7',\n  'wang-cheng',\n  Timestamp('2023-08-04 11:22:49.017377'),\n  Timestamp('2023-08-04 15:22:49.017377'),\n  'action',\n  'throttle',\n  4): 1.0,\n ('VB7',\n  'wang-cheng',\n  Timestamp('2023-08-04 11:22:49.017377'),\n  Timestamp('2023-08-04 15:22:49.017377'),\n  'action',\n  'timestep',\n  0): Timestamp('2023-08-04 11:22:49.117377'),\n ('VB7',\n  'wang-cheng',\n  Timestamp('2023-08-04 11:22:49.017377'),\n  Timestamp('2023-08-04 15:22:49.017377'),\n  'action',\n  'timestep',\n  1): Timestamp('2023-08-04 11:22:49.137377'),\n ('VB7',\n  'wang-cheng',\n  Timestamp('2023-08-04 11:22:49.017377'),\n  Timestamp('2023-08-04 15:22:49.017377'),\n  'action',\n  'timestep',\n  2): Timestamp('2023-08-04 11:22:49.157377'),\n ('VB7',\n  'wang-cheng',\n  Timestamp('2023-08-04 11:22:49.017377'),\n  Timestamp('2023-08-04 15:22:49.017377'),\n  'nstate',\n  'brake',\n  0): 37.0,\n ('VB7',\n  'wang-cheng',\n  Timestamp('2023-08-04 11:22:49.017377'),\n  Timestamp('2023-08-04 15:22:49.017377'),\n  'nstate',\n  'brake',\n  1): 38.0,\n ('VB7',\n  'wang-cheng',\n  Timestamp('2023-08-04 11:22:49.017377'),\n  Timestamp('2023-08-04 15:22:49.017377'),\n  'nstate',\n  'brake',\n  2): 39.0,\n ('VB7',\n  'wang-cheng',\n  Timestamp('2023-08-04 11:22:49.017377'),\n  Timestamp('2023-08-04 15:22:49.017377'),\n  'nstate',\n  'brake',\n  3): 40.0,\n ('VB7',\n  'wang-cheng',\n  Timestamp('2023-08-04 11:22:49.017377'),\n  Timestamp('2023-08-04 15:22:49.017377'),\n  'nstate',\n  'thrust',\n  0): 33.0,\n ('VB7',\n  'wang-cheng',\n  Timestamp('2023-08-04 11:22:49.017377'),\n  Timestamp('2023-08-04 15:22:49.017377'),\n  'nstate',\n  'thrust',\n  1): 34.0,\n ('VB7',\n  'wang-cheng',\n  Timestamp('2023-08-04 11:22:49.017377'),\n  Timestamp('2023-08-04 15:22:49.017377'),\n  'nstate',\n  'thrust',\n  2): 35.0,\n ('VB7',\n  'wang-cheng',\n  Timestamp('2023-08-04 11:22:49.017377'),\n  Timestamp('2023-08-04 15:22:49.017377'),\n  'nstate',\n  'thrust',\n  3): 36.0,\n ('VB7',\n  'wang-cheng',\n  Timestamp('2023-08-04 11:22:49.017377'),\n  Timestamp('2023-08-04 15:22:49.017377'),\n  'nstate',\n  'timestep',\n  0): Timestamp('2023-08-04 11:22:54.017377'),\n ('VB7',\n  'wang-cheng',\n  Timestamp('2023-08-04 11:22:49.017377'),\n  Timestamp('2023-08-04 15:22:49.017377'),\n  'nstate',\n  'timestep',\n  1): Timestamp('2023-08-04 11:22:54.037377'),\n ('VB7',\n  'wang-cheng',\n  Timestamp('2023-08-04 11:22:49.017377'),\n  Timestamp('2023-08-04 15:22:49.017377'),\n  'nstate',\n  'timestep',\n  2): Timestamp('2023-08-04 11:22:54.057377'),\n ('VB7',\n  'wang-cheng',\n  Timestamp('2023-08-04 11:22:49.017377'),\n  Timestamp('2023-08-04 15:22:49.017377'),\n  'nstate',\n  'timestep',\n  3): Timestamp('2023-08-04 11:22:54.077377'),\n ('VB7',\n  'wang-cheng',\n  Timestamp('2023-08-04 11:22:49.017377'),\n  Timestamp('2023-08-04 15:22:49.017377'),\n  'nstate',\n  'velocity',\n  0): 29.0,\n ('VB7',\n  'wang-cheng',\n  Timestamp('2023-08-04 11:22:49.017377'),\n  Timestamp('2023-08-04 15:22:49.017377'),\n  'nstate',\n  'velocity',\n  1): 30.0,\n ('VB7',\n  'wang-cheng',\n  Timestamp('2023-08-04 11:22:49.017377'),\n  Timestamp('2023-08-04 15:22:49.017377'),\n  'nstate',\n  'velocity',\n  2): 31.0,\n ('VB7',\n  'wang-cheng',\n  Timestamp('2023-08-04 11:22:49.017377'),\n  Timestamp('2023-08-04 15:22:49.017377'),\n  'nstate',\n  'velocity',\n  3): 32.0,\n ('VB7',\n  'wang-cheng',\n  Timestamp('2023-08-04 11:22:49.017377'),\n  Timestamp('2023-08-04 15:22:49.017377'),\n  'reward',\n  'timestep',\n  0): Timestamp('2023-08-04 11:22:49.117377'),\n ('VB7',\n  'wang-cheng',\n  Timestamp('2023-08-04 11:22:49.017377'),\n  Timestamp('2023-08-04 15:22:49.017377'),\n  'reward',\n  'work',\n  0): 27.0,\n ('VB7',\n  'wang-cheng',\n  Timestamp('2023-08-04 11:22:49.017377'),\n  Timestamp('2023-08-04 15:22:49.017377'),\n  'state',\n  'brake',\n  0): 8.0,\n ('VB7',\n  'wang-cheng',\n  Timestamp('2023-08-04 11:22:49.017377'),\n  Timestamp('2023-08-04 15:22:49.017377'),\n  'state',\n  'brake',\n  1): 9.0,\n ('VB7',\n  'wang-cheng',\n  Timestamp('2023-08-04 11:22:49.017377'),\n  Timestamp('2023-08-04 15:22:49.017377'),\n  'state',\n  'brake',\n  2): 10.0,\n ('VB7',\n  'wang-cheng',\n  Timestamp('2023-08-04 11:22:49.017377'),\n  Timestamp('2023-08-04 15:22:49.017377'),\n  'state',\n  'brake',\n  3): 11.0,\n ('VB7',\n  'wang-cheng',\n  Timestamp('2023-08-04 11:22:49.017377'),\n  Timestamp('2023-08-04 15:22:49.017377'),\n  'state',\n  'thrust',\n  0): 4.0,\n ('VB7',\n  'wang-cheng',\n  Timestamp('2023-08-04 11:22:49.017377'),\n  Timestamp('2023-08-04 15:22:49.017377'),\n  'state',\n  'thrust',\n  1): 5.0,\n ('VB7',\n  'wang-cheng',\n  Timestamp('2023-08-04 11:22:49.017377'),\n  Timestamp('2023-08-04 15:22:49.017377'),\n  'state',\n  'thrust',\n  2): 6.0,\n ('VB7',\n  'wang-cheng',\n  Timestamp('2023-08-04 11:22:49.017377'),\n  Timestamp('2023-08-04 15:22:49.017377'),\n  'state',\n  'thrust',\n  3): 7.0,\n ('VB7',\n  'wang-cheng',\n  Timestamp('2023-08-04 11:22:49.017377'),\n  Timestamp('2023-08-04 15:22:49.017377'),\n  'state',\n  'timestep',\n  0): Timestamp('2023-08-04 11:22:49.017377'),\n ('VB7',\n  'wang-cheng',\n  Timestamp('2023-08-04 11:22:49.017377'),\n  Timestamp('2023-08-04 15:22:49.017377'),\n  'state',\n  'timestep',\n  1): Timestamp('2023-08-04 11:22:49.037377'),\n ('VB7',\n  'wang-cheng',\n  Timestamp('2023-08-04 11:22:49.017377'),\n  Timestamp('2023-08-04 15:22:49.017377'),\n  'state',\n  'timestep',\n  2): Timestamp('2023-08-04 11:22:49.057377'),\n ('VB7',\n  'wang-cheng',\n  Timestamp('2023-08-04 11:22:49.017377'),\n  Timestamp('2023-08-04 15:22:49.017377'),\n  'state',\n  'timestep',\n  3): Timestamp('2023-08-04 11:22:49.077377'),\n ('VB7',\n  'wang-cheng',\n  Timestamp('2023-08-04 11:22:49.017377'),\n  Timestamp('2023-08-04 15:22:49.017377'),\n  'state',\n  'velocity',\n  0): 0.0,\n ('VB7',\n  'wang-cheng',\n  Timestamp('2023-08-04 11:22:49.017377'),\n  Timestamp('2023-08-04 15:22:49.017377'),\n  'state',\n  'velocity',\n  1): 1.0,\n ('VB7',\n  'wang-cheng',\n  Timestamp('2023-08-04 11:22:49.017377'),\n  Timestamp('2023-08-04 15:22:49.017377'),\n  'state',\n  'velocity',\n  2): 2.0,\n ('VB7',\n  'wang-cheng',\n  Timestamp('2023-08-04 11:22:49.017377'),\n  Timestamp('2023-08-04 15:22:49.017377'),\n  'state',\n  'velocity',\n  3): 3.0,\n ('VB7',\n  'wang-cheng',\n  Timestamp('2023-08-04 11:22:49.017377'),\n  Timestamp('2023-08-04 16:22:49.017377'),\n  'action',\n  'r0',\n  0): 12.0,\n ('VB7',\n  'wang-cheng',\n  Timestamp('2023-08-04 11:22:49.017377'),\n  Timestamp('2023-08-04 16:22:49.017377'),\n  'action',\n  'r0',\n  1): 13.0,\n ('VB7',\n  'wang-cheng',\n  Timestamp('2023-08-04 11:22:49.017377'),\n  Timestamp('2023-08-04 16:22:49.017377'),\n  'action',\n  'r0',\n  2): 14.0,\n ('VB7',\n  'wang-cheng',\n  Timestamp('2023-08-04 11:22:49.017377'),\n  Timestamp('2023-08-04 16:22:49.017377'),\n  'action',\n  'r0',\n  3): 15.0,\n ('VB7',\n  'wang-cheng',\n  Timestamp('2023-08-04 11:22:49.017377'),\n  Timestamp('2023-08-04 16:22:49.017377'),\n  'action',\n  'r0',\n  4): 16.0,\n ('VB7',\n  'wang-cheng',\n  Timestamp('2023-08-04 11:22:49.017377'),\n  Timestamp('2023-08-04 16:22:49.017377'),\n  'action',\n  'r1',\n  0): 17.0,\n ('VB7',\n  'wang-cheng',\n  Timestamp('2023-08-04 11:22:49.017377'),\n  Timestamp('2023-08-04 16:22:49.017377'),\n  'action',\n  'r1',\n  1): 18.0,\n ('VB7',\n  'wang-cheng',\n  Timestamp('2023-08-04 11:22:49.017377'),\n  Timestamp('2023-08-04 16:22:49.017377'),\n  'action',\n  'r1',\n  2): 19.0,\n ('VB7',\n  'wang-cheng',\n  Timestamp('2023-08-04 11:22:49.017377'),\n  Timestamp('2023-08-04 16:22:49.017377'),\n  'action',\n  'r1',\n  3): 20.0,\n ('VB7',\n  'wang-cheng',\n  Timestamp('2023-08-04 11:22:49.017377'),\n  Timestamp('2023-08-04 16:22:49.017377'),\n  'action',\n  'r1',\n  4): 21.0,\n ('VB7',\n  'wang-cheng',\n  Timestamp('2023-08-04 11:22:49.017377'),\n  Timestamp('2023-08-04 16:22:49.017377'),\n  'action',\n  'r2',\n  0): 22.0,\n ('VB7',\n  'wang-cheng',\n  Timestamp('2023-08-04 11:22:49.017377'),\n  Timestamp('2023-08-04 16:22:49.017377'),\n  'action',\n  'r2',\n  1): 23.0,\n ('VB7',\n  'wang-cheng',\n  Timestamp('2023-08-04 11:22:49.017377'),\n  Timestamp('2023-08-04 16:22:49.017377'),\n  'action',\n  'r2',\n  2): 24.0,\n ('VB7',\n  'wang-cheng',\n  Timestamp('2023-08-04 11:22:49.017377'),\n  Timestamp('2023-08-04 16:22:49.017377'),\n  'action',\n  'r2',\n  3): 25.0,\n ('VB7',\n  'wang-cheng',\n  Timestamp('2023-08-04 11:22:49.017377'),\n  Timestamp('2023-08-04 16:22:49.017377'),\n  'action',\n  'r2',\n  4): 26.0,\n ('VB7',\n  'wang-cheng',\n  Timestamp('2023-08-04 11:22:49.017377'),\n  Timestamp('2023-08-04 16:22:49.017377'),\n  'action',\n  'speed',\n  0): 40.0,\n ('VB7',\n  'wang-cheng',\n  Timestamp('2023-08-04 11:22:49.017377'),\n  Timestamp('2023-08-04 16:22:49.017377'),\n  'action',\n  'speed',\n  1): 50.0,\n ('VB7',\n  'wang-cheng',\n  Timestamp('2023-08-04 11:22:49.017377'),\n  Timestamp('2023-08-04 16:22:49.017377'),\n  'action',\n  'speed',\n  2): 60.0,\n ('VB7',\n  'wang-cheng',\n  Timestamp('2023-08-04 11:22:49.017377'),\n  Timestamp('2023-08-04 16:22:49.017377'),\n  'action',\n  'throttle',\n  0): 0.0,\n ('VB7',\n  'wang-cheng',\n  Timestamp('2023-08-04 11:22:49.017377'),\n  Timestamp('2023-08-04 16:22:49.017377'),\n  'action',\n  'throttle',\n  1): 0.25,\n ('VB7',\n  'wang-cheng',\n  Timestamp('2023-08-04 11:22:49.017377'),\n  Timestamp('2023-08-04 16:22:49.017377'),\n  'action',\n  'throttle',\n  2): 0.5,\n ('VB7',\n  'wang-cheng',\n  Timestamp('2023-08-04 11:22:49.017377'),\n  Timestamp('2023-08-04 16:22:49.017377'),\n  'action',\n  'throttle',\n  3): 0.75,\n ('VB7',\n  'wang-cheng',\n  Timestamp('2023-08-04 11:22:49.017377'),\n  Timestamp('2023-08-04 16:22:49.017377'),\n  'action',\n  'throttle',\n  4): 1.0,\n ('VB7',\n  'wang-cheng',\n  Timestamp('2023-08-04 11:22:49.017377'),\n  Timestamp('2023-08-04 16:22:49.017377'),\n  'action',\n  'timestep',\n  0): Timestamp('2023-08-04 11:22:49.117377'),\n ('VB7',\n  'wang-cheng',\n  Timestamp('2023-08-04 11:22:49.017377'),\n  Timestamp('2023-08-04 16:22:49.017377'),\n  'action',\n  'timestep',\n  1): Timestamp('2023-08-04 11:22:49.137377'),\n ('VB7',\n  'wang-cheng',\n  Timestamp('2023-08-04 11:22:49.017377'),\n  Timestamp('2023-08-04 16:22:49.017377'),\n  'action',\n  'timestep',\n  2): Timestamp('2023-08-04 11:22:49.157377'),\n ('VB7',\n  'wang-cheng',\n  Timestamp('2023-08-04 11:22:49.017377'),\n  Timestamp('2023-08-04 16:22:49.017377'),\n  'nstate',\n  'brake',\n  0): 37.0,\n ('VB7',\n  'wang-cheng',\n  Timestamp('2023-08-04 11:22:49.017377'),\n  Timestamp('2023-08-04 16:22:49.017377'),\n  'nstate',\n  'brake',\n  1): 38.0,\n ('VB7',\n  'wang-cheng',\n  Timestamp('2023-08-04 11:22:49.017377'),\n  Timestamp('2023-08-04 16:22:49.017377'),\n  'nstate',\n  'brake',\n  2): 39.0,\n ('VB7',\n  'wang-cheng',\n  Timestamp('2023-08-04 11:22:49.017377'),\n  Timestamp('2023-08-04 16:22:49.017377'),\n  'nstate',\n  'brake',\n  3): 40.0,\n ('VB7',\n  'wang-cheng',\n  Timestamp('2023-08-04 11:22:49.017377'),\n  Timestamp('2023-08-04 16:22:49.017377'),\n  'nstate',\n  'thrust',\n  0): 33.0,\n ('VB7',\n  'wang-cheng',\n  Timestamp('2023-08-04 11:22:49.017377'),\n  Timestamp('2023-08-04 16:22:49.017377'),\n  'nstate',\n  'thrust',\n  1): 34.0,\n ('VB7',\n  'wang-cheng',\n  Timestamp('2023-08-04 11:22:49.017377'),\n  Timestamp('2023-08-04 16:22:49.017377'),\n  'nstate',\n  'thrust',\n  2): 35.0,\n ('VB7',\n  'wang-cheng',\n  Timestamp('2023-08-04 11:22:49.017377'),\n  Timestamp('2023-08-04 16:22:49.017377'),\n  'nstate',\n  'thrust',\n  3): 36.0,\n ('VB7',\n  'wang-cheng',\n  Timestamp('2023-08-04 11:22:49.017377'),\n  Timestamp('2023-08-04 16:22:49.017377'),\n  'nstate',\n  'timestep',\n  0): Timestamp('2023-08-04 11:22:54.017377'),\n ('VB7',\n  'wang-cheng',\n  Timestamp('2023-08-04 11:22:49.017377'),\n  Timestamp('2023-08-04 16:22:49.017377'),\n  'nstate',\n  'timestep',\n  1): Timestamp('2023-08-04 11:22:54.037377'),\n ('VB7',\n  'wang-cheng',\n  Timestamp('2023-08-04 11:22:49.017377'),\n  Timestamp('2023-08-04 16:22:49.017377'),\n  'nstate',\n  'timestep',\n  2): Timestamp('2023-08-04 11:22:54.057377'),\n ('VB7',\n  'wang-cheng',\n  Timestamp('2023-08-04 11:22:49.017377'),\n  Timestamp('2023-08-04 16:22:49.017377'),\n  'nstate',\n  'timestep',\n  3): Timestamp('2023-08-04 11:22:54.077377'),\n ('VB7',\n  'wang-cheng',\n  Timestamp('2023-08-04 11:22:49.017377'),\n  Timestamp('2023-08-04 16:22:49.017377'),\n  'nstate',\n  'velocity',\n  0): 29.0,\n ('VB7',\n  'wang-cheng',\n  Timestamp('2023-08-04 11:22:49.017377'),\n  Timestamp('2023-08-04 16:22:49.017377'),\n  'nstate',\n  'velocity',\n  1): 30.0,\n ('VB7',\n  'wang-cheng',\n  Timestamp('2023-08-04 11:22:49.017377'),\n  Timestamp('2023-08-04 16:22:49.017377'),\n  'nstate',\n  'velocity',\n  2): 31.0,\n ('VB7',\n  'wang-cheng',\n  Timestamp('2023-08-04 11:22:49.017377'),\n  Timestamp('2023-08-04 16:22:49.017377'),\n  'nstate',\n  'velocity',\n  3): 32.0,\n ('VB7',\n  'wang-cheng',\n  Timestamp('2023-08-04 11:22:49.017377'),\n  Timestamp('2023-08-04 16:22:49.017377'),\n  'reward',\n  'timestep',\n  0): Timestamp('2023-08-04 11:22:49.117377'),\n ('VB7',\n  'wang-cheng',\n  Timestamp('2023-08-04 11:22:49.017377'),\n  Timestamp('2023-08-04 16:22:49.017377'),\n  'reward',\n  'work',\n  0): 27.0,\n ('VB7',\n  'wang-cheng',\n  Timestamp('2023-08-04 11:22:49.017377'),\n  Timestamp('2023-08-04 16:22:49.017377'),\n  'state',\n  'brake',\n  0): 8.0,\n ('VB7',\n  'wang-cheng',\n  Timestamp('2023-08-04 11:22:49.017377'),\n  Timestamp('2023-08-04 16:22:49.017377'),\n  'state',\n  'brake',\n  1): 9.0,\n ('VB7',\n  'wang-cheng',\n  Timestamp('2023-08-04 11:22:49.017377'),\n  Timestamp('2023-08-04 16:22:49.017377'),\n  'state',\n  'brake',\n  2): 10.0,\n ('VB7',\n  'wang-cheng',\n  Timestamp('2023-08-04 11:22:49.017377'),\n  Timestamp('2023-08-04 16:22:49.017377'),\n  'state',\n  'brake',\n  3): 11.0,\n ('VB7',\n  'wang-cheng',\n  Timestamp('2023-08-04 11:22:49.017377'),\n  Timestamp('2023-08-04 16:22:49.017377'),\n  'state',\n  'thrust',\n  0): 4.0,\n ('VB7',\n  'wang-cheng',\n  Timestamp('2023-08-04 11:22:49.017377'),\n  Timestamp('2023-08-04 16:22:49.017377'),\n  'state',\n  'thrust',\n  1): 5.0,\n ('VB7',\n  'wang-cheng',\n  Timestamp('2023-08-04 11:22:49.017377'),\n  Timestamp('2023-08-04 16:22:49.017377'),\n  'state',\n  'thrust',\n  2): 6.0,\n ('VB7',\n  'wang-cheng',\n  Timestamp('2023-08-04 11:22:49.017377'),\n  Timestamp('2023-08-04 16:22:49.017377'),\n  'state',\n  'thrust',\n  3): 7.0,\n ('VB7',\n  'wang-cheng',\n  Timestamp('2023-08-04 11:22:49.017377'),\n  Timestamp('2023-08-04 16:22:49.017377'),\n  'state',\n  'timestep',\n  0): Timestamp('2023-08-04 11:22:49.017377'),\n ('VB7',\n  'wang-cheng',\n  Timestamp('2023-08-04 11:22:49.017377'),\n  Timestamp('2023-08-04 16:22:49.017377'),\n  'state',\n  'timestep',\n  1): Timestamp('2023-08-04 11:22:49.037377'),\n ('VB7',\n  'wang-cheng',\n  Timestamp('2023-08-04 11:22:49.017377'),\n  Timestamp('2023-08-04 16:22:49.017377'),\n  'state',\n  'timestep',\n  2): Timestamp('2023-08-04 11:22:49.057377'),\n ('VB7',\n  'wang-cheng',\n  Timestamp('2023-08-04 11:22:49.017377'),\n  Timestamp('2023-08-04 16:22:49.017377'),\n  'state',\n  'timestep',\n  3): Timestamp('2023-08-04 11:22:49.077377'),\n ('VB7',\n  'wang-cheng',\n  Timestamp('2023-08-04 11:22:49.017377'),\n  Timestamp('2023-08-04 16:22:49.017377'),\n  'state',\n  'velocity',\n  0): 0.0,\n ('VB7',\n  'wang-cheng',\n  Timestamp('2023-08-04 11:22:49.017377'),\n  Timestamp('2023-08-04 16:22:49.017377'),\n  'state',\n  'velocity',\n  1): 1.0,\n ('VB7',\n  'wang-cheng',\n  Timestamp('2023-08-04 11:22:49.017377'),\n  Timestamp('2023-08-04 16:22:49.017377'),\n  'state',\n  'velocity',\n  2): 2.0,\n ('VB7',\n  'wang-cheng',\n  Timestamp('2023-08-04 11:22:49.017377'),\n  Timestamp('2023-08-04 16:22:49.017377'),\n  'state',\n  'velocity',\n  3): 3.0,\n ('VB7',\n  'zheng-longfei',\n  Timestamp('2023-08-02 11:22:50.468113'),\n  Timestamp('2023-08-04 12:22:49.017377'),\n  'action',\n  'r0',\n  0): 12.0,\n ('VB7',\n  'zheng-longfei',\n  Timestamp('2023-08-02 11:22:50.468113'),\n  Timestamp('2023-08-04 12:22:49.017377'),\n  'action',\n  'r0',\n  1): 13.0,\n ('VB7',\n  'zheng-longfei',\n  Timestamp('2023-08-02 11:22:50.468113'),\n  Timestamp('2023-08-04 12:22:49.017377'),\n  'action',\n  'r0',\n  2): 14.0,\n ('VB7',\n  'zheng-longfei',\n  Timestamp('2023-08-02 11:22:50.468113'),\n  Timestamp('2023-08-04 12:22:49.017377'),\n  'action',\n  'r0',\n  3): 15.0,\n ('VB7',\n  'zheng-longfei',\n  Timestamp('2023-08-02 11:22:50.468113'),\n  Timestamp('2023-08-04 12:22:49.017377'),\n  'action',\n  'r0',\n  4): 16.0,\n ('VB7',\n  'zheng-longfei',\n  Timestamp('2023-08-02 11:22:50.468113'),\n  Timestamp('2023-08-04 12:22:49.017377'),\n  'action',\n  'r1',\n  0): 17.0,\n ('VB7',\n  'zheng-longfei',\n  Timestamp('2023-08-02 11:22:50.468113'),\n  Timestamp('2023-08-04 12:22:49.017377'),\n  'action',\n  'r1',\n  1): 18.0,\n ('VB7',\n  'zheng-longfei',\n  Timestamp('2023-08-02 11:22:50.468113'),\n  Timestamp('2023-08-04 12:22:49.017377'),\n  'action',\n  'r1',\n  2): 19.0,\n ('VB7',\n  'zheng-longfei',\n  Timestamp('2023-08-02 11:22:50.468113'),\n  Timestamp('2023-08-04 12:22:49.017377'),\n  'action',\n  'r1',\n  3): 20.0,\n ('VB7',\n  'zheng-longfei',\n  Timestamp('2023-08-02 11:22:50.468113'),\n  Timestamp('2023-08-04 12:22:49.017377'),\n  'action',\n  'r1',\n  4): 21.0,\n ('VB7',\n  'zheng-longfei',\n  Timestamp('2023-08-02 11:22:50.468113'),\n  Timestamp('2023-08-04 12:22:49.017377'),\n  'action',\n  'r2',\n  0): 22.0,\n ('VB7',\n  'zheng-longfei',\n  Timestamp('2023-08-02 11:22:50.468113'),\n  Timestamp('2023-08-04 12:22:49.017377'),\n  'action',\n  'r2',\n  1): 23.0,\n ('VB7',\n  'zheng-longfei',\n  Timestamp('2023-08-02 11:22:50.468113'),\n  Timestamp('2023-08-04 12:22:49.017377'),\n  'action',\n  'r2',\n  2): 24.0,\n ('VB7',\n  'zheng-longfei',\n  Timestamp('2023-08-02 11:22:50.468113'),\n  Timestamp('2023-08-04 12:22:49.017377'),\n  'action',\n  'r2',\n  3): 25.0,\n ('VB7',\n  'zheng-longfei',\n  Timestamp('2023-08-02 11:22:50.468113'),\n  Timestamp('2023-08-04 12:22:49.017377'),\n  'action',\n  'r2',\n  4): 26.0,\n ('VB7',\n  'zheng-longfei',\n  Timestamp('2023-08-02 11:22:50.468113'),\n  Timestamp('2023-08-04 12:22:49.017377'),\n  'action',\n  'speed',\n  0): 40.0,\n ('VB7',\n  'zheng-longfei',\n  Timestamp('2023-08-02 11:22:50.468113'),\n  Timestamp('2023-08-04 12:22:49.017377'),\n  'action',\n  'speed',\n  1): 50.0,\n ('VB7',\n  'zheng-longfei',\n  Timestamp('2023-08-02 11:22:50.468113'),\n  Timestamp('2023-08-04 12:22:49.017377'),\n  'action',\n  'speed',\n  2): 60.0,\n ('VB7',\n  'zheng-longfei',\n  Timestamp('2023-08-02 11:22:50.468113'),\n  Timestamp('2023-08-04 12:22:49.017377'),\n  'action',\n  'throttle',\n  0): 0.0,\n ('VB7',\n  'zheng-longfei',\n  Timestamp('2023-08-02 11:22:50.468113'),\n  Timestamp('2023-08-04 12:22:49.017377'),\n  'action',\n  'throttle',\n  1): 0.25,\n ('VB7',\n  'zheng-longfei',\n  Timestamp('2023-08-02 11:22:50.468113'),\n  Timestamp('2023-08-04 12:22:49.017377'),\n  'action',\n  'throttle',\n  2): 0.5,\n ('VB7',\n  'zheng-longfei',\n  Timestamp('2023-08-02 11:22:50.468113'),\n  Timestamp('2023-08-04 12:22:49.017377'),\n  'action',\n  'throttle',\n  3): 0.75,\n ('VB7',\n  'zheng-longfei',\n  Timestamp('2023-08-02 11:22:50.468113'),\n  Timestamp('2023-08-04 12:22:49.017377'),\n  'action',\n  'throttle',\n  4): 1.0,\n ('VB7',\n  'zheng-longfei',\n  Timestamp('2023-08-02 11:22:50.468113'),\n  Timestamp('2023-08-04 12:22:49.017377'),\n  'action',\n  'timestep',\n  0): Timestamp('2023-08-04 11:22:49.117377'),\n ('VB7',\n  'zheng-longfei',\n  Timestamp('2023-08-02 11:22:50.468113'),\n  Timestamp('2023-08-04 12:22:49.017377'),\n  'action',\n  'timestep',\n  1): Timestamp('2023-08-04 11:22:49.137377'),\n ('VB7',\n  'zheng-longfei',\n  Timestamp('2023-08-02 11:22:50.468113'),\n  Timestamp('2023-08-04 12:22:49.017377'),\n  'action',\n  'timestep',\n  2): Timestamp('2023-08-04 11:22:49.157377'),\n ('VB7',\n  'zheng-longfei',\n  Timestamp('2023-08-02 11:22:50.468113'),\n  Timestamp('2023-08-04 12:22:49.017377'),\n  'nstate',\n  'brake',\n  0): 37.0,\n ('VB7',\n  'zheng-longfei',\n  Timestamp('2023-08-02 11:22:50.468113'),\n  Timestamp('2023-08-04 12:22:49.017377'),\n  'nstate',\n  'brake',\n  1): 38.0,\n ('VB7',\n  'zheng-longfei',\n  Timestamp('2023-08-02 11:22:50.468113'),\n  Timestamp('2023-08-04 12:22:49.017377'),\n  'nstate',\n  'brake',\n  2): 39.0,\n ('VB7',\n  'zheng-longfei',\n  Timestamp('2023-08-02 11:22:50.468113'),\n  Timestamp('2023-08-04 12:22:49.017377'),\n  'nstate',\n  'brake',\n  3): 40.0,\n ('VB7',\n  'zheng-longfei',\n  Timestamp('2023-08-02 11:22:50.468113'),\n  Timestamp('2023-08-04 12:22:49.017377'),\n  'nstate',\n  'thrust',\n  0): 33.0,\n ('VB7',\n  'zheng-longfei',\n  Timestamp('2023-08-02 11:22:50.468113'),\n  Timestamp('2023-08-04 12:22:49.017377'),\n  'nstate',\n  'thrust',\n  1): 34.0,\n ('VB7',\n  'zheng-longfei',\n  Timestamp('2023-08-02 11:22:50.468113'),\n  Timestamp('2023-08-04 12:22:49.017377'),\n  'nstate',\n  'thrust',\n  2): 35.0,\n ('VB7',\n  'zheng-longfei',\n  Timestamp('2023-08-02 11:22:50.468113'),\n  Timestamp('2023-08-04 12:22:49.017377'),\n  'nstate',\n  'thrust',\n  3): 36.0,\n ('VB7',\n  'zheng-longfei',\n  Timestamp('2023-08-02 11:22:50.468113'),\n  Timestamp('2023-08-04 12:22:49.017377'),\n  'nstate',\n  'timestep',\n  0): Timestamp('2023-08-04 11:22:54.017377'),\n ('VB7',\n  'zheng-longfei',\n  Timestamp('2023-08-02 11:22:50.468113'),\n  Timestamp('2023-08-04 12:22:49.017377'),\n  'nstate',\n  'timestep',\n  1): Timestamp('2023-08-04 11:22:54.037377'),\n ('VB7',\n  'zheng-longfei',\n  Timestamp('2023-08-02 11:22:50.468113'),\n  Timestamp('2023-08-04 12:22:49.017377'),\n  'nstate',\n  'timestep',\n  2): Timestamp('2023-08-04 11:22:54.057377'),\n ('VB7',\n  'zheng-longfei',\n  Timestamp('2023-08-02 11:22:50.468113'),\n  Timestamp('2023-08-04 12:22:49.017377'),\n  'nstate',\n  'timestep',\n  3): Timestamp('2023-08-04 11:22:54.077377'),\n ('VB7',\n  'zheng-longfei',\n  Timestamp('2023-08-02 11:22:50.468113'),\n  Timestamp('2023-08-04 12:22:49.017377'),\n  'nstate',\n  'velocity',\n  0): 29.0,\n ('VB7',\n  'zheng-longfei',\n  Timestamp('2023-08-02 11:22:50.468113'),\n  Timestamp('2023-08-04 12:22:49.017377'),\n  'nstate',\n  'velocity',\n  1): 30.0,\n ('VB7',\n  'zheng-longfei',\n  Timestamp('2023-08-02 11:22:50.468113'),\n  Timestamp('2023-08-04 12:22:49.017377'),\n  'nstate',\n  'velocity',\n  2): 31.0,\n ('VB7',\n  'zheng-longfei',\n  Timestamp('2023-08-02 11:22:50.468113'),\n  Timestamp('2023-08-04 12:22:49.017377'),\n  'nstate',\n  'velocity',\n  3): 32.0,\n ('VB7',\n  'zheng-longfei',\n  Timestamp('2023-08-02 11:22:50.468113'),\n  Timestamp('2023-08-04 12:22:49.017377'),\n  'reward',\n  'timestep',\n  0): Timestamp('2023-08-04 11:22:49.117377'),\n ('VB7',\n  'zheng-longfei',\n  Timestamp('2023-08-02 11:22:50.468113'),\n  Timestamp('2023-08-04 12:22:49.017377'),\n  'reward',\n  'work',\n  0): 27.0,\n ('VB7',\n  'zheng-longfei',\n  Timestamp('2023-08-02 11:22:50.468113'),\n  Timestamp('2023-08-04 12:22:49.017377'),\n  'state',\n  'brake',\n  0): 8.0,\n ('VB7',\n  'zheng-longfei',\n  Timestamp('2023-08-02 11:22:50.468113'),\n  Timestamp('2023-08-04 12:22:49.017377'),\n  'state',\n  'brake',\n  1): 9.0,\n ('VB7',\n  'zheng-longfei',\n  Timestamp('2023-08-02 11:22:50.468113'),\n  Timestamp('2023-08-04 12:22:49.017377'),\n  'state',\n  'brake',\n  2): 10.0,\n ('VB7',\n  'zheng-longfei',\n  Timestamp('2023-08-02 11:22:50.468113'),\n  Timestamp('2023-08-04 12:22:49.017377'),\n  'state',\n  'brake',\n  3): 11.0,\n ('VB7',\n  'zheng-longfei',\n  Timestamp('2023-08-02 11:22:50.468113'),\n  Timestamp('2023-08-04 12:22:49.017377'),\n  'state',\n  'thrust',\n  0): 4.0,\n ('VB7',\n  'zheng-longfei',\n  Timestamp('2023-08-02 11:22:50.468113'),\n  Timestamp('2023-08-04 12:22:49.017377'),\n  'state',\n  'thrust',\n  1): 5.0,\n ('VB7',\n  'zheng-longfei',\n  Timestamp('2023-08-02 11:22:50.468113'),\n  Timestamp('2023-08-04 12:22:49.017377'),\n  'state',\n  'thrust',\n  2): 6.0,\n ('VB7',\n  'zheng-longfei',\n  Timestamp('2023-08-02 11:22:50.468113'),\n  Timestamp('2023-08-04 12:22:49.017377'),\n  'state',\n  'thrust',\n  3): 7.0,\n ('VB7',\n  'zheng-longfei',\n  Timestamp('2023-08-02 11:22:50.468113'),\n  Timestamp('2023-08-04 12:22:49.017377'),\n  'state',\n  'timestep',\n  0): Timestamp('2023-08-04 11:22:49.017377'),\n ('VB7',\n  'zheng-longfei',\n  Timestamp('2023-08-02 11:22:50.468113'),\n  Timestamp('2023-08-04 12:22:49.017377'),\n  'state',\n  'timestep',\n  1): Timestamp('2023-08-04 11:22:49.037377'),\n ('VB7',\n  'zheng-longfei',\n  Timestamp('2023-08-02 11:22:50.468113'),\n  Timestamp('2023-08-04 12:22:49.017377'),\n  'state',\n  'timestep',\n  2): Timestamp('2023-08-04 11:22:49.057377'),\n ('VB7',\n  'zheng-longfei',\n  Timestamp('2023-08-02 11:22:50.468113'),\n  Timestamp('2023-08-04 12:22:49.017377'),\n  'state',\n  'timestep',\n  3): Timestamp('2023-08-04 11:22:49.077377'),\n ('VB7',\n  'zheng-longfei',\n  Timestamp('2023-08-02 11:22:50.468113'),\n  Timestamp('2023-08-04 12:22:49.017377'),\n  'state',\n  'velocity',\n  0): 0.0,\n ('VB7',\n  'zheng-longfei',\n  Timestamp('2023-08-02 11:22:50.468113'),\n  Timestamp('2023-08-04 12:22:49.017377'),\n  'state',\n  'velocity',\n  1): 1.0,\n ('VB7',\n  'zheng-longfei',\n  Timestamp('2023-08-02 11:22:50.468113'),\n  Timestamp('2023-08-04 12:22:49.017377'),\n  'state',\n  'velocity',\n  2): 2.0,\n ('VB7',\n  'zheng-longfei',\n  Timestamp('2023-08-02 11:22:50.468113'),\n  Timestamp('2023-08-04 12:22:49.017377'),\n  'state',\n  'velocity',\n  3): 3.0,\n ('VB7',\n  'zheng-longfei',\n  Timestamp('2023-08-02 11:22:50.468113'),\n  Timestamp('2023-08-04 13:22:49.017377'),\n  'action',\n  'r0',\n  0): 12.0,\n ('VB7',\n  'zheng-longfei',\n  Timestamp('2023-08-02 11:22:50.468113'),\n  Timestamp('2023-08-04 13:22:49.017377'),\n  'action',\n  'r0',\n  1): 13.0,\n ('VB7',\n  'zheng-longfei',\n  Timestamp('2023-08-02 11:22:50.468113'),\n  Timestamp('2023-08-04 13:22:49.017377'),\n  'action',\n  'r0',\n  2): 14.0,\n ('VB7',\n  'zheng-longfei',\n  Timestamp('2023-08-02 11:22:50.468113'),\n  Timestamp('2023-08-04 13:22:49.017377'),\n  'action',\n  'r0',\n  3): 15.0,\n ('VB7',\n  'zheng-longfei',\n  Timestamp('2023-08-02 11:22:50.468113'),\n  Timestamp('2023-08-04 13:22:49.017377'),\n  'action',\n  'r0',\n  4): 16.0,\n ('VB7',\n  'zheng-longfei',\n  Timestamp('2023-08-02 11:22:50.468113'),\n  Timestamp('2023-08-04 13:22:49.017377'),\n  'action',\n  'r1',\n  0): 17.0,\n ('VB7',\n  'zheng-longfei',\n  Timestamp('2023-08-02 11:22:50.468113'),\n  Timestamp('2023-08-04 13:22:49.017377'),\n  'action',\n  'r1',\n  1): 18.0,\n ('VB7',\n  'zheng-longfei',\n  Timestamp('2023-08-02 11:22:50.468113'),\n  Timestamp('2023-08-04 13:22:49.017377'),\n  'action',\n  'r1',\n  2): 19.0,\n ('VB7',\n  'zheng-longfei',\n  Timestamp('2023-08-02 11:22:50.468113'),\n  Timestamp('2023-08-04 13:22:49.017377'),\n  'action',\n  'r1',\n  3): 20.0,\n ('VB7',\n  'zheng-longfei',\n  Timestamp('2023-08-02 11:22:50.468113'),\n  Timestamp('2023-08-04 13:22:49.017377'),\n  'action',\n  'r1',\n  4): 21.0,\n ('VB7',\n  'zheng-longfei',\n  Timestamp('2023-08-02 11:22:50.468113'),\n  Timestamp('2023-08-04 13:22:49.017377'),\n  'action',\n  'r2',\n  0): 22.0,\n ('VB7',\n  'zheng-longfei',\n  Timestamp('2023-08-02 11:22:50.468113'),\n  Timestamp('2023-08-04 13:22:49.017377'),\n  'action',\n  'r2',\n  1): 23.0,\n ('VB7',\n  'zheng-longfei',\n  Timestamp('2023-08-02 11:22:50.468113'),\n  Timestamp('2023-08-04 13:22:49.017377'),\n  'action',\n  'r2',\n  2): 24.0,\n ('VB7',\n  'zheng-longfei',\n  Timestamp('2023-08-02 11:22:50.468113'),\n  Timestamp('2023-08-04 13:22:49.017377'),\n  'action',\n  'r2',\n  3): 25.0,\n ('VB7',\n  'zheng-longfei',\n  Timestamp('2023-08-02 11:22:50.468113'),\n  Timestamp('2023-08-04 13:22:49.017377'),\n  'action',\n  'r2',\n  4): 26.0,\n ('VB7',\n  'zheng-longfei',\n  Timestamp('2023-08-02 11:22:50.468113'),\n  Timestamp('2023-08-04 13:22:49.017377'),\n  'action',\n  'speed',\n  0): 40.0,\n ('VB7',\n  'zheng-longfei',\n  Timestamp('2023-08-02 11:22:50.468113'),\n  Timestamp('2023-08-04 13:22:49.017377'),\n  'action',\n  'speed',\n  1): 50.0,\n ('VB7',\n  'zheng-longfei',\n  Timestamp('2023-08-02 11:22:50.468113'),\n  Timestamp('2023-08-04 13:22:49.017377'),\n  'action',\n  'speed',\n  2): 60.0,\n ('VB7',\n  'zheng-longfei',\n  Timestamp('2023-08-02 11:22:50.468113'),\n  Timestamp('2023-08-04 13:22:49.017377'),\n  'action',\n  'throttle',\n  0): 0.0,\n ('VB7',\n  'zheng-longfei',\n  Timestamp('2023-08-02 11:22:50.468113'),\n  Timestamp('2023-08-04 13:22:49.017377'),\n  'action',\n  'throttle',\n  1): 0.25,\n ('VB7',\n  'zheng-longfei',\n  Timestamp('2023-08-02 11:22:50.468113'),\n  Timestamp('2023-08-04 13:22:49.017377'),\n  'action',\n  'throttle',\n  2): 0.5,\n ('VB7',\n  'zheng-longfei',\n  Timestamp('2023-08-02 11:22:50.468113'),\n  Timestamp('2023-08-04 13:22:49.017377'),\n  'action',\n  'throttle',\n  3): 0.75,\n ('VB7',\n  'zheng-longfei',\n  Timestamp('2023-08-02 11:22:50.468113'),\n  Timestamp('2023-08-04 13:22:49.017377'),\n  'action',\n  'throttle',\n  4): 1.0,\n ('VB7',\n  'zheng-longfei',\n  Timestamp('2023-08-02 11:22:50.468113'),\n  Timestamp('2023-08-04 13:22:49.017377'),\n  'action',\n  'timestep',\n  0): Timestamp('2023-08-04 11:22:49.117377'),\n ('VB7',\n  'zheng-longfei',\n  Timestamp('2023-08-02 11:22:50.468113'),\n  Timestamp('2023-08-04 13:22:49.017377'),\n  'action',\n  'timestep',\n  1): Timestamp('2023-08-04 11:22:49.137377'),\n ('VB7',\n  'zheng-longfei',\n  Timestamp('2023-08-02 11:22:50.468113'),\n  Timestamp('2023-08-04 13:22:49.017377'),\n  'action',\n  'timestep',\n  2): Timestamp('2023-08-04 11:22:49.157377'),\n ('VB7',\n  'zheng-longfei',\n  Timestamp('2023-08-02 11:22:50.468113'),\n  Timestamp('2023-08-04 13:22:49.017377'),\n  'nstate',\n  'brake',\n  0): 37.0,\n ('VB7',\n  'zheng-longfei',\n  Timestamp('2023-08-02 11:22:50.468113'),\n  Timestamp('2023-08-04 13:22:49.017377'),\n  'nstate',\n  'brake',\n  1): 38.0,\n ('VB7',\n  'zheng-longfei',\n  Timestamp('2023-08-02 11:22:50.468113'),\n  Timestamp('2023-08-04 13:22:49.017377'),\n  'nstate',\n  'brake',\n  2): 39.0,\n ('VB7',\n  'zheng-longfei',\n  Timestamp('2023-08-02 11:22:50.468113'),\n  Timestamp('2023-08-04 13:22:49.017377'),\n  'nstate',\n  'brake',\n  3): 40.0,\n ('VB7',\n  'zheng-longfei',\n  Timestamp('2023-08-02 11:22:50.468113'),\n  Timestamp('2023-08-04 13:22:49.017377'),\n  'nstate',\n  'thrust',\n  0): 33.0,\n ('VB7',\n  'zheng-longfei',\n  Timestamp('2023-08-02 11:22:50.468113'),\n  Timestamp('2023-08-04 13:22:49.017377'),\n  'nstate',\n  'thrust',\n  1): 34.0,\n ('VB7',\n  'zheng-longfei',\n  Timestamp('2023-08-02 11:22:50.468113'),\n  Timestamp('2023-08-04 13:22:49.017377'),\n  'nstate',\n  'thrust',\n  2): 35.0,\n ('VB7',\n  'zheng-longfei',\n  Timestamp('2023-08-02 11:22:50.468113'),\n  Timestamp('2023-08-04 13:22:49.017377'),\n  'nstate',\n  'thrust',\n  3): 36.0,\n ('VB7',\n  'zheng-longfei',\n  Timestamp('2023-08-02 11:22:50.468113'),\n  Timestamp('2023-08-04 13:22:49.017377'),\n  'nstate',\n  'timestep',\n  0): Timestamp('2023-08-04 11:22:54.017377'),\n ('VB7',\n  'zheng-longfei',\n  Timestamp('2023-08-02 11:22:50.468113'),\n  Timestamp('2023-08-04 13:22:49.017377'),\n  'nstate',\n  'timestep',\n  1): Timestamp('2023-08-04 11:22:54.037377'),\n ('VB7',\n  'zheng-longfei',\n  Timestamp('2023-08-02 11:22:50.468113'),\n  Timestamp('2023-08-04 13:22:49.017377'),\n  'nstate',\n  'timestep',\n  2): Timestamp('2023-08-04 11:22:54.057377'),\n ('VB7',\n  'zheng-longfei',\n  Timestamp('2023-08-02 11:22:50.468113'),\n  Timestamp('2023-08-04 13:22:49.017377'),\n  'nstate',\n  'timestep',\n  3): Timestamp('2023-08-04 11:22:54.077377'),\n ('VB7',\n  'zheng-longfei',\n  Timestamp('2023-08-02 11:22:50.468113'),\n  Timestamp('2023-08-04 13:22:49.017377'),\n  'nstate',\n  'velocity',\n  0): 29.0,\n ('VB7',\n  'zheng-longfei',\n  Timestamp('2023-08-02 11:22:50.468113'),\n  Timestamp('2023-08-04 13:22:49.017377'),\n  'nstate',\n  'velocity',\n  1): 30.0,\n ('VB7',\n  'zheng-longfei',\n  Timestamp('2023-08-02 11:22:50.468113'),\n  Timestamp('2023-08-04 13:22:49.017377'),\n  'nstate',\n  'velocity',\n  2): 31.0,\n ('VB7',\n  'zheng-longfei',\n  Timestamp('2023-08-02 11:22:50.468113'),\n  Timestamp('2023-08-04 13:22:49.017377'),\n  'nstate',\n  'velocity',\n  3): 32.0,\n ('VB7',\n  'zheng-longfei',\n  Timestamp('2023-08-02 11:22:50.468113'),\n  Timestamp('2023-08-04 13:22:49.017377'),\n  'reward',\n  'timestep',\n  0): Timestamp('2023-08-04 11:22:49.117377'),\n ('VB7',\n  'zheng-longfei',\n  Timestamp('2023-08-02 11:22:50.468113'),\n  Timestamp('2023-08-04 13:22:49.017377'),\n  'reward',\n  'work',\n  0): 27.0,\n ('VB7',\n  'zheng-longfei',\n  Timestamp('2023-08-02 11:22:50.468113'),\n  Timestamp('2023-08-04 13:22:49.017377'),\n  'state',\n  'brake',\n  0): 8.0,\n ('VB7',\n  'zheng-longfei',\n  Timestamp('2023-08-02 11:22:50.468113'),\n  Timestamp('2023-08-04 13:22:49.017377'),\n  'state',\n  'brake',\n  1): 9.0,\n ('VB7',\n  'zheng-longfei',\n  Timestamp('2023-08-02 11:22:50.468113'),\n  Timestamp('2023-08-04 13:22:49.017377'),\n  'state',\n  'brake',\n  2): 10.0,\n ('VB7',\n  'zheng-longfei',\n  Timestamp('2023-08-02 11:22:50.468113'),\n  Timestamp('2023-08-04 13:22:49.017377'),\n  'state',\n  'brake',\n  3): 11.0,\n ('VB7',\n  'zheng-longfei',\n  Timestamp('2023-08-02 11:22:50.468113'),\n  Timestamp('2023-08-04 13:22:49.017377'),\n  'state',\n  'thrust',\n  0): 4.0,\n ('VB7',\n  'zheng-longfei',\n  Timestamp('2023-08-02 11:22:50.468113'),\n  Timestamp('2023-08-04 13:22:49.017377'),\n  'state',\n  'thrust',\n  1): 5.0,\n ('VB7',\n  'zheng-longfei',\n  Timestamp('2023-08-02 11:22:50.468113'),\n  Timestamp('2023-08-04 13:22:49.017377'),\n  'state',\n  'thrust',\n  2): 6.0,\n ('VB7',\n  'zheng-longfei',\n  Timestamp('2023-08-02 11:22:50.468113'),\n  Timestamp('2023-08-04 13:22:49.017377'),\n  'state',\n  'thrust',\n  3): 7.0,\n ('VB7',\n  'zheng-longfei',\n  Timestamp('2023-08-02 11:22:50.468113'),\n  Timestamp('2023-08-04 13:22:49.017377'),\n  'state',\n  'timestep',\n  0): Timestamp('2023-08-04 11:22:49.017377'),\n ('VB7',\n  'zheng-longfei',\n  Timestamp('2023-08-02 11:22:50.468113'),\n  Timestamp('2023-08-04 13:22:49.017377'),\n  'state',\n  'timestep',\n  1): Timestamp('2023-08-04 11:22:49.037377'),\n ('VB7',\n  'zheng-longfei',\n  Timestamp('2023-08-02 11:22:50.468113'),\n  Timestamp('2023-08-04 13:22:49.017377'),\n  'state',\n  'timestep',\n  2): Timestamp('2023-08-04 11:22:49.057377'),\n ('VB7',\n  'zheng-longfei',\n  Timestamp('2023-08-02 11:22:50.468113'),\n  Timestamp('2023-08-04 13:22:49.017377'),\n  'state',\n  'timestep',\n  3): Timestamp('2023-08-04 11:22:49.077377'),\n ('VB7',\n  'zheng-longfei',\n  Timestamp('2023-08-02 11:22:50.468113'),\n  Timestamp('2023-08-04 13:22:49.017377'),\n  'state',\n  'velocity',\n  0): 0.0,\n ('VB7',\n  'zheng-longfei',\n  Timestamp('2023-08-02 11:22:50.468113'),\n  Timestamp('2023-08-04 13:22:49.017377'),\n  'state',\n  'velocity',\n  1): 1.0,\n ('VB7',\n  'zheng-longfei',\n  Timestamp('2023-08-02 11:22:50.468113'),\n  Timestamp('2023-08-04 13:22:49.017377'),\n  'state',\n  'velocity',\n  2): 2.0,\n ('VB7',\n  'zheng-longfei',\n  Timestamp('2023-08-02 11:22:50.468113'),\n  Timestamp('2023-08-04 13:22:49.017377'),\n  'state',\n  'velocity',\n  3): 3.0,\n ('VB7',\n  'zheng-longfei',\n  Timestamp('2023-08-02 11:22:50.468113'),\n  Timestamp('2023-08-04 16:22:49.017377'),\n  'action',\n  'r0',\n  0): 12.0,\n ('VB7',\n  'zheng-longfei',\n  Timestamp('2023-08-02 11:22:50.468113'),\n  Timestamp('2023-08-04 16:22:49.017377'),\n  'action',\n  'r0',\n  1): 13.0,\n ('VB7',\n  'zheng-longfei',\n  Timestamp('2023-08-02 11:22:50.468113'),\n  Timestamp('2023-08-04 16:22:49.017377'),\n  'action',\n  'r0',\n  2): 14.0,\n ('VB7',\n  'zheng-longfei',\n  Timestamp('2023-08-02 11:22:50.468113'),\n  Timestamp('2023-08-04 16:22:49.017377'),\n  'action',\n  'r0',\n  3): 15.0,\n ('VB7',\n  'zheng-longfei',\n  Timestamp('2023-08-02 11:22:50.468113'),\n  Timestamp('2023-08-04 16:22:49.017377'),\n  'action',\n  'r0',\n  4): 16.0,\n ('VB7',\n  'zheng-longfei',\n  Timestamp('2023-08-02 11:22:50.468113'),\n  Timestamp('2023-08-04 16:22:49.017377'),\n  'action',\n  'r1',\n  0): 17.0,\n ('VB7',\n  'zheng-longfei',\n  Timestamp('2023-08-02 11:22:50.468113'),\n  Timestamp('2023-08-04 16:22:49.017377'),\n  'action',\n  'r1',\n  1): 18.0,\n ('VB7',\n  'zheng-longfei',\n  Timestamp('2023-08-02 11:22:50.468113'),\n  Timestamp('2023-08-04 16:22:49.017377'),\n  'action',\n  'r1',\n  2): 19.0,\n ('VB7',\n  'zheng-longfei',\n  Timestamp('2023-08-02 11:22:50.468113'),\n  Timestamp('2023-08-04 16:22:49.017377'),\n  'action',\n  'r1',\n  3): 20.0,\n ('VB7',\n  'zheng-longfei',\n  Timestamp('2023-08-02 11:22:50.468113'),\n  Timestamp('2023-08-04 16:22:49.017377'),\n  'action',\n  'r1',\n  4): 21.0,\n ('VB7',\n  'zheng-longfei',\n  Timestamp('2023-08-02 11:22:50.468113'),\n  Timestamp('2023-08-04 16:22:49.017377'),\n  'action',\n  'r2',\n  0): 22.0,\n ('VB7',\n  'zheng-longfei',\n  Timestamp('2023-08-02 11:22:50.468113'),\n  Timestamp('2023-08-04 16:22:49.017377'),\n  'action',\n  'r2',\n  1): 23.0,\n ('VB7',\n  'zheng-longfei',\n  Timestamp('2023-08-02 11:22:50.468113'),\n  Timestamp('2023-08-04 16:22:49.017377'),\n  'action',\n  'r2',\n  2): 24.0,\n ('VB7',\n  'zheng-longfei',\n  Timestamp('2023-08-02 11:22:50.468113'),\n  Timestamp('2023-08-04 16:22:49.017377'),\n  'action',\n  'r2',\n  3): 25.0,\n ('VB7',\n  'zheng-longfei',\n  Timestamp('2023-08-02 11:22:50.468113'),\n  Timestamp('2023-08-04 16:22:49.017377'),\n  'action',\n  'r2',\n  4): 26.0,\n ('VB7',\n  'zheng-longfei',\n  Timestamp('2023-08-02 11:22:50.468113'),\n  Timestamp('2023-08-04 16:22:49.017377'),\n  'action',\n  'speed',\n  0): 40.0,\n ('VB7',\n  'zheng-longfei',\n  Timestamp('2023-08-02 11:22:50.468113'),\n  Timestamp('2023-08-04 16:22:49.017377'),\n  'action',\n  'speed',\n  1): 50.0,\n ('VB7',\n  'zheng-longfei',\n  Timestamp('2023-08-02 11:22:50.468113'),\n  Timestamp('2023-08-04 16:22:49.017377'),\n  'action',\n  'speed',\n  2): 60.0,\n ('VB7',\n  'zheng-longfei',\n  Timestamp('2023-08-02 11:22:50.468113'),\n  Timestamp('2023-08-04 16:22:49.017377'),\n  'action',\n  'throttle',\n  0): 0.0,\n ('VB7',\n  'zheng-longfei',\n  Timestamp('2023-08-02 11:22:50.468113'),\n  Timestamp('2023-08-04 16:22:49.017377'),\n  'action',\n  'throttle',\n  1): 0.25,\n ('VB7',\n  'zheng-longfei',\n  Timestamp('2023-08-02 11:22:50.468113'),\n  Timestamp('2023-08-04 16:22:49.017377'),\n  'action',\n  'throttle',\n  2): 0.5,\n ('VB7',\n  'zheng-longfei',\n  Timestamp('2023-08-02 11:22:50.468113'),\n  Timestamp('2023-08-04 16:22:49.017377'),\n  'action',\n  'throttle',\n  3): 0.75,\n ('VB7',\n  'zheng-longfei',\n  Timestamp('2023-08-02 11:22:50.468113'),\n  Timestamp('2023-08-04 16:22:49.017377'),\n  'action',\n  'throttle',\n  4): 1.0,\n ('VB7',\n  'zheng-longfei',\n  Timestamp('2023-08-02 11:22:50.468113'),\n  Timestamp('2023-08-04 16:22:49.017377'),\n  'action',\n  'timestep',\n  0): Timestamp('2023-08-04 11:22:49.117377'),\n ('VB7',\n  'zheng-longfei',\n  Timestamp('2023-08-02 11:22:50.468113'),\n  Timestamp('2023-08-04 16:22:49.017377'),\n  'action',\n  'timestep',\n  1): Timestamp('2023-08-04 11:22:49.137377'),\n ('VB7',\n  'zheng-longfei',\n  Timestamp('2023-08-02 11:22:50.468113'),\n  Timestamp('2023-08-04 16:22:49.017377'),\n  'action',\n  'timestep',\n  2): Timestamp('2023-08-04 11:22:49.157377'),\n ('VB7',\n  'zheng-longfei',\n  Timestamp('2023-08-02 11:22:50.468113'),\n  Timestamp('2023-08-04 16:22:49.017377'),\n  'nstate',\n  'brake',\n  0): 37.0,\n ('VB7',\n  'zheng-longfei',\n  Timestamp('2023-08-02 11:22:50.468113'),\n  Timestamp('2023-08-04 16:22:49.017377'),\n  'nstate',\n  'brake',\n  1): 38.0,\n ('VB7',\n  'zheng-longfei',\n  Timestamp('2023-08-02 11:22:50.468113'),\n  Timestamp('2023-08-04 16:22:49.017377'),\n  'nstate',\n  'brake',\n  2): 39.0,\n ('VB7',\n  'zheng-longfei',\n  Timestamp('2023-08-02 11:22:50.468113'),\n  Timestamp('2023-08-04 16:22:49.017377'),\n  'nstate',\n  'brake',\n  3): 40.0,\n ('VB7',\n  'zheng-longfei',\n  Timestamp('2023-08-02 11:22:50.468113'),\n  Timestamp('2023-08-04 16:22:49.017377'),\n  'nstate',\n  'thrust',\n  0): 33.0,\n ('VB7',\n  'zheng-longfei',\n  Timestamp('2023-08-02 11:22:50.468113'),\n  Timestamp('2023-08-04 16:22:49.017377'),\n  'nstate',\n  'thrust',\n  1): 34.0,\n ('VB7',\n  'zheng-longfei',\n  Timestamp('2023-08-02 11:22:50.468113'),\n  Timestamp('2023-08-04 16:22:49.017377'),\n  'nstate',\n  'thrust',\n  2): 35.0,\n ('VB7',\n  'zheng-longfei',\n  Timestamp('2023-08-02 11:22:50.468113'),\n  Timestamp('2023-08-04 16:22:49.017377'),\n  'nstate',\n  'thrust',\n  3): 36.0,\n ('VB7',\n  'zheng-longfei',\n  Timestamp('2023-08-02 11:22:50.468113'),\n  Timestamp('2023-08-04 16:22:49.017377'),\n  'nstate',\n  'timestep',\n  0): Timestamp('2023-08-04 11:22:54.017377'),\n ('VB7',\n  'zheng-longfei',\n  Timestamp('2023-08-02 11:22:50.468113'),\n  Timestamp('2023-08-04 16:22:49.017377'),\n  'nstate',\n  'timestep',\n  1): Timestamp('2023-08-04 11:22:54.037377'),\n ('VB7',\n  'zheng-longfei',\n  Timestamp('2023-08-02 11:22:50.468113'),\n  Timestamp('2023-08-04 16:22:49.017377'),\n  'nstate',\n  'timestep',\n  2): Timestamp('2023-08-04 11:22:54.057377'),\n ('VB7',\n  'zheng-longfei',\n  Timestamp('2023-08-02 11:22:50.468113'),\n  Timestamp('2023-08-04 16:22:49.017377'),\n  'nstate',\n  'timestep',\n  3): Timestamp('2023-08-04 11:22:54.077377'),\n ('VB7',\n  'zheng-longfei',\n  Timestamp('2023-08-02 11:22:50.468113'),\n  Timestamp('2023-08-04 16:22:49.017377'),\n  'nstate',\n  'velocity',\n  0): 29.0,\n ('VB7',\n  'zheng-longfei',\n  Timestamp('2023-08-02 11:22:50.468113'),\n  Timestamp('2023-08-04 16:22:49.017377'),\n  'nstate',\n  'velocity',\n  1): 30.0,\n ('VB7',\n  'zheng-longfei',\n  Timestamp('2023-08-02 11:22:50.468113'),\n  Timestamp('2023-08-04 16:22:49.017377'),\n  'nstate',\n  'velocity',\n  2): 31.0,\n ('VB7',\n  'zheng-longfei',\n  Timestamp('2023-08-02 11:22:50.468113'),\n  Timestamp('2023-08-04 16:22:49.017377'),\n  'nstate',\n  'velocity',\n  3): 32.0,\n ('VB7',\n  'zheng-longfei',\n  Timestamp('2023-08-02 11:22:50.468113'),\n  Timestamp('2023-08-04 16:22:49.017377'),\n  'reward',\n  'timestep',\n  0): Timestamp('2023-08-04 11:22:49.117377'),\n ('VB7',\n  'zheng-longfei',\n  Timestamp('2023-08-02 11:22:50.468113'),\n  Timestamp('2023-08-04 16:22:49.017377'),\n  'reward',\n  'work',\n  0): 27.0,\n ('VB7',\n  'zheng-longfei',\n  Timestamp('2023-08-02 11:22:50.468113'),\n  Timestamp('2023-08-04 16:22:49.017377'),\n  'state',\n  'brake',\n  0): 8.0,\n ('VB7',\n  'zheng-longfei',\n  Timestamp('2023-08-02 11:22:50.468113'),\n  Timestamp('2023-08-04 16:22:49.017377'),\n  'state',\n  'brake',\n  1): 9.0,\n ('VB7',\n  'zheng-longfei',\n  Timestamp('2023-08-02 11:22:50.468113'),\n  Timestamp('2023-08-04 16:22:49.017377'),\n  'state',\n  'brake',\n  2): 10.0,\n ('VB7',\n  'zheng-longfei',\n  Timestamp('2023-08-02 11:22:50.468113'),\n  Timestamp('2023-08-04 16:22:49.017377'),\n  'state',\n  'brake',\n  3): 11.0,\n ('VB7',\n  'zheng-longfei',\n  Timestamp('2023-08-02 11:22:50.468113'),\n  Timestamp('2023-08-04 16:22:49.017377'),\n  'state',\n  'thrust',\n  0): 4.0,\n ('VB7',\n  'zheng-longfei',\n  Timestamp('2023-08-02 11:22:50.468113'),\n  Timestamp('2023-08-04 16:22:49.017377'),\n  'state',\n  'thrust',\n  1): 5.0,\n ('VB7',\n  'zheng-longfei',\n  Timestamp('2023-08-02 11:22:50.468113'),\n  Timestamp('2023-08-04 16:22:49.017377'),\n  'state',\n  'thrust',\n  2): 6.0,\n ('VB7',\n  'zheng-longfei',\n  Timestamp('2023-08-02 11:22:50.468113'),\n  Timestamp('2023-08-04 16:22:49.017377'),\n  'state',\n  'thrust',\n  3): 7.0,\n ('VB7',\n  'zheng-longfei',\n  Timestamp('2023-08-02 11:22:50.468113'),\n  Timestamp('2023-08-04 16:22:49.017377'),\n  'state',\n  'timestep',\n  0): Timestamp('2023-08-04 11:22:49.017377'),\n ('VB7',\n  'zheng-longfei',\n  Timestamp('2023-08-02 11:22:50.468113'),\n  Timestamp('2023-08-04 16:22:49.017377'),\n  'state',\n  'timestep',\n  1): Timestamp('2023-08-04 11:22:49.037377'),\n ('VB7',\n  'zheng-longfei',\n  Timestamp('2023-08-02 11:22:50.468113'),\n  Timestamp('2023-08-04 16:22:49.017377'),\n  'state',\n  'timestep',\n  2): Timestamp('2023-08-04 11:22:49.057377'),\n ('VB7',\n  'zheng-longfei',\n  Timestamp('2023-08-02 11:22:50.468113'),\n  Timestamp('2023-08-04 16:22:49.017377'),\n  'state',\n  'timestep',\n  3): Timestamp('2023-08-04 11:22:49.077377'),\n ('VB7',\n  'zheng-longfei',\n  Timestamp('2023-08-02 11:22:50.468113'),\n  Timestamp('2023-08-04 16:22:49.017377'),\n  'state',\n  'velocity',\n  0): 0.0,\n ('VB7',\n  'zheng-longfei',\n  Timestamp('2023-08-02 11:22:50.468113'),\n  Timestamp('2023-08-04 16:22:49.017377'),\n  'state',\n  'velocity',\n  1): 1.0,\n ('VB7',\n  'zheng-longfei',\n  Timestamp('2023-08-02 11:22:50.468113'),\n  Timestamp('2023-08-04 16:22:49.017377'),\n  'state',\n  'velocity',\n  2): 2.0,\n ('VB7',\n  'zheng-longfei',\n  Timestamp('2023-08-02 11:22:50.468113'),\n  Timestamp('2023-08-04 16:22:49.017377'),\n  'state',\n  'velocity',\n  3): 3.0,\n ('MP73',\n  'wang-cheng',\n  Timestamp('2023-07-30 11:22:50.468113'),\n  Timestamp('2023-08-04 12:22:49.017377'),\n  'action',\n  'r0',\n  0): 12.0,\n ('MP73',\n  'wang-cheng',\n  Timestamp('2023-07-30 11:22:50.468113'),\n  Timestamp('2023-08-04 12:22:49.017377'),\n  'action',\n  'r0',\n  1): 13.0,\n ('MP73',\n  'wang-cheng',\n  Timestamp('2023-07-30 11:22:50.468113'),\n  Timestamp('2023-08-04 12:22:49.017377'),\n  'action',\n  'r0',\n  2): 14.0,\n ('MP73',\n  'wang-cheng',\n  Timestamp('2023-07-30 11:22:50.468113'),\n  Timestamp('2023-08-04 12:22:49.017377'),\n  'action',\n  'r0',\n  3): 15.0,\n ('MP73',\n  'wang-cheng',\n  Timestamp('2023-07-30 11:22:50.468113'),\n  Timestamp('2023-08-04 12:22:49.017377'),\n  'action',\n  'r0',\n  4): 16.0,\n ('MP73',\n  'wang-cheng',\n  Timestamp('2023-07-30 11:22:50.468113'),\n  Timestamp('2023-08-04 12:22:49.017377'),\n  'action',\n  'r1',\n  0): 17.0,\n ('MP73',\n  'wang-cheng',\n  Timestamp('2023-07-30 11:22:50.468113'),\n  Timestamp('2023-08-04 12:22:49.017377'),\n  'action',\n  'r1',\n  1): 18.0,\n ('MP73',\n  'wang-cheng',\n  Timestamp('2023-07-30 11:22:50.468113'),\n  Timestamp('2023-08-04 12:22:49.017377'),\n  'action',\n  'r1',\n  2): 19.0,\n ('MP73',\n  'wang-cheng',\n  Timestamp('2023-07-30 11:22:50.468113'),\n  Timestamp('2023-08-04 12:22:49.017377'),\n  'action',\n  'r1',\n  3): 20.0,\n ('MP73',\n  'wang-cheng',\n  Timestamp('2023-07-30 11:22:50.468113'),\n  Timestamp('2023-08-04 12:22:49.017377'),\n  'action',\n  'r1',\n  4): 21.0,\n ('MP73',\n  'wang-cheng',\n  Timestamp('2023-07-30 11:22:50.468113'),\n  Timestamp('2023-08-04 12:22:49.017377'),\n  'action',\n  'r2',\n  0): 22.0,\n ('MP73',\n  'wang-cheng',\n  Timestamp('2023-07-30 11:22:50.468113'),\n  Timestamp('2023-08-04 12:22:49.017377'),\n  'action',\n  'r2',\n  1): 23.0,\n ('MP73',\n  'wang-cheng',\n  Timestamp('2023-07-30 11:22:50.468113'),\n  Timestamp('2023-08-04 12:22:49.017377'),\n  'action',\n  'r2',\n  2): 24.0,\n ('MP73',\n  'wang-cheng',\n  Timestamp('2023-07-30 11:22:50.468113'),\n  Timestamp('2023-08-04 12:22:49.017377'),\n  'action',\n  'r2',\n  3): 25.0,\n ('MP73',\n  'wang-cheng',\n  Timestamp('2023-07-30 11:22:50.468113'),\n  Timestamp('2023-08-04 12:22:49.017377'),\n  'action',\n  'r2',\n  4): 26.0,\n ('MP73',\n  'wang-cheng',\n  Timestamp('2023-07-30 11:22:50.468113'),\n  Timestamp('2023-08-04 12:22:49.017377'),\n  'action',\n  'speed',\n  0): 40.0,\n ('MP73',\n  'wang-cheng',\n  Timestamp('2023-07-30 11:22:50.468113'),\n  Timestamp('2023-08-04 12:22:49.017377'),\n  'action',\n  'speed',\n  1): 50.0,\n ('MP73',\n  'wang-cheng',\n  Timestamp('2023-07-30 11:22:50.468113'),\n  Timestamp('2023-08-04 12:22:49.017377'),\n  'action',\n  'speed',\n  2): 60.0,\n ('MP73',\n  'wang-cheng',\n  Timestamp('2023-07-30 11:22:50.468113'),\n  Timestamp('2023-08-04 12:22:49.017377'),\n  'action',\n  'throttle',\n  0): 0.0,\n ('MP73',\n  'wang-cheng',\n  Timestamp('2023-07-30 11:22:50.468113'),\n  Timestamp('2023-08-04 12:22:49.017377'),\n  'action',\n  'throttle',\n  1): 0.25,\n ('MP73',\n  'wang-cheng',\n  Timestamp('2023-07-30 11:22:50.468113'),\n  Timestamp('2023-08-04 12:22:49.017377'),\n  'action',\n  'throttle',\n  2): 0.5,\n ('MP73',\n  'wang-cheng',\n  Timestamp('2023-07-30 11:22:50.468113'),\n  Timestamp('2023-08-04 12:22:49.017377'),\n  'action',\n  'throttle',\n  3): 0.75,\n ('MP73',\n  'wang-cheng',\n  Timestamp('2023-07-30 11:22:50.468113'),\n  Timestamp('2023-08-04 12:22:49.017377'),\n  'action',\n  'throttle',\n  4): 1.0,\n ('MP73',\n  'wang-cheng',\n  Timestamp('2023-07-30 11:22:50.468113'),\n  Timestamp('2023-08-04 12:22:49.017377'),\n  'action',\n  'timestep',\n  0): Timestamp('2023-08-04 11:22:49.117377'),\n ('MP73',\n  'wang-cheng',\n  Timestamp('2023-07-30 11:22:50.468113'),\n  Timestamp('2023-08-04 12:22:49.017377'),\n  'action',\n  'timestep',\n  1): Timestamp('2023-08-04 11:22:49.137377'),\n ('MP73',\n  'wang-cheng',\n  Timestamp('2023-07-30 11:22:50.468113'),\n  Timestamp('2023-08-04 12:22:49.017377'),\n  'action',\n  'timestep',\n  2): Timestamp('2023-08-04 11:22:49.157377'),\n ('MP73',\n  'wang-cheng',\n  Timestamp('2023-07-30 11:22:50.468113'),\n  Timestamp('2023-08-04 12:22:49.017377'),\n  'nstate',\n  'brake',\n  0): 37.0,\n ('MP73',\n  'wang-cheng',\n  Timestamp('2023-07-30 11:22:50.468113'),\n  Timestamp('2023-08-04 12:22:49.017377'),\n  'nstate',\n  'brake',\n  1): 38.0,\n ('MP73',\n  'wang-cheng',\n  Timestamp('2023-07-30 11:22:50.468113'),\n  Timestamp('2023-08-04 12:22:49.017377'),\n  'nstate',\n  'brake',\n  2): 39.0,\n ('MP73',\n  'wang-cheng',\n  Timestamp('2023-07-30 11:22:50.468113'),\n  Timestamp('2023-08-04 12:22:49.017377'),\n  'nstate',\n  'brake',\n  3): 40.0,\n ('MP73',\n  'wang-cheng',\n  Timestamp('2023-07-30 11:22:50.468113'),\n  Timestamp('2023-08-04 12:22:49.017377'),\n  'nstate',\n  'thrust',\n  0): 33.0,\n ('MP73',\n  'wang-cheng',\n  Timestamp('2023-07-30 11:22:50.468113'),\n  Timestamp('2023-08-04 12:22:49.017377'),\n  'nstate',\n  'thrust',\n  1): 34.0,\n ('MP73',\n  'wang-cheng',\n  Timestamp('2023-07-30 11:22:50.468113'),\n  Timestamp('2023-08-04 12:22:49.017377'),\n  'nstate',\n  'thrust',\n  2): 35.0,\n ('MP73',\n  'wang-cheng',\n  Timestamp('2023-07-30 11:22:50.468113'),\n  Timestamp('2023-08-04 12:22:49.017377'),\n  'nstate',\n  'thrust',\n  3): 36.0,\n ('MP73',\n  'wang-cheng',\n  Timestamp('2023-07-30 11:22:50.468113'),\n  Timestamp('2023-08-04 12:22:49.017377'),\n  'nstate',\n  'timestep',\n  0): Timestamp('2023-08-04 11:22:54.017377'),\n ('MP73',\n  'wang-cheng',\n  Timestamp('2023-07-30 11:22:50.468113'),\n  Timestamp('2023-08-04 12:22:49.017377'),\n  'nstate',\n  'timestep',\n  1): Timestamp('2023-08-04 11:22:54.037377'),\n ('MP73',\n  'wang-cheng',\n  Timestamp('2023-07-30 11:22:50.468113'),\n  Timestamp('2023-08-04 12:22:49.017377'),\n  'nstate',\n  'timestep',\n  2): Timestamp('2023-08-04 11:22:54.057377'),\n ('MP73',\n  'wang-cheng',\n  Timestamp('2023-07-30 11:22:50.468113'),\n  Timestamp('2023-08-04 12:22:49.017377'),\n  'nstate',\n  'timestep',\n  3): Timestamp('2023-08-04 11:22:54.077377'),\n ('MP73',\n  'wang-cheng',\n  Timestamp('2023-07-30 11:22:50.468113'),\n  Timestamp('2023-08-04 12:22:49.017377'),\n  'nstate',\n  'velocity',\n  0): 29.0,\n ('MP73',\n  'wang-cheng',\n  Timestamp('2023-07-30 11:22:50.468113'),\n  Timestamp('2023-08-04 12:22:49.017377'),\n  'nstate',\n  'velocity',\n  1): 30.0,\n ('MP73',\n  'wang-cheng',\n  Timestamp('2023-07-30 11:22:50.468113'),\n  Timestamp('2023-08-04 12:22:49.017377'),\n  'nstate',\n  'velocity',\n  2): 31.0,\n ('MP73',\n  'wang-cheng',\n  Timestamp('2023-07-30 11:22:50.468113'),\n  Timestamp('2023-08-04 12:22:49.017377'),\n  'nstate',\n  'velocity',\n  3): 32.0,\n ('MP73',\n  'wang-cheng',\n  Timestamp('2023-07-30 11:22:50.468113'),\n  Timestamp('2023-08-04 12:22:49.017377'),\n  'reward',\n  'timestep',\n  0): Timestamp('2023-08-04 11:22:49.117377'),\n ('MP73',\n  'wang-cheng',\n  Timestamp('2023-07-30 11:22:50.468113'),\n  Timestamp('2023-08-04 12:22:49.017377'),\n  'reward',\n  'work',\n  0): 27.0,\n ('MP73',\n  'wang-cheng',\n  Timestamp('2023-07-30 11:22:50.468113'),\n  Timestamp('2023-08-04 12:22:49.017377'),\n  'state',\n  'brake',\n  0): 8.0,\n ('MP73',\n  'wang-cheng',\n  Timestamp('2023-07-30 11:22:50.468113'),\n  Timestamp('2023-08-04 12:22:49.017377'),\n  'state',\n  'brake',\n  1): 9.0,\n ('MP73',\n  'wang-cheng',\n  Timestamp('2023-07-30 11:22:50.468113'),\n  Timestamp('2023-08-04 12:22:49.017377'),\n  'state',\n  'brake',\n  2): 10.0,\n ('MP73',\n  'wang-cheng',\n  Timestamp('2023-07-30 11:22:50.468113'),\n  Timestamp('2023-08-04 12:22:49.017377'),\n  'state',\n  'brake',\n  3): 11.0,\n ('MP73',\n  'wang-cheng',\n  Timestamp('2023-07-30 11:22:50.468113'),\n  Timestamp('2023-08-04 12:22:49.017377'),\n  'state',\n  'thrust',\n  0): 4.0,\n ('MP73',\n  'wang-cheng',\n  Timestamp('2023-07-30 11:22:50.468113'),\n  Timestamp('2023-08-04 12:22:49.017377'),\n  'state',\n  'thrust',\n  1): 5.0,\n ('MP73',\n  'wang-cheng',\n  Timestamp('2023-07-30 11:22:50.468113'),\n  Timestamp('2023-08-04 12:22:49.017377'),\n  'state',\n  'thrust',\n  2): 6.0,\n ('MP73',\n  'wang-cheng',\n  Timestamp('2023-07-30 11:22:50.468113'),\n  Timestamp('2023-08-04 12:22:49.017377'),\n  'state',\n  'thrust',\n  3): 7.0,\n ('MP73',\n  'wang-cheng',\n  Timestamp('2023-07-30 11:22:50.468113'),\n  Timestamp('2023-08-04 12:22:49.017377'),\n  'state',\n  'timestep',\n  0): Timestamp('2023-08-04 11:22:49.017377'),\n ('MP73',\n  'wang-cheng',\n  Timestamp('2023-07-30 11:22:50.468113'),\n  Timestamp('2023-08-04 12:22:49.017377'),\n  'state',\n  'timestep',\n  1): Timestamp('2023-08-04 11:22:49.037377'),\n ('MP73',\n  'wang-cheng',\n  Timestamp('2023-07-30 11:22:50.468113'),\n  Timestamp('2023-08-04 12:22:49.017377'),\n  'state',\n  'timestep',\n  2): Timestamp('2023-08-04 11:22:49.057377'),\n ('MP73',\n  'wang-cheng',\n  Timestamp('2023-07-30 11:22:50.468113'),\n  Timestamp('2023-08-04 12:22:49.017377'),\n  'state',\n  'timestep',\n  3): Timestamp('2023-08-04 11:22:49.077377'),\n ('MP73',\n  'wang-cheng',\n  Timestamp('2023-07-30 11:22:50.468113'),\n  Timestamp('2023-08-04 12:22:49.017377'),\n  'state',\n  'velocity',\n  0): 0.0,\n ('MP73',\n  'wang-cheng',\n  Timestamp('2023-07-30 11:22:50.468113'),\n  Timestamp('2023-08-04 12:22:49.017377'),\n  'state',\n  'velocity',\n  1): 1.0,\n ('MP73',\n  'wang-cheng',\n  Timestamp('2023-07-30 11:22:50.468113'),\n  Timestamp('2023-08-04 12:22:49.017377'),\n  'state',\n  'velocity',\n  2): 2.0,\n ('MP73',\n  'wang-cheng',\n  Timestamp('2023-07-30 11:22:50.468113'),\n  Timestamp('2023-08-04 12:22:49.017377'),\n  'state',\n  'velocity',\n  3): 3.0,\n ('MP73',\n  'wang-cheng',\n  Timestamp('2023-07-30 11:22:50.468113'),\n  Timestamp('2023-08-04 13:22:49.017377'),\n  'action',\n  'r0',\n  0): 12.0,\n ('MP73',\n  'wang-cheng',\n  Timestamp('2023-07-30 11:22:50.468113'),\n  Timestamp('2023-08-04 13:22:49.017377'),\n  'action',\n  'r0',\n  1): 13.0,\n ('MP73',\n  'wang-cheng',\n  Timestamp('2023-07-30 11:22:50.468113'),\n  Timestamp('2023-08-04 13:22:49.017377'),\n  'action',\n  'r0',\n  2): 14.0,\n ('MP73',\n  'wang-cheng',\n  Timestamp('2023-07-30 11:22:50.468113'),\n  Timestamp('2023-08-04 13:22:49.017377'),\n  'action',\n  'r0',\n  3): 15.0,\n ('MP73',\n  'wang-cheng',\n  Timestamp('2023-07-30 11:22:50.468113'),\n  Timestamp('2023-08-04 13:22:49.017377'),\n  'action',\n  'r0',\n  4): 16.0,\n ('MP73',\n  'wang-cheng',\n  Timestamp('2023-07-30 11:22:50.468113'),\n  Timestamp('2023-08-04 13:22:49.017377'),\n  'action',\n  'r1',\n  0): 17.0,\n ('MP73',\n  'wang-cheng',\n  Timestamp('2023-07-30 11:22:50.468113'),\n  Timestamp('2023-08-04 13:22:49.017377'),\n  'action',\n  'r1',\n  1): 18.0,\n ('MP73',\n  'wang-cheng',\n  Timestamp('2023-07-30 11:22:50.468113'),\n  Timestamp('2023-08-04 13:22:49.017377'),\n  'action',\n  'r1',\n  2): 19.0,\n ('MP73',\n  'wang-cheng',\n  Timestamp('2023-07-30 11:22:50.468113'),\n  Timestamp('2023-08-04 13:22:49.017377'),\n  'action',\n  'r1',\n  3): 20.0,\n ('MP73',\n  'wang-cheng',\n  Timestamp('2023-07-30 11:22:50.468113'),\n  Timestamp('2023-08-04 13:22:49.017377'),\n  'action',\n  'r1',\n  4): 21.0,\n ('MP73',\n  'wang-cheng',\n  Timestamp('2023-07-30 11:22:50.468113'),\n  Timestamp('2023-08-04 13:22:49.017377'),\n  'action',\n  'r2',\n  0): 22.0,\n ('MP73',\n  'wang-cheng',\n  Timestamp('2023-07-30 11:22:50.468113'),\n  Timestamp('2023-08-04 13:22:49.017377'),\n  'action',\n  'r2',\n  1): 23.0,\n ('MP73',\n  'wang-cheng',\n  Timestamp('2023-07-30 11:22:50.468113'),\n  Timestamp('2023-08-04 13:22:49.017377'),\n  'action',\n  'r2',\n  2): 24.0,\n ('MP73',\n  'wang-cheng',\n  Timestamp('2023-07-30 11:22:50.468113'),\n  Timestamp('2023-08-04 13:22:49.017377'),\n  'action',\n  'r2',\n  3): 25.0,\n ('MP73',\n  'wang-cheng',\n  Timestamp('2023-07-30 11:22:50.468113'),\n  Timestamp('2023-08-04 13:22:49.017377'),\n  'action',\n  'r2',\n  4): 26.0,\n ('MP73',\n  'wang-cheng',\n  Timestamp('2023-07-30 11:22:50.468113'),\n  Timestamp('2023-08-04 13:22:49.017377'),\n  'action',\n  'speed',\n  0): 40.0,\n ('MP73',\n  'wang-cheng',\n  Timestamp('2023-07-30 11:22:50.468113'),\n  Timestamp('2023-08-04 13:22:49.017377'),\n  'action',\n  'speed',\n  1): 50.0,\n ('MP73',\n  'wang-cheng',\n  Timestamp('2023-07-30 11:22:50.468113'),\n  Timestamp('2023-08-04 13:22:49.017377'),\n  'action',\n  'speed',\n  2): 60.0,\n ('MP73',\n  'wang-cheng',\n  Timestamp('2023-07-30 11:22:50.468113'),\n  Timestamp('2023-08-04 13:22:49.017377'),\n  'action',\n  'throttle',\n  0): 0.0,\n ('MP73',\n  'wang-cheng',\n  Timestamp('2023-07-30 11:22:50.468113'),\n  Timestamp('2023-08-04 13:22:49.017377'),\n  'action',\n  'throttle',\n  1): 0.25,\n ('MP73',\n  'wang-cheng',\n  Timestamp('2023-07-30 11:22:50.468113'),\n  Timestamp('2023-08-04 13:22:49.017377'),\n  'action',\n  'throttle',\n  2): 0.5,\n ('MP73',\n  'wang-cheng',\n  Timestamp('2023-07-30 11:22:50.468113'),\n  Timestamp('2023-08-04 13:22:49.017377'),\n  'action',\n  'throttle',\n  3): 0.75,\n ('MP73',\n  'wang-cheng',\n  Timestamp('2023-07-30 11:22:50.468113'),\n  Timestamp('2023-08-04 13:22:49.017377'),\n  'action',\n  'throttle',\n  4): 1.0,\n ('MP73',\n  'wang-cheng',\n  Timestamp('2023-07-30 11:22:50.468113'),\n  Timestamp('2023-08-04 13:22:49.017377'),\n  'action',\n  'timestep',\n  0): Timestamp('2023-08-04 11:22:49.117377'),\n ('MP73',\n  'wang-cheng',\n  Timestamp('2023-07-30 11:22:50.468113'),\n  Timestamp('2023-08-04 13:22:49.017377'),\n  'action',\n  'timestep',\n  1): Timestamp('2023-08-04 11:22:49.137377'),\n ('MP73',\n  'wang-cheng',\n  Timestamp('2023-07-30 11:22:50.468113'),\n  Timestamp('2023-08-04 13:22:49.017377'),\n  'action',\n  'timestep',\n  2): Timestamp('2023-08-04 11:22:49.157377'),\n ('MP73',\n  'wang-cheng',\n  Timestamp('2023-07-30 11:22:50.468113'),\n  Timestamp('2023-08-04 13:22:49.017377'),\n  'nstate',\n  'brake',\n  0): 37.0,\n ('MP73',\n  'wang-cheng',\n  Timestamp('2023-07-30 11:22:50.468113'),\n  Timestamp('2023-08-04 13:22:49.017377'),\n  'nstate',\n  'brake',\n  1): 38.0,\n ('MP73',\n  'wang-cheng',\n  Timestamp('2023-07-30 11:22:50.468113'),\n  Timestamp('2023-08-04 13:22:49.017377'),\n  'nstate',\n  'brake',\n  2): 39.0,\n ('MP73',\n  'wang-cheng',\n  Timestamp('2023-07-30 11:22:50.468113'),\n  Timestamp('2023-08-04 13:22:49.017377'),\n  'nstate',\n  'brake',\n  3): 40.0,\n ('MP73',\n  'wang-cheng',\n  Timestamp('2023-07-30 11:22:50.468113'),\n  Timestamp('2023-08-04 13:22:49.017377'),\n  'nstate',\n  'thrust',\n  0): 33.0,\n ('MP73',\n  'wang-cheng',\n  Timestamp('2023-07-30 11:22:50.468113'),\n  Timestamp('2023-08-04 13:22:49.017377'),\n  'nstate',\n  'thrust',\n  1): 34.0,\n ('MP73',\n  'wang-cheng',\n  Timestamp('2023-07-30 11:22:50.468113'),\n  Timestamp('2023-08-04 13:22:49.017377'),\n  'nstate',\n  'thrust',\n  2): 35.0,\n ('MP73',\n  'wang-cheng',\n  Timestamp('2023-07-30 11:22:50.468113'),\n  Timestamp('2023-08-04 13:22:49.017377'),\n  'nstate',\n  'thrust',\n  3): 36.0,\n ('MP73',\n  'wang-cheng',\n  Timestamp('2023-07-30 11:22:50.468113'),\n  Timestamp('2023-08-04 13:22:49.017377'),\n  'nstate',\n  'timestep',\n  0): Timestamp('2023-08-04 11:22:54.017377'),\n ('MP73',\n  'wang-cheng',\n  Timestamp('2023-07-30 11:22:50.468113'),\n  Timestamp('2023-08-04 13:22:49.017377'),\n  'nstate',\n  'timestep',\n  1): Timestamp('2023-08-04 11:22:54.037377'),\n ('MP73',\n  'wang-cheng',\n  Timestamp('2023-07-30 11:22:50.468113'),\n  Timestamp('2023-08-04 13:22:49.017377'),\n  'nstate',\n  'timestep',\n  2): Timestamp('2023-08-04 11:22:54.057377'),\n ('MP73',\n  'wang-cheng',\n  Timestamp('2023-07-30 11:22:50.468113'),\n  Timestamp('2023-08-04 13:22:49.017377'),\n  'nstate',\n  'timestep',\n  3): Timestamp('2023-08-04 11:22:54.077377'),\n ('MP73',\n  'wang-cheng',\n  Timestamp('2023-07-30 11:22:50.468113'),\n  Timestamp('2023-08-04 13:22:49.017377'),\n  'nstate',\n  'velocity',\n  0): 29.0,\n ('MP73',\n  'wang-cheng',\n  Timestamp('2023-07-30 11:22:50.468113'),\n  Timestamp('2023-08-04 13:22:49.017377'),\n  'nstate',\n  'velocity',\n  1): 30.0,\n ('MP73',\n  'wang-cheng',\n  Timestamp('2023-07-30 11:22:50.468113'),\n  Timestamp('2023-08-04 13:22:49.017377'),\n  'nstate',\n  'velocity',\n  2): 31.0,\n ('MP73',\n  'wang-cheng',\n  Timestamp('2023-07-30 11:22:50.468113'),\n  Timestamp('2023-08-04 13:22:49.017377'),\n  'nstate',\n  'velocity',\n  3): 32.0,\n ('MP73',\n  'wang-cheng',\n  Timestamp('2023-07-30 11:22:50.468113'),\n  Timestamp('2023-08-04 13:22:49.017377'),\n  'reward',\n  'timestep',\n  0): Timestamp('2023-08-04 11:22:49.117377'),\n ('MP73',\n  'wang-cheng',\n  Timestamp('2023-07-30 11:22:50.468113'),\n  Timestamp('2023-08-04 13:22:49.017377'),\n  'reward',\n  'work',\n  0): 27.0,\n ('MP73',\n  'wang-cheng',\n  Timestamp('2023-07-30 11:22:50.468113'),\n  Timestamp('2023-08-04 13:22:49.017377'),\n  'state',\n  'brake',\n  0): 8.0,\n ('MP73',\n  'wang-cheng',\n  Timestamp('2023-07-30 11:22:50.468113'),\n  Timestamp('2023-08-04 13:22:49.017377'),\n  'state',\n  'brake',\n  1): 9.0,\n ('MP73',\n  'wang-cheng',\n  Timestamp('2023-07-30 11:22:50.468113'),\n  Timestamp('2023-08-04 13:22:49.017377'),\n  'state',\n  'brake',\n  2): 10.0,\n ('MP73',\n  'wang-cheng',\n  Timestamp('2023-07-30 11:22:50.468113'),\n  Timestamp('2023-08-04 13:22:49.017377'),\n  'state',\n  'brake',\n  3): 11.0,\n ('MP73',\n  'wang-cheng',\n  Timestamp('2023-07-30 11:22:50.468113'),\n  Timestamp('2023-08-04 13:22:49.017377'),\n  'state',\n  'thrust',\n  0): 4.0,\n ('MP73',\n  'wang-cheng',\n  Timestamp('2023-07-30 11:22:50.468113'),\n  Timestamp('2023-08-04 13:22:49.017377'),\n  'state',\n  'thrust',\n  1): 5.0,\n ('MP73',\n  'wang-cheng',\n  Timestamp('2023-07-30 11:22:50.468113'),\n  Timestamp('2023-08-04 13:22:49.017377'),\n  'state',\n  'thrust',\n  2): 6.0,\n ('MP73',\n  'wang-cheng',\n  Timestamp('2023-07-30 11:22:50.468113'),\n  Timestamp('2023-08-04 13:22:49.017377'),\n  'state',\n  'thrust',\n  3): 7.0,\n ('MP73',\n  'wang-cheng',\n  Timestamp('2023-07-30 11:22:50.468113'),\n  Timestamp('2023-08-04 13:22:49.017377'),\n  'state',\n  'timestep',\n  0): Timestamp('2023-08-04 11:22:49.017377'),\n ('MP73',\n  'wang-cheng',\n  Timestamp('2023-07-30 11:22:50.468113'),\n  Timestamp('2023-08-04 13:22:49.017377'),\n  'state',\n  'timestep',\n  1): Timestamp('2023-08-04 11:22:49.037377'),\n ('MP73',\n  'wang-cheng',\n  Timestamp('2023-07-30 11:22:50.468113'),\n  Timestamp('2023-08-04 13:22:49.017377'),\n  'state',\n  'timestep',\n  2): Timestamp('2023-08-04 11:22:49.057377'),\n ('MP73',\n  'wang-cheng',\n  Timestamp('2023-07-30 11:22:50.468113'),\n  Timestamp('2023-08-04 13:22:49.017377'),\n  'state',\n  'timestep',\n  3): Timestamp('2023-08-04 11:22:49.077377'),\n ('MP73',\n  'wang-cheng',\n  Timestamp('2023-07-30 11:22:50.468113'),\n  Timestamp('2023-08-04 13:22:49.017377'),\n  'state',\n  'velocity',\n  0): 0.0,\n ('MP73',\n  'wang-cheng',\n  Timestamp('2023-07-30 11:22:50.468113'),\n  Timestamp('2023-08-04 13:22:49.017377'),\n  'state',\n  'velocity',\n  1): 1.0,\n ('MP73',\n  'wang-cheng',\n  Timestamp('2023-07-30 11:22:50.468113'),\n  Timestamp('2023-08-04 13:22:49.017377'),\n  'state',\n  'velocity',\n  2): 2.0,\n ('MP73',\n  'wang-cheng',\n  Timestamp('2023-07-30 11:22:50.468113'),\n  Timestamp('2023-08-04 13:22:49.017377'),\n  'state',\n  'velocity',\n  3): 3.0,\n ('MP73',\n  'wang-cheng',\n  Timestamp('2023-07-30 11:22:50.468113'),\n  Timestamp('2023-08-04 14:22:49.017377'),\n  'action',\n  'r0',\n  0): 12.0,\n ('MP73',\n  'wang-cheng',\n  Timestamp('2023-07-30 11:22:50.468113'),\n  Timestamp('2023-08-04 14:22:49.017377'),\n  'action',\n  'r0',\n  1): 13.0,\n ('MP73',\n  'wang-cheng',\n  Timestamp('2023-07-30 11:22:50.468113'),\n  Timestamp('2023-08-04 14:22:49.017377'),\n  'action',\n  'r0',\n  2): 14.0,\n ('MP73',\n  'wang-cheng',\n  Timestamp('2023-07-30 11:22:50.468113'),\n  Timestamp('2023-08-04 14:22:49.017377'),\n  'action',\n  'r0',\n  3): 15.0,\n ('MP73',\n  'wang-cheng',\n  Timestamp('2023-07-30 11:22:50.468113'),\n  Timestamp('2023-08-04 14:22:49.017377'),\n  'action',\n  'r0',\n  4): 16.0,\n ('MP73',\n  'wang-cheng',\n  Timestamp('2023-07-30 11:22:50.468113'),\n  Timestamp('2023-08-04 14:22:49.017377'),\n  'action',\n  'r1',\n  0): 17.0,\n ('MP73',\n  'wang-cheng',\n  Timestamp('2023-07-30 11:22:50.468113'),\n  Timestamp('2023-08-04 14:22:49.017377'),\n  'action',\n  'r1',\n  1): 18.0,\n ('MP73',\n  'wang-cheng',\n  Timestamp('2023-07-30 11:22:50.468113'),\n  Timestamp('2023-08-04 14:22:49.017377'),\n  'action',\n  'r1',\n  2): 19.0,\n ('MP73',\n  'wang-cheng',\n  Timestamp('2023-07-30 11:22:50.468113'),\n  Timestamp('2023-08-04 14:22:49.017377'),\n  'action',\n  'r1',\n  3): 20.0,\n ('MP73',\n  'wang-cheng',\n  Timestamp('2023-07-30 11:22:50.468113'),\n  Timestamp('2023-08-04 14:22:49.017377'),\n  'action',\n  'r1',\n  4): 21.0,\n ('MP73',\n  'wang-cheng',\n  Timestamp('2023-07-30 11:22:50.468113'),\n  Timestamp('2023-08-04 14:22:49.017377'),\n  'action',\n  'r2',\n  0): 22.0,\n ('MP73',\n  'wang-cheng',\n  Timestamp('2023-07-30 11:22:50.468113'),\n  Timestamp('2023-08-04 14:22:49.017377'),\n  'action',\n  'r2',\n  1): 23.0,\n ('MP73',\n  'wang-cheng',\n  Timestamp('2023-07-30 11:22:50.468113'),\n  Timestamp('2023-08-04 14:22:49.017377'),\n  'action',\n  'r2',\n  2): 24.0,\n ('MP73',\n  'wang-cheng',\n  Timestamp('2023-07-30 11:22:50.468113'),\n  Timestamp('2023-08-04 14:22:49.017377'),\n  'action',\n  'r2',\n  3): 25.0,\n ('MP73',\n  'wang-cheng',\n  Timestamp('2023-07-30 11:22:50.468113'),\n  Timestamp('2023-08-04 14:22:49.017377'),\n  'action',\n  'r2',\n  4): 26.0,\n ('MP73',\n  'wang-cheng',\n  Timestamp('2023-07-30 11:22:50.468113'),\n  Timestamp('2023-08-04 14:22:49.017377'),\n  'action',\n  'speed',\n  0): 40.0,\n ('MP73',\n  'wang-cheng',\n  Timestamp('2023-07-30 11:22:50.468113'),\n  Timestamp('2023-08-04 14:22:49.017377'),\n  'action',\n  'speed',\n  1): 50.0,\n ('MP73',\n  'wang-cheng',\n  Timestamp('2023-07-30 11:22:50.468113'),\n  Timestamp('2023-08-04 14:22:49.017377'),\n  'action',\n  'speed',\n  2): 60.0,\n ('MP73',\n  'wang-cheng',\n  Timestamp('2023-07-30 11:22:50.468113'),\n  Timestamp('2023-08-04 14:22:49.017377'),\n  'action',\n  'throttle',\n  0): 0.0,\n ('MP73',\n  'wang-cheng',\n  Timestamp('2023-07-30 11:22:50.468113'),\n  Timestamp('2023-08-04 14:22:49.017377'),\n  'action',\n  'throttle',\n  1): 0.25,\n ('MP73',\n  'wang-cheng',\n  Timestamp('2023-07-30 11:22:50.468113'),\n  Timestamp('2023-08-04 14:22:49.017377'),\n  'action',\n  'throttle',\n  2): 0.5,\n ('MP73',\n  'wang-cheng',\n  Timestamp('2023-07-30 11:22:50.468113'),\n  Timestamp('2023-08-04 14:22:49.017377'),\n  'action',\n  'throttle',\n  3): 0.75,\n ('MP73',\n  'wang-cheng',\n  Timestamp('2023-07-30 11:22:50.468113'),\n  Timestamp('2023-08-04 14:22:49.017377'),\n  'action',\n  'throttle',\n  4): 1.0,\n ('MP73',\n  'wang-cheng',\n  Timestamp('2023-07-30 11:22:50.468113'),\n  Timestamp('2023-08-04 14:22:49.017377'),\n  'action',\n  'timestep',\n  0): Timestamp('2023-08-04 11:22:49.117377'),\n ('MP73',\n  'wang-cheng',\n  Timestamp('2023-07-30 11:22:50.468113'),\n  Timestamp('2023-08-04 14:22:49.017377'),\n  'action',\n  'timestep',\n  1): Timestamp('2023-08-04 11:22:49.137377'),\n ('MP73',\n  'wang-cheng',\n  Timestamp('2023-07-30 11:22:50.468113'),\n  Timestamp('2023-08-04 14:22:49.017377'),\n  'action',\n  'timestep',\n  2): Timestamp('2023-08-04 11:22:49.157377'),\n ('MP73',\n  'wang-cheng',\n  Timestamp('2023-07-30 11:22:50.468113'),\n  Timestamp('2023-08-04 14:22:49.017377'),\n  'nstate',\n  'brake',\n  0): 37.0,\n ('MP73',\n  'wang-cheng',\n  Timestamp('2023-07-30 11:22:50.468113'),\n  Timestamp('2023-08-04 14:22:49.017377'),\n  'nstate',\n  'brake',\n  1): 38.0,\n ('MP73',\n  'wang-cheng',\n  Timestamp('2023-07-30 11:22:50.468113'),\n  Timestamp('2023-08-04 14:22:49.017377'),\n  'nstate',\n  'brake',\n  2): 39.0,\n ('MP73',\n  'wang-cheng',\n  Timestamp('2023-07-30 11:22:50.468113'),\n  Timestamp('2023-08-04 14:22:49.017377'),\n  'nstate',\n  'brake',\n  3): 40.0,\n ('MP73',\n  'wang-cheng',\n  Timestamp('2023-07-30 11:22:50.468113'),\n  Timestamp('2023-08-04 14:22:49.017377'),\n  'nstate',\n  'thrust',\n  0): 33.0,\n ('MP73',\n  'wang-cheng',\n  Timestamp('2023-07-30 11:22:50.468113'),\n  Timestamp('2023-08-04 14:22:49.017377'),\n  'nstate',\n  'thrust',\n  1): 34.0,\n ('MP73',\n  'wang-cheng',\n  Timestamp('2023-07-30 11:22:50.468113'),\n  Timestamp('2023-08-04 14:22:49.017377'),\n  'nstate',\n  'thrust',\n  2): 35.0,\n ('MP73',\n  'wang-cheng',\n  Timestamp('2023-07-30 11:22:50.468113'),\n  Timestamp('2023-08-04 14:22:49.017377'),\n  'nstate',\n  'thrust',\n  3): 36.0,\n ('MP73',\n  'wang-cheng',\n  Timestamp('2023-07-30 11:22:50.468113'),\n  Timestamp('2023-08-04 14:22:49.017377'),\n  'nstate',\n  'timestep',\n  0): Timestamp('2023-08-04 11:22:54.017377'),\n ('MP73',\n  'wang-cheng',\n  Timestamp('2023-07-30 11:22:50.468113'),\n  Timestamp('2023-08-04 14:22:49.017377'),\n  'nstate',\n  'timestep',\n  1): Timestamp('2023-08-04 11:22:54.037377'),\n ('MP73',\n  'wang-cheng',\n  Timestamp('2023-07-30 11:22:50.468113'),\n  Timestamp('2023-08-04 14:22:49.017377'),\n  'nstate',\n  'timestep',\n  2): Timestamp('2023-08-04 11:22:54.057377'),\n ('MP73',\n  'wang-cheng',\n  Timestamp('2023-07-30 11:22:50.468113'),\n  Timestamp('2023-08-04 14:22:49.017377'),\n  'nstate',\n  'timestep',\n  3): Timestamp('2023-08-04 11:22:54.077377'),\n ('MP73',\n  'wang-cheng',\n  Timestamp('2023-07-30 11:22:50.468113'),\n  Timestamp('2023-08-04 14:22:49.017377'),\n  'nstate',\n  'velocity',\n  0): 29.0,\n ('MP73',\n  'wang-cheng',\n  Timestamp('2023-07-30 11:22:50.468113'),\n  Timestamp('2023-08-04 14:22:49.017377'),\n  'nstate',\n  'velocity',\n  1): 30.0,\n ('MP73',\n  'wang-cheng',\n  Timestamp('2023-07-30 11:22:50.468113'),\n  Timestamp('2023-08-04 14:22:49.017377'),\n  'nstate',\n  'velocity',\n  2): 31.0,\n ('MP73',\n  'wang-cheng',\n  Timestamp('2023-07-30 11:22:50.468113'),\n  Timestamp('2023-08-04 14:22:49.017377'),\n  'nstate',\n  'velocity',\n  3): 32.0,\n ('MP73',\n  'wang-cheng',\n  Timestamp('2023-07-30 11:22:50.468113'),\n  Timestamp('2023-08-04 14:22:49.017377'),\n  'reward',\n  'timestep',\n  0): Timestamp('2023-08-04 11:22:49.117377'),\n ('MP73',\n  'wang-cheng',\n  Timestamp('2023-07-30 11:22:50.468113'),\n  Timestamp('2023-08-04 14:22:49.017377'),\n  'reward',\n  'work',\n  0): 27.0,\n ('MP73',\n  'wang-cheng',\n  Timestamp('2023-07-30 11:22:50.468113'),\n  Timestamp('2023-08-04 14:22:49.017377'),\n  'state',\n  'brake',\n  0): 8.0,\n ('MP73',\n  'wang-cheng',\n  Timestamp('2023-07-30 11:22:50.468113'),\n  Timestamp('2023-08-04 14:22:49.017377'),\n  'state',\n  'brake',\n  1): 9.0,\n ('MP73',\n  'wang-cheng',\n  Timestamp('2023-07-30 11:22:50.468113'),\n  Timestamp('2023-08-04 14:22:49.017377'),\n  'state',\n  'brake',\n  2): 10.0,\n ('MP73',\n  'wang-cheng',\n  Timestamp('2023-07-30 11:22:50.468113'),\n  Timestamp('2023-08-04 14:22:49.017377'),\n  'state',\n  'brake',\n  3): 11.0,\n ('MP73',\n  'wang-cheng',\n  Timestamp('2023-07-30 11:22:50.468113'),\n  Timestamp('2023-08-04 14:22:49.017377'),\n  'state',\n  'thrust',\n  0): 4.0,\n ('MP73',\n  'wang-cheng',\n  Timestamp('2023-07-30 11:22:50.468113'),\n  Timestamp('2023-08-04 14:22:49.017377'),\n  'state',\n  'thrust',\n  1): 5.0,\n ('MP73',\n  'wang-cheng',\n  Timestamp('2023-07-30 11:22:50.468113'),\n  Timestamp('2023-08-04 14:22:49.017377'),\n  'state',\n  'thrust',\n  2): 6.0,\n ('MP73',\n  'wang-cheng',\n  Timestamp('2023-07-30 11:22:50.468113'),\n  Timestamp('2023-08-04 14:22:49.017377'),\n  'state',\n  'thrust',\n  3): 7.0,\n ('MP73',\n  'wang-cheng',\n  Timestamp('2023-07-30 11:22:50.468113'),\n  Timestamp('2023-08-04 14:22:49.017377'),\n  'state',\n  'timestep',\n  0): Timestamp('2023-08-04 11:22:49.017377'),\n ('MP73',\n  'wang-cheng',\n  Timestamp('2023-07-30 11:22:50.468113'),\n  Timestamp('2023-08-04 14:22:49.017377'),\n  'state',\n  'timestep',\n  1): Timestamp('2023-08-04 11:22:49.037377'),\n ('MP73',\n  'wang-cheng',\n  Timestamp('2023-07-30 11:22:50.468113'),\n  Timestamp('2023-08-04 14:22:49.017377'),\n  'state',\n  'timestep',\n  2): Timestamp('2023-08-04 11:22:49.057377'),\n ('MP73',\n  'wang-cheng',\n  Timestamp('2023-07-30 11:22:50.468113'),\n  Timestamp('2023-08-04 14:22:49.017377'),\n  'state',\n  'timestep',\n  3): Timestamp('2023-08-04 11:22:49.077377'),\n ('MP73',\n  'wang-cheng',\n  Timestamp('2023-07-30 11:22:50.468113'),\n  Timestamp('2023-08-04 14:22:49.017377'),\n  'state',\n  'velocity',\n  0): 0.0,\n ('MP73',\n  'wang-cheng',\n  Timestamp('2023-07-30 11:22:50.468113'),\n  Timestamp('2023-08-04 14:22:49.017377'),\n  'state',\n  'velocity',\n  1): 1.0,\n ('MP73',\n  'wang-cheng',\n  Timestamp('2023-07-30 11:22:50.468113'),\n  Timestamp('2023-08-04 14:22:49.017377'),\n  'state',\n  'velocity',\n  2): 2.0,\n ('MP73',\n  'wang-cheng',\n  Timestamp('2023-07-30 11:22:50.468113'),\n  Timestamp('2023-08-04 14:22:49.017377'),\n  'state',\n  'velocity',\n  3): 3.0,\n ('MP73',\n  'wang-cheng',\n  Timestamp('2023-07-30 11:22:50.468113'),\n  Timestamp('2023-08-04 16:22:49.017377'),\n  'action',\n  'r0',\n  0): 12.0,\n ('MP73',\n  'wang-cheng',\n  Timestamp('2023-07-30 11:22:50.468113'),\n  Timestamp('2023-08-04 16:22:49.017377'),\n  'action',\n  'r0',\n  1): 13.0,\n ('MP73',\n  'wang-cheng',\n  Timestamp('2023-07-30 11:22:50.468113'),\n  Timestamp('2023-08-04 16:22:49.017377'),\n  'action',\n  'r0',\n  2): 14.0,\n ('MP73',\n  'wang-cheng',\n  Timestamp('2023-07-30 11:22:50.468113'),\n  Timestamp('2023-08-04 16:22:49.017377'),\n  'action',\n  'r0',\n  3): 15.0,\n ('MP73',\n  'wang-cheng',\n  Timestamp('2023-07-30 11:22:50.468113'),\n  Timestamp('2023-08-04 16:22:49.017377'),\n  'action',\n  'r0',\n  4): 16.0,\n ('MP73',\n  'wang-cheng',\n  Timestamp('2023-07-30 11:22:50.468113'),\n  Timestamp('2023-08-04 16:22:49.017377'),\n  'action',\n  'r1',\n  0): 17.0,\n ('MP73',\n  'wang-cheng',\n  Timestamp('2023-07-30 11:22:50.468113'),\n  Timestamp('2023-08-04 16:22:49.017377'),\n  'action',\n  'r1',\n  1): 18.0,\n ('MP73',\n  'wang-cheng',\n  Timestamp('2023-07-30 11:22:50.468113'),\n  Timestamp('2023-08-04 16:22:49.017377'),\n  'action',\n  'r1',\n  2): 19.0,\n ('MP73',\n  'wang-cheng',\n  Timestamp('2023-07-30 11:22:50.468113'),\n  Timestamp('2023-08-04 16:22:49.017377'),\n  'action',\n  'r1',\n  3): 20.0,\n ('MP73',\n  'wang-cheng',\n  Timestamp('2023-07-30 11:22:50.468113'),\n  Timestamp('2023-08-04 16:22:49.017377'),\n  'action',\n  'r1',\n  4): 21.0,\n ('MP73',\n  'wang-cheng',\n  Timestamp('2023-07-30 11:22:50.468113'),\n  Timestamp('2023-08-04 16:22:49.017377'),\n  'action',\n  'r2',\n  0): 22.0,\n ('MP73',\n  'wang-cheng',\n  Timestamp('2023-07-30 11:22:50.468113'),\n  Timestamp('2023-08-04 16:22:49.017377'),\n  'action',\n  'r2',\n  1): 23.0,\n ('MP73',\n  'wang-cheng',\n  Timestamp('2023-07-30 11:22:50.468113'),\n  Timestamp('2023-08-04 16:22:49.017377'),\n  'action',\n  'r2',\n  2): 24.0,\n ('MP73',\n  'wang-cheng',\n  Timestamp('2023-07-30 11:22:50.468113'),\n  Timestamp('2023-08-04 16:22:49.017377'),\n  'action',\n  'r2',\n  3): 25.0,\n ('MP73',\n  'wang-cheng',\n  Timestamp('2023-07-30 11:22:50.468113'),\n  Timestamp('2023-08-04 16:22:49.017377'),\n  'action',\n  'r2',\n  4): 26.0,\n ('MP73',\n  'wang-cheng',\n  Timestamp('2023-07-30 11:22:50.468113'),\n  Timestamp('2023-08-04 16:22:49.017377'),\n  'action',\n  'speed',\n  0): 40.0,\n ('MP73',\n  'wang-cheng',\n  Timestamp('2023-07-30 11:22:50.468113'),\n  Timestamp('2023-08-04 16:22:49.017377'),\n  'action',\n  'speed',\n  1): 50.0,\n ('MP73',\n  'wang-cheng',\n  Timestamp('2023-07-30 11:22:50.468113'),\n  Timestamp('2023-08-04 16:22:49.017377'),\n  'action',\n  'speed',\n  2): 60.0,\n ('MP73',\n  'wang-cheng',\n  Timestamp('2023-07-30 11:22:50.468113'),\n  Timestamp('2023-08-04 16:22:49.017377'),\n  'action',\n  'throttle',\n  0): 0.0,\n ('MP73',\n  'wang-cheng',\n  Timestamp('2023-07-30 11:22:50.468113'),\n  Timestamp('2023-08-04 16:22:49.017377'),\n  'action',\n  'throttle',\n  1): 0.25,\n ('MP73',\n  'wang-cheng',\n  Timestamp('2023-07-30 11:22:50.468113'),\n  Timestamp('2023-08-04 16:22:49.017377'),\n  'action',\n  'throttle',\n  2): 0.5,\n ('MP73',\n  'wang-cheng',\n  Timestamp('2023-07-30 11:22:50.468113'),\n  Timestamp('2023-08-04 16:22:49.017377'),\n  'action',\n  'throttle',\n  3): 0.75,\n ('MP73',\n  'wang-cheng',\n  Timestamp('2023-07-30 11:22:50.468113'),\n  Timestamp('2023-08-04 16:22:49.017377'),\n  'action',\n  'throttle',\n  4): 1.0,\n ('MP73',\n  'wang-cheng',\n  Timestamp('2023-07-30 11:22:50.468113'),\n  Timestamp('2023-08-04 16:22:49.017377'),\n  'action',\n  'timestep',\n  0): Timestamp('2023-08-04 11:22:49.117377'),\n ('MP73',\n  'wang-cheng',\n  Timestamp('2023-07-30 11:22:50.468113'),\n  Timestamp('2023-08-04 16:22:49.017377'),\n  'action',\n  'timestep',\n  1): Timestamp('2023-08-04 11:22:49.137377'),\n ('MP73',\n  'wang-cheng',\n  Timestamp('2023-07-30 11:22:50.468113'),\n  Timestamp('2023-08-04 16:22:49.017377'),\n  'action',\n  'timestep',\n  2): Timestamp('2023-08-04 11:22:49.157377'),\n ('MP73',\n  'wang-cheng',\n  Timestamp('2023-07-30 11:22:50.468113'),\n  Timestamp('2023-08-04 16:22:49.017377'),\n  'nstate',\n  'brake',\n  0): 37.0,\n ('MP73',\n  'wang-cheng',\n  Timestamp('2023-07-30 11:22:50.468113'),\n  Timestamp('2023-08-04 16:22:49.017377'),\n  'nstate',\n  'brake',\n  1): 38.0,\n ('MP73',\n  'wang-cheng',\n  Timestamp('2023-07-30 11:22:50.468113'),\n  Timestamp('2023-08-04 16:22:49.017377'),\n  'nstate',\n  'brake',\n  2): 39.0,\n ('MP73',\n  'wang-cheng',\n  Timestamp('2023-07-30 11:22:50.468113'),\n  Timestamp('2023-08-04 16:22:49.017377'),\n  'nstate',\n  'brake',\n  3): 40.0,\n ('MP73',\n  'wang-cheng',\n  Timestamp('2023-07-30 11:22:50.468113'),\n  Timestamp('2023-08-04 16:22:49.017377'),\n  'nstate',\n  'thrust',\n  0): 33.0,\n ('MP73',\n  'wang-cheng',\n  Timestamp('2023-07-30 11:22:50.468113'),\n  Timestamp('2023-08-04 16:22:49.017377'),\n  'nstate',\n  'thrust',\n  1): 34.0,\n ('MP73',\n  'wang-cheng',\n  Timestamp('2023-07-30 11:22:50.468113'),\n  Timestamp('2023-08-04 16:22:49.017377'),\n  'nstate',\n  'thrust',\n  2): 35.0,\n ('MP73',\n  'wang-cheng',\n  Timestamp('2023-07-30 11:22:50.468113'),\n  Timestamp('2023-08-04 16:22:49.017377'),\n  'nstate',\n  'thrust',\n  3): 36.0,\n ('MP73',\n  'wang-cheng',\n  Timestamp('2023-07-30 11:22:50.468113'),\n  Timestamp('2023-08-04 16:22:49.017377'),\n  'nstate',\n  'timestep',\n  0): Timestamp('2023-08-04 11:22:54.017377'),\n ('MP73',\n  'wang-cheng',\n  Timestamp('2023-07-30 11:22:50.468113'),\n  Timestamp('2023-08-04 16:22:49.017377'),\n  'nstate',\n  'timestep',\n  1): Timestamp('2023-08-04 11:22:54.037377'),\n ('MP73',\n  'wang-cheng',\n  Timestamp('2023-07-30 11:22:50.468113'),\n  Timestamp('2023-08-04 16:22:49.017377'),\n  'nstate',\n  'timestep',\n  2): Timestamp('2023-08-04 11:22:54.057377'),\n ('MP73',\n  'wang-cheng',\n  Timestamp('2023-07-30 11:22:50.468113'),\n  Timestamp('2023-08-04 16:22:49.017377'),\n  'nstate',\n  'timestep',\n  3): Timestamp('2023-08-04 11:22:54.077377'),\n ('MP73',\n  'wang-cheng',\n  Timestamp('2023-07-30 11:22:50.468113'),\n  Timestamp('2023-08-04 16:22:49.017377'),\n  'nstate',\n  'velocity',\n  0): 29.0,\n ('MP73',\n  'wang-cheng',\n  Timestamp('2023-07-30 11:22:50.468113'),\n  Timestamp('2023-08-04 16:22:49.017377'),\n  'nstate',\n  'velocity',\n  1): 30.0,\n ('MP73',\n  'wang-cheng',\n  Timestamp('2023-07-30 11:22:50.468113'),\n  Timestamp('2023-08-04 16:22:49.017377'),\n  'nstate',\n  'velocity',\n  2): 31.0,\n ('MP73',\n  'wang-cheng',\n  Timestamp('2023-07-30 11:22:50.468113'),\n  Timestamp('2023-08-04 16:22:49.017377'),\n  'nstate',\n  'velocity',\n  3): 32.0,\n ('MP73',\n  'wang-cheng',\n  Timestamp('2023-07-30 11:22:50.468113'),\n  Timestamp('2023-08-04 16:22:49.017377'),\n  'reward',\n  'timestep',\n  0): Timestamp('2023-08-04 11:22:49.117377'),\n ('MP73',\n  'wang-cheng',\n  Timestamp('2023-07-30 11:22:50.468113'),\n  Timestamp('2023-08-04 16:22:49.017377'),\n  'reward',\n  'work',\n  0): 27.0,\n ('MP73',\n  'wang-cheng',\n  Timestamp('2023-07-30 11:22:50.468113'),\n  Timestamp('2023-08-04 16:22:49.017377'),\n  'state',\n  'brake',\n  0): 8.0,\n ('MP73',\n  'wang-cheng',\n  Timestamp('2023-07-30 11:22:50.468113'),\n  Timestamp('2023-08-04 16:22:49.017377'),\n  'state',\n  'brake',\n  1): 9.0,\n ('MP73',\n  'wang-cheng',\n  Timestamp('2023-07-30 11:22:50.468113'),\n  Timestamp('2023-08-04 16:22:49.017377'),\n  'state',\n  'brake',\n  2): 10.0,\n ('MP73',\n  'wang-cheng',\n  Timestamp('2023-07-30 11:22:50.468113'),\n  Timestamp('2023-08-04 16:22:49.017377'),\n  'state',\n  'brake',\n  3): 11.0,\n ('MP73',\n  'wang-cheng',\n  Timestamp('2023-07-30 11:22:50.468113'),\n  Timestamp('2023-08-04 16:22:49.017377'),\n  'state',\n  'thrust',\n  0): 4.0,\n ('MP73',\n  'wang-cheng',\n  Timestamp('2023-07-30 11:22:50.468113'),\n  Timestamp('2023-08-04 16:22:49.017377'),\n  'state',\n  'thrust',\n  1): 5.0,\n ('MP73',\n  'wang-cheng',\n  Timestamp('2023-07-30 11:22:50.468113'),\n  Timestamp('2023-08-04 16:22:49.017377'),\n  'state',\n  'thrust',\n  2): 6.0,\n ('MP73',\n  'wang-cheng',\n  Timestamp('2023-07-30 11:22:50.468113'),\n  Timestamp('2023-08-04 16:22:49.017377'),\n  'state',\n  'thrust',\n  3): 7.0,\n ('MP73',\n  'wang-cheng',\n  Timestamp('2023-07-30 11:22:50.468113'),\n  Timestamp('2023-08-04 16:22:49.017377'),\n  'state',\n  'timestep',\n  0): Timestamp('2023-08-04 11:22:49.017377'),\n ('MP73',\n  'wang-cheng',\n  Timestamp('2023-07-30 11:22:50.468113'),\n  Timestamp('2023-08-04 16:22:49.017377'),\n  'state',\n  'timestep',\n  1): Timestamp('2023-08-04 11:22:49.037377'),\n ('MP73',\n  'wang-cheng',\n  Timestamp('2023-07-30 11:22:50.468113'),\n  Timestamp('2023-08-04 16:22:49.017377'),\n  'state',\n  'timestep',\n  2): Timestamp('2023-08-04 11:22:49.057377'),\n ('MP73',\n  'wang-cheng',\n  Timestamp('2023-07-30 11:22:50.468113'),\n  Timestamp('2023-08-04 16:22:49.017377'),\n  'state',\n  'timestep',\n  3): Timestamp('2023-08-04 11:22:49.077377'),\n ('MP73',\n  'wang-cheng',\n  Timestamp('2023-07-30 11:22:50.468113'),\n  Timestamp('2023-08-04 16:22:49.017377'),\n  'state',\n  'velocity',\n  0): 0.0,\n ('MP73',\n  'wang-cheng',\n  Timestamp('2023-07-30 11:22:50.468113'),\n  Timestamp('2023-08-04 16:22:49.017377'),\n  'state',\n  'velocity',\n  1): 1.0,\n ('MP73',\n  'wang-cheng',\n  Timestamp('2023-07-30 11:22:50.468113'),\n  Timestamp('2023-08-04 16:22:49.017377'),\n  'state',\n  'velocity',\n  2): 2.0,\n ('MP73',\n  'wang-cheng',\n  Timestamp('2023-07-30 11:22:50.468113'),\n  Timestamp('2023-08-04 16:22:49.017377'),\n  'state',\n  'velocity',\n  3): 3.0,\n ('VB7',\n  'wang-cheng',\n  Timestamp('2023-07-29 11:22:50.468113'),\n  Timestamp('2023-08-04 15:22:49.017377'),\n  'action',\n  'r0',\n  0): 12.0,\n ('VB7',\n  'wang-cheng',\n  Timestamp('2023-07-29 11:22:50.468113'),\n  Timestamp('2023-08-04 15:22:49.017377'),\n  'action',\n  'r0',\n  1): 13.0,\n ('VB7',\n  'wang-cheng',\n  Timestamp('2023-07-29 11:22:50.468113'),\n  Timestamp('2023-08-04 15:22:49.017377'),\n  'action',\n  'r0',\n  2): 14.0,\n ('VB7',\n  'wang-cheng',\n  Timestamp('2023-07-29 11:22:50.468113'),\n  Timestamp('2023-08-04 15:22:49.017377'),\n  'action',\n  'r0',\n  3): 15.0,\n ('VB7',\n  'wang-cheng',\n  Timestamp('2023-07-29 11:22:50.468113'),\n  Timestamp('2023-08-04 15:22:49.017377'),\n  'action',\n  'r0',\n  4): 16.0,\n ('VB7',\n  'wang-cheng',\n  Timestamp('2023-07-29 11:22:50.468113'),\n  Timestamp('2023-08-04 15:22:49.017377'),\n  'action',\n  'r1',\n  0): 17.0,\n ('VB7',\n  'wang-cheng',\n  Timestamp('2023-07-29 11:22:50.468113'),\n  Timestamp('2023-08-04 15:22:49.017377'),\n  'action',\n  'r1',\n  1): 18.0,\n ('VB7',\n  'wang-cheng',\n  Timestamp('2023-07-29 11:22:50.468113'),\n  Timestamp('2023-08-04 15:22:49.017377'),\n  'action',\n  'r1',\n  2): 19.0,\n ('VB7',\n  'wang-cheng',\n  Timestamp('2023-07-29 11:22:50.468113'),\n  Timestamp('2023-08-04 15:22:49.017377'),\n  'action',\n  'r1',\n  3): 20.0,\n ('VB7',\n  'wang-cheng',\n  Timestamp('2023-07-29 11:22:50.468113'),\n  Timestamp('2023-08-04 15:22:49.017377'),\n  'action',\n  'r1',\n  4): 21.0,\n ('VB7',\n  'wang-cheng',\n  Timestamp('2023-07-29 11:22:50.468113'),\n  Timestamp('2023-08-04 15:22:49.017377'),\n  'action',\n  'r2',\n  0): 22.0,\n ('VB7',\n  'wang-cheng',\n  Timestamp('2023-07-29 11:22:50.468113'),\n  Timestamp('2023-08-04 15:22:49.017377'),\n  'action',\n  'r2',\n  1): 23.0,\n ('VB7',\n  'wang-cheng',\n  Timestamp('2023-07-29 11:22:50.468113'),\n  Timestamp('2023-08-04 15:22:49.017377'),\n  'action',\n  'r2',\n  2): 24.0,\n ('VB7',\n  'wang-cheng',\n  Timestamp('2023-07-29 11:22:50.468113'),\n  Timestamp('2023-08-04 15:22:49.017377'),\n  'action',\n  'r2',\n  3): 25.0,\n ('VB7',\n  'wang-cheng',\n  Timestamp('2023-07-29 11:22:50.468113'),\n  Timestamp('2023-08-04 15:22:49.017377'),\n  'action',\n  'r2',\n  4): 26.0,\n ('VB7',\n  'wang-cheng',\n  Timestamp('2023-07-29 11:22:50.468113'),\n  Timestamp('2023-08-04 15:22:49.017377'),\n  'action',\n  'speed',\n  0): 40.0,\n ('VB7',\n  'wang-cheng',\n  Timestamp('2023-07-29 11:22:50.468113'),\n  Timestamp('2023-08-04 15:22:49.017377'),\n  'action',\n  'speed',\n  1): 50.0,\n ('VB7',\n  'wang-cheng',\n  Timestamp('2023-07-29 11:22:50.468113'),\n  Timestamp('2023-08-04 15:22:49.017377'),\n  'action',\n  'speed',\n  2): 60.0,\n ('VB7',\n  'wang-cheng',\n  Timestamp('2023-07-29 11:22:50.468113'),\n  Timestamp('2023-08-04 15:22:49.017377'),\n  'action',\n  'throttle',\n  0): 0.0,\n ('VB7',\n  'wang-cheng',\n  Timestamp('2023-07-29 11:22:50.468113'),\n  Timestamp('2023-08-04 15:22:49.017377'),\n  'action',\n  'throttle',\n  1): 0.25,\n ('VB7',\n  'wang-cheng',\n  Timestamp('2023-07-29 11:22:50.468113'),\n  Timestamp('2023-08-04 15:22:49.017377'),\n  'action',\n  'throttle',\n  2): 0.5,\n ('VB7',\n  'wang-cheng',\n  Timestamp('2023-07-29 11:22:50.468113'),\n  Timestamp('2023-08-04 15:22:49.017377'),\n  'action',\n  'throttle',\n  3): 0.75,\n ('VB7',\n  'wang-cheng',\n  Timestamp('2023-07-29 11:22:50.468113'),\n  Timestamp('2023-08-04 15:22:49.017377'),\n  'action',\n  'throttle',\n  4): 1.0,\n ('VB7',\n  'wang-cheng',\n  Timestamp('2023-07-29 11:22:50.468113'),\n  Timestamp('2023-08-04 15:22:49.017377'),\n  'action',\n  'timestep',\n  0): Timestamp('2023-08-04 11:22:49.117377'),\n ('VB7',\n  'wang-cheng',\n  Timestamp('2023-07-29 11:22:50.468113'),\n  Timestamp('2023-08-04 15:22:49.017377'),\n  'action',\n  'timestep',\n  1): Timestamp('2023-08-04 11:22:49.137377'),\n ('VB7',\n  'wang-cheng',\n  Timestamp('2023-07-29 11:22:50.468113'),\n  Timestamp('2023-08-04 15:22:49.017377'),\n  'action',\n  'timestep',\n  2): Timestamp('2023-08-04 11:22:49.157377'),\n ('VB7',\n  'wang-cheng',\n  Timestamp('2023-07-29 11:22:50.468113'),\n  Timestamp('2023-08-04 15:22:49.017377'),\n  'nstate',\n  'brake',\n  0): 37.0,\n ('VB7',\n  'wang-cheng',\n  Timestamp('2023-07-29 11:22:50.468113'),\n  Timestamp('2023-08-04 15:22:49.017377'),\n  'nstate',\n  'brake',\n  1): 38.0,\n ('VB7',\n  'wang-cheng',\n  Timestamp('2023-07-29 11:22:50.468113'),\n  Timestamp('2023-08-04 15:22:49.017377'),\n  'nstate',\n  'brake',\n  2): 39.0,\n ('VB7',\n  'wang-cheng',\n  Timestamp('2023-07-29 11:22:50.468113'),\n  Timestamp('2023-08-04 15:22:49.017377'),\n  'nstate',\n  'brake',\n  3): 40.0,\n ('VB7',\n  'wang-cheng',\n  Timestamp('2023-07-29 11:22:50.468113'),\n  Timestamp('2023-08-04 15:22:49.017377'),\n  'nstate',\n  'thrust',\n  0): 33.0,\n ('VB7',\n  'wang-cheng',\n  Timestamp('2023-07-29 11:22:50.468113'),\n  Timestamp('2023-08-04 15:22:49.017377'),\n  'nstate',\n  'thrust',\n  1): 34.0,\n ('VB7',\n  'wang-cheng',\n  Timestamp('2023-07-29 11:22:50.468113'),\n  Timestamp('2023-08-04 15:22:49.017377'),\n  'nstate',\n  'thrust',\n  2): 35.0,\n ('VB7',\n  'wang-cheng',\n  Timestamp('2023-07-29 11:22:50.468113'),\n  Timestamp('2023-08-04 15:22:49.017377'),\n  'nstate',\n  'thrust',\n  3): 36.0,\n ('VB7',\n  'wang-cheng',\n  Timestamp('2023-07-29 11:22:50.468113'),\n  Timestamp('2023-08-04 15:22:49.017377'),\n  'nstate',\n  'timestep',\n  0): Timestamp('2023-08-04 11:22:54.017377'),\n ('VB7',\n  'wang-cheng',\n  Timestamp('2023-07-29 11:22:50.468113'),\n  Timestamp('2023-08-04 15:22:49.017377'),\n  'nstate',\n  'timestep',\n  1): Timestamp('2023-08-04 11:22:54.037377'),\n ('VB7',\n  'wang-cheng',\n  Timestamp('2023-07-29 11:22:50.468113'),\n  Timestamp('2023-08-04 15:22:49.017377'),\n  'nstate',\n  'timestep',\n  2): Timestamp('2023-08-04 11:22:54.057377'),\n ('VB7',\n  'wang-cheng',\n  Timestamp('2023-07-29 11:22:50.468113'),\n  Timestamp('2023-08-04 15:22:49.017377'),\n  'nstate',\n  'timestep',\n  3): Timestamp('2023-08-04 11:22:54.077377'),\n ('VB7',\n  'wang-cheng',\n  Timestamp('2023-07-29 11:22:50.468113'),\n  Timestamp('2023-08-04 15:22:49.017377'),\n  'nstate',\n  'velocity',\n  0): 29.0,\n ('VB7',\n  'wang-cheng',\n  Timestamp('2023-07-29 11:22:50.468113'),\n  Timestamp('2023-08-04 15:22:49.017377'),\n  'nstate',\n  'velocity',\n  1): 30.0,\n ('VB7',\n  'wang-cheng',\n  Timestamp('2023-07-29 11:22:50.468113'),\n  Timestamp('2023-08-04 15:22:49.017377'),\n  'nstate',\n  'velocity',\n  2): 31.0,\n ('VB7',\n  'wang-cheng',\n  Timestamp('2023-07-29 11:22:50.468113'),\n  Timestamp('2023-08-04 15:22:49.017377'),\n  'nstate',\n  'velocity',\n  3): 32.0,\n ('VB7',\n  'wang-cheng',\n  Timestamp('2023-07-29 11:22:50.468113'),\n  Timestamp('2023-08-04 15:22:49.017377'),\n  'reward',\n  'timestep',\n  0): Timestamp('2023-08-04 11:22:49.117377'),\n ('VB7',\n  'wang-cheng',\n  Timestamp('2023-07-29 11:22:50.468113'),\n  Timestamp('2023-08-04 15:22:49.017377'),\n  'reward',\n  'work',\n  0): 27.0,\n ('VB7',\n  'wang-cheng',\n  Timestamp('2023-07-29 11:22:50.468113'),\n  Timestamp('2023-08-04 15:22:49.017377'),\n  'state',\n  'brake',\n  0): 8.0,\n ('VB7',\n  'wang-cheng',\n  Timestamp('2023-07-29 11:22:50.468113'),\n  Timestamp('2023-08-04 15:22:49.017377'),\n  'state',\n  'brake',\n  1): 9.0,\n ('VB7',\n  'wang-cheng',\n  Timestamp('2023-07-29 11:22:50.468113'),\n  Timestamp('2023-08-04 15:22:49.017377'),\n  'state',\n  'brake',\n  2): 10.0,\n ('VB7',\n  'wang-cheng',\n  Timestamp('2023-07-29 11:22:50.468113'),\n  Timestamp('2023-08-04 15:22:49.017377'),\n  'state',\n  'brake',\n  3): 11.0,\n ('VB7',\n  'wang-cheng',\n  Timestamp('2023-07-29 11:22:50.468113'),\n  Timestamp('2023-08-04 15:22:49.017377'),\n  'state',\n  'thrust',\n  0): 4.0,\n ('VB7',\n  'wang-cheng',\n  Timestamp('2023-07-29 11:22:50.468113'),\n  Timestamp('2023-08-04 15:22:49.017377'),\n  'state',\n  'thrust',\n  1): 5.0,\n ('VB7',\n  'wang-cheng',\n  Timestamp('2023-07-29 11:22:50.468113'),\n  Timestamp('2023-08-04 15:22:49.017377'),\n  'state',\n  'thrust',\n  2): 6.0,\n ('VB7',\n  'wang-cheng',\n  Timestamp('2023-07-29 11:22:50.468113'),\n  Timestamp('2023-08-04 15:22:49.017377'),\n  'state',\n  'thrust',\n  3): 7.0,\n ('VB7',\n  'wang-cheng',\n  Timestamp('2023-07-29 11:22:50.468113'),\n  Timestamp('2023-08-04 15:22:49.017377'),\n  'state',\n  'timestep',\n  0): Timestamp('2023-08-04 11:22:49.017377'),\n ('VB7',\n  'wang-cheng',\n  Timestamp('2023-07-29 11:22:50.468113'),\n  Timestamp('2023-08-04 15:22:49.017377'),\n  'state',\n  'timestep',\n  1): Timestamp('2023-08-04 11:22:49.037377'),\n ('VB7',\n  'wang-cheng',\n  Timestamp('2023-07-29 11:22:50.468113'),\n  Timestamp('2023-08-04 15:22:49.017377'),\n  'state',\n  'timestep',\n  2): Timestamp('2023-08-04 11:22:49.057377'),\n ('VB7',\n  'wang-cheng',\n  Timestamp('2023-07-29 11:22:50.468113'),\n  Timestamp('2023-08-04 15:22:49.017377'),\n  'state',\n  'timestep',\n  3): Timestamp('2023-08-04 11:22:49.077377'),\n ('VB7',\n  'wang-cheng',\n  Timestamp('2023-07-29 11:22:50.468113'),\n  Timestamp('2023-08-04 15:22:49.017377'),\n  'state',\n  'velocity',\n  0): 0.0,\n ('VB7',\n  'wang-cheng',\n  Timestamp('2023-07-29 11:22:50.468113'),\n  Timestamp('2023-08-04 15:22:49.017377'),\n  'state',\n  'velocity',\n  1): 1.0,\n ('VB7',\n  'wang-cheng',\n  Timestamp('2023-07-29 11:22:50.468113'),\n  Timestamp('2023-08-04 15:22:49.017377'),\n  'state',\n  'velocity',\n  2): 2.0,\n ('VB7',\n  'wang-cheng',\n  Timestamp('2023-07-29 11:22:50.468113'),\n  Timestamp('2023-08-04 15:22:49.017377'),\n  'state',\n  'velocity',\n  3): 3.0,\n ('VB7',\n  'wang-cheng',\n  Timestamp('2023-07-29 11:22:50.468113'),\n  Timestamp('2023-08-04 16:22:49.017377'),\n  'action',\n  'r0',\n  0): 12.0,\n ('VB7',\n  'wang-cheng',\n  Timestamp('2023-07-29 11:22:50.468113'),\n  Timestamp('2023-08-04 16:22:49.017377'),\n  'action',\n  'r0',\n  1): 13.0,\n ('VB7',\n  'wang-cheng',\n  Timestamp('2023-07-29 11:22:50.468113'),\n  Timestamp('2023-08-04 16:22:49.017377'),\n  'action',\n  'r0',\n  2): 14.0,\n ('VB7',\n  'wang-cheng',\n  Timestamp('2023-07-29 11:22:50.468113'),\n  Timestamp('2023-08-04 16:22:49.017377'),\n  'action',\n  'r0',\n  3): 15.0,\n ('VB7',\n  'wang-cheng',\n  Timestamp('2023-07-29 11:22:50.468113'),\n  Timestamp('2023-08-04 16:22:49.017377'),\n  'action',\n  'r0',\n  4): 16.0,\n ('VB7',\n  'wang-cheng',\n  Timestamp('2023-07-29 11:22:50.468113'),\n  Timestamp('2023-08-04 16:22:49.017377'),\n  'action',\n  'r1',\n  0): 17.0,\n ('VB7',\n  'wang-cheng',\n  Timestamp('2023-07-29 11:22:50.468113'),\n  Timestamp('2023-08-04 16:22:49.017377'),\n  'action',\n  'r1',\n  1): 18.0,\n ('VB7',\n  'wang-cheng',\n  Timestamp('2023-07-29 11:22:50.468113'),\n  Timestamp('2023-08-04 16:22:49.017377'),\n  'action',\n  'r1',\n  2): 19.0,\n ('VB7',\n  'wang-cheng',\n  Timestamp('2023-07-29 11:22:50.468113'),\n  Timestamp('2023-08-04 16:22:49.017377'),\n  'action',\n  'r1',\n  3): 20.0,\n ('VB7',\n  'wang-cheng',\n  Timestamp('2023-07-29 11:22:50.468113'),\n  Timestamp('2023-08-04 16:22:49.017377'),\n  'action',\n  'r1',\n  4): 21.0,\n ('VB7',\n  'wang-cheng',\n  Timestamp('2023-07-29 11:22:50.468113'),\n  Timestamp('2023-08-04 16:22:49.017377'),\n  'action',\n  'r2',\n  0): 22.0,\n ('VB7',\n  'wang-cheng',\n  Timestamp('2023-07-29 11:22:50.468113'),\n  Timestamp('2023-08-04 16:22:49.017377'),\n  'action',\n  'r2',\n  1): 23.0,\n ('VB7',\n  'wang-cheng',\n  Timestamp('2023-07-29 11:22:50.468113'),\n  Timestamp('2023-08-04 16:22:49.017377'),\n  'action',\n  'r2',\n  2): 24.0,\n ('VB7',\n  'wang-cheng',\n  Timestamp('2023-07-29 11:22:50.468113'),\n  Timestamp('2023-08-04 16:22:49.017377'),\n  'action',\n  'r2',\n  3): 25.0,\n ('VB7',\n  'wang-cheng',\n  Timestamp('2023-07-29 11:22:50.468113'),\n  Timestamp('2023-08-04 16:22:49.017377'),\n  'action',\n  'r2',\n  4): 26.0,\n ('VB7',\n  'wang-cheng',\n  Timestamp('2023-07-29 11:22:50.468113'),\n  Timestamp('2023-08-04 16:22:49.017377'),\n  'action',\n  'speed',\n  0): 40.0,\n ('VB7',\n  'wang-cheng',\n  Timestamp('2023-07-29 11:22:50.468113'),\n  Timestamp('2023-08-04 16:22:49.017377'),\n  'action',\n  'speed',\n  1): 50.0,\n ('VB7',\n  'wang-cheng',\n  Timestamp('2023-07-29 11:22:50.468113'),\n  Timestamp('2023-08-04 16:22:49.017377'),\n  'action',\n  'speed',\n  2): 60.0,\n ('VB7',\n  'wang-cheng',\n  Timestamp('2023-07-29 11:22:50.468113'),\n  Timestamp('2023-08-04 16:22:49.017377'),\n  'action',\n  'throttle',\n  0): 0.0,\n ('VB7',\n  'wang-cheng',\n  Timestamp('2023-07-29 11:22:50.468113'),\n  Timestamp('2023-08-04 16:22:49.017377'),\n  'action',\n  'throttle',\n  1): 0.25,\n ('VB7',\n  'wang-cheng',\n  Timestamp('2023-07-29 11:22:50.468113'),\n  Timestamp('2023-08-04 16:22:49.017377'),\n  'action',\n  'throttle',\n  2): 0.5,\n ('VB7',\n  'wang-cheng',\n  Timestamp('2023-07-29 11:22:50.468113'),\n  Timestamp('2023-08-04 16:22:49.017377'),\n  'action',\n  'throttle',\n  3): 0.75,\n ('VB7',\n  'wang-cheng',\n  Timestamp('2023-07-29 11:22:50.468113'),\n  Timestamp('2023-08-04 16:22:49.017377'),\n  'action',\n  'throttle',\n  4): 1.0,\n ('VB7',\n  'wang-cheng',\n  Timestamp('2023-07-29 11:22:50.468113'),\n  Timestamp('2023-08-04 16:22:49.017377'),\n  'action',\n  'timestep',\n  0): Timestamp('2023-08-04 11:22:49.117377'),\n ('VB7',\n  'wang-cheng',\n  Timestamp('2023-07-29 11:22:50.468113'),\n  Timestamp('2023-08-04 16:22:49.017377'),\n  'action',\n  'timestep',\n  1): Timestamp('2023-08-04 11:22:49.137377'),\n ('VB7',\n  'wang-cheng',\n  Timestamp('2023-07-29 11:22:50.468113'),\n  Timestamp('2023-08-04 16:22:49.017377'),\n  'action',\n  'timestep',\n  2): Timestamp('2023-08-04 11:22:49.157377'),\n ('VB7',\n  'wang-cheng',\n  Timestamp('2023-07-29 11:22:50.468113'),\n  Timestamp('2023-08-04 16:22:49.017377'),\n  'nstate',\n  'brake',\n  0): 37.0,\n ('VB7',\n  'wang-cheng',\n  Timestamp('2023-07-29 11:22:50.468113'),\n  Timestamp('2023-08-04 16:22:49.017377'),\n  'nstate',\n  'brake',\n  1): 38.0,\n ('VB7',\n  'wang-cheng',\n  Timestamp('2023-07-29 11:22:50.468113'),\n  Timestamp('2023-08-04 16:22:49.017377'),\n  'nstate',\n  'brake',\n  2): 39.0,\n ('VB7',\n  'wang-cheng',\n  Timestamp('2023-07-29 11:22:50.468113'),\n  Timestamp('2023-08-04 16:22:49.017377'),\n  'nstate',\n  'brake',\n  3): 40.0,\n ('VB7',\n  'wang-cheng',\n  Timestamp('2023-07-29 11:22:50.468113'),\n  Timestamp('2023-08-04 16:22:49.017377'),\n  'nstate',\n  'thrust',\n  0): 33.0,\n ('VB7',\n  'wang-cheng',\n  Timestamp('2023-07-29 11:22:50.468113'),\n  Timestamp('2023-08-04 16:22:49.017377'),\n  'nstate',\n  'thrust',\n  1): 34.0,\n ('VB7',\n  'wang-cheng',\n  Timestamp('2023-07-29 11:22:50.468113'),\n  Timestamp('2023-08-04 16:22:49.017377'),\n  'nstate',\n  'thrust',\n  2): 35.0,\n ('VB7',\n  'wang-cheng',\n  Timestamp('2023-07-29 11:22:50.468113'),\n  Timestamp('2023-08-04 16:22:49.017377'),\n  'nstate',\n  'thrust',\n  3): 36.0,\n ('VB7',\n  'wang-cheng',\n  Timestamp('2023-07-29 11:22:50.468113'),\n  Timestamp('2023-08-04 16:22:49.017377'),\n  'nstate',\n  'timestep',\n  0): Timestamp('2023-08-04 11:22:54.017377'),\n ('VB7',\n  'wang-cheng',\n  Timestamp('2023-07-29 11:22:50.468113'),\n  Timestamp('2023-08-04 16:22:49.017377'),\n  'nstate',\n  'timestep',\n  1): Timestamp('2023-08-04 11:22:54.037377'),\n ('VB7',\n  'wang-cheng',\n  Timestamp('2023-07-29 11:22:50.468113'),\n  Timestamp('2023-08-04 16:22:49.017377'),\n  'nstate',\n  'timestep',\n  2): Timestamp('2023-08-04 11:22:54.057377'),\n ('VB7',\n  'wang-cheng',\n  Timestamp('2023-07-29 11:22:50.468113'),\n  Timestamp('2023-08-04 16:22:49.017377'),\n  'nstate',\n  'timestep',\n  3): Timestamp('2023-08-04 11:22:54.077377'),\n ('VB7',\n  'wang-cheng',\n  Timestamp('2023-07-29 11:22:50.468113'),\n  Timestamp('2023-08-04 16:22:49.017377'),\n  'nstate',\n  'velocity',\n  0): 29.0,\n ('VB7',\n  'wang-cheng',\n  Timestamp('2023-07-29 11:22:50.468113'),\n  Timestamp('2023-08-04 16:22:49.017377'),\n  'nstate',\n  'velocity',\n  1): 30.0,\n ('VB7',\n  'wang-cheng',\n  Timestamp('2023-07-29 11:22:50.468113'),\n  Timestamp('2023-08-04 16:22:49.017377'),\n  'nstate',\n  'velocity',\n  2): 31.0,\n ('VB7',\n  'wang-cheng',\n  Timestamp('2023-07-29 11:22:50.468113'),\n  Timestamp('2023-08-04 16:22:49.017377'),\n  'nstate',\n  'velocity',\n  3): 32.0,\n ('VB7',\n  'wang-cheng',\n  Timestamp('2023-07-29 11:22:50.468113'),\n  Timestamp('2023-08-04 16:22:49.017377'),\n  'reward',\n  'timestep',\n  0): Timestamp('2023-08-04 11:22:49.117377'),\n ('VB7',\n  'wang-cheng',\n  Timestamp('2023-07-29 11:22:50.468113'),\n  Timestamp('2023-08-04 16:22:49.017377'),\n  'reward',\n  'work',\n  0): 27.0,\n ('VB7',\n  'wang-cheng',\n  Timestamp('2023-07-29 11:22:50.468113'),\n  Timestamp('2023-08-04 16:22:49.017377'),\n  'state',\n  'brake',\n  0): 8.0,\n ('VB7',\n  'wang-cheng',\n  Timestamp('2023-07-29 11:22:50.468113'),\n  Timestamp('2023-08-04 16:22:49.017377'),\n  'state',\n  'brake',\n  1): 9.0,\n ('VB7',\n  'wang-cheng',\n  Timestamp('2023-07-29 11:22:50.468113'),\n  Timestamp('2023-08-04 16:22:49.017377'),\n  'state',\n  'brake',\n  2): 10.0,\n ('VB7',\n  'wang-cheng',\n  Timestamp('2023-07-29 11:22:50.468113'),\n  Timestamp('2023-08-04 16:22:49.017377'),\n  'state',\n  'brake',\n  3): 11.0,\n ('VB7',\n  'wang-cheng',\n  Timestamp('2023-07-29 11:22:50.468113'),\n  Timestamp('2023-08-04 16:22:49.017377'),\n  'state',\n  'thrust',\n  0): 4.0,\n ('VB7',\n  'wang-cheng',\n  Timestamp('2023-07-29 11:22:50.468113'),\n  Timestamp('2023-08-04 16:22:49.017377'),\n  'state',\n  'thrust',\n  1): 5.0,\n ('VB7',\n  'wang-cheng',\n  Timestamp('2023-07-29 11:22:50.468113'),\n  Timestamp('2023-08-04 16:22:49.017377'),\n  'state',\n  'thrust',\n  2): 6.0,\n ('VB7',\n  'wang-cheng',\n  Timestamp('2023-07-29 11:22:50.468113'),\n  Timestamp('2023-08-04 16:22:49.017377'),\n  'state',\n  'thrust',\n  3): 7.0,\n ('VB7',\n  'wang-cheng',\n  Timestamp('2023-07-29 11:22:50.468113'),\n  Timestamp('2023-08-04 16:22:49.017377'),\n  'state',\n  'timestep',\n  0): Timestamp('2023-08-04 11:22:49.017377'),\n ('VB7',\n  'wang-cheng',\n  Timestamp('2023-07-29 11:22:50.468113'),\n  Timestamp('2023-08-04 16:22:49.017377'),\n  'state',\n  'timestep',\n  1): Timestamp('2023-08-04 11:22:49.037377'),\n ('VB7',\n  'wang-cheng',\n  Timestamp('2023-07-29 11:22:50.468113'),\n  Timestamp('2023-08-04 16:22:49.017377'),\n  'state',\n  'timestep',\n  2): Timestamp('2023-08-04 11:22:49.057377'),\n ('VB7',\n  'wang-cheng',\n  Timestamp('2023-07-29 11:22:50.468113'),\n  Timestamp('2023-08-04 16:22:49.017377'),\n  'state',\n  'timestep',\n  3): Timestamp('2023-08-04 11:22:49.077377'),\n ('VB7',\n  'wang-cheng',\n  Timestamp('2023-07-29 11:22:50.468113'),\n  Timestamp('2023-08-04 16:22:49.017377'),\n  'state',\n  'velocity',\n  0): 0.0,\n ('VB7',\n  'wang-cheng',\n  Timestamp('2023-07-29 11:22:50.468113'),\n  Timestamp('2023-08-04 16:22:49.017377'),\n  'state',\n  'velocity',\n  1): 1.0,\n ('VB7',\n  'wang-cheng',\n  Timestamp('2023-07-29 11:22:50.468113'),\n  Timestamp('2023-08-04 16:22:49.017377'),\n  'state',\n  'velocity',\n  2): 2.0,\n ('VB7',\n  'wang-cheng',\n  Timestamp('2023-07-29 11:22:50.468113'),\n  Timestamp('2023-08-04 16:22:49.017377'),\n  'state',\n  'velocity',\n  3): 3.0,\n ('MP73',\n  'zheng-longfei',\n  Timestamp('2023-07-28 11:22:50.468113'),\n  Timestamp('2023-08-04 14:22:49.017377'),\n  'action',\n  'r0',\n  0): 12.0,\n ('MP73',\n  'zheng-longfei',\n  Timestamp('2023-07-28 11:22:50.468113'),\n  Timestamp('2023-08-04 14:22:49.017377'),\n  'action',\n  'r0',\n  1): 13.0,\n ('MP73',\n  'zheng-longfei',\n  Timestamp('2023-07-28 11:22:50.468113'),\n  Timestamp('2023-08-04 14:22:49.017377'),\n  'action',\n  'r0',\n  2): 14.0,\n ('MP73',\n  'zheng-longfei',\n  Timestamp('2023-07-28 11:22:50.468113'),\n  Timestamp('2023-08-04 14:22:49.017377'),\n  'action',\n  'r0',\n  3): 15.0,\n ('MP73',\n  'zheng-longfei',\n  Timestamp('2023-07-28 11:22:50.468113'),\n  Timestamp('2023-08-04 14:22:49.017377'),\n  'action',\n  'r0',\n  4): 16.0,\n ('MP73',\n  'zheng-longfei',\n  Timestamp('2023-07-28 11:22:50.468113'),\n  Timestamp('2023-08-04 14:22:49.017377'),\n  'action',\n  'r1',\n  0): 17.0,\n ('MP73',\n  'zheng-longfei',\n  Timestamp('2023-07-28 11:22:50.468113'),\n  Timestamp('2023-08-04 14:22:49.017377'),\n  'action',\n  'r1',\n  1): 18.0,\n ('MP73',\n  'zheng-longfei',\n  Timestamp('2023-07-28 11:22:50.468113'),\n  Timestamp('2023-08-04 14:22:49.017377'),\n  'action',\n  'r1',\n  2): 19.0,\n ('MP73',\n  'zheng-longfei',\n  Timestamp('2023-07-28 11:22:50.468113'),\n  Timestamp('2023-08-04 14:22:49.017377'),\n  'action',\n  'r1',\n  3): 20.0,\n ('MP73',\n  'zheng-longfei',\n  Timestamp('2023-07-28 11:22:50.468113'),\n  Timestamp('2023-08-04 14:22:49.017377'),\n  'action',\n  'r1',\n  4): 21.0,\n ('MP73',\n  'zheng-longfei',\n  Timestamp('2023-07-28 11:22:50.468113'),\n  Timestamp('2023-08-04 14:22:49.017377'),\n  'action',\n  'r2',\n  0): 22.0,\n ('MP73',\n  'zheng-longfei',\n  Timestamp('2023-07-28 11:22:50.468113'),\n  Timestamp('2023-08-04 14:22:49.017377'),\n  'action',\n  'r2',\n  1): 23.0,\n ('MP73',\n  'zheng-longfei',\n  Timestamp('2023-07-28 11:22:50.468113'),\n  Timestamp('2023-08-04 14:22:49.017377'),\n  'action',\n  'r2',\n  2): 24.0,\n ('MP73',\n  'zheng-longfei',\n  Timestamp('2023-07-28 11:22:50.468113'),\n  Timestamp('2023-08-04 14:22:49.017377'),\n  'action',\n  'r2',\n  3): 25.0,\n ('MP73',\n  'zheng-longfei',\n  Timestamp('2023-07-28 11:22:50.468113'),\n  Timestamp('2023-08-04 14:22:49.017377'),\n  'action',\n  'r2',\n  4): 26.0,\n ('MP73',\n  'zheng-longfei',\n  Timestamp('2023-07-28 11:22:50.468113'),\n  Timestamp('2023-08-04 14:22:49.017377'),\n  'action',\n  'speed',\n  0): 40.0,\n ('MP73',\n  'zheng-longfei',\n  Timestamp('2023-07-28 11:22:50.468113'),\n  Timestamp('2023-08-04 14:22:49.017377'),\n  'action',\n  'speed',\n  1): 50.0,\n ('MP73',\n  'zheng-longfei',\n  Timestamp('2023-07-28 11:22:50.468113'),\n  Timestamp('2023-08-04 14:22:49.017377'),\n  'action',\n  'speed',\n  2): 60.0,\n ('MP73',\n  'zheng-longfei',\n  Timestamp('2023-07-28 11:22:50.468113'),\n  Timestamp('2023-08-04 14:22:49.017377'),\n  'action',\n  'throttle',\n  0): 0.0,\n ('MP73',\n  'zheng-longfei',\n  Timestamp('2023-07-28 11:22:50.468113'),\n  Timestamp('2023-08-04 14:22:49.017377'),\n  'action',\n  'throttle',\n  1): 0.25,\n ('MP73',\n  'zheng-longfei',\n  Timestamp('2023-07-28 11:22:50.468113'),\n  Timestamp('2023-08-04 14:22:49.017377'),\n  'action',\n  'throttle',\n  2): 0.5,\n ('MP73',\n  'zheng-longfei',\n  Timestamp('2023-07-28 11:22:50.468113'),\n  Timestamp('2023-08-04 14:22:49.017377'),\n  'action',\n  'throttle',\n  3): 0.75,\n ('MP73',\n  'zheng-longfei',\n  Timestamp('2023-07-28 11:22:50.468113'),\n  Timestamp('2023-08-04 14:22:49.017377'),\n  'action',\n  'throttle',\n  4): 1.0,\n ('MP73',\n  'zheng-longfei',\n  Timestamp('2023-07-28 11:22:50.468113'),\n  Timestamp('2023-08-04 14:22:49.017377'),\n  'action',\n  'timestep',\n  0): Timestamp('2023-08-04 11:22:49.117377'),\n ('MP73',\n  'zheng-longfei',\n  Timestamp('2023-07-28 11:22:50.468113'),\n  Timestamp('2023-08-04 14:22:49.017377'),\n  'action',\n  'timestep',\n  1): Timestamp('2023-08-04 11:22:49.137377'),\n ('MP73',\n  'zheng-longfei',\n  Timestamp('2023-07-28 11:22:50.468113'),\n  Timestamp('2023-08-04 14:22:49.017377'),\n  'action',\n  'timestep',\n  2): Timestamp('2023-08-04 11:22:49.157377'),\n ('MP73',\n  'zheng-longfei',\n  Timestamp('2023-07-28 11:22:50.468113'),\n  Timestamp('2023-08-04 14:22:49.017377'),\n  'nstate',\n  'brake',\n  0): 37.0,\n ('MP73',\n  'zheng-longfei',\n  Timestamp('2023-07-28 11:22:50.468113'),\n  Timestamp('2023-08-04 14:22:49.017377'),\n  'nstate',\n  'brake',\n  1): 38.0,\n ('MP73',\n  'zheng-longfei',\n  Timestamp('2023-07-28 11:22:50.468113'),\n  Timestamp('2023-08-04 14:22:49.017377'),\n  'nstate',\n  'brake',\n  2): 39.0,\n ('MP73',\n  'zheng-longfei',\n  Timestamp('2023-07-28 11:22:50.468113'),\n  Timestamp('2023-08-04 14:22:49.017377'),\n  'nstate',\n  'brake',\n  3): 40.0,\n ('MP73',\n  'zheng-longfei',\n  Timestamp('2023-07-28 11:22:50.468113'),\n  Timestamp('2023-08-04 14:22:49.017377'),\n  'nstate',\n  'thrust',\n  0): 33.0,\n ('MP73',\n  'zheng-longfei',\n  Timestamp('2023-07-28 11:22:50.468113'),\n  Timestamp('2023-08-04 14:22:49.017377'),\n  'nstate',\n  'thrust',\n  1): 34.0,\n ('MP73',\n  'zheng-longfei',\n  Timestamp('2023-07-28 11:22:50.468113'),\n  Timestamp('2023-08-04 14:22:49.017377'),\n  'nstate',\n  'thrust',\n  2): 35.0,\n ('MP73',\n  'zheng-longfei',\n  Timestamp('2023-07-28 11:22:50.468113'),\n  Timestamp('2023-08-04 14:22:49.017377'),\n  'nstate',\n  'thrust',\n  3): 36.0,\n ('MP73',\n  'zheng-longfei',\n  Timestamp('2023-07-28 11:22:50.468113'),\n  Timestamp('2023-08-04 14:22:49.017377'),\n  'nstate',\n  'timestep',\n  0): Timestamp('2023-08-04 11:22:54.017377'),\n ('MP73',\n  'zheng-longfei',\n  Timestamp('2023-07-28 11:22:50.468113'),\n  Timestamp('2023-08-04 14:22:49.017377'),\n  'nstate',\n  'timestep',\n  1): Timestamp('2023-08-04 11:22:54.037377'),\n ('MP73',\n  'zheng-longfei',\n  Timestamp('2023-07-28 11:22:50.468113'),\n  Timestamp('2023-08-04 14:22:49.017377'),\n  'nstate',\n  'timestep',\n  2): Timestamp('2023-08-04 11:22:54.057377'),\n ('MP73',\n  'zheng-longfei',\n  Timestamp('2023-07-28 11:22:50.468113'),\n  Timestamp('2023-08-04 14:22:49.017377'),\n  'nstate',\n  'timestep',\n  3): Timestamp('2023-08-04 11:22:54.077377'),\n ('MP73',\n  'zheng-longfei',\n  Timestamp('2023-07-28 11:22:50.468113'),\n  Timestamp('2023-08-04 14:22:49.017377'),\n  'nstate',\n  'velocity',\n  0): 29.0,\n ('MP73',\n  'zheng-longfei',\n  Timestamp('2023-07-28 11:22:50.468113'),\n  Timestamp('2023-08-04 14:22:49.017377'),\n  'nstate',\n  'velocity',\n  1): 30.0,\n ('MP73',\n  'zheng-longfei',\n  Timestamp('2023-07-28 11:22:50.468113'),\n  Timestamp('2023-08-04 14:22:49.017377'),\n  'nstate',\n  'velocity',\n  2): 31.0,\n ('MP73',\n  'zheng-longfei',\n  Timestamp('2023-07-28 11:22:50.468113'),\n  Timestamp('2023-08-04 14:22:49.017377'),\n  'nstate',\n  'velocity',\n  3): 32.0,\n ('MP73',\n  'zheng-longfei',\n  Timestamp('2023-07-28 11:22:50.468113'),\n  Timestamp('2023-08-04 14:22:49.017377'),\n  'reward',\n  'timestep',\n  0): Timestamp('2023-08-04 11:22:49.117377'),\n ('MP73',\n  'zheng-longfei',\n  Timestamp('2023-07-28 11:22:50.468113'),\n  Timestamp('2023-08-04 14:22:49.017377'),\n  'reward',\n  'work',\n  0): 27.0,\n ('MP73',\n  'zheng-longfei',\n  Timestamp('2023-07-28 11:22:50.468113'),\n  Timestamp('2023-08-04 14:22:49.017377'),\n  'state',\n  'brake',\n  0): 8.0,\n ('MP73',\n  'zheng-longfei',\n  Timestamp('2023-07-28 11:22:50.468113'),\n  Timestamp('2023-08-04 14:22:49.017377'),\n  'state',\n  'brake',\n  1): 9.0,\n ('MP73',\n  'zheng-longfei',\n  Timestamp('2023-07-28 11:22:50.468113'),\n  Timestamp('2023-08-04 14:22:49.017377'),\n  'state',\n  'brake',\n  2): 10.0,\n ('MP73',\n  'zheng-longfei',\n  Timestamp('2023-07-28 11:22:50.468113'),\n  Timestamp('2023-08-04 14:22:49.017377'),\n  'state',\n  'brake',\n  3): 11.0,\n ('MP73',\n  'zheng-longfei',\n  Timestamp('2023-07-28 11:22:50.468113'),\n  Timestamp('2023-08-04 14:22:49.017377'),\n  'state',\n  'thrust',\n  0): 4.0,\n ('MP73',\n  'zheng-longfei',\n  Timestamp('2023-07-28 11:22:50.468113'),\n  Timestamp('2023-08-04 14:22:49.017377'),\n  'state',\n  'thrust',\n  1): 5.0,\n ('MP73',\n  'zheng-longfei',\n  Timestamp('2023-07-28 11:22:50.468113'),\n  Timestamp('2023-08-04 14:22:49.017377'),\n  'state',\n  'thrust',\n  2): 6.0,\n ('MP73',\n  'zheng-longfei',\n  Timestamp('2023-07-28 11:22:50.468113'),\n  Timestamp('2023-08-04 14:22:49.017377'),\n  'state',\n  'thrust',\n  3): 7.0,\n ('MP73',\n  'zheng-longfei',\n  Timestamp('2023-07-28 11:22:50.468113'),\n  Timestamp('2023-08-04 14:22:49.017377'),\n  'state',\n  'timestep',\n  0): Timestamp('2023-08-04 11:22:49.017377'),\n ('MP73',\n  'zheng-longfei',\n  Timestamp('2023-07-28 11:22:50.468113'),\n  Timestamp('2023-08-04 14:22:49.017377'),\n  'state',\n  'timestep',\n  1): Timestamp('2023-08-04 11:22:49.037377'),\n ('MP73',\n  'zheng-longfei',\n  Timestamp('2023-07-28 11:22:50.468113'),\n  Timestamp('2023-08-04 14:22:49.017377'),\n  'state',\n  'timestep',\n  2): Timestamp('2023-08-04 11:22:49.057377'),\n ('MP73',\n  'zheng-longfei',\n  Timestamp('2023-07-28 11:22:50.468113'),\n  Timestamp('2023-08-04 14:22:49.017377'),\n  'state',\n  'timestep',\n  3): Timestamp('2023-08-04 11:22:49.077377'),\n ('MP73',\n  'zheng-longfei',\n  Timestamp('2023-07-28 11:22:50.468113'),\n  Timestamp('2023-08-04 14:22:49.017377'),\n  'state',\n  'velocity',\n  0): 0.0,\n ('MP73',\n  'zheng-longfei',\n  Timestamp('2023-07-28 11:22:50.468113'),\n  Timestamp('2023-08-04 14:22:49.017377'),\n  'state',\n  'velocity',\n  1): 1.0,\n ('MP73',\n  'zheng-longfei',\n  Timestamp('2023-07-28 11:22:50.468113'),\n  Timestamp('2023-08-04 14:22:49.017377'),\n  'state',\n  'velocity',\n  2): 2.0,\n ('MP73',\n  'zheng-longfei',\n  Timestamp('2023-07-28 11:22:50.468113'),\n  Timestamp('2023-08-04 14:22:49.017377'),\n  'state',\n  'velocity',\n  3): 3.0,\n ('MP73',\n  'zheng-longfei',\n  Timestamp('2023-07-28 11:22:50.468113'),\n  Timestamp('2023-08-04 16:22:49.017377'),\n  'action',\n  'r0',\n  0): 12.0,\n ('MP73',\n  'zheng-longfei',\n  Timestamp('2023-07-28 11:22:50.468113'),\n  Timestamp('2023-08-04 16:22:49.017377'),\n  'action',\n  'r0',\n  1): 13.0,\n ('MP73',\n  'zheng-longfei',\n  Timestamp('2023-07-28 11:22:50.468113'),\n  Timestamp('2023-08-04 16:22:49.017377'),\n  'action',\n  'r0',\n  2): 14.0,\n ('MP73',\n  'zheng-longfei',\n  Timestamp('2023-07-28 11:22:50.468113'),\n  Timestamp('2023-08-04 16:22:49.017377'),\n  'action',\n  'r0',\n  3): 15.0,\n ('MP73',\n  'zheng-longfei',\n  Timestamp('2023-07-28 11:22:50.468113'),\n  Timestamp('2023-08-04 16:22:49.017377'),\n  'action',\n  'r0',\n  4): 16.0,\n ('MP73',\n  'zheng-longfei',\n  Timestamp('2023-07-28 11:22:50.468113'),\n  Timestamp('2023-08-04 16:22:49.017377'),\n  'action',\n  'r1',\n  0): 17.0,\n ('MP73',\n  'zheng-longfei',\n  Timestamp('2023-07-28 11:22:50.468113'),\n  Timestamp('2023-08-04 16:22:49.017377'),\n  'action',\n  'r1',\n  1): 18.0,\n ('MP73',\n  'zheng-longfei',\n  Timestamp('2023-07-28 11:22:50.468113'),\n  Timestamp('2023-08-04 16:22:49.017377'),\n  'action',\n  'r1',\n  2): 19.0,\n ('MP73',\n  'zheng-longfei',\n  Timestamp('2023-07-28 11:22:50.468113'),\n  Timestamp('2023-08-04 16:22:49.017377'),\n  'action',\n  'r1',\n  3): 20.0,\n ('MP73',\n  'zheng-longfei',\n  Timestamp('2023-07-28 11:22:50.468113'),\n  Timestamp('2023-08-04 16:22:49.017377'),\n  'action',\n  'r1',\n  4): 21.0,\n ('MP73',\n  'zheng-longfei',\n  Timestamp('2023-07-28 11:22:50.468113'),\n  Timestamp('2023-08-04 16:22:49.017377'),\n  'action',\n  'r2',\n  0): 22.0,\n ('MP73',\n  'zheng-longfei',\n  Timestamp('2023-07-28 11:22:50.468113'),\n  Timestamp('2023-08-04 16:22:49.017377'),\n  'action',\n  'r2',\n  1): 23.0,\n ('MP73',\n  'zheng-longfei',\n  Timestamp('2023-07-28 11:22:50.468113'),\n  Timestamp('2023-08-04 16:22:49.017377'),\n  'action',\n  'r2',\n  2): 24.0,\n ('MP73',\n  'zheng-longfei',\n  Timestamp('2023-07-28 11:22:50.468113'),\n  Timestamp('2023-08-04 16:22:49.017377'),\n  'action',\n  'r2',\n  3): 25.0,\n ('MP73',\n  'zheng-longfei',\n  Timestamp('2023-07-28 11:22:50.468113'),\n  Timestamp('2023-08-04 16:22:49.017377'),\n  'action',\n  'r2',\n  4): 26.0,\n ('MP73',\n  'zheng-longfei',\n  Timestamp('2023-07-28 11:22:50.468113'),\n  Timestamp('2023-08-04 16:22:49.017377'),\n  'action',\n  'speed',\n  0): 40.0,\n ('MP73',\n  'zheng-longfei',\n  Timestamp('2023-07-28 11:22:50.468113'),\n  Timestamp('2023-08-04 16:22:49.017377'),\n  'action',\n  'speed',\n  1): 50.0,\n ('MP73',\n  'zheng-longfei',\n  Timestamp('2023-07-28 11:22:50.468113'),\n  Timestamp('2023-08-04 16:22:49.017377'),\n  'action',\n  'speed',\n  2): 60.0,\n ('MP73',\n  'zheng-longfei',\n  Timestamp('2023-07-28 11:22:50.468113'),\n  Timestamp('2023-08-04 16:22:49.017377'),\n  'action',\n  'throttle',\n  0): 0.0,\n ('MP73',\n  'zheng-longfei',\n  Timestamp('2023-07-28 11:22:50.468113'),\n  Timestamp('2023-08-04 16:22:49.017377'),\n  'action',\n  'throttle',\n  1): 0.25,\n ('MP73',\n  'zheng-longfei',\n  Timestamp('2023-07-28 11:22:50.468113'),\n  Timestamp('2023-08-04 16:22:49.017377'),\n  'action',\n  'throttle',\n  2): 0.5,\n ('MP73',\n  'zheng-longfei',\n  Timestamp('2023-07-28 11:22:50.468113'),\n  Timestamp('2023-08-04 16:22:49.017377'),\n  'action',\n  'throttle',\n  3): 0.75,\n ('MP73',\n  'zheng-longfei',\n  Timestamp('2023-07-28 11:22:50.468113'),\n  Timestamp('2023-08-04 16:22:49.017377'),\n  'action',\n  'throttle',\n  4): 1.0,\n ('MP73',\n  'zheng-longfei',\n  Timestamp('2023-07-28 11:22:50.468113'),\n  Timestamp('2023-08-04 16:22:49.017377'),\n  'action',\n  'timestep',\n  0): Timestamp('2023-08-04 11:22:49.117377'),\n ('MP73',\n  'zheng-longfei',\n  Timestamp('2023-07-28 11:22:50.468113'),\n  Timestamp('2023-08-04 16:22:49.017377'),\n  'action',\n  'timestep',\n  1): Timestamp('2023-08-04 11:22:49.137377'),\n ('MP73',\n  'zheng-longfei',\n  Timestamp('2023-07-28 11:22:50.468113'),\n  Timestamp('2023-08-04 16:22:49.017377'),\n  'action',\n  'timestep',\n  2): Timestamp('2023-08-04 11:22:49.157377'),\n ('MP73',\n  'zheng-longfei',\n  Timestamp('2023-07-28 11:22:50.468113'),\n  Timestamp('2023-08-04 16:22:49.017377'),\n  'nstate',\n  'brake',\n  0): 37.0,\n ('MP73',\n  'zheng-longfei',\n  Timestamp('2023-07-28 11:22:50.468113'),\n  Timestamp('2023-08-04 16:22:49.017377'),\n  'nstate',\n  'brake',\n  1): 38.0,\n ('MP73',\n  'zheng-longfei',\n  Timestamp('2023-07-28 11:22:50.468113'),\n  Timestamp('2023-08-04 16:22:49.017377'),\n  'nstate',\n  'brake',\n  2): 39.0,\n ('MP73',\n  'zheng-longfei',\n  Timestamp('2023-07-28 11:22:50.468113'),\n  Timestamp('2023-08-04 16:22:49.017377'),\n  'nstate',\n  'brake',\n  3): 40.0,\n ('MP73',\n  'zheng-longfei',\n  Timestamp('2023-07-28 11:22:50.468113'),\n  Timestamp('2023-08-04 16:22:49.017377'),\n  'nstate',\n  'thrust',\n  0): 33.0,\n ('MP73',\n  'zheng-longfei',\n  Timestamp('2023-07-28 11:22:50.468113'),\n  Timestamp('2023-08-04 16:22:49.017377'),\n  'nstate',\n  'thrust',\n  1): 34.0,\n ('MP73',\n  'zheng-longfei',\n  Timestamp('2023-07-28 11:22:50.468113'),\n  Timestamp('2023-08-04 16:22:49.017377'),\n  'nstate',\n  'thrust',\n  2): 35.0,\n ('MP73',\n  'zheng-longfei',\n  Timestamp('2023-07-28 11:22:50.468113'),\n  Timestamp('2023-08-04 16:22:49.017377'),\n  'nstate',\n  'thrust',\n  3): 36.0,\n ('MP73',\n  'zheng-longfei',\n  Timestamp('2023-07-28 11:22:50.468113'),\n  Timestamp('2023-08-04 16:22:49.017377'),\n  'nstate',\n  'timestep',\n  0): Timestamp('2023-08-04 11:22:54.017377'),\n ('MP73',\n  'zheng-longfei',\n  Timestamp('2023-07-28 11:22:50.468113'),\n  Timestamp('2023-08-04 16:22:49.017377'),\n  'nstate',\n  'timestep',\n  1): Timestamp('2023-08-04 11:22:54.037377'),\n ('MP73',\n  'zheng-longfei',\n  Timestamp('2023-07-28 11:22:50.468113'),\n  Timestamp('2023-08-04 16:22:49.017377'),\n  'nstate',\n  'timestep',\n  2): Timestamp('2023-08-04 11:22:54.057377'),\n ('MP73',\n  'zheng-longfei',\n  Timestamp('2023-07-28 11:22:50.468113'),\n  Timestamp('2023-08-04 16:22:49.017377'),\n  'nstate',\n  'timestep',\n  3): Timestamp('2023-08-04 11:22:54.077377'),\n ('MP73',\n  'zheng-longfei',\n  Timestamp('2023-07-28 11:22:50.468113'),\n  Timestamp('2023-08-04 16:22:49.017377'),\n  'nstate',\n  'velocity',\n  0): 29.0,\n ('MP73',\n  'zheng-longfei',\n  Timestamp('2023-07-28 11:22:50.468113'),\n  Timestamp('2023-08-04 16:22:49.017377'),\n  'nstate',\n  'velocity',\n  1): 30.0,\n ('MP73',\n  'zheng-longfei',\n  Timestamp('2023-07-28 11:22:50.468113'),\n  Timestamp('2023-08-04 16:22:49.017377'),\n  'nstate',\n  'velocity',\n  2): 31.0,\n ('MP73',\n  'zheng-longfei',\n  Timestamp('2023-07-28 11:22:50.468113'),\n  Timestamp('2023-08-04 16:22:49.017377'),\n  'nstate',\n  'velocity',\n  3): 32.0,\n ('MP73',\n  'zheng-longfei',\n  Timestamp('2023-07-28 11:22:50.468113'),\n  Timestamp('2023-08-04 16:22:49.017377'),\n  'reward',\n  'timestep',\n  0): Timestamp('2023-08-04 11:22:49.117377'),\n ('MP73',\n  'zheng-longfei',\n  Timestamp('2023-07-28 11:22:50.468113'),\n  Timestamp('2023-08-04 16:22:49.017377'),\n  'reward',\n  'work',\n  0): 27.0,\n ('MP73',\n  'zheng-longfei',\n  Timestamp('2023-07-28 11:22:50.468113'),\n  Timestamp('2023-08-04 16:22:49.017377'),\n  'state',\n  'brake',\n  0): 8.0,\n ('MP73',\n  'zheng-longfei',\n  Timestamp('2023-07-28 11:22:50.468113'),\n  Timestamp('2023-08-04 16:22:49.017377'),\n  'state',\n  'brake',\n  1): 9.0,\n ('MP73',\n  'zheng-longfei',\n  Timestamp('2023-07-28 11:22:50.468113'),\n  Timestamp('2023-08-04 16:22:49.017377'),\n  'state',\n  'brake',\n  2): 10.0,\n ('MP73',\n  'zheng-longfei',\n  Timestamp('2023-07-28 11:22:50.468113'),\n  Timestamp('2023-08-04 16:22:49.017377'),\n  'state',\n  'brake',\n  3): 11.0,\n ('MP73',\n  'zheng-longfei',\n  Timestamp('2023-07-28 11:22:50.468113'),\n  Timestamp('2023-08-04 16:22:49.017377'),\n  'state',\n  'thrust',\n  0): 4.0,\n ('MP73',\n  'zheng-longfei',\n  Timestamp('2023-07-28 11:22:50.468113'),\n  Timestamp('2023-08-04 16:22:49.017377'),\n  'state',\n  'thrust',\n  1): 5.0,\n ('MP73',\n  'zheng-longfei',\n  Timestamp('2023-07-28 11:22:50.468113'),\n  Timestamp('2023-08-04 16:22:49.017377'),\n  'state',\n  'thrust',\n  2): 6.0,\n ('MP73',\n  'zheng-longfei',\n  Timestamp('2023-07-28 11:22:50.468113'),\n  Timestamp('2023-08-04 16:22:49.017377'),\n  'state',\n  'thrust',\n  3): 7.0,\n ('MP73',\n  'zheng-longfei',\n  Timestamp('2023-07-28 11:22:50.468113'),\n  Timestamp('2023-08-04 16:22:49.017377'),\n  'state',\n  'timestep',\n  0): Timestamp('2023-08-04 11:22:49.017377'),\n ('MP73',\n  'zheng-longfei',\n  Timestamp('2023-07-28 11:22:50.468113'),\n  Timestamp('2023-08-04 16:22:49.017377'),\n  'state',\n  'timestep',\n  1): Timestamp('2023-08-04 11:22:49.037377'),\n ('MP73',\n  'zheng-longfei',\n  Timestamp('2023-07-28 11:22:50.468113'),\n  Timestamp('2023-08-04 16:22:49.017377'),\n  'state',\n  'timestep',\n  2): Timestamp('2023-08-04 11:22:49.057377'),\n ('MP73',\n  'zheng-longfei',\n  Timestamp('2023-07-28 11:22:50.468113'),\n  Timestamp('2023-08-04 16:22:49.017377'),\n  'state',\n  'timestep',\n  3): Timestamp('2023-08-04 11:22:49.077377'),\n ('MP73',\n  'zheng-longfei',\n  Timestamp('2023-07-28 11:22:50.468113'),\n  Timestamp('2023-08-04 16:22:49.017377'),\n  'state',\n  'velocity',\n  0): 0.0,\n ('MP73',\n  'zheng-longfei',\n  Timestamp('2023-07-28 11:22:50.468113'),\n  Timestamp('2023-08-04 16:22:49.017377'),\n  'state',\n  'velocity',\n  1): 1.0,\n ('MP73',\n  'zheng-longfei',\n  Timestamp('2023-07-28 11:22:50.468113'),\n  Timestamp('2023-08-04 16:22:49.017377'),\n  'state',\n  'velocity',\n  2): 2.0,\n ('MP73',\n  'zheng-longfei',\n  Timestamp('2023-07-28 11:22:50.468113'),\n  Timestamp('2023-08-04 16:22:49.017377'),\n  'state',\n  'velocity',\n  3): 3.0}"
     },
     "execution_count": 94,
     "metadata": {},
     "output_type": "execute_result"
    },
    {
     "data": {
      "text/plain": "960"
     },
     "execution_count": 94,
     "metadata": {},
     "output_type": "execute_result"
    }
   ],
   "source": [
    "dict_observations = {(meta['vehicle'], meta['driver'], meta['episodestart'], key1, key2, key3, key4): value\n",
    "                        for meta, obs in zip(df_docs['meta'],df_docs['observation'])\n",
    "                        for key1, obs1 in obs.items()\n",
    "                        for key2, obs2 in obs1.items()\n",
    "                        for key3, obs3 in obs2.items()\n",
    "                        for key4, value in obs3.items()}\n",
    "\n",
    "dict_observations\n",
    "len(dict_observations)"
   ],
   "metadata": {
    "collapsed": false,
    "ExecuteTime": {
     "end_time": "2023-08-04T03:23:01.950381340Z",
     "start_time": "2023-08-04T03:22:50.741207682Z"
    }
   }
  },
  {
   "cell_type": "code",
   "execution_count": 95,
   "outputs": [
    {
     "data": {
      "text/plain": "vehicle  driver         episodestart                timestamp                   qtuple  rows      idx\nVB7      wang-cheng     2023-08-04 11:22:49.017377  2023-08-04 12:22:49.017377  action  r0        0                            12.0\n                                                                                                  1                            13.0\n                                                                                                  2                            14.0\n                                                                                                  3                            15.0\n                                                                                                  4                            16.0\n                                                                                                                    ...            \nMP73     zheng-longfei  2023-07-28 11:22:50.468113  2023-08-04 16:22:49.017377  state   timestep  3      2023-08-04 11:22:49.077377\n                                                                                        velocity  0                             0.0\n                                                                                                  1                             1.0\n                                                                                                  2                             2.0\n                                                                                                  3                             3.0\nLength: 960, dtype: object"
     },
     "execution_count": 95,
     "metadata": {},
     "output_type": "execute_result"
    },
    {
     "data": {
      "text/plain": "qtuple                                                                      action  \\\nrows                                                                            r0   \nidx                                                                              0   \nvehicle driver        episodestart               timestamp                           \nMP73    wang-cheng    2023-07-30 11:22:50.468113 2023-08-04 12:22:49.017377   12.0   \n                                                 2023-08-04 13:22:49.017377   12.0   \n                                                 2023-08-04 14:22:49.017377   12.0   \n                                                 2023-08-04 16:22:49.017377   12.0   \n        zheng-longfei 2023-07-28 11:22:50.468113 2023-08-04 14:22:49.017377   12.0   \n                                                 2023-08-04 16:22:49.017377   12.0   \nVB7     wang-cheng    2023-07-29 11:22:50.468113 2023-08-04 15:22:49.017377   12.0   \n                                                 2023-08-04 16:22:49.017377   12.0   \n                      2023-08-04 11:22:49.017377 2023-08-04 12:22:49.017377   12.0   \n                                                 2023-08-04 13:22:49.017377   12.0   \n                                                 2023-08-04 14:22:49.017377   12.0   \n                                                 2023-08-04 15:22:49.017377   12.0   \n                                                 2023-08-04 16:22:49.017377   12.0   \n        zheng-longfei 2023-08-02 11:22:50.468113 2023-08-04 12:22:49.017377   12.0   \n                                                 2023-08-04 13:22:49.017377   12.0   \n                                                 2023-08-04 16:22:49.017377   12.0   \n\nqtuple                                                                             \\\nrows                                                                                \nidx                                                                             1   \nvehicle driver        episodestart               timestamp                          \nMP73    wang-cheng    2023-07-30 11:22:50.468113 2023-08-04 12:22:49.017377  13.0   \n                                                 2023-08-04 13:22:49.017377  13.0   \n                                                 2023-08-04 14:22:49.017377  13.0   \n                                                 2023-08-04 16:22:49.017377  13.0   \n        zheng-longfei 2023-07-28 11:22:50.468113 2023-08-04 14:22:49.017377  13.0   \n                                                 2023-08-04 16:22:49.017377  13.0   \nVB7     wang-cheng    2023-07-29 11:22:50.468113 2023-08-04 15:22:49.017377  13.0   \n                                                 2023-08-04 16:22:49.017377  13.0   \n                      2023-08-04 11:22:49.017377 2023-08-04 12:22:49.017377  13.0   \n                                                 2023-08-04 13:22:49.017377  13.0   \n                                                 2023-08-04 14:22:49.017377  13.0   \n                                                 2023-08-04 15:22:49.017377  13.0   \n                                                 2023-08-04 16:22:49.017377  13.0   \n        zheng-longfei 2023-08-02 11:22:50.468113 2023-08-04 12:22:49.017377  13.0   \n                                                 2023-08-04 13:22:49.017377  13.0   \n                                                 2023-08-04 16:22:49.017377  13.0   \n\nqtuple                                                                             \\\nrows                                                                                \nidx                                                                             2   \nvehicle driver        episodestart               timestamp                          \nMP73    wang-cheng    2023-07-30 11:22:50.468113 2023-08-04 12:22:49.017377  14.0   \n                                                 2023-08-04 13:22:49.017377  14.0   \n                                                 2023-08-04 14:22:49.017377  14.0   \n                                                 2023-08-04 16:22:49.017377  14.0   \n        zheng-longfei 2023-07-28 11:22:50.468113 2023-08-04 14:22:49.017377  14.0   \n                                                 2023-08-04 16:22:49.017377  14.0   \nVB7     wang-cheng    2023-07-29 11:22:50.468113 2023-08-04 15:22:49.017377  14.0   \n                                                 2023-08-04 16:22:49.017377  14.0   \n                      2023-08-04 11:22:49.017377 2023-08-04 12:22:49.017377  14.0   \n                                                 2023-08-04 13:22:49.017377  14.0   \n                                                 2023-08-04 14:22:49.017377  14.0   \n                                                 2023-08-04 15:22:49.017377  14.0   \n                                                 2023-08-04 16:22:49.017377  14.0   \n        zheng-longfei 2023-08-02 11:22:50.468113 2023-08-04 12:22:49.017377  14.0   \n                                                 2023-08-04 13:22:49.017377  14.0   \n                                                 2023-08-04 16:22:49.017377  14.0   \n\nqtuple                                                                             \\\nrows                                                                                \nidx                                                                             3   \nvehicle driver        episodestart               timestamp                          \nMP73    wang-cheng    2023-07-30 11:22:50.468113 2023-08-04 12:22:49.017377  15.0   \n                                                 2023-08-04 13:22:49.017377  15.0   \n                                                 2023-08-04 14:22:49.017377  15.0   \n                                                 2023-08-04 16:22:49.017377  15.0   \n        zheng-longfei 2023-07-28 11:22:50.468113 2023-08-04 14:22:49.017377  15.0   \n                                                 2023-08-04 16:22:49.017377  15.0   \nVB7     wang-cheng    2023-07-29 11:22:50.468113 2023-08-04 15:22:49.017377  15.0   \n                                                 2023-08-04 16:22:49.017377  15.0   \n                      2023-08-04 11:22:49.017377 2023-08-04 12:22:49.017377  15.0   \n                                                 2023-08-04 13:22:49.017377  15.0   \n                                                 2023-08-04 14:22:49.017377  15.0   \n                                                 2023-08-04 15:22:49.017377  15.0   \n                                                 2023-08-04 16:22:49.017377  15.0   \n        zheng-longfei 2023-08-02 11:22:50.468113 2023-08-04 12:22:49.017377  15.0   \n                                                 2023-08-04 13:22:49.017377  15.0   \n                                                 2023-08-04 16:22:49.017377  15.0   \n\nqtuple                                                                             \\\nrows                                                                                \nidx                                                                             4   \nvehicle driver        episodestart               timestamp                          \nMP73    wang-cheng    2023-07-30 11:22:50.468113 2023-08-04 12:22:49.017377  16.0   \n                                                 2023-08-04 13:22:49.017377  16.0   \n                                                 2023-08-04 14:22:49.017377  16.0   \n                                                 2023-08-04 16:22:49.017377  16.0   \n        zheng-longfei 2023-07-28 11:22:50.468113 2023-08-04 14:22:49.017377  16.0   \n                                                 2023-08-04 16:22:49.017377  16.0   \nVB7     wang-cheng    2023-07-29 11:22:50.468113 2023-08-04 15:22:49.017377  16.0   \n                                                 2023-08-04 16:22:49.017377  16.0   \n                      2023-08-04 11:22:49.017377 2023-08-04 12:22:49.017377  16.0   \n                                                 2023-08-04 13:22:49.017377  16.0   \n                                                 2023-08-04 14:22:49.017377  16.0   \n                                                 2023-08-04 15:22:49.017377  16.0   \n                                                 2023-08-04 16:22:49.017377  16.0   \n        zheng-longfei 2023-08-02 11:22:50.468113 2023-08-04 12:22:49.017377  16.0   \n                                                 2023-08-04 13:22:49.017377  16.0   \n                                                 2023-08-04 16:22:49.017377  16.0   \n\nqtuple                                                                             \\\nrows                                                                           r1   \nidx                                                                             0   \nvehicle driver        episodestart               timestamp                          \nMP73    wang-cheng    2023-07-30 11:22:50.468113 2023-08-04 12:22:49.017377  17.0   \n                                                 2023-08-04 13:22:49.017377  17.0   \n                                                 2023-08-04 14:22:49.017377  17.0   \n                                                 2023-08-04 16:22:49.017377  17.0   \n        zheng-longfei 2023-07-28 11:22:50.468113 2023-08-04 14:22:49.017377  17.0   \n                                                 2023-08-04 16:22:49.017377  17.0   \nVB7     wang-cheng    2023-07-29 11:22:50.468113 2023-08-04 15:22:49.017377  17.0   \n                                                 2023-08-04 16:22:49.017377  17.0   \n                      2023-08-04 11:22:49.017377 2023-08-04 12:22:49.017377  17.0   \n                                                 2023-08-04 13:22:49.017377  17.0   \n                                                 2023-08-04 14:22:49.017377  17.0   \n                                                 2023-08-04 15:22:49.017377  17.0   \n                                                 2023-08-04 16:22:49.017377  17.0   \n        zheng-longfei 2023-08-02 11:22:50.468113 2023-08-04 12:22:49.017377  17.0   \n                                                 2023-08-04 13:22:49.017377  17.0   \n                                                 2023-08-04 16:22:49.017377  17.0   \n\nqtuple                                                                             \\\nrows                                                                                \nidx                                                                             1   \nvehicle driver        episodestart               timestamp                          \nMP73    wang-cheng    2023-07-30 11:22:50.468113 2023-08-04 12:22:49.017377  18.0   \n                                                 2023-08-04 13:22:49.017377  18.0   \n                                                 2023-08-04 14:22:49.017377  18.0   \n                                                 2023-08-04 16:22:49.017377  18.0   \n        zheng-longfei 2023-07-28 11:22:50.468113 2023-08-04 14:22:49.017377  18.0   \n                                                 2023-08-04 16:22:49.017377  18.0   \nVB7     wang-cheng    2023-07-29 11:22:50.468113 2023-08-04 15:22:49.017377  18.0   \n                                                 2023-08-04 16:22:49.017377  18.0   \n                      2023-08-04 11:22:49.017377 2023-08-04 12:22:49.017377  18.0   \n                                                 2023-08-04 13:22:49.017377  18.0   \n                                                 2023-08-04 14:22:49.017377  18.0   \n                                                 2023-08-04 15:22:49.017377  18.0   \n                                                 2023-08-04 16:22:49.017377  18.0   \n        zheng-longfei 2023-08-02 11:22:50.468113 2023-08-04 12:22:49.017377  18.0   \n                                                 2023-08-04 13:22:49.017377  18.0   \n                                                 2023-08-04 16:22:49.017377  18.0   \n\nqtuple                                                                             \\\nrows                                                                                \nidx                                                                             2   \nvehicle driver        episodestart               timestamp                          \nMP73    wang-cheng    2023-07-30 11:22:50.468113 2023-08-04 12:22:49.017377  19.0   \n                                                 2023-08-04 13:22:49.017377  19.0   \n                                                 2023-08-04 14:22:49.017377  19.0   \n                                                 2023-08-04 16:22:49.017377  19.0   \n        zheng-longfei 2023-07-28 11:22:50.468113 2023-08-04 14:22:49.017377  19.0   \n                                                 2023-08-04 16:22:49.017377  19.0   \nVB7     wang-cheng    2023-07-29 11:22:50.468113 2023-08-04 15:22:49.017377  19.0   \n                                                 2023-08-04 16:22:49.017377  19.0   \n                      2023-08-04 11:22:49.017377 2023-08-04 12:22:49.017377  19.0   \n                                                 2023-08-04 13:22:49.017377  19.0   \n                                                 2023-08-04 14:22:49.017377  19.0   \n                                                 2023-08-04 15:22:49.017377  19.0   \n                                                 2023-08-04 16:22:49.017377  19.0   \n        zheng-longfei 2023-08-02 11:22:50.468113 2023-08-04 12:22:49.017377  19.0   \n                                                 2023-08-04 13:22:49.017377  19.0   \n                                                 2023-08-04 16:22:49.017377  19.0   \n\nqtuple                                                                             \\\nrows                                                                                \nidx                                                                             3   \nvehicle driver        episodestart               timestamp                          \nMP73    wang-cheng    2023-07-30 11:22:50.468113 2023-08-04 12:22:49.017377  20.0   \n                                                 2023-08-04 13:22:49.017377  20.0   \n                                                 2023-08-04 14:22:49.017377  20.0   \n                                                 2023-08-04 16:22:49.017377  20.0   \n        zheng-longfei 2023-07-28 11:22:50.468113 2023-08-04 14:22:49.017377  20.0   \n                                                 2023-08-04 16:22:49.017377  20.0   \nVB7     wang-cheng    2023-07-29 11:22:50.468113 2023-08-04 15:22:49.017377  20.0   \n                                                 2023-08-04 16:22:49.017377  20.0   \n                      2023-08-04 11:22:49.017377 2023-08-04 12:22:49.017377  20.0   \n                                                 2023-08-04 13:22:49.017377  20.0   \n                                                 2023-08-04 14:22:49.017377  20.0   \n                                                 2023-08-04 15:22:49.017377  20.0   \n                                                 2023-08-04 16:22:49.017377  20.0   \n        zheng-longfei 2023-08-02 11:22:50.468113 2023-08-04 12:22:49.017377  20.0   \n                                                 2023-08-04 13:22:49.017377  20.0   \n                                                 2023-08-04 16:22:49.017377  20.0   \n\nqtuple                                                                             \\\nrows                                                                                \nidx                                                                             4   \nvehicle driver        episodestart               timestamp                          \nMP73    wang-cheng    2023-07-30 11:22:50.468113 2023-08-04 12:22:49.017377  21.0   \n                                                 2023-08-04 13:22:49.017377  21.0   \n                                                 2023-08-04 14:22:49.017377  21.0   \n                                                 2023-08-04 16:22:49.017377  21.0   \n        zheng-longfei 2023-07-28 11:22:50.468113 2023-08-04 14:22:49.017377  21.0   \n                                                 2023-08-04 16:22:49.017377  21.0   \nVB7     wang-cheng    2023-07-29 11:22:50.468113 2023-08-04 15:22:49.017377  21.0   \n                                                 2023-08-04 16:22:49.017377  21.0   \n                      2023-08-04 11:22:49.017377 2023-08-04 12:22:49.017377  21.0   \n                                                 2023-08-04 13:22:49.017377  21.0   \n                                                 2023-08-04 14:22:49.017377  21.0   \n                                                 2023-08-04 15:22:49.017377  21.0   \n                                                 2023-08-04 16:22:49.017377  21.0   \n        zheng-longfei 2023-08-02 11:22:50.468113 2023-08-04 12:22:49.017377  21.0   \n                                                 2023-08-04 13:22:49.017377  21.0   \n                                                 2023-08-04 16:22:49.017377  21.0   \n\nqtuple                                                                       ...  \\\nrows                                                                         ...   \nidx                                                                          ...   \nvehicle driver        episodestart               timestamp                   ...   \nMP73    wang-cheng    2023-07-30 11:22:50.468113 2023-08-04 12:22:49.017377  ...   \n                                                 2023-08-04 13:22:49.017377  ...   \n                                                 2023-08-04 14:22:49.017377  ...   \n                                                 2023-08-04 16:22:49.017377  ...   \n        zheng-longfei 2023-07-28 11:22:50.468113 2023-08-04 14:22:49.017377  ...   \n                                                 2023-08-04 16:22:49.017377  ...   \nVB7     wang-cheng    2023-07-29 11:22:50.468113 2023-08-04 15:22:49.017377  ...   \n                                                 2023-08-04 16:22:49.017377  ...   \n                      2023-08-04 11:22:49.017377 2023-08-04 12:22:49.017377  ...   \n                                                 2023-08-04 13:22:49.017377  ...   \n                                                 2023-08-04 14:22:49.017377  ...   \n                                                 2023-08-04 15:22:49.017377  ...   \n                                                 2023-08-04 16:22:49.017377  ...   \n        zheng-longfei 2023-08-02 11:22:50.468113 2023-08-04 12:22:49.017377  ...   \n                                                 2023-08-04 13:22:49.017377  ...   \n                                                 2023-08-04 16:22:49.017377  ...   \n\nqtuple                                                                       state  \\\nrows                                                                        thrust   \nidx                                                                              2   \nvehicle driver        episodestart               timestamp                           \nMP73    wang-cheng    2023-07-30 11:22:50.468113 2023-08-04 12:22:49.017377    6.0   \n                                                 2023-08-04 13:22:49.017377    6.0   \n                                                 2023-08-04 14:22:49.017377    6.0   \n                                                 2023-08-04 16:22:49.017377    6.0   \n        zheng-longfei 2023-07-28 11:22:50.468113 2023-08-04 14:22:49.017377    6.0   \n                                                 2023-08-04 16:22:49.017377    6.0   \nVB7     wang-cheng    2023-07-29 11:22:50.468113 2023-08-04 15:22:49.017377    6.0   \n                                                 2023-08-04 16:22:49.017377    6.0   \n                      2023-08-04 11:22:49.017377 2023-08-04 12:22:49.017377    6.0   \n                                                 2023-08-04 13:22:49.017377    6.0   \n                                                 2023-08-04 14:22:49.017377    6.0   \n                                                 2023-08-04 15:22:49.017377    6.0   \n                                                 2023-08-04 16:22:49.017377    6.0   \n        zheng-longfei 2023-08-02 11:22:50.468113 2023-08-04 12:22:49.017377    6.0   \n                                                 2023-08-04 13:22:49.017377    6.0   \n                                                 2023-08-04 16:22:49.017377    6.0   \n\nqtuple                                                                            \\\nrows                                                                               \nidx                                                                            3   \nvehicle driver        episodestart               timestamp                         \nMP73    wang-cheng    2023-07-30 11:22:50.468113 2023-08-04 12:22:49.017377  7.0   \n                                                 2023-08-04 13:22:49.017377  7.0   \n                                                 2023-08-04 14:22:49.017377  7.0   \n                                                 2023-08-04 16:22:49.017377  7.0   \n        zheng-longfei 2023-07-28 11:22:50.468113 2023-08-04 14:22:49.017377  7.0   \n                                                 2023-08-04 16:22:49.017377  7.0   \nVB7     wang-cheng    2023-07-29 11:22:50.468113 2023-08-04 15:22:49.017377  7.0   \n                                                 2023-08-04 16:22:49.017377  7.0   \n                      2023-08-04 11:22:49.017377 2023-08-04 12:22:49.017377  7.0   \n                                                 2023-08-04 13:22:49.017377  7.0   \n                                                 2023-08-04 14:22:49.017377  7.0   \n                                                 2023-08-04 15:22:49.017377  7.0   \n                                                 2023-08-04 16:22:49.017377  7.0   \n        zheng-longfei 2023-08-02 11:22:50.468113 2023-08-04 12:22:49.017377  7.0   \n                                                 2023-08-04 13:22:49.017377  7.0   \n                                                 2023-08-04 16:22:49.017377  7.0   \n\nqtuple                                                                                                   \\\nrows                                                                                           timestep   \nidx                                                                                                   0   \nvehicle driver        episodestart               timestamp                                                \nMP73    wang-cheng    2023-07-30 11:22:50.468113 2023-08-04 12:22:49.017377  2023-08-04 11:22:49.017377   \n                                                 2023-08-04 13:22:49.017377  2023-08-04 11:22:49.017377   \n                                                 2023-08-04 14:22:49.017377  2023-08-04 11:22:49.017377   \n                                                 2023-08-04 16:22:49.017377  2023-08-04 11:22:49.017377   \n        zheng-longfei 2023-07-28 11:22:50.468113 2023-08-04 14:22:49.017377  2023-08-04 11:22:49.017377   \n                                                 2023-08-04 16:22:49.017377  2023-08-04 11:22:49.017377   \nVB7     wang-cheng    2023-07-29 11:22:50.468113 2023-08-04 15:22:49.017377  2023-08-04 11:22:49.017377   \n                                                 2023-08-04 16:22:49.017377  2023-08-04 11:22:49.017377   \n                      2023-08-04 11:22:49.017377 2023-08-04 12:22:49.017377  2023-08-04 11:22:49.017377   \n                                                 2023-08-04 13:22:49.017377  2023-08-04 11:22:49.017377   \n                                                 2023-08-04 14:22:49.017377  2023-08-04 11:22:49.017377   \n                                                 2023-08-04 15:22:49.017377  2023-08-04 11:22:49.017377   \n                                                 2023-08-04 16:22:49.017377  2023-08-04 11:22:49.017377   \n        zheng-longfei 2023-08-02 11:22:50.468113 2023-08-04 12:22:49.017377  2023-08-04 11:22:49.017377   \n                                                 2023-08-04 13:22:49.017377  2023-08-04 11:22:49.017377   \n                                                 2023-08-04 16:22:49.017377  2023-08-04 11:22:49.017377   \n\nqtuple                                                                                                   \\\nrows                                                                                                      \nidx                                                                                                   1   \nvehicle driver        episodestart               timestamp                                                \nMP73    wang-cheng    2023-07-30 11:22:50.468113 2023-08-04 12:22:49.017377  2023-08-04 11:22:49.037377   \n                                                 2023-08-04 13:22:49.017377  2023-08-04 11:22:49.037377   \n                                                 2023-08-04 14:22:49.017377  2023-08-04 11:22:49.037377   \n                                                 2023-08-04 16:22:49.017377  2023-08-04 11:22:49.037377   \n        zheng-longfei 2023-07-28 11:22:50.468113 2023-08-04 14:22:49.017377  2023-08-04 11:22:49.037377   \n                                                 2023-08-04 16:22:49.017377  2023-08-04 11:22:49.037377   \nVB7     wang-cheng    2023-07-29 11:22:50.468113 2023-08-04 15:22:49.017377  2023-08-04 11:22:49.037377   \n                                                 2023-08-04 16:22:49.017377  2023-08-04 11:22:49.037377   \n                      2023-08-04 11:22:49.017377 2023-08-04 12:22:49.017377  2023-08-04 11:22:49.037377   \n                                                 2023-08-04 13:22:49.017377  2023-08-04 11:22:49.037377   \n                                                 2023-08-04 14:22:49.017377  2023-08-04 11:22:49.037377   \n                                                 2023-08-04 15:22:49.017377  2023-08-04 11:22:49.037377   \n                                                 2023-08-04 16:22:49.017377  2023-08-04 11:22:49.037377   \n        zheng-longfei 2023-08-02 11:22:50.468113 2023-08-04 12:22:49.017377  2023-08-04 11:22:49.037377   \n                                                 2023-08-04 13:22:49.017377  2023-08-04 11:22:49.037377   \n                                                 2023-08-04 16:22:49.017377  2023-08-04 11:22:49.037377   \n\nqtuple                                                                                                   \\\nrows                                                                                                      \nidx                                                                                                   2   \nvehicle driver        episodestart               timestamp                                                \nMP73    wang-cheng    2023-07-30 11:22:50.468113 2023-08-04 12:22:49.017377  2023-08-04 11:22:49.057377   \n                                                 2023-08-04 13:22:49.017377  2023-08-04 11:22:49.057377   \n                                                 2023-08-04 14:22:49.017377  2023-08-04 11:22:49.057377   \n                                                 2023-08-04 16:22:49.017377  2023-08-04 11:22:49.057377   \n        zheng-longfei 2023-07-28 11:22:50.468113 2023-08-04 14:22:49.017377  2023-08-04 11:22:49.057377   \n                                                 2023-08-04 16:22:49.017377  2023-08-04 11:22:49.057377   \nVB7     wang-cheng    2023-07-29 11:22:50.468113 2023-08-04 15:22:49.017377  2023-08-04 11:22:49.057377   \n                                                 2023-08-04 16:22:49.017377  2023-08-04 11:22:49.057377   \n                      2023-08-04 11:22:49.017377 2023-08-04 12:22:49.017377  2023-08-04 11:22:49.057377   \n                                                 2023-08-04 13:22:49.017377  2023-08-04 11:22:49.057377   \n                                                 2023-08-04 14:22:49.017377  2023-08-04 11:22:49.057377   \n                                                 2023-08-04 15:22:49.017377  2023-08-04 11:22:49.057377   \n                                                 2023-08-04 16:22:49.017377  2023-08-04 11:22:49.057377   \n        zheng-longfei 2023-08-02 11:22:50.468113 2023-08-04 12:22:49.017377  2023-08-04 11:22:49.057377   \n                                                 2023-08-04 13:22:49.017377  2023-08-04 11:22:49.057377   \n                                                 2023-08-04 16:22:49.017377  2023-08-04 11:22:49.057377   \n\nqtuple                                                                                                   \\\nrows                                                                                                      \nidx                                                                                                   3   \nvehicle driver        episodestart               timestamp                                                \nMP73    wang-cheng    2023-07-30 11:22:50.468113 2023-08-04 12:22:49.017377  2023-08-04 11:22:49.077377   \n                                                 2023-08-04 13:22:49.017377  2023-08-04 11:22:49.077377   \n                                                 2023-08-04 14:22:49.017377  2023-08-04 11:22:49.077377   \n                                                 2023-08-04 16:22:49.017377  2023-08-04 11:22:49.077377   \n        zheng-longfei 2023-07-28 11:22:50.468113 2023-08-04 14:22:49.017377  2023-08-04 11:22:49.077377   \n                                                 2023-08-04 16:22:49.017377  2023-08-04 11:22:49.077377   \nVB7     wang-cheng    2023-07-29 11:22:50.468113 2023-08-04 15:22:49.017377  2023-08-04 11:22:49.077377   \n                                                 2023-08-04 16:22:49.017377  2023-08-04 11:22:49.077377   \n                      2023-08-04 11:22:49.017377 2023-08-04 12:22:49.017377  2023-08-04 11:22:49.077377   \n                                                 2023-08-04 13:22:49.017377  2023-08-04 11:22:49.077377   \n                                                 2023-08-04 14:22:49.017377  2023-08-04 11:22:49.077377   \n                                                 2023-08-04 15:22:49.017377  2023-08-04 11:22:49.077377   \n                                                 2023-08-04 16:22:49.017377  2023-08-04 11:22:49.077377   \n        zheng-longfei 2023-08-02 11:22:50.468113 2023-08-04 12:22:49.017377  2023-08-04 11:22:49.077377   \n                                                 2023-08-04 13:22:49.017377  2023-08-04 11:22:49.077377   \n                                                 2023-08-04 16:22:49.017377  2023-08-04 11:22:49.077377   \n\nqtuple                                                                                \\\nrows                                                                        velocity   \nidx                                                                                0   \nvehicle driver        episodestart               timestamp                             \nMP73    wang-cheng    2023-07-30 11:22:50.468113 2023-08-04 12:22:49.017377      0.0   \n                                                 2023-08-04 13:22:49.017377      0.0   \n                                                 2023-08-04 14:22:49.017377      0.0   \n                                                 2023-08-04 16:22:49.017377      0.0   \n        zheng-longfei 2023-07-28 11:22:50.468113 2023-08-04 14:22:49.017377      0.0   \n                                                 2023-08-04 16:22:49.017377      0.0   \nVB7     wang-cheng    2023-07-29 11:22:50.468113 2023-08-04 15:22:49.017377      0.0   \n                                                 2023-08-04 16:22:49.017377      0.0   \n                      2023-08-04 11:22:49.017377 2023-08-04 12:22:49.017377      0.0   \n                                                 2023-08-04 13:22:49.017377      0.0   \n                                                 2023-08-04 14:22:49.017377      0.0   \n                                                 2023-08-04 15:22:49.017377      0.0   \n                                                 2023-08-04 16:22:49.017377      0.0   \n        zheng-longfei 2023-08-02 11:22:50.468113 2023-08-04 12:22:49.017377      0.0   \n                                                 2023-08-04 13:22:49.017377      0.0   \n                                                 2023-08-04 16:22:49.017377      0.0   \n\nqtuple                                                                            \\\nrows                                                                               \nidx                                                                            1   \nvehicle driver        episodestart               timestamp                         \nMP73    wang-cheng    2023-07-30 11:22:50.468113 2023-08-04 12:22:49.017377  1.0   \n                                                 2023-08-04 13:22:49.017377  1.0   \n                                                 2023-08-04 14:22:49.017377  1.0   \n                                                 2023-08-04 16:22:49.017377  1.0   \n        zheng-longfei 2023-07-28 11:22:50.468113 2023-08-04 14:22:49.017377  1.0   \n                                                 2023-08-04 16:22:49.017377  1.0   \nVB7     wang-cheng    2023-07-29 11:22:50.468113 2023-08-04 15:22:49.017377  1.0   \n                                                 2023-08-04 16:22:49.017377  1.0   \n                      2023-08-04 11:22:49.017377 2023-08-04 12:22:49.017377  1.0   \n                                                 2023-08-04 13:22:49.017377  1.0   \n                                                 2023-08-04 14:22:49.017377  1.0   \n                                                 2023-08-04 15:22:49.017377  1.0   \n                                                 2023-08-04 16:22:49.017377  1.0   \n        zheng-longfei 2023-08-02 11:22:50.468113 2023-08-04 12:22:49.017377  1.0   \n                                                 2023-08-04 13:22:49.017377  1.0   \n                                                 2023-08-04 16:22:49.017377  1.0   \n\nqtuple                                                                            \\\nrows                                                                               \nidx                                                                            2   \nvehicle driver        episodestart               timestamp                         \nMP73    wang-cheng    2023-07-30 11:22:50.468113 2023-08-04 12:22:49.017377  2.0   \n                                                 2023-08-04 13:22:49.017377  2.0   \n                                                 2023-08-04 14:22:49.017377  2.0   \n                                                 2023-08-04 16:22:49.017377  2.0   \n        zheng-longfei 2023-07-28 11:22:50.468113 2023-08-04 14:22:49.017377  2.0   \n                                                 2023-08-04 16:22:49.017377  2.0   \nVB7     wang-cheng    2023-07-29 11:22:50.468113 2023-08-04 15:22:49.017377  2.0   \n                                                 2023-08-04 16:22:49.017377  2.0   \n                      2023-08-04 11:22:49.017377 2023-08-04 12:22:49.017377  2.0   \n                                                 2023-08-04 13:22:49.017377  2.0   \n                                                 2023-08-04 14:22:49.017377  2.0   \n                                                 2023-08-04 15:22:49.017377  2.0   \n                                                 2023-08-04 16:22:49.017377  2.0   \n        zheng-longfei 2023-08-02 11:22:50.468113 2023-08-04 12:22:49.017377  2.0   \n                                                 2023-08-04 13:22:49.017377  2.0   \n                                                 2023-08-04 16:22:49.017377  2.0   \n\nqtuple                                                                            \nrows                                                                              \nidx                                                                            3  \nvehicle driver        episodestart               timestamp                        \nMP73    wang-cheng    2023-07-30 11:22:50.468113 2023-08-04 12:22:49.017377  3.0  \n                                                 2023-08-04 13:22:49.017377  3.0  \n                                                 2023-08-04 14:22:49.017377  3.0  \n                                                 2023-08-04 16:22:49.017377  3.0  \n        zheng-longfei 2023-07-28 11:22:50.468113 2023-08-04 14:22:49.017377  3.0  \n                                                 2023-08-04 16:22:49.017377  3.0  \nVB7     wang-cheng    2023-07-29 11:22:50.468113 2023-08-04 15:22:49.017377  3.0  \n                                                 2023-08-04 16:22:49.017377  3.0  \n                      2023-08-04 11:22:49.017377 2023-08-04 12:22:49.017377  3.0  \n                                                 2023-08-04 13:22:49.017377  3.0  \n                                                 2023-08-04 14:22:49.017377  3.0  \n                                                 2023-08-04 15:22:49.017377  3.0  \n                                                 2023-08-04 16:22:49.017377  3.0  \n        zheng-longfei 2023-08-02 11:22:50.468113 2023-08-04 12:22:49.017377  3.0  \n                                                 2023-08-04 13:22:49.017377  3.0  \n                                                 2023-08-04 16:22:49.017377  3.0  \n\n[16 rows x 60 columns]",
      "text/html": "<div>\n<style scoped>\n    .dataframe tbody tr th:only-of-type {\n        vertical-align: middle;\n    }\n\n    .dataframe tbody tr th {\n        vertical-align: top;\n    }\n\n    .dataframe thead tr th {\n        text-align: left;\n    }\n\n    .dataframe thead tr:last-of-type th {\n        text-align: right;\n    }\n</style>\n<table border=\"1\" class=\"dataframe\">\n  <thead>\n    <tr>\n      <th></th>\n      <th></th>\n      <th></th>\n      <th>qtuple</th>\n      <th colspan=\"10\" halign=\"left\">action</th>\n      <th>...</th>\n      <th colspan=\"10\" halign=\"left\">state</th>\n    </tr>\n    <tr>\n      <th></th>\n      <th></th>\n      <th></th>\n      <th>rows</th>\n      <th colspan=\"5\" halign=\"left\">r0</th>\n      <th colspan=\"5\" halign=\"left\">r1</th>\n      <th>...</th>\n      <th colspan=\"2\" halign=\"left\">thrust</th>\n      <th colspan=\"4\" halign=\"left\">timestep</th>\n      <th colspan=\"4\" halign=\"left\">velocity</th>\n    </tr>\n    <tr>\n      <th></th>\n      <th></th>\n      <th></th>\n      <th>idx</th>\n      <th>0</th>\n      <th>1</th>\n      <th>2</th>\n      <th>3</th>\n      <th>4</th>\n      <th>0</th>\n      <th>1</th>\n      <th>2</th>\n      <th>3</th>\n      <th>4</th>\n      <th>...</th>\n      <th>2</th>\n      <th>3</th>\n      <th>0</th>\n      <th>1</th>\n      <th>2</th>\n      <th>3</th>\n      <th>0</th>\n      <th>1</th>\n      <th>2</th>\n      <th>3</th>\n    </tr>\n    <tr>\n      <th>vehicle</th>\n      <th>driver</th>\n      <th>episodestart</th>\n      <th>timestamp</th>\n      <th></th>\n      <th></th>\n      <th></th>\n      <th></th>\n      <th></th>\n      <th></th>\n      <th></th>\n      <th></th>\n      <th></th>\n      <th></th>\n      <th></th>\n      <th></th>\n      <th></th>\n      <th></th>\n      <th></th>\n      <th></th>\n      <th></th>\n      <th></th>\n      <th></th>\n      <th></th>\n      <th></th>\n    </tr>\n  </thead>\n  <tbody>\n    <tr>\n      <th rowspan=\"6\" valign=\"top\">MP73</th>\n      <th rowspan=\"4\" valign=\"top\">wang-cheng</th>\n      <th rowspan=\"4\" valign=\"top\">2023-07-30 11:22:50.468113</th>\n      <th>2023-08-04 12:22:49.017377</th>\n      <td>12.0</td>\n      <td>13.0</td>\n      <td>14.0</td>\n      <td>15.0</td>\n      <td>16.0</td>\n      <td>17.0</td>\n      <td>18.0</td>\n      <td>19.0</td>\n      <td>20.0</td>\n      <td>21.0</td>\n      <td>...</td>\n      <td>6.0</td>\n      <td>7.0</td>\n      <td>2023-08-04 11:22:49.017377</td>\n      <td>2023-08-04 11:22:49.037377</td>\n      <td>2023-08-04 11:22:49.057377</td>\n      <td>2023-08-04 11:22:49.077377</td>\n      <td>0.0</td>\n      <td>1.0</td>\n      <td>2.0</td>\n      <td>3.0</td>\n    </tr>\n    <tr>\n      <th>2023-08-04 13:22:49.017377</th>\n      <td>12.0</td>\n      <td>13.0</td>\n      <td>14.0</td>\n      <td>15.0</td>\n      <td>16.0</td>\n      <td>17.0</td>\n      <td>18.0</td>\n      <td>19.0</td>\n      <td>20.0</td>\n      <td>21.0</td>\n      <td>...</td>\n      <td>6.0</td>\n      <td>7.0</td>\n      <td>2023-08-04 11:22:49.017377</td>\n      <td>2023-08-04 11:22:49.037377</td>\n      <td>2023-08-04 11:22:49.057377</td>\n      <td>2023-08-04 11:22:49.077377</td>\n      <td>0.0</td>\n      <td>1.0</td>\n      <td>2.0</td>\n      <td>3.0</td>\n    </tr>\n    <tr>\n      <th>2023-08-04 14:22:49.017377</th>\n      <td>12.0</td>\n      <td>13.0</td>\n      <td>14.0</td>\n      <td>15.0</td>\n      <td>16.0</td>\n      <td>17.0</td>\n      <td>18.0</td>\n      <td>19.0</td>\n      <td>20.0</td>\n      <td>21.0</td>\n      <td>...</td>\n      <td>6.0</td>\n      <td>7.0</td>\n      <td>2023-08-04 11:22:49.017377</td>\n      <td>2023-08-04 11:22:49.037377</td>\n      <td>2023-08-04 11:22:49.057377</td>\n      <td>2023-08-04 11:22:49.077377</td>\n      <td>0.0</td>\n      <td>1.0</td>\n      <td>2.0</td>\n      <td>3.0</td>\n    </tr>\n    <tr>\n      <th>2023-08-04 16:22:49.017377</th>\n      <td>12.0</td>\n      <td>13.0</td>\n      <td>14.0</td>\n      <td>15.0</td>\n      <td>16.0</td>\n      <td>17.0</td>\n      <td>18.0</td>\n      <td>19.0</td>\n      <td>20.0</td>\n      <td>21.0</td>\n      <td>...</td>\n      <td>6.0</td>\n      <td>7.0</td>\n      <td>2023-08-04 11:22:49.017377</td>\n      <td>2023-08-04 11:22:49.037377</td>\n      <td>2023-08-04 11:22:49.057377</td>\n      <td>2023-08-04 11:22:49.077377</td>\n      <td>0.0</td>\n      <td>1.0</td>\n      <td>2.0</td>\n      <td>3.0</td>\n    </tr>\n    <tr>\n      <th rowspan=\"2\" valign=\"top\">zheng-longfei</th>\n      <th rowspan=\"2\" valign=\"top\">2023-07-28 11:22:50.468113</th>\n      <th>2023-08-04 14:22:49.017377</th>\n      <td>12.0</td>\n      <td>13.0</td>\n      <td>14.0</td>\n      <td>15.0</td>\n      <td>16.0</td>\n      <td>17.0</td>\n      <td>18.0</td>\n      <td>19.0</td>\n      <td>20.0</td>\n      <td>21.0</td>\n      <td>...</td>\n      <td>6.0</td>\n      <td>7.0</td>\n      <td>2023-08-04 11:22:49.017377</td>\n      <td>2023-08-04 11:22:49.037377</td>\n      <td>2023-08-04 11:22:49.057377</td>\n      <td>2023-08-04 11:22:49.077377</td>\n      <td>0.0</td>\n      <td>1.0</td>\n      <td>2.0</td>\n      <td>3.0</td>\n    </tr>\n    <tr>\n      <th>2023-08-04 16:22:49.017377</th>\n      <td>12.0</td>\n      <td>13.0</td>\n      <td>14.0</td>\n      <td>15.0</td>\n      <td>16.0</td>\n      <td>17.0</td>\n      <td>18.0</td>\n      <td>19.0</td>\n      <td>20.0</td>\n      <td>21.0</td>\n      <td>...</td>\n      <td>6.0</td>\n      <td>7.0</td>\n      <td>2023-08-04 11:22:49.017377</td>\n      <td>2023-08-04 11:22:49.037377</td>\n      <td>2023-08-04 11:22:49.057377</td>\n      <td>2023-08-04 11:22:49.077377</td>\n      <td>0.0</td>\n      <td>1.0</td>\n      <td>2.0</td>\n      <td>3.0</td>\n    </tr>\n    <tr>\n      <th rowspan=\"10\" valign=\"top\">VB7</th>\n      <th rowspan=\"7\" valign=\"top\">wang-cheng</th>\n      <th rowspan=\"2\" valign=\"top\">2023-07-29 11:22:50.468113</th>\n      <th>2023-08-04 15:22:49.017377</th>\n      <td>12.0</td>\n      <td>13.0</td>\n      <td>14.0</td>\n      <td>15.0</td>\n      <td>16.0</td>\n      <td>17.0</td>\n      <td>18.0</td>\n      <td>19.0</td>\n      <td>20.0</td>\n      <td>21.0</td>\n      <td>...</td>\n      <td>6.0</td>\n      <td>7.0</td>\n      <td>2023-08-04 11:22:49.017377</td>\n      <td>2023-08-04 11:22:49.037377</td>\n      <td>2023-08-04 11:22:49.057377</td>\n      <td>2023-08-04 11:22:49.077377</td>\n      <td>0.0</td>\n      <td>1.0</td>\n      <td>2.0</td>\n      <td>3.0</td>\n    </tr>\n    <tr>\n      <th>2023-08-04 16:22:49.017377</th>\n      <td>12.0</td>\n      <td>13.0</td>\n      <td>14.0</td>\n      <td>15.0</td>\n      <td>16.0</td>\n      <td>17.0</td>\n      <td>18.0</td>\n      <td>19.0</td>\n      <td>20.0</td>\n      <td>21.0</td>\n      <td>...</td>\n      <td>6.0</td>\n      <td>7.0</td>\n      <td>2023-08-04 11:22:49.017377</td>\n      <td>2023-08-04 11:22:49.037377</td>\n      <td>2023-08-04 11:22:49.057377</td>\n      <td>2023-08-04 11:22:49.077377</td>\n      <td>0.0</td>\n      <td>1.0</td>\n      <td>2.0</td>\n      <td>3.0</td>\n    </tr>\n    <tr>\n      <th rowspan=\"5\" valign=\"top\">2023-08-04 11:22:49.017377</th>\n      <th>2023-08-04 12:22:49.017377</th>\n      <td>12.0</td>\n      <td>13.0</td>\n      <td>14.0</td>\n      <td>15.0</td>\n      <td>16.0</td>\n      <td>17.0</td>\n      <td>18.0</td>\n      <td>19.0</td>\n      <td>20.0</td>\n      <td>21.0</td>\n      <td>...</td>\n      <td>6.0</td>\n      <td>7.0</td>\n      <td>2023-08-04 11:22:49.017377</td>\n      <td>2023-08-04 11:22:49.037377</td>\n      <td>2023-08-04 11:22:49.057377</td>\n      <td>2023-08-04 11:22:49.077377</td>\n      <td>0.0</td>\n      <td>1.0</td>\n      <td>2.0</td>\n      <td>3.0</td>\n    </tr>\n    <tr>\n      <th>2023-08-04 13:22:49.017377</th>\n      <td>12.0</td>\n      <td>13.0</td>\n      <td>14.0</td>\n      <td>15.0</td>\n      <td>16.0</td>\n      <td>17.0</td>\n      <td>18.0</td>\n      <td>19.0</td>\n      <td>20.0</td>\n      <td>21.0</td>\n      <td>...</td>\n      <td>6.0</td>\n      <td>7.0</td>\n      <td>2023-08-04 11:22:49.017377</td>\n      <td>2023-08-04 11:22:49.037377</td>\n      <td>2023-08-04 11:22:49.057377</td>\n      <td>2023-08-04 11:22:49.077377</td>\n      <td>0.0</td>\n      <td>1.0</td>\n      <td>2.0</td>\n      <td>3.0</td>\n    </tr>\n    <tr>\n      <th>2023-08-04 14:22:49.017377</th>\n      <td>12.0</td>\n      <td>13.0</td>\n      <td>14.0</td>\n      <td>15.0</td>\n      <td>16.0</td>\n      <td>17.0</td>\n      <td>18.0</td>\n      <td>19.0</td>\n      <td>20.0</td>\n      <td>21.0</td>\n      <td>...</td>\n      <td>6.0</td>\n      <td>7.0</td>\n      <td>2023-08-04 11:22:49.017377</td>\n      <td>2023-08-04 11:22:49.037377</td>\n      <td>2023-08-04 11:22:49.057377</td>\n      <td>2023-08-04 11:22:49.077377</td>\n      <td>0.0</td>\n      <td>1.0</td>\n      <td>2.0</td>\n      <td>3.0</td>\n    </tr>\n    <tr>\n      <th>2023-08-04 15:22:49.017377</th>\n      <td>12.0</td>\n      <td>13.0</td>\n      <td>14.0</td>\n      <td>15.0</td>\n      <td>16.0</td>\n      <td>17.0</td>\n      <td>18.0</td>\n      <td>19.0</td>\n      <td>20.0</td>\n      <td>21.0</td>\n      <td>...</td>\n      <td>6.0</td>\n      <td>7.0</td>\n      <td>2023-08-04 11:22:49.017377</td>\n      <td>2023-08-04 11:22:49.037377</td>\n      <td>2023-08-04 11:22:49.057377</td>\n      <td>2023-08-04 11:22:49.077377</td>\n      <td>0.0</td>\n      <td>1.0</td>\n      <td>2.0</td>\n      <td>3.0</td>\n    </tr>\n    <tr>\n      <th>2023-08-04 16:22:49.017377</th>\n      <td>12.0</td>\n      <td>13.0</td>\n      <td>14.0</td>\n      <td>15.0</td>\n      <td>16.0</td>\n      <td>17.0</td>\n      <td>18.0</td>\n      <td>19.0</td>\n      <td>20.0</td>\n      <td>21.0</td>\n      <td>...</td>\n      <td>6.0</td>\n      <td>7.0</td>\n      <td>2023-08-04 11:22:49.017377</td>\n      <td>2023-08-04 11:22:49.037377</td>\n      <td>2023-08-04 11:22:49.057377</td>\n      <td>2023-08-04 11:22:49.077377</td>\n      <td>0.0</td>\n      <td>1.0</td>\n      <td>2.0</td>\n      <td>3.0</td>\n    </tr>\n    <tr>\n      <th rowspan=\"3\" valign=\"top\">zheng-longfei</th>\n      <th rowspan=\"3\" valign=\"top\">2023-08-02 11:22:50.468113</th>\n      <th>2023-08-04 12:22:49.017377</th>\n      <td>12.0</td>\n      <td>13.0</td>\n      <td>14.0</td>\n      <td>15.0</td>\n      <td>16.0</td>\n      <td>17.0</td>\n      <td>18.0</td>\n      <td>19.0</td>\n      <td>20.0</td>\n      <td>21.0</td>\n      <td>...</td>\n      <td>6.0</td>\n      <td>7.0</td>\n      <td>2023-08-04 11:22:49.017377</td>\n      <td>2023-08-04 11:22:49.037377</td>\n      <td>2023-08-04 11:22:49.057377</td>\n      <td>2023-08-04 11:22:49.077377</td>\n      <td>0.0</td>\n      <td>1.0</td>\n      <td>2.0</td>\n      <td>3.0</td>\n    </tr>\n    <tr>\n      <th>2023-08-04 13:22:49.017377</th>\n      <td>12.0</td>\n      <td>13.0</td>\n      <td>14.0</td>\n      <td>15.0</td>\n      <td>16.0</td>\n      <td>17.0</td>\n      <td>18.0</td>\n      <td>19.0</td>\n      <td>20.0</td>\n      <td>21.0</td>\n      <td>...</td>\n      <td>6.0</td>\n      <td>7.0</td>\n      <td>2023-08-04 11:22:49.017377</td>\n      <td>2023-08-04 11:22:49.037377</td>\n      <td>2023-08-04 11:22:49.057377</td>\n      <td>2023-08-04 11:22:49.077377</td>\n      <td>0.0</td>\n      <td>1.0</td>\n      <td>2.0</td>\n      <td>3.0</td>\n    </tr>\n    <tr>\n      <th>2023-08-04 16:22:49.017377</th>\n      <td>12.0</td>\n      <td>13.0</td>\n      <td>14.0</td>\n      <td>15.0</td>\n      <td>16.0</td>\n      <td>17.0</td>\n      <td>18.0</td>\n      <td>19.0</td>\n      <td>20.0</td>\n      <td>21.0</td>\n      <td>...</td>\n      <td>6.0</td>\n      <td>7.0</td>\n      <td>2023-08-04 11:22:49.017377</td>\n      <td>2023-08-04 11:22:49.037377</td>\n      <td>2023-08-04 11:22:49.057377</td>\n      <td>2023-08-04 11:22:49.077377</td>\n      <td>0.0</td>\n      <td>1.0</td>\n      <td>2.0</td>\n      <td>3.0</td>\n    </tr>\n  </tbody>\n</table>\n<p>16 rows × 60 columns</p>\n</div>"
     },
     "execution_count": 95,
     "metadata": {},
     "output_type": "execute_result"
    }
   ],
   "source": [
    "ser_decoded = pd.Series(dict_observations)\n",
    "ser_decoded.index.names = ['vehicle', 'driver','episodestart', 'timestamp', 'qtuple', 'rows', 'idx']\n",
    "ser_decoded\n",
    "df_decoded = ser_decoded.unstack(level=['qtuple', 'rows', 'idx'])\n",
    "df_decoded"
   ],
   "metadata": {
    "collapsed": false,
    "ExecuteTime": {
     "end_time": "2023-08-04T03:23:01.951521523Z",
     "start_time": "2023-08-04T03:22:50.860187048Z"
    }
   }
  },
  {
   "cell_type": "code",
   "execution_count": 96,
   "outputs": [
    {
     "data": {
      "text/plain": "DatetimeIndex(['2023-07-30 11:22:50.468113', '2023-07-28 11:22:50.468113',\n               '2023-07-29 11:22:50.468113', '2023-08-04 11:22:49.017377',\n               '2023-08-02 11:22:50.468113'],\n              dtype='datetime64[ns]', name='episodestart', freq=None)"
     },
     "execution_count": 96,
     "metadata": {},
     "output_type": "execute_result"
    },
    {
     "data": {
      "text/plain": "[[[27.0], [27.0], [27.0], [27.0]],\n [[27.0], [27.0]],\n [[27.0], [27.0]],\n [[27.0], [27.0], [27.0], [27.0], [27.0]],\n [[27.0], [27.0], [27.0]]]"
     },
     "execution_count": 96,
     "metadata": {},
     "output_type": "execute_result"
    },
    {
     "data": {
      "text/plain": "[[27.0], [27.0], [27.0], [27.0]]"
     },
     "execution_count": 96,
     "metadata": {},
     "output_type": "execute_result"
    }
   ],
   "source": [
    "episodestart_index = df_decoded.index.unique(level='episodestart')\n",
    "# rewards.values\n",
    "episodestart_index\n",
    "\n",
    "df_rewards = df_decoded['reward','work']\n",
    "# rewards.index.get_level_values('episodestart')\n",
    "idx = pd.IndexSlice\n",
    "np_r_n_t = [ df_rewards.loc[idx[:,:,ep_start, :]].values.tolist()   for ep_start in episodestart_index]\n",
    "# np_r_n_t = [ rewards.loc[:,:,ep_start].values.tolist()   for ep_start in episodestart_index]\n",
    "np_r_n_t\n",
    "np_r_n_t[0]"
   ],
   "metadata": {
    "collapsed": false,
    "ExecuteTime": {
     "end_time": "2023-08-04T03:23:01.951957863Z",
     "start_time": "2023-08-04T03:22:50.901718851Z"
    }
   }
  },
  {
   "cell_type": "code",
   "execution_count": 97,
   "outputs": [
    {
     "data": {
      "text/plain": "idx                                               0\nvehicle driver     timestamp                       \nMP73    wang-cheng 2023-08-04 12:22:49.017377  27.0\n                   2023-08-04 13:22:49.017377  27.0\n                   2023-08-04 14:22:49.017377  27.0\n                   2023-08-04 16:22:49.017377  27.0",
      "text/html": "<div>\n<style scoped>\n    .dataframe tbody tr th:only-of-type {\n        vertical-align: middle;\n    }\n\n    .dataframe tbody tr th {\n        vertical-align: top;\n    }\n\n    .dataframe thead th {\n        text-align: right;\n    }\n</style>\n<table border=\"1\" class=\"dataframe\">\n  <thead>\n    <tr style=\"text-align: right;\">\n      <th></th>\n      <th></th>\n      <th>idx</th>\n      <th>0</th>\n    </tr>\n    <tr>\n      <th>vehicle</th>\n      <th>driver</th>\n      <th>timestamp</th>\n      <th></th>\n    </tr>\n  </thead>\n  <tbody>\n    <tr>\n      <th rowspan=\"4\" valign=\"top\">MP73</th>\n      <th rowspan=\"4\" valign=\"top\">wang-cheng</th>\n      <th>2023-08-04 12:22:49.017377</th>\n      <td>27.0</td>\n    </tr>\n    <tr>\n      <th>2023-08-04 13:22:49.017377</th>\n      <td>27.0</td>\n    </tr>\n    <tr>\n      <th>2023-08-04 14:22:49.017377</th>\n      <td>27.0</td>\n    </tr>\n    <tr>\n      <th>2023-08-04 16:22:49.017377</th>\n      <td>27.0</td>\n    </tr>\n  </tbody>\n</table>\n</div>"
     },
     "execution_count": 97,
     "metadata": {},
     "output_type": "execute_result"
    }
   ],
   "source": [
    "df_rewards.loc[:,:,episodestart_index[0]]"
   ],
   "metadata": {
    "collapsed": false,
    "ExecuteTime": {
     "end_time": "2023-08-04T03:23:01.955990329Z",
     "start_time": "2023-08-04T03:22:50.912660678Z"
    }
   }
  },
  {
   "cell_type": "code",
   "execution_count": 98,
   "outputs": [
    {
     "data": {
      "text/plain": "array([[[    27.],\n        [    27.],\n        [    27.],\n        [    27.],\n        [-10000.]],\n\n       [[    27.],\n        [    27.],\n        [-10000.],\n        [-10000.],\n        [-10000.]],\n\n       [[    27.],\n        [    27.],\n        [-10000.],\n        [-10000.],\n        [-10000.]],\n\n       [[    27.],\n        [    27.],\n        [    27.],\n        [    27.],\n        [    27.]],\n\n       [[    27.],\n        [    27.],\n        [    27.],\n        [-10000.],\n        [-10000.]]], dtype=float32)"
     },
     "execution_count": 98,
     "metadata": {},
     "output_type": "execute_result"
    },
    {
     "data": {
      "text/plain": "(5, 5, 1)"
     },
     "execution_count": 98,
     "metadata": {},
     "output_type": "execute_result"
    }
   ],
   "source": [
    "from keras.utils import pad_sequences\n",
    "\n",
    "r_n_t = pad_sequences(np_r_n_t, padding='post', dtype='float32', value=-10000.0)\n",
    "r_n_t\n",
    "r_n_t.shape"
   ],
   "metadata": {
    "collapsed": false,
    "ExecuteTime": {
     "end_time": "2023-08-04T03:23:01.957245387Z",
     "start_time": "2023-08-04T03:22:50.919786206Z"
    }
   }
  },
  {
   "cell_type": "code",
   "execution_count": 99,
   "outputs": [
    {
     "data": {
      "text/plain": "qtuple                                                                         state  \\\nrows                                                                        velocity   \nidx                                                                                0   \nvehicle driver        episodestart               timestamp                             \nMP73    wang-cheng    2023-07-30 11:22:50.468113 2023-08-04 12:22:49.017377      0.0   \n                                                 2023-08-04 13:22:49.017377      0.0   \n                                                 2023-08-04 14:22:49.017377      0.0   \n                                                 2023-08-04 16:22:49.017377      0.0   \n        zheng-longfei 2023-07-28 11:22:50.468113 2023-08-04 14:22:49.017377      0.0   \n                                                 2023-08-04 16:22:49.017377      0.0   \nVB7     wang-cheng    2023-07-29 11:22:50.468113 2023-08-04 15:22:49.017377      0.0   \n                                                 2023-08-04 16:22:49.017377      0.0   \n                      2023-08-04 11:22:49.017377 2023-08-04 12:22:49.017377      0.0   \n                                                 2023-08-04 13:22:49.017377      0.0   \n                                                 2023-08-04 14:22:49.017377      0.0   \n                                                 2023-08-04 15:22:49.017377      0.0   \n                                                 2023-08-04 16:22:49.017377      0.0   \n        zheng-longfei 2023-08-02 11:22:50.468113 2023-08-04 12:22:49.017377      0.0   \n                                                 2023-08-04 13:22:49.017377      0.0   \n                                                 2023-08-04 16:22:49.017377      0.0   \n\nqtuple                                                                            \\\nrows                                                                               \nidx                                                                            1   \nvehicle driver        episodestart               timestamp                         \nMP73    wang-cheng    2023-07-30 11:22:50.468113 2023-08-04 12:22:49.017377  1.0   \n                                                 2023-08-04 13:22:49.017377  1.0   \n                                                 2023-08-04 14:22:49.017377  1.0   \n                                                 2023-08-04 16:22:49.017377  1.0   \n        zheng-longfei 2023-07-28 11:22:50.468113 2023-08-04 14:22:49.017377  1.0   \n                                                 2023-08-04 16:22:49.017377  1.0   \nVB7     wang-cheng    2023-07-29 11:22:50.468113 2023-08-04 15:22:49.017377  1.0   \n                                                 2023-08-04 16:22:49.017377  1.0   \n                      2023-08-04 11:22:49.017377 2023-08-04 12:22:49.017377  1.0   \n                                                 2023-08-04 13:22:49.017377  1.0   \n                                                 2023-08-04 14:22:49.017377  1.0   \n                                                 2023-08-04 15:22:49.017377  1.0   \n                                                 2023-08-04 16:22:49.017377  1.0   \n        zheng-longfei 2023-08-02 11:22:50.468113 2023-08-04 12:22:49.017377  1.0   \n                                                 2023-08-04 13:22:49.017377  1.0   \n                                                 2023-08-04 16:22:49.017377  1.0   \n\nqtuple                                                                            \\\nrows                                                                               \nidx                                                                            2   \nvehicle driver        episodestart               timestamp                         \nMP73    wang-cheng    2023-07-30 11:22:50.468113 2023-08-04 12:22:49.017377  2.0   \n                                                 2023-08-04 13:22:49.017377  2.0   \n                                                 2023-08-04 14:22:49.017377  2.0   \n                                                 2023-08-04 16:22:49.017377  2.0   \n        zheng-longfei 2023-07-28 11:22:50.468113 2023-08-04 14:22:49.017377  2.0   \n                                                 2023-08-04 16:22:49.017377  2.0   \nVB7     wang-cheng    2023-07-29 11:22:50.468113 2023-08-04 15:22:49.017377  2.0   \n                                                 2023-08-04 16:22:49.017377  2.0   \n                      2023-08-04 11:22:49.017377 2023-08-04 12:22:49.017377  2.0   \n                                                 2023-08-04 13:22:49.017377  2.0   \n                                                 2023-08-04 14:22:49.017377  2.0   \n                                                 2023-08-04 15:22:49.017377  2.0   \n                                                 2023-08-04 16:22:49.017377  2.0   \n        zheng-longfei 2023-08-02 11:22:50.468113 2023-08-04 12:22:49.017377  2.0   \n                                                 2023-08-04 13:22:49.017377  2.0   \n                                                 2023-08-04 16:22:49.017377  2.0   \n\nqtuple                                                                            \\\nrows                                                                               \nidx                                                                            3   \nvehicle driver        episodestart               timestamp                         \nMP73    wang-cheng    2023-07-30 11:22:50.468113 2023-08-04 12:22:49.017377  3.0   \n                                                 2023-08-04 13:22:49.017377  3.0   \n                                                 2023-08-04 14:22:49.017377  3.0   \n                                                 2023-08-04 16:22:49.017377  3.0   \n        zheng-longfei 2023-07-28 11:22:50.468113 2023-08-04 14:22:49.017377  3.0   \n                                                 2023-08-04 16:22:49.017377  3.0   \nVB7     wang-cheng    2023-07-29 11:22:50.468113 2023-08-04 15:22:49.017377  3.0   \n                                                 2023-08-04 16:22:49.017377  3.0   \n                      2023-08-04 11:22:49.017377 2023-08-04 12:22:49.017377  3.0   \n                                                 2023-08-04 13:22:49.017377  3.0   \n                                                 2023-08-04 14:22:49.017377  3.0   \n                                                 2023-08-04 15:22:49.017377  3.0   \n                                                 2023-08-04 16:22:49.017377  3.0   \n        zheng-longfei 2023-08-02 11:22:50.468113 2023-08-04 12:22:49.017377  3.0   \n                                                 2023-08-04 13:22:49.017377  3.0   \n                                                 2023-08-04 16:22:49.017377  3.0   \n\nqtuple                                                                              \\\nrows                                                                        thrust   \nidx                                                                              0   \nvehicle driver        episodestart               timestamp                           \nMP73    wang-cheng    2023-07-30 11:22:50.468113 2023-08-04 12:22:49.017377    4.0   \n                                                 2023-08-04 13:22:49.017377    4.0   \n                                                 2023-08-04 14:22:49.017377    4.0   \n                                                 2023-08-04 16:22:49.017377    4.0   \n        zheng-longfei 2023-07-28 11:22:50.468113 2023-08-04 14:22:49.017377    4.0   \n                                                 2023-08-04 16:22:49.017377    4.0   \nVB7     wang-cheng    2023-07-29 11:22:50.468113 2023-08-04 15:22:49.017377    4.0   \n                                                 2023-08-04 16:22:49.017377    4.0   \n                      2023-08-04 11:22:49.017377 2023-08-04 12:22:49.017377    4.0   \n                                                 2023-08-04 13:22:49.017377    4.0   \n                                                 2023-08-04 14:22:49.017377    4.0   \n                                                 2023-08-04 15:22:49.017377    4.0   \n                                                 2023-08-04 16:22:49.017377    4.0   \n        zheng-longfei 2023-08-02 11:22:50.468113 2023-08-04 12:22:49.017377    4.0   \n                                                 2023-08-04 13:22:49.017377    4.0   \n                                                 2023-08-04 16:22:49.017377    4.0   \n\nqtuple                                                                            \\\nrows                                                                               \nidx                                                                            1   \nvehicle driver        episodestart               timestamp                         \nMP73    wang-cheng    2023-07-30 11:22:50.468113 2023-08-04 12:22:49.017377  5.0   \n                                                 2023-08-04 13:22:49.017377  5.0   \n                                                 2023-08-04 14:22:49.017377  5.0   \n                                                 2023-08-04 16:22:49.017377  5.0   \n        zheng-longfei 2023-07-28 11:22:50.468113 2023-08-04 14:22:49.017377  5.0   \n                                                 2023-08-04 16:22:49.017377  5.0   \nVB7     wang-cheng    2023-07-29 11:22:50.468113 2023-08-04 15:22:49.017377  5.0   \n                                                 2023-08-04 16:22:49.017377  5.0   \n                      2023-08-04 11:22:49.017377 2023-08-04 12:22:49.017377  5.0   \n                                                 2023-08-04 13:22:49.017377  5.0   \n                                                 2023-08-04 14:22:49.017377  5.0   \n                                                 2023-08-04 15:22:49.017377  5.0   \n                                                 2023-08-04 16:22:49.017377  5.0   \n        zheng-longfei 2023-08-02 11:22:50.468113 2023-08-04 12:22:49.017377  5.0   \n                                                 2023-08-04 13:22:49.017377  5.0   \n                                                 2023-08-04 16:22:49.017377  5.0   \n\nqtuple                                                                            \\\nrows                                                                               \nidx                                                                            2   \nvehicle driver        episodestart               timestamp                         \nMP73    wang-cheng    2023-07-30 11:22:50.468113 2023-08-04 12:22:49.017377  6.0   \n                                                 2023-08-04 13:22:49.017377  6.0   \n                                                 2023-08-04 14:22:49.017377  6.0   \n                                                 2023-08-04 16:22:49.017377  6.0   \n        zheng-longfei 2023-07-28 11:22:50.468113 2023-08-04 14:22:49.017377  6.0   \n                                                 2023-08-04 16:22:49.017377  6.0   \nVB7     wang-cheng    2023-07-29 11:22:50.468113 2023-08-04 15:22:49.017377  6.0   \n                                                 2023-08-04 16:22:49.017377  6.0   \n                      2023-08-04 11:22:49.017377 2023-08-04 12:22:49.017377  6.0   \n                                                 2023-08-04 13:22:49.017377  6.0   \n                                                 2023-08-04 14:22:49.017377  6.0   \n                                                 2023-08-04 15:22:49.017377  6.0   \n                                                 2023-08-04 16:22:49.017377  6.0   \n        zheng-longfei 2023-08-02 11:22:50.468113 2023-08-04 12:22:49.017377  6.0   \n                                                 2023-08-04 13:22:49.017377  6.0   \n                                                 2023-08-04 16:22:49.017377  6.0   \n\nqtuple                                                                            \\\nrows                                                                               \nidx                                                                            3   \nvehicle driver        episodestart               timestamp                         \nMP73    wang-cheng    2023-07-30 11:22:50.468113 2023-08-04 12:22:49.017377  7.0   \n                                                 2023-08-04 13:22:49.017377  7.0   \n                                                 2023-08-04 14:22:49.017377  7.0   \n                                                 2023-08-04 16:22:49.017377  7.0   \n        zheng-longfei 2023-07-28 11:22:50.468113 2023-08-04 14:22:49.017377  7.0   \n                                                 2023-08-04 16:22:49.017377  7.0   \nVB7     wang-cheng    2023-07-29 11:22:50.468113 2023-08-04 15:22:49.017377  7.0   \n                                                 2023-08-04 16:22:49.017377  7.0   \n                      2023-08-04 11:22:49.017377 2023-08-04 12:22:49.017377  7.0   \n                                                 2023-08-04 13:22:49.017377  7.0   \n                                                 2023-08-04 14:22:49.017377  7.0   \n                                                 2023-08-04 15:22:49.017377  7.0   \n                                                 2023-08-04 16:22:49.017377  7.0   \n        zheng-longfei 2023-08-02 11:22:50.468113 2023-08-04 12:22:49.017377  7.0   \n                                                 2023-08-04 13:22:49.017377  7.0   \n                                                 2023-08-04 16:22:49.017377  7.0   \n\nqtuple                                                                             \\\nrows                                                                        brake   \nidx                                                                             0   \nvehicle driver        episodestart               timestamp                          \nMP73    wang-cheng    2023-07-30 11:22:50.468113 2023-08-04 12:22:49.017377   8.0   \n                                                 2023-08-04 13:22:49.017377   8.0   \n                                                 2023-08-04 14:22:49.017377   8.0   \n                                                 2023-08-04 16:22:49.017377   8.0   \n        zheng-longfei 2023-07-28 11:22:50.468113 2023-08-04 14:22:49.017377   8.0   \n                                                 2023-08-04 16:22:49.017377   8.0   \nVB7     wang-cheng    2023-07-29 11:22:50.468113 2023-08-04 15:22:49.017377   8.0   \n                                                 2023-08-04 16:22:49.017377   8.0   \n                      2023-08-04 11:22:49.017377 2023-08-04 12:22:49.017377   8.0   \n                                                 2023-08-04 13:22:49.017377   8.0   \n                                                 2023-08-04 14:22:49.017377   8.0   \n                                                 2023-08-04 15:22:49.017377   8.0   \n                                                 2023-08-04 16:22:49.017377   8.0   \n        zheng-longfei 2023-08-02 11:22:50.468113 2023-08-04 12:22:49.017377   8.0   \n                                                 2023-08-04 13:22:49.017377   8.0   \n                                                 2023-08-04 16:22:49.017377   8.0   \n\nqtuple                                                                            \\\nrows                                                                               \nidx                                                                            1   \nvehicle driver        episodestart               timestamp                         \nMP73    wang-cheng    2023-07-30 11:22:50.468113 2023-08-04 12:22:49.017377  9.0   \n                                                 2023-08-04 13:22:49.017377  9.0   \n                                                 2023-08-04 14:22:49.017377  9.0   \n                                                 2023-08-04 16:22:49.017377  9.0   \n        zheng-longfei 2023-07-28 11:22:50.468113 2023-08-04 14:22:49.017377  9.0   \n                                                 2023-08-04 16:22:49.017377  9.0   \nVB7     wang-cheng    2023-07-29 11:22:50.468113 2023-08-04 15:22:49.017377  9.0   \n                                                 2023-08-04 16:22:49.017377  9.0   \n                      2023-08-04 11:22:49.017377 2023-08-04 12:22:49.017377  9.0   \n                                                 2023-08-04 13:22:49.017377  9.0   \n                                                 2023-08-04 14:22:49.017377  9.0   \n                                                 2023-08-04 15:22:49.017377  9.0   \n                                                 2023-08-04 16:22:49.017377  9.0   \n        zheng-longfei 2023-08-02 11:22:50.468113 2023-08-04 12:22:49.017377  9.0   \n                                                 2023-08-04 13:22:49.017377  9.0   \n                                                 2023-08-04 16:22:49.017377  9.0   \n\nqtuple                                                                             \\\nrows                                                                                \nidx                                                                             2   \nvehicle driver        episodestart               timestamp                          \nMP73    wang-cheng    2023-07-30 11:22:50.468113 2023-08-04 12:22:49.017377  10.0   \n                                                 2023-08-04 13:22:49.017377  10.0   \n                                                 2023-08-04 14:22:49.017377  10.0   \n                                                 2023-08-04 16:22:49.017377  10.0   \n        zheng-longfei 2023-07-28 11:22:50.468113 2023-08-04 14:22:49.017377  10.0   \n                                                 2023-08-04 16:22:49.017377  10.0   \nVB7     wang-cheng    2023-07-29 11:22:50.468113 2023-08-04 15:22:49.017377  10.0   \n                                                 2023-08-04 16:22:49.017377  10.0   \n                      2023-08-04 11:22:49.017377 2023-08-04 12:22:49.017377  10.0   \n                                                 2023-08-04 13:22:49.017377  10.0   \n                                                 2023-08-04 14:22:49.017377  10.0   \n                                                 2023-08-04 15:22:49.017377  10.0   \n                                                 2023-08-04 16:22:49.017377  10.0   \n        zheng-longfei 2023-08-02 11:22:50.468113 2023-08-04 12:22:49.017377  10.0   \n                                                 2023-08-04 13:22:49.017377  10.0   \n                                                 2023-08-04 16:22:49.017377  10.0   \n\nqtuple                                                                             \nrows                                                                               \nidx                                                                             3  \nvehicle driver        episodestart               timestamp                         \nMP73    wang-cheng    2023-07-30 11:22:50.468113 2023-08-04 12:22:49.017377  11.0  \n                                                 2023-08-04 13:22:49.017377  11.0  \n                                                 2023-08-04 14:22:49.017377  11.0  \n                                                 2023-08-04 16:22:49.017377  11.0  \n        zheng-longfei 2023-07-28 11:22:50.468113 2023-08-04 14:22:49.017377  11.0  \n                                                 2023-08-04 16:22:49.017377  11.0  \nVB7     wang-cheng    2023-07-29 11:22:50.468113 2023-08-04 15:22:49.017377  11.0  \n                                                 2023-08-04 16:22:49.017377  11.0  \n                      2023-08-04 11:22:49.017377 2023-08-04 12:22:49.017377  11.0  \n                                                 2023-08-04 13:22:49.017377  11.0  \n                                                 2023-08-04 14:22:49.017377  11.0  \n                                                 2023-08-04 15:22:49.017377  11.0  \n                                                 2023-08-04 16:22:49.017377  11.0  \n        zheng-longfei 2023-08-02 11:22:50.468113 2023-08-04 12:22:49.017377  11.0  \n                                                 2023-08-04 13:22:49.017377  11.0  \n                                                 2023-08-04 16:22:49.017377  11.0  ",
      "text/html": "<div>\n<style scoped>\n    .dataframe tbody tr th:only-of-type {\n        vertical-align: middle;\n    }\n\n    .dataframe tbody tr th {\n        vertical-align: top;\n    }\n\n    .dataframe thead tr th {\n        text-align: left;\n    }\n\n    .dataframe thead tr:last-of-type th {\n        text-align: right;\n    }\n</style>\n<table border=\"1\" class=\"dataframe\">\n  <thead>\n    <tr>\n      <th></th>\n      <th></th>\n      <th></th>\n      <th>qtuple</th>\n      <th colspan=\"12\" halign=\"left\">state</th>\n    </tr>\n    <tr>\n      <th></th>\n      <th></th>\n      <th></th>\n      <th>rows</th>\n      <th colspan=\"4\" halign=\"left\">velocity</th>\n      <th colspan=\"4\" halign=\"left\">thrust</th>\n      <th colspan=\"4\" halign=\"left\">brake</th>\n    </tr>\n    <tr>\n      <th></th>\n      <th></th>\n      <th></th>\n      <th>idx</th>\n      <th>0</th>\n      <th>1</th>\n      <th>2</th>\n      <th>3</th>\n      <th>0</th>\n      <th>1</th>\n      <th>2</th>\n      <th>3</th>\n      <th>0</th>\n      <th>1</th>\n      <th>2</th>\n      <th>3</th>\n    </tr>\n    <tr>\n      <th>vehicle</th>\n      <th>driver</th>\n      <th>episodestart</th>\n      <th>timestamp</th>\n      <th></th>\n      <th></th>\n      <th></th>\n      <th></th>\n      <th></th>\n      <th></th>\n      <th></th>\n      <th></th>\n      <th></th>\n      <th></th>\n      <th></th>\n      <th></th>\n    </tr>\n  </thead>\n  <tbody>\n    <tr>\n      <th rowspan=\"6\" valign=\"top\">MP73</th>\n      <th rowspan=\"4\" valign=\"top\">wang-cheng</th>\n      <th rowspan=\"4\" valign=\"top\">2023-07-30 11:22:50.468113</th>\n      <th>2023-08-04 12:22:49.017377</th>\n      <td>0.0</td>\n      <td>1.0</td>\n      <td>2.0</td>\n      <td>3.0</td>\n      <td>4.0</td>\n      <td>5.0</td>\n      <td>6.0</td>\n      <td>7.0</td>\n      <td>8.0</td>\n      <td>9.0</td>\n      <td>10.0</td>\n      <td>11.0</td>\n    </tr>\n    <tr>\n      <th>2023-08-04 13:22:49.017377</th>\n      <td>0.0</td>\n      <td>1.0</td>\n      <td>2.0</td>\n      <td>3.0</td>\n      <td>4.0</td>\n      <td>5.0</td>\n      <td>6.0</td>\n      <td>7.0</td>\n      <td>8.0</td>\n      <td>9.0</td>\n      <td>10.0</td>\n      <td>11.0</td>\n    </tr>\n    <tr>\n      <th>2023-08-04 14:22:49.017377</th>\n      <td>0.0</td>\n      <td>1.0</td>\n      <td>2.0</td>\n      <td>3.0</td>\n      <td>4.0</td>\n      <td>5.0</td>\n      <td>6.0</td>\n      <td>7.0</td>\n      <td>8.0</td>\n      <td>9.0</td>\n      <td>10.0</td>\n      <td>11.0</td>\n    </tr>\n    <tr>\n      <th>2023-08-04 16:22:49.017377</th>\n      <td>0.0</td>\n      <td>1.0</td>\n      <td>2.0</td>\n      <td>3.0</td>\n      <td>4.0</td>\n      <td>5.0</td>\n      <td>6.0</td>\n      <td>7.0</td>\n      <td>8.0</td>\n      <td>9.0</td>\n      <td>10.0</td>\n      <td>11.0</td>\n    </tr>\n    <tr>\n      <th rowspan=\"2\" valign=\"top\">zheng-longfei</th>\n      <th rowspan=\"2\" valign=\"top\">2023-07-28 11:22:50.468113</th>\n      <th>2023-08-04 14:22:49.017377</th>\n      <td>0.0</td>\n      <td>1.0</td>\n      <td>2.0</td>\n      <td>3.0</td>\n      <td>4.0</td>\n      <td>5.0</td>\n      <td>6.0</td>\n      <td>7.0</td>\n      <td>8.0</td>\n      <td>9.0</td>\n      <td>10.0</td>\n      <td>11.0</td>\n    </tr>\n    <tr>\n      <th>2023-08-04 16:22:49.017377</th>\n      <td>0.0</td>\n      <td>1.0</td>\n      <td>2.0</td>\n      <td>3.0</td>\n      <td>4.0</td>\n      <td>5.0</td>\n      <td>6.0</td>\n      <td>7.0</td>\n      <td>8.0</td>\n      <td>9.0</td>\n      <td>10.0</td>\n      <td>11.0</td>\n    </tr>\n    <tr>\n      <th rowspan=\"10\" valign=\"top\">VB7</th>\n      <th rowspan=\"7\" valign=\"top\">wang-cheng</th>\n      <th rowspan=\"2\" valign=\"top\">2023-07-29 11:22:50.468113</th>\n      <th>2023-08-04 15:22:49.017377</th>\n      <td>0.0</td>\n      <td>1.0</td>\n      <td>2.0</td>\n      <td>3.0</td>\n      <td>4.0</td>\n      <td>5.0</td>\n      <td>6.0</td>\n      <td>7.0</td>\n      <td>8.0</td>\n      <td>9.0</td>\n      <td>10.0</td>\n      <td>11.0</td>\n    </tr>\n    <tr>\n      <th>2023-08-04 16:22:49.017377</th>\n      <td>0.0</td>\n      <td>1.0</td>\n      <td>2.0</td>\n      <td>3.0</td>\n      <td>4.0</td>\n      <td>5.0</td>\n      <td>6.0</td>\n      <td>7.0</td>\n      <td>8.0</td>\n      <td>9.0</td>\n      <td>10.0</td>\n      <td>11.0</td>\n    </tr>\n    <tr>\n      <th rowspan=\"5\" valign=\"top\">2023-08-04 11:22:49.017377</th>\n      <th>2023-08-04 12:22:49.017377</th>\n      <td>0.0</td>\n      <td>1.0</td>\n      <td>2.0</td>\n      <td>3.0</td>\n      <td>4.0</td>\n      <td>5.0</td>\n      <td>6.0</td>\n      <td>7.0</td>\n      <td>8.0</td>\n      <td>9.0</td>\n      <td>10.0</td>\n      <td>11.0</td>\n    </tr>\n    <tr>\n      <th>2023-08-04 13:22:49.017377</th>\n      <td>0.0</td>\n      <td>1.0</td>\n      <td>2.0</td>\n      <td>3.0</td>\n      <td>4.0</td>\n      <td>5.0</td>\n      <td>6.0</td>\n      <td>7.0</td>\n      <td>8.0</td>\n      <td>9.0</td>\n      <td>10.0</td>\n      <td>11.0</td>\n    </tr>\n    <tr>\n      <th>2023-08-04 14:22:49.017377</th>\n      <td>0.0</td>\n      <td>1.0</td>\n      <td>2.0</td>\n      <td>3.0</td>\n      <td>4.0</td>\n      <td>5.0</td>\n      <td>6.0</td>\n      <td>7.0</td>\n      <td>8.0</td>\n      <td>9.0</td>\n      <td>10.0</td>\n      <td>11.0</td>\n    </tr>\n    <tr>\n      <th>2023-08-04 15:22:49.017377</th>\n      <td>0.0</td>\n      <td>1.0</td>\n      <td>2.0</td>\n      <td>3.0</td>\n      <td>4.0</td>\n      <td>5.0</td>\n      <td>6.0</td>\n      <td>7.0</td>\n      <td>8.0</td>\n      <td>9.0</td>\n      <td>10.0</td>\n      <td>11.0</td>\n    </tr>\n    <tr>\n      <th>2023-08-04 16:22:49.017377</th>\n      <td>0.0</td>\n      <td>1.0</td>\n      <td>2.0</td>\n      <td>3.0</td>\n      <td>4.0</td>\n      <td>5.0</td>\n      <td>6.0</td>\n      <td>7.0</td>\n      <td>8.0</td>\n      <td>9.0</td>\n      <td>10.0</td>\n      <td>11.0</td>\n    </tr>\n    <tr>\n      <th rowspan=\"3\" valign=\"top\">zheng-longfei</th>\n      <th rowspan=\"3\" valign=\"top\">2023-08-02 11:22:50.468113</th>\n      <th>2023-08-04 12:22:49.017377</th>\n      <td>0.0</td>\n      <td>1.0</td>\n      <td>2.0</td>\n      <td>3.0</td>\n      <td>4.0</td>\n      <td>5.0</td>\n      <td>6.0</td>\n      <td>7.0</td>\n      <td>8.0</td>\n      <td>9.0</td>\n      <td>10.0</td>\n      <td>11.0</td>\n    </tr>\n    <tr>\n      <th>2023-08-04 13:22:49.017377</th>\n      <td>0.0</td>\n      <td>1.0</td>\n      <td>2.0</td>\n      <td>3.0</td>\n      <td>4.0</td>\n      <td>5.0</td>\n      <td>6.0</td>\n      <td>7.0</td>\n      <td>8.0</td>\n      <td>9.0</td>\n      <td>10.0</td>\n      <td>11.0</td>\n    </tr>\n    <tr>\n      <th>2023-08-04 16:22:49.017377</th>\n      <td>0.0</td>\n      <td>1.0</td>\n      <td>2.0</td>\n      <td>3.0</td>\n      <td>4.0</td>\n      <td>5.0</td>\n      <td>6.0</td>\n      <td>7.0</td>\n      <td>8.0</td>\n      <td>9.0</td>\n      <td>10.0</td>\n      <td>11.0</td>\n    </tr>\n  </tbody>\n</table>\n</div>"
     },
     "execution_count": 99,
     "metadata": {},
     "output_type": "execute_result"
    }
   ],
   "source": [
    "\n",
    "idx = pd.IndexSlice\n",
    "states = df_decoded.loc[:, idx['state',['velocity', 'thrust', 'brake']]]\n",
    "states"
   ],
   "metadata": {
    "collapsed": false,
    "ExecuteTime": {
     "end_time": "2023-08-04T03:23:01.957900558Z",
     "start_time": "2023-08-04T03:22:50.964851388Z"
    }
   }
  },
  {
   "cell_type": "code",
   "execution_count": 100,
   "outputs": [
    {
     "name": "stdout",
     "output_type": "stream",
     "text": [
      "[[[ 0.0e+00  1.0e+00  2.0e+00  3.0e+00  4.0e+00  5.0e+00  6.0e+00\n",
      "    7.0e+00  8.0e+00  9.0e+00  1.0e+01  1.1e+01]\n",
      "  [ 0.0e+00  1.0e+00  2.0e+00  3.0e+00  4.0e+00  5.0e+00  6.0e+00\n",
      "    7.0e+00  8.0e+00  9.0e+00  1.0e+01  1.1e+01]\n",
      "  [ 0.0e+00  1.0e+00  2.0e+00  3.0e+00  4.0e+00  5.0e+00  6.0e+00\n",
      "    7.0e+00  8.0e+00  9.0e+00  1.0e+01  1.1e+01]\n",
      "  [ 0.0e+00  1.0e+00  2.0e+00  3.0e+00  4.0e+00  5.0e+00  6.0e+00\n",
      "    7.0e+00  8.0e+00  9.0e+00  1.0e+01  1.1e+01]\n",
      "  [-1.0e+04 -1.0e+04 -1.0e+04 -1.0e+04 -1.0e+04 -1.0e+04 -1.0e+04\n",
      "   -1.0e+04 -1.0e+04 -1.0e+04 -1.0e+04 -1.0e+04]]\n",
      "\n",
      " [[ 0.0e+00  1.0e+00  2.0e+00  3.0e+00  4.0e+00  5.0e+00  6.0e+00\n",
      "    7.0e+00  8.0e+00  9.0e+00  1.0e+01  1.1e+01]\n",
      "  [ 0.0e+00  1.0e+00  2.0e+00  3.0e+00  4.0e+00  5.0e+00  6.0e+00\n",
      "    7.0e+00  8.0e+00  9.0e+00  1.0e+01  1.1e+01]\n",
      "  [-1.0e+04 -1.0e+04 -1.0e+04 -1.0e+04 -1.0e+04 -1.0e+04 -1.0e+04\n",
      "   -1.0e+04 -1.0e+04 -1.0e+04 -1.0e+04 -1.0e+04]\n",
      "  [-1.0e+04 -1.0e+04 -1.0e+04 -1.0e+04 -1.0e+04 -1.0e+04 -1.0e+04\n",
      "   -1.0e+04 -1.0e+04 -1.0e+04 -1.0e+04 -1.0e+04]\n",
      "  [-1.0e+04 -1.0e+04 -1.0e+04 -1.0e+04 -1.0e+04 -1.0e+04 -1.0e+04\n",
      "   -1.0e+04 -1.0e+04 -1.0e+04 -1.0e+04 -1.0e+04]]\n",
      "\n",
      " [[ 0.0e+00  1.0e+00  2.0e+00  3.0e+00  4.0e+00  5.0e+00  6.0e+00\n",
      "    7.0e+00  8.0e+00  9.0e+00  1.0e+01  1.1e+01]\n",
      "  [ 0.0e+00  1.0e+00  2.0e+00  3.0e+00  4.0e+00  5.0e+00  6.0e+00\n",
      "    7.0e+00  8.0e+00  9.0e+00  1.0e+01  1.1e+01]\n",
      "  [-1.0e+04 -1.0e+04 -1.0e+04 -1.0e+04 -1.0e+04 -1.0e+04 -1.0e+04\n",
      "   -1.0e+04 -1.0e+04 -1.0e+04 -1.0e+04 -1.0e+04]\n",
      "  [-1.0e+04 -1.0e+04 -1.0e+04 -1.0e+04 -1.0e+04 -1.0e+04 -1.0e+04\n",
      "   -1.0e+04 -1.0e+04 -1.0e+04 -1.0e+04 -1.0e+04]\n",
      "  [-1.0e+04 -1.0e+04 -1.0e+04 -1.0e+04 -1.0e+04 -1.0e+04 -1.0e+04\n",
      "   -1.0e+04 -1.0e+04 -1.0e+04 -1.0e+04 -1.0e+04]]\n",
      "\n",
      " [[ 0.0e+00  1.0e+00  2.0e+00  3.0e+00  4.0e+00  5.0e+00  6.0e+00\n",
      "    7.0e+00  8.0e+00  9.0e+00  1.0e+01  1.1e+01]\n",
      "  [ 0.0e+00  1.0e+00  2.0e+00  3.0e+00  4.0e+00  5.0e+00  6.0e+00\n",
      "    7.0e+00  8.0e+00  9.0e+00  1.0e+01  1.1e+01]\n",
      "  [ 0.0e+00  1.0e+00  2.0e+00  3.0e+00  4.0e+00  5.0e+00  6.0e+00\n",
      "    7.0e+00  8.0e+00  9.0e+00  1.0e+01  1.1e+01]\n",
      "  [ 0.0e+00  1.0e+00  2.0e+00  3.0e+00  4.0e+00  5.0e+00  6.0e+00\n",
      "    7.0e+00  8.0e+00  9.0e+00  1.0e+01  1.1e+01]\n",
      "  [ 0.0e+00  1.0e+00  2.0e+00  3.0e+00  4.0e+00  5.0e+00  6.0e+00\n",
      "    7.0e+00  8.0e+00  9.0e+00  1.0e+01  1.1e+01]]\n",
      "\n",
      " [[ 0.0e+00  1.0e+00  2.0e+00  3.0e+00  4.0e+00  5.0e+00  6.0e+00\n",
      "    7.0e+00  8.0e+00  9.0e+00  1.0e+01  1.1e+01]\n",
      "  [ 0.0e+00  1.0e+00  2.0e+00  3.0e+00  4.0e+00  5.0e+00  6.0e+00\n",
      "    7.0e+00  8.0e+00  9.0e+00  1.0e+01  1.1e+01]\n",
      "  [ 0.0e+00  1.0e+00  2.0e+00  3.0e+00  4.0e+00  5.0e+00  6.0e+00\n",
      "    7.0e+00  8.0e+00  9.0e+00  1.0e+01  1.1e+01]\n",
      "  [-1.0e+04 -1.0e+04 -1.0e+04 -1.0e+04 -1.0e+04 -1.0e+04 -1.0e+04\n",
      "   -1.0e+04 -1.0e+04 -1.0e+04 -1.0e+04 -1.0e+04]\n",
      "  [-1.0e+04 -1.0e+04 -1.0e+04 -1.0e+04 -1.0e+04 -1.0e+04 -1.0e+04\n",
      "   -1.0e+04 -1.0e+04 -1.0e+04 -1.0e+04 -1.0e+04]]]\n"
     ]
    },
    {
     "data": {
      "text/plain": "(5, 5, 12)"
     },
     "execution_count": 100,
     "metadata": {},
     "output_type": "execute_result"
    }
   ],
   "source": [
    "np_s_n_t = [states.loc[idx[:,:,ep_start, :]].values.tolist() \n",
    "            for ep_start in episodestart_index]\n",
    "s_n_t = pad_sequences(np_s_n_t, padding='post', dtype='float32', value=-10000.0)\n",
    "print(s_n_t)\n",
    "s_n_t.shape\n"
   ],
   "metadata": {
    "collapsed": false,
    "ExecuteTime": {
     "end_time": "2023-08-04T03:23:01.958267348Z",
     "start_time": "2023-08-04T03:22:50.965401081Z"
    }
   }
  },
  {
   "cell_type": "code",
   "execution_count": 101,
   "outputs": [
    {
     "name": "stdout",
     "output_type": "stream",
     "text": [
      "[[[    12.     13.     14.     15.     16.     17.     18.     19.\n",
      "       20.     21.     22.     23.     24.     25.     26.]\n",
      "  [    12.     13.     14.     15.     16.     17.     18.     19.\n",
      "       20.     21.     22.     23.     24.     25.     26.]\n",
      "  [    12.     13.     14.     15.     16.     17.     18.     19.\n",
      "       20.     21.     22.     23.     24.     25.     26.]\n",
      "  [    12.     13.     14.     15.     16.     17.     18.     19.\n",
      "       20.     21.     22.     23.     24.     25.     26.]\n",
      "  [-10000. -10000. -10000. -10000. -10000. -10000. -10000. -10000.\n",
      "   -10000. -10000. -10000. -10000. -10000. -10000. -10000.]]\n",
      "\n",
      " [[    12.     13.     14.     15.     16.     17.     18.     19.\n",
      "       20.     21.     22.     23.     24.     25.     26.]\n",
      "  [    12.     13.     14.     15.     16.     17.     18.     19.\n",
      "       20.     21.     22.     23.     24.     25.     26.]\n",
      "  [-10000. -10000. -10000. -10000. -10000. -10000. -10000. -10000.\n",
      "   -10000. -10000. -10000. -10000. -10000. -10000. -10000.]\n",
      "  [-10000. -10000. -10000. -10000. -10000. -10000. -10000. -10000.\n",
      "   -10000. -10000. -10000. -10000. -10000. -10000. -10000.]\n",
      "  [-10000. -10000. -10000. -10000. -10000. -10000. -10000. -10000.\n",
      "   -10000. -10000. -10000. -10000. -10000. -10000. -10000.]]\n",
      "\n",
      " [[    12.     13.     14.     15.     16.     17.     18.     19.\n",
      "       20.     21.     22.     23.     24.     25.     26.]\n",
      "  [    12.     13.     14.     15.     16.     17.     18.     19.\n",
      "       20.     21.     22.     23.     24.     25.     26.]\n",
      "  [-10000. -10000. -10000. -10000. -10000. -10000. -10000. -10000.\n",
      "   -10000. -10000. -10000. -10000. -10000. -10000. -10000.]\n",
      "  [-10000. -10000. -10000. -10000. -10000. -10000. -10000. -10000.\n",
      "   -10000. -10000. -10000. -10000. -10000. -10000. -10000.]\n",
      "  [-10000. -10000. -10000. -10000. -10000. -10000. -10000. -10000.\n",
      "   -10000. -10000. -10000. -10000. -10000. -10000. -10000.]]\n",
      "\n",
      " [[    12.     13.     14.     15.     16.     17.     18.     19.\n",
      "       20.     21.     22.     23.     24.     25.     26.]\n",
      "  [    12.     13.     14.     15.     16.     17.     18.     19.\n",
      "       20.     21.     22.     23.     24.     25.     26.]\n",
      "  [    12.     13.     14.     15.     16.     17.     18.     19.\n",
      "       20.     21.     22.     23.     24.     25.     26.]\n",
      "  [    12.     13.     14.     15.     16.     17.     18.     19.\n",
      "       20.     21.     22.     23.     24.     25.     26.]\n",
      "  [    12.     13.     14.     15.     16.     17.     18.     19.\n",
      "       20.     21.     22.     23.     24.     25.     26.]]\n",
      "\n",
      " [[    12.     13.     14.     15.     16.     17.     18.     19.\n",
      "       20.     21.     22.     23.     24.     25.     26.]\n",
      "  [    12.     13.     14.     15.     16.     17.     18.     19.\n",
      "       20.     21.     22.     23.     24.     25.     26.]\n",
      "  [    12.     13.     14.     15.     16.     17.     18.     19.\n",
      "       20.     21.     22.     23.     24.     25.     26.]\n",
      "  [-10000. -10000. -10000. -10000. -10000. -10000. -10000. -10000.\n",
      "   -10000. -10000. -10000. -10000. -10000. -10000. -10000.]\n",
      "  [-10000. -10000. -10000. -10000. -10000. -10000. -10000. -10000.\n",
      "   -10000. -10000. -10000. -10000. -10000. -10000. -10000.]]]\n"
     ]
    },
    {
     "data": {
      "text/plain": "(5, 5, 15)"
     },
     "execution_count": 101,
     "metadata": {},
     "output_type": "execute_result"
    }
   ],
   "source": [
    "torque_table_row_names = ['r0', 'r1', 'r2']\n",
    "actions = df_decoded.loc[:, idx['action', torque_table_row_names]]\n",
    "np_a_n_t = [actions.loc[idx[:,:,ep_start, :]].values.tolist() for ep_start in episodestart_index]\n",
    "a_n_t = pad_sequences(np_a_n_t, padding='post', dtype='float32', value=-10000.0)\n",
    "print(a_n_t)\n",
    "a_n_t.shape\n"
   ],
   "metadata": {
    "collapsed": false,
    "ExecuteTime": {
     "end_time": "2023-08-04T03:23:02.001147643Z",
     "start_time": "2023-08-04T03:22:50.965570609Z"
    }
   }
  },
  {
   "cell_type": "code",
   "execution_count": 102,
   "outputs": [
    {
     "data": {
      "text/plain": "(5, 5, 12)"
     },
     "execution_count": 102,
     "metadata": {},
     "output_type": "execute_result"
    },
    {
     "data": {
      "text/plain": "(5, 5, 15)"
     },
     "execution_count": 102,
     "metadata": {},
     "output_type": "execute_result"
    },
    {
     "data": {
      "text/plain": "array([[[ 0.0e+00,  1.0e+00,  2.0e+00,  3.0e+00,  4.0e+00,  5.0e+00,\n          6.0e+00,  7.0e+00,  8.0e+00,  9.0e+00,  1.0e+01,  1.1e+01],\n        [ 0.0e+00,  1.0e+00,  2.0e+00,  3.0e+00,  4.0e+00,  5.0e+00,\n          6.0e+00,  7.0e+00,  8.0e+00,  9.0e+00,  1.0e+01,  1.1e+01],\n        [ 0.0e+00,  1.0e+00,  2.0e+00,  3.0e+00,  4.0e+00,  5.0e+00,\n          6.0e+00,  7.0e+00,  8.0e+00,  9.0e+00,  1.0e+01,  1.1e+01],\n        [ 0.0e+00,  1.0e+00,  2.0e+00,  3.0e+00,  4.0e+00,  5.0e+00,\n          6.0e+00,  7.0e+00,  8.0e+00,  9.0e+00,  1.0e+01,  1.1e+01],\n        [-1.0e+04, -1.0e+04, -1.0e+04, -1.0e+04, -1.0e+04, -1.0e+04,\n         -1.0e+04, -1.0e+04, -1.0e+04, -1.0e+04, -1.0e+04, -1.0e+04]],\n\n       [[ 0.0e+00,  1.0e+00,  2.0e+00,  3.0e+00,  4.0e+00,  5.0e+00,\n          6.0e+00,  7.0e+00,  8.0e+00,  9.0e+00,  1.0e+01,  1.1e+01],\n        [ 0.0e+00,  1.0e+00,  2.0e+00,  3.0e+00,  4.0e+00,  5.0e+00,\n          6.0e+00,  7.0e+00,  8.0e+00,  9.0e+00,  1.0e+01,  1.1e+01],\n        [-1.0e+04, -1.0e+04, -1.0e+04, -1.0e+04, -1.0e+04, -1.0e+04,\n         -1.0e+04, -1.0e+04, -1.0e+04, -1.0e+04, -1.0e+04, -1.0e+04],\n        [-1.0e+04, -1.0e+04, -1.0e+04, -1.0e+04, -1.0e+04, -1.0e+04,\n         -1.0e+04, -1.0e+04, -1.0e+04, -1.0e+04, -1.0e+04, -1.0e+04],\n        [-1.0e+04, -1.0e+04, -1.0e+04, -1.0e+04, -1.0e+04, -1.0e+04,\n         -1.0e+04, -1.0e+04, -1.0e+04, -1.0e+04, -1.0e+04, -1.0e+04]],\n\n       [[ 0.0e+00,  1.0e+00,  2.0e+00,  3.0e+00,  4.0e+00,  5.0e+00,\n          6.0e+00,  7.0e+00,  8.0e+00,  9.0e+00,  1.0e+01,  1.1e+01],\n        [ 0.0e+00,  1.0e+00,  2.0e+00,  3.0e+00,  4.0e+00,  5.0e+00,\n          6.0e+00,  7.0e+00,  8.0e+00,  9.0e+00,  1.0e+01,  1.1e+01],\n        [-1.0e+04, -1.0e+04, -1.0e+04, -1.0e+04, -1.0e+04, -1.0e+04,\n         -1.0e+04, -1.0e+04, -1.0e+04, -1.0e+04, -1.0e+04, -1.0e+04],\n        [-1.0e+04, -1.0e+04, -1.0e+04, -1.0e+04, -1.0e+04, -1.0e+04,\n         -1.0e+04, -1.0e+04, -1.0e+04, -1.0e+04, -1.0e+04, -1.0e+04],\n        [-1.0e+04, -1.0e+04, -1.0e+04, -1.0e+04, -1.0e+04, -1.0e+04,\n         -1.0e+04, -1.0e+04, -1.0e+04, -1.0e+04, -1.0e+04, -1.0e+04]],\n\n       [[ 0.0e+00,  1.0e+00,  2.0e+00,  3.0e+00,  4.0e+00,  5.0e+00,\n          6.0e+00,  7.0e+00,  8.0e+00,  9.0e+00,  1.0e+01,  1.1e+01],\n        [ 0.0e+00,  1.0e+00,  2.0e+00,  3.0e+00,  4.0e+00,  5.0e+00,\n          6.0e+00,  7.0e+00,  8.0e+00,  9.0e+00,  1.0e+01,  1.1e+01],\n        [ 0.0e+00,  1.0e+00,  2.0e+00,  3.0e+00,  4.0e+00,  5.0e+00,\n          6.0e+00,  7.0e+00,  8.0e+00,  9.0e+00,  1.0e+01,  1.1e+01],\n        [ 0.0e+00,  1.0e+00,  2.0e+00,  3.0e+00,  4.0e+00,  5.0e+00,\n          6.0e+00,  7.0e+00,  8.0e+00,  9.0e+00,  1.0e+01,  1.1e+01],\n        [ 0.0e+00,  1.0e+00,  2.0e+00,  3.0e+00,  4.0e+00,  5.0e+00,\n          6.0e+00,  7.0e+00,  8.0e+00,  9.0e+00,  1.0e+01,  1.1e+01]],\n\n       [[ 0.0e+00,  1.0e+00,  2.0e+00,  3.0e+00,  4.0e+00,  5.0e+00,\n          6.0e+00,  7.0e+00,  8.0e+00,  9.0e+00,  1.0e+01,  1.1e+01],\n        [ 0.0e+00,  1.0e+00,  2.0e+00,  3.0e+00,  4.0e+00,  5.0e+00,\n          6.0e+00,  7.0e+00,  8.0e+00,  9.0e+00,  1.0e+01,  1.1e+01],\n        [ 0.0e+00,  1.0e+00,  2.0e+00,  3.0e+00,  4.0e+00,  5.0e+00,\n          6.0e+00,  7.0e+00,  8.0e+00,  9.0e+00,  1.0e+01,  1.1e+01],\n        [-1.0e+04, -1.0e+04, -1.0e+04, -1.0e+04, -1.0e+04, -1.0e+04,\n         -1.0e+04, -1.0e+04, -1.0e+04, -1.0e+04, -1.0e+04, -1.0e+04],\n        [-1.0e+04, -1.0e+04, -1.0e+04, -1.0e+04, -1.0e+04, -1.0e+04,\n         -1.0e+04, -1.0e+04, -1.0e+04, -1.0e+04, -1.0e+04, -1.0e+04]]],\n      dtype=float32)"
     },
     "execution_count": 102,
     "metadata": {},
     "output_type": "execute_result"
    },
    {
     "data": {
      "text/plain": "array([[[    12.,     13.,     14.,     15.,     16.,     17.,     18.,\n             19.,     20.,     21.,     22.,     23.,     24.,     25.,\n             26.],\n        [    12.,     13.,     14.,     15.,     16.,     17.,     18.,\n             19.,     20.,     21.,     22.,     23.,     24.,     25.,\n             26.],\n        [    12.,     13.,     14.,     15.,     16.,     17.,     18.,\n             19.,     20.,     21.,     22.,     23.,     24.,     25.,\n             26.],\n        [    12.,     13.,     14.,     15.,     16.,     17.,     18.,\n             19.,     20.,     21.,     22.,     23.,     24.,     25.,\n             26.],\n        [-10000., -10000., -10000., -10000., -10000., -10000., -10000.,\n         -10000., -10000., -10000., -10000., -10000., -10000., -10000.,\n         -10000.]],\n\n       [[    12.,     13.,     14.,     15.,     16.,     17.,     18.,\n             19.,     20.,     21.,     22.,     23.,     24.,     25.,\n             26.],\n        [    12.,     13.,     14.,     15.,     16.,     17.,     18.,\n             19.,     20.,     21.,     22.,     23.,     24.,     25.,\n             26.],\n        [-10000., -10000., -10000., -10000., -10000., -10000., -10000.,\n         -10000., -10000., -10000., -10000., -10000., -10000., -10000.,\n         -10000.],\n        [-10000., -10000., -10000., -10000., -10000., -10000., -10000.,\n         -10000., -10000., -10000., -10000., -10000., -10000., -10000.,\n         -10000.],\n        [-10000., -10000., -10000., -10000., -10000., -10000., -10000.,\n         -10000., -10000., -10000., -10000., -10000., -10000., -10000.,\n         -10000.]],\n\n       [[    12.,     13.,     14.,     15.,     16.,     17.,     18.,\n             19.,     20.,     21.,     22.,     23.,     24.,     25.,\n             26.],\n        [    12.,     13.,     14.,     15.,     16.,     17.,     18.,\n             19.,     20.,     21.,     22.,     23.,     24.,     25.,\n             26.],\n        [-10000., -10000., -10000., -10000., -10000., -10000., -10000.,\n         -10000., -10000., -10000., -10000., -10000., -10000., -10000.,\n         -10000.],\n        [-10000., -10000., -10000., -10000., -10000., -10000., -10000.,\n         -10000., -10000., -10000., -10000., -10000., -10000., -10000.,\n         -10000.],\n        [-10000., -10000., -10000., -10000., -10000., -10000., -10000.,\n         -10000., -10000., -10000., -10000., -10000., -10000., -10000.,\n         -10000.]],\n\n       [[    12.,     13.,     14.,     15.,     16.,     17.,     18.,\n             19.,     20.,     21.,     22.,     23.,     24.,     25.,\n             26.],\n        [    12.,     13.,     14.,     15.,     16.,     17.,     18.,\n             19.,     20.,     21.,     22.,     23.,     24.,     25.,\n             26.],\n        [    12.,     13.,     14.,     15.,     16.,     17.,     18.,\n             19.,     20.,     21.,     22.,     23.,     24.,     25.,\n             26.],\n        [    12.,     13.,     14.,     15.,     16.,     17.,     18.,\n             19.,     20.,     21.,     22.,     23.,     24.,     25.,\n             26.],\n        [    12.,     13.,     14.,     15.,     16.,     17.,     18.,\n             19.,     20.,     21.,     22.,     23.,     24.,     25.,\n             26.]],\n\n       [[    12.,     13.,     14.,     15.,     16.,     17.,     18.,\n             19.,     20.,     21.,     22.,     23.,     24.,     25.,\n             26.],\n        [    12.,     13.,     14.,     15.,     16.,     17.,     18.,\n             19.,     20.,     21.,     22.,     23.,     24.,     25.,\n             26.],\n        [    12.,     13.,     14.,     15.,     16.,     17.,     18.,\n             19.,     20.,     21.,     22.,     23.,     24.,     25.,\n             26.],\n        [-10000., -10000., -10000., -10000., -10000., -10000., -10000.,\n         -10000., -10000., -10000., -10000., -10000., -10000., -10000.,\n         -10000.],\n        [-10000., -10000., -10000., -10000., -10000., -10000., -10000.,\n         -10000., -10000., -10000., -10000., -10000., -10000., -10000.,\n         -10000.]]], dtype=float32)"
     },
     "execution_count": 102,
     "metadata": {},
     "output_type": "execute_result"
    }
   ],
   "source": [
    "s_n_t.shape\n",
    "a_n_t.shape\n",
    "s_n_t\n",
    "a_n_t"
   ],
   "metadata": {
    "collapsed": false,
    "ExecuteTime": {
     "end_time": "2023-08-04T03:23:02.001845454Z",
     "start_time": "2023-08-04T03:22:51.008916640Z"
    }
   }
  },
  {
   "cell_type": "code",
   "execution_count": 103,
   "outputs": [
    {
     "name": "stdout",
     "output_type": "stream",
     "text": [
      "qtuple                                                                        nstate  \\\n",
      "rows                                                                        velocity   \n",
      "idx                                                                                0   \n",
      "vehicle driver        episodestart               timestamp                             \n",
      "MP73    wang-cheng    2023-07-30 11:22:50.468113 2023-08-04 12:22:49.017377     29.0   \n",
      "                                                 2023-08-04 13:22:49.017377     29.0   \n",
      "                                                 2023-08-04 14:22:49.017377     29.0   \n",
      "                                                 2023-08-04 16:22:49.017377     29.0   \n",
      "        zheng-longfei 2023-07-28 11:22:50.468113 2023-08-04 14:22:49.017377     29.0   \n",
      "                                                 2023-08-04 16:22:49.017377     29.0   \n",
      "VB7     wang-cheng    2023-07-29 11:22:50.468113 2023-08-04 15:22:49.017377     29.0   \n",
      "                                                 2023-08-04 16:22:49.017377     29.0   \n",
      "                      2023-08-04 11:22:49.017377 2023-08-04 12:22:49.017377     29.0   \n",
      "                                                 2023-08-04 13:22:49.017377     29.0   \n",
      "                                                 2023-08-04 14:22:49.017377     29.0   \n",
      "                                                 2023-08-04 15:22:49.017377     29.0   \n",
      "                                                 2023-08-04 16:22:49.017377     29.0   \n",
      "        zheng-longfei 2023-08-02 11:22:50.468113 2023-08-04 12:22:49.017377     29.0   \n",
      "                                                 2023-08-04 13:22:49.017377     29.0   \n",
      "                                                 2023-08-04 16:22:49.017377     29.0   \n",
      "\n",
      "qtuple                                                                             \\\n",
      "rows                                                                                \n",
      "idx                                                                             1   \n",
      "vehicle driver        episodestart               timestamp                          \n",
      "MP73    wang-cheng    2023-07-30 11:22:50.468113 2023-08-04 12:22:49.017377  30.0   \n",
      "                                                 2023-08-04 13:22:49.017377  30.0   \n",
      "                                                 2023-08-04 14:22:49.017377  30.0   \n",
      "                                                 2023-08-04 16:22:49.017377  30.0   \n",
      "        zheng-longfei 2023-07-28 11:22:50.468113 2023-08-04 14:22:49.017377  30.0   \n",
      "                                                 2023-08-04 16:22:49.017377  30.0   \n",
      "VB7     wang-cheng    2023-07-29 11:22:50.468113 2023-08-04 15:22:49.017377  30.0   \n",
      "                                                 2023-08-04 16:22:49.017377  30.0   \n",
      "                      2023-08-04 11:22:49.017377 2023-08-04 12:22:49.017377  30.0   \n",
      "                                                 2023-08-04 13:22:49.017377  30.0   \n",
      "                                                 2023-08-04 14:22:49.017377  30.0   \n",
      "                                                 2023-08-04 15:22:49.017377  30.0   \n",
      "                                                 2023-08-04 16:22:49.017377  30.0   \n",
      "        zheng-longfei 2023-08-02 11:22:50.468113 2023-08-04 12:22:49.017377  30.0   \n",
      "                                                 2023-08-04 13:22:49.017377  30.0   \n",
      "                                                 2023-08-04 16:22:49.017377  30.0   \n",
      "\n",
      "qtuple                                                                             \\\n",
      "rows                                                                                \n",
      "idx                                                                             2   \n",
      "vehicle driver        episodestart               timestamp                          \n",
      "MP73    wang-cheng    2023-07-30 11:22:50.468113 2023-08-04 12:22:49.017377  31.0   \n",
      "                                                 2023-08-04 13:22:49.017377  31.0   \n",
      "                                                 2023-08-04 14:22:49.017377  31.0   \n",
      "                                                 2023-08-04 16:22:49.017377  31.0   \n",
      "        zheng-longfei 2023-07-28 11:22:50.468113 2023-08-04 14:22:49.017377  31.0   \n",
      "                                                 2023-08-04 16:22:49.017377  31.0   \n",
      "VB7     wang-cheng    2023-07-29 11:22:50.468113 2023-08-04 15:22:49.017377  31.0   \n",
      "                                                 2023-08-04 16:22:49.017377  31.0   \n",
      "                      2023-08-04 11:22:49.017377 2023-08-04 12:22:49.017377  31.0   \n",
      "                                                 2023-08-04 13:22:49.017377  31.0   \n",
      "                                                 2023-08-04 14:22:49.017377  31.0   \n",
      "                                                 2023-08-04 15:22:49.017377  31.0   \n",
      "                                                 2023-08-04 16:22:49.017377  31.0   \n",
      "        zheng-longfei 2023-08-02 11:22:50.468113 2023-08-04 12:22:49.017377  31.0   \n",
      "                                                 2023-08-04 13:22:49.017377  31.0   \n",
      "                                                 2023-08-04 16:22:49.017377  31.0   \n",
      "\n",
      "qtuple                                                                             \\\n",
      "rows                                                                                \n",
      "idx                                                                             3   \n",
      "vehicle driver        episodestart               timestamp                          \n",
      "MP73    wang-cheng    2023-07-30 11:22:50.468113 2023-08-04 12:22:49.017377  32.0   \n",
      "                                                 2023-08-04 13:22:49.017377  32.0   \n",
      "                                                 2023-08-04 14:22:49.017377  32.0   \n",
      "                                                 2023-08-04 16:22:49.017377  32.0   \n",
      "        zheng-longfei 2023-07-28 11:22:50.468113 2023-08-04 14:22:49.017377  32.0   \n",
      "                                                 2023-08-04 16:22:49.017377  32.0   \n",
      "VB7     wang-cheng    2023-07-29 11:22:50.468113 2023-08-04 15:22:49.017377  32.0   \n",
      "                                                 2023-08-04 16:22:49.017377  32.0   \n",
      "                      2023-08-04 11:22:49.017377 2023-08-04 12:22:49.017377  32.0   \n",
      "                                                 2023-08-04 13:22:49.017377  32.0   \n",
      "                                                 2023-08-04 14:22:49.017377  32.0   \n",
      "                                                 2023-08-04 15:22:49.017377  32.0   \n",
      "                                                 2023-08-04 16:22:49.017377  32.0   \n",
      "        zheng-longfei 2023-08-02 11:22:50.468113 2023-08-04 12:22:49.017377  32.0   \n",
      "                                                 2023-08-04 13:22:49.017377  32.0   \n",
      "                                                 2023-08-04 16:22:49.017377  32.0   \n",
      "\n",
      "qtuple                                                                              \\\n",
      "rows                                                                        thrust   \n",
      "idx                                                                              0   \n",
      "vehicle driver        episodestart               timestamp                           \n",
      "MP73    wang-cheng    2023-07-30 11:22:50.468113 2023-08-04 12:22:49.017377   33.0   \n",
      "                                                 2023-08-04 13:22:49.017377   33.0   \n",
      "                                                 2023-08-04 14:22:49.017377   33.0   \n",
      "                                                 2023-08-04 16:22:49.017377   33.0   \n",
      "        zheng-longfei 2023-07-28 11:22:50.468113 2023-08-04 14:22:49.017377   33.0   \n",
      "                                                 2023-08-04 16:22:49.017377   33.0   \n",
      "VB7     wang-cheng    2023-07-29 11:22:50.468113 2023-08-04 15:22:49.017377   33.0   \n",
      "                                                 2023-08-04 16:22:49.017377   33.0   \n",
      "                      2023-08-04 11:22:49.017377 2023-08-04 12:22:49.017377   33.0   \n",
      "                                                 2023-08-04 13:22:49.017377   33.0   \n",
      "                                                 2023-08-04 14:22:49.017377   33.0   \n",
      "                                                 2023-08-04 15:22:49.017377   33.0   \n",
      "                                                 2023-08-04 16:22:49.017377   33.0   \n",
      "        zheng-longfei 2023-08-02 11:22:50.468113 2023-08-04 12:22:49.017377   33.0   \n",
      "                                                 2023-08-04 13:22:49.017377   33.0   \n",
      "                                                 2023-08-04 16:22:49.017377   33.0   \n",
      "\n",
      "qtuple                                                                             \\\n",
      "rows                                                                                \n",
      "idx                                                                             1   \n",
      "vehicle driver        episodestart               timestamp                          \n",
      "MP73    wang-cheng    2023-07-30 11:22:50.468113 2023-08-04 12:22:49.017377  34.0   \n",
      "                                                 2023-08-04 13:22:49.017377  34.0   \n",
      "                                                 2023-08-04 14:22:49.017377  34.0   \n",
      "                                                 2023-08-04 16:22:49.017377  34.0   \n",
      "        zheng-longfei 2023-07-28 11:22:50.468113 2023-08-04 14:22:49.017377  34.0   \n",
      "                                                 2023-08-04 16:22:49.017377  34.0   \n",
      "VB7     wang-cheng    2023-07-29 11:22:50.468113 2023-08-04 15:22:49.017377  34.0   \n",
      "                                                 2023-08-04 16:22:49.017377  34.0   \n",
      "                      2023-08-04 11:22:49.017377 2023-08-04 12:22:49.017377  34.0   \n",
      "                                                 2023-08-04 13:22:49.017377  34.0   \n",
      "                                                 2023-08-04 14:22:49.017377  34.0   \n",
      "                                                 2023-08-04 15:22:49.017377  34.0   \n",
      "                                                 2023-08-04 16:22:49.017377  34.0   \n",
      "        zheng-longfei 2023-08-02 11:22:50.468113 2023-08-04 12:22:49.017377  34.0   \n",
      "                                                 2023-08-04 13:22:49.017377  34.0   \n",
      "                                                 2023-08-04 16:22:49.017377  34.0   \n",
      "\n",
      "qtuple                                                                             \\\n",
      "rows                                                                                \n",
      "idx                                                                             2   \n",
      "vehicle driver        episodestart               timestamp                          \n",
      "MP73    wang-cheng    2023-07-30 11:22:50.468113 2023-08-04 12:22:49.017377  35.0   \n",
      "                                                 2023-08-04 13:22:49.017377  35.0   \n",
      "                                                 2023-08-04 14:22:49.017377  35.0   \n",
      "                                                 2023-08-04 16:22:49.017377  35.0   \n",
      "        zheng-longfei 2023-07-28 11:22:50.468113 2023-08-04 14:22:49.017377  35.0   \n",
      "                                                 2023-08-04 16:22:49.017377  35.0   \n",
      "VB7     wang-cheng    2023-07-29 11:22:50.468113 2023-08-04 15:22:49.017377  35.0   \n",
      "                                                 2023-08-04 16:22:49.017377  35.0   \n",
      "                      2023-08-04 11:22:49.017377 2023-08-04 12:22:49.017377  35.0   \n",
      "                                                 2023-08-04 13:22:49.017377  35.0   \n",
      "                                                 2023-08-04 14:22:49.017377  35.0   \n",
      "                                                 2023-08-04 15:22:49.017377  35.0   \n",
      "                                                 2023-08-04 16:22:49.017377  35.0   \n",
      "        zheng-longfei 2023-08-02 11:22:50.468113 2023-08-04 12:22:49.017377  35.0   \n",
      "                                                 2023-08-04 13:22:49.017377  35.0   \n",
      "                                                 2023-08-04 16:22:49.017377  35.0   \n",
      "\n",
      "qtuple                                                                             \\\n",
      "rows                                                                                \n",
      "idx                                                                             3   \n",
      "vehicle driver        episodestart               timestamp                          \n",
      "MP73    wang-cheng    2023-07-30 11:22:50.468113 2023-08-04 12:22:49.017377  36.0   \n",
      "                                                 2023-08-04 13:22:49.017377  36.0   \n",
      "                                                 2023-08-04 14:22:49.017377  36.0   \n",
      "                                                 2023-08-04 16:22:49.017377  36.0   \n",
      "        zheng-longfei 2023-07-28 11:22:50.468113 2023-08-04 14:22:49.017377  36.0   \n",
      "                                                 2023-08-04 16:22:49.017377  36.0   \n",
      "VB7     wang-cheng    2023-07-29 11:22:50.468113 2023-08-04 15:22:49.017377  36.0   \n",
      "                                                 2023-08-04 16:22:49.017377  36.0   \n",
      "                      2023-08-04 11:22:49.017377 2023-08-04 12:22:49.017377  36.0   \n",
      "                                                 2023-08-04 13:22:49.017377  36.0   \n",
      "                                                 2023-08-04 14:22:49.017377  36.0   \n",
      "                                                 2023-08-04 15:22:49.017377  36.0   \n",
      "                                                 2023-08-04 16:22:49.017377  36.0   \n",
      "        zheng-longfei 2023-08-02 11:22:50.468113 2023-08-04 12:22:49.017377  36.0   \n",
      "                                                 2023-08-04 13:22:49.017377  36.0   \n",
      "                                                 2023-08-04 16:22:49.017377  36.0   \n",
      "\n",
      "qtuple                                                                             \\\n",
      "rows                                                                        brake   \n",
      "idx                                                                             0   \n",
      "vehicle driver        episodestart               timestamp                          \n",
      "MP73    wang-cheng    2023-07-30 11:22:50.468113 2023-08-04 12:22:49.017377  37.0   \n",
      "                                                 2023-08-04 13:22:49.017377  37.0   \n",
      "                                                 2023-08-04 14:22:49.017377  37.0   \n",
      "                                                 2023-08-04 16:22:49.017377  37.0   \n",
      "        zheng-longfei 2023-07-28 11:22:50.468113 2023-08-04 14:22:49.017377  37.0   \n",
      "                                                 2023-08-04 16:22:49.017377  37.0   \n",
      "VB7     wang-cheng    2023-07-29 11:22:50.468113 2023-08-04 15:22:49.017377  37.0   \n",
      "                                                 2023-08-04 16:22:49.017377  37.0   \n",
      "                      2023-08-04 11:22:49.017377 2023-08-04 12:22:49.017377  37.0   \n",
      "                                                 2023-08-04 13:22:49.017377  37.0   \n",
      "                                                 2023-08-04 14:22:49.017377  37.0   \n",
      "                                                 2023-08-04 15:22:49.017377  37.0   \n",
      "                                                 2023-08-04 16:22:49.017377  37.0   \n",
      "        zheng-longfei 2023-08-02 11:22:50.468113 2023-08-04 12:22:49.017377  37.0   \n",
      "                                                 2023-08-04 13:22:49.017377  37.0   \n",
      "                                                 2023-08-04 16:22:49.017377  37.0   \n",
      "\n",
      "qtuple                                                                             \\\n",
      "rows                                                                                \n",
      "idx                                                                             1   \n",
      "vehicle driver        episodestart               timestamp                          \n",
      "MP73    wang-cheng    2023-07-30 11:22:50.468113 2023-08-04 12:22:49.017377  38.0   \n",
      "                                                 2023-08-04 13:22:49.017377  38.0   \n",
      "                                                 2023-08-04 14:22:49.017377  38.0   \n",
      "                                                 2023-08-04 16:22:49.017377  38.0   \n",
      "        zheng-longfei 2023-07-28 11:22:50.468113 2023-08-04 14:22:49.017377  38.0   \n",
      "                                                 2023-08-04 16:22:49.017377  38.0   \n",
      "VB7     wang-cheng    2023-07-29 11:22:50.468113 2023-08-04 15:22:49.017377  38.0   \n",
      "                                                 2023-08-04 16:22:49.017377  38.0   \n",
      "                      2023-08-04 11:22:49.017377 2023-08-04 12:22:49.017377  38.0   \n",
      "                                                 2023-08-04 13:22:49.017377  38.0   \n",
      "                                                 2023-08-04 14:22:49.017377  38.0   \n",
      "                                                 2023-08-04 15:22:49.017377  38.0   \n",
      "                                                 2023-08-04 16:22:49.017377  38.0   \n",
      "        zheng-longfei 2023-08-02 11:22:50.468113 2023-08-04 12:22:49.017377  38.0   \n",
      "                                                 2023-08-04 13:22:49.017377  38.0   \n",
      "                                                 2023-08-04 16:22:49.017377  38.0   \n",
      "\n",
      "qtuple                                                                             \\\n",
      "rows                                                                                \n",
      "idx                                                                             2   \n",
      "vehicle driver        episodestart               timestamp                          \n",
      "MP73    wang-cheng    2023-07-30 11:22:50.468113 2023-08-04 12:22:49.017377  39.0   \n",
      "                                                 2023-08-04 13:22:49.017377  39.0   \n",
      "                                                 2023-08-04 14:22:49.017377  39.0   \n",
      "                                                 2023-08-04 16:22:49.017377  39.0   \n",
      "        zheng-longfei 2023-07-28 11:22:50.468113 2023-08-04 14:22:49.017377  39.0   \n",
      "                                                 2023-08-04 16:22:49.017377  39.0   \n",
      "VB7     wang-cheng    2023-07-29 11:22:50.468113 2023-08-04 15:22:49.017377  39.0   \n",
      "                                                 2023-08-04 16:22:49.017377  39.0   \n",
      "                      2023-08-04 11:22:49.017377 2023-08-04 12:22:49.017377  39.0   \n",
      "                                                 2023-08-04 13:22:49.017377  39.0   \n",
      "                                                 2023-08-04 14:22:49.017377  39.0   \n",
      "                                                 2023-08-04 15:22:49.017377  39.0   \n",
      "                                                 2023-08-04 16:22:49.017377  39.0   \n",
      "        zheng-longfei 2023-08-02 11:22:50.468113 2023-08-04 12:22:49.017377  39.0   \n",
      "                                                 2023-08-04 13:22:49.017377  39.0   \n",
      "                                                 2023-08-04 16:22:49.017377  39.0   \n",
      "\n",
      "qtuple                                                                             \n",
      "rows                                                                               \n",
      "idx                                                                             3  \n",
      "vehicle driver        episodestart               timestamp                         \n",
      "MP73    wang-cheng    2023-07-30 11:22:50.468113 2023-08-04 12:22:49.017377  40.0  \n",
      "                                                 2023-08-04 13:22:49.017377  40.0  \n",
      "                                                 2023-08-04 14:22:49.017377  40.0  \n",
      "                                                 2023-08-04 16:22:49.017377  40.0  \n",
      "        zheng-longfei 2023-07-28 11:22:50.468113 2023-08-04 14:22:49.017377  40.0  \n",
      "                                                 2023-08-04 16:22:49.017377  40.0  \n",
      "VB7     wang-cheng    2023-07-29 11:22:50.468113 2023-08-04 15:22:49.017377  40.0  \n",
      "                                                 2023-08-04 16:22:49.017377  40.0  \n",
      "                      2023-08-04 11:22:49.017377 2023-08-04 12:22:49.017377  40.0  \n",
      "                                                 2023-08-04 13:22:49.017377  40.0  \n",
      "                                                 2023-08-04 14:22:49.017377  40.0  \n",
      "                                                 2023-08-04 15:22:49.017377  40.0  \n",
      "                                                 2023-08-04 16:22:49.017377  40.0  \n",
      "        zheng-longfei 2023-08-02 11:22:50.468113 2023-08-04 12:22:49.017377  40.0  \n",
      "                                                 2023-08-04 13:22:49.017377  40.0  \n",
      "                                                 2023-08-04 16:22:49.017377  40.0  \n",
      "[[[    29.     30.     31.     32.     33.     34.     35.     36.\n",
      "       37.     38.     39.     40.]\n",
      "  [    29.     30.     31.     32.     33.     34.     35.     36.\n",
      "       37.     38.     39.     40.]\n",
      "  [    29.     30.     31.     32.     33.     34.     35.     36.\n",
      "       37.     38.     39.     40.]\n",
      "  [    29.     30.     31.     32.     33.     34.     35.     36.\n",
      "       37.     38.     39.     40.]\n",
      "  [-10000. -10000. -10000. -10000. -10000. -10000. -10000. -10000.\n",
      "   -10000. -10000. -10000. -10000.]]\n",
      "\n",
      " [[    29.     30.     31.     32.     33.     34.     35.     36.\n",
      "       37.     38.     39.     40.]\n",
      "  [    29.     30.     31.     32.     33.     34.     35.     36.\n",
      "       37.     38.     39.     40.]\n",
      "  [-10000. -10000. -10000. -10000. -10000. -10000. -10000. -10000.\n",
      "   -10000. -10000. -10000. -10000.]\n",
      "  [-10000. -10000. -10000. -10000. -10000. -10000. -10000. -10000.\n",
      "   -10000. -10000. -10000. -10000.]\n",
      "  [-10000. -10000. -10000. -10000. -10000. -10000. -10000. -10000.\n",
      "   -10000. -10000. -10000. -10000.]]\n",
      "\n",
      " [[    29.     30.     31.     32.     33.     34.     35.     36.\n",
      "       37.     38.     39.     40.]\n",
      "  [    29.     30.     31.     32.     33.     34.     35.     36.\n",
      "       37.     38.     39.     40.]\n",
      "  [-10000. -10000. -10000. -10000. -10000. -10000. -10000. -10000.\n",
      "   -10000. -10000. -10000. -10000.]\n",
      "  [-10000. -10000. -10000. -10000. -10000. -10000. -10000. -10000.\n",
      "   -10000. -10000. -10000. -10000.]\n",
      "  [-10000. -10000. -10000. -10000. -10000. -10000. -10000. -10000.\n",
      "   -10000. -10000. -10000. -10000.]]\n",
      "\n",
      " [[    29.     30.     31.     32.     33.     34.     35.     36.\n",
      "       37.     38.     39.     40.]\n",
      "  [    29.     30.     31.     32.     33.     34.     35.     36.\n",
      "       37.     38.     39.     40.]\n",
      "  [    29.     30.     31.     32.     33.     34.     35.     36.\n",
      "       37.     38.     39.     40.]\n",
      "  [    29.     30.     31.     32.     33.     34.     35.     36.\n",
      "       37.     38.     39.     40.]\n",
      "  [    29.     30.     31.     32.     33.     34.     35.     36.\n",
      "       37.     38.     39.     40.]]\n",
      "\n",
      " [[    29.     30.     31.     32.     33.     34.     35.     36.\n",
      "       37.     38.     39.     40.]\n",
      "  [    29.     30.     31.     32.     33.     34.     35.     36.\n",
      "       37.     38.     39.     40.]\n",
      "  [    29.     30.     31.     32.     33.     34.     35.     36.\n",
      "       37.     38.     39.     40.]\n",
      "  [-10000. -10000. -10000. -10000. -10000. -10000. -10000. -10000.\n",
      "   -10000. -10000. -10000. -10000.]\n",
      "  [-10000. -10000. -10000. -10000. -10000. -10000. -10000. -10000.\n",
      "   -10000. -10000. -10000. -10000.]]]\n"
     ]
    },
    {
     "data": {
      "text/plain": "(5, 5, 12)"
     },
     "execution_count": 103,
     "metadata": {},
     "output_type": "execute_result"
    }
   ],
   "source": [
    "idx = pd.IndexSlice\n",
    "nstates = df_decoded.loc[:, idx['nstate',['velocity', 'thrust', 'brake']]]\n",
    "print(nstates)\n",
    "np_ns_n_t = [nstates.loc[idx[:,:,ep_start, :]].values.tolist() \n",
    "            for ep_start in episodestart_index]\n",
    "ns_n_t = pad_sequences(np_ns_n_t, padding='post', dtype='float32', value=-10000.0)\n",
    "print(ns_n_t)\n",
    "ns_n_t.shape\n"
   ],
   "metadata": {
    "collapsed": false,
    "ExecuteTime": {
     "end_time": "2023-08-04T03:23:02.002274861Z",
     "start_time": "2023-08-04T03:22:51.009254875Z"
    }
   }
  },
  {
   "cell_type": "code",
   "execution_count": 104,
   "outputs": [
    {
     "data": {
      "text/plain": "(5, 4, 12)"
     },
     "execution_count": 104,
     "metadata": {},
     "output_type": "execute_result"
    },
    {
     "data": {
      "text/plain": "array([[[ 0.0e+00,  1.0e+00,  2.0e+00,  3.0e+00,  4.0e+00,  5.0e+00,\n          6.0e+00,  7.0e+00,  8.0e+00,  9.0e+00,  1.0e+01,  1.1e+01],\n        [ 0.0e+00,  1.0e+00,  2.0e+00,  3.0e+00,  4.0e+00,  5.0e+00,\n          6.0e+00,  7.0e+00,  8.0e+00,  9.0e+00,  1.0e+01,  1.1e+01],\n        [ 0.0e+00,  1.0e+00,  2.0e+00,  3.0e+00,  4.0e+00,  5.0e+00,\n          6.0e+00,  7.0e+00,  8.0e+00,  9.0e+00,  1.0e+01,  1.1e+01],\n        [-1.0e+04, -1.0e+04, -1.0e+04, -1.0e+04, -1.0e+04, -1.0e+04,\n         -1.0e+04, -1.0e+04, -1.0e+04, -1.0e+04, -1.0e+04, -1.0e+04]],\n\n       [[ 0.0e+00,  1.0e+00,  2.0e+00,  3.0e+00,  4.0e+00,  5.0e+00,\n          6.0e+00,  7.0e+00,  8.0e+00,  9.0e+00,  1.0e+01,  1.1e+01],\n        [-1.0e+04, -1.0e+04, -1.0e+04, -1.0e+04, -1.0e+04, -1.0e+04,\n         -1.0e+04, -1.0e+04, -1.0e+04, -1.0e+04, -1.0e+04, -1.0e+04],\n        [-1.0e+04, -1.0e+04, -1.0e+04, -1.0e+04, -1.0e+04, -1.0e+04,\n         -1.0e+04, -1.0e+04, -1.0e+04, -1.0e+04, -1.0e+04, -1.0e+04],\n        [-1.0e+04, -1.0e+04, -1.0e+04, -1.0e+04, -1.0e+04, -1.0e+04,\n         -1.0e+04, -1.0e+04, -1.0e+04, -1.0e+04, -1.0e+04, -1.0e+04]],\n\n       [[ 0.0e+00,  1.0e+00,  2.0e+00,  3.0e+00,  4.0e+00,  5.0e+00,\n          6.0e+00,  7.0e+00,  8.0e+00,  9.0e+00,  1.0e+01,  1.1e+01],\n        [-1.0e+04, -1.0e+04, -1.0e+04, -1.0e+04, -1.0e+04, -1.0e+04,\n         -1.0e+04, -1.0e+04, -1.0e+04, -1.0e+04, -1.0e+04, -1.0e+04],\n        [-1.0e+04, -1.0e+04, -1.0e+04, -1.0e+04, -1.0e+04, -1.0e+04,\n         -1.0e+04, -1.0e+04, -1.0e+04, -1.0e+04, -1.0e+04, -1.0e+04],\n        [-1.0e+04, -1.0e+04, -1.0e+04, -1.0e+04, -1.0e+04, -1.0e+04,\n         -1.0e+04, -1.0e+04, -1.0e+04, -1.0e+04, -1.0e+04, -1.0e+04]],\n\n       [[ 0.0e+00,  1.0e+00,  2.0e+00,  3.0e+00,  4.0e+00,  5.0e+00,\n          6.0e+00,  7.0e+00,  8.0e+00,  9.0e+00,  1.0e+01,  1.1e+01],\n        [ 0.0e+00,  1.0e+00,  2.0e+00,  3.0e+00,  4.0e+00,  5.0e+00,\n          6.0e+00,  7.0e+00,  8.0e+00,  9.0e+00,  1.0e+01,  1.1e+01],\n        [ 0.0e+00,  1.0e+00,  2.0e+00,  3.0e+00,  4.0e+00,  5.0e+00,\n          6.0e+00,  7.0e+00,  8.0e+00,  9.0e+00,  1.0e+01,  1.1e+01],\n        [ 0.0e+00,  1.0e+00,  2.0e+00,  3.0e+00,  4.0e+00,  5.0e+00,\n          6.0e+00,  7.0e+00,  8.0e+00,  9.0e+00,  1.0e+01,  1.1e+01]],\n\n       [[ 0.0e+00,  1.0e+00,  2.0e+00,  3.0e+00,  4.0e+00,  5.0e+00,\n          6.0e+00,  7.0e+00,  8.0e+00,  9.0e+00,  1.0e+01,  1.1e+01],\n        [ 0.0e+00,  1.0e+00,  2.0e+00,  3.0e+00,  4.0e+00,  5.0e+00,\n          6.0e+00,  7.0e+00,  8.0e+00,  9.0e+00,  1.0e+01,  1.1e+01],\n        [-1.0e+04, -1.0e+04, -1.0e+04, -1.0e+04, -1.0e+04, -1.0e+04,\n         -1.0e+04, -1.0e+04, -1.0e+04, -1.0e+04, -1.0e+04, -1.0e+04],\n        [-1.0e+04, -1.0e+04, -1.0e+04, -1.0e+04, -1.0e+04, -1.0e+04,\n         -1.0e+04, -1.0e+04, -1.0e+04, -1.0e+04, -1.0e+04, -1.0e+04]]],\n      dtype=float32)"
     },
     "execution_count": 104,
     "metadata": {},
     "output_type": "execute_result"
    },
    {
     "data": {
      "text/plain": "(5, 4, 15)"
     },
     "execution_count": 104,
     "metadata": {},
     "output_type": "execute_result"
    },
    {
     "data": {
      "text/plain": "array([[[    12.,     13.,     14.,     15.,     16.,     17.,     18.,\n             19.,     20.,     21.,     22.,     23.,     24.,     25.,\n             26.],\n        [    12.,     13.,     14.,     15.,     16.,     17.,     18.,\n             19.,     20.,     21.,     22.,     23.,     24.,     25.,\n             26.],\n        [    12.,     13.,     14.,     15.,     16.,     17.,     18.,\n             19.,     20.,     21.,     22.,     23.,     24.,     25.,\n             26.],\n        [    12.,     13.,     14.,     15.,     16.,     17.,     18.,\n             19.,     20.,     21.,     22.,     23.,     24.,     25.,\n             26.]],\n\n       [[    12.,     13.,     14.,     15.,     16.,     17.,     18.,\n             19.,     20.,     21.,     22.,     23.,     24.,     25.,\n             26.],\n        [    12.,     13.,     14.,     15.,     16.,     17.,     18.,\n             19.,     20.,     21.,     22.,     23.,     24.,     25.,\n             26.],\n        [-10000., -10000., -10000., -10000., -10000., -10000., -10000.,\n         -10000., -10000., -10000., -10000., -10000., -10000., -10000.,\n         -10000.],\n        [-10000., -10000., -10000., -10000., -10000., -10000., -10000.,\n         -10000., -10000., -10000., -10000., -10000., -10000., -10000.,\n         -10000.]],\n\n       [[    12.,     13.,     14.,     15.,     16.,     17.,     18.,\n             19.,     20.,     21.,     22.,     23.,     24.,     25.,\n             26.],\n        [    12.,     13.,     14.,     15.,     16.,     17.,     18.,\n             19.,     20.,     21.,     22.,     23.,     24.,     25.,\n             26.],\n        [-10000., -10000., -10000., -10000., -10000., -10000., -10000.,\n         -10000., -10000., -10000., -10000., -10000., -10000., -10000.,\n         -10000.],\n        [-10000., -10000., -10000., -10000., -10000., -10000., -10000.,\n         -10000., -10000., -10000., -10000., -10000., -10000., -10000.,\n         -10000.]],\n\n       [[    12.,     13.,     14.,     15.,     16.,     17.,     18.,\n             19.,     20.,     21.,     22.,     23.,     24.,     25.,\n             26.],\n        [    12.,     13.,     14.,     15.,     16.,     17.,     18.,\n             19.,     20.,     21.,     22.,     23.,     24.,     25.,\n             26.],\n        [    12.,     13.,     14.,     15.,     16.,     17.,     18.,\n             19.,     20.,     21.,     22.,     23.,     24.,     25.,\n             26.],\n        [    12.,     13.,     14.,     15.,     16.,     17.,     18.,\n             19.,     20.,     21.,     22.,     23.,     24.,     25.,\n             26.]],\n\n       [[    12.,     13.,     14.,     15.,     16.,     17.,     18.,\n             19.,     20.,     21.,     22.,     23.,     24.,     25.,\n             26.],\n        [    12.,     13.,     14.,     15.,     16.,     17.,     18.,\n             19.,     20.,     21.,     22.,     23.,     24.,     25.,\n             26.],\n        [    12.,     13.,     14.,     15.,     16.,     17.,     18.,\n             19.,     20.,     21.,     22.,     23.,     24.,     25.,\n             26.],\n        [-10000., -10000., -10000., -10000., -10000., -10000., -10000.,\n         -10000., -10000., -10000., -10000., -10000., -10000., -10000.,\n         -10000.]]], dtype=float32)"
     },
     "execution_count": 104,
     "metadata": {},
     "output_type": "execute_result"
    },
    {
     "data": {
      "text/plain": "(5, 4, 27)"
     },
     "execution_count": 104,
     "metadata": {},
     "output_type": "execute_result"
    },
    {
     "data": {
      "text/plain": "array([[[ 0.0e+00,  1.0e+00,  2.0e+00,  3.0e+00,  4.0e+00,  5.0e+00,\n          6.0e+00,  7.0e+00,  8.0e+00,  9.0e+00,  1.0e+01,  1.1e+01,\n          1.2e+01,  1.3e+01,  1.4e+01,  1.5e+01,  1.6e+01,  1.7e+01,\n          1.8e+01,  1.9e+01,  2.0e+01,  2.1e+01,  2.2e+01,  2.3e+01,\n          2.4e+01,  2.5e+01,  2.6e+01],\n        [ 0.0e+00,  1.0e+00,  2.0e+00,  3.0e+00,  4.0e+00,  5.0e+00,\n          6.0e+00,  7.0e+00,  8.0e+00,  9.0e+00,  1.0e+01,  1.1e+01,\n          1.2e+01,  1.3e+01,  1.4e+01,  1.5e+01,  1.6e+01,  1.7e+01,\n          1.8e+01,  1.9e+01,  2.0e+01,  2.1e+01,  2.2e+01,  2.3e+01,\n          2.4e+01,  2.5e+01,  2.6e+01],\n        [ 0.0e+00,  1.0e+00,  2.0e+00,  3.0e+00,  4.0e+00,  5.0e+00,\n          6.0e+00,  7.0e+00,  8.0e+00,  9.0e+00,  1.0e+01,  1.1e+01,\n          1.2e+01,  1.3e+01,  1.4e+01,  1.5e+01,  1.6e+01,  1.7e+01,\n          1.8e+01,  1.9e+01,  2.0e+01,  2.1e+01,  2.2e+01,  2.3e+01,\n          2.4e+01,  2.5e+01,  2.6e+01],\n        [-1.0e+04, -1.0e+04, -1.0e+04, -1.0e+04, -1.0e+04, -1.0e+04,\n         -1.0e+04, -1.0e+04, -1.0e+04, -1.0e+04, -1.0e+04, -1.0e+04,\n          1.2e+01,  1.3e+01,  1.4e+01,  1.5e+01,  1.6e+01,  1.7e+01,\n          1.8e+01,  1.9e+01,  2.0e+01,  2.1e+01,  2.2e+01,  2.3e+01,\n          2.4e+01,  2.5e+01,  2.6e+01]],\n\n       [[ 0.0e+00,  1.0e+00,  2.0e+00,  3.0e+00,  4.0e+00,  5.0e+00,\n          6.0e+00,  7.0e+00,  8.0e+00,  9.0e+00,  1.0e+01,  1.1e+01,\n          1.2e+01,  1.3e+01,  1.4e+01,  1.5e+01,  1.6e+01,  1.7e+01,\n          1.8e+01,  1.9e+01,  2.0e+01,  2.1e+01,  2.2e+01,  2.3e+01,\n          2.4e+01,  2.5e+01,  2.6e+01],\n        [-1.0e+04, -1.0e+04, -1.0e+04, -1.0e+04, -1.0e+04, -1.0e+04,\n         -1.0e+04, -1.0e+04, -1.0e+04, -1.0e+04, -1.0e+04, -1.0e+04,\n          1.2e+01,  1.3e+01,  1.4e+01,  1.5e+01,  1.6e+01,  1.7e+01,\n          1.8e+01,  1.9e+01,  2.0e+01,  2.1e+01,  2.2e+01,  2.3e+01,\n          2.4e+01,  2.5e+01,  2.6e+01],\n        [-1.0e+04, -1.0e+04, -1.0e+04, -1.0e+04, -1.0e+04, -1.0e+04,\n         -1.0e+04, -1.0e+04, -1.0e+04, -1.0e+04, -1.0e+04, -1.0e+04,\n         -1.0e+04, -1.0e+04, -1.0e+04, -1.0e+04, -1.0e+04, -1.0e+04,\n         -1.0e+04, -1.0e+04, -1.0e+04, -1.0e+04, -1.0e+04, -1.0e+04,\n         -1.0e+04, -1.0e+04, -1.0e+04],\n        [-1.0e+04, -1.0e+04, -1.0e+04, -1.0e+04, -1.0e+04, -1.0e+04,\n         -1.0e+04, -1.0e+04, -1.0e+04, -1.0e+04, -1.0e+04, -1.0e+04,\n         -1.0e+04, -1.0e+04, -1.0e+04, -1.0e+04, -1.0e+04, -1.0e+04,\n         -1.0e+04, -1.0e+04, -1.0e+04, -1.0e+04, -1.0e+04, -1.0e+04,\n         -1.0e+04, -1.0e+04, -1.0e+04]],\n\n       [[ 0.0e+00,  1.0e+00,  2.0e+00,  3.0e+00,  4.0e+00,  5.0e+00,\n          6.0e+00,  7.0e+00,  8.0e+00,  9.0e+00,  1.0e+01,  1.1e+01,\n          1.2e+01,  1.3e+01,  1.4e+01,  1.5e+01,  1.6e+01,  1.7e+01,\n          1.8e+01,  1.9e+01,  2.0e+01,  2.1e+01,  2.2e+01,  2.3e+01,\n          2.4e+01,  2.5e+01,  2.6e+01],\n        [-1.0e+04, -1.0e+04, -1.0e+04, -1.0e+04, -1.0e+04, -1.0e+04,\n         -1.0e+04, -1.0e+04, -1.0e+04, -1.0e+04, -1.0e+04, -1.0e+04,\n          1.2e+01,  1.3e+01,  1.4e+01,  1.5e+01,  1.6e+01,  1.7e+01,\n          1.8e+01,  1.9e+01,  2.0e+01,  2.1e+01,  2.2e+01,  2.3e+01,\n          2.4e+01,  2.5e+01,  2.6e+01],\n        [-1.0e+04, -1.0e+04, -1.0e+04, -1.0e+04, -1.0e+04, -1.0e+04,\n         -1.0e+04, -1.0e+04, -1.0e+04, -1.0e+04, -1.0e+04, -1.0e+04,\n         -1.0e+04, -1.0e+04, -1.0e+04, -1.0e+04, -1.0e+04, -1.0e+04,\n         -1.0e+04, -1.0e+04, -1.0e+04, -1.0e+04, -1.0e+04, -1.0e+04,\n         -1.0e+04, -1.0e+04, -1.0e+04],\n        [-1.0e+04, -1.0e+04, -1.0e+04, -1.0e+04, -1.0e+04, -1.0e+04,\n         -1.0e+04, -1.0e+04, -1.0e+04, -1.0e+04, -1.0e+04, -1.0e+04,\n         -1.0e+04, -1.0e+04, -1.0e+04, -1.0e+04, -1.0e+04, -1.0e+04,\n         -1.0e+04, -1.0e+04, -1.0e+04, -1.0e+04, -1.0e+04, -1.0e+04,\n         -1.0e+04, -1.0e+04, -1.0e+04]],\n\n       [[ 0.0e+00,  1.0e+00,  2.0e+00,  3.0e+00,  4.0e+00,  5.0e+00,\n          6.0e+00,  7.0e+00,  8.0e+00,  9.0e+00,  1.0e+01,  1.1e+01,\n          1.2e+01,  1.3e+01,  1.4e+01,  1.5e+01,  1.6e+01,  1.7e+01,\n          1.8e+01,  1.9e+01,  2.0e+01,  2.1e+01,  2.2e+01,  2.3e+01,\n          2.4e+01,  2.5e+01,  2.6e+01],\n        [ 0.0e+00,  1.0e+00,  2.0e+00,  3.0e+00,  4.0e+00,  5.0e+00,\n          6.0e+00,  7.0e+00,  8.0e+00,  9.0e+00,  1.0e+01,  1.1e+01,\n          1.2e+01,  1.3e+01,  1.4e+01,  1.5e+01,  1.6e+01,  1.7e+01,\n          1.8e+01,  1.9e+01,  2.0e+01,  2.1e+01,  2.2e+01,  2.3e+01,\n          2.4e+01,  2.5e+01,  2.6e+01],\n        [ 0.0e+00,  1.0e+00,  2.0e+00,  3.0e+00,  4.0e+00,  5.0e+00,\n          6.0e+00,  7.0e+00,  8.0e+00,  9.0e+00,  1.0e+01,  1.1e+01,\n          1.2e+01,  1.3e+01,  1.4e+01,  1.5e+01,  1.6e+01,  1.7e+01,\n          1.8e+01,  1.9e+01,  2.0e+01,  2.1e+01,  2.2e+01,  2.3e+01,\n          2.4e+01,  2.5e+01,  2.6e+01],\n        [ 0.0e+00,  1.0e+00,  2.0e+00,  3.0e+00,  4.0e+00,  5.0e+00,\n          6.0e+00,  7.0e+00,  8.0e+00,  9.0e+00,  1.0e+01,  1.1e+01,\n          1.2e+01,  1.3e+01,  1.4e+01,  1.5e+01,  1.6e+01,  1.7e+01,\n          1.8e+01,  1.9e+01,  2.0e+01,  2.1e+01,  2.2e+01,  2.3e+01,\n          2.4e+01,  2.5e+01,  2.6e+01]],\n\n       [[ 0.0e+00,  1.0e+00,  2.0e+00,  3.0e+00,  4.0e+00,  5.0e+00,\n          6.0e+00,  7.0e+00,  8.0e+00,  9.0e+00,  1.0e+01,  1.1e+01,\n          1.2e+01,  1.3e+01,  1.4e+01,  1.5e+01,  1.6e+01,  1.7e+01,\n          1.8e+01,  1.9e+01,  2.0e+01,  2.1e+01,  2.2e+01,  2.3e+01,\n          2.4e+01,  2.5e+01,  2.6e+01],\n        [ 0.0e+00,  1.0e+00,  2.0e+00,  3.0e+00,  4.0e+00,  5.0e+00,\n          6.0e+00,  7.0e+00,  8.0e+00,  9.0e+00,  1.0e+01,  1.1e+01,\n          1.2e+01,  1.3e+01,  1.4e+01,  1.5e+01,  1.6e+01,  1.7e+01,\n          1.8e+01,  1.9e+01,  2.0e+01,  2.1e+01,  2.2e+01,  2.3e+01,\n          2.4e+01,  2.5e+01,  2.6e+01],\n        [-1.0e+04, -1.0e+04, -1.0e+04, -1.0e+04, -1.0e+04, -1.0e+04,\n         -1.0e+04, -1.0e+04, -1.0e+04, -1.0e+04, -1.0e+04, -1.0e+04,\n          1.2e+01,  1.3e+01,  1.4e+01,  1.5e+01,  1.6e+01,  1.7e+01,\n          1.8e+01,  1.9e+01,  2.0e+01,  2.1e+01,  2.2e+01,  2.3e+01,\n          2.4e+01,  2.5e+01,  2.6e+01],\n        [-1.0e+04, -1.0e+04, -1.0e+04, -1.0e+04, -1.0e+04, -1.0e+04,\n         -1.0e+04, -1.0e+04, -1.0e+04, -1.0e+04, -1.0e+04, -1.0e+04,\n         -1.0e+04, -1.0e+04, -1.0e+04, -1.0e+04, -1.0e+04, -1.0e+04,\n         -1.0e+04, -1.0e+04, -1.0e+04, -1.0e+04, -1.0e+04, -1.0e+04,\n         -1.0e+04, -1.0e+04, -1.0e+04]]], dtype=float32)"
     },
     "execution_count": 104,
     "metadata": {},
     "output_type": "execute_result"
    }
   ],
   "source": [
    "s_n_t_ = s_n_t[:,1:, :]\n",
    "s_n_t_.shape\n",
    "s_n_t_\n",
    "a_n_t_ = a_n_t[:,:-1, :]\n",
    "a_n_t_.shape\n",
    "a_n_t_\n",
    "\n",
    "h_n_t = np.concatenate((s_n_t_, a_n_t_), axis=2)\n",
    "h_n_t.shape\n",
    "h_n_t"
   ],
   "metadata": {
    "collapsed": false,
    "ExecuteTime": {
     "end_time": "2023-08-04T03:23:02.004143502Z",
     "start_time": "2023-08-04T03:22:51.009678992Z"
    }
   }
  },
  {
   "cell_type": "markdown",
   "source": [
    "# split batches into trucated sequences for TBPTT"
   ],
   "metadata": {
    "collapsed": false
   }
  },
  {
   "cell_type": "code",
   "execution_count": 105,
   "outputs": [
    {
     "data": {
      "text/plain": "zip"
     },
     "execution_count": 105,
     "metadata": {},
     "output_type": "execute_result"
    }
   ],
   "source": [
    "obs_n_t = zip(s_n_t, a_n_t, r_n_t, ns_n_t)\n",
    "type(obs_n_t)"
   ],
   "metadata": {
    "collapsed": false,
    "ExecuteTime": {
     "end_time": "2023-08-04T03:23:02.004563801Z",
     "start_time": "2023-08-04T03:22:51.052898146Z"
    }
   }
  },
  {
   "cell_type": "code",
   "execution_count": 106,
   "outputs": [
    {
     "data": {
      "text/plain": "array([[[ 0.0e+00,  1.0e+00,  2.0e+00,  3.0e+00,  4.0e+00,  5.0e+00,\n          6.0e+00,  7.0e+00,  8.0e+00,  9.0e+00,  1.0e+01,  1.1e+01],\n        [ 0.0e+00,  1.0e+00,  2.0e+00,  3.0e+00,  4.0e+00,  5.0e+00,\n          6.0e+00,  7.0e+00,  8.0e+00,  9.0e+00,  1.0e+01,  1.1e+01],\n        [ 0.0e+00,  1.0e+00,  2.0e+00,  3.0e+00,  4.0e+00,  5.0e+00,\n          6.0e+00,  7.0e+00,  8.0e+00,  9.0e+00,  1.0e+01,  1.1e+01],\n        [ 0.0e+00,  1.0e+00,  2.0e+00,  3.0e+00,  4.0e+00,  5.0e+00,\n          6.0e+00,  7.0e+00,  8.0e+00,  9.0e+00,  1.0e+01,  1.1e+01],\n        [-1.0e+04, -1.0e+04, -1.0e+04, -1.0e+04, -1.0e+04, -1.0e+04,\n         -1.0e+04, -1.0e+04, -1.0e+04, -1.0e+04, -1.0e+04, -1.0e+04]],\n\n       [[ 0.0e+00,  1.0e+00,  2.0e+00,  3.0e+00,  4.0e+00,  5.0e+00,\n          6.0e+00,  7.0e+00,  8.0e+00,  9.0e+00,  1.0e+01,  1.1e+01],\n        [ 0.0e+00,  1.0e+00,  2.0e+00,  3.0e+00,  4.0e+00,  5.0e+00,\n          6.0e+00,  7.0e+00,  8.0e+00,  9.0e+00,  1.0e+01,  1.1e+01],\n        [-1.0e+04, -1.0e+04, -1.0e+04, -1.0e+04, -1.0e+04, -1.0e+04,\n         -1.0e+04, -1.0e+04, -1.0e+04, -1.0e+04, -1.0e+04, -1.0e+04],\n        [-1.0e+04, -1.0e+04, -1.0e+04, -1.0e+04, -1.0e+04, -1.0e+04,\n         -1.0e+04, -1.0e+04, -1.0e+04, -1.0e+04, -1.0e+04, -1.0e+04],\n        [-1.0e+04, -1.0e+04, -1.0e+04, -1.0e+04, -1.0e+04, -1.0e+04,\n         -1.0e+04, -1.0e+04, -1.0e+04, -1.0e+04, -1.0e+04, -1.0e+04]],\n\n       [[ 0.0e+00,  1.0e+00,  2.0e+00,  3.0e+00,  4.0e+00,  5.0e+00,\n          6.0e+00,  7.0e+00,  8.0e+00,  9.0e+00,  1.0e+01,  1.1e+01],\n        [ 0.0e+00,  1.0e+00,  2.0e+00,  3.0e+00,  4.0e+00,  5.0e+00,\n          6.0e+00,  7.0e+00,  8.0e+00,  9.0e+00,  1.0e+01,  1.1e+01],\n        [-1.0e+04, -1.0e+04, -1.0e+04, -1.0e+04, -1.0e+04, -1.0e+04,\n         -1.0e+04, -1.0e+04, -1.0e+04, -1.0e+04, -1.0e+04, -1.0e+04],\n        [-1.0e+04, -1.0e+04, -1.0e+04, -1.0e+04, -1.0e+04, -1.0e+04,\n         -1.0e+04, -1.0e+04, -1.0e+04, -1.0e+04, -1.0e+04, -1.0e+04],\n        [-1.0e+04, -1.0e+04, -1.0e+04, -1.0e+04, -1.0e+04, -1.0e+04,\n         -1.0e+04, -1.0e+04, -1.0e+04, -1.0e+04, -1.0e+04, -1.0e+04]],\n\n       [[ 0.0e+00,  1.0e+00,  2.0e+00,  3.0e+00,  4.0e+00,  5.0e+00,\n          6.0e+00,  7.0e+00,  8.0e+00,  9.0e+00,  1.0e+01,  1.1e+01],\n        [ 0.0e+00,  1.0e+00,  2.0e+00,  3.0e+00,  4.0e+00,  5.0e+00,\n          6.0e+00,  7.0e+00,  8.0e+00,  9.0e+00,  1.0e+01,  1.1e+01],\n        [ 0.0e+00,  1.0e+00,  2.0e+00,  3.0e+00,  4.0e+00,  5.0e+00,\n          6.0e+00,  7.0e+00,  8.0e+00,  9.0e+00,  1.0e+01,  1.1e+01],\n        [ 0.0e+00,  1.0e+00,  2.0e+00,  3.0e+00,  4.0e+00,  5.0e+00,\n          6.0e+00,  7.0e+00,  8.0e+00,  9.0e+00,  1.0e+01,  1.1e+01],\n        [ 0.0e+00,  1.0e+00,  2.0e+00,  3.0e+00,  4.0e+00,  5.0e+00,\n          6.0e+00,  7.0e+00,  8.0e+00,  9.0e+00,  1.0e+01,  1.1e+01]],\n\n       [[ 0.0e+00,  1.0e+00,  2.0e+00,  3.0e+00,  4.0e+00,  5.0e+00,\n          6.0e+00,  7.0e+00,  8.0e+00,  9.0e+00,  1.0e+01,  1.1e+01],\n        [ 0.0e+00,  1.0e+00,  2.0e+00,  3.0e+00,  4.0e+00,  5.0e+00,\n          6.0e+00,  7.0e+00,  8.0e+00,  9.0e+00,  1.0e+01,  1.1e+01],\n        [ 0.0e+00,  1.0e+00,  2.0e+00,  3.0e+00,  4.0e+00,  5.0e+00,\n          6.0e+00,  7.0e+00,  8.0e+00,  9.0e+00,  1.0e+01,  1.1e+01],\n        [-1.0e+04, -1.0e+04, -1.0e+04, -1.0e+04, -1.0e+04, -1.0e+04,\n         -1.0e+04, -1.0e+04, -1.0e+04, -1.0e+04, -1.0e+04, -1.0e+04],\n        [-1.0e+04, -1.0e+04, -1.0e+04, -1.0e+04, -1.0e+04, -1.0e+04,\n         -1.0e+04, -1.0e+04, -1.0e+04, -1.0e+04, -1.0e+04, -1.0e+04]]],\n      dtype=float32)"
     },
     "execution_count": 106,
     "metadata": {},
     "output_type": "execute_result"
    },
    {
     "data": {
      "text/plain": "(5, 5, 12)"
     },
     "execution_count": 106,
     "metadata": {},
     "output_type": "execute_result"
    }
   ],
   "source": [
    "s_n_t\n",
    "s_n_t.shape"
   ],
   "metadata": {
    "collapsed": false,
    "ExecuteTime": {
     "end_time": "2023-08-04T03:23:02.004940820Z",
     "start_time": "2023-08-04T03:22:51.053165378Z"
    }
   }
  },
  {
   "cell_type": "code",
   "execution_count": 107,
   "outputs": [
    {
     "name": "stdout",
     "output_type": "stream",
     "text": [
      "split_num: 3\n"
     ]
    },
    {
     "data": {
      "text/plain": "3"
     },
     "execution_count": 107,
     "metadata": {},
     "output_type": "execute_result"
    },
    {
     "data": {
      "text/plain": "array([[[ 0.,  1.,  2.,  3.,  4.,  5.,  6.,  7.,  8.,  9., 10., 11.],\n        [ 0.,  1.,  2.,  3.,  4.,  5.,  6.,  7.,  8.,  9., 10., 11.]],\n\n       [[ 0.,  1.,  2.,  3.,  4.,  5.,  6.,  7.,  8.,  9., 10., 11.],\n        [ 0.,  1.,  2.,  3.,  4.,  5.,  6.,  7.,  8.,  9., 10., 11.]],\n\n       [[ 0.,  1.,  2.,  3.,  4.,  5.,  6.,  7.,  8.,  9., 10., 11.],\n        [ 0.,  1.,  2.,  3.,  4.,  5.,  6.,  7.,  8.,  9., 10., 11.]],\n\n       [[ 0.,  1.,  2.,  3.,  4.,  5.,  6.,  7.,  8.,  9., 10., 11.],\n        [ 0.,  1.,  2.,  3.,  4.,  5.,  6.,  7.,  8.,  9., 10., 11.]],\n\n       [[ 0.,  1.,  2.,  3.,  4.,  5.,  6.,  7.,  8.,  9., 10., 11.],\n        [ 0.,  1.,  2.,  3.,  4.,  5.,  6.,  7.,  8.,  9., 10., 11.]]],\n      dtype=float32)"
     },
     "execution_count": 107,
     "metadata": {},
     "output_type": "execute_result"
    },
    {
     "data": {
      "text/plain": "array([[[ 0.0e+00,  1.0e+00,  2.0e+00,  3.0e+00,  4.0e+00,  5.0e+00,\n          6.0e+00,  7.0e+00,  8.0e+00,  9.0e+00,  1.0e+01,  1.1e+01],\n        [ 0.0e+00,  1.0e+00,  2.0e+00,  3.0e+00,  4.0e+00,  5.0e+00,\n          6.0e+00,  7.0e+00,  8.0e+00,  9.0e+00,  1.0e+01,  1.1e+01]],\n\n       [[-1.0e+04, -1.0e+04, -1.0e+04, -1.0e+04, -1.0e+04, -1.0e+04,\n         -1.0e+04, -1.0e+04, -1.0e+04, -1.0e+04, -1.0e+04, -1.0e+04],\n        [-1.0e+04, -1.0e+04, -1.0e+04, -1.0e+04, -1.0e+04, -1.0e+04,\n         -1.0e+04, -1.0e+04, -1.0e+04, -1.0e+04, -1.0e+04, -1.0e+04]],\n\n       [[-1.0e+04, -1.0e+04, -1.0e+04, -1.0e+04, -1.0e+04, -1.0e+04,\n         -1.0e+04, -1.0e+04, -1.0e+04, -1.0e+04, -1.0e+04, -1.0e+04],\n        [-1.0e+04, -1.0e+04, -1.0e+04, -1.0e+04, -1.0e+04, -1.0e+04,\n         -1.0e+04, -1.0e+04, -1.0e+04, -1.0e+04, -1.0e+04, -1.0e+04]],\n\n       [[ 0.0e+00,  1.0e+00,  2.0e+00,  3.0e+00,  4.0e+00,  5.0e+00,\n          6.0e+00,  7.0e+00,  8.0e+00,  9.0e+00,  1.0e+01,  1.1e+01],\n        [ 0.0e+00,  1.0e+00,  2.0e+00,  3.0e+00,  4.0e+00,  5.0e+00,\n          6.0e+00,  7.0e+00,  8.0e+00,  9.0e+00,  1.0e+01,  1.1e+01]],\n\n       [[ 0.0e+00,  1.0e+00,  2.0e+00,  3.0e+00,  4.0e+00,  5.0e+00,\n          6.0e+00,  7.0e+00,  8.0e+00,  9.0e+00,  1.0e+01,  1.1e+01],\n        [-1.0e+04, -1.0e+04, -1.0e+04, -1.0e+04, -1.0e+04, -1.0e+04,\n         -1.0e+04, -1.0e+04, -1.0e+04, -1.0e+04, -1.0e+04, -1.0e+04]]],\n      dtype=float32)"
     },
     "execution_count": 107,
     "metadata": {},
     "output_type": "execute_result"
    },
    {
     "data": {
      "text/plain": "array([[[-1.0e+04, -1.0e+04, -1.0e+04, -1.0e+04, -1.0e+04, -1.0e+04,\n         -1.0e+04, -1.0e+04, -1.0e+04, -1.0e+04, -1.0e+04, -1.0e+04]],\n\n       [[-1.0e+04, -1.0e+04, -1.0e+04, -1.0e+04, -1.0e+04, -1.0e+04,\n         -1.0e+04, -1.0e+04, -1.0e+04, -1.0e+04, -1.0e+04, -1.0e+04]],\n\n       [[-1.0e+04, -1.0e+04, -1.0e+04, -1.0e+04, -1.0e+04, -1.0e+04,\n         -1.0e+04, -1.0e+04, -1.0e+04, -1.0e+04, -1.0e+04, -1.0e+04]],\n\n       [[ 0.0e+00,  1.0e+00,  2.0e+00,  3.0e+00,  4.0e+00,  5.0e+00,\n          6.0e+00,  7.0e+00,  8.0e+00,  9.0e+00,  1.0e+01,  1.1e+01]],\n\n       [[-1.0e+04, -1.0e+04, -1.0e+04, -1.0e+04, -1.0e+04, -1.0e+04,\n         -1.0e+04, -1.0e+04, -1.0e+04, -1.0e+04, -1.0e+04, -1.0e+04]]],\n      dtype=float32)"
     },
     "execution_count": 107,
     "metadata": {},
     "output_type": "execute_result"
    }
   ],
   "source": [
    "split_num = s_n_t.shape[1]//2+1\n",
    "print(f'split_num: {split_num}')\n",
    "s_n_t_splits = np.array_split(s_n_t,split_num, axis=1)\n",
    "len(s_n_t_splits)\n",
    "s_n_t_splits[0]\n",
    "s_n_t_splits[1]\n",
    "s_n_t_splits[2]"
   ],
   "metadata": {
    "collapsed": false,
    "ExecuteTime": {
     "end_time": "2023-08-04T03:23:02.006772171Z",
     "start_time": "2023-08-04T03:22:51.053308537Z"
    }
   }
  },
  {
   "cell_type": "code",
   "execution_count": 108,
   "outputs": [
    {
     "name": "stdout",
     "output_type": "stream",
     "text": [
      "split_num: 3\n",
      "batch number: 0\n",
      "s_n_t_b: [[[ 0.  1.  2.  3.  4.  5.  6.  7.  8.  9. 10. 11.]\n",
      "  [ 0.  1.  2.  3.  4.  5.  6.  7.  8.  9. 10. 11.]]\n",
      "\n",
      " [[ 0.  1.  2.  3.  4.  5.  6.  7.  8.  9. 10. 11.]\n",
      "  [ 0.  1.  2.  3.  4.  5.  6.  7.  8.  9. 10. 11.]]\n",
      "\n",
      " [[ 0.  1.  2.  3.  4.  5.  6.  7.  8.  9. 10. 11.]\n",
      "  [ 0.  1.  2.  3.  4.  5.  6.  7.  8.  9. 10. 11.]]\n",
      "\n",
      " [[ 0.  1.  2.  3.  4.  5.  6.  7.  8.  9. 10. 11.]\n",
      "  [ 0.  1.  2.  3.  4.  5.  6.  7.  8.  9. 10. 11.]]\n",
      "\n",
      " [[ 0.  1.  2.  3.  4.  5.  6.  7.  8.  9. 10. 11.]\n",
      "  [ 0.  1.  2.  3.  4.  5.  6.  7.  8.  9. 10. 11.]]]\n",
      "a_n_t_b: [[[12. 13. 14. 15. 16. 17. 18. 19. 20. 21. 22. 23. 24. 25. 26.]\n",
      "  [12. 13. 14. 15. 16. 17. 18. 19. 20. 21. 22. 23. 24. 25. 26.]]\n",
      "\n",
      " [[12. 13. 14. 15. 16. 17. 18. 19. 20. 21. 22. 23. 24. 25. 26.]\n",
      "  [12. 13. 14. 15. 16. 17. 18. 19. 20. 21. 22. 23. 24. 25. 26.]]\n",
      "\n",
      " [[12. 13. 14. 15. 16. 17. 18. 19. 20. 21. 22. 23. 24. 25. 26.]\n",
      "  [12. 13. 14. 15. 16. 17. 18. 19. 20. 21. 22. 23. 24. 25. 26.]]\n",
      "\n",
      " [[12. 13. 14. 15. 16. 17. 18. 19. 20. 21. 22. 23. 24. 25. 26.]\n",
      "  [12. 13. 14. 15. 16. 17. 18. 19. 20. 21. 22. 23. 24. 25. 26.]]\n",
      "\n",
      " [[12. 13. 14. 15. 16. 17. 18. 19. 20. 21. 22. 23. 24. 25. 26.]\n",
      "  [12. 13. 14. 15. 16. 17. 18. 19. 20. 21. 22. 23. 24. 25. 26.]]]\n",
      "r_n_t_b: [[[27.]\n",
      "  [27.]]\n",
      "\n",
      " [[27.]\n",
      "  [27.]]\n",
      "\n",
      " [[27.]\n",
      "  [27.]]\n",
      "\n",
      " [[27.]\n",
      "  [27.]]\n",
      "\n",
      " [[27.]\n",
      "  [27.]]]\n",
      "ns_n_t_b: [[[29. 30. 31. 32. 33. 34. 35. 36. 37. 38. 39. 40.]\n",
      "  [29. 30. 31. 32. 33. 34. 35. 36. 37. 38. 39. 40.]]\n",
      "\n",
      " [[29. 30. 31. 32. 33. 34. 35. 36. 37. 38. 39. 40.]\n",
      "  [29. 30. 31. 32. 33. 34. 35. 36. 37. 38. 39. 40.]]\n",
      "\n",
      " [[29. 30. 31. 32. 33. 34. 35. 36. 37. 38. 39. 40.]\n",
      "  [29. 30. 31. 32. 33. 34. 35. 36. 37. 38. 39. 40.]]\n",
      "\n",
      " [[29. 30. 31. 32. 33. 34. 35. 36. 37. 38. 39. 40.]\n",
      "  [29. 30. 31. 32. 33. 34. 35. 36. 37. 38. 39. 40.]]\n",
      "\n",
      " [[29. 30. 31. 32. 33. 34. 35. 36. 37. 38. 39. 40.]\n",
      "  [29. 30. 31. 32. 33. 34. 35. 36. 37. 38. 39. 40.]]]\n",
      "batch number: 1\n",
      "s_n_t_b: [[[ 0.0e+00  1.0e+00  2.0e+00  3.0e+00  4.0e+00  5.0e+00  6.0e+00\n",
      "    7.0e+00  8.0e+00  9.0e+00  1.0e+01  1.1e+01]\n",
      "  [ 0.0e+00  1.0e+00  2.0e+00  3.0e+00  4.0e+00  5.0e+00  6.0e+00\n",
      "    7.0e+00  8.0e+00  9.0e+00  1.0e+01  1.1e+01]]\n",
      "\n",
      " [[-1.0e+04 -1.0e+04 -1.0e+04 -1.0e+04 -1.0e+04 -1.0e+04 -1.0e+04\n",
      "   -1.0e+04 -1.0e+04 -1.0e+04 -1.0e+04 -1.0e+04]\n",
      "  [-1.0e+04 -1.0e+04 -1.0e+04 -1.0e+04 -1.0e+04 -1.0e+04 -1.0e+04\n",
      "   -1.0e+04 -1.0e+04 -1.0e+04 -1.0e+04 -1.0e+04]]\n",
      "\n",
      " [[-1.0e+04 -1.0e+04 -1.0e+04 -1.0e+04 -1.0e+04 -1.0e+04 -1.0e+04\n",
      "   -1.0e+04 -1.0e+04 -1.0e+04 -1.0e+04 -1.0e+04]\n",
      "  [-1.0e+04 -1.0e+04 -1.0e+04 -1.0e+04 -1.0e+04 -1.0e+04 -1.0e+04\n",
      "   -1.0e+04 -1.0e+04 -1.0e+04 -1.0e+04 -1.0e+04]]\n",
      "\n",
      " [[ 0.0e+00  1.0e+00  2.0e+00  3.0e+00  4.0e+00  5.0e+00  6.0e+00\n",
      "    7.0e+00  8.0e+00  9.0e+00  1.0e+01  1.1e+01]\n",
      "  [ 0.0e+00  1.0e+00  2.0e+00  3.0e+00  4.0e+00  5.0e+00  6.0e+00\n",
      "    7.0e+00  8.0e+00  9.0e+00  1.0e+01  1.1e+01]]\n",
      "\n",
      " [[ 0.0e+00  1.0e+00  2.0e+00  3.0e+00  4.0e+00  5.0e+00  6.0e+00\n",
      "    7.0e+00  8.0e+00  9.0e+00  1.0e+01  1.1e+01]\n",
      "  [-1.0e+04 -1.0e+04 -1.0e+04 -1.0e+04 -1.0e+04 -1.0e+04 -1.0e+04\n",
      "   -1.0e+04 -1.0e+04 -1.0e+04 -1.0e+04 -1.0e+04]]]\n",
      "a_n_t_b: [[[    12.     13.     14.     15.     16.     17.     18.     19.\n",
      "       20.     21.     22.     23.     24.     25.     26.]\n",
      "  [    12.     13.     14.     15.     16.     17.     18.     19.\n",
      "       20.     21.     22.     23.     24.     25.     26.]]\n",
      "\n",
      " [[-10000. -10000. -10000. -10000. -10000. -10000. -10000. -10000.\n",
      "   -10000. -10000. -10000. -10000. -10000. -10000. -10000.]\n",
      "  [-10000. -10000. -10000. -10000. -10000. -10000. -10000. -10000.\n",
      "   -10000. -10000. -10000. -10000. -10000. -10000. -10000.]]\n",
      "\n",
      " [[-10000. -10000. -10000. -10000. -10000. -10000. -10000. -10000.\n",
      "   -10000. -10000. -10000. -10000. -10000. -10000. -10000.]\n",
      "  [-10000. -10000. -10000. -10000. -10000. -10000. -10000. -10000.\n",
      "   -10000. -10000. -10000. -10000. -10000. -10000. -10000.]]\n",
      "\n",
      " [[    12.     13.     14.     15.     16.     17.     18.     19.\n",
      "       20.     21.     22.     23.     24.     25.     26.]\n",
      "  [    12.     13.     14.     15.     16.     17.     18.     19.\n",
      "       20.     21.     22.     23.     24.     25.     26.]]\n",
      "\n",
      " [[    12.     13.     14.     15.     16.     17.     18.     19.\n",
      "       20.     21.     22.     23.     24.     25.     26.]\n",
      "  [-10000. -10000. -10000. -10000. -10000. -10000. -10000. -10000.\n",
      "   -10000. -10000. -10000. -10000. -10000. -10000. -10000.]]]\n",
      "r_n_t_b: [[[    27.]\n",
      "  [    27.]]\n",
      "\n",
      " [[-10000.]\n",
      "  [-10000.]]\n",
      "\n",
      " [[-10000.]\n",
      "  [-10000.]]\n",
      "\n",
      " [[    27.]\n",
      "  [    27.]]\n",
      "\n",
      " [[    27.]\n",
      "  [-10000.]]]\n",
      "ns_n_t_b: [[[    29.     30.     31.     32.     33.     34.     35.     36.\n",
      "       37.     38.     39.     40.]\n",
      "  [    29.     30.     31.     32.     33.     34.     35.     36.\n",
      "       37.     38.     39.     40.]]\n",
      "\n",
      " [[-10000. -10000. -10000. -10000. -10000. -10000. -10000. -10000.\n",
      "   -10000. -10000. -10000. -10000.]\n",
      "  [-10000. -10000. -10000. -10000. -10000. -10000. -10000. -10000.\n",
      "   -10000. -10000. -10000. -10000.]]\n",
      "\n",
      " [[-10000. -10000. -10000. -10000. -10000. -10000. -10000. -10000.\n",
      "   -10000. -10000. -10000. -10000.]\n",
      "  [-10000. -10000. -10000. -10000. -10000. -10000. -10000. -10000.\n",
      "   -10000. -10000. -10000. -10000.]]\n",
      "\n",
      " [[    29.     30.     31.     32.     33.     34.     35.     36.\n",
      "       37.     38.     39.     40.]\n",
      "  [    29.     30.     31.     32.     33.     34.     35.     36.\n",
      "       37.     38.     39.     40.]]\n",
      "\n",
      " [[    29.     30.     31.     32.     33.     34.     35.     36.\n",
      "       37.     38.     39.     40.]\n",
      "  [-10000. -10000. -10000. -10000. -10000. -10000. -10000. -10000.\n",
      "   -10000. -10000. -10000. -10000.]]]\n",
      "batch number: 2\n",
      "s_n_t_b: [[[-1.0e+04 -1.0e+04 -1.0e+04 -1.0e+04 -1.0e+04 -1.0e+04 -1.0e+04\n",
      "   -1.0e+04 -1.0e+04 -1.0e+04 -1.0e+04 -1.0e+04]]\n",
      "\n",
      " [[-1.0e+04 -1.0e+04 -1.0e+04 -1.0e+04 -1.0e+04 -1.0e+04 -1.0e+04\n",
      "   -1.0e+04 -1.0e+04 -1.0e+04 -1.0e+04 -1.0e+04]]\n",
      "\n",
      " [[-1.0e+04 -1.0e+04 -1.0e+04 -1.0e+04 -1.0e+04 -1.0e+04 -1.0e+04\n",
      "   -1.0e+04 -1.0e+04 -1.0e+04 -1.0e+04 -1.0e+04]]\n",
      "\n",
      " [[ 0.0e+00  1.0e+00  2.0e+00  3.0e+00  4.0e+00  5.0e+00  6.0e+00\n",
      "    7.0e+00  8.0e+00  9.0e+00  1.0e+01  1.1e+01]]\n",
      "\n",
      " [[-1.0e+04 -1.0e+04 -1.0e+04 -1.0e+04 -1.0e+04 -1.0e+04 -1.0e+04\n",
      "   -1.0e+04 -1.0e+04 -1.0e+04 -1.0e+04 -1.0e+04]]]\n",
      "a_n_t_b: [[[-10000. -10000. -10000. -10000. -10000. -10000. -10000. -10000.\n",
      "   -10000. -10000. -10000. -10000. -10000. -10000. -10000.]]\n",
      "\n",
      " [[-10000. -10000. -10000. -10000. -10000. -10000. -10000. -10000.\n",
      "   -10000. -10000. -10000. -10000. -10000. -10000. -10000.]]\n",
      "\n",
      " [[-10000. -10000. -10000. -10000. -10000. -10000. -10000. -10000.\n",
      "   -10000. -10000. -10000. -10000. -10000. -10000. -10000.]]\n",
      "\n",
      " [[    12.     13.     14.     15.     16.     17.     18.     19.\n",
      "       20.     21.     22.     23.     24.     25.     26.]]\n",
      "\n",
      " [[-10000. -10000. -10000. -10000. -10000. -10000. -10000. -10000.\n",
      "   -10000. -10000. -10000. -10000. -10000. -10000. -10000.]]]\n",
      "r_n_t_b: [[[-10000.]]\n",
      "\n",
      " [[-10000.]]\n",
      "\n",
      " [[-10000.]]\n",
      "\n",
      " [[    27.]]\n",
      "\n",
      " [[-10000.]]]\n",
      "ns_n_t_b: [[[-10000. -10000. -10000. -10000. -10000. -10000. -10000. -10000.\n",
      "   -10000. -10000. -10000. -10000.]]\n",
      "\n",
      " [[-10000. -10000. -10000. -10000. -10000. -10000. -10000. -10000.\n",
      "   -10000. -10000. -10000. -10000.]]\n",
      "\n",
      " [[-10000. -10000. -10000. -10000. -10000. -10000. -10000. -10000.\n",
      "   -10000. -10000. -10000. -10000.]]\n",
      "\n",
      " [[    29.     30.     31.     32.     33.     34.     35.     36.\n",
      "       37.     38.     39.     40.]]\n",
      "\n",
      " [[-10000. -10000. -10000. -10000. -10000. -10000. -10000. -10000.\n",
      "   -10000. -10000. -10000. -10000.]]]\n"
     ]
    }
   ],
   "source": [
    "split_num = s_n_t.shape[1]//2+1\n",
    "print(f'split_num: {split_num}')\n",
    "\n",
    "for i, batch_t in enumerate(zip(np.array_split(s_n_t,split_num, axis=1),\n",
    "                   np.array_split(a_n_t,split_num, axis=1),\n",
    "                   np.array_split(r_n_t,split_num, axis=1),\n",
    "                   np.array_split(ns_n_t,split_num, axis=1))):\n",
    "    s_n_t_b, a_n_t_b, r_n_t_b, ns_n_t_b = batch_t\n",
    "    print(f'batch number: {i}')\n",
    "    print(f's_n_t_b: {s_n_t_b}')\n",
    "    print(f'a_n_t_b: {a_n_t_b}')\n",
    "    print(f'r_n_t_b: {r_n_t_b}')\n",
    "    print(f'ns_n_t_b: {ns_n_t_b}')"
   ],
   "metadata": {
    "collapsed": false,
    "ExecuteTime": {
     "end_time": "2023-08-04T03:23:02.007490070Z",
     "start_time": "2023-08-04T03:22:51.053576550Z"
    }
   }
  }
 ],
 "metadata": {
  "kernelspec": {
   "display_name": "Python 3 (ipykernel)",
   "language": "python",
   "name": "python3"
  },
  "language_info": {
   "codemirror_mode": {
    "name": "ipython",
    "version": 3
   },
   "file_extension": ".py",
   "mimetype": "text/x-python",
   "name": "python",
   "nbconvert_exporter": "python",
   "pygments_lexer": "ipython3",
   "version": "3.10.11"
  }
 },
 "nbformat": 4,
 "nbformat_minor": 2
}
