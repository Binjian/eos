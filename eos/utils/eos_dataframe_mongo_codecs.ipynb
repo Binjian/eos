{
 "cells": [
  {
   "cell_type": "code",
   "execution_count": 1,
   "metadata": {
    "ExecuteTime": {
     "end_time": "2023-08-21T01:07:28.763220552Z",
     "start_time": "2023-08-21T01:07:27.732928544Z"
    }
   },
   "outputs": [],
   "source": [
    "\n",
    "from IPython.core.interactiveshell import InteractiveShell\n",
    "\n",
    "InteractiveShell.ast_node_interactivity = \"all\"\n",
    "\n",
    "\n",
    "class display(object):\n",
    "    \"\"\"Display HTML representation of multiple objects\"\"\"\n",
    "\n",
    "    template = \"\"\"<div style=\"float: left; padding: 10px;\">\n",
    "    <p style='font-family:\"Courier New\", Courier, monospace'>{0}</p>{1}\n",
    "    </div>\"\"\"\n",
    "\n",
    "    def __init__(self, *args):\n",
    "        self.args = args\n",
    "\n",
    "    def _repr_html_(self):\n",
    "        return '\\n'.join(\n",
    "            self.template.format(a, eval(a)._repr_html_()) for a in self.args\n",
    "        )\n",
    "\n",
    "    def __repr__(self):\n",
    "        return '\\n\\n'.join(a + '\\n' + repr(eval(a)) for a in self.args)\n",
    "\n"
   ]
  },
  {
   "cell_type": "code",
   "execution_count": 2,
   "metadata": {
    "ExecuteTime": {
     "end_time": "2023-08-21T01:07:29.603583798Z",
     "start_time": "2023-08-21T01:07:27.733176971Z"
    }
   },
   "outputs": [
    {
     "data": {
      "text/plain": "array([[1, 2, 3],\n       [4, 5, 6]])"
     },
     "execution_count": 2,
     "metadata": {},
     "output_type": "execute_result"
    },
    {
     "data": {
      "text/plain": "array([1, 2, 3, 4, 5, 6])"
     },
     "execution_count": 2,
     "metadata": {},
     "output_type": "execute_result"
    },
    {
     "data": {
      "text/plain": "array([1, 4, 2, 5, 3, 6])"
     },
     "execution_count": 2,
     "metadata": {},
     "output_type": "execute_result"
    }
   ],
   "source": [
    "import numpy as np\n",
    "\n",
    "a = np.array([[1, 2, 3], [4, 5, 6]])\n",
    "a\n",
    "\n",
    "b = a.flatten()\n",
    "b\n",
    "c = a.flatten('F')\n",
    "c"
   ]
  },
  {
   "cell_type": "code",
   "execution_count": 3,
   "outputs": [
    {
     "name": "stderr",
     "output_type": "stream",
     "text": [
      "2023-08-21 09:07:28.474674: I tensorflow/core/platform/cpu_feature_guard.cc:182] This TensorFlow binary is optimized to use available CPU instructions in performance-critical operations.\n",
      "To enable the following instructions: SSE4.1 SSE4.2 AVX AVX2 FMA, in other operations, rebuild TensorFlow with the appropriate compiler flags.\n"
     ]
    }
   ],
   "source": [
    "from eos.data_io.pool.parquet_pool import ParquetPool\n",
    "from eos.data_io.pool.avro_pool import AvroPool \n",
    "from eos.data_io.pool.dask_pool import DaskPool\n",
    "from eos.data_io.pool.mongo_pool import MongoPool"
   ],
   "metadata": {
    "collapsed": false,
    "ExecuteTime": {
     "end_time": "2023-08-21T01:07:31.309912430Z",
     "start_time": "2023-08-21T01:07:27.820749385Z"
    }
   }
  },
  {
   "cell_type": "code",
   "execution_count": 4,
   "outputs": [],
   "source": [
    "from eos.data_io.buffer.mongo_buffer import MongoBuffer"
   ],
   "metadata": {
    "collapsed": false,
    "ExecuteTime": {
     "end_time": "2023-08-21T01:07:31.310156748Z",
     "start_time": "2023-08-21T01:07:29.879406829Z"
    }
   }
  },
  {
   "cell_type": "code",
   "execution_count": 5,
   "outputs": [],
   "source": [
    "from eos.data_io.buffer.dask_buffer import DaskBuffer"
   ],
   "metadata": {
    "collapsed": false,
    "ExecuteTime": {
     "end_time": "2023-08-21T01:07:31.310259191Z",
     "start_time": "2023-08-21T01:07:29.880882561Z"
    }
   }
  },
  {
   "cell_type": "code",
   "execution_count": 6,
   "metadata": {
    "ExecuteTime": {
     "end_time": "2023-08-21T01:07:31.310352125Z",
     "start_time": "2023-08-21T01:07:29.921166883Z"
    }
   },
   "outputs": [],
   "source": [
    "# from dataclasses import dataclass, field\n",
    "# from typing import Optional\n",
    "# import pandas as pd\n",
    "# import numpy as np\n",
    "# from ordered_set import OrderedSet\n",
    "from eos.data_io.config import drivers, trucks_by_id, drivers_by_id\n",
    "\n",
    "# DriverSet = OrderedSet(\n",
    "#     [\n",
    "#         'wang-cheng',\n",
    "#         'li-changlong',\n",
    "#         'chen-hongmei',\n",
    "#         'zheng-longfei',\n",
    "#     ]\n",
    "# )\n",
    "# DriverSet[0]\n",
    "# DriverSet.get_loc('wang-cheng')\n",
    "# DriverSet\n"
   ]
  },
  {
   "cell_type": "code",
   "execution_count": 7,
   "outputs": [],
   "source": [
    "from eos.data_io.struct import StateSpecsCloud, StateSpecsField\n"
   ],
   "metadata": {
    "collapsed": false,
    "ExecuteTime": {
     "end_time": "2023-08-21T01:07:31.310443187Z",
     "start_time": "2023-08-21T01:07:29.921246573Z"
    }
   }
  },
  {
   "cell_type": "code",
   "execution_count": 8,
   "outputs": [
    {
     "name": "stdout",
     "output_type": "stream",
     "text": [
      "{'state_unit_codes': StateUnitCodes(velocity_unit_code='kph', thrust_unit_code='pct', brake_unit_code='pct'), 'state_number': 3, 'unit_number_per_state': 200, 'unit_duration': 4, 'frequency': 50, 'cloud_interface': CloudMixin(cloud_signal_frequency=50, cloud_gear_frequency=2, cloud_unit_duration=1, cloud_unit_number=4)}\n",
      "{'state_unit_codes': StateUnitCodes(velocity_unit_code='kph', thrust_unit_code='pct', brake_unit_code='pct'), 'state_number': 3, 'unit_number_per_state': 30, 'unit_duration': 1.5, 'frequency': 20, 'field_interface': FieldMixin(field_observation_number=30, field_observation_frequency=20, field_countdown=3)}\n"
     ]
    }
   ],
   "source": [
    "from dataclasses import asdict\n",
    "state_specs = StateSpecsCloud()\n",
    "print(asdict(state_specs))\n",
    "\n",
    "state_specs = StateSpecsField()\n",
    "print(asdict(state_specs))\n",
    "\n"
   ],
   "metadata": {
    "collapsed": false,
    "ExecuteTime": {
     "end_time": "2023-08-21T01:07:31.310709367Z",
     "start_time": "2023-08-21T01:07:29.921304902Z"
    }
   }
  },
  {
   "cell_type": "code",
   "execution_count": 9,
   "metadata": {
    "ExecuteTime": {
     "end_time": "2023-08-21T01:07:31.311324602Z",
     "start_time": "2023-08-21T01:07:29.921365927Z"
    }
   },
   "outputs": [
    {
     "data": {
      "text/plain": "DatetimeIndex(['2023-08-21 09:07:29.919137', '2023-08-21 10:07:29.919137'], dtype='datetime64[ns]', freq=None)"
     },
     "execution_count": 9,
     "metadata": {},
     "output_type": "execute_result"
    },
    {
     "data": {
      "text/plain": "                            c1  c2  c3\n2023-08-21 09:07:29.919137   1   2   3\n2023-08-21 10:07:29.919137   4   5   6",
      "text/html": "<div>\n<style scoped>\n    .dataframe tbody tr th:only-of-type {\n        vertical-align: middle;\n    }\n\n    .dataframe tbody tr th {\n        vertical-align: top;\n    }\n\n    .dataframe thead th {\n        text-align: right;\n    }\n</style>\n<table border=\"1\" class=\"dataframe\">\n  <thead>\n    <tr style=\"text-align: right;\">\n      <th></th>\n      <th>c1</th>\n      <th>c2</th>\n      <th>c3</th>\n    </tr>\n  </thead>\n  <tbody>\n    <tr>\n      <th>2023-08-21 09:07:29.919137</th>\n      <td>1</td>\n      <td>2</td>\n      <td>3</td>\n    </tr>\n    <tr>\n      <th>2023-08-21 10:07:29.919137</th>\n      <td>4</td>\n      <td>5</td>\n      <td>6</td>\n    </tr>\n  </tbody>\n</table>\n</div>"
     },
     "execution_count": 9,
     "metadata": {},
     "output_type": "execute_result"
    },
    {
     "data": {
      "text/plain": "Timestamp('2023-08-21 09:07:29.919137')"
     },
     "execution_count": 9,
     "metadata": {},
     "output_type": "execute_result"
    }
   ],
   "source": [
    "import pandas as pd\n",
    "import numpy as np\n",
    "from datetime import datetime\n",
    "\n",
    "ts = pd.to_datetime(datetime.now())\n",
    "ts_ind = ts + pd.to_timedelta(np.arange(2), 'H')\n",
    "ts_ind\n",
    "df = pd.DataFrame(a, index=ts_ind, columns=['c1', 'c2', 'c3'])\n",
    "df\n",
    "df.index[0]\n"
   ]
  },
  {
   "cell_type": "code",
   "execution_count": 10,
   "metadata": {
    "ExecuteTime": {
     "end_time": "2023-08-21T01:07:31.312056357Z",
     "start_time": "2023-08-21T01:07:29.969258344Z"
    }
   },
   "outputs": [
    {
     "data": {
      "text/plain": "Timestamp('2023-08-21 09:07:29.919137')"
     },
     "execution_count": 10,
     "metadata": {},
     "output_type": "execute_result"
    },
    {
     "data": {
      "text/plain": "Timestamp('2023-08-21 09:07:29.964832')"
     },
     "execution_count": 10,
     "metadata": {},
     "output_type": "execute_result"
    },
    {
     "data": {
      "text/plain": "Timedelta('0 days 00:00:00.045695')"
     },
     "execution_count": 10,
     "metadata": {},
     "output_type": "execute_result"
    },
    {
     "data": {
      "text/plain": "Timedelta('0 days 00:00:00.011423750')"
     },
     "execution_count": 10,
     "metadata": {},
     "output_type": "execute_result"
    },
    {
     "data": {
      "text/plain": "array([0., 1., 2., 3., 4.])"
     },
     "execution_count": 10,
     "metadata": {},
     "output_type": "execute_result"
    },
    {
     "data": {
      "text/plain": "DatetimeIndex(['2023-08-21 09:07:29.930560750',\n               '2023-08-21 09:07:29.941984500',\n               '2023-08-21 09:07:29.953408250',\n                  '2023-08-21 09:07:29.964832'],\n              dtype='datetime64[ns]', freq=None)"
     },
     "execution_count": 10,
     "metadata": {},
     "output_type": "execute_result"
    }
   ],
   "source": [
    "ts\n",
    "ts_end = pd.to_datetime(datetime.now())\n",
    "ts_end\n",
    "span = ts_end - ts\n",
    "span\n",
    "span_each_row = span / 4\n",
    "span_each_row\n",
    "np.linspace(0, 4, 5)\n",
    "ts_ser = ts + pd.to_timedelta(np.linspace(1, 4, 4) * span_each_row, unit='s')\n",
    "ts_ser\n"
   ]
  },
  {
   "cell_type": "code",
   "execution_count": 11,
   "metadata": {
    "ExecuteTime": {
     "end_time": "2023-08-21T01:07:31.312579560Z",
     "start_time": "2023-08-21T01:07:29.978058557Z"
    }
   },
   "outputs": [
    {
     "data": {
      "text/plain": "                   timestamp\n0 2023-08-21 09:07:29.919137",
      "text/html": "<div>\n<style scoped>\n    .dataframe tbody tr th:only-of-type {\n        vertical-align: middle;\n    }\n\n    .dataframe tbody tr th {\n        vertical-align: top;\n    }\n\n    .dataframe thead th {\n        text-align: right;\n    }\n</style>\n<table border=\"1\" class=\"dataframe\">\n  <thead>\n    <tr style=\"text-align: right;\">\n      <th></th>\n      <th>timestamp</th>\n    </tr>\n  </thead>\n  <tbody>\n    <tr>\n      <th>0</th>\n      <td>2023-08-21 09:07:29.919137</td>\n    </tr>\n  </tbody>\n</table>\n</div>"
     },
     "execution_count": 11,
     "metadata": {},
     "output_type": "execute_result"
    }
   ],
   "source": [
    "df_ts = pd.DataFrame(np.array([ts]), columns=['timestamp'])\n",
    "df_ts"
   ]
  },
  {
   "cell_type": "code",
   "execution_count": 12,
   "metadata": {
    "ExecuteTime": {
     "end_time": "2023-08-21T01:07:31.312802769Z",
     "start_time": "2023-08-21T01:07:30.025332050Z"
    }
   },
   "outputs": [
    {
     "data": {
      "text/plain": "array([0, 1, 2, 3, 4, 5, 6, 7, 8, 9])"
     },
     "execution_count": 12,
     "metadata": {},
     "output_type": "execute_result"
    }
   ],
   "source": [
    "s = np.arange(10)\n",
    "s"
   ]
  },
  {
   "cell_type": "markdown",
   "metadata": {},
   "source": [
    "### Generate state"
   ]
  },
  {
   "cell_type": "code",
   "execution_count": 13,
   "metadata": {
    "ExecuteTime": {
     "end_time": "2023-08-21T01:07:31.313282450Z",
     "start_time": "2023-08-21T01:07:30.025474798Z"
    }
   },
   "outputs": [
    {
     "data": {
      "text/plain": "[[0, 1, 2, 3], [4, 5, 6, 7], [8, 9, 10, 11]]"
     },
     "execution_count": 13,
     "metadata": {},
     "output_type": "execute_result"
    },
    {
     "data": {
      "text/plain": "   t  v   p   b\n0  0  1   2   3\n1  4  5   6   7\n2  8  9  10  11",
      "text/html": "<div>\n<style scoped>\n    .dataframe tbody tr th:only-of-type {\n        vertical-align: middle;\n    }\n\n    .dataframe tbody tr th {\n        vertical-align: top;\n    }\n\n    .dataframe thead th {\n        text-align: right;\n    }\n</style>\n<table border=\"1\" class=\"dataframe\">\n  <thead>\n    <tr style=\"text-align: right;\">\n      <th></th>\n      <th>t</th>\n      <th>v</th>\n      <th>p</th>\n      <th>b</th>\n    </tr>\n  </thead>\n  <tbody>\n    <tr>\n      <th>0</th>\n      <td>0</td>\n      <td>1</td>\n      <td>2</td>\n      <td>3</td>\n    </tr>\n    <tr>\n      <th>1</th>\n      <td>4</td>\n      <td>5</td>\n      <td>6</td>\n      <td>7</td>\n    </tr>\n    <tr>\n      <th>2</th>\n      <td>8</td>\n      <td>9</td>\n      <td>10</td>\n      <td>11</td>\n    </tr>\n  </tbody>\n</table>\n</div>"
     },
     "execution_count": 13,
     "metadata": {},
     "output_type": "execute_result"
    }
   ],
   "source": [
    "ss = np.arange(12)\n",
    "a1 = ss[:4].tolist()\n",
    "a2 = ss[4:8].tolist()\n",
    "a3 = ss[8:].tolist()\n",
    "ss = [a1, a2, a3]\n",
    "ss\n",
    "df_s = pd.DataFrame(ss, columns=['t', 'v', 'p', 'b'])  # .set_index('t')\n",
    "df_s"
   ]
  },
  {
   "cell_type": "code",
   "execution_count": 14,
   "metadata": {
    "ExecuteTime": {
     "end_time": "2023-08-21T01:07:31.313552127Z",
     "start_time": "2023-08-21T01:07:30.025603069Z"
    }
   },
   "outputs": [
    {
     "data": {
      "text/plain": "array([ 0, 20, 40, 60])"
     },
     "execution_count": 14,
     "metadata": {},
     "output_type": "execute_result"
    }
   ],
   "source": [
    "np.arange(0, 4 * 20, 20)"
   ]
  },
  {
   "cell_type": "code",
   "execution_count": 15,
   "metadata": {
    "ExecuteTime": {
     "end_time": "2023-08-21T01:07:31.314175428Z",
     "start_time": "2023-08-21T01:07:30.025705912Z"
    }
   },
   "outputs": [
    {
     "data": {
      "text/plain": "DatetimeIndex(['2023-08-21 09:07:29.919137', '2023-08-21 09:07:29.939137',\n               '2023-08-21 09:07:29.959137', '2023-08-21 09:07:29.979137'],\n              dtype='datetime64[ns]', freq=None)"
     },
     "execution_count": 15,
     "metadata": {},
     "output_type": "execute_result"
    },
    {
     "data": {
      "text/plain": "qtuple                   timestep  velocity  thrust  brake\n0      2023-08-21 09:07:29.919137         0       4      8\n1      2023-08-21 09:07:29.939137         1       5      9\n2      2023-08-21 09:07:29.959137         2       6     10\n3      2023-08-21 09:07:29.979137         3       7     11",
      "text/html": "<div>\n<style scoped>\n    .dataframe tbody tr th:only-of-type {\n        vertical-align: middle;\n    }\n\n    .dataframe tbody tr th {\n        vertical-align: top;\n    }\n\n    .dataframe thead th {\n        text-align: right;\n    }\n</style>\n<table border=\"1\" class=\"dataframe\">\n  <thead>\n    <tr style=\"text-align: right;\">\n      <th>qtuple</th>\n      <th>timestep</th>\n      <th>velocity</th>\n      <th>thrust</th>\n      <th>brake</th>\n    </tr>\n  </thead>\n  <tbody>\n    <tr>\n      <th>0</th>\n      <td>2023-08-21 09:07:29.919137</td>\n      <td>0</td>\n      <td>4</td>\n      <td>8</td>\n    </tr>\n    <tr>\n      <th>1</th>\n      <td>2023-08-21 09:07:29.939137</td>\n      <td>1</td>\n      <td>5</td>\n      <td>9</td>\n    </tr>\n    <tr>\n      <th>2</th>\n      <td>2023-08-21 09:07:29.959137</td>\n      <td>2</td>\n      <td>6</td>\n      <td>10</td>\n    </tr>\n    <tr>\n      <th>3</th>\n      <td>2023-08-21 09:07:29.979137</td>\n      <td>3</td>\n      <td>7</td>\n      <td>11</td>\n    </tr>\n  </tbody>\n</table>\n</div>"
     },
     "execution_count": 15,
     "metadata": {},
     "output_type": "execute_result"
    },
    {
     "data": {
      "text/plain": "qtuple  velocity  thrust  brake\n0              0       4      8\n1              1       5      9\n2              2       6     10\n3              3       7     11",
      "text/html": "<div>\n<style scoped>\n    .dataframe tbody tr th:only-of-type {\n        vertical-align: middle;\n    }\n\n    .dataframe tbody tr th {\n        vertical-align: top;\n    }\n\n    .dataframe thead th {\n        text-align: right;\n    }\n</style>\n<table border=\"1\" class=\"dataframe\">\n  <thead>\n    <tr style=\"text-align: right;\">\n      <th>qtuple</th>\n      <th>velocity</th>\n      <th>thrust</th>\n      <th>brake</th>\n    </tr>\n  </thead>\n  <tbody>\n    <tr>\n      <th>0</th>\n      <td>0</td>\n      <td>4</td>\n      <td>8</td>\n    </tr>\n    <tr>\n      <th>1</th>\n      <td>1</td>\n      <td>5</td>\n      <td>9</td>\n    </tr>\n    <tr>\n      <th>2</th>\n      <td>2</td>\n      <td>6</td>\n      <td>10</td>\n    </tr>\n    <tr>\n      <th>3</th>\n      <td>3</td>\n      <td>7</td>\n      <td>11</td>\n    </tr>\n  </tbody>\n</table>\n</div>"
     },
     "execution_count": 15,
     "metadata": {},
     "output_type": "execute_result"
    }
   ],
   "source": [
    "ts_ind = ts + pd.to_timedelta(np.arange(0, 4 * 20, 20), 'ms')\n",
    "ts_ind\n",
    "ss = np.arange(12)\n",
    "a1 = ss[:4]\n",
    "a2 = ss[4:8]\n",
    "a3 = ss[8:]\n",
    "df_ss = pd.DataFrame(\n",
    "    {'timestep': ts_ind, 'velocity': a1, 'thrust': a2, 'brake': a3}\n",
    ")  # .set_index('timestep')\n",
    "df_ss.columns.name = 'qtuple'\n",
    "df_ss\n",
    "df_ss[['velocity', 'thrust', 'brake']]"
   ]
  },
  {
   "cell_type": "code",
   "execution_count": 16,
   "metadata": {
    "ExecuteTime": {
     "end_time": "2023-08-21T01:07:31.314395191Z",
     "start_time": "2023-08-21T01:07:30.071090787Z"
    }
   },
   "outputs": [
    {
     "data": {
      "text/plain": "array([ 0,  4,  8,  1,  5,  9,  2,  6, 10,  3,  7, 11])"
     },
     "execution_count": 16,
     "metadata": {},
     "output_type": "execute_result"
    }
   ],
   "source": [
    "npa_ss_flatten = df_ss[['velocity', 'thrust', 'brake']].to_numpy().flatten()\n",
    "npa_ss_flatten"
   ]
  },
  {
   "cell_type": "code",
   "execution_count": 17,
   "metadata": {
    "ExecuteTime": {
     "end_time": "2023-08-21T01:07:31.314880633Z",
     "start_time": "2023-08-21T01:07:30.074002897Z"
    }
   },
   "outputs": [
    {
     "data": {
      "text/plain": "qtuple  velocity  thrust\n0              0       4\n1              1       5\n2              2       6\n3              3       7",
      "text/html": "<div>\n<style scoped>\n    .dataframe tbody tr th:only-of-type {\n        vertical-align: middle;\n    }\n\n    .dataframe tbody tr th {\n        vertical-align: top;\n    }\n\n    .dataframe thead th {\n        text-align: right;\n    }\n</style>\n<table border=\"1\" class=\"dataframe\">\n  <thead>\n    <tr style=\"text-align: right;\">\n      <th>qtuple</th>\n      <th>velocity</th>\n      <th>thrust</th>\n    </tr>\n  </thead>\n  <tbody>\n    <tr>\n      <th>0</th>\n      <td>0</td>\n      <td>4</td>\n    </tr>\n    <tr>\n      <th>1</th>\n      <td>1</td>\n      <td>5</td>\n    </tr>\n    <tr>\n      <th>2</th>\n      <td>2</td>\n      <td>6</td>\n    </tr>\n    <tr>\n      <th>3</th>\n      <td>3</td>\n      <td>7</td>\n    </tr>\n  </tbody>\n</table>\n</div>"
     },
     "execution_count": 17,
     "metadata": {},
     "output_type": "execute_result"
    },
    {
     "data": {
      "text/plain": "0     0\n1     5\n2    12\n3    21\ndtype: int64"
     },
     "execution_count": 17,
     "metadata": {},
     "output_type": "execute_result"
    },
    {
     "data": {
      "text/plain": "38"
     },
     "execution_count": 17,
     "metadata": {},
     "output_type": "execute_result"
    }
   ],
   "source": [
    "ui_t = df_ss.loc[:, ['velocity', 'thrust']]\n",
    "ui_t\n",
    "power_t = ui_t.prod(axis=1)\n",
    "power_t\n",
    "power_t.sum()"
   ]
  },
  {
   "cell_type": "code",
   "execution_count": 18,
   "metadata": {
    "ExecuteTime": {
     "end_time": "2023-08-21T01:07:31.315345687Z",
     "start_time": "2023-08-21T01:07:30.092505729Z"
    }
   },
   "outputs": [
    {
     "data": {
      "text/plain": "rows      idx\nbrake     0                               8\n          1                               9\n          2                              10\n          3                              11\nthrust    0                               4\n          1                               5\n          2                               6\n          3                               7\ntimestep  0      2023-08-21 09:07:29.919137\n          1      2023-08-21 09:07:29.939137\n          2      2023-08-21 09:07:29.959137\n          3      2023-08-21 09:07:29.979137\nvelocity  0                               0\n          1                               1\n          2                               2\n          3                               3\nName: state, dtype: object"
     },
     "execution_count": 18,
     "metadata": {},
     "output_type": "execute_result"
    }
   ],
   "source": [
    "state = df_ss.stack().swaplevel(0, 1)\n",
    "state.name = 'state'\n",
    "state.index.names = ['rows', 'idx']\n",
    "state.sort_index(inplace=True)\n",
    "state"
   ]
  },
  {
   "cell_type": "code",
   "execution_count": 19,
   "metadata": {
    "ExecuteTime": {
     "end_time": "2023-08-21T01:07:31.315593001Z",
     "start_time": "2023-08-21T01:07:30.133207155Z"
    }
   },
   "outputs": [
    {
     "data": {
      "text/plain": "rows      idx\nvelocity  0       0\n          1       1\n          2       2\n          3       3\nthrust    0       4\n          1       5\n          2       6\n          3       7\nbrake     0       8\n          1       9\n          2      10\n          3      11\nName: state, dtype: object"
     },
     "execution_count": 19,
     "metadata": {},
     "output_type": "execute_result"
    }
   ],
   "source": [
    "state[['velocity', 'thrust', 'brake']]"
   ]
  },
  {
   "cell_type": "code",
   "execution_count": 20,
   "metadata": {
    "ExecuteTime": {
     "end_time": "2023-08-21T01:07:31.315692188Z",
     "start_time": "2023-08-21T01:07:30.177211436Z"
    }
   },
   "outputs": [],
   "source": [
    "# from functools import reduce\n",
    "#\n",
    "#\n",
    "# velocity = pd.Series(ss[:4], name='velocity')\n",
    "# thrust = pd.Series(ss[4:8], name='thrust')\n",
    "# brake = pd.Series(ss[8:], name='brake')\n",
    "# series = [velocity, thrust, brake]\n",
    "# state = reduce(\n",
    "#     lambda x, y: pd.merge(x, y, how='outer', left_index=True, right_index=True), series\n",
    "# )\n",
    "# state = state.stack().swaplevel(0, 1).sort_index()\n",
    "# state.name = 'state'\n",
    "# state\n",
    "# len(state)\n"
   ]
  },
  {
   "cell_type": "code",
   "execution_count": 21,
   "metadata": {
    "ExecuteTime": {
     "end_time": "2023-08-21T01:07:31.315784171Z",
     "start_time": "2023-08-21T01:07:30.177316253Z"
    }
   },
   "outputs": [],
   "source": [
    "# from functools import reduce\n",
    "#\n",
    "#\n",
    "# velocity = pd.Series(s[:4], name='velocity')\n",
    "# thrust = pd.Series(s[4:7], name='thrust')\n",
    "# brake = pd.Series(s[7:], name='brake')\n",
    "# series = [velocity, thrust, brake]\n",
    "# state = reduce(\n",
    "#     lambda x, y: pd.merge(x, y, how='outer', left_index=True, right_index=True), series\n",
    "# )\n",
    "# state = state.stack().swaplevel(0, 1).sort_index()\n",
    "# state.name = 'state'\n",
    "# state\n",
    "# len(state)\n",
    "#\n",
    "#"
   ]
  },
  {
   "cell_type": "markdown",
   "metadata": {},
   "source": [
    "### generate action"
   ]
  },
  {
   "cell_type": "code",
   "execution_count": 22,
   "metadata": {
    "ExecuteTime": {
     "end_time": "2023-08-21T01:07:31.316384909Z",
     "start_time": "2023-08-21T01:07:30.177442090Z"
    }
   },
   "outputs": [
    {
     "data": {
      "text/plain": "{'r0': array([12, 13, 14, 15, 16]),\n 'r1': array([17, 18, 19, 20, 21]),\n 'r2': array([22, 23, 24, 25, 26])}"
     },
     "execution_count": 22,
     "metadata": {},
     "output_type": "execute_result"
    },
    {
     "data": {
      "text/plain": "array([[12, 17, 22],\n       [13, 18, 23],\n       [14, 19, 24],\n       [15, 20, 25],\n       [16, 21, 26]])"
     },
     "execution_count": 22,
     "metadata": {},
     "output_type": "execute_result"
    },
    {
     "data": {
      "text/plain": "   r0  r1  r2\n0  12  17  22\n1  13  18  23\n2  14  19  24\n3  15  20  25\n4  16  21  26",
      "text/html": "<div>\n<style scoped>\n    .dataframe tbody tr th:only-of-type {\n        vertical-align: middle;\n    }\n\n    .dataframe tbody tr th {\n        vertical-align: top;\n    }\n\n    .dataframe thead th {\n        text-align: right;\n    }\n</style>\n<table border=\"1\" class=\"dataframe\">\n  <thead>\n    <tr style=\"text-align: right;\">\n      <th></th>\n      <th>r0</th>\n      <th>r1</th>\n      <th>r2</th>\n    </tr>\n  </thead>\n  <tbody>\n    <tr>\n      <th>0</th>\n      <td>12</td>\n      <td>17</td>\n      <td>22</td>\n    </tr>\n    <tr>\n      <th>1</th>\n      <td>13</td>\n      <td>18</td>\n      <td>23</td>\n    </tr>\n    <tr>\n      <th>2</th>\n      <td>14</td>\n      <td>19</td>\n      <td>24</td>\n    </tr>\n    <tr>\n      <th>3</th>\n      <td>15</td>\n      <td>20</td>\n      <td>25</td>\n    </tr>\n    <tr>\n      <th>4</th>\n      <td>16</td>\n      <td>21</td>\n      <td>26</td>\n    </tr>\n  </tbody>\n</table>\n</div>"
     },
     "execution_count": 22,
     "metadata": {},
     "output_type": "execute_result"
    },
    {
     "data": {
      "text/plain": "['r0', 'r1', 'r2']"
     },
     "execution_count": 22,
     "metadata": {},
     "output_type": "execute_result"
    }
   ],
   "source": [
    "from functools import reduce\n",
    "\n",
    "a = len(ss) + np.arange(15)\n",
    "speed_ser = pd.Series(np.linspace(40, 60, 3), name='speed')\n",
    "# row_ser\n",
    "row_dict = {f'r{i}': a[i * 5 : i * 5 + 5] for i in np.arange(3)}\n",
    "row_dict\n",
    "row_array = a.reshape(3, 5).transpose()\n",
    "row_array\n",
    "rows_df = pd.DataFrame(row_array)\n",
    "rows_df.columns = [f'r{i}' for i in np.arange(3)]\n",
    "rows_df\n",
    "\n",
    "action_row_names = [f'r{i}' for i in np.arange(3)]\n",
    "action_row_names"
   ]
  },
  {
   "cell_type": "code",
   "execution_count": 23,
   "metadata": {
    "ExecuteTime": {
     "end_time": "2023-08-21T01:07:31.316763681Z",
     "start_time": "2023-08-21T01:07:30.177589888Z"
    }
   },
   "outputs": [
    {
     "data": {
      "text/plain": "MultiIndex([(      'r0', 0),\n            (      'r0', 1),\n            (      'r0', 2),\n            (      'r0', 3),\n            (      'r0', 4),\n            (      'r1', 0),\n            (      'r1', 1),\n            (      'r1', 2),\n            (      'r1', 3),\n            (      'r1', 4),\n            (      'r2', 0),\n            (      'r2', 1),\n            (      'r2', 2),\n            (      'r2', 3),\n            (      'r2', 4),\n            (   'speed', 0),\n            (   'speed', 1),\n            (   'speed', 2),\n            ('throttle', 0),\n            ('throttle', 1),\n            ('throttle', 2),\n            ('throttle', 3),\n            ('throttle', 4),\n            ('timestep', 0),\n            ('timestep', 1),\n            ('timestep', 2)],\n           names=['rows', 'idx'])"
     },
     "execution_count": 23,
     "metadata": {},
     "output_type": "execute_result"
    },
    {
     "data": {
      "text/plain": "rows      idx\nr0        0                              12\n          1                              13\n          2                              14\n          3                              15\n          4                              16\nr1        0                              17\n          1                              18\n          2                              19\n          3                              20\n          4                              21\nr2        0                              22\n          1                              23\n          2                              24\n          3                              25\n          4                              26\nspeed     0                            40.0\n          1                            50.0\n          2                            60.0\nthrottle  0                             0.0\n          1                            0.25\n          2                             0.5\n          3                            0.75\n          4                             1.0\ntimestep  0      2023-08-21 09:07:30.019137\n          1      2023-08-21 09:07:30.039137\n          2      2023-08-21 09:07:30.059137\nName: action, dtype: object"
     },
     "execution_count": 23,
     "metadata": {},
     "output_type": "execute_result"
    }
   ],
   "source": [
    "\n",
    "ts_ind = ts + pd.to_timedelta(np.arange(5 * 20, 8 * 20, 20), 'ms')\n",
    "ts_ser = pd.Series(ts_ind, name='timestep')\n",
    "throttle_ser = pd.Series(np.linspace(0, 1.0, 5), name='throttle')\n",
    "# throttle_ser\n",
    "dfs = [rows_df, ts_ser, speed_ser, throttle_ser]\n",
    "action = (\n",
    "    reduce(\n",
    "        lambda left, right: pd.merge(\n",
    "            left, right, how='outer', left_index=True, right_index=True\n",
    "        ),\n",
    "        dfs,\n",
    "    )\n",
    "    .stack()\n",
    "    .swaplevel(0, 1)\n",
    "    .sort_index()\n",
    ")\n",
    "\n",
    "action.name = 'action'\n",
    "action.index.names = ['rows', 'idx']\n",
    "action.index\n",
    "action\n",
    "# action = pd.concat([df.DataFrame(row_dict),df.Series(row_ind),df.Series(ts_ind),df.Series(pedal_ind)],axis=1)\n",
    "# action\n",
    "# pedal_ind\n",
    "# action_ind = pd.MultiIndex.from_product([row_ind, ts_ind], names=['row', 'timestamp'])\n",
    "# a\n",
    "# speed_row, row_name = *row_dict\n",
    "# action = (\n",
    "#     pd.DataFrame(\n",
    "#         {\n",
    "#             **row_dict,\n",
    "#             'throttle': pedal_ind,\n",
    "#             'speed': [r[1] for r in row_ind],\n",
    "#         }\n",
    "#     )  # .set_index('pedal')\n",
    "#     # .stack()\n",
    "#     # .swaplevel(0, 1)\n",
    "#     .sort_index()\n",
    "# )\n",
    "# action\n",
    "# action.columns\n",
    "# action.columns = pd.MultiIndex.from_arrays(\n",
    "#     [action.columns, ts_ind], names=['nominalspeed', 'timestep']\n",
    "# )\n",
    "# action = action.stack([0, 1]).swaplevel(0, 1).swaplevel(1, 2).sort_index()\n",
    "# action.name = 'action'\n",
    "# # action.index.names = ['nominalspeed', 'timestamp']\n",
    "# # action.index\n",
    "# action"
   ]
  },
  {
   "cell_type": "code",
   "execution_count": 24,
   "metadata": {
    "ExecuteTime": {
     "end_time": "2023-08-21T01:07:31.316988463Z",
     "start_time": "2023-08-21T01:07:30.221237980Z"
    }
   },
   "outputs": [
    {
     "data": {
      "text/plain": "rows  idx\nr0    0      12\n      1      13\n      2      14\n      3      15\n      4      16\nr1    0      17\n      1      18\n      2      19\n      3      20\n      4      21\nr2    0      22\n      1      23\n      2      24\n      3      25\n      4      26\nName: action, dtype: object"
     },
     "execution_count": 24,
     "metadata": {},
     "output_type": "execute_result"
    }
   ],
   "source": [
    "action[['r0', 'r1', 'r2']]"
   ]
  },
  {
   "cell_type": "code",
   "execution_count": 25,
   "metadata": {
    "ExecuteTime": {
     "end_time": "2023-08-21T01:07:31.317095164Z",
     "start_time": "2023-08-21T01:07:30.221388743Z"
    }
   },
   "outputs": [],
   "source": [
    "# a = len(state) + np.arange(6)\n",
    "# ar0 = pd.Series(a[:2], name='row0')\n",
    "# ar1 = pd.Series(a[2:4], name='row1')\n",
    "# ar2 = pd.Series(a[4:], name='row2')\n",
    "# series = [ar0, ar1, ar2]\n",
    "# action = reduce(\n",
    "#     lambda x, y: pd.merge(x, y, how='outer', left_index=True, right_index=True), series\n",
    "# )\n",
    "# action = action.stack().swaplevel(0, 1).sort_index()\n",
    "# action.name = 'action'\n",
    "# action\n",
    "# len(action) + len(state)"
   ]
  },
  {
   "cell_type": "code",
   "execution_count": 25,
   "metadata": {
    "ExecuteTime": {
     "end_time": "2023-08-21T01:07:31.317186696Z",
     "start_time": "2023-08-21T01:07:30.221497948Z"
    }
   },
   "outputs": [],
   "source": []
  },
  {
   "cell_type": "code",
   "execution_count": 26,
   "metadata": {
    "ExecuteTime": {
     "end_time": "2023-08-21T01:07:31.317490046Z",
     "start_time": "2023-08-21T01:07:30.221589951Z"
    }
   },
   "outputs": [
    {
     "data": {
      "text/plain": "MultiIndex([('timestep', 0),\n            (    'work', 0)],\n           names=['rows', 'idx'])"
     },
     "execution_count": 26,
     "metadata": {},
     "output_type": "execute_result"
    },
    {
     "data": {
      "text/plain": "rows      idx\ntimestep  0      2023-08-21 09:07:30.019137\nwork      0                              27\nName: reward, dtype: object"
     },
     "execution_count": 26,
     "metadata": {},
     "output_type": "execute_result"
    }
   ],
   "source": [
    "reward = (\n",
    "    pd.DataFrame({'work': len(ss) + len(a), 'timestep': ts_ind[0]}, index=[0])\n",
    "    .stack()\n",
    "    .swaplevel(0, 1)\n",
    "    .sort_index()\n",
    ")\n",
    "# reward_index = (reward.name,  ts_ind[0], 0)\n",
    "reward.index.names = ['rows', 'idx']\n",
    "reward.name = 'reward'\n",
    "reward.index\n",
    "reward\n",
    "# reward.name = 'reward'"
   ]
  },
  {
   "cell_type": "code",
   "execution_count": 27,
   "metadata": {
    "ExecuteTime": {
     "end_time": "2023-08-21T01:07:31.317773989Z",
     "start_time": "2023-08-21T01:07:30.223176621Z"
    }
   },
   "outputs": [
    {
     "data": {
      "text/plain": "27"
     },
     "execution_count": 27,
     "metadata": {},
     "output_type": "execute_result"
    },
    {
     "data": {
      "text/plain": "27"
     },
     "execution_count": 27,
     "metadata": {},
     "output_type": "execute_result"
    }
   ],
   "source": [
    "reward['work'][0]\n",
    "reward.loc[('work', 0)]"
   ]
  },
  {
   "cell_type": "code",
   "execution_count": 27,
   "metadata": {
    "ExecuteTime": {
     "end_time": "2023-08-21T01:07:31.317879036Z",
     "start_time": "2023-08-21T01:07:30.266834823Z"
    }
   },
   "outputs": [],
   "source": []
  },
  {
   "cell_type": "code",
   "execution_count": 28,
   "metadata": {
    "ExecuteTime": {
     "end_time": "2023-08-21T01:07:31.318289117Z",
     "start_time": "2023-08-21T01:07:30.266994383Z"
    }
   },
   "outputs": [
    {
     "data": {
      "text/plain": "DatetimeIndex(['2023-08-21 09:07:34.919137', '2023-08-21 09:07:34.939137',\n               '2023-08-21 09:07:34.959137', '2023-08-21 09:07:34.979137'],\n              dtype='datetime64[ns]', freq=None)"
     },
     "execution_count": 28,
     "metadata": {},
     "output_type": "execute_result"
    },
    {
     "data": {
      "text/plain": "16"
     },
     "execution_count": 28,
     "metadata": {},
     "output_type": "execute_result"
    },
    {
     "data": {
      "text/plain": "rows      idx\nbrake     0                              37\n          1                              38\n          2                              39\n          3                              40\nthrust    0                              33\n          1                              34\n          2                              35\n          3                              36\ntimestep  0      2023-08-21 09:07:34.919137\n          1      2023-08-21 09:07:34.939137\n          2      2023-08-21 09:07:34.959137\n          3      2023-08-21 09:07:34.979137\nvelocity  0                              29\n          1                              30\n          2                              31\n          3                              32\nName: nstate, dtype: object"
     },
     "execution_count": 28,
     "metadata": {},
     "output_type": "execute_result"
    }
   ],
   "source": [
    "# velocity = pd.Series(len(state) + len(action) + len(reward) + s[:4], name='velocity')\n",
    "# thrust = pd.Series(len(state) + len(action) + len(reward) + s[4:7], name='thrust')\n",
    "# brake = pd.Series(len(state) + len(action) + len(reward) + s[7:], name='brake')\n",
    "# series = [velocity, thrust, brake]\n",
    "# nstate = reduce(\n",
    "#     lambda x, y: pd.merge(x, y, how='outer', left_index=True, right_index=True), series\n",
    "# )\n",
    "# nstate = nstate.stack().swaplevel(0, 1).sort_index()\n",
    "# nstate.name = 'nstate'\n",
    "# nstate\n",
    "# len(nstate)\n",
    "ts_ind = ts + pd.to_timedelta(5, 's') + pd.to_timedelta(np.arange(0, 4 * 20, 20), 'ms')\n",
    "ts_ind\n",
    "ss = np.arange(12) + len(ss) + len(a) + len(reward)\n",
    "a1 = ss[:4]\n",
    "a2 = ss[4:8]\n",
    "a3 = ss[8:]\n",
    "nstate = (\n",
    "    pd.DataFrame({'timestep': ts_ind, 'velocity': a1, 'thrust': a2, 'brake': a3})\n",
    "    # .set_index('timestamp')\n",
    "    .stack()\n",
    "    .swaplevel(0, 1)\n",
    "    .sort_index()\n",
    ")\n",
    "nstate.name = 'nstate'\n",
    "nstate.index.names = ['rows', 'idx']\n",
    "len(nstate)\n",
    "nstate"
   ]
  },
  {
   "cell_type": "code",
   "execution_count": 29,
   "metadata": {
    "ExecuteTime": {
     "end_time": "2023-08-21T01:07:31.318893191Z",
     "start_time": "2023-08-21T01:07:30.267126260Z"
    }
   },
   "outputs": [
    {
     "data": {
      "text/plain": "MultiIndex([(0, 0)],\n           names=['rows', 'idx'])"
     },
     "execution_count": 29,
     "metadata": {},
     "output_type": "execute_result"
    },
    {
     "data": {
      "text/plain": "MultiIndex([(   'brake', 0),\n            (   'brake', 1),\n            (   'brake', 2),\n            (   'brake', 3),\n            (  'thrust', 0),\n            (  'thrust', 1),\n            (  'thrust', 2),\n            (  'thrust', 3),\n            ('timestep', 0),\n            ('timestep', 1),\n            ('timestep', 2),\n            ('timestep', 3),\n            ('velocity', 0),\n            ('velocity', 1),\n            ('velocity', 2),\n            ('velocity', 3)],\n           names=['rows', 'idx'])"
     },
     "execution_count": 29,
     "metadata": {},
     "output_type": "execute_result"
    },
    {
     "data": {
      "text/plain": "MultiIndex([(      'r0', 0),\n            (      'r0', 1),\n            (      'r0', 2),\n            (      'r0', 3),\n            (      'r0', 4),\n            (      'r1', 0),\n            (      'r1', 1),\n            (      'r1', 2),\n            (      'r1', 3),\n            (      'r1', 4),\n            (      'r2', 0),\n            (      'r2', 1),\n            (      'r2', 2),\n            (      'r2', 3),\n            (      'r2', 4),\n            (   'speed', 0),\n            (   'speed', 1),\n            (   'speed', 2),\n            ('throttle', 0),\n            ('throttle', 1),\n            ('throttle', 2),\n            ('throttle', 3),\n            ('throttle', 4),\n            ('timestep', 0),\n            ('timestep', 1),\n            ('timestep', 2)],\n           names=['rows', 'idx'])"
     },
     "execution_count": 29,
     "metadata": {},
     "output_type": "execute_result"
    },
    {
     "data": {
      "text/plain": "MultiIndex([('timestep', 0),\n            (    'work', 0)],\n           names=['rows', 'idx'])"
     },
     "execution_count": 29,
     "metadata": {},
     "output_type": "execute_result"
    },
    {
     "data": {
      "text/plain": "MultiIndex([(   'brake', 0),\n            (   'brake', 1),\n            (   'brake', 2),\n            (   'brake', 3),\n            (  'thrust', 0),\n            (  'thrust', 1),\n            (  'thrust', 2),\n            (  'thrust', 3),\n            ('timestep', 0),\n            ('timestep', 1),\n            ('timestep', 2),\n            ('timestep', 3),\n            ('velocity', 0),\n            ('velocity', 1),\n            ('velocity', 2),\n            ('velocity', 3)],\n           names=['rows', 'idx'])"
     },
     "execution_count": 29,
     "metadata": {},
     "output_type": "execute_result"
    }
   ],
   "source": [
    "timestamp = pd.Series([ts], name='timestamp')\n",
    "timestamp.index = pd.MultiIndex.from_product(\n",
    "    [timestamp.index, [0]], names=['rows', 'idx']\n",
    ")\n",
    "timestamp.index\n",
    "state.index\n",
    "action.index\n",
    "reward.index\n",
    "nstate.index"
   ]
  },
  {
   "cell_type": "code",
   "execution_count": 30,
   "metadata": {
    "ExecuteTime": {
     "end_time": "2023-08-21T01:07:31.319190139Z",
     "start_time": "2023-08-21T01:07:30.267368265Z"
    }
   },
   "outputs": [
    {
     "data": {
      "text/plain": "MultiIndex([('timestamp',         '', 0),\n            (    'state',    'brake', 0),\n            (    'state',    'brake', 1),\n            (    'state',    'brake', 2),\n            (    'state',    'brake', 3),\n            (    'state',   'thrust', 0),\n            (    'state',   'thrust', 1),\n            (    'state',   'thrust', 2),\n            (    'state',   'thrust', 3),\n            (    'state', 'timestep', 0),\n            (    'state', 'timestep', 1),\n            (    'state', 'timestep', 2),\n            (    'state', 'timestep', 3),\n            (    'state', 'velocity', 0),\n            (    'state', 'velocity', 1),\n            (    'state', 'velocity', 2),\n            (    'state', 'velocity', 3),\n            (   'action',       'r0', 0),\n            (   'action',       'r0', 1),\n            (   'action',       'r0', 2),\n            (   'action',       'r0', 3),\n            (   'action',       'r0', 4),\n            (   'action',       'r1', 0),\n            (   'action',       'r1', 1),\n            (   'action',       'r1', 2),\n            (   'action',       'r1', 3),\n            (   'action',       'r1', 4),\n            (   'action',       'r2', 0),\n            (   'action',       'r2', 1),\n            (   'action',       'r2', 2),\n            (   'action',       'r2', 3),\n            (   'action',       'r2', 4),\n            (   'action',    'speed', 0),\n            (   'action',    'speed', 1),\n            (   'action',    'speed', 2),\n            (   'action', 'throttle', 0),\n            (   'action', 'throttle', 1),\n            (   'action', 'throttle', 2),\n            (   'action', 'throttle', 3),\n            (   'action', 'throttle', 4),\n            (   'action', 'timestep', 0),\n            (   'action', 'timestep', 1),\n            (   'action', 'timestep', 2),\n            (   'reward', 'timestep', 0),\n            (   'reward',     'work', 0),\n            (   'nstate',    'brake', 0),\n            (   'nstate',    'brake', 1),\n            (   'nstate',    'brake', 2),\n            (   'nstate',    'brake', 3),\n            (   'nstate',   'thrust', 0),\n            (   'nstate',   'thrust', 1),\n            (   'nstate',   'thrust', 2),\n            (   'nstate',   'thrust', 3),\n            (   'nstate', 'timestep', 0),\n            (   'nstate', 'timestep', 1),\n            (   'nstate', 'timestep', 2),\n            (   'nstate', 'timestep', 3),\n            (   'nstate', 'velocity', 0),\n            (   'nstate', 'velocity', 1),\n            (   'nstate', 'velocity', 2),\n            (   'nstate', 'velocity', 3)],\n           )"
     },
     "execution_count": 30,
     "metadata": {},
     "output_type": "execute_result"
    }
   ],
   "source": [
    "timestamp_index = (timestamp.name, '', 0)\n",
    "# timestamp_index\n",
    "state_index = [(state.name, *i) for i in state.index]\n",
    "# state_index\n",
    "reward_index = [(reward.name, *i) for i in reward.index]\n",
    "# reward_index\n",
    "action_index = [(action.name, *i) for i in action.index]\n",
    "# action_index\n",
    "nstate_index = [(nstate.name, *i) for i in nstate.index]\n",
    "# nstate_index\n",
    "\n",
    "multiindex = pd.MultiIndex.from_tuples(\n",
    "    [timestamp_index, *state_index, *action_index, *reward_index, *nstate_index]\n",
    ")\n",
    "multiindex\n"
   ]
  },
  {
   "cell_type": "code",
   "execution_count": 31,
   "outputs": [
    {
     "data": {
      "text/plain": "MultiIndex([(0, 0)],\n           names=['rows', 'idx'])"
     },
     "execution_count": 31,
     "metadata": {},
     "output_type": "execute_result"
    },
    {
     "data": {
      "text/plain": "array(['2023-08-21T09:07:29.919137000'], dtype='datetime64[ns]')"
     },
     "execution_count": 31,
     "metadata": {},
     "output_type": "execute_result"
    },
    {
     "data": {
      "text/plain": "rows  idx\n0     0     2023-08-21 09:07:29.919137\nName: timestamp, dtype: datetime64[ns]"
     },
     "execution_count": 31,
     "metadata": {},
     "output_type": "execute_result"
    }
   ],
   "source": [
    "timestamp.index\n",
    "timestamp.values\n",
    "timestamp"
   ],
   "metadata": {
    "collapsed": false,
    "ExecuteTime": {
     "end_time": "2023-08-21T01:07:31.319576665Z",
     "start_time": "2023-08-21T01:07:30.267488401Z"
    }
   }
  },
  {
   "cell_type": "code",
   "execution_count": 32,
   "metadata": {
    "ExecuteTime": {
     "end_time": "2023-08-21T01:07:31.319806196Z",
     "start_time": "2023-08-21T01:07:30.267606883Z"
    }
   },
   "outputs": [
    {
     "data": {
      "text/plain": "timestamp            0    2023-08-21 09:07:29.919137\nstate      brake     0                             8\n                     1                             9\n                     2                            10\n                     3                            11\n                                     ...            \nnstate     timestep  3    2023-08-21 09:07:34.979137\n           velocity  0                            29\n                     1                            30\n                     2                            31\n                     3                            32\nLength: 61, dtype: object"
     },
     "execution_count": 32,
     "metadata": {},
     "output_type": "execute_result"
    }
   ],
   "source": [
    "observation_list = [timestamp, state, action, reward, nstate]\n",
    "observation = pd.concat(observation_list)\n",
    "observation.index = multiindex\n",
    "observation\n",
    "# observation.dtype"
   ]
  },
  {
   "cell_type": "code",
   "execution_count": 33,
   "outputs": [
    {
     "data": {
      "text/plain": "array([12., 13., 14., 15., 16., 17., 18., 19., 20., 21., 22., 23., 24.,\n       25., 26.], dtype=float32)"
     },
     "execution_count": 33,
     "metadata": {},
     "output_type": "execute_result"
    },
    {
     "data": {
      "text/plain": "dtype('float32')"
     },
     "execution_count": 33,
     "metadata": {},
     "output_type": "execute_result"
    }
   ],
   "source": [
    "idx = pd.IndexSlice\n",
    "# observation_sorted = observation.sort_index()\n",
    "actions = observation.sort_index().loc[idx['action', action_row_names, :]].values.astype(np.float32)\n",
    "actions\n",
    "actions.dtype"
   ],
   "metadata": {
    "collapsed": false,
    "ExecuteTime": {
     "end_time": "2023-08-21T01:07:31.320106040Z",
     "start_time": "2023-08-21T01:07:30.267764990Z"
    }
   }
  },
  {
   "cell_type": "code",
   "execution_count": 34,
   "outputs": [
    {
     "data": {
      "text/plain": "array([12., 13., 14., 15., 16., 17., 18., 19., 20., 21., 22., 23., 24.,\n       25., 26.], dtype=float32)"
     },
     "execution_count": 34,
     "metadata": {},
     "output_type": "execute_result"
    },
    {
     "name": "stderr",
     "output_type": "stream",
     "text": [
      "2023-08-21 09:07:30.370507: I tensorflow/compiler/xla/stream_executor/cuda/cuda_gpu_executor.cc:996] successful NUMA node read from SysFS had negative value (-1), but there must be at least one NUMA node, so returning NUMA node zero. See more at https://github.com/torvalds/linux/blob/v6.0/Documentation/ABI/testing/sysfs-bus-pci#L344-L355\n",
      "2023-08-21 09:07:31.837997: I tensorflow/compiler/xla/stream_executor/cuda/cuda_gpu_executor.cc:996] successful NUMA node read from SysFS had negative value (-1), but there must be at least one NUMA node, so returning NUMA node zero. See more at https://github.com/torvalds/linux/blob/v6.0/Documentation/ABI/testing/sysfs-bus-pci#L344-L355\n",
      "2023-08-21 09:07:31.838289: I tensorflow/compiler/xla/stream_executor/cuda/cuda_gpu_executor.cc:996] successful NUMA node read from SysFS had negative value (-1), but there must be at least one NUMA node, so returning NUMA node zero. See more at https://github.com/torvalds/linux/blob/v6.0/Documentation/ABI/testing/sysfs-bus-pci#L344-L355\n",
      "2023-08-21 09:07:31.889448: I tensorflow/compiler/xla/stream_executor/cuda/cuda_gpu_executor.cc:996] successful NUMA node read from SysFS had negative value (-1), but there must be at least one NUMA node, so returning NUMA node zero. See more at https://github.com/torvalds/linux/blob/v6.0/Documentation/ABI/testing/sysfs-bus-pci#L344-L355\n",
      "2023-08-21 09:07:31.889696: I tensorflow/compiler/xla/stream_executor/cuda/cuda_gpu_executor.cc:996] successful NUMA node read from SysFS had negative value (-1), but there must be at least one NUMA node, so returning NUMA node zero. See more at https://github.com/torvalds/linux/blob/v6.0/Documentation/ABI/testing/sysfs-bus-pci#L344-L355\n",
      "2023-08-21 09:07:31.889954: I tensorflow/compiler/xla/stream_executor/cuda/cuda_gpu_executor.cc:996] successful NUMA node read from SysFS had negative value (-1), but there must be at least one NUMA node, so returning NUMA node zero. See more at https://github.com/torvalds/linux/blob/v6.0/Documentation/ABI/testing/sysfs-bus-pci#L344-L355\n",
      "2023-08-21 09:07:32.087315: I tensorflow/compiler/xla/stream_executor/cuda/cuda_gpu_executor.cc:996] successful NUMA node read from SysFS had negative value (-1), but there must be at least one NUMA node, so returning NUMA node zero. See more at https://github.com/torvalds/linux/blob/v6.0/Documentation/ABI/testing/sysfs-bus-pci#L344-L355\n",
      "2023-08-21 09:07:32.087599: I tensorflow/compiler/xla/stream_executor/cuda/cuda_gpu_executor.cc:996] successful NUMA node read from SysFS had negative value (-1), but there must be at least one NUMA node, so returning NUMA node zero. See more at https://github.com/torvalds/linux/blob/v6.0/Documentation/ABI/testing/sysfs-bus-pci#L344-L355\n",
      "2023-08-21 09:07:32.087815: I tensorflow/compiler/xla/stream_executor/cuda/cuda_gpu_executor.cc:996] successful NUMA node read from SysFS had negative value (-1), but there must be at least one NUMA node, so returning NUMA node zero. See more at https://github.com/torvalds/linux/blob/v6.0/Documentation/ABI/testing/sysfs-bus-pci#L344-L355\n",
      "2023-08-21 09:07:32.095977: I tensorflow/core/common_runtime/gpu/gpu_device.cc:1635] Created device /job:localhost/replica:0/task:0/device:GPU:0 with 7662 MB memory:  -> device: 0, name: NVIDIA GeForce RTX 3080, pci bus id: 0000:08:00.0, compute capability: 8.6\n"
     ]
    },
    {
     "data": {
      "text/plain": "<tf.Tensor: shape=(1, 1, 15), dtype=float32, numpy=\narray([[[12., 13., 14., 15., 16., 17., 18., 19., 20., 21., 22., 23.,\n         24., 25., 26.]]], dtype=float32)>"
     },
     "execution_count": 34,
     "metadata": {},
     "output_type": "execute_result"
    }
   ],
   "source": [
    "import tensorflow as tf\n",
    "# actions = tf.convert_to_tensor(actions, dtype=tf.float32)\n",
    "actions\n",
    "last_actions = tf.expand_dims(tf.expand_dims(actions, axis=0), axis=0)\n",
    "last_actions"
   ],
   "metadata": {
    "collapsed": false,
    "ExecuteTime": {
     "end_time": "2023-08-21T01:07:32.714293668Z",
     "start_time": "2023-08-21T01:07:30.276398590Z"
    }
   }
  },
  {
   "cell_type": "code",
   "execution_count": 35,
   "outputs": [
    {
     "data": {
      "text/plain": "<tf.Tensor: shape=(1, 1, 12), dtype=float32, numpy=\narray([[[ 0.,  1.,  2.,  3.,  4.,  5.,  6.,  7.,  8.,  9., 10., 11.]]],\n      dtype=float32)>"
     },
     "execution_count": 35,
     "metadata": {},
     "output_type": "execute_result"
    }
   ],
   "source": [
    "states = observation.sort_index().loc[idx['state', ['velocity', 'thrust', 'brake'] ,:]].values.astype(np.float32)\n",
    "states = tf.expand_dims(tf.expand_dims(tf.convert_to_tensor(states, dtype=tf.float32), axis=0),axis=0)\n",
    "states"
   ],
   "metadata": {
    "collapsed": false,
    "ExecuteTime": {
     "end_time": "2023-08-21T01:07:32.714862386Z",
     "start_time": "2023-08-21T01:07:32.426516730Z"
    }
   }
  },
  {
   "cell_type": "code",
   "execution_count": 36,
   "metadata": {
    "ExecuteTime": {
     "end_time": "2023-08-21T01:07:32.715862235Z",
     "start_time": "2023-08-21T01:07:32.431095953Z"
    }
   },
   "outputs": [
    {
     "data": {
      "text/plain": "MultiIndex([('timestamp',         '', 0),\n            (    'state',    'brake', 0),\n            (    'state',    'brake', 1),\n            (    'state',    'brake', 2),\n            (    'state',    'brake', 3),\n            (    'state',   'thrust', 0),\n            (    'state',   'thrust', 1),\n            (    'state',   'thrust', 2),\n            (    'state',   'thrust', 3),\n            (    'state', 'timestep', 0),\n            (    'state', 'timestep', 1),\n            (    'state', 'timestep', 2),\n            (    'state', 'timestep', 3),\n            (    'state', 'velocity', 0),\n            (    'state', 'velocity', 1),\n            (    'state', 'velocity', 2),\n            (    'state', 'velocity', 3),\n            (   'action',       'r0', 0),\n            (   'action',       'r0', 1),\n            (   'action',       'r0', 2),\n            (   'action',       'r0', 3),\n            (   'action',       'r0', 4),\n            (   'action',       'r1', 0),\n            (   'action',       'r1', 1),\n            (   'action',       'r1', 2),\n            (   'action',       'r1', 3),\n            (   'action',       'r1', 4),\n            (   'action',       'r2', 0),\n            (   'action',       'r2', 1),\n            (   'action',       'r2', 2),\n            (   'action',       'r2', 3),\n            (   'action',       'r2', 4),\n            (   'action',    'speed', 0),\n            (   'action',    'speed', 1),\n            (   'action',    'speed', 2),\n            (   'action', 'throttle', 0),\n            (   'action', 'throttle', 1),\n            (   'action', 'throttle', 2),\n            (   'action', 'throttle', 3),\n            (   'action', 'throttle', 4),\n            (   'action', 'timestep', 0),\n            (   'action', 'timestep', 1),\n            (   'action', 'timestep', 2),\n            (   'reward', 'timestep', 0),\n            (   'reward',     'work', 0),\n            (   'nstate',    'brake', 0),\n            (   'nstate',    'brake', 1),\n            (   'nstate',    'brake', 2),\n            (   'nstate',    'brake', 3),\n            (   'nstate',   'thrust', 0),\n            (   'nstate',   'thrust', 1),\n            (   'nstate',   'thrust', 2),\n            (   'nstate',   'thrust', 3),\n            (   'nstate', 'timestep', 0),\n            (   'nstate', 'timestep', 1),\n            (   'nstate', 'timestep', 2),\n            (   'nstate', 'timestep', 3),\n            (   'nstate', 'velocity', 0),\n            (   'nstate', 'velocity', 1),\n            (   'nstate', 'velocity', 2),\n            (   'nstate', 'velocity', 3)],\n           )"
     },
     "execution_count": 36,
     "metadata": {},
     "output_type": "execute_result"
    }
   ],
   "source": [
    "observation.index"
   ]
  },
  {
   "cell_type": "code",
   "execution_count": 37,
   "metadata": {
    "ExecuteTime": {
     "end_time": "2023-08-21T01:07:32.715981249Z",
     "start_time": "2023-08-21T01:07:32.473313858Z"
    }
   },
   "outputs": [],
   "source": [
    "\n",
    "observation0 = observation.copy()\n",
    "observation0.loc['timestamp', '', 0] = ts + pd.Timedelta(1, 'h')\n",
    "observation1 = observation.copy()\n",
    "observation1.loc['timestamp', '', 0] = ts + pd.Timedelta(2, 'h')\n",
    "observation2 = observation.copy()\n",
    "observation2.loc['timestamp', '', 0] = ts + pd.Timedelta(3, 'h')\n",
    "observation3 = observation.copy()\n",
    "observation3.loc['timestamp', '', 0] = ts + pd.Timedelta(4, 'h')\n",
    "observation4 = observation.copy()\n",
    "observation4.loc['timestamp', '', 0] = ts + pd.Timedelta(5, 'h')\n",
    "observation_list = [\n",
    "    observation0,\n",
    "    observation1,\n",
    "    observation2,\n",
    "    observation3,\n",
    "    observation4,\n",
    "]\n"
   ]
  },
  {
   "cell_type": "code",
   "execution_count": 38,
   "metadata": {
    "ExecuteTime": {
     "end_time": "2023-08-21T01:07:32.716787904Z",
     "start_time": "2023-08-21T01:07:32.473455504Z"
    }
   },
   "outputs": [
    {
     "data": {
      "text/plain": "MultiIndex([('timestamp',         '', 0),\n            (    'state',    'brake', 0),\n            (    'state',    'brake', 1),\n            (    'state',    'brake', 2),\n            (    'state',    'brake', 3),\n            (    'state',   'thrust', 0),\n            (    'state',   'thrust', 1),\n            (    'state',   'thrust', 2),\n            (    'state',   'thrust', 3),\n            (    'state', 'timestep', 0),\n            (    'state', 'timestep', 1),\n            (    'state', 'timestep', 2),\n            (    'state', 'timestep', 3),\n            (    'state', 'velocity', 0),\n            (    'state', 'velocity', 1),\n            (    'state', 'velocity', 2),\n            (    'state', 'velocity', 3),\n            (   'action',       'r0', 0),\n            (   'action',       'r0', 1),\n            (   'action',       'r0', 2),\n            (   'action',       'r0', 3),\n            (   'action',       'r0', 4),\n            (   'action',       'r1', 0),\n            (   'action',       'r1', 1),\n            (   'action',       'r1', 2),\n            (   'action',       'r1', 3),\n            (   'action',       'r1', 4),\n            (   'action',       'r2', 0),\n            (   'action',       'r2', 1),\n            (   'action',       'r2', 2),\n            (   'action',       'r2', 3),\n            (   'action',       'r2', 4),\n            (   'action',    'speed', 0),\n            (   'action',    'speed', 1),\n            (   'action',    'speed', 2),\n            (   'action', 'throttle', 0),\n            (   'action', 'throttle', 1),\n            (   'action', 'throttle', 2),\n            (   'action', 'throttle', 3),\n            (   'action', 'throttle', 4),\n            (   'action', 'timestep', 0),\n            (   'action', 'timestep', 1),\n            (   'action', 'timestep', 2),\n            (   'reward', 'timestep', 0),\n            (   'reward',     'work', 0),\n            (   'nstate',    'brake', 0),\n            (   'nstate',    'brake', 1),\n            (   'nstate',    'brake', 2),\n            (   'nstate',    'brake', 3),\n            (   'nstate',   'thrust', 0),\n            (   'nstate',   'thrust', 1),\n            (   'nstate',   'thrust', 2),\n            (   'nstate',   'thrust', 3),\n            (   'nstate', 'timestep', 0),\n            (   'nstate', 'timestep', 1),\n            (   'nstate', 'timestep', 2),\n            (   'nstate', 'timestep', 3),\n            (   'nstate', 'velocity', 0),\n            (   'nstate', 'velocity', 1),\n            (   'nstate', 'velocity', 2),\n            (   'nstate', 'velocity', 3)],\n           names=['qtuple', 'rows', 'idx'])"
     },
     "execution_count": 38,
     "metadata": {},
     "output_type": "execute_result"
    },
    {
     "data": {
      "text/plain": "qtuple                   timestamp state                             \\\nrows                               brake            thrust            \nidx                              0     0  1   2   3      0  1  2  3   \n0       2023-08-21 10:07:29.919137     8  9  10  11      4  5  6  7   \n1       2023-08-21 11:07:29.919137     8  9  10  11      4  5  6  7   \n2       2023-08-21 12:07:29.919137     8  9  10  11      4  5  6  7   \n3       2023-08-21 13:07:29.919137     8  9  10  11      4  5  6  7   \n4       2023-08-21 14:07:29.919137     8  9  10  11      4  5  6  7   \n\nqtuple                              ... nstate      \\\nrows                      timestep  ... thrust       \nidx                              0  ...      2   3   \n0       2023-08-21 09:07:29.919137  ...     35  36   \n1       2023-08-21 09:07:29.919137  ...     35  36   \n2       2023-08-21 09:07:29.919137  ...     35  36   \n3       2023-08-21 09:07:29.919137  ...     35  36   \n4       2023-08-21 09:07:29.919137  ...     35  36   \n\nqtuple                                                          \\\nrows                      timestep                               \nidx                              0                           1   \n0       2023-08-21 09:07:34.919137  2023-08-21 09:07:34.939137   \n1       2023-08-21 09:07:34.919137  2023-08-21 09:07:34.939137   \n2       2023-08-21 09:07:34.919137  2023-08-21 09:07:34.939137   \n3       2023-08-21 09:07:34.919137  2023-08-21 09:07:34.939137   \n4       2023-08-21 09:07:34.919137  2023-08-21 09:07:34.939137   \n\nqtuple                                                                       \\\nrows                                                           velocity       \nidx                              2                           3        0   1   \n0       2023-08-21 09:07:34.959137  2023-08-21 09:07:34.979137       29  30   \n1       2023-08-21 09:07:34.959137  2023-08-21 09:07:34.979137       29  30   \n2       2023-08-21 09:07:34.959137  2023-08-21 09:07:34.979137       29  30   \n3       2023-08-21 09:07:34.959137  2023-08-21 09:07:34.979137       29  30   \n4       2023-08-21 09:07:34.959137  2023-08-21 09:07:34.979137       29  30   \n\nqtuple          \nrows            \nidx      2   3  \n0       31  32  \n1       31  32  \n2       31  32  \n3       31  32  \n4       31  32  \n\n[5 rows x 61 columns]",
      "text/html": "<div>\n<style scoped>\n    .dataframe tbody tr th:only-of-type {\n        vertical-align: middle;\n    }\n\n    .dataframe tbody tr th {\n        vertical-align: top;\n    }\n\n    .dataframe thead tr th {\n        text-align: left;\n    }\n</style>\n<table border=\"1\" class=\"dataframe\">\n  <thead>\n    <tr>\n      <th>qtuple</th>\n      <th>timestamp</th>\n      <th colspan=\"9\" halign=\"left\">state</th>\n      <th>...</th>\n      <th colspan=\"10\" halign=\"left\">nstate</th>\n    </tr>\n    <tr>\n      <th>rows</th>\n      <th></th>\n      <th colspan=\"4\" halign=\"left\">brake</th>\n      <th colspan=\"4\" halign=\"left\">thrust</th>\n      <th>timestep</th>\n      <th>...</th>\n      <th colspan=\"2\" halign=\"left\">thrust</th>\n      <th colspan=\"4\" halign=\"left\">timestep</th>\n      <th colspan=\"4\" halign=\"left\">velocity</th>\n    </tr>\n    <tr>\n      <th>idx</th>\n      <th>0</th>\n      <th>0</th>\n      <th>1</th>\n      <th>2</th>\n      <th>3</th>\n      <th>0</th>\n      <th>1</th>\n      <th>2</th>\n      <th>3</th>\n      <th>0</th>\n      <th>...</th>\n      <th>2</th>\n      <th>3</th>\n      <th>0</th>\n      <th>1</th>\n      <th>2</th>\n      <th>3</th>\n      <th>0</th>\n      <th>1</th>\n      <th>2</th>\n      <th>3</th>\n    </tr>\n  </thead>\n  <tbody>\n    <tr>\n      <th>0</th>\n      <td>2023-08-21 10:07:29.919137</td>\n      <td>8</td>\n      <td>9</td>\n      <td>10</td>\n      <td>11</td>\n      <td>4</td>\n      <td>5</td>\n      <td>6</td>\n      <td>7</td>\n      <td>2023-08-21 09:07:29.919137</td>\n      <td>...</td>\n      <td>35</td>\n      <td>36</td>\n      <td>2023-08-21 09:07:34.919137</td>\n      <td>2023-08-21 09:07:34.939137</td>\n      <td>2023-08-21 09:07:34.959137</td>\n      <td>2023-08-21 09:07:34.979137</td>\n      <td>29</td>\n      <td>30</td>\n      <td>31</td>\n      <td>32</td>\n    </tr>\n    <tr>\n      <th>1</th>\n      <td>2023-08-21 11:07:29.919137</td>\n      <td>8</td>\n      <td>9</td>\n      <td>10</td>\n      <td>11</td>\n      <td>4</td>\n      <td>5</td>\n      <td>6</td>\n      <td>7</td>\n      <td>2023-08-21 09:07:29.919137</td>\n      <td>...</td>\n      <td>35</td>\n      <td>36</td>\n      <td>2023-08-21 09:07:34.919137</td>\n      <td>2023-08-21 09:07:34.939137</td>\n      <td>2023-08-21 09:07:34.959137</td>\n      <td>2023-08-21 09:07:34.979137</td>\n      <td>29</td>\n      <td>30</td>\n      <td>31</td>\n      <td>32</td>\n    </tr>\n    <tr>\n      <th>2</th>\n      <td>2023-08-21 12:07:29.919137</td>\n      <td>8</td>\n      <td>9</td>\n      <td>10</td>\n      <td>11</td>\n      <td>4</td>\n      <td>5</td>\n      <td>6</td>\n      <td>7</td>\n      <td>2023-08-21 09:07:29.919137</td>\n      <td>...</td>\n      <td>35</td>\n      <td>36</td>\n      <td>2023-08-21 09:07:34.919137</td>\n      <td>2023-08-21 09:07:34.939137</td>\n      <td>2023-08-21 09:07:34.959137</td>\n      <td>2023-08-21 09:07:34.979137</td>\n      <td>29</td>\n      <td>30</td>\n      <td>31</td>\n      <td>32</td>\n    </tr>\n    <tr>\n      <th>3</th>\n      <td>2023-08-21 13:07:29.919137</td>\n      <td>8</td>\n      <td>9</td>\n      <td>10</td>\n      <td>11</td>\n      <td>4</td>\n      <td>5</td>\n      <td>6</td>\n      <td>7</td>\n      <td>2023-08-21 09:07:29.919137</td>\n      <td>...</td>\n      <td>35</td>\n      <td>36</td>\n      <td>2023-08-21 09:07:34.919137</td>\n      <td>2023-08-21 09:07:34.939137</td>\n      <td>2023-08-21 09:07:34.959137</td>\n      <td>2023-08-21 09:07:34.979137</td>\n      <td>29</td>\n      <td>30</td>\n      <td>31</td>\n      <td>32</td>\n    </tr>\n    <tr>\n      <th>4</th>\n      <td>2023-08-21 14:07:29.919137</td>\n      <td>8</td>\n      <td>9</td>\n      <td>10</td>\n      <td>11</td>\n      <td>4</td>\n      <td>5</td>\n      <td>6</td>\n      <td>7</td>\n      <td>2023-08-21 09:07:29.919137</td>\n      <td>...</td>\n      <td>35</td>\n      <td>36</td>\n      <td>2023-08-21 09:07:34.919137</td>\n      <td>2023-08-21 09:07:34.939137</td>\n      <td>2023-08-21 09:07:34.959137</td>\n      <td>2023-08-21 09:07:34.979137</td>\n      <td>29</td>\n      <td>30</td>\n      <td>31</td>\n      <td>32</td>\n    </tr>\n  </tbody>\n</table>\n<p>5 rows × 61 columns</p>\n</div>"
     },
     "execution_count": 38,
     "metadata": {},
     "output_type": "execute_result"
    }
   ],
   "source": [
    "\n",
    "dfs_epi = pd.concat(observation_list, axis=1).transpose()\n",
    "dfs_epi.columns.names = ['qtuple', 'rows', 'idx']\n",
    "dfs_epi.columns\n",
    "dfs_epi\n"
   ]
  },
  {
   "cell_type": "code",
   "execution_count": 39,
   "metadata": {
    "ExecuteTime": {
     "end_time": "2023-08-21T01:07:32.758594597Z",
     "start_time": "2023-08-21T01:07:32.473688913Z"
    }
   },
   "outputs": [
    {
     "data": {
      "text/plain": "qtuple                     action                                      ...  \\\nrows                           r0                  r1                  ...   \nidx                             0   1   2   3   4   0   1   2   3   4  ...   \ntimestamp                                                              ...   \n2023-08-21 10:07:29.919137     12  13  14  15  16  17  18  19  20  21  ...   \n2023-08-21 11:07:29.919137     12  13  14  15  16  17  18  19  20  21  ...   \n2023-08-21 12:07:29.919137     12  13  14  15  16  17  18  19  20  21  ...   \n2023-08-21 13:07:29.919137     12  13  14  15  16  17  18  19  20  21  ...   \n2023-08-21 14:07:29.919137     12  13  14  15  16  17  18  19  20  21  ...   \n\nqtuple                      state                                 \\\nrows                       thrust                       timestep   \nidx                             2  3                           0   \ntimestamp                                                          \n2023-08-21 10:07:29.919137      6  7  2023-08-21 09:07:29.919137   \n2023-08-21 11:07:29.919137      6  7  2023-08-21 09:07:29.919137   \n2023-08-21 12:07:29.919137      6  7  2023-08-21 09:07:29.919137   \n2023-08-21 13:07:29.919137      6  7  2023-08-21 09:07:29.919137   \n2023-08-21 14:07:29.919137      6  7  2023-08-21 09:07:29.919137   \n\nqtuple                                                  \\\nrows                                                     \nidx                                                  1   \ntimestamp                                                \n2023-08-21 10:07:29.919137  2023-08-21 09:07:29.939137   \n2023-08-21 11:07:29.919137  2023-08-21 09:07:29.939137   \n2023-08-21 12:07:29.919137  2023-08-21 09:07:29.939137   \n2023-08-21 13:07:29.919137  2023-08-21 09:07:29.939137   \n2023-08-21 14:07:29.919137  2023-08-21 09:07:29.939137   \n\nqtuple                                                  \\\nrows                                                     \nidx                                                  2   \ntimestamp                                                \n2023-08-21 10:07:29.919137  2023-08-21 09:07:29.959137   \n2023-08-21 11:07:29.919137  2023-08-21 09:07:29.959137   \n2023-08-21 12:07:29.919137  2023-08-21 09:07:29.959137   \n2023-08-21 13:07:29.919137  2023-08-21 09:07:29.959137   \n2023-08-21 14:07:29.919137  2023-08-21 09:07:29.959137   \n\nqtuple                                                                    \nrows                                                   velocity           \nidx                                                  3        0  1  2  3  \ntimestamp                                                                 \n2023-08-21 10:07:29.919137  2023-08-21 09:07:29.979137        0  1  2  3  \n2023-08-21 11:07:29.919137  2023-08-21 09:07:29.979137        0  1  2  3  \n2023-08-21 12:07:29.919137  2023-08-21 09:07:29.979137        0  1  2  3  \n2023-08-21 13:07:29.919137  2023-08-21 09:07:29.979137        0  1  2  3  \n2023-08-21 14:07:29.919137  2023-08-21 09:07:29.979137        0  1  2  3  \n\n[5 rows x 60 columns]",
      "text/html": "<div>\n<style scoped>\n    .dataframe tbody tr th:only-of-type {\n        vertical-align: middle;\n    }\n\n    .dataframe tbody tr th {\n        vertical-align: top;\n    }\n\n    .dataframe thead tr th {\n        text-align: left;\n    }\n\n    .dataframe thead tr:last-of-type th {\n        text-align: right;\n    }\n</style>\n<table border=\"1\" class=\"dataframe\">\n  <thead>\n    <tr>\n      <th>qtuple</th>\n      <th colspan=\"10\" halign=\"left\">action</th>\n      <th>...</th>\n      <th colspan=\"10\" halign=\"left\">state</th>\n    </tr>\n    <tr>\n      <th>rows</th>\n      <th colspan=\"5\" halign=\"left\">r0</th>\n      <th colspan=\"5\" halign=\"left\">r1</th>\n      <th>...</th>\n      <th colspan=\"2\" halign=\"left\">thrust</th>\n      <th colspan=\"4\" halign=\"left\">timestep</th>\n      <th colspan=\"4\" halign=\"left\">velocity</th>\n    </tr>\n    <tr>\n      <th>idx</th>\n      <th>0</th>\n      <th>1</th>\n      <th>2</th>\n      <th>3</th>\n      <th>4</th>\n      <th>0</th>\n      <th>1</th>\n      <th>2</th>\n      <th>3</th>\n      <th>4</th>\n      <th>...</th>\n      <th>2</th>\n      <th>3</th>\n      <th>0</th>\n      <th>1</th>\n      <th>2</th>\n      <th>3</th>\n      <th>0</th>\n      <th>1</th>\n      <th>2</th>\n      <th>3</th>\n    </tr>\n    <tr>\n      <th>timestamp</th>\n      <th></th>\n      <th></th>\n      <th></th>\n      <th></th>\n      <th></th>\n      <th></th>\n      <th></th>\n      <th></th>\n      <th></th>\n      <th></th>\n      <th></th>\n      <th></th>\n      <th></th>\n      <th></th>\n      <th></th>\n      <th></th>\n      <th></th>\n      <th></th>\n      <th></th>\n      <th></th>\n      <th></th>\n    </tr>\n  </thead>\n  <tbody>\n    <tr>\n      <th>2023-08-21 10:07:29.919137</th>\n      <td>12</td>\n      <td>13</td>\n      <td>14</td>\n      <td>15</td>\n      <td>16</td>\n      <td>17</td>\n      <td>18</td>\n      <td>19</td>\n      <td>20</td>\n      <td>21</td>\n      <td>...</td>\n      <td>6</td>\n      <td>7</td>\n      <td>2023-08-21 09:07:29.919137</td>\n      <td>2023-08-21 09:07:29.939137</td>\n      <td>2023-08-21 09:07:29.959137</td>\n      <td>2023-08-21 09:07:29.979137</td>\n      <td>0</td>\n      <td>1</td>\n      <td>2</td>\n      <td>3</td>\n    </tr>\n    <tr>\n      <th>2023-08-21 11:07:29.919137</th>\n      <td>12</td>\n      <td>13</td>\n      <td>14</td>\n      <td>15</td>\n      <td>16</td>\n      <td>17</td>\n      <td>18</td>\n      <td>19</td>\n      <td>20</td>\n      <td>21</td>\n      <td>...</td>\n      <td>6</td>\n      <td>7</td>\n      <td>2023-08-21 09:07:29.919137</td>\n      <td>2023-08-21 09:07:29.939137</td>\n      <td>2023-08-21 09:07:29.959137</td>\n      <td>2023-08-21 09:07:29.979137</td>\n      <td>0</td>\n      <td>1</td>\n      <td>2</td>\n      <td>3</td>\n    </tr>\n    <tr>\n      <th>2023-08-21 12:07:29.919137</th>\n      <td>12</td>\n      <td>13</td>\n      <td>14</td>\n      <td>15</td>\n      <td>16</td>\n      <td>17</td>\n      <td>18</td>\n      <td>19</td>\n      <td>20</td>\n      <td>21</td>\n      <td>...</td>\n      <td>6</td>\n      <td>7</td>\n      <td>2023-08-21 09:07:29.919137</td>\n      <td>2023-08-21 09:07:29.939137</td>\n      <td>2023-08-21 09:07:29.959137</td>\n      <td>2023-08-21 09:07:29.979137</td>\n      <td>0</td>\n      <td>1</td>\n      <td>2</td>\n      <td>3</td>\n    </tr>\n    <tr>\n      <th>2023-08-21 13:07:29.919137</th>\n      <td>12</td>\n      <td>13</td>\n      <td>14</td>\n      <td>15</td>\n      <td>16</td>\n      <td>17</td>\n      <td>18</td>\n      <td>19</td>\n      <td>20</td>\n      <td>21</td>\n      <td>...</td>\n      <td>6</td>\n      <td>7</td>\n      <td>2023-08-21 09:07:29.919137</td>\n      <td>2023-08-21 09:07:29.939137</td>\n      <td>2023-08-21 09:07:29.959137</td>\n      <td>2023-08-21 09:07:29.979137</td>\n      <td>0</td>\n      <td>1</td>\n      <td>2</td>\n      <td>3</td>\n    </tr>\n    <tr>\n      <th>2023-08-21 14:07:29.919137</th>\n      <td>12</td>\n      <td>13</td>\n      <td>14</td>\n      <td>15</td>\n      <td>16</td>\n      <td>17</td>\n      <td>18</td>\n      <td>19</td>\n      <td>20</td>\n      <td>21</td>\n      <td>...</td>\n      <td>6</td>\n      <td>7</td>\n      <td>2023-08-21 09:07:29.919137</td>\n      <td>2023-08-21 09:07:29.939137</td>\n      <td>2023-08-21 09:07:29.959137</td>\n      <td>2023-08-21 09:07:29.979137</td>\n      <td>0</td>\n      <td>1</td>\n      <td>2</td>\n      <td>3</td>\n    </tr>\n  </tbody>\n</table>\n<p>5 rows × 60 columns</p>\n</div>"
     },
     "execution_count": 39,
     "metadata": {},
     "output_type": "execute_result"
    }
   ],
   "source": [
    "dfs_episode1 = dfs_epi.copy().sort_index(axis=1)\n",
    "dfs_episode1.set_index(('timestamp', '', 0), inplace=True)\n",
    "dfs_episode1.index.name = 'timestamp'\n",
    "idx = pd.IndexSlice\n",
    "dfs_episode1"
   ]
  },
  {
   "cell_type": "code",
   "execution_count": 40,
   "metadata": {
    "ExecuteTime": {
     "end_time": "2023-08-21T01:07:33.358119498Z",
     "start_time": "2023-08-21T01:07:32.517280869Z"
    }
   },
   "outputs": [
    {
     "ename": "TypeError",
     "evalue": "int() argument must be a string, a bytes-like object or a real number, not 'Timestamp'",
     "output_type": "error",
     "traceback": [
      "\u001B[0;31m---------------------------------------------------------------------------\u001B[0m",
      "\u001B[0;31mTypeError\u001B[0m                                 Traceback (most recent call last)",
      "Cell \u001B[0;32mIn[40], line 3\u001B[0m\n\u001B[1;32m      1\u001B[0m dfs_episode1\u001B[38;5;241m.\u001B[39mloc[:, idx[\u001B[38;5;124m'\u001B[39m\u001B[38;5;124maction\u001B[39m\u001B[38;5;124m'\u001B[39m:\u001B[38;5;124m'\u001B[39m\u001B[38;5;124mstate\u001B[39m\u001B[38;5;124m'\u001B[39m, :, :, :]] \u001B[38;5;241m=\u001B[39m \u001B[43mdfs_episode1\u001B[49m\u001B[38;5;241;43m.\u001B[39;49m\u001B[43mloc\u001B[49m\u001B[43m[\u001B[49m\n\u001B[1;32m      2\u001B[0m \u001B[43m    \u001B[49m\u001B[43m:\u001B[49m\u001B[43m,\u001B[49m\u001B[43m \u001B[49m\u001B[43midx\u001B[49m\u001B[43m[\u001B[49m\u001B[38;5;124;43m'\u001B[39;49m\u001B[38;5;124;43maction\u001B[39;49m\u001B[38;5;124;43m'\u001B[39;49m\u001B[43m:\u001B[49m\u001B[38;5;124;43m'\u001B[39;49m\u001B[38;5;124;43mstate\u001B[39;49m\u001B[38;5;124;43m'\u001B[39;49m\u001B[43m,\u001B[49m\u001B[43m \u001B[49m\u001B[43m:\u001B[49m\u001B[43m,\u001B[49m\u001B[43m \u001B[49m\u001B[43m:\u001B[49m\u001B[43m,\u001B[49m\u001B[43m \u001B[49m\u001B[43m:\u001B[49m\u001B[43m]\u001B[49m\n\u001B[0;32m----> 3\u001B[0m \u001B[43m]\u001B[49m\u001B[38;5;241;43m.\u001B[39;49m\u001B[43mastype\u001B[49m\u001B[43m(\u001B[49m\u001B[38;5;124;43m'\u001B[39;49m\u001B[38;5;124;43mint\u001B[39;49m\u001B[38;5;124;43m'\u001B[39;49m\u001B[43m)\u001B[49m\n\u001B[1;32m      4\u001B[0m dfs_episode1\n\u001B[1;32m      5\u001B[0m dfs_episode1\u001B[38;5;241m.\u001B[39mdtypes\n",
      "File \u001B[0;32m/dpt/micromamba/envs/neos/lib/python3.11/site-packages/pandas/core/generic.py:6532\u001B[0m, in \u001B[0;36mNDFrame.astype\u001B[0;34m(self, dtype, copy, errors)\u001B[0m\n\u001B[1;32m   6528\u001B[0m     results \u001B[38;5;241m=\u001B[39m [ser\u001B[38;5;241m.\u001B[39mastype(dtype, copy\u001B[38;5;241m=\u001B[39mcopy) \u001B[38;5;28;01mfor\u001B[39;00m _, ser \u001B[38;5;129;01min\u001B[39;00m \u001B[38;5;28mself\u001B[39m\u001B[38;5;241m.\u001B[39mitems()]\n\u001B[1;32m   6530\u001B[0m \u001B[38;5;28;01melse\u001B[39;00m:\n\u001B[1;32m   6531\u001B[0m     \u001B[38;5;66;03m# else, only a single dtype is given\u001B[39;00m\n\u001B[0;32m-> 6532\u001B[0m     new_data \u001B[38;5;241m=\u001B[39m \u001B[38;5;28;43mself\u001B[39;49m\u001B[38;5;241;43m.\u001B[39;49m\u001B[43m_mgr\u001B[49m\u001B[38;5;241;43m.\u001B[39;49m\u001B[43mastype\u001B[49m\u001B[43m(\u001B[49m\u001B[43mdtype\u001B[49m\u001B[38;5;241;43m=\u001B[39;49m\u001B[43mdtype\u001B[49m\u001B[43m,\u001B[49m\u001B[43m \u001B[49m\u001B[43mcopy\u001B[49m\u001B[38;5;241;43m=\u001B[39;49m\u001B[43mcopy\u001B[49m\u001B[43m,\u001B[49m\u001B[43m \u001B[49m\u001B[43merrors\u001B[49m\u001B[38;5;241;43m=\u001B[39;49m\u001B[43merrors\u001B[49m\u001B[43m)\u001B[49m\n\u001B[1;32m   6533\u001B[0m     res \u001B[38;5;241m=\u001B[39m \u001B[38;5;28mself\u001B[39m\u001B[38;5;241m.\u001B[39m_constructor_from_mgr(new_data, axes\u001B[38;5;241m=\u001B[39mnew_data\u001B[38;5;241m.\u001B[39maxes)\n\u001B[1;32m   6534\u001B[0m     \u001B[38;5;28;01mreturn\u001B[39;00m res\u001B[38;5;241m.\u001B[39m__finalize__(\u001B[38;5;28mself\u001B[39m, method\u001B[38;5;241m=\u001B[39m\u001B[38;5;124m\"\u001B[39m\u001B[38;5;124mastype\u001B[39m\u001B[38;5;124m\"\u001B[39m)\n",
      "File \u001B[0;32m/dpt/micromamba/envs/neos/lib/python3.11/site-packages/pandas/core/internals/managers.py:414\u001B[0m, in \u001B[0;36mBaseBlockManager.astype\u001B[0;34m(self, dtype, copy, errors)\u001B[0m\n\u001B[1;32m    411\u001B[0m \u001B[38;5;28;01melif\u001B[39;00m using_copy_on_write():\n\u001B[1;32m    412\u001B[0m     copy \u001B[38;5;241m=\u001B[39m \u001B[38;5;28;01mFalse\u001B[39;00m\n\u001B[0;32m--> 414\u001B[0m \u001B[38;5;28;01mreturn\u001B[39;00m \u001B[38;5;28;43mself\u001B[39;49m\u001B[38;5;241;43m.\u001B[39;49m\u001B[43mapply\u001B[49m\u001B[43m(\u001B[49m\n\u001B[1;32m    415\u001B[0m \u001B[43m    \u001B[49m\u001B[38;5;124;43m\"\u001B[39;49m\u001B[38;5;124;43mastype\u001B[39;49m\u001B[38;5;124;43m\"\u001B[39;49m\u001B[43m,\u001B[49m\n\u001B[1;32m    416\u001B[0m \u001B[43m    \u001B[49m\u001B[43mdtype\u001B[49m\u001B[38;5;241;43m=\u001B[39;49m\u001B[43mdtype\u001B[49m\u001B[43m,\u001B[49m\n\u001B[1;32m    417\u001B[0m \u001B[43m    \u001B[49m\u001B[43mcopy\u001B[49m\u001B[38;5;241;43m=\u001B[39;49m\u001B[43mcopy\u001B[49m\u001B[43m,\u001B[49m\n\u001B[1;32m    418\u001B[0m \u001B[43m    \u001B[49m\u001B[43merrors\u001B[49m\u001B[38;5;241;43m=\u001B[39;49m\u001B[43merrors\u001B[49m\u001B[43m,\u001B[49m\n\u001B[1;32m    419\u001B[0m \u001B[43m    \u001B[49m\u001B[43musing_cow\u001B[49m\u001B[38;5;241;43m=\u001B[39;49m\u001B[43musing_copy_on_write\u001B[49m\u001B[43m(\u001B[49m\u001B[43m)\u001B[49m\u001B[43m,\u001B[49m\n\u001B[1;32m    420\u001B[0m \u001B[43m\u001B[49m\u001B[43m)\u001B[49m\n",
      "File \u001B[0;32m/dpt/micromamba/envs/neos/lib/python3.11/site-packages/pandas/core/internals/managers.py:354\u001B[0m, in \u001B[0;36mBaseBlockManager.apply\u001B[0;34m(self, f, align_keys, **kwargs)\u001B[0m\n\u001B[1;32m    352\u001B[0m         applied \u001B[38;5;241m=\u001B[39m b\u001B[38;5;241m.\u001B[39mapply(f, \u001B[38;5;241m*\u001B[39m\u001B[38;5;241m*\u001B[39mkwargs)\n\u001B[1;32m    353\u001B[0m     \u001B[38;5;28;01melse\u001B[39;00m:\n\u001B[0;32m--> 354\u001B[0m         applied \u001B[38;5;241m=\u001B[39m \u001B[38;5;28;43mgetattr\u001B[39;49m\u001B[43m(\u001B[49m\u001B[43mb\u001B[49m\u001B[43m,\u001B[49m\u001B[43m \u001B[49m\u001B[43mf\u001B[49m\u001B[43m)\u001B[49m\u001B[43m(\u001B[49m\u001B[38;5;241;43m*\u001B[39;49m\u001B[38;5;241;43m*\u001B[39;49m\u001B[43mkwargs\u001B[49m\u001B[43m)\u001B[49m\n\u001B[1;32m    355\u001B[0m     result_blocks \u001B[38;5;241m=\u001B[39m extend_blocks(applied, result_blocks)\n\u001B[1;32m    357\u001B[0m out \u001B[38;5;241m=\u001B[39m \u001B[38;5;28mtype\u001B[39m(\u001B[38;5;28mself\u001B[39m)\u001B[38;5;241m.\u001B[39mfrom_blocks(result_blocks, \u001B[38;5;28mself\u001B[39m\u001B[38;5;241m.\u001B[39maxes)\n",
      "File \u001B[0;32m/dpt/micromamba/envs/neos/lib/python3.11/site-packages/pandas/core/internals/blocks.py:593\u001B[0m, in \u001B[0;36mBlock.astype\u001B[0;34m(self, dtype, copy, errors, using_cow)\u001B[0m\n\u001B[1;32m    573\u001B[0m \u001B[38;5;250m\u001B[39m\u001B[38;5;124;03m\"\"\"\u001B[39;00m\n\u001B[1;32m    574\u001B[0m \u001B[38;5;124;03mCoerce to the new dtype.\u001B[39;00m\n\u001B[1;32m    575\u001B[0m \n\u001B[0;32m   (...)\u001B[0m\n\u001B[1;32m    589\u001B[0m \u001B[38;5;124;03mBlock\u001B[39;00m\n\u001B[1;32m    590\u001B[0m \u001B[38;5;124;03m\"\"\"\u001B[39;00m\n\u001B[1;32m    591\u001B[0m values \u001B[38;5;241m=\u001B[39m \u001B[38;5;28mself\u001B[39m\u001B[38;5;241m.\u001B[39mvalues\n\u001B[0;32m--> 593\u001B[0m new_values \u001B[38;5;241m=\u001B[39m \u001B[43mastype_array_safe\u001B[49m\u001B[43m(\u001B[49m\u001B[43mvalues\u001B[49m\u001B[43m,\u001B[49m\u001B[43m \u001B[49m\u001B[43mdtype\u001B[49m\u001B[43m,\u001B[49m\u001B[43m \u001B[49m\u001B[43mcopy\u001B[49m\u001B[38;5;241;43m=\u001B[39;49m\u001B[43mcopy\u001B[49m\u001B[43m,\u001B[49m\u001B[43m \u001B[49m\u001B[43merrors\u001B[49m\u001B[38;5;241;43m=\u001B[39;49m\u001B[43merrors\u001B[49m\u001B[43m)\u001B[49m\n\u001B[1;32m    595\u001B[0m new_values \u001B[38;5;241m=\u001B[39m maybe_coerce_values(new_values)\n\u001B[1;32m    597\u001B[0m refs \u001B[38;5;241m=\u001B[39m \u001B[38;5;28;01mNone\u001B[39;00m\n",
      "File \u001B[0;32m/dpt/micromamba/envs/neos/lib/python3.11/site-packages/pandas/core/dtypes/astype.py:238\u001B[0m, in \u001B[0;36mastype_array_safe\u001B[0;34m(values, dtype, copy, errors)\u001B[0m\n\u001B[1;32m    235\u001B[0m     dtype \u001B[38;5;241m=\u001B[39m dtype\u001B[38;5;241m.\u001B[39mnumpy_dtype\n\u001B[1;32m    237\u001B[0m \u001B[38;5;28;01mtry\u001B[39;00m:\n\u001B[0;32m--> 238\u001B[0m     new_values \u001B[38;5;241m=\u001B[39m \u001B[43mastype_array\u001B[49m\u001B[43m(\u001B[49m\u001B[43mvalues\u001B[49m\u001B[43m,\u001B[49m\u001B[43m \u001B[49m\u001B[43mdtype\u001B[49m\u001B[43m,\u001B[49m\u001B[43m \u001B[49m\u001B[43mcopy\u001B[49m\u001B[38;5;241;43m=\u001B[39;49m\u001B[43mcopy\u001B[49m\u001B[43m)\u001B[49m\n\u001B[1;32m    239\u001B[0m \u001B[38;5;28;01mexcept\u001B[39;00m (\u001B[38;5;167;01mValueError\u001B[39;00m, \u001B[38;5;167;01mTypeError\u001B[39;00m):\n\u001B[1;32m    240\u001B[0m     \u001B[38;5;66;03m# e.g. _astype_nansafe can fail on object-dtype of strings\u001B[39;00m\n\u001B[1;32m    241\u001B[0m     \u001B[38;5;66;03m#  trying to convert to float\u001B[39;00m\n\u001B[1;32m    242\u001B[0m     \u001B[38;5;28;01mif\u001B[39;00m errors \u001B[38;5;241m==\u001B[39m \u001B[38;5;124m\"\u001B[39m\u001B[38;5;124mignore\u001B[39m\u001B[38;5;124m\"\u001B[39m:\n",
      "File \u001B[0;32m/dpt/micromamba/envs/neos/lib/python3.11/site-packages/pandas/core/dtypes/astype.py:183\u001B[0m, in \u001B[0;36mastype_array\u001B[0;34m(values, dtype, copy)\u001B[0m\n\u001B[1;32m    180\u001B[0m     values \u001B[38;5;241m=\u001B[39m values\u001B[38;5;241m.\u001B[39mastype(dtype, copy\u001B[38;5;241m=\u001B[39mcopy)\n\u001B[1;32m    182\u001B[0m \u001B[38;5;28;01melse\u001B[39;00m:\n\u001B[0;32m--> 183\u001B[0m     values \u001B[38;5;241m=\u001B[39m \u001B[43m_astype_nansafe\u001B[49m\u001B[43m(\u001B[49m\u001B[43mvalues\u001B[49m\u001B[43m,\u001B[49m\u001B[43m \u001B[49m\u001B[43mdtype\u001B[49m\u001B[43m,\u001B[49m\u001B[43m \u001B[49m\u001B[43mcopy\u001B[49m\u001B[38;5;241;43m=\u001B[39;49m\u001B[43mcopy\u001B[49m\u001B[43m)\u001B[49m\n\u001B[1;32m    185\u001B[0m \u001B[38;5;66;03m# in pandas we don't store numpy str dtypes, so convert to object\u001B[39;00m\n\u001B[1;32m    186\u001B[0m \u001B[38;5;28;01mif\u001B[39;00m \u001B[38;5;28misinstance\u001B[39m(dtype, np\u001B[38;5;241m.\u001B[39mdtype) \u001B[38;5;129;01mand\u001B[39;00m \u001B[38;5;28missubclass\u001B[39m(values\u001B[38;5;241m.\u001B[39mdtype\u001B[38;5;241m.\u001B[39mtype, \u001B[38;5;28mstr\u001B[39m):\n",
      "File \u001B[0;32m/dpt/micromamba/envs/neos/lib/python3.11/site-packages/pandas/core/dtypes/astype.py:134\u001B[0m, in \u001B[0;36m_astype_nansafe\u001B[0;34m(arr, dtype, copy, skipna)\u001B[0m\n\u001B[1;32m    130\u001B[0m     \u001B[38;5;28;01mraise\u001B[39;00m \u001B[38;5;167;01mValueError\u001B[39;00m(msg)\n\u001B[1;32m    132\u001B[0m \u001B[38;5;28;01mif\u001B[39;00m copy \u001B[38;5;129;01mor\u001B[39;00m arr\u001B[38;5;241m.\u001B[39mdtype \u001B[38;5;241m==\u001B[39m \u001B[38;5;28mobject\u001B[39m \u001B[38;5;129;01mor\u001B[39;00m dtype \u001B[38;5;241m==\u001B[39m \u001B[38;5;28mobject\u001B[39m:\n\u001B[1;32m    133\u001B[0m     \u001B[38;5;66;03m# Explicit copy, or required since NumPy can't view from / to object.\u001B[39;00m\n\u001B[0;32m--> 134\u001B[0m     \u001B[38;5;28;01mreturn\u001B[39;00m \u001B[43marr\u001B[49m\u001B[38;5;241;43m.\u001B[39;49m\u001B[43mastype\u001B[49m\u001B[43m(\u001B[49m\u001B[43mdtype\u001B[49m\u001B[43m,\u001B[49m\u001B[43m \u001B[49m\u001B[43mcopy\u001B[49m\u001B[38;5;241;43m=\u001B[39;49m\u001B[38;5;28;43;01mTrue\u001B[39;49;00m\u001B[43m)\u001B[49m\n\u001B[1;32m    136\u001B[0m \u001B[38;5;28;01mreturn\u001B[39;00m arr\u001B[38;5;241m.\u001B[39mastype(dtype, copy\u001B[38;5;241m=\u001B[39mcopy)\n",
      "\u001B[0;31mTypeError\u001B[0m: int() argument must be a string, a bytes-like object or a real number, not 'Timestamp'"
     ]
    }
   ],
   "source": [
    "dfs_episode1.loc[:, idx['action':'state', :, :, :]] = dfs_episode1.loc[\n",
    "    :, idx['action':'state', :, :, :]\n",
    "].astype('int')\n",
    "dfs_episode1\n",
    "dfs_episode1.dtypes\n",
    "dfs_episode1.columns"
   ]
  },
  {
   "cell_type": "markdown",
   "metadata": {},
   "source": [
    "### Convert columns types to float"
   ]
  },
  {
   "cell_type": "code",
   "execution_count": null,
   "metadata": {
    "ExecuteTime": {
     "start_time": "2023-08-21T01:07:33.185077352Z"
    }
   },
   "outputs": [],
   "source": [
    "dfs_epi\n",
    "dfs_episode = dfs_epi.copy()\n",
    "dfs_episode.index\n",
    "dfs_episode.set_index(('timestamp', '', 0), inplace=True)\n",
    "dfs_episode.sort_index(axis=1, inplace=True)\n",
    "dfs_episode.index\n",
    "dfs_episode\n"
   ]
  },
  {
   "cell_type": "code",
   "execution_count": null,
   "metadata": {
    "ExecuteTime": {
     "start_time": "2023-08-21T01:07:33.185226923Z"
    }
   },
   "outputs": [],
   "source": [
    "dfs_episode.index.name = 'timestamp'\n",
    "idx = pd.IndexSlice\n",
    "\n",
    "# # dfs_episode = dfs_episode.astype({idx['state', 'velocity', :]: 'int'})  # Error unhashable type: 'slice' for dictionary\n",
    "# # sorted_idx = **(idx['state', :, :]:'int')\n",
    "# # sorted_idx\n",
    "# dfs_episode.loc[:, idx['state', ['brake', 'thrust', 'velocity'], :]] = dfs_episode.loc[\n",
    "#     :, idx['state', ['brake', 'thrust', 'velocity'], :]\n",
    "# ].astype(\n",
    "#     'float'\n",
    "# )  # float16 not allowed in parquet\n",
    "#\n",
    "# dfs_episode.loc[:, idx['action', ['r0', 'r1', 'r2'], :]] = dfs_episode.loc[\n",
    "#     :, idx['action', ['r0', 'r1', 'r2'], :]\n",
    "# ].astype(\n",
    "#     'float'\n",
    "# )  # float16 not allowed in parquet\n",
    "# # dfs_episode['action'] = dfs_episode['action'].astype('float')\n",
    "# # dfs_episode['reward'] = dfs_episode['reward'].astype('float')\n",
    "# dfs_episode.loc[:, idx['reward', 'work', 0]] = dfs_episode.loc[\n",
    "#     :, idx['reward', 'work', 0]\n",
    "# ].astype(\n",
    "#     'float'\n",
    "# )  # float16 not allowed in parquet\n",
    "#\n",
    "# # dfs_episode['nstate'] = dfs_episode['nstate'].astype('float')\n",
    "# dfs_episode.loc[:, idx['nstate', ['brake', 'thrust', 'velocity'], :]] = dfs_episode.loc[\n",
    "#     :, idx['nstate', ['brake', 'thrust', 'velocity'], :]\n",
    "# ].astype(\n",
    "#     'float'\n",
    "# )  # float16 not allowed in parquet\n",
    "state_cols_float = [('state', col) for col in ['brake', 'thrust', 'velocity']]\n",
    "action_cols_float = [('action', col) for col in ['r0', 'r1', 'r2', 'speed', 'throttle']]\n",
    "reward_cols_float = [('reward', 'work')]\n",
    "nstate_cols_float = [('nstate', col) for col in ['brake', 'thrust', 'velocity']]\n",
    "for col in action_cols_float + state_cols_float + reward_cols_float + nstate_cols_float:\n",
    "    dfs_episode[col[0], col[1]] = dfs_episode[col[0], col[1]].astype(\n",
    "        'float'\n",
    "    )  # float16 not allowed in parquet\n",
    "dfs_episode\n",
    "dfs_episode.dtypes\n",
    "# dfs_episode.columns\n",
    "# dfs_epi\n",
    "# dfs_episode\n"
   ]
  },
  {
   "cell_type": "markdown",
   "metadata": {},
   "source": [
    "## prepend two levels of index \"vehicle\" and \"driver\" to the DataFrame object"
   ]
  },
  {
   "cell_type": "code",
   "execution_count": null,
   "metadata": {
    "ExecuteTime": {
     "start_time": "2023-08-21T01:07:33.185320419Z"
    }
   },
   "outputs": [],
   "source": [
    "dfs_episode = pd.concat(\n",
    "    [dfs_episode], keys=[drivers_by_id['wang-cheng'].pid], names=['driver']\n",
    ")\n",
    "dfs_episode = pd.concat(\n",
    "    [dfs_episode], keys=[trucks_by_id['VB7'].vid], names=['vehicle']\n",
    ")"
   ]
  },
  {
   "cell_type": "code",
   "execution_count": null,
   "metadata": {
    "ExecuteTime": {
     "start_time": "2023-08-21T01:07:33.185421569Z"
    }
   },
   "outputs": [],
   "source": [
    "dfs_episode.index\n",
    "dfs_episode.columns"
   ]
  },
  {
   "cell_type": "code",
   "execution_count": null,
   "metadata": {
    "ExecuteTime": {
     "start_time": "2023-08-21T01:07:33.185508802Z"
    }
   },
   "outputs": [],
   "source": [
    "\n",
    "# dfs_episode.columns.set_names(\n",
    "#     [\n",
    "#         'qtuple',\n",
    "#         'rows',\n",
    "#         'idx',\n",
    "#     ],\n",
    "#     level=[0, 1, 2],\n",
    "#     inplace=True,\n",
    "# )\n",
    "dfs_episode\n",
    "dfs_episode.dtypes\n"
   ]
  },
  {
   "cell_type": "code",
   "execution_count": null,
   "metadata": {
    "ExecuteTime": {
     "start_time": "2023-08-21T01:07:33.185598551Z"
    }
   },
   "outputs": [],
   "source": [
    "# dfs_episode['state', 'thrust'] = dfs_episode['state', 'thrust'].astype('float')\n",
    "# # dfs_episode.loc[:, idx['state', ['brake', 'thrust', 'velocity'], :]] = dfs_episode.loc[\n",
    "# #     :, idx['state', ['brake', 'thrust', 'velocity'], :]\n",
    "# # ].astype(\n",
    "# #     'float'\n",
    "# # )  # float16 not allowed in parquet\n",
    "# dfs_episode.loc[:, ('state', ['brake', 'thrust', 'velocity'])] = dfs_episode.loc[\n",
    "#     :, ('state', ['brake', 'thrust', 'velocity'])\n",
    "# ].astype(\n",
    "#     'float'\n",
    "# )  # float16 not allowed in parquet\n",
    "# dfs_episode['action', 'r0'] = dfs_episode['action', 'r0'].astype(\n",
    "#     'float'\n",
    "# )  # float16 not allowed in parquet\n",
    "#\n",
    "# dfs_episode.dtypes"
   ]
  },
  {
   "cell_type": "markdown",
   "metadata": {},
   "source": []
  },
  {
   "cell_type": "code",
   "execution_count": null,
   "metadata": {
    "ExecuteTime": {
     "start_time": "2023-08-21T01:07:33.185684422Z"
    }
   },
   "outputs": [],
   "source": [
    "# idx = pd.IndexSlice\n",
    "# dfs_episode.loc[:, idx['state', :, :]] = dfs_episode.loc[:, idx['state', :, :]].astype(\n",
    "#     'int'\n",
    "# )\n",
    "# dfs_episode.loc[:, idx['action', :, :]] = dfs_episode.loc[\n",
    "#     :, idx['action', :, :]\n",
    "# ].astype('float16')\n",
    "# dfs_episode.loc[:, idx['reward', :, :]] = dfs_episode.loc[\n",
    "#     :, idx['reward', :, :]\n",
    "# ].astype('float16')\n",
    "# dfs_episode.loc[:, idx['nstate', :, :]] = dfs_episode.loc[\n",
    "#     :, idx['nstate', :, :]\n",
    "# ].astype('float16')\n",
    "#\n",
    "# vel_1 = dfs_episode[[('state', 'velocity', 1)]]\n",
    "# vel_1.dtypes\n",
    "# vel_1.index\n",
    "# vel_1.values\n",
    "# # type(vel_1)\n",
    "# vel_1.iloc[0]\n",
    "# type(vel_1.iloc[0])\n",
    "# type(vel_1.iloc[0].values[0])"
   ]
  },
  {
   "cell_type": "markdown",
   "metadata": {},
   "source": [
    "## Add a level of index for episode"
   ]
  },
  {
   "cell_type": "code",
   "execution_count": null,
   "metadata": {
    "ExecuteTime": {
     "start_time": "2023-08-21T01:07:33.185910056Z"
    }
   },
   "outputs": [],
   "source": [
    "episodestart = ts - pd.Timedelta(1, 'h')\n",
    "dfs_episode = pd.concat([dfs_episode], keys=[ts], names=['episodestart'])\n",
    "dfs_episode = dfs_episode.swaplevel(1, 0, axis=0)\n",
    "dfs_episode = dfs_episode.swaplevel(1, 2, axis=0)\n",
    "dfs_episode.sort_index(inplace=True)\n",
    "dfs_episode.index\n",
    "dfs_episode.columns\n",
    "dfs_episode"
   ]
  },
  {
   "cell_type": "code",
   "execution_count": null,
   "metadata": {
    "ExecuteTime": {
     "start_time": "2023-08-21T01:07:33.186009553Z"
    }
   },
   "outputs": [],
   "source": [
    "dfs_episode.dtypes"
   ]
  },
  {
   "cell_type": "code",
   "execution_count": null,
   "metadata": {
    "ExecuteTime": {
     "start_time": "2023-08-21T01:07:33.186103089Z"
    }
   },
   "outputs": [],
   "source": [
    "vb7 = trucks_by_id['VB7']"
   ]
  },
  {
   "cell_type": "markdown",
   "metadata": {},
   "source": [
    "### Encoding MultiIndexed DataFrame to documents array of MongoDB record type (nested dictionary)"
   ]
  },
  {
   "cell_type": "code",
   "execution_count": null,
   "metadata": {
    "ExecuteTime": {
     "start_time": "2023-08-21T01:07:33.186194882Z"
    }
   },
   "outputs": [],
   "source": [
    "from eos.data_io.struct import ObservationMetaCloud, StateSpecs, StateUnitCodes, ActionSpecs, RewardSpecs\n",
    "\n",
    "observation_meta = ObservationMetaCloud()\n",
    "#     state_specs=StateSpecs(\n",
    "#         interface='cloud',\n",
    "#         state_unit_codes=StateUnitCodes(\n",
    "#             state_unit_code='kph',\n",
    "#             thrust_unit_code='pct',\n",
    "#             brake_unit_code='pct',\n",
    "#         ),\n",
    "#         state_number =3,\n",
    "#         unit_number_per_state = vb7.state_number_per_state,\n",
    "#     ),\n",
    "#     action_specs=ActionSpecs(\n",
    "#         action_unit_code='nm',\n",
    "#         action_row_number=trucks_by_id['VB7'].torque_table_row_num_flash,\n",
    "#         action_column_number=len(trucks_by_id['VB7'].pedal_scale),\n",
    "#     ),\n",
    "#     reward_specs=RewardSpecs(\n",
    "#         reward_unit_code='wh',\n",
    "#         reward_number=1\n",
    "#     ),\n",
    "#     site=trucks_by_id['VB7'].site,\n",
    "# )\n",
    "observation_meta\n",
    "observation_meta.model_dump()"
   ]
  },
  {
   "cell_type": "code",
   "execution_count": null,
   "metadata": {
    "ExecuteTime": {
     "start_time": "2023-08-21T01:07:33.186326699Z"
    }
   },
   "outputs": [],
   "source": [
    "# dfs_episode\n",
    "#\n",
    "# records = dfs_episode.to_dict('records')\n",
    "# # records\n",
    "# record_nested = [[{key: value} for key, value in record.items()] for record in records]\n",
    "# record_nested\n",
    "# ser = dfs_episode.to_dict('split')\n",
    "# ser"
   ]
  },
  {
   "cell_type": "markdown",
   "metadata": {},
   "source": []
  },
  {
   "cell_type": "code",
   "execution_count": null,
   "metadata": {
    "ExecuteTime": {
     "start_time": "2023-08-21T01:07:33.186428661Z"
    }
   },
   "outputs": [],
   "source": [
    "# dict_nested = [{i: dfs_episode.xs(i).to_dict('index') for i in level} for level in dfs_episode.index.levels]\n",
    "# dfs_index = dfs_episode.to_dict('index')\n",
    "# dfs_index\n",
    "\n",
    "\n",
    "def nest(d: dict) -> dict:\n",
    "    result = {}\n",
    "    for key, value in d.items():\n",
    "        target = result\n",
    "        for k in key[:-1]:\n",
    "            target = target.setdefault(k, {})\n",
    "        target[key[-1]] = value\n",
    "    return result\n",
    "\n",
    "\n",
    "def df_to_nested_dict(df_multi_indexed_col: pd.DataFrame) -> dict:\n",
    "    d = df_multi_indexed_col.to_dict('index')\n",
    "    return {k: nest(v) for k, v in d.items()}\n",
    "\n",
    "def eos_df_to_nested_dict(episode: pd.DataFrame) -> dict:\n",
    "    \"\"\"\n",
    "    Convert a eos dataframe with multi-indexed columns to a nested dictionary\n",
    "    Remove all the levels of the multi-indexed columns except for 'timestamp'\n",
    "    Keep only the timestamp as the single key for the nested dictionary\n",
    "    \"\"\"\n",
    "    dict_nested = df_to_nested_dict(\n",
    "        episode\n",
    "    )  # for multi-indexed dataframe, the index in the first level of the dictionary is still a tuple!\n",
    "    indices_dict = [\n",
    "        {episode.index.names[i]: level for i, level in enumerate(levels)}\n",
    "        for levels in episode.index\n",
    "    ]  # all elements in the array should have the same vehicle, driver, episodestart\n",
    "    single_key_dict = {\n",
    "        idx['timestamp']: dict_nested[key]\n",
    "        for idx, key in zip(indices_dict, dict_nested)\n",
    "    }\n",
    "\n",
    "    return single_key_dict\n",
    "# dfs_episode\n",
    "# dfs_episode.columns\n",
    "\n",
    "# dict1 = {key: nest(value) for key, value in dfs_episode.to_dict('index').items()}\n",
    "# dict1\n",
    "\n",
    "dict_nested = eos_df_to_nested_dict(dfs_episode)\n",
    "dict_nested\n",
    "# dict_nested = {level:\n",
    "#                    {i: dfs_episode.xs(i).to_dict('index') for i in level }\n",
    "#                for level in dfs_episode.index.levels}\n",
    "# dict_nested = {level: dfs_episode.xs(level).to_dict('index')\n",
    "#                for level in dfs_episode.columns.levels[0]}\n",
    "# dict_nested\n",
    "len(dict_nested)"
   ]
  },
  {
   "cell_type": "code",
   "execution_count": null,
   "metadata": {
    "ExecuteTime": {
     "start_time": "2023-08-21T01:07:33.186598219Z"
    }
   },
   "outputs": [],
   "source": [
    "# dict_df_xs = {level: dfs_episode.xs(level) for level in dfs_episode.index.levels[0]}\n",
    "# dict_df_xs['VB7']\n",
    "len(dict_nested)\n",
    "dfs_episode\n",
    "dict_nested"
   ]
  },
  {
   "cell_type": "code",
   "execution_count": null,
   "metadata": {
    "ExecuteTime": {
     "start_time": "2023-08-21T01:07:33.186695703Z"
    }
   },
   "outputs": [],
   "source": [
    "\n",
    "indices = dfs_episode.index\n",
    "indices.name\n",
    "indices.names\n",
    "indices\n",
    "indices_dict = [\n",
    "    {indices.names[i]: level for i, level in enumerate(levels)} for levels in indices\n",
    "]\n",
    "indices_dict\n",
    "len(indices_dict)"
   ]
  },
  {
   "cell_type": "code",
   "execution_count": null,
   "outputs": [],
   "source": [
    "single_key_dict = [(idx['timestamp'], dict_nested[key]) for idx, key in zip(indices_dict, dict_nested)]\n",
    "single_key_dict[3]\n",
    "len(single_key_dict)\n"
   ],
   "metadata": {
    "collapsed": false,
    "ExecuteTime": {
     "start_time": "2023-08-21T01:07:33.187574343Z"
    }
   }
  },
  {
   "cell_type": "markdown",
   "source": [
    "### Decode episode into one document of mongo episode type (nested dictionaries)\n"
   ],
   "metadata": {
    "collapsed": false
   }
  },
  {
   "cell_type": "code",
   "execution_count": null,
   "outputs": [],
   "source": [
    "from dataclasses import asdict\n",
    "episode_meta = indices_dict[0].copy()\n",
    "try:\n",
    "    episode_meta.pop('timestamp')\n",
    "except KeyError:\n",
    "    print(f\"Key 'timestamp' not found\")\n",
    "\n",
    "episode_meta['seq_len'] = len(single_key_dict)\n",
    "print(episode_meta)\n",
    "meta = {**(observation_meta.model_dump()), **episode_meta}\n",
    "meta\n",
    "\n",
    "\n"
   ],
   "metadata": {
    "collapsed": false,
    "ExecuteTime": {
     "start_time": "2023-08-21T01:07:33.188643462Z"
    }
   }
  },
  {
   "cell_type": "code",
   "execution_count": null,
   "outputs": [],
   "source": [
    "single_key_dict = {idx['timestamp']: dict_nested[key] for idx, key in zip(indices_dict, dict_nested)}"
   ],
   "metadata": {
    "collapsed": false,
    "ExecuteTime": {
     "start_time": "2023-08-21T01:07:33.189749470Z"
    }
   }
  },
  {
   "cell_type": "code",
   "execution_count": null,
   "outputs": [],
   "source": [
    "from eos.data_io.struct import DataFrameDoc\n",
    "\n",
    "doc = DataFrameDoc(\n",
    "    timestamp=meta['episodestart'],\n",
    "    meta=meta,\n",
    "    observation=single_key_dict,\n",
    ")\n",
    "doc"
   ],
   "metadata": {
    "collapsed": false,
    "ExecuteTime": {
     "start_time": "2023-08-21T01:07:33.190844417Z"
    }
   }
  },
  {
   "cell_type": "code",
   "execution_count": null,
   "outputs": [],
   "source": [
    "indices_dict[0]"
   ],
   "metadata": {
    "collapsed": false,
    "ExecuteTime": {
     "start_time": "2023-08-21T01:07:33.191917432Z"
    }
   }
  },
  {
   "cell_type": "code",
   "execution_count": null,
   "metadata": {
    "ExecuteTime": {
     "start_time": "2023-08-21T01:07:33.192990819Z"
    }
   },
   "outputs": [],
   "source": [
    "# from dataclasses import asdict\n",
    "#\n",
    "# rows_multi = [\n",
    "#     {\n",
    "#         'timestamp': idx['timestamp'],\n",
    "#         'meta': {**idx, **(asdict(meta))},\n",
    "#         'observation': {key: value for key, value in record.items()},\n",
    "#     }\n",
    "#     for (idx, record) in zip(indices_dict, records)\n",
    "# ]\n",
    "# rows_multi\n"
   ]
  },
  {
   "cell_type": "markdown",
   "source": [
    "### Encode the records of an episode into rows of nested dictionaries"
   ],
   "metadata": {
    "collapsed": false
   }
  },
  {
   "cell_type": "code",
   "execution_count": null,
   "metadata": {
    "ExecuteTime": {
     "start_time": "2023-08-21T01:07:33.194086658Z"
    }
   },
   "outputs": [],
   "source": [
    "from dataclasses import asdict\n",
    "\n",
    "rows = [\n",
    "    {\n",
    "        'timestamp': idx['timestamp'],\n",
    "        'meta': {**idx, **(observation_meta.model_dump())},\n",
    "        'observation': dict_nested[key],\n",
    "    }\n",
    "    for (idx, key) in zip(indices_dict, dict_nested)\n",
    "]\n",
    "rows\n",
    "len(rows)"
   ]
  },
  {
   "cell_type": "markdown",
   "metadata": {},
   "source": [
    "## Decoding MongoDB dict to MultiIndexed DataFrame"
   ]
  },
  {
   "cell_type": "code",
   "execution_count": null,
   "metadata": {
    "ExecuteTime": {
     "start_time": "2023-08-21T01:07:33.195142181Z"
    }
   },
   "outputs": [],
   "source": [
    "df_rows = pd.DataFrame(rows)\n",
    "df_rows\n",
    "df_rows['observation'][0]"
   ]
  },
  {
   "cell_type": "code",
   "execution_count": null,
   "metadata": {
    "ExecuteTime": {
     "start_time": "2023-08-21T01:07:33.196218263Z"
    }
   },
   "outputs": [],
   "source": [
    "dict_observations = [\n",
    "    {key: value for key, value in row.items()} for row in df_rows['observation']\n",
    "]\n",
    "dict_observations"
   ]
  },
  {
   "cell_type": "markdown",
   "metadata": {},
   "source": [
    "### Decoding MongoDB dict to MultiIndexed DataFrame\n",
    "first get the multiindex as tuple from nested keys"
   ]
  },
  {
   "cell_type": "code",
   "execution_count": null,
   "metadata": {
    "ExecuteTime": {
     "start_time": "2023-08-21T01:07:33.197305135Z"
    }
   },
   "outputs": [],
   "source": [
    "\n",
    "dict_observations = {(meta['episodestart'], meta['vehicle'], meta['driver'], meta['timestamp'], key1, key2, key3): value\n",
    "                        for meta, obs in zip(df_rows['meta'],df_rows['observation'])\n",
    "                        for key1, obs1 in obs.items()\n",
    "                        for key2, obs2 in obs1.items()\n",
    "                        for key3, value in obs2.items()}\n",
    "\n",
    "dict_observations\n",
    "len(dict_observations)"
   ]
  },
  {
   "cell_type": "code",
   "execution_count": null,
   "metadata": {
    "ExecuteTime": {
     "start_time": "2023-08-21T01:07:33.198379734Z"
    }
   },
   "outputs": [],
   "source": [
    "ser_decoded = pd.Series(dict_observations)\n",
    "ser_decoded.index.names = ['episodestart', 'vehicle', 'driver', 'timestamp', 'qtuple', 'rows', 'idx']\n",
    "ser_decoded"
   ]
  },
  {
   "cell_type": "code",
   "execution_count": null,
   "metadata": {
    "ExecuteTime": {
     "start_time": "2023-08-21T01:07:33.199468699Z"
    }
   },
   "outputs": [],
   "source": [
    "df_decoded = ser_decoded.unstack(level=['qtuple', 'rows', 'idx'])\n",
    "df_decoded\n",
    "df_decoded.columns\n",
    "# df_decoded.reset_index()"
   ]
  },
  {
   "cell_type": "code",
   "execution_count": null,
   "metadata": {
    "ExecuteTime": {
     "start_time": "2023-08-21T01:07:33.200527238Z"
    }
   },
   "outputs": [],
   "source": [
    "# df_decoded.reset_index()\n",
    "# df_decoded"
   ]
  },
  {
   "cell_type": "code",
   "execution_count": null,
   "metadata": {
    "ExecuteTime": {
     "start_time": "2023-08-21T01:07:33.201592629Z"
    }
   },
   "outputs": [],
   "source": [
    "\n",
    "# ser_action = ser_decoded.loc[('action', ['r0', 'r1', 'r2', 'throttle'])]\n",
    "# df_action = ser_action.unstack(level=[4, 5])\n",
    "idx = pd.IndexSlice\n",
    "df_action = df_decoded.loc[:, idx['action', ['r0', 'r1', 'r2', 'throttle']]]\n",
    "df_action\n",
    "# df_action.set_index(('action', 'throttle'))5369@"
   ]
  },
  {
   "cell_type": "markdown",
   "metadata": {},
   "source": [
    "### Decoding MongoDB dict to MultiIndexed fully described DataFrame"
   ]
  },
  {
   "cell_type": "code",
   "execution_count": null,
   "metadata": {
    "ExecuteTime": {
     "start_time": "2023-08-21T01:07:33.245236183Z"
    }
   },
   "outputs": [],
   "source": [
    "\n",
    "dict_observations_list = [\n",
    "    {\n",
    "        (meta['episodestart'], meta['vehicle'], meta['driver'], meta['timestamp'], key1, key2, key3): value\n",
    "        for key1, obs1 in obs.items()\n",
    "        for key2, obs2 in obs1.items()\n",
    "        for key3, value in obs2.items()\n",
    "    }\n",
    "    for meta, obs in zip(df_rows['meta'],df_rows['observation'])\n",
    "]\n",
    "\n",
    "dict_observations_list[0]\n",
    "len(dict_observations_list)"
   ]
  },
  {
   "cell_type": "code",
   "execution_count": null,
   "metadata": {
    "ExecuteTime": {
     "start_time": "2023-08-21T01:07:33.245354605Z"
    }
   },
   "outputs": [],
   "source": [
    "idx = pd.IndexSlice\n",
    "ser_decoded = pd.Series(dict_observations_list[0])\n",
    "ser_decoded.index.names =[ 'episodestart', 'vehicle', 'driver', 'timestamp', 'qtuple', 'rows', 'idx']\n",
    "# ser_decoded\n",
    "# ser_decoded.index\n",
    "ser_action = ser_decoded.loc[idx[:, :, :, :, 'action', ['r0', 'r1', 'r2', 'throttle']]]\n",
    "# ser_action.index\n",
    "df_action = ser_action.unstack([0,1,2,3,4,5])\n",
    "# df_action.index\n",
    "# df_action.columns\n",
    "multiindex = df_action.columns\n",
    "# multiindex[0]\n",
    "multiindex[-1]\n",
    "# df_action.index.names\n",
    "# multiindex = (*df_action.index.names,('action', 'throttle'))\n",
    "# multiindex\n",
    "df_action.set_index(multiindex[-1], inplace=True)\n",
    "df_action\n",
    "df_action.columns\n",
    "# df_action.set_index(idx[:, :, :, :, 'action', 'throttle'], inplace=True)\n",
    "# df_action = pd.concat([df_action], keys=[('action','throttle')], names=['qtuple', 'rows']).set\n",
    "# multiindex = (df_action.index,'action', 'throttle'))\n",
    "# df_action.set_index(multiindex, inplace=True)\n",
    "# df_action"
   ]
  },
  {
   "cell_type": "code",
   "execution_count": null,
   "metadata": {
    "ExecuteTime": {
     "start_time": "2023-08-21T01:07:33.245449894Z"
    }
   },
   "outputs": [],
   "source": [
    "action_timestep = ser_decoded.loc[idx[:,:,:,:,'action', 'timestep']]\n",
    "action_timestep\n",
    "action_speed = ser_decoded.loc[idx[:,:,:,:,'action', 'speed']]\n",
    "action_speed\n",
    "action_multicol = [\n",
    "    (*column, speed, timestep)\n",
    "    for column, timestep, speed in zip(df_action.columns, action_timestep, action_speed)\n",
    "]\n",
    "action_multicol\n",
    "\n",
    "df_action.columns = pd.MultiIndex.from_tuples(\n",
    "    action_multicol, names=['episodestart','vehicle','driver','timestamp','qtuple', 'rows', 'speed', 'timestep']\n",
    ")\n",
    "df_action\n",
    "df_action.values.flatten()"
   ]
  },
  {
   "cell_type": "code",
   "execution_count": null,
   "metadata": {
    "ExecuteTime": {
     "start_time": "2023-08-21T01:07:33.245540164Z"
    }
   },
   "outputs": [],
   "source": [
    "ser_state = ser_decoded.loc[idx[:,:,:,:,'state', ['brake', 'thrust', 'velocity', 'timestep']]]\n",
    "# ser_state\n",
    "df_state = ser_state.unstack([0,1,2,3,4,5])\n",
    "# df_state = ser_state.unstack(level=[0, 1]).set_index(('state', 'timestep'))\n",
    "# df_state\n",
    "multiindex = df_state.columns\n",
    "multiindex[-1]\n",
    "df_state.set_index(multiindex[-1], inplace=True)\n",
    "# multiindex[idx[:,:,:,:,:,'timestep']]\n",
    "# df_state.set_index(multiindex[idx[:,:,:,:,:,'timestep']], inplace=True)\n",
    "df_state\n",
    "# df_state.values\n"
   ]
  },
  {
   "cell_type": "code",
   "execution_count": null,
   "metadata": {
    "ExecuteTime": {
     "start_time": "2023-08-21T01:07:33.245629061Z"
    }
   },
   "outputs": [],
   "source": [
    "idx = pd.IndexSlice\n",
    "ser_decoded = pd.Series(dict_observations_list[0])\n",
    "ser_decoded.index.names =[ 'episodestart', 'vehicle', 'driver', 'timestamp', 'qtuple', 'rows', 'idx']\n",
    "ser_action = ser_decoded.loc[idx[:, :, :, :, 'action', ['r0', 'r1', 'r2', 'throttle']]]\n",
    "df_action = ser_action.unstack([0,1,2,3,4,5])\n",
    "multiindex = df_action.columns\n",
    "df_action.set_index(multiindex[-1], inplace=True)\n",
    "\n",
    "action_timestep = ser_decoded.loc[idx[:,:,:,:,'action', 'timestep']]\n",
    "action_speed = ser_decoded.loc[idx[:,:,:,:,'action', 'speed']]\n",
    "action_multicol = [\n",
    "    (*column, speed, timestep)\n",
    "    for column, timestep, speed in zip(df_action.columns, action_timestep, action_speed)\n",
    "]\n",
    "df_action.columns = pd.MultiIndex.from_tuples(\n",
    "    action_multicol, names=['episodestart','vehicle','driver','timestamp','qtuple', 'rows', 'speed', 'timestep']\n",
    ")\n",
    "df_action\n",
    "\n",
    "\n",
    "ser_state = ser_decoded.loc[idx[:,:,:,:,'state', ['brake', 'thrust', 'velocity', 'timestep']]]\n",
    "df_state = ser_state.unstack([0,1,2,3,4,5])\n",
    "multiindex = df_state.columns\n",
    "df_state.set_index(multiindex[-1], inplace=True)\n",
    "df_state\n",
    "\n",
    "\n",
    "ser_nstate = ser_decoded.loc[idx[:,:,:,:,'nstate', ['brake', 'thrust', 'velocity', 'timestep']]]\n",
    "df_nstate = ser_nstate.unstack([0,1,2,3,4,5])\n",
    "multiindex = df_nstate.columns\n",
    "df_nstate.set_index(multiindex[-1], inplace=True)\n",
    "df_nstate\n",
    "\n"
   ]
  },
  {
   "cell_type": "code",
   "execution_count": null,
   "metadata": {
    "ExecuteTime": {
     "start_time": "2023-08-21T01:07:33.245717698Z"
    }
   },
   "outputs": [],
   "source": [
    "ser_reward = ser_decoded.loc[idx[:,:,:,:,'reward', ['work', 'timestep']]]\n",
    "# ser_reward = pd.Series(\n",
    "#     data=[ser_reward[('reward', 'work', 0)]],\n",
    "#     index=[ser_reward[('reward', 'timestep', 0)]],\n",
    "#     name='work',\n",
    "# )\n",
    "ser_reward = ser_reward.unstack([0,1,2,3,4,5])\n",
    "multiindex = ser_reward.columns\n",
    "ser_reward.set_index(multiindex[-1], inplace=True)\n",
    "ser_reward"
   ]
  },
  {
   "cell_type": "code",
   "execution_count": null,
   "metadata": {
    "ExecuteTime": {
     "start_time": "2023-08-21T01:07:33.245904849Z"
    }
   },
   "outputs": [],
   "source": [
    "# ser_reward = ser_decoded.loc[idx[:,:,:,:,'reward', ['work', 'timestep']]]\n",
    "# ser_reward = pd.Series(\n",
    "#     data=[ser_reward[multiindex[0]]],\n",
    "#     index=[ser_reward[multiindex[1]]],\n",
    "#     name='work',\n",
    "# )\n",
    "# ser_reward"
   ]
  },
  {
   "cell_type": "code",
   "execution_count": null,
   "metadata": {
    "ExecuteTime": {
     "start_time": "2023-08-21T01:07:33.245971024Z"
    }
   },
   "outputs": [],
   "source": [
    "df_actions = []\n",
    "df_states = []\n",
    "df_nstates = []\n",
    "ser_rewards = []\n",
    "\n",
    "for dict_observations in dict_observations_list:\n",
    "    idx = pd.IndexSlice\n",
    "    ser_decoded = pd.Series(dict_observations)\n",
    "    ser_decoded.index.names =[ 'episodestart', 'vehicle', 'driver', 'timestamp', 'qtuple', 'rows', 'idx']\n",
    "\n",
    "    ser_action = ser_decoded.loc[idx[:, :, :, :, 'action', ['r0', 'r1', 'r2', 'throttle']]]\n",
    "    df_action = ser_action.unstack([0,1,2,3,4,5])\n",
    "    multiindex = df_action.columns\n",
    "    df_action.set_index(multiindex[-1], inplace=True)\n",
    "\n",
    "    action_timestep = ser_decoded.loc[idx[:,:,:,:,'action', 'timestep']]\n",
    "    action_speed = ser_decoded.loc[idx[:,:,:,:,'action', 'speed']]\n",
    "    action_multicol = [\n",
    "        (*column, speed, timestep)\n",
    "        for column, timestep, speed in zip(df_action.columns, action_timestep, action_speed)\n",
    "    ]\n",
    "    df_action.columns = pd.MultiIndex.from_tuples(\n",
    "        action_multicol, names=['episodestart','vehicle','driver','timestamp','qtuple', 'rows', 'speed', 'timestep']\n",
    "    )\n",
    "    # df_action\n",
    "    df_actions.append(df_action)\n",
    "\n",
    "\n",
    "    ser_state = ser_decoded.loc[idx[:,:,:,:,'state', ['brake', 'thrust', 'velocity', 'timestep']]]\n",
    "    df_state = ser_state.unstack([0,1,2,3,4,5])\n",
    "    multiindex = df_state.columns\n",
    "    df_state.set_index(multiindex[-1], inplace=True)\n",
    "    # df_state\n",
    "    df_states.append(df_state)\n",
    "\n",
    "\n",
    "    ser_nstate = ser_decoded.loc[idx[:,:,:,:,'nstate', ['brake', 'thrust', 'velocity', 'timestep']]]\n",
    "    df_nstate = ser_nstate.unstack([0,1,2,3,4,5])\n",
    "    multiindex = df_nstate.columns\n",
    "    df_nstate.set_index(multiindex[-1], inplace=True)\n",
    "    # df_nstate\n",
    "    df_nstates.append(df_nstate)\n",
    "\n",
    "    ser_reward = ser_decoded.loc[idx[:,:,:,:,'reward', ['work', 'timestep']]]\n",
    "    ser_reward = ser_reward.unstack([0,1,2,3,4,5])\n",
    "    multiindex = ser_reward.columns\n",
    "    ser_reward.set_index(multiindex[-1], inplace=True)\n",
    "    # ser_reward\n",
    "    ser_rewards.append(ser_reward)\n"
   ]
  },
  {
   "cell_type": "markdown",
   "metadata": {},
   "source": [
    "### simply concatenate the pandas dataframes leads to confusion\n",
    "please see the following.\n"
   ]
  },
  {
   "cell_type": "code",
   "execution_count": null,
   "metadata": {
    "ExecuteTime": {
     "start_time": "2023-08-21T01:07:33.246035244Z"
    }
   },
   "outputs": [],
   "source": [
    "df_actions_all = pd.concat(df_actions)\n",
    "df_actions_all"
   ]
  },
  {
   "cell_type": "markdown",
   "metadata": {},
   "source": [
    "### the following is the correct way to extract columns, index and values from the pandas dataframes\n",
    "\n",
    "and stack them into numpy arrays for further analysis"
   ]
  },
  {
   "cell_type": "code",
   "execution_count": null,
   "metadata": {
    "ExecuteTime": {
     "start_time": "2023-08-21T01:07:33.246099285Z"
    }
   },
   "outputs": [],
   "source": [
    "npa_action_columns_list = [df_action.columns for df_action in df_actions]\n",
    "# npa_action_columns_list\n",
    "npa_action_indices_list = [df_action.index for df_action in df_actions]\n",
    "# npa_action_indices_list\n",
    "npa_state_columns_list = [df_state.columns for df_state in df_states]\n",
    "npa_state_indices_list = [df_state.index for df_state in df_states]\n",
    "npa_nstate_columns_list = [df_nstate.columns for df_nstate in df_nstates]\n",
    "npa_nstate_indices_list = [df_nstate.index for df_nstate in df_nstates]\n",
    "npa_reward_columns_list = [ser_reward.columns for ser_reward in ser_rewards]\n",
    "npa_reward_indices_list = [ser_reward.index for ser_reward in ser_rewards]"
   ]
  },
  {
   "cell_type": "code",
   "execution_count": null,
   "metadata": {
    "ExecuteTime": {
     "start_time": "2023-08-21T01:07:33.246162874Z"
    }
   },
   "outputs": [],
   "source": [
    "npa_action_columns_list[0]\n",
    "npa_action_indices_list[0]\n",
    "ts_array = []\n",
    "for columns in npa_action_columns_list:\n",
    "    timestep = columns.get_level_values('timestep')\n",
    "    ts_array.append(timestep)\n",
    "    # print(timestep)\n",
    "    # print(npa_action_columns_list[0].loc[idx[:,:,:,timestep,:,:], :])\n",
    "    # print(npa_action_indices_list[0].loc[idx[:,:,:,timestep,:,:], :])\n",
    "\n",
    "ts_array = pd.DataFrame(np.stack(ts_array).T)\n",
    "ts_array\n",
    "ts_array.describe()\n",
    "# ts_array.average()"
   ]
  },
  {
   "cell_type": "code",
   "execution_count": null,
   "metadata": {
    "ExecuteTime": {
     "start_time": "2023-08-21T01:07:33.246227355Z"
    }
   },
   "outputs": [],
   "source": [
    "npa_reward_columns_list[0]\n",
    "npa_reward_indices_list[0]"
   ]
  },
  {
   "cell_type": "code",
   "execution_count": null,
   "metadata": {
    "ExecuteTime": {
     "start_time": "2023-08-21T01:07:33.246291135Z"
    }
   },
   "outputs": [],
   "source": [
    "df_states[0]\n",
    "df_states[0].values.flatten()\n",
    "df_states[0].loc[:, idx[:,:,:,:,'state',['velocity','thrust','brake']]] ## keep the order of input\n",
    "df_states[0].loc[:, idx[:,:,:,:,'state',['velocity','thrust','brake']]].values.flatten()\n",
    "# df_actions[0]\n",
    "# df_actions[0].values.flatten()"
   ]
  },
  {
   "cell_type": "code",
   "execution_count": null,
   "metadata": {
    "ExecuteTime": {
     "start_time": "2023-08-21T01:07:33.246354584Z"
    }
   },
   "outputs": [],
   "source": [
    "npa_states_list = [df_state.loc[:,idx[:,:,:,:,'state',['velocity', 'thrust', 'brake']]].values.T.flatten() for df_state in df_states]  # transpose T is necessary for column-wise stacking and flatten\n",
    "npa_states = np.stack(npa_states_list).astype('float')\n",
    "npa_states\n",
    "\n",
    "\n",
    "npa_actions_list = [df_action.loc[:, idx[:,:,:,:,'action',['r0', 'r1', 'r2']]].values.T.flatten() for df_action in df_actions]\n",
    "npa_actions = np.stack(npa_actions_list).astype('float')\n",
    "npa_actions\n",
    "\n",
    "npa_rewards_list = [ser_reward.values.T.flatten() for ser_reward in ser_rewards]\n",
    "npa_rewards = np.stack(npa_rewards_list).astype('float')\n",
    "npa_rewards\n",
    "\n",
    "npa_nstates_list = [df_nstate.loc[:,idx[:,:,:,:,'nstate', ['velocity', 'thrust', 'brake']]].values.T.flatten() for df_nstate in df_nstates]\n",
    "npa_nstates = np.stack(npa_nstates_list).astype('float')\n",
    "npa_nstates\n",
    "\n",
    "# np.concatenate(df_actions.values)"
   ]
  },
  {
   "cell_type": "code",
   "execution_count": null,
   "outputs": [],
   "source": [
    "type(npa_states)\n",
    "npa_states\n"
   ],
   "metadata": {
    "collapsed": false,
    "ExecuteTime": {
     "start_time": "2023-08-21T01:07:33.246417723Z"
    }
   }
  },
  {
   "cell_type": "code",
   "execution_count": null,
   "metadata": {
    "ExecuteTime": {
     "start_time": "2023-08-21T01:07:33.246480511Z"
    }
   },
   "outputs": [],
   "source": [
    "npa_actions"
   ]
  },
  {
   "cell_type": "code",
   "execution_count": null,
   "outputs": [],
   "source": [
    "npa_nstates"
   ],
   "metadata": {
    "collapsed": false,
    "ExecuteTime": {
     "start_time": "2023-08-21T01:07:33.246546395Z"
    }
   }
  },
  {
   "cell_type": "code",
   "execution_count": null,
   "outputs": [],
   "source": [
    "npa_rewards"
   ],
   "metadata": {
    "collapsed": false,
    "ExecuteTime": {
     "start_time": "2023-08-21T01:07:33.246616216Z"
    }
   }
  },
  {
   "cell_type": "code",
   "execution_count": null,
   "metadata": {
    "ExecuteTime": {
     "start_time": "2023-08-21T01:07:33.246680487Z"
    }
   },
   "outputs": [],
   "source": [
    "# df_action = ser_action.unstack(level=[0, 1]).set_index(('action', 'throttle'))\n",
    "# action_timestep = ser_decoded.loc[('action', 'timestep')]\n",
    "# action_speed = ser_decoded.loc[('action', 'speed')]\n",
    "#\n",
    "# action_multicol = [\n",
    "#     (*column, speed, timestep)\n",
    "#     for column, timestep, speed in zip(df_action.columns, action_timestep, action_speed)\n",
    "# ]\n",
    "# df_action.columns = pd.MultiIndex.from_tuples(\n",
    "#     action_multicol, names=['qtuple', 'rows', 'speed', 'timestep']\n",
    "# )\n",
    "# df_action\n",
    "# df_action.values.flatten()\n",
    "#\n",
    "# ser_state = ser_decoded.loc[:, idx['state', ['brake', 'thrust', 'velocity', 'timestep']]]\n",
    "# # ser_state\n",
    "# df_state = ser_state.unstack(level=[0, 1]).set_index(('state', 'timestep'))\n",
    "# df_state\n",
    "#\n",
    "# df_state.values\n",
    "#\n",
    "# ser_nstate = ser_decoded.loc[:, idx['nstate', ['brake', 'thrust', 'velocity', 'timestep']]]\n",
    "# # ser_state\n",
    "# df_nstate = ser_nstate.unstack(level=[0, 1]).set_index(('nstate', 'timestep'))\n",
    "# df_nstate\n",
    "#\n",
    "# ser_reward = ser_decoded.loc[:, idx['reward', ['work', 'timestep']]]\n",
    "# ser_reward = pd.Series(\n",
    "#     data=[ser_reward[('reward', 'work', 0)]],\n",
    "#     index=[ser_reward[('reward', 'timestep', 0)]],\n",
    "#     name='work',\n",
    "# )\n",
    "# ser_reward"
   ]
  },
  {
   "cell_type": "code",
   "execution_count": null,
   "metadata": {
    "ExecuteTime": {
     "start_time": "2023-08-21T01:07:33.246839305Z"
    }
   },
   "outputs": [],
   "source": [
    "\n",
    "\n",
    "# ser_decoded = pd.Series(dict_observations)\n",
    "# ser_action = ser_decoded.loc[('action', ['r0', 'r1', 'r2', 'throttle'])]\n",
    "# df_action = ser_action.unstack(level=[0, 1]).set_index(('action', 'throttle'))\n",
    "# action_timestep = ser_decoded.loc[('action', 'timestep')]\n",
    "# action_speed = ser_decoded.loc[('action', 'speed')]\n",
    "#\n",
    "# action_multicol = [\n",
    "#     (*column, speed, timestep)\n",
    "#     for column, timestep, speed in zip(df_action.columns, action_timestep, action_speed)\n",
    "# ]\n",
    "# df_action.columns = pd.MultiIndex.from_tuples(\n",
    "#     action_multicol, names=['qtuple', 'rows', 'speed', 'timestep']\n",
    "# )\n",
    "# df_action\n",
    "# df_action.values.flatten()\n",
    "#\n",
    "# ser_state = ser_decoded.loc[('state', ['brake', 'thrust', 'velocity', 'timestep'])]\n",
    "# # ser_state\n",
    "# df_state = ser_state.unstack(level=[0, 1]).set_index(('state', 'timestep'))\n",
    "# df_state\n",
    "#\n",
    "# df_state.values\n",
    "#\n",
    "# ser_nstate = ser_decoded.loc[('nstate', ['brake', 'thrust', 'velocity', 'timestep'])]\n",
    "# # ser_state\n",
    "# df_nstate = ser_nstate.unstack(level=[0, 1]).set_index(('nstate', 'timestep'))\n",
    "# df_nstate\n",
    "#\n",
    "# ser_reward = ser_decoded.loc[('reward', ['work', 'timestep'])]\n",
    "# ser_reward = pd.Series(\n",
    "#     data=[ser_reward[('reward', 'work', 0)]],\n",
    "#     index=[ser_reward[('reward', 'timestep', 0)]],\n",
    "#     name='work',\n",
    "# )\n",
    "# ser_reward\n"
   ]
  },
  {
   "cell_type": "markdown",
   "source": [
    "## Encoding sampled multiple episodes from Mongo episode documents to multiindexed DataFrame"
   ],
   "metadata": {
    "collapsed": false
   }
  },
  {
   "cell_type": "markdown",
   "source": [
    "### generate mutliple episodes of mongo episode docs"
   ],
   "metadata": {
    "collapsed": false
   }
  },
  {
   "cell_type": "code",
   "execution_count": null,
   "outputs": [],
   "source": [
    "dfs_episode"
   ],
   "metadata": {
    "collapsed": false,
    "ExecuteTime": {
     "start_time": "2023-08-21T01:07:33.246904708Z"
    }
   }
  },
  {
   "cell_type": "markdown",
   "source": [
    "## create epsiode with different lengths"
   ],
   "metadata": {
    "collapsed": false
   }
  },
  {
   "cell_type": "code",
   "execution_count": null,
   "outputs": [],
   "source": [
    "\n",
    "dfs_episodex = dfs_episode.copy()\n",
    "dfs_episodex.index = dfs_episodex.index.set_levels([episodestart], level='episodestart')\n",
    "dfs_episodex.index = dfs_episodex.index.set_levels(\n",
    "    [[trucks_by_id['VB4'].vid], [drivers_by_id['li-changlong'].pid]],\n",
    "    level=['vehicle', 'driver'],\n",
    "    verify_integrity=False,\n",
    ")\n",
    "dfs_episodex\n",
    "ts_index = dfs_episodex.index.unique(level='timestamp')\n",
    "\n",
    "idx_num = len(ts_index)\n",
    "drop_num = np.random.randint(low=1, high=idx_num-1)\n",
    "ts_index_to_drop = np.random.choice(ts_index, drop_num,replace=False)\n",
    "ts_index_to_drop\n",
    "dfs_zigzag =dfs_episodex.drop(index=ts_index_to_drop, level='timestamp')\n",
    "dfs_zigzag"
   ],
   "metadata": {
    "collapsed": false,
    "ExecuteTime": {
     "start_time": "2023-08-21T01:07:33.246968217Z"
    }
   }
  },
  {
   "cell_type": "code",
   "execution_count": null,
   "outputs": [],
   "source": [],
   "metadata": {
    "collapsed": false,
    "ExecuteTime": {
     "start_time": "2023-08-21T01:07:33.247031236Z"
    }
   }
  },
  {
   "cell_type": "code",
   "execution_count": null,
   "outputs": [],
   "source": [
    "ts_new = pd.to_datetime((datetime.now()))\n",
    "ts_new\n",
    "episodestart = ts_new - pd.Timedelta(2, 'd')\n",
    "episodestart\n",
    "\n",
    "dfs_episode0 = dfs_episode.copy()\n",
    "dfs_episode0.index = dfs_episode0.index.set_levels([episodestart], level='episodestart')\n",
    "dfs_episode0.index = dfs_episode0.index.set_levels(\n",
    "    [[trucks_by_id['VB7'].vid], [drivers_by_id['zheng-longfei'].pid]],\n",
    "    level=['vehicle', 'driver'],\n",
    "    verify_integrity=False,\n",
    ")\n",
    "ts_index = dfs_episode0.index.unique(level='timestamp')\n",
    "idx_num = len(ts_index)\n",
    "drop_num = np.random.randint(low=1, high=idx_num-1)\n",
    "ts_index_to_drop = np.random.choice(ts_index, drop_num,replace=False)\n",
    "dfs_episode0 =dfs_episode0.drop(index=ts_index_to_drop, level='timestamp')\n",
    "\n",
    "dfs_episode1 = dfs_episode.copy()\n",
    "dfs_episode1.index = dfs_episode1.index.set_levels(\n",
    "    [episodestart - pd.Timedelta(3, 'd')], level='episodestart'\n",
    ")\n",
    "dfs_episode1.index = dfs_episode1.index.set_levels(\n",
    "    [[trucks_by_id['MP73'].vid], [drivers_by_id['wang-cheng'].pid]],\n",
    "    level=['vehicle', 'driver'],\n",
    "    verify_integrity=False,\n",
    ")\n",
    "ts_index = dfs_episode1.index.unique(level='timestamp')\n",
    "idx_num = len(ts_index)\n",
    "drop_num = np.random.randint(low=1, high=idx_num-1)\n",
    "ts_index_to_drop = np.random.choice(ts_index, drop_num,replace=False)\n",
    "dfs_episode1 =dfs_episode1.drop(index=ts_index_to_drop, level='timestamp')\n",
    "\n",
    "dfs_episode2 = dfs_episode.copy()\n",
    "dfs_episode2.index = dfs_episode2.index.set_levels(\n",
    "    [episodestart - pd.Timedelta(4, 'd')], level='episodestart'\n",
    ")\n",
    "dfs_episode2.index = dfs_episode2.index.set_levels(\n",
    "    [[trucks_by_id['VB7'].vid], [drivers_by_id['wang-cheng'].pid]],\n",
    "    level=['vehicle', 'driver'],\n",
    "    verify_integrity=False,\n",
    ")\n",
    "ts_index = dfs_episode2.index.unique(level='timestamp')\n",
    "idx_num = len(ts_index)\n",
    "drop_num = np.random.randint(low=1, high=idx_num-1)\n",
    "ts_index_to_drop = np.random.choice(ts_index, drop_num,replace=False)\n",
    "dfs_episode2 =dfs_episode2.drop(index=ts_index_to_drop, level='timestamp')\n",
    "\n",
    "dfs_episode3 = dfs_episode.copy()\n",
    "dfs_episode3.index = dfs_episode3.index.set_levels(\n",
    "    [episodestart - pd.Timedelta(5, 'd')], level='episodestart'\n",
    ")\n",
    "dfs_episode3.index = dfs_episode3.index.set_levels(\n",
    "    [[trucks_by_id['MP73'].vid], [drivers_by_id['zheng-longfei'].pid]],\n",
    "    level=['vehicle', 'driver'],\n",
    "    verify_integrity=False,\n",
    ")\n",
    "\n",
    "ts_index = dfs_episode3.index.unique(level='timestamp')\n",
    "idx_num = len(ts_index)\n",
    "drop_num = np.random.randint(low=1, high=idx_num-1)\n",
    "ts_index_to_drop = np.random.choice(ts_index, drop_num,replace=False)\n",
    "dfs_episode3 =dfs_episode3.drop(index=ts_index_to_drop, level='timestamp')\n",
    "dfs_episode3"
   ],
   "metadata": {
    "collapsed": false,
    "ExecuteTime": {
     "start_time": "2023-08-21T01:07:33.247095216Z"
    }
   }
  },
  {
   "cell_type": "code",
   "execution_count": null,
   "outputs": [],
   "source": [
    "from functools import reduce\n",
    "\n",
    "episodes = [dfs_episode, dfs_episode0, dfs_episode1, dfs_episode2, dfs_episode3]\n",
    "try:\n",
    "    dfs_episode_all = reduce(\n",
    "        lambda left, right,: pd.concat([left, right], axis=0), episodes\n",
    "    )\n",
    "except Exception as e:\n",
    "    print(e)\n",
    "# dfs_episode_all.sort_index(inplace=True)\n",
    "# dfs_episode_all = dfs_episode_all.swaplevel(1, 0, axis=0)\n",
    "# dfs_episode_all = dfs_episode_all.swaplevel(1, 2, axis=0)\n",
    "dfs_episode_all.sort_index(inplace=True)\n",
    "dfs_episode_all = dfs_episode_all[['state', 'action', 'reward', 'nstate']]\n",
    "display('dfs_episode_all')\n",
    "dfs_episode_all.index\n",
    "dfs_episode_all.columns"
   ],
   "metadata": {
    "collapsed": false,
    "ExecuteTime": {
     "start_time": "2023-08-21T01:07:33.247158685Z"
    }
   }
  },
  {
   "cell_type": "code",
   "execution_count": null,
   "outputs": [],
   "source": [
    "docs = []\n",
    "for episode in episodes:\n",
    "    dict_nested = eos_df_to_nested_dict(episode)\n",
    "    indices_dict = [\n",
    "        {indices.names[i]: level for i, level in enumerate(levels)} for levels in episode.index\n",
    "    ]\n",
    "    single_key_dict = {idx['timestamp']: dict_nested[key] for idx, key in zip(indices_dict, dict_nested)}\n",
    "\n",
    "    episode_meta = indices_dict[0].copy()\n",
    "    try:\n",
    "        episode_meta.pop('timestamp')\n",
    "    except KeyError:\n",
    "        print(f\"Key 'timestamp' not found\")\n",
    "\n",
    "    episode_meta['seq_len'] = len(single_key_dict)\n",
    "\n",
    "    meta = {**(observation_meta.model_dump()), **episode_meta}\n",
    "\n",
    "    doc = DataFrameDoc(timestamp=meta['episodestart'], meta=meta, observation=single_key_dict,)\n",
    "    docs.append(doc)\n",
    "\n",
    "docs"
   ],
   "metadata": {
    "collapsed": false,
    "ExecuteTime": {
     "start_time": "2023-08-21T01:07:33.247220932Z"
    }
   }
  },
  {
   "cell_type": "markdown",
   "source": [
    "### encode multiple episodes of mongo documents to DataFrames"
   ],
   "metadata": {
    "collapsed": false
   }
  },
  {
   "cell_type": "code",
   "execution_count": null,
   "outputs": [],
   "source": [
    "df_docs = pd.DataFrame(docs)\n",
    "df_docs"
   ],
   "metadata": {
    "collapsed": false,
    "ExecuteTime": {
     "start_time": "2023-08-21T01:07:33.247284672Z"
    }
   }
  },
  {
   "cell_type": "code",
   "execution_count": null,
   "outputs": [],
   "source": [
    "dict_observations = [\n",
    "    {key: value for key, value in row.items()} for row in df_docs['observation']\n",
    "]\n",
    "dict_observations"
   ],
   "metadata": {
    "collapsed": false,
    "ExecuteTime": {
     "start_time": "2023-08-21T01:07:33.247346849Z"
    }
   }
  },
  {
   "cell_type": "markdown",
   "source": [
    "### decoding observations (episodes)"
   ],
   "metadata": {
    "collapsed": false
   }
  },
  {
   "cell_type": "code",
   "execution_count": null,
   "outputs": [],
   "source": [
    "dict_observations = {(meta['vehicle'], meta['driver'], meta['episodestart'], key1, key2, key3, key4): value\n",
    "                        for meta, obs in zip(df_docs['meta'],df_docs['observation'])\n",
    "                        for key1, obs1 in obs.items()\n",
    "                        for key2, obs2 in obs1.items()\n",
    "                        for key3, obs3 in obs2.items()\n",
    "                        for key4, value in obs3.items()}\n",
    "\n",
    "dict_observations\n",
    "len(dict_observations)"
   ],
   "metadata": {
    "collapsed": false,
    "ExecuteTime": {
     "start_time": "2023-08-21T01:07:33.247409797Z"
    }
   }
  },
  {
   "cell_type": "code",
   "execution_count": null,
   "outputs": [],
   "source": [
    "ser_decoded = pd.Series(dict_observations)\n",
    "ser_decoded.index.names = ['vehicle', 'driver','episodestart', 'timestamp', 'qtuple', 'rows', 'idx']\n",
    "ser_decoded\n",
    "df_decoded = ser_decoded.unstack(level=['qtuple', 'rows', 'idx'])\n",
    "df_decoded"
   ],
   "metadata": {
    "collapsed": false,
    "ExecuteTime": {
     "start_time": "2023-08-21T01:07:33.247472825Z"
    }
   }
  },
  {
   "cell_type": "code",
   "execution_count": null,
   "outputs": [],
   "source": [
    "episodestart_index = df_decoded.index.unique(level='episodestart')\n",
    "# rewards.values\n",
    "episodestart_index\n",
    "\n",
    "df_rewards = df_decoded['reward','work']\n",
    "# rewards.index.get_level_values('episodestart')\n",
    "idx = pd.IndexSlice\n",
    "np_r_n_t = [ df_rewards.loc[idx[:,:,ep_start, :]].values.tolist()   for ep_start in episodestart_index]\n",
    "# np_r_n_t = [ rewards.loc[:,:,ep_start].values.tolist()   for ep_start in episodestart_index]\n",
    "np_r_n_t\n",
    "np_r_n_t[0]"
   ],
   "metadata": {
    "collapsed": false,
    "ExecuteTime": {
     "start_time": "2023-08-21T01:07:33.247537507Z"
    }
   }
  },
  {
   "cell_type": "code",
   "execution_count": null,
   "outputs": [],
   "source": [
    "df_rewards.loc[:,:,episodestart_index[0]]"
   ],
   "metadata": {
    "collapsed": false,
    "ExecuteTime": {
     "start_time": "2023-08-21T01:07:33.247601647Z"
    }
   }
  },
  {
   "cell_type": "code",
   "execution_count": null,
   "outputs": [],
   "source": [
    "from keras.utils import pad_sequences\n",
    "\n",
    "r_n_t = pad_sequences(np_r_n_t, padding='post', dtype='float32', value=-10000.0)\n",
    "r_n_t\n",
    "r_n_t.shape"
   ],
   "metadata": {
    "collapsed": false,
    "ExecuteTime": {
     "start_time": "2023-08-21T01:07:33.247665337Z"
    }
   }
  },
  {
   "cell_type": "code",
   "execution_count": null,
   "outputs": [],
   "source": [
    "\n",
    "idx = pd.IndexSlice\n",
    "states = df_decoded.loc[:, idx['state',['velocity', 'thrust', 'brake']]]\n",
    "states"
   ],
   "metadata": {
    "collapsed": false,
    "ExecuteTime": {
     "start_time": "2023-08-21T01:07:33.247796954Z"
    }
   }
  },
  {
   "cell_type": "code",
   "execution_count": null,
   "outputs": [],
   "source": [
    "np_s_n_t = [states.loc[idx[:,:,ep_start, :]].values.tolist() \n",
    "            for ep_start in episodestart_index]\n",
    "s_n_t = pad_sequences(np_s_n_t, padding='post', dtype='float32', value=-10000.0)\n",
    "print(s_n_t)\n",
    "s_n_t.shape\n"
   ],
   "metadata": {
    "collapsed": false,
    "ExecuteTime": {
     "start_time": "2023-08-21T01:07:33.247862187Z"
    }
   }
  },
  {
   "cell_type": "code",
   "execution_count": null,
   "outputs": [],
   "source": [
    "torque_table_row_names = ['r0', 'r1', 'r2']\n",
    "actions = df_decoded.loc[:, idx['action', torque_table_row_names]]\n",
    "np_a_n_t = [actions.loc[idx[:,:,ep_start, :]].values.tolist() for ep_start in episodestart_index]\n",
    "a_n_t = pad_sequences(np_a_n_t, padding='post', dtype='float32', value=-10000.0)\n",
    "print(a_n_t)\n",
    "a_n_t.shape\n"
   ],
   "metadata": {
    "collapsed": false,
    "ExecuteTime": {
     "start_time": "2023-08-21T01:07:33.247927299Z"
    }
   }
  },
  {
   "cell_type": "code",
   "execution_count": null,
   "outputs": [],
   "source": [
    "s_n_t.shape\n",
    "a_n_t.shape\n",
    "s_n_t\n",
    "a_n_t"
   ],
   "metadata": {
    "collapsed": false,
    "ExecuteTime": {
     "start_time": "2023-08-21T01:07:33.247990758Z"
    }
   }
  },
  {
   "cell_type": "code",
   "execution_count": null,
   "outputs": [],
   "source": [
    "idx = pd.IndexSlice\n",
    "nstates = df_decoded.loc[:, idx['nstate',['velocity', 'thrust', 'brake']]]\n",
    "print(nstates)\n",
    "np_ns_n_t = [nstates.loc[idx[:,:,ep_start, :]].values.tolist() \n",
    "            for ep_start in episodestart_index]\n",
    "ns_n_t = pad_sequences(np_ns_n_t, padding='post', dtype='float32', value=-10000.0)\n",
    "print(ns_n_t)\n",
    "ns_n_t.shape\n"
   ],
   "metadata": {
    "collapsed": false,
    "ExecuteTime": {
     "start_time": "2023-08-21T01:07:33.248054518Z"
    }
   }
  },
  {
   "cell_type": "code",
   "execution_count": null,
   "outputs": [],
   "source": [
    "s_n_t_ = s_n_t[:,1:, :]\n",
    "s_n_t_.shape\n",
    "s_n_t_\n",
    "a_n_t_ = a_n_t[:,:-1, :]\n",
    "a_n_t_.shape\n",
    "a_n_t_\n",
    "\n",
    "h_n_t = np.concatenate((s_n_t_, a_n_t_), axis=2)\n",
    "h_n_t.shape\n",
    "h_n_t"
   ],
   "metadata": {
    "collapsed": false,
    "ExecuteTime": {
     "start_time": "2023-08-21T01:07:33.248118158Z"
    }
   }
  },
  {
   "cell_type": "markdown",
   "source": [
    "# split batches into trucated sequences for TBPTT"
   ],
   "metadata": {
    "collapsed": false
   }
  },
  {
   "cell_type": "code",
   "execution_count": null,
   "outputs": [],
   "source": [
    "obs_n_t = zip(s_n_t, a_n_t, r_n_t, ns_n_t)\n",
    "type(obs_n_t)"
   ],
   "metadata": {
    "collapsed": false,
    "ExecuteTime": {
     "start_time": "2023-08-21T01:07:33.248181146Z"
    }
   }
  },
  {
   "cell_type": "code",
   "execution_count": null,
   "outputs": [],
   "source": [
    "s_n_t\n",
    "s_n_t.shape"
   ],
   "metadata": {
    "collapsed": false,
    "ExecuteTime": {
     "start_time": "2023-08-21T01:07:33.248243513Z"
    }
   }
  },
  {
   "cell_type": "code",
   "execution_count": null,
   "outputs": [],
   "source": [
    "split_num = s_n_t.shape[1]//2+1\n",
    "print(f'split_num: {split_num}')\n",
    "s_n_t_splits = np.array_split(s_n_t,split_num, axis=1)\n",
    "len(s_n_t_splits)\n",
    "s_n_t_splits[0]\n",
    "s_n_t_splits[1]\n",
    "s_n_t_splits[2]"
   ],
   "metadata": {
    "collapsed": false,
    "ExecuteTime": {
     "start_time": "2023-08-21T01:07:33.248306953Z"
    }
   }
  },
  {
   "cell_type": "code",
   "execution_count": null,
   "outputs": [],
   "source": [
    "split_num = s_n_t.shape[1]//2+1\n",
    "print(f'split_num: {split_num}')\n",
    "\n",
    "for i, batch_t in enumerate(zip(np.array_split(s_n_t,split_num, axis=1),\n",
    "                   np.array_split(a_n_t,split_num, axis=1),\n",
    "                   np.array_split(r_n_t,split_num, axis=1),\n",
    "                   np.array_split(ns_n_t,split_num, axis=1))):\n",
    "    s_n_t_b, a_n_t_b, r_n_t_b, ns_n_t_b = batch_t\n",
    "    print(f'batch number: {i}')\n",
    "    print(f's_n_t_b: {s_n_t_b}')\n",
    "    print(f'a_n_t_b: {a_n_t_b}')\n",
    "    print(f'r_n_t_b: {r_n_t_b}')\n",
    "    print(f'ns_n_t_b: {ns_n_t_b}')"
   ],
   "metadata": {
    "collapsed": false,
    "ExecuteTime": {
     "start_time": "2023-08-21T01:07:33.248381022Z"
    }
   }
  }
 ],
 "metadata": {
  "kernelspec": {
   "display_name": "Python 3 (ipykernel)",
   "language": "python",
   "name": "python3"
  },
  "language_info": {
   "codemirror_mode": {
    "name": "ipython",
    "version": 3
   },
   "file_extension": ".py",
   "mimetype": "text/x-python",
   "name": "python",
   "nbconvert_exporter": "python",
   "pygments_lexer": "ipython3",
   "version": "3.10.11"
  }
 },
 "nbformat": 4,
 "nbformat_minor": 2
}
