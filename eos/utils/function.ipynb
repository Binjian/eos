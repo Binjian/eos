{
 "cells": [
  {
   "cell_type": "markdown",
   "metadata": {
    "id": "ISubpr_SSsiM",
    "pycharm": {
     "name": "#%% md\n"
    }
   },
   "source": [
    "##### Copyright 2020 The TensorFlow Authors.\n"
   ]
  },
  {
   "cell_type": "code",
   "execution_count": 1,
   "metadata": {
    "cellView": "form",
    "id": "3jTMb1dySr3V",
    "pycharm": {
     "name": "#%%\n"
    }
   },
   "outputs": [],
   "source": [
    "#@title Licensed under the Apache License, Version 2.0 (the \"License\");\n",
    "# you may not use this file except in compliance with the License.\n",
    "# You may obtain a copy of the License at\n",
    "#\n",
    "# https://www.apache.org/licenses/LICENSE-2.0\n",
    "#\n",
    "# Unless required by applicable law or agreed to in writing, software\n",
    "# distributed under the License is distributed on an \"AS IS\" BASIS,\n",
    "# WITHOUT WARRANTIES OR CONDITIONS OF ANY KIND, either express or implied.\n",
    "# See the License for the specific language governing permissions and\n",
    "# limitations under the License."
   ]
  },
  {
   "cell_type": "markdown",
   "metadata": {
    "id": "6DWfyNThSziV",
    "pycharm": {
     "name": "#%% md\n"
    }
   },
   "source": [
    "# Better performance with tf.function\n",
    "\n",
    "<table class=\"tfo-notebook-buttons\" align=\"left\">\n",
    "  <td>\n",
    "    <a target=\"_blank\" href=\"https://www.tensorflow.org/guide/function\"><img src=\"https://www.tensorflow.org/images/tf_logo_32px.png\" />View on TensorFlow.org</a>\n",
    "  </td>\n",
    "  <td>\n",
    "    <a target=\"_blank\" href=\"https://colab.research.google.com/github/tensorflow/docs/blob/master/site/en/guide/function.ipynb\"><img src=\"https://www.tensorflow.org/images/colab_logo_32px.png\" />Run in Google Colab</a>\n",
    "  </td>\n",
    "  <td>\n",
    "    <a target=\"_blank\" href=\"https://github.com/tensorflow/docs/blob/master/site/en/guide/function.ipynb\"><img src=\"https://www.tensorflow.org/images/GitHub-Mark-32px.png\" />View source on GitHub</a>\n",
    "  </td>\n",
    "  <td>\n",
    "    <a href=\"https://storage.googleapis.com/tensorflow_docs/docs/site/en/guide/function.ipynb\"><img src=\"https://www.tensorflow.org/images/download_logo_32px.png\" />Download notebook</a>\n",
    "  </td>\n",
    "</table>"
   ]
  },
  {
   "cell_type": "markdown",
   "metadata": {
    "id": "J122XQYG7W6w",
    "pycharm": {
     "name": "#%% md\n"
    }
   },
   "source": [
    "In TensorFlow 2, [eager execution](eager.ipynb) is turned on by default. The user interface is intuitive and flexible (running one-off operations is much easier and faster), but this can come at the expense of performance and deployability.\n",
    "\n",
    "You can use `tf.function` to make graphs out of your programs. It is a transformation tool that creates Python-independent dataflow graphs out of your Python code. This will help you create performant and portable models, and it is required to use `SavedModel`.\n",
    "\n",
    "This guide will help you conceptualize how `tf.function` works under the hood, so you can use it effectively.\n",
    "\n",
    "The main takeaways and recommendations are:\n",
    "\n",
    "- Debug in eager mode, then decorate with `@tf.function`.\n",
    "- Don't rely on Python side effects like object mutation or list appends.\n",
    "- `tf.function` works best with TensorFlow ops; NumPy and Python calls are converted to constants.\n"
   ]
  },
  {
   "cell_type": "markdown",
   "metadata": {
    "id": "SjvqpgepHJPd",
    "pycharm": {
     "name": "#%% md\n"
    }
   },
   "source": [
    "## Setup"
   ]
  },
  {
   "cell_type": "code",
   "execution_count": 2,
   "metadata": {
    "colab": {
     "base_uri": "https://localhost:8080/",
     "height": 36
    },
    "id": "otIdN1TS8N7S",
    "outputId": "d3effd9b-5bb4-4b79-9cb6-abb7b38b7db6",
    "pycharm": {
     "name": "#%%\n"
    }
   },
   "outputs": [
    {
     "data": {
      "text/plain": [
       "'2.9.1'"
      ]
     },
     "execution_count": 2,
     "metadata": {},
     "output_type": "execute_result"
    }
   ],
   "source": [
    "import tensorflow as tf\n",
    "tf.__version__"
   ]
  },
  {
   "cell_type": "markdown",
   "metadata": {
    "id": "I0xDjO4SHLUD",
    "pycharm": {
     "name": "#%% md\n"
    }
   },
   "source": [
    "Define a helper function to demonstrate the kinds of errors you might encounter:"
   ]
  },
  {
   "cell_type": "code",
   "execution_count": 3,
   "metadata": {
    "id": "D25apou9IOXa",
    "pycharm": {
     "name": "#%%\n"
    }
   },
   "outputs": [],
   "source": [
    "import traceback\n",
    "import contextlib\n",
    "\n",
    "# Some helper code to demonstrate the kinds of errors you might encounter.\n",
    "@contextlib.contextmanager\n",
    "def assert_raises(error_class):\n",
    "  try:\n",
    "    yield\n",
    "  except error_class as e:\n",
    "    print('Caught expected exception \\n  {}:'.format(error_class))\n",
    "    traceback.print_exc(limit=2)\n",
    "  except Exception as e:\n",
    "    raise e\n",
    "  else:\n",
    "    raise Exception('Expected {} to be raised but no error was raised!'.format(\n",
    "        error_class))"
   ]
  },
  {
   "cell_type": "markdown",
   "metadata": {
    "id": "WPSfepzTHThq",
    "pycharm": {
     "name": "#%% md\n"
    }
   },
   "source": [
    "## Basics"
   ]
  },
  {
   "cell_type": "markdown",
   "metadata": {
    "id": "CNwYTIJ8r56W",
    "pycharm": {
     "name": "#%% md\n"
    }
   },
   "source": [
    "### Usage\n",
    "\n",
    "A `Function` you define (for example by applying the `@tf.function` decorator) is just like a core TensorFlow operation: You can execute it eagerly; you can compute gradients; and so on."
   ]
  },
  {
   "cell_type": "code",
   "execution_count": 4,
   "metadata": {
    "colab": {
     "base_uri": "https://localhost:8080/"
    },
    "id": "SbtT1-Wm70F2",
    "outputId": "b726fed0-f5c5-4f04-b720-4edd4533b780",
    "pycharm": {
     "name": "#%%\n"
    }
   },
   "outputs": [
    {
     "name": "stderr",
     "output_type": "stream",
     "text": [
      "2022-07-14 16:46:40.951381: I tensorflow/stream_executor/cuda/cuda_gpu_executor.cc:975] successful NUMA node read from SysFS had negative value (-1), but there must be at least one NUMA node, so returning NUMA node zero\n",
      "2022-07-14 16:46:40.978411: I tensorflow/stream_executor/cuda/cuda_gpu_executor.cc:975] successful NUMA node read from SysFS had negative value (-1), but there must be at least one NUMA node, so returning NUMA node zero\n",
      "2022-07-14 16:46:40.978572: I tensorflow/stream_executor/cuda/cuda_gpu_executor.cc:975] successful NUMA node read from SysFS had negative value (-1), but there must be at least one NUMA node, so returning NUMA node zero\n",
      "2022-07-14 16:46:41.000237: I tensorflow/core/platform/cpu_feature_guard.cc:193] This TensorFlow binary is optimized with oneAPI Deep Neural Network Library (oneDNN) to use the following CPU instructions in performance-critical operations:  AVX2 FMA\n",
      "To enable them in other operations, rebuild TensorFlow with the appropriate compiler flags.\n",
      "2022-07-14 16:46:41.001956: I tensorflow/stream_executor/cuda/cuda_gpu_executor.cc:975] successful NUMA node read from SysFS had negative value (-1), but there must be at least one NUMA node, so returning NUMA node zero\n",
      "2022-07-14 16:46:41.002073: I tensorflow/stream_executor/cuda/cuda_gpu_executor.cc:975] successful NUMA node read from SysFS had negative value (-1), but there must be at least one NUMA node, so returning NUMA node zero\n",
      "2022-07-14 16:46:41.002171: I tensorflow/stream_executor/cuda/cuda_gpu_executor.cc:975] successful NUMA node read from SysFS had negative value (-1), but there must be at least one NUMA node, so returning NUMA node zero\n",
      "2022-07-14 16:46:41.503645: I tensorflow/stream_executor/cuda/cuda_gpu_executor.cc:975] successful NUMA node read from SysFS had negative value (-1), but there must be at least one NUMA node, so returning NUMA node zero\n",
      "2022-07-14 16:46:41.503787: I tensorflow/stream_executor/cuda/cuda_gpu_executor.cc:975] successful NUMA node read from SysFS had negative value (-1), but there must be at least one NUMA node, so returning NUMA node zero\n",
      "2022-07-14 16:46:41.503897: I tensorflow/stream_executor/cuda/cuda_gpu_executor.cc:975] successful NUMA node read from SysFS had negative value (-1), but there must be at least one NUMA node, so returning NUMA node zero\n",
      "2022-07-14 16:46:41.503990: I tensorflow/core/common_runtime/gpu/gpu_device.cc:1532] Created device /job:localhost/replica:0/task:0/device:GPU:0 with 7537 MB memory:  -> device: 0, name: NVIDIA GeForce RTX 3080, pci bus id: 0000:08:00.0, compute capability: 8.6\n"
     ]
    },
    {
     "data": {
      "text/plain": [
       "<tf.Tensor: shape=(2, 2), dtype=float32, numpy=\n",
       "array([[2., 2.],\n",
       "       [2., 2.]], dtype=float32)>"
      ]
     },
     "execution_count": 4,
     "metadata": {},
     "output_type": "execute_result"
    }
   ],
   "source": [
    "@tf.function  # The decorator converts `add` into a `Function`.\n",
    "def add(a, b):\n",
    "  return a + b\n",
    "\n",
    "add(tf.ones([2, 2]), tf.ones([2, 2]))  #  [[2., 2.], [2., 2.]]"
   ]
  },
  {
   "cell_type": "code",
   "execution_count": 5,
   "metadata": {
    "colab": {
     "base_uri": "https://localhost:8080/"
    },
    "id": "uP-zUelB8DbX",
    "outputId": "495cc199-01eb-4b1a-9ceb-e341fc796792",
    "pycharm": {
     "name": "#%%\n"
    }
   },
   "outputs": [
    {
     "data": {
      "text/plain": [
       "<tf.Tensor: shape=(), dtype=float32, numpy=1.0>"
      ]
     },
     "execution_count": 5,
     "metadata": {},
     "output_type": "execute_result"
    }
   ],
   "source": [
    "v = tf.Variable(1.0)\n",
    "with tf.GradientTape() as tape:\n",
    "  result = add(v, 1.0)\n",
    "tape.gradient(result, v)"
   ]
  },
  {
   "cell_type": "markdown",
   "metadata": {
    "id": "ocWZvqrmHnmX",
    "pycharm": {
     "name": "#%% md\n"
    }
   },
   "source": [
    "You can use `Function`s inside other `Function`s."
   ]
  },
  {
   "cell_type": "code",
   "execution_count": 6,
   "metadata": {
    "colab": {
     "base_uri": "https://localhost:8080/"
    },
    "id": "l5qRjdbBVdU6",
    "outputId": "62c62698-84a8-4bee-af7d-9414d7769108",
    "pycharm": {
     "name": "#%%\n"
    }
   },
   "outputs": [
    {
     "name": "stderr",
     "output_type": "stream",
     "text": [
      "2022-07-14 16:46:42.507024: I tensorflow/stream_executor/cuda/cuda_blas.cc:1786] TensorFloat-32 will be used for the matrix multiplication. This will only be logged once.\n"
     ]
    },
    {
     "data": {
      "text/plain": [
       "<tf.Tensor: shape=(3, 2), dtype=float32, numpy=\n",
       "array([[3., 3.],\n",
       "       [3., 3.],\n",
       "       [3., 3.]], dtype=float32)>"
      ]
     },
     "execution_count": 6,
     "metadata": {},
     "output_type": "execute_result"
    }
   ],
   "source": [
    "@tf.function\n",
    "def dense_layer(x, w, b):\n",
    "  return add(tf.matmul(x, w), b)\n",
    "\n",
    "dense_layer(tf.ones([3, 2]), tf.ones([2, 2]), tf.ones([2]))"
   ]
  },
  {
   "cell_type": "markdown",
   "metadata": {
    "id": "piBhz7gYsHqU",
    "pycharm": {
     "name": "#%% md\n"
    }
   },
   "source": [
    "`Function`s can be faster than eager code, especially for graphs with many small ops. But for graphs with a few expensive ops (like convolutions), you may not see much speedup.\n"
   ]
  },
  {
   "cell_type": "code",
   "execution_count": 7,
   "metadata": {
    "colab": {
     "base_uri": "https://localhost:8080/"
    },
    "id": "zuXt4wRysI03",
    "outputId": "415cf3df-bbf5-40a3-c185-54864d05c058",
    "pycharm": {
     "name": "#%%\n"
    }
   },
   "outputs": [
    {
     "name": "stderr",
     "output_type": "stream",
     "text": [
      "2022-07-14 16:46:42.655607: I tensorflow/stream_executor/cuda/cuda_dnn.cc:384] Loaded cuDNN version 8401\n"
     ]
    },
    {
     "name": "stdout",
     "output_type": "stream",
     "text": [
      "Eager conv: 0.00258865999057889\n",
      "Function conv: 0.003592824039515108\n",
      "Note how there's not much difference in performance for convolutions\n"
     ]
    },
    {
     "name": "stderr",
     "output_type": "stream",
     "text": [
      "2022-07-14 16:46:43.776717: I tensorflow/core/platform/default/subprocess.cc:304] Start cannot spawn child process: No such file or directory\n"
     ]
    }
   ],
   "source": [
    "import timeit\n",
    "conv_layer = tf.keras.layers.Conv2D(100, 3)\n",
    "\n",
    "@tf.function\n",
    "def conv_fn(image):\n",
    "  return conv_layer(image)\n",
    "\n",
    "image = tf.zeros([1, 200, 200, 100])\n",
    "# Warm up\n",
    "conv_layer(image); conv_fn(image)\n",
    "print(\"Eager conv:\", timeit.timeit(lambda: conv_layer(image), number=10))\n",
    "print(\"Function conv:\", timeit.timeit(lambda: conv_fn(image), number=10))\n",
    "print(\"Note how there's not much difference in performance for convolutions\")\n"
   ]
  },
  {
   "cell_type": "markdown",
   "metadata": {
    "id": "uZ4Do2AV80cO",
    "pycharm": {
     "name": "#%% md\n"
    }
   },
   "source": [
    "### Tracing\n",
    "\n",
    "This section exposes how `Function` works under the hood, including implementation details *which may change in the future*. However, once you understand why and when tracing happens, it's much easier to use `tf.function` effectively!"
   ]
  },
  {
   "cell_type": "markdown",
   "metadata": {
    "id": "nhpUtRqsXoyM",
    "pycharm": {
     "name": "#%% md\n"
    }
   },
   "source": [
    "#### What is \"tracing\"?\n",
    "\n",
    "A `Function` runs your program in a [TensorFlow Graph](https://www.tensorflow.org/guide/intro_to_graphs#what_are_graphs). However, a `tf.Graph` cannot represent all the things that you'd write in an eager TensorFlow program. For instance, Python supports polymorphism, but `tf.Graph` requires its inputs to have a specified data type and dimension. Or you may perform side tasks like reading command-line arguments, raising an error, or working with a more complex Python object; none of these things can run in a `tf.Graph`.\n",
    "\n",
    "`Function` bridges this gap by separating your code in two stages:\n",
    "\n",
    "  1)  In the first stage, referred to as \"**tracing**\", `Function` creates a new `tf.Graph`. Python code runs normally, but all TensorFlow operations (like adding two Tensors) are *deferred*: they are captured by the `tf.Graph` and not run.\n",
    "\n",
    "  2) In the second stage, a `tf.Graph` which contains everything that was deferred in the first stage is run. This stage is much faster than the tracing stage.\n",
    "\n",
    "Depending on its inputs, `Function` will not always run the first stage when it is called.  See [\"Rules of tracing\"](#rules_of_tracing) below to get a better sense of how it makes that determination. Skipping the first stage and only executing the second stage is what gives you TensorFlow's high performance.\n",
    "\n",
    "When `Function` does decide to trace, the tracing stage is immediately followed by the second stage, so calling the `Function` both creates and runs the `tf.Graph`. Later you will see how you can run only the tracing stage with [`get_concrete_function`](#obtaining_concrete_functions)."
   ]
  },
  {
   "cell_type": "markdown",
   "metadata": {
    "id": "K7scSzLx662f",
    "pycharm": {
     "name": "#%% md\n"
    }
   },
   "source": [
    "When you pass arguments of different types into a `Function`, both stages are run:\n"
   ]
  },
  {
   "cell_type": "code",
   "execution_count": 8,
   "metadata": {
    "colab": {
     "base_uri": "https://localhost:8080/"
    },
    "id": "kojmJrgq8U9v",
    "outputId": "e0af27de-e1fd-4a8f-a100-cd1dbdf399fd",
    "pycharm": {
     "name": "#%%\n"
    }
   },
   "outputs": [
    {
     "name": "stdout",
     "output_type": "stream",
     "text": [
      "Tracing with Tensor(\"a:0\", shape=(), dtype=int32)\n",
      "tf.Tensor(2, shape=(), dtype=int32)\n",
      "\n",
      "Tracing with Tensor(\"a:0\", shape=(), dtype=float32)\n",
      "tf.Tensor(2.2, shape=(), dtype=float32)\n",
      "\n",
      "Tracing with Tensor(\"a:0\", shape=(), dtype=string)\n",
      "tf.Tensor(b'aa', shape=(), dtype=string)\n",
      "\n"
     ]
    }
   ],
   "source": [
    "@tf.function\n",
    "def double(a):\n",
    "  print(\"Tracing with\", a)\n",
    "  return a + a\n",
    "\n",
    "print(double(tf.constant(1)))\n",
    "print()\n",
    "print(double(tf.constant(1.1)))\n",
    "print()\n",
    "print(double(tf.constant(\"a\")))\n",
    "print()\n"
   ]
  },
  {
   "cell_type": "markdown",
   "metadata": {
    "id": "QPfouGUQrcNb",
    "pycharm": {
     "name": "#%% md\n"
    }
   },
   "source": [
    "Note that if you repeatedly call a `Function` with the same argument type, TensorFlow will skip the tracing stage and reuse a previously traced graph, as the generated graph would be identical."
   ]
  },
  {
   "cell_type": "code",
   "execution_count": 9,
   "metadata": {
    "colab": {
     "base_uri": "https://localhost:8080/"
    },
    "id": "hFccbWFRrsBp",
    "outputId": "91bfeb58-fa61-4088-b5a6-b246186de3d3",
    "pycharm": {
     "name": "#%%\n"
    }
   },
   "outputs": [
    {
     "name": "stdout",
     "output_type": "stream",
     "text": [
      "tf.Tensor(b'bb', shape=(), dtype=string)\n"
     ]
    }
   ],
   "source": [
    "# This doesn't print 'Tracing with ...'\n",
    "print(double(tf.constant(\"b\")))"
   ]
  },
  {
   "cell_type": "markdown",
   "metadata": {
    "id": "fgIO_XEzcB9o",
    "pycharm": {
     "name": "#%% md\n"
    }
   },
   "source": [
    "You can use `pretty_printed_concrete_signatures()` to see all of the available traces:"
   ]
  },
  {
   "cell_type": "code",
   "execution_count": 10,
   "metadata": {
    "colab": {
     "base_uri": "https://localhost:8080/"
    },
    "id": "IiQc4IKAb-NX",
    "outputId": "505b6860-83dc-4eda-9394-4e3351002433",
    "pycharm": {
     "name": "#%%\n"
    }
   },
   "outputs": [
    {
     "name": "stdout",
     "output_type": "stream",
     "text": [
      "double(a)\n",
      "  Args:\n",
      "    a: int32 Tensor, shape=()\n",
      "  Returns:\n",
      "    int32 Tensor, shape=()\n",
      "\n",
      "double(a)\n",
      "  Args:\n",
      "    a: float32 Tensor, shape=()\n",
      "  Returns:\n",
      "    float32 Tensor, shape=()\n",
      "\n",
      "double(a)\n",
      "  Args:\n",
      "    a: string Tensor, shape=()\n",
      "  Returns:\n",
      "    string Tensor, shape=()\n"
     ]
    }
   ],
   "source": [
    "print(double.pretty_printed_concrete_signatures())"
   ]
  },
  {
   "cell_type": "markdown",
   "metadata": {
    "id": "rKQ92VEWI7n8",
    "pycharm": {
     "name": "#%% md\n"
    }
   },
   "source": [
    "So far, you've seen that `tf.function` creates a cached, dynamic dispatch layer over TensorFlow's graph tracing logic. To be more specific about the terminology:\n",
    "\n",
    "- A `tf.Graph` is the raw, language-agnostic, portable representation of a TensorFlow computation.\n",
    "- A `ConcreteFunction` wraps a `tf.Graph`.\n",
    "- A `Function` manages a cache of `ConcreteFunction`s and picks the right one for your inputs.\n",
    "- `tf.function` wraps a Python function, returning a `Function` object.\n",
    "- **Tracing** creates a `tf.Graph` and wraps it in a `ConcreteFunction`, also known as a **trace.**\n"
   ]
  },
  {
   "cell_type": "markdown",
   "metadata": {
    "id": "129-iRsPS-gY",
    "pycharm": {
     "name": "#%% md\n"
    }
   },
   "source": [
    "#### Rules of tracing\n",
    "\n",
    "When called, a `Function` matches the call arguments to existing `ConcreteFunction`s using `tf.types.experimental.TraceType` of each argument. If a matching `ConcreteFunction` is found, the call is dispatched to it. If no match is found, a new `ConcreteFunction` is traced. \n",
    "\n",
    "If multiple matches are found, the most specific signature is chosen. Matching is done by [subtyping](https://en.wikipedia.org/wiki/Subtyping), much like normal function calls in C++ or Java, for instance. For example, `TensorShape([1, 2])` is a subtype of `TensorShape([None, None])` and so a call to the tf.function with `TensorShape([1, 2])` can be dispatched to the `ConcreteFunction` produced with `TensorShape([None, None])` but if a `ConcreteFunction` with `TensorShape([1, None])` also exists then it will prioritized since it is more specific.\n",
    "\n",
    "The `TraceType` is determined from input arguments as follows:\n",
    "* For `Tensor`, the type is parameterized by the `Tensor`'s `dtype` and `shape`; ranked shapes are a subtype of unranked shapes; fixed dimensions are a subtype of unknown dimensions\n",
    "* For `Variable`, the type is similar to `Tensor`, but also includes a unique resource ID of the variable, necessary to correctly wire control dependencies\n",
    "* For Python primitive values, the type corresponds to the **value** itself. For example, the `TraceType` of the value `3` is `LiteralTraceType<3>`, not `int`.\n",
    "* For Python ordered containers such as `list` and `tuple`, etc., the type is parameterized by the types of their elements; for example, the type of `[1, 2]` is `ListTraceType<LiteralTraceType<1>, LiteralTraceType<2>>` and the type for   `[2, 1]` is `ListTraceType<LiteralTraceType<2>, LiteralTraceType<1>>` which is different.\n",
    "* For Python mappings such as `dict`, the type is also a mapping from the same keys but to the types of values instead the actual values. For example, the type of `{1: 2, 3: 4}`, is `MappingTraceType<<KeyValue<1, LiteralTraceType<2>>>, <KeyValue<3, LiteralTraceType<4>>>>`. However, unlike ordered containers, `{1: 2, 3: 4}` and `{3: 4, 1: 2}` have equivalent types.\n",
    "* For Python objects which implement the `__tf_tracing_type__` method, the type is whatever that method returns\n",
    "* For any other Python objects, the type is a generic `TraceType` which uses the object's Python equality and hashing for matching. (Note: It relies on [weakref](https://docs.python.org/3/library/weakref.html) to the object and hence only works as long as the object is in scope/not deleted.)\n"
   ]
  },
  {
   "cell_type": "markdown",
   "metadata": {
    "id": "GNNN4lgRzpIs",
    "pycharm": {
     "name": "#%% md\n"
    }
   },
   "source": [
    "Note: `TraceType` is based on the `Function` input parameters so changes to global and [free variables](https://docs.python.org/3/reference/executionmodel.html#binding-of-names) alone will not create a new trace. See [this section](#depending_on_python_global_and_free_variables) for recommended practices when dealing with Python global and free variables."
   ]
  },
  {
   "cell_type": "markdown",
   "metadata": {
    "id": "PEDwbumO32Wh",
    "pycharm": {
     "name": "#%% md\n"
    }
   },
   "source": [
    "### Controlling retracing\n",
    "\n",
    "Retracing, which is when your `Function` creates more than one trace, helps ensures that TensorFlow generates correct graphs for each set of inputs. However, tracing is an expensive operation! If your `Function` retraces a new graph for every call, you'll find that your code executes more slowly than if you didn't use `tf.function`.\n",
    "\n",
    "To control the tracing behavior, you can use the following techniques:"
   ]
  },
  {
   "cell_type": "markdown",
   "metadata": {
    "id": "EUtycWJa34TT",
    "pycharm": {
     "name": "#%% md\n"
    }
   },
   "source": [
    "#### Pass a fixed `input_signature` to `tf.function`"
   ]
  },
  {
   "cell_type": "code",
   "execution_count": 11,
   "metadata": {
    "colab": {
     "base_uri": "https://localhost:8080/"
    },
    "id": "_BDMIRmu1RGB",
    "outputId": "b88ec12d-245d-4772-b1ca-1da2b5195e2f",
    "pycharm": {
     "name": "#%%\n"
    }
   },
   "outputs": [
    {
     "name": "stdout",
     "output_type": "stream",
     "text": [
      "Tracing with Tensor(\"x:0\", shape=(None,), dtype=int32)\n",
      "tf.Tensor([4 1], shape=(2,), dtype=int32)\n"
     ]
    }
   ],
   "source": [
    "@tf.function(input_signature=(tf.TensorSpec(shape=[None], dtype=tf.int32),))\n",
    "def next_collatz(x):\n",
    "  print(\"Tracing with\", x)\n",
    "  return tf.where(x % 2 == 0, x // 2, 3 * x + 1)\n",
    "\n",
    "print(next_collatz(tf.constant([1, 2])))"
   ]
  },
  {
   "cell_type": "code",
   "execution_count": 12,
   "metadata": {
    "colab": {
     "base_uri": "https://localhost:8080/"
    },
    "id": "MtG4M0fRV-Ko",
    "outputId": "8e42f3a6-7ff5-4f86-b686-64738a2ee0d7",
    "pycharm": {
     "name": "#%%\n"
    }
   },
   "outputs": [
    {
     "name": "stdout",
     "output_type": "stream",
     "text": [
      "tf.Tensor([ 4  1 10  2 16], shape=(5,), dtype=int32)\n"
     ]
    }
   ],
   "source": [
    "print(next_collatz(tf.constant([1,2,3,4,5])))"
   ]
  },
  {
   "cell_type": "code",
   "execution_count": 13,
   "metadata": {
    "colab": {
     "base_uri": "https://localhost:8080/"
    },
    "id": "jLwlZZAyj2TN",
    "outputId": "da8dacc5-8630-460f-dca0-f8e9f96167da",
    "pycharm": {
     "name": "#%%\n"
    }
   },
   "outputs": [
    {
     "name": "stdout",
     "output_type": "stream",
     "text": [
      "Caught expected exception \n",
      "  <class 'ValueError'>:\n"
     ]
    },
    {
     "name": "stderr",
     "output_type": "stream",
     "text": [
      "Traceback (most recent call last):\n",
      "  File \"/tmp/ipykernel_990624/995125583.py\", line 8, in assert_raises\n",
      "    yield\n",
      "  File \"/tmp/ipykernel_990624/2427378389.py\", line 3, in <cell line: 2>\n",
      "    next_collatz(tf.constant([[1, 2], [3, 4]]))\n",
      "ValueError: Python inputs incompatible with input_signature:\n",
      "  inputs: (\n",
      "    tf.Tensor(\n",
      "[[1 2]\n",
      " [3 4]], shape=(2, 2), dtype=int32))\n",
      "  input_signature: (\n",
      "    TensorSpec(shape=(None,), dtype=tf.int32, name=None)).\n"
     ]
    }
   ],
   "source": [
    "# You specified a 1-D tensor in the input signature, so this should fail.\n",
    "with assert_raises(ValueError):\n",
    "  next_collatz(tf.constant([[1, 2], [3, 4]]))"
   ]
  },
  {
   "cell_type": "code",
   "execution_count": 14,
   "metadata": {
    "colab": {
     "base_uri": "https://localhost:8080/"
    },
    "id": "14KADEeTVO_U",
    "outputId": "9241695b-5128-49c2-9cc1-c4afc773973f",
    "pycharm": {
     "name": "#%%\n"
    }
   },
   "outputs": [
    {
     "name": "stdout",
     "output_type": "stream",
     "text": [
      "Caught expected exception \n",
      "  <class 'ValueError'>:\n"
     ]
    },
    {
     "name": "stderr",
     "output_type": "stream",
     "text": [
      "Traceback (most recent call last):\n",
      "  File \"/tmp/ipykernel_990624/995125583.py\", line 8, in assert_raises\n",
      "    yield\n",
      "  File \"/tmp/ipykernel_990624/2165403463.py\", line 3, in <cell line: 2>\n",
      "    next_collatz(tf.constant([1.0, 2.0]))\n",
      "ValueError: Python inputs incompatible with input_signature:\n",
      "  inputs: (\n",
      "    tf.Tensor([1. 2.], shape=(2,), dtype=float32))\n",
      "  input_signature: (\n",
      "    TensorSpec(shape=(None,), dtype=tf.int32, name=None)).\n"
     ]
    }
   ],
   "source": [
    "# You specified an int32 dtype in the input signature, so this should fail.\n",
    "with assert_raises(ValueError):\n",
    "  next_collatz(tf.constant([1.0, 2.0]))"
   ]
  },
  {
   "cell_type": "markdown",
   "metadata": {
    "id": "ocxX-HVk7P2o",
    "pycharm": {
     "name": "#%% md\n"
    }
   },
   "source": [
    "#### Use unknown dimensions for flexibility\n",
    "\n",
    "  Since TensorFlow matches tensors based on their shape, using a `None` dimension as a wildcard will allow `Function`s to reuse traces for variably-sized input. Variably-sized input can occur if you have sequences of different length, or images of different sizes for each batch (See the [Transformer](../tutorials/text/transformer.ipynb) and [Deep Dream](../tutorials/generative/deepdream.ipynb) tutorials for example)."
   ]
  },
  {
   "cell_type": "code",
   "execution_count": 15,
   "metadata": {
    "colab": {
     "base_uri": "https://localhost:8080/"
    },
    "id": "4Viun7dh7PmF",
    "outputId": "332999bb-1924-4687-aa30-1613e60b23b6",
    "pycharm": {
     "name": "#%%\n"
    }
   },
   "outputs": [
    {
     "name": "stdout",
     "output_type": "stream",
     "text": [
      "Tracing with Tensor(\"x:0\", shape=(None, None), dtype=int32)\n",
      "tf.Tensor(\n",
      "[[1 2 3]\n",
      " [2 3 4]], shape=(2, 3), dtype=int32)\n",
      "tf.Tensor(\n",
      "[[1 2 3 4 5]\n",
      " [2 3 4 5 6]], shape=(2, 5), dtype=int32)\n"
     ]
    }
   ],
   "source": [
    "import numpy as np\n",
    "@tf.function(input_signature=(tf.TensorSpec(shape=[None, None], dtype=tf.int32),))\n",
    "def g(x):\n",
    "  print('Tracing with', x)\n",
    "  return x\n",
    "\n",
    "# No retrace!\n",
    "print(g(tf.constant([[1, 2, 3],[2,3,4]])))\n",
    "print(g(np.array([[1, 2, 3, 4, 5],[2,3,4,5,6]])))\n"
   ]
  },
  {
   "cell_type": "code",
   "execution_count": 16,
   "metadata": {
    "colab": {
     "base_uri": "https://localhost:8080/"
    },
    "id": "499HJDq8XJWZ",
    "outputId": "ce6536d6-abf2-4009-c49a-a1667f9f447e",
    "pycharm": {
     "name": "#%%\n"
    }
   },
   "outputs": [
    {
     "name": "stdout",
     "output_type": "stream",
     "text": [
      "tf.Tensor(\n",
      "[[1]\n",
      " [3]], shape=(2, 1), dtype=int32)\n"
     ]
    }
   ],
   "source": [
    "print(g(np.array([[1],[3]])))"
   ]
  },
  {
   "cell_type": "markdown",
   "metadata": {
    "id": "AY5oiQN0XIyA",
    "pycharm": {
     "name": "#%% md\n"
    }
   },
   "source": [
    "#### Pass tensors instead of python literals\n",
    "\n",
    "  Often, Python arguments are used to control hyperparameters and graph constructions - for example, `num_layers=10` or `training=True` or `nonlinearity='relu'`. So, if the Python argument changes, it makes sense that you'd have to retrace the graph.\n",
    "\n",
    "  However, it's possible that a Python argument is not being used to control graph construction. In these cases, a change in the Python value can trigger needless retracing. Take, for example, this training loop, which AutoGraph will dynamically unroll. Despite the multiple traces, the generated graph is actually identical, so retracing is unnecessary."
   ]
  },
  {
   "cell_type": "code",
   "execution_count": 17,
   "metadata": {
    "colab": {
     "base_uri": "https://localhost:8080/"
    },
    "id": "uydzR5JYUU8H",
    "outputId": "9f95cd6d-cf4d-4afd-ee0e-f152dd1ffe9e",
    "pycharm": {
     "name": "#%%\n"
    }
   },
   "outputs": [
    {
     "name": "stdout",
     "output_type": "stream",
     "text": [
      "Retracing occurs for different Python arguments.\n",
      "Tracing with num_steps =  10\n",
      "Executing with num_steps =  10\n",
      "Tracing with num_steps =  20\n",
      "Executing with num_steps =  20\n",
      "\n",
      "Traces are reused for Tensor arguments.\n",
      "Tracing with num_steps =  Tensor(\"num_steps:0\", shape=(), dtype=int32)\n",
      "Executing with num_steps =  10\n",
      "Executing with num_steps =  20\n"
     ]
    }
   ],
   "source": [
    "def train_one_step():\n",
    "  pass\n",
    "\n",
    "@tf.function\n",
    "def train(num_steps):\n",
    "  print(\"Tracing with num_steps = \", num_steps)\n",
    "  tf.print(\"Executing with num_steps = \", num_steps)\n",
    "  for _ in tf.range(num_steps):\n",
    "    train_one_step()\n",
    "\n",
    "print(\"Retracing occurs for different Python arguments.\")\n",
    "train(num_steps=10)\n",
    "train(num_steps=20)\n",
    "\n",
    "print()\n",
    "print(\"Traces are reused for Tensor arguments.\")\n",
    "train(num_steps=tf.constant(10))\n",
    "train(num_steps=tf.constant(20))"
   ]
  },
  {
   "cell_type": "markdown",
   "metadata": {
    "id": "4pJqkDR_Q2wz",
    "pycharm": {
     "name": "#%% md\n"
    }
   },
   "source": [
    "If you need to force retracing, create a new `Function`. Separate `Function` objects are guaranteed not to share traces."
   ]
  },
  {
   "cell_type": "code",
   "execution_count": 18,
   "metadata": {
    "colab": {
     "base_uri": "https://localhost:8080/"
    },
    "id": "uHp4ousu4DdN",
    "outputId": "02531f86-f088-4ce8-d4be-e6245846796c",
    "pycharm": {
     "name": "#%%\n"
    }
   },
   "outputs": [
    {
     "name": "stdout",
     "output_type": "stream",
     "text": [
      "Tracing!\n",
      "Executing\n",
      "Tracing!\n",
      "Executing\n"
     ]
    }
   ],
   "source": [
    "def f():\n",
    "  print('Tracing!')\n",
    "  tf.print('Executing')\n",
    "\n",
    "tf.function(f)()\n",
    "tf.function(f)()"
   ]
  },
  {
   "cell_type": "markdown",
   "metadata": {
    "id": "-tZoWrA6INvc",
    "pycharm": {
     "name": "#%% md\n"
    }
   },
   "source": [
    "#### Use the tracing protocol\n",
    "\n",
    "Where possible, you should prefer converting the Python type into a `tf.experimental.ExtensionType` instead. Moreover, the `TraceType` of an `ExtensionType` is the `tf.TypeSpec` associated with it. Therefore, if needed, you can simply override the default `tf.TypeSpec` to take control of an `ExtensionType`'s `Tracing Protocol`. Refer to the _Customizing the ExtensionType's TypeSpec_ section in the [Extension types](extension_type.ipynb) guide for details.\n",
    "\n",
    "Otherwise, for direct control over when `Function` should retrace in regards to a particular Python type, you can implement the `Tracing Protocol` for it yourself."
   ]
  },
  {
   "cell_type": "code",
   "execution_count": 61,
   "metadata": {
    "colab": {
     "base_uri": "https://localhost:8080/",
     "height": 246
    },
    "id": "gZkIh7UaIKc6",
    "outputId": "77b9ff41-66e9-4444-e189-d50a9a62ebf1",
    "pycharm": {
     "name": "#%%\n"
    }
   },
   "outputs": [
    {
     "name": "stdout",
     "output_type": "stream",
     "text": [
      "Tracing with <__main__.Apple object at 0x7ff47973aa70> <__main__.Mango object at 0x7ff4b1fc73d0>\n",
      "Tracing with <__main__.Apple object at 0x7ff479739570> <__main__.Mango object at 0x7ff479738640>\n"
     ]
    },
    {
     "data": {
      "text/plain": [
       "<tf.Tensor: shape=(2,), dtype=int32, numpy=array([4, 6], dtype=int32)>"
      ]
     },
     "execution_count": 61,
     "metadata": {},
     "output_type": "execute_result"
    }
   ],
   "source": [
    "@tf.function\n",
    "def get_mixed_flavor(fruit_a, fruit_b):\n",
    "  print(\"Tracing with\", fruit_a, fruit_b)\n",
    "  return fruit_a.flavor + fruit_b.flavor\n",
    "\n",
    "class Fruit:\n",
    "  flavor = tf.constant([0, 0])\n",
    "\n",
    "class Apple(Fruit):\n",
    "  flavor = tf.constant([1, 2])\n",
    "\n",
    "class Mango(Fruit):\n",
    "  flavor = tf.constant([3, 4])\n",
    "\n",
    "# As described in the above rules, a generic TraceType for `Apple` and `Mango`\n",
    "# is generated (and a corresponding ConcreteFunction is traced) but it fails to \n",
    "# match the second function call since the first pair of Apple() and Mango() \n",
    "# have gone out out of scope by then and deleted.\n",
    "get_mixed_flavor(Apple(), Mango()) # Traces a new concrete function\n",
    "get_mixed_flavor(Apple(), Mango()) # Traces a new concrete function again\n"
   ]
  },
  {
   "cell_type": "code",
   "execution_count": 63,
   "metadata": {
    "pycharm": {
     "name": "#%%\n"
    }
   },
   "outputs": [
    {
     "name": "stdout",
     "output_type": "stream",
     "text": [
      "Tracing AppleWithTraceType\n",
      "Tracing with <__main__.AppleWithTraceType object at 0x7ff48e7d07f0> <__main__.MangoWithTraceType object at 0x7ff44862e830>\n"
     ]
    },
    {
     "data": {
      "text/plain": [
       "<tf.Tensor: shape=(2,), dtype=int32, numpy=array([2, 6], dtype=int32)>"
      ]
     },
     "execution_count": 63,
     "metadata": {},
     "output_type": "execute_result"
    }
   ],
   "source": [
    "# However, we, as the designers of the `Fruit` class, know that each subclass\n",
    "# has a fixed flavor and we can reuse an existing traced concrete function if\n",
    "# it was the same subclass. Avoiding such unnecessary tracing of concrete\n",
    "# functions can have significant performance benefits.\n",
    "\n",
    "class FruitTraceType(tf.types.experimental.TraceType):\n",
    "  def __init__(self, fruit_type):\n",
    "    self.fruit_type = fruit_type\n",
    "\n",
    "  def is_subtype_of(self, other):\n",
    "      return (type(other) is FruitTraceType and\n",
    "              self.fruit_type is other.fruit_type)\n",
    "\n",
    "  def most_specific_common_supertype(self, others):\n",
    "      return self if all(self == other for other in others) else None\n",
    "\n",
    "  def __eq__(self, other):\n",
    "    return type(other) is FruitTraceType and self.fruit_type == other.fruit_type\n",
    "\n",
    "  def __hash__(self):\n",
    "    return hash(self.fruit_type)\n",
    "\n",
    "class FruitWithTraceType:\n",
    "\n",
    "  def __tf_tracing_type__(self, context):\n",
    "    return FruitTraceType(type(self))\n",
    "\n",
    "class AppleWithTraceType(FruitWithTraceType):\n",
    "  print(\"Tracing AppleWithTraceType\")\n",
    "  flavor = tf.constant([0, 2])\n",
    "\n",
    "class MangoWithTraceType(FruitWithTraceType):\n",
    "  flavor = tf.constant([2, 4])\n",
    "\n",
    "# Now if we try calling it again:\n",
    "get_mixed_flavor(AppleWithTraceType(), MangoWithTraceType()) # Traces a new concrete function\n",
    "get_mixed_flavor(AppleWithTraceType(), MangoWithTraceType()) # Re-uses the traced concrete function\n"
   ]
  },
  {
   "cell_type": "markdown",
   "metadata": {
    "id": "96IxS2WR37fF",
    "pycharm": {
     "name": "#%% md\n"
    }
   },
   "source": [
    "### Obtaining concrete functions\n",
    "\n",
    "Every time a function is traced, a new concrete function is created. You can directly obtain a concrete function, by using `get_concrete_function`.\n"
   ]
  },
  {
   "cell_type": "code",
   "execution_count": 20,
   "metadata": {
    "id": "mHg2CGtPQ3Hz",
    "pycharm": {
     "name": "#%%\n"
    }
   },
   "outputs": [
    {
     "name": "stdout",
     "output_type": "stream",
     "text": [
      "Obtaining concrete trace\n",
      "Executing traced function\n",
      "tf.Tensor(b'aa', shape=(), dtype=string)\n",
      "tf.Tensor(b'bb', shape=(), dtype=string)\n"
     ]
    }
   ],
   "source": [
    "print(\"Obtaining concrete trace\")\n",
    "double_strings = double.get_concrete_function(tf.constant(\"a\"))\n",
    "print(\"Executing traced function\")\n",
    "print(double_strings(tf.constant(\"a\")))\n",
    "print(double_strings(a=tf.constant(\"b\")))\n"
   ]
  },
  {
   "cell_type": "code",
   "execution_count": 21,
   "metadata": {
    "id": "6IVZ-NVf9vsx",
    "pycharm": {
     "name": "#%%\n"
    }
   },
   "outputs": [
    {
     "name": "stdout",
     "output_type": "stream",
     "text": [
      "tf.Tensor(b'cc', shape=(), dtype=string)\n"
     ]
    }
   ],
   "source": [
    "# You can also call get_concrete_function on an InputSpec\n",
    "double_strings_from_inputspec = double.get_concrete_function(tf.TensorSpec(shape=[], dtype=tf.string))\n",
    "print(double_strings_from_inputspec(tf.constant(\"c\")))"
   ]
  },
  {
   "cell_type": "markdown",
   "metadata": {
    "id": "iR4fVmG34xvF",
    "pycharm": {
     "name": "#%% md\n"
    }
   },
   "source": [
    "Printing a `ConcreteFunction` displays a summary of its input arguments (with types) and its output type."
   ]
  },
  {
   "cell_type": "code",
   "execution_count": 22,
   "metadata": {
    "id": "o3-JbkIk41r8",
    "pycharm": {
     "name": "#%%\n"
    }
   },
   "outputs": [
    {
     "name": "stdout",
     "output_type": "stream",
     "text": [
      "ConcreteFunction double(a)\n",
      "  Args:\n",
      "    a: string Tensor, shape=()\n",
      "  Returns:\n",
      "    string Tensor, shape=()\n"
     ]
    }
   ],
   "source": [
    "print(double_strings)"
   ]
  },
  {
   "cell_type": "markdown",
   "metadata": {
    "id": "QtqfvljZeuOV",
    "pycharm": {
     "name": "#%% md\n"
    }
   },
   "source": [
    "You can also directly retrieve a concrete function's signature."
   ]
  },
  {
   "cell_type": "code",
   "execution_count": 23,
   "metadata": {
    "id": "nzbrqFABe0zG",
    "pycharm": {
     "name": "#%%\n"
    }
   },
   "outputs": [
    {
     "name": "stdout",
     "output_type": "stream",
     "text": [
      "((TensorSpec(shape=(), dtype=tf.string, name='a'),), {})\n",
      "Tensor(\"Identity:0\", shape=(), dtype=string)\n"
     ]
    }
   ],
   "source": [
    "print(double_strings.structured_input_signature)\n",
    "print(double_strings.structured_outputs)"
   ]
  },
  {
   "cell_type": "markdown",
   "metadata": {
    "id": "lar5A_5m5IG1",
    "pycharm": {
     "name": "#%% md\n"
    }
   },
   "source": [
    "Using a concrete trace with incompatible types will throw an error"
   ]
  },
  {
   "cell_type": "code",
   "execution_count": 24,
   "metadata": {
    "id": "G5eeTK-T5KYj",
    "pycharm": {
     "name": "#%%\n"
    }
   },
   "outputs": [
    {
     "name": "stdout",
     "output_type": "stream",
     "text": [
      "Caught expected exception \n",
      "  <class 'tensorflow.python.framework.errors_impl.InvalidArgumentError'>:\n"
     ]
    },
    {
     "name": "stderr",
     "output_type": "stream",
     "text": [
      "Traceback (most recent call last):\n",
      "  File \"/tmp/ipykernel_990624/995125583.py\", line 8, in assert_raises\n",
      "    yield\n",
      "  File \"/tmp/ipykernel_990624/1179086798.py\", line 2, in <cell line: 1>\n",
      "    double_strings(tf.constant(1))\n",
      "tensorflow.python.framework.errors_impl.InvalidArgumentError: cannot compute __inference_double_162 as input #0(zero-based) was expected to be a string tensor but is a int32 tensor [Op:__inference_double_162]\n"
     ]
    }
   ],
   "source": [
    "with assert_raises(tf.errors.InvalidArgumentError):\n",
    "  double_strings(tf.constant(1))"
   ]
  },
  {
   "cell_type": "markdown",
   "metadata": {
    "id": "st2L9VNQVtSG",
    "pycharm": {
     "name": "#%% md\n"
    }
   },
   "source": [
    "You may notice that Python arguments are given special treatment in a concrete function's input signature. Prior to TensorFlow 2.3, Python arguments were simply removed from the concrete function's signature. Starting with TensorFlow 2.3, Python arguments remain in the signature, but are constrained to take the value set during tracing."
   ]
  },
  {
   "cell_type": "code",
   "execution_count": 25,
   "metadata": {
    "id": "U_QyPSGoaC35",
    "pycharm": {
     "name": "#%%\n"
    }
   },
   "outputs": [
    {
     "name": "stdout",
     "output_type": "stream",
     "text": [
      "ConcreteFunction pow(a, b=2)\n",
      "  Args:\n",
      "    a: float32 Tensor, shape=<unknown>\n",
      "  Returns:\n",
      "    float32 Tensor, shape=<unknown>\n"
     ]
    }
   ],
   "source": [
    "@tf.function\n",
    "def pow(a, b):\n",
    "  return a ** b\n",
    "\n",
    "square = pow.get_concrete_function(a=tf.TensorSpec(None, tf.float32), b=2)\n",
    "print(square)"
   ]
  },
  {
   "cell_type": "code",
   "execution_count": 26,
   "metadata": {
    "id": "E76vIDhQbXIb",
    "pycharm": {
     "name": "#%%\n"
    }
   },
   "outputs": [
    {
     "name": "stdout",
     "output_type": "stream",
     "text": [
      "Caught expected exception \n",
      "  <class 'TypeError'>:\n"
     ]
    },
    {
     "name": "stderr",
     "output_type": "stream",
     "text": [
      "Traceback (most recent call last):\n",
      "  File \"/home/is/.pyenv/versions/3.10.4/envs/eos/lib/python3.10/site-packages/tensorflow/python/eager/function.py\", line 1615, in _call_impl\n",
      "    return self._call_with_flat_signature(args, kwargs,\n",
      "  File \"/home/is/.pyenv/versions/3.10.4/envs/eos/lib/python3.10/site-packages/tensorflow/python/eager/function.py\", line 1660, in _call_with_flat_signature\n",
      "    raise TypeError(f\"{self._flat_signature_summary()} got unexpected \"\n",
      "TypeError: pow(a) got unexpected keyword arguments: b.\n",
      "\n",
      "During handling of the above exception, another exception occurred:\n",
      "\n",
      "Traceback (most recent call last):\n",
      "  File \"/tmp/ipykernel_990624/995125583.py\", line 8, in assert_raises\n",
      "    yield\n",
      "  File \"/tmp/ipykernel_990624/4282615848.py\", line 4, in <cell line: 3>\n",
      "    square(tf.constant(10.0), b=3)\n",
      "TypeError: ConcreteFunction pow(a, b) was constructed with int value 2 in b, but was called with int value 3.\n"
     ]
    }
   ],
   "source": [
    "assert square(tf.constant(10.0)) == 100\n",
    "\n",
    "with assert_raises(TypeError):\n",
    "  square(tf.constant(10.0), b=3)"
   ]
  },
  {
   "cell_type": "markdown",
   "metadata": {
    "id": "41gJh_JGIfuA",
    "pycharm": {
     "name": "#%% md\n"
    }
   },
   "source": [
    "### Obtaining graphs\n",
    "\n",
    "Each concrete function is a callable wrapper around a `tf.Graph`. Although retrieving the actual `tf.Graph` object is not something you'll normally need to do, you can obtain it easily from any concrete functiodfn"
   ]
  },
  {
   "cell_type": "code",
   "execution_count": 27,
   "metadata": {
    "id": "5UENeGHfaX8g",
    "pycharm": {
     "name": "#%%\n"
    }
   },
   "outputs": [
    {
     "name": "stdout",
     "output_type": "stream",
     "text": [
      "[] -> a\n",
      "['a', 'a'] -> add\n",
      "['add'] -> Identity\n"
     ]
    }
   ],
   "source": [
    "graph = double_strings.graph\n",
    "for node in graph.as_graph_def().node:\n",
    "  print(f'{node.input} -> {node.name}')\n"
   ]
  },
  {
   "cell_type": "markdown",
   "metadata": {
    "id": "aIKkgr6qdtp4",
    "pycharm": {
     "name": "#%% md\n"
    }
   },
   "source": [
    "### Debugging\n",
    "\n",
    "In general, debugging code is easier in eager mode than inside `tf.function`. You should ensure that your code executes error-free in eager mode before decorating with `tf.function`. To assist in the debugging process, you can call `tf.config.run_functions_eagerly(True)` to globally disable and reenable `tf.function`.\n",
    "\n",
    "When tracking down issues that only appear within `tf.function`, here are some tips:\n",
    "- Plain old Python `print` calls only execute during tracing, helping you track down when your function gets (re)traced.\n",
    "- `tf.print` calls will execute every time, and can help you track down intermediate values during execution.\n",
    "- `tf.debugging.enable_check_numerics` is an easy way to track down where NaNs and Inf are created.\n",
    "- `pdb` (the [Python debugger](https://docs.python.org/3/library/pdb.html)) can help you understand what's going on during tracing. (Caveat: `pdb` will drop you into AutoGraph-transformed source code.)"
   ]
  },
  {
   "cell_type": "markdown",
   "metadata": {
    "id": "5f05Vr_YBUCz",
    "pycharm": {
     "name": "#%% md\n"
    }
   },
   "source": [
    "## AutoGraph transformations\n",
    "\n",
    "AutoGraph is a library that is on by default in `tf.function`, and transforms a subset of Python eager code into graph-compatible TensorFlow ops. This includes control flow like `if`, `for`, `while`.\n",
    "\n",
    "TensorFlow ops like `tf.cond` and `tf.while_loop` continue to work, but control flow is often easier to write and understand when written in Python."
   ]
  },
  {
   "cell_type": "code",
   "execution_count": 28,
   "metadata": {
    "id": "yCQTtTPTW3WF",
    "pycharm": {
     "name": "#%%\n"
    }
   },
   "outputs": [
    {
     "name": "stdout",
     "output_type": "stream",
     "text": [
      "[0.570335746 0.926614404 0.651626 0.926593661 0.148875]\n",
      "[0.515605807 0.729011536 0.572763622 0.72900176 0.14778477]\n",
      "[0.474301398 0.622460246 0.517386 0.622454286 0.146718189]\n",
      "[0.441668183 0.552838624 0.47568 0.552834511 0.145674422]\n",
      "[0.415026248 0.502644658 0.442777157 0.502641559 0.14465265]\n",
      "[0.392732054 0.464194536 0.415943772 0.464192 0.143652096]\n",
      "[0.373713136 0.433496684 0.393507779 0.433494627 0.142672047]\n",
      "[0.357235253 0.408239365 0.374380291 0.408237666 0.141711816]\n",
      "[0.342776418 0.386976719 0.357817113 0.386975288 0.140770733]\n",
      "[0.32995379 0.36875096 0.343289852 0.368749738 0.139848173]\n",
      "[0.31847924 0.352898687 0.330411226 0.352897614 0.138943553]\n",
      "[0.308131158 0.33894372 0.318890214 0.338942796 0.138056263]\n",
      "[0.298735976 0.326534063 0.308503091 0.326533228 0.137185782]\n",
      "[0.290155411 0.315403044 0.29907468 0.315402269 0.136331603]\n",
      "[0.282277822 0.305344433 0.290465593 0.305343717 0.135493189]\n",
      "[0.275011957 0.296195835 0.282563269 0.296195179 0.134670064]\n",
      "[0.268282235 0.287827402 0.275275767 0.287826806 0.133861795]\n",
      "[0.262025714 0.280133933 0.268527031 0.280133367 0.133067921]\n",
      "[0.256189227 0.273029 0.262253702 0.273028493 0.132288009]\n",
      "[0.250727743 0.266441077 0.256402284 0.26644057 0.131521672]\n",
      "[0.245602638 0.260310143 0.250927389 0.260309666 0.130768523]\n",
      "[0.240780666 0.254585594 0.245790198 0.254585147 0.130028173]\n",
      "[0.236232966 0.24922429 0.24095732 0.249223873 0.129300267]\n",
      "[0.231934458 0.244189337 0.23639977 0.244188949 0.128584459]\n",
      "[0.227863148 0.23944883 0.232092321 0.239448458 0.127880439]\n",
      "[0.223999679 0.234975055 0.228012845 0.234974712 0.127187863]\n",
      "[0.220326886 0.230743885 0.224141866 0.230743557 0.126506433]\n",
      "[0.216829598 0.226734117 0.220462188 0.226733789 0.125835851]\n",
      "[0.213494211 0.222927019 0.216958538 0.222926721 0.125175834]\n"
     ]
    },
    {
     "data": {
      "text/plain": [
       "<tf.Tensor: shape=(5,), dtype=float32, numpy=\n",
       "array([0.21030858, 0.21930607, 0.21361727, 0.2193058 , 0.12452611],\n",
       "      dtype=float32)>"
      ]
     },
     "execution_count": 28,
     "metadata": {},
     "output_type": "execute_result"
    }
   ],
   "source": [
    "# A simple loop\n",
    "\n",
    "@tf.function\n",
    "def f(x):\n",
    "  while tf.reduce_sum(x) > 1:\n",
    "    tf.print(x)\n",
    "    x = tf.tanh(x)\n",
    "  return x\n",
    "\n",
    "f(tf.random.uniform([5]))"
   ]
  },
  {
   "cell_type": "markdown",
   "metadata": {
    "id": "KxwJ8znPI0Cg",
    "pycharm": {
     "name": "#%% md\n"
    }
   },
   "source": [
    "If you're curious you can inspect the code autograph generates."
   ]
  },
  {
   "cell_type": "code",
   "execution_count": 29,
   "metadata": {
    "id": "jlQD1ffRXJhl",
    "pycharm": {
     "name": "#%%\n"
    }
   },
   "outputs": [
    {
     "name": "stdout",
     "output_type": "stream",
     "text": [
      "def tf__f(x):\n",
      "    with ag__.FunctionScope('f', 'fscope', ag__.ConversionOptions(recursive=True, user_requested=True, optional_features=(), internal_convert_user_code=True)) as fscope:\n",
      "        do_return = False\n",
      "        retval_ = ag__.UndefinedReturnValue()\n",
      "\n",
      "        def get_state():\n",
      "            return (x,)\n",
      "\n",
      "        def set_state(vars_):\n",
      "            nonlocal x\n",
      "            (x,) = vars_\n",
      "\n",
      "        def loop_body():\n",
      "            nonlocal x\n",
      "            ag__.converted_call(ag__.ld(tf).print, (ag__.ld(x),), None, fscope)\n",
      "            x = ag__.converted_call(ag__.ld(tf).tanh, (ag__.ld(x),), None, fscope)\n",
      "\n",
      "        def loop_test():\n",
      "            return ag__.converted_call(ag__.ld(tf).reduce_sum, (ag__.ld(x),), None, fscope) > 1\n",
      "        ag__.while_stmt(loop_test, loop_body, get_state, set_state, ('x',), {})\n",
      "        try:\n",
      "            do_return = True\n",
      "            retval_ = ag__.ld(x)\n",
      "        except:\n",
      "            do_return = False\n",
      "            raise\n",
      "        return fscope.ret(retval_, do_return)\n",
      "\n"
     ]
    }
   ],
   "source": [
    "print(tf.autograph.to_code(f.python_function))"
   ]
  },
  {
   "cell_type": "markdown",
   "metadata": {
    "id": "xgKmkrNTZSyz",
    "pycharm": {
     "name": "#%% md\n"
    }
   },
   "source": [
    "### Conditionals\n",
    "\n",
    "AutoGraph will convert some `if <condition>` statements into the equivalent `tf.cond` calls. This substitution is made if `<condition>` is a Tensor. Otherwise, the `if` statement is executed as a Python conditional.\n",
    "\n",
    "A Python conditional executes during tracing, so exactly one branch of the conditional will be added to the graph. Without AutoGraph, this traced graph would be unable to take the alternate branch if there is data-dependent control flow.\n",
    "\n",
    "`tf.cond` traces and adds both branches of the conditional to the graph, dynamically selecting a branch at execution time. Tracing can have unintended side effects; check out [AutoGraph tracing effects](https://github.com/tensorflow/tensorflow/blob/master/tensorflow/python/autograph/g3doc/reference/control_flow.md#effects-of-the-tracing-process) for more information."
   ]
  },
  {
   "cell_type": "code",
   "execution_count": 30,
   "metadata": {
    "id": "BOQl8PMq2Sf3",
    "pycharm": {
     "name": "#%%\n"
    }
   },
   "outputs": [
    {
     "name": "stdout",
     "output_type": "stream",
     "text": [
      "Tracing for loop\n",
      "Tracing fizzbuzz branch\n",
      "Tracing fizz branch\n",
      "Tracing buzz branch\n",
      "Tracing default branch\n",
      "1\n",
      "2\n",
      "fizz\n",
      "4\n",
      "buzz\n",
      "1\n",
      "2\n",
      "fizz\n",
      "4\n",
      "buzz\n",
      "fizz\n",
      "7\n",
      "8\n",
      "fizz\n",
      "buzz\n",
      "11\n",
      "fizz\n",
      "13\n",
      "14\n",
      "fizzbuzz\n",
      "16\n",
      "17\n",
      "fizz\n",
      "19\n",
      "buzz\n"
     ]
    }
   ],
   "source": [
    "@tf.function\n",
    "def fizzbuzz(n):\n",
    "  for i in tf.range(1, n + 1):\n",
    "    print('Tracing for loop')\n",
    "    if i % 15 == 0:\n",
    "      print('Tracing fizzbuzz branch')\n",
    "      tf.print('fizzbuzz')\n",
    "    elif i % 3 == 0:\n",
    "      print('Tracing fizz branch')\n",
    "      tf.print('fizz')\n",
    "    elif i % 5 == 0:\n",
    "      print('Tracing buzz branch')\n",
    "      tf.print('buzz')\n",
    "    else:\n",
    "      print('Tracing default branch')\n",
    "      tf.print(i)\n",
    "\n",
    "fizzbuzz(tf.constant(5))\n",
    "fizzbuzz(tf.constant(20))"
   ]
  },
  {
   "cell_type": "markdown",
   "metadata": {
    "id": "4rBO5AQ15HVC",
    "pycharm": {
     "name": "#%% md\n"
    }
   },
   "source": [
    "See the [reference documentation](https://github.com/tensorflow/tensorflow/blob/master/tensorflow/python/autograph/g3doc/reference/control_flow.md#if-statements) for additional restrictions on AutoGraph-converted if statements."
   ]
  },
  {
   "cell_type": "markdown",
   "metadata": {
    "id": "yho4J0a0ZkQS",
    "pycharm": {
     "name": "#%% md\n"
    }
   },
   "source": [
    "### Loops\n",
    "\n",
    "AutoGraph will convert some `for` and `while` statements into the equivalent TensorFlow looping ops, like `tf.while_loop`. If not converted, the `for` or `while` loop is executed as a Python loop.\n",
    "\n",
    "This substitution is made in the following situations:\n",
    "\n",
    "- `for x in y`: if `y` is a Tensor, convert to `tf.while_loop`. In the special case where `y` is a `tf.data.Dataset`, a combination of `tf.data.Dataset` ops are generated.\n",
    "- `while <condition>`: if `<condition>` is a Tensor, convert to `tf.while_loop`.\n",
    "\n",
    "A Python loop executes during tracing, adding additional ops to the `tf.Graph` for every iteration of the loop.\n",
    "\n",
    "A TensorFlow loop traces the body of the loop, and dynamically selects how many iterations to run at execution time.  The loop body only appears once in the generated `tf.Graph`.\n",
    "\n",
    "See the [reference documentation](https://github.com/tensorflow/tensorflow/blob/master/tensorflow/python/autograph/g3doc/reference/control_flow.md#while-statements) for additional restrictions on AutoGraph-converted `for` and `while` statements."
   ]
  },
  {
   "cell_type": "markdown",
   "metadata": {
    "id": "sp4rbIdfbM6s",
    "pycharm": {
     "name": "#%% md\n"
    }
   },
   "source": [
    "#### Looping over Python data\n",
    "\n",
    "A common pitfall is to loop over Python/NumPy data within a `tf.function`. This loop will execute during the tracing process, adding a copy of your model to the `tf.Graph` for each iteration of the loop.\n",
    "\n",
    "If you want to wrap the entire training loop in `tf.function`, the safest way to do this is to wrap your data as a `tf.data.Dataset` so that AutoGraph will dynamically unroll the training loop."
   ]
  },
  {
   "cell_type": "code",
   "execution_count": 31,
   "metadata": {
    "id": "WGZ19LspbZ27",
    "pycharm": {
     "name": "#%%\n"
    }
   },
   "outputs": [
    {
     "name": "stdout",
     "output_type": "stream",
     "text": [
      "train([(1, 1), (1, 1), (1, 1)]) contains 11 nodes in its graph\n",
      "train([(1, 1), (1, 1), (1, 1), (1, 1), (1, 1), (1, 1), (1, 1), (1, 1), (1, 1), (1, 1)]) contains 32 nodes in its graph\n",
      "train(<FlatMapDataset element_spec=(TensorSpec(shape=<unknown>, dtype=tf.int32, name=None), TensorSpec(shape=<unknown>, dtype=tf.int32, name=None))>) contains 6 nodes in its graph\n",
      "train(<FlatMapDataset element_spec=(TensorSpec(shape=<unknown>, dtype=tf.int32, name=None), TensorSpec(shape=<unknown>, dtype=tf.int32, name=None))>) contains 6 nodes in its graph\n"
     ]
    }
   ],
   "source": [
    "def measure_graph_size(f, *args):\n",
    "  g = f.get_concrete_function(*args).graph\n",
    "  print(\"{}({}) contains {} nodes in its graph\".format(\n",
    "      f.__name__, ', '.join(map(str, args)), len(g.as_graph_def().node)))\n",
    "\n",
    "@tf.function\n",
    "def train(dataset):\n",
    "  loss = tf.constant(0)\n",
    "  for x, y in dataset:\n",
    "    loss += tf.abs(y - x) # Some dummy computation.\n",
    "  return loss\n",
    "\n",
    "small_data = [(1, 1)] * 3\n",
    "big_data = [(1, 1)] * 10\n",
    "measure_graph_size(train, small_data)\n",
    "measure_graph_size(train, big_data)\n",
    "\n",
    "measure_graph_size(train, tf.data.Dataset.from_generator(\n",
    "    lambda: small_data, (tf.int32, tf.int32)))\n",
    "measure_graph_size(train, tf.data.Dataset.from_generator(\n",
    "    lambda: big_data, (tf.int32, tf.int32)))"
   ]
  },
  {
   "cell_type": "markdown",
   "metadata": {
    "id": "JeD2U-yrbfVb",
    "pycharm": {
     "name": "#%% md\n"
    }
   },
   "source": [
    "When wrapping Python/NumPy data in a Dataset, be mindful of `tf.data.Dataset.from_generator` versus ` tf.data.Dataset.from_tensors`. The former will keep the data in Python and fetch it via `tf.py_function` which can have performance implications, whereas the latter will bundle a copy of the data as one large `tf.constant()` node in the graph, which can have memory implications.\n",
    "\n",
    "Reading data from files via `TFRecordDataset`, `CsvDataset`, etc. is the most effective way to consume data, as then TensorFlow itself can manage the asynchronous loading and prefetching of data, without having to involve Python. To learn more, see the [`tf.data`: Build TensorFlow input pipelines](../../guide/data) guide."
   ]
  },
  {
   "cell_type": "markdown",
   "metadata": {
    "id": "hyksHW9TCukR",
    "pycharm": {
     "name": "#%% md\n"
    }
   },
   "source": [
    "#### Accumulating values in a loop\n",
    "\n",
    "A common pattern is to accumulate intermediate values from a loop. Normally, this is accomplished by appending to a Python list or adding entries to a Python dictionary. However, as these are Python side effects, they will not work as expected in a dynamically unrolled loop. Use `tf.TensorArray` to accumulate results from a dynamically unrolled loop."
   ]
  },
  {
   "cell_type": "code",
   "execution_count": 32,
   "metadata": {
    "id": "HJ3Vb3dXfefN",
    "pycharm": {
     "name": "#%%\n"
    }
   },
   "outputs": [
    {
     "data": {
      "text/plain": [
       "<tf.Tensor: shape=(2, 3, 4), dtype=float32, numpy=\n",
       "array([[[0.53384614, 0.3002199 , 0.09872437, 0.08589315],\n",
       "        [0.7245126 , 0.89665246, 1.0773193 , 0.8553525 ],\n",
       "        [1.5052776 , 1.5492705 , 1.4038812 , 1.0401295 ]],\n",
       "\n",
       "       [[0.9244895 , 0.33321118, 0.576957  , 0.5852412 ],\n",
       "        [1.4419737 , 0.8571985 , 1.2245008 , 1.0469229 ],\n",
       "        [2.2764378 , 1.8182137 , 1.6822478 , 1.4280195 ]]], dtype=float32)>"
      ]
     },
     "execution_count": 32,
     "metadata": {},
     "output_type": "execute_result"
    }
   ],
   "source": [
    "batch_size = 2\n",
    "seq_len = 3\n",
    "feature_size = 4\n",
    "\n",
    "def rnn_step(inp, state):\n",
    "  return inp + state\n",
    "\n",
    "@tf.function\n",
    "def dynamic_rnn(rnn_step, input_data, initial_state):\n",
    "  # [batch, time, features] -> [time, batch, features]\n",
    "  input_data = tf.transpose(input_data, [1, 0, 2])\n",
    "  max_seq_len = input_data.shape[0]\n",
    "\n",
    "  states = tf.TensorArray(tf.float32, size=max_seq_len)\n",
    "  state = initial_state\n",
    "  for i in tf.range(max_seq_len):\n",
    "    state = rnn_step(input_data[i], state)\n",
    "    states = states.write(i, state)\n",
    "  return tf.transpose(states.stack(), [1, 0, 2])\n",
    "\n",
    "dynamic_rnn(rnn_step,\n",
    "            tf.random.uniform([batch_size, seq_len, feature_size]),\n",
    "            tf.zeros([batch_size, feature_size]))"
   ]
  },
  {
   "cell_type": "markdown",
   "metadata": {
    "id": "i2MVoIVaNApG",
    "pycharm": {
     "name": "#%% md\n"
    }
   },
   "source": [
    "## Limitations\n",
    "\n",
    "TensorFlow `Function` has a few limitations by design that you should be aware of when converting a Python function to a `Function`."
   ]
  },
  {
   "cell_type": "markdown",
   "metadata": {
    "id": "EJqHGFSVLIKl",
    "pycharm": {
     "name": "#%% md\n"
    }
   },
   "source": [
    "### Executing Python side effects\n",
    "\n",
    "Side effects, like printing, appending to lists, and mutating globals, can behave unexpectedly inside a `Function`, sometimes executing twice or not all. They only happen the first time you call a `Function` with a set of inputs.  Afterwards, the traced `tf.Graph` is reexecuted, without executing the Python code.\n",
    "\n",
    "The general rule of thumb is to avoid relying on Python side effects in your logic and only use them to debug your traces. Otherwise, TensorFlow APIs like `tf.data`, `tf.print`, `tf.summary`, `tf.Variable.assign`, and `tf.TensorArray` are the best way to ensure your code will be executed by the TensorFlow runtime with each call."
   ]
  },
  {
   "cell_type": "code",
   "execution_count": 33,
   "metadata": {
    "id": "w2sACuZ9TTRk",
    "pycharm": {
     "name": "#%%\n"
    }
   },
   "outputs": [
    {
     "name": "stdout",
     "output_type": "stream",
     "text": [
      "Traced with 1\n",
      "Executed with 1\n",
      "Executed with 1\n",
      "Traced with 2\n",
      "Executed with 2\n"
     ]
    }
   ],
   "source": [
    "@tf.function\n",
    "def f(x):\n",
    "  print(\"Traced with\", x)\n",
    "  tf.print(\"Executed with\", x)\n",
    "\n",
    "f(1)\n",
    "f(1)\n",
    "f(2)\n"
   ]
  },
  {
   "cell_type": "markdown",
   "metadata": {
    "id": "e1I0dPiqTV8H",
    "pycharm": {
     "name": "#%% md\n"
    }
   },
   "source": [
    "If you would like to execute Python code during each invocation of a `Function`, `tf.py_function` is an exit hatch. The drawback of `tf.py_function` is that it's not portable or particularly performant, cannot be saved with SavedModel, and does not work well in distributed (multi-GPU, TPU) setups. Also, since `tf.py_function` has to be wired into the graph, it casts all inputs/outputs to tensors."
   ]
  },
  {
   "cell_type": "markdown",
   "metadata": {
    "id": "bOW1v9WVKGgH",
    "pycharm": {
     "name": "#%% md\n"
    }
   },
   "source": [
    "#### Changing Python global and free variables\n",
    "\n",
    "Changing Python global and [free variables](https://docs.python.org/3/reference/executionmodel.html#binding-of-names) counts as a Python side effect, so it only happens during tracing.\n"
   ]
  },
  {
   "cell_type": "code",
   "execution_count": 34,
   "metadata": {
    "id": "7aJD--9qTWmg",
    "pycharm": {
     "name": "#%%\n"
    }
   },
   "outputs": [
    {
     "name": "stdout",
     "output_type": "stream",
     "text": [
      "Python side effect\n"
     ]
    }
   ],
   "source": [
    "external_list = []\n",
    "\n",
    "@tf.function\n",
    "def side_effect(x):\n",
    "  print('Python side effect')\n",
    "  external_list.append(x)\n",
    "\n",
    "side_effect(1)\n",
    "side_effect(1)\n",
    "side_effect(1)\n",
    "# The list append only happened once!\n",
    "assert len(external_list) == 1"
   ]
  },
  {
   "cell_type": "markdown",
   "metadata": {
    "id": "5eZTFRv_k_nR",
    "pycharm": {
     "name": "#%% md\n"
    }
   },
   "source": [
    "Sometimes unexpected behaviors are very hard to notice. In the example below, the `counter` is intended to safeguard the increment of a variable. However because it is a python integer and not a TensorFlow object, it's value is captured during the first trace. When the `tf.function` is used, the `assign_add` will be recorded unconditionally in the underlying graph. Therefore `v` will increase by 1, every time the `tf.function` is called. This issue is common among users that try to migrate their Grpah-mode Tensorflow code to Tensorflow 2 using `tf.function` decorators, when python side-effects (the `counter` in the example) are used to determine what ops to run (`assign_add` in the example). Usually, users realize this only after seeing suspicious numerical results, or significantly lower performance than expected (e.g. if the guarded operation is very costly)."
   ]
  },
  {
   "cell_type": "code",
   "execution_count": 35,
   "metadata": {
    "id": "5r6p7-9jk_3L",
    "pycharm": {
     "name": "#%%\n"
    }
   },
   "outputs": [
    {
     "name": "stdout",
     "output_type": "stream",
     "text": [
      "1\n",
      "2\n",
      "3\n"
     ]
    }
   ],
   "source": [
    "class Model(tf.Module):\n",
    "  def __init__(self):\n",
    "    self.v = tf.Variable(0)\n",
    "    self.counter = 0\n",
    "\n",
    "  @tf.function\n",
    "  def __call__(self):\n",
    "    if self.counter == 0:\n",
    "      # A python side-effect\n",
    "      self.counter += 1\n",
    "      self.v.assign_add(1)\n",
    "\n",
    "    return self.v\n",
    "\n",
    "m = Model()\n",
    "for n in range(3):\n",
    "  print(m().numpy()) # prints 1, 2, 3"
   ]
  },
  {
   "cell_type": "markdown",
   "metadata": {
    "id": "tXCTcHoVcxhX",
    "pycharm": {
     "name": "#%% md\n"
    }
   },
   "source": [
    "A workaround to achieve the expected behavior is using [`tf.init_scope`](https://www.tensorflow.org/api_docs/python/tf/init_scope) to lift the operations outside of the function graph. This ensures that the variable increment is only done once during tracing time. It should be noted `init_scope` has other side effects including cleared control flow and gradient tape. Sometimes the usage of `init_scope` can become too complex to manage realistically."
   ]
  },
  {
   "cell_type": "code",
   "execution_count": 36,
   "metadata": {
    "id": "An4MrIbrcvi8",
    "pycharm": {
     "name": "#%%\n"
    }
   },
   "outputs": [
    {
     "name": "stdout",
     "output_type": "stream",
     "text": [
      "1\n",
      "1\n",
      "1\n"
     ]
    }
   ],
   "source": [
    "class Model(tf.Module):\n",
    "  def __init__(self):\n",
    "    self.v = tf.Variable(0)\n",
    "    self.counter = 0\n",
    "\n",
    "  @tf.function\n",
    "  def __call__(self):\n",
    "    if self.counter == 0:\n",
    "      # Lifts ops out of function-building graphs\n",
    "      with tf.init_scope():\n",
    "        self.counter += 1\n",
    "        self.v.assign_add(1)\n",
    "\n",
    "    return self.v\n",
    "\n",
    "m = Model()\n",
    "for n in range(3):\n",
    "  print(m().numpy()) # prints 1, 1, 1"
   ]
  },
  {
   "cell_type": "markdown",
   "metadata": {
    "id": "pbFG5CX4LwQA",
    "pycharm": {
     "name": "#%% md\n"
    }
   },
   "source": [
    "In summary, as a rule of thumb, you should avoid mutating python objects such as integers or containers like lists that live outside the `Function`. Instead, use arguments and TF objects. For example, the section [\"Accumulating values in a loop\"](#accumulating_values_in_a_loop) has one example of how list-like operations can be implemented.\n",
    "\n",
    "You can, in some cases, capture and manipulate state if it is a [`tf.Variable`](https://www.tensorflow.org/guide/variable). This is how the weights of Keras models are updated with repeated calls to the same `ConcreteFunction`."
   ]
  },
  {
   "cell_type": "markdown",
   "metadata": {
    "id": "X_oNNGrAqPJ1",
    "pycharm": {
     "name": "#%% md\n"
    }
   },
   "source": [
    "#### Using Python iterators and generators"
   ]
  },
  {
   "cell_type": "markdown",
   "metadata": {
    "id": "msTmv-oyUNaf",
    "pycharm": {
     "name": "#%% md\n"
    }
   },
   "source": [
    "Many Python features, such as generators and iterators, rely on the Python runtime to keep track of state. In general, while these constructs work as expected in eager mode, they are examples of Python side effects and therefore only happen during tracing."
   ]
  },
  {
   "cell_type": "code",
   "execution_count": 37,
   "metadata": {
    "id": "FNPD4unZUedH",
    "pycharm": {
     "name": "#%%\n"
    }
   },
   "outputs": [
    {
     "name": "stdout",
     "output_type": "stream",
     "text": [
      "Value: 1\n",
      "Value: 1\n",
      "Value: 1\n"
     ]
    }
   ],
   "source": [
    "@tf.function\n",
    "def buggy_consume_next(iterator):\n",
    "  tf.print(\"Value:\", next(iterator))\n",
    "\n",
    "iterator = iter([1, 2, 3])\n",
    "buggy_consume_next(iterator)\n",
    "# This reuses the first value from the iterator, rather than consuming the next value.\n",
    "buggy_consume_next(iterator)\n",
    "buggy_consume_next(iterator)\n"
   ]
  },
  {
   "cell_type": "markdown",
   "metadata": {
    "id": "wcS3TAgCjTWR",
    "pycharm": {
     "name": "#%% md\n"
    }
   },
   "source": [
    "Just like how TensorFlow has a specialized `tf.TensorArray` for list constructs, it has a specialized `tf.data.Iterator` for iteration constructs. See the section on [AutoGraph transformations](#autograph_transformations) for an overview. Also, the [`tf.data`](https://www.tensorflow.org/guide/data) API can help implement generator patterns:\n"
   ]
  },
  {
   "cell_type": "code",
   "execution_count": 38,
   "metadata": {
    "id": "8D_iKetXW6VE",
    "pycharm": {
     "name": "#%%\n"
    }
   },
   "outputs": [
    {
     "name": "stdout",
     "output_type": "stream",
     "text": [
      "Value: 1\n",
      "Value: 2\n",
      "Value: 3\n"
     ]
    }
   ],
   "source": [
    "@tf.function\n",
    "def good_consume_next(iterator):\n",
    "  # This is ok, iterator is a tf.data.Iterator\n",
    "  tf.print(\"Value:\", next(iterator))\n",
    "\n",
    "ds = tf.data.Dataset.from_tensor_slices([1, 2, 3])\n",
    "iterator = iter(ds)\n",
    "good_consume_next(iterator)\n",
    "good_consume_next(iterator)\n",
    "good_consume_next(iterator)"
   ]
  },
  {
   "cell_type": "markdown",
   "metadata": {
    "id": "i8YAMYb6KEh4",
    "pycharm": {
     "name": "#%% md\n"
    }
   },
   "source": [
    "### All outputs of a tf.function must be return values\n",
    "\n",
    "With the exception of `tf.Variable`s, a tf.function must return all its\n",
    "outputs. Attempting to directly access any tensors from a function without\n",
    "going through return values causes \"leaks\".\n",
    "\n",
    "For example, the function below \"leaks\" the tensor `a` through the Python\n",
    "global `x`:"
   ]
  },
  {
   "cell_type": "code",
   "execution_count": 39,
   "metadata": {
    "id": "zrdp4rjxg6jo",
    "pycharm": {
     "name": "#%%\n"
    }
   },
   "outputs": [
    {
     "name": "stdout",
     "output_type": "stream",
     "text": [
      "3\n",
      "'Tensor' object has no attribute 'numpy'\n"
     ]
    }
   ],
   "source": [
    "x = None\n",
    "\n",
    "@tf.function\n",
    "def leaky_function(a):\n",
    "  global x\n",
    "  x = a + 1  # Bad - leaks local tensor\n",
    "  return a + 2\n",
    "\n",
    "correct_a = leaky_function(tf.constant(1))\n",
    "\n",
    "print(correct_a.numpy())  # Good - value obtained from function's returns\n",
    "try:\n",
    "  x.numpy()  # Bad - tensor leaked from inside the function, cannot be used here\n",
    "except AttributeError as expected:\n",
    "  print(expected)"
   ]
  },
  {
   "cell_type": "markdown",
   "metadata": {
    "id": "-d4_J_DC5rxX",
    "pycharm": {
     "name": "#%% md\n"
    }
   },
   "source": [
    "This is true even if the leaked value is also returned:"
   ]
  },
  {
   "cell_type": "code",
   "execution_count": 40,
   "metadata": {
    "id": "PrcpPB8C5s9T",
    "pycharm": {
     "name": "#%%\n"
    }
   },
   "outputs": [
    {
     "name": "stdout",
     "output_type": "stream",
     "text": [
      "2\n",
      "'Tensor' object has no attribute 'numpy'\n",
      "Caught expected exception \n",
      "  <class 'TypeError'>:\n"
     ]
    },
    {
     "name": "stderr",
     "output_type": "stream",
     "text": [
      "Traceback (most recent call last):\n",
      "  File \"/tmp/ipykernel_990624/995125583.py\", line 8, in assert_raises\n",
      "    yield\n",
      "  File \"/tmp/ipykernel_990624/3099843358.py\", line 21, in <cell line: 20>\n",
      "    captures_leaked_tensor(tf.constant(2))\n",
      "TypeError: <tf.Tensor 'add:0' shape=() dtype=int32> is out of scope and cannot be used here. Use return values, explicit Python locals or TensorFlow collections to access it.\n",
      "Please see https://www.tensorflow.org/guide/function#all_outputs_of_a_tffunction_must_be_return_values for more information.\n",
      "\n",
      "<tf.Tensor 'add:0' shape=() dtype=int32> was defined here:\n",
      "    File \"/home/is/.pyenv/versions/3.10.4/lib/python3.10/runpy.py\", line 196, in _run_module_as_main\n",
      "      return _run_code(code, main_globals, None,\n",
      "    File \"/home/is/.pyenv/versions/3.10.4/lib/python3.10/runpy.py\", line 86, in _run_code\n",
      "      exec(code, run_globals)\n",
      "    File \"/home/is/.pyenv/versions/3.10.4/envs/eos/lib/python3.10/site-packages/ipykernel_launcher.py\", line 17, in <module>\n",
      "      app.launch_new_instance()\n",
      "    File \"/home/is/.pyenv/versions/3.10.4/envs/eos/lib/python3.10/site-packages/traitlets/config/application.py\", line 976, in launch_instance\n",
      "      app.start()\n",
      "    File \"/home/is/.pyenv/versions/3.10.4/envs/eos/lib/python3.10/site-packages/ipykernel/kernelapp.py\", line 712, in start\n",
      "      self.io_loop.start()\n",
      "    File \"/home/is/.pyenv/versions/3.10.4/envs/eos/lib/python3.10/site-packages/tornado/platform/asyncio.py\", line 199, in start\n",
      "      self.asyncio_loop.run_forever()\n",
      "    File \"/home/is/.pyenv/versions/3.10.4/lib/python3.10/asyncio/base_events.py\", line 600, in run_forever\n",
      "      self._run_once()\n",
      "    File \"/home/is/.pyenv/versions/3.10.4/lib/python3.10/asyncio/base_events.py\", line 1896, in _run_once\n",
      "      handle._run()\n",
      "    File \"/home/is/.pyenv/versions/3.10.4/lib/python3.10/asyncio/events.py\", line 80, in _run\n",
      "      self._context.run(self._callback, *self._args)\n",
      "    File \"/home/is/.pyenv/versions/3.10.4/envs/eos/lib/python3.10/site-packages/ipykernel/kernelbase.py\", line 510, in dispatch_queue\n",
      "      await self.process_one()\n",
      "    File \"/home/is/.pyenv/versions/3.10.4/envs/eos/lib/python3.10/site-packages/ipykernel/kernelbase.py\", line 499, in process_one\n",
      "      await dispatch(*args)\n",
      "    File \"/home/is/.pyenv/versions/3.10.4/envs/eos/lib/python3.10/site-packages/ipykernel/kernelbase.py\", line 406, in dispatch_shell\n",
      "      await result\n",
      "    File \"/home/is/.pyenv/versions/3.10.4/envs/eos/lib/python3.10/site-packages/ipykernel/kernelbase.py\", line 730, in execute_request\n",
      "      reply_content = await reply_content\n",
      "    File \"/home/is/.pyenv/versions/3.10.4/envs/eos/lib/python3.10/site-packages/ipykernel/ipkernel.py\", line 383, in do_execute\n",
      "      res = shell.run_cell(\n",
      "    File \"/home/is/.pyenv/versions/3.10.4/envs/eos/lib/python3.10/site-packages/ipykernel/zmqshell.py\", line 528, in run_cell\n",
      "      return super().run_cell(*args, **kwargs)\n",
      "    File \"/home/is/.pyenv/versions/3.10.4/envs/eos/lib/python3.10/site-packages/IPython/core/interactiveshell.py\", line 2881, in run_cell\n",
      "      result = self._run_cell(\n",
      "    File \"/home/is/.pyenv/versions/3.10.4/envs/eos/lib/python3.10/site-packages/IPython/core/interactiveshell.py\", line 2936, in _run_cell\n",
      "      return runner(coro)\n",
      "    File \"/home/is/.pyenv/versions/3.10.4/envs/eos/lib/python3.10/site-packages/IPython/core/async_helpers.py\", line 129, in _pseudo_sync_runner\n",
      "      coro.send(None)\n",
      "    File \"/home/is/.pyenv/versions/3.10.4/envs/eos/lib/python3.10/site-packages/IPython/core/interactiveshell.py\", line 3135, in run_cell_async\n",
      "      has_raised = await self.run_ast_nodes(code_ast.body, cell_name,\n",
      "    File \"/home/is/.pyenv/versions/3.10.4/envs/eos/lib/python3.10/site-packages/IPython/core/interactiveshell.py\", line 3338, in run_ast_nodes\n",
      "      if await self.run_code(code, result, async_=asy):\n",
      "    File \"/home/is/.pyenv/versions/3.10.4/envs/eos/lib/python3.10/site-packages/IPython/core/interactiveshell.py\", line 3398, in run_code\n",
      "      exec(code_obj, self.user_global_ns, self.user_ns)\n",
      "    File \"/tmp/ipykernel_990624/3099843358.py\", line 7, in <cell line: 7>\n",
      "      correct_a = leaky_function(tf.constant(1))\n",
      "    File \"/home/is/.pyenv/versions/3.10.4/envs/eos/lib/python3.10/site-packages/tensorflow/python/util/traceback_utils.py\", line 150, in error_handler\n",
      "      return fn(*args, **kwargs)\n",
      "    File \"/home/is/.pyenv/versions/3.10.4/envs/eos/lib/python3.10/site-packages/tensorflow/python/eager/def_function.py\", line 915, in __call__\n",
      "      result = self._call(*args, **kwds)\n",
      "    File \"/home/is/.pyenv/versions/3.10.4/envs/eos/lib/python3.10/site-packages/tensorflow/python/eager/def_function.py\", line 963, in _call\n",
      "      self._initialize(args, kwds, add_initializers_to=initializers)\n",
      "    File \"/home/is/.pyenv/versions/3.10.4/envs/eos/lib/python3.10/site-packages/tensorflow/python/eager/def_function.py\", line 785, in _initialize\n",
      "      self._stateful_fn._get_concrete_function_internal_garbage_collected(  # pylint: disable=protected-access\n",
      "    File \"/home/is/.pyenv/versions/3.10.4/envs/eos/lib/python3.10/site-packages/tensorflow/python/eager/function.py\", line 2480, in _get_concrete_function_internal_garbage_collected\n",
      "      graph_function, _ = self._maybe_define_function(args, kwargs)\n",
      "    File \"/home/is/.pyenv/versions/3.10.4/envs/eos/lib/python3.10/site-packages/tensorflow/python/eager/function.py\", line 2711, in _maybe_define_function\n",
      "      graph_function = self._create_graph_function(args, kwargs)\n",
      "    File \"/home/is/.pyenv/versions/3.10.4/envs/eos/lib/python3.10/site-packages/tensorflow/python/eager/function.py\", line 2627, in _create_graph_function\n",
      "      func_graph_module.func_graph_from_py_func(\n",
      "    File \"/home/is/.pyenv/versions/3.10.4/envs/eos/lib/python3.10/site-packages/tensorflow/python/framework/func_graph.py\", line 1141, in func_graph_from_py_func\n",
      "      func_outputs = python_func(*func_args, **func_kwargs)\n",
      "    File \"/home/is/.pyenv/versions/3.10.4/envs/eos/lib/python3.10/site-packages/tensorflow/python/eager/def_function.py\", line 677, in wrapped_fn\n",
      "      out = weak_wrapped_fn().__wrapped__(*args, **kwds)\n",
      "    File \"/home/is/.pyenv/versions/3.10.4/envs/eos/lib/python3.10/site-packages/tensorflow/python/framework/func_graph.py\", line 1116, in autograph_handler\n",
      "      return autograph.converted_call(\n",
      "    File \"/tmp/ipykernel_990624/3099843358.py\", line 4, in leaky_function\n",
      "      x = a + 1  # Bad - leaks local tensor\n",
      "    File \"/home/is/.pyenv/versions/3.10.4/envs/eos/lib/python3.10/site-packages/tensorflow/python/util/traceback_utils.py\", line 150, in error_handler\n",
      "      return fn(*args, **kwargs)\n",
      "    File \"/home/is/.pyenv/versions/3.10.4/envs/eos/lib/python3.10/site-packages/tensorflow/python/ops/math_ops.py\", line 1406, in binary_op_wrapper\n",
      "      return func(x, y, name=name)\n",
      "    File \"/home/is/.pyenv/versions/3.10.4/envs/eos/lib/python3.10/site-packages/tensorflow/python/util/traceback_utils.py\", line 150, in error_handler\n",
      "      return fn(*args, **kwargs)\n",
      "    File \"/home/is/.pyenv/versions/3.10.4/envs/eos/lib/python3.10/site-packages/tensorflow/python/util/dispatch.py\", line 1082, in op_dispatch_handler\n",
      "      return dispatch_target(*args, **kwargs)\n",
      "    File \"/home/is/.pyenv/versions/3.10.4/envs/eos/lib/python3.10/site-packages/tensorflow/python/ops/math_ops.py\", line 1756, in _add_dispatch\n",
      "      return gen_math_ops.add_v2(x, y, name=name)\n",
      "    File \"/home/is/.pyenv/versions/3.10.4/envs/eos/lib/python3.10/site-packages/tensorflow/python/ops/gen_math_ops.py\", line 475, in add_v2\n",
      "      _, _, _op, _outputs = _op_def_library._apply_op_helper(\n",
      "    File \"/home/is/.pyenv/versions/3.10.4/envs/eos/lib/python3.10/site-packages/tensorflow/python/framework/op_def_library.py\", line 797, in _apply_op_helper\n",
      "      op = g._create_op_internal(op_type_name, inputs, dtypes=None,\n",
      "    File \"/home/is/.pyenv/versions/3.10.4/envs/eos/lib/python3.10/site-packages/tensorflow/python/framework/func_graph.py\", line 694, in _create_op_internal\n",
      "      return super(FuncGraph, self)._create_op_internal(  # pylint: disable=protected-access\n",
      "    File \"/home/is/.pyenv/versions/3.10.4/envs/eos/lib/python3.10/site-packages/tensorflow/python/framework/ops.py\", line 3754, in _create_op_internal\n",
      "      ret = Operation(\n",
      "    File \"/home/is/.pyenv/versions/3.10.4/envs/eos/lib/python3.10/site-packages/tensorflow/python/framework/ops.py\", line 2133, in __init__\n",
      "      self._traceback = tf_stack.extract_stack_for_node(self._c_op)\n",
      "\n",
      "The tensor <tf.Tensor 'add:0' shape=() dtype=int32> cannot be accessed from here, because it was defined in FuncGraph(name=leaky_function, id=140688339452880), which is out of scope.\n"
     ]
    }
   ],
   "source": [
    "@tf.function\n",
    "def leaky_function(a):\n",
    "  global x\n",
    "  x = a + 1  # Bad - leaks local tensor\n",
    "  return x  # Good - uses local tensor\n",
    "\n",
    "correct_a = leaky_function(tf.constant(1))\n",
    "\n",
    "print(correct_a.numpy())  # Good - value obtained from function's returns\n",
    "try:\n",
    "  x.numpy()  # Bad - tensor leaked from inside the function, cannot be used here\n",
    "except AttributeError as expected:\n",
    "  print(expected)\n",
    "\n",
    "@tf.function\n",
    "def captures_leaked_tensor(b):\n",
    "  b += x  # Bad - `x` is leaked from `leaky_function`\n",
    "  return b\n",
    "\n",
    "with assert_raises(TypeError):\n",
    "  captures_leaked_tensor(tf.constant(2))"
   ]
  },
  {
   "cell_type": "markdown",
   "metadata": {
    "id": "Sm2ghjyy50D4",
    "pycharm": {
     "name": "#%% md\n"
    }
   },
   "source": [
    "Usually, leaks such as these occur when you use Python statements or data structures.\n",
    "In addition to leaking inaccessible tensors, such statements are also likely wrong because they count as Python side effects, and are not guaranteed to execute at every function call.\n",
    "\n",
    "Common ways to leak local tensors also include mutating an external Python collection, or an object:"
   ]
  },
  {
   "cell_type": "code",
   "execution_count": 41,
   "metadata": {
    "id": "D7bLe8y652wU",
    "pycharm": {
     "name": "#%%\n"
    }
   },
   "outputs": [],
   "source": [
    "class MyClass:\n",
    "\n",
    "  def __init__(self):\n",
    "    self.field = None\n",
    "\n",
    "external_list = []\n",
    "external_object = MyClass()\n",
    "\n",
    "def leaky_function():\n",
    "  a = tf.constant(1)\n",
    "  external_list.append(a)  # Bad - leaks tensor\n",
    "  external_object.field = a  # Bad - leaks tensor"
   ]
  },
  {
   "cell_type": "markdown",
   "metadata": {
    "id": "g-XVQcD-wf5K",
    "pycharm": {
     "name": "#%% md\n"
    }
   },
   "source": [
    "### Recursive tf.functions are not supported\n",
    "\n",
    "Recursive `Function`s are not supported and could cause infinite loops. For example,"
   ]
  },
  {
   "cell_type": "code",
   "execution_count": 42,
   "metadata": {
    "id": "QSN-T1m5EFcR",
    "pycharm": {
     "name": "#%%\n"
    }
   },
   "outputs": [
    {
     "name": "stdout",
     "output_type": "stream",
     "text": [
      "Caught expected exception \n",
      "  <class 'Exception'>:\n"
     ]
    },
    {
     "name": "stderr",
     "output_type": "stream",
     "text": [
      "Traceback (most recent call last):\n",
      "  File \"/tmp/ipykernel_990624/995125583.py\", line 8, in assert_raises\n",
      "    yield\n",
      "  File \"/tmp/ipykernel_990624/2329783239.py\", line 9, in <cell line: 8>\n",
      "    recursive_fn(tf.constant(5))  # Bad - maximum recursion error.\n",
      "tensorflow.python.autograph.impl.api.StagingError: in user code:\n",
      "\n",
      "    File \"/tmp/ipykernel_990624/2329783239.py\", line 4, in recursive_fn  *\n",
      "        return recursive_fn(n - 1)\n",
      "    File \"/tmp/ipykernel_990624/2329783239.py\", line 4, in recursive_fn  *\n",
      "        return recursive_fn(n - 1)\n",
      "    File \"/tmp/ipykernel_990624/2329783239.py\", line 4, in recursive_fn  *\n",
      "        return recursive_fn(n - 1)\n",
      "    File \"/tmp/ipykernel_990624/2329783239.py\", line 4, in recursive_fn  *\n",
      "        return recursive_fn(n - 1)\n",
      "    File \"/tmp/ipykernel_990624/2329783239.py\", line 4, in recursive_fn  *\n",
      "        return recursive_fn(n - 1)\n",
      "    File \"/tmp/ipykernel_990624/2329783239.py\", line 4, in recursive_fn  *\n",
      "        return recursive_fn(n - 1)\n",
      "    File \"/tmp/ipykernel_990624/2329783239.py\", line 4, in recursive_fn  *\n",
      "        return recursive_fn(n - 1)\n",
      "    File \"/tmp/ipykernel_990624/2329783239.py\", line 4, in recursive_fn  *\n",
      "        return recursive_fn(n - 1)\n",
      "    File \"/tmp/ipykernel_990624/2329783239.py\", line 4, in recursive_fn  *\n",
      "        return recursive_fn(n - 1)\n",
      "    File \"/tmp/ipykernel_990624/2329783239.py\", line 4, in recursive_fn  *\n",
      "        return recursive_fn(n - 1)\n",
      "    File \"/tmp/ipykernel_990624/2329783239.py\", line 4, in recursive_fn  *\n",
      "        return recursive_fn(n - 1)\n",
      "    File \"/tmp/ipykernel_990624/2329783239.py\", line 4, in recursive_fn  *\n",
      "        return recursive_fn(n - 1)\n",
      "    File \"/tmp/ipykernel_990624/2329783239.py\", line 4, in recursive_fn  *\n",
      "        return recursive_fn(n - 1)\n",
      "    File \"/tmp/ipykernel_990624/2329783239.py\", line 4, in recursive_fn  *\n",
      "        return recursive_fn(n - 1)\n",
      "    File \"/tmp/ipykernel_990624/2329783239.py\", line 4, in recursive_fn  *\n",
      "        return recursive_fn(n - 1)\n",
      "    File \"/tmp/ipykernel_990624/2329783239.py\", line 4, in recursive_fn  *\n",
      "        return recursive_fn(n - 1)\n",
      "    File \"/tmp/ipykernel_990624/2329783239.py\", line 4, in recursive_fn  *\n",
      "        return recursive_fn(n - 1)\n",
      "    File \"/tmp/ipykernel_990624/2329783239.py\", line 4, in recursive_fn  *\n",
      "        return recursive_fn(n - 1)\n",
      "    File \"/tmp/ipykernel_990624/2329783239.py\", line 4, in recursive_fn  *\n",
      "        return recursive_fn(n - 1)\n",
      "    File \"/tmp/ipykernel_990624/2329783239.py\", line 4, in recursive_fn  *\n",
      "        return recursive_fn(n - 1)\n",
      "    File \"/tmp/ipykernel_990624/2329783239.py\", line 4, in recursive_fn  *\n",
      "        return recursive_fn(n - 1)\n",
      "    File \"/tmp/ipykernel_990624/2329783239.py\", line 4, in recursive_fn  *\n",
      "        return recursive_fn(n - 1)\n",
      "    File \"/tmp/ipykernel_990624/2329783239.py\", line 4, in recursive_fn  *\n",
      "        return recursive_fn(n - 1)\n",
      "    File \"/tmp/ipykernel_990624/2329783239.py\", line 4, in recursive_fn  *\n",
      "        return recursive_fn(n - 1)\n",
      "    File \"/tmp/ipykernel_990624/2329783239.py\", line 4, in recursive_fn  *\n",
      "        return recursive_fn(n - 1)\n",
      "    File \"/tmp/ipykernel_990624/2329783239.py\", line 4, in recursive_fn  *\n",
      "        return recursive_fn(n - 1)\n",
      "    File \"/tmp/ipykernel_990624/2329783239.py\", line 4, in recursive_fn  *\n",
      "        return recursive_fn(n - 1)\n",
      "    File \"/tmp/ipykernel_990624/2329783239.py\", line 4, in recursive_fn  *\n",
      "        return recursive_fn(n - 1)\n",
      "    File \"/tmp/ipykernel_990624/2329783239.py\", line 4, in recursive_fn  *\n",
      "        return recursive_fn(n - 1)\n",
      "    File \"/tmp/ipykernel_990624/2329783239.py\", line 4, in recursive_fn  *\n",
      "        return recursive_fn(n - 1)\n",
      "    File \"/tmp/ipykernel_990624/2329783239.py\", line 4, in recursive_fn  *\n",
      "        return recursive_fn(n - 1)\n",
      "    File \"/tmp/ipykernel_990624/2329783239.py\", line 4, in recursive_fn  *\n",
      "        return recursive_fn(n - 1)\n",
      "    File \"/tmp/ipykernel_990624/2329783239.py\", line 4, in recursive_fn  *\n",
      "        return recursive_fn(n - 1)\n",
      "    File \"/tmp/ipykernel_990624/2329783239.py\", line 4, in recursive_fn  *\n",
      "        return recursive_fn(n - 1)\n",
      "    File \"/tmp/ipykernel_990624/2329783239.py\", line 4, in recursive_fn  *\n",
      "        return recursive_fn(n - 1)\n",
      "    File \"/tmp/ipykernel_990624/2329783239.py\", line 4, in recursive_fn  *\n",
      "        return recursive_fn(n - 1)\n",
      "    File \"/tmp/ipykernel_990624/2329783239.py\", line 4, in recursive_fn  *\n",
      "        return recursive_fn(n - 1)\n",
      "    File \"/tmp/ipykernel_990624/2329783239.py\", line 4, in recursive_fn  *\n",
      "        return recursive_fn(n - 1)\n",
      "    File \"/tmp/ipykernel_990624/2329783239.py\", line 4, in recursive_fn  *\n",
      "        return recursive_fn(n - 1)\n",
      "    File \"/tmp/ipykernel_990624/2329783239.py\", line 4, in recursive_fn  *\n",
      "        return recursive_fn(n - 1)\n",
      "    File \"/tmp/ipykernel_990624/2329783239.py\", line 4, in recursive_fn  *\n",
      "        return recursive_fn(n - 1)\n",
      "    File \"/tmp/ipykernel_990624/2329783239.py\", line 4, in recursive_fn  *\n",
      "        return recursive_fn(n - 1)\n",
      "    File \"/tmp/ipykernel_990624/2329783239.py\", line 4, in recursive_fn  *\n",
      "        return recursive_fn(n - 1)\n",
      "    File \"/tmp/ipykernel_990624/2329783239.py\", line 4, in recursive_fn  *\n",
      "        return recursive_fn(n - 1)\n",
      "    File \"/tmp/ipykernel_990624/2329783239.py\", line 4, in recursive_fn  *\n",
      "        return recursive_fn(n - 1)\n",
      "    File \"/tmp/ipykernel_990624/2329783239.py\", line 4, in recursive_fn  *\n",
      "        return recursive_fn(n - 1)\n",
      "    File \"/tmp/ipykernel_990624/2329783239.py\", line 4, in recursive_fn  *\n",
      "        return recursive_fn(n - 1)\n",
      "    File \"/tmp/ipykernel_990624/2329783239.py\", line 4, in recursive_fn  *\n",
      "        return recursive_fn(n - 1)\n",
      "    File \"/tmp/ipykernel_990624/2329783239.py\", line 4, in recursive_fn  *\n",
      "        return recursive_fn(n - 1)\n",
      "    File \"/tmp/ipykernel_990624/2329783239.py\", line 4, in recursive_fn  *\n",
      "        return recursive_fn(n - 1)\n",
      "    File \"/tmp/ipykernel_990624/2329783239.py\", line 4, in recursive_fn  *\n",
      "        return recursive_fn(n - 1)\n",
      "    File \"/tmp/ipykernel_990624/2329783239.py\", line 4, in recursive_fn  *\n",
      "        return recursive_fn(n - 1)\n",
      "    File \"/tmp/ipykernel_990624/2329783239.py\", line 4, in recursive_fn  *\n",
      "        return recursive_fn(n - 1)\n",
      "    File \"/tmp/ipykernel_990624/2329783239.py\", line 4, in recursive_fn  *\n",
      "        return recursive_fn(n - 1)\n",
      "    File \"/tmp/ipykernel_990624/2329783239.py\", line 4, in recursive_fn  *\n",
      "        return recursive_fn(n - 1)\n",
      "    File \"/tmp/ipykernel_990624/2329783239.py\", line 4, in recursive_fn  *\n",
      "        return recursive_fn(n - 1)\n",
      "    File \"/tmp/ipykernel_990624/2329783239.py\", line 4, in recursive_fn  *\n",
      "        return recursive_fn(n - 1)\n",
      "    File \"/tmp/ipykernel_990624/2329783239.py\", line 4, in recursive_fn  *\n",
      "        return recursive_fn(n - 1)\n",
      "    File \"/tmp/ipykernel_990624/2329783239.py\", line 4, in recursive_fn  *\n",
      "        return recursive_fn(n - 1)\n",
      "    File \"/tmp/ipykernel_990624/2329783239.py\", line 4, in recursive_fn  *\n",
      "        return recursive_fn(n - 1)\n",
      "    File \"/tmp/ipykernel_990624/2329783239.py\", line 4, in recursive_fn  *\n",
      "        return recursive_fn(n - 1)\n",
      "    File \"/tmp/ipykernel_990624/2329783239.py\", line 4, in recursive_fn  *\n",
      "        return recursive_fn(n - 1)\n",
      "    File \"/tmp/ipykernel_990624/2329783239.py\", line 4, in recursive_fn  *\n",
      "        return recursive_fn(n - 1)\n",
      "    File \"/tmp/ipykernel_990624/2329783239.py\", line 4, in recursive_fn  *\n",
      "        return recursive_fn(n - 1)\n",
      "    File \"/tmp/ipykernel_990624/2329783239.py\", line 4, in recursive_fn  *\n",
      "        return recursive_fn(n - 1)\n",
      "    File \"/tmp/ipykernel_990624/2329783239.py\", line 4, in recursive_fn  *\n",
      "        return recursive_fn(n - 1)\n",
      "    File \"/tmp/ipykernel_990624/2329783239.py\", line 4, in recursive_fn  *\n",
      "        return recursive_fn(n - 1)\n",
      "    File \"/tmp/ipykernel_990624/2329783239.py\", line 4, in recursive_fn  *\n",
      "        return recursive_fn(n - 1)\n",
      "    File \"/tmp/ipykernel_990624/2329783239.py\", line 4, in recursive_fn  *\n",
      "        return recursive_fn(n - 1)\n",
      "    File \"/tmp/ipykernel_990624/2329783239.py\", line 4, in recursive_fn  *\n",
      "        return recursive_fn(n - 1)\n",
      "    File \"/tmp/ipykernel_990624/2329783239.py\", line 4, in recursive_fn  *\n",
      "        return recursive_fn(n - 1)\n",
      "    File \"/tmp/ipykernel_990624/2329783239.py\", line 4, in recursive_fn  *\n",
      "        return recursive_fn(n - 1)\n",
      "    File \"/tmp/ipykernel_990624/2329783239.py\", line 4, in recursive_fn  *\n",
      "        return recursive_fn(n - 1)\n",
      "    File \"/tmp/ipykernel_990624/2329783239.py\", line 4, in recursive_fn  *\n",
      "        return recursive_fn(n - 1)\n",
      "    File \"/tmp/ipykernel_990624/2329783239.py\", line 4, in recursive_fn  *\n",
      "        return recursive_fn(n - 1)\n",
      "    File \"/tmp/ipykernel_990624/2329783239.py\", line 4, in recursive_fn  *\n",
      "        return recursive_fn(n - 1)\n",
      "    File \"/tmp/ipykernel_990624/2329783239.py\", line 4, in recursive_fn  *\n",
      "        return recursive_fn(n - 1)\n",
      "    File \"/tmp/ipykernel_990624/2329783239.py\", line 4, in recursive_fn  *\n",
      "        return recursive_fn(n - 1)\n",
      "    File \"/tmp/ipykernel_990624/2329783239.py\", line 4, in recursive_fn  *\n",
      "        return recursive_fn(n - 1)\n",
      "    File \"/tmp/ipykernel_990624/2329783239.py\", line 4, in recursive_fn  *\n",
      "        return recursive_fn(n - 1)\n",
      "    File \"/tmp/ipykernel_990624/2329783239.py\", line 4, in recursive_fn  *\n",
      "        return recursive_fn(n - 1)\n",
      "    File \"/tmp/ipykernel_990624/2329783239.py\", line 4, in recursive_fn  *\n",
      "        return recursive_fn(n - 1)\n",
      "    File \"/tmp/ipykernel_990624/2329783239.py\", line 4, in recursive_fn  *\n",
      "        return recursive_fn(n - 1)\n",
      "    File \"/tmp/ipykernel_990624/2329783239.py\", line 4, in recursive_fn  *\n",
      "        return recursive_fn(n - 1)\n",
      "    File \"/tmp/ipykernel_990624/2329783239.py\", line 4, in recursive_fn  *\n",
      "        return recursive_fn(n - 1)\n",
      "    File \"/tmp/ipykernel_990624/2329783239.py\", line 4, in recursive_fn  *\n",
      "        return recursive_fn(n - 1)\n",
      "    File \"/tmp/ipykernel_990624/2329783239.py\", line 4, in recursive_fn  *\n",
      "        return recursive_fn(n - 1)\n",
      "    File \"/tmp/ipykernel_990624/2329783239.py\", line 4, in recursive_fn  *\n",
      "        return recursive_fn(n - 1)\n",
      "    File \"/tmp/ipykernel_990624/2329783239.py\", line 4, in recursive_fn  *\n",
      "        return recursive_fn(n - 1)\n",
      "    File \"/tmp/ipykernel_990624/2329783239.py\", line 4, in recursive_fn  *\n",
      "        return recursive_fn(n - 1)\n",
      "    File \"/tmp/ipykernel_990624/2329783239.py\", line 4, in recursive_fn  *\n",
      "        return recursive_fn(n - 1)\n",
      "    File \"/tmp/ipykernel_990624/2329783239.py\", line 4, in recursive_fn  *\n",
      "        return recursive_fn(n - 1)\n",
      "    File \"/tmp/ipykernel_990624/2329783239.py\", line 4, in recursive_fn  *\n",
      "        return recursive_fn(n - 1)\n",
      "    File \"/tmp/ipykernel_990624/2329783239.py\", line 4, in recursive_fn  *\n",
      "        return recursive_fn(n - 1)\n",
      "    File \"/tmp/ipykernel_990624/2329783239.py\", line 4, in recursive_fn  *\n",
      "        return recursive_fn(n - 1)\n",
      "    File \"/tmp/ipykernel_990624/2329783239.py\", line 4, in recursive_fn  *\n",
      "        return recursive_fn(n - 1)\n",
      "    File \"/tmp/ipykernel_990624/2329783239.py\", line 4, in recursive_fn  *\n",
      "        return recursive_fn(n - 1)\n",
      "    File \"/tmp/ipykernel_990624/2329783239.py\", line 4, in recursive_fn  *\n",
      "        return recursive_fn(n - 1)\n",
      "    File \"/tmp/ipykernel_990624/2329783239.py\", line 4, in recursive_fn  *\n",
      "        return recursive_fn(n - 1)\n",
      "    File \"/tmp/ipykernel_990624/2329783239.py\", line 4, in recursive_fn  *\n",
      "        return recursive_fn(n - 1)\n",
      "    File \"/tmp/ipykernel_990624/2329783239.py\", line 4, in recursive_fn  *\n",
      "        return recursive_fn(n - 1)\n",
      "    File \"/tmp/ipykernel_990624/2329783239.py\", line 4, in recursive_fn  *\n",
      "        return recursive_fn(n - 1)\n",
      "    File \"/tmp/ipykernel_990624/2329783239.py\", line 4, in recursive_fn  *\n",
      "        return recursive_fn(n - 1)\n",
      "    File \"/tmp/ipykernel_990624/2329783239.py\", line 4, in recursive_fn  *\n",
      "        return recursive_fn(n - 1)\n",
      "    File \"/tmp/ipykernel_990624/2329783239.py\", line 4, in recursive_fn  *\n",
      "        return recursive_fn(n - 1)\n",
      "    File \"/tmp/ipykernel_990624/2329783239.py\", line 4, in recursive_fn  *\n",
      "        return recursive_fn(n - 1)\n",
      "    File \"/tmp/ipykernel_990624/2329783239.py\", line 4, in recursive_fn  *\n",
      "        return recursive_fn(n - 1)\n",
      "    File \"/tmp/ipykernel_990624/2329783239.py\", line 4, in recursive_fn  *\n",
      "        return recursive_fn(n - 1)\n",
      "    File \"/tmp/ipykernel_990624/2329783239.py\", line 4, in recursive_fn  *\n",
      "        return recursive_fn(n - 1)\n",
      "    File \"/tmp/ipykernel_990624/2329783239.py\", line 4, in recursive_fn  *\n",
      "        return recursive_fn(n - 1)\n",
      "    File \"/tmp/ipykernel_990624/2329783239.py\", line 4, in recursive_fn  *\n",
      "        return recursive_fn(n - 1)\n",
      "    File \"/tmp/ipykernel_990624/2329783239.py\", line 4, in recursive_fn  *\n",
      "        return recursive_fn(n - 1)\n",
      "    File \"/tmp/ipykernel_990624/2329783239.py\", line 4, in recursive_fn  *\n",
      "        return recursive_fn(n - 1)\n",
      "    File \"/tmp/ipykernel_990624/2329783239.py\", line 4, in recursive_fn  *\n",
      "        return recursive_fn(n - 1)\n",
      "    File \"/tmp/ipykernel_990624/2329783239.py\", line 4, in recursive_fn  *\n",
      "        return recursive_fn(n - 1)\n",
      "    File \"/tmp/ipykernel_990624/2329783239.py\", line 4, in recursive_fn  *\n",
      "        return recursive_fn(n - 1)\n",
      "    File \"/tmp/ipykernel_990624/2329783239.py\", line 4, in recursive_fn  *\n",
      "        return recursive_fn(n - 1)\n",
      "    File \"/tmp/ipykernel_990624/2329783239.py\", line 4, in recursive_fn  *\n",
      "        return recursive_fn(n - 1)\n",
      "    File \"/home/is/.pyenv/versions/3.10.4/lib/python3.10/abc.py\", line 119, in __instancecheck__\n",
      "        return _abc_instancecheck(cls, instance)\n",
      "    File \"/home/is/.pyenv/versions/3.10.4/lib/python3.10/abc.py\", line 123, in __subclasscheck__\n",
      "        return _abc_subclasscheck(cls, subclass)\n",
      "\n",
      "    RecursionError: maximum recursion depth exceeded in comparison\n",
      "\n"
     ]
    }
   ],
   "source": [
    "@tf.function\n",
    "def recursive_fn(n):\n",
    "  if n > 0:\n",
    "    return recursive_fn(n - 1)\n",
    "  else:\n",
    "    return 1\n",
    "\n",
    "with assert_raises(Exception):\n",
    "  recursive_fn(tf.constant(5))  # Bad - maximum recursion error."
   ]
  },
  {
   "cell_type": "markdown",
   "metadata": {
    "id": "LyRyooKGUxNV",
    "pycharm": {
     "name": "#%% md\n"
    }
   },
   "source": [
    "Even if a recursive `Function` seems to work, the python function will be traced multiple times and could have performance implication. For example,"
   ]
  },
  {
   "cell_type": "code",
   "execution_count": 43,
   "metadata": {
    "id": "7FlmTqfMUwmT",
    "pycharm": {
     "name": "#%%\n"
    }
   },
   "outputs": [
    {
     "name": "stdout",
     "output_type": "stream",
     "text": [
      "tracing\n",
      "tracing\n",
      "tracing\n",
      "tracing\n",
      "tracing\n"
     ]
    },
    {
     "data": {
      "text/plain": [
       "<tf.Tensor: shape=(), dtype=int32, numpy=1>"
      ]
     },
     "execution_count": 43,
     "metadata": {},
     "output_type": "execute_result"
    }
   ],
   "source": [
    "@tf.function\n",
    "def recursive_fn(n):\n",
    "  if n > 0:\n",
    "    print('tracing')\n",
    "    return recursive_fn(n - 1)\n",
    "  else:\n",
    "    return 1\n",
    "\n",
    "recursive_fn(5)  # Warning - multiple tracings"
   ]
  },
  {
   "cell_type": "markdown",
   "metadata": {
    "id": "-D6nh3QirXAd",
    "pycharm": {
     "name": "#%% md\n"
    }
   },
   "source": [
    "## Known Issues\n",
    "\n",
    "If your `Function` is not evaluating correctly, the error may be explained by these known issues which are planned to be fixed in the future."
   ]
  },
  {
   "cell_type": "markdown",
   "metadata": {
    "id": "ZoPg5w1Pjqna",
    "pycharm": {
     "name": "#%% md\n"
    }
   },
   "source": [
    "### Depending on Python global and free variables\n",
    "\n",
    "`Function` creates a new `ConcreteFunction` when called with a new value of a Python argument. However, it does not do that for the Python closure, globals, or nonlocals of that `Function`. If their value changes in between calls to the `Function`, the `Function` will still use the values they had when it was traced. This is different from how regular Python functions work.\n",
    "\n",
    "For that reason, you should follow a functional programming style that uses arguments instead of closing over outer names."
   ]
  },
  {
   "cell_type": "code",
   "execution_count": 44,
   "metadata": {
    "id": "oeJMdXd3M0cM",
    "pycharm": {
     "name": "#%%\n"
    }
   },
   "outputs": [
    {
     "name": "stdout",
     "output_type": "stream",
     "text": [
      "Buggy: tf.Tensor(2, shape=(), dtype=int32)\n",
      "Correct: tf.Tensor(2, shape=(), dtype=int32)\n"
     ]
    }
   ],
   "source": [
    "@tf.function\n",
    "def buggy_add():\n",
    "  return 1 + foo\n",
    "\n",
    "@tf.function\n",
    "def recommended_add(foo):\n",
    "  return 1 + foo\n",
    "\n",
    "foo = 1\n",
    "print(\"Buggy:\", buggy_add())\n",
    "print(\"Correct:\", recommended_add(foo))"
   ]
  },
  {
   "cell_type": "code",
   "execution_count": 45,
   "metadata": {
    "id": "L3q7sUJWZOSU",
    "pycharm": {
     "name": "#%%\n"
    }
   },
   "outputs": [
    {
     "name": "stdout",
     "output_type": "stream",
     "text": [
      "Updating the value of `foo` to 100!\n",
      "Buggy: tf.Tensor(2, shape=(), dtype=int32)\n",
      "Correct: tf.Tensor(101, shape=(), dtype=int32)\n"
     ]
    }
   ],
   "source": [
    "print(\"Updating the value of `foo` to 100!\")\n",
    "foo = 100\n",
    "print(\"Buggy:\", buggy_add())  # Did not change!\n",
    "print(\"Correct:\", recommended_add(foo))"
   ]
  },
  {
   "cell_type": "markdown",
   "metadata": {
    "id": "ZoPg5w1Pjqnb",
    "pycharm": {
     "name": "#%% md\n"
    }
   },
   "source": [
    "Another way to update a global value, is to make it a `tf.Variable` and use the `Variable.assign` method instead.\n"
   ]
  },
  {
   "cell_type": "code",
   "execution_count": 46,
   "metadata": {
    "id": "oeJMdXd3M0cc",
    "pycharm": {
     "name": "#%%\n"
    }
   },
   "outputs": [
    {
     "name": "stdout",
     "output_type": "stream",
     "text": [
      "Variable: tf.Tensor(2, shape=(), dtype=int32)\n"
     ]
    }
   ],
   "source": [
    "@tf.function\n",
    "def variable_add():\n",
    "  return 1 + foo\n",
    "\n",
    "foo = tf.Variable(1)\n",
    "print(\"Variable:\", variable_add())\n"
   ]
  },
  {
   "cell_type": "code",
   "execution_count": 47,
   "metadata": {
    "id": "L3q7sUJWZOSd",
    "pycharm": {
     "name": "#%%\n"
    }
   },
   "outputs": [
    {
     "name": "stdout",
     "output_type": "stream",
     "text": [
      "Updating the value of `foo` to 100!\n",
      "Variable: tf.Tensor(101, shape=(), dtype=int32)\n"
     ]
    }
   ],
   "source": [
    "print(\"Updating the value of `foo` to 100!\")\n",
    "foo.assign(100)\n",
    "print(\"Variable:\", variable_add())"
   ]
  },
  {
   "cell_type": "markdown",
   "metadata": {
    "id": "hvwe9gTIWfx6",
    "pycharm": {
     "name": "#%% md\n"
    }
   },
   "source": [
    "#### Depending on Python objects"
   ]
  },
  {
   "cell_type": "markdown",
   "metadata": {
    "id": "BJkZS-SwPvOQ",
    "pycharm": {
     "name": "#%% md\n"
    }
   },
   "source": [
    "The recommendation to pass Python objects as arguments into `tf.function` has a number of known issues, that are expected to be fixed in the future. In general, you can rely on consistent tracing if you use a Python primitive or `tf.nest`-compatible structure as an argument or pass in a *different* instance of an object into a `Function`. However, `Function` will *not* create a new trace when you pass **the same object and only change its attributes**."
   ]
  },
  {
   "cell_type": "code",
   "execution_count": 48,
   "metadata": {
    "id": "ux8KJESVWDxX",
    "pycharm": {
     "name": "#%%\n"
    }
   },
   "outputs": [
    {
     "name": "stdout",
     "output_type": "stream",
     "text": [
      "tf.Tensor(20.0, shape=(), dtype=float32)\n"
     ]
    }
   ],
   "source": [
    "class SimpleModel(tf.Module):\n",
    "  def __init__(self):\n",
    "    # These values are *not* tf.Variables.\n",
    "    self.bias = 0.\n",
    "    self.weight = 2.\n",
    "\n",
    "@tf.function\n",
    "def evaluate(model, x):\n",
    "  return model.weight * x + model.bias\n",
    "\n",
    "simple_model = SimpleModel()\n",
    "x = tf.constant(10.)\n",
    "print(evaluate(simple_model, x))"
   ]
  },
  {
   "cell_type": "code",
   "execution_count": 49,
   "metadata": {
    "id": "mUxRF4ghZZvX",
    "pycharm": {
     "name": "#%%\n"
    }
   },
   "outputs": [
    {
     "name": "stdout",
     "output_type": "stream",
     "text": [
      "Adding bias!\n",
      "tf.Tensor(20.0, shape=(), dtype=float32)\n"
     ]
    }
   ],
   "source": [
    "print(\"Adding bias!\")\n",
    "simple_model.bias += 5.0\n",
    "print(evaluate(simple_model, x))  # Didn't change :("
   ]
  },
  {
   "cell_type": "markdown",
   "metadata": {
    "id": "Ytcgg2qFWaBF",
    "pycharm": {
     "name": "#%% md\n"
    }
   },
   "source": [
    "Using the same `Function` to evaluate the updated instance of the model will be buggy since the updated model has the [same cache key](#rules_of_tracing) as the original model.\n",
    "\n",
    "For that reason, you're recommended to write your `Function` to avoid depending on mutable object attributes or create new objects.\n",
    "\n",
    "If that is not possible, one workaround is to make new `Function`s each time you modify your object to force retracing:"
   ]
  },
  {
   "cell_type": "code",
   "execution_count": 50,
   "metadata": {
    "id": "pFvWmWAAQjrv",
    "pycharm": {
     "name": "#%%\n"
    }
   },
   "outputs": [
    {
     "name": "stdout",
     "output_type": "stream",
     "text": [
      "tf.Tensor(20.0, shape=(), dtype=float32)\n"
     ]
    }
   ],
   "source": [
    "def evaluate(model, x):\n",
    "  return model.weight * x + model.bias\n",
    "\n",
    "new_model = SimpleModel()\n",
    "evaluate_no_bias = tf.function(evaluate).get_concrete_function(new_model, x)\n",
    "# Don't pass in `new_model`, `Function` already captured its state during tracing.\n",
    "print(evaluate_no_bias(x))  "
   ]
  },
  {
   "cell_type": "code",
   "execution_count": 51,
   "metadata": {
    "id": "bdU2-jF4ZH0B",
    "pycharm": {
     "name": "#%%\n"
    }
   },
   "outputs": [
    {
     "name": "stdout",
     "output_type": "stream",
     "text": [
      "Adding bias!\n",
      "tf.Tensor(25.0, shape=(), dtype=float32)\n"
     ]
    }
   ],
   "source": [
    "print(\"Adding bias!\")\n",
    "new_model.bias += 5.0\n",
    "# Create new Function and ConcreteFunction since you modified new_model.\n",
    "evaluate_with_bias = tf.function(evaluate).get_concrete_function(new_model, x)\n",
    "print(evaluate_with_bias(x)) # Don't pass in `new_model`."
   ]
  },
  {
   "cell_type": "markdown",
   "metadata": {
    "id": "uFgEZClsZrEi",
    "pycharm": {
     "name": "#%% md\n"
    }
   },
   "source": [
    "As [retracing can be expensive](https://www.tensorflow.org/guide/intro_to_graphs#tracing_and_performance), you can use `tf.Variable`s as object attributes, which can be mutated (but not changed, careful!) for a similar effect without needing a retrace.\n"
   ]
  },
  {
   "cell_type": "code",
   "execution_count": 52,
   "metadata": {
    "id": "daAP_lucwS6w",
    "pycharm": {
     "name": "#%%\n"
    }
   },
   "outputs": [
    {
     "name": "stdout",
     "output_type": "stream",
     "text": [
      "tf.Tensor(20.0, shape=(), dtype=float32)\n"
     ]
    }
   ],
   "source": [
    "class BetterModel:\n",
    "\n",
    "  def __init__(self):\n",
    "    self.bias = tf.Variable(0.)\n",
    "    self.weight = tf.Variable(2.)\n",
    "\n",
    "@tf.function\n",
    "def evaluate(model, x):\n",
    "  return model.weight * x + model.bias\n",
    "\n",
    "better_model = BetterModel()\n",
    "print(evaluate(better_model, x))\n"
   ]
  },
  {
   "cell_type": "code",
   "execution_count": 53,
   "metadata": {
    "id": "ktqwMJBqwTFj",
    "pycharm": {
     "name": "#%%\n"
    }
   },
   "outputs": [
    {
     "name": "stdout",
     "output_type": "stream",
     "text": [
      "Adding bias!\n",
      "tf.Tensor(25.0, shape=(), dtype=float32)\n"
     ]
    }
   ],
   "source": [
    "print(\"Adding bias!\")\n",
    "better_model.bias.assign_add(5.0)  # Note: instead of better_model.bias += 5\n",
    "print(evaluate(better_model, x))  # This works!"
   ]
  },
  {
   "cell_type": "markdown",
   "metadata": {
    "id": "lPr_6mK_AQWL",
    "pycharm": {
     "name": "#%% md\n"
    }
   },
   "source": [
    "### Creating tf.Variables\n",
    "\n",
    "`Function` only supports singleton `tf.Variable`s created once on the first call, and reused across subsequent function calls. The code snippet below would create a new `tf.Variable` in every function call, which results in a `ValueError` exception.\n",
    "\n",
    "Example:"
   ]
  },
  {
   "cell_type": "code",
   "execution_count": 54,
   "metadata": {
    "id": "Tx0Vvnb_9OB-",
    "pycharm": {
     "name": "#%%\n"
    }
   },
   "outputs": [
    {
     "name": "stdout",
     "output_type": "stream",
     "text": [
      "Caught expected exception \n",
      "  <class 'ValueError'>:\n"
     ]
    },
    {
     "name": "stderr",
     "output_type": "stream",
     "text": [
      "Traceback (most recent call last):\n",
      "  File \"/tmp/ipykernel_990624/995125583.py\", line 8, in assert_raises\n",
      "    yield\n",
      "  File \"/tmp/ipykernel_990624/2711368364.py\", line 7, in <cell line: 6>\n",
      "    f(1.0)\n",
      "ValueError: in user code:\n",
      "\n",
      "    File \"/tmp/ipykernel_990624/2711368364.py\", line 3, in f  *\n",
      "        v = tf.Variable(1.0)\n",
      "\n",
      "    ValueError: tf.function only supports singleton tf.Variables created on the first call. Make sure the tf.Variable is only created once or created outside tf.function. See https://www.tensorflow.org/guide/function#creating_tfvariables for more information.\n",
      "\n"
     ]
    }
   ],
   "source": [
    "@tf.function\n",
    "def f(x):\n",
    "  v = tf.Variable(1.0)\n",
    "  return v\n",
    "\n",
    "with assert_raises(ValueError):\n",
    "  f(1.0)"
   ]
  },
  {
   "cell_type": "markdown",
   "metadata": {
    "id": "KYm6-5GCILXQ",
    "pycharm": {
     "name": "#%% md\n"
    }
   },
   "source": [
    "A common pattern used to work around this limitation is to start with a Python None value, then conditionally create the `tf.Variable` if the value is None:"
   ]
  },
  {
   "cell_type": "code",
   "execution_count": 55,
   "metadata": {
    "id": "HQrG5_kOiKl_",
    "pycharm": {
     "name": "#%%\n"
    }
   },
   "outputs": [
    {
     "name": "stdout",
     "output_type": "stream",
     "text": [
      "tf.Tensor(1, shape=(), dtype=int32)\n",
      "tf.Tensor(2, shape=(), dtype=int32)\n"
     ]
    }
   ],
   "source": [
    "class Count(tf.Module):\n",
    "  def __init__(self):\n",
    "    self.count = None\n",
    "\n",
    "  @tf.function\n",
    "  def __call__(self):\n",
    "    if self.count is None:\n",
    "      self.count = tf.Variable(0)\n",
    "    return self.count.assign_add(1)\n",
    "\n",
    "c = Count()\n",
    "print(c())\n",
    "print(c())"
   ]
  },
  {
   "cell_type": "markdown",
   "metadata": {
    "id": "7uD6qI7aJwbR",
    "pycharm": {
     "name": "#%% md\n"
    }
   },
   "source": [
    "#### Using with multiple Keras optimizers\n",
    "You may encounter `ValueError: tf.function only supports singleton tf.Variables created on the first call.` when using more than one Keras optimizer with a `tf.function`. This error occurs because optimizers internally create `tf.Variables` when they apply gradients for the first time."
   ]
  },
  {
   "cell_type": "code",
   "execution_count": 56,
   "metadata": {
    "id": "yWQ3-r99Jvze",
    "pycharm": {
     "name": "#%%\n"
    }
   },
   "outputs": [
    {
     "name": "stdout",
     "output_type": "stream",
     "text": [
      "Calling `train_step` with different optimizer...\n",
      "Caught expected exception \n",
      "  <class 'ValueError'>:\n"
     ]
    },
    {
     "name": "stderr",
     "output_type": "stream",
     "text": [
      "Traceback (most recent call last):\n",
      "  File \"/tmp/ipykernel_990624/995125583.py\", line 8, in assert_raises\n",
      "    yield\n",
      "  File \"/tmp/ipykernel_990624/3901992713.py\", line 18, in <cell line: 17>\n",
      "    train_step(w, x, y, opt2)\n",
      "ValueError: in user code:\n",
      "\n",
      "    File \"/tmp/ipykernel_990624/3901992713.py\", line 9, in train_step  *\n",
      "        optimizer.apply_gradients(zip(gradients, [w]))\n",
      "    File \"/home/is/.pyenv/versions/3.10.4/envs/eos/lib/python3.10/site-packages/keras/optimizers/optimizer_v2/optimizer_v2.py\", line 646, in apply_gradients  **\n",
      "        self._create_all_weights(var_list)\n",
      "    File \"/home/is/.pyenv/versions/3.10.4/envs/eos/lib/python3.10/site-packages/keras/optimizers/optimizer_v2/optimizer_v2.py\", line 858, in _create_all_weights\n",
      "        _ = self.iterations\n",
      "    File \"/home/is/.pyenv/versions/3.10.4/envs/eos/lib/python3.10/site-packages/keras/optimizers/optimizer_v2/optimizer_v2.py\", line 866, in __getattribute__\n",
      "        return super(OptimizerV2, self).__getattribute__(name)\n",
      "    File \"/home/is/.pyenv/versions/3.10.4/envs/eos/lib/python3.10/site-packages/keras/optimizers/optimizer_v2/optimizer_v2.py\", line 1033, in iterations\n",
      "        self._iterations = self.add_weight(\n",
      "    File \"/home/is/.pyenv/versions/3.10.4/envs/eos/lib/python3.10/site-packages/keras/optimizers/optimizer_v2/optimizer_v2.py\", line 1233, in add_weight\n",
      "        variable = self._add_variable_with_custom_getter(\n",
      "    File \"/home/is/.pyenv/versions/3.10.4/envs/eos/lib/python3.10/site-packages/keras/engine/base_layer_utils.py\", line 126, in make_variable\n",
      "        return tf.compat.v1.Variable(\n",
      "\n",
      "    ValueError: tf.function only supports singleton tf.Variables created on the first call. Make sure the tf.Variable is only created once or created outside tf.function. See https://www.tensorflow.org/guide/function#creating_tfvariables for more information.\n",
      "\n"
     ]
    }
   ],
   "source": [
    "opt1 = tf.keras.optimizers.Adam(learning_rate = 1e-2)\n",
    "opt2 = tf.keras.optimizers.Adam(learning_rate = 1e-3)\n",
    " \n",
    "@tf.function\n",
    "def train_step(w, x, y, optimizer):\n",
    "   with tf.GradientTape() as tape:\n",
    "       L = tf.reduce_sum(tf.square(w*x - y))\n",
    "   gradients = tape.gradient(L, [w])\n",
    "   optimizer.apply_gradients(zip(gradients, [w]))\n",
    "\n",
    "w = tf.Variable(2.)\n",
    "x = tf.constant([-1.])\n",
    "y = tf.constant([2.])\n",
    "\n",
    "train_step(w, x, y, opt1)\n",
    "print(\"Calling `train_step` with different optimizer...\")\n",
    "with assert_raises(ValueError):\n",
    "  train_step(w, x, y, opt2)"
   ]
  },
  {
   "cell_type": "markdown",
   "metadata": {
    "id": "7Q8BRPCThTjB",
    "pycharm": {
     "name": "#%% md\n"
    }
   },
   "source": [
    "If you need to change the optimizer during training, a workaround is to create a new `Function` for each optimizer, calling the [`ConcreteFunction`](#obtaining_concrete_functions) directly."
   ]
  },
  {
   "cell_type": "code",
   "execution_count": 57,
   "metadata": {
    "id": "YV5F2Gy9hSI3",
    "pycharm": {
     "name": "#%%\n"
    }
   },
   "outputs": [],
   "source": [
    "opt1 = tf.keras.optimizers.Adam(learning_rate = 1e-2)\n",
    "opt2 = tf.keras.optimizers.Adam(learning_rate = 1e-3)\n",
    "\n",
    "# Not a tf.function.\n",
    "def train_step(w, x, y, optimizer):\n",
    "   with tf.GradientTape() as tape:\n",
    "       L = tf.reduce_sum(tf.square(w*x - y))\n",
    "   gradients = tape.gradient(L, [w])\n",
    "   optimizer.apply_gradients(zip(gradients, [w]))\n",
    "\n",
    "w = tf.Variable(2.)\n",
    "x = tf.constant([-1.])\n",
    "y = tf.constant([2.])\n",
    "\n",
    "# Make a new Function and ConcreteFunction for each optimizer.\n",
    "train_step_1 = tf.function(train_step).get_concrete_function(w, x, y, opt1)\n",
    "train_step_2 = tf.function(train_step).get_concrete_function(w, x, y, opt2)\n",
    "for i in range(10):\n",
    "  if i % 2 == 0:\n",
    "    train_step_1(w, x, y) # `opt1` is not used as a parameter. \n",
    "  else:\n",
    "    train_step_2(w, x, y) # `opt2` is not used as a parameter."
   ]
  },
  {
   "cell_type": "markdown",
   "metadata": {
    "id": "Xjnz5CcuqQac",
    "pycharm": {
     "name": "#%% md\n"
    }
   },
   "source": [
    "#### Using with multiple Keras models\n",
    "\n",
    "You may also encounter `ValueError: tf.function only supports singleton tf.Variables created on the first call.` when passing different model instances to the same `Function`.\n",
    "\n",
    "This error occurs because Keras models (which [do not have their input shape defined](https://www.tensorflow.org/guide/keras/custom_layers_and_models#best_practice_deferring_weight_creation_until_the_shape_of_the_inputs_is_known)) and Keras layers create `tf.Variables`s when they are first called. You may be attempting to initialize those variables inside a `Function`, which has already been called. To avoid this error, try calling `model.build(input_shape)` to initialize all the weights before training the model.\n"
   ]
  },
  {
   "cell_type": "markdown",
   "metadata": {
    "pycharm": {
     "name": "#%% md\n"
    }
   },
   "source": [
    "## Further reading\n",
    "\n",
    "To learn about how to export and load a `Function`, see the [SavedModel guide](../../guide/saved_model). To learn more about graph optimizations that are performed after tracing, see the [Grappler guide](../../guide/graph_optimization). To learn how to optimize your data pipeline and profile your model, see the [Profiler guide](../../guide/profiler.md)."
   ]
  }
 ],
 "metadata": {
  "colab": {
   "collapsed_sections": [],
   "name": "function.ipynb",
   "provenance": [],
   "toc_visible": true
  },
  "kernelspec": {
   "display_name": "Python 3 (ipykernel)",
   "language": "python",
   "name": "python3"
  },
  "language_info": {
   "codemirror_mode": {
    "name": "ipython",
    "version": 3
   },
   "file_extension": ".py",
   "mimetype": "text/x-python",
   "name": "python",
   "nbconvert_exporter": "python",
   "pygments_lexer": "ipython3",
   "version": "3.10.4"
  }
 },
 "nbformat": 4,
 "nbformat_minor": 1
}