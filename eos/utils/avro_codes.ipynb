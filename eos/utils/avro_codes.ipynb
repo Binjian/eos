{
 "cells": [
  {
   "cell_type": "code",
   "execution_count": 1,
   "id": "35c26be5",
   "metadata": {
    "scrolled": true,
    "ExecuteTime": {
     "end_time": "2023-09-28T05:41:59.708979718Z",
     "start_time": "2023-09-28T05:41:56.801652501Z"
    }
   },
   "outputs": [
    {
     "name": "stderr",
     "output_type": "stream",
     "text": [
      "2023-09-28 13:41:56.819539: I tensorflow/core/platform/cpu_feature_guard.cc:193] This TensorFlow binary is optimized with oneAPI Deep Neural Network Library (oneDNN) to use the following CPU instructions in performance-critical operations:  SSE4.1 SSE4.2 AVX AVX2 FMA\n",
      "To enable them in other operations, rebuild TensorFlow with the appropriate compiler flags.\n",
      "2023-09-28 13:41:59.189305: I tensorflow/compiler/xla/stream_executor/cuda/cuda_gpu_executor.cc:981] successful NUMA node read from SysFS had negative value (-1), but there must be at least one NUMA node, so returning NUMA node zero\n",
      "2023-09-28 13:41:59.209191: I tensorflow/compiler/xla/stream_executor/cuda/cuda_gpu_executor.cc:981] successful NUMA node read from SysFS had negative value (-1), but there must be at least one NUMA node, so returning NUMA node zero\n",
      "2023-09-28 13:41:59.209373: I tensorflow/compiler/xla/stream_executor/cuda/cuda_gpu_executor.cc:981] successful NUMA node read from SysFS had negative value (-1), but there must be at least one NUMA node, so returning NUMA node zero\n"
     ]
    }
   ],
   "source": [
    "# from eos import proj_root\n",
    "from eos.data_io.struct.eos_data import StateSpecs"
   ]
  },
  {
   "cell_type": "code",
   "execution_count": 2,
   "id": "1373681d",
   "metadata": {
    "ExecuteTime": {
     "end_time": "2023-09-28T05:41:59.709081284Z",
     "start_time": "2023-09-28T05:41:59.214473662Z"
    }
   },
   "outputs": [],
   "source": [
    "from IPython.core.interactiveshell import InteractiveShell\n",
    "\n",
    "InteractiveShell.ast_node_interactivity = \"all\"\n",
    "\n",
    "from fastavro import writer, reader, parse_schema"
   ]
  },
  {
   "cell_type": "code",
   "execution_count": 2,
   "outputs": [],
   "source": [],
   "metadata": {
    "collapsed": false,
    "ExecuteTime": {
     "end_time": "2023-09-28T05:41:59.709129091Z",
     "start_time": "2023-09-28T05:41:59.217468238Z"
    }
   },
   "id": "bdf6b16c5358ec90"
  },
  {
   "cell_type": "code",
   "execution_count": 3,
   "id": "3bb3c0f7",
   "metadata": {
    "ExecuteTime": {
     "end_time": "2023-09-28T05:41:59.709248119Z",
     "start_time": "2023-09-28T05:41:59.219910905Z"
    }
   },
   "outputs": [
    {
     "data": {
      "text/plain": "'/home/n/devel/anting_remote/eos/data'"
     },
     "execution_count": 3,
     "metadata": {},
     "output_type": "execute_result"
    }
   ],
   "source": [
    "import os\n",
    "from eos import proj_root\n",
    "\n",
    "os.chdir(proj_root / \"data\")\n",
    "os.getcwd()"
   ]
  },
  {
   "cell_type": "code",
   "execution_count": 4,
   "id": "eea55958",
   "metadata": {
    "ExecuteTime": {
     "end_time": "2023-09-28T05:41:59.709918956Z",
     "start_time": "2023-09-28T05:41:59.232865494Z"
    }
   },
   "outputs": [
    {
     "data": {
      "text/plain": "qtuple                                                                               action  \\\nrows                                                                                     r0   \nidx                                                                                       0   \nvehicle driver     episodestart                     timestamp                                 \nVB7     wang-cheng 2023-09-28 13:41:59.237642+08:00 2023-09-28 14:41:59.237642+08:00   12.0   \n                                                    2023-09-28 15:41:59.237642+08:00   12.0   \n                                                    2023-09-28 16:41:59.237642+08:00   12.0   \n                                                    2023-09-28 17:41:59.237642+08:00   12.0   \n                                                    2023-09-28 18:41:59.237642+08:00   12.0   \n\nqtuple                                                                                      \\\nrows                                                                                         \nidx                                                                                      1   \nvehicle driver     episodestart                     timestamp                                \nVB7     wang-cheng 2023-09-28 13:41:59.237642+08:00 2023-09-28 14:41:59.237642+08:00  13.0   \n                                                    2023-09-28 15:41:59.237642+08:00  13.0   \n                                                    2023-09-28 16:41:59.237642+08:00  13.0   \n                                                    2023-09-28 17:41:59.237642+08:00  13.0   \n                                                    2023-09-28 18:41:59.237642+08:00  13.0   \n\nqtuple                                                                                      \\\nrows                                                                                         \nidx                                                                                      2   \nvehicle driver     episodestart                     timestamp                                \nVB7     wang-cheng 2023-09-28 13:41:59.237642+08:00 2023-09-28 14:41:59.237642+08:00  14.0   \n                                                    2023-09-28 15:41:59.237642+08:00  14.0   \n                                                    2023-09-28 16:41:59.237642+08:00  14.0   \n                                                    2023-09-28 17:41:59.237642+08:00  14.0   \n                                                    2023-09-28 18:41:59.237642+08:00  14.0   \n\nqtuple                                                                                      \\\nrows                                                                                         \nidx                                                                                      3   \nvehicle driver     episodestart                     timestamp                                \nVB7     wang-cheng 2023-09-28 13:41:59.237642+08:00 2023-09-28 14:41:59.237642+08:00  15.0   \n                                                    2023-09-28 15:41:59.237642+08:00  15.0   \n                                                    2023-09-28 16:41:59.237642+08:00  15.0   \n                                                    2023-09-28 17:41:59.237642+08:00  15.0   \n                                                    2023-09-28 18:41:59.237642+08:00  15.0   \n\nqtuple                                                                                      \\\nrows                                                                                         \nidx                                                                                      4   \nvehicle driver     episodestart                     timestamp                                \nVB7     wang-cheng 2023-09-28 13:41:59.237642+08:00 2023-09-28 14:41:59.237642+08:00  16.0   \n                                                    2023-09-28 15:41:59.237642+08:00  16.0   \n                                                    2023-09-28 16:41:59.237642+08:00  16.0   \n                                                    2023-09-28 17:41:59.237642+08:00  16.0   \n                                                    2023-09-28 18:41:59.237642+08:00  16.0   \n\nqtuple                                                                                      \\\nrows                                                                                    r1   \nidx                                                                                      0   \nvehicle driver     episodestart                     timestamp                                \nVB7     wang-cheng 2023-09-28 13:41:59.237642+08:00 2023-09-28 14:41:59.237642+08:00  17.0   \n                                                    2023-09-28 15:41:59.237642+08:00  17.0   \n                                                    2023-09-28 16:41:59.237642+08:00  17.0   \n                                                    2023-09-28 17:41:59.237642+08:00  17.0   \n                                                    2023-09-28 18:41:59.237642+08:00  17.0   \n\nqtuple                                                                                      \\\nrows                                                                                         \nidx                                                                                      1   \nvehicle driver     episodestart                     timestamp                                \nVB7     wang-cheng 2023-09-28 13:41:59.237642+08:00 2023-09-28 14:41:59.237642+08:00  18.0   \n                                                    2023-09-28 15:41:59.237642+08:00  18.0   \n                                                    2023-09-28 16:41:59.237642+08:00  18.0   \n                                                    2023-09-28 17:41:59.237642+08:00  18.0   \n                                                    2023-09-28 18:41:59.237642+08:00  18.0   \n\nqtuple                                                                                      \\\nrows                                                                                         \nidx                                                                                      2   \nvehicle driver     episodestart                     timestamp                                \nVB7     wang-cheng 2023-09-28 13:41:59.237642+08:00 2023-09-28 14:41:59.237642+08:00  19.0   \n                                                    2023-09-28 15:41:59.237642+08:00  19.0   \n                                                    2023-09-28 16:41:59.237642+08:00  19.0   \n                                                    2023-09-28 17:41:59.237642+08:00  19.0   \n                                                    2023-09-28 18:41:59.237642+08:00  19.0   \n\nqtuple                                                                                      \\\nrows                                                                                         \nidx                                                                                      3   \nvehicle driver     episodestart                     timestamp                                \nVB7     wang-cheng 2023-09-28 13:41:59.237642+08:00 2023-09-28 14:41:59.237642+08:00  20.0   \n                                                    2023-09-28 15:41:59.237642+08:00  20.0   \n                                                    2023-09-28 16:41:59.237642+08:00  20.0   \n                                                    2023-09-28 17:41:59.237642+08:00  20.0   \n                                                    2023-09-28 18:41:59.237642+08:00  20.0   \n\nqtuple                                                                                      \\\nrows                                                                                         \nidx                                                                                      4   \nvehicle driver     episodestart                     timestamp                                \nVB7     wang-cheng 2023-09-28 13:41:59.237642+08:00 2023-09-28 14:41:59.237642+08:00  21.0   \n                                                    2023-09-28 15:41:59.237642+08:00  21.0   \n                                                    2023-09-28 16:41:59.237642+08:00  21.0   \n                                                    2023-09-28 17:41:59.237642+08:00  21.0   \n                                                    2023-09-28 18:41:59.237642+08:00  21.0   \n\nqtuple                                                                                ...  \\\nrows                                                                                  ...   \nidx                                                                                   ...   \nvehicle driver     episodestart                     timestamp                         ...   \nVB7     wang-cheng 2023-09-28 13:41:59.237642+08:00 2023-09-28 14:41:59.237642+08:00  ...   \n                                                    2023-09-28 15:41:59.237642+08:00  ...   \n                                                    2023-09-28 16:41:59.237642+08:00  ...   \n                                                    2023-09-28 17:41:59.237642+08:00  ...   \n                                                    2023-09-28 18:41:59.237642+08:00  ...   \n\nqtuple                                                                                state  \\\nrows                                                                                 thrust   \nidx                                                                                       2   \nvehicle driver     episodestart                     timestamp                                 \nVB7     wang-cheng 2023-09-28 13:41:59.237642+08:00 2023-09-28 14:41:59.237642+08:00    6.0   \n                                                    2023-09-28 15:41:59.237642+08:00    6.0   \n                                                    2023-09-28 16:41:59.237642+08:00    6.0   \n                                                    2023-09-28 17:41:59.237642+08:00    6.0   \n                                                    2023-09-28 18:41:59.237642+08:00    6.0   \n\nqtuple                                                                                     \\\nrows                                                                                        \nidx                                                                                     3   \nvehicle driver     episodestart                     timestamp                               \nVB7     wang-cheng 2023-09-28 13:41:59.237642+08:00 2023-09-28 14:41:59.237642+08:00  7.0   \n                                                    2023-09-28 15:41:59.237642+08:00  7.0   \n                                                    2023-09-28 16:41:59.237642+08:00  7.0   \n                                                    2023-09-28 17:41:59.237642+08:00  7.0   \n                                                    2023-09-28 18:41:59.237642+08:00  7.0   \n\nqtuple                                                                                                                  \\\nrows                                                                                                          timestep   \nidx                                                                                                                  0   \nvehicle driver     episodestart                     timestamp                                                            \nVB7     wang-cheng 2023-09-28 13:41:59.237642+08:00 2023-09-28 14:41:59.237642+08:00  2023-09-28 13:41:59.237642+08:00   \n                                                    2023-09-28 15:41:59.237642+08:00  2023-09-28 13:41:59.237642+08:00   \n                                                    2023-09-28 16:41:59.237642+08:00  2023-09-28 13:41:59.237642+08:00   \n                                                    2023-09-28 17:41:59.237642+08:00  2023-09-28 13:41:59.237642+08:00   \n                                                    2023-09-28 18:41:59.237642+08:00  2023-09-28 13:41:59.237642+08:00   \n\nqtuple                                                                                                                  \\\nrows                                                                                                                     \nidx                                                                                                                  1   \nvehicle driver     episodestart                     timestamp                                                            \nVB7     wang-cheng 2023-09-28 13:41:59.237642+08:00 2023-09-28 14:41:59.237642+08:00  2023-09-28 13:41:59.257642+08:00   \n                                                    2023-09-28 15:41:59.237642+08:00  2023-09-28 13:41:59.257642+08:00   \n                                                    2023-09-28 16:41:59.237642+08:00  2023-09-28 13:41:59.257642+08:00   \n                                                    2023-09-28 17:41:59.237642+08:00  2023-09-28 13:41:59.257642+08:00   \n                                                    2023-09-28 18:41:59.237642+08:00  2023-09-28 13:41:59.257642+08:00   \n\nqtuple                                                                                                                  \\\nrows                                                                                                                     \nidx                                                                                                                  2   \nvehicle driver     episodestart                     timestamp                                                            \nVB7     wang-cheng 2023-09-28 13:41:59.237642+08:00 2023-09-28 14:41:59.237642+08:00  2023-09-28 13:41:59.277642+08:00   \n                                                    2023-09-28 15:41:59.237642+08:00  2023-09-28 13:41:59.277642+08:00   \n                                                    2023-09-28 16:41:59.237642+08:00  2023-09-28 13:41:59.277642+08:00   \n                                                    2023-09-28 17:41:59.237642+08:00  2023-09-28 13:41:59.277642+08:00   \n                                                    2023-09-28 18:41:59.237642+08:00  2023-09-28 13:41:59.277642+08:00   \n\nqtuple                                                                                                                  \\\nrows                                                                                                                     \nidx                                                                                                                  3   \nvehicle driver     episodestart                     timestamp                                                            \nVB7     wang-cheng 2023-09-28 13:41:59.237642+08:00 2023-09-28 14:41:59.237642+08:00  2023-09-28 13:41:59.297642+08:00   \n                                                    2023-09-28 15:41:59.237642+08:00  2023-09-28 13:41:59.297642+08:00   \n                                                    2023-09-28 16:41:59.237642+08:00  2023-09-28 13:41:59.297642+08:00   \n                                                    2023-09-28 17:41:59.237642+08:00  2023-09-28 13:41:59.297642+08:00   \n                                                    2023-09-28 18:41:59.237642+08:00  2023-09-28 13:41:59.297642+08:00   \n\nqtuple                                                                                         \\\nrows                                                                                 velocity   \nidx                                                                                         0   \nvehicle driver     episodestart                     timestamp                                   \nVB7     wang-cheng 2023-09-28 13:41:59.237642+08:00 2023-09-28 14:41:59.237642+08:00      0.0   \n                                                    2023-09-28 15:41:59.237642+08:00      0.0   \n                                                    2023-09-28 16:41:59.237642+08:00      0.0   \n                                                    2023-09-28 17:41:59.237642+08:00      0.0   \n                                                    2023-09-28 18:41:59.237642+08:00      0.0   \n\nqtuple                                                                                     \\\nrows                                                                                        \nidx                                                                                     1   \nvehicle driver     episodestart                     timestamp                               \nVB7     wang-cheng 2023-09-28 13:41:59.237642+08:00 2023-09-28 14:41:59.237642+08:00  1.0   \n                                                    2023-09-28 15:41:59.237642+08:00  1.0   \n                                                    2023-09-28 16:41:59.237642+08:00  1.0   \n                                                    2023-09-28 17:41:59.237642+08:00  1.0   \n                                                    2023-09-28 18:41:59.237642+08:00  1.0   \n\nqtuple                                                                                     \\\nrows                                                                                        \nidx                                                                                     2   \nvehicle driver     episodestart                     timestamp                               \nVB7     wang-cheng 2023-09-28 13:41:59.237642+08:00 2023-09-28 14:41:59.237642+08:00  2.0   \n                                                    2023-09-28 15:41:59.237642+08:00  2.0   \n                                                    2023-09-28 16:41:59.237642+08:00  2.0   \n                                                    2023-09-28 17:41:59.237642+08:00  2.0   \n                                                    2023-09-28 18:41:59.237642+08:00  2.0   \n\nqtuple                                                                                     \nrows                                                                                       \nidx                                                                                     3  \nvehicle driver     episodestart                     timestamp                              \nVB7     wang-cheng 2023-09-28 13:41:59.237642+08:00 2023-09-28 14:41:59.237642+08:00  3.0  \n                                                    2023-09-28 15:41:59.237642+08:00  3.0  \n                                                    2023-09-28 16:41:59.237642+08:00  3.0  \n                                                    2023-09-28 17:41:59.237642+08:00  3.0  \n                                                    2023-09-28 18:41:59.237642+08:00  3.0  \n\n[5 rows x 60 columns]",
      "text/html": "<div>\n<style scoped>\n    .dataframe tbody tr th:only-of-type {\n        vertical-align: middle;\n    }\n\n    .dataframe tbody tr th {\n        vertical-align: top;\n    }\n\n    .dataframe thead tr th {\n        text-align: left;\n    }\n\n    .dataframe thead tr:last-of-type th {\n        text-align: right;\n    }\n</style>\n<table border=\"1\" class=\"dataframe\">\n  <thead>\n    <tr>\n      <th></th>\n      <th></th>\n      <th></th>\n      <th>qtuple</th>\n      <th colspan=\"10\" halign=\"left\">action</th>\n      <th>...</th>\n      <th colspan=\"10\" halign=\"left\">state</th>\n    </tr>\n    <tr>\n      <th></th>\n      <th></th>\n      <th></th>\n      <th>rows</th>\n      <th colspan=\"5\" halign=\"left\">r0</th>\n      <th colspan=\"5\" halign=\"left\">r1</th>\n      <th>...</th>\n      <th colspan=\"2\" halign=\"left\">thrust</th>\n      <th colspan=\"4\" halign=\"left\">timestep</th>\n      <th colspan=\"4\" halign=\"left\">velocity</th>\n    </tr>\n    <tr>\n      <th></th>\n      <th></th>\n      <th></th>\n      <th>idx</th>\n      <th>0</th>\n      <th>1</th>\n      <th>2</th>\n      <th>3</th>\n      <th>4</th>\n      <th>0</th>\n      <th>1</th>\n      <th>2</th>\n      <th>3</th>\n      <th>4</th>\n      <th>...</th>\n      <th>2</th>\n      <th>3</th>\n      <th>0</th>\n      <th>1</th>\n      <th>2</th>\n      <th>3</th>\n      <th>0</th>\n      <th>1</th>\n      <th>2</th>\n      <th>3</th>\n    </tr>\n    <tr>\n      <th>vehicle</th>\n      <th>driver</th>\n      <th>episodestart</th>\n      <th>timestamp</th>\n      <th></th>\n      <th></th>\n      <th></th>\n      <th></th>\n      <th></th>\n      <th></th>\n      <th></th>\n      <th></th>\n      <th></th>\n      <th></th>\n      <th></th>\n      <th></th>\n      <th></th>\n      <th></th>\n      <th></th>\n      <th></th>\n      <th></th>\n      <th></th>\n      <th></th>\n      <th></th>\n      <th></th>\n    </tr>\n  </thead>\n  <tbody>\n    <tr>\n      <th rowspan=\"5\" valign=\"top\">VB7</th>\n      <th rowspan=\"5\" valign=\"top\">wang-cheng</th>\n      <th rowspan=\"5\" valign=\"top\">2023-09-28 13:41:59.237642+08:00</th>\n      <th>2023-09-28 14:41:59.237642+08:00</th>\n      <td>12.0</td>\n      <td>13.0</td>\n      <td>14.0</td>\n      <td>15.0</td>\n      <td>16.0</td>\n      <td>17.0</td>\n      <td>18.0</td>\n      <td>19.0</td>\n      <td>20.0</td>\n      <td>21.0</td>\n      <td>...</td>\n      <td>6.0</td>\n      <td>7.0</td>\n      <td>2023-09-28 13:41:59.237642+08:00</td>\n      <td>2023-09-28 13:41:59.257642+08:00</td>\n      <td>2023-09-28 13:41:59.277642+08:00</td>\n      <td>2023-09-28 13:41:59.297642+08:00</td>\n      <td>0.0</td>\n      <td>1.0</td>\n      <td>2.0</td>\n      <td>3.0</td>\n    </tr>\n    <tr>\n      <th>2023-09-28 15:41:59.237642+08:00</th>\n      <td>12.0</td>\n      <td>13.0</td>\n      <td>14.0</td>\n      <td>15.0</td>\n      <td>16.0</td>\n      <td>17.0</td>\n      <td>18.0</td>\n      <td>19.0</td>\n      <td>20.0</td>\n      <td>21.0</td>\n      <td>...</td>\n      <td>6.0</td>\n      <td>7.0</td>\n      <td>2023-09-28 13:41:59.237642+08:00</td>\n      <td>2023-09-28 13:41:59.257642+08:00</td>\n      <td>2023-09-28 13:41:59.277642+08:00</td>\n      <td>2023-09-28 13:41:59.297642+08:00</td>\n      <td>0.0</td>\n      <td>1.0</td>\n      <td>2.0</td>\n      <td>3.0</td>\n    </tr>\n    <tr>\n      <th>2023-09-28 16:41:59.237642+08:00</th>\n      <td>12.0</td>\n      <td>13.0</td>\n      <td>14.0</td>\n      <td>15.0</td>\n      <td>16.0</td>\n      <td>17.0</td>\n      <td>18.0</td>\n      <td>19.0</td>\n      <td>20.0</td>\n      <td>21.0</td>\n      <td>...</td>\n      <td>6.0</td>\n      <td>7.0</td>\n      <td>2023-09-28 13:41:59.237642+08:00</td>\n      <td>2023-09-28 13:41:59.257642+08:00</td>\n      <td>2023-09-28 13:41:59.277642+08:00</td>\n      <td>2023-09-28 13:41:59.297642+08:00</td>\n      <td>0.0</td>\n      <td>1.0</td>\n      <td>2.0</td>\n      <td>3.0</td>\n    </tr>\n    <tr>\n      <th>2023-09-28 17:41:59.237642+08:00</th>\n      <td>12.0</td>\n      <td>13.0</td>\n      <td>14.0</td>\n      <td>15.0</td>\n      <td>16.0</td>\n      <td>17.0</td>\n      <td>18.0</td>\n      <td>19.0</td>\n      <td>20.0</td>\n      <td>21.0</td>\n      <td>...</td>\n      <td>6.0</td>\n      <td>7.0</td>\n      <td>2023-09-28 13:41:59.237642+08:00</td>\n      <td>2023-09-28 13:41:59.257642+08:00</td>\n      <td>2023-09-28 13:41:59.277642+08:00</td>\n      <td>2023-09-28 13:41:59.297642+08:00</td>\n      <td>0.0</td>\n      <td>1.0</td>\n      <td>2.0</td>\n      <td>3.0</td>\n    </tr>\n    <tr>\n      <th>2023-09-28 18:41:59.237642+08:00</th>\n      <td>12.0</td>\n      <td>13.0</td>\n      <td>14.0</td>\n      <td>15.0</td>\n      <td>16.0</td>\n      <td>17.0</td>\n      <td>18.0</td>\n      <td>19.0</td>\n      <td>20.0</td>\n      <td>21.0</td>\n      <td>...</td>\n      <td>6.0</td>\n      <td>7.0</td>\n      <td>2023-09-28 13:41:59.237642+08:00</td>\n      <td>2023-09-28 13:41:59.257642+08:00</td>\n      <td>2023-09-28 13:41:59.277642+08:00</td>\n      <td>2023-09-28 13:41:59.297642+08:00</td>\n      <td>0.0</td>\n      <td>1.0</td>\n      <td>2.0</td>\n      <td>3.0</td>\n    </tr>\n  </tbody>\n</table>\n<p>5 rows × 60 columns</p>\n</div>"
     },
     "execution_count": 4,
     "metadata": {},
     "output_type": "execute_result"
    }
   ],
   "source": [
    "from dataclasses import dataclass, field\n",
    "from functools import reduce\n",
    "\n",
    "from typing import Optional\n",
    "import pandas as pd\n",
    "import numpy as np\n",
    "from ordered_set import OrderedSet\n",
    "from eos.data_io.config import drivers, trucks_by_id, drivers_by_id\n",
    "from datetime import datetime\n",
    "\n",
    "a = np.array([[1, 2, 3], [4, 5, 6]])\n",
    "ts = pd.Timestamp.now(tz=\"Asia/Shanghai\")\n",
    "\n",
    "\n",
    "ts_ind = ts + pd.to_timedelta(np.arange(0, 4 * 20, 20), \"ms\")\n",
    "ss = np.arange(12)\n",
    "a1 = ss[:4]\n",
    "a2 = ss[4:8]\n",
    "a3 = ss[8:]\n",
    "df_ss = pd.DataFrame(\n",
    "    {\"timestep\": ts_ind, \"velocity\": a1, \"thrust\": a2, \"brake\": a3}\n",
    ")  # .set_index('timestep')\n",
    "df_ss.columns.name = \"qtuple\"\n",
    "\n",
    "state = df_ss.stack().swaplevel(0, 1)\n",
    "state.name = \"state\"\n",
    "state.index.names = [\"rows\", \"idx\"]\n",
    "state.sort_index(inplace=True)\n",
    "\n",
    "a = len(ss) + np.arange(15)\n",
    "speed_ser = pd.Series(np.linspace(40, 60, 3), name=\"speed\")\n",
    "row_array = a.reshape(3, 5).transpose()\n",
    "rows_df = pd.DataFrame(row_array)\n",
    "rows_df.columns = [f\"r{i}\" for i in np.arange(3)]\n",
    "\n",
    "ts_ind = ts + pd.to_timedelta(np.arange(5 * 20, 8 * 20, 20), \"ms\")\n",
    "ts_ser = pd.Series(ts_ind, name=\"timestep\")\n",
    "throttle_ser = pd.Series(np.linspace(0, 1.0, 5), name=\"throttle\")\n",
    "# throttle_ser\n",
    "dfs = [rows_df, ts_ser, speed_ser, throttle_ser]\n",
    "action = (\n",
    "    reduce(\n",
    "        lambda left, right: pd.merge(\n",
    "            left, right, how=\"outer\", left_index=True, right_index=True\n",
    "        ),\n",
    "        dfs,\n",
    "    )\n",
    "    .stack()\n",
    "    .swaplevel(0, 1)\n",
    "    .sort_index()\n",
    ")\n",
    "\n",
    "action.name = \"action\"\n",
    "action.index.names = [\"rows\", \"idx\"]\n",
    "\n",
    "reward = (\n",
    "    pd.DataFrame({\"work\": len(ss) + len(a), \"timestep\": ts_ind[0]}, index=[0])\n",
    "    .stack()\n",
    "    .swaplevel(0, 1)\n",
    "    .sort_index()\n",
    ")\n",
    "reward.index.names = [\"rows\", \"idx\"]\n",
    "reward.name = \"reward\"\n",
    "ts_ind = ts + pd.to_timedelta(5, \"s\") + pd.to_timedelta(np.arange(0, 4 * 20, 20), \"ms\")\n",
    "ss = (\n",
    "    np.arange(12) + len(ss) + len(a) + len(reward) - 1\n",
    ")  # exclude the timestamp in reward\n",
    "a1 = ss[:4]\n",
    "a2 = ss[4:8]\n",
    "a3 = ss[8:]\n",
    "\n",
    "nstate = (\n",
    "    pd.DataFrame({\"timestep\": ts_ind, \"velocity\": a1, \"thrust\": a2, \"brake\": a3})\n",
    "    .stack()\n",
    "    .swaplevel(0, 1)\n",
    "    .sort_index()\n",
    ")\n",
    "nstate.name = \"nstate\"\n",
    "nstate.index.names = [\"rows\", \"idx\"]\n",
    "\n",
    "timestamp = pd.Series([ts], name=\"timestamp\")\n",
    "timestamp.index = pd.MultiIndex.from_product(\n",
    "    [timestamp.index, [0]], names=[\"rows\", \"idx\"]\n",
    ")\n",
    "\n",
    "timestamp_index = (timestamp.name, \"\", 0)\n",
    "state_index = [(state.name, *i) for i in state.index]\n",
    "reward_index = [(reward.name, *i) for i in reward.index]\n",
    "action_index = [(action.name, *i) for i in action.index]\n",
    "nstate_index = [(nstate.name, *i) for i in nstate.index]\n",
    "multiindex = pd.MultiIndex.from_tuples(\n",
    "    [timestamp_index, *state_index, *action_index, *reward_index, *nstate_index]\n",
    ")\n",
    "observation_list = [timestamp, state, action, reward, nstate]\n",
    "observation = pd.concat(observation_list)\n",
    "observation.index = multiindex\n",
    "\n",
    "observation0 = observation.copy()\n",
    "observation0.loc[\"timestamp\", \"\", 0] = ts + pd.Timedelta(1, \"h\")\n",
    "observation1 = observation.copy()\n",
    "observation1.loc[\"timestamp\", \"\", 0] = ts + pd.Timedelta(2, \"h\")\n",
    "observation2 = observation.copy()\n",
    "observation2.loc[\"timestamp\", \"\", 0] = ts + pd.Timedelta(3, \"h\")\n",
    "observation3 = observation.copy()\n",
    "observation3.loc[\"timestamp\", \"\", 0] = ts + pd.Timedelta(4, \"h\")\n",
    "observation4 = observation.copy()\n",
    "observation4.loc[\"timestamp\", \"\", 0] = ts + pd.Timedelta(5, \"h\")\n",
    "observation_list = [\n",
    "    observation0,\n",
    "    observation1,\n",
    "    observation2,\n",
    "    observation3,\n",
    "    observation4,\n",
    "]\n",
    "\n",
    "dfs_epi = pd.concat(observation_list, axis=1).transpose()\n",
    "dfs_epi.columns.names = [\"qtuple\", \"rows\", \"idx\"]\n",
    "\n",
    "dfs_episode = dfs_epi.copy()\n",
    "dfs_episode.set_index((\"timestamp\", \"\", 0), inplace=True)\n",
    "dfs_episode.sort_index(axis=1, inplace=True)\n",
    "dfs_episode.index.name = \"timestamp\"\n",
    "\n",
    "state_cols_float = [(\"state\", col) for col in [\"brake\", \"thrust\", \"velocity\"]]\n",
    "action_cols_float = [(\"action\", col) for col in [\"r0\", \"r1\", \"r2\", \"speed\", \"throttle\"]]\n",
    "reward_cols_float = [(\"reward\", \"work\")]\n",
    "nstate_cols_float = [(\"nstate\", col) for col in [\"brake\", \"thrust\", \"velocity\"]]\n",
    "for col in action_cols_float + state_cols_float + reward_cols_float + nstate_cols_float:\n",
    "    dfs_episode[col[0], col[1]] = dfs_episode[col[0], col[1]].astype(\n",
    "        \"float\"\n",
    "    )  # float16 not allowed in parquet\n",
    "dfs_episode = pd.concat(\n",
    "    [dfs_episode], keys=[drivers_by_id[\"wang-cheng\"].pid], names=[\"driver\"]\n",
    ")\n",
    "dfs_episode = pd.concat(\n",
    "    [dfs_episode], keys=[trucks_by_id[\"VB7\"].vid], names=[\"vehicle\"]\n",
    ")\n",
    "dfs_episode = pd.concat([dfs_episode], keys=[ts], names=[\"episodestart\"])\n",
    "dfs_episode = dfs_episode.swaplevel(1, 0, axis=0)\n",
    "dfs_episode = dfs_episode.swaplevel(1, 2, axis=0)\n",
    "dfs_episode.sort_index(inplace=True)\n",
    "dfs_episode"
   ]
  },
  {
   "cell_type": "code",
   "execution_count": 5,
   "outputs": [
    {
     "name": "stderr",
     "output_type": "stream",
     "text": [
      "/tmp/ipykernel_800440/2012877544.py:70: RuntimeWarning: Cannot compare tz-naive and tz-aware timestamps, sort order is undefined for incomparable objects.\n",
      "  lambda left, right,: pd.concat([left, right], axis=0), episodes\n",
      "/tmp/ipykernel_800440/2012877544.py:70: RuntimeWarning: Cannot compare tz-naive and tz-aware timestamps, sort order is undefined for incomparable objects.\n",
      "  lambda left, right,: pd.concat([left, right], axis=0), episodes\n",
      "/tmp/ipykernel_800440/2012877544.py:70: RuntimeWarning: Cannot compare tz-naive and tz-aware timestamps, sort order is undefined for incomparable objects.\n",
      "  lambda left, right,: pd.concat([left, right], axis=0), episodes\n"
     ]
    },
    {
     "data": {
      "text/plain": "qtuple                                                                                  state  \\\nrows                                                                                    brake   \nidx                                                                                         0   \nvehicle driver        episodestart                     timestamp                                \nMP73    wang-cheng    2023-09-23 13:41:59.297357       2023-09-28 15:41:59.237642+08:00   8.0   \n                                                       2023-09-28 16:41:59.237642+08:00   8.0   \n                                                       2023-09-28 17:41:59.237642+08:00   8.0   \n                                                       2023-09-28 18:41:59.237642+08:00   8.0   \n        zheng-longfei 2023-09-21 13:41:59.297357       2023-09-28 15:41:59.237642+08:00   8.0   \n                                                       2023-09-28 16:41:59.237642+08:00   8.0   \n                                                       2023-09-28 17:41:59.237642+08:00   8.0   \n                                                       2023-09-28 18:41:59.237642+08:00   8.0   \nVB7     wang-cheng    2023-09-28 13:41:59.237642+08:00 2023-09-28 14:41:59.237642+08:00   8.0   \n                                                       2023-09-28 15:41:59.237642+08:00   8.0   \n                                                       2023-09-28 16:41:59.237642+08:00   8.0   \n                                                       2023-09-28 17:41:59.237642+08:00   8.0   \n                                                       2023-09-28 18:41:59.237642+08:00   8.0   \n                      2023-09-22 13:41:59.297357       2023-09-28 15:41:59.237642+08:00   8.0   \n                                                       2023-09-28 17:41:59.237642+08:00   8.0   \n        zheng-longfei 2023-09-26 13:41:59.297357       2023-09-28 15:41:59.237642+08:00   8.0   \n                                                       2023-09-28 17:41:59.237642+08:00   8.0   \n\nqtuple                                                                                        \\\nrows                                                                                           \nidx                                                                                        1   \nvehicle driver        episodestart                     timestamp                               \nMP73    wang-cheng    2023-09-23 13:41:59.297357       2023-09-28 15:41:59.237642+08:00  9.0   \n                                                       2023-09-28 16:41:59.237642+08:00  9.0   \n                                                       2023-09-28 17:41:59.237642+08:00  9.0   \n                                                       2023-09-28 18:41:59.237642+08:00  9.0   \n        zheng-longfei 2023-09-21 13:41:59.297357       2023-09-28 15:41:59.237642+08:00  9.0   \n                                                       2023-09-28 16:41:59.237642+08:00  9.0   \n                                                       2023-09-28 17:41:59.237642+08:00  9.0   \n                                                       2023-09-28 18:41:59.237642+08:00  9.0   \nVB7     wang-cheng    2023-09-28 13:41:59.237642+08:00 2023-09-28 14:41:59.237642+08:00  9.0   \n                                                       2023-09-28 15:41:59.237642+08:00  9.0   \n                                                       2023-09-28 16:41:59.237642+08:00  9.0   \n                                                       2023-09-28 17:41:59.237642+08:00  9.0   \n                                                       2023-09-28 18:41:59.237642+08:00  9.0   \n                      2023-09-22 13:41:59.297357       2023-09-28 15:41:59.237642+08:00  9.0   \n                                                       2023-09-28 17:41:59.237642+08:00  9.0   \n        zheng-longfei 2023-09-26 13:41:59.297357       2023-09-28 15:41:59.237642+08:00  9.0   \n                                                       2023-09-28 17:41:59.237642+08:00  9.0   \n\nqtuple                                                                                         \\\nrows                                                                                            \nidx                                                                                         2   \nvehicle driver        episodestart                     timestamp                                \nMP73    wang-cheng    2023-09-23 13:41:59.297357       2023-09-28 15:41:59.237642+08:00  10.0   \n                                                       2023-09-28 16:41:59.237642+08:00  10.0   \n                                                       2023-09-28 17:41:59.237642+08:00  10.0   \n                                                       2023-09-28 18:41:59.237642+08:00  10.0   \n        zheng-longfei 2023-09-21 13:41:59.297357       2023-09-28 15:41:59.237642+08:00  10.0   \n                                                       2023-09-28 16:41:59.237642+08:00  10.0   \n                                                       2023-09-28 17:41:59.237642+08:00  10.0   \n                                                       2023-09-28 18:41:59.237642+08:00  10.0   \nVB7     wang-cheng    2023-09-28 13:41:59.237642+08:00 2023-09-28 14:41:59.237642+08:00  10.0   \n                                                       2023-09-28 15:41:59.237642+08:00  10.0   \n                                                       2023-09-28 16:41:59.237642+08:00  10.0   \n                                                       2023-09-28 17:41:59.237642+08:00  10.0   \n                                                       2023-09-28 18:41:59.237642+08:00  10.0   \n                      2023-09-22 13:41:59.297357       2023-09-28 15:41:59.237642+08:00  10.0   \n                                                       2023-09-28 17:41:59.237642+08:00  10.0   \n        zheng-longfei 2023-09-26 13:41:59.297357       2023-09-28 15:41:59.237642+08:00  10.0   \n                                                       2023-09-28 17:41:59.237642+08:00  10.0   \n\nqtuple                                                                                         \\\nrows                                                                                            \nidx                                                                                         3   \nvehicle driver        episodestart                     timestamp                                \nMP73    wang-cheng    2023-09-23 13:41:59.297357       2023-09-28 15:41:59.237642+08:00  11.0   \n                                                       2023-09-28 16:41:59.237642+08:00  11.0   \n                                                       2023-09-28 17:41:59.237642+08:00  11.0   \n                                                       2023-09-28 18:41:59.237642+08:00  11.0   \n        zheng-longfei 2023-09-21 13:41:59.297357       2023-09-28 15:41:59.237642+08:00  11.0   \n                                                       2023-09-28 16:41:59.237642+08:00  11.0   \n                                                       2023-09-28 17:41:59.237642+08:00  11.0   \n                                                       2023-09-28 18:41:59.237642+08:00  11.0   \nVB7     wang-cheng    2023-09-28 13:41:59.237642+08:00 2023-09-28 14:41:59.237642+08:00  11.0   \n                                                       2023-09-28 15:41:59.237642+08:00  11.0   \n                                                       2023-09-28 16:41:59.237642+08:00  11.0   \n                                                       2023-09-28 17:41:59.237642+08:00  11.0   \n                                                       2023-09-28 18:41:59.237642+08:00  11.0   \n                      2023-09-22 13:41:59.297357       2023-09-28 15:41:59.237642+08:00  11.0   \n                                                       2023-09-28 17:41:59.237642+08:00  11.0   \n        zheng-longfei 2023-09-26 13:41:59.297357       2023-09-28 15:41:59.237642+08:00  11.0   \n                                                       2023-09-28 17:41:59.237642+08:00  11.0   \n\nqtuple                                                                                          \\\nrows                                                                                    thrust   \nidx                                                                                          0   \nvehicle driver        episodestart                     timestamp                                 \nMP73    wang-cheng    2023-09-23 13:41:59.297357       2023-09-28 15:41:59.237642+08:00    4.0   \n                                                       2023-09-28 16:41:59.237642+08:00    4.0   \n                                                       2023-09-28 17:41:59.237642+08:00    4.0   \n                                                       2023-09-28 18:41:59.237642+08:00    4.0   \n        zheng-longfei 2023-09-21 13:41:59.297357       2023-09-28 15:41:59.237642+08:00    4.0   \n                                                       2023-09-28 16:41:59.237642+08:00    4.0   \n                                                       2023-09-28 17:41:59.237642+08:00    4.0   \n                                                       2023-09-28 18:41:59.237642+08:00    4.0   \nVB7     wang-cheng    2023-09-28 13:41:59.237642+08:00 2023-09-28 14:41:59.237642+08:00    4.0   \n                                                       2023-09-28 15:41:59.237642+08:00    4.0   \n                                                       2023-09-28 16:41:59.237642+08:00    4.0   \n                                                       2023-09-28 17:41:59.237642+08:00    4.0   \n                                                       2023-09-28 18:41:59.237642+08:00    4.0   \n                      2023-09-22 13:41:59.297357       2023-09-28 15:41:59.237642+08:00    4.0   \n                                                       2023-09-28 17:41:59.237642+08:00    4.0   \n        zheng-longfei 2023-09-26 13:41:59.297357       2023-09-28 15:41:59.237642+08:00    4.0   \n                                                       2023-09-28 17:41:59.237642+08:00    4.0   \n\nqtuple                                                                                        \\\nrows                                                                                           \nidx                                                                                        1   \nvehicle driver        episodestart                     timestamp                               \nMP73    wang-cheng    2023-09-23 13:41:59.297357       2023-09-28 15:41:59.237642+08:00  5.0   \n                                                       2023-09-28 16:41:59.237642+08:00  5.0   \n                                                       2023-09-28 17:41:59.237642+08:00  5.0   \n                                                       2023-09-28 18:41:59.237642+08:00  5.0   \n        zheng-longfei 2023-09-21 13:41:59.297357       2023-09-28 15:41:59.237642+08:00  5.0   \n                                                       2023-09-28 16:41:59.237642+08:00  5.0   \n                                                       2023-09-28 17:41:59.237642+08:00  5.0   \n                                                       2023-09-28 18:41:59.237642+08:00  5.0   \nVB7     wang-cheng    2023-09-28 13:41:59.237642+08:00 2023-09-28 14:41:59.237642+08:00  5.0   \n                                                       2023-09-28 15:41:59.237642+08:00  5.0   \n                                                       2023-09-28 16:41:59.237642+08:00  5.0   \n                                                       2023-09-28 17:41:59.237642+08:00  5.0   \n                                                       2023-09-28 18:41:59.237642+08:00  5.0   \n                      2023-09-22 13:41:59.297357       2023-09-28 15:41:59.237642+08:00  5.0   \n                                                       2023-09-28 17:41:59.237642+08:00  5.0   \n        zheng-longfei 2023-09-26 13:41:59.297357       2023-09-28 15:41:59.237642+08:00  5.0   \n                                                       2023-09-28 17:41:59.237642+08:00  5.0   \n\nqtuple                                                                                        \\\nrows                                                                                           \nidx                                                                                        2   \nvehicle driver        episodestart                     timestamp                               \nMP73    wang-cheng    2023-09-23 13:41:59.297357       2023-09-28 15:41:59.237642+08:00  6.0   \n                                                       2023-09-28 16:41:59.237642+08:00  6.0   \n                                                       2023-09-28 17:41:59.237642+08:00  6.0   \n                                                       2023-09-28 18:41:59.237642+08:00  6.0   \n        zheng-longfei 2023-09-21 13:41:59.297357       2023-09-28 15:41:59.237642+08:00  6.0   \n                                                       2023-09-28 16:41:59.237642+08:00  6.0   \n                                                       2023-09-28 17:41:59.237642+08:00  6.0   \n                                                       2023-09-28 18:41:59.237642+08:00  6.0   \nVB7     wang-cheng    2023-09-28 13:41:59.237642+08:00 2023-09-28 14:41:59.237642+08:00  6.0   \n                                                       2023-09-28 15:41:59.237642+08:00  6.0   \n                                                       2023-09-28 16:41:59.237642+08:00  6.0   \n                                                       2023-09-28 17:41:59.237642+08:00  6.0   \n                                                       2023-09-28 18:41:59.237642+08:00  6.0   \n                      2023-09-22 13:41:59.297357       2023-09-28 15:41:59.237642+08:00  6.0   \n                                                       2023-09-28 17:41:59.237642+08:00  6.0   \n        zheng-longfei 2023-09-26 13:41:59.297357       2023-09-28 15:41:59.237642+08:00  6.0   \n                                                       2023-09-28 17:41:59.237642+08:00  6.0   \n\nqtuple                                                                                        \\\nrows                                                                                           \nidx                                                                                        3   \nvehicle driver        episodestart                     timestamp                               \nMP73    wang-cheng    2023-09-23 13:41:59.297357       2023-09-28 15:41:59.237642+08:00  7.0   \n                                                       2023-09-28 16:41:59.237642+08:00  7.0   \n                                                       2023-09-28 17:41:59.237642+08:00  7.0   \n                                                       2023-09-28 18:41:59.237642+08:00  7.0   \n        zheng-longfei 2023-09-21 13:41:59.297357       2023-09-28 15:41:59.237642+08:00  7.0   \n                                                       2023-09-28 16:41:59.237642+08:00  7.0   \n                                                       2023-09-28 17:41:59.237642+08:00  7.0   \n                                                       2023-09-28 18:41:59.237642+08:00  7.0   \nVB7     wang-cheng    2023-09-28 13:41:59.237642+08:00 2023-09-28 14:41:59.237642+08:00  7.0   \n                                                       2023-09-28 15:41:59.237642+08:00  7.0   \n                                                       2023-09-28 16:41:59.237642+08:00  7.0   \n                                                       2023-09-28 17:41:59.237642+08:00  7.0   \n                                                       2023-09-28 18:41:59.237642+08:00  7.0   \n                      2023-09-22 13:41:59.297357       2023-09-28 15:41:59.237642+08:00  7.0   \n                                                       2023-09-28 17:41:59.237642+08:00  7.0   \n        zheng-longfei 2023-09-26 13:41:59.297357       2023-09-28 15:41:59.237642+08:00  7.0   \n                                                       2023-09-28 17:41:59.237642+08:00  7.0   \n\nqtuple                                                                                                                     \\\nrows                                                                                                             timestep   \nidx                                                                                                                     0   \nvehicle driver        episodestart                     timestamp                                                            \nMP73    wang-cheng    2023-09-23 13:41:59.297357       2023-09-28 15:41:59.237642+08:00  2023-09-28 13:41:59.237642+08:00   \n                                                       2023-09-28 16:41:59.237642+08:00  2023-09-28 13:41:59.237642+08:00   \n                                                       2023-09-28 17:41:59.237642+08:00  2023-09-28 13:41:59.237642+08:00   \n                                                       2023-09-28 18:41:59.237642+08:00  2023-09-28 13:41:59.237642+08:00   \n        zheng-longfei 2023-09-21 13:41:59.297357       2023-09-28 15:41:59.237642+08:00  2023-09-28 13:41:59.237642+08:00   \n                                                       2023-09-28 16:41:59.237642+08:00  2023-09-28 13:41:59.237642+08:00   \n                                                       2023-09-28 17:41:59.237642+08:00  2023-09-28 13:41:59.237642+08:00   \n                                                       2023-09-28 18:41:59.237642+08:00  2023-09-28 13:41:59.237642+08:00   \nVB7     wang-cheng    2023-09-28 13:41:59.237642+08:00 2023-09-28 14:41:59.237642+08:00  2023-09-28 13:41:59.237642+08:00   \n                                                       2023-09-28 15:41:59.237642+08:00  2023-09-28 13:41:59.237642+08:00   \n                                                       2023-09-28 16:41:59.237642+08:00  2023-09-28 13:41:59.237642+08:00   \n                                                       2023-09-28 17:41:59.237642+08:00  2023-09-28 13:41:59.237642+08:00   \n                                                       2023-09-28 18:41:59.237642+08:00  2023-09-28 13:41:59.237642+08:00   \n                      2023-09-22 13:41:59.297357       2023-09-28 15:41:59.237642+08:00  2023-09-28 13:41:59.237642+08:00   \n                                                       2023-09-28 17:41:59.237642+08:00  2023-09-28 13:41:59.237642+08:00   \n        zheng-longfei 2023-09-26 13:41:59.297357       2023-09-28 15:41:59.237642+08:00  2023-09-28 13:41:59.237642+08:00   \n                                                       2023-09-28 17:41:59.237642+08:00  2023-09-28 13:41:59.237642+08:00   \n\nqtuple                                                                                                                     \\\nrows                                                                                                                        \nidx                                                                                                                     1   \nvehicle driver        episodestart                     timestamp                                                            \nMP73    wang-cheng    2023-09-23 13:41:59.297357       2023-09-28 15:41:59.237642+08:00  2023-09-28 13:41:59.257642+08:00   \n                                                       2023-09-28 16:41:59.237642+08:00  2023-09-28 13:41:59.257642+08:00   \n                                                       2023-09-28 17:41:59.237642+08:00  2023-09-28 13:41:59.257642+08:00   \n                                                       2023-09-28 18:41:59.237642+08:00  2023-09-28 13:41:59.257642+08:00   \n        zheng-longfei 2023-09-21 13:41:59.297357       2023-09-28 15:41:59.237642+08:00  2023-09-28 13:41:59.257642+08:00   \n                                                       2023-09-28 16:41:59.237642+08:00  2023-09-28 13:41:59.257642+08:00   \n                                                       2023-09-28 17:41:59.237642+08:00  2023-09-28 13:41:59.257642+08:00   \n                                                       2023-09-28 18:41:59.237642+08:00  2023-09-28 13:41:59.257642+08:00   \nVB7     wang-cheng    2023-09-28 13:41:59.237642+08:00 2023-09-28 14:41:59.237642+08:00  2023-09-28 13:41:59.257642+08:00   \n                                                       2023-09-28 15:41:59.237642+08:00  2023-09-28 13:41:59.257642+08:00   \n                                                       2023-09-28 16:41:59.237642+08:00  2023-09-28 13:41:59.257642+08:00   \n                                                       2023-09-28 17:41:59.237642+08:00  2023-09-28 13:41:59.257642+08:00   \n                                                       2023-09-28 18:41:59.237642+08:00  2023-09-28 13:41:59.257642+08:00   \n                      2023-09-22 13:41:59.297357       2023-09-28 15:41:59.237642+08:00  2023-09-28 13:41:59.257642+08:00   \n                                                       2023-09-28 17:41:59.237642+08:00  2023-09-28 13:41:59.257642+08:00   \n        zheng-longfei 2023-09-26 13:41:59.297357       2023-09-28 15:41:59.237642+08:00  2023-09-28 13:41:59.257642+08:00   \n                                                       2023-09-28 17:41:59.237642+08:00  2023-09-28 13:41:59.257642+08:00   \n\nqtuple                                                                                   ...  \\\nrows                                                                                     ...   \nidx                                                                                      ...   \nvehicle driver        episodestart                     timestamp                         ...   \nMP73    wang-cheng    2023-09-23 13:41:59.297357       2023-09-28 15:41:59.237642+08:00  ...   \n                                                       2023-09-28 16:41:59.237642+08:00  ...   \n                                                       2023-09-28 17:41:59.237642+08:00  ...   \n                                                       2023-09-28 18:41:59.237642+08:00  ...   \n        zheng-longfei 2023-09-21 13:41:59.297357       2023-09-28 15:41:59.237642+08:00  ...   \n                                                       2023-09-28 16:41:59.237642+08:00  ...   \n                                                       2023-09-28 17:41:59.237642+08:00  ...   \n                                                       2023-09-28 18:41:59.237642+08:00  ...   \nVB7     wang-cheng    2023-09-28 13:41:59.237642+08:00 2023-09-28 14:41:59.237642+08:00  ...   \n                                                       2023-09-28 15:41:59.237642+08:00  ...   \n                                                       2023-09-28 16:41:59.237642+08:00  ...   \n                                                       2023-09-28 17:41:59.237642+08:00  ...   \n                                                       2023-09-28 18:41:59.237642+08:00  ...   \n                      2023-09-22 13:41:59.297357       2023-09-28 15:41:59.237642+08:00  ...   \n                                                       2023-09-28 17:41:59.237642+08:00  ...   \n        zheng-longfei 2023-09-26 13:41:59.297357       2023-09-28 15:41:59.237642+08:00  ...   \n                                                       2023-09-28 17:41:59.237642+08:00  ...   \n\nqtuple                                                                                  nstate  \\\nrows                                                                                    thrust   \nidx                                                                                          2   \nvehicle driver        episodestart                     timestamp                                 \nMP73    wang-cheng    2023-09-23 13:41:59.297357       2023-09-28 15:41:59.237642+08:00   34.0   \n                                                       2023-09-28 16:41:59.237642+08:00   34.0   \n                                                       2023-09-28 17:41:59.237642+08:00   34.0   \n                                                       2023-09-28 18:41:59.237642+08:00   34.0   \n        zheng-longfei 2023-09-21 13:41:59.297357       2023-09-28 15:41:59.237642+08:00   34.0   \n                                                       2023-09-28 16:41:59.237642+08:00   34.0   \n                                                       2023-09-28 17:41:59.237642+08:00   34.0   \n                                                       2023-09-28 18:41:59.237642+08:00   34.0   \nVB7     wang-cheng    2023-09-28 13:41:59.237642+08:00 2023-09-28 14:41:59.237642+08:00   34.0   \n                                                       2023-09-28 15:41:59.237642+08:00   34.0   \n                                                       2023-09-28 16:41:59.237642+08:00   34.0   \n                                                       2023-09-28 17:41:59.237642+08:00   34.0   \n                                                       2023-09-28 18:41:59.237642+08:00   34.0   \n                      2023-09-22 13:41:59.297357       2023-09-28 15:41:59.237642+08:00   34.0   \n                                                       2023-09-28 17:41:59.237642+08:00   34.0   \n        zheng-longfei 2023-09-26 13:41:59.297357       2023-09-28 15:41:59.237642+08:00   34.0   \n                                                       2023-09-28 17:41:59.237642+08:00   34.0   \n\nqtuple                                                                                         \\\nrows                                                                                            \nidx                                                                                         3   \nvehicle driver        episodestart                     timestamp                                \nMP73    wang-cheng    2023-09-23 13:41:59.297357       2023-09-28 15:41:59.237642+08:00  35.0   \n                                                       2023-09-28 16:41:59.237642+08:00  35.0   \n                                                       2023-09-28 17:41:59.237642+08:00  35.0   \n                                                       2023-09-28 18:41:59.237642+08:00  35.0   \n        zheng-longfei 2023-09-21 13:41:59.297357       2023-09-28 15:41:59.237642+08:00  35.0   \n                                                       2023-09-28 16:41:59.237642+08:00  35.0   \n                                                       2023-09-28 17:41:59.237642+08:00  35.0   \n                                                       2023-09-28 18:41:59.237642+08:00  35.0   \nVB7     wang-cheng    2023-09-28 13:41:59.237642+08:00 2023-09-28 14:41:59.237642+08:00  35.0   \n                                                       2023-09-28 15:41:59.237642+08:00  35.0   \n                                                       2023-09-28 16:41:59.237642+08:00  35.0   \n                                                       2023-09-28 17:41:59.237642+08:00  35.0   \n                                                       2023-09-28 18:41:59.237642+08:00  35.0   \n                      2023-09-22 13:41:59.297357       2023-09-28 15:41:59.237642+08:00  35.0   \n                                                       2023-09-28 17:41:59.237642+08:00  35.0   \n        zheng-longfei 2023-09-26 13:41:59.297357       2023-09-28 15:41:59.237642+08:00  35.0   \n                                                       2023-09-28 17:41:59.237642+08:00  35.0   \n\nqtuple                                                                                                                     \\\nrows                                                                                                             timestep   \nidx                                                                                                                     0   \nvehicle driver        episodestart                     timestamp                                                            \nMP73    wang-cheng    2023-09-23 13:41:59.297357       2023-09-28 15:41:59.237642+08:00  2023-09-28 13:42:04.237642+08:00   \n                                                       2023-09-28 16:41:59.237642+08:00  2023-09-28 13:42:04.237642+08:00   \n                                                       2023-09-28 17:41:59.237642+08:00  2023-09-28 13:42:04.237642+08:00   \n                                                       2023-09-28 18:41:59.237642+08:00  2023-09-28 13:42:04.237642+08:00   \n        zheng-longfei 2023-09-21 13:41:59.297357       2023-09-28 15:41:59.237642+08:00  2023-09-28 13:42:04.237642+08:00   \n                                                       2023-09-28 16:41:59.237642+08:00  2023-09-28 13:42:04.237642+08:00   \n                                                       2023-09-28 17:41:59.237642+08:00  2023-09-28 13:42:04.237642+08:00   \n                                                       2023-09-28 18:41:59.237642+08:00  2023-09-28 13:42:04.237642+08:00   \nVB7     wang-cheng    2023-09-28 13:41:59.237642+08:00 2023-09-28 14:41:59.237642+08:00  2023-09-28 13:42:04.237642+08:00   \n                                                       2023-09-28 15:41:59.237642+08:00  2023-09-28 13:42:04.237642+08:00   \n                                                       2023-09-28 16:41:59.237642+08:00  2023-09-28 13:42:04.237642+08:00   \n                                                       2023-09-28 17:41:59.237642+08:00  2023-09-28 13:42:04.237642+08:00   \n                                                       2023-09-28 18:41:59.237642+08:00  2023-09-28 13:42:04.237642+08:00   \n                      2023-09-22 13:41:59.297357       2023-09-28 15:41:59.237642+08:00  2023-09-28 13:42:04.237642+08:00   \n                                                       2023-09-28 17:41:59.237642+08:00  2023-09-28 13:42:04.237642+08:00   \n        zheng-longfei 2023-09-26 13:41:59.297357       2023-09-28 15:41:59.237642+08:00  2023-09-28 13:42:04.237642+08:00   \n                                                       2023-09-28 17:41:59.237642+08:00  2023-09-28 13:42:04.237642+08:00   \n\nqtuple                                                                                                                     \\\nrows                                                                                                                        \nidx                                                                                                                     1   \nvehicle driver        episodestart                     timestamp                                                            \nMP73    wang-cheng    2023-09-23 13:41:59.297357       2023-09-28 15:41:59.237642+08:00  2023-09-28 13:42:04.257642+08:00   \n                                                       2023-09-28 16:41:59.237642+08:00  2023-09-28 13:42:04.257642+08:00   \n                                                       2023-09-28 17:41:59.237642+08:00  2023-09-28 13:42:04.257642+08:00   \n                                                       2023-09-28 18:41:59.237642+08:00  2023-09-28 13:42:04.257642+08:00   \n        zheng-longfei 2023-09-21 13:41:59.297357       2023-09-28 15:41:59.237642+08:00  2023-09-28 13:42:04.257642+08:00   \n                                                       2023-09-28 16:41:59.237642+08:00  2023-09-28 13:42:04.257642+08:00   \n                                                       2023-09-28 17:41:59.237642+08:00  2023-09-28 13:42:04.257642+08:00   \n                                                       2023-09-28 18:41:59.237642+08:00  2023-09-28 13:42:04.257642+08:00   \nVB7     wang-cheng    2023-09-28 13:41:59.237642+08:00 2023-09-28 14:41:59.237642+08:00  2023-09-28 13:42:04.257642+08:00   \n                                                       2023-09-28 15:41:59.237642+08:00  2023-09-28 13:42:04.257642+08:00   \n                                                       2023-09-28 16:41:59.237642+08:00  2023-09-28 13:42:04.257642+08:00   \n                                                       2023-09-28 17:41:59.237642+08:00  2023-09-28 13:42:04.257642+08:00   \n                                                       2023-09-28 18:41:59.237642+08:00  2023-09-28 13:42:04.257642+08:00   \n                      2023-09-22 13:41:59.297357       2023-09-28 15:41:59.237642+08:00  2023-09-28 13:42:04.257642+08:00   \n                                                       2023-09-28 17:41:59.237642+08:00  2023-09-28 13:42:04.257642+08:00   \n        zheng-longfei 2023-09-26 13:41:59.297357       2023-09-28 15:41:59.237642+08:00  2023-09-28 13:42:04.257642+08:00   \n                                                       2023-09-28 17:41:59.237642+08:00  2023-09-28 13:42:04.257642+08:00   \n\nqtuple                                                                                                                     \\\nrows                                                                                                                        \nidx                                                                                                                     2   \nvehicle driver        episodestart                     timestamp                                                            \nMP73    wang-cheng    2023-09-23 13:41:59.297357       2023-09-28 15:41:59.237642+08:00  2023-09-28 13:42:04.277642+08:00   \n                                                       2023-09-28 16:41:59.237642+08:00  2023-09-28 13:42:04.277642+08:00   \n                                                       2023-09-28 17:41:59.237642+08:00  2023-09-28 13:42:04.277642+08:00   \n                                                       2023-09-28 18:41:59.237642+08:00  2023-09-28 13:42:04.277642+08:00   \n        zheng-longfei 2023-09-21 13:41:59.297357       2023-09-28 15:41:59.237642+08:00  2023-09-28 13:42:04.277642+08:00   \n                                                       2023-09-28 16:41:59.237642+08:00  2023-09-28 13:42:04.277642+08:00   \n                                                       2023-09-28 17:41:59.237642+08:00  2023-09-28 13:42:04.277642+08:00   \n                                                       2023-09-28 18:41:59.237642+08:00  2023-09-28 13:42:04.277642+08:00   \nVB7     wang-cheng    2023-09-28 13:41:59.237642+08:00 2023-09-28 14:41:59.237642+08:00  2023-09-28 13:42:04.277642+08:00   \n                                                       2023-09-28 15:41:59.237642+08:00  2023-09-28 13:42:04.277642+08:00   \n                                                       2023-09-28 16:41:59.237642+08:00  2023-09-28 13:42:04.277642+08:00   \n                                                       2023-09-28 17:41:59.237642+08:00  2023-09-28 13:42:04.277642+08:00   \n                                                       2023-09-28 18:41:59.237642+08:00  2023-09-28 13:42:04.277642+08:00   \n                      2023-09-22 13:41:59.297357       2023-09-28 15:41:59.237642+08:00  2023-09-28 13:42:04.277642+08:00   \n                                                       2023-09-28 17:41:59.237642+08:00  2023-09-28 13:42:04.277642+08:00   \n        zheng-longfei 2023-09-26 13:41:59.297357       2023-09-28 15:41:59.237642+08:00  2023-09-28 13:42:04.277642+08:00   \n                                                       2023-09-28 17:41:59.237642+08:00  2023-09-28 13:42:04.277642+08:00   \n\nqtuple                                                                                                                     \\\nrows                                                                                                                        \nidx                                                                                                                     3   \nvehicle driver        episodestart                     timestamp                                                            \nMP73    wang-cheng    2023-09-23 13:41:59.297357       2023-09-28 15:41:59.237642+08:00  2023-09-28 13:42:04.297642+08:00   \n                                                       2023-09-28 16:41:59.237642+08:00  2023-09-28 13:42:04.297642+08:00   \n                                                       2023-09-28 17:41:59.237642+08:00  2023-09-28 13:42:04.297642+08:00   \n                                                       2023-09-28 18:41:59.237642+08:00  2023-09-28 13:42:04.297642+08:00   \n        zheng-longfei 2023-09-21 13:41:59.297357       2023-09-28 15:41:59.237642+08:00  2023-09-28 13:42:04.297642+08:00   \n                                                       2023-09-28 16:41:59.237642+08:00  2023-09-28 13:42:04.297642+08:00   \n                                                       2023-09-28 17:41:59.237642+08:00  2023-09-28 13:42:04.297642+08:00   \n                                                       2023-09-28 18:41:59.237642+08:00  2023-09-28 13:42:04.297642+08:00   \nVB7     wang-cheng    2023-09-28 13:41:59.237642+08:00 2023-09-28 14:41:59.237642+08:00  2023-09-28 13:42:04.297642+08:00   \n                                                       2023-09-28 15:41:59.237642+08:00  2023-09-28 13:42:04.297642+08:00   \n                                                       2023-09-28 16:41:59.237642+08:00  2023-09-28 13:42:04.297642+08:00   \n                                                       2023-09-28 17:41:59.237642+08:00  2023-09-28 13:42:04.297642+08:00   \n                                                       2023-09-28 18:41:59.237642+08:00  2023-09-28 13:42:04.297642+08:00   \n                      2023-09-22 13:41:59.297357       2023-09-28 15:41:59.237642+08:00  2023-09-28 13:42:04.297642+08:00   \n                                                       2023-09-28 17:41:59.237642+08:00  2023-09-28 13:42:04.297642+08:00   \n        zheng-longfei 2023-09-26 13:41:59.297357       2023-09-28 15:41:59.237642+08:00  2023-09-28 13:42:04.297642+08:00   \n                                                       2023-09-28 17:41:59.237642+08:00  2023-09-28 13:42:04.297642+08:00   \n\nqtuple                                                                                            \\\nrows                                                                                    velocity   \nidx                                                                                            0   \nvehicle driver        episodestart                     timestamp                                   \nMP73    wang-cheng    2023-09-23 13:41:59.297357       2023-09-28 15:41:59.237642+08:00     28.0   \n                                                       2023-09-28 16:41:59.237642+08:00     28.0   \n                                                       2023-09-28 17:41:59.237642+08:00     28.0   \n                                                       2023-09-28 18:41:59.237642+08:00     28.0   \n        zheng-longfei 2023-09-21 13:41:59.297357       2023-09-28 15:41:59.237642+08:00     28.0   \n                                                       2023-09-28 16:41:59.237642+08:00     28.0   \n                                                       2023-09-28 17:41:59.237642+08:00     28.0   \n                                                       2023-09-28 18:41:59.237642+08:00     28.0   \nVB7     wang-cheng    2023-09-28 13:41:59.237642+08:00 2023-09-28 14:41:59.237642+08:00     28.0   \n                                                       2023-09-28 15:41:59.237642+08:00     28.0   \n                                                       2023-09-28 16:41:59.237642+08:00     28.0   \n                                                       2023-09-28 17:41:59.237642+08:00     28.0   \n                                                       2023-09-28 18:41:59.237642+08:00     28.0   \n                      2023-09-22 13:41:59.297357       2023-09-28 15:41:59.237642+08:00     28.0   \n                                                       2023-09-28 17:41:59.237642+08:00     28.0   \n        zheng-longfei 2023-09-26 13:41:59.297357       2023-09-28 15:41:59.237642+08:00     28.0   \n                                                       2023-09-28 17:41:59.237642+08:00     28.0   \n\nqtuple                                                                                         \\\nrows                                                                                            \nidx                                                                                         1   \nvehicle driver        episodestart                     timestamp                                \nMP73    wang-cheng    2023-09-23 13:41:59.297357       2023-09-28 15:41:59.237642+08:00  29.0   \n                                                       2023-09-28 16:41:59.237642+08:00  29.0   \n                                                       2023-09-28 17:41:59.237642+08:00  29.0   \n                                                       2023-09-28 18:41:59.237642+08:00  29.0   \n        zheng-longfei 2023-09-21 13:41:59.297357       2023-09-28 15:41:59.237642+08:00  29.0   \n                                                       2023-09-28 16:41:59.237642+08:00  29.0   \n                                                       2023-09-28 17:41:59.237642+08:00  29.0   \n                                                       2023-09-28 18:41:59.237642+08:00  29.0   \nVB7     wang-cheng    2023-09-28 13:41:59.237642+08:00 2023-09-28 14:41:59.237642+08:00  29.0   \n                                                       2023-09-28 15:41:59.237642+08:00  29.0   \n                                                       2023-09-28 16:41:59.237642+08:00  29.0   \n                                                       2023-09-28 17:41:59.237642+08:00  29.0   \n                                                       2023-09-28 18:41:59.237642+08:00  29.0   \n                      2023-09-22 13:41:59.297357       2023-09-28 15:41:59.237642+08:00  29.0   \n                                                       2023-09-28 17:41:59.237642+08:00  29.0   \n        zheng-longfei 2023-09-26 13:41:59.297357       2023-09-28 15:41:59.237642+08:00  29.0   \n                                                       2023-09-28 17:41:59.237642+08:00  29.0   \n\nqtuple                                                                                         \\\nrows                                                                                            \nidx                                                                                         2   \nvehicle driver        episodestart                     timestamp                                \nMP73    wang-cheng    2023-09-23 13:41:59.297357       2023-09-28 15:41:59.237642+08:00  30.0   \n                                                       2023-09-28 16:41:59.237642+08:00  30.0   \n                                                       2023-09-28 17:41:59.237642+08:00  30.0   \n                                                       2023-09-28 18:41:59.237642+08:00  30.0   \n        zheng-longfei 2023-09-21 13:41:59.297357       2023-09-28 15:41:59.237642+08:00  30.0   \n                                                       2023-09-28 16:41:59.237642+08:00  30.0   \n                                                       2023-09-28 17:41:59.237642+08:00  30.0   \n                                                       2023-09-28 18:41:59.237642+08:00  30.0   \nVB7     wang-cheng    2023-09-28 13:41:59.237642+08:00 2023-09-28 14:41:59.237642+08:00  30.0   \n                                                       2023-09-28 15:41:59.237642+08:00  30.0   \n                                                       2023-09-28 16:41:59.237642+08:00  30.0   \n                                                       2023-09-28 17:41:59.237642+08:00  30.0   \n                                                       2023-09-28 18:41:59.237642+08:00  30.0   \n                      2023-09-22 13:41:59.297357       2023-09-28 15:41:59.237642+08:00  30.0   \n                                                       2023-09-28 17:41:59.237642+08:00  30.0   \n        zheng-longfei 2023-09-26 13:41:59.297357       2023-09-28 15:41:59.237642+08:00  30.0   \n                                                       2023-09-28 17:41:59.237642+08:00  30.0   \n\nqtuple                                                                                         \nrows                                                                                           \nidx                                                                                         3  \nvehicle driver        episodestart                     timestamp                               \nMP73    wang-cheng    2023-09-23 13:41:59.297357       2023-09-28 15:41:59.237642+08:00  31.0  \n                                                       2023-09-28 16:41:59.237642+08:00  31.0  \n                                                       2023-09-28 17:41:59.237642+08:00  31.0  \n                                                       2023-09-28 18:41:59.237642+08:00  31.0  \n        zheng-longfei 2023-09-21 13:41:59.297357       2023-09-28 15:41:59.237642+08:00  31.0  \n                                                       2023-09-28 16:41:59.237642+08:00  31.0  \n                                                       2023-09-28 17:41:59.237642+08:00  31.0  \n                                                       2023-09-28 18:41:59.237642+08:00  31.0  \nVB7     wang-cheng    2023-09-28 13:41:59.237642+08:00 2023-09-28 14:41:59.237642+08:00  31.0  \n                                                       2023-09-28 15:41:59.237642+08:00  31.0  \n                                                       2023-09-28 16:41:59.237642+08:00  31.0  \n                                                       2023-09-28 17:41:59.237642+08:00  31.0  \n                                                       2023-09-28 18:41:59.237642+08:00  31.0  \n                      2023-09-22 13:41:59.297357       2023-09-28 15:41:59.237642+08:00  31.0  \n                                                       2023-09-28 17:41:59.237642+08:00  31.0  \n        zheng-longfei 2023-09-26 13:41:59.297357       2023-09-28 15:41:59.237642+08:00  31.0  \n                                                       2023-09-28 17:41:59.237642+08:00  31.0  \n\n[17 rows x 60 columns]",
      "text/html": "<div>\n<style scoped>\n    .dataframe tbody tr th:only-of-type {\n        vertical-align: middle;\n    }\n\n    .dataframe tbody tr th {\n        vertical-align: top;\n    }\n\n    .dataframe thead tr th {\n        text-align: left;\n    }\n\n    .dataframe thead tr:last-of-type th {\n        text-align: right;\n    }\n</style>\n<table border=\"1\" class=\"dataframe\">\n  <thead>\n    <tr>\n      <th></th>\n      <th></th>\n      <th></th>\n      <th>qtuple</th>\n      <th colspan=\"10\" halign=\"left\">state</th>\n      <th>...</th>\n      <th colspan=\"10\" halign=\"left\">nstate</th>\n    </tr>\n    <tr>\n      <th></th>\n      <th></th>\n      <th></th>\n      <th>rows</th>\n      <th colspan=\"4\" halign=\"left\">brake</th>\n      <th colspan=\"4\" halign=\"left\">thrust</th>\n      <th colspan=\"2\" halign=\"left\">timestep</th>\n      <th>...</th>\n      <th colspan=\"2\" halign=\"left\">thrust</th>\n      <th colspan=\"4\" halign=\"left\">timestep</th>\n      <th colspan=\"4\" halign=\"left\">velocity</th>\n    </tr>\n    <tr>\n      <th></th>\n      <th></th>\n      <th></th>\n      <th>idx</th>\n      <th>0</th>\n      <th>1</th>\n      <th>2</th>\n      <th>3</th>\n      <th>0</th>\n      <th>1</th>\n      <th>2</th>\n      <th>3</th>\n      <th>0</th>\n      <th>1</th>\n      <th>...</th>\n      <th>2</th>\n      <th>3</th>\n      <th>0</th>\n      <th>1</th>\n      <th>2</th>\n      <th>3</th>\n      <th>0</th>\n      <th>1</th>\n      <th>2</th>\n      <th>3</th>\n    </tr>\n    <tr>\n      <th>vehicle</th>\n      <th>driver</th>\n      <th>episodestart</th>\n      <th>timestamp</th>\n      <th></th>\n      <th></th>\n      <th></th>\n      <th></th>\n      <th></th>\n      <th></th>\n      <th></th>\n      <th></th>\n      <th></th>\n      <th></th>\n      <th></th>\n      <th></th>\n      <th></th>\n      <th></th>\n      <th></th>\n      <th></th>\n      <th></th>\n      <th></th>\n      <th></th>\n      <th></th>\n      <th></th>\n    </tr>\n  </thead>\n  <tbody>\n    <tr>\n      <th rowspan=\"8\" valign=\"top\">MP73</th>\n      <th rowspan=\"4\" valign=\"top\">wang-cheng</th>\n      <th rowspan=\"4\" valign=\"top\">2023-09-23 13:41:59.297357</th>\n      <th>2023-09-28 15:41:59.237642+08:00</th>\n      <td>8.0</td>\n      <td>9.0</td>\n      <td>10.0</td>\n      <td>11.0</td>\n      <td>4.0</td>\n      <td>5.0</td>\n      <td>6.0</td>\n      <td>7.0</td>\n      <td>2023-09-28 13:41:59.237642+08:00</td>\n      <td>2023-09-28 13:41:59.257642+08:00</td>\n      <td>...</td>\n      <td>34.0</td>\n      <td>35.0</td>\n      <td>2023-09-28 13:42:04.237642+08:00</td>\n      <td>2023-09-28 13:42:04.257642+08:00</td>\n      <td>2023-09-28 13:42:04.277642+08:00</td>\n      <td>2023-09-28 13:42:04.297642+08:00</td>\n      <td>28.0</td>\n      <td>29.0</td>\n      <td>30.0</td>\n      <td>31.0</td>\n    </tr>\n    <tr>\n      <th>2023-09-28 16:41:59.237642+08:00</th>\n      <td>8.0</td>\n      <td>9.0</td>\n      <td>10.0</td>\n      <td>11.0</td>\n      <td>4.0</td>\n      <td>5.0</td>\n      <td>6.0</td>\n      <td>7.0</td>\n      <td>2023-09-28 13:41:59.237642+08:00</td>\n      <td>2023-09-28 13:41:59.257642+08:00</td>\n      <td>...</td>\n      <td>34.0</td>\n      <td>35.0</td>\n      <td>2023-09-28 13:42:04.237642+08:00</td>\n      <td>2023-09-28 13:42:04.257642+08:00</td>\n      <td>2023-09-28 13:42:04.277642+08:00</td>\n      <td>2023-09-28 13:42:04.297642+08:00</td>\n      <td>28.0</td>\n      <td>29.0</td>\n      <td>30.0</td>\n      <td>31.0</td>\n    </tr>\n    <tr>\n      <th>2023-09-28 17:41:59.237642+08:00</th>\n      <td>8.0</td>\n      <td>9.0</td>\n      <td>10.0</td>\n      <td>11.0</td>\n      <td>4.0</td>\n      <td>5.0</td>\n      <td>6.0</td>\n      <td>7.0</td>\n      <td>2023-09-28 13:41:59.237642+08:00</td>\n      <td>2023-09-28 13:41:59.257642+08:00</td>\n      <td>...</td>\n      <td>34.0</td>\n      <td>35.0</td>\n      <td>2023-09-28 13:42:04.237642+08:00</td>\n      <td>2023-09-28 13:42:04.257642+08:00</td>\n      <td>2023-09-28 13:42:04.277642+08:00</td>\n      <td>2023-09-28 13:42:04.297642+08:00</td>\n      <td>28.0</td>\n      <td>29.0</td>\n      <td>30.0</td>\n      <td>31.0</td>\n    </tr>\n    <tr>\n      <th>2023-09-28 18:41:59.237642+08:00</th>\n      <td>8.0</td>\n      <td>9.0</td>\n      <td>10.0</td>\n      <td>11.0</td>\n      <td>4.0</td>\n      <td>5.0</td>\n      <td>6.0</td>\n      <td>7.0</td>\n      <td>2023-09-28 13:41:59.237642+08:00</td>\n      <td>2023-09-28 13:41:59.257642+08:00</td>\n      <td>...</td>\n      <td>34.0</td>\n      <td>35.0</td>\n      <td>2023-09-28 13:42:04.237642+08:00</td>\n      <td>2023-09-28 13:42:04.257642+08:00</td>\n      <td>2023-09-28 13:42:04.277642+08:00</td>\n      <td>2023-09-28 13:42:04.297642+08:00</td>\n      <td>28.0</td>\n      <td>29.0</td>\n      <td>30.0</td>\n      <td>31.0</td>\n    </tr>\n    <tr>\n      <th rowspan=\"4\" valign=\"top\">zheng-longfei</th>\n      <th rowspan=\"4\" valign=\"top\">2023-09-21 13:41:59.297357</th>\n      <th>2023-09-28 15:41:59.237642+08:00</th>\n      <td>8.0</td>\n      <td>9.0</td>\n      <td>10.0</td>\n      <td>11.0</td>\n      <td>4.0</td>\n      <td>5.0</td>\n      <td>6.0</td>\n      <td>7.0</td>\n      <td>2023-09-28 13:41:59.237642+08:00</td>\n      <td>2023-09-28 13:41:59.257642+08:00</td>\n      <td>...</td>\n      <td>34.0</td>\n      <td>35.0</td>\n      <td>2023-09-28 13:42:04.237642+08:00</td>\n      <td>2023-09-28 13:42:04.257642+08:00</td>\n      <td>2023-09-28 13:42:04.277642+08:00</td>\n      <td>2023-09-28 13:42:04.297642+08:00</td>\n      <td>28.0</td>\n      <td>29.0</td>\n      <td>30.0</td>\n      <td>31.0</td>\n    </tr>\n    <tr>\n      <th>2023-09-28 16:41:59.237642+08:00</th>\n      <td>8.0</td>\n      <td>9.0</td>\n      <td>10.0</td>\n      <td>11.0</td>\n      <td>4.0</td>\n      <td>5.0</td>\n      <td>6.0</td>\n      <td>7.0</td>\n      <td>2023-09-28 13:41:59.237642+08:00</td>\n      <td>2023-09-28 13:41:59.257642+08:00</td>\n      <td>...</td>\n      <td>34.0</td>\n      <td>35.0</td>\n      <td>2023-09-28 13:42:04.237642+08:00</td>\n      <td>2023-09-28 13:42:04.257642+08:00</td>\n      <td>2023-09-28 13:42:04.277642+08:00</td>\n      <td>2023-09-28 13:42:04.297642+08:00</td>\n      <td>28.0</td>\n      <td>29.0</td>\n      <td>30.0</td>\n      <td>31.0</td>\n    </tr>\n    <tr>\n      <th>2023-09-28 17:41:59.237642+08:00</th>\n      <td>8.0</td>\n      <td>9.0</td>\n      <td>10.0</td>\n      <td>11.0</td>\n      <td>4.0</td>\n      <td>5.0</td>\n      <td>6.0</td>\n      <td>7.0</td>\n      <td>2023-09-28 13:41:59.237642+08:00</td>\n      <td>2023-09-28 13:41:59.257642+08:00</td>\n      <td>...</td>\n      <td>34.0</td>\n      <td>35.0</td>\n      <td>2023-09-28 13:42:04.237642+08:00</td>\n      <td>2023-09-28 13:42:04.257642+08:00</td>\n      <td>2023-09-28 13:42:04.277642+08:00</td>\n      <td>2023-09-28 13:42:04.297642+08:00</td>\n      <td>28.0</td>\n      <td>29.0</td>\n      <td>30.0</td>\n      <td>31.0</td>\n    </tr>\n    <tr>\n      <th>2023-09-28 18:41:59.237642+08:00</th>\n      <td>8.0</td>\n      <td>9.0</td>\n      <td>10.0</td>\n      <td>11.0</td>\n      <td>4.0</td>\n      <td>5.0</td>\n      <td>6.0</td>\n      <td>7.0</td>\n      <td>2023-09-28 13:41:59.237642+08:00</td>\n      <td>2023-09-28 13:41:59.257642+08:00</td>\n      <td>...</td>\n      <td>34.0</td>\n      <td>35.0</td>\n      <td>2023-09-28 13:42:04.237642+08:00</td>\n      <td>2023-09-28 13:42:04.257642+08:00</td>\n      <td>2023-09-28 13:42:04.277642+08:00</td>\n      <td>2023-09-28 13:42:04.297642+08:00</td>\n      <td>28.0</td>\n      <td>29.0</td>\n      <td>30.0</td>\n      <td>31.0</td>\n    </tr>\n    <tr>\n      <th rowspan=\"9\" valign=\"top\">VB7</th>\n      <th rowspan=\"7\" valign=\"top\">wang-cheng</th>\n      <th rowspan=\"5\" valign=\"top\">2023-09-28 13:41:59.237642+08:00</th>\n      <th>2023-09-28 14:41:59.237642+08:00</th>\n      <td>8.0</td>\n      <td>9.0</td>\n      <td>10.0</td>\n      <td>11.0</td>\n      <td>4.0</td>\n      <td>5.0</td>\n      <td>6.0</td>\n      <td>7.0</td>\n      <td>2023-09-28 13:41:59.237642+08:00</td>\n      <td>2023-09-28 13:41:59.257642+08:00</td>\n      <td>...</td>\n      <td>34.0</td>\n      <td>35.0</td>\n      <td>2023-09-28 13:42:04.237642+08:00</td>\n      <td>2023-09-28 13:42:04.257642+08:00</td>\n      <td>2023-09-28 13:42:04.277642+08:00</td>\n      <td>2023-09-28 13:42:04.297642+08:00</td>\n      <td>28.0</td>\n      <td>29.0</td>\n      <td>30.0</td>\n      <td>31.0</td>\n    </tr>\n    <tr>\n      <th>2023-09-28 15:41:59.237642+08:00</th>\n      <td>8.0</td>\n      <td>9.0</td>\n      <td>10.0</td>\n      <td>11.0</td>\n      <td>4.0</td>\n      <td>5.0</td>\n      <td>6.0</td>\n      <td>7.0</td>\n      <td>2023-09-28 13:41:59.237642+08:00</td>\n      <td>2023-09-28 13:41:59.257642+08:00</td>\n      <td>...</td>\n      <td>34.0</td>\n      <td>35.0</td>\n      <td>2023-09-28 13:42:04.237642+08:00</td>\n      <td>2023-09-28 13:42:04.257642+08:00</td>\n      <td>2023-09-28 13:42:04.277642+08:00</td>\n      <td>2023-09-28 13:42:04.297642+08:00</td>\n      <td>28.0</td>\n      <td>29.0</td>\n      <td>30.0</td>\n      <td>31.0</td>\n    </tr>\n    <tr>\n      <th>2023-09-28 16:41:59.237642+08:00</th>\n      <td>8.0</td>\n      <td>9.0</td>\n      <td>10.0</td>\n      <td>11.0</td>\n      <td>4.0</td>\n      <td>5.0</td>\n      <td>6.0</td>\n      <td>7.0</td>\n      <td>2023-09-28 13:41:59.237642+08:00</td>\n      <td>2023-09-28 13:41:59.257642+08:00</td>\n      <td>...</td>\n      <td>34.0</td>\n      <td>35.0</td>\n      <td>2023-09-28 13:42:04.237642+08:00</td>\n      <td>2023-09-28 13:42:04.257642+08:00</td>\n      <td>2023-09-28 13:42:04.277642+08:00</td>\n      <td>2023-09-28 13:42:04.297642+08:00</td>\n      <td>28.0</td>\n      <td>29.0</td>\n      <td>30.0</td>\n      <td>31.0</td>\n    </tr>\n    <tr>\n      <th>2023-09-28 17:41:59.237642+08:00</th>\n      <td>8.0</td>\n      <td>9.0</td>\n      <td>10.0</td>\n      <td>11.0</td>\n      <td>4.0</td>\n      <td>5.0</td>\n      <td>6.0</td>\n      <td>7.0</td>\n      <td>2023-09-28 13:41:59.237642+08:00</td>\n      <td>2023-09-28 13:41:59.257642+08:00</td>\n      <td>...</td>\n      <td>34.0</td>\n      <td>35.0</td>\n      <td>2023-09-28 13:42:04.237642+08:00</td>\n      <td>2023-09-28 13:42:04.257642+08:00</td>\n      <td>2023-09-28 13:42:04.277642+08:00</td>\n      <td>2023-09-28 13:42:04.297642+08:00</td>\n      <td>28.0</td>\n      <td>29.0</td>\n      <td>30.0</td>\n      <td>31.0</td>\n    </tr>\n    <tr>\n      <th>2023-09-28 18:41:59.237642+08:00</th>\n      <td>8.0</td>\n      <td>9.0</td>\n      <td>10.0</td>\n      <td>11.0</td>\n      <td>4.0</td>\n      <td>5.0</td>\n      <td>6.0</td>\n      <td>7.0</td>\n      <td>2023-09-28 13:41:59.237642+08:00</td>\n      <td>2023-09-28 13:41:59.257642+08:00</td>\n      <td>...</td>\n      <td>34.0</td>\n      <td>35.0</td>\n      <td>2023-09-28 13:42:04.237642+08:00</td>\n      <td>2023-09-28 13:42:04.257642+08:00</td>\n      <td>2023-09-28 13:42:04.277642+08:00</td>\n      <td>2023-09-28 13:42:04.297642+08:00</td>\n      <td>28.0</td>\n      <td>29.0</td>\n      <td>30.0</td>\n      <td>31.0</td>\n    </tr>\n    <tr>\n      <th rowspan=\"2\" valign=\"top\">2023-09-22 13:41:59.297357</th>\n      <th>2023-09-28 15:41:59.237642+08:00</th>\n      <td>8.0</td>\n      <td>9.0</td>\n      <td>10.0</td>\n      <td>11.0</td>\n      <td>4.0</td>\n      <td>5.0</td>\n      <td>6.0</td>\n      <td>7.0</td>\n      <td>2023-09-28 13:41:59.237642+08:00</td>\n      <td>2023-09-28 13:41:59.257642+08:00</td>\n      <td>...</td>\n      <td>34.0</td>\n      <td>35.0</td>\n      <td>2023-09-28 13:42:04.237642+08:00</td>\n      <td>2023-09-28 13:42:04.257642+08:00</td>\n      <td>2023-09-28 13:42:04.277642+08:00</td>\n      <td>2023-09-28 13:42:04.297642+08:00</td>\n      <td>28.0</td>\n      <td>29.0</td>\n      <td>30.0</td>\n      <td>31.0</td>\n    </tr>\n    <tr>\n      <th>2023-09-28 17:41:59.237642+08:00</th>\n      <td>8.0</td>\n      <td>9.0</td>\n      <td>10.0</td>\n      <td>11.0</td>\n      <td>4.0</td>\n      <td>5.0</td>\n      <td>6.0</td>\n      <td>7.0</td>\n      <td>2023-09-28 13:41:59.237642+08:00</td>\n      <td>2023-09-28 13:41:59.257642+08:00</td>\n      <td>...</td>\n      <td>34.0</td>\n      <td>35.0</td>\n      <td>2023-09-28 13:42:04.237642+08:00</td>\n      <td>2023-09-28 13:42:04.257642+08:00</td>\n      <td>2023-09-28 13:42:04.277642+08:00</td>\n      <td>2023-09-28 13:42:04.297642+08:00</td>\n      <td>28.0</td>\n      <td>29.0</td>\n      <td>30.0</td>\n      <td>31.0</td>\n    </tr>\n    <tr>\n      <th rowspan=\"2\" valign=\"top\">zheng-longfei</th>\n      <th rowspan=\"2\" valign=\"top\">2023-09-26 13:41:59.297357</th>\n      <th>2023-09-28 15:41:59.237642+08:00</th>\n      <td>8.0</td>\n      <td>9.0</td>\n      <td>10.0</td>\n      <td>11.0</td>\n      <td>4.0</td>\n      <td>5.0</td>\n      <td>6.0</td>\n      <td>7.0</td>\n      <td>2023-09-28 13:41:59.237642+08:00</td>\n      <td>2023-09-28 13:41:59.257642+08:00</td>\n      <td>...</td>\n      <td>34.0</td>\n      <td>35.0</td>\n      <td>2023-09-28 13:42:04.237642+08:00</td>\n      <td>2023-09-28 13:42:04.257642+08:00</td>\n      <td>2023-09-28 13:42:04.277642+08:00</td>\n      <td>2023-09-28 13:42:04.297642+08:00</td>\n      <td>28.0</td>\n      <td>29.0</td>\n      <td>30.0</td>\n      <td>31.0</td>\n    </tr>\n    <tr>\n      <th>2023-09-28 17:41:59.237642+08:00</th>\n      <td>8.0</td>\n      <td>9.0</td>\n      <td>10.0</td>\n      <td>11.0</td>\n      <td>4.0</td>\n      <td>5.0</td>\n      <td>6.0</td>\n      <td>7.0</td>\n      <td>2023-09-28 13:41:59.237642+08:00</td>\n      <td>2023-09-28 13:41:59.257642+08:00</td>\n      <td>...</td>\n      <td>34.0</td>\n      <td>35.0</td>\n      <td>2023-09-28 13:42:04.237642+08:00</td>\n      <td>2023-09-28 13:42:04.257642+08:00</td>\n      <td>2023-09-28 13:42:04.277642+08:00</td>\n      <td>2023-09-28 13:42:04.297642+08:00</td>\n      <td>28.0</td>\n      <td>29.0</td>\n      <td>30.0</td>\n      <td>31.0</td>\n    </tr>\n  </tbody>\n</table>\n<p>17 rows × 60 columns</p>\n</div>"
     },
     "execution_count": 5,
     "metadata": {},
     "output_type": "execute_result"
    }
   ],
   "source": [
    "ts_new = pd.to_datetime((datetime.now()))\n",
    "episodestart = ts_new - pd.Timedelta(2, \"d\")\n",
    "\n",
    "dfs_episode0 = dfs_episode.copy()\n",
    "dfs_episode0.index = dfs_episode0.index.set_levels([episodestart], level=\"episodestart\")\n",
    "dfs_episode0.index = dfs_episode0.index.set_levels(\n",
    "    [[trucks_by_id[\"VB7\"].vid], [drivers_by_id[\"zheng-longfei\"].pid]],\n",
    "    level=[\"vehicle\", \"driver\"],\n",
    "    verify_integrity=False,\n",
    ")\n",
    "ts_index = dfs_episode0.index.unique(level=\"timestamp\")\n",
    "idx_num = len(ts_index)\n",
    "drop_num = np.random.randint(low=1, high=idx_num - 1)\n",
    "ts_index_to_drop = np.random.choice(ts_index, drop_num, replace=False)\n",
    "dfs_episode0 = dfs_episode0.drop(index=ts_index_to_drop, level=\"timestamp\")\n",
    "# srs_episode0 = dfs_episode0.stack(level=['qtuple', 'rows', 'idx'])\n",
    "\n",
    "dfs_episode1 = dfs_episode.copy()\n",
    "dfs_episode1.index = dfs_episode1.index.set_levels(\n",
    "    [episodestart - pd.Timedelta(3, \"d\")], level=\"episodestart\"\n",
    ")\n",
    "dfs_episode1.index = dfs_episode1.index.set_levels(\n",
    "    [[trucks_by_id[\"MP73\"].vid], [drivers_by_id[\"wang-cheng\"].pid]],\n",
    "    level=[\"vehicle\", \"driver\"],\n",
    "    verify_integrity=False,\n",
    ")\n",
    "ts_index = dfs_episode1.index.unique(level=\"timestamp\")\n",
    "idx_num = len(ts_index)\n",
    "drop_num = np.random.randint(low=1, high=idx_num - 1)\n",
    "ts_index_to_drop = np.random.choice(ts_index, drop_num, replace=False)\n",
    "dfs_episode1 = dfs_episode1.drop(index=ts_index_to_drop, level=\"timestamp\")\n",
    "# srs_episode1 = dfs_episode1.stack(level=['qtuple', 'rows', 'idx'])\n",
    "\n",
    "dfs_episode2 = dfs_episode.copy()\n",
    "dfs_episode2.index = dfs_episode2.index.set_levels(\n",
    "    [episodestart - pd.Timedelta(4, \"d\")], level=\"episodestart\"\n",
    ")\n",
    "dfs_episode2.index = dfs_episode2.index.set_levels(\n",
    "    [[trucks_by_id[\"VB7\"].vid], [drivers_by_id[\"wang-cheng\"].pid]],\n",
    "    level=[\"vehicle\", \"driver\"],\n",
    "    verify_integrity=False,\n",
    ")\n",
    "ts_index = dfs_episode2.index.unique(level=\"timestamp\")\n",
    "idx_num = len(ts_index)\n",
    "drop_num = np.random.randint(low=1, high=idx_num - 1)\n",
    "ts_index_to_drop = np.random.choice(ts_index, drop_num, replace=False)\n",
    "dfs_episode2 = dfs_episode2.drop(index=ts_index_to_drop, level=\"timestamp\")\n",
    "# srs_episode2 = dfs_episode2.stack(level=['qtuple', 'rows', 'idx'])\n",
    "\n",
    "dfs_episode3 = dfs_episode.copy()\n",
    "dfs_episode3.index = dfs_episode3.index.set_levels(\n",
    "    [episodestart - pd.Timedelta(5, \"d\")], level=\"episodestart\"\n",
    ")\n",
    "dfs_episode3.index = dfs_episode3.index.set_levels(\n",
    "    [[trucks_by_id[\"MP73\"].vid], [drivers_by_id[\"zheng-longfei\"].pid]],\n",
    "    level=[\"vehicle\", \"driver\"],\n",
    "    verify_integrity=False,\n",
    ")\n",
    "ts_index = dfs_episode3.index.unique(level=\"timestamp\")\n",
    "idx_num = len(ts_index)\n",
    "drop_num = np.random.randint(low=1, high=idx_num - 1)\n",
    "ts_index_to_drop = np.random.choice(ts_index, drop_num, replace=False)\n",
    "dfs_episode3 = dfs_episode3.drop(index=ts_index_to_drop, level=\"timestamp\")\n",
    "# srs_episode3 = dfs_episode3.stack(level=['qtuple', 'rows', 'idx'])\n",
    "from functools import reduce\n",
    "\n",
    "episodes = [dfs_episode, dfs_episode0, dfs_episode1, dfs_episode2, dfs_episode3]\n",
    "try:\n",
    "    dfs_episode_all = reduce(\n",
    "        lambda left, right,: pd.concat([left, right], axis=0), episodes\n",
    "    )\n",
    "    dfs_episode_all.sort_index(inplace=True)\n",
    "    dfs_episode_all = dfs_episode_all[[\"state\", \"action\", \"reward\", \"nstate\"]]\n",
    "    dfs_episode_all\n",
    "\n",
    "except Exception as e:\n",
    "    print(e)\n",
    "# dfs_episode_all.sort_index(inplace=True)\n",
    "# dfs_episode_all = dfs_episode_all.swaplevel(1, 0, axis=0)\n",
    "# dfs_episode_all = dfs_episode_all.swaplevel(1, 2, axis=0)\n",
    "# dfs_episode_all.index\n",
    "# dfs_episode_all.columns#\n",
    "#"
   ],
   "metadata": {
    "collapsed": false,
    "ExecuteTime": {
     "end_time": "2023-09-28T05:41:59.710697449Z",
     "start_time": "2023-09-28T05:41:59.318595036Z"
    }
   },
   "id": "c7bcc8498d9554d"
  },
  {
   "cell_type": "code",
   "execution_count": 6,
   "outputs": [
    {
     "data": {
      "text/plain": "qtuple                                                                               action  \\\nrows                                                                                     r0   \nidx                                                                                       0   \nvehicle driver     episodestart                     timestamp                                 \nVB7     wang-cheng 2023-09-28 13:41:59.237642+08:00 2023-09-28 14:41:59.237642+08:00   12.0   \n                                                    2023-09-28 15:41:59.237642+08:00   12.0   \n                                                    2023-09-28 16:41:59.237642+08:00   12.0   \n                                                    2023-09-28 17:41:59.237642+08:00   12.0   \n                                                    2023-09-28 18:41:59.237642+08:00   12.0   \n\nqtuple                                                                                      \\\nrows                                                                                         \nidx                                                                                      1   \nvehicle driver     episodestart                     timestamp                                \nVB7     wang-cheng 2023-09-28 13:41:59.237642+08:00 2023-09-28 14:41:59.237642+08:00  13.0   \n                                                    2023-09-28 15:41:59.237642+08:00  13.0   \n                                                    2023-09-28 16:41:59.237642+08:00  13.0   \n                                                    2023-09-28 17:41:59.237642+08:00  13.0   \n                                                    2023-09-28 18:41:59.237642+08:00  13.0   \n\nqtuple                                                                                      \\\nrows                                                                                         \nidx                                                                                      2   \nvehicle driver     episodestart                     timestamp                                \nVB7     wang-cheng 2023-09-28 13:41:59.237642+08:00 2023-09-28 14:41:59.237642+08:00  14.0   \n                                                    2023-09-28 15:41:59.237642+08:00  14.0   \n                                                    2023-09-28 16:41:59.237642+08:00  14.0   \n                                                    2023-09-28 17:41:59.237642+08:00  14.0   \n                                                    2023-09-28 18:41:59.237642+08:00  14.0   \n\nqtuple                                                                                      \\\nrows                                                                                         \nidx                                                                                      3   \nvehicle driver     episodestart                     timestamp                                \nVB7     wang-cheng 2023-09-28 13:41:59.237642+08:00 2023-09-28 14:41:59.237642+08:00  15.0   \n                                                    2023-09-28 15:41:59.237642+08:00  15.0   \n                                                    2023-09-28 16:41:59.237642+08:00  15.0   \n                                                    2023-09-28 17:41:59.237642+08:00  15.0   \n                                                    2023-09-28 18:41:59.237642+08:00  15.0   \n\nqtuple                                                                                      \\\nrows                                                                                         \nidx                                                                                      4   \nvehicle driver     episodestart                     timestamp                                \nVB7     wang-cheng 2023-09-28 13:41:59.237642+08:00 2023-09-28 14:41:59.237642+08:00  16.0   \n                                                    2023-09-28 15:41:59.237642+08:00  16.0   \n                                                    2023-09-28 16:41:59.237642+08:00  16.0   \n                                                    2023-09-28 17:41:59.237642+08:00  16.0   \n                                                    2023-09-28 18:41:59.237642+08:00  16.0   \n\nqtuple                                                                                      \\\nrows                                                                                    r1   \nidx                                                                                      0   \nvehicle driver     episodestart                     timestamp                                \nVB7     wang-cheng 2023-09-28 13:41:59.237642+08:00 2023-09-28 14:41:59.237642+08:00  17.0   \n                                                    2023-09-28 15:41:59.237642+08:00  17.0   \n                                                    2023-09-28 16:41:59.237642+08:00  17.0   \n                                                    2023-09-28 17:41:59.237642+08:00  17.0   \n                                                    2023-09-28 18:41:59.237642+08:00  17.0   \n\nqtuple                                                                                      \\\nrows                                                                                         \nidx                                                                                      1   \nvehicle driver     episodestart                     timestamp                                \nVB7     wang-cheng 2023-09-28 13:41:59.237642+08:00 2023-09-28 14:41:59.237642+08:00  18.0   \n                                                    2023-09-28 15:41:59.237642+08:00  18.0   \n                                                    2023-09-28 16:41:59.237642+08:00  18.0   \n                                                    2023-09-28 17:41:59.237642+08:00  18.0   \n                                                    2023-09-28 18:41:59.237642+08:00  18.0   \n\nqtuple                                                                                      \\\nrows                                                                                         \nidx                                                                                      2   \nvehicle driver     episodestart                     timestamp                                \nVB7     wang-cheng 2023-09-28 13:41:59.237642+08:00 2023-09-28 14:41:59.237642+08:00  19.0   \n                                                    2023-09-28 15:41:59.237642+08:00  19.0   \n                                                    2023-09-28 16:41:59.237642+08:00  19.0   \n                                                    2023-09-28 17:41:59.237642+08:00  19.0   \n                                                    2023-09-28 18:41:59.237642+08:00  19.0   \n\nqtuple                                                                                      \\\nrows                                                                                         \nidx                                                                                      3   \nvehicle driver     episodestart                     timestamp                                \nVB7     wang-cheng 2023-09-28 13:41:59.237642+08:00 2023-09-28 14:41:59.237642+08:00  20.0   \n                                                    2023-09-28 15:41:59.237642+08:00  20.0   \n                                                    2023-09-28 16:41:59.237642+08:00  20.0   \n                                                    2023-09-28 17:41:59.237642+08:00  20.0   \n                                                    2023-09-28 18:41:59.237642+08:00  20.0   \n\nqtuple                                                                                      \\\nrows                                                                                         \nidx                                                                                      4   \nvehicle driver     episodestart                     timestamp                                \nVB7     wang-cheng 2023-09-28 13:41:59.237642+08:00 2023-09-28 14:41:59.237642+08:00  21.0   \n                                                    2023-09-28 15:41:59.237642+08:00  21.0   \n                                                    2023-09-28 16:41:59.237642+08:00  21.0   \n                                                    2023-09-28 17:41:59.237642+08:00  21.0   \n                                                    2023-09-28 18:41:59.237642+08:00  21.0   \n\nqtuple                                                                                ...  \\\nrows                                                                                  ...   \nidx                                                                                   ...   \nvehicle driver     episodestart                     timestamp                         ...   \nVB7     wang-cheng 2023-09-28 13:41:59.237642+08:00 2023-09-28 14:41:59.237642+08:00  ...   \n                                                    2023-09-28 15:41:59.237642+08:00  ...   \n                                                    2023-09-28 16:41:59.237642+08:00  ...   \n                                                    2023-09-28 17:41:59.237642+08:00  ...   \n                                                    2023-09-28 18:41:59.237642+08:00  ...   \n\nqtuple                                                                                state  \\\nrows                                                                                 thrust   \nidx                                                                                       2   \nvehicle driver     episodestart                     timestamp                                 \nVB7     wang-cheng 2023-09-28 13:41:59.237642+08:00 2023-09-28 14:41:59.237642+08:00    6.0   \n                                                    2023-09-28 15:41:59.237642+08:00    6.0   \n                                                    2023-09-28 16:41:59.237642+08:00    6.0   \n                                                    2023-09-28 17:41:59.237642+08:00    6.0   \n                                                    2023-09-28 18:41:59.237642+08:00    6.0   \n\nqtuple                                                                                     \\\nrows                                                                                        \nidx                                                                                     3   \nvehicle driver     episodestart                     timestamp                               \nVB7     wang-cheng 2023-09-28 13:41:59.237642+08:00 2023-09-28 14:41:59.237642+08:00  7.0   \n                                                    2023-09-28 15:41:59.237642+08:00  7.0   \n                                                    2023-09-28 16:41:59.237642+08:00  7.0   \n                                                    2023-09-28 17:41:59.237642+08:00  7.0   \n                                                    2023-09-28 18:41:59.237642+08:00  7.0   \n\nqtuple                                                                                                                  \\\nrows                                                                                                          timestep   \nidx                                                                                                                  0   \nvehicle driver     episodestart                     timestamp                                                            \nVB7     wang-cheng 2023-09-28 13:41:59.237642+08:00 2023-09-28 14:41:59.237642+08:00  2023-09-28 13:41:59.237642+08:00   \n                                                    2023-09-28 15:41:59.237642+08:00  2023-09-28 13:41:59.237642+08:00   \n                                                    2023-09-28 16:41:59.237642+08:00  2023-09-28 13:41:59.237642+08:00   \n                                                    2023-09-28 17:41:59.237642+08:00  2023-09-28 13:41:59.237642+08:00   \n                                                    2023-09-28 18:41:59.237642+08:00  2023-09-28 13:41:59.237642+08:00   \n\nqtuple                                                                                                                  \\\nrows                                                                                                                     \nidx                                                                                                                  1   \nvehicle driver     episodestart                     timestamp                                                            \nVB7     wang-cheng 2023-09-28 13:41:59.237642+08:00 2023-09-28 14:41:59.237642+08:00  2023-09-28 13:41:59.257642+08:00   \n                                                    2023-09-28 15:41:59.237642+08:00  2023-09-28 13:41:59.257642+08:00   \n                                                    2023-09-28 16:41:59.237642+08:00  2023-09-28 13:41:59.257642+08:00   \n                                                    2023-09-28 17:41:59.237642+08:00  2023-09-28 13:41:59.257642+08:00   \n                                                    2023-09-28 18:41:59.237642+08:00  2023-09-28 13:41:59.257642+08:00   \n\nqtuple                                                                                                                  \\\nrows                                                                                                                     \nidx                                                                                                                  2   \nvehicle driver     episodestart                     timestamp                                                            \nVB7     wang-cheng 2023-09-28 13:41:59.237642+08:00 2023-09-28 14:41:59.237642+08:00  2023-09-28 13:41:59.277642+08:00   \n                                                    2023-09-28 15:41:59.237642+08:00  2023-09-28 13:41:59.277642+08:00   \n                                                    2023-09-28 16:41:59.237642+08:00  2023-09-28 13:41:59.277642+08:00   \n                                                    2023-09-28 17:41:59.237642+08:00  2023-09-28 13:41:59.277642+08:00   \n                                                    2023-09-28 18:41:59.237642+08:00  2023-09-28 13:41:59.277642+08:00   \n\nqtuple                                                                                                                  \\\nrows                                                                                                                     \nidx                                                                                                                  3   \nvehicle driver     episodestart                     timestamp                                                            \nVB7     wang-cheng 2023-09-28 13:41:59.237642+08:00 2023-09-28 14:41:59.237642+08:00  2023-09-28 13:41:59.297642+08:00   \n                                                    2023-09-28 15:41:59.237642+08:00  2023-09-28 13:41:59.297642+08:00   \n                                                    2023-09-28 16:41:59.237642+08:00  2023-09-28 13:41:59.297642+08:00   \n                                                    2023-09-28 17:41:59.237642+08:00  2023-09-28 13:41:59.297642+08:00   \n                                                    2023-09-28 18:41:59.237642+08:00  2023-09-28 13:41:59.297642+08:00   \n\nqtuple                                                                                         \\\nrows                                                                                 velocity   \nidx                                                                                         0   \nvehicle driver     episodestart                     timestamp                                   \nVB7     wang-cheng 2023-09-28 13:41:59.237642+08:00 2023-09-28 14:41:59.237642+08:00      0.0   \n                                                    2023-09-28 15:41:59.237642+08:00      0.0   \n                                                    2023-09-28 16:41:59.237642+08:00      0.0   \n                                                    2023-09-28 17:41:59.237642+08:00      0.0   \n                                                    2023-09-28 18:41:59.237642+08:00      0.0   \n\nqtuple                                                                                     \\\nrows                                                                                        \nidx                                                                                     1   \nvehicle driver     episodestart                     timestamp                               \nVB7     wang-cheng 2023-09-28 13:41:59.237642+08:00 2023-09-28 14:41:59.237642+08:00  1.0   \n                                                    2023-09-28 15:41:59.237642+08:00  1.0   \n                                                    2023-09-28 16:41:59.237642+08:00  1.0   \n                                                    2023-09-28 17:41:59.237642+08:00  1.0   \n                                                    2023-09-28 18:41:59.237642+08:00  1.0   \n\nqtuple                                                                                     \\\nrows                                                                                        \nidx                                                                                     2   \nvehicle driver     episodestart                     timestamp                               \nVB7     wang-cheng 2023-09-28 13:41:59.237642+08:00 2023-09-28 14:41:59.237642+08:00  2.0   \n                                                    2023-09-28 15:41:59.237642+08:00  2.0   \n                                                    2023-09-28 16:41:59.237642+08:00  2.0   \n                                                    2023-09-28 17:41:59.237642+08:00  2.0   \n                                                    2023-09-28 18:41:59.237642+08:00  2.0   \n\nqtuple                                                                                     \nrows                                                                                       \nidx                                                                                     3  \nvehicle driver     episodestart                     timestamp                              \nVB7     wang-cheng 2023-09-28 13:41:59.237642+08:00 2023-09-28 14:41:59.237642+08:00  3.0  \n                                                    2023-09-28 15:41:59.237642+08:00  3.0  \n                                                    2023-09-28 16:41:59.237642+08:00  3.0  \n                                                    2023-09-28 17:41:59.237642+08:00  3.0  \n                                                    2023-09-28 18:41:59.237642+08:00  3.0  \n\n[5 rows x 60 columns]",
      "text/html": "<div>\n<style scoped>\n    .dataframe tbody tr th:only-of-type {\n        vertical-align: middle;\n    }\n\n    .dataframe tbody tr th {\n        vertical-align: top;\n    }\n\n    .dataframe thead tr th {\n        text-align: left;\n    }\n\n    .dataframe thead tr:last-of-type th {\n        text-align: right;\n    }\n</style>\n<table border=\"1\" class=\"dataframe\">\n  <thead>\n    <tr>\n      <th></th>\n      <th></th>\n      <th></th>\n      <th>qtuple</th>\n      <th colspan=\"10\" halign=\"left\">action</th>\n      <th>...</th>\n      <th colspan=\"10\" halign=\"left\">state</th>\n    </tr>\n    <tr>\n      <th></th>\n      <th></th>\n      <th></th>\n      <th>rows</th>\n      <th colspan=\"5\" halign=\"left\">r0</th>\n      <th colspan=\"5\" halign=\"left\">r1</th>\n      <th>...</th>\n      <th colspan=\"2\" halign=\"left\">thrust</th>\n      <th colspan=\"4\" halign=\"left\">timestep</th>\n      <th colspan=\"4\" halign=\"left\">velocity</th>\n    </tr>\n    <tr>\n      <th></th>\n      <th></th>\n      <th></th>\n      <th>idx</th>\n      <th>0</th>\n      <th>1</th>\n      <th>2</th>\n      <th>3</th>\n      <th>4</th>\n      <th>0</th>\n      <th>1</th>\n      <th>2</th>\n      <th>3</th>\n      <th>4</th>\n      <th>...</th>\n      <th>2</th>\n      <th>3</th>\n      <th>0</th>\n      <th>1</th>\n      <th>2</th>\n      <th>3</th>\n      <th>0</th>\n      <th>1</th>\n      <th>2</th>\n      <th>3</th>\n    </tr>\n    <tr>\n      <th>vehicle</th>\n      <th>driver</th>\n      <th>episodestart</th>\n      <th>timestamp</th>\n      <th></th>\n      <th></th>\n      <th></th>\n      <th></th>\n      <th></th>\n      <th></th>\n      <th></th>\n      <th></th>\n      <th></th>\n      <th></th>\n      <th></th>\n      <th></th>\n      <th></th>\n      <th></th>\n      <th></th>\n      <th></th>\n      <th></th>\n      <th></th>\n      <th></th>\n      <th></th>\n      <th></th>\n    </tr>\n  </thead>\n  <tbody>\n    <tr>\n      <th rowspan=\"5\" valign=\"top\">VB7</th>\n      <th rowspan=\"5\" valign=\"top\">wang-cheng</th>\n      <th rowspan=\"5\" valign=\"top\">2023-09-28 13:41:59.237642+08:00</th>\n      <th>2023-09-28 14:41:59.237642+08:00</th>\n      <td>12.0</td>\n      <td>13.0</td>\n      <td>14.0</td>\n      <td>15.0</td>\n      <td>16.0</td>\n      <td>17.0</td>\n      <td>18.0</td>\n      <td>19.0</td>\n      <td>20.0</td>\n      <td>21.0</td>\n      <td>...</td>\n      <td>6.0</td>\n      <td>7.0</td>\n      <td>2023-09-28 13:41:59.237642+08:00</td>\n      <td>2023-09-28 13:41:59.257642+08:00</td>\n      <td>2023-09-28 13:41:59.277642+08:00</td>\n      <td>2023-09-28 13:41:59.297642+08:00</td>\n      <td>0.0</td>\n      <td>1.0</td>\n      <td>2.0</td>\n      <td>3.0</td>\n    </tr>\n    <tr>\n      <th>2023-09-28 15:41:59.237642+08:00</th>\n      <td>12.0</td>\n      <td>13.0</td>\n      <td>14.0</td>\n      <td>15.0</td>\n      <td>16.0</td>\n      <td>17.0</td>\n      <td>18.0</td>\n      <td>19.0</td>\n      <td>20.0</td>\n      <td>21.0</td>\n      <td>...</td>\n      <td>6.0</td>\n      <td>7.0</td>\n      <td>2023-09-28 13:41:59.237642+08:00</td>\n      <td>2023-09-28 13:41:59.257642+08:00</td>\n      <td>2023-09-28 13:41:59.277642+08:00</td>\n      <td>2023-09-28 13:41:59.297642+08:00</td>\n      <td>0.0</td>\n      <td>1.0</td>\n      <td>2.0</td>\n      <td>3.0</td>\n    </tr>\n    <tr>\n      <th>2023-09-28 16:41:59.237642+08:00</th>\n      <td>12.0</td>\n      <td>13.0</td>\n      <td>14.0</td>\n      <td>15.0</td>\n      <td>16.0</td>\n      <td>17.0</td>\n      <td>18.0</td>\n      <td>19.0</td>\n      <td>20.0</td>\n      <td>21.0</td>\n      <td>...</td>\n      <td>6.0</td>\n      <td>7.0</td>\n      <td>2023-09-28 13:41:59.237642+08:00</td>\n      <td>2023-09-28 13:41:59.257642+08:00</td>\n      <td>2023-09-28 13:41:59.277642+08:00</td>\n      <td>2023-09-28 13:41:59.297642+08:00</td>\n      <td>0.0</td>\n      <td>1.0</td>\n      <td>2.0</td>\n      <td>3.0</td>\n    </tr>\n    <tr>\n      <th>2023-09-28 17:41:59.237642+08:00</th>\n      <td>12.0</td>\n      <td>13.0</td>\n      <td>14.0</td>\n      <td>15.0</td>\n      <td>16.0</td>\n      <td>17.0</td>\n      <td>18.0</td>\n      <td>19.0</td>\n      <td>20.0</td>\n      <td>21.0</td>\n      <td>...</td>\n      <td>6.0</td>\n      <td>7.0</td>\n      <td>2023-09-28 13:41:59.237642+08:00</td>\n      <td>2023-09-28 13:41:59.257642+08:00</td>\n      <td>2023-09-28 13:41:59.277642+08:00</td>\n      <td>2023-09-28 13:41:59.297642+08:00</td>\n      <td>0.0</td>\n      <td>1.0</td>\n      <td>2.0</td>\n      <td>3.0</td>\n    </tr>\n    <tr>\n      <th>2023-09-28 18:41:59.237642+08:00</th>\n      <td>12.0</td>\n      <td>13.0</td>\n      <td>14.0</td>\n      <td>15.0</td>\n      <td>16.0</td>\n      <td>17.0</td>\n      <td>18.0</td>\n      <td>19.0</td>\n      <td>20.0</td>\n      <td>21.0</td>\n      <td>...</td>\n      <td>6.0</td>\n      <td>7.0</td>\n      <td>2023-09-28 13:41:59.237642+08:00</td>\n      <td>2023-09-28 13:41:59.257642+08:00</td>\n      <td>2023-09-28 13:41:59.277642+08:00</td>\n      <td>2023-09-28 13:41:59.297642+08:00</td>\n      <td>0.0</td>\n      <td>1.0</td>\n      <td>2.0</td>\n      <td>3.0</td>\n    </tr>\n  </tbody>\n</table>\n<p>5 rows × 60 columns</p>\n</div>"
     },
     "execution_count": 6,
     "metadata": {},
     "output_type": "execute_result"
    }
   ],
   "source": [
    "dfs_episode\n",
    "# episodes[0]"
   ],
   "metadata": {
    "collapsed": false,
    "ExecuteTime": {
     "end_time": "2023-09-28T05:41:59.711062306Z",
     "start_time": "2023-09-28T05:41:59.352618553Z"
    }
   },
   "id": "6685bc4d6efeb096"
  },
  {
   "cell_type": "code",
   "execution_count": 7,
   "id": "5d35874e",
   "metadata": {
    "ExecuteTime": {
     "end_time": "2023-09-28T05:41:59.711446619Z",
     "start_time": "2023-09-28T05:41:59.356768662Z"
    }
   },
   "outputs": [
    {
     "data": {
      "text/plain": "1695883319237642.0"
     },
     "execution_count": 7,
     "metadata": {},
     "output_type": "execute_result"
    },
    {
     "data": {
      "text/plain": "Timestamp('2023-09-28 14:41:59.237642+0800', tz='Asia/Shanghai')"
     },
     "execution_count": 7,
     "metadata": {},
     "output_type": "execute_result"
    },
    {
     "data": {
      "text/plain": "Timestamp('2023-09-28 15:41:59.237642+0800', tz='Asia/Shanghai')"
     },
     "execution_count": 7,
     "metadata": {},
     "output_type": "execute_result"
    },
    {
     "data": {
      "text/plain": "Timestamp('2023-09-28 15:41:59.237642+0800', tz='Asia/Shanghai')"
     },
     "execution_count": 7,
     "metadata": {},
     "output_type": "execute_result"
    },
    {
     "data": {
      "text/plain": "Timestamp('2023-09-28 15:41:59.237642+0800', tz='Asia/Shanghai')"
     },
     "execution_count": 7,
     "metadata": {},
     "output_type": "execute_result"
    },
    {
     "data": {
      "text/plain": "Timestamp('2023-09-28 15:41:59.237642+0800', tz='Asia/Shanghai')"
     },
     "execution_count": 7,
     "metadata": {},
     "output_type": "execute_result"
    },
    {
     "data": {
      "text/plain": "[{'vehicle': 'VB7',\n  'driver': 'wang-cheng',\n  'episodestart': 1695879719237642.0},\n {'vehicle': 'VB7',\n  'driver': 'zheng-longfei',\n  'episodestart': 1695735719297357.0},\n {'vehicle': 'MP73',\n  'driver': 'wang-cheng',\n  'episodestart': 1695476519297357.0},\n {'vehicle': 'VB7',\n  'driver': 'wang-cheng',\n  'episodestart': 1695390119297357.0},\n {'vehicle': 'MP73',\n  'driver': 'zheng-longfei',\n  'episodestart': 1695303719297357.0}]"
     },
     "execution_count": 7,
     "metadata": {},
     "output_type": "execute_result"
    }
   ],
   "source": [
    "from dataclasses import asdict\n",
    "\n",
    "indices = dfs_episode.index\n",
    "# ep_start = indices.get_level_values(level='episodestart')[0]\n",
    "indices_dict = [\n",
    "    {indices.names[i]: level for i, level in enumerate(levels)} for levels in indices\n",
    "]\n",
    "episode_meta = indices_dict[0].copy()\n",
    "episode_meta[\"episodestart\"] = episode_meta[\"episodestart\"].timestamp() * 1e6\n",
    "episode_meta[\"timestamp\"] = episode_meta[\"timestamp\"].timestamp() * 1e6\n",
    "try:\n",
    "    episode_meta.pop(\"timestamp\")\n",
    "except KeyError:\n",
    "    print(f\"Key 'timestamp' not found\")\n",
    "# episode_meta\n",
    "\n",
    "# episodes_indices\n",
    "episodes_indices_dict = [\n",
    "    [{indices.names[i]: level for i, level in enumerate(levels)} for levels in df.index]\n",
    "    for df in episodes\n",
    "]\n",
    "for indices in episodes_indices_dict:\n",
    "    indices[0].pop(\"timestamp\")\n",
    "\n",
    "episodes_meta_dict = [indices[0] for indices in episodes_indices_dict]\n",
    "\n",
    "for ep_mt in episodes_meta_dict:\n",
    "    ep_mt[\"episodestart\"] = ep_mt[\"episodestart\"].timestamp() * 1e6\n",
    "episodes_meta_dict"
   ]
  },
  {
   "cell_type": "code",
   "execution_count": 8,
   "id": "5bcf6cbc",
   "metadata": {
    "ExecuteTime": {
     "end_time": "2023-09-28T05:41:59.711711874Z",
     "start_time": "2023-09-28T05:41:59.406420599Z"
    }
   },
   "outputs": [
    {
     "data": {
      "text/plain": "[{'timestamp': 1695883319237642.0,\n  'action': {'r0': [12.0, 13.0, 14.0, 15.0, 16.0],\n   'r1': [17.0, 18.0, 19.0, 20.0, 21.0],\n   'r2': [22.0, 23.0, 24.0, 25.0, 26.0],\n   'speed': [40.0, 50.0, 60.0],\n   'throttle': [0.0, 0.25, 0.5, 0.75, 1.0],\n   'timestep': [1695879719337642.0, 1695879719357642.0, 1695879719377642.0]},\n  'nstate': {'brake': [36.0, 37.0, 38.0, 39.0],\n   'thrust': [32.0, 33.0, 34.0, 35.0],\n   'timestep': [1695879724237642.0,\n    1695879724257642.0,\n    1695879724277642.0,\n    1695879724297642.0],\n   'velocity': [28.0, 29.0, 30.0, 31.0]},\n  'reward': {'timestep': [1695879719337642.0], 'work': [27.0]},\n  'state': {'brake': [8.0, 9.0, 10.0, 11.0],\n   'thrust': [4.0, 5.0, 6.0, 7.0],\n   'timestep': [1695879719237642.0,\n    1695879719257642.0,\n    1695879719277642.0,\n    1695879719297642.0],\n   'velocity': [0.0, 1.0, 2.0, 3.0]}},\n {'timestamp': 1695886919237642.0,\n  'action': {'r0': [12.0, 13.0, 14.0, 15.0, 16.0],\n   'r1': [17.0, 18.0, 19.0, 20.0, 21.0],\n   'r2': [22.0, 23.0, 24.0, 25.0, 26.0],\n   'speed': [40.0, 50.0, 60.0],\n   'throttle': [0.0, 0.25, 0.5, 0.75, 1.0],\n   'timestep': [1695879719337642.0, 1695879719357642.0, 1695879719377642.0]},\n  'nstate': {'brake': [36.0, 37.0, 38.0, 39.0],\n   'thrust': [32.0, 33.0, 34.0, 35.0],\n   'timestep': [1695879724237642.0,\n    1695879724257642.0,\n    1695879724277642.0,\n    1695879724297642.0],\n   'velocity': [28.0, 29.0, 30.0, 31.0]},\n  'reward': {'timestep': [1695879719337642.0], 'work': [27.0]},\n  'state': {'brake': [8.0, 9.0, 10.0, 11.0],\n   'thrust': [4.0, 5.0, 6.0, 7.0],\n   'timestep': [1695879719237642.0,\n    1695879719257642.0,\n    1695879719277642.0,\n    1695879719297642.0],\n   'velocity': [0.0, 1.0, 2.0, 3.0]}},\n {'timestamp': 1695890519237642.0,\n  'action': {'r0': [12.0, 13.0, 14.0, 15.0, 16.0],\n   'r1': [17.0, 18.0, 19.0, 20.0, 21.0],\n   'r2': [22.0, 23.0, 24.0, 25.0, 26.0],\n   'speed': [40.0, 50.0, 60.0],\n   'throttle': [0.0, 0.25, 0.5, 0.75, 1.0],\n   'timestep': [1695879719337642.0, 1695879719357642.0, 1695879719377642.0]},\n  'nstate': {'brake': [36.0, 37.0, 38.0, 39.0],\n   'thrust': [32.0, 33.0, 34.0, 35.0],\n   'timestep': [1695879724237642.0,\n    1695879724257642.0,\n    1695879724277642.0,\n    1695879724297642.0],\n   'velocity': [28.0, 29.0, 30.0, 31.0]},\n  'reward': {'timestep': [1695879719337642.0], 'work': [27.0]},\n  'state': {'brake': [8.0, 9.0, 10.0, 11.0],\n   'thrust': [4.0, 5.0, 6.0, 7.0],\n   'timestep': [1695879719237642.0,\n    1695879719257642.0,\n    1695879719277642.0,\n    1695879719297642.0],\n   'velocity': [0.0, 1.0, 2.0, 3.0]}},\n {'timestamp': 1695894119237642.0,\n  'action': {'r0': [12.0, 13.0, 14.0, 15.0, 16.0],\n   'r1': [17.0, 18.0, 19.0, 20.0, 21.0],\n   'r2': [22.0, 23.0, 24.0, 25.0, 26.0],\n   'speed': [40.0, 50.0, 60.0],\n   'throttle': [0.0, 0.25, 0.5, 0.75, 1.0],\n   'timestep': [1695879719337642.0, 1695879719357642.0, 1695879719377642.0]},\n  'nstate': {'brake': [36.0, 37.0, 38.0, 39.0],\n   'thrust': [32.0, 33.0, 34.0, 35.0],\n   'timestep': [1695879724237642.0,\n    1695879724257642.0,\n    1695879724277642.0,\n    1695879724297642.0],\n   'velocity': [28.0, 29.0, 30.0, 31.0]},\n  'reward': {'timestep': [1695879719337642.0], 'work': [27.0]},\n  'state': {'brake': [8.0, 9.0, 10.0, 11.0],\n   'thrust': [4.0, 5.0, 6.0, 7.0],\n   'timestep': [1695879719237642.0,\n    1695879719257642.0,\n    1695879719277642.0,\n    1695879719297642.0],\n   'velocity': [0.0, 1.0, 2.0, 3.0]}},\n {'timestamp': 1695897719237642.0,\n  'action': {'r0': [12.0, 13.0, 14.0, 15.0, 16.0],\n   'r1': [17.0, 18.0, 19.0, 20.0, 21.0],\n   'r2': [22.0, 23.0, 24.0, 25.0, 26.0],\n   'speed': [40.0, 50.0, 60.0],\n   'throttle': [0.0, 0.25, 0.5, 0.75, 1.0],\n   'timestep': [1695879719337642.0, 1695879719357642.0, 1695879719377642.0]},\n  'nstate': {'brake': [36.0, 37.0, 38.0, 39.0],\n   'thrust': [32.0, 33.0, 34.0, 35.0],\n   'timestep': [1695879724237642.0,\n    1695879724257642.0,\n    1695879724277642.0,\n    1695879724297642.0],\n   'velocity': [28.0, 29.0, 30.0, 31.0]},\n  'reward': {'timestep': [1695879719337642.0], 'work': [27.0]},\n  'state': {'brake': [8.0, 9.0, 10.0, 11.0],\n   'thrust': [4.0, 5.0, 6.0, 7.0],\n   'timestep': [1695879719237642.0,\n    1695879719257642.0,\n    1695879719277642.0,\n    1695879719297642.0],\n   'velocity': [0.0, 1.0, 2.0, 3.0]}}]"
     },
     "execution_count": 8,
     "metadata": {},
     "output_type": "execute_result"
    }
   ],
   "source": [
    "from eos.data_io.struct import (\n",
    "    ObservationMeta,\n",
    "    StateSpecs,\n",
    "    StateUnitCodes,\n",
    "    ActionSpecs,\n",
    "    RewardSpecs,\n",
    ")\n",
    "from eos.data_io.utils.eos_pandas import ep_nest, df_to_ep_nested_dict, avro_ep_encoding\n",
    "from eos.data_io.config import trucks_by_id\n",
    "\n",
    "# from pydantic import schema_json_of, schema_of\n",
    "\n",
    "observation_meta = ObservationMeta(\n",
    "    state_specs=StateSpecs(\n",
    "        state_unit_codes=StateUnitCodes(),\n",
    "        state_number=3,\n",
    "        unit_number_per_state=trucks_by_id[\"VB7\"].tbox_unit_number,  # 4\n",
    "        unit_duration=trucks_by_id[\"VB7\"].tbox_unit_duration,  # 1s\n",
    "        frequency=trucks_by_id[\"VB7\"].tbox_signal_frequency,  # 50 hz\n",
    "    ),\n",
    "    action_specs=ActionSpecs(\n",
    "        action_unit_code=\"nm\",\n",
    "        action_row_number=trucks_by_id[\"VB7\"].torque_table_row_num_flash,\n",
    "        action_column_number=len(trucks_by_id[\"VB7\"].pedal_scale),\n",
    "    ),\n",
    "    reward_specs=RewardSpecs(reward_unit_code=\"wh\", reward_number=1),\n",
    "    site=trucks_by_id[\"VB7\"].site,\n",
    ")\n",
    "\n",
    "\n",
    "dict_nested = avro_ep_encoding(dfs_episode)\n",
    "dict_nested"
   ]
  },
  {
   "cell_type": "code",
   "execution_count": 9,
   "outputs": [
    {
     "data": {
      "text/plain": "{'episodestart': 1695879719237642.0,\n 'meta': {'episode_meta': {'vehicle': 'VB7',\n   'driver': 'wang-cheng',\n   'episodestart': 1695879719237642.0},\n  'observation_meta': {'state_specs': {'state_unit_codes': {'velocity_unit_code': 'kph',\n     'thrust_unit_code': 'pct',\n     'brake_unit_code': 'pct'},\n    'state_number': 3,\n    'unit_number_per_state': 4,\n    'unit_duration': 1.0,\n    'frequency': 50},\n   'action_specs': {'action_unit_code': 'nm',\n    'action_row_number': 4,\n    'action_column_number': 17},\n   'reward_specs': {'reward_unit_code': 'wh', 'reward_number': 1},\n   'site': 'anting'}},\n 'sequence': [{'timestamp': 1695883319237642.0,\n   'action': {'r0': [12.0, 13.0, 14.0, 15.0, 16.0],\n    'r1': [17.0, 18.0, 19.0, 20.0, 21.0],\n    'r2': [22.0, 23.0, 24.0, 25.0, 26.0],\n    'speed': [40.0, 50.0, 60.0],\n    'throttle': [0.0, 0.25, 0.5, 0.75, 1.0],\n    'timestep': [1695879719337642.0, 1695879719357642.0, 1695879719377642.0]},\n   'nstate': {'brake': [36.0, 37.0, 38.0, 39.0],\n    'thrust': [32.0, 33.0, 34.0, 35.0],\n    'timestep': [1695879724237642.0,\n     1695879724257642.0,\n     1695879724277642.0,\n     1695879724297642.0],\n    'velocity': [28.0, 29.0, 30.0, 31.0]},\n   'reward': {'timestep': [1695879719337642.0], 'work': [27.0]},\n   'state': {'brake': [8.0, 9.0, 10.0, 11.0],\n    'thrust': [4.0, 5.0, 6.0, 7.0],\n    'timestep': [1695879719237642.0,\n     1695879719257642.0,\n     1695879719277642.0,\n     1695879719297642.0],\n    'velocity': [0.0, 1.0, 2.0, 3.0]}},\n  {'timestamp': 1695886919237642.0,\n   'action': {'r0': [12.0, 13.0, 14.0, 15.0, 16.0],\n    'r1': [17.0, 18.0, 19.0, 20.0, 21.0],\n    'r2': [22.0, 23.0, 24.0, 25.0, 26.0],\n    'speed': [40.0, 50.0, 60.0],\n    'throttle': [0.0, 0.25, 0.5, 0.75, 1.0],\n    'timestep': [1695879719337642.0, 1695879719357642.0, 1695879719377642.0]},\n   'nstate': {'brake': [36.0, 37.0, 38.0, 39.0],\n    'thrust': [32.0, 33.0, 34.0, 35.0],\n    'timestep': [1695879724237642.0,\n     1695879724257642.0,\n     1695879724277642.0,\n     1695879724297642.0],\n    'velocity': [28.0, 29.0, 30.0, 31.0]},\n   'reward': {'timestep': [1695879719337642.0], 'work': [27.0]},\n   'state': {'brake': [8.0, 9.0, 10.0, 11.0],\n    'thrust': [4.0, 5.0, 6.0, 7.0],\n    'timestep': [1695879719237642.0,\n     1695879719257642.0,\n     1695879719277642.0,\n     1695879719297642.0],\n    'velocity': [0.0, 1.0, 2.0, 3.0]}},\n  {'timestamp': 1695890519237642.0,\n   'action': {'r0': [12.0, 13.0, 14.0, 15.0, 16.0],\n    'r1': [17.0, 18.0, 19.0, 20.0, 21.0],\n    'r2': [22.0, 23.0, 24.0, 25.0, 26.0],\n    'speed': [40.0, 50.0, 60.0],\n    'throttle': [0.0, 0.25, 0.5, 0.75, 1.0],\n    'timestep': [1695879719337642.0, 1695879719357642.0, 1695879719377642.0]},\n   'nstate': {'brake': [36.0, 37.0, 38.0, 39.0],\n    'thrust': [32.0, 33.0, 34.0, 35.0],\n    'timestep': [1695879724237642.0,\n     1695879724257642.0,\n     1695879724277642.0,\n     1695879724297642.0],\n    'velocity': [28.0, 29.0, 30.0, 31.0]},\n   'reward': {'timestep': [1695879719337642.0], 'work': [27.0]},\n   'state': {'brake': [8.0, 9.0, 10.0, 11.0],\n    'thrust': [4.0, 5.0, 6.0, 7.0],\n    'timestep': [1695879719237642.0,\n     1695879719257642.0,\n     1695879719277642.0,\n     1695879719297642.0],\n    'velocity': [0.0, 1.0, 2.0, 3.0]}},\n  {'timestamp': 1695894119237642.0,\n   'action': {'r0': [12.0, 13.0, 14.0, 15.0, 16.0],\n    'r1': [17.0, 18.0, 19.0, 20.0, 21.0],\n    'r2': [22.0, 23.0, 24.0, 25.0, 26.0],\n    'speed': [40.0, 50.0, 60.0],\n    'throttle': [0.0, 0.25, 0.5, 0.75, 1.0],\n    'timestep': [1695879719337642.0, 1695879719357642.0, 1695879719377642.0]},\n   'nstate': {'brake': [36.0, 37.0, 38.0, 39.0],\n    'thrust': [32.0, 33.0, 34.0, 35.0],\n    'timestep': [1695879724237642.0,\n     1695879724257642.0,\n     1695879724277642.0,\n     1695879724297642.0],\n    'velocity': [28.0, 29.0, 30.0, 31.0]},\n   'reward': {'timestep': [1695879719337642.0], 'work': [27.0]},\n   'state': {'brake': [8.0, 9.0, 10.0, 11.0],\n    'thrust': [4.0, 5.0, 6.0, 7.0],\n    'timestep': [1695879719237642.0,\n     1695879719257642.0,\n     1695879719277642.0,\n     1695879719297642.0],\n    'velocity': [0.0, 1.0, 2.0, 3.0]}},\n  {'timestamp': 1695897719237642.0,\n   'action': {'r0': [12.0, 13.0, 14.0, 15.0, 16.0],\n    'r1': [17.0, 18.0, 19.0, 20.0, 21.0],\n    'r2': [22.0, 23.0, 24.0, 25.0, 26.0],\n    'speed': [40.0, 50.0, 60.0],\n    'throttle': [0.0, 0.25, 0.5, 0.75, 1.0],\n    'timestep': [1695879719337642.0, 1695879719357642.0, 1695879719377642.0]},\n   'nstate': {'brake': [36.0, 37.0, 38.0, 39.0],\n    'thrust': [32.0, 33.0, 34.0, 35.0],\n    'timestep': [1695879724237642.0,\n     1695879724257642.0,\n     1695879724277642.0,\n     1695879724297642.0],\n    'velocity': [28.0, 29.0, 30.0, 31.0]},\n   'reward': {'timestep': [1695879719337642.0], 'work': [27.0]},\n   'state': {'brake': [8.0, 9.0, 10.0, 11.0],\n    'thrust': [4.0, 5.0, 6.0, 7.0],\n    'timestep': [1695879719237642.0,\n     1695879719257642.0,\n     1695879719277642.0,\n     1695879719297642.0],\n    'velocity': [0.0, 1.0, 2.0, 3.0]}}]}"
     },
     "execution_count": 9,
     "metadata": {},
     "output_type": "execute_result"
    }
   ],
   "source": [
    "dict_ep = {\n",
    "    \"episodestart\": episode_meta[\"episodestart\"],\n",
    "    \"meta\": {\n",
    "        \"episode_meta\": episode_meta,\n",
    "        \"observation_meta\": observation_meta.model_dump(),\n",
    "    },\n",
    "    \"sequence\": dict_nested,\n",
    "}\n",
    "dict_ep"
   ],
   "metadata": {
    "collapsed": false,
    "ExecuteTime": {
     "end_time": "2023-09-28T05:41:59.711999039Z",
     "start_time": "2023-09-28T05:41:59.406548303Z"
    }
   },
   "id": "95af806b55d9b963"
  },
  {
   "cell_type": "code",
   "execution_count": 10,
   "outputs": [
    {
     "data": {
      "text/plain": "[{'timestamp': 1695883319237642.0,\n  'action': {'r0': [12.0, 13.0, 14.0, 15.0, 16.0],\n   'r1': [17.0, 18.0, 19.0, 20.0, 21.0],\n   'r2': [22.0, 23.0, 24.0, 25.0, 26.0],\n   'speed': [40.0, 50.0, 60.0],\n   'throttle': [0.0, 0.25, 0.5, 0.75, 1.0],\n   'timestep': [1695879719337642.0, 1695879719357642.0, 1695879719377642.0]},\n  'nstate': {'brake': [36.0, 37.0, 38.0, 39.0],\n   'thrust': [32.0, 33.0, 34.0, 35.0],\n   'timestep': [1695879724237642.0,\n    1695879724257642.0,\n    1695879724277642.0,\n    1695879724297642.0],\n   'velocity': [28.0, 29.0, 30.0, 31.0]},\n  'reward': {'timestep': [1695879719337642.0], 'work': [27.0]},\n  'state': {'brake': [8.0, 9.0, 10.0, 11.0],\n   'thrust': [4.0, 5.0, 6.0, 7.0],\n   'timestep': [1695879719237642.0,\n    1695879719257642.0,\n    1695879719277642.0,\n    1695879719297642.0],\n   'velocity': [0.0, 1.0, 2.0, 3.0]}},\n {'timestamp': 1695886919237642.0,\n  'action': {'r0': [12.0, 13.0, 14.0, 15.0, 16.0],\n   'r1': [17.0, 18.0, 19.0, 20.0, 21.0],\n   'r2': [22.0, 23.0, 24.0, 25.0, 26.0],\n   'speed': [40.0, 50.0, 60.0],\n   'throttle': [0.0, 0.25, 0.5, 0.75, 1.0],\n   'timestep': [1695879719337642.0, 1695879719357642.0, 1695879719377642.0]},\n  'nstate': {'brake': [36.0, 37.0, 38.0, 39.0],\n   'thrust': [32.0, 33.0, 34.0, 35.0],\n   'timestep': [1695879724237642.0,\n    1695879724257642.0,\n    1695879724277642.0,\n    1695879724297642.0],\n   'velocity': [28.0, 29.0, 30.0, 31.0]},\n  'reward': {'timestep': [1695879719337642.0], 'work': [27.0]},\n  'state': {'brake': [8.0, 9.0, 10.0, 11.0],\n   'thrust': [4.0, 5.0, 6.0, 7.0],\n   'timestep': [1695879719237642.0,\n    1695879719257642.0,\n    1695879719277642.0,\n    1695879719297642.0],\n   'velocity': [0.0, 1.0, 2.0, 3.0]}},\n {'timestamp': 1695890519237642.0,\n  'action': {'r0': [12.0, 13.0, 14.0, 15.0, 16.0],\n   'r1': [17.0, 18.0, 19.0, 20.0, 21.0],\n   'r2': [22.0, 23.0, 24.0, 25.0, 26.0],\n   'speed': [40.0, 50.0, 60.0],\n   'throttle': [0.0, 0.25, 0.5, 0.75, 1.0],\n   'timestep': [1695879719337642.0, 1695879719357642.0, 1695879719377642.0]},\n  'nstate': {'brake': [36.0, 37.0, 38.0, 39.0],\n   'thrust': [32.0, 33.0, 34.0, 35.0],\n   'timestep': [1695879724237642.0,\n    1695879724257642.0,\n    1695879724277642.0,\n    1695879724297642.0],\n   'velocity': [28.0, 29.0, 30.0, 31.0]},\n  'reward': {'timestep': [1695879719337642.0], 'work': [27.0]},\n  'state': {'brake': [8.0, 9.0, 10.0, 11.0],\n   'thrust': [4.0, 5.0, 6.0, 7.0],\n   'timestep': [1695879719237642.0,\n    1695879719257642.0,\n    1695879719277642.0,\n    1695879719297642.0],\n   'velocity': [0.0, 1.0, 2.0, 3.0]}},\n {'timestamp': 1695894119237642.0,\n  'action': {'r0': [12.0, 13.0, 14.0, 15.0, 16.0],\n   'r1': [17.0, 18.0, 19.0, 20.0, 21.0],\n   'r2': [22.0, 23.0, 24.0, 25.0, 26.0],\n   'speed': [40.0, 50.0, 60.0],\n   'throttle': [0.0, 0.25, 0.5, 0.75, 1.0],\n   'timestep': [1695879719337642.0, 1695879719357642.0, 1695879719377642.0]},\n  'nstate': {'brake': [36.0, 37.0, 38.0, 39.0],\n   'thrust': [32.0, 33.0, 34.0, 35.0],\n   'timestep': [1695879724237642.0,\n    1695879724257642.0,\n    1695879724277642.0,\n    1695879724297642.0],\n   'velocity': [28.0, 29.0, 30.0, 31.0]},\n  'reward': {'timestep': [1695879719337642.0], 'work': [27.0]},\n  'state': {'brake': [8.0, 9.0, 10.0, 11.0],\n   'thrust': [4.0, 5.0, 6.0, 7.0],\n   'timestep': [1695879719237642.0,\n    1695879719257642.0,\n    1695879719277642.0,\n    1695879719297642.0],\n   'velocity': [0.0, 1.0, 2.0, 3.0]}},\n {'timestamp': 1695897719237642.0,\n  'action': {'r0': [12.0, 13.0, 14.0, 15.0, 16.0],\n   'r1': [17.0, 18.0, 19.0, 20.0, 21.0],\n   'r2': [22.0, 23.0, 24.0, 25.0, 26.0],\n   'speed': [40.0, 50.0, 60.0],\n   'throttle': [0.0, 0.25, 0.5, 0.75, 1.0],\n   'timestep': [1695879719337642.0, 1695879719357642.0, 1695879719377642.0]},\n  'nstate': {'brake': [36.0, 37.0, 38.0, 39.0],\n   'thrust': [32.0, 33.0, 34.0, 35.0],\n   'timestep': [1695879724237642.0,\n    1695879724257642.0,\n    1695879724277642.0,\n    1695879724297642.0],\n   'velocity': [28.0, 29.0, 30.0, 31.0]},\n  'reward': {'timestep': [1695879719337642.0], 'work': [27.0]},\n  'state': {'brake': [8.0, 9.0, 10.0, 11.0],\n   'thrust': [4.0, 5.0, 6.0, 7.0],\n   'timestep': [1695879719237642.0,\n    1695879719257642.0,\n    1695879719277642.0,\n    1695879719297642.0],\n   'velocity': [0.0, 1.0, 2.0, 3.0]}}]"
     },
     "execution_count": 10,
     "metadata": {},
     "output_type": "execute_result"
    }
   ],
   "source": [
    "episodes_dict_nested = [avro_ep_encoding(ep) for ep in episodes]\n",
    "episodes_dict_nested[0]"
   ],
   "metadata": {
    "collapsed": false,
    "ExecuteTime": {
     "end_time": "2023-09-28T05:41:59.712262390Z",
     "start_time": "2023-09-28T05:41:59.406659295Z"
    }
   },
   "id": "d2abdda2260db324"
  },
  {
   "cell_type": "code",
   "execution_count": 11,
   "outputs": [
    {
     "data": {
      "text/plain": "[{'ts': 1695883319237642.0,\n  'state': {'brake': [8.0, 9.0, 10.0, 11.0],\n   'thrust': [4.0, 5.0, 6.0, 7.0],\n   'timestep': [1695879719237642.0,\n    1695879719257642.0,\n    1695879719277642.0,\n    1695879719297642.0],\n   'velocity': [0.0, 1.0, 2.0, 3.0]}},\n {'ts': 1695886919237642.0,\n  'state': {'brake': [8.0, 9.0, 10.0, 11.0],\n   'thrust': [4.0, 5.0, 6.0, 7.0],\n   'timestep': [1695879719237642.0,\n    1695879719257642.0,\n    1695879719277642.0,\n    1695879719297642.0],\n   'velocity': [0.0, 1.0, 2.0, 3.0]}},\n {'ts': 1695890519237642.0,\n  'state': {'brake': [8.0, 9.0, 10.0, 11.0],\n   'thrust': [4.0, 5.0, 6.0, 7.0],\n   'timestep': [1695879719237642.0,\n    1695879719257642.0,\n    1695879719277642.0,\n    1695879719297642.0],\n   'velocity': [0.0, 1.0, 2.0, 3.0]}},\n {'ts': 1695894119237642.0,\n  'state': {'brake': [8.0, 9.0, 10.0, 11.0],\n   'thrust': [4.0, 5.0, 6.0, 7.0],\n   'timestep': [1695879719237642.0,\n    1695879719257642.0,\n    1695879719277642.0,\n    1695879719297642.0],\n   'velocity': [0.0, 1.0, 2.0, 3.0]}},\n {'ts': 1695897719237642.0,\n  'state': {'brake': [8.0, 9.0, 10.0, 11.0],\n   'thrust': [4.0, 5.0, 6.0, 7.0],\n   'timestep': [1695879719237642.0,\n    1695879719257642.0,\n    1695879719277642.0,\n    1695879719297642.0],\n   'velocity': [0.0, 1.0, 2.0, 3.0]}}]"
     },
     "execution_count": 11,
     "metadata": {},
     "output_type": "execute_result"
    }
   ],
   "source": [
    "dict_nested_states = [[step[\"state\"] for step in ep] for ep in episodes_dict_nested]\n",
    "dict_nested_nstates = [[step[\"nstate\"] for step in ep] for ep in episodes_dict_nested]\n",
    "dict_nested_rewards = [[step[\"reward\"] for step in ep] for ep in episodes_dict_nested]\n",
    "dict_nested_actions = [[step[\"action\"] for step in ep] for ep in episodes_dict_nested]\n",
    "dict_nested_timestamps = [\n",
    "    [step[\"timestamp\"] for step in ep] for ep in episodes_dict_nested\n",
    "]\n",
    "\n",
    "arr_states = [\n",
    "    [{\"ts\": ts, \"state\": state_arr[i]} for i, ts in enumerate(ts_arr)]\n",
    "    for (ts_arr, state_arr) in zip(dict_nested_timestamps, dict_nested_states)\n",
    "]\n",
    "arr_states[0]\n",
    "# dict_nested_timestamps[0]"
   ],
   "metadata": {
    "collapsed": false,
    "ExecuteTime": {
     "end_time": "2023-09-28T05:41:59.712407616Z",
     "start_time": "2023-09-28T05:41:59.447813973Z"
    }
   },
   "id": "1fc40e701f9e9ddc"
  },
  {
   "cell_type": "code",
   "execution_count": 12,
   "id": "d962acd4",
   "metadata": {
    "ExecuteTime": {
     "end_time": "2023-09-28T05:41:59.712550277Z",
     "start_time": "2023-09-28T05:41:59.447936046Z"
    }
   },
   "outputs": [
    {
     "name": "stdout",
     "output_type": "stream",
     "text": [
      "{\n",
      "  \"type\": \"record\",\n",
      "  \"name\": \"episode\",\n",
      "  \"doc\": \"episode data with a timestamp, meta description and an array of episode steps\",\n",
      "  \"fields\": [\n",
      "    {\n",
      "      \"type\": \"long\",\n",
      "      \"name\": \"episodestart\",\n",
      "      \"logicalType\": \"timestamp-micros\"\n",
      "    },\n",
      "    {\n",
      "      \"name\": \"meta\",\n",
      "      \"type\": {\n",
      "        \"type\": \"record\",\n",
      "        \"name\": \"meta_\",\n",
      "        \"fields\": [\n",
      "          {\n",
      "            \"name\": \"episode_meta\",\n",
      "            \"type\": {\n",
      "              \"type\": \"record\",\n",
      "              \"name\": \"episode_meta_\",\n",
      "              \"fields\": [\n",
      "                {\n",
      "                  \"name\": \"vehicle\",\n",
      "                  \"type\": \"string\"\n",
      "                },\n",
      "                {\n",
      "                  \"name\": \"driver\",\n",
      "                  \"type\": \"string\"\n",
      "                },\n",
      "                {\n",
      "                  \"name\": \"episodestart\",\n",
      "                  \"type\": \"long\",\n",
      "                  \"logicalType\": \"timestamp-micros\"\n",
      "                }\n",
      "              ]\n",
      "            }\n",
      "          },\n",
      "          {\n",
      "            \"name\": \"observation_meta\",\n",
      "            \"type\": {\n",
      "              \"type\": \"record\",\n",
      "              \"name\": \"observation_meta_\",\n",
      "              \"fields\": [\n",
      "                {\n",
      "                  \"name\": \"state_specs\",\n",
      "                  \"type\": {\n",
      "                    \"type\": \"record\",\n",
      "                    \"name\": \"state_specs_\",\n",
      "                    \"fields\": [\n",
      "                      {\n",
      "                        \"name\": \"state_unit_codes\",\n",
      "                        \"type\": {\n",
      "                          \"type\": \"record\",\n",
      "                          \"name\": \"state_unit_codes_\",\n",
      "                          \"fields\": [\n",
      "                            {\n",
      "                              \"name\": \"velocity_unit_code\",\n",
      "                              \"type\": \"string\"\n",
      "                            },\n",
      "                            {\n",
      "                              \"name\": \"thrust_unit_code\",\n",
      "                              \"type\": \"string\"\n",
      "                            },\n",
      "                            {\n",
      "                              \"name\": \"brake_unit_code\",\n",
      "                              \"type\": \"string\"\n",
      "                            }\n",
      "                          ]\n",
      "                        }\n",
      "                      },\n",
      "                      {\n",
      "                        \"name\": \"state_number\",\n",
      "                        \"type\": \"int\"\n",
      "                      },\n",
      "                      {\n",
      "                        \"name\": \"unit_number_per_state\",\n",
      "                        \"type\": \"int\"\n",
      "                      },\n",
      "                      {\n",
      "                        \"name\": \"unit_duration\",\n",
      "                        \"type\": \"int\"\n",
      "                      },\n",
      "                      {\n",
      "                        \"name\": \"frequency\",\n",
      "                        \"type\": \"int\"\n",
      "                      }\n",
      "                    ]\n",
      "                  }\n",
      "                },\n",
      "                {\n",
      "                  \"name\": \"action_specs\",\n",
      "                  \"type\": {\n",
      "                    \"type\": \"record\",\n",
      "                    \"name\": \"action_specs_\",\n",
      "                    \"fields\": [\n",
      "                      {\n",
      "                        \"name\": \"action_unit_code\",\n",
      "                        \"type\": \"string\"\n",
      "                      },\n",
      "                      {\n",
      "                        \"name\": \"action_row_number\",\n",
      "                        \"type\": \"int\"\n",
      "                      },\n",
      "                      {\n",
      "                        \"name\": \"action_column_number\",\n",
      "                        \"type\": \"int\"\n",
      "                      }\n",
      "                    ]\n",
      "                  }\n",
      "                },\n",
      "                {\n",
      "                  \"name\": \"reward_specs\",\n",
      "                  \"type\": {\n",
      "                    \"type\": \"record\",\n",
      "                    \"name\": \"reward_specs_\",\n",
      "                    \"fields\": [\n",
      "                      {\n",
      "                        \"name\": \"reward_unit_code\",\n",
      "                        \"type\": \"string\"\n",
      "                      }\n",
      "                    ]\n",
      "                  }\n",
      "                },\n",
      "                {\n",
      "                  \"name\": \"site\",\n",
      "                  \"type\": \"string\"\n",
      "                }\n",
      "              ]\n",
      "            }\n",
      "          }\n",
      "        ]\n",
      "      }\n",
      "    },\n",
      "    {\n",
      "      \"name\": \"sequence\",\n",
      "      \"type\": {\n",
      "        \"type\": \"array\",\n",
      "        \"items\": {\n",
      "          \"name\": \"step\",\n",
      "          \"type\": \"record\",\n",
      "          \"fields\": [\n",
      "            {\n",
      "              \"type\": \"long\",\n",
      "              \"name\": \"timestamp\",\n",
      "              \"logicalType\": \"timestamp-micros\"\n",
      "            },\n",
      "            {\n",
      "              \"name\": \"state\",\n",
      "              \"type\": {\n",
      "                \"type\": \"record\",\n",
      "                \"name\": \"state_\",\n",
      "                \"fields\": [\n",
      "                  {\n",
      "                    \"name\": \"velocity\",\n",
      "                    \"type\": {\n",
      "                      \"type\": \"array\",\n",
      "                      \"items\": \"float\"\n",
      "                    }\n",
      "                  },\n",
      "                  {\n",
      "                    \"name\": \"thrust\",\n",
      "                    \"type\": {\n",
      "                      \"type\": \"array\",\n",
      "                      \"items\": \"float\"\n",
      "                    }\n",
      "                  },\n",
      "                  {\n",
      "                    \"name\": \"brake\",\n",
      "                    \"type\": {\n",
      "                      \"type\": \"array\",\n",
      "                      \"items\": \"float\"\n",
      "                    }\n",
      "                  },\n",
      "                  {\n",
      "                    \"name\": \"timestep\",\n",
      "                    \"type\": {\n",
      "                      \"type\": \"array\",\n",
      "                      \"items\": {\n",
      "                        \"type\": \"long\",\n",
      "                        \"logicalType\": \"timestamp-micros\"\n",
      "                      }\n",
      "                    }\n",
      "                  }\n",
      "                ]\n",
      "              }\n",
      "            },\n",
      "            {\n",
      "              \"name\": \"action\",\n",
      "              \"type\": {\n",
      "                \"type\": \"record\",\n",
      "                \"name\": \"action_\",\n",
      "                \"fields\": [\n",
      "                  {\n",
      "                    \"name\": \"r0\",\n",
      "                    \"type\": {\n",
      "                      \"type\": \"array\",\n",
      "                      \"items\": \"float\"\n",
      "                    }\n",
      "                  },\n",
      "                  {\n",
      "                    \"name\": \"r1\",\n",
      "                    \"type\": {\n",
      "                      \"type\": \"array\",\n",
      "                      \"items\": \"float\"\n",
      "                    }\n",
      "                  },\n",
      "                  {\n",
      "                    \"name\": \"r2\",\n",
      "                    \"type\": {\n",
      "                      \"type\": \"array\",\n",
      "                      \"items\": \"float\"\n",
      "                    }\n",
      "                  },\n",
      "                  {\n",
      "                    \"name\": \"speed\",\n",
      "                    \"type\": {\n",
      "                      \"type\": \"array\",\n",
      "                      \"items\": \"float\"\n",
      "                    }\n",
      "                  },\n",
      "                  {\n",
      "                    \"name\": \"throttle\",\n",
      "                    \"type\": {\n",
      "                      \"type\": \"array\",\n",
      "                      \"items\": \"float\"\n",
      "                    }\n",
      "                  },\n",
      "                  {\n",
      "                    \"name\": \"timestep\",\n",
      "                    \"type\": {\n",
      "                      \"type\": \"array\",\n",
      "                      \"items\": {\n",
      "                        \"type\": \"long\",\n",
      "                        \"logicalType\": \"timestamp-micros\"\n",
      "                      }\n",
      "                    }\n",
      "                  }\n",
      "                ]\n",
      "              }\n",
      "            },\n",
      "            {\n",
      "              \"name\": \"reward\",\n",
      "              \"type\": {\n",
      "                \"type\": \"record\",\n",
      "                \"name\": \"reward_\",\n",
      "                \"fields\": [\n",
      "                  {\n",
      "                    \"name\": \"work\",\n",
      "                    \"type\": {\n",
      "                      \"type\": \"array\",\n",
      "                      \"items\": \"float\"\n",
      "                    }\n",
      "                  },\n",
      "                  {\n",
      "                    \"name\": \"timestep\",\n",
      "                    \"type\": {\n",
      "                      \"type\": \"array\",\n",
      "                      \"items\": {\n",
      "                        \"type\": \"long\",\n",
      "                        \"logicalType\": \"timestamp-micros\"\n",
      "                      }\n",
      "                    }\n",
      "                  }\n",
      "                ]\n",
      "              }\n",
      "            },\n",
      "            {\n",
      "              \"name\": \"nstate\",\n",
      "              \"type\": {\n",
      "                \"type\": \"record\",\n",
      "                \"name\": \"nstate_\",\n",
      "                \"fields\": [\n",
      "                  {\n",
      "                    \"name\": \"velocity\",\n",
      "                    \"type\": {\n",
      "                      \"type\": \"array\",\n",
      "                      \"items\": \"float\"\n",
      "                    }\n",
      "                  },\n",
      "                  {\n",
      "                    \"name\": \"thrust\",\n",
      "                    \"type\": {\n",
      "                      \"type\": \"array\",\n",
      "                      \"items\": \"float\"\n",
      "                    }\n",
      "                  },\n",
      "                  {\n",
      "                    \"name\": \"brake\",\n",
      "                    \"type\": {\n",
      "                      \"type\": \"array\",\n",
      "                      \"items\": \"float\"\n",
      "                    }\n",
      "                  },\n",
      "                  {\n",
      "                    \"name\": \"timestep\",\n",
      "                    \"type\": {\n",
      "                      \"type\": \"array\",\n",
      "                      \"items\": {\n",
      "                        \"type\": \"long\",\n",
      "                        \"logicalType\": \"timestamp-micros\"\n",
      "                      }\n",
      "                    }\n",
      "                  }\n",
      "                ]\n",
      "              }\n",
      "            }\n",
      "          ]\n",
      "        }\n",
      "      }\n",
      "    }\n",
      "  ]\n",
      "}\n"
     ]
    }
   ],
   "source": [
    "import fastavro\n",
    "import json\n",
    "\n",
    "state_unit_fields_schema = [\n",
    "    {\"name\": \"velocity_unit_code\", \"type\": \"string\"},\n",
    "    {\"name\": \"thrust_unit_code\", \"type\": \"string\"},\n",
    "    {\"name\": \"brake_unit_code\", \"type\": \"string\"},\n",
    "]\n",
    "state_specs_fields_schema = [\n",
    "    {\n",
    "        \"name\": \"state_unit_codes\",\n",
    "        \"type\": {\n",
    "            \"type\": \"record\",\n",
    "            \"name\": \"state_unit_codes_\",\n",
    "            \"fields\": state_unit_fields_schema,\n",
    "        },\n",
    "    },\n",
    "    {\"name\": \"state_number\", \"type\": \"int\"},\n",
    "    {\"name\": \"unit_number_per_state\", \"type\": \"int\"},\n",
    "    {\"name\": \"unit_duration\", \"type\": \"int\"},\n",
    "    {\"name\": \"frequency\", \"type\": \"int\"},\n",
    "]\n",
    "action_specs_fields_schema = [\n",
    "    {\"name\": \"action_unit_code\", \"type\": \"string\"},\n",
    "    {\"name\": \"action_row_number\", \"type\": \"int\"},\n",
    "    {\"name\": \"action_column_number\", \"type\": \"int\"},\n",
    "]\n",
    "reward_specs_fields_schema = [{\"name\": \"reward_unit_code\", \"type\": \"string\"}]\n",
    "\n",
    "episode_meta_fields_schema = [\n",
    "    {\"name\": \"vehicle\", \"type\": \"string\"},\n",
    "    {\"name\": \"driver\", \"type\": \"string\"},\n",
    "    {\"name\": \"episodestart\", \"type\": \"long\", \"logicalType\": \"timestamp-micros\"},\n",
    "]\n",
    "observation_meta_fields_schema = [\n",
    "    {\n",
    "        \"name\": \"state_specs\",\n",
    "        \"type\": {\n",
    "            \"type\": \"record\",\n",
    "            \"name\": \"state_specs_\",\n",
    "            \"fields\": state_specs_fields_schema,\n",
    "        },\n",
    "    },\n",
    "    {\n",
    "        \"name\": \"action_specs\",\n",
    "        \"type\": {\n",
    "            \"type\": \"record\",\n",
    "            \"name\": \"action_specs_\",\n",
    "            \"fields\": action_specs_fields_schema,\n",
    "        },\n",
    "    },\n",
    "    {\n",
    "        \"name\": \"reward_specs\",\n",
    "        \"type\": {\n",
    "            \"type\": \"record\",\n",
    "            \"name\": \"reward_specs_\",\n",
    "            \"fields\": reward_specs_fields_schema,\n",
    "        },\n",
    "    },\n",
    "    {\"name\": \"site\", \"type\": \"string\"},\n",
    "]\n",
    "\n",
    "state_fields_schema = [\n",
    "    {\"name\": \"velocity\", \"type\": {\"type\": \"array\", \"items\": \"float\"}},\n",
    "    {\"name\": \"thrust\", \"type\": {\"type\": \"array\", \"items\": \"float\"}},\n",
    "    {\"name\": \"brake\", \"type\": {\"type\": \"array\", \"items\": \"float\"}},\n",
    "    {\n",
    "        \"name\": \"timestep\",\n",
    "        \"type\": {\n",
    "            \"type\": \"array\",\n",
    "            \"items\": {\"type\": \"long\", \"logicalType\": \"timestamp-micros\"},\n",
    "        },\n",
    "    },\n",
    "]\n",
    "\n",
    "torque_table_row_names = [\"r0\", \"r1\", \"r2\"]\n",
    "action_fields_schema = [\n",
    "    {\"name\": r, \"type\": {\"type\": \"array\", \"items\": \"float\"}}\n",
    "    for r in torque_table_row_names\n",
    "]\n",
    "action_fields_schema += [\n",
    "    {\"name\": \"speed\", \"type\": {\"type\": \"array\", \"items\": \"float\"}},\n",
    "    {\"name\": \"throttle\", \"type\": {\"type\": \"array\", \"items\": \"float\"}},\n",
    "    {\n",
    "        \"name\": \"timestep\",\n",
    "        \"type\": {\n",
    "            \"type\": \"array\",\n",
    "            \"items\": {\"type\": \"long\", \"logicalType\": \"timestamp-micros\"},\n",
    "        },\n",
    "    },\n",
    "]\n",
    "\n",
    "\n",
    "reward_fields_schema = [\n",
    "    {\"name\": \"work\", \"type\": {\"type\": \"array\", \"items\": \"float\"}},\n",
    "    {\n",
    "        \"name\": \"timestep\",\n",
    "        \"type\": {\n",
    "            \"type\": \"array\",\n",
    "            \"items\": {\"type\": \"long\", \"logicalType\": \"timestamp-micros\"},\n",
    "        },\n",
    "    },\n",
    "]\n",
    "\n",
    "\n",
    "episode_array_fields_schema = [\n",
    "    {\n",
    "        \"type\": \"long\",\n",
    "        \"name\": \"timestamp\",\n",
    "        \"logicalType\": \"timestamp-micros\",\n",
    "    },\n",
    "    {\n",
    "        \"name\": \"state\",\n",
    "        \"type\": {\n",
    "            \"type\": \"record\",\n",
    "            \"name\": \"state_\",\n",
    "            \"fields\": state_fields_schema,\n",
    "        },\n",
    "    },\n",
    "    {\n",
    "        \"name\": \"action\",\n",
    "        \"type\": {\n",
    "            \"type\": \"record\",\n",
    "            \"name\": \"action_\",\n",
    "            \"fields\": action_fields_schema,\n",
    "        },\n",
    "    },\n",
    "    {\n",
    "        \"name\": \"reward\",\n",
    "        \"type\": {\n",
    "            \"type\": \"record\",\n",
    "            \"name\": \"reward_\",\n",
    "            \"fields\": reward_fields_schema,\n",
    "        },\n",
    "    },\n",
    "    {\n",
    "        \"name\": \"nstate\",\n",
    "        \"type\": {\n",
    "            \"type\": \"record\",\n",
    "            \"name\": \"nstate_\",\n",
    "            \"fields\": state_fields_schema,\n",
    "        },\n",
    "    },\n",
    "]\n",
    "\n",
    "schema_episode = {\n",
    "    \"type\": \"record\",\n",
    "    \"name\": \"episode\",\n",
    "    \"doc\": \"episode data with a timestamp, meta description and an array of episode steps\",\n",
    "    \"fields\": [\n",
    "        {\"type\": \"long\", \"name\": \"episodestart\", \"logicalType\": \"timestamp-micros\"},\n",
    "        {\n",
    "            \"name\": \"meta\",\n",
    "            \"type\": {\n",
    "                \"type\": \"record\",\n",
    "                \"name\": \"meta_\",\n",
    "                \"fields\": [\n",
    "                    {\n",
    "                        \"name\": \"episode_meta\",\n",
    "                        \"type\": {\n",
    "                            \"type\": \"record\",\n",
    "                            \"name\": \"episode_meta_\",\n",
    "                            \"fields\": episode_meta_fields_schema,\n",
    "                        },\n",
    "                    },\n",
    "                    {\n",
    "                        \"name\": \"observation_meta\",\n",
    "                        \"type\": {\n",
    "                            \"type\": \"record\",\n",
    "                            \"name\": \"observation_meta_\",\n",
    "                            \"fields\": observation_meta_fields_schema,\n",
    "                        },\n",
    "                    },\n",
    "                ],\n",
    "            },\n",
    "        },\n",
    "        {\n",
    "            \"name\": \"sequence\",\n",
    "            \"type\": {\n",
    "                \"type\": \"array\",\n",
    "                \"items\": {\n",
    "                    \"name\": \"step\",  # not used in constructing the episode observation array data\n",
    "                    \"type\": \"record\",\n",
    "                    \"fields\": episode_array_fields_schema,\n",
    "                },\n",
    "            },\n",
    "        },\n",
    "    ],\n",
    "}\n",
    "\n",
    "parsed_schema_episode = fastavro.schema.parse_schema(schema_episode)\n",
    "print(json.dumps(schema_episode, indent=2))"
   ]
  },
  {
   "cell_type": "code",
   "execution_count": 13,
   "outputs": [
    {
     "name": "stderr",
     "output_type": "stream",
     "text": [
      "/tmp/ipykernel_800440/605212411.py:21: PydanticDeprecatedSince20: The `dict` method is deprecated; use `model_dump` instead. Deprecated in Pydantic V2.0 to be removed in V3.0. See Pydantic V2 Migration Guide at https://errors.pydantic.dev/2.1.1/migration/\n",
      "  'meta': {'episode_meta': episodes_meta_dict[i], 'observation_meta': observation_meta.dict()},\n"
     ]
    },
    {
     "data": {
      "text/plain": "{'episodestart': 1695735719297357.0,\n 'meta': {'episode_meta': {'vehicle': 'VB7',\n   'driver': 'zheng-longfei',\n   'episodestart': 1695735719297357.0},\n  'observation_meta': {'state_specs': {'state_unit_codes': {'velocity_unit_code': 'kph',\n     'thrust_unit_code': 'pct',\n     'brake_unit_code': 'pct'},\n    'state_number': 3,\n    'unit_number_per_state': 4,\n    'unit_duration': 1.0,\n    'frequency': 50},\n   'action_specs': {'action_unit_code': 'nm',\n    'action_row_number': 4,\n    'action_column_number': 17},\n   'reward_specs': {'reward_unit_code': 'wh', 'reward_number': 1},\n   'site': 'anting'}},\n 'sequence': [{'timestamp': 1695886919237642.0,\n   'action': {'r0': [12.0, 13.0, 14.0, 15.0, 16.0],\n    'r1': [17.0, 18.0, 19.0, 20.0, 21.0],\n    'r2': [22.0, 23.0, 24.0, 25.0, 26.0],\n    'speed': [40.0, 50.0, 60.0],\n    'throttle': [0.0, 0.25, 0.5, 0.75, 1.0],\n    'timestep': [1695879719337642.0, 1695879719357642.0, 1695879719377642.0]},\n   'nstate': {'brake': [36.0, 37.0, 38.0, 39.0],\n    'thrust': [32.0, 33.0, 34.0, 35.0],\n    'timestep': [1695879724237642.0,\n     1695879724257642.0,\n     1695879724277642.0,\n     1695879724297642.0],\n    'velocity': [28.0, 29.0, 30.0, 31.0]},\n   'reward': {'timestep': [1695879719337642.0], 'work': [27.0]},\n   'state': {'brake': [8.0, 9.0, 10.0, 11.0],\n    'thrust': [4.0, 5.0, 6.0, 7.0],\n    'timestep': [1695879719237642.0,\n     1695879719257642.0,\n     1695879719277642.0,\n     1695879719297642.0],\n    'velocity': [0.0, 1.0, 2.0, 3.0]}},\n  {'timestamp': 1695894119237642.0,\n   'action': {'r0': [12.0, 13.0, 14.0, 15.0, 16.0],\n    'r1': [17.0, 18.0, 19.0, 20.0, 21.0],\n    'r2': [22.0, 23.0, 24.0, 25.0, 26.0],\n    'speed': [40.0, 50.0, 60.0],\n    'throttle': [0.0, 0.25, 0.5, 0.75, 1.0],\n    'timestep': [1695879719337642.0, 1695879719357642.0, 1695879719377642.0]},\n   'nstate': {'brake': [36.0, 37.0, 38.0, 39.0],\n    'thrust': [32.0, 33.0, 34.0, 35.0],\n    'timestep': [1695879724237642.0,\n     1695879724257642.0,\n     1695879724277642.0,\n     1695879724297642.0],\n    'velocity': [28.0, 29.0, 30.0, 31.0]},\n   'reward': {'timestep': [1695879719337642.0], 'work': [27.0]},\n   'state': {'brake': [8.0, 9.0, 10.0, 11.0],\n    'thrust': [4.0, 5.0, 6.0, 7.0],\n    'timestep': [1695879719237642.0,\n     1695879719257642.0,\n     1695879719277642.0,\n     1695879719297642.0],\n    'velocity': [0.0, 1.0, 2.0, 3.0]}}]}"
     },
     "execution_count": 13,
     "metadata": {},
     "output_type": "execute_result"
    }
   ],
   "source": [
    "# records_episodes = [\n",
    "#     {u'episodestart': episodes_indices_dict[0]['episodestart'],\n",
    "#      u'meta': {'episode_meta': episode_meta, 'observation_meta': observation_meta.dict()},\n",
    "#      u'sequence': episodes_dict_nested[0]},\n",
    "#     {u'episodestart': episodes_indices_dict[1]['episodestart'],\n",
    "#      u'meta': {'episode_meta': episode_meta, 'observation_meta': observation_meta.dict()},\n",
    "#      u'sequence': episodes_dict_nested[1]},\n",
    "#     {u'episodestart': episodes_indices_dict[2]['episodestart'],\n",
    "#      u'meta': {'episode_meta': episode_meta, 'observation_meta': observation_meta.dict()},\n",
    "#      u'sequence': episodes_dict_nested[2]},\n",
    "#     {u'episodestart': episodes_indices_dict[3]['episodestart'],\n",
    "#      u'meta': {'episode_meta': episode_meta, 'observation_meta': observation_meta.dict()},\n",
    "#      u'sequence': episodes_dict_nested[3]},\n",
    "#     {u'episodestart': episodes_indices_dict[4]['episodestart'],\n",
    "#      u'meta': {'episode_meta': episode_meta, 'observation_meta': observation_meta.dict()},\n",
    "#      u'sequence': episodes_dict_nested[4]},\n",
    "# ]\n",
    "\n",
    "\n",
    "records_episodes = [\n",
    "    {\n",
    "        \"episodestart\": episodes_meta_dict[i][\"episodestart\"],\n",
    "        \"meta\": {\n",
    "            \"episode_meta\": episodes_meta_dict[i],\n",
    "            \"observation_meta\": observation_meta.dict(),\n",
    "        },\n",
    "        \"sequence\": episodes_dict_nested[i],\n",
    "    }\n",
    "    for i in range(4)\n",
    "]\n",
    "\n",
    "records_episodes[1]"
   ],
   "metadata": {
    "collapsed": false,
    "ExecuteTime": {
     "end_time": "2023-09-28T05:41:59.712787410Z",
     "start_time": "2023-09-28T05:41:59.448155508Z"
    }
   },
   "id": "11c4e2385b3428f4"
  },
  {
   "cell_type": "markdown",
   "source": [
    "# Write the episodes to a bag"
   ],
   "metadata": {
    "collapsed": false
   },
   "id": "6e1c8cf88308e409"
  },
  {
   "cell_type": "code",
   "execution_count": 14,
   "outputs": [
    {
     "data": {
      "text/plain": "'/home/n/devel/anting_remote/eos/data'"
     },
     "execution_count": 14,
     "metadata": {},
     "output_type": "execute_result"
    }
   ],
   "source": [
    "os.getcwd()\n",
    "# os.chdir('bags')\n",
    "# os.getcwd()"
   ],
   "metadata": {
    "collapsed": false,
    "ExecuteTime": {
     "end_time": "2023-09-28T05:41:59.712884388Z",
     "start_time": "2023-09-28T05:41:59.456956752Z"
    }
   },
   "id": "88a73b7a05e1bcab"
  },
  {
   "cell_type": "code",
   "execution_count": 15,
   "outputs": [
    {
     "name": "stdout",
     "output_type": "stream",
     "text": [
      "4\n"
     ]
    },
    {
     "data": {
      "text/plain": "4"
     },
     "execution_count": 15,
     "metadata": {},
     "output_type": "execute_result"
    },
    {
     "data": {
      "text/plain": "['/home/n/devel/anting_remote/eos/data/bag_episodes1.0.avro',\n '/home/n/devel/anting_remote/eos/data/bag_episodes1.1.avro',\n '/home/n/devel/anting_remote/eos/data/bag_episodes1.2.avro',\n '/home/n/devel/anting_remote/eos/data/bag_episodes1.3.avro']"
     },
     "execution_count": 15,
     "metadata": {},
     "output_type": "execute_result"
    }
   ],
   "source": [
    "import dask.bag as db\n",
    "\n",
    "b_episodes = db.from_sequence(records_episodes)\n",
    "print(b_episodes.npartitions)\n",
    "data = b_episodes.take(4, npartitions=4)\n",
    "len(data)\n",
    "b_episodes.to_avro(\"bag_episodes1.*.avro\", schema=parsed_schema_episode)"
   ],
   "metadata": {
    "collapsed": false,
    "ExecuteTime": {
     "end_time": "2023-09-28T05:42:00.234586111Z",
     "start_time": "2023-09-28T05:41:59.498354315Z"
    }
   },
   "id": "3c222166b61c228f"
  },
  {
   "cell_type": "code",
   "execution_count": 16,
   "outputs": [
    {
     "data": {
      "text/plain": "4"
     },
     "execution_count": 16,
     "metadata": {},
     "output_type": "execute_result"
    },
    {
     "name": "stdout",
     "output_type": "stream",
     "text": [
      "VB7\n",
      "wang-cheng\n",
      "{'timestamp': 1695883319237642, 'state': {'velocity': [0.0, 1.0, 2.0, 3.0], 'thrust': [4.0, 5.0, 6.0, 7.0], 'brake': [8.0, 9.0, 10.0, 11.0], 'timestep': [datetime.datetime(2023, 9, 28, 5, 41, 59, 237642, tzinfo=datetime.timezone.utc), datetime.datetime(2023, 9, 28, 5, 41, 59, 257642, tzinfo=datetime.timezone.utc), datetime.datetime(2023, 9, 28, 5, 41, 59, 277642, tzinfo=datetime.timezone.utc), datetime.datetime(2023, 9, 28, 5, 41, 59, 297642, tzinfo=datetime.timezone.utc)]}, 'action': {'r0': [12.0, 13.0, 14.0, 15.0, 16.0], 'r1': [17.0, 18.0, 19.0, 20.0, 21.0], 'r2': [22.0, 23.0, 24.0, 25.0, 26.0], 'speed': [40.0, 50.0, 60.0], 'throttle': [0.0, 0.25, 0.5, 0.75, 1.0], 'timestep': [datetime.datetime(2023, 9, 28, 5, 41, 59, 337642, tzinfo=datetime.timezone.utc), datetime.datetime(2023, 9, 28, 5, 41, 59, 357642, tzinfo=datetime.timezone.utc), datetime.datetime(2023, 9, 28, 5, 41, 59, 377642, tzinfo=datetime.timezone.utc)]}, 'reward': {'work': [27.0], 'timestep': [datetime.datetime(2023, 9, 28, 5, 41, 59, 337642, tzinfo=datetime.timezone.utc)]}, 'nstate': {'velocity': [28.0, 29.0, 30.0, 31.0], 'thrust': [32.0, 33.0, 34.0, 35.0], 'brake': [36.0, 37.0, 38.0, 39.0], 'timestep': [datetime.datetime(2023, 9, 28, 5, 42, 4, 237642, tzinfo=datetime.timezone.utc), datetime.datetime(2023, 9, 28, 5, 42, 4, 257642, tzinfo=datetime.timezone.utc), datetime.datetime(2023, 9, 28, 5, 42, 4, 277642, tzinfo=datetime.timezone.utc), datetime.datetime(2023, 9, 28, 5, 42, 4, 297642, tzinfo=datetime.timezone.utc)]}}\n"
     ]
    }
   ],
   "source": [
    "b_episodes_read = db.read_avro(\"bag_episodes1.*.avro\")\n",
    "rec = b_episodes_read.take(4, npartitions=4)\n",
    "len(rec)\n",
    "print(rec[0][\"meta\"][\"episode_meta\"][\"vehicle\"])\n",
    "print(rec[0][\"meta\"][\"episode_meta\"][\"driver\"])\n",
    "print(rec[0][\"sequence\"][0])"
   ],
   "metadata": {
    "collapsed": false,
    "ExecuteTime": {
     "end_time": "2023-09-28T05:42:00.352606889Z",
     "start_time": "2023-09-28T05:41:59.914754241Z"
    }
   },
   "id": "28327d8995650baf"
  },
  {
   "cell_type": "markdown",
   "source": [
    "# Add an episode to an existing bag"
   ],
   "metadata": {
    "collapsed": false
   },
   "id": "67951ffa30bbbfc9"
  },
  {
   "cell_type": "code",
   "execution_count": 17,
   "outputs": [
    {
     "name": "stdout",
     "output_type": "stream",
     "text": [
      "5\n"
     ]
    },
    {
     "data": {
      "text/plain": "['/home/n/devel/anting_remote/eos/data/bag_episodes.0.avro',\n '/home/n/devel/anting_remote/eos/data/bag_episodes.1.avro',\n '/home/n/devel/anting_remote/eos/data/bag_episodes.2.avro',\n '/home/n/devel/anting_remote/eos/data/bag_episodes.3.avro',\n '/home/n/devel/anting_remote/eos/data/bag_episodes.4.avro']"
     },
     "execution_count": 17,
     "metadata": {},
     "output_type": "execute_result"
    }
   ],
   "source": [
    "records_episode_to_add = [\n",
    "    {\n",
    "        \"episodestart\": episodes_meta_dict[4][\"episodestart\"],\n",
    "        \"meta\": {\n",
    "            \"episode_meta\": episodes_meta_dict[4],\n",
    "            \"observation_meta\": observation_meta.model_dump(),\n",
    "        },\n",
    "        \"sequence\": episodes_dict_nested[4],\n",
    "    }\n",
    "]\n",
    "# records_episode_to_add\n",
    "\n",
    "b_episodes_new = db.concat([b_episodes_read, db.from_sequence(records_episode_to_add)])\n",
    "print(b_episodes_new.npartitions)\n",
    "b_episodes_new.to_avro(\"bag_episodes.*.avro\", schema=parsed_schema_episode)"
   ],
   "metadata": {
    "collapsed": false,
    "ExecuteTime": {
     "end_time": "2023-09-28T05:42:00.627697084Z",
     "start_time": "2023-09-28T05:42:00.146323912Z"
    }
   },
   "id": "496af4eaa4089209"
  },
  {
   "cell_type": "code",
   "execution_count": 18,
   "outputs": [
    {
     "name": "stdout",
     "output_type": "stream",
     "text": [
      "8\n"
     ]
    },
    {
     "name": "stderr",
     "output_type": "stream",
     "text": [
      "/dpt/micromamba/envs/meos/lib/python3.10/site-packages/dask/bag/core.py:2511: UserWarning: Insufficient elements for `take`. 6 elements requested, only 5 elements available. Try passing larger `npartitions` to `take`.\n",
      "  warnings.warn(\n"
     ]
    },
    {
     "data": {
      "text/plain": "({'episodestart': 1695879719237642,\n  'meta': {'episode_meta': {'vehicle': 'VB7',\n    'driver': 'wang-cheng',\n    'episodestart': 1695879719237642},\n   'observation_meta': {'state_specs': {'state_unit_codes': {'velocity_unit_code': 'kph',\n      'thrust_unit_code': 'pct',\n      'brake_unit_code': 'pct'},\n     'state_number': 3,\n     'unit_number_per_state': 4,\n     'unit_duration': 1,\n     'frequency': 50},\n    'action_specs': {'action_unit_code': 'nm',\n     'action_row_number': 4,\n     'action_column_number': 17},\n    'reward_specs': {'reward_unit_code': 'wh'},\n    'site': 'anting'}},\n  'sequence': [{'timestamp': 1695883319237642,\n    'state': {'velocity': [0.0, 1.0, 2.0, 3.0],\n     'thrust': [4.0, 5.0, 6.0, 7.0],\n     'brake': [8.0, 9.0, 10.0, 11.0],\n     'timestep': [datetime.datetime(2023, 9, 28, 5, 41, 59, 237642, tzinfo=datetime.timezone.utc),\n      datetime.datetime(2023, 9, 28, 5, 41, 59, 257642, tzinfo=datetime.timezone.utc),\n      datetime.datetime(2023, 9, 28, 5, 41, 59, 277642, tzinfo=datetime.timezone.utc),\n      datetime.datetime(2023, 9, 28, 5, 41, 59, 297642, tzinfo=datetime.timezone.utc)]},\n    'action': {'r0': [12.0, 13.0, 14.0, 15.0, 16.0],\n     'r1': [17.0, 18.0, 19.0, 20.0, 21.0],\n     'r2': [22.0, 23.0, 24.0, 25.0, 26.0],\n     'speed': [40.0, 50.0, 60.0],\n     'throttle': [0.0, 0.25, 0.5, 0.75, 1.0],\n     'timestep': [datetime.datetime(2023, 9, 28, 5, 41, 59, 337642, tzinfo=datetime.timezone.utc),\n      datetime.datetime(2023, 9, 28, 5, 41, 59, 357642, tzinfo=datetime.timezone.utc),\n      datetime.datetime(2023, 9, 28, 5, 41, 59, 377642, tzinfo=datetime.timezone.utc)]},\n    'reward': {'work': [27.0],\n     'timestep': [datetime.datetime(2023, 9, 28, 5, 41, 59, 337642, tzinfo=datetime.timezone.utc)]},\n    'nstate': {'velocity': [28.0, 29.0, 30.0, 31.0],\n     'thrust': [32.0, 33.0, 34.0, 35.0],\n     'brake': [36.0, 37.0, 38.0, 39.0],\n     'timestep': [datetime.datetime(2023, 9, 28, 5, 42, 4, 237642, tzinfo=datetime.timezone.utc),\n      datetime.datetime(2023, 9, 28, 5, 42, 4, 257642, tzinfo=datetime.timezone.utc),\n      datetime.datetime(2023, 9, 28, 5, 42, 4, 277642, tzinfo=datetime.timezone.utc),\n      datetime.datetime(2023, 9, 28, 5, 42, 4, 297642, tzinfo=datetime.timezone.utc)]}},\n   {'timestamp': 1695886919237642,\n    'state': {'velocity': [0.0, 1.0, 2.0, 3.0],\n     'thrust': [4.0, 5.0, 6.0, 7.0],\n     'brake': [8.0, 9.0, 10.0, 11.0],\n     'timestep': [datetime.datetime(2023, 9, 28, 5, 41, 59, 237642, tzinfo=datetime.timezone.utc),\n      datetime.datetime(2023, 9, 28, 5, 41, 59, 257642, tzinfo=datetime.timezone.utc),\n      datetime.datetime(2023, 9, 28, 5, 41, 59, 277642, tzinfo=datetime.timezone.utc),\n      datetime.datetime(2023, 9, 28, 5, 41, 59, 297642, tzinfo=datetime.timezone.utc)]},\n    'action': {'r0': [12.0, 13.0, 14.0, 15.0, 16.0],\n     'r1': [17.0, 18.0, 19.0, 20.0, 21.0],\n     'r2': [22.0, 23.0, 24.0, 25.0, 26.0],\n     'speed': [40.0, 50.0, 60.0],\n     'throttle': [0.0, 0.25, 0.5, 0.75, 1.0],\n     'timestep': [datetime.datetime(2023, 9, 28, 5, 41, 59, 337642, tzinfo=datetime.timezone.utc),\n      datetime.datetime(2023, 9, 28, 5, 41, 59, 357642, tzinfo=datetime.timezone.utc),\n      datetime.datetime(2023, 9, 28, 5, 41, 59, 377642, tzinfo=datetime.timezone.utc)]},\n    'reward': {'work': [27.0],\n     'timestep': [datetime.datetime(2023, 9, 28, 5, 41, 59, 337642, tzinfo=datetime.timezone.utc)]},\n    'nstate': {'velocity': [28.0, 29.0, 30.0, 31.0],\n     'thrust': [32.0, 33.0, 34.0, 35.0],\n     'brake': [36.0, 37.0, 38.0, 39.0],\n     'timestep': [datetime.datetime(2023, 9, 28, 5, 42, 4, 237642, tzinfo=datetime.timezone.utc),\n      datetime.datetime(2023, 9, 28, 5, 42, 4, 257642, tzinfo=datetime.timezone.utc),\n      datetime.datetime(2023, 9, 28, 5, 42, 4, 277642, tzinfo=datetime.timezone.utc),\n      datetime.datetime(2023, 9, 28, 5, 42, 4, 297642, tzinfo=datetime.timezone.utc)]}},\n   {'timestamp': 1695890519237642,\n    'state': {'velocity': [0.0, 1.0, 2.0, 3.0],\n     'thrust': [4.0, 5.0, 6.0, 7.0],\n     'brake': [8.0, 9.0, 10.0, 11.0],\n     'timestep': [datetime.datetime(2023, 9, 28, 5, 41, 59, 237642, tzinfo=datetime.timezone.utc),\n      datetime.datetime(2023, 9, 28, 5, 41, 59, 257642, tzinfo=datetime.timezone.utc),\n      datetime.datetime(2023, 9, 28, 5, 41, 59, 277642, tzinfo=datetime.timezone.utc),\n      datetime.datetime(2023, 9, 28, 5, 41, 59, 297642, tzinfo=datetime.timezone.utc)]},\n    'action': {'r0': [12.0, 13.0, 14.0, 15.0, 16.0],\n     'r1': [17.0, 18.0, 19.0, 20.0, 21.0],\n     'r2': [22.0, 23.0, 24.0, 25.0, 26.0],\n     'speed': [40.0, 50.0, 60.0],\n     'throttle': [0.0, 0.25, 0.5, 0.75, 1.0],\n     'timestep': [datetime.datetime(2023, 9, 28, 5, 41, 59, 337642, tzinfo=datetime.timezone.utc),\n      datetime.datetime(2023, 9, 28, 5, 41, 59, 357642, tzinfo=datetime.timezone.utc),\n      datetime.datetime(2023, 9, 28, 5, 41, 59, 377642, tzinfo=datetime.timezone.utc)]},\n    'reward': {'work': [27.0],\n     'timestep': [datetime.datetime(2023, 9, 28, 5, 41, 59, 337642, tzinfo=datetime.timezone.utc)]},\n    'nstate': {'velocity': [28.0, 29.0, 30.0, 31.0],\n     'thrust': [32.0, 33.0, 34.0, 35.0],\n     'brake': [36.0, 37.0, 38.0, 39.0],\n     'timestep': [datetime.datetime(2023, 9, 28, 5, 42, 4, 237642, tzinfo=datetime.timezone.utc),\n      datetime.datetime(2023, 9, 28, 5, 42, 4, 257642, tzinfo=datetime.timezone.utc),\n      datetime.datetime(2023, 9, 28, 5, 42, 4, 277642, tzinfo=datetime.timezone.utc),\n      datetime.datetime(2023, 9, 28, 5, 42, 4, 297642, tzinfo=datetime.timezone.utc)]}},\n   {'timestamp': 1695894119237642,\n    'state': {'velocity': [0.0, 1.0, 2.0, 3.0],\n     'thrust': [4.0, 5.0, 6.0, 7.0],\n     'brake': [8.0, 9.0, 10.0, 11.0],\n     'timestep': [datetime.datetime(2023, 9, 28, 5, 41, 59, 237642, tzinfo=datetime.timezone.utc),\n      datetime.datetime(2023, 9, 28, 5, 41, 59, 257642, tzinfo=datetime.timezone.utc),\n      datetime.datetime(2023, 9, 28, 5, 41, 59, 277642, tzinfo=datetime.timezone.utc),\n      datetime.datetime(2023, 9, 28, 5, 41, 59, 297642, tzinfo=datetime.timezone.utc)]},\n    'action': {'r0': [12.0, 13.0, 14.0, 15.0, 16.0],\n     'r1': [17.0, 18.0, 19.0, 20.0, 21.0],\n     'r2': [22.0, 23.0, 24.0, 25.0, 26.0],\n     'speed': [40.0, 50.0, 60.0],\n     'throttle': [0.0, 0.25, 0.5, 0.75, 1.0],\n     'timestep': [datetime.datetime(2023, 9, 28, 5, 41, 59, 337642, tzinfo=datetime.timezone.utc),\n      datetime.datetime(2023, 9, 28, 5, 41, 59, 357642, tzinfo=datetime.timezone.utc),\n      datetime.datetime(2023, 9, 28, 5, 41, 59, 377642, tzinfo=datetime.timezone.utc)]},\n    'reward': {'work': [27.0],\n     'timestep': [datetime.datetime(2023, 9, 28, 5, 41, 59, 337642, tzinfo=datetime.timezone.utc)]},\n    'nstate': {'velocity': [28.0, 29.0, 30.0, 31.0],\n     'thrust': [32.0, 33.0, 34.0, 35.0],\n     'brake': [36.0, 37.0, 38.0, 39.0],\n     'timestep': [datetime.datetime(2023, 9, 28, 5, 42, 4, 237642, tzinfo=datetime.timezone.utc),\n      datetime.datetime(2023, 9, 28, 5, 42, 4, 257642, tzinfo=datetime.timezone.utc),\n      datetime.datetime(2023, 9, 28, 5, 42, 4, 277642, tzinfo=datetime.timezone.utc),\n      datetime.datetime(2023, 9, 28, 5, 42, 4, 297642, tzinfo=datetime.timezone.utc)]}},\n   {'timestamp': 1695897719237642,\n    'state': {'velocity': [0.0, 1.0, 2.0, 3.0],\n     'thrust': [4.0, 5.0, 6.0, 7.0],\n     'brake': [8.0, 9.0, 10.0, 11.0],\n     'timestep': [datetime.datetime(2023, 9, 28, 5, 41, 59, 237642, tzinfo=datetime.timezone.utc),\n      datetime.datetime(2023, 9, 28, 5, 41, 59, 257642, tzinfo=datetime.timezone.utc),\n      datetime.datetime(2023, 9, 28, 5, 41, 59, 277642, tzinfo=datetime.timezone.utc),\n      datetime.datetime(2023, 9, 28, 5, 41, 59, 297642, tzinfo=datetime.timezone.utc)]},\n    'action': {'r0': [12.0, 13.0, 14.0, 15.0, 16.0],\n     'r1': [17.0, 18.0, 19.0, 20.0, 21.0],\n     'r2': [22.0, 23.0, 24.0, 25.0, 26.0],\n     'speed': [40.0, 50.0, 60.0],\n     'throttle': [0.0, 0.25, 0.5, 0.75, 1.0],\n     'timestep': [datetime.datetime(2023, 9, 28, 5, 41, 59, 337642, tzinfo=datetime.timezone.utc),\n      datetime.datetime(2023, 9, 28, 5, 41, 59, 357642, tzinfo=datetime.timezone.utc),\n      datetime.datetime(2023, 9, 28, 5, 41, 59, 377642, tzinfo=datetime.timezone.utc)]},\n    'reward': {'work': [27.0],\n     'timestep': [datetime.datetime(2023, 9, 28, 5, 41, 59, 337642, tzinfo=datetime.timezone.utc)]},\n    'nstate': {'velocity': [28.0, 29.0, 30.0, 31.0],\n     'thrust': [32.0, 33.0, 34.0, 35.0],\n     'brake': [36.0, 37.0, 38.0, 39.0],\n     'timestep': [datetime.datetime(2023, 9, 28, 5, 42, 4, 237642, tzinfo=datetime.timezone.utc),\n      datetime.datetime(2023, 9, 28, 5, 42, 4, 257642, tzinfo=datetime.timezone.utc),\n      datetime.datetime(2023, 9, 28, 5, 42, 4, 277642, tzinfo=datetime.timezone.utc),\n      datetime.datetime(2023, 9, 28, 5, 42, 4, 297642, tzinfo=datetime.timezone.utc)]}}]},\n {'episodestart': 1695735719297357,\n  'meta': {'episode_meta': {'vehicle': 'VB7',\n    'driver': 'zheng-longfei',\n    'episodestart': 1695735719297357},\n   'observation_meta': {'state_specs': {'state_unit_codes': {'velocity_unit_code': 'kph',\n      'thrust_unit_code': 'pct',\n      'brake_unit_code': 'pct'},\n     'state_number': 3,\n     'unit_number_per_state': 4,\n     'unit_duration': 1,\n     'frequency': 50},\n    'action_specs': {'action_unit_code': 'nm',\n     'action_row_number': 4,\n     'action_column_number': 17},\n    'reward_specs': {'reward_unit_code': 'wh'},\n    'site': 'anting'}},\n  'sequence': [{'timestamp': 1695886919237642,\n    'state': {'velocity': [0.0, 1.0, 2.0, 3.0],\n     'thrust': [4.0, 5.0, 6.0, 7.0],\n     'brake': [8.0, 9.0, 10.0, 11.0],\n     'timestep': [datetime.datetime(2023, 9, 28, 5, 41, 59, 237642, tzinfo=datetime.timezone.utc),\n      datetime.datetime(2023, 9, 28, 5, 41, 59, 257642, tzinfo=datetime.timezone.utc),\n      datetime.datetime(2023, 9, 28, 5, 41, 59, 277642, tzinfo=datetime.timezone.utc),\n      datetime.datetime(2023, 9, 28, 5, 41, 59, 297642, tzinfo=datetime.timezone.utc)]},\n    'action': {'r0': [12.0, 13.0, 14.0, 15.0, 16.0],\n     'r1': [17.0, 18.0, 19.0, 20.0, 21.0],\n     'r2': [22.0, 23.0, 24.0, 25.0, 26.0],\n     'speed': [40.0, 50.0, 60.0],\n     'throttle': [0.0, 0.25, 0.5, 0.75, 1.0],\n     'timestep': [datetime.datetime(2023, 9, 28, 5, 41, 59, 337642, tzinfo=datetime.timezone.utc),\n      datetime.datetime(2023, 9, 28, 5, 41, 59, 357642, tzinfo=datetime.timezone.utc),\n      datetime.datetime(2023, 9, 28, 5, 41, 59, 377642, tzinfo=datetime.timezone.utc)]},\n    'reward': {'work': [27.0],\n     'timestep': [datetime.datetime(2023, 9, 28, 5, 41, 59, 337642, tzinfo=datetime.timezone.utc)]},\n    'nstate': {'velocity': [28.0, 29.0, 30.0, 31.0],\n     'thrust': [32.0, 33.0, 34.0, 35.0],\n     'brake': [36.0, 37.0, 38.0, 39.0],\n     'timestep': [datetime.datetime(2023, 9, 28, 5, 42, 4, 237642, tzinfo=datetime.timezone.utc),\n      datetime.datetime(2023, 9, 28, 5, 42, 4, 257642, tzinfo=datetime.timezone.utc),\n      datetime.datetime(2023, 9, 28, 5, 42, 4, 277642, tzinfo=datetime.timezone.utc),\n      datetime.datetime(2023, 9, 28, 5, 42, 4, 297642, tzinfo=datetime.timezone.utc)]}},\n   {'timestamp': 1695894119237642,\n    'state': {'velocity': [0.0, 1.0, 2.0, 3.0],\n     'thrust': [4.0, 5.0, 6.0, 7.0],\n     'brake': [8.0, 9.0, 10.0, 11.0],\n     'timestep': [datetime.datetime(2023, 9, 28, 5, 41, 59, 237642, tzinfo=datetime.timezone.utc),\n      datetime.datetime(2023, 9, 28, 5, 41, 59, 257642, tzinfo=datetime.timezone.utc),\n      datetime.datetime(2023, 9, 28, 5, 41, 59, 277642, tzinfo=datetime.timezone.utc),\n      datetime.datetime(2023, 9, 28, 5, 41, 59, 297642, tzinfo=datetime.timezone.utc)]},\n    'action': {'r0': [12.0, 13.0, 14.0, 15.0, 16.0],\n     'r1': [17.0, 18.0, 19.0, 20.0, 21.0],\n     'r2': [22.0, 23.0, 24.0, 25.0, 26.0],\n     'speed': [40.0, 50.0, 60.0],\n     'throttle': [0.0, 0.25, 0.5, 0.75, 1.0],\n     'timestep': [datetime.datetime(2023, 9, 28, 5, 41, 59, 337642, tzinfo=datetime.timezone.utc),\n      datetime.datetime(2023, 9, 28, 5, 41, 59, 357642, tzinfo=datetime.timezone.utc),\n      datetime.datetime(2023, 9, 28, 5, 41, 59, 377642, tzinfo=datetime.timezone.utc)]},\n    'reward': {'work': [27.0],\n     'timestep': [datetime.datetime(2023, 9, 28, 5, 41, 59, 337642, tzinfo=datetime.timezone.utc)]},\n    'nstate': {'velocity': [28.0, 29.0, 30.0, 31.0],\n     'thrust': [32.0, 33.0, 34.0, 35.0],\n     'brake': [36.0, 37.0, 38.0, 39.0],\n     'timestep': [datetime.datetime(2023, 9, 28, 5, 42, 4, 237642, tzinfo=datetime.timezone.utc),\n      datetime.datetime(2023, 9, 28, 5, 42, 4, 257642, tzinfo=datetime.timezone.utc),\n      datetime.datetime(2023, 9, 28, 5, 42, 4, 277642, tzinfo=datetime.timezone.utc),\n      datetime.datetime(2023, 9, 28, 5, 42, 4, 297642, tzinfo=datetime.timezone.utc)]}}]},\n {'episodestart': 1695476519297357,\n  'meta': {'episode_meta': {'vehicle': 'MP73',\n    'driver': 'wang-cheng',\n    'episodestart': 1695476519297357},\n   'observation_meta': {'state_specs': {'state_unit_codes': {'velocity_unit_code': 'kph',\n      'thrust_unit_code': 'pct',\n      'brake_unit_code': 'pct'},\n     'state_number': 3,\n     'unit_number_per_state': 4,\n     'unit_duration': 1,\n     'frequency': 50},\n    'action_specs': {'action_unit_code': 'nm',\n     'action_row_number': 4,\n     'action_column_number': 17},\n    'reward_specs': {'reward_unit_code': 'wh'},\n    'site': 'anting'}},\n  'sequence': [{'timestamp': 1695886919237642,\n    'state': {'velocity': [0.0, 1.0, 2.0, 3.0],\n     'thrust': [4.0, 5.0, 6.0, 7.0],\n     'brake': [8.0, 9.0, 10.0, 11.0],\n     'timestep': [datetime.datetime(2023, 9, 28, 5, 41, 59, 237642, tzinfo=datetime.timezone.utc),\n      datetime.datetime(2023, 9, 28, 5, 41, 59, 257642, tzinfo=datetime.timezone.utc),\n      datetime.datetime(2023, 9, 28, 5, 41, 59, 277642, tzinfo=datetime.timezone.utc),\n      datetime.datetime(2023, 9, 28, 5, 41, 59, 297642, tzinfo=datetime.timezone.utc)]},\n    'action': {'r0': [12.0, 13.0, 14.0, 15.0, 16.0],\n     'r1': [17.0, 18.0, 19.0, 20.0, 21.0],\n     'r2': [22.0, 23.0, 24.0, 25.0, 26.0],\n     'speed': [40.0, 50.0, 60.0],\n     'throttle': [0.0, 0.25, 0.5, 0.75, 1.0],\n     'timestep': [datetime.datetime(2023, 9, 28, 5, 41, 59, 337642, tzinfo=datetime.timezone.utc),\n      datetime.datetime(2023, 9, 28, 5, 41, 59, 357642, tzinfo=datetime.timezone.utc),\n      datetime.datetime(2023, 9, 28, 5, 41, 59, 377642, tzinfo=datetime.timezone.utc)]},\n    'reward': {'work': [27.0],\n     'timestep': [datetime.datetime(2023, 9, 28, 5, 41, 59, 337642, tzinfo=datetime.timezone.utc)]},\n    'nstate': {'velocity': [28.0, 29.0, 30.0, 31.0],\n     'thrust': [32.0, 33.0, 34.0, 35.0],\n     'brake': [36.0, 37.0, 38.0, 39.0],\n     'timestep': [datetime.datetime(2023, 9, 28, 5, 42, 4, 237642, tzinfo=datetime.timezone.utc),\n      datetime.datetime(2023, 9, 28, 5, 42, 4, 257642, tzinfo=datetime.timezone.utc),\n      datetime.datetime(2023, 9, 28, 5, 42, 4, 277642, tzinfo=datetime.timezone.utc),\n      datetime.datetime(2023, 9, 28, 5, 42, 4, 297642, tzinfo=datetime.timezone.utc)]}},\n   {'timestamp': 1695890519237642,\n    'state': {'velocity': [0.0, 1.0, 2.0, 3.0],\n     'thrust': [4.0, 5.0, 6.0, 7.0],\n     'brake': [8.0, 9.0, 10.0, 11.0],\n     'timestep': [datetime.datetime(2023, 9, 28, 5, 41, 59, 237642, tzinfo=datetime.timezone.utc),\n      datetime.datetime(2023, 9, 28, 5, 41, 59, 257642, tzinfo=datetime.timezone.utc),\n      datetime.datetime(2023, 9, 28, 5, 41, 59, 277642, tzinfo=datetime.timezone.utc),\n      datetime.datetime(2023, 9, 28, 5, 41, 59, 297642, tzinfo=datetime.timezone.utc)]},\n    'action': {'r0': [12.0, 13.0, 14.0, 15.0, 16.0],\n     'r1': [17.0, 18.0, 19.0, 20.0, 21.0],\n     'r2': [22.0, 23.0, 24.0, 25.0, 26.0],\n     'speed': [40.0, 50.0, 60.0],\n     'throttle': [0.0, 0.25, 0.5, 0.75, 1.0],\n     'timestep': [datetime.datetime(2023, 9, 28, 5, 41, 59, 337642, tzinfo=datetime.timezone.utc),\n      datetime.datetime(2023, 9, 28, 5, 41, 59, 357642, tzinfo=datetime.timezone.utc),\n      datetime.datetime(2023, 9, 28, 5, 41, 59, 377642, tzinfo=datetime.timezone.utc)]},\n    'reward': {'work': [27.0],\n     'timestep': [datetime.datetime(2023, 9, 28, 5, 41, 59, 337642, tzinfo=datetime.timezone.utc)]},\n    'nstate': {'velocity': [28.0, 29.0, 30.0, 31.0],\n     'thrust': [32.0, 33.0, 34.0, 35.0],\n     'brake': [36.0, 37.0, 38.0, 39.0],\n     'timestep': [datetime.datetime(2023, 9, 28, 5, 42, 4, 237642, tzinfo=datetime.timezone.utc),\n      datetime.datetime(2023, 9, 28, 5, 42, 4, 257642, tzinfo=datetime.timezone.utc),\n      datetime.datetime(2023, 9, 28, 5, 42, 4, 277642, tzinfo=datetime.timezone.utc),\n      datetime.datetime(2023, 9, 28, 5, 42, 4, 297642, tzinfo=datetime.timezone.utc)]}},\n   {'timestamp': 1695894119237642,\n    'state': {'velocity': [0.0, 1.0, 2.0, 3.0],\n     'thrust': [4.0, 5.0, 6.0, 7.0],\n     'brake': [8.0, 9.0, 10.0, 11.0],\n     'timestep': [datetime.datetime(2023, 9, 28, 5, 41, 59, 237642, tzinfo=datetime.timezone.utc),\n      datetime.datetime(2023, 9, 28, 5, 41, 59, 257642, tzinfo=datetime.timezone.utc),\n      datetime.datetime(2023, 9, 28, 5, 41, 59, 277642, tzinfo=datetime.timezone.utc),\n      datetime.datetime(2023, 9, 28, 5, 41, 59, 297642, tzinfo=datetime.timezone.utc)]},\n    'action': {'r0': [12.0, 13.0, 14.0, 15.0, 16.0],\n     'r1': [17.0, 18.0, 19.0, 20.0, 21.0],\n     'r2': [22.0, 23.0, 24.0, 25.0, 26.0],\n     'speed': [40.0, 50.0, 60.0],\n     'throttle': [0.0, 0.25, 0.5, 0.75, 1.0],\n     'timestep': [datetime.datetime(2023, 9, 28, 5, 41, 59, 337642, tzinfo=datetime.timezone.utc),\n      datetime.datetime(2023, 9, 28, 5, 41, 59, 357642, tzinfo=datetime.timezone.utc),\n      datetime.datetime(2023, 9, 28, 5, 41, 59, 377642, tzinfo=datetime.timezone.utc)]},\n    'reward': {'work': [27.0],\n     'timestep': [datetime.datetime(2023, 9, 28, 5, 41, 59, 337642, tzinfo=datetime.timezone.utc)]},\n    'nstate': {'velocity': [28.0, 29.0, 30.0, 31.0],\n     'thrust': [32.0, 33.0, 34.0, 35.0],\n     'brake': [36.0, 37.0, 38.0, 39.0],\n     'timestep': [datetime.datetime(2023, 9, 28, 5, 42, 4, 237642, tzinfo=datetime.timezone.utc),\n      datetime.datetime(2023, 9, 28, 5, 42, 4, 257642, tzinfo=datetime.timezone.utc),\n      datetime.datetime(2023, 9, 28, 5, 42, 4, 277642, tzinfo=datetime.timezone.utc),\n      datetime.datetime(2023, 9, 28, 5, 42, 4, 297642, tzinfo=datetime.timezone.utc)]}},\n   {'timestamp': 1695897719237642,\n    'state': {'velocity': [0.0, 1.0, 2.0, 3.0],\n     'thrust': [4.0, 5.0, 6.0, 7.0],\n     'brake': [8.0, 9.0, 10.0, 11.0],\n     'timestep': [datetime.datetime(2023, 9, 28, 5, 41, 59, 237642, tzinfo=datetime.timezone.utc),\n      datetime.datetime(2023, 9, 28, 5, 41, 59, 257642, tzinfo=datetime.timezone.utc),\n      datetime.datetime(2023, 9, 28, 5, 41, 59, 277642, tzinfo=datetime.timezone.utc),\n      datetime.datetime(2023, 9, 28, 5, 41, 59, 297642, tzinfo=datetime.timezone.utc)]},\n    'action': {'r0': [12.0, 13.0, 14.0, 15.0, 16.0],\n     'r1': [17.0, 18.0, 19.0, 20.0, 21.0],\n     'r2': [22.0, 23.0, 24.0, 25.0, 26.0],\n     'speed': [40.0, 50.0, 60.0],\n     'throttle': [0.0, 0.25, 0.5, 0.75, 1.0],\n     'timestep': [datetime.datetime(2023, 9, 28, 5, 41, 59, 337642, tzinfo=datetime.timezone.utc),\n      datetime.datetime(2023, 9, 28, 5, 41, 59, 357642, tzinfo=datetime.timezone.utc),\n      datetime.datetime(2023, 9, 28, 5, 41, 59, 377642, tzinfo=datetime.timezone.utc)]},\n    'reward': {'work': [27.0],\n     'timestep': [datetime.datetime(2023, 9, 28, 5, 41, 59, 337642, tzinfo=datetime.timezone.utc)]},\n    'nstate': {'velocity': [28.0, 29.0, 30.0, 31.0],\n     'thrust': [32.0, 33.0, 34.0, 35.0],\n     'brake': [36.0, 37.0, 38.0, 39.0],\n     'timestep': [datetime.datetime(2023, 9, 28, 5, 42, 4, 237642, tzinfo=datetime.timezone.utc),\n      datetime.datetime(2023, 9, 28, 5, 42, 4, 257642, tzinfo=datetime.timezone.utc),\n      datetime.datetime(2023, 9, 28, 5, 42, 4, 277642, tzinfo=datetime.timezone.utc),\n      datetime.datetime(2023, 9, 28, 5, 42, 4, 297642, tzinfo=datetime.timezone.utc)]}}]},\n {'episodestart': 1695390119297357,\n  'meta': {'episode_meta': {'vehicle': 'VB7',\n    'driver': 'wang-cheng',\n    'episodestart': 1695390119297357},\n   'observation_meta': {'state_specs': {'state_unit_codes': {'velocity_unit_code': 'kph',\n      'thrust_unit_code': 'pct',\n      'brake_unit_code': 'pct'},\n     'state_number': 3,\n     'unit_number_per_state': 4,\n     'unit_duration': 1,\n     'frequency': 50},\n    'action_specs': {'action_unit_code': 'nm',\n     'action_row_number': 4,\n     'action_column_number': 17},\n    'reward_specs': {'reward_unit_code': 'wh'},\n    'site': 'anting'}},\n  'sequence': [{'timestamp': 1695886919237642,\n    'state': {'velocity': [0.0, 1.0, 2.0, 3.0],\n     'thrust': [4.0, 5.0, 6.0, 7.0],\n     'brake': [8.0, 9.0, 10.0, 11.0],\n     'timestep': [datetime.datetime(2023, 9, 28, 5, 41, 59, 237642, tzinfo=datetime.timezone.utc),\n      datetime.datetime(2023, 9, 28, 5, 41, 59, 257642, tzinfo=datetime.timezone.utc),\n      datetime.datetime(2023, 9, 28, 5, 41, 59, 277642, tzinfo=datetime.timezone.utc),\n      datetime.datetime(2023, 9, 28, 5, 41, 59, 297642, tzinfo=datetime.timezone.utc)]},\n    'action': {'r0': [12.0, 13.0, 14.0, 15.0, 16.0],\n     'r1': [17.0, 18.0, 19.0, 20.0, 21.0],\n     'r2': [22.0, 23.0, 24.0, 25.0, 26.0],\n     'speed': [40.0, 50.0, 60.0],\n     'throttle': [0.0, 0.25, 0.5, 0.75, 1.0],\n     'timestep': [datetime.datetime(2023, 9, 28, 5, 41, 59, 337642, tzinfo=datetime.timezone.utc),\n      datetime.datetime(2023, 9, 28, 5, 41, 59, 357642, tzinfo=datetime.timezone.utc),\n      datetime.datetime(2023, 9, 28, 5, 41, 59, 377642, tzinfo=datetime.timezone.utc)]},\n    'reward': {'work': [27.0],\n     'timestep': [datetime.datetime(2023, 9, 28, 5, 41, 59, 337642, tzinfo=datetime.timezone.utc)]},\n    'nstate': {'velocity': [28.0, 29.0, 30.0, 31.0],\n     'thrust': [32.0, 33.0, 34.0, 35.0],\n     'brake': [36.0, 37.0, 38.0, 39.0],\n     'timestep': [datetime.datetime(2023, 9, 28, 5, 42, 4, 237642, tzinfo=datetime.timezone.utc),\n      datetime.datetime(2023, 9, 28, 5, 42, 4, 257642, tzinfo=datetime.timezone.utc),\n      datetime.datetime(2023, 9, 28, 5, 42, 4, 277642, tzinfo=datetime.timezone.utc),\n      datetime.datetime(2023, 9, 28, 5, 42, 4, 297642, tzinfo=datetime.timezone.utc)]}},\n   {'timestamp': 1695894119237642,\n    'state': {'velocity': [0.0, 1.0, 2.0, 3.0],\n     'thrust': [4.0, 5.0, 6.0, 7.0],\n     'brake': [8.0, 9.0, 10.0, 11.0],\n     'timestep': [datetime.datetime(2023, 9, 28, 5, 41, 59, 237642, tzinfo=datetime.timezone.utc),\n      datetime.datetime(2023, 9, 28, 5, 41, 59, 257642, tzinfo=datetime.timezone.utc),\n      datetime.datetime(2023, 9, 28, 5, 41, 59, 277642, tzinfo=datetime.timezone.utc),\n      datetime.datetime(2023, 9, 28, 5, 41, 59, 297642, tzinfo=datetime.timezone.utc)]},\n    'action': {'r0': [12.0, 13.0, 14.0, 15.0, 16.0],\n     'r1': [17.0, 18.0, 19.0, 20.0, 21.0],\n     'r2': [22.0, 23.0, 24.0, 25.0, 26.0],\n     'speed': [40.0, 50.0, 60.0],\n     'throttle': [0.0, 0.25, 0.5, 0.75, 1.0],\n     'timestep': [datetime.datetime(2023, 9, 28, 5, 41, 59, 337642, tzinfo=datetime.timezone.utc),\n      datetime.datetime(2023, 9, 28, 5, 41, 59, 357642, tzinfo=datetime.timezone.utc),\n      datetime.datetime(2023, 9, 28, 5, 41, 59, 377642, tzinfo=datetime.timezone.utc)]},\n    'reward': {'work': [27.0],\n     'timestep': [datetime.datetime(2023, 9, 28, 5, 41, 59, 337642, tzinfo=datetime.timezone.utc)]},\n    'nstate': {'velocity': [28.0, 29.0, 30.0, 31.0],\n     'thrust': [32.0, 33.0, 34.0, 35.0],\n     'brake': [36.0, 37.0, 38.0, 39.0],\n     'timestep': [datetime.datetime(2023, 9, 28, 5, 42, 4, 237642, tzinfo=datetime.timezone.utc),\n      datetime.datetime(2023, 9, 28, 5, 42, 4, 257642, tzinfo=datetime.timezone.utc),\n      datetime.datetime(2023, 9, 28, 5, 42, 4, 277642, tzinfo=datetime.timezone.utc),\n      datetime.datetime(2023, 9, 28, 5, 42, 4, 297642, tzinfo=datetime.timezone.utc)]}}]},\n {'episodestart': 1695303719297357,\n  'meta': {'episode_meta': {'vehicle': 'MP73',\n    'driver': 'zheng-longfei',\n    'episodestart': 1695303719297357},\n   'observation_meta': {'state_specs': {'state_unit_codes': {'velocity_unit_code': 'kph',\n      'thrust_unit_code': 'pct',\n      'brake_unit_code': 'pct'},\n     'state_number': 3,\n     'unit_number_per_state': 4,\n     'unit_duration': 1,\n     'frequency': 50},\n    'action_specs': {'action_unit_code': 'nm',\n     'action_row_number': 4,\n     'action_column_number': 17},\n    'reward_specs': {'reward_unit_code': 'wh'},\n    'site': 'anting'}},\n  'sequence': [{'timestamp': 1695886919237642,\n    'state': {'velocity': [0.0, 1.0, 2.0, 3.0],\n     'thrust': [4.0, 5.0, 6.0, 7.0],\n     'brake': [8.0, 9.0, 10.0, 11.0],\n     'timestep': [datetime.datetime(2023, 9, 28, 5, 41, 59, 237642, tzinfo=datetime.timezone.utc),\n      datetime.datetime(2023, 9, 28, 5, 41, 59, 257642, tzinfo=datetime.timezone.utc),\n      datetime.datetime(2023, 9, 28, 5, 41, 59, 277642, tzinfo=datetime.timezone.utc),\n      datetime.datetime(2023, 9, 28, 5, 41, 59, 297642, tzinfo=datetime.timezone.utc)]},\n    'action': {'r0': [12.0, 13.0, 14.0, 15.0, 16.0],\n     'r1': [17.0, 18.0, 19.0, 20.0, 21.0],\n     'r2': [22.0, 23.0, 24.0, 25.0, 26.0],\n     'speed': [40.0, 50.0, 60.0],\n     'throttle': [0.0, 0.25, 0.5, 0.75, 1.0],\n     'timestep': [datetime.datetime(2023, 9, 28, 5, 41, 59, 337642, tzinfo=datetime.timezone.utc),\n      datetime.datetime(2023, 9, 28, 5, 41, 59, 357642, tzinfo=datetime.timezone.utc),\n      datetime.datetime(2023, 9, 28, 5, 41, 59, 377642, tzinfo=datetime.timezone.utc)]},\n    'reward': {'work': [27.0],\n     'timestep': [datetime.datetime(2023, 9, 28, 5, 41, 59, 337642, tzinfo=datetime.timezone.utc)]},\n    'nstate': {'velocity': [28.0, 29.0, 30.0, 31.0],\n     'thrust': [32.0, 33.0, 34.0, 35.0],\n     'brake': [36.0, 37.0, 38.0, 39.0],\n     'timestep': [datetime.datetime(2023, 9, 28, 5, 42, 4, 237642, tzinfo=datetime.timezone.utc),\n      datetime.datetime(2023, 9, 28, 5, 42, 4, 257642, tzinfo=datetime.timezone.utc),\n      datetime.datetime(2023, 9, 28, 5, 42, 4, 277642, tzinfo=datetime.timezone.utc),\n      datetime.datetime(2023, 9, 28, 5, 42, 4, 297642, tzinfo=datetime.timezone.utc)]}},\n   {'timestamp': 1695890519237642,\n    'state': {'velocity': [0.0, 1.0, 2.0, 3.0],\n     'thrust': [4.0, 5.0, 6.0, 7.0],\n     'brake': [8.0, 9.0, 10.0, 11.0],\n     'timestep': [datetime.datetime(2023, 9, 28, 5, 41, 59, 237642, tzinfo=datetime.timezone.utc),\n      datetime.datetime(2023, 9, 28, 5, 41, 59, 257642, tzinfo=datetime.timezone.utc),\n      datetime.datetime(2023, 9, 28, 5, 41, 59, 277642, tzinfo=datetime.timezone.utc),\n      datetime.datetime(2023, 9, 28, 5, 41, 59, 297642, tzinfo=datetime.timezone.utc)]},\n    'action': {'r0': [12.0, 13.0, 14.0, 15.0, 16.0],\n     'r1': [17.0, 18.0, 19.0, 20.0, 21.0],\n     'r2': [22.0, 23.0, 24.0, 25.0, 26.0],\n     'speed': [40.0, 50.0, 60.0],\n     'throttle': [0.0, 0.25, 0.5, 0.75, 1.0],\n     'timestep': [datetime.datetime(2023, 9, 28, 5, 41, 59, 337642, tzinfo=datetime.timezone.utc),\n      datetime.datetime(2023, 9, 28, 5, 41, 59, 357642, tzinfo=datetime.timezone.utc),\n      datetime.datetime(2023, 9, 28, 5, 41, 59, 377642, tzinfo=datetime.timezone.utc)]},\n    'reward': {'work': [27.0],\n     'timestep': [datetime.datetime(2023, 9, 28, 5, 41, 59, 337642, tzinfo=datetime.timezone.utc)]},\n    'nstate': {'velocity': [28.0, 29.0, 30.0, 31.0],\n     'thrust': [32.0, 33.0, 34.0, 35.0],\n     'brake': [36.0, 37.0, 38.0, 39.0],\n     'timestep': [datetime.datetime(2023, 9, 28, 5, 42, 4, 237642, tzinfo=datetime.timezone.utc),\n      datetime.datetime(2023, 9, 28, 5, 42, 4, 257642, tzinfo=datetime.timezone.utc),\n      datetime.datetime(2023, 9, 28, 5, 42, 4, 277642, tzinfo=datetime.timezone.utc),\n      datetime.datetime(2023, 9, 28, 5, 42, 4, 297642, tzinfo=datetime.timezone.utc)]}},\n   {'timestamp': 1695894119237642,\n    'state': {'velocity': [0.0, 1.0, 2.0, 3.0],\n     'thrust': [4.0, 5.0, 6.0, 7.0],\n     'brake': [8.0, 9.0, 10.0, 11.0],\n     'timestep': [datetime.datetime(2023, 9, 28, 5, 41, 59, 237642, tzinfo=datetime.timezone.utc),\n      datetime.datetime(2023, 9, 28, 5, 41, 59, 257642, tzinfo=datetime.timezone.utc),\n      datetime.datetime(2023, 9, 28, 5, 41, 59, 277642, tzinfo=datetime.timezone.utc),\n      datetime.datetime(2023, 9, 28, 5, 41, 59, 297642, tzinfo=datetime.timezone.utc)]},\n    'action': {'r0': [12.0, 13.0, 14.0, 15.0, 16.0],\n     'r1': [17.0, 18.0, 19.0, 20.0, 21.0],\n     'r2': [22.0, 23.0, 24.0, 25.0, 26.0],\n     'speed': [40.0, 50.0, 60.0],\n     'throttle': [0.0, 0.25, 0.5, 0.75, 1.0],\n     'timestep': [datetime.datetime(2023, 9, 28, 5, 41, 59, 337642, tzinfo=datetime.timezone.utc),\n      datetime.datetime(2023, 9, 28, 5, 41, 59, 357642, tzinfo=datetime.timezone.utc),\n      datetime.datetime(2023, 9, 28, 5, 41, 59, 377642, tzinfo=datetime.timezone.utc)]},\n    'reward': {'work': [27.0],\n     'timestep': [datetime.datetime(2023, 9, 28, 5, 41, 59, 337642, tzinfo=datetime.timezone.utc)]},\n    'nstate': {'velocity': [28.0, 29.0, 30.0, 31.0],\n     'thrust': [32.0, 33.0, 34.0, 35.0],\n     'brake': [36.0, 37.0, 38.0, 39.0],\n     'timestep': [datetime.datetime(2023, 9, 28, 5, 42, 4, 237642, tzinfo=datetime.timezone.utc),\n      datetime.datetime(2023, 9, 28, 5, 42, 4, 257642, tzinfo=datetime.timezone.utc),\n      datetime.datetime(2023, 9, 28, 5, 42, 4, 277642, tzinfo=datetime.timezone.utc),\n      datetime.datetime(2023, 9, 28, 5, 42, 4, 297642, tzinfo=datetime.timezone.utc)]}},\n   {'timestamp': 1695897719237642,\n    'state': {'velocity': [0.0, 1.0, 2.0, 3.0],\n     'thrust': [4.0, 5.0, 6.0, 7.0],\n     'brake': [8.0, 9.0, 10.0, 11.0],\n     'timestep': [datetime.datetime(2023, 9, 28, 5, 41, 59, 237642, tzinfo=datetime.timezone.utc),\n      datetime.datetime(2023, 9, 28, 5, 41, 59, 257642, tzinfo=datetime.timezone.utc),\n      datetime.datetime(2023, 9, 28, 5, 41, 59, 277642, tzinfo=datetime.timezone.utc),\n      datetime.datetime(2023, 9, 28, 5, 41, 59, 297642, tzinfo=datetime.timezone.utc)]},\n    'action': {'r0': [12.0, 13.0, 14.0, 15.0, 16.0],\n     'r1': [17.0, 18.0, 19.0, 20.0, 21.0],\n     'r2': [22.0, 23.0, 24.0, 25.0, 26.0],\n     'speed': [40.0, 50.0, 60.0],\n     'throttle': [0.0, 0.25, 0.5, 0.75, 1.0],\n     'timestep': [datetime.datetime(2023, 9, 28, 5, 41, 59, 337642, tzinfo=datetime.timezone.utc),\n      datetime.datetime(2023, 9, 28, 5, 41, 59, 357642, tzinfo=datetime.timezone.utc),\n      datetime.datetime(2023, 9, 28, 5, 41, 59, 377642, tzinfo=datetime.timezone.utc)]},\n    'reward': {'work': [27.0],\n     'timestep': [datetime.datetime(2023, 9, 28, 5, 41, 59, 337642, tzinfo=datetime.timezone.utc)]},\n    'nstate': {'velocity': [28.0, 29.0, 30.0, 31.0],\n     'thrust': [32.0, 33.0, 34.0, 35.0],\n     'brake': [36.0, 37.0, 38.0, 39.0],\n     'timestep': [datetime.datetime(2023, 9, 28, 5, 42, 4, 237642, tzinfo=datetime.timezone.utc),\n      datetime.datetime(2023, 9, 28, 5, 42, 4, 257642, tzinfo=datetime.timezone.utc),\n      datetime.datetime(2023, 9, 28, 5, 42, 4, 277642, tzinfo=datetime.timezone.utc),\n      datetime.datetime(2023, 9, 28, 5, 42, 4, 297642, tzinfo=datetime.timezone.utc)]}}]})"
     },
     "execution_count": 18,
     "metadata": {},
     "output_type": "execute_result"
    }
   ],
   "source": [
    "b_episodes_read = db.read_avro(\"bag_episodes.*.avro\")\n",
    "print(b_episodes_read.npartitions)\n",
    "b_episodes_read.take(6, npartitions=6)"
   ],
   "metadata": {
    "collapsed": false,
    "ExecuteTime": {
     "end_time": "2023-09-28T05:42:00.983237372Z",
     "start_time": "2023-09-28T05:42:00.289183815Z"
    }
   },
   "id": "9f9039a243b8c3f6"
  },
  {
   "cell_type": "code",
   "execution_count": 19,
   "outputs": [
    {
     "data": {
      "text/plain": "dict"
     },
     "execution_count": 19,
     "metadata": {},
     "output_type": "execute_result"
    },
    {
     "data": {
      "text/plain": "2"
     },
     "execution_count": 19,
     "metadata": {},
     "output_type": "execute_result"
    },
    {
     "name": "stdout",
     "output_type": "stream",
     "text": [
      "vehicle VB7\n",
      "driver wang-cheng\n",
      "episodestart 1695879719237642\n",
      "state_specs {'state_unit_codes': {'velocity_unit_code': 'kph', 'thrust_unit_code': 'pct', 'brake_unit_code': 'pct'}, 'state_number': 3, 'unit_number_per_state': 4, 'unit_duration': 1, 'frequency': 50}\n",
      "action_specs {'action_unit_code': 'nm', 'action_row_number': 4, 'action_column_number': 17}\n",
      "reward_specs {'reward_unit_code': 'wh'}\n",
      "site anting\n"
     ]
    },
    {
     "data": {
      "text/plain": "{'state_specs': {'state_unit_codes': {'velocity_unit_code': 'kph',\n   'thrust_unit_code': 'pct',\n   'brake_unit_code': 'pct'},\n  'state_number': 3,\n  'unit_number_per_state': 4,\n  'unit_duration': 1,\n  'frequency': 50},\n 'action_specs': {'action_unit_code': 'nm',\n  'action_row_number': 4,\n  'action_column_number': 17},\n 'reward_specs': {'reward_unit_code': 'wh'},\n 'site': 'anting'}"
     },
     "execution_count": 19,
     "metadata": {},
     "output_type": "execute_result"
    }
   ],
   "source": [
    "an_episode = b_episodes_read.take(2, npartitions=6)\n",
    "type(an_episode[0])\n",
    "len(an_episode)\n",
    "ep_meta = an_episode[0][\"meta\"][\"episode_meta\"]\n",
    "obs_meta = an_episode[0][\"meta\"][\"observation_meta\"]\n",
    "\n",
    "obs_meta1 = an_episode[1][\"meta\"][\"observation_meta\"]\n",
    "for key, val in (ep_meta | obs_meta).items():\n",
    "    print(key, val)\n",
    "\n",
    "obs_meta"
   ],
   "metadata": {
    "collapsed": false,
    "ExecuteTime": {
     "end_time": "2023-09-28T05:42:01.038968572Z",
     "start_time": "2023-09-28T05:42:00.530338071Z"
    }
   },
   "id": "7e2c2fc61ab50638"
  },
  {
   "cell_type": "code",
   "execution_count": 20,
   "outputs": [
    {
     "data": {
      "text/plain": "{'state_specs': {'state_unit_codes': {'velocity_unit_code': 'kph',\n   'thrust_unit_code': 'pct',\n   'brake_unit_code': 'pct'},\n  'state_number': 3,\n  'unit_number_per_state': 4,\n  'unit_duration': 1,\n  'frequency': 50},\n 'action_specs': {'action_unit_code': 'nm',\n  'action_row_number': 4,\n  'action_column_number': 17},\n 'reward_specs': {'reward_unit_code': 'wh'},\n 'site': 'anting'}"
     },
     "execution_count": 20,
     "metadata": {},
     "output_type": "execute_result"
    }
   ],
   "source": [
    "{**obs_meta}"
   ],
   "metadata": {
    "collapsed": false,
    "ExecuteTime": {
     "end_time": "2023-09-28T05:42:01.039176011Z",
     "start_time": "2023-09-28T05:42:00.675652362Z"
    }
   },
   "id": "213448aff10963c"
  },
  {
   "cell_type": "code",
   "execution_count": 21,
   "outputs": [
    {
     "data": {
      "text/plain": "True"
     },
     "execution_count": 21,
     "metadata": {},
     "output_type": "execute_result"
    },
    {
     "data": {
      "text/plain": "{'state_specs': {'state_unit_codes': {'velocity_unit_code': 'kph',\n   'thrust_unit_code': 'pct',\n   'brake_unit_code': 'pct'},\n  'state_number': 3,\n  'unit_number_per_state': 4,\n  'unit_duration': 1.0,\n  'frequency': 50},\n 'action_specs': {'action_unit_code': 'nm',\n  'action_row_number': 4,\n  'action_column_number': 17},\n 'reward_specs': {'reward_unit_code': 'wh', 'reward_number': 1},\n 'site': 'anting'}"
     },
     "execution_count": 21,
     "metadata": {},
     "output_type": "execute_result"
    }
   ],
   "source": [
    "from eos.data_io.struct.eos_data import ObservationMeta\n",
    "\n",
    "meta1 = ObservationMeta(**obs_meta1)\n",
    "meta = ObservationMeta(**obs_meta)\n",
    "meta1.have_same_meta(meta)\n",
    "meta1.model_dump()"
   ],
   "metadata": {
    "collapsed": false,
    "ExecuteTime": {
     "end_time": "2023-09-28T05:42:01.039338248Z",
     "start_time": "2023-09-28T05:42:00.718402439Z"
    }
   },
   "id": "c49f1da9faa69065"
  },
  {
   "cell_type": "code",
   "execution_count": 22,
   "outputs": [
    {
     "name": "stdout",
     "output_type": "stream",
     "text": [
      "8\n"
     ]
    },
    {
     "name": "stderr",
     "output_type": "stream",
     "text": [
      "/dpt/micromamba/envs/meos/lib/python3.10/site-packages/dask/bag/core.py:2511: UserWarning: Insufficient elements for `take`. 6 elements requested, only 5 elements available. Try passing larger `npartitions` to `take`.\n",
      "  warnings.warn(\n"
     ]
    },
    {
     "data": {
      "text/plain": "({'episodestart': 1695879719237642,\n  'meta': {'episode_meta': {'vehicle': 'VB7',\n    'driver': 'wang-cheng',\n    'episodestart': 1695879719237642},\n   'observation_meta': {'state_specs': {'state_unit_codes': {'velocity_unit_code': 'kph',\n      'thrust_unit_code': 'pct',\n      'brake_unit_code': 'pct'},\n     'state_number': 3,\n     'unit_number_per_state': 4,\n     'unit_duration': 1,\n     'frequency': 50},\n    'action_specs': {'action_unit_code': 'nm',\n     'action_row_number': 4,\n     'action_column_number': 17},\n    'reward_specs': {'reward_unit_code': 'wh'},\n    'site': 'anting'}},\n  'sequence': [{'timestamp': 1695883319237642,\n    'state': {'velocity': [0.0, 1.0, 2.0, 3.0],\n     'thrust': [4.0, 5.0, 6.0, 7.0],\n     'brake': [8.0, 9.0, 10.0, 11.0],\n     'timestep': [datetime.datetime(2023, 9, 28, 5, 41, 59, 237642, tzinfo=datetime.timezone.utc),\n      datetime.datetime(2023, 9, 28, 5, 41, 59, 257642, tzinfo=datetime.timezone.utc),\n      datetime.datetime(2023, 9, 28, 5, 41, 59, 277642, tzinfo=datetime.timezone.utc),\n      datetime.datetime(2023, 9, 28, 5, 41, 59, 297642, tzinfo=datetime.timezone.utc)]},\n    'action': {'r0': [12.0, 13.0, 14.0, 15.0, 16.0],\n     'r1': [17.0, 18.0, 19.0, 20.0, 21.0],\n     'r2': [22.0, 23.0, 24.0, 25.0, 26.0],\n     'speed': [40.0, 50.0, 60.0],\n     'throttle': [0.0, 0.25, 0.5, 0.75, 1.0],\n     'timestep': [datetime.datetime(2023, 9, 28, 5, 41, 59, 337642, tzinfo=datetime.timezone.utc),\n      datetime.datetime(2023, 9, 28, 5, 41, 59, 357642, tzinfo=datetime.timezone.utc),\n      datetime.datetime(2023, 9, 28, 5, 41, 59, 377642, tzinfo=datetime.timezone.utc)]},\n    'reward': {'work': [27.0],\n     'timestep': [datetime.datetime(2023, 9, 28, 5, 41, 59, 337642, tzinfo=datetime.timezone.utc)]},\n    'nstate': {'velocity': [28.0, 29.0, 30.0, 31.0],\n     'thrust': [32.0, 33.0, 34.0, 35.0],\n     'brake': [36.0, 37.0, 38.0, 39.0],\n     'timestep': [datetime.datetime(2023, 9, 28, 5, 42, 4, 237642, tzinfo=datetime.timezone.utc),\n      datetime.datetime(2023, 9, 28, 5, 42, 4, 257642, tzinfo=datetime.timezone.utc),\n      datetime.datetime(2023, 9, 28, 5, 42, 4, 277642, tzinfo=datetime.timezone.utc),\n      datetime.datetime(2023, 9, 28, 5, 42, 4, 297642, tzinfo=datetime.timezone.utc)]}},\n   {'timestamp': 1695886919237642,\n    'state': {'velocity': [0.0, 1.0, 2.0, 3.0],\n     'thrust': [4.0, 5.0, 6.0, 7.0],\n     'brake': [8.0, 9.0, 10.0, 11.0],\n     'timestep': [datetime.datetime(2023, 9, 28, 5, 41, 59, 237642, tzinfo=datetime.timezone.utc),\n      datetime.datetime(2023, 9, 28, 5, 41, 59, 257642, tzinfo=datetime.timezone.utc),\n      datetime.datetime(2023, 9, 28, 5, 41, 59, 277642, tzinfo=datetime.timezone.utc),\n      datetime.datetime(2023, 9, 28, 5, 41, 59, 297642, tzinfo=datetime.timezone.utc)]},\n    'action': {'r0': [12.0, 13.0, 14.0, 15.0, 16.0],\n     'r1': [17.0, 18.0, 19.0, 20.0, 21.0],\n     'r2': [22.0, 23.0, 24.0, 25.0, 26.0],\n     'speed': [40.0, 50.0, 60.0],\n     'throttle': [0.0, 0.25, 0.5, 0.75, 1.0],\n     'timestep': [datetime.datetime(2023, 9, 28, 5, 41, 59, 337642, tzinfo=datetime.timezone.utc),\n      datetime.datetime(2023, 9, 28, 5, 41, 59, 357642, tzinfo=datetime.timezone.utc),\n      datetime.datetime(2023, 9, 28, 5, 41, 59, 377642, tzinfo=datetime.timezone.utc)]},\n    'reward': {'work': [27.0],\n     'timestep': [datetime.datetime(2023, 9, 28, 5, 41, 59, 337642, tzinfo=datetime.timezone.utc)]},\n    'nstate': {'velocity': [28.0, 29.0, 30.0, 31.0],\n     'thrust': [32.0, 33.0, 34.0, 35.0],\n     'brake': [36.0, 37.0, 38.0, 39.0],\n     'timestep': [datetime.datetime(2023, 9, 28, 5, 42, 4, 237642, tzinfo=datetime.timezone.utc),\n      datetime.datetime(2023, 9, 28, 5, 42, 4, 257642, tzinfo=datetime.timezone.utc),\n      datetime.datetime(2023, 9, 28, 5, 42, 4, 277642, tzinfo=datetime.timezone.utc),\n      datetime.datetime(2023, 9, 28, 5, 42, 4, 297642, tzinfo=datetime.timezone.utc)]}},\n   {'timestamp': 1695890519237642,\n    'state': {'velocity': [0.0, 1.0, 2.0, 3.0],\n     'thrust': [4.0, 5.0, 6.0, 7.0],\n     'brake': [8.0, 9.0, 10.0, 11.0],\n     'timestep': [datetime.datetime(2023, 9, 28, 5, 41, 59, 237642, tzinfo=datetime.timezone.utc),\n      datetime.datetime(2023, 9, 28, 5, 41, 59, 257642, tzinfo=datetime.timezone.utc),\n      datetime.datetime(2023, 9, 28, 5, 41, 59, 277642, tzinfo=datetime.timezone.utc),\n      datetime.datetime(2023, 9, 28, 5, 41, 59, 297642, tzinfo=datetime.timezone.utc)]},\n    'action': {'r0': [12.0, 13.0, 14.0, 15.0, 16.0],\n     'r1': [17.0, 18.0, 19.0, 20.0, 21.0],\n     'r2': [22.0, 23.0, 24.0, 25.0, 26.0],\n     'speed': [40.0, 50.0, 60.0],\n     'throttle': [0.0, 0.25, 0.5, 0.75, 1.0],\n     'timestep': [datetime.datetime(2023, 9, 28, 5, 41, 59, 337642, tzinfo=datetime.timezone.utc),\n      datetime.datetime(2023, 9, 28, 5, 41, 59, 357642, tzinfo=datetime.timezone.utc),\n      datetime.datetime(2023, 9, 28, 5, 41, 59, 377642, tzinfo=datetime.timezone.utc)]},\n    'reward': {'work': [27.0],\n     'timestep': [datetime.datetime(2023, 9, 28, 5, 41, 59, 337642, tzinfo=datetime.timezone.utc)]},\n    'nstate': {'velocity': [28.0, 29.0, 30.0, 31.0],\n     'thrust': [32.0, 33.0, 34.0, 35.0],\n     'brake': [36.0, 37.0, 38.0, 39.0],\n     'timestep': [datetime.datetime(2023, 9, 28, 5, 42, 4, 237642, tzinfo=datetime.timezone.utc),\n      datetime.datetime(2023, 9, 28, 5, 42, 4, 257642, tzinfo=datetime.timezone.utc),\n      datetime.datetime(2023, 9, 28, 5, 42, 4, 277642, tzinfo=datetime.timezone.utc),\n      datetime.datetime(2023, 9, 28, 5, 42, 4, 297642, tzinfo=datetime.timezone.utc)]}},\n   {'timestamp': 1695894119237642,\n    'state': {'velocity': [0.0, 1.0, 2.0, 3.0],\n     'thrust': [4.0, 5.0, 6.0, 7.0],\n     'brake': [8.0, 9.0, 10.0, 11.0],\n     'timestep': [datetime.datetime(2023, 9, 28, 5, 41, 59, 237642, tzinfo=datetime.timezone.utc),\n      datetime.datetime(2023, 9, 28, 5, 41, 59, 257642, tzinfo=datetime.timezone.utc),\n      datetime.datetime(2023, 9, 28, 5, 41, 59, 277642, tzinfo=datetime.timezone.utc),\n      datetime.datetime(2023, 9, 28, 5, 41, 59, 297642, tzinfo=datetime.timezone.utc)]},\n    'action': {'r0': [12.0, 13.0, 14.0, 15.0, 16.0],\n     'r1': [17.0, 18.0, 19.0, 20.0, 21.0],\n     'r2': [22.0, 23.0, 24.0, 25.0, 26.0],\n     'speed': [40.0, 50.0, 60.0],\n     'throttle': [0.0, 0.25, 0.5, 0.75, 1.0],\n     'timestep': [datetime.datetime(2023, 9, 28, 5, 41, 59, 337642, tzinfo=datetime.timezone.utc),\n      datetime.datetime(2023, 9, 28, 5, 41, 59, 357642, tzinfo=datetime.timezone.utc),\n      datetime.datetime(2023, 9, 28, 5, 41, 59, 377642, tzinfo=datetime.timezone.utc)]},\n    'reward': {'work': [27.0],\n     'timestep': [datetime.datetime(2023, 9, 28, 5, 41, 59, 337642, tzinfo=datetime.timezone.utc)]},\n    'nstate': {'velocity': [28.0, 29.0, 30.0, 31.0],\n     'thrust': [32.0, 33.0, 34.0, 35.0],\n     'brake': [36.0, 37.0, 38.0, 39.0],\n     'timestep': [datetime.datetime(2023, 9, 28, 5, 42, 4, 237642, tzinfo=datetime.timezone.utc),\n      datetime.datetime(2023, 9, 28, 5, 42, 4, 257642, tzinfo=datetime.timezone.utc),\n      datetime.datetime(2023, 9, 28, 5, 42, 4, 277642, tzinfo=datetime.timezone.utc),\n      datetime.datetime(2023, 9, 28, 5, 42, 4, 297642, tzinfo=datetime.timezone.utc)]}},\n   {'timestamp': 1695897719237642,\n    'state': {'velocity': [0.0, 1.0, 2.0, 3.0],\n     'thrust': [4.0, 5.0, 6.0, 7.0],\n     'brake': [8.0, 9.0, 10.0, 11.0],\n     'timestep': [datetime.datetime(2023, 9, 28, 5, 41, 59, 237642, tzinfo=datetime.timezone.utc),\n      datetime.datetime(2023, 9, 28, 5, 41, 59, 257642, tzinfo=datetime.timezone.utc),\n      datetime.datetime(2023, 9, 28, 5, 41, 59, 277642, tzinfo=datetime.timezone.utc),\n      datetime.datetime(2023, 9, 28, 5, 41, 59, 297642, tzinfo=datetime.timezone.utc)]},\n    'action': {'r0': [12.0, 13.0, 14.0, 15.0, 16.0],\n     'r1': [17.0, 18.0, 19.0, 20.0, 21.0],\n     'r2': [22.0, 23.0, 24.0, 25.0, 26.0],\n     'speed': [40.0, 50.0, 60.0],\n     'throttle': [0.0, 0.25, 0.5, 0.75, 1.0],\n     'timestep': [datetime.datetime(2023, 9, 28, 5, 41, 59, 337642, tzinfo=datetime.timezone.utc),\n      datetime.datetime(2023, 9, 28, 5, 41, 59, 357642, tzinfo=datetime.timezone.utc),\n      datetime.datetime(2023, 9, 28, 5, 41, 59, 377642, tzinfo=datetime.timezone.utc)]},\n    'reward': {'work': [27.0],\n     'timestep': [datetime.datetime(2023, 9, 28, 5, 41, 59, 337642, tzinfo=datetime.timezone.utc)]},\n    'nstate': {'velocity': [28.0, 29.0, 30.0, 31.0],\n     'thrust': [32.0, 33.0, 34.0, 35.0],\n     'brake': [36.0, 37.0, 38.0, 39.0],\n     'timestep': [datetime.datetime(2023, 9, 28, 5, 42, 4, 237642, tzinfo=datetime.timezone.utc),\n      datetime.datetime(2023, 9, 28, 5, 42, 4, 257642, tzinfo=datetime.timezone.utc),\n      datetime.datetime(2023, 9, 28, 5, 42, 4, 277642, tzinfo=datetime.timezone.utc),\n      datetime.datetime(2023, 9, 28, 5, 42, 4, 297642, tzinfo=datetime.timezone.utc)]}}]},\n {'episodestart': 1695735719297357,\n  'meta': {'episode_meta': {'vehicle': 'VB7',\n    'driver': 'zheng-longfei',\n    'episodestart': 1695735719297357},\n   'observation_meta': {'state_specs': {'state_unit_codes': {'velocity_unit_code': 'kph',\n      'thrust_unit_code': 'pct',\n      'brake_unit_code': 'pct'},\n     'state_number': 3,\n     'unit_number_per_state': 4,\n     'unit_duration': 1,\n     'frequency': 50},\n    'action_specs': {'action_unit_code': 'nm',\n     'action_row_number': 4,\n     'action_column_number': 17},\n    'reward_specs': {'reward_unit_code': 'wh'},\n    'site': 'anting'}},\n  'sequence': [{'timestamp': 1695886919237642,\n    'state': {'velocity': [0.0, 1.0, 2.0, 3.0],\n     'thrust': [4.0, 5.0, 6.0, 7.0],\n     'brake': [8.0, 9.0, 10.0, 11.0],\n     'timestep': [datetime.datetime(2023, 9, 28, 5, 41, 59, 237642, tzinfo=datetime.timezone.utc),\n      datetime.datetime(2023, 9, 28, 5, 41, 59, 257642, tzinfo=datetime.timezone.utc),\n      datetime.datetime(2023, 9, 28, 5, 41, 59, 277642, tzinfo=datetime.timezone.utc),\n      datetime.datetime(2023, 9, 28, 5, 41, 59, 297642, tzinfo=datetime.timezone.utc)]},\n    'action': {'r0': [12.0, 13.0, 14.0, 15.0, 16.0],\n     'r1': [17.0, 18.0, 19.0, 20.0, 21.0],\n     'r2': [22.0, 23.0, 24.0, 25.0, 26.0],\n     'speed': [40.0, 50.0, 60.0],\n     'throttle': [0.0, 0.25, 0.5, 0.75, 1.0],\n     'timestep': [datetime.datetime(2023, 9, 28, 5, 41, 59, 337642, tzinfo=datetime.timezone.utc),\n      datetime.datetime(2023, 9, 28, 5, 41, 59, 357642, tzinfo=datetime.timezone.utc),\n      datetime.datetime(2023, 9, 28, 5, 41, 59, 377642, tzinfo=datetime.timezone.utc)]},\n    'reward': {'work': [27.0],\n     'timestep': [datetime.datetime(2023, 9, 28, 5, 41, 59, 337642, tzinfo=datetime.timezone.utc)]},\n    'nstate': {'velocity': [28.0, 29.0, 30.0, 31.0],\n     'thrust': [32.0, 33.0, 34.0, 35.0],\n     'brake': [36.0, 37.0, 38.0, 39.0],\n     'timestep': [datetime.datetime(2023, 9, 28, 5, 42, 4, 237642, tzinfo=datetime.timezone.utc),\n      datetime.datetime(2023, 9, 28, 5, 42, 4, 257642, tzinfo=datetime.timezone.utc),\n      datetime.datetime(2023, 9, 28, 5, 42, 4, 277642, tzinfo=datetime.timezone.utc),\n      datetime.datetime(2023, 9, 28, 5, 42, 4, 297642, tzinfo=datetime.timezone.utc)]}},\n   {'timestamp': 1695894119237642,\n    'state': {'velocity': [0.0, 1.0, 2.0, 3.0],\n     'thrust': [4.0, 5.0, 6.0, 7.0],\n     'brake': [8.0, 9.0, 10.0, 11.0],\n     'timestep': [datetime.datetime(2023, 9, 28, 5, 41, 59, 237642, tzinfo=datetime.timezone.utc),\n      datetime.datetime(2023, 9, 28, 5, 41, 59, 257642, tzinfo=datetime.timezone.utc),\n      datetime.datetime(2023, 9, 28, 5, 41, 59, 277642, tzinfo=datetime.timezone.utc),\n      datetime.datetime(2023, 9, 28, 5, 41, 59, 297642, tzinfo=datetime.timezone.utc)]},\n    'action': {'r0': [12.0, 13.0, 14.0, 15.0, 16.0],\n     'r1': [17.0, 18.0, 19.0, 20.0, 21.0],\n     'r2': [22.0, 23.0, 24.0, 25.0, 26.0],\n     'speed': [40.0, 50.0, 60.0],\n     'throttle': [0.0, 0.25, 0.5, 0.75, 1.0],\n     'timestep': [datetime.datetime(2023, 9, 28, 5, 41, 59, 337642, tzinfo=datetime.timezone.utc),\n      datetime.datetime(2023, 9, 28, 5, 41, 59, 357642, tzinfo=datetime.timezone.utc),\n      datetime.datetime(2023, 9, 28, 5, 41, 59, 377642, tzinfo=datetime.timezone.utc)]},\n    'reward': {'work': [27.0],\n     'timestep': [datetime.datetime(2023, 9, 28, 5, 41, 59, 337642, tzinfo=datetime.timezone.utc)]},\n    'nstate': {'velocity': [28.0, 29.0, 30.0, 31.0],\n     'thrust': [32.0, 33.0, 34.0, 35.0],\n     'brake': [36.0, 37.0, 38.0, 39.0],\n     'timestep': [datetime.datetime(2023, 9, 28, 5, 42, 4, 237642, tzinfo=datetime.timezone.utc),\n      datetime.datetime(2023, 9, 28, 5, 42, 4, 257642, tzinfo=datetime.timezone.utc),\n      datetime.datetime(2023, 9, 28, 5, 42, 4, 277642, tzinfo=datetime.timezone.utc),\n      datetime.datetime(2023, 9, 28, 5, 42, 4, 297642, tzinfo=datetime.timezone.utc)]}}]},\n {'episodestart': 1695476519297357,\n  'meta': {'episode_meta': {'vehicle': 'MP73',\n    'driver': 'wang-cheng',\n    'episodestart': 1695476519297357},\n   'observation_meta': {'state_specs': {'state_unit_codes': {'velocity_unit_code': 'kph',\n      'thrust_unit_code': 'pct',\n      'brake_unit_code': 'pct'},\n     'state_number': 3,\n     'unit_number_per_state': 4,\n     'unit_duration': 1,\n     'frequency': 50},\n    'action_specs': {'action_unit_code': 'nm',\n     'action_row_number': 4,\n     'action_column_number': 17},\n    'reward_specs': {'reward_unit_code': 'wh'},\n    'site': 'anting'}},\n  'sequence': [{'timestamp': 1695886919237642,\n    'state': {'velocity': [0.0, 1.0, 2.0, 3.0],\n     'thrust': [4.0, 5.0, 6.0, 7.0],\n     'brake': [8.0, 9.0, 10.0, 11.0],\n     'timestep': [datetime.datetime(2023, 9, 28, 5, 41, 59, 237642, tzinfo=datetime.timezone.utc),\n      datetime.datetime(2023, 9, 28, 5, 41, 59, 257642, tzinfo=datetime.timezone.utc),\n      datetime.datetime(2023, 9, 28, 5, 41, 59, 277642, tzinfo=datetime.timezone.utc),\n      datetime.datetime(2023, 9, 28, 5, 41, 59, 297642, tzinfo=datetime.timezone.utc)]},\n    'action': {'r0': [12.0, 13.0, 14.0, 15.0, 16.0],\n     'r1': [17.0, 18.0, 19.0, 20.0, 21.0],\n     'r2': [22.0, 23.0, 24.0, 25.0, 26.0],\n     'speed': [40.0, 50.0, 60.0],\n     'throttle': [0.0, 0.25, 0.5, 0.75, 1.0],\n     'timestep': [datetime.datetime(2023, 9, 28, 5, 41, 59, 337642, tzinfo=datetime.timezone.utc),\n      datetime.datetime(2023, 9, 28, 5, 41, 59, 357642, tzinfo=datetime.timezone.utc),\n      datetime.datetime(2023, 9, 28, 5, 41, 59, 377642, tzinfo=datetime.timezone.utc)]},\n    'reward': {'work': [27.0],\n     'timestep': [datetime.datetime(2023, 9, 28, 5, 41, 59, 337642, tzinfo=datetime.timezone.utc)]},\n    'nstate': {'velocity': [28.0, 29.0, 30.0, 31.0],\n     'thrust': [32.0, 33.0, 34.0, 35.0],\n     'brake': [36.0, 37.0, 38.0, 39.0],\n     'timestep': [datetime.datetime(2023, 9, 28, 5, 42, 4, 237642, tzinfo=datetime.timezone.utc),\n      datetime.datetime(2023, 9, 28, 5, 42, 4, 257642, tzinfo=datetime.timezone.utc),\n      datetime.datetime(2023, 9, 28, 5, 42, 4, 277642, tzinfo=datetime.timezone.utc),\n      datetime.datetime(2023, 9, 28, 5, 42, 4, 297642, tzinfo=datetime.timezone.utc)]}},\n   {'timestamp': 1695890519237642,\n    'state': {'velocity': [0.0, 1.0, 2.0, 3.0],\n     'thrust': [4.0, 5.0, 6.0, 7.0],\n     'brake': [8.0, 9.0, 10.0, 11.0],\n     'timestep': [datetime.datetime(2023, 9, 28, 5, 41, 59, 237642, tzinfo=datetime.timezone.utc),\n      datetime.datetime(2023, 9, 28, 5, 41, 59, 257642, tzinfo=datetime.timezone.utc),\n      datetime.datetime(2023, 9, 28, 5, 41, 59, 277642, tzinfo=datetime.timezone.utc),\n      datetime.datetime(2023, 9, 28, 5, 41, 59, 297642, tzinfo=datetime.timezone.utc)]},\n    'action': {'r0': [12.0, 13.0, 14.0, 15.0, 16.0],\n     'r1': [17.0, 18.0, 19.0, 20.0, 21.0],\n     'r2': [22.0, 23.0, 24.0, 25.0, 26.0],\n     'speed': [40.0, 50.0, 60.0],\n     'throttle': [0.0, 0.25, 0.5, 0.75, 1.0],\n     'timestep': [datetime.datetime(2023, 9, 28, 5, 41, 59, 337642, tzinfo=datetime.timezone.utc),\n      datetime.datetime(2023, 9, 28, 5, 41, 59, 357642, tzinfo=datetime.timezone.utc),\n      datetime.datetime(2023, 9, 28, 5, 41, 59, 377642, tzinfo=datetime.timezone.utc)]},\n    'reward': {'work': [27.0],\n     'timestep': [datetime.datetime(2023, 9, 28, 5, 41, 59, 337642, tzinfo=datetime.timezone.utc)]},\n    'nstate': {'velocity': [28.0, 29.0, 30.0, 31.0],\n     'thrust': [32.0, 33.0, 34.0, 35.0],\n     'brake': [36.0, 37.0, 38.0, 39.0],\n     'timestep': [datetime.datetime(2023, 9, 28, 5, 42, 4, 237642, tzinfo=datetime.timezone.utc),\n      datetime.datetime(2023, 9, 28, 5, 42, 4, 257642, tzinfo=datetime.timezone.utc),\n      datetime.datetime(2023, 9, 28, 5, 42, 4, 277642, tzinfo=datetime.timezone.utc),\n      datetime.datetime(2023, 9, 28, 5, 42, 4, 297642, tzinfo=datetime.timezone.utc)]}},\n   {'timestamp': 1695894119237642,\n    'state': {'velocity': [0.0, 1.0, 2.0, 3.0],\n     'thrust': [4.0, 5.0, 6.0, 7.0],\n     'brake': [8.0, 9.0, 10.0, 11.0],\n     'timestep': [datetime.datetime(2023, 9, 28, 5, 41, 59, 237642, tzinfo=datetime.timezone.utc),\n      datetime.datetime(2023, 9, 28, 5, 41, 59, 257642, tzinfo=datetime.timezone.utc),\n      datetime.datetime(2023, 9, 28, 5, 41, 59, 277642, tzinfo=datetime.timezone.utc),\n      datetime.datetime(2023, 9, 28, 5, 41, 59, 297642, tzinfo=datetime.timezone.utc)]},\n    'action': {'r0': [12.0, 13.0, 14.0, 15.0, 16.0],\n     'r1': [17.0, 18.0, 19.0, 20.0, 21.0],\n     'r2': [22.0, 23.0, 24.0, 25.0, 26.0],\n     'speed': [40.0, 50.0, 60.0],\n     'throttle': [0.0, 0.25, 0.5, 0.75, 1.0],\n     'timestep': [datetime.datetime(2023, 9, 28, 5, 41, 59, 337642, tzinfo=datetime.timezone.utc),\n      datetime.datetime(2023, 9, 28, 5, 41, 59, 357642, tzinfo=datetime.timezone.utc),\n      datetime.datetime(2023, 9, 28, 5, 41, 59, 377642, tzinfo=datetime.timezone.utc)]},\n    'reward': {'work': [27.0],\n     'timestep': [datetime.datetime(2023, 9, 28, 5, 41, 59, 337642, tzinfo=datetime.timezone.utc)]},\n    'nstate': {'velocity': [28.0, 29.0, 30.0, 31.0],\n     'thrust': [32.0, 33.0, 34.0, 35.0],\n     'brake': [36.0, 37.0, 38.0, 39.0],\n     'timestep': [datetime.datetime(2023, 9, 28, 5, 42, 4, 237642, tzinfo=datetime.timezone.utc),\n      datetime.datetime(2023, 9, 28, 5, 42, 4, 257642, tzinfo=datetime.timezone.utc),\n      datetime.datetime(2023, 9, 28, 5, 42, 4, 277642, tzinfo=datetime.timezone.utc),\n      datetime.datetime(2023, 9, 28, 5, 42, 4, 297642, tzinfo=datetime.timezone.utc)]}},\n   {'timestamp': 1695897719237642,\n    'state': {'velocity': [0.0, 1.0, 2.0, 3.0],\n     'thrust': [4.0, 5.0, 6.0, 7.0],\n     'brake': [8.0, 9.0, 10.0, 11.0],\n     'timestep': [datetime.datetime(2023, 9, 28, 5, 41, 59, 237642, tzinfo=datetime.timezone.utc),\n      datetime.datetime(2023, 9, 28, 5, 41, 59, 257642, tzinfo=datetime.timezone.utc),\n      datetime.datetime(2023, 9, 28, 5, 41, 59, 277642, tzinfo=datetime.timezone.utc),\n      datetime.datetime(2023, 9, 28, 5, 41, 59, 297642, tzinfo=datetime.timezone.utc)]},\n    'action': {'r0': [12.0, 13.0, 14.0, 15.0, 16.0],\n     'r1': [17.0, 18.0, 19.0, 20.0, 21.0],\n     'r2': [22.0, 23.0, 24.0, 25.0, 26.0],\n     'speed': [40.0, 50.0, 60.0],\n     'throttle': [0.0, 0.25, 0.5, 0.75, 1.0],\n     'timestep': [datetime.datetime(2023, 9, 28, 5, 41, 59, 337642, tzinfo=datetime.timezone.utc),\n      datetime.datetime(2023, 9, 28, 5, 41, 59, 357642, tzinfo=datetime.timezone.utc),\n      datetime.datetime(2023, 9, 28, 5, 41, 59, 377642, tzinfo=datetime.timezone.utc)]},\n    'reward': {'work': [27.0],\n     'timestep': [datetime.datetime(2023, 9, 28, 5, 41, 59, 337642, tzinfo=datetime.timezone.utc)]},\n    'nstate': {'velocity': [28.0, 29.0, 30.0, 31.0],\n     'thrust': [32.0, 33.0, 34.0, 35.0],\n     'brake': [36.0, 37.0, 38.0, 39.0],\n     'timestep': [datetime.datetime(2023, 9, 28, 5, 42, 4, 237642, tzinfo=datetime.timezone.utc),\n      datetime.datetime(2023, 9, 28, 5, 42, 4, 257642, tzinfo=datetime.timezone.utc),\n      datetime.datetime(2023, 9, 28, 5, 42, 4, 277642, tzinfo=datetime.timezone.utc),\n      datetime.datetime(2023, 9, 28, 5, 42, 4, 297642, tzinfo=datetime.timezone.utc)]}}]},\n {'episodestart': 1695390119297357,\n  'meta': {'episode_meta': {'vehicle': 'VB7',\n    'driver': 'wang-cheng',\n    'episodestart': 1695390119297357},\n   'observation_meta': {'state_specs': {'state_unit_codes': {'velocity_unit_code': 'kph',\n      'thrust_unit_code': 'pct',\n      'brake_unit_code': 'pct'},\n     'state_number': 3,\n     'unit_number_per_state': 4,\n     'unit_duration': 1,\n     'frequency': 50},\n    'action_specs': {'action_unit_code': 'nm',\n     'action_row_number': 4,\n     'action_column_number': 17},\n    'reward_specs': {'reward_unit_code': 'wh'},\n    'site': 'anting'}},\n  'sequence': [{'timestamp': 1695886919237642,\n    'state': {'velocity': [0.0, 1.0, 2.0, 3.0],\n     'thrust': [4.0, 5.0, 6.0, 7.0],\n     'brake': [8.0, 9.0, 10.0, 11.0],\n     'timestep': [datetime.datetime(2023, 9, 28, 5, 41, 59, 237642, tzinfo=datetime.timezone.utc),\n      datetime.datetime(2023, 9, 28, 5, 41, 59, 257642, tzinfo=datetime.timezone.utc),\n      datetime.datetime(2023, 9, 28, 5, 41, 59, 277642, tzinfo=datetime.timezone.utc),\n      datetime.datetime(2023, 9, 28, 5, 41, 59, 297642, tzinfo=datetime.timezone.utc)]},\n    'action': {'r0': [12.0, 13.0, 14.0, 15.0, 16.0],\n     'r1': [17.0, 18.0, 19.0, 20.0, 21.0],\n     'r2': [22.0, 23.0, 24.0, 25.0, 26.0],\n     'speed': [40.0, 50.0, 60.0],\n     'throttle': [0.0, 0.25, 0.5, 0.75, 1.0],\n     'timestep': [datetime.datetime(2023, 9, 28, 5, 41, 59, 337642, tzinfo=datetime.timezone.utc),\n      datetime.datetime(2023, 9, 28, 5, 41, 59, 357642, tzinfo=datetime.timezone.utc),\n      datetime.datetime(2023, 9, 28, 5, 41, 59, 377642, tzinfo=datetime.timezone.utc)]},\n    'reward': {'work': [27.0],\n     'timestep': [datetime.datetime(2023, 9, 28, 5, 41, 59, 337642, tzinfo=datetime.timezone.utc)]},\n    'nstate': {'velocity': [28.0, 29.0, 30.0, 31.0],\n     'thrust': [32.0, 33.0, 34.0, 35.0],\n     'brake': [36.0, 37.0, 38.0, 39.0],\n     'timestep': [datetime.datetime(2023, 9, 28, 5, 42, 4, 237642, tzinfo=datetime.timezone.utc),\n      datetime.datetime(2023, 9, 28, 5, 42, 4, 257642, tzinfo=datetime.timezone.utc),\n      datetime.datetime(2023, 9, 28, 5, 42, 4, 277642, tzinfo=datetime.timezone.utc),\n      datetime.datetime(2023, 9, 28, 5, 42, 4, 297642, tzinfo=datetime.timezone.utc)]}},\n   {'timestamp': 1695894119237642,\n    'state': {'velocity': [0.0, 1.0, 2.0, 3.0],\n     'thrust': [4.0, 5.0, 6.0, 7.0],\n     'brake': [8.0, 9.0, 10.0, 11.0],\n     'timestep': [datetime.datetime(2023, 9, 28, 5, 41, 59, 237642, tzinfo=datetime.timezone.utc),\n      datetime.datetime(2023, 9, 28, 5, 41, 59, 257642, tzinfo=datetime.timezone.utc),\n      datetime.datetime(2023, 9, 28, 5, 41, 59, 277642, tzinfo=datetime.timezone.utc),\n      datetime.datetime(2023, 9, 28, 5, 41, 59, 297642, tzinfo=datetime.timezone.utc)]},\n    'action': {'r0': [12.0, 13.0, 14.0, 15.0, 16.0],\n     'r1': [17.0, 18.0, 19.0, 20.0, 21.0],\n     'r2': [22.0, 23.0, 24.0, 25.0, 26.0],\n     'speed': [40.0, 50.0, 60.0],\n     'throttle': [0.0, 0.25, 0.5, 0.75, 1.0],\n     'timestep': [datetime.datetime(2023, 9, 28, 5, 41, 59, 337642, tzinfo=datetime.timezone.utc),\n      datetime.datetime(2023, 9, 28, 5, 41, 59, 357642, tzinfo=datetime.timezone.utc),\n      datetime.datetime(2023, 9, 28, 5, 41, 59, 377642, tzinfo=datetime.timezone.utc)]},\n    'reward': {'work': [27.0],\n     'timestep': [datetime.datetime(2023, 9, 28, 5, 41, 59, 337642, tzinfo=datetime.timezone.utc)]},\n    'nstate': {'velocity': [28.0, 29.0, 30.0, 31.0],\n     'thrust': [32.0, 33.0, 34.0, 35.0],\n     'brake': [36.0, 37.0, 38.0, 39.0],\n     'timestep': [datetime.datetime(2023, 9, 28, 5, 42, 4, 237642, tzinfo=datetime.timezone.utc),\n      datetime.datetime(2023, 9, 28, 5, 42, 4, 257642, tzinfo=datetime.timezone.utc),\n      datetime.datetime(2023, 9, 28, 5, 42, 4, 277642, tzinfo=datetime.timezone.utc),\n      datetime.datetime(2023, 9, 28, 5, 42, 4, 297642, tzinfo=datetime.timezone.utc)]}}]},\n {'episodestart': 1695303719297357,\n  'meta': {'episode_meta': {'vehicle': 'MP73',\n    'driver': 'zheng-longfei',\n    'episodestart': 1695303719297357},\n   'observation_meta': {'state_specs': {'state_unit_codes': {'velocity_unit_code': 'kph',\n      'thrust_unit_code': 'pct',\n      'brake_unit_code': 'pct'},\n     'state_number': 3,\n     'unit_number_per_state': 4,\n     'unit_duration': 1,\n     'frequency': 50},\n    'action_specs': {'action_unit_code': 'nm',\n     'action_row_number': 4,\n     'action_column_number': 17},\n    'reward_specs': {'reward_unit_code': 'wh'},\n    'site': 'anting'}},\n  'sequence': [{'timestamp': 1695886919237642,\n    'state': {'velocity': [0.0, 1.0, 2.0, 3.0],\n     'thrust': [4.0, 5.0, 6.0, 7.0],\n     'brake': [8.0, 9.0, 10.0, 11.0],\n     'timestep': [datetime.datetime(2023, 9, 28, 5, 41, 59, 237642, tzinfo=datetime.timezone.utc),\n      datetime.datetime(2023, 9, 28, 5, 41, 59, 257642, tzinfo=datetime.timezone.utc),\n      datetime.datetime(2023, 9, 28, 5, 41, 59, 277642, tzinfo=datetime.timezone.utc),\n      datetime.datetime(2023, 9, 28, 5, 41, 59, 297642, tzinfo=datetime.timezone.utc)]},\n    'action': {'r0': [12.0, 13.0, 14.0, 15.0, 16.0],\n     'r1': [17.0, 18.0, 19.0, 20.0, 21.0],\n     'r2': [22.0, 23.0, 24.0, 25.0, 26.0],\n     'speed': [40.0, 50.0, 60.0],\n     'throttle': [0.0, 0.25, 0.5, 0.75, 1.0],\n     'timestep': [datetime.datetime(2023, 9, 28, 5, 41, 59, 337642, tzinfo=datetime.timezone.utc),\n      datetime.datetime(2023, 9, 28, 5, 41, 59, 357642, tzinfo=datetime.timezone.utc),\n      datetime.datetime(2023, 9, 28, 5, 41, 59, 377642, tzinfo=datetime.timezone.utc)]},\n    'reward': {'work': [27.0],\n     'timestep': [datetime.datetime(2023, 9, 28, 5, 41, 59, 337642, tzinfo=datetime.timezone.utc)]},\n    'nstate': {'velocity': [28.0, 29.0, 30.0, 31.0],\n     'thrust': [32.0, 33.0, 34.0, 35.0],\n     'brake': [36.0, 37.0, 38.0, 39.0],\n     'timestep': [datetime.datetime(2023, 9, 28, 5, 42, 4, 237642, tzinfo=datetime.timezone.utc),\n      datetime.datetime(2023, 9, 28, 5, 42, 4, 257642, tzinfo=datetime.timezone.utc),\n      datetime.datetime(2023, 9, 28, 5, 42, 4, 277642, tzinfo=datetime.timezone.utc),\n      datetime.datetime(2023, 9, 28, 5, 42, 4, 297642, tzinfo=datetime.timezone.utc)]}},\n   {'timestamp': 1695890519237642,\n    'state': {'velocity': [0.0, 1.0, 2.0, 3.0],\n     'thrust': [4.0, 5.0, 6.0, 7.0],\n     'brake': [8.0, 9.0, 10.0, 11.0],\n     'timestep': [datetime.datetime(2023, 9, 28, 5, 41, 59, 237642, tzinfo=datetime.timezone.utc),\n      datetime.datetime(2023, 9, 28, 5, 41, 59, 257642, tzinfo=datetime.timezone.utc),\n      datetime.datetime(2023, 9, 28, 5, 41, 59, 277642, tzinfo=datetime.timezone.utc),\n      datetime.datetime(2023, 9, 28, 5, 41, 59, 297642, tzinfo=datetime.timezone.utc)]},\n    'action': {'r0': [12.0, 13.0, 14.0, 15.0, 16.0],\n     'r1': [17.0, 18.0, 19.0, 20.0, 21.0],\n     'r2': [22.0, 23.0, 24.0, 25.0, 26.0],\n     'speed': [40.0, 50.0, 60.0],\n     'throttle': [0.0, 0.25, 0.5, 0.75, 1.0],\n     'timestep': [datetime.datetime(2023, 9, 28, 5, 41, 59, 337642, tzinfo=datetime.timezone.utc),\n      datetime.datetime(2023, 9, 28, 5, 41, 59, 357642, tzinfo=datetime.timezone.utc),\n      datetime.datetime(2023, 9, 28, 5, 41, 59, 377642, tzinfo=datetime.timezone.utc)]},\n    'reward': {'work': [27.0],\n     'timestep': [datetime.datetime(2023, 9, 28, 5, 41, 59, 337642, tzinfo=datetime.timezone.utc)]},\n    'nstate': {'velocity': [28.0, 29.0, 30.0, 31.0],\n     'thrust': [32.0, 33.0, 34.0, 35.0],\n     'brake': [36.0, 37.0, 38.0, 39.0],\n     'timestep': [datetime.datetime(2023, 9, 28, 5, 42, 4, 237642, tzinfo=datetime.timezone.utc),\n      datetime.datetime(2023, 9, 28, 5, 42, 4, 257642, tzinfo=datetime.timezone.utc),\n      datetime.datetime(2023, 9, 28, 5, 42, 4, 277642, tzinfo=datetime.timezone.utc),\n      datetime.datetime(2023, 9, 28, 5, 42, 4, 297642, tzinfo=datetime.timezone.utc)]}},\n   {'timestamp': 1695894119237642,\n    'state': {'velocity': [0.0, 1.0, 2.0, 3.0],\n     'thrust': [4.0, 5.0, 6.0, 7.0],\n     'brake': [8.0, 9.0, 10.0, 11.0],\n     'timestep': [datetime.datetime(2023, 9, 28, 5, 41, 59, 237642, tzinfo=datetime.timezone.utc),\n      datetime.datetime(2023, 9, 28, 5, 41, 59, 257642, tzinfo=datetime.timezone.utc),\n      datetime.datetime(2023, 9, 28, 5, 41, 59, 277642, tzinfo=datetime.timezone.utc),\n      datetime.datetime(2023, 9, 28, 5, 41, 59, 297642, tzinfo=datetime.timezone.utc)]},\n    'action': {'r0': [12.0, 13.0, 14.0, 15.0, 16.0],\n     'r1': [17.0, 18.0, 19.0, 20.0, 21.0],\n     'r2': [22.0, 23.0, 24.0, 25.0, 26.0],\n     'speed': [40.0, 50.0, 60.0],\n     'throttle': [0.0, 0.25, 0.5, 0.75, 1.0],\n     'timestep': [datetime.datetime(2023, 9, 28, 5, 41, 59, 337642, tzinfo=datetime.timezone.utc),\n      datetime.datetime(2023, 9, 28, 5, 41, 59, 357642, tzinfo=datetime.timezone.utc),\n      datetime.datetime(2023, 9, 28, 5, 41, 59, 377642, tzinfo=datetime.timezone.utc)]},\n    'reward': {'work': [27.0],\n     'timestep': [datetime.datetime(2023, 9, 28, 5, 41, 59, 337642, tzinfo=datetime.timezone.utc)]},\n    'nstate': {'velocity': [28.0, 29.0, 30.0, 31.0],\n     'thrust': [32.0, 33.0, 34.0, 35.0],\n     'brake': [36.0, 37.0, 38.0, 39.0],\n     'timestep': [datetime.datetime(2023, 9, 28, 5, 42, 4, 237642, tzinfo=datetime.timezone.utc),\n      datetime.datetime(2023, 9, 28, 5, 42, 4, 257642, tzinfo=datetime.timezone.utc),\n      datetime.datetime(2023, 9, 28, 5, 42, 4, 277642, tzinfo=datetime.timezone.utc),\n      datetime.datetime(2023, 9, 28, 5, 42, 4, 297642, tzinfo=datetime.timezone.utc)]}},\n   {'timestamp': 1695897719237642,\n    'state': {'velocity': [0.0, 1.0, 2.0, 3.0],\n     'thrust': [4.0, 5.0, 6.0, 7.0],\n     'brake': [8.0, 9.0, 10.0, 11.0],\n     'timestep': [datetime.datetime(2023, 9, 28, 5, 41, 59, 237642, tzinfo=datetime.timezone.utc),\n      datetime.datetime(2023, 9, 28, 5, 41, 59, 257642, tzinfo=datetime.timezone.utc),\n      datetime.datetime(2023, 9, 28, 5, 41, 59, 277642, tzinfo=datetime.timezone.utc),\n      datetime.datetime(2023, 9, 28, 5, 41, 59, 297642, tzinfo=datetime.timezone.utc)]},\n    'action': {'r0': [12.0, 13.0, 14.0, 15.0, 16.0],\n     'r1': [17.0, 18.0, 19.0, 20.0, 21.0],\n     'r2': [22.0, 23.0, 24.0, 25.0, 26.0],\n     'speed': [40.0, 50.0, 60.0],\n     'throttle': [0.0, 0.25, 0.5, 0.75, 1.0],\n     'timestep': [datetime.datetime(2023, 9, 28, 5, 41, 59, 337642, tzinfo=datetime.timezone.utc),\n      datetime.datetime(2023, 9, 28, 5, 41, 59, 357642, tzinfo=datetime.timezone.utc),\n      datetime.datetime(2023, 9, 28, 5, 41, 59, 377642, tzinfo=datetime.timezone.utc)]},\n    'reward': {'work': [27.0],\n     'timestep': [datetime.datetime(2023, 9, 28, 5, 41, 59, 337642, tzinfo=datetime.timezone.utc)]},\n    'nstate': {'velocity': [28.0, 29.0, 30.0, 31.0],\n     'thrust': [32.0, 33.0, 34.0, 35.0],\n     'brake': [36.0, 37.0, 38.0, 39.0],\n     'timestep': [datetime.datetime(2023, 9, 28, 5, 42, 4, 237642, tzinfo=datetime.timezone.utc),\n      datetime.datetime(2023, 9, 28, 5, 42, 4, 257642, tzinfo=datetime.timezone.utc),\n      datetime.datetime(2023, 9, 28, 5, 42, 4, 277642, tzinfo=datetime.timezone.utc),\n      datetime.datetime(2023, 9, 28, 5, 42, 4, 297642, tzinfo=datetime.timezone.utc)]}}]})"
     },
     "execution_count": 22,
     "metadata": {},
     "output_type": "execute_result"
    }
   ],
   "source": [
    "b_episodes_read = db.read_avro(\"bag_episodes.*.avro\")\n",
    "print(b_episodes_read.npartitions)\n",
    "b_episodes_read.take(6, npartitions=6)"
   ],
   "metadata": {
    "collapsed": false,
    "ExecuteTime": {
     "end_time": "2023-09-28T05:42:01.059605631Z",
     "start_time": "2023-09-28T05:42:00.718543628Z"
    }
   },
   "id": "fa12924df7394c75"
  },
  {
   "cell_type": "markdown",
   "source": [
    "# Deduplication"
   ],
   "metadata": {
    "collapsed": false
   },
   "id": "be763d7b2851808f"
  },
  {
   "cell_type": "code",
   "execution_count": 23,
   "outputs": [
    {
     "name": "stdout",
     "output_type": "stream",
     "text": [
      "length: 6\n",
      "vehicle: VB7; driver: wang-cheng; episodestart: 2023-09-28 05:41:59.237642 \n",
      "vehicle: VB7; driver: zheng-longfei; episodestart: 2023-09-26 13:41:59.297357 \n",
      "vehicle: MP73; driver: wang-cheng; episodestart: 2023-09-23 13:41:59.297357 \n",
      "vehicle: VB7; driver: wang-cheng; episodestart: 2023-09-22 13:41:59.297357 \n",
      "vehicle: MP73; driver: zheng-longfei; episodestart: 2023-09-21 13:41:59.297357 \n",
      "vehicle: MP73; driver: zheng-longfei; episodestart: 2023-09-19 14:54:27.750917 \n"
     ]
    }
   ],
   "source": [
    "dicts = b_episodes_read.compute()\n",
    "print(f\"length: {len(dicts)}\")\n",
    "for b in dicts:\n",
    "    b[\"episodestart\"] = pd.to_datetime(b[\"episodestart\"], unit=\"us\")\n",
    "    print(\n",
    "        f\"vehicle: {b['meta']['episode_meta']['vehicle']}; \"\n",
    "        f\"driver: {b['meta']['episode_meta']['driver']}; \"\n",
    "        f\"episodestart: {b['episodestart']} \"\n",
    "    )"
   ],
   "metadata": {
    "collapsed": false,
    "ExecuteTime": {
     "end_time": "2023-09-28T05:42:01.322923426Z",
     "start_time": "2023-09-28T05:42:00.942392027Z"
    }
   },
   "id": "50094c665ab78370"
  },
  {
   "cell_type": "code",
   "execution_count": 24,
   "outputs": [
    {
     "name": "stdout",
     "output_type": "stream",
     "text": [
      "vehicle: VB7; driver: wang-cheng; episodestart: 2023-09-28 05:41:59.237642 \n",
      "vehicle: VB7; driver: zheng-longfei; episodestart: 2023-09-26 13:41:59.297357 \n",
      "vehicle: MP73; driver: wang-cheng; episodestart: 2023-09-23 13:41:59.297357 \n",
      "vehicle: VB7; driver: wang-cheng; episodestart: 2023-09-22 13:41:59.297357 \n",
      "vehicle: MP73; driver: zheng-longfei; episodestart: 2023-09-21 13:41:59.297357 \n",
      "vehicle: MP73; driver: zheng-longfei; episodestart: 2023-09-19 14:54:27.750917 \n"
     ]
    }
   ],
   "source": [
    "dicts = b_episodes_read.distinct(\n",
    "    lambda x: (\n",
    "        x[\"meta\"][\"episode_meta\"][\"driver\"],\n",
    "        x[\"meta\"][\"episode_meta\"][\"vehicle\"],\n",
    "        x[\"meta\"][\"episode_meta\"][\"episodestart\"],\n",
    "    )\n",
    ").compute()\n",
    "for b in dicts:\n",
    "    b[\"episodestart\"] = pd.to_datetime(b[\"episodestart\"], unit=\"us\")\n",
    "    print(\n",
    "        f\"vehicle: {b['meta']['episode_meta']['vehicle']}; \"\n",
    "        f\"driver: {b['meta']['episode_meta']['driver']}; \"\n",
    "        f\"episodestart: {b['episodestart']} \"\n",
    "    )"
   ],
   "metadata": {
    "collapsed": false,
    "ExecuteTime": {
     "end_time": "2023-09-28T05:42:01.355585489Z",
     "start_time": "2023-09-28T05:42:01.104166415Z"
    }
   },
   "id": "19b2ba22bc74a898"
  },
  {
   "cell_type": "code",
   "execution_count": 25,
   "outputs": [
    {
     "data": {
      "text/plain": "6"
     },
     "execution_count": 25,
     "metadata": {},
     "output_type": "execute_result"
    }
   ],
   "source": [
    "len(dicts)"
   ],
   "metadata": {
    "collapsed": false,
    "ExecuteTime": {
     "end_time": "2023-09-28T05:42:01.398004204Z",
     "start_time": "2023-09-28T05:42:01.301289263Z"
    }
   },
   "id": "2ecd6ccef6560e12"
  },
  {
   "cell_type": "markdown",
   "source": [
    "# decode nested dicts to pandas dataframe"
   ],
   "metadata": {
    "collapsed": false
   },
   "id": "781ee1dcd636b3bf"
  },
  {
   "cell_type": "code",
   "execution_count": 26,
   "outputs": [
    {
     "data": {
      "text/plain": "{'episodestart': Timestamp('2023-09-28 05:41:59.237642'),\n 'meta': {'episode_meta': {'vehicle': 'VB7',\n   'driver': 'wang-cheng',\n   'episodestart': 1695879719237642},\n  'observation_meta': {'state_specs': {'state_unit_codes': {'velocity_unit_code': 'kph',\n     'thrust_unit_code': 'pct',\n     'brake_unit_code': 'pct'},\n    'state_number': 3,\n    'unit_number_per_state': 4,\n    'unit_duration': 1,\n    'frequency': 50},\n   'action_specs': {'action_unit_code': 'nm',\n    'action_row_number': 4,\n    'action_column_number': 17},\n   'reward_specs': {'reward_unit_code': 'wh'},\n   'site': 'anting'}},\n 'sequence': [{'timestamp': 1695883319237642,\n   'state': {'velocity': [0.0, 1.0, 2.0, 3.0],\n    'thrust': [4.0, 5.0, 6.0, 7.0],\n    'brake': [8.0, 9.0, 10.0, 11.0],\n    'timestep': [datetime.datetime(2023, 9, 28, 5, 41, 59, 237642, tzinfo=datetime.timezone.utc),\n     datetime.datetime(2023, 9, 28, 5, 41, 59, 257642, tzinfo=datetime.timezone.utc),\n     datetime.datetime(2023, 9, 28, 5, 41, 59, 277642, tzinfo=datetime.timezone.utc),\n     datetime.datetime(2023, 9, 28, 5, 41, 59, 297642, tzinfo=datetime.timezone.utc)]},\n   'action': {'r0': [12.0, 13.0, 14.0, 15.0, 16.0],\n    'r1': [17.0, 18.0, 19.0, 20.0, 21.0],\n    'r2': [22.0, 23.0, 24.0, 25.0, 26.0],\n    'speed': [40.0, 50.0, 60.0],\n    'throttle': [0.0, 0.25, 0.5, 0.75, 1.0],\n    'timestep': [datetime.datetime(2023, 9, 28, 5, 41, 59, 337642, tzinfo=datetime.timezone.utc),\n     datetime.datetime(2023, 9, 28, 5, 41, 59, 357642, tzinfo=datetime.timezone.utc),\n     datetime.datetime(2023, 9, 28, 5, 41, 59, 377642, tzinfo=datetime.timezone.utc)]},\n   'reward': {'work': [27.0],\n    'timestep': [datetime.datetime(2023, 9, 28, 5, 41, 59, 337642, tzinfo=datetime.timezone.utc)]},\n   'nstate': {'velocity': [28.0, 29.0, 30.0, 31.0],\n    'thrust': [32.0, 33.0, 34.0, 35.0],\n    'brake': [36.0, 37.0, 38.0, 39.0],\n    'timestep': [datetime.datetime(2023, 9, 28, 5, 42, 4, 237642, tzinfo=datetime.timezone.utc),\n     datetime.datetime(2023, 9, 28, 5, 42, 4, 257642, tzinfo=datetime.timezone.utc),\n     datetime.datetime(2023, 9, 28, 5, 42, 4, 277642, tzinfo=datetime.timezone.utc),\n     datetime.datetime(2023, 9, 28, 5, 42, 4, 297642, tzinfo=datetime.timezone.utc)]}},\n  {'timestamp': 1695886919237642,\n   'state': {'velocity': [0.0, 1.0, 2.0, 3.0],\n    'thrust': [4.0, 5.0, 6.0, 7.0],\n    'brake': [8.0, 9.0, 10.0, 11.0],\n    'timestep': [datetime.datetime(2023, 9, 28, 5, 41, 59, 237642, tzinfo=datetime.timezone.utc),\n     datetime.datetime(2023, 9, 28, 5, 41, 59, 257642, tzinfo=datetime.timezone.utc),\n     datetime.datetime(2023, 9, 28, 5, 41, 59, 277642, tzinfo=datetime.timezone.utc),\n     datetime.datetime(2023, 9, 28, 5, 41, 59, 297642, tzinfo=datetime.timezone.utc)]},\n   'action': {'r0': [12.0, 13.0, 14.0, 15.0, 16.0],\n    'r1': [17.0, 18.0, 19.0, 20.0, 21.0],\n    'r2': [22.0, 23.0, 24.0, 25.0, 26.0],\n    'speed': [40.0, 50.0, 60.0],\n    'throttle': [0.0, 0.25, 0.5, 0.75, 1.0],\n    'timestep': [datetime.datetime(2023, 9, 28, 5, 41, 59, 337642, tzinfo=datetime.timezone.utc),\n     datetime.datetime(2023, 9, 28, 5, 41, 59, 357642, tzinfo=datetime.timezone.utc),\n     datetime.datetime(2023, 9, 28, 5, 41, 59, 377642, tzinfo=datetime.timezone.utc)]},\n   'reward': {'work': [27.0],\n    'timestep': [datetime.datetime(2023, 9, 28, 5, 41, 59, 337642, tzinfo=datetime.timezone.utc)]},\n   'nstate': {'velocity': [28.0, 29.0, 30.0, 31.0],\n    'thrust': [32.0, 33.0, 34.0, 35.0],\n    'brake': [36.0, 37.0, 38.0, 39.0],\n    'timestep': [datetime.datetime(2023, 9, 28, 5, 42, 4, 237642, tzinfo=datetime.timezone.utc),\n     datetime.datetime(2023, 9, 28, 5, 42, 4, 257642, tzinfo=datetime.timezone.utc),\n     datetime.datetime(2023, 9, 28, 5, 42, 4, 277642, tzinfo=datetime.timezone.utc),\n     datetime.datetime(2023, 9, 28, 5, 42, 4, 297642, tzinfo=datetime.timezone.utc)]}},\n  {'timestamp': 1695890519237642,\n   'state': {'velocity': [0.0, 1.0, 2.0, 3.0],\n    'thrust': [4.0, 5.0, 6.0, 7.0],\n    'brake': [8.0, 9.0, 10.0, 11.0],\n    'timestep': [datetime.datetime(2023, 9, 28, 5, 41, 59, 237642, tzinfo=datetime.timezone.utc),\n     datetime.datetime(2023, 9, 28, 5, 41, 59, 257642, tzinfo=datetime.timezone.utc),\n     datetime.datetime(2023, 9, 28, 5, 41, 59, 277642, tzinfo=datetime.timezone.utc),\n     datetime.datetime(2023, 9, 28, 5, 41, 59, 297642, tzinfo=datetime.timezone.utc)]},\n   'action': {'r0': [12.0, 13.0, 14.0, 15.0, 16.0],\n    'r1': [17.0, 18.0, 19.0, 20.0, 21.0],\n    'r2': [22.0, 23.0, 24.0, 25.0, 26.0],\n    'speed': [40.0, 50.0, 60.0],\n    'throttle': [0.0, 0.25, 0.5, 0.75, 1.0],\n    'timestep': [datetime.datetime(2023, 9, 28, 5, 41, 59, 337642, tzinfo=datetime.timezone.utc),\n     datetime.datetime(2023, 9, 28, 5, 41, 59, 357642, tzinfo=datetime.timezone.utc),\n     datetime.datetime(2023, 9, 28, 5, 41, 59, 377642, tzinfo=datetime.timezone.utc)]},\n   'reward': {'work': [27.0],\n    'timestep': [datetime.datetime(2023, 9, 28, 5, 41, 59, 337642, tzinfo=datetime.timezone.utc)]},\n   'nstate': {'velocity': [28.0, 29.0, 30.0, 31.0],\n    'thrust': [32.0, 33.0, 34.0, 35.0],\n    'brake': [36.0, 37.0, 38.0, 39.0],\n    'timestep': [datetime.datetime(2023, 9, 28, 5, 42, 4, 237642, tzinfo=datetime.timezone.utc),\n     datetime.datetime(2023, 9, 28, 5, 42, 4, 257642, tzinfo=datetime.timezone.utc),\n     datetime.datetime(2023, 9, 28, 5, 42, 4, 277642, tzinfo=datetime.timezone.utc),\n     datetime.datetime(2023, 9, 28, 5, 42, 4, 297642, tzinfo=datetime.timezone.utc)]}},\n  {'timestamp': 1695894119237642,\n   'state': {'velocity': [0.0, 1.0, 2.0, 3.0],\n    'thrust': [4.0, 5.0, 6.0, 7.0],\n    'brake': [8.0, 9.0, 10.0, 11.0],\n    'timestep': [datetime.datetime(2023, 9, 28, 5, 41, 59, 237642, tzinfo=datetime.timezone.utc),\n     datetime.datetime(2023, 9, 28, 5, 41, 59, 257642, tzinfo=datetime.timezone.utc),\n     datetime.datetime(2023, 9, 28, 5, 41, 59, 277642, tzinfo=datetime.timezone.utc),\n     datetime.datetime(2023, 9, 28, 5, 41, 59, 297642, tzinfo=datetime.timezone.utc)]},\n   'action': {'r0': [12.0, 13.0, 14.0, 15.0, 16.0],\n    'r1': [17.0, 18.0, 19.0, 20.0, 21.0],\n    'r2': [22.0, 23.0, 24.0, 25.0, 26.0],\n    'speed': [40.0, 50.0, 60.0],\n    'throttle': [0.0, 0.25, 0.5, 0.75, 1.0],\n    'timestep': [datetime.datetime(2023, 9, 28, 5, 41, 59, 337642, tzinfo=datetime.timezone.utc),\n     datetime.datetime(2023, 9, 28, 5, 41, 59, 357642, tzinfo=datetime.timezone.utc),\n     datetime.datetime(2023, 9, 28, 5, 41, 59, 377642, tzinfo=datetime.timezone.utc)]},\n   'reward': {'work': [27.0],\n    'timestep': [datetime.datetime(2023, 9, 28, 5, 41, 59, 337642, tzinfo=datetime.timezone.utc)]},\n   'nstate': {'velocity': [28.0, 29.0, 30.0, 31.0],\n    'thrust': [32.0, 33.0, 34.0, 35.0],\n    'brake': [36.0, 37.0, 38.0, 39.0],\n    'timestep': [datetime.datetime(2023, 9, 28, 5, 42, 4, 237642, tzinfo=datetime.timezone.utc),\n     datetime.datetime(2023, 9, 28, 5, 42, 4, 257642, tzinfo=datetime.timezone.utc),\n     datetime.datetime(2023, 9, 28, 5, 42, 4, 277642, tzinfo=datetime.timezone.utc),\n     datetime.datetime(2023, 9, 28, 5, 42, 4, 297642, tzinfo=datetime.timezone.utc)]}},\n  {'timestamp': 1695897719237642,\n   'state': {'velocity': [0.0, 1.0, 2.0, 3.0],\n    'thrust': [4.0, 5.0, 6.0, 7.0],\n    'brake': [8.0, 9.0, 10.0, 11.0],\n    'timestep': [datetime.datetime(2023, 9, 28, 5, 41, 59, 237642, tzinfo=datetime.timezone.utc),\n     datetime.datetime(2023, 9, 28, 5, 41, 59, 257642, tzinfo=datetime.timezone.utc),\n     datetime.datetime(2023, 9, 28, 5, 41, 59, 277642, tzinfo=datetime.timezone.utc),\n     datetime.datetime(2023, 9, 28, 5, 41, 59, 297642, tzinfo=datetime.timezone.utc)]},\n   'action': {'r0': [12.0, 13.0, 14.0, 15.0, 16.0],\n    'r1': [17.0, 18.0, 19.0, 20.0, 21.0],\n    'r2': [22.0, 23.0, 24.0, 25.0, 26.0],\n    'speed': [40.0, 50.0, 60.0],\n    'throttle': [0.0, 0.25, 0.5, 0.75, 1.0],\n    'timestep': [datetime.datetime(2023, 9, 28, 5, 41, 59, 337642, tzinfo=datetime.timezone.utc),\n     datetime.datetime(2023, 9, 28, 5, 41, 59, 357642, tzinfo=datetime.timezone.utc),\n     datetime.datetime(2023, 9, 28, 5, 41, 59, 377642, tzinfo=datetime.timezone.utc)]},\n   'reward': {'work': [27.0],\n    'timestep': [datetime.datetime(2023, 9, 28, 5, 41, 59, 337642, tzinfo=datetime.timezone.utc)]},\n   'nstate': {'velocity': [28.0, 29.0, 30.0, 31.0],\n    'thrust': [32.0, 33.0, 34.0, 35.0],\n    'brake': [36.0, 37.0, 38.0, 39.0],\n    'timestep': [datetime.datetime(2023, 9, 28, 5, 42, 4, 237642, tzinfo=datetime.timezone.utc),\n     datetime.datetime(2023, 9, 28, 5, 42, 4, 257642, tzinfo=datetime.timezone.utc),\n     datetime.datetime(2023, 9, 28, 5, 42, 4, 277642, tzinfo=datetime.timezone.utc),\n     datetime.datetime(2023, 9, 28, 5, 42, 4, 297642, tzinfo=datetime.timezone.utc)]}}]}"
     },
     "execution_count": 26,
     "metadata": {},
     "output_type": "execute_result"
    }
   ],
   "source": [
    "anep = dicts[0]\n",
    "anep"
   ],
   "metadata": {
    "collapsed": false,
    "ExecuteTime": {
     "end_time": "2023-09-28T05:42:01.398486887Z",
     "start_time": "2023-09-28T05:42:01.342431583Z"
    }
   },
   "id": "11dbb71bf1030e8d"
  },
  {
   "cell_type": "code",
   "execution_count": 27,
   "outputs": [
    {
     "data": {
      "text/plain": "5"
     },
     "execution_count": 27,
     "metadata": {},
     "output_type": "execute_result"
    },
    {
     "name": "stdout",
     "output_type": "stream",
     "text": [
      "qtuple: timestamp;\n",
      "obs: 1695883319237642\n",
      "\n",
      "\n",
      "qtuple: state;\n",
      "obs: {'velocity': [0.0, 1.0, 2.0, 3.0], 'thrust': [4.0, 5.0, 6.0, 7.0], 'brake': [8.0, 9.0, 10.0, 11.0], 'timestep': [datetime.datetime(2023, 9, 28, 5, 41, 59, 237642, tzinfo=datetime.timezone.utc), datetime.datetime(2023, 9, 28, 5, 41, 59, 257642, tzinfo=datetime.timezone.utc), datetime.datetime(2023, 9, 28, 5, 41, 59, 277642, tzinfo=datetime.timezone.utc), datetime.datetime(2023, 9, 28, 5, 41, 59, 297642, tzinfo=datetime.timezone.utc)]}\n",
      "\n",
      "\n",
      "qtuple: action;\n",
      "obs: {'r0': [12.0, 13.0, 14.0, 15.0, 16.0], 'r1': [17.0, 18.0, 19.0, 20.0, 21.0], 'r2': [22.0, 23.0, 24.0, 25.0, 26.0], 'speed': [40.0, 50.0, 60.0], 'throttle': [0.0, 0.25, 0.5, 0.75, 1.0], 'timestep': [datetime.datetime(2023, 9, 28, 5, 41, 59, 337642, tzinfo=datetime.timezone.utc), datetime.datetime(2023, 9, 28, 5, 41, 59, 357642, tzinfo=datetime.timezone.utc), datetime.datetime(2023, 9, 28, 5, 41, 59, 377642, tzinfo=datetime.timezone.utc)]}\n",
      "\n",
      "\n",
      "qtuple: reward;\n",
      "obs: {'work': [27.0], 'timestep': [datetime.datetime(2023, 9, 28, 5, 41, 59, 337642, tzinfo=datetime.timezone.utc)]}\n",
      "\n",
      "\n",
      "qtuple: nstate;\n",
      "obs: {'velocity': [28.0, 29.0, 30.0, 31.0], 'thrust': [32.0, 33.0, 34.0, 35.0], 'brake': [36.0, 37.0, 38.0, 39.0], 'timestep': [datetime.datetime(2023, 9, 28, 5, 42, 4, 237642, tzinfo=datetime.timezone.utc), datetime.datetime(2023, 9, 28, 5, 42, 4, 257642, tzinfo=datetime.timezone.utc), datetime.datetime(2023, 9, 28, 5, 42, 4, 277642, tzinfo=datetime.timezone.utc), datetime.datetime(2023, 9, 28, 5, 42, 4, 297642, tzinfo=datetime.timezone.utc)]}\n"
     ]
    }
   ],
   "source": [
    "# anep['meta']['episode_meta']\n",
    "# for k,v in anep['sequence']\n",
    "len(anep[\"sequence\"])\n",
    "# anep['sequence'][0]\n",
    "for qtuple, obs in anep[\"sequence\"][0].items():\n",
    "    print(f\"qtuple: {qtuple};\\nobs: {obs}\\n\\n\")"
   ],
   "metadata": {
    "collapsed": false,
    "ExecuteTime": {
     "end_time": "2023-09-28T05:42:01.398642992Z",
     "start_time": "2023-09-28T05:42:01.342603177Z"
    }
   },
   "id": "43519dbe98d8eb42"
  },
  {
   "cell_type": "code",
   "execution_count": 28,
   "outputs": [
    {
     "data": {
      "text/plain": "qtuple                                                                                  state  \\\nrows                                                                                 velocity   \nidx                                                                                         0   \nvehicle driver     episodestart                     timestamp                                   \nVB7     wang-cheng 2023-09-28 13:41:59.237642+08:00 2023-09-28 14:41:59.237642+08:00      0.0   \n                                                    2023-09-28 15:41:59.237642+08:00      0.0   \n                                                    2023-09-28 16:41:59.237642+08:00      0.0   \n                                                    2023-09-28 17:41:59.237642+08:00      0.0   \n                                                    2023-09-28 18:41:59.237642+08:00      0.0   \n\nqtuple                                                                                     \\\nrows                                                                                        \nidx                                                                                     1   \nvehicle driver     episodestart                     timestamp                               \nVB7     wang-cheng 2023-09-28 13:41:59.237642+08:00 2023-09-28 14:41:59.237642+08:00  1.0   \n                                                    2023-09-28 15:41:59.237642+08:00  1.0   \n                                                    2023-09-28 16:41:59.237642+08:00  1.0   \n                                                    2023-09-28 17:41:59.237642+08:00  1.0   \n                                                    2023-09-28 18:41:59.237642+08:00  1.0   \n\nqtuple                                                                                     \\\nrows                                                                                        \nidx                                                                                     2   \nvehicle driver     episodestart                     timestamp                               \nVB7     wang-cheng 2023-09-28 13:41:59.237642+08:00 2023-09-28 14:41:59.237642+08:00  2.0   \n                                                    2023-09-28 15:41:59.237642+08:00  2.0   \n                                                    2023-09-28 16:41:59.237642+08:00  2.0   \n                                                    2023-09-28 17:41:59.237642+08:00  2.0   \n                                                    2023-09-28 18:41:59.237642+08:00  2.0   \n\nqtuple                                                                                     \\\nrows                                                                                        \nidx                                                                                     3   \nvehicle driver     episodestart                     timestamp                               \nVB7     wang-cheng 2023-09-28 13:41:59.237642+08:00 2023-09-28 14:41:59.237642+08:00  3.0   \n                                                    2023-09-28 15:41:59.237642+08:00  3.0   \n                                                    2023-09-28 16:41:59.237642+08:00  3.0   \n                                                    2023-09-28 17:41:59.237642+08:00  3.0   \n                                                    2023-09-28 18:41:59.237642+08:00  3.0   \n\nqtuple                                                                                       \\\nrows                                                                                 thrust   \nidx                                                                                       0   \nvehicle driver     episodestart                     timestamp                                 \nVB7     wang-cheng 2023-09-28 13:41:59.237642+08:00 2023-09-28 14:41:59.237642+08:00    4.0   \n                                                    2023-09-28 15:41:59.237642+08:00    4.0   \n                                                    2023-09-28 16:41:59.237642+08:00    4.0   \n                                                    2023-09-28 17:41:59.237642+08:00    4.0   \n                                                    2023-09-28 18:41:59.237642+08:00    4.0   \n\nqtuple                                                                                     \\\nrows                                                                                        \nidx                                                                                     1   \nvehicle driver     episodestart                     timestamp                               \nVB7     wang-cheng 2023-09-28 13:41:59.237642+08:00 2023-09-28 14:41:59.237642+08:00  5.0   \n                                                    2023-09-28 15:41:59.237642+08:00  5.0   \n                                                    2023-09-28 16:41:59.237642+08:00  5.0   \n                                                    2023-09-28 17:41:59.237642+08:00  5.0   \n                                                    2023-09-28 18:41:59.237642+08:00  5.0   \n\nqtuple                                                                                     \\\nrows                                                                                        \nidx                                                                                     2   \nvehicle driver     episodestart                     timestamp                               \nVB7     wang-cheng 2023-09-28 13:41:59.237642+08:00 2023-09-28 14:41:59.237642+08:00  6.0   \n                                                    2023-09-28 15:41:59.237642+08:00  6.0   \n                                                    2023-09-28 16:41:59.237642+08:00  6.0   \n                                                    2023-09-28 17:41:59.237642+08:00  6.0   \n                                                    2023-09-28 18:41:59.237642+08:00  6.0   \n\nqtuple                                                                                     \\\nrows                                                                                        \nidx                                                                                     3   \nvehicle driver     episodestart                     timestamp                               \nVB7     wang-cheng 2023-09-28 13:41:59.237642+08:00 2023-09-28 14:41:59.237642+08:00  7.0   \n                                                    2023-09-28 15:41:59.237642+08:00  7.0   \n                                                    2023-09-28 16:41:59.237642+08:00  7.0   \n                                                    2023-09-28 17:41:59.237642+08:00  7.0   \n                                                    2023-09-28 18:41:59.237642+08:00  7.0   \n\nqtuple                                                                                      \\\nrows                                                                                 brake   \nidx                                                                                      0   \nvehicle driver     episodestart                     timestamp                                \nVB7     wang-cheng 2023-09-28 13:41:59.237642+08:00 2023-09-28 14:41:59.237642+08:00   8.0   \n                                                    2023-09-28 15:41:59.237642+08:00   8.0   \n                                                    2023-09-28 16:41:59.237642+08:00   8.0   \n                                                    2023-09-28 17:41:59.237642+08:00   8.0   \n                                                    2023-09-28 18:41:59.237642+08:00   8.0   \n\nqtuple                                                                                     \\\nrows                                                                                        \nidx                                                                                     1   \nvehicle driver     episodestart                     timestamp                               \nVB7     wang-cheng 2023-09-28 13:41:59.237642+08:00 2023-09-28 14:41:59.237642+08:00  9.0   \n                                                    2023-09-28 15:41:59.237642+08:00  9.0   \n                                                    2023-09-28 16:41:59.237642+08:00  9.0   \n                                                    2023-09-28 17:41:59.237642+08:00  9.0   \n                                                    2023-09-28 18:41:59.237642+08:00  9.0   \n\nqtuple                                                                                ...  \\\nrows                                                                                  ...   \nidx                                                                                   ...   \nvehicle driver     episodestart                     timestamp                         ...   \nVB7     wang-cheng 2023-09-28 13:41:59.237642+08:00 2023-09-28 14:41:59.237642+08:00  ...   \n                                                    2023-09-28 15:41:59.237642+08:00  ...   \n                                                    2023-09-28 16:41:59.237642+08:00  ...   \n                                                    2023-09-28 17:41:59.237642+08:00  ...   \n                                                    2023-09-28 18:41:59.237642+08:00  ...   \n\nqtuple                                                                               nstate  \\\nrows                                                                                 thrust   \nidx                                                                                       2   \nvehicle driver     episodestart                     timestamp                                 \nVB7     wang-cheng 2023-09-28 13:41:59.237642+08:00 2023-09-28 14:41:59.237642+08:00   34.0   \n                                                    2023-09-28 15:41:59.237642+08:00   34.0   \n                                                    2023-09-28 16:41:59.237642+08:00   34.0   \n                                                    2023-09-28 17:41:59.237642+08:00   34.0   \n                                                    2023-09-28 18:41:59.237642+08:00   34.0   \n\nqtuple                                                                                      \\\nrows                                                                                         \nidx                                                                                      3   \nvehicle driver     episodestart                     timestamp                                \nVB7     wang-cheng 2023-09-28 13:41:59.237642+08:00 2023-09-28 14:41:59.237642+08:00  35.0   \n                                                    2023-09-28 15:41:59.237642+08:00  35.0   \n                                                    2023-09-28 16:41:59.237642+08:00  35.0   \n                                                    2023-09-28 17:41:59.237642+08:00  35.0   \n                                                    2023-09-28 18:41:59.237642+08:00  35.0   \n\nqtuple                                                                                      \\\nrows                                                                                 brake   \nidx                                                                                      0   \nvehicle driver     episodestart                     timestamp                                \nVB7     wang-cheng 2023-09-28 13:41:59.237642+08:00 2023-09-28 14:41:59.237642+08:00  36.0   \n                                                    2023-09-28 15:41:59.237642+08:00  36.0   \n                                                    2023-09-28 16:41:59.237642+08:00  36.0   \n                                                    2023-09-28 17:41:59.237642+08:00  36.0   \n                                                    2023-09-28 18:41:59.237642+08:00  36.0   \n\nqtuple                                                                                      \\\nrows                                                                                         \nidx                                                                                      1   \nvehicle driver     episodestart                     timestamp                                \nVB7     wang-cheng 2023-09-28 13:41:59.237642+08:00 2023-09-28 14:41:59.237642+08:00  37.0   \n                                                    2023-09-28 15:41:59.237642+08:00  37.0   \n                                                    2023-09-28 16:41:59.237642+08:00  37.0   \n                                                    2023-09-28 17:41:59.237642+08:00  37.0   \n                                                    2023-09-28 18:41:59.237642+08:00  37.0   \n\nqtuple                                                                                      \\\nrows                                                                                         \nidx                                                                                      2   \nvehicle driver     episodestart                     timestamp                                \nVB7     wang-cheng 2023-09-28 13:41:59.237642+08:00 2023-09-28 14:41:59.237642+08:00  38.0   \n                                                    2023-09-28 15:41:59.237642+08:00  38.0   \n                                                    2023-09-28 16:41:59.237642+08:00  38.0   \n                                                    2023-09-28 17:41:59.237642+08:00  38.0   \n                                                    2023-09-28 18:41:59.237642+08:00  38.0   \n\nqtuple                                                                                      \\\nrows                                                                                         \nidx                                                                                      3   \nvehicle driver     episodestart                     timestamp                                \nVB7     wang-cheng 2023-09-28 13:41:59.237642+08:00 2023-09-28 14:41:59.237642+08:00  39.0   \n                                                    2023-09-28 15:41:59.237642+08:00  39.0   \n                                                    2023-09-28 16:41:59.237642+08:00  39.0   \n                                                    2023-09-28 17:41:59.237642+08:00  39.0   \n                                                    2023-09-28 18:41:59.237642+08:00  39.0   \n\nqtuple                                                                                                                  \\\nrows                                                                                                          timestep   \nidx                                                                                                                  0   \nvehicle driver     episodestart                     timestamp                                                            \nVB7     wang-cheng 2023-09-28 13:41:59.237642+08:00 2023-09-28 14:41:59.237642+08:00  2023-09-28 13:42:04.237642+08:00   \n                                                    2023-09-28 15:41:59.237642+08:00  2023-09-28 13:42:04.237642+08:00   \n                                                    2023-09-28 16:41:59.237642+08:00  2023-09-28 13:42:04.237642+08:00   \n                                                    2023-09-28 17:41:59.237642+08:00  2023-09-28 13:42:04.237642+08:00   \n                                                    2023-09-28 18:41:59.237642+08:00  2023-09-28 13:42:04.237642+08:00   \n\nqtuple                                                                                                                  \\\nrows                                                                                                                     \nidx                                                                                                                  1   \nvehicle driver     episodestart                     timestamp                                                            \nVB7     wang-cheng 2023-09-28 13:41:59.237642+08:00 2023-09-28 14:41:59.237642+08:00  2023-09-28 13:42:04.257642+08:00   \n                                                    2023-09-28 15:41:59.237642+08:00  2023-09-28 13:42:04.257642+08:00   \n                                                    2023-09-28 16:41:59.237642+08:00  2023-09-28 13:42:04.257642+08:00   \n                                                    2023-09-28 17:41:59.237642+08:00  2023-09-28 13:42:04.257642+08:00   \n                                                    2023-09-28 18:41:59.237642+08:00  2023-09-28 13:42:04.257642+08:00   \n\nqtuple                                                                                                                  \\\nrows                                                                                                                     \nidx                                                                                                                  2   \nvehicle driver     episodestart                     timestamp                                                            \nVB7     wang-cheng 2023-09-28 13:41:59.237642+08:00 2023-09-28 14:41:59.237642+08:00  2023-09-28 13:42:04.277642+08:00   \n                                                    2023-09-28 15:41:59.237642+08:00  2023-09-28 13:42:04.277642+08:00   \n                                                    2023-09-28 16:41:59.237642+08:00  2023-09-28 13:42:04.277642+08:00   \n                                                    2023-09-28 17:41:59.237642+08:00  2023-09-28 13:42:04.277642+08:00   \n                                                    2023-09-28 18:41:59.237642+08:00  2023-09-28 13:42:04.277642+08:00   \n\nqtuple                                                                                                                  \nrows                                                                                                                    \nidx                                                                                                                  3  \nvehicle driver     episodestart                     timestamp                                                           \nVB7     wang-cheng 2023-09-28 13:41:59.237642+08:00 2023-09-28 14:41:59.237642+08:00  2023-09-28 13:42:04.297642+08:00  \n                                                    2023-09-28 15:41:59.237642+08:00  2023-09-28 13:42:04.297642+08:00  \n                                                    2023-09-28 16:41:59.237642+08:00  2023-09-28 13:42:04.297642+08:00  \n                                                    2023-09-28 17:41:59.237642+08:00  2023-09-28 13:42:04.297642+08:00  \n                                                    2023-09-28 18:41:59.237642+08:00  2023-09-28 13:42:04.297642+08:00  \n\n[5 rows x 60 columns]",
      "text/html": "<div>\n<style scoped>\n    .dataframe tbody tr th:only-of-type {\n        vertical-align: middle;\n    }\n\n    .dataframe tbody tr th {\n        vertical-align: top;\n    }\n\n    .dataframe thead tr th {\n        text-align: left;\n    }\n\n    .dataframe thead tr:last-of-type th {\n        text-align: right;\n    }\n</style>\n<table border=\"1\" class=\"dataframe\">\n  <thead>\n    <tr>\n      <th></th>\n      <th></th>\n      <th></th>\n      <th>qtuple</th>\n      <th colspan=\"10\" halign=\"left\">state</th>\n      <th>...</th>\n      <th colspan=\"10\" halign=\"left\">nstate</th>\n    </tr>\n    <tr>\n      <th></th>\n      <th></th>\n      <th></th>\n      <th>rows</th>\n      <th colspan=\"4\" halign=\"left\">velocity</th>\n      <th colspan=\"4\" halign=\"left\">thrust</th>\n      <th colspan=\"2\" halign=\"left\">brake</th>\n      <th>...</th>\n      <th colspan=\"2\" halign=\"left\">thrust</th>\n      <th colspan=\"4\" halign=\"left\">brake</th>\n      <th colspan=\"4\" halign=\"left\">timestep</th>\n    </tr>\n    <tr>\n      <th></th>\n      <th></th>\n      <th></th>\n      <th>idx</th>\n      <th>0</th>\n      <th>1</th>\n      <th>2</th>\n      <th>3</th>\n      <th>0</th>\n      <th>1</th>\n      <th>2</th>\n      <th>3</th>\n      <th>0</th>\n      <th>1</th>\n      <th>...</th>\n      <th>2</th>\n      <th>3</th>\n      <th>0</th>\n      <th>1</th>\n      <th>2</th>\n      <th>3</th>\n      <th>0</th>\n      <th>1</th>\n      <th>2</th>\n      <th>3</th>\n    </tr>\n    <tr>\n      <th>vehicle</th>\n      <th>driver</th>\n      <th>episodestart</th>\n      <th>timestamp</th>\n      <th></th>\n      <th></th>\n      <th></th>\n      <th></th>\n      <th></th>\n      <th></th>\n      <th></th>\n      <th></th>\n      <th></th>\n      <th></th>\n      <th></th>\n      <th></th>\n      <th></th>\n      <th></th>\n      <th></th>\n      <th></th>\n      <th></th>\n      <th></th>\n      <th></th>\n      <th></th>\n      <th></th>\n    </tr>\n  </thead>\n  <tbody>\n    <tr>\n      <th rowspan=\"5\" valign=\"top\">VB7</th>\n      <th rowspan=\"5\" valign=\"top\">wang-cheng</th>\n      <th rowspan=\"5\" valign=\"top\">2023-09-28 13:41:59.237642+08:00</th>\n      <th>2023-09-28 14:41:59.237642+08:00</th>\n      <td>0.0</td>\n      <td>1.0</td>\n      <td>2.0</td>\n      <td>3.0</td>\n      <td>4.0</td>\n      <td>5.0</td>\n      <td>6.0</td>\n      <td>7.0</td>\n      <td>8.0</td>\n      <td>9.0</td>\n      <td>...</td>\n      <td>34.0</td>\n      <td>35.0</td>\n      <td>36.0</td>\n      <td>37.0</td>\n      <td>38.0</td>\n      <td>39.0</td>\n      <td>2023-09-28 13:42:04.237642+08:00</td>\n      <td>2023-09-28 13:42:04.257642+08:00</td>\n      <td>2023-09-28 13:42:04.277642+08:00</td>\n      <td>2023-09-28 13:42:04.297642+08:00</td>\n    </tr>\n    <tr>\n      <th>2023-09-28 15:41:59.237642+08:00</th>\n      <td>0.0</td>\n      <td>1.0</td>\n      <td>2.0</td>\n      <td>3.0</td>\n      <td>4.0</td>\n      <td>5.0</td>\n      <td>6.0</td>\n      <td>7.0</td>\n      <td>8.0</td>\n      <td>9.0</td>\n      <td>...</td>\n      <td>34.0</td>\n      <td>35.0</td>\n      <td>36.0</td>\n      <td>37.0</td>\n      <td>38.0</td>\n      <td>39.0</td>\n      <td>2023-09-28 13:42:04.237642+08:00</td>\n      <td>2023-09-28 13:42:04.257642+08:00</td>\n      <td>2023-09-28 13:42:04.277642+08:00</td>\n      <td>2023-09-28 13:42:04.297642+08:00</td>\n    </tr>\n    <tr>\n      <th>2023-09-28 16:41:59.237642+08:00</th>\n      <td>0.0</td>\n      <td>1.0</td>\n      <td>2.0</td>\n      <td>3.0</td>\n      <td>4.0</td>\n      <td>5.0</td>\n      <td>6.0</td>\n      <td>7.0</td>\n      <td>8.0</td>\n      <td>9.0</td>\n      <td>...</td>\n      <td>34.0</td>\n      <td>35.0</td>\n      <td>36.0</td>\n      <td>37.0</td>\n      <td>38.0</td>\n      <td>39.0</td>\n      <td>2023-09-28 13:42:04.237642+08:00</td>\n      <td>2023-09-28 13:42:04.257642+08:00</td>\n      <td>2023-09-28 13:42:04.277642+08:00</td>\n      <td>2023-09-28 13:42:04.297642+08:00</td>\n    </tr>\n    <tr>\n      <th>2023-09-28 17:41:59.237642+08:00</th>\n      <td>0.0</td>\n      <td>1.0</td>\n      <td>2.0</td>\n      <td>3.0</td>\n      <td>4.0</td>\n      <td>5.0</td>\n      <td>6.0</td>\n      <td>7.0</td>\n      <td>8.0</td>\n      <td>9.0</td>\n      <td>...</td>\n      <td>34.0</td>\n      <td>35.0</td>\n      <td>36.0</td>\n      <td>37.0</td>\n      <td>38.0</td>\n      <td>39.0</td>\n      <td>2023-09-28 13:42:04.237642+08:00</td>\n      <td>2023-09-28 13:42:04.257642+08:00</td>\n      <td>2023-09-28 13:42:04.277642+08:00</td>\n      <td>2023-09-28 13:42:04.297642+08:00</td>\n    </tr>\n    <tr>\n      <th>2023-09-28 18:41:59.237642+08:00</th>\n      <td>0.0</td>\n      <td>1.0</td>\n      <td>2.0</td>\n      <td>3.0</td>\n      <td>4.0</td>\n      <td>5.0</td>\n      <td>6.0</td>\n      <td>7.0</td>\n      <td>8.0</td>\n      <td>9.0</td>\n      <td>...</td>\n      <td>34.0</td>\n      <td>35.0</td>\n      <td>36.0</td>\n      <td>37.0</td>\n      <td>38.0</td>\n      <td>39.0</td>\n      <td>2023-09-28 13:42:04.237642+08:00</td>\n      <td>2023-09-28 13:42:04.257642+08:00</td>\n      <td>2023-09-28 13:42:04.277642+08:00</td>\n      <td>2023-09-28 13:42:04.297642+08:00</td>\n    </tr>\n  </tbody>\n</table>\n<p>5 rows × 60 columns</p>\n</div>"
     },
     "execution_count": 28,
     "metadata": {},
     "output_type": "execute_result"
    }
   ],
   "source": [
    "# dict_observations = {(meta['vehicle'], meta['driver'], meta['episodestart'],\n",
    "#                       pd.to_datetime(obs['timestamp'],unit='us'), qtuple): value\n",
    "#                         for meta, obs in zip(anep['meta']['episode_meta'],anep['sequence'])\n",
    "#                         for qtuple, value in obs.items() if qtuple != 'timestamp'}\n",
    "\n",
    "dict_observations = [\n",
    "    {\n",
    "        (\n",
    "            anep[\"meta\"][\"episode_meta\"][\"vehicle\"],\n",
    "            anep[\"meta\"][\"episode_meta\"][\"driver\"],\n",
    "            pd.to_datetime(\n",
    "                anep[\"meta\"][\"episode_meta\"][\"episodestart\"], unit=\"us\", utc=True\n",
    "            ).tz_convert(\"Asia/Shanghai\"),\n",
    "            pd.to_datetime(step[\"timestamp\"], unit=\"us\", utc=True).tz_convert(\n",
    "                \"Asia/Shanghai\"\n",
    "            ),\n",
    "            qtuple,\n",
    "            rows,\n",
    "            idx,\n",
    "        ): item\n",
    "        if rows != \"timestep\"\n",
    "        else pd.to_datetime(item).tz_convert(\"Asia/Shanghai\")\n",
    "        for qtuple, obs in step.items()\n",
    "        if qtuple != \"timestamp\"\n",
    "        for rows, value in obs.items()\n",
    "        for idx, item in enumerate(value)\n",
    "    }\n",
    "    for step in anep[\"sequence\"]\n",
    "]\n",
    "\n",
    "dict_ep = {k: v for d in dict_observations for k, v in d.items()}\n",
    "\n",
    "\n",
    "# d = dict_observations[0]\n",
    "ser_decoded = pd.Series(dict_ep)\n",
    "ser_decoded.index.names = [\n",
    "    \"vehicle\",\n",
    "    \"driver\",\n",
    "    \"episodestart\",\n",
    "    \"timestamp\",\n",
    "    \"qtuple\",\n",
    "    \"rows\",\n",
    "    \"idx\",\n",
    "]\n",
    "df_decoded = ser_decoded.unstack(level=[\"qtuple\", \"rows\", \"idx\"])\n",
    "df_decoded"
   ],
   "metadata": {
    "collapsed": false,
    "ExecuteTime": {
     "end_time": "2023-09-28T05:42:01.545319073Z",
     "start_time": "2023-09-28T05:42:01.342729428Z"
    }
   },
   "id": "cf602495400052cd"
  },
  {
   "cell_type": "code",
   "execution_count": 29,
   "outputs": [
    {
     "data": {
      "text/plain": "6"
     },
     "execution_count": 29,
     "metadata": {},
     "output_type": "execute_result"
    }
   ],
   "source": [
    "len(dicts)"
   ],
   "metadata": {
    "collapsed": false,
    "ExecuteTime": {
     "end_time": "2023-09-28T05:42:01.545546209Z",
     "start_time": "2023-09-28T05:42:01.462374775Z"
    }
   },
   "id": "b42a923bce5130cf"
  },
  {
   "cell_type": "code",
   "execution_count": 30,
   "outputs": [
    {
     "data": {
      "text/plain": "qtuple                                                                                        action  \\\nrows                                                                                              r0   \nidx                                                                                                0   \nbatch vehicle driver        episodestart                     timestamp                                 \n0     VB7     wang-cheng    2023-09-28 13:41:59.237642+08:00 2023-09-28 14:41:59.237642+08:00   12.0   \n                                                             2023-09-28 15:41:59.237642+08:00   12.0   \n                                                             2023-09-28 16:41:59.237642+08:00   12.0   \n                                                             2023-09-28 17:41:59.237642+08:00   12.0   \n                                                             2023-09-28 18:41:59.237642+08:00   12.0   \n1     VB7     zheng-longfei 2023-09-26 21:41:59.297357+08:00 2023-09-28 15:41:59.237642+08:00   12.0   \n                                                             2023-09-28 17:41:59.237642+08:00   12.0   \n2     MP73    wang-cheng    2023-09-23 21:41:59.297357+08:00 2023-09-28 15:41:59.237642+08:00   12.0   \n                                                             2023-09-28 16:41:59.237642+08:00   12.0   \n                                                             2023-09-28 17:41:59.237642+08:00   12.0   \n                                                             2023-09-28 18:41:59.237642+08:00   12.0   \n3     VB7     wang-cheng    2023-09-22 21:41:59.297357+08:00 2023-09-28 15:41:59.237642+08:00   12.0   \n                                                             2023-09-28 17:41:59.237642+08:00   12.0   \n4     MP73    zheng-longfei 2023-09-21 21:41:59.297357+08:00 2023-09-28 15:41:59.237642+08:00   12.0   \n                                                             2023-09-28 16:41:59.237642+08:00   12.0   \n                                                             2023-09-28 17:41:59.237642+08:00   12.0   \n                                                             2023-09-28 18:41:59.237642+08:00   12.0   \n5     MP73    zheng-longfei 2023-09-19 22:54:27.750917+08:00 2023-09-27 00:54:27.676989+08:00   12.0   \n                                                             2023-09-27 01:54:27.676989+08:00   12.0   \n                                                             2023-09-27 02:54:27.676989+08:00   12.0   \n                                                             2023-09-27 03:54:27.676989+08:00   12.0   \n\nqtuple                                                                                               \\\nrows                                                                                                  \nidx                                                                                               1   \nbatch vehicle driver        episodestart                     timestamp                                \n0     VB7     wang-cheng    2023-09-28 13:41:59.237642+08:00 2023-09-28 14:41:59.237642+08:00  13.0   \n                                                             2023-09-28 15:41:59.237642+08:00  13.0   \n                                                             2023-09-28 16:41:59.237642+08:00  13.0   \n                                                             2023-09-28 17:41:59.237642+08:00  13.0   \n                                                             2023-09-28 18:41:59.237642+08:00  13.0   \n1     VB7     zheng-longfei 2023-09-26 21:41:59.297357+08:00 2023-09-28 15:41:59.237642+08:00  13.0   \n                                                             2023-09-28 17:41:59.237642+08:00  13.0   \n2     MP73    wang-cheng    2023-09-23 21:41:59.297357+08:00 2023-09-28 15:41:59.237642+08:00  13.0   \n                                                             2023-09-28 16:41:59.237642+08:00  13.0   \n                                                             2023-09-28 17:41:59.237642+08:00  13.0   \n                                                             2023-09-28 18:41:59.237642+08:00  13.0   \n3     VB7     wang-cheng    2023-09-22 21:41:59.297357+08:00 2023-09-28 15:41:59.237642+08:00  13.0   \n                                                             2023-09-28 17:41:59.237642+08:00  13.0   \n4     MP73    zheng-longfei 2023-09-21 21:41:59.297357+08:00 2023-09-28 15:41:59.237642+08:00  13.0   \n                                                             2023-09-28 16:41:59.237642+08:00  13.0   \n                                                             2023-09-28 17:41:59.237642+08:00  13.0   \n                                                             2023-09-28 18:41:59.237642+08:00  13.0   \n5     MP73    zheng-longfei 2023-09-19 22:54:27.750917+08:00 2023-09-27 00:54:27.676989+08:00  13.0   \n                                                             2023-09-27 01:54:27.676989+08:00  13.0   \n                                                             2023-09-27 02:54:27.676989+08:00  13.0   \n                                                             2023-09-27 03:54:27.676989+08:00  13.0   \n\nqtuple                                                                                               \\\nrows                                                                                                  \nidx                                                                                               2   \nbatch vehicle driver        episodestart                     timestamp                                \n0     VB7     wang-cheng    2023-09-28 13:41:59.237642+08:00 2023-09-28 14:41:59.237642+08:00  14.0   \n                                                             2023-09-28 15:41:59.237642+08:00  14.0   \n                                                             2023-09-28 16:41:59.237642+08:00  14.0   \n                                                             2023-09-28 17:41:59.237642+08:00  14.0   \n                                                             2023-09-28 18:41:59.237642+08:00  14.0   \n1     VB7     zheng-longfei 2023-09-26 21:41:59.297357+08:00 2023-09-28 15:41:59.237642+08:00  14.0   \n                                                             2023-09-28 17:41:59.237642+08:00  14.0   \n2     MP73    wang-cheng    2023-09-23 21:41:59.297357+08:00 2023-09-28 15:41:59.237642+08:00  14.0   \n                                                             2023-09-28 16:41:59.237642+08:00  14.0   \n                                                             2023-09-28 17:41:59.237642+08:00  14.0   \n                                                             2023-09-28 18:41:59.237642+08:00  14.0   \n3     VB7     wang-cheng    2023-09-22 21:41:59.297357+08:00 2023-09-28 15:41:59.237642+08:00  14.0   \n                                                             2023-09-28 17:41:59.237642+08:00  14.0   \n4     MP73    zheng-longfei 2023-09-21 21:41:59.297357+08:00 2023-09-28 15:41:59.237642+08:00  14.0   \n                                                             2023-09-28 16:41:59.237642+08:00  14.0   \n                                                             2023-09-28 17:41:59.237642+08:00  14.0   \n                                                             2023-09-28 18:41:59.237642+08:00  14.0   \n5     MP73    zheng-longfei 2023-09-19 22:54:27.750917+08:00 2023-09-27 00:54:27.676989+08:00  14.0   \n                                                             2023-09-27 01:54:27.676989+08:00  14.0   \n                                                             2023-09-27 02:54:27.676989+08:00  14.0   \n                                                             2023-09-27 03:54:27.676989+08:00  14.0   \n\nqtuple                                                                                               \\\nrows                                                                                                  \nidx                                                                                               3   \nbatch vehicle driver        episodestart                     timestamp                                \n0     VB7     wang-cheng    2023-09-28 13:41:59.237642+08:00 2023-09-28 14:41:59.237642+08:00  15.0   \n                                                             2023-09-28 15:41:59.237642+08:00  15.0   \n                                                             2023-09-28 16:41:59.237642+08:00  15.0   \n                                                             2023-09-28 17:41:59.237642+08:00  15.0   \n                                                             2023-09-28 18:41:59.237642+08:00  15.0   \n1     VB7     zheng-longfei 2023-09-26 21:41:59.297357+08:00 2023-09-28 15:41:59.237642+08:00  15.0   \n                                                             2023-09-28 17:41:59.237642+08:00  15.0   \n2     MP73    wang-cheng    2023-09-23 21:41:59.297357+08:00 2023-09-28 15:41:59.237642+08:00  15.0   \n                                                             2023-09-28 16:41:59.237642+08:00  15.0   \n                                                             2023-09-28 17:41:59.237642+08:00  15.0   \n                                                             2023-09-28 18:41:59.237642+08:00  15.0   \n3     VB7     wang-cheng    2023-09-22 21:41:59.297357+08:00 2023-09-28 15:41:59.237642+08:00  15.0   \n                                                             2023-09-28 17:41:59.237642+08:00  15.0   \n4     MP73    zheng-longfei 2023-09-21 21:41:59.297357+08:00 2023-09-28 15:41:59.237642+08:00  15.0   \n                                                             2023-09-28 16:41:59.237642+08:00  15.0   \n                                                             2023-09-28 17:41:59.237642+08:00  15.0   \n                                                             2023-09-28 18:41:59.237642+08:00  15.0   \n5     MP73    zheng-longfei 2023-09-19 22:54:27.750917+08:00 2023-09-27 00:54:27.676989+08:00  15.0   \n                                                             2023-09-27 01:54:27.676989+08:00  15.0   \n                                                             2023-09-27 02:54:27.676989+08:00  15.0   \n                                                             2023-09-27 03:54:27.676989+08:00  15.0   \n\nqtuple                                                                                               \\\nrows                                                                                                  \nidx                                                                                               4   \nbatch vehicle driver        episodestart                     timestamp                                \n0     VB7     wang-cheng    2023-09-28 13:41:59.237642+08:00 2023-09-28 14:41:59.237642+08:00  16.0   \n                                                             2023-09-28 15:41:59.237642+08:00  16.0   \n                                                             2023-09-28 16:41:59.237642+08:00  16.0   \n                                                             2023-09-28 17:41:59.237642+08:00  16.0   \n                                                             2023-09-28 18:41:59.237642+08:00  16.0   \n1     VB7     zheng-longfei 2023-09-26 21:41:59.297357+08:00 2023-09-28 15:41:59.237642+08:00  16.0   \n                                                             2023-09-28 17:41:59.237642+08:00  16.0   \n2     MP73    wang-cheng    2023-09-23 21:41:59.297357+08:00 2023-09-28 15:41:59.237642+08:00  16.0   \n                                                             2023-09-28 16:41:59.237642+08:00  16.0   \n                                                             2023-09-28 17:41:59.237642+08:00  16.0   \n                                                             2023-09-28 18:41:59.237642+08:00  16.0   \n3     VB7     wang-cheng    2023-09-22 21:41:59.297357+08:00 2023-09-28 15:41:59.237642+08:00  16.0   \n                                                             2023-09-28 17:41:59.237642+08:00  16.0   \n4     MP73    zheng-longfei 2023-09-21 21:41:59.297357+08:00 2023-09-28 15:41:59.237642+08:00  16.0   \n                                                             2023-09-28 16:41:59.237642+08:00  16.0   \n                                                             2023-09-28 17:41:59.237642+08:00  16.0   \n                                                             2023-09-28 18:41:59.237642+08:00  16.0   \n5     MP73    zheng-longfei 2023-09-19 22:54:27.750917+08:00 2023-09-27 00:54:27.676989+08:00  16.0   \n                                                             2023-09-27 01:54:27.676989+08:00  16.0   \n                                                             2023-09-27 02:54:27.676989+08:00  16.0   \n                                                             2023-09-27 03:54:27.676989+08:00  16.0   \n\nqtuple                                                                                               \\\nrows                                                                                             r1   \nidx                                                                                               0   \nbatch vehicle driver        episodestart                     timestamp                                \n0     VB7     wang-cheng    2023-09-28 13:41:59.237642+08:00 2023-09-28 14:41:59.237642+08:00  17.0   \n                                                             2023-09-28 15:41:59.237642+08:00  17.0   \n                                                             2023-09-28 16:41:59.237642+08:00  17.0   \n                                                             2023-09-28 17:41:59.237642+08:00  17.0   \n                                                             2023-09-28 18:41:59.237642+08:00  17.0   \n1     VB7     zheng-longfei 2023-09-26 21:41:59.297357+08:00 2023-09-28 15:41:59.237642+08:00  17.0   \n                                                             2023-09-28 17:41:59.237642+08:00  17.0   \n2     MP73    wang-cheng    2023-09-23 21:41:59.297357+08:00 2023-09-28 15:41:59.237642+08:00  17.0   \n                                                             2023-09-28 16:41:59.237642+08:00  17.0   \n                                                             2023-09-28 17:41:59.237642+08:00  17.0   \n                                                             2023-09-28 18:41:59.237642+08:00  17.0   \n3     VB7     wang-cheng    2023-09-22 21:41:59.297357+08:00 2023-09-28 15:41:59.237642+08:00  17.0   \n                                                             2023-09-28 17:41:59.237642+08:00  17.0   \n4     MP73    zheng-longfei 2023-09-21 21:41:59.297357+08:00 2023-09-28 15:41:59.237642+08:00  17.0   \n                                                             2023-09-28 16:41:59.237642+08:00  17.0   \n                                                             2023-09-28 17:41:59.237642+08:00  17.0   \n                                                             2023-09-28 18:41:59.237642+08:00  17.0   \n5     MP73    zheng-longfei 2023-09-19 22:54:27.750917+08:00 2023-09-27 00:54:27.676989+08:00  17.0   \n                                                             2023-09-27 01:54:27.676989+08:00  17.0   \n                                                             2023-09-27 02:54:27.676989+08:00  17.0   \n                                                             2023-09-27 03:54:27.676989+08:00  17.0   \n\nqtuple                                                                                               \\\nrows                                                                                                  \nidx                                                                                               1   \nbatch vehicle driver        episodestart                     timestamp                                \n0     VB7     wang-cheng    2023-09-28 13:41:59.237642+08:00 2023-09-28 14:41:59.237642+08:00  18.0   \n                                                             2023-09-28 15:41:59.237642+08:00  18.0   \n                                                             2023-09-28 16:41:59.237642+08:00  18.0   \n                                                             2023-09-28 17:41:59.237642+08:00  18.0   \n                                                             2023-09-28 18:41:59.237642+08:00  18.0   \n1     VB7     zheng-longfei 2023-09-26 21:41:59.297357+08:00 2023-09-28 15:41:59.237642+08:00  18.0   \n                                                             2023-09-28 17:41:59.237642+08:00  18.0   \n2     MP73    wang-cheng    2023-09-23 21:41:59.297357+08:00 2023-09-28 15:41:59.237642+08:00  18.0   \n                                                             2023-09-28 16:41:59.237642+08:00  18.0   \n                                                             2023-09-28 17:41:59.237642+08:00  18.0   \n                                                             2023-09-28 18:41:59.237642+08:00  18.0   \n3     VB7     wang-cheng    2023-09-22 21:41:59.297357+08:00 2023-09-28 15:41:59.237642+08:00  18.0   \n                                                             2023-09-28 17:41:59.237642+08:00  18.0   \n4     MP73    zheng-longfei 2023-09-21 21:41:59.297357+08:00 2023-09-28 15:41:59.237642+08:00  18.0   \n                                                             2023-09-28 16:41:59.237642+08:00  18.0   \n                                                             2023-09-28 17:41:59.237642+08:00  18.0   \n                                                             2023-09-28 18:41:59.237642+08:00  18.0   \n5     MP73    zheng-longfei 2023-09-19 22:54:27.750917+08:00 2023-09-27 00:54:27.676989+08:00  18.0   \n                                                             2023-09-27 01:54:27.676989+08:00  18.0   \n                                                             2023-09-27 02:54:27.676989+08:00  18.0   \n                                                             2023-09-27 03:54:27.676989+08:00  18.0   \n\nqtuple                                                                                               \\\nrows                                                                                                  \nidx                                                                                               2   \nbatch vehicle driver        episodestart                     timestamp                                \n0     VB7     wang-cheng    2023-09-28 13:41:59.237642+08:00 2023-09-28 14:41:59.237642+08:00  19.0   \n                                                             2023-09-28 15:41:59.237642+08:00  19.0   \n                                                             2023-09-28 16:41:59.237642+08:00  19.0   \n                                                             2023-09-28 17:41:59.237642+08:00  19.0   \n                                                             2023-09-28 18:41:59.237642+08:00  19.0   \n1     VB7     zheng-longfei 2023-09-26 21:41:59.297357+08:00 2023-09-28 15:41:59.237642+08:00  19.0   \n                                                             2023-09-28 17:41:59.237642+08:00  19.0   \n2     MP73    wang-cheng    2023-09-23 21:41:59.297357+08:00 2023-09-28 15:41:59.237642+08:00  19.0   \n                                                             2023-09-28 16:41:59.237642+08:00  19.0   \n                                                             2023-09-28 17:41:59.237642+08:00  19.0   \n                                                             2023-09-28 18:41:59.237642+08:00  19.0   \n3     VB7     wang-cheng    2023-09-22 21:41:59.297357+08:00 2023-09-28 15:41:59.237642+08:00  19.0   \n                                                             2023-09-28 17:41:59.237642+08:00  19.0   \n4     MP73    zheng-longfei 2023-09-21 21:41:59.297357+08:00 2023-09-28 15:41:59.237642+08:00  19.0   \n                                                             2023-09-28 16:41:59.237642+08:00  19.0   \n                                                             2023-09-28 17:41:59.237642+08:00  19.0   \n                                                             2023-09-28 18:41:59.237642+08:00  19.0   \n5     MP73    zheng-longfei 2023-09-19 22:54:27.750917+08:00 2023-09-27 00:54:27.676989+08:00  19.0   \n                                                             2023-09-27 01:54:27.676989+08:00  19.0   \n                                                             2023-09-27 02:54:27.676989+08:00  19.0   \n                                                             2023-09-27 03:54:27.676989+08:00  19.0   \n\nqtuple                                                                                               \\\nrows                                                                                                  \nidx                                                                                               3   \nbatch vehicle driver        episodestart                     timestamp                                \n0     VB7     wang-cheng    2023-09-28 13:41:59.237642+08:00 2023-09-28 14:41:59.237642+08:00  20.0   \n                                                             2023-09-28 15:41:59.237642+08:00  20.0   \n                                                             2023-09-28 16:41:59.237642+08:00  20.0   \n                                                             2023-09-28 17:41:59.237642+08:00  20.0   \n                                                             2023-09-28 18:41:59.237642+08:00  20.0   \n1     VB7     zheng-longfei 2023-09-26 21:41:59.297357+08:00 2023-09-28 15:41:59.237642+08:00  20.0   \n                                                             2023-09-28 17:41:59.237642+08:00  20.0   \n2     MP73    wang-cheng    2023-09-23 21:41:59.297357+08:00 2023-09-28 15:41:59.237642+08:00  20.0   \n                                                             2023-09-28 16:41:59.237642+08:00  20.0   \n                                                             2023-09-28 17:41:59.237642+08:00  20.0   \n                                                             2023-09-28 18:41:59.237642+08:00  20.0   \n3     VB7     wang-cheng    2023-09-22 21:41:59.297357+08:00 2023-09-28 15:41:59.237642+08:00  20.0   \n                                                             2023-09-28 17:41:59.237642+08:00  20.0   \n4     MP73    zheng-longfei 2023-09-21 21:41:59.297357+08:00 2023-09-28 15:41:59.237642+08:00  20.0   \n                                                             2023-09-28 16:41:59.237642+08:00  20.0   \n                                                             2023-09-28 17:41:59.237642+08:00  20.0   \n                                                             2023-09-28 18:41:59.237642+08:00  20.0   \n5     MP73    zheng-longfei 2023-09-19 22:54:27.750917+08:00 2023-09-27 00:54:27.676989+08:00  20.0   \n                                                             2023-09-27 01:54:27.676989+08:00  20.0   \n                                                             2023-09-27 02:54:27.676989+08:00  20.0   \n                                                             2023-09-27 03:54:27.676989+08:00  20.0   \n\nqtuple                                                                                               \\\nrows                                                                                                  \nidx                                                                                               4   \nbatch vehicle driver        episodestart                     timestamp                                \n0     VB7     wang-cheng    2023-09-28 13:41:59.237642+08:00 2023-09-28 14:41:59.237642+08:00  21.0   \n                                                             2023-09-28 15:41:59.237642+08:00  21.0   \n                                                             2023-09-28 16:41:59.237642+08:00  21.0   \n                                                             2023-09-28 17:41:59.237642+08:00  21.0   \n                                                             2023-09-28 18:41:59.237642+08:00  21.0   \n1     VB7     zheng-longfei 2023-09-26 21:41:59.297357+08:00 2023-09-28 15:41:59.237642+08:00  21.0   \n                                                             2023-09-28 17:41:59.237642+08:00  21.0   \n2     MP73    wang-cheng    2023-09-23 21:41:59.297357+08:00 2023-09-28 15:41:59.237642+08:00  21.0   \n                                                             2023-09-28 16:41:59.237642+08:00  21.0   \n                                                             2023-09-28 17:41:59.237642+08:00  21.0   \n                                                             2023-09-28 18:41:59.237642+08:00  21.0   \n3     VB7     wang-cheng    2023-09-22 21:41:59.297357+08:00 2023-09-28 15:41:59.237642+08:00  21.0   \n                                                             2023-09-28 17:41:59.237642+08:00  21.0   \n4     MP73    zheng-longfei 2023-09-21 21:41:59.297357+08:00 2023-09-28 15:41:59.237642+08:00  21.0   \n                                                             2023-09-28 16:41:59.237642+08:00  21.0   \n                                                             2023-09-28 17:41:59.237642+08:00  21.0   \n                                                             2023-09-28 18:41:59.237642+08:00  21.0   \n5     MP73    zheng-longfei 2023-09-19 22:54:27.750917+08:00 2023-09-27 00:54:27.676989+08:00  21.0   \n                                                             2023-09-27 01:54:27.676989+08:00  21.0   \n                                                             2023-09-27 02:54:27.676989+08:00  21.0   \n                                                             2023-09-27 03:54:27.676989+08:00  21.0   \n\nqtuple                                                                                         ...  \\\nrows                                                                                           ...   \nidx                                                                                            ...   \nbatch vehicle driver        episodestart                     timestamp                         ...   \n0     VB7     wang-cheng    2023-09-28 13:41:59.237642+08:00 2023-09-28 14:41:59.237642+08:00  ...   \n                                                             2023-09-28 15:41:59.237642+08:00  ...   \n                                                             2023-09-28 16:41:59.237642+08:00  ...   \n                                                             2023-09-28 17:41:59.237642+08:00  ...   \n                                                             2023-09-28 18:41:59.237642+08:00  ...   \n1     VB7     zheng-longfei 2023-09-26 21:41:59.297357+08:00 2023-09-28 15:41:59.237642+08:00  ...   \n                                                             2023-09-28 17:41:59.237642+08:00  ...   \n2     MP73    wang-cheng    2023-09-23 21:41:59.297357+08:00 2023-09-28 15:41:59.237642+08:00  ...   \n                                                             2023-09-28 16:41:59.237642+08:00  ...   \n                                                             2023-09-28 17:41:59.237642+08:00  ...   \n                                                             2023-09-28 18:41:59.237642+08:00  ...   \n3     VB7     wang-cheng    2023-09-22 21:41:59.297357+08:00 2023-09-28 15:41:59.237642+08:00  ...   \n                                                             2023-09-28 17:41:59.237642+08:00  ...   \n4     MP73    zheng-longfei 2023-09-21 21:41:59.297357+08:00 2023-09-28 15:41:59.237642+08:00  ...   \n                                                             2023-09-28 16:41:59.237642+08:00  ...   \n                                                             2023-09-28 17:41:59.237642+08:00  ...   \n                                                             2023-09-28 18:41:59.237642+08:00  ...   \n5     MP73    zheng-longfei 2023-09-19 22:54:27.750917+08:00 2023-09-27 00:54:27.676989+08:00  ...   \n                                                             2023-09-27 01:54:27.676989+08:00  ...   \n                                                             2023-09-27 02:54:27.676989+08:00  ...   \n                                                             2023-09-27 03:54:27.676989+08:00  ...   \n\nqtuple                                                                                         state  \\\nrows                                                                                          thrust   \nidx                                                                                                2   \nbatch vehicle driver        episodestart                     timestamp                                 \n0     VB7     wang-cheng    2023-09-28 13:41:59.237642+08:00 2023-09-28 14:41:59.237642+08:00    6.0   \n                                                             2023-09-28 15:41:59.237642+08:00    6.0   \n                                                             2023-09-28 16:41:59.237642+08:00    6.0   \n                                                             2023-09-28 17:41:59.237642+08:00    6.0   \n                                                             2023-09-28 18:41:59.237642+08:00    6.0   \n1     VB7     zheng-longfei 2023-09-26 21:41:59.297357+08:00 2023-09-28 15:41:59.237642+08:00    6.0   \n                                                             2023-09-28 17:41:59.237642+08:00    6.0   \n2     MP73    wang-cheng    2023-09-23 21:41:59.297357+08:00 2023-09-28 15:41:59.237642+08:00    6.0   \n                                                             2023-09-28 16:41:59.237642+08:00    6.0   \n                                                             2023-09-28 17:41:59.237642+08:00    6.0   \n                                                             2023-09-28 18:41:59.237642+08:00    6.0   \n3     VB7     wang-cheng    2023-09-22 21:41:59.297357+08:00 2023-09-28 15:41:59.237642+08:00    6.0   \n                                                             2023-09-28 17:41:59.237642+08:00    6.0   \n4     MP73    zheng-longfei 2023-09-21 21:41:59.297357+08:00 2023-09-28 15:41:59.237642+08:00    6.0   \n                                                             2023-09-28 16:41:59.237642+08:00    6.0   \n                                                             2023-09-28 17:41:59.237642+08:00    6.0   \n                                                             2023-09-28 18:41:59.237642+08:00    6.0   \n5     MP73    zheng-longfei 2023-09-19 22:54:27.750917+08:00 2023-09-27 00:54:27.676989+08:00    6.0   \n                                                             2023-09-27 01:54:27.676989+08:00    6.0   \n                                                             2023-09-27 02:54:27.676989+08:00    6.0   \n                                                             2023-09-27 03:54:27.676989+08:00    6.0   \n\nqtuple                                                                                              \\\nrows                                                                                                 \nidx                                                                                              3   \nbatch vehicle driver        episodestart                     timestamp                               \n0     VB7     wang-cheng    2023-09-28 13:41:59.237642+08:00 2023-09-28 14:41:59.237642+08:00  7.0   \n                                                             2023-09-28 15:41:59.237642+08:00  7.0   \n                                                             2023-09-28 16:41:59.237642+08:00  7.0   \n                                                             2023-09-28 17:41:59.237642+08:00  7.0   \n                                                             2023-09-28 18:41:59.237642+08:00  7.0   \n1     VB7     zheng-longfei 2023-09-26 21:41:59.297357+08:00 2023-09-28 15:41:59.237642+08:00  7.0   \n                                                             2023-09-28 17:41:59.237642+08:00  7.0   \n2     MP73    wang-cheng    2023-09-23 21:41:59.297357+08:00 2023-09-28 15:41:59.237642+08:00  7.0   \n                                                             2023-09-28 16:41:59.237642+08:00  7.0   \n                                                             2023-09-28 17:41:59.237642+08:00  7.0   \n                                                             2023-09-28 18:41:59.237642+08:00  7.0   \n3     VB7     wang-cheng    2023-09-22 21:41:59.297357+08:00 2023-09-28 15:41:59.237642+08:00  7.0   \n                                                             2023-09-28 17:41:59.237642+08:00  7.0   \n4     MP73    zheng-longfei 2023-09-21 21:41:59.297357+08:00 2023-09-28 15:41:59.237642+08:00  7.0   \n                                                             2023-09-28 16:41:59.237642+08:00  7.0   \n                                                             2023-09-28 17:41:59.237642+08:00  7.0   \n                                                             2023-09-28 18:41:59.237642+08:00  7.0   \n5     MP73    zheng-longfei 2023-09-19 22:54:27.750917+08:00 2023-09-27 00:54:27.676989+08:00  7.0   \n                                                             2023-09-27 01:54:27.676989+08:00  7.0   \n                                                             2023-09-27 02:54:27.676989+08:00  7.0   \n                                                             2023-09-27 03:54:27.676989+08:00  7.0   \n\nqtuple                                                                                                                           \\\nrows                                                                                                                   timestep   \nidx                                                                                                                           0   \nbatch vehicle driver        episodestart                     timestamp                                                            \n0     VB7     wang-cheng    2023-09-28 13:41:59.237642+08:00 2023-09-28 14:41:59.237642+08:00  2023-09-28 13:41:59.237642+08:00   \n                                                             2023-09-28 15:41:59.237642+08:00  2023-09-28 13:41:59.237642+08:00   \n                                                             2023-09-28 16:41:59.237642+08:00  2023-09-28 13:41:59.237642+08:00   \n                                                             2023-09-28 17:41:59.237642+08:00  2023-09-28 13:41:59.237642+08:00   \n                                                             2023-09-28 18:41:59.237642+08:00  2023-09-28 13:41:59.237642+08:00   \n1     VB7     zheng-longfei 2023-09-26 21:41:59.297357+08:00 2023-09-28 15:41:59.237642+08:00  2023-09-28 13:41:59.237642+08:00   \n                                                             2023-09-28 17:41:59.237642+08:00  2023-09-28 13:41:59.237642+08:00   \n2     MP73    wang-cheng    2023-09-23 21:41:59.297357+08:00 2023-09-28 15:41:59.237642+08:00  2023-09-28 13:41:59.237642+08:00   \n                                                             2023-09-28 16:41:59.237642+08:00  2023-09-28 13:41:59.237642+08:00   \n                                                             2023-09-28 17:41:59.237642+08:00  2023-09-28 13:41:59.237642+08:00   \n                                                             2023-09-28 18:41:59.237642+08:00  2023-09-28 13:41:59.237642+08:00   \n3     VB7     wang-cheng    2023-09-22 21:41:59.297357+08:00 2023-09-28 15:41:59.237642+08:00  2023-09-28 13:41:59.237642+08:00   \n                                                             2023-09-28 17:41:59.237642+08:00  2023-09-28 13:41:59.237642+08:00   \n4     MP73    zheng-longfei 2023-09-21 21:41:59.297357+08:00 2023-09-28 15:41:59.237642+08:00  2023-09-28 13:41:59.237642+08:00   \n                                                             2023-09-28 16:41:59.237642+08:00  2023-09-28 13:41:59.237642+08:00   \n                                                             2023-09-28 17:41:59.237642+08:00  2023-09-28 13:41:59.237642+08:00   \n                                                             2023-09-28 18:41:59.237642+08:00  2023-09-28 13:41:59.237642+08:00   \n5     MP73    zheng-longfei 2023-09-19 22:54:27.750917+08:00 2023-09-27 00:54:27.676989+08:00  2023-09-26 22:54:27.676989+08:00   \n                                                             2023-09-27 01:54:27.676989+08:00  2023-09-26 22:54:27.676989+08:00   \n                                                             2023-09-27 02:54:27.676989+08:00  2023-09-26 22:54:27.676989+08:00   \n                                                             2023-09-27 03:54:27.676989+08:00  2023-09-26 22:54:27.676989+08:00   \n\nqtuple                                                                                                                           \\\nrows                                                                                                                              \nidx                                                                                                                           1   \nbatch vehicle driver        episodestart                     timestamp                                                            \n0     VB7     wang-cheng    2023-09-28 13:41:59.237642+08:00 2023-09-28 14:41:59.237642+08:00  2023-09-28 13:41:59.257642+08:00   \n                                                             2023-09-28 15:41:59.237642+08:00  2023-09-28 13:41:59.257642+08:00   \n                                                             2023-09-28 16:41:59.237642+08:00  2023-09-28 13:41:59.257642+08:00   \n                                                             2023-09-28 17:41:59.237642+08:00  2023-09-28 13:41:59.257642+08:00   \n                                                             2023-09-28 18:41:59.237642+08:00  2023-09-28 13:41:59.257642+08:00   \n1     VB7     zheng-longfei 2023-09-26 21:41:59.297357+08:00 2023-09-28 15:41:59.237642+08:00  2023-09-28 13:41:59.257642+08:00   \n                                                             2023-09-28 17:41:59.237642+08:00  2023-09-28 13:41:59.257642+08:00   \n2     MP73    wang-cheng    2023-09-23 21:41:59.297357+08:00 2023-09-28 15:41:59.237642+08:00  2023-09-28 13:41:59.257642+08:00   \n                                                             2023-09-28 16:41:59.237642+08:00  2023-09-28 13:41:59.257642+08:00   \n                                                             2023-09-28 17:41:59.237642+08:00  2023-09-28 13:41:59.257642+08:00   \n                                                             2023-09-28 18:41:59.237642+08:00  2023-09-28 13:41:59.257642+08:00   \n3     VB7     wang-cheng    2023-09-22 21:41:59.297357+08:00 2023-09-28 15:41:59.237642+08:00  2023-09-28 13:41:59.257642+08:00   \n                                                             2023-09-28 17:41:59.237642+08:00  2023-09-28 13:41:59.257642+08:00   \n4     MP73    zheng-longfei 2023-09-21 21:41:59.297357+08:00 2023-09-28 15:41:59.237642+08:00  2023-09-28 13:41:59.257642+08:00   \n                                                             2023-09-28 16:41:59.237642+08:00  2023-09-28 13:41:59.257642+08:00   \n                                                             2023-09-28 17:41:59.237642+08:00  2023-09-28 13:41:59.257642+08:00   \n                                                             2023-09-28 18:41:59.237642+08:00  2023-09-28 13:41:59.257642+08:00   \n5     MP73    zheng-longfei 2023-09-19 22:54:27.750917+08:00 2023-09-27 00:54:27.676989+08:00  2023-09-26 22:54:27.696989+08:00   \n                                                             2023-09-27 01:54:27.676989+08:00  2023-09-26 22:54:27.696989+08:00   \n                                                             2023-09-27 02:54:27.676989+08:00  2023-09-26 22:54:27.696989+08:00   \n                                                             2023-09-27 03:54:27.676989+08:00  2023-09-26 22:54:27.696989+08:00   \n\nqtuple                                                                                                                           \\\nrows                                                                                                                              \nidx                                                                                                                           2   \nbatch vehicle driver        episodestart                     timestamp                                                            \n0     VB7     wang-cheng    2023-09-28 13:41:59.237642+08:00 2023-09-28 14:41:59.237642+08:00  2023-09-28 13:41:59.277642+08:00   \n                                                             2023-09-28 15:41:59.237642+08:00  2023-09-28 13:41:59.277642+08:00   \n                                                             2023-09-28 16:41:59.237642+08:00  2023-09-28 13:41:59.277642+08:00   \n                                                             2023-09-28 17:41:59.237642+08:00  2023-09-28 13:41:59.277642+08:00   \n                                                             2023-09-28 18:41:59.237642+08:00  2023-09-28 13:41:59.277642+08:00   \n1     VB7     zheng-longfei 2023-09-26 21:41:59.297357+08:00 2023-09-28 15:41:59.237642+08:00  2023-09-28 13:41:59.277642+08:00   \n                                                             2023-09-28 17:41:59.237642+08:00  2023-09-28 13:41:59.277642+08:00   \n2     MP73    wang-cheng    2023-09-23 21:41:59.297357+08:00 2023-09-28 15:41:59.237642+08:00  2023-09-28 13:41:59.277642+08:00   \n                                                             2023-09-28 16:41:59.237642+08:00  2023-09-28 13:41:59.277642+08:00   \n                                                             2023-09-28 17:41:59.237642+08:00  2023-09-28 13:41:59.277642+08:00   \n                                                             2023-09-28 18:41:59.237642+08:00  2023-09-28 13:41:59.277642+08:00   \n3     VB7     wang-cheng    2023-09-22 21:41:59.297357+08:00 2023-09-28 15:41:59.237642+08:00  2023-09-28 13:41:59.277642+08:00   \n                                                             2023-09-28 17:41:59.237642+08:00  2023-09-28 13:41:59.277642+08:00   \n4     MP73    zheng-longfei 2023-09-21 21:41:59.297357+08:00 2023-09-28 15:41:59.237642+08:00  2023-09-28 13:41:59.277642+08:00   \n                                                             2023-09-28 16:41:59.237642+08:00  2023-09-28 13:41:59.277642+08:00   \n                                                             2023-09-28 17:41:59.237642+08:00  2023-09-28 13:41:59.277642+08:00   \n                                                             2023-09-28 18:41:59.237642+08:00  2023-09-28 13:41:59.277642+08:00   \n5     MP73    zheng-longfei 2023-09-19 22:54:27.750917+08:00 2023-09-27 00:54:27.676989+08:00  2023-09-26 22:54:27.716989+08:00   \n                                                             2023-09-27 01:54:27.676989+08:00  2023-09-26 22:54:27.716989+08:00   \n                                                             2023-09-27 02:54:27.676989+08:00  2023-09-26 22:54:27.716989+08:00   \n                                                             2023-09-27 03:54:27.676989+08:00  2023-09-26 22:54:27.716989+08:00   \n\nqtuple                                                                                                                           \\\nrows                                                                                                                              \nidx                                                                                                                           3   \nbatch vehicle driver        episodestart                     timestamp                                                            \n0     VB7     wang-cheng    2023-09-28 13:41:59.237642+08:00 2023-09-28 14:41:59.237642+08:00  2023-09-28 13:41:59.297642+08:00   \n                                                             2023-09-28 15:41:59.237642+08:00  2023-09-28 13:41:59.297642+08:00   \n                                                             2023-09-28 16:41:59.237642+08:00  2023-09-28 13:41:59.297642+08:00   \n                                                             2023-09-28 17:41:59.237642+08:00  2023-09-28 13:41:59.297642+08:00   \n                                                             2023-09-28 18:41:59.237642+08:00  2023-09-28 13:41:59.297642+08:00   \n1     VB7     zheng-longfei 2023-09-26 21:41:59.297357+08:00 2023-09-28 15:41:59.237642+08:00  2023-09-28 13:41:59.297642+08:00   \n                                                             2023-09-28 17:41:59.237642+08:00  2023-09-28 13:41:59.297642+08:00   \n2     MP73    wang-cheng    2023-09-23 21:41:59.297357+08:00 2023-09-28 15:41:59.237642+08:00  2023-09-28 13:41:59.297642+08:00   \n                                                             2023-09-28 16:41:59.237642+08:00  2023-09-28 13:41:59.297642+08:00   \n                                                             2023-09-28 17:41:59.237642+08:00  2023-09-28 13:41:59.297642+08:00   \n                                                             2023-09-28 18:41:59.237642+08:00  2023-09-28 13:41:59.297642+08:00   \n3     VB7     wang-cheng    2023-09-22 21:41:59.297357+08:00 2023-09-28 15:41:59.237642+08:00  2023-09-28 13:41:59.297642+08:00   \n                                                             2023-09-28 17:41:59.237642+08:00  2023-09-28 13:41:59.297642+08:00   \n4     MP73    zheng-longfei 2023-09-21 21:41:59.297357+08:00 2023-09-28 15:41:59.237642+08:00  2023-09-28 13:41:59.297642+08:00   \n                                                             2023-09-28 16:41:59.237642+08:00  2023-09-28 13:41:59.297642+08:00   \n                                                             2023-09-28 17:41:59.237642+08:00  2023-09-28 13:41:59.297642+08:00   \n                                                             2023-09-28 18:41:59.237642+08:00  2023-09-28 13:41:59.297642+08:00   \n5     MP73    zheng-longfei 2023-09-19 22:54:27.750917+08:00 2023-09-27 00:54:27.676989+08:00  2023-09-26 22:54:27.736989+08:00   \n                                                             2023-09-27 01:54:27.676989+08:00  2023-09-26 22:54:27.736989+08:00   \n                                                             2023-09-27 02:54:27.676989+08:00  2023-09-26 22:54:27.736989+08:00   \n                                                             2023-09-27 03:54:27.676989+08:00  2023-09-26 22:54:27.736989+08:00   \n\nqtuple                                                                                                  \\\nrows                                                                                          velocity   \nidx                                                                                                  0   \nbatch vehicle driver        episodestart                     timestamp                                   \n0     VB7     wang-cheng    2023-09-28 13:41:59.237642+08:00 2023-09-28 14:41:59.237642+08:00      0.0   \n                                                             2023-09-28 15:41:59.237642+08:00      0.0   \n                                                             2023-09-28 16:41:59.237642+08:00      0.0   \n                                                             2023-09-28 17:41:59.237642+08:00      0.0   \n                                                             2023-09-28 18:41:59.237642+08:00      0.0   \n1     VB7     zheng-longfei 2023-09-26 21:41:59.297357+08:00 2023-09-28 15:41:59.237642+08:00      0.0   \n                                                             2023-09-28 17:41:59.237642+08:00      0.0   \n2     MP73    wang-cheng    2023-09-23 21:41:59.297357+08:00 2023-09-28 15:41:59.237642+08:00      0.0   \n                                                             2023-09-28 16:41:59.237642+08:00      0.0   \n                                                             2023-09-28 17:41:59.237642+08:00      0.0   \n                                                             2023-09-28 18:41:59.237642+08:00      0.0   \n3     VB7     wang-cheng    2023-09-22 21:41:59.297357+08:00 2023-09-28 15:41:59.237642+08:00      0.0   \n                                                             2023-09-28 17:41:59.237642+08:00      0.0   \n4     MP73    zheng-longfei 2023-09-21 21:41:59.297357+08:00 2023-09-28 15:41:59.237642+08:00      0.0   \n                                                             2023-09-28 16:41:59.237642+08:00      0.0   \n                                                             2023-09-28 17:41:59.237642+08:00      0.0   \n                                                             2023-09-28 18:41:59.237642+08:00      0.0   \n5     MP73    zheng-longfei 2023-09-19 22:54:27.750917+08:00 2023-09-27 00:54:27.676989+08:00      0.0   \n                                                             2023-09-27 01:54:27.676989+08:00      0.0   \n                                                             2023-09-27 02:54:27.676989+08:00      0.0   \n                                                             2023-09-27 03:54:27.676989+08:00      0.0   \n\nqtuple                                                                                              \\\nrows                                                                                                 \nidx                                                                                              1   \nbatch vehicle driver        episodestart                     timestamp                               \n0     VB7     wang-cheng    2023-09-28 13:41:59.237642+08:00 2023-09-28 14:41:59.237642+08:00  1.0   \n                                                             2023-09-28 15:41:59.237642+08:00  1.0   \n                                                             2023-09-28 16:41:59.237642+08:00  1.0   \n                                                             2023-09-28 17:41:59.237642+08:00  1.0   \n                                                             2023-09-28 18:41:59.237642+08:00  1.0   \n1     VB7     zheng-longfei 2023-09-26 21:41:59.297357+08:00 2023-09-28 15:41:59.237642+08:00  1.0   \n                                                             2023-09-28 17:41:59.237642+08:00  1.0   \n2     MP73    wang-cheng    2023-09-23 21:41:59.297357+08:00 2023-09-28 15:41:59.237642+08:00  1.0   \n                                                             2023-09-28 16:41:59.237642+08:00  1.0   \n                                                             2023-09-28 17:41:59.237642+08:00  1.0   \n                                                             2023-09-28 18:41:59.237642+08:00  1.0   \n3     VB7     wang-cheng    2023-09-22 21:41:59.297357+08:00 2023-09-28 15:41:59.237642+08:00  1.0   \n                                                             2023-09-28 17:41:59.237642+08:00  1.0   \n4     MP73    zheng-longfei 2023-09-21 21:41:59.297357+08:00 2023-09-28 15:41:59.237642+08:00  1.0   \n                                                             2023-09-28 16:41:59.237642+08:00  1.0   \n                                                             2023-09-28 17:41:59.237642+08:00  1.0   \n                                                             2023-09-28 18:41:59.237642+08:00  1.0   \n5     MP73    zheng-longfei 2023-09-19 22:54:27.750917+08:00 2023-09-27 00:54:27.676989+08:00  1.0   \n                                                             2023-09-27 01:54:27.676989+08:00  1.0   \n                                                             2023-09-27 02:54:27.676989+08:00  1.0   \n                                                             2023-09-27 03:54:27.676989+08:00  1.0   \n\nqtuple                                                                                              \\\nrows                                                                                                 \nidx                                                                                              2   \nbatch vehicle driver        episodestart                     timestamp                               \n0     VB7     wang-cheng    2023-09-28 13:41:59.237642+08:00 2023-09-28 14:41:59.237642+08:00  2.0   \n                                                             2023-09-28 15:41:59.237642+08:00  2.0   \n                                                             2023-09-28 16:41:59.237642+08:00  2.0   \n                                                             2023-09-28 17:41:59.237642+08:00  2.0   \n                                                             2023-09-28 18:41:59.237642+08:00  2.0   \n1     VB7     zheng-longfei 2023-09-26 21:41:59.297357+08:00 2023-09-28 15:41:59.237642+08:00  2.0   \n                                                             2023-09-28 17:41:59.237642+08:00  2.0   \n2     MP73    wang-cheng    2023-09-23 21:41:59.297357+08:00 2023-09-28 15:41:59.237642+08:00  2.0   \n                                                             2023-09-28 16:41:59.237642+08:00  2.0   \n                                                             2023-09-28 17:41:59.237642+08:00  2.0   \n                                                             2023-09-28 18:41:59.237642+08:00  2.0   \n3     VB7     wang-cheng    2023-09-22 21:41:59.297357+08:00 2023-09-28 15:41:59.237642+08:00  2.0   \n                                                             2023-09-28 17:41:59.237642+08:00  2.0   \n4     MP73    zheng-longfei 2023-09-21 21:41:59.297357+08:00 2023-09-28 15:41:59.237642+08:00  2.0   \n                                                             2023-09-28 16:41:59.237642+08:00  2.0   \n                                                             2023-09-28 17:41:59.237642+08:00  2.0   \n                                                             2023-09-28 18:41:59.237642+08:00  2.0   \n5     MP73    zheng-longfei 2023-09-19 22:54:27.750917+08:00 2023-09-27 00:54:27.676989+08:00  2.0   \n                                                             2023-09-27 01:54:27.676989+08:00  2.0   \n                                                             2023-09-27 02:54:27.676989+08:00  2.0   \n                                                             2023-09-27 03:54:27.676989+08:00  2.0   \n\nqtuple                                                                                              \nrows                                                                                                \nidx                                                                                              3  \nbatch vehicle driver        episodestart                     timestamp                              \n0     VB7     wang-cheng    2023-09-28 13:41:59.237642+08:00 2023-09-28 14:41:59.237642+08:00  3.0  \n                                                             2023-09-28 15:41:59.237642+08:00  3.0  \n                                                             2023-09-28 16:41:59.237642+08:00  3.0  \n                                                             2023-09-28 17:41:59.237642+08:00  3.0  \n                                                             2023-09-28 18:41:59.237642+08:00  3.0  \n1     VB7     zheng-longfei 2023-09-26 21:41:59.297357+08:00 2023-09-28 15:41:59.237642+08:00  3.0  \n                                                             2023-09-28 17:41:59.237642+08:00  3.0  \n2     MP73    wang-cheng    2023-09-23 21:41:59.297357+08:00 2023-09-28 15:41:59.237642+08:00  3.0  \n                                                             2023-09-28 16:41:59.237642+08:00  3.0  \n                                                             2023-09-28 17:41:59.237642+08:00  3.0  \n                                                             2023-09-28 18:41:59.237642+08:00  3.0  \n3     VB7     wang-cheng    2023-09-22 21:41:59.297357+08:00 2023-09-28 15:41:59.237642+08:00  3.0  \n                                                             2023-09-28 17:41:59.237642+08:00  3.0  \n4     MP73    zheng-longfei 2023-09-21 21:41:59.297357+08:00 2023-09-28 15:41:59.237642+08:00  3.0  \n                                                             2023-09-28 16:41:59.237642+08:00  3.0  \n                                                             2023-09-28 17:41:59.237642+08:00  3.0  \n                                                             2023-09-28 18:41:59.237642+08:00  3.0  \n5     MP73    zheng-longfei 2023-09-19 22:54:27.750917+08:00 2023-09-27 00:54:27.676989+08:00  3.0  \n                                                             2023-09-27 01:54:27.676989+08:00  3.0  \n                                                             2023-09-27 02:54:27.676989+08:00  3.0  \n                                                             2023-09-27 03:54:27.676989+08:00  3.0  \n\n[21 rows x 60 columns]",
      "text/html": "<div>\n<style scoped>\n    .dataframe tbody tr th:only-of-type {\n        vertical-align: middle;\n    }\n\n    .dataframe tbody tr th {\n        vertical-align: top;\n    }\n\n    .dataframe thead tr th {\n        text-align: left;\n    }\n\n    .dataframe thead tr:last-of-type th {\n        text-align: right;\n    }\n</style>\n<table border=\"1\" class=\"dataframe\">\n  <thead>\n    <tr>\n      <th></th>\n      <th></th>\n      <th></th>\n      <th></th>\n      <th>qtuple</th>\n      <th colspan=\"10\" halign=\"left\">action</th>\n      <th>...</th>\n      <th colspan=\"10\" halign=\"left\">state</th>\n    </tr>\n    <tr>\n      <th></th>\n      <th></th>\n      <th></th>\n      <th></th>\n      <th>rows</th>\n      <th colspan=\"5\" halign=\"left\">r0</th>\n      <th colspan=\"5\" halign=\"left\">r1</th>\n      <th>...</th>\n      <th colspan=\"2\" halign=\"left\">thrust</th>\n      <th colspan=\"4\" halign=\"left\">timestep</th>\n      <th colspan=\"4\" halign=\"left\">velocity</th>\n    </tr>\n    <tr>\n      <th></th>\n      <th></th>\n      <th></th>\n      <th></th>\n      <th>idx</th>\n      <th>0</th>\n      <th>1</th>\n      <th>2</th>\n      <th>3</th>\n      <th>4</th>\n      <th>0</th>\n      <th>1</th>\n      <th>2</th>\n      <th>3</th>\n      <th>4</th>\n      <th>...</th>\n      <th>2</th>\n      <th>3</th>\n      <th>0</th>\n      <th>1</th>\n      <th>2</th>\n      <th>3</th>\n      <th>0</th>\n      <th>1</th>\n      <th>2</th>\n      <th>3</th>\n    </tr>\n    <tr>\n      <th>batch</th>\n      <th>vehicle</th>\n      <th>driver</th>\n      <th>episodestart</th>\n      <th>timestamp</th>\n      <th></th>\n      <th></th>\n      <th></th>\n      <th></th>\n      <th></th>\n      <th></th>\n      <th></th>\n      <th></th>\n      <th></th>\n      <th></th>\n      <th></th>\n      <th></th>\n      <th></th>\n      <th></th>\n      <th></th>\n      <th></th>\n      <th></th>\n      <th></th>\n      <th></th>\n      <th></th>\n      <th></th>\n    </tr>\n  </thead>\n  <tbody>\n    <tr>\n      <th rowspan=\"5\" valign=\"top\">0</th>\n      <th rowspan=\"5\" valign=\"top\">VB7</th>\n      <th rowspan=\"5\" valign=\"top\">wang-cheng</th>\n      <th rowspan=\"5\" valign=\"top\">2023-09-28 13:41:59.237642+08:00</th>\n      <th>2023-09-28 14:41:59.237642+08:00</th>\n      <td>12.0</td>\n      <td>13.0</td>\n      <td>14.0</td>\n      <td>15.0</td>\n      <td>16.0</td>\n      <td>17.0</td>\n      <td>18.0</td>\n      <td>19.0</td>\n      <td>20.0</td>\n      <td>21.0</td>\n      <td>...</td>\n      <td>6.0</td>\n      <td>7.0</td>\n      <td>2023-09-28 13:41:59.237642+08:00</td>\n      <td>2023-09-28 13:41:59.257642+08:00</td>\n      <td>2023-09-28 13:41:59.277642+08:00</td>\n      <td>2023-09-28 13:41:59.297642+08:00</td>\n      <td>0.0</td>\n      <td>1.0</td>\n      <td>2.0</td>\n      <td>3.0</td>\n    </tr>\n    <tr>\n      <th>2023-09-28 15:41:59.237642+08:00</th>\n      <td>12.0</td>\n      <td>13.0</td>\n      <td>14.0</td>\n      <td>15.0</td>\n      <td>16.0</td>\n      <td>17.0</td>\n      <td>18.0</td>\n      <td>19.0</td>\n      <td>20.0</td>\n      <td>21.0</td>\n      <td>...</td>\n      <td>6.0</td>\n      <td>7.0</td>\n      <td>2023-09-28 13:41:59.237642+08:00</td>\n      <td>2023-09-28 13:41:59.257642+08:00</td>\n      <td>2023-09-28 13:41:59.277642+08:00</td>\n      <td>2023-09-28 13:41:59.297642+08:00</td>\n      <td>0.0</td>\n      <td>1.0</td>\n      <td>2.0</td>\n      <td>3.0</td>\n    </tr>\n    <tr>\n      <th>2023-09-28 16:41:59.237642+08:00</th>\n      <td>12.0</td>\n      <td>13.0</td>\n      <td>14.0</td>\n      <td>15.0</td>\n      <td>16.0</td>\n      <td>17.0</td>\n      <td>18.0</td>\n      <td>19.0</td>\n      <td>20.0</td>\n      <td>21.0</td>\n      <td>...</td>\n      <td>6.0</td>\n      <td>7.0</td>\n      <td>2023-09-28 13:41:59.237642+08:00</td>\n      <td>2023-09-28 13:41:59.257642+08:00</td>\n      <td>2023-09-28 13:41:59.277642+08:00</td>\n      <td>2023-09-28 13:41:59.297642+08:00</td>\n      <td>0.0</td>\n      <td>1.0</td>\n      <td>2.0</td>\n      <td>3.0</td>\n    </tr>\n    <tr>\n      <th>2023-09-28 17:41:59.237642+08:00</th>\n      <td>12.0</td>\n      <td>13.0</td>\n      <td>14.0</td>\n      <td>15.0</td>\n      <td>16.0</td>\n      <td>17.0</td>\n      <td>18.0</td>\n      <td>19.0</td>\n      <td>20.0</td>\n      <td>21.0</td>\n      <td>...</td>\n      <td>6.0</td>\n      <td>7.0</td>\n      <td>2023-09-28 13:41:59.237642+08:00</td>\n      <td>2023-09-28 13:41:59.257642+08:00</td>\n      <td>2023-09-28 13:41:59.277642+08:00</td>\n      <td>2023-09-28 13:41:59.297642+08:00</td>\n      <td>0.0</td>\n      <td>1.0</td>\n      <td>2.0</td>\n      <td>3.0</td>\n    </tr>\n    <tr>\n      <th>2023-09-28 18:41:59.237642+08:00</th>\n      <td>12.0</td>\n      <td>13.0</td>\n      <td>14.0</td>\n      <td>15.0</td>\n      <td>16.0</td>\n      <td>17.0</td>\n      <td>18.0</td>\n      <td>19.0</td>\n      <td>20.0</td>\n      <td>21.0</td>\n      <td>...</td>\n      <td>6.0</td>\n      <td>7.0</td>\n      <td>2023-09-28 13:41:59.237642+08:00</td>\n      <td>2023-09-28 13:41:59.257642+08:00</td>\n      <td>2023-09-28 13:41:59.277642+08:00</td>\n      <td>2023-09-28 13:41:59.297642+08:00</td>\n      <td>0.0</td>\n      <td>1.0</td>\n      <td>2.0</td>\n      <td>3.0</td>\n    </tr>\n    <tr>\n      <th rowspan=\"2\" valign=\"top\">1</th>\n      <th rowspan=\"2\" valign=\"top\">VB7</th>\n      <th rowspan=\"2\" valign=\"top\">zheng-longfei</th>\n      <th rowspan=\"2\" valign=\"top\">2023-09-26 21:41:59.297357+08:00</th>\n      <th>2023-09-28 15:41:59.237642+08:00</th>\n      <td>12.0</td>\n      <td>13.0</td>\n      <td>14.0</td>\n      <td>15.0</td>\n      <td>16.0</td>\n      <td>17.0</td>\n      <td>18.0</td>\n      <td>19.0</td>\n      <td>20.0</td>\n      <td>21.0</td>\n      <td>...</td>\n      <td>6.0</td>\n      <td>7.0</td>\n      <td>2023-09-28 13:41:59.237642+08:00</td>\n      <td>2023-09-28 13:41:59.257642+08:00</td>\n      <td>2023-09-28 13:41:59.277642+08:00</td>\n      <td>2023-09-28 13:41:59.297642+08:00</td>\n      <td>0.0</td>\n      <td>1.0</td>\n      <td>2.0</td>\n      <td>3.0</td>\n    </tr>\n    <tr>\n      <th>2023-09-28 17:41:59.237642+08:00</th>\n      <td>12.0</td>\n      <td>13.0</td>\n      <td>14.0</td>\n      <td>15.0</td>\n      <td>16.0</td>\n      <td>17.0</td>\n      <td>18.0</td>\n      <td>19.0</td>\n      <td>20.0</td>\n      <td>21.0</td>\n      <td>...</td>\n      <td>6.0</td>\n      <td>7.0</td>\n      <td>2023-09-28 13:41:59.237642+08:00</td>\n      <td>2023-09-28 13:41:59.257642+08:00</td>\n      <td>2023-09-28 13:41:59.277642+08:00</td>\n      <td>2023-09-28 13:41:59.297642+08:00</td>\n      <td>0.0</td>\n      <td>1.0</td>\n      <td>2.0</td>\n      <td>3.0</td>\n    </tr>\n    <tr>\n      <th rowspan=\"4\" valign=\"top\">2</th>\n      <th rowspan=\"4\" valign=\"top\">MP73</th>\n      <th rowspan=\"4\" valign=\"top\">wang-cheng</th>\n      <th rowspan=\"4\" valign=\"top\">2023-09-23 21:41:59.297357+08:00</th>\n      <th>2023-09-28 15:41:59.237642+08:00</th>\n      <td>12.0</td>\n      <td>13.0</td>\n      <td>14.0</td>\n      <td>15.0</td>\n      <td>16.0</td>\n      <td>17.0</td>\n      <td>18.0</td>\n      <td>19.0</td>\n      <td>20.0</td>\n      <td>21.0</td>\n      <td>...</td>\n      <td>6.0</td>\n      <td>7.0</td>\n      <td>2023-09-28 13:41:59.237642+08:00</td>\n      <td>2023-09-28 13:41:59.257642+08:00</td>\n      <td>2023-09-28 13:41:59.277642+08:00</td>\n      <td>2023-09-28 13:41:59.297642+08:00</td>\n      <td>0.0</td>\n      <td>1.0</td>\n      <td>2.0</td>\n      <td>3.0</td>\n    </tr>\n    <tr>\n      <th>2023-09-28 16:41:59.237642+08:00</th>\n      <td>12.0</td>\n      <td>13.0</td>\n      <td>14.0</td>\n      <td>15.0</td>\n      <td>16.0</td>\n      <td>17.0</td>\n      <td>18.0</td>\n      <td>19.0</td>\n      <td>20.0</td>\n      <td>21.0</td>\n      <td>...</td>\n      <td>6.0</td>\n      <td>7.0</td>\n      <td>2023-09-28 13:41:59.237642+08:00</td>\n      <td>2023-09-28 13:41:59.257642+08:00</td>\n      <td>2023-09-28 13:41:59.277642+08:00</td>\n      <td>2023-09-28 13:41:59.297642+08:00</td>\n      <td>0.0</td>\n      <td>1.0</td>\n      <td>2.0</td>\n      <td>3.0</td>\n    </tr>\n    <tr>\n      <th>2023-09-28 17:41:59.237642+08:00</th>\n      <td>12.0</td>\n      <td>13.0</td>\n      <td>14.0</td>\n      <td>15.0</td>\n      <td>16.0</td>\n      <td>17.0</td>\n      <td>18.0</td>\n      <td>19.0</td>\n      <td>20.0</td>\n      <td>21.0</td>\n      <td>...</td>\n      <td>6.0</td>\n      <td>7.0</td>\n      <td>2023-09-28 13:41:59.237642+08:00</td>\n      <td>2023-09-28 13:41:59.257642+08:00</td>\n      <td>2023-09-28 13:41:59.277642+08:00</td>\n      <td>2023-09-28 13:41:59.297642+08:00</td>\n      <td>0.0</td>\n      <td>1.0</td>\n      <td>2.0</td>\n      <td>3.0</td>\n    </tr>\n    <tr>\n      <th>2023-09-28 18:41:59.237642+08:00</th>\n      <td>12.0</td>\n      <td>13.0</td>\n      <td>14.0</td>\n      <td>15.0</td>\n      <td>16.0</td>\n      <td>17.0</td>\n      <td>18.0</td>\n      <td>19.0</td>\n      <td>20.0</td>\n      <td>21.0</td>\n      <td>...</td>\n      <td>6.0</td>\n      <td>7.0</td>\n      <td>2023-09-28 13:41:59.237642+08:00</td>\n      <td>2023-09-28 13:41:59.257642+08:00</td>\n      <td>2023-09-28 13:41:59.277642+08:00</td>\n      <td>2023-09-28 13:41:59.297642+08:00</td>\n      <td>0.0</td>\n      <td>1.0</td>\n      <td>2.0</td>\n      <td>3.0</td>\n    </tr>\n    <tr>\n      <th rowspan=\"2\" valign=\"top\">3</th>\n      <th rowspan=\"2\" valign=\"top\">VB7</th>\n      <th rowspan=\"2\" valign=\"top\">wang-cheng</th>\n      <th rowspan=\"2\" valign=\"top\">2023-09-22 21:41:59.297357+08:00</th>\n      <th>2023-09-28 15:41:59.237642+08:00</th>\n      <td>12.0</td>\n      <td>13.0</td>\n      <td>14.0</td>\n      <td>15.0</td>\n      <td>16.0</td>\n      <td>17.0</td>\n      <td>18.0</td>\n      <td>19.0</td>\n      <td>20.0</td>\n      <td>21.0</td>\n      <td>...</td>\n      <td>6.0</td>\n      <td>7.0</td>\n      <td>2023-09-28 13:41:59.237642+08:00</td>\n      <td>2023-09-28 13:41:59.257642+08:00</td>\n      <td>2023-09-28 13:41:59.277642+08:00</td>\n      <td>2023-09-28 13:41:59.297642+08:00</td>\n      <td>0.0</td>\n      <td>1.0</td>\n      <td>2.0</td>\n      <td>3.0</td>\n    </tr>\n    <tr>\n      <th>2023-09-28 17:41:59.237642+08:00</th>\n      <td>12.0</td>\n      <td>13.0</td>\n      <td>14.0</td>\n      <td>15.0</td>\n      <td>16.0</td>\n      <td>17.0</td>\n      <td>18.0</td>\n      <td>19.0</td>\n      <td>20.0</td>\n      <td>21.0</td>\n      <td>...</td>\n      <td>6.0</td>\n      <td>7.0</td>\n      <td>2023-09-28 13:41:59.237642+08:00</td>\n      <td>2023-09-28 13:41:59.257642+08:00</td>\n      <td>2023-09-28 13:41:59.277642+08:00</td>\n      <td>2023-09-28 13:41:59.297642+08:00</td>\n      <td>0.0</td>\n      <td>1.0</td>\n      <td>2.0</td>\n      <td>3.0</td>\n    </tr>\n    <tr>\n      <th rowspan=\"4\" valign=\"top\">4</th>\n      <th rowspan=\"4\" valign=\"top\">MP73</th>\n      <th rowspan=\"4\" valign=\"top\">zheng-longfei</th>\n      <th rowspan=\"4\" valign=\"top\">2023-09-21 21:41:59.297357+08:00</th>\n      <th>2023-09-28 15:41:59.237642+08:00</th>\n      <td>12.0</td>\n      <td>13.0</td>\n      <td>14.0</td>\n      <td>15.0</td>\n      <td>16.0</td>\n      <td>17.0</td>\n      <td>18.0</td>\n      <td>19.0</td>\n      <td>20.0</td>\n      <td>21.0</td>\n      <td>...</td>\n      <td>6.0</td>\n      <td>7.0</td>\n      <td>2023-09-28 13:41:59.237642+08:00</td>\n      <td>2023-09-28 13:41:59.257642+08:00</td>\n      <td>2023-09-28 13:41:59.277642+08:00</td>\n      <td>2023-09-28 13:41:59.297642+08:00</td>\n      <td>0.0</td>\n      <td>1.0</td>\n      <td>2.0</td>\n      <td>3.0</td>\n    </tr>\n    <tr>\n      <th>2023-09-28 16:41:59.237642+08:00</th>\n      <td>12.0</td>\n      <td>13.0</td>\n      <td>14.0</td>\n      <td>15.0</td>\n      <td>16.0</td>\n      <td>17.0</td>\n      <td>18.0</td>\n      <td>19.0</td>\n      <td>20.0</td>\n      <td>21.0</td>\n      <td>...</td>\n      <td>6.0</td>\n      <td>7.0</td>\n      <td>2023-09-28 13:41:59.237642+08:00</td>\n      <td>2023-09-28 13:41:59.257642+08:00</td>\n      <td>2023-09-28 13:41:59.277642+08:00</td>\n      <td>2023-09-28 13:41:59.297642+08:00</td>\n      <td>0.0</td>\n      <td>1.0</td>\n      <td>2.0</td>\n      <td>3.0</td>\n    </tr>\n    <tr>\n      <th>2023-09-28 17:41:59.237642+08:00</th>\n      <td>12.0</td>\n      <td>13.0</td>\n      <td>14.0</td>\n      <td>15.0</td>\n      <td>16.0</td>\n      <td>17.0</td>\n      <td>18.0</td>\n      <td>19.0</td>\n      <td>20.0</td>\n      <td>21.0</td>\n      <td>...</td>\n      <td>6.0</td>\n      <td>7.0</td>\n      <td>2023-09-28 13:41:59.237642+08:00</td>\n      <td>2023-09-28 13:41:59.257642+08:00</td>\n      <td>2023-09-28 13:41:59.277642+08:00</td>\n      <td>2023-09-28 13:41:59.297642+08:00</td>\n      <td>0.0</td>\n      <td>1.0</td>\n      <td>2.0</td>\n      <td>3.0</td>\n    </tr>\n    <tr>\n      <th>2023-09-28 18:41:59.237642+08:00</th>\n      <td>12.0</td>\n      <td>13.0</td>\n      <td>14.0</td>\n      <td>15.0</td>\n      <td>16.0</td>\n      <td>17.0</td>\n      <td>18.0</td>\n      <td>19.0</td>\n      <td>20.0</td>\n      <td>21.0</td>\n      <td>...</td>\n      <td>6.0</td>\n      <td>7.0</td>\n      <td>2023-09-28 13:41:59.237642+08:00</td>\n      <td>2023-09-28 13:41:59.257642+08:00</td>\n      <td>2023-09-28 13:41:59.277642+08:00</td>\n      <td>2023-09-28 13:41:59.297642+08:00</td>\n      <td>0.0</td>\n      <td>1.0</td>\n      <td>2.0</td>\n      <td>3.0</td>\n    </tr>\n    <tr>\n      <th rowspan=\"4\" valign=\"top\">5</th>\n      <th rowspan=\"4\" valign=\"top\">MP73</th>\n      <th rowspan=\"4\" valign=\"top\">zheng-longfei</th>\n      <th rowspan=\"4\" valign=\"top\">2023-09-19 22:54:27.750917+08:00</th>\n      <th>2023-09-27 00:54:27.676989+08:00</th>\n      <td>12.0</td>\n      <td>13.0</td>\n      <td>14.0</td>\n      <td>15.0</td>\n      <td>16.0</td>\n      <td>17.0</td>\n      <td>18.0</td>\n      <td>19.0</td>\n      <td>20.0</td>\n      <td>21.0</td>\n      <td>...</td>\n      <td>6.0</td>\n      <td>7.0</td>\n      <td>2023-09-26 22:54:27.676989+08:00</td>\n      <td>2023-09-26 22:54:27.696989+08:00</td>\n      <td>2023-09-26 22:54:27.716989+08:00</td>\n      <td>2023-09-26 22:54:27.736989+08:00</td>\n      <td>0.0</td>\n      <td>1.0</td>\n      <td>2.0</td>\n      <td>3.0</td>\n    </tr>\n    <tr>\n      <th>2023-09-27 01:54:27.676989+08:00</th>\n      <td>12.0</td>\n      <td>13.0</td>\n      <td>14.0</td>\n      <td>15.0</td>\n      <td>16.0</td>\n      <td>17.0</td>\n      <td>18.0</td>\n      <td>19.0</td>\n      <td>20.0</td>\n      <td>21.0</td>\n      <td>...</td>\n      <td>6.0</td>\n      <td>7.0</td>\n      <td>2023-09-26 22:54:27.676989+08:00</td>\n      <td>2023-09-26 22:54:27.696989+08:00</td>\n      <td>2023-09-26 22:54:27.716989+08:00</td>\n      <td>2023-09-26 22:54:27.736989+08:00</td>\n      <td>0.0</td>\n      <td>1.0</td>\n      <td>2.0</td>\n      <td>3.0</td>\n    </tr>\n    <tr>\n      <th>2023-09-27 02:54:27.676989+08:00</th>\n      <td>12.0</td>\n      <td>13.0</td>\n      <td>14.0</td>\n      <td>15.0</td>\n      <td>16.0</td>\n      <td>17.0</td>\n      <td>18.0</td>\n      <td>19.0</td>\n      <td>20.0</td>\n      <td>21.0</td>\n      <td>...</td>\n      <td>6.0</td>\n      <td>7.0</td>\n      <td>2023-09-26 22:54:27.676989+08:00</td>\n      <td>2023-09-26 22:54:27.696989+08:00</td>\n      <td>2023-09-26 22:54:27.716989+08:00</td>\n      <td>2023-09-26 22:54:27.736989+08:00</td>\n      <td>0.0</td>\n      <td>1.0</td>\n      <td>2.0</td>\n      <td>3.0</td>\n    </tr>\n    <tr>\n      <th>2023-09-27 03:54:27.676989+08:00</th>\n      <td>12.0</td>\n      <td>13.0</td>\n      <td>14.0</td>\n      <td>15.0</td>\n      <td>16.0</td>\n      <td>17.0</td>\n      <td>18.0</td>\n      <td>19.0</td>\n      <td>20.0</td>\n      <td>21.0</td>\n      <td>...</td>\n      <td>6.0</td>\n      <td>7.0</td>\n      <td>2023-09-26 22:54:27.676989+08:00</td>\n      <td>2023-09-26 22:54:27.696989+08:00</td>\n      <td>2023-09-26 22:54:27.716989+08:00</td>\n      <td>2023-09-26 22:54:27.736989+08:00</td>\n      <td>0.0</td>\n      <td>1.0</td>\n      <td>2.0</td>\n      <td>3.0</td>\n    </tr>\n  </tbody>\n</table>\n<p>21 rows × 60 columns</p>\n</div>"
     },
     "execution_count": 30,
     "metadata": {},
     "output_type": "execute_result"
    }
   ],
   "source": [
    "from functools import reduce\n",
    "\n",
    "df_episodes_list = []\n",
    "for ep in dicts:\n",
    "    dict_observations = [\n",
    "        {\n",
    "            (\n",
    "                ep[\"meta\"][\"episode_meta\"][\"vehicle\"],\n",
    "                ep[\"meta\"][\"episode_meta\"][\"driver\"],\n",
    "                pd.to_datetime(\n",
    "                    ep[\"meta\"][\"episode_meta\"][\"episodestart\"], unit=\"us\", utc=True\n",
    "                ).tz_convert(\"Asia/Shanghai\"),\n",
    "                pd.to_datetime(step[\"timestamp\"], unit=\"us\", utc=True).tz_convert(\n",
    "                    \"Asia/Shanghai\"\n",
    "                ),\n",
    "                qtuple,\n",
    "                rows,\n",
    "                idx,\n",
    "            ): item\n",
    "            if rows != \"timestep\"\n",
    "            else pd.to_datetime(item).tz_convert(\"Asia/Shanghai\")\n",
    "            for qtuple, obs in step.items()\n",
    "            if qtuple != \"timestamp\"\n",
    "            for rows, value in obs.items()\n",
    "            for idx, item in enumerate(value)\n",
    "        }\n",
    "        for step in ep[\"sequence\"]\n",
    "    ]\n",
    "\n",
    "    dict_ep = {k: v for d in dict_observations for k, v in d.items()}\n",
    "\n",
    "    ser_decoded = pd.Series(dict_ep)\n",
    "    ser_decoded.index.names = [\n",
    "        \"vehicle\",\n",
    "        \"driver\",\n",
    "        \"episodestart\",\n",
    "        \"timestamp\",\n",
    "        \"qtuple\",\n",
    "        \"rows\",\n",
    "        \"idx\",\n",
    "    ]\n",
    "    df_decoded = ser_decoded.unstack(level=[\"qtuple\", \"rows\", \"idx\"])\n",
    "    df_decoded.sort_index(inplace=True, axis=1)\n",
    "    df_episodes_list.append(df_decoded)\n",
    "    # df_decoded\n",
    "\n",
    "# try:\n",
    "#     df_episodes = reduce(\n",
    "#         lambda left,right: pd.concat([left,right], axis=0, ignore_index=False),df_episodes_list\n",
    "#     )\n",
    "# except Exception as e:\n",
    "#     print(e)\n",
    "\n",
    "index_names = df_episodes_list[0].index.names\n",
    "df_episodes = pd.concat(\n",
    "    df_episodes_list, keys=range(len(df_episodes_list)), names=[\"batch\"] + index_names\n",
    ")\n",
    "\n",
    "df_episodes"
   ],
   "metadata": {
    "collapsed": false,
    "ExecuteTime": {
     "end_time": "2023-09-28T05:42:01.791872549Z",
     "start_time": "2023-09-28T05:42:01.462493682Z"
    }
   },
   "id": "cb25a5526ac9a61f"
  },
  {
   "cell_type": "code",
   "execution_count": 31,
   "outputs": [
    {
     "data": {
      "text/plain": "6"
     },
     "execution_count": 31,
     "metadata": {},
     "output_type": "execute_result"
    }
   ],
   "source": [
    "len(df_episodes_list)"
   ],
   "metadata": {
    "collapsed": false,
    "ExecuteTime": {
     "end_time": "2023-09-28T05:42:01.792299139Z",
     "start_time": "2023-09-28T05:42:01.675910989Z"
    }
   },
   "id": "5836d89cbe5ee817"
  },
  {
   "cell_type": "code",
   "execution_count": 31,
   "outputs": [],
   "source": [],
   "metadata": {
    "collapsed": false,
    "ExecuteTime": {
     "end_time": "2023-09-28T05:42:01.792358648Z",
     "start_time": "2023-09-28T05:42:01.722453355Z"
    }
   },
   "id": "4bbeb08327709d95"
  },
  {
   "cell_type": "code",
   "execution_count": 32,
   "outputs": [
    {
     "name": "stdout",
     "output_type": "stream",
     "text": [
      "r_n_t: [[[27.0], [27.0], [27.0], [27.0], [27.0]], [[27.0], [27.0]], [[27.0], [27.0], [27.0], [27.0]], [[27.0], [27.0]], [[27.0], [27.0], [27.0], [27.0]], [[27.0], [27.0], [27.0], [27.0]]] (6, 5, 1)\n",
      "s_n_t: [[[0.0, 1.0, 2.0, 3.0, 4.0, 5.0, 6.0, 7.0, 8.0, 9.0, 10.0, 11.0], [0.0, 1.0, 2.0, 3.0, 4.0, 5.0, 6.0, 7.0, 8.0, 9.0, 10.0, 11.0], [0.0, 1.0, 2.0, 3.0, 4.0, 5.0, 6.0, 7.0, 8.0, 9.0, 10.0, 11.0], [0.0, 1.0, 2.0, 3.0, 4.0, 5.0, 6.0, 7.0, 8.0, 9.0, 10.0, 11.0], [0.0, 1.0, 2.0, 3.0, 4.0, 5.0, 6.0, 7.0, 8.0, 9.0, 10.0, 11.0]], [[0.0, 1.0, 2.0, 3.0, 4.0, 5.0, 6.0, 7.0, 8.0, 9.0, 10.0, 11.0], [0.0, 1.0, 2.0, 3.0, 4.0, 5.0, 6.0, 7.0, 8.0, 9.0, 10.0, 11.0]], [[0.0, 1.0, 2.0, 3.0, 4.0, 5.0, 6.0, 7.0, 8.0, 9.0, 10.0, 11.0], [0.0, 1.0, 2.0, 3.0, 4.0, 5.0, 6.0, 7.0, 8.0, 9.0, 10.0, 11.0], [0.0, 1.0, 2.0, 3.0, 4.0, 5.0, 6.0, 7.0, 8.0, 9.0, 10.0, 11.0], [0.0, 1.0, 2.0, 3.0, 4.0, 5.0, 6.0, 7.0, 8.0, 9.0, 10.0, 11.0]], [[0.0, 1.0, 2.0, 3.0, 4.0, 5.0, 6.0, 7.0, 8.0, 9.0, 10.0, 11.0], [0.0, 1.0, 2.0, 3.0, 4.0, 5.0, 6.0, 7.0, 8.0, 9.0, 10.0, 11.0]], [[0.0, 1.0, 2.0, 3.0, 4.0, 5.0, 6.0, 7.0, 8.0, 9.0, 10.0, 11.0], [0.0, 1.0, 2.0, 3.0, 4.0, 5.0, 6.0, 7.0, 8.0, 9.0, 10.0, 11.0], [0.0, 1.0, 2.0, 3.0, 4.0, 5.0, 6.0, 7.0, 8.0, 9.0, 10.0, 11.0], [0.0, 1.0, 2.0, 3.0, 4.0, 5.0, 6.0, 7.0, 8.0, 9.0, 10.0, 11.0]], [[0.0, 1.0, 2.0, 3.0, 4.0, 5.0, 6.0, 7.0, 8.0, 9.0, 10.0, 11.0], [0.0, 1.0, 2.0, 3.0, 4.0, 5.0, 6.0, 7.0, 8.0, 9.0, 10.0, 11.0], [0.0, 1.0, 2.0, 3.0, 4.0, 5.0, 6.0, 7.0, 8.0, 9.0, 10.0, 11.0], [0.0, 1.0, 2.0, 3.0, 4.0, 5.0, 6.0, 7.0, 8.0, 9.0, 10.0, 11.0]]] (6, 5, 12)\n",
      "a_n_t: [[[12.0, 13.0, 14.0, 15.0, 16.0, 17.0, 18.0, 19.0, 20.0, 21.0, 22.0, 23.0, 24.0, 25.0, 26.0], [12.0, 13.0, 14.0, 15.0, 16.0, 17.0, 18.0, 19.0, 20.0, 21.0, 22.0, 23.0, 24.0, 25.0, 26.0], [12.0, 13.0, 14.0, 15.0, 16.0, 17.0, 18.0, 19.0, 20.0, 21.0, 22.0, 23.0, 24.0, 25.0, 26.0], [12.0, 13.0, 14.0, 15.0, 16.0, 17.0, 18.0, 19.0, 20.0, 21.0, 22.0, 23.0, 24.0, 25.0, 26.0], [12.0, 13.0, 14.0, 15.0, 16.0, 17.0, 18.0, 19.0, 20.0, 21.0, 22.0, 23.0, 24.0, 25.0, 26.0]], [[12.0, 13.0, 14.0, 15.0, 16.0, 17.0, 18.0, 19.0, 20.0, 21.0, 22.0, 23.0, 24.0, 25.0, 26.0], [12.0, 13.0, 14.0, 15.0, 16.0, 17.0, 18.0, 19.0, 20.0, 21.0, 22.0, 23.0, 24.0, 25.0, 26.0]], [[12.0, 13.0, 14.0, 15.0, 16.0, 17.0, 18.0, 19.0, 20.0, 21.0, 22.0, 23.0, 24.0, 25.0, 26.0], [12.0, 13.0, 14.0, 15.0, 16.0, 17.0, 18.0, 19.0, 20.0, 21.0, 22.0, 23.0, 24.0, 25.0, 26.0], [12.0, 13.0, 14.0, 15.0, 16.0, 17.0, 18.0, 19.0, 20.0, 21.0, 22.0, 23.0, 24.0, 25.0, 26.0], [12.0, 13.0, 14.0, 15.0, 16.0, 17.0, 18.0, 19.0, 20.0, 21.0, 22.0, 23.0, 24.0, 25.0, 26.0]], [[12.0, 13.0, 14.0, 15.0, 16.0, 17.0, 18.0, 19.0, 20.0, 21.0, 22.0, 23.0, 24.0, 25.0, 26.0], [12.0, 13.0, 14.0, 15.0, 16.0, 17.0, 18.0, 19.0, 20.0, 21.0, 22.0, 23.0, 24.0, 25.0, 26.0]], [[12.0, 13.0, 14.0, 15.0, 16.0, 17.0, 18.0, 19.0, 20.0, 21.0, 22.0, 23.0, 24.0, 25.0, 26.0], [12.0, 13.0, 14.0, 15.0, 16.0, 17.0, 18.0, 19.0, 20.0, 21.0, 22.0, 23.0, 24.0, 25.0, 26.0], [12.0, 13.0, 14.0, 15.0, 16.0, 17.0, 18.0, 19.0, 20.0, 21.0, 22.0, 23.0, 24.0, 25.0, 26.0], [12.0, 13.0, 14.0, 15.0, 16.0, 17.0, 18.0, 19.0, 20.0, 21.0, 22.0, 23.0, 24.0, 25.0, 26.0]], [[12.0, 13.0, 14.0, 15.0, 16.0, 17.0, 18.0, 19.0, 20.0, 21.0, 22.0, 23.0, 24.0, 25.0, 26.0], [12.0, 13.0, 14.0, 15.0, 16.0, 17.0, 18.0, 19.0, 20.0, 21.0, 22.0, 23.0, 24.0, 25.0, 26.0], [12.0, 13.0, 14.0, 15.0, 16.0, 17.0, 18.0, 19.0, 20.0, 21.0, 22.0, 23.0, 24.0, 25.0, 26.0], [12.0, 13.0, 14.0, 15.0, 16.0, 17.0, 18.0, 19.0, 20.0, 21.0, 22.0, 23.0, 24.0, 25.0, 26.0]]] (6, 5, 15)\n",
      "ns_n_t: [[[28.0, 29.0, 30.0, 31.0, 32.0, 33.0, 34.0, 35.0, 36.0, 37.0, 38.0, 39.0], [28.0, 29.0, 30.0, 31.0, 32.0, 33.0, 34.0, 35.0, 36.0, 37.0, 38.0, 39.0], [28.0, 29.0, 30.0, 31.0, 32.0, 33.0, 34.0, 35.0, 36.0, 37.0, 38.0, 39.0], [28.0, 29.0, 30.0, 31.0, 32.0, 33.0, 34.0, 35.0, 36.0, 37.0, 38.0, 39.0], [28.0, 29.0, 30.0, 31.0, 32.0, 33.0, 34.0, 35.0, 36.0, 37.0, 38.0, 39.0]], [[28.0, 29.0, 30.0, 31.0, 32.0, 33.0, 34.0, 35.0, 36.0, 37.0, 38.0, 39.0], [28.0, 29.0, 30.0, 31.0, 32.0, 33.0, 34.0, 35.0, 36.0, 37.0, 38.0, 39.0]], [[28.0, 29.0, 30.0, 31.0, 32.0, 33.0, 34.0, 35.0, 36.0, 37.0, 38.0, 39.0], [28.0, 29.0, 30.0, 31.0, 32.0, 33.0, 34.0, 35.0, 36.0, 37.0, 38.0, 39.0], [28.0, 29.0, 30.0, 31.0, 32.0, 33.0, 34.0, 35.0, 36.0, 37.0, 38.0, 39.0], [28.0, 29.0, 30.0, 31.0, 32.0, 33.0, 34.0, 35.0, 36.0, 37.0, 38.0, 39.0]], [[28.0, 29.0, 30.0, 31.0, 32.0, 33.0, 34.0, 35.0, 36.0, 37.0, 38.0, 39.0], [28.0, 29.0, 30.0, 31.0, 32.0, 33.0, 34.0, 35.0, 36.0, 37.0, 38.0, 39.0]], [[28.0, 29.0, 30.0, 31.0, 32.0, 33.0, 34.0, 35.0, 36.0, 37.0, 38.0, 39.0], [28.0, 29.0, 30.0, 31.0, 32.0, 33.0, 34.0, 35.0, 36.0, 37.0, 38.0, 39.0], [28.0, 29.0, 30.0, 31.0, 32.0, 33.0, 34.0, 35.0, 36.0, 37.0, 38.0, 39.0], [28.0, 29.0, 30.0, 31.0, 32.0, 33.0, 34.0, 35.0, 36.0, 37.0, 38.0, 39.0]], [[28.0, 29.0, 30.0, 31.0, 32.0, 33.0, 34.0, 35.0, 36.0, 37.0, 38.0, 39.0], [28.0, 29.0, 30.0, 31.0, 32.0, 33.0, 34.0, 35.0, 36.0, 37.0, 38.0, 39.0], [28.0, 29.0, 30.0, 31.0, 32.0, 33.0, 34.0, 35.0, 36.0, 37.0, 38.0, 39.0], [28.0, 29.0, 30.0, 31.0, 32.0, 33.0, 34.0, 35.0, 36.0, 37.0, 38.0, 39.0]]] (6, 5, 12)\n"
     ]
    }
   ],
   "source": [
    "import tensorflow as tf\n",
    "\n",
    "# from keras.preprocessing.sequence import pad_sequences\n",
    "# idx = pd.IndexSlice\n",
    "# episodestart_index = df_episodes.index.unique(level='episodestart')\n",
    "# episodestart_index\n",
    "\n",
    "# array of rewards for minibatch\n",
    "# batch = df_episodes.sort_index(inplace=False, axis=1)\n",
    "idx = pd.IndexSlice\n",
    "# df_rewards = batch.loc[\n",
    "#     :, idx['reward', 'work']\n",
    "# ]\n",
    "rewards_list = [\n",
    "    df_episodes.loc[idx[i, :, :, :, :], idx[\"reward\", \"work\"]].values.tolist()\n",
    "    for i in df_episodes.index.levels[0]\n",
    "]\n",
    "r_n_t = tf.keras.preprocessing.sequence.pad_sequences(\n",
    "    rewards_list, padding=\"post\", dtype=np.float32, value=-10000.0\n",
    ")\n",
    "print(f\"r_n_t: {rewards_list} {r_n_t.shape}\")\n",
    "\n",
    "# array of states for minibatch\n",
    "states_list = [\n",
    "    df_episodes.loc[idx[i, :, :, :, :], idx[\"state\", [\"velocity\", \"thrust\", \"brake\"]]].values.tolist()  # type: ignore\n",
    "    for i in df_episodes.index.levels[0]\n",
    "]\n",
    "s_n_t = tf.keras.preprocessing.sequence.pad_sequences(\n",
    "    states_list, padding=\"post\", dtype=np.float32, value=-10000.0\n",
    ")\n",
    "print(f\"s_n_t: {states_list} {s_n_t.shape}\")\n",
    "\n",
    "# array of actions for minibatch\n",
    "actions_list = [\n",
    "    df_episodes.loc[idx[i, :, :, :, :], idx[\"action\", torque_table_row_names]].values.tolist()  # type: ignore\n",
    "    for i in df_episodes.index.levels[0]\n",
    "]\n",
    "a_n_t = tf.keras.preprocessing.sequence.pad_sequences(\n",
    "    actions_list, padding=\"post\", dtype=np.float32, value=-10000.0\n",
    ")\n",
    "print(f\"a_n_t: {actions_list} {a_n_t.shape}\")\n",
    "\n",
    "# array of next_states for minibatch\n",
    "nstates_list = [\n",
    "    df_episodes.loc[idx[i, :, :, :, :], idx[\"nstate\", [\"velocity\", \"thrust\", \"brake\"]]].values.tolist()  # type: ignore\n",
    "    for i in df_episodes.index.levels[0]\n",
    "]\n",
    "ns_n_t = tf.keras.preprocessing.sequence.pad_sequences(\n",
    "    nstates_list, padding=\"post\", dtype=np.float32, value=-10000.0\n",
    ")\n",
    "\n",
    "print(f\"ns_n_t: {nstates_list} {ns_n_t.shape}\")"
   ],
   "metadata": {
    "collapsed": false,
    "ExecuteTime": {
     "end_time": "2023-09-28T05:42:01.792481062Z",
     "start_time": "2023-09-28T05:42:01.722570189Z"
    }
   },
   "id": "c0dc34fb7235b65"
  },
  {
   "cell_type": "code",
   "execution_count": 34,
   "outputs": [
    {
     "data": {
      "text/plain": "array([[[ 0.0e+00,  1.0e+00,  2.0e+00,  3.0e+00,  4.0e+00,  5.0e+00,\n          6.0e+00,  7.0e+00,  8.0e+00,  9.0e+00,  1.0e+01,  1.1e+01],\n        [ 0.0e+00,  1.0e+00,  2.0e+00,  3.0e+00,  4.0e+00,  5.0e+00,\n          6.0e+00,  7.0e+00,  8.0e+00,  9.0e+00,  1.0e+01,  1.1e+01],\n        [ 0.0e+00,  1.0e+00,  2.0e+00,  3.0e+00,  4.0e+00,  5.0e+00,\n          6.0e+00,  7.0e+00,  8.0e+00,  9.0e+00,  1.0e+01,  1.1e+01],\n        [ 0.0e+00,  1.0e+00,  2.0e+00,  3.0e+00,  4.0e+00,  5.0e+00,\n          6.0e+00,  7.0e+00,  8.0e+00,  9.0e+00,  1.0e+01,  1.1e+01],\n        [ 0.0e+00,  1.0e+00,  2.0e+00,  3.0e+00,  4.0e+00,  5.0e+00,\n          6.0e+00,  7.0e+00,  8.0e+00,  9.0e+00,  1.0e+01,  1.1e+01]],\n\n       [[ 0.0e+00,  1.0e+00,  2.0e+00,  3.0e+00,  4.0e+00,  5.0e+00,\n          6.0e+00,  7.0e+00,  8.0e+00,  9.0e+00,  1.0e+01,  1.1e+01],\n        [ 0.0e+00,  1.0e+00,  2.0e+00,  3.0e+00,  4.0e+00,  5.0e+00,\n          6.0e+00,  7.0e+00,  8.0e+00,  9.0e+00,  1.0e+01,  1.1e+01],\n        [-1.0e+04, -1.0e+04, -1.0e+04, -1.0e+04, -1.0e+04, -1.0e+04,\n         -1.0e+04, -1.0e+04, -1.0e+04, -1.0e+04, -1.0e+04, -1.0e+04],\n        [-1.0e+04, -1.0e+04, -1.0e+04, -1.0e+04, -1.0e+04, -1.0e+04,\n         -1.0e+04, -1.0e+04, -1.0e+04, -1.0e+04, -1.0e+04, -1.0e+04],\n        [-1.0e+04, -1.0e+04, -1.0e+04, -1.0e+04, -1.0e+04, -1.0e+04,\n         -1.0e+04, -1.0e+04, -1.0e+04, -1.0e+04, -1.0e+04, -1.0e+04]],\n\n       [[ 0.0e+00,  1.0e+00,  2.0e+00,  3.0e+00,  4.0e+00,  5.0e+00,\n          6.0e+00,  7.0e+00,  8.0e+00,  9.0e+00,  1.0e+01,  1.1e+01],\n        [ 0.0e+00,  1.0e+00,  2.0e+00,  3.0e+00,  4.0e+00,  5.0e+00,\n          6.0e+00,  7.0e+00,  8.0e+00,  9.0e+00,  1.0e+01,  1.1e+01],\n        [ 0.0e+00,  1.0e+00,  2.0e+00,  3.0e+00,  4.0e+00,  5.0e+00,\n          6.0e+00,  7.0e+00,  8.0e+00,  9.0e+00,  1.0e+01,  1.1e+01],\n        [ 0.0e+00,  1.0e+00,  2.0e+00,  3.0e+00,  4.0e+00,  5.0e+00,\n          6.0e+00,  7.0e+00,  8.0e+00,  9.0e+00,  1.0e+01,  1.1e+01],\n        [-1.0e+04, -1.0e+04, -1.0e+04, -1.0e+04, -1.0e+04, -1.0e+04,\n         -1.0e+04, -1.0e+04, -1.0e+04, -1.0e+04, -1.0e+04, -1.0e+04]],\n\n       [[ 0.0e+00,  1.0e+00,  2.0e+00,  3.0e+00,  4.0e+00,  5.0e+00,\n          6.0e+00,  7.0e+00,  8.0e+00,  9.0e+00,  1.0e+01,  1.1e+01],\n        [ 0.0e+00,  1.0e+00,  2.0e+00,  3.0e+00,  4.0e+00,  5.0e+00,\n          6.0e+00,  7.0e+00,  8.0e+00,  9.0e+00,  1.0e+01,  1.1e+01],\n        [-1.0e+04, -1.0e+04, -1.0e+04, -1.0e+04, -1.0e+04, -1.0e+04,\n         -1.0e+04, -1.0e+04, -1.0e+04, -1.0e+04, -1.0e+04, -1.0e+04],\n        [-1.0e+04, -1.0e+04, -1.0e+04, -1.0e+04, -1.0e+04, -1.0e+04,\n         -1.0e+04, -1.0e+04, -1.0e+04, -1.0e+04, -1.0e+04, -1.0e+04],\n        [-1.0e+04, -1.0e+04, -1.0e+04, -1.0e+04, -1.0e+04, -1.0e+04,\n         -1.0e+04, -1.0e+04, -1.0e+04, -1.0e+04, -1.0e+04, -1.0e+04]],\n\n       [[ 0.0e+00,  1.0e+00,  2.0e+00,  3.0e+00,  4.0e+00,  5.0e+00,\n          6.0e+00,  7.0e+00,  8.0e+00,  9.0e+00,  1.0e+01,  1.1e+01],\n        [ 0.0e+00,  1.0e+00,  2.0e+00,  3.0e+00,  4.0e+00,  5.0e+00,\n          6.0e+00,  7.0e+00,  8.0e+00,  9.0e+00,  1.0e+01,  1.1e+01],\n        [ 0.0e+00,  1.0e+00,  2.0e+00,  3.0e+00,  4.0e+00,  5.0e+00,\n          6.0e+00,  7.0e+00,  8.0e+00,  9.0e+00,  1.0e+01,  1.1e+01],\n        [ 0.0e+00,  1.0e+00,  2.0e+00,  3.0e+00,  4.0e+00,  5.0e+00,\n          6.0e+00,  7.0e+00,  8.0e+00,  9.0e+00,  1.0e+01,  1.1e+01],\n        [-1.0e+04, -1.0e+04, -1.0e+04, -1.0e+04, -1.0e+04, -1.0e+04,\n         -1.0e+04, -1.0e+04, -1.0e+04, -1.0e+04, -1.0e+04, -1.0e+04]],\n\n       [[ 0.0e+00,  1.0e+00,  2.0e+00,  3.0e+00,  4.0e+00,  5.0e+00,\n          6.0e+00,  7.0e+00,  8.0e+00,  9.0e+00,  1.0e+01,  1.1e+01],\n        [ 0.0e+00,  1.0e+00,  2.0e+00,  3.0e+00,  4.0e+00,  5.0e+00,\n          6.0e+00,  7.0e+00,  8.0e+00,  9.0e+00,  1.0e+01,  1.1e+01],\n        [ 0.0e+00,  1.0e+00,  2.0e+00,  3.0e+00,  4.0e+00,  5.0e+00,\n          6.0e+00,  7.0e+00,  8.0e+00,  9.0e+00,  1.0e+01,  1.1e+01],\n        [ 0.0e+00,  1.0e+00,  2.0e+00,  3.0e+00,  4.0e+00,  5.0e+00,\n          6.0e+00,  7.0e+00,  8.0e+00,  9.0e+00,  1.0e+01,  1.1e+01],\n        [-1.0e+04, -1.0e+04, -1.0e+04, -1.0e+04, -1.0e+04, -1.0e+04,\n         -1.0e+04, -1.0e+04, -1.0e+04, -1.0e+04, -1.0e+04, -1.0e+04]]],\n      dtype=float32)"
     },
     "execution_count": 34,
     "metadata": {},
     "output_type": "execute_result"
    },
    {
     "data": {
      "text/plain": "array([[[    12.,     13.,     14.,     15.,     16.,     17.,     18.,\n             19.,     20.,     21.,     22.,     23.,     24.,     25.,\n             26.],\n        [    12.,     13.,     14.,     15.,     16.,     17.,     18.,\n             19.,     20.,     21.,     22.,     23.,     24.,     25.,\n             26.],\n        [    12.,     13.,     14.,     15.,     16.,     17.,     18.,\n             19.,     20.,     21.,     22.,     23.,     24.,     25.,\n             26.],\n        [    12.,     13.,     14.,     15.,     16.,     17.,     18.,\n             19.,     20.,     21.,     22.,     23.,     24.,     25.,\n             26.],\n        [    12.,     13.,     14.,     15.,     16.,     17.,     18.,\n             19.,     20.,     21.,     22.,     23.,     24.,     25.,\n             26.]],\n\n       [[    12.,     13.,     14.,     15.,     16.,     17.,     18.,\n             19.,     20.,     21.,     22.,     23.,     24.,     25.,\n             26.],\n        [    12.,     13.,     14.,     15.,     16.,     17.,     18.,\n             19.,     20.,     21.,     22.,     23.,     24.,     25.,\n             26.],\n        [-10000., -10000., -10000., -10000., -10000., -10000., -10000.,\n         -10000., -10000., -10000., -10000., -10000., -10000., -10000.,\n         -10000.],\n        [-10000., -10000., -10000., -10000., -10000., -10000., -10000.,\n         -10000., -10000., -10000., -10000., -10000., -10000., -10000.,\n         -10000.],\n        [-10000., -10000., -10000., -10000., -10000., -10000., -10000.,\n         -10000., -10000., -10000., -10000., -10000., -10000., -10000.,\n         -10000.]],\n\n       [[    12.,     13.,     14.,     15.,     16.,     17.,     18.,\n             19.,     20.,     21.,     22.,     23.,     24.,     25.,\n             26.],\n        [    12.,     13.,     14.,     15.,     16.,     17.,     18.,\n             19.,     20.,     21.,     22.,     23.,     24.,     25.,\n             26.],\n        [    12.,     13.,     14.,     15.,     16.,     17.,     18.,\n             19.,     20.,     21.,     22.,     23.,     24.,     25.,\n             26.],\n        [    12.,     13.,     14.,     15.,     16.,     17.,     18.,\n             19.,     20.,     21.,     22.,     23.,     24.,     25.,\n             26.],\n        [-10000., -10000., -10000., -10000., -10000., -10000., -10000.,\n         -10000., -10000., -10000., -10000., -10000., -10000., -10000.,\n         -10000.]],\n\n       [[    12.,     13.,     14.,     15.,     16.,     17.,     18.,\n             19.,     20.,     21.,     22.,     23.,     24.,     25.,\n             26.],\n        [    12.,     13.,     14.,     15.,     16.,     17.,     18.,\n             19.,     20.,     21.,     22.,     23.,     24.,     25.,\n             26.],\n        [-10000., -10000., -10000., -10000., -10000., -10000., -10000.,\n         -10000., -10000., -10000., -10000., -10000., -10000., -10000.,\n         -10000.],\n        [-10000., -10000., -10000., -10000., -10000., -10000., -10000.,\n         -10000., -10000., -10000., -10000., -10000., -10000., -10000.,\n         -10000.],\n        [-10000., -10000., -10000., -10000., -10000., -10000., -10000.,\n         -10000., -10000., -10000., -10000., -10000., -10000., -10000.,\n         -10000.]],\n\n       [[    12.,     13.,     14.,     15.,     16.,     17.,     18.,\n             19.,     20.,     21.,     22.,     23.,     24.,     25.,\n             26.],\n        [    12.,     13.,     14.,     15.,     16.,     17.,     18.,\n             19.,     20.,     21.,     22.,     23.,     24.,     25.,\n             26.],\n        [    12.,     13.,     14.,     15.,     16.,     17.,     18.,\n             19.,     20.,     21.,     22.,     23.,     24.,     25.,\n             26.],\n        [    12.,     13.,     14.,     15.,     16.,     17.,     18.,\n             19.,     20.,     21.,     22.,     23.,     24.,     25.,\n             26.],\n        [-10000., -10000., -10000., -10000., -10000., -10000., -10000.,\n         -10000., -10000., -10000., -10000., -10000., -10000., -10000.,\n         -10000.]],\n\n       [[    12.,     13.,     14.,     15.,     16.,     17.,     18.,\n             19.,     20.,     21.,     22.,     23.,     24.,     25.,\n             26.],\n        [    12.,     13.,     14.,     15.,     16.,     17.,     18.,\n             19.,     20.,     21.,     22.,     23.,     24.,     25.,\n             26.],\n        [    12.,     13.,     14.,     15.,     16.,     17.,     18.,\n             19.,     20.,     21.,     22.,     23.,     24.,     25.,\n             26.],\n        [    12.,     13.,     14.,     15.,     16.,     17.,     18.,\n             19.,     20.,     21.,     22.,     23.,     24.,     25.,\n             26.],\n        [-10000., -10000., -10000., -10000., -10000., -10000., -10000.,\n         -10000., -10000., -10000., -10000., -10000., -10000., -10000.,\n         -10000.]]], dtype=float32)"
     },
     "execution_count": 34,
     "metadata": {},
     "output_type": "execute_result"
    },
    {
     "data": {
      "text/plain": "array([[[    27.],\n        [    27.],\n        [    27.],\n        [    27.],\n        [    27.]],\n\n       [[    27.],\n        [    27.],\n        [-10000.],\n        [-10000.],\n        [-10000.]],\n\n       [[    27.],\n        [    27.],\n        [    27.],\n        [    27.],\n        [-10000.]],\n\n       [[    27.],\n        [    27.],\n        [-10000.],\n        [-10000.],\n        [-10000.]],\n\n       [[    27.],\n        [    27.],\n        [    27.],\n        [    27.],\n        [-10000.]],\n\n       [[    27.],\n        [    27.],\n        [    27.],\n        [    27.],\n        [-10000.]]], dtype=float32)"
     },
     "execution_count": 34,
     "metadata": {},
     "output_type": "execute_result"
    },
    {
     "data": {
      "text/plain": "array([[[    28.,     29.,     30.,     31.,     32.,     33.,     34.,\n             35.,     36.,     37.,     38.,     39.],\n        [    28.,     29.,     30.,     31.,     32.,     33.,     34.,\n             35.,     36.,     37.,     38.,     39.],\n        [    28.,     29.,     30.,     31.,     32.,     33.,     34.,\n             35.,     36.,     37.,     38.,     39.],\n        [    28.,     29.,     30.,     31.,     32.,     33.,     34.,\n             35.,     36.,     37.,     38.,     39.],\n        [    28.,     29.,     30.,     31.,     32.,     33.,     34.,\n             35.,     36.,     37.,     38.,     39.]],\n\n       [[    28.,     29.,     30.,     31.,     32.,     33.,     34.,\n             35.,     36.,     37.,     38.,     39.],\n        [    28.,     29.,     30.,     31.,     32.,     33.,     34.,\n             35.,     36.,     37.,     38.,     39.],\n        [-10000., -10000., -10000., -10000., -10000., -10000., -10000.,\n         -10000., -10000., -10000., -10000., -10000.],\n        [-10000., -10000., -10000., -10000., -10000., -10000., -10000.,\n         -10000., -10000., -10000., -10000., -10000.],\n        [-10000., -10000., -10000., -10000., -10000., -10000., -10000.,\n         -10000., -10000., -10000., -10000., -10000.]],\n\n       [[    28.,     29.,     30.,     31.,     32.,     33.,     34.,\n             35.,     36.,     37.,     38.,     39.],\n        [    28.,     29.,     30.,     31.,     32.,     33.,     34.,\n             35.,     36.,     37.,     38.,     39.],\n        [    28.,     29.,     30.,     31.,     32.,     33.,     34.,\n             35.,     36.,     37.,     38.,     39.],\n        [    28.,     29.,     30.,     31.,     32.,     33.,     34.,\n             35.,     36.,     37.,     38.,     39.],\n        [-10000., -10000., -10000., -10000., -10000., -10000., -10000.,\n         -10000., -10000., -10000., -10000., -10000.]],\n\n       [[    28.,     29.,     30.,     31.,     32.,     33.,     34.,\n             35.,     36.,     37.,     38.,     39.],\n        [    28.,     29.,     30.,     31.,     32.,     33.,     34.,\n             35.,     36.,     37.,     38.,     39.],\n        [-10000., -10000., -10000., -10000., -10000., -10000., -10000.,\n         -10000., -10000., -10000., -10000., -10000.],\n        [-10000., -10000., -10000., -10000., -10000., -10000., -10000.,\n         -10000., -10000., -10000., -10000., -10000.],\n        [-10000., -10000., -10000., -10000., -10000., -10000., -10000.,\n         -10000., -10000., -10000., -10000., -10000.]],\n\n       [[    28.,     29.,     30.,     31.,     32.,     33.,     34.,\n             35.,     36.,     37.,     38.,     39.],\n        [    28.,     29.,     30.,     31.,     32.,     33.,     34.,\n             35.,     36.,     37.,     38.,     39.],\n        [    28.,     29.,     30.,     31.,     32.,     33.,     34.,\n             35.,     36.,     37.,     38.,     39.],\n        [    28.,     29.,     30.,     31.,     32.,     33.,     34.,\n             35.,     36.,     37.,     38.,     39.],\n        [-10000., -10000., -10000., -10000., -10000., -10000., -10000.,\n         -10000., -10000., -10000., -10000., -10000.]],\n\n       [[    28.,     29.,     30.,     31.,     32.,     33.,     34.,\n             35.,     36.,     37.,     38.,     39.],\n        [    28.,     29.,     30.,     31.,     32.,     33.,     34.,\n             35.,     36.,     37.,     38.,     39.],\n        [    28.,     29.,     30.,     31.,     32.,     33.,     34.,\n             35.,     36.,     37.,     38.,     39.],\n        [    28.,     29.,     30.,     31.,     32.,     33.,     34.,\n             35.,     36.,     37.,     38.,     39.],\n        [-10000., -10000., -10000., -10000., -10000., -10000., -10000.,\n         -10000., -10000., -10000., -10000., -10000.]]], dtype=float32)"
     },
     "execution_count": 34,
     "metadata": {},
     "output_type": "execute_result"
    }
   ],
   "source": [
    "from eos.data_io.utils.eos_pandas import (\n",
    "    decode_episode_dataframes_to_padded_arrays_mongo,\n",
    ")\n",
    "\n",
    "s, a, r, ns = decode_episode_dataframes_to_padded_arrays_mongo(\n",
    "    df_episodes, torque_table_row_names, padding_value=-10000\n",
    ")\n",
    "s\n",
    "a\n",
    "r\n",
    "ns"
   ],
   "metadata": {
    "collapsed": false,
    "ExecuteTime": {
     "end_time": "2023-09-28T05:42:52.857620882Z",
     "start_time": "2023-09-28T05:42:52.797261154Z"
    }
   },
   "id": "baa08082659c271b"
  },
  {
   "cell_type": "code",
   "execution_count": null,
   "outputs": [],
   "source": [
    "r_n_t\n",
    "a_n_t\n",
    "s_n_t\n",
    "ns_n_t"
   ],
   "metadata": {
    "collapsed": false,
    "ExecuteTime": {
     "start_time": "2023-09-28T05:42:02.077647730Z"
    }
   },
   "id": "ce9e2c26468c767e"
  },
  {
   "cell_type": "markdown",
   "source": [
    "# sample"
   ],
   "metadata": {
    "collapsed": false
   },
   "id": "7386bce7f394265d"
  },
  {
   "cell_type": "code",
   "execution_count": null,
   "outputs": [],
   "source": [
    "from dask.bag import random\n",
    "\n",
    "print(f\"partitions: {b_episodes_read.npartitions}\")\n",
    "# bag = random.choices(b_episodes_read,16, split_every=4)\n",
    "bag = random.sample(b_episodes_read, 3, split_every=6)\n",
    "print(f\"partitions: {bag.npartitions}\")\n",
    "dicts = bag.compute()\n",
    "print(f\"length: {len(dicts)}\")\n",
    "for b in dicts:\n",
    "    b[\"episodestart\"] = pd.to_datetime(b[\"episodestart\"], unit=\"us\")\n",
    "    print(\n",
    "        f\"vehicle: {b['meta']['episode_meta']['vehicle']}; \"\n",
    "        f\"driver: {b['meta']['episode_meta']['driver']}; \"\n",
    "        f\"episodestart: {b['episodestart']} \"\n",
    "    )"
   ],
   "metadata": {
    "collapsed": false,
    "ExecuteTime": {
     "start_time": "2023-09-28T05:42:02.079151300Z"
    }
   },
   "id": "48808af1afabf85c"
  },
  {
   "cell_type": "code",
   "execution_count": null,
   "outputs": [],
   "source": [
    "from eos.data_io.utils.eos_pandas import avro_ep_decoding"
   ],
   "metadata": {
    "collapsed": false,
    "ExecuteTime": {
     "start_time": "2023-09-28T05:42:02.080809332Z"
    }
   },
   "id": "feafb2af5e17fb92"
  },
  {
   "cell_type": "code",
   "execution_count": null,
   "outputs": [],
   "source": [
    "df_episodes_list = avro_ep_decoding(bag.compute())\n",
    "try:\n",
    "    df_episodes = reduce(\n",
    "        lambda left, right: pd.concat([left, right], axis=0, ignore_index=False),\n",
    "        df_episodes_list,\n",
    "    )\n",
    "except Exception as e:\n",
    "    print(e)\n",
    "\n",
    "df_episodes.sort_index(inplace=True)\n",
    "df_episodes"
   ],
   "metadata": {
    "collapsed": false,
    "ExecuteTime": {
     "start_time": "2023-09-28T05:42:02.122372055Z"
    }
   },
   "id": "82f46c5b42b53f75"
  },
  {
   "cell_type": "code",
   "execution_count": null,
   "outputs": [],
   "source": [
    "dicts = b_episodes_read.compute()\n",
    "print(f\"length: {len(dicts)}\")\n",
    "for b in dicts:\n",
    "    b[\"episodestart\"] = pd.to_datetime(b[\"episodestart\"], unit=\"us\")\n",
    "    print(\n",
    "        f\"vehicle: {b['meta']['episode_meta']['vehicle']}; \"\n",
    "        f\"driver: {b['meta']['episode_meta']['driver']}; \"\n",
    "        f\"episodestart: {b['episodestart']} \"\n",
    "    )"
   ],
   "metadata": {
    "collapsed": false,
    "ExecuteTime": {
     "start_time": "2023-09-28T05:42:02.122496062Z"
    }
   },
   "id": "26a0719bd71f7f54"
  },
  {
   "cell_type": "code",
   "execution_count": null,
   "outputs": [],
   "source": [
    "from pandas.tseries.offsets import DateOffset\n",
    "\n",
    "ts0 = ts - DateOffset(days=5, hours=1)\n",
    "ts1 = ts + DateOffset(hours=1)\n",
    "type(ts)\n",
    "print(ts0, ts1)\n",
    "ts0.timestamp()\n",
    "ts0"
   ],
   "metadata": {
    "collapsed": false,
    "ExecuteTime": {
     "start_time": "2023-09-28T05:42:02.122554218Z"
    }
   },
   "id": "89815b32c6309d4a"
  },
  {
   "cell_type": "code",
   "execution_count": null,
   "outputs": [],
   "source": [
    "queried = b_episodes_read.filter(\n",
    "    lambda x: pd.to_datetime(x[\"meta\"][\"episode_meta\"][\"episodestart\"], unit=\"us\") > ts0\n",
    ")\n",
    "# bag = random.choices(queried,7)\n",
    "print(f\"ts0:{ts0}\")\n",
    "dicts = queried.compute()\n",
    "for b in dicts:\n",
    "    b[\"episodestart\"] = pd.to_datetime(b[\"episodestart\"], unit=\"us\")\n",
    "    # pd.to_datetime(b['episodestart'],unit='us')\n",
    "    print(\n",
    "        f\"vehicle: {b['meta']['episode_meta']['vehicle']}; \"\n",
    "        f\"driver: {b['meta']['episode_meta']['driver']}; \"\n",
    "        f\"episodestart: {b['episodestart']} \"\n",
    "    )"
   ],
   "metadata": {
    "collapsed": false,
    "ExecuteTime": {
     "start_time": "2023-09-28T05:42:02.122601705Z"
    }
   },
   "id": "da63d4e5983a6ccc"
  },
  {
   "cell_type": "code",
   "execution_count": null,
   "outputs": [],
   "source": [
    "# queried = b_episodes_read.filter(lambda x: x['meta']['episode_meta']['vehicle'] == 'VB7' and\n",
    "#                                         x['meta']['episode_meta']['driver'] == 'wang-cheng' and\n",
    "#                                         pd.to_datetime(x['meta']['episode_meta']['episodestart'],unit='us') > ts0)\n",
    "\n",
    "print(ts0, ts1)\n",
    "queried = b_episodes_read.filter(\n",
    "    lambda x: x[\"meta\"][\"episode_meta\"][\"driver\"] == \"wang-cheng\"\n",
    "    and ts0 < pd.to_datetime(x[\"meta\"][\"episode_meta\"][\"episodestart\"], unit=\"us\") < ts1\n",
    ")\n",
    "# bag = random.choices(queried,7)\n",
    "dicts = queried.compute()\n",
    "for b in dicts:\n",
    "    b[\"episodestart\"] = pd.to_datetime(b[\"episodestart\"], unit=\"us\")\n",
    "    # pd.to_datetime(b['episodestart'],unit='us')\n",
    "    print(\n",
    "        f\"vehicle: {b['meta']['episode_meta']['vehicle']}; \"\n",
    "        f\"driver: {b['meta']['episode_meta']['driver']}; \"\n",
    "        f\"episodestart: {b['episodestart']} \"\n",
    "    )"
   ],
   "metadata": {
    "collapsed": false,
    "ExecuteTime": {
     "start_time": "2023-09-28T05:42:02.122639023Z"
    }
   },
   "id": "9e83812312bc3252"
  },
  {
   "cell_type": "code",
   "execution_count": null,
   "outputs": [],
   "source": [],
   "metadata": {
    "collapsed": false,
    "ExecuteTime": {
     "start_time": "2023-09-28T05:42:02.122675961Z"
    }
   },
   "id": "a6798dca022c7d91"
  },
  {
   "cell_type": "code",
   "execution_count": null,
   "outputs": [],
   "source": [
    "import dask.bag as db\n",
    "\n",
    "a = db.from_sequence([1, 2, 3])\n",
    "b = db.from_sequence([4, 5, 6, 1, 2, 3])\n",
    "c = db.concat([a, b])\n",
    "c.compute()\n",
    "c.distinct().compute()"
   ],
   "metadata": {
    "collapsed": false,
    "ExecuteTime": {
     "start_time": "2023-09-28T05:42:02.122712728Z"
    }
   },
   "id": "4989f8561673fb60"
  },
  {
   "cell_type": "markdown",
   "source": [
    "# filter by sequence length of the episode for efficient training"
   ],
   "metadata": {
    "collapsed": false
   },
   "id": "adbaed8c71f6f9bb"
  },
  {
   "cell_type": "code",
   "execution_count": null,
   "outputs": [],
   "source": [
    "queried = b_episodes_read.filter(lambda x: len(x[\"sequence\"]) <= 3)\n",
    "# bag = random.choices(queried,7)\n",
    "print(f\"ts0:{ts0}\")\n",
    "dicts = queried.compute()\n",
    "for b in dicts:\n",
    "    b[\"episodestart\"] = pd.to_datetime(b[\"episodestart\"], unit=\"us\")\n",
    "    # pd.to_datetime(b['episodestart'],unit='us')\n",
    "    print(\n",
    "        f\"vehicle: {b['meta']['episode_meta']['vehicle']}; \"\n",
    "        f\"driver: {b['meta']['episode_meta']['driver']}; \"\n",
    "        f\"episodestart: {b['episodestart']} \"\n",
    "    )"
   ],
   "metadata": {
    "collapsed": false,
    "ExecuteTime": {
     "start_time": "2023-09-28T05:42:02.122749535Z"
    }
   },
   "id": "fd2d323acf6363ad"
  }
 ],
 "metadata": {
  "kernelspec": {
   "display_name": "Python 3 (ipykernel)",
   "language": "python",
   "name": "python3"
  },
  "language_info": {
   "codemirror_mode": {
    "name": "ipython",
    "version": 3
   },
   "file_extension": ".py",
   "mimetype": "text/x-python",
   "name": "python",
   "nbconvert_exporter": "python",
   "pygments_lexer": "ipython3",
   "version": "3.10.9"
  }
 },
 "nbformat": 4,
 "nbformat_minor": 5
}
