{
 "cells": [
  {
   "cell_type": "code",
   "execution_count": 3,
   "id": "initial_id",
   "metadata": {
    "collapsed": true,
    "ExecuteTime": {
     "end_time": "2023-08-24T00:33:30.298905545Z",
     "start_time": "2023-08-24T00:33:30.221860527Z"
    }
   },
   "outputs": [
    {
     "name": "stdout",
     "output_type": "stream",
     "text": [
      "1\n"
     ]
    }
   ],
   "source": [
    "from queue import Queue\n",
    "\n",
    "my_queue = Queue(maxsize=0)\n",
    "my_queue.put(1)\n",
    "my_queue.put(2)\n",
    "my_queue.put(3)\n",
    "print (my_queue.get())\n",
    "my_queue.task_done()\n",
    "\n",
    "# Outputs: 1"
   ]
  },
  {
   "cell_type": "code",
   "execution_count": 4,
   "outputs": [
    {
     "name": "stdout",
     "output_type": "stream",
     "text": [
      "0\n",
      "1\n",
      "2\n",
      "3\n",
      "4\n",
      "5\n",
      "6\n",
      "7\n",
      "8\n",
      "9\n",
      "10\n",
      "11\n",
      "12\n",
      "13\n",
      "14\n",
      "15\n",
      "16\n",
      "17\n",
      "18\n",
      "19\n"
     ]
    }
   ],
   "source": [
    "from queue import Queue\n",
    "\n",
    "def do_stuff(q):\n",
    "    while not q.empty():\n",
    "        print(q.get())\n",
    "        q.task_done()\n",
    "\n",
    "q = Queue(maxsize=0)\n",
    "\n",
    "for x in range(20):\n",
    "    q.put(x)\n",
    "\n",
    "do_stuff(q)"
   ],
   "metadata": {
    "collapsed": false,
    "ExecuteTime": {
     "end_time": "2023-08-24T00:54:09.145470188Z",
     "start_time": "2023-08-24T00:54:09.101688235Z"
    }
   },
   "id": "2c768d8165ca231f"
  },
  {
   "cell_type": "code",
   "execution_count": 25,
   "outputs": [],
   "source": [
    "from queue import Queue\n",
    "from threading import Thread\n",
    "from time import sleep\n",
    "\n",
    "\n",
    "def do_stuff(q, i):\n",
    "    while True:\n",
    "        print(f\"thread: {i} get {q.get()}\")\n",
    "        sleep(0.1)\n",
    "        q.task_done()\n",
    "\n",
    "\n",
    "q = Queue(maxsize=0)\n",
    "num_threads = 10\n",
    "\n",
    "for i in range(num_threads):\n",
    "    worker = Thread(target=do_stuff, args=(q,i))\n",
    "    # worker.setDaemon(True)\n",
    "    worker.daemon = True\n",
    "    worker.start()\n"
   ],
   "metadata": {
    "collapsed": false,
    "ExecuteTime": {
     "end_time": "2023-08-24T02:52:54.692483974Z",
     "start_time": "2023-08-24T02:52:54.641814334Z"
    }
   },
   "id": "175aa0eb1af56968"
  },
  {
   "cell_type": "code",
   "execution_count": 3,
   "outputs": [
    {
     "name": "stdout",
     "output_type": "stream",
     "text": [
      "thread: 0 get 0\n",
      "thread: 3 get 1\n",
      "thread: 9 get 2\n",
      "thread: 1 get 3\n",
      "thread: 5 get 4\n",
      "thread: 6 get 5\n",
      "thread: 4 get 6\n",
      "thread: 7 get 7\n",
      "thread: 2 get 8\n",
      "thread: 8 get 9\n",
      "thread: 9 get 10\n",
      "thread: 0 get 11\n",
      "thread: 3 get 12\n",
      "thread: 1 get 13\n",
      "thread: 5 get 14\n",
      "thread: 6 get 15\n",
      "thread: 4 get 16\n",
      "thread: 7 get 17\n",
      "thread: 2 get 18\n",
      "thread: 8 get 19\n",
      "Batch\n",
      "0 + Done\n",
      "thread: 9 get 100\n",
      "thread: 0 get 101\n",
      "thread: 3 get 102\n",
      "thread: 1 get 103\n",
      "thread: 6 get 104\n",
      "thread: 4 get 105\n",
      "thread: 7 get 106\n",
      "thread: 2 get 107\n",
      "thread: 8 get 108\n",
      "thread: 5 get 109\n",
      "thread: 9 get 110\n",
      "thread: 0 get 111\n",
      "thread: 3 get 112\n",
      "thread: 1 get 113\n",
      "thread: 6 get 114\n",
      "thread: 4 get 115\n",
      "thread: 7 get 116\n",
      "thread: 2 get 117\n",
      "thread: 8 get 118\n",
      "thread: 5 get 119\n",
      "Batch\n",
      "1 + Done\n",
      "thread: 0 get 200thread: 3 get 201\n",
      "thread: 1 get 202\n",
      "thread: 6 get 203\n",
      "thread: 4 get 204\n",
      "thread: 7 get 205\n",
      "thread: 2 get 206\n",
      "thread: 8 get 207\n",
      "thread: 5 get 208\n",
      "thread: 9 get 209\n",
      "\n",
      "thread: 3 get 210\n",
      "thread: 1 get 211\n",
      "thread: 6 get 212\n",
      "thread: 9 get 213\n",
      "thread: 8 get 214\n",
      "thread: 4 get 215\n",
      "thread: 2 get 216\n",
      "thread: 7 get 217\n",
      "thread: 5 get 218\n",
      "thread: 0 get 219\n",
      "Batch\n",
      "2 + Done\n",
      "thread: 3 get 300\n",
      "thread: 6 get 301\n",
      "thread: 9 get 302\n",
      "thread: 8 get 303\n",
      "thread: 4 get 304\n",
      "thread: 2 get 305\n",
      "thread: 7 get 306\n",
      "thread: 5 get 307\n",
      "thread: 0 get 308\n",
      "thread: 1 get 309\n",
      "thread: 3 get 310\n",
      "thread: 6 get 311\n",
      "thread: 9 get 312\n",
      "thread: 8 get 313\n",
      "thread: 4 get 314\n",
      "thread: 2 get 315\n",
      "thread: 7 get 316\n",
      "thread: 5 get 317\n",
      "thread: 0 get 318\n",
      "thread: 1 get 319\n",
      "Batch\n",
      "3 + Done\n",
      "thread: 3 get 400\n",
      "thread: 6 get 401\n",
      "thread: 8 get 402\n",
      "thread: 9 get 403\n",
      "thread: 4 get 404\n",
      "thread: 2 get 405\n",
      "thread: 7 get 406\n",
      "thread: 1 get 407\n",
      "thread: 0 get 408\n",
      "thread: 5 get 409\n",
      "thread: 3 get 410\n",
      "thread: 6 get 411\n",
      "thread: 8 get 412\n",
      "thread: 9 get 413\n",
      "thread: 4 get 414\n",
      "thread: 2 get 415\n",
      "thread: 7 get 416\n",
      "thread: 1 get 417\n",
      "thread: 0 get 418\n",
      "thread: 5 get 419\n",
      "Batch\n",
      "4 + Done\n",
      "thread: 3 get 500\n",
      "thread: 6 get 501\n",
      "thread: 8 get 502\n",
      "thread: 9 get 503\n",
      "thread: 4 get 504\n",
      "thread: 2 get 505\n",
      "thread: 0 get 506thread: 1 get 507\n",
      "thread: 7 get 508\n",
      "thread: 5 get 509\n",
      "\n",
      "thread: 3 get 510\n",
      "thread: 6 get 511\n",
      "thread: 8 get 512\n",
      "thread: 9 get 513\n",
      "thread: 4 get 514\n",
      "thread: 2 get 515\n",
      "thread: 1 get 516\n",
      "thread: 7 get 517\n",
      "thread: 5 get 518\n",
      "thread: 0 get 519\n",
      "Batch\n",
      "5 + Done\n",
      "thread: 0 get 600\n",
      "thread: 3 get 601\n",
      "thread: 8 get 602\n",
      "thread: 9 get 603\n",
      "thread: 4 get 604\n",
      "thread: 2 get 605\n",
      "thread: 6 get 606\n",
      "thread: 1 get 607\n",
      "thread: 7 get 608\n",
      "thread: 5 get 609\n",
      "thread: 0 get 610\n",
      "thread: 3 get 611\n",
      "thread: 9 get 612\n",
      "thread: 8 get 613\n",
      "thread: 4 get 614\n",
      "thread: 2 get 615\n",
      "thread: 6 get 616\n",
      "thread: 1 get 617\n",
      "thread: 7 get 618\n",
      "thread: 5 get 619\n",
      "Batch\n",
      "6 + Done\n",
      "thread: 3 get 700\n",
      "thread: 9 get 701\n",
      "thread: 8 get 702\n",
      "thread: 0 get 703\n",
      "thread: 4 get 704\n",
      "thread: 2 get 705\n",
      "thread: 1 get 706\n",
      "thread: 7 get 707\n",
      "thread: 5 get 708\n",
      "thread: 6 get 709\n",
      "thread: 3 get 710\n",
      "thread: 9 get 711\n",
      "thread: 8 get 712\n",
      "thread: 0 get 713\n",
      "thread: 4 get 714\n",
      "thread: 2 get 715\n",
      "thread: 1 get 716\n",
      "thread: 7 get 717\n",
      "thread: 5 get 718\n",
      "thread: 6 get 719\n",
      "Batch\n",
      "7 + Done\n",
      "thread: 8 get 800\n",
      "thread: 9 get 801\n",
      "thread: 0 get 802\n",
      "thread: 7 get 803\n",
      "thread: 2 get 804\n",
      "thread: 1 get 805\n",
      "thread: 6 get 806\n",
      "thread: 5 get 807\n",
      "thread: 4 get 808\n",
      "thread: 3 get 809\n",
      "thread: 8 get 810\n",
      "thread: 9 get 811\n",
      "thread: 2 get 812\n",
      "thread: 1 get 813\n",
      "thread: 6 get 814\n",
      "thread: 7 get 815\n",
      "thread: 0 get 816\n",
      "thread: 5 get 817\n",
      "thread: 4 get 818\n",
      "thread: 3 get 819\n",
      "Batch\n",
      "8 + Done\n",
      "thread: 9 get 900\n",
      "thread: 2 get 901\n",
      "thread: 5 get 902\n",
      "thread: 6 get 903\n",
      "thread: 7 get 904\n",
      "thread: 1 get 905\n",
      "thread: 4 get 906\n",
      "thread: 3 get 907\n",
      "thread: 0 get 908\n",
      "thread: 8 get 909\n",
      "thread: 9 get 910\n",
      "thread: 2 get 911\n",
      "thread: 5 get 912\n",
      "thread: 6 get 913\n",
      "thread: 1 get 914\n",
      "thread: 7 get 915\n",
      "thread: 4 get 916\n",
      "thread: 3 get 917\n",
      "thread: 0 get 918\n",
      "thread: 8 get 919\n",
      "Batch\n",
      "9 + Done\n"
     ]
    }
   ],
   "source": [
    "for y in range (10):\n",
    "    for x in range(20):\n",
    "        q.put(x + y * 100)\n",
    "    q.join()\n",
    "    print(\"Batch\")\n",
    "    print(f\"{str(y)} + Done\")"
   ],
   "metadata": {
    "collapsed": false,
    "ExecuteTime": {
     "end_time": "2023-08-24T01:56:01.793419906Z",
     "start_time": "2023-08-24T01:55:59.742438227Z"
    }
   },
   "id": "f7b3fa05292bb79a"
  },
  {
   "cell_type": "code",
   "execution_count": 16,
   "outputs": [
    {
     "name": "stdout",
     "output_type": "stream",
     "text": [
      "thread: 2 get 0\n",
      "thread: 1 get 1\n",
      "thread: 4 get 2\n",
      "thread: 5 get 3\n",
      "thread: 3 get 4\n",
      "thread: 6 get 5\n",
      "thread: 7 get 6\n",
      "thread: 8 get 7\n",
      "thread: 9 get 8\n",
      "thread: 0 get 9\n",
      "thread: 2 get 10\n",
      "thread: 1 get 11\n",
      "thread: 5 get 12\n",
      "thread: 4 get 13\n",
      "thread: 3 get 14\n",
      "thread: 6 get 15\n",
      "thread: 8 get 16\n",
      "thread: 7 get 17\n",
      "thread: 9 get 18\n",
      "thread: 0 get 19\n",
      "thread: 2 get 20\n",
      "thread: 1 get 21\n",
      "thread: 3 get 22\n",
      "thread: 7 get 23\n",
      "thread: 5 get 24\n",
      "thread: 8 get 25\n",
      "thread: 6 get 26\n",
      "thread: 4 get 27\n",
      "thread: 9 get 28\n",
      "thread: 0 get 29\n",
      "thread: 2 get 30\n",
      "thread: 1 get 31\n",
      "thread: 3 get 32\n",
      "thread: 8 get 33\n",
      "thread: 5 get 34\n",
      "thread: 6 get 35\n",
      "thread: 7 get 36\n",
      "thread: 4 get 37\n",
      "thread: 9 get 38\n",
      "thread: 0 get 39\n",
      "thread: 2 get 40\n",
      "thread: 1 get 41\n",
      "thread: 3 get 42\n",
      "thread: 8 get 43\n",
      "thread: 5 get 44\n",
      "thread: 7 get 45\n",
      "thread: 6 get 46\n",
      "thread: 4 get 47\n",
      "thread: 9 get 48\n",
      "thread: 0 get 49\n",
      "thread: 2 get 50\n",
      "thread: 1 get 51\n",
      "thread: 3 get 52\n",
      "thread: 8 get 53\n",
      "thread: 6 get 54\n",
      "thread: 0 get 55\n",
      "thread: 5 get 56\n",
      "thread: 7 get 57\n",
      "thread: 9 get 58\n",
      "thread: 4 get 59\n",
      "thread: 2 get 60\n",
      "thread: 1 get 61\n",
      "thread: 3 get 62\n",
      "thread: 8 get 63\n",
      "thread: 6 get 64\n",
      "thread: 0 get 65\n",
      "thread: 5 get 66\n",
      "thread: 7 get 67\n",
      "thread: 9 get 68\n",
      "thread: 4 get 69\n",
      "thread: 2 get 70\n",
      "thread: 1 get 71\n",
      "thread: 3 get 72\n",
      "thread: 8 get 73\n",
      "thread: 6 get 74\n",
      "thread: 0 get 75\n",
      "thread: 5 get 76\n",
      "thread: 7 get 77\n",
      "thread: 9 get 78\n",
      "thread: 4 get 79\n",
      "thread: 2 get 80\n",
      "thread: 1 get 81\n",
      "thread: 3 get 82\n",
      "thread: 8 get 83\n",
      "thread: 6 get 84\n",
      "thread: 0 get 85\n",
      "thread: 7 get 86\n",
      "thread: 5 get 87\n",
      "thread: 9 get 88\n",
      "thread: 4 get 89\n",
      "thread: 2 get 90\n",
      "thread: 1 get 91\n",
      "thread: 3 get 92\n",
      "thread: 8 get 93\n",
      "thread: 6 get 94\n",
      "thread: 0 get 95\n",
      "thread: 7 get 96\n",
      "thread: 5 get 97\n",
      "thread: 9 get 98\n",
      "thread: 4 get 99\n"
     ]
    }
   ],
   "source": [
    "for x in range(100):\n",
    "    q.put(x)\n",
    "\n",
    "q.join()"
   ],
   "metadata": {
    "collapsed": false,
    "ExecuteTime": {
     "end_time": "2023-08-24T02:45:15.328398139Z",
     "start_time": "2023-08-24T02:45:14.323411716Z"
    }
   },
   "id": "cdc002e64ae91802"
  },
  {
   "cell_type": "code",
   "execution_count": 5,
   "outputs": [],
   "source": [
    "q.join()"
   ],
   "metadata": {
    "collapsed": false,
    "ExecuteTime": {
     "end_time": "2023-08-24T02:41:58.970354446Z",
     "start_time": "2023-08-24T02:41:58.911896718Z"
    }
   },
   "id": "96c487e659f648c6"
  },
  {
   "cell_type": "code",
   "execution_count": 24,
   "outputs": [
    {
     "name": "stdout",
     "output_type": "stream",
     "text": [
      "Working on 0\n",
      "Finished 0\n",
      "Working on 1\n",
      "Finished 1\n",
      "Working on 2\n",
      "Finished 2\n",
      "Working on 3\n",
      "Finished 3\n",
      "Working on 4\n",
      "Finished 4\n",
      "Working on 5\n",
      "Finished 5\n",
      "Working on 6\n",
      "Finished 6\n",
      "Working on 7\n",
      "Finished 7\n",
      "Working on 8\n",
      "Finished 8\n",
      "Working on 9\n",
      "Finished 9\n",
      "Working on 10\n",
      "Finished 10\n",
      "Working on 11\n",
      "Finished 11\n",
      "Working on 12\n",
      "Finished 12\n",
      "Working on 13\n",
      "Finished 13\n",
      "Working on 14\n",
      "Finished 14\n",
      "Working on 15\n",
      "Finished 15\n",
      "Working on 16\n",
      "Finished 16\n",
      "Working on 17\n",
      "Finished 17\n",
      "Working on 18\n",
      "Finished 18\n",
      "Working on 19\n",
      "Finished 19\n",
      "Working on 20\n",
      "Finished 20\n",
      "Working on 21\n",
      "Finished 21\n",
      "Working on 22\n",
      "Finished 22\n",
      "Working on 23\n",
      "Finished 23\n",
      "Working on 24\n",
      "Finished 24\n",
      "Working on 25\n",
      "Finished 25\n",
      "Working on 26\n",
      "Finished 26\n",
      "Working on 27\n",
      "Finished 27\n",
      "Working on 28\n",
      "Finished 28\n",
      "Working on 29\n",
      "Finished 29\n",
      "All work completed\n"
     ]
    }
   ],
   "source": [
    "import threading\n",
    "import queue\n",
    "import time\n",
    "\n",
    "q = queue.Queue()\n",
    "\n",
    "def worker():\n",
    "    while True:\n",
    "        item = q.get()\n",
    "        print(f'Working on {item}')\n",
    "        time.sleep(0.1)\n",
    "        print(f'Finished {item}')\n",
    "        q.task_done()\n",
    "\n",
    "# Turn-on the worker thread.\n",
    "threading.Thread(target=worker, daemon=True).start()\n",
    "\n",
    "# Send thirty task requests to the worker.\n",
    "for item in range(30):\n",
    "    q.put(item)\n",
    "\n",
    "# Block until all tasks are done.\n",
    "q.join()\n",
    "print('All work completed')"
   ],
   "metadata": {
    "collapsed": false,
    "ExecuteTime": {
     "end_time": "2023-08-24T02:51:40.210496815Z",
     "start_time": "2023-08-24T02:51:37.193781056Z"
    }
   },
   "id": "cfff2b6b8ef102ae"
  },
  {
   "cell_type": "code",
   "execution_count": 43,
   "outputs": [
    {
     "name": "stdout",
     "output_type": "stream",
     "text": [
      "id of __init__ on class is 140291019752784\n"
     ]
    }
   ],
   "source": [
    "class c:\n",
    "    def __init__(self,color):\n",
    "        print (f\"id of self in __init__ on class is {id(self)}\")\n",
    "        \n",
    "    def test(self):\n",
    "        print(\"hello\")\n",
    "    print (f\"id of __init__ on class is {id(__init__)}\")\n"
   ],
   "metadata": {
    "collapsed": false,
    "ExecuteTime": {
     "end_time": "2023-08-24T05:55:17.103065444Z",
     "start_time": "2023-08-24T05:55:17.046600402Z"
    }
   },
   "id": "24d789d0a04eeb8b"
  },
  {
   "cell_type": "code",
   "execution_count": 66,
   "outputs": [
    {
     "name": "stdout",
     "output_type": "stream",
     "text": [
      "id of self in __init__ on class is 140291020585808\n",
      "140291019575168\n",
      "140291019575168\n",
      "id of self in __init__ on class is 140291416729552\n",
      "hello\n",
      "140291019575168\n",
      "140291019575168\n"
     ]
    }
   ],
   "source": [
    "a=c(\"red\")\n",
    "print(id(a.__init__))\n",
    "print(id(a.test))\n",
    "b=c(\"green\")\n",
    "b.test()\n",
    "print(id(b.__init__))\n",
    "print(id(b.test))"
   ],
   "metadata": {
    "collapsed": false,
    "ExecuteTime": {
     "end_time": "2023-08-24T05:57:17.899892341Z",
     "start_time": "2023-08-24T05:57:17.854794886Z"
    }
   },
   "id": "c5ec228dd842e162"
  },
  {
   "cell_type": "code",
   "execution_count": 81,
   "outputs": [
    {
     "name": "stdout",
     "output_type": "stream",
     "text": [
      "140291019566272\n",
      "140291020823488\n"
     ]
    }
   ],
   "source": [
    "init = a.__init__\n",
    "test = a.test\n",
    "print(id(init))\n",
    "print(id(test))"
   ],
   "metadata": {
    "collapsed": false,
    "ExecuteTime": {
     "end_time": "2023-08-24T05:59:34.826882287Z",
     "start_time": "2023-08-24T05:59:34.804052304Z"
    }
   },
   "id": "339d8b2cd1bc7a4f"
  },
  {
   "cell_type": "code",
   "execution_count": 85,
   "outputs": [
    {
     "name": "stdout",
     "output_type": "stream",
     "text": [
      "140291019566272\n",
      "140291020823488\n",
      "hello\n"
     ]
    }
   ],
   "source": [
    "print(id(init))\n",
    "print(id(test))\n",
    "test()"
   ],
   "metadata": {
    "collapsed": false,
    "ExecuteTime": {
     "end_time": "2023-08-24T06:00:04.780972987Z",
     "start_time": "2023-08-24T06:00:04.748219010Z"
    }
   },
   "id": "245c21717ea21d69"
  },
  {
   "cell_type": "code",
   "execution_count": 94,
   "outputs": [
    {
     "name": "stdout",
     "output_type": "stream",
     "text": [
      "hello\n",
      "140291020823488\n"
     ]
    }
   ],
   "source": [
    "test()\n",
    "print(id(test))"
   ],
   "metadata": {
    "collapsed": false,
    "ExecuteTime": {
     "end_time": "2023-08-24T06:00:24.436755414Z",
     "start_time": "2023-08-24T06:00:24.391243461Z"
    }
   },
   "id": "b43eda09a78c94b9"
  }
 ],
 "metadata": {
  "kernelspec": {
   "display_name": "Python 3",
   "language": "python",
   "name": "python3"
  },
  "language_info": {
   "codemirror_mode": {
    "name": "ipython",
    "version": 2
   },
   "file_extension": ".py",
   "mimetype": "text/x-python",
   "name": "python",
   "nbconvert_exporter": "python",
   "pygments_lexer": "ipython2",
   "version": "2.7.6"
  }
 },
 "nbformat": 4,
 "nbformat_minor": 5
}
