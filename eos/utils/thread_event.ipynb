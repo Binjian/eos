{
 "cells": [
  {
   "cell_type": "code",
   "execution_count": 1,
   "metadata": {
    "collapsed": true,
    "pycharm": {
     "name": "#%%\n"
    },
    "ExecuteTime": {
     "end_time": "2023-08-25T01:56:42.641473020Z",
     "start_time": "2023-08-25T01:56:42.641183366Z"
    }
   },
   "outputs": [],
   "source": [
    "\n",
    "from IPython.core.interactiveshell import InteractiveShell\n",
    "InteractiveShell.ast_node_interactivity = \"all\"\n",
    "\n",
    "import threading\n",
    "import time"
   ]
  },
  {
   "cell_type": "code",
   "execution_count": 2,
   "outputs": [],
   "source": [
    "def step1(evt):\n",
    "    print(\"step 1\")\n",
    "    time.sleep(3)\n",
    "    evt.set()"
   ],
   "metadata": {
    "collapsed": false,
    "pycharm": {
     "name": "#%%\n"
    },
    "ExecuteTime": {
     "end_time": "2023-08-25T01:56:43.418178271Z",
     "start_time": "2023-08-25T01:56:43.395675204Z"
    }
   }
  },
  {
   "cell_type": "code",
   "execution_count": 3,
   "outputs": [],
   "source": [
    "def step2(evt):\n",
    "    evt.wait()\n",
    "    print(\"Step 2\")"
   ],
   "metadata": {
    "collapsed": false,
    "pycharm": {
     "name": "#%%\n"
    },
    "ExecuteTime": {
     "end_time": "2023-08-25T01:56:45.270521251Z",
     "start_time": "2023-08-25T01:56:45.247797640Z"
    }
   }
  },
  {
   "cell_type": "code",
   "execution_count": 4,
   "outputs": [
    {
     "data": {
      "text/plain": "<Thread(Thread-5 (step1), initial)>"
     },
     "execution_count": 4,
     "metadata": {},
     "output_type": "execute_result"
    },
    {
     "data": {
      "text/plain": "<Thread(Thread-6 (step2), initial)>"
     },
     "execution_count": 4,
     "metadata": {},
     "output_type": "execute_result"
    }
   ],
   "source": [
    "evt = threading.Event()\n",
    "thrd1 = threading.Thread(target=step1, args=[evt])\n",
    "thrd1\n",
    "thrd2 = threading.Thread(target=step2, args=[evt])\n",
    "thrd2"
   ],
   "metadata": {
    "collapsed": false,
    "pycharm": {
     "name": "#%%\n"
    },
    "ExecuteTime": {
     "end_time": "2023-08-25T01:56:47.086689054Z",
     "start_time": "2023-08-25T01:56:47.077898142Z"
    }
   }
  },
  {
   "cell_type": "code",
   "execution_count": 5,
   "outputs": [
    {
     "name": "stdout",
     "output_type": "stream",
     "text": [
      "step 1\n"
     ]
    }
   ],
   "source": [
    "\n",
    "thrd1.start()\n",
    "thrd2.start()\n"
   ],
   "metadata": {
    "collapsed": false,
    "ExecuteTime": {
     "end_time": "2023-08-25T01:56:57.672394372Z",
     "start_time": "2023-08-25T01:56:57.649956397Z"
    }
   }
  },
  {
   "cell_type": "code",
   "execution_count": 7,
   "outputs": [
    {
     "data": {
      "text/plain": "<Thread(Thread-5 (step1), stopped 139868873147968)>"
     },
     "execution_count": 7,
     "metadata": {},
     "output_type": "execute_result"
    },
    {
     "data": {
      "text/plain": "<Thread(Thread-6 (step2), stopped 139868864755264)>"
     },
     "execution_count": 7,
     "metadata": {},
     "output_type": "execute_result"
    }
   ],
   "source": [
    "thrd1\n",
    "thrd2"
   ],
   "metadata": {
    "collapsed": false,
    "ExecuteTime": {
     "end_time": "2023-08-25T01:57:11.021107768Z",
     "start_time": "2023-08-25T01:57:11.005283109Z"
    }
   }
  },
  {
   "cell_type": "code",
   "execution_count": 12,
   "outputs": [
    {
     "name": "stdout",
     "output_type": "stream",
     "text": [
      "step 1\n",
      "Step 2\n"
     ]
    }
   ],
   "source": [
    "\n",
    "thrd1 = threading.Thread(target=step1, args=[evt])\n",
    "thrd2 = threading.Thread(target=step2, args=[evt])\n",
    "thrd1.start()\n",
    "thrd2.start()\n"
   ],
   "metadata": {
    "collapsed": false,
    "ExecuteTime": {
     "end_time": "2023-08-25T01:58:25.865483664Z",
     "start_time": "2023-08-25T01:58:25.850194426Z"
    }
   }
  }
 ],
 "metadata": {
  "kernelspec": {
   "display_name": "Python 3",
   "language": "python",
   "name": "python3"
  },
  "language_info": {
   "codemirror_mode": {
    "name": "ipython",
    "version": 2
   },
   "file_extension": ".py",
   "mimetype": "text/x-python",
   "name": "python",
   "nbconvert_exporter": "python",
   "pygments_lexer": "ipython2",
   "version": "2.7.6"
  }
 },
 "nbformat": 4,
 "nbformat_minor": 0
}
