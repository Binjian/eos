{
 "cells": [
  {
   "cell_type": "code",
   "execution_count": 1,
   "id": "35c26be5",
   "metadata": {
    "scrolled": true,
    "ExecuteTime": {
     "end_time": "2023-07-18T10:57:53.336824040Z",
     "start_time": "2023-07-18T10:57:51.518536414Z"
    }
   },
   "outputs": [
    {
     "name": "stdout",
     "output_type": "stream",
     "text": [
      "Pool.__init_subclass__(): ~DocItemT; Concrete Class: (eos.data_io.pool.pool.Pool[~DocItemT], typing.Generic[~DocItemT])\n",
      "Pool.__init_subclass__(): <class 'pandas.core.frame.DataFrame'>; Concrete Class: (eos.data_io.pool.pool.Pool[pandas.core.frame.DataFrame],)\n",
      "Pool.__init_subclass__(): <class 'eos.data_io.struct.eos_data.RecordDoc'>; Concrete Class: (eos.data_io.pool.pool.Pool[eos.data_io.struct.eos_data.RecordDoc],)\n",
      "Pool.__init_subclass__(): <class 'pandas.core.frame.DataFrame'>; Concrete Class: (eos.data_io.pool.pool.Pool[pandas.core.frame.DataFrame],)\n",
      "Pool.__init_subclass__(): ~DocItemT; Concrete Class: (eos.data_io.pool.pool.Pool[~DocItemT], typing.Generic[~DocItemT])\n",
      "Pool.__init_subclass__(): ~DocItemT; Concrete Class: (eos.data_io.buffer.buffer.Buffer[~DocItemT], typing.Generic[~DocItemT])\n"
     ]
    },
    {
     "name": "stderr",
     "output_type": "stream",
     "text": [
      "2023-07-18 18:57:52.253597: I tensorflow/core/platform/cpu_feature_guard.cc:193] This TensorFlow binary is optimized with oneAPI Deep Neural Network Library (oneDNN) to use the following CPU instructions in performance-critical operations:  SSE4.1 SSE4.2 AVX AVX2 FMA\n",
      "To enable them in other operations, rebuild TensorFlow with the appropriate compiler flags.\n"
     ]
    },
    {
     "name": "stdout",
     "output_type": "stream",
     "text": [
      "Pool.__init_subclass__(): <class 'pandas.core.frame.DataFrame'>; Concrete Class: (eos.data_io.buffer.buffer.Buffer[pandas.core.frame.DataFrame],)\n",
      "Pool.__init_subclass__(): <class 'pandas.core.frame.DataFrame'>; Concrete Class: (eos.data_io.buffer.buffer.Buffer[pandas.core.frame.DataFrame],)\n"
     ]
    }
   ],
   "source": [
    "from eos import proj_root"
   ]
  },
  {
   "cell_type": "code",
   "execution_count": 2,
   "id": "1373681d",
   "metadata": {
    "ExecuteTime": {
     "end_time": "2023-07-18T10:57:53.339057995Z",
     "start_time": "2023-07-18T10:57:53.337320810Z"
    }
   },
   "outputs": [],
   "source": [
    "from IPython.core.interactiveshell import InteractiveShell\n",
    "\n",
    "InteractiveShell.ast_node_interactivity = \"all\"\n"
   ]
  },
  {
   "cell_type": "code",
   "execution_count": 3,
   "id": "3bb3c0f7",
   "metadata": {
    "ExecuteTime": {
     "end_time": "2023-07-18T10:57:53.372814030Z",
     "start_time": "2023-07-18T10:57:53.338892766Z"
    }
   },
   "outputs": [
    {
     "data": {
      "text/plain": "'/home/n/devel/anting_remote/eos/data'"
     },
     "execution_count": 3,
     "metadata": {},
     "output_type": "execute_result"
    }
   ],
   "source": [
    "import os\n",
    "os.chdir(proj_root / 'data')\n",
    "os.getcwd()"
   ]
  },
  {
   "cell_type": "code",
   "execution_count": 4,
   "id": "564c4631",
   "metadata": {
    "ExecuteTime": {
     "end_time": "2023-07-18T10:57:53.454817067Z",
     "start_time": "2023-07-18T10:57:53.360114132Z"
    }
   },
   "outputs": [
    {
     "name": "stdout",
     "output_type": "stream",
     "text": [
      "{'station': '011990-99999', 'time': 1433269388, 'temp': 0}\n",
      "{'station': '011990-99999', 'time': 1433270389, 'temp': 22}\n",
      "{'station': '011990-99999', 'time': 1433273379, 'temp': -11}\n",
      "{'station': '012650-99999', 'time': 1433275478, 'temp': 111}\n"
     ]
    }
   ],
   "source": [
    "from fastavro import writer, reader, parse_schema\n",
    "\n",
    "schema = {\n",
    "    'doc': 'A weather reading.',\n",
    "    'name': 'Weather',\n",
    "    'namespace': 'test',\n",
    "    'type': 'record',\n",
    "    'fields': [\n",
    "        {'name': 'station', 'type': 'string'},\n",
    "        {'name': 'time', 'type': 'long'},\n",
    "        {'name': 'temp', 'type': 'int'},\n",
    "    ],\n",
    "}\n",
    "parsed_schema = parse_schema(schema)\n",
    "\n",
    "# 'records' can be an iterable (including generator)\n",
    "records = [\n",
    "    {u'station': u'011990-99999', u'temp': 0, u'time': 1433269388},\n",
    "    {u'station': u'011990-99999', u'temp': 22, u'time': 1433270389},\n",
    "    {u'station': u'011990-99999', u'temp': -11, u'time': 1433273379},\n",
    "    {u'station': u'012650-99999', u'temp': 111, u'time': 1433275478},\n",
    "]\n",
    "\n",
    "# Writing\n",
    "with open('weather.avro', 'wb') as out:\n",
    "    writer(out, parsed_schema, records)\n",
    "\n",
    "# Reading\n",
    "with open('weather.avro', 'rb') as fo:\n",
    "    for record in reader(fo):\n",
    "        print(record)"
   ]
  },
  {
   "cell_type": "code",
   "execution_count": 5,
   "id": "eea55958",
   "metadata": {
    "ExecuteTime": {
     "end_time": "2023-07-18T10:57:53.456309319Z",
     "start_time": "2023-07-18T10:57:53.406264666Z"
    }
   },
   "outputs": [
    {
     "data": {
      "text/plain": "qtuple                                                                   action  \\\nrows                                                                         r0   \nidx                                                                           0   \nvehicle driver     episodestart               timestamp                           \nVB7     wang-cheng 2023-07-18 18:57:53.376184 2023-07-18 19:57:53.376184   12.0   \n                                              2023-07-18 20:57:53.376184   12.0   \n                                              2023-07-18 21:57:53.376184   12.0   \n                                              2023-07-18 22:57:53.376184   12.0   \n                                              2023-07-18 23:57:53.376184   12.0   \n\nqtuple                                                                          \\\nrows                                                                             \nidx                                                                          1   \nvehicle driver     episodestart               timestamp                          \nVB7     wang-cheng 2023-07-18 18:57:53.376184 2023-07-18 19:57:53.376184  13.0   \n                                              2023-07-18 20:57:53.376184  13.0   \n                                              2023-07-18 21:57:53.376184  13.0   \n                                              2023-07-18 22:57:53.376184  13.0   \n                                              2023-07-18 23:57:53.376184  13.0   \n\nqtuple                                                                          \\\nrows                                                                             \nidx                                                                          2   \nvehicle driver     episodestart               timestamp                          \nVB7     wang-cheng 2023-07-18 18:57:53.376184 2023-07-18 19:57:53.376184  14.0   \n                                              2023-07-18 20:57:53.376184  14.0   \n                                              2023-07-18 21:57:53.376184  14.0   \n                                              2023-07-18 22:57:53.376184  14.0   \n                                              2023-07-18 23:57:53.376184  14.0   \n\nqtuple                                                                          \\\nrows                                                                             \nidx                                                                          3   \nvehicle driver     episodestart               timestamp                          \nVB7     wang-cheng 2023-07-18 18:57:53.376184 2023-07-18 19:57:53.376184  15.0   \n                                              2023-07-18 20:57:53.376184  15.0   \n                                              2023-07-18 21:57:53.376184  15.0   \n                                              2023-07-18 22:57:53.376184  15.0   \n                                              2023-07-18 23:57:53.376184  15.0   \n\nqtuple                                                                          \\\nrows                                                                             \nidx                                                                          4   \nvehicle driver     episodestart               timestamp                          \nVB7     wang-cheng 2023-07-18 18:57:53.376184 2023-07-18 19:57:53.376184  16.0   \n                                              2023-07-18 20:57:53.376184  16.0   \n                                              2023-07-18 21:57:53.376184  16.0   \n                                              2023-07-18 22:57:53.376184  16.0   \n                                              2023-07-18 23:57:53.376184  16.0   \n\nqtuple                                                                          \\\nrows                                                                        r1   \nidx                                                                          0   \nvehicle driver     episodestart               timestamp                          \nVB7     wang-cheng 2023-07-18 18:57:53.376184 2023-07-18 19:57:53.376184  17.0   \n                                              2023-07-18 20:57:53.376184  17.0   \n                                              2023-07-18 21:57:53.376184  17.0   \n                                              2023-07-18 22:57:53.376184  17.0   \n                                              2023-07-18 23:57:53.376184  17.0   \n\nqtuple                                                                          \\\nrows                                                                             \nidx                                                                          1   \nvehicle driver     episodestart               timestamp                          \nVB7     wang-cheng 2023-07-18 18:57:53.376184 2023-07-18 19:57:53.376184  18.0   \n                                              2023-07-18 20:57:53.376184  18.0   \n                                              2023-07-18 21:57:53.376184  18.0   \n                                              2023-07-18 22:57:53.376184  18.0   \n                                              2023-07-18 23:57:53.376184  18.0   \n\nqtuple                                                                          \\\nrows                                                                             \nidx                                                                          2   \nvehicle driver     episodestart               timestamp                          \nVB7     wang-cheng 2023-07-18 18:57:53.376184 2023-07-18 19:57:53.376184  19.0   \n                                              2023-07-18 20:57:53.376184  19.0   \n                                              2023-07-18 21:57:53.376184  19.0   \n                                              2023-07-18 22:57:53.376184  19.0   \n                                              2023-07-18 23:57:53.376184  19.0   \n\nqtuple                                                                          \\\nrows                                                                             \nidx                                                                          3   \nvehicle driver     episodestart               timestamp                          \nVB7     wang-cheng 2023-07-18 18:57:53.376184 2023-07-18 19:57:53.376184  20.0   \n                                              2023-07-18 20:57:53.376184  20.0   \n                                              2023-07-18 21:57:53.376184  20.0   \n                                              2023-07-18 22:57:53.376184  20.0   \n                                              2023-07-18 23:57:53.376184  20.0   \n\nqtuple                                                                          \\\nrows                                                                             \nidx                                                                          4   \nvehicle driver     episodestart               timestamp                          \nVB7     wang-cheng 2023-07-18 18:57:53.376184 2023-07-18 19:57:53.376184  21.0   \n                                              2023-07-18 20:57:53.376184  21.0   \n                                              2023-07-18 21:57:53.376184  21.0   \n                                              2023-07-18 22:57:53.376184  21.0   \n                                              2023-07-18 23:57:53.376184  21.0   \n\nqtuple                                                                    ...  \\\nrows                                                                      ...   \nidx                                                                       ...   \nvehicle driver     episodestart               timestamp                   ...   \nVB7     wang-cheng 2023-07-18 18:57:53.376184 2023-07-18 19:57:53.376184  ...   \n                                              2023-07-18 20:57:53.376184  ...   \n                                              2023-07-18 21:57:53.376184  ...   \n                                              2023-07-18 22:57:53.376184  ...   \n                                              2023-07-18 23:57:53.376184  ...   \n\nqtuple                                                                    state  \\\nrows                                                                     thrust   \nidx                                                                           2   \nvehicle driver     episodestart               timestamp                           \nVB7     wang-cheng 2023-07-18 18:57:53.376184 2023-07-18 19:57:53.376184    6.0   \n                                              2023-07-18 20:57:53.376184    6.0   \n                                              2023-07-18 21:57:53.376184    6.0   \n                                              2023-07-18 22:57:53.376184    6.0   \n                                              2023-07-18 23:57:53.376184    6.0   \n\nqtuple                                                                         \\\nrows                                                                            \nidx                                                                         3   \nvehicle driver     episodestart               timestamp                         \nVB7     wang-cheng 2023-07-18 18:57:53.376184 2023-07-18 19:57:53.376184  7.0   \n                                              2023-07-18 20:57:53.376184  7.0   \n                                              2023-07-18 21:57:53.376184  7.0   \n                                              2023-07-18 22:57:53.376184  7.0   \n                                              2023-07-18 23:57:53.376184  7.0   \n\nqtuple                                                                                               \\\nrows                                                                                       timestep   \nidx                                                                                               0   \nvehicle driver     episodestart               timestamp                                               \nVB7     wang-cheng 2023-07-18 18:57:53.376184 2023-07-18 19:57:53.376184 2023-07-18 18:57:53.376184   \n                                              2023-07-18 20:57:53.376184 2023-07-18 18:57:53.376184   \n                                              2023-07-18 21:57:53.376184 2023-07-18 18:57:53.376184   \n                                              2023-07-18 22:57:53.376184 2023-07-18 18:57:53.376184   \n                                              2023-07-18 23:57:53.376184 2023-07-18 18:57:53.376184   \n\nqtuple                                                                                               \\\nrows                                                                                                  \nidx                                                                                               1   \nvehicle driver     episodestart               timestamp                                               \nVB7     wang-cheng 2023-07-18 18:57:53.376184 2023-07-18 19:57:53.376184 2023-07-18 18:57:53.396184   \n                                              2023-07-18 20:57:53.376184 2023-07-18 18:57:53.396184   \n                                              2023-07-18 21:57:53.376184 2023-07-18 18:57:53.396184   \n                                              2023-07-18 22:57:53.376184 2023-07-18 18:57:53.396184   \n                                              2023-07-18 23:57:53.376184 2023-07-18 18:57:53.396184   \n\nqtuple                                                                                               \\\nrows                                                                                                  \nidx                                                                                               2   \nvehicle driver     episodestart               timestamp                                               \nVB7     wang-cheng 2023-07-18 18:57:53.376184 2023-07-18 19:57:53.376184 2023-07-18 18:57:53.416184   \n                                              2023-07-18 20:57:53.376184 2023-07-18 18:57:53.416184   \n                                              2023-07-18 21:57:53.376184 2023-07-18 18:57:53.416184   \n                                              2023-07-18 22:57:53.376184 2023-07-18 18:57:53.416184   \n                                              2023-07-18 23:57:53.376184 2023-07-18 18:57:53.416184   \n\nqtuple                                                                                               \\\nrows                                                                                                  \nidx                                                                                               3   \nvehicle driver     episodestart               timestamp                                               \nVB7     wang-cheng 2023-07-18 18:57:53.376184 2023-07-18 19:57:53.376184 2023-07-18 18:57:53.436184   \n                                              2023-07-18 20:57:53.376184 2023-07-18 18:57:53.436184   \n                                              2023-07-18 21:57:53.376184 2023-07-18 18:57:53.436184   \n                                              2023-07-18 22:57:53.376184 2023-07-18 18:57:53.436184   \n                                              2023-07-18 23:57:53.376184 2023-07-18 18:57:53.436184   \n\nqtuple                                                                             \\\nrows                                                                     velocity   \nidx                                                                             0   \nvehicle driver     episodestart               timestamp                             \nVB7     wang-cheng 2023-07-18 18:57:53.376184 2023-07-18 19:57:53.376184      0.0   \n                                              2023-07-18 20:57:53.376184      0.0   \n                                              2023-07-18 21:57:53.376184      0.0   \n                                              2023-07-18 22:57:53.376184      0.0   \n                                              2023-07-18 23:57:53.376184      0.0   \n\nqtuple                                                                         \\\nrows                                                                            \nidx                                                                         1   \nvehicle driver     episodestart               timestamp                         \nVB7     wang-cheng 2023-07-18 18:57:53.376184 2023-07-18 19:57:53.376184  1.0   \n                                              2023-07-18 20:57:53.376184  1.0   \n                                              2023-07-18 21:57:53.376184  1.0   \n                                              2023-07-18 22:57:53.376184  1.0   \n                                              2023-07-18 23:57:53.376184  1.0   \n\nqtuple                                                                         \\\nrows                                                                            \nidx                                                                         2   \nvehicle driver     episodestart               timestamp                         \nVB7     wang-cheng 2023-07-18 18:57:53.376184 2023-07-18 19:57:53.376184  2.0   \n                                              2023-07-18 20:57:53.376184  2.0   \n                                              2023-07-18 21:57:53.376184  2.0   \n                                              2023-07-18 22:57:53.376184  2.0   \n                                              2023-07-18 23:57:53.376184  2.0   \n\nqtuple                                                                         \nrows                                                                           \nidx                                                                         3  \nvehicle driver     episodestart               timestamp                        \nVB7     wang-cheng 2023-07-18 18:57:53.376184 2023-07-18 19:57:53.376184  3.0  \n                                              2023-07-18 20:57:53.376184  3.0  \n                                              2023-07-18 21:57:53.376184  3.0  \n                                              2023-07-18 22:57:53.376184  3.0  \n                                              2023-07-18 23:57:53.376184  3.0  \n\n[5 rows x 60 columns]",
      "text/html": "<div>\n<style scoped>\n    .dataframe tbody tr th:only-of-type {\n        vertical-align: middle;\n    }\n\n    .dataframe tbody tr th {\n        vertical-align: top;\n    }\n\n    .dataframe thead tr th {\n        text-align: left;\n    }\n\n    .dataframe thead tr:last-of-type th {\n        text-align: right;\n    }\n</style>\n<table border=\"1\" class=\"dataframe\">\n  <thead>\n    <tr>\n      <th></th>\n      <th></th>\n      <th></th>\n      <th>qtuple</th>\n      <th colspan=\"10\" halign=\"left\">action</th>\n      <th>...</th>\n      <th colspan=\"10\" halign=\"left\">state</th>\n    </tr>\n    <tr>\n      <th></th>\n      <th></th>\n      <th></th>\n      <th>rows</th>\n      <th colspan=\"5\" halign=\"left\">r0</th>\n      <th colspan=\"5\" halign=\"left\">r1</th>\n      <th>...</th>\n      <th colspan=\"2\" halign=\"left\">thrust</th>\n      <th colspan=\"4\" halign=\"left\">timestep</th>\n      <th colspan=\"4\" halign=\"left\">velocity</th>\n    </tr>\n    <tr>\n      <th></th>\n      <th></th>\n      <th></th>\n      <th>idx</th>\n      <th>0</th>\n      <th>1</th>\n      <th>2</th>\n      <th>3</th>\n      <th>4</th>\n      <th>0</th>\n      <th>1</th>\n      <th>2</th>\n      <th>3</th>\n      <th>4</th>\n      <th>...</th>\n      <th>2</th>\n      <th>3</th>\n      <th>0</th>\n      <th>1</th>\n      <th>2</th>\n      <th>3</th>\n      <th>0</th>\n      <th>1</th>\n      <th>2</th>\n      <th>3</th>\n    </tr>\n    <tr>\n      <th>vehicle</th>\n      <th>driver</th>\n      <th>episodestart</th>\n      <th>timestamp</th>\n      <th></th>\n      <th></th>\n      <th></th>\n      <th></th>\n      <th></th>\n      <th></th>\n      <th></th>\n      <th></th>\n      <th></th>\n      <th></th>\n      <th></th>\n      <th></th>\n      <th></th>\n      <th></th>\n      <th></th>\n      <th></th>\n      <th></th>\n      <th></th>\n      <th></th>\n      <th></th>\n      <th></th>\n    </tr>\n  </thead>\n  <tbody>\n    <tr>\n      <th rowspan=\"5\" valign=\"top\">VB7</th>\n      <th rowspan=\"5\" valign=\"top\">wang-cheng</th>\n      <th rowspan=\"5\" valign=\"top\">2023-07-18 18:57:53.376184</th>\n      <th>2023-07-18 19:57:53.376184</th>\n      <td>12.0</td>\n      <td>13.0</td>\n      <td>14.0</td>\n      <td>15.0</td>\n      <td>16.0</td>\n      <td>17.0</td>\n      <td>18.0</td>\n      <td>19.0</td>\n      <td>20.0</td>\n      <td>21.0</td>\n      <td>...</td>\n      <td>6.0</td>\n      <td>7.0</td>\n      <td>2023-07-18 18:57:53.376184</td>\n      <td>2023-07-18 18:57:53.396184</td>\n      <td>2023-07-18 18:57:53.416184</td>\n      <td>2023-07-18 18:57:53.436184</td>\n      <td>0.0</td>\n      <td>1.0</td>\n      <td>2.0</td>\n      <td>3.0</td>\n    </tr>\n    <tr>\n      <th>2023-07-18 20:57:53.376184</th>\n      <td>12.0</td>\n      <td>13.0</td>\n      <td>14.0</td>\n      <td>15.0</td>\n      <td>16.0</td>\n      <td>17.0</td>\n      <td>18.0</td>\n      <td>19.0</td>\n      <td>20.0</td>\n      <td>21.0</td>\n      <td>...</td>\n      <td>6.0</td>\n      <td>7.0</td>\n      <td>2023-07-18 18:57:53.376184</td>\n      <td>2023-07-18 18:57:53.396184</td>\n      <td>2023-07-18 18:57:53.416184</td>\n      <td>2023-07-18 18:57:53.436184</td>\n      <td>0.0</td>\n      <td>1.0</td>\n      <td>2.0</td>\n      <td>3.0</td>\n    </tr>\n    <tr>\n      <th>2023-07-18 21:57:53.376184</th>\n      <td>12.0</td>\n      <td>13.0</td>\n      <td>14.0</td>\n      <td>15.0</td>\n      <td>16.0</td>\n      <td>17.0</td>\n      <td>18.0</td>\n      <td>19.0</td>\n      <td>20.0</td>\n      <td>21.0</td>\n      <td>...</td>\n      <td>6.0</td>\n      <td>7.0</td>\n      <td>2023-07-18 18:57:53.376184</td>\n      <td>2023-07-18 18:57:53.396184</td>\n      <td>2023-07-18 18:57:53.416184</td>\n      <td>2023-07-18 18:57:53.436184</td>\n      <td>0.0</td>\n      <td>1.0</td>\n      <td>2.0</td>\n      <td>3.0</td>\n    </tr>\n    <tr>\n      <th>2023-07-18 22:57:53.376184</th>\n      <td>12.0</td>\n      <td>13.0</td>\n      <td>14.0</td>\n      <td>15.0</td>\n      <td>16.0</td>\n      <td>17.0</td>\n      <td>18.0</td>\n      <td>19.0</td>\n      <td>20.0</td>\n      <td>21.0</td>\n      <td>...</td>\n      <td>6.0</td>\n      <td>7.0</td>\n      <td>2023-07-18 18:57:53.376184</td>\n      <td>2023-07-18 18:57:53.396184</td>\n      <td>2023-07-18 18:57:53.416184</td>\n      <td>2023-07-18 18:57:53.436184</td>\n      <td>0.0</td>\n      <td>1.0</td>\n      <td>2.0</td>\n      <td>3.0</td>\n    </tr>\n    <tr>\n      <th>2023-07-18 23:57:53.376184</th>\n      <td>12.0</td>\n      <td>13.0</td>\n      <td>14.0</td>\n      <td>15.0</td>\n      <td>16.0</td>\n      <td>17.0</td>\n      <td>18.0</td>\n      <td>19.0</td>\n      <td>20.0</td>\n      <td>21.0</td>\n      <td>...</td>\n      <td>6.0</td>\n      <td>7.0</td>\n      <td>2023-07-18 18:57:53.376184</td>\n      <td>2023-07-18 18:57:53.396184</td>\n      <td>2023-07-18 18:57:53.416184</td>\n      <td>2023-07-18 18:57:53.436184</td>\n      <td>0.0</td>\n      <td>1.0</td>\n      <td>2.0</td>\n      <td>3.0</td>\n    </tr>\n  </tbody>\n</table>\n<p>5 rows × 60 columns</p>\n</div>"
     },
     "execution_count": 5,
     "metadata": {},
     "output_type": "execute_result"
    }
   ],
   "source": [
    "from dataclasses import dataclass, field\n",
    "from functools import reduce\n",
    "\n",
    "from typing import Optional\n",
    "import pandas as pd\n",
    "import numpy as np\n",
    "from ordered_set import OrderedSet\n",
    "from eos.data_io.config import drivers, trucks_by_id, drivers_by_id\n",
    "from datetime import datetime\n",
    "\n",
    "a = np.array([[1, 2, 3], [4, 5, 6]])\n",
    "ts = pd.to_datetime(datetime.now())\n",
    "\n",
    "ss = np.arange(12)\n",
    "a1 = ss[:4].tolist()\n",
    "a2 = ss[4:8].tolist()\n",
    "a3 = ss[8:].tolist()\n",
    "ss = [a1, a2, a3]\n",
    "\n",
    "ts_ind = ts + pd.to_timedelta(np.arange(0, 4 * 20, 20), 'ms')\n",
    "ss = np.arange(12)\n",
    "a1 = ss[:4]\n",
    "a2 = ss[4:8]\n",
    "a3 = ss[8:]\n",
    "df_ss = pd.DataFrame(\n",
    "    {'timestep': ts_ind, 'velocity': a1, 'thrust': a2, 'brake': a3}\n",
    ")  # .set_index('timestep')\n",
    "df_ss.columns.name = 'qtuple'\n",
    "\n",
    "state = df_ss.stack().swaplevel(0, 1)\n",
    "state.name = 'state'\n",
    "state.index.names = ['rows', 'idx']\n",
    "state.sort_index(inplace=True)\n",
    "\n",
    "a = len(ss) + np.arange(15)\n",
    "speed_ser = pd.Series(np.linspace(40, 60, 3), name='speed')\n",
    "row_array = a.reshape(3, 5).transpose()\n",
    "rows_df = pd.DataFrame(row_array)\n",
    "rows_df.columns = [f'r{i}' for i in np.arange(3)]\n",
    "\n",
    "ts_ind = ts + pd.to_timedelta(np.arange(5 * 20, 8 * 20, 20), 'ms')\n",
    "ts_ser = pd.Series(ts_ind, name='timestep')\n",
    "throttle_ser = pd.Series(np.linspace(0, 1.0, 5), name='throttle')\n",
    "# throttle_ser\n",
    "dfs = [rows_df, ts_ser, speed_ser, throttle_ser]\n",
    "action = (\n",
    "    reduce(\n",
    "        lambda left, right: pd.merge(\n",
    "            left, right, how='outer', left_index=True, right_index=True\n",
    "        ),\n",
    "        dfs,\n",
    "    )\n",
    "    .stack()\n",
    "    .swaplevel(0, 1)\n",
    "    .sort_index()\n",
    ")\n",
    "\n",
    "action.name = 'action'\n",
    "action.index.names = ['rows', 'idx']\n",
    "\n",
    "reward = (\n",
    "    pd.DataFrame({'work': len(ss) + len(a), 'timestep': ts_ind[0]}, index=[0])\n",
    "    .stack()\n",
    "    .swaplevel(0, 1)\n",
    "    .sort_index()\n",
    ")\n",
    "reward.index.names = ['rows', 'idx']\n",
    "reward.name = 'reward'\n",
    "ts_ind = ts + pd.to_timedelta(5, 's') + pd.to_timedelta(np.arange(0, 4 * 20, 20), 'ms')\n",
    "ss = (\n",
    "    np.arange(12) + len(ss) + len(a) + len(reward) - 1\n",
    ")  # exclude the timestamp in reward\n",
    "a1 = ss[:4]\n",
    "a2 = ss[4:8]\n",
    "a3 = ss[8:]\n",
    "\n",
    "nstate = (\n",
    "    pd.DataFrame({'timestep': ts_ind, 'velocity': a1, 'thrust': a2, 'brake': a3})\n",
    "    .stack()\n",
    "    .swaplevel(0, 1)\n",
    "    .sort_index()\n",
    ")\n",
    "nstate.name = 'nstate'\n",
    "nstate.index.names = ['rows', 'idx']\n",
    "\n",
    "timestamp = pd.Series([ts], name='timestamp')\n",
    "timestamp.index = pd.MultiIndex.from_product(\n",
    "    [timestamp.index, [0]], names=['rows', 'idx']\n",
    ")\n",
    "\n",
    "timestamp_index = (timestamp.name, '', 0)\n",
    "state_index = [(state.name, *i) for i in state.index]\n",
    "reward_index = [(reward.name, *i) for i in reward.index]\n",
    "action_index = [(action.name, *i) for i in action.index]\n",
    "nstate_index = [(nstate.name, *i) for i in nstate.index]\n",
    "multiindex = pd.MultiIndex.from_tuples(\n",
    "    [timestamp_index, *state_index, *action_index, *reward_index, *nstate_index]\n",
    ")\n",
    "observation_list = [timestamp, state, action, reward, nstate]\n",
    "observation = pd.concat(observation_list)\n",
    "observation.index = multiindex\n",
    "\n",
    "observation0 = observation.copy()\n",
    "observation0.loc['timestamp', '', 0] = ts + pd.Timedelta(1, 'h')\n",
    "observation1 = observation.copy()\n",
    "observation1.loc['timestamp', '', 0] = ts + pd.Timedelta(2, 'h')\n",
    "observation2 = observation.copy()\n",
    "observation2.loc['timestamp', '', 0] = ts + pd.Timedelta(3, 'h')\n",
    "observation3 = observation.copy()\n",
    "observation3.loc['timestamp', '', 0] = ts + pd.Timedelta(4, 'h')\n",
    "observation4 = observation.copy()\n",
    "observation4.loc['timestamp', '', 0] = ts + pd.Timedelta(5, 'h')\n",
    "observation_list = [\n",
    "    observation0,\n",
    "    observation1,\n",
    "    observation2,\n",
    "    observation3,\n",
    "    observation4,\n",
    "]\n",
    "\n",
    "dfs_epi = pd.concat(observation_list, axis=1).transpose()\n",
    "dfs_epi.columns.names = ['qtuple', 'rows', 'idx']\n",
    "\n",
    "dfs_episode = dfs_epi.copy()\n",
    "dfs_episode.set_index(('timestamp', '', 0), inplace=True)\n",
    "dfs_episode.sort_index(axis=1, inplace=True)\n",
    "dfs_episode.index.name = 'timestamp'\n",
    "\n",
    "state_cols_float = [('state', col) for col in ['brake', 'thrust', 'velocity']]\n",
    "action_cols_float = [('action', col) for col in ['r0', 'r1', 'r2', 'speed', 'throttle']]\n",
    "reward_cols_float = [('reward', 'work')]\n",
    "nstate_cols_float = [('nstate', col) for col in ['brake', 'thrust', 'velocity']]\n",
    "for col in action_cols_float + state_cols_float + reward_cols_float + nstate_cols_float:\n",
    "    dfs_episode[col[0], col[1]] = dfs_episode[col[0], col[1]].astype(\n",
    "        'float'\n",
    "    )  # float16 not allowed in parquet\n",
    "dfs_episode = pd.concat(\n",
    "    [dfs_episode], keys=[drivers_by_id['wang-cheng'].pid], names=['driver']\n",
    ")\n",
    "dfs_episode = pd.concat(\n",
    "    [dfs_episode], keys=[trucks_by_id['VB7'].vid], names=['vehicle']\n",
    ")\n",
    "episodestart = ts - pd.Timedelta(1, 'h')\n",
    "dfs_episode = pd.concat([dfs_episode], keys=[ts], names=['episodestart'])\n",
    "dfs_episode = dfs_episode.swaplevel(1, 0, axis=0)\n",
    "dfs_episode = dfs_episode.swaplevel(1, 2, axis=0)\n",
    "dfs_episode.sort_index(inplace=True)\n",
    "dfs_episode"
   ]
  },
  {
   "cell_type": "code",
   "execution_count": 6,
   "outputs": [
    {
     "data": {
      "text/plain": "'dfs_episode_all'"
     },
     "metadata": {},
     "output_type": "display_data"
    },
    {
     "data": {
      "text/plain": "qtuple                                                                      state  \\\nrows                                                                        brake   \nidx                                                                             0   \nvehicle driver        episodestart               timestamp                          \nMP73    wang-cheng    2023-07-13 18:57:53.438034 2023-07-18 20:57:53.376184   8.0   \n                                                 2023-07-18 22:57:53.376184   8.0   \n        zheng-longfei 2023-07-11 18:57:53.438034 2023-07-18 19:57:53.376184   8.0   \n                                                 2023-07-18 21:57:53.376184   8.0   \n                                                 2023-07-18 23:57:53.376184   8.0   \nVB7     wang-cheng    2023-07-12 18:57:53.438034 2023-07-18 19:57:53.376184   8.0   \n                                                 2023-07-18 21:57:53.376184   8.0   \n                                                 2023-07-18 22:57:53.376184   8.0   \n                                                 2023-07-18 23:57:53.376184   8.0   \n                      2023-07-18 18:57:53.376184 2023-07-18 19:57:53.376184   8.0   \n                                                 2023-07-18 20:57:53.376184   8.0   \n                                                 2023-07-18 21:57:53.376184   8.0   \n                                                 2023-07-18 22:57:53.376184   8.0   \n                                                 2023-07-18 23:57:53.376184   8.0   \n        zheng-longfei 2023-07-16 18:57:53.438034 2023-07-18 19:57:53.376184   8.0   \n                                                 2023-07-18 20:57:53.376184   8.0   \n                                                 2023-07-18 22:57:53.376184   8.0   \n                                                 2023-07-18 23:57:53.376184   8.0   \n\nqtuple                                                                            \\\nrows                                                                               \nidx                                                                            1   \nvehicle driver        episodestart               timestamp                         \nMP73    wang-cheng    2023-07-13 18:57:53.438034 2023-07-18 20:57:53.376184  9.0   \n                                                 2023-07-18 22:57:53.376184  9.0   \n        zheng-longfei 2023-07-11 18:57:53.438034 2023-07-18 19:57:53.376184  9.0   \n                                                 2023-07-18 21:57:53.376184  9.0   \n                                                 2023-07-18 23:57:53.376184  9.0   \nVB7     wang-cheng    2023-07-12 18:57:53.438034 2023-07-18 19:57:53.376184  9.0   \n                                                 2023-07-18 21:57:53.376184  9.0   \n                                                 2023-07-18 22:57:53.376184  9.0   \n                                                 2023-07-18 23:57:53.376184  9.0   \n                      2023-07-18 18:57:53.376184 2023-07-18 19:57:53.376184  9.0   \n                                                 2023-07-18 20:57:53.376184  9.0   \n                                                 2023-07-18 21:57:53.376184  9.0   \n                                                 2023-07-18 22:57:53.376184  9.0   \n                                                 2023-07-18 23:57:53.376184  9.0   \n        zheng-longfei 2023-07-16 18:57:53.438034 2023-07-18 19:57:53.376184  9.0   \n                                                 2023-07-18 20:57:53.376184  9.0   \n                                                 2023-07-18 22:57:53.376184  9.0   \n                                                 2023-07-18 23:57:53.376184  9.0   \n\nqtuple                                                                             \\\nrows                                                                                \nidx                                                                             2   \nvehicle driver        episodestart               timestamp                          \nMP73    wang-cheng    2023-07-13 18:57:53.438034 2023-07-18 20:57:53.376184  10.0   \n                                                 2023-07-18 22:57:53.376184  10.0   \n        zheng-longfei 2023-07-11 18:57:53.438034 2023-07-18 19:57:53.376184  10.0   \n                                                 2023-07-18 21:57:53.376184  10.0   \n                                                 2023-07-18 23:57:53.376184  10.0   \nVB7     wang-cheng    2023-07-12 18:57:53.438034 2023-07-18 19:57:53.376184  10.0   \n                                                 2023-07-18 21:57:53.376184  10.0   \n                                                 2023-07-18 22:57:53.376184  10.0   \n                                                 2023-07-18 23:57:53.376184  10.0   \n                      2023-07-18 18:57:53.376184 2023-07-18 19:57:53.376184  10.0   \n                                                 2023-07-18 20:57:53.376184  10.0   \n                                                 2023-07-18 21:57:53.376184  10.0   \n                                                 2023-07-18 22:57:53.376184  10.0   \n                                                 2023-07-18 23:57:53.376184  10.0   \n        zheng-longfei 2023-07-16 18:57:53.438034 2023-07-18 19:57:53.376184  10.0   \n                                                 2023-07-18 20:57:53.376184  10.0   \n                                                 2023-07-18 22:57:53.376184  10.0   \n                                                 2023-07-18 23:57:53.376184  10.0   \n\nqtuple                                                                             \\\nrows                                                                                \nidx                                                                             3   \nvehicle driver        episodestart               timestamp                          \nMP73    wang-cheng    2023-07-13 18:57:53.438034 2023-07-18 20:57:53.376184  11.0   \n                                                 2023-07-18 22:57:53.376184  11.0   \n        zheng-longfei 2023-07-11 18:57:53.438034 2023-07-18 19:57:53.376184  11.0   \n                                                 2023-07-18 21:57:53.376184  11.0   \n                                                 2023-07-18 23:57:53.376184  11.0   \nVB7     wang-cheng    2023-07-12 18:57:53.438034 2023-07-18 19:57:53.376184  11.0   \n                                                 2023-07-18 21:57:53.376184  11.0   \n                                                 2023-07-18 22:57:53.376184  11.0   \n                                                 2023-07-18 23:57:53.376184  11.0   \n                      2023-07-18 18:57:53.376184 2023-07-18 19:57:53.376184  11.0   \n                                                 2023-07-18 20:57:53.376184  11.0   \n                                                 2023-07-18 21:57:53.376184  11.0   \n                                                 2023-07-18 22:57:53.376184  11.0   \n                                                 2023-07-18 23:57:53.376184  11.0   \n        zheng-longfei 2023-07-16 18:57:53.438034 2023-07-18 19:57:53.376184  11.0   \n                                                 2023-07-18 20:57:53.376184  11.0   \n                                                 2023-07-18 22:57:53.376184  11.0   \n                                                 2023-07-18 23:57:53.376184  11.0   \n\nqtuple                                                                              \\\nrows                                                                        thrust   \nidx                                                                              0   \nvehicle driver        episodestart               timestamp                           \nMP73    wang-cheng    2023-07-13 18:57:53.438034 2023-07-18 20:57:53.376184    4.0   \n                                                 2023-07-18 22:57:53.376184    4.0   \n        zheng-longfei 2023-07-11 18:57:53.438034 2023-07-18 19:57:53.376184    4.0   \n                                                 2023-07-18 21:57:53.376184    4.0   \n                                                 2023-07-18 23:57:53.376184    4.0   \nVB7     wang-cheng    2023-07-12 18:57:53.438034 2023-07-18 19:57:53.376184    4.0   \n                                                 2023-07-18 21:57:53.376184    4.0   \n                                                 2023-07-18 22:57:53.376184    4.0   \n                                                 2023-07-18 23:57:53.376184    4.0   \n                      2023-07-18 18:57:53.376184 2023-07-18 19:57:53.376184    4.0   \n                                                 2023-07-18 20:57:53.376184    4.0   \n                                                 2023-07-18 21:57:53.376184    4.0   \n                                                 2023-07-18 22:57:53.376184    4.0   \n                                                 2023-07-18 23:57:53.376184    4.0   \n        zheng-longfei 2023-07-16 18:57:53.438034 2023-07-18 19:57:53.376184    4.0   \n                                                 2023-07-18 20:57:53.376184    4.0   \n                                                 2023-07-18 22:57:53.376184    4.0   \n                                                 2023-07-18 23:57:53.376184    4.0   \n\nqtuple                                                                            \\\nrows                                                                               \nidx                                                                            1   \nvehicle driver        episodestart               timestamp                         \nMP73    wang-cheng    2023-07-13 18:57:53.438034 2023-07-18 20:57:53.376184  5.0   \n                                                 2023-07-18 22:57:53.376184  5.0   \n        zheng-longfei 2023-07-11 18:57:53.438034 2023-07-18 19:57:53.376184  5.0   \n                                                 2023-07-18 21:57:53.376184  5.0   \n                                                 2023-07-18 23:57:53.376184  5.0   \nVB7     wang-cheng    2023-07-12 18:57:53.438034 2023-07-18 19:57:53.376184  5.0   \n                                                 2023-07-18 21:57:53.376184  5.0   \n                                                 2023-07-18 22:57:53.376184  5.0   \n                                                 2023-07-18 23:57:53.376184  5.0   \n                      2023-07-18 18:57:53.376184 2023-07-18 19:57:53.376184  5.0   \n                                                 2023-07-18 20:57:53.376184  5.0   \n                                                 2023-07-18 21:57:53.376184  5.0   \n                                                 2023-07-18 22:57:53.376184  5.0   \n                                                 2023-07-18 23:57:53.376184  5.0   \n        zheng-longfei 2023-07-16 18:57:53.438034 2023-07-18 19:57:53.376184  5.0   \n                                                 2023-07-18 20:57:53.376184  5.0   \n                                                 2023-07-18 22:57:53.376184  5.0   \n                                                 2023-07-18 23:57:53.376184  5.0   \n\nqtuple                                                                            \\\nrows                                                                               \nidx                                                                            2   \nvehicle driver        episodestart               timestamp                         \nMP73    wang-cheng    2023-07-13 18:57:53.438034 2023-07-18 20:57:53.376184  6.0   \n                                                 2023-07-18 22:57:53.376184  6.0   \n        zheng-longfei 2023-07-11 18:57:53.438034 2023-07-18 19:57:53.376184  6.0   \n                                                 2023-07-18 21:57:53.376184  6.0   \n                                                 2023-07-18 23:57:53.376184  6.0   \nVB7     wang-cheng    2023-07-12 18:57:53.438034 2023-07-18 19:57:53.376184  6.0   \n                                                 2023-07-18 21:57:53.376184  6.0   \n                                                 2023-07-18 22:57:53.376184  6.0   \n                                                 2023-07-18 23:57:53.376184  6.0   \n                      2023-07-18 18:57:53.376184 2023-07-18 19:57:53.376184  6.0   \n                                                 2023-07-18 20:57:53.376184  6.0   \n                                                 2023-07-18 21:57:53.376184  6.0   \n                                                 2023-07-18 22:57:53.376184  6.0   \n                                                 2023-07-18 23:57:53.376184  6.0   \n        zheng-longfei 2023-07-16 18:57:53.438034 2023-07-18 19:57:53.376184  6.0   \n                                                 2023-07-18 20:57:53.376184  6.0   \n                                                 2023-07-18 22:57:53.376184  6.0   \n                                                 2023-07-18 23:57:53.376184  6.0   \n\nqtuple                                                                            \\\nrows                                                                               \nidx                                                                            3   \nvehicle driver        episodestart               timestamp                         \nMP73    wang-cheng    2023-07-13 18:57:53.438034 2023-07-18 20:57:53.376184  7.0   \n                                                 2023-07-18 22:57:53.376184  7.0   \n        zheng-longfei 2023-07-11 18:57:53.438034 2023-07-18 19:57:53.376184  7.0   \n                                                 2023-07-18 21:57:53.376184  7.0   \n                                                 2023-07-18 23:57:53.376184  7.0   \nVB7     wang-cheng    2023-07-12 18:57:53.438034 2023-07-18 19:57:53.376184  7.0   \n                                                 2023-07-18 21:57:53.376184  7.0   \n                                                 2023-07-18 22:57:53.376184  7.0   \n                                                 2023-07-18 23:57:53.376184  7.0   \n                      2023-07-18 18:57:53.376184 2023-07-18 19:57:53.376184  7.0   \n                                                 2023-07-18 20:57:53.376184  7.0   \n                                                 2023-07-18 21:57:53.376184  7.0   \n                                                 2023-07-18 22:57:53.376184  7.0   \n                                                 2023-07-18 23:57:53.376184  7.0   \n        zheng-longfei 2023-07-16 18:57:53.438034 2023-07-18 19:57:53.376184  7.0   \n                                                 2023-07-18 20:57:53.376184  7.0   \n                                                 2023-07-18 22:57:53.376184  7.0   \n                                                 2023-07-18 23:57:53.376184  7.0   \n\nqtuple                                                                                                  \\\nrows                                                                                          timestep   \nidx                                                                                                  0   \nvehicle driver        episodestart               timestamp                                               \nMP73    wang-cheng    2023-07-13 18:57:53.438034 2023-07-18 20:57:53.376184 2023-07-18 18:57:53.376184   \n                                                 2023-07-18 22:57:53.376184 2023-07-18 18:57:53.376184   \n        zheng-longfei 2023-07-11 18:57:53.438034 2023-07-18 19:57:53.376184 2023-07-18 18:57:53.376184   \n                                                 2023-07-18 21:57:53.376184 2023-07-18 18:57:53.376184   \n                                                 2023-07-18 23:57:53.376184 2023-07-18 18:57:53.376184   \nVB7     wang-cheng    2023-07-12 18:57:53.438034 2023-07-18 19:57:53.376184 2023-07-18 18:57:53.376184   \n                                                 2023-07-18 21:57:53.376184 2023-07-18 18:57:53.376184   \n                                                 2023-07-18 22:57:53.376184 2023-07-18 18:57:53.376184   \n                                                 2023-07-18 23:57:53.376184 2023-07-18 18:57:53.376184   \n                      2023-07-18 18:57:53.376184 2023-07-18 19:57:53.376184 2023-07-18 18:57:53.376184   \n                                                 2023-07-18 20:57:53.376184 2023-07-18 18:57:53.376184   \n                                                 2023-07-18 21:57:53.376184 2023-07-18 18:57:53.376184   \n                                                 2023-07-18 22:57:53.376184 2023-07-18 18:57:53.376184   \n                                                 2023-07-18 23:57:53.376184 2023-07-18 18:57:53.376184   \n        zheng-longfei 2023-07-16 18:57:53.438034 2023-07-18 19:57:53.376184 2023-07-18 18:57:53.376184   \n                                                 2023-07-18 20:57:53.376184 2023-07-18 18:57:53.376184   \n                                                 2023-07-18 22:57:53.376184 2023-07-18 18:57:53.376184   \n                                                 2023-07-18 23:57:53.376184 2023-07-18 18:57:53.376184   \n\nqtuple                                                                                                  \\\nrows                                                                                                     \nidx                                                                                                  1   \nvehicle driver        episodestart               timestamp                                               \nMP73    wang-cheng    2023-07-13 18:57:53.438034 2023-07-18 20:57:53.376184 2023-07-18 18:57:53.396184   \n                                                 2023-07-18 22:57:53.376184 2023-07-18 18:57:53.396184   \n        zheng-longfei 2023-07-11 18:57:53.438034 2023-07-18 19:57:53.376184 2023-07-18 18:57:53.396184   \n                                                 2023-07-18 21:57:53.376184 2023-07-18 18:57:53.396184   \n                                                 2023-07-18 23:57:53.376184 2023-07-18 18:57:53.396184   \nVB7     wang-cheng    2023-07-12 18:57:53.438034 2023-07-18 19:57:53.376184 2023-07-18 18:57:53.396184   \n                                                 2023-07-18 21:57:53.376184 2023-07-18 18:57:53.396184   \n                                                 2023-07-18 22:57:53.376184 2023-07-18 18:57:53.396184   \n                                                 2023-07-18 23:57:53.376184 2023-07-18 18:57:53.396184   \n                      2023-07-18 18:57:53.376184 2023-07-18 19:57:53.376184 2023-07-18 18:57:53.396184   \n                                                 2023-07-18 20:57:53.376184 2023-07-18 18:57:53.396184   \n                                                 2023-07-18 21:57:53.376184 2023-07-18 18:57:53.396184   \n                                                 2023-07-18 22:57:53.376184 2023-07-18 18:57:53.396184   \n                                                 2023-07-18 23:57:53.376184 2023-07-18 18:57:53.396184   \n        zheng-longfei 2023-07-16 18:57:53.438034 2023-07-18 19:57:53.376184 2023-07-18 18:57:53.396184   \n                                                 2023-07-18 20:57:53.376184 2023-07-18 18:57:53.396184   \n                                                 2023-07-18 22:57:53.376184 2023-07-18 18:57:53.396184   \n                                                 2023-07-18 23:57:53.376184 2023-07-18 18:57:53.396184   \n\nqtuple                                                                       ...  \\\nrows                                                                         ...   \nidx                                                                          ...   \nvehicle driver        episodestart               timestamp                   ...   \nMP73    wang-cheng    2023-07-13 18:57:53.438034 2023-07-18 20:57:53.376184  ...   \n                                                 2023-07-18 22:57:53.376184  ...   \n        zheng-longfei 2023-07-11 18:57:53.438034 2023-07-18 19:57:53.376184  ...   \n                                                 2023-07-18 21:57:53.376184  ...   \n                                                 2023-07-18 23:57:53.376184  ...   \nVB7     wang-cheng    2023-07-12 18:57:53.438034 2023-07-18 19:57:53.376184  ...   \n                                                 2023-07-18 21:57:53.376184  ...   \n                                                 2023-07-18 22:57:53.376184  ...   \n                                                 2023-07-18 23:57:53.376184  ...   \n                      2023-07-18 18:57:53.376184 2023-07-18 19:57:53.376184  ...   \n                                                 2023-07-18 20:57:53.376184  ...   \n                                                 2023-07-18 21:57:53.376184  ...   \n                                                 2023-07-18 22:57:53.376184  ...   \n                                                 2023-07-18 23:57:53.376184  ...   \n        zheng-longfei 2023-07-16 18:57:53.438034 2023-07-18 19:57:53.376184  ...   \n                                                 2023-07-18 20:57:53.376184  ...   \n                                                 2023-07-18 22:57:53.376184  ...   \n                                                 2023-07-18 23:57:53.376184  ...   \n\nqtuple                                                                      nstate  \\\nrows                                                                        thrust   \nidx                                                                              2   \nvehicle driver        episodestart               timestamp                           \nMP73    wang-cheng    2023-07-13 18:57:53.438034 2023-07-18 20:57:53.376184   34.0   \n                                                 2023-07-18 22:57:53.376184   34.0   \n        zheng-longfei 2023-07-11 18:57:53.438034 2023-07-18 19:57:53.376184   34.0   \n                                                 2023-07-18 21:57:53.376184   34.0   \n                                                 2023-07-18 23:57:53.376184   34.0   \nVB7     wang-cheng    2023-07-12 18:57:53.438034 2023-07-18 19:57:53.376184   34.0   \n                                                 2023-07-18 21:57:53.376184   34.0   \n                                                 2023-07-18 22:57:53.376184   34.0   \n                                                 2023-07-18 23:57:53.376184   34.0   \n                      2023-07-18 18:57:53.376184 2023-07-18 19:57:53.376184   34.0   \n                                                 2023-07-18 20:57:53.376184   34.0   \n                                                 2023-07-18 21:57:53.376184   34.0   \n                                                 2023-07-18 22:57:53.376184   34.0   \n                                                 2023-07-18 23:57:53.376184   34.0   \n        zheng-longfei 2023-07-16 18:57:53.438034 2023-07-18 19:57:53.376184   34.0   \n                                                 2023-07-18 20:57:53.376184   34.0   \n                                                 2023-07-18 22:57:53.376184   34.0   \n                                                 2023-07-18 23:57:53.376184   34.0   \n\nqtuple                                                                             \\\nrows                                                                                \nidx                                                                             3   \nvehicle driver        episodestart               timestamp                          \nMP73    wang-cheng    2023-07-13 18:57:53.438034 2023-07-18 20:57:53.376184  35.0   \n                                                 2023-07-18 22:57:53.376184  35.0   \n        zheng-longfei 2023-07-11 18:57:53.438034 2023-07-18 19:57:53.376184  35.0   \n                                                 2023-07-18 21:57:53.376184  35.0   \n                                                 2023-07-18 23:57:53.376184  35.0   \nVB7     wang-cheng    2023-07-12 18:57:53.438034 2023-07-18 19:57:53.376184  35.0   \n                                                 2023-07-18 21:57:53.376184  35.0   \n                                                 2023-07-18 22:57:53.376184  35.0   \n                                                 2023-07-18 23:57:53.376184  35.0   \n                      2023-07-18 18:57:53.376184 2023-07-18 19:57:53.376184  35.0   \n                                                 2023-07-18 20:57:53.376184  35.0   \n                                                 2023-07-18 21:57:53.376184  35.0   \n                                                 2023-07-18 22:57:53.376184  35.0   \n                                                 2023-07-18 23:57:53.376184  35.0   \n        zheng-longfei 2023-07-16 18:57:53.438034 2023-07-18 19:57:53.376184  35.0   \n                                                 2023-07-18 20:57:53.376184  35.0   \n                                                 2023-07-18 22:57:53.376184  35.0   \n                                                 2023-07-18 23:57:53.376184  35.0   \n\nqtuple                                                                                                  \\\nrows                                                                                          timestep   \nidx                                                                                                  0   \nvehicle driver        episodestart               timestamp                                               \nMP73    wang-cheng    2023-07-13 18:57:53.438034 2023-07-18 20:57:53.376184 2023-07-18 18:57:58.376184   \n                                                 2023-07-18 22:57:53.376184 2023-07-18 18:57:58.376184   \n        zheng-longfei 2023-07-11 18:57:53.438034 2023-07-18 19:57:53.376184 2023-07-18 18:57:58.376184   \n                                                 2023-07-18 21:57:53.376184 2023-07-18 18:57:58.376184   \n                                                 2023-07-18 23:57:53.376184 2023-07-18 18:57:58.376184   \nVB7     wang-cheng    2023-07-12 18:57:53.438034 2023-07-18 19:57:53.376184 2023-07-18 18:57:58.376184   \n                                                 2023-07-18 21:57:53.376184 2023-07-18 18:57:58.376184   \n                                                 2023-07-18 22:57:53.376184 2023-07-18 18:57:58.376184   \n                                                 2023-07-18 23:57:53.376184 2023-07-18 18:57:58.376184   \n                      2023-07-18 18:57:53.376184 2023-07-18 19:57:53.376184 2023-07-18 18:57:58.376184   \n                                                 2023-07-18 20:57:53.376184 2023-07-18 18:57:58.376184   \n                                                 2023-07-18 21:57:53.376184 2023-07-18 18:57:58.376184   \n                                                 2023-07-18 22:57:53.376184 2023-07-18 18:57:58.376184   \n                                                 2023-07-18 23:57:53.376184 2023-07-18 18:57:58.376184   \n        zheng-longfei 2023-07-16 18:57:53.438034 2023-07-18 19:57:53.376184 2023-07-18 18:57:58.376184   \n                                                 2023-07-18 20:57:53.376184 2023-07-18 18:57:58.376184   \n                                                 2023-07-18 22:57:53.376184 2023-07-18 18:57:58.376184   \n                                                 2023-07-18 23:57:53.376184 2023-07-18 18:57:58.376184   \n\nqtuple                                                                                                  \\\nrows                                                                                                     \nidx                                                                                                  1   \nvehicle driver        episodestart               timestamp                                               \nMP73    wang-cheng    2023-07-13 18:57:53.438034 2023-07-18 20:57:53.376184 2023-07-18 18:57:58.396184   \n                                                 2023-07-18 22:57:53.376184 2023-07-18 18:57:58.396184   \n        zheng-longfei 2023-07-11 18:57:53.438034 2023-07-18 19:57:53.376184 2023-07-18 18:57:58.396184   \n                                                 2023-07-18 21:57:53.376184 2023-07-18 18:57:58.396184   \n                                                 2023-07-18 23:57:53.376184 2023-07-18 18:57:58.396184   \nVB7     wang-cheng    2023-07-12 18:57:53.438034 2023-07-18 19:57:53.376184 2023-07-18 18:57:58.396184   \n                                                 2023-07-18 21:57:53.376184 2023-07-18 18:57:58.396184   \n                                                 2023-07-18 22:57:53.376184 2023-07-18 18:57:58.396184   \n                                                 2023-07-18 23:57:53.376184 2023-07-18 18:57:58.396184   \n                      2023-07-18 18:57:53.376184 2023-07-18 19:57:53.376184 2023-07-18 18:57:58.396184   \n                                                 2023-07-18 20:57:53.376184 2023-07-18 18:57:58.396184   \n                                                 2023-07-18 21:57:53.376184 2023-07-18 18:57:58.396184   \n                                                 2023-07-18 22:57:53.376184 2023-07-18 18:57:58.396184   \n                                                 2023-07-18 23:57:53.376184 2023-07-18 18:57:58.396184   \n        zheng-longfei 2023-07-16 18:57:53.438034 2023-07-18 19:57:53.376184 2023-07-18 18:57:58.396184   \n                                                 2023-07-18 20:57:53.376184 2023-07-18 18:57:58.396184   \n                                                 2023-07-18 22:57:53.376184 2023-07-18 18:57:58.396184   \n                                                 2023-07-18 23:57:53.376184 2023-07-18 18:57:58.396184   \n\nqtuple                                                                                                  \\\nrows                                                                                                     \nidx                                                                                                  2   \nvehicle driver        episodestart               timestamp                                               \nMP73    wang-cheng    2023-07-13 18:57:53.438034 2023-07-18 20:57:53.376184 2023-07-18 18:57:58.416184   \n                                                 2023-07-18 22:57:53.376184 2023-07-18 18:57:58.416184   \n        zheng-longfei 2023-07-11 18:57:53.438034 2023-07-18 19:57:53.376184 2023-07-18 18:57:58.416184   \n                                                 2023-07-18 21:57:53.376184 2023-07-18 18:57:58.416184   \n                                                 2023-07-18 23:57:53.376184 2023-07-18 18:57:58.416184   \nVB7     wang-cheng    2023-07-12 18:57:53.438034 2023-07-18 19:57:53.376184 2023-07-18 18:57:58.416184   \n                                                 2023-07-18 21:57:53.376184 2023-07-18 18:57:58.416184   \n                                                 2023-07-18 22:57:53.376184 2023-07-18 18:57:58.416184   \n                                                 2023-07-18 23:57:53.376184 2023-07-18 18:57:58.416184   \n                      2023-07-18 18:57:53.376184 2023-07-18 19:57:53.376184 2023-07-18 18:57:58.416184   \n                                                 2023-07-18 20:57:53.376184 2023-07-18 18:57:58.416184   \n                                                 2023-07-18 21:57:53.376184 2023-07-18 18:57:58.416184   \n                                                 2023-07-18 22:57:53.376184 2023-07-18 18:57:58.416184   \n                                                 2023-07-18 23:57:53.376184 2023-07-18 18:57:58.416184   \n        zheng-longfei 2023-07-16 18:57:53.438034 2023-07-18 19:57:53.376184 2023-07-18 18:57:58.416184   \n                                                 2023-07-18 20:57:53.376184 2023-07-18 18:57:58.416184   \n                                                 2023-07-18 22:57:53.376184 2023-07-18 18:57:58.416184   \n                                                 2023-07-18 23:57:53.376184 2023-07-18 18:57:58.416184   \n\nqtuple                                                                                                  \\\nrows                                                                                                     \nidx                                                                                                  3   \nvehicle driver        episodestart               timestamp                                               \nMP73    wang-cheng    2023-07-13 18:57:53.438034 2023-07-18 20:57:53.376184 2023-07-18 18:57:58.436184   \n                                                 2023-07-18 22:57:53.376184 2023-07-18 18:57:58.436184   \n        zheng-longfei 2023-07-11 18:57:53.438034 2023-07-18 19:57:53.376184 2023-07-18 18:57:58.436184   \n                                                 2023-07-18 21:57:53.376184 2023-07-18 18:57:58.436184   \n                                                 2023-07-18 23:57:53.376184 2023-07-18 18:57:58.436184   \nVB7     wang-cheng    2023-07-12 18:57:53.438034 2023-07-18 19:57:53.376184 2023-07-18 18:57:58.436184   \n                                                 2023-07-18 21:57:53.376184 2023-07-18 18:57:58.436184   \n                                                 2023-07-18 22:57:53.376184 2023-07-18 18:57:58.436184   \n                                                 2023-07-18 23:57:53.376184 2023-07-18 18:57:58.436184   \n                      2023-07-18 18:57:53.376184 2023-07-18 19:57:53.376184 2023-07-18 18:57:58.436184   \n                                                 2023-07-18 20:57:53.376184 2023-07-18 18:57:58.436184   \n                                                 2023-07-18 21:57:53.376184 2023-07-18 18:57:58.436184   \n                                                 2023-07-18 22:57:53.376184 2023-07-18 18:57:58.436184   \n                                                 2023-07-18 23:57:53.376184 2023-07-18 18:57:58.436184   \n        zheng-longfei 2023-07-16 18:57:53.438034 2023-07-18 19:57:53.376184 2023-07-18 18:57:58.436184   \n                                                 2023-07-18 20:57:53.376184 2023-07-18 18:57:58.436184   \n                                                 2023-07-18 22:57:53.376184 2023-07-18 18:57:58.436184   \n                                                 2023-07-18 23:57:53.376184 2023-07-18 18:57:58.436184   \n\nqtuple                                                                                \\\nrows                                                                        velocity   \nidx                                                                                0   \nvehicle driver        episodestart               timestamp                             \nMP73    wang-cheng    2023-07-13 18:57:53.438034 2023-07-18 20:57:53.376184     28.0   \n                                                 2023-07-18 22:57:53.376184     28.0   \n        zheng-longfei 2023-07-11 18:57:53.438034 2023-07-18 19:57:53.376184     28.0   \n                                                 2023-07-18 21:57:53.376184     28.0   \n                                                 2023-07-18 23:57:53.376184     28.0   \nVB7     wang-cheng    2023-07-12 18:57:53.438034 2023-07-18 19:57:53.376184     28.0   \n                                                 2023-07-18 21:57:53.376184     28.0   \n                                                 2023-07-18 22:57:53.376184     28.0   \n                                                 2023-07-18 23:57:53.376184     28.0   \n                      2023-07-18 18:57:53.376184 2023-07-18 19:57:53.376184     28.0   \n                                                 2023-07-18 20:57:53.376184     28.0   \n                                                 2023-07-18 21:57:53.376184     28.0   \n                                                 2023-07-18 22:57:53.376184     28.0   \n                                                 2023-07-18 23:57:53.376184     28.0   \n        zheng-longfei 2023-07-16 18:57:53.438034 2023-07-18 19:57:53.376184     28.0   \n                                                 2023-07-18 20:57:53.376184     28.0   \n                                                 2023-07-18 22:57:53.376184     28.0   \n                                                 2023-07-18 23:57:53.376184     28.0   \n\nqtuple                                                                             \\\nrows                                                                                \nidx                                                                             1   \nvehicle driver        episodestart               timestamp                          \nMP73    wang-cheng    2023-07-13 18:57:53.438034 2023-07-18 20:57:53.376184  29.0   \n                                                 2023-07-18 22:57:53.376184  29.0   \n        zheng-longfei 2023-07-11 18:57:53.438034 2023-07-18 19:57:53.376184  29.0   \n                                                 2023-07-18 21:57:53.376184  29.0   \n                                                 2023-07-18 23:57:53.376184  29.0   \nVB7     wang-cheng    2023-07-12 18:57:53.438034 2023-07-18 19:57:53.376184  29.0   \n                                                 2023-07-18 21:57:53.376184  29.0   \n                                                 2023-07-18 22:57:53.376184  29.0   \n                                                 2023-07-18 23:57:53.376184  29.0   \n                      2023-07-18 18:57:53.376184 2023-07-18 19:57:53.376184  29.0   \n                                                 2023-07-18 20:57:53.376184  29.0   \n                                                 2023-07-18 21:57:53.376184  29.0   \n                                                 2023-07-18 22:57:53.376184  29.0   \n                                                 2023-07-18 23:57:53.376184  29.0   \n        zheng-longfei 2023-07-16 18:57:53.438034 2023-07-18 19:57:53.376184  29.0   \n                                                 2023-07-18 20:57:53.376184  29.0   \n                                                 2023-07-18 22:57:53.376184  29.0   \n                                                 2023-07-18 23:57:53.376184  29.0   \n\nqtuple                                                                             \\\nrows                                                                                \nidx                                                                             2   \nvehicle driver        episodestart               timestamp                          \nMP73    wang-cheng    2023-07-13 18:57:53.438034 2023-07-18 20:57:53.376184  30.0   \n                                                 2023-07-18 22:57:53.376184  30.0   \n        zheng-longfei 2023-07-11 18:57:53.438034 2023-07-18 19:57:53.376184  30.0   \n                                                 2023-07-18 21:57:53.376184  30.0   \n                                                 2023-07-18 23:57:53.376184  30.0   \nVB7     wang-cheng    2023-07-12 18:57:53.438034 2023-07-18 19:57:53.376184  30.0   \n                                                 2023-07-18 21:57:53.376184  30.0   \n                                                 2023-07-18 22:57:53.376184  30.0   \n                                                 2023-07-18 23:57:53.376184  30.0   \n                      2023-07-18 18:57:53.376184 2023-07-18 19:57:53.376184  30.0   \n                                                 2023-07-18 20:57:53.376184  30.0   \n                                                 2023-07-18 21:57:53.376184  30.0   \n                                                 2023-07-18 22:57:53.376184  30.0   \n                                                 2023-07-18 23:57:53.376184  30.0   \n        zheng-longfei 2023-07-16 18:57:53.438034 2023-07-18 19:57:53.376184  30.0   \n                                                 2023-07-18 20:57:53.376184  30.0   \n                                                 2023-07-18 22:57:53.376184  30.0   \n                                                 2023-07-18 23:57:53.376184  30.0   \n\nqtuple                                                                             \nrows                                                                               \nidx                                                                             3  \nvehicle driver        episodestart               timestamp                         \nMP73    wang-cheng    2023-07-13 18:57:53.438034 2023-07-18 20:57:53.376184  31.0  \n                                                 2023-07-18 22:57:53.376184  31.0  \n        zheng-longfei 2023-07-11 18:57:53.438034 2023-07-18 19:57:53.376184  31.0  \n                                                 2023-07-18 21:57:53.376184  31.0  \n                                                 2023-07-18 23:57:53.376184  31.0  \nVB7     wang-cheng    2023-07-12 18:57:53.438034 2023-07-18 19:57:53.376184  31.0  \n                                                 2023-07-18 21:57:53.376184  31.0  \n                                                 2023-07-18 22:57:53.376184  31.0  \n                                                 2023-07-18 23:57:53.376184  31.0  \n                      2023-07-18 18:57:53.376184 2023-07-18 19:57:53.376184  31.0  \n                                                 2023-07-18 20:57:53.376184  31.0  \n                                                 2023-07-18 21:57:53.376184  31.0  \n                                                 2023-07-18 22:57:53.376184  31.0  \n                                                 2023-07-18 23:57:53.376184  31.0  \n        zheng-longfei 2023-07-16 18:57:53.438034 2023-07-18 19:57:53.376184  31.0  \n                                                 2023-07-18 20:57:53.376184  31.0  \n                                                 2023-07-18 22:57:53.376184  31.0  \n                                                 2023-07-18 23:57:53.376184  31.0  \n\n[18 rows x 60 columns]",
      "text/html": "<div>\n<style scoped>\n    .dataframe tbody tr th:only-of-type {\n        vertical-align: middle;\n    }\n\n    .dataframe tbody tr th {\n        vertical-align: top;\n    }\n\n    .dataframe thead tr th {\n        text-align: left;\n    }\n\n    .dataframe thead tr:last-of-type th {\n        text-align: right;\n    }\n</style>\n<table border=\"1\" class=\"dataframe\">\n  <thead>\n    <tr>\n      <th></th>\n      <th></th>\n      <th></th>\n      <th>qtuple</th>\n      <th colspan=\"10\" halign=\"left\">state</th>\n      <th>...</th>\n      <th colspan=\"10\" halign=\"left\">nstate</th>\n    </tr>\n    <tr>\n      <th></th>\n      <th></th>\n      <th></th>\n      <th>rows</th>\n      <th colspan=\"4\" halign=\"left\">brake</th>\n      <th colspan=\"4\" halign=\"left\">thrust</th>\n      <th colspan=\"2\" halign=\"left\">timestep</th>\n      <th>...</th>\n      <th colspan=\"2\" halign=\"left\">thrust</th>\n      <th colspan=\"4\" halign=\"left\">timestep</th>\n      <th colspan=\"4\" halign=\"left\">velocity</th>\n    </tr>\n    <tr>\n      <th></th>\n      <th></th>\n      <th></th>\n      <th>idx</th>\n      <th>0</th>\n      <th>1</th>\n      <th>2</th>\n      <th>3</th>\n      <th>0</th>\n      <th>1</th>\n      <th>2</th>\n      <th>3</th>\n      <th>0</th>\n      <th>1</th>\n      <th>...</th>\n      <th>2</th>\n      <th>3</th>\n      <th>0</th>\n      <th>1</th>\n      <th>2</th>\n      <th>3</th>\n      <th>0</th>\n      <th>1</th>\n      <th>2</th>\n      <th>3</th>\n    </tr>\n    <tr>\n      <th>vehicle</th>\n      <th>driver</th>\n      <th>episodestart</th>\n      <th>timestamp</th>\n      <th></th>\n      <th></th>\n      <th></th>\n      <th></th>\n      <th></th>\n      <th></th>\n      <th></th>\n      <th></th>\n      <th></th>\n      <th></th>\n      <th></th>\n      <th></th>\n      <th></th>\n      <th></th>\n      <th></th>\n      <th></th>\n      <th></th>\n      <th></th>\n      <th></th>\n      <th></th>\n      <th></th>\n    </tr>\n  </thead>\n  <tbody>\n    <tr>\n      <th rowspan=\"5\" valign=\"top\">MP73</th>\n      <th rowspan=\"2\" valign=\"top\">wang-cheng</th>\n      <th rowspan=\"2\" valign=\"top\">2023-07-13 18:57:53.438034</th>\n      <th>2023-07-18 20:57:53.376184</th>\n      <td>8.0</td>\n      <td>9.0</td>\n      <td>10.0</td>\n      <td>11.0</td>\n      <td>4.0</td>\n      <td>5.0</td>\n      <td>6.0</td>\n      <td>7.0</td>\n      <td>2023-07-18 18:57:53.376184</td>\n      <td>2023-07-18 18:57:53.396184</td>\n      <td>...</td>\n      <td>34.0</td>\n      <td>35.0</td>\n      <td>2023-07-18 18:57:58.376184</td>\n      <td>2023-07-18 18:57:58.396184</td>\n      <td>2023-07-18 18:57:58.416184</td>\n      <td>2023-07-18 18:57:58.436184</td>\n      <td>28.0</td>\n      <td>29.0</td>\n      <td>30.0</td>\n      <td>31.0</td>\n    </tr>\n    <tr>\n      <th>2023-07-18 22:57:53.376184</th>\n      <td>8.0</td>\n      <td>9.0</td>\n      <td>10.0</td>\n      <td>11.0</td>\n      <td>4.0</td>\n      <td>5.0</td>\n      <td>6.0</td>\n      <td>7.0</td>\n      <td>2023-07-18 18:57:53.376184</td>\n      <td>2023-07-18 18:57:53.396184</td>\n      <td>...</td>\n      <td>34.0</td>\n      <td>35.0</td>\n      <td>2023-07-18 18:57:58.376184</td>\n      <td>2023-07-18 18:57:58.396184</td>\n      <td>2023-07-18 18:57:58.416184</td>\n      <td>2023-07-18 18:57:58.436184</td>\n      <td>28.0</td>\n      <td>29.0</td>\n      <td>30.0</td>\n      <td>31.0</td>\n    </tr>\n    <tr>\n      <th rowspan=\"3\" valign=\"top\">zheng-longfei</th>\n      <th rowspan=\"3\" valign=\"top\">2023-07-11 18:57:53.438034</th>\n      <th>2023-07-18 19:57:53.376184</th>\n      <td>8.0</td>\n      <td>9.0</td>\n      <td>10.0</td>\n      <td>11.0</td>\n      <td>4.0</td>\n      <td>5.0</td>\n      <td>6.0</td>\n      <td>7.0</td>\n      <td>2023-07-18 18:57:53.376184</td>\n      <td>2023-07-18 18:57:53.396184</td>\n      <td>...</td>\n      <td>34.0</td>\n      <td>35.0</td>\n      <td>2023-07-18 18:57:58.376184</td>\n      <td>2023-07-18 18:57:58.396184</td>\n      <td>2023-07-18 18:57:58.416184</td>\n      <td>2023-07-18 18:57:58.436184</td>\n      <td>28.0</td>\n      <td>29.0</td>\n      <td>30.0</td>\n      <td>31.0</td>\n    </tr>\n    <tr>\n      <th>2023-07-18 21:57:53.376184</th>\n      <td>8.0</td>\n      <td>9.0</td>\n      <td>10.0</td>\n      <td>11.0</td>\n      <td>4.0</td>\n      <td>5.0</td>\n      <td>6.0</td>\n      <td>7.0</td>\n      <td>2023-07-18 18:57:53.376184</td>\n      <td>2023-07-18 18:57:53.396184</td>\n      <td>...</td>\n      <td>34.0</td>\n      <td>35.0</td>\n      <td>2023-07-18 18:57:58.376184</td>\n      <td>2023-07-18 18:57:58.396184</td>\n      <td>2023-07-18 18:57:58.416184</td>\n      <td>2023-07-18 18:57:58.436184</td>\n      <td>28.0</td>\n      <td>29.0</td>\n      <td>30.0</td>\n      <td>31.0</td>\n    </tr>\n    <tr>\n      <th>2023-07-18 23:57:53.376184</th>\n      <td>8.0</td>\n      <td>9.0</td>\n      <td>10.0</td>\n      <td>11.0</td>\n      <td>4.0</td>\n      <td>5.0</td>\n      <td>6.0</td>\n      <td>7.0</td>\n      <td>2023-07-18 18:57:53.376184</td>\n      <td>2023-07-18 18:57:53.396184</td>\n      <td>...</td>\n      <td>34.0</td>\n      <td>35.0</td>\n      <td>2023-07-18 18:57:58.376184</td>\n      <td>2023-07-18 18:57:58.396184</td>\n      <td>2023-07-18 18:57:58.416184</td>\n      <td>2023-07-18 18:57:58.436184</td>\n      <td>28.0</td>\n      <td>29.0</td>\n      <td>30.0</td>\n      <td>31.0</td>\n    </tr>\n    <tr>\n      <th rowspan=\"13\" valign=\"top\">VB7</th>\n      <th rowspan=\"9\" valign=\"top\">wang-cheng</th>\n      <th rowspan=\"4\" valign=\"top\">2023-07-12 18:57:53.438034</th>\n      <th>2023-07-18 19:57:53.376184</th>\n      <td>8.0</td>\n      <td>9.0</td>\n      <td>10.0</td>\n      <td>11.0</td>\n      <td>4.0</td>\n      <td>5.0</td>\n      <td>6.0</td>\n      <td>7.0</td>\n      <td>2023-07-18 18:57:53.376184</td>\n      <td>2023-07-18 18:57:53.396184</td>\n      <td>...</td>\n      <td>34.0</td>\n      <td>35.0</td>\n      <td>2023-07-18 18:57:58.376184</td>\n      <td>2023-07-18 18:57:58.396184</td>\n      <td>2023-07-18 18:57:58.416184</td>\n      <td>2023-07-18 18:57:58.436184</td>\n      <td>28.0</td>\n      <td>29.0</td>\n      <td>30.0</td>\n      <td>31.0</td>\n    </tr>\n    <tr>\n      <th>2023-07-18 21:57:53.376184</th>\n      <td>8.0</td>\n      <td>9.0</td>\n      <td>10.0</td>\n      <td>11.0</td>\n      <td>4.0</td>\n      <td>5.0</td>\n      <td>6.0</td>\n      <td>7.0</td>\n      <td>2023-07-18 18:57:53.376184</td>\n      <td>2023-07-18 18:57:53.396184</td>\n      <td>...</td>\n      <td>34.0</td>\n      <td>35.0</td>\n      <td>2023-07-18 18:57:58.376184</td>\n      <td>2023-07-18 18:57:58.396184</td>\n      <td>2023-07-18 18:57:58.416184</td>\n      <td>2023-07-18 18:57:58.436184</td>\n      <td>28.0</td>\n      <td>29.0</td>\n      <td>30.0</td>\n      <td>31.0</td>\n    </tr>\n    <tr>\n      <th>2023-07-18 22:57:53.376184</th>\n      <td>8.0</td>\n      <td>9.0</td>\n      <td>10.0</td>\n      <td>11.0</td>\n      <td>4.0</td>\n      <td>5.0</td>\n      <td>6.0</td>\n      <td>7.0</td>\n      <td>2023-07-18 18:57:53.376184</td>\n      <td>2023-07-18 18:57:53.396184</td>\n      <td>...</td>\n      <td>34.0</td>\n      <td>35.0</td>\n      <td>2023-07-18 18:57:58.376184</td>\n      <td>2023-07-18 18:57:58.396184</td>\n      <td>2023-07-18 18:57:58.416184</td>\n      <td>2023-07-18 18:57:58.436184</td>\n      <td>28.0</td>\n      <td>29.0</td>\n      <td>30.0</td>\n      <td>31.0</td>\n    </tr>\n    <tr>\n      <th>2023-07-18 23:57:53.376184</th>\n      <td>8.0</td>\n      <td>9.0</td>\n      <td>10.0</td>\n      <td>11.0</td>\n      <td>4.0</td>\n      <td>5.0</td>\n      <td>6.0</td>\n      <td>7.0</td>\n      <td>2023-07-18 18:57:53.376184</td>\n      <td>2023-07-18 18:57:53.396184</td>\n      <td>...</td>\n      <td>34.0</td>\n      <td>35.0</td>\n      <td>2023-07-18 18:57:58.376184</td>\n      <td>2023-07-18 18:57:58.396184</td>\n      <td>2023-07-18 18:57:58.416184</td>\n      <td>2023-07-18 18:57:58.436184</td>\n      <td>28.0</td>\n      <td>29.0</td>\n      <td>30.0</td>\n      <td>31.0</td>\n    </tr>\n    <tr>\n      <th rowspan=\"5\" valign=\"top\">2023-07-18 18:57:53.376184</th>\n      <th>2023-07-18 19:57:53.376184</th>\n      <td>8.0</td>\n      <td>9.0</td>\n      <td>10.0</td>\n      <td>11.0</td>\n      <td>4.0</td>\n      <td>5.0</td>\n      <td>6.0</td>\n      <td>7.0</td>\n      <td>2023-07-18 18:57:53.376184</td>\n      <td>2023-07-18 18:57:53.396184</td>\n      <td>...</td>\n      <td>34.0</td>\n      <td>35.0</td>\n      <td>2023-07-18 18:57:58.376184</td>\n      <td>2023-07-18 18:57:58.396184</td>\n      <td>2023-07-18 18:57:58.416184</td>\n      <td>2023-07-18 18:57:58.436184</td>\n      <td>28.0</td>\n      <td>29.0</td>\n      <td>30.0</td>\n      <td>31.0</td>\n    </tr>\n    <tr>\n      <th>2023-07-18 20:57:53.376184</th>\n      <td>8.0</td>\n      <td>9.0</td>\n      <td>10.0</td>\n      <td>11.0</td>\n      <td>4.0</td>\n      <td>5.0</td>\n      <td>6.0</td>\n      <td>7.0</td>\n      <td>2023-07-18 18:57:53.376184</td>\n      <td>2023-07-18 18:57:53.396184</td>\n      <td>...</td>\n      <td>34.0</td>\n      <td>35.0</td>\n      <td>2023-07-18 18:57:58.376184</td>\n      <td>2023-07-18 18:57:58.396184</td>\n      <td>2023-07-18 18:57:58.416184</td>\n      <td>2023-07-18 18:57:58.436184</td>\n      <td>28.0</td>\n      <td>29.0</td>\n      <td>30.0</td>\n      <td>31.0</td>\n    </tr>\n    <tr>\n      <th>2023-07-18 21:57:53.376184</th>\n      <td>8.0</td>\n      <td>9.0</td>\n      <td>10.0</td>\n      <td>11.0</td>\n      <td>4.0</td>\n      <td>5.0</td>\n      <td>6.0</td>\n      <td>7.0</td>\n      <td>2023-07-18 18:57:53.376184</td>\n      <td>2023-07-18 18:57:53.396184</td>\n      <td>...</td>\n      <td>34.0</td>\n      <td>35.0</td>\n      <td>2023-07-18 18:57:58.376184</td>\n      <td>2023-07-18 18:57:58.396184</td>\n      <td>2023-07-18 18:57:58.416184</td>\n      <td>2023-07-18 18:57:58.436184</td>\n      <td>28.0</td>\n      <td>29.0</td>\n      <td>30.0</td>\n      <td>31.0</td>\n    </tr>\n    <tr>\n      <th>2023-07-18 22:57:53.376184</th>\n      <td>8.0</td>\n      <td>9.0</td>\n      <td>10.0</td>\n      <td>11.0</td>\n      <td>4.0</td>\n      <td>5.0</td>\n      <td>6.0</td>\n      <td>7.0</td>\n      <td>2023-07-18 18:57:53.376184</td>\n      <td>2023-07-18 18:57:53.396184</td>\n      <td>...</td>\n      <td>34.0</td>\n      <td>35.0</td>\n      <td>2023-07-18 18:57:58.376184</td>\n      <td>2023-07-18 18:57:58.396184</td>\n      <td>2023-07-18 18:57:58.416184</td>\n      <td>2023-07-18 18:57:58.436184</td>\n      <td>28.0</td>\n      <td>29.0</td>\n      <td>30.0</td>\n      <td>31.0</td>\n    </tr>\n    <tr>\n      <th>2023-07-18 23:57:53.376184</th>\n      <td>8.0</td>\n      <td>9.0</td>\n      <td>10.0</td>\n      <td>11.0</td>\n      <td>4.0</td>\n      <td>5.0</td>\n      <td>6.0</td>\n      <td>7.0</td>\n      <td>2023-07-18 18:57:53.376184</td>\n      <td>2023-07-18 18:57:53.396184</td>\n      <td>...</td>\n      <td>34.0</td>\n      <td>35.0</td>\n      <td>2023-07-18 18:57:58.376184</td>\n      <td>2023-07-18 18:57:58.396184</td>\n      <td>2023-07-18 18:57:58.416184</td>\n      <td>2023-07-18 18:57:58.436184</td>\n      <td>28.0</td>\n      <td>29.0</td>\n      <td>30.0</td>\n      <td>31.0</td>\n    </tr>\n    <tr>\n      <th rowspan=\"4\" valign=\"top\">zheng-longfei</th>\n      <th rowspan=\"4\" valign=\"top\">2023-07-16 18:57:53.438034</th>\n      <th>2023-07-18 19:57:53.376184</th>\n      <td>8.0</td>\n      <td>9.0</td>\n      <td>10.0</td>\n      <td>11.0</td>\n      <td>4.0</td>\n      <td>5.0</td>\n      <td>6.0</td>\n      <td>7.0</td>\n      <td>2023-07-18 18:57:53.376184</td>\n      <td>2023-07-18 18:57:53.396184</td>\n      <td>...</td>\n      <td>34.0</td>\n      <td>35.0</td>\n      <td>2023-07-18 18:57:58.376184</td>\n      <td>2023-07-18 18:57:58.396184</td>\n      <td>2023-07-18 18:57:58.416184</td>\n      <td>2023-07-18 18:57:58.436184</td>\n      <td>28.0</td>\n      <td>29.0</td>\n      <td>30.0</td>\n      <td>31.0</td>\n    </tr>\n    <tr>\n      <th>2023-07-18 20:57:53.376184</th>\n      <td>8.0</td>\n      <td>9.0</td>\n      <td>10.0</td>\n      <td>11.0</td>\n      <td>4.0</td>\n      <td>5.0</td>\n      <td>6.0</td>\n      <td>7.0</td>\n      <td>2023-07-18 18:57:53.376184</td>\n      <td>2023-07-18 18:57:53.396184</td>\n      <td>...</td>\n      <td>34.0</td>\n      <td>35.0</td>\n      <td>2023-07-18 18:57:58.376184</td>\n      <td>2023-07-18 18:57:58.396184</td>\n      <td>2023-07-18 18:57:58.416184</td>\n      <td>2023-07-18 18:57:58.436184</td>\n      <td>28.0</td>\n      <td>29.0</td>\n      <td>30.0</td>\n      <td>31.0</td>\n    </tr>\n    <tr>\n      <th>2023-07-18 22:57:53.376184</th>\n      <td>8.0</td>\n      <td>9.0</td>\n      <td>10.0</td>\n      <td>11.0</td>\n      <td>4.0</td>\n      <td>5.0</td>\n      <td>6.0</td>\n      <td>7.0</td>\n      <td>2023-07-18 18:57:53.376184</td>\n      <td>2023-07-18 18:57:53.396184</td>\n      <td>...</td>\n      <td>34.0</td>\n      <td>35.0</td>\n      <td>2023-07-18 18:57:58.376184</td>\n      <td>2023-07-18 18:57:58.396184</td>\n      <td>2023-07-18 18:57:58.416184</td>\n      <td>2023-07-18 18:57:58.436184</td>\n      <td>28.0</td>\n      <td>29.0</td>\n      <td>30.0</td>\n      <td>31.0</td>\n    </tr>\n    <tr>\n      <th>2023-07-18 23:57:53.376184</th>\n      <td>8.0</td>\n      <td>9.0</td>\n      <td>10.0</td>\n      <td>11.0</td>\n      <td>4.0</td>\n      <td>5.0</td>\n      <td>6.0</td>\n      <td>7.0</td>\n      <td>2023-07-18 18:57:53.376184</td>\n      <td>2023-07-18 18:57:53.396184</td>\n      <td>...</td>\n      <td>34.0</td>\n      <td>35.0</td>\n      <td>2023-07-18 18:57:58.376184</td>\n      <td>2023-07-18 18:57:58.396184</td>\n      <td>2023-07-18 18:57:58.416184</td>\n      <td>2023-07-18 18:57:58.436184</td>\n      <td>28.0</td>\n      <td>29.0</td>\n      <td>30.0</td>\n      <td>31.0</td>\n    </tr>\n  </tbody>\n</table>\n<p>18 rows × 60 columns</p>\n</div>"
     },
     "execution_count": 6,
     "metadata": {},
     "output_type": "execute_result"
    }
   ],
   "source": [
    "ts_new = pd.to_datetime((datetime.now()))\n",
    "episodestart = ts_new - pd.Timedelta(2, 'd')\n",
    "\n",
    "dfs_episode0 = dfs_episode.copy()\n",
    "dfs_episode0.index = dfs_episode0.index.set_levels([episodestart], level='episodestart')\n",
    "dfs_episode0.index = dfs_episode0.index.set_levels(\n",
    "    [[trucks_by_id['VB7'].vid], [drivers_by_id['zheng-longfei'].pid]],\n",
    "    level=['vehicle', 'driver'],\n",
    "    verify_integrity=False,\n",
    ")\n",
    "ts_index = dfs_episode0.index.unique(level='timestamp')\n",
    "idx_num = len(ts_index)\n",
    "drop_num = np.random.randint(low=1, high=idx_num-1)\n",
    "ts_index_to_drop = np.random.choice(ts_index, drop_num,replace=False)\n",
    "dfs_episode0 =dfs_episode0.drop(index=ts_index_to_drop, level='timestamp')\n",
    "# srs_episode0 = dfs_episode0.stack(level=['qtuple', 'rows', 'idx'])\n",
    "\n",
    "dfs_episode1 = dfs_episode.copy()\n",
    "dfs_episode1.index = dfs_episode1.index.set_levels(\n",
    "    [episodestart - pd.Timedelta(3, 'd')], level='episodestart'\n",
    ")\n",
    "dfs_episode1.index = dfs_episode1.index.set_levels(\n",
    "    [[trucks_by_id['MP73'].vid], [drivers_by_id['wang-cheng'].pid]],\n",
    "    level=['vehicle', 'driver'],\n",
    "    verify_integrity=False,\n",
    ")\n",
    "ts_index = dfs_episode1.index.unique(level='timestamp')\n",
    "idx_num = len(ts_index)\n",
    "drop_num = np.random.randint(low=1, high=idx_num-1)\n",
    "ts_index_to_drop = np.random.choice(ts_index, drop_num,replace=False)\n",
    "dfs_episode1 =dfs_episode1.drop(index=ts_index_to_drop, level='timestamp')\n",
    "# srs_episode1 = dfs_episode1.stack(level=['qtuple', 'rows', 'idx'])\n",
    "\n",
    "dfs_episode2 = dfs_episode.copy()\n",
    "dfs_episode2.index = dfs_episode2.index.set_levels(\n",
    "    [episodestart - pd.Timedelta(4, 'd')], level='episodestart'\n",
    ")\n",
    "dfs_episode2.index = dfs_episode2.index.set_levels(\n",
    "    [[trucks_by_id['VB7'].vid], [drivers_by_id['wang-cheng'].pid]],\n",
    "    level=['vehicle', 'driver'],\n",
    "    verify_integrity=False,\n",
    ")\n",
    "ts_index = dfs_episode2.index.unique(level='timestamp')\n",
    "idx_num = len(ts_index)\n",
    "drop_num = np.random.randint(low=1, high=idx_num-1)\n",
    "ts_index_to_drop = np.random.choice(ts_index, drop_num,replace=False)\n",
    "dfs_episode2 =dfs_episode2.drop(index=ts_index_to_drop, level='timestamp')\n",
    "# srs_episode2 = dfs_episode2.stack(level=['qtuple', 'rows', 'idx'])\n",
    "\n",
    "dfs_episode3 = dfs_episode.copy()\n",
    "dfs_episode3.index = dfs_episode3.index.set_levels(\n",
    "    [episodestart - pd.Timedelta(5, 'd')], level='episodestart'\n",
    ")\n",
    "dfs_episode3.index = dfs_episode3.index.set_levels(\n",
    "    [[trucks_by_id['MP73'].vid], [drivers_by_id['zheng-longfei'].pid]],\n",
    "    level=['vehicle', 'driver'],\n",
    "    verify_integrity=False,\n",
    ")\n",
    "ts_index = dfs_episode3.index.unique(level='timestamp')\n",
    "idx_num = len(ts_index)\n",
    "drop_num = np.random.randint(low=1, high=idx_num-1)\n",
    "ts_index_to_drop = np.random.choice(ts_index, drop_num,replace=False)\n",
    "dfs_episode3 =dfs_episode3.drop(index=ts_index_to_drop, level='timestamp')\n",
    "# srs_episode3 = dfs_episode3.stack(level=['qtuple', 'rows', 'idx'])\n",
    "from functools import reduce\n",
    "\n",
    "episodes = [dfs_episode, dfs_episode0, dfs_episode1, dfs_episode2, dfs_episode3]\n",
    "try:\n",
    "    dfs_episode_all = reduce(\n",
    "        lambda left, right,: pd.concat([left, right], axis=0), episodes\n",
    "    )\n",
    "except Exception as e:\n",
    "    print(e)\n",
    "# dfs_episode_all.sort_index(inplace=True)\n",
    "# dfs_episode_all = dfs_episode_all.swaplevel(1, 0, axis=0)\n",
    "# dfs_episode_all = dfs_episode_all.swaplevel(1, 2, axis=0)\n",
    "dfs_episode_all.sort_index(inplace=True)\n",
    "dfs_episode_all = dfs_episode_all[['state', 'action', 'reward', 'nstate']]\n",
    "display('dfs_episode_all')\n",
    "# dfs_episode_all.index\n",
    "# dfs_episode_all.columns#\n",
    "#\n",
    "dfs_episode_all"
   ],
   "metadata": {
    "collapsed": false,
    "ExecuteTime": {
     "end_time": "2023-07-18T10:57:53.500986258Z",
     "start_time": "2023-07-18T10:57:53.451817915Z"
    }
   }
  },
  {
   "cell_type": "code",
   "execution_count": 7,
   "outputs": [
    {
     "data": {
      "text/plain": "qtuple                                                                   action  \\\nrows                                                                         r0   \nidx                                                                           0   \nvehicle driver     episodestart               timestamp                           \nVB7     wang-cheng 2023-07-18 18:57:53.376184 2023-07-18 19:57:53.376184   12.0   \n                                              2023-07-18 20:57:53.376184   12.0   \n                                              2023-07-18 21:57:53.376184   12.0   \n                                              2023-07-18 22:57:53.376184   12.0   \n                                              2023-07-18 23:57:53.376184   12.0   \n\nqtuple                                                                          \\\nrows                                                                             \nidx                                                                          1   \nvehicle driver     episodestart               timestamp                          \nVB7     wang-cheng 2023-07-18 18:57:53.376184 2023-07-18 19:57:53.376184  13.0   \n                                              2023-07-18 20:57:53.376184  13.0   \n                                              2023-07-18 21:57:53.376184  13.0   \n                                              2023-07-18 22:57:53.376184  13.0   \n                                              2023-07-18 23:57:53.376184  13.0   \n\nqtuple                                                                          \\\nrows                                                                             \nidx                                                                          2   \nvehicle driver     episodestart               timestamp                          \nVB7     wang-cheng 2023-07-18 18:57:53.376184 2023-07-18 19:57:53.376184  14.0   \n                                              2023-07-18 20:57:53.376184  14.0   \n                                              2023-07-18 21:57:53.376184  14.0   \n                                              2023-07-18 22:57:53.376184  14.0   \n                                              2023-07-18 23:57:53.376184  14.0   \n\nqtuple                                                                          \\\nrows                                                                             \nidx                                                                          3   \nvehicle driver     episodestart               timestamp                          \nVB7     wang-cheng 2023-07-18 18:57:53.376184 2023-07-18 19:57:53.376184  15.0   \n                                              2023-07-18 20:57:53.376184  15.0   \n                                              2023-07-18 21:57:53.376184  15.0   \n                                              2023-07-18 22:57:53.376184  15.0   \n                                              2023-07-18 23:57:53.376184  15.0   \n\nqtuple                                                                          \\\nrows                                                                             \nidx                                                                          4   \nvehicle driver     episodestart               timestamp                          \nVB7     wang-cheng 2023-07-18 18:57:53.376184 2023-07-18 19:57:53.376184  16.0   \n                                              2023-07-18 20:57:53.376184  16.0   \n                                              2023-07-18 21:57:53.376184  16.0   \n                                              2023-07-18 22:57:53.376184  16.0   \n                                              2023-07-18 23:57:53.376184  16.0   \n\nqtuple                                                                          \\\nrows                                                                        r1   \nidx                                                                          0   \nvehicle driver     episodestart               timestamp                          \nVB7     wang-cheng 2023-07-18 18:57:53.376184 2023-07-18 19:57:53.376184  17.0   \n                                              2023-07-18 20:57:53.376184  17.0   \n                                              2023-07-18 21:57:53.376184  17.0   \n                                              2023-07-18 22:57:53.376184  17.0   \n                                              2023-07-18 23:57:53.376184  17.0   \n\nqtuple                                                                          \\\nrows                                                                             \nidx                                                                          1   \nvehicle driver     episodestart               timestamp                          \nVB7     wang-cheng 2023-07-18 18:57:53.376184 2023-07-18 19:57:53.376184  18.0   \n                                              2023-07-18 20:57:53.376184  18.0   \n                                              2023-07-18 21:57:53.376184  18.0   \n                                              2023-07-18 22:57:53.376184  18.0   \n                                              2023-07-18 23:57:53.376184  18.0   \n\nqtuple                                                                          \\\nrows                                                                             \nidx                                                                          2   \nvehicle driver     episodestart               timestamp                          \nVB7     wang-cheng 2023-07-18 18:57:53.376184 2023-07-18 19:57:53.376184  19.0   \n                                              2023-07-18 20:57:53.376184  19.0   \n                                              2023-07-18 21:57:53.376184  19.0   \n                                              2023-07-18 22:57:53.376184  19.0   \n                                              2023-07-18 23:57:53.376184  19.0   \n\nqtuple                                                                          \\\nrows                                                                             \nidx                                                                          3   \nvehicle driver     episodestart               timestamp                          \nVB7     wang-cheng 2023-07-18 18:57:53.376184 2023-07-18 19:57:53.376184  20.0   \n                                              2023-07-18 20:57:53.376184  20.0   \n                                              2023-07-18 21:57:53.376184  20.0   \n                                              2023-07-18 22:57:53.376184  20.0   \n                                              2023-07-18 23:57:53.376184  20.0   \n\nqtuple                                                                          \\\nrows                                                                             \nidx                                                                          4   \nvehicle driver     episodestart               timestamp                          \nVB7     wang-cheng 2023-07-18 18:57:53.376184 2023-07-18 19:57:53.376184  21.0   \n                                              2023-07-18 20:57:53.376184  21.0   \n                                              2023-07-18 21:57:53.376184  21.0   \n                                              2023-07-18 22:57:53.376184  21.0   \n                                              2023-07-18 23:57:53.376184  21.0   \n\nqtuple                                                                    ...  \\\nrows                                                                      ...   \nidx                                                                       ...   \nvehicle driver     episodestart               timestamp                   ...   \nVB7     wang-cheng 2023-07-18 18:57:53.376184 2023-07-18 19:57:53.376184  ...   \n                                              2023-07-18 20:57:53.376184  ...   \n                                              2023-07-18 21:57:53.376184  ...   \n                                              2023-07-18 22:57:53.376184  ...   \n                                              2023-07-18 23:57:53.376184  ...   \n\nqtuple                                                                    state  \\\nrows                                                                     thrust   \nidx                                                                           2   \nvehicle driver     episodestart               timestamp                           \nVB7     wang-cheng 2023-07-18 18:57:53.376184 2023-07-18 19:57:53.376184    6.0   \n                                              2023-07-18 20:57:53.376184    6.0   \n                                              2023-07-18 21:57:53.376184    6.0   \n                                              2023-07-18 22:57:53.376184    6.0   \n                                              2023-07-18 23:57:53.376184    6.0   \n\nqtuple                                                                         \\\nrows                                                                            \nidx                                                                         3   \nvehicle driver     episodestart               timestamp                         \nVB7     wang-cheng 2023-07-18 18:57:53.376184 2023-07-18 19:57:53.376184  7.0   \n                                              2023-07-18 20:57:53.376184  7.0   \n                                              2023-07-18 21:57:53.376184  7.0   \n                                              2023-07-18 22:57:53.376184  7.0   \n                                              2023-07-18 23:57:53.376184  7.0   \n\nqtuple                                                                                               \\\nrows                                                                                       timestep   \nidx                                                                                               0   \nvehicle driver     episodestart               timestamp                                               \nVB7     wang-cheng 2023-07-18 18:57:53.376184 2023-07-18 19:57:53.376184 2023-07-18 18:57:53.376184   \n                                              2023-07-18 20:57:53.376184 2023-07-18 18:57:53.376184   \n                                              2023-07-18 21:57:53.376184 2023-07-18 18:57:53.376184   \n                                              2023-07-18 22:57:53.376184 2023-07-18 18:57:53.376184   \n                                              2023-07-18 23:57:53.376184 2023-07-18 18:57:53.376184   \n\nqtuple                                                                                               \\\nrows                                                                                                  \nidx                                                                                               1   \nvehicle driver     episodestart               timestamp                                               \nVB7     wang-cheng 2023-07-18 18:57:53.376184 2023-07-18 19:57:53.376184 2023-07-18 18:57:53.396184   \n                                              2023-07-18 20:57:53.376184 2023-07-18 18:57:53.396184   \n                                              2023-07-18 21:57:53.376184 2023-07-18 18:57:53.396184   \n                                              2023-07-18 22:57:53.376184 2023-07-18 18:57:53.396184   \n                                              2023-07-18 23:57:53.376184 2023-07-18 18:57:53.396184   \n\nqtuple                                                                                               \\\nrows                                                                                                  \nidx                                                                                               2   \nvehicle driver     episodestart               timestamp                                               \nVB7     wang-cheng 2023-07-18 18:57:53.376184 2023-07-18 19:57:53.376184 2023-07-18 18:57:53.416184   \n                                              2023-07-18 20:57:53.376184 2023-07-18 18:57:53.416184   \n                                              2023-07-18 21:57:53.376184 2023-07-18 18:57:53.416184   \n                                              2023-07-18 22:57:53.376184 2023-07-18 18:57:53.416184   \n                                              2023-07-18 23:57:53.376184 2023-07-18 18:57:53.416184   \n\nqtuple                                                                                               \\\nrows                                                                                                  \nidx                                                                                               3   \nvehicle driver     episodestart               timestamp                                               \nVB7     wang-cheng 2023-07-18 18:57:53.376184 2023-07-18 19:57:53.376184 2023-07-18 18:57:53.436184   \n                                              2023-07-18 20:57:53.376184 2023-07-18 18:57:53.436184   \n                                              2023-07-18 21:57:53.376184 2023-07-18 18:57:53.436184   \n                                              2023-07-18 22:57:53.376184 2023-07-18 18:57:53.436184   \n                                              2023-07-18 23:57:53.376184 2023-07-18 18:57:53.436184   \n\nqtuple                                                                             \\\nrows                                                                     velocity   \nidx                                                                             0   \nvehicle driver     episodestart               timestamp                             \nVB7     wang-cheng 2023-07-18 18:57:53.376184 2023-07-18 19:57:53.376184      0.0   \n                                              2023-07-18 20:57:53.376184      0.0   \n                                              2023-07-18 21:57:53.376184      0.0   \n                                              2023-07-18 22:57:53.376184      0.0   \n                                              2023-07-18 23:57:53.376184      0.0   \n\nqtuple                                                                         \\\nrows                                                                            \nidx                                                                         1   \nvehicle driver     episodestart               timestamp                         \nVB7     wang-cheng 2023-07-18 18:57:53.376184 2023-07-18 19:57:53.376184  1.0   \n                                              2023-07-18 20:57:53.376184  1.0   \n                                              2023-07-18 21:57:53.376184  1.0   \n                                              2023-07-18 22:57:53.376184  1.0   \n                                              2023-07-18 23:57:53.376184  1.0   \n\nqtuple                                                                         \\\nrows                                                                            \nidx                                                                         2   \nvehicle driver     episodestart               timestamp                         \nVB7     wang-cheng 2023-07-18 18:57:53.376184 2023-07-18 19:57:53.376184  2.0   \n                                              2023-07-18 20:57:53.376184  2.0   \n                                              2023-07-18 21:57:53.376184  2.0   \n                                              2023-07-18 22:57:53.376184  2.0   \n                                              2023-07-18 23:57:53.376184  2.0   \n\nqtuple                                                                         \nrows                                                                           \nidx                                                                         3  \nvehicle driver     episodestart               timestamp                        \nVB7     wang-cheng 2023-07-18 18:57:53.376184 2023-07-18 19:57:53.376184  3.0  \n                                              2023-07-18 20:57:53.376184  3.0  \n                                              2023-07-18 21:57:53.376184  3.0  \n                                              2023-07-18 22:57:53.376184  3.0  \n                                              2023-07-18 23:57:53.376184  3.0  \n\n[5 rows x 60 columns]",
      "text/html": "<div>\n<style scoped>\n    .dataframe tbody tr th:only-of-type {\n        vertical-align: middle;\n    }\n\n    .dataframe tbody tr th {\n        vertical-align: top;\n    }\n\n    .dataframe thead tr th {\n        text-align: left;\n    }\n\n    .dataframe thead tr:last-of-type th {\n        text-align: right;\n    }\n</style>\n<table border=\"1\" class=\"dataframe\">\n  <thead>\n    <tr>\n      <th></th>\n      <th></th>\n      <th></th>\n      <th>qtuple</th>\n      <th colspan=\"10\" halign=\"left\">action</th>\n      <th>...</th>\n      <th colspan=\"10\" halign=\"left\">state</th>\n    </tr>\n    <tr>\n      <th></th>\n      <th></th>\n      <th></th>\n      <th>rows</th>\n      <th colspan=\"5\" halign=\"left\">r0</th>\n      <th colspan=\"5\" halign=\"left\">r1</th>\n      <th>...</th>\n      <th colspan=\"2\" halign=\"left\">thrust</th>\n      <th colspan=\"4\" halign=\"left\">timestep</th>\n      <th colspan=\"4\" halign=\"left\">velocity</th>\n    </tr>\n    <tr>\n      <th></th>\n      <th></th>\n      <th></th>\n      <th>idx</th>\n      <th>0</th>\n      <th>1</th>\n      <th>2</th>\n      <th>3</th>\n      <th>4</th>\n      <th>0</th>\n      <th>1</th>\n      <th>2</th>\n      <th>3</th>\n      <th>4</th>\n      <th>...</th>\n      <th>2</th>\n      <th>3</th>\n      <th>0</th>\n      <th>1</th>\n      <th>2</th>\n      <th>3</th>\n      <th>0</th>\n      <th>1</th>\n      <th>2</th>\n      <th>3</th>\n    </tr>\n    <tr>\n      <th>vehicle</th>\n      <th>driver</th>\n      <th>episodestart</th>\n      <th>timestamp</th>\n      <th></th>\n      <th></th>\n      <th></th>\n      <th></th>\n      <th></th>\n      <th></th>\n      <th></th>\n      <th></th>\n      <th></th>\n      <th></th>\n      <th></th>\n      <th></th>\n      <th></th>\n      <th></th>\n      <th></th>\n      <th></th>\n      <th></th>\n      <th></th>\n      <th></th>\n      <th></th>\n      <th></th>\n    </tr>\n  </thead>\n  <tbody>\n    <tr>\n      <th rowspan=\"5\" valign=\"top\">VB7</th>\n      <th rowspan=\"5\" valign=\"top\">wang-cheng</th>\n      <th rowspan=\"5\" valign=\"top\">2023-07-18 18:57:53.376184</th>\n      <th>2023-07-18 19:57:53.376184</th>\n      <td>12.0</td>\n      <td>13.0</td>\n      <td>14.0</td>\n      <td>15.0</td>\n      <td>16.0</td>\n      <td>17.0</td>\n      <td>18.0</td>\n      <td>19.0</td>\n      <td>20.0</td>\n      <td>21.0</td>\n      <td>...</td>\n      <td>6.0</td>\n      <td>7.0</td>\n      <td>2023-07-18 18:57:53.376184</td>\n      <td>2023-07-18 18:57:53.396184</td>\n      <td>2023-07-18 18:57:53.416184</td>\n      <td>2023-07-18 18:57:53.436184</td>\n      <td>0.0</td>\n      <td>1.0</td>\n      <td>2.0</td>\n      <td>3.0</td>\n    </tr>\n    <tr>\n      <th>2023-07-18 20:57:53.376184</th>\n      <td>12.0</td>\n      <td>13.0</td>\n      <td>14.0</td>\n      <td>15.0</td>\n      <td>16.0</td>\n      <td>17.0</td>\n      <td>18.0</td>\n      <td>19.0</td>\n      <td>20.0</td>\n      <td>21.0</td>\n      <td>...</td>\n      <td>6.0</td>\n      <td>7.0</td>\n      <td>2023-07-18 18:57:53.376184</td>\n      <td>2023-07-18 18:57:53.396184</td>\n      <td>2023-07-18 18:57:53.416184</td>\n      <td>2023-07-18 18:57:53.436184</td>\n      <td>0.0</td>\n      <td>1.0</td>\n      <td>2.0</td>\n      <td>3.0</td>\n    </tr>\n    <tr>\n      <th>2023-07-18 21:57:53.376184</th>\n      <td>12.0</td>\n      <td>13.0</td>\n      <td>14.0</td>\n      <td>15.0</td>\n      <td>16.0</td>\n      <td>17.0</td>\n      <td>18.0</td>\n      <td>19.0</td>\n      <td>20.0</td>\n      <td>21.0</td>\n      <td>...</td>\n      <td>6.0</td>\n      <td>7.0</td>\n      <td>2023-07-18 18:57:53.376184</td>\n      <td>2023-07-18 18:57:53.396184</td>\n      <td>2023-07-18 18:57:53.416184</td>\n      <td>2023-07-18 18:57:53.436184</td>\n      <td>0.0</td>\n      <td>1.0</td>\n      <td>2.0</td>\n      <td>3.0</td>\n    </tr>\n    <tr>\n      <th>2023-07-18 22:57:53.376184</th>\n      <td>12.0</td>\n      <td>13.0</td>\n      <td>14.0</td>\n      <td>15.0</td>\n      <td>16.0</td>\n      <td>17.0</td>\n      <td>18.0</td>\n      <td>19.0</td>\n      <td>20.0</td>\n      <td>21.0</td>\n      <td>...</td>\n      <td>6.0</td>\n      <td>7.0</td>\n      <td>2023-07-18 18:57:53.376184</td>\n      <td>2023-07-18 18:57:53.396184</td>\n      <td>2023-07-18 18:57:53.416184</td>\n      <td>2023-07-18 18:57:53.436184</td>\n      <td>0.0</td>\n      <td>1.0</td>\n      <td>2.0</td>\n      <td>3.0</td>\n    </tr>\n    <tr>\n      <th>2023-07-18 23:57:53.376184</th>\n      <td>12.0</td>\n      <td>13.0</td>\n      <td>14.0</td>\n      <td>15.0</td>\n      <td>16.0</td>\n      <td>17.0</td>\n      <td>18.0</td>\n      <td>19.0</td>\n      <td>20.0</td>\n      <td>21.0</td>\n      <td>...</td>\n      <td>6.0</td>\n      <td>7.0</td>\n      <td>2023-07-18 18:57:53.376184</td>\n      <td>2023-07-18 18:57:53.396184</td>\n      <td>2023-07-18 18:57:53.416184</td>\n      <td>2023-07-18 18:57:53.436184</td>\n      <td>0.0</td>\n      <td>1.0</td>\n      <td>2.0</td>\n      <td>3.0</td>\n    </tr>\n  </tbody>\n</table>\n<p>5 rows × 60 columns</p>\n</div>"
     },
     "execution_count": 7,
     "metadata": {},
     "output_type": "execute_result"
    }
   ],
   "source": [
    "dfs_episode\n",
    "# episodes[0]"
   ],
   "metadata": {
    "collapsed": false,
    "ExecuteTime": {
     "end_time": "2023-07-18T10:57:53.517863103Z",
     "start_time": "2023-07-18T10:57:53.495294014Z"
    }
   }
  },
  {
   "cell_type": "code",
   "execution_count": 8,
   "id": "5d35874e",
   "metadata": {
    "ExecuteTime": {
     "end_time": "2023-07-18T10:59:34.210206025Z",
     "start_time": "2023-07-18T10:59:34.165457242Z"
    }
   },
   "outputs": [
    {
     "data": {
      "text/plain": "1689710273376184.0"
     },
     "execution_count": 8,
     "metadata": {},
     "output_type": "execute_result"
    },
    {
     "data": {
      "text/plain": "[{'vehicle': 'VB7',\n  'driver': 'wang-cheng',\n  'episodestart': 1689706673376184.0},\n {'vehicle': 'VB7',\n  'driver': 'zheng-longfei',\n  'episodestart': 1689533873438034.0},\n {'vehicle': 'MP73',\n  'driver': 'wang-cheng',\n  'episodestart': 1689274673438034.0},\n {'vehicle': 'VB7',\n  'driver': 'wang-cheng',\n  'episodestart': 1689188273438034.0},\n {'vehicle': 'MP73',\n  'driver': 'zheng-longfei',\n  'episodestart': 1689101873438034.0}]"
     },
     "execution_count": 8,
     "metadata": {},
     "output_type": "execute_result"
    }
   ],
   "source": [
    "from dataclasses import asdict\n",
    "indices = dfs_episode.index\n",
    "# ep_start = indices.get_level_values(level='episodestart')[0]\n",
    "indices_dict = [\n",
    "    {indices.names[i]: level for i, level in enumerate(levels)} for levels in indices\n",
    "]\n",
    "episode_meta = indices_dict[0].copy()\n",
    "episode_meta['episodestart'] = episode_meta['episodestart'].timestamp()*1e6\n",
    "episode_meta['timestamp'] = episode_meta['timestamp'].timestamp()*1e6\n",
    "try:\n",
    "    episode_meta.pop('timestamp')\n",
    "except KeyError:\n",
    "    print(f\"Key 'timestamp' not found\")\n",
    "# episode_meta\n",
    "\n",
    "# episodes_indices\n",
    "episodes_indices_dict = [\n",
    "    [{indices.names[i]: level for i, level in enumerate(levels)} for levels in df.index]\n",
    "      for df in episodes\n",
    "]\n",
    "episodes_meta_dict = [\n",
    "    indices[0].pop('timestamp')\n",
    "    for indices in episodes_indices_dict\n",
    "]\n",
    "\n",
    "\n",
    "# for i in episodes_meta_dict:\n",
    "#     i.pop('timestamp')\n",
    "episodes_meta_dict = [indices[0] for indices in episodes_indices_dict]\n",
    "\n",
    "for ep_mt in episodes_meta_dict:\n",
    "    ep_mt['episodestart'] = ep_mt['episodestart'].timestamp()*1e6\n",
    "episodes_meta_dict\n",
    "# for i in episodes_indices_dict:\n",
    "#     i\n",
    "\n",
    "# episodes_meta = [\n",
    "#     [\n",
    "#         [\n",
    "#             {df.index.names[i]: level } for i, level in enumerate(levels)\n",
    "#         ] for levels in df.index\n",
    "#     ] for df in episodes]\n",
    "# episodes_meta"
   ]
  },
  {
   "cell_type": "code",
   "execution_count": 18,
   "outputs": [
    {
     "data": {
      "text/plain": "{'vehicle': 'VB7', 'driver': 'wang-cheng', 'episodestart': 1689706673376184.0}"
     },
     "execution_count": 18,
     "metadata": {},
     "output_type": "execute_result"
    }
   ],
   "source": [
    "ind = indices_dict[0]\n",
    "# ind.pop('timestamp')\n",
    "ind['episodestart'] = ind['episodestart'].timestamp()*1e6\n",
    "ind"
   ],
   "metadata": {
    "collapsed": false,
    "ExecuteTime": {
     "end_time": "2023-07-18T11:03:20.639306285Z",
     "start_time": "2023-07-18T11:03:20.635029840Z"
    }
   }
  },
  {
   "cell_type": "code",
   "execution_count": 9,
   "id": "5bcf6cbc",
   "metadata": {
    "ExecuteTime": {
     "end_time": "2023-07-18T07:09:35.647262312Z",
     "start_time": "2023-07-18T07:09:35.421415477Z"
    }
   },
   "outputs": [
    {
     "data": {
      "text/plain": "[{'timestamp': 1689696575255785.0,\n  'action': {'r0': [12.0, 13.0, 14.0, 15.0, 16.0],\n   'r1': [17.0, 18.0, 19.0, 20.0, 21.0],\n   'r2': [22.0, 23.0, 24.0, 25.0, 26.0],\n   'speed': [40.0, 50.0, 60.0],\n   'throttle': [0.0, 0.25, 0.5, 0.75, 1.0],\n   'timestep': [1689692975355785.0, 1689692975375785.0, 1689692975395785.0]},\n  'nstate': {'brake': [36.0, 37.0, 38.0, 39.0],\n   'thrust': [32.0, 33.0, 34.0, 35.0],\n   'timestep': [1689692980255785.0,\n    1689692980275785.0,\n    1689692980295785.0,\n    1689692980315785.0],\n   'velocity': [28.0, 29.0, 30.0, 31.0]},\n  'reward': {'timestep': [1689692975355785.0], 'work': [27.0]},\n  'state': {'brake': [8.0, 9.0, 10.0, 11.0],\n   'thrust': [4.0, 5.0, 6.0, 7.0],\n   'timestep': [1689692975255785.0,\n    1689692975275785.0,\n    1689692975295785.0,\n    1689692975315785.0],\n   'velocity': [0.0, 1.0, 2.0, 3.0]}},\n {'timestamp': 1689700175255785.0,\n  'action': {'r0': [12.0, 13.0, 14.0, 15.0, 16.0],\n   'r1': [17.0, 18.0, 19.0, 20.0, 21.0],\n   'r2': [22.0, 23.0, 24.0, 25.0, 26.0],\n   'speed': [40.0, 50.0, 60.0],\n   'throttle': [0.0, 0.25, 0.5, 0.75, 1.0],\n   'timestep': [1689692975355785.0, 1689692975375785.0, 1689692975395785.0]},\n  'nstate': {'brake': [36.0, 37.0, 38.0, 39.0],\n   'thrust': [32.0, 33.0, 34.0, 35.0],\n   'timestep': [1689692980255785.0,\n    1689692980275785.0,\n    1689692980295785.0,\n    1689692980315785.0],\n   'velocity': [28.0, 29.0, 30.0, 31.0]},\n  'reward': {'timestep': [1689692975355785.0], 'work': [27.0]},\n  'state': {'brake': [8.0, 9.0, 10.0, 11.0],\n   'thrust': [4.0, 5.0, 6.0, 7.0],\n   'timestep': [1689692975255785.0,\n    1689692975275785.0,\n    1689692975295785.0,\n    1689692975315785.0],\n   'velocity': [0.0, 1.0, 2.0, 3.0]}},\n {'timestamp': 1689703775255785.0,\n  'action': {'r0': [12.0, 13.0, 14.0, 15.0, 16.0],\n   'r1': [17.0, 18.0, 19.0, 20.0, 21.0],\n   'r2': [22.0, 23.0, 24.0, 25.0, 26.0],\n   'speed': [40.0, 50.0, 60.0],\n   'throttle': [0.0, 0.25, 0.5, 0.75, 1.0],\n   'timestep': [1689692975355785.0, 1689692975375785.0, 1689692975395785.0]},\n  'nstate': {'brake': [36.0, 37.0, 38.0, 39.0],\n   'thrust': [32.0, 33.0, 34.0, 35.0],\n   'timestep': [1689692980255785.0,\n    1689692980275785.0,\n    1689692980295785.0,\n    1689692980315785.0],\n   'velocity': [28.0, 29.0, 30.0, 31.0]},\n  'reward': {'timestep': [1689692975355785.0], 'work': [27.0]},\n  'state': {'brake': [8.0, 9.0, 10.0, 11.0],\n   'thrust': [4.0, 5.0, 6.0, 7.0],\n   'timestep': [1689692975255785.0,\n    1689692975275785.0,\n    1689692975295785.0,\n    1689692975315785.0],\n   'velocity': [0.0, 1.0, 2.0, 3.0]}},\n {'timestamp': 1689707375255785.0,\n  'action': {'r0': [12.0, 13.0, 14.0, 15.0, 16.0],\n   'r1': [17.0, 18.0, 19.0, 20.0, 21.0],\n   'r2': [22.0, 23.0, 24.0, 25.0, 26.0],\n   'speed': [40.0, 50.0, 60.0],\n   'throttle': [0.0, 0.25, 0.5, 0.75, 1.0],\n   'timestep': [1689692975355785.0, 1689692975375785.0, 1689692975395785.0]},\n  'nstate': {'brake': [36.0, 37.0, 38.0, 39.0],\n   'thrust': [32.0, 33.0, 34.0, 35.0],\n   'timestep': [1689692980255785.0,\n    1689692980275785.0,\n    1689692980295785.0,\n    1689692980315785.0],\n   'velocity': [28.0, 29.0, 30.0, 31.0]},\n  'reward': {'timestep': [1689692975355785.0], 'work': [27.0]},\n  'state': {'brake': [8.0, 9.0, 10.0, 11.0],\n   'thrust': [4.0, 5.0, 6.0, 7.0],\n   'timestep': [1689692975255785.0,\n    1689692975275785.0,\n    1689692975295785.0,\n    1689692975315785.0],\n   'velocity': [0.0, 1.0, 2.0, 3.0]}},\n {'timestamp': 1689710975255785.0,\n  'action': {'r0': [12.0, 13.0, 14.0, 15.0, 16.0],\n   'r1': [17.0, 18.0, 19.0, 20.0, 21.0],\n   'r2': [22.0, 23.0, 24.0, 25.0, 26.0],\n   'speed': [40.0, 50.0, 60.0],\n   'throttle': [0.0, 0.25, 0.5, 0.75, 1.0],\n   'timestep': [1689692975355785.0, 1689692975375785.0, 1689692975395785.0]},\n  'nstate': {'brake': [36.0, 37.0, 38.0, 39.0],\n   'thrust': [32.0, 33.0, 34.0, 35.0],\n   'timestep': [1689692980255785.0,\n    1689692980275785.0,\n    1689692980295785.0,\n    1689692980315785.0],\n   'velocity': [28.0, 29.0, 30.0, 31.0]},\n  'reward': {'timestep': [1689692975355785.0], 'work': [27.0]},\n  'state': {'brake': [8.0, 9.0, 10.0, 11.0],\n   'thrust': [4.0, 5.0, 6.0, 7.0],\n   'timestep': [1689692975255785.0,\n    1689692975275785.0,\n    1689692975295785.0,\n    1689692975315785.0],\n   'velocity': [0.0, 1.0, 2.0, 3.0]}}]"
     },
     "execution_count": 9,
     "metadata": {},
     "output_type": "execute_result"
    }
   ],
   "source": [
    "from eos.data_io.struct import ObservationMeta, StateSpecs, StateUnitCodes, ActionSpecs\n",
    "from eos.utils.eos_pandas import ep_nest, df_to_ep_nested_dict, avro_ep_encoding\n",
    "from pydantic import schema_json_of, schema_of\n",
    "\n",
    "observation_meta = ObservationMeta(\n",
    "    state_specs=StateSpecs(\n",
    "        state_unit_codes=StateUnitCodes(\n",
    "            velocity_unit_code='kph',\n",
    "            thrust_unit_code='pct',\n",
    "            brake_unit_code='pct',\n",
    "        ),\n",
    "        unit_number=trucks_by_id['VB7'].cloud_unit_number,  # 4\n",
    "        unit_duration=trucks_by_id['VB7'].cloud_unit_duration,  # 1s\n",
    "        frequency=trucks_by_id['VB7'].cloud_signal_frequency,  # 50 hz\n",
    "    ),\n",
    "    action_specs=ActionSpecs(\n",
    "        action_unit_code='nm',\n",
    "        action_row_number=trucks_by_id['VB7'].torque_table_row_num_flash,\n",
    "        action_column_number=len(trucks_by_id['VB7'].pedal_scale),\n",
    "    ),\n",
    "    reward_specs={\n",
    "        'reward_unit': 'wh',\n",
    "    },\n",
    "    site=trucks_by_id['VB7'].site,\n",
    ")\n",
    "\n",
    "\n",
    "\n",
    "\n",
    "dict_nested = avro_ep_encoding(dfs_episode)\n",
    "dict_nested"
   ]
  },
  {
   "cell_type": "code",
   "execution_count": 10,
   "outputs": [
    {
     "data": {
      "text/plain": "{'episodestart': 1689692975255785.0,\n 'meta': {'episode_meta': {'vehicle': 'VB7',\n   'driver': 'wang-cheng',\n   'episodestart': 1689692975255785.0},\n  'observation_meta': {'state_specs': {'state_unit_codes': {'velocity_unit_code': 'kph',\n     'thrust_unit_code': 'pct',\n     'brake_unit_code': 'pct'},\n    'unit_number': 4,\n    'unit_duration': 1,\n    'frequency': 50},\n   'action_specs': {'action_unit_code': 'nm',\n    'action_row_number': 4,\n    'action_column_number': 17},\n   'reward_specs': {'reward_unit': 'wh'},\n   'site': 'anting'}},\n 'sequence': [{'timestamp': 1689696575255785.0,\n   'action': {'r0': [12.0, 13.0, 14.0, 15.0, 16.0],\n    'r1': [17.0, 18.0, 19.0, 20.0, 21.0],\n    'r2': [22.0, 23.0, 24.0, 25.0, 26.0],\n    'speed': [40.0, 50.0, 60.0],\n    'throttle': [0.0, 0.25, 0.5, 0.75, 1.0],\n    'timestep': [1689692975355785.0, 1689692975375785.0, 1689692975395785.0]},\n   'nstate': {'brake': [36.0, 37.0, 38.0, 39.0],\n    'thrust': [32.0, 33.0, 34.0, 35.0],\n    'timestep': [1689692980255785.0,\n     1689692980275785.0,\n     1689692980295785.0,\n     1689692980315785.0],\n    'velocity': [28.0, 29.0, 30.0, 31.0]},\n   'reward': {'timestep': [1689692975355785.0], 'work': [27.0]},\n   'state': {'brake': [8.0, 9.0, 10.0, 11.0],\n    'thrust': [4.0, 5.0, 6.0, 7.0],\n    'timestep': [1689692975255785.0,\n     1689692975275785.0,\n     1689692975295785.0,\n     1689692975315785.0],\n    'velocity': [0.0, 1.0, 2.0, 3.0]}},\n  {'timestamp': 1689700175255785.0,\n   'action': {'r0': [12.0, 13.0, 14.0, 15.0, 16.0],\n    'r1': [17.0, 18.0, 19.0, 20.0, 21.0],\n    'r2': [22.0, 23.0, 24.0, 25.0, 26.0],\n    'speed': [40.0, 50.0, 60.0],\n    'throttle': [0.0, 0.25, 0.5, 0.75, 1.0],\n    'timestep': [1689692975355785.0, 1689692975375785.0, 1689692975395785.0]},\n   'nstate': {'brake': [36.0, 37.0, 38.0, 39.0],\n    'thrust': [32.0, 33.0, 34.0, 35.0],\n    'timestep': [1689692980255785.0,\n     1689692980275785.0,\n     1689692980295785.0,\n     1689692980315785.0],\n    'velocity': [28.0, 29.0, 30.0, 31.0]},\n   'reward': {'timestep': [1689692975355785.0], 'work': [27.0]},\n   'state': {'brake': [8.0, 9.0, 10.0, 11.0],\n    'thrust': [4.0, 5.0, 6.0, 7.0],\n    'timestep': [1689692975255785.0,\n     1689692975275785.0,\n     1689692975295785.0,\n     1689692975315785.0],\n    'velocity': [0.0, 1.0, 2.0, 3.0]}},\n  {'timestamp': 1689703775255785.0,\n   'action': {'r0': [12.0, 13.0, 14.0, 15.0, 16.0],\n    'r1': [17.0, 18.0, 19.0, 20.0, 21.0],\n    'r2': [22.0, 23.0, 24.0, 25.0, 26.0],\n    'speed': [40.0, 50.0, 60.0],\n    'throttle': [0.0, 0.25, 0.5, 0.75, 1.0],\n    'timestep': [1689692975355785.0, 1689692975375785.0, 1689692975395785.0]},\n   'nstate': {'brake': [36.0, 37.0, 38.0, 39.0],\n    'thrust': [32.0, 33.0, 34.0, 35.0],\n    'timestep': [1689692980255785.0,\n     1689692980275785.0,\n     1689692980295785.0,\n     1689692980315785.0],\n    'velocity': [28.0, 29.0, 30.0, 31.0]},\n   'reward': {'timestep': [1689692975355785.0], 'work': [27.0]},\n   'state': {'brake': [8.0, 9.0, 10.0, 11.0],\n    'thrust': [4.0, 5.0, 6.0, 7.0],\n    'timestep': [1689692975255785.0,\n     1689692975275785.0,\n     1689692975295785.0,\n     1689692975315785.0],\n    'velocity': [0.0, 1.0, 2.0, 3.0]}},\n  {'timestamp': 1689707375255785.0,\n   'action': {'r0': [12.0, 13.0, 14.0, 15.0, 16.0],\n    'r1': [17.0, 18.0, 19.0, 20.0, 21.0],\n    'r2': [22.0, 23.0, 24.0, 25.0, 26.0],\n    'speed': [40.0, 50.0, 60.0],\n    'throttle': [0.0, 0.25, 0.5, 0.75, 1.0],\n    'timestep': [1689692975355785.0, 1689692975375785.0, 1689692975395785.0]},\n   'nstate': {'brake': [36.0, 37.0, 38.0, 39.0],\n    'thrust': [32.0, 33.0, 34.0, 35.0],\n    'timestep': [1689692980255785.0,\n     1689692980275785.0,\n     1689692980295785.0,\n     1689692980315785.0],\n    'velocity': [28.0, 29.0, 30.0, 31.0]},\n   'reward': {'timestep': [1689692975355785.0], 'work': [27.0]},\n   'state': {'brake': [8.0, 9.0, 10.0, 11.0],\n    'thrust': [4.0, 5.0, 6.0, 7.0],\n    'timestep': [1689692975255785.0,\n     1689692975275785.0,\n     1689692975295785.0,\n     1689692975315785.0],\n    'velocity': [0.0, 1.0, 2.0, 3.0]}},\n  {'timestamp': 1689710975255785.0,\n   'action': {'r0': [12.0, 13.0, 14.0, 15.0, 16.0],\n    'r1': [17.0, 18.0, 19.0, 20.0, 21.0],\n    'r2': [22.0, 23.0, 24.0, 25.0, 26.0],\n    'speed': [40.0, 50.0, 60.0],\n    'throttle': [0.0, 0.25, 0.5, 0.75, 1.0],\n    'timestep': [1689692975355785.0, 1689692975375785.0, 1689692975395785.0]},\n   'nstate': {'brake': [36.0, 37.0, 38.0, 39.0],\n    'thrust': [32.0, 33.0, 34.0, 35.0],\n    'timestep': [1689692980255785.0,\n     1689692980275785.0,\n     1689692980295785.0,\n     1689692980315785.0],\n    'velocity': [28.0, 29.0, 30.0, 31.0]},\n   'reward': {'timestep': [1689692975355785.0], 'work': [27.0]},\n   'state': {'brake': [8.0, 9.0, 10.0, 11.0],\n    'thrust': [4.0, 5.0, 6.0, 7.0],\n    'timestep': [1689692975255785.0,\n     1689692975275785.0,\n     1689692975295785.0,\n     1689692975315785.0],\n    'velocity': [0.0, 1.0, 2.0, 3.0]}}]}"
     },
     "execution_count": 10,
     "metadata": {},
     "output_type": "execute_result"
    }
   ],
   "source": [
    "dict_ep = {'episodestart': episode_meta['episodestart'],\n",
    "           'meta': {'episode_meta': episode_meta, 'observation_meta': observation_meta.dict()},\n",
    "           'sequence': dict_nested}\n",
    "dict_ep\n"
   ],
   "metadata": {
    "collapsed": false,
    "ExecuteTime": {
     "end_time": "2023-07-18T07:09:35.647499558Z",
     "start_time": "2023-07-18T07:09:35.421546694Z"
    }
   }
  },
  {
   "cell_type": "code",
   "execution_count": 11,
   "outputs": [
    {
     "data": {
      "text/plain": "[{'timestamp': 1689696575255785.0,\n  'action': {'r0': [12.0, 13.0, 14.0, 15.0, 16.0],\n   'r1': [17.0, 18.0, 19.0, 20.0, 21.0],\n   'r2': [22.0, 23.0, 24.0, 25.0, 26.0],\n   'speed': [40.0, 50.0, 60.0],\n   'throttle': [0.0, 0.25, 0.5, 0.75, 1.0],\n   'timestep': [1689692975355785.0, 1689692975375785.0, 1689692975395785.0]},\n  'nstate': {'brake': [36.0, 37.0, 38.0, 39.0],\n   'thrust': [32.0, 33.0, 34.0, 35.0],\n   'timestep': [1689692980255785.0,\n    1689692980275785.0,\n    1689692980295785.0,\n    1689692980315785.0],\n   'velocity': [28.0, 29.0, 30.0, 31.0]},\n  'reward': {'timestep': [1689692975355785.0], 'work': [27.0]},\n  'state': {'brake': [8.0, 9.0, 10.0, 11.0],\n   'thrust': [4.0, 5.0, 6.0, 7.0],\n   'timestep': [1689692975255785.0,\n    1689692975275785.0,\n    1689692975295785.0,\n    1689692975315785.0],\n   'velocity': [0.0, 1.0, 2.0, 3.0]}},\n {'timestamp': 1689700175255785.0,\n  'action': {'r0': [12.0, 13.0, 14.0, 15.0, 16.0],\n   'r1': [17.0, 18.0, 19.0, 20.0, 21.0],\n   'r2': [22.0, 23.0, 24.0, 25.0, 26.0],\n   'speed': [40.0, 50.0, 60.0],\n   'throttle': [0.0, 0.25, 0.5, 0.75, 1.0],\n   'timestep': [1689692975355785.0, 1689692975375785.0, 1689692975395785.0]},\n  'nstate': {'brake': [36.0, 37.0, 38.0, 39.0],\n   'thrust': [32.0, 33.0, 34.0, 35.0],\n   'timestep': [1689692980255785.0,\n    1689692980275785.0,\n    1689692980295785.0,\n    1689692980315785.0],\n   'velocity': [28.0, 29.0, 30.0, 31.0]},\n  'reward': {'timestep': [1689692975355785.0], 'work': [27.0]},\n  'state': {'brake': [8.0, 9.0, 10.0, 11.0],\n   'thrust': [4.0, 5.0, 6.0, 7.0],\n   'timestep': [1689692975255785.0,\n    1689692975275785.0,\n    1689692975295785.0,\n    1689692975315785.0],\n   'velocity': [0.0, 1.0, 2.0, 3.0]}},\n {'timestamp': 1689703775255785.0,\n  'action': {'r0': [12.0, 13.0, 14.0, 15.0, 16.0],\n   'r1': [17.0, 18.0, 19.0, 20.0, 21.0],\n   'r2': [22.0, 23.0, 24.0, 25.0, 26.0],\n   'speed': [40.0, 50.0, 60.0],\n   'throttle': [0.0, 0.25, 0.5, 0.75, 1.0],\n   'timestep': [1689692975355785.0, 1689692975375785.0, 1689692975395785.0]},\n  'nstate': {'brake': [36.0, 37.0, 38.0, 39.0],\n   'thrust': [32.0, 33.0, 34.0, 35.0],\n   'timestep': [1689692980255785.0,\n    1689692980275785.0,\n    1689692980295785.0,\n    1689692980315785.0],\n   'velocity': [28.0, 29.0, 30.0, 31.0]},\n  'reward': {'timestep': [1689692975355785.0], 'work': [27.0]},\n  'state': {'brake': [8.0, 9.0, 10.0, 11.0],\n   'thrust': [4.0, 5.0, 6.0, 7.0],\n   'timestep': [1689692975255785.0,\n    1689692975275785.0,\n    1689692975295785.0,\n    1689692975315785.0],\n   'velocity': [0.0, 1.0, 2.0, 3.0]}},\n {'timestamp': 1689707375255785.0,\n  'action': {'r0': [12.0, 13.0, 14.0, 15.0, 16.0],\n   'r1': [17.0, 18.0, 19.0, 20.0, 21.0],\n   'r2': [22.0, 23.0, 24.0, 25.0, 26.0],\n   'speed': [40.0, 50.0, 60.0],\n   'throttle': [0.0, 0.25, 0.5, 0.75, 1.0],\n   'timestep': [1689692975355785.0, 1689692975375785.0, 1689692975395785.0]},\n  'nstate': {'brake': [36.0, 37.0, 38.0, 39.0],\n   'thrust': [32.0, 33.0, 34.0, 35.0],\n   'timestep': [1689692980255785.0,\n    1689692980275785.0,\n    1689692980295785.0,\n    1689692980315785.0],\n   'velocity': [28.0, 29.0, 30.0, 31.0]},\n  'reward': {'timestep': [1689692975355785.0], 'work': [27.0]},\n  'state': {'brake': [8.0, 9.0, 10.0, 11.0],\n   'thrust': [4.0, 5.0, 6.0, 7.0],\n   'timestep': [1689692975255785.0,\n    1689692975275785.0,\n    1689692975295785.0,\n    1689692975315785.0],\n   'velocity': [0.0, 1.0, 2.0, 3.0]}},\n {'timestamp': 1689710975255785.0,\n  'action': {'r0': [12.0, 13.0, 14.0, 15.0, 16.0],\n   'r1': [17.0, 18.0, 19.0, 20.0, 21.0],\n   'r2': [22.0, 23.0, 24.0, 25.0, 26.0],\n   'speed': [40.0, 50.0, 60.0],\n   'throttle': [0.0, 0.25, 0.5, 0.75, 1.0],\n   'timestep': [1689692975355785.0, 1689692975375785.0, 1689692975395785.0]},\n  'nstate': {'brake': [36.0, 37.0, 38.0, 39.0],\n   'thrust': [32.0, 33.0, 34.0, 35.0],\n   'timestep': [1689692980255785.0,\n    1689692980275785.0,\n    1689692980295785.0,\n    1689692980315785.0],\n   'velocity': [28.0, 29.0, 30.0, 31.0]},\n  'reward': {'timestep': [1689692975355785.0], 'work': [27.0]},\n  'state': {'brake': [8.0, 9.0, 10.0, 11.0],\n   'thrust': [4.0, 5.0, 6.0, 7.0],\n   'timestep': [1689692975255785.0,\n    1689692975275785.0,\n    1689692975295785.0,\n    1689692975315785.0],\n   'velocity': [0.0, 1.0, 2.0, 3.0]}}]"
     },
     "execution_count": 11,
     "metadata": {},
     "output_type": "execute_result"
    }
   ],
   "source": [
    "\n",
    "episodes_dict_nested = [avro_ep_encoding(ep) for ep in episodes]\n",
    "episodes_dict_nested[0]"
   ],
   "metadata": {
    "collapsed": false,
    "ExecuteTime": {
     "end_time": "2023-07-18T07:09:45.491699068Z",
     "start_time": "2023-07-18T07:09:45.351451866Z"
    }
   }
  },
  {
   "cell_type": "code",
   "execution_count": 12,
   "outputs": [
    {
     "data": {
      "text/plain": "[{'ts': 1689696575255785.0,\n  'state': {'brake': [8.0, 9.0, 10.0, 11.0],\n   'thrust': [4.0, 5.0, 6.0, 7.0],\n   'timestep': [1689692975255785.0,\n    1689692975275785.0,\n    1689692975295785.0,\n    1689692975315785.0],\n   'velocity': [0.0, 1.0, 2.0, 3.0]}},\n {'ts': 1689700175255785.0,\n  'state': {'brake': [8.0, 9.0, 10.0, 11.0],\n   'thrust': [4.0, 5.0, 6.0, 7.0],\n   'timestep': [1689692975255785.0,\n    1689692975275785.0,\n    1689692975295785.0,\n    1689692975315785.0],\n   'velocity': [0.0, 1.0, 2.0, 3.0]}},\n {'ts': 1689703775255785.0,\n  'state': {'brake': [8.0, 9.0, 10.0, 11.0],\n   'thrust': [4.0, 5.0, 6.0, 7.0],\n   'timestep': [1689692975255785.0,\n    1689692975275785.0,\n    1689692975295785.0,\n    1689692975315785.0],\n   'velocity': [0.0, 1.0, 2.0, 3.0]}},\n {'ts': 1689707375255785.0,\n  'state': {'brake': [8.0, 9.0, 10.0, 11.0],\n   'thrust': [4.0, 5.0, 6.0, 7.0],\n   'timestep': [1689692975255785.0,\n    1689692975275785.0,\n    1689692975295785.0,\n    1689692975315785.0],\n   'velocity': [0.0, 1.0, 2.0, 3.0]}},\n {'ts': 1689710975255785.0,\n  'state': {'brake': [8.0, 9.0, 10.0, 11.0],\n   'thrust': [4.0, 5.0, 6.0, 7.0],\n   'timestep': [1689692975255785.0,\n    1689692975275785.0,\n    1689692975295785.0,\n    1689692975315785.0],\n   'velocity': [0.0, 1.0, 2.0, 3.0]}}]"
     },
     "execution_count": 12,
     "metadata": {},
     "output_type": "execute_result"
    }
   ],
   "source": [
    "dict_nested_states = [[step['state'] for step in ep] for ep in episodes_dict_nested]\n",
    "dict_nested_nstates = [[step['nstate'] for step in ep] for ep in episodes_dict_nested]\n",
    "dict_nested_rewards = [[step['reward'] for step in ep] for ep in episodes_dict_nested]\n",
    "dict_nested_actions = [[step['action'] for step in ep] for ep in episodes_dict_nested]\n",
    "dict_nested_timestamps = [[step['timestamp'] for step in ep] for ep in episodes_dict_nested]\n",
    "\n",
    "arr_states = [\n",
    "    [\n",
    "        {'ts': ts,\n",
    "        'state': state_arr[i]\n",
    "        }\n",
    "     for i, ts in enumerate(ts_arr)] for (ts_arr, state_arr) in zip(dict_nested_timestamps, dict_nested_states)]\n",
    "arr_states[0]\n",
    "# dict_nested_timestamps[0]"
   ],
   "metadata": {
    "collapsed": false,
    "ExecuteTime": {
     "end_time": "2023-07-18T07:09:57.192535152Z",
     "start_time": "2023-07-18T07:09:57.165935522Z"
    }
   }
  },
  {
   "cell_type": "code",
   "execution_count": 23,
   "id": "d962acd4",
   "metadata": {
    "ExecuteTime": {
     "end_time": "2023-07-18T07:44:32.089382142Z",
     "start_time": "2023-07-18T07:44:31.930877908Z"
    }
   },
   "outputs": [
    {
     "name": "stdout",
     "output_type": "stream",
     "text": [
      "{\n",
      "  \"type\": \"record\",\n",
      "  \"name\": \"episode\",\n",
      "  \"doc\": \"episode data with a timestamp, meta description and an array of episode steps\",\n",
      "  \"fields\": [\n",
      "    {\n",
      "      \"type\": \"long\",\n",
      "      \"name\": \"episodestart\",\n",
      "      \"logicalType\": \"timestamp-micros\"\n",
      "    },\n",
      "    {\n",
      "      \"name\": \"meta\",\n",
      "      \"type\": {\n",
      "        \"type\": \"record\",\n",
      "        \"name\": \"meta_\",\n",
      "        \"fields\": [\n",
      "          {\n",
      "            \"name\": \"episode_meta\",\n",
      "            \"type\": {\n",
      "              \"type\": \"record\",\n",
      "              \"name\": \"episode_meta_\",\n",
      "              \"fields\": [\n",
      "                {\n",
      "                  \"name\": \"vehicle\",\n",
      "                  \"type\": \"string\"\n",
      "                },\n",
      "                {\n",
      "                  \"name\": \"driver\",\n",
      "                  \"type\": \"string\"\n",
      "                },\n",
      "                {\n",
      "                  \"name\": \"episodestart\",\n",
      "                  \"type\": \"long\",\n",
      "                  \"logicalType\": \"timestamp-micros\"\n",
      "                }\n",
      "              ]\n",
      "            }\n",
      "          },\n",
      "          {\n",
      "            \"name\": \"observation_meta\",\n",
      "            \"type\": {\n",
      "              \"type\": \"record\",\n",
      "              \"name\": \"observation_meta_\",\n",
      "              \"fields\": [\n",
      "                {\n",
      "                  \"name\": \"state_specs\",\n",
      "                  \"type\": {\n",
      "                    \"type\": \"record\",\n",
      "                    \"name\": \"state_specs_\",\n",
      "                    \"fields\": [\n",
      "                      {\n",
      "                        \"name\": \"state_unit_codes\",\n",
      "                        \"type\": {\n",
      "                          \"type\": \"record\",\n",
      "                          \"name\": \"state_unit_codes_\",\n",
      "                          \"fields\": [\n",
      "                            {\n",
      "                              \"name\": \"velocity_unit_code\",\n",
      "                              \"type\": \"string\"\n",
      "                            },\n",
      "                            {\n",
      "                              \"name\": \"thrust_unit_code\",\n",
      "                              \"type\": \"string\"\n",
      "                            },\n",
      "                            {\n",
      "                              \"name\": \"brake_unit_code\",\n",
      "                              \"type\": \"string\"\n",
      "                            }\n",
      "                          ]\n",
      "                        }\n",
      "                      },\n",
      "                      {\n",
      "                        \"name\": \"unit_number\",\n",
      "                        \"type\": \"int\"\n",
      "                      },\n",
      "                      {\n",
      "                        \"name\": \"unit_duration\",\n",
      "                        \"type\": \"int\"\n",
      "                      },\n",
      "                      {\n",
      "                        \"name\": \"frequency\",\n",
      "                        \"type\": \"int\"\n",
      "                      }\n",
      "                    ]\n",
      "                  }\n",
      "                },\n",
      "                {\n",
      "                  \"name\": \"action_specs\",\n",
      "                  \"type\": {\n",
      "                    \"type\": \"record\",\n",
      "                    \"name\": \"action_specs_\",\n",
      "                    \"fields\": [\n",
      "                      {\n",
      "                        \"name\": \"action_unit_code\",\n",
      "                        \"type\": \"string\"\n",
      "                      },\n",
      "                      {\n",
      "                        \"name\": \"action_row_number\",\n",
      "                        \"type\": \"int\"\n",
      "                      },\n",
      "                      {\n",
      "                        \"name\": \"action_column_number\",\n",
      "                        \"type\": \"int\"\n",
      "                      }\n",
      "                    ]\n",
      "                  }\n",
      "                },\n",
      "                {\n",
      "                  \"name\": \"reward_specs\",\n",
      "                  \"type\": {\n",
      "                    \"type\": \"record\",\n",
      "                    \"name\": \"reward_specs_\",\n",
      "                    \"fields\": [\n",
      "                      {\n",
      "                        \"name\": \"reward_unit\",\n",
      "                        \"type\": \"string\"\n",
      "                      }\n",
      "                    ]\n",
      "                  }\n",
      "                },\n",
      "                {\n",
      "                  \"name\": \"site\",\n",
      "                  \"type\": \"string\"\n",
      "                }\n",
      "              ]\n",
      "            }\n",
      "          }\n",
      "        ]\n",
      "      }\n",
      "    },\n",
      "    {\n",
      "      \"name\": \"sequence\",\n",
      "      \"type\": {\n",
      "        \"type\": \"array\",\n",
      "        \"items\": {\n",
      "          \"name\": \"step\",\n",
      "          \"type\": \"record\",\n",
      "          \"fields\": [\n",
      "            {\n",
      "              \"type\": \"long\",\n",
      "              \"name\": \"timestamp\",\n",
      "              \"logicalType\": \"timestamp-micros\"\n",
      "            },\n",
      "            {\n",
      "              \"name\": \"state\",\n",
      "              \"type\": {\n",
      "                \"type\": \"record\",\n",
      "                \"name\": \"state_\",\n",
      "                \"fields\": [\n",
      "                  {\n",
      "                    \"name\": \"velocity\",\n",
      "                    \"type\": {\n",
      "                      \"type\": \"array\",\n",
      "                      \"items\": \"float\"\n",
      "                    }\n",
      "                  },\n",
      "                  {\n",
      "                    \"name\": \"thrust\",\n",
      "                    \"type\": {\n",
      "                      \"type\": \"array\",\n",
      "                      \"items\": \"float\"\n",
      "                    }\n",
      "                  },\n",
      "                  {\n",
      "                    \"name\": \"brake\",\n",
      "                    \"type\": {\n",
      "                      \"type\": \"array\",\n",
      "                      \"items\": \"float\"\n",
      "                    }\n",
      "                  },\n",
      "                  {\n",
      "                    \"name\": \"timestep\",\n",
      "                    \"type\": {\n",
      "                      \"type\": \"array\",\n",
      "                      \"items\": {\n",
      "                        \"type\": \"long\",\n",
      "                        \"logicalType\": \"timestamp-micros\"\n",
      "                      }\n",
      "                    }\n",
      "                  }\n",
      "                ]\n",
      "              }\n",
      "            },\n",
      "            {\n",
      "              \"name\": \"action\",\n",
      "              \"type\": {\n",
      "                \"type\": \"record\",\n",
      "                \"name\": \"action_\",\n",
      "                \"fields\": [\n",
      "                  {\n",
      "                    \"name\": \"r0\",\n",
      "                    \"type\": {\n",
      "                      \"type\": \"array\",\n",
      "                      \"items\": \"float\"\n",
      "                    }\n",
      "                  },\n",
      "                  {\n",
      "                    \"name\": \"r1\",\n",
      "                    \"type\": {\n",
      "                      \"type\": \"array\",\n",
      "                      \"items\": \"float\"\n",
      "                    }\n",
      "                  },\n",
      "                  {\n",
      "                    \"name\": \"r2\",\n",
      "                    \"type\": {\n",
      "                      \"type\": \"array\",\n",
      "                      \"items\": \"float\"\n",
      "                    }\n",
      "                  },\n",
      "                  {\n",
      "                    \"name\": \"speed\",\n",
      "                    \"type\": {\n",
      "                      \"type\": \"array\",\n",
      "                      \"items\": \"float\"\n",
      "                    }\n",
      "                  },\n",
      "                  {\n",
      "                    \"name\": \"throttle\",\n",
      "                    \"type\": {\n",
      "                      \"type\": \"array\",\n",
      "                      \"items\": \"float\"\n",
      "                    }\n",
      "                  },\n",
      "                  {\n",
      "                    \"name\": \"timestep\",\n",
      "                    \"type\": {\n",
      "                      \"type\": \"array\",\n",
      "                      \"items\": {\n",
      "                        \"type\": \"long\",\n",
      "                        \"logicalType\": \"timestamp-micros\"\n",
      "                      }\n",
      "                    }\n",
      "                  }\n",
      "                ]\n",
      "              }\n",
      "            },\n",
      "            {\n",
      "              \"name\": \"reward\",\n",
      "              \"type\": {\n",
      "                \"type\": \"record\",\n",
      "                \"name\": \"reward_\",\n",
      "                \"fields\": [\n",
      "                  {\n",
      "                    \"name\": \"work\",\n",
      "                    \"type\": {\n",
      "                      \"type\": \"array\",\n",
      "                      \"items\": \"float\"\n",
      "                    }\n",
      "                  },\n",
      "                  {\n",
      "                    \"name\": \"timestep\",\n",
      "                    \"type\": {\n",
      "                      \"type\": \"array\",\n",
      "                      \"items\": {\n",
      "                        \"type\": \"long\",\n",
      "                        \"logicalType\": \"timestamp-micros\"\n",
      "                      }\n",
      "                    }\n",
      "                  }\n",
      "                ]\n",
      "              }\n",
      "            },\n",
      "            {\n",
      "              \"name\": \"nstate\",\n",
      "              \"type\": {\n",
      "                \"type\": \"record\",\n",
      "                \"name\": \"nstate_\",\n",
      "                \"fields\": [\n",
      "                  {\n",
      "                    \"name\": \"velocity\",\n",
      "                    \"type\": {\n",
      "                      \"type\": \"array\",\n",
      "                      \"items\": \"float\"\n",
      "                    }\n",
      "                  },\n",
      "                  {\n",
      "                    \"name\": \"thrust\",\n",
      "                    \"type\": {\n",
      "                      \"type\": \"array\",\n",
      "                      \"items\": \"float\"\n",
      "                    }\n",
      "                  },\n",
      "                  {\n",
      "                    \"name\": \"brake\",\n",
      "                    \"type\": {\n",
      "                      \"type\": \"array\",\n",
      "                      \"items\": \"float\"\n",
      "                    }\n",
      "                  },\n",
      "                  {\n",
      "                    \"name\": \"timestep\",\n",
      "                    \"type\": {\n",
      "                      \"type\": \"array\",\n",
      "                      \"items\": {\n",
      "                        \"type\": \"long\",\n",
      "                        \"logicalType\": \"timestamp-micros\"\n",
      "                      }\n",
      "                    }\n",
      "                  }\n",
      "                ]\n",
      "              }\n",
      "            }\n",
      "          ]\n",
      "        }\n",
      "      }\n",
      "    }\n",
      "  ]\n",
      "}\n"
     ]
    }
   ],
   "source": [
    "import fastavro\n",
    "import json\n",
    "\n",
    "state_unit_fields_schema = [{'name': 'velocity_unit_code', 'type': 'string'},\n",
    "                            {'name': 'thrust_unit_code', 'type': 'string'},\n",
    "                            {'name': 'brake_unit_code', 'type': 'string'}]\n",
    "state_specs_fields_schema = [{'name': 'state_unit_codes',\n",
    "                            'type': {\n",
    "                                'type': 'record',\n",
    "                                'name': 'state_unit_codes_',\n",
    "                                'fields': state_unit_fields_schema\n",
    "                                },\n",
    "                            },    \n",
    "                            {'name': 'unit_number', 'type': 'int'},\n",
    "                            {'name': 'unit_duration', 'type': 'int'},\n",
    "                            {'name': 'frequency', 'type': 'int'}]\n",
    "action_specs_fields_schema = [{'name': 'action_unit_code', 'type': 'string'},\n",
    "                            {'name': 'action_row_number', 'type': 'int'},\n",
    "                            {'name': 'action_column_number', 'type': 'int'}]\n",
    "reward_specs_fields_schema = [{'name': 'reward_unit', 'type': 'string'}]\n",
    "\n",
    "observation_meta_fields_schema = [\n",
    "    {\n",
    "        'name': 'state_specs',\n",
    "        'type': {\n",
    "            'type': 'record',\n",
    "            'name': 'state_sp',\n",
    "            'fields': state_specs_fields_schema,\n",
    "        }\n",
    "    },\n",
    "    {\n",
    "        'name': 'action_specs',\n",
    "        'type': {\n",
    "            'type': 'record',\n",
    "            'name': 'action_sp',\n",
    "            'fields': action_specs_fields_schema,\n",
    "        }\n",
    "    },\n",
    "    {\n",
    "        'name': 'reward_specs',\n",
    "        'type': {\n",
    "            'type': 'record',\n",
    "            'name': 'reward_sp',\n",
    "            'fields': reward_specs_fields_schema,\n",
    "        }\n",
    "    },\n",
    "    {\n",
    "        'name': 'site',\n",
    "        'type': 'string'\n",
    "    }\n",
    "]\n",
    "episode_meta_fields_schema = [{'name': 'vehicle', 'type': 'string'},\n",
    "                                {'name': 'driver', 'type': 'string'},\n",
    "                                {'name': 'episodestart', 'type': 'long', 'logicalType': 'timestamp-micros'}]\n",
    "observation_meta_fields_schema = [\n",
    "                                {\n",
    "                                    'name': 'state_specs',\n",
    "                                    'type': {\n",
    "                                        'type': 'record',\n",
    "                                        'name': 'state_specs_',\n",
    "                                        'fields': state_specs_fields_schema\n",
    "                                    }\n",
    "                                },\n",
    "                                {\n",
    "                                    'name': 'action_specs',\n",
    "                                    'type': {\n",
    "                                        'type': 'record',\n",
    "                                        'name': 'action_specs_',\n",
    "                                        'fields': action_specs_fields_schema\n",
    "                                    }\n",
    "                                },\n",
    "                                {\n",
    "                                    'name': 'reward_specs',\n",
    "                                    'type': {\n",
    "                                        'type': 'record',\n",
    "                                        'name': 'reward_specs_',\n",
    "                                        'fields': reward_specs_fields_schema\n",
    "                                    }\n",
    "                                },\n",
    "                                {\n",
    "                                    'name': 'site',\n",
    "                                    'type': 'string'\n",
    "                                },\n",
    "                            ] \n",
    "\n",
    "state_fields_schema = [\n",
    "    {\n",
    "        'name': 'velocity',\n",
    "        'type': {\n",
    "            'type': 'array',\n",
    "            'items': 'float'\n",
    "        }\n",
    "    },\n",
    "    {\n",
    "        'name': 'thrust', \n",
    "        'type': {\n",
    "            'type': 'array',\n",
    "            'items': 'float'\n",
    "            }\n",
    "    },\n",
    "    {\n",
    "        'name': 'brake', \n",
    "        'type': {\n",
    "            'type': 'array',\n",
    "            'items': 'float'\n",
    "        }\n",
    "    },\n",
    "    {\n",
    "        'name': 'timestep', \n",
    "        'type': {\n",
    "            'type': 'array',\n",
    "            'items': {'type': 'long', 'logicalType': 'timestamp-micros'}\n",
    "        }\n",
    "    },\n",
    "]\n",
    "\n",
    "torque_table_row_names = ['r0', 'r1', 'r2']\n",
    "action_fields_schema = [{'name': r, 'type': { 'type': 'array', 'items': 'float'}}  for r in torque_table_row_names]\n",
    "action_fields_schema += [{'name': 'speed', 'type': { 'type': 'array', 'items': 'float'}},\n",
    "                        {'name': 'throttle', 'type': { 'type': 'array', 'items': 'float'}},\n",
    "                        {'name': 'timestep', 'type': { 'type': 'array', 'items': {'type': 'long', 'logicalType': 'timestamp-micros'}}}]\n",
    "\n",
    "\n",
    "reward_fields_schema = [\n",
    "    {\n",
    "        'name': 'work',\n",
    "        'type': {\n",
    "            'type': 'array',\n",
    "            'items': 'float'\n",
    "            }\n",
    "    },\n",
    "    {\n",
    "        'name': 'timestep',\n",
    "        'type': {\n",
    "            'type': 'array',\n",
    "            'items': {'type': 'long', 'logicalType': 'timestamp-micros'}\n",
    "        }\n",
    "    }\n",
    "]\n",
    "\n",
    "\n",
    "\n",
    "episode_array_fields_schema = [   \n",
    "    {\n",
    "        'type': 'long', \n",
    "        'name': 'timestamp',\n",
    "        'logicalType': 'timestamp-micros',\n",
    "    },\n",
    "    {\n",
    "        'name': 'state',\n",
    "        'type': {\n",
    "            'type': 'record',\n",
    "            'name': 'state_',\n",
    "            'fields': state_fields_schema,\n",
    "        },\n",
    "    },\n",
    "    {\n",
    "        'name': 'action',\n",
    "        'type': {\n",
    "            'type': 'record',\n",
    "            'name': 'action_',\n",
    "            'fields': action_fields_schema,\n",
    "        },\n",
    "    },\n",
    "    {\n",
    "        'name':'reward',\n",
    "        'type': {\n",
    "            'type': 'record',\n",
    "            'name': 'reward_',\n",
    "            'fields': reward_fields_schema,\n",
    "        }\n",
    "    },\n",
    "    {\n",
    "        'name': 'nstate',\n",
    "        'type': {\n",
    "            'type': 'record',\n",
    "            'name': 'nstate_',\n",
    "            'fields': state_fields_schema,\n",
    "        },\n",
    "    },\n",
    "]\n",
    "\n",
    "schema_episode = {\n",
    "    'type': 'record',\n",
    "    'name': 'episode',\n",
    "    'doc': 'episode data with a timestamp, meta description and an array of episode steps',\n",
    "    'fields': [\n",
    "        {\n",
    "            'type': 'long',\n",
    "            'name': 'episodestart',\n",
    "            'logicalType': 'timestamp-micros'\n",
    "        },\n",
    "        {\n",
    "            'name': 'meta',\n",
    "            'type': {\n",
    "                'type': 'record', 'name': 'meta_', 'fields': \n",
    "                [\n",
    "                    {\n",
    "                        'name': 'episode_meta',\n",
    "                        'type': {\n",
    "                            'type': 'record',\n",
    "                            'name': 'episode_meta_',\n",
    "                            'fields': episode_meta_fields_schema,\n",
    "                        }\n",
    "                    },\n",
    "                    {\n",
    "                        'name': 'observation_meta',\n",
    "                        'type': {\n",
    "                            'type': 'record',\n",
    "                            'name': 'observation_meta_',\n",
    "                            'fields': observation_meta_fields_schema\n",
    "                        }\n",
    "                    }\n",
    "                ]\n",
    "            }\n",
    "        },\n",
    "        {\n",
    "            'name': 'sequence',\n",
    "            'type': {\n",
    "                'type': 'array', \n",
    "                'items': {\n",
    "                    'name': 'step',  # not used in constructing the episode observation array data\n",
    "                    'type': 'record',\n",
    "                    'fields': episode_array_fields_schema,\n",
    "                }\n",
    "            }\n",
    "        }\n",
    "    ]\n",
    "}\n",
    "\n",
    "parsed_schema_episode = fastavro.schema.parse_schema(schema_episode)\n",
    "print(json.dumps(schema_episode, indent=2))\n"
   ]
  },
  {
   "cell_type": "code",
   "execution_count": 16,
   "id": "79b0c42a",
   "metadata": {
    "ExecuteTime": {
     "end_time": "2023-07-18T07:26:22.617751562Z",
     "start_time": "2023-07-18T07:26:22.507665568Z"
    }
   },
   "outputs": [
    {
     "data": {
      "text/plain": "'/home/n/devel/anting_remote/eos/data'"
     },
     "execution_count": 16,
     "metadata": {},
     "output_type": "execute_result"
    }
   ],
   "source": [
    "import os\n",
    "from eos import proj_root\n",
    "os.chdir(proj_root / 'data')\n",
    "os.getcwd()"
   ]
  },
  {
   "cell_type": "code",
   "execution_count": 14,
   "id": "18f3b983",
   "metadata": {
    "collapsed": true,
    "jupyter": {
     "outputs_hidden": true
    },
    "ExecuteTime": {
     "end_time": "2023-07-18T06:36:16.800670163Z",
     "start_time": "2023-07-18T06:36:16.577402424Z"
    }
   },
   "outputs": [],
   "source": [
    "# import dask\n",
    "# import dask.bag as db\n",
    "# b_ep = db.from_sequence([dict_ep])  # turn one single record to a list, bag create only from sequence\n",
    "# rec = b_ep.take(1)\n",
    "# type(rec[0])\n",
    "# # b_ep.to_textfiles('*.json.gz')\n",
    "# b_ep.to_avro('bag_ep.*.avro', schema=schema_episode)"
   ]
  },
  {
   "cell_type": "code",
   "execution_count": 15,
   "id": "6a5bc505",
   "metadata": {
    "collapsed": true,
    "jupyter": {
     "outputs_hidden": true
    },
    "ExecuteTime": {
     "end_time": "2023-07-18T06:36:16.800762093Z",
     "start_time": "2023-07-18T06:36:16.577483332Z"
    }
   },
   "outputs": [],
   "source": [
    "# os.getcwd()\n",
    "# from fastavro import writer, reader, parse_schema\n",
    "#\n",
    "# with open('bag_ep3.avro', 'wb') as out:\n",
    "# \twriter(out, schema_episode, rec)\n",
    "#\n",
    "# with open('bag_ep3.avro', 'rb') as fo:\n",
    "# \tfor record in reader(fo):\n",
    "# \t\tprint(record)"
   ]
  },
  {
   "cell_type": "code",
   "execution_count": 16,
   "id": "874ce538",
   "metadata": {
    "ExecuteTime": {
     "end_time": "2023-07-18T06:36:16.800896475Z",
     "start_time": "2023-07-18T06:36:16.577542818Z"
    }
   },
   "outputs": [
    {
     "name": "stdout",
     "output_type": "stream",
     "text": [
      "{'station': '011990-99999', 'time': 1433269388, 'velocity': [0.0, 1.0], 'brake': [0.0, 1.0]}\n",
      "{'station': '011990-99999', 'time': 1433270389, 'velocity': [22.0, 1.0], 'brake': [0.0, 1.0]}\n",
      "{'station': '011990-99999', 'time': 1433273379, 'velocity': [-11.0, 1.0], 'brake': [0.0, 1.0]}\n",
      "{'station': '012650-99999', 'time': 1433275478, 'velocity': [111.0, 1.0], 'brake': [0.0, 1.0]}\n"
     ]
    }
   ],
   "source": [
    "schema = {\n",
    "    'doc': 'A episode reading.',\n",
    "    'name': 'episode',\n",
    "    'namespace': 'test',\n",
    "    'type': 'record',\n",
    "    'fields': [\n",
    "        {'name': 'station', 'type': 'string'},\n",
    "        {'name': 'time', 'type': 'long'},\n",
    "        {'name': 'velocity', 'type':\n",
    "             {\n",
    "                'type': 'array',\n",
    "                'items': 'float'\n",
    "             }\n",
    "        },\n",
    "        {'name': 'brake', 'type':\n",
    "                {\n",
    "                    'type': 'array',\n",
    "                    'items': 'float'\n",
    "                }\n",
    "            }\n",
    "    ]\n",
    "}\n",
    "\n",
    "parsed_schema = parse_schema(schema)\n",
    "\n",
    "\n",
    "# 'records' can be an iterable (including generator)\n",
    "records = [\n",
    "    {u'station': u'011990-99999', u'velocity': [0,1], u'brake': [0,1], u'time': 1433269388},\n",
    "    {u'station': u'011990-99999', u'velocity': [22,1],u'brake': [0,1], u'time': 1433270389},\n",
    "    {u'station': u'011990-99999', u'velocity': [-11,1],u'brake': [0,1], u'time': 1433273379},\n",
    "    {u'station': u'012650-99999', u'velocity': [111,1],u'brake': [0,1], u'time': 1433275478},\n",
    "]\n",
    "\n",
    "# Writing\n",
    "with open('episode1.avro', 'wb') as out:\n",
    "    writer(out, parsed_schema, records)\n",
    "\n",
    "# Reading\n",
    "with open('episode1.avro', 'rb') as fo:\n",
    "    for record in reader(fo):\n",
    "        print(record)"
   ]
  },
  {
   "cell_type": "code",
   "execution_count": 17,
   "outputs": [
    {
     "data": {
      "text/plain": "[{'brake': [8.0, 9.0, 10.0, 11.0],\n  'thrust': [4.0, 5.0, 6.0, 7.0],\n  'timestep': [1689690976329897.0,\n   1689690976349897.0,\n   1689690976369897.0,\n   1689690976389897.0],\n  'velocity': [0.0, 1.0, 2.0, 3.0]},\n {'brake': [8.0, 9.0, 10.0, 11.0],\n  'thrust': [4.0, 5.0, 6.0, 7.0],\n  'timestep': [1689690976329897.0,\n   1689690976349897.0,\n   1689690976369897.0,\n   1689690976389897.0],\n  'velocity': [0.0, 1.0, 2.0, 3.0]},\n {'brake': [8.0, 9.0, 10.0, 11.0],\n  'thrust': [4.0, 5.0, 6.0, 7.0],\n  'timestep': [1689690976329897.0,\n   1689690976349897.0,\n   1689690976369897.0,\n   1689690976389897.0],\n  'velocity': [0.0, 1.0, 2.0, 3.0]},\n {'brake': [8.0, 9.0, 10.0, 11.0],\n  'thrust': [4.0, 5.0, 6.0, 7.0],\n  'timestep': [1689690976329897.0,\n   1689690976349897.0,\n   1689690976369897.0,\n   1689690976389897.0],\n  'velocity': [0.0, 1.0, 2.0, 3.0]},\n {'brake': [8.0, 9.0, 10.0, 11.0],\n  'thrust': [4.0, 5.0, 6.0, 7.0],\n  'timestep': [1689690976329897.0,\n   1689690976349897.0,\n   1689690976369897.0,\n   1689690976389897.0],\n  'velocity': [0.0, 1.0, 2.0, 3.0]}]"
     },
     "execution_count": 17,
     "metadata": {},
     "output_type": "execute_result"
    }
   ],
   "source": [
    "\n",
    "state_dict1 =  [dict_ep['sequence'][i]['observation']['state'] for i in range(5)]\n",
    "state_dict1\n",
    "#\n",
    "\n"
   ],
   "metadata": {
    "collapsed": false,
    "ExecuteTime": {
     "end_time": "2023-07-18T06:36:16.801052559Z",
     "start_time": "2023-07-18T06:36:16.577612273Z"
    }
   }
  },
  {
   "cell_type": "code",
   "execution_count": 18,
   "outputs": [
    {
     "data": {
      "text/plain": "[{'episodestart': 1689694576329897.0,\n  'meta': {'episode_meta': {'vehicle': 'VB7',\n    'driver': 'wang-cheng',\n    'episodestart': 1689690976329897.0},\n   'observation_meta': {'state_specs': {'state_unit_codes': {'velocity_unit_code': 'kph',\n      'thrust_unit_code': 'pct',\n      'brake_unit_code': 'pct'},\n     'unit_number': 4,\n     'unit_duration': 1,\n     'frequency': 50},\n    'action_specs': {'action_unit_code': 'nm',\n     'action_row_number': 4,\n     'action_column_number': 17},\n    'reward_specs': {'reward_unit': 'wh'},\n    'site': 'anting'}},\n  'sequence': {'state': {'brake': [8.0, 9.0, 10.0, 11.0],\n    'thrust': [4.0, 5.0, 6.0, 7.0],\n    'timestep': [1689690976329897.0,\n     1689690976349897.0,\n     1689690976369897.0,\n     1689690976389897.0],\n    'velocity': [0.0, 1.0, 2.0, 3.0]}},\n  'time': 1433269388},\n {'episodestart': 1689698176329897.0,\n  'meta': {'episode_meta': {'vehicle': 'VB7',\n    'driver': 'wang-cheng',\n    'episodestart': 1689690976329897.0},\n   'observation_meta': {'state_specs': {'state_unit_codes': {'velocity_unit_code': 'kph',\n      'thrust_unit_code': 'pct',\n      'brake_unit_code': 'pct'},\n     'unit_number': 4,\n     'unit_duration': 1,\n     'frequency': 50},\n    'action_specs': {'action_unit_code': 'nm',\n     'action_row_number': 4,\n     'action_column_number': 17},\n    'reward_specs': {'reward_unit': 'wh'},\n    'site': 'anting'}},\n  'sequence': {'state': {'brake': [8.0, 9.0, 10.0, 11.0],\n    'thrust': [4.0, 5.0, 6.0, 7.0],\n    'timestep': [1689690976329897.0,\n     1689690976349897.0,\n     1689690976369897.0,\n     1689690976389897.0],\n    'velocity': [0.0, 1.0, 2.0, 3.0]}},\n  'time': 1433270389},\n {'episodestart': 1689701776329897.0,\n  'meta': {'episode_meta': {'vehicle': 'VB7',\n    'driver': 'wang-cheng',\n    'episodestart': 1689690976329897.0},\n   'observation_meta': {'state_specs': {'state_unit_codes': {'velocity_unit_code': 'kph',\n      'thrust_unit_code': 'pct',\n      'brake_unit_code': 'pct'},\n     'unit_number': 4,\n     'unit_duration': 1,\n     'frequency': 50},\n    'action_specs': {'action_unit_code': 'nm',\n     'action_row_number': 4,\n     'action_column_number': 17},\n    'reward_specs': {'reward_unit': 'wh'},\n    'site': 'anting'}},\n  'sequence': {'state': {'brake': [8.0, 9.0, 10.0, 11.0],\n    'thrust': [4.0, 5.0, 6.0, 7.0],\n    'timestep': [1689690976329897.0,\n     1689690976349897.0,\n     1689690976369897.0,\n     1689690976389897.0],\n    'velocity': [0.0, 1.0, 2.0, 3.0]}},\n  'time': 1433273379},\n {'episodestart': 1689705376329897.0,\n  'meta': {'episode_meta': {'vehicle': 'VB7',\n    'driver': 'wang-cheng',\n    'episodestart': 1689690976329897.0},\n   'observation_meta': {'state_specs': {'state_unit_codes': {'velocity_unit_code': 'kph',\n      'thrust_unit_code': 'pct',\n      'brake_unit_code': 'pct'},\n     'unit_number': 4,\n     'unit_duration': 1,\n     'frequency': 50},\n    'action_specs': {'action_unit_code': 'nm',\n     'action_row_number': 4,\n     'action_column_number': 17},\n    'reward_specs': {'reward_unit': 'wh'},\n    'site': 'anting'}},\n  'sequence': {'state': {'brake': [8.0, 9.0, 10.0, 11.0],\n    'thrust': [4.0, 5.0, 6.0, 7.0],\n    'timestep': [1689690976329897.0,\n     1689690976349897.0,\n     1689690976369897.0,\n     1689690976389897.0],\n    'velocity': [0.0, 1.0, 2.0, 3.0]}},\n  'time': 1433275478}]"
     },
     "execution_count": 18,
     "metadata": {},
     "output_type": "execute_result"
    }
   ],
   "source": [
    "\n",
    "\n",
    "\n",
    "# 'records' can be an iterable (including generator)\n",
    "# records0 = [\n",
    "#     {u'station': u'011990-99999', u'state': state_dict1[0], u'time': 1433269388},\n",
    "#     {u'station': u'011990-99999', u'state': state_dict1[1],  u'time': 1433270389},\n",
    "#     {u'station': u'011990-99999', u'state': state_dict1[2], u'time': 1433273379},\n",
    "#     {u'station': u'012650-99999', u'state': state_dict1[3], u'time': 1433275478},\n",
    "# ]\n",
    "# records0\n",
    "#\n",
    "# # 'records' can be an iterable (including generator)\n",
    "# records1 = [\n",
    "#     {u'station': u'011990-99999', u'state': {'velocity': state_dict1 [0]['velocity'],'thrust': state_dict1 [0]['thrust'],'brake': state_dict1 [0]['brake'],'timestep': state_dict1 [0]['timestep']}, u'time': 1433269388},\n",
    "#     {u'station': u'011990-99999', u'state': {'velocity': state_dict1 [1]['velocity'],'thrust': state_dict1 [1]['thrust'],'brake': state_dict1 [1]['brake'],'timestep': state_dict1 [1]['timestep'] },  u'time': 1433270389},\n",
    "#     {u'station': u'011990-99999', u'state': {'velocity': state_dict1 [2]['velocity'],'thrust': state_dict1 [2]['thrust'],'brake': state_dict1 [2]['brake'],'timestep': state_dict1 [2]['timestep'] },  u'time': 1433273379},\n",
    "#     {u'station': u'012650-99999', u'state': {'velocity': state_dict1 [3]['velocity'],'thrust': state_dict1 [3]['thrust'],'brake': state_dict1 [3]['brake'],'timestep': state_dict1 [3]['timestep'] },  u'time': 1433275478},\n",
    "# ]\n",
    "# # records1\n",
    "#\n",
    "# records2 = [\n",
    "#     {u'timestamp': dict_ep['episode'][0]['episodestep']['timestamp'], u'observation': {'state': state_dict1[0]}, u'time': 1433269388},\n",
    "#     {u'timestamp': dict_ep['episode'][1]['episodestep']['timestamp'], u'observation': {'state': state_dict1[1]},  u'time': 1433270389},\n",
    "#     {u'timestamp': dict_ep['episode'][2]['episodestep']['timestamp'], u'observation': {'state': state_dict1[2]},  u'time': 1433273379},\n",
    "#     {u'timestamp': dict_ep['episode'][3]['episodestep']['timestamp'], u'observation': {'state': state_dict1[3]},  u'time': 1433275478},\n",
    "# ]\n",
    "# # records2\n",
    "records3 = [\n",
    "    {u'episodestart': dict_ep['sequence'][0]['timestamp'], u'meta': {'episode_meta': episode_meta, 'observation_meta': observation_meta.dict()},u'sequence': {'state': state_dict1[0]}, u'time': 1433269388},\n",
    "    {u'episodestart': dict_ep['sequence'][1]['timestamp'], u'meta': {'episode_meta': episode_meta, 'observation_meta': observation_meta.dict()},u'sequence': {'state': state_dict1[1]},  u'time': 1433270389},\n",
    "    {u'episodestart': dict_ep['sequence'][2]['timestamp'], u'meta': {'episode_meta': episode_meta, 'observation_meta': observation_meta.dict()},u'sequence': {'state': state_dict1[2]},  u'time': 1433273379},\n",
    "    {u'episodestart': dict_ep['sequence'][3]['timestamp'], u'meta': {'episode_meta': episode_meta, 'observation_meta': observation_meta.dict()},u'sequence': {'state': state_dict1[3]},  u'time': 1433275478},\n",
    "]\n",
    "records3\n",
    "# dict_nested_state = [dict_ep['episode'][i]['episodestep']['observation']['state'] for i in range(4)]\n",
    "records4 = [\n",
    "    {u'episodestart': episodes_indices_dict[0]['episodestart'],\n",
    "     u'meta': {'episode_meta': episode_meta, 'observation_meta': observation_meta.dict()},\n",
    "     u'sequence': arr_states[0]},\n",
    "    {u'episodestart': episodes_indices_dict[1]['episodestart'],\n",
    "     u'meta': {'episode_meta': episode_meta, 'observation_meta': observation_meta.dict()},\n",
    "     u'sequence':  arr_states[1]},\n",
    "    {u'episodestart': episodes_indices_dict[2]['episodestart'],\n",
    "     u'meta': {'episode_meta': episode_meta, 'observation_meta': observation_meta.dict()},\n",
    "     u'sequence':  arr_states[2]},\n",
    "    {u'episodestart': episodes_indices_dict[3]['episodestart'],\n",
    "     u'meta': {'episode_meta': episode_meta, 'observation_meta': observation_meta.dict()},\n",
    "     u'sequence':arr_states[3]},\n",
    "    {u'episodestart': episodes_indices_dict[4]['episodestart'],\n",
    "     u'meta': {'episode_meta': episode_meta, 'observation_meta': observation_meta.dict()},\n",
    "     u'sequence':  arr_states[4]},\n",
    "]\n",
    "# records4[2]\n",
    "\n",
    "records5 = [\n",
    "    {u'episodestart': episodes_indices_dict[0]['episodestart'],\n",
    "     u'sequence': dict_nested_timestamps[0]},\n",
    "    {u'episodestart': episodes_indices_dict[1]['episodestart'],\n",
    "     u'sequence':   dict_nested_timestamps[1]},\n",
    "    {u'episodestart': episodes_indices_dict[2]['episodestart'],\n",
    "     u'sequence':   dict_nested_timestamps[2]},\n",
    "    {u'episodestart': episodes_indices_dict[3]['episodestart'],\n",
    "     u'sequence': dict_nested_timestamps[3]},\n",
    "    {u'episodestart': episodes_indices_dict[4]['episodestart'],\n",
    "     u'sequence':   dict_nested_timestamps[4]},\n",
    "]\n",
    "# records5[2]\n"
   ],
   "metadata": {
    "collapsed": false,
    "ExecuteTime": {
     "end_time": "2023-07-18T06:36:16.801262138Z",
     "start_time": "2023-07-18T06:36:16.577758098Z"
    }
   }
  },
  {
   "cell_type": "code",
   "execution_count": 19,
   "outputs": [
    {
     "data": {
      "text/plain": "[{'episodestart': 1689694576329897.0,\n  'meta': {'episode_meta': {'vehicle': 'VB7',\n    'driver': 'wang-cheng',\n    'episodestart': 1689690976329897.0},\n   'observation_meta': {'state_specs': {'state_unit_codes': {'velocity_unit_code': 'kph',\n      'thrust_unit_code': 'pct',\n      'brake_unit_code': 'pct'},\n     'unit_number': 4,\n     'unit_duration': 1,\n     'frequency': 50},\n    'action_specs': {'action_unit_code': 'nm',\n     'action_row_number': 4,\n     'action_column_number': 17},\n    'reward_specs': {'reward_unit': 'wh'},\n    'site': 'anting'}},\n  'sequence': {'ts': 1689694576329897.0,\n   'state': {'brake': [8.0, 9.0, 10.0, 11.0],\n    'thrust': [4.0, 5.0, 6.0, 7.0],\n    'timestep': [1689690976329897.0,\n     1689690976349897.0,\n     1689690976369897.0,\n     1689690976389897.0],\n    'velocity': [0.0, 1.0, 2.0, 3.0]}}},\n {'episodestart': 1689698176329897.0,\n  'meta': {'episode_meta': {'vehicle': 'VB7',\n    'driver': 'wang-cheng',\n    'episodestart': 1689690976329897.0},\n   'observation_meta': {'state_specs': {'state_unit_codes': {'velocity_unit_code': 'kph',\n      'thrust_unit_code': 'pct',\n      'brake_unit_code': 'pct'},\n     'unit_number': 4,\n     'unit_duration': 1,\n     'frequency': 50},\n    'action_specs': {'action_unit_code': 'nm',\n     'action_row_number': 4,\n     'action_column_number': 17},\n    'reward_specs': {'reward_unit': 'wh'},\n    'site': 'anting'}},\n  'sequence': {'ts': 1689698176329897.0,\n   'state': {'brake': [8.0, 9.0, 10.0, 11.0],\n    'thrust': [4.0, 5.0, 6.0, 7.0],\n    'timestep': [1689690976329897.0,\n     1689690976349897.0,\n     1689690976369897.0,\n     1689690976389897.0],\n    'velocity': [0.0, 1.0, 2.0, 3.0]}}},\n {'episodestart': 1689701776329897.0,\n  'meta': {'episode_meta': {'vehicle': 'VB7',\n    'driver': 'wang-cheng',\n    'episodestart': 1689690976329897.0},\n   'observation_meta': {'state_specs': {'state_unit_codes': {'velocity_unit_code': 'kph',\n      'thrust_unit_code': 'pct',\n      'brake_unit_code': 'pct'},\n     'unit_number': 4,\n     'unit_duration': 1,\n     'frequency': 50},\n    'action_specs': {'action_unit_code': 'nm',\n     'action_row_number': 4,\n     'action_column_number': 17},\n    'reward_specs': {'reward_unit': 'wh'},\n    'site': 'anting'}},\n  'sequence': {'ts': 1689701776329897.0,\n   'state': {'brake': [8.0, 9.0, 10.0, 11.0],\n    'thrust': [4.0, 5.0, 6.0, 7.0],\n    'timestep': [1689690976329897.0,\n     1689690976349897.0,\n     1689690976369897.0,\n     1689690976389897.0],\n    'velocity': [0.0, 1.0, 2.0, 3.0]}}},\n {'episodestart': 1689705376329897.0,\n  'meta': {'episode_meta': {'vehicle': 'VB7',\n    'driver': 'wang-cheng',\n    'episodestart': 1689690976329897.0},\n   'observation_meta': {'state_specs': {'state_unit_codes': {'velocity_unit_code': 'kph',\n      'thrust_unit_code': 'pct',\n      'brake_unit_code': 'pct'},\n     'unit_number': 4,\n     'unit_duration': 1,\n     'frequency': 50},\n    'action_specs': {'action_unit_code': 'nm',\n     'action_row_number': 4,\n     'action_column_number': 17},\n    'reward_specs': {'reward_unit': 'wh'},\n    'site': 'anting'}},\n  'sequence': {'ts': 1689705376329897.0,\n   'state': {'brake': [8.0, 9.0, 10.0, 11.0],\n    'thrust': [4.0, 5.0, 6.0, 7.0],\n    'timestep': [1689690976329897.0,\n     1689690976349897.0,\n     1689690976369897.0,\n     1689690976389897.0],\n    'velocity': [0.0, 1.0, 2.0, 3.0]}}}]"
     },
     "execution_count": 19,
     "metadata": {},
     "output_type": "execute_result"
    }
   ],
   "source": [
    "\n",
    "records7 = [\n",
    "    {u'episodestart': dict_ep['sequence'][0]['timestamp'], u'meta': {'episode_meta': episode_meta, 'observation_meta': observation_meta.dict()},u'sequence': {'ts': dict_nested[0]['timestamp'] , 'state': state_dict1[0]}},\n",
    "    {u'episodestart': dict_ep['sequence'][1]['timestamp'], u'meta': {'episode_meta': episode_meta, 'observation_meta': observation_meta.dict()},u'sequence': {'ts': dict_nested[1]['timestamp'] ,'state': state_dict1[1]},},\n",
    "    {u'episodestart': dict_ep['sequence'][2]['timestamp'], u'meta': {'episode_meta': episode_meta, 'observation_meta': observation_meta.dict()},u'sequence': {'ts': dict_nested[2]['timestamp'] ,'state': state_dict1[2]},},\n",
    "    {u'episodestart': dict_ep['sequence'][3]['timestamp'], u'meta': {'episode_meta': episode_meta, 'observation_meta': observation_meta.dict()},u'sequence': {'ts': dict_nested[3]['timestamp'] ,'state': state_dict1[3]},},\n",
    "]\n",
    "records7\n"
   ],
   "metadata": {
    "collapsed": false,
    "ExecuteTime": {
     "end_time": "2023-07-18T06:36:16.850862459Z",
     "start_time": "2023-07-18T06:36:16.577871339Z"
    }
   }
  },
  {
   "cell_type": "code",
   "execution_count": 21,
   "outputs": [
    {
     "data": {
      "text/plain": "[{'episodestart': 1689694576329897.0,\n  'sequence': [{'ts': 1689694576329897.0,\n    'state': {'brake': [8.0, 9.0, 10.0, 11.0],\n     'thrust': [4.0, 5.0, 6.0, 7.0],\n     'timestep': [1689690976329897.0,\n      1689690976349897.0,\n      1689690976369897.0,\n      1689690976389897.0],\n     'velocity': [0.0, 1.0, 2.0, 3.0]}},\n   {'ts': 1689698176329897.0,\n    'state': {'brake': [8.0, 9.0, 10.0, 11.0],\n     'thrust': [4.0, 5.0, 6.0, 7.0],\n     'timestep': [1689690976329897.0,\n      1689690976349897.0,\n      1689690976369897.0,\n      1689690976389897.0],\n     'velocity': [0.0, 1.0, 2.0, 3.0]}},\n   {'ts': 1689701776329897.0,\n    'state': {'brake': [8.0, 9.0, 10.0, 11.0],\n     'thrust': [4.0, 5.0, 6.0, 7.0],\n     'timestep': [1689690976329897.0,\n      1689690976349897.0,\n      1689690976369897.0,\n      1689690976389897.0],\n     'velocity': [0.0, 1.0, 2.0, 3.0]}},\n   {'ts': 1689705376329897.0,\n    'state': {'brake': [8.0, 9.0, 10.0, 11.0],\n     'thrust': [4.0, 5.0, 6.0, 7.0],\n     'timestep': [1689690976329897.0,\n      1689690976349897.0,\n      1689690976369897.0,\n      1689690976389897.0],\n     'velocity': [0.0, 1.0, 2.0, 3.0]}},\n   {'ts': 1689708976329897.0,\n    'state': {'brake': [8.0, 9.0, 10.0, 11.0],\n     'thrust': [4.0, 5.0, 6.0, 7.0],\n     'timestep': [1689690976329897.0,\n      1689690976349897.0,\n      1689690976369897.0,\n      1689690976389897.0],\n     'velocity': [0.0, 1.0, 2.0, 3.0]}}]},\n {'episodestart': 1689698176329897.0,\n  'sequence': [{'ts': 1689694576329897.0,\n    'state': {'brake': [8.0, 9.0, 10.0, 11.0],\n     'thrust': [4.0, 5.0, 6.0, 7.0],\n     'timestep': [1689690976329897.0,\n      1689690976349897.0,\n      1689690976369897.0,\n      1689690976389897.0],\n     'velocity': [0.0, 1.0, 2.0, 3.0]}},\n   {'ts': 1689708976329897.0,\n    'state': {'brake': [8.0, 9.0, 10.0, 11.0],\n     'thrust': [4.0, 5.0, 6.0, 7.0],\n     'timestep': [1689690976329897.0,\n      1689690976349897.0,\n      1689690976369897.0,\n      1689690976389897.0],\n     'velocity': [0.0, 1.0, 2.0, 3.0]}}]},\n {'episodestart': 1689701776329897.0,\n  'sequence': [{'ts': 1689701776329897.0,\n    'state': {'brake': [8.0, 9.0, 10.0, 11.0],\n     'thrust': [4.0, 5.0, 6.0, 7.0],\n     'timestep': [1689690976329897.0,\n      1689690976349897.0,\n      1689690976369897.0,\n      1689690976389897.0],\n     'velocity': [0.0, 1.0, 2.0, 3.0]}},\n   {'ts': 1689705376329897.0,\n    'state': {'brake': [8.0, 9.0, 10.0, 11.0],\n     'thrust': [4.0, 5.0, 6.0, 7.0],\n     'timestep': [1689690976329897.0,\n      1689690976349897.0,\n      1689690976369897.0,\n      1689690976389897.0],\n     'velocity': [0.0, 1.0, 2.0, 3.0]}},\n   {'ts': 1689708976329897.0,\n    'state': {'brake': [8.0, 9.0, 10.0, 11.0],\n     'thrust': [4.0, 5.0, 6.0, 7.0],\n     'timestep': [1689690976329897.0,\n      1689690976349897.0,\n      1689690976369897.0,\n      1689690976389897.0],\n     'velocity': [0.0, 1.0, 2.0, 3.0]}}]},\n {'episodestart': 1689705376329897.0,\n  'sequence': [{'ts': 1689694576329897.0,\n    'state': {'brake': [8.0, 9.0, 10.0, 11.0],\n     'thrust': [4.0, 5.0, 6.0, 7.0],\n     'timestep': [1689690976329897.0,\n      1689690976349897.0,\n      1689690976369897.0,\n      1689690976389897.0],\n     'velocity': [0.0, 1.0, 2.0, 3.0]}},\n   {'ts': 1689698176329897.0,\n    'state': {'brake': [8.0, 9.0, 10.0, 11.0],\n     'thrust': [4.0, 5.0, 6.0, 7.0],\n     'timestep': [1689690976329897.0,\n      1689690976349897.0,\n      1689690976369897.0,\n      1689690976389897.0],\n     'velocity': [0.0, 1.0, 2.0, 3.0]}},\n   {'ts': 1689701776329897.0,\n    'state': {'brake': [8.0, 9.0, 10.0, 11.0],\n     'thrust': [4.0, 5.0, 6.0, 7.0],\n     'timestep': [1689690976329897.0,\n      1689690976349897.0,\n      1689690976369897.0,\n      1689690976389897.0],\n     'velocity': [0.0, 1.0, 2.0, 3.0]}}]},\n {'episodestart': 1689708976329897.0,\n  'sequence': [{'ts': 1689694576329897.0,\n    'state': {'brake': [8.0, 9.0, 10.0, 11.0],\n     'thrust': [4.0, 5.0, 6.0, 7.0],\n     'timestep': [1689690976329897.0,\n      1689690976349897.0,\n      1689690976369897.0,\n      1689690976389897.0],\n     'velocity': [0.0, 1.0, 2.0, 3.0]}},\n   {'ts': 1689698176329897.0,\n    'state': {'brake': [8.0, 9.0, 10.0, 11.0],\n     'thrust': [4.0, 5.0, 6.0, 7.0],\n     'timestep': [1689690976329897.0,\n      1689690976349897.0,\n      1689690976369897.0,\n      1689690976389897.0],\n     'velocity': [0.0, 1.0, 2.0, 3.0]}},\n   {'ts': 1689705376329897.0,\n    'state': {'brake': [8.0, 9.0, 10.0, 11.0],\n     'thrust': [4.0, 5.0, 6.0, 7.0],\n     'timestep': [1689690976329897.0,\n      1689690976349897.0,\n      1689690976369897.0,\n      1689690976389897.0],\n     'velocity': [0.0, 1.0, 2.0, 3.0]}},\n   {'ts': 1689708976329897.0,\n    'state': {'brake': [8.0, 9.0, 10.0, 11.0],\n     'thrust': [4.0, 5.0, 6.0, 7.0],\n     'timestep': [1689690976329897.0,\n      1689690976349897.0,\n      1689690976369897.0,\n      1689690976389897.0],\n     'velocity': [0.0, 1.0, 2.0, 3.0]}}]}]"
     },
     "execution_count": 21,
     "metadata": {},
     "output_type": "execute_result"
    }
   ],
   "source": [
    "records8 = [\n",
    "    {u'episodestart': dict_ep['sequence'][0]['timestamp'], u'sequence': arr_states[0]},\n",
    "    {u'episodestart': dict_ep['sequence'][1]['timestamp'], u'sequence': arr_states[1]},\n",
    "    {u'episodestart': dict_ep['sequence'][2]['timestamp'], u'sequence': arr_states[2]},\n",
    "    {u'episodestart': dict_ep['sequence'][3]['timestamp'], u'sequence': arr_states[3]},\n",
    "    {u'episodestart': dict_ep['sequence'][4]['timestamp'], u'sequence': arr_states[4]},\n",
    "]\n",
    "records8"
   ],
   "metadata": {
    "collapsed": false,
    "ExecuteTime": {
     "end_time": "2023-07-18T06:38:17.027591928Z",
     "start_time": "2023-07-18T06:38:16.987044927Z"
    }
   }
  },
  {
   "cell_type": "code",
   "execution_count": 86,
   "outputs": [
    {
     "data": {
      "text/plain": "{'type': 'record',\n 'doc': 'An episode reading.',\n 'name': 'test.episode',\n 'fields': [{'name': 'station', 'type': 'string'},\n  {'name': 'time', 'type': 'long'},\n  {'name': 'state',\n   'type': {'type': 'record',\n    'name': 'test.state_',\n    'fields': [{'name': 'velocity',\n      'type': {'type': 'array', 'items': 'float'}},\n     {'name': 'thrust', 'type': {'type': 'array', 'items': 'float'}},\n     {'name': 'brake', 'type': {'type': 'array', 'items': 'float'}},\n     {'name': 'timestep',\n      'type': {'type': 'array',\n       'items': {'logicalType': 'timestamp-micros', 'type': 'long'}}}]}}],\n '__fastavro_parsed': True,\n '__named_schemas': {'test.episode': {'type': 'record',\n   'doc': 'An episode reading.',\n   'name': 'test.episode',\n   'fields': [{'name': 'station', 'type': 'string'},\n    {'name': 'time', 'type': 'long'},\n    {'name': 'state',\n     'type': {'type': 'record',\n      'name': 'test.state_',\n      'fields': [{'name': 'velocity',\n        'type': {'type': 'array', 'items': 'float'}},\n       {'name': 'thrust', 'type': {'type': 'array', 'items': 'float'}},\n       {'name': 'brake', 'type': {'type': 'array', 'items': 'float'}},\n       {'name': 'timestep',\n        'type': {'type': 'array',\n         'items': {'logicalType': 'timestamp-micros', 'type': 'long'}}}]}}]},\n  'test.state_': {'type': 'record',\n   'name': 'test.state_',\n   'fields': [{'name': 'velocity',\n     'type': {'type': 'array', 'items': 'float'}},\n    {'name': 'thrust', 'type': {'type': 'array', 'items': 'float'}},\n    {'name': 'brake', 'type': {'type': 'array', 'items': 'float'}},\n    {'name': 'timestep',\n     'type': {'type': 'array',\n      'items': {'logicalType': 'timestamp-micros', 'type': 'long'}}}]}}}"
     },
     "execution_count": 86,
     "metadata": {},
     "output_type": "execute_result"
    }
   ],
   "source": [
    "\n",
    "schema1 = {\n",
    "    'doc': 'An episode reading.',\n",
    "    'name': 'episode',\n",
    "    'namespace': 'test',\n",
    "    'type': 'record',\n",
    "    'fields': [\n",
    "        {'name': 'station', 'type': 'string'},\n",
    "        {'name': 'time', 'type': 'long'},\n",
    "        {'name': 'state', 'type':\n",
    "            {\n",
    "                'type': 'record',\n",
    "                'name': 'state_',\n",
    "                'fields': [\n",
    "                    {\n",
    "                        'name': 'velocity',\n",
    "                        'type': {\n",
    "                            'type': 'array',\n",
    "                            'items': 'float'\n",
    "                        }\n",
    "                    },\n",
    "                    {\n",
    "                        'name': 'thrust',\n",
    "                        'type': {\n",
    "                            'type': 'array',\n",
    "                            'items': 'float'\n",
    "                        }\n",
    "                    },\n",
    "                    {\n",
    "                        'name': 'brake',\n",
    "                        'type': {\n",
    "                            'type': 'array',\n",
    "                            'items': 'float'\n",
    "                        }\n",
    "                    },\n",
    "                    {\n",
    "                       'name': 'timestep',\n",
    "                       'type': {\n",
    "                           'type': 'array',\n",
    "                           'items': {'type': 'long', 'logicalType': 'timestamp-micros'}\n",
    "                       }\n",
    "                    },\n",
    "                ]\n",
    "            }\n",
    "         },\n",
    "    ]\n",
    "}\n",
    "parsed_schema = parse_schema(schema1)\n",
    "parsed_schema\n",
    "\n"
   ],
   "metadata": {
    "collapsed": false,
    "ExecuteTime": {
     "end_time": "2023-07-17T03:54:53.058746304Z",
     "start_time": "2023-07-17T03:54:53.012321541Z"
    }
   }
  },
  {
   "cell_type": "code",
   "execution_count": null,
   "outputs": [],
   "source": [],
   "metadata": {
    "collapsed": false
   }
  },
  {
   "cell_type": "code",
   "execution_count": 88,
   "outputs": [
    {
     "name": "stdout",
     "output_type": "stream",
     "text": [
      "{'station': '011990-99999', 'time': 1433269388, 'state': {'velocity': [0.0, 1.0, 2.0, 3.0], 'thrust': [4.0, 5.0, 6.0, 7.0], 'brake': [8.0, 9.0, 10.0, 11.0], 'timestep': [datetime.datetime(2023, 7, 17, 10, 3, 52, 602544, tzinfo=datetime.timezone.utc), datetime.datetime(2023, 7, 17, 10, 3, 52, 622544, tzinfo=datetime.timezone.utc), datetime.datetime(2023, 7, 17, 10, 3, 52, 642544, tzinfo=datetime.timezone.utc), datetime.datetime(2023, 7, 17, 10, 3, 52, 662544, tzinfo=datetime.timezone.utc)]}}\n",
      "{'station': '011990-99999', 'time': 1433270389, 'state': {'velocity': [0.0, 1.0, 2.0, 3.0], 'thrust': [4.0, 5.0, 6.0, 7.0], 'brake': [8.0, 9.0, 10.0, 11.0], 'timestep': [datetime.datetime(2023, 7, 17, 10, 3, 52, 602544, tzinfo=datetime.timezone.utc), datetime.datetime(2023, 7, 17, 10, 3, 52, 622544, tzinfo=datetime.timezone.utc), datetime.datetime(2023, 7, 17, 10, 3, 52, 642544, tzinfo=datetime.timezone.utc), datetime.datetime(2023, 7, 17, 10, 3, 52, 662544, tzinfo=datetime.timezone.utc)]}}\n",
      "{'station': '011990-99999', 'time': 1433273379, 'state': {'velocity': [0.0, 1.0, 2.0, 3.0], 'thrust': [4.0, 5.0, 6.0, 7.0], 'brake': [8.0, 9.0, 10.0, 11.0], 'timestep': [datetime.datetime(2023, 7, 17, 10, 3, 52, 602544, tzinfo=datetime.timezone.utc), datetime.datetime(2023, 7, 17, 10, 3, 52, 622544, tzinfo=datetime.timezone.utc), datetime.datetime(2023, 7, 17, 10, 3, 52, 642544, tzinfo=datetime.timezone.utc), datetime.datetime(2023, 7, 17, 10, 3, 52, 662544, tzinfo=datetime.timezone.utc)]}}\n",
      "{'station': '012650-99999', 'time': 1433275478, 'state': {'velocity': [0.0, 1.0, 2.0, 3.0], 'thrust': [4.0, 5.0, 6.0, 7.0], 'brake': [8.0, 9.0, 10.0, 11.0], 'timestep': [datetime.datetime(2023, 7, 17, 10, 3, 52, 602544, tzinfo=datetime.timezone.utc), datetime.datetime(2023, 7, 17, 10, 3, 52, 622544, tzinfo=datetime.timezone.utc), datetime.datetime(2023, 7, 17, 10, 3, 52, 642544, tzinfo=datetime.timezone.utc), datetime.datetime(2023, 7, 17, 10, 3, 52, 662544, tzinfo=datetime.timezone.utc)]}}\n"
     ]
    }
   ],
   "source": [
    "\n",
    "# # Writing\n",
    "# with open('episode5.avro', 'wb') as out:\n",
    "#     writer(out, parsed_schema, records1)\n",
    "#\n",
    "# # Reading\n",
    "# with open('episode5.avro', 'rb') as fo:\n",
    "#     for record in reader(fo):\n",
    "#         print(record)\n"
   ],
   "metadata": {
    "collapsed": false,
    "ExecuteTime": {
     "end_time": "2023-07-17T03:55:11.558735111Z",
     "start_time": "2023-07-17T03:55:11.554875320Z"
    }
   }
  },
  {
   "cell_type": "code",
   "execution_count": 161,
   "outputs": [
    {
     "data": {
      "text/plain": "{'type': 'record',\n 'doc': 'An episode reading.',\n 'name': 'test.episode',\n 'fields': [{'logicalType': 'timestamp-micros',\n   'name': 'episodestart',\n   'type': 'long'},\n  {'name': 'sequence',\n   'type': {'type': 'record',\n    'name': 'test.sequence_',\n    'fields': [{'name': 'state',\n      'type': {'type': 'record',\n       'name': 'test.state_',\n       'fields': [{'name': 'velocity',\n         'type': {'type': 'array', 'items': 'float'}},\n        {'name': 'thrust', 'type': {'type': 'array', 'items': 'float'}},\n        {'name': 'brake', 'type': {'type': 'array', 'items': 'float'}},\n        {'name': 'timestep',\n         'type': {'type': 'array',\n          'items': {'logicalType': 'timestamp-micros',\n           'type': 'long'}}}]}}]}}],\n '__fastavro_parsed': True,\n '__named_schemas': {'test.episode': {'type': 'record',\n   'doc': 'An episode reading.',\n   'name': 'test.episode',\n   'fields': [{'logicalType': 'timestamp-micros',\n     'name': 'episodestart',\n     'type': 'long'},\n    {'name': 'sequence',\n     'type': {'type': 'record',\n      'name': 'test.sequence_',\n      'fields': [{'name': 'state',\n        'type': {'type': 'record',\n         'name': 'test.state_',\n         'fields': [{'name': 'velocity',\n           'type': {'type': 'array', 'items': 'float'}},\n          {'name': 'thrust', 'type': {'type': 'array', 'items': 'float'}},\n          {'name': 'brake', 'type': {'type': 'array', 'items': 'float'}},\n          {'name': 'timestep',\n           'type': {'type': 'array',\n            'items': {'logicalType': 'timestamp-micros',\n             'type': 'long'}}}]}}]}}]},\n  'test.sequence_': {'type': 'record',\n   'name': 'test.sequence_',\n   'fields': [{'name': 'state',\n     'type': {'type': 'record',\n      'name': 'test.state_',\n      'fields': [{'name': 'velocity',\n        'type': {'type': 'array', 'items': 'float'}},\n       {'name': 'thrust', 'type': {'type': 'array', 'items': 'float'}},\n       {'name': 'brake', 'type': {'type': 'array', 'items': 'float'}},\n       {'name': 'timestep',\n        'type': {'type': 'array',\n         'items': {'logicalType': 'timestamp-micros', 'type': 'long'}}}]}}]},\n  'test.state_': {'type': 'record',\n   'name': 'test.state_',\n   'fields': [{'name': 'velocity',\n     'type': {'type': 'array', 'items': 'float'}},\n    {'name': 'thrust', 'type': {'type': 'array', 'items': 'float'}},\n    {'name': 'brake', 'type': {'type': 'array', 'items': 'float'}},\n    {'name': 'timestep',\n     'type': {'type': 'array',\n      'items': {'logicalType': 'timestamp-micros', 'type': 'long'}}}]}}}"
     },
     "execution_count": 161,
     "metadata": {},
     "output_type": "execute_result"
    },
    {
     "data": {
      "text/plain": "{'doc': 'An episode reading.',\n 'name': 'episode',\n 'namespace': 'test',\n 'type': 'record',\n 'fields': [{'name': 'episodestart',\n   'type': 'long',\n   'logicalType': 'timestamp-micros'},\n  {'name': 'sequence',\n   'type': {'type': 'record',\n    'name': 'sequence_',\n    'fields': [{'name': 'state',\n      'type': {'type': 'record',\n       'name': 'state_',\n       'fields': [{'name': 'velocity',\n         'type': {'type': 'array', 'items': 'float'}},\n        {'name': 'thrust', 'type': {'type': 'array', 'items': 'float'}},\n        {'name': 'brake', 'type': {'type': 'array', 'items': 'float'}},\n        {'name': 'timestep',\n         'type': {'type': 'array',\n          'items': {'type': 'long',\n           'logicalType': 'timestamp-micros'}}}]}}]}}]}"
     },
     "execution_count": 161,
     "metadata": {},
     "output_type": "execute_result"
    }
   ],
   "source": [
    "# schema2 = {\n",
    "#     'doc': 'An episode reading.',\n",
    "#     'name': 'episode',\n",
    "#     'namespace': 'test',\n",
    "#     'type': 'record',\n",
    "#     'fields': [\n",
    "#         {'name': 'timestamp', 'type': 'long', 'logicalType': 'timestamp-micros'},\n",
    "#         {'name': 'observation', 'type':\n",
    "#             {\n",
    "#                 'type': 'record',\n",
    "#                 'name': 'observation_',\n",
    "#                 'fields': [\n",
    "#                     {\n",
    "#                         'name': 'state',\n",
    "#                         'type': {\n",
    "#                             'type': 'record',\n",
    "#                             'name': 'state_',\n",
    "#                             'fields': state_fields_schema\n",
    "#                         }\n",
    "#                     },\n",
    "#                 ]\n",
    "#             }\n",
    "#          },\n",
    "#     ]\n",
    "# }\n",
    "\n",
    "# schema3 = {\n",
    "#     'doc': 'An episode reading.',\n",
    "#     'name': 'episode',\n",
    "#     'namespace': 'test',\n",
    "#     'type': 'record',\n",
    "#     'fields': [\n",
    "#         {'name': 'timestamp', 'type': 'long', 'logicalType': 'timestamp-micros'},\n",
    "#         {'name': 'observation', 'type':\n",
    "#             {\n",
    "#                 'type': 'record',\n",
    "#                 'name': 'observation_',\n",
    "#                 'fields': [\n",
    "#                     {\n",
    "#                         'name': 'state',\n",
    "#                         'type': {\n",
    "#                             'type': 'record',\n",
    "#                             'name': 'state_',\n",
    "#                             'fields': state_fields_schema\n",
    "#                         }\n",
    "#                     },\n",
    "#                 ]\n",
    "#             }\n",
    "#          },\n",
    "#     ]\n",
    "# }\n",
    "\n",
    "\n",
    "schema3 = {\n",
    "    'doc': 'An episode reading.',\n",
    "    'name': 'sequence',\n",
    "    'namespace': 'test',\n",
    "    'type': 'record',\n",
    "    'fields': [\n",
    "        {'name': 'episodestart', 'type': 'long', 'logicalType': 'timestamp-micros'},\n",
    "        {\n",
    "            'name': 'meta',\n",
    "            'type': {\n",
    "                'type': 'record', 'name': 'meta_', 'fields':\n",
    "                [\n",
    "                    {\n",
    "                        'name': 'episode_meta',\n",
    "                        'type': {\n",
    "                            'type': 'record',\n",
    "                            'name': 'episode_meta_',\n",
    "                            'fields': episode_meta_fields_schema,\n",
    "                        }\n",
    "                    },\n",
    "                    {\n",
    "                        'name': 'observation_meta',\n",
    "                        'type': {\n",
    "                            'type': 'record',\n",
    "                            'name': 'observation_meta_',\n",
    "                            'fields': observation_meta_fields_schema\n",
    "                        }\n",
    "                    }\n",
    "                ]\n",
    "            }\n",
    "        },\n",
    "        {'name': 'sequence', 'type':\n",
    "            {\n",
    "                'type': 'record',\n",
    "                'name': 'sequence_',\n",
    "                'fields': [\n",
    "                    {\n",
    "                        'name': 'state',\n",
    "                        'type': {\n",
    "                            'type': 'record',\n",
    "                            'name': 'state_',\n",
    "                            'fields': state_fields_schema\n",
    "                        }\n",
    "                    },\n",
    "                ]\n",
    "            }\n",
    "         },\n",
    "    ]\n",
    "}\n",
    "\n",
    "# parsed_schema = parse_schema(schema3)\n",
    "# # parsed_schema\n",
    "# schema3\n",
    "\n",
    "schema4 = {\n",
    "    'doc': 'An episode reading.',\n",
    "    'name': 'episode',\n",
    "    'namespace': 'test',\n",
    "    'type': 'record',\n",
    "    'fields': [\n",
    "        {'name': 'episodestart', 'type': 'long', 'logicalType': 'timestamp-micros'},\n",
    "        {\n",
    "            'name': 'meta',\n",
    "            'type': {\n",
    "                'type': 'record', 'name': 'meta_', 'fields':\n",
    "                    [\n",
    "                        {\n",
    "                            'name': 'episode_meta',\n",
    "                            'type': {\n",
    "                                'type': 'record',\n",
    "                                'name': 'episode_meta_',\n",
    "                                'fields': episode_meta_fields_schema,\n",
    "                            }\n",
    "                        },\n",
    "                        {\n",
    "                            'name': 'observation_meta',\n",
    "                            'type': {\n",
    "                                'type': 'record',\n",
    "                                'name': 'observation_meta_',\n",
    "                                'fields': observation_meta_fields_schema\n",
    "                            }\n",
    "                        }\n",
    "                    ]\n",
    "            }\n",
    "        },\n",
    "        {'name': 'sequence', 'type': {\n",
    "                'type': 'array',\n",
    "                'items': [\n",
    "                    {\n",
    "                        'name': 'step',\n",
    "                        'type': {\n",
    "                            'type': 'record',\n",
    "                            'name': 'step_',\n",
    "                            'fields': [\n",
    "                                {\n",
    "                                    'name': 'ts',\n",
    "                                    'type': {'type': 'long', 'logicalType': 'timestamp-micros'}\n",
    "                                 }\n",
    "                            ]\n",
    "                        }\n",
    "                    }\n",
    "\n",
    "                                # {'name': 'observation',\n",
    "                                #     'type': {\n",
    "                                #         'type': 'record',\n",
    "                                #         'name': 'observation_',\n",
    "                                #         'fields': [\n",
    "                                #             {\n",
    "                                #                 'name': 'state',\n",
    "                                #                 'type': {\n",
    "                                #                     'type': 'record',\n",
    "                                #                     'name': 'state_',\n",
    "                                #                     'fields': state_fields_schema\n",
    "                                #                 },\n",
    "                                #             },\n",
    "                                #         ]\n",
    "                                #     }\n",
    "                                # },\n",
    "                ],\n",
    "            }\n",
    "        },\n",
    "    ]\n",
    "}\n",
    "# parsed_schema = parse_schema(schema4)\n",
    "# parsed_schema\n",
    "# schema4\n",
    "schema5 = {\n",
    "    'doc': 'An episode reading.',\n",
    "    'name': 'episode',\n",
    "    'namespace': 'test',\n",
    "    'type': 'record',\n",
    "    'fields': [\n",
    "        {'name': 'episodestart', 'type': 'long', 'logicalType': 'timestamp-micros'},\n",
    "        {'name': 'sequence', 'type': {\n",
    "                'type': 'record',\n",
    "                'name': 'sequence_',\n",
    "                'fields': [{\n",
    "                    'name': 'step',\n",
    "                    'type': {\n",
    "                        'type': 'record',\n",
    "                        'name': 'step_',\n",
    "                        'fields': [\n",
    "                             {'name': 'ts', 'type': {\n",
    "                                 'type': 'array',\n",
    "                                 'items': {'type': 'long', 'logicalType': 'timestamp-micros'}\n",
    "                                }\n",
    "                              },\n",
    "                        ]\n",
    "                            # [{\n",
    "                            #     'name': 'ts',\n",
    "                            #     'type': {'type': 'long', 'logicalType': 'timestamp-micros'}\n",
    "                            # }]\n",
    "                    }\n",
    "                }],\n",
    "            }\n",
    "        },\n",
    "    ]\n",
    "}\n",
    "\n",
    "# parsed_schema\n",
    "\n",
    "schema6 = {\n",
    "    'doc': 'An episode reading.',\n",
    "    'name': 'episode',\n",
    "    'namespace': 'test',\n",
    "    'type': 'record',\n",
    "    'fields': [\n",
    "        {'name': 'episodestart', 'type': 'long', 'logicalType': 'timestamp-micros'},\n",
    "        {'name': 'sequence', 'type': {\n",
    "            'type': 'record',\n",
    "            'name': 'sequence_',\n",
    "            'fields': [\n",
    "                        {\n",
    "                            'name': 'ts',\n",
    "                            'type': 'array',\n",
    "                            'items': {'type': 'long', 'logicalType': 'timestamp-micros'}\n",
    "                        }\n",
    "            ]\n",
    "        }\n",
    "        },\n",
    "    ]\n",
    "}\n",
    "\n",
    "\n"
   ],
   "metadata": {
    "collapsed": false,
    "ExecuteTime": {
     "end_time": "2023-07-18T05:40:25.133775825Z",
     "start_time": "2023-07-18T05:40:24.992130626Z"
    }
   }
  },
  {
   "cell_type": "code",
   "execution_count": 176,
   "outputs": [
    {
     "data": {
      "text/plain": "{'type': 'record',\n 'doc': 'An episode reading.',\n 'name': 'test.episode',\n 'fields': [{'logicalType': 'timestamp-micros',\n   'name': 'episodestart',\n   'type': 'long'},\n  {'name': 'sequence',\n   'type': {'type': 'record',\n    'name': 'test.sequence_',\n    'fields': [{'logicalType': 'timestamp-micros',\n      'name': 'ts',\n      'type': 'long'},\n     {'name': 'state',\n      'type': {'type': 'record',\n       'name': 'test.state_',\n       'fields': [{'name': 'velocity',\n         'type': {'type': 'array', 'items': 'float'}},\n        {'name': 'thrust', 'type': {'type': 'array', 'items': 'float'}},\n        {'name': 'brake', 'type': {'type': 'array', 'items': 'float'}},\n        {'name': 'timestep',\n         'type': {'type': 'array',\n          'items': {'logicalType': 'timestamp-micros',\n           'type': 'long'}}}]}}]}}],\n '__fastavro_parsed': True,\n '__named_schemas': {'test.episode': {'type': 'record',\n   'doc': 'An episode reading.',\n   'name': 'test.episode',\n   'fields': [{'logicalType': 'timestamp-micros',\n     'name': 'episodestart',\n     'type': 'long'},\n    {'name': 'sequence',\n     'type': {'type': 'record',\n      'name': 'test.sequence_',\n      'fields': [{'logicalType': 'timestamp-micros',\n        'name': 'ts',\n        'type': 'long'},\n       {'name': 'state',\n        'type': {'type': 'record',\n         'name': 'test.state_',\n         'fields': [{'name': 'velocity',\n           'type': {'type': 'array', 'items': 'float'}},\n          {'name': 'thrust', 'type': {'type': 'array', 'items': 'float'}},\n          {'name': 'brake', 'type': {'type': 'array', 'items': 'float'}},\n          {'name': 'timestep',\n           'type': {'type': 'array',\n            'items': {'logicalType': 'timestamp-micros',\n             'type': 'long'}}}]}}]}}]},\n  'test.sequence_': {'type': 'record',\n   'name': 'test.sequence_',\n   'fields': [{'logicalType': 'timestamp-micros',\n     'name': 'ts',\n     'type': 'long'},\n    {'name': 'state',\n     'type': {'type': 'record',\n      'name': 'test.state_',\n      'fields': [{'name': 'velocity',\n        'type': {'type': 'array', 'items': 'float'}},\n       {'name': 'thrust', 'type': {'type': 'array', 'items': 'float'}},\n       {'name': 'brake', 'type': {'type': 'array', 'items': 'float'}},\n       {'name': 'timestep',\n        'type': {'type': 'array',\n         'items': {'logicalType': 'timestamp-micros', 'type': 'long'}}}]}}]},\n  'test.state_': {'type': 'record',\n   'name': 'test.state_',\n   'fields': [{'name': 'velocity',\n     'type': {'type': 'array', 'items': 'float'}},\n    {'name': 'thrust', 'type': {'type': 'array', 'items': 'float'}},\n    {'name': 'brake', 'type': {'type': 'array', 'items': 'float'}},\n    {'name': 'timestep',\n     'type': {'type': 'array',\n      'items': {'logicalType': 'timestamp-micros', 'type': 'long'}}}]}}}"
     },
     "execution_count": 176,
     "metadata": {},
     "output_type": "execute_result"
    },
    {
     "data": {
      "text/plain": "{'doc': 'An episode reading.',\n 'name': 'episode',\n 'namespace': 'test',\n 'type': 'record',\n 'fields': [{'name': 'episodestart',\n   'type': 'long',\n   'logicalType': 'timestamp-micros'},\n  {'name': 'sequence',\n   'type': {'type': 'record',\n    'name': 'sequence_',\n    'fields': [{'name': 'ts',\n      'type': 'long',\n      'logicalType': 'timestamp-micros'},\n     {'name': 'state',\n      'type': {'type': 'record',\n       'name': 'state_',\n       'fields': [{'name': 'velocity',\n         'type': {'type': 'array', 'items': 'float'}},\n        {'name': 'thrust', 'type': {'type': 'array', 'items': 'float'}},\n        {'name': 'brake', 'type': {'type': 'array', 'items': 'float'}},\n        {'name': 'timestep',\n         'type': {'type': 'array',\n          'items': {'type': 'long',\n           'logicalType': 'timestamp-micros'}}}]}}]}}]}"
     },
     "execution_count": 176,
     "metadata": {},
     "output_type": "execute_result"
    }
   ],
   "source": [
    "\n",
    "schema7 = {\n",
    "    'doc': 'An episode reading.',\n",
    "    'name': 'episode',\n",
    "    'namespace': 'test',\n",
    "    'type': 'record',\n",
    "    'fields': [\n",
    "        {'name': 'episodestart', 'type': 'long', 'logicalType': 'timestamp-micros'},\n",
    "        {'name': 'sequence', 'type':\n",
    "            {\n",
    "                'type': 'record',\n",
    "                'name': 'sequence_',\n",
    "                'fields': [\n",
    "                    {\n",
    "                        'name': 'ts',\n",
    "                        'type': 'long',\n",
    "                        'logicalType': 'timestamp-micros'\n",
    "                    },\n",
    "                    {\n",
    "                        'name': 'state',\n",
    "                        'type': {\n",
    "                            'type': 'record',\n",
    "                            'name': 'state_',\n",
    "                            'fields': state_fields_schema\n",
    "                        }\n",
    "                    },\n",
    "                ]\n",
    "            }\n",
    "         },\n",
    "    ]\n",
    "}\n",
    "parsed_schema = parse_schema(schema7)\n",
    "parsed_schema\n",
    "schema7\n"
   ],
   "metadata": {
    "collapsed": false,
    "ExecuteTime": {
     "end_time": "2023-07-18T05:59:37.514690987Z",
     "start_time": "2023-07-18T05:59:37.493888119Z"
    }
   }
  },
  {
   "cell_type": "code",
   "execution_count": 25,
   "outputs": [
    {
     "data": {
      "text/plain": "{'doc': 'An episode reading.',\n 'name': 'episode',\n 'namespace': 'test',\n 'type': 'record',\n 'fields': [{'name': 'episodestart',\n   'type': 'long',\n   'logicalType': 'timestamp-micros'},\n  {'name': 'sequence',\n   'type': {'type': 'array',\n    'items': {'name': 'step',\n     'type': 'record',\n     'fields': [{'name': 'ts',\n       'type': 'long',\n       'logicalType': 'timestamp-micros'},\n      {'name': 'state',\n       'type': {'type': 'record',\n        'name': 'state_',\n        'fields': [{'name': 'velocity',\n          'type': {'type': 'array', 'items': 'float'}},\n         {'name': 'thrust', 'type': {'type': 'array', 'items': 'float'}},\n         {'name': 'brake', 'type': {'type': 'array', 'items': 'float'}},\n         {'name': 'timestep',\n          'type': {'type': 'array',\n           'items': {'type': 'long',\n            'logicalType': 'timestamp-micros'}}}]}}]}}}]}"
     },
     "execution_count": 25,
     "metadata": {},
     "output_type": "execute_result"
    }
   ],
   "source": [
    "\n",
    "schema8 = {\n",
    "    'doc': 'An episode reading.',\n",
    "    'name': 'episode',\n",
    "    'namespace': 'test',\n",
    "    'type': 'record',\n",
    "    'fields': [\n",
    "        {'name': 'episodestart', 'type': 'long', 'logicalType': 'timestamp-micros'},\n",
    "        {'name': 'sequence', 'type':\n",
    "            {\n",
    "                'type': 'array',\n",
    "                'items': {\n",
    "                    'name': 'step',  # not used in constructing the array data, only implicit name for schema namespace,\n",
    "                    'type': 'record',\n",
    "                    'fields': [\n",
    "                    {\n",
    "                        'name': 'ts',\n",
    "                        'type': 'long',\n",
    "                        'logicalType': 'timestamp-micros'\n",
    "                    },\n",
    "                    {\n",
    "                        'name': 'state',\n",
    "                        'type': {\n",
    "                            'type': 'record',\n",
    "                            'name': 'state_',\n",
    "                            'fields': state_fields_schema\n",
    "                        }\n",
    "                    },\n",
    "                    ]\n",
    "                }\n",
    "            }\n",
    "         },\n",
    "    ]\n",
    "}\n",
    "parsed_schema = parse_schema(schema8)\n",
    "# parsed_schema\n",
    "schema8\n",
    "\n"
   ],
   "metadata": {
    "collapsed": false,
    "ExecuteTime": {
     "end_time": "2023-07-18T06:42:29.135563555Z",
     "start_time": "2023-07-18T06:42:29.109120397Z"
    }
   }
  },
  {
   "cell_type": "code",
   "execution_count": 30,
   "outputs": [
    {
     "data": {
      "text/plain": "{'doc': 'An episode reading.',\n 'name': 'episode',\n 'namespace': 'test',\n 'type': 'record',\n 'fields': [{'name': 'episodestart',\n   'type': 'long',\n   'logicalType': 'timestamp-micros'},\n  {'name': 'sequence',\n   'type': {'type': 'array',\n    'items': {'name': 'step',\n     'type': 'record',\n     'fields': [{'name': 'ts',\n       'type': 'long',\n       'logicalType': 'timestamp-micros'},\n      {'name': 'state',\n       'type': {'type': 'record',\n        'name': 'state_',\n        'fields': [{'name': 'velocity',\n          'type': {'type': 'array', 'items': 'float'}},\n         {'name': 'thrust', 'type': {'type': 'array', 'items': 'float'}},\n         {'name': 'brake', 'type': {'type': 'array', 'items': 'float'}},\n         {'name': 'timestep',\n          'type': {'type': 'array',\n           'items': {'type': 'long',\n            'logicalType': 'timestamp-micros'}}}]}}]}}}]}"
     },
     "execution_count": 30,
     "metadata": {},
     "output_type": "execute_result"
    }
   ],
   "source": [
    "schema9 = {\n",
    "    'doc': 'An episode reading.',\n",
    "    'name': 'episode',\n",
    "    'namespace': 'test',\n",
    "    'type': 'record',\n",
    "    'fields': [\n",
    "        {'name': 'episodestart', 'type': 'long', 'logicalType': 'timestamp-micros'},\n",
    "        {'name': 'sequence', 'type':\n",
    "            {\n",
    "                'type': 'array',\n",
    "                'items': {\n",
    "                    'name': 'step',  # not used in constructing the array data, only implicit name for schema namespace,\n",
    "                    'type': 'record',\n",
    "                    'fields': [\n",
    "                        {\n",
    "                            'name': 'ts',\n",
    "                            'type': 'long',\n",
    "                            'logicalType': 'timestamp-micros'\n",
    "                        },\n",
    "                        {\n",
    "                            'name': 'state',\n",
    "                            'type': {\n",
    "                                'type': 'record',\n",
    "                                'name': 'state_',\n",
    "                                'fields': state_fields_schema\n",
    "                            }\n",
    "                        },\n",
    "                    ]\n",
    "                }\n",
    "            }\n",
    "         },\n",
    "    ]\n",
    "}\n",
    "parsed_schema = parse_schema(schema9)\n",
    "# parsed_schema\n",
    "schema9"
   ],
   "metadata": {
    "collapsed": false,
    "ExecuteTime": {
     "end_time": "2023-07-18T06:48:42.502427476Z",
     "start_time": "2023-07-18T06:48:42.396986150Z"
    }
   }
  },
  {
   "cell_type": "code",
   "execution_count": 70,
   "outputs": [
    {
     "data": {
      "text/plain": "{'episodestart': 1689520175316833.0,\n 'meta': {'episode_meta': {'vehicle': 'VB7',\n   'driver': 'zheng-longfei',\n   'episodestart': 1689520175316833.0},\n  'observation_meta': {'state_specs': {'state_unit_codes': {'velocity_unit_code': 'kph',\n     'thrust_unit_code': 'pct',\n     'brake_unit_code': 'pct'},\n    'unit_number': 4,\n    'unit_duration': 1,\n    'frequency': 50},\n   'action_specs': {'action_unit_code': 'nm',\n    'action_row_number': 4,\n    'action_column_number': 17},\n   'reward_specs': {'reward_unit': 'wh'},\n   'site': 'anting'}},\n 'sequence': [{'timestamp': 1689696575255785.0,\n   'action': {'r0': [12.0, 13.0, 14.0, 15.0, 16.0],\n    'r1': [17.0, 18.0, 19.0, 20.0, 21.0],\n    'r2': [22.0, 23.0, 24.0, 25.0, 26.0],\n    'speed': [40.0, 50.0, 60.0],\n    'throttle': [0.0, 0.25, 0.5, 0.75, 1.0],\n    'timestep': [1689692975355785.0, 1689692975375785.0, 1689692975395785.0]},\n   'nstate': {'brake': [36.0, 37.0, 38.0, 39.0],\n    'thrust': [32.0, 33.0, 34.0, 35.0],\n    'timestep': [1689692980255785.0,\n     1689692980275785.0,\n     1689692980295785.0,\n     1689692980315785.0],\n    'velocity': [28.0, 29.0, 30.0, 31.0]},\n   'reward': {'timestep': [1689692975355785.0], 'work': [27.0]},\n   'state': {'brake': [8.0, 9.0, 10.0, 11.0],\n    'thrust': [4.0, 5.0, 6.0, 7.0],\n    'timestep': [1689692975255785.0,\n     1689692975275785.0,\n     1689692975295785.0,\n     1689692975315785.0],\n    'velocity': [0.0, 1.0, 2.0, 3.0]}},\n  {'timestamp': 1689703775255785.0,\n   'action': {'r0': [12.0, 13.0, 14.0, 15.0, 16.0],\n    'r1': [17.0, 18.0, 19.0, 20.0, 21.0],\n    'r2': [22.0, 23.0, 24.0, 25.0, 26.0],\n    'speed': [40.0, 50.0, 60.0],\n    'throttle': [0.0, 0.25, 0.5, 0.75, 1.0],\n    'timestep': [1689692975355785.0, 1689692975375785.0, 1689692975395785.0]},\n   'nstate': {'brake': [36.0, 37.0, 38.0, 39.0],\n    'thrust': [32.0, 33.0, 34.0, 35.0],\n    'timestep': [1689692980255785.0,\n     1689692980275785.0,\n     1689692980295785.0,\n     1689692980315785.0],\n    'velocity': [28.0, 29.0, 30.0, 31.0]},\n   'reward': {'timestep': [1689692975355785.0], 'work': [27.0]},\n   'state': {'brake': [8.0, 9.0, 10.0, 11.0],\n    'thrust': [4.0, 5.0, 6.0, 7.0],\n    'timestep': [1689692975255785.0,\n     1689692975275785.0,\n     1689692975295785.0,\n     1689692975315785.0],\n    'velocity': [0.0, 1.0, 2.0, 3.0]}},\n  {'timestamp': 1689707375255785.0,\n   'action': {'r0': [12.0, 13.0, 14.0, 15.0, 16.0],\n    'r1': [17.0, 18.0, 19.0, 20.0, 21.0],\n    'r2': [22.0, 23.0, 24.0, 25.0, 26.0],\n    'speed': [40.0, 50.0, 60.0],\n    'throttle': [0.0, 0.25, 0.5, 0.75, 1.0],\n    'timestep': [1689692975355785.0, 1689692975375785.0, 1689692975395785.0]},\n   'nstate': {'brake': [36.0, 37.0, 38.0, 39.0],\n    'thrust': [32.0, 33.0, 34.0, 35.0],\n    'timestep': [1689692980255785.0,\n     1689692980275785.0,\n     1689692980295785.0,\n     1689692980315785.0],\n    'velocity': [28.0, 29.0, 30.0, 31.0]},\n   'reward': {'timestep': [1689692975355785.0], 'work': [27.0]},\n   'state': {'brake': [8.0, 9.0, 10.0, 11.0],\n    'thrust': [4.0, 5.0, 6.0, 7.0],\n    'timestep': [1689692975255785.0,\n     1689692975275785.0,\n     1689692975295785.0,\n     1689692975315785.0],\n    'velocity': [0.0, 1.0, 2.0, 3.0]}},\n  {'timestamp': 1689710975255785.0,\n   'action': {'r0': [12.0, 13.0, 14.0, 15.0, 16.0],\n    'r1': [17.0, 18.0, 19.0, 20.0, 21.0],\n    'r2': [22.0, 23.0, 24.0, 25.0, 26.0],\n    'speed': [40.0, 50.0, 60.0],\n    'throttle': [0.0, 0.25, 0.5, 0.75, 1.0],\n    'timestep': [1689692975355785.0, 1689692975375785.0, 1689692975395785.0]},\n   'nstate': {'brake': [36.0, 37.0, 38.0, 39.0],\n    'thrust': [32.0, 33.0, 34.0, 35.0],\n    'timestep': [1689692980255785.0,\n     1689692980275785.0,\n     1689692980295785.0,\n     1689692980315785.0],\n    'velocity': [28.0, 29.0, 30.0, 31.0]},\n   'reward': {'timestep': [1689692975355785.0], 'work': [27.0]},\n   'state': {'brake': [8.0, 9.0, 10.0, 11.0],\n    'thrust': [4.0, 5.0, 6.0, 7.0],\n    'timestep': [1689692975255785.0,\n     1689692975275785.0,\n     1689692975295785.0,\n     1689692975315785.0],\n    'velocity': [0.0, 1.0, 2.0, 3.0]}}]}"
     },
     "execution_count": 70,
     "metadata": {},
     "output_type": "execute_result"
    }
   ],
   "source": [
    "# records_episodes = [\n",
    "#     {u'episodestart': episodes_indices_dict[0]['episodestart'],\n",
    "#      u'meta': {'episode_meta': episode_meta, 'observation_meta': observation_meta.dict()},\n",
    "#      u'sequence': episodes_dict_nested[0]},\n",
    "#     {u'episodestart': episodes_indices_dict[1]['episodestart'],\n",
    "#      u'meta': {'episode_meta': episode_meta, 'observation_meta': observation_meta.dict()},\n",
    "#      u'sequence': episodes_dict_nested[1]},\n",
    "#     {u'episodestart': episodes_indices_dict[2]['episodestart'],\n",
    "#      u'meta': {'episode_meta': episode_meta, 'observation_meta': observation_meta.dict()},\n",
    "#      u'sequence': episodes_dict_nested[2]},\n",
    "#     {u'episodestart': episodes_indices_dict[3]['episodestart'],\n",
    "#      u'meta': {'episode_meta': episode_meta, 'observation_meta': observation_meta.dict()},\n",
    "#      u'sequence': episodes_dict_nested[3]},\n",
    "#     {u'episodestart': episodes_indices_dict[4]['episodestart'],\n",
    "#      u'meta': {'episode_meta': episode_meta, 'observation_meta': observation_meta.dict()},\n",
    "#      u'sequence': episodes_dict_nested[4]},\n",
    "# ]\n",
    "\n",
    "\n",
    "records_episodes = [{'episodestart': episodes_meta_dict[i]['episodestart'],\n",
    "                     'meta': {'episode_meta': episodes_meta_dict[i], 'observation_meta': observation_meta.dict()},\n",
    "                     'sequence': episodes_dict_nested[i]} for i in range(4)]\n",
    "\n",
    "records_episodes[1]\n",
    "\n"
   ],
   "metadata": {
    "collapsed": false,
    "ExecuteTime": {
     "end_time": "2023-07-18T08:48:14.285771068Z",
     "start_time": "2023-07-18T08:48:14.197282081Z"
    }
   }
  },
  {
   "cell_type": "code",
   "execution_count": 22,
   "outputs": [
    {
     "data": {
      "text/plain": "'/home/n/devel/anting_remote/eos/data'"
     },
     "execution_count": 22,
     "metadata": {},
     "output_type": "execute_result"
    }
   ],
   "source": [
    "\n",
    "os.getcwd()"
   ],
   "metadata": {
    "collapsed": false,
    "ExecuteTime": {
     "end_time": "2023-07-18T07:42:42.996505068Z",
     "start_time": "2023-07-18T07:42:42.868836365Z"
    }
   }
  },
  {
   "cell_type": "code",
   "execution_count": 41,
   "outputs": [],
   "source": [
    "# Writing\n",
    "with open('./episodes2.avro', 'wb') as out:\n",
    "    writer(out, parsed_schema_episode, records_episodes)"
   ],
   "metadata": {
    "collapsed": false,
    "ExecuteTime": {
     "end_time": "2023-07-18T08:03:44.554398432Z",
     "start_time": "2023-07-18T08:03:44.468870438Z"
    }
   }
  },
  {
   "cell_type": "code",
   "execution_count": 42,
   "outputs": [
    {
     "name": "stdout",
     "output_type": "stream",
     "text": [
      "VB7\n",
      "wang-cheng\n",
      "2023-07-18 15:09:35.255785\n",
      "2023-07-18 16:09:35.255785\n",
      "5\n",
      "\n",
      "\n",
      "VB7\n",
      "zheng-longfei\n",
      "2023-07-16 15:09:35.316833\n",
      "2023-07-18 16:09:35.255785\n",
      "4\n",
      "\n",
      "\n",
      "MP73\n",
      "wang-cheng\n",
      "2023-07-13 15:09:35.316833\n",
      "2023-07-18 16:09:35.255785\n",
      "2\n",
      "\n",
      "\n",
      "VB7\n",
      "wang-cheng\n",
      "2023-07-12 15:09:35.316833\n",
      "2023-07-18 16:09:35.255785\n",
      "4\n",
      "\n",
      "\n"
     ]
    }
   ],
   "source": [
    "# Reading\n",
    "with open('./episodes2.avro', 'rb') as fo:\n",
    "    for record in reader(fo):\n",
    "        # print(record)\n",
    "        print(record['meta']['episode_meta']['vehicle'])\n",
    "        print(record['meta']['episode_meta']['driver'])\n",
    "        print(pd.to_datetime(record['episodestart'], unit='us'))\n",
    "        print(pd.to_datetime(record['sequence'][0]['timestamp'], unit='us'))\n",
    "        print(len(record['sequence']))\n",
    "\n",
    "        print('\\n')\n"
   ],
   "metadata": {
    "collapsed": false,
    "ExecuteTime": {
     "end_time": "2023-07-18T08:03:47.001175855Z",
     "start_time": "2023-07-18T08:03:46.971110061Z"
    }
   }
  },
  {
   "cell_type": "code",
   "execution_count": 47,
   "outputs": [
    {
     "data": {
      "text/plain": "'/home/n/devel/anting_remote/eos/data/bags'"
     },
     "execution_count": 47,
     "metadata": {},
     "output_type": "execute_result"
    }
   ],
   "source": [
    "os.chdir('bags')\n",
    "os.getcwd()"
   ],
   "metadata": {
    "collapsed": false,
    "ExecuteTime": {
     "end_time": "2023-07-18T08:12:42.733907110Z",
     "start_time": "2023-07-18T08:12:42.644642999Z"
    }
   }
  },
  {
   "cell_type": "code",
   "execution_count": 95,
   "outputs": [
    {
     "data": {
      "text/plain": "({'name': 'Alice', 'value': 100}, {'name': 'Bob', 'value': 200})"
     },
     "execution_count": 95,
     "metadata": {},
     "output_type": "execute_result"
    },
    {
     "data": {
      "text/plain": "['/home/n/devel/anting_remote/eos/data/bags/my-data.0.avro',\n '/home/n/devel/anting_remote/eos/data/bags/my-data.1.avro']"
     },
     "execution_count": 95,
     "metadata": {},
     "output_type": "execute_result"
    },
    {
     "data": {
      "text/plain": "4"
     },
     "execution_count": 95,
     "metadata": {},
     "output_type": "execute_result"
    },
    {
     "data": {
      "text/plain": "4"
     },
     "execution_count": 95,
     "metadata": {},
     "output_type": "execute_result"
    },
    {
     "data": {
      "text/plain": "['/home/n/devel/anting_remote/eos/data/bags/bag_episodes.0.avro',\n '/home/n/devel/anting_remote/eos/data/bags/bag_episodes.1.avro',\n '/home/n/devel/anting_remote/eos/data/bags/bag_episodes.2.avro',\n '/home/n/devel/anting_remote/eos/data/bags/bag_episodes.3.avro']"
     },
     "execution_count": 95,
     "metadata": {},
     "output_type": "execute_result"
    }
   ],
   "source": [
    "import dask\n",
    "import dask.bag as db\n",
    "from dask import delayed\n",
    "\n",
    "b = db.from_sequence([{'name': 'Alice', 'value': 100},\n",
    "                      {'name': 'Bob', 'value': 200}])\n",
    "b.take(2, npartitions=2)\n",
    "schema = {'name': 'People', 'doc': \"Set of people's scores\",\n",
    "          'type': 'record',\n",
    "          'fields': [\n",
    "              {'name': 'name', 'type': 'string'},\n",
    "              {'name': 'value', 'type': 'int'}]}\n",
    "b.to_avro('my-data.*.avro', schema)\n",
    "\n",
    "b_episodes = db.from_sequence(records_episodes)\n",
    "b_episodes.npartitions\n",
    "data = b_episodes.take(4,npartitions=4)\n",
    "len(data)\n",
    "b_episodes.to_avro('bag_episodes.*.avro', schema=parsed_schema_episode)\n",
    "# dd_episodes = [delayed(db.from_sequence(ep))  for ep in records_episodes]\n",
    "# # b_episodes_data = b_episodes.compute()\n",
    "# b_episodes = db.from_delayed(dd_episodes)\n",
    "# b_episodes.take(2)\n",
    "# b_episodes.to_avro('bag_episodes.*.avro', schema=parsed_schema_episode)\n",
    "#\n",
    "# # rec = b_episodes.take(1)\n",
    "#\n",
    "# b_episodes.to_avro('bag_episodes.*.avro', schema=parsed_schema_episode)\n",
    "#\n",
    "\n",
    "# rec"
   ],
   "metadata": {
    "collapsed": false,
    "ExecuteTime": {
     "end_time": "2023-07-18T08:57:02.969745409Z",
     "start_time": "2023-07-18T08:57:02.173003729Z"
    }
   }
  },
  {
   "cell_type": "code",
   "execution_count": 96,
   "outputs": [
    {
     "data": {
      "text/plain": "4"
     },
     "execution_count": 96,
     "metadata": {},
     "output_type": "execute_result"
    },
    {
     "data": {
      "text/plain": "'VB7'"
     },
     "execution_count": 96,
     "metadata": {},
     "output_type": "execute_result"
    },
    {
     "data": {
      "text/plain": "'wang-cheng'"
     },
     "execution_count": 96,
     "metadata": {},
     "output_type": "execute_result"
    }
   ],
   "source": [
    "b_episodes_read = db.read_avro('bag_episodes.*.avro')\n",
    "rec = b_episodes_read.take(4,npartitions=4)\n",
    "len(rec)\n",
    "rec[0]['meta']['episode_meta']['vehicle']\n",
    "rec[0]['meta']['episode_meta']['driver']\n"
   ],
   "metadata": {
    "collapsed": false,
    "ExecuteTime": {
     "end_time": "2023-07-18T08:57:47.170007391Z",
     "start_time": "2023-07-18T08:57:46.992845658Z"
    }
   }
  },
  {
   "cell_type": "code",
   "execution_count": 101,
   "outputs": [
    {
     "data": {
      "text/plain": "5"
     },
     "execution_count": 101,
     "metadata": {},
     "output_type": "execute_result"
    },
    {
     "data": {
      "text/plain": "['/home/n/devel/anting_remote/eos/data/bags/bag_episodes.0.avro',\n '/home/n/devel/anting_remote/eos/data/bags/bag_episodes.1.avro',\n '/home/n/devel/anting_remote/eos/data/bags/bag_episodes.2.avro',\n '/home/n/devel/anting_remote/eos/data/bags/bag_episodes.3.avro',\n '/home/n/devel/anting_remote/eos/data/bags/bag_episodes.4.avro']"
     },
     "execution_count": 101,
     "metadata": {},
     "output_type": "execute_result"
    }
   ],
   "source": [
    "records_episode_to_add = [{'episodestart': episodes_meta_dict[4]['episodestart'],\n",
    "                     'meta': {'episode_meta': episodes_meta_dict[4], 'observation_meta': observation_meta.dict()},\n",
    "                     'sequence': episodes_dict_nested[4]}]\n",
    "# records_episode_to_add\n",
    "\n",
    "b_episodes_new = db.concat([b_episodes_read,\n",
    "                            db.from_sequence(records_episode_to_add)])\n",
    "b_episodes_new.npartitions\n",
    "b_episodes_new.to_avro('bag_episodes.*.avro', schema=parsed_schema_episode)"
   ],
   "metadata": {
    "collapsed": false,
    "ExecuteTime": {
     "end_time": "2023-07-18T09:01:09.974927662Z",
     "start_time": "2023-07-18T09:01:09.786253605Z"
    }
   }
  },
  {
   "cell_type": "code",
   "execution_count": 1,
   "outputs": [
    {
     "ename": "NameError",
     "evalue": "name 'db' is not defined",
     "output_type": "error",
     "traceback": [
      "\u001B[0;31m---------------------------------------------------------------------------\u001B[0m",
      "\u001B[0;31mNameError\u001B[0m                                 Traceback (most recent call last)",
      "Cell \u001B[0;32mIn[1], line 1\u001B[0m\n\u001B[0;32m----> 1\u001B[0m b_episodes_read \u001B[38;5;241m=\u001B[39m \u001B[43mdb\u001B[49m\u001B[38;5;241m.\u001B[39mread_avro(\u001B[38;5;124m'\u001B[39m\u001B[38;5;124mbag_episodes.*.avro\u001B[39m\u001B[38;5;124m'\u001B[39m)\n\u001B[1;32m      2\u001B[0m b_episodes_read\u001B[38;5;241m.\u001B[39mnpartitions\n\u001B[1;32m      3\u001B[0m b_episodes_read\u001B[38;5;241m.\u001B[39mtake(\u001B[38;5;241m5\u001B[39m,npartitions\u001B[38;5;241m=\u001B[39m\u001B[38;5;241m5\u001B[39m)\n",
      "\u001B[0;31mNameError\u001B[0m: name 'db' is not defined"
     ]
    }
   ],
   "source": [
    "b_episodes_read = db.read_avro('bag_episodes.*.avro')\n",
    "b_episodes_read.npartitions\n",
    "b_episodes_read.take(5,npartitions=5)"
   ],
   "metadata": {
    "collapsed": false,
    "ExecuteTime": {
     "end_time": "2023-07-19T02:38:47.263947383Z",
     "start_time": "2023-07-19T02:38:47.150304750Z"
    }
   }
  },
  {
   "cell_type": "code",
   "execution_count": null,
   "outputs": [],
   "source": [],
   "metadata": {
    "collapsed": false
   }
  }
 ],
 "metadata": {
  "kernelspec": {
   "display_name": "Python 3 (ipykernel)",
   "language": "python",
   "name": "python3"
  },
  "language_info": {
   "codemirror_mode": {
    "name": "ipython",
    "version": 3
   },
   "file_extension": ".py",
   "mimetype": "text/x-python",
   "name": "python",
   "nbconvert_exporter": "python",
   "pygments_lexer": "ipython3",
   "version": "3.10.9"
  }
 },
 "nbformat": 4,
 "nbformat_minor": 5
}
