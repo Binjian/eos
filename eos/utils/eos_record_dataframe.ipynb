{
 "cells": [
  {
   "cell_type": "code",
   "execution_count": 1,
   "metadata": {
    "ExecuteTime": {
     "end_time": "2023-07-25T07:30:15.241394940Z",
     "start_time": "2023-07-25T07:30:12.069343198Z"
    }
   },
   "outputs": [],
   "source": [
    "from IPython.core.interactiveshell import InteractiveShell\n",
    "\n",
    "InteractiveShell.ast_node_interactivity = \"all\"\n",
    "\n",
    "\n",
    "class display(object):\n",
    "    \"\"\"Display HTML representation of multiple objects\"\"\"\n",
    "\n",
    "    template = \"\"\"<div style=\"float: left; padding: 10px;\">\n",
    "    <p style='font-family:\"Courier New\", Courier, monospace'>{0}</p>{1}\n",
    "    </div>\"\"\"\n",
    "\n",
    "    def __init__(self, *args):\n",
    "        self.args = args\n",
    "\n",
    "    def _repr_html_(self):\n",
    "        return '\\n'.join(\n",
    "            self.template.format(a, eval(a)._repr_html_()) for a in self.args\n",
    "        )\n",
    "\n",
    "    def __repr__(self):\n",
    "        return '\\n\\n'.join(a + '\\n' + repr(eval(a)) for a in self.args)\n",
    "\n"
   ]
  },
  {
   "cell_type": "code",
   "execution_count": 2,
   "metadata": {
    "ExecuteTime": {
     "end_time": "2023-07-25T07:30:15.244065270Z",
     "start_time": "2023-07-25T07:30:12.069502026Z"
    }
   },
   "outputs": [
    {
     "data": {
      "text/plain": "array([[1, 2, 3],\n       [4, 5, 6]])"
     },
     "execution_count": 2,
     "metadata": {},
     "output_type": "execute_result"
    },
    {
     "data": {
      "text/plain": "array([1, 2, 3, 4, 5, 6])"
     },
     "execution_count": 2,
     "metadata": {},
     "output_type": "execute_result"
    },
    {
     "data": {
      "text/plain": "array([1, 4, 2, 5, 3, 6])"
     },
     "execution_count": 2,
     "metadata": {},
     "output_type": "execute_result"
    }
   ],
   "source": [
    "import numpy as np\n",
    "\n",
    "a = np.array([[1, 2, 3], [4, 5, 6]])\n",
    "a\n",
    "\n",
    "b = a.flatten()\n",
    "b\n",
    "c = a.flatten('F')\n",
    "c"
   ]
  },
  {
   "cell_type": "code",
   "execution_count": 3,
   "metadata": {
    "ExecuteTime": {
     "end_time": "2023-07-25T07:30:18.621471640Z",
     "start_time": "2023-07-25T07:30:12.413473833Z"
    }
   },
   "outputs": [
    {
     "name": "stdout",
     "output_type": "stream",
     "text": [
      "Pool.__init_subclass__(): ~DocItemT; Concrete Class: (eos.data_io.pool.pool.Pool[~DocItemT], typing.Generic[~DocItemT])\n",
      "Pool.__init_subclass__(): <class 'pandas.core.frame.DataFrame'>; Concrete Class: (eos.data_io.pool.pool.Pool[pandas.core.frame.DataFrame],)\n",
      "Pool.__init_subclass__(): <class 'eos.data_io.struct.eos_data.RecordDoc'>; Concrete Class: (eos.data_io.pool.pool.Pool[eos.data_io.struct.eos_data.RecordDoc],)\n",
      "Pool.__init_subclass__(): <class 'pandas.core.frame.DataFrame'>; Concrete Class: (eos.data_io.pool.pool.Pool[pandas.core.frame.DataFrame],)\n",
      "Pool.__init_subclass__(): <class 'pandas.core.frame.DataFrame'>; Concrete Class: (eos.data_io.pool.pool.Pool[pandas.core.frame.DataFrame],)\n",
      "Pool.__init_subclass__(): <class 'pandas.core.frame.DataFrame'>; Concrete Class: (eos.data_io.pool.pool.Pool[pandas.core.frame.DataFrame],)\n",
      "Pool.__init_subclass__(): ~DocItemT; Concrete Class: (eos.data_io.pool.pool.Pool[~DocItemT], typing.Generic[~DocItemT])\n",
      "Pool.__init_subclass__(): ~DocItemT; Concrete Class: (eos.data_io.buffer.buffer.Buffer[~DocItemT], typing.Generic[~DocItemT])\n"
     ]
    },
    {
     "name": "stderr",
     "output_type": "stream",
     "text": [
      "2023-07-25 15:30:15.314252: I tensorflow/tsl/cuda/cudart_stub.cc:28] Could not find cuda drivers on your machine, GPU will not be used.\n",
      "2023-07-25 15:30:15.351411: I tensorflow/tsl/cuda/cudart_stub.cc:28] Could not find cuda drivers on your machine, GPU will not be used.\n",
      "2023-07-25 15:30:15.352492: I tensorflow/core/platform/cpu_feature_guard.cc:182] This TensorFlow binary is optimized to use available CPU instructions in performance-critical operations.\n",
      "To enable the following instructions: AVX2 FMA, in other operations, rebuild TensorFlow with the appropriate compiler flags.\n"
     ]
    },
    {
     "name": "stdout",
     "output_type": "stream",
     "text": [
      "Pool.__init_subclass__(): <class 'pandas.core.frame.DataFrame'>; Concrete Class: (eos.data_io.buffer.buffer.Buffer[pandas.core.frame.DataFrame],)\n",
      "Pool.__init_subclass__(): <class 'pandas.core.frame.DataFrame'>; Concrete Class: (eos.data_io.buffer.buffer.Buffer[pandas.core.frame.DataFrame],)\n"
     ]
    }
   ],
   "source": [
    "from dataclasses import dataclass, field\n",
    "from typing import Optional\n",
    "import pandas as pd\n",
    "import numpy as np\n",
    "from ordered_set import OrderedSet\n",
    "from eos.data_io.config import drivers, trucks_by_id, drivers_by_id\n",
    "\n",
    "# DriverSet = OrderedSet(\n",
    "#     [\n",
    "#         'wang-cheng',\n",
    "#         'li-changlong',\n",
    "#         'chen-hongmei',\n",
    "#         'zheng-longfei',\n",
    "#     ]\n",
    "# )\n",
    "# DriverSet[0]\n",
    "# DriverSet.get_loc('wang-cheng')\n",
    "# DriverSet\n"
   ]
  },
  {
   "cell_type": "code",
   "execution_count": 4,
   "metadata": {
    "ExecuteTime": {
     "end_time": "2023-07-25T07:30:18.876666888Z",
     "start_time": "2023-07-25T07:30:18.680568177Z"
    }
   },
   "outputs": [
    {
     "data": {
      "text/plain": "DatetimeIndex(['2023-07-25 15:30:18.618680', '2023-07-25 16:30:18.618680'], dtype='datetime64[ns]', freq=None)"
     },
     "execution_count": 4,
     "metadata": {},
     "output_type": "execute_result"
    },
    {
     "data": {
      "text/plain": "                            c1  c2  c3\n2023-07-25 15:30:18.618680   1   2   3\n2023-07-25 16:30:18.618680   4   5   6",
      "text/html": "<div>\n<style scoped>\n    .dataframe tbody tr th:only-of-type {\n        vertical-align: middle;\n    }\n\n    .dataframe tbody tr th {\n        vertical-align: top;\n    }\n\n    .dataframe thead th {\n        text-align: right;\n    }\n</style>\n<table border=\"1\" class=\"dataframe\">\n  <thead>\n    <tr style=\"text-align: right;\">\n      <th></th>\n      <th>c1</th>\n      <th>c2</th>\n      <th>c3</th>\n    </tr>\n  </thead>\n  <tbody>\n    <tr>\n      <th>2023-07-25 15:30:18.618680</th>\n      <td>1</td>\n      <td>2</td>\n      <td>3</td>\n    </tr>\n    <tr>\n      <th>2023-07-25 16:30:18.618680</th>\n      <td>4</td>\n      <td>5</td>\n      <td>6</td>\n    </tr>\n  </tbody>\n</table>\n</div>"
     },
     "execution_count": 4,
     "metadata": {},
     "output_type": "execute_result"
    },
    {
     "data": {
      "text/plain": "Timestamp('2023-07-25 15:30:18.618680')"
     },
     "execution_count": 4,
     "metadata": {},
     "output_type": "execute_result"
    }
   ],
   "source": [
    "import pandas as pd\n",
    "import numpy as np\n",
    "from datetime import datetime\n",
    "\n",
    "ts = pd.to_datetime(datetime.now())\n",
    "ts_ind = ts + pd.to_timedelta(np.arange(2), 'H')\n",
    "ts_ind\n",
    "df = pd.DataFrame(a, index=ts_ind, columns=['c1', 'c2', 'c3'])\n",
    "df\n",
    "df.index[0]\n"
   ]
  },
  {
   "cell_type": "code",
   "execution_count": 5,
   "metadata": {
    "ExecuteTime": {
     "end_time": "2023-07-25T07:30:18.894369524Z",
     "start_time": "2023-07-25T07:30:18.761241324Z"
    }
   },
   "outputs": [
    {
     "data": {
      "text/plain": "Timestamp('2023-07-25 15:30:18.618680')"
     },
     "execution_count": 5,
     "metadata": {},
     "output_type": "execute_result"
    },
    {
     "data": {
      "text/plain": "Timestamp('2023-07-25 15:30:18.761221')"
     },
     "execution_count": 5,
     "metadata": {},
     "output_type": "execute_result"
    },
    {
     "data": {
      "text/plain": "Timedelta('0 days 00:00:00.142541')"
     },
     "execution_count": 5,
     "metadata": {},
     "output_type": "execute_result"
    },
    {
     "data": {
      "text/plain": "Timedelta('0 days 00:00:00.035635250')"
     },
     "execution_count": 5,
     "metadata": {},
     "output_type": "execute_result"
    },
    {
     "data": {
      "text/plain": "array([0., 1., 2., 3., 4.])"
     },
     "execution_count": 5,
     "metadata": {},
     "output_type": "execute_result"
    },
    {
     "data": {
      "text/plain": "DatetimeIndex(['2023-07-25 15:30:18.654315250',\n               '2023-07-25 15:30:18.689950500',\n               '2023-07-25 15:30:18.725585750',\n                  '2023-07-25 15:30:18.761221'],\n              dtype='datetime64[ns]', freq=None)"
     },
     "execution_count": 5,
     "metadata": {},
     "output_type": "execute_result"
    }
   ],
   "source": [
    "ts\n",
    "ts_end = pd.to_datetime(datetime.now())\n",
    "ts_end\n",
    "span = ts_end - ts\n",
    "span\n",
    "span_each_row = span / 4\n",
    "span_each_row\n",
    "np.linspace(0, 4, 5)\n",
    "ts_ser = ts + pd.to_timedelta(np.linspace(1, 4, 4) * span_each_row, unit='s')\n",
    "ts_ser\n"
   ]
  },
  {
   "cell_type": "code",
   "execution_count": 6,
   "metadata": {
    "ExecuteTime": {
     "end_time": "2023-07-25T07:30:18.894532358Z",
     "start_time": "2023-07-25T07:30:18.837351156Z"
    }
   },
   "outputs": [
    {
     "data": {
      "text/plain": "                   timestamp\n0 2023-07-25 15:30:18.618680",
      "text/html": "<div>\n<style scoped>\n    .dataframe tbody tr th:only-of-type {\n        vertical-align: middle;\n    }\n\n    .dataframe tbody tr th {\n        vertical-align: top;\n    }\n\n    .dataframe thead th {\n        text-align: right;\n    }\n</style>\n<table border=\"1\" class=\"dataframe\">\n  <thead>\n    <tr style=\"text-align: right;\">\n      <th></th>\n      <th>timestamp</th>\n    </tr>\n  </thead>\n  <tbody>\n    <tr>\n      <th>0</th>\n      <td>2023-07-25 15:30:18.618680</td>\n    </tr>\n  </tbody>\n</table>\n</div>"
     },
     "execution_count": 6,
     "metadata": {},
     "output_type": "execute_result"
    }
   ],
   "source": [
    "df_ts = pd.DataFrame(np.array([ts]), columns=['timestamp'])\n",
    "df_ts"
   ]
  },
  {
   "cell_type": "code",
   "execution_count": 7,
   "metadata": {
    "ExecuteTime": {
     "end_time": "2023-07-25T07:30:18.894630202Z",
     "start_time": "2023-07-25T07:30:18.837438529Z"
    }
   },
   "outputs": [
    {
     "data": {
      "text/plain": "array([0, 1, 2, 3, 4, 5, 6, 7, 8, 9])"
     },
     "execution_count": 7,
     "metadata": {},
     "output_type": "execute_result"
    }
   ],
   "source": [
    "s = np.arange(10)\n",
    "s"
   ]
  },
  {
   "cell_type": "markdown",
   "metadata": {},
   "source": [
    "### Generate state"
   ]
  },
  {
   "cell_type": "code",
   "execution_count": 8,
   "metadata": {
    "ExecuteTime": {
     "end_time": "2023-07-25T07:30:18.894758522Z",
     "start_time": "2023-07-25T07:30:18.837496478Z"
    }
   },
   "outputs": [
    {
     "data": {
      "text/plain": "[[0, 1, 2, 3], [4, 5, 6, 7], [8, 9, 10, 11]]"
     },
     "execution_count": 8,
     "metadata": {},
     "output_type": "execute_result"
    },
    {
     "data": {
      "text/plain": "   t  v   p   b\n0  0  1   2   3\n1  4  5   6   7\n2  8  9  10  11",
      "text/html": "<div>\n<style scoped>\n    .dataframe tbody tr th:only-of-type {\n        vertical-align: middle;\n    }\n\n    .dataframe tbody tr th {\n        vertical-align: top;\n    }\n\n    .dataframe thead th {\n        text-align: right;\n    }\n</style>\n<table border=\"1\" class=\"dataframe\">\n  <thead>\n    <tr style=\"text-align: right;\">\n      <th></th>\n      <th>t</th>\n      <th>v</th>\n      <th>p</th>\n      <th>b</th>\n    </tr>\n  </thead>\n  <tbody>\n    <tr>\n      <th>0</th>\n      <td>0</td>\n      <td>1</td>\n      <td>2</td>\n      <td>3</td>\n    </tr>\n    <tr>\n      <th>1</th>\n      <td>4</td>\n      <td>5</td>\n      <td>6</td>\n      <td>7</td>\n    </tr>\n    <tr>\n      <th>2</th>\n      <td>8</td>\n      <td>9</td>\n      <td>10</td>\n      <td>11</td>\n    </tr>\n  </tbody>\n</table>\n</div>"
     },
     "execution_count": 8,
     "metadata": {},
     "output_type": "execute_result"
    }
   ],
   "source": [
    "ss = np.arange(12)\n",
    "a1 = ss[:4].tolist()\n",
    "a2 = ss[4:8].tolist()\n",
    "a3 = ss[8:].tolist()\n",
    "ss = [a1, a2, a3]\n",
    "ss\n",
    "df_s = pd.DataFrame(ss, columns=['t', 'v', 'p', 'b'])  # .set_index('t')\n",
    "df_s"
   ]
  },
  {
   "cell_type": "code",
   "execution_count": 9,
   "metadata": {
    "ExecuteTime": {
     "end_time": "2023-07-25T07:30:18.894851466Z",
     "start_time": "2023-07-25T07:30:18.837570016Z"
    }
   },
   "outputs": [
    {
     "data": {
      "text/plain": "array([ 0, 20, 40, 60])"
     },
     "execution_count": 9,
     "metadata": {},
     "output_type": "execute_result"
    }
   ],
   "source": [
    "np.arange(0, 4 * 20, 20)"
   ]
  },
  {
   "cell_type": "code",
   "execution_count": 10,
   "metadata": {
    "ExecuteTime": {
     "end_time": "2023-07-25T07:30:19.069849339Z",
     "start_time": "2023-07-25T07:30:18.887254902Z"
    }
   },
   "outputs": [
    {
     "data": {
      "text/plain": "DatetimeIndex(['2023-07-25 15:30:18.618680', '2023-07-25 15:30:18.638680',\n               '2023-07-25 15:30:18.658680', '2023-07-25 15:30:18.678680'],\n              dtype='datetime64[ns]', freq=None)"
     },
     "execution_count": 10,
     "metadata": {},
     "output_type": "execute_result"
    },
    {
     "data": {
      "text/plain": "tuple                   timestep  velocity  thrust  brake\n0     2023-07-25 15:30:18.618680         0       4      8\n1     2023-07-25 15:30:18.638680         1       5      9\n2     2023-07-25 15:30:18.658680         2       6     10\n3     2023-07-25 15:30:18.678680         3       7     11",
      "text/html": "<div>\n<style scoped>\n    .dataframe tbody tr th:only-of-type {\n        vertical-align: middle;\n    }\n\n    .dataframe tbody tr th {\n        vertical-align: top;\n    }\n\n    .dataframe thead th {\n        text-align: right;\n    }\n</style>\n<table border=\"1\" class=\"dataframe\">\n  <thead>\n    <tr style=\"text-align: right;\">\n      <th>tuple</th>\n      <th>timestep</th>\n      <th>velocity</th>\n      <th>thrust</th>\n      <th>brake</th>\n    </tr>\n  </thead>\n  <tbody>\n    <tr>\n      <th>0</th>\n      <td>2023-07-25 15:30:18.618680</td>\n      <td>0</td>\n      <td>4</td>\n      <td>8</td>\n    </tr>\n    <tr>\n      <th>1</th>\n      <td>2023-07-25 15:30:18.638680</td>\n      <td>1</td>\n      <td>5</td>\n      <td>9</td>\n    </tr>\n    <tr>\n      <th>2</th>\n      <td>2023-07-25 15:30:18.658680</td>\n      <td>2</td>\n      <td>6</td>\n      <td>10</td>\n    </tr>\n    <tr>\n      <th>3</th>\n      <td>2023-07-25 15:30:18.678680</td>\n      <td>3</td>\n      <td>7</td>\n      <td>11</td>\n    </tr>\n  </tbody>\n</table>\n</div>"
     },
     "execution_count": 10,
     "metadata": {},
     "output_type": "execute_result"
    },
    {
     "data": {
      "text/plain": "tuple  velocity  thrust  brake\n0             0       4      8\n1             1       5      9\n2             2       6     10\n3             3       7     11",
      "text/html": "<div>\n<style scoped>\n    .dataframe tbody tr th:only-of-type {\n        vertical-align: middle;\n    }\n\n    .dataframe tbody tr th {\n        vertical-align: top;\n    }\n\n    .dataframe thead th {\n        text-align: right;\n    }\n</style>\n<table border=\"1\" class=\"dataframe\">\n  <thead>\n    <tr style=\"text-align: right;\">\n      <th>tuple</th>\n      <th>velocity</th>\n      <th>thrust</th>\n      <th>brake</th>\n    </tr>\n  </thead>\n  <tbody>\n    <tr>\n      <th>0</th>\n      <td>0</td>\n      <td>4</td>\n      <td>8</td>\n    </tr>\n    <tr>\n      <th>1</th>\n      <td>1</td>\n      <td>5</td>\n      <td>9</td>\n    </tr>\n    <tr>\n      <th>2</th>\n      <td>2</td>\n      <td>6</td>\n      <td>10</td>\n    </tr>\n    <tr>\n      <th>3</th>\n      <td>3</td>\n      <td>7</td>\n      <td>11</td>\n    </tr>\n  </tbody>\n</table>\n</div>"
     },
     "execution_count": 10,
     "metadata": {},
     "output_type": "execute_result"
    }
   ],
   "source": [
    "ts_ind = ts + pd.to_timedelta(np.arange(0, 4 * 20, 20), 'ms')\n",
    "ts_ind\n",
    "ss = np.arange(12)\n",
    "a1 = ss[:4]\n",
    "a2 = ss[4:8]\n",
    "a3 = ss[8:]\n",
    "df_ss = pd.DataFrame(\n",
    "    {'timestep': ts_ind, 'velocity': a1, 'thrust': a2, 'brake': a3}\n",
    ")  # .set_index('timestep')\n",
    "df_ss.columns.name = 'tuple'\n",
    "df_ss\n",
    "df_ss[['velocity', 'thrust', 'brake']]"
   ]
  },
  {
   "cell_type": "code",
   "execution_count": 11,
   "metadata": {
    "ExecuteTime": {
     "end_time": "2023-07-25T07:30:19.087605745Z",
     "start_time": "2023-07-25T07:30:18.950714268Z"
    }
   },
   "outputs": [
    {
     "data": {
      "text/plain": "array([ 0,  4,  8,  1,  5,  9,  2,  6, 10,  3,  7, 11])"
     },
     "execution_count": 11,
     "metadata": {},
     "output_type": "execute_result"
    }
   ],
   "source": [
    "npa_ss_flatten = df_ss[['velocity', 'thrust', 'brake']].to_numpy().flatten()\n",
    "npa_ss_flatten"
   ]
  },
  {
   "cell_type": "code",
   "execution_count": 12,
   "metadata": {
    "ExecuteTime": {
     "end_time": "2023-07-25T07:30:19.087903522Z",
     "start_time": "2023-07-25T07:30:18.955285447Z"
    }
   },
   "outputs": [
    {
     "data": {
      "text/plain": "tuple  velocity  thrust\n0             0       4\n1             1       5\n2             2       6\n3             3       7",
      "text/html": "<div>\n<style scoped>\n    .dataframe tbody tr th:only-of-type {\n        vertical-align: middle;\n    }\n\n    .dataframe tbody tr th {\n        vertical-align: top;\n    }\n\n    .dataframe thead th {\n        text-align: right;\n    }\n</style>\n<table border=\"1\" class=\"dataframe\">\n  <thead>\n    <tr style=\"text-align: right;\">\n      <th>tuple</th>\n      <th>velocity</th>\n      <th>thrust</th>\n    </tr>\n  </thead>\n  <tbody>\n    <tr>\n      <th>0</th>\n      <td>0</td>\n      <td>4</td>\n    </tr>\n    <tr>\n      <th>1</th>\n      <td>1</td>\n      <td>5</td>\n    </tr>\n    <tr>\n      <th>2</th>\n      <td>2</td>\n      <td>6</td>\n    </tr>\n    <tr>\n      <th>3</th>\n      <td>3</td>\n      <td>7</td>\n    </tr>\n  </tbody>\n</table>\n</div>"
     },
     "execution_count": 12,
     "metadata": {},
     "output_type": "execute_result"
    },
    {
     "data": {
      "text/plain": "0     0\n1     5\n2    12\n3    21\ndtype: int64"
     },
     "execution_count": 12,
     "metadata": {},
     "output_type": "execute_result"
    },
    {
     "data": {
      "text/plain": "38"
     },
     "execution_count": 12,
     "metadata": {},
     "output_type": "execute_result"
    }
   ],
   "source": [
    "ui_t = df_ss.loc[:, ['velocity', 'thrust']]\n",
    "ui_t\n",
    "power_t = ui_t.prod(axis=1)\n",
    "power_t\n",
    "power_t.sum()"
   ]
  },
  {
   "cell_type": "code",
   "execution_count": 13,
   "metadata": {
    "ExecuteTime": {
     "end_time": "2023-07-25T07:30:19.202724676Z",
     "start_time": "2023-07-25T07:30:18.974799774Z"
    }
   },
   "outputs": [
    {
     "data": {
      "text/plain": "rows      idx\nbrake     0                               8\n          1                               9\n          2                              10\n          3                              11\nthrust    0                               4\n          1                               5\n          2                               6\n          3                               7\ntimestep  0      2023-07-25 15:30:18.618680\n          1      2023-07-25 15:30:18.638680\n          2      2023-07-25 15:30:18.658680\n          3      2023-07-25 15:30:18.678680\nvelocity  0                               0\n          1                               1\n          2                               2\n          3                               3\nName: state, dtype: object"
     },
     "execution_count": 13,
     "metadata": {},
     "output_type": "execute_result"
    }
   ],
   "source": [
    "state = df_ss.stack().swaplevel(0, 1)\n",
    "state.name = 'state'\n",
    "state.index.names = ['rows', 'idx']\n",
    "state.sort_index(inplace=True)\n",
    "state"
   ]
  },
  {
   "cell_type": "code",
   "execution_count": 14,
   "metadata": {
    "ExecuteTime": {
     "end_time": "2023-07-25T07:30:19.203048462Z",
     "start_time": "2023-07-25T07:30:19.109290296Z"
    }
   },
   "outputs": [
    {
     "data": {
      "text/plain": "pandas.core.series.Series"
     },
     "execution_count": 14,
     "metadata": {},
     "output_type": "execute_result"
    },
    {
     "data": {
      "text/plain": "rows      idx\nbrake     0                               8\n          1                               9\n          2                              10\n          3                              11\nthrust    0                               4\n          1                               5\n          2                               6\n          3                               7\ntimestep  0      2023-07-25 15:30:18.618680\n          1      2023-07-25 15:30:18.638680\n          2      2023-07-25 15:30:18.658680\n          3      2023-07-25 15:30:18.678680\nvelocity  0                               0\n          1                               1\n          2                               2\n          3                               3\nName: state, dtype: object"
     },
     "execution_count": 14,
     "metadata": {},
     "output_type": "execute_result"
    }
   ],
   "source": [
    "type(state)\n",
    "state"
   ]
  },
  {
   "cell_type": "code",
   "execution_count": 15,
   "outputs": [
    {
     "data": {
      "text/plain": "rows      idx\nvelocity  0       0\n          1       1\n          2       2\n          3       3\nthrust    0       4\n          1       5\n          2       6\n          3       7\nbrake     0       8\n          1       9\n          2      10\n          3      11\nName: state, dtype: object"
     },
     "execution_count": 15,
     "metadata": {},
     "output_type": "execute_result"
    },
    {
     "data": {
      "text/plain": "array([0, 1, 2, 3, 4, 5, 6, 7, 8, 9, 10, 11], dtype=object)"
     },
     "execution_count": 15,
     "metadata": {},
     "output_type": "execute_result"
    }
   ],
   "source": [
    "# idx = pd.IndexSlice\n",
    "state_stripped = state[['velocity', 'thrust', 'brake']]\n",
    "state_stripped\n",
    "state_stripped.values"
   ],
   "metadata": {
    "collapsed": false,
    "ExecuteTime": {
     "end_time": "2023-07-25T07:30:19.267034475Z",
     "start_time": "2023-07-25T07:30:19.109392006Z"
    }
   }
  },
  {
   "cell_type": "code",
   "execution_count": 16,
   "metadata": {
    "ExecuteTime": {
     "end_time": "2023-07-25T07:30:19.267152707Z",
     "start_time": "2023-07-25T07:30:19.153365629Z"
    }
   },
   "outputs": [],
   "source": [
    "# from functools import reduce\n",
    "#\n",
    "#\n",
    "# velocity = pd.Series(ss[:4], name='velocity')\n",
    "# thrust = pd.Series(ss[4:8], name='thrust')\n",
    "# brake = pd.Series(ss[8:], name='brake')\n",
    "# series = [velocity, thrust, brake]\n",
    "# state = reduce(\n",
    "#     lambda x, y: pd.merge(x, y, how='outer', left_index=True, right_index=True), series\n",
    "# )\n",
    "# state = state.stack().swaplevel(0, 1).sort_index()\n",
    "# state.name = 'state'\n",
    "# state\n",
    "# len(state)\n"
   ]
  },
  {
   "cell_type": "code",
   "execution_count": 17,
   "metadata": {
    "ExecuteTime": {
     "end_time": "2023-07-25T07:30:19.267199935Z",
     "start_time": "2023-07-25T07:30:19.153436902Z"
    }
   },
   "outputs": [],
   "source": [
    "# from functools import reduce\n",
    "#\n",
    "#\n",
    "# velocity = pd.Series(s[:4], name='velocity')\n",
    "# thrust = pd.Series(s[4:7], name='thrust')\n",
    "# brake = pd.Series(s[7:], name='brake')\n",
    "# series = [velocity, thrust, brake]\n",
    "# state = reduce(\n",
    "#     lambda x, y: pd.merge(x, y, how='outer', left_index=True, right_index=True), series\n",
    "# )\n",
    "# state = state.stack().swaplevel(0, 1).sort_index()\n",
    "# state.name = 'state'\n",
    "# state\n",
    "# len(state)\n",
    "#\n",
    "#"
   ]
  },
  {
   "cell_type": "markdown",
   "metadata": {},
   "source": [
    "### generate action"
   ]
  },
  {
   "cell_type": "code",
   "execution_count": 61,
   "metadata": {
    "ExecuteTime": {
     "end_time": "2023-07-25T07:39:51.355227062Z",
     "start_time": "2023-07-25T07:39:51.310463608Z"
    }
   },
   "outputs": [
    {
     "data": {
      "text/plain": "{'r0': array([12, 13, 14, 15, 16]),\n 'r1': array([17, 18, 19, 20, 21]),\n 'r2': array([22, 23, 24, 25, 26])}"
     },
     "execution_count": 61,
     "metadata": {},
     "output_type": "execute_result"
    },
    {
     "data": {
      "text/plain": "array([[12, 17, 22],\n       [13, 18, 23],\n       [14, 19, 24],\n       [15, 20, 25],\n       [16, 21, 26]])"
     },
     "execution_count": 61,
     "metadata": {},
     "output_type": "execute_result"
    },
    {
     "data": {
      "text/plain": "   r0  r1  r2\n0  12  17  22\n1  13  18  23\n2  14  19  24\n3  15  20  25\n4  16  21  26",
      "text/html": "<div>\n<style scoped>\n    .dataframe tbody tr th:only-of-type {\n        vertical-align: middle;\n    }\n\n    .dataframe tbody tr th {\n        vertical-align: top;\n    }\n\n    .dataframe thead th {\n        text-align: right;\n    }\n</style>\n<table border=\"1\" class=\"dataframe\">\n  <thead>\n    <tr style=\"text-align: right;\">\n      <th></th>\n      <th>r0</th>\n      <th>r1</th>\n      <th>r2</th>\n    </tr>\n  </thead>\n  <tbody>\n    <tr>\n      <th>0</th>\n      <td>12</td>\n      <td>17</td>\n      <td>22</td>\n    </tr>\n    <tr>\n      <th>1</th>\n      <td>13</td>\n      <td>18</td>\n      <td>23</td>\n    </tr>\n    <tr>\n      <th>2</th>\n      <td>14</td>\n      <td>19</td>\n      <td>24</td>\n    </tr>\n    <tr>\n      <th>3</th>\n      <td>15</td>\n      <td>20</td>\n      <td>25</td>\n    </tr>\n    <tr>\n      <th>4</th>\n      <td>16</td>\n      <td>21</td>\n      <td>26</td>\n    </tr>\n  </tbody>\n</table>\n</div>"
     },
     "execution_count": 61,
     "metadata": {},
     "output_type": "execute_result"
    }
   ],
   "source": [
    "from functools import reduce\n",
    "\n",
    "a = len(ss) + np.arange(15)\n",
    "speed_ser = pd.Series(np.linspace(40, 60, 3), name='speed')\n",
    "# row_ser\n",
    "row_dict = {f'r{i}': a[i * 5 : i * 5 + 5] for i in np.arange(3)}\n",
    "row_dict\n",
    "row_array = a.reshape(3, 5).transpose()\n",
    "row_array\n",
    "rows_df = pd.DataFrame(row_array)\n",
    "rows_df.columns = [f'r{i}' for i in np.arange(3)]\n",
    "rows_df\n"
   ]
  },
  {
   "cell_type": "code",
   "execution_count": 19,
   "outputs": [
    {
     "data": {
      "text/plain": "MultiIndex([(      'r0', 0),\n            (      'r0', 1),\n            (      'r0', 2),\n            (      'r0', 3),\n            (      'r0', 4),\n            (      'r1', 0),\n            (      'r1', 1),\n            (      'r1', 2),\n            (      'r1', 3),\n            (      'r1', 4),\n            (      'r2', 0),\n            (      'r2', 1),\n            (      'r2', 2),\n            (      'r2', 3),\n            (      'r2', 4),\n            (   'speed', 0),\n            (   'speed', 1),\n            (   'speed', 2),\n            ('throttle', 0),\n            ('throttle', 1),\n            ('throttle', 2),\n            ('throttle', 3),\n            ('throttle', 4),\n            ('timestep', 0),\n            ('timestep', 1),\n            ('timestep', 2)],\n           names=['rows', 'idx'])"
     },
     "execution_count": 19,
     "metadata": {},
     "output_type": "execute_result"
    },
    {
     "data": {
      "text/plain": "rows      idx\nr0        0                              12\n          1                              13\n          2                              14\n          3                              15\n          4                              16\nr1        0                              17\n          1                              18\n          2                              19\n          3                              20\n          4                              21\nr2        0                              22\n          1                              23\n          2                              24\n          3                              25\n          4                              26\nspeed     0                            40.0\n          1                            50.0\n          2                            60.0\nthrottle  0                             0.0\n          1                            0.25\n          2                             0.5\n          3                            0.75\n          4                             1.0\ntimestep  0      2023-07-25 15:30:18.718680\n          1      2023-07-25 15:30:18.738680\n          2      2023-07-25 15:30:18.758680\nName: action, dtype: object"
     },
     "execution_count": 19,
     "metadata": {},
     "output_type": "execute_result"
    }
   ],
   "source": [
    "\n",
    "ts_ind = ts + pd.to_timedelta(np.arange(5 * 20, 8 * 20, 20), 'ms')\n",
    "ts_ser = pd.Series(ts_ind, name='timestep')\n",
    "throttle_ser = pd.Series(np.linspace(0, 1.0, 5), name='throttle')\n",
    "# throttle_ser\n",
    "dfs = [rows_df, ts_ser, speed_ser, throttle_ser]\n",
    "action = (\n",
    "    reduce(\n",
    "        lambda left, right: pd.merge(\n",
    "            left, right, how='outer', left_index=True, right_index=True\n",
    "        ),\n",
    "        dfs,\n",
    "    )\n",
    "    .stack()\n",
    "    .swaplevel(0, 1)\n",
    "    .sort_index()\n",
    ")\n",
    "\n",
    "action.name = 'action'\n",
    "action.index.names = ['rows', 'idx']\n",
    "action.index\n",
    "action\n",
    "# action = pd.concat([df.DataFrame(row_dict),df.Series(row_ind),df.Series(ts_ind),df.Series(pedal_ind)],axis=1)\n",
    "# action\n",
    "# pedal_ind\n",
    "# action_ind = pd.MultiIndex.from_product([row_ind, ts_ind], names=['row', 'timestamp'])\n",
    "# a\n",
    "# speed_row, row_name = *row_dict\n",
    "# action = (\n",
    "#     pd.DataFrame(\n",
    "#         {\n",
    "#             **row_dict,\n",
    "#             'throttle': pedal_ind,\n",
    "#             'speed': [r[1] for r in row_ind],\n",
    "#         }\n",
    "#     )  # .set_index('pedal')\n",
    "#     # .stack()\n",
    "#     # .swaplevel(0, 1)\n",
    "#     .sort_index()\n",
    "# )\n",
    "# action\n",
    "# action.columns\n",
    "# action.columns = pd.MultiIndex.from_arrays(\n",
    "#     [action.columns, ts_ind], names=['nominalspeed', 'timestep']\n",
    "# )\n",
    "# action = action.stack([0, 1]).swaplevel(0, 1).swaplevel(1, 2).sort_index()\n",
    "# action.name = 'action'\n",
    "# # action.index.names = ['nominalspeed', 'timestamp']\n",
    "# # action.index\n",
    "# action"
   ],
   "metadata": {
    "collapsed": false
   }
  },
  {
   "cell_type": "code",
   "execution_count": 65,
   "outputs": [
    {
     "data": {
      "text/plain": "   r0  r1  r2                   timestep  speed  throttle\n0  12  17  22 2023-07-25 15:30:18.718680   40.0      0.00\n1  13  18  23 2023-07-25 15:30:18.738680   50.0      0.25\n2  14  19  24 2023-07-25 15:30:18.758680   60.0      0.50\n3  15  20  25                        NaT    NaN      0.75\n4  16  21  26                        NaT    NaN      1.00",
      "text/html": "<div>\n<style scoped>\n    .dataframe tbody tr th:only-of-type {\n        vertical-align: middle;\n    }\n\n    .dataframe tbody tr th {\n        vertical-align: top;\n    }\n\n    .dataframe thead th {\n        text-align: right;\n    }\n</style>\n<table border=\"1\" class=\"dataframe\">\n  <thead>\n    <tr style=\"text-align: right;\">\n      <th></th>\n      <th>r0</th>\n      <th>r1</th>\n      <th>r2</th>\n      <th>timestep</th>\n      <th>speed</th>\n      <th>throttle</th>\n    </tr>\n  </thead>\n  <tbody>\n    <tr>\n      <th>0</th>\n      <td>12</td>\n      <td>17</td>\n      <td>22</td>\n      <td>2023-07-25 15:30:18.718680</td>\n      <td>40.0</td>\n      <td>0.00</td>\n    </tr>\n    <tr>\n      <th>1</th>\n      <td>13</td>\n      <td>18</td>\n      <td>23</td>\n      <td>2023-07-25 15:30:18.738680</td>\n      <td>50.0</td>\n      <td>0.25</td>\n    </tr>\n    <tr>\n      <th>2</th>\n      <td>14</td>\n      <td>19</td>\n      <td>24</td>\n      <td>2023-07-25 15:30:18.758680</td>\n      <td>60.0</td>\n      <td>0.50</td>\n    </tr>\n    <tr>\n      <th>3</th>\n      <td>15</td>\n      <td>20</td>\n      <td>25</td>\n      <td>NaT</td>\n      <td>NaN</td>\n      <td>0.75</td>\n    </tr>\n    <tr>\n      <th>4</th>\n      <td>16</td>\n      <td>21</td>\n      <td>26</td>\n      <td>NaT</td>\n      <td>NaN</td>\n      <td>1.00</td>\n    </tr>\n  </tbody>\n</table>\n</div>"
     },
     "execution_count": 65,
     "metadata": {},
     "output_type": "execute_result"
    },
    {
     "data": {
      "text/plain": "pandas.core.series.Series"
     },
     "execution_count": 65,
     "metadata": {},
     "output_type": "execute_result"
    }
   ],
   "source": [
    "# action = (\n",
    "#     reduce(\n",
    "#         lambda left, right: pd.merge(\n",
    "#             left, right, how='outer', left_index=True, right_index=True\n",
    "#         ),\n",
    "#         dfs,\n",
    "#     )\n",
    "#     .stack()\n",
    "#     .swaplevel(0, 1)\n",
    "#     .sort_index()\n",
    "# )\n",
    "#\n",
    "# action.name = 'action'\n",
    "# action.index.names = ['rows', 'idx']\n",
    "# action.index\n",
    "# action\n",
    "action1 = reduce(\n",
    "        lambda left, right: pd.merge(\n",
    "            left, right, how='outer', left_index=True, right_index=True\n",
    "        ),\n",
    "        dfs,\n",
    "    )\n",
    "action1\n",
    "action2 = action1.stack()\n",
    "type(action2)\n"
   ],
   "metadata": {
    "collapsed": false,
    "ExecuteTime": {
     "end_time": "2023-07-25T07:46:37.327354781Z",
     "start_time": "2023-07-25T07:46:37.279896487Z"
    }
   }
  },
  {
   "cell_type": "code",
   "execution_count": 60,
   "outputs": [
    {
     "data": {
      "text/plain": "Timestamp('2023-07-25 15:30:18.618680')"
     },
     "execution_count": 60,
     "metadata": {},
     "output_type": "execute_result"
    },
    {
     "data": {
      "text/plain": "DatetimeIndex(['2023-07-25 15:30:19.622680', '2023-07-25 15:30:20.626680',\n               '2023-07-25 15:30:21.630680', '2023-07-25 15:30:22.634680',\n               '2023-07-25 15:30:23.638680'],\n              dtype='datetime64[ns]', freq=None)"
     },
     "execution_count": 60,
     "metadata": {},
     "output_type": "execute_result"
    },
    {
     "data": {
      "text/plain": "0   2023-07-25 15:30:19.622680\n1   2023-07-25 15:30:20.626680\n2   2023-07-25 15:30:21.630680\n3   2023-07-25 15:30:22.634680\n4   2023-07-25 15:30:23.638680\nName: timestep, dtype: datetime64[ns]"
     },
     "execution_count": 60,
     "metadata": {},
     "output_type": "execute_result"
    },
    {
     "data": {
      "text/plain": "True"
     },
     "execution_count": 60,
     "metadata": {},
     "output_type": "execute_result"
    }
   ],
   "source": [
    "ts\n",
    "span = (ts_ind[1] -ts)/5\n",
    "# span\n",
    "timestep = pd.to_datetime(ts + np.linspace(1,5, 5)*span)\n",
    "timestep\n",
    "timeseries = pd.Series(timestep, name='timestep')\n",
    "timeseries\n",
    "isinstance(timeseries, pd.Series)"
   ],
   "metadata": {
    "collapsed": false,
    "ExecuteTime": {
     "end_time": "2023-07-25T07:35:53.317637963Z",
     "start_time": "2023-07-25T07:35:53.172822405Z"
    }
   }
  },
  {
   "cell_type": "code",
   "execution_count": 20,
   "metadata": {
    "ExecuteTime": {
     "end_time": "2023-07-25T07:30:19.350479922Z",
     "start_time": "2023-07-25T07:30:19.207761627Z"
    }
   },
   "outputs": [],
   "source": [
    "# a = len(state) + np.arange(6)\n",
    "# ar0 = pd.Series(a[:2], name='row0')\n",
    "# ar1 = pd.Series(a[2:4], name='row1')\n",
    "# ar2 = pd.Series(a[4:], name='row2')\n",
    "# series = [ar0, ar1, ar2]\n",
    "# action = reduce(\n",
    "#     lambda x, y: pd.merge(x, y, how='outer', left_index=True, right_index=True), series\n",
    "# )\n",
    "# action = action.stack().swaplevel(0, 1).sort_index()\n",
    "# action.name = 'action'\n",
    "# action\n",
    "# len(action) + len(state)"
   ]
  },
  {
   "cell_type": "code",
   "execution_count": 21,
   "metadata": {
    "ExecuteTime": {
     "end_time": "2023-07-25T07:30:19.450649584Z",
     "start_time": "2023-07-25T07:30:19.213514507Z"
    }
   },
   "outputs": [
    {
     "data": {
      "text/plain": "MultiIndex([('timestep', 0),\n            (    'work', 0)],\n           names=['rows', 'idx'])"
     },
     "execution_count": 21,
     "metadata": {},
     "output_type": "execute_result"
    },
    {
     "data": {
      "text/plain": "rows      idx\ntimestep  0      2023-07-25 15:30:18.718680\nwork      0                              27\nName: reward, dtype: object"
     },
     "execution_count": 21,
     "metadata": {},
     "output_type": "execute_result"
    }
   ],
   "source": [
    "reward = (\n",
    "    pd.DataFrame({'work': len(ss) + len(a), 'timestep': ts_ind[0]}, index=[0])\n",
    "    .stack()\n",
    "    .swaplevel(0, 1)\n",
    "    .sort_index()\n",
    ")\n",
    "# reward_index = (reward.name,  ts_ind[0], 0)\n",
    "reward.index.names = ['rows', 'idx']\n",
    "reward.name = 'reward'\n",
    "reward.index\n",
    "reward\n",
    "# reward.name = 'reward'"
   ]
  },
  {
   "cell_type": "code",
   "execution_count": 22,
   "metadata": {
    "ExecuteTime": {
     "end_time": "2023-07-25T07:30:19.450889112Z",
     "start_time": "2023-07-25T07:30:19.261333581Z"
    }
   },
   "outputs": [
    {
     "data": {
      "text/plain": "27"
     },
     "execution_count": 22,
     "metadata": {},
     "output_type": "execute_result"
    },
    {
     "data": {
      "text/plain": "27"
     },
     "execution_count": 22,
     "metadata": {},
     "output_type": "execute_result"
    }
   ],
   "source": [
    "reward['work'][0]\n",
    "reward.loc[('work', 0)]"
   ]
  },
  {
   "cell_type": "code",
   "execution_count": 22,
   "metadata": {
    "ExecuteTime": {
     "end_time": "2023-07-25T07:30:19.450941941Z",
     "start_time": "2023-07-25T07:30:19.261420163Z"
    }
   },
   "outputs": [],
   "source": []
  },
  {
   "cell_type": "code",
   "execution_count": 23,
   "metadata": {
    "ExecuteTime": {
     "end_time": "2023-07-25T07:30:19.451201728Z",
     "start_time": "2023-07-25T07:30:19.305320460Z"
    }
   },
   "outputs": [
    {
     "data": {
      "text/plain": "DatetimeIndex(['2023-07-25 15:30:23.618680', '2023-07-25 15:30:23.638680',\n               '2023-07-25 15:30:23.658680', '2023-07-25 15:30:23.678680'],\n              dtype='datetime64[ns]', freq=None)"
     },
     "execution_count": 23,
     "metadata": {},
     "output_type": "execute_result"
    },
    {
     "data": {
      "text/plain": "16"
     },
     "execution_count": 23,
     "metadata": {},
     "output_type": "execute_result"
    },
    {
     "data": {
      "text/plain": "rows      idx\nbrake     0                              36\n          1                              37\n          2                              38\n          3                              39\nthrust    0                              32\n          1                              33\n          2                              34\n          3                              35\ntimestep  0      2023-07-25 15:30:23.618680\n          1      2023-07-25 15:30:23.638680\n          2      2023-07-25 15:30:23.658680\n          3      2023-07-25 15:30:23.678680\nvelocity  0                              28\n          1                              29\n          2                              30\n          3                              31\nName: nstate, dtype: object"
     },
     "execution_count": 23,
     "metadata": {},
     "output_type": "execute_result"
    }
   ],
   "source": [
    "# velocity = pd.Series(len(state) + len(action) + len(reward) + s[:4], name='velocity')\n",
    "# thrust = pd.Series(len(state) + len(action) + len(reward) + s[4:7], name='thrust')\n",
    "# brake = pd.Series(len(state) + len(action) + len(reward) + s[7:], name='brake')\n",
    "# series = [velocity, thrust, brake]\n",
    "# nstate = reduce(\n",
    "#     lambda x, y: pd.merge(x, y, how='outer', left_index=True, right_index=True), series\n",
    "# )\n",
    "# nstate = nstate.stack().swaplevel(0, 1).sort_index()\n",
    "# nstate.name = 'nstate'\n",
    "# nstate\n",
    "# len(nstate)\n",
    "ts_ind = ts + pd.to_timedelta(5, 's') + pd.to_timedelta(np.arange(0, 4 * 20, 20), 'ms')\n",
    "ts_ind\n",
    "ss = (\n",
    "    np.arange(12) + len(ss) + len(a) + len(reward) - 1\n",
    ")  # exclude the timestamp in reward\n",
    "a1 = ss[:4]\n",
    "a2 = ss[4:8]\n",
    "a3 = ss[8:]\n",
    "nstate = (\n",
    "    pd.DataFrame({'timestep': ts_ind, 'velocity': a1, 'thrust': a2, 'brake': a3})\n",
    "    # .set_index('timestamp')\n",
    "    .stack()\n",
    "    .swaplevel(0, 1)\n",
    "    .sort_index()\n",
    ")\n",
    "nstate.name = 'nstate'\n",
    "nstate.index.names = ['rows', 'idx']\n",
    "len(nstate)\n",
    "nstate"
   ]
  },
  {
   "cell_type": "code",
   "execution_count": 24,
   "metadata": {
    "ExecuteTime": {
     "end_time": "2023-07-25T07:30:19.451448811Z",
     "start_time": "2023-07-25T07:30:19.305431488Z"
    }
   },
   "outputs": [
    {
     "data": {
      "text/plain": "MultiIndex([(0, 0)],\n           names=['rows', 'idx'])"
     },
     "execution_count": 24,
     "metadata": {},
     "output_type": "execute_result"
    },
    {
     "data": {
      "text/plain": "MultiIndex([(   'brake', 0),\n            (   'brake', 1),\n            (   'brake', 2),\n            (   'brake', 3),\n            (  'thrust', 0),\n            (  'thrust', 1),\n            (  'thrust', 2),\n            (  'thrust', 3),\n            ('timestep', 0),\n            ('timestep', 1),\n            ('timestep', 2),\n            ('timestep', 3),\n            ('velocity', 0),\n            ('velocity', 1),\n            ('velocity', 2),\n            ('velocity', 3)],\n           names=['rows', 'idx'])"
     },
     "execution_count": 24,
     "metadata": {},
     "output_type": "execute_result"
    },
    {
     "data": {
      "text/plain": "MultiIndex([(      'r0', 0),\n            (      'r0', 1),\n            (      'r0', 2),\n            (      'r0', 3),\n            (      'r0', 4),\n            (      'r1', 0),\n            (      'r1', 1),\n            (      'r1', 2),\n            (      'r1', 3),\n            (      'r1', 4),\n            (      'r2', 0),\n            (      'r2', 1),\n            (      'r2', 2),\n            (      'r2', 3),\n            (      'r2', 4),\n            (   'speed', 0),\n            (   'speed', 1),\n            (   'speed', 2),\n            ('throttle', 0),\n            ('throttle', 1),\n            ('throttle', 2),\n            ('throttle', 3),\n            ('throttle', 4),\n            ('timestep', 0),\n            ('timestep', 1),\n            ('timestep', 2)],\n           names=['rows', 'idx'])"
     },
     "execution_count": 24,
     "metadata": {},
     "output_type": "execute_result"
    },
    {
     "data": {
      "text/plain": "MultiIndex([('timestep', 0),\n            (    'work', 0)],\n           names=['rows', 'idx'])"
     },
     "execution_count": 24,
     "metadata": {},
     "output_type": "execute_result"
    },
    {
     "data": {
      "text/plain": "MultiIndex([(   'brake', 0),\n            (   'brake', 1),\n            (   'brake', 2),\n            (   'brake', 3),\n            (  'thrust', 0),\n            (  'thrust', 1),\n            (  'thrust', 2),\n            (  'thrust', 3),\n            ('timestep', 0),\n            ('timestep', 1),\n            ('timestep', 2),\n            ('timestep', 3),\n            ('velocity', 0),\n            ('velocity', 1),\n            ('velocity', 2),\n            ('velocity', 3)],\n           names=['rows', 'idx'])"
     },
     "execution_count": 24,
     "metadata": {},
     "output_type": "execute_result"
    }
   ],
   "source": [
    "timestamp = pd.Series([ts], name='timestamp')\n",
    "timestamp.index = pd.MultiIndex.from_product(\n",
    "    [timestamp.index, [0]], names=['rows', 'idx']\n",
    ")\n",
    "timestamp.index\n",
    "state.index\n",
    "action.index\n",
    "reward.index\n",
    "nstate.index"
   ]
  },
  {
   "cell_type": "code",
   "execution_count": 25,
   "metadata": {
    "ExecuteTime": {
     "end_time": "2023-07-25T07:30:19.451667049Z",
     "start_time": "2023-07-25T07:30:19.353330680Z"
    }
   },
   "outputs": [
    {
     "data": {
      "text/plain": "MultiIndex([('timestamp',         '', 0),\n            (    'state',    'brake', 0),\n            (    'state',    'brake', 1),\n            (    'state',    'brake', 2),\n            (    'state',    'brake', 3),\n            (    'state',   'thrust', 0),\n            (    'state',   'thrust', 1),\n            (    'state',   'thrust', 2),\n            (    'state',   'thrust', 3),\n            (    'state', 'timestep', 0),\n            (    'state', 'timestep', 1),\n            (    'state', 'timestep', 2),\n            (    'state', 'timestep', 3),\n            (    'state', 'velocity', 0),\n            (    'state', 'velocity', 1),\n            (    'state', 'velocity', 2),\n            (    'state', 'velocity', 3),\n            (   'action',       'r0', 0),\n            (   'action',       'r0', 1),\n            (   'action',       'r0', 2),\n            (   'action',       'r0', 3),\n            (   'action',       'r0', 4),\n            (   'action',       'r1', 0),\n            (   'action',       'r1', 1),\n            (   'action',       'r1', 2),\n            (   'action',       'r1', 3),\n            (   'action',       'r1', 4),\n            (   'action',       'r2', 0),\n            (   'action',       'r2', 1),\n            (   'action',       'r2', 2),\n            (   'action',       'r2', 3),\n            (   'action',       'r2', 4),\n            (   'action',    'speed', 0),\n            (   'action',    'speed', 1),\n            (   'action',    'speed', 2),\n            (   'action', 'throttle', 0),\n            (   'action', 'throttle', 1),\n            (   'action', 'throttle', 2),\n            (   'action', 'throttle', 3),\n            (   'action', 'throttle', 4),\n            (   'action', 'timestep', 0),\n            (   'action', 'timestep', 1),\n            (   'action', 'timestep', 2),\n            (   'reward', 'timestep', 0),\n            (   'reward',     'work', 0),\n            (   'nstate',    'brake', 0),\n            (   'nstate',    'brake', 1),\n            (   'nstate',    'brake', 2),\n            (   'nstate',    'brake', 3),\n            (   'nstate',   'thrust', 0),\n            (   'nstate',   'thrust', 1),\n            (   'nstate',   'thrust', 2),\n            (   'nstate',   'thrust', 3),\n            (   'nstate', 'timestep', 0),\n            (   'nstate', 'timestep', 1),\n            (   'nstate', 'timestep', 2),\n            (   'nstate', 'timestep', 3),\n            (   'nstate', 'velocity', 0),\n            (   'nstate', 'velocity', 1),\n            (   'nstate', 'velocity', 2),\n            (   'nstate', 'velocity', 3)],\n           )"
     },
     "execution_count": 25,
     "metadata": {},
     "output_type": "execute_result"
    }
   ],
   "source": [
    "timestamp_index = (timestamp.name, '', 0)\n",
    "# timestamp_index\n",
    "state_index = [(state.name, *i) for i in state.index]\n",
    "# state_index\n",
    "reward_index = [(reward.name, *i) for i in reward.index]\n",
    "# reward_index\n",
    "action_index = [(action.name, *i) for i in action.index]\n",
    "# action_index\n",
    "nstate_index = [(nstate.name, *i) for i in nstate.index]\n",
    "# nstate_index\n",
    "\n",
    "multiindex = pd.MultiIndex.from_tuples(\n",
    "    [timestamp_index, *state_index, *action_index, *reward_index, *nstate_index]\n",
    ")\n",
    "multiindex\n"
   ]
  },
  {
   "cell_type": "code",
   "execution_count": 26,
   "metadata": {
    "ExecuteTime": {
     "end_time": "2023-07-25T07:30:19.451798656Z",
     "start_time": "2023-07-25T07:30:19.353434714Z"
    }
   },
   "outputs": [
    {
     "data": {
      "text/plain": "timestamp            0    2023-07-25 15:30:18.618680\nstate      brake     0                             8\n                     1                             9\n                     2                            10\n                     3                            11\n                                     ...            \nnstate     timestep  3    2023-07-25 15:30:23.678680\n           velocity  0                            28\n                     1                            29\n                     2                            30\n                     3                            31\nLength: 61, dtype: object"
     },
     "execution_count": 26,
     "metadata": {},
     "output_type": "execute_result"
    },
    {
     "data": {
      "text/plain": "dtype('O')"
     },
     "execution_count": 26,
     "metadata": {},
     "output_type": "execute_result"
    }
   ],
   "source": [
    "observation_list = [timestamp, state, action, reward, nstate]\n",
    "observation = pd.concat(observation_list)\n",
    "observation.index = multiindex\n",
    "observation\n",
    "observation.dtype"
   ]
  },
  {
   "cell_type": "code",
   "execution_count": 27,
   "metadata": {
    "ExecuteTime": {
     "end_time": "2023-07-25T07:30:19.496551558Z",
     "start_time": "2023-07-25T07:30:19.364712652Z"
    }
   },
   "outputs": [
    {
     "data": {
      "text/plain": "timestamp            0    2023-07-25 15:30:18.618680\nstate      brake     0                             8\n                     1                             9\n                     2                            10\n                     3                            11\n                                     ...            \nnstate     timestep  3    2023-07-25 15:30:23.678680\n           velocity  0                            28\n                     1                            29\n                     2                            30\n                     3                            31\nLength: 61, dtype: object"
     },
     "execution_count": 27,
     "metadata": {},
     "output_type": "execute_result"
    }
   ],
   "source": [
    "observation"
   ]
  },
  {
   "cell_type": "code",
   "execution_count": 28,
   "metadata": {
    "ExecuteTime": {
     "end_time": "2023-07-25T07:30:19.496724401Z",
     "start_time": "2023-07-25T07:30:19.405343937Z"
    }
   },
   "outputs": [],
   "source": [
    "\n",
    "observation0 = observation.copy()\n",
    "observation0.loc['timestamp', '', 0] = ts + pd.Timedelta(1, 'h')\n",
    "observation1 = observation.copy()\n",
    "observation1.loc['timestamp', '', 0] = ts + pd.Timedelta(2, 'h')\n",
    "observation2 = observation.copy()\n",
    "observation2.loc['timestamp', '', 0] = ts + pd.Timedelta(3, 'h')\n",
    "observation3 = observation.copy()\n",
    "observation3.loc['timestamp', '', 0] = ts + pd.Timedelta(4, 'h')\n",
    "observation4 = observation.copy()\n",
    "observation4.loc['timestamp', '', 0] = ts + pd.Timedelta(5, 'h')\n",
    "observation_list = [\n",
    "    observation0,\n",
    "    observation1,\n",
    "    observation2,\n",
    "    observation3,\n",
    "    observation4,\n",
    "]\n"
   ]
  },
  {
   "cell_type": "markdown",
   "metadata": {},
   "source": [
    "### extract state action reward nstate from list of observations"
   ]
  },
  {
   "cell_type": "code",
   "execution_count": 29,
   "metadata": {
    "ExecuteTime": {
     "end_time": "2023-07-25T07:30:19.499382167Z",
     "start_time": "2023-07-25T07:30:19.405419268Z"
    }
   },
   "outputs": [
    {
     "data": {
      "text/plain": "timestamp            0    2023-07-25 16:30:18.618680\nstate      brake     0                             8\n                     1                             9\n                     2                            10\n                     3                            11\n                                     ...            \nnstate     timestep  3    2023-07-25 15:30:23.678680\n           velocity  0                            28\n                     1                            29\n                     2                            30\n                     3                            31\nLength: 61, dtype: object"
     },
     "execution_count": 29,
     "metadata": {},
     "output_type": "execute_result"
    },
    {
     "data": {
      "text/plain": "MultiIndex([('timestamp',         '', 0),\n            (    'state',    'brake', 0),\n            (    'state',    'brake', 1),\n            (    'state',    'brake', 2),\n            (    'state',    'brake', 3),\n            (    'state',   'thrust', 0),\n            (    'state',   'thrust', 1),\n            (    'state',   'thrust', 2),\n            (    'state',   'thrust', 3),\n            (    'state', 'timestep', 0),\n            (    'state', 'timestep', 1),\n            (    'state', 'timestep', 2),\n            (    'state', 'timestep', 3),\n            (    'state', 'velocity', 0),\n            (    'state', 'velocity', 1),\n            (    'state', 'velocity', 2),\n            (    'state', 'velocity', 3),\n            (   'action',       'r0', 0),\n            (   'action',       'r0', 1),\n            (   'action',       'r0', 2),\n            (   'action',       'r0', 3),\n            (   'action',       'r0', 4),\n            (   'action',       'r1', 0),\n            (   'action',       'r1', 1),\n            (   'action',       'r1', 2),\n            (   'action',       'r1', 3),\n            (   'action',       'r1', 4),\n            (   'action',       'r2', 0),\n            (   'action',       'r2', 1),\n            (   'action',       'r2', 2),\n            (   'action',       'r2', 3),\n            (   'action',       'r2', 4),\n            (   'action',    'speed', 0),\n            (   'action',    'speed', 1),\n            (   'action',    'speed', 2),\n            (   'action', 'throttle', 0),\n            (   'action', 'throttle', 1),\n            (   'action', 'throttle', 2),\n            (   'action', 'throttle', 3),\n            (   'action', 'throttle', 4),\n            (   'action', 'timestep', 0),\n            (   'action', 'timestep', 1),\n            (   'action', 'timestep', 2),\n            (   'reward', 'timestep', 0),\n            (   'reward',     'work', 0),\n            (   'nstate',    'brake', 0),\n            (   'nstate',    'brake', 1),\n            (   'nstate',    'brake', 2),\n            (   'nstate',    'brake', 3),\n            (   'nstate',   'thrust', 0),\n            (   'nstate',   'thrust', 1),\n            (   'nstate',   'thrust', 2),\n            (   'nstate',   'thrust', 3),\n            (   'nstate', 'timestep', 0),\n            (   'nstate', 'timestep', 1),\n            (   'nstate', 'timestep', 2),\n            (   'nstate', 'timestep', 3),\n            (   'nstate', 'velocity', 0),\n            (   'nstate', 'velocity', 1),\n            (   'nstate', 'velocity', 2),\n            (   'nstate', 'velocity', 3)],\n           )"
     },
     "execution_count": 29,
     "metadata": {},
     "output_type": "execute_result"
    },
    {
     "data": {
      "text/plain": "array([0, 1, 2, 3, 4, 5, 6, 7, 8, 9, 10, 11], dtype=object)"
     },
     "execution_count": 29,
     "metadata": {},
     "output_type": "execute_result"
    },
    {
     "data": {
      "text/plain": "array([12, 13, 14, 15, 16, 17, 18, 19, 20, 21, 22, 23, 24, 25, 26],\n      dtype=object)"
     },
     "execution_count": 29,
     "metadata": {},
     "output_type": "execute_result"
    },
    {
     "data": {
      "text/plain": "array([27], dtype=object)"
     },
     "execution_count": 29,
     "metadata": {},
     "output_type": "execute_result"
    },
    {
     "data": {
      "text/plain": "array([28, 29, 30, 31, 32, 33, 34, 35, 36, 37, 38, 39], dtype=object)"
     },
     "execution_count": 29,
     "metadata": {},
     "output_type": "execute_result"
    }
   ],
   "source": [
    "idx = pd.IndexSlice\n",
    "observation_list[0]\n",
    "observation_list[0].index\n",
    "observation_list[0].loc[idx['state', ['velocity', 'thrust', 'brake']]].values\n",
    "observation_list[0].loc[idx['action', ['r0', 'r1', 'r2']]].values\n",
    "observation_list[0].loc[idx['reward', ['work']]].values\n",
    "observation_list[0].loc[idx['nstate', ['velocity', 'thrust', 'brake']]].values"
   ]
  },
  {
   "cell_type": "code",
   "execution_count": 30,
   "metadata": {
    "ExecuteTime": {
     "end_time": "2023-07-25T07:30:19.499598051Z",
     "start_time": "2023-07-25T07:30:19.449331305Z"
    }
   },
   "outputs": [
    {
     "data": {
      "text/plain": "array([[0, 1, 2, 3, 4, 5, 6, 7, 8, 9, 10, 11],\n       [0, 1, 2, 3, 4, 5, 6, 7, 8, 9, 10, 11],\n       [0, 1, 2, 3, 4, 5, 6, 7, 8, 9, 10, 11],\n       [0, 1, 2, 3, 4, 5, 6, 7, 8, 9, 10, 11],\n       [0, 1, 2, 3, 4, 5, 6, 7, 8, 9, 10, 11]], dtype=object)"
     },
     "execution_count": 30,
     "metadata": {},
     "output_type": "execute_result"
    },
    {
     "data": {
      "text/plain": "array([[12, 13, 14, 15, 16, 17, 18, 19, 20, 21, 22, 23, 24, 25, 26],\n       [12, 13, 14, 15, 16, 17, 18, 19, 20, 21, 22, 23, 24, 25, 26],\n       [12, 13, 14, 15, 16, 17, 18, 19, 20, 21, 22, 23, 24, 25, 26],\n       [12, 13, 14, 15, 16, 17, 18, 19, 20, 21, 22, 23, 24, 25, 26],\n       [12, 13, 14, 15, 16, 17, 18, 19, 20, 21, 22, 23, 24, 25, 26]],\n      dtype=object)"
     },
     "execution_count": 30,
     "metadata": {},
     "output_type": "execute_result"
    },
    {
     "data": {
      "text/plain": "array([[27],\n       [27],\n       [27],\n       [27],\n       [27]], dtype=object)"
     },
     "execution_count": 30,
     "metadata": {},
     "output_type": "execute_result"
    },
    {
     "data": {
      "text/plain": "array([[28, 29, 30, 31, 32, 33, 34, 35, 36, 37, 38, 39],\n       [28, 29, 30, 31, 32, 33, 34, 35, 36, 37, 38, 39],\n       [28, 29, 30, 31, 32, 33, 34, 35, 36, 37, 38, 39],\n       [28, 29, 30, 31, 32, 33, 34, 35, 36, 37, 38, 39],\n       [28, 29, 30, 31, 32, 33, 34, 35, 36, 37, 38, 39]], dtype=object)"
     },
     "execution_count": 30,
     "metadata": {},
     "output_type": "execute_result"
    }
   ],
   "source": [
    "idx = pd.IndexSlice\n",
    "state = []\n",
    "action = []\n",
    "reward = []\n",
    "nstate = []\n",
    "for observation in observation_list:\n",
    "    state.append(observation.loc[idx['state', ['velocity', 'thrust', 'brake']]].values)\n",
    "    action.append(observation.loc[idx['action', ['r0', 'r1', 'r2']]].values)\n",
    "    reward.append(observation.loc[idx['reward', ['work']]].values)\n",
    "    nstate.append(\n",
    "        observation.loc[idx['nstate', ['velocity', 'thrust', 'brake']]].values\n",
    "    )\n",
    "npa_state = np.stack(state)\n",
    "npa_action = np.stack(action)\n",
    "npa_reward = np.stack(reward)\n",
    "npa_nstate = np.stack(nstate)\n",
    "npa_state\n",
    "npa_action\n",
    "npa_reward\n",
    "npa_nstate"
   ]
  },
  {
   "cell_type": "code",
   "execution_count": 31,
   "outputs": [
    {
     "data": {
      "text/plain": "numpy.ndarray"
     },
     "execution_count": 31,
     "metadata": {},
     "output_type": "execute_result"
    },
    {
     "data": {
      "text/plain": "(5, 12)"
     },
     "execution_count": 31,
     "metadata": {},
     "output_type": "execute_result"
    },
    {
     "data": {
      "text/plain": "numpy.ndarray"
     },
     "execution_count": 31,
     "metadata": {},
     "output_type": "execute_result"
    },
    {
     "data": {
      "text/plain": "(5, 12)"
     },
     "execution_count": 31,
     "metadata": {},
     "output_type": "execute_result"
    },
    {
     "data": {
      "text/plain": "array([[ True,  True,  True,  True,  True,  True,  True,  True,  True,\n         True,  True,  True],\n       [ True,  True,  True,  True,  True,  True,  True,  True,  True,\n         True,  True,  True],\n       [ True,  True,  True,  True,  True,  True,  True,  True,  True,\n         True,  True,  True],\n       [ True,  True,  True,  True,  True,  True,  True,  True,  True,\n         True,  True,  True],\n       [ True,  True,  True,  True,  True,  True,  True,  True,  True,\n         True,  True,  True]])"
     },
     "execution_count": 31,
     "metadata": {},
     "output_type": "execute_result"
    },
    {
     "data": {
      "text/plain": "(5, 12)"
     },
     "execution_count": 31,
     "metadata": {},
     "output_type": "execute_result"
    },
    {
     "data": {
      "text/plain": "numpy.ndarray"
     },
     "execution_count": 31,
     "metadata": {},
     "output_type": "execute_result"
    }
   ],
   "source": [
    "npa_state = np.stack(state)\n",
    "type(npa_state)\n",
    "npa_state.shape\n",
    "state_npa = np.array(state)\n",
    "type(state_npa)\n",
    "state_npa.shape\n",
    "npa_state == state_npa\n",
    "npa_vstate = np.vstack(state)\n",
    "npa_vstate.shape\n",
    "type(npa_vstate)\n"
   ],
   "metadata": {
    "collapsed": false,
    "ExecuteTime": {
     "end_time": "2023-07-25T07:30:19.635732300Z",
     "start_time": "2023-07-25T07:30:19.453334421Z"
    }
   }
  },
  {
   "cell_type": "code",
   "execution_count": 32,
   "outputs": [
    {
     "data": {
      "text/plain": "array([[28, 29, 30, 31, 32, 33, 34, 35, 36, 37, 38, 39],\n       [28, 29, 30, 31, 32, 33, 34, 35, 36, 37, 38, 39],\n       [28, 29, 30, 31, 32, 33, 34, 35, 36, 37, 38, 39],\n       [28, 29, 30, 31, 32, 33, 34, 35, 36, 37, 38, 39],\n       [28, 29, 30, 31, 32, 33, 34, 35, 36, 37, 38, 39]], dtype=object)"
     },
     "execution_count": 32,
     "metadata": {},
     "output_type": "execute_result"
    }
   ],
   "source": [
    "\n",
    "npa_nstate\n"
   ],
   "metadata": {
    "collapsed": false,
    "ExecuteTime": {
     "end_time": "2023-07-25T07:30:19.635911506Z",
     "start_time": "2023-07-25T07:30:19.501400115Z"
    }
   }
  },
  {
   "cell_type": "code",
   "execution_count": 33,
   "outputs": [
    {
     "data": {
      "text/plain": "array([[12, 13, 14, 15, 16, 17, 18, 19, 20, 21, 22, 23, 24, 25, 26],\n       [12, 13, 14, 15, 16, 17, 18, 19, 20, 21, 22, 23, 24, 25, 26],\n       [12, 13, 14, 15, 16, 17, 18, 19, 20, 21, 22, 23, 24, 25, 26],\n       [12, 13, 14, 15, 16, 17, 18, 19, 20, 21, 22, 23, 24, 25, 26],\n       [12, 13, 14, 15, 16, 17, 18, 19, 20, 21, 22, 23, 24, 25, 26]],\n      dtype=object)"
     },
     "execution_count": 33,
     "metadata": {},
     "output_type": "execute_result"
    }
   ],
   "source": [
    "\n",
    "npa_action\n"
   ],
   "metadata": {
    "collapsed": false,
    "ExecuteTime": {
     "end_time": "2023-07-25T07:30:19.636018386Z",
     "start_time": "2023-07-25T07:30:19.501484363Z"
    }
   }
  },
  {
   "cell_type": "code",
   "execution_count": 34,
   "outputs": [
    {
     "data": {
      "text/plain": "array([[27],\n       [27],\n       [27],\n       [27],\n       [27]], dtype=object)"
     },
     "execution_count": 34,
     "metadata": {},
     "output_type": "execute_result"
    }
   ],
   "source": [
    "\n",
    "npa_reward\n"
   ],
   "metadata": {
    "collapsed": false,
    "ExecuteTime": {
     "end_time": "2023-07-25T07:30:19.636148399Z",
     "start_time": "2023-07-25T07:30:19.501544275Z"
    }
   }
  },
  {
   "cell_type": "code",
   "execution_count": 35,
   "metadata": {
    "ExecuteTime": {
     "end_time": "2023-07-25T07:30:19.636624621Z",
     "start_time": "2023-07-25T07:30:19.501625417Z"
    }
   },
   "outputs": [
    {
     "data": {
      "text/plain": "MultiIndex([('timestamp',         '', 0),\n            (    'state',    'brake', 0),\n            (    'state',    'brake', 1),\n            (    'state',    'brake', 2),\n            (    'state',    'brake', 3),\n            (    'state',   'thrust', 0),\n            (    'state',   'thrust', 1),\n            (    'state',   'thrust', 2),\n            (    'state',   'thrust', 3),\n            (    'state', 'timestep', 0),\n            (    'state', 'timestep', 1),\n            (    'state', 'timestep', 2),\n            (    'state', 'timestep', 3),\n            (    'state', 'velocity', 0),\n            (    'state', 'velocity', 1),\n            (    'state', 'velocity', 2),\n            (    'state', 'velocity', 3),\n            (   'action',       'r0', 0),\n            (   'action',       'r0', 1),\n            (   'action',       'r0', 2),\n            (   'action',       'r0', 3),\n            (   'action',       'r0', 4),\n            (   'action',       'r1', 0),\n            (   'action',       'r1', 1),\n            (   'action',       'r1', 2),\n            (   'action',       'r1', 3),\n            (   'action',       'r1', 4),\n            (   'action',       'r2', 0),\n            (   'action',       'r2', 1),\n            (   'action',       'r2', 2),\n            (   'action',       'r2', 3),\n            (   'action',       'r2', 4),\n            (   'action',    'speed', 0),\n            (   'action',    'speed', 1),\n            (   'action',    'speed', 2),\n            (   'action', 'throttle', 0),\n            (   'action', 'throttle', 1),\n            (   'action', 'throttle', 2),\n            (   'action', 'throttle', 3),\n            (   'action', 'throttle', 4),\n            (   'action', 'timestep', 0),\n            (   'action', 'timestep', 1),\n            (   'action', 'timestep', 2),\n            (   'reward', 'timestep', 0),\n            (   'reward',     'work', 0),\n            (   'nstate',    'brake', 0),\n            (   'nstate',    'brake', 1),\n            (   'nstate',    'brake', 2),\n            (   'nstate',    'brake', 3),\n            (   'nstate',   'thrust', 0),\n            (   'nstate',   'thrust', 1),\n            (   'nstate',   'thrust', 2),\n            (   'nstate',   'thrust', 3),\n            (   'nstate', 'timestep', 0),\n            (   'nstate', 'timestep', 1),\n            (   'nstate', 'timestep', 2),\n            (   'nstate', 'timestep', 3),\n            (   'nstate', 'velocity', 0),\n            (   'nstate', 'velocity', 1),\n            (   'nstate', 'velocity', 2),\n            (   'nstate', 'velocity', 3)],\n           names=['tuple', 'rows', 'idx'])"
     },
     "execution_count": 35,
     "metadata": {},
     "output_type": "execute_result"
    },
    {
     "data": {
      "text/plain": "tuple                  timestamp state                             \\\nrows                             brake            thrust            \nidx                            0     0  1   2   3      0  1  2  3   \n0     2023-07-25 16:30:18.618680     8  9  10  11      4  5  6  7   \n1     2023-07-25 17:30:18.618680     8  9  10  11      4  5  6  7   \n2     2023-07-25 18:30:18.618680     8  9  10  11      4  5  6  7   \n3     2023-07-25 19:30:18.618680     8  9  10  11      4  5  6  7   \n4     2023-07-25 20:30:18.618680     8  9  10  11      4  5  6  7   \n\ntuple                             ... nstate                                 \\\nrows                    timestep  ... thrust                       timestep   \nidx                            0  ...      2   3                          0   \n0     2023-07-25 15:30:18.618680  ...     34  35 2023-07-25 15:30:23.618680   \n1     2023-07-25 15:30:18.618680  ...     34  35 2023-07-25 15:30:23.618680   \n2     2023-07-25 15:30:18.618680  ...     34  35 2023-07-25 15:30:23.618680   \n3     2023-07-25 15:30:18.618680  ...     34  35 2023-07-25 15:30:23.618680   \n4     2023-07-25 15:30:18.618680  ...     34  35 2023-07-25 15:30:23.618680   \n\ntuple                                                        \\\nrows                                                          \nidx                            1                          2   \n0     2023-07-25 15:30:23.638680 2023-07-25 15:30:23.658680   \n1     2023-07-25 15:30:23.638680 2023-07-25 15:30:23.658680   \n2     2023-07-25 15:30:23.638680 2023-07-25 15:30:23.658680   \n3     2023-07-25 15:30:23.638680 2023-07-25 15:30:23.658680   \n4     2023-07-25 15:30:23.638680 2023-07-25 15:30:23.658680   \n\ntuple                                                  \nrows                             velocity              \nidx                            3        0   1   2   3  \n0     2023-07-25 15:30:23.678680       28  29  30  31  \n1     2023-07-25 15:30:23.678680       28  29  30  31  \n2     2023-07-25 15:30:23.678680       28  29  30  31  \n3     2023-07-25 15:30:23.678680       28  29  30  31  \n4     2023-07-25 15:30:23.678680       28  29  30  31  \n\n[5 rows x 61 columns]",
      "text/html": "<div>\n<style scoped>\n    .dataframe tbody tr th:only-of-type {\n        vertical-align: middle;\n    }\n\n    .dataframe tbody tr th {\n        vertical-align: top;\n    }\n\n    .dataframe thead tr th {\n        text-align: left;\n    }\n</style>\n<table border=\"1\" class=\"dataframe\">\n  <thead>\n    <tr>\n      <th>tuple</th>\n      <th>timestamp</th>\n      <th colspan=\"9\" halign=\"left\">state</th>\n      <th>...</th>\n      <th colspan=\"10\" halign=\"left\">nstate</th>\n    </tr>\n    <tr>\n      <th>rows</th>\n      <th></th>\n      <th colspan=\"4\" halign=\"left\">brake</th>\n      <th colspan=\"4\" halign=\"left\">thrust</th>\n      <th>timestep</th>\n      <th>...</th>\n      <th colspan=\"2\" halign=\"left\">thrust</th>\n      <th colspan=\"4\" halign=\"left\">timestep</th>\n      <th colspan=\"4\" halign=\"left\">velocity</th>\n    </tr>\n    <tr>\n      <th>idx</th>\n      <th>0</th>\n      <th>0</th>\n      <th>1</th>\n      <th>2</th>\n      <th>3</th>\n      <th>0</th>\n      <th>1</th>\n      <th>2</th>\n      <th>3</th>\n      <th>0</th>\n      <th>...</th>\n      <th>2</th>\n      <th>3</th>\n      <th>0</th>\n      <th>1</th>\n      <th>2</th>\n      <th>3</th>\n      <th>0</th>\n      <th>1</th>\n      <th>2</th>\n      <th>3</th>\n    </tr>\n  </thead>\n  <tbody>\n    <tr>\n      <th>0</th>\n      <td>2023-07-25 16:30:18.618680</td>\n      <td>8</td>\n      <td>9</td>\n      <td>10</td>\n      <td>11</td>\n      <td>4</td>\n      <td>5</td>\n      <td>6</td>\n      <td>7</td>\n      <td>2023-07-25 15:30:18.618680</td>\n      <td>...</td>\n      <td>34</td>\n      <td>35</td>\n      <td>2023-07-25 15:30:23.618680</td>\n      <td>2023-07-25 15:30:23.638680</td>\n      <td>2023-07-25 15:30:23.658680</td>\n      <td>2023-07-25 15:30:23.678680</td>\n      <td>28</td>\n      <td>29</td>\n      <td>30</td>\n      <td>31</td>\n    </tr>\n    <tr>\n      <th>1</th>\n      <td>2023-07-25 17:30:18.618680</td>\n      <td>8</td>\n      <td>9</td>\n      <td>10</td>\n      <td>11</td>\n      <td>4</td>\n      <td>5</td>\n      <td>6</td>\n      <td>7</td>\n      <td>2023-07-25 15:30:18.618680</td>\n      <td>...</td>\n      <td>34</td>\n      <td>35</td>\n      <td>2023-07-25 15:30:23.618680</td>\n      <td>2023-07-25 15:30:23.638680</td>\n      <td>2023-07-25 15:30:23.658680</td>\n      <td>2023-07-25 15:30:23.678680</td>\n      <td>28</td>\n      <td>29</td>\n      <td>30</td>\n      <td>31</td>\n    </tr>\n    <tr>\n      <th>2</th>\n      <td>2023-07-25 18:30:18.618680</td>\n      <td>8</td>\n      <td>9</td>\n      <td>10</td>\n      <td>11</td>\n      <td>4</td>\n      <td>5</td>\n      <td>6</td>\n      <td>7</td>\n      <td>2023-07-25 15:30:18.618680</td>\n      <td>...</td>\n      <td>34</td>\n      <td>35</td>\n      <td>2023-07-25 15:30:23.618680</td>\n      <td>2023-07-25 15:30:23.638680</td>\n      <td>2023-07-25 15:30:23.658680</td>\n      <td>2023-07-25 15:30:23.678680</td>\n      <td>28</td>\n      <td>29</td>\n      <td>30</td>\n      <td>31</td>\n    </tr>\n    <tr>\n      <th>3</th>\n      <td>2023-07-25 19:30:18.618680</td>\n      <td>8</td>\n      <td>9</td>\n      <td>10</td>\n      <td>11</td>\n      <td>4</td>\n      <td>5</td>\n      <td>6</td>\n      <td>7</td>\n      <td>2023-07-25 15:30:18.618680</td>\n      <td>...</td>\n      <td>34</td>\n      <td>35</td>\n      <td>2023-07-25 15:30:23.618680</td>\n      <td>2023-07-25 15:30:23.638680</td>\n      <td>2023-07-25 15:30:23.658680</td>\n      <td>2023-07-25 15:30:23.678680</td>\n      <td>28</td>\n      <td>29</td>\n      <td>30</td>\n      <td>31</td>\n    </tr>\n    <tr>\n      <th>4</th>\n      <td>2023-07-25 20:30:18.618680</td>\n      <td>8</td>\n      <td>9</td>\n      <td>10</td>\n      <td>11</td>\n      <td>4</td>\n      <td>5</td>\n      <td>6</td>\n      <td>7</td>\n      <td>2023-07-25 15:30:18.618680</td>\n      <td>...</td>\n      <td>34</td>\n      <td>35</td>\n      <td>2023-07-25 15:30:23.618680</td>\n      <td>2023-07-25 15:30:23.638680</td>\n      <td>2023-07-25 15:30:23.658680</td>\n      <td>2023-07-25 15:30:23.678680</td>\n      <td>28</td>\n      <td>29</td>\n      <td>30</td>\n      <td>31</td>\n    </tr>\n  </tbody>\n</table>\n<p>5 rows × 61 columns</p>\n</div>"
     },
     "execution_count": 35,
     "metadata": {},
     "output_type": "execute_result"
    }
   ],
   "source": [
    "\n",
    "dfs_epi = pd.concat(observation_list, axis=1).transpose()\n",
    "dfs_epi.columns.names = ['tuple', 'rows', 'idx']\n",
    "dfs_epi.columns\n",
    "dfs_epi\n"
   ]
  },
  {
   "cell_type": "code",
   "execution_count": 36,
   "metadata": {
    "ExecuteTime": {
     "end_time": "2023-07-25T07:30:19.636732012Z",
     "start_time": "2023-07-25T07:30:19.545415668Z"
    }
   },
   "outputs": [
    {
     "data": {
      "text/plain": "tuple                      action                                      ...  \\\nrows                           r0                  r1                  ...   \nidx                             0   1   2   3   4   0   1   2   3   4  ...   \ntimestamp                                                              ...   \n2023-07-25 16:30:18.618680     12  13  14  15  16  17  18  19  20  21  ...   \n2023-07-25 17:30:18.618680     12  13  14  15  16  17  18  19  20  21  ...   \n2023-07-25 18:30:18.618680     12  13  14  15  16  17  18  19  20  21  ...   \n2023-07-25 19:30:18.618680     12  13  14  15  16  17  18  19  20  21  ...   \n2023-07-25 20:30:18.618680     12  13  14  15  16  17  18  19  20  21  ...   \n\ntuple                       state                                \\\nrows                       thrust                      timestep   \nidx                             2  3                          0   \ntimestamp                                                         \n2023-07-25 16:30:18.618680      6  7 2023-07-25 15:30:18.618680   \n2023-07-25 17:30:18.618680      6  7 2023-07-25 15:30:18.618680   \n2023-07-25 18:30:18.618680      6  7 2023-07-25 15:30:18.618680   \n2023-07-25 19:30:18.618680      6  7 2023-07-25 15:30:18.618680   \n2023-07-25 20:30:18.618680      6  7 2023-07-25 15:30:18.618680   \n\ntuple                                                  \\\nrows                                                    \nidx                                                 1   \ntimestamp                                               \n2023-07-25 16:30:18.618680 2023-07-25 15:30:18.638680   \n2023-07-25 17:30:18.618680 2023-07-25 15:30:18.638680   \n2023-07-25 18:30:18.618680 2023-07-25 15:30:18.638680   \n2023-07-25 19:30:18.618680 2023-07-25 15:30:18.638680   \n2023-07-25 20:30:18.618680 2023-07-25 15:30:18.638680   \n\ntuple                                                  \\\nrows                                                    \nidx                                                 2   \ntimestamp                                               \n2023-07-25 16:30:18.618680 2023-07-25 15:30:18.658680   \n2023-07-25 17:30:18.618680 2023-07-25 15:30:18.658680   \n2023-07-25 18:30:18.618680 2023-07-25 15:30:18.658680   \n2023-07-25 19:30:18.618680 2023-07-25 15:30:18.658680   \n2023-07-25 20:30:18.618680 2023-07-25 15:30:18.658680   \n\ntuple                                                                    \nrows                                                  velocity           \nidx                                                 3        0  1  2  3  \ntimestamp                                                                \n2023-07-25 16:30:18.618680 2023-07-25 15:30:18.678680        0  1  2  3  \n2023-07-25 17:30:18.618680 2023-07-25 15:30:18.678680        0  1  2  3  \n2023-07-25 18:30:18.618680 2023-07-25 15:30:18.678680        0  1  2  3  \n2023-07-25 19:30:18.618680 2023-07-25 15:30:18.678680        0  1  2  3  \n2023-07-25 20:30:18.618680 2023-07-25 15:30:18.678680        0  1  2  3  \n\n[5 rows x 60 columns]",
      "text/html": "<div>\n<style scoped>\n    .dataframe tbody tr th:only-of-type {\n        vertical-align: middle;\n    }\n\n    .dataframe tbody tr th {\n        vertical-align: top;\n    }\n\n    .dataframe thead tr th {\n        text-align: left;\n    }\n\n    .dataframe thead tr:last-of-type th {\n        text-align: right;\n    }\n</style>\n<table border=\"1\" class=\"dataframe\">\n  <thead>\n    <tr>\n      <th>tuple</th>\n      <th colspan=\"10\" halign=\"left\">action</th>\n      <th>...</th>\n      <th colspan=\"10\" halign=\"left\">state</th>\n    </tr>\n    <tr>\n      <th>rows</th>\n      <th colspan=\"5\" halign=\"left\">r0</th>\n      <th colspan=\"5\" halign=\"left\">r1</th>\n      <th>...</th>\n      <th colspan=\"2\" halign=\"left\">thrust</th>\n      <th colspan=\"4\" halign=\"left\">timestep</th>\n      <th colspan=\"4\" halign=\"left\">velocity</th>\n    </tr>\n    <tr>\n      <th>idx</th>\n      <th>0</th>\n      <th>1</th>\n      <th>2</th>\n      <th>3</th>\n      <th>4</th>\n      <th>0</th>\n      <th>1</th>\n      <th>2</th>\n      <th>3</th>\n      <th>4</th>\n      <th>...</th>\n      <th>2</th>\n      <th>3</th>\n      <th>0</th>\n      <th>1</th>\n      <th>2</th>\n      <th>3</th>\n      <th>0</th>\n      <th>1</th>\n      <th>2</th>\n      <th>3</th>\n    </tr>\n    <tr>\n      <th>timestamp</th>\n      <th></th>\n      <th></th>\n      <th></th>\n      <th></th>\n      <th></th>\n      <th></th>\n      <th></th>\n      <th></th>\n      <th></th>\n      <th></th>\n      <th></th>\n      <th></th>\n      <th></th>\n      <th></th>\n      <th></th>\n      <th></th>\n      <th></th>\n      <th></th>\n      <th></th>\n      <th></th>\n      <th></th>\n    </tr>\n  </thead>\n  <tbody>\n    <tr>\n      <th>2023-07-25 16:30:18.618680</th>\n      <td>12</td>\n      <td>13</td>\n      <td>14</td>\n      <td>15</td>\n      <td>16</td>\n      <td>17</td>\n      <td>18</td>\n      <td>19</td>\n      <td>20</td>\n      <td>21</td>\n      <td>...</td>\n      <td>6</td>\n      <td>7</td>\n      <td>2023-07-25 15:30:18.618680</td>\n      <td>2023-07-25 15:30:18.638680</td>\n      <td>2023-07-25 15:30:18.658680</td>\n      <td>2023-07-25 15:30:18.678680</td>\n      <td>0</td>\n      <td>1</td>\n      <td>2</td>\n      <td>3</td>\n    </tr>\n    <tr>\n      <th>2023-07-25 17:30:18.618680</th>\n      <td>12</td>\n      <td>13</td>\n      <td>14</td>\n      <td>15</td>\n      <td>16</td>\n      <td>17</td>\n      <td>18</td>\n      <td>19</td>\n      <td>20</td>\n      <td>21</td>\n      <td>...</td>\n      <td>6</td>\n      <td>7</td>\n      <td>2023-07-25 15:30:18.618680</td>\n      <td>2023-07-25 15:30:18.638680</td>\n      <td>2023-07-25 15:30:18.658680</td>\n      <td>2023-07-25 15:30:18.678680</td>\n      <td>0</td>\n      <td>1</td>\n      <td>2</td>\n      <td>3</td>\n    </tr>\n    <tr>\n      <th>2023-07-25 18:30:18.618680</th>\n      <td>12</td>\n      <td>13</td>\n      <td>14</td>\n      <td>15</td>\n      <td>16</td>\n      <td>17</td>\n      <td>18</td>\n      <td>19</td>\n      <td>20</td>\n      <td>21</td>\n      <td>...</td>\n      <td>6</td>\n      <td>7</td>\n      <td>2023-07-25 15:30:18.618680</td>\n      <td>2023-07-25 15:30:18.638680</td>\n      <td>2023-07-25 15:30:18.658680</td>\n      <td>2023-07-25 15:30:18.678680</td>\n      <td>0</td>\n      <td>1</td>\n      <td>2</td>\n      <td>3</td>\n    </tr>\n    <tr>\n      <th>2023-07-25 19:30:18.618680</th>\n      <td>12</td>\n      <td>13</td>\n      <td>14</td>\n      <td>15</td>\n      <td>16</td>\n      <td>17</td>\n      <td>18</td>\n      <td>19</td>\n      <td>20</td>\n      <td>21</td>\n      <td>...</td>\n      <td>6</td>\n      <td>7</td>\n      <td>2023-07-25 15:30:18.618680</td>\n      <td>2023-07-25 15:30:18.638680</td>\n      <td>2023-07-25 15:30:18.658680</td>\n      <td>2023-07-25 15:30:18.678680</td>\n      <td>0</td>\n      <td>1</td>\n      <td>2</td>\n      <td>3</td>\n    </tr>\n    <tr>\n      <th>2023-07-25 20:30:18.618680</th>\n      <td>12</td>\n      <td>13</td>\n      <td>14</td>\n      <td>15</td>\n      <td>16</td>\n      <td>17</td>\n      <td>18</td>\n      <td>19</td>\n      <td>20</td>\n      <td>21</td>\n      <td>...</td>\n      <td>6</td>\n      <td>7</td>\n      <td>2023-07-25 15:30:18.618680</td>\n      <td>2023-07-25 15:30:18.638680</td>\n      <td>2023-07-25 15:30:18.658680</td>\n      <td>2023-07-25 15:30:18.678680</td>\n      <td>0</td>\n      <td>1</td>\n      <td>2</td>\n      <td>3</td>\n    </tr>\n  </tbody>\n</table>\n<p>5 rows × 60 columns</p>\n</div>"
     },
     "execution_count": 36,
     "metadata": {},
     "output_type": "execute_result"
    }
   ],
   "source": [
    "dfs_episode1 = dfs_epi.copy().sort_index(axis=1)\n",
    "dfs_episode1.set_index(('timestamp', '', 0), inplace=True)\n",
    "dfs_episode1.index.name = 'timestamp'\n",
    "idx = pd.IndexSlice\n",
    "dfs_episode1"
   ]
  },
  {
   "cell_type": "code",
   "execution_count": 37,
   "metadata": {
    "ExecuteTime": {
     "end_time": "2023-07-25T07:30:19.649432040Z",
     "start_time": "2023-07-25T07:30:19.589327505Z"
    }
   },
   "outputs": [
    {
     "data": {
      "text/plain": "tuple                      action                                      ...  \\\nrows                           r0                  r1                  ...   \nidx                             0   1   2   3   4   0   1   2   3   4  ...   \ntimestamp                                                              ...   \n2023-07-25 16:30:18.618680     12  13  14  15  16  17  18  19  20  21  ...   \n2023-07-25 17:30:18.618680     12  13  14  15  16  17  18  19  20  21  ...   \n2023-07-25 18:30:18.618680     12  13  14  15  16  17  18  19  20  21  ...   \n2023-07-25 19:30:18.618680     12  13  14  15  16  17  18  19  20  21  ...   \n2023-07-25 20:30:18.618680     12  13  14  15  16  17  18  19  20  21  ...   \n\ntuple                       state                          \\\nrows                       thrust                timestep   \nidx                             2  3                    0   \ntimestamp                                                   \n2023-07-25 16:30:18.618680      6  7  1690299018618680000   \n2023-07-25 17:30:18.618680      6  7  1690299018618680000   \n2023-07-25 18:30:18.618680      6  7  1690299018618680000   \n2023-07-25 19:30:18.618680      6  7  1690299018618680000   \n2023-07-25 20:30:18.618680      6  7  1690299018618680000   \n\ntuple                                                                 \\\nrows                                                                   \nidx                                           1                    2   \ntimestamp                                                              \n2023-07-25 16:30:18.618680  1690299018638680000  1690299018658680000   \n2023-07-25 17:30:18.618680  1690299018638680000  1690299018658680000   \n2023-07-25 18:30:18.618680  1690299018638680000  1690299018658680000   \n2023-07-25 19:30:18.618680  1690299018638680000  1690299018658680000   \n2023-07-25 20:30:18.618680  1690299018638680000  1690299018658680000   \n\ntuple                                                              \nrows                                            velocity           \nidx                                           3        0  1  2  3  \ntimestamp                                                          \n2023-07-25 16:30:18.618680  1690299018678680000        0  1  2  3  \n2023-07-25 17:30:18.618680  1690299018678680000        0  1  2  3  \n2023-07-25 18:30:18.618680  1690299018678680000        0  1  2  3  \n2023-07-25 19:30:18.618680  1690299018678680000        0  1  2  3  \n2023-07-25 20:30:18.618680  1690299018678680000        0  1  2  3  \n\n[5 rows x 60 columns]",
      "text/html": "<div>\n<style scoped>\n    .dataframe tbody tr th:only-of-type {\n        vertical-align: middle;\n    }\n\n    .dataframe tbody tr th {\n        vertical-align: top;\n    }\n\n    .dataframe thead tr th {\n        text-align: left;\n    }\n\n    .dataframe thead tr:last-of-type th {\n        text-align: right;\n    }\n</style>\n<table border=\"1\" class=\"dataframe\">\n  <thead>\n    <tr>\n      <th>tuple</th>\n      <th colspan=\"10\" halign=\"left\">action</th>\n      <th>...</th>\n      <th colspan=\"10\" halign=\"left\">state</th>\n    </tr>\n    <tr>\n      <th>rows</th>\n      <th colspan=\"5\" halign=\"left\">r0</th>\n      <th colspan=\"5\" halign=\"left\">r1</th>\n      <th>...</th>\n      <th colspan=\"2\" halign=\"left\">thrust</th>\n      <th colspan=\"4\" halign=\"left\">timestep</th>\n      <th colspan=\"4\" halign=\"left\">velocity</th>\n    </tr>\n    <tr>\n      <th>idx</th>\n      <th>0</th>\n      <th>1</th>\n      <th>2</th>\n      <th>3</th>\n      <th>4</th>\n      <th>0</th>\n      <th>1</th>\n      <th>2</th>\n      <th>3</th>\n      <th>4</th>\n      <th>...</th>\n      <th>2</th>\n      <th>3</th>\n      <th>0</th>\n      <th>1</th>\n      <th>2</th>\n      <th>3</th>\n      <th>0</th>\n      <th>1</th>\n      <th>2</th>\n      <th>3</th>\n    </tr>\n    <tr>\n      <th>timestamp</th>\n      <th></th>\n      <th></th>\n      <th></th>\n      <th></th>\n      <th></th>\n      <th></th>\n      <th></th>\n      <th></th>\n      <th></th>\n      <th></th>\n      <th></th>\n      <th></th>\n      <th></th>\n      <th></th>\n      <th></th>\n      <th></th>\n      <th></th>\n      <th></th>\n      <th></th>\n      <th></th>\n      <th></th>\n    </tr>\n  </thead>\n  <tbody>\n    <tr>\n      <th>2023-07-25 16:30:18.618680</th>\n      <td>12</td>\n      <td>13</td>\n      <td>14</td>\n      <td>15</td>\n      <td>16</td>\n      <td>17</td>\n      <td>18</td>\n      <td>19</td>\n      <td>20</td>\n      <td>21</td>\n      <td>...</td>\n      <td>6</td>\n      <td>7</td>\n      <td>1690299018618680000</td>\n      <td>1690299018638680000</td>\n      <td>1690299018658680000</td>\n      <td>1690299018678680000</td>\n      <td>0</td>\n      <td>1</td>\n      <td>2</td>\n      <td>3</td>\n    </tr>\n    <tr>\n      <th>2023-07-25 17:30:18.618680</th>\n      <td>12</td>\n      <td>13</td>\n      <td>14</td>\n      <td>15</td>\n      <td>16</td>\n      <td>17</td>\n      <td>18</td>\n      <td>19</td>\n      <td>20</td>\n      <td>21</td>\n      <td>...</td>\n      <td>6</td>\n      <td>7</td>\n      <td>1690299018618680000</td>\n      <td>1690299018638680000</td>\n      <td>1690299018658680000</td>\n      <td>1690299018678680000</td>\n      <td>0</td>\n      <td>1</td>\n      <td>2</td>\n      <td>3</td>\n    </tr>\n    <tr>\n      <th>2023-07-25 18:30:18.618680</th>\n      <td>12</td>\n      <td>13</td>\n      <td>14</td>\n      <td>15</td>\n      <td>16</td>\n      <td>17</td>\n      <td>18</td>\n      <td>19</td>\n      <td>20</td>\n      <td>21</td>\n      <td>...</td>\n      <td>6</td>\n      <td>7</td>\n      <td>1690299018618680000</td>\n      <td>1690299018638680000</td>\n      <td>1690299018658680000</td>\n      <td>1690299018678680000</td>\n      <td>0</td>\n      <td>1</td>\n      <td>2</td>\n      <td>3</td>\n    </tr>\n    <tr>\n      <th>2023-07-25 19:30:18.618680</th>\n      <td>12</td>\n      <td>13</td>\n      <td>14</td>\n      <td>15</td>\n      <td>16</td>\n      <td>17</td>\n      <td>18</td>\n      <td>19</td>\n      <td>20</td>\n      <td>21</td>\n      <td>...</td>\n      <td>6</td>\n      <td>7</td>\n      <td>1690299018618680000</td>\n      <td>1690299018638680000</td>\n      <td>1690299018658680000</td>\n      <td>1690299018678680000</td>\n      <td>0</td>\n      <td>1</td>\n      <td>2</td>\n      <td>3</td>\n    </tr>\n    <tr>\n      <th>2023-07-25 20:30:18.618680</th>\n      <td>12</td>\n      <td>13</td>\n      <td>14</td>\n      <td>15</td>\n      <td>16</td>\n      <td>17</td>\n      <td>18</td>\n      <td>19</td>\n      <td>20</td>\n      <td>21</td>\n      <td>...</td>\n      <td>6</td>\n      <td>7</td>\n      <td>1690299018618680000</td>\n      <td>1690299018638680000</td>\n      <td>1690299018658680000</td>\n      <td>1690299018678680000</td>\n      <td>0</td>\n      <td>1</td>\n      <td>2</td>\n      <td>3</td>\n    </tr>\n  </tbody>\n</table>\n<p>5 rows × 60 columns</p>\n</div>"
     },
     "execution_count": 37,
     "metadata": {},
     "output_type": "execute_result"
    },
    {
     "data": {
      "text/plain": "tuple   rows      idx\naction  r0        0      object\n                  1      object\n                  2      object\n                  3      object\n                  4      object\n        r1        0      object\n                  1      object\n                  2      object\n                  3      object\n                  4      object\n        r2        0      object\n                  1      object\n                  2      object\n                  3      object\n                  4      object\n        speed     0      object\n                  1      object\n                  2      object\n        throttle  0      object\n                  1      object\n                  2      object\n                  3      object\n                  4      object\n        timestep  0       int64\n                  1       int64\n                  2       int64\nnstate  brake     0      object\n                  1      object\n                  2      object\n                  3      object\n        thrust    0      object\n                  1      object\n                  2      object\n                  3      object\n        timestep  0       int64\n                  1       int64\n                  2       int64\n                  3       int64\n        velocity  0      object\n                  1      object\n                  2      object\n                  3      object\nreward  timestep  0       int64\n        work      0      object\nstate   brake     0      object\n                  1      object\n                  2      object\n                  3      object\n        thrust    0      object\n                  1      object\n                  2      object\n                  3      object\n        timestep  0       int64\n                  1       int64\n                  2       int64\n                  3       int64\n        velocity  0      object\n                  1      object\n                  2      object\n                  3      object\ndtype: object"
     },
     "execution_count": 37,
     "metadata": {},
     "output_type": "execute_result"
    },
    {
     "data": {
      "text/plain": "MultiIndex([('action',       'r0', 0),\n            ('action',       'r0', 1),\n            ('action',       'r0', 2),\n            ('action',       'r0', 3),\n            ('action',       'r0', 4),\n            ('action',       'r1', 0),\n            ('action',       'r1', 1),\n            ('action',       'r1', 2),\n            ('action',       'r1', 3),\n            ('action',       'r1', 4),\n            ('action',       'r2', 0),\n            ('action',       'r2', 1),\n            ('action',       'r2', 2),\n            ('action',       'r2', 3),\n            ('action',       'r2', 4),\n            ('action',    'speed', 0),\n            ('action',    'speed', 1),\n            ('action',    'speed', 2),\n            ('action', 'throttle', 0),\n            ('action', 'throttle', 1),\n            ('action', 'throttle', 2),\n            ('action', 'throttle', 3),\n            ('action', 'throttle', 4),\n            ('action', 'timestep', 0),\n            ('action', 'timestep', 1),\n            ('action', 'timestep', 2),\n            ('nstate',    'brake', 0),\n            ('nstate',    'brake', 1),\n            ('nstate',    'brake', 2),\n            ('nstate',    'brake', 3),\n            ('nstate',   'thrust', 0),\n            ('nstate',   'thrust', 1),\n            ('nstate',   'thrust', 2),\n            ('nstate',   'thrust', 3),\n            ('nstate', 'timestep', 0),\n            ('nstate', 'timestep', 1),\n            ('nstate', 'timestep', 2),\n            ('nstate', 'timestep', 3),\n            ('nstate', 'velocity', 0),\n            ('nstate', 'velocity', 1),\n            ('nstate', 'velocity', 2),\n            ('nstate', 'velocity', 3),\n            ('reward', 'timestep', 0),\n            ('reward',     'work', 0),\n            ( 'state',    'brake', 0),\n            ( 'state',    'brake', 1),\n            ( 'state',    'brake', 2),\n            ( 'state',    'brake', 3),\n            ( 'state',   'thrust', 0),\n            ( 'state',   'thrust', 1),\n            ( 'state',   'thrust', 2),\n            ( 'state',   'thrust', 3),\n            ( 'state', 'timestep', 0),\n            ( 'state', 'timestep', 1),\n            ( 'state', 'timestep', 2),\n            ( 'state', 'timestep', 3),\n            ( 'state', 'velocity', 0),\n            ( 'state', 'velocity', 1),\n            ( 'state', 'velocity', 2),\n            ( 'state', 'velocity', 3)],\n           names=['tuple', 'rows', 'idx'])"
     },
     "execution_count": 37,
     "metadata": {},
     "output_type": "execute_result"
    }
   ],
   "source": [
    "dfs_episode1.loc[:, idx['action':'state', :, :, :]] = dfs_episode1.loc[\n",
    "    :, idx['action':'state', :, :, :]\n",
    "].astype('int')\n",
    "dfs_episode1\n",
    "dfs_episode1.dtypes\n",
    "dfs_episode1.columns"
   ]
  },
  {
   "cell_type": "markdown",
   "metadata": {},
   "source": [
    "### Convert columns types to float"
   ]
  },
  {
   "cell_type": "code",
   "execution_count": 38,
   "metadata": {
    "ExecuteTime": {
     "end_time": "2023-07-25T07:30:19.652738051Z",
     "start_time": "2023-07-25T07:30:19.608697963Z"
    }
   },
   "outputs": [
    {
     "data": {
      "text/plain": "tuple                  timestamp state                             \\\nrows                             brake            thrust            \nidx                            0     0  1   2   3      0  1  2  3   \n0     2023-07-25 16:30:18.618680     8  9  10  11      4  5  6  7   \n1     2023-07-25 17:30:18.618680     8  9  10  11      4  5  6  7   \n2     2023-07-25 18:30:18.618680     8  9  10  11      4  5  6  7   \n3     2023-07-25 19:30:18.618680     8  9  10  11      4  5  6  7   \n4     2023-07-25 20:30:18.618680     8  9  10  11      4  5  6  7   \n\ntuple                             ... nstate                                 \\\nrows                    timestep  ... thrust                       timestep   \nidx                            0  ...      2   3                          0   \n0     2023-07-25 15:30:18.618680  ...     34  35 2023-07-25 15:30:23.618680   \n1     2023-07-25 15:30:18.618680  ...     34  35 2023-07-25 15:30:23.618680   \n2     2023-07-25 15:30:18.618680  ...     34  35 2023-07-25 15:30:23.618680   \n3     2023-07-25 15:30:18.618680  ...     34  35 2023-07-25 15:30:23.618680   \n4     2023-07-25 15:30:18.618680  ...     34  35 2023-07-25 15:30:23.618680   \n\ntuple                                                        \\\nrows                                                          \nidx                            1                          2   \n0     2023-07-25 15:30:23.638680 2023-07-25 15:30:23.658680   \n1     2023-07-25 15:30:23.638680 2023-07-25 15:30:23.658680   \n2     2023-07-25 15:30:23.638680 2023-07-25 15:30:23.658680   \n3     2023-07-25 15:30:23.638680 2023-07-25 15:30:23.658680   \n4     2023-07-25 15:30:23.638680 2023-07-25 15:30:23.658680   \n\ntuple                                                  \nrows                             velocity              \nidx                            3        0   1   2   3  \n0     2023-07-25 15:30:23.678680       28  29  30  31  \n1     2023-07-25 15:30:23.678680       28  29  30  31  \n2     2023-07-25 15:30:23.678680       28  29  30  31  \n3     2023-07-25 15:30:23.678680       28  29  30  31  \n4     2023-07-25 15:30:23.678680       28  29  30  31  \n\n[5 rows x 61 columns]",
      "text/html": "<div>\n<style scoped>\n    .dataframe tbody tr th:only-of-type {\n        vertical-align: middle;\n    }\n\n    .dataframe tbody tr th {\n        vertical-align: top;\n    }\n\n    .dataframe thead tr th {\n        text-align: left;\n    }\n</style>\n<table border=\"1\" class=\"dataframe\">\n  <thead>\n    <tr>\n      <th>tuple</th>\n      <th>timestamp</th>\n      <th colspan=\"9\" halign=\"left\">state</th>\n      <th>...</th>\n      <th colspan=\"10\" halign=\"left\">nstate</th>\n    </tr>\n    <tr>\n      <th>rows</th>\n      <th></th>\n      <th colspan=\"4\" halign=\"left\">brake</th>\n      <th colspan=\"4\" halign=\"left\">thrust</th>\n      <th>timestep</th>\n      <th>...</th>\n      <th colspan=\"2\" halign=\"left\">thrust</th>\n      <th colspan=\"4\" halign=\"left\">timestep</th>\n      <th colspan=\"4\" halign=\"left\">velocity</th>\n    </tr>\n    <tr>\n      <th>idx</th>\n      <th>0</th>\n      <th>0</th>\n      <th>1</th>\n      <th>2</th>\n      <th>3</th>\n      <th>0</th>\n      <th>1</th>\n      <th>2</th>\n      <th>3</th>\n      <th>0</th>\n      <th>...</th>\n      <th>2</th>\n      <th>3</th>\n      <th>0</th>\n      <th>1</th>\n      <th>2</th>\n      <th>3</th>\n      <th>0</th>\n      <th>1</th>\n      <th>2</th>\n      <th>3</th>\n    </tr>\n  </thead>\n  <tbody>\n    <tr>\n      <th>0</th>\n      <td>2023-07-25 16:30:18.618680</td>\n      <td>8</td>\n      <td>9</td>\n      <td>10</td>\n      <td>11</td>\n      <td>4</td>\n      <td>5</td>\n      <td>6</td>\n      <td>7</td>\n      <td>2023-07-25 15:30:18.618680</td>\n      <td>...</td>\n      <td>34</td>\n      <td>35</td>\n      <td>2023-07-25 15:30:23.618680</td>\n      <td>2023-07-25 15:30:23.638680</td>\n      <td>2023-07-25 15:30:23.658680</td>\n      <td>2023-07-25 15:30:23.678680</td>\n      <td>28</td>\n      <td>29</td>\n      <td>30</td>\n      <td>31</td>\n    </tr>\n    <tr>\n      <th>1</th>\n      <td>2023-07-25 17:30:18.618680</td>\n      <td>8</td>\n      <td>9</td>\n      <td>10</td>\n      <td>11</td>\n      <td>4</td>\n      <td>5</td>\n      <td>6</td>\n      <td>7</td>\n      <td>2023-07-25 15:30:18.618680</td>\n      <td>...</td>\n      <td>34</td>\n      <td>35</td>\n      <td>2023-07-25 15:30:23.618680</td>\n      <td>2023-07-25 15:30:23.638680</td>\n      <td>2023-07-25 15:30:23.658680</td>\n      <td>2023-07-25 15:30:23.678680</td>\n      <td>28</td>\n      <td>29</td>\n      <td>30</td>\n      <td>31</td>\n    </tr>\n    <tr>\n      <th>2</th>\n      <td>2023-07-25 18:30:18.618680</td>\n      <td>8</td>\n      <td>9</td>\n      <td>10</td>\n      <td>11</td>\n      <td>4</td>\n      <td>5</td>\n      <td>6</td>\n      <td>7</td>\n      <td>2023-07-25 15:30:18.618680</td>\n      <td>...</td>\n      <td>34</td>\n      <td>35</td>\n      <td>2023-07-25 15:30:23.618680</td>\n      <td>2023-07-25 15:30:23.638680</td>\n      <td>2023-07-25 15:30:23.658680</td>\n      <td>2023-07-25 15:30:23.678680</td>\n      <td>28</td>\n      <td>29</td>\n      <td>30</td>\n      <td>31</td>\n    </tr>\n    <tr>\n      <th>3</th>\n      <td>2023-07-25 19:30:18.618680</td>\n      <td>8</td>\n      <td>9</td>\n      <td>10</td>\n      <td>11</td>\n      <td>4</td>\n      <td>5</td>\n      <td>6</td>\n      <td>7</td>\n      <td>2023-07-25 15:30:18.618680</td>\n      <td>...</td>\n      <td>34</td>\n      <td>35</td>\n      <td>2023-07-25 15:30:23.618680</td>\n      <td>2023-07-25 15:30:23.638680</td>\n      <td>2023-07-25 15:30:23.658680</td>\n      <td>2023-07-25 15:30:23.678680</td>\n      <td>28</td>\n      <td>29</td>\n      <td>30</td>\n      <td>31</td>\n    </tr>\n    <tr>\n      <th>4</th>\n      <td>2023-07-25 20:30:18.618680</td>\n      <td>8</td>\n      <td>9</td>\n      <td>10</td>\n      <td>11</td>\n      <td>4</td>\n      <td>5</td>\n      <td>6</td>\n      <td>7</td>\n      <td>2023-07-25 15:30:18.618680</td>\n      <td>...</td>\n      <td>34</td>\n      <td>35</td>\n      <td>2023-07-25 15:30:23.618680</td>\n      <td>2023-07-25 15:30:23.638680</td>\n      <td>2023-07-25 15:30:23.658680</td>\n      <td>2023-07-25 15:30:23.678680</td>\n      <td>28</td>\n      <td>29</td>\n      <td>30</td>\n      <td>31</td>\n    </tr>\n  </tbody>\n</table>\n<p>5 rows × 61 columns</p>\n</div>"
     },
     "execution_count": 38,
     "metadata": {},
     "output_type": "execute_result"
    },
    {
     "data": {
      "text/plain": "RangeIndex(start=0, stop=5, step=1)"
     },
     "execution_count": 38,
     "metadata": {},
     "output_type": "execute_result"
    },
    {
     "data": {
      "text/plain": "DatetimeIndex(['2023-07-25 16:30:18.618680', '2023-07-25 17:30:18.618680',\n               '2023-07-25 18:30:18.618680', '2023-07-25 19:30:18.618680',\n               '2023-07-25 20:30:18.618680'],\n              dtype='datetime64[ns]', name=('timestamp', '', 0), freq=None)"
     },
     "execution_count": 38,
     "metadata": {},
     "output_type": "execute_result"
    },
    {
     "data": {
      "text/plain": "tuple                      action                                      ...  \\\nrows                           r0                  r1                  ...   \nidx                             0   1   2   3   4   0   1   2   3   4  ...   \n(timestamp, , 0)                                                       ...   \n2023-07-25 16:30:18.618680     12  13  14  15  16  17  18  19  20  21  ...   \n2023-07-25 17:30:18.618680     12  13  14  15  16  17  18  19  20  21  ...   \n2023-07-25 18:30:18.618680     12  13  14  15  16  17  18  19  20  21  ...   \n2023-07-25 19:30:18.618680     12  13  14  15  16  17  18  19  20  21  ...   \n2023-07-25 20:30:18.618680     12  13  14  15  16  17  18  19  20  21  ...   \n\ntuple                       state                                \\\nrows                       thrust                      timestep   \nidx                             2  3                          0   \n(timestamp, , 0)                                                  \n2023-07-25 16:30:18.618680      6  7 2023-07-25 15:30:18.618680   \n2023-07-25 17:30:18.618680      6  7 2023-07-25 15:30:18.618680   \n2023-07-25 18:30:18.618680      6  7 2023-07-25 15:30:18.618680   \n2023-07-25 19:30:18.618680      6  7 2023-07-25 15:30:18.618680   \n2023-07-25 20:30:18.618680      6  7 2023-07-25 15:30:18.618680   \n\ntuple                                                  \\\nrows                                                    \nidx                                                 1   \n(timestamp, , 0)                                        \n2023-07-25 16:30:18.618680 2023-07-25 15:30:18.638680   \n2023-07-25 17:30:18.618680 2023-07-25 15:30:18.638680   \n2023-07-25 18:30:18.618680 2023-07-25 15:30:18.638680   \n2023-07-25 19:30:18.618680 2023-07-25 15:30:18.638680   \n2023-07-25 20:30:18.618680 2023-07-25 15:30:18.638680   \n\ntuple                                                  \\\nrows                                                    \nidx                                                 2   \n(timestamp, , 0)                                        \n2023-07-25 16:30:18.618680 2023-07-25 15:30:18.658680   \n2023-07-25 17:30:18.618680 2023-07-25 15:30:18.658680   \n2023-07-25 18:30:18.618680 2023-07-25 15:30:18.658680   \n2023-07-25 19:30:18.618680 2023-07-25 15:30:18.658680   \n2023-07-25 20:30:18.618680 2023-07-25 15:30:18.658680   \n\ntuple                                                                    \nrows                                                  velocity           \nidx                                                 3        0  1  2  3  \n(timestamp, , 0)                                                         \n2023-07-25 16:30:18.618680 2023-07-25 15:30:18.678680        0  1  2  3  \n2023-07-25 17:30:18.618680 2023-07-25 15:30:18.678680        0  1  2  3  \n2023-07-25 18:30:18.618680 2023-07-25 15:30:18.678680        0  1  2  3  \n2023-07-25 19:30:18.618680 2023-07-25 15:30:18.678680        0  1  2  3  \n2023-07-25 20:30:18.618680 2023-07-25 15:30:18.678680        0  1  2  3  \n\n[5 rows x 60 columns]",
      "text/html": "<div>\n<style scoped>\n    .dataframe tbody tr th:only-of-type {\n        vertical-align: middle;\n    }\n\n    .dataframe tbody tr th {\n        vertical-align: top;\n    }\n\n    .dataframe thead tr th {\n        text-align: left;\n    }\n\n    .dataframe thead tr:last-of-type th {\n        text-align: right;\n    }\n</style>\n<table border=\"1\" class=\"dataframe\">\n  <thead>\n    <tr>\n      <th>tuple</th>\n      <th colspan=\"10\" halign=\"left\">action</th>\n      <th>...</th>\n      <th colspan=\"10\" halign=\"left\">state</th>\n    </tr>\n    <tr>\n      <th>rows</th>\n      <th colspan=\"5\" halign=\"left\">r0</th>\n      <th colspan=\"5\" halign=\"left\">r1</th>\n      <th>...</th>\n      <th colspan=\"2\" halign=\"left\">thrust</th>\n      <th colspan=\"4\" halign=\"left\">timestep</th>\n      <th colspan=\"4\" halign=\"left\">velocity</th>\n    </tr>\n    <tr>\n      <th>idx</th>\n      <th>0</th>\n      <th>1</th>\n      <th>2</th>\n      <th>3</th>\n      <th>4</th>\n      <th>0</th>\n      <th>1</th>\n      <th>2</th>\n      <th>3</th>\n      <th>4</th>\n      <th>...</th>\n      <th>2</th>\n      <th>3</th>\n      <th>0</th>\n      <th>1</th>\n      <th>2</th>\n      <th>3</th>\n      <th>0</th>\n      <th>1</th>\n      <th>2</th>\n      <th>3</th>\n    </tr>\n    <tr>\n      <th>(timestamp, , 0)</th>\n      <th></th>\n      <th></th>\n      <th></th>\n      <th></th>\n      <th></th>\n      <th></th>\n      <th></th>\n      <th></th>\n      <th></th>\n      <th></th>\n      <th></th>\n      <th></th>\n      <th></th>\n      <th></th>\n      <th></th>\n      <th></th>\n      <th></th>\n      <th></th>\n      <th></th>\n      <th></th>\n      <th></th>\n    </tr>\n  </thead>\n  <tbody>\n    <tr>\n      <th>2023-07-25 16:30:18.618680</th>\n      <td>12</td>\n      <td>13</td>\n      <td>14</td>\n      <td>15</td>\n      <td>16</td>\n      <td>17</td>\n      <td>18</td>\n      <td>19</td>\n      <td>20</td>\n      <td>21</td>\n      <td>...</td>\n      <td>6</td>\n      <td>7</td>\n      <td>2023-07-25 15:30:18.618680</td>\n      <td>2023-07-25 15:30:18.638680</td>\n      <td>2023-07-25 15:30:18.658680</td>\n      <td>2023-07-25 15:30:18.678680</td>\n      <td>0</td>\n      <td>1</td>\n      <td>2</td>\n      <td>3</td>\n    </tr>\n    <tr>\n      <th>2023-07-25 17:30:18.618680</th>\n      <td>12</td>\n      <td>13</td>\n      <td>14</td>\n      <td>15</td>\n      <td>16</td>\n      <td>17</td>\n      <td>18</td>\n      <td>19</td>\n      <td>20</td>\n      <td>21</td>\n      <td>...</td>\n      <td>6</td>\n      <td>7</td>\n      <td>2023-07-25 15:30:18.618680</td>\n      <td>2023-07-25 15:30:18.638680</td>\n      <td>2023-07-25 15:30:18.658680</td>\n      <td>2023-07-25 15:30:18.678680</td>\n      <td>0</td>\n      <td>1</td>\n      <td>2</td>\n      <td>3</td>\n    </tr>\n    <tr>\n      <th>2023-07-25 18:30:18.618680</th>\n      <td>12</td>\n      <td>13</td>\n      <td>14</td>\n      <td>15</td>\n      <td>16</td>\n      <td>17</td>\n      <td>18</td>\n      <td>19</td>\n      <td>20</td>\n      <td>21</td>\n      <td>...</td>\n      <td>6</td>\n      <td>7</td>\n      <td>2023-07-25 15:30:18.618680</td>\n      <td>2023-07-25 15:30:18.638680</td>\n      <td>2023-07-25 15:30:18.658680</td>\n      <td>2023-07-25 15:30:18.678680</td>\n      <td>0</td>\n      <td>1</td>\n      <td>2</td>\n      <td>3</td>\n    </tr>\n    <tr>\n      <th>2023-07-25 19:30:18.618680</th>\n      <td>12</td>\n      <td>13</td>\n      <td>14</td>\n      <td>15</td>\n      <td>16</td>\n      <td>17</td>\n      <td>18</td>\n      <td>19</td>\n      <td>20</td>\n      <td>21</td>\n      <td>...</td>\n      <td>6</td>\n      <td>7</td>\n      <td>2023-07-25 15:30:18.618680</td>\n      <td>2023-07-25 15:30:18.638680</td>\n      <td>2023-07-25 15:30:18.658680</td>\n      <td>2023-07-25 15:30:18.678680</td>\n      <td>0</td>\n      <td>1</td>\n      <td>2</td>\n      <td>3</td>\n    </tr>\n    <tr>\n      <th>2023-07-25 20:30:18.618680</th>\n      <td>12</td>\n      <td>13</td>\n      <td>14</td>\n      <td>15</td>\n      <td>16</td>\n      <td>17</td>\n      <td>18</td>\n      <td>19</td>\n      <td>20</td>\n      <td>21</td>\n      <td>...</td>\n      <td>6</td>\n      <td>7</td>\n      <td>2023-07-25 15:30:18.618680</td>\n      <td>2023-07-25 15:30:18.638680</td>\n      <td>2023-07-25 15:30:18.658680</td>\n      <td>2023-07-25 15:30:18.678680</td>\n      <td>0</td>\n      <td>1</td>\n      <td>2</td>\n      <td>3</td>\n    </tr>\n  </tbody>\n</table>\n<p>5 rows × 60 columns</p>\n</div>"
     },
     "execution_count": 38,
     "metadata": {},
     "output_type": "execute_result"
    }
   ],
   "source": [
    "dfs_epi\n",
    "dfs_episode = dfs_epi.copy()\n",
    "dfs_episode.index\n",
    "dfs_episode.set_index(('timestamp', '', 0), inplace=True)\n",
    "dfs_episode.sort_index(axis=1, inplace=True)\n",
    "dfs_episode.index\n",
    "dfs_episode\n"
   ]
  },
  {
   "cell_type": "code",
   "execution_count": 39,
   "metadata": {
    "ExecuteTime": {
     "end_time": "2023-07-25T07:30:19.780536633Z",
     "start_time": "2023-07-25T07:30:19.685330895Z"
    }
   },
   "outputs": [
    {
     "data": {
      "text/plain": "tuple                      action                                            \\\nrows                           r0                            r1               \nidx                             0     1     2     3     4     0     1     2   \ntimestamp                                                                     \n2023-07-25 16:30:18.618680   12.0  13.0  14.0  15.0  16.0  17.0  18.0  19.0   \n2023-07-25 17:30:18.618680   12.0  13.0  14.0  15.0  16.0  17.0  18.0  19.0   \n2023-07-25 18:30:18.618680   12.0  13.0  14.0  15.0  16.0  17.0  18.0  19.0   \n2023-07-25 19:30:18.618680   12.0  13.0  14.0  15.0  16.0  17.0  18.0  19.0   \n2023-07-25 20:30:18.618680   12.0  13.0  14.0  15.0  16.0  17.0  18.0  19.0   \n\ntuple                                   ...  state       \\\nrows                                    ... thrust        \nidx                            3     4  ...      2    3   \ntimestamp                               ...               \n2023-07-25 16:30:18.618680  20.0  21.0  ...    6.0  7.0   \n2023-07-25 17:30:18.618680  20.0  21.0  ...    6.0  7.0   \n2023-07-25 18:30:18.618680  20.0  21.0  ...    6.0  7.0   \n2023-07-25 19:30:18.618680  20.0  21.0  ...    6.0  7.0   \n2023-07-25 20:30:18.618680  20.0  21.0  ...    6.0  7.0   \n\ntuple                                                  \\\nrows                                         timestep   \nidx                                                 0   \ntimestamp                                               \n2023-07-25 16:30:18.618680 2023-07-25 15:30:18.618680   \n2023-07-25 17:30:18.618680 2023-07-25 15:30:18.618680   \n2023-07-25 18:30:18.618680 2023-07-25 15:30:18.618680   \n2023-07-25 19:30:18.618680 2023-07-25 15:30:18.618680   \n2023-07-25 20:30:18.618680 2023-07-25 15:30:18.618680   \n\ntuple                                                  \\\nrows                                                    \nidx                                                 1   \ntimestamp                                               \n2023-07-25 16:30:18.618680 2023-07-25 15:30:18.638680   \n2023-07-25 17:30:18.618680 2023-07-25 15:30:18.638680   \n2023-07-25 18:30:18.618680 2023-07-25 15:30:18.638680   \n2023-07-25 19:30:18.618680 2023-07-25 15:30:18.638680   \n2023-07-25 20:30:18.618680 2023-07-25 15:30:18.638680   \n\ntuple                                                  \\\nrows                                                    \nidx                                                 2   \ntimestamp                                               \n2023-07-25 16:30:18.618680 2023-07-25 15:30:18.658680   \n2023-07-25 17:30:18.618680 2023-07-25 15:30:18.658680   \n2023-07-25 18:30:18.618680 2023-07-25 15:30:18.658680   \n2023-07-25 19:30:18.618680 2023-07-25 15:30:18.658680   \n2023-07-25 20:30:18.618680 2023-07-25 15:30:18.658680   \n\ntuple                                                                          \nrows                                                  velocity                 \nidx                                                 3        0    1    2    3  \ntimestamp                                                                      \n2023-07-25 16:30:18.618680 2023-07-25 15:30:18.678680      0.0  1.0  2.0  3.0  \n2023-07-25 17:30:18.618680 2023-07-25 15:30:18.678680      0.0  1.0  2.0  3.0  \n2023-07-25 18:30:18.618680 2023-07-25 15:30:18.678680      0.0  1.0  2.0  3.0  \n2023-07-25 19:30:18.618680 2023-07-25 15:30:18.678680      0.0  1.0  2.0  3.0  \n2023-07-25 20:30:18.618680 2023-07-25 15:30:18.678680      0.0  1.0  2.0  3.0  \n\n[5 rows x 60 columns]",
      "text/html": "<div>\n<style scoped>\n    .dataframe tbody tr th:only-of-type {\n        vertical-align: middle;\n    }\n\n    .dataframe tbody tr th {\n        vertical-align: top;\n    }\n\n    .dataframe thead tr th {\n        text-align: left;\n    }\n\n    .dataframe thead tr:last-of-type th {\n        text-align: right;\n    }\n</style>\n<table border=\"1\" class=\"dataframe\">\n  <thead>\n    <tr>\n      <th>tuple</th>\n      <th colspan=\"10\" halign=\"left\">action</th>\n      <th>...</th>\n      <th colspan=\"10\" halign=\"left\">state</th>\n    </tr>\n    <tr>\n      <th>rows</th>\n      <th colspan=\"5\" halign=\"left\">r0</th>\n      <th colspan=\"5\" halign=\"left\">r1</th>\n      <th>...</th>\n      <th colspan=\"2\" halign=\"left\">thrust</th>\n      <th colspan=\"4\" halign=\"left\">timestep</th>\n      <th colspan=\"4\" halign=\"left\">velocity</th>\n    </tr>\n    <tr>\n      <th>idx</th>\n      <th>0</th>\n      <th>1</th>\n      <th>2</th>\n      <th>3</th>\n      <th>4</th>\n      <th>0</th>\n      <th>1</th>\n      <th>2</th>\n      <th>3</th>\n      <th>4</th>\n      <th>...</th>\n      <th>2</th>\n      <th>3</th>\n      <th>0</th>\n      <th>1</th>\n      <th>2</th>\n      <th>3</th>\n      <th>0</th>\n      <th>1</th>\n      <th>2</th>\n      <th>3</th>\n    </tr>\n    <tr>\n      <th>timestamp</th>\n      <th></th>\n      <th></th>\n      <th></th>\n      <th></th>\n      <th></th>\n      <th></th>\n      <th></th>\n      <th></th>\n      <th></th>\n      <th></th>\n      <th></th>\n      <th></th>\n      <th></th>\n      <th></th>\n      <th></th>\n      <th></th>\n      <th></th>\n      <th></th>\n      <th></th>\n      <th></th>\n      <th></th>\n    </tr>\n  </thead>\n  <tbody>\n    <tr>\n      <th>2023-07-25 16:30:18.618680</th>\n      <td>12.0</td>\n      <td>13.0</td>\n      <td>14.0</td>\n      <td>15.0</td>\n      <td>16.0</td>\n      <td>17.0</td>\n      <td>18.0</td>\n      <td>19.0</td>\n      <td>20.0</td>\n      <td>21.0</td>\n      <td>...</td>\n      <td>6.0</td>\n      <td>7.0</td>\n      <td>2023-07-25 15:30:18.618680</td>\n      <td>2023-07-25 15:30:18.638680</td>\n      <td>2023-07-25 15:30:18.658680</td>\n      <td>2023-07-25 15:30:18.678680</td>\n      <td>0.0</td>\n      <td>1.0</td>\n      <td>2.0</td>\n      <td>3.0</td>\n    </tr>\n    <tr>\n      <th>2023-07-25 17:30:18.618680</th>\n      <td>12.0</td>\n      <td>13.0</td>\n      <td>14.0</td>\n      <td>15.0</td>\n      <td>16.0</td>\n      <td>17.0</td>\n      <td>18.0</td>\n      <td>19.0</td>\n      <td>20.0</td>\n      <td>21.0</td>\n      <td>...</td>\n      <td>6.0</td>\n      <td>7.0</td>\n      <td>2023-07-25 15:30:18.618680</td>\n      <td>2023-07-25 15:30:18.638680</td>\n      <td>2023-07-25 15:30:18.658680</td>\n      <td>2023-07-25 15:30:18.678680</td>\n      <td>0.0</td>\n      <td>1.0</td>\n      <td>2.0</td>\n      <td>3.0</td>\n    </tr>\n    <tr>\n      <th>2023-07-25 18:30:18.618680</th>\n      <td>12.0</td>\n      <td>13.0</td>\n      <td>14.0</td>\n      <td>15.0</td>\n      <td>16.0</td>\n      <td>17.0</td>\n      <td>18.0</td>\n      <td>19.0</td>\n      <td>20.0</td>\n      <td>21.0</td>\n      <td>...</td>\n      <td>6.0</td>\n      <td>7.0</td>\n      <td>2023-07-25 15:30:18.618680</td>\n      <td>2023-07-25 15:30:18.638680</td>\n      <td>2023-07-25 15:30:18.658680</td>\n      <td>2023-07-25 15:30:18.678680</td>\n      <td>0.0</td>\n      <td>1.0</td>\n      <td>2.0</td>\n      <td>3.0</td>\n    </tr>\n    <tr>\n      <th>2023-07-25 19:30:18.618680</th>\n      <td>12.0</td>\n      <td>13.0</td>\n      <td>14.0</td>\n      <td>15.0</td>\n      <td>16.0</td>\n      <td>17.0</td>\n      <td>18.0</td>\n      <td>19.0</td>\n      <td>20.0</td>\n      <td>21.0</td>\n      <td>...</td>\n      <td>6.0</td>\n      <td>7.0</td>\n      <td>2023-07-25 15:30:18.618680</td>\n      <td>2023-07-25 15:30:18.638680</td>\n      <td>2023-07-25 15:30:18.658680</td>\n      <td>2023-07-25 15:30:18.678680</td>\n      <td>0.0</td>\n      <td>1.0</td>\n      <td>2.0</td>\n      <td>3.0</td>\n    </tr>\n    <tr>\n      <th>2023-07-25 20:30:18.618680</th>\n      <td>12.0</td>\n      <td>13.0</td>\n      <td>14.0</td>\n      <td>15.0</td>\n      <td>16.0</td>\n      <td>17.0</td>\n      <td>18.0</td>\n      <td>19.0</td>\n      <td>20.0</td>\n      <td>21.0</td>\n      <td>...</td>\n      <td>6.0</td>\n      <td>7.0</td>\n      <td>2023-07-25 15:30:18.618680</td>\n      <td>2023-07-25 15:30:18.638680</td>\n      <td>2023-07-25 15:30:18.658680</td>\n      <td>2023-07-25 15:30:18.678680</td>\n      <td>0.0</td>\n      <td>1.0</td>\n      <td>2.0</td>\n      <td>3.0</td>\n    </tr>\n  </tbody>\n</table>\n<p>5 rows × 60 columns</p>\n</div>"
     },
     "execution_count": 39,
     "metadata": {},
     "output_type": "execute_result"
    },
    {
     "data": {
      "text/plain": "tuple   rows      idx\naction  r0        0             float64\n                  1             float64\n                  2             float64\n                  3             float64\n                  4             float64\n        r1        0             float64\n                  1             float64\n                  2             float64\n                  3             float64\n                  4             float64\n        r2        0             float64\n                  1             float64\n                  2             float64\n                  3             float64\n                  4             float64\n        speed     0             float64\n                  1             float64\n                  2             float64\n        throttle  0             float64\n                  1             float64\n                  2             float64\n                  3             float64\n                  4             float64\n        timestep  0      datetime64[ns]\n                  1      datetime64[ns]\n                  2      datetime64[ns]\nnstate  brake     0             float64\n                  1             float64\n                  2             float64\n                  3             float64\n        thrust    0             float64\n                  1             float64\n                  2             float64\n                  3             float64\n        timestep  0      datetime64[ns]\n                  1      datetime64[ns]\n                  2      datetime64[ns]\n                  3      datetime64[ns]\n        velocity  0             float64\n                  1             float64\n                  2             float64\n                  3             float64\nreward  timestep  0      datetime64[ns]\n        work      0             float64\nstate   brake     0             float64\n                  1             float64\n                  2             float64\n                  3             float64\n        thrust    0             float64\n                  1             float64\n                  2             float64\n                  3             float64\n        timestep  0      datetime64[ns]\n                  1      datetime64[ns]\n                  2      datetime64[ns]\n                  3      datetime64[ns]\n        velocity  0             float64\n                  1             float64\n                  2             float64\n                  3             float64\ndtype: object"
     },
     "execution_count": 39,
     "metadata": {},
     "output_type": "execute_result"
    }
   ],
   "source": [
    "dfs_episode.index.name = 'timestamp'\n",
    "idx = pd.IndexSlice\n",
    "\n",
    "# # dfs_episode = dfs_episode.astype({idx['state', 'velocity', :]: 'int'})  # Error unhashable type: 'slice' for dictionary\n",
    "# # sorted_idx = **(idx['state', :, :]:'int')\n",
    "# # sorted_idx\n",
    "# dfs_episode.loc[:, idx['state', ['brake', 'thrust', 'velocity'], :]] = dfs_episode.loc[\n",
    "#     :, idx['state', ['brake', 'thrust', 'velocity'], :]\n",
    "# ].astype(\n",
    "#     'float'\n",
    "# )  # float16 not allowed in parquet\n",
    "#\n",
    "# dfs_episode.loc[:, idx['action', ['r0', 'r1', 'r2'], :]] = dfs_episode.loc[\n",
    "#     :, idx['action', ['r0', 'r1', 'r2'], :]\n",
    "# ].astype(\n",
    "#     'float'\n",
    "# )  # float16 not allowed in parquet\n",
    "# # dfs_episode['action'] = dfs_episode['action'].astype('float')\n",
    "# # dfs_episode['reward'] = dfs_episode['reward'].astype('float')\n",
    "# dfs_episode.loc[:, idx['reward', 'work', 0]] = dfs_episode.loc[\n",
    "#     :, idx['reward', 'work', 0]\n",
    "# ].astype(\n",
    "#     'float'\n",
    "# )  # float16 not allowed in parquet\n",
    "#\n",
    "# # dfs_episode['nstate'] = dfs_episode['nstate'].astype('float')\n",
    "# dfs_episode.loc[:, idx['nstate', ['brake', 'thrust', 'velocity'], :]] = dfs_episode.loc[\n",
    "#     :, idx['nstate', ['brake', 'thrust', 'velocity'], :]\n",
    "# ].astype(\n",
    "#     'float'\n",
    "# )  # float16 not allowed in parquet\n",
    "state_cols_float = [('state', col) for col in ['brake', 'thrust', 'velocity']]\n",
    "action_cols_float = [('action', col) for col in ['r0', 'r1', 'r2', 'speed', 'throttle']]\n",
    "reward_cols_float = [('reward', 'work')]\n",
    "nstate_cols_float = [('nstate', col) for col in ['brake', 'thrust', 'velocity']]\n",
    "for col in action_cols_float + state_cols_float + reward_cols_float + nstate_cols_float:\n",
    "    dfs_episode[col[0], col[1]] = dfs_episode[col[0], col[1]].astype(\n",
    "        'float'\n",
    "    )  # float16 not allowed in parquet\n",
    "dfs_episode\n",
    "dfs_episode.dtypes\n",
    "# dfs_episode.columns\n",
    "# dfs_epi\n",
    "# dfs_episode\n"
   ]
  },
  {
   "cell_type": "markdown",
   "metadata": {},
   "source": [
    "## prepend two levels of index \"vehicle\" and \"driver\" to the DataFrame object"
   ]
  },
  {
   "cell_type": "code",
   "execution_count": 40,
   "metadata": {
    "ExecuteTime": {
     "end_time": "2023-07-25T07:30:19.869527023Z",
     "start_time": "2023-07-25T07:30:19.695524271Z"
    }
   },
   "outputs": [],
   "source": [
    "dfs_episode = pd.concat(\n",
    "    [dfs_episode], keys=[drivers_by_id['wang-cheng'].pid], names=['driver']\n",
    ")\n",
    "dfs_episode = pd.concat(\n",
    "    [dfs_episode], keys=[trucks_by_id['VB7'].vid], names=['vehicle']\n",
    ")"
   ]
  },
  {
   "cell_type": "code",
   "execution_count": 41,
   "metadata": {
    "ExecuteTime": {
     "end_time": "2023-07-25T07:30:19.881967585Z",
     "start_time": "2023-07-25T07:30:19.737340965Z"
    }
   },
   "outputs": [
    {
     "data": {
      "text/plain": "MultiIndex([('VB7', 'wang-cheng', '2023-07-25 16:30:18.618680'),\n            ('VB7', 'wang-cheng', '2023-07-25 17:30:18.618680'),\n            ('VB7', 'wang-cheng', '2023-07-25 18:30:18.618680'),\n            ('VB7', 'wang-cheng', '2023-07-25 19:30:18.618680'),\n            ('VB7', 'wang-cheng', '2023-07-25 20:30:18.618680')],\n           names=['vehicle', 'driver', 'timestamp'])"
     },
     "execution_count": 41,
     "metadata": {},
     "output_type": "execute_result"
    },
    {
     "data": {
      "text/plain": "MultiIndex([('action',       'r0', 0),\n            ('action',       'r0', 1),\n            ('action',       'r0', 2),\n            ('action',       'r0', 3),\n            ('action',       'r0', 4),\n            ('action',       'r1', 0),\n            ('action',       'r1', 1),\n            ('action',       'r1', 2),\n            ('action',       'r1', 3),\n            ('action',       'r1', 4),\n            ('action',       'r2', 0),\n            ('action',       'r2', 1),\n            ('action',       'r2', 2),\n            ('action',       'r2', 3),\n            ('action',       'r2', 4),\n            ('action',    'speed', 0),\n            ('action',    'speed', 1),\n            ('action',    'speed', 2),\n            ('action', 'throttle', 0),\n            ('action', 'throttle', 1),\n            ('action', 'throttle', 2),\n            ('action', 'throttle', 3),\n            ('action', 'throttle', 4),\n            ('action', 'timestep', 0),\n            ('action', 'timestep', 1),\n            ('action', 'timestep', 2),\n            ('nstate',    'brake', 0),\n            ('nstate',    'brake', 1),\n            ('nstate',    'brake', 2),\n            ('nstate',    'brake', 3),\n            ('nstate',   'thrust', 0),\n            ('nstate',   'thrust', 1),\n            ('nstate',   'thrust', 2),\n            ('nstate',   'thrust', 3),\n            ('nstate', 'timestep', 0),\n            ('nstate', 'timestep', 1),\n            ('nstate', 'timestep', 2),\n            ('nstate', 'timestep', 3),\n            ('nstate', 'velocity', 0),\n            ('nstate', 'velocity', 1),\n            ('nstate', 'velocity', 2),\n            ('nstate', 'velocity', 3),\n            ('reward', 'timestep', 0),\n            ('reward',     'work', 0),\n            ( 'state',    'brake', 0),\n            ( 'state',    'brake', 1),\n            ( 'state',    'brake', 2),\n            ( 'state',    'brake', 3),\n            ( 'state',   'thrust', 0),\n            ( 'state',   'thrust', 1),\n            ( 'state',   'thrust', 2),\n            ( 'state',   'thrust', 3),\n            ( 'state', 'timestep', 0),\n            ( 'state', 'timestep', 1),\n            ( 'state', 'timestep', 2),\n            ( 'state', 'timestep', 3),\n            ( 'state', 'velocity', 0),\n            ( 'state', 'velocity', 1),\n            ( 'state', 'velocity', 2),\n            ( 'state', 'velocity', 3)],\n           names=['tuple', 'rows', 'idx'])"
     },
     "execution_count": 41,
     "metadata": {},
     "output_type": "execute_result"
    }
   ],
   "source": [
    "dfs_episode.index\n",
    "dfs_episode.columns"
   ]
  },
  {
   "cell_type": "code",
   "execution_count": 42,
   "metadata": {
    "ExecuteTime": {
     "end_time": "2023-07-25T07:30:19.883360313Z",
     "start_time": "2023-07-25T07:30:19.737447344Z"
    }
   },
   "outputs": [
    {
     "data": {
      "text/plain": "tuple                                         action                          \\\nrows                                              r0                           \nidx                                                0     1     2     3     4   \nvehicle driver     timestamp                                                   \nVB7     wang-cheng 2023-07-25 16:30:18.618680   12.0  13.0  14.0  15.0  16.0   \n                   2023-07-25 17:30:18.618680   12.0  13.0  14.0  15.0  16.0   \n                   2023-07-25 18:30:18.618680   12.0  13.0  14.0  15.0  16.0   \n                   2023-07-25 19:30:18.618680   12.0  13.0  14.0  15.0  16.0   \n                   2023-07-25 20:30:18.618680   12.0  13.0  14.0  15.0  16.0   \n\ntuple                                                                        \\\nrows                                             r1                           \nidx                                               0     1     2     3     4   \nvehicle driver     timestamp                                                  \nVB7     wang-cheng 2023-07-25 16:30:18.618680  17.0  18.0  19.0  20.0  21.0   \n                   2023-07-25 17:30:18.618680  17.0  18.0  19.0  20.0  21.0   \n                   2023-07-25 18:30:18.618680  17.0  18.0  19.0  20.0  21.0   \n                   2023-07-25 19:30:18.618680  17.0  18.0  19.0  20.0  21.0   \n                   2023-07-25 20:30:18.618680  17.0  18.0  19.0  20.0  21.0   \n\ntuple                                          ...  state       \\\nrows                                           ... thrust        \nidx                                            ...      2    3   \nvehicle driver     timestamp                   ...               \nVB7     wang-cheng 2023-07-25 16:30:18.618680  ...    6.0  7.0   \n                   2023-07-25 17:30:18.618680  ...    6.0  7.0   \n                   2023-07-25 18:30:18.618680  ...    6.0  7.0   \n                   2023-07-25 19:30:18.618680  ...    6.0  7.0   \n                   2023-07-25 20:30:18.618680  ...    6.0  7.0   \n\ntuple                                                                     \\\nrows                                                            timestep   \nidx                                                                    0   \nvehicle driver     timestamp                                               \nVB7     wang-cheng 2023-07-25 16:30:18.618680 2023-07-25 15:30:18.618680   \n                   2023-07-25 17:30:18.618680 2023-07-25 15:30:18.618680   \n                   2023-07-25 18:30:18.618680 2023-07-25 15:30:18.618680   \n                   2023-07-25 19:30:18.618680 2023-07-25 15:30:18.618680   \n                   2023-07-25 20:30:18.618680 2023-07-25 15:30:18.618680   \n\ntuple                                                                     \\\nrows                                                                       \nidx                                                                    1   \nvehicle driver     timestamp                                               \nVB7     wang-cheng 2023-07-25 16:30:18.618680 2023-07-25 15:30:18.638680   \n                   2023-07-25 17:30:18.618680 2023-07-25 15:30:18.638680   \n                   2023-07-25 18:30:18.618680 2023-07-25 15:30:18.638680   \n                   2023-07-25 19:30:18.618680 2023-07-25 15:30:18.638680   \n                   2023-07-25 20:30:18.618680 2023-07-25 15:30:18.638680   \n\ntuple                                                                     \\\nrows                                                                       \nidx                                                                    2   \nvehicle driver     timestamp                                               \nVB7     wang-cheng 2023-07-25 16:30:18.618680 2023-07-25 15:30:18.658680   \n                   2023-07-25 17:30:18.618680 2023-07-25 15:30:18.658680   \n                   2023-07-25 18:30:18.618680 2023-07-25 15:30:18.658680   \n                   2023-07-25 19:30:18.618680 2023-07-25 15:30:18.658680   \n                   2023-07-25 20:30:18.618680 2023-07-25 15:30:18.658680   \n\ntuple                                                                     \\\nrows                                                                       \nidx                                                                    3   \nvehicle driver     timestamp                                               \nVB7     wang-cheng 2023-07-25 16:30:18.618680 2023-07-25 15:30:18.678680   \n                   2023-07-25 17:30:18.618680 2023-07-25 15:30:18.678680   \n                   2023-07-25 18:30:18.618680 2023-07-25 15:30:18.678680   \n                   2023-07-25 19:30:18.618680 2023-07-25 15:30:18.678680   \n                   2023-07-25 20:30:18.618680 2023-07-25 15:30:18.678680   \n\ntuple                                                                  \nrows                                          velocity                 \nidx                                                  0    1    2    3  \nvehicle driver     timestamp                                           \nVB7     wang-cheng 2023-07-25 16:30:18.618680      0.0  1.0  2.0  3.0  \n                   2023-07-25 17:30:18.618680      0.0  1.0  2.0  3.0  \n                   2023-07-25 18:30:18.618680      0.0  1.0  2.0  3.0  \n                   2023-07-25 19:30:18.618680      0.0  1.0  2.0  3.0  \n                   2023-07-25 20:30:18.618680      0.0  1.0  2.0  3.0  \n\n[5 rows x 60 columns]",
      "text/html": "<div>\n<style scoped>\n    .dataframe tbody tr th:only-of-type {\n        vertical-align: middle;\n    }\n\n    .dataframe tbody tr th {\n        vertical-align: top;\n    }\n\n    .dataframe thead tr th {\n        text-align: left;\n    }\n\n    .dataframe thead tr:last-of-type th {\n        text-align: right;\n    }\n</style>\n<table border=\"1\" class=\"dataframe\">\n  <thead>\n    <tr>\n      <th></th>\n      <th></th>\n      <th>tuple</th>\n      <th colspan=\"10\" halign=\"left\">action</th>\n      <th>...</th>\n      <th colspan=\"10\" halign=\"left\">state</th>\n    </tr>\n    <tr>\n      <th></th>\n      <th></th>\n      <th>rows</th>\n      <th colspan=\"5\" halign=\"left\">r0</th>\n      <th colspan=\"5\" halign=\"left\">r1</th>\n      <th>...</th>\n      <th colspan=\"2\" halign=\"left\">thrust</th>\n      <th colspan=\"4\" halign=\"left\">timestep</th>\n      <th colspan=\"4\" halign=\"left\">velocity</th>\n    </tr>\n    <tr>\n      <th></th>\n      <th></th>\n      <th>idx</th>\n      <th>0</th>\n      <th>1</th>\n      <th>2</th>\n      <th>3</th>\n      <th>4</th>\n      <th>0</th>\n      <th>1</th>\n      <th>2</th>\n      <th>3</th>\n      <th>4</th>\n      <th>...</th>\n      <th>2</th>\n      <th>3</th>\n      <th>0</th>\n      <th>1</th>\n      <th>2</th>\n      <th>3</th>\n      <th>0</th>\n      <th>1</th>\n      <th>2</th>\n      <th>3</th>\n    </tr>\n    <tr>\n      <th>vehicle</th>\n      <th>driver</th>\n      <th>timestamp</th>\n      <th></th>\n      <th></th>\n      <th></th>\n      <th></th>\n      <th></th>\n      <th></th>\n      <th></th>\n      <th></th>\n      <th></th>\n      <th></th>\n      <th></th>\n      <th></th>\n      <th></th>\n      <th></th>\n      <th></th>\n      <th></th>\n      <th></th>\n      <th></th>\n      <th></th>\n      <th></th>\n      <th></th>\n    </tr>\n  </thead>\n  <tbody>\n    <tr>\n      <th rowspan=\"5\" valign=\"top\">VB7</th>\n      <th rowspan=\"5\" valign=\"top\">wang-cheng</th>\n      <th>2023-07-25 16:30:18.618680</th>\n      <td>12.0</td>\n      <td>13.0</td>\n      <td>14.0</td>\n      <td>15.0</td>\n      <td>16.0</td>\n      <td>17.0</td>\n      <td>18.0</td>\n      <td>19.0</td>\n      <td>20.0</td>\n      <td>21.0</td>\n      <td>...</td>\n      <td>6.0</td>\n      <td>7.0</td>\n      <td>2023-07-25 15:30:18.618680</td>\n      <td>2023-07-25 15:30:18.638680</td>\n      <td>2023-07-25 15:30:18.658680</td>\n      <td>2023-07-25 15:30:18.678680</td>\n      <td>0.0</td>\n      <td>1.0</td>\n      <td>2.0</td>\n      <td>3.0</td>\n    </tr>\n    <tr>\n      <th>2023-07-25 17:30:18.618680</th>\n      <td>12.0</td>\n      <td>13.0</td>\n      <td>14.0</td>\n      <td>15.0</td>\n      <td>16.0</td>\n      <td>17.0</td>\n      <td>18.0</td>\n      <td>19.0</td>\n      <td>20.0</td>\n      <td>21.0</td>\n      <td>...</td>\n      <td>6.0</td>\n      <td>7.0</td>\n      <td>2023-07-25 15:30:18.618680</td>\n      <td>2023-07-25 15:30:18.638680</td>\n      <td>2023-07-25 15:30:18.658680</td>\n      <td>2023-07-25 15:30:18.678680</td>\n      <td>0.0</td>\n      <td>1.0</td>\n      <td>2.0</td>\n      <td>3.0</td>\n    </tr>\n    <tr>\n      <th>2023-07-25 18:30:18.618680</th>\n      <td>12.0</td>\n      <td>13.0</td>\n      <td>14.0</td>\n      <td>15.0</td>\n      <td>16.0</td>\n      <td>17.0</td>\n      <td>18.0</td>\n      <td>19.0</td>\n      <td>20.0</td>\n      <td>21.0</td>\n      <td>...</td>\n      <td>6.0</td>\n      <td>7.0</td>\n      <td>2023-07-25 15:30:18.618680</td>\n      <td>2023-07-25 15:30:18.638680</td>\n      <td>2023-07-25 15:30:18.658680</td>\n      <td>2023-07-25 15:30:18.678680</td>\n      <td>0.0</td>\n      <td>1.0</td>\n      <td>2.0</td>\n      <td>3.0</td>\n    </tr>\n    <tr>\n      <th>2023-07-25 19:30:18.618680</th>\n      <td>12.0</td>\n      <td>13.0</td>\n      <td>14.0</td>\n      <td>15.0</td>\n      <td>16.0</td>\n      <td>17.0</td>\n      <td>18.0</td>\n      <td>19.0</td>\n      <td>20.0</td>\n      <td>21.0</td>\n      <td>...</td>\n      <td>6.0</td>\n      <td>7.0</td>\n      <td>2023-07-25 15:30:18.618680</td>\n      <td>2023-07-25 15:30:18.638680</td>\n      <td>2023-07-25 15:30:18.658680</td>\n      <td>2023-07-25 15:30:18.678680</td>\n      <td>0.0</td>\n      <td>1.0</td>\n      <td>2.0</td>\n      <td>3.0</td>\n    </tr>\n    <tr>\n      <th>2023-07-25 20:30:18.618680</th>\n      <td>12.0</td>\n      <td>13.0</td>\n      <td>14.0</td>\n      <td>15.0</td>\n      <td>16.0</td>\n      <td>17.0</td>\n      <td>18.0</td>\n      <td>19.0</td>\n      <td>20.0</td>\n      <td>21.0</td>\n      <td>...</td>\n      <td>6.0</td>\n      <td>7.0</td>\n      <td>2023-07-25 15:30:18.618680</td>\n      <td>2023-07-25 15:30:18.638680</td>\n      <td>2023-07-25 15:30:18.658680</td>\n      <td>2023-07-25 15:30:18.678680</td>\n      <td>0.0</td>\n      <td>1.0</td>\n      <td>2.0</td>\n      <td>3.0</td>\n    </tr>\n  </tbody>\n</table>\n<p>5 rows × 60 columns</p>\n</div>"
     },
     "execution_count": 42,
     "metadata": {},
     "output_type": "execute_result"
    },
    {
     "data": {
      "text/plain": "tuple   rows      idx\naction  r0        0             float64\n                  1             float64\n                  2             float64\n                  3             float64\n                  4             float64\n        r1        0             float64\n                  1             float64\n                  2             float64\n                  3             float64\n                  4             float64\n        r2        0             float64\n                  1             float64\n                  2             float64\n                  3             float64\n                  4             float64\n        speed     0             float64\n                  1             float64\n                  2             float64\n        throttle  0             float64\n                  1             float64\n                  2             float64\n                  3             float64\n                  4             float64\n        timestep  0      datetime64[ns]\n                  1      datetime64[ns]\n                  2      datetime64[ns]\nnstate  brake     0             float64\n                  1             float64\n                  2             float64\n                  3             float64\n        thrust    0             float64\n                  1             float64\n                  2             float64\n                  3             float64\n        timestep  0      datetime64[ns]\n                  1      datetime64[ns]\n                  2      datetime64[ns]\n                  3      datetime64[ns]\n        velocity  0             float64\n                  1             float64\n                  2             float64\n                  3             float64\nreward  timestep  0      datetime64[ns]\n        work      0             float64\nstate   brake     0             float64\n                  1             float64\n                  2             float64\n                  3             float64\n        thrust    0             float64\n                  1             float64\n                  2             float64\n                  3             float64\n        timestep  0      datetime64[ns]\n                  1      datetime64[ns]\n                  2      datetime64[ns]\n                  3      datetime64[ns]\n        velocity  0             float64\n                  1             float64\n                  2             float64\n                  3             float64\ndtype: object"
     },
     "execution_count": 42,
     "metadata": {},
     "output_type": "execute_result"
    }
   ],
   "source": [
    "\n",
    "# dfs_episode.columns.set_names(\n",
    "#     [\n",
    "#         'tuple',\n",
    "#         'rows',\n",
    "#         'idx',\n",
    "#     ],\n",
    "#     level=[0, 1, 2],\n",
    "#     inplace=True,\n",
    "# )\n",
    "dfs_episode\n",
    "dfs_episode.dtypes\n"
   ]
  },
  {
   "cell_type": "code",
   "execution_count": 43,
   "metadata": {
    "ExecuteTime": {
     "end_time": "2023-07-25T07:30:19.883419513Z",
     "start_time": "2023-07-25T07:30:19.781432089Z"
    }
   },
   "outputs": [],
   "source": [
    "# dfs_episode['state', 'thrust'] = dfs_episode['state', 'thrust'].astype('float')\n",
    "# # dfs_episode.loc[:, idx['state', ['brake', 'thrust', 'velocity'], :]] = dfs_episode.loc[\n",
    "# #     :, idx['state', ['brake', 'thrust', 'velocity'], :]\n",
    "# # ].astype(\n",
    "# #     'float'\n",
    "# # )  # float16 not allowed in parquet\n",
    "# dfs_episode.loc[:, ('state', ['brake', 'thrust', 'velocity'])] = dfs_episode.loc[\n",
    "#     :, ('state', ['brake', 'thrust', 'velocity'])\n",
    "# ].astype(\n",
    "#     'float'\n",
    "# )  # float16 not allowed in parquet\n",
    "# dfs_episode['action', 'r0'] = dfs_episode['action', 'r0'].astype(\n",
    "#     'float'\n",
    "# )  # float16 not allowed in parquet\n",
    "#\n",
    "# dfs_episode.dtypes"
   ]
  },
  {
   "cell_type": "markdown",
   "metadata": {},
   "source": []
  },
  {
   "cell_type": "code",
   "execution_count": 44,
   "metadata": {
    "ExecuteTime": {
     "end_time": "2023-07-25T07:30:19.883465960Z",
     "start_time": "2023-07-25T07:30:19.781559448Z"
    }
   },
   "outputs": [],
   "source": [
    "# idx = pd.IndexSlice\n",
    "# dfs_episode.loc[:, idx['state', :, :]] = dfs_episode.loc[:, idx['state', :, :]].astype(\n",
    "#     'int'\n",
    "# )\n",
    "# dfs_episode.loc[:, idx['action', :, :]] = dfs_episode.loc[\n",
    "#     :, idx['action', :, :]\n",
    "# ].astype('float16')\n",
    "# dfs_episode.loc[:, idx['reward', :, :]] = dfs_episode.loc[\n",
    "#     :, idx['reward', :, :]\n",
    "# ].astype('float16')\n",
    "# dfs_episode.loc[:, idx['nstate', :, :]] = dfs_episode.loc[\n",
    "#     :, idx['nstate', :, :]\n",
    "# ].astype('float16')\n",
    "#\n",
    "# vel_1 = dfs_episode[[('state', 'velocity', 1)]]\n",
    "# vel_1.dtypes\n",
    "# vel_1.index\n",
    "# vel_1.values\n",
    "# # type(vel_1)\n",
    "# vel_1.iloc[0]\n",
    "# type(vel_1.iloc[0])\n",
    "# type(vel_1.iloc[0].values[0])"
   ]
  },
  {
   "cell_type": "markdown",
   "metadata": {},
   "source": [
    "## Add a level of index for episode"
   ]
  },
  {
   "cell_type": "code",
   "execution_count": 45,
   "metadata": {
    "ExecuteTime": {
     "end_time": "2023-07-25T07:30:20.185178167Z",
     "start_time": "2023-07-25T07:30:19.781615272Z"
    }
   },
   "outputs": [
    {
     "data": {
      "text/plain": "MultiIndex([('VB7', 'wang-cheng', '2023-07-25 15:30:18.618680', ...),\n            ('VB7', 'wang-cheng', '2023-07-25 15:30:18.618680', ...),\n            ('VB7', 'wang-cheng', '2023-07-25 15:30:18.618680', ...),\n            ('VB7', 'wang-cheng', '2023-07-25 15:30:18.618680', ...),\n            ('VB7', 'wang-cheng', '2023-07-25 15:30:18.618680', ...)],\n           names=['vehicle', 'driver', 'episodestart', 'timestamp'])"
     },
     "execution_count": 45,
     "metadata": {},
     "output_type": "execute_result"
    },
    {
     "data": {
      "text/plain": "MultiIndex([('action',       'r0', 0),\n            ('action',       'r0', 1),\n            ('action',       'r0', 2),\n            ('action',       'r0', 3),\n            ('action',       'r0', 4),\n            ('action',       'r1', 0),\n            ('action',       'r1', 1),\n            ('action',       'r1', 2),\n            ('action',       'r1', 3),\n            ('action',       'r1', 4),\n            ('action',       'r2', 0),\n            ('action',       'r2', 1),\n            ('action',       'r2', 2),\n            ('action',       'r2', 3),\n            ('action',       'r2', 4),\n            ('action',    'speed', 0),\n            ('action',    'speed', 1),\n            ('action',    'speed', 2),\n            ('action', 'throttle', 0),\n            ('action', 'throttle', 1),\n            ('action', 'throttle', 2),\n            ('action', 'throttle', 3),\n            ('action', 'throttle', 4),\n            ('action', 'timestep', 0),\n            ('action', 'timestep', 1),\n            ('action', 'timestep', 2),\n            ('nstate',    'brake', 0),\n            ('nstate',    'brake', 1),\n            ('nstate',    'brake', 2),\n            ('nstate',    'brake', 3),\n            ('nstate',   'thrust', 0),\n            ('nstate',   'thrust', 1),\n            ('nstate',   'thrust', 2),\n            ('nstate',   'thrust', 3),\n            ('nstate', 'timestep', 0),\n            ('nstate', 'timestep', 1),\n            ('nstate', 'timestep', 2),\n            ('nstate', 'timestep', 3),\n            ('nstate', 'velocity', 0),\n            ('nstate', 'velocity', 1),\n            ('nstate', 'velocity', 2),\n            ('nstate', 'velocity', 3),\n            ('reward', 'timestep', 0),\n            ('reward',     'work', 0),\n            ( 'state',    'brake', 0),\n            ( 'state',    'brake', 1),\n            ( 'state',    'brake', 2),\n            ( 'state',    'brake', 3),\n            ( 'state',   'thrust', 0),\n            ( 'state',   'thrust', 1),\n            ( 'state',   'thrust', 2),\n            ( 'state',   'thrust', 3),\n            ( 'state', 'timestep', 0),\n            ( 'state', 'timestep', 1),\n            ( 'state', 'timestep', 2),\n            ( 'state', 'timestep', 3),\n            ( 'state', 'velocity', 0),\n            ( 'state', 'velocity', 1),\n            ( 'state', 'velocity', 2),\n            ( 'state', 'velocity', 3)],\n           names=['tuple', 'rows', 'idx'])"
     },
     "execution_count": 45,
     "metadata": {},
     "output_type": "execute_result"
    },
    {
     "data": {
      "text/plain": "tuple                                                                    action  \\\nrows                                                                         r0   \nidx                                                                           0   \nvehicle driver     episodestart               timestamp                           \nVB7     wang-cheng 2023-07-25 15:30:18.618680 2023-07-25 16:30:18.618680   12.0   \n                                              2023-07-25 17:30:18.618680   12.0   \n                                              2023-07-25 18:30:18.618680   12.0   \n                                              2023-07-25 19:30:18.618680   12.0   \n                                              2023-07-25 20:30:18.618680   12.0   \n\ntuple                                                                           \\\nrows                                                                             \nidx                                                                          1   \nvehicle driver     episodestart               timestamp                          \nVB7     wang-cheng 2023-07-25 15:30:18.618680 2023-07-25 16:30:18.618680  13.0   \n                                              2023-07-25 17:30:18.618680  13.0   \n                                              2023-07-25 18:30:18.618680  13.0   \n                                              2023-07-25 19:30:18.618680  13.0   \n                                              2023-07-25 20:30:18.618680  13.0   \n\ntuple                                                                           \\\nrows                                                                             \nidx                                                                          2   \nvehicle driver     episodestart               timestamp                          \nVB7     wang-cheng 2023-07-25 15:30:18.618680 2023-07-25 16:30:18.618680  14.0   \n                                              2023-07-25 17:30:18.618680  14.0   \n                                              2023-07-25 18:30:18.618680  14.0   \n                                              2023-07-25 19:30:18.618680  14.0   \n                                              2023-07-25 20:30:18.618680  14.0   \n\ntuple                                                                           \\\nrows                                                                             \nidx                                                                          3   \nvehicle driver     episodestart               timestamp                          \nVB7     wang-cheng 2023-07-25 15:30:18.618680 2023-07-25 16:30:18.618680  15.0   \n                                              2023-07-25 17:30:18.618680  15.0   \n                                              2023-07-25 18:30:18.618680  15.0   \n                                              2023-07-25 19:30:18.618680  15.0   \n                                              2023-07-25 20:30:18.618680  15.0   \n\ntuple                                                                           \\\nrows                                                                             \nidx                                                                          4   \nvehicle driver     episodestart               timestamp                          \nVB7     wang-cheng 2023-07-25 15:30:18.618680 2023-07-25 16:30:18.618680  16.0   \n                                              2023-07-25 17:30:18.618680  16.0   \n                                              2023-07-25 18:30:18.618680  16.0   \n                                              2023-07-25 19:30:18.618680  16.0   \n                                              2023-07-25 20:30:18.618680  16.0   \n\ntuple                                                                           \\\nrows                                                                        r1   \nidx                                                                          0   \nvehicle driver     episodestart               timestamp                          \nVB7     wang-cheng 2023-07-25 15:30:18.618680 2023-07-25 16:30:18.618680  17.0   \n                                              2023-07-25 17:30:18.618680  17.0   \n                                              2023-07-25 18:30:18.618680  17.0   \n                                              2023-07-25 19:30:18.618680  17.0   \n                                              2023-07-25 20:30:18.618680  17.0   \n\ntuple                                                                           \\\nrows                                                                             \nidx                                                                          1   \nvehicle driver     episodestart               timestamp                          \nVB7     wang-cheng 2023-07-25 15:30:18.618680 2023-07-25 16:30:18.618680  18.0   \n                                              2023-07-25 17:30:18.618680  18.0   \n                                              2023-07-25 18:30:18.618680  18.0   \n                                              2023-07-25 19:30:18.618680  18.0   \n                                              2023-07-25 20:30:18.618680  18.0   \n\ntuple                                                                           \\\nrows                                                                             \nidx                                                                          2   \nvehicle driver     episodestart               timestamp                          \nVB7     wang-cheng 2023-07-25 15:30:18.618680 2023-07-25 16:30:18.618680  19.0   \n                                              2023-07-25 17:30:18.618680  19.0   \n                                              2023-07-25 18:30:18.618680  19.0   \n                                              2023-07-25 19:30:18.618680  19.0   \n                                              2023-07-25 20:30:18.618680  19.0   \n\ntuple                                                                           \\\nrows                                                                             \nidx                                                                          3   \nvehicle driver     episodestart               timestamp                          \nVB7     wang-cheng 2023-07-25 15:30:18.618680 2023-07-25 16:30:18.618680  20.0   \n                                              2023-07-25 17:30:18.618680  20.0   \n                                              2023-07-25 18:30:18.618680  20.0   \n                                              2023-07-25 19:30:18.618680  20.0   \n                                              2023-07-25 20:30:18.618680  20.0   \n\ntuple                                                                           \\\nrows                                                                             \nidx                                                                          4   \nvehicle driver     episodestart               timestamp                          \nVB7     wang-cheng 2023-07-25 15:30:18.618680 2023-07-25 16:30:18.618680  21.0   \n                                              2023-07-25 17:30:18.618680  21.0   \n                                              2023-07-25 18:30:18.618680  21.0   \n                                              2023-07-25 19:30:18.618680  21.0   \n                                              2023-07-25 20:30:18.618680  21.0   \n\ntuple                                                                     ...  \\\nrows                                                                      ...   \nidx                                                                       ...   \nvehicle driver     episodestart               timestamp                   ...   \nVB7     wang-cheng 2023-07-25 15:30:18.618680 2023-07-25 16:30:18.618680  ...   \n                                              2023-07-25 17:30:18.618680  ...   \n                                              2023-07-25 18:30:18.618680  ...   \n                                              2023-07-25 19:30:18.618680  ...   \n                                              2023-07-25 20:30:18.618680  ...   \n\ntuple                                                                     state  \\\nrows                                                                     thrust   \nidx                                                                           2   \nvehicle driver     episodestart               timestamp                           \nVB7     wang-cheng 2023-07-25 15:30:18.618680 2023-07-25 16:30:18.618680    6.0   \n                                              2023-07-25 17:30:18.618680    6.0   \n                                              2023-07-25 18:30:18.618680    6.0   \n                                              2023-07-25 19:30:18.618680    6.0   \n                                              2023-07-25 20:30:18.618680    6.0   \n\ntuple                                                                          \\\nrows                                                                            \nidx                                                                         3   \nvehicle driver     episodestart               timestamp                         \nVB7     wang-cheng 2023-07-25 15:30:18.618680 2023-07-25 16:30:18.618680  7.0   \n                                              2023-07-25 17:30:18.618680  7.0   \n                                              2023-07-25 18:30:18.618680  7.0   \n                                              2023-07-25 19:30:18.618680  7.0   \n                                              2023-07-25 20:30:18.618680  7.0   \n\ntuple                                                                                                \\\nrows                                                                                       timestep   \nidx                                                                                               0   \nvehicle driver     episodestart               timestamp                                               \nVB7     wang-cheng 2023-07-25 15:30:18.618680 2023-07-25 16:30:18.618680 2023-07-25 15:30:18.618680   \n                                              2023-07-25 17:30:18.618680 2023-07-25 15:30:18.618680   \n                                              2023-07-25 18:30:18.618680 2023-07-25 15:30:18.618680   \n                                              2023-07-25 19:30:18.618680 2023-07-25 15:30:18.618680   \n                                              2023-07-25 20:30:18.618680 2023-07-25 15:30:18.618680   \n\ntuple                                                                                                \\\nrows                                                                                                  \nidx                                                                                               1   \nvehicle driver     episodestart               timestamp                                               \nVB7     wang-cheng 2023-07-25 15:30:18.618680 2023-07-25 16:30:18.618680 2023-07-25 15:30:18.638680   \n                                              2023-07-25 17:30:18.618680 2023-07-25 15:30:18.638680   \n                                              2023-07-25 18:30:18.618680 2023-07-25 15:30:18.638680   \n                                              2023-07-25 19:30:18.618680 2023-07-25 15:30:18.638680   \n                                              2023-07-25 20:30:18.618680 2023-07-25 15:30:18.638680   \n\ntuple                                                                                                \\\nrows                                                                                                  \nidx                                                                                               2   \nvehicle driver     episodestart               timestamp                                               \nVB7     wang-cheng 2023-07-25 15:30:18.618680 2023-07-25 16:30:18.618680 2023-07-25 15:30:18.658680   \n                                              2023-07-25 17:30:18.618680 2023-07-25 15:30:18.658680   \n                                              2023-07-25 18:30:18.618680 2023-07-25 15:30:18.658680   \n                                              2023-07-25 19:30:18.618680 2023-07-25 15:30:18.658680   \n                                              2023-07-25 20:30:18.618680 2023-07-25 15:30:18.658680   \n\ntuple                                                                                                \\\nrows                                                                                                  \nidx                                                                                               3   \nvehicle driver     episodestart               timestamp                                               \nVB7     wang-cheng 2023-07-25 15:30:18.618680 2023-07-25 16:30:18.618680 2023-07-25 15:30:18.678680   \n                                              2023-07-25 17:30:18.618680 2023-07-25 15:30:18.678680   \n                                              2023-07-25 18:30:18.618680 2023-07-25 15:30:18.678680   \n                                              2023-07-25 19:30:18.618680 2023-07-25 15:30:18.678680   \n                                              2023-07-25 20:30:18.618680 2023-07-25 15:30:18.678680   \n\ntuple                                                                              \\\nrows                                                                     velocity   \nidx                                                                             0   \nvehicle driver     episodestart               timestamp                             \nVB7     wang-cheng 2023-07-25 15:30:18.618680 2023-07-25 16:30:18.618680      0.0   \n                                              2023-07-25 17:30:18.618680      0.0   \n                                              2023-07-25 18:30:18.618680      0.0   \n                                              2023-07-25 19:30:18.618680      0.0   \n                                              2023-07-25 20:30:18.618680      0.0   \n\ntuple                                                                          \\\nrows                                                                            \nidx                                                                         1   \nvehicle driver     episodestart               timestamp                         \nVB7     wang-cheng 2023-07-25 15:30:18.618680 2023-07-25 16:30:18.618680  1.0   \n                                              2023-07-25 17:30:18.618680  1.0   \n                                              2023-07-25 18:30:18.618680  1.0   \n                                              2023-07-25 19:30:18.618680  1.0   \n                                              2023-07-25 20:30:18.618680  1.0   \n\ntuple                                                                          \\\nrows                                                                            \nidx                                                                         2   \nvehicle driver     episodestart               timestamp                         \nVB7     wang-cheng 2023-07-25 15:30:18.618680 2023-07-25 16:30:18.618680  2.0   \n                                              2023-07-25 17:30:18.618680  2.0   \n                                              2023-07-25 18:30:18.618680  2.0   \n                                              2023-07-25 19:30:18.618680  2.0   \n                                              2023-07-25 20:30:18.618680  2.0   \n\ntuple                                                                          \nrows                                                                           \nidx                                                                         3  \nvehicle driver     episodestart               timestamp                        \nVB7     wang-cheng 2023-07-25 15:30:18.618680 2023-07-25 16:30:18.618680  3.0  \n                                              2023-07-25 17:30:18.618680  3.0  \n                                              2023-07-25 18:30:18.618680  3.0  \n                                              2023-07-25 19:30:18.618680  3.0  \n                                              2023-07-25 20:30:18.618680  3.0  \n\n[5 rows x 60 columns]",
      "text/html": "<div>\n<style scoped>\n    .dataframe tbody tr th:only-of-type {\n        vertical-align: middle;\n    }\n\n    .dataframe tbody tr th {\n        vertical-align: top;\n    }\n\n    .dataframe thead tr th {\n        text-align: left;\n    }\n\n    .dataframe thead tr:last-of-type th {\n        text-align: right;\n    }\n</style>\n<table border=\"1\" class=\"dataframe\">\n  <thead>\n    <tr>\n      <th></th>\n      <th></th>\n      <th></th>\n      <th>tuple</th>\n      <th colspan=\"10\" halign=\"left\">action</th>\n      <th>...</th>\n      <th colspan=\"10\" halign=\"left\">state</th>\n    </tr>\n    <tr>\n      <th></th>\n      <th></th>\n      <th></th>\n      <th>rows</th>\n      <th colspan=\"5\" halign=\"left\">r0</th>\n      <th colspan=\"5\" halign=\"left\">r1</th>\n      <th>...</th>\n      <th colspan=\"2\" halign=\"left\">thrust</th>\n      <th colspan=\"4\" halign=\"left\">timestep</th>\n      <th colspan=\"4\" halign=\"left\">velocity</th>\n    </tr>\n    <tr>\n      <th></th>\n      <th></th>\n      <th></th>\n      <th>idx</th>\n      <th>0</th>\n      <th>1</th>\n      <th>2</th>\n      <th>3</th>\n      <th>4</th>\n      <th>0</th>\n      <th>1</th>\n      <th>2</th>\n      <th>3</th>\n      <th>4</th>\n      <th>...</th>\n      <th>2</th>\n      <th>3</th>\n      <th>0</th>\n      <th>1</th>\n      <th>2</th>\n      <th>3</th>\n      <th>0</th>\n      <th>1</th>\n      <th>2</th>\n      <th>3</th>\n    </tr>\n    <tr>\n      <th>vehicle</th>\n      <th>driver</th>\n      <th>episodestart</th>\n      <th>timestamp</th>\n      <th></th>\n      <th></th>\n      <th></th>\n      <th></th>\n      <th></th>\n      <th></th>\n      <th></th>\n      <th></th>\n      <th></th>\n      <th></th>\n      <th></th>\n      <th></th>\n      <th></th>\n      <th></th>\n      <th></th>\n      <th></th>\n      <th></th>\n      <th></th>\n      <th></th>\n      <th></th>\n      <th></th>\n    </tr>\n  </thead>\n  <tbody>\n    <tr>\n      <th rowspan=\"5\" valign=\"top\">VB7</th>\n      <th rowspan=\"5\" valign=\"top\">wang-cheng</th>\n      <th rowspan=\"5\" valign=\"top\">2023-07-25 15:30:18.618680</th>\n      <th>2023-07-25 16:30:18.618680</th>\n      <td>12.0</td>\n      <td>13.0</td>\n      <td>14.0</td>\n      <td>15.0</td>\n      <td>16.0</td>\n      <td>17.0</td>\n      <td>18.0</td>\n      <td>19.0</td>\n      <td>20.0</td>\n      <td>21.0</td>\n      <td>...</td>\n      <td>6.0</td>\n      <td>7.0</td>\n      <td>2023-07-25 15:30:18.618680</td>\n      <td>2023-07-25 15:30:18.638680</td>\n      <td>2023-07-25 15:30:18.658680</td>\n      <td>2023-07-25 15:30:18.678680</td>\n      <td>0.0</td>\n      <td>1.0</td>\n      <td>2.0</td>\n      <td>3.0</td>\n    </tr>\n    <tr>\n      <th>2023-07-25 17:30:18.618680</th>\n      <td>12.0</td>\n      <td>13.0</td>\n      <td>14.0</td>\n      <td>15.0</td>\n      <td>16.0</td>\n      <td>17.0</td>\n      <td>18.0</td>\n      <td>19.0</td>\n      <td>20.0</td>\n      <td>21.0</td>\n      <td>...</td>\n      <td>6.0</td>\n      <td>7.0</td>\n      <td>2023-07-25 15:30:18.618680</td>\n      <td>2023-07-25 15:30:18.638680</td>\n      <td>2023-07-25 15:30:18.658680</td>\n      <td>2023-07-25 15:30:18.678680</td>\n      <td>0.0</td>\n      <td>1.0</td>\n      <td>2.0</td>\n      <td>3.0</td>\n    </tr>\n    <tr>\n      <th>2023-07-25 18:30:18.618680</th>\n      <td>12.0</td>\n      <td>13.0</td>\n      <td>14.0</td>\n      <td>15.0</td>\n      <td>16.0</td>\n      <td>17.0</td>\n      <td>18.0</td>\n      <td>19.0</td>\n      <td>20.0</td>\n      <td>21.0</td>\n      <td>...</td>\n      <td>6.0</td>\n      <td>7.0</td>\n      <td>2023-07-25 15:30:18.618680</td>\n      <td>2023-07-25 15:30:18.638680</td>\n      <td>2023-07-25 15:30:18.658680</td>\n      <td>2023-07-25 15:30:18.678680</td>\n      <td>0.0</td>\n      <td>1.0</td>\n      <td>2.0</td>\n      <td>3.0</td>\n    </tr>\n    <tr>\n      <th>2023-07-25 19:30:18.618680</th>\n      <td>12.0</td>\n      <td>13.0</td>\n      <td>14.0</td>\n      <td>15.0</td>\n      <td>16.0</td>\n      <td>17.0</td>\n      <td>18.0</td>\n      <td>19.0</td>\n      <td>20.0</td>\n      <td>21.0</td>\n      <td>...</td>\n      <td>6.0</td>\n      <td>7.0</td>\n      <td>2023-07-25 15:30:18.618680</td>\n      <td>2023-07-25 15:30:18.638680</td>\n      <td>2023-07-25 15:30:18.658680</td>\n      <td>2023-07-25 15:30:18.678680</td>\n      <td>0.0</td>\n      <td>1.0</td>\n      <td>2.0</td>\n      <td>3.0</td>\n    </tr>\n    <tr>\n      <th>2023-07-25 20:30:18.618680</th>\n      <td>12.0</td>\n      <td>13.0</td>\n      <td>14.0</td>\n      <td>15.0</td>\n      <td>16.0</td>\n      <td>17.0</td>\n      <td>18.0</td>\n      <td>19.0</td>\n      <td>20.0</td>\n      <td>21.0</td>\n      <td>...</td>\n      <td>6.0</td>\n      <td>7.0</td>\n      <td>2023-07-25 15:30:18.618680</td>\n      <td>2023-07-25 15:30:18.638680</td>\n      <td>2023-07-25 15:30:18.658680</td>\n      <td>2023-07-25 15:30:18.678680</td>\n      <td>0.0</td>\n      <td>1.0</td>\n      <td>2.0</td>\n      <td>3.0</td>\n    </tr>\n  </tbody>\n</table>\n<p>5 rows × 60 columns</p>\n</div>"
     },
     "execution_count": 45,
     "metadata": {},
     "output_type": "execute_result"
    }
   ],
   "source": [
    "episodestart = ts - pd.Timedelta(1, 'h')\n",
    "dfs_episode = pd.concat([dfs_episode], keys=[ts], names=['episodestart'])\n",
    "dfs_episode = dfs_episode.swaplevel(1, 0, axis=0)\n",
    "dfs_episode = dfs_episode.swaplevel(1, 2, axis=0)\n",
    "dfs_episode.sort_index(inplace=True)\n",
    "dfs_episode.index\n",
    "dfs_episode.columns\n",
    "dfs_episode"
   ]
  },
  {
   "cell_type": "code",
   "execution_count": 46,
   "metadata": {
    "ExecuteTime": {
     "end_time": "2023-07-25T07:30:20.185404Z",
     "start_time": "2023-07-25T07:30:19.805419692Z"
    }
   },
   "outputs": [
    {
     "data": {
      "text/plain": "tuple   rows      idx\naction  r0        0             float64\n                  1             float64\n                  2             float64\n                  3             float64\n                  4             float64\n        r1        0             float64\n                  1             float64\n                  2             float64\n                  3             float64\n                  4             float64\n        r2        0             float64\n                  1             float64\n                  2             float64\n                  3             float64\n                  4             float64\n        speed     0             float64\n                  1             float64\n                  2             float64\n        throttle  0             float64\n                  1             float64\n                  2             float64\n                  3             float64\n                  4             float64\n        timestep  0      datetime64[ns]\n                  1      datetime64[ns]\n                  2      datetime64[ns]\nnstate  brake     0             float64\n                  1             float64\n                  2             float64\n                  3             float64\n        thrust    0             float64\n                  1             float64\n                  2             float64\n                  3             float64\n        timestep  0      datetime64[ns]\n                  1      datetime64[ns]\n                  2      datetime64[ns]\n                  3      datetime64[ns]\n        velocity  0             float64\n                  1             float64\n                  2             float64\n                  3             float64\nreward  timestep  0      datetime64[ns]\n        work      0             float64\nstate   brake     0             float64\n                  1             float64\n                  2             float64\n                  3             float64\n        thrust    0             float64\n                  1             float64\n                  2             float64\n                  3             float64\n        timestep  0      datetime64[ns]\n                  1      datetime64[ns]\n                  2      datetime64[ns]\n                  3      datetime64[ns]\n        velocity  0             float64\n                  1             float64\n                  2             float64\n                  3             float64\ndtype: object"
     },
     "execution_count": 46,
     "metadata": {},
     "output_type": "execute_result"
    }
   ],
   "source": [
    "dfs_episode.dtypes"
   ]
  },
  {
   "cell_type": "code",
   "execution_count": 47,
   "metadata": {
    "ExecuteTime": {
     "end_time": "2023-07-25T07:30:20.185483509Z",
     "start_time": "2023-07-25T07:30:19.805514259Z"
    }
   },
   "outputs": [],
   "source": [
    "vb7 = trucks_by_id['VB7']"
   ]
  },
  {
   "cell_type": "code",
   "execution_count": 48,
   "metadata": {
    "ExecuteTime": {
     "end_time": "2023-07-25T07:30:20.789362618Z",
     "start_time": "2023-07-25T07:30:19.805564533Z"
    }
   },
   "outputs": [
    {
     "ename": "ValidationError",
     "evalue": "4 validation errors for PoolQuery\nepisodestart_start\n  Field required [type=missing, input_value={'site': 'anting', 'vehic...07-25 15:30:18.618680')}, input_type=dict]\n    For further information visit https://errors.pydantic.dev/2.0.3/v/missing\nepisodestart_end\n  Field required [type=missing, input_value={'site': 'anting', 'vehic...07-25 15:30:18.618680')}, input_type=dict]\n    For further information visit https://errors.pydantic.dev/2.0.3/v/missing\ntimestamp_start\n  Field required [type=missing, input_value={'site': 'anting', 'vehic...07-25 15:30:18.618680')}, input_type=dict]\n    For further information visit https://errors.pydantic.dev/2.0.3/v/missing\ntimestamp_end\n  Field required [type=missing, input_value={'site': 'anting', 'vehic...07-25 15:30:18.618680')}, input_type=dict]\n    For further information visit https://errors.pydantic.dev/2.0.3/v/missing",
     "output_type": "error",
     "traceback": [
      "\u001B[0;31m---------------------------------------------------------------------------\u001B[0m",
      "\u001B[0;31mValidationError\u001B[0m                           Traceback (most recent call last)",
      "Cell \u001B[0;32mIn[48], line 3\u001B[0m\n\u001B[1;32m      1\u001B[0m \u001B[38;5;28;01mfrom\u001B[39;00m \u001B[38;5;21;01meos\u001B[39;00m\u001B[38;5;21;01m.\u001B[39;00m\u001B[38;5;21;01mdata_io\u001B[39;00m\u001B[38;5;21;01m.\u001B[39;00m\u001B[38;5;21;01mstruct\u001B[39;00m \u001B[38;5;28;01mimport\u001B[39;00m PoolQuery\n\u001B[0;32m----> 3\u001B[0m query \u001B[38;5;241m=\u001B[39m \u001B[43mPoolQuery\u001B[49m\u001B[43m(\u001B[49m\n\u001B[1;32m      4\u001B[0m \u001B[43m    \u001B[49m\u001B[43msite\u001B[49m\u001B[38;5;241;43m=\u001B[39;49m\u001B[43mtrucks_by_id\u001B[49m\u001B[43m[\u001B[49m\u001B[38;5;124;43m'\u001B[39;49m\u001B[38;5;124;43mVB7\u001B[39;49m\u001B[38;5;124;43m'\u001B[39;49m\u001B[43m]\u001B[49m\u001B[38;5;241;43m.\u001B[39;49m\u001B[43msite\u001B[49m\u001B[43m,\u001B[49m\n\u001B[1;32m      5\u001B[0m \u001B[43m    \u001B[49m\u001B[43mvehicle\u001B[49m\u001B[38;5;241;43m=\u001B[39;49m\u001B[43mtrucks_by_id\u001B[49m\u001B[43m[\u001B[49m\u001B[38;5;124;43m'\u001B[39;49m\u001B[38;5;124;43mVB7\u001B[39;49m\u001B[38;5;124;43m'\u001B[39;49m\u001B[43m]\u001B[49m\u001B[38;5;241;43m.\u001B[39;49m\u001B[43mvid\u001B[49m\u001B[43m,\u001B[49m\n\u001B[1;32m      6\u001B[0m \u001B[43m    \u001B[49m\u001B[43mdriver\u001B[49m\u001B[38;5;241;43m=\u001B[39;49m\u001B[43mdrivers_by_id\u001B[49m\u001B[43m[\u001B[49m\u001B[38;5;124;43m'\u001B[39;49m\u001B[38;5;124;43mzheng-longfei\u001B[39;49m\u001B[38;5;124;43m'\u001B[39;49m\u001B[43m]\u001B[49m\u001B[38;5;241;43m.\u001B[39;49m\u001B[43mpid\u001B[49m\u001B[43m,\u001B[49m\n\u001B[1;32m      7\u001B[0m \u001B[43m    \u001B[49m\u001B[43mstart\u001B[49m\u001B[38;5;241;43m=\u001B[39;49m\u001B[43mepisodestart\u001B[49m\u001B[43m,\u001B[49m\n\u001B[1;32m      8\u001B[0m \u001B[43m    \u001B[49m\u001B[43mend\u001B[49m\u001B[38;5;241;43m=\u001B[39;49m\u001B[43mts\u001B[49m\u001B[43m,\u001B[49m\n\u001B[1;32m      9\u001B[0m \u001B[43m)\u001B[49m\n\u001B[1;32m     10\u001B[0m \u001B[38;5;28misinstance\u001B[39m(query, \u001B[38;5;28mdict\u001B[39m)\n",
      "File \u001B[0;32m/dpt/.pyenv/versions/eos/lib/python3.10/site-packages/pydantic/main.py:150\u001B[0m, in \u001B[0;36mBaseModel.__init__\u001B[0;34m(__pydantic_self__, **data)\u001B[0m\n\u001B[1;32m    148\u001B[0m \u001B[38;5;66;03m# `__tracebackhide__` tells pytest and some other tools to omit this function from tracebacks\u001B[39;00m\n\u001B[1;32m    149\u001B[0m __tracebackhide__ \u001B[38;5;241m=\u001B[39m \u001B[38;5;28;01mTrue\u001B[39;00m\n\u001B[0;32m--> 150\u001B[0m \u001B[43m__pydantic_self__\u001B[49m\u001B[38;5;241;43m.\u001B[39;49m\u001B[43m__pydantic_validator__\u001B[49m\u001B[38;5;241;43m.\u001B[39;49m\u001B[43mvalidate_python\u001B[49m\u001B[43m(\u001B[49m\u001B[43mdata\u001B[49m\u001B[43m,\u001B[49m\u001B[43m \u001B[49m\u001B[43mself_instance\u001B[49m\u001B[38;5;241;43m=\u001B[39;49m\u001B[43m__pydantic_self__\u001B[49m\u001B[43m)\u001B[49m\n",
      "\u001B[0;31mValidationError\u001B[0m: 4 validation errors for PoolQuery\nepisodestart_start\n  Field required [type=missing, input_value={'site': 'anting', 'vehic...07-25 15:30:18.618680')}, input_type=dict]\n    For further information visit https://errors.pydantic.dev/2.0.3/v/missing\nepisodestart_end\n  Field required [type=missing, input_value={'site': 'anting', 'vehic...07-25 15:30:18.618680')}, input_type=dict]\n    For further information visit https://errors.pydantic.dev/2.0.3/v/missing\ntimestamp_start\n  Field required [type=missing, input_value={'site': 'anting', 'vehic...07-25 15:30:18.618680')}, input_type=dict]\n    For further information visit https://errors.pydantic.dev/2.0.3/v/missing\ntimestamp_end\n  Field required [type=missing, input_value={'site': 'anting', 'vehic...07-25 15:30:18.618680')}, input_type=dict]\n    For further information visit https://errors.pydantic.dev/2.0.3/v/missing"
     ]
    }
   ],
   "source": [
    "from eos.data_io.struct import PoolQuery\n",
    "\n",
    "query = PoolQuery(\n",
    "    site=trucks_by_id['VB7'].site,\n",
    "    vehicle=trucks_by_id['VB7'].vid,\n",
    "    driver=drivers_by_id['zheng-longfei'].pid,\n",
    "    start=episodestart,\n",
    "    end=ts,\n",
    ")\n",
    "isinstance(query, dict)"
   ]
  },
  {
   "cell_type": "code",
   "execution_count": null,
   "metadata": {
    "ExecuteTime": {
     "start_time": "2023-07-25T07:30:20.523654571Z"
    }
   },
   "outputs": [],
   "source": [
    "ts_new = pd.to_datetime((datetime.now()))\n",
    "ts_new\n",
    "episodestart = ts_new - pd.Timedelta(2, 'd')\n",
    "episodestart\n",
    "\n",
    "dfs_episode0 = dfs_episode.copy()\n",
    "dfs_episode0.index = dfs_episode0.index.set_levels([episodestart], level='episodestart')\n",
    "dfs_episode0.index = dfs_episode0.index.set_levels(\n",
    "    [[trucks_by_id['VB7'].vid], [drivers_by_id['zheng-longfei'].pid]],\n",
    "    level=['vehicle', 'driver'],\n",
    "    verify_integrity=False,\n",
    ")\n",
    "dfs_episode1 = dfs_episode.copy()\n",
    "dfs_episode1.index = dfs_episode1.index.set_levels(\n",
    "    [episodestart - pd.Timedelta(3, 'd')], level='episodestart'\n",
    ")\n",
    "dfs_episode1.index = dfs_episode1.index.set_levels(\n",
    "    [[trucks_by_id['MP73'].vid], [drivers_by_id['wang-cheng'].pid]],\n",
    "    level=['vehicle', 'driver'],\n",
    "    verify_integrity=False,\n",
    ")\n",
    "dfs_episode2 = dfs_episode.copy()\n",
    "dfs_episode2.index = dfs_episode2.index.set_levels(\n",
    "    [episodestart - pd.Timedelta(4, 'd')], level='episodestart'\n",
    ")\n",
    "dfs_episode2.index = dfs_episode2.index.set_levels(\n",
    "    [[trucks_by_id['VB7'].vid], [drivers_by_id['wang-cheng'].pid]],\n",
    "    level=['vehicle', 'driver'],\n",
    "    verify_integrity=False,\n",
    ")\n",
    "dfs_episode3 = dfs_episode.copy()\n",
    "dfs_episode3.index = dfs_episode3.index.set_levels(\n",
    "    [episodestart - pd.Timedelta(5, 'd')], level='episodestart'\n",
    ")\n",
    "dfs_episode3.index = dfs_episode3.index.set_levels(\n",
    "    [[trucks_by_id['MP73'].vid], [drivers_by_id['zheng-longfei'].pid]],\n",
    "    level=['vehicle', 'driver'],\n",
    "    verify_integrity=False,\n",
    ")\n",
    "dfs_episode0\n",
    "\n"
   ]
  },
  {
   "cell_type": "code",
   "execution_count": null,
   "metadata": {
    "ExecuteTime": {
     "start_time": "2023-07-25T07:30:20.523823758Z"
    }
   },
   "outputs": [],
   "source": [
    "# dfs_episode_concat = pd.concat([dfs_episode, dfs_episode0], axis=0)\n",
    "# display('dfs_episode_concat')\n",
    "# dfs_episode_concat.index\n",
    "# dfs_episode_concat.columns"
   ]
  },
  {
   "cell_type": "code",
   "execution_count": null,
   "metadata": {
    "ExecuteTime": {
     "start_time": "2023-07-25T07:30:20.523952208Z"
    }
   },
   "outputs": [],
   "source": [
    "from functools import reduce\n",
    "\n",
    "episodes = [dfs_episode, dfs_episode0, dfs_episode1, dfs_episode2, dfs_episode3]\n",
    "try:\n",
    "    dfs_episode_all = reduce(\n",
    "        lambda left, right,: pd.concat([left, right], axis=0), episodes\n",
    "    )\n",
    "except Exception as e:\n",
    "    print(e)\n",
    "# dfs_episode_all.sort_index(inplace=True)\n",
    "dfs_episode_all = dfs_episode_all.swaplevel(1, 0, axis=0)\n",
    "dfs_episode_all = dfs_episode_all.swaplevel(1, 2, axis=0)\n",
    "dfs_episode_all.sort_index(inplace=True)\n",
    "dfs_episode_all = dfs_episode_all[['state', 'action', 'reward', 'nstate']]\n",
    "display('dfs_episode_all')\n",
    "dfs_episode_all.index\n",
    "dfs_episode_all.columns"
   ]
  },
  {
   "cell_type": "markdown",
   "metadata": {},
   "source": [
    "## Make MultiIndex to Rows by adding levels of \"Vehicle\" and \"Driver\""
   ]
  },
  {
   "cell_type": "markdown",
   "metadata": {},
   "source": [
    "###  reset index to move vehicle and driver to columns, preprocessing for dask manipulation"
   ]
  },
  {
   "cell_type": "code",
   "execution_count": null,
   "metadata": {
    "ExecuteTime": {
     "start_time": "2023-07-25T07:30:20.524085779Z"
    }
   },
   "outputs": [],
   "source": [
    "dfs_episodes = dfs_episode_all.reset_index(\n",
    "    level=['vehicle', 'driver']\n",
    ")  # unstack vehicle and driver to columns in level 0 with default '' in level 1\n",
    "# # dfs_episodes.columns\n",
    "# # dfs_episode0.index = dfs_episode0.index.set_levels([[trucks[0].vid],[drivers[1].pid]], level=['vehicle', 'driver'], verify_integrity=False)\n",
    "# old_columns = dfs_episodes.columns\n",
    "# # old_columns[0]= (old_columns[0][0],0)\n",
    "# new_columns_tuples = [(old_columns[0][0],0), (old_columns[1][0],0)] + old_columns[2:].to_list()\n",
    "# prepend_columns = pd.MultiIndex.from_tuples(new_columns_tuples, names=old_columns.names)\n",
    "# # prepend_columns\n",
    "\n",
    "# dfs_episodes.columns = prepend_columns\n",
    "dfs_episodes\n",
    "# dfs_episodes.columns\n",
    "# dfs_episodes.dtypes\n",
    "# dfs_episode_all"
   ]
  },
  {
   "cell_type": "code",
   "execution_count": null,
   "metadata": {
    "ExecuteTime": {
     "start_time": "2023-07-25T07:30:20.524282517Z"
    }
   },
   "outputs": [],
   "source": [
    "dfs_episodes.dtypes"
   ]
  },
  {
   "cell_type": "code",
   "execution_count": null,
   "metadata": {
    "ExecuteTime": {
     "start_time": "2023-07-25T07:30:20.524378256Z"
    }
   },
   "outputs": [],
   "source": [
    "dfs_episodes.columns"
   ]
  },
  {
   "cell_type": "code",
   "execution_count": null,
   "metadata": {
    "ExecuteTime": {
     "start_time": "2023-07-25T07:30:20.524500345Z"
    }
   },
   "outputs": [],
   "source": [
    "\n",
    "dfs_episodes['vehicle'] = dfs_episodes['vehicle'].astype(\"category\")\n",
    "dfs_episodes['driver'] = dfs_episodes['driver'].astype(\"category\")\n",
    "# dfs_episodes.dtypes\n",
    "# dfs_episodes.columns\n",
    "# dfs_episodes[['vehicle','driver']].dtypes\n",
    "# dfs_episodes[['vehicle','driver']]\n",
    "# dfs_episodes[['vehicle','driver']].iloc[:3].dtypes\n",
    "# sliced = dfs_episodes[['vehicle']].iloc[:3].stack(level=[-1,-2])\n",
    "# type(sliced)\n",
    "# sliced.index\n",
    "# sliced.values\n",
    "\n",
    "dfs_episodes_sorted = dfs_episodes.sort_index(\n",
    "    axis=1, level=[0, 1, 2], ascending=[True, True, True]\n",
    ")\n",
    "dfs_episodes_sorted.sort_index(axis=0, inplace=True)\n",
    "# dfs_episodes_sorted = dfs_episodes.sort_index(axis=1, level=[0,1], ascending=[True, True])\n",
    "# dfs_episodes_sorted = dfs_episodes.sort_index(axis=0, level=[0,1], ascending=[True, True])\n",
    "# dfs_episodes_sorted.sort_index(axis=1,inplace=True)\n",
    "dfs_episodes_sorted\n",
    "dfs_episodes_sorted.columns\n",
    "\n",
    "# dfs_episodes[['driver'], ['vehicle']] = dfs_episodes[['driver', 'vehicle']].apply(lambda x: x.cat.codes)"
   ]
  },
  {
   "cell_type": "markdown",
   "metadata": {},
   "source": [
    "## dataframe slicing"
   ]
  },
  {
   "cell_type": "code",
   "execution_count": null,
   "metadata": {
    "ExecuteTime": {
     "start_time": "2023-07-25T07:30:20.524604710Z"
    }
   },
   "outputs": [],
   "source": [
    "ts\n",
    "ep_start = ts - pd.Timedelta(9, 'D')\n",
    "ep_start\n",
    "# time_slice\n",
    "episode_slice = pd.date_range(ep_start, periods=6, freq='D')\n",
    "episode_slice"
   ]
  },
  {
   "cell_type": "code",
   "execution_count": null,
   "metadata": {
    "ExecuteTime": {
     "start_time": "2023-07-25T07:30:20.524703766Z"
    }
   },
   "outputs": [],
   "source": [
    "timestamp_slice = pd.date_range(ts, periods=3, freq='H') + pd.Timedelta(10, 'min')\n",
    "timestamp_slice"
   ]
  },
  {
   "cell_type": "code",
   "execution_count": null,
   "metadata": {
    "ExecuteTime": {
     "start_time": "2023-07-25T07:30:20.524814543Z"
    }
   },
   "outputs": [],
   "source": [
    "dfs_episodes_sorted"
   ]
  },
  {
   "cell_type": "code",
   "execution_count": null,
   "metadata": {
    "ExecuteTime": {
     "start_time": "2023-07-25T07:30:20.555314710Z"
    }
   },
   "outputs": [],
   "source": [
    "dfs_episodes_sorted.index\n",
    "dfs_episodes_sorted.columns"
   ]
  },
  {
   "cell_type": "code",
   "execution_count": null,
   "metadata": {
    "ExecuteTime": {
     "start_time": "2023-07-25T07:30:20.555492263Z"
    }
   },
   "outputs": [],
   "source": [
    "# dfs_episode_all.loc['VB7', 'zheng-longfei', episode_slice[0]:episode_slice[3]]\n",
    "# dfs_selected_episodes = dfs_episodes_sorted.loc[trucks[0].vid, drivers[1].pid, episode_slice[0]:episode_slice[3], timestamp_slice[0]:timestamp_slice[2]]\n",
    "idx = pd.IndexSlice\n",
    "dfs_selected_episodes = dfs_episodes_sorted.loc[\n",
    "    idx[episode_slice[0] : episode_slice[5], timestamp_slice[0] : timestamp_slice[2]],\n",
    "    idx['action':'driver'],\n",
    "]\n",
    "dfs_selected_episodes\n",
    "# dfs_selected_episodes[['action', 'reward']]"
   ]
  },
  {
   "cell_type": "code",
   "execution_count": null,
   "metadata": {
    "ExecuteTime": {
     "start_time": "2023-07-25T07:30:20.555590026Z"
    }
   },
   "outputs": [],
   "source": [
    "# dfs_selected_episodes_columns = dfs_episode_all.loc['VB7', 'zheng-longfei', episode_slice[0]:episode_slice[3], timestamp_slice[0]:timestamp_slice[2]][['action', 'reward']]\n",
    "# dfs_selected_episodes_columns"
   ]
  },
  {
   "cell_type": "code",
   "execution_count": null,
   "metadata": {
    "ExecuteTime": {
     "start_time": "2023-07-25T07:30:20.555822251Z"
    }
   },
   "outputs": [],
   "source": [
    "# dfs_episode_all_sorted = dfs_episode_all.sort_index(axis=1)\n",
    "# dfs_episode_all_sorted = dfs_episode_all_sorted.sort_index(axis=0)\n",
    "# dfs_episode_all_sorted"
   ]
  },
  {
   "cell_type": "code",
   "execution_count": null,
   "metadata": {
    "ExecuteTime": {
     "start_time": "2023-07-25T07:30:20.555919914Z"
    }
   },
   "outputs": [],
   "source": [
    "\n",
    "# dfs_selected_episodes_columns = dfs_episode_all_sorted.loc[(slice('VB6'), slice('wang-cheng'), slice(None), slice(None)),:]\n",
    "# idx = pd.IndexSlice\n",
    "# dfs_episode_all_sorted.loc[(idx['VB6'], idx['wang-cheng','zheng-longfei'], slice(None), slice(None)),:]\n",
    "# dfs_selected_episodes_columns = dfs_episode_all_sorted.loc[(idx['VB7'], idx['zheng-longfei'], slice(None), slice(None)),['state','n_state']]\n",
    "# dfs_selected_episodes_columns = dfs_episodes_sorted.loc[(idx['VB7'], idx['zheng-longfei'], slice(None), slice(None)),['state','n_state']]\n",
    "# dfs_selected_episodes_columns"
   ]
  },
  {
   "cell_type": "code",
   "execution_count": null,
   "metadata": {
    "ExecuteTime": {
     "start_time": "2023-07-25T07:30:20.556016615Z"
    }
   },
   "outputs": [],
   "source": [
    "\n",
    "ts_new = pd.to_datetime((datetime.now()))\n",
    "episodestart = ts_new - pd.Timedelta(10, 'd') - pd.Timedelta(6, 'h')\n",
    "episodestart\n",
    "episode_slice = pd.date_range(episodestart, periods=20, freq='d') + pd.Timedelta(\n",
    "    10, 'min'\n",
    ")\n",
    "episode_slice\n",
    "ts\n",
    "time_slice = pd.date_range(ts, periods=6, freq='h') - pd.Timedelta(10, 'min')\n",
    "time_slice\n"
   ]
  },
  {
   "cell_type": "code",
   "execution_count": null,
   "metadata": {
    "ExecuteTime": {
     "start_time": "2023-07-25T07:30:20.556111883Z"
    }
   },
   "outputs": [],
   "source": [
    "\n",
    "episode_slice[4]: episode_slice[8]\n",
    "idx[episode_slice[4] : episode_slice[8]]\n",
    "idx[episode_slice[4] : episode_slice[8], slice(None)]"
   ]
  },
  {
   "cell_type": "code",
   "execution_count": null,
   "metadata": {
    "ExecuteTime": {
     "start_time": "2023-07-25T07:30:20.556208033Z"
    }
   },
   "outputs": [],
   "source": [
    "episode_slice[4]\n",
    "episode_slice[11]\n",
    "# dfs_selected_episodes = dfs_episodes_sorted.loc[idx['VB7'], slice(None), episode_slice[4]:episode_slice[11]]\n",
    "# dfs_selected_episodes\n",
    "# dfs_selected_episodes = dfs_episodes_sorted.loc[slice(None), idx['zheng-longfei'], episode_slice[4]:episode_slice[11]]\n",
    "# dfs_selected_episodes\n",
    "# dfs_selected_episodes = dfs_episode_all.loc[slice(None), idx['zheng-longfei'], episode_slice[4]:episode_slice[11], time_slice[0]:time_slice[3]]\n",
    "# dfs_selected_episodes\n",
    "# epislice = idx(episode_slice[4]:episode_slice[11])\n",
    "\n",
    "# dfs_selected_episodes = dfs_episodes_sorted.loc[idx[episode_slice[4]:episode_slice[11],slice(None)], idx[dfs_episodes_sorted['driver']==drivers[0].pid]]\n",
    "dfs_selected_episodes1 = dfs_episodes_sorted.loc[\n",
    "    dfs_episodes_sorted['driver'] == drivers_by_id['wang-cheng'].pid\n",
    "]\n",
    "dfs_selected_episodes1\n",
    "dfs_selected_episodes2 = dfs_episodes_sorted.loc[\n",
    "    dfs_episodes_sorted['driver'] == drivers_by_id['wang-cheng'].pid\n",
    "].loc[idx[episode_slice[4] : episode_slice[8]]]\n",
    "dfs_selected_episodes2\n",
    "dfs_selected_episodes3 = dfs_episodes_sorted.loc[\n",
    "    (dfs_episodes_sorted['driver'] == drivers_by_id['wang-cheng'].pid)\n",
    "    & (dfs_episodes_sorted['vehicle'] == trucks_by_id['VB7'].vid)\n",
    "].loc[idx[episode_slice[4] : episode_slice[8]]]\n",
    "dfs_selected_episodes3\n",
    "# dfs_selected_episodes31 = dfs_episodes_sorted.loc[idx[episode_slice[4]:episode_slice[8],slice(None)]].loc[ (dfs_episodes_sorted['driver']==drivers[0].pid) & (dfs_episodes_sorted['vehicle']==trucks[0].vid)]\n",
    "# dfs_selected_episodes31 = dfs_episodes_sorted.loc[ (dfs_episodes_sorted['driver']==drivers[0].pid) & (dfs_episodes_sorted['vehicle']==trucks[0].vid) & (idx[episode_slice[4]:episode_slice[8],slice(None)])]\n",
    "# dfs_selected_episodes31\n",
    "# dfs_selected_episodes3.index\n",
    "# dfs_selected_episodes3.columns\n",
    "# dfs_selected_episodes = dfs_episodes_sorted.loc[slice(None), idx['zheng-longfei'], episode_slice[4]:episode_slice[11]]\n",
    "# dfs_selected_episodes\n",
    "# dfs_selected_episodes = dfs_episode_all.loc[slice(None), idx['zheng-longfei'], episode_slice[4]:episode_slice[11], time_slice[0]:time_slice[3]]\n",
    "# dfs_selected_episodes\n"
   ]
  },
  {
   "cell_type": "code",
   "execution_count": null,
   "metadata": {
    "ExecuteTime": {
     "start_time": "2023-07-25T07:30:20.556303111Z"
    }
   },
   "outputs": [],
   "source": [
    "idx[time_slice[0] : time_slice[3]]\n",
    "dfs_selected_episodes3.columns"
   ]
  },
  {
   "cell_type": "code",
   "execution_count": null,
   "metadata": {
    "ExecuteTime": {
     "start_time": "2023-07-25T07:30:20.556449375Z"
    }
   },
   "outputs": [],
   "source": [
    "time_slice2 = pd.date_range(ts, periods=6, freq='S')\n",
    "time_slice2\n",
    "dfs_selected_episodes3_sorted = dfs_selected_episodes3.sort_index(axis=0).sort_index(\n",
    "    axis=1\n",
    ")[['action']]\n",
    "dfs_selected_episodes3_sorted\n",
    "# dfs_selected_episodes3.loc[:, idx[:, :, 0:2, :]]\n",
    "# dfs_selected_episodes3_sorted.loc[:, idx[:, :,time_slice2[0]:time_slice2[1], :]]\n",
    "# dfs_selected_episodes3.loc[idx[:,time_slice[0]:time_slice[2]],:]\n",
    "dfs_selected_episodes3.loc[idx[:, time_slice[0] : time_slice[3]], :]"
   ]
  },
  {
   "cell_type": "code",
   "execution_count": null,
   "metadata": {
    "ExecuteTime": {
     "start_time": "2023-07-25T07:30:20.557608565Z"
    }
   },
   "outputs": [],
   "source": [
    "dfs_selected_episodes3.index\n",
    "# dfs_selected_episodes3.columns\n",
    "time_slice[0]\n",
    "time_slice[3]\n",
    "idx[:, time_slice[0] : time_slice[3]]\n",
    "dfs_selected_episodes4 = dfs_selected_episodes3.loc[\n",
    "    idx[:, time_slice[0] : time_slice[3]], :\n",
    "]\n",
    "# dfs_selected_episodes4 = dfs_selected_episodes3.loc[idx[:,time_slice[0]:time_slice[3],:],:]\n",
    "\n",
    "dfs_selected_episodes4\n",
    "dfs_selected_episodes41 = dfs_selected_episodes3.loc[\n",
    "    idx[:, time_slice[0] : time_slice[3]], 'action':'driver'\n",
    "]\n",
    "dfs_selected_episodes41\n",
    "# dfs_selected_episodes4 = dfs_episodes_sorted.loc[ (dfs_episodes_sorted['driver']==drivers[0].pid) & (dfs_episodes_sorted['vehicle']==trucks[0].vid)].loc[idx[episode_slice[4]:episode_slice[8],time_slice[0]:time_slice[3]]]\n",
    "# dfs_selected_episodes4"
   ]
  },
  {
   "cell_type": "code",
   "execution_count": null,
   "metadata": {
    "ExecuteTime": {
     "start_time": "2023-07-25T07:30:20.559214382Z"
    }
   },
   "outputs": [],
   "source": [
    "\n",
    "# dfs_selected_episodes = dfs_episode_all.loc['VB7', 'zheng-longfei', episode_slice[0]:episode_slice[3], timestamp_slice[0]:timestamp_slice[2]]\n",
    "# dfs_selected_episodes_columns = dfs_episode_all_sorted.loc[(idx['VB7'], idx['zheng-longfei'], slice(None), slice(None)),['state','n_state']]\n",
    "# dfs_selected_episodes_columns\n"
   ]
  },
  {
   "cell_type": "code",
   "execution_count": null,
   "metadata": {
    "ExecuteTime": {
     "start_time": "2023-07-25T07:30:20.560830277Z"
    }
   },
   "outputs": [],
   "source": [
    "dfs_episodes_sorted\n",
    "# dfs_episode.loc[:,'state']\n",
    "dfs_slice = dfs_episodes_sorted.loc[\n",
    "    dfs_episodes_sorted['vehicle'] == 'MP73', ['vehicle', 'driver', 'state', 'reward']\n",
    "]\n",
    "dfs_slice"
   ]
  },
  {
   "cell_type": "markdown",
   "metadata": {},
   "source": [
    "# Saved episodes as parquet in multi-level folders \"vehicle/driver/episode/tuple.parquet\""
   ]
  },
  {
   "cell_type": "code",
   "execution_count": null,
   "metadata": {
    "ExecuteTime": {
     "start_time": "2023-07-25T07:30:20.562453246Z"
    }
   },
   "outputs": [],
   "source": [
    "import os\n",
    "import dask.dataframe as dd\n",
    "from dask.diagnostics import ProgressBar\n",
    "import numpy as np\n",
    "import pandas as pd\n",
    "from datetime import datetime\n",
    "\n",
    "import pyarrow as pa\n",
    "import pyarrow.parquet as pq\n",
    "import platform\n",
    "\n",
    "print('Python: ', platform.python_version())\n",
    "print('pandas: ', pd.__version__)\n",
    "print('pyarrow: ', pa.__version__)\n"
   ]
  },
  {
   "cell_type": "code",
   "execution_count": null,
   "metadata": {
    "ExecuteTime": {
     "start_time": "2023-07-25T07:30:20.591087479Z"
    }
   },
   "outputs": [],
   "source": [
    "os.chdir('../../data')"
   ]
  },
  {
   "cell_type": "code",
   "execution_count": null,
   "metadata": {
    "ExecuteTime": {
     "start_time": "2023-07-25T07:30:20.591198928Z"
    }
   },
   "outputs": [],
   "source": [
    "\n",
    "os.getcwd()"
   ]
  },
  {
   "cell_type": "markdown",
   "metadata": {},
   "source": [
    "## create parquet files"
   ]
  },
  {
   "cell_type": "code",
   "execution_count": null,
   "metadata": {
    "ExecuteTime": {
     "start_time": "2023-07-25T07:30:20.591282134Z"
    }
   },
   "outputs": [],
   "source": [
    "dfs_episodes_sorted\n",
    "dfs_episodes_sorted.index\n",
    "dfs_episodes_sorted.columns\n",
    "dfs_episodes_sorted.dtypes"
   ]
  },
  {
   "cell_type": "code",
   "execution_count": null,
   "metadata": {
    "ExecuteTime": {
     "start_time": "2023-07-25T07:30:20.591363396Z"
    }
   },
   "outputs": [],
   "source": [
    "dfs_complete_episodes = dfs_episodes_sorted.reset_index('episodestart')\n",
    "dfs_complete_episodes\n",
    "dfs_complete_episodes.index\n",
    "dfs_complete_episodes.columns"
   ]
  },
  {
   "cell_type": "code",
   "execution_count": null,
   "metadata": {
    "ExecuteTime": {
     "start_time": "2023-07-25T07:30:20.591444328Z"
    }
   },
   "outputs": [],
   "source": [
    "# dfs_episode4dask = dfs_episode_all_sorted.swaplevel(0,-1, axis=0).swaplevel(1,3, axis=0).swaplevel(2,3, axis=0).unstack()\n",
    "# dfs_episode4dask = dfs_episode4dask.swaplevel(0,-1, axis=1).swaplevel(-2,-1, axis=1)\n",
    "# dfs_episode4dask\n",
    "# # dfs_episode4dask = dfs_episode4dask.swaplevel(0,-1, axis=1).swaplevel(-2,-1, axis=1)\n",
    "# # dfs_episode4dask.index\n",
    "# # dfs_episode4dask.index\n",
    "# # dfs_episode4dask.columns\n",
    "# # dfs_episode4dask\n",
    "# # dfs_episode_all_stack = dfs_episode_all.unstack(level=[-1,-2,-3,])\n",
    "# # dfs_episode_all_stack"
   ]
  },
  {
   "cell_type": "code",
   "execution_count": null,
   "metadata": {
    "ExecuteTime": {
     "start_time": "2023-07-25T07:30:20.591524818Z"
    }
   },
   "outputs": [],
   "source": [
    "# dfs_episode4dask1 = dfs_episode4dask.unstack().swaplevel(-2,-1, axis=1).swaplevel(-2,-3,axis=1).swaplevel(-3,-4,axis=1)\n",
    "# # dfs_episode4dask1\n",
    "# dfs_episode4dask2 = dfs_episode4dask1.unstack().swaplevel(-2,-1, axis=1).swaplevel(-2,-3,axis=1).swaplevel(-3,-4,axis=1).swaplevel(-4,-5,axis=1)\n",
    "# dfs_episode4dask2.sort_index(axis=1, inplace=True)\n",
    "# dfs_episode4dask2\n"
   ]
  },
  {
   "cell_type": "markdown",
   "metadata": {},
   "source": [
    "### encoding multiindex dataframe to flat index for Dask DataFrame"
   ]
  },
  {
   "cell_type": "code",
   "execution_count": null,
   "metadata": {
    "ExecuteTime": {
     "start_time": "2023-07-25T07:30:20.591604377Z"
    }
   },
   "outputs": [],
   "source": [
    "dfs_complete_episodes.columns\n",
    "cols = dfs_complete_episodes.columns.to_flat_index()\n",
    "cols\n",
    "\n",
    "## 3 level index\n",
    "# cols_str = [\n",
    "#     f'{x[0]}_{x[1]}_{x[2]}'\n",
    "#     if (x[1] != '')\n",
    "#     else f'{x[0]}__{x[2]}'\n",
    "#     if (x[2] != '')\n",
    "#     else f'{x[0]}'\n",
    "#     for x in cols\n",
    "# ]\n",
    "\n",
    "## 4 level index\n",
    "cols_str = [\n",
    "    f'{x[0]}_{x[1]}_{x[2]}'\n",
    "    if (x[1] != '' and x[2] != '')\n",
    "    else f'{x[0]}_{x[1]}_'\n",
    "    if (x[1] != '' and x[2] == '')\n",
    "    else f'{x[0]}__{x[2]}'\n",
    "    if (x[2] != '')\n",
    "    else f'{x[0]}__'\n",
    "    for x in cols\n",
    "]\n",
    "cols_str"
   ]
  },
  {
   "cell_type": "code",
   "execution_count": null,
   "metadata": {
    "ExecuteTime": {
     "start_time": "2023-07-25T07:30:20.591688304Z"
    }
   },
   "outputs": [],
   "source": [
    "# encoding index and columns\n",
    "dfs_complete_episodes_flat = dfs_complete_episodes.copy()\n",
    "cols = dfs_complete_episodes.columns.to_flat_index()\n",
    "dfs_complete_episodes_flat.columns = [\n",
    "    f'{x[0]}_{x[1]}_{x[2]}'\n",
    "    if (x[1] != '' and x[2] != '')\n",
    "    else f'{x[0]}_{x[1]}_'\n",
    "    if (x[1] != '' and x[2] == '')\n",
    "    else f'{x[0]}__{x[2]}'\n",
    "    if (x[2] != '')\n",
    "    else f'{x[0]}__'\n",
    "    for x in cols\n",
    "]\n",
    "dfs_complete_episodes_flat\n",
    "\n"
   ]
  },
  {
   "cell_type": "code",
   "execution_count": null,
   "metadata": {
    "ExecuteTime": {
     "start_time": "2023-07-25T07:30:20.591768785Z"
    }
   },
   "outputs": [],
   "source": [
    "\n",
    "dfs_complete_episodes_flat\n",
    "dfs_complete_episodes_flat.dtypes"
   ]
  },
  {
   "cell_type": "code",
   "execution_count": null,
   "metadata": {
    "ExecuteTime": {
     "start_time": "2023-07-25T07:30:20.591848705Z"
    }
   },
   "outputs": [],
   "source": [
    "dfs_complete_episodes_flat['vehicle__'].iloc[0:2].values.dtype\n",
    "dfs_complete_episodes_flat['vehicle__'].dtype\n",
    "dfs_complete_episodes_flat['state_velocity_0'].dtype\n"
   ]
  },
  {
   "cell_type": "code",
   "execution_count": null,
   "metadata": {
    "ExecuteTime": {
     "start_time": "2023-07-25T07:30:20.591927502Z"
    }
   },
   "outputs": [],
   "source": [
    "try:\n",
    "    ddf_episodes = dd.from_pandas(dfs_complete_episodes_flat, npartitions=1)\n",
    "except Exception as e:\n",
    "    print(e)\n",
    "\n",
    "try:\n",
    "    ddf_episodes.index\n",
    "    ddf_episodes.columns\n",
    "except Exception as e:\n",
    "    print(e)\n",
    "\n",
    "ddf_episodes"
   ]
  },
  {
   "cell_type": "code",
   "execution_count": null,
   "metadata": {
    "ExecuteTime": {
     "start_time": "2023-07-25T07:30:20.592007482Z"
    }
   },
   "outputs": [],
   "source": [
    "\n",
    "custom_metadata = {\n",
    "    b'eos': b'{\"length\":[3, 600, 5],\"timezeone\":\"sh\",\"units\":[\"kph\",\"pct\",\"pct\"],\"data_propensity\":[50, 1, 4],\"Dataset Description\": \"MP vehicle from TBox\"}'\n",
    "}\n",
    "custom_metadata"
   ]
  },
  {
   "cell_type": "code",
   "execution_count": null,
   "metadata": {
    "ExecuteTime": {
     "start_time": "2023-07-25T07:30:20.592087402Z"
    }
   },
   "outputs": [],
   "source": [
    "try:\n",
    "    with ProgressBar():\n",
    "        ddf_episodes.to_parquet(\n",
    "            'eos_complete_episodes',\n",
    "            engine='pyarrow',\n",
    "            compression='snappy',\n",
    "            partition_on=['vehicle__', 'driver__', 'episodestart__'],\n",
    "            write_metadata_file=True,\n",
    "            custom_metadata=custom_metadata,\n",
    "        )\n",
    "except Exception as e:\n",
    "    print(e)"
   ]
  },
  {
   "cell_type": "markdown",
   "metadata": {},
   "source": [
    "### Read saved parquet file"
   ]
  },
  {
   "cell_type": "code",
   "execution_count": null,
   "metadata": {
    "ExecuteTime": {
     "start_time": "2023-07-25T07:30:20.592167472Z"
    }
   },
   "outputs": [],
   "source": [
    "ddf = dd.read_parquet(\n",
    "    'eos_complete_episodes',\n",
    "    engine='pyarrow',\n",
    "    compression='snappy',\n",
    "    ignore_metadata_file=False,\n",
    "    infer_divisions=True,\n",
    ")\n",
    "ddf.head(5)\n",
    "ddf.dtypes\n",
    "ddf.npartitions\n",
    "ddf.divisions\n",
    "ddf._meta"
   ]
  },
  {
   "cell_type": "markdown",
   "metadata": {},
   "source": [
    "### Get customized metadata with pyarrow"
   ]
  },
  {
   "cell_type": "code",
   "execution_count": null,
   "metadata": {
    "ExecuteTime": {
     "start_time": "2023-07-25T07:30:20.592326019Z"
    }
   },
   "outputs": [],
   "source": [
    "\n",
    "import pyarrow as pa\n",
    "import pyarrow.parquet as pq\n",
    "import json\n",
    "\n",
    "# print('pyarrow: ', pa.__version__)\n",
    "\n",
    "# table = pq.read_table('ddf_episodes')\n",
    "# table_meta = table.schema.metadata[b'eos']\n",
    "# print(table_meta)\n",
    "# # custom_metadata_info = json.loads(table.schema.metadata[b'eos'])\n",
    "# # print(custom_metadata_info)\n",
    "# try:\n",
    "#     custom_meta_info = json.loads(table_meta)\n",
    "# except Exception as e:\n",
    "#     print(f'Exception: {e}')\n",
    "\n",
    "# print(custom_meta_info)\n",
    "\n",
    "# # Print formatted output of the dichtionary custom_meta_info:\n",
    "# for key, val in custom_meta_info.items():\n",
    "#     print('{:15}: {}'.format(key, val))\n",
    "\n",
    "# ALTERNATE:\n",
    "\n",
    "table_meta = pq.read_metadata('eos_complete_episodes/_common_metadata')\n",
    "# print(table_meta)\n",
    "# print(table_meta.metadata[b'eos'])\n",
    "custom_meta_info = table_meta.metadata[b'eos']\n",
    "custom_meta_info = json.loads(custom_meta_info)\n",
    "# custom_meta_info\n",
    "\n",
    "for key, val in custom_meta_info.items():\n",
    "    print(f'{key}: {val}')\n",
    "\n",
    "# table_meta = pq.read_metadata('ddf_episodes/_metadata')\n",
    "# # print(table_meta)\n",
    "# # print(table_meta.metadata[b'eos'])\n",
    "# custom_meta_info = table_meta.metadata[b'eos']\n",
    "# custom_meta_info = json.loads(custom_meta_info)\n",
    "# custom_meta_info"
   ]
  },
  {
   "cell_type": "markdown",
   "metadata": {},
   "source": [
    "### encoding flat_index of dask dataframe to multiindex"
   ]
  },
  {
   "cell_type": "code",
   "execution_count": null,
   "metadata": {
    "ExecuteTime": {
     "start_time": "2023-07-25T07:30:20.592407551Z"
    }
   },
   "outputs": [],
   "source": [
    "df_episodes_read = ddf.compute()\n",
    "df_episodes_read"
   ]
  },
  {
   "cell_type": "code",
   "execution_count": null,
   "metadata": {
    "ExecuteTime": {
     "start_time": "2023-07-25T07:30:20.592491749Z"
    }
   },
   "outputs": [],
   "source": [
    "# decoding\n",
    "multi_cols = [tuple(col.split('_')) for col in df_episodes_read.columns]\n",
    "multi_cols\n",
    "# multi_cols = [(col[0], int(col[1])) if len(col)==2 else col for col in multi_cols]\n",
    "# multi_cols\n",
    "df_episodes_read_multicol = df_episodes_read.copy()\n",
    "multi_idx = pd.MultiIndex.from_tuples(multi_cols)\n",
    "# multi_idx\n",
    "multi_idx.names = ['tuple', 'rows', 'idx']\n",
    "driver_vehicle = [\n",
    "    idx\n",
    "    for idx in multi_idx\n",
    "    if idx[0] == 'driver' or idx[0] == 'vehicle' or idx[0] == 'episodestart'\n",
    "]\n",
    "driver_vehicle\n",
    "# multi_idx = multi_idx.set_levels([multi_idx.levels[0], multi_idx.levels[1].astype(int)])\n",
    "# multi_idx"
   ]
  },
  {
   "cell_type": "code",
   "execution_count": null,
   "metadata": {
    "ExecuteTime": {
     "start_time": "2023-07-25T07:30:20.592572390Z"
    }
   },
   "outputs": [],
   "source": [
    "# pd.Series([1, np.nan,2,None])\n",
    "# pd.Series([1,np.nan,2,None,pd.NA])"
   ]
  },
  {
   "cell_type": "code",
   "execution_count": null,
   "metadata": {
    "ExecuteTime": {
     "start_time": "2023-07-25T07:30:20.592660184Z"
    }
   },
   "outputs": [],
   "source": [
    "# decoding columns\n",
    "from datetime import datetime\n",
    "\n",
    "multi_tpl = [tuple(col.split('_')) for col in df_episodes_read.columns]\n",
    "# multi_tpl\n",
    "# multi_cols = [(col[0], int(col[1])) if len(col)==2 else col for col in multi_cols]\n",
    "# multi_cols\n",
    "df_episodes_read_multicol = df_episodes_read.copy()\n",
    "multi_col = pd.MultiIndex.from_tuples(multi_tpl)\n",
    "# multi_idx\n",
    "# multi_col\n",
    "i1 = multi_col.get_level_values(0)\n",
    "i1 = [\n",
    "    '' if str(idx) in (str(pd.NA), 'nan', '') else idx for idx in i1\n",
    "]  # convert index of level 2 type to int and '' if NA\n",
    "i1\n",
    "# i2 = multi_col.get_level_values(1).fillna('') # must be null string instead of the default pd.NA or np.nan\n",
    "# i2 = [idx if isinstance(idx, int) else '' for idx in i2]\n",
    "i2 = multi_col.get_level_values(\n",
    "    1\n",
    ")  # must be null string instead of the default pd.NA or np.nan\n",
    "i2 = [\n",
    "    '' if str(idx) in (str(pd.NA), 'nan', '') else idx for idx in i2\n",
    "]  # convert index of level 2 type to int and '' if NA\n",
    "i2\n",
    "# i2 = [idx if isinstance(idx, str) else '' for idx in i2]\n",
    "# i2.astype('int')\n",
    "i3 = multi_col.get_level_values(\n",
    "    2\n",
    ")  # must be null string instead of the default pd.NA or np.nan\n",
    "i3 = [\n",
    "    '' if str(idx) in (str(pd.NA), 'nan', '') else int(idx) for idx in i3\n",
    "]  # convert index of level 2 type to int and '' if NA\n",
    "i3\n",
    "\n",
    "\n",
    "multi_col = pd.MultiIndex.from_arrays([i1, i2, i3])\n",
    "multi_col.names = ['tuple', 'rows', 'idx']\n",
    "multi_col\n",
    "\n",
    "\n",
    "# i2[-1]\n",
    "# i2.dropna()\n",
    "# i2\n",
    "# l2 = ['' if i==nan else i  for i in i2]\n",
    "# l2\n",
    "# i2= i2[:-2].astype('int')\n",
    "# i2 = i2.append(pd.Index(['','']))\n",
    "# l2 = [''] + list(l2.values[:-1])\n",
    "# print(l2)\n",
    "# arrays = [ for i2 in l2 for i1 in l1]\n",
    "# l2 = l2[:-2].astype('int') + ['', '']\n",
    "# multi_col.set_levels(ll, level=['tuple','step'])\n",
    "# driver_vehicle = [idx for idx in multi_idx if idx[0]=='driver' or idx[0]=='vehicle']\n",
    "# multi_tpl =  [(col[0],)  if col[0]=='driver' or col[0]=='vehicle' else (col[0],int(col[1])) for col in multi_col]\n",
    "# multi_idx1 = pd.MultiIndex.from_tuples(multi_idx1)\n",
    "# multi_idx = multi_idx.set_levels([multi_idx.levels[0], multi_idx.levels[1].astype(int)])\n",
    "# multi_col = pd.MultiIndex.from_tuples(multi_tpl)\n",
    "# multi_col"
   ]
  },
  {
   "cell_type": "code",
   "execution_count": null,
   "metadata": {
    "ExecuteTime": {
     "start_time": "2023-07-25T07:30:20.592741246Z"
    }
   },
   "outputs": [],
   "source": [
    "# # decoding index\n",
    "# multi_tuple = [tuple(idx.split('_')) for idx in df_episodes_read.index]\n",
    "# multi_idx = pd.MultiIndex.from_tuples(multi_tuple)\n",
    "# # multi_idx\n",
    "# i0 = multi_idx.get_level_values(\n",
    "#     0\n",
    "# )  # must be null string instead of the default pd.NA or np.nan\n",
    "# i0 = [\n",
    "#     ''\n",
    "#     if str(idx) in (str(pd.NA), 'nan', '')\n",
    "#     else datetime.strptime(idx, '%Y-%m-%dT%H:%M:%S.%f')\n",
    "#     for idx in i0\n",
    "# ]  # convert index of level 2 type to int and '' if NA\n",
    "# i1 = multi_idx.get_level_values(\n",
    "#     1\n",
    "# )  # must be null string instead of the default pd.NA or np.nan\n",
    "# i1 = [\n",
    "#     ''\n",
    "#     if str(idx) in (str(pd.NA), 'nan', '')\n",
    "#     else datetime.strptime(idx, '%Y-%m-%dT%H:%M:%S.%f')\n",
    "#     for idx in i1\n",
    "# ]  # convert index of level 2 type to int and '' if NA\n",
    "# df_episodes_read_multiidx = df_episodes_read.copy()\n",
    "# multi_idx = pd.MultiIndex.from_arrays([i0, i1], names=('episodestart', 'timestamp'))\n",
    "#\n",
    "# multi_idx.dtypes\n",
    "# multi_idx\n",
    "# len(multi_idx)"
   ]
  },
  {
   "cell_type": "code",
   "execution_count": null,
   "metadata": {
    "ExecuteTime": {
     "start_time": "2023-07-25T07:30:20.592821026Z"
    }
   },
   "outputs": [],
   "source": [
    "df_episodes_read_multi = df_episodes_read.copy()\n",
    "df_episodes_read_multi.columns = multi_col\n",
    "# df_episodes_read_multi.index = multi_idx\n",
    "df_episodes_read_multi\n",
    "df_episodes_read_multi.columns\n",
    "df_episodes_read_multi.index\n",
    "df_episodes_read_multi.dtypes"
   ]
  },
  {
   "cell_type": "markdown",
   "metadata": {},
   "source": [
    "### recover deep multiindex from columns ['vehicle','driver','episodestart']"
   ]
  },
  {
   "cell_type": "code",
   "execution_count": null,
   "metadata": {
    "ExecuteTime": {
     "start_time": "2023-07-25T07:30:20.592901356Z"
    }
   },
   "outputs": [],
   "source": [
    "df_episodes_read_multi_setindex = df_episodes_read_multi.set_index(\n",
    "    ['vehicle', 'driver', 'episodestart', df_episodes_read_multi.index]\n",
    ")\n",
    "# df_episodes_read_multi_setindex\n",
    "# df_episodes_read_multi_setindex.sort_index(inplace=True)\n",
    "df_episodes_read_multi_setindex = df_episodes_read_multi_setindex.swaplevel(\n",
    "    1, 2, axis=0\n",
    ").swaplevel(0, 1, axis=0)\n",
    "# df_episodes_read_multi_setindex.index\n",
    "# df_episodes_read_multi_setindex.columns\n",
    "df_episodes_read_multi_setindex"
   ]
  },
  {
   "cell_type": "markdown",
   "metadata": {},
   "source": [
    "## append new episode to the specific parquet file"
   ]
  },
  {
   "cell_type": "code",
   "execution_count": null,
   "metadata": {
    "ExecuteTime": {
     "start_time": "2023-07-25T07:30:20.592981246Z"
    }
   },
   "outputs": [],
   "source": [
    "dfs_episode4 = dfs_episode.copy()\n",
    "dfs_episode4.index = dfs_episode3.index.set_levels(\n",
    "    [episodestart - pd.Timedelta(8, 'd')], level='episodestart'\n",
    ")\n",
    "dfs_episode4.index = dfs_episode3.index.set_levels(\n",
    "    [[trucks_by_id['VB4'].vid], [drivers_by_id['zheng-longfei'].pid]],\n",
    "    level=['vehicle', 'driver'],\n",
    "    verify_integrity=False,\n",
    ")\n",
    "# dfs_episode4\n",
    "dfs_episode4 = dfs_episode4.swaplevel(1, 2, axis=0).swaplevel(0, 1, axis=0)\n",
    "dfs_episode4\n",
    "\n",
    "# dfs_episode5 = dfs_episode.copy()\n",
    "# dfs_episode5.index = dfs_episode3.index.set_levels([episodestart-pd.Timedelta(9,'d')], level='episode')\n",
    "# df_episodes_read_multi_setindex.columns\n",
    "# df_episodes_read_multi_setindex"
   ]
  },
  {
   "cell_type": "code",
   "execution_count": null,
   "metadata": {
    "ExecuteTime": {
     "start_time": "2023-07-25T07:30:20.593062187Z"
    }
   },
   "outputs": [],
   "source": [
    "dfs_episodes_new = pd.concat([df_episodes_read_multi_setindex, dfs_episode4], axis=0)\n",
    "dfs_episodes_new.index.names = ['episodestart', 'vehicle', 'driver', 'timestamp']\n",
    "dfs_episodes_new\n",
    "dfs_episodes_new.columns\n",
    "dfs_episodes_new.index"
   ]
  },
  {
   "cell_type": "markdown",
   "metadata": {},
   "source": [
    "#### save new dataframe back to parquet"
   ]
  },
  {
   "cell_type": "code",
   "execution_count": null,
   "metadata": {
    "ExecuteTime": {
     "start_time": "2023-07-25T07:30:20.593141786Z"
    }
   },
   "outputs": [],
   "source": [
    "\n",
    "os.getcwd()"
   ]
  },
  {
   "cell_type": "code",
   "execution_count": null,
   "metadata": {
    "ExecuteTime": {
     "start_time": "2023-07-25T07:30:20.593252734Z"
    }
   },
   "outputs": [],
   "source": [
    "dfs_episodes_new_flat = dfs_episodes_new.copy()\n",
    "dfs_episodes_new_flat = dfs_episodes_new_flat.reset_index(\n",
    "    level=['vehicle', 'driver', 'episodestart']\n",
    ")\n",
    "dfs_episodes_new_flat.columns\n",
    "dfs_episodes_new_flat.index\n",
    "dfs_episodes_new_flat"
   ]
  },
  {
   "cell_type": "code",
   "execution_count": null,
   "metadata": {
    "ExecuteTime": {
     "start_time": "2023-07-25T07:30:20.593336250Z"
    }
   },
   "outputs": [],
   "source": [
    "# encoding index\n",
    "# from datetime import datetime\n",
    "\n",
    "# flat_idx = dfs_episodes_new_flat.index.to_flat_index()\n",
    "# flat_idx = [\n",
    "#     f'{x[0].strftime(\"%Y-%m-%dT%H:%M:%S.%f\")}_{x[1].strftime(\"%Y-%m-%dT%H:%M:%S.%f\")}'\n",
    "#     if x[1] != ''\n",
    "#     else f'{x[0].strftime(\"%Y-%m-%dT%H:%M:%S.%f\")}'\n",
    "#     for x in flat_idx\n",
    "# ]\n",
    "# # flat_idx\n",
    "\n",
    "# encoding columns\n",
    "flat_cols = dfs_episodes_new_flat.columns.to_flat_index()\n",
    "# flat_cols\n",
    "# flat_cols = [\n",
    "#     f'{x[0]}_{x[1]}_{x[2].strftime(\"%Y-%m-%dT%H:%M:%S.%f\")}_{x[3]}'\n",
    "#     if (x[1] != '' and x[3] not in ('', pd.NaT, str(pd.NA)))\n",
    "#     else f'{x[0]}_{x[1]}_{x[2].strftime(\"%Y-%m-%dT%H:%M:%S.%f\")}_'\n",
    "#     if (x[1] != '' and x[3] in ('', pd.NaT, str(pd.NA)))\n",
    "#     else f'{x[0]}__{x[2].strftime(\"%Y-%m-%dT%H:%M:%S.%f\")}_'\n",
    "#     if (x[2] not in ('', pd.NaT, str(pd.NA)))\n",
    "#     else f'{x[0]}___'\n",
    "#     for x in flat_cols\n",
    "# ]\n",
    "flat_cols = [\n",
    "    f'{x[0]}_{x[1]}_{x[2]}'\n",
    "    if (x[1] != '' and x[2] not in ('', pd.NaT, str(pd.NA)))\n",
    "    else f'{x[0]}_{x[1]}_'\n",
    "    if (x[1] != '' and x[2] in ('', pd.NaT, str(pd.NA)))\n",
    "    else f'{x[0]}__{x[2]}'\n",
    "    if (x[2] not in ('', pd.NaT, str(pd.NA)))\n",
    "    else f'{x[0]}__'\n",
    "    for x in flat_cols\n",
    "]\n",
    "flat_cols"
   ]
  },
  {
   "cell_type": "code",
   "execution_count": null,
   "metadata": {
    "ExecuteTime": {
     "start_time": "2023-07-25T07:30:20.593448941Z"
    }
   },
   "outputs": [],
   "source": [
    "\n",
    "dfs_episodes_new_flat.columns = flat_cols\n",
    "# dfs_episodes_new_flat.index = flat_idx\n",
    "dfs_episodes_new_flat['vehicle__'] = dfs_episodes_new_flat['vehicle__'].astype(\n",
    "    \"category\"\n",
    ")\n",
    "dfs_episodes_new_flat['driver__'] = dfs_episodes_new_flat['driver__'].astype(\"category\")\n",
    "dfs_episodes_new_flat['episodestart__'] = dfs_episodes_new_flat[\n",
    "    'episodestart__'\n",
    "].astype(\"datetime64[ns]\")\n",
    "# dfs_episodes_new_flat.index.name = 'episodestart_timestamp'\n",
    "dfs_episodes_new_flat.index\n",
    "dfs_episodes_new_flat.dtypes\n",
    "# dfs_episodes_new_flat.columns.name = 'episodestart_timestamp'\n",
    "dfs_episodes_new_flat.columns\n",
    "dfs_episodes_new_flat\n"
   ]
  },
  {
   "cell_type": "code",
   "execution_count": null,
   "metadata": {
    "ExecuteTime": {
     "start_time": "2023-07-25T07:30:20.593562314Z"
    }
   },
   "outputs": [],
   "source": [
    "try:\n",
    "    ddf_episodes_new = dd.from_pandas(dfs_episodes_new_flat, npartitions=1)\n",
    "except Exception as e:\n",
    "    print(e)\n",
    "ddf_episodes_new.dtypes\n",
    "# dfs_episodes_new_flat\n"
   ]
  },
  {
   "cell_type": "code",
   "execution_count": null,
   "metadata": {
    "ExecuteTime": {
     "start_time": "2023-07-25T07:30:20.593644778Z"
    }
   },
   "outputs": [],
   "source": [
    "os.getcwd()\n",
    "custom_metadata = {\n",
    "    b'eos': b'{\"length\":[6, 600, 5],\"timezeone\":\"sh\",\"units\":[\"kph\",\"pct\",\"pct\"],\"data_propensity\":[50, 1, 4],\"Dataset Description\": \"MP vehicle from TBox\"}'\n",
    "}\n",
    "\n",
    "try:\n",
    "    with ProgressBar():\n",
    "        ddf_episodes_new.to_parquet(\n",
    "            'eos_complete_episodes',\n",
    "            engine='pyarrow',\n",
    "            compression='snappy',\n",
    "            partition_on=['vehicle__', 'driver__', 'episodestart__'],\n",
    "            write_metadata_file=True,\n",
    "            custom_metadata=custom_metadata,\n",
    "        )\n",
    "except Exception as e:\n",
    "    print(e)"
   ]
  },
  {
   "cell_type": "code",
   "execution_count": null,
   "metadata": {
    "ExecuteTime": {
     "start_time": "2023-07-25T07:30:20.594028847Z"
    }
   },
   "outputs": [],
   "source": [
    "ddf = dd.read_parquet(\n",
    "    'eos_complete_episodes',\n",
    "    engine='pyarrow',\n",
    "    compression='snappy',\n",
    "    ignore_metadata_file=False,\n",
    "    infer_divisions=True,\n",
    ")\n",
    "pq_meta = pq.read_metadata('eos_episodes/_common_metadata')\n",
    "custom_meta_info = pq_meta.metadata[b'eos']\n",
    "custom_meta_info = json.loads(custom_meta_info)\n",
    "for key, val in custom_meta_info.items():\n",
    "    print(f'{key}: {val}')\n",
    "ddf.dtypes\n",
    "df = ddf.compute()\n",
    "\n",
    "# decoding columns index\n",
    "multi_tpl = [tuple(col.split('_')) for col in df.columns]\n",
    "multi_col = pd.MultiIndex.from_tuples(multi_tpl)\n",
    "i1 = multi_col.get_level_values(0)\n",
    "i1 = ['' if str(idx) in (str(pd.NA), 'nan', '') else idx for idx in i1]\n",
    "i2 = multi_col.get_level_values(\n",
    "    1\n",
    ")  # must be null string instead of the default pd.NA or np.nan\n",
    "i2 = [\n",
    "    '' if str(idx) in (str(pd.NA), 'nan', '') else idx for idx in i2\n",
    "]  # convert index of level 2 type to int and '' if NA\n",
    "i3 = multi_col.get_level_values(\n",
    "    2\n",
    ")  # must be null string instead of the default pd.NA or np.nan\n",
    "i3 = [\n",
    "    '' if str(idx) in (str(pd.NA), 'nan', '') else int(idx) for idx in i3\n",
    "]  # convert index of level 2 type to int and '' if NA\n",
    "\n",
    "\n",
    "multi_col = pd.MultiIndex.from_arrays([i1, i2, i3])\n",
    "multi_col.names = ['tuple', 'rows', 'idx']\n",
    "multi_col\n",
    "\n",
    "# # decoding index\n",
    "# multi_tuple = [tuple(idx.split('_')) for idx in df.index]\n",
    "# multi_idx = pd.MultiIndex.from_tuples(multi_tuple)\n",
    "\n",
    "# i0 = multi_idx.get_level_values(\n",
    "#     0\n",
    "# )  # must be null string instead of the default pd.NA or np.nan\n",
    "# i0 = [\n",
    "#     ''\n",
    "#     if str(idx) in (str(pd.NA), 'nan', '')\n",
    "#     else datetime.strptime(idx, '%Y-%m-%dT%H:%M:%S.%f')\n",
    "#     for idx in i0\n",
    "# ]  # convert index of level 2 type to int and '' if NA\n",
    "# i1 = multi_idx.get_level_values(\n",
    "#     1\n",
    "# )  # must be null string instead of the default pd.NA or np.nan\n",
    "# i1 = [\n",
    "#     ''\n",
    "#     if str(idx) in (str(pd.NA), 'nan', '')\n",
    "#     else datetime.strptime(idx, '%Y-%m-%dT%H:%M:%S.%f')\n",
    "#     for idx in i1\n",
    "# ]  # convert index of level 2 type to int and '' if NA\n",
    "# df_episodes_read_multiidx = df_episodes_read.copy()\n",
    "# multi_idx = pd.MultiIndex.from_arrays([i0, i1], names=('episodestart', 'timestamp'))\n",
    "#\n",
    "# multi_idx.names = ['episodestart', 'timestamp']\n",
    "\n",
    "df.columns = multi_col\n",
    "# df.index = multi_idx\n",
    "\n",
    "df = df.set_index(['vehicle', 'driver', 'episodestart', df.index])\n",
    "df.index.dtypes\n",
    "df.index\n",
    "# len(multi_idx)"
   ]
  },
  {
   "cell_type": "markdown",
   "metadata": {},
   "source": [
    "### add rows to a partition"
   ]
  },
  {
   "cell_type": "code",
   "execution_count": null,
   "metadata": {
    "ExecuteTime": {
     "start_time": "2023-07-25T07:30:20.637399641Z"
    }
   },
   "outputs": [],
   "source": [
    "\n",
    "ddf = dd.read_parquet(\n",
    "    'eos_complete_episodes',\n",
    "    engine='pyarrow',\n",
    "    compression='snappy',\n",
    "    ignore_metadata_file=False,\n",
    "    infer_divisions=True,\n",
    ")\n",
    "ddf.index\n",
    "ddf.npartitions\n",
    "ddf.divisions\n",
    "ddf.dtypes\n",
    "\n",
    "# ddf['episodestart'] = ddf['episodestart'].astype('datetime64[ns]')  # error,  not allowed for dask dataframe\n",
    "# ddf.assign(episodestart=ddf['episodestart'].astype('datetime64[ns]'))\n",
    "ddf = ddf['episodestart'].astype('datetime64[ns]')\n",
    "ddf.dtypes\n",
    "# ddf.compute()"
   ]
  },
  {
   "cell_type": "code",
   "execution_count": null,
   "metadata": {
    "ExecuteTime": {
     "start_time": "2023-07-25T07:30:20.637503355Z"
    }
   },
   "outputs": [],
   "source": [
    "dfs_episode5 = dfs_episode4.copy()\n",
    "dfs_episode5.index = dfs_episode4.index.set_levels(\n",
    "    [episodestart - pd.Timedelta(9, 'd')], level='episodestart'\n",
    ")\n",
    "dfs_episode5.index = dfs_episode4.index.set_levels(\n",
    "    [[trucks_by_id['MP74'].vid], [drivers_by_id['zheng-longfei'].pid]],\n",
    "    level=['vehicle', 'driver'],\n",
    "    verify_integrity=False,\n",
    ")\n",
    "# dfs_episode5 = dfs_episode5.swaplevel(0,1, axis=0).swaplevel(1,2,axis=0)\n",
    "dfs_episode5 = dfs_episode5.reset_index(level=['vehicle', 'driver', 'episodestart'])\n",
    "\n",
    "dfs_episode5['vehicle'] = dfs_episode5['vehicle'].astype('category')\n",
    "dfs_episode5['driver'] = dfs_episode5['driver'].astype('category')\n",
    "# dfs_episode5['episodestart'] = dfs_episode5['episodestart'].astype('category')\n",
    "dfs_episode5.dtypes\n",
    "\n",
    "\n",
    "# encoding columns index\n",
    "dfs_episode5.columns = [\n",
    "    f'{x[0]}_{x[1]}_{x[2]}'\n",
    "    if (x[1] != '' and x[2] != '')\n",
    "    else f'{x[0]}_{x[1]}_'\n",
    "    if (x[1] != '' and x[2] == '')\n",
    "    else f'{x[0]}__{x[2]}'  # !!! dunder!!!\n",
    "    if (x[2] != '')\n",
    "    else f'{x[0]}__'\n",
    "    for x in dfs_episode5.columns.to_flat_index()\n",
    "]\n",
    "# df_episode_new.index = [\n",
    "#     f'{x[0].strftime(\"%Y-%m-%dT%H:%M:%S.%f\")}_{x[1].strftime(\"%Y-%m-%dT%H:%M:%S.%f\")}'\n",
    "#     if x[1] != ''\n",
    "#     else f'{x[0].strftime(\"%Y-%m-%dT%H:%M:%S.%f\")}'\n",
    "#     for x in dfs_episode5.index.to_flat_index()\n",
    "# ]\n",
    "# df_episode_new.dtypes\n",
    "dfs_episode5\n",
    "\n"
   ]
  },
  {
   "cell_type": "code",
   "execution_count": null,
   "metadata": {
    "ExecuteTime": {
     "start_time": "2023-07-25T07:30:20.637605166Z"
    }
   },
   "outputs": [],
   "source": [
    "\n",
    "dfs_episode6 = dfs_episode4.copy()\n",
    "dfs_episode6.index = dfs_episode4.index.set_levels(\n",
    "    [episodestart - pd.Timedelta(19, 'd')], level='episodestart'\n",
    ")\n",
    "dfs_episode6.index = dfs_episode4.index.set_levels(\n",
    "    [[trucks_by_id['MP73'].vid], [drivers_by_id['wang-cheng'].pid]],\n",
    "    level=['vehicle', 'driver'],\n",
    "    verify_integrity=False,\n",
    ")\n",
    "# dfs_episode6 = dfs_episode5.swaplevel(0, 1, axis=0).swaplevel(1, 2, axis=0)\n",
    "dfs_episode6 = dfs_episode6.reset_index(level=['vehicle', 'driver', 'episodestart'])\n",
    "\n",
    "dfs_episode6['vehicle'] = dfs_episode6['vehicle'].astype('category')\n",
    "dfs_episode6['driver'] = dfs_episode6['driver'].astype('category')\n",
    "# dfs_episode6['episodestart'] = dfs_episode6['episodestart'].astype('category')\n",
    "dfs_episode6.dtypes\n",
    "# encoding columns index\n",
    "dfs_episode6.columns = [\n",
    "    f'{x[0]}_{x[1]}_{x[2]}'\n",
    "    if (x[1] != '' and x[2] != '')\n",
    "    else f'{x[0]}_{x[1]}_'\n",
    "    if (x[1] != '' and x[2] == '')\n",
    "    else f'{x[0]}__{x[2]}'  # !!! dunder!!!\n",
    "    if (x[2] != '')\n",
    "    else f'{x[0]}__'\n",
    "    for x in dfs_episode6.columns.to_flat_index()\n",
    "]\n",
    "# dfs_episode6.index = [\n",
    "#     f'{x[0].strftime(\"%Y-%m-%dT%H:%M:%S.%f\")}_{x[1].strftime(\"%Y-%m-%dT%H:%M:%S.%f\")}'\n",
    "#     if x[1] != ''\n",
    "#     else f'{x[0].strftime(\"%Y-%m-%dT%H:%M:%S.%f\")}'\n",
    "#     for x in dfs_episode6.index.to_flat_index()\n",
    "# ]\n",
    "# df_episode_new.dtypes\n",
    "dfs_episode6\n"
   ]
  },
  {
   "cell_type": "markdown",
   "metadata": {},
   "source": [
    "#### encoding single dataframe of multiindex into dask single index dataframe"
   ]
  },
  {
   "cell_type": "code",
   "execution_count": null,
   "metadata": {
    "ExecuteTime": {
     "start_time": "2023-07-25T07:30:20.637699032Z"
    }
   },
   "outputs": [],
   "source": [
    "ddf_read = dd.read_parquet(\n",
    "    'eos_complete_episodes',\n",
    "    engine='pyarrow',\n",
    "    compression='snappy',\n",
    "    ignore_metadata_file=False,\n",
    "    infer_divisions=True,\n",
    ")\n",
    "# df_all = ddf_read.compute()\n",
    "# df_all\n",
    "# idx = pd.IndexSlice\n",
    "# col_epistart = ddf_read.loc[:, 'episodestart__'].astype('datetime64[ns]').compute()\n",
    "# col_epistart\n",
    "#\n",
    "# ddf_read.loc[:, 'episodestart__'] = ddf_read.loc[:, 'episodestart__'].astype(\n",
    "#     'datetime64[ns]'\n",
    "# )\n",
    "ddf_read['episodestart__'] = ddf_read['episodestart__'].astype('datetime64[ns]')\n",
    "ddf_read.compute()\n"
   ]
  },
  {
   "cell_type": "code",
   "execution_count": null,
   "metadata": {
    "ExecuteTime": {
     "start_time": "2023-07-25T07:30:20.637782819Z"
    }
   },
   "outputs": [],
   "source": [
    "# ddf_episodes_new = dd.concat([dfs_episode5, dfs_episode6])\n",
    "# ddf_combine = dd.concat([ddf_read, ddf_episodes_new])\n",
    "ddf_combine = dd.concat([ddf_read, dfs_episode5, dfs_episode6])\n",
    "ddf_combine.compute()\n",
    "ddf_combine.dtypes"
   ]
  },
  {
   "cell_type": "code",
   "execution_count": null,
   "metadata": {
    "ExecuteTime": {
     "start_time": "2023-07-25T07:30:20.637865874Z"
    }
   },
   "outputs": [],
   "source": [
    "# ddf_list = []\n",
    "# for n in range(ddf_read.npartitions):\n",
    "#     ddf_list.append(ddf_read.partitions[n])\n",
    "#     # ddf_list[n].compute()\n",
    "# len(ddf_list)\n",
    "# type(ddf_list[0])"
   ]
  },
  {
   "cell_type": "code",
   "execution_count": null,
   "metadata": {
    "ExecuteTime": {
     "start_time": "2023-07-25T07:30:20.637952556Z"
    }
   },
   "outputs": [],
   "source": [
    "# df_new_list = [dfs_episode5, dfs_episode6]\n",
    "# df_attach = []\n",
    "# for df in df_new_list:\n",
    "#     bHit = False\n",
    "#     for i, ddf in enumerate(ddf_list):\n",
    "#         # if dfs_episode_new['vehicle']\n",
    "#         print(f\"{i}\")\n",
    "#         # df = ddf.compute()\n",
    "#         # ddf.columns\n",
    "#         # ddf.dtypes\n",
    "#         # type(ddf)\n",
    "#         vehicle = ddf['vehicle__'].compute()[0]\n",
    "#         driver = ddf['driver__'].compute()[0]\n",
    "#         # df_episode_new = df_episode_new.append(ddf)\n",
    "#         if df['vehicle__'][0] == vehicle and df['driver__'][0] == driver:\n",
    "#             bHit = True\n",
    "#             print(\n",
    "#                 f'hit {i}{\"st\" if i==1 else \"nd\" if i==2 else \"rd\" if i==3 else \"th\"} partition'\n",
    "#             )\n",
    "#             # ddf_list[i] = dd.concat([ddf, df], axis=0)\n",
    "#             df_attach.append(df)\n",
    "#             # append ddf to dfs_episode_new\n",
    "#\n",
    "#     if bHit == False:\n",
    "#         print('no hit')\n",
    "#         df_attach.append(df)\n",
    "#         # append ddf to dfs_episode_new\n",
    "#\n",
    "#\n",
    "# #     c_ep = df_episode_new['ep\n",
    "#     dfs_episode_new = dfs_episode_newappend(ddf)\n",
    "# print(f\"splicing dfs_episode_new {c_ep} with\n",
    "# df_attach.append(df)"
   ]
  },
  {
   "cell_type": "code",
   "execution_count": null,
   "metadata": {
    "ExecuteTime": {
     "start_time": "2023-07-25T07:30:20.638036784Z"
    }
   },
   "outputs": [],
   "source": [
    "# df_attach[0].dtypes"
   ]
  },
  {
   "cell_type": "code",
   "execution_count": null,
   "metadata": {
    "ExecuteTime": {
     "start_time": "2023-07-25T07:30:20.638118217Z"
    }
   },
   "outputs": [],
   "source": [
    "# ddf_list.append(df_attach[0])\n",
    "# ddf_list[0].dtypes\n",
    "# ddf_all = dd.concat(ddf_list, axis=0, join='outer')"
   ]
  },
  {
   "cell_type": "markdown",
   "metadata": {},
   "source": []
  },
  {
   "cell_type": "code",
   "execution_count": null,
   "metadata": {
    "ExecuteTime": {
     "start_time": "2023-07-25T07:30:20.638200210Z"
    }
   },
   "outputs": [],
   "source": [
    "\n",
    "# ddf_all.compute()os.getcwd()\n",
    "custom_metadata = {\n",
    "    b'eos': b'{\"length\":[8, 800, 8],\"timezeone\":\"sh\",\"units\":[\"kph\",\"pct\",\"pct\"],\"data_propensity\":[50, 1, 4],\"Dataset Description\": \"MP vehicle from TBox\"}'\n",
    "}\n",
    "\n",
    "try:\n",
    "    with ProgressBar():\n",
    "        ddf_combine.to_parquet(\n",
    "            'eos_combine_episodes',\n",
    "            engine='pyarrow',\n",
    "            compression='snappy',\n",
    "            partition_on=['vehicle__', 'driver__', 'episodestart__'],\n",
    "            write_metadata_file=True,\n",
    "            custom_metadata=custom_metadata,\n",
    "        )\n",
    "except Exception as e:\n",
    "    print(e)\n"
   ]
  },
  {
   "cell_type": "code",
   "execution_count": null,
   "metadata": {
    "ExecuteTime": {
     "start_time": "2023-07-25T07:30:20.638282695Z"
    }
   },
   "outputs": [],
   "source": []
  },
  {
   "cell_type": "code",
   "execution_count": null,
   "metadata": {
    "ExecuteTime": {
     "start_time": "2023-07-25T07:30:20.638368215Z"
    }
   },
   "outputs": [],
   "source": [
    "# ddf_all.compute()\n",
    "ddf = dd.read_parquet(\n",
    "    'eos_combine_episodes',\n",
    "    engine='pyarrow',\n",
    "    compression='snappy',\n",
    "    ignore_metadata_file=False,\n",
    "    infer_divisions=True,\n",
    ")\n",
    "pq_meta = pq.read_metadata('eos_combine_episodes/_common_metadata')\n",
    "# print(table_meta)\n",
    "# print(table_meta.metadata[b'eos'])\n",
    "custom_meta_info = pq_meta.metadata[b'eos']\n",
    "custom_meta_info = json.loads(custom_meta_info)\n",
    "# custom_meta_info\n",
    "\n",
    "for key, val in custom_meta_info.items():\n",
    "    print(f'{key}: {val}')\n",
    "\n",
    "df = ddf.compute()\n",
    "\n",
    "multi_tpl = [tuple(col.split('_')) for col in ddf.columns]\n",
    "multi_col = pd.MultiIndex.from_tuples(multi_tpl)\n",
    "i1 = multi_col.get_level_values(0)\n",
    "i1 = [\n",
    "    '' if str(idx) in (str(pd.NA), 'nan', '') else idx for idx in i1\n",
    "]  # convert index of level 2 type to int and '' if NA\n",
    "i2 = multi_col.get_level_values(\n",
    "    1\n",
    ")  # must be null string instead of the default pd.NA or np.nan\n",
    "i2 = [\n",
    "    '' if str(idx) in (str(pd.NA), 'nan', '') else idx for idx in i2\n",
    "]  # convert index of level 2 type to int and '' if NA\n",
    "i3 = multi_col.get_level_values(\n",
    "    2\n",
    ")  # must be null string instead of the default pd.NA or np.nan\n",
    "i3 = [\n",
    "    '' if str(idx) in (str(pd.NA), 'nan', '') else int(idx) for idx in i3\n",
    "]  # convert index of level 2 type to int and '' if NA\n",
    "\n",
    "multi_col = pd.MultiIndex.from_arrays([i1, i2, i3])\n",
    "multi_col.names = ['tuple', 'rows', 'idx']\n",
    "df.columns = multi_col\n",
    "\n",
    "# multi_idx = [tuple(idx.split('_')) for idx in ddf.index]\n",
    "# multi_idx = pd.MultiIndex.from_tuples(multi_idx)\n",
    "# i0 = multi_idx.get_level_values(\n",
    "#     0\n",
    "# )  # must be null string instead of the default pd.NA or np.nan\n",
    "# i0 = [\n",
    "#     ''\n",
    "#     if str(idx) in (str(pd.NA), 'nan', '')\n",
    "#     else datetime.strptime(idx, '%Y-%m-%dT%H:%M:%S.%f')\n",
    "#     for idx in i0\n",
    "# ]  # convert index of level 2 type to int and '' if NA\n",
    "# i1 = multi_idx.get_level_values(\n",
    "#     1\n",
    "# )  # must be null string instead of the default pd.NA or np.nan\n",
    "# i1 = [\n",
    "#     ''\n",
    "#     if str(idx) in (str(pd.NA), 'nan', '')\n",
    "#     else datetime.strptime(idx, '%Y-%m-%dT%H:%M:%S.%f')\n",
    "#     for idx in i1\n",
    "# ]  # convert index of level 2 type to int and '' if NA\n",
    "# multi_idx = pd.MultiIndex.from_arrays([i0, i1], names=('episodestart', 'timestamp'))\n",
    "# df.index = multi_idx\n",
    "\n",
    "\n",
    "df = df.set_index(['vehicle', 'driver', 'episodestart', df.index])\n",
    "df\n",
    "df.columns\n",
    "df.index\n",
    "# len(multi_idx)\n"
   ]
  },
  {
   "cell_type": "markdown",
   "metadata": {},
   "source": []
  },
  {
   "cell_type": "markdown",
   "metadata": {},
   "source": [
    "## Sample Quadratuple from parquet files"
   ]
  },
  {
   "cell_type": "code",
   "execution_count": null,
   "metadata": {
    "ExecuteTime": {
     "start_time": "2023-07-25T07:30:20.638451390Z"
    }
   },
   "outputs": [],
   "source": [
    "\n",
    "ddf = dd.read_parquet(\n",
    "    'eos_combine_episodes',\n",
    "    engine='pyarrow',\n",
    "    compression='snappy',\n",
    "    ignore_metadata_file=False,\n",
    "    infer_divisions=True,\n",
    ")\n",
    "df = ddf.compute()\n",
    "df = df.sort_index()\n",
    "df"
   ]
  },
  {
   "cell_type": "code",
   "execution_count": null,
   "metadata": {
    "ExecuteTime": {
     "start_time": "2023-07-25T07:30:20.638565775Z"
    }
   },
   "outputs": [],
   "source": [
    "ddf_list = []\n",
    "for n in range(ddf.npartitions):\n",
    "    ddf_list.append(ddf.partitions[n])\n",
    "len(ddf_list)\n",
    "type(ddf_list[0])\n"
   ]
  },
  {
   "cell_type": "markdown",
   "metadata": {},
   "source": [
    "## Sample Quadratuple from parquet files\n"
   ]
  },
  {
   "cell_type": "code",
   "execution_count": null,
   "metadata": {
    "ExecuteTime": {
     "start_time": "2023-07-25T07:30:20.638647498Z"
    }
   },
   "outputs": [],
   "source": [
    "target_vehicle = 'VB7'\n",
    "target_driver = 'wang-cheng'\n",
    "partition = []\n",
    "for i, ddf in enumerate(ddf_list):\n",
    "    # if dfs_episode_new['vehicle']\n",
    "    print(f\"{i}\")\n",
    "    # df = ddf.compute()\n",
    "    # ddf.columns\n",
    "    # ddf.dtypes\n",
    "    vehicle = ddf['vehicle__'].compute()[0]\n",
    "    driver = ddf['driver__'].compute()[0]\n",
    "    # df_episode_new = df_episode_new.append(ddf)\n",
    "    if target_vehicle == vehicle and target_driver == driver:\n",
    "        bHit = True\n",
    "        print(\n",
    "            f'hit {i}{\"st\" if i==1 else \"nd\" if i==2 else \"rd\" if i==3 else \"th\"} partition'\n",
    "        )\n",
    "        # k = i\n",
    "        partition.append(i)\n",
    "\n",
    "        # ddf_list[i] = dd.concat([ddf, df], axis=0)\n",
    "        # append ddf to dfs_episode_new\n",
    "\n",
    "if bHit == False:\n",
    "    print('no hit')\n",
    "    # ddf_list.append(df_episode_new)\n",
    "    # append ddf to dfs_episode_new\n",
    "\n",
    "partition\n",
    "ddf_target = dd.concat([ddf_list[i] for i in partition], axis=0)\n",
    "# ddf_target\n",
    "# # ddf_target.head()\n",
    "df_target = ddf_target.compute()\n",
    "df_target\n",
    "# # df_target\n",
    "\n",
    "# #     c_ep = df_episode_new['ep\n",
    "# #     dfs_episode_new = dfs_episode_newappend(ddf)\n",
    "# # print(f\"splicing dfs_episode_new {c_ep} with\n"
   ]
  },
  {
   "cell_type": "code",
   "execution_count": null,
   "metadata": {
    "ExecuteTime": {
     "start_time": "2023-07-25T07:30:20.638727558Z"
    }
   },
   "outputs": [],
   "source": [
    "tuple_sample = ddf_target.sample(frac=0.2).compute()\n",
    "tuple_sample['episodestart__']"
   ]
  },
  {
   "cell_type": "code",
   "execution_count": null,
   "metadata": {
    "ExecuteTime": {
     "start_time": "2023-07-25T07:30:20.638807487Z"
    }
   },
   "outputs": [],
   "source": [
    "ddf_target.sample(frac=0.2).compute()\n"
   ]
  }
 ],
 "metadata": {
  "kernelspec": {
   "display_name": "Python 3 (ipykernel)",
   "language": "python",
   "name": "python3"
  },
  "language_info": {
   "codemirror_mode": {
    "name": "ipython",
    "version": 3
   },
   "file_extension": ".py",
   "mimetype": "text/x-python",
   "name": "python",
   "nbconvert_exporter": "python",
   "pygments_lexer": "ipython3",
   "version": "3.10.11"
  }
 },
 "nbformat": 4,
 "nbformat_minor": 2
}
