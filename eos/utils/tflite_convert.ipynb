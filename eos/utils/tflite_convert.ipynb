{
    "cells": [
        {
            "cell_type": "code",
            "execution_count": 1,
            "metadata": {"collapsed": true},
            "outputs": [
                {
                    "name": "stderr",
                    "output_type": "stream",
                    "text": [
                        "2023-04-13 15:14:51.621276: I tensorflow/core/platform/cpu_feature_guard.cc:193] This TensorFlow binary is optimized with oneAPI Deep Neural Network Library (oneDNN) to use the following CPU instructions in performance-critical operations:  SSE4.1 SSE4.2 AVX AVX2 FMA\n",
                        "To enable them in other operations, rebuild TensorFlow with the appropriate compiler flags.\n",
                    ],
                },
                {
                    "name": "stdout",
                    "output_type": "stream",
                    "text": [
                        "/dpt/mambaforge/envs/meos/lib/python3.10/site-packages/tensorflow/__init__.py\n",
                        "2.11.0\n",
                    ],
                },
            ],
            "source": [
                "import os\n",
                "import tensorflow as tf\n",
                "\n",
                "print(tf.__file__)\n",
                "print(tf.__version__)\n",
            ],
        },
        {
            "cell_type": "code",
            "execution_count": 2,
            "outputs": [],
            "source": [
                "os.chdir(\n",
                "    '/home/n/devel/anting_remote/eos/data/HMZABAAH7MF011058−longfei/baseline/tf_ckpts-ddpg/vb_rl-ddpg_actor'\n",
                ")",
            ],
            "metadata": {"collapsed": false},
        },
        {
            "cell_type": "code",
            "execution_count": 3,
            "outputs": [
                {
                    "data": {
                        "text/plain": "'/home/n/devel/anting_remote/eos/data/HMZABAAH7MF011058−longfei/baseline/tf_ckpts-ddpg/vb_rl-ddpg_actor'"
                    },
                    "execution_count": 3,
                    "metadata": {},
                    "output_type": "execute_result",
                }
            ],
            "source": ["os.getcwd()"],
            "metadata": {"collapsed": false},
        },
        {
            "cell_type": "code",
            "execution_count": 4,
            "outputs": [
                {
                    "data": {
                        "text/plain": "['ckpt-3.index',\n 'ckpt-3.data-00000-of-00001',\n 'ckpt-2.data-00000-of-00001',\n 'ckpt-1.index',\n 'checkpoint',\n 'ckpt-1.data-00000-of-00001',\n 'ckpt-2.index']"
                    },
                    "execution_count": 4,
                    "metadata": {},
                    "output_type": "execute_result",
                }
            ],
            "source": ["os.listdir('.')"],
            "metadata": {"collapsed": false},
        },
        {
            "cell_type": "code",
            "execution_count": 5,
            "outputs": [
                {
                    "name": "stdout",
                    "output_type": "stream",
                    "text": [
                        "Pool.__init_subclass__(): ~DBItemT; Concrete Class: (eos.comm.remote.remote_can_client.pool.Pool[~DBItemT],)\n",
                        "Pool.__init_subclass__(): <class 'eos.struct.data.RecordPlain'>; Concrete Class: (eos.comm.remote.remote_can_client.pool.Pool[eos.struct.data.RecordPlain],)\n",
                    ],
                }
            ],
            "source": [
                "from keras import layers\n",
                "from eos import DDPG\n",
                "from eos.config import trucks_by_id\n",
                "from eos.struct import Plot\n",
                "from eos.utils import logger, dictLogger\n",
            ],
            "metadata": {"collapsed": false},
        },
        {
            "cell_type": "code",
            "execution_count": 6,
            "outputs": [
                {
                    "name": "stderr",
                    "output_type": "stream",
                    "text": [
                        "2023-04-13 15:14:54.492461: I tensorflow/compiler/xla/stream_executor/cuda/cuda_gpu_executor.cc:981] successful NUMA node read from SysFS had negative value (-1), but there must be at least one NUMA node, so returning NUMA node zero\n",
                        "2023-04-13 15:14:54.527201: I tensorflow/compiler/xla/stream_executor/cuda/cuda_gpu_executor.cc:981] successful NUMA node read from SysFS had negative value (-1), but there must be at least one NUMA node, so returning NUMA node zero\n",
                        "2023-04-13 15:14:54.527527: I tensorflow/compiler/xla/stream_executor/cuda/cuda_gpu_executor.cc:981] successful NUMA node read from SysFS had negative value (-1), but there must be at least one NUMA node, so returning NUMA node zero\n",
                        "2023-04-13 15:14:54.528400: I tensorflow/core/platform/cpu_feature_guard.cc:193] This TensorFlow binary is optimized with oneAPI Deep Neural Network Library (oneDNN) to use the following CPU instructions in performance-critical operations:  SSE4.1 SSE4.2 AVX AVX2 FMA\n",
                        "To enable them in other operations, rebuild TensorFlow with the appropriate compiler flags.\n",
                        "2023-04-13 15:14:54.530099: I tensorflow/compiler/xla/stream_executor/cuda/cuda_gpu_executor.cc:981] successful NUMA node read from SysFS had negative value (-1), but there must be at least one NUMA node, so returning NUMA node zero\n",
                        "2023-04-13 15:14:54.530405: I tensorflow/compiler/xla/stream_executor/cuda/cuda_gpu_executor.cc:981] successful NUMA node read from SysFS had negative value (-1), but there must be at least one NUMA node, so returning NUMA node zero\n",
                        "2023-04-13 15:14:54.530611: I tensorflow/compiler/xla/stream_executor/cuda/cuda_gpu_executor.cc:981] successful NUMA node read from SysFS had negative value (-1), but there must be at least one NUMA node, so returning NUMA node zero\n",
                        "2023-04-13 15:14:55.214415: I tensorflow/compiler/xla/stream_executor/cuda/cuda_gpu_executor.cc:981] successful NUMA node read from SysFS had negative value (-1), but there must be at least one NUMA node, so returning NUMA node zero\n",
                        "2023-04-13 15:14:55.214684: I tensorflow/compiler/xla/stream_executor/cuda/cuda_gpu_executor.cc:981] successful NUMA node read from SysFS had negative value (-1), but there must be at least one NUMA node, so returning NUMA node zero\n",
                        "2023-04-13 15:14:55.214895: I tensorflow/compiler/xla/stream_executor/cuda/cuda_gpu_executor.cc:981] successful NUMA node read from SysFS had negative value (-1), but there must be at least one NUMA node, so returning NUMA node zero\n",
                        "2023-04-13 15:14:55.215044: I tensorflow/core/common_runtime/gpu/gpu_device.cc:1613] Created device /job:localhost/replica:0/task:0/device:GPU:0 with 7364 MB memory:  -> device: 0, name: NVIDIA GeForce RTX 3080, pci bus id: 0000:08:00.0, compute capability: 8.6\n",
                    ],
                }
            ],
            "source": [
                "ddpg = DDPG(\n",
                "    _buffer=None,\n",
                "    _plot=None,\n",
                "    _truck=trucks_by_id.get('VB7'),\n",
                "    _driver='longfei',\n",
                "    _num_states=600,\n",
                "    _num_actions=68,\n",
                "    _buffer_capacity=300000,\n",
                "    _batch_size=4,\n",
                "    _hidden_units_ac=(256, 16, 32),\n",
                "    _action_bias=0,\n",
                "    _n_layers_ac=(2, 2),\n",
                "    _padding_value=-10000,\n",
                "    _gamma=0.99,\n",
                "    _tau_ac=(0.005, 0.005),\n",
                "    _lr_ac=(0.001, 0.002),\n",
                "    _data_folder='/home/n/devel/anting_remote/eos/data/HMZABAAH7MF011058−longfei/baseline',\n",
                "    _ckpt_interval=5,\n",
                "    _infer_mode=True,\n",
                ")\n",
            ],
            "metadata": {"collapsed": false},
        },
        {
            "cell_type": "code",
            "execution_count": 7,
            "outputs": [
                {
                    "name": "stdout",
                    "output_type": "stream",
                    "text": [
                        "INFO:tensorflow:Assets written to: /home/n/devel/anting_remote/eos/data/HMZABAAH7MF011058−longfei/baseline/tf_ckpts-DDPG-VB7-longfei_actor_saved_model/assets\n",
                        "INFO:tensorflow:Assets written to: /home/n/devel/anting_remote/eos/data/HMZABAAH7MF011058−longfei/baseline/tf_ckpts-DDPG-VB7-longfei_critic_saved_model/assets\n",
                    ],
                }
            ],
            "source": ["ddpg.save_as_saved_model()"],
            "metadata": {"collapsed": false},
        },
        {
            "cell_type": "code",
            "execution_count": 8,
            "outputs": [],
            "source": ["actor, critic = ddpg.load_saved_model()"],
            "metadata": {"collapsed": false},
        },
        {
            "cell_type": "code",
            "execution_count": 9,
            "outputs": [
                {
                    "name": "stdout",
                    "output_type": "stream",
                    "text": [
                        "<keras.engine.functional.Functional object at 0x7f54f151bfa0>\n",
                        "<tensorflow.python.saved_model.load.Loader._recreate_base_user_object.<locals>._UserObject object at 0x7f54cc748400>\n",
                    ],
                }
            ],
            "source": ["print(ddpg.actor_model)\n", "print(actor)"],
            "metadata": {"collapsed": false},
        },
        {
            "cell_type": "code",
            "execution_count": null,
            "outputs": [],
            "source": ["print(ddpg.critic_model)\n", "print(critic)"],
            "metadata": {"collapsed": false},
        },
        {
            "cell_type": "code",
            "execution_count": null,
            "outputs": [],
            "source": [],
            "metadata": {"collapsed": false},
        },
        {"cell_type": "markdown", "source": [], "metadata": {"collapsed": false}},
    ],
    "metadata": {
        "kernelspec": {
            "display_name": "Python 3",
            "language": "python",
            "name": "python3",
        },
        "language_info": {
            "codemirror_mode": {"name": "ipython", "version": 2},
            "file_extension": ".py",
            "mimetype": "text/x-python",
            "name": "python",
            "nbconvert_exporter": "python",
            "pygments_lexer": "ipython2",
            "version": "2.7.6",
        },
    },
    "nbformat": 4,
    "nbformat_minor": 0,
}
