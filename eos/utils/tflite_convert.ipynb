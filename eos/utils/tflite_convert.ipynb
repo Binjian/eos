{
    "cells": [
        {
            "cell_type": "code",
            "execution_count": 1,
            "outputs": [
                {
                    "name": "stderr",
                    "output_type": "stream",
                    "text": [
                        "2023-04-04 13:46:07.055661: I tensorflow/core/platform/cpu_feature_guard.cc:193] This TensorFlow binary is optimized with oneAPI Deep Neural Network Library (oneDNN) to use the following CPU instructions in performance-critical operations:  SSE4.1 SSE4.2 AVX AVX2 FMA\n",
                        "To enable them in other operations, rebuild TensorFlow with the appropriate compiler flags.\n",
                    ],
                }
            ],
            "source": ["import os\n", "import tensorflow as tf\n"],
            "metadata": {"collapsed": false},
        },
        {
            "cell_type": "code",
            "execution_count": 2,
            "outputs": [
                {
                    "name": "stdout",
                    "output_type": "stream",
                    "text": [
                        "/dpt/mambaforge/envs/meos/lib/python3.10/site-packages/tensorflow/__init__.py\n",
                        "2.11.0\n",
                    ],
                }
            ],
            "source": ["print(tf.__file__)\n", "print(tf.__version__)"],
            "metadata": {"collapsed": false},
        },
        {"cell_type": "markdown", "source": [], "metadata": {"collapsed": false}},
        {
            "cell_type": "code",
            "execution_count": 3,
            "outputs": [],
            "source": [
                "os.chdir(\n",
                "    '/home/n/devel/anting_remote/eos/data/HMZABAAH7MF011058−longfei/baseline/tf_ckpts-ddpg/vb_rl-ddpg_actor'\n",
                ")",
            ],
            "metadata": {"collapsed": false},
        },
        {"cell_type": "markdown", "source": [], "metadata": {"collapsed": false}},
        {
            "cell_type": "code",
            "execution_count": 4,
            "outputs": [
                {
                    "data": {
                        "text/plain": "'/home/n/devel/anting_remote/eos/data/HMZABAAH7MF011058−longfei/baseline/tf_ckpts-ddpg/vb_rl-ddpg_actor'"
                    },
                    "execution_count": 4,
                    "metadata": {},
                    "output_type": "execute_result",
                }
            ],
            "source": ["os.getcwd()"],
            "metadata": {"collapsed": false},
        },
        {
            "cell_type": "code",
            "execution_count": 5,
            "outputs": [
                {
                    "data": {
                        "text/plain": "['ckpt-3.index',\n 'ckpt-3.data-00000-of-00001',\n 'ckpt-2.data-00000-of-00001',\n 'ckpt-1.index',\n 'checkpoint',\n 'ckpt-1.data-00000-of-00001',\n 'ckpt-2.index']"
                    },
                    "execution_count": 5,
                    "metadata": {},
                    "output_type": "execute_result",
                }
            ],
            "source": ["os.listdir('.')"],
            "metadata": {"collapsed": false},
        },
        {
            "cell_type": "code",
            "execution_count": 6,
            "outputs": [],
            "source": ["from keras import layers\n"],
            "metadata": {"collapsed": false},
        },
        {
            "cell_type": "code",
            "execution_count": 7,
            "outputs": [],
            "source": [
                "from eos import DDPG\n",
                "from eos.config import trucks_by_name, Plot\n",
            ],
            "metadata": {"collapsed": false},
        },
        {
            "cell_type": "code",
            "execution_count": 8,
            "outputs": [],
            "source": [
                "ddpg = DDPG(\n",
                "    buffer=None,\n",
                "    plot=None,\n",
                "    _truck=trucks_by_name.get('VB7'),\n",
                "    _driver='longfei',\n",
                "    _num_states=600,\n",
                "    _num_actions=68,\n",
                "    _buffer_capacity=300000,\n",
                "    _batch_size=4,\n",
                "    _hidden_units_ac=(256, 16, 32),\n",
                "    _action_bias=0,\n",
                "    _n_layers_ac=(2, 2),\n",
                "    _padding_value=-10000,\n",
                "    _gamma=0.99,\n",
                "    _tau_ac=(0.005, 0.005),\n",
                "    _lr_ac=(0.001, 0.002),\n",
                "    _data_folder='/home/n/devel/anting_remote/eos/data/HMZABAAH7MF011058−longfei/baseline',\n",
                "    _ckpt_interval=5,\n",
                "    _infer_mode=True,\n",
                ")",
            ],
            "metadata": {"collapsed": false},
        },
        {
            "cell_type": "code",
            "execution_count": 9,
            "outputs": [],
            "source": ["lg = ddpg.logger"],
            "metadata": {"collapsed": false},
        },
        {"cell_type": "markdown", "source": [], "metadata": {"collapsed": false}},
        {
            "cell_type": "code",
            "execution_count": 13,
            "outputs": [
                {
                    "ename": "AttributeError",
                    "evalue": "'DDPG' object has no attribute 'actor_model'",
                    "output_type": "error",
                    "traceback": [
                        "\u001B[0;31m---------------------------------------------------------------------------\u001B[0m",
                        "\u001B[0;31mAttributeError\u001B[0m                            Traceback (most recent call last)",
                        "Cell \u001B[0;32mIn[13], line 1\u001B[0m\n\u001B[0;32m----> 1\u001B[0m \u001B[38;5;28mprint\u001B[39m(\u001B[43mddpg\u001B[49m\u001B[38;5;241;43m.\u001B[39;49m\u001B[43mactor_model\u001B[49m\u001B[38;5;241m.\u001B[39msummary())\n",
                        "\u001B[0;31mAttributeError\u001B[0m: 'DDPG' object has no attribute 'actor_model'",
                    ],
                }
            ],
            "source": ["print(ddpg.actor_model.summary())\n"],
            "metadata": {"collapsed": false},
        },
    ],
    "metadata": {
        "kernelspec": {
            "display_name": "Python 3 (ipykernel)",
            "language": "python",
            "name": "python3",
        },
        "language_info": {
            "codemirror_mode": {"name": "ipython", "version": 3},
            "file_extension": ".py",
            "mimetype": "text/x-python",
            "name": "python",
            "nbconvert_exporter": "python",
            "pygments_lexer": "ipython3",
            "version": "3.10.8",
        },
    },
    "nbformat": 4,
    "nbformat_minor": 1,
}
