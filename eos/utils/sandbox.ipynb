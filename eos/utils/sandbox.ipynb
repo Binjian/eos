{
 "cells": [
  {
   "cell_type": "code",
   "execution_count": 1,
   "outputs": [],
   "source": [
    "# from dataclasses import dataclass\n",
    "#\n",
    "# @dataclass(kw_only=True)\n",
    "# class Parent:\n",
    "#     name: str\n",
    "#     age: int\n",
    "#     ugly: bool = False\n",
    "#\n",
    "# @dataclass(kw_only=True)\n",
    "# class Child(Parent):\n",
    "#     school: str\n",
    "#\n",
    "# ch = Child(name=\"Kevin\", age=17, school=\"42\")\n",
    "# print(ch.ugly)\n",
    "#\n",
    "# ch"
   ],
   "metadata": {
    "collapsed": false,
    "ExecuteTime": {
     "end_time": "2023-07-24T08:31:12.481805530Z",
     "start_time": "2023-07-24T08:31:12.481348483Z"
    }
   }
  },
  {
   "cell_type": "code",
   "execution_count": 2,
   "outputs": [],
   "source": [
    "from IPython.core.interactiveshell import InteractiveShell\n",
    "\n",
    "InteractiveShell.ast_node_interactivity = \"all\"\n",
    "\n",
    "import os"
   ],
   "metadata": {
    "collapsed": false,
    "ExecuteTime": {
     "end_time": "2023-07-24T08:31:12.481919283Z",
     "start_time": "2023-07-24T08:31:12.481527944Z"
    }
   }
  },
  {
   "cell_type": "code",
   "execution_count": 7,
   "outputs": [],
   "source": [
    "from dataclasses import dataclass, field\n",
    "from typing import Optional\n",
    "from collections import UserDict\n",
    "\n",
    "\n",
    "@dataclass(kw_only=True)\n",
    "class RemoteCanException(Exception):\n",
    "    \"\"\"Base class for all remote CAN exceptions.\"\"\"\n",
    "\n",
    "    err_code: Optional[int] = 1001  # default exception is unknown connection error\n",
    "    extra_msg: Optional[str] = None\n",
    "    codes: UserDict = UserDict(  # class attribute, if not given use the default\n",
    "        {\n",
    "            0: \"success\",\n",
    "            1: \"client_cannot_connect_to_server\",\n",
    "            2: \"ai_mode_shutdown\",\n",
    "            1000: \"network_connection_error\",\n",
    "            1001: \"network_unknown_error\",\n",
    "            1002: \"network_timeout\",\n",
    "            -1: \"tsp_internal_error\",\n",
    "            202: \"tsp_no_API_exist\",\n",
    "            206: \"tsp_parameter_wrong\",\n",
    "            301: \"tsp_out_of_time\",\n",
    "            302: \"tsp_command_execute_error\",\n",
    "            303: \"tsp_car_not_registered\",\n",
    "            304: \"tsp_car_offline\",\n",
    "            310: \"tsp_internal_exception_error\",\n",
    "            311: \"tsp_tbox_returned_error\",\n",
    "            3000: \"tsp_return_result_is_not_dictionary\",\n",
    "            3001: \"tsp_return_result_has_no_oss_link\",\n",
    "            2000: \"uds_version_failed\",\n",
    "            2001: \"ab_torque_switch_failed\",\n",
    "            2002: \"oss_data_not_enough\",\n",
    "            2003: \"torque_shape_error\",\n",
    "            2004: \"torque_range_error\",\n",
    "            2005: \"remote_can_unknown_format\",\n",
    "        }\n",
    "    )\n",
    "\n",
    "    def __post_init__(self):\n",
    "        print(\n",
    "            f\"{{\\'header\\': \\'err_code\\': \\'{self.err_code}\\', \"\n",
    "            f\"\\'msg\\': \\'{self.codes[self.err_code]}\\', \"\n",
    "            f\"\\'extra_msg\\': \\'{self.extra_msg}\\'}}\"\n",
    "        )\n",
    "\n"
   ],
   "metadata": {
    "collapsed": false,
    "ExecuteTime": {
     "end_time": "2023-07-24T08:31:56.921348528Z",
     "start_time": "2023-07-24T08:31:56.872450694Z"
    }
   }
  },
  {
   "cell_type": "code",
   "execution_count": 10,
   "outputs": [
    {
     "name": "stdout",
     "output_type": "stream",
     "text": [
      "{'header': 'err_code': '1001', 'msg': 'network_unknown_error', 'extra_msg': 'None'}\n"
     ]
    },
    {
     "ename": "RemoteCanException",
     "evalue": "",
     "output_type": "error",
     "traceback": [
      "\u001B[0;31m---------------------------------------------------------------------------\u001B[0m",
      "\u001B[0;31mRemoteCanException\u001B[0m                        Traceback (most recent call last)",
      "Cell \u001B[0;32mIn[10], line 3\u001B[0m\n\u001B[1;32m      1\u001B[0m \u001B[38;5;66;03m# raise RemoteCanException(err_code=1000, extra_msg=\"test\")\u001B[39;00m\n\u001B[1;32m      2\u001B[0m \u001B[38;5;66;03m# raise RemoteCanException(err_code=1000)\u001B[39;00m\n\u001B[0;32m----> 3\u001B[0m \u001B[38;5;28;01mraise\u001B[39;00m RemoteCanException()\n",
      "\u001B[0;31mRemoteCanException\u001B[0m: "
     ]
    }
   ],
   "source": [
    "\n",
    "# raise RemoteCanException(err_code=1000, extra_msg=\"test\")\n",
    "# raise RemoteCanException(err_code=1000)\n",
    "raise RemoteCanException()\n"
   ],
   "metadata": {
    "collapsed": false,
    "ExecuteTime": {
     "end_time": "2023-07-24T08:32:34.843502476Z",
     "start_time": "2023-07-24T08:32:34.805108919Z"
    }
   }
  },
  {
   "cell_type": "code",
   "execution_count": 16,
   "outputs": [
    {
     "data": {
      "text/plain": "True"
     },
     "execution_count": 16,
     "metadata": {},
     "output_type": "execute_result"
    }
   ],
   "source": [
    "1000 in (1, 1000, 1002)"
   ],
   "metadata": {
    "collapsed": false,
    "ExecuteTime": {
     "end_time": "2023-07-24T08:39:04.250243206Z",
     "start_time": "2023-07-24T08:39:04.232026223Z"
    }
   }
  },
  {
   "cell_type": "code",
   "execution_count": null,
   "outputs": [],
   "source": [
    "# def cross_product(seq1, seq2):\n",
    "#\n",
    "#     if not seq1 or not seq2:\n",
    "#         raise ValueError('Sequence arguments must be non-empty')\n",
    "#\n",
    "#     return [(x1, x2) for x1 in seq1 for x2 in seq2]\n",
    "#\n",
    "#\n",
    "# cross_product([1,2,3], seq2=None)"
   ],
   "metadata": {
    "collapsed": false
   }
  },
  {
   "cell_type": "code",
   "execution_count": null,
   "outputs": [],
   "source": [
    "# # # descriptors.py\n",
    "# class Verbose_attribute():\n",
    "#     def __get__(self, obj, type=None) -> object:\n",
    "#         print(\"accessing the attribute to get the value\")\n",
    "#         return 42\n",
    "#     def __set__(self, obj, value) -> None:\n",
    "#         print(\"accessing the attribute to set the value\")\n",
    "#         raise AttributeError(\"Cannot change the value\")\n",
    "#\n",
    "# class Foo():\n",
    "#     attribute1 = Verbose_attribute()\n",
    "#\n",
    "# my_foo_object = Foo()\n",
    "# # print(my_foo_object.attribute1)\n",
    "# # x = my_foo_object.attribute1\n",
    "# # print(x)\n",
    "# print(Foo.attribute1)"
   ],
   "metadata": {
    "collapsed": false
   }
  }
 ],
 "metadata": {
  "kernelspec": {
   "name": "python3",
   "language": "python",
   "display_name": "Python 3 (ipykernel)"
  }
 },
 "nbformat": 4,
 "nbformat_minor": 5
}
