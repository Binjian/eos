{
 "cells": [
  {
   "cell_type": "code",
   "execution_count": 1,
   "outputs": [],
   "source": [
    "# from dataclasses import dataclass\n",
    "#\n",
    "# @dataclass(kw_only=True)\n",
    "# class Parent:\n",
    "#     name: str\n",
    "#     age: int\n",
    "#     ugly: bool = False\n",
    "#\n",
    "# @dataclass(kw_only=True)\n",
    "# class Child(Parent):\n",
    "#     school: str\n",
    "#\n",
    "# ch = Child(name=\"Kevin\", age=17, school=\"42\")\n",
    "# print(ch.ugly)\n",
    "#\n",
    "# ch"
   ],
   "metadata": {
    "collapsed": false,
    "ExecuteTime": {
     "end_time": "2023-07-24T08:31:12.481805530Z",
     "start_time": "2023-07-24T08:31:12.481348483Z"
    }
   },
   "id": "79fb2bde52d3734"
  },
  {
   "cell_type": "code",
   "execution_count": 2,
   "outputs": [],
   "source": [
    "from IPython.core.interactiveshell import InteractiveShell\n",
    "\n",
    "InteractiveShell.ast_node_interactivity = \"all\"\n",
    "\n",
    "import os"
   ],
   "metadata": {
    "collapsed": false,
    "ExecuteTime": {
     "end_time": "2023-07-24T08:31:12.481919283Z",
     "start_time": "2023-07-24T08:31:12.481527944Z"
    }
   },
   "id": "a18e6ad2a91fd62a"
  },
  {
   "cell_type": "code",
   "execution_count": 7,
   "outputs": [],
   "source": [
    "from dataclasses import dataclass, field\n",
    "from typing import Optional\n",
    "from collections import UserDict\n",
    "\n",
    "\n",
    "@dataclass(kw_only=True)\n",
    "class RemoteCanException(Exception):\n",
    "    \"\"\"Base class for all remote CAN exceptions.\"\"\"\n",
    "\n",
    "    err_code: Optional[int] = 1001  # default exception is unknown connection error\n",
    "    extra_msg: Optional[str] = None\n",
    "    codes: UserDict = UserDict(  # class attribute, if not given use the default\n",
    "        {\n",
    "            0: \"success\",\n",
    "            1: \"client_cannot_connect_to_server\",\n",
    "            2: \"ai_mode_shutdown\",\n",
    "            1000: \"network_connection_error\",\n",
    "            1001: \"network_unknown_error\",\n",
    "            1002: \"network_timeout\",\n",
    "            -1: \"tsp_internal_error\",\n",
    "            202: \"tsp_no_API_exist\",\n",
    "            206: \"tsp_parameter_wrong\",\n",
    "            301: \"tsp_out_of_time\",\n",
    "            302: \"tsp_command_execute_error\",\n",
    "            303: \"tsp_car_not_registered\",\n",
    "            304: \"tsp_car_offline\",\n",
    "            310: \"tsp_internal_exception_error\",\n",
    "            311: \"tsp_tbox_returned_error\",\n",
    "            3000: \"tsp_return_result_is_not_dictionary\",\n",
    "            3001: \"tsp_return_result_has_no_oss_link\",\n",
    "            2000: \"uds_version_failed\",\n",
    "            2001: \"ab_torque_switch_failed\",\n",
    "            2002: \"oss_data_not_enough\",\n",
    "            2003: \"torque_shape_error\",\n",
    "            2004: \"torque_range_error\",\n",
    "            2005: \"remote_can_unknown_format\",\n",
    "        }\n",
    "    )\n",
    "\n",
    "    def __post_init__(self):\n",
    "        print(\n",
    "            f\"{{\\'header\\': \\'err_code\\': \\'{self.err_code}\\', \"\n",
    "            f\"\\'msg\\': \\'{self.codes[self.err_code]}\\', \"\n",
    "            f\"\\'extra_msg\\': \\'{self.extra_msg}\\'}}\"\n",
    "        )\n",
    "\n"
   ],
   "metadata": {
    "collapsed": false,
    "ExecuteTime": {
     "end_time": "2023-07-24T08:31:56.921348528Z",
     "start_time": "2023-07-24T08:31:56.872450694Z"
    }
   },
   "id": "bc65ebe0e9e1a30e"
  },
  {
   "cell_type": "code",
   "execution_count": 10,
   "outputs": [
    {
     "name": "stdout",
     "output_type": "stream",
     "text": [
      "{'header': 'err_code': '1001', 'msg': 'network_unknown_error', 'extra_msg': 'None'}\n"
     ]
    },
    {
     "ename": "RemoteCanException",
     "evalue": "",
     "output_type": "error",
     "traceback": [
      "\u001B[0;31m---------------------------------------------------------------------------\u001B[0m",
      "\u001B[0;31mRemoteCanException\u001B[0m                        Traceback (most recent call last)",
      "Cell \u001B[0;32mIn[10], line 3\u001B[0m\n\u001B[1;32m      1\u001B[0m \u001B[38;5;66;03m# raise RemoteCanException(err_code=1000, extra_msg=\"test\")\u001B[39;00m\n\u001B[1;32m      2\u001B[0m \u001B[38;5;66;03m# raise RemoteCanException(err_code=1000)\u001B[39;00m\n\u001B[0;32m----> 3\u001B[0m \u001B[38;5;28;01mraise\u001B[39;00m RemoteCanException()\n",
      "\u001B[0;31mRemoteCanException\u001B[0m: "
     ]
    }
   ],
   "source": [
    "\n",
    "# raise RemoteCanException(err_code=1000, extra_msg=\"test\")\n",
    "# raise RemoteCanException(err_code=1000)\n",
    "raise RemoteCanException()\n"
   ],
   "metadata": {
    "collapsed": false,
    "ExecuteTime": {
     "end_time": "2023-07-24T08:32:34.843502476Z",
     "start_time": "2023-07-24T08:32:34.805108919Z"
    }
   },
   "id": "1471661a438d055"
  },
  {
   "cell_type": "code",
   "execution_count": 16,
   "outputs": [
    {
     "data": {
      "text/plain": "True"
     },
     "execution_count": 16,
     "metadata": {},
     "output_type": "execute_result"
    }
   ],
   "source": [
    "1000 in (1, 1000, 1002)"
   ],
   "metadata": {
    "collapsed": false,
    "ExecuteTime": {
     "end_time": "2023-07-24T08:39:04.250243206Z",
     "start_time": "2023-07-24T08:39:04.232026223Z"
    }
   },
   "id": "6e62c7754cc42804"
  },
  {
   "cell_type": "code",
   "execution_count": null,
   "outputs": [],
   "source": [
    "# def cross_product(seq1, seq2):\n",
    "#\n",
    "#     if not seq1 or not seq2:\n",
    "#         raise ValueError('Sequence arguments must be non-empty')\n",
    "#\n",
    "#     return [(x1, x2) for x1 in seq1 for x2 in seq2]\n",
    "#\n",
    "#\n",
    "# cross_product([1,2,3], seq2=None)"
   ],
   "metadata": {
    "collapsed": false
   },
   "id": "b619ecba474be7fd"
  },
  {
   "cell_type": "code",
   "execution_count": null,
   "outputs": [],
   "source": [
    "# # # descriptors.py\n",
    "# class Verbose_attribute():\n",
    "#     def __get__(self, obj, type=None) -> object:\n",
    "#         print(\"accessing the attribute to get the value\")\n",
    "#         return 42\n",
    "#     def __set__(self, obj, value) -> None:\n",
    "#         print(\"accessing the attribute to set the value\")\n",
    "#         raise AttributeError(\"Cannot change the value\")\n",
    "#\n",
    "# class Foo():\n",
    "#     attribute1 = Verbose_attribute()\n",
    "#\n",
    "# my_foo_object = Foo()\n",
    "# # print(my_foo_object.attribute1)\n",
    "# # x = my_foo_object.attribute1\n",
    "# # print(x)\n",
    "# print(Foo.attribute1)"
   ],
   "metadata": {
    "collapsed": false
   },
   "id": "3be2d9e3ba297142"
  },
  {
   "cell_type": "code",
   "execution_count": 24,
   "outputs": [
    {
     "name": "stdout",
     "output_type": "stream",
     "text": [
      "Subclass of Parent Created!\n",
      "{'__module__': '__main__', '__init_subclass__': <classmethod(<function Parent.__init_subclass__ at 0x7f877879c1f0>)>, '__dict__': <attribute '__dict__' of 'Parent' objects>, '__weakref__': <attribute '__weakref__' of 'Parent' objects>, '__doc__': None}\n",
      "Child\n",
      "{'__module__': '__main__', '__doc__': None}\n"
     ]
    }
   ],
   "source": [
    "class Parent:\n",
    "    def __init_subclass__(cls):\n",
    "        print('Subclass of Parent Created!')\n",
    "        print(cls.__base__.__dict__)\n",
    "        print(cls.__name__)\n",
    "        print(cls.__dict__)\n",
    "class Child(Parent):\n",
    "    pass"
   ],
   "metadata": {
    "collapsed": false,
    "ExecuteTime": {
     "end_time": "2023-07-26T06:07:06.584924367Z",
     "start_time": "2023-07-26T06:07:06.522231279Z"
    }
   },
   "id": "afee496d673fc24d"
  },
  {
   "cell_type": "code",
   "execution_count": 3,
   "outputs": [
    {
     "data": {
      "text/plain": "Empty Dask DataFrame Structure:\nColumns: []\nDivisions: [, ]\nDask Name: from_pandas, 1 graph layer",
      "text/html": "<div><strong>Dask DataFrame Structure:</strong></div>\n<div>\n<style scoped>\n    .dataframe tbody tr th:only-of-type {\n        vertical-align: middle;\n    }\n\n    .dataframe tbody tr th {\n        vertical-align: top;\n    }\n\n    .dataframe thead th {\n        text-align: right;\n    }\n</style>\n<table border=\"1\" class=\"dataframe\">\n  <thead>\n    <tr style=\"text-align: right;\">\n      <th></th>\n    </tr>\n    <tr>\n      <th>npartitions=1</th>\n    </tr>\n  </thead>\n  <tbody>\n    <tr>\n      <th></th>\n    </tr>\n    <tr>\n      <th></th>\n    </tr>\n  </tbody>\n</table>\n</div>\n<div>Dask Name: from_pandas, 1 graph layer</div>"
     },
     "execution_count": 3,
     "metadata": {},
     "output_type": "execute_result"
    }
   ],
   "source": [
    "import dask.dataframe as dd\n",
    "import pandas as pd\n",
    "ddf = dd.from_pandas(pd.DataFrame([]), npartitions=1)\n",
    "ddf"
   ],
   "metadata": {
    "collapsed": false,
    "ExecuteTime": {
     "end_time": "2023-07-26T11:01:50.497092667Z",
     "start_time": "2023-07-26T11:01:50.492468144Z"
    }
   },
   "id": "5dc71de81d0685c2"
  },
  {
   "cell_type": "code",
   "execution_count": null,
   "outputs": [],
   "source": [
    "from dask.bag import Bag\n",
    "import dask.bag as db"
   ],
   "metadata": {
    "collapsed": false
   },
   "id": "a406c37280823fb8"
  },
  {
   "cell_type": "code",
   "execution_count": 33,
   "outputs": [],
   "source": [
    "import numpy as np\n",
    "N_train = 1200\n",
    "from numpy.random import choice\n",
    "X_train = np.zeros((1200, 20, 1))\n",
    "one_indexes = choice(a=N_train, size=N_train // 2, replace=False)\n",
    "X_train[one_indexes, 0, 0] = 1  # very long term memory."
   ],
   "metadata": {
    "collapsed": false,
    "ExecuteTime": {
     "end_time": "2023-08-04T10:36:21.688884666Z",
     "start_time": "2023-08-04T10:36:21.648219311Z"
    }
   },
   "id": "737ca247f3bc36d0"
  },
  {
   "cell_type": "code",
   "execution_count": 34,
   "outputs": [
    {
     "data": {
      "text/plain": "(array([[1, 0],\n        [0, 0],\n        [0, 0],\n        [0, 0]]),\n array([1, 1, 1, 1]))"
     },
     "execution_count": 34,
     "metadata": {},
     "output_type": "execute_result"
    }
   ],
   "source": [
    "def prepare_sequences(x_train, y_train, window_length):\n",
    "    windows = []\n",
    "    windows_y = []\n",
    "    for i, sequence in enumerate(x_train):\n",
    "        len_seq = len(sequence)\n",
    "        for window_start in range(0, len_seq - window_length + 1):\n",
    "            window_end = window_start + window_length\n",
    "            window = sequence[window_start:window_end]\n",
    "            windows.append(window)\n",
    "            windows_y.append(y_train[i])\n",
    "    return np.array(windows), np.array(windows_y)\n",
    "\n",
    "X=[[1,0,0,0,0]]\n",
    "Y = [1]\n",
    "window_length = 2\n",
    "\n",
    "prepare_sequences(X, Y, window_length)"
   ],
   "metadata": {
    "collapsed": false,
    "ExecuteTime": {
     "end_time": "2023-08-04T10:36:23.609013828Z",
     "start_time": "2023-08-04T10:36:23.595710436Z"
    }
   },
   "id": "eee391449c09d45c"
  },
  {
   "cell_type": "code",
   "execution_count": 47,
   "outputs": [],
   "source": [
    "X_out, Y_out = prepare_sequences(X_train.tolist(), X_train[:,0].tolist(), 10)\n",
    "\n",
    "X_train = X_out[:11000, :]\n",
    "X_test = X_out[11000:, :]\n",
    "y_train = Y_out[:11000]\n",
    "y_test = Y_out[11000:]"
   ],
   "metadata": {
    "collapsed": false,
    "ExecuteTime": {
     "end_time": "2023-08-04T10:48:50.032936061Z",
     "start_time": "2023-08-04T10:48:49.962873866Z"
    }
   },
   "id": "5d6619186facf1a8"
  },
  {
   "cell_type": "code",
   "execution_count": 41,
   "outputs": [
    {
     "name": "stdout",
     "output_type": "stream",
     "text": [
      "Building STATELESS model...\n",
      "Epoch 1/15\n",
      "172/172 [==============================] - 2s 6ms/step - loss: 0.6929 - accuracy: 0.4959 - val_loss: 0.6850 - val_accuracy: 0.5636\n",
      "Epoch 2/15\n",
      "172/172 [==============================] - 1s 4ms/step - loss: 0.6684 - accuracy: 0.5443 - val_loss: 0.6611 - val_accuracy: 0.5636\n",
      "Epoch 3/15\n",
      "172/172 [==============================] - 1s 4ms/step - loss: 0.6632 - accuracy: 0.5225 - val_loss: 0.6606 - val_accuracy: 0.5636\n",
      "Epoch 4/15\n",
      "172/172 [==============================] - 1s 4ms/step - loss: 0.6628 - accuracy: 0.5196 - val_loss: 0.6605 - val_accuracy: 0.5636\n",
      "Epoch 5/15\n",
      "172/172 [==============================] - 1s 4ms/step - loss: 0.6625 - accuracy: 0.5287 - val_loss: 0.6605 - val_accuracy: 0.5636\n",
      "Epoch 6/15\n",
      "172/172 [==============================] - 1s 4ms/step - loss: 0.6623 - accuracy: 0.5418 - val_loss: 0.6605 - val_accuracy: 0.5636\n",
      "Epoch 7/15\n",
      "172/172 [==============================] - 1s 4ms/step - loss: 0.6622 - accuracy: 0.5418 - val_loss: 0.6605 - val_accuracy: 0.5636\n",
      "Epoch 8/15\n",
      "172/172 [==============================] - 1s 4ms/step - loss: 0.6621 - accuracy: 0.5418 - val_loss: 0.6605 - val_accuracy: 0.5636\n",
      "Epoch 9/15\n",
      "172/172 [==============================] - 1s 4ms/step - loss: 0.6620 - accuracy: 0.5418 - val_loss: 0.6605 - val_accuracy: 0.5636\n",
      "Epoch 10/15\n",
      "172/172 [==============================] - 1s 4ms/step - loss: 0.6619 - accuracy: 0.5418 - val_loss: 0.6604 - val_accuracy: 0.5636\n",
      "Epoch 11/15\n",
      "172/172 [==============================] - 1s 4ms/step - loss: 0.6619 - accuracy: 0.5418 - val_loss: 0.6604 - val_accuracy: 0.5636\n",
      "Epoch 12/15\n",
      "172/172 [==============================] - 1s 4ms/step - loss: 0.6618 - accuracy: 0.5418 - val_loss: 0.6604 - val_accuracy: 0.5636\n",
      "Epoch 13/15\n",
      "172/172 [==============================] - 1s 4ms/step - loss: 0.6618 - accuracy: 0.5418 - val_loss: 0.6604 - val_accuracy: 0.5636\n",
      "Epoch 14/15\n",
      "172/172 [==============================] - 1s 4ms/step - loss: 0.6617 - accuracy: 0.5418 - val_loss: 0.6604 - val_accuracy: 0.5636\n",
      "Epoch 15/15\n",
      "172/172 [==============================] - 1s 4ms/step - loss: 0.6617 - accuracy: 0.5418 - val_loss: 0.6604 - val_accuracy: 0.5636\n"
     ]
    }
   ],
   "source": [
    "# from tensorflow.python.keras.layers import Input, Dense, LSTM\n",
    "# from tensorflow.python.keras.models import Sequential\n",
    "from keras import Input, Sequential \n",
    "from keras.layers import LSTM, Dense\n",
    "\n",
    "print('Building STATELESS model...')\n",
    "max_len = 10\n",
    "batch_size = 64\n",
    "# model = Sequential()\n",
    "# # model.add(Input(shape=(max_len, 1)))\n",
    "# model.add(LSTM(10, input_shape=(max_len, 1), return_sequences=False, stateful=False))\n",
    "# model.add(Dense(1, activation='sigmoid'))\n",
    "# model.compile(loss='binary_crossentropy', optimizer='adam', metrics=['accuracy'])\n",
    "# model.fit(X_train, y_train, batch_size=batch_size, epochs=15,\n",
    "#             validation_data=(X_test, y_test), shuffle=False)\n",
    "# # score, acc = model.evaluate(X_test, y_test, batch_size=batch_size, verbose=0)\n",
    "model = Sequential()\n",
    "model.add(LSTM(10, input_shape=(max_len, 1), return_sequences=False, stateful=False))\n",
    "model.add(Dense(1, activation='sigmoid'))\n",
    "model.compile(loss='binary_crossentropy', optimizer='adam', metrics=['accuracy'])\n",
    "model.fit(X_train, y_train, batch_size=batch_size, epochs=15,\n",
    "          validation_data=(X_test, y_test), shuffle=False)\n",
    "score, acc = model.evaluate(X_test, y_test, batch_size=batch_size, verbose=0)"
   ],
   "metadata": {
    "collapsed": false,
    "ExecuteTime": {
     "end_time": "2023-08-04T10:41:20.643727584Z",
     "start_time": "2023-08-04T10:41:07.586454142Z"
    }
   },
   "id": "2f2e347f0f580fc5"
  },
  {
   "cell_type": "code",
   "execution_count": 43,
   "outputs": [
    {
     "name": "stdout",
     "output_type": "stream",
     "text": [
      "Epoch 1/15\n",
      "155/172 [==========================>...] - ETA: 0s - loss: 0.6945 - accuracy: 0.4839"
     ]
    },
    {
     "ename": "InvalidArgumentError",
     "evalue": "Graph execution error:\n\nDetected at node 'gradient_tape/binary_crossentropy/logistic_loss/mul/Mul' defined at (most recent call last):\n    File \"/dpt/.pyenv/versions/3.10.12/lib/python3.10/runpy.py\", line 196, in _run_module_as_main\n      return _run_code(code, main_globals, None,\n    File \"/dpt/.pyenv/versions/3.10.12/lib/python3.10/runpy.py\", line 86, in _run_code\n      exec(code, run_globals)\n    File \"/dpt/.pyenv/versions/eos/lib/python3.10/site-packages/ipykernel_launcher.py\", line 17, in <module>\n      app.launch_new_instance()\n    File \"/dpt/.pyenv/versions/eos/lib/python3.10/site-packages/traitlets/config/application.py\", line 1043, in launch_instance\n      app.start()\n    File \"/dpt/.pyenv/versions/eos/lib/python3.10/site-packages/ipykernel/kernelapp.py\", line 725, in start\n      self.io_loop.start()\n    File \"/dpt/.pyenv/versions/eos/lib/python3.10/site-packages/tornado/platform/asyncio.py\", line 215, in start\n      self.asyncio_loop.run_forever()\n    File \"/dpt/.pyenv/versions/3.10.12/lib/python3.10/asyncio/base_events.py\", line 603, in run_forever\n      self._run_once()\n    File \"/dpt/.pyenv/versions/3.10.12/lib/python3.10/asyncio/base_events.py\", line 1909, in _run_once\n      handle._run()\n    File \"/dpt/.pyenv/versions/3.10.12/lib/python3.10/asyncio/events.py\", line 80, in _run\n      self._context.run(self._callback, *self._args)\n    File \"/dpt/.pyenv/versions/eos/lib/python3.10/site-packages/ipykernel/kernelbase.py\", line 513, in dispatch_queue\n      await self.process_one()\n    File \"/dpt/.pyenv/versions/eos/lib/python3.10/site-packages/ipykernel/kernelbase.py\", line 502, in process_one\n      await dispatch(*args)\n    File \"/dpt/.pyenv/versions/eos/lib/python3.10/site-packages/ipykernel/kernelbase.py\", line 409, in dispatch_shell\n      await result\n    File \"/dpt/.pyenv/versions/eos/lib/python3.10/site-packages/ipykernel/kernelbase.py\", line 729, in execute_request\n      reply_content = await reply_content\n    File \"/dpt/.pyenv/versions/eos/lib/python3.10/site-packages/ipykernel/ipkernel.py\", line 422, in do_execute\n      res = shell.run_cell(\n    File \"/dpt/.pyenv/versions/eos/lib/python3.10/site-packages/ipykernel/zmqshell.py\", line 540, in run_cell\n      return super().run_cell(*args, **kwargs)\n    File \"/dpt/.pyenv/versions/eos/lib/python3.10/site-packages/IPython/core/interactiveshell.py\", line 3009, in run_cell\n      result = self._run_cell(\n    File \"/dpt/.pyenv/versions/eos/lib/python3.10/site-packages/IPython/core/interactiveshell.py\", line 3064, in _run_cell\n      result = runner(coro)\n    File \"/dpt/.pyenv/versions/eos/lib/python3.10/site-packages/IPython/core/async_helpers.py\", line 129, in _pseudo_sync_runner\n      coro.send(None)\n    File \"/dpt/.pyenv/versions/eos/lib/python3.10/site-packages/IPython/core/interactiveshell.py\", line 3269, in run_cell_async\n      has_raised = await self.run_ast_nodes(code_ast.body, cell_name,\n    File \"/dpt/.pyenv/versions/eos/lib/python3.10/site-packages/IPython/core/interactiveshell.py\", line 3448, in run_ast_nodes\n      if await self.run_code(code, result, async_=asy):\n    File \"/dpt/.pyenv/versions/eos/lib/python3.10/site-packages/IPython/core/interactiveshell.py\", line 3508, in run_code\n      exec(code_obj, self.user_global_ns, self.user_ns)\n    File \"/tmp/ipykernel_897146/10439302.py\", line 5, in <module>\n      model.fit(X_train, y_train, batch_size=batch_size, epochs=15,\n    File \"/dpt/.pyenv/versions/eos/lib/python3.10/site-packages/keras/src/utils/traceback_utils.py\", line 65, in error_handler\n      return fn(*args, **kwargs)\n    File \"/dpt/.pyenv/versions/eos/lib/python3.10/site-packages/keras/src/engine/training.py\", line 1742, in fit\n      tmp_logs = self.train_function(iterator)\n    File \"/dpt/.pyenv/versions/eos/lib/python3.10/site-packages/keras/src/engine/training.py\", line 1338, in train_function\n      return step_function(self, iterator)\n    File \"/dpt/.pyenv/versions/eos/lib/python3.10/site-packages/keras/src/engine/training.py\", line 1322, in step_function\n      outputs = model.distribute_strategy.run(run_step, args=(data,))\n    File \"/dpt/.pyenv/versions/eos/lib/python3.10/site-packages/keras/src/engine/training.py\", line 1303, in run_step\n      outputs = model.train_step(data)\n    File \"/dpt/.pyenv/versions/eos/lib/python3.10/site-packages/keras/src/engine/training.py\", line 1084, in train_step\n      self.optimizer.minimize(loss, self.trainable_variables, tape=tape)\n    File \"/dpt/.pyenv/versions/eos/lib/python3.10/site-packages/keras/src/optimizers/optimizer.py\", line 543, in minimize\n      grads_and_vars = self.compute_gradients(loss, var_list, tape)\n    File \"/dpt/.pyenv/versions/eos/lib/python3.10/site-packages/keras/src/optimizers/optimizer.py\", line 276, in compute_gradients\n      grads = tape.gradient(loss, var_list)\nNode: 'gradient_tape/binary_crossentropy/logistic_loss/mul/Mul'\nIncompatible shapes: [56,1] vs. [64,1]\n\t [[{{node gradient_tape/binary_crossentropy/logistic_loss/mul/Mul}}]] [Op:__inference_train_function_170077]",
     "output_type": "error",
     "traceback": [
      "\u001B[0;31m---------------------------------------------------------------------------\u001B[0m",
      "\u001B[0;31mInvalidArgumentError\u001B[0m                      Traceback (most recent call last)",
      "Cell \u001B[0;32mIn[43], line 5\u001B[0m\n\u001B[1;32m      3\u001B[0m model\u001B[38;5;241m.\u001B[39madd(Dense(\u001B[38;5;241m1\u001B[39m, activation\u001B[38;5;241m=\u001B[39m\u001B[38;5;124m'\u001B[39m\u001B[38;5;124msigmoid\u001B[39m\u001B[38;5;124m'\u001B[39m))\n\u001B[1;32m      4\u001B[0m model\u001B[38;5;241m.\u001B[39mcompile(loss\u001B[38;5;241m=\u001B[39m\u001B[38;5;124m'\u001B[39m\u001B[38;5;124mbinary_crossentropy\u001B[39m\u001B[38;5;124m'\u001B[39m, optimizer\u001B[38;5;241m=\u001B[39m\u001B[38;5;124m'\u001B[39m\u001B[38;5;124madam\u001B[39m\u001B[38;5;124m'\u001B[39m, metrics\u001B[38;5;241m=\u001B[39m[\u001B[38;5;124m'\u001B[39m\u001B[38;5;124maccuracy\u001B[39m\u001B[38;5;124m'\u001B[39m])\n\u001B[0;32m----> 5\u001B[0m \u001B[43mmodel\u001B[49m\u001B[38;5;241;43m.\u001B[39;49m\u001B[43mfit\u001B[49m\u001B[43m(\u001B[49m\u001B[43mX_train\u001B[49m\u001B[43m,\u001B[49m\u001B[43m \u001B[49m\u001B[43my_train\u001B[49m\u001B[43m,\u001B[49m\u001B[43m \u001B[49m\u001B[43mbatch_size\u001B[49m\u001B[38;5;241;43m=\u001B[39;49m\u001B[43mbatch_size\u001B[49m\u001B[43m,\u001B[49m\u001B[43m \u001B[49m\u001B[43mepochs\u001B[49m\u001B[38;5;241;43m=\u001B[39;49m\u001B[38;5;241;43m15\u001B[39;49m\u001B[43m,\u001B[49m\n\u001B[1;32m      6\u001B[0m \u001B[43m          \u001B[49m\u001B[43mvalidation_data\u001B[49m\u001B[38;5;241;43m=\u001B[39;49m\u001B[43m(\u001B[49m\u001B[43mX_test\u001B[49m\u001B[43m,\u001B[49m\u001B[43m \u001B[49m\u001B[43my_test\u001B[49m\u001B[43m)\u001B[49m\u001B[43m,\u001B[49m\u001B[43m \u001B[49m\u001B[43mshuffle\u001B[49m\u001B[38;5;241;43m=\u001B[39;49m\u001B[38;5;28;43;01mFalse\u001B[39;49;00m\u001B[43m)\u001B[49m\n\u001B[1;32m      7\u001B[0m score, acc \u001B[38;5;241m=\u001B[39m model\u001B[38;5;241m.\u001B[39mevaluate(X_test, y_test, batch_size\u001B[38;5;241m=\u001B[39mbatch_size, verbose\u001B[38;5;241m=\u001B[39m\u001B[38;5;241m0\u001B[39m)\n",
      "File \u001B[0;32m/dpt/.pyenv/versions/eos/lib/python3.10/site-packages/keras/src/utils/traceback_utils.py:70\u001B[0m, in \u001B[0;36mfilter_traceback.<locals>.error_handler\u001B[0;34m(*args, **kwargs)\u001B[0m\n\u001B[1;32m     67\u001B[0m     filtered_tb \u001B[38;5;241m=\u001B[39m _process_traceback_frames(e\u001B[38;5;241m.\u001B[39m__traceback__)\n\u001B[1;32m     68\u001B[0m     \u001B[38;5;66;03m# To get the full stack trace, call:\u001B[39;00m\n\u001B[1;32m     69\u001B[0m     \u001B[38;5;66;03m# `tf.debugging.disable_traceback_filtering()`\u001B[39;00m\n\u001B[0;32m---> 70\u001B[0m     \u001B[38;5;28;01mraise\u001B[39;00m e\u001B[38;5;241m.\u001B[39mwith_traceback(filtered_tb) \u001B[38;5;28;01mfrom\u001B[39;00m \u001B[38;5;28mNone\u001B[39m\n\u001B[1;32m     71\u001B[0m \u001B[38;5;28;01mfinally\u001B[39;00m:\n\u001B[1;32m     72\u001B[0m     \u001B[38;5;28;01mdel\u001B[39;00m filtered_tb\n",
      "File \u001B[0;32m/dpt/.pyenv/versions/eos/lib/python3.10/site-packages/tensorflow/python/eager/execute.py:53\u001B[0m, in \u001B[0;36mquick_execute\u001B[0;34m(op_name, num_outputs, inputs, attrs, ctx, name)\u001B[0m\n\u001B[1;32m     51\u001B[0m \u001B[38;5;28;01mtry\u001B[39;00m:\n\u001B[1;32m     52\u001B[0m   ctx\u001B[38;5;241m.\u001B[39mensure_initialized()\n\u001B[0;32m---> 53\u001B[0m   tensors \u001B[38;5;241m=\u001B[39m pywrap_tfe\u001B[38;5;241m.\u001B[39mTFE_Py_Execute(ctx\u001B[38;5;241m.\u001B[39m_handle, device_name, op_name,\n\u001B[1;32m     54\u001B[0m                                       inputs, attrs, num_outputs)\n\u001B[1;32m     55\u001B[0m \u001B[38;5;28;01mexcept\u001B[39;00m core\u001B[38;5;241m.\u001B[39m_NotOkStatusException \u001B[38;5;28;01mas\u001B[39;00m e:\n\u001B[1;32m     56\u001B[0m   \u001B[38;5;28;01mif\u001B[39;00m name \u001B[38;5;129;01mis\u001B[39;00m \u001B[38;5;129;01mnot\u001B[39;00m \u001B[38;5;28;01mNone\u001B[39;00m:\n",
      "\u001B[0;31mInvalidArgumentError\u001B[0m: Graph execution error:\n\nDetected at node 'gradient_tape/binary_crossentropy/logistic_loss/mul/Mul' defined at (most recent call last):\n    File \"/dpt/.pyenv/versions/3.10.12/lib/python3.10/runpy.py\", line 196, in _run_module_as_main\n      return _run_code(code, main_globals, None,\n    File \"/dpt/.pyenv/versions/3.10.12/lib/python3.10/runpy.py\", line 86, in _run_code\n      exec(code, run_globals)\n    File \"/dpt/.pyenv/versions/eos/lib/python3.10/site-packages/ipykernel_launcher.py\", line 17, in <module>\n      app.launch_new_instance()\n    File \"/dpt/.pyenv/versions/eos/lib/python3.10/site-packages/traitlets/config/application.py\", line 1043, in launch_instance\n      app.start()\n    File \"/dpt/.pyenv/versions/eos/lib/python3.10/site-packages/ipykernel/kernelapp.py\", line 725, in start\n      self.io_loop.start()\n    File \"/dpt/.pyenv/versions/eos/lib/python3.10/site-packages/tornado/platform/asyncio.py\", line 215, in start\n      self.asyncio_loop.run_forever()\n    File \"/dpt/.pyenv/versions/3.10.12/lib/python3.10/asyncio/base_events.py\", line 603, in run_forever\n      self._run_once()\n    File \"/dpt/.pyenv/versions/3.10.12/lib/python3.10/asyncio/base_events.py\", line 1909, in _run_once\n      handle._run()\n    File \"/dpt/.pyenv/versions/3.10.12/lib/python3.10/asyncio/events.py\", line 80, in _run\n      self._context.run(self._callback, *self._args)\n    File \"/dpt/.pyenv/versions/eos/lib/python3.10/site-packages/ipykernel/kernelbase.py\", line 513, in dispatch_queue\n      await self.process_one()\n    File \"/dpt/.pyenv/versions/eos/lib/python3.10/site-packages/ipykernel/kernelbase.py\", line 502, in process_one\n      await dispatch(*args)\n    File \"/dpt/.pyenv/versions/eos/lib/python3.10/site-packages/ipykernel/kernelbase.py\", line 409, in dispatch_shell\n      await result\n    File \"/dpt/.pyenv/versions/eos/lib/python3.10/site-packages/ipykernel/kernelbase.py\", line 729, in execute_request\n      reply_content = await reply_content\n    File \"/dpt/.pyenv/versions/eos/lib/python3.10/site-packages/ipykernel/ipkernel.py\", line 422, in do_execute\n      res = shell.run_cell(\n    File \"/dpt/.pyenv/versions/eos/lib/python3.10/site-packages/ipykernel/zmqshell.py\", line 540, in run_cell\n      return super().run_cell(*args, **kwargs)\n    File \"/dpt/.pyenv/versions/eos/lib/python3.10/site-packages/IPython/core/interactiveshell.py\", line 3009, in run_cell\n      result = self._run_cell(\n    File \"/dpt/.pyenv/versions/eos/lib/python3.10/site-packages/IPython/core/interactiveshell.py\", line 3064, in _run_cell\n      result = runner(coro)\n    File \"/dpt/.pyenv/versions/eos/lib/python3.10/site-packages/IPython/core/async_helpers.py\", line 129, in _pseudo_sync_runner\n      coro.send(None)\n    File \"/dpt/.pyenv/versions/eos/lib/python3.10/site-packages/IPython/core/interactiveshell.py\", line 3269, in run_cell_async\n      has_raised = await self.run_ast_nodes(code_ast.body, cell_name,\n    File \"/dpt/.pyenv/versions/eos/lib/python3.10/site-packages/IPython/core/interactiveshell.py\", line 3448, in run_ast_nodes\n      if await self.run_code(code, result, async_=asy):\n    File \"/dpt/.pyenv/versions/eos/lib/python3.10/site-packages/IPython/core/interactiveshell.py\", line 3508, in run_code\n      exec(code_obj, self.user_global_ns, self.user_ns)\n    File \"/tmp/ipykernel_897146/10439302.py\", line 5, in <module>\n      model.fit(X_train, y_train, batch_size=batch_size, epochs=15,\n    File \"/dpt/.pyenv/versions/eos/lib/python3.10/site-packages/keras/src/utils/traceback_utils.py\", line 65, in error_handler\n      return fn(*args, **kwargs)\n    File \"/dpt/.pyenv/versions/eos/lib/python3.10/site-packages/keras/src/engine/training.py\", line 1742, in fit\n      tmp_logs = self.train_function(iterator)\n    File \"/dpt/.pyenv/versions/eos/lib/python3.10/site-packages/keras/src/engine/training.py\", line 1338, in train_function\n      return step_function(self, iterator)\n    File \"/dpt/.pyenv/versions/eos/lib/python3.10/site-packages/keras/src/engine/training.py\", line 1322, in step_function\n      outputs = model.distribute_strategy.run(run_step, args=(data,))\n    File \"/dpt/.pyenv/versions/eos/lib/python3.10/site-packages/keras/src/engine/training.py\", line 1303, in run_step\n      outputs = model.train_step(data)\n    File \"/dpt/.pyenv/versions/eos/lib/python3.10/site-packages/keras/src/engine/training.py\", line 1084, in train_step\n      self.optimizer.minimize(loss, self.trainable_variables, tape=tape)\n    File \"/dpt/.pyenv/versions/eos/lib/python3.10/site-packages/keras/src/optimizers/optimizer.py\", line 543, in minimize\n      grads_and_vars = self.compute_gradients(loss, var_list, tape)\n    File \"/dpt/.pyenv/versions/eos/lib/python3.10/site-packages/keras/src/optimizers/optimizer.py\", line 276, in compute_gradients\n      grads = tape.gradient(loss, var_list)\nNode: 'gradient_tape/binary_crossentropy/logistic_loss/mul/Mul'\nIncompatible shapes: [56,1] vs. [64,1]\n\t [[{{node gradient_tape/binary_crossentropy/logistic_loss/mul/Mul}}]] [Op:__inference_train_function_170077]"
     ]
    }
   ],
   "source": [
    "model = Sequential()\n",
    "model.add(LSTM(10, batch_input_shape=(batch_size, max_len, 1), return_sequences=False, stateful=True))\n",
    "model.add(Dense(1, activation='sigmoid'))\n",
    "model.compile(loss='binary_crossentropy', optimizer='adam', metrics=['accuracy'])\n",
    "model.fit(X_train, y_train, batch_size=batch_size, epochs=15,\n",
    "          validation_data=(X_test, y_test), shuffle=False)\n",
    "score, acc = model.evaluate(X_test, y_test, batch_size=batch_size, verbose=0)"
   ],
   "metadata": {
    "collapsed": false,
    "ExecuteTime": {
     "end_time": "2023-08-04T10:43:00.594036608Z",
     "start_time": "2023-08-04T10:42:58.458084917Z"
    }
   },
   "id": "3d9a821e2842d405"
  },
  {
   "cell_type": "code",
   "execution_count": 62,
   "outputs": [],
   "source": [
    "import numpy as np\n",
    "N_train = 1200\n",
    "from numpy.random import choice\n",
    "X_in = np.zeros((1200, 10, 1))\n",
    "one_indexes = choice(a=N_train, size=N_train // 2, replace=False)\n",
    "X_in[one_indexes, 0, 0] = 1  # very long term memory.\n",
    "Y_in = np.expand_dims(X_in[:, 0, 0], axis=1)\n",
    "\n",
    "X_train = X_in[:1000, :].tolist()\n",
    "X_test = X_in[1000:, :].tolist()\n",
    "Y_train = Y_in[:1000].tolist()\n",
    "Y_test = Y_in[1000:].tolist()\n",
    "max_len = 10"
   ],
   "metadata": {
    "collapsed": false,
    "ExecuteTime": {
     "end_time": "2023-08-04T11:19:35.596680219Z",
     "start_time": "2023-08-04T11:19:35.586357261Z"
    }
   },
   "id": "3dd4b01e3bbec7a1"
  },
  {
   "cell_type": "code",
   "execution_count": 63,
   "outputs": [
    {
     "name": "stdout",
     "output_type": "stream",
     "text": [
      "Build STATEFUL model...\n"
     ]
    }
   ],
   "source": [
    "print('Build STATEFUL model...')\n",
    "model = Sequential()\n",
    "model.add(LSTM(10, batch_input_shape=(1, 1, 1), return_sequences=False, stateful=True))\n",
    "model.add(Dense(1, activation='sigmoid'))\n",
    "model.compile(loss='binary_crossentropy', optimizer='adam', metrics=['accuracy'])"
   ],
   "metadata": {
    "collapsed": false,
    "ExecuteTime": {
     "end_time": "2023-08-04T11:19:37.501180246Z",
     "start_time": "2023-08-04T11:19:37.343390Z"
    }
   },
   "id": "65d608a845e6647"
  },
  {
   "cell_type": "code",
   "execution_count": null,
   "outputs": [
    {
     "name": "stdout",
     "output_type": "stream",
     "text": [
      "Train...\n",
      "epoch 0, sample 0, tr_acc 1.0, tr_loss 0.68536416888237\n",
      "epoch 0, sample 100, tr_acc 0.897029702970297, tr_loss 0.27506227701254615\n",
      "epoch 0, sample 200, tr_acc 0.9482587064676616, tr_loss 0.1531433715732057\n",
      "epoch 0, sample 300, tr_acc 0.9654485049833887, tr_loss 0.10582385847177514\n",
      "epoch 0, sample 400, tr_acc 0.9740648379052369, tr_loss 0.0806026958666425\n",
      "epoch 0, sample 500, tr_acc 0.9792415169660679, tr_loss 0.06496707593698332\n",
      "epoch 0, sample 600, tr_acc 0.9826955074875208, tr_loss 0.05434555028567931\n",
      "epoch 0, sample 700, tr_acc 0.9851640513552068, tr_loss 0.046673870004684495\n",
      "epoch 0, sample 800, tr_acc 0.987016229712859, tr_loss 0.04088414028919478\n",
      "epoch 0, sample 900, tr_acc 0.988457269700333, tr_loss 0.0363653197866332\n",
      "accuracy training = 0.9896\n",
      "loss training = 0.03277421833932066\n",
      "___________________________________\n",
      "test, sample 0, tr_acc 1.0, tr_loss 0.00010775248395678005\n",
      "test, sample 100, tr_acc 1.0, tr_loss 7.894626225354142e-05\n",
      "accuracy testing = 1.0\n",
      "loss testing = 7.459853251275028e-05\n",
      "___________________________________\n",
      "epoch 1, sample 0, tr_acc 1.0, tr_loss 0.00010775216762883843\n",
      "epoch 1, sample 100, tr_acc 1.0, tr_loss 5.648510524994502e-05\n",
      "epoch 1, sample 200, tr_acc 1.0, tr_loss 4.474270638471285e-05\n",
      "epoch 1, sample 300, tr_acc 1.0, tr_loss 3.5846719179098654e-05\n",
      "epoch 1, sample 400, tr_acc 1.0, tr_loss 2.956101980588542e-05\n"
     ]
    }
   ],
   "source": [
    "print('Train...')\n",
    "for epoch in range(15):\n",
    "    mean_tr_acc = []\n",
    "    mean_tr_loss = []\n",
    "    for i in range(len(X_train)):\n",
    "        Y_true = Y_train[i]\n",
    "        for j in range(max_len):\n",
    "            tr_loss, tr_acc = model.train_on_batch(np.expand_dims(np.expand_dims(X_train[i][j], axis=1), axis=1),\n",
    "                                                    np.array([Y_true]))\n",
    "            mean_tr_acc.append(tr_acc)\n",
    "            mean_tr_loss.append(tr_loss)\n",
    "        model.reset_states()\n",
    "        if i % 100 == 0:\n",
    "            print('epoch {}, sample {}, tr_acc {}, tr_loss {}'.format(epoch, i, np.mean(mean_tr_acc), np.mean(mean_tr_loss)))\n",
    "\n",
    "    print('accuracy training = {}'.format(np.mean(mean_tr_acc)))\n",
    "    print('loss training = {}'.format(np.mean(mean_tr_loss)))\n",
    "    print('___________________________________')\n",
    "\n",
    "    mean_te_acc = []\n",
    "    mean_te_loss = []\n",
    "    for i in range(len(X_test)):\n",
    "        for j in range(max_len):\n",
    "            te_loss, te_acc = model.test_on_batch(\n",
    "                np.expand_dims(np.expand_dims(X_test[i][j], axis=1), axis=1), \n",
    "                np.array([Y_test[i]])\n",
    "            )\n",
    "            mean_te_acc.append(te_acc)\n",
    "            mean_te_loss.append(te_loss)\n",
    "        model.reset_states()\n",
    "\n",
    "        for j in range(max_len):\n",
    "            Y_pred = model.predict_on_batch(np.expand_dims(np.expand_dims(X_test[i][j], axis=1), axis=1))\n",
    "        model.reset_states()\n",
    "        if i % 100 == 0:\n",
    "            print('test, sample {}, tr_acc {}, tr_loss {}'.format(i, np.mean(mean_te_acc), np.mean(mean_te_loss)))\n",
    "\n",
    "    print('accuracy testing = {}'.format(np.mean(mean_te_acc)))\n",
    "    print('loss testing = {}'.format(np.mean(mean_te_loss)))\n",
    "    print('___________________________________')"
   ],
   "metadata": {
    "collapsed": false,
    "is_executing": true,
    "ExecuteTime": {
     "start_time": "2023-08-04T11:19:40.171196499Z"
    }
   },
   "id": "92ccf07e1c76f1ea"
  },
  {
   "cell_type": "code",
   "execution_count": null,
   "outputs": [],
   "source": [],
   "metadata": {
    "collapsed": false
   },
   "id": "1e7609134e72334a"
  }
 ],
 "metadata": {
  "kernelspec": {
   "name": "python3",
   "language": "python",
   "display_name": "Python 3 (ipykernel)"
  }
 },
 "nbformat": 4,
 "nbformat_minor": 5
}
