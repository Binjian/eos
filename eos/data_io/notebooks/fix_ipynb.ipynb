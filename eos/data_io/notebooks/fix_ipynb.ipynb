{
 "cells": [
  {
   "cell_type": "code",
   "execution_count": null,
   "metadata": {},
   "outputs": [],
   "source": [
    "import yaml\n",
    "import json"
   ]
  },
  {
   "cell_type": "code",
   "execution_count": null,
   "metadata": {},
   "outputs": [],
   "source": [
    "\n",
    "f = open(\"./tflite_convert_restore.ipynb\")\n",
    "data = yaml.load(f)\n",
    "s = json.dumps(data)\n",
    "with open(\"./tflite_convert_restore_stripped.ipynb\", \"w\") as f:\n",
    "\tf.write(s)"
   ]
  }
 ],
 "metadata": {
  "language_info": {
   "name": "python"
  }
 },
 "nbformat": 4,
 "nbformat_minor": 2
}
