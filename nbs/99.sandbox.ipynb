{
 "cells": [
  {
   "cell_type": "markdown",
   "id": "2120d47e4d0ed7ab",
   "metadata": {},
   "source": [
    "# sandbox\n",
    "\n",
    "> Fill in a module description here"
   ]
  },
  {
   "cell_type": "code",
   "execution_count": null,
   "id": "519a7c46174aba5d",
   "metadata": {},
   "outputs": [],
   "source": [
    "#| default_exp sandbox"
   ]
  },
  {
   "cell_type": "code",
   "execution_count": null,
   "id": "e618176c7c671f46",
   "metadata": {},
   "outputs": [],
   "source": [
    "#| hide\n",
    "from nbdev.showdoc import *"
   ]
  },
  {
   "cell_type": "code",
   "execution_count": null,
   "id": "7181353117739b6e",
   "metadata": {},
   "outputs": [],
   "source": [
    "#| export\n",
    "from sklearn import datasets, tree\n",
    "import numpy as np"
   ]
  },
  {
   "cell_type": "code",
   "execution_count": null,
   "id": "4f4d7f87490260cf",
   "metadata": {},
   "outputs": [],
   "source": [
    "#| export\n",
    "def import_data():\n",
    "    iris = datasets.load_iris()\n",
    "    return iris.data, iris.target"
   ]
  },
  {
   "cell_type": "code",
   "execution_count": null,
   "id": "eb5f289186e3e665",
   "metadata": {},
   "outputs": [],
   "source": [
    "#| export\n",
    "def fit_dt_model() -> tree.DecisionTreeClassifier:\n",
    "    X, y = import_data()\n",
    "    clf = tree.DecisionTreeClassifier()\n",
    "    clf = clf.fit(X, y)\n",
    "    return clf"
   ]
  },
  {
   "cell_type": "code",
   "execution_count": null,
   "id": "90ee7c5cfdb27d0c",
   "metadata": {},
   "outputs": [],
   "source": [
    "#| export\n",
    "def make_irs_prediction(X_values: np.array) -> tuple:\n",
    "    model = fit_dt_model()\n",
    "    class_pred = model.predict(X_values)\n",
    "    pred_proba = model.predict_proba(X_values)\n",
    "    return class_pred, pred_proba"
   ]
  },
  {
   "cell_type": "code",
   "execution_count": null,
   "id": "6cd5e6d93ae64806",
   "metadata": {},
   "outputs": [],
   "source": [
    "#| export\n",
    "def convert_to_int_list(number_strings: list) -> list:\n",
    "    list_of_int_lists = []\n",
    "    int_list = []\n",
    "    for number_string in number_strings:\n",
    "        int_list = []\n",
    "        for number in number_string.split(','):\n",
    "            int_list.append(float(number))\n",
    "        list_of_int_lists.append(int_list)\n",
    "    return list_of_int_lists\n",
    "   "
   ]
  },
  {
   "cell_type": "code",
   "execution_count": null,
   "id": "b5394e12f31995be",
   "metadata": {},
   "outputs": [],
   "source": [
    "#| export\n",
    "irises = [\"5.4, 3.7, 1.5, 0.2\"]\n",
    "iris_inputs = convert_to_int_list(irises)\n",
    "\n",
    "iris_prediction = []\n",
    "for iris in iris_inputs:\n",
    "    class_pred, class_probas = make_irs_prediction(np.array([iris]))\n",
    "    iris_prediction.append([class_pred[0], class_probas[0][class_pred[0]]])\n",
    "print(iris_prediction)"
   ]
  },
  {
   "cell_type": "code",
   "execution_count": null,
   "id": "2a301187a01ba2c7",
   "metadata": {},
   "outputs": [],
   "source": [
    "#| hide\n",
    "import nbdev;"
   ]
  },
  {
   "cell_type": "code",
   "execution_count": null,
   "id": "initial_id",
   "metadata": {},
   "outputs": [],
   "source": [
    "nbdev.nbdev_export()\n"
   ]
  }
 ],
 "metadata": {
  "kernelspec": {
   "display_name": "python3",
   "language": "python",
   "name": "python3"
  }
 },
 "nbformat": 4,
 "nbformat_minor": 5
}
