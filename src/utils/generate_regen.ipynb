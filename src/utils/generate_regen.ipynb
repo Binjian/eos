{
 "cells": [
  {
   "cell_type": "markdown",
   "metadata": {
    "collapsed": true,
    "pycharm": {
     "name": "#%% md\n"
    }
   },
   "source": [
    "# create regen pedal map\n",
    "\n",
    "**Author:** binjian Xin<br>\n",
    "**Date Created:** 2021/07/29<br>\n",
    "**Last Modified:** 2021/07/29<br>\n",
    "**Description:** create regen pedal map and visualize<br>\n",
    "\n",
    "## Create the non-eco pedal map\n",
    "\n",
    "read default pedal map (claiming to be eco) from data file"
   ]
  },
  {
   "cell_type": "markdown",
   "source": [
    "## modify data\n",
    "\n",
    "Modify default table to generate a non-eco pedal map data array"
   ],
   "metadata": {
    "collapsed": false,
    "pycharm": {
     "name": "#%% md\n"
    }
   }
  },
  {
   "cell_type": "code",
   "execution_count": 64,
   "outputs": [],
   "source": [
    "import numpy as np\n",
    "import pandas as pd\n",
    "\n",
    "pd_data0 = pd.read_csv(\"../../data/init_table_coastdown.csv\", header=0, index_col=0)"
   ],
   "metadata": {
    "collapsed": false,
    "pycharm": {
     "name": "#%%\n"
    }
   }
  },
  {
   "cell_type": "code",
   "execution_count": 65,
   "outputs": [],
   "source": [
    "import chart_studio.plotly as py\n",
    "# import plotly.graph_objects as graph_objects\n",
    "import numpy as np\n",
    "import matplotlib.cm as cm\n",
    "from functools import reduce\n",
    "import plotly.graph_objects as go\n",
    "\n",
    "def map_z2color(zval, colormap, vmin, vmax):\n",
    "    #map the normalized value zval to a corresponding color in the colormap\n",
    "\n",
    "    if vmin>vmax:\n",
    "        raise ValueError('incorrect relation between vmin and vmax')\n",
    "    t=(zval-vmin)/float((vmax-vmin))#normalize val\n",
    "    R, G, B, alpha=colormap(t)\n",
    "    return 'rgb('+'{:d}'.format(int(R*255+0.5))+','+'{:d}'.format(int(G*255+0.5))+\\\n",
    "           ','+'{:d}'.format(int(B*255+0.5))+')'\n",
    "\n",
    "\n",
    "def tri_indices(simplices):\n",
    "    #simplices is a numpy array defining the simplices of the triangularization\n",
    "    #returns the lists of indices i, j, k\n",
    "\n",
    "    return ([triplet[c] for triplet in simplices] for c in range(3))\n",
    "\n",
    "def plotly_trisurf(x, y, z, simplices, colormap=cm.RdBu, plot_edges=None):\n",
    "    #x, y, z are lists of coordinates of the triangle vertices\n",
    "    #simplices are the simplices that define the triangularization;\n",
    "    #simplices  is a numpy array of shape (no_triangles, 3)\n",
    "    #insert here the  type check for input data\n",
    "\n",
    "    points3D=np.vstack((x,y,z)).T\n",
    "    tri_vertices=map(lambda index: points3D[index], simplices)# vertices of the surface triangles\n",
    "    zmean=[np.mean(tri[:,2]) for tri in tri_vertices ]# mean values of z-coordinates of\n",
    "    #triangle vertices\n",
    "    min_zmean=np.min(zmean)\n",
    "    max_zmean=np.max(zmean)\n",
    "    facecolor=[map_z2color(zz,  colormap, min_zmean, max_zmean) for zz in zmean]\n",
    "    I,J,K=tri_indices(simplices)\n",
    "\n",
    "    triangles=go.Mesh3d(x=x,\n",
    "                        y=y,\n",
    "                        z=z,\n",
    "                        facecolor=facecolor,\n",
    "                        i=I,\n",
    "                        j=J,\n",
    "                        k=K,\n",
    "                        name=''\n",
    "                        )\n",
    "\n",
    "    if plot_edges is None:# the triangle sides are not plotted\n",
    "        return [triangles]\n",
    "    else:\n",
    "        #define the lists Xe, Ye, Ze, of x, y, resp z coordinates of edge end points for each triangle\n",
    "        #None separates data corresponding to two consecutive triangles\n",
    "        lists_coord=[[[T[k%3][c] for k in range(4)]+[ None]   for T in tri_vertices]  for c in range(3)]\n",
    "        Xe, Ye, Ze=[reduce(lambda x,y: x+y, lists_coord[k]) for k in range(3)]\n",
    "\n",
    "        #define the lines to be plotted\n",
    "        lines=go.Scatter3d(x=Xe,\n",
    "                           y=Ye,\n",
    "                           z=Ze,\n",
    "                           mode='lines',\n",
    "                           line=dict(color= 'rgb(50,50,50)', width=1.5)\n",
    "                           )\n",
    "        return [triangles, lines]"
   ],
   "metadata": {
    "collapsed": false,
    "pycharm": {
     "name": "#%%\n"
    }
   }
  },
  {
   "cell_type": "markdown",
   "source": [
    "### create the planes"
   ],
   "metadata": {
    "collapsed": false,
    "pycharm": {
     "name": "#%% md\n"
    }
   }
  },
  {
   "cell_type": "code",
   "execution_count": 66,
   "outputs": [
    {
     "name": "stdout",
     "output_type": "stream",
     "text": [
      "polyhedron(faces = [\n",
      "[53,10,9],\n",
      "[18,19,27],\n",
      "[2,18,27],\n",
      "[28,19,29],\n",
      "[19,28,27],\n",
      "[42,9,31],\n",
      "[42,53,9],\n",
      "[3,2,27],\n",
      "[21,52,30],\n",
      "[52,21,22],\n",
      "[9,52,31],\n",
      "[52,22,31],\n",
      "[8,7,30],\n",
      "[8,52,9],\n",
      "[52,8,30],\n",
      "[6,5,29],\n",
      "[22,32,31],\n",
      "[13,49,25],\n",
      "[49,43,25],\n",
      "[17,37,16],\n",
      "[17,1,37],\n",
      "[20,6,29],\n",
      "[19,20,29],\n",
      "[6,20,7],\n",
      "[20,21,30],\n",
      "[7,20,30],\n",
      "[33,42,31],\n",
      "[32,33,31],\n",
      "[42,33,53],\n",
      "[33,32,53],\n",
      "[43,24,25],\n",
      "[13,12,49],\n",
      "[14,13,25],\n",
      "[44,14,25],\n",
      "[26,36,25],\n",
      "[36,44,25],\n",
      "[40,1,0],\n",
      "[40,39,1],\n",
      "[1,38,37],\n",
      "[39,38,1],\n",
      "[28,41,27],\n",
      "[41,3,27],\n",
      "[41,4,3],\n",
      "[4,41,5],\n",
      "[5,41,29],\n",
      "[41,28,29],\n",
      "[23,32,22],\n",
      "[32,23,53],\n",
      "[35,11,10],\n",
      "[11,24,43],\n",
      "[11,35,24],\n",
      "[45,14,44],\n",
      "[53,51,10],\n",
      "[51,35,10],\n",
      "[11,50,12],\n",
      "[50,11,43],\n",
      "[50,43,49],\n",
      "[12,50,49],\n",
      "[45,46,14],\n",
      "[23,34,53],\n",
      "[34,51,53],\n",
      "[51,34,35],\n",
      "[14,47,15],\n",
      "[46,47,14],\n",
      "[1,17,2],\n",
      "[17,18,2],\n",
      "[34,23,24],\n",
      "[35,34,24],\n",
      "], points = [\n",
      "[0.000000,0.000000,-500.000000],\n",
      "[0.000000,7.000000,-800.000000],\n",
      "[0.000000,10.000000,-1000.000000],\n",
      "[0.000000,15.000000,-1200.000000],\n",
      "[0.000000,20.000000,-1300.000000],\n",
      "[0.000000,25.000000,-1300.000000],\n",
      "[0.000000,30.000000,-1300.000000],\n",
      "[0.000000,35.000000,-1500.000000],\n",
      "[0.000000,40.000000,-1400.000000],\n",
      "[0.000000,45.000000,-1800.000000],\n",
      "[0.000000,70.000000,-1800.000000],\n",
      "[0.000000,75.000000,-1600.000000],\n",
      "[0.000000,80.000000,-1400.000000],\n",
      "[0.000000,90.000000,-800.000000],\n",
      "[0.000000,95.000000,-700.000000],\n",
      "[0.000000,100.000000,-600.000000],\n",
      "[1.000000,0.000000,4436.000000],\n",
      "[1.000000,7.000000,4526.800000],\n",
      "[1.000000,10.000000,4566.500000],\n",
      "[1.000000,20.000000,4436.000000],\n",
      "[1.000000,35.000000,4436.000000],\n",
      "[1.000000,40.000000,4286.700000],\n",
      "[1.000000,50.000000,3625.000000],\n",
      "[1.000000,65.000000,2651.000000],\n",
      "[1.000000,70.000000,2674.500000],\n",
      "[1.000000,95.000000,1826.000000],\n",
      "[1.000000,100.000000,1826.600000],\n",
      "[0.860000,15.000000,4426.000000],\n",
      "[0.860000,20.000000,4345.000000],\n",
      "[0.860000,25.000000,4233.000000],\n",
      "[0.860000,40.000000,3915.000000],\n",
      "[0.860000,50.000000,3625.000000],\n",
      "[0.860000,55.000000,3383.000000],\n",
      "[0.740000,55.000000,3018.800000],\n",
      "[0.740000,65.000000,2651.200000],\n",
      "[0.740000,70.000000,2614.900000],\n",
      "[0.740000,100.000000,1668.000000],\n",
      "[0.500000,0.000000,2775.000000],\n",
      "[0.380000,0.000000,2125.000000],\n",
      "[0.200000,0.000000,1150.000000],\n",
      "[0.020000,0.000000,-300.000000],\n",
      "[0.500000,20.000000,2427.500000],\n",
      "[0.500000,55.000000,1908.000000],\n",
      "[0.500000,80.000000,1429.000000],\n",
      "[0.500000,100.000000,1082.900000],\n",
      "[0.240000,100.000000,449.000000],\n",
      "[0.200000,100.000000,-36.000000],\n",
      "[0.020000,100.000000,-550.000000],\n",
      "[0.000000,100.000000,-600.000000],\n",
      "[0.040000,85.000000,-800.000000],\n",
      "[0.040000,80.000000,-1000.000000],\n",
      "[0.020000,65.000000,-1550.000000],\n",
      "[0.020000,45.000000,-1350.000000],\n",
      "[0.020000,60.000000,-1450.000000],\n",
      "]);\n",
      "(68, 3) \n",
      "Shape\n",
      " [[53 10  9]\n",
      " [18 19 27]\n",
      " [ 2 18 27]\n",
      " [28 19 29]\n",
      " [19 28 27]\n",
      " [42  9 31]\n",
      " [42 53  9]\n",
      " [ 3  2 27]\n",
      " [21 52 30]\n",
      " [52 21 22]\n",
      " [ 9 52 31]\n",
      " [52 22 31]\n",
      " [ 8  7 30]\n",
      " [ 8 52  9]\n",
      " [52  8 30]\n",
      " [ 6  5 29]\n",
      " [22 32 31]\n",
      " [13 49 25]\n",
      " [49 43 25]\n",
      " [17 37 16]\n",
      " [17  1 37]\n",
      " [20  6 29]\n",
      " [19 20 29]\n",
      " [ 6 20  7]\n",
      " [20 21 30]\n",
      " [ 7 20 30]\n",
      " [33 42 31]\n",
      " [32 33 31]\n",
      " [42 33 53]\n",
      " [33 32 53]\n",
      " [43 24 25]\n",
      " [13 12 49]\n",
      " [14 13 25]\n",
      " [44 14 25]\n",
      " [26 36 25]\n",
      " [36 44 25]\n",
      " [40  1  0]\n",
      " [40 39  1]\n",
      " [ 1 38 37]\n",
      " [39 38  1]\n",
      " [28 41 27]\n",
      " [41  3 27]\n",
      " [41  4  3]\n",
      " [ 4 41  5]\n",
      " [ 5 41 29]\n",
      " [41 28 29]\n",
      " [23 32 22]\n",
      " [32 23 53]\n",
      " [35 11 10]\n",
      " [11 24 43]\n",
      " [11 35 24]\n",
      " [45 14 44]\n",
      " [53 51 10]\n",
      " [51 35 10]\n",
      " [11 50 12]\n",
      " [50 11 43]\n",
      " [50 43 49]\n",
      " [12 50 49]\n",
      " [45 46 14]\n",
      " [23 34 53]\n",
      " [34 51 53]\n",
      " [51 34 35]\n",
      " [14 47 15]\n",
      " [46 47 14]\n",
      " [ 1 17  2]\n",
      " [17 18  2]\n",
      " [34 23 24]\n",
      " [35 34 24]]\n"
     ]
    }
   ],
   "source": [
    "# import pyrr\n",
    "from scipy.spatial import Delaunay\n",
    "import matplotlib.pyplot as plt\n",
    "import pyrr\n",
    "# v0 = np.array([1, 0, 4400])\n",
    "# # v1 = np.array([0, 0, 1059])\n",
    "# # v1 = np.array([0, 0, 100])  # regen2\n",
    "# v1 = np.array([0, 0, 100])  # regen_strong\n",
    "# # v2 = np.array([0, 1.94444, 70])  # 14 pieces default\n",
    "# # v2 = np.array([0, 1.94444, -1000])   # regen more regenerative braking\n",
    "# v2 = np.array([0, 1.94444, -3000])   # regen1 more regenerative braking\n",
    "#\n",
    "\n",
    "\n",
    "# v0 = np.array([0, 0, 800])  # original\n",
    "# v0 = np.array([0, 0, 100])  # regen1\n",
    "v0 = np.array([0, 0, -500])  # regen2\n",
    "# v1 = np.array([0, 7, 80])  # original\n",
    "v1 = np.array([0, 7, -800])  # regen2\n",
    "# v2 = np.array([0, 10, -200]) # original\n",
    "v2 = np.array([0, 10, -1000]) # regen2\n",
    "# v3 = np.array([0, 15, -800]) # original\n",
    "v3 = np.array([0, 15, -1200]) # regen2\n",
    "v4 = np.array([0, 20, -1300]) # regen2\n",
    "v5 = np.array([0, 25, -1300])\n",
    "v6 = np.array([0, 30, -1300])\n",
    "v7 = np.array([0, 35, -1500])\n",
    "v8 = np.array([0, 40, -1400])\n",
    "v9 = np.array([0, 45, -1800])\n",
    "v10 = np.array([0, 70, -1800])\n",
    "v11 = np.array([0, 75, -1600])\n",
    "v12 = np.array([0, 80, -1400])\n",
    "v13 = np.array([0, 90, -800])\n",
    "v14 = np.array([0, 95, -700])\n",
    "v15 = np.array([0, 100, -600])\n",
    "\n",
    "v16 = np.array([1, 0, 4436])\n",
    "v17 = np.array([1, 7, 4526.8])\n",
    "v18 = np.array([1, 10, 4566.5])\n",
    "v19 = np.array([1, 20, 4436])\n",
    "v20 = np.array([1, 35, 4436])\n",
    "v21 = np.array([1, 40, 4286.7])\n",
    "v22 = np.array([1, 50, 3625])\n",
    "v23 = np.array([1, 65, 2651])\n",
    "v24 = np.array([1, 70, 2674.5])\n",
    "v25 = np.array([1, 95, 1826])\n",
    "v26 = np.array([1, 100, 1826.6])\n",
    "\n",
    "v27 = np.array([0.86, 15, 4426])\n",
    "v28 = np.array([0.86, 20, 4345])\n",
    "v29 = np.array([0.86, 25, 4233])\n",
    "v30 = np.array([0.86, 40, 3915])\n",
    "v31 = np.array([0.86, 50, 3625])\n",
    "v32 = np.array([0.86, 55, 3383])\n",
    "\n",
    "v33 = np.array([0.74, 55, 3018.8])\n",
    "v34 = np.array([0.74, 65, 2651.2])\n",
    "v35 = np.array([0.74, 70, 2614.9])\n",
    "v36 = np.array([0.74, 100, 1668])\n",
    "\n",
    "v37 = np.array([0.5, 0, 2775])\n",
    "v38 = np.array([0.38, 0, 2125])\n",
    "v39 = np.array([0.2, 0, 1150])\n",
    "# v40 = np.array([0.02, 0, 1058.8]) # original\n",
    "# v40 = np.array([0.02, 0, 200]) # regen1\n",
    "v40 = np.array([0.02, 0, -300]) # regen2\n",
    "\n",
    "v41 = np.array([0.5, 20, 2427.5])\n",
    "v42 = np.array([0.5, 55, 1908])\n",
    "v43 = np.array([0.5, 80, 1429])\n",
    "v44 = np.array([0.5, 100, 1082.9])\n",
    "\n",
    "v45 = np.array([0.24, 100, 449])\n",
    "v46 = np.array([0.2, 100, -36])\n",
    "v47 = np.array([0.02, 100, -550])\n",
    "v48 = np.array([0, 100, -600])\n",
    "\n",
    "v49 = np.array([0.04, 85, -800])\n",
    "v50 = np.array([0.04, 80, -1000])\n",
    "\n",
    "v51 = np.array([0.02, 65, -1550])\n",
    "v52 = np.array([0.02, 45, -1350])\n",
    "v53 = np.array([0.02, 60, -1450])\n",
    "\n",
    "points = np.array([v0, v1, v2, v3, v4, v5, v6, v7, v8, v9, v10, v11, v12, v13,\n",
    "                   v14, v15, v16, v17, v18, v19, v20, v21, v22, v23, v24, v25, v26, v27,\n",
    "                   v28, v29, v30, v31, v32, v33, v34, v35, v36, v37, v38, v39, v40, v41,\n",
    "                   v42, v43, v44, v45, v46, v47, v48, v49, v50, v51, v52, v53])\n",
    "\n",
    "u = points[:,0]\n",
    "v = points[:,1]\n",
    "z = points[:,2]\n",
    "tri = Delaunay(np.array([u,v]).T)\n",
    "\n",
    "print('polyhedron(faces = [')\n",
    "#for vert in tri.triangles:\n",
    "for vert in tri.simplices:\n",
    "    print('[%d,%d,%d],' % (vert[0],vert[1],vert[2]),)\n",
    "print('], points = [')\n",
    "for i in range(u.shape[0]):\n",
    "    print ('[%f,%f,%f],' % (u[i], v[i], z[i]),)\n",
    "print(']);')\n",
    "\n",
    "print(tri.simplices.shape, '\\nShape\\n', tri.simplices)\n"
   ],
   "metadata": {
    "collapsed": false,
    "pycharm": {
     "name": "#%%\n"
    }
   }
  },
  {
   "cell_type": "code",
   "execution_count": 67,
   "outputs": [
    {
     "data": {
      "application/vnd.plotly.v1+json": {
       "config": {
        "linkText": "Export to plot.ly",
        "plotlyServerURL": "https://plot.ly",
        "showLink": false
       },
       "data": [
        {
         "facecolor": [
          "rgb(103,0,31)",
          "rgb(5,48,97)",
          "rgb(141,194,220)",
          "rgb(10,59,112)",
          "rgb(8,54,106)",
          "rgb(249,240,235)",
          "rgb(214,96,77)",
          "rgb(252,215,194)",
          "rgb(182,215,232)",
          "rgb(192,220,235)",
          "rgb(243,164,129)",
          "rgb(212,230,241)",
          "rgb(247,181,150)",
          "rgb(121,6,34)",
          "rgb(247,185,156)",
          "rgb(249,198,172)",
          "rgb(50,124,183)",
          "rgb(240,156,123)",
          "rgb(253,220,201)",
          "rgb(30,97,165)",
          "rgb(192,220,235)",
          "rgb(162,205,227)",
          "rgb(9,56,109)",
          "rgb(249,198,172)",
          "rgb(16,69,126)",
          "rgb(182,215,232)",
          "rgb(117,178,212)",
          "rgb(62,140,191)",
          "rgb(249,237,229)",
          "rgb(231,240,244)",
          "rgb(210,230,240)",
          "rgb(182,31,46)",
          "rgb(241,158,125)",
          "rgb(252,215,194)",
          "rgb(224,236,243)",
          "rgb(239,243,245)",
          "rgb(208,85,72)",
          "rgb(236,147,116)",
          "rgb(247,245,244)",
          "rgb(253,221,203)",
          "rgb(39,110,176)",
          "rgb(216,233,241)",
          "rgb(234,142,112)",
          "rgb(233,139,110)",
          "rgb(222,235,242)",
          "rgb(43,115,179)",
          "rgb(70,149,196)",
          "rgb(239,243,245)",
          "rgb(223,118,94)",
          "rgb(253,221,203)",
          "rgb(249,240,235)",
          "rgb(246,175,142)",
          "rgb(112,3,32)",
          "rgb(223,118,94)",
          "rgb(144,13,38)",
          "rgb(216,101,81)",
          "rgb(229,131,104)",
          "rgb(177,24,43)",
          "rgb(230,134,106)",
          "rgb(248,242,239)",
          "rgb(230,134,106)",
          "rgb(249,240,235)",
          "rgb(204,76,68)",
          "rgb(215,99,79)",
          "rgb(252,224,208)",
          "rgb(135,190,218)",
          "rgb(141,194,220)",
          "rgb(144,196,221)"
         ],
         "i": [
          53,
          18,
          2,
          28,
          19,
          42,
          42,
          3,
          21,
          52,
          9,
          52,
          8,
          8,
          52,
          6,
          22,
          13,
          49,
          17,
          17,
          20,
          19,
          6,
          20,
          7,
          33,
          32,
          42,
          33,
          43,
          13,
          14,
          44,
          26,
          36,
          40,
          40,
          1,
          39,
          28,
          41,
          41,
          4,
          5,
          41,
          23,
          32,
          35,
          11,
          11,
          45,
          53,
          51,
          11,
          50,
          50,
          12,
          45,
          23,
          34,
          51,
          14,
          46,
          1,
          17,
          34,
          35
         ],
         "j": [
          10,
          19,
          18,
          19,
          28,
          9,
          53,
          2,
          52,
          21,
          52,
          22,
          7,
          52,
          8,
          5,
          32,
          49,
          43,
          37,
          1,
          6,
          20,
          20,
          21,
          20,
          42,
          33,
          33,
          32,
          24,
          12,
          13,
          14,
          36,
          44,
          1,
          39,
          38,
          38,
          41,
          3,
          4,
          41,
          41,
          28,
          32,
          23,
          11,
          24,
          35,
          14,
          51,
          35,
          50,
          11,
          43,
          50,
          46,
          34,
          51,
          34,
          47,
          47,
          17,
          18,
          23,
          34
         ],
         "k": [
          9,
          27,
          27,
          29,
          27,
          31,
          9,
          27,
          30,
          22,
          31,
          31,
          30,
          9,
          30,
          29,
          31,
          25,
          25,
          16,
          37,
          29,
          29,
          7,
          30,
          30,
          31,
          31,
          53,
          53,
          25,
          49,
          25,
          25,
          25,
          25,
          0,
          1,
          37,
          1,
          27,
          27,
          3,
          5,
          29,
          29,
          22,
          53,
          10,
          43,
          24,
          44,
          10,
          10,
          12,
          43,
          49,
          49,
          14,
          53,
          53,
          35,
          15,
          14,
          2,
          2,
          24,
          24
         ],
         "name": "",
         "type": "mesh3d",
         "x": [
          0.0,
          0.0,
          0.0,
          0.0,
          0.0,
          0.0,
          0.0,
          0.0,
          0.0,
          0.0,
          0.0,
          0.0,
          0.0,
          0.0,
          0.0,
          0.0,
          1.0,
          1.0,
          1.0,
          1.0,
          1.0,
          1.0,
          1.0,
          1.0,
          1.0,
          1.0,
          1.0,
          0.86,
          0.86,
          0.86,
          0.86,
          0.86,
          0.86,
          0.74,
          0.74,
          0.74,
          0.74,
          0.5,
          0.38,
          0.2,
          0.02,
          0.5,
          0.5,
          0.5,
          0.5,
          0.24,
          0.2,
          0.02,
          0.0,
          0.04,
          0.04,
          0.02,
          0.02,
          0.02
         ],
         "y": [
          0.0,
          7.0,
          10.0,
          15.0,
          20.0,
          25.0,
          30.0,
          35.0,
          40.0,
          45.0,
          70.0,
          75.0,
          80.0,
          90.0,
          95.0,
          100.0,
          0.0,
          7.0,
          10.0,
          20.0,
          35.0,
          40.0,
          50.0,
          65.0,
          70.0,
          95.0,
          100.0,
          15.0,
          20.0,
          25.0,
          40.0,
          50.0,
          55.0,
          55.0,
          65.0,
          70.0,
          100.0,
          0.0,
          0.0,
          0.0,
          0.0,
          20.0,
          55.0,
          80.0,
          100.0,
          100.0,
          100.0,
          100.0,
          100.0,
          85.0,
          80.0,
          65.0,
          45.0,
          60.0
         ],
         "z": [
          -500.0,
          -800.0,
          -1000.0,
          -1200.0,
          -1300.0,
          -1300.0,
          -1300.0,
          -1500.0,
          -1400.0,
          -1800.0,
          -1800.0,
          -1600.0,
          -1400.0,
          -800.0,
          -700.0,
          -600.0,
          4436.0,
          4526.8,
          4566.5,
          4436.0,
          4436.0,
          4286.7,
          3625.0,
          2651.0,
          2674.5,
          1826.0,
          1826.6,
          4426.0,
          4345.0,
          4233.0,
          3915.0,
          3625.0,
          3383.0,
          3018.8,
          2651.2,
          2614.9,
          1668.0,
          2775.0,
          2125.0,
          1150.0,
          -300.0,
          2427.5,
          1908.0,
          1429.0,
          1082.9,
          449.0,
          -36.0,
          -550.0,
          -600.0,
          -800.0,
          -1000.0,
          -1550.0,
          -1350.0,
          -1450.0
         ]
        }
       ],
       "layout": {
        "height": 800,
        "scene": {
         "aspectratio": {
          "x": 1,
          "y": 1,
          "z": 0.5
         },
         "xaxis": {
          "backgroundcolor": "rgb(230, 230,230)",
          "gridcolor": "rgb(255, 255, 255)",
          "showbackground": true,
          "zerolinecolor": "rgb(255, 255, 255)"
         },
         "yaxis": {
          "backgroundcolor": "rgb(230, 230,230)",
          "gridcolor": "rgb(255, 255, 255)",
          "showbackground": true,
          "zerolinecolor": "rgb(255, 255, 255)"
         },
         "zaxis": {
          "backgroundcolor": "rgb(230, 230,230)",
          "gridcolor": "rgb(255, 255, 255)",
          "showbackground": true,
          "zerolinecolor": "rgb(255, 255, 255)"
         }
        },
        "template": {
         "data": {
          "bar": [
           {
            "error_x": {
             "color": "#2a3f5f"
            },
            "error_y": {
             "color": "#2a3f5f"
            },
            "marker": {
             "line": {
              "color": "#E5ECF6",
              "width": 0.5
             },
             "pattern": {
              "fillmode": "overlay",
              "size": 10,
              "solidity": 0.2
             }
            },
            "type": "bar"
           }
          ],
          "barpolar": [
           {
            "marker": {
             "line": {
              "color": "#E5ECF6",
              "width": 0.5
             },
             "pattern": {
              "fillmode": "overlay",
              "size": 10,
              "solidity": 0.2
             }
            },
            "type": "barpolar"
           }
          ],
          "carpet": [
           {
            "aaxis": {
             "endlinecolor": "#2a3f5f",
             "gridcolor": "white",
             "linecolor": "white",
             "minorgridcolor": "white",
             "startlinecolor": "#2a3f5f"
            },
            "baxis": {
             "endlinecolor": "#2a3f5f",
             "gridcolor": "white",
             "linecolor": "white",
             "minorgridcolor": "white",
             "startlinecolor": "#2a3f5f"
            },
            "type": "carpet"
           }
          ],
          "choropleth": [
           {
            "colorbar": {
             "outlinewidth": 0,
             "ticks": ""
            },
            "type": "choropleth"
           }
          ],
          "contour": [
           {
            "colorbar": {
             "outlinewidth": 0,
             "ticks": ""
            },
            "colorscale": [
             [
              0.0,
              "#0d0887"
             ],
             [
              0.1111111111111111,
              "#46039f"
             ],
             [
              0.2222222222222222,
              "#7201a8"
             ],
             [
              0.3333333333333333,
              "#9c179e"
             ],
             [
              0.4444444444444444,
              "#bd3786"
             ],
             [
              0.5555555555555556,
              "#d8576b"
             ],
             [
              0.6666666666666666,
              "#ed7953"
             ],
             [
              0.7777777777777778,
              "#fb9f3a"
             ],
             [
              0.8888888888888888,
              "#fdca26"
             ],
             [
              1.0,
              "#f0f921"
             ]
            ],
            "type": "contour"
           }
          ],
          "contourcarpet": [
           {
            "colorbar": {
             "outlinewidth": 0,
             "ticks": ""
            },
            "type": "contourcarpet"
           }
          ],
          "heatmap": [
           {
            "colorbar": {
             "outlinewidth": 0,
             "ticks": ""
            },
            "colorscale": [
             [
              0.0,
              "#0d0887"
             ],
             [
              0.1111111111111111,
              "#46039f"
             ],
             [
              0.2222222222222222,
              "#7201a8"
             ],
             [
              0.3333333333333333,
              "#9c179e"
             ],
             [
              0.4444444444444444,
              "#bd3786"
             ],
             [
              0.5555555555555556,
              "#d8576b"
             ],
             [
              0.6666666666666666,
              "#ed7953"
             ],
             [
              0.7777777777777778,
              "#fb9f3a"
             ],
             [
              0.8888888888888888,
              "#fdca26"
             ],
             [
              1.0,
              "#f0f921"
             ]
            ],
            "type": "heatmap"
           }
          ],
          "heatmapgl": [
           {
            "colorbar": {
             "outlinewidth": 0,
             "ticks": ""
            },
            "colorscale": [
             [
              0.0,
              "#0d0887"
             ],
             [
              0.1111111111111111,
              "#46039f"
             ],
             [
              0.2222222222222222,
              "#7201a8"
             ],
             [
              0.3333333333333333,
              "#9c179e"
             ],
             [
              0.4444444444444444,
              "#bd3786"
             ],
             [
              0.5555555555555556,
              "#d8576b"
             ],
             [
              0.6666666666666666,
              "#ed7953"
             ],
             [
              0.7777777777777778,
              "#fb9f3a"
             ],
             [
              0.8888888888888888,
              "#fdca26"
             ],
             [
              1.0,
              "#f0f921"
             ]
            ],
            "type": "heatmapgl"
           }
          ],
          "histogram": [
           {
            "marker": {
             "pattern": {
              "fillmode": "overlay",
              "size": 10,
              "solidity": 0.2
             }
            },
            "type": "histogram"
           }
          ],
          "histogram2d": [
           {
            "colorbar": {
             "outlinewidth": 0,
             "ticks": ""
            },
            "colorscale": [
             [
              0.0,
              "#0d0887"
             ],
             [
              0.1111111111111111,
              "#46039f"
             ],
             [
              0.2222222222222222,
              "#7201a8"
             ],
             [
              0.3333333333333333,
              "#9c179e"
             ],
             [
              0.4444444444444444,
              "#bd3786"
             ],
             [
              0.5555555555555556,
              "#d8576b"
             ],
             [
              0.6666666666666666,
              "#ed7953"
             ],
             [
              0.7777777777777778,
              "#fb9f3a"
             ],
             [
              0.8888888888888888,
              "#fdca26"
             ],
             [
              1.0,
              "#f0f921"
             ]
            ],
            "type": "histogram2d"
           }
          ],
          "histogram2dcontour": [
           {
            "colorbar": {
             "outlinewidth": 0,
             "ticks": ""
            },
            "colorscale": [
             [
              0.0,
              "#0d0887"
             ],
             [
              0.1111111111111111,
              "#46039f"
             ],
             [
              0.2222222222222222,
              "#7201a8"
             ],
             [
              0.3333333333333333,
              "#9c179e"
             ],
             [
              0.4444444444444444,
              "#bd3786"
             ],
             [
              0.5555555555555556,
              "#d8576b"
             ],
             [
              0.6666666666666666,
              "#ed7953"
             ],
             [
              0.7777777777777778,
              "#fb9f3a"
             ],
             [
              0.8888888888888888,
              "#fdca26"
             ],
             [
              1.0,
              "#f0f921"
             ]
            ],
            "type": "histogram2dcontour"
           }
          ],
          "mesh3d": [
           {
            "colorbar": {
             "outlinewidth": 0,
             "ticks": ""
            },
            "type": "mesh3d"
           }
          ],
          "parcoords": [
           {
            "line": {
             "colorbar": {
              "outlinewidth": 0,
              "ticks": ""
             }
            },
            "type": "parcoords"
           }
          ],
          "pie": [
           {
            "automargin": true,
            "type": "pie"
           }
          ],
          "scatter": [
           {
            "marker": {
             "colorbar": {
              "outlinewidth": 0,
              "ticks": ""
             }
            },
            "type": "scatter"
           }
          ],
          "scatter3d": [
           {
            "line": {
             "colorbar": {
              "outlinewidth": 0,
              "ticks": ""
             }
            },
            "marker": {
             "colorbar": {
              "outlinewidth": 0,
              "ticks": ""
             }
            },
            "type": "scatter3d"
           }
          ],
          "scattercarpet": [
           {
            "marker": {
             "colorbar": {
              "outlinewidth": 0,
              "ticks": ""
             }
            },
            "type": "scattercarpet"
           }
          ],
          "scattergeo": [
           {
            "marker": {
             "colorbar": {
              "outlinewidth": 0,
              "ticks": ""
             }
            },
            "type": "scattergeo"
           }
          ],
          "scattergl": [
           {
            "marker": {
             "colorbar": {
              "outlinewidth": 0,
              "ticks": ""
             }
            },
            "type": "scattergl"
           }
          ],
          "scattermapbox": [
           {
            "marker": {
             "colorbar": {
              "outlinewidth": 0,
              "ticks": ""
             }
            },
            "type": "scattermapbox"
           }
          ],
          "scatterpolar": [
           {
            "marker": {
             "colorbar": {
              "outlinewidth": 0,
              "ticks": ""
             }
            },
            "type": "scatterpolar"
           }
          ],
          "scatterpolargl": [
           {
            "marker": {
             "colorbar": {
              "outlinewidth": 0,
              "ticks": ""
             }
            },
            "type": "scatterpolargl"
           }
          ],
          "scatterternary": [
           {
            "marker": {
             "colorbar": {
              "outlinewidth": 0,
              "ticks": ""
             }
            },
            "type": "scatterternary"
           }
          ],
          "surface": [
           {
            "colorbar": {
             "outlinewidth": 0,
             "ticks": ""
            },
            "colorscale": [
             [
              0.0,
              "#0d0887"
             ],
             [
              0.1111111111111111,
              "#46039f"
             ],
             [
              0.2222222222222222,
              "#7201a8"
             ],
             [
              0.3333333333333333,
              "#9c179e"
             ],
             [
              0.4444444444444444,
              "#bd3786"
             ],
             [
              0.5555555555555556,
              "#d8576b"
             ],
             [
              0.6666666666666666,
              "#ed7953"
             ],
             [
              0.7777777777777778,
              "#fb9f3a"
             ],
             [
              0.8888888888888888,
              "#fdca26"
             ],
             [
              1.0,
              "#f0f921"
             ]
            ],
            "type": "surface"
           }
          ],
          "table": [
           {
            "cells": {
             "fill": {
              "color": "#EBF0F8"
             },
             "line": {
              "color": "white"
             }
            },
            "header": {
             "fill": {
              "color": "#C8D4E3"
             },
             "line": {
              "color": "white"
             }
            },
            "type": "table"
           }
          ]
         },
         "layout": {
          "annotationdefaults": {
           "arrowcolor": "#2a3f5f",
           "arrowhead": 0,
           "arrowwidth": 1
          },
          "autotypenumbers": "strict",
          "coloraxis": {
           "colorbar": {
            "outlinewidth": 0,
            "ticks": ""
           }
          },
          "colorscale": {
           "diverging": [
            [
             0,
             "#8e0152"
            ],
            [
             0.1,
             "#c51b7d"
            ],
            [
             0.2,
             "#de77ae"
            ],
            [
             0.3,
             "#f1b6da"
            ],
            [
             0.4,
             "#fde0ef"
            ],
            [
             0.5,
             "#f7f7f7"
            ],
            [
             0.6,
             "#e6f5d0"
            ],
            [
             0.7,
             "#b8e186"
            ],
            [
             0.8,
             "#7fbc41"
            ],
            [
             0.9,
             "#4d9221"
            ],
            [
             1,
             "#276419"
            ]
           ],
           "sequential": [
            [
             0.0,
             "#0d0887"
            ],
            [
             0.1111111111111111,
             "#46039f"
            ],
            [
             0.2222222222222222,
             "#7201a8"
            ],
            [
             0.3333333333333333,
             "#9c179e"
            ],
            [
             0.4444444444444444,
             "#bd3786"
            ],
            [
             0.5555555555555556,
             "#d8576b"
            ],
            [
             0.6666666666666666,
             "#ed7953"
            ],
            [
             0.7777777777777778,
             "#fb9f3a"
            ],
            [
             0.8888888888888888,
             "#fdca26"
            ],
            [
             1.0,
             "#f0f921"
            ]
           ],
           "sequentialminus": [
            [
             0.0,
             "#0d0887"
            ],
            [
             0.1111111111111111,
             "#46039f"
            ],
            [
             0.2222222222222222,
             "#7201a8"
            ],
            [
             0.3333333333333333,
             "#9c179e"
            ],
            [
             0.4444444444444444,
             "#bd3786"
            ],
            [
             0.5555555555555556,
             "#d8576b"
            ],
            [
             0.6666666666666666,
             "#ed7953"
            ],
            [
             0.7777777777777778,
             "#fb9f3a"
            ],
            [
             0.8888888888888888,
             "#fdca26"
            ],
            [
             1.0,
             "#f0f921"
            ]
           ]
          },
          "colorway": [
           "#636efa",
           "#EF553B",
           "#00cc96",
           "#ab63fa",
           "#FFA15A",
           "#19d3f3",
           "#FF6692",
           "#B6E880",
           "#FF97FF",
           "#FECB52"
          ],
          "font": {
           "color": "#2a3f5f"
          },
          "geo": {
           "bgcolor": "white",
           "lakecolor": "white",
           "landcolor": "#E5ECF6",
           "showlakes": true,
           "showland": true,
           "subunitcolor": "white"
          },
          "hoverlabel": {
           "align": "left"
          },
          "hovermode": "closest",
          "mapbox": {
           "style": "light"
          },
          "paper_bgcolor": "white",
          "plot_bgcolor": "#E5ECF6",
          "polar": {
           "angularaxis": {
            "gridcolor": "white",
            "linecolor": "white",
            "ticks": ""
           },
           "bgcolor": "#E5ECF6",
           "radialaxis": {
            "gridcolor": "white",
            "linecolor": "white",
            "ticks": ""
           }
          },
          "scene": {
           "xaxis": {
            "backgroundcolor": "#E5ECF6",
            "gridcolor": "white",
            "gridwidth": 2,
            "linecolor": "white",
            "showbackground": true,
            "ticks": "",
            "zerolinecolor": "white"
           },
           "yaxis": {
            "backgroundcolor": "#E5ECF6",
            "gridcolor": "white",
            "gridwidth": 2,
            "linecolor": "white",
            "showbackground": true,
            "ticks": "",
            "zerolinecolor": "white"
           },
           "zaxis": {
            "backgroundcolor": "#E5ECF6",
            "gridcolor": "white",
            "gridwidth": 2,
            "linecolor": "white",
            "showbackground": true,
            "ticks": "",
            "zerolinecolor": "white"
           }
          },
          "shapedefaults": {
           "line": {
            "color": "#2a3f5f"
           }
          },
          "ternary": {
           "aaxis": {
            "gridcolor": "white",
            "linecolor": "white",
            "ticks": ""
           },
           "baxis": {
            "gridcolor": "white",
            "linecolor": "white",
            "ticks": ""
           },
           "bgcolor": "#E5ECF6",
           "caxis": {
            "gridcolor": "white",
            "linecolor": "white",
            "ticks": ""
           }
          },
          "title": {
           "x": 0.05
          },
          "xaxis": {
           "automargin": true,
           "gridcolor": "white",
           "linecolor": "white",
           "ticks": "",
           "title": {
            "standoff": 15
           },
           "zerolinecolor": "white",
           "zerolinewidth": 2
          },
          "yaxis": {
           "automargin": true,
           "gridcolor": "white",
           "linecolor": "white",
           "ticks": "",
           "title": {
            "standoff": 15
           },
           "zerolinecolor": "white",
           "zerolinewidth": 2
          }
         }
        },
        "title": {
         "text": "Pedal Map Non-Eco"
        },
        "width": 800
       }
      },
      "text/html": "<div>                            <div id=\"43baec5c-dc90-4b1c-9c49-676cfa3fb109\" class=\"plotly-graph-div\" style=\"height:800px; width:800px;\"></div>            <script type=\"text/javascript\">                require([\"plotly\"], function(Plotly) {                    window.PLOTLYENV=window.PLOTLYENV || {};                                    if (document.getElementById(\"43baec5c-dc90-4b1c-9c49-676cfa3fb109\")) {                    Plotly.newPlot(                        \"43baec5c-dc90-4b1c-9c49-676cfa3fb109\",                        [{\"facecolor\":[\"rgb(103,0,31)\",\"rgb(5,48,97)\",\"rgb(141,194,220)\",\"rgb(10,59,112)\",\"rgb(8,54,106)\",\"rgb(249,240,235)\",\"rgb(214,96,77)\",\"rgb(252,215,194)\",\"rgb(182,215,232)\",\"rgb(192,220,235)\",\"rgb(243,164,129)\",\"rgb(212,230,241)\",\"rgb(247,181,150)\",\"rgb(121,6,34)\",\"rgb(247,185,156)\",\"rgb(249,198,172)\",\"rgb(50,124,183)\",\"rgb(240,156,123)\",\"rgb(253,220,201)\",\"rgb(30,97,165)\",\"rgb(192,220,235)\",\"rgb(162,205,227)\",\"rgb(9,56,109)\",\"rgb(249,198,172)\",\"rgb(16,69,126)\",\"rgb(182,215,232)\",\"rgb(117,178,212)\",\"rgb(62,140,191)\",\"rgb(249,237,229)\",\"rgb(231,240,244)\",\"rgb(210,230,240)\",\"rgb(182,31,46)\",\"rgb(241,158,125)\",\"rgb(252,215,194)\",\"rgb(224,236,243)\",\"rgb(239,243,245)\",\"rgb(208,85,72)\",\"rgb(236,147,116)\",\"rgb(247,245,244)\",\"rgb(253,221,203)\",\"rgb(39,110,176)\",\"rgb(216,233,241)\",\"rgb(234,142,112)\",\"rgb(233,139,110)\",\"rgb(222,235,242)\",\"rgb(43,115,179)\",\"rgb(70,149,196)\",\"rgb(239,243,245)\",\"rgb(223,118,94)\",\"rgb(253,221,203)\",\"rgb(249,240,235)\",\"rgb(246,175,142)\",\"rgb(112,3,32)\",\"rgb(223,118,94)\",\"rgb(144,13,38)\",\"rgb(216,101,81)\",\"rgb(229,131,104)\",\"rgb(177,24,43)\",\"rgb(230,134,106)\",\"rgb(248,242,239)\",\"rgb(230,134,106)\",\"rgb(249,240,235)\",\"rgb(204,76,68)\",\"rgb(215,99,79)\",\"rgb(252,224,208)\",\"rgb(135,190,218)\",\"rgb(141,194,220)\",\"rgb(144,196,221)\"],\"i\":[53,18,2,28,19,42,42,3,21,52,9,52,8,8,52,6,22,13,49,17,17,20,19,6,20,7,33,32,42,33,43,13,14,44,26,36,40,40,1,39,28,41,41,4,5,41,23,32,35,11,11,45,53,51,11,50,50,12,45,23,34,51,14,46,1,17,34,35],\"j\":[10,19,18,19,28,9,53,2,52,21,52,22,7,52,8,5,32,49,43,37,1,6,20,20,21,20,42,33,33,32,24,12,13,14,36,44,1,39,38,38,41,3,4,41,41,28,32,23,11,24,35,14,51,35,50,11,43,50,46,34,51,34,47,47,17,18,23,34],\"k\":[9,27,27,29,27,31,9,27,30,22,31,31,30,9,30,29,31,25,25,16,37,29,29,7,30,30,31,31,53,53,25,49,25,25,25,25,0,1,37,1,27,27,3,5,29,29,22,53,10,43,24,44,10,10,12,43,49,49,14,53,53,35,15,14,2,2,24,24],\"name\":\"\",\"type\":\"mesh3d\",\"x\":[0.0,0.0,0.0,0.0,0.0,0.0,0.0,0.0,0.0,0.0,0.0,0.0,0.0,0.0,0.0,0.0,1.0,1.0,1.0,1.0,1.0,1.0,1.0,1.0,1.0,1.0,1.0,0.86,0.86,0.86,0.86,0.86,0.86,0.74,0.74,0.74,0.74,0.5,0.38,0.2,0.02,0.5,0.5,0.5,0.5,0.24,0.2,0.02,0.0,0.04,0.04,0.02,0.02,0.02],\"y\":[0.0,7.0,10.0,15.0,20.0,25.0,30.0,35.0,40.0,45.0,70.0,75.0,80.0,90.0,95.0,100.0,0.0,7.0,10.0,20.0,35.0,40.0,50.0,65.0,70.0,95.0,100.0,15.0,20.0,25.0,40.0,50.0,55.0,55.0,65.0,70.0,100.0,0.0,0.0,0.0,0.0,20.0,55.0,80.0,100.0,100.0,100.0,100.0,100.0,85.0,80.0,65.0,45.0,60.0],\"z\":[-500.0,-800.0,-1000.0,-1200.0,-1300.0,-1300.0,-1300.0,-1500.0,-1400.0,-1800.0,-1800.0,-1600.0,-1400.0,-800.0,-700.0,-600.0,4436.0,4526.8,4566.5,4436.0,4436.0,4286.7,3625.0,2651.0,2674.5,1826.0,1826.6,4426.0,4345.0,4233.0,3915.0,3625.0,3383.0,3018.8,2651.2,2614.9,1668.0,2775.0,2125.0,1150.0,-300.0,2427.5,1908.0,1429.0,1082.9,449.0,-36.0,-550.0,-600.0,-800.0,-1000.0,-1550.0,-1350.0,-1450.0]}],                        {\"height\":800,\"scene\":{\"aspectratio\":{\"x\":1,\"y\":1,\"z\":0.5},\"xaxis\":{\"backgroundcolor\":\"rgb(230, 230,230)\",\"gridcolor\":\"rgb(255, 255, 255)\",\"showbackground\":true,\"zerolinecolor\":\"rgb(255, 255, 255)\"},\"yaxis\":{\"backgroundcolor\":\"rgb(230, 230,230)\",\"gridcolor\":\"rgb(255, 255, 255)\",\"showbackground\":true,\"zerolinecolor\":\"rgb(255, 255, 255)\"},\"zaxis\":{\"backgroundcolor\":\"rgb(230, 230,230)\",\"gridcolor\":\"rgb(255, 255, 255)\",\"showbackground\":true,\"zerolinecolor\":\"rgb(255, 255, 255)\"}},\"template\":{\"data\":{\"bar\":[{\"error_x\":{\"color\":\"#2a3f5f\"},\"error_y\":{\"color\":\"#2a3f5f\"},\"marker\":{\"line\":{\"color\":\"#E5ECF6\",\"width\":0.5},\"pattern\":{\"fillmode\":\"overlay\",\"size\":10,\"solidity\":0.2}},\"type\":\"bar\"}],\"barpolar\":[{\"marker\":{\"line\":{\"color\":\"#E5ECF6\",\"width\":0.5},\"pattern\":{\"fillmode\":\"overlay\",\"size\":10,\"solidity\":0.2}},\"type\":\"barpolar\"}],\"carpet\":[{\"aaxis\":{\"endlinecolor\":\"#2a3f5f\",\"gridcolor\":\"white\",\"linecolor\":\"white\",\"minorgridcolor\":\"white\",\"startlinecolor\":\"#2a3f5f\"},\"baxis\":{\"endlinecolor\":\"#2a3f5f\",\"gridcolor\":\"white\",\"linecolor\":\"white\",\"minorgridcolor\":\"white\",\"startlinecolor\":\"#2a3f5f\"},\"type\":\"carpet\"}],\"choropleth\":[{\"colorbar\":{\"outlinewidth\":0,\"ticks\":\"\"},\"type\":\"choropleth\"}],\"contour\":[{\"colorbar\":{\"outlinewidth\":0,\"ticks\":\"\"},\"colorscale\":[[0.0,\"#0d0887\"],[0.1111111111111111,\"#46039f\"],[0.2222222222222222,\"#7201a8\"],[0.3333333333333333,\"#9c179e\"],[0.4444444444444444,\"#bd3786\"],[0.5555555555555556,\"#d8576b\"],[0.6666666666666666,\"#ed7953\"],[0.7777777777777778,\"#fb9f3a\"],[0.8888888888888888,\"#fdca26\"],[1.0,\"#f0f921\"]],\"type\":\"contour\"}],\"contourcarpet\":[{\"colorbar\":{\"outlinewidth\":0,\"ticks\":\"\"},\"type\":\"contourcarpet\"}],\"heatmap\":[{\"colorbar\":{\"outlinewidth\":0,\"ticks\":\"\"},\"colorscale\":[[0.0,\"#0d0887\"],[0.1111111111111111,\"#46039f\"],[0.2222222222222222,\"#7201a8\"],[0.3333333333333333,\"#9c179e\"],[0.4444444444444444,\"#bd3786\"],[0.5555555555555556,\"#d8576b\"],[0.6666666666666666,\"#ed7953\"],[0.7777777777777778,\"#fb9f3a\"],[0.8888888888888888,\"#fdca26\"],[1.0,\"#f0f921\"]],\"type\":\"heatmap\"}],\"heatmapgl\":[{\"colorbar\":{\"outlinewidth\":0,\"ticks\":\"\"},\"colorscale\":[[0.0,\"#0d0887\"],[0.1111111111111111,\"#46039f\"],[0.2222222222222222,\"#7201a8\"],[0.3333333333333333,\"#9c179e\"],[0.4444444444444444,\"#bd3786\"],[0.5555555555555556,\"#d8576b\"],[0.6666666666666666,\"#ed7953\"],[0.7777777777777778,\"#fb9f3a\"],[0.8888888888888888,\"#fdca26\"],[1.0,\"#f0f921\"]],\"type\":\"heatmapgl\"}],\"histogram\":[{\"marker\":{\"pattern\":{\"fillmode\":\"overlay\",\"size\":10,\"solidity\":0.2}},\"type\":\"histogram\"}],\"histogram2d\":[{\"colorbar\":{\"outlinewidth\":0,\"ticks\":\"\"},\"colorscale\":[[0.0,\"#0d0887\"],[0.1111111111111111,\"#46039f\"],[0.2222222222222222,\"#7201a8\"],[0.3333333333333333,\"#9c179e\"],[0.4444444444444444,\"#bd3786\"],[0.5555555555555556,\"#d8576b\"],[0.6666666666666666,\"#ed7953\"],[0.7777777777777778,\"#fb9f3a\"],[0.8888888888888888,\"#fdca26\"],[1.0,\"#f0f921\"]],\"type\":\"histogram2d\"}],\"histogram2dcontour\":[{\"colorbar\":{\"outlinewidth\":0,\"ticks\":\"\"},\"colorscale\":[[0.0,\"#0d0887\"],[0.1111111111111111,\"#46039f\"],[0.2222222222222222,\"#7201a8\"],[0.3333333333333333,\"#9c179e\"],[0.4444444444444444,\"#bd3786\"],[0.5555555555555556,\"#d8576b\"],[0.6666666666666666,\"#ed7953\"],[0.7777777777777778,\"#fb9f3a\"],[0.8888888888888888,\"#fdca26\"],[1.0,\"#f0f921\"]],\"type\":\"histogram2dcontour\"}],\"mesh3d\":[{\"colorbar\":{\"outlinewidth\":0,\"ticks\":\"\"},\"type\":\"mesh3d\"}],\"parcoords\":[{\"line\":{\"colorbar\":{\"outlinewidth\":0,\"ticks\":\"\"}},\"type\":\"parcoords\"}],\"pie\":[{\"automargin\":true,\"type\":\"pie\"}],\"scatter\":[{\"marker\":{\"colorbar\":{\"outlinewidth\":0,\"ticks\":\"\"}},\"type\":\"scatter\"}],\"scatter3d\":[{\"line\":{\"colorbar\":{\"outlinewidth\":0,\"ticks\":\"\"}},\"marker\":{\"colorbar\":{\"outlinewidth\":0,\"ticks\":\"\"}},\"type\":\"scatter3d\"}],\"scattercarpet\":[{\"marker\":{\"colorbar\":{\"outlinewidth\":0,\"ticks\":\"\"}},\"type\":\"scattercarpet\"}],\"scattergeo\":[{\"marker\":{\"colorbar\":{\"outlinewidth\":0,\"ticks\":\"\"}},\"type\":\"scattergeo\"}],\"scattergl\":[{\"marker\":{\"colorbar\":{\"outlinewidth\":0,\"ticks\":\"\"}},\"type\":\"scattergl\"}],\"scattermapbox\":[{\"marker\":{\"colorbar\":{\"outlinewidth\":0,\"ticks\":\"\"}},\"type\":\"scattermapbox\"}],\"scatterpolar\":[{\"marker\":{\"colorbar\":{\"outlinewidth\":0,\"ticks\":\"\"}},\"type\":\"scatterpolar\"}],\"scatterpolargl\":[{\"marker\":{\"colorbar\":{\"outlinewidth\":0,\"ticks\":\"\"}},\"type\":\"scatterpolargl\"}],\"scatterternary\":[{\"marker\":{\"colorbar\":{\"outlinewidth\":0,\"ticks\":\"\"}},\"type\":\"scatterternary\"}],\"surface\":[{\"colorbar\":{\"outlinewidth\":0,\"ticks\":\"\"},\"colorscale\":[[0.0,\"#0d0887\"],[0.1111111111111111,\"#46039f\"],[0.2222222222222222,\"#7201a8\"],[0.3333333333333333,\"#9c179e\"],[0.4444444444444444,\"#bd3786\"],[0.5555555555555556,\"#d8576b\"],[0.6666666666666666,\"#ed7953\"],[0.7777777777777778,\"#fb9f3a\"],[0.8888888888888888,\"#fdca26\"],[1.0,\"#f0f921\"]],\"type\":\"surface\"}],\"table\":[{\"cells\":{\"fill\":{\"color\":\"#EBF0F8\"},\"line\":{\"color\":\"white\"}},\"header\":{\"fill\":{\"color\":\"#C8D4E3\"},\"line\":{\"color\":\"white\"}},\"type\":\"table\"}]},\"layout\":{\"annotationdefaults\":{\"arrowcolor\":\"#2a3f5f\",\"arrowhead\":0,\"arrowwidth\":1},\"autotypenumbers\":\"strict\",\"coloraxis\":{\"colorbar\":{\"outlinewidth\":0,\"ticks\":\"\"}},\"colorscale\":{\"diverging\":[[0,\"#8e0152\"],[0.1,\"#c51b7d\"],[0.2,\"#de77ae\"],[0.3,\"#f1b6da\"],[0.4,\"#fde0ef\"],[0.5,\"#f7f7f7\"],[0.6,\"#e6f5d0\"],[0.7,\"#b8e186\"],[0.8,\"#7fbc41\"],[0.9,\"#4d9221\"],[1,\"#276419\"]],\"sequential\":[[0.0,\"#0d0887\"],[0.1111111111111111,\"#46039f\"],[0.2222222222222222,\"#7201a8\"],[0.3333333333333333,\"#9c179e\"],[0.4444444444444444,\"#bd3786\"],[0.5555555555555556,\"#d8576b\"],[0.6666666666666666,\"#ed7953\"],[0.7777777777777778,\"#fb9f3a\"],[0.8888888888888888,\"#fdca26\"],[1.0,\"#f0f921\"]],\"sequentialminus\":[[0.0,\"#0d0887\"],[0.1111111111111111,\"#46039f\"],[0.2222222222222222,\"#7201a8\"],[0.3333333333333333,\"#9c179e\"],[0.4444444444444444,\"#bd3786\"],[0.5555555555555556,\"#d8576b\"],[0.6666666666666666,\"#ed7953\"],[0.7777777777777778,\"#fb9f3a\"],[0.8888888888888888,\"#fdca26\"],[1.0,\"#f0f921\"]]},\"colorway\":[\"#636efa\",\"#EF553B\",\"#00cc96\",\"#ab63fa\",\"#FFA15A\",\"#19d3f3\",\"#FF6692\",\"#B6E880\",\"#FF97FF\",\"#FECB52\"],\"font\":{\"color\":\"#2a3f5f\"},\"geo\":{\"bgcolor\":\"white\",\"lakecolor\":\"white\",\"landcolor\":\"#E5ECF6\",\"showlakes\":true,\"showland\":true,\"subunitcolor\":\"white\"},\"hoverlabel\":{\"align\":\"left\"},\"hovermode\":\"closest\",\"mapbox\":{\"style\":\"light\"},\"paper_bgcolor\":\"white\",\"plot_bgcolor\":\"#E5ECF6\",\"polar\":{\"angularaxis\":{\"gridcolor\":\"white\",\"linecolor\":\"white\",\"ticks\":\"\"},\"bgcolor\":\"#E5ECF6\",\"radialaxis\":{\"gridcolor\":\"white\",\"linecolor\":\"white\",\"ticks\":\"\"}},\"scene\":{\"xaxis\":{\"backgroundcolor\":\"#E5ECF6\",\"gridcolor\":\"white\",\"gridwidth\":2,\"linecolor\":\"white\",\"showbackground\":true,\"ticks\":\"\",\"zerolinecolor\":\"white\"},\"yaxis\":{\"backgroundcolor\":\"#E5ECF6\",\"gridcolor\":\"white\",\"gridwidth\":2,\"linecolor\":\"white\",\"showbackground\":true,\"ticks\":\"\",\"zerolinecolor\":\"white\"},\"zaxis\":{\"backgroundcolor\":\"#E5ECF6\",\"gridcolor\":\"white\",\"gridwidth\":2,\"linecolor\":\"white\",\"showbackground\":true,\"ticks\":\"\",\"zerolinecolor\":\"white\"}},\"shapedefaults\":{\"line\":{\"color\":\"#2a3f5f\"}},\"ternary\":{\"aaxis\":{\"gridcolor\":\"white\",\"linecolor\":\"white\",\"ticks\":\"\"},\"baxis\":{\"gridcolor\":\"white\",\"linecolor\":\"white\",\"ticks\":\"\"},\"bgcolor\":\"#E5ECF6\",\"caxis\":{\"gridcolor\":\"white\",\"linecolor\":\"white\",\"ticks\":\"\"}},\"title\":{\"x\":0.05},\"xaxis\":{\"automargin\":true,\"gridcolor\":\"white\",\"linecolor\":\"white\",\"ticks\":\"\",\"title\":{\"standoff\":15},\"zerolinecolor\":\"white\",\"zerolinewidth\":2},\"yaxis\":{\"automargin\":true,\"gridcolor\":\"white\",\"linecolor\":\"white\",\"ticks\":\"\",\"title\":{\"standoff\":15},\"zerolinecolor\":\"white\",\"zerolinewidth\":2}}},\"title\":{\"text\":\"Pedal Map Non-Eco\"},\"width\":800},                        {\"responsive\": true}                    ).then(function(){\n                            \nvar gd = document.getElementById('43baec5c-dc90-4b1c-9c49-676cfa3fb109');\nvar x = new MutationObserver(function (mutations, observer) {{\n        var display = window.getComputedStyle(gd).display;\n        if (!display || display === 'none') {{\n            console.log([gd, 'removed!']);\n            Plotly.purge(gd);\n            observer.disconnect();\n        }}\n}});\n\n// Listen for the removal of the full notebook cells\nvar notebookContainer = gd.closest('#notebook-container');\nif (notebookContainer) {{\n    x.observe(notebookContainer, {childList: true});\n}}\n\n// Listen for the clearing of the current output cell\nvar outputEl = gd.closest('.output');\nif (outputEl) {{\n    x.observe(outputEl, {childList: true});\n}}\n\n                        })                };                });            </script>        </div>"
     },
     "metadata": {},
     "output_type": "display_data"
    }
   ],
   "source": [
    "axis = dict(\n",
    "    showbackground=True,\n",
    "    backgroundcolor=\"rgb(230, 230,230)\",\n",
    "    gridcolor=\"rgb(255, 255, 255)\",\n",
    "    zerolinecolor=\"rgb(255, 255, 255)\",\n",
    ")\n",
    "\n",
    "layout = go.Layout(\n",
    "    title='Pedal Map Non-Eco',\n",
    "    width=800,\n",
    "    height=800,\n",
    "    scene=dict(\n",
    "        xaxis=dict(axis),\n",
    "        yaxis=dict(axis),\n",
    "        zaxis=dict(axis),\n",
    "        aspectratio=dict(\n",
    "            x=1,\n",
    "            y=1,\n",
    "            z=0.5\n",
    "        ),\n",
    "    )\n",
    ")\n",
    "\n",
    "data1 = plotly_trisurf(points[:,0], points[:,1], points[:,2], tri.simplices, colormap=cm.RdBu, plot_edges=None)\n",
    "\n",
    "\n",
    "\n",
    "fig2 = go.Figure(data=data1, layout=layout)\n",
    "\n",
    "# import chart_studio.plotly as py\n",
    "# from chart_studio.plotly import plot, iplot\n",
    "from plotly.offline import iplot\n",
    "iplot(fig2)\n"
   ],
   "metadata": {
    "collapsed": false,
    "pycharm": {
     "name": "#%%\n"
    }
   }
  },
  {
   "cell_type": "markdown",
   "source": [
    "## Create meshgrid and data on specified grid"
   ],
   "metadata": {
    "collapsed": false,
    "pycharm": {
     "name": "#%% md\n"
    }
   }
  },
  {
   "cell_type": "code",
   "execution_count": 68,
   "outputs": [],
   "source": [
    "# Generate meshgrid for xy plane\n",
    "\n",
    "\n",
    "ped = pd_data0.columns.to_numpy().astype(np.float64)\n",
    "vel = pd_data0.index.to_numpy().astype(np.float64)\n",
    "\n",
    "pdv, vlv = np.meshgrid(ped, vel, sparse=False)"
   ],
   "metadata": {
    "collapsed": false,
    "pycharm": {
     "name": "#%%\n"
    }
   }
  },
  {
   "cell_type": "code",
   "execution_count": 69,
   "outputs": [],
   "source": [
    "\n",
    "# find simplices for meshgrid points\n",
    "\n",
    "p_mesh = np.array(list(zip(pdv, vlv)))\n",
    "p_mesh_transposed = np.transpose(p_mesh, (0,2,1))"
   ],
   "metadata": {
    "collapsed": false,
    "pycharm": {
     "name": "#%%\n"
    }
   }
  },
  {
   "cell_type": "code",
   "execution_count": 70,
   "outputs": [],
   "source": [
    "sh_1 = ped.shape[0]\n",
    "sh_0 = vel.shape[0]\n",
    "p_mesh_flat = p_mesh_transposed.reshape(sh_0*sh_1, 2, order='A')"
   ],
   "metadata": {
    "collapsed": false,
    "pycharm": {
     "name": "#%%\n"
    }
   }
  },
  {
   "cell_type": "code",
   "execution_count": 71,
   "outputs": [],
   "source": [
    "p_simplex = tri.find_simplex(p_mesh_flat)\n"
   ],
   "metadata": {
    "collapsed": false,
    "pycharm": {
     "name": "#%%\n"
    }
   }
  },
  {
   "cell_type": "code",
   "execution_count": 72,
   "outputs": [],
   "source": [
    "# find barycentric coordinates of the meshgrid points in the corresponding simplices\n",
    "tri_trans = tri.transform[p_simplex,:2]\n",
    "tri_r =  tri.transform[p_simplex,2]\n",
    "\n",
    "p_r = p_mesh_flat - tri_r\n"
   ],
   "metadata": {
    "collapsed": false,
    "pycharm": {
     "name": "#%%\n"
    }
   }
  },
  {
   "cell_type": "code",
   "execution_count": 73,
   "outputs": [],
   "source": [
    "b = np.einsum('ijk, ik->ij', tri_trans, p_r)"
   ],
   "metadata": {
    "collapsed": false,
    "pycharm": {
     "name": "#%%\n"
    }
   }
  },
  {
   "cell_type": "code",
   "execution_count": 74,
   "outputs": [],
   "source": [
    "b3 = 1 - b.sum(axis=1)"
   ],
   "metadata": {
    "collapsed": false,
    "pycharm": {
     "name": "#%%\n"
    }
   }
  },
  {
   "cell_type": "code",
   "execution_count": 75,
   "outputs": [],
   "source": [
    "barrycentric_p = np.c_[b, b3 ]"
   ],
   "metadata": {
    "collapsed": false,
    "pycharm": {
     "name": "#%%\n"
    }
   }
  },
  {
   "cell_type": "code",
   "execution_count": 76,
   "outputs": [],
   "source": [
    "\n",
    "tri_vertices = points[tri.simplices]"
   ],
   "metadata": {
    "collapsed": false,
    "pycharm": {
     "name": "#%%\n"
    }
   }
  },
  {
   "cell_type": "code",
   "execution_count": 77,
   "outputs": [],
   "source": [
    "mesh_faces = tri.simplices[p_simplex]"
   ],
   "metadata": {
    "collapsed": false,
    "pycharm": {
     "name": "#%%\n"
    }
   }
  },
  {
   "cell_type": "code",
   "execution_count": 78,
   "outputs": [],
   "source": [
    "p_mesh_faces = points[mesh_faces]"
   ],
   "metadata": {
    "collapsed": false,
    "pycharm": {
     "name": "#%%\n"
    }
   }
  },
  {
   "cell_type": "code",
   "execution_count": 79,
   "outputs": [],
   "source": [
    "# get the z coordinate by using barycentric coordinates of the meshgrid points\n",
    "\n",
    "# generate 3d meshgrid data\n",
    "\n",
    "r = np.einsum('ijk,ij->ik', p_mesh_faces, barrycentric_p)\n"
   ],
   "metadata": {
    "collapsed": false,
    "pycharm": {
     "name": "#%%\n"
    }
   }
  },
  {
   "cell_type": "code",
   "execution_count": 80,
   "outputs": [],
   "source": [
    "# use plotly to plot the 3d data"
   ],
   "metadata": {
    "collapsed": false,
    "pycharm": {
     "name": "#%%\n"
    }
   }
  },
  {
   "cell_type": "code",
   "execution_count": 81,
   "outputs": [],
   "source": [
    "# sh_0, sh_1 = r.shape\n",
    "ped = pd_data0.columns.to_numpy().astype(np.float64)\n",
    "vel = pd_data0.index.to_numpy().astype(np.float64)\n",
    "\n",
    "# x, y =  np.linspace(0,1.0,sh_1), np.linspace(0,100/3.6, sh_0)\n",
    "# y[1] = 7/3.6\n",
    "# x = np.array([0, 2, 4, 8, 12, 16, 20, 24, 28, 32, 38, 44, 50, 62, 74, 86, 100])/100\n",
    "zr = r[:,2]\n",
    "zr = zr.reshape(sh_0,sh_1)"
   ],
   "metadata": {
    "collapsed": false,
    "pycharm": {
     "name": "#%%\n"
    }
   }
  },
  {
   "cell_type": "code",
   "execution_count": 82,
   "outputs": [],
   "source": [
    "# pd_data = pd.DataFrame(pd_data0.values[:,1:], index=pd_data0.values[:,0], columns=pd_data0.columns[1:].to_numpy())\n",
    "# v = pd_data.to_numpy()\n",
    "# zr_calib = np.c_[np.arange(17), np.transpose(zr)]\n",
    "# zr_calib = np.transpose(zr_calib)\n",
    "zr_calib = pd.DataFrame(zr, index=vel, columns=ped)\n",
    "zr_calib.to_csv('../../data/54_vertices_approx-regen2.csv')"
   ],
   "metadata": {
    "collapsed": false,
    "pycharm": {
     "name": "#%%\n"
    }
   }
  },
  {
   "cell_type": "code",
   "execution_count": 83,
   "outputs": [
    {
     "data": {
      "application/vnd.plotly.v1+json": {
       "config": {
        "plotlyServerURL": "https://plot.ly"
       },
       "data": [
        {
         "contours": {
          "y": {
           "color": "cyan",
           "end": 25,
           "show": true,
           "size": 5,
           "start": 0
          },
          "z": {
           "color": "blue",
           "end": 4600,
           "show": true,
           "size": 500,
           "start": -3000
          }
         },
         "type": "surface",
         "x": [
          0.0,
          0.02,
          0.04,
          0.08,
          0.12,
          0.16,
          0.2,
          0.24,
          0.28,
          0.32,
          0.38,
          0.44,
          0.5,
          0.62,
          0.74,
          0.86,
          1.0
         ],
         "y": [
          0.0,
          7.0,
          10.0,
          15.0,
          20.0,
          25.0,
          30.0,
          35.0,
          40.0,
          45.0,
          50.0,
          55.0,
          60.0,
          65.0,
          70.0,
          75.0,
          80.0,
          85.0,
          90.0,
          95.0,
          100.0
         ],
         "z": [
          [
           -500.0,
           -300.0,
           -138.8888888888889,
           183.3333333333333,
           505.55555555555554,
           827.7777777777776,
           1150.0,
           1366.6666666666665,
           1583.3333333333335,
           1800.0,
           2125.0,
           2450.0,
           2775.0,
           3173.64,
           3572.2799999999997,
           3970.92,
           4436.0
          ],
          [
           -800.0,
           -693.4639999999999,
           -586.9280000000001,
           -373.85599999999994,
           -160.784,
           52.288000000000125,
           265.3600000000001,
           478.432,
           691.5040000000001,
           904.576,
           1224.1840000000002,
           1543.7920000000001,
           1863.4,
           2502.616,
           3141.832,
           3781.0480000000002,
           4526.8
          ],
          [
           -1000.0,
           -888.67,
           -777.34,
           -554.6800000000001,
           -332.02,
           -109.36000000000001,
           113.30000000000007,
           335.96000000000004,
           558.6200000000001,
           781.2800000000001,
           1115.27,
           1449.26,
           1783.25,
           2451.23,
           3119.21,
           3787.19,
           4566.5
          ],
          [
           -1200.0,
           -1069.1627906976746,
           -938.325581395349,
           -676.6511627906981,
           -414.976744186047,
           -153.3023255813954,
           108.3720930232563,
           370.0465116279066,
           631.7209302325582,
           893.3953488372088,
           1285.906976744186,
           1678.4186046511627,
           2070.9302325581393,
           2855.953488372093,
           3640.9767441860463,
           4426.0,
           4501.25
          ],
          [
           -1300.0,
           -1150.9,
           -1001.8,
           -703.5999999999999,
           -405.4,
           -107.19999999999982,
           191.0,
           489.20000000000005,
           787.4000000000002,
           1085.6000000000001,
           1532.9,
           1980.1999999999998,
           2427.5,
           3066.666666666667,
           3705.8333333333335,
           4345.0,
           4436.0
          ],
          [
           -1300.0,
           -1171.3255813953492,
           -1042.651162790698,
           -785.3023255813955,
           -527.9534883720935,
           -270.6046511627907,
           -13.25581395348786,
           244.0930232558136,
           501.4418604651165,
           758.790697674418,
           1144.8139534883721,
           1530.8372093023256,
           1916.8604651162786,
           2688.906976744186,
           3460.9534883720926,
           4233.0,
           4436.0
          ],
          [
           -1300.0,
           -1178.8279569892468,
           -1057.6559139784943,
           -815.311827956989,
           -572.9677419354841,
           -330.62365591397787,
           -88.27956989247286,
           154.0645161290322,
           396.4086021505383,
           638.7526881720427,
           1002.2688172043012,
           1365.7849462365593,
           1729.301075268817,
           2456.333333333333,
           3183.3655913978496,
           3910.3978494623652,
           4436.0
          ],
          [
           -1500.0,
           -1381.28,
           -1262.56,
           -1025.12,
           -787.6800000000001,
           -550.24,
           -312.79999999999995,
           -75.36000000000013,
           162.08000000000015,
           399.5200000000001,
           755.6800000000001,
           1111.8399999999997,
           1468.0,
           2180.32,
           2892.64,
           3604.96,
           4436.0
          ],
          [
           -1400.0,
           -1276.3953488372097,
           -1152.7906976744187,
           -905.5813953488375,
           -658.3720930232562,
           -411.1627906976745,
           -163.95348837209258,
           83.2558139534882,
           330.4651162790699,
           577.6744186046506,
           948.4883720930233,
           1319.3023255813953,
           1690.1162790697672,
           2431.7441860465115,
           3173.3720930232557,
           3915.0,
           4286.7
          ],
          [
           -1800.0,
           -1350.0,
           -1241.7173469387753,
           -1025.1520408163271,
           -808.5867346938777,
           -592.0214285714285,
           -375.45612244897967,
           -158.89081632653063,
           57.67448979591836,
           274.2397959183677,
           599.0877551020405,
           923.9357142857136,
           1248.7836734693878,
           1898.479591836735,
           2548.1755102040815,
           3197.8714285714286,
           3955.85
          ],
          [
           -1800.0,
           -1588.13698630137,
           -1445.3424657534247,
           -1159.7534246575342,
           -874.164383561644,
           -588.5753424657534,
           -302.98630136986264,
           -17.39726027397262,
           229.62295081967235,
           463.78688524590126,
           815.032786885246,
           1166.27868852459,
           1517.5245901639346,
           2220.0163934426228,
           2922.5081967213114,
           3625.0,
           3625.0
          ],
          [
           -1800.0,
           -1519.0684931506848,
           -1376.2739726027398,
           -1090.6849315068494,
           -805.0958904109589,
           -519.5068493150686,
           -233.91780821917786,
           51.67123287671234,
           337.26027397260293,
           622.8493150684935,
           1051.232876712329,
           1479.6164383561647,
           1908.0,
           2463.4000000000005,
           3018.8,
           3383.0,
           3300.3333333333335
          ],
          [
           -1800.0,
           -1450.0,
           -1351.8241758241757,
           -1155.4725274725274,
           -959.1208791208791,
           -762.7692307692307,
           -566.4175824175824,
           -370.065934065934,
           -173.71428571428578,
           22.637362637362457,
           317.1648351648349,
           611.6923076923074,
           906.21978021978,
           1495.274725274725,
           2084.32967032967,
           2673.3846153846152,
           2975.666666666667
          ],
          [
           -1800.0,
           -1550.0,
           -1433.2999999999995,
           -1199.8999999999999,
           -966.4999999999998,
           -733.0999999999998,
           -499.70000000000005,
           -266.30000000000007,
           -32.899999999999864,
           200.50000000000023,
           550.6,
           900.7,
           1250.8000000000002,
           1951.0000000000002,
           2651.2,
           2651.1076923076926,
           2651.0
          ],
          [
           -1800.0,
           -1680.6783783783785,
           -1561.3567567567568,
           -1322.7135135135136,
           -1084.0702702702704,
           -845.427027027027,
           -606.7837837837837,
           -368.14054054054066,
           -129.49729729729722,
           109.14594594594621,
           467.1108108108107,
           825.0756756756758,
           1183.0405405405404,
           1898.9702702702705,
           2614.9,
           2642.4076923076923,
           2674.5
          ],
          [
           -1600.0,
           -1502.6200000000003,
           -1405.2400000000002,
           -1210.4799999999998,
           -1015.7200000000004,
           -820.9599999999998,
           -626.2000000000002,
           -431.44000000000017,
           -236.68000000000012,
           -41.920000000000016,
           250.22000000000014,
           542.3599999999999,
           834.5000000000001,
           1418.7800000000002,
           2003.06,
           2251.092,
           2504.7999999999997
          ],
          [
           -1400.0,
           -1200.0,
           -1000.0,
           -788.7826086956524,
           -577.5652173913046,
           -366.3478260869564,
           -155.1304347826087,
           56.08695652173901,
           267.3043478260871,
           478.52173913043475,
           795.3478260869564,
           1112.1739130434783,
           1429.0,
           1646.4640000000002,
           1863.9279999999999,
           2081.392,
           2335.1000000000004
          ],
          [
           -1100.0,
           -950.0,
           -800.0,
           -649.2765957446812,
           -498.55319148936206,
           -347.8297872340423,
           -197.10638297872393,
           -46.38297872340419,
           104.34042553191489,
           255.06382978723394,
           481.14893617021266,
           707.2340425531913,
           933.3191489361702,
           1385.4893617021278,
           1694.228,
           1911.692,
           2165.3999999999996
          ],
          [
           -799.9999999999997,
           -749.4999999999997,
           -698.9999999999994,
           -597.9999999999999,
           -496.99999999999966,
           -395.99999999999966,
           -294.9999999999998,
           -193.99999999999983,
           -92.99999999999966,
           8.000000000000341,
           159.50000000000006,
           311.00000000000017,
           462.5000000000001,
           889.8085106382979,
           1341.9787234042553,
           1741.9920000000002,
           1995.7000000000003
          ],
          [
           -700.0,
           -649.48,
           -598.9599999999999,
           -497.9200000000001,
           -396.88,
           -295.8399999999999,
           -194.80000000000007,
           -93.75999999999999,
           7.28000000000003,
           108.32000000000022,
           259.88,
           411.4399999999999,
           563.0,
           866.1199999999999,
           1169.24,
           1472.36,
           1826.0
          ],
          [
           -600.0,
           -550.0,
           -492.8888888888889,
           -378.6666666666667,
           -264.44444444444446,
           -150.22222222222226,
           -36.0,
           449.0,
           546.523076923077,
           644.046153846154,
           790.3307692307693,
           936.6153846153848,
           1082.9,
           1375.45,
           1668.0,
           1741.1999999999998,
           1826.6
          ]
         ]
        },
        {
         "type": "surface",
         "x": [
          0.0,
          0.02,
          0.04,
          0.08,
          0.12,
          0.16,
          0.2,
          0.24,
          0.28,
          0.32,
          0.38,
          0.44,
          0.5,
          0.62,
          0.74,
          0.86,
          1.0
         ],
         "y": [
          0.0,
          7.0,
          10.0,
          15.0,
          20.0,
          25.0,
          30.0,
          35.0,
          40.0,
          45.0,
          50.0,
          55.0,
          60.0,
          65.0,
          70.0,
          75.0,
          80.0,
          85.0,
          90.0,
          95.0,
          100.0
         ],
         "z": [
          [
           0.0,
           0.0,
           0.0,
           0.0,
           0.0,
           0.0,
           0.0,
           0.0,
           0.0,
           0.0,
           0.0,
           0.0,
           0.0,
           0.0,
           0.0,
           0.0,
           0.0
          ],
          [
           0.0,
           0.0,
           0.0,
           0.0,
           0.0,
           0.0,
           0.0,
           0.0,
           0.0,
           0.0,
           0.0,
           0.0,
           0.0,
           0.0,
           0.0,
           0.0,
           0.0
          ],
          [
           0.0,
           0.0,
           0.0,
           0.0,
           0.0,
           0.0,
           0.0,
           0.0,
           0.0,
           0.0,
           0.0,
           0.0,
           0.0,
           0.0,
           0.0,
           0.0,
           0.0
          ],
          [
           0.0,
           0.0,
           0.0,
           0.0,
           0.0,
           0.0,
           0.0,
           0.0,
           0.0,
           0.0,
           0.0,
           0.0,
           0.0,
           0.0,
           0.0,
           0.0,
           0.0
          ],
          [
           0.0,
           0.0,
           0.0,
           0.0,
           0.0,
           0.0,
           0.0,
           0.0,
           0.0,
           0.0,
           0.0,
           0.0,
           0.0,
           0.0,
           0.0,
           0.0,
           0.0
          ],
          [
           0.0,
           0.0,
           0.0,
           0.0,
           0.0,
           0.0,
           0.0,
           0.0,
           0.0,
           0.0,
           0.0,
           0.0,
           0.0,
           0.0,
           0.0,
           0.0,
           0.0
          ],
          [
           0.0,
           0.0,
           0.0,
           0.0,
           0.0,
           0.0,
           0.0,
           0.0,
           0.0,
           0.0,
           0.0,
           0.0,
           0.0,
           0.0,
           0.0,
           0.0,
           0.0
          ],
          [
           0.0,
           0.0,
           0.0,
           0.0,
           0.0,
           0.0,
           0.0,
           0.0,
           0.0,
           0.0,
           0.0,
           0.0,
           0.0,
           0.0,
           0.0,
           0.0,
           0.0
          ],
          [
           0.0,
           0.0,
           0.0,
           0.0,
           0.0,
           0.0,
           0.0,
           0.0,
           0.0,
           0.0,
           0.0,
           0.0,
           0.0,
           0.0,
           0.0,
           0.0,
           0.0
          ],
          [
           0.0,
           0.0,
           0.0,
           0.0,
           0.0,
           0.0,
           0.0,
           0.0,
           0.0,
           0.0,
           0.0,
           0.0,
           0.0,
           0.0,
           0.0,
           0.0,
           0.0
          ],
          [
           0.0,
           0.0,
           0.0,
           0.0,
           0.0,
           0.0,
           0.0,
           0.0,
           0.0,
           0.0,
           0.0,
           0.0,
           0.0,
           0.0,
           0.0,
           0.0,
           0.0
          ],
          [
           0.0,
           0.0,
           0.0,
           0.0,
           0.0,
           0.0,
           0.0,
           0.0,
           0.0,
           0.0,
           0.0,
           0.0,
           0.0,
           0.0,
           0.0,
           0.0,
           0.0
          ],
          [
           0.0,
           0.0,
           0.0,
           0.0,
           0.0,
           0.0,
           0.0,
           0.0,
           0.0,
           0.0,
           0.0,
           0.0,
           0.0,
           0.0,
           0.0,
           0.0,
           0.0
          ],
          [
           0.0,
           0.0,
           0.0,
           0.0,
           0.0,
           0.0,
           0.0,
           0.0,
           0.0,
           0.0,
           0.0,
           0.0,
           0.0,
           0.0,
           0.0,
           0.0,
           0.0
          ],
          [
           0.0,
           0.0,
           0.0,
           0.0,
           0.0,
           0.0,
           0.0,
           0.0,
           0.0,
           0.0,
           0.0,
           0.0,
           0.0,
           0.0,
           0.0,
           0.0,
           0.0
          ],
          [
           0.0,
           0.0,
           0.0,
           0.0,
           0.0,
           0.0,
           0.0,
           0.0,
           0.0,
           0.0,
           0.0,
           0.0,
           0.0,
           0.0,
           0.0,
           0.0,
           0.0
          ],
          [
           0.0,
           0.0,
           0.0,
           0.0,
           0.0,
           0.0,
           0.0,
           0.0,
           0.0,
           0.0,
           0.0,
           0.0,
           0.0,
           0.0,
           0.0,
           0.0,
           0.0
          ],
          [
           0.0,
           0.0,
           0.0,
           0.0,
           0.0,
           0.0,
           0.0,
           0.0,
           0.0,
           0.0,
           0.0,
           0.0,
           0.0,
           0.0,
           0.0,
           0.0,
           0.0
          ],
          [
           0.0,
           0.0,
           0.0,
           0.0,
           0.0,
           0.0,
           0.0,
           0.0,
           0.0,
           0.0,
           0.0,
           0.0,
           0.0,
           0.0,
           0.0,
           0.0,
           0.0
          ],
          [
           0.0,
           0.0,
           0.0,
           0.0,
           0.0,
           0.0,
           0.0,
           0.0,
           0.0,
           0.0,
           0.0,
           0.0,
           0.0,
           0.0,
           0.0,
           0.0,
           0.0
          ],
          [
           0.0,
           0.0,
           0.0,
           0.0,
           0.0,
           0.0,
           0.0,
           0.0,
           0.0,
           0.0,
           0.0,
           0.0,
           0.0,
           0.0,
           0.0,
           0.0,
           0.0
          ]
         ]
        }
       ],
       "layout": {
        "autosize": false,
        "height": 700,
        "margin": {
         "b": 65,
         "l": 65,
         "r": 50,
         "t": 90
        },
        "scene": {
         "xaxis": {
          "title": {
           "text": "pedal"
          }
         },
         "yaxis": {
          "title": {
           "text": "velocity"
          }
         },
         "zaxis": {
          "title": {
           "text": "torque"
          }
         }
        },
        "template": {
         "data": {
          "bar": [
           {
            "error_x": {
             "color": "#2a3f5f"
            },
            "error_y": {
             "color": "#2a3f5f"
            },
            "marker": {
             "line": {
              "color": "#E5ECF6",
              "width": 0.5
             },
             "pattern": {
              "fillmode": "overlay",
              "size": 10,
              "solidity": 0.2
             }
            },
            "type": "bar"
           }
          ],
          "barpolar": [
           {
            "marker": {
             "line": {
              "color": "#E5ECF6",
              "width": 0.5
             },
             "pattern": {
              "fillmode": "overlay",
              "size": 10,
              "solidity": 0.2
             }
            },
            "type": "barpolar"
           }
          ],
          "carpet": [
           {
            "aaxis": {
             "endlinecolor": "#2a3f5f",
             "gridcolor": "white",
             "linecolor": "white",
             "minorgridcolor": "white",
             "startlinecolor": "#2a3f5f"
            },
            "baxis": {
             "endlinecolor": "#2a3f5f",
             "gridcolor": "white",
             "linecolor": "white",
             "minorgridcolor": "white",
             "startlinecolor": "#2a3f5f"
            },
            "type": "carpet"
           }
          ],
          "choropleth": [
           {
            "colorbar": {
             "outlinewidth": 0,
             "ticks": ""
            },
            "type": "choropleth"
           }
          ],
          "contour": [
           {
            "colorbar": {
             "outlinewidth": 0,
             "ticks": ""
            },
            "colorscale": [
             [
              0.0,
              "#0d0887"
             ],
             [
              0.1111111111111111,
              "#46039f"
             ],
             [
              0.2222222222222222,
              "#7201a8"
             ],
             [
              0.3333333333333333,
              "#9c179e"
             ],
             [
              0.4444444444444444,
              "#bd3786"
             ],
             [
              0.5555555555555556,
              "#d8576b"
             ],
             [
              0.6666666666666666,
              "#ed7953"
             ],
             [
              0.7777777777777778,
              "#fb9f3a"
             ],
             [
              0.8888888888888888,
              "#fdca26"
             ],
             [
              1.0,
              "#f0f921"
             ]
            ],
            "type": "contour"
           }
          ],
          "contourcarpet": [
           {
            "colorbar": {
             "outlinewidth": 0,
             "ticks": ""
            },
            "type": "contourcarpet"
           }
          ],
          "heatmap": [
           {
            "colorbar": {
             "outlinewidth": 0,
             "ticks": ""
            },
            "colorscale": [
             [
              0.0,
              "#0d0887"
             ],
             [
              0.1111111111111111,
              "#46039f"
             ],
             [
              0.2222222222222222,
              "#7201a8"
             ],
             [
              0.3333333333333333,
              "#9c179e"
             ],
             [
              0.4444444444444444,
              "#bd3786"
             ],
             [
              0.5555555555555556,
              "#d8576b"
             ],
             [
              0.6666666666666666,
              "#ed7953"
             ],
             [
              0.7777777777777778,
              "#fb9f3a"
             ],
             [
              0.8888888888888888,
              "#fdca26"
             ],
             [
              1.0,
              "#f0f921"
             ]
            ],
            "type": "heatmap"
           }
          ],
          "heatmapgl": [
           {
            "colorbar": {
             "outlinewidth": 0,
             "ticks": ""
            },
            "colorscale": [
             [
              0.0,
              "#0d0887"
             ],
             [
              0.1111111111111111,
              "#46039f"
             ],
             [
              0.2222222222222222,
              "#7201a8"
             ],
             [
              0.3333333333333333,
              "#9c179e"
             ],
             [
              0.4444444444444444,
              "#bd3786"
             ],
             [
              0.5555555555555556,
              "#d8576b"
             ],
             [
              0.6666666666666666,
              "#ed7953"
             ],
             [
              0.7777777777777778,
              "#fb9f3a"
             ],
             [
              0.8888888888888888,
              "#fdca26"
             ],
             [
              1.0,
              "#f0f921"
             ]
            ],
            "type": "heatmapgl"
           }
          ],
          "histogram": [
           {
            "marker": {
             "pattern": {
              "fillmode": "overlay",
              "size": 10,
              "solidity": 0.2
             }
            },
            "type": "histogram"
           }
          ],
          "histogram2d": [
           {
            "colorbar": {
             "outlinewidth": 0,
             "ticks": ""
            },
            "colorscale": [
             [
              0.0,
              "#0d0887"
             ],
             [
              0.1111111111111111,
              "#46039f"
             ],
             [
              0.2222222222222222,
              "#7201a8"
             ],
             [
              0.3333333333333333,
              "#9c179e"
             ],
             [
              0.4444444444444444,
              "#bd3786"
             ],
             [
              0.5555555555555556,
              "#d8576b"
             ],
             [
              0.6666666666666666,
              "#ed7953"
             ],
             [
              0.7777777777777778,
              "#fb9f3a"
             ],
             [
              0.8888888888888888,
              "#fdca26"
             ],
             [
              1.0,
              "#f0f921"
             ]
            ],
            "type": "histogram2d"
           }
          ],
          "histogram2dcontour": [
           {
            "colorbar": {
             "outlinewidth": 0,
             "ticks": ""
            },
            "colorscale": [
             [
              0.0,
              "#0d0887"
             ],
             [
              0.1111111111111111,
              "#46039f"
             ],
             [
              0.2222222222222222,
              "#7201a8"
             ],
             [
              0.3333333333333333,
              "#9c179e"
             ],
             [
              0.4444444444444444,
              "#bd3786"
             ],
             [
              0.5555555555555556,
              "#d8576b"
             ],
             [
              0.6666666666666666,
              "#ed7953"
             ],
             [
              0.7777777777777778,
              "#fb9f3a"
             ],
             [
              0.8888888888888888,
              "#fdca26"
             ],
             [
              1.0,
              "#f0f921"
             ]
            ],
            "type": "histogram2dcontour"
           }
          ],
          "mesh3d": [
           {
            "colorbar": {
             "outlinewidth": 0,
             "ticks": ""
            },
            "type": "mesh3d"
           }
          ],
          "parcoords": [
           {
            "line": {
             "colorbar": {
              "outlinewidth": 0,
              "ticks": ""
             }
            },
            "type": "parcoords"
           }
          ],
          "pie": [
           {
            "automargin": true,
            "type": "pie"
           }
          ],
          "scatter": [
           {
            "marker": {
             "colorbar": {
              "outlinewidth": 0,
              "ticks": ""
             }
            },
            "type": "scatter"
           }
          ],
          "scatter3d": [
           {
            "line": {
             "colorbar": {
              "outlinewidth": 0,
              "ticks": ""
             }
            },
            "marker": {
             "colorbar": {
              "outlinewidth": 0,
              "ticks": ""
             }
            },
            "type": "scatter3d"
           }
          ],
          "scattercarpet": [
           {
            "marker": {
             "colorbar": {
              "outlinewidth": 0,
              "ticks": ""
             }
            },
            "type": "scattercarpet"
           }
          ],
          "scattergeo": [
           {
            "marker": {
             "colorbar": {
              "outlinewidth": 0,
              "ticks": ""
             }
            },
            "type": "scattergeo"
           }
          ],
          "scattergl": [
           {
            "marker": {
             "colorbar": {
              "outlinewidth": 0,
              "ticks": ""
             }
            },
            "type": "scattergl"
           }
          ],
          "scattermapbox": [
           {
            "marker": {
             "colorbar": {
              "outlinewidth": 0,
              "ticks": ""
             }
            },
            "type": "scattermapbox"
           }
          ],
          "scatterpolar": [
           {
            "marker": {
             "colorbar": {
              "outlinewidth": 0,
              "ticks": ""
             }
            },
            "type": "scatterpolar"
           }
          ],
          "scatterpolargl": [
           {
            "marker": {
             "colorbar": {
              "outlinewidth": 0,
              "ticks": ""
             }
            },
            "type": "scatterpolargl"
           }
          ],
          "scatterternary": [
           {
            "marker": {
             "colorbar": {
              "outlinewidth": 0,
              "ticks": ""
             }
            },
            "type": "scatterternary"
           }
          ],
          "surface": [
           {
            "colorbar": {
             "outlinewidth": 0,
             "ticks": ""
            },
            "colorscale": [
             [
              0.0,
              "#0d0887"
             ],
             [
              0.1111111111111111,
              "#46039f"
             ],
             [
              0.2222222222222222,
              "#7201a8"
             ],
             [
              0.3333333333333333,
              "#9c179e"
             ],
             [
              0.4444444444444444,
              "#bd3786"
             ],
             [
              0.5555555555555556,
              "#d8576b"
             ],
             [
              0.6666666666666666,
              "#ed7953"
             ],
             [
              0.7777777777777778,
              "#fb9f3a"
             ],
             [
              0.8888888888888888,
              "#fdca26"
             ],
             [
              1.0,
              "#f0f921"
             ]
            ],
            "type": "surface"
           }
          ],
          "table": [
           {
            "cells": {
             "fill": {
              "color": "#EBF0F8"
             },
             "line": {
              "color": "white"
             }
            },
            "header": {
             "fill": {
              "color": "#C8D4E3"
             },
             "line": {
              "color": "white"
             }
            },
            "type": "table"
           }
          ]
         },
         "layout": {
          "annotationdefaults": {
           "arrowcolor": "#2a3f5f",
           "arrowhead": 0,
           "arrowwidth": 1
          },
          "autotypenumbers": "strict",
          "coloraxis": {
           "colorbar": {
            "outlinewidth": 0,
            "ticks": ""
           }
          },
          "colorscale": {
           "diverging": [
            [
             0,
             "#8e0152"
            ],
            [
             0.1,
             "#c51b7d"
            ],
            [
             0.2,
             "#de77ae"
            ],
            [
             0.3,
             "#f1b6da"
            ],
            [
             0.4,
             "#fde0ef"
            ],
            [
             0.5,
             "#f7f7f7"
            ],
            [
             0.6,
             "#e6f5d0"
            ],
            [
             0.7,
             "#b8e186"
            ],
            [
             0.8,
             "#7fbc41"
            ],
            [
             0.9,
             "#4d9221"
            ],
            [
             1,
             "#276419"
            ]
           ],
           "sequential": [
            [
             0.0,
             "#0d0887"
            ],
            [
             0.1111111111111111,
             "#46039f"
            ],
            [
             0.2222222222222222,
             "#7201a8"
            ],
            [
             0.3333333333333333,
             "#9c179e"
            ],
            [
             0.4444444444444444,
             "#bd3786"
            ],
            [
             0.5555555555555556,
             "#d8576b"
            ],
            [
             0.6666666666666666,
             "#ed7953"
            ],
            [
             0.7777777777777778,
             "#fb9f3a"
            ],
            [
             0.8888888888888888,
             "#fdca26"
            ],
            [
             1.0,
             "#f0f921"
            ]
           ],
           "sequentialminus": [
            [
             0.0,
             "#0d0887"
            ],
            [
             0.1111111111111111,
             "#46039f"
            ],
            [
             0.2222222222222222,
             "#7201a8"
            ],
            [
             0.3333333333333333,
             "#9c179e"
            ],
            [
             0.4444444444444444,
             "#bd3786"
            ],
            [
             0.5555555555555556,
             "#d8576b"
            ],
            [
             0.6666666666666666,
             "#ed7953"
            ],
            [
             0.7777777777777778,
             "#fb9f3a"
            ],
            [
             0.8888888888888888,
             "#fdca26"
            ],
            [
             1.0,
             "#f0f921"
            ]
           ]
          },
          "colorway": [
           "#636efa",
           "#EF553B",
           "#00cc96",
           "#ab63fa",
           "#FFA15A",
           "#19d3f3",
           "#FF6692",
           "#B6E880",
           "#FF97FF",
           "#FECB52"
          ],
          "font": {
           "color": "#2a3f5f"
          },
          "geo": {
           "bgcolor": "white",
           "lakecolor": "white",
           "landcolor": "#E5ECF6",
           "showlakes": true,
           "showland": true,
           "subunitcolor": "white"
          },
          "hoverlabel": {
           "align": "left"
          },
          "hovermode": "closest",
          "mapbox": {
           "style": "light"
          },
          "paper_bgcolor": "white",
          "plot_bgcolor": "#E5ECF6",
          "polar": {
           "angularaxis": {
            "gridcolor": "white",
            "linecolor": "white",
            "ticks": ""
           },
           "bgcolor": "#E5ECF6",
           "radialaxis": {
            "gridcolor": "white",
            "linecolor": "white",
            "ticks": ""
           }
          },
          "scene": {
           "xaxis": {
            "backgroundcolor": "#E5ECF6",
            "gridcolor": "white",
            "gridwidth": 2,
            "linecolor": "white",
            "showbackground": true,
            "ticks": "",
            "zerolinecolor": "white"
           },
           "yaxis": {
            "backgroundcolor": "#E5ECF6",
            "gridcolor": "white",
            "gridwidth": 2,
            "linecolor": "white",
            "showbackground": true,
            "ticks": "",
            "zerolinecolor": "white"
           },
           "zaxis": {
            "backgroundcolor": "#E5ECF6",
            "gridcolor": "white",
            "gridwidth": 2,
            "linecolor": "white",
            "showbackground": true,
            "ticks": "",
            "zerolinecolor": "white"
           }
          },
          "shapedefaults": {
           "line": {
            "color": "#2a3f5f"
           }
          },
          "ternary": {
           "aaxis": {
            "gridcolor": "white",
            "linecolor": "white",
            "ticks": ""
           },
           "baxis": {
            "gridcolor": "white",
            "linecolor": "white",
            "ticks": ""
           },
           "bgcolor": "#E5ECF6",
           "caxis": {
            "gridcolor": "white",
            "linecolor": "white",
            "ticks": ""
           }
          },
          "title": {
           "x": 0.05
          },
          "xaxis": {
           "automargin": true,
           "gridcolor": "white",
           "linecolor": "white",
           "ticks": "",
           "title": {
            "standoff": 15
           },
           "zerolinecolor": "white",
           "zerolinewidth": 2
          },
          "yaxis": {
           "automargin": true,
           "gridcolor": "white",
           "linecolor": "white",
           "ticks": "",
           "title": {
            "standoff": 15
           },
           "zerolinecolor": "white",
           "zerolinewidth": 2
          }
         }
        },
        "title": {
         "text": "Pedal Map"
        },
        "width": 700
       }
      },
      "text/html": "<div>                            <div id=\"dab57a37-42ce-4c0f-8c11-9c040cacd70d\" class=\"plotly-graph-div\" style=\"height:700px; width:700px;\"></div>            <script type=\"text/javascript\">                require([\"plotly\"], function(Plotly) {                    window.PLOTLYENV=window.PLOTLYENV || {};                                    if (document.getElementById(\"dab57a37-42ce-4c0f-8c11-9c040cacd70d\")) {                    Plotly.newPlot(                        \"dab57a37-42ce-4c0f-8c11-9c040cacd70d\",                        [{\"contours\":{\"y\":{\"color\":\"cyan\",\"end\":25,\"show\":true,\"size\":5,\"start\":0},\"z\":{\"color\":\"blue\",\"end\":4600,\"show\":true,\"size\":500,\"start\":-3000}},\"type\":\"surface\",\"x\":[0.0,0.02,0.04,0.08,0.12,0.16,0.2,0.24,0.28,0.32,0.38,0.44,0.5,0.62,0.74,0.86,1.0],\"y\":[0.0,7.0,10.0,15.0,20.0,25.0,30.0,35.0,40.0,45.0,50.0,55.0,60.0,65.0,70.0,75.0,80.0,85.0,90.0,95.0,100.0],\"z\":[[-500.0,-300.0,-138.8888888888889,183.3333333333333,505.55555555555554,827.7777777777776,1150.0,1366.6666666666665,1583.3333333333335,1800.0,2125.0,2450.0,2775.0,3173.64,3572.2799999999997,3970.92,4436.0],[-800.0,-693.4639999999999,-586.9280000000001,-373.85599999999994,-160.784,52.288000000000125,265.3600000000001,478.432,691.5040000000001,904.576,1224.1840000000002,1543.7920000000001,1863.4,2502.616,3141.832,3781.0480000000002,4526.8],[-1000.0,-888.67,-777.34,-554.6800000000001,-332.02,-109.36000000000001,113.30000000000007,335.96000000000004,558.6200000000001,781.2800000000001,1115.27,1449.26,1783.25,2451.23,3119.21,3787.19,4566.5],[-1200.0,-1069.1627906976746,-938.325581395349,-676.6511627906981,-414.976744186047,-153.3023255813954,108.3720930232563,370.0465116279066,631.7209302325582,893.3953488372088,1285.906976744186,1678.4186046511627,2070.9302325581393,2855.953488372093,3640.9767441860463,4426.0,4501.25],[-1300.0,-1150.9,-1001.8,-703.5999999999999,-405.4,-107.19999999999982,191.0,489.20000000000005,787.4000000000002,1085.6000000000001,1532.9,1980.1999999999998,2427.5,3066.666666666667,3705.8333333333335,4345.0,4436.0],[-1300.0,-1171.3255813953492,-1042.651162790698,-785.3023255813955,-527.9534883720935,-270.6046511627907,-13.25581395348786,244.0930232558136,501.4418604651165,758.790697674418,1144.8139534883721,1530.8372093023256,1916.8604651162786,2688.906976744186,3460.9534883720926,4233.0,4436.0],[-1300.0,-1178.8279569892468,-1057.6559139784943,-815.311827956989,-572.9677419354841,-330.62365591397787,-88.27956989247286,154.0645161290322,396.4086021505383,638.7526881720427,1002.2688172043012,1365.7849462365593,1729.301075268817,2456.333333333333,3183.3655913978496,3910.3978494623652,4436.0],[-1500.0,-1381.28,-1262.56,-1025.12,-787.6800000000001,-550.24,-312.79999999999995,-75.36000000000013,162.08000000000015,399.5200000000001,755.6800000000001,1111.8399999999997,1468.0,2180.32,2892.64,3604.96,4436.0],[-1400.0,-1276.3953488372097,-1152.7906976744187,-905.5813953488375,-658.3720930232562,-411.1627906976745,-163.95348837209258,83.2558139534882,330.4651162790699,577.6744186046506,948.4883720930233,1319.3023255813953,1690.1162790697672,2431.7441860465115,3173.3720930232557,3915.0,4286.7],[-1800.0,-1350.0,-1241.7173469387753,-1025.1520408163271,-808.5867346938777,-592.0214285714285,-375.45612244897967,-158.89081632653063,57.67448979591836,274.2397959183677,599.0877551020405,923.9357142857136,1248.7836734693878,1898.479591836735,2548.1755102040815,3197.8714285714286,3955.85],[-1800.0,-1588.13698630137,-1445.3424657534247,-1159.7534246575342,-874.164383561644,-588.5753424657534,-302.98630136986264,-17.39726027397262,229.62295081967235,463.78688524590126,815.032786885246,1166.27868852459,1517.5245901639346,2220.0163934426228,2922.5081967213114,3625.0,3625.0],[-1800.0,-1519.0684931506848,-1376.2739726027398,-1090.6849315068494,-805.0958904109589,-519.5068493150686,-233.91780821917786,51.67123287671234,337.26027397260293,622.8493150684935,1051.232876712329,1479.6164383561647,1908.0,2463.4000000000005,3018.8,3383.0,3300.3333333333335],[-1800.0,-1450.0,-1351.8241758241757,-1155.4725274725274,-959.1208791208791,-762.7692307692307,-566.4175824175824,-370.065934065934,-173.71428571428578,22.637362637362457,317.1648351648349,611.6923076923074,906.21978021978,1495.274725274725,2084.32967032967,2673.3846153846152,2975.666666666667],[-1800.0,-1550.0,-1433.2999999999995,-1199.8999999999999,-966.4999999999998,-733.0999999999998,-499.70000000000005,-266.30000000000007,-32.899999999999864,200.50000000000023,550.6,900.7,1250.8000000000002,1951.0000000000002,2651.2,2651.1076923076926,2651.0],[-1800.0,-1680.6783783783785,-1561.3567567567568,-1322.7135135135136,-1084.0702702702704,-845.427027027027,-606.7837837837837,-368.14054054054066,-129.49729729729722,109.14594594594621,467.1108108108107,825.0756756756758,1183.0405405405404,1898.9702702702705,2614.9,2642.4076923076923,2674.5],[-1600.0,-1502.6200000000003,-1405.2400000000002,-1210.4799999999998,-1015.7200000000004,-820.9599999999998,-626.2000000000002,-431.44000000000017,-236.68000000000012,-41.920000000000016,250.22000000000014,542.3599999999999,834.5000000000001,1418.7800000000002,2003.06,2251.092,2504.7999999999997],[-1400.0,-1200.0,-1000.0,-788.7826086956524,-577.5652173913046,-366.3478260869564,-155.1304347826087,56.08695652173901,267.3043478260871,478.52173913043475,795.3478260869564,1112.1739130434783,1429.0,1646.4640000000002,1863.9279999999999,2081.392,2335.1000000000004],[-1100.0,-950.0,-800.0,-649.2765957446812,-498.55319148936206,-347.8297872340423,-197.10638297872393,-46.38297872340419,104.34042553191489,255.06382978723394,481.14893617021266,707.2340425531913,933.3191489361702,1385.4893617021278,1694.228,1911.692,2165.3999999999996],[-799.9999999999997,-749.4999999999997,-698.9999999999994,-597.9999999999999,-496.99999999999966,-395.99999999999966,-294.9999999999998,-193.99999999999983,-92.99999999999966,8.000000000000341,159.50000000000006,311.00000000000017,462.5000000000001,889.8085106382979,1341.9787234042553,1741.9920000000002,1995.7000000000003],[-700.0,-649.48,-598.9599999999999,-497.9200000000001,-396.88,-295.8399999999999,-194.80000000000007,-93.75999999999999,7.28000000000003,108.32000000000022,259.88,411.4399999999999,563.0,866.1199999999999,1169.24,1472.36,1826.0],[-600.0,-550.0,-492.8888888888889,-378.6666666666667,-264.44444444444446,-150.22222222222226,-36.0,449.0,546.523076923077,644.046153846154,790.3307692307693,936.6153846153848,1082.9,1375.45,1668.0,1741.1999999999998,1826.6]]},{\"type\":\"surface\",\"x\":[0.0,0.02,0.04,0.08,0.12,0.16,0.2,0.24,0.28,0.32,0.38,0.44,0.5,0.62,0.74,0.86,1.0],\"y\":[0.0,7.0,10.0,15.0,20.0,25.0,30.0,35.0,40.0,45.0,50.0,55.0,60.0,65.0,70.0,75.0,80.0,85.0,90.0,95.0,100.0],\"z\":[[0.0,0.0,0.0,0.0,0.0,0.0,0.0,0.0,0.0,0.0,0.0,0.0,0.0,0.0,0.0,0.0,0.0],[0.0,0.0,0.0,0.0,0.0,0.0,0.0,0.0,0.0,0.0,0.0,0.0,0.0,0.0,0.0,0.0,0.0],[0.0,0.0,0.0,0.0,0.0,0.0,0.0,0.0,0.0,0.0,0.0,0.0,0.0,0.0,0.0,0.0,0.0],[0.0,0.0,0.0,0.0,0.0,0.0,0.0,0.0,0.0,0.0,0.0,0.0,0.0,0.0,0.0,0.0,0.0],[0.0,0.0,0.0,0.0,0.0,0.0,0.0,0.0,0.0,0.0,0.0,0.0,0.0,0.0,0.0,0.0,0.0],[0.0,0.0,0.0,0.0,0.0,0.0,0.0,0.0,0.0,0.0,0.0,0.0,0.0,0.0,0.0,0.0,0.0],[0.0,0.0,0.0,0.0,0.0,0.0,0.0,0.0,0.0,0.0,0.0,0.0,0.0,0.0,0.0,0.0,0.0],[0.0,0.0,0.0,0.0,0.0,0.0,0.0,0.0,0.0,0.0,0.0,0.0,0.0,0.0,0.0,0.0,0.0],[0.0,0.0,0.0,0.0,0.0,0.0,0.0,0.0,0.0,0.0,0.0,0.0,0.0,0.0,0.0,0.0,0.0],[0.0,0.0,0.0,0.0,0.0,0.0,0.0,0.0,0.0,0.0,0.0,0.0,0.0,0.0,0.0,0.0,0.0],[0.0,0.0,0.0,0.0,0.0,0.0,0.0,0.0,0.0,0.0,0.0,0.0,0.0,0.0,0.0,0.0,0.0],[0.0,0.0,0.0,0.0,0.0,0.0,0.0,0.0,0.0,0.0,0.0,0.0,0.0,0.0,0.0,0.0,0.0],[0.0,0.0,0.0,0.0,0.0,0.0,0.0,0.0,0.0,0.0,0.0,0.0,0.0,0.0,0.0,0.0,0.0],[0.0,0.0,0.0,0.0,0.0,0.0,0.0,0.0,0.0,0.0,0.0,0.0,0.0,0.0,0.0,0.0,0.0],[0.0,0.0,0.0,0.0,0.0,0.0,0.0,0.0,0.0,0.0,0.0,0.0,0.0,0.0,0.0,0.0,0.0],[0.0,0.0,0.0,0.0,0.0,0.0,0.0,0.0,0.0,0.0,0.0,0.0,0.0,0.0,0.0,0.0,0.0],[0.0,0.0,0.0,0.0,0.0,0.0,0.0,0.0,0.0,0.0,0.0,0.0,0.0,0.0,0.0,0.0,0.0],[0.0,0.0,0.0,0.0,0.0,0.0,0.0,0.0,0.0,0.0,0.0,0.0,0.0,0.0,0.0,0.0,0.0],[0.0,0.0,0.0,0.0,0.0,0.0,0.0,0.0,0.0,0.0,0.0,0.0,0.0,0.0,0.0,0.0,0.0],[0.0,0.0,0.0,0.0,0.0,0.0,0.0,0.0,0.0,0.0,0.0,0.0,0.0,0.0,0.0,0.0,0.0],[0.0,0.0,0.0,0.0,0.0,0.0,0.0,0.0,0.0,0.0,0.0,0.0,0.0,0.0,0.0,0.0,0.0]]}],                        {\"autosize\":false,\"height\":700,\"margin\":{\"b\":65,\"l\":65,\"r\":50,\"t\":90},\"scene\":{\"xaxis\":{\"title\":{\"text\":\"pedal\"}},\"yaxis\":{\"title\":{\"text\":\"velocity\"}},\"zaxis\":{\"title\":{\"text\":\"torque\"}}},\"template\":{\"data\":{\"bar\":[{\"error_x\":{\"color\":\"#2a3f5f\"},\"error_y\":{\"color\":\"#2a3f5f\"},\"marker\":{\"line\":{\"color\":\"#E5ECF6\",\"width\":0.5},\"pattern\":{\"fillmode\":\"overlay\",\"size\":10,\"solidity\":0.2}},\"type\":\"bar\"}],\"barpolar\":[{\"marker\":{\"line\":{\"color\":\"#E5ECF6\",\"width\":0.5},\"pattern\":{\"fillmode\":\"overlay\",\"size\":10,\"solidity\":0.2}},\"type\":\"barpolar\"}],\"carpet\":[{\"aaxis\":{\"endlinecolor\":\"#2a3f5f\",\"gridcolor\":\"white\",\"linecolor\":\"white\",\"minorgridcolor\":\"white\",\"startlinecolor\":\"#2a3f5f\"},\"baxis\":{\"endlinecolor\":\"#2a3f5f\",\"gridcolor\":\"white\",\"linecolor\":\"white\",\"minorgridcolor\":\"white\",\"startlinecolor\":\"#2a3f5f\"},\"type\":\"carpet\"}],\"choropleth\":[{\"colorbar\":{\"outlinewidth\":0,\"ticks\":\"\"},\"type\":\"choropleth\"}],\"contour\":[{\"colorbar\":{\"outlinewidth\":0,\"ticks\":\"\"},\"colorscale\":[[0.0,\"#0d0887\"],[0.1111111111111111,\"#46039f\"],[0.2222222222222222,\"#7201a8\"],[0.3333333333333333,\"#9c179e\"],[0.4444444444444444,\"#bd3786\"],[0.5555555555555556,\"#d8576b\"],[0.6666666666666666,\"#ed7953\"],[0.7777777777777778,\"#fb9f3a\"],[0.8888888888888888,\"#fdca26\"],[1.0,\"#f0f921\"]],\"type\":\"contour\"}],\"contourcarpet\":[{\"colorbar\":{\"outlinewidth\":0,\"ticks\":\"\"},\"type\":\"contourcarpet\"}],\"heatmap\":[{\"colorbar\":{\"outlinewidth\":0,\"ticks\":\"\"},\"colorscale\":[[0.0,\"#0d0887\"],[0.1111111111111111,\"#46039f\"],[0.2222222222222222,\"#7201a8\"],[0.3333333333333333,\"#9c179e\"],[0.4444444444444444,\"#bd3786\"],[0.5555555555555556,\"#d8576b\"],[0.6666666666666666,\"#ed7953\"],[0.7777777777777778,\"#fb9f3a\"],[0.8888888888888888,\"#fdca26\"],[1.0,\"#f0f921\"]],\"type\":\"heatmap\"}],\"heatmapgl\":[{\"colorbar\":{\"outlinewidth\":0,\"ticks\":\"\"},\"colorscale\":[[0.0,\"#0d0887\"],[0.1111111111111111,\"#46039f\"],[0.2222222222222222,\"#7201a8\"],[0.3333333333333333,\"#9c179e\"],[0.4444444444444444,\"#bd3786\"],[0.5555555555555556,\"#d8576b\"],[0.6666666666666666,\"#ed7953\"],[0.7777777777777778,\"#fb9f3a\"],[0.8888888888888888,\"#fdca26\"],[1.0,\"#f0f921\"]],\"type\":\"heatmapgl\"}],\"histogram\":[{\"marker\":{\"pattern\":{\"fillmode\":\"overlay\",\"size\":10,\"solidity\":0.2}},\"type\":\"histogram\"}],\"histogram2d\":[{\"colorbar\":{\"outlinewidth\":0,\"ticks\":\"\"},\"colorscale\":[[0.0,\"#0d0887\"],[0.1111111111111111,\"#46039f\"],[0.2222222222222222,\"#7201a8\"],[0.3333333333333333,\"#9c179e\"],[0.4444444444444444,\"#bd3786\"],[0.5555555555555556,\"#d8576b\"],[0.6666666666666666,\"#ed7953\"],[0.7777777777777778,\"#fb9f3a\"],[0.8888888888888888,\"#fdca26\"],[1.0,\"#f0f921\"]],\"type\":\"histogram2d\"}],\"histogram2dcontour\":[{\"colorbar\":{\"outlinewidth\":0,\"ticks\":\"\"},\"colorscale\":[[0.0,\"#0d0887\"],[0.1111111111111111,\"#46039f\"],[0.2222222222222222,\"#7201a8\"],[0.3333333333333333,\"#9c179e\"],[0.4444444444444444,\"#bd3786\"],[0.5555555555555556,\"#d8576b\"],[0.6666666666666666,\"#ed7953\"],[0.7777777777777778,\"#fb9f3a\"],[0.8888888888888888,\"#fdca26\"],[1.0,\"#f0f921\"]],\"type\":\"histogram2dcontour\"}],\"mesh3d\":[{\"colorbar\":{\"outlinewidth\":0,\"ticks\":\"\"},\"type\":\"mesh3d\"}],\"parcoords\":[{\"line\":{\"colorbar\":{\"outlinewidth\":0,\"ticks\":\"\"}},\"type\":\"parcoords\"}],\"pie\":[{\"automargin\":true,\"type\":\"pie\"}],\"scatter\":[{\"marker\":{\"colorbar\":{\"outlinewidth\":0,\"ticks\":\"\"}},\"type\":\"scatter\"}],\"scatter3d\":[{\"line\":{\"colorbar\":{\"outlinewidth\":0,\"ticks\":\"\"}},\"marker\":{\"colorbar\":{\"outlinewidth\":0,\"ticks\":\"\"}},\"type\":\"scatter3d\"}],\"scattercarpet\":[{\"marker\":{\"colorbar\":{\"outlinewidth\":0,\"ticks\":\"\"}},\"type\":\"scattercarpet\"}],\"scattergeo\":[{\"marker\":{\"colorbar\":{\"outlinewidth\":0,\"ticks\":\"\"}},\"type\":\"scattergeo\"}],\"scattergl\":[{\"marker\":{\"colorbar\":{\"outlinewidth\":0,\"ticks\":\"\"}},\"type\":\"scattergl\"}],\"scattermapbox\":[{\"marker\":{\"colorbar\":{\"outlinewidth\":0,\"ticks\":\"\"}},\"type\":\"scattermapbox\"}],\"scatterpolar\":[{\"marker\":{\"colorbar\":{\"outlinewidth\":0,\"ticks\":\"\"}},\"type\":\"scatterpolar\"}],\"scatterpolargl\":[{\"marker\":{\"colorbar\":{\"outlinewidth\":0,\"ticks\":\"\"}},\"type\":\"scatterpolargl\"}],\"scatterternary\":[{\"marker\":{\"colorbar\":{\"outlinewidth\":0,\"ticks\":\"\"}},\"type\":\"scatterternary\"}],\"surface\":[{\"colorbar\":{\"outlinewidth\":0,\"ticks\":\"\"},\"colorscale\":[[0.0,\"#0d0887\"],[0.1111111111111111,\"#46039f\"],[0.2222222222222222,\"#7201a8\"],[0.3333333333333333,\"#9c179e\"],[0.4444444444444444,\"#bd3786\"],[0.5555555555555556,\"#d8576b\"],[0.6666666666666666,\"#ed7953\"],[0.7777777777777778,\"#fb9f3a\"],[0.8888888888888888,\"#fdca26\"],[1.0,\"#f0f921\"]],\"type\":\"surface\"}],\"table\":[{\"cells\":{\"fill\":{\"color\":\"#EBF0F8\"},\"line\":{\"color\":\"white\"}},\"header\":{\"fill\":{\"color\":\"#C8D4E3\"},\"line\":{\"color\":\"white\"}},\"type\":\"table\"}]},\"layout\":{\"annotationdefaults\":{\"arrowcolor\":\"#2a3f5f\",\"arrowhead\":0,\"arrowwidth\":1},\"autotypenumbers\":\"strict\",\"coloraxis\":{\"colorbar\":{\"outlinewidth\":0,\"ticks\":\"\"}},\"colorscale\":{\"diverging\":[[0,\"#8e0152\"],[0.1,\"#c51b7d\"],[0.2,\"#de77ae\"],[0.3,\"#f1b6da\"],[0.4,\"#fde0ef\"],[0.5,\"#f7f7f7\"],[0.6,\"#e6f5d0\"],[0.7,\"#b8e186\"],[0.8,\"#7fbc41\"],[0.9,\"#4d9221\"],[1,\"#276419\"]],\"sequential\":[[0.0,\"#0d0887\"],[0.1111111111111111,\"#46039f\"],[0.2222222222222222,\"#7201a8\"],[0.3333333333333333,\"#9c179e\"],[0.4444444444444444,\"#bd3786\"],[0.5555555555555556,\"#d8576b\"],[0.6666666666666666,\"#ed7953\"],[0.7777777777777778,\"#fb9f3a\"],[0.8888888888888888,\"#fdca26\"],[1.0,\"#f0f921\"]],\"sequentialminus\":[[0.0,\"#0d0887\"],[0.1111111111111111,\"#46039f\"],[0.2222222222222222,\"#7201a8\"],[0.3333333333333333,\"#9c179e\"],[0.4444444444444444,\"#bd3786\"],[0.5555555555555556,\"#d8576b\"],[0.6666666666666666,\"#ed7953\"],[0.7777777777777778,\"#fb9f3a\"],[0.8888888888888888,\"#fdca26\"],[1.0,\"#f0f921\"]]},\"colorway\":[\"#636efa\",\"#EF553B\",\"#00cc96\",\"#ab63fa\",\"#FFA15A\",\"#19d3f3\",\"#FF6692\",\"#B6E880\",\"#FF97FF\",\"#FECB52\"],\"font\":{\"color\":\"#2a3f5f\"},\"geo\":{\"bgcolor\":\"white\",\"lakecolor\":\"white\",\"landcolor\":\"#E5ECF6\",\"showlakes\":true,\"showland\":true,\"subunitcolor\":\"white\"},\"hoverlabel\":{\"align\":\"left\"},\"hovermode\":\"closest\",\"mapbox\":{\"style\":\"light\"},\"paper_bgcolor\":\"white\",\"plot_bgcolor\":\"#E5ECF6\",\"polar\":{\"angularaxis\":{\"gridcolor\":\"white\",\"linecolor\":\"white\",\"ticks\":\"\"},\"bgcolor\":\"#E5ECF6\",\"radialaxis\":{\"gridcolor\":\"white\",\"linecolor\":\"white\",\"ticks\":\"\"}},\"scene\":{\"xaxis\":{\"backgroundcolor\":\"#E5ECF6\",\"gridcolor\":\"white\",\"gridwidth\":2,\"linecolor\":\"white\",\"showbackground\":true,\"ticks\":\"\",\"zerolinecolor\":\"white\"},\"yaxis\":{\"backgroundcolor\":\"#E5ECF6\",\"gridcolor\":\"white\",\"gridwidth\":2,\"linecolor\":\"white\",\"showbackground\":true,\"ticks\":\"\",\"zerolinecolor\":\"white\"},\"zaxis\":{\"backgroundcolor\":\"#E5ECF6\",\"gridcolor\":\"white\",\"gridwidth\":2,\"linecolor\":\"white\",\"showbackground\":true,\"ticks\":\"\",\"zerolinecolor\":\"white\"}},\"shapedefaults\":{\"line\":{\"color\":\"#2a3f5f\"}},\"ternary\":{\"aaxis\":{\"gridcolor\":\"white\",\"linecolor\":\"white\",\"ticks\":\"\"},\"baxis\":{\"gridcolor\":\"white\",\"linecolor\":\"white\",\"ticks\":\"\"},\"bgcolor\":\"#E5ECF6\",\"caxis\":{\"gridcolor\":\"white\",\"linecolor\":\"white\",\"ticks\":\"\"}},\"title\":{\"x\":0.05},\"xaxis\":{\"automargin\":true,\"gridcolor\":\"white\",\"linecolor\":\"white\",\"ticks\":\"\",\"title\":{\"standoff\":15},\"zerolinecolor\":\"white\",\"zerolinewidth\":2},\"yaxis\":{\"automargin\":true,\"gridcolor\":\"white\",\"linecolor\":\"white\",\"ticks\":\"\",\"title\":{\"standoff\":15},\"zerolinecolor\":\"white\",\"zerolinewidth\":2}}},\"title\":{\"text\":\"Pedal Map\"},\"width\":700},                        {\"responsive\": true}                    ).then(function(){\n                            \nvar gd = document.getElementById('dab57a37-42ce-4c0f-8c11-9c040cacd70d');\nvar x = new MutationObserver(function (mutations, observer) {{\n        var display = window.getComputedStyle(gd).display;\n        if (!display || display === 'none') {{\n            console.log([gd, 'removed!']);\n            Plotly.purge(gd);\n            observer.disconnect();\n        }}\n}});\n\n// Listen for the removal of the full notebook cells\nvar notebookContainer = gd.closest('#notebook-container');\nif (notebookContainer) {{\n    x.observe(notebookContainer, {childList: true});\n}}\n\n// Listen for the clearing of the current output cell\nvar outputEl = gd.closest('.output');\nif (outputEl) {{\n    x.observe(outputEl, {childList: true});\n}}\n\n                        })                };                });            </script>        </div>"
     },
     "metadata": {},
     "output_type": "display_data"
    }
   ],
   "source": [
    "z0 = np.zeros(zr.shape)\n",
    "figure4 = go.Figure(data=[\n",
    "    go.Surface(\n",
    "        contours = {\n",
    "            \"y\": {\"show\": True, \"start\":0, \"end\":25, \"size\":5, \"color\":\"cyan\"},\n",
    "            \"z\": {\"show\": True, \"start\":-3000, \"end\":4600, \"size\":500, \"color\":\"blue\"}\n",
    "        },\n",
    "        x=ped,\n",
    "        y=vel,\n",
    "        z=zr),\n",
    "    go.Surface(x=ped,y=vel,z=z0)\n",
    "]\n",
    ")\n",
    "# figure.update_traces(contours_z=dict(show=True, usecolormap=True,\n",
    "#                                   highlightcolor=\"limegreen\", project_z=True))\n",
    "figure4.update_layout(title='Pedal Map', autosize=False,\n",
    "                      scene=dict(\n",
    "                          xaxis_title='pedal',\n",
    "                          yaxis_title='velocity',\n",
    "                          zaxis_title='torque'),\n",
    "                      width=700, height=700,\n",
    "                      margin=dict(l=65,r=50,b=65,t=90))\n",
    "# figure0.add_trace(go.Surface(x=x,y=y,z=z0, surfacecolor=np.ones(z0.shape)))\n",
    "figure4.show()\n"
   ],
   "metadata": {
    "collapsed": false,
    "pycharm": {
     "name": "#%%\n"
    }
   }
  },
  {
   "cell_type": "code",
   "execution_count": 84,
   "outputs": [],
   "source": [
    "# plot the generated meshgrid as 3d scatter plot\n",
    "# import matplotlib.pyplot as plt\n",
    "# from  mpl_toolkits.mplot3d import Axes3D\n",
    "# fig3 = plt.figure()\n",
    "# ax = fig3.add_subplot(111, projection='3d')\n",
    "#\n",
    "# ax.scatter(r[:, 0], r[:,1], r[:,2], marker='o')\n",
    "# ax.set_xlabel('pedal')\n",
    "# ax.set_ylabel('velocity')\n",
    "# ax.set_zlabel('torque')\n",
    "# fig3.show()\n",
    "\n",
    "\n"
   ],
   "metadata": {
    "collapsed": false,
    "pycharm": {
     "name": "#%%\n"
    }
   }
  }
 ],
 "metadata": {
  "kernelspec": {
   "display_name": "Python 3",
   "language": "python",
   "name": "python3"
  },
  "language_info": {
   "codemirror_mode": {
    "name": "ipython",
    "version": 2
   },
   "file_extension": ".py",
   "mimetype": "text/x-python",
   "name": "python",
   "nbconvert_exporter": "python",
   "pygments_lexer": "ipython2",
   "version": "2.7.6"
  }
 },
 "nbformat": 4,
 "nbformat_minor": 0
}